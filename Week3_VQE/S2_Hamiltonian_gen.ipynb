{
 "cells": [
  {
   "cell_type": "markdown",
   "source": [
    "# Generating Qubit Hamiltonians"
   ],
   "metadata": {}
  },
  {
   "cell_type": "code",
   "execution_count": 1,
   "source": [
    "from utility import *\n",
    "import numpy as np "
   ],
   "outputs": [],
   "metadata": {}
  },
  {
   "cell_type": "markdown",
   "source": [
    "Specify the Qubit Hamiltonian of a molecule by its name, internuclear distances, basis set, and fermion-to-qubit transformation.\n",
    "Here, we show the resulting Hamiltonian for $H_2$ in STO-3G with $1\\overset{\\circ}{A}$ between the $H$ atoms. "
   ],
   "metadata": {}
  },
  {
   "cell_type": "code",
   "execution_count": 2,
   "source": [
    "qubit_transf = 'jw' # Jordan-Wigner transformations\n",
    "h2 = get_qubit_hamiltonian(mol='h2', geometry=1, basis='sto3g', qubit_transf=qubit_transf)\n",
    "print(\"H:\\n{}\".format(h2))"
   ],
   "outputs": [
    {
     "output_type": "stream",
     "name": "stdout",
     "text": [
      "H:\n",
      "-0.32760818967480887 [] +\n",
      "-0.04919764587136755 [X0 X1 Y2 Y3] +\n",
      "0.04919764587136755 [X0 Y1 Y2 X3] +\n",
      "0.04919764587136755 [Y0 X1 X2 Y3] +\n",
      "-0.04919764587136755 [Y0 Y1 X2 X3] +\n",
      "0.13716572937099497 [Z0] +\n",
      "0.15660062488237947 [Z0 Z1] +\n",
      "0.10622904490856075 [Z0 Z2] +\n",
      "0.15542669077992832 [Z0 Z3] +\n",
      "0.13716572937099492 [Z1] +\n",
      "0.15542669077992832 [Z1 Z2] +\n",
      "0.10622904490856075 [Z1 Z3] +\n",
      "-0.13036292057109117 [Z2] +\n",
      "0.16326768673564346 [Z2 Z3] +\n",
      "-0.13036292057109117 [Z3]\n"
     ]
    }
   ],
   "metadata": {
    "tags": []
   }
  },
  {
   "cell_type": "markdown",
   "source": [
    "This Qubit Hamiltonian encodes all of the $2^N$ eigenstates and eigenenergies, where $N=4$ is the number of qubits. \n",
    "In principle, one can represent the Hamiltonian as a matrix with $2^N$ dimensions and find the eigenvalues classically through diagonalization, but the cost of this approach clearly grows exponentially with $N$. \n",
    "\n",
    "Still, we can check that this approach indeed recovers the ground state energy against method in S1. "
   ],
   "metadata": {}
  },
  {
   "cell_type": "code",
   "execution_count": 3,
   "source": [
    "# Defining pauli matrices \n",
    "I, X, Y, Z = np.identity(2), np.array([[0, 1], [1, 0]]), np.array([[0, -1j], [1j, 0]]), np.array([[1, 0], [0, -1]])\n",
    "\n",
    "# Build matrix representiation of the Hamiltonian H\n",
    "n_qubits = openfermion.count_qubits(h2)\n",
    "h2_matrix = np.zeros((2**n_qubits, 2**n_qubits), dtype=np.complex)\n",
    "for term, term_coeff in h2.terms.items(): # Iterate over pauli-words of H\n",
    "    term = dict(term) # Dict[qubit_index, 'X'/'Y'/'Z']\n",
    "    \n",
    "    # Build matrix rep of current pauli-word using kronecker product to represent x_i y_j ...\n",
    "    pw_matrix = np.identity(1)\n",
    "    for i in range(n_qubits):\n",
    "        if i not in term:        pw_matrix = np.kron(pw_matrix, I)\n",
    "        else:\n",
    "            if term[i] == 'X':   pw_matrix = np.kron(pw_matrix, X)\n",
    "            elif term[i] == 'Y': pw_matrix = np.kron(pw_matrix, Y)\n",
    "            else:                pw_matrix = np.kron(pw_matrix, Z)\n",
    "    h2_matrix += pw_matrix * term_coeff\n",
    "\n",
    "eigvals, _ = np.linalg.eigh(h2_matrix)\n",
    "print(\"The ground state energy from S1: \")\n",
    "obtain_PES('h2', [1], 'sto-3g', 'fci')\n",
    "print(\"\\nThe eigenvalues in the matrix representation of Hamiltonian: \\n{}\".format(eigvals))"
   ],
   "outputs": [
    {
     "output_type": "stream",
     "name": "stdout",
     "text": [
      "The ground state energy from S1: \n",
      "E = -1.1011503301329564 Eh\n",
      "\n",
      "The eigenvalues in the matrix representation of Hamiltonian: \n",
      "[-1.10115033 -0.74587179 -0.74587179 -0.74587179 -0.60860671 -0.60860671\n",
      " -0.58166697 -0.58166697 -0.35229063 -0.06021529 -0.06021529 -0.05994379\n",
      " -0.05994379  0.03904763  0.50196598  0.52917721]\n"
     ]
    }
   ],
   "metadata": {}
  },
  {
   "cell_type": "markdown",
   "source": [
    "Alternatively, the qubit-tapering technique can find a smaller effective Hamitlonian by subsitituting operators with $\\pm 1$. This technique is detailed in Bravyi's work ([Bravyi et al., \"Tapering off qubits to simulate fermionic Hamiltonians\", arXiv:1701.08213](https://arxiv.org/abs/1701.08213)). "
   ],
   "metadata": {}
  },
  {
   "cell_type": "code",
   "execution_count": 4,
   "source": [
    "print(\"The effective Hamiltonian:\\n {}\".format(taper_hamiltonian(h2, n_spin_orbitals=4, n_electrons=2, qubit_transf=qubit_transf))) "
   ],
   "outputs": [
    {
     "output_type": "stream",
     "name": "stdout",
     "text": [
      "The effective Hamiltonian:\n",
      " -0.5310513494337641 [] +\n",
      "0.1967905834854702 [X0] +\n",
      "-0.5350572998841723 [Z0]\n"
     ]
    }
   ],
   "metadata": {
    "tags": []
   }
  },
  {
   "cell_type": "markdown",
   "source": [
    "We can verify that this new Hamiltonian still encodes the ground state energy. "
   ],
   "metadata": {}
  },
  {
   "cell_type": "code",
   "execution_count": 5,
   "source": [
    "# Building the matrix representation of the effective Hamiltonian\n",
    "h2_matrix = -0.53105134 * I + 0.19679058 * X - 0.53505729 * Z\n",
    "\n",
    "# Obtain the eigenvalues\n",
    "eigvals, _ = np.linalg.eigh(h2_matrix)\n",
    "print(\"The eigenvalues in the effective Hamiltonian: \\n {}\".format(eigvals))"
   ],
   "outputs": [
    {
     "output_type": "stream",
     "name": "stdout",
     "text": [
      "The eigenvalues in the effective Hamiltonian: \n",
      " [-1.10115031  0.03904763]\n"
     ]
    }
   ],
   "metadata": {
    "tags": []
   }
  }
 ],
 "metadata": {
  "kernelspec": {
   "display_name": "qchem",
   "language": "python",
   "name": "qchem"
  },
  "language_info": {
   "codemirror_mode": {
    "name": "ipython",
    "version": 3
   },
   "file_extension": ".py",
   "mimetype": "text/x-python",
   "name": "python",
   "nbconvert_exporter": "python",
   "pygments_lexer": "ipython3",
   "version": "3.7.1-final"
  }
 },
 "nbformat": 4,
 "nbformat_minor": 2
}