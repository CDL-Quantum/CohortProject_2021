{
 "cells": [
  {
   "cell_type": "markdown",
   "metadata": {},
   "source": [
    "# Generating Qubit Hamiltonians"
   ]
  },
  {
   "cell_type": "code",
   "execution_count": 2,
   "metadata": {},
   "outputs": [],
   "source": [
    "from utility import *\n",
    "import numpy as np "
   ]
  },
  {
   "cell_type": "markdown",
   "metadata": {},
   "source": [
    "Specify the Qubit Hamiltonian of a molecule by its name, internuclear distances, basis set, and fermion-to-qubit transformation.\n",
    "Here, we show the resulting Hamiltonian for $H_2$ in STO-3G with $1\\overset{\\circ}{A}$ between the $H$ atoms. "
   ]
  },
  {
   "cell_type": "markdown",
   "metadata": {},
   "source": [
    "Testing Molecules:\n",
    "\n",
    "1. H2\n",
    "2. H4\n",
    "3. LiH\n",
    "4. H20\n",
    "5. N2"
   ]
  },
  {
   "cell_type": "code",
   "execution_count": 16,
   "metadata": {
    "tags": []
   },
   "outputs": [
    {
     "name": "stdout",
     "output_type": "stream",
     "text": [
      "H2 qubit count: 4\n",
      "H4 qubit count: 8\n",
      "LiH qubit count: 12\n",
      "H20 qubit count: 14\n",
      "N2 qubit count: 20\n"
     ]
    }
   ],
   "source": [
    "qubit_transf = 'jw' # Jordan-Wigner transformations\n",
    "h2 = get_qubit_hamiltonian(mol='h2', geometry=1, basis='sto3g', qubit_transf=qubit_transf)\n",
    "h4 = get_qubit_hamiltonian(mol='h4', geometry=1, basis='sto3g', qubit_transf=qubit_transf)\n",
    "lih = get_qubit_hamiltonian(mol='lih', geometry=1, basis='sto3g', qubit_transf=qubit_transf)\n",
    "h2o = get_qubit_hamiltonian(mol='h2o', geometry=1, basis='sto3g', qubit_transf=qubit_transf)\n",
    "n2 = get_qubit_hamiltonian(mol='n2', geometry=1, basis='sto3g', qubit_transf=qubit_transf)\n",
    "\n",
    "molecular_h = [h2, h4, lih, h2, n2]\n",
    "print(f\"H2 qubit count: {openfermion.count_qubits(h2)}\")\n",
    "print(f\"H4 qubit count: {openfermion.count_qubits(h4)}\")\n",
    "print(f\"LiH qubit count: {openfermion.count_qubits(lih)}\")\n",
    "print(f\"H20 qubit count: {openfermion.count_qubits(h2o)}\")\n",
    "print(f\"N2 qubit count: {openfermion.count_qubits(n2)}\")"
   ]
  },
  {
   "cell_type": "markdown",
   "metadata": {},
   "source": [
    "This Qubit Hamiltonian encodes all of the $2^N$ eigenstates and eigenenergies, where $N=4$ is the number of qubits. \n",
    "In principle, one can represent the Hamiltonian as a matrix with $2^N$ dimensions and find the eigenvalues classically through diagonalization, but the cost of this approach clearly grows exponentially with $N$. \n",
    "\n",
    "Still, we can check that this approach indeed recovers the ground state energy against method in S1. "
   ]
  },
  {
   "cell_type": "code",
   "execution_count": 9,
   "metadata": {},
   "outputs": [
    {
     "name": "stdout",
     "output_type": "stream",
     "text": [
      "The ground state energy from S1: \n",
      "E = -1.1011503301329564 Eh\n",
      "\n",
      "The eigenvalues in the matrix representation of Hamiltonian: \n",
      "[-1.10115033 -0.74587179 -0.74587179 -0.74587179 -0.60860671 -0.60860671\n",
      " -0.58166697 -0.58166697 -0.35229063 -0.06021529 -0.06021529 -0.05994379\n",
      " -0.05994379  0.03904763  0.50196598  0.52917721]\n"
     ]
    }
   ],
   "source": [
    "# Defining pauli matrices \n",
    "I, X, Y, Z = np.identity(2), np.array([[0, 1], [1, 0]]), np.array([[0, -1j], [1j, 0]]), np.array([[1, 0], [0, -1]])\n",
    "\n",
    "# Build matrix representiation of the Hamiltonian H\n",
    "n_qubits = openfermion.count_qubits(h2)\n",
    "h2_matrix = np.zeros((2**n_qubits, 2**n_qubits), dtype=np.complex)\n",
    "for term, term_coeff in h2.terms.items(): # Iterate over pauli-words of H\n",
    "    term = dict(term) # Dict[qubit_index, 'X'/'Y'/'Z']\n",
    "    \n",
    "    # Build matrix rep of current pauli-word using kronecker product to represent x_i y_j ...\n",
    "    pw_matrix = np.identity(1)\n",
    "    for i in range(n_qubits):\n",
    "        if i not in term:        pw_matrix = np.kron(pw_matrix, I)\n",
    "        else:\n",
    "            if term[i] == 'X':   pw_matrix = np.kron(pw_matrix, X)\n",
    "            elif term[i] == 'Y': pw_matrix = np.kron(pw_matrix, Y)\n",
    "            else:                pw_matrix = np.kron(pw_matrix, Z)\n",
    "    h2_matrix += pw_matrix * term_coeff\n",
    "\n",
    "eigvals, _ = np.linalg.eigh(h2_matrix)\n",
    "print(\"The ground state energy from S1: \")\n",
    "obtain_PES('h2', [1], 'sto-3g', 'fci')\n",
    "print(\"\\nThe eigenvalues in the matrix representation of Hamiltonian: \\n{}\".format(eigvals))"
   ]
  },
  {
   "cell_type": "markdown",
   "metadata": {},
   "source": [
    "Alternatively, the qubit-tapering technique can find a smaller effective Hamitlonian by subsitituting operators with $\\pm 1$. This technique is detailed in Bravyi's work ([Bravyi et al., \"Tapering off qubits to simulate fermionic Hamiltonians\", arXiv:1701.08213](https://arxiv.org/abs/1701.08213)). "
   ]
  },
  {
   "cell_type": "code",
   "execution_count": 4,
   "metadata": {
    "tags": []
   },
   "outputs": [
    {
     "name": "stdout",
     "output_type": "stream",
     "text": [
      "The effective Hamiltonian:\n",
      " -0.5310513494337641 [] +\n",
      "0.1967905834854702 [X0] +\n",
      "-0.5350572998841725 [Z0]\n"
     ]
    }
   ],
   "source": [
    "print(\"The effective Hamiltonian:\\n {}\".format(taper_hamiltonian(h2, n_spin_orbitals=4, n_electrons=2, qubit_transf=qubit_transf))) "
   ]
  },
  {
   "cell_type": "markdown",
   "metadata": {},
   "source": [
    "We can verify that this new Hamiltonian still encodes the ground state energy. "
   ]
  },
  {
   "cell_type": "code",
   "execution_count": 5,
   "metadata": {
    "tags": []
   },
   "outputs": [
    {
     "name": "stdout",
     "output_type": "stream",
     "text": [
      "The eigenvalues in the effective Hamiltonian: \n",
      " [-1.10115031  0.03904763]\n"
     ]
    }
   ],
   "source": [
    "# Building the matrix representation of the effective Hamiltonian\n",
    "h2_matrix = -0.53105134 * I + 0.19679058 * X - 0.53505729 * Z\n",
    "\n",
    "# Obtain the eigenvalues\n",
    "eigvals, _ = np.linalg.eigh(h2_matrix)\n",
    "print(\"The eigenvalues in the effective Hamiltonian: \\n {}\".format(eigvals))"
   ]
  },
  {
   "cell_type": "code",
   "execution_count": null,
   "metadata": {},
   "outputs": [],
   "source": []
  }
 ],
 "metadata": {
  "kernelspec": {
   "display_name": "brandon",
   "language": "python",
   "name": "brandon"
  },
  "language_info": {
   "codemirror_mode": {
    "name": "ipython",
    "version": 3
   },
   "file_extension": ".py",
   "mimetype": "text/x-python",
   "name": "python",
   "nbconvert_exporter": "python",
   "pygments_lexer": "ipython3",
   "version": "3.7.1"
  }
 },
 "nbformat": 4,
 "nbformat_minor": 2
}
