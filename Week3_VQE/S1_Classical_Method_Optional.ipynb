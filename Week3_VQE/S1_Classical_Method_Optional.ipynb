{
 "cells": [
  {
   "cell_type": "code",
   "execution_count": 1,
   "metadata": {
    "collapsed": true
   },
   "outputs": [],
   "source": [
    "from itertools import product\n",
    "from math import comb\n",
    "import numpy as np\n",
    "\n",
    "from openfermion import MolecularData\n",
    "from openfermionpyscf import run_pyscf\n",
    "from tequila import quantumchemistry\n",
    "from tqdm import tqdm\n",
    "\n",
    "from Week3_VQE.utility import obtain_potential_manual, get_molecular_data\n",
    "import matplotlib.pyplot as plt"
   ]
  },
  {
   "cell_type": "markdown",
   "source": [
    "## Question 2.\n",
    "Q) Optional: There is another division between classical methods, it is based on so-called separability or\n",
    "size-consistency. Simply speaking, if one investigates two molecular fragments (A and B) at a large distance\n",
    "from each other ($ ∼ 100 Å $) then the total electronic energy should be equal to the sum $E_{A+B} = E_A + E_B$,\n",
    "where the energy of each fragment ($E_A$ or $E_B$) can be obtained in a\n",
    "calculation that does not involve the other fragment. If this condition is satisfied for a particular\n",
    "method, this method is separable or size-consistent. Check separability of HF, CISD, and CCSD\n",
    "by taking 2 H2 fragments at a large distance from each other and comparing the total energy with\n",
    "2 energies of one H2 molecule. Explain your results.\n",
    "\n",
    "A)"
   ],
   "metadata": {
    "collapsed": false
   }
  },
  {
   "cell_type": "code",
   "execution_count": 2,
   "outputs": [
    {
     "name": "stdout",
     "output_type": "stream",
     "text": [
      "converged SCF energy = -2.23341227446976\n",
      "converged SCF energy = -2.23341227446976\n",
      "converged SCF energy = -1.1167061372361\n",
      "converged SCF energy = -1.11670613723611\n"
     ]
    },
    {
     "name": "stderr",
     "output_type": "stream",
     "text": [
      "Overwritten attributes  get_ovlp get_hcore  of <class 'pyscf.scf.hf.RHF'>\n"
     ]
    },
    {
     "name": "stdout",
     "output_type": "stream",
     "text": [
      "converged SCF energy = -2.23341227446976\n",
      "converged SCF energy = -2.23341227446976\n",
      "E(RCISD) = -2.274038702335172  E_corr = -0.04062642786541145\n",
      "converged SCF energy = -1.1167061372361\n",
      "converged SCF energy = -1.11670613723611\n",
      "E(RCISD) = -1.137274405529439  E_corr = -0.02056826829333389\n",
      "converged SCF energy = -2.23341227446976\n",
      "E(CCSD) = -2.274549066174261  E_corr = -0.04113679170449999\n",
      "converged SCF energy = -1.1167061372361\n",
      "E(CCSD) = -1.137274570976644  E_corr = -0.0205684337405389\n"
     ]
    }
   ],
   "source": [
    "eq_bond = 0.741\n",
    "len_sep = 100\n",
    "two_H2 = [['H', [0, 0, 0]],\n",
    "          ['H', [0, 0, eq_bond]],\n",
    "          ['H', [0, 0, len_sep]],\n",
    "          ['H', [0, 0, len_sep + eq_bond]]]\n",
    "single_H2 = [['H', [0, 0, 0]],\n",
    "             ['H', [0, 0, eq_bond]]]\n",
    "r = dict()\n",
    "basis = 'sto-3g'\n",
    "for m in ['HF', 'CISD', 'CCSD']:\n",
    "    E_AB = obtain_potential_manual(mol_geometry=two_H2, basis=basis, method=m)\n",
    "    E_A = obtain_potential_manual(mol_geometry=single_H2, basis=basis, method=m)\n",
    "    r.update({m: (E_AB, 2 * E_A)})"
   ],
   "metadata": {
    "collapsed": false,
    "pycharm": {
     "name": "#%%\n"
    }
   }
  },
  {
   "cell_type": "code",
   "execution_count": 3,
   "outputs": [
    {
     "name": "stdout",
     "output_type": "stream",
     "text": [
      "HF    : E_A+B = -2.23341, E_A + E_B = -2.23341, DELTA = 0.00000\n",
      "CISD  : E_A+B = -2.27404, E_A + E_B = -2.27455, DELTA = 0.00051\n",
      "CCSD  : E_A+B = -2.27455, E_A + E_B = -2.27455, DELTA = 0.00000\n"
     ]
    }
   ],
   "source": [
    "for m in ['HF', 'CISD', 'CCSD']:\n",
    "    print(f\"{m.ljust(5, ' ')} : E_A+B = {'%.5f'%r[m][0]}, E_A + E_B = {'%.5f'%r[m][1]}, DELTA = {'%.5f'%(r[m][0] - r[m][1])}\")"
   ],
   "metadata": {
    "collapsed": false,
    "pycharm": {
     "name": "#%%\n"
    }
   }
  },
  {
   "cell_type": "code",
   "execution_count": 4,
   "outputs": [
    {
     "name": "stdout",
     "output_type": "stream",
     "text": [
      "converged SCF energy = -0.592312501742435\n",
      "converged SCF energy = -0.592312501742435\n",
      "converged SCF energy = -0.592312501742435\n",
      "converged SCF energy = -0.592312501742435\n",
      "E(RCISD) = -0.9331637003014024  E_corr = -0.3408511985589673\n",
      "converged SCF energy = -0.592312501742435\n",
      "E(CCSD) = -0.2513958599057796  E_corr = 0.3409166418366554\n"
     ]
    }
   ],
   "source": [
    "len_sep_short = 5.7\n",
    "long_H2 = [['H', [0, 0, 0]],\n",
    "           ['H', [0, 0, len_sep_short]]]\n",
    "single_H = [['H', [0, 0, 0]]]\n",
    "r2 = dict()\n",
    "for m in ['HF', 'CISD', 'CCSD']:\n",
    "    E_AB = obtain_potential_manual(mol_geometry=long_H2, basis=basis, method=m)\n",
    "    E_A = -0.46658185 #obtain_potential_manual(mol_geometry=single_H, basis=basis, method=m, multiplici=0)\n",
    "    r2.update({m: (E_AB, 2 * E_A)})"
   ],
   "metadata": {
    "collapsed": false,
    "pycharm": {
     "name": "#%%\n"
    }
   }
  },
  {
   "cell_type": "code",
   "execution_count": 5,
   "outputs": [
    {
     "name": "stdout",
     "output_type": "stream",
     "text": [
      "HF    : E_A+B = -0.59231, E_A + E_B = -0.93316, DELTA = 0.34085\n",
      "CISD  : E_A+B = -0.93316, E_A + E_B = -0.93316, DELTA = -0.00000\n",
      "CCSD  : E_A+B = -0.25140, E_A + E_B = -0.93316, DELTA = 0.68177\n"
     ]
    }
   ],
   "source": [
    "for m in ['HF', 'CISD', 'CCSD']:\n",
    "    print(f\"{m.ljust(5, ' ')} : E_A+B = {'%.5f'%r2[m][0]}, E_A + E_B = {'%.5f'%r2[m][1]}, DELTA = {'%.5f'%(r2[m][0] - r2[m][1])}\")"
   ],
   "metadata": {
    "collapsed": false,
    "pycharm": {
     "name": "#%%\n"
    }
   }
  },
  {
   "cell_type": "markdown",
   "source": [
    "## Question 3.\n",
    "Q) Optional: If one is interested in converging to the exact non-relativistic electronic energies,\n",
    "there are two independent coordinates: 1) accuracy of accounting for many-body effects beyond\n",
    "the Hartree-Fock method (electronic correlation) and 2) accuracy of representation of one-electron\n",
    "states, or convergence with respect to the one-electron basis size. Convergence along the first\n",
    "coordinate can be illustrated by monitoring reduction of the energy deviations from the Full CI\n",
    "answer in a particular basis set for a series of increasingly accurate approaches, e.g. HF, CCSD,\n",
    "CCSD(T), CCSDT. Convergences along the second coordinate requires the basis set extension from\n",
    "STO3G to a series like cc-pVDZ, cc-pVTZ, cc-pVQZ, cc-pV5Z. Explore for a small system like H2\n",
    "both convergences. Which energies should be expected to be closer to experimentally measured\n",
    "ones?\n",
    "\n",
    "A) By increasing the number of determinants(Accuracy of the method, corresponding to the x-axis in the figure below),\n",
    "or the size of basis set(y-axis) one can approach to the exact solution. These contribute to the completeness of the\n",
    "wave function in the consideration.\n",
    "\n",
    "![convergence.png](./figures/convergence.png)\n",
    "\n",
    "We demonstrate the calculation results showing the convergence."
   ],
   "metadata": {
    "collapsed": false
   }
  },
  {
   "cell_type": "code",
   "execution_count": 6,
   "outputs": [
    {
     "name": "stderr",
     "output_type": "stream",
     "text": [
      "                                             \r"
     ]
    }
   ],
   "source": [
    "def ci_size(_n_elec, _n_orb, level):\n",
    "    _n_spin_orb = 2 * _n_orb\n",
    "    return 1 + sum([comb(_n_elec, i) * comb(_n_spin_orb, i) for i in range(1, level+1)])\n",
    "\n",
    "\n",
    "h4_mol = get_molecular_data(mol='h4', geometry=0.9572, xyz_format=False)\n",
    "basis_set_list  = ['sto-3g', '6-31g', 'cc-pVDZ']#, 'cc-pVQZ']#, 'cc-pV5Z', 'cc-pCVDZ']\n",
    "res = dict()\n",
    "for b in tqdm(basis_set_list) :\n",
    "    mol_data = MolecularData(h4_mol,\n",
    "                             basis=b,\n",
    "                             multiplicity=1,\n",
    "                             charge=0) # quantumchemistry.Molecule(h2_mol, b)\n",
    "    run_pyscf(mol_data, run_scf=True, run_cisd=True, run_fci=(b!='cc_pVQZ'))\n",
    "\n",
    "    n_orb = mol_data.n_orbitals\n",
    "    n_elec = mol_data.n_electrons\n",
    "    n_det = comb(2 * n_orb, n_elec)\n",
    "\n",
    "\n",
    "    res.update({(b, 'HF'):   ((1, n_orb), mol_data.hf_energy),\n",
    "                (b, 'cisd'): ((ci_size(n_elec, n_orb, 1), n_orb), mol_data.cisd_energy),\n",
    "                (b, 'fci'):  ((n_det, n_orb), mol_data.fci_energy)\n",
    "                })"
   ],
   "metadata": {
    "collapsed": false,
    "pycharm": {
     "name": "#%%\n"
    }
   }
  },
  {
   "cell_type": "code",
   "execution_count": 7,
   "outputs": [
    {
     "name": "stdout",
     "output_type": "stream",
     "text": [
      "('sto-3g', 'HF') ((1, 4), -1.7426928841447427)\n",
      "('sto-3g', 'cisd') ((32, 4), -1.8865219605437993)\n",
      "('sto-3g', 'fci') ((70, 4), -1.890606220750684)\n",
      "('6-31g', 'HF') ((1, 8), -1.9020500702620002)\n",
      "('6-31g', 'cisd') ((64, 8), -2.003889661009279)\n",
      "('6-31g', 'fci') ((1820, 8), -2.018092852096738)\n",
      "('cc-pVDZ', 'HF') ((1, 20), -1.9281735485497102)\n",
      "('cc-pVDZ', 'cisd') ((160, 20), -2.0361793523939435)\n",
      "('cc-pVDZ', 'fci') ((91390, 20), -2.072410945155284)\n"
     ]
    }
   ],
   "source": [
    "for b, m in res:\n",
    "    print((b,m), res[(b,m)])\n",
    "\n"
   ],
   "metadata": {
    "collapsed": false,
    "pycharm": {
     "name": "#%%\n"
    }
   }
  },
  {
   "cell_type": "code",
   "execution_count": 8,
   "outputs": [],
   "source": [
    "# fig = plt.figure()\n",
    "# ax1 = fig.add_subplot(111, projection='3d')\n",
    "# num_elements = len(res)\n",
    "# xpos = [res[(b, m)][0][0] for b, m in res]\n",
    "# ypos = [res[(b, m)][0][1] for b, m in res]\n",
    "# zpos = [0 for _ in res]\n",
    "# dx = np.ones(num_elements)\n",
    "# dy = np.ones(num_elements)\n",
    "# dz = [-res[(b, m)][1] for b, m in res]\n",
    "# ax1.bar3d(xpos, ypos, zpos, dx, dy, dz)\n",
    "# plt.show()"
   ],
   "metadata": {
    "collapsed": false,
    "pycharm": {
     "name": "#%%\n"
    }
   }
  },
  {
   "cell_type": "code",
   "execution_count": 19,
   "outputs": [
    {
     "data": {
      "text/plain": "Text(0, 0.5, 'Size of basis set')"
     },
     "execution_count": 19,
     "metadata": {},
     "output_type": "execute_result"
    },
    {
     "data": {
      "text/plain": "<Figure size 432x288 with 1 Axes>",
      "image/png": "[encoded data removed]"
     },
     "metadata": {
      "needs_background": "light"
     },
     "output_type": "display_data"
    }
   ],
   "source": [
    "fig = plt.figure()\n",
    "ax = fig.add_subplot(111)\n",
    "colors = 'rgbk'\n",
    "shapes = 'osP^'\n",
    "max_x = max([res[k][0][0] for k in res])\n",
    "max_y = max([res[k][0][1] for k in res])\n",
    "for b, m in res:\n",
    "    c = colors[basis_set_list.index(b)]\n",
    "    s = shapes[['HF', 'cisd', 'fci'].index(m)]\n",
    "    x, y = res[b,m][0]\n",
    "    e = res[b,m][1]\n",
    "    plt.scatter(x, y, c=c, marker=s, label=' '.join((b,m)))\n",
    "    if (b, m) == ('sto-3g', 'fci') :\n",
    "        plt.text(x, y-1, '%.5f'%e)\n",
    "    else:\n",
    "        plt.text(x, y+1, '%.5f'%e)\n",
    "plt.legend(bbox_to_anchor=(1,1))\n",
    "ax.set_xlim(0.8, max_x*10)\n",
    "ax.set_ylim(0, max_y+3)\n",
    "ax.set_xscale('log')\n",
    "ax.set_xlabel('Number of determinants')\n",
    "ax.set_ylabel('Size of basis set')"
   ],
   "metadata": {
    "collapsed": false,
    "pycharm": {
     "name": "#%%\n"
    }
   }
  }
 ],
 "metadata": {
  "kernelspec": {
   "display_name": "Python 3",
   "language": "python",
   "name": "python3"
  },
  "language_info": {
   "codemirror_mode": {
    "name": "ipython",
    "version": 2
   },
   "file_extension": ".py",
   "mimetype": "text/x-python",
   "name": "python",
   "nbconvert_exporter": "python",
   "pygments_lexer": "ipython2",
   "version": "2.7.6"
  }
 },
 "nbformat": 4,
 "nbformat_minor": 0
}