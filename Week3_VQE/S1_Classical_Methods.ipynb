{
 "cells": [
  {
   "cell_type": "markdown",
   "metadata": {},
   "source": [
    "# Review of classical electronic structure methods \n",
    "\n",
    "In order to assess the performance of quantum computing algorithms in addressing the electronic structure problem, we will briefly review a few commonly employed classical electronic structure methods of varying level of approximation. \n",
    "\n",
    "## Hartree-Fock\n",
    "\n",
    "The Hartree-Fock (HF) method employs a **mean-field approximation**, where Coulomb correlation of electrons is neglected. The HF wavefunction is hence restricted to the form of a single Slater determinant, for which the optimal form may be acquired by an optimization of the underlying single particle basis (orbitals). Once the optimal HF orbitals have been found, the HF state may be written as \n",
    "\n",
    "$$ | \\text{HF} \\rangle = \\prod_{p \\in \\text{occ}} \\hat a^\\dagger_p | \\text{vac} \\rangle $$\n",
    "\n",
    "where $\\hat a^\\dagger_p$ creates an electron in the $p^{\\rm{th}}$ optimized HF spin orbital, and  $| \\text{vac} \\rangle$ is the vacuum state (all spin-orbitals unoccupied). Due to the restriction to a single Slater determinant, the HF energy may be obtained very efficiently and can be applied to very large molecules, however it becomes qualitatively incorrect when **electronic correlations** become sufficiently strong. The HF wavefunction is often used as a starting point in more accurate treatments of electronic correlation. \n",
    "\n",
    "## Coupled cluster\n",
    "\n",
    "The Coupled cluster (CC) method introduces electronic correlation to the wavefunction ansatz by operating on the HF reference state with the exponential of excitation operators\n",
    "\n",
    "$$|\\text{CC} \\rangle = e^{\\hat T} | \\text{HF}\\rangle, \\quad \\hat T = \\hat T_1 + \\hat T_2 + ...$$\n",
    "\n",
    "where $\\hat T_1 = \\sum_{ia} t^{a}_i \\hat a^\\dagger_a \\hat a_i$ are referred to as 'singles', $\\hat T_2 = \\sum_{ijab} t^{ab}_{ij} \\hat a^\\dagger_a \\hat a^\\dagger_b \\hat a_i \\hat a_j$ as 'doubles', etc. When the excitation rank is truncated to only singles (S) and doubles (D), $\\hat T = \\hat T_1 + \\hat T_2$, the corresponding ansatz is referred to as CCSD. Since the number of possible single and double excitations for a system of $N$ electrons in $M$ orbitals is polynomial in $M$, one can efficiently solve a system of equations to obtain the optimized CCSD amplitudes. CCSD often gives accurate energies and can be applied to modestly sized chemical systems. However, due to its implementation, it can **violate the variational principle** and give energies lower than the ground state.\n",
    "\n",
    "## Full Configuration Interaction\n",
    "The full configuration interaction (FCI) method yields the **exact ground state energy** within a given basis set. The FCI wavefunction is written as a linear combination of all possible $N$-particle Slater determinants over the orbital basis\n",
    "$$|\\text{FCI} \\rangle =  \\left( \\sum_{ia} C^{a}_i \\hat a^\\dagger_a \\hat a_i + \\sum_{ijab} C^{ab}_{ij} \\hat a^\\dagger_a \\hat a^\\dagger_b \\hat a_i \\hat a_j + ...  \\right) | \\text{HF} \\rangle $$\n",
    "where the sum includes up to $N$-electron excitations, and hence there are an exponential number of coefficients to optimize in $| \\text{FCI} \\rangle$. Due to its **exponential complexity**, FCI is often reserved for only the smallest chemical systems. However, it serves as a useful result to compare to when assessing tractable electronic structure methods."
   ]
  },
  {
   "cell_type": "markdown",
   "metadata": {},
   "source": [
    "# Benchmarking for electronic PESs in minimal basis (STO-3G)\n",
    "\n",
    "We will apply HF, CCSD, and FCI to obtaining the PESs for a few molecular dissociation processes in minimal (STO-3G) basis."
   ]
  },
  {
   "cell_type": "code",
   "execution_count": 1,
   "metadata": {},
   "outputs": [
    {
     "name": "stderr",
     "output_type": "stream",
     "text": [
      "/home/ushnish/.local/lib/python3.9/site-packages/pyscf/lib/misc.py:46: H5pyDeprecationWarning: Using default_file_mode other than 'r' is deprecated. Pass the mode to h5py.File() instead.\n",
      "  h5py.get_config().default_file_mode = 'a'\n"
     ]
    }
   ],
   "source": [
    "import numpy as np\n",
    "import matplotlib.pyplot as plt\n",
    "from utility import get_molecular_data, obtain_PES\n",
    "\n",
    "basis = 'sto-3g'"
   ]
  },
  {
   "cell_type": "markdown",
   "metadata": {},
   "source": [
    "## H<sub>2</sub>"
   ]
  },
  {
   "cell_type": "code",
   "execution_count": 32,
   "metadata": {},
   "outputs": [],
   "source": [
    "bond_lengths = np.linspace(0.2,2.6,15)"
   ]
  },
  {
   "cell_type": "code",
   "execution_count": 33,
   "metadata": {},
   "outputs": [
    {
     "name": "stdout",
     "output_type": "stream",
     "text": [
      "converged SCF energy = 0.164175012061695\n",
      "E = 0.15748213479836348 Eh\n",
      "converged SCF energy = -0.839684083956067\n",
      "E = -0.8488991057547286 Eh\n",
      "converged SCF energy = -1.07486102490599\n",
      "E = -1.0882281842437163 Eh\n",
      "converged SCF energy = -1.11750157922789\n",
      "E = -1.1369289593879264 Eh\n",
      "converged SCF energy = -1.09513510118901\n",
      "E = -1.1229570528666362 Eh\n",
      "converged SCF energy = -1.04953250777026\n",
      "E = -1.0887645366068759 Eh\n",
      "converged SCF energy = -0.995976005034107\n",
      "E = -1.050442037345773 Eh\n",
      "converged SCF energy = -0.941480654707798\n",
      "E = -1.0154682492882445 Eh\n",
      "converged SCF energy = -0.889889958382754\n",
      "E = -0.9873930556257475 Eh\n",
      "converged SCF energy = -0.843174458569733\n",
      "E = -0.9670259116896882 Eh\n",
      "converged SCF energy = -0.80213543384489\n",
      "E = -0.953424238929029 Eh\n",
      "converged SCF energy = -0.766864889751915\n",
      "E = -0.9449089871327179 Eh\n",
      "converged SCF energy = -0.737027158095765\n",
      "E = -0.9398197912427146 Eh\n",
      "converged SCF energy = -0.712060259734193\n",
      "E = -0.9368706035430501 Eh\n",
      "converged SCF energy = -0.691327561197377\n",
      "E = -0.9351960308474734 Eh\n"
     ]
    }
   ],
   "source": [
    "#Run FCI\n",
    "FCI_PES = obtain_PES('h2', bond_lengths, basis, method='fci')"
   ]
  },
  {
   "cell_type": "code",
   "execution_count": 34,
   "metadata": {},
   "outputs": [
    {
     "name": "stdout",
     "output_type": "stream",
     "text": [
      "converged SCF energy = 0.164175012061695\n",
      "converged SCF energy = 0.164175012061696\n",
      "E = 0.16417501206169582 Eh\n",
      "converged SCF energy = -0.839684083956067\n",
      "converged SCF energy = -0.839684083956067\n",
      "E = -0.8396840839560673 Eh\n",
      "converged SCF energy = -1.07486102490599\n",
      "converged SCF energy = -1.07486102490599\n",
      "E = -1.0748610249059865 Eh\n",
      "converged SCF energy = -1.11750157922789\n",
      "converged SCF energy = -1.11750157922789\n",
      "E = -1.1175015792278884 Eh\n",
      "converged SCF energy = -1.09513510118901\n",
      "converged SCF energy = -1.09513510118901\n",
      "E = -1.0951351011890111 Eh\n",
      "converged SCF energy = -1.04953250777026\n",
      "converged SCF energy = -1.04953250777026\n",
      "E = -1.0495325077702624 Eh\n",
      "converged SCF energy = -0.995976005034107\n",
      "converged SCF energy = -0.995976005034107\n",
      "E = -0.9959760050341071 Eh\n",
      "converged SCF energy = -0.941480654707798\n",
      "converged SCF energy = -0.941480654707798\n",
      "E = -0.9414806547077981 Eh\n",
      "converged SCF energy = -0.889889958382754\n",
      "converged SCF energy = -0.889889958382754\n",
      "E = -0.889889958382754 Eh\n",
      "converged SCF energy = -0.843174458569733\n",
      "converged SCF energy = -0.843174458569733\n",
      "E = -0.8431744585697332 Eh\n",
      "converged SCF energy = -0.80213543384489\n",
      "converged SCF energy = -0.80213543384489\n",
      "E = -0.8021354338448896 Eh\n",
      "converged SCF energy = -0.766864889751915\n",
      "converged SCF energy = -0.766864889751915\n",
      "E = -0.7668648897519155 Eh\n",
      "converged SCF energy = -0.737027158095765\n",
      "converged SCF energy = -0.737027158095765\n",
      "E = -0.7370271580957655 Eh\n",
      "converged SCF energy = -0.712060259734193\n",
      "converged SCF energy = -0.712060259734193\n",
      "E = -0.7120602597341925 Eh\n",
      "converged SCF energy = -0.691327561197377\n",
      "converged SCF energy = -0.691327561197377\n",
      "E = -0.6913275611973773 Eh\n"
     ]
    }
   ],
   "source": [
    "#Run HF\n",
    "HF_PES = obtain_PES('h2', bond_lengths, basis,  method='hf')"
   ]
  },
  {
   "cell_type": "code",
   "execution_count": 35,
   "metadata": {},
   "outputs": [
    {
     "name": "stdout",
     "output_type": "stream",
     "text": [
      "converged SCF energy = 0.164175012061695\n",
      "E(CCSD) = 0.1574821318755476  E_corr = -0.00669288018614819\n",
      "E = 0.15748213187554763 Eh\n",
      "converged SCF energy = -0.839684083956067\n",
      "E(CCSD) = -0.8488991194884047  E_corr = -0.009215035532337343\n",
      "E = -0.8488991194884047 Eh\n",
      "converged SCF energy = -1.07486102490599\n",
      "E(CCSD) = -1.088228226369218  E_corr = -0.01336720146323128\n",
      "E = -1.0882282263692178 Eh\n",
      "converged SCF energy = -1.11750157922789\n",
      "E(CCSD) = -1.136929092564818  E_corr = -0.01942751333692954\n",
      "E = -1.136929092564818 Eh\n",
      "converged SCF energy = -1.09513510118901\n",
      "E(CCSD) = -1.122957052870124  E_corr = -0.0278219516811127\n",
      "E = -1.1229570528701238 Eh\n",
      "converged SCF energy = -1.04953250777026\n",
      "E(CCSD) = -1.088764536633295  E_corr = -0.03923202886303246\n",
      "E = -1.088764536633295 Eh\n",
      "converged SCF energy = -0.995976005034107\n",
      "E(CCSD) = -1.050442037622604  E_corr = -0.05446603258849664\n",
      "E = -1.0504420376226038 Eh\n",
      "converged SCF energy = -0.941480654707798\n",
      "E(CCSD) = -1.015468249381512  E_corr = -0.07398759467371405\n",
      "E = -1.0154682493815121 Eh\n",
      "converged SCF energy = -0.889889958382754\n",
      "E(CCSD) = -0.9873930560203336  E_corr = -0.09750309763757954\n",
      "E = -0.9873930560203336 Eh\n",
      "converged SCF energy = -0.843174458569733\n",
      "E(CCSD) = -0.9670259127456341  E_corr = -0.123851454175901\n",
      "E = -0.9670259127456341 Eh\n",
      "converged SCF energy = -0.80213543384489\n",
      "E(CCSD) = -0.9534242405780753  E_corr = -0.1512888067331856\n",
      "E = -0.9534242405780753 Eh\n",
      "converged SCF energy = -0.766864889751915\n",
      "E(CCSD) = -0.944908988273049  E_corr = -0.1780440985211335\n",
      "E = -0.944908988273049 Eh\n",
      "converged SCF energy = -0.737027158095765\n",
      "E(CCSD) = -0.9398197914113116  E_corr = -0.202792633315546\n",
      "E = -0.9398197914113116 Eh\n",
      "converged SCF energy = -0.712060259734193\n",
      "E(CCSD) = -0.9368706035448513  E_corr = -0.2248103438106588\n",
      "E = -0.9368706035448513 Eh\n",
      "converged SCF energy = -0.691327561197377\n",
      "E(CCSD) = -0.9351959716501697  E_corr = -0.2438684104527925\n",
      "E = -0.9351959716501697 Eh\n"
     ]
    }
   ],
   "source": [
    "#Run CCSD\n",
    "CCSD_PES = obtain_PES('h2', bond_lengths, basis,  method='ccsd')"
   ]
  },
  {
   "cell_type": "code",
   "execution_count": 36,
   "metadata": {},
   "outputs": [
    {
     "data": {
      "text/plain": [
       "<matplotlib.legend.Legend at 0x7f45c01080d0>"
      ]
     },
     "execution_count": 36,
     "metadata": {},
     "output_type": "execute_result"
    },
    {
     "data": {
      "image/png": "[encoded data removed]",
      "text/plain": [
       "<Figure size 432x288 with 1 Axes>"
      ]
     },
     "metadata": {
      "needs_background": "light"
     },
     "output_type": "display_data"
    }
   ],
   "source": [
    "#Plot H2 PESs\n",
    "\n",
    "plt.title('H2 dissociation, STO-3G')\n",
    "plt.xlabel(r'R ($A^\\circ$)',fontsize=20)\n",
    "plt.ylabel(r'Energy ($E_h$)',fontsize=14)\n",
    "\n",
    "plt.plot(bond_lengths, FCI_PES, label='FCI')\n",
    "plt.scatter(bond_lengths, HF_PES, label='HF', color='orange')\n",
    "plt.scatter(bond_lengths, CCSD_PES, label='CCSD', color='purple')\n",
    "plt.legend()"
   ]
  },
  {
   "cell_type": "markdown",
   "metadata": {},
   "source": [
    "<img src=\"figs/testimage.png\">"
   ]
  },
  {
   "cell_type": "markdown",
   "metadata": {},
   "source": [
    "## H<sub>2</sub>O symmetric O-H dissociation"
   ]
  },
  {
   "cell_type": "code",
   "execution_count": 7,
   "metadata": {},
   "outputs": [],
   "source": [
    "bond_lengths = np.linspace(0.5,2.7,15)"
   ]
  },
  {
   "cell_type": "code",
   "execution_count": 38,
   "metadata": {},
   "outputs": [
    {
     "name": "stdout",
     "output_type": "stream",
     "text": [
      "converged SCF energy = -56.177972428718\n",
      "E = -56.181527059700244 Eh\n",
      "converged SCF energy = -70.1388290093913\n",
      "E = -70.14690888135627 Eh\n",
      "converged SCF energy = -73.6465715473326\n",
      "E = -73.66199728605835 Eh\n",
      "converged SCF energy = -74.6656253842167\n",
      "E = -74.6912927856763 Eh\n",
      "converged SCF energy = -74.9364373640549\n",
      "E = -74.97710169934528 Eh\n",
      "converged SCF energy = -74.9533865123646\n",
      "E = -75.01662841302804 Eh\n",
      "converged SCF energy = -74.8769000828631\n",
      "E = -74.97264454927941 Eh\n",
      "converged SCF energy = -74.7689574519789\n",
      "E = -74.9081561690947 Eh\n",
      "converged SCF energy = -74.6544986158641\n",
      "E = -74.84803818169853 Eh\n",
      "converged SCF energy = -74.5443681119313\n",
      "E = -74.80178045835092 Eh\n",
      "converged SCF energy = -74.4447494379006\n",
      "E = -74.7716151519376 Eh\n",
      "converged SCF energy = -74.3582594374013\n",
      "E = -74.7546596926045 Eh\n",
      "converged SCF energy = -74.286557245631\n",
      "E = -74.7459874234592 Eh\n",
      "converged SCF energy = -74.2279330707091\n",
      "E = -74.64050032178153 Eh\n",
      "SCF not converged.\n",
      "SCF energy = -72.9472562025615\n",
      "E = -74.73831274530521 Eh\n"
     ]
    }
   ],
   "source": [
    "#Run FCI\n",
    "FCI_PES = obtain_PES('h2o', bond_lengths, basis, method='fci')"
   ]
  },
  {
   "cell_type": "code",
   "execution_count": 39,
   "metadata": {},
   "outputs": [
    {
     "name": "stdout",
     "output_type": "stream",
     "text": [
      "converged SCF energy = -56.1779724287181\n",
      "converged SCF energy = -56.177972428718\n",
      "E = -56.17797242871802 Eh\n",
      "converged SCF energy = -70.1388290093914\n",
      "converged SCF energy = -70.1388290093914\n",
      "E = -70.13882900939137 Eh\n",
      "converged SCF energy = -73.6465715473326\n",
      "converged SCF energy = -73.6465715473326\n",
      "E = -73.64657154733264 Eh\n",
      "converged SCF energy = -74.6656253842167\n",
      "converged SCF energy = -74.6656253842167\n",
      "E = -74.66562538421671 Eh\n",
      "converged SCF energy = -74.9364373640549\n",
      "converged SCF energy = -74.9364373640549\n",
      "E = -74.93643736405491 Eh\n",
      "converged SCF energy = -74.9533865123646\n",
      "converged SCF energy = -74.9533865123646\n",
      "E = -74.95338651236456 Eh\n",
      "converged SCF energy = -74.8769000828631\n",
      "converged SCF energy = -74.8769000828631\n",
      "E = -74.87690008286314 Eh\n",
      "converged SCF energy = -74.7689574519789\n",
      "converged SCF energy = -74.768957451979\n",
      "E = -74.76895745197898 Eh\n",
      "converged SCF energy = -74.6544986158641\n",
      "converged SCF energy = -74.6544986158641\n",
      "E = -74.65449861586414 Eh\n",
      "converged SCF energy = -74.5443681119313\n",
      "converged SCF energy = -74.5443681119313\n",
      "E = -74.54436811193128 Eh\n",
      "converged SCF energy = -74.4447494379006\n",
      "converged SCF energy = -74.4447494379008\n",
      "E = -74.44474943790084 Eh\n",
      "converged SCF energy = -74.3582594373953\n",
      "converged SCF energy = -74.358259437419\n",
      "E = -74.35825943741901 Eh\n",
      "converged SCF energy = -74.2865572456311\n",
      "converged SCF energy = -74.2865572456442\n",
      "E = -74.28655724564418 Eh\n",
      "converged SCF energy = -74.2279330707088\n",
      "converged SCF energy = -74.2279330707875\n",
      "E = -74.22793307078746 Eh\n",
      "SCF not converged.\n",
      "SCF energy = -72.9472220096878\n",
      "converged SCF energy = -74.2744605065152\n",
      "E = -74.27446050651515 Eh\n"
     ]
    }
   ],
   "source": [
    "#Run HF\n",
    "HF_PES = obtain_PES('h2o', bond_lengths, basis,  method='hf')"
   ]
  },
  {
   "cell_type": "code",
   "execution_count": 40,
   "metadata": {},
   "outputs": [
    {
     "name": "stdout",
     "output_type": "stream",
     "text": [
      "converged SCF energy = -56.177972428718\n",
      "E(CCSD) = -56.18152625999694  E_corr = -0.003553831278931532\n",
      "E = -56.181526259996936 Eh\n",
      "converged SCF energy = -70.1388290093913\n",
      "E(CCSD) = -70.14689935485202  E_corr = -0.008070345460629926\n",
      "E = -70.14689935485202 Eh\n",
      "converged SCF energy = -73.6465715473326\n",
      "E(CCSD) = -73.66197483320614  E_corr = -0.01540328587353763\n",
      "E = -73.66197483320614 Eh\n",
      "converged SCF energy = -74.6656253842167\n",
      "E(CCSD) = -74.69124734031904  E_corr = -0.02562195610233203\n",
      "E = -74.69124734031904 Eh\n",
      "converged SCF energy = -74.9364373640549\n",
      "E(CCSD) = -74.97700979350323  E_corr = -0.04057242944830097\n",
      "E = -74.97700979350323 Eh\n",
      "converged SCF energy = -74.9533865123645\n",
      "E(CCSD) = -75.01643788020911  E_corr = -0.0630513678445996\n",
      "E = -75.01643788020911 Eh\n",
      "converged SCF energy = -74.8769000828631\n",
      "E(CCSD) = -74.97221857444369  E_corr = -0.09531849158048389\n",
      "E = -74.97221857444369 Eh\n",
      "converged SCF energy = -74.7689574519789\n",
      "E(CCSD) = -74.90733493633432  E_corr = -0.1383774843553606\n",
      "E = -74.90733493633432 Eh\n",
      "converged SCF energy = -74.6544986158641\n",
      "E(CCSD) = -74.84719905646577  E_corr = -0.1927004406016332\n",
      "E = -74.84719905646577 Eh\n",
      "converged SCF energy = -74.5443681119313\n",
      "E(CCSD) = -74.8034133220456  E_corr = -0.2590452101142416\n",
      "E = -74.8034133220456 Eh\n",
      "converged SCF energy = -74.4447494379006\n",
      "E(CCSD) = -74.78110150320829  E_corr = -0.3363520653076545\n",
      "E = -74.78110150320829 Eh\n",
      "converged SCF energy = -74.358259437403\n",
      "E(CCSD) = -74.7772652051475  E_corr = -0.4190057677445406\n",
      "E = -74.7772652051475 Eh\n",
      "converged SCF energy = -74.286557245631\n",
      "E(CCSD) = -74.78040524108621  E_corr = -0.4938479954552254\n",
      "E = -74.78040524108621 Eh\n",
      "converged SCF energy = -74.227933070709\n",
      "E(CCSD) = -74.78439077477552  E_corr = -0.5564577040665261\n",
      "E = -74.78439077477552 Eh\n",
      "SCF not converged.\n",
      "SCF energy = -72.9472123946622\n",
      "CCSD not converged\n",
      "E(CCSD) = -73.0232770544918  E_corr = -0.0760646598296561\n",
      "E = -73.0232770544918 Eh\n"
     ]
    }
   ],
   "source": [
    "#Run CCSD\n",
    "CCSD_PES = obtain_PES('h2o', bond_lengths, basis,  method='ccsd')"
   ]
  },
  {
   "cell_type": "code",
   "execution_count": 41,
   "metadata": {},
   "outputs": [
    {
     "data": {
      "text/plain": [
       "<matplotlib.legend.Legend at 0x7f45bbc92f70>"
      ]
     },
     "execution_count": 41,
     "metadata": {},
     "output_type": "execute_result"
    },
    {
     "data": {
      "image/png": "[encoded data removed]",
      "text/plain": [
       "<Figure size 432x288 with 1 Axes>"
      ]
     },
     "metadata": {
      "needs_background": "light"
     },
     "output_type": "display_data"
    }
   ],
   "source": [
    "#Plot H2O PESs\n",
    "\n",
    "plt.title('H2O symmetric dissociation, STO-3G')\n",
    "plt.xlabel(r'R ($A^\\circ$)',fontsize=20)\n",
    "plt.ylabel(r'Energy ($E_h$)',fontsize=14)\n",
    "\n",
    "plt.plot(bond_lengths, FCI_PES, label='FCI')\n",
    "plt.scatter(bond_lengths, HF_PES, label='HF', color='orange')\n",
    "plt.scatter(bond_lengths, CCSD_PES, label='CCSD', color='purple')\n",
    "plt.legend(loc = 'upper center')"
   ]
  },
  {
   "cell_type": "markdown",
   "metadata": {},
   "source": [
    "Next we compute the PEs for other types of molecules\n",
    "$LiH$, $N_2$, $H_4$, and $NH_3$\n",
    "\n",
    "$LiH$\n",
    "\n",
    "$r_0 = 1.619$ Angstrom"
   ]
  },
  {
   "cell_type": "code",
   "execution_count": 42,
   "metadata": {
    "scrolled": true
   },
   "outputs": [
    {
     "name": "stdout",
     "output_type": "stream",
     "text": [
      "[1.0, 1.1031666666666666, 1.2063333333333333, 1.3094999999999999, 1.4126666666666667, 1.5158333333333334, 1.619, 1.7734285714285714, 1.927857142857143, 2.0822857142857143, 2.2367142857142857, 2.3911428571428575, 2.545571428571429, 2.7]\n"
     ]
    }
   ],
   "source": [
    "#Starting with LiH\n",
    "#r_eqb = 1.619 Ang\n",
    "bond_lengths = [x for x in np.linspace(1.0,1.619,7)] \n",
    "bond_lengths = bond_lengths[:-1]\n",
    "bond_lengths += [x for x in np.linspace(1.619,2.7,8)]\n",
    "print(bond_lengths)\n"
   ]
  },
  {
   "cell_type": "code",
   "execution_count": 43,
   "metadata": {},
   "outputs": [
    {
     "name": "stdout",
     "output_type": "stream",
     "text": [
      "converged SCF energy = -7.76736213574856\n",
      "E = -7.784460280031223 Eh\n",
      "converged SCF energy = -7.80979176463783\n",
      "E = -7.826581033120969 Eh\n",
      "converged SCF energy = -7.83692872384727\n",
      "E = -7.853756740401657 Eh\n",
      "converged SCF energy = -7.85306658932547\n",
      "E = -7.8703065130887655 Eh\n",
      "converged SCF energy = -7.86118008465405\n",
      "E = -7.879213083453225 Eh\n",
      "converged SCF energy = -7.86337692068677\n",
      "E = -7.882587446751686 Eh\n",
      "converged SCF energy = -7.86118812320016\n",
      "E = -7.881966102188465 Eh\n",
      "converged SCF energy = -7.85210876795008\n",
      "E = -7.875986257595848 Eh\n",
      "converged SCF energy = -7.83838177201205\n",
      "E = -7.866316816255432 Eh\n",
      "converged SCF energy = -7.82179682213268\n",
      "E = -7.854833029562911 Eh\n",
      "converged SCF energy = -7.80355661022601\n",
      "E = -7.842840943624413 Eh\n",
      "converged SCF energy = -7.78448734730311\n",
      "E = -7.831267953080062 Eh\n",
      "converged SCF energy = -7.76517971175667\n",
      "E = -7.820764021417497 Eh\n",
      "converged SCF energy = -7.74607970736099\n",
      "E = -7.811735339124828 Eh\n"
     ]
    }
   ],
   "source": [
    "#Run FCI\n",
    "FCI_PES = obtain_PES('lih', bond_lengths, basis, method='fci')"
   ]
  },
  {
   "cell_type": "code",
   "execution_count": 44,
   "metadata": {},
   "outputs": [
    {
     "name": "stdout",
     "output_type": "stream",
     "text": [
      "converged SCF energy = -7.76736213574856\n",
      "converged SCF energy = -7.76736213574858\n",
      "E = -7.767362135748578 Eh\n",
      "converged SCF energy = -7.80979176463783\n",
      "converged SCF energy = -7.80979176463784\n",
      "E = -7.809791764637841 Eh\n",
      "converged SCF energy = -7.83692872384727\n",
      "converged SCF energy = -7.83692872384728\n",
      "E = -7.836928723847279 Eh\n",
      "converged SCF energy = -7.85306658932547\n",
      "converged SCF energy = -7.8530665893276\n",
      "E = -7.853066589327602 Eh\n",
      "converged SCF energy = -7.86118008465405\n",
      "converged SCF energy = -7.86118008465472\n",
      "E = -7.861180084654718 Eh\n",
      "converged SCF energy = -7.86337692068677\n",
      "converged SCF energy = -7.86337692068678\n",
      "E = -7.863376920686776 Eh\n",
      "converged SCF energy = -7.86118812320016\n",
      "converged SCF energy = -7.86118812320016\n",
      "E = -7.861188123200161 Eh\n",
      "converged SCF energy = -7.85210876795007\n",
      "converged SCF energy = -7.85210876795008\n",
      "E = -7.85210876795008 Eh\n",
      "converged SCF energy = -7.83838177201205\n",
      "converged SCF energy = -7.83838177201205\n",
      "E = -7.838381772012054 Eh\n",
      "converged SCF energy = -7.82179682213268\n",
      "converged SCF energy = -7.82179682213268\n",
      "E = -7.821796822132683 Eh\n",
      "converged SCF energy = -7.80355661022601\n",
      "converged SCF energy = -7.80355661022601\n",
      "E = -7.803556610226007 Eh\n",
      "converged SCF energy = -7.78448734730312\n",
      "converged SCF energy = -7.78448734730312\n",
      "E = -7.7844873473031155 Eh\n",
      "converged SCF energy = -7.76517971175667\n",
      "converged SCF energy = -7.76517971175667\n",
      "E = -7.7651797117566685 Eh\n",
      "converged SCF energy = -7.74607970736099\n",
      "converged SCF energy = -7.74607970736099\n",
      "E = -7.746079707360993 Eh\n"
     ]
    }
   ],
   "source": [
    "#Run HF\n",
    "HF_PES = obtain_PES('lih', bond_lengths, basis,  method='hf')"
   ]
  },
  {
   "cell_type": "code",
   "execution_count": 45,
   "metadata": {},
   "outputs": [
    {
     "name": "stdout",
     "output_type": "stream",
     "text": [
      "converged SCF energy = -7.76736213574856\n",
      "E(CCSD) = -7.784454825910823  E_corr = -0.01709269016226168\n",
      "E = -7.7844548259108235 Eh\n",
      "converged SCF energy = -7.80979176463783\n",
      "E(CCSD) = -7.826575204641606  E_corr = -0.01678344000377568\n",
      "E = -7.826575204641606 Eh\n",
      "converged SCF energy = -7.83692872384727\n",
      "E(CCSD) = -7.853750205060464  E_corr = -0.01682148121319228\n",
      "E = -7.853750205060464 Eh\n",
      "converged SCF energy = -7.85306658932547\n",
      "E(CCSD) = -7.870299079621435  E_corr = -0.01723249029595917\n",
      "E = -7.870299079621435 Eh\n",
      "converged SCF energy = -7.86118008465405\n",
      "E(CCSD) = -7.879204638475541  E_corr = -0.01802455382149376\n",
      "E = -7.8792046384755405 Eh\n",
      "converged SCF energy = -7.86337692068677\n",
      "E(CCSD) = -7.882577891331051  E_corr = -0.01920097064427495\n",
      "E = -7.882577891331051 Eh\n",
      "converged SCF energy = -7.86118812320016\n",
      "E(CCSD) = -7.881955303298596  E_corr = -0.02076718009844027\n",
      "E = -7.881955303298596 Eh\n",
      "converged SCF energy = -7.85210876795008\n",
      "E(CCSD) = -7.8759731988542  E_corr = -0.02386443090412347\n",
      "E = -7.8759731988542 Eh\n",
      "converged SCF energy = -7.83838177201205\n",
      "E(CCSD) = -7.866300744574672  E_corr = -0.02791897256262309\n",
      "E = -7.866300744574672 Eh\n",
      "converged SCF energy = -7.82179682213268\n",
      "E(CCSD) = -7.854812832890683  E_corr = -0.03301601075800777\n",
      "E = -7.854812832890683 Eh\n",
      "converged SCF energy = -7.80355661022601\n",
      "E(CCSD) = -7.842815046278108  E_corr = -0.03925843605210284\n",
      "E = -7.842815046278108 Eh\n",
      "converged SCF energy = -7.78448734730311\n",
      "E(CCSD) = -7.831234343748637  E_corr = -0.04674699644552885\n",
      "E = -7.831234343748637 Eh\n",
      "converged SCF energy = -7.76517971175667\n",
      "E(CCSD) = -7.820720414804097  E_corr = -0.0555407030474302\n",
      "E = -7.8207204148040965 Eh\n",
      "converged SCF energy = -7.74607970736099\n",
      "E(CCSD) = -7.811679671082909  E_corr = -0.0655999637219201\n",
      "E = -7.811679671082909 Eh\n"
     ]
    }
   ],
   "source": [
    "#Run CCSD\n",
    "CCSD_PES = obtain_PES('lih', bond_lengths, basis,  method='ccsd')"
   ]
  },
  {
   "cell_type": "code",
   "execution_count": 46,
   "metadata": {},
   "outputs": [
    {
     "data": {
      "text/plain": [
       "<matplotlib.legend.Legend at 0x7f45bbc009d0>"
      ]
     },
     "execution_count": 46,
     "metadata": {},
     "output_type": "execute_result"
    },
    {
     "data": {
      "image/png": "[encoded data removed]",
      "text/plain": [
       "<Figure size 432x288 with 1 Axes>"
      ]
     },
     "metadata": {
      "needs_background": "light"
     },
     "output_type": "display_data"
    }
   ],
   "source": [
    "#Plot LiH PESs\n",
    "plt.title('LiH, STO-3G')\n",
    "plt.xlabel(r'R ($A^\\circ$)',fontsize=20)\n",
    "plt.ylabel(r'Energy ($E_h$)',fontsize=14)\n",
    "\n",
    "plt.plot(bond_lengths, FCI_PES, label='FCI')\n",
    "plt.scatter(bond_lengths, HF_PES, label='HF', color='orange')\n",
    "plt.scatter(bond_lengths, CCSD_PES, label='CCSD', color='purple')\n",
    "plt.legend(loc = 'upper center')"
   ]
  },
  {
   "cell_type": "markdown",
   "metadata": {},
   "source": [
    "$N_2$\n",
    "\n",
    "$𝑟_0 = 1.119$ Angstrom"
   ]
  },
  {
   "cell_type": "code",
   "execution_count": 47,
   "metadata": {},
   "outputs": [
    {
     "name": "stdout",
     "output_type": "stream",
     "text": [
      "[1.0, 1.0198333333333334, 1.0396666666666667, 1.0594999999999999, 1.0793333333333333, 1.0991666666666666, 1.119, 1.12, 1.1742857142857144, 1.2285714285714286, 1.282857142857143, 1.3371428571428572, 1.3914285714285715, 1.4457142857142857, 1.5]\n"
     ]
    }
   ],
   "source": [
    "bond_lengths = [x for x in np.linspace(1.0,1.119,7)] \n",
    "bond_lengths += [x for x in np.linspace(1.120,1.5,8)]\n",
    "print(bond_lengths)"
   ]
  },
  {
   "cell_type": "code",
   "execution_count": 48,
   "metadata": {},
   "outputs": [
    {
     "name": "stdout",
     "output_type": "stream",
     "text": [
      "converged SCF energy = -107.419532451682\n",
      "E = -107.54930095790854 Eh\n",
      "converged SCF energy = -107.44439201994\n",
      "E = -107.57936182589182 Eh\n",
      "converged SCF energy = -107.463939801382\n",
      "E = -107.60426977073314 Eh\n",
      "converged SCF energy = -107.478762050244\n",
      "E = -107.62461218152748 Eh\n",
      "converged SCF energy = -107.489386014866\n",
      "E = -107.64091702373275 Eh\n",
      "converged SCF energy = -107.496285635961\n",
      "E = -107.65365858481638 Eh\n",
      "converged SCF energy = -107.499886689299\n",
      "E = -107.66326266182561 Eh\n",
      "converged SCF energy = -107.4999879992\n",
      "E = -107.66367090726257 Eh\n",
      "converged SCF energy = -107.495586402914\n",
      "E = -107.67654317744656 Eh\n",
      "converged SCF energy = -107.475732233152\n",
      "E = -107.67515353271179 Eh\n",
      "converged SCF energy = -107.445164146148\n",
      "E = -107.66422167708389 Eh\n",
      "converged SCF energy = -107.407355286627\n",
      "E = -107.64720402800936 Eh\n",
      "converged SCF energy = -107.364832439239\n",
      "E = -107.62662139272163 Eh\n",
      "converged SCF energy = -107.319423462319\n",
      "E = -107.60431377607699 Eh\n",
      "converged SCF energy = -107.272448501206\n",
      "E = -107.58163492220916 Eh\n"
     ]
    }
   ],
   "source": [
    "#Run FCI\n",
    "FCI_PES = obtain_PES('n2', bond_lengths, basis, method='fci')"
   ]
  },
  {
   "cell_type": "code",
   "execution_count": 49,
   "metadata": {},
   "outputs": [
    {
     "name": "stdout",
     "output_type": "stream",
     "text": [
      "converged SCF energy = -107.419532451682\n",
      "converged SCF energy = -107.419532451682\n",
      "E = -107.41953245168213 Eh\n",
      "converged SCF energy = -107.44439201994\n",
      "converged SCF energy = -107.44439201994\n",
      "E = -107.44439201993978 Eh\n",
      "converged SCF energy = -107.463939801382\n",
      "converged SCF energy = -107.463939801382\n",
      "E = -107.46393980138205 Eh\n",
      "converged SCF energy = -107.478762050244\n",
      "converged SCF energy = -107.478762050244\n",
      "E = -107.47876205024448 Eh\n",
      "converged SCF energy = -107.489386014866\n",
      "converged SCF energy = -107.489386014866\n",
      "E = -107.48938601486637 Eh\n",
      "converged SCF energy = -107.496285635961\n",
      "converged SCF energy = -107.496285635962\n",
      "E = -107.49628563596153 Eh\n",
      "converged SCF energy = -107.499886689299\n",
      "converged SCF energy = -107.499886689299\n",
      "E = -107.49988668929917 Eh\n",
      "converged SCF energy = -107.4999879992\n",
      "converged SCF energy = -107.499987999199\n",
      "E = -107.49998799919948 Eh\n",
      "converged SCF energy = -107.495586402914\n",
      "converged SCF energy = -107.495586402914\n",
      "E = -107.4955864029143 Eh\n",
      "converged SCF energy = -107.475732233152\n",
      "converged SCF energy = -107.475732233152\n",
      "E = -107.47573223315231 Eh\n",
      "converged SCF energy = -107.445164146148\n",
      "converged SCF energy = -107.445164146148\n",
      "E = -107.44516414614756 Eh\n",
      "converged SCF energy = -107.407355286627\n",
      "converged SCF energy = -107.407355286627\n",
      "E = -107.40735528662667 Eh\n",
      "converged SCF energy = -107.364832439239\n",
      "converged SCF energy = -107.364832439239\n",
      "E = -107.36483243923895 Eh\n",
      "converged SCF energy = -107.31942346232\n",
      "converged SCF energy = -107.319423462319\n",
      "E = -107.31942346231949 Eh\n",
      "converged SCF energy = -107.272448501206\n",
      "converged SCF energy = -107.272448501206\n",
      "E = -107.27244850120611 Eh\n"
     ]
    }
   ],
   "source": [
    "#Run HF\n",
    "HF_PES = obtain_PES('n2', bond_lengths, basis,  method='hf')"
   ]
  },
  {
   "cell_type": "code",
   "execution_count": 50,
   "metadata": {},
   "outputs": [
    {
     "name": "stdout",
     "output_type": "stream",
     "text": [
      "converged SCF energy = -107.419532451682\n",
      "E(CCSD) = -107.5467229244351  E_corr = -0.1271904727529142\n",
      "E = -107.54672292443507 Eh\n",
      "converged SCF energy = -107.44439201994\n",
      "E(CCSD) = -107.5765596109187  E_corr = -0.1321675909789162\n",
      "E = -107.57655961091872 Eh\n",
      "converged SCF energy = -107.463939801382\n",
      "E(CCSD) = -107.6012234804558  E_corr = -0.137283679073766\n",
      "E = -107.60122348045581 Eh\n",
      "converged SCF energy = -107.478762050245\n",
      "E(CCSD) = -107.6213005619512  E_corr = -0.1425385117067028\n",
      "E = -107.62130056195122 Eh\n",
      "converged SCF energy = -107.489386014866\n",
      "E(CCSD) = -107.6373174734537  E_corr = -0.1479314585873445\n",
      "E = -107.63731747345372 Eh\n",
      "converged SCF energy = -107.496285635962\n",
      "E(CCSD) = -107.6497471873566  E_corr = -0.1534615513951123\n",
      "E = -107.64974718735664 Eh\n",
      "converged SCF energy = -107.499886689299\n",
      "E(CCSD) = -107.6590144349553  E_corr = -0.1591277456561059\n",
      "E = -107.65901443495525 Eh\n",
      "converged SCF energy = -107.4999879992\n",
      "E(CCSD) = -107.6594050161181  E_corr = -0.1594170169184675\n",
      "E = -107.65940501611806 Eh\n",
      "converged SCF energy = -107.495586402914\n",
      "E(CCSD) = -107.6712164307915  E_corr = -0.1756300278771944\n",
      "E = -107.67121643079146 Eh\n",
      "converged SCF energy = -107.475732233152\n",
      "E(CCSD) = -107.668561695513  E_corr = -0.19282946236069\n",
      "E = -107.66856169551298 Eh\n",
      "converged SCF energy = -107.445164146148\n",
      "E(CCSD) = -107.6561731693487  E_corr = -0.211009023201089\n",
      "E = -107.65617316934866 Eh\n",
      "converged SCF energy = -107.407355286627\n",
      "E(CCSD) = -107.6375573731909  E_corr = -0.230202086564183\n",
      "E = -107.63755737319087 Eh\n",
      "converged SCF energy = -107.364832439239\n",
      "E(CCSD) = -107.6153412020623  E_corr = -0.2505087628234453\n",
      "E = -107.61534120206234 Eh\n",
      "converged SCF energy = -107.319423462319\n",
      "E(CCSD) = -107.5915544095588  E_corr = -0.2721309472394002\n",
      "E = -107.59155440955882 Eh\n",
      "converged SCF energy = -107.272448501206\n",
      "E(CCSD) = -107.5678592938836  E_corr = -0.2954107926774592\n",
      "E = -107.56785929388356 Eh\n"
     ]
    }
   ],
   "source": [
    "#Run CCSD\n",
    "CCSD_PES = obtain_PES('n2', bond_lengths, basis,  method='ccsd')"
   ]
  },
  {
   "cell_type": "code",
   "execution_count": 51,
   "metadata": {},
   "outputs": [
    {
     "data": {
      "text/plain": [
       "<matplotlib.legend.Legend at 0x7f45bbb845e0>"
      ]
     },
     "execution_count": 51,
     "metadata": {},
     "output_type": "execute_result"
    },
    {
     "data": {
      "image/png": "[encoded data removed]",
      "text/plain": [
       "<Figure size 432x288 with 1 Axes>"
      ]
     },
     "metadata": {
      "needs_background": "light"
     },
     "output_type": "display_data"
    }
   ],
   "source": [
    "#Plot N2 PESs\n",
    "\n",
    "plt.title('N2, STO-3G')\n",
    "plt.xlabel(r'R ($A^\\circ$)',fontsize=20)\n",
    "plt.ylabel(r'Energy ($E_h$)',fontsize=14)\n",
    "\n",
    "plt.plot(bond_lengths, FCI_PES, label='FCI')\n",
    "plt.scatter(bond_lengths, HF_PES, label='HF', color='orange')\n",
    "plt.scatter(bond_lengths, CCSD_PES, label='CCSD', color='purple')\n",
    "plt.legend(loc = 'upper center')"
   ]
  },
  {
   "cell_type": "markdown",
   "metadata": {},
   "source": [
    "$H_4$"
   ]
  },
  {
   "cell_type": "code",
   "execution_count": 52,
   "metadata": {},
   "outputs": [],
   "source": [
    "bond_angles = np.linspace(15.0,40.0,15)"
   ]
  },
  {
   "cell_type": "code",
   "execution_count": 53,
   "metadata": {},
   "outputs": [
    {
     "name": "stdout",
     "output_type": "stream",
     "text": [
      "converged SCF energy = -1.98488287113067\n",
      "E = -2.006871858726831 Eh\n",
      "converged SCF energy = -2.09869359325099\n",
      "E = -2.1234259293315123 Eh\n",
      "converged SCF energy = -2.16974452446787\n",
      "E = -2.1975716022716236 Eh\n",
      "converged SCF energy = -2.21079297346973\n",
      "E = -2.2420835314321894 Eh\n",
      "converged SCF energy = -2.23046557734084\n",
      "E = -2.265606646260297 Eh\n",
      "converged SCF energy = -2.23480486317451\n",
      "E = -2.2742036932991425 Eh\n",
      "converged SCF energy = -2.22812531339812\n",
      "E = -2.2722128688015872 Eh\n",
      "converged SCF energy = -2.21352563644555\n",
      "E = -2.2627613950641274 Eh\n",
      "converged SCF energy = -2.19322972320541\n",
      "E = -2.248106803985646 Eh\n",
      "converged SCF energy = -2.16883474963959\n",
      "E = -2.229884084719856 Eh\n",
      "converged SCF energy = -2.1414981254735\n",
      "E = -2.2092905344194027 Eh\n",
      "converged SCF energy = -2.11207597728273\n",
      "E = -2.1872214195136466 Eh\n",
      "converged SCF energy = -2.0812208880512\n",
      "E = -2.1643646561294316 Eh\n",
      "converged SCF energy = -2.04944679011668\n",
      "E = -2.1412628045773516 Eh\n",
      "converged SCF energy = -2.017169537283\n",
      "E = -2.118351157448565 Eh\n"
     ]
    }
   ],
   "source": [
    "#Run FCI\n",
    "FCI_PES = obtain_PES('h4', bond_angles, basis, method='fci')"
   ]
  },
  {
   "cell_type": "code",
   "execution_count": 54,
   "metadata": {},
   "outputs": [
    {
     "name": "stdout",
     "output_type": "stream",
     "text": [
      "converged SCF energy = -1.98488287113067\n",
      "converged SCF energy = -1.98488287113067\n",
      "E = -1.9848828711306745 Eh\n",
      "converged SCF energy = -2.09869359325099\n",
      "converged SCF energy = -2.09869359325099\n",
      "E = -2.098693593250987 Eh\n",
      "converged SCF energy = -2.16974452446787\n",
      "converged SCF energy = -2.16974452446787\n",
      "E = -2.169744524467869 Eh\n",
      "converged SCF energy = -2.21079297346973\n",
      "converged SCF energy = -2.21079297346973\n",
      "E = -2.210792973469727 Eh\n",
      "converged SCF energy = -2.23046557734084\n",
      "converged SCF energy = -2.23046557734084\n",
      "E = -2.2304655773408415 Eh\n",
      "converged SCF energy = -2.23480486317451\n",
      "converged SCF energy = -2.23480486317452\n",
      "E = -2.2348048631745154 Eh\n",
      "converged SCF energy = -2.22812531339812\n",
      "converged SCF energy = -2.22812531339812\n",
      "E = -2.22812531339812 Eh\n",
      "converged SCF energy = -2.21352563644555\n",
      "converged SCF energy = -2.21352563644555\n",
      "E = -2.2135256364455485 Eh\n",
      "converged SCF energy = -2.19322972320541\n",
      "converged SCF energy = -2.19322972320541\n",
      "E = -2.1932297232054054 Eh\n",
      "converged SCF energy = -2.16883474963959\n",
      "converged SCF energy = -2.16883474963959\n",
      "E = -2.168834749639588 Eh\n",
      "converged SCF energy = -2.1414981254735\n",
      "converged SCF energy = -2.1414981254735\n",
      "E = -2.141498125473497 Eh\n",
      "converged SCF energy = -2.11207597728273\n",
      "converged SCF energy = -2.11207597728273\n",
      "E = -2.1120759772827298 Eh\n",
      "converged SCF energy = -2.0812208880512\n",
      "converged SCF energy = -2.0812208880512\n",
      "E = -2.0812208880512015 Eh\n",
      "converged SCF energy = -2.04944679011668\n",
      "converged SCF energy = -2.04944679011668\n",
      "E = -2.049446790116678 Eh\n",
      "converged SCF energy = -2.017169537283\n",
      "converged SCF energy = -2.017169537283\n",
      "E = -2.017169537283003 Eh\n"
     ]
    }
   ],
   "source": [
    "#Run HF\n",
    "HF_PES = obtain_PES('h4', bond_angles, basis,  method='hf')"
   ]
  },
  {
   "cell_type": "code",
   "execution_count": 55,
   "metadata": {},
   "outputs": [
    {
     "name": "stdout",
     "output_type": "stream",
     "text": [
      "converged SCF energy = -1.98488287113067\n",
      "E(CCSD) = -2.006871841316002  E_corr = -0.02198897018532968\n",
      "E = -2.0068718413160025 Eh\n",
      "converged SCF energy = -2.09869359325099\n",
      "E(CCSD) = -2.123425898104841  E_corr = -0.02473230485385378\n",
      "E = -2.123425898104841 Eh\n",
      "converged SCF energy = -2.16974452446787\n",
      "E(CCSD) = -2.197571547363218  E_corr = -0.0278270228953489\n",
      "E = -2.197571547363218 Eh\n",
      "converged SCF energy = -2.21079297346973\n",
      "E(CCSD) = -2.242083473777973  E_corr = -0.0312905003082463\n",
      "E = -2.2420834737779733 Eh\n",
      "converged SCF energy = -2.23046557734084\n",
      "E(CCSD) = -2.26560654896613  E_corr = -0.03514097162528882\n",
      "E = -2.2656065489661303 Eh\n",
      "converged SCF energy = -2.23480486317451\n",
      "E(CCSD) = -2.274203600315103  E_corr = -0.03939873714058855\n",
      "E = -2.274203600315103 Eh\n",
      "converged SCF energy = -2.22812531339812\n",
      "E(CCSD) = -2.272212799016382  E_corr = -0.04408748561826143\n",
      "E = -2.272212799016382 Eh\n",
      "converged SCF energy = -2.21352563644555\n",
      "E(CCSD) = -2.262761351687927  E_corr = -0.04923571524238162\n",
      "E = -2.2627613516879275 Eh\n",
      "converged SCF energy = -2.19322972320541\n",
      "E(CCSD) = -2.248106841323006  E_corr = -0.05487711811760029\n",
      "E = -2.248106841323006 Eh\n",
      "converged SCF energy = -2.16883474963959\n",
      "E(CCSD) = -2.229884003637216  E_corr = -0.06104925399762773\n",
      "E = -2.229884003637216 Eh\n",
      "converged SCF energy = -2.1414981254735\n",
      "E(CCSD) = -2.209290400059158  E_corr = -0.06779227458566171\n",
      "E = -2.2092904000591576 Eh\n",
      "converged SCF energy = -2.11207597728273\n",
      "E(CCSD) = -2.187221602022472  E_corr = -0.07514562473974321\n",
      "E = -2.187221602022472 Eh\n",
      "converged SCF energy = -2.0812208880512\n",
      "E(CCSD) = -2.164364341704442  E_corr = -0.08314345365323828\n",
      "E = -2.1643643417044416 Eh\n",
      "converged SCF energy = -2.04944679011668\n",
      "E(CCSD) = -2.141262343200663  E_corr = -0.09181555308398463\n",
      "E = -2.1412623432006628 Eh\n",
      "converged SCF energy = -2.017169537283\n",
      "E(CCSD) = -2.118350500324421  E_corr = -0.1011809630414179\n",
      "E = -2.118350500324421 Eh\n"
     ]
    }
   ],
   "source": [
    "#Run CCSD\n",
    "CCSD_PES = obtain_PES('h4', bond_angles, basis,  method='ccsd')"
   ]
  },
  {
   "cell_type": "code",
   "execution_count": 56,
   "metadata": {},
   "outputs": [
    {
     "data": {
      "text/plain": [
       "<matplotlib.legend.Legend at 0x7f45bbb02880>"
      ]
     },
     "execution_count": 56,
     "metadata": {},
     "output_type": "execute_result"
    },
    {
     "data": {
      "image/png": "[encoded data removed]",
      "text/plain": [
       "<Figure size 432x288 with 1 Axes>"
      ]
     },
     "metadata": {
      "needs_background": "light"
     },
     "output_type": "display_data"
    }
   ],
   "source": [
    "#Plot H4 PESs\n",
    "import matplotlib\n",
    "matplotlib.rcParams['text.usetex'] = True\n",
    "\n",
    "plt.title('H4, STO-3G')\n",
    "plt.xlabel(r'$\\theta$',fontsize=20)\n",
    "plt.ylabel('E, Hartree',fontsize=12)\n",
    "\n",
    "plt.plot(bond_angles, FCI_PES, label='FCI')\n",
    "plt.scatter(bond_angles, HF_PES, label='HF', color='orange')\n",
    "plt.scatter(bond_angles, CCSD_PES, label='CCSD', color='purple')\n",
    "plt.legend(loc = 'upper center')"
   ]
  },
  {
   "cell_type": "markdown",
   "metadata": {},
   "source": [
    "$NH_3$\n",
    "\n",
    "$r_0 = 1.008$"
   ]
  },
  {
   "cell_type": "code",
   "execution_count": 105,
   "metadata": {},
   "outputs": [
    {
     "name": "stdout",
     "output_type": "stream",
     "text": [
      "[0.9, 0.918, 0.936, 0.954, 0.972, 0.99, 1.008, 1.009, 1.0434285714285714, 1.0778571428571428, 1.112285714285714, 1.1467142857142856, 1.181142857142857, 1.2155714285714285, 1.25]\n"
     ]
    }
   ],
   "source": [
    "bond_lengths = [x for x in np.linspace(0.9,1.008,7)] \n",
    "bond_lengths += [x for x in np.linspace(1.009,1.25,8)]\n",
    "print(bond_lengths)"
   ]
  },
  {
   "cell_type": "code",
   "execution_count": 106,
   "metadata": {},
   "outputs": [
    {
     "name": "stdout",
     "output_type": "stream",
     "text": [
      "converged SCF energy = -55.3923579267289\n",
      "E = -55.44295420403765 Eh\n",
      "converged SCF energy = -55.4103046515789\n",
      "E = -55.4629829618822 Eh\n",
      "converged SCF energy = -55.424733431716\n",
      "E = -55.47957405669433 Eh\n",
      "converged SCF energy = -55.4359800143823\n",
      "E = -55.49306717972141 Eh\n",
      "converged SCF energy = -55.4443461985275\n",
      "E = -55.503768239502534 Eh\n",
      "converged SCF energy = -55.4501037627585\n",
      "E = -55.511953284044836 Eh\n",
      "converged SCF energy = -55.4534979374946\n",
      "E = -55.51787196628814 Eh\n",
      "converged SCF energy = -55.4536217639898\n",
      "E = -55.51813897924335 Eh\n",
      "converged SCF energy = -55.4541120603298\n",
      "E = -55.523756170106935 Eh\n",
      "converged SCF energy = -55.4481363637607\n",
      "E = -55.52331346511703 Eh\n",
      "converged SCF energy = -55.4368155136003\n",
      "E = -55.51796661534382 Eh\n",
      "converged SCF energy = -55.4210912634011\n",
      "E = -55.508693456097006 Eh\n",
      "converged SCF energy = -55.4017589901499\n",
      "E = -55.49632608316294 Eh\n",
      "converged SCF energy = -55.3794925103696\n",
      "E = -55.48157492642135 Eh\n",
      "converged SCF energy = -55.3548631222389\n",
      "E = -55.465046806974044 Eh\n"
     ]
    }
   ],
   "source": [
    "#Run FCI\n",
    "FCI_PES = obtain_PES('nh3', bond_lengths, basis, method='fci')"
   ]
  },
  {
   "cell_type": "code",
   "execution_count": 107,
   "metadata": {},
   "outputs": [
    {
     "name": "stdout",
     "output_type": "stream",
     "text": [
      "converged SCF energy = -55.3923579267289\n",
      "converged SCF energy = -55.392357926729\n",
      "E = -55.39235792672896 Eh\n",
      "converged SCF energy = -55.4103046515789\n",
      "converged SCF energy = -55.4103046515791\n",
      "E = -55.41030465157906 Eh\n",
      "converged SCF energy = -55.424733431716\n",
      "converged SCF energy = -55.4247334317161\n",
      "E = -55.424733431716106 Eh\n",
      "converged SCF energy = -55.4359800143823\n",
      "converged SCF energy = -55.4359800143823\n",
      "E = -55.43598001438234 Eh\n",
      "converged SCF energy = -55.4443461985276\n",
      "converged SCF energy = -55.4443461985276\n",
      "E = -55.44434619852758 Eh\n",
      "converged SCF energy = -55.4501037627585\n",
      "converged SCF energy = -55.4501037627586\n",
      "E = -55.45010376275856 Eh\n",
      "converged SCF energy = -55.4534979374946\n",
      "converged SCF energy = -55.4534979374945\n",
      "E = -55.45349793749452 Eh\n",
      "converged SCF energy = -55.4536217639898\n",
      "converged SCF energy = -55.4536217639898\n",
      "E = -55.453621763989766 Eh\n",
      "converged SCF energy = -55.4541120603298\n",
      "converged SCF energy = -55.4541120603298\n",
      "E = -55.45411206032985 Eh\n",
      "converged SCF energy = -55.4481363637606\n",
      "converged SCF energy = -55.4481363637606\n",
      "E = -55.448136363760625 Eh\n",
      "converged SCF energy = -55.4368155136002\n",
      "converged SCF energy = -55.4368155136002\n",
      "E = -55.43681551360024 Eh\n",
      "converged SCF energy = -55.4210912634012\n",
      "converged SCF energy = -55.4210912634012\n",
      "E = -55.42109126340115 Eh\n",
      "converged SCF energy = -55.4017589901499\n",
      "converged SCF energy = -55.4017589901499\n",
      "E = -55.40175899014994 Eh\n",
      "converged SCF energy = -55.3794925103695\n",
      "converged SCF energy = -55.3794925103696\n",
      "E = -55.37949251036955 Eh\n",
      "converged SCF energy = -55.354863122239\n",
      "converged SCF energy = -55.354863122239\n",
      "E = -55.35486312223895 Eh\n"
     ]
    }
   ],
   "source": [
    "#Run HF\n",
    "HF_PES = obtain_PES('nh3', bond_lengths, basis,  method='hf')"
   ]
  },
  {
   "cell_type": "code",
   "execution_count": 108,
   "metadata": {},
   "outputs": [
    {
     "name": "stdout",
     "output_type": "stream",
     "text": [
      "converged SCF energy = -55.3923579267289\n",
      "E(CCSD) = -55.4428381673422  E_corr = -0.05048024061331503\n",
      "E = -55.442838167342195 Eh\n",
      "converged SCF energy = -55.4103046515789\n",
      "E(CCSD) = -55.46285547864381  E_corr = -0.0525508270649194\n",
      "E = -55.46285547864381 Eh\n",
      "converged SCF energy = -55.424733431716\n",
      "E(CCSD) = -55.47943366501288  E_corr = -0.05470023329682066\n",
      "E = -55.479433665012884 Eh\n",
      "converged SCF energy = -55.4359800143823\n",
      "E(CCSD) = -55.49291225050334  E_corr = -0.05693223612110081\n",
      "E = -55.49291225050334 Eh\n",
      "converged SCF energy = -55.4443461985276\n",
      "E(CCSD) = -55.5035969655107  E_corr = -0.05925076698312437\n",
      "E = -55.503596965510695 Eh\n",
      "converged SCF energy = -55.4501037627585\n",
      "E(CCSD) = -55.5117636695996  E_corr = -0.06165990684105681\n",
      "E = -55.5117636695996 Eh\n",
      "converged SCF energy = -55.4534979374945\n",
      "E(CCSD) = -55.51766181875583  E_corr = -0.06416388126133632\n",
      "E = -55.517661818755826 Eh\n",
      "converged SCF energy = -55.4536217639898\n",
      "E(CCSD) = -55.51792762262781  E_corr = -0.06430585863804383\n",
      "E = -55.51792762262781 Eh\n",
      "converged SCF energy = -55.4541120603298\n",
      "E(CCSD) = -55.52349830448915  E_corr = -0.0693862441592986\n",
      "E = -55.523498304489145 Eh\n",
      "converged SCF energy = -55.4481363637607\n",
      "E(CCSD) = -55.52299887322153  E_corr = -0.07486250946087859\n",
      "E = -55.52299887322153 Eh\n",
      "converged SCF energy = -55.4368155136002\n",
      "E(CCSD) = -55.51758357472124  E_corr = -0.08076806112095558\n",
      "E = -55.517583574721236 Eh\n",
      "converged SCF energy = -55.4210912634012\n",
      "E(CCSD) = -55.50822892683853  E_corr = -0.0871376634373834\n",
      "E = -55.508228926838534 Eh\n",
      "converged SCF energy = -55.4017589901499\n",
      "E(CCSD) = -55.49576593694307  E_corr = -0.0940069467931425\n",
      "E = -55.49576593694307 Eh\n",
      "converged SCF energy = -55.3794925103695\n",
      "E(CCSD) = -55.48090428752857  E_corr = -0.1014117771590004\n",
      "E = -55.48090428752857 Eh\n",
      "converged SCF energy = -55.3548631222389\n",
      "E(CCSD) = -55.46425051868106  E_corr = -0.1093873964421194\n",
      "E = -55.464250518681055 Eh\n"
     ]
    }
   ],
   "source": [
    "#Run CCSD\n",
    "CCSD_PES = obtain_PES('nh3', bond_lengths, basis,  method='ccsd')"
   ]
  },
  {
   "cell_type": "code",
   "execution_count": 109,
   "metadata": {},
   "outputs": [
    {
     "data": {
      "text/plain": [
       "<matplotlib.legend.Legend at 0x7f4550205e50>"
      ]
     },
     "execution_count": 109,
     "metadata": {},
     "output_type": "execute_result"
    },
    {
     "data": {
      "image/png": "[encoded data removed]",
      "text/plain": [
       "<Figure size 432x288 with 1 Axes>"
      ]
     },
     "metadata": {
      "needs_background": "light"
     },
     "output_type": "display_data"
    }
   ],
   "source": [
    "#Plot NH3 PESs\n",
    "import matplotlib\n",
    "matplotlib.rcParams['text.usetex'] = True\n",
    "\n",
    "plt.title('NH3, STO-3G')\n",
    "plt.xlabel(r'R ($A^\\circ$)',fontsize=20)\n",
    "plt.ylabel(r'Energy ($E_h$)',fontsize=14)\n",
    "\n",
    "plt.plot(bond_lengths, FCI_PES, label='FCI')\n",
    "plt.scatter(bond_lengths, HF_PES, label='HF', color='orange')\n",
    "plt.scatter(bond_lengths, CCSD_PES, label='CCSD', color='purple')\n",
    "plt.legend(loc = 'upper center')"
   ]
  },
  {
   "cell_type": "code",
   "execution_count": null,
   "metadata": {},
   "outputs": [],
   "source": []
  }
 ],
 "metadata": {
  "kernelspec": {
   "display_name": "tequila",
   "language": "python",
   "name": "tequila"
  },
  "language_info": {
   "codemirror_mode": {
    "name": "ipython",
    "version": 3
   },
   "file_extension": ".py",
   "mimetype": "text/x-python",
   "name": "python",
   "nbconvert_exporter": "python",
   "pygments_lexer": "ipython3",
   "version": "3.9.5"
  }
 },
 "nbformat": 4,
 "nbformat_minor": 2
}
