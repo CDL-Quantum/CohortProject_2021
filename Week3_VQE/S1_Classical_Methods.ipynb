{
 "cells": [
  {
   "cell_type": "markdown",
   "metadata": {},
   "source": [
    "# Review of classical electronic structure methods \n",
    "\n",
    "In order to assess the performance of quantum computing algorithms in addressing the electronic structure problem, we will briefly review a few commonly employed classical electronic structure methods of varying level of approximation. \n",
    "\n",
    "## Hartree-Fock\n",
    "\n",
    "The Hartree-Fock (HF) method employs a **mean-field approximation**, where Coulomb correlation of electrons is neglected. The HF wavefunction is hence restricted to the form of a single Slater determinant, for which the optimal form may be acquired by an optimization of the underlying single particle basis (orbitals). Once the optimal HF orbitals have been found, the HF state may be written as \n",
    "\n",
    "$$ | \\text{HF} \\rangle = \\prod_{p \\in \\text{occ}} \\hat a^\\dagger_p | \\text{vac} \\rangle $$\n",
    "\n",
    "where $\\hat a^\\dagger_p$ creates an electron in the $p^{\\rm{th}}$ optimized HF spin orbital, and  $| \\text{vac} \\rangle$ is the vacuum state (all spin-orbitals unoccupied). Due to the restriction to a single Slater determinant, the HF energy may be obtained very efficiently and can be applied to very large molecules, however it becomes qualitatively incorrect when **electronic correlations** become sufficiently strong. The HF wavefunction is often used as a starting point in more accurate treatments of electronic correlation. \n",
    "\n",
    "## Coupled cluster\n",
    "\n",
    "The Coupled cluster (CC) method introduces electronic correlation to the wavefunction ansatz by operating on the HF reference state with the exponential of excitation operators\n",
    "\n",
    "$$|\\text{CC} \\rangle = e^{\\hat T} | \\text{HF}\\rangle, \\quad \\hat T = \\hat T_1 + \\hat T_2 + ...$$\n",
    "\n",
    "where $\\hat T_1 = \\sum_{ia} t^{a}_i \\hat a^\\dagger_a \\hat a_i$ are referred to as 'singles', $\\hat T_2 = \\sum_{ijab} t^{ab}_{ij} \\hat a^\\dagger_a \\hat a^\\dagger_b \\hat a_i \\hat a_j$ as 'doubles', etc. When the excitation rank is truncated to only singles (S) and doubles (D), $\\hat T = \\hat T_1 + \\hat T_2$, the corresponding ansatz is referred to as CCSD. Since the number of possible single and double excitations for a system of $N$ electrons in $M$ orbitals is polynomial in $M$, one can efficiently solve a system of equations to obtain the optimized CCSD amplitudes. CCSD often gives accurate energies and can be applied to modestly sized chemical systems. However, due to its implementation, it can **violate the variational principle** and give energies lower than the ground state.\n",
    "\n",
    "## Full Configuration Interaction\n",
    "The full configuration interaction (FCI) method yields the **exact ground state energy** within a given basis set. The FCI wavefunction is written as a linear combination of all possible $N$-particle Slater determinants over the orbital basis\n",
    "$$|\\text{FCI} \\rangle =  \\left( \\sum_{ia} C^{a}_i \\hat a^\\dagger_a \\hat a_i + \\sum_{ijab} C^{ab}_{ij} \\hat a^\\dagger_a \\hat a^\\dagger_b \\hat a_i \\hat a_j + ...  \\right) | \\text{HF} \\rangle $$\n",
    "where the sum includes up to $N$-electron excitations, and hence there are an exponential number of coefficients to optimize in $| \\text{FCI} \\rangle$. Due to its **exponential complexity**, FCI is often reserved for only the smallest chemical systems. However, it serves as a useful result to compare to when assessing tractable electronic structure methods."
   ]
  },
  {
   "cell_type": "markdown",
   "metadata": {},
   "source": [
    "# Benchmarking for electronic PESs in minimal basis (STO-3G)\n",
    "\n",
    "We will apply HF, CCSD, and FCI to obtaining the PESs for a few molecular dissociation processes in minimal (STO-3G) basis."
   ]
  },
  {
   "cell_type": "code",
   "execution_count": 3,
   "metadata": {},
   "outputs": [
    {
     "name": "stderr",
     "output_type": "stream",
     "text": [
      "/home/abarthe/.local/lib/python3.7/site-packages/pyscf/lib/misc.py:46: H5pyDeprecationWarning: Using default_file_mode other than 'r' is deprecated. Pass the mode to h5py.File() instead.\n",
      "  h5py.get_config().default_file_mode = 'a'\n"
     ]
    }
   ],
   "source": [
    "import numpy as np\n",
    "import matplotlib.pyplot as plt\n",
    "from utility import get_molecular_data, obtain_PES\n",
    "import time\n",
    "import pandas as pd"
   ]
  },
  {
   "cell_type": "code",
   "execution_count": 2,
   "metadata": {},
   "outputs": [],
   "source": [
    "class benchmark:\n",
    "    def __init__(self,list_molecules=['h2'], list_basis=['sto-3g'], list_methods=['fci'],bond_lengths = np.linspace(0.2,2.6,15)):\n",
    "        self.list_molecules = list_molecules\n",
    "        self.list_basis = list_basis\n",
    "        self.list_methods = list_methods\n",
    "        self.bond_lengths = bond_lengths\n",
    "        \n",
    "        self.times = np.zeros((len(list_molecules),len(list_basis),len(list_methods)))\n",
    "        self.results=np.zeros((len(list_molecules),len(list_basis),len(list_methods),len(bond_lengths)))\n",
    "    \n",
    "    def compute_all(self):\n",
    "        for i_m,m in enumerate(self.list_molecules):\n",
    "            print(f'{i_m+1} molecule out of {len(self.list_molecules)}')\n",
    "            for i_b,b in enumerate(self.list_basis):\n",
    "                print(f'{i_b+1} basis out of {len(self.list_basis)}')\n",
    "                for i_f,f in enumerate(self.list_methods):\n",
    "                    print(f'{i_f+1} method out of {len(self.list_methods)}')\n",
    "                    tic = time.time()\n",
    "                    self.results[i_m,i_b,i_f,:] = obtain_PES([m], self.bond_lengths, b, method=f)\n",
    "                    toc = time.time()\n",
    "                    self.times[i_m,i_b,i_f]= toc-tic                   \n",
    "            \n",
    "    \n",
    "    def plot_all(self,i_b):\n",
    "        \n",
    "        colors = ['orange','purple','yellow','green']\n",
    "        N = len(self.list_molecules)\n",
    "        L = 3\n",
    "        K = int(N/L) + 1 \n",
    "\n",
    "        fig, axs = plt.subplots(K, L,figsize=(15,5))\n",
    "\n",
    "        for i_m in range(N):\n",
    "            ax = axs[i_m]\n",
    "\n",
    "            ax.plot(self.bond_lengths, self.results[i_m,i_b,0,:], label=self.list_methods[0],color='k')\n",
    "            s=15 \n",
    "            for i_f in range(1,len(self.list_methods)):\n",
    "                ax.scatter(self.bond_lengths, self.results[i_m,i_b,i_f,:], label=self.list_methods[i_f], color=colors[i_f-1],s=s)\n",
    "                s*=0.9\n",
    "\n",
    "            ax.set_title(f'{self.list_molecules[i_m]} dissociation, {self.list_basis[i_b]}')\n",
    "            ax.set_xlabel('R, Angstrom')\n",
    "            ax.set_ylabel('E, Hartree')\n",
    "            ax.legend()\n",
    "    \n",
    "    def print_times(self,i_b):\n",
    "        print('Duration of computation in seconds')\n",
    "        T = np.squeeze(self.times[:,i_b,:])\n",
    "        df = pd.DataFrame(T, index =self.list_molecules,columns =self.list_methods)\n",
    "        return df\n",
    "    "
   ]
  },
  {
   "cell_type": "markdown",
   "metadata": {},
   "source": [
    "# Benchmark Methods against Molecules"
   ]
  },
  {
   "cell_type": "code",
   "execution_count": 3,
   "metadata": {},
   "outputs": [],
   "source": [
    "list_methods=['fci','hf','ccsd','cisd']\n",
    "list_basis =['sto-3g','cc-pVDZ','cc-pVDZ','cc-pVTZ','cc-pVQZ','cc-pV5Z']\n",
    "list_molecules=['h2','h2o','h4','lih','nh3','n2']"
   ]
  },
  {
   "cell_type": "code",
   "execution_count": 4,
   "metadata": {},
   "outputs": [],
   "source": [
    "# list_methods[:-1]"
   ]
  },
  {
   "cell_type": "code",
   "execution_count": 5,
   "metadata": {},
   "outputs": [],
   "source": [
    "# bench = benchmark(list_molecules=['h2','lih'],list_methods=['fci','hf'])\n",
    "bench = benchmark(list_molecules=list_molecules,list_methods=list_methods[:-1])"
   ]
  },
  {
   "cell_type": "code",
   "execution_count": null,
   "metadata": {},
   "outputs": [
    {
     "name": "stdout",
     "output_type": "stream",
     "text": [
      "1 molecule out of 6\n",
      "1 basis out of 1\n",
      "1 method out of 3\n",
      "2 method out of 3\n",
      "3 method out of 3\n",
      "2 molecule out of 6\n",
      "1 basis out of 1\n",
      "1 method out of 3\n",
      "2 method out of 3\n",
      "3 method out of 3\n"
     ]
    }
   ],
   "source": [
    "bench.compute_all()"
   ]
  },
  {
   "cell_type": "code",
   "execution_count": null,
   "metadata": {},
   "outputs": [],
   "source": [
    "import pickle\n",
    "with open('bench_molecules.pickle', 'wb') as f:\n",
    "    pickle.dump(bench, f)"
   ]
  },
  {
   "cell_type": "code",
   "execution_count": 7,
   "metadata": {},
   "outputs": [
    {
     "data": {
      "image/png": "[encoded data removed]",
      "text/plain": [
       "<Figure size 1080x360 with 3 Axes>"
      ]
     },
     "metadata": {
      "needs_background": "light"
     },
     "output_type": "display_data"
    }
   ],
   "source": [
    "bench.plot_all(0)"
   ]
  },
  {
   "cell_type": "code",
   "execution_count": 8,
   "metadata": {},
   "outputs": [
    {
     "data": {
      "text/html": [
       "<div>\n",
       "<style scoped>\n",
       "    .dataframe tbody tr th:only-of-type {\n",
       "        vertical-align: middle;\n",
       "    }\n",
       "\n",
       "    .dataframe tbody tr th {\n",
       "        vertical-align: top;\n",
       "    }\n",
       "\n",
       "    .dataframe thead th {\n",
       "        text-align: right;\n",
       "    }\n",
       "</style>\n",
       "<table border=\"1\" class=\"dataframe\">\n",
       "  <thead>\n",
       "    <tr style=\"text-align: right;\">\n",
       "      <th></th>\n",
       "      <th>fci</th>\n",
       "      <th>hf</th>\n",
       "    </tr>\n",
       "  </thead>\n",
       "  <tbody>\n",
       "    <tr>\n",
       "      <th>h2</th>\n",
       "      <td>10.856712</td>\n",
       "      <td>16.130583</td>\n",
       "    </tr>\n",
       "    <tr>\n",
       "      <th>lih</th>\n",
       "      <td>10.727693</td>\n",
       "      <td>18.968600</td>\n",
       "    </tr>\n",
       "  </tbody>\n",
       "</table>\n",
       "</div>"
      ],
      "text/plain": [
       "           fci         hf\n",
       "h2   10.856712  16.130583\n",
       "lih  10.727693  18.968600"
      ]
     },
     "execution_count": 8,
     "metadata": {},
     "output_type": "execute_result"
    }
   ],
   "source": [
    "bench.print_times(0)"
   ]
  },
  {
   "cell_type": "markdown",
   "metadata": {},
   "source": [
    "# one by one"
   ]
  },
  {
   "cell_type": "code",
   "execution_count": 6,
   "metadata": {},
   "outputs": [],
   "source": [
    "basis = 'sto-3g'"
   ]
  },
  {
   "cell_type": "code",
   "execution_count": 2,
   "metadata": {},
   "outputs": [],
   "source": [
    "bond_lengths = np.linspace(0.2,2.6,15)"
   ]
  },
  {
   "cell_type": "markdown",
   "metadata": {},
   "source": [
    "## H<sub>2</sub>"
   ]
  },
  {
   "cell_type": "code",
   "execution_count": 8,
   "metadata": {},
   "outputs": [
    {
     "name": "stdout",
     "output_type": "stream",
     "text": [
      "E = 0.15748213365503272 Eh\n",
      "E = -0.8488991062024303 Eh\n",
      "E = -1.0882281844069168 Eh\n",
      "E = -1.136928959400571 Eh\n",
      "E = -1.1229570527982327 Eh\n",
      "E = -1.0887645364963472 Eh\n",
      "E = -1.050442037218747 Eh\n",
      "E = -1.0154682491653277 Eh\n",
      "E = -0.987392996293216 Eh\n",
      "E = -0.9670259116093083 Eh\n",
      "E = -0.9534242125062942 Eh\n",
      "E = -0.9449089870950516 Eh\n",
      "E = -0.9398197912188275 Eh\n",
      "E = -0.9368706035283361 Eh\n",
      "E = -0.9351960308386078 Eh\n"
     ]
    }
   ],
   "source": [
    "#Run FCI\n",
    "FCI_PES = obtain_PES(['h2'], bond_lengths, basis, method='fci')"
   ]
  },
  {
   "cell_type": "code",
   "execution_count": 9,
   "metadata": {},
   "outputs": [
    {
     "name": "stdout",
     "output_type": "stream",
     "text": [
      "E = 0.16412595411335862 Eh\n",
      "E = -0.8397057843499789 Eh\n",
      "E = -1.074887931719117 Eh\n",
      "E = -1.1175258568986912 Eh\n",
      "E = -1.0951595815644795 Eh\n",
      "E = -1.0495617842752072 Eh\n",
      "E = -0.9960202460350677 Eh\n",
      "E = -0.9415475409906814 Eh\n",
      "E = -0.8899750208893146 Eh\n",
      "E = -0.8432718025417755 Eh\n",
      "E = -0.8022428650141384 Eh\n",
      "E = -0.7669825247359998 Eh\n",
      "E = -0.7371545448988288 Eh\n",
      "E = -0.7121961606082431 Eh\n",
      "E = -0.6914700512624794 Eh\n"
     ]
    }
   ],
   "source": [
    "#Run HF\n",
    "HF_PES = obtain_PES(['h2'], bond_lengths, basis,  method='hf')"
   ]
  },
  {
   "cell_type": "code",
   "execution_count": 10,
   "metadata": {},
   "outputs": [
    {
     "name": "stdout",
     "output_type": "stream",
     "text": [
      "E = 0.15748412056436217 Eh\n",
      "E = -0.8488985094851161 Eh\n",
      "E = -1.0882310174307857 Eh\n",
      "E = -1.1369333351418656 Eh\n",
      "E = -1.1229593878059763 Eh\n",
      "E = -1.0887606905920533 Eh\n",
      "E = -1.050426089327126 Eh\n",
      "E = -1.015441636439638 Eh\n",
      "E = -0.9873692257052735 Eh\n",
      "E = -0.9670168314563374 Eh\n",
      "E = -0.9534301294889956 Eh\n",
      "E = -0.9449225613845066 Eh\n",
      "E = -0.9398332746700124 Eh\n",
      "E = -0.9368793989542732 Eh\n",
      "E = -0.9351989265367034 Eh\n"
     ]
    }
   ],
   "source": [
    "#Run CCSD\n",
    "CCSD_PES = obtain_PES(['h2'], bond_lengths, basis,  method='ccsd')"
   ]
  },
  {
   "cell_type": "code",
   "execution_count": 11,
   "metadata": {},
   "outputs": [
    {
     "data": {
      "text/plain": [
       "<matplotlib.legend.Legend at 0x7f0fb81142b0>"
      ]
     },
     "execution_count": 11,
     "metadata": {},
     "output_type": "execute_result"
    },
    {
     "data": {
      "image/png": "[encoded data removed]",
      "text/plain": [
       "<Figure size 432x288 with 1 Axes>"
      ]
     },
     "metadata": {
      "needs_background": "light"
     },
     "output_type": "display_data"
    }
   ],
   "source": [
    "#Plot H2 PESs\n",
    "\n",
    "plt.title('H2 dissociation, STO-3G')\n",
    "plt.xlabel('R, Angstrom')\n",
    "plt.ylabel('E, Hartree')\n",
    "\n",
    "plt.plot(bond_lengths, FCI_PES, label='FCI')\n",
    "plt.scatter(bond_lengths, HF_PES, label='HF', color='orange')\n",
    "plt.scatter(bond_lengths, CCSD_PES, label='CCSD', color='purple')\n",
    "plt.legend()"
   ]
  },
  {
   "cell_type": "markdown",
   "metadata": {},
   "source": [
    "# two H2 far away"
   ]
  },
  {
   "cell_type": "code",
   "execution_count": 2,
   "metadata": {},
   "outputs": [],
   "source": [
    "bond_lengths = np.linspace(0.2,2.6,15)"
   ]
  },
  {
   "cell_type": "code",
   "execution_count": 3,
   "metadata": {},
   "outputs": [
    {
     "name": "stdout",
     "output_type": "stream",
     "text": [
      "E = 0.3149642670630426 Eh\n",
      "E = -1.6977982125337805 Eh\n",
      "E = -2.1764563672960966 Eh\n",
      "E = -2.273857914853844 Eh\n",
      "E = -2.2459140984905015 Eh\n",
      "E = -2.1775290631429867 Eh\n",
      "E = -2.100884063486812 Eh\n",
      "E = -2.030936488242109 Eh\n",
      "E = -1.974786103304678 Eh\n",
      "E = -1.9340518182378508 Eh\n",
      "E = -1.9068484749648489 Eh\n",
      "E = -1.8898179728208233 Eh\n",
      "E = -1.8796395818245855 Eh\n",
      "E = -1.873741206806981 Eh\n",
      "E = -1.8703920615813012 Eh\n",
      "E = 0.31496426730945704 Eh\n",
      "E = -1.697798212655953 Eh\n",
      "E = -2.1764563687298324 Eh\n",
      "E = -2.27385791874977 Eh\n",
      "E = -2.2459141055043865 Eh\n",
      "E = -2.177529072841211 Eh\n",
      "E = -2.1008840743116 Eh\n",
      "E = -2.0309364981914246 Eh\n",
      "E = -1.9747861109189886 Eh\n",
      "E = -1.9340518231565338 Eh\n",
      "E = -1.9068484777038046 Eh\n",
      "E = -1.8898179741697305 Eh\n",
      "E = -1.8796395824261836 Eh\n",
      "E = -1.8737412070541009 Eh\n",
      "E = -1.8703920616757173 Eh\n",
      "E = 0.31496426730968885 Eh\n",
      "E = -1.6977982126597695 Eh\n",
      "E = -2.176456368749504 Eh\n",
      "E = -2.2738579187993957 Eh\n",
      "E = -2.245914105593351 Eh\n",
      "E = -2.177529072966175 Eh\n",
      "E = -2.1008840744543087 Eh\n",
      "E = -2.0309364983258478 Eh\n",
      "E = -1.974786111024212 Eh\n",
      "E = -1.934051823225855 Eh\n",
      "E = -1.9068484777430637 Eh\n",
      "E = -1.8898179741893812 Eh\n",
      "E = -1.8796395824350827 Eh\n",
      "E = -1.8737412070578165 Eh\n",
      "E = -1.87039206167716 Eh\n"
     ]
    }
   ],
   "source": [
    "#Run FCI\n",
    "method='fci'\n",
    "FCI_PES_far_020 = obtain_PES(['h2farh2', 20], bond_lengths, basis, method=method)\n",
    "FCI_PES_far_050 = obtain_PES(['h2farh2', 50], bond_lengths, basis, method=method)\n",
    "FCI_PES_far_100 = obtain_PES(['h2farh2',100], bond_lengths, basis, method=method)"
   ]
  },
  {
   "cell_type": "code",
   "execution_count": 4,
   "metadata": {},
   "outputs": [
    {
     "name": "stdout",
     "output_type": "stream",
     "text": [
      "E = 0.32825049405101714 Eh\n",
      "E = -1.6794123494164812 Eh\n",
      "E = -2.1497765180862975 Eh\n",
      "E = -2.2350522683756817 Eh\n",
      "E = -2.190319707464405 Eh\n",
      "E = -2.099124171848145 Eh\n",
      "E = -1.9920410808130802 Eh\n",
      "E = -1.8830955191472194 Eh\n",
      "E = -1.7799505408843477 Eh\n",
      "E = -1.686543729618704 Eh\n",
      "E = -1.6044859594105518 Eh\n",
      "E = -1.5339650498708477 Eh\n",
      "E = -1.4743090770590241 Eh\n",
      "E = -1.4243923141911403 Eh\n",
      "E = -1.3829401105018104 Eh\n",
      "E = 0.32825133878853996 Eh\n",
      "E = -1.679411886232673 Eh\n",
      "E = -2.1497761355164013 Eh\n",
      "E = -2.235051946420054 Eh\n",
      "E = -2.1903193922029787 Eh\n",
      "E = -2.0991238234803484 Eh\n",
      "E = -1.9920407430699816 Eh\n",
      "E = -1.883095271487341 Eh\n",
      "E = -1.7799503989939933 Eh\n",
      "E = -1.686543665254923 Eh\n",
      "E = -1.6044859421448534 Eh\n",
      "E = -1.5339650561347193 Eh\n",
      "E = -1.4743090898410647 Eh\n",
      "E = -1.424392322719148 Eh\n",
      "E = -1.3829401096015879 Eh\n",
      "E = 0.3282516215123681 Eh\n",
      "E = -1.6794117290585577 Eh\n",
      "E = -2.149776001228355 Eh\n",
      "E = -2.235051831808862 Eh\n",
      "E = -2.190319279391405 Eh\n",
      "E = -2.0991236980311676 Eh\n",
      "E = -1.9920406197583236 Eh\n",
      "E = -1.8830951785107417 Eh\n",
      "E = -1.7799503424589174 Eh\n",
      "E = -1.6865436358709778 Eh\n",
      "E = -1.6044859298215655 Eh\n",
      "E = -1.5339650529530127 Eh\n",
      "E = -1.4743090898929476 Eh\n",
      "E = -1.4243923220926185 Eh\n",
      "E = -1.382940106281519 Eh\n"
     ]
    }
   ],
   "source": [
    "#Run HF\n",
    "method='hf'\n",
    "HF_PES_far_020 = obtain_PES(['h2farh2', 20], bond_lengths, basis, method=method)\n",
    "HF_PES_far_050 = obtain_PES(['h2farh2', 50], bond_lengths, basis, method=method)\n",
    "HF_PES_far_100 = obtain_PES(['h2farh2',100], bond_lengths, basis, method=method)"
   ]
  },
  {
   "cell_type": "code",
   "execution_count": 5,
   "metadata": {},
   "outputs": [
    {
     "name": "stdout",
     "output_type": "stream",
     "text": [
      "E = 0.31496823861671736 Eh\n",
      "E = -1.6977970271850853 Eh\n",
      "E = -2.176462044946282 Eh\n",
      "E = -2.2738666644310226 Eh\n",
      "E = -2.2459187308647097 Eh\n",
      "E = -2.1775212659513787 Eh\n",
      "E = -2.1008519870069993 Eh\n",
      "E = -2.0308830497907544 Eh\n",
      "E = -1.974738350318297 Eh\n",
      "E = -1.9340334834816004 Eh\n",
      "E = -1.9068601882000957 Eh\n",
      "E = -1.8898450775173194 Eh\n",
      "E = -1.8796665473130618 Eh\n",
      "E = -1.8737588142592698 Eh\n",
      "E = -1.8703978713672345 Eh\n",
      "E = 0.3149682401643466 Eh\n",
      "E = -1.6977970228930863 Eh\n",
      "E = -2.176462039952853 Eh\n",
      "E = -2.2738666702372075 Eh\n",
      "E = -2.2459187611268807 Eh\n",
      "E = -2.1775213374505342 Eh\n",
      "E = -2.1008521039376404 Eh\n",
      "E = -2.0308831893813393 Eh\n",
      "E = -1.974738480265767 Eh\n",
      "E = -1.934033586556999 Eh\n",
      "E = -1.9068602507824013 Eh\n",
      "E = -1.8898451043967195 Eh\n",
      "E = -1.8796665486537922 Eh\n",
      "E = -1.8737588037667 Eh\n",
      "E = -1.8703978602966478 Eh\n",
      "E = 0.3149682406315429 Eh\n",
      "E = -1.697797021197196 Eh\n",
      "E = -2.1764620374845207 Eh\n",
      "E = -2.273866670358621 Eh\n",
      "E = -2.245918768364298 Eh\n",
      "E = -2.1775213598495515 Eh\n",
      "E = -2.1008521406909715 Eh\n",
      "E = -2.0308832342639165 Eh\n",
      "E = -1.9747385248998428 Eh\n",
      "E = -1.9340336266577607 Eh\n",
      "E = -1.9068602731784257 Eh\n",
      "E = -1.8898451145422341 Eh\n",
      "E = -1.8796665497845104 Eh\n",
      "E = -1.873758801171033 Eh\n",
      "E = -1.8703978572869278 Eh\n"
     ]
    }
   ],
   "source": [
    "#Run CCSD\n",
    "method='ccsd'\n",
    "CCSD_PES_far_020 = obtain_PES(['h2farh2', 20], bond_lengths, basis, method=method)\n",
    "CCSD_PES_far_050 = obtain_PES(['h2farh2', 50], bond_lengths, basis, method=method)\n",
    "CCSD_PES_far_100 = obtain_PES(['h2farh2',100], bond_lengths, basis, method=method)"
   ]
  },
  {
   "cell_type": "code",
   "execution_count": 6,
   "metadata": {},
   "outputs": [
    {
     "data": {
      "text/plain": [
       "<matplotlib.legend.Legend at 0x7f0fb88bb390>"
      ]
     },
     "execution_count": 6,
     "metadata": {},
     "output_type": "execute_result"
    },
    {
     "data": {
      "image/png": "[encoded data removed]",
      "text/plain": [
       "<Figure size 432x288 with 1 Axes>"
      ]
     },
     "metadata": {
      "needs_background": "light"
     },
     "output_type": "display_data"
    }
   ],
   "source": [
    "#Plot H2 PESs\n",
    "\n",
    "plt.title('H2 dissociation, STO-3G')\n",
    "plt.xlabel('R, Angstrom')\n",
    "plt.ylabel('E, Hartree')\n",
    "\n",
    "plt.plot(bond_lengths, FCI_PES_far_100, label='FCI')\n",
    "plt.scatter(bond_lengths, HF_PES_far_100, label='HF', color='orange')\n",
    "plt.scatter(bond_lengths, CCSD_PES_far_100, label='CCSD', color='purple')\n",
    "plt.legend()"
   ]
  },
  {
   "cell_type": "code",
   "execution_count": 20,
   "metadata": {},
   "outputs": [
    {
     "data": {
      "text/plain": [
       "<matplotlib.legend.Legend at 0x7f0fb715b908>"
      ]
     },
     "execution_count": 20,
     "metadata": {},
     "output_type": "execute_result"
    },
    {
     "data": {
      "image/png": "[encoded data removed]",
      "text/plain": [
       "<Figure size 432x288 with 1 Axes>"
      ]
     },
     "metadata": {
      "needs_background": "light"
     },
     "output_type": "display_data"
    }
   ],
   "source": [
    "#Plot H2 PESs\n",
    "\n",
    "plt.title('H2 dissociation, STO-3G')\n",
    "plt.xlabel('R, Angstrom')\n",
    "plt.ylabel('E, Hartree')\n",
    "\n",
    "plt.plot(bond_lengths, FCI_PES_far_100, label='FCI', color='blue')\n",
    "plt.plot(bond_lengths, 2*FCI_PES, label='FCI', color='blue')\n",
    "plt.scatter(bond_lengths, HF_PES_far_100, label='HF', color='orange')\n",
    "plt.scatter(bond_lengths, 2*HF_PES, label='HF', color='orange')\n",
    "plt.scatter(bond_lengths, CCSD_PES_far_100, label='CCSD', color='purple')\n",
    "plt.scatter(bond_lengths, 2*CCSD_PES, label='CCSD', color='purple')\n",
    "plt.legend()"
   ]
  },
  {
   "cell_type": "code",
   "execution_count": 22,
   "metadata": {},
   "outputs": [
    {
     "data": {
      "text/plain": [
       "<matplotlib.legend.Legend at 0x7f0fb6eaea90>"
      ]
     },
     "execution_count": 22,
     "metadata": {},
     "output_type": "execute_result"
    },
    {
     "data": {
      "image/png": "[encoded data removed]",
      "text/plain": [
       "<Figure size 1080x360 with 3 Axes>"
      ]
     },
     "metadata": {
      "needs_background": "light"
     },
     "output_type": "display_data"
    }
   ],
   "source": [
    "#Plot H2 PESs\n",
    "scale=10**9\n",
    "\n",
    "plt.figure(figsize=(15,5))\n",
    "\n",
    "title = 'E(H2<-d->H2) - 2 E(H2), '\n",
    "\n",
    "plt.subplot(1,3,1)\n",
    "plt.plot(bond_lengths, (FCI_PES_far_020-2*FCI_PES)*scale, label='FCI')\n",
    "plt.plot(bond_lengths, (HF_PES_far_020-2*HF_PES)*scale, label='HF', color='orange')\n",
    "plt.plot(bond_lengths, (CCSD_PES_far_020-2*CCSD_PES)*scale, label='CCSD', color='purple')\n",
    "plt.title(title + 'd = 20')\n",
    "plt.xlabel('R, Angstrom')\n",
    "plt.ylabel('E, Hartree')\n",
    "plt.legend()\n",
    "\n",
    "plt.subplot(1,3,2)\n",
    "plt.plot(bond_lengths, (FCI_PES_far_050-2*FCI_PES)*scale, label='FCI')\n",
    "plt.plot(bond_lengths, (HF_PES_far_050-2*HF_PES)*scale, label='HF', color='orange')\n",
    "plt.plot(bond_lengths, (CCSD_PES_far_050-2*CCSD_PES)*scale, label='CCSD', color='purple')\n",
    "plt.title(title + 'd = 50')\n",
    "plt.xlabel('R, Angstrom')\n",
    "plt.ylabel('E, Hartree')\n",
    "plt.legend()\n",
    "\n",
    "plt.subplot(1,3,3)\n",
    "plt.plot(bond_lengths, (FCI_PES_far_100-2*FCI_PES)*scale, label='FCI')\n",
    "plt.plot(bond_lengths, (HF_PES_far_100-2*HF_PES)*scale, label='HF', color='orange')\n",
    "plt.plot(bond_lengths, (CCSD_PES_far_100-2*CCSD_PES)*scale, label='CCSD', color='purple')\n",
    "plt.title(title + 'd = 100')\n",
    "plt.xlabel('R, Angstrom')\n",
    "plt.ylabel('E, Hartree')\n",
    "plt.legend()"
   ]
  },
  {
   "cell_type": "markdown",
   "metadata": {},
   "source": [
    "TODO\n",
    "change unit on y label\n",
    "add CISD"
   ]
  },
  {
   "cell_type": "markdown",
   "metadata": {},
   "source": [
    "# LiH"
   ]
  },
  {
   "cell_type": "code",
   "execution_count": 23,
   "metadata": {},
   "outputs": [
    {
     "name": "stdout",
     "output_type": "stream",
     "text": [
      "E = -4.041729928511248 Eh\n",
      "E = -6.476001431266474 Eh\n",
      "E = -7.178193643340489 Eh\n",
      "E = -7.526498486565391 Eh\n",
      "E = -7.712630400158973 Eh\n",
      "E = -7.809958142660568 Eh\n",
      "E = -7.858103655150282 Eh\n",
      "E = -7.878453652319019 Eh\n",
      "E = -7.882668558604159 Eh\n",
      "E = -7.877535303598006 Eh\n",
      "E = -7.86726186399658 Eh\n",
      "E = -7.854568284484584 Eh\n",
      "E = -7.841269334302725 Eh\n",
      "E = -7.828604512640165 Eh\n",
      "E = -7.8173999273756625 Eh\n",
      "E = -3.999938081850282 Eh\n",
      "E = -6.442865006638948 Eh\n",
      "E = -7.157727610056979 Eh\n",
      "E = -7.507561971836502 Eh\n",
      "E = -7.69493922797108 Eh\n",
      "E = -7.793148010030828 Eh\n",
      "E = -7.84129823610769 Eh\n",
      "E = -7.86062131505413 Eh\n",
      "E = -7.862747581116303 Eh\n",
      "E = -7.854432789114544 Eh\n",
      "E = -7.839814773080818 Eh\n",
      "E = -7.821502044433597 Eh\n",
      "E = -7.801168740856861 Eh\n",
      "E = -7.779919081959606 Eh\n",
      "E = -7.758519166159427 Eh\n",
      "E = -4.04162633762092 Eh\n",
      "E = -6.475814567885648 Eh\n",
      "E = -7.178151795208303 Eh\n",
      "E = -7.526489297627454 Eh\n",
      "E = -7.712624094698165 Eh\n",
      "E = -7.809951465614481 Eh\n",
      "E = -7.8580960299230584 Eh\n",
      "E = -7.878444199417256 Eh\n",
      "E = -7.882656689502364 Eh\n",
      "E = -7.877520997837847 Eh\n",
      "E = -7.867244928173387 Eh\n",
      "E = -7.854547794592297 Eh\n",
      "E = -7.8412435153040905 Eh\n",
      "E = -7.828570729160714 Eh\n",
      "E = -7.817355013474601 Eh\n"
     ]
    },
    {
     "data": {
      "text/plain": [
       "<matplotlib.legend.Legend at 0x7f0fb9058da0>"
      ]
     },
     "execution_count": 23,
     "metadata": {},
     "output_type": "execute_result"
    },
    {
     "data": {
      "image/png": "[encoded data removed]",
      "text/plain": [
       "<Figure size 432x288 with 1 Axes>"
      ]
     },
     "metadata": {
      "needs_background": "light"
     },
     "output_type": "display_data"
    }
   ],
   "source": [
    "#Run FCI\n",
    "FCI_PES = obtain_PES(['lih'], bond_lengths, basis, method='fci');\n",
    "#Run HF\n",
    "HF_PES = obtain_PES(['lih'], bond_lengths, basis,  method='hf');\n",
    "#Run CCSD\n",
    "CCSD_PES = obtain_PES(['lih'], bond_lengths, basis,  method='ccsd');\n",
    "#Plot H2 PESs\n",
    "\n",
    "plt.title('LiH dissociation, STO-3G')\n",
    "plt.xlabel('R, Angstrom')\n",
    "plt.ylabel('E, Hartree')\n",
    "\n",
    "plt.plot(bond_lengths, FCI_PES, label='FCI')\n",
    "plt.scatter(bond_lengths, HF_PES, label='HF', color='orange')\n",
    "plt.scatter(bond_lengths, CCSD_PES, label='CCSD', color='purple')\n",
    "plt.legend()"
   ]
  },
  {
   "cell_type": "markdown",
   "metadata": {},
   "source": [
    "## H<sub>2</sub>O symmetric O-H dissociation"
   ]
  },
  {
   "cell_type": "code",
   "execution_count": 10,
   "metadata": {},
   "outputs": [],
   "source": [
    "bond_lengths = np.linspace(0.5,2.7,15)"
   ]
  },
  {
   "cell_type": "code",
   "execution_count": 11,
   "metadata": {},
   "outputs": [
    {
     "name": "stdout",
     "output_type": "stream",
     "text": [
      "Could not converge\n"
     ]
    }
   ],
   "source": [
    "#Run FCI\n",
    "FCI_PES = obtain_PES(['h2o'], bond_lengths, basis, method='fci')"
   ]
  },
  {
   "cell_type": "code",
   "execution_count": 9,
   "metadata": {},
   "outputs": [
    {
     "name": "stdout",
     "output_type": "stream",
     "text": [
      "E = -73.1294816132027 Eh\n",
      "E = -74.45343797012882 Eh\n",
      "E = -74.87055361048274 Eh\n",
      "E = -74.96308510923824 Eh\n",
      "E = -74.92817508739554 Eh\n",
      "E = -74.84281942863745 Eh\n",
      "E = -74.74051950148719 Eh\n",
      "E = -74.63577758413565 Eh\n",
      "E = -74.5357663865733 Eh\n",
      "E = -74.4449438474384 Eh\n",
      "E = -74.36975504261737 Eh\n",
      "E = -74.29778481417816 Eh\n",
      "E = -74.24167220051008 Eh\n",
      "E = -74.27129957697417 Eh\n",
      "Could not converge\n"
     ]
    }
   ],
   "source": [
    "#Run HF\n",
    "HF_PES = obtain_PES('h2o', bond_lengths, basis,  method='hf')"
   ]
  },
  {
   "cell_type": "code",
   "execution_count": 10,
   "metadata": {},
   "outputs": [
    {
     "name": "stdout",
     "output_type": "stream",
     "text": [
      "E = -73.1427636391869 Eh\n",
      "E = -74.47519485717146 Eh\n",
      "E = -74.90406353010555 Eh\n",
      "E = -75.01370018934803 Eh\n",
      "E = -75.00330155818891 Eh\n",
      "E = -74.95116757042632 Eh\n",
      "E = -74.89128367467832 Eh\n",
      "E = -74.8385340113911 Eh\n",
      "E = -74.80070162375995 Eh\n",
      "E = -74.78105738717322 Eh\n",
      "E = -74.74394274756116 Eh\n",
      "E = -74.77972801511778 Eh\n",
      "E = -74.78338963453125 Eh\n",
      "E = -74.64224434263167 Eh\n",
      "Could not converge\n"
     ]
    }
   ],
   "source": [
    "#Run CCSD\n",
    "CCSD_PES = obtain_PES('h2o', bond_lengths, basis,  method='ccsd')"
   ]
  },
  {
   "cell_type": "code",
   "execution_count": 15,
   "metadata": {},
   "outputs": [
    {
     "data": {
      "text/plain": [
       "<matplotlib.legend.Legend at 0x7f3876d0ff98>"
      ]
     },
     "execution_count": 15,
     "metadata": {},
     "output_type": "execute_result"
    },
    {
     "data": {
      "image/png": "[encoded data removed]",
      "text/plain": [
       "<Figure size 432x288 with 1 Axes>"
      ]
     },
     "metadata": {
      "needs_background": "light"
     },
     "output_type": "display_data"
    }
   ],
   "source": [
    "#Plot H2O PESs\n",
    "\n",
    "plt.title('H2O symmetric dissociation, STO-3G')\n",
    "plt.xlabel('R, Angstrom')\n",
    "plt.ylabel('E, Hartree')\n",
    "\n",
    "plt.plot(bond_lengths, FCI_PES, label='FCI')\n",
    "plt.scatter(bond_lengths, HF_PES, label='HF', color='orange')\n",
    "plt.scatter(bond_lengths, CCSD_PES, label='CCSD', color='purple')\n",
    "plt.legend()"
   ]
  },
  {
   "cell_type": "code",
   "execution_count": null,
   "metadata": {},
   "outputs": [],
   "source": []
  }
 ],
 "metadata": {
  "kernelspec": {
   "display_name": "Python 3",
   "language": "python",
   "name": "python3"
  },
  "language_info": {
   "codemirror_mode": {
    "name": "ipython",
    "version": 3
   },
   "file_extension": ".py",
   "mimetype": "text/x-python",
   "name": "python",
   "nbconvert_exporter": "python",
   "pygments_lexer": "ipython3",
   "version": "3.7.1"
  }
 },
 "nbformat": 4,
 "nbformat_minor": 2
}
