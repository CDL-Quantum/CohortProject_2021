{
 "cells": [
  {
   "cell_type": "markdown",
   "metadata": {},
   "source": [
    "# Review of classical electronic structure methods \n",
    "\n",
    "In order to assess the performance of quantum computing algorithms in addressing the electronic structure problem, we will briefly review a few commonly employed classical electronic structure methods of varying level of approximation. \n",
    "\n",
    "## Hartree-Fock\n",
    "\n",
    "The Hartree-Fock (HF) method employs a **mean-field approximation**, where Coulomb correlation of electrons is neglected. The HF wavefunction is hence restricted to the form of a single Slater determinant, for which the optimal form may be acquired by an optimization of the underlying single particle basis (orbitals). Once the optimal HF orbitals have been found, the HF state may be written as \n",
    "\n",
    "$$ | \\text{HF} \\rangle = \\prod_{p \\in \\text{occ}} \\hat a^\\dagger_p | \\text{vac} \\rangle $$\n",
    "\n",
    "where $\\hat a^\\dagger_p$ creates an electron in the $p^{\\rm{th}}$ optimized HF spin orbital, and  $| \\text{vac} \\rangle$ is the vacuum state (all spin-orbitals unoccupied). Due to the restriction to a single Slater determinant, the HF energy may be obtained very efficiently and can be applied to very large molecules, however it becomes qualitatively incorrect when **electronic correlations** become sufficiently strong. The HF wavefunction is often used as a starting point in more accurate treatments of electronic correlation. \n",
    "\n",
    "## Coupled cluster\n",
    "\n",
    "The Coupled cluster (CC) method introduces electronic correlation to the wavefunction ansatz by operating on the HF reference state with the exponential of excitation operators\n",
    "\n",
    "$$|\\text{CC} \\rangle = e^{\\hat T} | \\text{HF}\\rangle, \\quad \\hat T = \\hat T_1 + \\hat T_2 + ...$$\n",
    "\n",
    "where $\\hat T_1 = \\sum_{ia} t^{a}_i \\hat a^\\dagger_a \\hat a_i$ are referred to as 'singles', $\\hat T_2 = \\sum_{ijab} t^{ab}_{ij} \\hat a^\\dagger_a \\hat a^\\dagger_b \\hat a_i \\hat a_j$ as 'doubles', etc. When the excitation rank is truncated to only singles (S) and doubles (D), $\\hat T = \\hat T_1 + \\hat T_2$, the corresponding ansatz is referred to as CCSD. Since the number of possible single and double excitations for a system of $N$ electrons in $M$ orbitals is polynomial in $M$, one can efficiently solve a system of equations to obtain the optimized CCSD amplitudes. CCSD often gives accurate energies and can be applied to modestly sized chemical systems. However, due to its implementation, it can **violate the variational principle** and give energies lower than the ground state.\n",
    "\n",
    "## Full Configuration Interaction\n",
    "The full configuration interaction (FCI) method yields the **exact ground state energy** within a given basis set. The FCI wavefunction is written as a linear combination of all possible $N$-particle Slater determinants over the orbital basis\n",
    "$$|\\text{FCI} \\rangle =  \\left( \\sum_{ia} C^{a}_i \\hat a^\\dagger_a \\hat a_i + \\sum_{ijab} C^{ab}_{ij} \\hat a^\\dagger_a \\hat a^\\dagger_b \\hat a_i \\hat a_j + ...  \\right) | \\text{HF} \\rangle $$\n",
    "where the sum includes up to $N$-electron excitations, and hence there are an exponential number of coefficients to optimize in $| \\text{FCI} \\rangle$. Due to its **exponential complexity**, FCI is often reserved for only the smallest chemical systems. However, it serves as a useful result to compare to when assessing tractable electronic structure methods."
   ]
  },
  {
   "cell_type": "markdown",
   "metadata": {},
   "source": [
    "# Benchmarking for electronic PESs in minimal basis (STO-3G)\n",
    "\n",
    "We will apply HF, CCSD, and FCI to obtaining the PESs for a few molecular dissociation processes in minimal (STO-3G) basis."
   ]
  },
  {
   "cell_type": "code",
   "execution_count": 1,
   "metadata": {},
   "outputs": [],
   "source": [
    "import numpy as np\n",
    "import matplotlib.pyplot as plt\n",
    "from utility import get_molecular_data, obtain_PES\n",
    "\n",
    "basis = 'sto-3g'"
   ]
  },
  {
   "cell_type": "markdown",
   "metadata": {},
   "source": [
    "## Task 1 (b)"
   ]
  },
  {
   "cell_type": "code",
   "execution_count": 2,
   "metadata": {},
   "outputs": [],
   "source": [
    "from tequila import QubitHamiltonian, Variable, quantumchemistry, gates, PauliString, minimize"
   ]
  },
  {
   "cell_type": "code",
   "execution_count": 5,
   "metadata": {},
   "outputs": [],
   "source": [
    "from timeit import default_timer as timer"
   ]
  },
  {
   "cell_type": "code",
   "execution_count": 30,
   "metadata": {},
   "outputs": [],
   "source": [
    "# try another basis\n",
    "basis = 'sto-3g'\n",
    "# basis = 'cc-pVDZ'\n",
    "# basis = 'cc-pVDZ'\n",
    "# basis = 'cc-pVTZ'\n",
    "# basis = 'cc-pVQZ'\n",
    "# basis = 'cc-pV5Z'"
   ]
  },
  {
   "cell_type": "code",
   "execution_count": 31,
   "metadata": {},
   "outputs": [],
   "source": [
    "bond_lengths = np.linspace(0,100,15)"
   ]
  },
  {
   "cell_type": "code",
   "execution_count": 32,
   "metadata": {},
   "outputs": [
    {
     "data": {
      "text/plain": [
       "array([  0.        ,   7.14285714,  14.28571429,  21.42857143,\n",
       "        28.57142857,  35.71428571,  42.85714286,  50.        ,\n",
       "        57.14285714,  64.28571429,  71.42857143,  78.57142857,\n",
       "        85.71428571,  92.85714286, 100.        ])"
      ]
     },
     "execution_count": 32,
     "metadata": {},
     "output_type": "execute_result"
    }
   ],
   "source": [
    "bond_lengths"
   ]
  },
  {
   "cell_type": "code",
   "execution_count": 33,
   "metadata": {},
   "outputs": [
    {
     "data": {
      "text/plain": [
       "<function utility.get_molecular_data(mol, geometry, xyz_format=False)>"
      ]
     },
     "execution_count": 33,
     "metadata": {},
     "output_type": "execute_result"
    }
   ],
   "source": [
    "get_molecular_data"
   ]
  },
  {
   "cell_type": "code",
   "execution_count": 34,
   "metadata": {},
   "outputs": [
    {
     "data": {
      "text/plain": [
       "<function utility.obtain_PES(molecule, bond_lengths, basis, method)>"
      ]
     },
     "execution_count": 34,
     "metadata": {},
     "output_type": "execute_result"
    }
   ],
   "source": [
    "obtain_PES"
   ]
  },
  {
   "cell_type": "code",
   "execution_count": 35,
   "metadata": {},
   "outputs": [],
   "source": [
    "h2_mol_data = get_molecular_data('h2', 100, xyz_format=True)\n",
    "h2_mol_data = quantumchemistry.Molecule(h2_mol_data, basis)"
   ]
  },
  {
   "cell_type": "code",
   "execution_count": 36,
   "metadata": {},
   "outputs": [],
   "source": [
    "h4_mol_data = get_molecular_data('h4', 85, xyz_format=True)\n",
    "h4_mol_data = quantumchemistry.Molecule(h4_mol_data, basis)"
   ]
  },
  {
   "cell_type": "code",
   "execution_count": 37,
   "metadata": {},
   "outputs": [
    {
     "data": {
      "text/plain": [
       "-0.5486537676143597"
      ]
     },
     "execution_count": 37,
     "metadata": {},
     "output_type": "execute_result"
    }
   ],
   "source": [
    "a = h2_mol_data.compute_energy('hf')\n",
    "a"
   ]
  },
  {
   "cell_type": "code",
   "execution_count": 38,
   "metadata": {},
   "outputs": [
    {
     "data": {
      "text/plain": [
       "-1.0951285844015137"
      ]
     },
     "execution_count": 38,
     "metadata": {},
     "output_type": "execute_result"
    }
   ],
   "source": [
    "b = h4_mol_data.compute_energy('hf')\n",
    "b"
   ]
  },
  {
   "cell_type": "code",
   "execution_count": 39,
   "metadata": {},
   "outputs": [
    {
     "data": {
      "text/plain": [
       "-0.99958096"
      ]
     },
     "execution_count": 39,
     "metadata": {},
     "output_type": "execute_result"
    }
   ],
   "source": [
    "h = (-13.6 * 0.0367493 * 2)\n",
    "h"
   ]
  },
  {
   "cell_type": "code",
   "execution_count": 40,
   "metadata": {},
   "outputs": [],
   "source": [
    "sizeconsistency_hf =  a * 2 - b"
   ]
  },
  {
   "cell_type": "code",
   "execution_count": 41,
   "metadata": {},
   "outputs": [
    {
     "data": {
      "text/plain": [
       "-0.00217895082720565"
      ]
     },
     "execution_count": 41,
     "metadata": {},
     "output_type": "execute_result"
    }
   ],
   "source": [
    "sizeconsistency_hf"
   ]
  },
  {
   "cell_type": "markdown",
   "metadata": {},
   "source": [
    "## H<sub>2</sub>"
   ]
  },
  {
   "cell_type": "code",
   "execution_count": 45,
   "metadata": {},
   "outputs": [],
   "source": [
    "bond_lengths = np.linspace(0.2,2.6,15)"
   ]
  },
  {
   "cell_type": "code",
   "execution_count": 46,
   "metadata": {},
   "outputs": [
    {
     "data": {
      "text/plain": [
       "array([0.2       , 0.37142857, 0.54285714, 0.71428571, 0.88571429,\n",
       "       1.05714286, 1.22857143, 1.4       , 1.57142857, 1.74285714,\n",
       "       1.91428571, 2.08571429, 2.25714286, 2.42857143, 2.6       ])"
      ]
     },
     "execution_count": 46,
     "metadata": {},
     "output_type": "execute_result"
    }
   ],
   "source": [
    "bond_lengths"
   ]
  },
  {
   "cell_type": "code",
   "execution_count": 47,
   "metadata": {},
   "outputs": [
    {
     "name": "stdout",
     "output_type": "stream",
     "text": [
      "E = 0.15748213365503494 Eh\n",
      "E = -0.8488991062024307 Eh\n",
      "E = -1.088228184406917 Eh\n",
      "E = -1.1369289594005694 Eh\n",
      "E = -1.122957052798233 Eh\n",
      "E = -1.0887645364963472 Eh\n",
      "E = -1.050442037218747 Eh\n",
      "E = -1.0154681711140934 Eh\n",
      "E = -0.9873930555210578 Eh\n",
      "E = -0.9670259116093078 Eh\n",
      "E = -0.9534242388722525 Eh\n",
      "E = -0.9449089870950522 Eh\n",
      "E = -0.9398197912188271 Eh\n",
      "E = -0.9368706035283363 Eh\n",
      "E = -0.9351960308386074 Eh\n"
     ]
    }
   ],
   "source": [
    "#Run FCI\n",
    "start = timer()\n",
    "FCI_PES = obtain_PES('h2', bond_lengths, basis, method='fci')\n",
    "end = timer()"
   ]
  },
  {
   "cell_type": "code",
   "execution_count": 48,
   "metadata": {},
   "outputs": [
    {
     "data": {
      "text/plain": [
       "8.77768516299966"
      ]
     },
     "execution_count": 48,
     "metadata": {},
     "output_type": "execute_result"
    }
   ],
   "source": [
    "timefci_h2 = end - start\n",
    "timefci_h2"
   ]
  },
  {
   "cell_type": "code",
   "execution_count": 49,
   "metadata": {},
   "outputs": [
    {
     "name": "stdout",
     "output_type": "stream",
     "text": [
      "E = 0.16412595411336484 Eh\n",
      "E = -0.8397057843499818 Eh\n",
      "E = -1.0748879317191165 Eh\n",
      "E = -1.1175258568986952 Eh\n",
      "E = -1.0951595815644866 Eh\n",
      "E = -1.0495617842752125 Eh\n",
      "E = -0.9960202460350606 Eh\n",
      "E = -0.9415474099692257 Eh\n",
      "E = -0.8899751417971336 Eh\n",
      "E = -0.8432718025417772 Eh\n",
      "E = -0.8022429584004084 Eh\n",
      "E = -0.7669825247360017 Eh\n",
      "E = -0.7371545448988266 Eh\n",
      "E = -0.7121961606082444 Eh\n",
      "E = -0.6914700512624808 Eh\n"
     ]
    }
   ],
   "source": [
    "#Run HF\n",
    "start = timer()\n",
    "HF_PES = obtain_PES('h2', bond_lengths, basis,  method='hf')\n",
    "end = timer()"
   ]
  },
  {
   "cell_type": "code",
   "execution_count": 50,
   "metadata": {},
   "outputs": [
    {
     "data": {
      "text/plain": [
       "22.611647221999647"
      ]
     },
     "execution_count": 50,
     "metadata": {},
     "output_type": "execute_result"
    }
   ],
   "source": [
    "timehf_h2 = end - start\n",
    "timehf_h2"
   ]
  },
  {
   "cell_type": "code",
   "execution_count": 51,
   "metadata": {},
   "outputs": [
    {
     "name": "stdout",
     "output_type": "stream",
     "text": [
      "E = 0.15748412056436448 Eh\n",
      "E = -0.8488985094851165 Eh\n",
      "E = -1.088231017430786 Eh\n",
      "E = -1.1369333351418645 Eh\n",
      "E = -1.122959387805977 Eh\n",
      "E = -1.0887606905920535 Eh\n",
      "E = -1.0504260893271251 Eh\n",
      "E = -1.015441558375805 Eh\n",
      "E = -0.9873692849076257 Eh\n",
      "E = -0.9670168314563383 Eh\n",
      "E = -0.9534301558257338 Eh\n",
      "E = -0.9449225613845083 Eh\n",
      "E = -0.9398332746700112 Eh\n",
      "E = -0.936879398954273 Eh\n",
      "E = -0.9351989265367051 Eh\n"
     ]
    }
   ],
   "source": [
    "#Run CCSD\n",
    "start = timer()\n",
    "CCSD_PES = obtain_PES('h2', bond_lengths, basis,  method='ccsd')\n",
    "end = timer()"
   ]
  },
  {
   "cell_type": "code",
   "execution_count": 52,
   "metadata": {},
   "outputs": [
    {
     "data": {
      "text/plain": [
       "14.01447670000016"
      ]
     },
     "execution_count": 52,
     "metadata": {},
     "output_type": "execute_result"
    }
   ],
   "source": [
    "timeccsd_h2 = end - start\n",
    "timeccsd_h2"
   ]
  },
  {
   "cell_type": "code",
   "execution_count": 53,
   "metadata": {},
   "outputs": [
    {
     "name": "stdout",
     "output_type": "stream",
     "text": [
      "E = 0.15748213365503494 Eh\n",
      "E = -0.8488991062024307 Eh\n",
      "E = -1.0882281844069175 Eh\n",
      "E = -1.1369289594005698 Eh\n",
      "E = -1.122957052798233 Eh\n",
      "E = -1.0887645364963472 Eh\n",
      "E = -1.050442037218747 Eh\n",
      "E = -1.015468171114093 Eh\n",
      "E = -0.9873930555210574 Eh\n",
      "E = -0.9670259116093076 Eh\n",
      "E = -0.9534242388722525 Eh\n",
      "E = -0.9449089870950522 Eh\n",
      "E = -0.9398197912188271 Eh\n",
      "E = -0.9368706035283365 Eh\n",
      "E = -0.9351960308386076 Eh\n"
     ]
    }
   ],
   "source": [
    "#Run CISD\n",
    "start = timer()\n",
    "CISD_PES = obtain_PES('h2', bond_lengths, basis,  method='cisd')\n",
    "end = timer()"
   ]
  },
  {
   "cell_type": "code",
   "execution_count": 54,
   "metadata": {},
   "outputs": [
    {
     "data": {
      "text/plain": [
       "8.70337414200003"
      ]
     },
     "execution_count": 54,
     "metadata": {},
     "output_type": "execute_result"
    }
   ],
   "source": [
    "timecisd_h2 = end - start\n",
    "timecisd_h2"
   ]
  },
  {
   "cell_type": "code",
   "execution_count": 55,
   "metadata": {},
   "outputs": [
    {
     "name": "stdout",
     "output_type": "stream",
     "text": [
      "0\n",
      "not equal\n",
      "difference: 1.9869093295377116\n",
      "1\n",
      "not equal\n",
      "difference: 0.5967173142273907\n",
      "2\n",
      "not equal\n",
      "difference: -2.8330238686091747\n",
      "3\n",
      "not equal\n",
      "difference: -4.375741294637692\n",
      "4\n",
      "not equal\n",
      "difference: -2.3350077438255568\n",
      "5\n",
      "not equal\n",
      "difference: 3.8459042936977994\n",
      "6\n",
      "not equal\n",
      "difference: 15.947891621959087\n",
      "7\n",
      "not equal\n",
      "difference: 26.61273828796773\n",
      "8\n",
      "not equal\n",
      "difference: 23.77061343172837\n",
      "9\n",
      "not equal\n",
      "difference: 9.080152969298538\n",
      "10\n",
      "not equal\n",
      "difference: -5.916953481288623\n",
      "11\n",
      "not equal\n",
      "difference: -13.574289456030897\n",
      "12\n",
      "not equal\n",
      "difference: -13.483451184126416\n",
      "13\n",
      "not equal\n",
      "difference: -8.795425936458656\n",
      "14\n",
      "not equal\n",
      "difference: -2.8956980975269886\n"
     ]
    }
   ],
   "source": [
    "for i in range(len(bond_lengths)):\n",
    "    print(i)\n",
    "    print(\"equal\") if CCSD_PES[i] == CISD_PES[i] else print(\"not equal\")\n",
    "    print(\"difference: \" + str((CCSD_PES[i] - CISD_PES[i])*(10**6)))"
   ]
  },
  {
   "cell_type": "code",
   "execution_count": 56,
   "metadata": {},
   "outputs": [
    {
     "data": {
      "image/png": "[encoded data removed]",
      "text/plain": [
       "<Figure size 432x288 with 1 Axes>"
      ]
     },
     "metadata": {
      "needs_background": "light"
     },
     "output_type": "display_data"
    }
   ],
   "source": [
    "#Plot H2 PESs\n",
    "\n",
    "plt.title('H2 dissociation, STO-3G')\n",
    "plt.xlabel('R, Angstrom')\n",
    "plt.ylabel('E, Hartree')\n",
    "\n",
    "plt.plot(bond_lengths, FCI_PES, label='FCI')\n",
    "plt.scatter(bond_lengths, HF_PES, label='HF', color='orange')\n",
    "plt.scatter(bond_lengths, CCSD_PES, label='CCSD', color='purple')\n",
    "plt.scatter(bond_lengths, CISD_PES, label='CISD', color='green')\n",
    "\n",
    "plt.legend()\n",
    "plt.savefig('h2_dissociation')"
   ]
  },
  {
   "cell_type": "code",
   "execution_count": null,
   "metadata": {},
   "outputs": [],
   "source": [
    "#Plot H2 TOE\n",
    "\n",
    "plt.title('H2 time to execute, STO-3G')\n",
    "plt.ylabel('T, seconds')\n",
    "\n",
    "times = [timefci_h2, timehf_h2, timeccsd_h2, timecisd_h2]\n",
    "plt.hist(timefci_h2, label='FCI')\n",
    "plt.hist(timehf_h2, label='HF', color='orange')\n",
    "plt.hist(timeccsd_h2, label='CCSD', color='purple')\n",
    "plt.hist(timecisd_h2, label='CISD', color='green')\n",
    "plt.hist(timecisd_h2, density=False, bins=30)  # density=False would make counts\n",
    "plt.legend()"
   ]
  },
  {
   "cell_type": "markdown",
   "metadata": {},
   "source": [
    "<img src=\"figs/testimage.png\">"
   ]
  },
  {
   "cell_type": "markdown",
   "metadata": {},
   "source": [
    "## H<sub>2</sub>O symmetric O-H dissociation"
   ]
  },
  {
   "cell_type": "code",
   "execution_count": 67,
   "metadata": {},
   "outputs": [],
   "source": [
    "bond_lengths = np.linspace(0.1,2.5,15)"
   ]
  },
  {
   "cell_type": "code",
   "execution_count": 68,
   "metadata": {},
   "outputs": [
    {
     "name": "stdout",
     "output_type": "stream",
     "text": [
      "E = -20.553771141334764 Eh\n",
      "E = -64.564818707552 Eh\n",
      "E = -72.14984536015112 Eh\n",
      "E = -74.24382722957368 Eh\n",
      "E = -74.85934058833972 Eh\n",
      "E = -75.01055655633581 Eh\n",
      "E = -75.00356512166908 Eh\n",
      "E = -74.94630669715279 Eh\n",
      "E = -74.88182451078211 Eh\n",
      "E = -74.82681470609228 Eh\n",
      "E = -74.78732953658485 Eh\n",
      "E = -74.76322402929027 Eh\n",
      "E = -74.75030651311205 Eh\n",
      "E = -74.74382125661842 Eh\n",
      "E = -74.74059050316203 Eh\n"
     ]
    }
   ],
   "source": [
    "#Run FCI\n",
    "start = timer()\n",
    "FCI_PES = obtain_PES('h2o', bond_lengths, basis, method='fci')\n",
    "end = timer()"
   ]
  },
  {
   "cell_type": "code",
   "execution_count": 69,
   "metadata": {},
   "outputs": [
    {
     "data": {
      "text/plain": [
       "11.299829350999971"
      ]
     },
     "execution_count": 69,
     "metadata": {},
     "output_type": "execute_result"
    }
   ],
   "source": [
    "timefci_h2o = end - start\n",
    "timefci_h2o"
   ]
  },
  {
   "cell_type": "code",
   "execution_count": 70,
   "metadata": {},
   "outputs": [
    {
     "name": "stdout",
     "output_type": "stream",
     "text": [
      "E = -20.552132284766426 Eh\n",
      "E = -64.55967663960871 Eh\n",
      "E = -72.13907969071613 Eh\n",
      "E = -74.22459875378345 Eh\n",
      "E = -74.82823817948282 Eh\n",
      "E = -74.96165147934957 Eh\n",
      "E = -74.92817508740464 Eh\n",
      "E = -74.83391237791122 Eh\n",
      "E = -74.72139237065929 Eh\n",
      "E = -74.60781024500737 Eh\n",
      "E = -74.50149773997009 Eh\n",
      "E = -74.40772786804456 Eh\n",
      "E = -74.32694041215728 Eh\n",
      "E = -74.26084947441159 Eh\n",
      "E = -74.2722265299641 Eh\n"
     ]
    }
   ],
   "source": [
    "#Run HF\n",
    "start = timer()\n",
    "HF_PES = obtain_PES('h2o', bond_lengths, basis,  method='hf')\n",
    "end = timer()"
   ]
  },
  {
   "cell_type": "code",
   "execution_count": 71,
   "metadata": {},
   "outputs": [
    {
     "data": {
      "text/plain": [
       "17.573146169999745"
      ]
     },
     "execution_count": 71,
     "metadata": {},
     "output_type": "execute_result"
    }
   ],
   "source": [
    "timehf_h2o = end - start\n",
    "timehf_h2o"
   ]
  },
  {
   "cell_type": "code",
   "execution_count": 72,
   "metadata": {},
   "outputs": [
    {
     "name": "stdout",
     "output_type": "stream",
     "text": [
      "E = -20.553770535981744 Eh\n",
      "E = -64.5648146605731 Eh\n",
      "E = -72.14982918998028 Eh\n",
      "E = -74.24379590307741 Eh\n",
      "E = -74.85927788559391 Eh\n",
      "E = -75.01043286702772 Eh\n",
      "E = -75.00330155818898 Eh\n",
      "E = -74.94573255480928 Eh\n",
      "E = -74.88088098064634 Eh\n",
      "E = -74.82649324674901 Eh\n",
      "E = -74.79153267626143 Eh\n",
      "E = -74.77426949942473 Eh\n",
      "E = -74.77830089113601 Eh\n",
      "E = -74.78204801890462 Eh\n",
      "E = -74.64213142546797 Eh\n"
     ]
    }
   ],
   "source": [
    "#Run CCSD\n",
    "start = timer()\n",
    "CCSD_PES = obtain_PES('h2o', bond_lengths, basis,  method='ccsd')\n",
    "end = timer()"
   ]
  },
  {
   "cell_type": "code",
   "execution_count": 73,
   "metadata": {},
   "outputs": [
    {
     "data": {
      "text/plain": [
       "21.070637611000166"
      ]
     },
     "execution_count": 73,
     "metadata": {},
     "output_type": "execute_result"
    }
   ],
   "source": [
    "timeccsd_h2o = end - start\n",
    "timeccsd_h2o"
   ]
  },
  {
   "cell_type": "code",
   "execution_count": 64,
   "metadata": {},
   "outputs": [
    {
     "name": "stdout",
     "output_type": "stream",
     "text": [
      "E = -20.553770812485425 Eh\n",
      "E = -63.30953409197321 Eh\n",
      "E = -71.47469378937646 Eh\n",
      "E = -73.93026473650659 Eh\n",
      "E = -74.7324167385128 Eh\n",
      "E = -74.97666441770652 Eh\n",
      "E = -75.01661765428426 Eh\n",
      "E = -74.97922232797262 Eh\n",
      "E = -74.91676926209904 Eh\n",
      "E = -74.8508576498539 Eh\n",
      "E = -74.79020409617537 Eh\n",
      "E = -74.73922945881797 Eh\n",
      "E = -74.71240657645414 Eh\n",
      "E = -74.7237507342515 Eh\n",
      "E = -74.7299489738088 Eh\n"
     ]
    }
   ],
   "source": [
    "start = timer()\n",
    "CISD_PES = obtain_PES('h2o', bond_lengths, basis,  method='cisd')\n",
    "end = timer()"
   ]
  },
  {
   "cell_type": "code",
   "execution_count": 65,
   "metadata": {},
   "outputs": [
    {
     "data": {
      "text/plain": [
       "12.439671166000153"
      ]
     },
     "execution_count": 65,
     "metadata": {},
     "output_type": "execute_result"
    }
   ],
   "source": [
    "timecisd_h2o = end - start\n",
    "timecisd_h2o"
   ]
  },
  {
   "cell_type": "code",
   "execution_count": 75,
   "metadata": {},
   "outputs": [
    {
     "data": {
      "image/png": "[encoded data removed]",
      "text/plain": [
       "<Figure size 432x288 with 1 Axes>"
      ]
     },
     "metadata": {
      "needs_background": "light"
     },
     "output_type": "display_data"
    }
   ],
   "source": [
    "#Plot H2O PESs\n",
    "\n",
    "plt.title('H2O symmetric dissociation, STO-3G')\n",
    "plt.xlabel('R, Angstrom')\n",
    "plt.ylabel('E, Hartree')\n",
    "\n",
    "plt.plot(bond_lengths, FCI_PES, label='FCI')\n",
    "plt.scatter(bond_lengths, HF_PES, label='HF', color='orange')\n",
    "plt.scatter(bond_lengths, CCSD_PES, label='CCSD', color='purple')\n",
    "#plt.scatter(bond_lengths, CISD_PES, label='CISD', color='green')\n",
    "\n",
    "plt.legend()\n",
    "plt.savefig('h2o_dissociation.png')"
   ]
  },
  {
   "cell_type": "markdown",
   "metadata": {},
   "source": [
    "## LiH"
   ]
  },
  {
   "cell_type": "code",
   "execution_count": 76,
   "metadata": {},
   "outputs": [],
   "source": [
    "bond_lengths = np.linspace(0.3,2.6,15)"
   ]
  },
  {
   "cell_type": "code",
   "execution_count": 77,
   "metadata": {},
   "outputs": [
    {
     "name": "stdout",
     "output_type": "stream",
     "text": [
      "E = -5.881786886158692 Eh\n",
      "E = -6.925282864529373 Eh\n",
      "E = -7.379446982378825 Eh\n",
      "E = -7.62642979567252 Eh\n",
      "E = -7.761162034873516 Eh\n",
      "E = -7.832334925500511 Eh\n",
      "E = -7.867260599272539 Eh\n",
      "E = -7.88098231460632 Eh\n",
      "E = -7.882064186803914 Eh\n",
      "E = -7.875711259224834 Eh\n",
      "E = -7.865256408324724 Eh\n",
      "E = -7.852909020638875 Eh\n",
      "E = -7.840175831223494 Eh\n",
      "E = -7.828104085211536 Eh\n",
      "E = -7.817399927375689 Eh\n"
     ]
    }
   ],
   "source": [
    "#Run FCI\n",
    "start = timer()\n",
    "FCI_PES = obtain_PES('lih', bond_lengths, basis, method='fci')\n",
    "end = timer()"
   ]
  },
  {
   "cell_type": "code",
   "execution_count": 78,
   "metadata": {},
   "outputs": [
    {
     "data": {
      "text/plain": [
       "8.03241652099996"
      ]
     },
     "execution_count": 78,
     "metadata": {},
     "output_type": "execute_result"
    }
   ],
   "source": [
    "timefci_lhi = end - start\n",
    "timefci_lhi"
   ]
  },
  {
   "cell_type": "code",
   "execution_count": 79,
   "metadata": {},
   "outputs": [
    {
     "name": "stdout",
     "output_type": "stream",
     "text": [
      "E = -5.842510738072491 Eh\n",
      "E = -6.901520788087373 Eh\n",
      "E = -7.359956234153662 Eh\n",
      "E = -7.608056736309235 Eh\n",
      "E = -7.743922800250033 Eh\n",
      "E = -7.8156426139500725 Eh\n",
      "E = -7.850229846807039 Eh\n",
      "E = -7.86265126612485 Eh\n",
      "E = -7.861452286097636 Eh\n",
      "E = -7.851802661473536 Eh\n",
      "E = -7.836964866202663 Eh\n",
      "E = -7.81904391162751 Eh\n",
      "E = -7.799420629286217 Eh\n",
      "E = -7.779025947289931 Eh\n",
      "E = -7.758519166159335 Eh\n"
     ]
    }
   ],
   "source": [
    "start = timer()\n",
    "HF_PES = obtain_PES('lih', bond_lengths, basis,  method='hf')\n",
    "end = timer()"
   ]
  },
  {
   "cell_type": "code",
   "execution_count": 80,
   "metadata": {},
   "outputs": [
    {
     "data": {
      "text/plain": [
       "14.303375603999939"
      ]
     },
     "execution_count": 80,
     "metadata": {},
     "output_type": "execute_result"
    }
   ],
   "source": [
    "timehf_lhi = end - start\n",
    "timehf_lhi"
   ]
  },
  {
   "cell_type": "code",
   "execution_count": 81,
   "metadata": {},
   "outputs": [
    {
     "name": "stdout",
     "output_type": "stream",
     "text": [
      "E = -5.881617113461478 Eh\n",
      "E = -6.925180051154551 Eh\n",
      "E = -7.37942982971722 Eh\n",
      "E = -7.626422894142749 Eh\n",
      "E = -7.76115564846209 Eh\n",
      "E = -7.832327988681904 Eh\n",
      "E = -7.867252454615895 Eh\n",
      "E = -7.880972191526 Eh\n",
      "E = -7.882051700398201 Eh\n",
      "E = -7.875696442618595 Eh\n",
      "E = -7.8652389662116615 Eh\n",
      "E = -7.852887980617965 Eh\n",
      "E = -7.840149460768691 Eh\n",
      "E = -7.82806990232103 Eh\n",
      "E = -7.81735501347461 Eh\n"
     ]
    }
   ],
   "source": [
    "#Run CCSD\n",
    "star = timer()\n",
    "CCSD_PES = obtain_PES('lih', bond_lengths, basis,  method='ccsd')\n",
    "end = timer()"
   ]
  },
  {
   "cell_type": "code",
   "execution_count": 82,
   "metadata": {},
   "outputs": [
    {
     "data": {
      "text/plain": [
       "38.80341409599987"
      ]
     },
     "execution_count": 82,
     "metadata": {},
     "output_type": "execute_result"
    }
   ],
   "source": [
    "timeccsd_lhi = end - start\n",
    "timeccsd_lhi"
   ]
  },
  {
   "cell_type": "code",
   "execution_count": 84,
   "metadata": {},
   "outputs": [
    {
     "data": {
      "image/png": "[encoded data removed]",
      "text/plain": [
       "<Figure size 432x288 with 1 Axes>"
      ]
     },
     "metadata": {
      "needs_background": "light"
     },
     "output_type": "display_data"
    }
   ],
   "source": [
    "#Plot LiH PESs\n",
    "\n",
    "plt.title('LiH symmetric dissociation, STO-3G')\n",
    "plt.xlabel('R, Angstrom')\n",
    "plt.ylabel('E, Hartree')\n",
    "\n",
    "plt.plot(bond_lengths, FCI_PES, label='FCI')\n",
    "plt.scatter(bond_lengths, HF_PES, label='HF', color='orange')\n",
    "plt.scatter(bond_lengths, CCSD_PES, label='CCSD', color='purple')\n",
    "plt.legend()\n",
    "plt.savefig('lih_dissociation')"
   ]
  },
  {
   "cell_type": "markdown",
   "metadata": {},
   "source": [
    "## H<sub>4</sub>"
   ]
  },
  {
   "cell_type": "code",
   "execution_count": 8,
   "metadata": {},
   "outputs": [],
   "source": [
    "bond_lengths = np.linspace(0.3,2.4,15)"
   ]
  },
  {
   "cell_type": "code",
   "execution_count": 17,
   "metadata": {},
   "outputs": [
    {
     "name": "stdout",
     "output_type": "stream",
     "text": [
      "E = 2.4456387329653175 Eh\n",
      "E = -0.16672878751600972 Eh\n",
      "E = -1.191865903474187 Eh\n",
      "E = -1.6413493630599731 Eh\n",
      "E = -1.8467405732017914 Eh\n",
      "E = -1.9365084915912725 Eh\n",
      "E = -1.967549880339193 Eh\n",
      "E = -1.968499098357047 Eh\n",
      "E = -1.9551250115194287 Eh\n",
      "E = -1.9365597434430886 Eh\n",
      "E = -1.9180537900460375 Eh\n",
      "E = -1.9022947738864633 Eh\n",
      "E = -1.8902054406231423 Eh\n",
      "E = -1.8816138081427218 Eh\n"
     ]
    }
   ],
   "source": [
    "#Run FCI\n",
    "start = timer()\n",
    "FCI_PES = obtain_PES('h4', bond_lengths[:14], basis, method='fci')\n",
    "end = timer()"
   ]
  },
  {
   "cell_type": "code",
   "execution_count": 10,
   "metadata": {},
   "outputs": [
    {
     "data": {
      "text/plain": [
       "10.261523454000098"
      ]
     },
     "execution_count": 10,
     "metadata": {},
     "output_type": "execute_result"
    }
   ],
   "source": [
    "timefci_h4 = end - start\n",
    "timefci_h4"
   ]
  },
  {
   "cell_type": "code",
   "execution_count": 18,
   "metadata": {},
   "outputs": [
    {
     "name": "stdout",
     "output_type": "stream",
     "text": [
      "E = 2.51067460506912 Eh\n",
      "E = -0.08517721151966073 Eh\n",
      "E = -1.0916132353952208 Eh\n",
      "E = -1.521594320893344 Eh\n",
      "E = -1.7069364267791536 Eh\n",
      "E = -1.7751902345257937 Eh\n",
      "E = -1.7824403658029082 Eh\n",
      "E = -1.7568919615120455 Eh\n",
      "E = -1.7141497935729015 Eh\n",
      "E = -1.6634040511154629 Eh\n",
      "E = -1.610268141651468 Eh\n",
      "E = -1.5582105017014232 Eh\n",
      "E = -1.5093189361387194 Eh\n",
      "E = -1.4647366812567202 Eh\n"
     ]
    }
   ],
   "source": [
    "#Run HF\n",
    "start = timer()\n",
    "HF_PES = obtain_PES('h4', bond_lengths[:14], basis,  method='hf')\n",
    "end = timer()"
   ]
  },
  {
   "cell_type": "code",
   "execution_count": 12,
   "metadata": {},
   "outputs": [
    {
     "data": {
      "text/plain": [
       "20.504835479000008"
      ]
     },
     "execution_count": 12,
     "metadata": {},
     "output_type": "execute_result"
    }
   ],
   "source": [
    "timehf_h4 = end - start\n",
    "timehf_h4"
   ]
  },
  {
   "cell_type": "code",
   "execution_count": 19,
   "metadata": {},
   "outputs": [
    {
     "name": "stdout",
     "output_type": "stream",
     "text": [
      "E = 2.4474307442445298 Eh\n",
      "E = -0.16733816026056259 Eh\n",
      "E = -1.1930174395018955 Eh\n",
      "E = -1.6430958139685676 Eh\n",
      "E = -1.8494504027922363 Eh\n",
      "E = -1.9407101313240125 Eh\n",
      "E = -1.9739067528033327 Eh\n",
      "E = -1.9778018619699946 Eh\n",
      "E = -1.967978956927352 Eh\n",
      "E = -1.9528824030101832 Eh\n",
      "E = -1.9368653512424514 Eh\n",
      "E = -1.9220051521703139 Eh\n",
      "E = -1.909170076984367 Eh\n",
      "E = -1.8985923318608928 Eh\n"
     ]
    }
   ],
   "source": [
    "#Run CCSD\n",
    "start = timer()\n",
    "CCSD_PES = obtain_PES('h4', bond_lengths[:14], basis,  method='ccsd')\n",
    "end = timer()"
   ]
  },
  {
   "cell_type": "code",
   "execution_count": 14,
   "metadata": {},
   "outputs": [
    {
     "data": {
      "text/plain": [
       "17.70263412899999"
      ]
     },
     "execution_count": 14,
     "metadata": {},
     "output_type": "execute_result"
    }
   ],
   "source": [
    "timeccsd_h4 = end - start\n",
    "timeccsd_h4"
   ]
  },
  {
   "cell_type": "code",
   "execution_count": 21,
   "metadata": {},
   "outputs": [
    {
     "data": {
      "image/png": "[encoded data removed]",
      "text/plain": [
       "<Figure size 432x288 with 1 Axes>"
      ]
     },
     "metadata": {
      "needs_background": "light"
     },
     "output_type": "display_data"
    }
   ],
   "source": [
    "#Plot H4 PESs\n",
    "\n",
    "plt.title('H4 symmetric dissociation, STO-3G')\n",
    "plt.xlabel('R, Angstrom')\n",
    "plt.ylabel('E, Hartree')\n",
    "\n",
    "plt.plot(bond_lengths[:14], FCI_PES, label='FCI')\n",
    "plt.scatter(bond_lengths[:14], HF_PES, label='HF', color='orange')\n",
    "plt.scatter(bond_lengths[:14], CCSD_PES, label='CCSD', color='purple')\n",
    "plt.legend()\n",
    "plt.savefig('h4_dissociation')"
   ]
  },
  {
   "cell_type": "code",
   "execution_count": null,
   "metadata": {},
   "outputs": [],
   "source": []
  }
 ],
 "metadata": {
  "kernelspec": {
   "display_name": "tequila_devel_3.6",
   "language": "python",
   "name": "tequila_devel_3.6"
  },
  "language_info": {
   "codemirror_mode": {
    "name": "ipython",
    "version": 3
   },
   "file_extension": ".py",
   "mimetype": "text/x-python",
   "name": "python",
   "nbconvert_exporter": "python",
   "pygments_lexer": "ipython3",
   "version": "3.7.10"
  }
 },
 "nbformat": 4,
 "nbformat_minor": 2
}
