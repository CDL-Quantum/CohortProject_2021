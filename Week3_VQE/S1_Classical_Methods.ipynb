{
 "cells": [
  {
   "cell_type": "markdown",
   "metadata": {},
   "source": [
    "# Review of classical electronic structure methods \n",
    "\n",
    "In order to assess the performance of quantum computing algorithms in addressing the electronic structure problem, we will briefly review a few commonly employed classical electronic structure methods of varying level of approximation. \n",
    "\n",
    "## Hartree-Fock\n",
    "\n",
    "The Hartree-Fock (HF) method employs a **mean-field approximation**, where Coulomb correlation of electrons is neglected. The HF wavefunction is hence restricted to the form of a single Slater determinant, for which the optimal form may be acquired by an optimization of the underlying single particle basis (orbitals). Once the optimal HF orbitals have been found, the HF state may be written as \n",
    "\n",
    "$$ | \\text{HF} \\rangle = \\prod_{p \\in \\text{occ}} \\hat a^\\dagger_p | \\text{vac} \\rangle $$\n",
    "\n",
    "where $\\hat a^\\dagger_p$ creates an electron in the $p^{\\rm{th}}$ optimized HF spin orbital, and  $| \\text{vac} \\rangle$ is the vacuum state (all spin-orbitals unoccupied). Due to the restriction to a single Slater determinant, the HF energy may be obtained very efficiently and can be applied to very large molecules, however it becomes qualitatively incorrect when **electronic correlations** become sufficiently strong. The HF wavefunction is often used as a starting point in more accurate treatments of electronic correlation. \n",
    "\n",
    "## Coupled cluster\n",
    "\n",
    "The Coupled cluster (CC) method introduces electronic correlation to the wavefunction ansatz by operating on the HF reference state with the exponential of excitation operators\n",
    "\n",
    "$$|\\text{CC} \\rangle = e^{\\hat T} | \\text{HF}\\rangle, \\quad \\hat T = \\hat T_1 + \\hat T_2 + ...$$\n",
    "\n",
    "where $\\hat T_1 = \\sum_{ia} t^{a}_i \\hat a^\\dagger_a \\hat a_i$ are referred to as 'singles', $\\hat T_2 = \\sum_{ijab} t^{ab}_{ij} \\hat a^\\dagger_a \\hat a^\\dagger_b \\hat a_i \\hat a_j$ as 'doubles', etc. When the excitation rank is truncated to only singles (S) and doubles (D), $\\hat T = \\hat T_1 + \\hat T_2$, the corresponding ansatz is referred to as CCSD. Since the number of possible single and double excitations for a system of $N$ electrons in $M$ orbitals is polynomial in $M$, one can efficiently solve a system of equations to obtain the optimized CCSD amplitudes. CCSD often gives accurate energies and can be applied to modestly sized chemical systems. However, due to its implementation, it can **violate the variational principle** and give energies lower than the ground state.\n",
    "\n",
    "## Full Configuration Interaction\n",
    "The full configuration interaction (FCI) method yields the **exact ground state energy** within a given basis set. The FCI wavefunction is written as a linear combination of all possible $N$-particle Slater determinants over the orbital basis\n",
    "$$|\\text{FCI} \\rangle =  \\left( \\sum_{ia} C^{a}_i \\hat a^\\dagger_a \\hat a_i + \\sum_{ijab} C^{ab}_{ij} \\hat a^\\dagger_a \\hat a^\\dagger_b \\hat a_i \\hat a_j + ...  \\right) | \\text{HF} \\rangle $$\n",
    "where the sum includes up to $N$-electron excitations, and hence there are an exponential number of coefficients to optimize in $| \\text{FCI} \\rangle$. Due to its **exponential complexity**, FCI is often reserved for only the smallest chemical systems. However, it serves as a useful result to compare to when assessing tractable electronic structure methods."
   ]
  },
  {
   "cell_type": "markdown",
   "metadata": {},
   "source": [
    "# Benchmarking for electronic PESs in minimal basis (STO-3G)\n",
    "\n",
    "We will apply HF, CCSD, and FCI to obtaining the PESs for a few molecular dissociation processes in minimal (STO-3G) basis."
   ]
  },
  {
   "cell_type": "code",
   "execution_count": 1,
   "metadata": {},
   "outputs": [],
   "source": [
    "import numpy as np\n",
    "import matplotlib.pyplot as plt\n",
    "from utility import get_molecular_data, obtain_PES, obtain_potential_manual\n",
    "\n",
    "basis = 'sto-3g'"
   ]
  },
  {
   "cell_type": "markdown",
   "metadata": {},
   "source": [
    "## H<sub>2</sub>"
   ]
  },
  {
   "cell_type": "code",
   "execution_count": 2,
   "metadata": {},
   "outputs": [],
   "source": [
    "bond_lengths = np.linspace(0.2,2.6,15)"
   ]
  },
  {
   "cell_type": "code",
   "execution_count": 3,
   "metadata": {},
   "outputs": [
    {
     "name": "stdout",
     "output_type": "stream",
     "text": [
      "converged SCF energy = 0.164175012061695\n",
      "E = 0.15748213479836348 Eh\n",
      "converged SCF energy = -0.839684083956067\n",
      "E = -0.848899105754729 Eh\n",
      "converged SCF energy = -1.07486102490599\n",
      "E = -1.0882281842437163 Eh\n",
      "converged SCF energy = -1.11750157922789\n",
      "E = -1.1369289593879264 Eh\n",
      "converged SCF energy = -1.09513510118901\n",
      "E = -1.1229570528666362 Eh\n",
      "converged SCF energy = -1.04953250777026\n",
      "E = -1.0887645366068754 Eh\n",
      "converged SCF energy = -0.995976005034107\n",
      "E = -1.0504420373457728 Eh\n",
      "converged SCF energy = -0.941480654707798\n",
      "E = -1.0154682492882445 Eh\n",
      "converged SCF energy = -0.889889958382754\n",
      "E = -0.9873930556257475 Eh\n",
      "converged SCF energy = -0.843174458569733\n",
      "E = -0.9670259116896882 Eh\n",
      "converged SCF energy = -0.80213543384489\n",
      "E = -0.953424238929029 Eh\n",
      "converged SCF energy = -0.766864889751915\n",
      "E = -0.9449089871327179 Eh\n",
      "converged SCF energy = -0.737027158095765\n",
      "E = -0.9398197912427146 Eh\n",
      "converged SCF energy = -0.712060259734193\n",
      "E = -0.9368706035430503 Eh\n",
      "converged SCF energy = -0.691327561197377\n",
      "E = -0.9351960308474736 Eh\n"
     ]
    }
   ],
   "source": [
    "#Run FCI\n",
    "FCI_PES = obtain_PES('h2', bond_lengths, basis, method='fci')"
   ]
  },
  {
   "cell_type": "code",
   "execution_count": 4,
   "metadata": {},
   "outputs": [
    {
     "name": "stdout",
     "output_type": "stream",
     "text": [
      "converged SCF energy = 0.164175012061695\n",
      "converged SCF energy = 0.164175012061696\n",
      "E = 0.16417501206169582 Eh\n",
      "converged SCF energy = -0.839684083956067\n"
     ]
    },
    {
     "name": "stderr",
     "output_type": "stream",
     "text": [
      "Overwritten attributes  get_ovlp get_hcore  of <class 'pyscf.scf.hf.RHF'>\n"
     ]
    },
    {
     "name": "stdout",
     "output_type": "stream",
     "text": [
      "converged SCF energy = -0.839684083956067\n",
      "E = -0.8396840839560673 Eh\n",
      "converged SCF energy = -1.07486102490599\n",
      "converged SCF energy = -1.07486102490599\n",
      "E = -1.0748610249059865 Eh\n",
      "converged SCF energy = -1.11750157922789\n",
      "converged SCF energy = -1.11750157922789\n",
      "E = -1.1175015792278884 Eh\n",
      "converged SCF energy = -1.09513510118901\n",
      "converged SCF energy = -1.09513510118901\n",
      "E = -1.0951351011890111 Eh\n",
      "converged SCF energy = -1.04953250777026\n",
      "converged SCF energy = -1.04953250777026\n",
      "E = -1.0495325077702624 Eh\n",
      "converged SCF energy = -0.995976005034107\n",
      "converged SCF energy = -0.995976005034107\n",
      "E = -0.9959760050341071 Eh\n",
      "converged SCF energy = -0.941480654707798\n",
      "converged SCF energy = -0.941480654707798\n",
      "E = -0.9414806547077981 Eh\n",
      "converged SCF energy = -0.889889958382754\n",
      "converged SCF energy = -0.889889958382754\n",
      "E = -0.889889958382754 Eh\n",
      "converged SCF energy = -0.843174458569733\n",
      "converged SCF energy = -0.843174458569733\n",
      "E = -0.8431744585697332 Eh\n",
      "converged SCF energy = -0.80213543384489\n",
      "converged SCF energy = -0.80213543384489\n",
      "E = -0.8021354338448896 Eh\n",
      "converged SCF energy = -0.766864889751915\n",
      "converged SCF energy = -0.766864889751915\n",
      "E = -0.7668648897519155 Eh\n",
      "converged SCF energy = -0.737027158095765\n",
      "converged SCF energy = -0.737027158095765\n",
      "E = -0.7370271580957655 Eh\n",
      "converged SCF energy = -0.712060259734193\n",
      "converged SCF energy = -0.712060259734193\n",
      "E = -0.7120602597341925 Eh\n",
      "converged SCF energy = -0.691327561197377\n",
      "converged SCF energy = -0.691327561197377\n",
      "E = -0.6913275611973773 Eh\n"
     ]
    }
   ],
   "source": [
    "#Run HF\n",
    "HF_PES = obtain_PES('h2', bond_lengths, basis,  method='hf')"
   ]
  },
  {
   "cell_type": "code",
   "execution_count": 5,
   "metadata": {},
   "outputs": [
    {
     "name": "stdout",
     "output_type": "stream",
     "text": [
      "converged SCF energy = 0.164175012061695\n",
      "E(CCSD) = 0.1574821318755476  E_corr = -0.006692880186148211\n",
      "E = 0.1574821318755476 Eh\n",
      "converged SCF energy = -0.839684083956067\n",
      "E(CCSD) = -0.8488991194884047  E_corr = -0.009215035532337346\n",
      "E = -0.8488991194884047 Eh\n",
      "converged SCF energy = -1.07486102490599\n",
      "E(CCSD) = -1.088228226369216  E_corr = -0.0133672014632297\n",
      "E = -1.0882282263692162 Eh\n",
      "converged SCF energy = -1.11750157922789\n",
      "E(CCSD) = -1.136929092564816  E_corr = -0.01942751333692788\n",
      "E = -1.1369290925648163 Eh\n",
      "converged SCF energy = -1.09513510118901\n",
      "E(CCSD) = -1.122957052870124  E_corr = -0.02782195168111283\n",
      "E = -1.122957052870124 Eh\n",
      "converged SCF energy = -1.04953250777026\n",
      "E(CCSD) = -1.088764536633295  E_corr = -0.03923202886303243\n",
      "E = -1.0887645366332948 Eh\n",
      "converged SCF energy = -0.995976005034107\n",
      "E(CCSD) = -1.050442037622604  E_corr = -0.0544660325884966\n",
      "E = -1.0504420376226038 Eh\n",
      "converged SCF energy = -0.941480654707798\n",
      "E(CCSD) = -1.015468249382002  E_corr = -0.07398759467420368\n",
      "E = -1.0154682493820018 Eh\n",
      "converged SCF energy = -0.889889958382754\n",
      "E(CCSD) = -0.9873930560203381  E_corr = -0.09750309763758416\n",
      "E = -0.9873930560203381 Eh\n",
      "converged SCF energy = -0.843174458569733\n",
      "E(CCSD) = -0.9670259127457637  E_corr = -0.1238514541760305\n",
      "E = -0.9670259127457637 Eh\n",
      "converged SCF energy = -0.80213543384489\n",
      "E(CCSD) = -0.9534242405780753  E_corr = -0.1512888067331857\n",
      "E = -0.9534242405780753 Eh\n",
      "converged SCF energy = -0.766864889751915\n",
      "E(CCSD) = -0.944908988273049  E_corr = -0.1780440985211336\n",
      "E = -0.944908988273049 Eh\n",
      "converged SCF energy = -0.737027158095765\n",
      "E(CCSD) = -0.9398197914114316  E_corr = -0.2027926333156661\n",
      "E = -0.9398197914114316 Eh\n",
      "converged SCF energy = -0.712060259734193\n",
      "E(CCSD) = -0.9368706035451176  E_corr = -0.2248103438109251\n",
      "E = -0.9368706035451176 Eh\n",
      "converged SCF energy = -0.691327561197377\n",
      "E(CCSD) = -0.9351959716501697  E_corr = -0.2438684104527925\n",
      "E = -0.9351959716501697 Eh\n"
     ]
    }
   ],
   "source": [
    "#Run CCSD\n",
    "CCSD_PES = obtain_PES('h2', bond_lengths, basis,  method='ccsd')"
   ]
  },
  {
   "cell_type": "code",
   "execution_count": 6,
   "metadata": {},
   "outputs": [
    {
     "data": {
      "text/plain": "<matplotlib.legend.Legend at 0x7ffaa45b5e80>"
     },
     "execution_count": 6,
     "metadata": {},
     "output_type": "execute_result"
    },
    {
     "data": {
      "text/plain": "<Figure size 432x288 with 1 Axes>",
      "image/png": "[encoded data removed]"
     },
     "metadata": {
      "needs_background": "light"
     },
     "output_type": "display_data"
    }
   ],
   "source": [
    "#Plot H2 PESs\n",
    "\n",
    "plt.title('H2 dissociation, STO-3G')\n",
    "plt.xlabel('R, Angstrom')\n",
    "plt.ylabel('E, Hartree')\n",
    "\n",
    "plt.plot(bond_lengths, FCI_PES, label='FCI')\n",
    "plt.scatter(bond_lengths, HF_PES, label='HF', color='orange')\n",
    "plt.scatter(bond_lengths, CCSD_PES, label='CCSD', color='purple')\n",
    "plt.legend()"
   ]
  },
  {
   "cell_type": "markdown",
   "metadata": {},
   "source": [
    "<img src=\"figs/testimage.png\">"
   ]
  },
  {
   "cell_type": "markdown",
   "metadata": {},
   "source": [
    "## H<sub>2</sub>O symmetric O-H dissociation"
   ]
  },
  {
   "cell_type": "code",
   "execution_count": 7,
   "metadata": {},
   "outputs": [],
   "source": [
    "bond_lengths = np.linspace(0.5,2.7,15)"
   ]
  },
  {
   "cell_type": "code",
   "execution_count": 8,
   "metadata": {},
   "outputs": [
    {
     "name": "stdout",
     "output_type": "stream",
     "text": [
      "converged SCF energy = -73.1294523897689\n",
      "E = -73.14278405666448 Eh\n",
      "converged SCF energy = -74.4533755394603\n",
      "E = -74.47523205124749 Eh\n",
      "converged SCF energy = -74.870474914869\n",
      "E = -74.90413378004632 Eh\n",
      "converged SCF energy = -74.9629980695871\n",
      "E = -75.01383133947512 Eh\n",
      "converged SCF energy = -74.9280772606054\n",
      "E = -75.00356512179695 Eh\n",
      "converged SCF energy = -74.8427106360511\n",
      "E = -74.95170869149446 Eh\n",
      "converged SCF energy = -74.7404009823899\n",
      "E = -74.89218648240383 Eh\n",
      "converged SCF energy = -74.6356397052129\n",
      "E = -74.83923063682423 Eh\n",
      "converged SCF energy = -74.5355993564524\n",
      "E = -74.79866365949067 Eh\n",
      "converged SCF energy = -74.4447494379007\n",
      "E = -74.77161515193764 Eh\n",
      "converged SCF energy = -74.3648409739232\n",
      "E = -74.75568947210508 Eh\n",
      "converged SCF energy = -74.2975641705531\n",
      "E = -74.74704715180512 Eh\n",
      "converged SCF energy = -74.2414470355423\n",
      "E = -74.65097549241926 Eh\n",
      "converged SCF energy = -74.2701898592245\n",
      "E = -74.73852377799332 Eh\n",
      "SCF not converged.\n",
      "SCF energy = -74.2656447326294\n",
      "E = -74.73799909202332 Eh\n"
     ]
    }
   ],
   "source": [
    "#Run FCI\n",
    "FCI_PES = obtain_PES('h2o', bond_lengths, basis, method='fci')"
   ]
  },
  {
   "cell_type": "code",
   "execution_count": 9,
   "metadata": {},
   "outputs": [
    {
     "name": "stdout",
     "output_type": "stream",
     "text": [
      "converged SCF energy = -73.1294523897688\n",
      "converged SCF energy = -73.1294523897688\n",
      "E = -73.12945238976883 Eh\n",
      "converged SCF energy = -74.4533755394603\n",
      "converged SCF energy = -74.4533755394604\n",
      "E = -74.45337553946037 Eh\n",
      "converged SCF energy = -74.870474914869\n",
      "converged SCF energy = -74.870474914869\n",
      "E = -74.87047491486898 Eh\n",
      "converged SCF energy = -74.9629980695871\n",
      "converged SCF energy = -74.9629980695871\n",
      "E = -74.96299806958714 Eh\n",
      "converged SCF energy = -74.9280772606054\n",
      "converged SCF energy = -74.9280772606054\n",
      "E = -74.92807726060539 Eh\n",
      "converged SCF energy = -74.8427106360511\n",
      "converged SCF energy = -74.8427106360511\n",
      "E = -74.84271063605105 Eh\n",
      "converged SCF energy = -74.7404009823899\n",
      "converged SCF energy = -74.7404009823899\n",
      "E = -74.74040098238986 Eh\n",
      "converged SCF energy = -74.6356397052129\n",
      "converged SCF energy = -74.6356397052129\n",
      "E = -74.63563970521294 Eh\n",
      "converged SCF energy = -74.5355993564524\n",
      "converged SCF energy = -74.5355993564522\n",
      "E = -74.5355993564522 Eh\n",
      "converged SCF energy = -74.4447494379007\n",
      "converged SCF energy = -74.4447494379009\n",
      "E = -74.44474943790092 Eh\n",
      "converged SCF energy = -74.3648409739232\n",
      "converged SCF energy = -74.3648409736703\n",
      "E = -74.36484097367027 Eh\n",
      "converged SCF energy = -74.2975641705531\n",
      "converged SCF energy = -74.297564170471\n",
      "E = -74.29756417047096 Eh\n",
      "converged SCF energy = -74.2414470355422\n",
      "converged SCF energy = -74.2414470355399\n",
      "E = -74.24144703553988 Eh\n",
      "converged SCF energy = -74.2701898592245\n",
      "converged SCF energy = -74.2701898592245\n",
      "E = -74.27018985922447 Eh\n",
      "SCF not converged.\n",
      "SCF energy = -72.9270816227828\n",
      "SCF not converged.\n",
      "SCF energy = -72.9270917495668\n",
      "E = -72.92709174956676 Eh\n"
     ]
    }
   ],
   "source": [
    "#Run HF\n",
    "HF_PES = obtain_PES('h2o', bond_lengths, basis,  method='hf')"
   ]
  },
  {
   "cell_type": "code",
   "execution_count": 10,
   "metadata": {},
   "outputs": [
    {
     "name": "stdout",
     "output_type": "stream",
     "text": [
      "converged SCF energy = -73.1294523897688\n",
      "E(CCSD) = -73.14276521635891  E_corr = -0.01331282659012168\n",
      "E = -73.14276521635891 Eh\n",
      "converged SCF energy = -74.4533755394603\n",
      "E(CCSD) = -74.47519627862117  E_corr = -0.02182073916078376\n",
      "E = -74.47519627862117 Eh\n",
      "converged SCF energy = -74.870474914869\n",
      "E(CCSD) = -74.9040649673917  E_corr = -0.03359005252268966\n",
      "E = -74.9040649673917 Eh\n",
      "converged SCF energy = -74.9629980695871\n",
      "E(CCSD) = -75.01370059196516  E_corr = -0.050702522378083\n",
      "E = -75.01370059196516 Eh\n",
      "converged SCF energy = -74.9280772606054\n",
      "E(CCSD) = -75.00329904142158  E_corr = -0.07522178081620409\n",
      "E = -75.00329904142158 Eh\n",
      "converged SCF energy = -74.8427106360511\n",
      "E(CCSD) = -74.95116129966111  E_corr = -0.1084506636100826\n",
      "E = -74.95116129966111 Eh\n",
      "converged SCF energy = -74.7404009823899\n",
      "E(CCSD) = -74.89127919056959  E_corr = -0.1508782081797493\n",
      "E = -74.89127919056959 Eh\n",
      "converged SCF energy = -74.6356397052129\n",
      "E(CCSD) = -74.83854079640633  E_corr = -0.2029010911934002\n",
      "E = -74.83854079640633 Eh\n",
      "converged SCF energy = -74.5355993564524\n",
      "E(CCSD) = -74.80072831364214  E_corr = -0.2651289571897991\n",
      "E = -74.80072831364214 Eh\n",
      "converged SCF energy = -74.4447494379007\n",
      "E(CCSD) = -74.78110150320275  E_corr = -0.3363520653021086\n",
      "E = -74.78110150320275 Eh\n",
      "converged SCF energy = -74.3648409739232\n",
      "E(CCSD) = -74.77700317832807  E_corr = -0.4121622044049568\n",
      "E = -74.77700317832807 Eh\n",
      "converged SCF energy = -74.2975641705531\n",
      "E(CCSD) = -74.77976383151322  E_corr = -0.4821996609601078\n",
      "E = -74.77976383151322 Eh\n",
      "converged SCF energy = -74.2414470355422\n",
      "E(CCSD) = -74.78341662872513  E_corr = -0.5419695931828665\n",
      "E = -74.78341662872513 Eh\n",
      "converged SCF energy = -74.2701898592245\n",
      "CCSD not converged\n",
      "E(CCSD) = -74.64225424492635  E_corr = -0.3720643857018925\n",
      "E = -74.64225424492635 Eh\n",
      "SCF not converged.\n",
      "SCF energy = -72.9778522830213\n",
      "E(CCSD) = -72.96892172318115  E_corr = 0.008930559840164555\n",
      "E = -72.96892172318115 Eh\n"
     ]
    }
   ],
   "source": [
    "#Run CCSD\n",
    "CCSD_PES = obtain_PES('h2o', bond_lengths, basis,  method='ccsd')"
   ]
  },
  {
   "cell_type": "code",
   "execution_count": 11,
   "metadata": {},
   "outputs": [
    {
     "data": {
      "text/plain": "<matplotlib.legend.Legend at 0x7ffaa44c8f10>"
     },
     "execution_count": 11,
     "metadata": {},
     "output_type": "execute_result"
    },
    {
     "data": {
      "text/plain": "<Figure size 432x288 with 1 Axes>",
      "image/png": "[encoded data removed]"
     },
     "metadata": {
      "needs_background": "light"
     },
     "output_type": "display_data"
    }
   ],
   "source": [
    "#Plot H2O PESs\n",
    "\n",
    "plt.title('H2O symmetric dissociation, STO-3G')\n",
    "plt.xlabel('R, Angstrom')\n",
    "plt.ylabel('E, Hartree')\n",
    "\n",
    "plt.plot(bond_lengths, FCI_PES, label='FCI')\n",
    "plt.scatter(bond_lengths, HF_PES, label='HF', color='orange')\n",
    "plt.scatter(bond_lengths, CCSD_PES, label='CCSD', color='purple')\n",
    "plt.legend()"
   ]
  },
  {
   "cell_type": "markdown",
   "metadata": {
    "pycharm": {
     "name": "#%% md\n"
    }
   },
   "source": [
    "## Question 1.\n",
    "Q) Among classical methods, there are techniques based on the variational approach, and those that are not. Identify\n",
    "variational methods among those that were used and explain advantages of the variational approach. Are there any\n",
    "arguments for using non-variational techniques?\n",
    "\n",
    "A) First, the variational method is defined as below:\n",
    "\n",
    "$ \\epsilon[\\Psi] = \\frac{\\langle \\Psi | H | \\Psi \\rangle}{\\langle \\Psi | \\Psi \\rangle} $\n",
    "\n",
    "- $ \\epsilon \\ge E_0 $, where $ E_0 $ is the ground state energy of $ H $.\n",
    "- $ \\epsilon = E_0 $, if and only if $ \\Psi $ is the ground state of $ H $.\n",
    "\n",
    "\n",
    "1. Hartree Fock method is variational.\n",
    "2. Configuration Interaction is variational.\n",
    "3. Coupled Cluster is NOT variational.\n",
    "\n"
   ]
  }
 ],
 "metadata": {
  "kernelspec": {
   "name": "python3",
   "language": "python",
   "display_name": "Python 3 (ipykernel)"
  },
  "language_info": {
   "codemirror_mode": {
    "name": "ipython",
    "version": 3
   },
   "file_extension": ".py",
   "mimetype": "text/x-python",
   "name": "python",
   "nbconvert_exporter": "python",
   "pygments_lexer": "ipython3",
   "version": "3.6.10"
  }
 },
 "nbformat": 4,
 "nbformat_minor": 2
}