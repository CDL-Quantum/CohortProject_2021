{
 "cells": [
  {
   "cell_type": "markdown",
   "metadata": {},
   "source": [
    "# Review of classical electronic structure methods \n",
    "\n",
    "In order to assess the performance of quantum computing algorithms in addressing the electronic structure problem, we will briefly review a few commonly employed classical electronic structure methods of varying level of approximation. \n",
    "\n",
    "## Hartree-Fock\n",
    "\n",
    "The Hartree-Fock (HF) method employs a **mean-field approximation**, where Coulomb correlation of electrons is neglected. The HF wavefunction is hence restricted to the form of a single Slater determinant, for which the optimal form may be acquired by an optimization of the underlying single particle basis (orbitals). Once the optimal HF orbitals have been found, the HF state may be written as \n",
    "\n",
    "$$ | \\text{HF} \\rangle = \\prod_{p \\in \\text{occ}} \\hat a^\\dagger_p | \\text{vac} \\rangle $$\n",
    "\n",
    "where $\\hat a^\\dagger_p$ creates an electron in the $p^{\\rm{th}}$ optimized HF spin orbital, and  $| \\text{vac} \\rangle$ is the vacuum state (all spin-orbitals unoccupied). Due to the restriction to a single Slater determinant, the HF energy may be obtained very efficiently and can be applied to very large molecules, however it becomes qualitatively incorrect when **electronic correlations** become sufficiently strong. The HF wavefunction is often used as a starting point in more accurate treatments of electronic correlation. \n",
    "\n",
    "## Coupled cluster\n",
    "\n",
    "The Coupled cluster (CC) method introduces electronic correlation to the wavefunction ansatz by operating on the HF reference state with the exponential of excitation operators\n",
    "\n",
    "$$|\\text{CC} \\rangle = e^{\\hat T} | \\text{HF}\\rangle, \\quad \\hat T = \\hat T_1 + \\hat T_2 + ...$$\n",
    "\n",
    "where $\\hat T_1 = \\sum_{ia} t^{a}_i \\hat a^\\dagger_a \\hat a_i$ are referred to as 'singles', $\\hat T_2 = \\sum_{ijab} t^{ab}_{ij} \\hat a^\\dagger_a \\hat a^\\dagger_b \\hat a_i \\hat a_j$ as 'doubles', etc. When the excitation rank is truncated to only singles (S) and doubles (D), $\\hat T = \\hat T_1 + \\hat T_2$, the corresponding ansatz is referred to as CCSD. Since the number of possible single and double excitations for a system of $N$ electrons in $M$ orbitals is polynomial in $M$, one can efficiently solve a system of equations to obtain the optimized CCSD amplitudes. CCSD often gives accurate energies and can be applied to modestly sized chemical systems. However, due to its implementation, it can **violate the variational principle** and give energies lower than the ground state.\n",
    "\n",
    "## Full Configuration Interaction\n",
    "The full configuration interaction (FCI) method yields the **exact ground state energy** within a given basis set. The FCI wavefunction is written as a linear combination of all possible $N$-particle Slater determinants over the orbital basis\n",
    "$$|\\text{FCI} \\rangle =  \\left( \\sum_{ia} C^{a}_i \\hat a^\\dagger_a \\hat a_i + \\sum_{ijab} C^{ab}_{ij} \\hat a^\\dagger_a \\hat a^\\dagger_b \\hat a_i \\hat a_j + ...  \\right) | \\text{HF} \\rangle $$\n",
    "where the sum includes up to $N$-electron excitations, and hence there are an exponential number of coefficients to optimize in $| \\text{FCI} \\rangle$. Due to its **exponential complexity**, FCI is often reserved for only the smallest chemical systems. However, it serves as a useful result to compare to when assessing tractable electronic structure methods."
   ]
  },
  {
   "cell_type": "markdown",
   "metadata": {},
   "source": [
    "# Benchmarking for electronic PESs in minimal basis (STO-3G)\n",
    "\n",
    "We will apply HF, CCSD, and FCI to obtaining the PESs for a few molecular dissociation processes in minimal (STO-3G) basis."
   ]
  },
  {
   "cell_type": "code",
   "execution_count": 1,
   "metadata": {},
   "outputs": [
    {
     "name": "stderr",
     "output_type": "stream",
     "text": [
      "/home/ushnish/.local/lib/python3.7/site-packages/pyscf/lib/misc.py:46: H5pyDeprecationWarning: Using default_file_mode other than 'r' is deprecated. Pass the mode to h5py.File() instead.\n",
      "  h5py.get_config().default_file_mode = 'a'\n"
     ]
    }
   ],
   "source": [
    "import numpy as np\n",
    "import matplotlib.pyplot as plt\n",
    "from utility import get_molecular_data, obtain_PES\n",
    "\n",
    "basis = 'sto-3g'"
   ]
  },
  {
   "cell_type": "markdown",
   "metadata": {},
   "source": [
    "## H<sub>2</sub>"
   ]
  },
  {
   "cell_type": "code",
   "execution_count": 2,
   "metadata": {},
   "outputs": [],
   "source": [
    "bond_lengths = np.linspace(0.2,2.6,15)"
   ]
  },
  {
   "cell_type": "code",
   "execution_count": 3,
   "metadata": {},
   "outputs": [
    {
     "name": "stdout",
     "output_type": "stream",
     "text": [
      "E = 0.15748213365503272 Eh\n",
      "E = -0.8488991062024303 Eh\n",
      "E = -1.0882281844069168 Eh\n",
      "E = -1.136928959400571 Eh\n",
      "E = -1.1229570527982327 Eh\n",
      "E = -1.0887645364963472 Eh\n",
      "E = -1.050442037218747 Eh\n",
      "E = -1.0154682491653277 Eh\n",
      "E = -0.987392996293216 Eh\n",
      "E = -0.9670259116093083 Eh\n",
      "E = -0.9534242125062942 Eh\n",
      "E = -0.9449089870950516 Eh\n",
      "E = -0.9398197912188275 Eh\n",
      "E = -0.9368706035283361 Eh\n",
      "E = -0.9351960308386078 Eh\n"
     ]
    }
   ],
   "source": [
    "#Run FCI\n",
    "FCI_PES = obtain_PES('h2', bond_lengths, basis, method='fci')"
   ]
  },
  {
   "cell_type": "code",
   "execution_count": 4,
   "metadata": {},
   "outputs": [
    {
     "name": "stdout",
     "output_type": "stream",
     "text": [
      "E = 0.16412595411335862 Eh\n",
      "E = -0.8397057843499789 Eh\n",
      "E = -1.074887931719117 Eh\n",
      "E = -1.1175258568986912 Eh\n",
      "E = -1.0951595815644795 Eh\n",
      "E = -1.0495617842752072 Eh\n",
      "E = -0.9960202460350677 Eh\n",
      "E = -0.9415475409906814 Eh\n",
      "E = -0.8899750208893146 Eh\n",
      "E = -0.8432718025417755 Eh\n",
      "E = -0.8022428650141384 Eh\n",
      "E = -0.7669825247359998 Eh\n",
      "E = -0.7371545448988288 Eh\n",
      "E = -0.7121961606082431 Eh\n",
      "E = -0.6914700512624794 Eh\n"
     ]
    }
   ],
   "source": [
    "#Run HF\n",
    "HF_PES = obtain_PES('h2', bond_lengths, basis,  method='hf')"
   ]
  },
  {
   "cell_type": "code",
   "execution_count": 5,
   "metadata": {},
   "outputs": [
    {
     "name": "stdout",
     "output_type": "stream",
     "text": [
      "E = 0.15748412056436217 Eh\n",
      "E = -0.8488985094851161 Eh\n",
      "E = -1.0882310174307857 Eh\n",
      "E = -1.1369333351418656 Eh\n",
      "E = -1.1229593878059763 Eh\n",
      "E = -1.0887606905920533 Eh\n",
      "E = -1.050426089327126 Eh\n",
      "E = -1.015441636439638 Eh\n",
      "E = -0.9873692257052735 Eh\n",
      "E = -0.9670168314563374 Eh\n",
      "E = -0.9534301294889956 Eh\n",
      "E = -0.9449225613845066 Eh\n",
      "E = -0.9398332746700124 Eh\n",
      "E = -0.9368793989542732 Eh\n",
      "E = -0.9351989265367034 Eh\n"
     ]
    }
   ],
   "source": [
    "#Run CCSD\n",
    "CCSD_PES = obtain_PES('h2', bond_lengths, basis,  method='ccsd')"
   ]
  },
  {
   "cell_type": "code",
   "execution_count": 6,
   "metadata": {},
   "outputs": [
    {
     "name": "stdout",
     "output_type": "stream",
     "text": [
      "E = 0.15748213365503183 Eh\n",
      "E = -0.8488991062024303 Eh\n",
      "E = -1.0882281844069168 Eh\n",
      "E = -1.136928959400571 Eh\n",
      "E = -1.1229570527982327 Eh\n",
      "E = -1.0887645364963472 Eh\n",
      "E = -1.050442037218747 Eh\n",
      "E = -1.015468249165328 Eh\n",
      "E = -0.9873929962932162 Eh\n",
      "E = -0.9670259116093078 Eh\n",
      "E = -0.9534242125062942 Eh\n",
      "E = -0.9449089870950516 Eh\n",
      "E = -0.9398197912188275 Eh\n",
      "E = -0.9368706035283361 Eh\n",
      "E = -0.9351960308386078 Eh\n"
     ]
    }
   ],
   "source": [
    "#Run CISD\n",
    "CISD_PES = obtain_PES('h2', bond_lengths, basis,  method='cisd')"
   ]
  },
  {
   "cell_type": "code",
   "execution_count": 7,
   "metadata": {},
   "outputs": [],
   "source": [
    "import pyscf\n",
    "from pyscf import gto\n",
    "\n",
    "def get_cisd_pes(molname, bond_lengths):\n",
    "    \n",
    "    CISD_PES = np.zeros(len(bond_lengths))\n",
    "    for i in range(len(bond_lengths)):\n",
    "        mol = gto.Mole()\n",
    "        mol.atom = get_molecular_data(molname, bond_lengths[i], xyz_format=False)\n",
    "        mol.basis = 'sto3g'\n",
    "        mol.build()\n",
    "\n",
    "        mf = mol.HF().run()\n",
    "        mycc = mf.CISD().run()\n",
    "\n",
    "        CISD_PES[i] = mycc.e_tot\n",
    "\n",
    "    return CISD_PES"
   ]
  },
  {
   "cell_type": "code",
   "execution_count": 8,
   "metadata": {},
   "outputs": [
    {
     "name": "stdout",
     "output_type": "stream",
     "text": [
      "converged SCF energy = 0.164175012061696\n",
      "E(RCISD) = 0.1574821347983634  E_corr = -0.0066928772633324\n",
      "converged SCF energy = -0.839684084028411\n",
      "E(RCISD) = -0.8488991058276221  E_corr = -0.009215021799210823\n",
      "converged SCF energy = -1.07486102487998\n",
      "E(RCISD) = -1.088228184216443  E_corr = -0.01336715933646723\n",
      "converged SCF energy = -1.11750157922795\n",
      "E(RCISD) = -1.136928959387391  E_corr = -0.01942738015944256\n",
      "converged SCF energy = -1.09513510118586\n",
      "E(RCISD) = -1.1229570528643  E_corr = -0.02782195167843848\n",
      "converged SCF energy = -1.04953250775748\n",
      "E(RCISD) = -1.088764536597391  E_corr = -0.03923202883991331\n",
      "converged SCF energy = -0.995976005043253\n",
      "E(RCISD) = -1.050442037352026  E_corr = -0.05446603230877348\n",
      "converged SCF energy = -0.941480654707798\n",
      "E(RCISD) = -1.015468249288245  E_corr = -0.07398759458044676\n",
      "converged SCF energy = -0.88988983743098\n",
      "E(RCISD) = -0.9873929963938767  E_corr = -0.09750315896289638\n",
      "converged SCF energy = -0.843174458580719\n",
      "E(RCISD) = -0.9670259116938728  E_corr = -0.123851453113154\n",
      "converged SCF energy = -0.802135340437111\n",
      "E(RCISD) = -0.9534242125639673  E_corr = -0.1512888721268565\n",
      "converged SCF energy = -0.76686488974921\n",
      "E(RCISD) = -0.9449089871321724  E_corr = -0.1780440973829628\n",
      "converged SCF energy = -0.737027158088941\n",
      "E(RCISD) = -0.9398197912417545  E_corr = -0.2027926331528136\n",
      "converged SCF energy = -0.712060259737983\n",
      "E(RCISD) = -0.9368706035434166  E_corr = -0.2248103438054338\n",
      "converged SCF energy = -0.691327561197377\n",
      "E(RCISD) = -0.9351960308474738  E_corr = -0.2438684696500964\n"
     ]
    }
   ],
   "source": [
    "CISD_PES = get_cisd_pes('h2',bond_lengths)"
   ]
  },
  {
   "cell_type": "code",
   "execution_count": 9,
   "metadata": {},
   "outputs": [
    {
     "data": {
      "text/plain": [
       "<matplotlib.legend.Legend at 0x7fbff637fe48>"
      ]
     },
     "execution_count": 9,
     "metadata": {},
     "output_type": "execute_result"
    },
    {
     "data": {
      "image/png": "[encoded data removed]",
      "text/plain": [
       "<Figure size 432x288 with 1 Axes>"
      ]
     },
     "metadata": {
      "needs_background": "light"
     },
     "output_type": "display_data"
    }
   ],
   "source": [
    "#Plot H2 PESs\n",
    "\n",
    "plt.title('H2 dissociation, STO-3G')\n",
    "plt.xlabel(r'R ($A^\\circ$)',fontsize=20)\n",
    "plt.ylabel(r'Energy ($E_h$)',fontsize=14)\n",
    "\n",
    "plt.plot(bond_lengths, FCI_PES, label='FCI')\n",
    "plt.scatter(bond_lengths, HF_PES, label='HF', color='orange')\n",
    "plt.scatter(bond_lengths, CCSD_PES, label='CCSD', color='purple')\n",
    "plt.scatter(bond_lengths, CISD_PES, label='CISD', color='green', marker='x')\n",
    "\n",
    "plt.legend()"
   ]
  },
  {
   "cell_type": "markdown",
   "metadata": {},
   "source": [
    "## H<sub>2</sub>O symmetric O-H dissociation"
   ]
  },
  {
   "cell_type": "code",
   "execution_count": 10,
   "metadata": {},
   "outputs": [],
   "source": [
    "bond_lengths = np.linspace(0.5,2.7,15)"
   ]
  },
  {
   "cell_type": "code",
   "execution_count": 11,
   "metadata": {},
   "outputs": [
    {
     "name": "stdout",
     "output_type": "stream",
     "text": [
      "E = -73.14278405998414 Eh\n",
      "E = -74.47523205268014 Eh\n",
      "E = -74.90413378058017 Eh\n",
      "E = -75.01383133956654 Eh\n",
      "E = -75.00356512166928 Eh\n",
      "E = -74.95170869126783 Eh\n",
      "E = -74.89218648216018 Eh\n",
      "E = -74.83923063661699 Eh\n",
      "E = -74.79866365936574 Eh\n",
      "E = -74.77161515186775 Eh\n",
      "E = -74.75568947214684 Eh\n",
      "E = -74.74704715251242 Eh\n",
      "E = -74.74248898749448 Eh\n",
      "E = -74.74007426712959 Eh\n",
      "Could not converge\n"
     ]
    }
   ],
   "source": [
    "#Run FCI\n",
    "FCI_PES = obtain_PES('h2o', bond_lengths, basis, method='fci')"
   ]
  },
  {
   "cell_type": "code",
   "execution_count": 12,
   "metadata": {},
   "outputs": [
    {
     "name": "stdout",
     "output_type": "stream",
     "text": [
      "E = -73.12948161321476 Eh\n",
      "E = -74.45343797011796 Eh\n",
      "E = -74.87055361047916 Eh\n",
      "E = -74.96308510923626 Eh\n",
      "E = -74.92817508740148 Eh\n",
      "E = -74.84281942863211 Eh\n",
      "E = -74.74051950148022 Eh\n",
      "E = -74.63577758413845 Eh\n",
      "E = -74.53576638656821 Eh\n",
      "E = -74.44494384742121 Eh\n",
      "E = -74.36975504260424 Eh\n",
      "E = -74.29778481417813 Eh\n",
      "E = -74.2416722005104 Eh\n",
      "E = -74.27129957698466 Eh\n",
      "Could not converge\n"
     ]
    }
   ],
   "source": [
    "#Run HF\n",
    "HF_PES = obtain_PES('h2o', bond_lengths, basis,  method='hf')"
   ]
  },
  {
   "cell_type": "code",
   "execution_count": 13,
   "metadata": {},
   "outputs": [
    {
     "name": "stdout",
     "output_type": "stream",
     "text": [
      "E = -73.14276363918694 Eh\n",
      "E = -74.47519485717145 Eh\n",
      "E = -74.90406353010552 Eh\n",
      "E = -75.01370018934803 Eh\n",
      "E = -75.00330155818898 Eh\n",
      "E = -74.95116757042634 Eh\n",
      "E = -74.89128367467829 Eh\n",
      "E = -74.83853401139109 Eh\n",
      "E = -74.80070162376026 Eh\n",
      "E = -74.7810573871734 Eh\n",
      "E = -74.74394274758566 Eh\n",
      "E = -74.77972801511767 Eh\n",
      "E = -74.7833896345312 Eh\n",
      "E = -74.64224434262873 Eh\n",
      "Could not converge\n"
     ]
    }
   ],
   "source": [
    "#Run CCSD\n",
    "CCSD_PES = obtain_PES('h2o', bond_lengths, basis,  method='ccsd')"
   ]
  },
  {
   "cell_type": "code",
   "execution_count": 14,
   "metadata": {},
   "outputs": [
    {
     "name": "stdout",
     "output_type": "stream",
     "text": [
      "converged SCF energy = -73.129452389525\n",
      "E(RCISD) = -73.14274671598835  E_corr = -0.01329432646338379\n",
      "converged SCF energy = -74.4533755394551\n",
      "E(RCISD) = -74.47513048268898  E_corr = -0.02175494323386633\n",
      "converged SCF energy = -74.8704749148569\n",
      "E(RCISD) = -74.90385790761569  E_corr = -0.03338299275878556\n",
      "converged SCF energy = -74.9629980695849\n",
      "E(RCISD) = -75.01306780040228  E_corr = -0.05006973081739186\n",
      "converged SCF energy = -74.9280772606095\n",
      "E(RCISD) = -75.00147251995746  E_corr = -0.07339525934792857\n",
      "converged SCF energy = -74.8427106360412\n",
      "E(RCISD) = -74.94643477106136  E_corr = -0.1037241350201756\n",
      "converged SCF energy = -74.7404009823891\n",
      "E(RCISD) = -74.88052836034143  E_corr = -0.1401273779522891\n",
      "converged SCF energy = -74.635639705199\n",
      "E(RCISD) = -74.81679144091009  E_corr = -0.1811517357110998\n",
      "converged SCF energy = -74.5355993564465\n",
      "E(RCISD) = -74.76098824931984  E_corr = -0.2253888928732998\n",
      "converged SCF energy = -74.4447494378857\n",
      "E(RCISD) = -74.71631450237024  E_corr = -0.271565064484538\n",
      "converged SCF energy = -74.3648409739408\n",
      "E(RCISD) = -74.68861847522636  E_corr = -0.3237775012855368\n",
      "converged SCF energy = -74.2975641705396\n",
      "E(RCISD) = -74.67975177061669  E_corr = -0.3821876000770718\n",
      "converged SCF energy = -74.2414470355525\n",
      "E(RCISD) = -74.67712672521455  E_corr = -0.4356796896620412\n",
      "converged SCF energy = -74.2701898592237\n",
      "E(RCISD) = -74.7399700580428  E_corr = -0.4697801988191107\n",
      "SCF not converged.\n",
      "SCF energy = -72.9810827255422\n",
      "E(RCISD) = -74.73802086407588  E_corr = -1.756938138533723\n"
     ]
    }
   ],
   "source": [
    "CISD_PES = get_cisd_pes('h2o',bond_lengths)"
   ]
  },
  {
   "cell_type": "code",
   "execution_count": 15,
   "metadata": {},
   "outputs": [
    {
     "data": {
      "text/plain": [
       "<matplotlib.legend.Legend at 0x7fbff6072748>"
      ]
     },
     "execution_count": 15,
     "metadata": {},
     "output_type": "execute_result"
    },
    {
     "data": {
      "image/png": "[encoded data removed]",
      "text/plain": [
       "<Figure size 432x288 with 1 Axes>"
      ]
     },
     "metadata": {
      "needs_background": "light"
     },
     "output_type": "display_data"
    }
   ],
   "source": [
    "#Plot H2O PESs\n",
    "\n",
    "plt.title('H2O symmetric dissociation, STO-3G')\n",
    "plt.xlabel(r'R ($A^\\circ$)',fontsize=20)\n",
    "plt.ylabel(r'Energy ($E_h$)',fontsize=14)\n",
    "\n",
    "plt.plot(bond_lengths, FCI_PES, label='FCI')\n",
    "plt.scatter(bond_lengths, HF_PES, label='HF', color='orange')\n",
    "plt.scatter(bond_lengths, CCSD_PES, label='CCSD', color='purple')\n",
    "plt.scatter(bond_lengths, CISD_PES, label='CISD', color='green', marker='x')\n",
    "plt.legend(loc = 'upper center')"
   ]
  },
  {
   "cell_type": "markdown",
   "metadata": {},
   "source": [
    "Next we compute the PEs for other types of molecules\n",
    "$LiH$, $N_2$, $H_4$, and $NH_3$\n",
    "\n",
    "$LiH$\n",
    "\n",
    "$r_0 = 1.619$ Angstrom"
   ]
  },
  {
   "cell_type": "code",
   "execution_count": 16,
   "metadata": {
    "scrolled": true
   },
   "outputs": [
    {
     "name": "stdout",
     "output_type": "stream",
     "text": [
      "[1.0, 1.1031666666666666, 1.2063333333333333, 1.3094999999999999, 1.4126666666666667, 1.5158333333333334, 1.619, 1.7734285714285714, 1.927857142857143, 2.0822857142857143, 2.2367142857142857, 2.3911428571428575, 2.545571428571429, 2.7]\n"
     ]
    }
   ],
   "source": [
    "#Starting with LiH\n",
    "#r_eqb = 1.619 Ang\n",
    "bond_lengths = [x for x in np.linspace(1.0,1.619,7)] \n",
    "bond_lengths = bond_lengths[:-1]\n",
    "bond_lengths += [x for x in np.linspace(1.619,2.7,8)]\n",
    "print(bond_lengths)\n"
   ]
  },
  {
   "cell_type": "code",
   "execution_count": 17,
   "metadata": {},
   "outputs": [
    {
     "name": "stdout",
     "output_type": "stream",
     "text": [
      "E = -7.784460280267016 Eh\n",
      "E = -7.826581033291663 Eh\n",
      "E = -7.8537567405191755 Eh\n",
      "E = -7.870306513162617 Eh\n",
      "E = -7.879213083491041 Eh\n",
      "E = -7.8825874467596675 Eh\n",
      "E = -7.881966102172105 Eh\n",
      "E = -7.875986257551343 Eh\n",
      "E = -7.866316816191519 Eh\n",
      "E = -7.854833029487001 Eh\n",
      "E = -7.842840943542893 Eh\n",
      "E = -7.831267952998646 Eh\n",
      "E = -7.82076402134106 Eh\n",
      "E = -7.8117353390570266 Eh\n"
     ]
    }
   ],
   "source": [
    "#Run FCI\n",
    "FCI_PES = obtain_PES('lih', bond_lengths, basis, method='fci')"
   ]
  },
  {
   "cell_type": "code",
   "execution_count": 18,
   "metadata": {},
   "outputs": [
    {
     "name": "stdout",
     "output_type": "stream",
     "text": [
      "E = -7.767438446509383 Eh\n",
      "E = -7.809868898899703 Eh\n",
      "E = -7.837007685195064 Eh\n",
      "E = -7.853147591463726 Eh\n",
      "E = -7.861262954015359 Eh\n",
      "E = -7.863461398089033 Eh\n",
      "E = -7.861274007382806 Eh\n",
      "E = -7.852196870110709 Eh\n",
      "E = -7.838473060448673 Eh\n",
      "E = -7.821892548801976 Eh\n",
      "E = -7.803657680000233 Eh\n",
      "E = -7.7845941974472925 Eh\n",
      "E = -7.765292431789765 Eh\n",
      "E = -7.746198175823739 Eh\n"
     ]
    }
   ],
   "source": [
    "#Run HF\n",
    "HF_PES = obtain_PES('lih', bond_lengths, basis,  method='hf')"
   ]
  },
  {
   "cell_type": "code",
   "execution_count": 19,
   "metadata": {},
   "outputs": [
    {
     "name": "stdout",
     "output_type": "stream",
     "text": [
      "E = -7.784453781342631 Eh\n",
      "E = -7.8265741793795796 Eh\n",
      "E = -7.853749288769461 Eh\n",
      "E = -7.87029812384524 Eh\n",
      "E = -7.879203464182968 Eh\n",
      "E = -7.882576382002868 Eh\n",
      "E = -7.881953548276987 Eh\n",
      "E = -7.875971515154593 Eh\n",
      "E = -7.866299643294585 Eh\n",
      "E = -7.854812625047344 Eh\n",
      "E = -7.8428158815467865 Eh\n",
      "E = -7.831236170665777 Eh\n",
      "E = -7.820722983995104 Eh\n",
      "E = -7.811682577240462 Eh\n"
     ]
    }
   ],
   "source": [
    "#Run CCSD\n",
    "CCSD_PES = obtain_PES('lih', bond_lengths, basis,  method='ccsd')"
   ]
  },
  {
   "cell_type": "code",
   "execution_count": 20,
   "metadata": {},
   "outputs": [
    {
     "name": "stdout",
     "output_type": "stream",
     "text": [
      "converged SCF energy = -7.76736213574856\n",
      "E(RCISD) = -7.784451852608679  E_corr = -0.01708971686011873\n",
      "converged SCF energy = -7.80979176462687\n",
      "E(RCISD) = -7.826572604171981  E_corr = -0.01678083954510814\n",
      "converged SCF energy = -7.83692872385407\n",
      "E(RCISD) = -7.853747789283751  E_corr = -0.01681906542968239\n",
      "converged SCF energy = -7.85306658932546\n",
      "E(RCISD) = -7.870296696278254  E_corr = -0.01723010695279547\n",
      "converged SCF energy = -7.86118008465247\n",
      "E(RCISD) = -7.879202170415573  E_corr = -0.01802208576309939\n",
      "converged SCF energy = -7.86337692068671\n",
      "E(RCISD) = -7.882575250021093  E_corr = -0.01919832933438552\n",
      "converged SCF energy = -7.86118812320016\n",
      "E(RCISD) = -7.881952418227405  E_corr = -0.02076429502724269\n",
      "converged SCF energy = -7.8521087679479\n",
      "E(RCISD) = -7.875969836904653  E_corr = -0.02386106895675052\n",
      "converged SCF energy = -7.83838177201632\n",
      "E(RCISD) = -7.866296783944054  E_corr = -0.02791501192773269\n",
      "converged SCF energy = -7.8217968221343\n",
      "E(RCISD) = -7.854808151441096  E_corr = -0.03301132930679444\n",
      "converged SCF energy = -7.80355661022427\n",
      "E(RCISD) = -7.842809584897837  E_corr = -0.03925297467356329\n",
      "converged SCF energy = -7.78448734729776\n",
      "E(RCISD) = -7.831228104735591  E_corr = -0.04674075743783074\n",
      "converged SCF energy = -7.76517971176023\n",
      "E(RCISD) = -7.820713492757895  E_corr = -0.05553378099766769\n",
      "converged SCF energy = -7.74607970736098\n",
      "E(RCISD) = -7.811672192058192  E_corr = -0.06559248469721368\n"
     ]
    }
   ],
   "source": [
    "CISD_PES = get_cisd_pes('lih',bond_lengths)"
   ]
  },
  {
   "cell_type": "code",
   "execution_count": 21,
   "metadata": {},
   "outputs": [
    {
     "data": {
      "text/plain": [
       "<matplotlib.legend.Legend at 0x7fbff62a9c18>"
      ]
     },
     "execution_count": 21,
     "metadata": {},
     "output_type": "execute_result"
    },
    {
     "data": {
      "image/png": "[encoded data removed]",
      "text/plain": [
       "<Figure size 432x288 with 1 Axes>"
      ]
     },
     "metadata": {
      "needs_background": "light"
     },
     "output_type": "display_data"
    }
   ],
   "source": [
    "#Plot LiH PESs\n",
    "plt.title('LiH, STO-3G')\n",
    "plt.xlabel(r'R ($A^\\circ$)',fontsize=20)\n",
    "plt.ylabel(r'Energy ($E_h$)',fontsize=14)\n",
    "\n",
    "plt.plot(bond_lengths, FCI_PES, label='FCI')\n",
    "plt.scatter(bond_lengths, HF_PES, label='HF', color='orange')\n",
    "plt.scatter(bond_lengths, CCSD_PES, label='CCSD', color='purple')\n",
    "plt.scatter(bond_lengths, CISD_PES, label='CISD', color='green', marker='x')\n",
    "plt.legend(loc = 'upper center')"
   ]
  },
  {
   "cell_type": "markdown",
   "metadata": {},
   "source": [
    "$N_2$\n",
    "\n",
    "$𝑟_0 = 1.119$ Angstrom"
   ]
  },
  {
   "cell_type": "code",
   "execution_count": 22,
   "metadata": {},
   "outputs": [
    {
     "name": "stdout",
     "output_type": "stream",
     "text": [
      "[1.0, 1.0198333333333334, 1.0396666666666667, 1.0594999999999999, 1.0793333333333333, 1.0991666666666666, 1.119, 1.12, 1.1742857142857144, 1.2285714285714286, 1.282857142857143, 1.3371428571428572, 1.3914285714285715, 1.4457142857142857, 1.5]\n"
     ]
    }
   ],
   "source": [
    "bond_lengths = [x for x in np.linspace(1.0,1.119,7)] \n",
    "bond_lengths += [x for x in np.linspace(1.120,1.5,8)]\n",
    "print(bond_lengths)"
   ]
  },
  {
   "cell_type": "code",
   "execution_count": 23,
   "metadata": {},
   "outputs": [
    {
     "name": "stdout",
     "output_type": "stream",
     "text": [
      "E = -107.54930095845879 Eh\n",
      "E = -107.57936182631799 Eh\n",
      "E = -107.60426977104461 Eh\n",
      "E = -107.62461218172389 Eh\n",
      "E = -107.64091702383715 Eh\n",
      "E = -107.65365858483037 Eh\n",
      "E = -107.66326266176488 Eh\n",
      "E = -107.66367090719594 Eh\n",
      "E = -107.67654317719612 Eh\n",
      "E = -107.67515353234205 Eh\n",
      "E = -107.66422167662124 Eh\n",
      "E = -107.64720402749526 Eh\n",
      "E = -107.62662139218662 Eh\n",
      "E = -107.60431377552207 Eh\n",
      "E = -107.58163492166238 Eh\n"
     ]
    }
   ],
   "source": [
    "#Run FCI\n",
    "FCI_PES = obtain_PES('n2', bond_lengths, basis, method='fci')"
   ]
  },
  {
   "cell_type": "code",
   "execution_count": 24,
   "metadata": {},
   "outputs": [
    {
     "name": "stdout",
     "output_type": "stream",
     "text": [
      "E = -107.41977493311569 Eh\n",
      "E = -107.44463337167241 Eh\n",
      "E = -107.46417989839743 Eh\n",
      "E = -107.47900078430978 Eh\n",
      "E = -107.4896232948486 Eh\n",
      "E = -107.49652138943975 Eh\n",
      "E = -107.50012086456556 Eh\n",
      "E = -107.50022209391761 Eh\n",
      "E = -107.49581611315972 Eh\n",
      "E = -107.47595793024246 Eh\n",
      "E = -107.44538678204803 Eh\n",
      "E = -107.40757624230037 Eh\n",
      "E = -107.36505325903131 Eh\n",
      "E = -107.31964558449492 Eh\n",
      "E = -107.27267306962891 Eh\n"
     ]
    }
   ],
   "source": [
    "#Run HF\n",
    "HF_PES = obtain_PES('n2', bond_lengths, basis,  method='hf')"
   ]
  },
  {
   "cell_type": "code",
   "execution_count": 25,
   "metadata": {},
   "outputs": [
    {
     "name": "stdout",
     "output_type": "stream",
     "text": [
      "E = -107.54672174051731 Eh\n",
      "E = -107.57655853651973 Eh\n",
      "E = -107.60122254002287 Eh\n",
      "E = -107.62129976309477 Eh\n",
      "E = -107.63731683263238 Eh\n",
      "E = -107.64974677070184 Eh\n",
      "E = -107.6590142217407 Eh\n",
      "E = -107.65940481352958 Eh\n",
      "E = -107.67121686790094 Eh\n",
      "E = -107.66856287103089 Eh\n",
      "E = -107.65617534281046 Eh\n",
      "E = -107.63756041390978 Eh\n",
      "E = -107.61534514771796 Eh\n",
      "E = -107.59155926234763 Eh\n",
      "E = -107.56786511076726 Eh\n"
     ]
    }
   ],
   "source": [
    "#Run CCSD\n",
    "CCSD_PES = obtain_PES('n2', bond_lengths, basis,  method='ccsd')"
   ]
  },
  {
   "cell_type": "code",
   "execution_count": 26,
   "metadata": {},
   "outputs": [
    {
     "name": "stdout",
     "output_type": "stream",
     "text": [
      "converged SCF energy = -107.419532451682\n",
      "E(RCISD) = -107.5413880040829  E_corr = -0.1218555524007892\n",
      "converged SCF energy = -107.444392019977\n",
      "E(RCISD) = -107.5706873719468  E_corr = -0.1262953519698549\n",
      "converged SCF energy = -107.463939801353\n",
      "E(RCISD) = -107.5947691428806  E_corr = -0.1308293415272086\n",
      "converged SCF energy = -107.478762050245\n",
      "E(RCISD) = -107.6142167538109  E_corr = -0.1354547035664164\n",
      "converged SCF energy = -107.489386014881\n",
      "E(RCISD) = -107.6295542327165  E_corr = -0.1401682178355297\n",
      "converged SCF energy = -107.496285635953\n",
      "E(RCISD) = -107.6412519740826  E_corr = -0.1449663381297301\n",
      "converged SCF energy = -107.499886689299\n",
      "E(RCISD) = -107.6497319564189  E_corr = -0.1498452671197215\n",
      "converged SCF energy = -107.499987999199\n",
      "E(RCISD) = -107.6500813312711  E_corr = -0.1500933320716435\n",
      "converged SCF energy = -107.495586402918\n",
      "E(RCISD) = -107.6594244950633  E_corr = -0.1638380921456051\n",
      "converged SCF energy = -107.475732233166\n",
      "E(RCISD) = -107.6538055243094  E_corr = -0.1780732911434169\n",
      "converged SCF energy = -107.445164146175\n",
      "E(RCISD) = -107.637884601285  E_corr = -0.1927204551100316\n",
      "converged SCF energy = -107.407355286595\n",
      "E(RCISD) = -107.6150706738649  E_corr = -0.207715387270218\n",
      "converged SCF energy = -107.364832439216\n",
      "E(RCISD) = -107.587848354268  E_corr = -0.2230159150522866\n",
      "converged SCF energy = -107.319423462307\n",
      "E(RCISD) = -107.5580303726886  E_corr = -0.2386069103812544\n",
      "converged SCF energy = -107.272448501206\n",
      "E(RCISD) = -107.5269498195998  E_corr = -0.2545013183937337\n"
     ]
    }
   ],
   "source": [
    "CISD_PES = get_cisd_pes('n2',bond_lengths)"
   ]
  },
  {
   "cell_type": "code",
   "execution_count": 27,
   "metadata": {},
   "outputs": [
    {
     "data": {
      "text/plain": [
       "<matplotlib.legend.Legend at 0x7fbff5a431d0>"
      ]
     },
     "execution_count": 27,
     "metadata": {},
     "output_type": "execute_result"
    },
    {
     "data": {
      "image/png": "[encoded data removed]",
      "text/plain": [
       "<Figure size 432x288 with 1 Axes>"
      ]
     },
     "metadata": {
      "needs_background": "light"
     },
     "output_type": "display_data"
    }
   ],
   "source": [
    "#Plot N2 PESs\n",
    "\n",
    "plt.title('N2, STO-3G')\n",
    "plt.xlabel(r'R ($A^\\circ$)',fontsize=20)\n",
    "plt.ylabel(r'Energy ($E_h$)',fontsize=14)\n",
    "\n",
    "plt.plot(bond_lengths, FCI_PES, label='FCI')\n",
    "plt.scatter(bond_lengths, HF_PES, label='HF', color='orange')\n",
    "plt.scatter(bond_lengths, CCSD_PES, label='CCSD', color='purple')\n",
    "plt.scatter(bond_lengths, CISD_PES, label='CISD', color='green', marker='x')\n",
    "plt.legend(loc = 'upper center')"
   ]
  },
  {
   "cell_type": "markdown",
   "metadata": {},
   "source": [
    "$H_4$"
   ]
  },
  {
   "cell_type": "code",
   "execution_count": 28,
   "metadata": {},
   "outputs": [],
   "source": [
    "bond_angles = np.linspace(15.0,40.0,15)"
   ]
  },
  {
   "cell_type": "code",
   "execution_count": 29,
   "metadata": {},
   "outputs": [
    {
     "name": "stdout",
     "output_type": "stream",
     "text": [
      "E = -2.0068718592934176 Eh\n",
      "E = -2.1234259297348146 Eh\n",
      "E = -2.1975716025574656 Eh\n",
      "E = -2.242083531611136 Eh\n",
      "E = -2.2656066463508235 Eh\n",
      "E = -2.274203693316803 Eh\n",
      "E = -2.272212868759293 Eh\n",
      "E = -2.2627613949727357 Eh\n",
      "E = -2.248106803853901 Eh\n",
      "E = -2.2298840845547856 Eh\n",
      "E = -2.2092905342264375 Eh\n",
      "E = -2.1872214193008004 Eh\n",
      "E = -2.164364655899896 Eh\n",
      "E = -2.14126280433558 Eh\n",
      "E = -2.118351157198698 Eh\n"
     ]
    }
   ],
   "source": [
    "#Run FCI\n",
    "FCI_PES = obtain_PES('h4', bond_angles, basis, method='fci')"
   ]
  },
  {
   "cell_type": "code",
   "execution_count": 30,
   "metadata": {},
   "outputs": [
    {
     "name": "stdout",
     "output_type": "stream",
     "text": [
      "E = -1.9849347692648487 Eh\n",
      "E = -2.098748534692808 Eh\n",
      "E = -2.1697996453787862 Eh\n",
      "E = -2.21084632807087 Eh\n",
      "E = -2.2305166112277677 Eh\n",
      "E = -2.234854064172708 Eh\n",
      "E = -2.2281736520492728 Eh\n",
      "E = -2.2135741130823856 Eh\n",
      "E = -2.1932791675608745 Eh\n",
      "E = -2.1688858891868468 Eh\n",
      "E = -2.1415518261596196 Eh\n",
      "E = -2.1121334945068337 Eh\n",
      "E = -2.0812839742401517 Eh\n",
      "E = -2.049517580947495 Eh\n",
      "E = -2.017250242934632 Eh\n"
     ]
    }
   ],
   "source": [
    "#Run HF\n",
    "HF_PES = obtain_PES('h4', bond_angles, basis,  method='hf')"
   ]
  },
  {
   "cell_type": "code",
   "execution_count": 31,
   "metadata": {},
   "outputs": [
    {
     "name": "stdout",
     "output_type": "stream",
     "text": [
      "E = -2.006874032480604 Eh\n",
      "E = -2.123430278000006 Eh\n",
      "E = -2.1975778905488093 Eh\n",
      "E = -2.2420913057151335 Eh\n",
      "E = -2.265615239099499 Eh\n",
      "E = -2.2742123494989763 Eh\n",
      "E = -2.27222086380541 Eh\n",
      "E = -2.2627680555622964 Eh\n",
      "E = -2.2481114775472464 Eh\n",
      "E = -2.2298860668793705 Eh\n",
      "E = -2.209288931672764 Eh\n",
      "E = -2.18721518888269 Eh\n",
      "E = -2.1643525553289034 Eh\n",
      "E = -2.141243600128539 Eh\n",
      "E = -2.1183238906202075 Eh\n"
     ]
    }
   ],
   "source": [
    "#Run CCSD\n",
    "CCSD_PES = obtain_PES('h4', bond_angles, basis,  method='ccsd')"
   ]
  },
  {
   "cell_type": "code",
   "execution_count": 32,
   "metadata": {},
   "outputs": [
    {
     "name": "stdout",
     "output_type": "stream",
     "text": [
      "converged SCF energy = -1.98488287101752\n",
      "E(RCISD) = -2.006777575028098  E_corr = -0.02189470401057808\n",
      "converged SCF energy = -2.09869359316515\n",
      "E(RCISD) = -2.123295978229399  E_corr = -0.02460238506424899\n",
      "converged SCF energy = -2.16974452442685\n",
      "E(RCISD) = -2.197392639407384  E_corr = -0.02764811498053792\n",
      "converged SCF energy = -2.21079297347614\n",
      "E(RCISD) = -2.241837914860919  E_corr = -0.03104494138478031\n",
      "converged SCF energy = -2.23046557734118\n",
      "E(RCISD) = -2.265271339575867  E_corr = -0.03480576223468902\n",
      "converged SCF energy = -2.2348048631729\n",
      "E(RCISD) = -2.273748951553912  E_corr = -0.03894408838101146\n",
      "converged SCF energy = -2.22812531339138\n",
      "E(RCISD) = -2.27160063473813  E_corr = -0.04347532134675272\n",
      "converged SCF energy = -2.2135256364706\n",
      "E(RCISD) = -2.261943325425843  E_corr = -0.04841768895524375\n",
      "converged SCF energy = -2.19322972324312\n",
      "E(RCISD) = -2.2470218674471  E_corr = -0.05379214420397686\n",
      "converged SCF energy = -2.16883474959223\n",
      "E(RCISD) = -2.228455729317492  E_corr = -0.05962097972526197\n",
      "converged SCF energy = -2.14149812547769\n",
      "E(RCISD) = -2.207423503768979  E_corr = -0.06592537829128817\n",
      "converged SCF energy = -2.11207597726885\n",
      "E(RCISD) = -2.184798389912306  E_corr = -0.0727224126434611\n",
      "converged SCF energy = -2.08122088806398\n",
      "E(RCISD) = -2.161242961765391  E_corr = -0.08002207370141415\n",
      "converged SCF energy = -2.04944679006926\n",
      "E(RCISD) = -2.137271595411383  E_corr = -0.08782480534212231\n",
      "converged SCF energy = -2.01716953728299\n",
      "E(RCISD) = -2.113289387759864  E_corr = -0.09611985047687652\n"
     ]
    }
   ],
   "source": [
    "CISD_PES = get_cisd_pes('h4',bond_angles)"
   ]
  },
  {
   "cell_type": "code",
   "execution_count": 33,
   "metadata": {},
   "outputs": [
    {
     "data": {
      "text/plain": [
       "<matplotlib.legend.Legend at 0x7fbff5959898>"
      ]
     },
     "execution_count": 33,
     "metadata": {},
     "output_type": "execute_result"
    },
    {
     "data": {
      "image/png": "[encoded data removed]",
      "text/plain": [
       "<Figure size 432x288 with 1 Axes>"
      ]
     },
     "metadata": {
      "needs_background": "light"
     },
     "output_type": "display_data"
    }
   ],
   "source": [
    "#Plot H4 PESs\n",
    "import matplotlib\n",
    "matplotlib.rcParams['text.usetex'] = True\n",
    "\n",
    "plt.title('H4, STO-3G')\n",
    "plt.xlabel(r'$\\theta$',fontsize=20)\n",
    "plt.ylabel('E, Hartree',fontsize=12)\n",
    "\n",
    "plt.plot(bond_angles, FCI_PES, label='FCI')\n",
    "plt.scatter(bond_angles, HF_PES, label='HF', color='orange')\n",
    "plt.scatter(bond_angles, CCSD_PES, label='CCSD', color='purple')\n",
    "plt.scatter(bond_angles, CISD_PES, label='CISD', color='green', marker='x')\n",
    "plt.legend(loc = 'upper center')"
   ]
  },
  {
   "cell_type": "markdown",
   "metadata": {},
   "source": [
    "$NH_3$\n",
    "\n",
    "$r_0 = 1.008$"
   ]
  },
  {
   "cell_type": "code",
   "execution_count": 34,
   "metadata": {},
   "outputs": [
    {
     "name": "stdout",
     "output_type": "stream",
     "text": [
      "[0.9, 0.918, 0.936, 0.954, 0.972, 0.99, 1.008, 1.009, 1.0434285714285714, 1.0778571428571428, 1.112285714285714, 1.1467142857142856, 1.181142857142857, 1.2155714285714285, 1.25]\n"
     ]
    }
   ],
   "source": [
    "bond_lengths = [x for x in np.linspace(0.9,1.008,7)] \n",
    "bond_lengths += [x for x in np.linspace(1.009,1.25,8)]\n",
    "print(bond_lengths)"
   ]
  },
  {
   "cell_type": "code",
   "execution_count": 35,
   "metadata": {},
   "outputs": [
    {
     "name": "stdout",
     "output_type": "stream",
     "text": [
      "E = -55.44295420442623 Eh\n",
      "E = -55.46298296219344 Eh\n",
      "E = -55.47957405693691 Eh\n",
      "E = -55.493067179895085 Eh\n",
      "E = -55.50376823961447 Eh\n",
      "E = -55.51195328410008 Eh\n",
      "E = -55.51787196629144 Eh\n",
      "E = -55.5181389792432 Eh\n",
      "E = -55.523756170018245 Eh\n",
      "E = -55.52331346494561 Eh\n",
      "E = -55.5179666151053 Eh\n",
      "E = -55.50869345580364 Eh\n",
      "E = -55.4963260828184 Eh\n",
      "E = -55.481574926041084 Eh\n",
      "E = -55.46504680655901 Eh\n"
     ]
    }
   ],
   "source": [
    "#Run FCI\n",
    "FCI_PES = obtain_PES('nh3', bond_lengths, basis, method='fci')"
   ]
  },
  {
   "cell_type": "code",
   "execution_count": 36,
   "metadata": {},
   "outputs": [
    {
     "name": "stdout",
     "output_type": "stream",
     "text": [
      "E = -55.39249807108406 Eh\n",
      "E = -55.410445500564066 Eh\n",
      "E = -55.42487484980342 Eh\n",
      "E = -55.436121887188996 Eh\n",
      "E = -55.44448843673746 Eh\n",
      "E = -55.450246304789914 Eh\n",
      "E = -55.45364075061956 Eh\n",
      "E = -55.45376459180826 Eh\n",
      "E = -55.45425541943948 Eh\n",
      "E = -55.448280411016384 Eh\n",
      "E = -55.43696050777133 Eh\n",
      "E = -55.42123747744193 Eh\n",
      "E = -55.401906629666726 Eh\n",
      "E = -55.37964166869845 Eh\n",
      "E = -55.355013791189336 Eh\n"
     ]
    }
   ],
   "source": [
    "#Run HF\n",
    "HF_PES = obtain_PES('nh3', bond_lengths, basis,  method='hf')"
   ]
  },
  {
   "cell_type": "code",
   "execution_count": 37,
   "metadata": {},
   "outputs": [
    {
     "name": "stdout",
     "output_type": "stream",
     "text": [
      "E = -55.44283640528912 Eh\n",
      "E = -55.46285377587851 Eh\n",
      "E = -55.47943203022054 Eh\n",
      "E = -55.49291069341917 Eh\n",
      "E = -55.50359549688198 Eh\n",
      "E = -55.51176230197188 Eh\n",
      "E = -55.51766056675843 Eh\n",
      "E = -55.51792637753223 Eh\n",
      "E = -55.52349744072815 Eh\n",
      "E = -55.522998431907595 Eh\n",
      "E = -55.51758367662271 Eh\n",
      "E = -55.508229709129175 Eh\n",
      "E = -55.49576753616493 Eh\n",
      "E = -55.48090679726958 Eh\n",
      "E = -55.46425396821065 Eh\n"
     ]
    }
   ],
   "source": [
    "#Run CCSD\n",
    "CCSD_PES = obtain_PES('nh3', bond_lengths, basis,  method='ccsd')"
   ]
  },
  {
   "cell_type": "code",
   "execution_count": 38,
   "metadata": {},
   "outputs": [
    {
     "name": "stdout",
     "output_type": "stream",
     "text": [
      "converged SCF energy = -55.3923579267129\n",
      "E(RCISD) = -55.44212365438822  E_corr = -0.04976572767535896\n",
      "converged SCF energy = -55.4103046515725\n",
      "E(RCISD) = -55.46206039811116  E_corr = -0.05175574653863577\n",
      "converged SCF energy = -55.4247334317111\n",
      "E(RCISD) = -55.47854932619662  E_corr = -0.05381589448547693\n",
      "converged SCF energy = -55.4359800143866\n",
      "E(RCISD) = -55.49192900630738  E_corr = -0.05594899192081332\n",
      "converged SCF energy = -55.4443461985254\n",
      "E(RCISD) = -55.50250410158405  E_corr = -0.05815790305870151\n",
      "converged SCF energy = -55.4501037627538\n",
      "E(RCISD) = -55.51054928248406  E_corr = -0.06044551973026486\n",
      "converged SCF energy = -55.4534979374959\n",
      "E(RCISD) = -55.51631267967978  E_corr = -0.06281474218390842\n",
      "converged SCF energy = -55.4536217639893\n",
      "E(RCISD) = -55.51657058055795  E_corr = -0.06294881656860124\n",
      "converged SCF energy = -55.4541120603316\n",
      "E(RCISD) = -55.52183954716882  E_corr = -0.06772748683719698\n",
      "converged SCF energy = -55.448136363766\n",
      "E(RCISD) = -55.52097194074496  E_corr = -0.07283557697893162\n",
      "converged SCF energy = -55.4368155136067\n",
      "E(RCISD) = -55.51510726300557  E_corr = -0.07829174939890481\n",
      "converged SCF energy = -55.4210912634023\n",
      "E(RCISD) = -55.50520413213084  E_corr = -0.08411286872856838\n",
      "converged SCF energy = -55.4017589901473\n",
      "E(RCISD) = -55.49207217089607  E_corr = -0.09031318074878758\n",
      "converged SCF energy = -55.3794925103864\n",
      "E(RCISD) = -55.47639590171592  E_corr = -0.09690339132947745\n",
      "converged SCF energy = -55.3548631222465\n",
      "E(RCISD) = -55.45875281272171  E_corr = -0.1038896904752369\n"
     ]
    }
   ],
   "source": [
    "CISD_PES = get_cisd_pes('nh3',bond_lengths)"
   ]
  },
  {
   "cell_type": "code",
   "execution_count": 39,
   "metadata": {},
   "outputs": [
    {
     "data": {
      "text/plain": [
       "<matplotlib.legend.Legend at 0x7fbff494d278>"
      ]
     },
     "execution_count": 39,
     "metadata": {},
     "output_type": "execute_result"
    },
    {
     "data": {
      "image/png": "[encoded data removed]",
      "text/plain": [
       "<Figure size 432x288 with 1 Axes>"
      ]
     },
     "metadata": {
      "needs_background": "light"
     },
     "output_type": "display_data"
    }
   ],
   "source": [
    "#Plot NH3 PESs\n",
    "import matplotlib\n",
    "matplotlib.rcParams['text.usetex'] = True\n",
    "\n",
    "plt.title('NH3, STO-3G')\n",
    "plt.xlabel(r'R ($A^\\circ$)',fontsize=20)\n",
    "plt.ylabel(r'Energy ($E_h$)',fontsize=14)\n",
    "\n",
    "plt.plot(bond_lengths, FCI_PES, label='FCI')\n",
    "plt.scatter(bond_lengths, HF_PES, label='HF', color='orange')\n",
    "plt.scatter(bond_lengths, CCSD_PES, label='CCSD', color='purple')\n",
    "plt.scatter(bond_lengths, CISD_PES, label='CISD', color='green', marker='x')\n",
    "plt.legend(loc = 'upper center')"
   ]
  },
  {
   "cell_type": "markdown",
   "metadata": {},
   "source": [
    "# Checking Size Consistency"
   ]
  },
  {
   "cell_type": "code",
   "execution_count": 40,
   "metadata": {},
   "outputs": [
    {
     "name": "stdout",
     "output_type": "stream",
     "text": [
      "E = -1.1167301396271105 Eh\n",
      "E = -1.1372744055258717 Eh\n",
      "converged SCF energy = -1.11670613723611\n",
      "E(RCISD) = -1.13727440552944  E_corr = -0.02056826829333391\n",
      "E = -1.137278690137717 Eh\n",
      "E = -2.233460395507259 Eh\n",
      "converged SCF energy = -2.09846837171682\n",
      "E(RCISD) = -2.13925245266723  E_corr = -0.04078408095040723\n",
      "E = -2.274557379570819 Eh\n"
     ]
    }
   ],
   "source": [
    "r0 = 0.741\n",
    "hf_PES = obtain_PES('h2', [r0], basis, method='hf')\n",
    "cisd_PES = obtain_PES('h2', [r0], basis, method='cisd')\n",
    "cisd_PES = get_cisd_pes('h2',[r0])\n",
    "ccsd_PES = obtain_PES('h2', [r0], basis, method='ccsd')\n",
    "\n",
    "hf_PES2 = obtain_PES('h2x2', [100], basis, method='hf')\n",
    "cisd_PES2 = get_cisd_pes('h2x2',[r0])\n",
    "ccsd_PES2 = obtain_PES('h2x2', [100], basis, method='ccsd')"
   ]
  },
  {
   "cell_type": "code",
   "execution_count": 41,
   "metadata": {},
   "outputs": [
    {
     "data": {
      "text/plain": [
       "<matplotlib.legend.Legend at 0x7fbff45e8748>"
      ]
     },
     "execution_count": 41,
     "metadata": {},
     "output_type": "execute_result"
    },
    {
     "data": {
      "image/png": "[encoded data removed]",
      "text/plain": [
       "<Figure size 432x288 with 1 Axes>"
      ]
     },
     "metadata": {
      "needs_background": "light"
     },
     "output_type": "display_data"
    }
   ],
   "source": [
    "import matplotlib\n",
    "matplotlib.rcParams['text.usetex'] = True\n",
    "\n",
    "plt.title(r'$H_2$ -- $H_2$ (STO-3G)')\n",
    "plt.xlabel(r'Method',fontsize=20)\n",
    "plt.ylabel(r'Energy ($E_h$)',fontsize=14)\n",
    "\n",
    "plt.plot([1], hf_PES*2, 'ro', label=r'HF $E_A$ x 2')\n",
    "plt.plot([1], hf_PES2, 'rx', label=r'HF $E_A$ + $E_B$')\n",
    "\n",
    "plt.plot([2], cisd_PES*2, 'go', label=r'CISD $E_A$ x 2')\n",
    "plt.plot([2], cisd_PES2, 'gx', label=r'CISD $E_A$ + $E_B$')\n",
    "\n",
    "plt.plot([3], ccsd_PES*2, 'bo', label=r'CCSD $E_A$ x 2')\n",
    "plt.plot([3], ccsd_PES2, 'bx', label=r'CCSD $E_A$ + $E_B$')\n",
    "\n",
    "plt.xticks([1, 2, 3], ['HF', 'CISD', 'CCSD'])\n",
    "plt.legend(loc = 'upper right')"
   ]
  },
  {
   "cell_type": "markdown",
   "metadata": {},
   "source": [
    "# Exploring electron correlation and basis dependence"
   ]
  },
  {
   "cell_type": "code",
   "execution_count": 42,
   "metadata": {
    "scrolled": true
   },
   "outputs": [
    {
     "name": "stdout",
     "output_type": "stream",
     "text": [
      "\n",
      "Basis:  sto3g\n",
      "converged SCF energy = -1.11670613723611\n",
      "E(RCISD) = -1.13727440552944  E_corr = -0.02056826829333391\n",
      "E(CCSD) = -1.137274570976645  E_corr = -0.02056843374053884\n",
      "CCSD(T) correction = -1.65863679163582e-49\n",
      "\n",
      "Basis:  ccpvdz\n",
      "converged SCF energy = -1.12871101091532\n",
      "E(RCISD) = -1.163402961063555  E_corr = -0.03469195014823098\n",
      "E(CCSD) = -1.163402967174229  E_corr = -0.03469195625890495\n",
      "CCSD(T) correction = -2.8921889445374e-19\n",
      "\n",
      "Basis:  ccpvtz\n",
      "converged SCF energy = -1.13295913881568\n",
      "E(RCISD) = -1.172334937115359  E_corr = -0.03937579829967849\n",
      "E(CCSD) = -1.172334901959212  E_corr = -0.03937576314353191\n",
      "CCSD(T) correction = -1.69474065745396e-21\n",
      "\n",
      "Basis:  ccpvqz\n",
      "converged SCF energy = -1.1334575087222\n",
      "E(RCISD) = -1.173795980839231  E_corr = -0.04033847211702894\n",
      "E(CCSD) = -1.173795979406602  E_corr = -0.04033847068439982\n",
      "CCSD(T) correction = 8.38048955777212e-21\n",
      "\n",
      "Basis:  ccpv5z\n",
      "converged SCF energy = -1.13360662616691\n",
      "E(RCISD) = -1.174222792990675  E_corr = -0.04061616682376275\n",
      "E(CCSD) = -1.174222790852409  E_corr = -0.04061616468549625\n",
      "CCSD(T) correction = -6.09707887228581e-20\n"
     ]
    }
   ],
   "source": [
    "import pyscf\n",
    "from pyscf import gto\n",
    "from pyscf import cc\n",
    "    \n",
    "methods = ['hf','cisd','ccsd','ccsd(t)','ccsdt']\n",
    "basis = ['sto3g','ccpvdz','ccpvtz','ccpvqz','ccpv5z']\n",
    "energies = np.zeros([5,5])      \n",
    "         \n",
    "for i in range(len(basis)):\n",
    "#for i in range(1):\n",
    "    mol = gto.Mole()\n",
    "    mol.atom = get_molecular_data('h2', 0.741, xyz_format=False)\n",
    "    mol.basis = basis[i]\n",
    "    mol.build()\n",
    "    \n",
    "    print('\\nBasis: ',basis[i])\n",
    "    mf = mol.HF().run()\n",
    "    energies[0,i] = mf.e_tot\n",
    "    \n",
    "    mycc = mf.CISD().run()\n",
    "    energies[1,i] = mycc.e_tot\n",
    "    \n",
    "    ccsd_h2 = cc.CCSD(mf)\n",
    "    rv = ccsd_h2.kernel()    \n",
    "    energies[2,i] = rv[0] + energies[0,i]\n",
    "    energies[3,i] = energies[2,i] + ccsd_h2.ccsd_t()\n",
    "       \n",
    "    "
   ]
  },
  {
   "cell_type": "code",
   "execution_count": 43,
   "metadata": {},
   "outputs": [
    {
     "data": {
      "text/plain": [
       "array([[-1.11670614, -1.12871101, -1.13295914, -1.13345751, -1.13360663],\n",
       "       [-1.13727441, -1.16340296, -1.17233494, -1.17379598, -1.17422279],\n",
       "       [-1.13727457, -1.16340297, -1.1723349 , -1.17379598, -1.17422279],\n",
       "       [-1.13727457, -1.16340297, -1.1723349 , -1.17379598, -1.17422279],\n",
       "       [ 0.        ,  0.        ,  0.        ,  0.        ,  0.        ]])"
      ]
     },
     "execution_count": 43,
     "metadata": {},
     "output_type": "execute_result"
    }
   ],
   "source": [
    "energies"
   ]
  },
  {
   "cell_type": "code",
   "execution_count": 44,
   "metadata": {},
   "outputs": [
    {
     "data": {
      "text/plain": [
       "<matplotlib.legend.Legend at 0x7fbff4077128>"
      ]
     },
     "execution_count": 44,
     "metadata": {},
     "output_type": "execute_result"
    },
    {
     "data": {
      "image/png": "[encoded data removed]",
      "text/plain": [
       "<Figure size 432x288 with 1 Axes>"
      ]
     },
     "metadata": {
      "needs_background": "light"
     },
     "output_type": "display_data"
    }
   ],
   "source": [
    "import matplotlib\n",
    "matplotlib.rcParams['text.usetex'] = True\n",
    "\n",
    "\n",
    "plt.title(r'$H_2$')\n",
    "plt.xlabel(r'Method',fontsize=20)\n",
    "plt.ylabel(r'Energy ($E_h$)',fontsize=14)\n",
    "\n",
    "xvals = [1,2,3,4,5]\n",
    "plt.plot(xvals, energies[0], 'ro', label='HF')\n",
    "plt.plot(xvals, energies[1], 'gx', label='CISD')\n",
    "plt.plot(xvals, energies[2], 'bs', label='CCSD')\n",
    "plt.plot(xvals, energies[3], 'kd', label='CCSD(T)')\n",
    "\n",
    "#Experimental data\n",
    "#at r_0 = 0.741 A bindign energy is 4.74 eV\n",
    "E_exp = (-13.6*2 - 4.74)*0.0367493\n",
    "plt.plot(6, E_exp, 'm+', label='Experiment')\n",
    "plt.xticks(xvals + [6], basis + ['expmt'])\n",
    "\n",
    "plt.legend(loc = 'upper right')"
   ]
  },
  {
   "cell_type": "code",
   "execution_count": 45,
   "metadata": {},
   "outputs": [
    {
     "data": {
      "text/plain": [
       "-0.0004501480000000946"
      ]
     },
     "execution_count": 45,
     "metadata": {},
     "output_type": "execute_result"
    }
   ],
   "source": [
    "-1.17422279 - E_exp"
   ]
  },
  {
   "cell_type": "code",
   "execution_count": 46,
   "metadata": {},
   "outputs": [
    {
     "data": {
      "text/plain": [
       "-1.1737726419999999"
      ]
     },
     "execution_count": 46,
     "metadata": {},
     "output_type": "execute_result"
    }
   ],
   "source": [
    "E_exp"
   ]
  },
  {
   "cell_type": "code",
   "execution_count": null,
   "metadata": {},
   "outputs": [],
   "source": []
  }
 ],
 "metadata": {
  "kernelspec": {
   "display_name": "tequila2",
   "language": "python",
   "name": "tequila2"
  },
  "language_info": {
   "codemirror_mode": {
    "name": "ipython",
    "version": 3
   },
   "file_extension": ".py",
   "mimetype": "text/x-python",
   "name": "python",
   "nbconvert_exporter": "python",
   "pygments_lexer": "ipython3",
   "version": "3.7.1"
  }
 },
 "nbformat": 4,
 "nbformat_minor": 2
}
