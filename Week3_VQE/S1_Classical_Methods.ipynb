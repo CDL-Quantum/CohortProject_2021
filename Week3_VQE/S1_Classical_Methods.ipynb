{
 "cells": [
  {
   "cell_type": "markdown",
   "metadata": {},
   "source": [
    "# Review of classical electronic structure methods \n",
    "\n",
    "In order to assess the performance of quantum computing algorithms in addressing the electronic structure problem, we will briefly review a few commonly employed classical electronic structure methods of varying level of approximation. \n",
    "\n",
    "## Hartree-Fock\n",
    "\n",
    "The Hartree-Fock (HF) method employs a **mean-field approximation**, where Coulomb correlation of electrons is neglected. The HF wavefunction is hence restricted to the form of a single Slater determinant, for which the optimal form may be acquired by an optimization of the underlying single particle basis (orbitals). Once the optimal HF orbitals have been found, the HF state may be written as \n",
    "\n",
    "$$ | \\text{HF} \\rangle = \\prod_{p \\in \\text{occ}} \\hat a^\\dagger_p | \\text{vac} \\rangle $$\n",
    "\n",
    "where $\\hat a^\\dagger_p$ creates an electron in the $p^{\\rm{th}}$ optimized HF spin orbital, and  $| \\text{vac} \\rangle$ is the vacuum state (all spin-orbitals unoccupied). Due to the restriction to a single Slater determinant, the HF energy may be obtained very efficiently and can be applied to very large molecules, however it becomes qualitatively incorrect when **electronic correlations** become sufficiently strong. The HF wavefunction is often used as a starting point in more accurate treatments of electronic correlation. \n",
    "\n",
    "## Coupled cluster\n",
    "\n",
    "The Coupled cluster (CC) method introduces electronic correlation to the wavefunction ansatz by operating on the HF reference state with the exponential of excitation operators\n",
    "\n",
    "$$|\\text{CC} \\rangle = e^{\\hat T} | \\text{HF}\\rangle, \\quad \\hat T = \\hat T_1 + \\hat T_2 + ...$$\n",
    "\n",
    "where $\\hat T_1 = \\sum_{ia} t^{a}_i \\hat a^\\dagger_a \\hat a_i$ are referred to as 'singles', $\\hat T_2 = \\sum_{ijab} t^{ab}_{ij} \\hat a^\\dagger_a \\hat a^\\dagger_b \\hat a_i \\hat a_j$ as 'doubles', etc. When the excitation rank is truncated to only singles (S) and doubles (D), $\\hat T = \\hat T_1 + \\hat T_2$, the corresponding ansatz is referred to as CCSD. Since the number of possible single and double excitations for a system of $N$ electrons in $M$ orbitals is polynomial in $M$, one can efficiently solve a system of equations to obtain the optimized CCSD amplitudes. CCSD often gives accurate energies and can be applied to modestly sized chemical systems. However, due to its implementation, it can **violate the variational principle** and give energies lower than the ground state.\n",
    "\n",
    "## Full Configuration Interaction\n",
    "The full configuration interaction (FCI) method yields the **exact ground state energy** within a given basis set. The FCI wavefunction is written as a linear combination of all possible $N$-particle Slater determinants over the orbital basis\n",
    "$$|\\text{FCI} \\rangle =  \\left( \\sum_{ia} C^{a}_i \\hat a^\\dagger_a \\hat a_i + \\sum_{ijab} C^{ab}_{ij} \\hat a^\\dagger_a \\hat a^\\dagger_b \\hat a_i \\hat a_j + ...  \\right) | \\text{HF} \\rangle $$\n",
    "where the sum includes up to $N$-electron excitations, and hence there are an exponential number of coefficients to optimize in $| \\text{FCI} \\rangle$. Due to its **exponential complexity**, FCI is often reserved for only the smallest chemical systems. However, it serves as a useful result to compare to when assessing tractable electronic structure methods.\n",
    "\n",
    "## Configuration Interaction\n",
    "\n",
    "Unfortunately, the FCI wavefunction becomes rapidly intractable due to the factorial dependence on the number of determinants $N$ related to the total number of spin orbitals. To generate classically-tractable CI approaches one can truncate the CI expansion to include only determinants with a fixed number of excitations with respect to a reference configuration.\n",
    "\n",
    "Tractable classical CI truncation is generally limited to single and double excitation operators, which define the CI singles and doubles method (CISD).\n",
    "\n",
    "One problem the truncated CI expansion suffers is the method **converges slowly** when applied to highly correlated systems such as $H_4$, $H_2O$ and $N_2$."
   ]
  },
  {
   "cell_type": "markdown",
   "metadata": {},
   "source": [
    "# Benchmarking for electronic PESs in minimal basis (STO-3G)\n",
    "\n",
    "We will apply HF, CCSD, and FCI to obtaining the PESs for a few molecular dissociation processes in minimal (STO-3G) basis."
   ]
  },
  {
   "cell_type": "code",
   "execution_count": 1,
   "metadata": {},
   "outputs": [
    {
     "name": "stderr",
     "output_type": "stream",
     "text": [
      "/home/bencian/.local/lib/python3.7/site-packages/pyscf/lib/misc.py:46: H5pyDeprecationWarning: Using default_file_mode other than 'r' is deprecated. Pass the mode to h5py.File() instead.\n",
      "  h5py.get_config().default_file_mode = 'a'\n"
     ]
    }
   ],
   "source": [
    "import numpy as np\n",
    "import matplotlib.pyplot as plt\n",
    "from utility import get_molecular_data, obtain_PES\n",
    "\n",
    "'''\n",
    "Basis functions are provided to initialization using a string such as '6-31g'\n",
    "The most widely used basis set is STO-3G, which is used for large systems and for preliminary geometry determinations.\n",
    "'''\n",
    "basis = 'sto-3g' #3 primitive Gaussian orbitals are fitted to a single Slater-type orbital (STO)"
   ]
  },
  {
   "cell_type": "markdown",
   "metadata": {},
   "source": [
    "## H<sub>2</sub>"
   ]
  },
  {
   "cell_type": "code",
   "execution_count": 2,
   "metadata": {},
   "outputs": [
    {
     "data": {
      "text/plain": [
       "array([0.2       , 0.37142857, 0.54285714, 0.71428571, 0.88571429,\n",
       "       1.05714286, 1.22857143, 1.4       , 1.57142857, 1.74285714,\n",
       "       1.91428571, 2.08571429, 2.25714286, 2.42857143, 2.6       ])"
      ]
     },
     "execution_count": 2,
     "metadata": {},
     "output_type": "execute_result"
    }
   ],
   "source": [
    "bond_lengths = np.linspace(0.2,2.6,15)\n",
    "bond_lengths #in Angstroms"
   ]
  },
  {
   "cell_type": "code",
   "execution_count": 3,
   "metadata": {},
   "outputs": [
    {
     "name": "stdout",
     "output_type": "stream",
     "text": [
      "E = 0.15748213365503272 Eh\n",
      "E = -0.8488991062024303 Eh\n",
      "E = -1.0882281844069168 Eh\n",
      "E = -1.136928959400571 Eh\n",
      "E = -1.1229570527982327 Eh\n",
      "E = -1.0887645364963472 Eh\n",
      "E = -1.050442037218747 Eh\n",
      "E = -1.0154682491653277 Eh\n",
      "E = -0.987392996293216 Eh\n",
      "E = -0.9670259116093083 Eh\n",
      "E = -0.9534242125062942 Eh\n",
      "E = -0.9449089870950516 Eh\n",
      "E = -0.9398197912188275 Eh\n",
      "E = -0.9368706035283361 Eh\n",
      "E = -0.9351960308386078 Eh\n"
     ]
    }
   ],
   "source": [
    "#Run FCI\n",
    "FCI_PES = obtain_PES('h2', bond_lengths, basis, method='fci') #returns energy in Hartrees"
   ]
  },
  {
   "cell_type": "code",
   "execution_count": 4,
   "metadata": {},
   "outputs": [
    {
     "name": "stdout",
     "output_type": "stream",
     "text": [
      "E = 0.16412595411335862 Eh\n",
      "E = -0.8397057843499789 Eh\n",
      "E = -1.074887931719117 Eh\n",
      "E = -1.1175258568986912 Eh\n",
      "E = -1.0951595815644795 Eh\n",
      "E = -1.0495617842752072 Eh\n",
      "E = -0.9960202460350677 Eh\n",
      "E = -0.9415475409906814 Eh\n",
      "E = -0.8899750208893146 Eh\n",
      "E = -0.8432718025417755 Eh\n",
      "E = -0.8022428650141384 Eh\n",
      "E = -0.7669825247359998 Eh\n",
      "E = -0.7371545448988288 Eh\n",
      "E = -0.7121961606082431 Eh\n",
      "E = -0.6914700512624794 Eh\n"
     ]
    }
   ],
   "source": [
    "#Run HF\n",
    "HF_PES = obtain_PES('h2', bond_lengths, basis,  method='hf')"
   ]
  },
  {
   "cell_type": "code",
   "execution_count": 5,
   "metadata": {},
   "outputs": [
    {
     "name": "stdout",
     "output_type": "stream",
     "text": [
      "E = 0.15748412056436217 Eh\n",
      "E = -0.8488985094851161 Eh\n",
      "E = -1.0882310174307857 Eh\n",
      "E = -1.1369333351418656 Eh\n",
      "E = -1.1229593878059763 Eh\n",
      "E = -1.0887606905920533 Eh\n",
      "E = -1.050426089327126 Eh\n",
      "E = -1.015441636439638 Eh\n",
      "E = -0.9873692257052735 Eh\n",
      "E = -0.9670168314563374 Eh\n",
      "E = -0.9534301294889956 Eh\n",
      "E = -0.9449225613845066 Eh\n",
      "E = -0.9398332746700124 Eh\n",
      "E = -0.9368793989542732 Eh\n",
      "E = -0.9351989265367034 Eh\n"
     ]
    }
   ],
   "source": [
    "#Run CCSD\n",
    "CCSD_PES = obtain_PES('h2', bond_lengths, basis,  method='ccsd')"
   ]
  },
  {
   "cell_type": "code",
   "execution_count": 6,
   "metadata": {},
   "outputs": [
    {
     "name": "stdout",
     "output_type": "stream",
     "text": [
      "E = 0.15748213365503183 Eh\n",
      "E = -0.8488991062024303 Eh\n",
      "E = -1.0882281844069168 Eh\n",
      "E = -1.136928959400571 Eh\n",
      "E = -1.1229570527982327 Eh\n",
      "E = -1.0887645364963472 Eh\n",
      "E = -1.050442037218747 Eh\n",
      "E = -1.015468249165328 Eh\n",
      "E = -0.9873929962932162 Eh\n",
      "E = -0.9670259116093078 Eh\n",
      "E = -0.9534242125062942 Eh\n",
      "E = -0.9449089870950516 Eh\n",
      "E = -0.9398197912188275 Eh\n",
      "E = -0.9368706035283361 Eh\n",
      "E = -0.9351960308386078 Eh\n"
     ]
    }
   ],
   "source": [
    "#Run CISD\n",
    "CISD_PES = obtain_PES('h2', bond_lengths, basis,  method='cisd')"
   ]
  },
  {
   "cell_type": "code",
   "execution_count": 7,
   "metadata": {},
   "outputs": [
    {
     "data": {
      "text/plain": [
       "<matplotlib.legend.Legend at 0x7fd659d3e9e8>"
      ]
     },
     "execution_count": 7,
     "metadata": {},
     "output_type": "execute_result"
    },
    {
     "data": {
      "image/png": "[encoded data removed]",
      "text/plain": [
       "<Figure size 432x288 with 1 Axes>"
      ]
     },
     "metadata": {
      "needs_background": "light"
     },
     "output_type": "display_data"
    }
   ],
   "source": [
    "#Plot H2 PESs\n",
    "\n",
    "plt.title('H2 dissociation, STO-3G')\n",
    "plt.xlabel('R, Angstrom')\n",
    "plt.ylabel('E, Hartree')\n",
    "\n",
    "plt.plot(bond_lengths, FCI_PES, label='FCI')\n",
    "plt.scatter(bond_lengths, HF_PES, label='HF', color='orange')\n",
    "plt.scatter(bond_lengths, CCSD_PES, label='CCSD', color='purple')\n",
    "plt.scatter(bond_lengths, CISD_PES, label='CISD', color='green')\n",
    "plt.legend()"
   ]
  },
  {
   "cell_type": "markdown",
   "metadata": {},
   "source": [
    "<img src=\"figs/testimage.png\">"
   ]
  },
  {
   "cell_type": "markdown",
   "metadata": {},
   "source": [
    "## H<sub>2</sub>O symmetric O-H dissociation"
   ]
  },
  {
   "cell_type": "code",
   "execution_count": 8,
   "metadata": {},
   "outputs": [
    {
     "data": {
      "text/plain": [
       "array([0.5       , 0.65714286, 0.81428571, 0.97142857, 1.12857143,\n",
       "       1.28571429, 1.44285714, 1.6       , 1.75714286, 1.91428571,\n",
       "       2.07142857, 2.22857143, 2.38571429, 2.54285714, 2.7       ])"
      ]
     },
     "execution_count": 8,
     "metadata": {},
     "output_type": "execute_result"
    }
   ],
   "source": [
    "bond_lengths = np.linspace(0.5,2.7,15)\n",
    "bond_lengths"
   ]
  },
  {
   "cell_type": "code",
   "execution_count": 9,
   "metadata": {},
   "outputs": [
    {
     "name": "stdout",
     "output_type": "stream",
     "text": [
      "E = -73.14278405998414 Eh\n",
      "E = -74.47523205268014 Eh\n",
      "E = -74.90413378058017 Eh\n",
      "E = -75.01383133956654 Eh\n",
      "E = -75.00356512166928 Eh\n",
      "E = -74.95170869126783 Eh\n",
      "E = -74.89218648216018 Eh\n",
      "E = -74.83923063661699 Eh\n",
      "E = -74.79866365936574 Eh\n",
      "E = -74.77161515186775 Eh\n",
      "E = -74.75568947214684 Eh\n",
      "E = -74.74704715251242 Eh\n",
      "E = -74.74248898749448 Eh\n",
      "E = -74.74007426712959 Eh\n",
      "Could not converge\n"
     ]
    }
   ],
   "source": [
    "#Run FCI\n",
    "FCI_PES = obtain_PES('h2o', bond_lengths, basis, method='fci')"
   ]
  },
  {
   "cell_type": "code",
   "execution_count": 10,
   "metadata": {},
   "outputs": [
    {
     "name": "stdout",
     "output_type": "stream",
     "text": [
      "E = -73.12948161321476 Eh\n",
      "E = -74.45343797011796 Eh\n",
      "E = -74.87055361047916 Eh\n",
      "E = -74.96308510923626 Eh\n",
      "E = -74.92817508740148 Eh\n",
      "E = -74.84281942863211 Eh\n",
      "E = -74.74051950148022 Eh\n",
      "E = -74.63577758413845 Eh\n",
      "E = -74.53576638656821 Eh\n",
      "E = -74.44494384742121 Eh\n",
      "E = -74.36975504260424 Eh\n",
      "E = -74.29778481417813 Eh\n",
      "E = -74.2416722005104 Eh\n",
      "E = -74.27129957698466 Eh\n",
      "Could not converge\n"
     ]
    }
   ],
   "source": [
    "#Run HF\n",
    "HF_PES = obtain_PES('h2o', bond_lengths, basis,  method='hf')"
   ]
  },
  {
   "cell_type": "code",
   "execution_count": 11,
   "metadata": {},
   "outputs": [
    {
     "name": "stdout",
     "output_type": "stream",
     "text": [
      "E = -73.14276363918694 Eh\n",
      "E = -74.47519485717145 Eh\n",
      "E = -74.90406353010552 Eh\n",
      "E = -75.01370018934803 Eh\n",
      "E = -75.00330155818898 Eh\n",
      "E = -74.95116757042634 Eh\n",
      "E = -74.89128367467829 Eh\n",
      "E = -74.83853401139109 Eh\n",
      "E = -74.80070162376026 Eh\n",
      "E = -74.7810573871734 Eh\n",
      "E = -74.74394274758566 Eh\n",
      "E = -74.77972801511767 Eh\n",
      "E = -74.7833896345312 Eh\n",
      "E = -74.64224434262873 Eh\n",
      "Could not converge\n"
     ]
    }
   ],
   "source": [
    "#Run CCSD\n",
    "CCSD_PES = obtain_PES('h2o', bond_lengths, basis,  method='ccsd')"
   ]
  },
  {
   "cell_type": "code",
   "execution_count": 12,
   "metadata": {},
   "outputs": [
    {
     "name": "stdout",
     "output_type": "stream",
     "text": [
      "E = -73.14274670860439 Eh\n",
      "E = -74.4751304492301 Eh\n",
      "E = -74.90385786047304 Eh\n",
      "E = -75.01306775405149 Eh\n",
      "E = -75.00147251331151 Eh\n",
      "E = -74.94643489672944 Eh\n",
      "E = -74.88052867423501 Eh\n",
      "E = -74.81679190408998 Eh\n",
      "E = -74.76098867787506 Eh\n",
      "E = -74.71631421416306 Eh\n",
      "E = -74.71922447748699 Eh\n",
      "E = -74.72757728896919 Eh\n",
      "E = -74.7320606196245 Eh\n",
      "E = -74.60495143381962 Eh\n",
      "Could not converge\n"
     ]
    }
   ],
   "source": [
    "#Run CISD\n",
    "CISD_PES = obtain_PES('h2o', bond_lengths, basis,  method='cisd')"
   ]
  },
  {
   "cell_type": "code",
   "execution_count": 13,
   "metadata": {},
   "outputs": [
    {
     "data": {
      "text/plain": [
       "<matplotlib.legend.Legend at 0x7fd658769668>"
      ]
     },
     "execution_count": 13,
     "metadata": {},
     "output_type": "execute_result"
    },
    {
     "data": {
      "image/png": "[encoded data removed]",
      "text/plain": [
       "<Figure size 432x288 with 1 Axes>"
      ]
     },
     "metadata": {
      "needs_background": "light"
     },
     "output_type": "display_data"
    }
   ],
   "source": [
    "#Plot H2O PESs\n",
    "\n",
    "plt.title('H2O symmetric dissociation, STO-3G')\n",
    "plt.xlabel('R, Angstrom')\n",
    "plt.ylabel('E, Hartree')\n",
    "\n",
    "plt.plot(bond_lengths, FCI_PES, label='FCI')\n",
    "plt.scatter(bond_lengths, HF_PES, label='HF', color='orange')\n",
    "plt.scatter(bond_lengths, CCSD_PES, label='CCSD', color='purple')\n",
    "plt.scatter(bond_lengths, CISD_PES, label='CISD', color='green')\n",
    "plt.legend()"
   ]
  },
  {
   "cell_type": "markdown",
   "metadata": {},
   "source": [
    "## LiH"
   ]
  },
  {
   "cell_type": "code",
   "execution_count": 14,
   "metadata": {},
   "outputs": [
    {
     "data": {
      "text/plain": [
       "array([0.8       , 0.93333333, 1.06666667, 1.2       , 1.33333333,\n",
       "       1.46666667, 1.6       , 1.73333333, 1.86666667, 2.        ,\n",
       "       2.13333333, 2.26666667, 2.4       , 2.53333333, 2.66666667,\n",
       "       2.8       ])"
      ]
     },
     "execution_count": 14,
     "metadata": {},
     "output_type": "execute_result"
    }
   ],
   "source": [
    "bond_lengths = np.linspace(0.8,2.8,16)\n",
    "bond_lengths"
   ]
  },
  {
   "cell_type": "code",
   "execution_count": 15,
   "metadata": {},
   "outputs": [
    {
     "name": "stdout",
     "output_type": "stream",
     "text": [
      "E = -7.634167329728353 Eh\n",
      "E = -7.746437307917992 Eh\n",
      "E = -7.813663001648543 Eh\n",
      "E = -7.852430853316401 Eh\n",
      "E = -7.872954613066121 Eh\n",
      "E = -7.881561154690024 Eh\n",
      "E = -7.882324378871222 Eh\n",
      "E = -7.8779861036096 Eh\n",
      "E = -7.8704542635636425 Eh\n",
      "E = -7.861087772411142 Eh\n",
      "E = -7.850873228128551 Eh\n",
      "E = -7.840539781724128 Eh\n",
      "E = -7.830631624342838 Eh\n",
      "E = -7.821546418772919 Eh\n",
      "E = -7.8135473668328395 Eh\n",
      "E = -7.806763402503807 Eh\n"
     ]
    }
   ],
   "source": [
    "#Run FCI\n",
    "FCI_PES = obtain_PES('lih', bond_lengths, basis, method='fci')"
   ]
  },
  {
   "cell_type": "code",
   "execution_count": 16,
   "metadata": {},
   "outputs": [
    {
     "name": "stdout",
     "output_type": "stream",
     "text": [
      "E = -7.615847732045305 Eh\n",
      "E = -7.729058439406403 Eh\n",
      "E = -7.796878661258512 Eh\n",
      "E = -7.835694662390294 Eh\n",
      "E = -7.855646916153798 Eh\n",
      "E = -7.8630437492307195 Eh\n",
      "E = -7.861950402903201 Eh\n",
      "E = -7.855090010439479 Eh\n",
      "E = -7.844336397587627 Eh\n",
      "E = -7.830998803612782 Eh\n",
      "E = -7.816001266637411 Eh\n",
      "E = -7.800003987733569 Eh\n",
      "E = -7.783488814132521 Eh\n",
      "E = -7.766819652396688 Eh\n",
      "E = -7.7502831908545105 Eh\n",
      "E = -7.734113419610024 Eh\n"
     ]
    }
   ],
   "source": [
    "#Run HF\n",
    "HF_PES = obtain_PES('lih', bond_lengths, basis,  method='hf')"
   ]
  },
  {
   "cell_type": "code",
   "execution_count": 17,
   "metadata": {},
   "outputs": [
    {
     "name": "stdout",
     "output_type": "stream",
     "text": [
      "E = -7.634160527656569 Eh\n",
      "E = -7.746430970506597 Eh\n",
      "E = -7.813656291158955 Eh\n",
      "E = -7.8524234479693265 Eh\n",
      "E = -7.8729459612179955 Eh\n",
      "E = -7.881550790015216 Eh\n",
      "E = -7.882312097529623 Eh\n",
      "E = -7.877971932703345 Eh\n",
      "E = -7.870438116706994 Eh\n",
      "E = -7.861069226073766 Eh\n",
      "E = -7.850851475406808 Eh\n",
      "E = -7.840513597143466 Eh\n",
      "E = -7.830599382289906 Eh\n",
      "E = -7.8215062104563815 Eh\n",
      "E = -7.81349731484278 Eh\n",
      "E = -7.806702090929714 Eh\n"
     ]
    }
   ],
   "source": [
    "#Run CCSD\n",
    "CCSD_PES = obtain_PES('lih', bond_lengths, basis,  method='ccsd')"
   ]
  },
  {
   "cell_type": "code",
   "execution_count": 18,
   "metadata": {},
   "outputs": [
    {
     "name": "stdout",
     "output_type": "stream",
     "text": [
      "E = -7.634156219456722 Eh\n",
      "E = -7.746428509763518 Eh\n",
      "E = -7.813654654602978 Eh\n",
      "E = -7.852421953249001 Eh\n",
      "E = -7.872944565289797 Eh\n",
      "E = -7.881549595619722 Eh\n",
      "E = -7.882310988137491 Eh\n",
      "E = -7.877970466447944 Eh\n",
      "E = -7.8704357915293865 Eh\n",
      "E = -7.861065658153392 Eh\n",
      "E = -7.850846415295772 Eh\n",
      "E = -7.840506952946753 Eh\n",
      "E = -7.83059123658349 Eh\n",
      "E = -7.8214968330277825 Eh\n",
      "E = -7.813487099334337 Eh\n",
      "E = -7.806691444080321 Eh\n"
     ]
    }
   ],
   "source": [
    "#Run CISD\n",
    "CISD_PES = obtain_PES('lih', bond_lengths, basis,  method='cisd')"
   ]
  },
  {
   "cell_type": "code",
   "execution_count": 19,
   "metadata": {},
   "outputs": [
    {
     "data": {
      "image/png": "[encoded data removed]",
      "text/plain": [
       "<Figure size 432x288 with 1 Axes>"
      ]
     },
     "metadata": {
      "needs_background": "light"
     },
     "output_type": "display_data"
    }
   ],
   "source": [
    "#Plot PESs\n",
    "fig = plt.figure()\n",
    "\n",
    "plt.title('LiH dissociation, STO-3G')\n",
    "plt.xlabel('R [Angstroms]')\n",
    "plt.ylabel('E [Hartrees]')\n",
    "\n",
    "plt.axvline(x=1.595, color='k', linestyle='--', zorder=0) #experimental bond length from cccbdb.nist.gov\n",
    "plt.plot(bond_lengths, FCI_PES, label='FCI', zorder=4)\n",
    "plt.scatter(bond_lengths, HF_PES, label='HF', color='orange', zorder=1)\n",
    "plt.scatter(bond_lengths, CCSD_PES, label='CCSD', color='purple', zorder=2)\n",
    "plt.scatter(bond_lengths, CISD_PES, label='CISD', color='green', zorder=3)\n",
    "plt.legend()\n",
    "\n",
    "fig.savefig('lih.png', bbox_inches='tight')"
   ]
  },
  {
   "cell_type": "markdown",
   "metadata": {},
   "source": [
    "## N<sub>2</sub>"
   ]
  },
  {
   "cell_type": "code",
   "execution_count": 20,
   "metadata": {},
   "outputs": [
    {
     "data": {
      "text/plain": [
       "array([0.5       , 0.62727273, 0.75454545, 0.88181818, 1.00909091,\n",
       "       1.13636364, 1.26363636, 1.39090909, 1.51818182, 1.64545455,\n",
       "       1.77272727, 1.9       ])"
      ]
     },
     "execution_count": 20,
     "metadata": {},
     "output_type": "execute_result"
    }
   ],
   "source": [
    "bond_lengths = np.linspace(0.5,1.9,12)\n",
    "bond_lengths"
   ]
  },
  {
   "cell_type": "code",
   "execution_count": 21,
   "metadata": {
    "scrolled": true
   },
   "outputs": [
    {
     "name": "stdout",
     "output_type": "stream",
     "text": [
      "E = -100.61161345806086 Eh\n",
      "E = -104.5439505925688 Eh\n",
      "E = -106.38679440740586 Eh\n",
      "E = -107.22199300609087 Eh\n",
      "E = -107.5637595184171 Eh\n",
      "E = -107.66939661841069 Eh\n",
      "E = -107.66894381424798 Eh\n",
      "E = -107.6268290249749 Eh\n",
      "E = -107.57413956320514 Eh\n",
      "E = -107.52599089836787 Eh\n",
      "E = -107.48952381587301 Eh\n",
      "E = -107.46611285370518 Eh\n"
     ]
    }
   ],
   "source": [
    "#Run FCI\n",
    "FCI_PES = obtain_PES('n2', bond_lengths, basis, method='fci')"
   ]
  },
  {
   "cell_type": "code",
   "execution_count": 22,
   "metadata": {},
   "outputs": [
    {
     "name": "stdout",
     "output_type": "stream",
     "text": [
      "E = -100.57326037643408 Eh\n",
      "E = -104.48880997431704 Eh\n",
      "E = -106.3098938890539 Eh\n",
      "E = -107.12029741068967 Eh\n",
      "E = -107.4318685267734 Eh\n",
      "E = -107.50086585741016 Eh\n",
      "E = -107.45719519775983 Eh\n",
      "E = -107.36547630636021 Eh\n",
      "E = -107.25676565692623 Eh\n",
      "E = -107.14567517832874 Eh\n",
      "E = -107.03933857861772 Eh\n",
      "E = -106.94147584489657 Eh\n"
     ]
    }
   ],
   "source": [
    "#Run HF\n",
    "HF_PES = obtain_PES('n2', bond_lengths, basis,  method='hf')"
   ]
  },
  {
   "cell_type": "code",
   "execution_count": 23,
   "metadata": {},
   "outputs": [
    {
     "name": "stdout",
     "output_type": "stream",
     "text": [
      "E = -100.61133467693008 Eh\n",
      "E = -104.54341589058836 Eh\n",
      "E = -106.38585228864133 Eh\n",
      "E = -107.22041183119202 Eh\n",
      "E = -107.5610799720012 Eh\n",
      "E = -107.66483215637736 Eh\n",
      "E = -107.66143262171173 Eh\n",
      "E = -107.6155680567117 Eh\n",
      "E = -107.560209220206 Eh\n",
      "E = -107.51599822532162 Eh\n",
      "E = -107.50095259819435 Eh\n",
      "E = -107.5251948911921 Eh\n"
     ]
    }
   ],
   "source": [
    "#Run CCSD\n",
    "CCSD_PES = obtain_PES('n2', bond_lengths, basis,  method='ccsd')"
   ]
  },
  {
   "cell_type": "code",
   "execution_count": 24,
   "metadata": {},
   "outputs": [
    {
     "name": "stdout",
     "output_type": "stream",
     "text": [
      "E = -100.61111951282074 Eh\n",
      "E = -104.5428210486226 Eh\n",
      "E = -106.38442460570121 Eh\n",
      "E = -107.21748954892688 Eh\n",
      "E = -107.55550527933872 Eh\n",
      "E = -107.65481293168439 Eh\n",
      "E = -107.64446326951058 Eh\n",
      "E = -107.5881235651079 Eh\n",
      "E = -107.51643851102685 Eh\n",
      "E = -107.44433025769423 Eh\n",
      "E = -107.37919016044555 Eh\n",
      "E = -107.3295175689843 Eh\n"
     ]
    }
   ],
   "source": [
    "#Run CISD\n",
    "CISD_PES = obtain_PES('n2', bond_lengths, basis,  method='cisd')"
   ]
  },
  {
   "cell_type": "code",
   "execution_count": 25,
   "metadata": {},
   "outputs": [
    {
     "data": {
      "image/png": "[encoded data removed]",
      "text/plain": [
       "<Figure size 432x288 with 1 Axes>"
      ]
     },
     "metadata": {
      "needs_background": "light"
     },
     "output_type": "display_data"
    }
   ],
   "source": [
    "#Plot PESs\n",
    "fig = plt.figure()\n",
    "\n",
    "plt.title('$N_2$ dissociation, STO-3G')\n",
    "plt.xlabel('R [Angstroms]')\n",
    "plt.ylabel('E [Hartrees]')\n",
    "\n",
    "plt.axvline(x=1.098, color='k', linestyle='--', zorder=0) #experimental bond length from cccbdb.nist.gov\n",
    "plt.plot(bond_lengths, FCI_PES, label='FCI', zorder=4)\n",
    "plt.scatter(bond_lengths, HF_PES, label='HF', color='orange', zorder=1)\n",
    "plt.scatter(bond_lengths, CCSD_PES, label='CCSD', color='purple', zorder=2)\n",
    "plt.scatter(bond_lengths, CISD_PES, label='CISD', color='green', zorder=3)\n",
    "plt.legend()\n",
    "\n",
    "fig.savefig('n2.png', bbox_inches='tight')"
   ]
  },
  {
   "cell_type": "markdown",
   "metadata": {},
   "source": [
    "## H<sub>4</sub>"
   ]
  },
  {
   "cell_type": "code",
   "execution_count": 26,
   "metadata": {},
   "outputs": [
    {
     "data": {
      "text/plain": [
       "array([0.5       , 0.61578947, 0.73157895, 0.84736842, 0.96315789,\n",
       "       1.07894737, 1.19473684, 1.31052632, 1.42631579, 1.54210526,\n",
       "       1.65789474, 1.77368421, 1.88947368, 2.00526316, 2.12105263,\n",
       "       2.23684211, 2.35263158, 2.46842105, 2.58421053, 2.7       ])"
      ]
     },
     "execution_count": 26,
     "metadata": {},
     "output_type": "execute_result"
    }
   ],
   "source": [
    "bond_lengths = np.linspace(0.5,2.7,20)\n",
    "bond_lengths"
   ]
  },
  {
   "cell_type": "code",
   "execution_count": 27,
   "metadata": {
    "scrolled": true
   },
   "outputs": [
    {
     "name": "stdout",
     "output_type": "stream",
     "text": [
      "E = -0.610129734917189 Eh\n",
      "E = -1.2576974451732266 Eh\n",
      "E = -1.603211589590364 Eh\n",
      "E = -1.7922023357505754 Eh\n",
      "E = -1.8944038743504277 Eh\n",
      "E = -1.9459262842509157 Eh\n",
      "E = -1.9670899869510574 Eh\n",
      "E = -1.9701319726147175 Eh\n",
      "E = -1.9627977527839557 Eh\n",
      "E = -1.9501540541238465 Eh\n",
      "E = -1.9355514582518227 Eh\n",
      "E = -1.921151195659399 Eh\n",
      "E = -1.9082323831888306 Eh\n",
      "E = -1.8974058768477535 Eh\n",
      "E = -1.8888011116197585 Eh\n",
      "E = -1.8822432857564912 Eh\n",
      "E = -1.877407446336713 Eh\n",
      "E = -1.8739313117723206 Eh\n",
      "E = -1.8714815649001029 Eh\n",
      "E = -1.8697821728146717 Eh\n"
     ]
    }
   ],
   "source": [
    "#Run FCI\n",
    "FCI_PES = obtain_PES('h4', bond_lengths, basis, method='fci')"
   ]
  },
  {
   "cell_type": "code",
   "execution_count": 28,
   "metadata": {},
   "outputs": [
    {
     "name": "stdout",
     "output_type": "stream",
     "text": [
      "E = -0.5225222048892249 Eh\n",
      "E = -1.1554098125686145 Eh\n",
      "E = -1.4858689892169081 Eh\n",
      "E = -1.6595459953678653 Eh\n",
      "E = -1.745776468601819 Eh\n",
      "E = -1.780211956223381 Eh\n",
      "E = -1.782859442431195 Eh\n",
      "E = -1.7657733085551037 Eh\n",
      "E = -1.7366096277514922 Eh\n",
      "E = -1.7004208133062089 Eh\n",
      "E = -1.6606292807267975 Eh\n",
      "E = -1.6195895518785608 Eh\n",
      "E = -1.5789277821716996 Eh\n",
      "E = -1.5397517251676551 Eh\n",
      "E = -1.5027847560182706 Eh\n",
      "E = -1.4684589444987872 Eh\n",
      "E = -1.4369876024088744 Eh\n",
      "E = -1.408425656597116 Eh\n",
      "E = -1.38271905904142 Eh\n",
      "E = -1.3597425710619053 Eh\n"
     ]
    }
   ],
   "source": [
    "#Run HF\n",
    "HF_PES = obtain_PES('h4', bond_lengths, basis,  method='hf')"
   ]
  },
  {
   "cell_type": "code",
   "execution_count": 29,
   "metadata": {},
   "outputs": [
    {
     "name": "stdout",
     "output_type": "stream",
     "text": [
      "E = -0.6109445537097954 Eh\n",
      "E = -1.2589020202450691 Eh\n",
      "E = -1.6048697926109758 Eh\n",
      "E = -1.7945197899824976 Eh\n",
      "E = -1.897670935242419 Eh\n",
      "E = -1.9504869725944434 Eh\n",
      "E = -1.9733581554617952 Eh\n",
      "E = -1.9785841683768282 Eh\n",
      "E = -1.9738642856519906 Eh\n",
      "E = -1.964029126055833 Eh\n",
      "E = -1.9520368930739407 Eh\n",
      "E = -1.9396305251089745 Eh\n",
      "E = -1.9277877877516985 Eh\n",
      "E = -1.9170186368923066 Eh\n",
      "E = -1.9075490423396704 Eh\n",
      "E = -1.8994309474341777 Eh\n",
      "E = -1.8926109560433284 Eh\n",
      "E = -1.8869763993901456 Eh\n",
      "E = -1.8823874501231606 Eh\n",
      "E = -1.8786976648846327 Eh\n"
     ]
    }
   ],
   "source": [
    "#Run CCSD\n",
    "CCSD_PES = obtain_PES('h4', bond_lengths, basis,  method='ccsd')"
   ]
  },
  {
   "cell_type": "code",
   "execution_count": 30,
   "metadata": {},
   "outputs": [
    {
     "name": "stdout",
     "output_type": "stream",
     "text": [
      "E = -0.609257257010106 Eh\n",
      "E = -1.2563564977372126 Eh\n",
      "E = -1.6012024368460391 Eh\n",
      "E = -1.7892811980847396 Eh\n",
      "E = -1.8902463375502312 Eh\n",
      "E = -1.9400918077174514 Eh\n",
      "E = -1.9590090121800365 Eh\n",
      "E = -1.9591234621688387 Eh\n",
      "E = -1.9481354467487764 Eh\n",
      "E = -1.9312296976126222 Eh\n",
      "E = -1.91223658631563 Eh\n",
      "E = -1.8944938885580784 Eh\n",
      "E = -1.8811399320781301 Eh\n",
      "E = -1.8734837068544987 Eh\n",
      "E = -1.869873974431451 Eh\n",
      "E = -1.8682347694554857 Eh\n",
      "E = -1.8674500833946304 Eh\n",
      "E = -1.8670413955000038 Eh\n",
      "E = -1.8668076724822025 Eh\n",
      "E = -1.8666616734897428 Eh\n"
     ]
    }
   ],
   "source": [
    "#Run CISD\n",
    "CISD_PES = obtain_PES('h4', bond_lengths, basis,  method='cisd')"
   ]
  },
  {
   "cell_type": "code",
   "execution_count": 31,
   "metadata": {},
   "outputs": [
    {
     "data": {
      "image/png": "[encoded data removed]",
      "text/plain": [
       "<Figure size 432x288 with 1 Axes>"
      ]
     },
     "metadata": {
      "needs_background": "light"
     },
     "output_type": "display_data"
    }
   ],
   "source": [
    "#Plot PESs\n",
    "fig = plt.figure()\n",
    "\n",
    "plt.title('$H_4$ dissociation, STO-3G')\n",
    "plt.xlabel('R [Angstroms]')\n",
    "plt.ylabel('E [Hartrees]')\n",
    "\n",
    "\n",
    "plt.plot(bond_lengths, FCI_PES, label='FCI', zorder=3)\n",
    "plt.scatter(bond_lengths, HF_PES, label='HF', color='orange', zorder=1)\n",
    "plt.scatter(bond_lengths, CCSD_PES, label='CCSD', color='purple', zorder=2)\n",
    "plt.scatter(bond_lengths, CISD_PES, label='CISD', color='green', zorder=4)\n",
    "plt.legend()\n",
    "\n",
    "fig.savefig('h4.png', bbox_inches='tight')"
   ]
  },
  {
   "cell_type": "markdown",
   "metadata": {},
   "source": [
    "## NH<sub>3</sub>"
   ]
  },
  {
   "cell_type": "code",
   "execution_count": 32,
   "metadata": {},
   "outputs": [
    {
     "data": {
      "text/plain": [
       "array([0.5       , 0.61428571, 0.72857143, 0.84285714, 0.95714286,\n",
       "       1.07142857, 1.18571429, 1.3       , 1.41428571, 1.52857143,\n",
       "       1.64285714, 1.75714286, 1.87142857, 1.98571429, 2.1       ])"
      ]
     },
     "execution_count": 32,
     "metadata": {},
     "output_type": "execute_result"
    }
   ],
   "source": [
    "bond_lengths = np.linspace(0.5,2.1,15)\n",
    "bond_lengths"
   ]
  },
  {
   "cell_type": "code",
   "execution_count": 33,
   "metadata": {
    "scrolled": false
   },
   "outputs": [
    {
     "name": "stdout",
     "output_type": "stream",
     "text": [
      "E = -52.44294693856393 Eh\n",
      "E = -54.17380595026517 Eh\n",
      "E = -54.985525744453966 Eh\n",
      "E = -55.351995950151384 Eh\n",
      "E = -55.49512865849309 Eh\n",
      "E = -55.52380056108525 Eh\n",
      "E = -55.494490492179025 Eh\n",
      "E = -55.43891986163712 Eh\n",
      "E = -55.37560036214375 Eh\n",
      "E = -55.31477294746156 Eh\n",
      "E = -55.261452567791416 Eh\n",
      "E = -55.217816109886314 Eh\n",
      "E = -55.18452608768042 Eh\n",
      "E = -55.16099190492132 Eh\n",
      "E = -55.14546825874056 Eh\n"
     ]
    }
   ],
   "source": [
    "#Run FCI\n",
    "FCI_PES = obtain_PES('nh3', bond_lengths, basis, method='fci')"
   ]
  },
  {
   "cell_type": "code",
   "execution_count": 34,
   "metadata": {
    "scrolled": true
   },
   "outputs": [
    {
     "name": "stdout",
     "output_type": "stream",
     "text": [
      "E = -52.42388235247488 Eh\n",
      "E = -54.14811852602749 Eh\n",
      "E = -54.9515156130064 Eh\n",
      "E = -55.30765623003443 Eh\n",
      "E = -55.43778224231815 Eh\n",
      "E = -55.44983291013079 Eh\n",
      "E = -55.39910583129587 Eh\n",
      "E = -55.316012999241494 Eh\n",
      "E = -55.217946841127194 Eh\n",
      "E = -55.11467733419542 Eh\n",
      "E = -55.0115656041666 Eh\n",
      "E = -54.91170902140672 Eh\n",
      "E = -54.81716187739378 Eh\n",
      "E = -54.72953317912856 Eh\n",
      "E = -54.650665412891655 Eh\n"
     ]
    }
   ],
   "source": [
    "#Run HF\n",
    "HF_PES = obtain_PES('nh3', bond_lengths, basis,  method='hf')"
   ]
  },
  {
   "cell_type": "code",
   "execution_count": 35,
   "metadata": {
    "scrolled": true
   },
   "outputs": [
    {
     "name": "stdout",
     "output_type": "stream",
     "text": [
      "E = -52.442914289829694 Eh\n",
      "E = -54.17376435682881 Eh\n",
      "E = -54.98546849799301 Eh\n",
      "E = -55.35190636661821 Eh\n",
      "E = -55.49496946822235 Eh\n",
      "E = -55.52349688115239 Eh\n",
      "E = -55.4939182586412 Eh\n",
      "E = -55.43791960375233 Eh\n",
      "E = -55.37403837961933 Eh\n",
      "E = -55.31272211935375 Eh\n",
      "E = -55.25976802977597 Eh\n",
      "E = -55.21986656771323 Eh\n",
      "E = -55.20088568614781 Eh\n",
      "E = -55.21266908899795 Eh\n",
      "E = -55.230504583379734 Eh\n"
     ]
    }
   ],
   "source": [
    "#Run CCSD\n",
    "CCSD_PES = obtain_PES('nh3', bond_lengths, basis,  method='ccsd')"
   ]
  },
  {
   "cell_type": "code",
   "execution_count": 36,
   "metadata": {},
   "outputs": [
    {
     "name": "stdout",
     "output_type": "stream",
     "text": [
      "E = -52.442867314405426 Eh\n",
      "E = -54.17365069173277 Eh\n",
      "E = -54.985221585085014 Eh\n",
      "E = -55.351401181148454 Eh\n",
      "E = -55.493969425440255 Eh\n",
      "E = -55.52154492596527 Eh\n",
      "E = -55.4901236935643 Eh\n",
      "E = -55.430601687054505 Eh\n",
      "E = -55.36030497963133 Eh\n",
      "E = -55.28819755786502 Eh\n",
      "E = -55.218337810129725 Eh\n",
      "E = -55.15242564289363 Eh\n",
      "E = -55.09103912663111 Eh\n",
      "E = -55.03326228795621 Eh\n",
      "E = -54.97486013563435 Eh\n"
     ]
    }
   ],
   "source": [
    "#Run CISD\n",
    "CISD_PES = obtain_PES('nh3', bond_lengths, basis,  method='cisd')"
   ]
  },
  {
   "cell_type": "code",
   "execution_count": 37,
   "metadata": {},
   "outputs": [
    {
     "data": {
      "image/png": "[encoded data removed]",
      "text/plain": [
       "<Figure size 432x288 with 1 Axes>"
      ]
     },
     "metadata": {
      "needs_background": "light"
     },
     "output_type": "display_data"
    }
   ],
   "source": [
    "#Plot PESs\n",
    "fig = plt.figure()\n",
    "\n",
    "plt.title('$NH_3$ dissociation, STO-3G')\n",
    "plt.xlabel('R [Angstroms]')\n",
    "plt.ylabel('E [Hartrees]')\n",
    "\n",
    "\n",
    "plt.plot(bond_lengths, FCI_PES, label='FCI', zorder=3)\n",
    "plt.scatter(bond_lengths, HF_PES, label='HF', color='orange', zorder=1)\n",
    "plt.scatter(bond_lengths, CCSD_PES, label='CCSD', color='purple', zorder=2)\n",
    "plt.scatter(bond_lengths, CISD_PES, label='CISD', color='green', zorder=4)\n",
    "plt.legend()\n",
    "\n",
    "fig.savefig('nh3.png', bbox_inches='tight')"
   ]
  },
  {
   "cell_type": "code",
   "execution_count": null,
   "metadata": {},
   "outputs": [],
   "source": []
  }
 ],
 "metadata": {
  "kernelspec": {
   "display_name": "tequila_devel_3.6",
   "language": "python",
   "name": "tequila_devel_3.6"
  },
  "language_info": {
   "codemirror_mode": {
    "name": "ipython",
    "version": 3
   },
   "file_extension": ".py",
   "mimetype": "text/x-python",
   "name": "python",
   "nbconvert_exporter": "python",
   "pygments_lexer": "ipython3",
   "version": "3.7.1"
  }
 },
 "nbformat": 4,
 "nbformat_minor": 2
}
