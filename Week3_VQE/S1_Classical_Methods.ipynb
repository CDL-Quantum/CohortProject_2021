{
 "cells": [
  {
   "cell_type": "markdown",
   "metadata": {},
   "source": [
    "# Review of classical electronic structure methods \n",
    "\n",
    "In order to assess the performance of quantum computing algorithms in addressing the electronic structure problem, we will briefly review a few commonly employed classical electronic structure methods of varying level of approximation. \n",
    "\n",
    "## Hartree-Fock\n",
    "\n",
    "The Hartree-Fock (HF) method employs a **mean-field approximation**, where Coulomb correlation of electrons is neglected. The HF wavefunction is hence restricted to the form of a single Slater determinant, for which the optimal form may be acquired by an optimization of the underlying single particle basis (orbitals). Once the optimal HF orbitals have been found, the HF state may be written as \n",
    "\n",
    "$$ | \\text{HF} \\rangle = \\prod_{p \\in \\text{occ}} \\hat a^\\dagger_p | \\text{vac} \\rangle $$\n",
    "\n",
    "where $\\hat a^\\dagger_p$ creates an electron in the $p^{\\rm{th}}$ optimized HF spin orbital, and  $| \\text{vac} \\rangle$ is the vacuum state (all spin-orbitals unoccupied). Due to the restriction to a single Slater determinant, the HF energy may be obtained very efficiently and can be applied to very large molecules, however it becomes qualitatively incorrect when **electronic correlations** become sufficiently strong. The HF wavefunction is often used as a starting point in more accurate treatments of electronic correlation. \n",
    "\n",
    "## Coupled cluster\n",
    "\n",
    "The Coupled cluster (CC) method introduces electronic correlation to the wavefunction ansatz by operating on the HF reference state with the exponential of excitation operators\n",
    "\n",
    "$$|\\text{CC} \\rangle = e^{\\hat T} | \\text{HF}\\rangle, \\quad \\hat T = \\hat T_1 + \\hat T_2 + ...$$\n",
    "\n",
    "where $\\hat T_1 = \\sum_{ia} t^{a}_i \\hat a^\\dagger_a \\hat a_i$ are referred to as 'singles', $\\hat T_2 = \\sum_{ijab} t^{ab}_{ij} \\hat a^\\dagger_a \\hat a^\\dagger_b \\hat a_i \\hat a_j$ as 'doubles', etc. When the excitation rank is truncated to only singles (S) and doubles (D), $\\hat T = \\hat T_1 + \\hat T_2$, the corresponding ansatz is referred to as CCSD. Since the number of possible single and double excitations for a system of $N$ electrons in $M$ orbitals is polynomial in $M$, one can efficiently solve a system of equations to obtain the optimized CCSD amplitudes. CCSD often gives accurate energies and can be applied to modestly sized chemical systems. However, due to its implementation, it can **violate the variational principle** and give energies lower than the ground state.\n",
    "\n",
    "## Full Configuration Interaction\n",
    "The full configuration interaction (FCI) method yields the **exact ground state energy** within a given basis set. The FCI wavefunction is written as a linear combination of all possible $N$-particle Slater determinants over the orbital basis\n",
    "$$|\\text{FCI} \\rangle =  \\left( \\sum_{ia} C^{a}_i \\hat a^\\dagger_a \\hat a_i + \\sum_{ijab} C^{ab}_{ij} \\hat a^\\dagger_a \\hat a^\\dagger_b \\hat a_i \\hat a_j + ...  \\right) | \\text{HF} \\rangle $$\n",
    "where the sum includes up to $N$-electron excitations, and hence there are an exponential number of coefficients to optimize in $| \\text{FCI} \\rangle$. Due to its **exponential complexity**, FCI is often reserved for only the smallest chemical systems. However, it serves as a useful result to compare to when assessing tractable electronic structure methods."
   ]
  },
  {
   "cell_type": "markdown",
   "metadata": {},
   "source": [
    "# Benchmarking for electronic PESs in minimal basis (STO-3G)\n",
    "\n",
    "We will apply HF, CCSD, and FCI to obtaining the PESs for a few molecular dissociation processes in minimal (STO-3G) basis."
   ]
  },
  {
   "cell_type": "code",
   "execution_count": 1,
   "metadata": {},
   "outputs": [
    {
     "name": "stderr",
     "output_type": "stream",
     "text": [
      "/home/ushnish/.local/lib/python3.9/site-packages/pyscf/lib/misc.py:46: H5pyDeprecationWarning: Using default_file_mode other than 'r' is deprecated. Pass the mode to h5py.File() instead.\n",
      "  h5py.get_config().default_file_mode = 'a'\n"
     ]
    }
   ],
   "source": [
    "import numpy as np\n",
    "import matplotlib.pyplot as plt\n",
    "from utility import get_molecular_data, obtain_PES\n",
    "\n",
    "basis = 'sto-3g'"
   ]
  },
  {
   "cell_type": "markdown",
   "metadata": {},
   "source": [
    "## H<sub>2</sub>"
   ]
  },
  {
   "cell_type": "code",
   "execution_count": 2,
   "metadata": {},
   "outputs": [],
   "source": [
    "bond_lengths = np.linspace(0.2,2.6,15)"
   ]
  },
  {
   "cell_type": "code",
   "execution_count": 3,
   "metadata": {},
   "outputs": [
    {
     "name": "stdout",
     "output_type": "stream",
     "text": [
      "converged SCF energy = 0.164175012061695\n",
      "E = 0.15748213479836348 Eh\n",
      "converged SCF energy = -0.839684083956067\n",
      "E = -0.8488991057547286 Eh\n",
      "converged SCF energy = -1.07486102490599\n",
      "E = -1.0882281842437163 Eh\n",
      "converged SCF energy = -1.11750157922789\n",
      "E = -1.1369289593879264 Eh\n",
      "converged SCF energy = -1.09513510118901\n",
      "E = -1.1229570528666362 Eh\n",
      "converged SCF energy = -1.04953250777026\n",
      "E = -1.0887645366068759 Eh\n",
      "converged SCF energy = -0.995976005034107\n",
      "E = -1.050442037345773 Eh\n",
      "converged SCF energy = -0.941480654707798\n",
      "E = -1.0154682492882445 Eh\n",
      "converged SCF energy = -0.889889958382754\n",
      "E = -0.9873930556257475 Eh\n",
      "converged SCF energy = -0.843174458569733\n",
      "E = -0.9670259116896882 Eh\n",
      "converged SCF energy = -0.80213543384489\n",
      "E = -0.953424238929029 Eh\n",
      "converged SCF energy = -0.766864889751915\n",
      "E = -0.9449089871327179 Eh\n",
      "converged SCF energy = -0.737027158095765\n",
      "E = -0.9398197912427146 Eh\n",
      "converged SCF energy = -0.712060259734193\n",
      "E = -0.9368706035430501 Eh\n",
      "converged SCF energy = -0.691327561197377\n",
      "E = -0.9351960308474734 Eh\n"
     ]
    }
   ],
   "source": [
    "#Run FCI\n",
    "FCI_PES = obtain_PES('h2', bond_lengths, basis, method='fci')"
   ]
  },
  {
   "cell_type": "code",
   "execution_count": 4,
   "metadata": {},
   "outputs": [
    {
     "name": "stdout",
     "output_type": "stream",
     "text": [
      "converged SCF energy = 0.164175012061695\n",
      "converged SCF energy = 0.164175012061696\n",
      "E = 0.16417501206169582 Eh\n",
      "converged SCF energy = -0.839684083956067\n"
     ]
    },
    {
     "name": "stderr",
     "output_type": "stream",
     "text": [
      "Overwritten attributes  get_ovlp get_hcore  of <class 'pyscf.scf.hf.RHF'>\n"
     ]
    },
    {
     "name": "stdout",
     "output_type": "stream",
     "text": [
      "converged SCF energy = -0.839684083956067\n",
      "E = -0.8396840839560673 Eh\n",
      "converged SCF energy = -1.07486102490599\n",
      "converged SCF energy = -1.07486102490599\n",
      "E = -1.0748610249059865 Eh\n",
      "converged SCF energy = -1.11750157922789\n",
      "converged SCF energy = -1.11750157922789\n",
      "E = -1.1175015792278884 Eh\n",
      "converged SCF energy = -1.09513510118901\n",
      "converged SCF energy = -1.09513510118901\n",
      "E = -1.0951351011890111 Eh\n",
      "converged SCF energy = -1.04953250777026\n",
      "converged SCF energy = -1.04953250777026\n",
      "E = -1.0495325077702624 Eh\n",
      "converged SCF energy = -0.995976005034107\n",
      "converged SCF energy = -0.995976005034107\n",
      "E = -0.9959760050341071 Eh\n",
      "converged SCF energy = -0.941480654707798\n",
      "converged SCF energy = -0.941480654707798\n",
      "E = -0.9414806547077981 Eh\n",
      "converged SCF energy = -0.889889958382754\n",
      "converged SCF energy = -0.889889958382754\n",
      "E = -0.889889958382754 Eh\n",
      "converged SCF energy = -0.843174458569733\n",
      "converged SCF energy = -0.843174458569733\n",
      "E = -0.8431744585697332 Eh\n",
      "converged SCF energy = -0.80213543384489\n",
      "converged SCF energy = -0.80213543384489\n",
      "E = -0.8021354338448896 Eh\n",
      "converged SCF energy = -0.766864889751915\n",
      "converged SCF energy = -0.766864889751915\n",
      "E = -0.7668648897519155 Eh\n",
      "converged SCF energy = -0.737027158095765\n",
      "converged SCF energy = -0.737027158095765\n",
      "E = -0.7370271580957655 Eh\n",
      "converged SCF energy = -0.712060259734193\n",
      "converged SCF energy = -0.712060259734193\n",
      "E = -0.7120602597341925 Eh\n",
      "converged SCF energy = -0.691327561197377\n",
      "converged SCF energy = -0.691327561197377\n",
      "E = -0.6913275611973773 Eh\n"
     ]
    }
   ],
   "source": [
    "#Run HF\n",
    "HF_PES = obtain_PES('h2', bond_lengths, basis,  method='hf')"
   ]
  },
  {
   "cell_type": "code",
   "execution_count": 5,
   "metadata": {},
   "outputs": [
    {
     "name": "stdout",
     "output_type": "stream",
     "text": [
      "converged SCF energy = 0.164175012061695\n",
      "E(CCSD) = 0.1574821318755476  E_corr = -0.00669288018614819\n",
      "E = 0.15748213187554763 Eh\n",
      "converged SCF energy = -0.839684083956067\n",
      "E(CCSD) = -0.8488991194884047  E_corr = -0.009215035532337343\n",
      "E = -0.8488991194884047 Eh\n",
      "converged SCF energy = -1.07486102490599\n",
      "E(CCSD) = -1.088228226369218  E_corr = -0.01336720146323128\n",
      "E = -1.0882282263692178 Eh\n",
      "converged SCF energy = -1.11750157922789\n",
      "E(CCSD) = -1.136929092564818  E_corr = -0.01942751333692954\n",
      "E = -1.136929092564818 Eh\n",
      "converged SCF energy = -1.09513510118901\n",
      "E(CCSD) = -1.122957052870124  E_corr = -0.0278219516811127\n",
      "E = -1.1229570528701238 Eh\n",
      "converged SCF energy = -1.04953250777026\n",
      "E(CCSD) = -1.088764536633295  E_corr = -0.03923202886303246\n",
      "E = -1.088764536633295 Eh\n",
      "converged SCF energy = -0.995976005034107\n",
      "E(CCSD) = -1.050442037622604  E_corr = -0.05446603258849664\n",
      "E = -1.0504420376226038 Eh\n",
      "converged SCF energy = -0.941480654707798\n",
      "E(CCSD) = -1.015468249381512  E_corr = -0.07398759467371405\n",
      "E = -1.0154682493815121 Eh\n",
      "converged SCF energy = -0.889889958382754\n",
      "E(CCSD) = -0.9873930560203336  E_corr = -0.09750309763757954\n",
      "E = -0.9873930560203336 Eh\n",
      "converged SCF energy = -0.843174458569733\n",
      "E(CCSD) = -0.9670259127456341  E_corr = -0.123851454175901\n",
      "E = -0.9670259127456341 Eh\n",
      "converged SCF energy = -0.80213543384489\n",
      "E(CCSD) = -0.9534242405780753  E_corr = -0.1512888067331856\n",
      "E = -0.9534242405780753 Eh\n",
      "converged SCF energy = -0.766864889751915\n",
      "E(CCSD) = -0.944908988273049  E_corr = -0.1780440985211335\n",
      "E = -0.944908988273049 Eh\n",
      "converged SCF energy = -0.737027158095765\n",
      "E(CCSD) = -0.9398197914113116  E_corr = -0.202792633315546\n",
      "E = -0.9398197914113116 Eh\n",
      "converged SCF energy = -0.712060259734193\n",
      "E(CCSD) = -0.9368706035448513  E_corr = -0.2248103438106588\n",
      "E = -0.9368706035448513 Eh\n",
      "converged SCF energy = -0.691327561197377\n",
      "E(CCSD) = -0.9351959716501697  E_corr = -0.2438684104527925\n",
      "E = -0.9351959716501697 Eh\n"
     ]
    }
   ],
   "source": [
    "#Run CCSD\n",
    "CCSD_PES = obtain_PES('h2', bond_lengths, basis,  method='ccsd')"
   ]
  },
  {
   "cell_type": "code",
   "execution_count": 6,
   "metadata": {},
   "outputs": [
    {
     "name": "stdout",
     "output_type": "stream",
     "text": [
      "converged SCF energy = 0.164175012061695\n",
      "converged SCF energy = 0.164169934139604\n",
      "converged SCF energy = 0.164164856241362\n",
      "converged SCF energy = 0.164159778366972\n",
      "converged SCF energy = 0.164154700516431\n",
      "converged SCF energy = 0.164149622689742\n",
      "converged SCF energy = 0.164144544886901\n",
      "converged SCF energy = 0.164139467107911\n",
      "converged SCF energy = 0.164134389352771\n",
      "converged SCF energy = 0.16412931162148\n",
      "Could not converge\n",
      "converged SCF energy = -0.839684083956067\n",
      "converged SCF energy = -0.839685147413591\n",
      "converged SCF energy = -0.839686210867527\n",
      "converged SCF energy = -0.839687274317878\n",
      "converged SCF energy = -0.839688337764643\n",
      "converged SCF energy = -0.839689401207823\n",
      "converged SCF energy = -0.839690464647417\n",
      "converged SCF energy = -0.839691528083426\n",
      "converged SCF energy = -0.839692591515849\n",
      "converged SCF energy = -0.839693654944685\n",
      "Could not converge\n",
      "converged SCF energy = -1.07486102490599\n",
      "converged SCF energy = -1.07486127982276\n",
      "converged SCF energy = -1.07486153473851\n",
      "converged SCF energy = -1.07486178965323\n",
      "converged SCF energy = -1.07486204456694\n",
      "converged SCF energy = -1.07486229947962\n",
      "converged SCF energy = -1.07486255439128\n",
      "converged SCF energy = -1.07486280930191\n",
      "converged SCF energy = -1.07486306421153\n",
      "converged SCF energy = -1.07486331912012\n",
      "Could not converge\n",
      "converged SCF energy = -1.11750157922789\n",
      "converged SCF energy = -1.11750157747201\n",
      "converged SCF energy = -1.11750157571578\n",
      "converged SCF energy = -1.11750157395919\n",
      "converged SCF energy = -1.11750157220224\n",
      "converged SCF energy = -1.11750157044494\n",
      "converged SCF energy = -1.11750156868728\n",
      "converged SCF energy = -1.11750156692927\n",
      "converged SCF energy = -1.1175015651709\n",
      "converged SCF energy = -1.11750156341217\n",
      "Could not converge\n",
      "converged SCF energy = -1.09513510118901\n",
      "converged SCF energy = -1.09513500860762\n",
      "converged SCF energy = -1.0951349160261\n",
      "converged SCF energy = -1.09513482344446\n",
      "converged SCF energy = -1.09513473086268\n",
      "converged SCF energy = -1.09513463828078\n",
      "converged SCF energy = -1.09513454569875\n",
      "converged SCF energy = -1.09513445311659\n",
      "converged SCF energy = -1.0951343605343\n",
      "converged SCF energy = -1.09513426795189\n",
      "Could not converge\n",
      "converged SCF energy = -1.04953250777026\n",
      "converged SCF energy = -1.0495323824802\n",
      "converged SCF energy = -1.04953225719009\n",
      "converged SCF energy = -1.04953213189993\n",
      "converged SCF energy = -1.04953200660973\n",
      "converged SCF energy = -1.04953188131949\n",
      "converged SCF energy = -1.0495317560292\n",
      "converged SCF energy = -1.04953163073887\n",
      "converged SCF energy = -1.04953150544849\n",
      "converged SCF energy = -1.04953138015807\n",
      "Could not converge\n",
      "converged SCF energy = -0.995976005034107\n",
      "converged SCF energy = -0.995975870611597\n",
      "converged SCF energy = -0.995975736189081\n",
      "converged SCF energy = -0.995975601766563\n",
      "converged SCF energy = -0.99597546734404\n",
      "converged SCF energy = -0.995975332921513\n",
      "converged SCF energy = -0.995975198498981\n",
      "converged SCF energy = -0.995975064076445\n",
      "converged SCF energy = -0.995974929653905\n",
      "converged SCF energy = -0.995974795231361\n",
      "Could not converge\n",
      "converged SCF energy = -0.941480654707798\n",
      "converged SCF energy = -0.94148052363263\n",
      "converged SCF energy = -0.94148039255748\n",
      "converged SCF energy = -0.941480261482347\n",
      "converged SCF energy = -0.941480130407233\n",
      "converged SCF energy = -0.941479999332138\n",
      "converged SCF energy = -0.941479868257061\n",
      "converged SCF energy = -0.941479737182003\n",
      "converged SCF energy = -0.941479606106962\n",
      "converged SCF energy = -0.94147947503194\n",
      "Could not converge\n",
      "converged SCF energy = -0.889889958382754\n",
      "converged SCF energy = -0.889889837439208\n",
      "converged SCF energy = -0.88988971649569\n",
      "converged SCF energy = -0.889889595552204\n",
      "converged SCF energy = -0.889889474608746\n",
      "converged SCF energy = -0.889889353665319\n",
      "converged SCF energy = -0.889889232721921\n",
      "converged SCF energy = -0.889889111778554\n",
      "converged SCF energy = -0.889888990835216\n",
      "converged SCF energy = -0.889888869891907\n",
      "Could not converge\n",
      "converged SCF energy = -0.843174458569733\n",
      "converged SCF energy = -0.843174350916274\n",
      "converged SCF energy = -0.84317424326285\n",
      "converged SCF energy = -0.84317413560946\n",
      "converged SCF energy = -0.843174027956104\n",
      "converged SCF energy = -0.843173920302783\n",
      "converged SCF energy = -0.843173812649497\n",
      "converged SCF energy = -0.843173704996244\n",
      "converged SCF energy = -0.843173597343025\n",
      "converged SCF energy = -0.843173489689842\n",
      "Could not converge\n",
      "converged SCF energy = -0.80213543384489\n",
      "converged SCF energy = -0.802135340433935\n",
      "converged SCF energy = -0.802135247023014\n",
      "converged SCF energy = -0.802135153612128\n",
      "converged SCF energy = -0.802135060201277\n",
      "converged SCF energy = -0.802134966790461\n",
      "converged SCF energy = -0.80213487337968\n",
      "converged SCF energy = -0.802134779968933\n",
      "converged SCF energy = -0.802134686558222\n",
      "converged SCF energy = -0.802134593147546\n",
      "Could not converge\n",
      "converged SCF energy = -0.766864889751915\n",
      "converged SCF energy = -0.766864810192067\n",
      "converged SCF energy = -0.76686473063225\n",
      "converged SCF energy = -0.766864651072467\n",
      "converged SCF energy = -0.766864571512717\n",
      "converged SCF energy = -0.766864491952999\n",
      "converged SCF energy = -0.766864412393314\n",
      "converged SCF energy = -0.766864332833662\n",
      "converged SCF energy = -0.766864253274042\n",
      "converged SCF energy = -0.766864173714455\n",
      "Could not converge\n",
      "converged SCF energy = -0.737027158095765\n",
      "converged SCF energy = -0.737027091214978\n",
      "converged SCF energy = -0.737027024334219\n",
      "converged SCF energy = -0.73702695745349\n",
      "converged SCF energy = -0.737026890572789\n",
      "converged SCF energy = -0.737026823692119\n",
      "converged SCF energy = -0.737026756811477\n",
      "converged SCF energy = -0.737026689930865\n",
      "converged SCF energy = -0.737026623050282\n",
      "converged SCF energy = -0.737026556169729\n",
      "Could not converge\n",
      "converged SCF energy = -0.712060259734193\n",
      "converged SCF energy = -0.712060204013478\n",
      "converged SCF energy = -0.712060148292788\n",
      "converged SCF energy = -0.712060092572124\n",
      "converged SCF energy = -0.712060036851486\n",
      "converged SCF energy = -0.712059981130873\n",
      "converged SCF energy = -0.712059925410285\n",
      "converged SCF energy = -0.712059869689722\n",
      "converged SCF energy = -0.712059813969185\n",
      "converged SCF energy = -0.712059758248674\n",
      "Could not converge\n",
      "converged SCF energy = -0.691327561197377\n",
      "converged SCF energy = -0.69132751507398\n",
      "converged SCF energy = -0.691327468950605\n",
      "converged SCF energy = -0.69132742282725\n",
      "converged SCF energy = -0.691327376703918\n",
      "converged SCF energy = -0.691327330580607\n",
      "converged SCF energy = -0.691327284457318\n",
      "converged SCF energy = -0.69132723833405\n",
      "converged SCF energy = -0.691327192210805\n",
      "converged SCF energy = -0.69132714608758\n",
      "Could not converge\n"
     ]
    }
   ],
   "source": [
    "#Run CISD\n",
    "CISD_PES = obtain_PES('h2', bond_lengths, basis,  method='cisd')"
   ]
  },
  {
   "cell_type": "code",
   "execution_count": 8,
   "metadata": {},
   "outputs": [],
   "source": [
    "import pyscf\n",
    "from pyscf import gto\n",
    "\n",
    "def get_cisd_pes(molname, bond_lengths):\n",
    "    \n",
    "    CISD_PES = np.zeros(len(bond_lengths))\n",
    "    for i in range(len(bond_lengths)):\n",
    "        mol = gto.Mole()\n",
    "        mol.atom = get_molecular_data(molname, bond_lengths[i], xyz_format=False)\n",
    "        mol.basis = 'sto3g'\n",
    "        mol.build()\n",
    "\n",
    "        mf = mol.HF().run()\n",
    "        mycc = mf.CISD().run()\n",
    "\n",
    "        CISD_PES[i] = mycc.e_tot\n",
    "\n",
    "    return CISD_PES"
   ]
  },
  {
   "cell_type": "code",
   "execution_count": 8,
   "metadata": {},
   "outputs": [
    {
     "name": "stdout",
     "output_type": "stream",
     "text": [
      "converged SCF energy = 0.16412423391404\n",
      "E(RCISD) = 0.1574313136580771  E_corr = -0.006692920255962703\n",
      "converged SCF energy = -0.839694718442279\n",
      "E(RCISD) = -0.8489098212015191  E_corr = -0.009215102759239983\n",
      "converged SCF energy = -1.07486357400168\n",
      "E(RCISD) = -1.088230857028833  E_corr = -0.01336728302715211\n",
      "converged SCF energy = -1.11750156165314\n",
      "E(RCISD) = -1.136929116722402  E_corr = -0.01942755506925981\n",
      "converged SCF energy = -1.09513417536619\n",
      "E(RCISD) = -1.122956366299934  E_corr = -0.02782219093373877\n",
      "converged SCF energy = -1.04953125485482\n",
      "E(RCISD) = -1.088763607063101  E_corr = -0.03923235220827748\n",
      "converged SCF energy = -0.995974660817957\n",
      "E(RCISD) = -1.050441118298806  E_corr = -0.05446645748084813\n",
      "converged SCF energy = -0.941479343956937\n",
      "E(RCISD) = -1.015467468777826  E_corr = -0.07398812482088873\n",
      "converged SCF energy = -0.889888748940403\n",
      "E(RCISD) = -0.9873924633454189  E_corr = -0.09750371440501605\n",
      "converged SCF energy = -0.843173382047679\n",
      "E(RCISD) = -0.9670255017003269  E_corr = -0.1238521196526482\n",
      "converged SCF energy = -0.802134499740081\n",
      "E(RCISD) = -0.9534239752717133  E_corr = -0.1512894755316322\n",
      "converged SCF energy = -0.766864094152195\n",
      "E(RCISD) = -0.9449088266279195  E_corr = -0.1780447324757249\n",
      "converged SCF energy = -0.73702648928238\n",
      "E(RCISD) = -0.9398196971182254  E_corr = -0.2027932078358459\n",
      "converged SCF energy = -0.712059702531978\n",
      "E(RCISD) = -0.9368705496682885  E_corr = -0.2248108471363108\n",
      "converged SCF energy = -0.691327099964378\n",
      "E(RCISD) = -0.9351960005273897  E_corr = -0.2438689005630117\n"
     ]
    }
   ],
   "source": [
    "CISD_PES = get_cisd_pes('h2',bond_lengths)"
   ]
  },
  {
   "cell_type": "code",
   "execution_count": 9,
   "metadata": {},
   "outputs": [
    {
     "data": {
      "text/plain": [
       "<matplotlib.legend.Legend at 0x7faa984e6fa0>"
      ]
     },
     "execution_count": 9,
     "metadata": {},
     "output_type": "execute_result"
    },
    {
     "data": {
      "image/png": "[encoded data removed]",
      "text/plain": [
       "<Figure size 432x288 with 1 Axes>"
      ]
     },
     "metadata": {
      "needs_background": "light"
     },
     "output_type": "display_data"
    }
   ],
   "source": [
    "#Plot H2 PESs\n",
    "\n",
    "plt.title('H2 dissociation, STO-3G')\n",
    "plt.xlabel(r'R ($A^\\circ$)',fontsize=20)\n",
    "plt.ylabel(r'Energy ($E_h$)',fontsize=14)\n",
    "\n",
    "plt.plot(bond_lengths, FCI_PES, label='FCI')\n",
    "plt.scatter(bond_lengths, HF_PES, label='HF', color='orange')\n",
    "plt.scatter(bond_lengths, CCSD_PES, label='CCSD', color='purple')\n",
    "plt.scatter(bond_lengths, CISD_PES, label='CISD', color='green', marker='x')\n",
    "\n",
    "plt.legend()"
   ]
  },
  {
   "cell_type": "markdown",
   "metadata": {},
   "source": [
    "## H<sub>2</sub>O symmetric O-H dissociation"
   ]
  },
  {
   "cell_type": "code",
   "execution_count": 10,
   "metadata": {},
   "outputs": [],
   "source": [
    "bond_lengths = np.linspace(0.5,2.7,15)"
   ]
  },
  {
   "cell_type": "code",
   "execution_count": 11,
   "metadata": {},
   "outputs": [
    {
     "name": "stdout",
     "output_type": "stream",
     "text": [
      "converged SCF energy = -73.1294523897688\n",
      "E = -73.14278405666445 Eh\n",
      "converged SCF energy = -74.4533755394604\n",
      "E = -74.47523205124747 Eh\n",
      "converged SCF energy = -74.870474914869\n",
      "E = -74.90413378004637 Eh\n",
      "converged SCF energy = -74.9629980695871\n",
      "E = -75.01383133947519 Eh\n",
      "converged SCF energy = -74.9280772606054\n",
      "E = -75.00356512179694 Eh\n",
      "converged SCF energy = -74.8427106360511\n",
      "E = -74.95170869149446 Eh\n",
      "converged SCF energy = -74.7404009823899\n",
      "E = -74.8921864824038 Eh\n",
      "converged SCF energy = -74.6356397052129\n",
      "E = -74.83923063682425 Eh\n",
      "converged SCF energy = -74.5355993564524\n",
      "E = -74.79866365949064 Eh\n",
      "converged SCF energy = -74.4447494379007\n",
      "E = -74.77161515193761 Eh\n",
      "converged SCF energy = -74.3648409739232\n",
      "E = -74.75568947210506 Eh\n",
      "converged SCF energy = -74.2975641705531\n",
      "E = -74.74704715180513 Eh\n",
      "converged SCF energy = -74.2414470355423\n",
      "E = -74.65097549250456 Eh\n",
      "converged SCF energy = -74.2701898592245\n",
      "E = -74.73852377799331 Eh\n",
      "SCF not converged.\n",
      "SCF energy = -72.9767073788912\n",
      "E = -74.73841937908706 Eh\n"
     ]
    }
   ],
   "source": [
    "#Run FCI\n",
    "FCI_PES = obtain_PES('h2o', bond_lengths, basis, method='fci')"
   ]
  },
  {
   "cell_type": "code",
   "execution_count": 12,
   "metadata": {},
   "outputs": [
    {
     "name": "stdout",
     "output_type": "stream",
     "text": [
      "converged SCF energy = -73.1294523897688\n",
      "converged SCF energy = -73.1294523897688\n",
      "E = -73.12945238976884 Eh\n",
      "converged SCF energy = -74.4533755394603\n",
      "converged SCF energy = -74.4533755394603\n",
      "E = -74.45337553946032 Eh\n",
      "converged SCF energy = -74.870474914869\n",
      "converged SCF energy = -74.870474914869\n",
      "E = -74.87047491486898 Eh\n",
      "converged SCF energy = -74.9629980695872\n",
      "converged SCF energy = -74.9629980695871\n",
      "E = -74.9629980695871 Eh\n",
      "converged SCF energy = -74.9280772606054\n",
      "converged SCF energy = -74.9280772606054\n",
      "E = -74.92807726060545 Eh\n",
      "converged SCF energy = -74.8427106360511\n",
      "converged SCF energy = -74.8427106360511\n",
      "E = -74.84271063605105 Eh\n",
      "converged SCF energy = -74.7404009823899\n",
      "converged SCF energy = -74.7404009823898\n",
      "E = -74.74040098238983 Eh\n",
      "converged SCF energy = -74.6356397052129\n",
      "converged SCF energy = -74.6356397052129\n",
      "E = -74.63563970521294 Eh\n",
      "converged SCF energy = -74.5355993564525\n",
      "converged SCF energy = -74.5355993564523\n",
      "E = -74.53559935645225 Eh\n",
      "converged SCF energy = -74.4447494379007\n",
      "converged SCF energy = -74.4447494379009\n",
      "E = -74.4447494379009 Eh\n",
      "converged SCF energy = -74.3648409739232\n",
      "converged SCF energy = -74.36484097367\n",
      "E = -74.36484097366996 Eh\n",
      "converged SCF energy = -74.2975641705532\n",
      "converged SCF energy = -74.2975641704718\n",
      "E = -74.29756417047184 Eh\n",
      "converged SCF energy = -74.2414470355422\n",
      "converged SCF energy = -74.2414470355398\n",
      "E = -74.24144703553985 Eh\n",
      "converged SCF energy = -74.2701898592245\n",
      "converged SCF energy = -74.2701898592245\n",
      "E = -74.27018985922446 Eh\n",
      "SCF not converged.\n",
      "SCF energy = -72.9783096943301\n",
      "converged SCF energy = -74.2677694752472\n",
      "E = -74.2677694752472 Eh\n"
     ]
    }
   ],
   "source": [
    "#Run HF\n",
    "HF_PES = obtain_PES('h2o', bond_lengths, basis,  method='hf')"
   ]
  },
  {
   "cell_type": "code",
   "execution_count": 13,
   "metadata": {},
   "outputs": [
    {
     "name": "stdout",
     "output_type": "stream",
     "text": [
      "converged SCF energy = -73.1294523897688\n",
      "E(CCSD) = -73.14276521635894  E_corr = -0.01331282659012168\n",
      "E = -73.14276521635894 Eh\n",
      "converged SCF energy = -74.4533755394603\n",
      "E(CCSD) = -74.47519627862118  E_corr = -0.02182073916078394\n",
      "E = -74.47519627862118 Eh\n",
      "converged SCF energy = -74.870474914869\n",
      "E(CCSD) = -74.90406496739165  E_corr = -0.03359005252268954\n",
      "E = -74.90406496739165 Eh\n",
      "converged SCF energy = -74.9629980695871\n",
      "E(CCSD) = -75.01370059196519  E_corr = -0.05070252237808309\n",
      "E = -75.01370059196519 Eh\n",
      "converged SCF energy = -74.9280772606054\n",
      "E(CCSD) = -75.00329904142161  E_corr = -0.0752217808162044\n",
      "E = -75.00329904142161 Eh\n",
      "converged SCF energy = -74.8427106360511\n",
      "E(CCSD) = -74.95116129966111  E_corr = -0.1084506636100818\n",
      "E = -74.95116129966111 Eh\n",
      "converged SCF energy = -74.7404009823899\n",
      "E(CCSD) = -74.89127919056963  E_corr = -0.1508782081797506\n",
      "E = -74.89127919056963 Eh\n",
      "converged SCF energy = -74.6356397052129\n",
      "E(CCSD) = -74.83854079640633  E_corr = -0.2029010911934011\n",
      "E = -74.83854079640633 Eh\n",
      "converged SCF energy = -74.5355993564524\n",
      "E(CCSD) = -74.80072831364208  E_corr = -0.2651289571897195\n",
      "E = -74.80072831364208 Eh\n",
      "converged SCF energy = -74.4447494379006\n",
      "E(CCSD) = -74.78110150316999  E_corr = -0.336352065269384\n",
      "E = -74.78110150316999 Eh\n",
      "converged SCF energy = -74.3648409739232\n",
      "E(CCSD) = -74.7770031784551  E_corr = -0.4121622045319477\n",
      "E = -74.7770031784551 Eh\n",
      "converged SCF energy = -74.2975641705531\n",
      "E(CCSD) = -74.77976383148683  E_corr = -0.4821996609336527\n",
      "E = -74.77976383148683 Eh\n",
      "converged SCF energy = -74.2414470355423\n",
      "E(CCSD) = -74.78341662871905  E_corr = -0.5419695931768175\n",
      "E = -74.78341662871905 Eh\n",
      "converged SCF energy = -74.2701898592244\n",
      "CCSD not converged\n",
      "E(CCSD) = -74.64222957594579  E_corr = -0.372039716721338\n",
      "E = -74.64222957594579 Eh\n",
      "SCF not converged.\n",
      "SCF energy = -72.977871824823\n",
      "E(CCSD) = -72.96892159767732  E_corr = 0.008950227145665249\n",
      "E = -72.96892159767732 Eh\n"
     ]
    }
   ],
   "source": [
    "#Run CCSD\n",
    "CCSD_PES = obtain_PES('h2o', bond_lengths, basis,  method='ccsd')"
   ]
  },
  {
   "cell_type": "code",
   "execution_count": 14,
   "metadata": {},
   "outputs": [
    {
     "name": "stdout",
     "output_type": "stream",
     "text": [
      "converged SCF energy = -73.1294523895249\n",
      "E(RCISD) = -73.14274671598832  E_corr = -0.01329432646338393\n",
      "converged SCF energy = -74.4533755394552\n",
      "E(RCISD) = -74.47513048268902  E_corr = -0.0217549432338664\n",
      "converged SCF energy = -74.8704749148569\n",
      "E(RCISD) = -74.90385790761569  E_corr = -0.03338299275878548\n",
      "converged SCF energy = -74.9629980695849\n",
      "E(RCISD) = -75.01306780040228  E_corr = -0.05006973081739167\n",
      "converged SCF energy = -74.9280772606096\n",
      "E(RCISD) = -75.00147251995749  E_corr = -0.07339525934793231\n",
      "converged SCF energy = -74.8427106360412\n",
      "E(RCISD) = -74.94643477106142  E_corr = -0.1037241350201805\n",
      "converged SCF energy = -74.7404009823891\n",
      "E(RCISD) = -74.88052836034142  E_corr = -0.1401273779522889\n",
      "converged SCF energy = -74.635639705199\n",
      "E(RCISD) = -74.81679144091009  E_corr = -0.1811517357110971\n",
      "converged SCF energy = -74.5355993564465\n",
      "E(RCISD) = -74.76098824931614  E_corr = -0.225388892869624\n",
      "converged SCF energy = -74.4447494378857\n",
      "E(RCISD) = -74.7163145024669  E_corr = -0.2715650645811698\n",
      "converged SCF energy = -74.3648409739408\n",
      "E(RCISD) = -74.68861847493973  E_corr = -0.323777500998888\n",
      "converged SCF energy = -74.2975641705396\n",
      "E(RCISD) = -74.67975177057241  E_corr = -0.3821876000328452\n",
      "converged SCF energy = -74.2414470355524\n",
      "E(RCISD) = -74.67712672521155  E_corr = -0.435679689659114\n",
      "converged SCF energy = -74.2701898592237\n",
      "E(RCISD) = -74.7399700580428  E_corr = -0.4697801988191118\n",
      "SCF not converged.\n",
      "SCF energy = -73.0169454810995\n",
      "E(RCISD) = -74.73072253844752  E_corr = -1.713777057348074\n"
     ]
    }
   ],
   "source": [
    "CISD_PES = get_cisd_pes('h2o',bond_lengths)"
   ]
  },
  {
   "cell_type": "code",
   "execution_count": 15,
   "metadata": {},
   "outputs": [
    {
     "data": {
      "text/plain": [
       "<matplotlib.legend.Legend at 0x7faa984133d0>"
      ]
     },
     "execution_count": 15,
     "metadata": {},
     "output_type": "execute_result"
    },
    {
     "data": {
      "image/png": "[encoded data removed]",
      "text/plain": [
       "<Figure size 432x288 with 1 Axes>"
      ]
     },
     "metadata": {
      "needs_background": "light"
     },
     "output_type": "display_data"
    }
   ],
   "source": [
    "#Plot H2O PESs\n",
    "\n",
    "plt.title('H2O symmetric dissociation, STO-3G')\n",
    "plt.xlabel(r'R ($A^\\circ$)',fontsize=20)\n",
    "plt.ylabel(r'Energy ($E_h$)',fontsize=14)\n",
    "\n",
    "plt.plot(bond_lengths, FCI_PES, label='FCI')\n",
    "plt.scatter(bond_lengths, HF_PES, label='HF', color='orange')\n",
    "plt.scatter(bond_lengths, CCSD_PES, label='CCSD', color='purple')\n",
    "plt.scatter(bond_lengths, CISD_PES, label='CISD', color='green', marker='x')\n",
    "plt.legend(loc = 'upper center')"
   ]
  },
  {
   "cell_type": "markdown",
   "metadata": {},
   "source": [
    "Next we compute the PEs for other types of molecules\n",
    "$LiH$, $N_2$, $H_4$, and $NH_3$\n",
    "\n",
    "$LiH$\n",
    "\n",
    "$r_0 = 1.619$ Angstrom"
   ]
  },
  {
   "cell_type": "code",
   "execution_count": 16,
   "metadata": {
    "scrolled": true
   },
   "outputs": [
    {
     "name": "stdout",
     "output_type": "stream",
     "text": [
      "[1.0, 1.1031666666666666, 1.2063333333333333, 1.3094999999999999, 1.4126666666666667, 1.5158333333333334, 1.619, 1.7734285714285714, 1.927857142857143, 2.0822857142857143, 2.2367142857142857, 2.3911428571428575, 2.545571428571429, 2.7]\n"
     ]
    }
   ],
   "source": [
    "#Starting with LiH\n",
    "#r_eqb = 1.619 Ang\n",
    "bond_lengths = [x for x in np.linspace(1.0,1.619,7)] \n",
    "bond_lengths = bond_lengths[:-1]\n",
    "bond_lengths += [x for x in np.linspace(1.619,2.7,8)]\n",
    "print(bond_lengths)\n"
   ]
  },
  {
   "cell_type": "code",
   "execution_count": 17,
   "metadata": {},
   "outputs": [
    {
     "name": "stdout",
     "output_type": "stream",
     "text": [
      "converged SCF energy = -7.76736213574856\n",
      "E = -7.78446028003123 Eh\n",
      "converged SCF energy = -7.80979176463783\n",
      "E = -7.8265810331209655 Eh\n",
      "converged SCF energy = -7.83692872384727\n",
      "E = -7.8537567404016535 Eh\n",
      "converged SCF energy = -7.85306658932547\n",
      "E = -7.8703065130887655 Eh\n",
      "converged SCF energy = -7.86118008465405\n",
      "E = -7.879213083453221 Eh\n",
      "converged SCF energy = -7.86337692068677\n",
      "E = -7.882587446751686 Eh\n",
      "converged SCF energy = -7.86118812320016\n",
      "E = -7.881966102188458 Eh\n",
      "converged SCF energy = -7.85210876795008\n",
      "E = -7.875986257595848 Eh\n",
      "converged SCF energy = -7.83838177201205\n",
      "E = -7.866316816255415 Eh\n",
      "converged SCF energy = -7.82179682213268\n",
      "E = -7.854833029562926 Eh\n",
      "converged SCF energy = -7.80355661022601\n",
      "E = -7.842840943624406 Eh\n",
      "converged SCF energy = -7.78448734730311\n",
      "E = -7.831267953080066 Eh\n",
      "converged SCF energy = -7.76517971175667\n",
      "E = -7.8207640214175 Eh\n",
      "converged SCF energy = -7.74607970736099\n",
      "E = -7.811735339124828 Eh\n"
     ]
    }
   ],
   "source": [
    "#Run FCI\n",
    "FCI_PES = obtain_PES('lih', bond_lengths, basis, method='fci')"
   ]
  },
  {
   "cell_type": "code",
   "execution_count": 18,
   "metadata": {},
   "outputs": [
    {
     "name": "stdout",
     "output_type": "stream",
     "text": [
      "converged SCF energy = -7.76736213574857\n",
      "converged SCF energy = -7.76736213574858\n",
      "E = -7.767362135748582 Eh\n",
      "converged SCF energy = -7.80979176463783\n",
      "converged SCF energy = -7.80979176463784\n",
      "E = -7.809791764637841 Eh\n",
      "converged SCF energy = -7.83692872384727\n",
      "converged SCF energy = -7.83692872384727\n",
      "E = -7.836928723847274 Eh\n",
      "converged SCF energy = -7.85306658932547\n",
      "converged SCF energy = -7.8530665893276\n",
      "E = -7.853066589327602 Eh\n",
      "converged SCF energy = -7.86118008465405\n",
      "converged SCF energy = -7.86118008465472\n",
      "E = -7.861180084654718 Eh\n",
      "converged SCF energy = -7.86337692068678\n",
      "converged SCF energy = -7.86337692068678\n",
      "E = -7.863376920686776 Eh\n",
      "converged SCF energy = -7.86118812320015\n",
      "converged SCF energy = -7.86118812320016\n",
      "E = -7.861188123200157 Eh\n",
      "converged SCF energy = -7.85210876795008\n",
      "converged SCF energy = -7.85210876795008\n",
      "E = -7.852108767950082 Eh\n",
      "converged SCF energy = -7.83838177201204\n",
      "converged SCF energy = -7.83838177201205\n",
      "E = -7.838381772012054 Eh\n",
      "converged SCF energy = -7.82179682213268\n",
      "converged SCF energy = -7.82179682213268\n",
      "E = -7.821796822132683 Eh\n",
      "converged SCF energy = -7.80355661022601\n",
      "converged SCF energy = -7.80355661022601\n",
      "E = -7.803556610226012 Eh\n",
      "converged SCF energy = -7.78448734730311\n",
      "converged SCF energy = -7.78448734730311\n",
      "E = -7.78448734730311 Eh\n",
      "converged SCF energy = -7.76517971175667\n",
      "converged SCF energy = -7.76517971175667\n",
      "E = -7.765179711756667 Eh\n",
      "converged SCF energy = -7.74607970736099\n",
      "converged SCF energy = -7.74607970736099\n",
      "E = -7.746079707360993 Eh\n"
     ]
    }
   ],
   "source": [
    "#Run HF\n",
    "HF_PES = obtain_PES('lih', bond_lengths, basis,  method='hf')"
   ]
  },
  {
   "cell_type": "code",
   "execution_count": 19,
   "metadata": {},
   "outputs": [
    {
     "name": "stdout",
     "output_type": "stream",
     "text": [
      "converged SCF energy = -7.76736213574856\n",
      "E(CCSD) = -7.784454825910823  E_corr = -0.01709269016226172\n",
      "E = -7.7844548259108235 Eh\n",
      "converged SCF energy = -7.80979176463783\n",
      "E(CCSD) = -7.826575204641611  E_corr = -0.01678344000377575\n",
      "E = -7.826575204641611 Eh\n",
      "converged SCF energy = -7.83692872384727\n",
      "E(CCSD) = -7.853750205060463  E_corr = -0.01682148121319228\n",
      "E = -7.853750205060463 Eh\n",
      "converged SCF energy = -7.85306658932547\n",
      "E(CCSD) = -7.87029907962143  E_corr = -0.01723249029595915\n",
      "E = -7.87029907962143 Eh\n",
      "converged SCF energy = -7.86118008465405\n",
      "E(CCSD) = -7.879204638475544  E_corr = -0.01802455382149374\n",
      "E = -7.879204638475544 Eh\n",
      "converged SCF energy = -7.86337692068677\n",
      "E(CCSD) = -7.882577891331048  E_corr = -0.01920097064427495\n",
      "E = -7.882577891331048 Eh\n",
      "converged SCF energy = -7.86118812320016\n",
      "E(CCSD) = -7.881955303298599  E_corr = -0.02076718009844029\n",
      "E = -7.881955303298599 Eh\n",
      "converged SCF energy = -7.85210876795008\n",
      "E(CCSD) = -7.875973198854202  E_corr = -0.0238644309041235\n",
      "E = -7.875973198854202 Eh\n",
      "converged SCF energy = -7.83838177201204\n",
      "E(CCSD) = -7.86630074457467  E_corr = -0.02791897256262304\n",
      "E = -7.86630074457467 Eh\n",
      "converged SCF energy = -7.82179682213268\n",
      "E(CCSD) = -7.854812832890687  E_corr = -0.03301601075800773\n",
      "E = -7.854812832890687 Eh\n",
      "converged SCF energy = -7.80355661022601\n",
      "E(CCSD) = -7.842815046278113  E_corr = -0.03925843605210257\n",
      "E = -7.842815046278113 Eh\n",
      "converged SCF energy = -7.78448734730311\n",
      "E(CCSD) = -7.831234343748642  E_corr = -0.04674699644552884\n",
      "E = -7.831234343748642 Eh\n",
      "converged SCF energy = -7.76517971175667\n",
      "E(CCSD) = -7.820720414804103  E_corr = -0.05554070304743026\n",
      "E = -7.820720414804103 Eh\n",
      "converged SCF energy = -7.74607970736099\n",
      "E(CCSD) = -7.811679671082909  E_corr = -0.06559996372192013\n",
      "E = -7.811679671082909 Eh\n"
     ]
    }
   ],
   "source": [
    "#Run CCSD\n",
    "CCSD_PES = obtain_PES('lih', bond_lengths, basis,  method='ccsd')"
   ]
  },
  {
   "cell_type": "code",
   "execution_count": 20,
   "metadata": {},
   "outputs": [
    {
     "name": "stdout",
     "output_type": "stream",
     "text": [
      "converged SCF energy = -7.76736213574855\n",
      "E(RCISD) = -7.784451852608674  E_corr = -0.01708971686011873\n",
      "converged SCF energy = -7.80979176462687\n",
      "E(RCISD) = -7.826572604171981  E_corr = -0.01678083954510819\n",
      "converged SCF energy = -7.83692872385407\n",
      "E(RCISD) = -7.853747789283756  E_corr = -0.01681906542968236\n",
      "converged SCF energy = -7.85306658932546\n",
      "E(RCISD) = -7.870296696278254  E_corr = -0.01723010695279562\n",
      "converged SCF energy = -7.86118008465248\n",
      "E(RCISD) = -7.879202170415576  E_corr = -0.01802208576309941\n",
      "converged SCF energy = -7.86337692068671\n",
      "E(RCISD) = -7.882575250021095  E_corr = -0.01919832933438547\n",
      "converged SCF energy = -7.86118812320016\n",
      "E(RCISD) = -7.881952418227401  E_corr = -0.02076429502724274\n",
      "converged SCF energy = -7.8521087679479\n",
      "E(RCISD) = -7.875969836904649  E_corr = -0.02386106895675046\n",
      "converged SCF energy = -7.83838177201632\n",
      "E(RCISD) = -7.866296783944052  E_corr = -0.02791501192773272\n",
      "converged SCF energy = -7.82179682213431\n",
      "E(RCISD) = -7.854808151441107  E_corr = -0.03301132930679446\n",
      "converged SCF energy = -7.80355661022427\n",
      "E(RCISD) = -7.842809584897837  E_corr = -0.03925297467356325\n",
      "converged SCF energy = -7.78448734729776\n",
      "E(RCISD) = -7.831228104735595  E_corr = -0.04674075743783086\n",
      "converged SCF energy = -7.76517971176023\n",
      "E(RCISD) = -7.820713492757901  E_corr = -0.05553378099766772\n",
      "converged SCF energy = -7.74607970736098\n",
      "E(RCISD) = -7.811672192058194  E_corr = -0.06559248469721371\n"
     ]
    }
   ],
   "source": [
    "CISD_PES = get_cisd_pes('lih',bond_lengths)"
   ]
  },
  {
   "cell_type": "code",
   "execution_count": 21,
   "metadata": {},
   "outputs": [
    {
     "data": {
      "text/plain": [
       "<matplotlib.legend.Legend at 0x7faa98355640>"
      ]
     },
     "execution_count": 21,
     "metadata": {},
     "output_type": "execute_result"
    },
    {
     "data": {
      "image/png": "[encoded data removed]",
      "text/plain": [
       "<Figure size 432x288 with 1 Axes>"
      ]
     },
     "metadata": {
      "needs_background": "light"
     },
     "output_type": "display_data"
    }
   ],
   "source": [
    "#Plot LiH PESs\n",
    "plt.title('LiH, STO-3G')\n",
    "plt.xlabel(r'R ($A^\\circ$)',fontsize=20)\n",
    "plt.ylabel(r'Energy ($E_h$)',fontsize=14)\n",
    "\n",
    "plt.plot(bond_lengths, FCI_PES, label='FCI')\n",
    "plt.scatter(bond_lengths, HF_PES, label='HF', color='orange')\n",
    "plt.scatter(bond_lengths, CCSD_PES, label='CCSD', color='purple')\n",
    "plt.scatter(bond_lengths, CISD_PES, label='CISD', color='green', marker='x')\n",
    "plt.legend(loc = 'upper center')"
   ]
  },
  {
   "cell_type": "markdown",
   "metadata": {},
   "source": [
    "$N_2$\n",
    "\n",
    "$𝑟_0 = 1.119$ Angstrom"
   ]
  },
  {
   "cell_type": "code",
   "execution_count": 22,
   "metadata": {},
   "outputs": [
    {
     "name": "stdout",
     "output_type": "stream",
     "text": [
      "[1.0, 1.0198333333333334, 1.0396666666666667, 1.0594999999999999, 1.0793333333333333, 1.0991666666666666, 1.119, 1.12, 1.1742857142857144, 1.2285714285714286, 1.282857142857143, 1.3371428571428572, 1.3914285714285715, 1.4457142857142857, 1.5]\n"
     ]
    }
   ],
   "source": [
    "bond_lengths = [x for x in np.linspace(1.0,1.119,7)] \n",
    "bond_lengths += [x for x in np.linspace(1.120,1.5,8)]\n",
    "print(bond_lengths)"
   ]
  },
  {
   "cell_type": "code",
   "execution_count": 23,
   "metadata": {},
   "outputs": [
    {
     "name": "stdout",
     "output_type": "stream",
     "text": [
      "converged SCF energy = -107.419532451682\n",
      "E = -107.54930095790854 Eh\n",
      "converged SCF energy = -107.44439201994\n",
      "E = -107.57936182589182 Eh\n",
      "converged SCF energy = -107.463939801382\n",
      "E = -107.60426977073314 Eh\n",
      "converged SCF energy = -107.478762050245\n",
      "E = -107.62461218152751 Eh\n",
      "converged SCF energy = -107.489386014866\n",
      "E = -107.64091702373273 Eh\n",
      "converged SCF energy = -107.496285635962\n",
      "E = -107.65365858481638 Eh\n",
      "converged SCF energy = -107.499886689299\n",
      "E = -107.66326266182564 Eh\n",
      "converged SCF energy = -107.4999879992\n",
      "E = -107.66367090726257 Eh\n",
      "converged SCF energy = -107.495586402914\n",
      "E = -107.67654317744662 Eh\n",
      "converged SCF energy = -107.475732233152\n",
      "E = -107.67515353271176 Eh\n",
      "converged SCF energy = -107.445164146148\n",
      "E = -107.66422167708389 Eh\n",
      "converged SCF energy = -107.407355286627\n",
      "E = -107.64720402800934 Eh\n",
      "converged SCF energy = -107.364832439239\n",
      "E = -107.62662139272155 Eh\n",
      "converged SCF energy = -107.31942346232\n",
      "E = -107.604313776077 Eh\n",
      "converged SCF energy = -107.272448501206\n",
      "E = -107.58163492220919 Eh\n"
     ]
    }
   ],
   "source": [
    "#Run FCI\n",
    "FCI_PES = obtain_PES('n2', bond_lengths, basis, method='fci')"
   ]
  },
  {
   "cell_type": "code",
   "execution_count": 24,
   "metadata": {},
   "outputs": [
    {
     "name": "stdout",
     "output_type": "stream",
     "text": [
      "converged SCF energy = -107.419532451682\n",
      "converged SCF energy = -107.419532451682\n",
      "E = -107.4195324516821 Eh\n",
      "converged SCF energy = -107.44439201994\n",
      "converged SCF energy = -107.44439201994\n",
      "E = -107.44439201993978 Eh\n",
      "converged SCF energy = -107.463939801382\n",
      "converged SCF energy = -107.463939801382\n",
      "E = -107.46393980138205 Eh\n",
      "converged SCF energy = -107.478762050245\n",
      "converged SCF energy = -107.478762050245\n",
      "E = -107.47876205024451 Eh\n",
      "converged SCF energy = -107.489386014866\n",
      "converged SCF energy = -107.489386014866\n",
      "E = -107.4893860148664 Eh\n",
      "converged SCF energy = -107.496285635961\n",
      "converged SCF energy = -107.496285635961\n",
      "E = -107.4962856359615 Eh\n",
      "converged SCF energy = -107.499886689299\n",
      "converged SCF energy = -107.499886689299\n",
      "E = -107.49988668929915 Eh\n",
      "converged SCF energy = -107.4999879992\n",
      "converged SCF energy = -107.4999879992\n",
      "E = -107.49998799919956 Eh\n",
      "converged SCF energy = -107.495586402914\n",
      "converged SCF energy = -107.495586402914\n",
      "E = -107.49558640291436 Eh\n",
      "converged SCF energy = -107.475732233152\n",
      "converged SCF energy = -107.475732233152\n",
      "E = -107.4757322331524 Eh\n",
      "converged SCF energy = -107.445164146148\n",
      "converged SCF energy = -107.445164146148\n",
      "E = -107.4451641461476 Eh\n",
      "converged SCF energy = -107.407355286627\n",
      "converged SCF energy = -107.407355286627\n",
      "E = -107.40735528662664 Eh\n",
      "converged SCF energy = -107.364832439239\n",
      "converged SCF energy = -107.364832439239\n",
      "E = -107.36483243923891 Eh\n",
      "converged SCF energy = -107.31942346232\n",
      "converged SCF energy = -107.319423462319\n",
      "E = -107.31942346231943 Eh\n",
      "converged SCF energy = -107.272448501206\n",
      "converged SCF energy = -107.272448501206\n",
      "E = -107.27244850120607 Eh\n"
     ]
    }
   ],
   "source": [
    "#Run HF\n",
    "HF_PES = obtain_PES('n2', bond_lengths, basis,  method='hf')"
   ]
  },
  {
   "cell_type": "code",
   "execution_count": 25,
   "metadata": {},
   "outputs": [
    {
     "name": "stdout",
     "output_type": "stream",
     "text": [
      "converged SCF energy = -107.419532451682\n",
      "E(CCSD) = -107.5467229244351  E_corr = -0.1271904727529141\n",
      "E = -107.54672292443507 Eh\n",
      "converged SCF energy = -107.44439201994\n",
      "E(CCSD) = -107.5765596109187  E_corr = -0.1321675909789158\n",
      "E = -107.5765596109187 Eh\n",
      "converged SCF energy = -107.463939801382\n",
      "E(CCSD) = -107.6012234804558  E_corr = -0.1372836790737659\n",
      "E = -107.60122348045581 Eh\n",
      "converged SCF energy = -107.478762050245\n",
      "E(CCSD) = -107.6213005619513  E_corr = -0.1425385117067025\n",
      "E = -107.62130056195127 Eh\n",
      "converged SCF energy = -107.489386014866\n",
      "E(CCSD) = -107.6373174734538  E_corr = -0.1479314585873443\n",
      "E = -107.63731747345378 Eh\n",
      "converged SCF energy = -107.496285635961\n",
      "E(CCSD) = -107.6497471873566  E_corr = -0.1534615513951121\n",
      "E = -107.64974718735664 Eh\n",
      "converged SCF energy = -107.499886689299\n",
      "E(CCSD) = -107.6590144349553  E_corr = -0.1591277456561057\n",
      "E = -107.65901443495525 Eh\n",
      "converged SCF energy = -107.4999879992\n",
      "E(CCSD) = -107.6594050161181  E_corr = -0.1594170169184675\n",
      "E = -107.65940501611806 Eh\n",
      "converged SCF energy = -107.495586402914\n",
      "E(CCSD) = -107.6712164307915  E_corr = -0.1756300278771945\n",
      "E = -107.67121643079155 Eh\n",
      "converged SCF energy = -107.475732233152\n",
      "E(CCSD) = -107.668561695513  E_corr = -0.19282946236069\n",
      "E = -107.66856169551303 Eh\n",
      "converged SCF energy = -107.445164146148\n",
      "E(CCSD) = -107.6561731693487  E_corr = -0.2110090232010885\n",
      "E = -107.65617316934869 Eh\n",
      "converged SCF energy = -107.407355286627\n",
      "E(CCSD) = -107.6375573731908  E_corr = -0.2302020865641832\n",
      "E = -107.63755737319084 Eh\n",
      "converged SCF energy = -107.364832439239\n",
      "E(CCSD) = -107.6153412020624  E_corr = -0.2505087628234449\n",
      "E = -107.61534120206237 Eh\n",
      "converged SCF energy = -107.31942346232\n",
      "E(CCSD) = -107.5915544095588  E_corr = -0.2721309472394002\n",
      "E = -107.59155440955882 Eh\n",
      "converged SCF energy = -107.272448501206\n",
      "E(CCSD) = -107.5678592938836  E_corr = -0.2954107926774591\n",
      "E = -107.56785929388359 Eh\n"
     ]
    }
   ],
   "source": [
    "#Run CCSD\n",
    "CCSD_PES = obtain_PES('n2', bond_lengths, basis,  method='ccsd')"
   ]
  },
  {
   "cell_type": "code",
   "execution_count": 26,
   "metadata": {},
   "outputs": [
    {
     "name": "stdout",
     "output_type": "stream",
     "text": [
      "converged SCF energy = -107.419532451682\n",
      "E(RCISD) = -107.5413880040826  E_corr = -0.121855552400516\n",
      "converged SCF energy = -107.444392019977\n",
      "E(RCISD) = -107.5706873719469  E_corr = -0.1262953519699361\n",
      "converged SCF energy = -107.463939801353\n",
      "E(RCISD) = -107.5947691428798  E_corr = -0.1308293415263657\n",
      "converged SCF energy = -107.478762050245\n",
      "E(RCISD) = -107.6142167538112  E_corr = -0.13545470356673\n",
      "converged SCF energy = -107.489386014881\n",
      "E(RCISD) = -107.6295542327213  E_corr = -0.1401682178402681\n",
      "converged SCF energy = -107.496285635953\n",
      "E(RCISD) = -107.6412519740773  E_corr = -0.1449663381245636\n",
      "converged SCF energy = -107.499886689299\n",
      "E(RCISD) = -107.6497319564132  E_corr = -0.1498452671140491\n",
      "converged SCF energy = -107.4999879992\n",
      "E(RCISD) = -107.65008133127  E_corr = -0.1500933320705404\n",
      "converged SCF energy = -107.495586402918\n",
      "E(RCISD) = -107.6594244950633  E_corr = -0.1638380921455522\n",
      "converged SCF energy = -107.475732233166\n",
      "E(RCISD) = -107.6538055243109  E_corr = -0.1780732911450857\n",
      "converged SCF energy = -107.445164146175\n",
      "E(RCISD) = -107.6378846012835  E_corr = -0.1927204551085442\n",
      "converged SCF energy = -107.407355286595\n",
      "E(RCISD) = -107.6150706738596  E_corr = -0.2077153872650009\n",
      "converged SCF energy = -107.364832439216\n",
      "E(RCISD) = -107.5878483542575  E_corr = -0.223015915041947\n",
      "converged SCF energy = -107.319423462307\n",
      "E(RCISD) = -107.5580303726386  E_corr = -0.2386069103312915\n",
      "converged SCF energy = -107.272448501206\n",
      "E(RCISD) = -107.5269498195984  E_corr = -0.2545013183922571\n"
     ]
    }
   ],
   "source": [
    "CISD_PES = get_cisd_pes('n2',bond_lengths)"
   ]
  },
  {
   "cell_type": "code",
   "execution_count": 27,
   "metadata": {},
   "outputs": [
    {
     "data": {
      "text/plain": [
       "<matplotlib.legend.Legend at 0x7faa982bcd30>"
      ]
     },
     "execution_count": 27,
     "metadata": {},
     "output_type": "execute_result"
    },
    {
     "data": {
      "image/png": "[encoded data removed]",
      "text/plain": [
       "<Figure size 432x288 with 1 Axes>"
      ]
     },
     "metadata": {
      "needs_background": "light"
     },
     "output_type": "display_data"
    }
   ],
   "source": [
    "#Plot N2 PESs\n",
    "\n",
    "plt.title('N2, STO-3G')\n",
    "plt.xlabel(r'R ($A^\\circ$)',fontsize=20)\n",
    "plt.ylabel(r'Energy ($E_h$)',fontsize=14)\n",
    "\n",
    "plt.plot(bond_lengths, FCI_PES, label='FCI')\n",
    "plt.scatter(bond_lengths, HF_PES, label='HF', color='orange')\n",
    "plt.scatter(bond_lengths, CCSD_PES, label='CCSD', color='purple')\n",
    "plt.scatter(bond_lengths, CISD_PES, label='CISD', color='green', marker='x')\n",
    "plt.legend(loc = 'upper center')"
   ]
  },
  {
   "cell_type": "markdown",
   "metadata": {},
   "source": [
    "$H_4$"
   ]
  },
  {
   "cell_type": "code",
   "execution_count": 3,
   "metadata": {},
   "outputs": [],
   "source": [
    "bond_angles = np.linspace(15.0,40.0,15)"
   ]
  },
  {
   "cell_type": "code",
   "execution_count": 4,
   "metadata": {},
   "outputs": [
    {
     "name": "stdout",
     "output_type": "stream",
     "text": [
      "converged SCF energy = -1.98488287113067\n",
      "E = -2.006871858726831 Eh\n",
      "converged SCF energy = -2.09869359325099\n",
      "E = -2.1234259293315123 Eh\n",
      "converged SCF energy = -2.16974452446787\n",
      "E = -2.1975716022716236 Eh\n",
      "converged SCF energy = -2.21079297346973\n",
      "E = -2.2420835314321894 Eh\n",
      "converged SCF energy = -2.23046557734084\n",
      "E = -2.265606646260297 Eh\n",
      "converged SCF energy = -2.23480486317451\n",
      "E = -2.2742036932991425 Eh\n",
      "converged SCF energy = -2.22812531339812\n",
      "E = -2.2722128688015872 Eh\n",
      "converged SCF energy = -2.21352563644555\n",
      "E = -2.2627613950641274 Eh\n",
      "converged SCF energy = -2.19322972320541\n",
      "E = -2.248106803985646 Eh\n",
      "converged SCF energy = -2.16883474963959\n",
      "E = -2.229884084719856 Eh\n",
      "converged SCF energy = -2.1414981254735\n",
      "E = -2.2092905344194027 Eh\n",
      "converged SCF energy = -2.11207597728273\n",
      "E = -2.1872214195136466 Eh\n",
      "converged SCF energy = -2.0812208880512\n",
      "E = -2.1643646561294316 Eh\n",
      "converged SCF energy = -2.04944679011668\n",
      "E = -2.1412628045773516 Eh\n",
      "converged SCF energy = -2.017169537283\n",
      "E = -2.118351157448565 Eh\n"
     ]
    }
   ],
   "source": [
    "#Run FCI\n",
    "FCI_PES = obtain_PES('h4', bond_angles, basis, method='fci')"
   ]
  },
  {
   "cell_type": "code",
   "execution_count": 5,
   "metadata": {},
   "outputs": [
    {
     "name": "stdout",
     "output_type": "stream",
     "text": [
      "converged SCF energy = -1.98488287113067\n",
      "converged SCF energy = -1.98488287113067\n",
      "E = -1.9848828711306745 Eh\n",
      "converged SCF energy = -2.09869359325099\n"
     ]
    },
    {
     "name": "stderr",
     "output_type": "stream",
     "text": [
      "Overwritten attributes  get_ovlp get_hcore  of <class 'pyscf.scf.hf.RHF'>\n"
     ]
    },
    {
     "name": "stdout",
     "output_type": "stream",
     "text": [
      "converged SCF energy = -2.09869359325099\n",
      "E = -2.098693593250987 Eh\n",
      "converged SCF energy = -2.16974452446787\n",
      "converged SCF energy = -2.16974452446787\n",
      "E = -2.169744524467869 Eh\n",
      "converged SCF energy = -2.21079297346973\n",
      "converged SCF energy = -2.21079297346973\n",
      "E = -2.210792973469727 Eh\n",
      "converged SCF energy = -2.23046557734084\n",
      "converged SCF energy = -2.23046557734084\n",
      "E = -2.2304655773408415 Eh\n",
      "converged SCF energy = -2.23480486317451\n",
      "converged SCF energy = -2.23480486317452\n",
      "E = -2.2348048631745154 Eh\n",
      "converged SCF energy = -2.22812531339812\n",
      "converged SCF energy = -2.22812531339812\n",
      "E = -2.22812531339812 Eh\n",
      "converged SCF energy = -2.21352563644555\n",
      "converged SCF energy = -2.21352563644555\n",
      "E = -2.2135256364455485 Eh\n",
      "converged SCF energy = -2.19322972320541\n",
      "converged SCF energy = -2.19322972320541\n",
      "E = -2.1932297232054054 Eh\n",
      "converged SCF energy = -2.16883474963959\n",
      "converged SCF energy = -2.16883474963959\n",
      "E = -2.168834749639588 Eh\n",
      "converged SCF energy = -2.1414981254735\n",
      "converged SCF energy = -2.1414981254735\n",
      "E = -2.141498125473497 Eh\n",
      "converged SCF energy = -2.11207597728273\n",
      "converged SCF energy = -2.11207597728273\n",
      "E = -2.1120759772827298 Eh\n",
      "converged SCF energy = -2.0812208880512\n",
      "converged SCF energy = -2.0812208880512\n",
      "E = -2.0812208880512015 Eh\n",
      "converged SCF energy = -2.04944679011668\n",
      "converged SCF energy = -2.04944679011668\n",
      "E = -2.049446790116678 Eh\n",
      "converged SCF energy = -2.017169537283\n",
      "converged SCF energy = -2.017169537283\n",
      "E = -2.017169537283003 Eh\n"
     ]
    }
   ],
   "source": [
    "#Run HF\n",
    "HF_PES = obtain_PES('h4', bond_angles, basis,  method='hf')"
   ]
  },
  {
   "cell_type": "code",
   "execution_count": 6,
   "metadata": {},
   "outputs": [
    {
     "name": "stdout",
     "output_type": "stream",
     "text": [
      "converged SCF energy = -1.98488287113067\n",
      "E(CCSD) = -2.006871841316002  E_corr = -0.02198897018532968\n",
      "E = -2.0068718413160025 Eh\n",
      "converged SCF energy = -2.09869359325099\n",
      "E(CCSD) = -2.123425898104841  E_corr = -0.02473230485385378\n",
      "E = -2.123425898104841 Eh\n",
      "converged SCF energy = -2.16974452446787\n",
      "E(CCSD) = -2.197571547363218  E_corr = -0.0278270228953489\n",
      "E = -2.197571547363218 Eh\n",
      "converged SCF energy = -2.21079297346973\n",
      "E(CCSD) = -2.242083473777973  E_corr = -0.0312905003082463\n",
      "E = -2.2420834737779733 Eh\n",
      "converged SCF energy = -2.23046557734084\n",
      "E(CCSD) = -2.26560654896613  E_corr = -0.03514097162528882\n",
      "E = -2.2656065489661303 Eh\n",
      "converged SCF energy = -2.23480486317451\n",
      "E(CCSD) = -2.274203600315103  E_corr = -0.03939873714058855\n",
      "E = -2.274203600315103 Eh\n",
      "converged SCF energy = -2.22812531339812\n",
      "E(CCSD) = -2.272212799016382  E_corr = -0.04408748561826143\n",
      "E = -2.272212799016382 Eh\n",
      "converged SCF energy = -2.21352563644555\n",
      "E(CCSD) = -2.262761351687927  E_corr = -0.04923571524238162\n",
      "E = -2.2627613516879275 Eh\n",
      "converged SCF energy = -2.19322972320541\n",
      "E(CCSD) = -2.248106841323006  E_corr = -0.05487711811760029\n",
      "E = -2.248106841323006 Eh\n",
      "converged SCF energy = -2.16883474963959\n",
      "E(CCSD) = -2.229884003637216  E_corr = -0.06104925399762773\n",
      "E = -2.229884003637216 Eh\n",
      "converged SCF energy = -2.1414981254735\n",
      "E(CCSD) = -2.209290400059158  E_corr = -0.06779227458566171\n",
      "E = -2.2092904000591576 Eh\n",
      "converged SCF energy = -2.11207597728273\n",
      "E(CCSD) = -2.187221602022472  E_corr = -0.07514562473974321\n",
      "E = -2.187221602022472 Eh\n",
      "converged SCF energy = -2.0812208880512\n",
      "E(CCSD) = -2.164364341704442  E_corr = -0.08314345365323828\n",
      "E = -2.1643643417044416 Eh\n",
      "converged SCF energy = -2.04944679011668\n",
      "E(CCSD) = -2.141262343200663  E_corr = -0.09181555308398463\n",
      "E = -2.1412623432006628 Eh\n",
      "converged SCF energy = -2.017169537283\n",
      "E(CCSD) = -2.118350500324421  E_corr = -0.1011809630414179\n",
      "E = -2.118350500324421 Eh\n"
     ]
    }
   ],
   "source": [
    "#Run CCSD\n",
    "CCSD_PES = obtain_PES('h4', bond_angles, basis,  method='ccsd')"
   ]
  },
  {
   "cell_type": "code",
   "execution_count": 9,
   "metadata": {},
   "outputs": [
    {
     "name": "stdout",
     "output_type": "stream",
     "text": [
      "converged SCF energy = -1.98488287101752\n",
      "E(RCISD) = -2.006777575028098  E_corr = -0.02189470401057808\n",
      "converged SCF energy = -2.09869359316515\n",
      "E(RCISD) = -2.123295978229399  E_corr = -0.02460238506424894\n",
      "converged SCF energy = -2.16974452442685\n",
      "E(RCISD) = -2.197392639407383  E_corr = -0.02764811498053796\n",
      "converged SCF energy = -2.21079297347614\n",
      "E(RCISD) = -2.241837914860919  E_corr = -0.03104494138478025\n",
      "converged SCF energy = -2.23046557734118\n",
      "E(RCISD) = -2.265271339575866  E_corr = -0.03480576223468896\n",
      "converged SCF energy = -2.2348048631729\n",
      "E(RCISD) = -2.27374895155391  E_corr = -0.0389440883810115\n",
      "converged SCF energy = -2.22812531339138\n",
      "E(RCISD) = -2.27160063473813  E_corr = -0.04347532134675275\n",
      "converged SCF energy = -2.2135256364706\n",
      "E(RCISD) = -2.261943325425842  E_corr = -0.04841768895524369\n",
      "converged SCF energy = -2.19322972324312\n",
      "E(RCISD) = -2.2470218674471  E_corr = -0.05379214420397693\n",
      "converged SCF energy = -2.16883474959223\n",
      "E(RCISD) = -2.228455729317494  E_corr = -0.05962097972526213\n",
      "converged SCF energy = -2.14149812547769\n",
      "E(RCISD) = -2.20742350376898  E_corr = -0.06592537829128819\n",
      "converged SCF energy = -2.11207597726885\n",
      "E(RCISD) = -2.184798389912306  E_corr = -0.0727224126434611\n",
      "converged SCF energy = -2.08122088806398\n",
      "E(RCISD) = -2.161242961765391  E_corr = -0.08002207370141443\n",
      "converged SCF energy = -2.04944679006926\n",
      "E(RCISD) = -2.137271595411383  E_corr = -0.0878248053421222\n",
      "converged SCF energy = -2.01716953728299\n",
      "E(RCISD) = -2.113289387759864  E_corr = -0.09611985047687649\n"
     ]
    }
   ],
   "source": [
    "CISD_PES = get_cisd_pes('h4',bond_angles)"
   ]
  },
  {
   "cell_type": "code",
   "execution_count": 11,
   "metadata": {},
   "outputs": [
    {
     "data": {
      "text/plain": [
       "<matplotlib.legend.Legend at 0x7f651ddd7f70>"
      ]
     },
     "execution_count": 11,
     "metadata": {},
     "output_type": "execute_result"
    },
    {
     "data": {
      "image/png": "[encoded data removed]",
      "text/plain": [
       "<Figure size 432x288 with 1 Axes>"
      ]
     },
     "metadata": {
      "needs_background": "light"
     },
     "output_type": "display_data"
    }
   ],
   "source": [
    "#Plot H4 PESs\n",
    "import matplotlib\n",
    "matplotlib.rcParams['text.usetex'] = True\n",
    "\n",
    "plt.title('H4, STO-3G')\n",
    "plt.xlabel(r'$\\theta$',fontsize=20)\n",
    "plt.ylabel('E, Hartree',fontsize=12)\n",
    "\n",
    "plt.plot(bond_angles, FCI_PES, label='FCI')\n",
    "plt.scatter(bond_angles, HF_PES, label='HF', color='orange')\n",
    "plt.scatter(bond_angles, CCSD_PES, label='CCSD', color='purple')\n",
    "plt.scatter(bond_angles, CISD_PES, label='CISD', color='green', marker='x')\n",
    "plt.legend(loc = 'upper center')"
   ]
  },
  {
   "cell_type": "markdown",
   "metadata": {},
   "source": [
    "$NH_3$\n",
    "\n",
    "$r_0 = 1.008$"
   ]
  },
  {
   "cell_type": "code",
   "execution_count": 34,
   "metadata": {},
   "outputs": [
    {
     "name": "stdout",
     "output_type": "stream",
     "text": [
      "[0.9, 0.918, 0.936, 0.954, 0.972, 0.99, 1.008, 1.009, 1.0434285714285714, 1.0778571428571428, 1.112285714285714, 1.1467142857142856, 1.181142857142857, 1.2155714285714285, 1.25]\n"
     ]
    }
   ],
   "source": [
    "bond_lengths = [x for x in np.linspace(0.9,1.008,7)] \n",
    "bond_lengths += [x for x in np.linspace(1.009,1.25,8)]\n",
    "print(bond_lengths)"
   ]
  },
  {
   "cell_type": "code",
   "execution_count": 35,
   "metadata": {},
   "outputs": [
    {
     "name": "stdout",
     "output_type": "stream",
     "text": [
      "converged SCF energy = -55.3923579267289\n",
      "E = -55.44295420403766 Eh\n",
      "converged SCF energy = -55.4103046515789\n",
      "E = -55.46298296188218 Eh\n",
      "converged SCF energy = -55.424733431716\n",
      "E = -55.479574056694304 Eh\n",
      "converged SCF energy = -55.4359800143823\n",
      "E = -55.493067179721365 Eh\n",
      "converged SCF energy = -55.4443461985276\n",
      "E = -55.50376823950252 Eh\n",
      "converged SCF energy = -55.4501037627585\n",
      "E = -55.51195328404481 Eh\n",
      "converged SCF energy = -55.4534979374945\n",
      "E = -55.51787196628811 Eh\n",
      "converged SCF energy = -55.4536217639898\n",
      "E = -55.51813897924335 Eh\n",
      "converged SCF energy = -55.4541120603298\n",
      "E = -55.523756170106964 Eh\n",
      "converged SCF energy = -55.4481363637607\n",
      "E = -55.52331346511703 Eh\n",
      "converged SCF energy = -55.4368155136002\n",
      "E = -55.51796661534382 Eh\n",
      "converged SCF energy = -55.4210912634012\n",
      "E = -55.50869345609699 Eh\n",
      "converged SCF energy = -55.4017589901499\n",
      "E = -55.49632608316294 Eh\n",
      "converged SCF energy = -55.3794925103696\n",
      "E = -55.48157492642131 Eh\n",
      "converged SCF energy = -55.3548631222389\n",
      "E = -55.46504680697403 Eh\n"
     ]
    }
   ],
   "source": [
    "#Run FCI\n",
    "FCI_PES = obtain_PES('nh3', bond_lengths, basis, method='fci')"
   ]
  },
  {
   "cell_type": "code",
   "execution_count": 36,
   "metadata": {},
   "outputs": [
    {
     "name": "stdout",
     "output_type": "stream",
     "text": [
      "converged SCF energy = -55.3923579267289\n",
      "converged SCF energy = -55.392357926729\n",
      "E = -55.39235792672899 Eh\n",
      "converged SCF energy = -55.4103046515789\n",
      "converged SCF energy = -55.4103046515791\n",
      "E = -55.41030465157906 Eh\n",
      "converged SCF energy = -55.424733431716\n",
      "converged SCF energy = -55.424733431716\n",
      "E = -55.42473343171605 Eh\n",
      "converged SCF energy = -55.4359800143823\n",
      "converged SCF energy = -55.4359800143823\n",
      "E = -55.43598001438234 Eh\n",
      "converged SCF energy = -55.4443461985276\n",
      "converged SCF energy = -55.4443461985276\n",
      "E = -55.444346198527555 Eh\n",
      "converged SCF energy = -55.4501037627585\n",
      "converged SCF energy = -55.4501037627585\n",
      "E = -55.45010376275853 Eh\n",
      "converged SCF energy = -55.4534979374945\n",
      "converged SCF energy = -55.4534979374945\n",
      "E = -55.453497937494475 Eh\n",
      "converged SCF energy = -55.4536217639897\n",
      "converged SCF energy = -55.4536217639898\n",
      "E = -55.453621763989766 Eh\n",
      "converged SCF energy = -55.4541120603298\n",
      "converged SCF energy = -55.4541120603299\n",
      "E = -55.45411206032986 Eh\n",
      "converged SCF energy = -55.4481363637607\n",
      "converged SCF energy = -55.4481363637607\n",
      "E = -55.44813636376065 Eh\n",
      "converged SCF energy = -55.4368155136003\n",
      "converged SCF energy = -55.4368155136003\n",
      "E = -55.43681551360025 Eh\n",
      "converged SCF energy = -55.4210912634012\n",
      "converged SCF energy = -55.4210912634011\n",
      "E = -55.42109126340114 Eh\n",
      "converged SCF energy = -55.4017589901499\n",
      "converged SCF energy = -55.4017589901499\n",
      "E = -55.40175899014993 Eh\n",
      "converged SCF energy = -55.3794925103695\n",
      "converged SCF energy = -55.3794925103696\n",
      "E = -55.379492510369566 Eh\n",
      "converged SCF energy = -55.354863122239\n",
      "converged SCF energy = -55.354863122239\n",
      "E = -55.35486312223895 Eh\n"
     ]
    }
   ],
   "source": [
    "#Run HF\n",
    "HF_PES = obtain_PES('nh3', bond_lengths, basis,  method='hf')"
   ]
  },
  {
   "cell_type": "code",
   "execution_count": 37,
   "metadata": {},
   "outputs": [
    {
     "name": "stdout",
     "output_type": "stream",
     "text": [
      "converged SCF energy = -55.3923579267289\n",
      "E(CCSD) = -55.44283816734221  E_corr = -0.05048024061331514\n",
      "E = -55.44283816734221 Eh\n",
      "converged SCF energy = -55.4103046515789\n",
      "E(CCSD) = -55.4628554786438  E_corr = -0.05255082706491951\n",
      "E = -55.462855478643796 Eh\n",
      "converged SCF energy = -55.424733431716\n",
      "E(CCSD) = -55.47943366501284  E_corr = -0.05470023329682066\n",
      "E = -55.47943366501284 Eh\n",
      "converged SCF energy = -55.4359800143823\n",
      "E(CCSD) = -55.49291225050337  E_corr = -0.05693223612110073\n",
      "E = -55.492912250503366 Eh\n",
      "converged SCF energy = -55.4443461985275\n",
      "E(CCSD) = -55.50359696551067  E_corr = -0.05925076698312424\n",
      "E = -55.50359696551067 Eh\n",
      "converged SCF energy = -55.4501037627585\n",
      "E(CCSD) = -55.51176366959959  E_corr = -0.0616599068410567\n",
      "E = -55.51176366959959 Eh\n",
      "converged SCF energy = -55.4534979374945\n",
      "E(CCSD) = -55.51766181875581  E_corr = -0.06416388126133571\n",
      "E = -55.51766181875581 Eh\n",
      "converged SCF energy = -55.4536217639898\n",
      "E(CCSD) = -55.51792762262778  E_corr = -0.06430585863804315\n",
      "E = -55.51792762262778 Eh\n",
      "converged SCF energy = -55.4541120603298\n",
      "E(CCSD) = -55.52349830448912  E_corr = -0.06938624415929867\n",
      "E = -55.52349830448912 Eh\n",
      "converged SCF energy = -55.4481363637607\n",
      "E(CCSD) = -55.52299887322153  E_corr = -0.0748625094608787\n",
      "E = -55.52299887322153 Eh\n",
      "converged SCF energy = -55.4368155136002\n",
      "E(CCSD) = -55.51758357472122  E_corr = -0.08076806112095572\n",
      "E = -55.51758357472122 Eh\n",
      "converged SCF energy = -55.4210912634012\n",
      "E(CCSD) = -55.50822892683853  E_corr = -0.08713766343738322\n",
      "E = -55.508228926838534 Eh\n",
      "converged SCF energy = -55.4017589901499\n",
      "E(CCSD) = -55.49576593694309  E_corr = -0.09400694679314268\n",
      "E = -55.49576593694309 Eh\n",
      "converged SCF energy = -55.3794925103695\n",
      "E(CCSD) = -55.48090428752858  E_corr = -0.101411777159\n",
      "E = -55.48090428752858 Eh\n",
      "converged SCF energy = -55.3548631222389\n",
      "E(CCSD) = -55.46425051868106  E_corr = -0.1093873964421199\n",
      "E = -55.464250518681055 Eh\n"
     ]
    }
   ],
   "source": [
    "#Run CCSD\n",
    "CCSD_PES = obtain_PES('nh3', bond_lengths, basis,  method='ccsd')"
   ]
  },
  {
   "cell_type": "code",
   "execution_count": 38,
   "metadata": {},
   "outputs": [
    {
     "name": "stdout",
     "output_type": "stream",
     "text": [
      "converged SCF energy = -55.3923579267128\n",
      "E(RCISD) = -55.44212365438828  E_corr = -0.04976572767543549\n",
      "converged SCF energy = -55.4103046515725\n",
      "E(RCISD) = -55.46206039811126  E_corr = -0.05175574653876411\n",
      "converged SCF energy = -55.4247334317112\n",
      "E(RCISD) = -55.47854932619715  E_corr = -0.05381589448593294\n",
      "converged SCF energy = -55.4359800143865\n",
      "E(RCISD) = -55.49192900630698  E_corr = -0.05594899192044153\n",
      "converged SCF energy = -55.4443461985254\n",
      "E(RCISD) = -55.50250410158383  E_corr = -0.05815790305843969\n",
      "converged SCF energy = -55.4501037627538\n",
      "E(RCISD) = -55.51054928248309  E_corr = -0.06044551972928008\n",
      "converged SCF energy = -55.4534979374959\n",
      "E(RCISD) = -55.51631267968058  E_corr = -0.06281474218463873\n",
      "converged SCF energy = -55.4536217639893\n",
      "E(RCISD) = -55.51657058055796  E_corr = -0.0629488165686172\n",
      "converged SCF energy = -55.4541120603316\n",
      "E(RCISD) = -55.52183954716842  E_corr = -0.0677274868368502\n",
      "converged SCF energy = -55.4481363637661\n",
      "E(RCISD) = -55.52097194074523  E_corr = -0.07283557697917031\n",
      "converged SCF energy = -55.4368155136067\n",
      "E(RCISD) = -55.51510726300503  E_corr = -0.07829174939835262\n",
      "converged SCF energy = -55.4210912634022\n",
      "E(RCISD) = -55.50520413213086  E_corr = -0.08411286872865675\n",
      "converged SCF energy = -55.4017589901473\n",
      "E(RCISD) = -55.49207217089448  E_corr = -0.0903131807471782\n",
      "converged SCF energy = -55.3794925103864\n",
      "E(RCISD) = -55.47639590171595  E_corr = -0.09690339132953651\n",
      "converged SCF energy = -55.3548631222464\n",
      "E(RCISD) = -55.45875281272166  E_corr = -0.1038896904752113\n"
     ]
    }
   ],
   "source": [
    "CISD_PES = get_cisd_pes('nh3',bond_lengths)"
   ]
  },
  {
   "cell_type": "code",
   "execution_count": 39,
   "metadata": {},
   "outputs": [
    {
     "data": {
      "text/plain": [
       "<matplotlib.legend.Legend at 0x7faa982ce1c0>"
      ]
     },
     "execution_count": 39,
     "metadata": {},
     "output_type": "execute_result"
    },
    {
     "data": {
      "image/png": "[encoded data removed]",
      "text/plain": [
       "<Figure size 432x288 with 1 Axes>"
      ]
     },
     "metadata": {
      "needs_background": "light"
     },
     "output_type": "display_data"
    }
   ],
   "source": [
    "#Plot NH3 PESs\n",
    "import matplotlib\n",
    "matplotlib.rcParams['text.usetex'] = True\n",
    "\n",
    "plt.title('NH3, STO-3G')\n",
    "plt.xlabel(r'R ($A^\\circ$)',fontsize=20)\n",
    "plt.ylabel(r'Energy ($E_h$)',fontsize=14)\n",
    "\n",
    "plt.plot(bond_lengths, FCI_PES, label='FCI')\n",
    "plt.scatter(bond_lengths, HF_PES, label='HF', color='orange')\n",
    "plt.scatter(bond_lengths, CCSD_PES, label='CCSD', color='purple')\n",
    "plt.scatter(bond_lengths, CISD_PES, label='CISD', color='green', marker='x')\n",
    "plt.legend(loc = 'upper center')"
   ]
  },
  {
   "cell_type": "markdown",
   "metadata": {},
   "source": [
    "# Checking Size Consistency"
   ]
  },
  {
   "cell_type": "code",
   "execution_count": 14,
   "metadata": {},
   "outputs": [
    {
     "name": "stdout",
     "output_type": "stream",
     "text": [
      "converged SCF energy = -1.1167061372361\n",
      "converged SCF energy = -1.11670613723611\n",
      "E = -1.1167061372361051 Eh\n",
      "converged SCF energy = -1.1167061372361\n",
      "converged SCF energy = -1.11670611454263\n",
      "converged SCF energy = -1.11670609184885\n",
      "converged SCF energy = -1.11670606915477\n",
      "converged SCF energy = -1.11670604646039\n",
      "converged SCF energy = -1.1167060237657\n",
      "converged SCF energy = -1.11670600107071\n",
      "converged SCF energy = -1.11670597837541\n",
      "converged SCF energy = -1.11670595567981\n",
      "converged SCF energy = -1.11670593298391\n",
      "Could not converge\n",
      "converged SCF energy = -1.11670613723611\n",
      "E(RCISD) = -1.13727440552944  E_corr = -0.02056826829333391\n",
      "converged SCF energy = -1.1167061372361\n",
      "E(CCSD) = -1.137274570976643  E_corr = -0.02056843374053732\n",
      "E = -1.1372745709766425 Eh\n",
      "converged SCF energy = -2.23341227446986\n",
      "converged SCF energy = -2.23341227446986\n",
      "E = -2.2334122744698552 Eh\n",
      "converged SCF energy = -2.09846837171682\n",
      "E(RCISD) = -2.13925245266723  E_corr = -0.04078408095040715\n",
      "converged SCF energy = -2.23341227446986\n",
      "E(CCSD) = -2.274549066174339  E_corr = -0.04113679170448305\n",
      "E = -2.274549066174339 Eh\n"
     ]
    }
   ],
   "source": [
    "r0 = 0.741\n",
    "hf_PES = obtain_PES('h2', [r0], basis, method='hf')\n",
    "cisd_PES = obtain_PES('h2', [r0], basis, method='cisd')\n",
    "cisd_PES = get_cisd_pes('h2',[r0])\n",
    "ccsd_PES = obtain_PES('h2', [r0], basis, method='ccsd')\n",
    "\n",
    "hf_PES2 = obtain_PES('h2x2', [100], basis, method='hf')\n",
    "cisd_PES2 = get_cisd_pes('h2x2',[r0])\n",
    "ccsd_PES2 = obtain_PES('h2x2', [100], basis, method='ccsd')"
   ]
  },
  {
   "cell_type": "code",
   "execution_count": 23,
   "metadata": {},
   "outputs": [
    {
     "data": {
      "text/plain": [
       "<matplotlib.legend.Legend at 0x7f651d7bfd90>"
      ]
     },
     "execution_count": 23,
     "metadata": {},
     "output_type": "execute_result"
    },
    {
     "data": {
      "image/png": "[encoded data removed]",
      "text/plain": [
       "<Figure size 432x288 with 1 Axes>"
      ]
     },
     "metadata": {
      "needs_background": "light"
     },
     "output_type": "display_data"
    }
   ],
   "source": [
    "import matplotlib\n",
    "matplotlib.rcParams['text.usetex'] = True\n",
    "\n",
    "plt.title(r'$H_2$ -- $H_2$ (STO-3G)')\n",
    "plt.xlabel(r'Method',fontsize=20)\n",
    "plt.ylabel(r'Energy ($E_h$)',fontsize=14)\n",
    "\n",
    "plt.plot([1], hf_PES*2, 'ro', label=r'HF $E_A$ x 2')\n",
    "plt.plot([1], hf_PES2, 'rx', label=r'HF $E_A$ + $E_B$')\n",
    "\n",
    "plt.plot([2], cisd_PES*2, 'go', label=r'CISD $E_A$ x 2')\n",
    "plt.plot([2], cisd_PES2, 'gx', label=r'CISD $E_A$ + $E_B$')\n",
    "\n",
    "plt.plot([3], ccsd_PES*2, 'bo', label=r'CCSD $E_A$ x 2')\n",
    "plt.plot([3], ccsd_PES2, 'bx', label=r'CCSD $E_A$ + $E_B$')\n",
    "\n",
    "plt.xticks([1, 2, 3], ['HF', 'CISD', 'CCSD'])\n",
    "plt.legend(loc = 'upper right')"
   ]
  },
  {
   "cell_type": "markdown",
   "metadata": {},
   "source": [
    "# Exploring electron correlation and basis dependence"
   ]
  },
  {
   "cell_type": "code",
   "execution_count": 46,
   "metadata": {
    "scrolled": true
   },
   "outputs": [
    {
     "name": "stdout",
     "output_type": "stream",
     "text": [
      "\n",
      "Basis:  sto3g\n",
      "converged SCF energy = -1.11670613723611\n",
      "E(RCISD) = -1.13727440552944  E_corr = -0.02056826829333391\n",
      "E(CCSD) = -1.137274570976645  E_corr = -0.02056843374053884\n",
      "CCSD(T) correction = -1.65863679163582e-49\n",
      "\n",
      "Basis:  ccpvdz\n",
      "converged SCF energy = -1.12871101091532\n",
      "E(RCISD) = -1.163402961063555  E_corr = -0.03469195014823102\n",
      "E(CCSD) = -1.163402967174229  E_corr = -0.03469195625890499\n",
      "CCSD(T) correction = -2.05836407587941e-19\n",
      "\n",
      "Basis:  ccpvtz\n",
      "converged SCF energy = -1.13295913881568\n",
      "E(RCISD) = -1.172334937115363  E_corr = -0.03937579829968096\n",
      "E(CCSD) = -1.172334901959213  E_corr = -0.03937576314353191\n",
      "CCSD(T) correction = -1.70522655324425e-21\n",
      "\n",
      "Basis:  ccpvqz\n",
      "converged SCF energy = -1.1334575087222\n",
      "E(RCISD) = -1.173795980839229  E_corr = -0.04033847211702902\n",
      "E(CCSD) = -1.1737959794066  E_corr = -0.04033847068439989\n",
      "CCSD(T) correction = -1.29193190977219e-19\n",
      "\n",
      "Basis:  ccpv5z\n",
      "converged SCF energy = -1.13360662616692\n",
      "E(RCISD) = -1.174222792990705  E_corr = -0.04061616682378977\n",
      "E(CCSD) = -1.174222790852411  E_corr = -0.04061616468549561\n",
      "CCSD(T) correction = 2.6095663414021e-20\n"
     ]
    }
   ],
   "source": [
    "import pyscf\n",
    "from pyscf import gto\n",
    "from pyscf import cc\n",
    "    \n",
    "methods = ['hf','cisd','ccsd','ccsd(t)','ccsdt']\n",
    "basis = ['sto3g','ccpvdz','ccpvtz','ccpvqz','ccpv5z']\n",
    "energies = np.zeros([5,5])      \n",
    "         \n",
    "for i in range(len(basis)):\n",
    "#for i in range(1):\n",
    "    mol = gto.Mole()\n",
    "    mol.atom = get_molecular_data('h2', 0.741, xyz_format=False)\n",
    "    mol.basis = basis[i]\n",
    "    mol.build()\n",
    "    \n",
    "    print('\\nBasis: ',basis[i])\n",
    "    mf = mol.HF().run()\n",
    "    energies[0,i] = mf.e_tot\n",
    "    \n",
    "    mycc = mf.CISD().run()\n",
    "    energies[1,i] = mycc.e_tot\n",
    "    \n",
    "    ccsd_h2 = cc.CCSD(mf)\n",
    "    rv = ccsd_h2.kernel()    \n",
    "    energies[2,i] = rv[0] + energies[0,i]\n",
    "    energies[3,i] = energies[2,i] + ccsd_h2.ccsd_t()\n",
    "       \n",
    "    "
   ]
  },
  {
   "cell_type": "code",
   "execution_count": 47,
   "metadata": {},
   "outputs": [
    {
     "data": {
      "text/plain": [
       "array([[-1.11670614, -1.12871101, -1.13295914, -1.13345751, -1.13360663],\n",
       "       [-1.13727441, -1.16340296, -1.17233494, -1.17379598, -1.17422279],\n",
       "       [-1.13727457, -1.16340297, -1.1723349 , -1.17379598, -1.17422279],\n",
       "       [-1.13727457, -1.16340297, -1.1723349 , -1.17379598, -1.17422279],\n",
       "       [ 0.        ,  0.        ,  0.        ,  0.        ,  0.        ]])"
      ]
     },
     "execution_count": 47,
     "metadata": {},
     "output_type": "execute_result"
    }
   ],
   "source": [
    "energies"
   ]
  },
  {
   "cell_type": "code",
   "execution_count": 57,
   "metadata": {},
   "outputs": [
    {
     "data": {
      "text/plain": [
       "<matplotlib.legend.Legend at 0x7f6517a6b190>"
      ]
     },
     "execution_count": 57,
     "metadata": {},
     "output_type": "execute_result"
    },
    {
     "data": {
      "image/png": "[encoded data removed]",
      "text/plain": [
       "<Figure size 432x288 with 1 Axes>"
      ]
     },
     "metadata": {
      "needs_background": "light"
     },
     "output_type": "display_data"
    }
   ],
   "source": [
    "import matplotlib\n",
    "matplotlib.rcParams['text.usetex'] = True\n",
    "\n",
    "\n",
    "plt.title(r'$H_2$')\n",
    "plt.xlabel(r'Method',fontsize=20)\n",
    "plt.ylabel(r'Energy ($E_h$)',fontsize=14)\n",
    "\n",
    "xvals = [1,2,3,4,5]\n",
    "plt.plot(xvals, energies[0], 'ro', label='HF')\n",
    "plt.plot(xvals, energies[1], 'gx', label='CISD')\n",
    "plt.plot(xvals, energies[2], 'bs', label='CCSD')\n",
    "plt.plot(xvals, energies[3], 'kd', label='CCSD(T)')\n",
    "\n",
    "#Experimental data\n",
    "#at r_0 = 0.741 A bindign energy is 4.74 eV\n",
    "E_exp = (-13.6*2 - 4.74)*0.0367493\n",
    "plt.plot(6, E_exp, 'm+', label='Experiment')\n",
    "plt.xticks(xvals + [6], basis + ['expmt'])\n",
    "\n",
    "plt.legend(loc = 'upper right')"
   ]
  },
  {
   "cell_type": "code",
   "execution_count": 58,
   "metadata": {},
   "outputs": [
    {
     "data": {
      "text/plain": [
       "-0.0004501480000000946"
      ]
     },
     "execution_count": 58,
     "metadata": {},
     "output_type": "execute_result"
    }
   ],
   "source": [
    "-1.17422279 - E_exp"
   ]
  },
  {
   "cell_type": "code",
   "execution_count": 59,
   "metadata": {},
   "outputs": [
    {
     "data": {
      "text/plain": [
       "-1.1737726419999999"
      ]
     },
     "execution_count": 59,
     "metadata": {},
     "output_type": "execute_result"
    }
   ],
   "source": [
    "E_exp"
   ]
  },
  {
   "cell_type": "code",
   "execution_count": null,
   "metadata": {},
   "outputs": [],
   "source": []
  }
 ],
 "metadata": {
  "kernelspec": {
   "display_name": "tequila",
   "language": "python",
   "name": "tequila"
  },
  "language_info": {
   "codemirror_mode": {
    "name": "ipython",
    "version": 3
   },
   "file_extension": ".py",
   "mimetype": "text/x-python",
   "name": "python",
   "nbconvert_exporter": "python",
   "pygments_lexer": "ipython3",
   "version": "3.9.5"
  }
 },
 "nbformat": 4,
 "nbformat_minor": 2
}
