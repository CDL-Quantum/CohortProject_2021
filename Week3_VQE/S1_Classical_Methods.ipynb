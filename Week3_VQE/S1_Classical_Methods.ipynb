{
 "cells": [
  {
   "cell_type": "markdown",
   "metadata": {},
   "source": [
    "# Review of classical electronic structure methods \n",
    "\n",
    "In order to assess the performance of quantum computing algorithms in addressing the electronic structure problem, we will briefly review a few commonly employed classical electronic structure methods of varying level of approximation. \n",
    "\n",
    "## Hartree-Fock\n",
    "\n",
    "The Hartree-Fock (HF) method employs a **mean-field approximation**, where Coulomb correlation of electrons is neglected. The HF wavefunction is hence restricted to the form of a single Slater determinant, for which the optimal form may be acquired by an optimization of the underlying single particle basis (orbitals). Once the optimal HF orbitals have been found, the HF state may be written as \n",
    "\n",
    "$$ | \\text{HF} \\rangle = \\prod_{p \\in \\text{occ}} \\hat a^\\dagger_p | \\text{vac} \\rangle $$\n",
    "\n",
    "where $\\hat a^\\dagger_p$ creates an electron in the $p^{\\rm{th}}$ optimized HF spin orbital, and  $| \\text{vac} \\rangle$ is the vacuum state (all spin-orbitals unoccupied). Due to the restriction to a single Slater determinant, the HF energy may be obtained very efficiently and can be applied to very large molecules, however it becomes qualitatively incorrect when **electronic correlations** become sufficiently strong. The HF wavefunction is often used as a starting point in more accurate treatments of electronic correlation. \n",
    "\n",
    "## Coupled cluster\n",
    "\n",
    "The Coupled cluster (CC) method introduces electronic correlation to the wavefunction ansatz by operating on the HF reference state with the exponential of excitation operators\n",
    "\n",
    "$$|\\text{CC} \\rangle = e^{\\hat T} | \\text{HF}\\rangle, \\quad \\hat T = \\hat T_1 + \\hat T_2 + ...$$\n",
    "\n",
    "where $\\hat T_1 = \\sum_{ia} t^{a}_i \\hat a^\\dagger_a \\hat a_i$ are referred to as 'singles', $\\hat T_2 = \\sum_{ijab} t^{ab}_{ij} \\hat a^\\dagger_a \\hat a^\\dagger_b \\hat a_i \\hat a_j$ as 'doubles', etc. When the excitation rank is truncated to only singles (S) and doubles (D), $\\hat T = \\hat T_1 + \\hat T_2$, the corresponding ansatz is referred to as CCSD. Since the number of possible single and double excitations for a system of $N$ electrons in $M$ orbitals is polynomial in $M$, one can efficiently solve a system of equations to obtain the optimized CCSD amplitudes. CCSD often gives accurate energies and can be applied to modestly sized chemical systems. However, due to its implementation, it can **violate the variational principle** and give energies lower than the ground state.\n",
    "\n",
    "## Full Configuration Interaction\n",
    "The full configuration interaction (FCI) method yields the **exact ground state energy** within a given basis set. The FCI wavefunction is written as a linear combination of all possible $N$-particle Slater determinants over the orbital basis\n",
    "$$|\\text{FCI} \\rangle =  \\left( \\sum_{ia} C^{a}_i \\hat a^\\dagger_a \\hat a_i + \\sum_{ijab} C^{ab}_{ij} \\hat a^\\dagger_a \\hat a^\\dagger_b \\hat a_i \\hat a_j + ...  \\right) | \\text{HF} \\rangle $$\n",
    "where the sum includes up to $N$-electron excitations, and hence there are an exponential number of coefficients to optimize in $| \\text{FCI} \\rangle$. Due to its **exponential complexity**, FCI is often reserved for only the smallest chemical systems. However, it serves as a useful result to compare to when assessing tractable electronic structure methods."
   ]
  },
  {
   "cell_type": "markdown",
   "metadata": {},
   "source": [
    "# Benchmarking for electronic PESs in minimal basis (STO-3G)\n",
    "\n",
    "We will apply HF, CCSD, and FCI to obtaining the PESs for a few molecular dissociation processes in minimal (STO-3G) basis."
   ]
  },
  {
   "cell_type": "code",
   "execution_count": 3,
   "metadata": {},
   "outputs": [],
   "source": [
    "import numpy as np\n",
    "import matplotlib.pyplot as plt\n",
    "from utility import get_molecular_data, obtain_PES\n",
    "\n",
    "basis = 'sto-3g'"
   ]
  },
  {
   "cell_type": "code",
   "execution_count": 4,
   "metadata": {},
   "outputs": [],
   "source": [
    "from tequila import QubitHamiltonian, Variable, quantumchemistry, gates, PauliString, minimize"
   ]
  },
  {
   "cell_type": "code",
   "execution_count": 5,
   "metadata": {},
   "outputs": [],
   "source": [
    "from timeit import default_timer as timer"
   ]
  },
  {
   "cell_type": "code",
   "execution_count": 6,
   "metadata": {},
   "outputs": [],
   "source": [
    "bond_lengths = np.linspace(0.2,2.6,15)"
   ]
  },
  {
   "cell_type": "code",
   "execution_count": 7,
   "metadata": {},
   "outputs": [
    {
     "data": {
      "text/plain": [
       "array([0.2       , 0.37142857, 0.54285714, 0.71428571, 0.88571429,\n",
       "       1.05714286, 1.22857143, 1.4       , 1.57142857, 1.74285714,\n",
       "       1.91428571, 2.08571429, 2.25714286, 2.42857143, 2.6       ])"
      ]
     },
     "execution_count": 7,
     "metadata": {},
     "output_type": "execute_result"
    }
   ],
   "source": [
    "bond_lengths"
   ]
  },
  {
   "cell_type": "code",
   "execution_count": 8,
   "metadata": {},
   "outputs": [
    {
     "data": {
      "text/plain": [
       "<function utility.get_molecular_data(mol, geometry, xyz_format=False)>"
      ]
     },
     "execution_count": 8,
     "metadata": {},
     "output_type": "execute_result"
    }
   ],
   "source": [
    "get_molecular_data"
   ]
  },
  {
   "cell_type": "code",
   "execution_count": 9,
   "metadata": {},
   "outputs": [
    {
     "data": {
      "text/plain": [
       "<function utility.obtain_PES(molecule, bond_lengths, basis, method)>"
      ]
     },
     "execution_count": 9,
     "metadata": {},
     "output_type": "execute_result"
    }
   ],
   "source": [
    "obtain_PES"
   ]
  },
  {
   "cell_type": "code",
   "execution_count": 10,
   "metadata": {},
   "outputs": [
    {
     "data": {
      "text/plain": [
       "'H 0.0000000000 0.0000000000 0.0000000000\\nH 0.0000000000 0.0000000000 2.6000000000\\n'"
      ]
     },
     "execution_count": 10,
     "metadata": {},
     "output_type": "execute_result"
    }
   ],
   "source": [
    "h2_mol_data = get_molecular_data('h2', bond_lengths[-1], xyz_format=True)\n",
    "h2_mol_data"
   ]
  },
  {
   "cell_type": "code",
   "execution_count": 11,
   "metadata": {},
   "outputs": [
    {
     "data": {
      "text/plain": [
       "<tequila.quantumchemistry.psi4_interface.QuantumChemistryPsi4 at 0x159577b50>"
      ]
     },
     "execution_count": 11,
     "metadata": {},
     "output_type": "execute_result"
    }
   ],
   "source": [
    "h2_mol_data_1 = quantumchemistry.Molecule(h2_mol_data, basis)\n",
    "h2_mol_data_1"
   ]
  },
  {
   "cell_type": "code",
   "execution_count": 12,
   "metadata": {},
   "outputs": [
    {
     "data": {
      "text/plain": [
       "-0.9351960308386074"
      ]
     },
     "execution_count": 12,
     "metadata": {},
     "output_type": "execute_result"
    }
   ],
   "source": [
    "h2_mol_data_1.compute_energy('fci')"
   ]
  },
  {
   "cell_type": "markdown",
   "metadata": {},
   "source": [
    "## H<sub>2</sub>"
   ]
  },
  {
   "cell_type": "code",
   "execution_count": 25,
   "metadata": {},
   "outputs": [],
   "source": [
    "bond_lengths = np.linspace(0.2,2.6,15)"
   ]
  },
  {
   "cell_type": "code",
   "execution_count": 26,
   "metadata": {},
   "outputs": [
    {
     "name": "stdout",
     "output_type": "stream",
     "text": [
      "E = 0.15748213365503494 Eh\n",
      "E = -0.8488991062024307 Eh\n",
      "E = -1.088228184406917 Eh\n",
      "E = -1.1369289594005694 Eh\n",
      "E = -1.122957052798233 Eh\n",
      "E = -1.0887645364963472 Eh\n",
      "E = -1.050442037218747 Eh\n",
      "E = -1.0154681711140934 Eh\n",
      "E = -0.9873930555210578 Eh\n",
      "E = -0.9670259116093078 Eh\n",
      "E = -0.9534242388722525 Eh\n",
      "E = -0.9449089870950522 Eh\n",
      "E = -0.9398197912188271 Eh\n",
      "E = -0.9368706035283363 Eh\n",
      "E = -0.9351960308386074 Eh\n"
     ]
    }
   ],
   "source": [
    "#Run FCI\n",
    "start = timer()\n",
    "FCI_PES = obtain_PES('h2', bond_lengths, basis, method='fci')\n",
    "end = timer()"
   ]
  },
  {
   "cell_type": "code",
   "execution_count": 27,
   "metadata": {},
   "outputs": [
    {
     "data": {
      "text/plain": [
       "11.878790741999978"
      ]
     },
     "execution_count": 27,
     "metadata": {},
     "output_type": "execute_result"
    }
   ],
   "source": [
    "timefci_h2 = end - start\n",
    "timefci_h2"
   ]
  },
  {
   "cell_type": "code",
   "execution_count": 28,
   "metadata": {},
   "outputs": [
    {
     "name": "stdout",
     "output_type": "stream",
     "text": [
      "E = 0.16412595411336484 Eh\n",
      "E = -0.8397057843499818 Eh\n",
      "E = -1.0748879317191165 Eh\n",
      "E = -1.1175258568986952 Eh\n",
      "E = -1.0951595815644866 Eh\n",
      "E = -1.0495617842752125 Eh\n",
      "E = -0.9960202460350606 Eh\n",
      "E = -0.9415474099692257 Eh\n",
      "E = -0.8899751417971336 Eh\n",
      "E = -0.8432718025417772 Eh\n",
      "E = -0.8022429584004084 Eh\n",
      "E = -0.7669825247360017 Eh\n",
      "E = -0.7371545448988266 Eh\n",
      "E = -0.7121961606082444 Eh\n",
      "E = -0.6914700512624808 Eh\n"
     ]
    }
   ],
   "source": [
    "#Run HF\n",
    "start = timer()\n",
    "HF_PES = obtain_PES('h2', bond_lengths, basis,  method='hf')\n",
    "end = timer()"
   ]
  },
  {
   "cell_type": "code",
   "execution_count": 29,
   "metadata": {},
   "outputs": [
    {
     "data": {
      "text/plain": [
       "27.354490383999973"
      ]
     },
     "execution_count": 29,
     "metadata": {},
     "output_type": "execute_result"
    }
   ],
   "source": [
    "timehf_h2 = end - start\n",
    "timehf_h2"
   ]
  },
  {
   "cell_type": "code",
   "execution_count": 30,
   "metadata": {},
   "outputs": [
    {
     "name": "stdout",
     "output_type": "stream",
     "text": [
      "E = 0.15748412056436448 Eh\n",
      "E = -0.8488985094851165 Eh\n",
      "E = -1.088231017430786 Eh\n",
      "E = -1.1369333351418645 Eh\n",
      "E = -1.122959387805977 Eh\n",
      "E = -1.0887606905920535 Eh\n",
      "E = -1.0504260893271251 Eh\n",
      "E = -1.015441558375805 Eh\n",
      "E = -0.9873692849076257 Eh\n",
      "E = -0.9670168314563383 Eh\n",
      "E = -0.9534301558257338 Eh\n",
      "E = -0.9449225613845083 Eh\n",
      "E = -0.9398332746700112 Eh\n",
      "E = -0.936879398954273 Eh\n",
      "E = -0.9351989265367051 Eh\n"
     ]
    }
   ],
   "source": [
    "#Run CCSD\n",
    "start = timer()\n",
    "CCSD_PES = obtain_PES('h2', bond_lengths, basis,  method='ccsd')\n",
    "end = timer()"
   ]
  },
  {
   "cell_type": "code",
   "execution_count": 31,
   "metadata": {},
   "outputs": [
    {
     "data": {
      "text/plain": [
       "22.884690422999995"
      ]
     },
     "execution_count": 31,
     "metadata": {},
     "output_type": "execute_result"
    }
   ],
   "source": [
    "timeccsd_h2 = end - start\n",
    "timeccsd_h2"
   ]
  },
  {
   "cell_type": "code",
   "execution_count": 32,
   "metadata": {},
   "outputs": [
    {
     "name": "stdout",
     "output_type": "stream",
     "text": [
      "E = 0.15748213365503494 Eh\n",
      "E = -0.8488991062024307 Eh\n",
      "E = -1.0882281844069175 Eh\n",
      "E = -1.1369289594005698 Eh\n",
      "E = -1.122957052798233 Eh\n",
      "E = -1.0887645364963472 Eh\n",
      "E = -1.050442037218747 Eh\n",
      "E = -1.015468171114093 Eh\n",
      "E = -0.9873930555210574 Eh\n",
      "E = -0.9670259116093076 Eh\n",
      "E = -0.9534242388722525 Eh\n",
      "E = -0.9449089870950522 Eh\n",
      "E = -0.9398197912188271 Eh\n",
      "E = -0.9368706035283365 Eh\n",
      "E = -0.9351960308386076 Eh\n"
     ]
    }
   ],
   "source": [
    "#Run CISD\n",
    "start = timer()\n",
    "CISD_PES = obtain_PES('h2', bond_lengths, basis,  method='cisd')\n",
    "end = timer()"
   ]
  },
  {
   "cell_type": "code",
   "execution_count": 33,
   "metadata": {},
   "outputs": [
    {
     "data": {
      "text/plain": [
       "13.672626132000005"
      ]
     },
     "execution_count": 33,
     "metadata": {},
     "output_type": "execute_result"
    }
   ],
   "source": [
    "timecisd_h2 = end - start\n",
    "timecisd_h2"
   ]
  },
  {
   "cell_type": "code",
   "execution_count": 34,
   "metadata": {},
   "outputs": [
    {
     "name": "stdout",
     "output_type": "stream",
     "text": [
      "0\n",
      "not equal\n",
      "difference: 1.9869093295377116\n",
      "1\n",
      "not equal\n",
      "difference: 0.5967173142273907\n",
      "2\n",
      "not equal\n",
      "difference: -2.8330238686091747\n",
      "3\n",
      "not equal\n",
      "difference: -4.375741294637692\n",
      "4\n",
      "not equal\n",
      "difference: -2.3350077438255568\n",
      "5\n",
      "not equal\n",
      "difference: 3.8459042936977994\n",
      "6\n",
      "not equal\n",
      "difference: 15.947891621959087\n",
      "7\n",
      "not equal\n",
      "difference: 26.61273828796773\n",
      "8\n",
      "not equal\n",
      "difference: 23.77061343172837\n",
      "9\n",
      "not equal\n",
      "difference: 9.080152969298538\n",
      "10\n",
      "not equal\n",
      "difference: -5.916953481288623\n",
      "11\n",
      "not equal\n",
      "difference: -13.574289456030897\n",
      "12\n",
      "not equal\n",
      "difference: -13.483451184126416\n",
      "13\n",
      "not equal\n",
      "difference: -8.795425936458656\n",
      "14\n",
      "not equal\n",
      "difference: -2.8956980975269886\n"
     ]
    }
   ],
   "source": [
    "for i in range(len(bond_lengths)):\n",
    "    print(i)\n",
    "    print(\"equal\") if CCSD_PES[i] == CISD_PES[i] else print(\"not equal\")\n",
    "    print(\"difference: \" + str((CCSD_PES[i] - CISD_PES[i])*(10**6)))"
   ]
  },
  {
   "cell_type": "code",
   "execution_count": 35,
   "metadata": {},
   "outputs": [
    {
     "data": {
      "text/plain": [
       "<matplotlib.legend.Legend at 0x15e7f3e10>"
      ]
     },
     "execution_count": 35,
     "metadata": {},
     "output_type": "execute_result"
    },
    {
     "data": {
      "image/png": "[encoded data removed]",
      "text/plain": [
       "<Figure size 432x288 with 1 Axes>"
      ]
     },
     "metadata": {
      "needs_background": "light"
     },
     "output_type": "display_data"
    }
   ],
   "source": [
    "#Plot H2 PESs\n",
    "\n",
    "plt.title('H2 dissociation, STO-3G')\n",
    "plt.xlabel('R, Angstrom')\n",
    "plt.ylabel('E, Hartree')\n",
    "\n",
    "plt.plot(bond_lengths, FCI_PES, label='FCI')\n",
    "plt.scatter(bond_lengths, HF_PES, label='HF', color='orange')\n",
    "plt.scatter(bond_lengths, CCSD_PES, label='CCSD', color='purple')\n",
    "plt.scatter(bond_lengths, CISD_PES, label='CISD', color='green')\n",
    "\n",
    "plt.legend()"
   ]
  },
  {
   "cell_type": "code",
   "execution_count": 36,
   "metadata": {},
   "outputs": [
    {
     "data": {
      "text/plain": [
       "<matplotlib.legend.Legend at 0x15ef8aed0>"
      ]
     },
     "execution_count": 36,
     "metadata": {},
     "output_type": "execute_result"
    },
    {
     "data": {
      "image/png": "[encoded data removed]",
      "text/plain": [
       "<Figure size 432x288 with 1 Axes>"
      ]
     },
     "metadata": {
      "needs_background": "light"
     },
     "output_type": "display_data"
    }
   ],
   "source": [
    "#Plot H2 TOE\n",
    "\n",
    "plt.title('H2 time to execute, STO-3G')\n",
    "plt.ylabel('T, seconds')\n",
    "\n",
    "times = [timefci_h2, timehf_h2, timeccsd_h2, timecisd_h2]\n",
    "plt.hist(timefci_h2, label='FCI')\n",
    "plt.hist(timehf_h2, label='HF', color='orange')\n",
    "plt.hist(timeccsd_h2, label='CCSD', color='purple')\n",
    "plt.hist(timecisd_h2, label='CISD', color='green')\n",
    "plt.hist(timecisd_h2, density=False, bins=30)  # density=False would make counts\n",
    "plt.legend()"
   ]
  },
  {
   "cell_type": "markdown",
   "metadata": {},
   "source": [
    "<img src=\"figs/testimage.png\">"
   ]
  },
  {
   "cell_type": "markdown",
   "metadata": {},
   "source": [
    "## H<sub>2</sub>O symmetric O-H dissociation"
   ]
  },
  {
   "cell_type": "code",
   "execution_count": 37,
   "metadata": {},
   "outputs": [],
   "source": [
    "bond_lengths = np.linspace(0.1,2.3,15)"
   ]
  },
  {
   "cell_type": "code",
   "execution_count": 38,
   "metadata": {},
   "outputs": [
    {
     "name": "stdout",
     "output_type": "stream",
     "text": [
      "E = -20.553771141334764 Eh\n",
      "E = -63.309537330196186 Eh\n",
      "E = -71.47471429488488 Eh\n",
      "E = -73.93032385960305 Eh\n",
      "E = -74.73257643672085 Eh\n",
      "E = -74.97710169964007 Eh\n",
      "E = -75.01783169260807 Eh\n",
      "E = -74.98245402911365 Eh\n",
      "E = -74.92446430998895 Eh\n",
      "E = -74.86682553057594 Eh\n",
      "E = -74.81909064672932 Eh\n",
      "E = -74.78477306297275 Eh\n",
      "E = -74.76322402929027 Eh\n",
      "E = -74.75107996774486 Eh\n",
      "E = -74.74461281285048 Eh\n"
     ]
    }
   ],
   "source": [
    "#Run FCI\n",
    "start = timer()\n",
    "FCI_PES = obtain_PES('h2o', bond_lengths, basis, method='fci')\n",
    "end = timer()"
   ]
  },
  {
   "cell_type": "code",
   "execution_count": 39,
   "metadata": {},
   "outputs": [
    {
     "data": {
      "text/plain": [
       "13.894988888"
      ]
     },
     "execution_count": 39,
     "metadata": {},
     "output_type": "execute_result"
    }
   ],
   "source": [
    "timefci_h2o = end - start\n",
    "timefci_h2o"
   ]
  },
  {
   "cell_type": "code",
   "execution_count": 40,
   "metadata": {},
   "outputs": [
    {
     "name": "stdout",
     "output_type": "stream",
     "text": [
      "E = -20.552132284766426 Eh\n",
      "E = -63.30474127120344 Eh\n",
      "E = -71.46509768037279 Eh\n",
      "E = -73.91345755066007 Eh\n",
      "E = -74.70595055843964 Eh\n",
      "E = -74.93652000300756 Eh\n",
      "E = -74.95691723520474 Eh\n",
      "E = -74.89297939583244 Eh\n",
      "E = -74.79727960389734 Eh\n",
      "E = -74.69269146363703 Eh\n",
      "E = -74.58941952364292 Eh\n",
      "E = -74.49314138488452 Eh\n",
      "E = -74.40772786804456 Eh\n",
      "E = -74.33305712762896 Eh\n",
      "E = -74.27095418408372 Eh\n"
     ]
    }
   ],
   "source": [
    "#Run HF\n",
    "start = timer()\n",
    "HF_PES = obtain_PES('h2o', bond_lengths, basis,  method='hf')\n",
    "end = timer()"
   ]
  },
  {
   "cell_type": "code",
   "execution_count": 41,
   "metadata": {},
   "outputs": [
    {
     "data": {
      "text/plain": [
       "25.37886664800004"
      ]
     },
     "execution_count": 41,
     "metadata": {},
     "output_type": "execute_result"
    }
   ],
   "source": [
    "timehf_h2o = end - start\n",
    "timehf_h2o"
   ]
  },
  {
   "cell_type": "code",
   "execution_count": 42,
   "metadata": {},
   "outputs": [
    {
     "name": "stdout",
     "output_type": "stream",
     "text": [
      "E = -20.553770535981744 Eh\n",
      "E = -63.3095339523304 Eh\n",
      "E = -71.47470024666414 Eh\n",
      "E = -73.93029729486766 Eh\n",
      "E = -74.73252665361753 Eh\n",
      "E = -74.97700866325398 Eh\n",
      "E = -75.01765373851016 Eh\n",
      "E = -74.98208523560221 Eh\n",
      "E = -74.92375144243016 Eh\n",
      "E = -74.86586600528749 Eh\n",
      "E = -74.81914982144929 Eh\n",
      "E = -74.78962884509491 Eh\n",
      "E = -74.77426949942473 Eh\n",
      "E = -74.77806016567935 Eh\n",
      "E = -74.78137147434403 Eh\n"
     ]
    }
   ],
   "source": [
    "#Run CCSD\n",
    "start = timer()\n",
    "CCSD_PES = obtain_PES('h2o', bond_lengths, basis,  method='ccsd')\n",
    "end = timer()"
   ]
  },
  {
   "cell_type": "code",
   "execution_count": 43,
   "metadata": {},
   "outputs": [
    {
     "data": {
      "text/plain": [
       "22.936693855000044"
      ]
     },
     "execution_count": 43,
     "metadata": {},
     "output_type": "execute_result"
    }
   ],
   "source": [
    "timeccsd_h2o = end - start\n",
    "timeccsd_h2o"
   ]
  },
  {
   "cell_type": "code",
   "execution_count": 45,
   "metadata": {},
   "outputs": [
    {
     "name": "stdout",
     "output_type": "stream",
     "text": [
      "Could not converge\n",
      "Could not converge\n",
      "Could not converge\n",
      "Could not converge\n",
      "Could not converge\n",
      "Could not converge\n",
      "Could not converge\n",
      "Could not converge\n",
      "Could not converge\n",
      "Could not converge\n",
      "Could not converge\n",
      "Could not converge\n",
      "Could not converge\n",
      "Could not converge\n",
      "Could not converge\n"
     ]
    }
   ],
   "source": [
    "start = timer()\n",
    "CISD_PES = obtain_PES('h2o', bond_lengths, basis,  method='cisd')\n",
    "end = timer()"
   ]
  },
  {
   "cell_type": "code",
   "execution_count": 46,
   "metadata": {},
   "outputs": [
    {
     "data": {
      "text/plain": [
       "164.82147814400003"
      ]
     },
     "execution_count": 46,
     "metadata": {},
     "output_type": "execute_result"
    }
   ],
   "source": [
    "timecisd_h2o = end - start\n",
    "timecisd_h2o"
   ]
  },
  {
   "cell_type": "code",
   "execution_count": 47,
   "metadata": {},
   "outputs": [
    {
     "data": {
      "text/plain": [
       "<matplotlib.legend.Legend at 0x15e7f3410>"
      ]
     },
     "execution_count": 47,
     "metadata": {},
     "output_type": "execute_result"
    },
    {
     "data": {
      "image/png": "[encoded data removed]",
      "text/plain": [
       "<Figure size 432x288 with 1 Axes>"
      ]
     },
     "metadata": {
      "needs_background": "light"
     },
     "output_type": "display_data"
    }
   ],
   "source": [
    "#Plot H2O PESs\n",
    "\n",
    "plt.title('H2O symmetric dissociation, STO-3G')\n",
    "plt.xlabel('R, Angstrom')\n",
    "plt.ylabel('E, Hartree')\n",
    "\n",
    "plt.plot(bond_lengths, FCI_PES, label='FCI')\n",
    "plt.scatter(bond_lengths, HF_PES, label='HF', color='orange')\n",
    "plt.scatter(bond_lengths, CCSD_PES, label='CCSD', color='purple')\n",
    "plt.scatter(bond_lengths, CISD_PES, label='CISD', color='green')\n",
    "\n",
    "plt.legend()"
   ]
  },
  {
   "cell_type": "markdown",
   "metadata": {},
   "source": [
    "## LiH"
   ]
  },
  {
   "cell_type": "code",
   "execution_count": 48,
   "metadata": {},
   "outputs": [],
   "source": [
    "bond_lengths = np.linspace(0.3,2.6,15)"
   ]
  },
  {
   "cell_type": "code",
   "execution_count": 50,
   "metadata": {},
   "outputs": [
    {
     "name": "stdout",
     "output_type": "stream",
     "text": [
      "E = -5.881786886158692 Eh\n",
      "E = -6.925282864529373 Eh\n",
      "E = -7.379446982378825 Eh\n",
      "E = -7.62642979567252 Eh\n",
      "E = -7.761162034873516 Eh\n",
      "E = -7.832334925500511 Eh\n",
      "E = -7.867260599272539 Eh\n",
      "E = -7.88098231460632 Eh\n",
      "E = -7.882064186803914 Eh\n",
      "E = -7.875711259224834 Eh\n",
      "E = -7.865256408324724 Eh\n",
      "E = -7.852909020638875 Eh\n",
      "E = -7.840175831223494 Eh\n",
      "E = -7.828104085211536 Eh\n",
      "E = -7.817399927375689 Eh\n"
     ]
    }
   ],
   "source": [
    "#Run FCI\n",
    "start = timer()\n",
    "FCI_PES = obtain_PES('lih', bond_lengths, basis, method='fci')\n",
    "end = timer()"
   ]
  },
  {
   "cell_type": "code",
   "execution_count": 51,
   "metadata": {},
   "outputs": [
    {
     "data": {
      "text/plain": [
       "10.048627416000045"
      ]
     },
     "execution_count": 51,
     "metadata": {},
     "output_type": "execute_result"
    }
   ],
   "source": [
    "timefci_lhi = end - start\n",
    "timefci_lhi"
   ]
  },
  {
   "cell_type": "code",
   "execution_count": 52,
   "metadata": {},
   "outputs": [
    {
     "name": "stdout",
     "output_type": "stream",
     "text": [
      "E = -5.842510738072491 Eh\n",
      "E = -6.901520788087373 Eh\n",
      "E = -7.359956234153662 Eh\n",
      "E = -7.608056736309235 Eh\n",
      "E = -7.743922800250033 Eh\n",
      "E = -7.8156426139500725 Eh\n",
      "E = -7.850229846807039 Eh\n",
      "E = -7.86265126612485 Eh\n",
      "E = -7.861452286097636 Eh\n",
      "E = -7.851802661473536 Eh\n",
      "E = -7.836964866202663 Eh\n",
      "E = -7.81904391162751 Eh\n",
      "E = -7.799420629286217 Eh\n",
      "E = -7.779025947289931 Eh\n",
      "E = -7.758519166159335 Eh\n"
     ]
    }
   ],
   "source": [
    "start = timer()\n",
    "HF_PES = obtain_PES('lih', bond_lengths, basis,  method='hf')\n",
    "end = timer()"
   ]
  },
  {
   "cell_type": "code",
   "execution_count": 54,
   "metadata": {},
   "outputs": [
    {
     "data": {
      "text/plain": [
       "14.967607490000091"
      ]
     },
     "execution_count": 54,
     "metadata": {},
     "output_type": "execute_result"
    }
   ],
   "source": [
    "timehf_lhi = end - start\n",
    "timehf_lhi"
   ]
  },
  {
   "cell_type": "code",
   "execution_count": 57,
   "metadata": {},
   "outputs": [
    {
     "name": "stdout",
     "output_type": "stream",
     "text": [
      "E = -5.881617113461478 Eh\n",
      "E = -6.925180051154551 Eh\n",
      "E = -7.37942982971722 Eh\n",
      "E = -7.626422894142749 Eh\n",
      "E = -7.76115564846209 Eh\n",
      "E = -7.832327988681904 Eh\n",
      "E = -7.867252454615895 Eh\n",
      "E = -7.880972191526 Eh\n",
      "E = -7.882051700398201 Eh\n",
      "E = -7.875696442618595 Eh\n",
      "E = -7.8652389662116615 Eh\n",
      "E = -7.852887980617965 Eh\n",
      "E = -7.840149460768691 Eh\n",
      "E = -7.82806990232103 Eh\n",
      "E = -7.81735501347461 Eh\n"
     ]
    }
   ],
   "source": [
    "#Run CCSD\n",
    "star = timer()\n",
    "CCSD_PES = obtain_PES('lih', bond_lengths, basis,  method='ccsd')\n",
    "end = timer()"
   ]
  },
  {
   "cell_type": "code",
   "execution_count": 58,
   "metadata": {},
   "outputs": [
    {
     "data": {
      "text/plain": [
       "73.894837016"
      ]
     },
     "execution_count": 58,
     "metadata": {},
     "output_type": "execute_result"
    }
   ],
   "source": [
    "timeccsd_lhi = end - start\n",
    "timeccsd_lhi"
   ]
  },
  {
   "cell_type": "code",
   "execution_count": 59,
   "metadata": {},
   "outputs": [
    {
     "data": {
      "text/plain": [
       "<matplotlib.legend.Legend at 0x15e9db850>"
      ]
     },
     "execution_count": 59,
     "metadata": {},
     "output_type": "execute_result"
    },
    {
     "data": {
      "image/png": "[encoded data removed]",
      "text/plain": [
       "<Figure size 432x288 with 1 Axes>"
      ]
     },
     "metadata": {
      "needs_background": "light"
     },
     "output_type": "display_data"
    }
   ],
   "source": [
    "#Plot LiH PESs\n",
    "\n",
    "plt.title('LiH symmetric dissociation, STO-3G')\n",
    "plt.xlabel('R, Angstrom')\n",
    "plt.ylabel('E, Hartree')\n",
    "\n",
    "plt.plot(bond_lengths, FCI_PES, label='FCI')\n",
    "plt.scatter(bond_lengths, HF_PES, label='HF', color='orange')\n",
    "plt.scatter(bond_lengths, CCSD_PES, label='CCSD', color='purple')\n",
    "plt.legend()"
   ]
  },
  {
   "cell_type": "markdown",
   "metadata": {},
   "source": [
    "## H<sub>4</sub>"
   ]
  },
  {
   "cell_type": "code",
   "execution_count": 60,
   "metadata": {},
   "outputs": [],
   "source": [
    "bond_lengths = np.linspace(0.3,2.4,15)"
   ]
  },
  {
   "cell_type": "code",
   "execution_count": 63,
   "metadata": {},
   "outputs": [
    {
     "name": "stdout",
     "output_type": "stream",
     "text": [
      "E = 2.4456387329653175 Eh\n",
      "E = -0.16672878751600972 Eh\n",
      "E = -1.191865903474187 Eh\n",
      "E = -1.6413493630599731 Eh\n",
      "E = -1.8467405732017914 Eh\n",
      "E = -1.9365084915912725 Eh\n",
      "E = -1.967549880339193 Eh\n",
      "E = -1.968499098357047 Eh\n",
      "E = -1.9551250115194287 Eh\n",
      "E = -1.9365597434430886 Eh\n",
      "E = -1.9180537900460375 Eh\n",
      "E = -1.9022947738864633 Eh\n",
      "E = -1.8902054406231423 Eh\n",
      "E = -1.8816138081427218 Eh\n",
      "E = -1.8758410788448725 Eh\n"
     ]
    }
   ],
   "source": [
    "#Run FCI\n",
    "start = timer()\n",
    "FCI_PES = obtain_PES('h4', bond_lengths, basis, method='fci')\n",
    "end = timer()"
   ]
  },
  {
   "cell_type": "code",
   "execution_count": null,
   "metadata": {},
   "outputs": [],
   "source": [
    "timefci_h4 = end - start\n",
    "ti"
   ]
  },
  {
   "cell_type": "code",
   "execution_count": null,
   "metadata": {},
   "outputs": [],
   "source": [
    "#Run HF\n",
    "start = timer()\n",
    "HF_PES = obtain_PES('h4', bond_lengths, basis,  method='hf')\n",
    "end = timer()"
   ]
  },
  {
   "cell_type": "code",
   "execution_count": null,
   "metadata": {},
   "outputs": [],
   "source": [
    "#Run CCSD\n",
    "CCSD_PES = obtain_PES('h4', bond_lengths, basis,  method='ccsd')"
   ]
  },
  {
   "cell_type": "code",
   "execution_count": null,
   "metadata": {},
   "outputs": [],
   "source": [
    "#Plot H4 PESs\n",
    "\n",
    "plt.title('H4 symmetric dissociation, STO-3G')\n",
    "plt.xlabel('R, Angstrom')\n",
    "plt.ylabel('E, Hartree')\n",
    "\n",
    "plt.plot(bond_lengths, FCI_PES, label='FCI')\n",
    "plt.scatter(bond_lengths, HF_PES, label='HF', color='orange')\n",
    "plt.scatter(bond_lengths, CCSD_PES, label='CCSD', color='purple')\n",
    "plt.legend()"
   ]
  }
 ],
 "metadata": {
  "kernelspec": {
   "display_name": "tequila_devel_3.6",
   "language": "python",
   "name": "tequila_devel_3.6"
  },
  "language_info": {
   "codemirror_mode": {
    "name": "ipython",
    "version": 3
   },
   "file_extension": ".py",
   "mimetype": "text/x-python",
   "name": "python",
   "nbconvert_exporter": "python",
   "pygments_lexer": "ipython3",
   "version": "3.7.10"
  }
 },
 "nbformat": 4,
 "nbformat_minor": 2
}
