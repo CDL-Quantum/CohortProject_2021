{
 "cells": [
  {
   "cell_type": "code",
   "execution_count": 1,
   "outputs": [],
   "source": [
    "from typing import List, Union\n",
    "\n",
    "from qiskit import QuantumRegister, QuantumCircuit\n",
    "import scipy\n",
    "from scipy.optimize import minimize\n",
    "\n",
    "import tequila as tq\n",
    "import numpy as np\n",
    "import qiskit as qsk\n",
    "from qiskit import Aer"
   ],
   "metadata": {
    "collapsed": false,
    "pycharm": {
     "name": "#%%\n"
    }
   }
  },
  {
   "cell_type": "markdown",
   "metadata": {
    "collapsed": true,
    "pycharm": {
     "name": "#%% md\n"
    }
   },
   "source": [
    "## Question 1.\n",
    "Q) Implement an error-mitigation protocol based on removing measurement results corresponding to a wrong number of\n",
    "electrons, which is described in Ref. [14], (see Sec. 3.4. Post-processing Procedure). How different are the results of\n",
    "simulations with and without error-mitigation?\n",
    "\n",
    "A) For example, H<sub>2 </sub> molecule in BK transformation, the hamiltonian, number operator and spin operator are\n",
    "given as below.\n",
    "\n",
    "$ \\hat{H}_{BK}(R=0.75Å) = -0.109731 $\n",
    "$ \\quad + 0.169885 z_0 + 0.168212 z_1 + 0.169885 z_1 z_0 $\n",
    "$ \\quad + 0.0454429 x_2 z_1 x_0 - 0.218863 z_2 + 0.0454429 y_2 z_1 y_0 $\n",
    "$ \\quad + 0.120051 z_2 z_0 + 0.165494 z_2 z_1 z_0 + 0.173954 z_3 z_1 $\n",
    "$ \\quad + 0.0454429 z_3 x_2 z_1 x_0 + 0.120051 z_3 z_2 z_0 $\n",
    "$ \\quad + 0.165494 z_3 z_2 z_1 z_0 $"
   ]
  },
  {
   "cell_type": "code",
   "execution_count": 2,
   "outputs": [],
   "source": [
    "from Week3_VQE.utility import construct_QMF_ansatz, init_qcc_params, hf_occ\n",
    "\n",
    "H = tq.QubitHamiltonian(\"\"\"\n",
    "    -0.109731 + 0.169885 Z(0) + 0.168212 Z(1) + 0.169885 Z(1) Z(0)\n",
    "    + 0.0454429 X(2) Z(1) X(0) - 0.218863 Z(2) + 0.0454429 Y(2) Z(1) Y(0)\n",
    "    + 0.120051 Z(2) Z(0) + 0.165494 Z(2) Z(1) Z(0) + 0.173954 Z(3) Z(1)\n",
    "    + 0.0454429 Z(3) Z(2) Z(1) X(0) + 0.120051 Z(3) Z(2) Z(0)\n",
    "    + 0.165494 Z(3) Z(2) Z(1) Z(0)\n",
    "\"\"\".replace('/n', ''))\n",
    "\n",
    "A = tq.QubitHamiltonian(\"\"\"\n",
    "    0.169885 Z(0) + 0.168212 Z(1) + 0.169885 Z(1) Z(0)\n",
    "    - 0.218863 Z(2) + 0.120051 Z(2) Z(0) + 0.165494 Z(2) Z(1) Z(0) + 0.173954 Z(3) Z(1)\n",
    "    + 0.120051 Z(3) Z(2) Z(0) + 0.165494 Z(3) Z(2) Z(1) Z(0)\n",
    "\"\"\".replace('/n', ''))\n",
    "\n",
    "B = tq.QubitHamiltonian(\"\"\"\n",
    "0.0454429 X(2) Z(1) X(0) + 0.0454429 Y(2) Z(1) Y(0) + 0.0454429 Z(3) Z(2) Z(1) X(0)\n",
    "\"\"\".replace('/n', ''))"
   ],
   "metadata": {
    "collapsed": false,
    "pycharm": {
     "name": "#%%\n"
    }
   }
  },
  {
   "cell_type": "markdown",
   "source": [
    "$ \\hat{N}_{BK} = 2 - (z_0 +z_1 z_0 + z_2 + z_3 z_2 z_1 )/2 $\n",
    "\n",
    "$ \\hat{S}_{BK}^2 = ( 6 - 3 z_1 + x_2 x_0 - x_2 z_1 x_0 + y_2 y_0 +z_2 z_0 - z_2 z_1 z_0 $\n",
    "$ \\quad -3 z_3 z_1 - y_2 z_1 y_0 + z_3 x_2 x_0 - z_3 x_2 z_1 x_0 + z_3 y_2 y_0 - z_3 y_2 z_1 y_0 $\n",
    "$ \\quad + z_3 z_2 z_0 - z_3 z_2 z_1 z_0 )/8 $\n",
    "\n",
    "We restrict the number of electron to 2, and group the measurements with qubit-wise commuting strategy.\n",
    "To calculate the projection operator $\\hat{P}$, such that $ \\hat{N}_{BK} \\hat{P} = 2 \\hat{P}$, the following should hold.\n",
    "\n",
    "$ (z_0 +z_1 z_0 + z_2 + z_3 z_2 z_1) \\hat{P} = 0 $\n",
    "\n",
    "Solving that, we have\n",
    "\n",
    "$ \\hat{P} = |0010\\rangle\\langle0010| + |0100\\rangle\\langle0100| + |0110\\rangle\\langle0110| $\n",
    "$ \\quad + |1100\\rangle\\langle1100| + |1000\\rangle\\langle1000| + |1110\\rangle\\langle1110|$\n",
    "\n",
    "first, we need to divide the hamiltonian into two parts,\n",
    "$ \\hat{H} = \\hat{A} + \\hat{B} -0.109731  $, where\n",
    "\n",
    "$ A = 0.169885 z_0 + 0.168212 z_1 + 0.169885 z_1 z_0 $\n",
    "$ \\quad - 0.218863 z_2 + 0.120051 z_2 z_0 + 0.165494 z_2 z_1 z_0 + 0.173954 z_3 z_1 $\n",
    "$ \\quad + 0.120051 z_3 z_2 z_0 + 0.165494 z_3 z_2 z_1 z_0 $\n",
    "\n",
    "$ B = 0.0454429 x_2 z_1 x_0 + 0.0454429 y_2 z_1 y_0 + 0.0454429 z_3 x_2 z_1 x_0$"
   ],
   "metadata": {
    "collapsed": false,
    "pycharm": {
     "name": "#%% md\n"
    }
   }
  },
  {
   "cell_type": "markdown",
   "source": [
    "Then when we measure $ A $, we can pick out some eigenstates orthogonal to $\\hat{P}$.\n",
    "\n",
    "First, we simulate without postprocessing."
   ],
   "metadata": {
    "collapsed": false,
    "pycharm": {
     "name": "#%% md\n"
    }
   }
  },
  {
   "cell_type": "code",
   "execution_count": 3,
   "outputs": [
    {
     "name": "stderr",
     "output_type": "stream",
     "text": [
      "WARNING:absl:No GPU/TPU found, falling back to CPU. (Set TF_CPP_MIN_LOG_LEVEL=0 and rerun for more info.)\n"
     ]
    },
    {
     "name": "stdout",
     "output_type": "stream",
     "text": [
      "circuit: \n",
      "Rx(target=(0,), parameter=beta_0)\n",
      "Rz(target=(0,), parameter=gamma_0)\n",
      "Rx(target=(1,), parameter=beta_1)\n",
      "Rz(target=(1,), parameter=gamma_1)\n",
      "Rx(target=(2,), parameter=beta_2)\n",
      "Rz(target=(2,), parameter=gamma_2)\n",
      "Rx(target=(3,), parameter=beta_3)\n",
      "Rz(target=(3,), parameter=gamma_3)\n",
      "Exp-Pauli(target=(0, 2), control=(), parameter=tau_0, paulistring=X(0)Y(2))\n",
      "\n",
      "Optimizer: <class 'tequila.optimizers.optimizer_scipy.OptimizerSciPy'> \n",
      "backend         : qulacs\n",
      "device          : None\n",
      "samples         : None\n",
      "save_history    : True\n",
      "noise           : None\n",
      "\n",
      "Method          : BFGS\n",
      "Objective       : 1 expectationvalues\n",
      "gradient        : 18 expectationvalues\n",
      "\n",
      "active variables : 9\n",
      "\n",
      "E=-0.89728800  angles= {beta_0: 3.141592653589793, gamma_0: 0.0, beta_1: 0.0, gamma_1: 0.0, beta_2: 0.0, gamma_2: 0.0, beta_3: 0.0, gamma_3: 0.0, tau_0: 0.0}  samples= None\n",
      "E=-0.90323123  angles= {beta_0: 3.1415926279784223, gamma_0: 0.0, beta_1: 0.0, gamma_1: 0.0, beta_2: 3.725290298461914e-09, gamma_2: 0.0, beta_3: 0.0, gamma_3: 0.0, tau_0: -0.09088580310344696}  samples= None\n",
      "E=-0.90463291  angles= {beta_0: 3.1415925824058895, gamma_0: 5.302985662399346e-08, beta_1: 0.0, gamma_1: 0.0, beta_2: 3.725290298463482e-09, gamma_2: 0.0, beta_3: 0.0, gamma_3: 0.0, tau_0: -0.16172099090247904}  samples= None\n",
      "E=-0.90463297  angles= {beta_0: 3.1415926681409836, gamma_0: 5.2885182704971095e-08, beta_1: 0.0, gamma_1: 0.0, beta_2: 3.72529029846249e-09, gamma_2: 0.0, beta_3: 0.0, gamma_3: 0.0, tau_0: -0.16127979020830374}  samples= None\n",
      "Optimization terminated successfully.\n",
      "         Current function value: -0.904633\n",
      "         Iterations: 3\n",
      "         Function evaluations: 4\n",
      "         Gradient evaluations: 4\n",
      "-0.9046329654108429\n"
     ]
    }
   ],
   "source": [
    "a = tq.Variable(\"tau_0\")\n",
    "U = construct_QMF_ansatz(4)\n",
    "U += tq.gates.ExpPauli(paulistring=tq.PauliString.from_string(\"X(0)Y(2)\"), angle=a)\n",
    "print(U)\n",
    "\n",
    "hf_reference = hf_occ(4, 2, qubit_transf='bk')\n",
    "E = tq.ExpectationValue(H=H, U=U)\n",
    "initial_vals = init_qcc_params(hf_reference, E.extract_variables())\n",
    "result_naive = tq.minimize(objective=E, method=\"BFGS\", initial_values=initial_vals, tol=1.e-4)\n",
    "print(result_naive.energy)"
   ],
   "metadata": {
    "collapsed": false,
    "pycharm": {
     "name": "#%%\n"
    }
   }
  },
  {
   "cell_type": "markdown",
   "source": [
    "With postprocessing, we perform the simulation."
   ],
   "metadata": {
    "collapsed": false,
    "pycharm": {
     "name": "#%% md\n"
    }
   }
  },
  {
   "cell_type": "code",
   "execution_count": 4,
   "outputs": [
    {
     "name": "stdout",
     "output_type": "stream",
     "text": [
      "      fun: -0.9046329654108264\n",
      " hess_inv: array([[1.00000000e+00, 0.00000000e+00, 0.00000000e+00, 0.00000000e+00,\n",
      "        1.68124192e-15, 0.00000000e+00, 1.68124192e-15, 0.00000000e+00,\n",
      "        4.10172003e-08],\n",
      "       [0.00000000e+00, 1.00000000e+00, 0.00000000e+00, 0.00000000e+00,\n",
      "        0.00000000e+00, 0.00000000e+00, 0.00000000e+00, 0.00000000e+00,\n",
      "        0.00000000e+00],\n",
      "       [0.00000000e+00, 0.00000000e+00, 1.00000000e+00, 0.00000000e+00,\n",
      "        0.00000000e+00, 0.00000000e+00, 0.00000000e+00, 0.00000000e+00,\n",
      "        0.00000000e+00],\n",
      "       [0.00000000e+00, 0.00000000e+00, 0.00000000e+00, 1.00000000e+00,\n",
      "        0.00000000e+00, 0.00000000e+00, 0.00000000e+00, 0.00000000e+00,\n",
      "        0.00000000e+00],\n",
      "       [1.68124192e-15, 0.00000000e+00, 0.00000000e+00, 0.00000000e+00,\n",
      "        1.00000000e+00, 0.00000000e+00, 2.42541417e-15, 0.00000000e+00,\n",
      "        1.81840396e-08],\n",
      "       [0.00000000e+00, 0.00000000e+00, 0.00000000e+00, 0.00000000e+00,\n",
      "        0.00000000e+00, 1.00000000e+00, 0.00000000e+00, 0.00000000e+00,\n",
      "        0.00000000e+00],\n",
      "       [1.68124192e-15, 0.00000000e+00, 0.00000000e+00, 0.00000000e+00,\n",
      "        2.42541417e-15, 0.00000000e+00, 1.00000000e+00, 0.00000000e+00,\n",
      "        1.81840396e-08],\n",
      "       [0.00000000e+00, 0.00000000e+00, 0.00000000e+00, 0.00000000e+00,\n",
      "        0.00000000e+00, 0.00000000e+00, 0.00000000e+00, 1.00000000e+00,\n",
      "        0.00000000e+00],\n",
      "       [4.10172003e-08, 0.00000000e+00, 0.00000000e+00, 0.00000000e+00,\n",
      "        1.81840396e-08, 0.00000000e+00, 1.81840396e-08, 0.00000000e+00,\n",
      "        4.43635379e-01]])\n",
      "      jac: array([0.00000000e+00, 0.00000000e+00, 0.00000000e+00, 0.00000000e+00,\n",
      "       2.23517418e-08, 0.00000000e+00, 0.00000000e+00, 0.00000000e+00,\n",
      "       5.21540642e-07])\n",
      "  message: 'Optimization terminated successfully.'\n",
      "     nfev: 40\n",
      "      nit: 2\n",
      "     njev: 4\n",
      "   status: 0\n",
      "  success: True\n",
      "        x: array([3.14159266e+00, 0.00000000e+00, 0.00000000e+00, 0.00000000e+00,\n",
      "       1.07559217e-08, 0.00000000e+00, 1.07559217e-08, 0.00000000e+00,\n",
      "       8.06402922e-02])\n",
      "-0.9046329654108264\n"
     ]
    }
   ],
   "source": [
    "initial_vals_list = [initial_vals[\"beta_0\"], initial_vals[\"gamma_0\"],\n",
    "                     initial_vals[\"beta_1\"], initial_vals[\"gamma_1\"],\n",
    "                     initial_vals[\"beta_2\"], initial_vals[\"gamma_2\"],\n",
    "                     initial_vals[\"beta_3\"], initial_vals[\"gamma_3\"],\n",
    "                     initial_vals[\"tau_0\"]]\n",
    "\n",
    "def meas_sv(ham, sv, proj):\n",
    "    energy = 0\n",
    "    rej = 0\n",
    "    for term in ham.keys():\n",
    "        coeff = ham[term]\n",
    "        f = [False for _ in range(4)]\n",
    "        for i, p in term:\n",
    "            if p in ['X', 'Y']:\n",
    "                f[i] = True\n",
    "        f = sum([2 ** i for i, v in enumerate(f) if v])\n",
    "        for psi_left in range(16):\n",
    "            if proj is not None:\n",
    "                assert f == 0\n",
    "                if psi_left not in proj:\n",
    "                    rej += abs(sv[psi_left])**2\n",
    "                    continue\n",
    "            psi_right = psi_left ^ f\n",
    "            phase = 0\n",
    "            for i, p in term:\n",
    "                if p == 'Z' and (psi_right >> i) & 1:\n",
    "                    phase += 2\n",
    "                elif p == 'Y':\n",
    "                    if (psi_right >> i) & 1:\n",
    "                        phase -= 1\n",
    "                    else:\n",
    "                        phase += 1\n",
    "            tmp = coeff * (sv[psi_left].conjugate()) * sv[psi_right]\n",
    "            if phase % 4 == 0:\n",
    "                energy += tmp\n",
    "            elif phase % 4 == 1:\n",
    "                energy += 1j * tmp\n",
    "            elif phase % 4 == 2:\n",
    "                energy += -1 * tmp\n",
    "            else:\n",
    "                energy += -1j * tmp\n",
    "    return energy.real, rej/len(ham)\n",
    "\n",
    "\n",
    "def sim_H_with_postprocessing(vals:List):\n",
    "    shots = 8096\n",
    "    vals_dict = {\"beta_0\": vals[0], \"gamma_0\": vals[1],\n",
    "                 \"beta_1\": vals[2], \"gamma_1\": vals[3],\n",
    "                 \"beta_2\": vals[4], \"gamma_2\": vals[5],\n",
    "                 \"beta_3\": vals[6], \"gamma_3\": vals[7],\n",
    "                 \"tau_0\": vals[8]}\n",
    "\n",
    "    qr = QuantumRegister(4)\n",
    "    qc = QuantumCircuit(qr)\n",
    "\n",
    "    # Construct QMF\n",
    "    # gates.Rx(target=q0, angle=beta) + gates.Rz(target=q0, angle=gamma)\n",
    "    for q in range(4):\n",
    "        qc.rx(vals[2*q], q)\n",
    "        qc.rz(vals[2*q + 1], q)\n",
    "\n",
    "    # Construct QCC \"X(0)Y(2)\"\n",
    "    qc.h(0)\n",
    "    qc.rx(-np.pi / 2, 2)\n",
    "    qc.cx(0, 2)\n",
    "    qc.rz(2 * vals[8], 2)\n",
    "    qc.cx(0, 2)\n",
    "    qc.h(0)\n",
    "    qc.rx(np.pi / 2, 2)\n",
    "\n",
    "    # statevector\n",
    "    sv_backend = Aer.get_backend(\"statevector_simulator\")\n",
    "    job = qsk.execute(qc, backend=sv_backend)\n",
    "    final_state = job.result().get_statevector(qc)\n",
    "\n",
    "    proj = [4, 2, 6, 3, 1, 7]\n",
    "    meas_A, rej = meas_sv(A, final_state, proj)\n",
    "    meas_A = meas_A / (1-rej)\n",
    "    meas_B, _ = meas_sv(B, final_state, None)\n",
    "    return meas_A + meas_B -0.109731\n",
    "\n",
    "post_res = minimize(sim_H_with_postprocessing, x0=initial_vals_list, method='BFGS')\n",
    "print(post_res)\n",
    "print(post_res.fun)"
   ],
   "metadata": {
    "collapsed": false,
    "pycharm": {
     "name": "#%%\n"
    }
   }
  },
  {
   "cell_type": "code",
   "source": [
    "print(f\"difference = {result_naive.energy - post_res.fun}\")"
   ],
   "metadata": {
    "collapsed": false,
    "pycharm": {
     "name": "#%%\n"
    }
   },
   "execution_count": 5,
   "outputs": [
    {
     "name": "stdout",
     "output_type": "stream",
     "text": [
      "difference = -1.6542323066914832e-14\n"
     ]
    }
   ]
  },
  {
   "cell_type": "markdown",
   "source": [
    "So we have almost zero difference, as this the simulation without postprocessing doesn't break the number symmetry."
   ],
   "metadata": {
    "collapsed": false,
    "pycharm": {
     "name": "#%% md\n"
    }
   }
  },
  {
   "cell_type": "markdown",
   "source": [
    "## Question 2.\n",
    "Q) Can the error-mitigation protocol described in Ref. [14] be used for more complicated symmetries, like $S^2$?\n",
    "\n",
    "A) It's hard to find the hamiltonian part whose eigenstates are that of $\\hat{S}^2$. So we need further studies.\n",
    "\n",
    "\n",
    "## Question 3.\n",
    "Q) Optional: Suggest an error-mitigation protocol if you know that the right wavefunction should\n",
    "be an eigenstate of a certain multi-qubit operator $\\hat{A}$ with eigenvalue $a$.\n",
    "\n",
    "A)\n"
   ],
   "metadata": {
    "collapsed": false,
    "pycharm": {
     "name": "#%% md\n"
    }
   }
  }
 ],
 "metadata": {
  "kernelspec": {
   "display_name": "Python 3",
   "language": "python",
   "name": "python3"
  },
  "language_info": {
   "codemirror_mode": {
    "name": "ipython",
    "version": 2
   },
   "file_extension": ".py",
   "mimetype": "text/x-python",
   "name": "python",
   "nbconvert_exporter": "python",
   "pygments_lexer": "ipython2",
   "version": "2.7.6"
  }
 },
 "nbformat": 4,
 "nbformat_minor": 0
}