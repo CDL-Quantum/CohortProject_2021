{
 "cells": [
  {
   "cell_type": "code",
   "execution_count": null,
   "metadata": {},
   "outputs": [],
   "source": []
  },
  {
   "cell_type": "markdown",
   "metadata": {},
   "source": [
    "# Quantum Circuits\n",
    "Quantum computers can only use a specific set of gates (universal gate set). Given the entanglers and their amplitudes found in Step 3, one can find corresponding representation of these operators in terms of elementary gates using the following procedure."
   ]
  },
  {
   "cell_type": "code",
   "execution_count": 1,
   "metadata": {},
   "outputs": [
    {
     "name": "stderr",
     "output_type": "stream",
     "text": [
      "/home/ushnish/.local/lib/python3.7/site-packages/pyscf/lib/misc.py:46: H5pyDeprecationWarning: Using default_file_mode other than 'r' is deprecated. Pass the mode to h5py.File() instead.\n",
      "  h5py.get_config().default_file_mode = 'a'\n"
     ]
    }
   ],
   "source": [
    "import pennylane as qml\n",
    "from pennylane import qchem\n",
    "from pennylane import numpy as np\n",
    "import time\n",
    "import matplotlib.pyplot as plt\n",
    "from utility import obtain_PES\n",
    "\n",
    "basis = 'sto-3g'"
   ]
  },
  {
   "cell_type": "code",
   "execution_count": 2,
   "metadata": {},
   "outputs": [],
   "source": [
    "bond_lengths = np.linspace(0.2, 2.6, 15)\n",
    "# bond_lengths = np.linspace(0.2, 2.6, 16)"
   ]
  },
  {
   "cell_type": "code",
   "execution_count": 3,
   "metadata": {},
   "outputs": [
    {
     "name": "stdout",
     "output_type": "stream",
     "text": [
      "E = 0.15748213365503494 Eh\n",
      "E = -0.8488991062024307 Eh\n",
      "E = -1.088228184406917 Eh\n",
      "E = -1.1369289594005694 Eh\n",
      "E = -1.122957052798233 Eh\n",
      "E = -1.0887645364963472 Eh\n",
      "E = -1.050442037218747 Eh\n",
      "E = -1.0154681711140934 Eh\n",
      "E = -0.9873930555210578 Eh\n",
      "E = -0.9670259116093078 Eh\n",
      "E = -0.9534242388722525 Eh\n",
      "E = -0.9449089870950522 Eh\n",
      "E = -0.9398197912188271 Eh\n",
      "E = -0.9368706035283363 Eh\n",
      "E = -0.9351960308386074 Eh\n"
     ]
    }
   ],
   "source": [
    "#Run FCI\n",
    "FCI_PES = obtain_PES('h2', bond_lengths, basis, method='fci')"
   ]
  },
  {
   "cell_type": "code",
   "execution_count": 4,
   "metadata": {},
   "outputs": [
    {
     "data": {
      "text/plain": [
       "<matplotlib.legend.Legend at 0x7f9499fb6828>"
      ]
     },
     "execution_count": 4,
     "metadata": {},
     "output_type": "execute_result"
    },
    {
     "data": {
      "image/png": "[encoded data removed]",
      "text/plain": [
       "<Figure size 432x288 with 1 Axes>"
      ]
     },
     "metadata": {
      "needs_background": "light"
     },
     "output_type": "display_data"
    }
   ],
   "source": [
    "#Plot H2 PESs\n",
    "\n",
    "plt.title('H2 dissociation, STO-3G')\n",
    "plt.xlabel(r'R ($A^\\circ$)',fontsize=20)\n",
    "plt.ylabel(r'Energy ($E_h$)',fontsize=14)\n",
    "\n",
    "plt.plot(bond_lengths, FCI_PES, label='FCI')\n",
    "\n",
    "plt.legend()"
   ]
  },
  {
   "cell_type": "code",
   "execution_count": 5,
   "metadata": {},
   "outputs": [],
   "source": [
    "\n",
    "\n",
    "# symbols = [\"H\", \"H\"]\n",
    "# coordinates = np.array([0.0, 0.0, 0.0, 0.0, 0.0, 1.323])\n",
    "\n",
    "# H, qubits = qchem.molecular_hamiltonian(symbols, coordinates) # Lots of defaults; maybe mention\n",
    "# print(f\"Number of qubits = {qubits}\\n\")\n",
    "# print(f\"H = {H}\")"
   ]
  },
  {
   "cell_type": "code",
   "execution_count": 6,
   "metadata": {},
   "outputs": [],
   "source": [
    "def initialize_state():\n",
    "    # print(hf)\n",
    "    qml.BasisState(hf, wires=[0, 1, 2, 3])\n",
    "\n",
    "def variational_circuit(theta):\n",
    "    qml.DoubleExcitation(theta, wires=[0, 1, 2, 3])\n",
    "\n",
    "def vqe_circuit(theta, wires):\n",
    "    initialize_state()\n",
    "    variational_circuit(theta)"
   ]
  },
  {
   "cell_type": "code",
   "execution_count": 11,
   "metadata": {},
   "outputs": [
    {
     "name": "stdout",
     "output_type": "stream",
     "text": [
      "\n",
      " 0.2 [0.  0.  0.  0.  0.  0.2]\n",
      "Initial E = 2.42825912 Final E = 2.42230189\n",
      "Initial theta = 0.00000000 Final theta = 0.07613967\n",
      "\n",
      " 0.37142857142857144 [0.         0.         0.         0.         0.         0.37142857]\n",
      "Initial E = 0.20668600 Final E = 0.20002812\n",
      "Initial theta = 0.00000000 Final theta = 0.08420238\n",
      "\n",
      " 0.5428571428571429 [0.         0.         0.         0.         0.         0.54285714]\n",
      "Initial E = -0.53215207 Final E = -0.53993565\n",
      "Initial theta = 0.00000000 Final theta = 0.09683008\n",
      "\n",
      " 0.7142857142857142 [0.         0.         0.         0.         0.         0.71428571]\n",
      "Initial E = -0.85585335 Final E = -0.86519585\n",
      "Initial theta = 0.00000000 Final theta = 0.11377521\n",
      "\n",
      " 0.8857142857142857 [0.         0.         0.         0.         0.         0.88571429]\n",
      "Initial E = -1.01098234 Final E = -1.02233864\n",
      "Initial theta = 0.00000000 Final theta = 0.13487009\n",
      "\n",
      " 1.0571428571428572 [0.         0.         0.         0.         0.         1.05714286]\n",
      "Initial E = -1.08414406 Final E = -1.09800760\n",
      "Initial theta = 0.00000000 Final theta = 0.16052797\n",
      "\n",
      " 1.2285714285714284 [0.         0.         0.         0.         0.         1.22857143]\n",
      "Initial E = -1.11301693 Final E = -1.12992939\n",
      "Initial theta = 0.00000000 Final theta = 0.19008201\n",
      "\n",
      " 1.4000004199999998 [0.         0.         0.         0.         0.         1.40000042]\n",
      "Initial E = -1.11671431 Final E = -1.13727514\n",
      "Initial theta = 0.00000000 Final theta = 0.22450148\n",
      "\n",
      " 1.5714285714285714 [0.         0.         0.         0.         0.         1.57142857]\n",
      "Initial E = -1.10588459 Final E = -1.13076663\n",
      "Initial theta = 0.00000000 Final theta = 0.26404729\n",
      "\n",
      " 1.7428571428571429 [0.         0.         0.         0.         0.         1.74285714]\n",
      "Initial E = -1.08662250 Final E = -1.11659617\n",
      "Initial theta = 0.00000000 Final theta = 0.30814383\n",
      "\n",
      " 1.9142857142857144 [0.         0.         0.         0.         0.         1.91428571]\n",
      "Initial E = -1.06242961 Final E = -1.09838681\n",
      "Initial theta = 0.00000000 Final theta = 0.35771648\n",
      "\n",
      " 2.085714285714286 [0.         0.         0.         0.         0.         2.08571429]\n",
      "Initial E = -1.03539584 Final E = -1.07835240\n",
      "Initial theta = 0.00000000 Final theta = 0.41145505\n",
      "\n",
      " 2.257142857142857 [0.         0.         0.         0.         0.         2.25714286]\n",
      "Initial E = -1.00688288 Final E = -1.05796084\n",
      "Initial theta = 0.00000000 Final theta = 0.46975482\n",
      "\n",
      " 2.428571428571429 [0.         0.         0.         0.         0.         2.42857143]\n",
      "Initial E = -0.97785972 Final E = -1.03824316\n",
      "Initial theta = 0.00000000 Final theta = 0.53186309\n",
      "\n",
      " 2.6 [0.  0.  0.  0.  0.  2.6]\n",
      "Initial E = -0.94904315 Final E = -1.01991679\n",
      "Initial theta = 0.00000000 Final theta = 0.59668682\n"
     ]
    }
   ],
   "source": [
    "\n",
    "dev = qml.device('default.qubit', wires=4)\n",
    "symbols = [\"H\", \"H\"]\n",
    "electrons = 2\n",
    "geometry = [0.0, 0.0, 0.0, 0.0, 0.0, 0.0]\n",
    "vqe_PES = list()\n",
    "\n",
    "for bond_length in bond_lengths:\n",
    "    geometry[-1] = bond_length\n",
    "    coordinates = np.array(geometry)\n",
    "    print('\\n', bond_length, coordinates)\n",
    "    H, qubits = qchem.molecular_hamiltonian(symbols, coordinates) # Lots of defaults; maybe mention\n",
    "    # wires = list(range(qubits))\n",
    "    hf = qml.qchem.hf_state(electrons, qubits)\n",
    "    \n",
    "    cost = qml.ExpvalCost(vqe_circuit, H, dev)\n",
    "\n",
    "    opt = qml.GradientDescentOptimizer(stepsize=0.4)\n",
    "\n",
    "    theta = np.array(0.0)\n",
    "\n",
    "    energy_record = [cost(theta)] \n",
    "    theta_record = [theta]\n",
    "\n",
    "    # break\n",
    "    \n",
    "    for n in range(20):\n",
    "        t1 = time.time()\n",
    "        theta, prev_energy = opt.step_and_cost(cost, theta)\n",
    "        t2 = time.time()\n",
    "        energy = cost(theta)\n",
    "        \n",
    "        energy_record.append(energy)\n",
    "        theta_record.append(theta)\n",
    "        \n",
    "        # print(f\"n = {n},  E = {energy:.8f} H, t = {(t2-t1):.3f} S\")\n",
    "        \n",
    "        if np.abs(energy - prev_energy) <= 1e-6:\n",
    "            break\n",
    "\n",
    "    print(f\"Initial E = {energy_record[0]:.8f} Final E = {energy_record[-1]:.8f}\")\n",
    "    print(f\"Initial theta = {theta_record[0]:.8f} Final theta = {theta_record[-1]:.8f}\")\n",
    "    vqe_PES.append(energy_record[-1])\n",
    "    # break\n"
   ]
  },
  {
   "cell_type": "code",
   "execution_count": 12,
   "metadata": {},
   "outputs": [
    {
     "data": {
      "text/plain": [
       "<matplotlib.legend.Legend at 0x7f94b3a43a20>"
      ]
     },
     "execution_count": 12,
     "metadata": {},
     "output_type": "execute_result"
    },
    {
     "data": {
      "image/png": "[encoded data removed]",
      "text/plain": [
       "<Figure size 432x288 with 1 Axes>"
      ]
     },
     "metadata": {
      "needs_background": "light"
     },
     "output_type": "display_data"
    }
   ],
   "source": [
    "plt.title('H2 dissociation, STO-3G')\n",
    "plt.xlabel(r'R ($A^\\circ$)',fontsize=20)\n",
    "plt.ylabel(r'Energy ($E_h$)',fontsize=14)\n",
    "\n",
    "plt.plot(bond_lengths, FCI_PES, label='FCI')\n",
    "plt.plot(bond_lengths, vqe_PES, label='VQE')\n",
    "\n",
    "plt.legend()"
   ]
  },
  {
   "cell_type": "code",
   "execution_count": 9,
   "metadata": {},
   "outputs": [
    {
     "data": {
      "text/plain": [
       "array([ 0.15748213, -0.84889911, -1.08822818, -1.13692896, -1.12295705,\n",
       "       -1.08876454, -1.05044204, -1.01546817, -0.98739306, -0.96702591,\n",
       "       -0.95342424, -0.94490899, -0.93981979, -0.9368706 , -0.93519603])"
      ]
     },
     "execution_count": 9,
     "metadata": {},
     "output_type": "execute_result"
    }
   ],
   "source": [
    "FCI_PES"
   ]
  },
  {
   "cell_type": "code",
   "execution_count": 26,
   "metadata": {},
   "outputs": [
    {
     "data": {
      "text/plain": [
       "[2.422301892370016,\n",
       " 0.20002812261582759,\n",
       " -0.5399356482900576,\n",
       " -0.8651958519605847,\n",
       " -1.022338640436373,\n",
       " -1.0980075996832,\n",
       " -1.1299293875162784,\n",
       " -1.1372751372298535,\n",
       " -1.1307666252330628,\n",
       " -1.1165961674337894,\n",
       " -1.0983868069185334,\n",
       " -1.0783523970296849,\n",
       " -1.0579608378145704,\n",
       " -1.0382431608803926,\n",
       " -1.019916790031067]"
      ]
     },
     "execution_count": 26,
     "metadata": {},
     "output_type": "execute_result"
    }
   ],
   "source": [
    "vqe_PES"
   ]
  },
  {
   "cell_type": "code",
   "execution_count": null,
   "metadata": {},
   "outputs": [],
   "source": []
  }
 ],
 "metadata": {
  "interpreter": {
   "hash": "4bf04b35c1a0e41baf3f0680b72ab1e03cb5149b176305504c02bb0bf6c470e3"
  },
  "kernelspec": {
   "display_name": "Python 3",
   "language": "python",
   "name": "python3"
  },
  "language_info": {
   "codemirror_mode": {
    "name": "ipython",
    "version": 3
   },
   "file_extension": ".py",
   "mimetype": "text/x-python",
   "name": "python",
   "nbconvert_exporter": "python",
   "pygments_lexer": "ipython3",
   "version": "3.7.1"
  }
 },
 "nbformat": 4,
 "nbformat_minor": 2
}
