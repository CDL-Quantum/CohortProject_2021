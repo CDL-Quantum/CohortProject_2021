{
 "cells": [
  {
   "cell_type": "code",
   "execution_count": 1,
   "id": "5407199f",
   "metadata": {},
   "outputs": [],
   "source": [
    "import numpy as np\n",
    "import strawberryfields as sf\n",
    "from strawberryfields.apps import qchem\n",
    "import matplotlib.pyplot as plt"
   ]
  },
  {
   "cell_type": "code",
   "execution_count": 4,
   "id": "e5ab90cc",
   "metadata": {},
   "outputs": [],
   "source": [
    "w = sf.apps.data.Water(0).w\n",
    "U = sf.apps.data.Water(0).U"
   ]
  },
  {
   "cell_type": "code",
   "execution_count": 6,
   "id": "ef37f4a2",
   "metadata": {},
   "outputs": [
    {
     "ename": "TypeError",
     "evalue": "duschinsky() missing 4 required positional arguments: 'ri', 'rf', 'wf', and 'm'",
     "output_type": "error",
     "traceback": [
      "\u001b[0;31m---------------------------------------------------------------------------\u001b[0m",
      "\u001b[0;31mTypeError\u001b[0m                                 Traceback (most recent call last)",
      "\u001b[0;32m<ipython-input-6-5655a51e3aff>\u001b[0m in \u001b[0;36m<module>\u001b[0;34m\u001b[0m\n\u001b[0;32m----> 1\u001b[0;31m \u001b[0mUd\u001b[0m\u001b[0;34m,\u001b[0m \u001b[0mdelta\u001b[0m \u001b[0;34m=\u001b[0m \u001b[0mqchem\u001b[0m\u001b[0;34m.\u001b[0m\u001b[0mduschinsky\u001b[0m\u001b[0;34m(\u001b[0m\u001b[0mw\u001b[0m\u001b[0;34m,\u001b[0m \u001b[0mU\u001b[0m\u001b[0;34m)\u001b[0m\u001b[0;34m\u001b[0m\u001b[0;34m\u001b[0m\u001b[0m\n\u001b[0m",
      "\u001b[0;31mTypeError\u001b[0m: duschinsky() missing 4 required positional arguments: 'ri', 'rf', 'wf', and 'm'"
     ]
    }
   ],
   "source": [
    "Ud, delta = qchem.duschinsky(w, U)"
   ]
  },
  {
   "cell_type": "code",
   "execution_count": null,
   "id": "b7b3f3e7",
   "metadata": {},
   "outputs": [],
   "source": []
  }
 ],
 "metadata": {
  "kernelspec": {
   "display_name": "Python 3",
   "language": "python",
   "name": "python3"
  },
  "language_info": {
   "codemirror_mode": {
    "name": "ipython",
    "version": 3
   },
   "file_extension": ".py",
   "mimetype": "text/x-python",
   "name": "python",
   "nbconvert_exporter": "python",
   "pygments_lexer": "ipython3",
   "version": "3.7.10"
  }
 },
 "nbformat": 4,
 "nbformat_minor": 5
}
