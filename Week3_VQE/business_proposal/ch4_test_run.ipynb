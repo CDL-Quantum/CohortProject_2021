{
 "cells": [
  {
   "cell_type": "code",
   "execution_count": 1,
   "id": "3f2652d2",
   "metadata": {},
   "outputs": [],
   "source": [
    "import numpy as np\n",
    "import matplotlib.pyplot as plt\n",
    "from utility_modified import get_molecular_data, obtain_PES\n",
    "from tequila import QubitHamiltonian, Variable, quantumchemistry, gates, PauliString, minimize\n",
    "from timeit import default_timer as timer\n",
    "\n",
    "basis = 'sto-3g'"
   ]
  },
  {
   "cell_type": "markdown",
   "id": "f2bcfd03",
   "metadata": {},
   "source": [
    "## CH<sub>4</sub>"
   ]
  },
  {
   "cell_type": "code",
   "execution_count": 6,
   "id": "a269f3be",
   "metadata": {},
   "outputs": [],
   "source": [
    "bond_lengths = np.linspace(0.4,3.1,15)"
   ]
  },
  {
   "cell_type": "code",
   "execution_count": 7,
   "id": "c35d22e7",
   "metadata": {},
   "outputs": [
    {
     "data": {
      "text/plain": [
       "array([0.4       , 0.59285714, 0.78571429, 0.97857143, 1.17142857,\n",
       "       1.36428571, 1.55714286, 1.75      , 1.94285714, 2.13571429,\n",
       "       2.32857143, 2.52142857, 2.71428571, 2.90714286, 3.1       ])"
      ]
     },
     "execution_count": 7,
     "metadata": {},
     "output_type": "execute_result"
    }
   ],
   "source": [
    "bond_lengths"
   ]
  },
  {
   "cell_type": "code",
   "execution_count": 19,
   "id": "bb6dc18b",
   "metadata": {},
   "outputs": [
    {
     "data": {
      "text/plain": [
       "[['C', [0, 0, 0]],\n",
       " ['H', [0, 0, 'geometry']],\n",
       " ['H', [1.026719, 0, -0.363]],\n",
       " ['H', [-0.51336, -0.889165, -0.363]],\n",
       " ['H', [-0.51336, 0.889165, -0.363]]]"
      ]
     },
     "execution_count": 19,
     "metadata": {},
     "output_type": "execute_result"
    }
   ],
   "source": [
    "get_molecular_data('ch4', 'geometry')"
   ]
  },
  {
   "cell_type": "code",
   "execution_count": 9,
   "id": "04767776",
   "metadata": {},
   "outputs": [
    {
     "name": "stdout",
     "output_type": "stream",
     "text": [
      "E = -37.86621751879653 Eh\n",
      "E = -39.22049331823982 Eh\n",
      "E = -39.66266067467885 Eh\n",
      "E = -39.790678485843785 Eh\n",
      "E = -39.803473395265385 Eh\n",
      "E = -39.77389138803398 Eh\n",
      "E = -39.73165941305151 Eh\n",
      "E = -39.6903697646988 Eh\n",
      "E = -39.65632240114892 Eh\n",
      "E = -39.63167623173267 Eh\n",
      "E = -39.61572929998424 Eh\n",
      "E = -39.606282106557764 Eh\n",
      "E = -39.60102250479832 Eh\n",
      "E = -39.598220539904744 Eh\n",
      "E = -39.596781219341985 Eh\n"
     ]
    }
   ],
   "source": [
    "#Run FCI\n",
    "start = timer()\n",
    "FCI_PES = obtain_PES('ch4', bond_lengths, basis, method='fci')\n",
    "end = timer()"
   ]
  },
  {
   "cell_type": "code",
   "execution_count": 10,
   "id": "6f3c1a68",
   "metadata": {},
   "outputs": [
    {
     "data": {
      "text/plain": [
       "36.025298199999995"
      ]
     },
     "execution_count": 10,
     "metadata": {},
     "output_type": "execute_result"
    }
   ],
   "source": [
    "timefci_ch4 = end - start\n",
    "timefci_ch4"
   ]
  },
  {
   "cell_type": "code",
   "execution_count": 11,
   "id": "089b9538",
   "metadata": {},
   "outputs": [
    {
     "name": "stdout",
     "output_type": "stream",
     "text": [
      "E = -37.803205884193716 Eh\n",
      "E = -39.154504203080414 Eh\n",
      "E = -39.59269663721972 Eh\n",
      "E = -39.71551577929454 Eh\n",
      "E = -39.720990909811064 Eh\n",
      "E = -39.681015459232675 Eh\n",
      "E = -39.624427970417244 Eh\n",
      "E = -39.56413697440496 Eh\n",
      "E = -39.506336691603664 Eh\n",
      "E = -39.454180578376565 Eh\n",
      "E = -39.40907015155555 Eh\n",
      "E = -39.371202355461165 Eh\n",
      "E = -39.34007258332817 Eh\n",
      "E = -39.31488987333267 Eh\n",
      "E = -39.29479501432242 Eh\n"
     ]
    }
   ],
   "source": [
    "#Run HF\n",
    "start = timer()\n",
    "HF_PES = obtain_PES('ch4', bond_lengths, basis,  method='hf')\n",
    "end = timer()"
   ]
  },
  {
   "cell_type": "code",
   "execution_count": 12,
   "id": "b225f38e",
   "metadata": {},
   "outputs": [
    {
     "data": {
      "text/plain": [
       "22.67704931899999"
      ]
     },
     "execution_count": 12,
     "metadata": {},
     "output_type": "execute_result"
    }
   ],
   "source": [
    "timehf_ch4 = end - start\n",
    "timehf_ch4"
   ]
  },
  {
   "cell_type": "code",
   "execution_count": 14,
   "id": "9af33372",
   "metadata": {},
   "outputs": [
    {
     "name": "stdout",
     "output_type": "stream",
     "text": [
      "E = -37.86607830083085 Eh\n",
      "E = -39.22034993626758 Eh\n",
      "E = -39.66249783449593 Eh\n",
      "E = -39.79047775562272 Eh\n",
      "E = -39.803208352271156 Eh\n",
      "E = -39.77351589537611 Eh\n",
      "E = -39.73110184562123 Eh\n",
      "E = -39.68954077416322 Eh\n",
      "E = -39.655148863571775 Eh\n",
      "E = -39.630147145949294 Eh\n",
      "E = -39.61390566615684 Eh\n",
      "E = -39.6042587607636 Eh\n",
      "E = -39.59888955888644 Eh\n",
      "E = -39.59603628648385 Eh\n",
      "E = -39.59457798914622 Eh\n"
     ]
    }
   ],
   "source": [
    "#Run CCSD\n",
    "start = timer()\n",
    "CCSD_PES = obtain_PES('ch4', bond_lengths, basis,  method='ccsd')\n",
    "end = timer()"
   ]
  },
  {
   "cell_type": "code",
   "execution_count": 15,
   "id": "6386ac84",
   "metadata": {},
   "outputs": [
    {
     "data": {
      "text/plain": [
       "25.601187323000005"
      ]
     },
     "execution_count": 15,
     "metadata": {},
     "output_type": "execute_result"
    }
   ],
   "source": [
    "timeccsd_ch4 = end - start\n",
    "timeccsd_ch4"
   ]
  },
  {
   "cell_type": "code",
   "execution_count": 16,
   "id": "be835bdb",
   "metadata": {},
   "outputs": [
    {
     "name": "stdout",
     "output_type": "stream",
     "text": [
      "E = -37.86470454277618 Eh\n",
      "E = -39.21881445245562 Eh\n",
      "E = -39.66071981062167 Eh\n",
      "E = -39.78833788080658 Eh\n",
      "E = -39.80049515692875 Eh\n",
      "E = -39.76988839902356 Eh\n",
      "E = -39.72605700806382 Eh\n",
      "E = -39.68241702429142 Eh\n",
      "E = -39.645223592566786 Eh\n",
      "E = -39.61686695715621 Eh\n",
      "E = -39.597122358492186 Eh\n",
      "E = -39.58425299597415 Eh\n",
      "E = -39.57618637799907 Eh\n",
      "E = -39.57121850618874 Eh\n",
      "E = -39.56817103202858 Eh\n"
     ]
    }
   ],
   "source": [
    "#Run CISD\n",
    "start = timer()\n",
    "CISD_PES = obtain_PES('ch4', bond_lengths, basis,  method='cisd')\n",
    "end = timer()"
   ]
  },
  {
   "cell_type": "code",
   "execution_count": 17,
   "id": "6d995af9",
   "metadata": {},
   "outputs": [
    {
     "data": {
      "text/plain": [
       "13.902655589999995"
      ]
     },
     "execution_count": 17,
     "metadata": {},
     "output_type": "execute_result"
    }
   ],
   "source": [
    "timecisd_ch4 = end - start\n",
    "timecisd_ch4"
   ]
  },
  {
   "cell_type": "code",
   "execution_count": 18,
   "id": "91f5a804",
   "metadata": {},
   "outputs": [
    {
     "data": {
      "image/png": "[encoded data removed]",
      "text/plain": [
       "<Figure size 432x288 with 1 Axes>"
      ]
     },
     "metadata": {
      "needs_background": "light"
     },
     "output_type": "display_data"
    }
   ],
   "source": [
    "#Plot CH4 PESs\n",
    "\n",
    "plt.title('CH4 dissociation, STO-3G')\n",
    "plt.xlabel('R, Angstrom')\n",
    "plt.ylabel('E, Hartree')\n",
    "\n",
    "plt.plot(bond_lengths, FCI_PES, label='FCI')\n",
    "plt.scatter(bond_lengths, HF_PES, label='HF', color='orange')\n",
    "plt.scatter(bond_lengths, CCSD_PES, label='CCSD', color='purple')\n",
    "plt.scatter(bond_lengths, CISD_PES, label='CISD', color='green')\n",
    "\n",
    "plt.legend()\n",
    "plt.savefig('ch4_dissociation')"
   ]
  },
  {
   "cell_type": "code",
   "execution_count": null,
   "id": "c5cada99",
   "metadata": {},
   "outputs": [],
   "source": []
  }
 ],
 "metadata": {
  "kernelspec": {
   "display_name": "tequila_devel_3.6",
   "language": "python",
   "name": "tequila_devel_3.6"
  },
  "language_info": {
   "codemirror_mode": {
    "name": "ipython",
    "version": 3
   },
   "file_extension": ".py",
   "mimetype": "text/x-python",
   "name": "python",
   "nbconvert_exporter": "python",
   "pygments_lexer": "ipython3",
   "version": "3.7.10"
  }
 },
 "nbformat": 4,
 "nbformat_minor": 5
}
