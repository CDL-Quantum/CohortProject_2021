{
 "cells": [
  {
   "cell_type": "markdown",
   "id": "769a78e0",
   "metadata": {},
   "source": [
    "Quantum Circuits\n",
    "\n",
    "Quantum computers can only use a specific set of gates (universal gate set). Given the entanglers and their amplitudes found in Step 3, one can find corresponding representation of these operators in terms of elementary gates using the following procedure.\n"
   ]
  },
  {
   "cell_type": "code",
   "execution_count": 1,
   "id": "a0382350",
   "metadata": {},
   "outputs": [],
   "source": [
    "import tequila as tq\n",
    "from utility import *"
   ]
  },
  {
   "cell_type": "raw",
   "id": "ddab4145",
   "metadata": {},
   "source": [
    "First, we set up the Hamiltonian in Tequila's format and the unitary gates obtained in Step 3. "
   ]
  },
  {
   "cell_type": "code",
   "execution_count": 3,
   "id": "3dccd484",
   "metadata": {},
   "outputs": [
    {
     "name": "stdout",
     "output_type": "stream",
     "text": [
      "circuit: \n",
      "Rx(target=(0,), parameter=beta_0)\n",
      "Rz(target=(0,), parameter=gamma_0)\n",
      "Rx(target=(1,), parameter=beta_1)\n",
      "Rz(target=(1,), parameter=gamma_1)\n",
      "Rx(target=(2,), parameter=beta_2)\n",
      "Rz(target=(2,), parameter=gamma_2)\n",
      "Rx(target=(3,), parameter=beta_3)\n",
      "Rz(target=(3,), parameter=gamma_3)\n",
      "Exp-Pauli(target=(0, 1, 2, 3), control=(), parameter=tau_0, paulistring=X(0)Y(1)X(2)X(3))\n",
      "\n"
     ]
    }
   ],
   "source": [
    "H = tq.QubitHamiltonian.from_openfermion(get_qubit_hamiltonian('h2', 2, 'sto-3g', qubit_transf='jw'))\n",
    "\n",
    "a = tq.Variable(\"tau_0\")\n",
    "U = construct_QMF_ansatz(4)\n",
    "U += tq.gates.ExpPauli(paulistring=tq.PauliString.from_string(\"X(0)Y(1)X(2)X(3)\"), angle=a)\n",
    "print(U)"
   ]
  },
  {
   "cell_type": "markdown",
   "id": "7e312ea0",
   "metadata": {},
   "source": [
    "One can check the expectation value to see it is near the ground state energy."
   ]
  },
  {
   "cell_type": "code",
   "execution_count": 4,
   "id": "c039d5c3",
   "metadata": {},
   "outputs": [
    {
     "name": "stderr",
     "output_type": "stream",
     "text": [
      "WARNING:absl:No GPU/TPU found, falling back to CPU. (Set TF_CPP_MIN_LOG_LEVEL=0 and rerun for more info.)\n"
     ]
    },
    {
     "name": "stdout",
     "output_type": "stream",
     "text": [
      "-0.9486411121761625\n"
     ]
    }
   ],
   "source": [
    "E = tq.ExpectationValue(H=H, U=U)\n",
    "vars = {'beta_1': 3.141592624143881, 'beta_0': 3.141592624143881, 'tau_0': 1.1331410014096885, 'gamma_1': 0.0, 'beta_3': 0.0, 'gamma_3': 0.0, 'gamma_2': 0.0, 'gamma_0': 0.0, 'beta_2': 0.0} # values obtained from step 3\n",
    "print(tq.simulate(E, variables=vars))"
   ]
  },
  {
   "cell_type": "code",
   "execution_count": 5,
   "id": "0380ed2e",
   "metadata": {},
   "outputs": [
    {
     "name": "stderr",
     "output_type": "stream",
     "text": [
      "configrc.store_credentials:WARNING:1970-01-01 11:16:02,706: Credentials already present. Set overwrite=True to overwrite.\n"
     ]
    }
   ],
   "source": [
    "from qiskit import IBMQ\n",
    "IBMQ.save_account('47127133da8013cd8352510919c5df452c78eb470707ca21a19dd1acecc31fdf0df0b98d4bf187ddae420c658e55c52f85ac3fe9f27f06acd1fbff32c22590ec')"
   ]
  },
  {
   "cell_type": "code",
   "execution_count": 12,
   "id": "e1d35ca1",
   "metadata": {},
   "outputs": [
    {
     "data": {
      "text/plain": [
       "-0.9386970787051225"
      ]
     },
     "execution_count": 12,
     "metadata": {},
     "output_type": "execute_result"
    }
   ],
   "source": [
    "# list of devices available can be found in ibmq account page\n",
    "tq.simulate(E, variables=vars, samples=100, backend=\"qiskit\", device='ibmq_qasm_simulator')"
   ]
  },
  {
   "cell_type": "markdown",
   "id": "31c05e16",
   "metadata": {},
   "source": []
  },
  {
   "cell_type": "markdown",
   "id": "90942354",
   "metadata": {},
   "source": [
    "##Error mitigation protocol:\n",
    "\n",
    "Here we want to correct for violations of the particle conservation number introduced by QCC.\n",
    "Following ref[14] as suggested in the instructions we undertand that what needs to be done is to identify solutions that violate this symmetry and discard them. Given the decomposition of the total H into fragments :<Psi|H|Psi>=<Psi|A|Psi> +<Psi|B|Psi> = \\sum_n a_n |<Psi|f_n>|^2 + \\sum_n b_n |<Psi|g_n>|^2 where A and B are unitaries that commute and n is the label of the measurement(sample). If the projector of the number of particles, P_N=|N><N|, acting on f_n(g_n) gives zero then we discard a_n(b_n). Thus if  P_N|f_n> =0 or P_N|g_n>=0, then we get rid of the measurements a_n/b_n and re-compute <Psi|H|Psi> without them. \n",
    "We need to perform the following steps to achieve the goal:\n",
    "1. Write the two commutative unitary operators obtained through the QWC procedure in task 4 as a matrix and compute their eigenvectors f_n and g_n.\n",
    "2. Write the number operator N as a matrix operator in the qubit space, compute the eigenvectors and eigenvalues . Select the eigenvalues corresponding to the particle number 2 and construct the projector as \\sum_i |n_i><n_i| where i only includes n_i whose eigenvalue is 2.\n",
    "3. Simulate a_n |<Psi|f_n>|^2 and  b_n |<Psi|g_n>|^2 and for each measurement n compute P_N|f_n> =0 and P_N|g_n>. If it gives zero discard  a_n/b_n.\n",
    "4. Compute <Psi|H|Psi> including first all the measurements and then discarding the ones that violate conservation of particles. Compare the total energy and the expectation value of N in both cases. Did the error mitigation protocol improve the accuracy? Did it enforce the conservation of particles?"
   ]
  },
  {
   "cell_type": "markdown",
   "id": "85cd5aa0",
   "metadata": {},
   "source": [
    "3.Simulate <A> and <B> "
   ]
  },
  {
   "cell_type": "code",
   "execution_count": 74,
   "id": "cc6b1c0b",
   "metadata": {},
   "outputs": [
    {
     "ename": "NameError",
     "evalue": "name 'allzA' is not defined",
     "output_type": "error",
     "traceback": [
      "\u001b[0;31m---------------------------------------------------------------------------\u001b[0m",
      "\u001b[0;31mNameError\u001b[0m                                 Traceback (most recent call last)",
      "\u001b[0;32m<ipython-input-74-bef13ce88321>\u001b[0m in \u001b[0;36m<module>\u001b[0;34m\u001b[0m\n\u001b[0;32m----> 1\u001b[0;31m \u001b[0mallzA\u001b[0m\u001b[0;34m\u001b[0m\u001b[0;34m\u001b[0m\u001b[0m\n\u001b[0m",
      "\u001b[0;31mNameError\u001b[0m: name 'allzA' is not defined"
     ]
    }
   ],
   "source": []
  },
  {
   "cell_type": "markdown",
   "id": "9a069649",
   "metadata": {},
   "source": [
    "1. Write A and B taken from task 4 as matrices and compute eigenvectors."
   ]
  },
  {
   "cell_type": "code",
   "execution_count": 22,
   "id": "4bd2fb92",
   "metadata": {},
   "outputs": [],
   "source": [
    "X = np.array([[0.,  1.], [1.,  0.]])\n",
    "Y = np.array([[0., -1j], [1j,  0.]])\n",
    "Z = np.array([[1.,  0.], [0., -1.]])\n",
    "I = np.array([[1.,  0.], [0., 1.]])"
   ]
  },
  {
   "cell_type": "markdown",
   "id": "62e355c5",
   "metadata": {},
   "source": [
    "A=-0.3276081896748086 [] +\n",
    "0.15542669077992818 [Z0] +\n",
    "0.15660062488237944 [Z0 Z1] +\n",
    "0.04919764587136754 [Z0 Z1 Z3] +\n",
    "0.1062290449085607 [Z0 Z2] +\n",
    "-0.04919764587136754 [Z0 Z3] +\n",
    "0.1062290449085607 [Z1] +\n",
    "0.15542669077992818 [Z1 Z2] +\n",
    "-0.04919764587136754 [Z1 Z2 Z3] +\n",
    "0.16326768673564326 [Z2] +\n",
    "0.04919764587136754 [Z2 Z3]\n",
    "\n",
    "------------------------------------\n",
    "\n",
    "B=0.13716572937099472 [Z0] +\n",
    "0.13716572937099472 [Z1] +\n",
    "-0.13036292057109117 [Z2] +\n",
    "-0.13036292057109117 [Z3]"
   ]
  },
  {
   "cell_type": "code",
   "execution_count": 44,
   "id": "3a5694b1",
   "metadata": {},
   "outputs": [],
   "source": [
    "# Building  A for each qubit\n",
    "#I, X, Z = np.identity(2), np.array([[0, 1], [1, 0]]), np.array([[1, 0], [0, -1]])\n",
    "A_qubit0 = -0.3276081896748086 * I + 0.15542669077992818 * Z +0.15660062488237944*Z \n",
    "+ 0.04919764587136754*Z+0.1062290449085607*Z -0.04919764587136754*Z\n",
    "A_qubit1 = -0.3276081896748086 * I + (0.15660062488237944+0.04919764587136754+0.1062290449085607+0.15542669077992818-0.04919764587136754)*Z\n",
    "A_qubit2 = -0.3276081896748086 * I + (0.1062290449085607+0.15542669077992818-0.04919764587136754+0.16326768673564326+0.04919764587136754)*Z\n",
    "A_qubit3 = -0.3276081896748086 * I + (0.04919764587136754-0.04919764587136754-0.04919764587136754+0.04919764587136754)*Z\n",
    "#print('qubit0:',A_qubit0)\n"
   ]
  },
  {
   "cell_type": "code",
   "execution_count": 52,
   "id": "4899a786",
   "metadata": {},
   "outputs": [
    {
     "name": "stdout",
     "output_type": "stream",
     "text": [
      "\n",
      "The eigenvalues in the A_matrix: \n",
      " [-1.52099611e-02 -1.52099611e-02 -1.42945704e-02 -1.42945704e-02\n",
      " -3.70499271e-04 -3.70499271e-04 -3.48201277e-04 -3.48201277e-04\n",
      "  4.50283918e-05  4.50283918e-05  1.84853290e-03  1.84853290e-03\n",
      "  2.86504390e-03  2.86504390e-03  1.17617523e-01  1.17617523e-01]\n",
      "\n",
      "The eigenvectors in the A_matrix: \n",
      " [[0. 0. 0. 0. 0. 0. 0. 0. 1. 0. 0. 0. 0. 0. 0. 0.]\n",
      " [1. 0. 0. 0. 0. 0. 0. 0. 0. 0. 0. 0. 0. 0. 0. 0.]\n",
      " [0. 1. 0. 0. 0. 0. 0. 0. 0. 0. 0. 0. 0. 0. 0. 0.]\n",
      " [0. 0. 0. 0. 0. 0. 0. 0. 0. 0. 0. 0. 0. 0. 1. 0.]\n",
      " [0. 0. 1. 0. 0. 0. 0. 0. 0. 0. 0. 0. 0. 0. 0. 0.]\n",
      " [0. 0. 0. 0. 0. 0. 0. 0. 0. 0. 0. 1. 0. 0. 0. 0.]\n",
      " [0. 0. 0. 0. 0. 0. 0. 0. 0. 0. 0. 0. 0. 1. 0. 0.]\n",
      " [0. 0. 0. 1. 0. 0. 0. 0. 0. 0. 0. 0. 0. 0. 0. 0.]\n",
      " [0. 0. 0. 0. 1. 0. 0. 0. 0. 0. 0. 0. 0. 0. 0. 0.]\n",
      " [0. 0. 0. 0. 0. 0. 0. 0. 0. 1. 0. 0. 0. 0. 0. 0.]\n",
      " [0. 0. 0. 0. 0. 0. 0. 0. 0. 0. 1. 0. 0. 0. 0. 0.]\n",
      " [0. 0. 0. 0. 0. 1. 0. 0. 0. 0. 0. 0. 0. 0. 0. 0.]\n",
      " [0. 0. 0. 0. 0. 0. 0. 0. 0. 0. 0. 0. 1. 0. 0. 0.]\n",
      " [0. 0. 0. 0. 0. 0. 1. 0. 0. 0. 0. 0. 0. 0. 0. 0.]\n",
      " [0. 0. 0. 0. 0. 0. 0. 1. 0. 0. 0. 0. 0. 0. 0. 0.]\n",
      " [0. 0. 0. 0. 0. 0. 0. 0. 0. 0. 0. 0. 0. 0. 0. 1.]]\n"
     ]
    }
   ],
   "source": [
    "#Construct the A matrix for the 4 qubits:\n",
    "    \n",
    "A01=np.kron(A_qubit0,A_qubit1)\n",
    "A23=np.kron(A_qubit2, A_qubit3)\n",
    "A=np.kron(A01,A23)\n",
    "\n",
    "# Obtain the eigenvalues and eigenvectors\n",
    "\n",
    "eigvals, eigenvectors_ = np.linalg.eigh(A)\n",
    "print(\"\\nThe eigenvalues in the A_matrix: \\n {}\".format(eigvals))\n",
    "print(\"\\nThe eigenvectors in the A_matrix: \\n {}\".format(eigenvectors))"
   ]
  },
  {
   "cell_type": "code",
   "execution_count": 46,
   "id": "14b86c55",
   "metadata": {},
   "outputs": [],
   "source": [
    "# Building B for each qubit\n",
    "#I, X, Z = np.identity(2), np.array([[0, 1], [1, 0]]), np.array([[1, 0], [0, -1]])\n",
    "B_qubit0 = 0.13716572937099472*Z\n",
    "B_qubit1 = 0.13716572937099472*Z\n",
    "B_qubit2 = -0.13036292057109117*Z\n",
    "B_qubit3 = -0.13036292057109117*Z"
   ]
  },
  {
   "cell_type": "code",
   "execution_count": 53,
   "id": "718ca24e",
   "metadata": {},
   "outputs": [
    {
     "name": "stdout",
     "output_type": "stream",
     "text": [
      "\n",
      "The eigenvalues in the B_matrix: \n",
      " [-0.00031974 -0.00031974 -0.00031974 -0.00031974 -0.00031974 -0.00031974\n",
      " -0.00031974 -0.00031974  0.00031974  0.00031974  0.00031974  0.00031974\n",
      "  0.00031974  0.00031974  0.00031974  0.00031974]\n",
      "\n",
      "The eigenvectors in the B_matrix: \n",
      " [[0. 0. 0. 0. 0. 0. 0. 0. 1. 0. 0. 0. 0. 0. 0. 0.]\n",
      " [1. 0. 0. 0. 0. 0. 0. 0. 0. 0. 0. 0. 0. 0. 0. 0.]\n",
      " [0. 1. 0. 0. 0. 0. 0. 0. 0. 0. 0. 0. 0. 0. 0. 0.]\n",
      " [0. 0. 0. 0. 0. 0. 0. 0. 0. 0. 0. 0. 0. 0. 1. 0.]\n",
      " [0. 0. 1. 0. 0. 0. 0. 0. 0. 0. 0. 0. 0. 0. 0. 0.]\n",
      " [0. 0. 0. 0. 0. 0. 0. 0. 0. 0. 0. 1. 0. 0. 0. 0.]\n",
      " [0. 0. 0. 0. 0. 0. 0. 0. 0. 0. 0. 0. 0. 1. 0. 0.]\n",
      " [0. 0. 0. 1. 0. 0. 0. 0. 0. 0. 0. 0. 0. 0. 0. 0.]\n",
      " [0. 0. 0. 0. 1. 0. 0. 0. 0. 0. 0. 0. 0. 0. 0. 0.]\n",
      " [0. 0. 0. 0. 0. 0. 0. 0. 0. 1. 0. 0. 0. 0. 0. 0.]\n",
      " [0. 0. 0. 0. 0. 0. 0. 0. 0. 0. 1. 0. 0. 0. 0. 0.]\n",
      " [0. 0. 0. 0. 0. 1. 0. 0. 0. 0. 0. 0. 0. 0. 0. 0.]\n",
      " [0. 0. 0. 0. 0. 0. 0. 0. 0. 0. 0. 0. 1. 0. 0. 0.]\n",
      " [0. 0. 0. 0. 0. 0. 1. 0. 0. 0. 0. 0. 0. 0. 0. 0.]\n",
      " [0. 0. 0. 0. 0. 0. 0. 1. 0. 0. 0. 0. 0. 0. 0. 0.]\n",
      " [0. 0. 0. 0. 0. 0. 0. 0. 0. 0. 0. 0. 0. 0. 0. 1.]]\n"
     ]
    }
   ],
   "source": [
    "#Construct the B matrix for the 4 qubits:\n",
    "    \n",
    "B01=np.kron(B_qubit0,B_qubit1)\n",
    "B23=np.kron(B_qubit2, B_qubit3)\n",
    "B=np.kron(B01,B23)\n",
    "\n",
    "# Obtain the eigenvalues and eigenvectors of B\n",
    "#eigvals, _ = np.linalg.eigh(B)\n",
    "eigvals, eigenvectors  = np.linalg.eigh(B)\n",
    "print(\"\\nThe eigenvalues in the B_matrix: \\n {}\".format(eigvals))\n",
    "print(\"\\nThe eigenvectors in the B_matrix: \\n {}\".format(eigenvectors))"
   ]
  },
  {
   "cell_type": "code",
   "execution_count": 62,
   "id": "e6712961",
   "metadata": {},
   "outputs": [
    {
     "name": "stdout",
     "output_type": "stream",
     "text": [
      "-0.3276081896748089 [] +\n",
      "-0.04919764587136759 [X0 X1 Y2 Y3] +\n",
      "0.04919764587136759 [X0 Y1 Y2 X3] +\n",
      "0.04919764587136759 [Y0 X1 X2 Y3] +\n",
      "-0.04919764587136759 [Y0 Y1 X2 X3] +\n",
      "0.13716572937099494 [Z0] +\n",
      "0.15660062488237958 [Z0 Z1] +\n",
      "0.10622904490856085 [Z0 Z2] +\n",
      "0.15542669077992843 [Z0 Z3] +\n",
      "0.13716572937099494 [Z1] +\n",
      "0.15542669077992843 [Z1 Z2] +\n",
      "0.10622904490856085 [Z1 Z3] +\n",
      "-0.1303629205710914 [Z2] +\n",
      "0.1632676867356435 [Z2 Z3] +\n",
      "-0.13036292057109133 [Z3]\n"
     ]
    }
   ],
   "source": [
    "qubit_transf = 'jw' # Jordan-Wigner transformations\n",
    "h2 = get_qubit_hamiltonian(mol='h2', geometry=1, basis='sto3g', qubit_transf=qubit_transf)\n",
    "print(h2)"
   ]
  },
  {
   "cell_type": "code",
   "execution_count": null,
   "id": "d6bd7adc",
   "metadata": {},
   "outputs": [],
   "source": [
    "#Construct the N matrix and compute eigenvals and eigenvectors.\n",
    "#N is taken from eq 6 in ref [14]."
   ]
  },
  {
   "cell_type": "code",
   "execution_count": null,
   "id": "ef63a9a4",
   "metadata": {},
   "outputs": [],
   "source": [
    "# Defining pauli matrices \n",
    "I, X, Y, Z = np.identity(2), np.array([[0, 1], [1, 0]]), np.array([[0, -1j], [1j, 0]]), np.array([[1, 0], [0, -1]])"
   ]
  },
  {
   "cell_type": "code",
   "execution_count": 8,
   "id": "8723f0ad",
   "metadata": {},
   "outputs": [
    {
     "name": "stdout",
     "output_type": "stream",
     "text": [
      "-0.5000Z(0)-0.5000Z(0)Z(1)-0.5000Z(2)-0.5000Z(1)Z(2)Z(3)+2.0000\n"
     ]
    }
   ],
   "source": [
    "Z0=tq.paulis.Z(0)\n",
    "Z1=tq.paulis.Z(1)\n",
    "Z2=tq.paulis.Z(2)\n",
    "Z3=tq.paulis.Z(3)\n",
    "Nop=2-0.5*(Z0 +Z1*Z0+Z2+Z3*Z2*Z1)\n",
    "print(Nop)"
   ]
  },
  {
   "cell_type": "code",
   "execution_count": 73,
   "id": "6ff49c6f",
   "metadata": {},
   "outputs": [
    {
     "ename": "TypeError",
     "evalue": "'float' object is not subscriptable",
     "output_type": "error",
     "traceback": [
      "\u001b[0;31m---------------------------------------------------------------------------\u001b[0m",
      "\u001b[0;31mTypeError\u001b[0m                                 Traceback (most recent call last)",
      "\u001b[0;32m<ipython-input-73-4cdc43c3ccee>\u001b[0m in \u001b[0;36m<module>\u001b[0;34m\u001b[0m\n\u001b[0;32m----> 1\u001b[0;31m \u001b[0mNop\u001b[0m\u001b[0;34m=\u001b[0m \u001b[0;34m-\u001b[0m\u001b[0;36m0.13036292057109133\u001b[0m \u001b[0;34m[\u001b[0m\u001b[0mZ3\u001b[0m\u001b[0;34m]\u001b[0m\u001b[0;34m\u001b[0m\u001b[0;34m\u001b[0m\u001b[0m\n\u001b[0m\u001b[1;32m      2\u001b[0m \u001b[0;31m#2.0*Z0-0.5*(Z0+Z1*Z0)\u001b[0m\u001b[0;34m\u001b[0m\u001b[0;34m\u001b[0m\u001b[0;34m\u001b[0m\u001b[0m\n",
      "\u001b[0;31mTypeError\u001b[0m: 'float' object is not subscriptable"
     ]
    }
   ],
   "source": [
    "Nop= -0.13036292057109133 [Z3]\n",
    "#2.0*Z0-0.5*(Z0+Z1*Z0)"
   ]
  },
  {
   "cell_type": "code",
   "execution_count": 71,
   "id": "0c5e7101",
   "metadata": {},
   "outputs": [
    {
     "ename": "AttributeError",
     "evalue": "'QubitHamiltonian' object has no attribute 'terms'",
     "output_type": "error",
     "traceback": [
      "\u001b[0;31m---------------------------------------------------------------------------\u001b[0m",
      "\u001b[0;31mAttributeError\u001b[0m                            Traceback (most recent call last)",
      "\u001b[0;32m<ipython-input-71-4a56f340ae3c>\u001b[0m in \u001b[0;36m<module>\u001b[0;34m\u001b[0m\n\u001b[1;32m      3\u001b[0m \u001b[0mn_qubits\u001b[0m\u001b[0;34m=\u001b[0m\u001b[0;36m4\u001b[0m\u001b[0;34m\u001b[0m\u001b[0;34m\u001b[0m\u001b[0m\n\u001b[1;32m      4\u001b[0m \u001b[0mN_matrix\u001b[0m \u001b[0;34m=\u001b[0m \u001b[0mnp\u001b[0m\u001b[0;34m.\u001b[0m\u001b[0mzeros\u001b[0m\u001b[0;34m(\u001b[0m\u001b[0;34m(\u001b[0m\u001b[0;36m2\u001b[0m\u001b[0;34m**\u001b[0m\u001b[0mn_qubits\u001b[0m\u001b[0;34m,\u001b[0m \u001b[0;36m2\u001b[0m\u001b[0;34m**\u001b[0m\u001b[0mn_qubits\u001b[0m\u001b[0;34m)\u001b[0m\u001b[0;34m,\u001b[0m \u001b[0mdtype\u001b[0m\u001b[0;34m=\u001b[0m\u001b[0mnp\u001b[0m\u001b[0;34m.\u001b[0m\u001b[0mcomplex\u001b[0m\u001b[0;34m)\u001b[0m\u001b[0;34m\u001b[0m\u001b[0;34m\u001b[0m\u001b[0m\n\u001b[0;32m----> 5\u001b[0;31m \u001b[0;32mfor\u001b[0m \u001b[0mterm\u001b[0m\u001b[0;34m,\u001b[0m \u001b[0mterm_coeff\u001b[0m \u001b[0;32min\u001b[0m \u001b[0mNop\u001b[0m\u001b[0;34m.\u001b[0m\u001b[0mterms\u001b[0m\u001b[0;34m.\u001b[0m\u001b[0mitems\u001b[0m\u001b[0;34m(\u001b[0m\u001b[0;34m)\u001b[0m\u001b[0;34m:\u001b[0m \u001b[0;31m# Iterate over pauli-words of N\u001b[0m\u001b[0;34m\u001b[0m\u001b[0;34m\u001b[0m\u001b[0m\n\u001b[0m\u001b[1;32m      6\u001b[0m     \u001b[0mterm\u001b[0m \u001b[0;34m=\u001b[0m \u001b[0mdict\u001b[0m\u001b[0;34m(\u001b[0m\u001b[0mterm\u001b[0m\u001b[0;34m)\u001b[0m \u001b[0;31m# Dict[qubit_index, 'X'/'Y'/'Z']\u001b[0m\u001b[0;34m\u001b[0m\u001b[0;34m\u001b[0m\u001b[0m\n\u001b[1;32m      7\u001b[0m \u001b[0;34m\u001b[0m\u001b[0m\n",
      "\u001b[0;31mAttributeError\u001b[0m: 'QubitHamiltonian' object has no attribute 'terms'"
     ]
    }
   ],
   "source": [
    "\n",
    "# Build matrix representiation of the operator N\n",
    "#n_qubits = openfermion.count_qubits(h2)\n",
    "n_qubits=4\n",
    "N_matrix = np.zeros((2**n_qubits, 2**n_qubits), dtype=np.complex)\n",
    "for term, term_coeff in Nop.terms.items(): # Iterate over pauli-words of N\n",
    "    term = dict(term) # Dict[qubit_index, 'X'/'Y'/'Z']\n",
    "    \n",
    "    # Build matrix rep of current pauli-word using kronecker product to represent x_i y_j ...\n",
    "    pw_matrix = np.identity(1)\n",
    "    for i in range(n_qubits):\n",
    "        if i not in term:        pw_matrix = np.kron(pw_matrix, I)\n",
    "        else:\n",
    "            if term[i] == 'X':   pw_matrix = np.kron(pw_matrix, X)\n",
    "            elif term[i] == 'Y': pw_matrix = np.kron(pw_matrix, Y)\n",
    "            else:                pw_matrix = np.kron(pw_matrix, Z)\n",
    "    N_matrix += pw_matrix * term_coeff\n",
    "\n",
    "eigvals, _ = np.linalg.eigh(N_matrix)\n",
    "#print(\"The ground state energy from S1: \")\n",
    "#obtain_PES('h2', [1], 'sto-3g', 'fci')\n",
    "print(\"\\nThe eigenvalues in the matrix representation of N: \\n{}\".format(eigvals))"
   ]
  },
  {
   "cell_type": "code",
   "execution_count": 57,
   "id": "edcd889e",
   "metadata": {},
   "outputs": [],
   "source": [
    "#Matrix form of N\n",
    "N_qubit0 = 2.0*I-0.5*(2.0*Z)\n",
    "N_qubit1 = 2.0*I-0.5*(2.0)*Z\n",
    "N_qubit2 =2.0*I -0.5*(2.0)*Z\n",
    "N_qubit3 = 2.0*I-0.5*Z"
   ]
  },
  {
   "cell_type": "code",
   "execution_count": 58,
   "id": "4a800d5b",
   "metadata": {},
   "outputs": [
    {
     "name": "stdout",
     "output_type": "stream",
     "text": [
      "\n",
      "The eigenvalues in the N_matrix: \n",
      " [ 1.5  2.5  4.5  4.5  4.5  7.5  7.5  7.5 13.5 13.5 13.5 22.5 22.5 22.5\n",
      " 40.5 67.5]\n",
      "\n",
      "The eigenvectors in the B_matrix: \n",
      " [[1. 0. 0. 0. 0. 0. 0. 0. 0. 0. 0. 0. 0. 0. 0. 0.]\n",
      " [0. 1. 0. 0. 0. 0. 0. 0. 0. 0. 0. 0. 0. 0. 0. 0.]\n",
      " [0. 0. 1. 0. 0. 0. 0. 0. 0. 0. 0. 0. 0. 0. 0. 0.]\n",
      " [0. 0. 0. 0. 0. 0. 1. 0. 0. 0. 0. 0. 0. 0. 0. 0.]\n",
      " [0. 0. 0. 1. 0. 0. 0. 0. 0. 0. 0. 0. 0. 0. 0. 0.]\n",
      " [0. 0. 0. 0. 0. 1. 0. 0. 0. 0. 0. 0. 0. 0. 0. 0.]\n",
      " [0. 0. 0. 0. 0. 0. 0. 0. 1. 0. 0. 0. 0. 0. 0. 0.]\n",
      " [0. 0. 0. 0. 0. 0. 0. 0. 0. 0. 0. 0. 1. 0. 0. 0.]\n",
      " [0. 0. 0. 0. 1. 0. 0. 0. 0. 0. 0. 0. 0. 0. 0. 0.]\n",
      " [0. 0. 0. 0. 0. 0. 0. 1. 0. 0. 0. 0. 0. 0. 0. 0.]\n",
      " [0. 0. 0. 0. 0. 0. 0. 0. 0. 1. 0. 0. 0. 0. 0. 0.]\n",
      " [0. 0. 0. 0. 0. 0. 0. 0. 0. 0. 0. 1. 0. 0. 0. 0.]\n",
      " [0. 0. 0. 0. 0. 0. 0. 0. 0. 0. 1. 0. 0. 0. 0. 0.]\n",
      " [0. 0. 0. 0. 0. 0. 0. 0. 0. 0. 0. 0. 0. 1. 0. 0.]\n",
      " [0. 0. 0. 0. 0. 0. 0. 0. 0. 0. 0. 0. 0. 0. 1. 0.]\n",
      " [0. 0. 0. 0. 0. 0. 0. 0. 0. 0. 0. 0. 0. 0. 0. 1.]]\n"
     ]
    }
   ],
   "source": [
    "#Construct the N matrix for the 4 qubits:\n",
    "    \n",
    "N01=np.kron(N_qubit0,N_qubit1)\n",
    "N23=np.kron(N_qubit2, N_qubit3)\n",
    "N=np.kron(N01,N23)\n",
    "\n",
    "# Obtain the eigenvalues and eigenvectors of N\n",
    "#eigvals, _ = np.linalg.eigh(B)\n",
    "eigvals, eigenvectors  = np.linalg.eigh(N)\n",
    "print(\"\\nThe eigenvalues in the N_matrix: \\n {}\".format(eigvals))\n",
    "print(\"\\nThe eigenvectors in the B_matrix: \\n {}\".format(eigenvectors))"
   ]
  },
  {
   "cell_type": "code",
   "execution_count": 9,
   "id": "de3fb57c",
   "metadata": {},
   "outputs": [
    {
     "name": "stdout",
     "output_type": "stream",
     "text": [
      "Objective with 1 unique expectation values\n",
      "total measurements = 1\n",
      "variables          = 9\n",
      "types              = not compiled\n"
     ]
    }
   ],
   "source": [
    "Ne=tq.ExpectationValue(H=Nop,U=U)\n",
    "print(Ne)"
   ]
  },
  {
   "cell_type": "code",
   "execution_count": 10,
   "id": "55016904",
   "metadata": {},
   "outputs": [
    {
     "name": "stdout",
     "output_type": "stream",
     "text": [
      "1.7119084561361877\n"
     ]
    }
   ],
   "source": [
    "print(tq.simulate(Ne,variables = vars))"
   ]
  }
 ],
 "metadata": {
  "kernelspec": {
   "display_name": "Python 3",
   "language": "python",
   "name": "python3"
  },
  "language_info": {
   "codemirror_mode": {
    "name": "ipython",
    "version": 3
   },
   "file_extension": ".py",
   "mimetype": "text/x-python",
   "name": "python",
   "nbconvert_exporter": "python",
   "pygments_lexer": "ipython3",
   "version": "3.9.5"
  }
 },
 "nbformat": 4,
 "nbformat_minor": 5
}
