{
 "cells": [
  {
   "cell_type": "markdown",
   "id": "ee1f074e",
   "metadata": {},
   "source": [
    "# Task 1 "
   ]
  },
  {
   "cell_type": "markdown",
   "id": "7e0084bf",
   "metadata": {},
   "source": [
    "In this cohort project, we illustrate the VQE process using the IBM quantum computer. For Task 1, we first simulate the system with the classical algorithm. We repeat the example process of H2 and H20 molecules and generate more results for other molecules with four different methods. Hartree-Fock (HF), Configuration Interaction Singles and Doubles (CISD), Coupled-Cluster Singles and Doubles (CCSD), and Full Configuration Interaction (FCI). Using the method, we obtain the ground state PES of the molecules both on a classical computer using classical methods and the VQE simulator. \n",
    "\n",
    "![CDL 2020 Cohort Project](fig/task1_f1.png)\n",
    "\n",
    "**Figures: PES calculation of molecular energy with four different methods (HF, CISD, CCSD, FCI)**\n"
   ]
  },
  {
   "cell_type": "markdown",
   "id": "480bc2f4",
   "metadata": {},
   "source": [
    "From the figrue above, we show the two different results: weakly correlated (H2, LiH) and strongly correlated (H4, H2O, N2) systems.\n",
    "\n",
    "Since the classical algorithm can make a good approximation to the weakly correlated election system, we do not see any big diverging behavior throughout the inter-atomic distance. However, as is expected, for the strongly correlated system, we can see diverging behaviors, and we often are quire off from our exact solution (FCI). \n",
    "\n",
    "This effect is more noticeable with the case of H4, none of the points except the faraway distance shows correct energy estimation. This is because the H4 system has more contribution from four hydrogens being correlated. On the other hand, the LiH system shows good converging behavior because of the stable system which does not purturb system.\n",
    "\n",
    "Unfortunately, we are not able to converge CISD method in our simultation. "
   ]
  },
  {
   "cell_type": "markdown",
   "id": "9f10e69d",
   "metadata": {},
   "source": [
    "**Q1 Among classical methods, there are techniques based on the variational approach and those\n",
    "that are not.** "
   ]
  },
  {
   "cell_type": "markdown",
   "id": "7179783a",
   "metadata": {},
   "source": [
    "FCI method provides the exact answer it scales exponentially with the number of basis functions. Unlike the variational solution like HF and CISD, CCSD consider that the cluster operator T are restricted to singles and doubles. Since it is not vriational method, it has great failure with presence of strong correlation (1)\n"
   ]
  },
  {
   "cell_type": "markdown",
   "id": "cbb7c582",
   "metadata": {},
   "source": [
    "**Q2 Check separability of HF, CISD, and CCSD by taking 2 H2 fragments at a large distance from each other and comparing the total energy with 2 energies of one H2 molecule. Explain your results.**"
   ]
  },
  {
   "cell_type": "markdown",
   "id": "ea7f56e9",
   "metadata": {},
   "source": [
    "| System\\Method | FCI | HF | CCSD | CISD |\n",
    "| --- | --- | --- | --- | --- |\n",
    "| H2+H2 |  -1.86 | -1.09 |  -1.86 | x |\n",
    "| H4 | -1.86 |  -1.09 | -1.86 | x |\n",
    "| dif | 0 | 0 | 0 | x |\n",
    "\n",
    "**Table: separability of H2 and H4 molecule**"
   ]
  },
  {
   "cell_type": "markdown",
   "id": "f652123b",
   "metadata": {},
   "source": [
    "We present in the Table shown above, Energy of the H4 and two seperate H2 molecule, and show the difference between them. We generate bond length from 99 to 100 with 10 data and take value for ananysis. The result shows that all the method (except CISD) have great seperability. As we can expect, if the distance between Hydrogen inside of H2 or H4 became really large, we can safely assume that it will become signle hydrogen system. Since Hydrogen Eg= 0.49 Eh, so 4 x Eg= 1.9, which is very close with CCSD and FCI solution."
   ]
  },
  {
   "cell_type": "markdown",
   "id": "07b99f46",
   "metadata": {},
   "source": [
    "**Q3 Convergences along the second coordinate requires the basis set extension from STO3G\n",
    "to a series like cc-pVDZ, cc-pVTZ, cc-pVQZ, cc-pV5Z. Explore for a small system like H2 both\n",
    "convergences. Which energies should be expected to be closer to experimentally measured ones?**"
   ]
  },
  {
   "cell_type": "markdown",
   "id": "3c355249",
   "metadata": {},
   "source": [
    "| basis\\Method | HF | CCSD | CISD |\n",
    "| --- | --- | --- | --- |\n",
    "| sto3g |  12.92 | 2.35E-6 | x |\n",
    "| ccpdz | 9.35 |  1.30E-6 | x |\n",
    "| ccpvtz | 19.13 | 2.33E-5 | x |\n",
    "| ccpvqz | 45.74 | 2.66E-6 | x |\n",
    "| ccpv5z | x | x | x |\n",
    "**Table: Error between FCI method**\n",
    "\n",
    "We also have tried with other basis such as cc-pVDZ, cc-pVTZ, cc-pVQZ, cc-pV5Z. Unfortunately, ccpv5z is taking too much time, so we could not converge the result. The results in the table is the energy difference between the each method and FCI soltuon (Emethod-EFCI). The bond length is 0.2 to 3 with 15 data points, and we calculate the difference and calculate the mean value of the error. As shown in the figure, CCSD shows quite good accuracy, but the HF method failed to converge to right solution. In particular method with ccpvqz, accuracy is drop to 54%. ccpdz with CCSD method shows the best accuracy. However, I suspect that ccpv5z will show better accuracy if I give enough time to calculate the solution."
   ]
  },
  {
   "cell_type": "markdown",
   "id": "64a9110b",
   "metadata": {},
   "source": [
    "# Task 2"
   ]
  },
  {
   "cell_type": "markdown",
   "id": "362d03f3",
   "metadata": {},
   "source": [
    "In the task 2, we want to simulate the molecular system in quantum computer. To do that, we need to find the way to simulate the Hamiltonian in quantum computer. This can be done by generating Hamiltonian in the second quantized system and tranformation from fermion to qubit (2). As illustrated in the instruction,\n",
    "\n",
    "1. To proceed to VQE one needs to generate the qubit Hamiltonian, the easiest path is via first\n",
    "generating the electronic Hamiltonian in the second quantized form and then transform it into the\n",
    "qubit form using one of the fermion-to-qubit transformations: Jordan-Wigner or Bravyi-Kitaev.\n",
    "\n",
    "2. Next, some qubit operators can be substituted by numbers (±1) because their states are stationary\n",
    "for the specific electronic state (e.g. ground state). \n"
   ]
  },
  {
   "cell_type": "markdown",
   "id": "1f799ee1",
   "metadata": {},
   "source": [
    "![CDL 2020 Cohort Project](fig/task2_f1.png)\n",
    "\n",
    "**Figures: Hamiltonian comparison between jw tranformation and bk transformation**"
   ]
  },
  {
   "cell_type": "markdown",
   "id": "4656d068",
   "metadata": {},
   "source": [
    "**Q1 What are the cons and pros of the Bravyi-Kitaev transformation compared to the Jordan Wigner transformations?**\n",
    "\n",
    "Bravyi hamiltonian (3) as shown in the figure, it has signficant smaller size problem. By only considering the effective Hamiltonian, we can reduce the complexity of the problem which will greatly increase the accuracy of the calculation in quantum computer. As we are limiting hamiltonian, this will not describe whole system, but we can get exact modeling of the system, but it was not found any significant advatage of using jw or bk.\n"
   ]
  },
  {
   "cell_type": "markdown",
   "id": "dcefc72b",
   "metadata": {},
   "source": [
    "**Q2 What are the requirements for a function of qubit operators to be a valid mapping for the\n",
    "fermionic operators?**\n",
    "\n",
    "As it is mentioned in Ref.(3), quantum computer are based on qubits rather than fermi modes, simulation should be encoded in fermionic degrees of freedom by qubits. In the BK transfomration, it is beneficial to have symmetry in particle number conservation, which can reduce the number of qubits."
   ]
  },
  {
   "cell_type": "markdown",
   "id": "035c1b8e",
   "metadata": {},
   "source": [
    "**Q3 The electronic Hamiltonian is real (due to time-reversal symmetry), what consequences does\n",
    "that have on the terms in the qubit Hamiltonian after the Jordan-Wigner transformation?**\n",
    "\n",
    "\n"
   ]
  },
  {
   "cell_type": "markdown",
   "id": "895274b1",
   "metadata": {},
   "source": [
    "1. Joonho Lee, William J. Huggins, Martin Head-Gordon, and K. Birgitta Whaley, Journal of Chemical Theory and Computation 2019 15 (1), 311-324\n",
    "2. Jacob T. Seeley, Martin J. Richard, and Peter J. Love. The bravyi-kitaev transformation for\n",
    "quantum computation of electronic structure. J. Chem. Phys., 137:224109–224109, Dec 2012\n",
    "3. Bravyi et al., \"Tapering off qubits to simulate fermionic Hamiltonians\", arXiv:1701.08213"
   ]
  }
 ],
 "metadata": {
  "kernelspec": {
   "display_name": "Python 3",
   "language": "python",
   "name": "python3"
  },
  "language_info": {
   "codemirror_mode": {
    "name": "ipython",
    "version": 3
   },
   "file_extension": ".py",
   "mimetype": "text/x-python",
   "name": "python",
   "nbconvert_exporter": "python",
   "pygments_lexer": "ipython3",
   "version": "3.8.10"
  },
  "toc": {
   "base_numbering": 1,
   "nav_menu": {},
   "number_sections": true,
   "sideBar": true,
   "skip_h1_title": false,
   "title_cell": "Table of Contents",
   "title_sidebar": "Contents",
   "toc_cell": false,
   "toc_position": {},
   "toc_section_display": true,
   "toc_window_display": true
  }
 },
 "nbformat": 4,
 "nbformat_minor": 5
}
