{
 "cells": [
  {
   "cell_type": "markdown",
   "metadata": {},
   "source": [
    "# Measurement Grouping\n",
    "\n",
    "Since current quantum hardware is limited to single-qubit projective measurement, only terms commuting within individual qubit's subspace can be measured together. These terms are said to be qubit-wise commuting (QWC). \n",
    "\n",
    "Thus, one can not measure the entire electronic Hamiltonian $\\hat H$ at once, and instead needs to separate it into fragments. \n",
    "$$\\hat H = \\sum_n \\hat H_n$$\n",
    "where each $\\hat H_n$ is a QWC fragment. "
   ]
  },
  {
   "cell_type": "code",
   "execution_count": 1,
   "metadata": {},
   "outputs": [
    {
     "name": "stderr",
     "output_type": "stream",
     "text": [
      "/Users/ritabanchowdhury/.local/lib/python3.7/site-packages/pyscf/lib/misc.py:46: H5pyDeprecationWarning: Using default_file_mode other than 'r' is deprecated. Pass the mode to h5py.File() instead.\n",
      "  h5py.get_config().default_file_mode = 'a'\n"
     ]
    }
   ],
   "source": [
    "from utility import * "
   ]
  },
  {
   "cell_type": "markdown",
   "metadata": {},
   "source": [
    "Here we use $H_2$ as an example for finding QWC fragments. Notice below that each fragment has the same terms on all qubits.  \n",
    "\n",
    "To show differences between QWC and more advanced grouping, we didn't use the qubit-tappering techinique shown in step 2."
   ]
  },
  {
   "cell_type": "code",
   "execution_count": 2,
   "metadata": {
    "tags": []
   },
   "outputs": [
    {
     "name": "stdout",
     "output_type": "stream",
     "text": [
      "Fragments 1: \n",
      "-0.00018431338897360644 [X0 Z1 Z2 Y3 Y4 Z5 Z6 Z7 Z8 Z9 Z10 X11] +\n",
      "0.06558452315458405 [Z6 Z8] +\n",
      "0.06980180803300676 [Z6 Z9] +\n",
      "0.06980180803300676 [Z7 Z8] +\n",
      "0.06558452315458405 [Z7 Z9]\n",
      "\n",
      "Fragments 2:\n",
      "-0.0014982042400604148 [Y0 Z1 Z2 Z3 Z4 Z5 Y6 Y7 Z8 Z9 Z10 Y11] +\n",
      "0.09907704108249506 [Z1 Z8] +\n",
      "0.09662223425385628 [Z1 Z9] +\n",
      "0.06278876343471385 [Z2 Z8] +\n",
      "0.06878552428444606 [Z2 Z9] +\n",
      "0.06878552428444606 [Z3 Z8] +\n",
      "0.06278876343471385 [Z3 Z9] +\n",
      "0.060225501399544155 [Z4 Z8] +\n",
      "0.07055432072184806 [Z4 Z9] +\n",
      "0.07055432072184806 [Z5 Z8] +\n",
      "0.060225501399544155 [Z5 Z9] +\n",
      "-0.2287824778363614 [Z8] +\n",
      "0.07823637778985217 [Z8 Z9] +\n",
      "0.06245512523136902 [Z8 Z10] +\n",
      "-0.22878247783636138 [Z9] +\n",
      "0.06732342777645647 [Z9 Z10]\n",
      "\n",
      "Number of fragments: 154\n"
     ]
    }
   ],
   "source": [
    "lih = get_qubit_hamiltonian(mol='lih', geometry=1.5, basis='sto3g', qubit_transf='jw')\n",
    "\n",
    "qwc_list = get_qwc_group(lih)\n",
    "print('Fragments 1: \\n{}\\n'.format(qwc_list[4]))\n",
    "print('Fragments 2:\\n{}\\n'.format(qwc_list[1]))\n",
    "print('Number of fragments: {}'.format(len(qwc_list)))"
   ]
  },
  {
   "cell_type": "markdown",
   "metadata": {},
   "source": [
    "By applying extra unitaries, one may rotate more terms of $\\hat H$ into a QWC fragment.  \n",
    "\n",
    "Recall that in digital quantum computing, the expectation value of $\\hat H_n$ given a trial wavefunction $|\\psi\\rangle$ is \n",
    "$$ E_n =\\ \\langle\\psi| \\hat H_n | \\psi\\rangle$$\n",
    "Inserting unitary transformation $\\hat U_n$ does not change the expectation value.\n",
    "$$ E_n =\\ \\langle\\psi| \\hat U_n^\\dagger \\hat U_n \\hat H_n \\hat U_n^\\dagger \\hat U_n  |\\psi\\rangle$$ \n",
    "This nonetheless changes the trial wavefunction and the terms to be measured. \n",
    "$$ |\\psi\\rangle \\rightarrow \\hat U_n |\\psi\\rangle = |\\phi\\rangle$$\n",
    "$$ \\hat H_n \\rightarrow \\hat U_n \\hat H_n \\hat U_n^\\dagger = \\hat A_n$$\n",
    "The transformation of $|\\psi \\rangle$ can be done on the quantum computer, and the transformation of $\\hat H_n$ is possible on the classical computer. \n",
    "\n",
    "Now, although $\\hat A_n$ needs to be a QWC fragment to be measurable on a quantum computer, $\\hat H_n$ does not. \n",
    "Instead, if we restrict $\\hat U_n$ to be a clifford operation, the terms in $\\hat H$ need only mutually commute. \n",
    "\n",
    "Here, we obtain measurable parts of $H_2$ by partitioning its terms into mutually commuting fragments. "
   ]
  },
  {
   "cell_type": "code",
   "execution_count": 3,
   "metadata": {
    "tags": []
   },
   "outputs": [
    {
     "name": "stdout",
     "output_type": "stream",
     "text": [
      "Number of mutually commuting fragments: 36\n",
      "The first commuting group\n",
      "-4.103591882717407 [] +\n",
      "0.0036744565021407344 [X0 Y1 Y2 X3] +\n",
      "-5.845579096315396e-05 [X0 Z1 Z2 X3 Y4 Y5] +\n",
      "-0.001894147985049468 [X0 Z1 Z2 X3 Y6 Y7] +\n",
      "-0.0018941479850494677 [X0 Z1 Z2 X3 Y8 Y9] +\n",
      "-0.00010502189355815098 [X0 Z1 Z2 X3 Y10 Y11] +\n",
      "0.0036744565021407344 [Y0 X1 X2 Y3] +\n",
      "-5.845579096315396e-05 [Y0 Z1 Z2 Y3 X4 X5] +\n",
      "-0.001894147985049468 [Y0 Z1 Z2 Y3 X6 X7] +\n",
      "-0.0018941479850494677 [Y0 Z1 Z2 Y3 X8 X9] +\n",
      "-0.00010502189355815098 [Y0 Z1 Z2 Y3 X10 X11] +\n",
      "0.0948664760225029 [Z0 Z3] +\n",
      "-5.845579096315396e-05 [X1 X2 X4 X5] +\n",
      "-0.001894147985049468 [X1 X2 X6 X7] +\n",
      "-0.0018941479850494677 [X1 X2 X8 X9] +\n",
      "-0.00010502189355815097 [X1 X2 X10 X11] +\n",
      "-5.845579096315396e-05 [Y1 Y2 Y4 Y5] +\n",
      "-0.001894147985049468 [Y1 Y2 Y6 Y7] +\n",
      "-0.0018941479850494677 [Y1 Y2 Y8 Y9] +\n",
      "-0.00010502189355815097 [Y1 Y2 Y10 Y11] +\n",
      "0.0948664760225029 [Z1 Z2] +\n",
      "-0.010328819322303916 [X4 X5 Y6 Y7] +\n",
      "-0.01032881932230391 [X4 X5 Y8 Y9] +\n",
      "-0.006575744899176993 [X4 X5 Y10 Y11] +\n",
      "-0.010328819322303916 [Y4 Y5 X6 X7] +\n",
      "-0.01032881932230391 [Y4 Y5 X8 X9] +\n",
      "-0.006575744899176993 [Y4 Y5 X10 X11] +\n",
      "0.08470391802239809 [Z4 Z5] +\n",
      "-0.0042172848784227035 [X6 X7 Y8 Y9] +\n",
      "-0.004868302545087445 [X6 X7 Y10 Y11] +\n",
      "-0.0042172848784227035 [Y6 Y7 X8 X9] +\n",
      "-0.004868302545087445 [Y6 Y7 X10 X11] +\n",
      "0.07823637778985224 [Z6 Z7] +\n",
      "-0.004868302545087443 [X8 X9 Y10 Y11] +\n",
      "-0.004868302545087443 [Y8 Y9 X10 X11] +\n",
      "0.07823637778985217 [Z8 Z9] +\n",
      "0.11409163501021222 [Z10 Z11]\n"
     ]
    }
   ],
   "source": [
    "comm_groups = get_commuting_group(lih)\n",
    "print('Number of mutually commuting fragments: {}'.format(len(comm_groups)))\n",
    "print('The first commuting group')\n",
    "print(comm_groups[1])"
   ]
  },
  {
   "cell_type": "markdown",
   "metadata": {},
   "source": [
    "To see this fragment is indeed measurable, one can construct the corresponding unitary operator $\\hat U_n$."
   ]
  },
  {
   "cell_type": "code",
   "execution_count": 4,
   "metadata": {
    "tags": []
   },
   "outputs": [
    {
     "name": "stdout",
     "output_type": "stream",
     "text": [
      "This is unitary, U * U^+ = I \n",
      "(0.9999999999999999+0j) []\n"
     ]
    }
   ],
   "source": [
    "uqwc = get_qwc_unitary(comm_groups[1])\n",
    "print('This is unitary, U * U^+ = I ')\n",
    "print(uqwc * uqwc)"
   ]
  },
  {
   "cell_type": "markdown",
   "metadata": {},
   "source": [
    "Applying this unitary gives the qubit-wise commuting form of the first mutually commuting group"
   ]
  },
  {
   "cell_type": "code",
   "execution_count": 5,
   "metadata": {
    "tags": []
   },
   "outputs": [
    {
     "name": "stdout",
     "output_type": "stream",
     "text": [
      "-4.10359188271699 [] +\n",
      "0.09486647602250285 [X0] +\n",
      "5.8455790963148286e-05 [X0 X1 X2 Z3 Z5] +\n",
      "0.0018941479850493493 [X0 X1 X2 Z3 Z7] +\n",
      "0.0018941479850493493 [X0 X1 X2 Z3 Z9] +\n",
      "0.00010502189355815406 [X0 X1 X2 Z3 Z11] +\n",
      "-0.003674456502141037 [X0 Z3] +\n",
      "0.09486647602250285 [X1 X2] +\n",
      "-0.003674456502141037 [X1 X2 Z3] +\n",
      "5.8455790963148286e-05 [X1 X2 Z3 X4 Z5] +\n",
      "0.0018941479850493493 [X1 X2 Z3 X6 Z7] +\n",
      "0.0018941479850493493 [X1 X2 Z3 X8 Z9] +\n",
      "0.00010502189355815406 [X1 X2 Z3 X10 Z11] +\n",
      "-5.8455790963148286e-05 [X1 X2 X4 Z5] +\n",
      "-0.0018941479850493493 [X1 X2 X6 Z7] +\n",
      "-0.0018941479850493493 [X1 X2 X8 Z9] +\n",
      "-0.00010502189355815406 [X1 X2 X10 Z11] +\n",
      "0.08470391802239871 [X4] +\n",
      "0.010328819322303685 [X4 Z5 Z7] +\n",
      "0.010328819322303683 [X4 Z5 Z9] +\n",
      "0.0065757448991767995 [X4 Z5 Z11] +\n",
      "-5.8455790963148286e-05 [Z5] +\n",
      "0.010328819322303685 [Z5 X6 Z7] +\n",
      "0.010328819322303683 [Z5 X8 Z9] +\n",
      "0.0065757448991767995 [Z5 X10 Z11] +\n",
      "0.0782363777898527 [X6] +\n",
      "0.0042172848784222845 [X6 Z7 Z9] +\n",
      "0.004868302545087672 [X6 Z7 Z11] +\n",
      "-0.0018941479850493493 [Z7] +\n",
      "0.0042172848784222845 [Z7 X8 Z9] +\n",
      "0.004868302545087672 [Z7 X10 Z11] +\n",
      "0.0782363777898527 [X8] +\n",
      "0.004868302545087672 [X8 Z9 Z11] +\n",
      "-0.0018941479850493493 [Z9] +\n",
      "0.004868302545087672 [Z9 X10 Z11] +\n",
      "0.11409163501020916 [X10] +\n",
      "-0.00010502189355815406 [Z11]\n"
     ]
    }
   ],
   "source": [
    "qwc = remove_complex(uqwc * comm_groups[1] * uqwc)\n",
    "print(qwc)"
   ]
  },
  {
   "cell_type": "markdown",
   "metadata": {},
   "source": [
    "In addition, current quantum computer can measure only the $z$ operators. Thus, QWC fragments with $x$ or $y$ operators require extra single-qubit unitaries that rotate them into $z$.  "
   ]
  },
  {
   "cell_type": "code",
   "execution_count": 6,
   "metadata": {
    "tags": []
   },
   "outputs": [
    {
     "name": "stdout",
     "output_type": "stream",
     "text": [
      "Checking whether U * U^+ is identity: 0.9999999999999998 []\n",
      "\n",
      "The all-z form of qwc fragment:\n",
      "-4.103591882716997 [] +\n",
      "0.09486647602250284 [Z0] +\n",
      "5.8455790963148116e-05 [Z0 Z1 Z2 Z3 Z5] +\n",
      "0.0018941479850493534 [Z0 Z1 Z2 Z3 Z7] +\n",
      "0.0018941479850493534 [Z0 Z1 Z2 Z3 Z9] +\n",
      "0.0001050218935581536 [Z0 Z1 Z2 Z3 Z11] +\n",
      "-0.00367445650214104 [Z0 Z3] +\n",
      "0.09486647602250284 [Z1 Z2] +\n",
      "-0.00367445650214104 [Z1 Z2 Z3] +\n",
      "5.8455790963148116e-05 [Z1 Z2 Z3 Z4 Z5] +\n",
      "0.0018941479850493534 [Z1 Z2 Z3 Z6 Z7] +\n",
      "0.0018941479850493534 [Z1 Z2 Z3 Z8 Z9] +\n",
      "0.0001050218935581536 [Z1 Z2 Z3 Z10 Z11] +\n",
      "-5.8455790963148116e-05 [Z1 Z2 Z4 Z5] +\n",
      "-0.0018941479850493534 [Z1 Z2 Z6 Z7] +\n",
      "-0.0018941479850493534 [Z1 Z2 Z8 Z9] +\n",
      "-0.0001050218935581536 [Z1 Z2 Z10 Z11] +\n",
      "0.0847039180223987 [Z4] +\n",
      "0.010328819322303673 [Z4 Z5 Z7] +\n",
      "0.010328819322303671 [Z4 Z5 Z9] +\n",
      "0.006575744899176785 [Z4 Z5 Z11] +\n",
      "-5.8455790963148116e-05 [Z5] +\n",
      "0.010328819322303673 [Z5 Z6 Z7] +\n",
      "0.010328819322303671 [Z5 Z8 Z9] +\n",
      "0.006575744899176785 [Z5 Z10 Z11] +\n",
      "0.07823637778985261 [Z6] +\n",
      "0.004217284878422274 [Z6 Z7 Z9] +\n",
      "0.0048683025450876665 [Z6 Z7 Z11] +\n",
      "-0.0018941479850493534 [Z7] +\n",
      "0.004217284878422274 [Z7 Z8 Z9] +\n",
      "0.0048683025450876665 [Z7 Z10 Z11] +\n",
      "0.07823637778985261 [Z8] +\n",
      "0.0048683025450876665 [Z8 Z9 Z11] +\n",
      "-0.0018941479850493534 [Z9] +\n",
      "0.0048683025450876665 [Z9 Z10 Z11] +\n",
      "0.11409163501020943 [Z10] +\n",
      "-0.0001050218935581536 [Z11]\n"
     ]
    }
   ],
   "source": [
    "uz = get_zform_unitary(qwc)\n",
    "print(\"Checking whether U * U^+ is identity: {}\".format(uz * uz))\n",
    "\n",
    "allz = remove_complex(uz * qwc * uz)\n",
    "print(\"\\nThe all-z form of qwc fragment:\\n{}\".format(allz))"
   ]
  },
  {
   "cell_type": "code",
   "execution_count": null,
   "metadata": {},
   "outputs": [],
   "source": []
  },
  {
   "cell_type": "code",
   "execution_count": null,
   "metadata": {},
   "outputs": [],
   "source": []
  }
 ],
 "metadata": {
  "kernelspec": {
   "display_name": "Python 3",
   "language": "python",
   "name": "python3"
  },
  "language_info": {
   "codemirror_mode": {
    "name": "ipython",
    "version": 3
   },
   "file_extension": ".py",
   "mimetype": "text/x-python",
   "name": "python",
   "nbconvert_exporter": "python",
   "pygments_lexer": "ipython3",
   "version": "3.7.1"
  }
 },
 "nbformat": 4,
 "nbformat_minor": 2
}
