{
 "cells": [
  {
   "cell_type": "markdown",
   "metadata": {},
   "source": [
    "# Review of classical electronic structure methods \n",
    "\n",
    "In order to assess the performance of quantum computing algorithms in addressing the electronic structure problem, we will briefly review a few commonly employed classical electronic structure methods of varying level of approximation. \n",
    "\n",
    "## Hartree-Fock\n",
    "\n",
    "The Hartree-Fock (HF) method employs a **mean-field approximation**, where Coulomb correlation of electrons is neglected. The HF wavefunction is hence restricted to the form of a single Slater determinant, for which the optimal form may be acquired by an optimization of the underlying single particle basis (orbitals). Once the optimal HF orbitals have been found, the HF state may be written as \n",
    "\n",
    "$$ | \\text{HF} \\rangle = \\prod_{p \\in \\text{occ}} \\hat a^\\dagger_p | \\text{vac} \\rangle $$\n",
    "\n",
    "where $\\hat a^\\dagger_p$ creates an electron in the $p^{\\rm{th}}$ optimized HF spin orbital, and  $| \\text{vac} \\rangle$ is the vacuum state (all spin-orbitals unoccupied). Due to the restriction to a single Slater determinant, the HF energy may be obtained very efficiently and can be applied to very large molecules, however it becomes qualitatively incorrect when **electronic correlations** become sufficiently strong. The HF wavefunction is often used as a starting point in more accurate treatments of electronic correlation. \n",
    "\n",
    "## Coupled cluster\n",
    "\n",
    "The Coupled cluster (CC) method introduces electronic correlation to the wavefunction ansatz by operating on the HF reference state with the exponential of excitation operators\n",
    "\n",
    "$$|\\text{CC} \\rangle = e^{\\hat T} | \\text{HF}\\rangle, \\quad \\hat T = \\hat T_1 + \\hat T_2 + ...$$\n",
    "\n",
    "where $\\hat T_1 = \\sum_{ia} t^{a}_i \\hat a^\\dagger_a \\hat a_i$ are referred to as 'singles', $\\hat T_2 = \\sum_{ijab} t^{ab}_{ij} \\hat a^\\dagger_a \\hat a^\\dagger_b \\hat a_i \\hat a_j$ as 'doubles', etc. When the excitation rank is truncated to only singles (S) and doubles (D), $\\hat T = \\hat T_1 + \\hat T_2$, the corresponding ansatz is referred to as CCSD. Since the number of possible single and double excitations for a system of $N$ electrons in $M$ orbitals is polynomial in $M$, one can efficiently solve a system of equations to obtain the optimized CCSD amplitudes. CCSD often gives accurate energies and can be applied to modestly sized chemical systems. However, due to its implementation, it can **violate the variational principle** and give energies lower than the ground state.\n",
    "\n",
    "## Full Configuration Interaction\n",
    "The full configuration interaction (FCI) method yields the **exact ground state energy** within a given basis set. The FCI wavefunction is written as a linear combination of all possible $N$-particle Slater determinants over the orbital basis\n",
    "$$|\\text{FCI} \\rangle =  \\left( \\sum_{ia} C^{a}_i \\hat a^\\dagger_a \\hat a_i + \\sum_{ijab} C^{ab}_{ij} \\hat a^\\dagger_a \\hat a^\\dagger_b \\hat a_i \\hat a_j + ...  \\right) | \\text{HF} \\rangle $$\n",
    "where the sum includes up to $N$-electron excitations, and hence there are an exponential number of coefficients to optimize in $| \\text{FCI} \\rangle$. Due to its **exponential complexity**, FCI is often reserved for only the smallest chemical systems. However, it serves as a useful result to compare to when assessing tractable electronic structure methods."
   ]
  },
  {
   "cell_type": "markdown",
   "metadata": {},
   "source": [
    "# Benchmarking for electronic PESs in minimal basis (STO-3G)\n",
    "\n",
    "We will apply HF, CCSD, and FCI to obtaining the PESs for a few molecular dissociation processes in minimal (STO-3G) basis."
   ]
  },
  {
   "cell_type": "code",
   "execution_count": 2,
   "metadata": {},
   "outputs": [
    {
     "name": "stderr",
     "output_type": "stream",
     "text": [
      "/home/abarthe/.local/lib/python3.7/site-packages/pyscf/lib/misc.py:46: H5pyDeprecationWarning: Using default_file_mode other than 'r' is deprecated. Pass the mode to h5py.File() instead.\n",
      "  h5py.get_config().default_file_mode = 'a'\n"
     ]
    }
   ],
   "source": [
    "import numpy as np\n",
    "import matplotlib.pyplot as plt\n",
    "from utility import get_molecular_data, obtain_PES\n",
    "import time\n",
    "import pandas as pd"
   ]
  },
  {
   "cell_type": "code",
   "execution_count": 2,
   "metadata": {},
   "outputs": [],
   "source": [
    "class benchmark:\n",
    "    def __init__(self,list_molecules=['h2'], list_basis=['sto-3g'], list_methods=['fci'],bond_lengths = np.linspace(0.2,2.6,15)):\n",
    "        self.list_molecules = list_molecules\n",
    "        self.list_basis = list_basis\n",
    "        self.list_methods = list_methods\n",
    "        self.bond_lengths = bond_lengths\n",
    "        \n",
    "        self.times = np.zeros((len(list_molecules),len(list_basis),len(list_methods)))\n",
    "        self.results=np.zeros((len(list_molecules),len(list_basis),len(list_methods),len(bond_lengths)))\n",
    "    \n",
    "    def compute_all(self):\n",
    "        for i_m,m in enumerate(self.list_molecules):\n",
    "            print(f'{i_m+1} molecule out of {len(self.list_molecules)}')\n",
    "            for i_b,b in enumerate(self.list_basis):\n",
    "                print(f'{i_b+1} basis out of {len(self.list_basis)}')\n",
    "                for i_f,f in enumerate(self.list_methods):\n",
    "                    print(f'{i_f+1} method out of {len(self.list_methods)}')\n",
    "                    tic = time.time()\n",
    "                    self.results[i_m,i_b,i_f,:] = obtain_PES([m], self.bond_lengths, b, method=f)\n",
    "                    toc = time.time()\n",
    "                    self.times[i_m,i_b,i_f]= toc-tic                   \n",
    "            \n",
    "    \n",
    "    def plot_all(self,i_b):\n",
    "        \n",
    "        colors = ['orange','purple','yellow','green']\n",
    "        N = len(self.list_molecules)\n",
    "        L = 3\n",
    "        K = int(N/L) + 1 \n",
    "\n",
    "        fig, axs = plt.subplots(K, L,figsize=(15,5))\n",
    "\n",
    "        for i_m in range(N):\n",
    "            ax = axs[i_m]\n",
    "\n",
    "            ax.plot(self.bond_lengths, self.results[i_m,i_b,0,:], label=self.list_methods[0],color='k')\n",
    "            s=15 \n",
    "            for i_f in range(1,len(self.list_methods)):\n",
    "                ax.scatter(self.bond_lengths, self.results[i_m,i_b,i_f,:], label=self.list_methods[i_f], color=colors[i_f-1],s=s)\n",
    "                s*=0.9\n",
    "\n",
    "            ax.set_title(f'{self.list_molecules[i_m]} dissociation, {self.list_basis[i_b]}')\n",
    "            ax.set_xlabel('R, Angstrom')\n",
    "            ax.set_ylabel('E, Hartree')\n",
    "            ax.legend()\n",
    "    \n",
    "    def print_times(self,i_b):\n",
    "        print('Duration of computation in seconds')\n",
    "        T = np.squeeze(self.times[:,i_b,:])\n",
    "        df = pd.DataFrame(T, index =self.list_molecules,columns =self.list_methods)\n",
    "        return df\n",
    "    "
   ]
  },
  {
   "cell_type": "code",
   "execution_count": 3,
   "metadata": {},
   "outputs": [],
   "source": [
    "bond_lengths = np.linspace(0.2,2.6,15)\n",
    "basis = 'sto-3g'"
   ]
  },
  {
   "cell_type": "markdown",
   "metadata": {},
   "source": [
    "## H<sub>2</sub>"
   ]
  },
  {
   "cell_type": "code",
   "execution_count": 8,
   "metadata": {},
   "outputs": [],
   "source": [
    "#Run FCI\n",
    "FCI_PES = obtain_PES(['h2'], bond_lengths, basis, method='fci')\n",
    "HF_PES = obtain_PES(['h2'], bond_lengths, basis,  method='hf')\n",
    "CCSD_PES = obtain_PES(['h2'], bond_lengths, basis,  method='ccsd')\n",
    "CISD_PES = obtain_PES(['h2'], bond_lengths, basis,  method='cisd')"
   ]
  },
  {
   "cell_type": "code",
   "execution_count": 16,
   "metadata": {},
   "outputs": [
    {
     "data": {
      "text/plain": [
       "<matplotlib.legend.Legend at 0x7f3fc0c0ada0>"
      ]
     },
     "execution_count": 16,
     "metadata": {},
     "output_type": "execute_result"
    },
    {
     "data": {
      "image/png": "[encoded data removed]",
      "text/plain": [
       "<Figure size 432x288 with 1 Axes>"
      ]
     },
     "metadata": {
      "needs_background": "light"
     },
     "output_type": "display_data"
    }
   ],
   "source": [
    "#Plot H2 PESs\n",
    "\n",
    "plt.title('H2 dissociation, STO-3G')\n",
    "plt.xlabel('R, Angstrom')\n",
    "plt.ylabel('E, Hartree')\n",
    "\n",
    "plt.plot(bond_lengths, FCI_PES, label='FCI',color='black')\n",
    "plt.scatter(bond_lengths, HF_PES, label='HF', color='red',s=100)\n",
    "plt.scatter(bond_lengths, CCSD_PES, label='CCSD', color='blue',s=80)\n",
    "plt.scatter(bond_lengths, CISD_PES, label='CISD', color='orange',s=60)\n",
    "plt.legend()"
   ]
  },
  {
   "cell_type": "markdown",
   "metadata": {},
   "source": [
    "# LiH"
   ]
  },
  {
   "cell_type": "code",
   "execution_count": 17,
   "metadata": {},
   "outputs": [],
   "source": [
    "#Run FCI\n",
    "FCI_PES = obtain_PES(['lih'], bond_lengths, basis, method='fci')\n",
    "HF_PES = obtain_PES(['lih'], bond_lengths, basis,  method='hf')\n",
    "CCSD_PES = obtain_PES(['lih'], bond_lengths, basis,  method='ccsd')\n",
    "CISD_PES = obtain_PES(['lih'], bond_lengths, basis,  method='cisd')"
   ]
  },
  {
   "cell_type": "code",
   "execution_count": 18,
   "metadata": {},
   "outputs": [
    {
     "data": {
      "text/plain": [
       "<matplotlib.legend.Legend at 0x7f4082e5dba8>"
      ]
     },
     "execution_count": 18,
     "metadata": {},
     "output_type": "execute_result"
    },
    {
     "data": {
      "image/png": "[encoded data removed]",
      "text/plain": [
       "<Figure size 432x288 with 1 Axes>"
      ]
     },
     "metadata": {
      "needs_background": "light"
     },
     "output_type": "display_data"
    }
   ],
   "source": [
    "#Plot H2 PESs\n",
    "\n",
    "plt.title('LiH dissociation, STO-3G')\n",
    "plt.xlabel('R, Angstrom')\n",
    "plt.ylabel('E, Hartree')\n",
    "\n",
    "plt.plot(bond_lengths, FCI_PES, label='FCI',color='black')\n",
    "plt.scatter(bond_lengths, HF_PES, label='HF', color='red',s=100)\n",
    "plt.scatter(bond_lengths, CCSD_PES, label='CCSD', color='blue',s=80)\n",
    "plt.scatter(bond_lengths, CISD_PES, label='CISD', color='orange',s=60)\n",
    "plt.legend()"
   ]
  },
  {
   "cell_type": "markdown",
   "metadata": {},
   "source": [
    "## H2O"
   ]
  },
  {
   "cell_type": "code",
   "execution_count": 19,
   "metadata": {},
   "outputs": [],
   "source": [
    "#Run FCI\n",
    "FCI_PES = obtain_PES(['lih'], bond_lengths, basis, method='fci')\n",
    "HF_PES = obtain_PES(['lih'], bond_lengths, basis,  method='hf')\n",
    "CCSD_PES = obtain_PES(['lih'], bond_lengths, basis,  method='ccsd')\n",
    "CISD_PES = obtain_PES(['lih'], bond_lengths, basis,  method='cisd')"
   ]
  },
  {
   "cell_type": "code",
   "execution_count": 20,
   "metadata": {},
   "outputs": [
    {
     "data": {
      "text/plain": [
       "<matplotlib.legend.Legend at 0x7f3fbfddf0b8>"
      ]
     },
     "execution_count": 20,
     "metadata": {},
     "output_type": "execute_result"
    },
    {
     "data": {
      "image/png": "[encoded data removed]",
      "text/plain": [
       "<Figure size 432x288 with 1 Axes>"
      ]
     },
     "metadata": {
      "needs_background": "light"
     },
     "output_type": "display_data"
    }
   ],
   "source": [
    "#Plot H2 PESs\n",
    "\n",
    "plt.title('H2O dissociation, STO-3G')\n",
    "plt.xlabel('R, Angstrom')\n",
    "plt.ylabel('E, Hartree')\n",
    "\n",
    "plt.plot(bond_lengths, FCI_PES, label='FCI',color='black')\n",
    "plt.scatter(bond_lengths, HF_PES, label='HF', color='red',s=100)\n",
    "plt.scatter(bond_lengths, CCSD_PES, label='CCSD', color='blue',s=80)\n",
    "plt.scatter(bond_lengths, CISD_PES, label='CISD', color='orange',s=60)\n",
    "plt.legend()"
   ]
  },
  {
   "cell_type": "markdown",
   "metadata": {},
   "source": [
    "# H4"
   ]
  },
  {
   "cell_type": "code",
   "execution_count": 21,
   "metadata": {},
   "outputs": [],
   "source": [
    "#Run FCI\n",
    "FCI_PES = obtain_PES(['h4'], bond_lengths, basis, method='fci')\n",
    "HF_PES = obtain_PES(['h4'], bond_lengths, basis,  method='hf')\n",
    "CCSD_PES = obtain_PES(['h4'], bond_lengths, basis,  method='ccsd')\n",
    "CISD_PES = obtain_PES(['h4'], bond_lengths, basis,  method='cisd')"
   ]
  },
  {
   "cell_type": "code",
   "execution_count": 22,
   "metadata": {},
   "outputs": [
    {
     "data": {
      "text/plain": [
       "<matplotlib.legend.Legend at 0x7f4083175940>"
      ]
     },
     "execution_count": 22,
     "metadata": {},
     "output_type": "execute_result"
    },
    {
     "data": {
      "image/png": "[encoded data removed]",
      "text/plain": [
       "<Figure size 432x288 with 1 Axes>"
      ]
     },
     "metadata": {
      "needs_background": "light"
     },
     "output_type": "display_data"
    }
   ],
   "source": [
    "#Plot H2 PESs\n",
    "\n",
    "plt.title('H4 dissociation, STO-3G')\n",
    "plt.xlabel('R, Angstrom')\n",
    "plt.ylabel('E, Hartree')\n",
    "\n",
    "plt.plot(bond_lengths, FCI_PES, label='FCI',color='black')\n",
    "plt.scatter(bond_lengths, HF_PES, label='HF', color='red',s=100)\n",
    "plt.scatter(bond_lengths, CCSD_PES, label='CCSD', color='blue',s=80)\n",
    "plt.scatter(bond_lengths, CISD_PES, label='CISD', color='orange',s=60)\n",
    "plt.legend()"
   ]
  },
  {
   "cell_type": "markdown",
   "metadata": {},
   "source": [
    "# NH3"
   ]
  },
  {
   "cell_type": "code",
   "execution_count": null,
   "metadata": {},
   "outputs": [],
   "source": [
    "#Run FCI\n",
    "FCI_PES = obtain_PES(['nh3'], bond_lengths, basis, method='fci')\n",
    "HF_PES = obtain_PES(['nh3'], bond_lengths, basis,  method='hf')\n",
    "CCSD_PES = obtain_PES(['nh3'], bond_lengths, basis,  method='ccsd')\n",
    "CISD_PES = obtain_PES(['nh3'], bond_lengths, basis,  method='cisd')"
   ]
  },
  {
   "cell_type": "code",
   "execution_count": null,
   "metadata": {},
   "outputs": [],
   "source": [
    "#Plot H2 PESs\n",
    "\n",
    "plt.title('NH3 dissociation, STO-3G')\n",
    "plt.xlabel('R, Angstrom')\n",
    "plt.ylabel('E, Hartree')\n",
    "\n",
    "plt.plot(bond_lengths, FCI_PES, label='FCI',color='black')\n",
    "plt.scatter(bond_lengths, HF_PES, label='HF', color='red',s=100)\n",
    "plt.scatter(bond_lengths, CCSD_PES, label='CCSD', color='blue',s=80)\n",
    "plt.scatter(bond_lengths, CISD_PES, label='CISD', color='orange',s=60)\n",
    "plt.legend()"
   ]
  },
  {
   "cell_type": "markdown",
   "metadata": {},
   "source": [
    "# N2"
   ]
  },
  {
   "cell_type": "code",
   "execution_count": null,
   "metadata": {},
   "outputs": [],
   "source": [
    "#Run FCI\n",
    "FCI_PES = obtain_PES(['n2'], bond_lengths, basis, method='fci')\n",
    "HF_PES = obtain_PES(['n2'], bond_lengths, basis,  method='hf')\n",
    "CCSD_PES = obtain_PES(['n2'], bond_lengths, basis,  method='ccsd')\n",
    "CISD_PES = obtain_PES(['n2'], bond_lengths, basis,  method='cisd')"
   ]
  },
  {
   "cell_type": "code",
   "execution_count": null,
   "metadata": {},
   "outputs": [],
   "source": [
    "#Plot H2 PESs\n",
    "\n",
    "plt.title('N2 dissociation, STO-3G')\n",
    "plt.xlabel('R, Angstrom')\n",
    "plt.ylabel('E, Hartree')\n",
    "\n",
    "plt.plot(bond_lengths, FCI_PES, label='FCI',color='black')\n",
    "plt.scatter(bond_lengths, HF_PES, label='HF', color='red',s=100)\n",
    "plt.scatter(bond_lengths, CCSD_PES, label='CCSD', color='blue',s=80)\n",
    "plt.scatter(bond_lengths, CISD_PES, label='CISD', color='orange',s=60)\n",
    "plt.legend()"
   ]
  },
  {
   "cell_type": "code",
   "execution_count": null,
   "metadata": {},
   "outputs": [],
   "source": []
  }
 ],
 "metadata": {
  "kernelspec": {
   "display_name": "Python 3",
   "language": "python",
   "name": "python3"
  },
  "language_info": {
   "codemirror_mode": {
    "name": "ipython",
    "version": 3
   },
   "file_extension": ".py",
   "mimetype": "text/x-python",
   "name": "python",
   "nbconvert_exporter": "python",
   "pygments_lexer": "ipython3",
   "version": "3.7.1"
  }
 },
 "nbformat": 4,
 "nbformat_minor": 2
}
