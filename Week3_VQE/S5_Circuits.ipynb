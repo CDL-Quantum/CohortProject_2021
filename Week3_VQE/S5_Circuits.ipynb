{
 "cells": [
  {
   "cell_type": "markdown",
   "metadata": {},
   "source": [
    "# Quantum Circuits\n",
    "Quantum computers can only use a specific set of gates (universal gate set). Given the entanglers and their amplitudes found in Step 3, one can find corresponding representation of these operators in terms of elementary gates using the following procedure."
   ]
  },
  {
   "cell_type": "code",
   "execution_count": 1,
   "metadata": {},
   "outputs": [],
   "source": [
    "import os\n",
    "os.environ['KMP_DUPLICATE_LIB_OK']= 'True'\n",
    "\n",
    "import tequila as tq\n",
    "from utility import *"
   ]
  },
  {
   "cell_type": "markdown",
   "metadata": {},
   "source": [
    "First, we set up the Hamiltonian in Tequila's format and the unitary gates obtained in Step 3. "
   ]
  },
  {
   "cell_type": "code",
   "execution_count": 2,
   "metadata": {
    "tags": []
   },
   "outputs": [
    {
     "name": "stdout",
     "output_type": "stream",
     "text": [
      "circuit: \n",
      "Rx(target=(0,), parameter=beta_0)\n",
      "Rz(target=(0,), parameter=gamma_0)\n",
      "Rx(target=(1,), parameter=beta_1)\n",
      "Rz(target=(1,), parameter=gamma_1)\n",
      "Rx(target=(2,), parameter=beta_2)\n",
      "Rz(target=(2,), parameter=gamma_2)\n",
      "Rx(target=(3,), parameter=beta_3)\n",
      "Rz(target=(3,), parameter=gamma_3)\n",
      "Exp-Pauli(target=(0, 1, 2, 3), control=(), parameter=tau_0, paulistring=X(0)Y(1)X(2)X(3))\n",
      "\n"
     ]
    }
   ],
   "source": [
    "H = tq.QubitHamiltonian.from_openfermion(get_qubit_hamiltonian('h2', 2, 'sto-3g', qubit_transf='jw'))\n",
    "a = tq.Variable(\"tau_0\")\n",
    "U = construct_QMF_ansatz(4)\n",
    "U += tq.gates.ExpPauli(paulistring=tq.PauliString.from_string(\"X(0)Y(1)X(2)X(3)\"), angle=a)\n",
    "print(U)"
   ]
  },
  {
   "cell_type": "markdown",
   "metadata": {},
   "source": [
    "One can check the expectation value to see it is near the ground state energy."
   ]
  },
  {
   "cell_type": "code",
   "execution_count": 13,
   "metadata": {
    "tags": []
   },
   "outputs": [
    {
     "name": "stdout",
     "output_type": "stream",
     "text": [
      "-0.9486411121761622\n"
     ]
    }
   ],
   "source": [
    "E = tq.ExpectationValue(H=H, U=U)\n",
    "vars = {'beta_1': 3.141592624143881, 'beta_0': 3.141592624143881, 'tau_0': 1.1331410014096885, 'gamma_1': 0.0, 'beta_3': 0.0, 'gamma_3': 0.0, 'gamma_2': 0.0, 'gamma_0': 0.0, 'beta_2': 0.0} # values obtained from step 3\n",
    "print(tq.simulate(E, variables=vars))"
   ]
  },
  {
   "cell_type": "code",
   "execution_count": 14,
   "metadata": {},
   "outputs": [
    {
     "name": "stdout",
     "output_type": "stream",
     "text": [
      "{'beta_1': 3.141592624143881, 'beta_0': 3.141592624143881, 'tau_0': 1.1331410014096885, 'gamma_1': 0.0, 'beta_3': 0.0, 'gamma_3': 0.0, 'gamma_2': 0.0, 'gamma_0': 0.0, 'beta_2': 0.0}\n"
     ]
    }
   ],
   "source": [
    "print(vars)"
   ]
  },
  {
   "cell_type": "markdown",
   "metadata": {},
   "source": [
    "One can run the same experiment on a real quantum computer through IBM Quantum Experience (ibmq). After activating your account here (https://quantum-computing.ibm.com/login), copy the API token and execute the commented block below. "
   ]
  },
  {
   "cell_type": "code",
   "execution_count": 4,
   "metadata": {},
   "outputs": [
    {
     "name": "stderr",
     "output_type": "stream",
     "text": [
      "configrc.store_credentials:WARNING:2021-07-22 18:57:40,924: Credentials already present. Set overwrite=True to overwrite.\n"
     ]
    }
   ],
   "source": [
    "from qiskit import IBMQ\n",
    "IBMQ.save_account('f861f8d4980810e76f8db0e01272f74ca7f705bdcacd2bfbffb2dd9178f5e7a5d581ca2623cb70ac75bfbfc5d91b5ba7ea40fb6f3134585846fb828c45913f35')"
   ]
  },
  {
   "cell_type": "code",
   "execution_count": 4,
   "metadata": {
    "tags": []
   },
   "outputs": [
    {
     "ename": "AttributeError",
     "evalue": "'str' object has no attribute 'key_openfermion'",
     "output_type": "error",
     "traceback": [
      "\u001b[0;31m---------------------------------------------------------------------------\u001b[0m",
      "\u001b[0;31mAttributeError\u001b[0m                            Traceback (most recent call last)",
      "\u001b[0;32m<ipython-input-4-a2e91fe382c4>\u001b[0m in \u001b[0;36m<module>\u001b[0;34m\u001b[0m\n\u001b[1;32m      1\u001b[0m \u001b[0;31m# list of devices available can be found in ibmq account page\u001b[0m\u001b[0;34m\u001b[0m\u001b[0;34m\u001b[0m\u001b[0;34m\u001b[0m\u001b[0m\n\u001b[1;32m      2\u001b[0m \u001b[0;31m# Try a device that isn't too busy. If the wait time is too long, measure only one pauli-word in the H2 Hamilotonian using the commented line\u001b[0m\u001b[0;34m\u001b[0m\u001b[0;34m\u001b[0m\u001b[0;34m\u001b[0m\u001b[0m\n\u001b[0;32m----> 3\u001b[0;31m \u001b[0mE\u001b[0m \u001b[0;34m=\u001b[0m \u001b[0mtq\u001b[0m\u001b[0;34m.\u001b[0m\u001b[0mExpectationValue\u001b[0m\u001b[0;34m(\u001b[0m\u001b[0mH\u001b[0m\u001b[0;34m=\u001b[0m\u001b[0mtq\u001b[0m\u001b[0;34m.\u001b[0m\u001b[0mQubitHamiltonian\u001b[0m\u001b[0;34m.\u001b[0m\u001b[0mfrom_paulistrings\u001b[0m\u001b[0;34m(\u001b[0m\u001b[0;34m\"X(0)X(1)Y(2)Y(3)\"\u001b[0m\u001b[0;34m)\u001b[0m\u001b[0;34m,\u001b[0m \u001b[0mU\u001b[0m\u001b[0;34m=\u001b[0m\u001b[0mU\u001b[0m\u001b[0;34m)\u001b[0m\u001b[0;34m\u001b[0m\u001b[0;34m\u001b[0m\u001b[0m\n\u001b[0m\u001b[1;32m      4\u001b[0m \u001b[0;31m#tq.simulate(E, variables=vars, samples=100, backend=\"qiskit\", device='ibmq_bogota')\u001b[0m\u001b[0;34m\u001b[0m\u001b[0;34m\u001b[0m\u001b[0;34m\u001b[0m\u001b[0m\n",
      "\u001b[0;32m~/software/tequila2/src/tequila/hamiltonian/qubit_hamiltonian.py\u001b[0m in \u001b[0;36mfrom_paulistrings\u001b[0;34m(cls, ps)\u001b[0m\n\u001b[1;32m    433\u001b[0m             \u001b[0mH\u001b[0m \u001b[0;34m=\u001b[0m \u001b[0mcls\u001b[0m\u001b[0;34m.\u001b[0m\u001b[0mzero\u001b[0m\u001b[0;34m(\u001b[0m\u001b[0;34m)\u001b[0m\u001b[0;34m\u001b[0m\u001b[0;34m\u001b[0m\u001b[0m\n\u001b[1;32m    434\u001b[0m             \u001b[0;32mfor\u001b[0m \u001b[0mx\u001b[0m \u001b[0;32min\u001b[0m \u001b[0mps\u001b[0m\u001b[0;34m:\u001b[0m\u001b[0;34m\u001b[0m\u001b[0;34m\u001b[0m\u001b[0m\n\u001b[0;32m--> 435\u001b[0;31m                 \u001b[0mH\u001b[0m \u001b[0;34m+=\u001b[0m \u001b[0mQubitHamiltonian\u001b[0m\u001b[0;34m(\u001b[0m\u001b[0mqubit_operator\u001b[0m\u001b[0;34m=\u001b[0m\u001b[0mQubitOperator\u001b[0m\u001b[0;34m(\u001b[0m\u001b[0mterm\u001b[0m\u001b[0;34m=\u001b[0m\u001b[0mx\u001b[0m\u001b[0;34m.\u001b[0m\u001b[0mkey_openfermion\u001b[0m\u001b[0;34m(\u001b[0m\u001b[0;34m)\u001b[0m\u001b[0;34m,\u001b[0m \u001b[0mcoefficient\u001b[0m\u001b[0;34m=\u001b[0m\u001b[0mx\u001b[0m\u001b[0;34m.\u001b[0m\u001b[0mcoeff\u001b[0m\u001b[0;34m)\u001b[0m\u001b[0;34m)\u001b[0m\u001b[0;34m\u001b[0m\u001b[0;34m\u001b[0m\u001b[0m\n\u001b[0m\u001b[1;32m    436\u001b[0m             \u001b[0;32mreturn\u001b[0m \u001b[0mH\u001b[0m\u001b[0;34m.\u001b[0m\u001b[0msimplify\u001b[0m\u001b[0;34m(\u001b[0m\u001b[0;34m)\u001b[0m\u001b[0;34m\u001b[0m\u001b[0;34m\u001b[0m\u001b[0m\n\u001b[1;32m    437\u001b[0m \u001b[0;34m\u001b[0m\u001b[0m\n",
      "\u001b[0;31mAttributeError\u001b[0m: 'str' object has no attribute 'key_openfermion'"
     ]
    }
   ],
   "source": [
    "# list of devices available can be found in ibmq account page\n",
    "# Try a device that isn't too busy. If the wait time is too long, measure only one pauli-word in the H2 Hamilotonian using the commented line\n",
    "E = tq.ExpectationValue(H=tq.QubitHamiltonian.from_paulistrings(\"X(0)X(1)Y(2)Y(3)\"), U=U)\n",
    "#tq.simulate(E, variables=vars, samples=100, backend=\"qiskit\", device='ibmq_bogota')"
   ]
  },
  {
   "cell_type": "code",
   "execution_count": 4,
   "metadata": {},
   "outputs": [
    {
     "data": {
      "text/plain": [
       "-0.6782390850939107"
      ]
     },
     "execution_count": 4,
     "metadata": {},
     "output_type": "execute_result"
    }
   ],
   "source": [
    "tq.simulate(E, variables=vars, samples=100, backend=\"qiskit\", device='ibmq_belem')"
   ]
  },
  {
   "cell_type": "code",
   "execution_count": 6,
   "metadata": {},
   "outputs": [
    {
     "data": {
      "text/plain": [
       "-0.7031310116153874"
      ]
     },
     "execution_count": 6,
     "metadata": {},
     "output_type": "execute_result"
    }
   ],
   "source": [
    "tq.simulate(E, variables=vars, samples=1000, backend=\"qiskit\", device='ibmq_belem')"
   ]
  },
  {
   "cell_type": "code",
   "execution_count": 7,
   "metadata": {},
   "outputs": [
    {
     "data": {
      "text/plain": [
       "-0.7047891180121715"
      ]
     },
     "execution_count": 7,
     "metadata": {},
     "output_type": "execute_result"
    }
   ],
   "source": [
    "tq.simulate(E, variables=vars, samples=5000, backend=\"qiskit\", device='ibmq_belem')"
   ]
  },
  {
   "cell_type": "code",
   "execution_count": 9,
   "metadata": {},
   "outputs": [
    {
     "data": {
      "text/plain": [
       "-0.6854283267691902"
      ]
     },
     "execution_count": 9,
     "metadata": {},
     "output_type": "execute_result"
    }
   ],
   "source": [
    "tq.simulate(E, variables=vars, samples=8192, backend=\"qiskit\", device='ibmq_belem')"
   ]
  },
  {
   "cell_type": "code",
   "execution_count": 23,
   "metadata": {},
   "outputs": [],
   "source": [
    "Ebins = np.zeros(20)\n",
    "for bin in range(len(Ebins)):\n",
    "    Ebins[bin] = tq.simulate(E, variables=vars, samples=1000, backend=\"qiskit\", device='ibmq_belem')"
   ]
  },
  {
   "cell_type": "code",
   "execution_count": 26,
   "metadata": {},
   "outputs": [
    {
     "name": "stdout",
     "output_type": "stream",
     "text": [
      "[-0.72075524 -0.70971011 -0.69059255 -0.6739535  -0.69294476 -0.69786041\n",
      " -0.68731566 -0.69082685 -0.69879121 -0.69856461 -0.71185924 -0.68033561\n",
      " -0.64666273 -0.70124051 -0.6844145  -0.69290368 -0.66140423 -0.71572174\n",
      " -0.67042917 -0.69995236]\n",
      "Average Energy: -0.6913119333609608\n",
      "Stdev:  0.017837450929769186\n"
     ]
    }
   ],
   "source": [
    "print(Ebins)\n",
    "print('Average Energy:',np.average(Ebins))\n",
    "print('Stdev: ',np.std(Ebins))"
   ]
  },
  {
   "cell_type": "code",
   "execution_count": 30,
   "metadata": {},
   "outputs": [
    {
     "data": {
      "text/plain": [
       "<matplotlib.legend.Legend at 0x7faf8c522d68>"
      ]
     },
     "execution_count": 30,
     "metadata": {},
     "output_type": "execute_result"
    },
    {
     "data": {
      "image/png": "[encoded data removed]",
      "text/plain": [
       "<Figure size 432x288 with 1 Axes>"
      ]
     },
     "metadata": {
      "needs_background": "light"
     },
     "output_type": "display_data"
    }
   ],
   "source": [
    "import matplotlib.pyplot as plt\n",
    "\n",
    "samples = [100,1000,5000,8192]\n",
    "Evals = [-0.6782390850939107, -0.7031310116153874, -0.7047891180121715, -0.6854283267691902]\n",
    "plt.plot(samples,Evals,'or',label='IBM BELEM')\n",
    "plt.hlines(-0.9486411121761622,0,8192,label='EXACT')\n",
    "\n",
    "plt.title('H2 Energy in IBMQ_BELEM, STO-3G')\n",
    "plt.xlabel('Samples',fontsize=20)\n",
    "plt.ylabel(r'Energy ($E_h$)',fontsize=14)\n",
    "plt.legend(loc='center right')"
   ]
  },
  {
   "cell_type": "code",
   "execution_count": 37,
   "metadata": {},
   "outputs": [
    {
     "data": {
      "text/plain": [
       "<matplotlib.legend.Legend at 0x7faf8c1a1ac8>"
      ]
     },
     "execution_count": 37,
     "metadata": {},
     "output_type": "execute_result"
    },
    {
     "data": {
      "image/png": "[encoded data removed]",
      "text/plain": [
       "<Figure size 432x288 with 1 Axes>"
      ]
     },
     "metadata": {
      "needs_background": "light"
     },
     "output_type": "display_data"
    }
   ],
   "source": [
    "import matplotlib.pyplot as plt\n",
    "\n",
    "samples = [100,1000,5000,8192]\n",
    "Evals = [-0.6782390850939107, -0.7031310116153874, -0.7047891180121715, -0.6854283267691902]\n",
    "plt.plot(range(len(Ebins)),Ebins,'or',label='IBM BELEM')\n",
    "plt.hlines(-0.9486411121761622,0,19,label='EXACT',colors='black')\n",
    "plt.hlines(np.average(Ebins),0,19,label='IBM BELEM AVG')\n",
    "plt.hlines(np.average(Ebins)+np.std(Ebins),0,19,label=r'IBM BELEM +$\\sigma$',linestyles='dashed')\n",
    "plt.hlines(np.average(Ebins)-np.std(Ebins),0,19,label=r'IBM BELEM -$\\sigma$',linestyles='dashed')\n",
    "\n",
    "plt.title('H2 Energy in IBMQ_BELEM, STO-3G')\n",
    "plt.xlabel('Samples',fontsize=20)\n",
    "plt.ylabel(r'Energy ($E_h$)',fontsize=14)\n",
    "plt.xticks(range(len(Ebins)))\n",
    "plt.legend(loc='center right')"
   ]
  },
  {
   "cell_type": "markdown",
   "metadata": {},
   "source": [
    "The following code block prints the circuit."
   ]
  },
  {
   "cell_type": "code",
   "execution_count": 5,
   "metadata": {
    "tags": []
   },
   "outputs": [
    {
     "data": {
      "text/html": [
       "<pre style=\"word-wrap: normal;white-space: pre;background: #fff0;line-height: 1.1;font-family: &quot;Courier New&quot;,Courier,monospace\">     ┌────────────────────┐┌─────────────────────┐┌──────────┐               »\n",
       "q_0: ┤ Rx(f((beta_0,))_0) ├┤ Rz(f((gamma_0,))_1) ├┤ Ry(-π/2) ├──■────────────»\n",
       "     ├────────────────────┤├─────────────────────┤├─────────┬┘┌─┴─┐          »\n",
       "q_1: ┤ Rx(f((beta_1,))_2) ├┤ Rz(f((gamma_1,))_3) ├┤ Rx(π/2) ├─┤ X ├──■───────»\n",
       "     ├────────────────────┤├─────────────────────┤├─────────┴┐└───┘┌─┴─┐     »\n",
       "q_2: ┤ Rx(f((beta_2,))_4) ├┤ Rz(f((gamma_2,))_5) ├┤ Ry(-π/2) ├─────┤ X ├──■──»\n",
       "     ├────────────────────┤├─────────────────────┤├──────────┤     └───┘┌─┴─┐»\n",
       "q_3: ┤ Rx(f((beta_3,))_6) ├┤ Rz(f((gamma_3,))_7) ├┤ Ry(-π/2) ├──────────┤ X ├»\n",
       "     └────────────────────┘└─────────────────────┘└──────────┘          └───┘»\n",
       "c: 4/════════════════════════════════════════════════════════════════════════»\n",
       "                                                                             »\n",
       "«                                                     ┌─────────┐ \n",
       "«q_0: ──────────────────────────────────────────■─────┤ Ry(π/2) ├─\n",
       "«                                             ┌─┴─┐   ├─────────┴┐\n",
       "«q_1: ───────────────────────────────■────────┤ X ├───┤ Rx(-π/2) ├\n",
       "«                                  ┌─┴─┐   ┌──┴───┴──┐└──────────┘\n",
       "«q_2: ───────────────────────■─────┤ X ├───┤ Ry(π/2) ├────────────\n",
       "«     ┌───────────────────┐┌─┴─┐┌──┴───┴──┐└─────────┘            \n",
       "«q_3: ┤ Rz(f((tau_0,))_8) ├┤ X ├┤ Ry(π/2) ├───────────────────────\n",
       "«     └───────────────────┘└───┘└─────────┘                       \n",
       "«c: 4/════════════════════════════════════════════════════════════\n",
       "«                                                                 </pre>"
      ],
      "text/plain": [
       "     ┌────────────────────┐┌─────────────────────┐┌──────────┐               »\n",
       "q_0: ┤ Rx(f((beta_0,))_0) ├┤ Rz(f((gamma_0,))_1) ├┤ Ry(-π/2) ├──■────────────»\n",
       "     ├────────────────────┤├─────────────────────┤├─────────┬┘┌─┴─┐          »\n",
       "q_1: ┤ Rx(f((beta_1,))_2) ├┤ Rz(f((gamma_1,))_3) ├┤ Rx(π/2) ├─┤ X ├──■───────»\n",
       "     ├────────────────────┤├─────────────────────┤├─────────┴┐└───┘┌─┴─┐     »\n",
       "q_2: ┤ Rx(f((beta_2,))_4) ├┤ Rz(f((gamma_2,))_5) ├┤ Ry(-π/2) ├─────┤ X ├──■──»\n",
       "     ├────────────────────┤├─────────────────────┤├──────────┤     └───┘┌─┴─┐»\n",
       "q_3: ┤ Rx(f((beta_3,))_6) ├┤ Rz(f((gamma_3,))_7) ├┤ Ry(-π/2) ├──────────┤ X ├»\n",
       "     └────────────────────┘└─────────────────────┘└──────────┘          └───┘»\n",
       "c: 4/════════════════════════════════════════════════════════════════════════»\n",
       "                                                                             »\n",
       "«                                                     ┌─────────┐ \n",
       "«q_0: ──────────────────────────────────────────■─────┤ Ry(π/2) ├─\n",
       "«                                             ┌─┴─┐   ├─────────┴┐\n",
       "«q_1: ───────────────────────────────■────────┤ X ├───┤ Rx(-π/2) ├\n",
       "«                                  ┌─┴─┐   ┌──┴───┴──┐└──────────┘\n",
       "«q_2: ───────────────────────■─────┤ X ├───┤ Ry(π/2) ├────────────\n",
       "«     ┌───────────────────┐┌─┴─┐┌──┴───┴──┐└─────────┘            \n",
       "«q_3: ┤ Rz(f((tau_0,))_8) ├┤ X ├┤ Ry(π/2) ├───────────────────────\n",
       "«     └───────────────────┘└───┘└─────────┘                       \n",
       "«c: 4/════════════════════════════════════════════════════════════\n",
       "«                                                                 "
      ]
     },
     "execution_count": 5,
     "metadata": {},
     "output_type": "execute_result"
    }
   ],
   "source": [
    "circ = tq.circuit.compiler.compile_exponential_pauli_gate(U)\n",
    "tq.draw(circ, backend=\"qiskit\")"
   ]
  },
  {
   "cell_type": "code",
   "execution_count": null,
   "metadata": {},
   "outputs": [],
   "source": []
  }
 ],
 "metadata": {
  "kernelspec": {
   "display_name": "tequila2",
   "language": "python",
   "name": "tequila2"
  },
  "language_info": {
   "codemirror_mode": {
    "name": "ipython",
    "version": 3
   },
   "file_extension": ".py",
   "mimetype": "text/x-python",
   "name": "python",
   "nbconvert_exporter": "python",
   "pygments_lexer": "ipython3",
   "version": "3.7.1"
  }
 },
 "nbformat": 4,
 "nbformat_minor": 2
}
