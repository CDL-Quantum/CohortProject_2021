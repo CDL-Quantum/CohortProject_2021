{
 "cells": [
  {
   "cell_type": "markdown",
   "source": [
    "# Quantum Circuits\n",
    "Quantum computers can only use a specific set of gates (universal gate set). Given the entanglers and their amplitudes found in Step 3, one can find corresponding representation of these operators in terms of elementary gates using the following procedure."
   ],
   "metadata": {}
  },
  {
   "cell_type": "code",
   "execution_count": 10,
   "source": [
    "import os\n",
    "os.environ['KMP_DUPLICATE_LIB_OK']= 'True'\n",
    "\n",
    "import tequila as tq\n",
    "from utility import *"
   ],
   "outputs": [],
   "metadata": {}
  },
  {
   "cell_type": "markdown",
   "source": [
    "First, we set up the Hamiltonian in Tequila's format and the unitary gates obtained in Step 3. "
   ],
   "metadata": {}
  },
  {
   "cell_type": "code",
   "execution_count": 12,
   "source": [
    "H = tq.QubitHamiltonian.from_openfermion(get_qubit_hamiltonian('h2', 2, 'sto-3g', qubit_transf='jw'))\n",
    "\n",
    "a = tq.Variable(\"tau_0\")\n",
    "U = construct_QMF_ansatz(4)\n",
    "U += tq.gates.ExpPauli(paulistring=tq.PauliString.from_string(\"X(0)Y(1)X(2)X(3)\"), angle=a)\n",
    "print(U)"
   ],
   "outputs": [
    {
     "output_type": "stream",
     "name": "stdout",
     "text": [
      "circuit: \n",
      "Rx(target=(0,), parameter=beta_0)\n",
      "Rz(target=(0,), parameter=gamma_0)\n",
      "Rx(target=(1,), parameter=beta_1)\n",
      "Rz(target=(1,), parameter=gamma_1)\n",
      "Rx(target=(2,), parameter=beta_2)\n",
      "Rz(target=(2,), parameter=gamma_2)\n",
      "Rx(target=(3,), parameter=beta_3)\n",
      "Rz(target=(3,), parameter=gamma_3)\n",
      "Exp-Pauli(target=(0, 1, 2, 3), control=(), parameter=tau_0, paulistring=X(0)Y(1)X(2)X(3))\n",
      "\n"
     ]
    }
   ],
   "metadata": {
    "tags": []
   }
  },
  {
   "cell_type": "markdown",
   "source": [
    "One can check the expectation value to see it is near the ground state energy."
   ],
   "metadata": {}
  },
  {
   "cell_type": "code",
   "execution_count": 3,
   "source": [
    "E = tq.ExpectationValue(H=H, U=U)\n",
    "vars = {'beta_1': 3.141592624143881, 'beta_0': 3.141592624143881, 'tau_0': 1.1331410014096885, 'gamma_1': 0.0, 'beta_3': 0.0, 'gamma_3': 0.0, 'gamma_2': 0.0, 'gamma_0': 0.0, 'beta_2': 0.0} # values obtained from step 3\n",
    "print(tq.simulate(E, variables=vars))"
   ],
   "outputs": [
    {
     "output_type": "stream",
     "name": "stdout",
     "text": [
      "-0.9486411121761621\n"
     ]
    }
   ],
   "metadata": {
    "tags": []
   }
  },
  {
   "cell_type": "markdown",
   "source": [
    "One can run the same experiment on a real quantum computer through IBM Quantum Experience (ibmq). After activating your account here (https://quantum-computing.ibm.com/login), copy the API token and execute the commented block below. "
   ],
   "metadata": {}
  },
  {
   "cell_type": "code",
   "execution_count": 4,
   "source": [
    "# from qiskit import IBMQ\n",
    "# IBMQ.save_account('MY_API_TOKEN')"
   ],
   "outputs": [],
   "metadata": {}
  },
  {
   "cell_type": "code",
   "execution_count": 5,
   "source": [
    "# list of devices available can be found in ibmq account page\n",
    "# Try a device that isn't too busy. If the wait time is too long, measure only one pauli-word in the H2 Hamilotonian using the commented line\n",
    "#E = tq.ExpectationValue(H=tq.QubitHamiltonian.from_paulistrings(\"X(0)X(1)Y(2)Y(3)\"), U=U)\n",
    "tq.simulate(E, variables=vars, samples=100, backend=\"qiskit\", device='ibmq_manila')"
   ],
   "outputs": [
    {
     "output_type": "execute_result",
     "data": {
      "text/plain": [
       "-0.7276849297174877"
      ]
     },
     "metadata": {},
     "execution_count": 5
    }
   ],
   "metadata": {
    "tags": []
   }
  },
  {
   "cell_type": "markdown",
   "source": [
    "The following code block prints the circuit."
   ],
   "metadata": {}
  },
  {
   "cell_type": "code",
   "execution_count": 6,
   "source": [
    "circ = tq.circuit.compiler.compile_exponential_pauli_gate(U)\n",
    "tq.draw(circ, backend=\"qiskit\")"
   ],
   "outputs": [
    {
     "output_type": "stream",
     "name": "stdout",
     "text": [
      "┌────────────────────┐┌─────────────────────┐   ┌───┐                   »\n",
      "q_0: ┤ RX(f((beta_0,))_0) ├┤ RZ(f((gamma_0,))_1) ├───┤ H ├──────■────────────»\n",
      "     ├────────────────────┤├─────────────────────┤┌──┴───┴───┐┌─┴─┐          »\n",
      "q_1: ┤ RX(f((beta_1,))_2) ├┤ RZ(f((gamma_1,))_3) ├┤ RX(pi/2) ├┤ X ├──■───────»\n",
      "     ├────────────────────┤├─────────────────────┤└──┬───┬───┘└───┘┌─┴─┐     »\n",
      "q_2: ┤ RX(f((beta_2,))_4) ├┤ RZ(f((gamma_2,))_5) ├───┤ H ├─────────┤ X ├──■──»\n",
      "     ├────────────────────┤├─────────────────────┤   ├───┤         └───┘┌─┴─┐»\n",
      "q_3: ┤ RX(f((beta_3,))_6) ├┤ RZ(f((gamma_3,))_7) ├───┤ H ├──────────────┤ X ├»\n",
      "     └────────────────────┘└─────────────────────┘   └───┘              └───┘»\n",
      "c_0: ════════════════════════════════════════════════════════════════════════»\n",
      "                                                                             »\n",
      "c_1: ════════════════════════════════════════════════════════════════════════»\n",
      "                                                                             »\n",
      "c_2: ════════════════════════════════════════════════════════════════════════»\n",
      "                                                                             »\n",
      "c_3: ════════════════════════════════════════════════════════════════════════»\n",
      "                                                                             »\n",
      "«                                             ┌───┐    \n",
      "«q_0: ─────────────────────────────────■──────┤ H ├────\n",
      "«                                    ┌─┴─┐┌───┴───┴───┐\n",
      "«q_1: ────────────────────────────■──┤ X ├┤ RX(-pi/2) ├\n",
      "«                               ┌─┴─┐├───┤└───────────┘\n",
      "«q_2: ───────────────────────■──┤ X ├┤ H ├─────────────\n",
      "«     ┌───────────────────┐┌─┴─┐├───┤└───┘             \n",
      "«q_3: ┤ RZ(f((tau_0,))_8) ├┤ X ├┤ H ├──────────────────\n",
      "«     └───────────────────┘└───┘└───┘                  \n",
      "«c_0: ═════════════════════════════════════════════════\n",
      "«                                                      \n",
      "«c_1: ═════════════════════════════════════════════════\n",
      "«                                                      \n",
      "«c_2: ═════════════════════════════════════════════════\n",
      "«                                                      \n",
      "«c_3: ═════════════════════════════════════════════════\n",
      "«                                                      \n"
     ]
    }
   ],
   "metadata": {
    "tags": []
   }
  }
 ],
 "metadata": {
  "language_info": {
   "codemirror_mode": {
    "name": "ipython",
    "version": 3
   },
   "file_extension": ".py",
   "mimetype": "text/x-python",
   "name": "python",
   "nbconvert_exporter": "python",
   "pygments_lexer": "ipython3",
   "version": "3.7.1-final"
  },
  "orig_nbformat": 2,
  "kernelspec": {
   "name": "qchem",
   "display_name": "qchem"
  }
 },
 "nbformat": 4,
 "nbformat_minor": 2
}