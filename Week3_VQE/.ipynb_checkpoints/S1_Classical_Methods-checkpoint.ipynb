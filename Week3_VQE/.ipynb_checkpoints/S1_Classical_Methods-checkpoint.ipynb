{
 "cells": [
  {
   "cell_type": "markdown",
   "metadata": {},
   "source": [
    "# Review of classical electronic structure methods \n",
    "\n",
    "In order to assess the performance of quantum computing algorithms in addressing the electronic structure problem, we will briefly review a few commonly employed classical electronic structure methods of varying level of approximation. \n",
    "\n",
    "## Hartree-Fock\n",
    "\n",
    "The Hartree-Fock (HF) method employs a **mean-field approximation**, where Coulomb correlation of electrons is neglected. The HF wavefunction is hence restricted to the form of a single Slater determinant, for which the optimal form may be acquired by an optimization of the underlying single particle basis (orbitals). Once the optimal HF orbitals have been found, the HF state may be written as \n",
    "\n",
    "$$ | \\text{HF} \\rangle = \\prod_{p \\in \\text{occ}} \\hat a^\\dagger_p | \\text{vac} \\rangle $$\n",
    "\n",
    "where $\\hat a^\\dagger_p$ creates an electron in the $p^{\\rm{th}}$ optimized HF spin orbital, and  $| \\text{vac} \\rangle$ is the vacuum state (all spin-orbitals unoccupied). Due to the restriction to a single Slater determinant, the HF energy may be obtained very efficiently and can be applied to very large molecules, however it becomes qualitatively incorrect when **electronic correlations** become sufficiently strong. The HF wavefunction is often used as a starting point in more accurate treatments of electronic correlation. \n",
    "\n",
    "## Coupled cluster\n",
    "\n",
    "The Coupled cluster (CC) method introduces electronic correlation to the wavefunction ansatz by operating on the HF reference state with the exponential of excitation operators\n",
    "\n",
    "$$|\\text{CC} \\rangle = e^{\\hat T} | \\text{HF}\\rangle, \\quad \\hat T = \\hat T_1 + \\hat T_2 + ...$$\n",
    "\n",
    "where $\\hat T_1 = \\sum_{ia} t^{a}_i \\hat a^\\dagger_a \\hat a_i$ are referred to as 'singles', $\\hat T_2 = \\sum_{ijab} t^{ab}_{ij} \\hat a^\\dagger_a \\hat a^\\dagger_b \\hat a_i \\hat a_j$ as 'doubles', etc. When the excitation rank is truncated to only singles (S) and doubles (D), $\\hat T = \\hat T_1 + \\hat T_2$, the corresponding ansatz is referred to as CCSD. Since the number of possible single and double excitations for a system of $N$ electrons in $M$ orbitals is polynomial in $M$, one can efficiently solve a system of equations to obtain the optimized CCSD amplitudes. CCSD often gives accurate energies and can be applied to modestly sized chemical systems. However, due to its implementation, it can **violate the variational principle** and give energies lower than the ground state.\n",
    "\n",
    "## Full Configuration Interaction\n",
    "The full configuration interaction (FCI) method yields the **exact ground state energy** within a given basis set. The FCI wavefunction is written as a linear combination of all possible $N$-particle Slater determinants over the orbital basis\n",
    "$$|\\text{FCI} \\rangle =  \\left( \\sum_{ia} C^{a}_i \\hat a^\\dagger_a \\hat a_i + \\sum_{ijab} C^{ab}_{ij} \\hat a^\\dagger_a \\hat a^\\dagger_b \\hat a_i \\hat a_j + ...  \\right) | \\text{HF} \\rangle $$\n",
    "where the sum includes up to $N$-electron excitations, and hence there are an exponential number of coefficients to optimize in $| \\text{FCI} \\rangle$. Due to its **exponential complexity**, FCI is often reserved for only the smallest chemical systems. However, it serves as a useful result to compare to when assessing tractable electronic structure methods."
   ]
  },
  {
   "cell_type": "markdown",
   "metadata": {},
   "source": [
    "# Benchmarking for electronic PESs in minimal basis (STO-3G)\n",
    "\n",
    "We will apply HF, CCSD, and FCI to obtaining the PESs for a few molecular dissociation processes in minimal (STO-3G) basis."
   ]
  },
  {
   "cell_type": "code",
   "execution_count": 1,
   "metadata": {},
   "outputs": [],
   "source": [
    "import numpy as np\n",
    "import matplotlib.pyplot as plt\n",
    "from utility import get_molecular_data, obtain_PES\n",
    "\n",
    "basis = 'sto-3g'"
   ]
  },
  {
   "cell_type": "code",
   "execution_count": 2,
   "metadata": {},
   "outputs": [],
   "source": [
    "from tequila import QubitHamiltonian, Variable, quantumchemistry, gates, PauliString, minimize"
   ]
  },
  {
   "cell_type": "code",
   "execution_count": 3,
   "metadata": {},
   "outputs": [],
   "source": [
    "bond_lengths = np.linspace(0.2,2.6,15)"
   ]
  },
  {
   "cell_type": "code",
   "execution_count": 4,
   "metadata": {},
   "outputs": [
    {
     "data": {
      "text/plain": [
       "array([0.2       , 0.37142857, 0.54285714, 0.71428571, 0.88571429,\n",
       "       1.05714286, 1.22857143, 1.4       , 1.57142857, 1.74285714,\n",
       "       1.91428571, 2.08571429, 2.25714286, 2.42857143, 2.6       ])"
      ]
     },
     "execution_count": 4,
     "metadata": {},
     "output_type": "execute_result"
    }
   ],
   "source": [
    "bond_lengths"
   ]
  },
  {
   "cell_type": "code",
   "execution_count": 5,
   "metadata": {},
   "outputs": [
    {
     "data": {
      "text/plain": [
       "<function utility.get_molecular_data(mol, geometry, xyz_format=False)>"
      ]
     },
     "execution_count": 5,
     "metadata": {},
     "output_type": "execute_result"
    }
   ],
   "source": [
    "get_molecular_data"
   ]
  },
  {
   "cell_type": "code",
   "execution_count": 6,
   "metadata": {},
   "outputs": [
    {
     "data": {
      "text/plain": [
       "<function utility.obtain_PES(molecule, bond_lengths, basis, method)>"
      ]
     },
     "execution_count": 6,
     "metadata": {},
     "output_type": "execute_result"
    }
   ],
   "source": [
    "obtain_PES"
   ]
  },
  {
   "cell_type": "code",
   "execution_count": 7,
   "metadata": {},
   "outputs": [
    {
     "data": {
      "text/plain": [
       "'H 0.0000000000 0.0000000000 0.0000000000\\nH 0.0000000000 0.0000000000 2.6000000000\\n'"
      ]
     },
     "execution_count": 7,
     "metadata": {},
     "output_type": "execute_result"
    }
   ],
   "source": [
    "h2_mol_data = get_molecular_data('h2', bond_lengths[-1], xyz_format=True)\n",
    "h2_mol_data"
   ]
  },
  {
   "cell_type": "code",
   "execution_count": 8,
   "metadata": {},
   "outputs": [
    {
     "data": {
      "text/plain": [
       "<tequila.quantumchemistry.psi4_interface.QuantumChemistryPsi4 at 0x129146d90>"
      ]
     },
     "execution_count": 8,
     "metadata": {},
     "output_type": "execute_result"
    }
   ],
   "source": [
    "h2_mol_data_1 = quantumchemistry.Molecule(h2_mol_data, basis)\n",
    "h2_mol_data_1"
   ]
  },
  {
   "cell_type": "code",
   "execution_count": 9,
   "metadata": {},
   "outputs": [
    {
     "data": {
      "text/plain": [
       "-0.9351960308386074"
      ]
     },
     "execution_count": 9,
     "metadata": {},
     "output_type": "execute_result"
    }
   ],
   "source": [
    "h2_mol_data_1.compute_energy('fci')"
   ]
  },
  {
   "cell_type": "markdown",
   "metadata": {},
   "source": [
    "## H<sub>2</sub>"
   ]
  },
  {
   "cell_type": "code",
   "execution_count": 20,
   "metadata": {},
   "outputs": [],
   "source": [
    "bond_lengths = np.linspace(0.2,2.6,15)"
   ]
  },
  {
   "cell_type": "code",
   "execution_count": 21,
   "metadata": {},
   "outputs": [
    {
     "name": "stdout",
     "output_type": "stream",
     "text": [
      "E = 0.15748213365503494 Eh\n",
      "E = -0.8488991062024307 Eh\n",
      "E = -1.088228184406917 Eh\n",
      "E = -1.1369289594005694 Eh\n",
      "E = -1.122957052798233 Eh\n",
      "E = -1.0887645364963472 Eh\n",
      "E = -1.050442037218747 Eh\n",
      "E = -1.0154681711140934 Eh\n",
      "E = -0.9873930555210578 Eh\n",
      "E = -0.9670259116093078 Eh\n",
      "E = -0.9534242388722525 Eh\n",
      "E = -0.9449089870950522 Eh\n",
      "E = -0.9398197912188271 Eh\n",
      "E = -0.9368706035283363 Eh\n",
      "E = -0.9351960308386074 Eh\n"
     ]
    }
   ],
   "source": [
    "#Run FCI\n",
    "FCI_PES = obtain_PES('h2', bond_lengths, basis, method='fci')"
   ]
  },
  {
   "cell_type": "code",
   "execution_count": 22,
   "metadata": {},
   "outputs": [
    {
     "name": "stdout",
     "output_type": "stream",
     "text": [
      "E = 0.16412595411336484 Eh\n",
      "E = -0.8397057843499818 Eh\n",
      "E = -1.0748879317191165 Eh\n",
      "E = -1.1175258568986952 Eh\n",
      "E = -1.0951595815644866 Eh\n",
      "E = -1.0495617842752125 Eh\n",
      "E = -0.9960202460350606 Eh\n",
      "E = -0.9415474099692257 Eh\n",
      "E = -0.8899751417971336 Eh\n",
      "E = -0.8432718025417772 Eh\n",
      "E = -0.8022429584004084 Eh\n",
      "E = -0.7669825247360017 Eh\n",
      "E = -0.7371545448988266 Eh\n",
      "E = -0.7121961606082444 Eh\n",
      "E = -0.6914700512624808 Eh\n"
     ]
    }
   ],
   "source": [
    "#Run HF\n",
    "HF_PES = obtain_PES('h2', bond_lengths, basis,  method='hf')"
   ]
  },
  {
   "cell_type": "code",
   "execution_count": 23,
   "metadata": {},
   "outputs": [
    {
     "name": "stdout",
     "output_type": "stream",
     "text": [
      "E = 0.15748412056436448 Eh\n",
      "E = -0.8488985094851165 Eh\n",
      "E = -1.088231017430786 Eh\n",
      "E = -1.1369333351418645 Eh\n",
      "E = -1.122959387805977 Eh\n",
      "E = -1.0887606905920535 Eh\n",
      "E = -1.0504260893271251 Eh\n",
      "E = -1.015441558375805 Eh\n",
      "E = -0.9873692849076257 Eh\n",
      "E = -0.9670168314563383 Eh\n",
      "E = -0.9534301558257338 Eh\n",
      "E = -0.9449225613845083 Eh\n",
      "E = -0.9398332746700112 Eh\n",
      "E = -0.936879398954273 Eh\n",
      "E = -0.9351989265367051 Eh\n"
     ]
    }
   ],
   "source": [
    "#Run CCSD\n",
    "CCSD_PES = obtain_PES('h2', bond_lengths, basis,  method='ccsd')"
   ]
  },
  {
   "cell_type": "code",
   "execution_count": 24,
   "metadata": {},
   "outputs": [
    {
     "name": "stdout",
     "output_type": "stream",
     "text": [
      "E = 0.15748213365503494 Eh\n",
      "E = -0.8488991062024307 Eh\n",
      "E = -1.0882281844069175 Eh\n",
      "E = -1.1369289594005698 Eh\n",
      "E = -1.122957052798233 Eh\n",
      "E = -1.0887645364963472 Eh\n",
      "E = -1.050442037218747 Eh\n",
      "E = -1.015468171114093 Eh\n",
      "E = -0.9873930555210574 Eh\n",
      "E = -0.9670259116093076 Eh\n",
      "E = -0.9534242388722525 Eh\n",
      "E = -0.9449089870950522 Eh\n",
      "E = -0.9398197912188271 Eh\n",
      "E = -0.9368706035283365 Eh\n",
      "E = -0.9351960308386076 Eh\n"
     ]
    }
   ],
   "source": [
    "#Run CISD\n",
    "CISD_PES = obtain_PES('h2', bond_lengths, basis,  method='cisd')"
   ]
  },
  {
   "cell_type": "code",
   "execution_count": null,
   "metadata": {},
   "outputs": [],
   "source": []
  },
  {
   "cell_type": "code",
   "execution_count": null,
   "metadata": {},
   "outputs": [],
   "source": []
  },
  {
   "cell_type": "code",
   "execution_count": 26,
   "metadata": {},
   "outputs": [
    {
     "data": {
      "text/plain": [
       "<matplotlib.legend.Legend at 0x15066ee10>"
      ]
     },
     "execution_count": 26,
     "metadata": {},
     "output_type": "execute_result"
    },
    {
     "data": {
      "image/png": "[encoded data removed]",
      "text/plain": [
       "<Figure size 432x288 with 1 Axes>"
      ]
     },
     "metadata": {
      "needs_background": "light"
     },
     "output_type": "display_data"
    }
   ],
   "source": [
    "#Plot H2 PESs\n",
    "\n",
    "plt.title('H2 dissociation, STO-3G')\n",
    "plt.xlabel('R, Angstrom')\n",
    "plt.ylabel('E, Hartree')\n",
    "\n",
    "#plt.plot(bond_lengths, FCI_PES, label='FCI')\n",
    "#plt.scatter(bond_lengths, HF_PES, label='HF', color='orange')\n",
    "plt.scatter(bond_lengths, CCSD_PES, label='CCSD', color='purple')\n",
    "plt.scatter(bond_lengths, CISD_PES, label='CISD', color='green')\n",
    "\n",
    "plt.legend()"
   ]
  },
  {
   "cell_type": "markdown",
   "metadata": {},
   "source": [
    "<img src=\"figs/testimage.png\">"
   ]
  },
  {
   "cell_type": "markdown",
   "metadata": {},
   "source": [
    "## H<sub>2</sub>O symmetric O-H dissociation"
   ]
  },
  {
   "cell_type": "code",
   "execution_count": 15,
   "metadata": {},
   "outputs": [],
   "source": [
    "bond_lengths = np.linspace(0.1,2.4,15)"
   ]
  },
  {
   "cell_type": "code",
   "execution_count": 16,
   "metadata": {},
   "outputs": [
    {
     "name": "stdout",
     "output_type": "stream",
     "text": [
      "E = -20.553771141334764 Eh\n",
      "E = -63.95714729702177 Eh\n",
      "E = -71.83011451638686 Eh\n",
      "E = -74.09891152048478 Eh\n",
      "E = -74.80293568658189 Eh\n",
      "E = -74.99775641598721 Eh\n",
      "E = -75.01267338522194 Eh\n",
      "E = -74.96495666762046 Eh\n",
      "E = -74.90278494423346 Eh\n",
      "E = -74.84579790325914 Eh\n",
      "E = -74.80178045819972 Eh\n",
      "E = -74.77257595605914 Eh\n",
      "E = -74.75568947215372 Eh\n",
      "E = -74.74677049980544 Eh\n",
      "E = -74.74220135800624 Eh\n"
     ]
    }
   ],
   "source": [
    "#Run FCI\n",
    "FCI_PES = obtain_PES('h2o', bond_lengths, basis, method='fci')"
   ]
  },
  {
   "cell_type": "code",
   "execution_count": 17,
   "metadata": {},
   "outputs": [
    {
     "name": "stdout",
     "output_type": "stream",
     "text": [
      "E = -20.552132284766426 Eh\n",
      "E = -63.95218021785838 Eh\n",
      "E = -71.81993420467646 Eh\n",
      "E = -74.08088738612686 Eh\n",
      "E = -74.77414693446335 Eh\n",
      "E = -74.95319115833126 Eh\n",
      "E = -74.94484341241204 Eh\n",
      "E = -74.86449297109505 Eh\n",
      "E = -74.75958274693527 Eh\n",
      "E = -74.64990498176203 Eh\n",
      "E = -74.54453236789863 Eh\n",
      "E = -74.44882628637171 Eh\n",
      "E = -74.36975504261416 Eh\n",
      "E = -74.29499867456725 Eh\n",
      "E = -74.23708675969309 Eh\n"
     ]
    }
   ],
   "source": [
    "#Run HF\n",
    "HF_PES = obtain_PES('h2o', bond_lengths, basis,  method='hf')"
   ]
  },
  {
   "cell_type": "code",
   "execution_count": null,
   "metadata": {},
   "outputs": [
    {
     "name": "stdout",
     "output_type": "stream",
     "text": [
      "E = -20.553770535981744 Eh\n",
      "E = -65.13555219701932 Eh\n",
      "E = -72.43776464491314 Eh\n",
      "E = -74.36830286975754 Eh\n",
      "E = -74.90406353010559 Eh\n",
      "E = -75.01689329742361 Eh\n",
      "E = -74.99126910929218 Eh\n",
      "E = -74.9265037979913 Eh\n",
      "E = -74.86104256063717 Eh\n",
      "E = -74.81079186606573 Eh\n",
      "E = -74.78343922744928 Eh\n",
      "E = -74.776769959551 Eh\n",
      "E = -74.78004592477451 Eh\n",
      "E = -74.78420564914357 Eh\n"
     ]
    }
   ],
   "source": [
    "#Run CCSD\n",
    "CCSD_PES = obtain_PES('h2o', bond_lengths, basis,  method='ccsd')"
   ]
  },
  {
   "cell_type": "code",
   "execution_count": 16,
   "metadata": {},
   "outputs": [
    {
     "data": {
      "text/plain": [
       "<matplotlib.legend.Legend at 0x15c3b1e10>"
      ]
     },
     "execution_count": 16,
     "metadata": {},
     "output_type": "execute_result"
    },
    {
     "data": {
      "image/png": "[encoded data removed]",
      "text/plain": [
       "<Figure size 432x288 with 1 Axes>"
      ]
     },
     "metadata": {
      "needs_background": "light"
     },
     "output_type": "display_data"
    }
   ],
   "source": [
    "#Plot H2O PESs\n",
    "\n",
    "plt.title('H2O symmetric dissociation, STO-3G')\n",
    "plt.xlabel('R, Angstrom')\n",
    "plt.ylabel('E, Hartree')\n",
    "\n",
    "plt.plot(bond_lengths, FCI_PES, label='FCI')\n",
    "plt.scatter(bond_lengths, HF_PES, label='HF', color='orange')\n",
    "plt.scatter(bond_lengths, CCSD_PES, label='CCSD', color='purple')\n",
    "plt.legend()"
   ]
  },
  {
   "cell_type": "markdown",
   "metadata": {},
   "source": [
    "## LiH"
   ]
  },
  {
   "cell_type": "code",
   "execution_count": null,
   "metadata": {},
   "outputs": [],
   "source": [
    "#Run FCI\n",
    "FCI_PES = obtain_PES('lih', bond_lengths, basis, method='fci')"
   ]
  },
  {
   "cell_type": "code",
   "execution_count": null,
   "metadata": {},
   "outputs": [],
   "source": [
    "HF_PES = obtain_PES('lih', bond_lengths, basis,  method='hf')"
   ]
  },
  {
   "cell_type": "code",
   "execution_count": null,
   "metadata": {},
   "outputs": [],
   "source": [
    "#Run CCSD\n",
    "CCSD_PES = obtain_PES('lih', bond_lengths, basis,  method='ccsd')"
   ]
  },
  {
   "cell_type": "code",
   "execution_count": null,
   "metadata": {},
   "outputs": [],
   "source": [
    "#Plot LiH PESs\n",
    "\n",
    "plt.title('LiH symmetric dissociation, STO-3G')\n",
    "plt.xlabel('R, Angstrom')\n",
    "plt.ylabel('E, Hartree')\n",
    "\n",
    "plt.plot(bond_lengths, FCI_PES, label='FCI')\n",
    "plt.scatter(bond_lengths, HF_PES, label='HF', color='orange')\n",
    "plt.scatter(bond_lengths, CCSD_PES, label='CCSD', color='purple')\n",
    "plt.legend()"
   ]
  },
  {
   "cell_type": "markdown",
   "metadata": {},
   "source": [
    "## H<sub>4</sub>"
   ]
  },
  {
   "cell_type": "code",
   "execution_count": null,
   "metadata": {},
   "outputs": [],
   "source": [
    "#Run FCI\n",
    "FCI_PES = obtain_PES('h4', bond_lengths, basis, method='fci')"
   ]
  },
  {
   "cell_type": "code",
   "execution_count": null,
   "metadata": {},
   "outputs": [],
   "source": [
    "#Run HF\n",
    "HF_PES = obtain_PES('h4', bond_lengths, basis,  method='hf')"
   ]
  },
  {
   "cell_type": "code",
   "execution_count": null,
   "metadata": {},
   "outputs": [],
   "source": [
    "#Run CCSD\n",
    "CCSD_PES = obtain_PES('h4', bond_lengths, basis,  method='ccsd')"
   ]
  },
  {
   "cell_type": "code",
   "execution_count": null,
   "metadata": {},
   "outputs": [],
   "source": [
    "#Plot H4 PESs\n",
    "\n",
    "plt.title('H4 symmetric dissociation, STO-3G')\n",
    "plt.xlabel('R, Angstrom')\n",
    "plt.ylabel('E, Hartree')\n",
    "\n",
    "plt.plot(bond_lengths, FCI_PES, label='FCI')\n",
    "plt.scatter(bond_lengths, HF_PES, label='HF', color='orange')\n",
    "plt.scatter(bond_lengths, CCSD_PES, label='CCSD', color='purple')\n",
    "plt.legend()"
   ]
  }
 ],
 "metadata": {
  "kernelspec": {
   "display_name": "tequila_devel_3.6",
   "language": "python",
   "name": "tequila_devel_3.6"
  },
  "language_info": {
   "codemirror_mode": {
    "name": "ipython",
    "version": 3
   },
   "file_extension": ".py",
   "mimetype": "text/x-python",
   "name": "python",
   "nbconvert_exporter": "python",
   "pygments_lexer": "ipython3",
   "version": "3.7.10"
  }
 },
 "nbformat": 4,
 "nbformat_minor": 2
}
