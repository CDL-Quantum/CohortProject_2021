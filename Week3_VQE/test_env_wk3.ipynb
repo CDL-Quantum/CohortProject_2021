{
 "cells": [
  {
   "cell_type": "code",
   "execution_count": 3,
   "metadata": {},
   "outputs": [],
   "source": [
    "# from utility import get_molecular_data, obtain_PES"
   ]
  },
  {
   "cell_type": "code",
   "execution_count": 1,
   "metadata": {},
   "outputs": [
    {
     "name": "stderr",
     "output_type": "stream",
     "text": [
      "/home/abarthe/.local/lib/python3.7/site-packages/pyscf/lib/misc.py:46: H5pyDeprecationWarning: Using default_file_mode other than 'r' is deprecated. Pass the mode to h5py.File() instead.\n",
      "  h5py.get_config().default_file_mode = 'a'\n"
     ]
    }
   ],
   "source": [
    "import math\n",
    "import itertools\n",
    "import numpy as np\n",
    "import openfermion\n",
    "from copy import deepcopy\n",
    "from openfermion import QubitOperator, MolecularData, taper_off_qubits, commutator\n",
    "from openfermionpyscf import run_pyscf\n",
    "from openfermion.transforms import get_fermion_operator, bravyi_kitaev, jordan_wigner\n",
    "\n",
    "from tequila.grouping.binary_rep import BinaryHamiltonian\n",
    "from tequila.grouping.binary_utils import binary_null_space\n",
    "from tequila import QubitHamiltonian, Variable, quantumchemistry, gates, PauliString, minimize"
   ]
  },
  {
   "cell_type": "code",
   "execution_count": null,
   "metadata": {},
   "outputs": [],
   "source": []
  }
 ],
 "metadata": {
  "kernelspec": {
   "display_name": "Python 3",
   "language": "python",
   "name": "python3"
  },
  "language_info": {
   "codemirror_mode": {
    "name": "ipython",
    "version": 3
   },
   "file_extension": ".py",
   "mimetype": "text/x-python",
   "name": "python",
   "nbconvert_exporter": "python",
   "pygments_lexer": "ipython3",
   "version": "3.7.1"
  }
 },
 "nbformat": 4,
 "nbformat_minor": 2
}
