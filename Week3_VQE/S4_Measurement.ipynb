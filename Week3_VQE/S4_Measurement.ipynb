{
 "cells": [
  {
   "cell_type": "markdown",
   "metadata": {},
   "source": [
    "# Measurement Grouping\n",
    "\n",
    "Since current quantum hardware is limited to single-qubit projective measurement, only terms commuting within individual qubit's subspace can be measured together. These terms are said to be qubit-wise commuting (QWC). \n",
    "\n",
    "Thus, one can not measure the entire electronic Hamiltonian $\\hat H$ at once, and instead needs to separate it into fragments. \n",
    "$$\\hat H = \\sum_n \\hat H_n$$\n",
    "where each $\\hat H_n$ is a QWC fragment. "
   ]
  },
  {
   "cell_type": "code",
   "execution_count": 1,
   "metadata": {},
   "outputs": [],
   "source": [
    "from utility import * "
   ]
  },
  {
   "cell_type": "markdown",
   "metadata": {},
   "source": [
    "Here we use $H_2$ as an example for finding QWC fragments. Notice below that each fragment has the same terms on all qubits.  \n",
    "\n",
    "To show differences between QWC and more advanced grouping, we didn't use the qubit-tappering techinique shown in step 2."
   ]
  },
  {
   "cell_type": "code",
   "execution_count": 2,
   "metadata": {
    "tags": []
   },
   "outputs": [
    {
     "name": "stdout",
     "output_type": "stream",
     "text": [
      "Fragments 1: \n",
      "0.13716572937099497 [Z0] +\n",
      "0.15660062488237947 [Z0 Z1] +\n",
      "0.10622904490856075 [Z0 Z2] +\n",
      "0.15542669077992832 [Z0 Z3] +\n",
      "0.13716572937099492 [Z1] +\n",
      "0.15542669077992832 [Z1 Z2] +\n",
      "0.10622904490856075 [Z1 Z3] +\n",
      "-0.13036292057109117 [Z2] +\n",
      "0.16326768673564346 [Z2 Z3] +\n",
      "-0.13036292057109117 [Z3]\n",
      "\n",
      "Fragments 2:\n",
      "-0.04919764587136755 [X0 X1 Y2 Y3]\n",
      "\n",
      "Number of fragments: 5\n"
     ]
    }
   ],
   "source": [
    "h2 = get_qubit_hamiltonian(mol='h2', geometry=1, basis='sto3g', qubit_transf='jw')\n",
    "\n",
    "qwc_list = get_qwc_group(h2)\n",
    "print('Fragments 1: \\n{}\\n'.format(qwc_list[4]))\n",
    "print('Fragments 2:\\n{}\\n'.format(qwc_list[1]))\n",
    "print('Number of fragments: {}'.format(len(qwc_list)))"
   ]
  },
  {
   "cell_type": "markdown",
   "metadata": {},
   "source": [
    "By applying extra unitaries, one may rotate more terms of $\\hat H$ into a QWC fragment.  \n",
    "\n",
    "Recall that in digital quantum computing, the expectation value of $\\hat H_n$ given a trial wavefunction $|\\psi\\rangle$ is \n",
    "$$ E_n =\\ \\langle\\psi| \\hat H_n | \\psi\\rangle$$\n",
    "Inserting unitary transformation $\\hat U_n$ does not change the expectation value.\n",
    "$$ E_n =\\ \\langle\\psi| \\hat U_n^\\dagger \\hat U_n \\hat H_n \\hat U_n^\\dagger \\hat U_n  |\\psi\\rangle$$ \n",
    "This nonetheless changes the trial wavefunction and the terms to be measured. \n",
    "$$ |\\psi\\rangle \\rightarrow \\hat U_n |\\psi\\rangle = |\\phi\\rangle$$\n",
    "$$ \\hat H_n \\rightarrow \\hat U_n \\hat H_n \\hat U_n^\\dagger = \\hat A_n$$\n",
    "The transformation of $|\\psi \\rangle$ can be done on the quantum computer, and the transformation of $\\hat H_n$ is possible on the classical computer. \n",
    "\n",
    "Now, although $\\hat A_n$ needs to be a QWC fragment to be measurable on a quantum computer, $\\hat H_n$ does not. \n",
    "Instead, if we restrict $\\hat U_n$ to be a clifford operation, the terms in $\\hat H$ need only mutually commute. \n",
    "\n",
    "Here, we obtain measurable parts of $H_2$ by partitioning its terms into mutually commuting fragments. "
   ]
  },
  {
   "cell_type": "code",
   "execution_count": 3,
   "metadata": {
    "tags": []
   },
   "outputs": [
    {
     "name": "stdout",
     "output_type": "stream",
     "text": [
      "Number of mutually commuting parts: 2\n",
      "The first commuting group\n",
      "-0.32760818967480887 [] +\n",
      "-0.04919764587136755 [X0 X1 Y2 Y3] +\n",
      "0.04919764587136755 [X0 Y1 Y2 X3] +\n",
      "0.04919764587136755 [Y0 X1 X2 Y3] +\n",
      "-0.04919764587136755 [Y0 Y1 X2 X3] +\n",
      "0.15660062488237947 [Z0 Z1] +\n",
      "0.10622904490856075 [Z0 Z2] +\n",
      "0.15542669077992832 [Z0 Z3] +\n",
      "0.15542669077992832 [Z1 Z2] +\n",
      "0.10622904490856075 [Z1 Z3] +\n",
      "0.16326768673564346 [Z2 Z3]\n"
     ]
    }
   ],
   "source": [
    "comm_groups = get_commuting_group(h2)\n",
    "print('Number of mutually commuting fragments: {}'.format(len(comm_groups)))\n",
    "print('The first commuting group')\n",
    "print(comm_groups[1])"
   ]
  },
  {
   "cell_type": "markdown",
   "metadata": {},
   "source": [
    "To see this fragment is indeed measurable, one can construct the corresponding unitary operator $\\hat U_n$."
   ]
  },
  {
   "cell_type": "code",
   "execution_count": 4,
   "metadata": {
    "tags": []
   },
   "outputs": [
    {
     "name": "stdout",
     "output_type": "stream",
     "text": [
      "This is unitary, U * U^+ = I \n",
      "(0.9999999999999996+0j) []\n"
     ]
    }
   ],
   "source": [
    "uqwc = get_qwc_unitary(comm_groups[1])\n",
    "print('This is unitary, U * U^+ = I ')\n",
    "print(uqwc * uqwc)"
   ]
  },
  {
   "cell_type": "markdown",
   "metadata": {},
   "source": [
    "Applying this unitary gives the qubit-wise commuting form of the first mutually commuting group"
   ]
  },
  {
   "cell_type": "code",
   "execution_count": 5,
   "metadata": {
    "tags": []
   },
   "outputs": [
    {
     "name": "stdout",
     "output_type": "stream",
     "text": [
      "-0.32760818967480876 [] +\n",
      "0.1554266907799282 [X0] +\n",
      "0.1566006248823793 [X0 X1] +\n",
      "0.04919764587136754 [X0 X1 Z3] +\n",
      "0.1062290449085607 [X0 X2] +\n",
      "-0.04919764587136754 [X0 Z3] +\n",
      "0.1062290449085607 [X1] +\n",
      "0.1554266907799282 [X1 X2] +\n",
      "-0.04919764587136754 [X1 X2 Z3] +\n",
      "0.16326768673564332 [X2] +\n",
      "0.04919764587136754 [X2 Z3]\n"
     ]
    }
   ],
   "source": [
    "qwc = remove_complex(uqwc * comm_groups[1] * uqwc)\n",
    "print(qwc)"
   ]
  },
  {
   "cell_type": "markdown",
   "metadata": {},
   "source": [
    "In addition, current quantum computer can measure only the $z$ operators. Thus, QWC fragments with $x$ or $y$ operators require extra single-qubit unitaries that rotate them into $z$.  "
   ]
  },
  {
   "cell_type": "code",
   "execution_count": 6,
   "metadata": {
    "tags": []
   },
   "outputs": [
    {
     "name": "stdout",
     "output_type": "stream",
     "text": [
      "Checking whether U * U^+ is identity: 0.9999999999999998 []\n",
      "\n",
      "The all-z form of qwc fragment:\n",
      "-0.3276081896748086 [] +\n",
      "0.15542669077992813 [Z0] +\n",
      "0.15660062488237922 [Z0 Z1] +\n",
      "0.049197645871367504 [Z0 Z1 Z3] +\n",
      "0.10622904490856065 [Z0 Z2] +\n",
      "-0.049197645871367504 [Z0 Z3] +\n",
      "0.10622904490856065 [Z1] +\n",
      "0.15542669077992813 [Z1 Z2] +\n",
      "-0.049197645871367504 [Z1 Z2 Z3] +\n",
      "0.16326768673564326 [Z2] +\n",
      "0.049197645871367504 [Z2 Z3]\n"
     ]
    }
   ],
   "source": [
    "uz = get_zform_unitary(qwc)\n",
    "print(\"Checking whether U * U^+ is identity: {}\".format(uz * uz))\n",
    "\n",
    "allz = remove_complex(uz * qwc * uz)\n",
    "print(\"\\nThe all-z form of qwc fragment:\\n{}\".format(allz))"
   ]
  }
 ],
 "metadata": {
  "kernelspec": {
   "display_name": "Python 3",
   "language": "python",
   "name": "python3"
  },
  "language_info": {
   "codemirror_mode": {
    "name": "ipython",
    "version": 3
   },
   "file_extension": ".py",
   "mimetype": "text/x-python",
   "name": "python",
   "nbconvert_exporter": "python",
   "pygments_lexer": "ipython3",
   "version": "3.7.1"
  }
 },
 "nbformat": 4,
 "nbformat_minor": 2
}
