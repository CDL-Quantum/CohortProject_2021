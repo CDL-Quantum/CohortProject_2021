{
 "cells": [
  {
   "cell_type": "code",
   "execution_count": null,
   "metadata": {},
   "outputs": [],
   "source": [
    "import numpy as np\n",
    "import matplotlib.pyplot as plt\n",
    "from utility import *\n",
    "from scipy.sparse.linalg import eigs\n",
    "from scipy import sparse\n",
    "\n",
    "basis = 'sto-3g'"
   ]
  },
  {
   "cell_type": "markdown",
   "metadata": {},
   "source": [
    "## Function to compute number of measurements needed for a given molecule"
   ]
  },
  {
   "cell_type": "code",
   "execution_count": 25,
   "metadata": {},
   "outputs": [],
   "source": [
    "def createHam(h, n_qubits = None):\n",
    "\n",
    "    I, X, Y, Z = np.identity(2), np.array([[0, 1], [1, 0]]), np.array([[0, -1j], [1j, 0]]), np.array([[1, 0], [0, -1]])\n",
    "\n",
    "    # Build matrix representiation of the Hamiltonian H\n",
    "    if(n_qubits is None):\n",
    "        n_qubits = openfermion.count_qubits(h)\n",
    "        #print(n_qubits)\n",
    "    \n",
    "    h_matrix = np.zeros((2**n_qubits, 2**n_qubits), dtype=np.complex)\n",
    "    for term, term_coeff in h.terms.items(): # Iterate over pauli-words of H\n",
    "        term = dict(term) # Dict[qubit_index, 'X'/'Y'/'Z']\n",
    "\n",
    "        # Build matrix rep of current pauli-word using kronecker product to represent x_i y_j ...\n",
    "        pw_matrix = np.identity(1)\n",
    "        for i in range(n_qubits):\n",
    "            if i not in term:        pw_matrix = np.kron(pw_matrix, I)\n",
    "            else:\n",
    "                if term[i] == 'X':   pw_matrix = np.kron(pw_matrix, X)\n",
    "                elif term[i] == 'Y': pw_matrix = np.kron(pw_matrix, Y)\n",
    "                else:                pw_matrix = np.kron(pw_matrix, Z)\n",
    "        h_matrix += pw_matrix * term_coeff\n",
    "\n",
    "    return h_matrix\n",
    "\n",
    "def getSigma2(mname, bondlength=1.0):\n",
    "    \n",
    "    h = get_qubit_hamiltonian(mol=mname, geometry=bondlength, basis='sto3g', qubit_transf='jw')\n",
    "    n_qubits = openfermion.count_qubits(h)\n",
    "    print('Number of qubits needed:',n_qubits)\n",
    "    \n",
    "    h_matrix = createHam(h)\n",
    "    print('matrix created')\n",
    "    \n",
    "    #eigvals, eigvec = np.linalg.eigh(h_matrix)    \n",
    "    #print('E:',eigvals)\n",
    "        \n",
    "    h_sparse = sparse.csr_matrix(h_matrix)\n",
    "    print('sparse created')\n",
    "    \n",
    "    eigvals, eigvec = eigs(h_sparse,k = 1,which='SR', tol=1.0e-6)\n",
    "    #print(eigvals)\n",
    "    #print(eigvec)\n",
    "    psi = eigvec[:,0]\n",
    "    \n",
    "    #print('Psi:',psi)    \n",
    "    #print(np.dot(np.dot(psi.conj(),h_matrix),psi))\n",
    "    \n",
    "    \n",
    "    h_matrix2 = np.dot(h_matrix,h_matrix)\n",
    "    fsig2 = np.dot(np.dot(psi.conj(),h_matrix2),psi) - np.dot(np.dot(psi.conj(),h_matrix),psi)**2\n",
    "    \n",
    "    #Do qubit-wise-commuting partitioning\n",
    "    qwc_list = get_qwc_group(h)    \n",
    "    sig2s_qwc = []\n",
    "    for qwc in qwc_list:\n",
    "        #print('QWC Fragment: ',qwc)\n",
    "        \n",
    "        #Do unitary rotation for z-gate measurement restriction\n",
    "        uz = get_zform_unitary(qwc)    \n",
    "        allz = remove_complex(uz * qwc * uz)\n",
    "        \n",
    "        lH = createHam(allz, n_qubits = n_qubits)\n",
    "        #print('QWC Fragment shape:',lH.shape)\n",
    "        lH2 = np.dot(lH,lH)\n",
    "        lsig2 = np.dot(np.dot(psi.conj(),lH2),psi) - np.dot(np.dot(psi.conj(),lH),psi)**2\n",
    "        lsig2 = np.abs(lsig2)\n",
    "        sig2s_qwc.append(lsig2**0.5)\n",
    "    \n",
    "    print('\\n')\n",
    "    #Do fully commuting\n",
    "    comm_groups = get_commuting_group(h)\n",
    "    \n",
    "    sig2s_fc = []\n",
    "    for hn in comm_groups.values():\n",
    "        #print('FC Fragment:',hn)\n",
    "        \n",
    "        #Create QWC from FC\n",
    "        uqwc = get_qwc_unitary(hn)\n",
    "        qwc = remove_complex(uqwc * hn * uqwc)\n",
    "        \n",
    "        #Do unitary rotation for z-gate measurement restriction\n",
    "        uz = get_zform_unitary(qwc)    \n",
    "        allz = remove_complex(uz * qwc * uz)\n",
    "        \n",
    "        lH = createHam(allz, n_qubits = n_qubits)\n",
    "        lH2 = np.dot(lH,lH)\n",
    "        lsig2 = np.dot(np.dot(psi.conj(),lH2),psi) - np.dot(np.dot(psi.conj(),lH),psi)**2\n",
    "        lsig2 = lsig2.real\n",
    "        sig2s_fc.append(lsig2**0.5)\n",
    "    \n",
    "    return sig2s_qwc, sig2s_fc, fsig2\n",
    "    "
   ]
  },
  {
   "cell_type": "code",
   "execution_count": 26,
   "metadata": {},
   "outputs": [],
   "source": [
    "def getN_T(etols, sig2s):    \n",
    "    return (np.sum(sig2s)/etols)**2"
   ]
  },
  {
   "cell_type": "code",
   "execution_count": 27,
   "metadata": {},
   "outputs": [
    {
     "name": "stdout",
     "output_type": "stream",
     "text": [
      "Number of qubits needed: 4\n",
      "matrix created\n",
      "\n",
      "\n"
     ]
    }
   ],
   "source": [
    "sig2s_qwc, sig2s_fc, fsig2 = getSigma2('h2',0.741)"
   ]
  },
  {
   "cell_type": "code",
   "execution_count": 28,
   "metadata": {},
   "outputs": [
    {
     "name": "stdout",
     "output_type": "stream",
     "text": [
      "\n",
      "Results\n",
      "\n",
      "QWC Sigma Spectrum (5): [1.1406325468715177e-09, 5.607558368760129e-10, 5.607558368760129e-10, 5.607558368760129e-10, 0.17665799649573852]\n",
      "QWC N_T: 31208.048723264103\n",
      "\n",
      "\n",
      "FC Sigma Spectrum: (2): [0.004806455699775473, 0.17665799649573885]\n",
      "FC N_T: 32929.3474106181\n",
      "\n",
      "\n",
      "Full hamiltonian Sigma:  (-8.881784197001252e-16+1.5240520571051535e-17j)\n",
      "N_T: (7.886286317537351e-25-2.7072602952407606e-26j)\n"
     ]
    }
   ],
   "source": [
    "print('\\nResults\\n')\n",
    "print(f'QWC Sigma Spectrum ({len(sig2s_qwc)}): {sig2s_qwc}')\n",
    "print('QWC N_T:',getN_T(1.0e-3,sig2s_qwc))\n",
    "print('\\n')\n",
    "print(f'FC Sigma Spectrum: ({len(sig2s_fc)}): {sig2s_fc}')\n",
    "print('FC N_T:',getN_T(1.0e-3,sig2s_fc))\n",
    "print('\\n')\n",
    "print('Full hamiltonian Sigma: ',fsig2)\n",
    "print('N_T:',getN_T(1.0e-3,[fsig2]))"
   ]
  },
  {
   "cell_type": "code",
   "execution_count": 29,
   "metadata": {},
   "outputs": [
    {
     "name": "stdout",
     "output_type": "stream",
     "text": [
      "Number of qubits needed: 8\n",
      "matrix created\n",
      "\n",
      "\n"
     ]
    }
   ],
   "source": [
    "sig2s_qwc, sig2s_fc, fsig2 = getSigma2('h4',25)"
   ]
  },
  {
   "cell_type": "code",
   "execution_count": 30,
   "metadata": {},
   "outputs": [
    {
     "name": "stdout",
     "output_type": "stream",
     "text": [
      "\n",
      "Results\n",
      "\n",
      "QWC Sigma Spectrum (37): [0.17007661475031433, 7.054960604588239e-08, 7.054960604588239e-08, 7.054960604588239e-08, 0.09449681018401673, 0.009359780361883407, 0.09484555001014684, 0.009359780362302339, 0.005080087172574179, 0.014539669435145449, 0.014539669434571547, 0.005080087174410911, 0.0050800871714330766, 0.005080087174410911, 0.005080087170437591, 0.014539669435312081, 0.01453966943559647, 0.01453966943559647, 0.014539669435312081, 0.005080087170437591, 0.0050800871714330766, 0.014539669434571547, 0.005080087172574179, 0.014539669435145449, 0.0001681742749759163, 0.00016817426528461862, 0.00016817426528461862, 0.009191606101965092, 0.00016817427439827436, 0.009191606101846052, 0.009191606101268252, 0.009191606101965092, 0.046510985780851215, 5.021158961731636e-08, 5.021158961731636e-08, 5.021158961731636e-08, 0.09302446470237796]\n",
      "QWC N_T: 507045.8535562652\n",
      "\n",
      "\n",
      "FC Sigma Spectrum: (4): [0.010388498464063197, 0.044062001581214046, 0.01461114058787768, 0.34635984384585766]\n",
      "FC N_T: 172575.00976674655\n",
      "\n",
      "\n",
      "Full hamiltonian Sigma:  (4.645173135031655e-12+1.4539733863511949e-15j)\n",
      "N_T: (2.1577631340381204e-17+1.3507916226659143e-20j)\n"
     ]
    }
   ],
   "source": [
    "print('\\nResults\\n')\n",
    "print(f'QWC Sigma Spectrum ({len(sig2s_qwc)}): {sig2s_qwc}')\n",
    "print('QWC N_T:',getN_T(1.0e-3,sig2s_qwc))\n",
    "print('\\n')\n",
    "print(f'FC Sigma Spectrum: ({len(sig2s_fc)}): {sig2s_fc}')\n",
    "print('FC N_T:',getN_T(1.0e-3,sig2s_fc))\n",
    "print('\\n')\n",
    "print('Full hamiltonian Sigma: ',fsig2)\n",
    "print('N_T:',getN_T(1.0e-3,[fsig2]))"
   ]
  },
  {
   "cell_type": "code",
   "execution_count": null,
   "metadata": {},
   "outputs": [
    {
     "name": "stdout",
     "output_type": "stream",
     "text": [
      "Number of qubits needed: 12\n",
      "matrix created\n",
      "\n",
      "\n"
     ]
    }
   ],
   "source": [
    "sig2s_qwc, sig2s_fc, fsig2 = getSigma2('lih',1.25)"
   ]
  },
  {
   "cell_type": "code",
   "execution_count": null,
   "metadata": {},
   "outputs": [],
   "source": [
    "print('\\nResults\\n')\n",
    "print(f'QWC Sigma Spectrum ({len(sig2s_qwc)}): {sig2s_qwc}')\n",
    "print('QWC N_T:',getN_T(1.0e-3,sig2s_qwc))\n",
    "print('\\n')\n",
    "print(f'FC Sigma Spectrum: ({len(sig2s_fc)}): {sig2s_fc}')\n",
    "print('FC N_T:',getN_T(1.0e-3,sig2s_fc))\n",
    "print('\\n')\n",
    "print('Full hamiltonian Sigma: ',fsig2)\n",
    "print('N_T:',getN_T(1.0e-3,[fsig2]))"
   ]
  },
  {
   "cell_type": "code",
   "execution_count": null,
   "metadata": {},
   "outputs": [],
   "source": []
  }
 ],
 "metadata": {
  "kernelspec": {
   "display_name": "tequila2",
   "language": "python",
   "name": "tequila2"
  }
 },
 "nbformat": 4,
 "nbformat_minor": 2
}
