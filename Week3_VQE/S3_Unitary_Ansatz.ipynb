{
 "cells": [
  {
   "cell_type": "markdown",
   "metadata": {},
   "source": [
    "# Unitary ansatz entering the VQE\n",
    "\n",
    "The final energy output of a VQE calculation will crucially depend on the ansatz/form of the parameterized unitary $\\hat U(\\boldsymbol{\\theta})$ employed in state preparation. Here we review two popular approaches, the unitary coupled cluster and qubit coupled cluster methodologies, and benchmark them for energy calculations of small molecules."
   ]
  },
  {
   "cell_type": "code",
   "execution_count": 1,
   "metadata": {},
   "outputs": [],
   "source": [
    "import numpy as np\n",
    "import openfermion\n",
    "import tequila as tq\n",
    "from tequila.quantumchemistry.qc_base import ClosedShellAmplitudes\n",
    "\n",
    "from utility import *\n",
    "threshold = 1e-6 #Cutoff for UCC MP2 amplitudes and QCC ranking gradients"
   ]
  },
  {
   "cell_type": "markdown",
   "metadata": {},
   "source": [
    "## Unitary Coupled Cluster (UCC)\n",
    "\n",
    "The UCC ansatz is obtained by 'unitarizing' the traditional coupled cluster ansatz,\n",
    "$$ e^{\\hat T} \\rightarrow e^{\\hat T - \\hat T^\\dagger} \\equiv \\hat U_{\\text{UCC}}$$\n",
    "\n",
    "\n",
    "Due to non-commutativity of terms in $\\hat T - \\hat T^\\dagger$, the UCC ansatz does not have a straightforward decomposition in terms of circuit primitives implementable on the quantum computer. Therefore, to obtain a form which can be compiled, we employ the Trotter approximation. The accuracy of the circuit ansatz relative to the exact UCC operator will be dependent on how many Trotter steps are employed. The number of Trotter steps is commonly set to its minimal value of one to avoid excessive circuit depth."
   ]
  },
  {
   "cell_type": "code",
   "execution_count": 2,
   "metadata": {},
   "outputs": [],
   "source": [
    "trotter_steps = 1"
   ]
  },
  {
   "cell_type": "markdown",
   "metadata": {},
   "source": [
    "### H2 in STO-3G basis\n",
    "\n",
    "Below is a sample VQE simulation using the UCCSD ansatz compiled using a single trotter step for H$_2$ in minimal basis at $R=2.5$ (Angstrom). For comparison, we can run FCI to obtain the true ground state energy.\n"
   ]
  },
  {
   "cell_type": "code",
   "execution_count": 3,
   "metadata": {},
   "outputs": [
    {
     "name": "stdout",
     "output_type": "stream",
     "text": [
      "converged SCF energy = -0.702943599723527\n",
      "Number of spin-orbitals (qubits): 4 \n",
      "\n",
      "FCI energy: -0.9360549199556059\n"
     ]
    }
   ],
   "source": [
    "xyz_data = get_molecular_data('h2', geometry=2.5, xyz_format=True)\n",
    "basis='sto-3g'\n",
    "\n",
    "h2 = tq.quantumchemistry.Molecule(geometry=xyz_data, basis_set=basis)\n",
    "\n",
    "print('Number of spin-orbitals (qubits): {} \\n'.format(2*h2.n_orbitals))\n",
    "\n",
    "E_FCI = h2.compute_energy(method='fci')\n",
    "\n",
    "print('FCI energy: {}'.format(E_FCI))"
   ]
  },
  {
   "cell_type": "code",
   "execution_count": 4,
   "outputs": [
    {
     "data": {
      "text/plain": "<openfermionpyscf._pyscf_molecular_data.PyscfMolecularData at 0x7f551c025670>"
     },
     "execution_count": 4,
     "metadata": {},
     "output_type": "execute_result"
    }
   ],
   "source": [
    "run_pyscf(h2.molecule, run_scf=True)\n"
   ],
   "metadata": {
    "collapsed": false,
    "pycharm": {
     "name": "#%%\n"
    }
   }
  },
  {
   "cell_type": "markdown",
   "metadata": {},
   "source": [
    "The UCCSD VQE optimization is of the form\n",
    "$$E = \\min_{\\boldsymbol{\\theta}} \\langle \\text{HF} | \\hat U_{\\text{UCC}}^\\dagger(\\boldsymbol{\\theta}) \\hat H  \\hat U_{\\text{UCC}} (\\boldsymbol{\\theta}) | \\text{HF} \\rangle $$\n",
    "To expedite the optimization process, we can set the initial guess of the amplitudes to zero, i.e. the optimization will begin at the Hartree Fock state. This heuristic is best suited for when Hartree Fock is believed to be in qualitative agreement with the true ground state. To further alleviate quantum resources, we can estimate the amplitudes using classical electronic structure methods (here, MP2 perturbation theory), and only include the unitaries with non-zero estimated amplitudes."
   ]
  },
  {
   "cell_type": "code",
   "execution_count": 5,
   "metadata": {
    "scrolled": true
   },
   "outputs": [
    {
     "name": "stderr",
     "output_type": "stream",
     "text": [
      "WARNING:absl:No GPU/TPU found, falling back to CPU. (Set TF_CPP_MIN_LOG_LEVEL=0 and rerun for more info.)\n"
     ]
    },
    {
     "name": "stdout",
     "output_type": "stream",
     "text": [
      "\n",
      "Hamiltonian has 15 terms\n",
      "\n",
      "\n",
      "Number of UCCSD amplitudes: 1 \n",
      "\n",
      "\n",
      "Starting optimization:\n",
      "\n",
      "Optimizer: <class 'tequila.optimizers.optimizer_scipy.OptimizerSciPy'> \n",
      "backend         : qulacs\n",
      "device          : None\n",
      "samples         : None\n",
      "save_history    : True\n",
      "noise           : None\n",
      "\n",
      "Method          : BFGS\n",
      "Objective       : 1 expectationvalues\n",
      "gradient        : 2 expectationvalues\n",
      "\n",
      "active variables : 1\n",
      "\n",
      "E=-0.70294360  angles= {(1, 0, 1, 0): 0.0}  samples= None\n",
      "E=-0.92698007  angles= {(1, 0, 1, 0): -0.5644201040267944}  samples= None\n",
      "E=-0.93354954  angles= {(1, 0, 1, 0): -0.7564777228200539}  samples= None\n",
      "E=-0.93605486  angles= {(1, 0, 1, 0): -0.6900732728088522}  samples= None\n",
      "E=-0.93605492  angles= {(1, 0, 1, 0): -0.6904080103487397}  samples= None\n",
      "E=-0.93605492  angles= {(1, 0, 1, 0): -0.6904070252165746}  samples= None\n",
      "Optimization terminated successfully.\n",
      "         Current function value: -0.936055\n",
      "         Iterations: 5\n",
      "         Function evaluations: 6\n",
      "         Gradient evaluations: 6\n",
      "\n",
      "Obtained UCCSD energy: -0.9360549199556059\n"
     ]
    }
   ],
   "source": [
    "H = h2.make_hamiltonian()\n",
    "\n",
    "print(\"\\nHamiltonian has {} terms\\n\".format(len(H)))\n",
    "U_UCCSD = h2.make_uccsd_ansatz(initial_amplitudes='MP2',threshold=threshold, trotter_steps=trotter_steps)\n",
    "\n",
    "E = tq.ExpectationValue(H=H, U=U_UCCSD)\n",
    "\n",
    "print('\\nNumber of UCCSD amplitudes: {} \\n'.format(len(E.extract_variables())))\n",
    "\n",
    "print('\\nStarting optimization:\\n')\n",
    "\n",
    "result = tq.minimize(objective=E, method=\"BFGS\", initial_values={k:0.0 for k in E.extract_variables()}, tol=1e-6)\n",
    "\n",
    "print('\\nObtained UCCSD energy: {}'.format(result.energy))"
   ]
  },
  {
   "cell_type": "markdown",
   "metadata": {},
   "source": [
    "We see that the converged UCCSD energy is in exact agreement with the FCI energy, as expected for a $2$-electron system. \n",
    "\n",
    "### H2O in 6-31G basis\n",
    "\n",
    "Now let us try a larger problem of H$_2$O in 6-31G basis. However, we will restrict the active space. The unrestricted problem leads to a $14$-qubit Hamiltonian, and $34$ UCCSD amplitudes to optimize even after neglecting the zero MP2 amplitudes. Therefore, we will remove some orbital degrees of freedom which are less important in accurately describing the electronic structure. By freezing all orbitals other than $0b_1$, $1b_1$, $2a_1$, and $3a_1$, we reduce the problem to an $8$-qubit Hamiltonian with $8$ UCCSD variational amplitudes."
   ]
  },
  {
   "cell_type": "code",
   "execution_count": 6,
   "metadata": {},
   "outputs": [
    {
     "name": "stdout",
     "output_type": "stream",
     "text": [
      "converged SCF energy = -75.9807114451751\n",
      "Number of spin-orbitals (qubits): 8 \n",
      "\n",
      "Number of electrons : 4\n",
      "\n",
      "FCI energy: -75.98217710132415\n"
     ]
    }
   ],
   "source": [
    "xyz_data = get_molecular_data('h2o', geometry=1, xyz_format=True)\n",
    "\n",
    "basis = '6-31g'\n",
    "n_elec = 10\n",
    "n_occ  = n_elec // 2\n",
    "# active = {'B1':[0,1], 'A1':[2,3]}\n",
    "active = [n_occ-2, n_occ-1, n_occ, n_occ+1]\n",
    "n_occ = 2\n",
    "n_virt = 2\n",
    "# h2o = openfermion.MolecularData(xyz_data, basis, multiplicity=1)\n",
    "# h2o.init_lazy_properties()\n",
    "h2o = tq.quantumchemistry.Molecule(geometry=xyz_data,\n",
    "                                   basis_set = basis,\n",
    "                                   active_orbitals = active)\n",
    "\n",
    "# print(h2o.get_active_space_integrals())\n",
    "\n",
    "# print(h2o.active_space.active_orbitals)\n",
    "# print(h2o.active_space.active_reference_orbitals)\n",
    "# print(h2o.active_space.frozen_reference_orbitals)\n",
    "\n",
    "print('Number of spin-orbitals (qubits): {} \\n'.format(2*h2o.n_orbitals))\n",
    "print('Number of electrons : {}\\n'.format(h2o.n_electrons))\n",
    "\n",
    "E_FCI = h2o.compute_energy(method='fci')\n",
    "\n",
    "print('FCI energy: {}'.format(E_FCI))"
   ]
  },
  {
   "cell_type": "markdown",
   "metadata": {},
   "source": [
    "We will then run the UCCSD VQE simulation (***warning: tq.minimize will take several minutes - 1 hour + to converge for a VQE instance of this size.*** Smaller active spaces can be employed to lower VQE simulation runtimes)."
   ]
  },
  {
   "cell_type": "code",
   "execution_count": 9,
   "metadata": {},
   "outputs": [
    {
     "name": "stdout",
     "output_type": "stream",
     "text": [
      "\n",
      "Hamiltonian has 105 terms\n",
      "\n",
      "2 2\n",
      "\n",
      "Number of UCCSD amplitudes: 15 \n",
      "\n",
      "\n",
      "Starting optimization:\n",
      "\n",
      "Optimizer: <class 'tequila.optimizers.optimizer_scipy.OptimizerSciPy'> \n",
      "backend         : qulacs\n",
      "device          : None\n",
      "samples         : None\n",
      "save_history    : True\n",
      "noise           : None\n",
      "\n",
      "Method          : BFGS\n",
      "Objective       : 1 expectationvalues\n",
      "gradient        : 70 expectationvalues\n",
      "\n",
      "active variables : 15\n",
      "\n",
      "E=-75.98071145  angles= {(2, 0, 2, 0): 0.0, (2, 0, 3, 0): 0.0, (3, 0, 2, 0): 0.0, (3, 0, 3, 0): 0.0, (2, 0, 2, 1): 0.0, (2, 0, 3, 1): 0.0, (3, 0, 2, 1): 0.0, (3, 0, 3, 1): 0.0, (2, 1, 2, 0): 0.0, (2, 1, 3, 0): 0.0, (3, 1, 2, 0): 0.0, (3, 1, 3, 0): 0.0, (2, 1, 2, 1): 0.0, (2, 1, 3, 1): 0.0, (3, 1, 2, 1): 0.0}  samples= None\n",
      "E=-75.95249008  angles= {(2, 0, 2, 0): -0.06198883056640625, (2, 0, 3, 0): -0.0497894287109375, (3, 0, 2, 0): 0.0497894287109375, (3, 0, 3, 0): 0.0, (2, 0, 2, 1): 0.0, (2, 0, 3, 1): 0.0, (3, 0, 2, 1): 0.0, (3, 0, 3, 1): 0.0, (2, 1, 2, 0): -0.0269317626953125, (2, 1, 3, 0): -0.01776885986328125, (3, 1, 2, 0): 0.01776885986328125, (3, 1, 3, 0): 0.0, (2, 1, 2, 1): 0.0, (2, 1, 3, 1): 0.0, (3, 1, 2, 1): 0.0}  samples= None\n",
      "E=-75.98137795  angles= {(2, 0, 2, 0): -0.008067707997959594, (2, 0, 3, 0): -0.006479983063961145, (3, 0, 2, 0): 0.006479983063961145, (3, 0, 3, 0): 0.0, (2, 0, 2, 1): 0.0, (2, 0, 3, 1): 0.0, (3, 0, 2, 1): 0.0, (3, 0, 3, 1): 0.0, (2, 1, 2, 0): -0.0035051088286519837, (2, 1, 3, 0): -0.0023125774679689714, (3, 1, 2, 0): 0.0023125774679689714, (3, 1, 3, 0): 0.0, (2, 1, 2, 1): 0.0, (2, 1, 3, 1): 0.0, (3, 1, 2, 1): 0.0}  samples= None\n",
      "E=-75.98180561  angles= {(2, 0, 2, 0): -0.03153171780839244, (2, 0, 3, 0): -0.002022647306929884, (3, 0, 2, 0): 0.0031041184973812763, (3, 0, 3, 0): -0.00030351916244276094, (2, 0, 2, 1): 0.000303519162442761, (2, 0, 3, 1): -0.000660080508613383, (3, 0, 2, 1): 0.0007425905721900559, (3, 0, 3, 1): -0.00030351916244276094, (2, 1, 2, 0): -0.014060190446333777, (2, 1, 3, 0): -0.00213406444435047, (3, 1, 2, 0): 0.0025908165820070525, (3, 1, 3, 0): -0.0001591265511835834, (2, 1, 2, 1): 0.00034477419423109735, (2, 1, 3, 1): 0.0007072291163714818, (3, 1, 2, 1): 0.0}  samples= None\n",
      "E=-75.98099385  angles= {(2, 0, 2, 0): -0.03120002539216562, (2, 0, 3, 0): -0.005174586763390697, (3, 0, 2, 0): 0.006190722053032767, (3, 0, 3, 0): 0.0015887386082957839, (2, 0, 2, 1): -0.0015887386082957837, (2, 0, 3, 1): 0.003218362734137402, (3, 0, 2, 1): -0.004412241738679699, (3, 0, 3, 1): 0.0015887386082957843, (2, 1, 2, 0): -0.014565564205011464, (2, 1, 3, 0): 0.007285147511268552, (3, 1, 2, 0): -0.008749176094920284, (3, 1, 3, 0): -0.00024064751147817478, (2, 1, 2, 1): 0.0007207544023584945, (2, 1, 3, 1): 0.0007888377655777227, (3, 1, 2, 1): 0.00036330406411567843}  samples= None\n",
      "E=-75.98184146  angles= {(2, 0, 2, 0): -0.031475137522629835, (2, 0, 3, 0): -0.0025603069772402822, (3, 0, 2, 0): 0.003630633131635678, (3, 0, 3, 0): 1.926327142415165e-05, (2, 0, 2, 1): -1.926327142415154e-05, (2, 0, 3, 1): 1.5066011709079447e-06, (3, 0, 2, 1): -0.00013672372906866107, (3, 0, 3, 1): 1.9263271424151704e-05, (2, 1, 2, 0): -0.014146397396761459, (2, 1, 3, 0): -0.0005273297768234428, (3, 1, 2, 0): 0.0006564340190738096, (3, 1, 3, 0): -0.00017303244412373287, (2, 1, 2, 1): 0.000408909117359347, (2, 1, 3, 1): 0.0007211499673373099, (3, 1, 2, 1): 6.19726190915469e-05}  samples= None\n",
      "E=-75.98187909  angles= {(2, 0, 2, 0): -0.027719283783239596, (2, 0, 3, 0): -0.0034063280227118603, (3, 0, 2, 0): 0.004243390535859151, (3, 0, 3, 0): -0.0003271283661807986, (2, 0, 2, 1): 0.00032712836618079867, (2, 0, 3, 1): -0.0007261667851640822, (3, 0, 2, 1): 0.000751718719214808, (3, 0, 3, 1): -0.00032712836618079845, (2, 1, 2, 0): -0.012939879096588232, (2, 1, 3, 0): -0.0013205311433719105, (3, 1, 2, 0): -0.0006728329102164521, (3, 1, 3, 0): -0.00020810193782841, (2, 1, 2, 1): 0.000618069001140494, (2, 1, 3, 1): 0.0007437692890610956, (3, 1, 2, 1): 0.00034425918005163834}  samples= None\n",
      "E=-75.98183583  angles= {(2, 0, 2, 0): -0.022829188476070995, (2, 0, 3, 0): -0.003703490153531195, (3, 0, 2, 0): 0.004353866001908584, (3, 0, 3, 0): 0.0005292533358433665, (2, 0, 2, 1): -0.000529253335843366, (2, 0, 3, 1): 0.0010795713921634646, (3, 0, 2, 1): -0.0016514766601402001, (3, 0, 3, 1): 0.0005292533358433667, (2, 1, 2, 0): -0.011150258436888605, (2, 1, 3, 0): -0.00442921601608366, (3, 1, 2, 0): -0.00016251437829542731, (3, 1, 3, 0): -0.0002557522280990832, (2, 1, 2, 1): 0.0009341628266322265, (2, 1, 3, 1): 0.0008552783145150101, (3, 1, 2, 1): 0.0007260311957061725}  samples= None\n",
      "E=-75.98189120  angles= {(2, 0, 2, 0): -0.026161474286868852, (2, 0, 3, 0): -0.0035009932511530133, (3, 0, 2, 0): 0.004278584068769542, (3, 0, 3, 0): -5.431577989527161e-05, (2, 0, 2, 1): 5.4315779895271774e-05, (2, 0, 3, 1): -0.00015092317457916, (3, 0, 2, 1): -1.385339102718305e-05, (3, 0, 3, 1): -5.4315779895271394e-05, (2, 1, 2, 0): -0.012369769950761469, (2, 1, 3, 0): -0.002310846978082793, (3, 1, 2, 0): -0.0005102636747998837, (3, 1, 3, 0): -0.00022328161634708018, (2, 1, 2, 1): 0.0007187651905119622, (2, 1, 3, 1): 0.0007792920770379488, (3, 1, 2, 1): 0.0004658780921745567}  samples= None\n",
      "E=-75.98189153  angles= {(2, 0, 2, 0): -0.026032109083339767, (2, 0, 3, 0): -0.0034602185705591777, (3, 0, 2, 0): 0.004431527502020386, (3, 0, 3, 0): -8.732586407172909e-05, (2, 0, 2, 1): 8.732586407172928e-05, (2, 0, 3, 1): -0.00016720166117707637, (3, 0, 2, 1): -2.3610590894532264e-07, (3, 0, 3, 1): -8.73258640717289e-05, (2, 1, 2, 0): -0.011692636801415178, (2, 1, 3, 0): -0.0018407965434837747, (3, 1, 2, 0): 4.032980558434985e-05, (3, 1, 3, 0): -0.00022686302014436653, (2, 1, 2, 1): 0.0008676810723046442, (2, 1, 3, 1): 0.0009623354452550751, (3, 1, 2, 1): 0.0007345941559726843}  samples= None\n",
      "E=-75.98189167  angles= {(2, 0, 2, 0): -0.02594291998708833, (2, 0, 3, 0): -0.0035367734307045922, (3, 0, 2, 0): 0.004346624600007144, (3, 0, 3, 0): -3.2246176580074316e-05, (2, 0, 2, 1): 3.224617658007454e-05, (2, 0, 3, 1): -0.00025705011204171286, (3, 0, 2, 1): -4.207121548261542e-06, (3, 0, 3, 1): -3.2246176580074147e-05, (2, 1, 2, 0): -0.012023224116262134, (2, 1, 3, 0): -0.0019202680651943139, (3, 1, 2, 0): -6.224600062237077e-05, (3, 1, 3, 0): -0.00022652141069768965, (2, 1, 2, 1): 0.0009188210294449684, (2, 1, 3, 1): 0.0010418807473983654, (3, 1, 2, 1): 0.0008986494380479213}  samples= None\n",
      "E=-75.98189142  angles= {(2, 0, 2, 0): -0.0259373899937032, (2, 0, 3, 0): -0.003545167641035062, (3, 0, 2, 0): 0.0043223514263799005, (3, 0, 3, 0): -0.00019796016689425735, (2, 0, 2, 1): 0.00019796016689425748, (2, 0, 3, 1): -1.1963575887989565e-05, (3, 0, 2, 1): -4.7018853925550245e-06, (3, 0, 3, 1): -0.00019796016689425713, (2, 1, 2, 0): -0.012261380758315432, (2, 1, 3, 0): -0.0020734761679146963, (3, 1, 2, 0): -0.00024739830643587143, (3, 1, 3, 0): -0.00022581221898261217, (2, 1, 2, 1): 0.0009581805557908968, (2, 1, 3, 1): 0.0011911006277902185, (3, 1, 2, 1): 0.0011190290056693772}  samples= None\n",
      "E=-75.98189171  angles= {(2, 0, 2, 0): -0.025941474579644637, (2, 0, 3, 0): -0.003538967475660996, (3, 0, 2, 0): 0.004340280175448297, (3, 0, 3, 0): -7.555983329589641e-05, (2, 0, 2, 1): 7.555983329589661e-05, (2, 0, 3, 1): -0.00019299037832517022, (3, 0, 2, 1): -4.336440933224142e-06, (3, 0, 3, 1): -7.555983329589623e-05, (2, 1, 2, 0): -0.012085472542112796, (2, 1, 3, 0): -0.0019603129832771603, (3, 1, 2, 0): -0.00011064036611284136, (3, 1, 3, 0): -0.0002263360450177351, (2, 1, 2, 1): 0.0009291086642391864, (2, 1, 3, 1): 0.0010808832399592822, (3, 1, 2, 1): 0.0009562513636369407}  samples= None\n",
      "E=-75.98189174  angles= {(2, 0, 2, 0): -0.026010877003030834, (2, 0, 3, 0): -0.0034901645528803743, (3, 0, 2, 0): 0.004384054420211155, (3, 0, 3, 0): -7.20042661920915e-05, (2, 0, 2, 1): 7.200426619209172e-05, (2, 0, 3, 1): -0.00019019813933846328, (3, 0, 2, 1): -8.817540840675105e-06, (3, 0, 3, 1): -7.200426619209136e-05, (2, 1, 2, 0): -0.012002135019991783, (2, 1, 3, 0): -0.0020220764189523106, (3, 1, 2, 0): -0.000179650086782369, (3, 1, 3, 0): -0.00022604926041756265, (2, 1, 2, 1): 0.0009394955675785274, (2, 1, 3, 1): 0.0011879113819772626, (3, 1, 2, 1): 0.001116438035021195}  samples= None\n",
      "Optimization terminated successfully.\n",
      "         Current function value: -75.981892\n",
      "         Iterations: 9\n",
      "         Function evaluations: 14\n",
      "         Gradient evaluations: 14\n",
      "\n",
      "Obtained UCCSD energy: -75.98189174192966\n"
     ]
    }
   ],
   "source": [
    "H = h2o.make_hamiltonian()\n",
    "\n",
    "print(\"\\nHamiltonian has {} terms\\n\".format(len(H)))\n",
    "run_pyscf(h2o.molecule, run_scf=True)\n",
    "print(n_occ, n_virt)\n",
    "initial_amplitude = ClosedShellAmplitudes(\n",
    "                tIjAb=np.ones(shape=[n_occ, n_occ, n_virt, n_virt]),\n",
    "                tIA=np.ones(shape=[n_occ, n_virt]))\n",
    "U_UCCSD = h2o.make_uccsd_ansatz(initial_amplitudes=initial_amplitude, threshold=threshold, trotter_steps=trotter_steps)\n",
    "\n",
    "E = tq.ExpectationValue(H=H, U=U_UCCSD)\n",
    "\n",
    "print('\\nNumber of UCCSD amplitudes: {} \\n'.format(len(E.extract_variables())))\n",
    "\n",
    "print('\\nStarting optimization:\\n')\n",
    "\n",
    "result = tq.minimize(objective=E, method=\"BFGS\", initial_values={k:0.0 for k in E.extract_variables()}, tol=1e-4)\n",
    "\n",
    "print('\\nObtained UCCSD energy: {}'.format(result.energy))"
   ]
  },
  {
   "cell_type": "markdown",
   "metadata": {},
   "source": [
    "We obtain a UCCSD energy within chemical accuracy (< 1.6 miliHartree from FCI energy) for the H$_2$O molecule near equilibrium geometry. As the bond distance approaches the dissociation limit, the energy deviation from FCI is typically expected to increase as electronic correlations increase during covalent bond-breaking. Furthermore, as HF becomes energetically more distant from the FCI wavefunction, the initial guess of all amplitudes being zero may lead to a local minimum. One can then instead initialize the amplitudes using random guesses, and repeat for $n$ samples to attempt to find the global minimum. To facilitate this, one can run the commented lines below. This will execute $n$ instances of tq.minimize for uniformly random initial parameters in interval $[0, 2\\pi]$ and return the lowest optimization result."
   ]
  },
  {
   "cell_type": "code",
   "execution_count": 10,
   "metadata": {},
   "outputs": [],
   "source": [
    "#n=10\n",
    "#result = minimize_E_random_guesses(objective=E, method='BFGS', tol=1e-4, n=n)"
   ]
  },
  {
   "cell_type": "markdown",
   "metadata": {},
   "source": [
    "## Qubit Coupled Cluster (QCC)\n",
    "\n",
    "In contrast to UCC, the QCC methodology makes no direct reference to fermionic algebra and seeks to construct an efficient ansatz directly in qubit-space by finding multi-qubit Pauli strings (entanglers) which lower energy. This is done through an energy-lowering heuristic employing the energy gradient with respect to a Pauli strings variational amplitude. As opposed to UCCSD, the circuit depth and number of parameter is chosen to meet hardware limitations, i.e. one must choose how many exponentiated Pauli strings will be entering the QCC ansatz.\n",
    "\n",
    "### H2 in STO-3G basis\n",
    "\n",
    "Below we perform the entangler screening protocol for H2 in minimal basis, and obtain one grouping of entanglers with non-zero energy gradient. We then select one of them to be used in the QCC VQE simulation."
   ]
  },
  {
   "cell_type": "code",
   "execution_count": 12,
   "metadata": {},
   "outputs": [
    {
     "name": "stdout",
     "output_type": "stream",
     "text": [
      "converged SCF energy = -0.702943599723527\n",
      "\n",
      "Hamiltonian has 15 terms\n",
      "\n",
      "Grouping gradient magnitudes (Grouping : Gradient magnitude):\n",
      "1 : 0.2822\n",
      "\n",
      "Selected entanglers:\n",
      "1.0 [X0 Y1 X2 X3]\n"
     ]
    }
   ],
   "source": [
    "xyz_data = get_molecular_data('h2', geometry=2.5, xyz_format=True)\n",
    "basis='sto-3g'\n",
    "\n",
    "h2 = tq.quantumchemistry.Molecule(geometry=xyz_data, basis_set='sto-3g')\n",
    "\n",
    "hf_reference = hf_occ(2*h2.n_orbitals, h2.n_electrons)\n",
    "\n",
    "H = h2.make_hamiltonian()\n",
    "\n",
    "print(\"\\nHamiltonian has {} terms\\n\".format(len(H)))\n",
    "\n",
    "#Define number of entanglers to enter ansatz\n",
    "n_ents = 1\n",
    "\n",
    "#Rank entanglers using energy gradient criterion\n",
    "ranked_entangler_groupings = generate_QCC_gradient_groupings(H.to_openfermion(), \n",
    "                                                             2*h2.n_orbitals, \n",
    "                                                             hf_reference, \n",
    "                                                             cutoff=threshold)\n",
    "\n",
    "print('Grouping gradient magnitudes (Grouping : Gradient magnitude):')\n",
    "for i in range(len(ranked_entangler_groupings)):\n",
    "    print('{} : {}'.format(i+1,ranked_entangler_groupings[i][1]))\n",
    "\n",
    "\n",
    "entanglers = get_QCC_entanglers(ranked_entangler_groupings, n_ents, 2*h2.n_orbitals)\n",
    "\n",
    "print('\\nSelected entanglers:')\n",
    "for ent in entanglers:\n",
    "    print(ent)\n",
    "\n"
   ]
  },
  {
   "cell_type": "markdown",
   "metadata": {},
   "source": [
    "Once the QCC ranking procedure has been ran, we can simulate the QCC VQE optimization with the generated entanglers. The VQE optimization for the QCC ansatz is of the form\n",
    "$$E = \\min_{\\boldsymbol{\\Omega}, \\boldsymbol{\\tau}} \\langle \\boldsymbol{\\Omega} | U_{\\text{ENT}}^\\dagger (\\boldsymbol{\\tau}) \\hat H  U_{\\text{ENT}} (\\boldsymbol{\\tau}) | \\boldsymbol{\\Omega} \\rangle $$\n",
    "where $\\boldsymbol{\\Omega}$ denote collective Euler angles parameterizing single-qubit rotations, and $\\boldsymbol{\\tau}$ are entangler amplitudes. "
   ]
  },
  {
   "cell_type": "code",
   "execution_count": 13,
   "metadata": {},
   "outputs": [
    {
     "name": "stdout",
     "output_type": "stream",
     "text": [
      "Optimizer: <class 'tequila.optimizers.optimizer_scipy.OptimizerSciPy'> \n",
      "backend         : qulacs\n",
      "device          : None\n",
      "samples         : None\n",
      "save_history    : True\n",
      "noise           : None\n",
      "\n",
      "Method          : BFGS\n",
      "Objective       : 1 expectationvalues\n",
      "gradient        : 18 expectationvalues\n",
      "\n",
      "active variables : 9\n",
      "\n",
      "E=-0.70294360  angles= {beta_0: 3.141592653589793, gamma_0: 0.0, beta_1: 3.141592653589793, gamma_1: 0.0, beta_2: 0.0, gamma_2: 0.0, beta_3: 0.0, gamma_3: 0.0, tau_0: 0.0}  samples= None\n",
      "E=-0.77938639  angles= {beta_0: 3.141592653589793, gamma_0: 0.0, beta_1: 3.141592653589793, gamma_1: 0.0, beta_2: 0.0, gamma_2: 0.0, beta_3: 0.0, gamma_3: 0.0, tau_0: 0.2822100520133972}  samples= None\n",
      "E=-0.93592356  angles= {beta_0: 3.141592653589793, gamma_0: 0.0, beta_1: 3.141592653589793, gamma_1: 0.0, beta_2: 0.0, gamma_2: 0.0, beta_3: 0.0, gamma_3: 0.0, tau_0: 1.411050260066986}  samples= None\n",
      "E=-0.93603455  angles= {beta_0: 3.141592653589793, gamma_0: 0.0, beta_1: 3.141592653589793, gamma_1: 0.0, beta_2: 0.0, gamma_2: 0.0, beta_3: 0.0, gamma_3: 0.0, tau_0: 1.3689076316049542}  samples= None\n",
      "E=-0.93605492  angles= {beta_0: 3.141592653589793, gamma_0: 0.0, beta_1: 3.141592653589793, gamma_1: 0.0, beta_2: 0.0, gamma_2: 0.0, beta_3: 0.0, gamma_3: 0.0, tau_0: 1.380815153240581}  samples= None\n",
      "Optimization terminated successfully.\n",
      "         Current function value: -0.936055\n",
      "         Iterations: 3\n",
      "         Function evaluations: 5\n",
      "         Gradient evaluations: 5\n",
      "\n",
      "Obtained QCC energy (1 entanglers): -0.9360549199554361\n"
     ]
    }
   ],
   "source": [
    "#Mean-field part of U (Omega):    \n",
    "U_MF = construct_QMF_ansatz(n_qubits = 2*h2.n_orbitals)\n",
    "#Entangling part of U:\n",
    "U_ENT = construct_QCC_ansatz(entanglers)\n",
    "\n",
    "U_QCC = U_MF + U_ENT\n",
    "\n",
    "E = tq.ExpectationValue(H=H, U=U_QCC)\n",
    "\n",
    "initial_vals = init_qcc_params(hf_reference, E.extract_variables())\n",
    "\n",
    "#Minimize wrt the entangler amplitude and MF angles:\n",
    "result = tq.minimize(objective=E, method=\"BFGS\", initial_values=initial_vals, tol=1.e-6)\n",
    "\n",
    "print('\\nObtained QCC energy ({} entanglers): {}'.format(len(entanglers), result.energy))"
   ]
  },
  {
   "cell_type": "markdown",
   "metadata": {},
   "source": [
    "We see that the QCC energy converged to the FCI energy with only a single entangler! \n",
    "\n",
    "### H2O in 6-31G basis\n",
    "\n",
    "Let us move on to the problem of H$_2$O in 6-31G basis using the same active space as the UCCSD example."
   ]
  },
  {
   "cell_type": "code",
   "execution_count": 14,
   "metadata": {},
   "outputs": [
    {
     "name": "stdout",
     "output_type": "stream",
     "text": [
      "converged SCF energy = -75.9807114451751\n",
      "\n",
      "Hamiltonian has 105 terms\n",
      "\n",
      "Grouping gradient magnitudes (Grouping : Gradient magnitude):\n",
      "1 : 0.031\n",
      "2 : 0.0249\n",
      "3 : 0.0135\n",
      "4 : 0.0089\n",
      "5 : 0.0\n",
      "6 : 0.0\n",
      "\n",
      "Selected entanglers:\n",
      "1.0 [X0 Y1 X4 X5]\n",
      "1.0 [X0 Y1 X6 X7]\n",
      "1.0 [X2 Y3 X4 X5]\n",
      "1.0 [X2 Y3 X6 X7]\n",
      "1.0 [X0 Y4]\n",
      "1.0 [X1 Y5]\n"
     ]
    }
   ],
   "source": [
    "xyz_data = get_molecular_data('h2o', geometry=1, xyz_format=True)\n",
    "\n",
    "basis = '6-31g'\n",
    "n_elec = 10\n",
    "n_occ  = n_elec // 2\n",
    "# active = {'B1':[0,1], 'A1':[2,3]}\n",
    "active = [n_occ-2, n_occ-1, n_occ, n_occ+1]\n",
    "# active = {'B1':[0,1], 'A1':[2,3]}\n",
    "h2o = tq.quantumchemistry.Molecule(geometry=xyz_data, basis_set = basis, active_orbitals = active)\n",
    "hf_reference = hf_occ(2*h2o.n_orbitals, h2o.n_electrons)\n",
    "\n",
    "\n",
    "H = h2o.make_hamiltonian()\n",
    "\n",
    "print(\"\\nHamiltonian has {} terms\\n\".format(len(H)))\n",
    "\n",
    "#Define number of entanglers to enter ansatz\n",
    "n_ents = 6\n",
    "\n",
    "#Rank entanglers using energy gradient criterion\n",
    "ranked_entangler_groupings = generate_QCC_gradient_groupings(H.to_openfermion(), \n",
    "                                                             2*h2o.n_orbitals, \n",
    "                                                             hf_reference, \n",
    "                                                             cutoff=threshold)\n",
    "\n",
    "print('Grouping gradient magnitudes (Grouping : Gradient magnitude):')\n",
    "for i in range(len(ranked_entangler_groupings)):\n",
    "    print('{} : {}'.format(i+1,ranked_entangler_groupings[i][1]))\n",
    "\n",
    "entanglers = get_QCC_entanglers(ranked_entangler_groupings, n_ents, 2*h2o.n_orbitals)\n",
    "\n",
    "print('\\nSelected entanglers:')\n",
    "for ent in entanglers:\n",
    "    print(ent)"
   ]
  },
  {
   "cell_type": "markdown",
   "metadata": {},
   "source": [
    "With the 6 chosen entanglers, we can then run the QCC VQE simulation."
   ]
  },
  {
   "cell_type": "code",
   "execution_count": 15,
   "metadata": {},
   "outputs": [
    {
     "name": "stdout",
     "output_type": "stream",
     "text": [
      "Optimizer: <class 'tequila.optimizers.optimizer_scipy.OptimizerSciPy'> \n",
      "backend         : qulacs\n",
      "device          : None\n",
      "samples         : None\n",
      "save_history    : True\n",
      "noise           : None\n",
      "\n",
      "Method          : BFGS\n",
      "Objective       : 1 expectationvalues\n",
      "gradient        : 44 expectationvalues\n",
      "\n",
      "active variables : 22\n",
      "\n",
      "E=-75.98071145  angles= {beta_0: 3.141592653589793, gamma_0: 0.0, beta_1: 3.141592653589793, gamma_1: 0.0, beta_2: 3.141592653589793, gamma_2: 0.0, beta_3: 3.141592653589793, gamma_3: 0.0, beta_4: 0.0, gamma_4: 0.0, beta_5: 0.0, gamma_5: 0.0, beta_6: 0.0, gamma_6: 0.0, beta_7: 0.0, gamma_7: 0.0, tau_0: 0.0, tau_1: 0.0, tau_2: 0.0, tau_3: 0.0, tau_4: 0.0, tau_5: 0.0}  samples= None\n",
      "E=-75.98195965  angles= {beta_0: 3.141592653589793, gamma_0: 0.0, beta_1: 3.141592653589793, gamma_1: 0.0, beta_2: 3.141592653589793, gamma_2: 0.0, beta_3: 3.141592653589793, gamma_3: 0.0, beta_4: 0.0, gamma_4: 0.0, beta_5: 0.0, gamma_5: 0.0, beta_6: 0.0, gamma_6: 0.0, beta_7: 0.0, gamma_7: 0.0, tau_0: 0.030994415283203125, tau_1: 0.02489471435546875, tau_2: 0.01346588134765625, tau_3: 0.008884429931640625, tau_4: 0.0, tau_5: 0.0}  samples= None\n",
      "E=-75.98215588  angles= {beta_0: 3.141592653589793, gamma_0: 0.0, beta_1: 3.141592653589793, gamma_1: 0.0, beta_2: 3.141592653589793, gamma_2: 0.0, beta_3: 3.141592653589793, gamma_3: 0.0, beta_4: 0.0, gamma_4: 0.0, beta_5: 0.0, gamma_5: 0.0, beta_6: 0.0, gamma_6: 0.0, beta_7: 0.0, gamma_7: 0.0, tau_0: 0.04982060799322889, tau_1: 0.03690578700970575, tau_2: 0.022223950259211804, tau_3: 0.012898241860998423, tau_4: -0.0023568877067060715, tau_5: 0.0023568877067060715}  samples= None\n",
      "E=-75.98216375  angles= {beta_0: 3.141592653589793, gamma_0: 0.0, beta_1: 3.141592653589793, gamma_1: 0.0, beta_2: 3.141592653589793, gamma_2: 0.0, beta_3: 3.141592653589793, gamma_3: 0.0, beta_4: 0.0, gamma_4: 0.0, beta_5: 0.0, gamma_5: 0.0, beta_6: 0.0, gamma_6: 0.0, beta_7: 0.0, gamma_7: 0.0, tau_0: 0.051053973805112056, tau_1: 0.03639615407455467, tau_2: 0.023000599936737077, tau_3: 0.01251798318707044, tau_4: -0.004344733173041142, tau_5: 0.004344733173041142}  samples= None\n",
      "E=-75.98217360  angles= {beta_0: 3.141592653589793, gamma_0: 0.0, beta_1: 3.141592653589793, gamma_1: 0.0, beta_2: 3.141592653589793, gamma_2: 0.0, beta_3: 3.141592653589793, gamma_3: 0.0, beta_4: 0.0, gamma_4: 0.0, beta_5: 0.0, gamma_5: 0.0, beta_6: 0.0, gamma_6: 0.0, beta_7: 0.0, gamma_7: 0.0, tau_0: 0.05240984305576232, tau_1: 0.03519568470773213, tau_2: 0.02385620715361451, tau_3: 0.011716315139192501, tau_4: -0.009278883119952048, tau_5: 0.009278883119952048}  samples= None\n",
      "E=-75.98217486  angles= {beta_0: 3.141592653589793, gamma_0: 0.0, beta_1: 3.141592653589793, gamma_1: 0.0, beta_2: 3.141592653589793, gamma_2: 0.0, beta_3: 3.141592653589793, gamma_3: 0.0, beta_4: 0.0, gamma_4: 0.0, beta_5: 0.0, gamma_5: 0.0, beta_6: 0.0, gamma_6: 0.0, beta_7: 0.0, gamma_7: 0.0, tau_0: 0.05241294838927705, tau_1: 0.03522673343726528, tau_2: 0.02370058816877934, tau_3: 0.01167584837731481, tau_4: -0.011239793114322163, tau_5: 0.011239793114322163}  samples= None\n",
      "E=-75.98217510  angles= {beta_0: 3.141592653589793, gamma_0: 0.0, beta_1: 3.141592653589793, gamma_1: 0.0, beta_2: 3.141592653589793, gamma_2: 0.0, beta_3: 3.141592653589793, gamma_3: 0.0, beta_4: 0.0, gamma_4: 0.0, beta_5: 0.0, gamma_5: 0.0, beta_6: 0.0, gamma_6: 0.0, beta_7: 0.0, gamma_7: 0.0, tau_0: 0.0521759299825722, tau_1: 0.035550358197457756, tau_2: 0.023386710524557538, tau_3: 0.011838068964360014, tau_4: -0.01176236011278499, tau_5: 0.01176236011278499}  samples= None\n",
      "E=-75.98217513  angles= {beta_0: 3.141592653589793, gamma_0: 0.0, beta_1: 3.141592653589793, gamma_1: 0.0, beta_2: 3.141592653589793, gamma_2: 0.0, beta_3: 3.141592653589793, gamma_3: 0.0, beta_4: 0.0, gamma_4: 0.0, beta_5: 0.0, gamma_5: 0.0, beta_6: 0.0, gamma_6: 0.0, beta_7: 0.0, gamma_7: 0.0, tau_0: 0.052040153836227857, tau_1: 0.03573409748266779, tau_2: 0.023200863467841174, tau_3: 0.011953844069044138, tau_4: -0.011758272830703779, tau_5: 0.011758272830703779}  samples= None\n",
      "Optimization terminated successfully.\n",
      "         Current function value: -75.982175\n",
      "         Iterations: 7\n",
      "         Function evaluations: 8\n",
      "         Gradient evaluations: 8\n",
      "\n",
      "Obtained QCC energy (6 entanglers): -75.98217513030102\n"
     ]
    }
   ],
   "source": [
    "#Mean-field part of U (Omega):    \n",
    "U_MF = construct_QMF_ansatz(n_qubits = 2*h2o.n_orbitals)\n",
    "#Entangling part of U:\n",
    "U_ENT = construct_QCC_ansatz(entanglers)\n",
    "\n",
    "U_QCC = U_MF + U_ENT\n",
    "\n",
    "E = tq.ExpectationValue(H=H, U=U_QCC)\n",
    "\n",
    "initial_vals = init_qcc_params(hf_reference, E.extract_variables())\n",
    "\n",
    "#Minimize wrt the entangler amplitude and MF angles:\n",
    "result = tq.minimize(objective=E, method=\"BFGS\", initial_values=initial_vals, tol=1.e-4)\n",
    "\n",
    "\n",
    "print('\\nObtained QCC energy ({} entanglers): {}'.format(len(entanglers), result.energy))"
   ]
  },
  {
   "cell_type": "markdown",
   "metadata": {},
   "source": [
    "We obtain chemical accuracy for water near equilibrium geometry with only 6 entanglers. The obtained energy is not as accurate as that of UCCSD for this problem, however the QCC optimization may be performed at a fraction of the UCCSD circuit depth. One can also increase the number of entanglers entering the QCC ansatz to increase accuracy. As a final check, one can always run $n$ VQE trials with random initial guesses to test if the optimization fell into a local minimum. ***(Warning: Completing n=10 trials may take a few minutes for this VQE instance).***"
   ]
  },
  {
   "cell_type": "code",
   "execution_count": 16,
   "metadata": {},
   "outputs": [
    {
     "name": "stdout",
     "output_type": "stream",
     "text": [
      "\n",
      "Obtained QCC energy (6 entanglers): -75.98217511310484\n"
     ]
    }
   ],
   "source": [
    "n = 10\n",
    "result = minimize_E_random_guesses(objective=E, method='BFGS', tol=1e-4, n=n)\n",
    "\n",
    "print('\\nObtained QCC energy ({} entanglers): {}'.format(len(entanglers), result))"
   ]
  },
  {
   "cell_type": "markdown",
   "source": [
    "## Question 1.\n",
    "Q)  Standard Hamiltonian symmetries are i) number of electrons $ N^e = \\sum_k{\\hat{a}^{\\dagger}_k\\hat{a}_k} $,\n",
    "ii) electron spin $ S^2 $, iii) electron spin projection $ S^z $, iv) time-reversal symmetry,\n",
    "and v) point-group symmetry for symmetric molecules. Which of these symmetries are conserved in a) UCC and b) QCC ?\n",
    "\n",
    "A) We represent the ansatz circuit as a unitary, $ \\hat{U} $, then a symmetry $i$ with the operator, $ \\hat{S}_i $\n",
    "is conserved if\n",
    "\n",
    "<center>\n",
    "\n",
    "$ \\hat{U}^{\\dagger} \\hat{S}_i \\hat{U} = \\hat{S}_i $.\n",
    "\n",
    "</center>\n",
    "\n",
    "i) Number of electrons\n",
    "\n",
    "    A. UCC preserves the number of electrons.\n",
    "    B. QCC doesn't.\n",
    "\n",
    "ii) $ S^2 $\n",
    "\n",
    "    A. UCC preserves the total spin.\n",
    "    B. QCC doesn't.\n",
    "\n",
    "iii) $ S_z $\n",
    "\n",
    "    A. UCC preserves the projected spin.\n",
    "    B. QCC preserves the projected spin.\n",
    "\n",
    "iv) time-reversal symmetry, $ \\mathcal{T} $\n",
    "\n",
    "    A. UCC\n",
    "    B. QCC\n",
    "\n",
    "v) point-group symmetry\n",
    "\n",
    "    A. UCC\n",
    "    B. QCC\n"
   ],
   "metadata": {
    "collapsed": false,
    "pycharm": {
     "name": "#%% md\n"
    }
   }
  }
 ],
 "metadata": {
  "kernelspec": {
   "name": "python3",
   "language": "python",
   "display_name": "Python 3 (ipykernel)"
  },
  "language_info": {
   "codemirror_mode": {
    "name": "ipython",
    "version": 3
   },
   "file_extension": ".py",
   "mimetype": "text/x-python",
   "name": "python",
   "nbconvert_exporter": "python",
   "pygments_lexer": "ipython3",
   "version": "3.6.10"
  }
 },
 "nbformat": 4,
 "nbformat_minor": 2
}