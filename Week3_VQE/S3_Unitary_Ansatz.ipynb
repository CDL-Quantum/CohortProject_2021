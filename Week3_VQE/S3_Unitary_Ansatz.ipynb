{
 "cells": [
  {
   "cell_type": "markdown",
   "metadata": {},
   "source": [
    "# Unitary ansatz entering the VQE\n",
    "\n",
    "The final energy output of a VQE calculation will crucially depend on the ansatz/form of the parameterized unitary $\\hat U(\\boldsymbol{\\theta})$ employed in state preparation. Here we review two popular approaches, the unitary coupled cluster and qubit coupled cluster methodologies, and benchmark them for energy calculations of small molecules."
   ]
  },
  {
   "cell_type": "code",
   "execution_count": 1,
   "metadata": {},
   "outputs": [
    {
     "name": "stdout",
     "output_type": "stream",
     "text": [
      "Available QuantumChemistry Modules:\n",
      "base\n",
      "madness\n",
      "pyscf\n"
     ]
    }
   ],
   "source": [
    "import numpy as np\n",
    "import openfermion\n",
    "import tequila as tq\n",
    "from tequila.quantumchemistry import show_available_modules\n",
    "from tequila.quantumchemistry.qc_base import ClosedShellAmplitudes\n",
    "\n",
    "from utility import *\n",
    "threshold = 1e-6 #Cutoff for UCC MP2 amplitudes and QCC ranking gradients\n",
    "\n",
    "show_available_modules()"
   ]
  },
  {
   "cell_type": "markdown",
   "metadata": {},
   "source": [
    "## Unitary Coupled Cluster (UCC)\n",
    "\n",
    "The UCC ansatz is obtained by 'unitarizing' the traditional coupled cluster ansatz,\n",
    "$$ e^{\\hat T} \\rightarrow e^{\\hat T - \\hat T^\\dagger} \\equiv \\hat U_{\\text{UCC}}$$\n",
    "\n",
    "\n",
    "Due to non-commutativity of terms in $\\hat T - \\hat T^\\dagger$, the UCC ansatz does not have a straightforward decomposition in terms of circuit primitives implementable on the quantum computer. Therefore, to obtain a form which can be compiled, we employ the Trotter approximation. The accuracy of the circuit ansatz relative to the exact UCC operator will be dependent on how many Trotter steps are employed. The number of Trotter steps is commonly set to its minimal value of one to avoid excessive circuit depth."
   ]
  },
  {
   "cell_type": "code",
   "execution_count": 2,
   "metadata": {},
   "outputs": [],
   "source": [
    "trotter_steps = 1"
   ]
  },
  {
   "cell_type": "markdown",
   "metadata": {},
   "source": [
    "### H2 in STO-3G basis\n",
    "\n",
    "Below is a sample VQE simulation using the UCCSD ansatz compiled using a single trotter step for H$_2$ in minimal basis at $R=2.5$ (Angstrom). For comparison, we can run FCI to obtain the true ground state energy.\n"
   ]
  },
  {
   "cell_type": "code",
   "execution_count": 3,
   "metadata": {},
   "outputs": [
    {
     "name": "stdout",
     "output_type": "stream",
     "text": [
      "converged SCF energy = -0.702943599723527\n",
      "Number of spin-orbitals (qubits): 4 \n",
      "\n",
      "FCI energy: -0.9360549199556059\n"
     ]
    }
   ],
   "source": [
    "xyz_data = get_molecular_data('h2', geometry=2.5, xyz_format=True)\n",
    "basis='sto-3g'\n",
    "\n",
    "h2 = tq.quantumchemistry.Molecule(geometry=xyz_data, basis_set=basis)\n",
    "\n",
    "print('Number of spin-orbitals (qubits): {} \\n'.format(2*h2.n_orbitals))\n",
    "\n",
    "E_FCI = h2.compute_energy(method='fci')\n",
    "\n",
    "print('FCI energy: {}'.format(E_FCI))"
   ]
  },
  {
   "cell_type": "code",
   "execution_count": 4,
   "outputs": [
    {
     "data": {
      "text/plain": "<openfermionpyscf._pyscf_molecular_data.PyscfMolecularData at 0x7fc5dbc79220>"
     },
     "execution_count": 4,
     "metadata": {},
     "output_type": "execute_result"
    }
   ],
   "source": [
    "run_pyscf(h2.molecule, run_scf=True)\n"
   ],
   "metadata": {
    "collapsed": false,
    "pycharm": {
     "name": "#%%\n"
    }
   }
  },
  {
   "cell_type": "markdown",
   "metadata": {},
   "source": [
    "The UCCSD VQE optimization is of the form\n",
    "$$E = \\min_{\\boldsymbol{\\theta}} \\langle \\text{HF} | \\hat U_{\\text{UCC}}^\\dagger(\\boldsymbol{\\theta}) \\hat H  \\hat U_{\\text{UCC}} (\\boldsymbol{\\theta}) | \\text{HF} \\rangle $$\n",
    "To expedite the optimization process, we can set the initial guess of the amplitudes to zero, i.e. the optimization will begin at the Hartree Fock state. This heuristic is best suited for when Hartree Fock is believed to be in qualitative agreement with the true ground state. To further alleviate quantum resources, we can estimate the amplitudes using classical electronic structure methods (here, MP2 perturbation theory), and only include the unitaries with non-zero estimated amplitudes."
   ]
  },
  {
   "cell_type": "code",
   "execution_count": 5,
   "metadata": {
    "scrolled": true
   },
   "outputs": [
    {
     "name": "stderr",
     "output_type": "stream",
     "text": [
      "WARNING:absl:No GPU/TPU found, falling back to CPU. (Set TF_CPP_MIN_LOG_LEVEL=0 and rerun for more info.)\n"
     ]
    },
    {
     "name": "stdout",
     "output_type": "stream",
     "text": [
      "\n",
      "Hamiltonian has 15 terms\n",
      "\n",
      "2\n",
      "\n",
      "Number of UCCSD amplitudes: 1 \n",
      "\n",
      "\n",
      "Starting optimization:\n",
      "\n",
      "Optimizer: <class 'tequila.optimizers.optimizer_scipy.OptimizerSciPy'> \n",
      "backend         : qulacs\n",
      "device          : None\n",
      "samples         : None\n",
      "save_history    : True\n",
      "noise           : None\n",
      "\n",
      "Method          : BFGS\n",
      "Objective       : 1 expectationvalues\n",
      "gradient        : 2 expectationvalues\n",
      "\n",
      "active variables : 1\n",
      "\n",
      "E=-0.70294360  angles= {(1, 0, 1, 0): 0.0}  samples= None\n",
      "E=-0.92698007  angles= {(1, 0, 1, 0): -0.5644201040267944}  samples= None\n",
      "E=-0.93354954  angles= {(1, 0, 1, 0): -0.7564777228200539}  samples= None\n",
      "E=-0.93605486  angles= {(1, 0, 1, 0): -0.6900732728088522}  samples= None\n",
      "E=-0.93605492  angles= {(1, 0, 1, 0): -0.6904080103487397}  samples= None\n",
      "E=-0.93605492  angles= {(1, 0, 1, 0): -0.6904070252165746}  samples= None\n",
      "Optimization terminated successfully.\n",
      "         Current function value: -0.936055\n",
      "         Iterations: 5\n",
      "         Function evaluations: 6\n",
      "         Gradient evaluations: 6\n",
      "\n",
      "Obtained UCCSD energy: -0.9360549199556059\n"
     ]
    }
   ],
   "source": [
    "H = h2.make_hamiltonian()\n",
    "\n",
    "print(\"\\nHamiltonian has {} terms\\n\".format(len(H)))\n",
    "U_UCCSD = h2.make_uccsd_ansatz(initial_amplitudes='MP2',threshold=threshold, trotter_steps=trotter_steps)\n",
    "\n",
    "E = tq.ExpectationValue(H=H, U=U_UCCSD)\n",
    "\n",
    "print('\\nNumber of UCCSD amplitudes: {} \\n'.format(len(E.extract_variables())))\n",
    "\n",
    "print('\\nStarting optimization:\\n')\n",
    "\n",
    "result = tq.minimize(objective=E, method=\"BFGS\", initial_values={k:0.0 for k in E.extract_variables()}, tol=1e-6)\n",
    "\n",
    "print('\\nObtained UCCSD energy: {}'.format(result.energy))"
   ]
  },
  {
   "cell_type": "markdown",
   "metadata": {},
   "source": [
    "We see that the converged UCCSD energy is in exact agreement with the FCI energy, as expected for a $2$-electron system. \n",
    "\n",
    "### H2O in 6-31G basis\n",
    "\n",
    "Now let us try a larger problem of H$_2$O in 6-31G basis. However, we will restrict the active space. The unrestricted problem leads to a $14$-qubit Hamiltonian, and $34$ UCCSD amplitudes to optimize even after neglecting the zero MP2 amplitudes. Therefore, we will remove some orbital degrees of freedom which are less important in accurately describing the electronic structure. By freezing all orbitals other than $0b_1$, $1b_1$, $2a_1$, and $3a_1$, we reduce the problem to an $8$-qubit Hamiltonian with $8$ UCCSD variational amplitudes."
   ]
  },
  {
   "cell_type": "code",
   "execution_count": 6,
   "metadata": {},
   "outputs": [
    {
     "name": "stdout",
     "output_type": "stream",
     "text": [
      "converged SCF energy = -75.980711445175\n",
      "Number of spin-orbitals (qubits): 8 \n",
      "\n",
      "Number of electrons : 4\n",
      "\n",
      "FCI energy: -75.98217710132413\n"
     ]
    }
   ],
   "source": [
    "xyz_data = get_molecular_data('h2o', geometry=1, xyz_format=True)\n",
    "\n",
    "basis = '6-31g'\n",
    "n_elec = 10\n",
    "n_occ  = n_elec // 2\n",
    "# active = {'B1':[0,1], 'A1':[2,3]}\n",
    "active = [n_occ-2, n_occ-1, n_occ, n_occ+1]\n",
    "n_occ = 2\n",
    "n_virt = 2\n",
    "# h2o = openfermion.MolecularData(xyz_data, basis, multiplicity=1)\n",
    "# h2o.init_lazy_properties()\n",
    "h2o = tq.quantumchemistry.Molecule(geometry=xyz_data,\n",
    "                                   basis_set = basis,\n",
    "                                   active_orbitals = active)\n",
    "\n",
    "# print(h2o.get_active_space_integrals())\n",
    "\n",
    "# print(h2o.active_space.active_orbitals)\n",
    "# print(h2o.active_space.active_reference_orbitals)\n",
    "# print(h2o.active_space.frozen_reference_orbitals)\n",
    "\n",
    "print('Number of spin-orbitals (qubits): {} \\n'.format(2*h2o.n_orbitals))\n",
    "print('Number of electrons : {}\\n'.format(h2o.n_electrons))\n",
    "\n",
    "E_FCI = h2o.compute_energy(method='fci')\n",
    "\n",
    "print('FCI energy: {}'.format(E_FCI))"
   ]
  },
  {
   "cell_type": "markdown",
   "metadata": {},
   "source": [
    "We will then run the UCCSD VQE simulation (***warning: tq.minimize will take several minutes - 1 hour + to converge for a VQE instance of this size.*** Smaller active spaces can be employed to lower VQE simulation runtimes)."
   ]
  },
  {
   "cell_type": "code",
   "execution_count": 7,
   "metadata": {},
   "outputs": [
    {
     "name": "stdout",
     "output_type": "stream",
     "text": [
      "\n",
      "Hamiltonian has 105 terms\n",
      "\n",
      "2 2\n",
      "4\n",
      "\n",
      "Number of UCCSD amplitudes: 15 \n",
      "\n",
      "\n",
      "Starting optimization:\n",
      "\n",
      "Optimizer: <class 'tequila.optimizers.optimizer_scipy.OptimizerSciPy'> \n",
      "backend         : qulacs\n",
      "device          : None\n",
      "samples         : None\n",
      "save_history    : True\n",
      "noise           : None\n",
      "\n",
      "Method          : BFGS\n",
      "Objective       : 1 expectationvalues\n",
      "gradient        : 70 expectationvalues\n",
      "\n",
      "active variables : 15\n",
      "\n",
      "E=-75.98071145  angles= {(2, 0, 2, 0): 0.0, (2, 0, 3, 0): 0.0, (3, 0, 2, 0): 0.0, (3, 0, 3, 0): 0.0, (2, 0, 2, 1): 0.0, (2, 0, 3, 1): 0.0, (3, 0, 2, 1): 0.0, (3, 0, 3, 1): 0.0, (2, 1, 2, 0): 0.0, (2, 1, 3, 0): 0.0, (3, 1, 2, 0): 0.0, (3, 1, 3, 0): 0.0, (2, 1, 2, 1): 0.0, (2, 1, 3, 1): 0.0, (3, 1, 2, 1): 0.0}  samples= None\n",
      "E=-75.95421636  angles= {(2, 0, 2, 0): -0.06198883056640625, (2, 0, 3, 0): -0.0497894287109375, (3, 0, 2, 0): 0.0497894287109375, (3, 0, 3, 0): 0.0, (2, 0, 2, 1): 0.0, (2, 0, 3, 1): 0.0, (3, 0, 2, 1): 0.0, (3, 0, 3, 1): 0.0, (2, 1, 2, 0): -0.0269317626953125, (2, 1, 3, 0): -0.01776885986328125, (3, 1, 2, 0): 0.01776885986328125, (3, 1, 3, 0): 0.0, (2, 1, 2, 1): 0.0, (2, 1, 3, 1): 0.0, (3, 1, 2, 1): 0.0}  samples= None\n",
      "E=-75.98140761  angles= {(2, 0, 2, 0): -0.008431201809189099, (2, 0, 3, 0): -0.006771941293140684, (3, 0, 2, 0): 0.006771941293140684, (3, 0, 3, 0): 0.0, (2, 0, 2, 1): 0.0, (2, 0, 3, 1): 0.0, (3, 0, 2, 1): 0.0, (3, 0, 3, 1): 0.0, (2, 1, 2, 0): -0.003663032909100002, (2, 1, 3, 0): -0.002416771570904789, (3, 1, 2, 0): 0.002416771570904789, (3, 1, 3, 0): 0.0, (2, 1, 2, 1): 0.0, (2, 1, 3, 1): 0.0, (3, 1, 2, 1): 0.0}  samples= None\n",
      "E=-75.98186439  angles= {(2, 0, 2, 0): -0.03203815323214456, (2, 0, 3, 0): -0.0021410374701234716, (3, 0, 2, 0): 0.003221553394607608, (3, 0, 3, 0): -0.00031515047797453955, (2, 0, 2, 1): 0.00031515047797453955, (2, 0, 3, 1): -0.0006612532350358642, (3, 0, 2, 1): 0.0007569239158495637, (3, 0, 3, 1): -0.00031515047797453955, (2, 1, 2, 0): -0.01393645351150837, (2, 1, 3, 0): -0.003610920052046313, (3, 1, 2, 0): 0.005586238226493874, (3, 1, 3, 0): 0.0001660167696473021, (2, 1, 2, 1): -0.00035735813127470113, (2, 1, 3, 1): -0.0007287854803161228, (3, 1, 2, 1): 0.0}  samples= None\n",
      "E=-75.98099869  angles= {(2, 0, 2, 0): -0.033699176728411884, (2, 0, 3, 0): -0.004340019341572799, (3, 0, 2, 0): 0.0055202545448826855, (3, 0, 3, 0): 0.0016396246468541155, (2, 0, 2, 1): -0.001639624646854115, (2, 0, 3, 1): 0.003266706626907922, (3, 0, 2, 1): -0.004512850253583599, (3, 0, 3, 1): 0.0016396246468541155, (2, 1, 2, 0): -0.013940404902104225, (2, 1, 3, 0): 0.0104072975140971, (3, 1, 2, 0): -0.0013009016242631509, (3, 1, 3, 0): 0.0002625028165079894, (2, 1, 2, 1): -0.0007767346596740574, (2, 1, 3, 1): -0.0008650817927407632, (3, 1, 2, 1): -0.0003729892112220871}  samples= None\n",
      "E=-75.98190112  angles= {(2, 0, 2, 0): -0.03231638125786588, (2, 0, 3, 0): -0.0025093756580330346, (3, 0, 2, 0): 0.003606594957355872, (3, 0, 3, 0): 1.2282110987878788e-05, (2, 0, 2, 1): -1.228211098787868e-05, (2, 0, 3, 1): -3.3043740130632307e-06, (3, 0, 2, 1): -0.00012578416531451695, (3, 0, 3, 1): 1.2282110987878788e-05, (2, 1, 2, 0): -0.013937115385110284, (2, 1, 3, 0): -0.0012628129925587803, (3, 1, 2, 0): 0.004432614976823514, (3, 1, 3, 0): 0.0001821785653040344, (2, 1, 2, 1): -0.0004276053636543892, (2, 1, 3, 1): -0.000751615653401706, (3, 1, 2, 1): -6.247717271121067e-05}  samples= None\n",
      "E=-75.98194022  angles= {(2, 0, 2, 0): -0.028699524151482997, (2, 0, 3, 0): -0.003355825647786392, (3, 0, 2, 0): 0.004230676944984288, (3, 0, 3, 0): -0.00031588263852589093, (2, 0, 2, 1): 0.00031588263852589104, (2, 0, 3, 1): -0.0007109162625082041, (3, 0, 2, 1): 0.0007260304311470594, (3, 0, 3, 1): -0.0003158826385258908, (2, 1, 2, 0): -0.01247072120502081, (2, 1, 3, 0): 0.00042547954553804517, (3, 1, 2, 0): 0.005436710893564791, (3, 1, 3, 0): 0.00021821246033208987, (2, 1, 2, 1): -0.0006485590981154896, (2, 1, 3, 1): -0.0007645993409724443, (3, 1, 2, 1): -0.0003640147450452684}  samples= None\n",
      "E=-75.98187817  angles= {(2, 0, 2, 0): -0.02352954513425276, (2, 0, 3, 0): -0.0038894324339127802, (3, 0, 2, 0): 0.00447528505005561, (3, 0, 3, 0): 0.0006323058011452414, (2, 0, 2, 1): -0.0006323058011452414, (2, 0, 3, 1): 0.0013107262752668205, (3, 0, 2, 1): -0.0019457839722297845, (3, 0, 3, 1): 0.000632305801145242, (2, 1, 2, 0): -0.01042089886524431, (2, 1, 3, 0): -0.00017405704017772825, (3, 1, 2, 0): 0.00836719638402111, (3, 1, 3, 0): 0.00026921209227986784, (2, 1, 2, 1): -0.0009831298334365252, (2, 1, 3, 1): -0.0008706931599911161, (3, 1, 2, 1): -0.0007817256101908799}  samples= None\n",
      "E=-75.98195127  angles= {(2, 0, 2, 0): -0.02725177385957804, (2, 0, 3, 0): -0.0035052516663064475, (3, 0, 2, 0): 0.004299174603164155, (3, 0, 3, 0): -5.036123394382418e-05, (2, 0, 2, 1): 5.036123394382429e-05, (2, 0, 3, 1): -0.00014479528514313791, (3, 0, 2, 1): -2.2158308016720515e-05, (3, 0, 3, 1): -5.036123394382396e-05, (2, 1, 2, 0): -0.011896709031881546, (2, 1, 3, 0): 0.00025759119162307667, (3, 1, 2, 0): 0.006257335350664485, (3, 1, 3, 0): 0.0002324938977989284, (2, 1, 2, 1): -0.0007422490102233696, (2, 1, 3, 1): -0.0007943088150228597, (3, 1, 2, 1): -0.00048098640487811897}  samples= None\n",
      "E=-75.98195183  angles= {(2, 0, 2, 0): -0.02691259964447494, (2, 0, 3, 0): -0.003612086185591114, (3, 0, 2, 0): 0.004352142193437772, (3, 0, 3, 0): -9.880855979989079e-05, (2, 0, 2, 1): 9.880855979989088e-05, (2, 0, 3, 1): -0.00015093462675297485, (3, 0, 2, 1): 4.268323231083128e-06, (3, 0, 3, 1): -9.880855979989057e-05, (2, 1, 2, 0): -0.011433719745839958, (2, 1, 3, 0): -0.0003419894564242253, (3, 1, 2, 0): 0.0054551897330087674, (3, 1, 3, 0): 0.00023842665567014104, (2, 1, 2, 1): -0.0008960554992836164, (2, 1, 3, 1): -0.0010130026959493021, (3, 1, 2, 1): -0.0007493928307796909}  samples= None\n",
      "E=-75.98195189  angles= {(2, 0, 2, 0): -0.026872334995745623, (2, 0, 3, 0): -0.0035624994192547917, (3, 0, 2, 0): 0.004392682034647032, (3, 0, 3, 0): 1.8465130734083261e-06, (2, 0, 2, 1): -1.8465130734082041e-06, (2, 0, 3, 1): -0.00030579356537435346, (3, 0, 2, 1): -1.0541570730284921e-07, (3, 0, 3, 1): 1.846513073408543e-06, (2, 1, 2, 0): -0.011671092185560419, (2, 1, 3, 0): -0.00018570745853831313, (3, 1, 2, 0): 0.005635417653486725, (3, 1, 3, 0): 0.00023790632016008507, (2, 1, 2, 1): -0.0009359715436908332, (2, 1, 3, 1): -0.0010680260939830916, (3, 1, 2, 1): -0.0009422846147866228}  samples= None\n",
      "E=-75.98195197  angles= {(2, 0, 2, 0): -0.026881241928309832, (2, 0, 3, 0): -0.0035498070382258932, (3, 0, 2, 0): 0.004397564313484491, (3, 0, 3, 0): -4.2264077490776823e-05, (2, 0, 2, 1): 4.2264077490776966e-05, (2, 0, 3, 1): -0.00024079588892135368, (3, 0, 2, 1): -1.0301796513484637e-06, (3, 0, 3, 1): -4.226407749077662e-05, (2, 1, 2, 0): -0.01173795436502552, (2, 1, 3, 0): -0.00011578639227155494, (3, 1, 2, 0): 0.00572096102878013, (3, 1, 3, 0): 0.00023626990424612692, (2, 1, 2, 1): -0.000947381389887922, (2, 1, 3, 1): -0.00110509589722478, (3, 1, 2, 1): -0.0010134824086276309}  samples= None\n",
      "E=-75.98195202  angles= {(2, 0, 2, 0): -0.026963786625723712, (2, 0, 3, 0): -0.003589866168718242, (3, 0, 2, 0): 0.004349518867023833, (3, 0, 3, 0): -8.090637748583382e-05, (2, 0, 2, 1): 8.090637748583396e-05, (2, 0, 3, 1): -0.00018294180081969376, (3, 0, 2, 1): -8.277235682108829e-06, (3, 0, 3, 1): -8.090637748583362e-05, (2, 1, 2, 0): -0.0115834792198834, (2, 1, 3, 0): -0.00011578839442738235, (3, 1, 2, 0): 0.005731872969813445, (3, 1, 3, 0): 0.00023940785232219754, (2, 1, 2, 1): -0.0009714567763441272, (2, 1, 3, 1): -0.0012417554436820746, (3, 1, 2, 1): -0.0011473944943161088}  samples= None\n",
      "Optimization terminated successfully.\n",
      "         Current function value: -75.981952\n",
      "         Iterations: 9\n",
      "         Function evaluations: 13\n",
      "         Gradient evaluations: 13\n",
      "\n",
      "Obtained UCCSD energy: -75.98195202206631\n"
     ]
    }
   ],
   "source": [
    "H = h2o.make_hamiltonian()\n",
    "\n",
    "print(\"\\nHamiltonian has {} terms\\n\".format(len(H)))\n",
    "run_pyscf(h2o.molecule, run_scf=True)\n",
    "print(n_occ, n_virt)\n",
    "initial_amplitude = ClosedShellAmplitudes(\n",
    "                tIjAb=np.ones(shape=[n_occ, n_occ, n_virt, n_virt]),\n",
    "                tIA=np.ones(shape=[n_occ, n_virt]))\n",
    "U_UCCSD = h2o.make_uccsd_ansatz(initial_amplitudes=initial_amplitude, threshold=threshold, trotter_steps=trotter_steps)\n",
    "\n",
    "E = tq.ExpectationValue(H=H, U=U_UCCSD)\n",
    "\n",
    "print('\\nNumber of UCCSD amplitudes: {} \\n'.format(len(E.extract_variables())))\n",
    "\n",
    "print('\\nStarting optimization:\\n')\n",
    "\n",
    "result = tq.minimize(objective=E, method=\"BFGS\", initial_values={k:0.0 for k in E.extract_variables()}, tol=1e-4)\n",
    "\n",
    "print('\\nObtained UCCSD energy: {}'.format(result.energy))"
   ]
  },
  {
   "cell_type": "markdown",
   "metadata": {},
   "source": [
    "We obtain a UCCSD energy within chemical accuracy (< 1.6 miliHartree from FCI energy) for the H$_2$O molecule near equilibrium geometry. As the bond distance approaches the dissociation limit, the energy deviation from FCI is typically expected to increase as electronic correlations increase during covalent bond-breaking. Furthermore, as HF becomes energetically more distant from the FCI wavefunction, the initial guess of all amplitudes being zero may lead to a local minimum. One can then instead initialize the amplitudes using random guesses, and repeat for $n$ samples to attempt to find the global minimum. To facilitate this, one can run the commented lines below. This will execute $n$ instances of tq.minimize for uniformly random initial parameters in interval $[0, 2\\pi]$ and return the lowest optimization result."
   ]
  },
  {
   "cell_type": "code",
   "execution_count": 8,
   "metadata": {},
   "outputs": [],
   "source": [
    "#n=10\n",
    "#result = minimize_E_random_guesses(objective=E, method='BFGS', tol=1e-4, n=n)"
   ]
  },
  {
   "cell_type": "markdown",
   "metadata": {},
   "source": [
    "## Qubit Coupled Cluster (QCC)\n",
    "\n",
    "In contrast to UCC, the QCC methodology makes no direct reference to fermionic algebra and seeks to construct an efficient ansatz directly in qubit-space by finding multi-qubit Pauli strings (entanglers) which lower energy. This is done through an energy-lowering heuristic employing the energy gradient with respect to a Pauli strings variational amplitude. As opposed to UCCSD, the circuit depth and number of parameter is chosen to meet hardware limitations, i.e. one must choose how many exponentiated Pauli strings will be entering the QCC ansatz.\n",
    "\n",
    "### H2 in STO-3G basis\n",
    "\n",
    "Below we perform the entangler screening protocol for H2 in minimal basis, and obtain one grouping of entanglers with non-zero energy gradient. We then select one of them to be used in the QCC VQE simulation."
   ]
  },
  {
   "cell_type": "code",
   "execution_count": 9,
   "metadata": {},
   "outputs": [
    {
     "name": "stdout",
     "output_type": "stream",
     "text": [
      "converged SCF energy = -0.702943599723527\n",
      "\n",
      "Hamiltonian has 15 terms\n",
      "\n",
      "Grouping gradient magnitudes (Grouping : Gradient magnitude):\n",
      "1 : 0.2822\n",
      "\n",
      "Selected entanglers:\n",
      "1.0 [X0 Y1 X2 X3]\n"
     ]
    }
   ],
   "source": [
    "xyz_data = get_molecular_data('h2', geometry=2.5, xyz_format=True)\n",
    "basis='sto-3g'\n",
    "\n",
    "h2 = tq.quantumchemistry.Molecule(geometry=xyz_data, basis_set='sto-3g')\n",
    "\n",
    "hf_reference = hf_occ(2*h2.n_orbitals, h2.n_electrons)\n",
    "\n",
    "H = h2.make_hamiltonian()\n",
    "\n",
    "print(\"\\nHamiltonian has {} terms\\n\".format(len(H)))\n",
    "\n",
    "#Define number of entanglers to enter ansatz\n",
    "n_ents = 1\n",
    "\n",
    "#Rank entanglers using energy gradient criterion\n",
    "ranked_entangler_groupings = generate_QCC_gradient_groupings(H.to_openfermion(), \n",
    "                                                             2*h2.n_orbitals, \n",
    "                                                             hf_reference, \n",
    "                                                             cutoff=threshold)\n",
    "\n",
    "print('Grouping gradient magnitudes (Grouping : Gradient magnitude):')\n",
    "for i in range(len(ranked_entangler_groupings)):\n",
    "    print('{} : {}'.format(i+1,ranked_entangler_groupings[i][1]))\n",
    "\n",
    "\n",
    "entanglers = get_QCC_entanglers(ranked_entangler_groupings, n_ents, 2*h2.n_orbitals)\n",
    "\n",
    "print('\\nSelected entanglers:')\n",
    "for ent in entanglers:\n",
    "    print(ent)\n",
    "\n"
   ]
  },
  {
   "cell_type": "markdown",
   "metadata": {},
   "source": [
    "Once the QCC ranking procedure has been ran, we can simulate the QCC VQE optimization with the generated entanglers. The VQE optimization for the QCC ansatz is of the form\n",
    "$$E = \\min_{\\boldsymbol{\\Omega}, \\boldsymbol{\\tau}} \\langle \\boldsymbol{\\Omega} | U_{\\text{ENT}}^\\dagger (\\boldsymbol{\\tau}) \\hat H  U_{\\text{ENT}} (\\boldsymbol{\\tau}) | \\boldsymbol{\\Omega} \\rangle $$\n",
    "where $\\boldsymbol{\\Omega}$ denote collective Euler angles parameterizing single-qubit rotations, and $\\boldsymbol{\\tau}$ are entangler amplitudes. "
   ]
  },
  {
   "cell_type": "code",
   "execution_count": 10,
   "metadata": {},
   "outputs": [
    {
     "name": "stdout",
     "output_type": "stream",
     "text": [
      "Optimizer: <class 'tequila.optimizers.optimizer_scipy.OptimizerSciPy'> \n",
      "backend         : qulacs\n",
      "device          : None\n",
      "samples         : None\n",
      "save_history    : True\n",
      "noise           : None\n",
      "\n",
      "Method          : BFGS\n",
      "Objective       : 1 expectationvalues\n",
      "gradient        : 18 expectationvalues\n",
      "\n",
      "active variables : 9\n",
      "\n",
      "E=-0.70294360  angles= {beta_0: 3.141592653589793, gamma_0: 0.0, beta_1: 3.141592653589793, gamma_1: 0.0, beta_2: 0.0, gamma_2: 0.0, beta_3: 0.0, gamma_3: 0.0, tau_0: 0.0}  samples= None\n",
      "E=-0.77938639  angles= {beta_0: 3.141592653589793, gamma_0: 0.0, beta_1: 3.141592653589793, gamma_1: 0.0, beta_2: 0.0, gamma_2: 0.0, beta_3: 0.0, gamma_3: 0.0, tau_0: 0.2822100520133972}  samples= None\n",
      "E=-0.93592356  angles= {beta_0: 3.141592653589793, gamma_0: 0.0, beta_1: 3.141592653589793, gamma_1: 0.0, beta_2: 0.0, gamma_2: 0.0, beta_3: 0.0, gamma_3: 0.0, tau_0: 1.411050260066986}  samples= None\n",
      "E=-0.93603455  angles= {beta_0: 3.141592653589793, gamma_0: 0.0, beta_1: 3.141592653589793, gamma_1: 0.0, beta_2: 0.0, gamma_2: 0.0, beta_3: 0.0, gamma_3: 0.0, tau_0: 1.3689076316049542}  samples= None\n",
      "E=-0.93605492  angles= {beta_0: 3.141592653589793, gamma_0: 0.0, beta_1: 3.141592653589793, gamma_1: 0.0, beta_2: 0.0, gamma_2: 0.0, beta_3: 0.0, gamma_3: 0.0, tau_0: 1.380815153240581}  samples= None\n",
      "Optimization terminated successfully.\n",
      "         Current function value: -0.936055\n",
      "         Iterations: 3\n",
      "         Function evaluations: 5\n",
      "         Gradient evaluations: 5\n",
      "\n",
      "Obtained QCC energy (1 entanglers): -0.9360549199554361\n"
     ]
    }
   ],
   "source": [
    "#Mean-field part of U (Omega):    \n",
    "U_MF = construct_QMF_ansatz(n_qubits = 2*h2.n_orbitals)\n",
    "#Entangling part of U:\n",
    "U_ENT = construct_QCC_ansatz(entanglers)\n",
    "\n",
    "U_QCC = U_MF + U_ENT\n",
    "\n",
    "E = tq.ExpectationValue(H=H, U=U_QCC)\n",
    "\n",
    "initial_vals = init_qcc_params(hf_reference, E.extract_variables())\n",
    "\n",
    "#Minimize wrt the entangler amplitude and MF angles:\n",
    "result = tq.minimize(objective=E, method=\"BFGS\", initial_values=initial_vals, tol=1.e-6)\n",
    "\n",
    "print('\\nObtained QCC energy ({} entanglers): {}'.format(len(entanglers), result.energy))"
   ]
  },
  {
   "cell_type": "markdown",
   "metadata": {},
   "source": [
    "We see that the QCC energy converged to the FCI energy with only a single entangler! \n",
    "\n",
    "### H2O in 6-31G basis\n",
    "\n",
    "Let us move on to the problem of H$_2$O in 6-31G basis using the same active space as the UCCSD example."
   ]
  },
  {
   "cell_type": "code",
   "execution_count": 11,
   "metadata": {},
   "outputs": [
    {
     "name": "stdout",
     "output_type": "stream",
     "text": [
      "converged SCF energy = -75.9807114451751\n",
      "\n",
      "Hamiltonian has 105 terms\n",
      "\n",
      "Grouping gradient magnitudes (Grouping : Gradient magnitude):\n",
      "1 : 0.031\n",
      "2 : 0.0249\n",
      "3 : 0.0135\n",
      "4 : 0.0089\n",
      "5 : 0.0\n",
      "6 : 0.0\n",
      "\n",
      "Selected entanglers:\n",
      "1.0 [X0 Y1 X4 X5]\n",
      "1.0 [X0 Y1 X6 X7]\n",
      "1.0 [X2 Y3 X4 X5]\n",
      "1.0 [X2 Y3 X6 X7]\n",
      "1.0 [X0 Y4]\n",
      "1.0 [X1 Y5]\n"
     ]
    }
   ],
   "source": [
    "xyz_data = get_molecular_data('h2o', geometry=1, xyz_format=True)\n",
    "\n",
    "basis = '6-31g'\n",
    "n_elec = 10\n",
    "n_occ  = n_elec // 2\n",
    "# active = {'B1':[0,1], 'A1':[2,3]}\n",
    "active = [n_occ-2, n_occ-1, n_occ, n_occ+1]\n",
    "# active = {'B1':[0,1], 'A1':[2,3]}\n",
    "h2o = tq.quantumchemistry.Molecule(geometry=xyz_data, basis_set = basis, active_orbitals = active)\n",
    "hf_reference = hf_occ(2*h2o.n_orbitals, h2o.n_electrons)\n",
    "\n",
    "\n",
    "H = h2o.make_hamiltonian()\n",
    "\n",
    "print(\"\\nHamiltonian has {} terms\\n\".format(len(H)))\n",
    "\n",
    "#Define number of entanglers to enter ansatz\n",
    "n_ents = 6\n",
    "\n",
    "#Rank entanglers using energy gradient criterion\n",
    "ranked_entangler_groupings = generate_QCC_gradient_groupings(H.to_openfermion(), \n",
    "                                                             2*h2o.n_orbitals, \n",
    "                                                             hf_reference, \n",
    "                                                             cutoff=threshold)\n",
    "\n",
    "print('Grouping gradient magnitudes (Grouping : Gradient magnitude):')\n",
    "for i in range(len(ranked_entangler_groupings)):\n",
    "    print('{} : {}'.format(i+1,ranked_entangler_groupings[i][1]))\n",
    "\n",
    "entanglers = get_QCC_entanglers(ranked_entangler_groupings, n_ents, 2*h2o.n_orbitals)\n",
    "\n",
    "print('\\nSelected entanglers:')\n",
    "for ent in entanglers:\n",
    "    print(ent)"
   ]
  },
  {
   "cell_type": "markdown",
   "metadata": {},
   "source": [
    "With the 6 chosen entanglers, we can then run the QCC VQE simulation."
   ]
  },
  {
   "cell_type": "code",
   "execution_count": 12,
   "metadata": {},
   "outputs": [
    {
     "name": "stdout",
     "output_type": "stream",
     "text": [
      "Optimizer: <class 'tequila.optimizers.optimizer_scipy.OptimizerSciPy'> \n",
      "backend         : qulacs\n",
      "device          : None\n",
      "samples         : None\n",
      "save_history    : True\n",
      "noise           : None\n",
      "\n",
      "Method          : BFGS\n",
      "Objective       : 1 expectationvalues\n",
      "gradient        : 44 expectationvalues\n",
      "\n",
      "active variables : 22\n",
      "\n",
      "E=-75.98071145  angles= {beta_0: 3.141592653589793, gamma_0: 0.0, beta_1: 3.141592653589793, gamma_1: 0.0, beta_2: 3.141592653589793, gamma_2: 0.0, beta_3: 3.141592653589793, gamma_3: 0.0, beta_4: 0.0, gamma_4: 0.0, beta_5: 0.0, gamma_5: 0.0, beta_6: 0.0, gamma_6: 0.0, beta_7: 0.0, gamma_7: 0.0, tau_0: 0.0, tau_1: 0.0, tau_2: 0.0, tau_3: 0.0, tau_4: 0.0, tau_5: 0.0}  samples= None\n",
      "E=-75.98195965  angles= {beta_0: 3.141592653589793, gamma_0: 0.0, beta_1: 3.141592653589793, gamma_1: 0.0, beta_2: 3.141592653589793, gamma_2: 0.0, beta_3: 3.141592653589793, gamma_3: 0.0, beta_4: 0.0, gamma_4: 0.0, beta_5: 0.0, gamma_5: 0.0, beta_6: 0.0, gamma_6: 0.0, beta_7: 0.0, gamma_7: 0.0, tau_0: 0.030994415283203125, tau_1: 0.02489471435546875, tau_2: 0.01346588134765625, tau_3: 0.008884429931640625, tau_4: 0.0, tau_5: 0.0}  samples= None\n",
      "E=-75.98215588  angles= {beta_0: 3.141592653589793, gamma_0: 0.0, beta_1: 3.141592653589793, gamma_1: 0.0, beta_2: 3.141592653589793, gamma_2: 0.0, beta_3: 3.141592653589793, gamma_3: 0.0, beta_4: 0.0, gamma_4: 0.0, beta_5: 0.0, gamma_5: 0.0, beta_6: 0.0, gamma_6: 0.0, beta_7: 0.0, gamma_7: 0.0, tau_0: 0.04982060799322889, tau_1: 0.03690578700970575, tau_2: 0.022223950259211804, tau_3: 0.012898241860998423, tau_4: -0.0023568877067060715, tau_5: 0.0023568877067060715}  samples= None\n",
      "E=-75.98216375  angles= {beta_0: 3.141592653589793, gamma_0: 0.0, beta_1: 3.141592653589793, gamma_1: 0.0, beta_2: 3.141592653589793, gamma_2: 0.0, beta_3: 3.141592653589793, gamma_3: 0.0, beta_4: 0.0, gamma_4: 0.0, beta_5: 0.0, gamma_5: 0.0, beta_6: 0.0, gamma_6: 0.0, beta_7: 0.0, gamma_7: 0.0, tau_0: 0.051053973805112056, tau_1: 0.03639615407455467, tau_2: 0.023000599936737077, tau_3: 0.01251798318707044, tau_4: -0.004344733173041142, tau_5: 0.004344733173041142}  samples= None\n",
      "E=-75.98217360  angles= {beta_0: 3.141592653589793, gamma_0: 0.0, beta_1: 3.141592653589793, gamma_1: 0.0, beta_2: 3.141592653589793, gamma_2: 0.0, beta_3: 3.141592653589793, gamma_3: 0.0, beta_4: 0.0, gamma_4: 0.0, beta_5: 0.0, gamma_5: 0.0, beta_6: 0.0, gamma_6: 0.0, beta_7: 0.0, gamma_7: 0.0, tau_0: 0.05240984305821187, tau_1: 0.03519568470556333, tau_2: 0.023856207155160274, tau_3: 0.011716315137744186, tau_4: -0.009278883128866216, tau_5: 0.009278883128866216}  samples= None\n",
      "E=-75.98217486  angles= {beta_0: 3.141592653589793, gamma_0: 0.0, beta_1: 3.141592653589793, gamma_1: 0.0, beta_2: 3.141592653589793, gamma_2: 0.0, beta_3: 3.141592653589793, gamma_3: 0.0, beta_4: 0.0, gamma_4: 0.0, beta_5: 0.0, gamma_5: 0.0, beta_6: 0.0, gamma_6: 0.0, beta_7: 0.0, gamma_7: 0.0, tau_0: 0.052412948392501074, tau_1: 0.035226733434410774, tau_2: 0.023700588170813826, tau_3: 0.01167584837540858, tau_4: -0.011239793126054724, tau_5: 0.011239793126054724}  samples= None\n",
      "E=-75.98217510  angles= {beta_0: 3.141592653589793, gamma_0: 0.0, beta_1: 3.141592653589793, gamma_1: 0.0, beta_2: 3.141592653589793, gamma_2: 0.0, beta_3: 3.141592653589793, gamma_3: 0.0, beta_4: 0.0, gamma_4: 0.0, beta_5: 0.0, gamma_5: 0.0, beta_6: 0.0, gamma_6: 0.0, beta_7: 0.0, gamma_7: 0.0, tau_0: 0.05217592998596136, tau_1: 0.035550358194420026, tau_2: 0.023386710526757698, tau_3: 0.011838068962352292, tau_4: -0.011762360124554542, tau_5: 0.011762360124554542}  samples= None\n",
      "E=-75.98217513  angles= {beta_0: 3.141592653589793, gamma_0: 0.0, beta_1: 3.141592653589793, gamma_1: 0.0, beta_2: 3.141592653589793, gamma_2: 0.0, beta_3: 3.141592653589793, gamma_3: 0.0, beta_4: 0.0, gamma_4: 0.0, beta_5: 0.0, gamma_5: 0.0, beta_6: 0.0, gamma_6: 0.0, beta_7: 0.0, gamma_7: 0.0, tau_0: 0.05204015383956193, tau_1: 0.035734097479669734, tau_2: 0.023200863470025368, tau_3: 0.011953844067067388, tau_4: -0.011758272842115043, tau_5: 0.011758272842115043}  samples= None\n",
      "Optimization terminated successfully.\n",
      "         Current function value: -75.982175\n",
      "         Iterations: 7\n",
      "         Function evaluations: 8\n",
      "         Gradient evaluations: 8\n",
      "\n",
      "Obtained QCC energy (6 entanglers): -75.98217513030107\n"
     ]
    }
   ],
   "source": [
    "#Mean-field part of U (Omega):    \n",
    "U_MF = construct_QMF_ansatz(n_qubits = 2*h2o.n_orbitals)\n",
    "#Entangling part of U:\n",
    "U_ENT = construct_QCC_ansatz(entanglers)\n",
    "\n",
    "U_QCC = U_MF + U_ENT\n",
    "\n",
    "E = tq.ExpectationValue(H=H, U=U_QCC)\n",
    "\n",
    "initial_vals = init_qcc_params(hf_reference, E.extract_variables())\n",
    "\n",
    "#Minimize wrt the entangler amplitude and MF angles:\n",
    "result = tq.minimize(objective=E, method=\"BFGS\", initial_values=initial_vals, tol=1.e-4)\n",
    "\n",
    "\n",
    "print('\\nObtained QCC energy ({} entanglers): {}'.format(len(entanglers), result.energy))"
   ]
  },
  {
   "cell_type": "markdown",
   "metadata": {},
   "source": [
    "We obtain chemical accuracy for water near equilibrium geometry with only 6 entanglers. The obtained energy is not as accurate as that of UCCSD for this problem, however the QCC optimization may be performed at a fraction of the UCCSD circuit depth. One can also increase the number of entanglers entering the QCC ansatz to increase accuracy. As a final check, one can always run $n$ VQE trials with random initial guesses to test if the optimization fell into a local minimum. ***(Warning: Completing n=10 trials may take a few minutes for this VQE instance).***"
   ]
  },
  {
   "cell_type": "code",
   "execution_count": 13,
   "metadata": {},
   "outputs": [
    {
     "name": "stdout",
     "output_type": "stream",
     "text": [
      "\n",
      "Obtained QCC energy (6 entanglers): -75.98217511610754\n"
     ]
    }
   ],
   "source": [
    "n = 10\n",
    "result = minimize_E_random_guesses(objective=E, method='BFGS', tol=1e-4, n=n)\n",
    "\n",
    "print('\\nObtained QCC energy ({} entanglers): {}'.format(len(entanglers), result))"
   ]
  },
  {
   "cell_type": "markdown",
   "source": [
    "## Question 1.\n",
    "Q)  Standard Hamiltonian symmetries are i) number of electrons $ N^e = \\sum_k{\\hat{a}^{\\dagger}_k\\hat{a}_k} $,\n",
    "ii) electron spin $ S^2 $, iii) electron spin projection $ S^z $, iv) time-reversal symmetry,\n",
    "and v) point-group symmetry for symmetric molecules. Which of these symmetries are conserved in a) UCC and b) QCC ?\n",
    "\n",
    "A) We represent the ansatz circuit as a unitary, $ \\hat{U} $, then a symmetry $i$ with the operator, $ \\hat{S}_i $\n",
    "is conserved if\n",
    "\n",
    "\n",
    "$ \\hat{U}^{\\dagger} \\hat{S}_i \\hat{U} = \\hat{S}_i $.\n",
    "\n",
    "i) Number of electrons\n",
    "\n",
    "    A. UCC preserves the number of electrons.\n",
    "        It's because each term in the excitation operator has the same number of annihilation and creation operators,\n",
    "        So does their exponential. So the uccsd ansatz preserves the number of electrons.\n",
    "\n",
    "    B. QCC doesn't.\n",
    "        For example, an entangler of h2o molecule case, exp(-it[X0 Y1 X4 X5]/2) generates superposition in the computational basis,\n",
    "        with qubit 0, 1, 4, and 5 are flipped. If one of a basis doesn't have the same number of occupations and vacancies\n",
    "        in those qubits, it will change the number of electrons.\n",
    "\n",
    "ii) $ S^2 $\n",
    "\n",
    "    A. UCC doesn't\n",
    "    B. QCC doesn't.\n",
    "\n",
    "iii) $ S_z $\n",
    "\n",
    "    A. UCC preserves the projected spin.\n",
    "    B. QCC preserves the projected spin.\n",
    "\n",
    "iv) time-reversal symmetry, $ \\mathcal{T} $\n",
    "\n",
    "If $\\mathcal{T}^{-1} U \\mathcal{T} = U$ it conserves time-reversal symmetry.\n",
    "\n",
    "    A. UCC\n",
    "\n",
    "\n",
    "    B. QCC\n",
    "\n",
    "v) point-group symmetry\n",
    "\n",
    "    A. UCC\n",
    "    B. QCC"
   ],
   "metadata": {
    "collapsed": false,
    "pycharm": {
     "name": "#%% md\n"
    }
   }
  },
  {
   "cell_type": "markdown",
   "source": [
    "## Question 2.\n",
    "\n",
    "Q) Why symmetries are helpful for constructing a unitary operator which rotates the initial state\n",
    "$|\\bar{0}\\rangle$ to the eigenstate $|\\Psi\\rangle$ ?\n",
    "\n",
    "A) Because it preserves the symmetric quantity of $|\\bar{0}\\rangle$ to $|\\Psi\\rangle$, one can search for the eigenstates\n",
    "those have some constraint on the quantity. For example, if one prepare $|\\bar{0}\\rangle$ as a state removed some pairs of electrons from\n",
    "$|RHF\\rangle$, rather than the intact $|RHF\\rangle$, the final state $|\\Psi\\rangle$ holds the number of electrons of the constraint."
   ],
   "metadata": {
    "collapsed": false,
    "pycharm": {
     "name": "#%% md\n"
    }
   }
  },
  {
   "cell_type": "markdown",
   "source": [
    "## Question 3.\n",
    "\n",
    "Q) What are the ways to restore symmetries if your unitary transformation break them?\n",
    "\n",
    "A) One can add violation terms to the objective function to be minimized.\n",
    "\n",
    "$ \\min_{|\\Psi\\rangle} \\langle\\Psi|\\hat{H} + \\lambda(\\hat{S} - S)^2 |\\Psi\\rangle , \\quad \\lambda > 0$\n"
   ],
   "metadata": {
    "collapsed": false,
    "pycharm": {
     "name": "#%% md\n"
    }
   }
  }
 ],
 "metadata": {
  "kernelspec": {
   "name": "python3",
   "language": "python",
   "display_name": "Python 3 (ipykernel)"
  },
  "language_info": {
   "codemirror_mode": {
    "name": "ipython",
    "version": 3
   },
   "file_extension": ".py",
   "mimetype": "text/x-python",
   "name": "python",
   "nbconvert_exporter": "python",
   "pygments_lexer": "ipython3",
   "version": "3.6.10"
  }
 },
 "nbformat": 4,
 "nbformat_minor": 2
}