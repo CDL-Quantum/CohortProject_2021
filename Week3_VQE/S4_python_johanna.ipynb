{
 "cells": [
  {
   "cell_type": "code",
   "execution_count": 1,
   "id": "7f702713",
   "metadata": {},
   "outputs": [],
   "source": [
    "\n",
    "import tequila as tq\n",
    "from utility import *"
   ]
  },
  {
   "cell_type": "code",
   "execution_count": 2,
   "id": "04925f8c",
   "metadata": {},
   "outputs": [
    {
     "name": "stdout",
     "output_type": "stream",
     "text": [
      "Fragments 1: \n",
      "0.13716572937099494 [Z0] +\n",
      "0.15660062488237958 [Z0 Z1] +\n",
      "0.10622904490856085 [Z0 Z2] +\n",
      "0.15542669077992843 [Z0 Z3] +\n",
      "0.13716572937099494 [Z1] +\n",
      "0.15542669077992843 [Z1 Z2] +\n",
      "0.10622904490856085 [Z1 Z3] +\n",
      "-0.1303629205710914 [Z2] +\n",
      "0.1632676867356435 [Z2 Z3] +\n",
      "-0.13036292057109133 [Z3]\n",
      "\n",
      "Fragments 2:\n",
      "-0.04919764587136759 [X0 X1 Y2 Y3]\n",
      "\n",
      "Number of fragments: 5\n"
     ]
    }
   ],
   "source": [
    "h2 = get_qubit_hamiltonian(mol='h2', geometry=1, basis='sto3g', qubit_transf='jw')\n",
    "\n",
    "qwc_list = get_qwc_group(h2)\n",
    "print('Fragments 1: \\n{}\\n'.format(qwc_list[4]))\n",
    "print('Fragments 2:\\n{}\\n'.format(qwc_list[1]))\n",
    "print('Number of fragments: {}'.format(len(qwc_list)))"
   ]
  },
  {
   "cell_type": "code",
   "execution_count": 3,
   "id": "25007ff0",
   "metadata": {},
   "outputs": [
    {
     "name": "stdout",
     "output_type": "stream",
     "text": [
      "Fragments: \n",
      "-0.3276081896748089 [] +\n",
      "0.04919764587136759 [X0 Y1 Y2 X3]\n",
      "\n",
      "Fragments: \n",
      "-0.04919764587136759 [X0 X1 Y2 Y3]\n",
      "\n",
      "Fragments: \n",
      "-0.04919764587136759 [Y0 Y1 X2 X3]\n",
      "\n",
      "Fragments: \n",
      "0.04919764587136759 [Y0 X1 X2 Y3]\n",
      "\n",
      "Fragments: \n",
      "0.13716572937099494 [Z0] +\n",
      "0.15660062488237958 [Z0 Z1] +\n",
      "0.10622904490856085 [Z0 Z2] +\n",
      "0.15542669077992843 [Z0 Z3] +\n",
      "0.13716572937099494 [Z1] +\n",
      "0.15542669077992843 [Z1 Z2] +\n",
      "0.10622904490856085 [Z1 Z3] +\n",
      "-0.1303629205710914 [Z2] +\n",
      "0.1632676867356435 [Z2 Z3] +\n",
      "-0.13036292057109133 [Z3]\n",
      "\n"
     ]
    }
   ],
   "source": [
    "for i in range(5):\n",
    "    print('Fragments: \\n{}\\n'.format(qwc_list[i]))\n",
    "    "
   ]
  },
  {
   "cell_type": "code",
   "execution_count": 4,
   "id": "f0cb9a0a",
   "metadata": {},
   "outputs": [
    {
     "name": "stdout",
     "output_type": "stream",
     "text": [
      "Number of mutually commuting fragments: 2\n",
      "The first commuting group\n",
      "-0.3276081896748089 [] +\n",
      "-0.04919764587136759 [X0 X1 Y2 Y3] +\n",
      "0.04919764587136759 [X0 Y1 Y2 X3] +\n",
      "0.04919764587136759 [Y0 X1 X2 Y3] +\n",
      "-0.04919764587136759 [Y0 Y1 X2 X3] +\n",
      "0.15660062488237958 [Z0 Z1] +\n",
      "0.10622904490856085 [Z0 Z2] +\n",
      "0.15542669077992843 [Z0 Z3] +\n",
      "0.15542669077992843 [Z1 Z2] +\n",
      "0.10622904490856085 [Z1 Z3] +\n",
      "0.1632676867356435 [Z2 Z3]\n",
      "The second commuting group\n",
      "0.13716572937099494 [Z0] +\n",
      "0.13716572937099494 [Z1] +\n",
      "-0.1303629205710914 [Z2] +\n",
      "-0.13036292057109133 [Z3]\n"
     ]
    }
   ],
   "source": [
    "comm_groups = get_commuting_group(h2)\n",
    "print('Number of mutually commuting fragments: {}'.format(len(comm_groups)))\n",
    "print('The first commuting group')\n",
    "print(comm_groups[1])\n",
    "print('The second commuting group')\n",
    "print(comm_groups[2])"
   ]
  },
  {
   "cell_type": "code",
   "execution_count": 15,
   "id": "c7633e72",
   "metadata": {},
   "outputs": [
    {
     "name": "stdout",
     "output_type": "stream",
     "text": [
      "This is unitary, U * U^+ = I  for A\n",
      "(0.9999999999999996+0j) []\n",
      "This is unitary, U * U^+ = I for B\n",
      "0.9999999999999996 []\n"
     ]
    }
   ],
   "source": [
    "uqwcA = get_qwc_unitary(comm_groups[1])\n",
    "print('This is unitary, U * U^+ = I  for A')\n",
    "print(uqwcA * uqwcA)\n",
    "uqwcB = get_qwc_unitary(comm_groups[2])\n",
    "print('This is unitary, U * U^+ = I for B')\n",
    "print(uqwcB * uqwcB)"
   ]
  },
  {
   "cell_type": "code",
   "execution_count": 16,
   "id": "072f46b9",
   "metadata": {},
   "outputs": [
    {
     "name": "stdout",
     "output_type": "stream",
     "text": [
      "-0.32760818967480876 [] +\n",
      "0.15542669077992827 [X0] +\n",
      "0.15660062488237952 [X0 X1] +\n",
      "0.04919764587136755 [X0 X1 Z3] +\n",
      "0.10622904490856076 [X0 X2] +\n",
      "-0.04919764587136755 [X0 Z3] +\n",
      "0.10622904490856076 [X1] +\n",
      "0.15542669077992827 [X1 X2] +\n",
      "-0.04919764587136755 [X1 X2 Z3] +\n",
      "0.16326768673564335 [X2] +\n",
      "0.04919764587136755 [X2 Z3]\n",
      "0.13716572937099486 [X0] +\n",
      "0.13716572937099486 [X1] +\n",
      "-0.13036292057109125 [X2] +\n",
      "-0.13036292057109122 [X3]\n"
     ]
    }
   ],
   "source": [
    "qwcA = remove_complex(uqwcA * comm_groups[1] * uqwcA)\n",
    "print(qwcA)\n",
    "qwcB = remove_complex(uqwcB * comm_groups[2] * uqwcB)\n",
    "print(qwcB)"
   ]
  },
  {
   "cell_type": "code",
   "execution_count": 18,
   "id": "48813e50",
   "metadata": {},
   "outputs": [
    {
     "name": "stdout",
     "output_type": "stream",
     "text": [
      "Checking whether U * U^+ is identity for A: 0.9999999999999998 []\n",
      "\n",
      "The all-z form of qwc fragment A:\n",
      "-0.3276081896748086 [] +\n",
      "0.15542669077992818 [Z0] +\n",
      "0.15660062488237944 [Z0 Z1] +\n",
      "0.04919764587136754 [Z0 Z1 Z3] +\n",
      "0.1062290449085607 [Z0 Z2] +\n",
      "-0.04919764587136754 [Z0 Z3] +\n",
      "0.1062290449085607 [Z1] +\n",
      "0.15542669077992818 [Z1 Z2] +\n",
      "-0.04919764587136754 [Z1 Z2 Z3] +\n",
      "0.16326768673564326 [Z2] +\n",
      "0.04919764587136754 [Z2 Z3]\n",
      "Checking whether U * U^+ is identity for B: 0.9999999999999996 []\n",
      "\n",
      "The all-z form of qwc fragment B:\n",
      "0.13716572937099472 [Z0] +\n",
      "0.13716572937099472 [Z1] +\n",
      "-0.13036292057109117 [Z2] +\n",
      "-0.13036292057109117 [Z3]\n"
     ]
    }
   ],
   "source": [
    "uzA = get_zform_unitary(qwcA)\n",
    "print(\"Checking whether U * U^+ is identity for A: {}\".format(uzA * uzA))\n",
    "\n",
    "allzA = remove_complex(uzA * qwcA * uzA)\n",
    "print(\"\\nThe all-z form of qwc fragment A:\\n{}\".format(allzA))\n",
    "\n",
    "uzB = get_zform_unitary(qwcB)\n",
    "print(\"Checking whether U * U^+ is identity for B: {}\".format(uzB * uzB))\n",
    "\n",
    "allzB = remove_complex(uzB * qwcB * uzB)\n",
    "print(\"\\nThe all-z form of qwc fragment B:\\n{}\".format(allzB))"
   ]
  },
  {
   "cell_type": "markdown",
   "id": "18881d5d",
   "metadata": {},
   "source": [
    "task 5, QCC"
   ]
  },
  {
   "cell_type": "code",
   "execution_count": 25,
   "id": "8c3158e8",
   "metadata": {},
   "outputs": [
    {
     "name": "stdout",
     "output_type": "stream",
     "text": [
      "The ground state energy from S1: \n",
      "converged SCF energy = -1.06610864931794\n",
      "E = -1.1011503302326187 Eh\n",
      "\n",
      "The eigenvalues in the matrix representation of Hamiltonian: \n",
      "[-0.74587179 -0.74587179 -0.74587179 -0.72784193 -0.35229063 -0.33427525\n",
      " -0.33427525 -0.33427525 -0.33427525 -0.33426077 -0.32094113 -0.32094113\n",
      " -0.32094113 -0.32094113  0.51557159  0.51557159]\n"
     ]
    }
   ],
   "source": [
    "# Defining pauli matrices \n",
    "I, X, Y, Z = np.identity(2), np.array([[0, 1], [1, 0]]), np.array([[0, -1j], [1j, 0]]), np.array([[1, 0], [0, -1]])\n",
    "\n",
    "# Build matrix representiation of the Hamiltonian H\n",
    "n_qubits = 4\n",
    "#openfermion.count_qubits(h2)\n",
    "A_matrix = np.zeros((2**n_qubits, 2**n_qubits), dtype=np.complex)\n",
    "for term, term_coeff in allzA.terms.items(): # Iterate over pauli-words of H\n",
    "    term = dict(term) # Dict[qubit_index, 'X'/'Y'/'Z']\n",
    "    \n",
    "    # Build matrix rep of current pauli-word using kronecker product to represent x_i y_j ...\n",
    "    pw_matrix = np.identity(1)\n",
    "    for i in range(n_qubits):\n",
    "        if i not in term:        pw_matrix = np.kron(pw_matrix, I)\n",
    "        else:\n",
    "            if term[i] == 'X':   pw_matrix = np.kron(pw_matrix, X)\n",
    "            elif term[i] == 'Y': pw_matrix = np.kron(pw_matrix, Y)\n",
    "            else:                pw_matrix = np.kron(pw_matrix, Z)\n",
    "    A_matrix += pw_matrix * term_coeff\n",
    "\n",
    "eigvals, _ = np.linalg.eigh(A_matrix)\n",
    "print(\"The ground state energy from S1: \")\n",
    "obtain_PES('h2', [1], 'sto-3g', 'fci')\n",
    "print(\"\\nThe eigenvalues in the matrix representation of Hamiltonian: \\n{}\".format(eigvals))"
   ]
  },
  {
   "cell_type": "code",
   "execution_count": 26,
   "id": "384973b0",
   "metadata": {},
   "outputs": [
    {
     "name": "stdout",
     "output_type": "stream",
     "text": [
      "The ground state energy from S1: \n",
      "converged SCF energy = -1.06610864931794\n",
      "E = -1.1011503302326187 Eh\n",
      "\n",
      "The eigenvalues in the matrix representation of Hamiltonian: \n",
      "[-0.5350573  -0.27433146 -0.27433146 -0.26072584 -0.26072584 -0.01360562\n",
      "  0.          0.          0.          0.          0.01360562  0.26072584\n",
      "  0.26072584  0.27433146  0.27433146  0.5350573 ]\n"
     ]
    }
   ],
   "source": [
    "# Defining pauli matrices \n",
    "I, X, Y, Z = np.identity(2), np.array([[0, 1], [1, 0]]), np.array([[0, -1j], [1j, 0]]), np.array([[1, 0], [0, -1]])\n",
    "\n",
    "# Build matrix representiation of the Hamiltonian H\n",
    "n_qubits = 4\n",
    "#openfermion.count_qubits(h2)\n",
    "B_matrix = np.zeros((2**n_qubits, 2**n_qubits), dtype=np.complex)\n",
    "for term, term_coeff in allzB.terms.items(): # Iterate over pauli-words of H\n",
    "    term = dict(term) # Dict[qubit_index, 'X'/'Y'/'Z']\n",
    "    \n",
    "    # Build matrix rep of current pauli-word using kronecker product to represent x_i y_j ...\n",
    "    pw_matrix = np.identity(1)\n",
    "    for i in range(n_qubits):\n",
    "        if i not in term:        pw_matrix = np.kron(pw_matrix, I)\n",
    "        else:\n",
    "            if term[i] == 'X':   pw_matrix = np.kron(pw_matrix, X)\n",
    "            elif term[i] == 'Y': pw_matrix = np.kron(pw_matrix, Y)\n",
    "            else:                pw_matrix = np.kron(pw_matrix, Z)\n",
    "    B_matrix += pw_matrix * term_coeff\n",
    "\n",
    "eigvals, _ = np.linalg.eigh(B_matrix)\n",
    "print(\"The ground state energy from S1: \")\n",
    "obtain_PES('h2', [1], 'sto-3g', 'fci')\n",
    "print(\"\\nThe eigenvalues in the matrix representation of Hamiltonian: \\n{}\".format(eigvals))"
   ]
  },
  {
   "cell_type": "code",
   "execution_count": 31,
   "id": "1d46a7c7",
   "metadata": {},
   "outputs": [
    {
     "name": "stdout",
     "output_type": "stream",
     "text": [
      "circuit: \n",
      "Rx(target=(0,), parameter=beta_0)\n",
      "Rz(target=(0,), parameter=gamma_0)\n",
      "Rx(target=(1,), parameter=beta_1)\n",
      "Rz(target=(1,), parameter=gamma_1)\n",
      "Rx(target=(2,), parameter=beta_2)\n",
      "Rz(target=(2,), parameter=gamma_2)\n",
      "Rx(target=(3,), parameter=beta_3)\n",
      "Rz(target=(3,), parameter=gamma_3)\n",
      "Exp-Pauli(target=(0, 1, 2, 3), control=(), parameter=tau_0, paulistring=X(0)Y(1)X(2)X(3))\n",
      "\n"
     ]
    }
   ],
   "source": [
    "#simulate <A> and <B>\n",
    "U = construct_QMF_ansatz(4)\n",
    "U += tq.gates.ExpPauli(paulistring=tq.PauliString.from_string(\"X(0)Y(1)X(2)X(3)\"), angle=a)\n",
    "print(U)"
   ]
  },
  {
   "cell_type": "code",
   "execution_count": 32,
   "id": "14d9c524",
   "metadata": {},
   "outputs": [
    {
     "ename": "AttributeError",
     "evalue": "'QubitOperator' object has no attribute 'qubits'",
     "output_type": "error",
     "traceback": [
      "\u001b[0;31m---------------------------------------------------------------------------\u001b[0m",
      "\u001b[0;31mAttributeError\u001b[0m                            Traceback (most recent call last)",
      "\u001b[0;32m<ipython-input-32-ee525c7432bd>\u001b[0m in \u001b[0;36m<module>\u001b[0;34m\u001b[0m\n\u001b[1;32m      1\u001b[0m \u001b[0mexpA\u001b[0m \u001b[0;34m=\u001b[0m \u001b[0mtq\u001b[0m\u001b[0;34m.\u001b[0m\u001b[0mExpectationValue\u001b[0m\u001b[0;34m(\u001b[0m\u001b[0mH\u001b[0m\u001b[0;34m=\u001b[0m\u001b[0mallzA\u001b[0m\u001b[0;34m,\u001b[0m \u001b[0mU\u001b[0m\u001b[0;34m=\u001b[0m\u001b[0mU\u001b[0m\u001b[0;34m)\u001b[0m\u001b[0;34m\u001b[0m\u001b[0;34m\u001b[0m\u001b[0m\n\u001b[1;32m      2\u001b[0m \u001b[0mvars\u001b[0m \u001b[0;34m=\u001b[0m \u001b[0;34m{\u001b[0m\u001b[0;34m'beta_1'\u001b[0m\u001b[0;34m:\u001b[0m \u001b[0;36m3.141592624143881\u001b[0m\u001b[0;34m,\u001b[0m \u001b[0;34m'beta_0'\u001b[0m\u001b[0;34m:\u001b[0m \u001b[0;36m3.141592624143881\u001b[0m\u001b[0;34m,\u001b[0m \u001b[0;34m'tau_0'\u001b[0m\u001b[0;34m:\u001b[0m \u001b[0;36m1.1331410014096885\u001b[0m\u001b[0;34m,\u001b[0m \u001b[0;34m'gamma_1'\u001b[0m\u001b[0;34m:\u001b[0m \u001b[0;36m0.0\u001b[0m\u001b[0;34m,\u001b[0m \u001b[0;34m'beta_3'\u001b[0m\u001b[0;34m:\u001b[0m \u001b[0;36m0.0\u001b[0m\u001b[0;34m,\u001b[0m \u001b[0;34m'gamma_3'\u001b[0m\u001b[0;34m:\u001b[0m \u001b[0;36m0.0\u001b[0m\u001b[0;34m,\u001b[0m \u001b[0;34m'gamma_2'\u001b[0m\u001b[0;34m:\u001b[0m \u001b[0;36m0.0\u001b[0m\u001b[0;34m,\u001b[0m \u001b[0;34m'gamma_0'\u001b[0m\u001b[0;34m:\u001b[0m \u001b[0;36m0.0\u001b[0m\u001b[0;34m,\u001b[0m \u001b[0;34m'beta_2'\u001b[0m\u001b[0;34m:\u001b[0m \u001b[0;36m0.0\u001b[0m\u001b[0;34m}\u001b[0m \u001b[0;31m# values obtained from step 3\u001b[0m\u001b[0;34m\u001b[0m\u001b[0;34m\u001b[0m\u001b[0m\n\u001b[0;32m----> 3\u001b[0;31m \u001b[0mprint\u001b[0m\u001b[0;34m(\u001b[0m\u001b[0mtq\u001b[0m\u001b[0;34m.\u001b[0m\u001b[0msimulate\u001b[0m\u001b[0;34m(\u001b[0m\u001b[0mexpA\u001b[0m\u001b[0;34m,\u001b[0m \u001b[0mvariables\u001b[0m\u001b[0;34m=\u001b[0m\u001b[0mvars\u001b[0m\u001b[0;34m)\u001b[0m\u001b[0;34m)\u001b[0m\u001b[0;34m\u001b[0m\u001b[0;34m\u001b[0m\u001b[0m\n\u001b[0m",
      "\u001b[0;32m~/Documents/CDL_application/Cohort/CohortProject_2021/Week3_VQE/tequila/src/tequila/simulators/simulator_api.py\u001b[0m in \u001b[0;36msimulate\u001b[0;34m(objective, variables, samples, backend, noise, device, *args, **kwargs)\u001b[0m\n\u001b[1;32m    399\u001b[0m                 objective.extract_variables()))\n\u001b[1;32m    400\u001b[0m \u001b[0;34m\u001b[0m\u001b[0m\n\u001b[0;32m--> 401\u001b[0;31m     compiled_objective = compile(objective=objective, samples=samples, variables=variables, backend=backend,\n\u001b[0m\u001b[1;32m    402\u001b[0m                                  noise=noise,device=device, *args, **kwargs)\n\u001b[1;32m    403\u001b[0m \u001b[0;34m\u001b[0m\u001b[0m\n",
      "\u001b[0;32m~/Documents/CDL_application/Cohort/CohortProject_2021/Week3_VQE/tequila/src/tequila/simulators/simulator_api.py\u001b[0m in \u001b[0;36mcompile\u001b[0;34m(objective, variables, samples, backend, noise, device, *args, **kwargs)\u001b[0m\n\u001b[1;32m    525\u001b[0m \u001b[0;34m\u001b[0m\u001b[0m\n\u001b[1;32m    526\u001b[0m     \u001b[0;32mif\u001b[0m \u001b[0misinstance\u001b[0m\u001b[0;34m(\u001b[0m\u001b[0mobjective\u001b[0m\u001b[0;34m,\u001b[0m \u001b[0mObjective\u001b[0m\u001b[0;34m)\u001b[0m \u001b[0;32mor\u001b[0m \u001b[0mhasattr\u001b[0m\u001b[0;34m(\u001b[0m\u001b[0mobjective\u001b[0m\u001b[0;34m,\u001b[0m \u001b[0;34m\"args\"\u001b[0m\u001b[0;34m)\u001b[0m\u001b[0;34m:\u001b[0m\u001b[0;34m\u001b[0m\u001b[0;34m\u001b[0m\u001b[0m\n\u001b[0;32m--> 527\u001b[0;31m         \u001b[0;32mreturn\u001b[0m \u001b[0mcompile_objective\u001b[0m\u001b[0;34m(\u001b[0m\u001b[0mobjective\u001b[0m\u001b[0;34m=\u001b[0m\u001b[0mobjective\u001b[0m\u001b[0;34m,\u001b[0m \u001b[0msamples\u001b[0m\u001b[0;34m=\u001b[0m\u001b[0msamples\u001b[0m\u001b[0;34m,\u001b[0m \u001b[0mvariables\u001b[0m\u001b[0;34m=\u001b[0m\u001b[0mvariables\u001b[0m\u001b[0;34m,\u001b[0m \u001b[0mbackend\u001b[0m\u001b[0;34m=\u001b[0m\u001b[0mbackend\u001b[0m\u001b[0;34m,\u001b[0m \u001b[0mnoise\u001b[0m\u001b[0;34m=\u001b[0m\u001b[0mnoise\u001b[0m\u001b[0;34m,\u001b[0m \u001b[0mdevice\u001b[0m\u001b[0;34m=\u001b[0m\u001b[0mdevice\u001b[0m\u001b[0;34m,\u001b[0m \u001b[0;34m*\u001b[0m\u001b[0margs\u001b[0m\u001b[0;34m,\u001b[0m \u001b[0;34m**\u001b[0m\u001b[0mkwargs\u001b[0m\u001b[0;34m)\u001b[0m\u001b[0;34m\u001b[0m\u001b[0;34m\u001b[0m\u001b[0m\n\u001b[0m\u001b[1;32m    528\u001b[0m     \u001b[0;32melif\u001b[0m \u001b[0mhasattr\u001b[0m\u001b[0;34m(\u001b[0m\u001b[0mobjective\u001b[0m\u001b[0;34m,\u001b[0m \u001b[0;34m\"gates\"\u001b[0m\u001b[0;34m)\u001b[0m \u001b[0;32mor\u001b[0m \u001b[0mhasattr\u001b[0m\u001b[0;34m(\u001b[0m\u001b[0mobjective\u001b[0m\u001b[0;34m,\u001b[0m \u001b[0;34m\"abstract_circuit\"\u001b[0m\u001b[0;34m)\u001b[0m\u001b[0;34m:\u001b[0m\u001b[0;34m\u001b[0m\u001b[0;34m\u001b[0m\u001b[0m\n\u001b[1;32m    529\u001b[0m         return compile_circuit(abstract_circuit=objective, variables=variables, backend=backend,samples=samples,\n",
      "\u001b[0;32m~/Documents/CDL_application/Cohort/CohortProject_2021/Week3_VQE/tequila/src/tequila/simulators/simulator_api.py\u001b[0m in \u001b[0;36mcompile_objective\u001b[0;34m(objective, variables, backend, samples, device, noise, *args, **kwargs)\u001b[0m\n\u001b[1;32m    290\u001b[0m             \u001b[0;32mif\u001b[0m \u001b[0mhasattr\u001b[0m\u001b[0;34m(\u001b[0m\u001b[0marg\u001b[0m\u001b[0;34m,\u001b[0m \u001b[0;34m\"H\"\u001b[0m\u001b[0;34m)\u001b[0m \u001b[0;32mand\u001b[0m \u001b[0mhasattr\u001b[0m\u001b[0;34m(\u001b[0m\u001b[0marg\u001b[0m\u001b[0;34m,\u001b[0m \u001b[0;34m\"U\"\u001b[0m\u001b[0;34m)\u001b[0m \u001b[0;32mand\u001b[0m \u001b[0;32mnot\u001b[0m \u001b[0misinstance\u001b[0m\u001b[0;34m(\u001b[0m\u001b[0marg\u001b[0m\u001b[0;34m,\u001b[0m \u001b[0mBackendExpectationValue\u001b[0m\u001b[0;34m)\u001b[0m\u001b[0;34m:\u001b[0m\u001b[0;34m\u001b[0m\u001b[0;34m\u001b[0m\u001b[0m\n\u001b[1;32m    291\u001b[0m                 \u001b[0;32mif\u001b[0m \u001b[0marg\u001b[0m \u001b[0;32mnot\u001b[0m \u001b[0;32min\u001b[0m \u001b[0mexpectationvalues\u001b[0m\u001b[0;34m:\u001b[0m\u001b[0;34m\u001b[0m\u001b[0;34m\u001b[0m\u001b[0m\n\u001b[0;32m--> 292\u001b[0;31m                     \u001b[0mcompiled_expval\u001b[0m \u001b[0;34m=\u001b[0m \u001b[0mExpValueType\u001b[0m\u001b[0;34m(\u001b[0m\u001b[0marg\u001b[0m\u001b[0;34m,\u001b[0m \u001b[0mvariables\u001b[0m\u001b[0;34m=\u001b[0m\u001b[0mvariables\u001b[0m\u001b[0;34m,\u001b[0m \u001b[0mnoise\u001b[0m\u001b[0;34m=\u001b[0m\u001b[0mnoise\u001b[0m\u001b[0;34m,\u001b[0m \u001b[0mdevice\u001b[0m\u001b[0;34m=\u001b[0m\u001b[0mdevice\u001b[0m\u001b[0;34m,\u001b[0m \u001b[0;34m*\u001b[0m\u001b[0margs\u001b[0m\u001b[0;34m,\u001b[0m \u001b[0;34m**\u001b[0m\u001b[0mkwargs\u001b[0m\u001b[0;34m)\u001b[0m\u001b[0;34m\u001b[0m\u001b[0;34m\u001b[0m\u001b[0m\n\u001b[0m\u001b[1;32m    293\u001b[0m                     \u001b[0mexpectationvalues\u001b[0m\u001b[0;34m[\u001b[0m\u001b[0marg\u001b[0m\u001b[0;34m]\u001b[0m \u001b[0;34m=\u001b[0m \u001b[0mcompiled_expval\u001b[0m\u001b[0;34m\u001b[0m\u001b[0;34m\u001b[0m\u001b[0m\n\u001b[1;32m    294\u001b[0m                 \u001b[0;32melse\u001b[0m\u001b[0;34m:\u001b[0m\u001b[0;34m\u001b[0m\u001b[0;34m\u001b[0m\u001b[0m\n",
      "\u001b[0;32m~/Documents/CDL_application/Cohort/CohortProject_2021/Week3_VQE/tequila/src/tequila/simulators/simulator_base.py\u001b[0m in \u001b[0;36m__init__\u001b[0;34m(self, E, variables, noise, device, *args, **kwargs)\u001b[0m\n\u001b[1;32m    747\u001b[0m         \u001b[0mself\u001b[0m\u001b[0;34m.\u001b[0m\u001b[0m_input_args\u001b[0m \u001b[0;34m=\u001b[0m \u001b[0;34m{\u001b[0m\u001b[0;34m\"variables\"\u001b[0m\u001b[0;34m:\u001b[0m \u001b[0mvariables\u001b[0m\u001b[0;34m,\u001b[0m \u001b[0;34m\"device\"\u001b[0m\u001b[0;34m:\u001b[0m \u001b[0mdevice\u001b[0m\u001b[0;34m,\u001b[0m \u001b[0;34m\"noise\"\u001b[0m\u001b[0;34m:\u001b[0m \u001b[0mnoise\u001b[0m\u001b[0;34m,\u001b[0m \u001b[0;34m**\u001b[0m\u001b[0mkwargs\u001b[0m\u001b[0;34m}\u001b[0m\u001b[0;34m\u001b[0m\u001b[0;34m\u001b[0m\u001b[0m\n\u001b[1;32m    748\u001b[0m         \u001b[0mself\u001b[0m\u001b[0;34m.\u001b[0m\u001b[0m_U\u001b[0m \u001b[0;34m=\u001b[0m \u001b[0mself\u001b[0m\u001b[0;34m.\u001b[0m\u001b[0minitialize_unitary\u001b[0m\u001b[0;34m(\u001b[0m\u001b[0mE\u001b[0m\u001b[0;34m.\u001b[0m\u001b[0mU\u001b[0m\u001b[0;34m,\u001b[0m \u001b[0mvariables\u001b[0m\u001b[0;34m=\u001b[0m\u001b[0mvariables\u001b[0m\u001b[0;34m,\u001b[0m \u001b[0mnoise\u001b[0m\u001b[0;34m=\u001b[0m\u001b[0mnoise\u001b[0m\u001b[0;34m,\u001b[0m \u001b[0mdevice\u001b[0m\u001b[0;34m=\u001b[0m\u001b[0mdevice\u001b[0m\u001b[0;34m,\u001b[0m \u001b[0;34m**\u001b[0m\u001b[0mkwargs\u001b[0m\u001b[0;34m)\u001b[0m\u001b[0;34m\u001b[0m\u001b[0;34m\u001b[0m\u001b[0m\n\u001b[0;32m--> 749\u001b[0;31m         \u001b[0mself\u001b[0m\u001b[0;34m.\u001b[0m\u001b[0m_reduced_hamiltonians\u001b[0m \u001b[0;34m=\u001b[0m \u001b[0mself\u001b[0m\u001b[0;34m.\u001b[0m\u001b[0mreduce_hamiltonians\u001b[0m\u001b[0;34m(\u001b[0m\u001b[0mself\u001b[0m\u001b[0;34m.\u001b[0m\u001b[0mabstract_expectationvalue\u001b[0m\u001b[0;34m.\u001b[0m\u001b[0mH\u001b[0m\u001b[0;34m)\u001b[0m\u001b[0;34m\u001b[0m\u001b[0;34m\u001b[0m\u001b[0m\n\u001b[0m\u001b[1;32m    750\u001b[0m         \u001b[0mself\u001b[0m\u001b[0;34m.\u001b[0m\u001b[0m_H\u001b[0m \u001b[0;34m=\u001b[0m \u001b[0mself\u001b[0m\u001b[0;34m.\u001b[0m\u001b[0minitialize_hamiltonian\u001b[0m\u001b[0;34m(\u001b[0m\u001b[0mself\u001b[0m\u001b[0;34m.\u001b[0m\u001b[0m_reduced_hamiltonians\u001b[0m\u001b[0;34m)\u001b[0m\u001b[0;34m\u001b[0m\u001b[0;34m\u001b[0m\u001b[0m\n\u001b[1;32m    751\u001b[0m \u001b[0;34m\u001b[0m\u001b[0m\n",
      "\u001b[0;32m~/Documents/CDL_application/Cohort/CohortProject_2021/Week3_VQE/tequila/src/tequila/simulators/simulator_base.py\u001b[0m in \u001b[0;36mreduce_hamiltonians\u001b[0;34m(self, abstract_hamiltonians)\u001b[0m\n\u001b[1;32m    801\u001b[0m         \u001b[0mreduced\u001b[0m \u001b[0;34m=\u001b[0m \u001b[0;34m[\u001b[0m\u001b[0;34m]\u001b[0m\u001b[0;34m\u001b[0m\u001b[0;34m\u001b[0m\u001b[0m\n\u001b[1;32m    802\u001b[0m         \u001b[0;32mfor\u001b[0m \u001b[0mH\u001b[0m \u001b[0;32min\u001b[0m \u001b[0mabstract_hamiltonians\u001b[0m\u001b[0;34m:\u001b[0m\u001b[0;34m\u001b[0m\u001b[0;34m\u001b[0m\u001b[0m\n\u001b[0;32m--> 803\u001b[0;31m             \u001b[0mabstract_qubits_of_h\u001b[0m \u001b[0;34m=\u001b[0m \u001b[0mH\u001b[0m\u001b[0;34m.\u001b[0m\u001b[0mqubits\u001b[0m\u001b[0;34m\u001b[0m\u001b[0;34m\u001b[0m\u001b[0m\n\u001b[0m\u001b[1;32m    804\u001b[0m             \u001b[0mnot_in_u\u001b[0m \u001b[0;34m=\u001b[0m \u001b[0;34m[\u001b[0m\u001b[0mq\u001b[0m \u001b[0;32mfor\u001b[0m \u001b[0mq\u001b[0m \u001b[0;32min\u001b[0m \u001b[0mabstract_qubits_of_h\u001b[0m \u001b[0;32mif\u001b[0m \u001b[0mq\u001b[0m \u001b[0;32mnot\u001b[0m \u001b[0;32min\u001b[0m \u001b[0mabstract_qubits_of_u\u001b[0m\u001b[0;34m]\u001b[0m\u001b[0;34m\u001b[0m\u001b[0;34m\u001b[0m\u001b[0m\n\u001b[1;32m    805\u001b[0m             \u001b[0mreduced\u001b[0m\u001b[0;34m.\u001b[0m\u001b[0mappend\u001b[0m\u001b[0;34m(\u001b[0m\u001b[0mH\u001b[0m\u001b[0;34m.\u001b[0m\u001b[0mtrace_out_qubits\u001b[0m\u001b[0;34m(\u001b[0m\u001b[0mqubits\u001b[0m\u001b[0;34m=\u001b[0m\u001b[0mnot_in_u\u001b[0m\u001b[0;34m)\u001b[0m\u001b[0;34m)\u001b[0m\u001b[0;34m\u001b[0m\u001b[0;34m\u001b[0m\u001b[0m\n",
      "\u001b[0;31mAttributeError\u001b[0m: 'QubitOperator' object has no attribute 'qubits'"
     ]
    }
   ],
   "source": [
    "expA = tq.ExpectationValue(H=allzA, U=U)\n",
    "vars = {'beta_1': 3.141592624143881, 'beta_0': 3.141592624143881, 'tau_0': 1.1331410014096885, 'gamma_1': 0.0, 'beta_3': 0.0, 'gamma_3': 0.0, 'gamma_2': 0.0, 'gamma_0': 0.0, 'beta_2': 0.0} # values obtained from step 3\n",
    "print(tq.simulate(expA, variables=vars))"
   ]
  },
  {
   "cell_type": "code",
   "execution_count": 9,
   "id": "315a3115",
   "metadata": {},
   "outputs": [
    {
     "name": "stdout",
     "output_type": "stream",
     "text": [
      "circuit: \n",
      "Rx(target=(0,), parameter=beta_0)\n",
      "Rz(target=(0,), parameter=gamma_0)\n",
      "Rx(target=(1,), parameter=beta_1)\n",
      "Rz(target=(1,), parameter=gamma_1)\n",
      "Rx(target=(2,), parameter=beta_2)\n",
      "Rz(target=(2,), parameter=gamma_2)\n",
      "Rx(target=(3,), parameter=beta_3)\n",
      "Rz(target=(3,), parameter=gamma_3)\n",
      "Exp-Pauli(target=(0, 1, 2, 3), control=(), parameter=tau_0, paulistring=X(0)Y(1)X(2)X(3))\n",
      "\n"
     ]
    }
   ],
   "source": [
    "a = tq.Variable(\"tau_0\")\n",
    "U = construct_QMF_ansatz(4)\n",
    "U += tq.gates.ExpPauli(paulistring=tq.PauliString.from_string(\"X(0)Y(1)X(2)X(3)\"), angle=a)\n",
    "print(U)"
   ]
  },
  {
   "cell_type": "code",
   "execution_count": 21,
   "id": "dae48e48",
   "metadata": {},
   "outputs": [],
   "source": [
    "H = tq.QubitHamiltonian.from_openfermion(get_qubit_hamiltonian('h2', 2, 'sto-3g', qubit_transf='jw'))"
   ]
  },
  {
   "cell_type": "code",
   "execution_count": 22,
   "id": "0e2678ca",
   "metadata": {},
   "outputs": [
    {
     "name": "stdout",
     "output_type": "stream",
     "text": [
      "-0.5339+0.0673Z(0)+0.0673Z(1)+0.0067Z(2)+0.0067Z(3)+0.1274Z(0)Z(1)+0.0648Y(0)X(1)X(2)Y(3)-0.0648Y(0)Y(1)X(2)X(3)-0.0648X(0)X(1)Y(2)Y(3)+0.0648X(0)Y(1)Y(2)X(3)+0.0650Z(0)Z(2)+0.1298Z(0)Z(3)+0.1298Z(1)Z(2)+0.0650Z(1)Z(3)+0.1337Z(2)Z(3)\n"
     ]
    }
   ],
   "source": [
    "print(H)"
   ]
  },
  {
   "cell_type": "code",
   "execution_count": 78,
   "id": "910755e6",
   "metadata": {},
   "outputs": [
    {
     "name": "stdout",
     "output_type": "stream",
     "text": [
      "Objective with 1 unique expectation values\n",
      "total measurements = 15\n",
      "variables          = 9\n",
      "types              = not compiled\n"
     ]
    }
   ],
   "source": [
    "ExpH=tq.ExpectationValue(H=H, U=U)\n",
    "print(ExpH)"
   ]
  },
  {
   "cell_type": "code",
   "execution_count": 79,
   "id": "7c7bb8bb",
   "metadata": {},
   "outputs": [
    {
     "ename": "TypeError",
     "evalue": "'builtin_function_or_method' object is not iterable",
     "output_type": "error",
     "traceback": [
      "\u001b[0;31m---------------------------------------------------------------------------\u001b[0m",
      "\u001b[0;31mTypeError\u001b[0m                                 Traceback (most recent call last)",
      "\u001b[0;32m<ipython-input-79-3d4f6d797a52>\u001b[0m in \u001b[0;36m<module>\u001b[0;34m\u001b[0m\n\u001b[0;32m----> 1\u001b[0;31m \u001b[0mprint\u001b[0m\u001b[0;34m(\u001b[0m\u001b[0mtq\u001b[0m\u001b[0;34m.\u001b[0m\u001b[0msimulate\u001b[0m\u001b[0;34m(\u001b[0m\u001b[0mH\u001b[0m\u001b[0;34m,\u001b[0m\u001b[0mvariables\u001b[0m \u001b[0;34m=\u001b[0m \u001b[0mvars\u001b[0m\u001b[0;34m)\u001b[0m\u001b[0;34m)\u001b[0m\u001b[0;34m\u001b[0m\u001b[0;34m\u001b[0m\u001b[0m\n\u001b[0m",
      "\u001b[0;32m~/Documents/CDL_application/Cohort/CohortProject_2021/Week3_VQE/tequila/src/tequila/simulators/simulator_api.py\u001b[0m in \u001b[0;36msimulate\u001b[0;34m(objective, variables, samples, backend, noise, device, *args, **kwargs)\u001b[0m\n\u001b[1;32m    392\u001b[0m     \"\"\"\n\u001b[1;32m    393\u001b[0m \u001b[0;34m\u001b[0m\u001b[0m\n\u001b[0;32m--> 394\u001b[0;31m     \u001b[0mvariables\u001b[0m \u001b[0;34m=\u001b[0m \u001b[0mformat_variable_dictionary\u001b[0m\u001b[0;34m(\u001b[0m\u001b[0mvariables\u001b[0m\u001b[0;34m)\u001b[0m\u001b[0;34m\u001b[0m\u001b[0;34m\u001b[0m\u001b[0m\n\u001b[0m\u001b[1;32m    395\u001b[0m \u001b[0;34m\u001b[0m\u001b[0m\n\u001b[1;32m    396\u001b[0m     \u001b[0;32mif\u001b[0m \u001b[0mvariables\u001b[0m \u001b[0;32mis\u001b[0m \u001b[0;32mNone\u001b[0m \u001b[0;32mand\u001b[0m \u001b[0;32mnot\u001b[0m \u001b[0;34m(\u001b[0m\u001b[0mlen\u001b[0m\u001b[0;34m(\u001b[0m\u001b[0mobjective\u001b[0m\u001b[0;34m.\u001b[0m\u001b[0mextract_variables\u001b[0m\u001b[0;34m(\u001b[0m\u001b[0;34m)\u001b[0m\u001b[0;34m)\u001b[0m \u001b[0;34m==\u001b[0m \u001b[0;36m0\u001b[0m\u001b[0;34m)\u001b[0m\u001b[0;34m:\u001b[0m\u001b[0;34m\u001b[0m\u001b[0;34m\u001b[0m\u001b[0m\n",
      "\u001b[0;32m~/Documents/CDL_application/Cohort/CohortProject_2021/Week3_VQE/tequila/src/tequila/objective/objective.py\u001b[0m in \u001b[0;36mformat_variable_dictionary\u001b[0;34m(variables)\u001b[0m\n\u001b[1;32m   1609\u001b[0m         \u001b[0;32mreturn\u001b[0m \u001b[0mvariables\u001b[0m\u001b[0;34m\u001b[0m\u001b[0;34m\u001b[0m\u001b[0m\n\u001b[1;32m   1610\u001b[0m     \u001b[0;32melse\u001b[0m\u001b[0;34m:\u001b[0m\u001b[0;34m\u001b[0m\u001b[0;34m\u001b[0m\u001b[0m\n\u001b[0;32m-> 1611\u001b[0;31m         \u001b[0;32mreturn\u001b[0m \u001b[0mVariables\u001b[0m\u001b[0;34m(\u001b[0m\u001b[0mvariables\u001b[0m\u001b[0;34m)\u001b[0m\u001b[0;34m\u001b[0m\u001b[0;34m\u001b[0m\u001b[0m\n\u001b[0m\u001b[1;32m   1612\u001b[0m \u001b[0;34m\u001b[0m\u001b[0m\n\u001b[1;32m   1613\u001b[0m \u001b[0;34m\u001b[0m\u001b[0m\n",
      "\u001b[0;32m~/Documents/CDL_application/Cohort/CohortProject_2021/Week3_VQE/tequila/src/tequila/objective/objective.py\u001b[0m in \u001b[0;36m__init__\u001b[0;34m(self, *args, **kwargs)\u001b[0m\n\u001b[1;32m   1669\u001b[0m     \u001b[0;32mdef\u001b[0m \u001b[0m__init__\u001b[0m\u001b[0;34m(\u001b[0m\u001b[0mself\u001b[0m\u001b[0;34m,\u001b[0m \u001b[0;34m*\u001b[0m\u001b[0margs\u001b[0m\u001b[0;34m,\u001b[0m \u001b[0;34m**\u001b[0m\u001b[0mkwargs\u001b[0m\u001b[0;34m)\u001b[0m\u001b[0;34m:\u001b[0m\u001b[0;34m\u001b[0m\u001b[0;34m\u001b[0m\u001b[0m\n\u001b[1;32m   1670\u001b[0m         \u001b[0mself\u001b[0m\u001b[0;34m.\u001b[0m\u001b[0mstore\u001b[0m \u001b[0;34m=\u001b[0m \u001b[0mdict\u001b[0m\u001b[0;34m(\u001b[0m\u001b[0;34m)\u001b[0m\u001b[0;34m\u001b[0m\u001b[0;34m\u001b[0m\u001b[0m\n\u001b[0;32m-> 1671\u001b[0;31m         \u001b[0mself\u001b[0m\u001b[0;34m.\u001b[0m\u001b[0mupdate\u001b[0m\u001b[0;34m(\u001b[0m\u001b[0mdict\u001b[0m\u001b[0;34m(\u001b[0m\u001b[0;34m*\u001b[0m\u001b[0margs\u001b[0m\u001b[0;34m,\u001b[0m \u001b[0;34m**\u001b[0m\u001b[0mkwargs\u001b[0m\u001b[0;34m)\u001b[0m\u001b[0;34m)\u001b[0m\u001b[0;34m\u001b[0m\u001b[0;34m\u001b[0m\u001b[0m\n\u001b[0m\u001b[1;32m   1672\u001b[0m \u001b[0;34m\u001b[0m\u001b[0m\n\u001b[1;32m   1673\u001b[0m     \u001b[0;32mdef\u001b[0m \u001b[0m__getitem__\u001b[0m\u001b[0;34m(\u001b[0m\u001b[0mself\u001b[0m\u001b[0;34m,\u001b[0m \u001b[0mkey\u001b[0m\u001b[0;34m)\u001b[0m\u001b[0;34m:\u001b[0m\u001b[0;34m\u001b[0m\u001b[0;34m\u001b[0m\u001b[0m\n",
      "\u001b[0;31mTypeError\u001b[0m: 'builtin_function_or_method' object is not iterable"
     ]
    }
   ],
   "source": [
    "print(tq.simulate(H,variables = vars))"
   ]
  },
  {
   "cell_type": "code",
   "execution_count": 10,
   "id": "a3d02fe4",
   "metadata": {},
   "outputs": [
    {
     "name": "stdout",
     "output_type": "stream",
     "text": [
      "-0.5000Z(0)-0.5000Z(0)Z(1)-0.5000Z(2)-0.5000Z(1)Z(2)Z(3)+2.0000\n"
     ]
    }
   ],
   "source": [
    "Z0=tq.paulis.Z(0)\n",
    "Z1=tq.paulis.Z(1)\n",
    "Z2=tq.paulis.Z(2)\n",
    "Z3=tq.paulis.Z(3)\n",
    "Nop=2-0.5*(Z0 +Z1*Z0+Z2+Z3*Z2*Z1)\n",
    "print(Nop)"
   ]
  },
  {
   "cell_type": "code",
   "execution_count": 11,
   "id": "3f92108c",
   "metadata": {},
   "outputs": [
    {
     "name": "stdout",
     "output_type": "stream",
     "text": [
      "Objective with 1 unique expectation values\n",
      "total measurements = 1\n",
      "variables          = 9\n",
      "types              = not compiled\n"
     ]
    }
   ],
   "source": [
    "Ne=tq.ExpectationValue(H=Nop,U=U)\n",
    "print(Ne)"
   ]
  },
  {
   "cell_type": "code",
   "execution_count": 12,
   "id": "3fc6681d",
   "metadata": {},
   "outputs": [
    {
     "ename": "TypeError",
     "evalue": "'builtin_function_or_method' object is not iterable",
     "output_type": "error",
     "traceback": [
      "\u001b[0;31m---------------------------------------------------------------------------\u001b[0m",
      "\u001b[0;31mTypeError\u001b[0m                                 Traceback (most recent call last)",
      "\u001b[0;32m<ipython-input-12-07415d0a5e12>\u001b[0m in \u001b[0;36m<module>\u001b[0;34m\u001b[0m\n\u001b[0;32m----> 1\u001b[0;31m \u001b[0mprint\u001b[0m\u001b[0;34m(\u001b[0m\u001b[0mtq\u001b[0m\u001b[0;34m.\u001b[0m\u001b[0msimulate\u001b[0m\u001b[0;34m(\u001b[0m\u001b[0mNe\u001b[0m\u001b[0;34m,\u001b[0m\u001b[0mvariables\u001b[0m \u001b[0;34m=\u001b[0m \u001b[0mvars\u001b[0m\u001b[0;34m)\u001b[0m\u001b[0;34m)\u001b[0m\u001b[0;34m\u001b[0m\u001b[0;34m\u001b[0m\u001b[0m\n\u001b[0m",
      "\u001b[0;32m~/Documents/CDL_application/Cohort/CohortProject_2021/Week3_VQE/tequila/src/tequila/simulators/simulator_api.py\u001b[0m in \u001b[0;36msimulate\u001b[0;34m(objective, variables, samples, backend, noise, device, *args, **kwargs)\u001b[0m\n\u001b[1;32m    392\u001b[0m     \"\"\"\n\u001b[1;32m    393\u001b[0m \u001b[0;34m\u001b[0m\u001b[0m\n\u001b[0;32m--> 394\u001b[0;31m     \u001b[0mvariables\u001b[0m \u001b[0;34m=\u001b[0m \u001b[0mformat_variable_dictionary\u001b[0m\u001b[0;34m(\u001b[0m\u001b[0mvariables\u001b[0m\u001b[0;34m)\u001b[0m\u001b[0;34m\u001b[0m\u001b[0;34m\u001b[0m\u001b[0m\n\u001b[0m\u001b[1;32m    395\u001b[0m \u001b[0;34m\u001b[0m\u001b[0m\n\u001b[1;32m    396\u001b[0m     \u001b[0;32mif\u001b[0m \u001b[0mvariables\u001b[0m \u001b[0;32mis\u001b[0m \u001b[0;32mNone\u001b[0m \u001b[0;32mand\u001b[0m \u001b[0;32mnot\u001b[0m \u001b[0;34m(\u001b[0m\u001b[0mlen\u001b[0m\u001b[0;34m(\u001b[0m\u001b[0mobjective\u001b[0m\u001b[0;34m.\u001b[0m\u001b[0mextract_variables\u001b[0m\u001b[0;34m(\u001b[0m\u001b[0;34m)\u001b[0m\u001b[0;34m)\u001b[0m \u001b[0;34m==\u001b[0m \u001b[0;36m0\u001b[0m\u001b[0;34m)\u001b[0m\u001b[0;34m:\u001b[0m\u001b[0;34m\u001b[0m\u001b[0;34m\u001b[0m\u001b[0m\n",
      "\u001b[0;32m~/Documents/CDL_application/Cohort/CohortProject_2021/Week3_VQE/tequila/src/tequila/objective/objective.py\u001b[0m in \u001b[0;36mformat_variable_dictionary\u001b[0;34m(variables)\u001b[0m\n\u001b[1;32m   1609\u001b[0m         \u001b[0;32mreturn\u001b[0m \u001b[0mvariables\u001b[0m\u001b[0;34m\u001b[0m\u001b[0;34m\u001b[0m\u001b[0m\n\u001b[1;32m   1610\u001b[0m     \u001b[0;32melse\u001b[0m\u001b[0;34m:\u001b[0m\u001b[0;34m\u001b[0m\u001b[0;34m\u001b[0m\u001b[0m\n\u001b[0;32m-> 1611\u001b[0;31m         \u001b[0;32mreturn\u001b[0m \u001b[0mVariables\u001b[0m\u001b[0;34m(\u001b[0m\u001b[0mvariables\u001b[0m\u001b[0;34m)\u001b[0m\u001b[0;34m\u001b[0m\u001b[0;34m\u001b[0m\u001b[0m\n\u001b[0m\u001b[1;32m   1612\u001b[0m \u001b[0;34m\u001b[0m\u001b[0m\n\u001b[1;32m   1613\u001b[0m \u001b[0;34m\u001b[0m\u001b[0m\n",
      "\u001b[0;32m~/Documents/CDL_application/Cohort/CohortProject_2021/Week3_VQE/tequila/src/tequila/objective/objective.py\u001b[0m in \u001b[0;36m__init__\u001b[0;34m(self, *args, **kwargs)\u001b[0m\n\u001b[1;32m   1669\u001b[0m     \u001b[0;32mdef\u001b[0m \u001b[0m__init__\u001b[0m\u001b[0;34m(\u001b[0m\u001b[0mself\u001b[0m\u001b[0;34m,\u001b[0m \u001b[0;34m*\u001b[0m\u001b[0margs\u001b[0m\u001b[0;34m,\u001b[0m \u001b[0;34m**\u001b[0m\u001b[0mkwargs\u001b[0m\u001b[0;34m)\u001b[0m\u001b[0;34m:\u001b[0m\u001b[0;34m\u001b[0m\u001b[0;34m\u001b[0m\u001b[0m\n\u001b[1;32m   1670\u001b[0m         \u001b[0mself\u001b[0m\u001b[0;34m.\u001b[0m\u001b[0mstore\u001b[0m \u001b[0;34m=\u001b[0m \u001b[0mdict\u001b[0m\u001b[0;34m(\u001b[0m\u001b[0;34m)\u001b[0m\u001b[0;34m\u001b[0m\u001b[0;34m\u001b[0m\u001b[0m\n\u001b[0;32m-> 1671\u001b[0;31m         \u001b[0mself\u001b[0m\u001b[0;34m.\u001b[0m\u001b[0mupdate\u001b[0m\u001b[0;34m(\u001b[0m\u001b[0mdict\u001b[0m\u001b[0;34m(\u001b[0m\u001b[0;34m*\u001b[0m\u001b[0margs\u001b[0m\u001b[0;34m,\u001b[0m \u001b[0;34m**\u001b[0m\u001b[0mkwargs\u001b[0m\u001b[0;34m)\u001b[0m\u001b[0;34m)\u001b[0m\u001b[0;34m\u001b[0m\u001b[0;34m\u001b[0m\u001b[0m\n\u001b[0m\u001b[1;32m   1672\u001b[0m \u001b[0;34m\u001b[0m\u001b[0m\n\u001b[1;32m   1673\u001b[0m     \u001b[0;32mdef\u001b[0m \u001b[0m__getitem__\u001b[0m\u001b[0;34m(\u001b[0m\u001b[0mself\u001b[0m\u001b[0;34m,\u001b[0m \u001b[0mkey\u001b[0m\u001b[0;34m)\u001b[0m\u001b[0;34m:\u001b[0m\u001b[0;34m\u001b[0m\u001b[0;34m\u001b[0m\u001b[0m\n",
      "\u001b[0;31mTypeError\u001b[0m: 'builtin_function_or_method' object is not iterable"
     ]
    }
   ],
   "source": [
    "print(tq.simulate(Ne,variables = vars))"
   ]
  },
  {
   "cell_type": "code",
   "execution_count": 52,
   "id": "0488ea18",
   "metadata": {},
   "outputs": [
    {
     "name": "stdout",
     "output_type": "stream",
     "text": [
      " |00 > \n",
      "+0.2500+0.2500Z(1)+0.2500Z(0)+0.2500Z(0)Z(1)\n"
     ]
    }
   ],
   "source": [
    "# define the |00 > <00| qubit projector\n",
    "P0 = tq . paulis . Projector ( \" |00 > \" )\n",
    "print(\" |00 > \" )\n",
    "print(P0)"
   ]
  },
  {
   "cell_type": "code",
   "execution_count": 66,
   "id": "005c6208",
   "metadata": {},
   "outputs": [
    {
     "name": "stdout",
     "output_type": "stream",
     "text": [
      "+0.0000i\n"
     ]
    },
    {
     "ename": "NameError",
     "evalue": "name 'rows' is not defined",
     "output_type": "error",
     "traceback": [
      "\u001b[0;31m---------------------------------------------------------------------------\u001b[0m",
      "\u001b[0;31mNameError\u001b[0m                                 Traceback (most recent call last)",
      "\u001b[0;32m<ipython-input-66-8083abba6f16>\u001b[0m in \u001b[0;36m<module>\u001b[0;34m\u001b[0m\n\u001b[1;32m      1\u001b[0m \u001b[0mH\u001b[0m \u001b[0;34m=\u001b[0m \u001b[0mtq\u001b[0m\u001b[0;34m.\u001b[0m\u001b[0mpaulis\u001b[0m\u001b[0;34m.\u001b[0m\u001b[0mZero\u001b[0m\u001b[0;34m(\u001b[0m\u001b[0;34m)\u001b[0m\u001b[0;34m\u001b[0m\u001b[0;34m\u001b[0m\u001b[0m\n\u001b[1;32m      2\u001b[0m \u001b[0mprint\u001b[0m\u001b[0;34m(\u001b[0m\u001b[0mH\u001b[0m\u001b[0;34m)\u001b[0m\u001b[0;34m\u001b[0m\u001b[0;34m\u001b[0m\u001b[0m\n\u001b[0;32m----> 3\u001b[0;31m \u001b[0;32mfor\u001b[0m \u001b[0mi\u001b[0m \u001b[0;32min\u001b[0m \u001b[0mrows\u001b[0m\u001b[0;34m:\u001b[0m\u001b[0;34m\u001b[0m\u001b[0;34m\u001b[0m\u001b[0m\n\u001b[0m\u001b[1;32m      4\u001b[0m     \u001b[0;32mfor\u001b[0m \u001b[0mj\u001b[0m \u001b[0;32min\u001b[0m \u001b[0mcolumns\u001b[0m\u001b[0;34m:\u001b[0m\u001b[0;34m\u001b[0m\u001b[0;34m\u001b[0m\u001b[0m\n\u001b[1;32m      5\u001b[0m         \u001b[0mH\u001b[0m \u001b[0;34m+=\u001b[0m \u001b[0mmatrix\u001b[0m \u001b[0;34m[\u001b[0m\u001b[0mi\u001b[0m \u001b[0;34m,\u001b[0m \u001b[0mj\u001b[0m \u001b[0;34m]\u001b[0m\u001b[0;34m*\u001b[0m \u001b[0mtq\u001b[0m\u001b[0;34m.\u001b[0m\u001b[0mpaulis\u001b[0m\u001b[0;34m.\u001b[0m\u001b[0mKetBra\u001b[0m\u001b[0;34m(\u001b[0m\u001b[0mket\u001b[0m \u001b[0;34m=\u001b[0m\u001b[0mi\u001b[0m\u001b[0;34m,\u001b[0m\u001b[0mbra\u001b[0m \u001b[0;34m=\u001b[0m\u001b[0mj\u001b[0m\u001b[0;34m,\u001b[0m \u001b[0mn_qubits\u001b[0m \u001b[0;34m=\u001b[0m \u001b[0;36m4\u001b[0m \u001b[0;34m)\u001b[0m\u001b[0;34m\u001b[0m\u001b[0;34m\u001b[0m\u001b[0m\n",
      "\u001b[0;31mNameError\u001b[0m: name 'rows' is not defined"
     ]
    }
   ],
   "source": [
    "H = tq.paulis.Zero()\n",
    "print(H)\n",
    "for i in rows:\n",
    "    for j in columns:\n",
    "        H += matrix [i , j ]* tq.paulis.KetBra(ket =i,bra =j, n_qubits = 4 )"
   ]
  },
  {
   "cell_type": "code",
   "execution_count": null,
   "id": "94191935",
   "metadata": {},
   "outputs": [],
   "source": [
    "# Pauli matrices\n",
    "X = np.array([[0.,  1.], [1.,  0.]])\n",
    "Y = np.array([[0., -1j], [1j,  0.]])\n",
    "Z = np.array([[1.,  0.], [0., -1.]])\n",
    "I = np.array([[1.,  0.], [0., 1.]])"
   ]
  },
  {
   "cell_type": "code",
   "execution_count": null,
   "id": "9be8f0f1",
   "metadata": {},
   "outputs": [],
   "source": [
    "np.kron(Y,I)"
   ]
  },
  {
   "cell_type": "code",
   "execution_count": null,
   "id": "c42d731f",
   "metadata": {},
   "outputs": [],
   "source": [
    "# Building the matrix representation of the effective Hamiltonian\n",
    "I, X, Z = np.identity(2), np.array([[0, 1], [1, 0]]), np.array([[1, 0], [0, -1]])\n",
    "h2_matrix = -0.53105134 * I + 0.19679058 * X - 0.53505729 * Z# Obtain the eigenvalues\n",
    "eigvals, _ = np.linalg.eigh(h2_matrix)\n",
    "print(\"\\nThe eigenvalues in the effective Hamiltonian: \\n {}\".format(eigvals))"
   ]
  }
 ],
 "metadata": {
  "kernelspec": {
   "display_name": "Python 3",
   "language": "python",
   "name": "python3"
  },
  "language_info": {
   "codemirror_mode": {
    "name": "ipython",
    "version": 3
   },
   "file_extension": ".py",
   "mimetype": "text/x-python",
   "name": "python",
   "nbconvert_exporter": "python",
   "pygments_lexer": "ipython3",
   "version": "3.9.5"
  }
 },
 "nbformat": 4,
 "nbformat_minor": 5
}
