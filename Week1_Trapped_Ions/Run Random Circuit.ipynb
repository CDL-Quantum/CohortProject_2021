{
 "cells": [
  {
   "cell_type": "code",
   "execution_count": null,
   "id": "47c1d3f6",
   "metadata": {},
   "outputs": [],
   "source": [
    "using Pkg\n",
    "Pkg.build(\"HDF5\")"
   ]
  },
  {
   "cell_type": "code",
   "execution_count": null,
   "id": "73d7e795",
   "metadata": {},
   "outputs": [],
   "source": [
    "Pkg.add(\"ITensors\")"
   ]
  },
  {
   "cell_type": "code",
   "execution_count": null,
   "id": "63de31df",
   "metadata": {},
   "outputs": [],
   "source": [
    "using PastaQ\n",
    "using Sockets\n",
    "using ITensors"
   ]
  },
  {
   "cell_type": "code",
   "execution_count": null,
   "id": "efbe6a8c",
   "metadata": {},
   "outputs": [],
   "source": [
    "function PastaQ.gate(::GateName\"R\"; theta::Real, phi::Real)\n",
    "    [\n",
    "        cos(theta/2)    (-im * exp(-im * phi) * sin(theta/2))\n",
    "        (-im * exp(im * phi) * sin(theta/2))     cos(theta/2)\n",
    "    ]\n",
    "end"
   ]
  },
  {
   "cell_type": "code",
   "execution_count": null,
   "id": "f9df6eff",
   "metadata": {},
   "outputs": [],
   "source": []
  },
  {
   "cell_type": "code",
   "execution_count": null,
   "id": "cc6523e1",
   "metadata": {},
   "outputs": [],
   "source": [
    "N=1;\n",
    "one_qubit_layer = Tuple[]\n",
    "for j in 1:N\n",
    "    gate = (\"R\", j, (theta=2pi*rand(), phi=2pi*rand()))\n",
    "    push!(one_qubit_layer, gate)\n",
    "end\n",
    "gate"
   ]
  },
  {
   "cell_type": "code",
   "execution_count": null,
   "id": "9255ec6b",
   "metadata": {},
   "outputs": [],
   "source": [
    "function PastaQ.gate(::GateName\"M\"; Theta::Real)\n",
    "    [\n",
    "        cos(Theta)    0    0    (-im * sin(Theta))\n",
    "        0    cos(Theta)    (-im * sin(Theta))    0\n",
    "        0    (-im * sin(Theta))    cos(Theta)    0\n",
    "        (-im * sin(Theta))    0    0    cos(Theta)\n",
    "    ]\n",
    "end"
   ]
  },
  {
   "cell_type": "code",
   "execution_count": null,
   "id": "e21b146a",
   "metadata": {},
   "outputs": [],
   "source": [
    "function run(N, depth, nshot)\n",
    "    # Random circuit.\n",
    "    gates = Vector{Tuple}[]\n",
    "\n",
    "    for i in 1:depth\n",
    "        one_qubit_layer = Tuple[]\n",
    "        two_qubit_layer = Tuple[]\n",
    "\n",
    "        for j in 1:N\n",
    "            gate = (\"R\", j, (theta=2pi*rand(), phi=2pi*rand()))\n",
    "            push!(one_qubit_layer, gate)\n",
    "        end\n",
    "\n",
    "        # Alternate start qubit for pairs.\n",
    "        idx_first = i % 2 + 1\n",
    "\n",
    "        for j in idx_first:2:(N-1)\n",
    "            gate = (\"M\", (j, j+1), (Theta=2pi*rand(),))\n",
    "            push!(two_qubit_layer, gate)\n",
    "        end\n",
    "\n",
    "        push!(gates, one_qubit_layer)\n",
    "        push!(gates, two_qubit_layer)\n",
    "    end\n",
    "\n",
    "    #psi = runcircuit(N, gates)\n",
    "    data, psi = getsamples(N, gates, nshots,local_basis = [\"Z\"])\n",
    "    \n",
    "end\n"
   ]
  },
  {
   "cell_type": "code",
   "execution_count": 30,
   "id": "2cb57467",
   "metadata": {},
   "outputs": [
    {
     "data": {
      "text/plain": [
       "1"
      ]
     },
     "execution_count": 30,
     "metadata": {},
     "output_type": "execute_result"
    }
   ],
   "source": [
    "2% 2 + 1"
   ]
  },
  {
   "cell_type": "code",
   "execution_count": 34,
   "id": "49fbe7fd",
   "metadata": {},
   "outputs": [
    {
     "data": {
      "text/plain": [
       "4-element Vector{Vector{Tuple}}:\n",
       " [(\"R\", 1, (theta = 5.911718972950587, phi = 1.5174000035352968)), (\"R\", 2, (theta = 5.473937151929069, phi = 1.254731953436359))]\n",
       " []\n",
       " [(\"R\", 1, (theta = 5.979008133035394, phi = 4.849191695115465)), (\"R\", 2, (theta = 2.9605792237329314, phi = 2.6423107604779537))]\n",
       " [(\"M\", (1, 2), (Theta = 3.1035868756704277,))]"
      ]
     },
     "execution_count": 34,
     "metadata": {},
     "output_type": "execute_result"
    }
   ],
   "source": [
    "function run(N, depth)\n",
    "    # Random circuit.\n",
    "    gates = Vector{Tuple}[]\n",
    "\n",
    "    for i in 1:depth\n",
    "        one_qubit_layer = Tuple[]\n",
    "        two_qubit_layer = Tuple[]\n",
    "\n",
    "        for j in 1:N\n",
    "            gate = (\"R\", j, (theta=2pi*rand(), phi=2pi*rand()))\n",
    "            push!(one_qubit_layer, gate)\n",
    "        end\n",
    "\n",
    "        # Alternate start qubit for pairs.\n",
    "        idx_first = i % 2 + 1\n",
    "\n",
    "        for j in idx_first:2:(N-1)\n",
    "            gate = (\"M\", (j, j+1), (Theta=2pi*rand(),))\n",
    "            push!(two_qubit_layer, gate)\n",
    "        end\n",
    "\n",
    "        push!(gates, one_qubit_layer)\n",
    "        push!(gates, two_qubit_layer)\n",
    "    end\n",
    "\n",
    "    #psi = runcircuit(N, gates)\n",
    "    gates\n",
    "    \n",
    "end\n",
    "run(2, 2)"
   ]
  },
  {
   "cell_type": "code",
   "execution_count": 31,
   "id": "2775fa1c",
   "metadata": {},
   "outputs": [
    {
     "data": {
      "text/plain": [
       "2"
      ]
     },
     "execution_count": 31,
     "metadata": {},
     "output_type": "execute_result"
    }
   ],
   "source": [
    "1 % 2 + 1"
   ]
  },
  {
   "cell_type": "code",
   "execution_count": null,
   "id": "1b8c9ac2",
   "metadata": {},
   "outputs": [],
   "source": [
    "nshots=100\n",
    "N=20;\n",
    "depth=5;\n",
    "data,ρ= run(N, depth,nshots);"
   ]
  },
  {
   "cell_type": "code",
   "execution_count": null,
   "id": "257f04c9",
   "metadata": {},
   "outputs": [],
   "source": [
    "function proj(j,size)\n",
    "    a=[data[i][2] for i=(j-1)*size+1:(j)*size]\n",
    "    a1=count(i->(i==1),a)/size\n",
    "    a1\n",
    "end\n",
    "Mdata=[proj(i,nshots) for i=1:20] "
   ]
  },
  {
   "cell_type": "code",
   "execution_count": null,
   "id": "a6aadc68",
   "metadata": {},
   "outputs": [],
   "source": [
    "Pkg.add(\"Plots\")\n",
    "using Plots\n",
    "plot(Mdata) "
   ]
  },
  {
   "cell_type": "code",
   "execution_count": null,
   "id": "79f97686",
   "metadata": {},
   "outputs": [],
   "source": []
  }
 ],
 "metadata": {
  "kernelspec": {
   "display_name": "Julia 1.6.1",
   "language": "julia",
   "name": "julia-1.6"
  },
  "language_info": {
   "file_extension": ".jl",
   "mimetype": "application/julia",
   "name": "julia",
   "version": "1.6.1"
  }
 },
 "nbformat": 4,
 "nbformat_minor": 5
}
