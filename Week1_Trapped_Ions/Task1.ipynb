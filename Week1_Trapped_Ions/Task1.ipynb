{
 "cells": [
  {
   "cell_type": "code",
   "execution_count": 1,
   "id": "dbb2a445",
   "metadata": {},
   "outputs": [],
   "source": [
    "using PastaQ"
   ]
  },
  {
   "cell_type": "code",
   "execution_count": 2,
   "id": "b5a56436",
   "metadata": {},
   "outputs": [],
   "source": [
    "function PastaQ.gate(::GateName\"R\"; theta::Real, phi::Real)\n",
    "    [\n",
    "        cos(theta/2)    (-im * exp(-im * phi) * sin(theta/2))\n",
    "        (-im * exp(im * phi) * sin(theta/2))     cos(theta/2)\n",
    "    ]\n",
    "end"
   ]
  },
  {
   "cell_type": "code",
   "execution_count": 3,
   "id": "07c4b276",
   "metadata": {},
   "outputs": [],
   "source": [
    "function PastaQ.gate(::GateName\"M\"; Theta::Real)\n",
    "    [\n",
    "        cos(Theta)    0    0    (-im * sin(Theta))\n",
    "        0    cos(Theta)    (-im * sin(Theta))    0\n",
    "        0    (-im * sin(Theta))    cos(Theta)    0\n",
    "        (-im * sin(Theta))    0    0    cos(Theta)\n",
    "    ]\n",
    "end"
   ]
  },
  {
   "cell_type": "code",
   "execution_count": 4,
   "id": "2d29528f",
   "metadata": {},
   "outputs": [],
   "source": [
    "function PastaQ.gate(::GateName\"Z\";)\n",
    "    [\n",
    "        1.00    0\n",
    "        0     -1.00\n",
    "    ]\n",
    "end"
   ]
  },
  {
   "cell_type": "code",
   "execution_count": 5,
   "id": "df929ec5",
   "metadata": {},
   "outputs": [
    {
     "data": {
      "text/plain": [
       "run (generic function with 1 method)"
      ]
     },
     "execution_count": 5,
     "metadata": {},
     "output_type": "execute_result"
    }
   ],
   "source": [
    "function run(N, depth)\n",
    "    # Random circuit.\n",
    "    gates = Vector{Tuple}[]\n",
    "    \n",
    "    for i in 1:depth\n",
    "        one_qubit_layer = Tuple[]\n",
    "        two_qubit_layer = Tuple[]\n",
    "\n",
    "        for j in 1:N\n",
    "            gate = (\"R\", j, (theta=2pi*rand(), phi=2pi*rand()))\n",
    "            push!(one_qubit_layer, gate)\n",
    "        end\n",
    "\n",
    "        # Alternate start qubit for pairs.\n",
    "        idx_first = i % 2 + 1\n",
    "\n",
    "        for j in idx_first:2:(N-1)\n",
    "            gate = (\"M\", (j, j+1), (Theta=2pi*rand(),))\n",
    "            push!(two_qubit_layer, gate)\n",
    "        end\n",
    "        \n",
    "        push!(gates, one_qubit_layer)\n",
    "        push!(gates, two_qubit_layer)\n",
    "    end\n",
    "    z_layer = Tuple[]\n",
    "    for j in 1:N\n",
    "        gate = (\"Z\", j)\n",
    "        push!(z_layer, gate)\n",
    "    end\n",
    "    push!(gates, z_layer)\n",
    "    psi = runcircuit(N, gates)\n",
    "end"
   ]
  },
  {
   "cell_type": "code",
   "execution_count": 6,
   "id": "6796f6fa",
   "metadata": {},
   "outputs": [],
   "source": [
    "using ITensors"
   ]
  },
  {
   "cell_type": "code",
   "execution_count": 7,
   "id": "8eac13bd",
   "metadata": {},
   "outputs": [
    {
     "data": {
      "text/plain": [
       "meaZure (generic function with 1 method)"
      ]
     },
     "execution_count": 7,
     "metadata": {},
     "output_type": "execute_result"
    }
   ],
   "source": [
    "function meaZure(psi)\n",
    "    for j=1:length(psi)\n",
    "      orthogonalize!(psi,j)\n",
    "\n",
    "      s = siteind(psi,j)\n",
    "      val = scalar(psi[j]*op(s,\"Z\")*dag(prime(psi[j],s)))\n",
    "\n",
    "      println(\"$j $val\")\n",
    "    end\n",
    "end"
   ]
  },
  {
   "cell_type": "code",
   "execution_count": 8,
   "id": "405c1a4b",
   "metadata": {},
   "outputs": [
    {
     "name": "stdout",
     "output_type": "stream",
     "text": [
      "1 -0.12373426950018346 + 0.0im\n",
      "2 -0.308785892385869 + 0.0im\n"
     ]
    }
   ],
   "source": [
    "psi=run(2,2)\n",
    "meaZure(psi)"
   ]
  },
  {
   "cell_type": "code",
   "execution_count": null,
   "id": "da299497",
   "metadata": {},
   "outputs": [],
   "source": []
  }
 ],
 "metadata": {
  "kernelspec": {
   "display_name": "Julia 1.6.1",
   "language": "julia",
   "name": "julia-1.6"
  },
  "language_info": {
   "file_extension": ".jl",
   "mimetype": "application/julia",
   "name": "julia",
   "version": "1.6.1"
  }
 },
 "nbformat": 4,
 "nbformat_minor": 5
}
