{
 "cells": [
  {
   "cell_type": "code",
   "execution_count": 31,
   "id": "6a7b446a",
   "metadata": {},
   "outputs": [],
   "source": [
    "import numpy as np\n",
    "from julia import Julia\n",
    "jl = Julia(compiled_modules=False)"
   ]
  },
  {
   "cell_type": "code",
   "execution_count": 42,
   "outputs": [
    {
     "name": "stderr",
     "output_type": "stream",
     "text": [
      "C:\\Users\\mathc\\anaconda3\\lib\\site-packages\\julia\\core.py:687: FutureWarning: Accessing `Julia().<name>` to obtain Julia objects is deprecated.  Use `from julia import Main; Main.<name>` or `jl = Julia(); jl.eval('<name>')`.\n",
      "  warnings.warn(\n"
     ]
    }
   ],
   "source": [
    "run_random_circuit = jl.include(\"./run_random_circuit.jl\")\n",
    "N = 3\n",
    "D = 10\n",
    "shots = 100\n",
    "result = run_random_circuit(N, D, shots, True)\n"
   ],
   "metadata": {
    "collapsed": false,
    "pycharm": {
     "name": "#%%\n"
    }
   }
  },
  {
   "cell_type": "code",
   "execution_count": 43,
   "outputs": [
    {
     "name": "stdout",
     "output_type": "stream",
     "text": [
      "[[1 1 1]\n",
      " [1 0 0]\n",
      " [1 1 0]\n",
      " [1 1 0]\n",
      " [0 0 1]\n",
      " [0 1 0]\n",
      " [1 1 0]\n",
      " [1 1 0]\n",
      " [0 1 1]\n",
      " [1 1 0]\n",
      " [1 1 1]\n",
      " [1 1 1]\n",
      " [1 1 0]\n",
      " [0 0 1]\n",
      " [0 1 1]\n",
      " [1 1 1]\n",
      " [1 0 0]\n",
      " [1 1 0]\n",
      " [0 0 1]\n",
      " [0 0 1]\n",
      " [1 1 0]\n",
      " [1 1 0]\n",
      " [1 0 0]\n",
      " [1 1 0]\n",
      " [1 0 0]\n",
      " [1 1 0]\n",
      " [1 1 1]\n",
      " [0 1 0]\n",
      " [1 1 0]\n",
      " [0 0 1]\n",
      " [1 1 0]\n",
      " [1 0 0]\n",
      " [1 1 1]\n",
      " [0 0 1]\n",
      " [0 0 1]\n",
      " [1 1 0]\n",
      " [0 0 0]\n",
      " [0 0 0]\n",
      " [0 0 1]\n",
      " [1 0 0]\n",
      " [1 0 0]\n",
      " [0 0 0]\n",
      " [1 1 0]\n",
      " [1 1 1]\n",
      " [1 0 0]\n",
      " [1 1 1]\n",
      " [1 1 0]\n",
      " [1 0 0]\n",
      " [0 0 0]\n",
      " [1 1 1]\n",
      " [1 1 0]\n",
      " [1 1 0]\n",
      " [1 1 1]\n",
      " [1 1 0]\n",
      " [1 0 1]\n",
      " [1 1 1]\n",
      " [1 0 1]\n",
      " [0 0 1]\n",
      " [1 0 0]\n",
      " [1 0 0]\n",
      " [0 0 1]\n",
      " [0 1 1]\n",
      " [0 0 0]\n",
      " [0 0 0]\n",
      " [1 0 0]\n",
      " [0 0 0]\n",
      " [1 1 1]\n",
      " [1 0 0]\n",
      " [1 1 1]\n",
      " [1 1 0]\n",
      " [0 1 1]\n",
      " [0 0 1]\n",
      " [0 1 0]\n",
      " [1 0 0]\n",
      " [1 1 0]\n",
      " [1 1 0]\n",
      " [0 1 1]\n",
      " [1 1 0]\n",
      " [1 0 0]\n",
      " [0 0 1]\n",
      " [0 0 0]\n",
      " [1 1 1]\n",
      " [0 0 1]\n",
      " [1 0 0]\n",
      " [0 0 1]\n",
      " [1 1 0]\n",
      " [0 1 1]\n",
      " [1 0 0]\n",
      " [0 0 1]\n",
      " [0 1 0]\n",
      " [0 0 1]\n",
      " [1 1 0]\n",
      " [0 1 0]\n",
      " [1 0 0]\n",
      " [1 1 0]\n",
      " [1 1 0]\n",
      " [0 0 1]\n",
      " [1 1 0]\n",
      " [0 0 0]\n",
      " [0 0 1]]\n"
     ]
    }
   ],
   "source": [
    "print(result)"
   ],
   "metadata": {
    "collapsed": false,
    "pycharm": {
     "name": "#%%\n"
    }
   }
  },
  {
   "cell_type": "code",
   "execution_count": 44,
   "outputs": [
    {
     "name": "stdout",
     "output_type": "stream",
     "text": [
      "[0.09 0.18 0.05 0.06 0.18 0.02 0.28 0.14]\n"
     ]
    }
   ],
   "source": [
    "def bin_to_int(bin_l:list)->int:\n",
    "    l = len(bin_l)\n",
    "    ret = 0\n",
    "    for i, v in enumerate(bin_l):\n",
    "        ret += 2**(l - i - 1) if v else 0\n",
    "    return ret\n",
    "histogram_list = np.zeros(2**N)\n",
    "for r in result:\n",
    "    histogram_list[bin_to_int(r)] += 1 / shots\n",
    "print(histogram_list)"
   ],
   "metadata": {
    "collapsed": false,
    "pycharm": {
     "name": "#%%\n"
    }
   }
  },
  {
   "cell_type": "code",
   "execution_count": 45,
   "outputs": [
    {
     "data": {
      "text/plain": "<Figure size 1152x144 with 1 Axes>",
      "image/png": "[encoded data removed]"
     },
     "metadata": {
      "needs_background": "light"
     },
     "output_type": "display_data"
    }
   ],
   "source": [
    "import matplotlib.pyplot as plt\n",
    "fig, ax = plt.subplots()\n",
    "ax.set(xlim=(0,2**(N+1)), ylim=(-1,1))\n",
    "fig.set_size_inches(2**(N+1), 2)\n",
    "for x in range(2**N):\n",
    "    c = plt.Circle((2*x+1, 0), np.sqrt(histogram_list[x]))\n",
    "    ax.add_artist(c)\n"
   ],
   "metadata": {
    "collapsed": false,
    "pycharm": {
     "name": "#%%\n"
    }
   }
  },
  {
   "cell_type": "code",
   "execution_count": null,
   "outputs": [],
   "source": [],
   "metadata": {
    "collapsed": false,
    "pycharm": {
     "name": "#%%\n"
    }
   }
  }
 ],
 "metadata": {
  "kernelspec": {
   "display_name": "Python 3",
   "language": "python",
   "name": "python3"
  },
  "language_info": {
   "codemirror_mode": {
    "name": "ipython",
    "version": 3
   },
   "file_extension": ".py",
   "mimetype": "text/x-python",
   "name": "python",
   "nbconvert_exporter": "python",
   "pygments_lexer": "ipython3",
   "version": "3.8.8"
  }
 },
 "nbformat": 4,
 "nbformat_minor": 5
}