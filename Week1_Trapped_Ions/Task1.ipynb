{
 "cells": [
  {
   "cell_type": "markdown",
   "source": [
    "## Week 1. Trapped Ions - Task 1\n",
    "Author: QuNovaComputing, Inc.\n",
    "- - -\n",
    "We demonstrate the visualization for the measurement on the computational basis of an RQC(Random Quantum Circuit) execution.\n",
    "\n",
    "Imports below:\n",
    "\n",
    "(It will take a while because importing `julia_run_random_circuit` includes initialization of `julia`.)"
   ],
   "metadata": {
    "collapsed": false,
    "pycharm": {
     "name": "#%% md\n"
    }
   }
  },
  {
   "cell_type": "code",
   "execution_count": 1,
   "id": "6a7b446a",
   "metadata": {
    "pycharm": {
     "name": "#%%\n"
    }
   },
   "outputs": [
    {
     "name": "stderr",
     "output_type": "stream",
     "text": [
      "/home/gwonhaklee/workspace/CohortProject_2021/venv/lib/python3.8/site-packages/julia/core.py:687: FutureWarning: Accessing `Julia().<name>` to obtain Julia objects is deprecated.  Use `from julia import Main; Main.<name>` or `jl = Julia(); jl.eval('<name>')`.\n",
      "  warnings.warn(\n"
     ]
    }
   ],
   "source": [
    "from Week1_Trapped_Ions.src.julia_run_random_circuit import run_random_circuit\n",
    "from Week1_Trapped_Ions.src.utils import get_histogram_from_outcomes_small, draw_circles"
   ]
  },
  {
   "cell_type": "markdown",
   "source": [
    "We define the number of qubits, `N`, the circuit depth, `D` and the number of shots for each run, `shots` below."
   ],
   "metadata": {
    "collapsed": false,
    "pycharm": {
     "name": "#%% md\n"
    }
   }
  },
  {
   "cell_type": "code",
   "execution_count": 2,
   "id": "a024b408",
   "metadata": {
    "pycharm": {
     "name": "#%%\n"
    }
   },
   "outputs": [],
   "source": [
    "N = 4\n",
    "D = 512\n",
    "shots = 1000"
   ]
  },
  {
   "cell_type": "markdown",
   "source": [
    "With the parameters, we run the random circuits in the julia script to get the samples with the number of `shots` to `result`,\n",
    "which is a list of lists of binary integers."
   ],
   "metadata": {
    "collapsed": false,
    "pycharm": {
     "name": "#%% md\n"
    }
   }
  },
  {
   "cell_type": "code",
   "execution_count": 3,
   "outputs": [
    {
     "name": "stdout",
     "output_type": "stream",
     "text": [
      "[[1 0 1 0]\n",
      " [1 0 0 1]\n",
      " [1 0 0 1]\n",
      " [1 1 0 0]\n",
      " ...\n",
      " [1 0 0 1]]\n"
     ]
    }
   ],
   "source": [
    "result = run_random_circuit(N, D, shots)\n",
    "print(f\"{str(result[:4])[:-1]}\\n ...\\n {result[-1]}]\")"
   ],
   "metadata": {
    "collapsed": false,
    "pycharm": {
     "name": "#%%\n"
    }
   }
  },
  {
   "cell_type": "markdown",
   "source": [
    "For binary string, we count the frequencies to make a histogram list."
   ],
   "metadata": {
    "collapsed": false,
    "pycharm": {
     "name": "#%% md\n"
    }
   }
  },
  {
   "cell_type": "code",
   "execution_count": 4,
   "id": "d8ef52d3",
   "metadata": {
    "pycharm": {
     "name": "#%%\n"
    }
   },
   "outputs": [
    {
     "name": "stdout",
     "output_type": "stream",
     "text": [
      "[0.02  0.006 0.043 0.039 0.02  0.042 0.014 0.136 0.012 0.165 0.076 0.026\n",
      " 0.28  0.009 0.029 0.083]\n"
     ]
    }
   ],
   "source": [
    "histogram_list = get_histogram_from_outcomes_small(result)\n",
    "print(histogram_list)"
   ]
  },
  {
   "cell_type": "markdown",
   "source": [
    "Finally, we draw circles for each computational basis of which radius are proportional to the square root of the frequency.\n",
    "(From the outcomes of 00..0(left) to 11..1(right))"
   ],
   "metadata": {
    "collapsed": false,
    "pycharm": {
     "name": "#%% md\n"
    }
   }
  },
  {
   "cell_type": "code",
   "execution_count": 5,
   "id": "27b5f1a9",
   "metadata": {
    "pycharm": {
     "name": "#%%\n"
    }
   },
   "outputs": [
    {
     "data": {
      "text/plain": "(<Figure size 2304x144 with 1 Axes>, <AxesSubplot:>)"
     },
     "execution_count": 5,
     "metadata": {},
     "output_type": "execute_result"
    },
    {
     "data": {
      "text/plain": "<Figure size 2304x144 with 1 Axes>",
      "image/png": "[encoded data removed]"
     },
     "metadata": {
      "needs_background": "light"
     },
     "output_type": "display_data"
    }
   ],
   "source": [
    "draw_circles(histogram_list)"
   ]
  }
 ],
 "metadata": {
  "kernelspec": {
   "display_name": "Python 3 (ipykernel)",
   "language": "python",
   "name": "python3"
  },
  "language_info": {
   "codemirror_mode": {
    "name": "ipython",
    "version": 3
   },
   "file_extension": ".py",
   "mimetype": "text/x-python",
   "name": "python",
   "nbconvert_exporter": "python",
   "pygments_lexer": "ipython3",
   "version": "3.8.10"
  }
 },
 "nbformat": 4,
 "nbformat_minor": 5
}