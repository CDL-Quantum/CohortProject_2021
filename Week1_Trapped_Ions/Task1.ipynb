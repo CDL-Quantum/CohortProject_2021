{
 "cells": [
  {
   "cell_type": "code",
   "execution_count": 39,
   "id": "08b250a5",
   "metadata": {},
   "outputs": [],
   "source": [
    "import numpy as np\n",
    "from IPython.display import Latex as lt\n",
    "import random\n",
    "\n",
    "import math\n",
    "from math import pi\n",
    "\n",
    "import qiskit\n",
    "from qiskit import QuantumCircuit, ClassicalRegister, QuantumRegister\n",
    "from qiskit import execute, BasicAer\n",
    "from qiskit.compiler import transpile\n",
    "from qiskit.quantum_info.operators import Operator, Pauli\n",
    "from qiskit.quantum_info import process_fidelity\n",
    "\n",
    "from qiskit.extensions import RXGate, XGate, CXGate"
   ]
  },
  {
   "cell_type": "markdown",
   "id": "3c3f796b",
   "metadata": {},
   "source": [
    "# Creating \"function PastaQ.gate\"\n",
    "Single Matrix \n",
    "\n",
    "\\begin{bmatrix}\n",
    "\\cos{\\theta/2} & (-i \\exp^{-i \\phi} \\sin(\\theta/2))\\\\\n",
    " (-i \\exp^{i \\phi} \\sin(\\theta/2)) & \\cos(\\theta/2)\n",
    "\\end{bmatrix}\n",
    "\n",
    "Double Matrix\n",
    "\n",
    "\\begin{bmatrix}\n",
    "        \\cos(\\Theta) &   0 &   0 &   -i \\sin(\\Theta)\\\\\n",
    "        0    &\\cos(\\Theta)   & -i \\sin(\\Theta)    &0\\\\\n",
    "        0    &-i \\sin(\\Theta)  &  \\cos(\\Theta)    &0\\\\\n",
    "        -i \\sin(\\Theta) &   0  &  0   & \\cos(\\Theta)\\\\\n",
    "\\end{bmatrix}"
   ]
  },
  {
   "cell_type": "code",
   "execution_count": 53,
   "id": "e9fcddea",
   "metadata": {},
   "outputs": [],
   "source": [
    "def gateSingle(theta,phi):\n",
    "    j=complex(0,1);\n",
    "    return Operator(np.matrix([[np.cos(theta/2),(-j*np.exp(-j*phi)*np.sin(theta/2))],[(-j*np.exp(j*phi)*np.sin(theta/2)),np.cos(theta/2)]]))\n",
    "def gateDouble(Theta):\n",
    "    j=complex(0,1);\n",
    "    return Operator(np.matrix([[np.cos(Theta),0,0,(-j * np.sin(Theta))],[0,np.cos(Theta),(-j * np.sin(Theta)),0],[0,(-j * np.sin(Theta)),np.cos(Theta),0],[(-j * np.sin(Theta)),0,0,np.cos(Theta)]]))"
   ]
  },
  {
   "cell_type": "code",
   "execution_count": 54,
   "id": "17da253f",
   "metadata": {},
   "outputs": [
    {
     "data": {
      "text/plain": [
       "Operator([[0.39319914+0.j        , 0.        +0.j        ,\n",
       "           0.        +0.j        , 0.        -0.91945334j],\n",
       "          [0.        +0.j        , 0.39319914+0.j        ,\n",
       "           0.        -0.91945334j, 0.        +0.j        ],\n",
       "          [0.        +0.j        , 0.        -0.91945334j,\n",
       "           0.39319914+0.j        , 0.        +0.j        ],\n",
       "          [0.        -0.91945334j, 0.        +0.j        ,\n",
       "           0.        +0.j        , 0.39319914+0.j        ]],\n",
       "         input_dims=(2, 2), output_dims=(2, 2))"
      ]
     },
     "execution_count": 54,
     "metadata": {},
     "output_type": "execute_result"
    }
   ],
   "source": [
    "#Example Testing\n",
    "r1=pi*random.random()\n",
    "gateSingle(r1,r1)\n",
    "gateDouble(r1)"
   ]
  },
  {
   "cell_type": "code",
   "execution_count": 143,
   "id": "87576796",
   "metadata": {},
   "outputs": [],
   "source": [
    "def run(N,depth):\n",
    "    #N is number of Qubit\n",
    "    #depth is the iteration of single and double Qubit\n",
    "    \n",
    "    #Create base circuits\n",
    "    qr = QuantumRegister(N, 'q')\n",
    "    cr = ClassicalRegister(N, 'c')\n",
    "    circ = QuantumCircuit(qr,cr)\n",
    "    \n",
    "\n",
    "    \n",
    "    for i in range(depth):\n",
    "    #Apply single-qubit random rotation for all the qubit\n",
    "        for j in range(N):\n",
    "            circ.append(gateSingle(2*pi*random.random(),2*pi*random.random()), [j])\n",
    "\n",
    "        #Julia started with index 1, so I need to change it by i+1, then I change back on Range    \n",
    "        idx_first = (i+1) % 2 + 1\n",
    "\n",
    "        for j in range(idx_first-1,N-1,2):\n",
    "            circ.append(gateDouble(2*pi*random.random()), [j,j+1])\n",
    "        circ.barrier(qr)           \n",
    "\n",
    "    \n",
    "    circ.measure(qr, cr)\n",
    "    return circ"
   ]
  },
  {
   "cell_type": "code",
   "execution_count": 153,
   "id": "eb9b6178",
   "metadata": {},
   "outputs": [
    {
     "name": "stdout",
     "output_type": "stream",
     "text": [
      "     ┌─────────┐             ░ ┌─────────┐┌──────────┐ ░ ┌─┐         \n",
      "q_0: ┤ unitary ├─────────────░─┤ unitary ├┤0         ├─░─┤M├─────────\n",
      "     ├─────────┤┌──────────┐ ░ ├─────────┤│  unitary │ ░ └╥┘┌─┐      \n",
      "q_1: ┤ unitary ├┤0         ├─░─┤ unitary ├┤1         ├─░──╫─┤M├──────\n",
      "     ├─────────┤│  unitary │ ░ ├─────────┤├──────────┤ ░  ║ └╥┘┌─┐   \n",
      "q_2: ┤ unitary ├┤1         ├─░─┤ unitary ├┤0         ├─░──╫──╫─┤M├───\n",
      "     ├─────────┤└──────────┘ ░ ├─────────┤│  unitary │ ░  ║  ║ └╥┘┌─┐\n",
      "q_3: ┤ unitary ├─────────────░─┤ unitary ├┤1         ├─░──╫──╫──╫─┤M├\n",
      "     └─────────┘             ░ └─────────┘└──────────┘ ░  ║  ║  ║ └╥┘\n",
      "c: 4/═════════════════════════════════════════════════════╩══╩══╩══╩═\n",
      "                                                          0  1  2  3 \n"
     ]
    }
   ],
   "source": [
    "qc=run(4,2)\n",
    "print(qc)"
   ]
  },
  {
   "cell_type": "markdown",
   "id": "6e1808fd",
   "metadata": {},
   "source": [
    "# Visualize the data"
   ]
  },
  {
   "cell_type": "code",
   "execution_count": 157,
   "id": "ff1a8fed",
   "metadata": {},
   "outputs": [],
   "source": [
    "from qiskit.visualization import plot_histogram\n",
    "import matplotlib.pyplot as plt\n",
    "%matplotlib inline"
   ]
  },
  {
   "cell_type": "code",
   "execution_count": 155,
   "id": "0b593d9c",
   "metadata": {},
   "outputs": [
    {
     "data": {
      "image/png": "[encoded data removed]",
      "text/plain": [
       "<Figure size 504x360 with 1 Axes>"
      ]
     },
     "execution_count": 155,
     "metadata": {},
     "output_type": "execute_result"
    }
   ],
   "source": [
    "backend = BasicAer.get_backend('qasm_simulator') # the device to run on\n",
    "result = execute(qc, backend, shots=1000).result()\n",
    "counts  = result.get_counts(qc)\n",
    "plot_histogram(counts)"
   ]
  },
  {
   "cell_type": "code",
   "execution_count": 213,
   "id": "594f3f3a",
   "metadata": {},
   "outputs": [
    {
     "data": {
      "image/png": "[encoded data removed]",
      "text/plain": [
       "<Figure size 432x288 with 1 Axes>"
      ]
     },
     "metadata": {
      "needs_background": "light"
     },
     "output_type": "display_data"
    }
   ],
   "source": [
    "#sort the coefficients [0000,0001,0010,....1111]\n",
    "sortCoeff=list(dict(sorted(counts.items())).values())\n",
    "\n",
    "# Create Figure and plots\n",
    "fig = plt.figure();\n",
    "ax = fig.add_subplot(111);\n",
    "for i in range(16):\n",
    "    ax.scatter(i, 1, s=sortCoeff[i], c='r')\n",
    "ax.set_aspect(10);\n",
    "ax.axis(\"off\");\n"
   ]
  }
 ],
 "metadata": {
  "kernelspec": {
   "display_name": "Python 3",
   "language": "python",
   "name": "python3"
  },
  "language_info": {
   "codemirror_mode": {
    "name": "ipython",
    "version": 3
   },
   "file_extension": ".py",
   "mimetype": "text/x-python",
   "name": "python",
   "nbconvert_exporter": "python",
   "pygments_lexer": "ipython3",
   "version": "3.8.10"
  }
 },
 "nbformat": 4,
 "nbformat_minor": 5
}
