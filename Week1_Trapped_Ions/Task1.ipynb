{
 "cells": [
  {
   "cell_type": "code",
   "execution_count": 1,
   "id": "dbb2a445",
   "metadata": {},
   "outputs": [],
   "source": [
    "using PastaQ"
   ]
  },
  {
   "cell_type": "code",
   "execution_count": 2,
   "id": "b5a56436",
   "metadata": {},
   "outputs": [],
   "source": [
    "function PastaQ.gate(::GateName\"R\"; theta::Real, phi::Real)\n",
    "    [\n",
    "        cos(theta/2)    (-im * exp(-im * phi) * sin(theta/2))\n",
    "        (-im * exp(im * phi) * sin(theta/2))     cos(theta/2)\n",
    "    ]\n",
    "end"
   ]
  },
  {
   "cell_type": "code",
   "execution_count": 3,
   "id": "07c4b276",
   "metadata": {},
   "outputs": [],
   "source": [
    "function PastaQ.gate(::GateName\"M\"; Theta::Real)\n",
    "    [\n",
    "        cos(Theta)    0    0    (-im * sin(Theta))\n",
    "        0    cos(Theta)    (-im * sin(Theta))    0\n",
    "        0    (-im * sin(Theta))    cos(Theta)    0\n",
    "        (-im * sin(Theta))    0    0    cos(Theta)\n",
    "    ]\n",
    "end"
   ]
  },
  {
   "cell_type": "code",
   "execution_count": 11,
   "id": "2d29528f",
   "metadata": {},
   "outputs": [],
   "source": [
    "function PastaQ.gate(::GateName\"Z\";)\n",
    "    [\n",
    "        1.00    0\n",
    "        0     -1.00\n",
    "    ]\n",
    "end"
   ]
  },
  {
   "cell_type": "code",
   "execution_count": 101,
   "id": "9dfff70b",
   "metadata": {},
   "outputs": [],
   "source": [
    "function PastaQ.gate(::GateName\"X\";)\n",
    "    [\n",
    "        0    1.00\n",
    "        1.00     0\n",
    "    ]\n",
    "end"
   ]
  },
  {
   "cell_type": "code",
   "execution_count": 120,
   "id": "df929ec5",
   "metadata": {},
   "outputs": [
    {
     "data": {
      "text/plain": [
       "run (generic function with 2 methods)"
      ]
     },
     "execution_count": 120,
     "metadata": {},
     "output_type": "execute_result"
    }
   ],
   "source": [
    "function run(N, depth, flipon)\n",
    "    # Random circuit.\n",
    "    gates = Vector{Tuple}[]\n",
    "    if flipon == true\n",
    "        td=rand(1:depth)\n",
    "        tN=rand(1:N)\n",
    "    end\n",
    "    for i in 1:depth\n",
    "        one_qubit_layer = Tuple[]\n",
    "        two_qubit_layer = Tuple[]\n",
    "        \n",
    "        for j in 1:N\n",
    "            gate = (\"R\", j, (theta=2pi*rand(), phi=2pi*rand()))\n",
    "            push!(one_qubit_layer, gate)\n",
    "            if flipon == true\n",
    "                if j==tN && i==td\n",
    "                    push!(one_qubit_layer, (\"X\", j))\n",
    "                end\n",
    "            end\n",
    "        end\n",
    "\n",
    "        # Alternate start qubit for pairs.\n",
    "        idx_first = i % 2 + 1\n",
    "\n",
    "        for j in idx_first:2:(N-1)\n",
    "            gate = (\"M\", (j, j+1), (Theta=2pi*rand(),))\n",
    "            push!(two_qubit_layer, gate)\n",
    "        end\n",
    "        \n",
    "        push!(gates, one_qubit_layer)\n",
    "        push!(gates, two_qubit_layer)\n",
    "            \n",
    "    end\n",
    "#     z_layer = Tuple[]\n",
    "#     for j in 1:N\n",
    "#        gate = (\"Z\", j)\n",
    "#        push!(z_layer, gate)\n",
    "#     end\n",
    "    psi = runcircuit(N, gates)\n",
    "end"
   ]
  },
  {
   "cell_type": "code",
   "execution_count": 6,
   "id": "6796f6fa",
   "metadata": {},
   "outputs": [],
   "source": [
    "using ITensors"
   ]
  },
  {
   "cell_type": "code",
   "execution_count": 31,
   "id": "8eac13bd",
   "metadata": {},
   "outputs": [
    {
     "data": {
      "text/plain": [
       "meaZure (generic function with 1 method)"
      ]
     },
     "execution_count": 31,
     "metadata": {},
     "output_type": "execute_result"
    }
   ],
   "source": [
    "function meaZure(psi)\n",
    "    norm=0\n",
    "    vals=zeros(0)\n",
    "    for j=1:length(psi)\n",
    "      orthogonalize!(psi,j)\n",
    "\n",
    "      s = siteind(psi,j)\n",
    "      val = scalar(psi[j]*op(s,\"Z\")*dag(prime(psi[j],s)))\n",
    "      norm=norm+val*conj(val)  \n",
    "      append!(vals, val)  \n",
    "      #println(\"$j $val\")\n",
    "    end\n",
    "    println(sqrt(norm))\n",
    "    println(\"$vals\")\n",
    "    vals_norm=vals/sqrt(norm)\n",
    "    return vals_norm\n",
    "end"
   ]
  },
  {
   "cell_type": "code",
   "execution_count": 132,
   "id": "2286139f",
   "metadata": {},
   "outputs": [
    {
     "data": {
      "text/plain": [
       "get_Probs (generic function with 1 method)"
      ]
     },
     "execution_count": 132,
     "metadata": {},
     "output_type": "execute_result"
    }
   ],
   "source": [
    "function get_Probs(psi,N)      \n",
    "    sites = siteinds(\"S=1/2\", N)\n",
    "    norm=0\n",
    "    probs=zeros(0)\n",
    "    for i=0:2^N-1\n",
    "        x=digits(i,base=2,pad=N)\n",
    "        states = [j+1 for j in x]\n",
    "        phi = productMPS(ComplexF64,sites, states)\n",
    "        y=inner(phi,psi)\n",
    "        prob=y*conj(y)\n",
    "        println(prob)\n",
    "        append!(probs,prob)\n",
    "        norm=norm+prob\n",
    "    end\n",
    "    println(norm)\n",
    "    return probs\n",
    "end        "
   ]
  },
  {
   "cell_type": "code",
   "execution_count": 133,
   "id": "405c1a4b",
   "metadata": {},
   "outputs": [
    {
     "name": "stdout",
     "output_type": "stream",
     "text": [
      "0.029006222480702046 + 0.0im\n",
      "0.47224367252321187 + 0.0im\n",
      "0.09183223087674783 + 0.0im\n",
      "0.40691787411933683 + 0.0im\n",
      "0.9999999999999987 + 0.0im\n"
     ]
    },
    {
     "data": {
      "text/plain": [
       "4-element Vector{Float64}:\n",
       " 0.029006222480702046\n",
       " 0.47224367252321187\n",
       " 0.09183223087674783\n",
       " 0.40691787411933683"
      ]
     },
     "execution_count": 133,
     "metadata": {},
     "output_type": "execute_result"
    }
   ],
   "source": [
    "#########Task 1############################\n",
    "N=2\n",
    "depth=6\n",
    "flipon=false\n",
    "psi=run(N,depth,flipon)\n",
    "#out=meaZure(psi)\n",
    "get_Probs(psi,N)"
   ]
  },
  {
   "cell_type": "code",
   "execution_count": null,
   "id": "f7fac808",
   "metadata": {},
   "outputs": [],
   "source": [
    "######Task2##################\n",
    "function runcirc_multiple(M,N,depth,flipon)\n",
    "    results=Tuple[]\n",
    "    for i=1:M\n",
    "        psi=run(N,depth,flipon)\n",
    "        push!(results,get_Probs(psi,N))\n",
    "    end\n",
    "    return results\n",
    "end"
   ]
  }
 ],
 "metadata": {
  "kernelspec": {
   "display_name": "Julia 1.6.1",
   "language": "julia",
   "name": "julia-1.6"
  },
  "language_info": {
   "file_extension": ".jl",
   "mimetype": "application/julia",
   "name": "julia",
   "version": "1.6.1"
  }
 },
 "nbformat": 4,
 "nbformat_minor": 5
}
