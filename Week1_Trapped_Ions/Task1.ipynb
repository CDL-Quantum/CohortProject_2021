{
 "cells": [
  {
   "cell_type": "code",
   "execution_count": 1,
   "id": "dbb2a445",
   "metadata": {},
   "outputs": [],
   "source": [
    "using PastaQ"
   ]
  },
  {
   "cell_type": "code",
   "execution_count": 2,
   "id": "b5a56436",
   "metadata": {},
   "outputs": [],
   "source": [
    "function PastaQ.gate(::GateName\"R\"; theta::Real, phi::Real)\n",
    "    [\n",
    "        cos(theta/2)    (-im * exp(-im * phi) * sin(theta/2))\n",
    "        (-im * exp(im * phi) * sin(theta/2))     cos(theta/2)\n",
    "    ]\n",
    "end"
   ]
  },
  {
   "cell_type": "code",
   "execution_count": 3,
   "id": "07c4b276",
   "metadata": {},
   "outputs": [],
   "source": [
    "function PastaQ.gate(::GateName\"M\"; Theta::Real)\n",
    "    [\n",
    "        cos(Theta)    0    0    (-im * sin(Theta))\n",
    "        0    cos(Theta)    (-im * sin(Theta))    0\n",
    "        0    (-im * sin(Theta))    cos(Theta)    0\n",
    "        (-im * sin(Theta))    0    0    cos(Theta)\n",
    "    ]\n",
    "end"
   ]
  },
  {
   "cell_type": "code",
   "execution_count": 4,
   "id": "2d29528f",
   "metadata": {},
   "outputs": [],
   "source": [
    "function PastaQ.gate(::GateName\"Z\";)\n",
    "    [\n",
    "        1.00    0\n",
    "        0     -1.00\n",
    "    ]\n",
    "end"
   ]
  },
  {
   "cell_type": "code",
   "execution_count": 5,
   "id": "40297506",
   "metadata": {},
   "outputs": [],
   "source": [
    "function PastaQ.gate(::GateName\"X\";)\n",
    "    [\n",
    "        0    1.00\n",
    "        1.00     0\n",
    "    ]\n",
    "end"
   ]
  },
  {
   "cell_type": "code",
   "execution_count": 6,
   "id": "df929ec5",
   "metadata": {},
   "outputs": [
    {
     "data": {
      "text/plain": [
       "run (generic function with 1 method)"
      ]
     },
     "execution_count": 6,
     "metadata": {},
     "output_type": "execute_result"
    }
   ],
   "source": [
    "function run(N, depth, flipon)\n",
    "    # Random circuit.\n",
    "    gates = Vector{Tuple}[]\n",
    "    if flipon == true\n",
    "        td=rand(1:depth)\n",
    "        tN=rand(1:N)\n",
    "    end\n",
    "    for i in 1:depth\n",
    "        one_qubit_layer = Tuple[]\n",
    "        two_qubit_layer = Tuple[]\n",
    "        \n",
    "        for j in 1:N\n",
    "            gate = (\"R\", j, (theta=2pi*rand(), phi=2pi*rand()))\n",
    "            push!(one_qubit_layer, gate)\n",
    "            if flipon == true\n",
    "                if j==tN && i==td\n",
    "                    push!(one_qubit_layer, (\"X\", j))\n",
    "                end\n",
    "            end\n",
    "        end\n",
    "\n",
    "        # Alternate start qubit for pairs.\n",
    "        idx_first = i % 2 + 1\n",
    "\n",
    "        for j in idx_first:2:(N-1)\n",
    "            gate = (\"M\", (j, j+1), (Theta=2pi*rand(),))\n",
    "            push!(two_qubit_layer, gate)\n",
    "        end\n",
    "        \n",
    "        push!(gates, one_qubit_layer)\n",
    "        push!(gates, two_qubit_layer)\n",
    "            \n",
    "    end\n",
    "#     z_layer = Tuple[]\n",
    "#     for j in 1:N\n",
    "#        gate = (\"Z\", j)\n",
    "#        push!(z_layer, gate)\n",
    "#     end\n",
    "    psi = runcircuit(N, gates)\n",
    "end"
   ]
  },
  {
   "cell_type": "code",
   "execution_count": 7,
   "id": "6796f6fa",
   "metadata": {},
   "outputs": [],
   "source": [
    "using ITensors"
   ]
  },
  {
   "cell_type": "code",
   "execution_count": 8,
   "id": "8eac13bd",
   "metadata": {},
   "outputs": [
    {
     "data": {
      "text/plain": [
       "meaZure (generic function with 1 method)"
      ]
     },
     "execution_count": 8,
     "metadata": {},
     "output_type": "execute_result"
    }
   ],
   "source": [
    "function meaZure(psi)\n",
    "    norm=0\n",
    "    vals=zeros(0)\n",
    "    for j=1:length(psi)\n",
    "      orthogonalize!(psi,j)\n",
    "\n",
    "      s = siteind(psi,j)\n",
    "      val = scalar(psi[j]*op(s,\"Z\")*dag(prime(psi[j],s)))\n",
    "      norm=norm+val*conj(val)  \n",
    "      append!(vals, val)  \n",
    "      #println(\"$j $val\")\n",
    "    end\n",
    "    println(sqrt(norm))\n",
    "    println(\"$vals\")\n",
    "    vals_norm=vals/sqrt(norm)\n",
    "    return vals_norm\n",
    "end"
   ]
  },
  {
   "cell_type": "code",
   "execution_count": 9,
   "id": "af725e5b",
   "metadata": {},
   "outputs": [
    {
     "data": {
      "text/plain": [
       "get_Probs (generic function with 1 method)"
      ]
     },
     "execution_count": 9,
     "metadata": {},
     "output_type": "execute_result"
    }
   ],
   "source": [
    "function get_Probs(psi,N)      \n",
    "    sites = siteinds(\"S=1/2\", N)\n",
    "    norm=0\n",
    "    probs=zeros(0)\n",
    "    for i=0:2^N-1\n",
    "        x=digits(i,base=2,pad=N)\n",
    "        states = [j+1 for j in x]\n",
    "        phi = productMPS(ComplexF64,sites, states)\n",
    "        y=inner(phi,psi)\n",
    "        prob=y*conj(y)\n",
    "        println(prob)\n",
    "        append!(probs,prob)\n",
    "        norm=norm+prob\n",
    "    end\n",
    "    println(norm)\n",
    "    return probs\n",
    "end        "
   ]
  },
  {
   "cell_type": "code",
   "execution_count": 31,
   "id": "405c1a4b",
   "metadata": {},
   "outputs": [
    {
     "name": "stdout",
     "output_type": "stream",
     "text": [
      "0.20062289466414965 + 0.0im\n",
      "0.14073759791761264 + 0.0im\n",
      "0.0010718058579982466 + 0.0im\n",
      "0.18952904793302727 + 0.0im\n",
      "0.12587804136289346 + 0.0im\n",
      "0.1469307661468756 + 0.0im\n",
      "0.018581857020439234 + 0.0im\n",
      "0.17664798909700508 + 0.0im\n",
      "1.0000000000000013 + 0.0im\n"
     ]
    },
    {
     "data": {
      "text/plain": [
       "8-element Vector{Float64}:\n",
       " 0.20062289466414965\n",
       " 0.14073759791761264\n",
       " 0.0010718058579982466\n",
       " 0.18952904793302727\n",
       " 0.12587804136289346\n",
       " 0.1469307661468756\n",
       " 0.018581857020439234\n",
       " 0.17664798909700508"
      ]
     },
     "execution_count": 31,
     "metadata": {},
     "output_type": "execute_result"
    }
   ],
   "source": [
    "#########Task 1############################\n",
    "N=3\n",
    "depth=4\n",
    "flipon=false\n",
    "psi=run(N,depth,flipon)\n",
    "#out=meaZure(psi)\n",
    "pb=get_Probs(psi,N)"
   ]
  },
  {
   "cell_type": "code",
   "execution_count": null,
   "id": "a6e13ba3",
   "metadata": {},
   "outputs": [],
   "source": [
    "######Task2##################\n",
    "function runcirc_multiple(M,N,depth,flipon)\n",
    "    results=Tuple[]\n",
    "    for i=1:M\n",
    "        psi=run(N,depth,flipon)\n",
    "        push!(results,get_Probs(psi,N))\n",
    "    end\n",
    "    return results\n",
    "end"
   ]
  },
  {
   "cell_type": "code",
   "execution_count": 11,
   "id": "803cc35d",
   "metadata": {},
   "outputs": [],
   "source": [
    "using Plots"
   ]
  },
  {
   "cell_type": "code",
   "execution_count": 12,
   "id": "f0bed29a",
   "metadata": {},
   "outputs": [],
   "source": [
    "using StatsPlots"
   ]
  },
  {
   "cell_type": "code",
   "execution_count": 32,
   "id": "43db12f3",
   "metadata": {},
   "outputs": [],
   "source": [
    "yy=zeros(0)\n",
    "for i=1:length(pb)\n",
    "    append!(yy,2.0)\n",
    "end"
   ]
  },
  {
   "cell_type": "code",
   "execution_count": 34,
   "id": "06adfe2e",
   "metadata": {},
   "outputs": [
    {
     "data": {
      "image/svg+xml": [
       "<?xml version=\"1.0\" encoding=\"utf-8\"?>\n",
       "<svg xmlns=\"http://www.w3.org/2000/svg\" xmlns:xlink=\"http://www.w3.org/1999/xlink\" width=\"600\" height=\"400\" viewBox=\"0 0 2400 1600\">\n",
       "<defs>\n",
       "  <clipPath id=\"clip780\">\n",
       "    <rect x=\"0\" y=\"0\" width=\"2400\" height=\"1600\"/>\n",
       "  </clipPath>\n",
       "</defs>\n",
       "<path clip-path=\"url(#clip780)\" d=\"\n",
       "M0 1600 L2400 1600 L2400 0 L0 0  Z\n",
       "  \" fill=\"#ffffff\" fill-rule=\"evenodd\" fill-opacity=\"1\"/>\n",
       "<defs>\n",
       "  <clipPath id=\"clip781\">\n",
       "    <rect x=\"480\" y=\"0\" width=\"1681\" height=\"1600\"/>\n",
       "  </clipPath>\n",
       "</defs>\n",
       "<path clip-path=\"url(#clip780)\" d=\"\n",
       "M155.765 1486.45 L2352.76 1486.45 L2352.76 47.2441 L155.765 47.2441  Z\n",
       "  \" fill=\"#ffffff\" fill-rule=\"evenodd\" fill-opacity=\"1\"/>\n",
       "<defs>\n",
       "  <clipPath id=\"clip782\">\n",
       "    <rect x=\"155\" y=\"47\" width=\"2198\" height=\"1440\"/>\n",
       "  </clipPath>\n",
       "</defs>\n",
       "<polyline clip-path=\"url(#clip782)\" style=\"stroke:#000000; stroke-linecap:butt; stroke-linejoin:round; stroke-width:2; stroke-opacity:0.1; fill:none\" points=\"\n",
       "  514.034,1486.45 514.034,47.2441 \n",
       "  \"/>\n",
       "<polyline clip-path=\"url(#clip782)\" style=\"stroke:#000000; stroke-linecap:butt; stroke-linejoin:round; stroke-width:2; stroke-opacity:0.1; fill:none\" points=\"\n",
       "  1106.22,1486.45 1106.22,47.2441 \n",
       "  \"/>\n",
       "<polyline clip-path=\"url(#clip782)\" style=\"stroke:#000000; stroke-linecap:butt; stroke-linejoin:round; stroke-width:2; stroke-opacity:0.1; fill:none\" points=\"\n",
       "  1698.4,1486.45 1698.4,47.2441 \n",
       "  \"/>\n",
       "<polyline clip-path=\"url(#clip782)\" style=\"stroke:#000000; stroke-linecap:butt; stroke-linejoin:round; stroke-width:2; stroke-opacity:0.1; fill:none\" points=\"\n",
       "  2290.58,1486.45 2290.58,47.2441 \n",
       "  \"/>\n",
       "<polyline clip-path=\"url(#clip780)\" style=\"stroke:#000000; stroke-linecap:butt; stroke-linejoin:round; stroke-width:4; stroke-opacity:1; fill:none\" points=\"\n",
       "  155.765,1486.45 2352.76,1486.45 \n",
       "  \"/>\n",
       "<polyline clip-path=\"url(#clip780)\" style=\"stroke:#000000; stroke-linecap:butt; stroke-linejoin:round; stroke-width:4; stroke-opacity:1; fill:none\" points=\"\n",
       "  514.034,1486.45 514.034,1469.18 \n",
       "  \"/>\n",
       "<polyline clip-path=\"url(#clip780)\" style=\"stroke:#000000; stroke-linecap:butt; stroke-linejoin:round; stroke-width:4; stroke-opacity:1; fill:none\" points=\"\n",
       "  1106.22,1486.45 1106.22,1469.18 \n",
       "  \"/>\n",
       "<polyline clip-path=\"url(#clip780)\" style=\"stroke:#000000; stroke-linecap:butt; stroke-linejoin:round; stroke-width:4; stroke-opacity:1; fill:none\" points=\"\n",
       "  1698.4,1486.45 1698.4,1469.18 \n",
       "  \"/>\n",
       "<polyline clip-path=\"url(#clip780)\" style=\"stroke:#000000; stroke-linecap:butt; stroke-linejoin:round; stroke-width:4; stroke-opacity:1; fill:none\" points=\"\n",
       "  2290.58,1486.45 2290.58,1469.18 \n",
       "  \"/>\n",
       "<path clip-path=\"url(#clip780)\" d=\"M508.687 1543.18 L525.006 1543.18 L525.006 1547.12 L503.062 1547.12 L503.062 1543.18 Q505.724 1540.43 510.307 1535.8 Q514.914 1531.15 516.095 1529.81 Q518.34 1527.28 519.219 1525.55 Q520.122 1523.79 520.122 1522.1 Q520.122 1519.34 518.178 1517.61 Q516.257 1515.87 513.155 1515.87 Q510.956 1515.87 508.502 1516.63 Q506.071 1517.4 503.294 1518.95 L503.294 1514.23 Q506.118 1513.09 508.571 1512.51 Q511.025 1511.93 513.062 1511.93 Q518.432 1511.93 521.627 1514.62 Q524.821 1517.31 524.821 1521.8 Q524.821 1523.93 524.011 1525.85 Q523.224 1527.74 521.118 1530.34 Q520.539 1531.01 517.437 1534.23 Q514.335 1537.42 508.687 1543.18 Z\" fill=\"#000000\" fill-rule=\"evenodd\" fill-opacity=\"1\" /><path clip-path=\"url(#clip780)\" d=\"M1109.22 1516.63 L1097.42 1535.08 L1109.22 1535.08 L1109.22 1516.63 M1108 1512.56 L1113.88 1512.56 L1113.88 1535.08 L1118.81 1535.08 L1118.81 1538.97 L1113.88 1538.97 L1113.88 1547.12 L1109.22 1547.12 L1109.22 1538.97 L1093.62 1538.97 L1093.62 1534.46 L1108 1512.56 Z\" fill=\"#000000\" fill-rule=\"evenodd\" fill-opacity=\"1\" /><path clip-path=\"url(#clip780)\" d=\"M1698.8 1527.98 Q1695.65 1527.98 1693.8 1530.13 Q1691.97 1532.28 1691.97 1536.03 Q1691.97 1539.76 1693.8 1541.93 Q1695.65 1544.09 1698.8 1544.09 Q1701.95 1544.09 1703.78 1541.93 Q1705.63 1539.76 1705.63 1536.03 Q1705.63 1532.28 1703.78 1530.13 Q1701.95 1527.98 1698.8 1527.98 M1708.08 1513.32 L1708.08 1517.58 Q1706.32 1516.75 1704.52 1516.31 Q1702.74 1515.87 1700.98 1515.87 Q1696.35 1515.87 1693.89 1519 Q1691.46 1522.12 1691.12 1528.44 Q1692.48 1526.43 1694.54 1525.36 Q1696.6 1524.27 1699.08 1524.27 Q1704.29 1524.27 1707.3 1527.44 Q1710.33 1530.59 1710.33 1536.03 Q1710.33 1541.36 1707.18 1544.57 Q1704.03 1547.79 1698.8 1547.79 Q1692.81 1547.79 1689.63 1543.21 Q1686.46 1538.6 1686.46 1529.87 Q1686.46 1521.68 1690.35 1516.82 Q1694.24 1511.93 1700.79 1511.93 Q1702.55 1511.93 1704.33 1512.28 Q1706.14 1512.63 1708.08 1513.32 Z\" fill=\"#000000\" fill-rule=\"evenodd\" fill-opacity=\"1\" /><path clip-path=\"url(#clip780)\" d=\"M2290.58 1530.71 Q2287.24 1530.71 2285.32 1532.49 Q2283.42 1534.27 2283.42 1537.4 Q2283.42 1540.52 2285.32 1542.31 Q2287.24 1544.09 2290.58 1544.09 Q2293.91 1544.09 2295.83 1542.31 Q2297.75 1540.5 2297.75 1537.4 Q2297.75 1534.27 2295.83 1532.49 Q2293.93 1530.71 2290.58 1530.71 M2285.9 1528.72 Q2282.89 1527.98 2281.2 1525.92 Q2279.54 1523.86 2279.54 1520.89 Q2279.54 1516.75 2282.48 1514.34 Q2285.44 1511.93 2290.58 1511.93 Q2295.74 1511.93 2298.68 1514.34 Q2301.62 1516.75 2301.62 1520.89 Q2301.62 1523.86 2299.93 1525.92 Q2298.26 1527.98 2295.28 1528.72 Q2298.66 1529.5 2300.53 1531.8 Q2302.43 1534.09 2302.43 1537.4 Q2302.43 1542.42 2299.35 1545.11 Q2296.29 1547.79 2290.58 1547.79 Q2284.86 1547.79 2281.78 1545.11 Q2278.73 1542.42 2278.73 1537.4 Q2278.73 1534.09 2280.62 1531.8 Q2282.52 1529.5 2285.9 1528.72 M2284.19 1521.33 Q2284.19 1524.02 2285.85 1525.52 Q2287.54 1527.03 2290.58 1527.03 Q2293.59 1527.03 2295.28 1525.52 Q2296.99 1524.02 2296.99 1521.33 Q2296.99 1518.65 2295.28 1517.14 Q2293.59 1515.64 2290.58 1515.64 Q2287.54 1515.64 2285.85 1517.14 Q2284.19 1518.65 2284.19 1521.33 Z\" fill=\"#000000\" fill-rule=\"evenodd\" fill-opacity=\"1\" /><polyline clip-path=\"url(#clip782)\" style=\"stroke:#000000; stroke-linecap:butt; stroke-linejoin:round; stroke-width:2; stroke-opacity:0.1; fill:none\" points=\"\n",
       "  155.765,1445.72 2352.76,1445.72 \n",
       "  \"/>\n",
       "<polyline clip-path=\"url(#clip782)\" style=\"stroke:#000000; stroke-linecap:butt; stroke-linejoin:round; stroke-width:2; stroke-opacity:0.1; fill:none\" points=\"\n",
       "  155.765,1106.28 2352.76,1106.28 \n",
       "  \"/>\n",
       "<polyline clip-path=\"url(#clip782)\" style=\"stroke:#000000; stroke-linecap:butt; stroke-linejoin:round; stroke-width:2; stroke-opacity:0.1; fill:none\" points=\"\n",
       "  155.765,766.846 2352.76,766.846 \n",
       "  \"/>\n",
       "<polyline clip-path=\"url(#clip782)\" style=\"stroke:#000000; stroke-linecap:butt; stroke-linejoin:round; stroke-width:2; stroke-opacity:0.1; fill:none\" points=\"\n",
       "  155.765,427.411 2352.76,427.411 \n",
       "  \"/>\n",
       "<polyline clip-path=\"url(#clip782)\" style=\"stroke:#000000; stroke-linecap:butt; stroke-linejoin:round; stroke-width:2; stroke-opacity:0.1; fill:none\" points=\"\n",
       "  155.765,87.9763 2352.76,87.9763 \n",
       "  \"/>\n",
       "<polyline clip-path=\"url(#clip780)\" style=\"stroke:#000000; stroke-linecap:butt; stroke-linejoin:round; stroke-width:4; stroke-opacity:1; fill:none\" points=\"\n",
       "  155.765,1486.45 155.765,47.2441 \n",
       "  \"/>\n",
       "<polyline clip-path=\"url(#clip780)\" style=\"stroke:#000000; stroke-linecap:butt; stroke-linejoin:round; stroke-width:4; stroke-opacity:1; fill:none\" points=\"\n",
       "  155.765,1445.72 182.129,1445.72 \n",
       "  \"/>\n",
       "<polyline clip-path=\"url(#clip780)\" style=\"stroke:#000000; stroke-linecap:butt; stroke-linejoin:round; stroke-width:4; stroke-opacity:1; fill:none\" points=\"\n",
       "  155.765,1106.28 182.129,1106.28 \n",
       "  \"/>\n",
       "<polyline clip-path=\"url(#clip780)\" style=\"stroke:#000000; stroke-linecap:butt; stroke-linejoin:round; stroke-width:4; stroke-opacity:1; fill:none\" points=\"\n",
       "  155.765,766.846 182.129,766.846 \n",
       "  \"/>\n",
       "<polyline clip-path=\"url(#clip780)\" style=\"stroke:#000000; stroke-linecap:butt; stroke-linejoin:round; stroke-width:4; stroke-opacity:1; fill:none\" points=\"\n",
       "  155.765,427.411 182.129,427.411 \n",
       "  \"/>\n",
       "<polyline clip-path=\"url(#clip780)\" style=\"stroke:#000000; stroke-linecap:butt; stroke-linejoin:round; stroke-width:4; stroke-opacity:1; fill:none\" points=\"\n",
       "  155.765,87.9763 182.129,87.9763 \n",
       "  \"/>\n",
       "<path clip-path=\"url(#clip780)\" d=\"M54.3949 1459.06 L62.0337 1459.06 L62.0337 1432.69 L53.7236 1434.36 L53.7236 1430.1 L61.9874 1428.44 L66.6633 1428.44 L66.6633 1459.06 L74.3022 1459.06 L74.3022 1463 L54.3949 1463 L54.3949 1459.06 Z\" fill=\"#000000\" fill-rule=\"evenodd\" fill-opacity=\"1\" /><path clip-path=\"url(#clip780)\" d=\"M83.7466 1457.12 L88.6308 1457.12 L88.6308 1463 L83.7466 1463 L83.7466 1457.12 Z\" fill=\"#000000\" fill-rule=\"evenodd\" fill-opacity=\"1\" /><path clip-path=\"url(#clip780)\" d=\"M98.8622 1428.44 L117.219 1428.44 L117.219 1432.37 L103.145 1432.37 L103.145 1440.84 Q104.163 1440.5 105.182 1440.33 Q106.2 1440.15 107.219 1440.15 Q113.006 1440.15 116.385 1443.32 Q119.765 1446.49 119.765 1451.91 Q119.765 1457.49 116.293 1460.59 Q112.82 1463.67 106.501 1463.67 Q104.325 1463.67 102.057 1463.3 Q99.8113 1462.93 97.4039 1462.19 L97.4039 1457.49 Q99.4872 1458.62 101.709 1459.18 Q103.932 1459.73 106.408 1459.73 Q110.413 1459.73 112.751 1457.63 Q115.089 1455.52 115.089 1451.91 Q115.089 1448.3 112.751 1446.19 Q110.413 1444.08 106.408 1444.08 Q104.534 1444.08 102.659 1444.5 Q100.807 1444.92 98.8622 1445.8 L98.8622 1428.44 Z\" fill=\"#000000\" fill-rule=\"evenodd\" fill-opacity=\"1\" /><path clip-path=\"url(#clip780)\" d=\"M56.6171 1119.63 L72.9365 1119.63 L72.9365 1123.56 L50.9921 1123.56 L50.9921 1119.63 Q53.6541 1116.87 58.2375 1112.24 Q62.8439 1107.59 64.0245 1106.25 Q66.2698 1103.72 67.1494 1101.99 Q68.0522 1100.23 68.0522 1098.54 Q68.0522 1095.78 66.1078 1094.05 Q64.1865 1092.31 61.0847 1092.31 Q58.8856 1092.31 56.4319 1093.07 Q54.0014 1093.84 51.2236 1095.39 L51.2236 1090.67 Q54.0477 1089.53 56.5014 1088.95 Q58.955 1088.38 60.9921 1088.38 Q66.3624 1088.38 69.5568 1091.06 Q72.7513 1093.75 72.7513 1098.24 Q72.7513 1100.37 71.9411 1102.29 Q71.1541 1104.19 69.0476 1106.78 Q68.4689 1107.45 65.367 1110.67 Q62.2652 1113.86 56.6171 1119.63 Z\" fill=\"#000000\" fill-rule=\"evenodd\" fill-opacity=\"1\" /><path clip-path=\"url(#clip780)\" d=\"M82.7512 1117.68 L87.6354 1117.68 L87.6354 1123.56 L82.7512 1123.56 L82.7512 1117.68 Z\" fill=\"#000000\" fill-rule=\"evenodd\" fill-opacity=\"1\" /><path clip-path=\"url(#clip780)\" d=\"M107.821 1092.08 Q104.209 1092.08 102.381 1095.64 Q100.575 1099.19 100.575 1106.32 Q100.575 1113.42 102.381 1116.99 Q104.209 1120.53 107.821 1120.53 Q111.455 1120.53 113.26 1116.99 Q115.089 1113.42 115.089 1106.32 Q115.089 1099.19 113.26 1095.64 Q111.455 1092.08 107.821 1092.08 M107.821 1088.38 Q113.631 1088.38 116.686 1092.98 Q119.765 1097.57 119.765 1106.32 Q119.765 1115.04 116.686 1119.65 Q113.631 1124.23 107.821 1124.23 Q102.01 1124.23 98.9317 1119.65 Q95.8761 1115.04 95.8761 1106.32 Q95.8761 1097.57 98.9317 1092.98 Q102.01 1088.38 107.821 1088.38 Z\" fill=\"#000000\" fill-rule=\"evenodd\" fill-opacity=\"1\" /><path clip-path=\"url(#clip780)\" d=\"M57.6125 780.191 L73.9318 780.191 L73.9318 784.126 L51.9875 784.126 L51.9875 780.191 Q54.6495 777.436 59.2328 772.807 Q63.8393 768.154 65.0198 766.811 Q67.2652 764.288 68.1448 762.552 Q69.0476 760.793 69.0476 759.103 Q69.0476 756.348 67.1032 754.612 Q65.1819 752.876 62.08 752.876 Q59.881 752.876 57.4273 753.64 Q54.9967 754.404 52.219 755.955 L52.219 751.233 Q55.043 750.098 57.4967 749.52 Q59.9504 748.941 61.9874 748.941 Q67.3578 748.941 70.5522 751.626 Q73.7466 754.311 73.7466 758.802 Q73.7466 760.932 72.9365 762.853 Q72.1494 764.751 70.0429 767.344 Q69.4642 768.015 66.3624 771.233 Q63.2606 774.427 57.6125 780.191 Z\" fill=\"#000000\" fill-rule=\"evenodd\" fill-opacity=\"1\" /><path clip-path=\"url(#clip780)\" d=\"M83.7466 778.246 L88.6308 778.246 L88.6308 784.126 L83.7466 784.126 L83.7466 778.246 Z\" fill=\"#000000\" fill-rule=\"evenodd\" fill-opacity=\"1\" /><path clip-path=\"url(#clip780)\" d=\"M98.8622 749.566 L117.219 749.566 L117.219 753.501 L103.145 753.501 L103.145 761.973 Q104.163 761.626 105.182 761.464 Q106.2 761.279 107.219 761.279 Q113.006 761.279 116.385 764.45 Q119.765 767.621 119.765 773.038 Q119.765 778.617 116.293 781.719 Q112.82 784.797 106.501 784.797 Q104.325 784.797 102.057 784.427 Q99.8113 784.057 97.4039 783.316 L97.4039 778.617 Q99.4872 779.751 101.709 780.307 Q103.932 780.862 106.408 780.862 Q110.413 780.862 112.751 778.756 Q115.089 776.649 115.089 773.038 Q115.089 769.427 112.751 767.321 Q110.413 765.214 106.408 765.214 Q104.534 765.214 102.659 765.631 Q100.807 766.047 98.8622 766.927 L98.8622 749.566 Z\" fill=\"#000000\" fill-rule=\"evenodd\" fill-opacity=\"1\" /><path clip-path=\"url(#clip780)\" d=\"M66.7559 426.057 Q70.1124 426.775 71.9874 429.043 Q73.8855 431.312 73.8855 434.645 Q73.8855 439.761 70.367 442.562 Q66.8485 445.362 60.3671 445.362 Q58.1912 445.362 55.8764 444.923 Q53.5847 444.506 51.131 443.649 L51.131 439.136 Q53.0754 440.27 55.3903 440.849 Q57.7051 441.427 60.2282 441.427 Q64.6263 441.427 66.918 439.691 Q69.2328 437.955 69.2328 434.645 Q69.2328 431.589 67.08 429.876 Q64.9504 428.14 61.131 428.14 L57.1032 428.14 L57.1032 424.298 L61.3161 424.298 Q64.7652 424.298 66.5939 422.932 Q68.4226 421.543 68.4226 418.951 Q68.4226 416.289 66.5245 414.876 Q64.6495 413.441 61.131 413.441 Q59.2097 413.441 57.0106 413.858 Q54.8115 414.275 52.1727 415.154 L52.1727 410.988 Q54.8347 410.247 57.1495 409.877 Q59.4875 409.506 61.5476 409.506 Q66.8717 409.506 69.9735 411.937 Q73.0753 414.344 73.0753 418.464 Q73.0753 421.335 71.4318 423.326 Q69.7883 425.293 66.7559 426.057 Z\" fill=\"#000000\" fill-rule=\"evenodd\" fill-opacity=\"1\" /><path clip-path=\"url(#clip780)\" d=\"M82.7512 438.812 L87.6354 438.812 L87.6354 444.691 L82.7512 444.691 L82.7512 438.812 Z\" fill=\"#000000\" fill-rule=\"evenodd\" fill-opacity=\"1\" /><path clip-path=\"url(#clip780)\" d=\"M107.821 413.21 Q104.209 413.21 102.381 416.775 Q100.575 420.316 100.575 427.446 Q100.575 434.552 102.381 438.117 Q104.209 441.659 107.821 441.659 Q111.455 441.659 113.26 438.117 Q115.089 434.552 115.089 427.446 Q115.089 420.316 113.26 416.775 Q111.455 413.21 107.821 413.21 M107.821 409.506 Q113.631 409.506 116.686 414.113 Q119.765 418.696 119.765 427.446 Q119.765 436.173 116.686 440.779 Q113.631 445.362 107.821 445.362 Q102.01 445.362 98.9317 440.779 Q95.8761 436.173 95.8761 427.446 Q95.8761 418.696 98.9317 414.113 Q102.01 409.506 107.821 409.506 Z\" fill=\"#000000\" fill-rule=\"evenodd\" fill-opacity=\"1\" /><path clip-path=\"url(#clip780)\" d=\"M67.7513 86.6221 Q71.1078 87.3397 72.9827 89.6082 Q74.8809 91.8767 74.8809 95.21 Q74.8809 100.326 71.3624 103.127 Q67.8439 105.928 61.3624 105.928 Q59.1865 105.928 56.8717 105.488 Q54.5801 105.071 52.1264 104.215 L52.1264 99.7008 Q54.0708 100.835 56.3856 101.414 Q58.7004 101.992 61.2236 101.992 Q65.6217 101.992 67.9133 100.256 Q70.2281 98.5202 70.2281 95.21 Q70.2281 92.1545 68.0754 90.4415 Q65.9457 88.7054 62.1263 88.7054 L58.0986 88.7054 L58.0986 84.8629 L62.3115 84.8629 Q65.7606 84.8629 67.5893 83.4971 Q69.418 82.1083 69.418 79.5157 Q69.418 76.8537 67.5198 75.4416 Q65.6448 74.0064 62.1263 74.0064 Q60.205 74.0064 58.006 74.4231 Q55.8069 74.8398 53.168 75.7194 L53.168 71.5528 Q55.8301 70.812 58.1449 70.4416 Q60.4828 70.0713 62.543 70.0713 Q67.867 70.0713 70.9689 72.5018 Q74.0707 74.9092 74.0707 79.0296 Q74.0707 81.8999 72.4272 83.8907 Q70.7837 85.8582 67.7513 86.6221 Z\" fill=\"#000000\" fill-rule=\"evenodd\" fill-opacity=\"1\" /><path clip-path=\"url(#clip780)\" d=\"M83.7466 99.3767 L88.6308 99.3767 L88.6308 105.256 L83.7466 105.256 L83.7466 99.3767 Z\" fill=\"#000000\" fill-rule=\"evenodd\" fill-opacity=\"1\" /><path clip-path=\"url(#clip780)\" d=\"M98.8622 70.6963 L117.219 70.6963 L117.219 74.6314 L103.145 74.6314 L103.145 83.1036 Q104.163 82.7564 105.182 82.5944 Q106.2 82.4092 107.219 82.4092 Q113.006 82.4092 116.385 85.5805 Q119.765 88.7517 119.765 94.1684 Q119.765 99.747 116.293 102.849 Q112.82 105.928 106.501 105.928 Q104.325 105.928 102.057 105.557 Q99.8113 105.187 97.4039 104.446 L97.4039 99.747 Q99.4872 100.881 101.709 101.437 Q103.932 101.992 106.408 101.992 Q110.413 101.992 112.751 99.8859 Q115.089 97.7795 115.089 94.1684 Q115.089 90.5573 112.751 88.4508 Q110.413 86.3443 106.408 86.3443 Q104.534 86.3443 102.659 86.761 Q100.807 87.1777 98.8622 88.0573 L98.8622 70.6963 Z\" fill=\"#000000\" fill-rule=\"evenodd\" fill-opacity=\"1\" /><circle clip-path=\"url(#clip782)\" cx=\"217.944\" cy=\"427.411\" r=\"3\" fill=\"#009af9\" fill-rule=\"evenodd\" fill-opacity=\"1\" stroke=\"#000000\" stroke-opacity=\"1\" stroke-width=\"3.2\"/>\n",
       "<circle clip-path=\"url(#clip782)\" cx=\"514.034\" cy=\"427.411\" r=\"37\" fill=\"#009af9\" fill-rule=\"evenodd\" fill-opacity=\"1\" stroke=\"#000000\" stroke-opacity=\"1\" stroke-width=\"3.2\"/>\n",
       "<circle clip-path=\"url(#clip782)\" cx=\"810.125\" cy=\"427.411\" r=\"5\" fill=\"#009af9\" fill-rule=\"evenodd\" fill-opacity=\"1\" stroke=\"#000000\" stroke-opacity=\"1\" stroke-width=\"3.2\"/>\n",
       "<circle clip-path=\"url(#clip782)\" cx=\"1106.22\" cy=\"427.411\" r=\"25\" fill=\"#009af9\" fill-rule=\"evenodd\" fill-opacity=\"1\" stroke=\"#000000\" stroke-opacity=\"1\" stroke-width=\"3.2\"/>\n",
       "<circle clip-path=\"url(#clip782)\" cx=\"217.944\" cy=\"1106.28\" r=\"14\" fill=\"#e26f46\" fill-rule=\"evenodd\" fill-opacity=\"1\" stroke=\"#000000\" stroke-opacity=\"1\" stroke-width=\"3.2\"/>\n",
       "<circle clip-path=\"url(#clip782)\" cx=\"514.034\" cy=\"1106.28\" r=\"10\" fill=\"#e26f46\" fill-rule=\"evenodd\" fill-opacity=\"1\" stroke=\"#000000\" stroke-opacity=\"1\" stroke-width=\"3.2\"/>\n",
       "<circle clip-path=\"url(#clip782)\" style=\"fill:#e26f46; stroke:none; fill-opacity:1\" cx=\"810.125\" cy=\"1106.28\" r=\"2\"/>\n",
       "<circle clip-path=\"url(#clip782)\" cx=\"1106.22\" cy=\"1106.28\" r=\"13\" fill=\"#e26f46\" fill-rule=\"evenodd\" fill-opacity=\"1\" stroke=\"#000000\" stroke-opacity=\"1\" stroke-width=\"3.2\"/>\n",
       "<circle clip-path=\"url(#clip782)\" cx=\"1402.31\" cy=\"1106.28\" r=\"9\" fill=\"#e26f46\" fill-rule=\"evenodd\" fill-opacity=\"1\" stroke=\"#000000\" stroke-opacity=\"1\" stroke-width=\"3.2\"/>\n",
       "<circle clip-path=\"url(#clip782)\" cx=\"1698.4\" cy=\"1106.28\" r=\"10\" fill=\"#e26f46\" fill-rule=\"evenodd\" fill-opacity=\"1\" stroke=\"#000000\" stroke-opacity=\"1\" stroke-width=\"3.2\"/>\n",
       "<circle clip-path=\"url(#clip782)\" cx=\"1994.49\" cy=\"1106.28\" r=\"1\" fill=\"#e26f46\" fill-rule=\"evenodd\" fill-opacity=\"1\" stroke=\"#000000\" stroke-opacity=\"1\" stroke-width=\"3.2\"/>\n",
       "<circle clip-path=\"url(#clip782)\" cx=\"2290.58\" cy=\"1106.28\" r=\"12\" fill=\"#e26f46\" fill-rule=\"evenodd\" fill-opacity=\"1\" stroke=\"#000000\" stroke-opacity=\"1\" stroke-width=\"3.2\"/>\n",
       "<circle clip-path=\"url(#clip782)\" cx=\"217.944\" cy=\"1106.28\" r=\"14\" fill=\"#3da44d\" fill-rule=\"evenodd\" fill-opacity=\"1\" stroke=\"#000000\" stroke-opacity=\"1\" stroke-width=\"3.2\"/>\n",
       "<circle clip-path=\"url(#clip782)\" cx=\"514.034\" cy=\"1106.28\" r=\"10\" fill=\"#3da44d\" fill-rule=\"evenodd\" fill-opacity=\"1\" stroke=\"#000000\" stroke-opacity=\"1\" stroke-width=\"3.2\"/>\n",
       "<circle clip-path=\"url(#clip782)\" style=\"fill:#3da44d; stroke:none; fill-opacity:1\" cx=\"810.125\" cy=\"1106.28\" r=\"2\"/>\n",
       "<circle clip-path=\"url(#clip782)\" cx=\"1106.22\" cy=\"1106.28\" r=\"13\" fill=\"#3da44d\" fill-rule=\"evenodd\" fill-opacity=\"1\" stroke=\"#000000\" stroke-opacity=\"1\" stroke-width=\"3.2\"/>\n",
       "<circle clip-path=\"url(#clip782)\" cx=\"1402.31\" cy=\"1106.28\" r=\"9\" fill=\"#3da44d\" fill-rule=\"evenodd\" fill-opacity=\"1\" stroke=\"#000000\" stroke-opacity=\"1\" stroke-width=\"3.2\"/>\n",
       "<circle clip-path=\"url(#clip782)\" cx=\"1698.4\" cy=\"1106.28\" r=\"10\" fill=\"#3da44d\" fill-rule=\"evenodd\" fill-opacity=\"1\" stroke=\"#000000\" stroke-opacity=\"1\" stroke-width=\"3.2\"/>\n",
       "<circle clip-path=\"url(#clip782)\" cx=\"1994.49\" cy=\"1106.28\" r=\"1\" fill=\"#3da44d\" fill-rule=\"evenodd\" fill-opacity=\"1\" stroke=\"#000000\" stroke-opacity=\"1\" stroke-width=\"3.2\"/>\n",
       "<circle clip-path=\"url(#clip782)\" cx=\"2290.58\" cy=\"1106.28\" r=\"12\" fill=\"#3da44d\" fill-rule=\"evenodd\" fill-opacity=\"1\" stroke=\"#000000\" stroke-opacity=\"1\" stroke-width=\"3.2\"/>\n",
       "<path clip-path=\"url(#clip780)\" d=\"\n",
       "M1982.4 302.578 L2279.52 302.578 L2279.52 95.2176 L1982.4 95.2176  Z\n",
       "  \" fill=\"#ffffff\" fill-rule=\"evenodd\" fill-opacity=\"1\"/>\n",
       "<polyline clip-path=\"url(#clip780)\" style=\"stroke:#000000; stroke-linecap:butt; stroke-linejoin:round; stroke-width:4; stroke-opacity:1; fill:none\" points=\"\n",
       "  1982.4,302.578 2279.52,302.578 2279.52,95.2176 1982.4,95.2176 1982.4,302.578 \n",
       "  \"/>\n",
       "<circle clip-path=\"url(#clip780)\" cx=\"2080.05\" cy=\"147.058\" r=\"23\" fill=\"#009af9\" fill-rule=\"evenodd\" fill-opacity=\"1\" stroke=\"#000000\" stroke-opacity=\"1\" stroke-width=\"22.2702\"/>\n",
       "<path clip-path=\"url(#clip780)\" d=\"M2191.53 166.745 Q2189.73 171.375 2188.02 172.787 Q2186.3 174.199 2183.43 174.199 L2180.03 174.199 L2180.03 170.634 L2182.53 170.634 Q2184.29 170.634 2185.26 169.8 Q2186.23 168.967 2187.41 165.865 L2188.18 163.921 L2177.69 138.412 L2182.21 138.412 L2190.31 158.689 L2198.41 138.412 L2202.92 138.412 L2191.53 166.745 Z\" fill=\"#000000\" fill-rule=\"evenodd\" fill-opacity=\"1\" /><path clip-path=\"url(#clip780)\" d=\"M2210.21 160.402 L2217.85 160.402 L2217.85 134.037 L2209.54 135.703 L2209.54 131.444 L2217.81 129.778 L2222.48 129.778 L2222.48 160.402 L2230.12 160.402 L2230.12 164.338 L2210.21 164.338 L2210.21 160.402 Z\" fill=\"#000000\" fill-rule=\"evenodd\" fill-opacity=\"1\" /><circle clip-path=\"url(#clip780)\" cx=\"2080.05\" cy=\"198.898\" r=\"23\" fill=\"#e26f46\" fill-rule=\"evenodd\" fill-opacity=\"1\" stroke=\"#000000\" stroke-opacity=\"1\" stroke-width=\"5.1041\"/>\n",
       "<path clip-path=\"url(#clip780)\" d=\"M2191.53 218.585 Q2189.73 223.215 2188.02 224.627 Q2186.3 226.039 2183.43 226.039 L2180.03 226.039 L2180.03 222.474 L2182.53 222.474 Q2184.29 222.474 2185.26 221.64 Q2186.23 220.807 2187.41 217.705 L2188.18 215.761 L2177.69 190.252 L2182.21 190.252 L2190.31 210.529 L2198.41 190.252 L2202.92 190.252 L2191.53 218.585 Z\" fill=\"#000000\" fill-rule=\"evenodd\" fill-opacity=\"1\" /><path clip-path=\"url(#clip780)\" d=\"M2213.43 212.242 L2229.75 212.242 L2229.75 216.178 L2207.81 216.178 L2207.81 212.242 Q2210.47 209.488 2215.05 204.858 Q2219.66 200.205 2220.84 198.863 Q2223.09 196.34 2223.96 194.604 Q2224.87 192.844 2224.87 191.155 Q2224.87 188.4 2222.92 186.664 Q2221 184.928 2217.9 184.928 Q2215.7 184.928 2213.25 185.692 Q2210.82 186.455 2208.04 188.006 L2208.04 183.284 Q2210.86 182.15 2213.32 181.571 Q2215.77 180.993 2217.81 180.993 Q2223.18 180.993 2226.37 183.678 Q2229.57 186.363 2229.57 190.854 Q2229.57 192.983 2228.76 194.905 Q2227.97 196.803 2225.86 199.395 Q2225.28 200.067 2222.18 203.284 Q2219.08 206.479 2213.43 212.242 Z\" fill=\"#000000\" fill-rule=\"evenodd\" fill-opacity=\"1\" /><circle clip-path=\"url(#clip780)\" cx=\"2080.05\" cy=\"250.738\" r=\"23\" fill=\"#3da44d\" fill-rule=\"evenodd\" fill-opacity=\"1\" stroke=\"#000000\" stroke-opacity=\"1\" stroke-width=\"5.1041\"/>\n",
       "<path clip-path=\"url(#clip780)\" d=\"M2191.53 270.425 Q2189.73 275.055 2188.02 276.467 Q2186.3 277.879 2183.43 277.879 L2180.03 277.879 L2180.03 274.314 L2182.53 274.314 Q2184.29 274.314 2185.26 273.48 Q2186.23 272.647 2187.41 269.545 L2188.18 267.601 L2177.69 242.092 L2182.21 242.092 L2190.31 262.369 L2198.41 242.092 L2202.92 242.092 L2191.53 270.425 Z\" fill=\"#000000\" fill-rule=\"evenodd\" fill-opacity=\"1\" /><path clip-path=\"url(#clip780)\" d=\"M2223.57 249.383 Q2226.93 250.101 2228.8 252.369 Q2230.7 254.638 2230.7 257.971 Q2230.7 263.087 2227.18 265.888 Q2223.66 268.689 2217.18 268.689 Q2215.01 268.689 2212.69 268.249 Q2210.4 267.832 2207.95 266.976 L2207.95 262.462 Q2209.89 263.596 2212.21 264.175 Q2214.52 264.754 2217.04 264.754 Q2221.44 264.754 2223.73 263.018 Q2226.05 261.281 2226.05 257.971 Q2226.05 254.916 2223.9 253.203 Q2221.77 251.467 2217.95 251.467 L2213.92 251.467 L2213.92 247.624 L2218.13 247.624 Q2221.58 247.624 2223.41 246.258 Q2225.24 244.87 2225.24 242.277 Q2225.24 239.615 2223.34 238.203 Q2221.46 236.768 2217.95 236.768 Q2216.03 236.768 2213.83 237.184 Q2211.63 237.601 2208.99 238.481 L2208.99 234.314 Q2211.65 233.573 2213.96 233.203 Q2216.3 232.833 2218.36 232.833 Q2223.69 232.833 2226.79 235.263 Q2229.89 237.67 2229.89 241.791 Q2229.89 244.661 2228.25 246.652 Q2226.6 248.62 2223.57 249.383 Z\" fill=\"#000000\" fill-rule=\"evenodd\" fill-opacity=\"1\" /></svg>\n"
      ]
     },
     "execution_count": 34,
     "metadata": {},
     "output_type": "execute_result"
    }
   ],
   "source": [
    "scatter!(yy, ms = 20*pb, ylims=[1.5,3.5])"
   ]
  },
  {
   "cell_type": "code",
   "execution_count": null,
   "id": "f4a4d554",
   "metadata": {},
   "outputs": [],
   "source": []
  }
 ],
 "metadata": {
  "kernelspec": {
   "display_name": "Julia 1.6.1",
   "language": "julia",
   "name": "julia-1.6"
  },
  "language_info": {
   "file_extension": ".jl",
   "mimetype": "application/julia",
   "name": "julia",
   "version": "1.6.1"
  }
 },
 "nbformat": 4,
 "nbformat_minor": 5
}
