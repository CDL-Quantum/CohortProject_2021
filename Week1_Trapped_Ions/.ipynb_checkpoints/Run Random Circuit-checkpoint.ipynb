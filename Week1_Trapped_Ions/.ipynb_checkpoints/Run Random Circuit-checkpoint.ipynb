{
 "cells": [
  {
   "cell_type": "code",
   "execution_count": 2,
   "id": "47c1d3f6",
   "metadata": {},
   "outputs": [],
   "source": [
    "using Pkg\n",
    "Pkg.build(\"HDF5\")"
   ]
  },
  {
   "cell_type": "code",
   "execution_count": 3,
   "id": "73d7e795",
   "metadata": {},
   "outputs": [],
   "source": [
    "Pkg.add(\"ITensors\")"
   ]
  },
  {
   "cell_type": "code",
   "execution_count": 4,
   "id": "63de31df",
   "metadata": {},
   "outputs": [
    {
     "name": "stderr",
     "output_type": "stream",
     "text": [
      "┌ Info: Precompiling PastaQ [30b07047-aa8b-4c78-a4e8-24d720215c19]\n",
      "└ @ Base loading.jl:1317\n"
     ]
    }
   ],
   "source": [
    "using PastaQ\n",
    "using Sockets\n",
    "using ITensors"
   ]
  },
  {
   "cell_type": "code",
   "execution_count": 5,
   "id": "efbe6a8c",
   "metadata": {},
   "outputs": [],
   "source": [
    "function PastaQ.gate(::GateName\"R\"; theta::Real, phi::Real)\n",
    "    [\n",
    "        cos(theta/2)    (-im * exp(-im * phi) * sin(theta/2))\n",
    "        (-im * exp(im * phi) * sin(theta/2))     cos(theta/2)\n",
    "    ]\n",
    "end"
   ]
  },
  {
   "cell_type": "code",
   "execution_count": 6,
   "id": "9255ec6b",
   "metadata": {},
   "outputs": [],
   "source": [
    "function PastaQ.gate(::GateName\"M\"; Theta::Real)\n",
    "    [\n",
    "        cos(Theta)    0    0    (-im * sin(Theta))\n",
    "        0    cos(Theta)    (-im * sin(Theta))    0\n",
    "        0    (-im * sin(Theta))    cos(Theta)    0\n",
    "        (-im * sin(Theta))    0    0    cos(Theta)\n",
    "    ]\n",
    "end"
   ]
  },
  {
   "cell_type": "code",
   "execution_count": 35,
   "id": "e21b146a",
   "metadata": {},
   "outputs": [
    {
     "data": {
      "text/plain": [
       "run (generic function with 1 method)"
      ]
     },
     "execution_count": 35,
     "metadata": {},
     "output_type": "execute_result"
    }
   ],
   "source": [
    "function run(N, depth, nshot)\n",
    "    # Random circuit.\n",
    "    gates = Vector{Tuple}[]\n",
    "\n",
    "    for i in 1:depth\n",
    "        one_qubit_layer = Tuple[]\n",
    "        two_qubit_layer = Tuple[]\n",
    "\n",
    "        for j in 1:N\n",
    "            gate = (\"R\", j, (theta=2pi*rand(), phi=2pi*rand()))\n",
    "            push!(one_qubit_layer, gate)\n",
    "        end\n",
    "\n",
    "        # Alternate start qubit for pairs.\n",
    "        idx_first = i % 2 + 1\n",
    "\n",
    "        for j in idx_first:2:(N-1)\n",
    "            gate = (\"M\", (j, j+1), (Theta=2pi*rand(),))\n",
    "            push!(two_qubit_layer, gate)\n",
    "        end\n",
    "\n",
    "        push!(gates, one_qubit_layer)\n",
    "        push!(gates, two_qubit_layer)\n",
    "    end\n",
    "\n",
    "    #psi = runcircuit(N, gates)\n",
    "    data, psi = getsamples(N, gates, nshots,local_basis = [\"Z\"])\n",
    "    \n",
    "end\n"
   ]
  },
  {
   "cell_type": "code",
   "execution_count": 92,
   "id": "1b8c9ac2",
   "metadata": {},
   "outputs": [
    {
     "data": {
      "text/plain": [
       "([\"Z\" => 1 \"Z\" => 1 … \"Z\" => 1 \"Z\" => 1; \"Z\" => 1 \"Z\" => 1 … \"Z\" => 1 \"Z\" => 1; … ; \"Z\" => 1 \"Z\" => 1 … \"Z\" => 1 \"Z\" => 0; \"Z\" => 1 \"Z\" => 1 … \"Z\" => 1 \"Z\" => 1], MPS\n",
       "[1] IndexSet{2} (dim=2|id=356|\"Qubit,Site,n=1\") (dim=2|id=480|\"Link,fact\")\n",
       "[2] IndexSet{3} (dim=2|id=994|\"Qubit,Site,n=2\") (dim=2|id=480|\"Link,fact\") (dim=4|id=269|\"Link,fact\")\n",
       "[3] IndexSet{3} (dim=4|id=269|\"Link,fact\") (dim=2|id=169|\"Qubit,Site,n=3\") (dim=4|id=850|\"Link,fact\")\n",
       "[4] IndexSet{3} (dim=2|id=564|\"Qubit,Site,n=4\") (dim=4|id=850|\"Link,fact\") (dim=8|id=576|\"Link,fact\")\n",
       "[5] IndexSet{3} (dim=8|id=576|\"Link,fact\") (dim=2|id=762|\"Qubit,Site,n=5\") (dim=4|id=620|\"Link,fact\")\n",
       "[6] IndexSet{3} (dim=2|id=575|\"Qubit,Site,n=6\") (dim=4|id=620|\"Link,fact\") (dim=8|id=484|\"Link,fact\")\n",
       "[7] IndexSet{3} (dim=8|id=484|\"Link,fact\") (dim=2|id=405|\"Qubit,Site,n=7\") (dim=4|id=159|\"Link,fact\")\n",
       "[8] IndexSet{3} (dim=2|id=332|\"Qubit,Site,n=8\") (dim=4|id=159|\"Link,fact\") (dim=8|id=877|\"Link,fact\")\n",
       "[9] IndexSet{3} (dim=8|id=877|\"Link,fact\") (dim=2|id=604|\"Qubit,Site,n=9\") (dim=4|id=346|\"Link,fact\")\n",
       "[10] IndexSet{3} (dim=2|id=456|\"Qubit,Site,n=10\") (dim=4|id=346|\"Link,fact\") (dim=8|id=985|\"Link,fact\")\n",
       "[11] IndexSet{3} (dim=8|id=985|\"Link,fact\") (dim=2|id=617|\"Qubit,Site,n=11\") (dim=4|id=17|\"Link,fact\")\n",
       "[12] IndexSet{3} (dim=2|id=292|\"Qubit,Site,n=12\") (dim=4|id=17|\"Link,fact\") (dim=8|id=561|\"Link,fact\")\n",
       "[13] IndexSet{3} (dim=8|id=561|\"Link,fact\") (dim=2|id=892|\"Qubit,Site,n=13\") (dim=4|id=659|\"Link,fact\")\n",
       "[14] IndexSet{3} (dim=2|id=656|\"Qubit,Site,n=14\") (dim=4|id=659|\"Link,fact\") (dim=8|id=19|\"Link,fact\")\n",
       "[15] IndexSet{3} (dim=8|id=19|\"Link,fact\") (dim=2|id=553|\"Qubit,Site,n=15\") (dim=4|id=158|\"Link,fact\")\n",
       "[16] IndexSet{3} (dim=2|id=560|\"Qubit,Site,n=16\") (dim=4|id=158|\"Link,fact\") (dim=8|id=957|\"Link,fact\")\n",
       "[17] IndexSet{3} (dim=8|id=957|\"Link,fact\") (dim=2|id=661|\"Qubit,Site,n=17\") (dim=4|id=168|\"Link,fact\")\n",
       "[18] IndexSet{3} (dim=2|id=939|\"Qubit,Site,n=18\") (dim=4|id=168|\"Link,fact\") (dim=4|id=994|\"Link,fact\")\n",
       "[19] IndexSet{3} (dim=4|id=994|\"Link,fact\") (dim=2|id=554|\"Qubit,Site,n=19\") (dim=2|id=662|\"Link,fact\")\n",
       "[20] IndexSet{2} (dim=2|id=783|\"Qubit,Site,n=20\") (dim=2|id=662|\"Link,fact\")\n",
       ")"
      ]
     },
     "execution_count": 92,
     "metadata": {},
     "output_type": "execute_result"
    }
   ],
   "source": [
    "nshots=100\n",
    "N=20;\n",
    "depth=5;\n",
    "data,ρ= run(N, depth,nshots)"
   ]
  },
  {
   "cell_type": "code",
   "execution_count": 103,
   "id": "b5960596",
   "metadata": {},
   "outputs": [
    {
     "data": {
      "text/plain": [
       "20-element Vector{Float64}:\n",
       " 0.94\n",
       " 0.79\n",
       " 0.9\n",
       " 0.36\n",
       " 0.32\n",
       " 0.62\n",
       " 0.4\n",
       " 0.59\n",
       " 0.33\n",
       " 0.67\n",
       " 0.54\n",
       " 0.24\n",
       " 0.35\n",
       " 0.37\n",
       " 0.48\n",
       " 0.49\n",
       " 0.39\n",
       " 0.82\n",
       " 0.84\n",
       " 0.59"
      ]
     },
     "execution_count": 103,
     "metadata": {},
     "output_type": "execute_result"
    }
   ],
   "source": [
    "function proj(j,size)\n",
    "    a=[data[i][2] for i=(j-1)*size+1:(j)*size]\n",
    "    a1=count(i->(i==1),a)/size\n",
    "    a1\n",
    "end\n",
    "Mdata=[proj(i,nshots) for i=1:20] "
   ]
  },
  {
   "cell_type": "code",
   "execution_count": 104,
   "id": "a6aadc68",
   "metadata": {},
   "outputs": [
    {
     "data": {
      "image/svg+xml": [
       "<?xml version=\"1.0\" encoding=\"utf-8\"?>\n",
       "<svg xmlns=\"http://www.w3.org/2000/svg\" xmlns:xlink=\"http://www.w3.org/1999/xlink\" width=\"600\" height=\"400\" viewBox=\"0 0 2400 1600\">\n",
       "<defs>\n",
       "  <clipPath id=\"clip670\">\n",
       "    <rect x=\"0\" y=\"0\" width=\"2400\" height=\"1600\"/>\n",
       "  </clipPath>\n",
       "</defs>\n",
       "<path clip-path=\"url(#clip670)\" d=\"\n",
       "M0 1600 L2400 1600 L2400 0 L0 0  Z\n",
       "  \" fill=\"#ffffff\" fill-rule=\"evenodd\" fill-opacity=\"1\"/>\n",
       "<defs>\n",
       "  <clipPath id=\"clip671\">\n",
       "    <rect x=\"480\" y=\"0\" width=\"1681\" height=\"1600\"/>\n",
       "  </clipPath>\n",
       "</defs>\n",
       "<path clip-path=\"url(#clip670)\" d=\"\n",
       "M156.598 1486.45 L2352.76 1486.45 L2352.76 47.2441 L156.598 47.2441  Z\n",
       "  \" fill=\"#ffffff\" fill-rule=\"evenodd\" fill-opacity=\"1\"/>\n",
       "<defs>\n",
       "  <clipPath id=\"clip672\">\n",
       "    <rect x=\"156\" y=\"47\" width=\"2197\" height=\"1440\"/>\n",
       "  </clipPath>\n",
       "</defs>\n",
       "<polyline clip-path=\"url(#clip672)\" style=\"stroke:#000000; stroke-linecap:butt; stroke-linejoin:round; stroke-width:2; stroke-opacity:0.1; fill:none\" points=\"\n",
       "  654.932,1486.45 654.932,47.2441 \n",
       "  \"/>\n",
       "<polyline clip-path=\"url(#clip672)\" style=\"stroke:#000000; stroke-linecap:butt; stroke-linejoin:round; stroke-width:2; stroke-opacity:0.1; fill:none\" points=\"\n",
       "  1200.15,1486.45 1200.15,47.2441 \n",
       "  \"/>\n",
       "<polyline clip-path=\"url(#clip672)\" style=\"stroke:#000000; stroke-linecap:butt; stroke-linejoin:round; stroke-width:2; stroke-opacity:0.1; fill:none\" points=\"\n",
       "  1745.38,1486.45 1745.38,47.2441 \n",
       "  \"/>\n",
       "<polyline clip-path=\"url(#clip672)\" style=\"stroke:#000000; stroke-linecap:butt; stroke-linejoin:round; stroke-width:2; stroke-opacity:0.1; fill:none\" points=\"\n",
       "  2290.6,1486.45 2290.6,47.2441 \n",
       "  \"/>\n",
       "<polyline clip-path=\"url(#clip670)\" style=\"stroke:#000000; stroke-linecap:butt; stroke-linejoin:round; stroke-width:4; stroke-opacity:1; fill:none\" points=\"\n",
       "  156.598,1486.45 2352.76,1486.45 \n",
       "  \"/>\n",
       "<polyline clip-path=\"url(#clip670)\" style=\"stroke:#000000; stroke-linecap:butt; stroke-linejoin:round; stroke-width:4; stroke-opacity:1; fill:none\" points=\"\n",
       "  654.932,1486.45 654.932,1469.18 \n",
       "  \"/>\n",
       "<polyline clip-path=\"url(#clip670)\" style=\"stroke:#000000; stroke-linecap:butt; stroke-linejoin:round; stroke-width:4; stroke-opacity:1; fill:none\" points=\"\n",
       "  1200.15,1486.45 1200.15,1469.18 \n",
       "  \"/>\n",
       "<polyline clip-path=\"url(#clip670)\" style=\"stroke:#000000; stroke-linecap:butt; stroke-linejoin:round; stroke-width:4; stroke-opacity:1; fill:none\" points=\"\n",
       "  1745.38,1486.45 1745.38,1469.18 \n",
       "  \"/>\n",
       "<polyline clip-path=\"url(#clip670)\" style=\"stroke:#000000; stroke-linecap:butt; stroke-linejoin:round; stroke-width:4; stroke-opacity:1; fill:none\" points=\"\n",
       "  2290.6,1486.45 2290.6,1469.18 \n",
       "  \"/>\n",
       "<path clip-path=\"url(#clip670)\" d=\"M645.21 1512.56 L663.566 1512.56 L663.566 1516.5 L649.492 1516.5 L649.492 1524.97 Q650.511 1524.62 651.529 1524.46 Q652.548 1524.27 653.566 1524.27 Q659.353 1524.27 662.733 1527.44 Q666.112 1530.62 666.112 1536.03 Q666.112 1541.61 662.64 1544.71 Q659.168 1547.79 652.849 1547.79 Q650.673 1547.79 648.404 1547.42 Q646.159 1547.05 643.751 1546.31 L643.751 1541.61 Q645.835 1542.74 648.057 1543.3 Q650.279 1543.86 652.756 1543.86 Q656.761 1543.86 659.099 1541.75 Q661.437 1539.64 661.437 1536.03 Q661.437 1532.42 659.099 1530.31 Q656.761 1528.21 652.756 1528.21 Q650.881 1528.21 649.006 1528.62 Q647.154 1529.04 645.21 1529.92 L645.21 1512.56 Z\" fill=\"#000000\" fill-rule=\"evenodd\" fill-opacity=\"1\" /><path clip-path=\"url(#clip670)\" d=\"M1174.84 1543.18 L1182.48 1543.18 L1182.48 1516.82 L1174.17 1518.49 L1174.17 1514.23 L1182.43 1512.56 L1187.11 1512.56 L1187.11 1543.18 L1194.75 1543.18 L1194.75 1547.12 L1174.84 1547.12 L1174.84 1543.18 Z\" fill=\"#000000\" fill-rule=\"evenodd\" fill-opacity=\"1\" /><path clip-path=\"url(#clip670)\" d=\"M1214.19 1515.64 Q1210.58 1515.64 1208.75 1519.2 Q1206.95 1522.75 1206.95 1529.87 Q1206.95 1536.98 1208.75 1540.55 Q1210.58 1544.09 1214.19 1544.09 Q1217.83 1544.09 1219.63 1540.55 Q1221.46 1536.98 1221.46 1529.87 Q1221.46 1522.75 1219.63 1519.2 Q1217.83 1515.64 1214.19 1515.64 M1214.19 1511.93 Q1220 1511.93 1223.06 1516.54 Q1226.14 1521.12 1226.14 1529.87 Q1226.14 1538.6 1223.06 1543.21 Q1220 1547.79 1214.19 1547.79 Q1208.38 1547.79 1205.31 1543.21 Q1202.25 1538.6 1202.25 1529.87 Q1202.25 1521.12 1205.31 1516.54 Q1208.38 1511.93 1214.19 1511.93 Z\" fill=\"#000000\" fill-rule=\"evenodd\" fill-opacity=\"1\" /><path clip-path=\"url(#clip670)\" d=\"M1720.56 1543.18 L1728.2 1543.18 L1728.2 1516.82 L1719.89 1518.49 L1719.89 1514.23 L1728.16 1512.56 L1732.83 1512.56 L1732.83 1543.18 L1740.47 1543.18 L1740.47 1547.12 L1720.56 1547.12 L1720.56 1543.18 Z\" fill=\"#000000\" fill-rule=\"evenodd\" fill-opacity=\"1\" /><path clip-path=\"url(#clip670)\" d=\"M1749.96 1512.56 L1768.32 1512.56 L1768.32 1516.5 L1754.24 1516.5 L1754.24 1524.97 Q1755.26 1524.62 1756.28 1524.46 Q1757.3 1524.27 1758.32 1524.27 Q1764.1 1524.27 1767.48 1527.44 Q1770.86 1530.62 1770.86 1536.03 Q1770.86 1541.61 1767.39 1544.71 Q1763.92 1547.79 1757.6 1547.79 Q1755.42 1547.79 1753.16 1547.42 Q1750.91 1547.05 1748.5 1546.31 L1748.5 1541.61 Q1750.59 1542.74 1752.81 1543.3 Q1755.03 1543.86 1757.51 1543.86 Q1761.51 1543.86 1763.85 1541.75 Q1766.19 1539.64 1766.19 1536.03 Q1766.19 1532.42 1763.85 1530.31 Q1761.51 1528.21 1757.51 1528.21 Q1755.63 1528.21 1753.76 1528.62 Q1751.91 1529.04 1749.96 1529.92 L1749.96 1512.56 Z\" fill=\"#000000\" fill-rule=\"evenodd\" fill-opacity=\"1\" /><path clip-path=\"url(#clip670)\" d=\"M2269.37 1543.18 L2285.69 1543.18 L2285.69 1547.12 L2263.75 1547.12 L2263.75 1543.18 Q2266.41 1540.43 2270.99 1535.8 Q2275.6 1531.15 2276.78 1529.81 Q2279.03 1527.28 2279.91 1525.55 Q2280.81 1523.79 2280.81 1522.1 Q2280.81 1519.34 2278.86 1517.61 Q2276.94 1515.87 2273.84 1515.87 Q2271.64 1515.87 2269.19 1516.63 Q2266.76 1517.4 2263.98 1518.95 L2263.98 1514.23 Q2266.8 1513.09 2269.26 1512.51 Q2271.71 1511.93 2273.75 1511.93 Q2279.12 1511.93 2282.31 1514.62 Q2285.51 1517.31 2285.51 1521.8 Q2285.51 1523.93 2284.7 1525.85 Q2283.91 1527.74 2281.8 1530.34 Q2281.23 1531.01 2278.12 1534.23 Q2275.02 1537.42 2269.37 1543.18 Z\" fill=\"#000000\" fill-rule=\"evenodd\" fill-opacity=\"1\" /><path clip-path=\"url(#clip670)\" d=\"M2305.51 1515.64 Q2301.9 1515.64 2300.07 1519.2 Q2298.26 1522.75 2298.26 1529.87 Q2298.26 1536.98 2300.07 1540.55 Q2301.9 1544.09 2305.51 1544.09 Q2309.14 1544.09 2310.95 1540.55 Q2312.78 1536.98 2312.78 1529.87 Q2312.78 1522.75 2310.95 1519.2 Q2309.14 1515.64 2305.51 1515.64 M2305.51 1511.93 Q2311.32 1511.93 2314.37 1516.54 Q2317.45 1521.12 2317.45 1529.87 Q2317.45 1538.6 2314.37 1543.21 Q2311.32 1547.79 2305.51 1547.79 Q2299.7 1547.79 2296.62 1543.21 Q2293.56 1538.6 2293.56 1529.87 Q2293.56 1521.12 2296.62 1516.54 Q2299.7 1511.93 2305.51 1511.93 Z\" fill=\"#000000\" fill-rule=\"evenodd\" fill-opacity=\"1\" /><polyline clip-path=\"url(#clip672)\" style=\"stroke:#000000; stroke-linecap:butt; stroke-linejoin:round; stroke-width:2; stroke-opacity:0.1; fill:none\" points=\"\n",
       "  156.598,1329.34 2352.76,1329.34 \n",
       "  \"/>\n",
       "<polyline clip-path=\"url(#clip672)\" style=\"stroke:#000000; stroke-linecap:butt; stroke-linejoin:round; stroke-width:2; stroke-opacity:0.1; fill:none\" points=\"\n",
       "  156.598,1135.38 2352.76,1135.38 \n",
       "  \"/>\n",
       "<polyline clip-path=\"url(#clip672)\" style=\"stroke:#000000; stroke-linecap:butt; stroke-linejoin:round; stroke-width:2; stroke-opacity:0.1; fill:none\" points=\"\n",
       "  156.598,941.412 2352.76,941.412 \n",
       "  \"/>\n",
       "<polyline clip-path=\"url(#clip672)\" style=\"stroke:#000000; stroke-linecap:butt; stroke-linejoin:round; stroke-width:2; stroke-opacity:0.1; fill:none\" points=\"\n",
       "  156.598,747.45 2352.76,747.45 \n",
       "  \"/>\n",
       "<polyline clip-path=\"url(#clip672)\" style=\"stroke:#000000; stroke-linecap:butt; stroke-linejoin:round; stroke-width:2; stroke-opacity:0.1; fill:none\" points=\"\n",
       "  156.598,553.487 2352.76,553.487 \n",
       "  \"/>\n",
       "<polyline clip-path=\"url(#clip672)\" style=\"stroke:#000000; stroke-linecap:butt; stroke-linejoin:round; stroke-width:2; stroke-opacity:0.1; fill:none\" points=\"\n",
       "  156.598,359.524 2352.76,359.524 \n",
       "  \"/>\n",
       "<polyline clip-path=\"url(#clip672)\" style=\"stroke:#000000; stroke-linecap:butt; stroke-linejoin:round; stroke-width:2; stroke-opacity:0.1; fill:none\" points=\"\n",
       "  156.598,165.561 2352.76,165.561 \n",
       "  \"/>\n",
       "<polyline clip-path=\"url(#clip670)\" style=\"stroke:#000000; stroke-linecap:butt; stroke-linejoin:round; stroke-width:4; stroke-opacity:1; fill:none\" points=\"\n",
       "  156.598,1486.45 156.598,47.2441 \n",
       "  \"/>\n",
       "<polyline clip-path=\"url(#clip670)\" style=\"stroke:#000000; stroke-linecap:butt; stroke-linejoin:round; stroke-width:4; stroke-opacity:1; fill:none\" points=\"\n",
       "  156.598,1329.34 182.952,1329.34 \n",
       "  \"/>\n",
       "<polyline clip-path=\"url(#clip670)\" style=\"stroke:#000000; stroke-linecap:butt; stroke-linejoin:round; stroke-width:4; stroke-opacity:1; fill:none\" points=\"\n",
       "  156.598,1135.38 182.952,1135.38 \n",
       "  \"/>\n",
       "<polyline clip-path=\"url(#clip670)\" style=\"stroke:#000000; stroke-linecap:butt; stroke-linejoin:round; stroke-width:4; stroke-opacity:1; fill:none\" points=\"\n",
       "  156.598,941.412 182.952,941.412 \n",
       "  \"/>\n",
       "<polyline clip-path=\"url(#clip670)\" style=\"stroke:#000000; stroke-linecap:butt; stroke-linejoin:round; stroke-width:4; stroke-opacity:1; fill:none\" points=\"\n",
       "  156.598,747.45 182.952,747.45 \n",
       "  \"/>\n",
       "<polyline clip-path=\"url(#clip670)\" style=\"stroke:#000000; stroke-linecap:butt; stroke-linejoin:round; stroke-width:4; stroke-opacity:1; fill:none\" points=\"\n",
       "  156.598,553.487 182.952,553.487 \n",
       "  \"/>\n",
       "<polyline clip-path=\"url(#clip670)\" style=\"stroke:#000000; stroke-linecap:butt; stroke-linejoin:round; stroke-width:4; stroke-opacity:1; fill:none\" points=\"\n",
       "  156.598,359.524 182.952,359.524 \n",
       "  \"/>\n",
       "<polyline clip-path=\"url(#clip670)\" style=\"stroke:#000000; stroke-linecap:butt; stroke-linejoin:round; stroke-width:4; stroke-opacity:1; fill:none\" points=\"\n",
       "  156.598,165.561 182.952,165.561 \n",
       "  \"/>\n",
       "<path clip-path=\"url(#clip670)\" d=\"M64.0708 1315.14 Q60.4597 1315.14 58.631 1318.7 Q56.8254 1322.24 56.8254 1329.37 Q56.8254 1336.48 58.631 1340.04 Q60.4597 1343.59 64.0708 1343.59 Q67.705 1343.59 69.5105 1340.04 Q71.3392 1336.48 71.3392 1329.37 Q71.3392 1322.24 69.5105 1318.7 Q67.705 1315.14 64.0708 1315.14 M64.0708 1311.43 Q69.8809 1311.43 72.9365 1316.04 Q76.0151 1320.62 76.0151 1329.37 Q76.0151 1338.1 72.9365 1342.71 Q69.8809 1347.29 64.0708 1347.29 Q58.2606 1347.29 55.1819 1342.71 Q52.1264 1338.1 52.1264 1329.37 Q52.1264 1320.62 55.1819 1316.04 Q58.2606 1311.43 64.0708 1311.43 Z\" fill=\"#000000\" fill-rule=\"evenodd\" fill-opacity=\"1\" /><path clip-path=\"url(#clip670)\" d=\"M84.2327 1340.74 L89.1169 1340.74 L89.1169 1346.62 L84.2327 1346.62 L84.2327 1340.74 Z\" fill=\"#000000\" fill-rule=\"evenodd\" fill-opacity=\"1\" /><path clip-path=\"url(#clip670)\" d=\"M113.469 1327.98 Q116.825 1328.7 118.7 1330.97 Q120.598 1333.24 120.598 1336.57 Q120.598 1341.69 117.08 1344.49 Q113.561 1347.29 107.08 1347.29 Q104.904 1347.29 102.589 1346.85 Q100.297 1346.43 97.8437 1345.58 L97.8437 1341.06 Q99.7882 1342.2 102.103 1342.78 Q104.418 1343.35 106.941 1343.35 Q111.339 1343.35 113.631 1341.62 Q115.945 1339.88 115.945 1336.57 Q115.945 1333.52 113.793 1331.8 Q111.663 1330.07 107.844 1330.07 L103.816 1330.07 L103.816 1326.22 L108.029 1326.22 Q111.478 1326.22 113.307 1324.86 Q115.135 1323.47 115.135 1320.88 Q115.135 1318.22 113.237 1316.8 Q111.362 1315.37 107.844 1315.37 Q105.922 1315.37 103.723 1315.78 Q101.524 1316.2 98.8854 1317.08 L98.8854 1312.91 Q101.547 1312.17 103.862 1311.8 Q106.2 1311.43 108.26 1311.43 Q113.584 1311.43 116.686 1313.86 Q119.788 1316.27 119.788 1320.39 Q119.788 1323.26 118.145 1325.25 Q116.501 1327.22 113.469 1327.98 Z\" fill=\"#000000\" fill-rule=\"evenodd\" fill-opacity=\"1\" /><path clip-path=\"url(#clip670)\" d=\"M62.9365 1121.17 Q59.3254 1121.17 57.4967 1124.74 Q55.6912 1128.28 55.6912 1135.41 Q55.6912 1142.52 57.4967 1146.08 Q59.3254 1149.62 62.9365 1149.62 Q66.5707 1149.62 68.3763 1146.08 Q70.205 1142.52 70.205 1135.41 Q70.205 1128.28 68.3763 1124.74 Q66.5707 1121.17 62.9365 1121.17 M62.9365 1117.47 Q68.7467 1117.47 71.8022 1122.08 Q74.8809 1126.66 74.8809 1135.41 Q74.8809 1144.14 71.8022 1148.74 Q68.7467 1153.33 62.9365 1153.33 Q57.1264 1153.33 54.0477 1148.74 Q50.9921 1144.14 50.9921 1135.41 Q50.9921 1126.66 54.0477 1122.08 Q57.1264 1117.47 62.9365 1117.47 Z\" fill=\"#000000\" fill-rule=\"evenodd\" fill-opacity=\"1\" /><path clip-path=\"url(#clip670)\" d=\"M83.0984 1146.78 L87.9827 1146.78 L87.9827 1152.66 L83.0984 1152.66 L83.0984 1146.78 Z\" fill=\"#000000\" fill-rule=\"evenodd\" fill-opacity=\"1\" /><path clip-path=\"url(#clip670)\" d=\"M111.015 1122.17 L99.2095 1140.62 L111.015 1140.62 L111.015 1122.17 M109.788 1118.1 L115.668 1118.1 L115.668 1140.62 L120.598 1140.62 L120.598 1144.51 L115.668 1144.51 L115.668 1152.66 L111.015 1152.66 L111.015 1144.51 L95.4132 1144.51 L95.4132 1139.99 L109.788 1118.1 Z\" fill=\"#000000\" fill-rule=\"evenodd\" fill-opacity=\"1\" /><path clip-path=\"url(#clip670)\" d=\"M64.418 927.211 Q60.8069 927.211 58.9782 930.776 Q57.1726 934.318 57.1726 941.447 Q57.1726 948.554 58.9782 952.118 Q60.8069 955.66 64.418 955.66 Q68.0522 955.66 69.8578 952.118 Q71.6865 948.554 71.6865 941.447 Q71.6865 934.318 69.8578 930.776 Q68.0522 927.211 64.418 927.211 M64.418 923.507 Q70.2281 923.507 73.2837 928.114 Q76.3624 932.697 76.3624 941.447 Q76.3624 950.174 73.2837 954.78 Q70.2281 959.364 64.418 959.364 Q58.6078 959.364 55.5291 954.78 Q52.4736 950.174 52.4736 941.447 Q52.4736 932.697 55.5291 928.114 Q58.6078 923.507 64.418 923.507 Z\" fill=\"#000000\" fill-rule=\"evenodd\" fill-opacity=\"1\" /><path clip-path=\"url(#clip670)\" d=\"M84.5799 952.813 L89.4641 952.813 L89.4641 958.692 L84.5799 958.692 L84.5799 952.813 Z\" fill=\"#000000\" fill-rule=\"evenodd\" fill-opacity=\"1\" /><path clip-path=\"url(#clip670)\" d=\"M99.6956 924.132 L118.052 924.132 L118.052 928.068 L103.978 928.068 L103.978 936.54 Q104.996 936.193 106.015 936.031 Q107.033 935.845 108.052 935.845 Q113.839 935.845 117.219 939.017 Q120.598 942.188 120.598 947.605 Q120.598 953.183 117.126 956.285 Q113.654 959.364 107.334 959.364 Q105.159 959.364 102.89 958.993 Q100.645 958.623 98.2372 957.882 L98.2372 953.183 Q100.321 954.318 102.543 954.873 Q104.765 955.429 107.242 955.429 Q111.246 955.429 113.584 953.322 Q115.922 951.216 115.922 947.605 Q115.922 943.993 113.584 941.887 Q111.246 939.781 107.242 939.781 Q105.367 939.781 103.492 940.197 Q101.64 940.614 99.6956 941.493 L99.6956 924.132 Z\" fill=\"#000000\" fill-rule=\"evenodd\" fill-opacity=\"1\" /><path clip-path=\"url(#clip670)\" d=\"M63.2606 733.248 Q59.6495 733.248 57.8208 736.813 Q56.0152 740.355 56.0152 747.484 Q56.0152 754.591 57.8208 758.156 Q59.6495 761.697 63.2606 761.697 Q66.8948 761.697 68.7004 758.156 Q70.5291 754.591 70.5291 747.484 Q70.5291 740.355 68.7004 736.813 Q66.8948 733.248 63.2606 733.248 M63.2606 729.545 Q69.0707 729.545 72.1263 734.151 Q75.205 738.734 75.205 747.484 Q75.205 756.211 72.1263 760.818 Q69.0707 765.401 63.2606 765.401 Q57.4504 765.401 54.3717 760.818 Q51.3162 756.211 51.3162 747.484 Q51.3162 738.734 54.3717 734.151 Q57.4504 729.545 63.2606 729.545 Z\" fill=\"#000000\" fill-rule=\"evenodd\" fill-opacity=\"1\" /><path clip-path=\"url(#clip670)\" d=\"M83.4225 758.85 L88.3067 758.85 L88.3067 764.73 L83.4225 764.73 L83.4225 758.85 Z\" fill=\"#000000\" fill-rule=\"evenodd\" fill-opacity=\"1\" /><path clip-path=\"url(#clip670)\" d=\"M109.071 745.586 Q105.922 745.586 104.071 747.739 Q102.242 749.892 102.242 753.642 Q102.242 757.369 104.071 759.545 Q105.922 761.697 109.071 761.697 Q112.219 761.697 114.047 759.545 Q115.899 757.369 115.899 753.642 Q115.899 749.892 114.047 747.739 Q112.219 745.586 109.071 745.586 M118.353 730.934 L118.353 735.193 Q116.594 734.359 114.788 733.92 Q113.006 733.48 111.246 733.48 Q106.617 733.48 104.163 736.605 Q101.733 739.73 101.385 746.049 Q102.751 744.035 104.811 742.971 Q106.871 741.883 109.348 741.883 Q114.557 741.883 117.566 745.054 Q120.598 748.202 120.598 753.642 Q120.598 758.966 117.45 762.183 Q114.302 765.401 109.071 765.401 Q103.075 765.401 99.9039 760.818 Q96.7326 756.211 96.7326 747.484 Q96.7326 739.29 100.621 734.429 Q104.51 729.545 111.061 729.545 Q112.82 729.545 114.603 729.892 Q116.408 730.239 118.353 730.934 Z\" fill=\"#000000\" fill-rule=\"evenodd\" fill-opacity=\"1\" /><path clip-path=\"url(#clip670)\" d=\"M64.3254 539.286 Q60.7143 539.286 58.8856 542.85 Q57.0801 546.392 57.0801 553.522 Q57.0801 560.628 58.8856 564.193 Q60.7143 567.735 64.3254 567.735 Q67.9596 567.735 69.7652 564.193 Q71.5939 560.628 71.5939 553.522 Q71.5939 546.392 69.7652 542.85 Q67.9596 539.286 64.3254 539.286 M64.3254 535.582 Q70.1355 535.582 73.1911 540.188 Q76.2698 544.772 76.2698 553.522 Q76.2698 562.248 73.1911 566.855 Q70.1355 571.438 64.3254 571.438 Q58.5152 571.438 55.4365 566.855 Q52.381 562.248 52.381 553.522 Q52.381 544.772 55.4365 540.188 Q58.5152 535.582 64.3254 535.582 Z\" fill=\"#000000\" fill-rule=\"evenodd\" fill-opacity=\"1\" /><path clip-path=\"url(#clip670)\" d=\"M84.4873 564.887 L89.3715 564.887 L89.3715 570.767 L84.4873 570.767 L84.4873 564.887 Z\" fill=\"#000000\" fill-rule=\"evenodd\" fill-opacity=\"1\" /><path clip-path=\"url(#clip670)\" d=\"M98.3761 536.207 L120.598 536.207 L120.598 538.198 L108.052 570.767 L103.168 570.767 L114.973 540.142 L98.3761 540.142 L98.3761 536.207 Z\" fill=\"#000000\" fill-rule=\"evenodd\" fill-opacity=\"1\" /><path clip-path=\"url(#clip670)\" d=\"M63.5152 345.323 Q59.9041 345.323 58.0754 348.888 Q56.2699 352.429 56.2699 359.559 Q56.2699 366.665 58.0754 370.23 Q59.9041 373.772 63.5152 373.772 Q67.1494 373.772 68.955 370.23 Q70.7837 366.665 70.7837 359.559 Q70.7837 352.429 68.955 348.888 Q67.1494 345.323 63.5152 345.323 M63.5152 341.619 Q69.3254 341.619 72.3809 346.226 Q75.4596 350.809 75.4596 359.559 Q75.4596 368.286 72.3809 372.892 Q69.3254 377.475 63.5152 377.475 Q57.7051 377.475 54.6264 372.892 Q51.5708 368.286 51.5708 359.559 Q51.5708 350.809 54.6264 346.226 Q57.7051 341.619 63.5152 341.619 Z\" fill=\"#000000\" fill-rule=\"evenodd\" fill-opacity=\"1\" /><path clip-path=\"url(#clip670)\" d=\"M83.6771 370.925 L88.5614 370.925 L88.5614 376.804 L83.6771 376.804 L83.6771 370.925 Z\" fill=\"#000000\" fill-rule=\"evenodd\" fill-opacity=\"1\" /><path clip-path=\"url(#clip670)\" d=\"M108.746 360.392 Q105.413 360.392 103.492 362.175 Q101.594 363.957 101.594 367.082 Q101.594 370.207 103.492 371.989 Q105.413 373.772 108.746 373.772 Q112.08 373.772 114.001 371.989 Q115.922 370.184 115.922 367.082 Q115.922 363.957 114.001 362.175 Q112.103 360.392 108.746 360.392 M104.071 358.401 Q101.061 357.661 99.3715 355.601 Q97.7048 353.54 97.7048 350.577 Q97.7048 346.434 100.645 344.027 Q103.608 341.619 108.746 341.619 Q113.908 341.619 116.848 344.027 Q119.788 346.434 119.788 350.577 Q119.788 353.54 118.098 355.601 Q116.432 357.661 113.445 358.401 Q116.825 359.189 118.7 361.48 Q120.598 363.772 120.598 367.082 Q120.598 372.105 117.52 374.79 Q114.464 377.475 108.746 377.475 Q103.029 377.475 99.9502 374.79 Q96.8947 372.105 96.8947 367.082 Q96.8947 363.772 98.7928 361.48 Q100.691 359.189 104.071 358.401 M102.358 351.017 Q102.358 353.702 104.024 355.207 Q105.714 356.712 108.746 356.712 Q111.756 356.712 113.445 355.207 Q115.158 353.702 115.158 351.017 Q115.158 348.332 113.445 346.827 Q111.756 345.323 108.746 345.323 Q105.714 345.323 104.024 346.827 Q102.358 348.332 102.358 351.017 Z\" fill=\"#000000\" fill-rule=\"evenodd\" fill-opacity=\"1\" /><path clip-path=\"url(#clip670)\" d=\"M63.6078 151.36 Q59.9967 151.36 58.168 154.925 Q56.3625 158.467 56.3625 165.596 Q56.3625 172.703 58.168 176.267 Q59.9967 179.809 63.6078 179.809 Q67.242 179.809 69.0476 176.267 Q70.8763 172.703 70.8763 165.596 Q70.8763 158.467 69.0476 154.925 Q67.242 151.36 63.6078 151.36 M63.6078 147.656 Q69.418 147.656 72.4735 152.263 Q75.5522 156.846 75.5522 165.596 Q75.5522 174.323 72.4735 178.929 Q69.418 183.513 63.6078 183.513 Q57.7976 183.513 54.719 178.929 Q51.6634 174.323 51.6634 165.596 Q51.6634 156.846 54.719 152.263 Q57.7976 147.656 63.6078 147.656 Z\" fill=\"#000000\" fill-rule=\"evenodd\" fill-opacity=\"1\" /><path clip-path=\"url(#clip670)\" d=\"M83.7697 176.962 L88.654 176.962 L88.654 182.841 L83.7697 182.841 L83.7697 176.962 Z\" fill=\"#000000\" fill-rule=\"evenodd\" fill-opacity=\"1\" /><path clip-path=\"url(#clip670)\" d=\"M98.978 182.124 L98.978 177.865 Q100.737 178.698 102.543 179.138 Q104.348 179.578 106.084 179.578 Q110.714 179.578 113.145 176.476 Q115.598 173.351 115.945 167.008 Q114.603 168.999 112.543 170.064 Q110.483 171.128 107.983 171.128 Q102.797 171.128 99.765 168.004 Q96.7558 164.855 96.7558 159.416 Q96.7558 154.092 99.9039 150.874 Q103.052 147.656 108.283 147.656 Q114.279 147.656 117.427 152.263 Q120.598 156.846 120.598 165.596 Q120.598 173.767 116.709 178.652 Q112.844 183.513 106.293 183.513 Q104.534 183.513 102.728 183.165 Q100.922 182.818 98.978 182.124 M108.283 167.471 Q111.432 167.471 113.26 165.318 Q115.112 163.166 115.112 159.416 Q115.112 155.689 113.26 153.536 Q111.432 151.36 108.283 151.36 Q105.135 151.36 103.284 153.536 Q101.455 155.689 101.455 159.416 Q101.455 163.166 103.284 165.318 Q105.135 167.471 108.283 167.471 Z\" fill=\"#000000\" fill-rule=\"evenodd\" fill-opacity=\"1\" /><polyline clip-path=\"url(#clip672)\" style=\"stroke:#009af9; stroke-linecap:butt; stroke-linejoin:round; stroke-width:4; stroke-opacity:1; fill:none\" points=\"\n",
       "  218.754,87.9763 327.798,378.92 436.843,165.561 545.887,1212.96 654.932,1290.55 763.976,708.657 873.021,1135.38 982.066,766.846 1091.11,1271.15 1200.15,611.676 \n",
       "  1309.2,863.827 1418.24,1445.72 1527.29,1232.36 1636.33,1193.56 1745.38,980.205 1854.42,960.809 1963.47,1154.77 2072.51,320.732 2181.56,281.939 2290.6,766.846 \n",
       "  \n",
       "  \"/>\n",
       "<path clip-path=\"url(#clip670)\" d=\"\n",
       "M1983.1 198.898 L2279.55 198.898 L2279.55 95.2176 L1983.1 95.2176  Z\n",
       "  \" fill=\"#ffffff\" fill-rule=\"evenodd\" fill-opacity=\"1\"/>\n",
       "<polyline clip-path=\"url(#clip670)\" style=\"stroke:#000000; stroke-linecap:butt; stroke-linejoin:round; stroke-width:4; stroke-opacity:1; fill:none\" points=\"\n",
       "  1983.1,198.898 2279.55,198.898 2279.55,95.2176 1983.1,95.2176 1983.1,198.898 \n",
       "  \"/>\n",
       "<polyline clip-path=\"url(#clip670)\" style=\"stroke:#009af9; stroke-linecap:butt; stroke-linejoin:round; stroke-width:4; stroke-opacity:1; fill:none\" points=\"\n",
       "  2007.5,147.058 2153.92,147.058 \n",
       "  \"/>\n",
       "<path clip-path=\"url(#clip670)\" d=\"M2192.16 166.745 Q2190.35 171.375 2188.64 172.787 Q2186.93 174.199 2184.06 174.199 L2180.65 174.199 L2180.65 170.634 L2183.15 170.634 Q2184.91 170.634 2185.89 169.8 Q2186.86 168.967 2188.04 165.865 L2188.8 163.921 L2178.32 138.412 L2182.83 138.412 L2190.93 158.689 L2199.03 138.412 L2203.55 138.412 L2192.16 166.745 Z\" fill=\"#000000\" fill-rule=\"evenodd\" fill-opacity=\"1\" /><path clip-path=\"url(#clip670)\" d=\"M2210.84 160.402 L2218.48 160.402 L2218.48 134.037 L2210.17 135.703 L2210.17 131.444 L2218.43 129.778 L2223.11 129.778 L2223.11 160.402 L2230.75 160.402 L2230.75 164.338 L2210.84 164.338 L2210.84 160.402 Z\" fill=\"#000000\" fill-rule=\"evenodd\" fill-opacity=\"1\" /></svg>\n"
      ]
     },
     "execution_count": 104,
     "metadata": {},
     "output_type": "execute_result"
    }
   ],
   "source": [
    "Pkg.add(\"Plots\")\n",
    "using Plots\n",
    "plot(Mdata) "
   ]
  },
  {
   "cell_type": "code",
   "execution_count": null,
   "id": "958d0ea4",
   "metadata": {},
   "outputs": [],
   "source": []
  }
 ],
 "metadata": {
  "kernelspec": {
   "display_name": "Julia 1.6.1",
   "language": "julia",
   "name": "julia-1.6"
  },
  "language_info": {
   "file_extension": ".jl",
   "mimetype": "application/julia",
   "name": "julia",
   "version": "1.6.1"
  }
 },
 "nbformat": 4,
 "nbformat_minor": 5
}
