{
 "cells": [
  {
   "cell_type": "code",
   "execution_count": 2,
   "id": "70e4e6cb",
   "metadata": {},
   "outputs": [
    {
     "data": {
      "text/plain": [
       "run (generic function with 1 method)"
      ]
     },
     "execution_count": 2,
     "metadata": {},
     "output_type": "execute_result"
    }
   ],
   "source": [
    "#!/usr/bin/env julia\n",
    "\n",
    "using PastaQ\n",
    "\n",
    "function PastaQ.gate(::GateName\"R\"; theta::Real, phi::Real)\n",
    "    [\n",
    "        cos(theta/2)    (-im * exp(-im * phi) * sin(theta/2))\n",
    "        (-im * exp(im * phi) * sin(theta/2))     cos(theta/2)\n",
    "    ]\n",
    "end\n",
    "\n",
    "function PastaQ.gate(::GateName\"M\"; Theta::Real)\n",
    "    [\n",
    "        cos(Theta)    0    0    (-im * sin(Theta))\n",
    "        0    cos(Theta)    (-im * sin(Theta))    0\n",
    "        0    (-im * sin(Theta))    cos(Theta)    0\n",
    "        (-im * sin(Theta))    0    0    cos(Theta)\n",
    "    ]\n",
    "end\n",
    "\n",
    "function run(N, depth)\n",
    "    # Random circuit. \n",
    "    gates = Vector{Tuple}[]\n",
    "\n",
    "    for i in 1:depth\n",
    "        one_qubit_layer = Tuple[]\n",
    "        two_qubit_layer = Tuple[]\n",
    "\n",
    "        for j in 1:N\n",
    "            gate = (\"R\", j, (theta=2pi*rand(), phi=2pi*rand()))\n",
    "            push!(one_qubit_layer, gate)\n",
    "        end\n",
    "\n",
    "        # Alternate start qubit for pairs.\n",
    "        idx_first = i % 2 + 1\n",
    "\n",
    "        for j in idx_first:2:(N-1)\n",
    "            gate = (\"M\", (j, j+1), (Theta=2pi*rand(),))\n",
    "            push!(two_qubit_layer, gate)\n",
    "        end\n",
    "\n",
    "        push!(gates, one_qubit_layer)\n",
    "        push!(gates, two_qubit_layer)\n",
    "    end\n",
    "\n",
    "    psi = runcircuit(N, gates)\n",
    "end\n"
   ]
  },
  {
   "cell_type": "code",
   "execution_count": 3,
   "id": "8da30c14",
   "metadata": {},
   "outputs": [
    {
     "data": {
      "text/plain": [
       "ITensors.MPS\n",
       "[1] IndexSet{2} (dim=2|id=667|\"Qubit,Site,n=1\") (dim=2|id=411|\"Link,fact\")\n",
       "[2] IndexSet{2} (dim=2|id=411|\"Link,fact\") (dim=2|id=794|\"Qubit,Site,n=2\")\n"
      ]
     },
     "execution_count": 3,
     "metadata": {},
     "output_type": "execute_result"
    }
   ],
   "source": [
    "\n",
    "N = 2\n",
    "depth = 2\n",
    "\n",
    "ψ = run(N, depth)\n",
    "@show ψ"
   ]
  },
  {
   "cell_type": "code",
   "execution_count": 4,
   "id": "f4733afc",
   "metadata": {
    "scrolled": true
   },
   "outputs": [
    {
     "name": "stdout",
     "output_type": "stream",
     "text": [
      "ψ = ITensors.MPS\n",
      "[1] IndexSet{2} (dim=2|id=667|\"Qubit,Site,n=1\") (dim=2|id=411|\"Link,fact\")\n",
      "[2] IndexSet{2} (dim=2|id=411|\"Link,fact\") (dim=2|id=794|\"Qubit,Site,n=2\")\n",
      "\n"
     ]
    },
    {
     "data": {
      "text/plain": [
       "ITensors.MPS\n",
       "[1] IndexSet{2} (dim=2|id=667|\"Qubit,Site,n=1\") (dim=2|id=411|\"Link,fact\")\n",
       "[2] IndexSet{2} (dim=2|id=411|\"Link,fact\") (dim=2|id=794|\"Qubit,Site,n=2\")\n"
      ]
     },
     "execution_count": 4,
     "metadata": {},
     "output_type": "execute_result"
    }
   ],
   "source": [
    "@show ψ"
   ]
  },
  {
   "cell_type": "code",
   "execution_count": 6,
   "id": "ad6a678f",
   "metadata": {},
   "outputs": [
    {
     "name": "stdout",
     "output_type": "stream",
     "text": [
      "gates = Vector{Tuple}[]\n"
     ]
    },
    {
     "data": {
      "text/plain": [
       "Vector{Tuple}[]"
      ]
     },
     "execution_count": 6,
     "metadata": {},
     "output_type": "execute_result"
    }
   ],
   "source": [
    "gates = Vector{Tuple}[]\n",
    "@show gates"
   ]
  },
  {
   "cell_type": "code",
   "execution_count": 9,
   "id": "847e6a04",
   "metadata": {},
   "outputs": [
    {
     "data": {
      "text/plain": [
       "1-element Vector{Tuple}:\n",
       " (\"R\", 1, (theta = 2.806382772972893, phi = 1.6586697609010508))"
      ]
     },
     "execution_count": 9,
     "metadata": {},
     "output_type": "execute_result"
    }
   ],
   "source": [
    "one_qubit_layer = Tuple[]\n",
    "gate = (\"R\", 1, (theta=2pi*rand(), phi=2pi*rand()))\n",
    "            push!(one_qubit_layer, gate)"
   ]
  },
  {
   "cell_type": "code",
   "execution_count": 10,
   "id": "96e6d78a",
   "metadata": {},
   "outputs": [
    {
     "name": "stdout",
     "output_type": "stream",
     "text": [
      "gates = "
     ]
    },
    {
     "data": {
      "text/plain": [
       "Vector{Tuple}[]"
      ]
     },
     "execution_count": 10,
     "metadata": {},
     "output_type": "execute_result"
    },
    {
     "name": "stdout",
     "output_type": "stream",
     "text": [
      "Vector{Tuple}[]\n"
     ]
    }
   ],
   "source": [
    "@show gates"
   ]
  },
  {
   "cell_type": "code",
   "execution_count": 11,
   "id": "570269c7",
   "metadata": {},
   "outputs": [
    {
     "name": "stdout",
     "output_type": "stream",
     "text": [
      "one_qubit_layer = Tuple[(\"R\", 1, (theta = 2.806382772972893, phi = 1.6586697609010508))]\n"
     ]
    },
    {
     "data": {
      "text/plain": [
       "1-element Vector{Tuple}:\n",
       " (\"R\", 1, (theta = 2.806382772972893, phi = 1.6586697609010508))"
      ]
     },
     "execution_count": 11,
     "metadata": {},
     "output_type": "execute_result"
    }
   ],
   "source": [
    "@show one_qubit_layer"
   ]
  },
  {
   "cell_type": "code",
   "execution_count": 12,
   "id": "6c73c65a",
   "metadata": {},
   "outputs": [
    {
     "name": "stdout",
     "output_type": "stream",
     "text": [
      "one_qubit_layer = Tuple[(\"R\", 1, (theta = 2.806382772972893, phi = 1.6586697609010508)), (\"R\", 2, (theta = 5.985000483720859, phi = 2.5998729322728233))]\n"
     ]
    },
    {
     "data": {
      "text/plain": [
       "2-element Vector{Tuple}:\n",
       " (\"R\", 1, (theta = 2.806382772972893, phi = 1.6586697609010508))\n",
       " (\"R\", 2, (theta = 5.985000483720859, phi = 2.5998729322728233))"
      ]
     },
     "execution_count": 12,
     "metadata": {},
     "output_type": "execute_result"
    }
   ],
   "source": [
    "gate = (\"R\", 2, (theta=2pi*rand(), phi=2pi*rand()))\n",
    "push!(one_qubit_layer, gate)\n",
    "@show one_qubit_layer"
   ]
  },
  {
   "cell_type": "code",
   "execution_count": 13,
   "id": "da3d3d27",
   "metadata": {},
   "outputs": [
    {
     "name": "stdout",
     "output_type": "stream",
     "text": [
      "gates = Vector{Tuple}[[(\"R\", 1, (theta = 2.806382772972893, phi = 1.6586697609010508)), (\"R\", 2, (theta = 5.985000483720859, phi = 2.5998729322728233))]]\n"
     ]
    },
    {
     "data": {
      "text/plain": [
       "1-element Vector{Vector{Tuple}}:\n",
       " [(\"R\", 1, (theta = 2.806382772972893, phi = 1.6586697609010508)), (\"R\", 2, (theta = 5.985000483720859, phi = 2.5998729322728233))]"
      ]
     },
     "execution_count": 13,
     "metadata": {},
     "output_type": "execute_result"
    }
   ],
   "source": [
    "push!(gates, one_qubit_layer)\n",
    "@show gates"
   ]
  },
  {
   "cell_type": "code",
   "execution_count": 20,
   "id": "a1c539c7",
   "metadata": {},
   "outputs": [
    {
     "name": "stdout",
     "output_type": "stream",
     "text": [
      "1\n",
      "2\n",
      "3\n",
      "4\n",
      "5\n"
     ]
    }
   ],
   "source": [
    "for i in 1:5\n",
    "    print(i,\"\\n\")\n",
    "end"
   ]
  },
  {
   "cell_type": "code",
   "execution_count": 22,
   "id": "4bea29af",
   "metadata": {},
   "outputs": [
    {
     "name": "stdout",
     "output_type": "stream",
     "text": [
      "1\n",
      "3\n",
      "5\n",
      "7\n"
     ]
    }
   ],
   "source": [
    "for j in 1:2:8\n",
    "    print(j,\"\\n\")\n",
    "end"
   ]
  },
  {
   "cell_type": "code",
   "execution_count": 23,
   "id": "f5ea208d",
   "metadata": {},
   "outputs": [
    {
     "name": "stdout",
     "output_type": "stream",
     "text": [
      "ψ = ITensors.MPS\n",
      "[1] IndexSet{2} (dim=2|id=956|\"Qubit,Site,n=1\") (dim=2|id=505|\"Link,fact\")\n",
      "[2] IndexSet{3} (dim=2|id=505|\"Link,fact\") (dim=2|id=866|\"Qubit,Site,n=2\") (dim=2|id=134|\"Link,fact\")\n",
      "[3] IndexSet{2} (dim=2|id=964|\"Qubit,Site,n=3\") (dim=2|id=134|\"Link,fact\")\n",
      "\n"
     ]
    },
    {
     "data": {
      "text/plain": [
       "ITensors.MPS\n",
       "[1] IndexSet{2} (dim=2|id=956|\"Qubit,Site,n=1\") (dim=2|id=505|\"Link,fact\")\n",
       "[2] IndexSet{3} (dim=2|id=505|\"Link,fact\") (dim=2|id=866|\"Qubit,Site,n=2\") (dim=2|id=134|\"Link,fact\")\n",
       "[3] IndexSet{2} (dim=2|id=964|\"Qubit,Site,n=3\") (dim=2|id=134|\"Link,fact\")\n"
      ]
     },
     "execution_count": 23,
     "metadata": {},
     "output_type": "execute_result"
    }
   ],
   "source": [
    "N = 3\n",
    "depth = 2\n",
    "\n",
    "ψ = run(N, depth)\n",
    "@show ψ"
   ]
  },
  {
   "cell_type": "code",
   "execution_count": 24,
   "id": "caa9fb3b",
   "metadata": {},
   "outputs": [
    {
     "name": "stdout",
     "output_type": "stream",
     "text": [
      "ψ = ITensors.MPS\n",
      "[1] IndexSet{2} (dim=2|id=491|\"Qubit,Site,n=1\") (dim=2|id=729|\"Link,fact\")\n",
      "[2] IndexSet{3} (dim=2|id=729|\"Link,fact\") (dim=2|id=397|\"Qubit,Site,n=2\") (dim=2|id=55|\"Link,fact\")\n",
      "[3] IndexSet{3} (dim=2|id=961|\"Qubit,Site,n=3\") (dim=2|id=55|\"Link,fact\") (dim=2|id=698|\"Link,fact\")\n",
      "[4] IndexSet{2} (dim=2|id=698|\"Link,fact\") (dim=2|id=149|\"Qubit,Site,n=4\")\n",
      "\n"
     ]
    },
    {
     "data": {
      "text/plain": [
       "ITensors.MPS\n",
       "[1] IndexSet{2} (dim=2|id=491|\"Qubit,Site,n=1\") (dim=2|id=729|\"Link,fact\")\n",
       "[2] IndexSet{3} (dim=2|id=729|\"Link,fact\") (dim=2|id=397|\"Qubit,Site,n=2\") (dim=2|id=55|\"Link,fact\")\n",
       "[3] IndexSet{3} (dim=2|id=961|\"Qubit,Site,n=3\") (dim=2|id=55|\"Link,fact\") (dim=2|id=698|\"Link,fact\")\n",
       "[4] IndexSet{2} (dim=2|id=698|\"Link,fact\") (dim=2|id=149|\"Qubit,Site,n=4\")\n"
      ]
     },
     "execution_count": 24,
     "metadata": {},
     "output_type": "execute_result"
    }
   ],
   "source": [
    "N = 4\n",
    "depth = 2\n",
    "\n",
    "ψ = run(N, depth)\n",
    "@show ψ"
   ]
  },
  {
   "cell_type": "code",
   "execution_count": 25,
   "id": "945b239a",
   "metadata": {},
   "outputs": [
    {
     "ename": "LoadError",
     "evalue": "UndefVarError: siteinds not defined",
     "output_type": "error",
     "traceback": [
      "UndefVarError: siteinds not defined",
      "",
      "Stacktrace:",
      " [1] top-level scope",
      "   @ In[25]:2",
      " [2] eval",
      "   @ .\\boot.jl:360 [inlined]",
      " [3] include_string(mapexpr::typeof(REPL.softscope), mod::Module, code::String, filename::String)",
      "   @ Base .\\loading.jl:1094"
     ]
    }
   ],
   "source": [
    "# think that x as decimal number\n"
   ]
  },
  {
   "cell_type": "code",
   "execution_count": 26,
   "id": "55de6081",
   "metadata": {},
   "outputs": [
    {
     "data": {
      "text/plain": [
       "1"
      ]
     },
     "execution_count": 26,
     "metadata": {},
     "output_type": "execute_result"
    }
   ],
   "source": [
    "5 % 2"
   ]
  },
  {
   "cell_type": "code",
   "execution_count": 27,
   "id": "b20a9636",
   "metadata": {},
   "outputs": [
    {
     "data": {
      "text/plain": [
       "8"
      ]
     },
     "execution_count": 27,
     "metadata": {},
     "output_type": "execute_result"
    }
   ],
   "source": [
    "2^3"
   ]
  },
  {
   "cell_type": "code",
   "execution_count": null,
   "id": "dd8d373f",
   "metadata": {},
   "outputs": [],
   "source": [
    "function x_mps(N, x)\n",
    "    for i in 1:N\n",
    "        \n",
    "    end\n",
    "end"
   ]
  }
 ],
 "metadata": {
  "kernelspec": {
   "display_name": "Julia 1.6.1",
   "language": "julia",
   "name": "julia-1.6"
  },
  "language_info": {
   "file_extension": ".jl",
   "mimetype": "application/julia",
   "name": "julia",
   "version": "1.6.1"
  }
 },
 "nbformat": 4,
 "nbformat_minor": 5
}
