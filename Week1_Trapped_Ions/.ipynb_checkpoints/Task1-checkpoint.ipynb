{
 "cells": [
  {
   "cell_type": "code",
   "execution_count": 1,
   "id": "b5f45884",
   "metadata": {},
   "outputs": [],
   "source": [
    "import numpy as np\n",
    "from IPython.display import Latex as lt\n",
    "import random\n",
    "\n",
    "import math\n",
    "from math import pi\n",
    "\n",
    "import qiskit\n",
    "from qiskit import QuantumCircuit, ClassicalRegister, QuantumRegister\n",
    "from qiskit import execute, BasicAer\n",
    "from qiskit.compiler import transpile\n",
    "from qiskit.quantum_info.operators import Operator, Pauli\n",
    "from qiskit.quantum_info import process_fidelity\n",
    "\n",
    "from qiskit.extensions import RXGate, XGate, CXGate"
   ]
  },
  {
   "cell_type": "markdown",
   "id": "ffef64d2",
   "metadata": {},
   "source": [
    "# Creating \"function PastaQ.gate\"\n",
    "Single Matrix \n",
    "\n",
    "\\begin{bmatrix}\n",
    "\\cos{\\theta/2} & (-i \\exp^{-i \\phi} \\sin(\\theta/2))\\\\\n",
    " (-i \\exp^{i \\phi} \\sin(\\theta/2)) & \\cos(\\theta/2)\n",
    "\\end{bmatrix}\n",
    "\n",
    "Double Matrix\n",
    "\n",
    "\\begin{bmatrix}\n",
    "        \\cos(\\Theta) &   0 &   0 &   -i \\sin(\\Theta)\\\\\n",
    "        0    &\\cos(\\Theta)   & -i \\sin(\\Theta)    &0\\\\\n",
    "        0    &-i \\sin(\\Theta)  &  \\cos(\\Theta)    &0\\\\\n",
    "        -i \\sin(\\Theta) &   0  &  0   & \\cos(\\Theta)\\\\\n",
    "\\end{bmatrix}"
   ]
  },
  {
   "cell_type": "code",
   "execution_count": 2,
   "id": "3a7aac89",
   "metadata": {},
   "outputs": [],
   "source": [
    "def gateSingle(theta,phi):\n",
    "    j=complex(0,1);\n",
    "    return Operator(np.matrix([[np.cos(theta/2),(-j*np.exp(-j*phi)*np.sin(theta/2))],[(-j*np.exp(j*phi)*np.sin(theta/2)),np.cos(theta/2)]]))\n",
    "def gateDouble(Theta):\n",
    "    j=complex(0,1);\n",
    "    return Operator(np.matrix([[np.cos(Theta),0,0,(-j * np.sin(Theta))],[0,np.cos(Theta),(-j * np.sin(Theta)),0],[0,(-j * np.sin(Theta)),np.cos(Theta),0],[(-j * np.sin(Theta)),0,0,np.cos(Theta)]]))"
   ]
  },
  {
   "cell_type": "code",
   "execution_count": 3,
   "id": "59b97400",
   "metadata": {},
   "outputs": [
    {
     "data": {
      "text/plain": [
       "Operator([[-0.9999833+0.j        ,  0.       +0.j        ,\n",
       "            0.       +0.j        ,  0.       -0.00577959j],\n",
       "          [ 0.       +0.j        , -0.9999833+0.j        ,\n",
       "            0.       -0.00577959j,  0.       +0.j        ],\n",
       "          [ 0.       +0.j        ,  0.       -0.00577959j,\n",
       "           -0.9999833+0.j        ,  0.       +0.j        ],\n",
       "          [ 0.       -0.00577959j,  0.       +0.j        ,\n",
       "            0.       +0.j        , -0.9999833+0.j        ]],\n",
       "         input_dims=(2, 2), output_dims=(2, 2))"
      ]
     },
     "execution_count": 3,
     "metadata": {},
     "output_type": "execute_result"
    }
   ],
   "source": [
    "#Example Testing\n",
    "r1=pi*random.random()\n",
    "gateSingle(r1,r1)\n",
    "gateDouble(r1)"
   ]
  },
  {
   "cell_type": "code",
   "execution_count": 4,
   "id": "6acb7bfe",
   "metadata": {},
   "outputs": [],
   "source": [
    "def run(N,depth):\n",
    "    #N is number of Qubit\n",
    "    #depth is the iteration of single and double Qubit\n",
    "    \n",
    "    #Create base circuits\n",
    "    qr = QuantumRegister(N, 'q')\n",
    "    cr = ClassicalRegister(N, 'c')\n",
    "    circ = QuantumCircuit(qr,cr)\n",
    "    \n",
    "\n",
    "    \n",
    "    for i in range(depth):\n",
    "    #Apply single-qubit random rotation for all the qubit\n",
    "        for j in range(N):\n",
    "            circ.append(gateSingle(2*pi*random.random(),2*pi*random.random()), [j])\n",
    "\n",
    "        #Julia started with index 1, so I need to change it by i+1, then I change back on Range    \n",
    "        idx_first = (i+1) % 2 + 1\n",
    "\n",
    "        for j in range(idx_first-1,N-1,2):\n",
    "            circ.append(gateDouble(2*pi*random.random()), [j,j+1])\n",
    "        circ.barrier(qr)           \n",
    "\n",
    "    \n",
    "    circ.measure(qr, cr)\n",
    "    return circ"
   ]
  },
  {
   "cell_type": "code",
   "execution_count": 5,
   "id": "2daf3cdb",
   "metadata": {},
   "outputs": [
    {
     "name": "stdout",
     "output_type": "stream",
     "text": [
      "     ┌─────────┐             ░ ┌─────────┐┌──────────┐ ░ ┌─┐         \n",
      "q_0: ┤ unitary ├─────────────░─┤ unitary ├┤0         ├─░─┤M├─────────\n",
      "     ├─────────┤┌──────────┐ ░ ├─────────┤│  unitary │ ░ └╥┘┌─┐      \n",
      "q_1: ┤ unitary ├┤0         ├─░─┤ unitary ├┤1         ├─░──╫─┤M├──────\n",
      "     ├─────────┤│  unitary │ ░ ├─────────┤├──────────┤ ░  ║ └╥┘┌─┐   \n",
      "q_2: ┤ unitary ├┤1         ├─░─┤ unitary ├┤0         ├─░──╫──╫─┤M├───\n",
      "     ├─────────┤└──────────┘ ░ ├─────────┤│  unitary │ ░  ║  ║ └╥┘┌─┐\n",
      "q_3: ┤ unitary ├─────────────░─┤ unitary ├┤1         ├─░──╫──╫──╫─┤M├\n",
      "     └─────────┘             ░ └─────────┘└──────────┘ ░  ║  ║  ║ └╥┘\n",
      "c: 4/═════════════════════════════════════════════════════╩══╩══╩══╩═\n",
      "                                                          0  1  2  3 \n"
     ]
    }
   ],
   "source": [
    "qc=run(4,2)\n",
    "print(qc)"
   ]
  },
  {
   "cell_type": "markdown",
   "id": "c908bd2c",
   "metadata": {},
   "source": [
    "# Visualize the data"
   ]
  },
  {
   "cell_type": "code",
   "execution_count": 27,
   "id": "40532faa",
   "metadata": {},
   "outputs": [],
   "source": [
    "from qiskit.visualization import plot_histogram\n",
    "import matplotlib.pyplot as plt\n",
    "%matplotlib inline"
   ]
  },
  {
   "cell_type": "code",
   "execution_count": 28,
   "id": "a409bc46",
   "metadata": {},
   "outputs": [
    {
     "data": {
      "image/png": "[encoded data removed]",
      "text/plain": [
       "<Figure size 504x360 with 1 Axes>"
      ]
     },
     "execution_count": 28,
     "metadata": {},
     "output_type": "execute_result"
    }
   ],
   "source": [
    "random.seed(1)\n",
    "qc=run(4,2)\n",
    "backend = BasicAer.get_backend('qasm_simulator') # the device to run on\n",
    "result = execute(qc, backend, shots=1000).result()\n",
    "counts  = result.get_counts(qc)\n",
    "plot_histogram(counts)"
   ]
  },
  {
   "cell_type": "code",
   "execution_count": 29,
   "id": "27f1de2b",
   "metadata": {},
   "outputs": [
    {
     "data": {
      "image/png": "[encoded data removed]",
      "text/plain": [
       "<Figure size 432x288 with 1 Axes>"
      ]
     },
     "metadata": {
      "needs_background": "light"
     },
     "output_type": "display_data"
    }
   ],
   "source": [
    "#sort the coefficients [0000,0001,0010,....1111]\n",
    "sortCoeff=list(dict(sorted(counts.items())).values())\n",
    "\n",
    "# Create Figure and plots\n",
    "fig = plt.figure();\n",
    "ax = fig.add_subplot(111);\n",
    "for i in range(2**4):\n",
    "    ax.scatter(i, 1, s=sortCoeff[i], c='r')\n",
    "ax.set_aspect(10);\n",
    "ax.axis(\"off\");"
   ]
  },
  {
   "cell_type": "code",
   "execution_count": 47,
   "id": "a13a9ebe",
   "metadata": {},
   "outputs": [],
   "source": [
    "def getplot(N,depth):\n",
    "    qc=run(N,depth)\n",
    "    result = execute(qc, backend, shots=20000).result()\n",
    "    counts  = result.get_counts(qc)\n",
    "    sortCoeff=list(dict(sorted(counts.items())).values())\n",
    "    fig = plt.figure();\n",
    "    ax = fig.add_subplot(111);\n",
    "    for i in range(2**N):\n",
    "        ax.scatter(i, 1, s=sortCoeff[i]/30, c='r')\n",
    "    ax.set_aspect(10);\n",
    "    ax.axis(\"off\");"
   ]
  },
  {
   "cell_type": "code",
   "execution_count": 48,
   "id": "8a478c3f",
   "metadata": {},
   "outputs": [
    {
     "data": {
      "image/png": "[encoded data removed]",
      "text/plain": [
       "<Figure size 432x288 with 1 Axes>"
      ]
     },
     "metadata": {
      "needs_background": "light"
     },
     "output_type": "display_data"
    },
    {
     "data": {
      "image/png": "[encoded data removed]",
      "text/plain": [
       "<Figure size 432x288 with 1 Axes>"
      ]
     },
     "metadata": {
      "needs_background": "light"
     },
     "output_type": "display_data"
    },
    {
     "data": {
      "image/png": "[encoded data removed]",
      "text/plain": [
       "<Figure size 432x288 with 1 Axes>"
      ]
     },
     "metadata": {
      "needs_background": "light"
     },
     "output_type": "display_data"
    },
    {
     "data": {
      "image/png": "[encoded data removed]",
      "text/plain": [
       "<Figure size 432x288 with 1 Axes>"
      ]
     },
     "metadata": {
      "needs_background": "light"
     },
     "output_type": "display_data"
    }
   ],
   "source": [
    "random.seed(1)\n",
    "backend = BasicAer.get_backend('qasm_simulator') # the device to run on\n",
    "getplot(3,2)\n",
    "getplot(3,3)\n",
    "getplot(3,4)\n",
    "getplot(3,5)"
   ]
  },
  {
   "cell_type": "code",
   "execution_count": 49,
   "id": "462261d0",
   "metadata": {
    "scrolled": true
   },
   "outputs": [
    {
     "data": {
      "image/png": "[encoded data removed]",
      "text/plain": [
       "<Figure size 432x288 with 1 Axes>"
      ]
     },
     "metadata": {
      "needs_background": "light"
     },
     "output_type": "display_data"
    },
    {
     "data": {
      "image/png": "[encoded data removed]",
      "text/plain": [
       "<Figure size 432x288 with 1 Axes>"
      ]
     },
     "metadata": {
      "needs_background": "light"
     },
     "output_type": "display_data"
    },
    {
     "data": {
      "image/png": "[encoded data removed]",
      "text/plain": [
       "<Figure size 432x288 with 1 Axes>"
      ]
     },
     "metadata": {
      "needs_background": "light"
     },
     "output_type": "display_data"
    },
    {
     "data": {
      "image/png": "[encoded data removed]",
      "text/plain": [
       "<Figure size 432x288 with 1 Axes>"
      ]
     },
     "metadata": {
      "needs_background": "light"
     },
     "output_type": "display_data"
    }
   ],
   "source": [
    "random.seed(1)\n",
    "backend = BasicAer.get_backend('qasm_simulator') # the device to run on\n",
    "getplot(4,1)\n",
    "getplot(4,2)\n",
    "getplot(4,3)\n",
    "getplot(4,4)"
   ]
  },
  {
   "cell_type": "code",
   "execution_count": 50,
   "id": "94a7f5d2",
   "metadata": {},
   "outputs": [
    {
     "data": {
      "image/png": "[encoded data removed]",
      "text/plain": [
       "<Figure size 432x288 with 1 Axes>"
      ]
     },
     "metadata": {
      "needs_background": "light"
     },
     "output_type": "display_data"
    },
    {
     "data": {
      "image/png": "[encoded data removed]",
      "text/plain": [
       "<Figure size 432x288 with 1 Axes>"
      ]
     },
     "metadata": {
      "needs_background": "light"
     },
     "output_type": "display_data"
    },
    {
     "data": {
      "image/png": "[encoded data removed]",
      "text/plain": [
       "<Figure size 432x288 with 1 Axes>"
      ]
     },
     "metadata": {
      "needs_background": "light"
     },
     "output_type": "display_data"
    },
    {
     "data": {
      "image/png": "[encoded data removed]",
      "text/plain": [
       "<Figure size 432x288 with 1 Axes>"
      ]
     },
     "metadata": {
      "needs_background": "light"
     },
     "output_type": "display_data"
    }
   ],
   "source": [
    "backend = BasicAer.get_backend('qasm_simulator') # the device to run on\n",
    "random.seed(1)\n",
    "getplot(5,1)\n",
    "getplot(5,2)\n",
    "getplot(5,3)\n",
    "getplot(5,4)"
   ]
  }
 ],
 "metadata": {
  "kernelspec": {
   "display_name": "Python 3",
   "language": "python",
   "name": "python3"
  },
  "language_info": {
   "codemirror_mode": {
    "name": "ipython",
    "version": 3
   },
   "file_extension": ".py",
   "mimetype": "text/x-python",
   "name": "python",
   "nbconvert_exporter": "python",
   "pygments_lexer": "ipython3",
   "version": "3.8.10"
  }
 },
 "nbformat": 4,
 "nbformat_minor": 5
}
