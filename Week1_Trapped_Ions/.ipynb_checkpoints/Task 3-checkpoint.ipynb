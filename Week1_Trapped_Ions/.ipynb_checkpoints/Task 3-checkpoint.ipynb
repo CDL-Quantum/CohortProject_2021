{
 "cells": [
  {
<<<<<<< HEAD
   "cell_type": "code",
   "execution_count": 15,
=======
   "cell_type": "markdown",
   "metadata": {},
   "source": [
    "### Preliminaries"
   ]
  },
  {
   "cell_type": "markdown",
   "metadata": {},
   "source": [
    "Import all necessary packages"
   ]
  },
  {
   "cell_type": "code",
   "execution_count": 132,
>>>>>>> week1_task3
   "metadata": {},
   "outputs": [],
   "source": [
    "using PastaQ\n",
    "using ITensors\n",
<<<<<<< HEAD
    "using PyPlot"
=======
    "using Plots\n",
    "using StatsBase, Distributions\n",
    "using LaTeXStrings"
   ]
  },
  {
   "cell_type": "markdown",
   "metadata": {},
   "source": [
    "Call run_random_circuit.jl for simulating quantum circuits"
>>>>>>> week1_task3
   ]
  },
  {
   "cell_type": "code",
<<<<<<< HEAD
   "execution_count": 3,
=======
   "execution_count": 2,
>>>>>>> week1_task3
   "metadata": {},
   "outputs": [
    {
     "data": {
      "text/plain": [
       "run (generic function with 1 method)"
      ]
     },
<<<<<<< HEAD
     "execution_count": 3,
=======
     "execution_count": 2,
>>>>>>> week1_task3
     "metadata": {},
     "output_type": "execute_result"
    }
   ],
   "source": [
    "include(\"run_random_circuit.jl\")"
   ]
  },
  {
<<<<<<< HEAD
   "cell_type": "code",
   "execution_count": 19,
=======
   "cell_type": "markdown",
   "metadata": {},
   "source": [
    "Call proj_measurement.jl for performing projective menasurement. The measurement basis will be  performed in the $\\sigma_z$ basis."
   ]
  },
  {
   "cell_type": "code",
   "execution_count": 79,
>>>>>>> week1_task3
   "metadata": {},
   "outputs": [
    {
     "data": {
      "text/plain": [
<<<<<<< HEAD
       "execute (generic function with 2 methods)"
      ]
     },
     "execution_count": 19,
=======
       "get_probabilities (generic function with 1 method)"
      ]
     },
     "execution_count": 79,
>>>>>>> week1_task3
     "metadata": {},
     "output_type": "execute_result"
    }
   ],
   "source": [
<<<<<<< HEAD
    "include(\"z_measurement.jl\")"
=======
    "include(\"proj_measurement.jl\")"
   ]
  },
  {
   "cell_type": "markdown",
   "metadata": {},
   "source": [
    "Check whether the code works properly with a depth-2 quantum circuit with 2 qubits."
>>>>>>> week1_task3
   ]
  },
  {
   "cell_type": "code",
<<<<<<< HEAD
   "execution_count": 20,
=======
   "execution_count": 80,
>>>>>>> week1_task3
   "metadata": {},
   "outputs": [
    {
     "data": {
      "text/plain": [
<<<<<<< HEAD
       "OrderedCollections.OrderedDict{Int64, Float64} with 16 entries:\n",
       "  0  => 0.00195312\n",
       "  1  => 0.124023\n",
       "  2  => 0.0712891\n",
       "  3  => 0.0888672\n",
       "  4  => 0.0273438\n",
       "  5  => 0.169922\n",
       "  6  => 0.0527344\n",
       "  7  => 0.00976562\n",
       "  8  => 0.0146484\n",
       "  9  => 0.0556641\n",
       "  10 => 0.0283203\n",
       "  11 => 0.0283203\n",
       "  12 => 0.0585938\n",
       "  13 => 0.0136719\n",
       "  14 => 0.234375\n",
       "  15 => 0.0205078"
      ]
     },
     "execution_count": 20,
=======
       "OrderedCollections.OrderedDict{Int64, Float64} with 4 entries:\n",
       "  0 => 0.0292969\n",
       "  1 => 0.126953\n",
       "  2 => 0.599609\n",
       "  3 => 0.244141"
      ]
     },
     "execution_count": 80,
>>>>>>> week1_task3
     "metadata": {},
     "output_type": "execute_result"
    }
   ],
   "source": [
<<<<<<< HEAD
    "N = 4 # The number of Qubit\n",
    "D = 10 # Depth of Circuit\n",
=======
    "N = 2 # The number of Qubit\n",
    "D = 2 # Depth of Circuit\n",
>>>>>>> week1_task3
    "shots = 1024 # The number of shot\n",
    "\n",
    "ϕ = run(N,D) # Get state\n",
    "qc_result = execute(ϕ,N,shots,\"Z\") # Get decimal representation of shot result(Vector)\n",
    "Prob = get_probabilities(N,qc_result) # Get probabilities from Count"
   ]
  },
  {
<<<<<<< HEAD
   "cell_type": "code",
   "execution_count": 21,
=======
   "cell_type": "markdown",
   "metadata": {},
   "source": [
    "### Main part of the solution"
   ]
  },
  {
   "cell_type": "markdown",
   "metadata": {},
   "source": [
    "We'd like to generate the probability distribution (of the projective measurement outcomes) from quantum circuits with varying circuit depth while the number of qubits is fixed. Without loss of generality, we will set the number of qubits to be 8 in this problem."
   ]
  },
  {
   "cell_type": "code",
   "execution_count": 81,
>>>>>>> week1_task3
   "metadata": {},
   "outputs": [
    {
     "data": {
<<<<<<< HEAD
      "image/png": "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",
      "text/plain": [
       "Figure(PyObject <Figure size 640x480 with 1 Axes>)"
      ]
     },
     "metadata": {},
     "output_type": "display_data"
    },
    {
     "data": {
      "text/plain": [
       "(-0.75, 15.75, -0.05500000000000001, 0.05500000000000001)"
      ]
     },
     "execution_count": 21,
=======
      "text/plain": [
       "prob_vector (generic function with 1 method)"
      ]
     },
     "execution_count": 81,
     "metadata": {},
     "output_type": "execute_result"
    }
   ],
   "source": [
    "# Create a function that stores probabilities as a vector (by extracting it frmo the dictionary).\n",
    "function prob_vector(P)\n",
    "    p = zeros(2^N)\n",
    "    for i in 0:2^N-1\n",
    "        p[i+1] = P[i]\n",
    "    end\n",
    "    return p\n",
    "end"
   ]
  },
  {
   "cell_type": "markdown",
   "metadata": {},
   "source": [
    "To demonstrate how the cumulative distribution converges to $1-\\exp(-2^N p)$ as we increase the quantum circuit depth, we calculate the cdf for quantum circuits with depth = 1, 2, 5, 10, 50, 100."
   ]
  },
  {
   "cell_type": "code",
   "execution_count": 117,
   "metadata": {},
   "outputs": [
    {
     "data": {
      "text/plain": [
       "OrderedCollections.OrderedDict{Int64, Float64} with 256 entries:\n",
       "  0  => 0.00646973\n",
       "  1  => 0.000366211\n",
       "  2  => 0.00366211\n",
       "  3  => 0.00292969\n",
       "  4  => 0.0107422\n",
       "  5  => 0.00158691\n",
       "  6  => 0.000976562\n",
       "  7  => 0.000488281\n",
       "  8  => 0.00012207\n",
       "  9  => 0.00317383\n",
       "  10 => 0.00549316\n",
       "  11 => 0.000976562\n",
       "  12 => 0.00109863\n",
       "  13 => 0.0150146\n",
       "  14 => 0.0078125\n",
       "  15 => 0.0\n",
       "  16 => 0.000976562\n",
       "  17 => 0.00219727\n",
       "  18 => 0.00146484\n",
       "  19 => 0.00537109\n",
       "  20 => 0.000732422\n",
       "  21 => 0.00927734\n",
       "  22 => 0.00561523\n",
       "  23 => 0.00524902\n",
       "  24 => 0.0150146\n",
       "  ⋮  => ⋮"
      ]
     },
     "execution_count": 117,
     "metadata": {},
     "output_type": "execute_result"
    }
   ],
   "source": [
    "# Number of qubits is 8\n",
    "N = 8\n",
    "# Fix the number of shots to be 8192 (just to make sure that we have reasonably good measurement statistics)\n",
    "shots = 8192\n",
    "\n",
    "# Circuit depth = 1\n",
    "ψ1 = run(N,1) # Get state\n",
    "qc1 = execute(ψ1,N,shots,\"Z\") # Get decimal representation of shot result(Vector)\n",
    "Prob1 = get_probabilities(N,qc1) # Get probabilities from Count\n",
    "\n",
    "# Circuit depth = 2\n",
    "ψ2 = run(N,2) # Get state\n",
    "qc2 = execute(ψ2,N,shots,\"Z\") # Get decimal representation of shot result(Vector)\n",
    "Prob2 = get_probabilities(N,qc2) # Get probabilities from Count\n",
    "\n",
    "# Circuit depth = 5\n",
    "ψ5 = run(N,5) # Get state\n",
    "qc5 = execute(ψ5,N,shots,\"Z\"); # Get decimal representation of shot result(Vector)\n",
    "Prob5 = get_probabilities(N,qc5); # Get probabilities from Count\n",
    "\n",
    "# Circuit depth = 10\n",
    "ψ10 = run(N,10) # Get state\n",
    "qc10 = execute(ψ10,N,shots,\"Z\") # Get decimal representation of shot result(Vector)\n",
    "Prob10 = get_probabilities(N,qc10) # Get probabilities from Count\n",
    "\n",
    "# Circuit depth = 50\n",
    "ψ50 = run(N,50) # Get state\n",
    "qc50 = execute(ψ50,N,shots,\"Z\") # Get decimal representation of shot result(Vector)\n",
    "Prob50 = get_probabilities(N,qc50) # Get probabilities from Count\n",
    "\n",
    "# Circuit depth = 100\n",
    "ψ100 = run(N,100) # Get state\n",
    "qc100 = execute(ψ100,N,shots,\"Z\") # Get decimal representation of shot result(Vector)\n",
    "Prob100 = get_probabilities(N,qc100) # Get probabilities from Count"
   ]
  },
  {
   "cell_type": "markdown",
   "metadata": {},
   "source": [
    "Convert probability dictionaries to vectors for cdf calculation and plotting."
   ]
  },
  {
   "cell_type": "code",
   "execution_count": 119,
   "metadata": {},
   "outputs": [],
   "source": [
    "p1 = prob_vector(Prob1);\n",
    "p2 = prob_vector(Prob2);\n",
    "p5 = prob_vector(Prob5);\n",
    "p10 = prob_vector(Prob10);\n",
    "p50 = prob_vector(Prob50);\n",
    "p100 = prob_vector(Prob100);"
   ]
  },
  {
   "cell_type": "markdown",
   "metadata": {},
   "source": [
    "Calculate the cdfs"
   ]
  },
  {
   "cell_type": "code",
   "execution_count": 120,
   "metadata": {},
   "outputs": [],
   "source": [
    "gcdf1 = ecdf(p1);\n",
    "gcdf2 = ecdf(p2);\n",
    "gcdf5 = ecdf(p5);\n",
    "gcdf10 = ecdf(p10);\n",
    "gcdf50 = ecdf(p50);\n",
    "gcdf100 = ecdf(p100);"
   ]
  },
  {
   "cell_type": "markdown",
   "metadata": {},
   "source": [
    "Now plot the results to see the convergence as expected."
   ]
  },
  {
   "cell_type": "code",
   "execution_count": 149,
   "metadata": {},
   "outputs": [
    {
     "data": {
      "image/svg+xml": [
       "<?xml version=\"1.0\" encoding=\"utf-8\"?>\n",
       "<svg xmlns=\"http://www.w3.org/2000/svg\" xmlns:xlink=\"http://www.w3.org/1999/xlink\" width=\"600\" height=\"400\" viewBox=\"0 0 2400 1600\">\n",
       "<defs>\n",
       "  <clipPath id=\"clip220\">\n",
       "    <rect x=\"0\" y=\"0\" width=\"2400\" height=\"1600\"/>\n",
       "  </clipPath>\n",
       "</defs>\n",
       "<path clip-path=\"url(#clip220)\" d=\"\n",
       "M0 1600 L2400 1600 L2400 0 L0 0  Z\n",
       "  \" fill=\"#ffffff\" fill-rule=\"evenodd\" fill-opacity=\"1\"/>\n",
       "<defs>\n",
       "  <clipPath id=\"clip221\">\n",
       "    <rect x=\"480\" y=\"0\" width=\"1681\" height=\"1600\"/>\n",
       "  </clipPath>\n",
       "</defs>\n",
       "<defs>\n",
       "  <clipPath id=\"clip222\">\n",
       "    <rect x=\"254\" y=\"47\" width=\"2099\" height=\"1359\"/>\n",
       "  </clipPath>\n",
       "</defs>\n",
       "<path clip-path=\"url(#clip220)\" d=\"\n",
       "M254.669 1404.8 L2352.76 1404.8 L2352.76 47.2441 L254.669 47.2441  Z\n",
       "  \" fill=\"#ffffff\" fill-rule=\"evenodd\" fill-opacity=\"1\"/>\n",
       "<polyline clip-path=\"url(#clip222)\" style=\"stroke:#000000; stroke-linecap:butt; stroke-linejoin:round; stroke-width:2; stroke-opacity:0.1; fill:none\" points=\"\n",
       "  314.049,1404.8 314.049,47.2441 \n",
       "  \"/>\n",
       "<polyline clip-path=\"url(#clip222)\" style=\"stroke:#000000; stroke-linecap:butt; stroke-linejoin:round; stroke-width:2; stroke-opacity:0.1; fill:none\" points=\"\n",
       "  1047.41,1404.8 1047.41,47.2441 \n",
       "  \"/>\n",
       "<polyline clip-path=\"url(#clip222)\" style=\"stroke:#000000; stroke-linecap:butt; stroke-linejoin:round; stroke-width:2; stroke-opacity:0.1; fill:none\" points=\"\n",
       "  1780.78,1404.8 1780.78,47.2441 \n",
       "  \"/>\n",
       "<polyline clip-path=\"url(#clip220)\" style=\"stroke:#000000; stroke-linecap:butt; stroke-linejoin:round; stroke-width:4; stroke-opacity:1; fill:none\" points=\"\n",
       "  254.669,1404.8 2352.76,1404.8 \n",
       "  \"/>\n",
       "<polyline clip-path=\"url(#clip220)\" style=\"stroke:#000000; stroke-linecap:butt; stroke-linejoin:round; stroke-width:4; stroke-opacity:1; fill:none\" points=\"\n",
       "  314.049,1404.8 314.049,1388.51 \n",
       "  \"/>\n",
       "<polyline clip-path=\"url(#clip220)\" style=\"stroke:#000000; stroke-linecap:butt; stroke-linejoin:round; stroke-width:4; stroke-opacity:1; fill:none\" points=\"\n",
       "  1047.41,1404.8 1047.41,1388.51 \n",
       "  \"/>\n",
       "<polyline clip-path=\"url(#clip220)\" style=\"stroke:#000000; stroke-linecap:butt; stroke-linejoin:round; stroke-width:4; stroke-opacity:1; fill:none\" points=\"\n",
       "  1780.78,1404.8 1780.78,1388.51 \n",
       "  \"/>\n",
       "<path clip-path=\"url(#clip220)\" d=\"M238.869 1512.61 L250.328 1512.61 L250.328 1473.06 L237.862 1475.56 L237.862 1469.17 L250.258 1466.67 L257.272 1466.67 L257.272 1512.61 L268.73 1512.61 L268.73 1518.51 L238.869 1518.51 L238.869 1512.61 Z\" fill=\"#000000\" fill-rule=\"evenodd\" fill-opacity=\"1\" /><path clip-path=\"url(#clip220)\" d=\"M297.897 1471.29 Q292.48 1471.29 289.737 1476.63 Q287.029 1481.95 287.029 1492.64 Q287.029 1503.3 289.737 1508.65 Q292.48 1513.96 297.897 1513.96 Q303.348 1513.96 306.057 1508.65 Q308.8 1503.3 308.8 1492.64 Q308.8 1481.95 306.057 1476.63 Q303.348 1471.29 297.897 1471.29 M297.897 1465.73 Q306.612 1465.73 311.195 1472.64 Q315.813 1479.52 315.813 1492.64 Q315.813 1505.73 311.195 1512.64 Q306.612 1519.51 297.897 1519.51 Q289.182 1519.51 284.564 1512.64 Q279.98 1505.73 279.98 1492.64 Q279.98 1479.52 284.564 1472.64 Q289.182 1465.73 297.897 1465.73 Z\" fill=\"#000000\" fill-rule=\"evenodd\" fill-opacity=\"1\" /><path clip-path=\"url(#clip220)\" d=\"M315.813 1456.88 L351.981 1456.88 L351.981 1461.68 L315.813 1461.68 L315.813 1456.88 Z\" fill=\"#000000\" fill-rule=\"evenodd\" fill-opacity=\"1\" /><path clip-path=\"url(#clip220)\" d=\"M381.547 1454.68 Q385.637 1455.56 387.922 1458.32 Q390.236 1461.09 390.236 1465.15 Q390.236 1471.38 385.948 1474.8 Q381.659 1478.21 373.76 1478.21 Q371.108 1478.21 368.287 1477.67 Q365.494 1477.17 362.504 1476.12 L362.504 1470.62 Q364.874 1472 367.695 1472.71 Q370.516 1473.41 373.591 1473.41 Q378.951 1473.41 381.744 1471.3 Q384.565 1469.18 384.565 1465.15 Q384.565 1461.42 381.942 1459.34 Q379.346 1457.22 374.691 1457.22 L369.782 1457.22 L369.782 1452.54 L374.917 1452.54 Q379.12 1452.54 381.349 1450.87 Q383.578 1449.18 383.578 1446.02 Q383.578 1442.78 381.264 1441.06 Q378.979 1439.31 374.691 1439.31 Q372.35 1439.31 369.669 1439.81 Q366.989 1440.32 363.773 1441.39 L363.773 1436.32 Q367.018 1435.41 369.839 1434.96 Q372.688 1434.51 375.199 1434.51 Q381.688 1434.51 385.468 1437.47 Q389.248 1440.41 389.248 1445.43 Q389.248 1448.93 387.245 1451.35 Q385.242 1453.75 381.547 1454.68 Z\" fill=\"#000000\" fill-rule=\"evenodd\" fill-opacity=\"1\" /><path clip-path=\"url(#clip220)\" d=\"M972.812 1512.61 L984.27 1512.61 L984.27 1473.06 L971.805 1475.56 L971.805 1469.17 L984.2 1466.67 L991.214 1466.67 L991.214 1512.61 L1002.67 1512.61 L1002.67 1518.51 L972.812 1518.51 L972.812 1512.61 Z\" fill=\"#000000\" fill-rule=\"evenodd\" fill-opacity=\"1\" /><path clip-path=\"url(#clip220)\" d=\"M1031.84 1471.29 Q1026.42 1471.29 1023.68 1476.63 Q1020.97 1481.95 1020.97 1492.64 Q1020.97 1503.3 1023.68 1508.65 Q1026.42 1513.96 1031.84 1513.96 Q1037.29 1513.96 1040 1508.65 Q1042.74 1503.3 1042.74 1492.64 Q1042.74 1481.95 1040 1476.63 Q1037.29 1471.29 1031.84 1471.29 M1031.84 1465.73 Q1040.55 1465.73 1045.14 1472.64 Q1049.76 1479.52 1049.76 1492.64 Q1049.76 1505.73 1045.14 1512.64 Q1040.55 1519.51 1031.84 1519.51 Q1023.12 1519.51 1018.51 1512.64 Q1013.92 1505.73 1013.92 1492.64 Q1013.92 1479.52 1018.51 1472.64 Q1023.12 1465.73 1031.84 1465.73 Z\" fill=\"#000000\" fill-rule=\"evenodd\" fill-opacity=\"1\" /><path clip-path=\"url(#clip220)\" d=\"M1049.76 1456.88 L1085.92 1456.88 L1085.92 1461.68 L1049.76 1461.68 L1049.76 1456.88 Z\" fill=\"#000000\" fill-rule=\"evenodd\" fill-opacity=\"1\" /><path clip-path=\"url(#clip220)\" d=\"M1103.13 1472.6 L1123.02 1472.6 L1123.02 1477.39 L1096.28 1477.39 L1096.28 1472.6 Q1099.52 1469.24 1105.11 1463.6 Q1110.72 1457.93 1112.16 1456.29 Q1114.9 1453.21 1115.97 1451.1 Q1117.07 1448.95 1117.07 1446.9 Q1117.07 1443.54 1114.7 1441.42 Q1112.36 1439.31 1108.58 1439.31 Q1105.9 1439.31 1102.91 1440.24 Q1099.94 1441.17 1096.56 1443.06 L1096.56 1437.3 Q1100 1435.92 1102.99 1435.22 Q1105.98 1434.51 1108.46 1434.51 Q1115.01 1434.51 1118.9 1437.78 Q1122.8 1441.06 1122.8 1446.53 Q1122.8 1449.12 1121.81 1451.47 Q1120.85 1453.78 1118.28 1456.94 Q1117.58 1457.76 1113.8 1461.68 Q1110.02 1465.57 1103.13 1472.6 Z\" fill=\"#000000\" fill-rule=\"evenodd\" fill-opacity=\"1\" /><path clip-path=\"url(#clip220)\" d=\"M1705.95 1512.61 L1717.41 1512.61 L1717.41 1473.06 L1704.94 1475.56 L1704.94 1469.17 L1717.34 1466.67 L1724.35 1466.67 L1724.35 1512.61 L1735.81 1512.61 L1735.81 1518.51 L1705.95 1518.51 L1705.95 1512.61 Z\" fill=\"#000000\" fill-rule=\"evenodd\" fill-opacity=\"1\" /><path clip-path=\"url(#clip220)\" d=\"M1764.98 1471.29 Q1759.56 1471.29 1756.82 1476.63 Q1754.11 1481.95 1754.11 1492.64 Q1754.11 1503.3 1756.82 1508.65 Q1759.56 1513.96 1764.98 1513.96 Q1770.43 1513.96 1773.14 1508.65 Q1775.88 1503.3 1775.88 1492.64 Q1775.88 1481.95 1773.14 1476.63 Q1770.43 1471.29 1764.98 1471.29 M1764.98 1465.73 Q1773.69 1465.73 1778.28 1472.64 Q1782.89 1479.52 1782.89 1492.64 Q1782.89 1505.73 1778.28 1512.64 Q1773.69 1519.51 1764.98 1519.51 Q1756.26 1519.51 1751.64 1512.64 Q1747.06 1505.73 1747.06 1492.64 Q1747.06 1479.52 1751.64 1472.64 Q1756.26 1465.73 1764.98 1465.73 Z\" fill=\"#000000\" fill-rule=\"evenodd\" fill-opacity=\"1\" /><path clip-path=\"url(#clip220)\" d=\"M1782.89 1456.88 L1819.06 1456.88 L1819.06 1461.68 L1782.89 1461.68 L1782.89 1456.88 Z\" fill=\"#000000\" fill-rule=\"evenodd\" fill-opacity=\"1\" /><path clip-path=\"url(#clip220)\" d=\"M1832.35 1472.6 L1841.66 1472.6 L1841.66 1440.46 L1831.53 1442.49 L1831.53 1437.3 L1841.6 1435.27 L1847.3 1435.27 L1847.3 1472.6 L1856.61 1472.6 L1856.61 1477.39 L1832.35 1477.39 L1832.35 1472.6 Z\" fill=\"#000000\" fill-rule=\"evenodd\" fill-opacity=\"1\" /><path clip-path=\"url(#clip220)\" d=\"M1323.38 1552.84 Q1323.38 1557.97 1320.78 1562.93 Q1318.22 1567.88 1314.18 1570.94 Q1310.14 1573.96 1306.03 1573.96 Q1303.57 1573.96 1301.92 1572.62 Q1300.3 1571.25 1299.42 1569.32 Q1298.76 1571.71 1297.32 1577.44 Q1295.88 1583.16 1295.88 1583.72 Q1295.88 1584.04 1295.95 1584.18 Q1296.02 1584.32 1296.33 1584.5 Q1296.65 1584.71 1297.42 1584.78 Q1298.19 1584.88 1299.49 1584.88 Q1300.16 1584.88 1300.41 1584.88 Q1300.69 1584.92 1300.93 1585.09 Q1301.22 1585.27 1301.22 1585.66 Q1301.22 1587.1 1299.92 1587.1 Q1298.76 1587.1 1296.37 1586.99 Q1293.98 1586.89 1292.78 1586.89 Q1291.76 1586.89 1289.73 1586.99 Q1287.69 1587.1 1286.74 1587.1 Q1285.79 1587.1 1285.79 1586.25 Q1285.79 1585.76 1285.93 1585.45 Q1286.04 1585.16 1286.32 1585.02 Q1286.6 1584.92 1286.85 1584.88 Q1287.06 1584.88 1287.48 1584.88 Q1289.09 1584.88 1289.8 1584.6 Q1290.5 1584.36 1290.75 1583.83 Q1291.03 1583.34 1291.34 1581.93 L1299.42 1549.89 Q1299.92 1547.75 1299.92 1546.24 Q1299.92 1544.34 1299.32 1543.64 Q1298.72 1542.93 1297.67 1542.93 Q1295.84 1542.93 1294.65 1545.11 Q1293.45 1547.29 1292.43 1551.51 Q1292.12 1552.67 1291.91 1552.91 Q1291.73 1553.16 1291.2 1553.16 Q1290.32 1553.12 1290.32 1552.42 Q1290.32 1552.24 1290.61 1551.12 Q1290.89 1549.96 1291.41 1548.27 Q1291.98 1546.55 1292.57 1545.46 Q1292.92 1544.73 1293.24 1544.23 Q1293.56 1543.74 1294.19 1542.97 Q1294.86 1542.2 1295.8 1541.77 Q1296.75 1541.35 1297.91 1541.35 Q1300.16 1541.35 1302.02 1542.69 Q1303.89 1544.02 1304.38 1546.73 Q1306.38 1544.37 1308.84 1542.86 Q1311.3 1541.35 1313.79 1541.35 Q1317.94 1541.35 1320.64 1544.59 Q1323.38 1547.78 1323.38 1552.84 M1318.19 1549.68 Q1318.19 1546.48 1316.96 1544.73 Q1315.76 1542.93 1313.58 1542.93 Q1310.88 1542.93 1307.75 1545.67 Q1304.66 1548.27 1304.03 1550.7 L1300.48 1564.79 L1300.27 1565.95 Q1300.27 1566.16 1300.37 1566.79 Q1300.51 1567.39 1300.9 1568.37 Q1301.32 1569.35 1301.88 1570.23 Q1302.48 1571.08 1303.53 1571.71 Q1304.62 1572.34 1305.96 1572.34 Q1308.1 1572.34 1310.42 1570.44 Q1312.77 1568.55 1314.53 1564.96 Q1315.62 1562.64 1316.89 1557.66 Q1318.19 1552.63 1318.19 1549.68 Z\" fill=\"#000000\" fill-rule=\"evenodd\" fill-opacity=\"1\" /><polyline clip-path=\"url(#clip222)\" style=\"stroke:#000000; stroke-linecap:butt; stroke-linejoin:round; stroke-width:2; stroke-opacity:0.1; fill:none\" points=\"\n",
       "  254.669,1078.28 2352.76,1078.28 \n",
       "  \"/>\n",
       "<polyline clip-path=\"url(#clip222)\" style=\"stroke:#000000; stroke-linecap:butt; stroke-linejoin:round; stroke-width:2; stroke-opacity:0.1; fill:none\" points=\"\n",
       "  254.669,747.41 2352.76,747.41 \n",
       "  \"/>\n",
       "<polyline clip-path=\"url(#clip222)\" style=\"stroke:#000000; stroke-linecap:butt; stroke-linejoin:round; stroke-width:2; stroke-opacity:0.1; fill:none\" points=\"\n",
       "  254.669,416.538 2352.76,416.538 \n",
       "  \"/>\n",
       "<polyline clip-path=\"url(#clip222)\" style=\"stroke:#000000; stroke-linecap:butt; stroke-linejoin:round; stroke-width:2; stroke-opacity:0.1; fill:none\" points=\"\n",
       "  254.669,85.6654 2352.76,85.6654 \n",
       "  \"/>\n",
       "<polyline clip-path=\"url(#clip220)\" style=\"stroke:#000000; stroke-linecap:butt; stroke-linejoin:round; stroke-width:4; stroke-opacity:1; fill:none\" points=\"\n",
       "  254.669,1404.8 254.669,47.2441 \n",
       "  \"/>\n",
       "<polyline clip-path=\"url(#clip220)\" style=\"stroke:#000000; stroke-linecap:butt; stroke-linejoin:round; stroke-width:4; stroke-opacity:1; fill:none\" points=\"\n",
       "  254.669,1078.28 279.846,1078.28 \n",
       "  \"/>\n",
       "<polyline clip-path=\"url(#clip220)\" style=\"stroke:#000000; stroke-linecap:butt; stroke-linejoin:round; stroke-width:4; stroke-opacity:1; fill:none\" points=\"\n",
       "  254.669,747.41 279.846,747.41 \n",
       "  \"/>\n",
       "<polyline clip-path=\"url(#clip220)\" style=\"stroke:#000000; stroke-linecap:butt; stroke-linejoin:round; stroke-width:4; stroke-opacity:1; fill:none\" points=\"\n",
       "  254.669,416.538 279.846,416.538 \n",
       "  \"/>\n",
       "<polyline clip-path=\"url(#clip220)\" style=\"stroke:#000000; stroke-linecap:butt; stroke-linejoin:round; stroke-width:4; stroke-opacity:1; fill:none\" points=\"\n",
       "  254.669,85.6654 279.846,85.6654 \n",
       "  \"/>\n",
       "<path clip-path=\"url(#clip220)\" d=\"M132.177 1056.98 Q126.76 1056.98 124.017 1062.33 Q121.309 1067.64 121.309 1078.33 Q121.309 1088.99 124.017 1094.34 Q126.76 1099.65 132.177 1099.65 Q137.628 1099.65 140.336 1094.34 Q143.079 1088.99 143.079 1078.33 Q143.079 1067.64 140.336 1062.33 Q137.628 1056.98 132.177 1056.98 M132.177 1051.42 Q140.892 1051.42 145.475 1058.33 Q150.093 1065.21 150.093 1078.33 Q150.093 1091.42 145.475 1098.33 Q140.892 1105.21 132.177 1105.21 Q123.461 1105.21 118.843 1098.33 Q114.26 1091.42 114.26 1078.33 Q114.26 1065.21 118.843 1058.33 Q123.461 1051.42 132.177 1051.42 Z\" fill=\"#000000\" fill-rule=\"evenodd\" fill-opacity=\"1\" /><path clip-path=\"url(#clip220)\" d=\"M162.42 1095.38 L169.746 1095.38 L169.746 1104.2 L162.42 1104.2 L162.42 1095.38 Z\" fill=\"#000000\" fill-rule=\"evenodd\" fill-opacity=\"1\" /><path clip-path=\"url(#clip220)\" d=\"M204.294 1058.47 L186.586 1086.15 L204.294 1086.15 L204.294 1058.47 M202.454 1052.36 L211.274 1052.36 L211.274 1086.15 L218.669 1086.15 L218.669 1091.98 L211.274 1091.98 L211.274 1104.2 L204.294 1104.2 L204.294 1091.98 L180.892 1091.98 L180.892 1085.21 L202.454 1052.36 Z\" fill=\"#000000\" fill-rule=\"evenodd\" fill-opacity=\"1\" /><path clip-path=\"url(#clip220)\" d=\"M132.663 726.108 Q127.246 726.108 124.503 731.455 Q121.795 736.768 121.795 747.462 Q121.795 758.122 124.503 763.469 Q127.246 768.781 132.663 768.781 Q138.114 768.781 140.823 763.469 Q143.566 758.122 143.566 747.462 Q143.566 736.768 140.823 731.455 Q138.114 726.108 132.663 726.108 M132.663 720.552 Q141.378 720.552 145.961 727.462 Q150.579 734.337 150.579 747.462 Q150.579 760.552 145.961 767.462 Q141.378 774.337 132.663 774.337 Q123.948 774.337 119.33 767.462 Q114.746 760.552 114.746 747.462 Q114.746 734.337 119.33 727.462 Q123.948 720.552 132.663 720.552 Z\" fill=\"#000000\" fill-rule=\"evenodd\" fill-opacity=\"1\" /><path clip-path=\"url(#clip220)\" d=\"M162.906 764.51 L170.232 764.51 L170.232 773.33 L162.906 773.33 L162.906 764.51 Z\" fill=\"#000000\" fill-rule=\"evenodd\" fill-opacity=\"1\" /><path clip-path=\"url(#clip220)\" d=\"M201.378 744.615 Q196.656 744.615 193.878 747.844 Q191.135 751.073 191.135 756.698 Q191.135 762.288 193.878 765.552 Q196.656 768.781 201.378 768.781 Q206.1 768.781 208.843 765.552 Q211.621 762.288 211.621 756.698 Q211.621 751.073 208.843 747.844 Q206.1 744.615 201.378 744.615 M215.301 722.636 L215.301 729.025 Q212.662 727.775 209.954 727.115 Q207.28 726.455 204.642 726.455 Q197.697 726.455 194.017 731.143 Q190.371 735.83 189.85 745.309 Q191.899 742.288 194.989 740.691 Q198.079 739.059 201.794 739.059 Q209.607 739.059 214.121 743.816 Q218.669 748.538 218.669 756.698 Q218.669 764.684 213.947 769.51 Q209.225 774.337 201.378 774.337 Q192.385 774.337 187.628 767.462 Q182.871 760.552 182.871 747.462 Q182.871 735.17 188.704 727.879 Q194.538 720.552 204.364 720.552 Q207.003 720.552 209.676 721.073 Q212.385 721.594 215.301 722.636 Z\" fill=\"#000000\" fill-rule=\"evenodd\" fill-opacity=\"1\" /><path clip-path=\"url(#clip220)\" d=\"M133.045 395.236 Q127.628 395.236 124.885 400.583 Q122.177 405.895 122.177 416.59 Q122.177 427.249 124.885 432.597 Q127.628 437.909 133.045 437.909 Q138.496 437.909 141.204 432.597 Q143.947 427.249 143.947 416.59 Q143.947 405.895 141.204 400.583 Q138.496 395.236 133.045 395.236 M133.045 389.68 Q141.76 389.68 146.343 396.59 Q150.961 403.465 150.961 416.59 Q150.961 429.68 146.343 436.59 Q141.76 443.465 133.045 443.465 Q124.33 443.465 119.712 436.59 Q115.128 429.68 115.128 416.59 Q115.128 403.465 119.712 396.59 Q124.33 389.68 133.045 389.68 Z\" fill=\"#000000\" fill-rule=\"evenodd\" fill-opacity=\"1\" /><path clip-path=\"url(#clip220)\" d=\"M163.288 433.638 L170.614 433.638 L170.614 442.458 L163.288 442.458 L163.288 433.638 Z\" fill=\"#000000\" fill-rule=\"evenodd\" fill-opacity=\"1\" /><path clip-path=\"url(#clip220)\" d=\"M200.892 417.84 Q195.892 417.84 193.01 420.513 Q190.163 423.187 190.163 427.874 Q190.163 432.562 193.01 435.235 Q195.892 437.909 200.892 437.909 Q205.892 437.909 208.774 435.235 Q211.655 432.527 211.655 427.874 Q211.655 423.187 208.774 420.513 Q205.926 417.84 200.892 417.84 M193.878 414.854 Q189.364 413.743 186.829 410.652 Q184.329 407.562 184.329 403.118 Q184.329 396.902 188.739 393.291 Q193.183 389.68 200.892 389.68 Q208.635 389.68 213.044 393.291 Q217.454 396.902 217.454 403.118 Q217.454 407.562 214.919 410.652 Q212.419 413.743 207.94 414.854 Q213.01 416.034 215.822 419.472 Q218.669 422.909 218.669 427.874 Q218.669 435.409 214.051 439.437 Q209.468 443.465 200.892 443.465 Q192.315 443.465 187.697 439.437 Q183.114 435.409 183.114 427.874 Q183.114 422.909 185.961 419.472 Q188.808 416.034 193.878 414.854 M191.308 403.777 Q191.308 407.805 193.808 410.062 Q196.343 412.319 200.892 412.319 Q205.406 412.319 207.94 410.062 Q210.51 407.805 210.51 403.777 Q210.51 399.75 207.94 397.493 Q205.406 395.236 200.892 395.236 Q196.343 395.236 193.808 397.493 Q191.308 399.75 191.308 403.777 Z\" fill=\"#000000\" fill-rule=\"evenodd\" fill-opacity=\"1\" /><path clip-path=\"url(#clip220)\" d=\"M119.121 105.683 L130.58 105.683 L130.58 66.1343 L118.114 68.6342 L118.114 62.2454 L130.51 59.7454 L137.524 59.7454 L137.524 105.683 L148.982 105.683 L148.982 111.585 L119.121 111.585 L119.121 105.683 Z\" fill=\"#000000\" fill-rule=\"evenodd\" fill-opacity=\"1\" /><path clip-path=\"url(#clip220)\" d=\"M163.149 102.766 L170.475 102.766 L170.475 111.585 L163.149 111.585 L163.149 102.766 Z\" fill=\"#000000\" fill-rule=\"evenodd\" fill-opacity=\"1\" /><path clip-path=\"url(#clip220)\" d=\"M200.753 64.3634 Q195.336 64.3634 192.593 69.7106 Q189.885 75.0231 189.885 85.7175 Q189.885 96.3772 192.593 101.724 Q195.336 107.037 200.753 107.037 Q206.204 107.037 208.912 101.724 Q211.655 96.3772 211.655 85.7175 Q211.655 75.0231 208.912 69.7106 Q206.204 64.3634 200.753 64.3634 M200.753 58.8079 Q209.468 58.8079 214.051 65.7176 Q218.669 72.5926 218.669 85.7175 Q218.669 98.8077 214.051 105.717 Q209.468 112.592 200.753 112.592 Q192.038 112.592 187.419 105.717 Q182.836 98.8077 182.836 85.7175 Q182.836 72.5926 187.419 65.7176 Q192.038 58.8079 200.753 58.8079 Z\" fill=\"#000000\" fill-rule=\"evenodd\" fill-opacity=\"1\" /><path clip-path=\"url(#clip220)\" d=\"M20.1444 750.576 L26.9239 750.576 Q23.9002 753.823 22.4043 757.515 Q20.9083 761.175 20.9083 765.313 Q20.9083 773.461 25.9054 777.79 Q30.8707 782.118 40.2919 782.118 Q49.6813 782.118 54.6784 777.79 Q59.6436 773.461 59.6436 765.313 Q59.6436 761.175 58.1477 757.515 Q56.6518 753.823 53.6281 750.576 L60.3439 750.576 Q62.6355 753.95 63.7814 757.738 Q64.9272 761.494 64.9272 765.695 Q64.9272 776.485 58.3387 782.691 Q51.7183 788.898 40.2919 788.898 Q28.8336 788.898 22.2451 782.691 Q15.6248 776.485 15.6248 765.695 Q15.6248 761.43 16.7706 757.674 Q17.8846 753.886 20.1444 750.576 Z\" fill=\"#000000\" fill-rule=\"evenodd\" fill-opacity=\"1\" /><path clip-path=\"url(#clip220)\" d=\"M21.7677 734.216 L58.7206 734.216 L58.7206 726.45 Q58.7206 716.615 54.2646 712.064 Q49.8086 707.48 40.1964 707.48 Q30.6479 707.48 26.2237 712.064 Q21.7677 716.615 21.7677 726.45 L21.7677 734.216 M16.4842 740.646 L16.4842 727.437 Q16.4842 713.623 22.2451 707.162 Q27.9743 700.701 40.1964 700.701 Q52.4822 700.701 58.2432 707.194 Q64.0042 713.687 64.0042 727.437 L64.0042 740.646 L16.4842 740.646 Z\" fill=\"#000000\" fill-rule=\"evenodd\" fill-opacity=\"1\" /><path clip-path=\"url(#clip220)\" d=\"M16.4842 690.452 L16.4842 663.143 L21.895 663.143 L21.895 684.023 L35.8996 684.023 L35.8996 665.18 L41.3104 665.18 L41.3104 684.023 L64.0042 684.023 L64.0042 690.452 L16.4842 690.452 Z\" fill=\"#000000\" fill-rule=\"evenodd\" fill-opacity=\"1\" /><polyline clip-path=\"url(#clip222)\" style=\"stroke:#000000; stroke-linecap:butt; stroke-linejoin:round; stroke-width:12; stroke-opacity:1; fill:none\" stroke-dasharray=\"48, 30\" points=\"\n",
       "  314.049,1366.38 534.814,1077.12 663.953,853.19 755.578,679.838 826.648,545.64 884.717,441.751 933.813,361.326 976.343,299.066 1013.86,250.868 1047.41,213.555 \n",
       "  1077.77,184.67 1105.48,162.309 1130.97,144.999 1154.58,131.598 1176.55,121.224 1197.11,113.192 1216.42,106.975 1234.62,102.162 1251.84,98.4363 1268.18,95.5519 \n",
       "  1283.72,93.319 1298.53,91.5903 1312.69,90.2521 1326.25,89.2162 1339.25,88.4142 1351.74,87.7934 1363.76,87.3128 1375.34,86.9407 1386.52,86.6527 1397.32,86.4297 \n",
       "  1407.76,86.2571 1417.87,86.1234 1427.67,86.02 1437.18,85.9399 1446.41,85.8779 1455.39,85.8299 1464.11,85.7928 1472.61,85.764 1480.88,85.7417 1488.94,85.7245 \n",
       "  1496.81,85.7111 1504.48,85.7008 1511.98,85.6928 1519.3,85.6866 1526.46,85.6818 1533.46,85.6781 1540.31,85.6753 1547.01,85.673 1553.58,85.6713 1560.01,85.67 \n",
       "  1566.32,85.6689 1572.5,85.6681 1578.57,85.6675 1584.52,85.667 1590.37,85.6667 1596.11,85.6664 1601.74,85.6662 1607.28,85.666 1612.73,85.6659 1618.08,85.6658 \n",
       "  1623.35,85.6657 1628.52,85.6656 1633.62,85.6656 1638.64,85.6655 1643.57,85.6655 1648.44,85.6655 1653.23,85.6655 1657.94,85.6655 1662.59,85.6654 1667.18,85.6654 \n",
       "  1671.7,85.6654 1676.15,85.6654 1680.54,85.6654 1684.88,85.6654 1689.15,85.6654 1693.37,85.6654 1697.53,85.6654 1701.64,85.6654 1705.7,85.6654 1709.71,85.6654 \n",
       "  1713.66,85.6654 1717.57,85.6654 1721.43,85.6654 1725.25,85.6654 1729.02,85.6654 1732.74,85.6654 1736.42,85.6654 1740.06,85.6654 1743.66,85.6654 1747.22,85.6654 \n",
       "  1750.74,85.6654 1754.22,85.6654 1757.66,85.6654 1761.07,85.6654 1764.44,85.6654 1767.78,85.6654 1771.08,85.6654 1774.34,85.6654 1777.58,85.6654 1780.78,85.6654 \n",
       "  1783.95,85.6654 1787.08,85.6654 1790.19,85.6654 1793.27,85.6654 1796.32,85.6654 1799.34,85.6654 1802.33,85.6654 1805.29,85.6654 1808.22,85.6654 1811.13,85.6654 \n",
       "  1814.02,85.6654 1816.87,85.6654 1819.7,85.6654 1822.51,85.6654 1825.29,85.6654 1828.05,85.6654 1830.78,85.6654 1833.49,85.6654 1836.18,85.6654 1838.85,85.6654 \n",
       "  1841.49,85.6654 1844.11,85.6654 1846.71,85.6654 1849.29,85.6654 1851.85,85.6654 1854.38,85.6654 1856.9,85.6654 1859.4,85.6654 1861.88,85.6654 1864.34,85.6654 \n",
       "  1866.78,85.6654 1869.2,85.6654 1871.61,85.6654 1873.99,85.6654 1876.36,85.6654 1878.71,85.6654 1881.04,85.6654 1883.36,85.6654 1885.66,85.6654 1887.94,85.6654 \n",
       "  1890.21,85.6654 1892.46,85.6654 1894.69,85.6654 1896.91,85.6654 1899.12,85.6654 1901.31,85.6654 1903.48,85.6654 1905.64,85.6654 1907.79,85.6654 1909.92,85.6654 \n",
       "  1912.03,85.6654 1914.13,85.6654 1916.22,85.6654 1918.3,85.6654 1920.36,85.6654 1922.41,85.6654 1924.44,85.6654 1926.46,85.6654 1928.47,85.6654 1930.47,85.6654 \n",
       "  1932.46,85.6654 1934.43,85.6654 1936.39,85.6654 1938.34,85.6654 1940.27,85.6654 1942.2,85.6654 1944.11,85.6654 1946.01,85.6654 1947.9,85.6654 1949.78,85.6654 \n",
       "  1951.65,85.6654 1953.5,85.6654 1955.35,85.6654 1957.19,85.6654 1959.01,85.6654 1960.83,85.6654 1962.63,85.6654 1964.43,85.6654 1966.21,85.6654 1967.98,85.6654 \n",
       "  1969.75,85.6654 1971.5,85.6654 1973.25,85.6654 1974.98,85.6654 1976.71,85.6654 1978.43,85.6654 1980.14,85.6654 1981.83,85.6654 1983.52,85.6654 1985.2,85.6654 \n",
       "  1986.88,85.6654 1988.54,85.6654 1990.19,85.6654 1991.84,85.6654 1993.48,85.6654 1995.11,85.6654 1996.73,85.6654 1998.34,85.6654 1999.94,85.6654 2001.54,85.6654 \n",
       "  2003.13,85.6654 2004.71,85.6654 2006.28,85.6654 2007.85,85.6654 2009.41,85.6654 2010.96,85.6654 2012.5,85.6654 2014.03,85.6654 2015.56,85.6654 2017.08,85.6654 \n",
       "  2018.59,85.6654 2020.1,85.6654 2021.6,85.6654 2023.09,85.6654 2024.58,85.6654 2026.05,85.6654 2027.52,85.6654 2028.99,85.6654 2030.45,85.6654 2031.9,85.6654 \n",
       "  2033.34,85.6654 2034.78,85.6654 2036.21,85.6654 2037.64,85.6654 2039.05,85.6654 2040.47,85.6654 2041.87,85.6654 2043.27,85.6654 2044.67,85.6654 2046.05,85.6654 \n",
       "  2047.44,85.6654 2048.81,85.6654 2050.18,85.6654 2051.55,85.6654 2052.9,85.6654 2054.26,85.6654 2055.6,85.6654 2056.94,85.6654 2058.28,85.6654 2059.61,85.6654 \n",
       "  2060.93,85.6654 2062.25,85.6654 2063.57,85.6654 2064.87,85.6654 2066.18,85.6654 2067.47,85.6654 2068.77,85.6654 2070.05,85.6654 2071.34,85.6654 2072.61,85.6654 \n",
       "  2073.88,85.6654 2075.15,85.6654 2076.41,85.6654 2077.67,85.6654 2078.92,85.6654 2080.17,85.6654 2081.41,85.6654 2082.64,85.6654 2083.88,85.6654 2085.1,85.6654 \n",
       "  2086.33,85.6654 2087.54,85.6654 2088.76,85.6654 2089.97,85.6654 2091.17,85.6654 2092.37,85.6654 2093.56,85.6654 2094.76,85.6654 2095.94,85.6654 2097.12,85.6654 \n",
       "  2098.3,85.6654 2099.47,85.6654 2100.64,85.6654 2101.81,85.6654 2102.97,85.6654 2104.12,85.6654 2105.28,85.6654 2106.42,85.6654 2107.57,85.6654 2108.71,85.6654 \n",
       "  2109.84,85.6654 2110.97,85.6654 2112.1,85.6654 2113.22,85.6654 2114.34,85.6654 2115.46,85.6654 2116.57,85.6654 2117.68,85.6654 2118.78,85.6654 2119.88,85.6654 \n",
       "  2120.98,85.6654 2122.07,85.6654 2123.16,85.6654 2124.25,85.6654 2125.33,85.6654 2126.41,85.6654 2127.48,85.6654 2128.55,85.6654 2129.62,85.6654 2130.68,85.6654 \n",
       "  2131.74,85.6654 2132.8,85.6654 2133.85,85.6654 2134.9,85.6654 2135.94,85.6654 2136.99,85.6654 2138.03,85.6654 2139.06,85.6654 2140.09,85.6654 2141.12,85.6654 \n",
       "  2142.15,85.6654 2143.17,85.6654 2144.19,85.6654 2145.21,85.6654 2146.22,85.6654 2147.23,85.6654 2148.24,85.6654 2149.24,85.6654 2150.24,85.6654 2151.24,85.6654 \n",
       "  2152.23,85.6654 2153.22,85.6654 2154.21,85.6654 2155.19,85.6654 2156.17,85.6654 2157.15,85.6654 2158.13,85.6654 2159.1,85.6654 2160.07,85.6654 2161.04,85.6654 \n",
       "  2162,85.6654 2162.96,85.6654 2163.92,85.6654 2164.87,85.6654 2165.83,85.6654 2166.77,85.6654 2167.72,85.6654 2168.67,85.6654 2169.61,85.6654 2170.54,85.6654 \n",
       "  2171.48,85.6654 2172.41,85.6654 2173.34,85.6654 2174.27,85.6654 2175.19,85.6654 2176.12,85.6654 2177.03,85.6654 2177.95,85.6654 2178.87,85.6654 2179.78,85.6654 \n",
       "  2180.69,85.6654 2181.59,85.6654 2182.49,85.6654 2183.4,85.6654 2184.29,85.6654 2185.19,85.6654 2186.08,85.6654 2186.97,85.6654 2187.86,85.6654 2188.75,85.6654 \n",
       "  2189.63,85.6654 2190.51,85.6654 2191.39,85.6654 2192.27,85.6654 2193.14,85.6654 2194.01,85.6654 2194.88,85.6654 2195.75,85.6654 2196.61,85.6654 2197.48,85.6654 \n",
       "  2198.34,85.6654 2199.19,85.6654 2200.05,85.6654 2200.9,85.6654 2201.75,85.6654 2202.6,85.6654 2203.44,85.6654 2204.29,85.6654 2205.13,85.6654 2205.97,85.6654 \n",
       "  2206.81,85.6654 2207.64,85.6654 2208.47,85.6654 2209.3,85.6654 2210.13,85.6654 2210.96,85.6654 2211.78,85.6654 2212.6,85.6654 2213.42,85.6654 2214.24,85.6654 \n",
       "  2215.06,85.6654 2215.87,85.6654 2216.68,85.6654 2217.49,85.6654 2218.3,85.6654 2219.1,85.6654 2219.91,85.6654 2220.71,85.6654 2221.51,85.6654 2222.31,85.6654 \n",
       "  2223.1,85.6654 2223.89,85.6654 2224.69,85.6654 2225.47,85.6654 2226.26,85.6654 2227.05,85.6654 2227.83,85.6654 2228.61,85.6654 2229.39,85.6654 2230.17,85.6654 \n",
       "  2230.95,85.6654 2231.72,85.6654 2232.49,85.6654 2233.26,85.6654 2234.03,85.6654 2234.8,85.6654 2235.56,85.6654 2236.32,85.6654 2237.09,85.6654 2237.85,85.6654 \n",
       "  2238.6,85.6654 2239.36,85.6654 2240.11,85.6654 2240.86,85.6654 2241.61,85.6654 2242.36,85.6654 2243.11,85.6654 2243.85,85.6654 2244.6,85.6654 2245.34,85.6654 \n",
       "  2246.08,85.6654 2246.82,85.6654 2247.55,85.6654 2248.29,85.6654 2249.02,85.6654 2249.75,85.6654 2250.48,85.6654 2251.21,85.6654 2251.94,85.6654 2252.66,85.6654 \n",
       "  2253.38,85.6654 2254.11,85.6654 2254.83,85.6654 2255.54,85.6654 2256.26,85.6654 2256.98,85.6654 2257.69,85.6654 2258.4,85.6654 2259.11,85.6654 2259.82,85.6654 \n",
       "  2260.53,85.6654 2261.23,85.6654 2261.94,85.6654 2262.64,85.6654 2263.34,85.6654 2264.04,85.6654 2264.74,85.6654 2265.43,85.6654 2266.13,85.6654 2266.82,85.6654 \n",
       "  2267.51,85.6654 2268.2,85.6654 2268.89,85.6654 2269.58,85.6654 2270.26,85.6654 2270.95,85.6654 2271.63,85.6654 2272.31,85.6654 2272.99,85.6654 2273.67,85.6654 \n",
       "  2274.35,85.6654 2275.02,85.6654 2275.7,85.6654 2276.37,85.6654 2277.04,85.6654 2277.71,85.6654 2278.38,85.6654 2279.04,85.6654 2279.71,85.6654 2280.37,85.6654 \n",
       "  2281.04,85.6654 2281.7,85.6654 2282.36,85.6654 2283.02,85.6654 2283.67,85.6654 2284.33,85.6654 2284.99,85.6654 2285.64,85.6654 2286.29,85.6654 2286.94,85.6654 \n",
       "  2287.59,85.6654 2288.24,85.6654 2288.89,85.6654 2289.53,85.6654 2290.18,85.6654 2290.82,85.6654 2291.46,85.6654 2292.1,85.6654 2292.74,85.6654 2293.38,85.6654 \n",
       "  \n",
       "  \"/>\n",
       "<polyline clip-path=\"url(#clip222)\" style=\"stroke:#ff0000; stroke-linecap:butt; stroke-linejoin:round; stroke-width:8; stroke-opacity:1; fill:none\" points=\"\n",
       "  314.049,479.869 318.882,479.869 323.714,479.869 328.546,479.869 333.379,479.869 336.172,479.869 338.964,479.869 340.361,479.869 341.757,479.869 343.153,479.869 \n",
       "  344.55,460.482 345.946,460.482 347.342,460.482 348.739,460.482 350.135,460.482 352.928,460.482 355.72,460.482 366.891,460.482 378.062,454.019 383.647,454.019 \n",
       "  389.232,454.019 394.818,454.019 400.403,454.019 401.8,454.019 403.196,454.019 404.592,454.019 405.989,454.019 407.385,454.019 408.781,421.708 410.178,421.708 \n",
       "  411.574,421.708 414.367,421.708 417.159,421.708 419.952,421.708 422.745,421.708 433.915,421.708 445.086,415.245 456.257,415.245 467.427,415.245 473.013,415.245 \n",
       "  478.598,415.245 481.391,415.245 484.184,415.245 485.58,402.32 486.976,402.32 488.373,402.32 489.769,402.32 495.354,402.32 500.94,402.32 502.336,402.32 \n",
       "  503.732,402.32 505.129,402.32 506.525,402.32 507.921,382.933 509.318,382.933 510.714,382.933 512.11,382.933 515.467,382.933 518.823,382.933 522.18,382.933 \n",
       "  525.537,382.933 526.376,382.933 527.215,382.933 528.054,370.009 528.893,370.009 530.571,370.009 532.25,370.009 535.606,370.009 538.963,370.009 542.319,370.009 \n",
       "  545.676,370.009 546.515,370.009 547.354,357.084 548.193,357.084 549.033,357.084 550.711,357.084 552.389,357.084 555.746,357.084 559.102,357.084 560.781,357.084 \n",
       "  562.459,357.084 563.298,357.084 564.137,357.084 564.976,337.697 565.815,337.697 567.494,337.697 569.172,337.697 570.85,337.697 572.529,337.697 575.885,337.697 \n",
       "  579.242,337.697 585.955,337.697 592.668,337.697 599.381,337.697 606.094,337.697 609.451,337.697 612.807,337.697 613.646,337.697 614.486,324.772 615.325,324.772 \n",
       "  616.164,324.772 617.842,324.772 619.52,324.772 630.872,324.772 642.224,324.772 653.576,318.31 664.927,311.848 676.279,305.385 687.631,298.923 698.983,298.923 \n",
       "  710.334,298.923 716.5,298.923 722.666,298.923 728.831,298.923 734.997,298.923 735.767,298.923 736.538,298.923 737.309,298.923 738.08,285.998 739.621,285.998 \n",
       "  741.162,285.998 744.245,285.998 747.328,285.998 753.493,285.998 759.659,285.998 771.99,285.998 784.321,279.536 796.653,273.074 808.984,266.611 820.352,253.686 \n",
       "  831.72,240.762 837.404,234.299 843.088,234.299 848.773,234.299 854.457,234.299 877.193,227.837 899.93,227.837 906.024,227.837 912.118,227.837 918.212,221.375 \n",
       "  924.306,214.912 930.4,214.912 936.494,214.912 939.541,214.912 942.588,214.912 944.111,214.912 945.635,214.912 946.396,214.912 947.158,214.912 947.92,214.912 \n",
       "  948.682,208.45 951.729,208.45 954.776,208.45 957.823,208.45 960.87,208.45 966.964,208.45 973.058,208.45 985.245,208.45 997.433,208.45 1000.96,208.45 \n",
       "  1004.49,208.45 1008.02,201.988 1011.55,195.525 1018.61,195.525 1025.68,195.525 1039.8,195.525 1053.92,189.063 1060.98,189.063 1068.04,189.063 1075.1,182.601 \n",
       "  1082.16,182.601 1089.22,182.601 1096.28,182.601 1099.81,182.601 1103.34,176.138 1106.87,169.676 1110.4,169.676 1135.5,169.676 1160.6,169.676 1173.15,169.676 \n",
       "  1185.7,163.214 1198.24,163.214 1210.79,163.214 1232.8,156.751 1254.81,150.289 1276.82,150.289 1298.83,150.289 1394.81,137.364 1491.36,124.439 1518.05,124.439 \n",
       "  1544.74,124.439 1558.08,117.977 1571.43,111.515 1584.77,111.515 1598.11,111.515 1648.9,111.515 1699.68,111.515 1752.49,105.052 1805.29,98.5901 1849.74,92.1278 \n",
       "  1894.19,92.1278 1948.46,92.1278 2002.73,92.1278 2053.75,85.6654 2104.76,85.6654 2186.49,85.6654 2268.22,85.6654 2280.8,85.6654 2293.38,85.6654 \n",
       "  \"/>\n",
       "<polyline clip-path=\"url(#clip222)\" style=\"stroke:#0000ff; stroke-linecap:butt; stroke-linejoin:round; stroke-width:8; stroke-opacity:1; fill:none\" points=\"\n",
       "  314.049,486.331 318.882,486.331 323.714,486.331 328.546,486.331 333.379,486.331 336.172,486.331 338.964,486.331 340.361,486.331 341.757,486.331 343.153,486.331 \n",
       "  344.55,466.944 345.946,466.944 347.342,466.944 348.739,466.944 350.135,466.944 352.928,466.944 355.72,466.944 366.891,466.944 378.062,460.482 383.647,460.482 \n",
       "  389.232,460.482 394.818,460.482 400.403,460.482 403.196,460.482 405.989,460.482 407.385,460.482 408.781,441.095 410.178,441.095 411.574,441.095 417.159,441.095 \n",
       "  422.745,441.095 433.915,441.095 445.086,434.632 450.671,434.632 456.257,434.632 457.653,434.632 459.049,434.632 460.446,434.632 461.842,421.708 464.635,421.708 \n",
       "  467.427,421.708 473.013,421.708 478.598,421.708 484.184,421.708 489.769,415.245 495.354,415.245 500.94,415.245 503.732,415.245 506.525,415.245 507.921,402.32 \n",
       "  509.318,402.32 510.714,402.32 512.11,402.32 515.467,402.32 518.823,402.32 520.502,402.32 522.18,402.32 523.858,402.32 525.537,402.32 526.376,402.32 \n",
       "  527.215,402.32 528.054,376.471 528.893,376.471 529.732,376.471 530.571,376.471 531.411,376.471 532.25,376.471 535.606,376.471 538.963,376.471 545.676,376.471 \n",
       "  552.389,370.009 555.746,370.009 559.102,370.009 560.781,370.009 562.459,370.009 563.298,370.009 564.137,370.009 564.976,357.084 565.815,357.084 569.172,357.084 \n",
       "  572.529,357.084 575.885,357.084 579.242,357.084 580.081,357.084 580.92,357.084 581.759,357.084 582.598,344.159 584.277,344.159 585.955,344.159 589.311,344.159 \n",
       "  592.668,344.159 606.094,337.697 619.52,331.235 625.196,331.235 630.872,331.235 633.71,331.235 636.548,331.235 639.386,331.235 642.224,331.235 642.933,324.772 \n",
       "  643.643,324.772 644.352,324.772 645.062,324.772 646.481,324.772 647.9,324.772 650.738,324.772 653.576,324.772 659.252,324.772 664.927,324.772 676.279,318.31 \n",
       "  687.631,318.31 698.983,318.31 710.334,318.31 734.997,305.385 759.659,292.461 762.742,292.461 765.825,292.461 768.907,285.998 771.99,285.998 773.532,285.998 \n",
       "  775.073,285.998 775.844,285.998 776.614,273.074 777.385,273.074 778.156,273.074 781.239,273.074 784.321,273.074 787.404,273.074 790.487,273.074 792.028,273.074 \n",
       "  793.57,273.074 795.111,266.611 796.653,266.611 802.818,266.611 808.984,266.611 814.668,260.149 820.352,253.686 823.194,253.686 826.036,253.686 828.878,247.224 \n",
       "  831.72,247.224 843.088,247.224 854.457,247.224 877.193,240.762 899.93,240.762 924.306,240.762 948.682,240.762 960.87,240.762 973.058,240.762 979.151,240.762 \n",
       "  985.245,234.299 991.339,234.299 997.433,234.299 1000.96,234.299 1004.49,234.299 1006.26,234.299 1008.02,234.299 1008.91,234.299 1009.79,234.299 1010.67,234.299 \n",
       "  1011.55,221.375 1013.32,221.375 1015.08,221.375 1016.85,221.375 1018.61,221.375 1020.38,221.375 1022.15,221.375 1023.91,214.912 1025.68,214.912 1032.74,214.912 \n",
       "  1039.8,214.912 1046.86,208.45 1053.92,201.988 1060.98,201.988 1068.04,201.988 1071.57,201.988 1075.1,201.988 1078.63,195.525 1082.16,189.063 1085.69,189.063 \n",
       "  1089.22,189.063 1090.98,189.063 1092.75,182.601 1094.51,182.601 1096.28,182.601 1103.34,176.138 1110.4,169.676 1122.95,163.214 1135.5,156.751 1148.05,150.289 \n",
       "  1160.6,150.289 1185.7,150.289 1210.79,150.289 1254.81,143.827 1298.83,137.364 1394.81,130.902 1491.36,130.902 1504.71,130.902 1518.05,130.902 1531.39,130.902 \n",
       "  1544.74,130.902 1546.41,130.902 1548.07,124.439 1549.74,124.439 1551.41,124.439 1554.75,124.439 1558.08,124.439 1564.75,124.439 1571.43,124.439 1578.1,124.439 \n",
       "  1584.77,124.439 1585.6,124.439 1586.44,117.977 1587.27,117.977 1588.11,117.977 1589.77,117.977 1591.44,117.977 1594.78,117.977 1598.11,117.977 1599.7,111.515 \n",
       "  1601.29,105.052 1602.87,105.052 1604.46,105.052 1607.64,105.052 1610.81,105.052 1617.16,105.052 1623.51,105.052 1629.85,105.052 1636.2,105.052 1639.38,105.052 \n",
       "  1642.55,105.052 1645.72,98.5901 1648.9,98.5901 1661.59,98.5901 1674.29,98.5901 1686.99,98.5901 1699.68,98.5901 1805.29,92.1278 1894.19,92.1278 2002.73,92.1278 \n",
       "  2104.76,92.1278 2268.22,85.6654 2293.38,85.6654 \n",
       "  \"/>\n",
       "<polyline clip-path=\"url(#clip222)\" style=\"stroke:#ffa500; stroke-linecap:butt; stroke-linejoin:round; stroke-width:8; stroke-opacity:1; fill:none\" points=\"\n",
       "  314.049,802.986 318.882,802.986 323.714,802.986 328.546,802.986 333.379,802.986 344.55,790.061 355.72,790.061 361.306,790.061 366.891,790.061 369.684,790.061 \n",
       "  372.476,790.061 373.873,790.061 375.269,790.061 376.665,790.061 378.062,751.287 379.458,751.287 380.854,751.287 382.251,751.287 383.647,751.287 386.44,751.287 \n",
       "  389.232,751.287 394.818,751.287 400.403,751.287 401.8,751.287 403.196,751.287 404.592,751.287 405.989,751.287 407.385,751.287 408.781,693.126 410.178,693.126 \n",
       "  411.574,693.126 414.367,693.126 417.159,693.126 419.952,693.126 422.745,693.126 433.915,693.126 445.086,686.664 456.257,686.664 467.427,680.201 473.013,680.201 \n",
       "  478.598,680.201 479.995,680.201 481.391,680.201 482.787,680.201 484.184,680.201 485.58,654.352 486.976,654.352 488.373,654.352 489.769,654.352 495.354,654.352 \n",
       "  500.94,654.352 506.525,654.352 512.11,654.352 515.467,654.352 518.823,654.352 520.502,654.352 522.18,654.352 523.858,654.352 525.537,654.352 526.376,654.352 \n",
       "  527.215,654.352 528.054,609.116 528.893,609.116 529.732,609.116 530.571,609.116 531.411,609.116 532.25,609.116 535.606,609.116 538.963,609.116 545.676,609.116 \n",
       "  552.389,609.116 555.746,609.116 559.102,609.116 560.781,609.116 562.459,609.116 563.298,609.116 564.137,609.116 564.976,589.729 565.815,589.729 569.172,589.729 \n",
       "  572.529,589.729 575.885,589.729 579.242,589.729 580.081,589.729 580.92,589.729 581.759,589.729 582.598,570.342 584.277,570.342 585.955,570.342 589.311,570.342 \n",
       "  592.668,570.342 594.346,570.342 596.024,570.342 596.864,570.342 597.703,570.342 598.542,557.417 599.381,557.417 602.738,557.417 606.094,557.417 607.772,557.417 \n",
       "  609.451,557.417 611.129,557.417 612.807,557.417 613.646,557.417 614.486,525.105 615.325,525.105 616.164,525.105 617.842,525.105 619.52,525.105 622.358,525.105 \n",
       "  625.196,525.105 626.615,525.105 628.034,525.105 628.744,505.718 629.453,505.718 630.163,505.718 630.872,505.718 636.548,505.718 642.224,505.718 653.576,499.256 \n",
       "  664.927,492.793 676.279,492.793 687.631,486.331 698.983,479.869 710.334,466.944 734.997,454.019 759.659,447.557 784.321,441.095 808.984,434.632 820.352,428.17 \n",
       "  831.72,421.708 837.404,421.708 843.088,415.245 844.51,415.245 845.931,415.245 846.641,415.245 847.352,415.245 848.062,415.245 848.773,415.245 849.483,389.396 \n",
       "  850.194,389.396 850.904,389.396 851.615,389.396 853.036,389.396 854.457,389.396 865.825,382.933 877.193,376.471 882.877,376.471 888.561,370.009 894.246,370.009 \n",
       "  899.93,363.546 900.691,363.546 901.453,363.546 902.215,363.546 902.977,337.697 903.738,337.697 904.5,337.697 905.262,337.697 906.024,337.697 909.071,331.235 \n",
       "  912.118,331.235 912.879,331.235 913.641,331.235 914.403,331.235 915.165,318.31 916.688,318.31 918.212,318.31 918.973,318.31 919.735,318.31 920.497,318.31 \n",
       "  921.259,298.923 922.782,298.923 924.306,298.923 930.4,298.923 936.494,298.923 942.588,298.923 948.682,292.461 954.776,285.998 960.87,285.998 966.964,279.536 \n",
       "  973.058,266.611 976.104,260.149 979.151,260.149 980.675,260.149 982.198,260.149 982.96,260.149 983.722,234.299 984.484,234.299 985.245,234.299 988.292,227.837 \n",
       "  991.339,227.837 994.386,227.837 997.433,227.837 1011.55,221.375 1025.68,214.912 1032.74,214.912 1039.8,214.912 1046.86,208.45 1053.92,201.988 1068.04,201.988 \n",
       "  1082.16,201.988 1096.28,195.525 1110.4,189.063 1160.6,189.063 1210.79,182.601 1254.81,176.138 1298.83,163.214 1394.81,143.827 1491.36,117.977 1598.11,98.5901 \n",
       "  1699.68,85.6654 1805.29,85.6654 1894.19,85.6654 2002.73,85.6654 2104.76,85.6654 2268.22,85.6654 2293.38,85.6654 \n",
       "  \"/>\n",
       "<polyline clip-path=\"url(#clip222)\" style=\"stroke:#008000; stroke-linecap:butt; stroke-linejoin:round; stroke-width:8; stroke-opacity:1; fill:none\" points=\"\n",
       "  314.049,1184.26 333.379,1184.26 512.11,932.233 619.52,770.674 710.334,634.965 759.659,563.879 808.984,505.718 820.352,492.793 831.72,479.869 843.088,447.557 \n",
       "  854.457,428.17 865.825,415.245 877.193,408.783 888.561,408.783 899.93,395.858 948.682,350.622 997.433,305.385 1053.92,240.762 1110.4,195.525 1160.6,156.751 \n",
       "  1210.79,130.902 1232.8,130.902 1254.81,130.902 1265.82,130.902 1276.82,130.902 1287.82,117.977 1298.83,111.515 1346.82,111.515 1394.81,105.052 1443.09,98.5901 \n",
       "  1491.36,85.6654 1598.11,85.6654 1699.68,85.6654 1805.29,85.6654 1894.19,85.6654 2002.73,85.6654 2104.76,85.6654 2268.22,85.6654 2293.38,85.6654 \n",
       "  \"/>\n",
       "<polyline clip-path=\"url(#clip222)\" style=\"stroke:#ff00ff; stroke-linecap:butt; stroke-linejoin:round; stroke-width:8; stroke-opacity:1; fill:none\" points=\"\n",
       "  314.049,1326.44 318.882,1326.44 323.714,1326.44 328.546,1326.44 333.379,1326.44 336.172,1326.44 338.964,1326.44 340.361,1326.44 341.757,1326.44 343.153,1326.44 \n",
       "  344.55,1294.12 347.342,1294.12 350.135,1294.12 352.928,1294.12 355.72,1294.12 361.306,1294.12 366.891,1294.12 369.684,1294.12 372.476,1294.12 373.873,1294.12 \n",
       "  375.269,1294.12 376.665,1294.12 378.062,1242.43 379.458,1242.43 380.854,1242.43 382.251,1242.43 383.647,1242.43 386.44,1242.43 389.232,1242.43 394.818,1242.43 \n",
       "  400.403,1242.43 403.196,1242.43 405.989,1242.43 407.385,1242.43 408.781,1216.58 410.178,1216.58 411.574,1216.58 417.159,1216.58 422.745,1216.58 428.33,1216.58 \n",
       "  433.915,1216.58 435.312,1216.58 436.708,1184.26 438.104,1184.26 439.501,1184.26 442.293,1184.26 445.086,1184.26 450.671,1184.26 456.257,1184.26 457.653,1184.26 \n",
       "  459.049,1184.26 460.446,1184.26 461.842,1132.57 463.238,1132.57 464.635,1132.57 466.031,1132.57 467.427,1132.57 473.013,1132.57 478.598,1132.57 481.391,1132.57 \n",
       "  484.184,1132.57 485.58,1106.72 486.976,1106.72 488.373,1106.72 489.769,1106.72 495.354,1106.72 500.94,1106.72 506.525,1106.72 512.11,1087.33 515.467,1087.33 \n",
       "  518.823,1087.33 522.18,1087.33 525.537,1087.33 526.376,1087.33 527.215,1087.33 528.054,1055.02 528.893,1055.02 530.571,1055.02 532.25,1055.02 535.606,1055.02 \n",
       "  538.963,1055.02 542.319,1055.02 545.676,1055.02 546.515,1055.02 547.354,1022.71 548.193,1022.71 549.033,1022.71 550.711,1022.71 552.389,1022.71 555.746,1022.71 \n",
       "  559.102,1022.71 560.781,1022.71 562.459,1022.71 563.298,1022.71 564.137,1022.71 564.976,983.932 565.815,983.932 569.172,983.932 572.529,983.932 575.885,983.932 \n",
       "  579.242,983.932 582.598,971.007 585.955,971.007 589.311,971.007 592.668,971.007 594.346,971.007 596.024,971.007 596.864,971.007 597.703,971.007 598.542,912.846 \n",
       "  599.381,912.846 601.059,912.846 602.738,912.846 604.416,912.846 606.094,912.846 609.451,912.846 612.807,912.846 613.646,912.846 614.486,886.997 615.325,886.997 \n",
       "  616.164,886.997 617.842,886.997 619.52,886.997 622.358,886.997 625.196,886.997 626.615,886.997 628.034,886.997 628.744,854.685 629.453,854.685 630.163,854.685 \n",
       "  630.872,854.685 633.71,854.685 636.548,854.685 639.386,854.685 642.224,854.685 653.576,828.835 664.927,809.448 687.631,777.137 710.334,744.825 711.876,744.825 \n",
       "  713.417,744.825 714.959,744.825 716.5,744.825 717.271,712.513 718.041,712.513 718.812,712.513 719.583,712.513 721.124,712.513 722.666,712.513 725.748,712.513 \n",
       "  728.831,693.126 731.914,693.126 734.997,693.126 735.767,693.126 736.538,693.126 737.309,693.126 738.08,654.352 739.621,654.352 741.162,654.352 744.245,654.352 \n",
       "  747.328,654.352 750.411,647.89 753.493,647.89 755.035,647.89 756.576,647.89 757.347,647.89 758.118,622.04 758.888,622.04 759.659,622.04 765.825,622.04 \n",
       "  771.99,622.04 773.532,622.04 775.073,622.04 775.844,622.04 776.614,596.191 777.385,596.191 778.156,596.191 781.239,596.191 784.321,596.191 796.653,570.342 \n",
       "  808.984,557.417 831.72,531.567 854.457,492.793 860.141,486.331 865.825,466.944 867.246,466.944 868.667,466.944 869.378,466.944 870.088,466.944 870.799,434.632 \n",
       "  871.509,434.632 872.93,434.632 874.351,434.632 875.772,434.632 877.193,428.17 882.877,428.17 888.561,421.708 894.246,415.245 899.93,415.245 900.691,415.245 \n",
       "  901.453,415.245 902.215,415.245 902.977,389.396 904.5,389.396 906.024,389.396 909.071,382.933 912.118,382.933 918.212,382.933 924.306,363.546 936.494,337.697 \n",
       "  948.682,305.385 960.87,298.923 973.058,292.461 979.151,285.998 985.245,266.611 991.339,260.149 997.433,260.149 1053.92,221.375 1110.4,169.676 1135.5,143.827 \n",
       "  1160.6,117.977 1185.7,117.977 1210.79,111.515 1254.81,105.052 1298.83,98.5901 1394.81,92.1278 1491.36,92.1278 1598.11,85.6654 1699.68,85.6654 1805.29,85.6654 \n",
       "  1894.19,85.6654 2002.73,85.6654 2104.76,85.6654 2268.22,85.6654 2293.38,85.6654 \n",
       "  \"/>\n",
       "<polyline clip-path=\"url(#clip222)\" style=\"stroke:#ffff00; stroke-linecap:butt; stroke-linejoin:round; stroke-width:8; stroke-opacity:1; fill:none\" points=\"\n",
       "  314.049,1313.51 318.882,1313.51 323.714,1313.51 328.546,1313.51 333.379,1313.51 336.172,1313.51 338.964,1313.51 340.361,1313.51 341.757,1313.51 343.153,1313.51 \n",
       "  344.55,1274.74 347.342,1274.74 350.135,1274.74 352.928,1274.74 355.72,1274.74 366.891,1274.74 378.062,1268.28 389.232,1268.28 400.403,1268.28 411.574,1248.89 \n",
       "  422.745,1248.89 433.915,1248.89 445.086,1235.96 450.671,1235.96 456.257,1235.96 457.653,1235.96 459.049,1235.96 460.446,1235.96 461.842,1184.26 463.238,1184.26 \n",
       "  464.635,1184.26 466.031,1184.26 467.427,1184.26 473.013,1184.26 478.598,1184.26 481.391,1184.26 484.184,1184.26 485.58,1158.42 486.976,1158.42 488.373,1158.42 \n",
       "  489.769,1158.42 495.354,1158.42 500.94,1158.42 503.732,1158.42 506.525,1158.42 507.921,1126.1 509.318,1126.1 510.714,1126.1 512.11,1126.1 515.467,1126.1 \n",
       "  518.823,1126.1 522.18,1126.1 525.537,1126.1 526.376,1126.1 527.215,1126.1 528.054,1087.33 528.893,1087.33 530.571,1087.33 532.25,1087.33 535.606,1087.33 \n",
       "  538.963,1087.33 542.319,1087.33 545.676,1087.33 546.515,1087.33 547.354,1055.02 548.193,1055.02 549.033,1055.02 550.711,1055.02 552.389,1055.02 555.746,1055.02 \n",
       "  559.102,1055.02 560.781,1055.02 562.459,1055.02 563.298,1055.02 564.137,1055.02 564.976,1016.24 565.815,1016.24 569.172,1016.24 572.529,1016.24 575.885,1016.24 \n",
       "  579.242,1016.24 580.081,1016.24 580.92,1016.24 581.759,1016.24 582.598,983.932 584.277,983.932 585.955,983.932 589.311,983.932 592.668,983.932 599.381,971.007 \n",
       "  606.094,971.007 612.807,971.007 619.52,964.545 622.358,964.545 625.196,964.545 625.906,964.545 626.615,964.545 627.325,964.545 628.034,964.545 628.744,912.846 \n",
       "  629.453,912.846 630.163,912.846 630.872,912.846 633.71,912.846 636.548,912.846 639.386,912.846 642.224,912.846 653.576,899.921 664.927,886.997 676.279,861.147 \n",
       "  687.631,828.835 698.983,815.911 710.334,802.986 722.666,764.212 734.997,731.9 747.328,712.513 759.659,693.126 784.321,654.352 808.984,615.578 831.72,563.879 \n",
       "  854.457,499.256 877.193,447.557 899.93,408.783 924.306,376.471 948.682,344.159 973.058,305.385 997.433,266.611 1053.92,221.375 1110.4,176.138 1135.5,150.289 \n",
       "  1160.6,124.439 1185.7,98.5901 1210.79,92.1278 1254.81,85.6654 1298.83,85.6654 1394.81,85.6654 1491.36,85.6654 1598.11,85.6654 1699.68,85.6654 1805.29,85.6654 \n",
       "  1894.19,85.6654 2002.73,85.6654 2104.76,85.6654 2268.22,85.6654 2293.38,85.6654 \n",
       "  \"/>\n",
       "<path clip-path=\"url(#clip220)\" d=\"\n",
       "M1610.85 1359.55 L2282.82 1359.55 L2282.82 737.465 L1610.85 737.465  Z\n",
       "  \" fill=\"#ffffff\" fill-rule=\"evenodd\" fill-opacity=\"1\"/>\n",
       "<polyline clip-path=\"url(#clip220)\" style=\"stroke:#000000; stroke-linecap:butt; stroke-linejoin:round; stroke-width:4; stroke-opacity:1; fill:none\" points=\"\n",
       "  1610.85,1359.55 2282.82,1359.55 2282.82,737.465 1610.85,737.465 1610.85,1359.55 \n",
       "  \"/>\n",
       "<polyline clip-path=\"url(#clip220)\" style=\"stroke:#000000; stroke-linecap:butt; stroke-linejoin:round; stroke-width:6; stroke-opacity:1; fill:none\" stroke-dasharray=\"24, 15\" points=\"\n",
       "  1634.16,815.225 1774.03,815.225 \n",
       "  \"/>\n",
       "<path clip-path=\"url(#clip220)\" d=\"M1797.34 789.305 L1830.12 789.305 L1830.12 795.208 L1804.36 795.208 L1804.36 810.555 L1829.04 810.555 L1829.04 816.458 L1804.36 816.458 L1804.36 835.243 L1830.75 835.243 L1830.75 841.145 L1797.34 841.145 L1797.34 789.305 Z\" fill=\"#000000\" fill-rule=\"evenodd\" fill-opacity=\"1\" /><path clip-path=\"url(#clip220)\" d=\"M1874.32 802.257 L1860.26 821.18 L1875.05 841.145 L1867.52 841.145 L1856.2 825.868 L1844.88 841.145 L1837.34 841.145 L1852.45 820.798 L1838.63 802.257 L1846.16 802.257 L1856.48 816.111 L1866.79 802.257 L1874.32 802.257 Z\" fill=\"#000000\" fill-rule=\"evenodd\" fill-opacity=\"1\" /><path clip-path=\"url(#clip220)\" d=\"M1901.75 821.597 Q1894.01 821.597 1891.02 823.368 Q1888.04 825.138 1888.04 829.409 Q1888.04 832.812 1890.26 834.826 Q1892.52 836.805 1896.37 836.805 Q1901.68 836.805 1904.88 833.055 Q1908.11 829.27 1908.11 823.02 L1908.11 821.597 L1901.75 821.597 M1914.5 818.958 L1914.5 841.145 L1908.11 841.145 L1908.11 835.243 Q1905.92 838.784 1902.66 840.486 Q1899.39 842.152 1894.67 842.152 Q1888.7 842.152 1885.16 838.819 Q1881.65 835.451 1881.65 829.826 Q1881.65 823.264 1886.02 819.93 Q1890.43 816.597 1899.15 816.597 L1908.11 816.597 L1908.11 815.972 Q1908.11 811.562 1905.19 809.166 Q1902.31 806.736 1897.07 806.736 Q1893.73 806.736 1890.57 807.534 Q1887.41 808.333 1884.5 809.93 L1884.5 804.028 Q1888 802.673 1891.3 802.014 Q1894.6 801.319 1897.73 801.319 Q1906.16 801.319 1910.33 805.694 Q1914.5 810.069 1914.5 818.958 Z\" fill=\"#000000\" fill-rule=\"evenodd\" fill-opacity=\"1\" /><path clip-path=\"url(#clip220)\" d=\"M1955.64 803.75 L1955.64 809.722 Q1952.93 808.229 1950.19 807.5 Q1947.48 806.736 1944.7 806.736 Q1938.49 806.736 1935.05 810.694 Q1931.61 814.618 1931.61 821.736 Q1931.61 828.854 1935.05 832.812 Q1938.49 836.736 1944.7 836.736 Q1947.48 836.736 1950.19 836.006 Q1952.93 835.243 1955.64 833.75 L1955.64 839.652 Q1952.97 840.902 1950.09 841.527 Q1947.24 842.152 1944.01 842.152 Q1935.22 842.152 1930.05 836.631 Q1924.88 831.111 1924.88 821.736 Q1924.88 812.222 1930.09 806.771 Q1935.33 801.319 1944.43 801.319 Q1947.38 801.319 1950.19 801.944 Q1953 802.534 1955.64 803.75 Z\" fill=\"#000000\" fill-rule=\"evenodd\" fill-opacity=\"1\" /><path clip-path=\"url(#clip220)\" d=\"M1973.07 791.215 L1973.07 802.257 L1986.23 802.257 L1986.23 807.222 L1973.07 807.222 L1973.07 828.333 Q1973.07 833.09 1974.36 834.444 Q1975.68 835.798 1979.67 835.798 L1986.23 835.798 L1986.23 841.145 L1979.67 841.145 Q1972.27 841.145 1969.46 838.402 Q1966.65 835.625 1966.65 828.333 L1966.65 807.222 L1961.96 807.222 L1961.96 802.257 L1966.65 802.257 L1966.65 791.215 L1973.07 791.215 Z\" fill=\"#000000\" fill-rule=\"evenodd\" fill-opacity=\"1\" /><polyline clip-path=\"url(#clip220)\" style=\"stroke:#ff0000; stroke-linecap:butt; stroke-linejoin:round; stroke-width:6; stroke-opacity:1; fill:none\" points=\"\n",
       "  1634.16,892.985 1774.03,892.985 \n",
       "  \"/>\n",
       "<path clip-path=\"url(#clip220)\" d=\"M1825.71 885.919 L1825.71 864.878 L1832.1 864.878 L1832.1 918.905 L1825.71 918.905 L1825.71 913.072 Q1823.7 916.544 1820.61 918.246 Q1817.55 919.912 1813.25 919.912 Q1806.2 919.912 1801.75 914.287 Q1797.34 908.662 1797.34 899.496 Q1797.34 890.329 1801.75 884.704 Q1806.2 879.079 1813.25 879.079 Q1817.55 879.079 1820.61 880.781 Q1823.7 882.447 1825.71 885.919 M1803.94 899.496 Q1803.94 906.544 1806.82 910.572 Q1809.74 914.565 1814.81 914.565 Q1819.88 914.565 1822.79 910.572 Q1825.71 906.544 1825.71 899.496 Q1825.71 892.447 1822.79 888.454 Q1819.88 884.426 1814.81 884.426 Q1809.74 884.426 1806.82 888.454 Q1803.94 892.447 1803.94 899.496 Z\" fill=\"#000000\" fill-rule=\"evenodd\" fill-opacity=\"1\" /><path clip-path=\"url(#clip220)\" d=\"M1878.52 897.864 L1878.52 900.989 L1849.15 900.989 Q1849.57 907.586 1853.11 911.058 Q1856.68 914.496 1863.04 914.496 Q1866.72 914.496 1870.16 913.593 Q1873.63 912.69 1877.03 910.885 L1877.03 916.926 Q1873.59 918.385 1869.98 919.148 Q1866.37 919.912 1862.66 919.912 Q1853.35 919.912 1847.9 914.496 Q1842.48 909.079 1842.48 899.843 Q1842.48 890.294 1847.62 884.704 Q1852.79 879.079 1861.54 879.079 Q1869.39 879.079 1873.94 884.149 Q1878.52 889.183 1878.52 897.864 M1872.13 895.989 Q1872.07 890.746 1869.18 887.621 Q1866.34 884.496 1861.61 884.496 Q1856.27 884.496 1853.04 887.517 Q1849.84 890.537 1849.36 896.024 L1872.13 895.989 Z\" fill=\"#000000\" fill-rule=\"evenodd\" fill-opacity=\"1\" /><path clip-path=\"url(#clip220)\" d=\"M1895.19 913.072 L1895.19 933.697 L1888.77 933.697 L1888.77 880.017 L1895.19 880.017 L1895.19 885.919 Q1897.2 882.447 1900.26 880.781 Q1903.35 879.079 1907.62 879.079 Q1914.7 879.079 1919.11 884.704 Q1923.56 890.329 1923.56 899.496 Q1923.56 908.662 1919.11 914.287 Q1914.7 919.912 1907.62 919.912 Q1903.35 919.912 1900.26 918.246 Q1897.2 916.544 1895.19 913.072 M1916.93 899.496 Q1916.93 892.447 1914.01 888.454 Q1911.13 884.426 1906.06 884.426 Q1900.99 884.426 1898.07 888.454 Q1895.19 892.447 1895.19 899.496 Q1895.19 906.544 1898.07 910.572 Q1900.99 914.565 1906.06 914.565 Q1911.13 914.565 1914.01 910.572 Q1916.93 906.544 1916.93 899.496 Z\" fill=\"#000000\" fill-rule=\"evenodd\" fill-opacity=\"1\" /><path clip-path=\"url(#clip220)\" d=\"M1940.47 868.975 L1940.47 880.017 L1953.63 880.017 L1953.63 884.982 L1940.47 884.982 L1940.47 906.093 Q1940.47 910.85 1941.75 912.204 Q1943.07 913.558 1947.07 913.558 L1953.63 913.558 L1953.63 918.905 L1947.07 918.905 Q1939.67 918.905 1936.86 916.162 Q1934.04 913.385 1934.04 906.093 L1934.04 884.982 L1929.36 884.982 L1929.36 880.017 L1934.04 880.017 L1934.04 868.975 L1940.47 868.975 Z\" fill=\"#000000\" fill-rule=\"evenodd\" fill-opacity=\"1\" /><path clip-path=\"url(#clip220)\" d=\"M1994.36 895.433 L1994.36 918.905 L1987.97 918.905 L1987.97 895.642 Q1987.97 890.121 1985.81 887.378 Q1983.66 884.635 1979.36 884.635 Q1974.18 884.635 1971.2 887.933 Q1968.21 891.232 1968.21 896.926 L1968.21 918.905 L1961.79 918.905 L1961.79 864.878 L1968.21 864.878 L1968.21 886.058 Q1970.5 882.551 1973.59 880.815 Q1976.72 879.079 1980.78 879.079 Q1987.48 879.079 1990.92 883.246 Q1994.36 887.378 1994.36 895.433 Z\" fill=\"#000000\" fill-rule=\"evenodd\" fill-opacity=\"1\" /><path clip-path=\"url(#clip220)\" d=\"M2030.54 886.614 L2075.05 886.614 L2075.05 892.447 L2030.54 892.447 L2030.54 886.614 M2030.54 900.78 L2075.05 900.78 L2075.05 906.683 L2030.54 906.683 L2030.54 900.78 Z\" fill=\"#000000\" fill-rule=\"evenodd\" fill-opacity=\"1\" /><path clip-path=\"url(#clip220)\" d=\"M2114.01 913.003 L2125.47 913.003 L2125.47 873.454 L2113 875.954 L2113 869.565 L2125.4 867.065 L2132.41 867.065 L2132.41 913.003 L2143.87 913.003 L2143.87 918.905 L2114.01 918.905 L2114.01 913.003 Z\" fill=\"#000000\" fill-rule=\"evenodd\" fill-opacity=\"1\" /><polyline clip-path=\"url(#clip220)\" style=\"stroke:#0000ff; stroke-linecap:butt; stroke-linejoin:round; stroke-width:6; stroke-opacity:1; fill:none\" points=\"\n",
       "  1634.16,970.745 1774.03,970.745 \n",
       "  \"/>\n",
       "<path clip-path=\"url(#clip220)\" d=\"M1825.71 963.679 L1825.71 942.638 L1832.1 942.638 L1832.1 996.665 L1825.71 996.665 L1825.71 990.832 Q1823.7 994.304 1820.61 996.006 Q1817.55 997.672 1813.25 997.672 Q1806.2 997.672 1801.75 992.047 Q1797.34 986.422 1797.34 977.256 Q1797.34 968.089 1801.75 962.464 Q1806.2 956.839 1813.25 956.839 Q1817.55 956.839 1820.61 958.541 Q1823.7 960.207 1825.71 963.679 M1803.94 977.256 Q1803.94 984.304 1806.82 988.332 Q1809.74 992.325 1814.81 992.325 Q1819.88 992.325 1822.79 988.332 Q1825.71 984.304 1825.71 977.256 Q1825.71 970.207 1822.79 966.214 Q1819.88 962.186 1814.81 962.186 Q1809.74 962.186 1806.82 966.214 Q1803.94 970.207 1803.94 977.256 Z\" fill=\"#000000\" fill-rule=\"evenodd\" fill-opacity=\"1\" /><path clip-path=\"url(#clip220)\" d=\"M1878.52 975.624 L1878.52 978.749 L1849.15 978.749 Q1849.57 985.346 1853.11 988.818 Q1856.68 992.256 1863.04 992.256 Q1866.72 992.256 1870.16 991.353 Q1873.63 990.45 1877.03 988.645 L1877.03 994.686 Q1873.59 996.145 1869.98 996.908 Q1866.37 997.672 1862.66 997.672 Q1853.35 997.672 1847.9 992.256 Q1842.48 986.839 1842.48 977.603 Q1842.48 968.054 1847.62 962.464 Q1852.79 956.839 1861.54 956.839 Q1869.39 956.839 1873.94 961.909 Q1878.52 966.943 1878.52 975.624 M1872.13 973.749 Q1872.07 968.506 1869.18 965.381 Q1866.34 962.256 1861.61 962.256 Q1856.27 962.256 1853.04 965.277 Q1849.84 968.297 1849.36 973.784 L1872.13 973.749 Z\" fill=\"#000000\" fill-rule=\"evenodd\" fill-opacity=\"1\" /><path clip-path=\"url(#clip220)\" d=\"M1895.19 990.832 L1895.19 1011.46 L1888.77 1011.46 L1888.77 957.777 L1895.19 957.777 L1895.19 963.679 Q1897.2 960.207 1900.26 958.541 Q1903.35 956.839 1907.62 956.839 Q1914.7 956.839 1919.11 962.464 Q1923.56 968.089 1923.56 977.256 Q1923.56 986.422 1919.11 992.047 Q1914.7 997.672 1907.62 997.672 Q1903.35 997.672 1900.26 996.006 Q1897.2 994.304 1895.19 990.832 M1916.93 977.256 Q1916.93 970.207 1914.01 966.214 Q1911.13 962.186 1906.06 962.186 Q1900.99 962.186 1898.07 966.214 Q1895.19 970.207 1895.19 977.256 Q1895.19 984.304 1898.07 988.332 Q1900.99 992.325 1906.06 992.325 Q1911.13 992.325 1914.01 988.332 Q1916.93 984.304 1916.93 977.256 Z\" fill=\"#000000\" fill-rule=\"evenodd\" fill-opacity=\"1\" /><path clip-path=\"url(#clip220)\" d=\"M1940.47 946.735 L1940.47 957.777 L1953.63 957.777 L1953.63 962.742 L1940.47 962.742 L1940.47 983.853 Q1940.47 988.61 1941.75 989.964 Q1943.07 991.318 1947.07 991.318 L1953.63 991.318 L1953.63 996.665 L1947.07 996.665 Q1939.67 996.665 1936.86 993.922 Q1934.04 991.145 1934.04 983.853 L1934.04 962.742 L1929.36 962.742 L1929.36 957.777 L1934.04 957.777 L1934.04 946.735 L1940.47 946.735 Z\" fill=\"#000000\" fill-rule=\"evenodd\" fill-opacity=\"1\" /><path clip-path=\"url(#clip220)\" d=\"M1994.36 973.193 L1994.36 996.665 L1987.97 996.665 L1987.97 973.402 Q1987.97 967.881 1985.81 965.138 Q1983.66 962.395 1979.36 962.395 Q1974.18 962.395 1971.2 965.693 Q1968.21 968.992 1968.21 974.686 L1968.21 996.665 L1961.79 996.665 L1961.79 942.638 L1968.21 942.638 L1968.21 963.818 Q1970.5 960.311 1973.59 958.575 Q1976.72 956.839 1980.78 956.839 Q1987.48 956.839 1990.92 961.006 Q1994.36 965.138 1994.36 973.193 Z\" fill=\"#000000\" fill-rule=\"evenodd\" fill-opacity=\"1\" /><path clip-path=\"url(#clip220)\" d=\"M2030.54 964.374 L2075.05 964.374 L2075.05 970.207 L2030.54 970.207 L2030.54 964.374 M2030.54 978.54 L2075.05 978.54 L2075.05 984.443 L2030.54 984.443 L2030.54 978.54 Z\" fill=\"#000000\" fill-rule=\"evenodd\" fill-opacity=\"1\" /><path clip-path=\"url(#clip220)\" d=\"M2118.84 990.763 L2143.31 990.763 L2143.31 996.665 L2110.4 996.665 L2110.4 990.763 Q2114.39 986.631 2121.27 979.686 Q2128.18 972.707 2129.95 970.693 Q2133.31 966.909 2134.63 964.304 Q2135.99 961.666 2135.99 959.131 Q2135.99 954.999 2133.07 952.395 Q2130.19 949.791 2125.54 949.791 Q2122.24 949.791 2118.56 950.936 Q2114.91 952.082 2110.74 954.409 L2110.74 947.325 Q2114.98 945.624 2118.66 944.756 Q2122.34 943.888 2125.4 943.888 Q2133.45 943.888 2138.24 947.916 Q2143.04 951.943 2143.04 958.679 Q2143.04 961.874 2141.82 964.756 Q2140.64 967.603 2137.48 971.492 Q2136.61 972.499 2131.96 977.325 Q2127.31 982.117 2118.84 990.763 Z\" fill=\"#000000\" fill-rule=\"evenodd\" fill-opacity=\"1\" /><polyline clip-path=\"url(#clip220)\" style=\"stroke:#ffa500; stroke-linecap:butt; stroke-linejoin:round; stroke-width:6; stroke-opacity:1; fill:none\" points=\"\n",
       "  1634.16,1048.51 1774.03,1048.51 \n",
       "  \"/>\n",
       "<path clip-path=\"url(#clip220)\" d=\"M1825.71 1041.44 L1825.71 1020.4 L1832.1 1020.4 L1832.1 1074.43 L1825.71 1074.43 L1825.71 1068.59 Q1823.7 1072.06 1820.61 1073.77 Q1817.55 1075.43 1813.25 1075.43 Q1806.2 1075.43 1801.75 1069.81 Q1797.34 1064.18 1797.34 1055.02 Q1797.34 1045.85 1801.75 1040.22 Q1806.2 1034.6 1813.25 1034.6 Q1817.55 1034.6 1820.61 1036.3 Q1823.7 1037.97 1825.71 1041.44 M1803.94 1055.02 Q1803.94 1062.06 1806.82 1066.09 Q1809.74 1070.09 1814.81 1070.09 Q1819.88 1070.09 1822.79 1066.09 Q1825.71 1062.06 1825.71 1055.02 Q1825.71 1047.97 1822.79 1043.97 Q1819.88 1039.95 1814.81 1039.95 Q1809.74 1039.95 1806.82 1043.97 Q1803.94 1047.97 1803.94 1055.02 Z\" fill=\"#000000\" fill-rule=\"evenodd\" fill-opacity=\"1\" /><path clip-path=\"url(#clip220)\" d=\"M1878.52 1053.38 L1878.52 1056.51 L1849.15 1056.51 Q1849.57 1063.11 1853.11 1066.58 Q1856.68 1070.02 1863.04 1070.02 Q1866.72 1070.02 1870.16 1069.11 Q1873.63 1068.21 1877.03 1066.4 L1877.03 1072.45 Q1873.59 1073.9 1869.98 1074.67 Q1866.37 1075.43 1862.66 1075.43 Q1853.35 1075.43 1847.9 1070.02 Q1842.48 1064.6 1842.48 1055.36 Q1842.48 1045.81 1847.62 1040.22 Q1852.79 1034.6 1861.54 1034.6 Q1869.39 1034.6 1873.94 1039.67 Q1878.52 1044.7 1878.52 1053.38 M1872.13 1051.51 Q1872.07 1046.27 1869.18 1043.14 Q1866.34 1040.02 1861.61 1040.02 Q1856.27 1040.02 1853.04 1043.04 Q1849.84 1046.06 1849.36 1051.54 L1872.13 1051.51 Z\" fill=\"#000000\" fill-rule=\"evenodd\" fill-opacity=\"1\" /><path clip-path=\"url(#clip220)\" d=\"M1895.19 1068.59 L1895.19 1089.22 L1888.77 1089.22 L1888.77 1035.54 L1895.19 1035.54 L1895.19 1041.44 Q1897.2 1037.97 1900.26 1036.3 Q1903.35 1034.6 1907.62 1034.6 Q1914.7 1034.6 1919.11 1040.22 Q1923.56 1045.85 1923.56 1055.02 Q1923.56 1064.18 1919.11 1069.81 Q1914.7 1075.43 1907.62 1075.43 Q1903.35 1075.43 1900.26 1073.77 Q1897.2 1072.06 1895.19 1068.59 M1916.93 1055.02 Q1916.93 1047.97 1914.01 1043.97 Q1911.13 1039.95 1906.06 1039.95 Q1900.99 1039.95 1898.07 1043.97 Q1895.19 1047.97 1895.19 1055.02 Q1895.19 1062.06 1898.07 1066.09 Q1900.99 1070.09 1906.06 1070.09 Q1911.13 1070.09 1914.01 1066.09 Q1916.93 1062.06 1916.93 1055.02 Z\" fill=\"#000000\" fill-rule=\"evenodd\" fill-opacity=\"1\" /><path clip-path=\"url(#clip220)\" d=\"M1940.47 1024.5 L1940.47 1035.54 L1953.63 1035.54 L1953.63 1040.5 L1940.47 1040.5 L1940.47 1061.61 Q1940.47 1066.37 1941.75 1067.72 Q1943.07 1069.08 1947.07 1069.08 L1953.63 1069.08 L1953.63 1074.43 L1947.07 1074.43 Q1939.67 1074.43 1936.86 1071.68 Q1934.04 1068.9 1934.04 1061.61 L1934.04 1040.5 L1929.36 1040.5 L1929.36 1035.54 L1934.04 1035.54 L1934.04 1024.5 L1940.47 1024.5 Z\" fill=\"#000000\" fill-rule=\"evenodd\" fill-opacity=\"1\" /><path clip-path=\"url(#clip220)\" d=\"M1994.36 1050.95 L1994.36 1074.43 L1987.97 1074.43 L1987.97 1051.16 Q1987.97 1045.64 1985.81 1042.9 Q1983.66 1040.15 1979.36 1040.15 Q1974.18 1040.15 1971.2 1043.45 Q1968.21 1046.75 1968.21 1052.45 L1968.21 1074.43 L1961.79 1074.43 L1961.79 1020.4 L1968.21 1020.4 L1968.21 1041.58 Q1970.5 1038.07 1973.59 1036.34 Q1976.72 1034.6 1980.78 1034.6 Q1987.48 1034.6 1990.92 1038.77 Q1994.36 1042.9 1994.36 1050.95 Z\" fill=\"#000000\" fill-rule=\"evenodd\" fill-opacity=\"1\" /><path clip-path=\"url(#clip220)\" d=\"M2030.54 1042.13 L2075.05 1042.13 L2075.05 1047.97 L2030.54 1047.97 L2030.54 1042.13 M2030.54 1056.3 L2075.05 1056.3 L2075.05 1062.2 L2030.54 1062.2 L2030.54 1056.3 Z\" fill=\"#000000\" fill-rule=\"evenodd\" fill-opacity=\"1\" /><path clip-path=\"url(#clip220)\" d=\"M2112.86 1022.59 L2140.4 1022.59 L2140.4 1028.49 L2119.29 1028.49 L2119.29 1041.2 Q2120.81 1040.68 2122.34 1040.43 Q2123.87 1040.15 2125.4 1040.15 Q2134.08 1040.15 2139.15 1044.91 Q2144.22 1049.67 2144.22 1057.79 Q2144.22 1066.16 2139.01 1070.81 Q2133.8 1075.43 2124.32 1075.43 Q2121.06 1075.43 2117.65 1074.88 Q2114.29 1074.32 2110.68 1073.21 L2110.68 1066.16 Q2113.8 1067.86 2117.13 1068.7 Q2120.47 1069.53 2124.18 1069.53 Q2130.19 1069.53 2133.7 1066.37 Q2137.2 1063.21 2137.2 1057.79 Q2137.2 1052.38 2133.7 1049.22 Q2130.19 1046.06 2124.18 1046.06 Q2121.37 1046.06 2118.56 1046.68 Q2115.78 1047.31 2112.86 1048.63 L2112.86 1022.59 Z\" fill=\"#000000\" fill-rule=\"evenodd\" fill-opacity=\"1\" /><polyline clip-path=\"url(#clip220)\" style=\"stroke:#008000; stroke-linecap:butt; stroke-linejoin:round; stroke-width:6; stroke-opacity:1; fill:none\" points=\"\n",
       "  1634.16,1126.27 1774.03,1126.27 \n",
       "  \"/>\n",
       "<path clip-path=\"url(#clip220)\" d=\"M1825.71 1119.2 L1825.71 1098.16 L1832.1 1098.16 L1832.1 1152.19 L1825.71 1152.19 L1825.71 1146.35 Q1823.7 1149.82 1820.61 1151.53 Q1817.55 1153.19 1813.25 1153.19 Q1806.2 1153.19 1801.75 1147.57 Q1797.34 1141.94 1797.34 1132.78 Q1797.34 1123.61 1801.75 1117.98 Q1806.2 1112.36 1813.25 1112.36 Q1817.55 1112.36 1820.61 1114.06 Q1823.7 1115.73 1825.71 1119.2 M1803.94 1132.78 Q1803.94 1139.82 1806.82 1143.85 Q1809.74 1147.85 1814.81 1147.85 Q1819.88 1147.85 1822.79 1143.85 Q1825.71 1139.82 1825.71 1132.78 Q1825.71 1125.73 1822.79 1121.73 Q1819.88 1117.71 1814.81 1117.71 Q1809.74 1117.71 1806.82 1121.73 Q1803.94 1125.73 1803.94 1132.78 Z\" fill=\"#000000\" fill-rule=\"evenodd\" fill-opacity=\"1\" /><path clip-path=\"url(#clip220)\" d=\"M1878.52 1131.14 L1878.52 1134.27 L1849.15 1134.27 Q1849.57 1140.87 1853.11 1144.34 Q1856.68 1147.78 1863.04 1147.78 Q1866.72 1147.78 1870.16 1146.87 Q1873.63 1145.97 1877.03 1144.16 L1877.03 1150.21 Q1873.59 1151.66 1869.98 1152.43 Q1866.37 1153.19 1862.66 1153.19 Q1853.35 1153.19 1847.9 1147.78 Q1842.48 1142.36 1842.48 1133.12 Q1842.48 1123.57 1847.62 1117.98 Q1852.79 1112.36 1861.54 1112.36 Q1869.39 1112.36 1873.94 1117.43 Q1878.52 1122.46 1878.52 1131.14 M1872.13 1129.27 Q1872.07 1124.03 1869.18 1120.9 Q1866.34 1117.78 1861.61 1117.78 Q1856.27 1117.78 1853.04 1120.8 Q1849.84 1123.82 1849.36 1129.3 L1872.13 1129.27 Z\" fill=\"#000000\" fill-rule=\"evenodd\" fill-opacity=\"1\" /><path clip-path=\"url(#clip220)\" d=\"M1895.19 1146.35 L1895.19 1166.98 L1888.77 1166.98 L1888.77 1113.3 L1895.19 1113.3 L1895.19 1119.2 Q1897.2 1115.73 1900.26 1114.06 Q1903.35 1112.36 1907.62 1112.36 Q1914.7 1112.36 1919.11 1117.98 Q1923.56 1123.61 1923.56 1132.78 Q1923.56 1141.94 1919.11 1147.57 Q1914.7 1153.19 1907.62 1153.19 Q1903.35 1153.19 1900.26 1151.53 Q1897.2 1149.82 1895.19 1146.35 M1916.93 1132.78 Q1916.93 1125.73 1914.01 1121.73 Q1911.13 1117.71 1906.06 1117.71 Q1900.99 1117.71 1898.07 1121.73 Q1895.19 1125.73 1895.19 1132.78 Q1895.19 1139.82 1898.07 1143.85 Q1900.99 1147.85 1906.06 1147.85 Q1911.13 1147.85 1914.01 1143.85 Q1916.93 1139.82 1916.93 1132.78 Z\" fill=\"#000000\" fill-rule=\"evenodd\" fill-opacity=\"1\" /><path clip-path=\"url(#clip220)\" d=\"M1940.47 1102.26 L1940.47 1113.3 L1953.63 1113.3 L1953.63 1118.26 L1940.47 1118.26 L1940.47 1139.37 Q1940.47 1144.13 1941.75 1145.48 Q1943.07 1146.84 1947.07 1146.84 L1953.63 1146.84 L1953.63 1152.19 L1947.07 1152.19 Q1939.67 1152.19 1936.86 1149.44 Q1934.04 1146.66 1934.04 1139.37 L1934.04 1118.26 L1929.36 1118.26 L1929.36 1113.3 L1934.04 1113.3 L1934.04 1102.26 L1940.47 1102.26 Z\" fill=\"#000000\" fill-rule=\"evenodd\" fill-opacity=\"1\" /><path clip-path=\"url(#clip220)\" d=\"M1994.36 1128.71 L1994.36 1152.19 L1987.97 1152.19 L1987.97 1128.92 Q1987.97 1123.4 1985.81 1120.66 Q1983.66 1117.91 1979.36 1117.91 Q1974.18 1117.91 1971.2 1121.21 Q1968.21 1124.51 1968.21 1130.21 L1968.21 1152.19 L1961.79 1152.19 L1961.79 1098.16 L1968.21 1098.16 L1968.21 1119.34 Q1970.5 1115.83 1973.59 1114.1 Q1976.72 1112.36 1980.78 1112.36 Q1987.48 1112.36 1990.92 1116.53 Q1994.36 1120.66 1994.36 1128.71 Z\" fill=\"#000000\" fill-rule=\"evenodd\" fill-opacity=\"1\" /><path clip-path=\"url(#clip220)\" d=\"M2030.54 1119.89 L2075.05 1119.89 L2075.05 1125.73 L2030.54 1125.73 L2030.54 1119.89 M2030.54 1134.06 L2075.05 1134.06 L2075.05 1139.96 L2030.54 1139.96 L2030.54 1134.06 Z\" fill=\"#000000\" fill-rule=\"evenodd\" fill-opacity=\"1\" /><path clip-path=\"url(#clip220)\" d=\"M2114.01 1146.28 L2125.47 1146.28 L2125.47 1106.73 L2113 1109.23 L2113 1102.85 L2125.4 1100.35 L2132.41 1100.35 L2132.41 1146.28 L2143.87 1146.28 L2143.87 1152.19 L2114.01 1152.19 L2114.01 1146.28 Z\" fill=\"#000000\" fill-rule=\"evenodd\" fill-opacity=\"1\" /><path clip-path=\"url(#clip220)\" d=\"M2173.04 1104.96 Q2167.62 1104.96 2164.88 1110.31 Q2162.17 1115.62 2162.17 1126.32 Q2162.17 1136.98 2164.88 1142.32 Q2167.62 1147.64 2173.04 1147.64 Q2178.49 1147.64 2181.2 1142.32 Q2183.94 1136.98 2183.94 1126.32 Q2183.94 1115.62 2181.2 1110.31 Q2178.49 1104.96 2173.04 1104.96 M2173.04 1099.41 Q2181.75 1099.41 2186.33 1106.32 Q2190.95 1113.19 2190.95 1126.32 Q2190.95 1139.41 2186.33 1146.32 Q2181.75 1153.19 2173.04 1153.19 Q2164.32 1153.19 2159.7 1146.32 Q2155.12 1139.41 2155.12 1126.32 Q2155.12 1113.19 2159.7 1106.32 Q2164.32 1099.41 2173.04 1099.41 Z\" fill=\"#000000\" fill-rule=\"evenodd\" fill-opacity=\"1\" /><polyline clip-path=\"url(#clip220)\" style=\"stroke:#ff00ff; stroke-linecap:butt; stroke-linejoin:round; stroke-width:6; stroke-opacity:1; fill:none\" points=\"\n",
       "  1634.16,1204.03 1774.03,1204.03 \n",
       "  \"/>\n",
       "<path clip-path=\"url(#clip220)\" d=\"M1825.71 1196.96 L1825.71 1175.92 L1832.1 1175.92 L1832.1 1229.95 L1825.71 1229.95 L1825.71 1224.11 Q1823.7 1227.58 1820.61 1229.29 Q1817.55 1230.95 1813.25 1230.95 Q1806.2 1230.95 1801.75 1225.33 Q1797.34 1219.7 1797.34 1210.54 Q1797.34 1201.37 1801.75 1195.74 Q1806.2 1190.12 1813.25 1190.12 Q1817.55 1190.12 1820.61 1191.82 Q1823.7 1193.49 1825.71 1196.96 M1803.94 1210.54 Q1803.94 1217.58 1806.82 1221.61 Q1809.74 1225.61 1814.81 1225.61 Q1819.88 1225.61 1822.79 1221.61 Q1825.71 1217.58 1825.71 1210.54 Q1825.71 1203.49 1822.79 1199.49 Q1819.88 1195.47 1814.81 1195.47 Q1809.74 1195.47 1806.82 1199.49 Q1803.94 1203.49 1803.94 1210.54 Z\" fill=\"#000000\" fill-rule=\"evenodd\" fill-opacity=\"1\" /><path clip-path=\"url(#clip220)\" d=\"M1878.52 1208.9 L1878.52 1212.03 L1849.15 1212.03 Q1849.57 1218.63 1853.11 1222.1 Q1856.68 1225.54 1863.04 1225.54 Q1866.72 1225.54 1870.16 1224.63 Q1873.63 1223.73 1877.03 1221.92 L1877.03 1227.97 Q1873.59 1229.42 1869.98 1230.19 Q1866.37 1230.95 1862.66 1230.95 Q1853.35 1230.95 1847.9 1225.54 Q1842.48 1220.12 1842.48 1210.88 Q1842.48 1201.33 1847.62 1195.74 Q1852.79 1190.12 1861.54 1190.12 Q1869.39 1190.12 1873.94 1195.19 Q1878.52 1200.22 1878.52 1208.9 M1872.13 1207.03 Q1872.07 1201.79 1869.18 1198.66 Q1866.34 1195.54 1861.61 1195.54 Q1856.27 1195.54 1853.04 1198.56 Q1849.84 1201.58 1849.36 1207.06 L1872.13 1207.03 Z\" fill=\"#000000\" fill-rule=\"evenodd\" fill-opacity=\"1\" /><path clip-path=\"url(#clip220)\" d=\"M1895.19 1224.11 L1895.19 1244.74 L1888.77 1244.74 L1888.77 1191.06 L1895.19 1191.06 L1895.19 1196.96 Q1897.2 1193.49 1900.26 1191.82 Q1903.35 1190.12 1907.62 1190.12 Q1914.7 1190.12 1919.11 1195.74 Q1923.56 1201.37 1923.56 1210.54 Q1923.56 1219.7 1919.11 1225.33 Q1914.7 1230.95 1907.62 1230.95 Q1903.35 1230.95 1900.26 1229.29 Q1897.2 1227.58 1895.19 1224.11 M1916.93 1210.54 Q1916.93 1203.49 1914.01 1199.49 Q1911.13 1195.47 1906.06 1195.47 Q1900.99 1195.47 1898.07 1199.49 Q1895.19 1203.49 1895.19 1210.54 Q1895.19 1217.58 1898.07 1221.61 Q1900.99 1225.61 1906.06 1225.61 Q1911.13 1225.61 1914.01 1221.61 Q1916.93 1217.58 1916.93 1210.54 Z\" fill=\"#000000\" fill-rule=\"evenodd\" fill-opacity=\"1\" /><path clip-path=\"url(#clip220)\" d=\"M1940.47 1180.02 L1940.47 1191.06 L1953.63 1191.06 L1953.63 1196.02 L1940.47 1196.02 L1940.47 1217.13 Q1940.47 1221.89 1941.75 1223.24 Q1943.07 1224.6 1947.07 1224.6 L1953.63 1224.6 L1953.63 1229.95 L1947.07 1229.95 Q1939.67 1229.95 1936.86 1227.2 Q1934.04 1224.42 1934.04 1217.13 L1934.04 1196.02 L1929.36 1196.02 L1929.36 1191.06 L1934.04 1191.06 L1934.04 1180.02 L1940.47 1180.02 Z\" fill=\"#000000\" fill-rule=\"evenodd\" fill-opacity=\"1\" /><path clip-path=\"url(#clip220)\" d=\"M1994.36 1206.47 L1994.36 1229.95 L1987.97 1229.95 L1987.97 1206.68 Q1987.97 1201.16 1985.81 1198.42 Q1983.66 1195.67 1979.36 1195.67 Q1974.18 1195.67 1971.2 1198.97 Q1968.21 1202.27 1968.21 1207.97 L1968.21 1229.95 L1961.79 1229.95 L1961.79 1175.92 L1968.21 1175.92 L1968.21 1197.1 Q1970.5 1193.59 1973.59 1191.86 Q1976.72 1190.12 1980.78 1190.12 Q1987.48 1190.12 1990.92 1194.29 Q1994.36 1198.42 1994.36 1206.47 Z\" fill=\"#000000\" fill-rule=\"evenodd\" fill-opacity=\"1\" /><path clip-path=\"url(#clip220)\" d=\"M2030.54 1197.65 L2075.05 1197.65 L2075.05 1203.49 L2030.54 1203.49 L2030.54 1197.65 M2030.54 1211.82 L2075.05 1211.82 L2075.05 1217.72 L2030.54 1217.72 L2030.54 1211.82 Z\" fill=\"#000000\" fill-rule=\"evenodd\" fill-opacity=\"1\" /><path clip-path=\"url(#clip220)\" d=\"M2112.86 1178.11 L2140.4 1178.11 L2140.4 1184.01 L2119.29 1184.01 L2119.29 1196.72 Q2120.81 1196.2 2122.34 1195.95 Q2123.87 1195.67 2125.4 1195.67 Q2134.08 1195.67 2139.15 1200.43 Q2144.22 1205.19 2144.22 1213.31 Q2144.22 1221.68 2139.01 1226.33 Q2133.8 1230.95 2124.32 1230.95 Q2121.06 1230.95 2117.65 1230.4 Q2114.29 1229.84 2110.68 1228.73 L2110.68 1221.68 Q2113.8 1223.38 2117.13 1224.22 Q2120.47 1225.05 2124.18 1225.05 Q2130.19 1225.05 2133.7 1221.89 Q2137.2 1218.73 2137.2 1213.31 Q2137.2 1207.9 2133.7 1204.74 Q2130.19 1201.58 2124.18 1201.58 Q2121.37 1201.58 2118.56 1202.2 Q2115.78 1202.83 2112.86 1204.15 L2112.86 1178.11 Z\" fill=\"#000000\" fill-rule=\"evenodd\" fill-opacity=\"1\" /><path clip-path=\"url(#clip220)\" d=\"M2173.04 1182.72 Q2167.62 1182.72 2164.88 1188.07 Q2162.17 1193.38 2162.17 1204.08 Q2162.17 1214.74 2164.88 1220.08 Q2167.62 1225.4 2173.04 1225.4 Q2178.49 1225.4 2181.2 1220.08 Q2183.94 1214.74 2183.94 1204.08 Q2183.94 1193.38 2181.2 1188.07 Q2178.49 1182.72 2173.04 1182.72 M2173.04 1177.17 Q2181.75 1177.17 2186.33 1184.08 Q2190.95 1190.95 2190.95 1204.08 Q2190.95 1217.17 2186.33 1224.08 Q2181.75 1230.95 2173.04 1230.95 Q2164.32 1230.95 2159.7 1224.08 Q2155.12 1217.17 2155.12 1204.08 Q2155.12 1190.95 2159.7 1184.08 Q2164.32 1177.17 2173.04 1177.17 Z\" fill=\"#000000\" fill-rule=\"evenodd\" fill-opacity=\"1\" /><polyline clip-path=\"url(#clip220)\" style=\"stroke:#ffff00; stroke-linecap:butt; stroke-linejoin:round; stroke-width:6; stroke-opacity:1; fill:none\" points=\"\n",
       "  1634.16,1281.79 1774.03,1281.79 \n",
       "  \"/>\n",
       "<path clip-path=\"url(#clip220)\" d=\"M1825.71 1274.72 L1825.71 1253.68 L1832.1 1253.68 L1832.1 1307.71 L1825.71 1307.71 L1825.71 1301.87 Q1823.7 1305.34 1820.61 1307.05 Q1817.55 1308.71 1813.25 1308.71 Q1806.2 1308.71 1801.75 1303.09 Q1797.34 1297.46 1797.34 1288.3 Q1797.34 1279.13 1801.75 1273.5 Q1806.2 1267.88 1813.25 1267.88 Q1817.55 1267.88 1820.61 1269.58 Q1823.7 1271.25 1825.71 1274.72 M1803.94 1288.3 Q1803.94 1295.34 1806.82 1299.37 Q1809.74 1303.37 1814.81 1303.37 Q1819.88 1303.37 1822.79 1299.37 Q1825.71 1295.34 1825.71 1288.3 Q1825.71 1281.25 1822.79 1277.25 Q1819.88 1273.23 1814.81 1273.23 Q1809.74 1273.23 1806.82 1277.25 Q1803.94 1281.25 1803.94 1288.3 Z\" fill=\"#000000\" fill-rule=\"evenodd\" fill-opacity=\"1\" /><path clip-path=\"url(#clip220)\" d=\"M1878.52 1286.66 L1878.52 1289.79 L1849.15 1289.79 Q1849.57 1296.39 1853.11 1299.86 Q1856.68 1303.3 1863.04 1303.3 Q1866.72 1303.3 1870.16 1302.39 Q1873.63 1301.49 1877.03 1299.68 L1877.03 1305.73 Q1873.59 1307.18 1869.98 1307.95 Q1866.37 1308.71 1862.66 1308.71 Q1853.35 1308.71 1847.9 1303.3 Q1842.48 1297.88 1842.48 1288.64 Q1842.48 1279.09 1847.62 1273.5 Q1852.79 1267.88 1861.54 1267.88 Q1869.39 1267.88 1873.94 1272.95 Q1878.52 1277.98 1878.52 1286.66 M1872.13 1284.79 Q1872.07 1279.55 1869.18 1276.42 Q1866.34 1273.3 1861.61 1273.3 Q1856.27 1273.3 1853.04 1276.32 Q1849.84 1279.34 1849.36 1284.82 L1872.13 1284.79 Z\" fill=\"#000000\" fill-rule=\"evenodd\" fill-opacity=\"1\" /><path clip-path=\"url(#clip220)\" d=\"M1895.19 1301.87 L1895.19 1322.5 L1888.77 1322.5 L1888.77 1268.82 L1895.19 1268.82 L1895.19 1274.72 Q1897.2 1271.25 1900.26 1269.58 Q1903.35 1267.88 1907.62 1267.88 Q1914.7 1267.88 1919.11 1273.5 Q1923.56 1279.13 1923.56 1288.3 Q1923.56 1297.46 1919.11 1303.09 Q1914.7 1308.71 1907.62 1308.71 Q1903.35 1308.71 1900.26 1307.05 Q1897.2 1305.34 1895.19 1301.87 M1916.93 1288.3 Q1916.93 1281.25 1914.01 1277.25 Q1911.13 1273.23 1906.06 1273.23 Q1900.99 1273.23 1898.07 1277.25 Q1895.19 1281.25 1895.19 1288.3 Q1895.19 1295.34 1898.07 1299.37 Q1900.99 1303.37 1906.06 1303.37 Q1911.13 1303.37 1914.01 1299.37 Q1916.93 1295.34 1916.93 1288.3 Z\" fill=\"#000000\" fill-rule=\"evenodd\" fill-opacity=\"1\" /><path clip-path=\"url(#clip220)\" d=\"M1940.47 1257.78 L1940.47 1268.82 L1953.63 1268.82 L1953.63 1273.78 L1940.47 1273.78 L1940.47 1294.89 Q1940.47 1299.65 1941.75 1301 Q1943.07 1302.36 1947.07 1302.36 L1953.63 1302.36 L1953.63 1307.71 L1947.07 1307.71 Q1939.67 1307.71 1936.86 1304.96 Q1934.04 1302.18 1934.04 1294.89 L1934.04 1273.78 L1929.36 1273.78 L1929.36 1268.82 L1934.04 1268.82 L1934.04 1257.78 L1940.47 1257.78 Z\" fill=\"#000000\" fill-rule=\"evenodd\" fill-opacity=\"1\" /><path clip-path=\"url(#clip220)\" d=\"M1994.36 1284.23 L1994.36 1307.71 L1987.97 1307.71 L1987.97 1284.44 Q1987.97 1278.92 1985.81 1276.18 Q1983.66 1273.43 1979.36 1273.43 Q1974.18 1273.43 1971.2 1276.73 Q1968.21 1280.03 1968.21 1285.73 L1968.21 1307.71 L1961.79 1307.71 L1961.79 1253.68 L1968.21 1253.68 L1968.21 1274.86 Q1970.5 1271.35 1973.59 1269.62 Q1976.72 1267.88 1980.78 1267.88 Q1987.48 1267.88 1990.92 1272.05 Q1994.36 1276.18 1994.36 1284.23 Z\" fill=\"#000000\" fill-rule=\"evenodd\" fill-opacity=\"1\" /><path clip-path=\"url(#clip220)\" d=\"M2030.54 1275.41 L2075.05 1275.41 L2075.05 1281.25 L2030.54 1281.25 L2030.54 1275.41 M2030.54 1289.58 L2075.05 1289.58 L2075.05 1295.48 L2030.54 1295.48 L2030.54 1289.58 Z\" fill=\"#000000\" fill-rule=\"evenodd\" fill-opacity=\"1\" /><path clip-path=\"url(#clip220)\" d=\"M2114.01 1301.8 L2125.47 1301.8 L2125.47 1262.25 L2113 1264.75 L2113 1258.37 L2125.4 1255.87 L2132.41 1255.87 L2132.41 1301.8 L2143.87 1301.8 L2143.87 1307.71 L2114.01 1307.71 L2114.01 1301.8 Z\" fill=\"#000000\" fill-rule=\"evenodd\" fill-opacity=\"1\" /><path clip-path=\"url(#clip220)\" d=\"M2173.04 1260.48 Q2167.62 1260.48 2164.88 1265.83 Q2162.17 1271.14 2162.17 1281.84 Q2162.17 1292.5 2164.88 1297.84 Q2167.62 1303.16 2173.04 1303.16 Q2178.49 1303.16 2181.2 1297.84 Q2183.94 1292.5 2183.94 1281.84 Q2183.94 1271.14 2181.2 1265.83 Q2178.49 1260.48 2173.04 1260.48 M2173.04 1254.93 Q2181.75 1254.93 2186.33 1261.84 Q2190.95 1268.71 2190.95 1281.84 Q2190.95 1294.93 2186.33 1301.84 Q2181.75 1308.71 2173.04 1308.71 Q2164.32 1308.71 2159.7 1301.84 Q2155.12 1294.93 2155.12 1281.84 Q2155.12 1268.71 2159.7 1261.84 Q2164.32 1254.93 2173.04 1254.93 Z\" fill=\"#000000\" fill-rule=\"evenodd\" fill-opacity=\"1\" /><path clip-path=\"url(#clip220)\" d=\"M2218.28 1260.48 Q2212.86 1260.48 2210.12 1265.83 Q2207.41 1271.14 2207.41 1281.84 Q2207.41 1292.5 2210.12 1297.84 Q2212.86 1303.16 2218.28 1303.16 Q2223.73 1303.16 2226.44 1297.84 Q2229.18 1292.5 2229.18 1281.84 Q2229.18 1271.14 2226.44 1265.83 Q2223.73 1260.48 2218.28 1260.48 M2218.28 1254.93 Q2226.99 1254.93 2231.58 1261.84 Q2236.2 1268.71 2236.2 1281.84 Q2236.2 1294.93 2231.58 1301.84 Q2226.99 1308.71 2218.28 1308.71 Q2209.56 1308.71 2204.95 1301.84 Q2200.36 1294.93 2200.36 1281.84 Q2200.36 1268.71 2204.95 1261.84 Q2209.56 1254.93 2218.28 1254.93 Z\" fill=\"#000000\" fill-rule=\"evenodd\" fill-opacity=\"1\" /></svg>\n"
      ]
     },
     "execution_count": 149,
>>>>>>> week1_task3
     "metadata": {},
     "output_type": "execute_result"
    }
   ],
   "source": [
<<<<<<< HEAD
    "for i in 0:2^N-1\n",
    "    scatter(i,0,color=\"red\",linewidth=50.0*Prob[i])\n",
    "end\n",
    "axis(\"off\")"
=======
    "xi = 0.001\n",
    "xf = 0.5\n",
    "x = xi:xi:xf\n",
    "# First, plot the ideal cdf\n",
    "ideal = 1 .- exp.(-2^N .* x);\n",
    "plot(x,ideal,xaxis=:log,lw = 3,xlabel = L\"p\",ylabel = \"CDF\",label = \"Exact\",linestyle = :dash,linecolor = :black,\n",
    "    legend=:bottomright,legendfont=font(12),xtickfont=font(12),ytickfont=font(12),xguidefont=font(12))\n",
    "\n",
    "# CDF for circuit depth = 1\n",
    "plot!(p1->gcdf1(p1),xi,xf,xaxis=:log,lw = 2,label = \"depth = 1\",linecolor = :red)\n",
    "\n",
    "# CDF for circuit depth = 1\n",
    "plot!(p2->gcdf2(p2),xi,xf,xaxis=:log,lw = 2,label = \"depth = 2\",linecolor = :blue)\n",
    "\n",
    "# CDF for circuit depth = 1\n",
    "plot!(p5->gcdf5(p5),xi,xf,xaxis=:log,lw = 2,label = \"depth = 5\",linecolor = :orange)\n",
    "\n",
    "# CDF for circuit depth = 1\n",
    "plot!(p10->gcdf10(p10),xi,xf,xaxis=:log,lw = 2,label = \"depth = 10\",linecolor = :green)\n",
    "\n",
    "# CDF for circuit depth = 1\n",
    "plot!(p50->gcdf50(p50),xi,xf,xaxis=:log,lw = 2,label = \"depth = 50\",linecolor = :magenta)\n",
    "\n",
    "# CDF for circuit depth = 1\n",
    "plot!(p100->gcdf100(p100),xi,xf,xaxis=:log,lw = 2,label = \"depth = 100\",linecolor = :yellow)"
   ]
  },
  {
   "cell_type": "markdown",
   "metadata": {},
   "source": [
    "The figure above clearly demonstrates that the cdf approaches to the exact one as the quantum circuit depth is increased as expected."
   ]
  },
  {
   "cell_type": "code",
   "execution_count": 150,
   "metadata": {},
   "outputs": [],
   "source": [
    "# Save figure\n",
    "savefig(\"task3_result.pdf\")"
>>>>>>> week1_task3
   ]
  },
  {
   "cell_type": "code",
   "execution_count": null,
   "metadata": {},
   "outputs": [],
   "source": []
  }
 ],
 "metadata": {
  "kernelspec": {
   "display_name": "Julia 1.6.1",
   "language": "julia",
   "name": "julia-1.6"
  },
  "language_info": {
   "file_extension": ".jl",
   "mimetype": "application/julia",
   "name": "julia",
   "version": "1.6.1"
  }
 },
 "nbformat": 4,
 "nbformat_minor": 4
}
