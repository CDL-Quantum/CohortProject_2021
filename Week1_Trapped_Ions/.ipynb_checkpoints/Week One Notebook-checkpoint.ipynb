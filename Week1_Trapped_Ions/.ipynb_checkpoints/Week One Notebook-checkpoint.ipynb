{
 "cells": [
  {
   "cell_type": "code",
   "execution_count": 50,
   "metadata": {},
   "outputs": [],
   "source": [
    "try:\n",
    "    import cirq\n",
    "except ImportError:\n",
    "    print(\"installing cirq...\")\n",
    "    !pip install --quiet cirq\n",
    "    print(\"installed cirq.\")"
   ]
  },
  {
   "cell_type": "code",
   "execution_count": 51,
   "metadata": {},
   "outputs": [],
   "source": [
    "import cirq\n",
    "import numpy as np\n",
    "import random\n",
    "from cirq import Simulator\n",
    "from cirq.circuits import InsertStrategy\n",
    "import matplotlib.pyplot as plt"
   ]
  },
  {
   "cell_type": "markdown",
   "metadata": {},
   "source": [
    "Define the Gates R and M"
   ]
  },
  {
   "cell_type": "code",
   "execution_count": 237,
   "metadata": {},
   "outputs": [],
   "source": [
    "class gateR(cirq.Gate):\n",
    "    def __init__(self,theta,phi):\n",
    "        super(gateR,self)\n",
    "        self.theta = theta\n",
    "        self.phi = phi\n",
    "        \n",
    "    def num_qubits(self):\n",
    "        return 1\n",
    "    \n",
    "    def _unitary_(self):\n",
    "        return np.array([\n",
    "            [np.cos(self.theta/2),(-1j*np.exp(-1j*self.phi))*np.sin(self.theta/2)],\n",
    "            [(-1j*np.exp(-1j*self.phi))*np.sin(self.theta/2),np.cos(self.theta/2)]\n",
    "        ])\n",
    "    \n",
    "    def _circuit_diagram_info_(self, args):\n",
    "        return \"R\"\n",
    "    \n",
    "class gateM(cirq.TwoQubitGate):\n",
    "    def __init__(self,theta):\n",
    "        super(gateM,self)\n",
    "        self.theta = theta\n",
    "    \n",
    "    def num_qubits(self):\n",
    "        return 2\n",
    "    \n",
    "    def _unitary_(self):\n",
    "        return np.array([\n",
    "            [np.cos(self.theta),0,0,-1j*np.sin(self.theta)],\n",
    "            [0,np.cos(self.theta),1j*np.sin(self.theta),0],\n",
    "            [0,-1j*np.sin(self.theta),np.cos(self.theta),0],\n",
    "            [-1j*np.sin(self.theta),0,0,np.cos(self.theta)]\n",
    "        ])\n",
    "    \n",
    "    def _circuit_diagram_info_(self, args):\n",
    "        return \"%\",\"%\"\n"
   ]
  },
  {
   "cell_type": "code",
   "execution_count": 332,
   "metadata": {},
   "outputs": [
    {
     "name": "stdout",
     "output_type": "stream",
     "text": [
      "0: ───R───R───R───R───────────\n",
      "\n",
      "1: ───R───R───%───R───R───%───\n",
      "              │           │\n",
      "2: ───R───R───%───R───R───%───\n"
     ]
    },
    {
     "data": {
      "text/plain": [
       "[0.13669413477811132,\n",
       " 0.08158724824228826,\n",
       " 0.07413228932624678,\n",
       " 0.06267942540124469,\n",
       " 0.4230229976347626,\n",
       " 0.25248546600955446,\n",
       " 0.22941484141379556,\n",
       " 0.19397202715609704]"
      ]
     },
     "execution_count": 332,
     "metadata": {},
     "output_type": "execute_result"
    }
   ],
   "source": [
    "N = 3\n",
    "depth = 5\n",
    "qubits = [cirq.LineQubit(x) for x in range(N)]\n",
    "circuit = cirq.Circuit([])\n",
    "gates = ()\n",
    "for i in range(1,depth):\n",
    "    idx_first = i % 2 + 1\n",
    "\n",
    "    circuit.append((gateR(theta=2*np.pi*random.random(),phi=2*np.pi*random.random()).on(qubits[j]) for j in range(N)))\n",
    "    circuit.append((gateM(theta=2*np.pi*random.random()).on(qubits[j],qubits[j+1]) for j in range(idx_first,N-1)))\n",
    "#circuit.append([cirq.measure(q,key=f'q{count}') for count,q in enumerate(qubits)])\n",
    "print(circuit)\n",
    "final_state = circuit.final_state_vector()\n",
    "prob = [(x.real*x.real+x.imag*x.imag)**(0.5) for x in final_state]\n",
    "prob\n",
    "\n",
    "\n",
    "\n"
   ]
  },
  {
   "cell_type": "code",
   "execution_count": 333,
   "metadata": {
    "scrolled": false
   },
   "outputs": [],
   "source": [
    "import matplotlib.path as mpath\n",
    "import matplotlib.lines as mlines\n",
    "import matplotlib.patches as mpatches\n",
    "from matplotlib.collections import PatchCollection"
   ]
  },
  {
   "cell_type": "code",
   "execution_count": 334,
   "metadata": {},
   "outputs": [
    {
     "data": {
      "image/png": "[encoded data removed]",
      "text/plain": [
       "<Figure size 432x288 with 1 Axes>"
      ]
     },
     "metadata": {
      "needs_background": "light"
     },
     "output_type": "display_data"
    }
   ],
   "source": [
    "import matplotlib.pyplot as plt\n",
    "import numpy as np\n",
    "import matplotlib.path as mpath\n",
    "import matplotlib.lines as mlines\n",
    "import matplotlib.patches as mpatches\n",
    "from matplotlib.collections import PatchCollection\n",
    "\n",
    "\n",
    "def label(xy, text):\n",
    "    y = xy[1] - 0.15  # shift y-value for label so that it's below the artist\n",
    "    plt.text(xy[0], y, text, ha=\"center\", family='sans-serif', size=14)\n",
    "\n",
    "\n",
    "fig, ax = plt.subplots()\n",
    "# create 3x3 grid to plot the artists\n",
    "grid = np.mgrid[0.2:0.8:3j, 0.2:0.8:3j]\n",
    "\n",
    "patches = []\n",
    "\n",
    "# add a circle\n",
    "for count,i in enumerate(prob):\n",
    "    circle = mpatches.Circle(grid[count],i, ec=\"none\")\n",
    "    patches.append(circle)\n",
    "label(grid[0], \"Circle\")\n",
    "\n",
    "colors = np.linspace(0, 1, len(patches))\n",
    "collection = PatchCollection(patches, cmap=plt.cm.hsv, alpha=0.3)\n",
    "collection.set_array(colors)\n",
    "ax.add_collection(collection)\n",
    "\n",
    "plt.axis('equal')\n",
    "plt.axis('off')\n",
    "plt.tight_layout()\n",
    "\n",
    "plt.show()"
   ]
  },
  {
   "cell_type": "code",
   "execution_count": 329,
   "metadata": {},
   "outputs": [
    {
     "data": {
      "text/plain": [
       "array([[0.2, 0.2],\n",
       "       [0.2, 0.5],\n",
       "       [0.2, 0.8],\n",
       "       [0.5, 0.2],\n",
       "       [0.5, 0.5],\n",
       "       [0.5, 0.8],\n",
       "       [0.8, 0.2],\n",
       "       [0.8, 0.5],\n",
       "       [0.8, 0.8]])"
      ]
     },
     "execution_count": 329,
     "metadata": {},
     "output_type": "execute_result"
    }
   ],
   "source": [
    "grid"
   ]
  },
  {
   "cell_type": "code",
   "execution_count": null,
   "metadata": {},
   "outputs": [],
   "source": []
  },
  {
   "cell_type": "code",
   "execution_count": null,
   "metadata": {},
   "outputs": [],
   "source": []
  }
 ],
 "metadata": {
  "kernelspec": {
   "display_name": "Python 3",
   "language": "python",
   "name": "python3"
  },
  "language_info": {
   "codemirror_mode": {
    "name": "ipython",
    "version": 3
   },
   "file_extension": ".py",
   "mimetype": "text/x-python",
   "name": "python",
   "nbconvert_exporter": "python",
   "pygments_lexer": "ipython3",
   "version": "3.8.5"
  }
 },
 "nbformat": 4,
 "nbformat_minor": 4
}
