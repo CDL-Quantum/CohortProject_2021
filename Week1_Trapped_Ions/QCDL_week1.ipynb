{
  "nbformat": 4,
  "nbformat_minor": 0,
  "metadata": {
    "accelerator": "GPU",
    "colab": {
      "name": "QCDL_week1.ipynb",
      "provenance": [],
      "collapsed_sections": [
        "6ew60wXrZM0W"
      ],
      "toc_visible": true,
      "include_colab_link": true
    },
    "kernelspec": {
      "display_name": "Julia",
      "language": "julia",
      "name": "julia"
    },
    "language_info": {
      "file_extension": ".jl",
      "mimetype": "application/julia",
      "name": "julia"
    }
  },
  "cells": [
    {
      "cell_type": "markdown",
      "metadata": {
        "id": "view-in-github",
        "colab_type": "text"
      },
      "source": [
        "<a href=\"https://colab.research.google.com/github/sitzenkova/CohortProject_2021/blob/main/Week1_Trapped_Ions/QCDL_week1.ipynb\" target=\"_parent\"><img src=\"https://colab.research.google.com/assets/colab-badge.svg\" alt=\"Open In Colab\"/></a>"
      ]
    },
    {
      "cell_type": "markdown",
      "metadata": {
        "id": "WvMmqQTelfyA"
      },
      "source": [
        "# Installation of Julia in google colab"
      ]
    },
    {
      "cell_type": "markdown",
      "metadata": {
        "id": "6ew60wXrZM0W"
      },
      "source": [
        "## Running on Google Colab\n",
        "1. Work on a copy of this notebook: _File_ > _Save a copy in Drive_ (you will need a Google account). Alternatively, you can download the notebook using _File_ > _Download .ipynb_, then upload it to [Colab](https://colab.research.google.com/).\n",
        "2. Execute the following cell (click on it and press Ctrl+Enter) to install Julia, IJulia (the Jupyter kernel for Julia) and other packages. You can update `JULIA_VERSION` and the other parameters, if you know what you're doing. Installation takes 2-3 minutes.\n",
        "3. Reload this page (press Ctrl+R, or ⌘+R, or the F5 key) and continue to the _Checking the Installation_ section.\n",
        "\n",
        "* _Note_: If your Colab Runtime gets reset (e.g., due to inactivity), repeat steps 2 and 3."
      ]
    },
    {
      "cell_type": "code",
      "metadata": {
        "colab": {
          "base_uri": "https://localhost:8080/"
        },
        "id": "GIeFXS0F0zww",
        "outputId": "d4a2fd58-93ae-4646-a4a1-1c5c05412c78"
      },
      "source": [
        "%%shell\n",
        "set -e\n",
        "\n",
        "#---------------------------------------------------#\n",
        "JULIA_VERSION=\"1.6.0\" # any version ≥ 0.7.0\n",
        "JULIA_PACKAGES=\"IJulia BenchmarkTools PyCall PyPlot PastaQ ITensors\"\n",
        "JULIA_PACKAGES_IF_GPU=\"CUDA\"\n",
        "JULIA_NUM_THREADS=4\n",
        "#---------------------------------------------------#\n",
        "\n",
        "if [ -n \"$COLAB_GPU\" ] && [ -z `which julia` ]; then\n",
        "  # Install Julia\n",
        "  JULIA_VER=`cut -d '.' -f -2 <<< \"$JULIA_VERSION\"`\n",
        "  echo \"Installing Julia $JULIA_VERSION on the current Colab Runtime...\"\n",
        "  BASE_URL=\"https://julialang-s3.julialang.org/bin/linux/x64\"\n",
        "  URL=\"$BASE_URL/$JULIA_VER/julia-$JULIA_VERSION-linux-x86_64.tar.gz\"\n",
        "  wget -nv $URL -O /tmp/julia.tar.gz # -nv means \"not verbose\"\n",
        "  tar -x -f /tmp/julia.tar.gz -C /usr/local --strip-components 1\n",
        "  rm /tmp/julia.tar.gz\n",
        "\n",
        "  # Install Packages\n",
        "  if [ \"$COLAB_GPU\" = \"1\" ]; then\n",
        "      JULIA_PACKAGES=\"$JULIA_PACKAGES $JULIA_PACKAGES_IF_GPU\"\n",
        "  fi\n",
        "  for PKG in `echo $JULIA_PACKAGES`; do\n",
        "    echo \"Installing Julia package $PKG...\"\n",
        "    julia -e 'using Pkg; pkg\"add '$PKG'; precompile;\"' &> /dev/null\n",
        "  done\n",
        "\n",
        "  # Install kernel and rename it to \"julia\"\n",
        "  echo \"Installing IJulia kernel...\"\n",
        "  julia -e 'using IJulia; IJulia.installkernel(\"julia\", env=Dict(\n",
        "      \"JULIA_NUM_THREADS\"=>\"'\"$JULIA_NUM_THREADS\"'\"))'\n",
        "  KERNEL_DIR=`julia -e \"using IJulia; print(IJulia.kerneldir())\"`\n",
        "  KERNEL_NAME=`ls -d \"$KERNEL_DIR\"/julia*`\n",
        "  mv -f $KERNEL_NAME \"$KERNEL_DIR\"/julia  \n",
        "\n",
        "  echo ''\n",
        "  echo \"Successfully installed `julia -v`!\"\n",
        "  echo \"Please reload this page (press Ctrl+R, ⌘+R, or the F5 key) then\"\n",
        "  echo \"jump to the 'Checking the Installation' section.\"\n",
        "fi"
      ],
      "execution_count": null,
      "outputs": [
        {
          "output_type": "stream",
          "text": [
            "Installing Julia 1.6.0 on the current Colab Runtime...\n",
            "2021-07-09 14:24:50 URL:https://julialang-s3.julialang.org/bin/linux/x64/1.6/julia-1.6.0-linux-x86_64.tar.gz [112838927/112838927] -> \"/tmp/julia.tar.gz\" [1]\n",
            "Installing Julia package IJulia...\n",
            "Installing Julia package BenchmarkTools...\n",
            "Installing Julia package PyCall...\n",
            "Installing Julia package PyPlot...\n",
            "Installing Julia package PastaQ...\n",
            "Installing Julia package ITensors...\n",
            "Installing Julia package CUDA...\n"
          ],
          "name": "stdout"
        }
      ]
    },
    {
      "cell_type": "markdown",
      "metadata": {
        "id": "-OS3Ac017T1i"
      },
      "source": [
        "## Checking the Installation\n",
        "The `versioninfo()` function should print your Julia version and some other info about the system (if you ever ask for help or file an issue about Julia, you should always provide this information)."
      ]
    },
    {
      "cell_type": "code",
      "metadata": {
        "id": "EEzvvzCl1i0F",
        "colab": {
          "base_uri": "https://localhost:8080/"
        },
        "outputId": "0dfe61f8-e2c2-460e-c9ab-43fb748d8320"
      },
      "source": [
        "versioninfo()"
      ],
      "execution_count": 1,
      "outputs": [
        {
          "output_type": "stream",
          "text": [
            "Julia Version 1.6.0\n",
            "Commit f9720dc2eb (2021-03-24 12:55 UTC)\n",
            "Platform Info:\n",
            "  OS: Linux (x86_64-pc-linux-gnu)\n",
            "  CPU: Intel(R) Xeon(R) CPU @ 2.30GHz\n",
            "  WORD_SIZE: 64\n",
            "  LIBM: libopenlibm\n",
            "  LLVM: libLLVM-11.0.1 (ORCJIT, haswell)\n",
            "Environment:\n",
            "  JULIA_NUM_THREADS = 4\n"
          ],
          "name": "stdout"
        }
      ]
    },
    {
      "cell_type": "markdown",
      "metadata": {
        "id": "v5S3TniRlbbA"
      },
      "source": [
        "# Utils\n"
      ]
    },
    {
      "cell_type": "code",
      "metadata": {
        "id": "A1xqRhccmHaw"
      },
      "source": [
        "using PastaQ\n",
        "using ITensors\n",
        "using PyPlot\n",
        "using Statistics"
      ],
      "execution_count": 2,
      "outputs": []
    },
    {
      "cell_type": "code",
      "metadata": {
        "id": "wTBC1nLilmhY"
      },
      "source": [
        "function PastaQ.gate(::GateName\"R\"; theta::Real, phi::Real)\n",
        "    [\n",
        "        cos(theta/2)    (-im * exp(-im * phi) * sin(theta/2))\n",
        "        (-im * exp(im * phi) * sin(theta/2))     cos(theta/2)\n",
        "    ]\n",
        "end"
      ],
      "execution_count": 3,
      "outputs": []
    },
    {
      "cell_type": "code",
      "metadata": {
        "id": "KTLhWTYqnDe3"
      },
      "source": [
        "function PastaQ.gate(::GateName\"M\"; Theta::Real)\n",
        "    [\n",
        "        cos(Theta)    0    0    (-im * sin(Theta))\n",
        "        0    cos(Theta)    (-im * sin(Theta))    0\n",
        "        0    (-im * sin(Theta))    cos(Theta)    0\n",
        "        (-im * sin(Theta))    0    0    cos(Theta)\n",
        "    ]\n",
        "end"
      ],
      "execution_count": 4,
      "outputs": []
    },
    {
      "cell_type": "code",
      "metadata": {
        "id": "-NSh-3bQav66"
      },
      "source": [
        "function PastaQ.gate(::GateName\"SigmaX\"; theta::Real, phi::Real)\n",
        "    [\n",
        "        0    1\n",
        "        1     0\n",
        "    ]\n",
        "end"
      ],
      "execution_count": 5,
      "outputs": []
    },
    {
      "cell_type": "code",
      "metadata": {
        "colab": {
          "base_uri": "https://localhost:8080/"
        },
        "id": "wPjln2hsnGiA",
        "outputId": "4c33285f-938e-42c8-9d82-366a807ea345"
      },
      "source": [
        "function get_gates(N, depth)\n",
        "    # Random circuit.\n",
        "    gates = Vector{Tuple}[]\n",
        "\n",
        "    for i in 1:depth\n",
        "        one_qubit_layer = Tuple[]\n",
        "        two_qubit_layer = Tuple[]\n",
        "\n",
        "        for j in 1:N\n",
        "            gate = (\"R\", j, (theta=2pi*rand(), phi=2pi*rand()))\n",
        "            push!(one_qubit_layer, gate)\n",
        "        end\n",
        "\n",
        "        # Alternate start qubit for pairs.\n",
        "        idx_first = i % 2 + 1\n",
        "\n",
        "        for j in idx_first:2:(N-1)\n",
        "            gate = (\"M\", (j, j+1), (Theta=2pi*rand(),))\n",
        "            push!(two_qubit_layer, gate)\n",
        "        end\n",
        "\n",
        "        push!(gates, one_qubit_layer)\n",
        "        push!(gates, two_qubit_layer)\n",
        "    end\n",
        "\n",
        "    psi = runcircuit(N, gates)\n",
        "    return gates, psi\n",
        "end"
      ],
      "execution_count": 6,
      "outputs": [
        {
          "output_type": "execute_result",
          "data": {
            "text/plain": [
              "get_gates (generic function with 1 method)"
            ]
          },
          "metadata": {
            "tags": []
          },
          "execution_count": 6
        }
      ]
    },
    {
      "cell_type": "markdown",
      "metadata": {
        "id": "iW5tWZ89atTa"
      },
      "source": [
        "# Task 1"
      ]
    },
    {
      "cell_type": "markdown",
      "metadata": {
        "id": "5IqIg28nbxAG"
      },
      "source": [
        "## computing $| <x|\\psi> |^2$ with samples\n",
        "\n"
      ]
    },
    {
      "cell_type": "code",
      "metadata": {
        "colab": {
          "base_uri": "https://localhost:8080/"
        },
        "id": "aKicJPcK_muG",
        "outputId": "6379d251-b37a-4409-e582-ca153309ab02"
      },
      "source": [
        "function f_counts(psi,N,nshots)\n",
        "  data = getsamples(psi,nshots)\n",
        "  \n",
        "  qi_temp = reverse.(Iterators.product(fill(0:1,N)...))[:] #tuples\n",
        "  # convert from tuples to array\n",
        "  qi = zeros(Int8,(1,N)) \n",
        "  for q in qi_temp\n",
        "    x = [i for i in q] \n",
        "    qi = vcat(qi, transpose(x))\n",
        "  end\n",
        "  qi = qi[2:end,:]\n",
        "\n",
        "  q_counts = zeros(Int8,size(qi)[1])\n",
        "  j = 1 # index for the quantum state\n",
        "  for x in eachrow(qi)\n",
        "    for d in eachrow(data)\n",
        "      if x == d\n",
        "        @inbounds q_counts[j] += 1\n",
        "      end\n",
        "    end\n",
        "    j = j + 1\n",
        "  end \n",
        "  return q_counts\n",
        "end "
      ],
      "execution_count": 7,
      "outputs": [
        {
          "output_type": "execute_result",
          "data": {
            "text/plain": [
              "f_counts (generic function with 1 method)"
            ]
          },
          "metadata": {
            "tags": []
          },
          "execution_count": 7
        }
      ]
    },
    {
      "cell_type": "code",
      "metadata": {
        "colab": {
          "base_uri": "https://localhost:8080/"
        },
        "id": "g_tZxvedCEX8",
        "outputId": "271036b1-a099-4e48-b8f7-f8c62440e674"
      },
      "source": [
        "function f_q_prob(N,psi,nshots_total)\n",
        "  n0 = nshots_total/500\n",
        "  q_counts_total = f_counts(psi,N,500)\n",
        "  for i in 2:n0\n",
        "    q_counts = f_counts(psi,N,500)\n",
        "    q_counts_total = hcat(q_counts_total, q_counts)\n",
        "  end\n",
        "  q_counts = sum(q_counts_total,dims=2)\n",
        "  # println(\"counts => \", q_counts)\n",
        "  prob_q = q_counts/nshots_total\n",
        "  # println(\"prob => \", prob_q)\n",
        "  return prob_q\n",
        "end"
      ],
      "execution_count": 8,
      "outputs": [
        {
          "output_type": "execute_result",
          "data": {
            "text/plain": [
              "f_q_prob (generic function with 1 method)"
            ]
          },
          "metadata": {
            "tags": []
          },
          "execution_count": 8
        }
      ]
    },
    {
      "cell_type": "markdown",
      "metadata": {
        "id": "4wmJoogLafc9"
      },
      "source": [
        "## computing $| <x|\\psi> |^2$ with tensors\n"
      ]
    },
    {
      "cell_type": "code",
      "metadata": {
        "id": "If6DASf-_qIH",
        "colab": {
          "base_uri": "https://localhost:8080/"
        },
        "outputId": "5c0d26c5-5d18-4100-fc22-91e2054e8c67"
      },
      "source": [
        "function f_psi_sqr(N,psi)\n",
        "  sites = siteinds(\"S=1/2\",N)\n",
        "  states = [isodd(n) ? \"Up\" : \"Dn\" for n=1:N]\n",
        "  A = zeros(1, 2^N)\n",
        "  for x in 0:2^N-1\n",
        "  y = digits(x, base=2, pad=N)\n",
        "      sites = siteinds(\"S=1/2\",N)\n",
        "      for n in 1:N\n",
        "      if y[n] == 0\n",
        "      states[n] = \"Dn\"\n",
        "      else\n",
        "      states[n] = \"Up\"\n",
        "      end\n",
        "  end\n",
        "      xpsi = productMPS(sites,states)\n",
        "      a = inner(xpsi, psi)\n",
        "      b = a * a'\n",
        "      A[1,x+1] = b\n",
        "  end\n",
        "  psi_sqr = A\n",
        "  return psi_sqr\n",
        "end"
      ],
      "execution_count": 9,
      "outputs": [
        {
          "output_type": "execute_result",
          "data": {
            "text/plain": [
              "f_psi_sqr (generic function with 1 method)"
            ]
          },
          "metadata": {
            "tags": []
          },
          "execution_count": 9
        }
      ]
    },
    {
      "cell_type": "markdown",
      "metadata": {
        "id": "iimmTYVphQHJ"
      },
      "source": [
        "## Speckle  pattern plot"
      ]
    },
    {
      "cell_type": "code",
      "metadata": {
        "colab": {
          "base_uri": "https://localhost:8080/"
        },
        "id": "xRqSQYXmL8Wg",
        "outputId": "aea03c91-8717-4566-e529-84e338d6c818"
      },
      "source": [
        "function GetResults(N,depth,nshots)\n",
        "  \n",
        "  gates, psi = get_gates(N,depth)\n",
        "  prob_q = f_q_prob(N,psi,nshots)\n",
        "  psi_sqr = f_psi_sqr(N,psi)\n",
        "\n",
        "  return prob_q, psi_sqr\n",
        "end"
      ],
      "execution_count": 10,
      "outputs": [
        {
          "output_type": "execute_result",
          "data": {
            "text/plain": [
              "GetResults (generic function with 1 method)"
            ]
          },
          "metadata": {
            "tags": []
          },
          "execution_count": 10
        }
      ]
    },
    {
      "cell_type": "code",
      "metadata": {
        "colab": {
          "base_uri": "https://localhost:8080/",
          "height": 448
        },
        "id": "yNbnEcu_Lib7",
        "outputId": "7f5d6207-4d92-4eba-c145-1894f94641b9"
      },
      "source": [
        "# Illustrate the dataset.\n",
        "N = 4  #@param {type:\"slider\", min:1, max:5, step:1}\n",
        "depth = 5   #@param {type:\"slider\", min:1, max:30, step:1}\n",
        "nshots = 1000\n",
        "prob_q, psi_sqr = GetResults(N, depth,nshots)\n",
        "size(prob_q)\n",
        "\n",
        "n = size(prob_q) # 2^n possible qubits\n",
        "q_index = 1:1:n[1]#index of QBITS\n",
        "i_temp = zeros(1, size(q_index)[1])\n",
        "\n",
        "str_title = \"N = $N, Depth = $depth\"\n",
        "plt.title(str_title)\n",
        "plt.scatter(q_index,0.0025.+i_temp,s=1000*prob_q,label =\"N shots = $nshots\")\n",
        "plt.scatter(q_index,i_temp,s=1000*psi_sqr,color=\"tab:orange\",label =\"Exact\")\n",
        "plt.xticks([])\n",
        "plt.yticks([])\n",
        "plt.xlabel(\"Q BITS\")\n",
        "plt.ylim(-0.001,0.01)\n",
        "plt.legend()\n",
        "plt.show()"
      ],
      "execution_count": 14,
      "outputs": [
        {
          "output_type": "display_data",
          "data": {
            "image/png": "[encoded data removed]",
            "text/plain": [
              "Figure(PyObject <Figure size 640x480 with 1 Axes>)"
            ]
          },
          "metadata": {
            "tags": []
          }
        }
      ]
    },
    {
      "cell_type": "markdown",
      "metadata": {
        "id": "N_upbtLXcrT8"
      },
      "source": [
        "# Task2"
      ]
    },
    {
      "cell_type": "code",
      "metadata": {
        "id": "PUEsHRWMctqi",
        "colab": {
          "base_uri": "https://localhost:8080/"
        },
        "outputId": "de02db4b-9c9a-435a-b897-67b4d37e3edb"
      },
      "source": [
        "function get_rnd_gates(N, depth)\n",
        "  gates,psi = get_gates(N, depth)\n",
        "  gates_clean = copy(gates)\n",
        "\n",
        "  i = rand(1:N,1)[1]# random qubit\n",
        "  j = rand(1:depth,1)[1] # random location in the gates\n",
        "  rand_gate = Tuple[]\n",
        "  gate = (\"SigmaX\", i, (theta=2pi*rand(), phi=2pi*rand()))\n",
        "  push!(rand_gate,gate)\n",
        "  insert!(gates,j,rand_gate)\n",
        "\n",
        "  return gates_clean, gates\n",
        "end"
      ],
      "execution_count": null,
      "outputs": [
        {
          "output_type": "execute_result",
          "data": {
            "text/plain": [
              "get_rnd_gates (generic function with 1 method)"
            ]
          },
          "metadata": {
            "tags": []
          },
          "execution_count": 157
        }
      ]
    },
    {
      "cell_type": "code",
      "metadata": {
        "colab": {
          "base_uri": "https://localhost:8080/"
        },
        "id": "XA5_cA8X7r26",
        "outputId": "59a0df9b-08d0-443a-b289-5e346be905dc"
      },
      "source": [
        "function GetRndResults(N,depth)\n",
        "  gates_cln, gates_rnd = get_rnd_gates(N,depth)\n",
        "\n",
        "  psi_cln = runcircuit(N, gates_cln)\n",
        "  psi_rnd = runcircuit(N, gates_rnd)\n",
        "\n",
        "  psi_cln_sqr = f_psi_sqr(N,psi_cln)\n",
        "  psi_rnd_sqr = f_psi_sqr(N,psi_rnd)\n",
        "\n",
        "  return psi_cln_sqr, psi_rnd_sqr\n",
        "\n",
        "end\n"
      ],
      "execution_count": null,
      "outputs": [
        {
          "output_type": "execute_result",
          "data": {
            "text/plain": [
              "GetRndResults (generic function with 1 method)"
            ]
          },
          "metadata": {
            "tags": []
          },
          "execution_count": 158
        }
      ]
    },
    {
      "cell_type": "code",
      "metadata": {
        "colab": {
          "base_uri": "https://localhost:8080/",
          "height": 472
        },
        "id": "uTfX91Z7BXd3",
        "outputId": "cb9d2301-77da-4fb5-b89a-9a66bd877651"
      },
      "source": [
        "# depth_ = round.(Int,range(1, 100,length = 10))\n",
        "depth_ = 5 .*(1:1:10)\n",
        "\n",
        "abs_diff = []\n",
        "\n",
        "for d in depth_\n",
        "  psi_cln_sqr, psi_rnd_sqr = GetRndResults(N, d)\n",
        "  temp = sum(abs.(psi_cln_sqr-psi_rnd_sqr))/size(psi_cln_sqr)[2]\n",
        "  append!(abs_diff,temp)\n",
        "end\n",
        "\n",
        "str_title = \"N = $N\"\n",
        "plt.title(str_title)\n",
        "plt.scatter(depth_,abs_diff)\n",
        "plt.xlabel(\"Depth\")\n",
        "plt.ylabel(\"Mean Abosulute Difference\")\n",
        "#plt.legend()\n",
        "plt.show()\n",
        "\n"
      ],
      "execution_count": null,
      "outputs": [
        {
          "output_type": "display_data",
          "data": {
            "image/png": "[encoded data removed]",
            "text/plain": [
              "Figure(PyObject <Figure size 640x480 with 1 Axes>)"
            ]
          },
          "metadata": {
            "tags": []
          }
        }
      ]
    },
    {
      "cell_type": "code",
      "metadata": {
        "colab": {
          "base_uri": "https://localhost:8080/",
          "height": 448
        },
        "id": "cQOngGdR-6Ta",
        "outputId": "74907c89-4463-4c1f-c68a-f7ff1be433fb"
      },
      "source": [
        "# Illustrate the dataset.\n",
        "N = 4  #@param {type:\"slider\", min:1, max:5, step:1}\n",
        "depth = 38   #@param {type:\"slider\", min:1, max:50, step:1}\n",
        "nshots = 10000\n",
        "psi_cln_sqr, psi_rnd_sqr = GetRndResults(N, depth)\n",
        "\n",
        "n = size(psi_cln_sqr)[2] # 2^n possible qubits\n",
        "q_index = 1:1:n[1]#index of QBITS\n",
        "i_temp = zeros(1, size(q_index)[1])\n",
        "\n",
        "str_title = \"N = $N, Depth = $depth\"\n",
        "plt.title(str_title)\n",
        "plt.scatter(q_index,0.0025.+i_temp,s=1000*psi_cln_sqr,label =\"clean\")\n",
        "plt.scatter(q_index,i_temp,s=1000*psi_rnd_sqr,color=\"tab:orange\",label =\"random\")\n",
        "plt.xticks([])\n",
        "plt.yticks([])\n",
        "plt.xlabel(\"Q BITS\")\n",
        "plt.ylim(-0.001,0.01)\n",
        "plt.legend()\n",
        "plt.show()"
      ],
      "execution_count": null,
      "outputs": [
        {
          "output_type": "display_data",
          "data": {
            "image/png": "[encoded data removed]",
            "text/plain": [
              "Figure(PyObject <Figure size 640x480 with 1 Axes>)"
            ]
          },
          "metadata": {
            "tags": []
          }
        }
      ]
    }
  ]
}