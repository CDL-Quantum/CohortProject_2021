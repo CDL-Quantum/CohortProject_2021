{
  "nbformat": 4,
  "nbformat_minor": 0,
  "metadata": {
    "accelerator": "GPU",
    "colab": {
      "name": "QCDL_week1.ipynb",
      "provenance": [],
      "collapsed_sections": [
        "iW5tWZ89atTa",
        "KUpKB2md7RAu"
      ],
      "toc_visible": true,
      "include_colab_link": true
    },
    "kernelspec": {
      "display_name": "Julia",
      "language": "julia",
      "name": "julia"
    },
    "language_info": {
      "file_extension": ".jl",
      "mimetype": "application/julia",
      "name": "julia"
    }
  },
  "cells": [
    {
      "cell_type": "markdown",
      "metadata": {
        "id": "view-in-github",
        "colab_type": "text"
      },
      "source": [
        "<a href=\"https://colab.research.google.com/github/RodrigoAVargasHdz/CohortProject_2021/blob/main/Week1_Trapped_Ions/QCDL_week1.ipynb\" target=\"_parent\"><img src=\"https://colab.research.google.com/assets/colab-badge.svg\" alt=\"Open In Colab\"/></a>"
      ]
    },
    {
      "cell_type": "markdown",
      "metadata": {
        "id": "WvMmqQTelfyA"
      },
      "source": [
        "# Installation of Julia in google colab"
      ]
    },
    {
      "cell_type": "markdown",
      "metadata": {
        "id": "6ew60wXrZM0W"
      },
      "source": [
        "## Running on Google Colab\n",
        "1. Work on a copy of this notebook: _File_ > _Save a copy in Drive_ (you will need a Google account). Alternatively, you can download the notebook using _File_ > _Download .ipynb_, then upload it to [Colab](https://colab.research.google.com/).\n",
        "2. Execute the following cell (click on it and press Ctrl+Enter) to install Julia, IJulia (the Jupyter kernel for Julia) and other packages. You can update `JULIA_VERSION` and the other parameters, if you know what you're doing. Installation takes 2-3 minutes.\n",
        "3. Reload this page (press Ctrl+R, or ⌘+R, or the F5 key) and continue to the _Checking the Installation_ section.\n",
        "\n",
        "* _Note_: If your Colab Runtime gets reset (e.g., due to inactivity), repeat steps 2 and 3."
      ]
    },
    {
      "cell_type": "code",
      "metadata": {
        "colab": {
          "base_uri": "https://localhost:8080/",
          "height": 89
        },
        "id": "GIeFXS0F0zww",
        "outputId": "025d7130-919f-4341-e1e9-5d383f5e9490"
      },
      "source": [
        "%%shell\n",
        "set -e\n",
        "\n",
        "#---------------------------------------------------#\n",
        "JULIA_VERSION=\"1.6.0\" # any version ≥ 0.7.0\n",
        "JULIA_PACKAGES=\"IJulia BenchmarkTools PyCall PyPlot PastaQ ITensors\"\n",
        "JULIA_PACKAGES_IF_GPU=\"CUDA\"\n",
        "JULIA_NUM_THREADS=4\n",
        "#---------------------------------------------------#\n",
        "\n",
        "if [ -n \"$COLAB_GPU\" ] && [ -z `which julia` ]; then\n",
        "  # Install Julia\n",
        "  JULIA_VER=`cut -d '.' -f -2 <<< \"$JULIA_VERSION\"`\n",
        "  echo \"Installing Julia $JULIA_VERSION on the current Colab Runtime...\"\n",
        "  BASE_URL=\"https://julialang-s3.julialang.org/bin/linux/x64\"\n",
        "  URL=\"$BASE_URL/$JULIA_VER/julia-$JULIA_VERSION-linux-x86_64.tar.gz\"\n",
        "  wget -nv $URL -O /tmp/julia.tar.gz # -nv means \"not verbose\"\n",
        "  tar -x -f /tmp/julia.tar.gz -C /usr/local --strip-components 1\n",
        "  rm /tmp/julia.tar.gz\n",
        "\n",
        "  # Install Packages\n",
        "  if [ \"$COLAB_GPU\" = \"1\" ]; then\n",
        "      JULIA_PACKAGES=\"$JULIA_PACKAGES $JULIA_PACKAGES_IF_GPU\"\n",
        "  fi\n",
        "  for PKG in `echo $JULIA_PACKAGES`; do\n",
        "    echo \"Installing Julia package $PKG...\"\n",
        "    julia -e 'using Pkg; pkg\"add '$PKG'; precompile;\"' &> /dev/null\n",
        "  done\n",
        "\n",
        "  # Install kernel and rename it to \"julia\"\n",
        "  echo \"Installing IJulia kernel...\"\n",
        "  julia -e 'using IJulia; IJulia.installkernel(\"julia\", env=Dict(\n",
        "      \"JULIA_NUM_THREADS\"=>\"'\"$JULIA_NUM_THREADS\"'\"))'\n",
        "  KERNEL_DIR=`julia -e \"using IJulia; print(IJulia.kerneldir())\"`\n",
        "  KERNEL_NAME=`ls -d \"$KERNEL_DIR\"/julia*`\n",
        "  mv -f $KERNEL_NAME \"$KERNEL_DIR\"/julia  \n",
        "\n",
        "  echo ''\n",
        "  echo \"Successfully installed `julia -v`!\"\n",
        "  echo \"Please reload this page (press Ctrl+R, ⌘+R, or the F5 key) then\"\n",
        "  echo \"jump to the 'Checking the Installation' section.\"\n",
        "fi"
      ],
      "execution_count": 1,
      "outputs": [
        {
          "output_type": "display_data",
          "data": {
            "text/latex": "Unrecognized magic \\texttt{\\%\\%shell}.\n\nJulia does not use the IPython \\texttt{\\%magic} syntax.   To interact with the IJulia kernel, use \\texttt{IJulia.somefunction(...)}, for example.  Julia macros, string macros, and functions can be used to accomplish most of the other functionalities of IPython magics.\n\n",
            "text/markdown": "Unrecognized magic `%%shell`.\n\nJulia does not use the IPython `%magic` syntax.   To interact with the IJulia kernel, use `IJulia.somefunction(...)`, for example.  Julia macros, string macros, and functions can be used to accomplish most of the other functionalities of IPython magics.\n",
            "text/plain": [
              "  Unrecognized magic \u001b[36m%%shell\u001b[39m.\n",
              "\n",
              "  Julia does not use the IPython \u001b[36m%magic\u001b[39m syntax. To interact with the IJulia\n",
              "  kernel, use \u001b[36mIJulia.somefunction(...)\u001b[39m, for example. Julia macros, string\n",
              "  macros, and functions can be used to accomplish most of the other\n",
              "  functionalities of IPython magics."
            ]
          },
          "metadata": {
            "tags": []
          }
        }
      ]
    },
    {
      "cell_type": "markdown",
      "metadata": {
        "id": "-OS3Ac017T1i"
      },
      "source": [
        "## Checking the Installation\n",
        "The `versioninfo()` function should print your Julia version and some other info about the system (if you ever ask for help or file an issue about Julia, you should always provide this information)."
      ]
    },
    {
      "cell_type": "code",
      "metadata": {
        "id": "EEzvvzCl1i0F",
        "colab": {
          "base_uri": "https://localhost:8080/"
        },
        "outputId": "7c8fba72-e09a-4fd1-8244-44d02ee8c76f"
      },
      "source": [
        "versioninfo()"
      ],
      "execution_count": 2,
      "outputs": [
        {
          "output_type": "stream",
          "text": [
            "Julia Version 1.6.0\n",
            "Commit f9720dc2eb (2021-03-24 12:55 UTC)\n",
            "Platform Info:\n",
            "  OS: Linux (x86_64-pc-linux-gnu)\n",
            "  CPU: Intel(R) Xeon(R) CPU @ 2.00GHz\n",
            "  WORD_SIZE: 64\n",
            "  LIBM: libopenlibm\n",
            "  LLVM: libLLVM-11.0.1 (ORCJIT, skylake-avx512)\n",
            "Environment:\n",
            "  JULIA_NUM_THREADS = 4\n"
          ],
          "name": "stdout"
        }
      ]
    },
    {
      "cell_type": "markdown",
      "metadata": {
        "id": "v5S3TniRlbbA"
      },
      "source": [
        "# Utils\n"
      ]
    },
    {
      "cell_type": "code",
      "metadata": {
        "id": "A1xqRhccmHaw"
      },
      "source": [
        "using PastaQ\n",
        "using ITensors\n",
        "using PyPlot\n",
        "using Statistics"
      ],
      "execution_count": null,
      "outputs": []
    },
    {
      "cell_type": "markdown",
      "metadata": {
        "id": "hYbDFCPyKDj2"
      },
      "source": [
        "## 1-qbit gate"
      ]
    },
    {
      "cell_type": "code",
      "metadata": {
        "id": "wTBC1nLilmhY"
      },
      "source": [
        "function PastaQ.gate(::GateName\"R\"; theta::Real, phi::Real)\n",
        "    [\n",
        "        cos(theta/2)    (-im * exp(-im * phi) * sin(theta/2))\n",
        "        (-im * exp(im * phi) * sin(theta/2))     cos(theta/2)\n",
        "    ]\n",
        "end"
      ],
      "execution_count": 4,
      "outputs": []
    },
    {
      "cell_type": "markdown",
      "metadata": {
        "id": "qXsE3-d-KAzH"
      },
      "source": [
        "## 2-qbit gate"
      ]
    },
    {
      "cell_type": "code",
      "metadata": {
        "id": "KTLhWTYqnDe3"
      },
      "source": [
        "function PastaQ.gate(::GateName\"M\"; Theta::Real)\n",
        "    [\n",
        "        cos(Theta)    0    0    (-im * sin(Theta))\n",
        "        0    cos(Theta)    (-im * sin(Theta))    0\n",
        "        0    (-im * sin(Theta))    cos(Theta)    0\n",
        "        (-im * sin(Theta))    0    0    cos(Theta)\n",
        "    ]\n",
        "end"
      ],
      "execution_count": 5,
      "outputs": []
    },
    {
      "cell_type": "markdown",
      "metadata": {
        "id": "PwmsnwA9KGFC"
      },
      "source": [
        "## 1-qbit flip-gate \n",
        "(for task 2)"
      ]
    },
    {
      "cell_type": "code",
      "metadata": {
        "id": "-NSh-3bQav66"
      },
      "source": [
        "function PastaQ.gate(::GateName\"SigmaX\"; theta::Real, phi::Real)\n",
        "    [\n",
        "        0    1\n",
        "        1     0\n",
        "    ]\n",
        "end"
      ],
      "execution_count": 6,
      "outputs": []
    },
    {
      "cell_type": "markdown",
      "metadata": {
        "id": "LuFXn2stMUnu"
      },
      "source": [
        "## `# get_gates` creates the sequence of gates (gates) and the MPS that simulates the quantum computation (psi)."
      ]
    },
    {
      "cell_type": "code",
      "metadata": {
        "colab": {
          "base_uri": "https://localhost:8080/"
        },
        "id": "wPjln2hsnGiA",
        "outputId": "9c1bf0d7-b6fd-42c7-efb1-a5cd14048889"
      },
      "source": [
        "function get_gates(N, depth)\n",
        "    # Random circuit.\n",
        "    gates = Vector{Tuple}[]\n",
        "\n",
        "    for i in 1:depth\n",
        "        one_qubit_layer = Tuple[]\n",
        "        two_qubit_layer = Tuple[]\n",
        "\n",
        "        for j in 1:N\n",
        "            gate = (\"R\", j, (theta=2pi*rand(), phi=2pi*rand()))\n",
        "            push!(one_qubit_layer, gate)\n",
        "        end\n",
        "\n",
        "        # Alternate start qubit for pairs.\n",
        "        idx_first = i % 2 + 1\n",
        "\n",
        "        for j in idx_first:2:(N-1)\n",
        "            gate = (\"M\", (j, j+1), (Theta=2pi*rand(),))\n",
        "            push!(two_qubit_layer, gate)\n",
        "        end\n",
        "\n",
        "        push!(gates, one_qubit_layer)\n",
        "        push!(gates, two_qubit_layer)\n",
        "    end\n",
        "\n",
        "    psi = runcircuit(N, gates)\n",
        "    return gates, psi\n",
        "end"
      ],
      "execution_count": 7,
      "outputs": [
        {
          "output_type": "execute_result",
          "data": {
            "text/plain": [
              "get_gates (generic function with 1 method)"
            ]
          },
          "metadata": {
            "tags": []
          },
          "execution_count": 7
        }
      ]
    },
    {
      "cell_type": "markdown",
      "metadata": {
        "id": "iW5tWZ89atTa"
      },
      "source": [
        "# Task 1"
      ]
    },
    {
      "cell_type": "markdown",
      "metadata": {
        "id": "5IqIg28nbxAG"
      },
      "source": [
        "## computing $| <x|\\psi> |^2$ with samples\n",
        "\n",
        "``` # f_counts ``` counts the nubmer of samples for all $x$ states. The main function is abased on  ``` # getsamples ``` from PastaQ.\n"
      ]
    },
    {
      "cell_type": "code",
      "metadata": {
        "colab": {
          "base_uri": "https://localhost:8080/"
        },
        "id": "aKicJPcK_muG",
        "outputId": "adfd7f77-cb48-4814-dfd8-4c689063e0df"
      },
      "source": [
        "function f_counts_old(psi,N,nshots)\n",
        "  data = getsamples(psi,nshots)\n",
        "  \n",
        "  qi_temp = reverse.(Iterators.product(fill(0:1,N)...))[:] #tuples\n",
        "  # convert from tuples to array\n",
        "  qi = zeros(Int8,(1,N)) \n",
        "  for q in qi_temp\n",
        "    x = [i for i in q] \n",
        "    qi = vcat(qi, transpose(x))\n",
        "  end\n",
        "  qi = qi[2:end,:]\n",
        "\n",
        "  q_counts = zeros(Int8,size(qi)[1])\n",
        "  j = 1 # index for the quantum state\n",
        "  for x in eachrow(qi)\n",
        "    for d in eachrow(data)\n",
        "      if x == d\n",
        "        @inbounds q_counts[j] += 1\n",
        "      end\n",
        "    end\n",
        "    j = j + 1\n",
        "  end \n",
        "  return q_counts\n",
        "end "
      ],
      "execution_count": 8,
      "outputs": [
        {
          "output_type": "execute_result",
          "data": {
            "text/plain": [
              "f_counts_old (generic function with 1 method)"
            ]
          },
          "metadata": {
            "tags": []
          },
          "execution_count": 8
        }
      ]
    },
    {
      "cell_type": "code",
      "metadata": {
        "colab": {
          "base_uri": "https://localhost:8080/"
        },
        "id": "mcyq4OQoYc2u",
        "outputId": "48176022-59bb-4172-86c8-6a28d45c80ad"
      },
      "source": [
        "function f_counts(psi,N,nshots)\n",
        "  data = getsamples(psi,nshots)\n",
        "  qi = zeros(Int,(1,N))\n",
        "  for x in 0:2^N-1\n",
        "    y = digits(x, base=2, pad=N)\n",
        "    qi = vcat(qi,transpose(y))\n",
        "  end\n",
        "  qi = qi[2:end,:]\n",
        "\n",
        "  q_counts = zeros(Int8,size(qi)[1])\n",
        "  j = 1 # index for the quantum state\n",
        "  for x in eachrow(qi)\n",
        "    for d in eachrow(data)\n",
        "      if x == d\n",
        "        @inbounds q_counts[j] += 1\n",
        "      end\n",
        "    end\n",
        "    j = j + 1\n",
        "  end \n",
        "  return q_counts\n",
        "end \n"
      ],
      "execution_count": 9,
      "outputs": [
        {
          "output_type": "execute_result",
          "data": {
            "text/plain": [
              "f_counts (generic function with 1 method)"
            ]
          },
          "metadata": {
            "tags": []
          },
          "execution_count": 9
        }
      ]
    },
    {
      "cell_type": "markdown",
      "metadata": {
        "id": "sk1mLk42Kkej"
      },
      "source": [
        "``` # f_q_prob ``` computes the probability from the samples generated."
      ]
    },
    {
      "cell_type": "code",
      "metadata": {
        "colab": {
          "base_uri": "https://localhost:8080/"
        },
        "id": "g_tZxvedCEX8",
        "outputId": "eff66c9f-6dc8-41c1-c62f-21f53af67f00"
      },
      "source": [
        "function f_q_prob(N,psi,nshots_total)\n",
        "  n0 = nshots_total/100\n",
        "  q_counts_total = f_counts(psi,N,100)\n",
        "\n",
        "  for i in 2:n0\n",
        "    q_counts = f_counts(psi,N,100)\n",
        "    q_counts_total = hcat(q_counts_total, q_counts)\n",
        "  end\n",
        "  q_counts = sum(q_counts_total,dims=2)\n",
        "  # println(\"counts => \", q_counts)\n",
        "  prob_q = q_counts/nshots_total\n",
        "  # println(\"prob => \", prob_q)\n",
        "  return prob_q\n",
        "end"
      ],
      "execution_count": 10,
      "outputs": [
        {
          "output_type": "execute_result",
          "data": {
            "text/plain": [
              "f_q_prob (generic function with 1 method)"
            ]
          },
          "metadata": {
            "tags": []
          },
          "execution_count": 10
        }
      ]
    },
    {
      "cell_type": "markdown",
      "metadata": {
        "id": "4wmJoogLafc9"
      },
      "source": [
        "## computing $| <x|\\psi> |^2$ with tensors\n",
        "\n",
        "\n",
        "\n",
        "``` # f_psi_sqr ``` computes the square $c_i$ for each $x$ for the probability of each $x$. \n",
        "\n"
      ]
    },
    {
      "cell_type": "code",
      "metadata": {
        "id": "If6DASf-_qIH",
        "colab": {
          "base_uri": "https://localhost:8080/"
        },
        "outputId": "ebd3f9d4-1905-4241-dc22-0cd012ef210e"
      },
      "source": [
        "function f_psi_sqr(N,psi)\n",
        "  sites = siteinds(\"S=1/2\",N)\n",
        "  states = [isodd(n) ? \"Up\" : \"Dn\" for n=1:N]\n",
        "  A = zeros(2^N,1)\n",
        "  i = 1\n",
        "  for x in 0:2^N-1\n",
        "    y = digits(x, base=2, pad=N)\n",
        "    sites = siteinds(\"S=1/2\",N)\n",
        "    for n in 1:N\n",
        "      if y[n] == 0\n",
        "        states[n] = \"Dn\"\n",
        "      else\n",
        "        states[n] = \"Up\"\n",
        "      end\n",
        "    end\n",
        "      xpsi = productMPS(sites,states)\n",
        "      a = inner(xpsi, psi)\n",
        "      b = a * a'\n",
        "      A[i,1] = b\n",
        "      i = i + 1\n",
        "  end\n",
        "  psi_sqr = A[Iterators.reverse(1:size(A)[1]),:]\n",
        "  return psi_sqr\n",
        "end"
      ],
      "execution_count": 11,
      "outputs": [
        {
          "output_type": "execute_result",
          "data": {
            "text/plain": [
              "f_psi_sqr (generic function with 1 method)"
            ]
          },
          "metadata": {
            "tags": []
          },
          "execution_count": 11
        }
      ]
    },
    {
      "cell_type": "markdown",
      "metadata": {
        "id": "iimmTYVphQHJ"
      },
      "source": [
        "## Speckle  pattern plot\n",
        "\n",
        "The probabilty to get each $x$ from a random circuit using a sampling technique (`# f_q_prob`) and excat simulation through an MPS technique (`# f_psi_sqr`).\n",
        "\n",
        "We study the change as a function of number of qbits (N) and the depth of the quantum circuit (depth)."
      ]
    },
    {
      "cell_type": "markdown",
      "metadata": {
        "id": "BO03hTD0N2r3"
      },
      "source": [
        "```\n",
        "# GetResults\n",
        "```\n",
        "utility function to get the data for a single Q-circuit for N qbits and with given depth. Variable nshots is needed for computing the probability through samples (`# getsamples`).\n",
        "\n"
      ]
    },
    {
      "cell_type": "code",
      "metadata": {
        "colab": {
          "base_uri": "https://localhost:8080/"
        },
        "id": "xRqSQYXmL8Wg",
        "outputId": "60cb3a0d-5e57-47dd-91eb-bc07f0e3d5ed"
      },
      "source": [
        "function GetResults(N,depth,nshots)\n",
        "  \n",
        "  gates, psi = get_gates(N,depth)\n",
        "  prob_q = f_q_prob(N,psi,nshots)\n",
        "  psi_sqr = f_psi_sqr(N,psi)\n",
        "\n",
        "  return prob_q, psi_sqr\n",
        "end"
      ],
      "execution_count": 12,
      "outputs": [
        {
          "output_type": "execute_result",
          "data": {
            "text/plain": [
              "GetResults (generic function with 1 method)"
            ]
          },
          "metadata": {
            "tags": []
          },
          "execution_count": 12
        }
      ]
    },
    {
      "cell_type": "code",
      "metadata": {
        "colab": {
          "base_uri": "https://localhost:8080/",
          "height": 452
        },
        "id": "yNbnEcu_Lib7",
        "outputId": "1a5eed2b-6b37-488a-9e81-d4d16f4e7925"
      },
      "source": [
        "# Illustrate the dataset.\n",
        "N = 6  #@param {type:\"slider\", min:2, max:8, step:1}\n",
        "depth = 8   #@param {type:\"slider\", min:1, max:30, step:1}\n",
        "nshots = 2000\n",
        "prob_q, psi_sqr = GetResults(N, depth,nshots)\n",
        "\n",
        "n = size(prob_q) # 2^n possible qubits\n",
        "q_index = 1:1:n[1]#index of QBITS\n",
        "i_temp = zeros(1, size(q_index)[1])\n",
        "\n",
        "str_title = \"N = $N, Depth = $depth\"\n",
        "plt.title(str_title)\n",
        "plt.scatter(q_index,0.0025.+i_temp,s=1000*prob_q,label =\"N shots = $nshots\")\n",
        "plt.scatter(q_index,i_temp,s=1000*psi_sqr,color=\"tab:orange\",label =\"Exact\")\n",
        "plt.xticks([])\n",
        "plt.yticks([])\n",
        "plt.xlabel(r\"$x$\")\n",
        "plt.ylim(-0.001,0.01)\n",
        "plt.legend()\n",
        "plt.show()"
      ],
      "execution_count": 13,
      "outputs": [
        {
          "output_type": "display_data",
          "data": {
            "image/png": "[encoded data removed]",
            "text/plain": [
              "Figure(PyObject <Figure size 640x480 with 1 Axes>)"
            ]
          },
          "metadata": {
            "tags": []
          }
        }
      ]
    },
    {
      "cell_type": "markdown",
      "metadata": {
        "id": "N_upbtLXcrT8"
      },
      "source": [
        "# Task2\n",
        "\n",
        "Study the effect a single random flip has in the final quantum state for a random quantum circuit. \n",
        "Here we model a random flip using a 1-qbit gate ($\\sigma_{x}$). "
      ]
    },
    {
      "cell_type": "markdown",
      "metadata": {
        "id": "MXG_3ycAQShO"
      },
      "source": [
        "`# get_rnd_gates` generates a single random circuit with a random flip gate. It returns both, the \"clean\" random circuit (no $\\sigma_{x}$), and the random circuit with a random flip ($\\sigma_{x}$)."
      ]
    },
    {
      "cell_type": "code",
      "metadata": {
        "id": "PUEsHRWMctqi",
        "colab": {
          "base_uri": "https://localhost:8080/"
        },
        "outputId": "a0c99409-6841-49e2-e5ef-16c0f7412457"
      },
      "source": [
        "function get_rnd_gates(N, depth)\n",
        "  gates,psi = get_gates(N, depth)\n",
        "  gates_clean = copy(gates)\n",
        "\n",
        "  i = rand(1:N,1)[1]# random qubit\n",
        "  j = rand(1:depth,1)[1] # random location in the gates\n",
        "  rand_gate = Tuple[]\n",
        "  gate = (\"SigmaX\", i, (theta=2pi*rand(), phi=2pi*rand()))\n",
        "  push!(rand_gate,gate)\n",
        "  insert!(gates,j,rand_gate)\n",
        "\n",
        "  return gates_clean, gates\n",
        "end"
      ],
      "execution_count": 14,
      "outputs": [
        {
          "output_type": "execute_result",
          "data": {
            "text/plain": [
              "get_rnd_gates (generic function with 1 method)"
            ]
          },
          "metadata": {
            "tags": []
          },
          "execution_count": 14
        }
      ]
    },
    {
      "cell_type": "code",
      "metadata": {
        "colab": {
          "base_uri": "https://localhost:8080/"
        },
        "id": "XA5_cA8X7r26",
        "outputId": "1439841e-69eb-4680-d851-fc53dc943a58"
      },
      "source": [
        "function GetRndResults(N,depth)\n",
        "  gates_cln, gates_rnd = get_rnd_gates(N,depth)\n",
        "\n",
        "  psi_cln = runcircuit(N, gates_cln)\n",
        "  psi_rnd = runcircuit(N, gates_rnd)\n",
        "\n",
        "  psi_cln_sqr = f_psi_sqr(N,psi_cln)\n",
        "  psi_rnd_sqr = f_psi_sqr(N,psi_rnd)\n",
        "\n",
        "  return psi_cln_sqr, psi_rnd_sqr\n",
        "\n",
        "end\n"
      ],
      "execution_count": 15,
      "outputs": [
        {
          "output_type": "execute_result",
          "data": {
            "text/plain": [
              "GetRndResults (generic function with 1 method)"
            ]
          },
          "metadata": {
            "tags": []
          },
          "execution_count": 15
        }
      ]
    },
    {
      "cell_type": "markdown",
      "metadata": {
        "id": "M6tjV8hIRO3l"
      },
      "source": [
        "The following figure demonstrate the sum of the abosolute probability difference between the \"clean\" random circuit with a single random flip. \n",
        "\\begin{eqnarray}\n",
        "error = \\sum_{i}^{2^{N}} \\left | p_{i}(x_i) - \\hat{p}_{i}(x_i) \\right |\n",
        "\\end{eqnarray}\n",
        "here, $p_{i}(x_i)$ is the probability of $x_i$ and $\\hat{p}_{i}(x_i)$ is the probability of $x_i$ with a random flip. \n",
        "\n"
      ]
    },
    {
      "cell_type": "code",
      "metadata": {
        "colab": {
          "base_uri": "https://localhost:8080/",
          "height": 472
        },
        "id": "uTfX91Z7BXd3",
        "outputId": "8f915280-1dd9-4768-c7f2-3d0c56d98e24"
      },
      "source": [
        "# depth_ = round.(Int,range(1, 100,length = 10))\n",
        "depth_ = 5 .*(1:1:10)\n",
        "\n",
        "abs_diff = []\n",
        "\n",
        "for d in depth_\n",
        "  psi_cln_sqr, psi_rnd_sqr = GetRndResults(N, d)\n",
        "  temp = sum(abs.(psi_cln_sqr-psi_rnd_sqr))/size(psi_cln_sqr)[2]\n",
        "  append!(abs_diff,temp)\n",
        "end\n",
        "\n",
        "str_title = \"N = $N\"\n",
        "plt.title(str_title)\n",
        "plt.scatter(depth_,abs_diff)\n",
        "plt.xlabel(\"Depth\")\n",
        "plt.ylabel(\"Mean Abosulute Difference\")\n",
        "#plt.legend()\n",
        "plt.show()\n",
        "\n"
      ],
      "execution_count": 16,
      "outputs": [
        {
          "output_type": "display_data",
          "data": {
            "image/png": "[encoded data removed]",
            "text/plain": [
              "Figure(PyObject <Figure size 640x480 with 1 Axes>)"
            ]
          },
          "metadata": {
            "tags": []
          }
        }
      ]
    },
    {
      "cell_type": "code",
      "metadata": {
        "colab": {
          "base_uri": "https://localhost:8080/",
          "height": 448
        },
        "id": "cQOngGdR-6Ta",
        "outputId": "d538a216-460a-4fc8-f1c5-5ffb9f669500"
      },
      "source": [
        "# Illustrate the dataset.\n",
        "N = 4  #@param {type:\"slider\", min:1, max:5, step:1}\n",
        "depth = 38   #@param {type:\"slider\", min:1, max:50, step:1}\n",
        "nshots = 10000\n",
        "psi_cln_sqr, psi_rnd_sqr = GetRndResults(N, depth)\n",
        "\n",
        "n = size(psi_cln_sqr)[1] # 2^n possible qubits\n",
        "q_index = 1:1:n[1]#index of QBITS\n",
        "i_temp = zeros(1, size(q_index)[1])\n",
        "\n",
        "str_title = \"N = $N, Depth = $depth\"\n",
        "plt.title(str_title)\n",
        "plt.scatter(q_index,0.0025.+i_temp,s=1000*psi_cln_sqr,label =\"clean\")\n",
        "plt.scatter(q_index,i_temp,s=1000*psi_rnd_sqr,color=\"tab:orange\",label =\"random\")\n",
        "plt.xticks([])\n",
        "plt.yticks([])\n",
        "plt.xlabel(\"Q BITS\")\n",
        "plt.ylim(-0.001,0.01)\n",
        "plt.legend()\n",
        "plt.show()"
      ],
      "execution_count": 17,
      "outputs": [
        {
          "output_type": "display_data",
          "data": {
            "image/png": "[encoded data removed]",
            "text/plain": [
              "Figure(PyObject <Figure size 640x480 with 1 Axes>)"
            ]
          },
          "metadata": {
            "tags": []
          }
        }
      ]
    },
    {
      "cell_type": "markdown",
      "metadata": {
        "id": "_Dry07Ccv0iG"
      },
      "source": [
        "## Additional challenge 1\n",
        "Combine your speckle patterns from Task 2 into an animation that shows the changes in stateprobabilities as a single bit-flip error is moved around in a deep random circuit."
      ]
    },
    {
      "cell_type": "code",
      "metadata": {
        "colab": {
          "base_uri": "https://localhost:8080/"
        },
        "id": "gBkXF-JCwCSY",
        "outputId": "dda12015-5b85-4b83-e904-e889be35ccbd"
      },
      "source": [
        "function get_rnd_gates_ij(N, depth,i,j)\n",
        "  gates,psi = get_gates(N, depth)\n",
        "  gates_clean = copy(gates)\n",
        " # i = rand(1:N,1)[1]# random qubit\n",
        " # j = rand(1:depth,1)[1] # random location in the gates\n",
        "\n",
        "  j = size(gates_clean)[1]*(j/100)\n",
        "  print(Int(floor(j)))\n",
        "  rand_gate = Tuple[]\n",
        "  gate = (\"SigmaX\", i, (theta=2pi*rand(), phi=2pi*rand()))\n",
        "  push!(rand_gate,gate)\n",
        "  insert!(gates,Int(floor(j)),rand_gate)\n",
        "\n",
        "  return gates_clean, gates\n",
        "end"
      ],
      "execution_count": 18,
      "outputs": [
        {
          "output_type": "execute_result",
          "data": {
            "text/plain": [
              "get_rnd_gates_ij (generic function with 1 method)"
            ]
          },
          "metadata": {
            "tags": []
          },
          "execution_count": 18
        }
      ]
    },
    {
      "cell_type": "code",
      "metadata": {
        "colab": {
          "base_uri": "https://localhost:8080/"
        },
        "id": "Iw-sChMTwViM",
        "outputId": "3ae004e6-2c19-4af9-af91-8f316077bb65"
      },
      "source": [
        "function GetRndResults_ij(N,depth,i,j)\n",
        "  gates_cln, gates_rnd = get_rnd_gates_ij(N,depth,i,j)\n",
        "\n",
        "  psi_cln = runcircuit(N, gates_cln)\n",
        "  psi_rnd = runcircuit(N, gates_rnd)\n",
        "\n",
        "  psi_cln_sqr = f_psi_sqr(N,psi_cln)\n",
        "  psi_rnd_sqr = f_psi_sqr(N,psi_rnd)\n",
        "\n",
        "  return psi_cln_sqr, psi_rnd_sqr\n",
        "\n",
        "end"
      ],
      "execution_count": 19,
      "outputs": [
        {
          "output_type": "execute_result",
          "data": {
            "text/plain": [
              "GetRndResults_ij (generic function with 1 method)"
            ]
          },
          "metadata": {
            "tags": []
          },
          "execution_count": 19
        }
      ]
    },
    {
      "cell_type": "code",
      "metadata": {
        "colab": {
          "base_uri": "https://localhost:8080/",
          "height": 466
        },
        "id": "N7QUIi_gwSlo",
        "outputId": "ae93a111-6bb8-4e27-9ce1-c827ec5d897f"
      },
      "source": [
        "# Illustrate the dataset.\n",
        "N = 4 \n",
        "depth = 38   #@param {type:\"slider\", min:1, max:50, step:1}\n",
        "qbit = 3  #@param {type:\"slider\", min:1, max:4, step:1}\n",
        "location = 22   #@param {type:\"slider\", min:1, max:100, step:1}\n",
        "\n",
        "nshots = 10000\n",
        "psi_cln_sqr, psi_rnd_sqr = GetRndResults_ij(N, depth,qbit,location)\n",
        "\n",
        "n = size(psi_cln_sqr)[1] # 2^n possible qubits\n",
        "q_index = 1:1:n[1]#index of QBITS\n",
        "i_temp = zeros(1, size(q_index)[1])\n",
        "\n",
        "str_title = \"N = $N, Qbit = $qbit, Depth = $depth, location = $location % \"\n",
        "plt.title(str_title)\n",
        "plt.scatter(q_index,0.0025.+i_temp,s=1000*psi_cln_sqr,label =\"clean\")\n",
        "plt.scatter(q_index,i_temp,s=1000*psi_rnd_sqr,color=\"tab:orange\",label =\"random\")\n",
        "plt.xticks([])\n",
        "plt.yticks([])\n",
        "plt.xlabel(\"Q BITS\")\n",
        "plt.ylim(-0.001,0.01)\n",
        "plt.legend()\n",
        "plt.show()"
      ],
      "execution_count": 20,
      "outputs": [
        {
          "output_type": "display_data",
          "data": {
            "image/png": "[encoded data removed]",
            "text/plain": [
              "Figure(PyObject <Figure size 640x480 with 1 Axes>)"
            ]
          },
          "metadata": {
            "tags": []
          }
        },
        {
          "output_type": "stream",
          "text": [
            "16"
          ],
          "name": "stdout"
        }
      ]
    },
    {
      "cell_type": "markdown",
      "metadata": {
        "id": "ujxfRnlM4Wdu"
      },
      "source": [
        "# Task 3"
      ]
    },
    {
      "cell_type": "code",
      "metadata": {
        "colab": {
          "base_uri": "https://localhost:8080/"
        },
        "id": "oHqyOW13WDvz",
        "outputId": "90cabae8-f6dc-4b23-ce24-c0be75909b3b"
      },
      "source": [
        "# loop over different quantum random circuits and collect the probability\n",
        "function get_probabilites(N,depth,n_circuits,i)\n",
        "  # N --> number of qbits\n",
        "  # dpeth --> depth of the circuit\n",
        "  # n_circuits --> number of random circuits\n",
        "  # i --> index for the quantum state x\n",
        "\n",
        "  gates, psi = get_gates(N, depth)\n",
        "  # psi_sqr_all = f_psi_sqr(N,psi)#\n",
        "  psi_sqr_all = transpose(f_q_prob(N,psi,1000)) #\n",
        "  for i in 2:n_circuits\n",
        "    gates, psi = get_gates(N, depth)\n",
        "    # psi_sqr = f_psi_sqr(N,psi)\n",
        "    psi_sqr = transpose(f_q_prob(N,psi,1000))\n",
        "    psi_sqr_all = vcat(psi_sqr_all, psi_sqr)\n",
        "  end\n",
        "  psi_sqr_all = transpose(psi_sqr_all) # (2^N, #circuits)\n",
        "  q_i_prob = psi_sqr_all[i,:]\n",
        "\n",
        "  return sort(q_i_prob)\n",
        "end"
      ],
      "execution_count": 50,
      "outputs": [
        {
          "output_type": "execute_result",
          "data": {
            "text/plain": [
              "get_probabilites (generic function with 1 method)"
            ]
          },
          "metadata": {
            "tags": []
          },
          "execution_count": 50
        }
      ]
    },
    {
      "cell_type": "markdown",
      "metadata": {
        "id": "mXDRU87rfhrT"
      },
      "source": [
        "# Theoreticall cumulative distribution: \n",
        "\\begin{eqnarray}\n",
        "1 - e^{-2^{N}p}\n",
        "\\end{eqnarray}\n"
      ]
    },
    {
      "cell_type": "markdown",
      "metadata": {
        "id": "AwLBG8W0kSwn"
      },
      "source": [
        "## Cumulative distribution from samples\n",
        "To construct the cumulative distributions (CDF) for a $x$ bit. First, we construct $m$ random quantum cirtuis and for each sample we compute the $P(x)$, probabilty of sampling $x$, and through an histogram we compute the cumulative distribution. \n",
        "In Julia the CDF can be computed by ginve a list of samples using, \n",
        "\n",
        "```\n",
        "n, bins, patches = plt.hist(p, 100,density=\"True\",cumulative=\"True\",histtype=\"step\")\n",
        "```\n",
        "\n",
        "\n"
      ]
    },
    {
      "cell_type": "code",
      "metadata": {
        "id": "i2sf_vsekSEq"
      },
      "source": [
        ""
      ],
      "execution_count": null,
      "outputs": []
    },
    {
      "cell_type": "code",
      "metadata": {
        "colab": {
          "base_uri": "https://localhost:8080/"
        },
        "id": "QwPITyByfYXy",
        "outputId": "424ad3c1-69bc-4837-b12e-cbb4f5488e49"
      },
      "source": [
        "function f_cdf(N,probs)\n",
        "  return 1. .- exp.((-(2^N)).*probs)\n",
        "end "
      ],
      "execution_count": 22,
      "outputs": [
        {
          "output_type": "execute_result",
          "data": {
            "text/plain": [
              "f_cdf (generic function with 1 method)"
            ]
          },
          "metadata": {
            "tags": []
          },
          "execution_count": 22
        }
      ]
    },
    {
      "cell_type": "code",
      "metadata": {
        "colab": {
          "base_uri": "https://localhost:8080/",
          "height": 449
        },
        "id": "SWaab6nMeoH-",
        "outputId": "11b293cd-77ea-4add-c5be-b07848a77581"
      },
      "source": [
        "\n",
        "N = 3   #@param {type:\"slider\", min:2, max:10, step:1}\n",
        "n_circuits = 400 #@param {type:\"slider\", min:100, max:500, step:50}\n",
        "i = 1 #@param {type:\"slider\", min:1, max:10, step:1}\n",
        "\n",
        "q_i_prob = get_probabilites(N,1,n_circuits,2)\n",
        "q_i_prob_100 = get_probabilites(N,100,n_circuits,2)\n",
        "\n",
        "n, bins, patches = plt.hist(q_i_prob, 100,density=\"True\",cumulative=\"True\",histtype=\"step\",label = \"Depth = 1\")\n",
        "n_100, bins_100, patches_100 = plt.hist(q_i_prob_100, 100,density=\"True\",cumulative=\"True\",histtype=\"step\",label = \"Depth = 100\")\n",
        "\n",
        "calc_cdf = f_cdf(N,q_i_prob)\n",
        "plt.plot(q_i_prob,calc_cdf,ls=\"--\",color=\"k\",label = \"Exact\")\n",
        "\n",
        "plt.xlabel(\"p\")\n",
        "plt.ylabel(\"CDF\")\n",
        "plt.legend()\n",
        "plt.show()"
      ],
      "execution_count": 55,
      "outputs": [
        {
          "output_type": "display_data",
          "data": {
            "image/png": "[encoded data removed]",
            "text/plain": [
              "Figure(PyObject <Figure size 640x480 with 1 Axes>)"
            ]
          },
          "metadata": {
            "tags": []
          }
        }
      ]
    },
    {
      "cell_type": "markdown",
      "metadata": {
        "id": "DMHvjTEXgICN"
      },
      "source": [
        "The change of the cumulative distribution for N qbits as a funciton of the depth of the random circuits."
      ]
    },
    {
      "cell_type": "markdown",
      "metadata": {
        "id": "KUpKB2md7RAu"
      },
      "source": [
        "# Task 4"
      ]
    },
    {
      "cell_type": "markdown",
      "metadata": {
        "id": "00Hapt4w7UDq"
      },
      "source": [
        "`get_gates_dtheta` is a modified version of the original `get_gates` that accounts for the $\\Delta \\theta$.\n"
      ]
    },
    {
      "cell_type": "code",
      "metadata": {
        "id": "0nzuJCTm7TWz",
        "colab": {
          "base_uri": "https://localhost:8080/"
        },
        "outputId": "54c4f47e-e5d7-43e4-9042-78878ea6370a"
      },
      "source": [
        "function get_gates_dtheta(N, depth, d_theta)\n",
        "    # Random circuit.\n",
        "    gates = Vector{Tuple}[]\n",
        "    gates_dtheta = Vector{Tuple}[]\n",
        "\n",
        "    for i in 1:depth\n",
        "        one_qubit_layer = Tuple[]\n",
        "        two_qubit_layer = Tuple[]\n",
        "        two_qubit_layer_d_theta = Tuple[]\n",
        "\n",
        "        for j in 1:N\n",
        "            gate = (\"R\", j, (theta=2pi*rand(), phi=2pi*rand()))\n",
        "            push!(one_qubit_layer, gate)\n",
        "        end\n",
        "\n",
        "        # Alternate start qubit for pairs.\n",
        "        idx_first = i % 2 + 1\n",
        "\n",
        "        for j in idx_first:2:(N-1)\n",
        "            gate = (\"M\", (j, j+1), (Theta=2pi*rand(),))\n",
        "            push!(two_qubit_layer, gate)\n",
        "\n",
        "            gate_dtheta = (\"M\", (j, j+1), (Theta=2pi*rand()+ d_theta,))\n",
        "            push!(two_qubit_layer_d_theta, gate_dtheta)\n",
        "\n",
        "        end\n",
        "\n",
        "        push!(gates, one_qubit_layer)\n",
        "        push!(gates, two_qubit_layer)\n",
        "\n",
        "        push!(gates_dtheta, one_qubit_layer)\n",
        "        push!(gates_dtheta, two_qubit_layer_d_theta)\n",
        "    end\n",
        "\n",
        "    psi = runcircuit(N, gates)\n",
        "    psi_dtheta = runcircuit(N, gates_dtheta)\n",
        "\n",
        "    return gates, psi, gates_dtheta, psi_dtheta\n",
        "end"
      ],
      "execution_count": 25,
      "outputs": [
        {
          "output_type": "execute_result",
          "data": {
            "text/plain": [
              "get_gates_dtheta (generic function with 1 method)"
            ]
          },
          "metadata": {
            "tags": []
          },
          "execution_count": 25
        }
      ]
    },
    {
      "cell_type": "markdown",
      "metadata": {
        "id": "JL-mt0r096o1"
      },
      "source": [
        "## Cross-entropy benchmarking (XEB) fidelity\n",
        "\n",
        "\\begin{eqnarray}\n",
        "{\\cal F}_{XEB} = 2^{N} \\langle P \\rangle - 1 = \\frac{2^{N}}{S} \\sum_i^{S}P(x_{i}) - 1,\n",
        "\\end{eqnarray}\n",
        "where $S$ is the total number of samples $x_i$ from the circtuit with the perturbation $\\Delta\\theta$, $N$ is the number of qbits, and $P(x_{i})$ is the probability of the sample $x_i$ on the unperturbed circuit."
      ]
    },
    {
      "cell_type": "code",
      "metadata": {
        "colab": {
          "base_uri": "https://localhost:8080/"
        },
        "id": "18aNKd2KAOA-",
        "outputId": "4102cac6-9cd3-42d5-b440-ca8887dc0a3a"
      },
      "source": [
        "function f_f_xeb(N,depth,d_theta,nsamples)\n",
        "  gates, psi, gates_dtheta, psi_dtheta = get_gates_dtheta(N,depth,d_theta)\n",
        "  \n",
        "  data = getsamples(psi_dtheta,nsamples) #samples from the circuit with \\Dela\\theta\n",
        "  psi_sqr = f_psi_sqr(N,psi)  # probabilities from the \"clean\" circuit\n",
        "\n",
        "# list of all possible quantum states\n",
        "  qi = zeros(Int,(1,N))\n",
        "  for x in 0:2^N-1\n",
        "    y = digits(x, base=2, pad=N)\n",
        "    qi = vcat(qi,transpose(y))\n",
        "  end\n",
        "  qi = qi[2:end,:]\n",
        "\n",
        "  f_xeb = 0.\n",
        "  for d in eachrow(data)\n",
        "    i = 1\n",
        "    for q in eachrow(qi)\n",
        "      if q == d\n",
        "        f_xeb = f_xeb + (psi_sqr[i])\n",
        "      end\n",
        "      i  = i + 1\n",
        "    end\n",
        "  end\n",
        "  f_xeb = (2^N/nsamples)*f_xeb - 1.\n",
        "  return f_xeb\n",
        "end"
      ],
      "execution_count": 29,
      "outputs": [
        {
          "output_type": "execute_result",
          "data": {
            "text/plain": [
              "f_f_xeb (generic function with 1 method)"
            ]
          },
          "metadata": {
            "tags": []
          },
          "execution_count": 29
        }
      ]
    },
    {
      "cell_type": "code",
      "metadata": {
        "id": "p1UEPd_aHpO2",
        "colab": {
          "base_uri": "https://localhost:8080/"
        },
        "outputId": "59f23dcd-85f5-4b74-fc1c-d067561e6531"
      },
      "source": [
        "N = 3   #@param {type:\"slider\", min:2, max:8, step:1}\n",
        "depth = 350   #@param {type:\"slider\", min:50, max:500, step:25}\n",
        "d_theta = 0.1   #@param {type:\"slider\", min:0.0, max:1.0, step:0.05}\n",
        "nsamples = 300   #@param {type:\"slider\", min:100, max:1000, step:100}\n",
        "\n",
        "\n",
        "f_xeb = f_f_xeb(N,depth,d_theta,nsamples)\n",
        "println(\"For a circuit with:\")\n",
        "println(\"N = $N, depth = $depth, Delta Theta = $d_theta, and Num. Samples = $nsamples\")\n",
        "println(\"Cross-entropy benchmarking (XEB) fidelity = $f_xeb\")\n"
      ],
      "execution_count": 32,
      "outputs": [
        {
          "output_type": "stream",
          "text": [
            "For a circuit with:\n",
            "N = 3, depth = 350, Delta Theta = 0.1, and Num. Samples = 300\n",
            "Cross-entropy benchmarking (XEB) fidelity = 0.050533329501441626\n"
          ],
          "name": "stdout"
        }
      ]
    }
  ]
}