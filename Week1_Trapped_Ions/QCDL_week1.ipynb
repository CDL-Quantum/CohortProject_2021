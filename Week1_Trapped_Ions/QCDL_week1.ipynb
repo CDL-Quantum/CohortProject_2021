{
  "nbformat": 4,
  "nbformat_minor": 0,
  "metadata": {
    "accelerator": "GPU",
    "colab": {
      "name": "QCDL_week1.ipynb",
      "provenance": [],
      "collapsed_sections": [
        "PwmsnwA9KGFC",
        "iimmTYVphQHJ",
        "N_upbtLXcrT8",
        "_Dry07Ccv0iG"
      ],
      "toc_visible": true,
      "include_colab_link": true
    },
    "kernelspec": {
      "display_name": "Julia",
      "language": "julia",
      "name": "julia"
    },
    "language_info": {
      "file_extension": ".jl",
      "mimetype": "application/julia",
      "name": "julia"
    }
  },
  "cells": [
    {
      "cell_type": "markdown",
      "metadata": {
        "id": "view-in-github",
        "colab_type": "text"
      },
      "source": [
        "<a href=\"https://colab.research.google.com/github/RodrigoAVargasHdz/CohortProject_2021/blob/main/Week1_Trapped_Ions/QCDL_week1.ipynb\" target=\"_parent\"><img src=\"https://colab.research.google.com/assets/colab-badge.svg\" alt=\"Open In Colab\"/></a>"
      ]
    },
    {
      "cell_type": "markdown",
      "metadata": {
        "id": "WvMmqQTelfyA"
      },
      "source": [
        "# Installation of Julia in google colab"
      ]
    },
    {
      "cell_type": "markdown",
      "metadata": {
        "id": "6ew60wXrZM0W"
      },
      "source": [
        "## Running on Google Colab\n",
        "1. Work on a copy of this notebook: _File_ > _Save a copy in Drive_ (you will need a Google account). Alternatively, you can download the notebook using _File_ > _Download .ipynb_, then upload it to [Colab](https://colab.research.google.com/).\n",
        "2. Execute the following cell (click on it and press Ctrl+Enter) to install Julia, IJulia (the Jupyter kernel for Julia) and other packages. You can update `JULIA_VERSION` and the other parameters, if you know what you're doing. Installation takes 2-3 minutes.\n",
        "3. Reload this page (press Ctrl+R, or ⌘+R, or the F5 key) and continue to the _Checking the Installation_ section.\n",
        "\n",
        "* _Note_: If your Colab Runtime gets reset (e.g., due to inactivity), repeat steps 2 and 3."
      ]
    },
    {
      "cell_type": "code",
      "metadata": {
        "colab": {
          "base_uri": "https://localhost:8080/",
          "height": 89
        },
        "id": "GIeFXS0F0zww",
        "outputId": "376e64da-282a-4135-e3c7-193b5ecf4af2"
      },
      "source": [
        "%%shell\n",
        "set -e\n",
        "\n",
        "#---------------------------------------------------#\n",
        "JULIA_VERSION=\"1.6.0\" # any version ≥ 0.7.0\n",
        "JULIA_PACKAGES=\"IJulia BenchmarkTools PyCall PyPlot PastaQ ITensors\"\n",
        "JULIA_PACKAGES_IF_GPU=\"CUDA\"\n",
        "JULIA_NUM_THREADS=4\n",
        "#---------------------------------------------------#\n",
        "\n",
        "if [ -n \"$COLAB_GPU\" ] && [ -z `which julia` ]; then\n",
        "  # Install Julia\n",
        "  JULIA_VER=`cut -d '.' -f -2 <<< \"$JULIA_VERSION\"`\n",
        "  echo \"Installing Julia $JULIA_VERSION on the current Colab Runtime...\"\n",
        "  BASE_URL=\"https://julialang-s3.julialang.org/bin/linux/x64\"\n",
        "  URL=\"$BASE_URL/$JULIA_VER/julia-$JULIA_VERSION-linux-x86_64.tar.gz\"\n",
        "  wget -nv $URL -O /tmp/julia.tar.gz # -nv means \"not verbose\"\n",
        "  tar -x -f /tmp/julia.tar.gz -C /usr/local --strip-components 1\n",
        "  rm /tmp/julia.tar.gz\n",
        "\n",
        "  # Install Packages\n",
        "  if [ \"$COLAB_GPU\" = \"1\" ]; then\n",
        "      JULIA_PACKAGES=\"$JULIA_PACKAGES $JULIA_PACKAGES_IF_GPU\"\n",
        "  fi\n",
        "  for PKG in `echo $JULIA_PACKAGES`; do\n",
        "    echo \"Installing Julia package $PKG...\"\n",
        "    julia -e 'using Pkg; pkg\"add '$PKG'; precompile;\"' &> /dev/null\n",
        "  done\n",
        "\n",
        "  # Install kernel and rename it to \"julia\"\n",
        "  echo \"Installing IJulia kernel...\"\n",
        "  julia -e 'using IJulia; IJulia.installkernel(\"julia\", env=Dict(\n",
        "      \"JULIA_NUM_THREADS\"=>\"'\"$JULIA_NUM_THREADS\"'\"))'\n",
        "  KERNEL_DIR=`julia -e \"using IJulia; print(IJulia.kerneldir())\"`\n",
        "  KERNEL_NAME=`ls -d \"$KERNEL_DIR\"/julia*`\n",
        "  mv -f $KERNEL_NAME \"$KERNEL_DIR\"/julia  \n",
        "\n",
        "  echo ''\n",
        "  echo \"Successfully installed `julia -v`!\"\n",
        "  echo \"Please reload this page (press Ctrl+R, ⌘+R, or the F5 key) then\"\n",
        "  echo \"jump to the 'Checking the Installation' section.\"\n",
        "fi"
      ],
      "execution_count": 5,
      "outputs": [
        {
          "output_type": "display_data",
          "data": {
            "text/latex": "Unrecognized magic \\texttt{\\%\\%shell}.\n\nJulia does not use the IPython \\texttt{\\%magic} syntax.   To interact with the IJulia kernel, use \\texttt{IJulia.somefunction(...)}, for example.  Julia macros, string macros, and functions can be used to accomplish most of the other functionalities of IPython magics.\n\n",
            "text/markdown": "Unrecognized magic `%%shell`.\n\nJulia does not use the IPython `%magic` syntax.   To interact with the IJulia kernel, use `IJulia.somefunction(...)`, for example.  Julia macros, string macros, and functions can be used to accomplish most of the other functionalities of IPython magics.\n",
            "text/plain": [
              "  Unrecognized magic \u001b[36m%%shell\u001b[39m.\n",
              "\n",
              "  Julia does not use the IPython \u001b[36m%magic\u001b[39m syntax. To interact with the IJulia\n",
              "  kernel, use \u001b[36mIJulia.somefunction(...)\u001b[39m, for example. Julia macros, string\n",
              "  macros, and functions can be used to accomplish most of the other\n",
              "  functionalities of IPython magics."
            ]
          },
          "metadata": {
            "tags": []
          }
        }
      ]
    },
    {
      "cell_type": "markdown",
      "metadata": {
        "id": "-OS3Ac017T1i"
      },
      "source": [
        "## Checking the Installation\n",
        "The `versioninfo()` function should print your Julia version and some other info about the system (if you ever ask for help or file an issue about Julia, you should always provide this information)."
      ]
    },
    {
      "cell_type": "code",
      "metadata": {
        "id": "EEzvvzCl1i0F",
        "colab": {
          "base_uri": "https://localhost:8080/"
        },
        "outputId": "7f442eae-f4d3-4f4e-cac1-ea29b14cf0e9"
      },
      "source": [
        "versioninfo()"
      ],
      "execution_count": 6,
      "outputs": [
        {
          "output_type": "stream",
          "text": [
            "Julia Version 1.6.0\n",
            "Commit f9720dc2eb (2021-03-24 12:55 UTC)\n",
            "Platform Info:\n",
            "  OS: Linux (x86_64-pc-linux-gnu)\n",
            "  CPU: Intel(R) Xeon(R) CPU @ 2.20GHz\n",
            "  WORD_SIZE: 64\n",
            "  LIBM: libopenlibm\n",
            "  LLVM: libLLVM-11.0.1 (ORCJIT, broadwell)\n",
            "Environment:\n",
            "  JULIA_NUM_THREADS = 4\n"
          ],
          "name": "stdout"
        }
      ]
    },
    {
      "cell_type": "markdown",
      "metadata": {
        "id": "v5S3TniRlbbA"
      },
      "source": [
        "# Utils\n"
      ]
    },
    {
      "cell_type": "code",
      "metadata": {
        "id": "A1xqRhccmHaw"
      },
      "source": [
        "using PastaQ\n",
        "using ITensors\n",
        "using PyPlot\n",
        "using Statistics"
      ],
      "execution_count": 7,
      "outputs": []
    },
    {
      "cell_type": "markdown",
      "metadata": {
        "id": "hYbDFCPyKDj2"
      },
      "source": [
        "## 1-qbit gate"
      ]
    },
    {
      "cell_type": "code",
      "metadata": {
        "id": "wTBC1nLilmhY"
      },
      "source": [
        "function PastaQ.gate(::GateName\"R\"; theta::Real, phi::Real)\n",
        "    [\n",
        "        cos(theta/2)    (-im * exp(-im * phi) * sin(theta/2))\n",
        "        (-im * exp(im * phi) * sin(theta/2))     cos(theta/2)\n",
        "    ]\n",
        "end"
      ],
      "execution_count": 8,
      "outputs": []
    },
    {
      "cell_type": "markdown",
      "metadata": {
        "id": "qXsE3-d-KAzH"
      },
      "source": [
        "## 2-qbit gate"
      ]
    },
    {
      "cell_type": "code",
      "metadata": {
        "id": "KTLhWTYqnDe3"
      },
      "source": [
        "function PastaQ.gate(::GateName\"M\"; Theta::Real)\n",
        "    [\n",
        "        cos(Theta)    0    0    (-im * sin(Theta))\n",
        "        0    cos(Theta)    (-im * sin(Theta))    0\n",
        "        0    (-im * sin(Theta))    cos(Theta)    0\n",
        "        (-im * sin(Theta))    0    0    cos(Theta)\n",
        "    ]\n",
        "end"
      ],
      "execution_count": 9,
      "outputs": []
    },
    {
      "cell_type": "markdown",
      "metadata": {
        "id": "PwmsnwA9KGFC"
      },
      "source": [
        "## 1-qbit flip-gate \n",
        "(for task 2)"
      ]
    },
    {
      "cell_type": "code",
      "metadata": {
        "id": "-NSh-3bQav66"
      },
      "source": [
        "function PastaQ.gate(::GateName\"SigmaX\"; theta::Real, phi::Real)\n",
        "    [\n",
        "        0    1\n",
        "        1     0\n",
        "    ]\n",
        "end"
      ],
      "execution_count": 10,
      "outputs": []
    },
    {
      "cell_type": "markdown",
      "metadata": {
        "id": "LuFXn2stMUnu"
      },
      "source": [
        "## `# get_gates` creates the sequence of gates (gates) and the MPS that simulates the quantum computation (psi)."
      ]
    },
    {
      "cell_type": "code",
      "metadata": {
        "colab": {
          "base_uri": "https://localhost:8080/"
        },
        "id": "wPjln2hsnGiA",
        "outputId": "ba170183-6fdf-48c0-a89d-f5962fb59a36"
      },
      "source": [
        "function get_gates(N, depth)\n",
        "    # Random circuit.\n",
        "    gates = Vector{Tuple}[]\n",
        "\n",
        "    for i in 1:depth\n",
        "        one_qubit_layer = Tuple[]\n",
        "        two_qubit_layer = Tuple[]\n",
        "\n",
        "        for j in 1:N\n",
        "            gate = (\"R\", j, (theta=2pi*rand(), phi=2pi*rand()))\n",
        "            push!(one_qubit_layer, gate)\n",
        "        end\n",
        "\n",
        "        # Alternate start qubit for pairs.\n",
        "        idx_first = i % 2 + 1\n",
        "\n",
        "        for j in idx_first:2:(N-1)\n",
        "            gate = (\"M\", (j, j+1), (Theta=2pi*rand(),))\n",
        "            push!(two_qubit_layer, gate)\n",
        "        end\n",
        "\n",
        "        push!(gates, one_qubit_layer)\n",
        "        push!(gates, two_qubit_layer)\n",
        "    end\n",
        "\n",
        "    psi = runcircuit(N, gates)\n",
        "    return gates, psi\n",
        "end"
      ],
      "execution_count": 11,
      "outputs": [
        {
          "output_type": "execute_result",
          "data": {
            "text/plain": [
              "get_gates (generic function with 1 method)"
            ]
          },
          "metadata": {
            "tags": []
          },
          "execution_count": 11
        }
      ]
    },
    {
      "cell_type": "markdown",
      "metadata": {
        "id": "iW5tWZ89atTa"
      },
      "source": [
        "# Task 1"
      ]
    },
    {
      "cell_type": "markdown",
      "metadata": {
        "id": "5IqIg28nbxAG"
      },
      "source": [
        "## computing $| <x|\\psi> |^2$ with samples\n",
        "\n",
        "``` # f_counts ``` counts the nubmer of samples for all $x$ states. The main function is abased on  ``` # getsamples ``` from PastaQ.\n"
      ]
    },
    {
      "cell_type": "code",
      "metadata": {
        "colab": {
          "base_uri": "https://localhost:8080/"
        },
        "id": "aKicJPcK_muG",
        "outputId": "d80dece3-4e11-4139-86fc-01e8118a4cb0"
      },
      "source": [
        "function f_counts(psi,N,nshots)\n",
        "  data = getsamples(psi,nshots)\n",
        "  \n",
        "  qi_temp = reverse.(Iterators.product(fill(0:1,N)...))[:] #tuples\n",
        "  # convert from tuples to array\n",
        "  qi = zeros(Int8,(1,N)) \n",
        "  for q in qi_temp\n",
        "    x = [i for i in q] \n",
        "    qi = vcat(qi, transpose(x))\n",
        "  end\n",
        "  qi = qi[2:end,:]\n",
        "\n",
        "  q_counts = zeros(Int8,size(qi)[1])\n",
        "  j = 1 # index for the quantum state\n",
        "  for x in eachrow(qi)\n",
        "    for d in eachrow(data)\n",
        "      if x == d\n",
        "        @inbounds q_counts[j] += 1\n",
        "      end\n",
        "    end\n",
        "    j = j + 1\n",
        "  end \n",
        "  return q_counts\n",
        "end "
      ],
      "execution_count": 12,
      "outputs": [
        {
          "output_type": "execute_result",
          "data": {
            "text/plain": [
              "f_counts (generic function with 1 method)"
            ]
          },
          "metadata": {
            "tags": []
          },
          "execution_count": 12
        }
      ]
    },
    {
      "cell_type": "markdown",
      "metadata": {
        "id": "sk1mLk42Kkej"
      },
      "source": [
        "``` # f_q_prob ``` computes the probability from the samples generated."
      ]
    },
    {
      "cell_type": "code",
      "metadata": {
        "colab": {
          "base_uri": "https://localhost:8080/"
        },
        "id": "g_tZxvedCEX8",
        "outputId": "8d9f3dde-ddd5-45c1-d37e-17b7bb4c07de"
      },
      "source": [
        "function f_q_prob(N,psi,nshots_total)\n",
        "  n0 = nshots_total/100\n",
        "  q_counts_total = f_counts(psi,N,100)\n",
        "  for i in 2:n0\n",
        "    q_counts = f_counts(psi,N,100)\n",
        "    q_counts_total = hcat(q_counts_total, q_counts)\n",
        "  end\n",
        "  q_counts = sum(q_counts_total,dims=2)\n",
        "  # println(\"counts => \", q_counts)\n",
        "  prob_q = q_counts/nshots_total\n",
        "  # println(\"prob => \", prob_q)\n",
        "  return prob_q\n",
        "end"
      ],
      "execution_count": 13,
      "outputs": [
        {
          "output_type": "execute_result",
          "data": {
            "text/plain": [
              "f_q_prob (generic function with 1 method)"
            ]
          },
          "metadata": {
            "tags": []
          },
          "execution_count": 13
        }
      ]
    },
    {
      "cell_type": "markdown",
      "metadata": {
        "id": "4wmJoogLafc9"
      },
      "source": [
        "## computing $| <x|\\psi> |^2$ with tensors\n",
        "\n",
        "\n",
        "\n",
        "``` # f_psi_sqr ``` computes the square $c_i$ for each $x$ for the probability of each $x$. \n",
        "\n"
      ]
    },
    {
      "cell_type": "code",
      "metadata": {
        "id": "If6DASf-_qIH",
        "colab": {
          "base_uri": "https://localhost:8080/"
        },
        "outputId": "e9913874-4b1b-4c37-c5cc-3ceb9e6049f0"
      },
      "source": [
        "function f_psi_sqr(N,psi)\n",
        "  sites = siteinds(\"S=1/2\",N)\n",
        "  states = [isodd(n) ? \"Up\" : \"Dn\" for n=1:N]\n",
        "  A = zeros(1, 2^N)\n",
        "  for x in 0:2^N-1\n",
        "  y = digits(x, base=2, pad=N)\n",
        "      sites = siteinds(\"S=1/2\",N)\n",
        "      for n in 1:N\n",
        "      if y[n] == 0\n",
        "      states[n] = \"Dn\"\n",
        "      else\n",
        "      states[n] = \"Up\"\n",
        "      end\n",
        "  end\n",
        "      xpsi = productMPS(sites,states)\n",
        "      a = inner(xpsi, psi)\n",
        "      b = a * a'\n",
        "      A[1,x+1] = b\n",
        "  end\n",
        "  psi_sqr = A\n",
        "  return psi_sqr\n",
        "end"
      ],
      "execution_count": 14,
      "outputs": [
        {
          "output_type": "execute_result",
          "data": {
            "text/plain": [
              "f_psi_sqr (generic function with 1 method)"
            ]
          },
          "metadata": {
            "tags": []
          },
          "execution_count": 14
        }
      ]
    },
    {
      "cell_type": "markdown",
      "metadata": {
        "id": "iimmTYVphQHJ"
      },
      "source": [
        "## Speckle  pattern plot\n",
        "\n",
        "The probabilty to get each $x$ from a random circuit using a sampling technique (`# f_q_prob`) and excat simulation through an MPS technique (`# f_psi_sqr`).\n",
        "\n",
        "We study the change as a function of number of qbits (N) and the depth of the quantum circuit (depth)."
      ]
    },
    {
      "cell_type": "markdown",
      "metadata": {
        "id": "BO03hTD0N2r3"
      },
      "source": [
        "```\n",
        "# GetResults\n",
        "```\n",
        "utility function to get the data for a single Q-circuit for N qbits and with given depth. Variable nshots is needed for computing the probability through samples (`# getsamples`).\n",
        "\n"
      ]
    },
    {
      "cell_type": "code",
      "metadata": {
        "colab": {
          "base_uri": "https://localhost:8080/"
        },
        "id": "xRqSQYXmL8Wg",
        "outputId": "cf17b3a8-f14b-4aa6-9b23-28e22d45954e"
      },
      "source": [
        "function GetResults(N,depth,nshots)\n",
        "  \n",
        "  gates, psi = get_gates(N,depth)\n",
        "  prob_q = f_q_prob(N,psi,nshots)\n",
        "  psi_sqr = f_psi_sqr(N,psi)\n",
        "\n",
        "  return prob_q, psi_sqr\n",
        "end"
      ],
      "execution_count": 15,
      "outputs": [
        {
          "output_type": "execute_result",
          "data": {
            "text/plain": [
              "GetResults (generic function with 1 method)"
            ]
          },
          "metadata": {
            "tags": []
          },
          "execution_count": 15
        }
      ]
    },
    {
      "cell_type": "code",
      "metadata": {
        "colab": {
          "base_uri": "https://localhost:8080/",
          "height": 452
        },
        "id": "yNbnEcu_Lib7",
        "outputId": "6df597e9-1f2a-4c84-c88a-f0386f4b438c"
      },
      "source": [
        "# Illustrate the dataset.\n",
        "N = 4  #@param {type:\"slider\", min:1, max:5, step:1}\n",
        "depth = 5   #@param {type:\"slider\", min:1, max:30, step:1}\n",
        "nshots = 1000\n",
        "prob_q, psi_sqr = GetResults(N, depth,nshots)\n",
        "size(prob_q)\n",
        "\n",
        "n = size(prob_q) # 2^n possible qubits\n",
        "q_index = 1:1:n[1]#index of QBITS\n",
        "i_temp = zeros(1, size(q_index)[1])\n",
        "\n",
        "str_title = \"N = $N, Depth = $depth\"\n",
        "plt.title(str_title)\n",
        "plt.scatter(q_index,0.0025.+i_temp,s=1000*prob_q,label =\"N shots = $nshots\")\n",
        "plt.scatter(q_index,i_temp,s=1000*psi_sqr,color=\"tab:orange\",label =\"Exact\")\n",
        "plt.xticks([])\n",
        "plt.yticks([])\n",
        "plt.xlabel(r\"$x$\")\n",
        "plt.ylim(-0.001,0.01)\n",
        "plt.legend()\n",
        "plt.show()"
      ],
      "execution_count": 16,
      "outputs": [
        {
          "output_type": "display_data",
          "data": {
            "image/png": "[encoded data removed]",
            "text/plain": [
              "Figure(PyObject <Figure size 640x480 with 1 Axes>)"
            ]
          },
          "metadata": {
            "tags": []
          }
        }
      ]
    },
    {
      "cell_type": "markdown",
      "metadata": {
        "id": "N_upbtLXcrT8"
      },
      "source": [
        "# Task2\n",
        "\n",
        "Study the effect a single random flip has in the final quantum state for a random quantum circuit. \n",
        "Here we model a random flip using a 1-qbit gate ($\\sigma_{x}$). "
      ]
    },
    {
      "cell_type": "markdown",
      "metadata": {
        "id": "MXG_3ycAQShO"
      },
      "source": [
        "`# get_rnd_gates` generates a single random circuit with a random flip gate. It returns both, the \"clean\" random circuit (no $\\sigma_{x}$), and the random circuit with a random flip ($\\sigma_{x}$)."
      ]
    },
    {
      "cell_type": "code",
      "metadata": {
        "id": "PUEsHRWMctqi",
        "colab": {
          "base_uri": "https://localhost:8080/"
        },
        "outputId": "99add20d-534a-4a35-e8d8-57b4a085afc7"
      },
      "source": [
        "function get_rnd_gates(N, depth)\n",
        "  gates,psi = get_gates(N, depth)\n",
        "  gates_clean = copy(gates)\n",
        "\n",
        "  i = rand(1:N,1)[1]# random qubit\n",
        "  j = rand(1:depth,1)[1] # random location in the gates\n",
        "  rand_gate = Tuple[]\n",
        "  gate = (\"SigmaX\", i, (theta=2pi*rand(), phi=2pi*rand()))\n",
        "  push!(rand_gate,gate)\n",
        "  insert!(gates,j,rand_gate)\n",
        "\n",
        "  return gates_clean, gates\n",
        "end"
      ],
      "execution_count": 17,
      "outputs": [
        {
          "output_type": "execute_result",
          "data": {
            "text/plain": [
              "get_rnd_gates (generic function with 1 method)"
            ]
          },
          "metadata": {
            "tags": []
          },
          "execution_count": 17
        }
      ]
    },
    {
      "cell_type": "code",
      "metadata": {
        "colab": {
          "base_uri": "https://localhost:8080/"
        },
        "id": "XA5_cA8X7r26",
        "outputId": "33544669-a7b8-4673-9a33-8aafbd0e6589"
      },
      "source": [
        "function GetRndResults(N,depth)\n",
        "  gates_cln, gates_rnd = get_rnd_gates(N,depth)\n",
        "\n",
        "  psi_cln = runcircuit(N, gates_cln)\n",
        "  psi_rnd = runcircuit(N, gates_rnd)\n",
        "\n",
        "  psi_cln_sqr = f_psi_sqr(N,psi_cln)\n",
        "  psi_rnd_sqr = f_psi_sqr(N,psi_rnd)\n",
        "\n",
        "  return psi_cln_sqr, psi_rnd_sqr\n",
        "\n",
        "end\n"
      ],
      "execution_count": 18,
      "outputs": [
        {
          "output_type": "execute_result",
          "data": {
            "text/plain": [
              "GetRndResults (generic function with 1 method)"
            ]
          },
          "metadata": {
            "tags": []
          },
          "execution_count": 18
        }
      ]
    },
    {
      "cell_type": "markdown",
      "metadata": {
        "id": "M6tjV8hIRO3l"
      },
      "source": [
        "The following figure demonstrate the sum of the abosolute probability difference between the \"clean\" random circuit with a single random flip. \n",
        "\\begin{eqnarray}\n",
        "error = \\sum_{i}^{2^{N}} \\left | p_{i}(x_i) - \\hat{p}_{i}(x_i) \\right |\n",
        "\\end{eqnarray}\n",
        "here, $p_{i}(x_i)$ is the probability of $x_i$ and $\\hat{p}_{i}(x_i)$ is the probability of $x_i$ with a random flip. \n",
        "\n"
      ]
    },
    {
      "cell_type": "code",
      "metadata": {
        "colab": {
          "base_uri": "https://localhost:8080/",
          "height": 472
        },
        "id": "uTfX91Z7BXd3",
        "outputId": "cbfd1af4-2b8d-48e1-cb32-fa76587ec911"
      },
      "source": [
        "# depth_ = round.(Int,range(1, 100,length = 10))\n",
        "depth_ = 5 .*(1:1:10)\n",
        "\n",
        "abs_diff = []\n",
        "\n",
        "for d in depth_\n",
        "  psi_cln_sqr, psi_rnd_sqr = GetRndResults(N, d)\n",
        "  temp = sum(abs.(psi_cln_sqr-psi_rnd_sqr))/size(psi_cln_sqr)[2]\n",
        "  append!(abs_diff,temp)\n",
        "end\n",
        "\n",
        "str_title = \"N = $N\"\n",
        "plt.title(str_title)\n",
        "plt.scatter(depth_,abs_diff)\n",
        "plt.xlabel(\"Depth\")\n",
        "plt.ylabel(\"Mean Abosulute Difference\")\n",
        "#plt.legend()\n",
        "plt.show()\n",
        "\n"
      ],
      "execution_count": 19,
      "outputs": [
        {
          "output_type": "display_data",
          "data": {
            "image/png": "[encoded data removed]",
            "text/plain": [
              "Figure(PyObject <Figure size 640x480 with 1 Axes>)"
            ]
          },
          "metadata": {
            "tags": []
          }
        }
      ]
    },
    {
      "cell_type": "code",
      "metadata": {
        "colab": {
          "base_uri": "https://localhost:8080/",
          "height": 448
        },
        "id": "cQOngGdR-6Ta",
        "outputId": "f7093f07-0083-43ec-df0e-b3118780a4ea"
      },
      "source": [
        "# Illustrate the dataset.\n",
        "N = 4  #@param {type:\"slider\", min:1, max:5, step:1}\n",
        "depth = 38   #@param {type:\"slider\", min:1, max:50, step:1}\n",
        "nshots = 10000\n",
        "psi_cln_sqr, psi_rnd_sqr = GetRndResults(N, depth)\n",
        "\n",
        "n = size(psi_cln_sqr)[2] # 2^n possible qubits\n",
        "q_index = 1:1:n[1]#index of QBITS\n",
        "i_temp = zeros(1, size(q_index)[1])\n",
        "\n",
        "str_title = \"N = $N, Depth = $depth\"\n",
        "plt.title(str_title)\n",
        "plt.scatter(q_index,0.0025.+i_temp,s=1000*psi_cln_sqr,label =\"clean\")\n",
        "plt.scatter(q_index,i_temp,s=1000*psi_rnd_sqr,color=\"tab:orange\",label =\"random\")\n",
        "plt.xticks([])\n",
        "plt.yticks([])\n",
        "plt.xlabel(\"Q BITS\")\n",
        "plt.ylim(-0.001,0.01)\n",
        "plt.legend()\n",
        "plt.show()"
      ],
      "execution_count": 20,
      "outputs": [
        {
          "output_type": "display_data",
          "data": {
            "image/png": "[encoded data removed]",
            "text/plain": [
              "Figure(PyObject <Figure size 640x480 with 1 Axes>)"
            ]
          },
          "metadata": {
            "tags": []
          }
        }
      ]
    },
    {
      "cell_type": "markdown",
      "metadata": {
        "id": "_Dry07Ccv0iG"
      },
      "source": [
        "## Additional challenge 1\n",
        "Combine your speckle patterns from Task 2 into an animation that shows the changes in stateprobabilities as a single bit-flip error is moved around in a deep random circuit."
      ]
    },
    {
      "cell_type": "code",
      "metadata": {
        "colab": {
          "base_uri": "https://localhost:8080/"
        },
        "id": "gBkXF-JCwCSY",
        "outputId": "98b13873-4086-47a1-f61a-0d59cebc8945"
      },
      "source": [
        "function get_rnd_gates_ij(N, depth,i,j)\n",
        "  gates,psi = get_gates(N, depth)\n",
        "  gates_clean = copy(gates)\n",
        " # i = rand(1:N,1)[1]# random qubit\n",
        " # j = rand(1:depth,1)[1] # random location in the gates\n",
        "\n",
        "  j = size(gates_clean)[1]*(j/100)\n",
        "  print(Int(floor(j)))\n",
        "  rand_gate = Tuple[]\n",
        "  gate = (\"SigmaX\", i, (theta=2pi*rand(), phi=2pi*rand()))\n",
        "  push!(rand_gate,gate)\n",
        "  insert!(gates,Int(floor(j)),rand_gate)\n",
        "\n",
        "  return gates_clean, gates\n",
        "end"
      ],
      "execution_count": 21,
      "outputs": [
        {
          "output_type": "execute_result",
          "data": {
            "text/plain": [
              "get_rnd_gates_ij (generic function with 1 method)"
            ]
          },
          "metadata": {
            "tags": []
          },
          "execution_count": 21
        }
      ]
    },
    {
      "cell_type": "code",
      "metadata": {
        "colab": {
          "base_uri": "https://localhost:8080/"
        },
        "id": "Iw-sChMTwViM",
        "outputId": "c270e6a6-d743-4f03-9924-1ecf6cbc9bdb"
      },
      "source": [
        "function GetRndResults_ij(N,depth,i,j)\n",
        "  gates_cln, gates_rnd = get_rnd_gates_ij(N,depth,i,j)\n",
        "\n",
        "  psi_cln = runcircuit(N, gates_cln)\n",
        "  psi_rnd = runcircuit(N, gates_rnd)\n",
        "\n",
        "  psi_cln_sqr = f_psi_sqr(N,psi_cln)\n",
        "  psi_rnd_sqr = f_psi_sqr(N,psi_rnd)\n",
        "\n",
        "  return psi_cln_sqr, psi_rnd_sqr\n",
        "\n",
        "end"
      ],
      "execution_count": 22,
      "outputs": [
        {
          "output_type": "execute_result",
          "data": {
            "text/plain": [
              "GetRndResults_ij (generic function with 1 method)"
            ]
          },
          "metadata": {
            "tags": []
          },
          "execution_count": 22
        }
      ]
    },
    {
      "cell_type": "code",
      "metadata": {
        "colab": {
          "base_uri": "https://localhost:8080/",
          "height": 466
        },
        "id": "N7QUIi_gwSlo",
        "outputId": "bcd837ac-b2b4-4411-b3e0-0a8e3eed742a"
      },
      "source": [
        "# Illustrate the dataset.\n",
        "N = 4 \n",
        "depth = 38   #@param {type:\"slider\", min:1, max:50, step:1}\n",
        "qbit = 3  #@param {type:\"slider\", min:1, max:4, step:1}\n",
        "location = 38   #@param {type:\"slider\", min:1, max:100, step:1}\n",
        "\n",
        "nshots = 10000\n",
        "psi_cln_sqr, psi_rnd_sqr = GetRndResults_ij(N, depth,qbit,location)\n",
        "\n",
        "n = size(psi_cln_sqr)[2] # 2^n possible qubits\n",
        "q_index = 1:1:n[1]#index of QBITS\n",
        "i_temp = zeros(1, size(q_index)[1])\n",
        "\n",
        "str_title = \"N = $N, Qbit = $qbit, Depth = $depth, location = $location % \"\n",
        "plt.title(str_title)\n",
        "plt.scatter(q_index,0.0025.+i_temp,s=1000*psi_cln_sqr,label =\"clean\")\n",
        "plt.scatter(q_index,i_temp,s=1000*psi_rnd_sqr,color=\"tab:orange\",label =\"random\")\n",
        "plt.xticks([])\n",
        "plt.yticks([])\n",
        "plt.xlabel(\"Q BITS\")\n",
        "plt.ylim(-0.001,0.01)\n",
        "plt.legend()\n",
        "plt.show()"
      ],
      "execution_count": 23,
      "outputs": [
        {
          "output_type": "display_data",
          "data": {
            "image/png": "[encoded data removed]",
            "text/plain": [
              "Figure(PyObject <Figure size 640x480 with 1 Axes>)"
            ]
          },
          "metadata": {
            "tags": []
          }
        },
        {
          "output_type": "stream",
          "text": [
            "28"
          ],
          "name": "stdout"
        }
      ]
    },
    {
      "cell_type": "markdown",
      "metadata": {
        "id": "ujxfRnlM4Wdu"
      },
      "source": [
        "# Task 3 (incomplete)"
      ]
    },
    {
      "cell_type": "code",
      "metadata": {
        "colab": {
          "base_uri": "https://localhost:8080/"
        },
        "id": "oHqyOW13WDvz",
        "outputId": "3e10fc53-a6cd-48dd-8883-583d3e6676dc"
      },
      "source": [
        "# loop over different quantum random circuits and collect the probability\n",
        "function get_probabilites(N,depth,n_circuits,i)\n",
        "  # N --> number of qbits\n",
        "  # dpeth --> depth of the circuit\n",
        "  # n_circuits --> number of random circuits\n",
        "  # i --> index for the quantum state x\n",
        "\n",
        "  gates, psi = get_gates(N, depth)\n",
        "  # psi_sqr_all = f_psi_sqr(N,psi)#\n",
        "  psi_sqr_all = transpose(f_q_prob(N,psi,1000)) #\n",
        "\n",
        "  for i in 2:n_circuits\n",
        "    gates, psi = get_gates(N, depth)\n",
        "    # psi_sqr = f_psi_sqr(N,psi)\n",
        "    psi_sqr = transpose(f_q_prob(N,psi,1000))\n",
        "\n",
        "    psi_sqr_all = vcat(psi_sqr_all, psi_sqr)\n",
        "  end\n",
        "  psi_sqr_all = transpose(psi_sqr_all) # (2^N, #circuits)\n",
        "  q_i_prob = psi_sqr_all[i,:]\n",
        "\n",
        "  return sort(q_i_prob)\n",
        "end"
      ],
      "execution_count": 24,
      "outputs": [
        {
          "output_type": "execute_result",
          "data": {
            "text/plain": [
              "get_probabilites (generic function with 1 method)"
            ]
          },
          "metadata": {
            "tags": []
          },
          "execution_count": 24
        }
      ]
    },
    {
      "cell_type": "markdown",
      "metadata": {
        "id": "mXDRU87rfhrT"
      },
      "source": [
        "# cumulative distribution: \n",
        "\\begin{eqnarray}\n",
        "1 - e^{-2^{N}p}\n",
        "\\end{eqnarray}\n"
      ]
    },
    {
      "cell_type": "code",
      "metadata": {
        "colab": {
          "base_uri": "https://localhost:8080/"
        },
        "id": "QwPITyByfYXy",
        "outputId": "a74e88d6-b6e1-4c6c-e1cc-e7d32afb2038"
      },
      "source": [
        "function f_cdf(N,probs)\n",
        "  return 1. .- exp.((-(2^N)).*probs)\n",
        "end "
      ],
      "execution_count": 25,
      "outputs": [
        {
          "output_type": "execute_result",
          "data": {
            "text/plain": [
              "f_cdf (generic function with 1 method)"
            ]
          },
          "metadata": {
            "tags": []
          },
          "execution_count": 25
        }
      ]
    },
    {
      "cell_type": "markdown",
      "metadata": {
        "id": "DMHvjTEXgICN"
      },
      "source": [
        "The change of the cumulative distribution for N qbits as a funciton of the depth of the random circuits."
      ]
    },
    {
      "cell_type": "code",
      "metadata": {
        "colab": {
          "base_uri": "https://localhost:8080/",
          "height": 867
        },
        "id": "qUakvEqubOE2",
        "outputId": "48055647-1ea0-47e6-8951-a1d5352b4ce8"
      },
      "source": [
        "N = 3\n",
        "n_circuits = 1000\n",
        "\n",
        "q_i_prob_1 = get_probabilites(N,10,n_circuits,2)\n",
        "\n",
        "calc_cdf_1 = f_cdf(N,q_i_prob_1)\n",
        "\n",
        "# cdf_1 = cumsum(q_i_prob_1)#/sum(q_i_prob_1)\n",
        "count, bins_count = plt.hist(q_i_prob_1, bins=1000)\n",
        "pdf = count / sum(count)\n",
        "cdf = cumsum(pdf)\n",
        "\n",
        "#n, bins, patches = plt.hist(q_i_prob, 50)\n",
        "#plt.show()\n",
        "\n",
        "fig, ax = plt.subplots(1, 1)\n",
        "ax.plot(q_i_prob_1,calc_cdf_1,ls=\"--\",color=\"k\",label = \"Exact\")\n",
        "ax.scatter(count,cdf,label = \"Depth = 1\")\n",
        "\n",
        "ax.set_xlabel(\"p\")\n",
        "ax.set_ylabel(\"cdf\")\n",
        "ax.set_xscale(\"log\")\n",
        "plt.legend()\n",
        "plt.show()"
      ],
      "execution_count": 26,
      "outputs": [
        {
          "output_type": "display_data",
          "data": {
            "image/png": "[encoded data removed]",
            "text/plain": [
              "Figure(PyObject <Figure size 640x480 with 1 Axes>)"
            ]
          },
          "metadata": {
            "tags": []
          }
        },
        {
          "output_type": "display_data",
          "data": {
            "image/png": "[encoded data removed]",
            "text/plain": [
              "Figure(PyObject <Figure size 640x480 with 1 Axes>)"
            ]
          },
          "metadata": {
            "tags": []
          }
        }
      ]
    },
    {
      "cell_type": "code",
      "metadata": {
        "colab": {
          "base_uri": "https://localhost:8080/",
          "height": 299
        },
        "id": "ohQYMC2ztVlM",
        "outputId": "bd2a0fd3-334e-48f2-8094-67121ae03821"
      },
      "source": [
        "p = range(0.001,1.,length=100)\n",
        "\n",
        "cdf = f_cdf(8,p)\n",
        "\n",
        "plt.plot(p,cdf)\n",
        "plt.xcale(\"log\")\n",
        "plt.show()"
      ],
      "execution_count": 27,
      "outputs": [
        {
          "output_type": "error",
          "ename": "LoadError",
          "evalue": "ignored",
          "traceback": [
            "KeyError: key :xcale not found",
            "",
            "Stacktrace:",
            " [1] __getproperty(o::PyCall.PyObject, s::Symbol)",
            "   @ PyCall ~/.julia/packages/PyCall/BD546/src/PyCall.jl:307",
            " [2] getproperty(o::PyCall.PyObject, s::Symbol)",
            "   @ PyCall ~/.julia/packages/PyCall/BD546/src/PyCall.jl:312",
            " [3] top-level scope",
            "   @ In[27]:6",
            " [4] eval",
            "   @ ./boot.jl:360 [inlined]",
            " [5] include_string(mapexpr::typeof(REPL.softscope), mod::Module, code::String, filename::String)",
            "   @ Base ./loading.jl:1094"
          ]
        }
      ]
    },
    {
      "cell_type": "markdown",
      "metadata": {
        "id": "KUpKB2md7RAu"
      },
      "source": [
        "# Task 4"
      ]
    },
    {
      "cell_type": "markdown",
      "metadata": {
        "id": "00Hapt4w7UDq"
      },
      "source": [
        "Modified version of the original `get_gates` that accounts for the $\\Delta \\theta$."
      ]
    },
    {
      "cell_type": "code",
      "metadata": {
        "colab": {
          "base_uri": "https://localhost:8080/"
        },
        "id": "9fCbh8GJ-i4-",
        "outputId": "fd4ce3aa-a45f-4ad3-a3d9-e0f5a20c5abd"
      },
      "source": [
        "gates, psi = get_gates(3,10)\n",
        "for gd in gates\n",
        "  for g in gd\n",
        "    println(g)\n",
        "  end\n",
        "end"
      ],
      "execution_count": 29,
      "outputs": [
        {
          "output_type": "stream",
          "text": [
            "(\"R\", 1, (theta = 1.680332012059107, phi = 5.101876695383486))\n",
            "(\"R\", 2, (theta = 2.8349745511070124, phi = 5.272171271769582))\n",
            "(\"R\", 3, (theta = 3.542243425148906, phi = 1.8667605452584093))\n",
            "(\"M\", (2, 3), (Theta = 5.47477009884439,))\n",
            "(\"R\", 1, (theta = 3.600959618056007, phi = 1.4682835251809065))\n",
            "(\"R\", 2, (theta = 2.226519330367104, phi = 0.5899657809882526))\n",
            "(\"R\", 3, (theta = 3.1029139148148626, phi = 1.1248055190626787))\n",
            "(\"M\", (1, 2), (Theta = 4.833774017324976,))\n",
            "(\"R\", 1, (theta = 1.6577178942649367, phi = 4.273823818713168))\n",
            "(\"R\", 2, (theta = 2.586228053243237, phi = 5.47339786514398))\n",
            "(\"R\", 3, (theta = 0.18020174260717728, phi = 2.524079849059495))\n",
            "(\"M\", (2, 3), (Theta = 3.00379357063881,))\n",
            "(\"R\", 1, (theta = 2.3305161911486327, phi = 5.6698545043913855))\n",
            "(\"R\", 2, (theta = 3.722244409787253, phi = 4.2658876064196285))\n",
            "(\"R\", 3, (theta = 0.9920986024604588, phi = 3.2330301551312273))\n",
            "(\"M\", (1, 2), (Theta = 3.860368964729847,))\n",
            "(\"R\", 1, (theta = 0.48758582137087075, phi = 4.826551272016391))\n",
            "(\"R\", 2, (theta = 6.280597721177329, phi = 0.5155179604810544))\n",
            "(\"R\", 3, (theta = 5.636334444783781, phi = 5.80265107655306))\n",
            "(\"M\", (2, 3), (Theta = 1.1609561350333764,))\n",
            "(\"R\", 1, (theta = 0.23299703541833813, phi = 0.9178779065811241))\n",
            "(\"R\", 2, (theta = 3.490097789501233, phi = 4.10033146724191))\n",
            "(\"R\", 3, (theta = 1.8244513943398537, phi = 0.9146983422401095))\n",
            "(\"M\", (1, 2), (Theta = 3.5032905866446837,))\n",
            "(\"R\", 1, (theta = 3.6547116823904084, phi = 2.9090632558697154))\n",
            "(\"R\", 2, (theta = 4.5337341233759485, phi = 2.24449156738102))\n",
            "(\"R\", 3, (theta = 3.2480566950707606, phi = 1.941211449413588))\n",
            "(\"M\", (2, 3), (Theta = 2.6346083827664706,))\n",
            "(\"R\", 1, (theta = 0.3458883997608901, phi = 1.5691974741920172))\n",
            "(\"R\", 2, (theta = 1.2066024633833081, phi = 5.424769582142628))\n",
            "(\"R\", 3, (theta = 3.0685402930693084, phi = 2.4299400566986598))\n",
            "(\"M\", (1, 2), (Theta = 1.4570602824567656,))\n",
            "(\"R\", 1, (theta = 1.5813607012888278, phi = 2.1227545707376074))\n",
            "(\"R\", 2, (theta = 5.14738239466224, phi = 3.011162409736804))\n",
            "(\"R\", 3, (theta = 3.6867872781010242, phi = 5.9571103469674105))\n",
            "(\"M\", (2, 3), (Theta = 5.785466645514275,))\n",
            "(\"R\", 1, (theta = 4.124714971685233, phi = 2.8248543690370997))\n",
            "(\"R\", 2, (theta = 2.810892711444059, phi = 5.782154087881731))\n",
            "(\"R\", 3, (theta = 1.8427455323095134, phi = 3.900884474119884))\n",
            "(\"M\", (1, 2), (Theta = 4.928486523712948,))\n"
          ],
          "name": "stdout"
        }
      ]
    },
    {
      "cell_type": "code",
      "metadata": {
        "id": "0nzuJCTm7TWz"
      },
      "source": [
        "function get_gates(N, depth, d_theta)\n",
        "    # Random circuit.\n",
        "    gates = Vector{Tuple}[]\n",
        "    gates_dtheta = Vector{Tuple}[]\n",
        "\n",
        "    for i in 1:depth\n",
        "        one_qubit_layer = Tuple[]\n",
        "        two_qubit_layer = Tuple[]\n",
        "        two_qubit_layer_d_theta = Tuple[]\n",
        "\n",
        "        for j in 1:N\n",
        "            gate = (\"R\", j, (theta=2pi*rand(), phi=2pi*rand()))\n",
        "            push!(one_qubit_layer, gate)\n",
        "        end\n",
        "\n",
        "        # Alternate start qubit for pairs.\n",
        "        idx_first = i % 2 + 1\n",
        "\n",
        "        for j in idx_first:2:(N-1)\n",
        "            gate = (\"M\", (j, j+1), (Theta=2pi*rand()+ d_theta,))\n",
        "            push!(two_qubit_layer, gate)\n",
        "        end\n",
        "\n",
        "        push!(gates, one_qubit_layer)\n",
        "        push!(gates, two_qubit_layer)\n",
        "    end\n",
        "\n",
        "    psi = runcircuit(N, gates)\n",
        "    return gates, psi\n",
        "end"
      ],
      "execution_count": null,
      "outputs": []
    }
  ]
}