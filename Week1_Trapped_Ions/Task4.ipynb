{
 "cells": [
  {
   "cell_type": "markdown",
   "metadata": {
    "collapsed": true,
    "pycharm": {
     "name": "#%% md\n"
    }
   },
   "source": [
    "## Week 1. Trapped Ions - Task 4\n",
    "Author: QuNovaComputing, Inc.\n",
    "- - -\n",
    "\n",
    "In this task, we demonstrate the effect of the systematic two qubit gate error.\n",
    "Fixing the RQC parameters, perturb the two qubit gate angle by fixed amount, $\\Delta\\Theta$,\n",
    "we calculate the cross entropy benchmark fidelity, $F_{XEB}$ between the noisy cases ($|\\Delta\\Theta| > 0$) and the ideal case.\n",
    "\n",
    "For the system with large number of qubits, the number of sampling is very small compare to the number of computational basis,\n",
    "\n",
    "$$ S \\ll 2^N $$\n",
    "\n",
    "we forgo the list structure for the histogram result with length of $2^N$ which will be very sparse, instead, dictionary structure is utilized.\n",
    "So we import the function `get_xeb_from_hist_large` which calculate the fidelity for histograms in dictionary forms."
   ]
  },
  {
   "cell_type": "code",
   "execution_count": 52,
   "outputs": [],
   "source": [
    "import pickle\n",
    "import matplotlib.pyplot as plt\n",
    "\n",
    "from Week1_Trapped_Ions.utils import get_xeb_from_hist_large"
   ],
   "metadata": {
    "collapsed": false,
    "pycharm": {
     "name": "#%%\n"
    }
   }
  },
  {
   "cell_type": "markdown",
   "source": [
    "As we did in the Task 3, we pre-executed the simulations and stored to the file by running `./task4_simulation.py`.\n",
    "So here, we simply load the data from the file."
   ],
   "metadata": {
    "collapsed": false,
    "pycharm": {
     "name": "#%% md\n"
    }
   }
  },
  {
   "cell_type": "code",
   "execution_count": 53,
   "outputs": [],
   "source": [
    "log_file = \"task4_simulation_result_large.txt\"\n",
    "with open(log_file, 'rb') as of:\n",
    "    rd_file = pickle.load(of)\n",
    "    num_qubits = rd_file['num_qubits']\n",
    "    depth = rd_file['depth']\n",
    "    num_shots = rd_file['num_shots']\n",
    "    data = rd_file['data']\n",
    "delta_thetas = [dt for dt in data]"
   ],
   "metadata": {
    "collapsed": false,
    "pycharm": {
     "name": "#%%\n"
    }
   }
  },
  {
   "cell_type": "markdown",
   "source": [
    "Check the data included in the file.."
   ],
   "metadata": {
    "collapsed": false,
    "pycharm": {
     "name": "#%% md\n"
    }
   }
  },
  {
   "cell_type": "code",
   "execution_count": 54,
   "outputs": [
    {
     "name": "stdout",
     "output_type": "stream",
     "text": [
      "num_qubits = 15\n",
      "depth = 1024\n",
      "num_shots = 5000\n",
      "Delta Theta list = ] ... 0.15393804002589973]\n",
      "(total 100 delta thetas)\n",
      "histograms :\n",
      "Delta Theta = -0.15707963267948966 : \n",
      "\t{\n",
      "\t\t 101000100100101: 0.0002\n",
      "\t\t 110001101100100: 0.0002\n",
      "\t\t 110100011010000: 0.0004\n",
      "\t\t 111011010011011: 0.0002\n",
      "\t\t...\n",
      "\t}\n",
      "Delta Theta = -0.15393804002589986 : \n",
      "\t{\n",
      "\t\t 011100110101111: 0.0002\n",
      "\t\t 001010011111001: 0.0002\n",
      "\t\t 001000110111001: 0.0004\n",
      "\t\t 011010001000100: 0.0002\n",
      "\t\t...\n",
      "\t}\n",
      "Delta Theta = -0.15079644737231007 : \n",
      "\t{\n",
      "\t\t 000011110101010: 0.0002\n",
      "\t\t 100000011011001: 0.0006000000000000001\n",
      "\t\t 100101100011011: 0.0004\n",
      "\t\t 111000101001010: 0.0002\n",
      "\t\t...\n",
      "\t}\n",
      "Delta Theta = -0.14765485471872028 : \n",
      "\t{\n",
      "\t\t 110110101000010: 0.0002\n",
      "\t\t 000000001101100: 0.0002\n",
      "\t\t 010110011111100: 0.0002\n",
      "\t\t 101110010010000: 0.0002\n",
      "\t\t...\n",
      "\t}\n",
      "... 100 histograms\n"
     ]
    }
   ],
   "source": [
    "print(f\"num_qubits = {num_qubits}\")\n",
    "print(f\"depth = {depth}\")\n",
    "print(f\"num_shots = {num_shots}\")\n",
    "print(f\"Delta Theta list = {str(delta_thetas[:3])[-1]} ... {delta_thetas[-1]}]\")\n",
    "print(f\"(total {len(delta_thetas)} delta thetas)\")\n",
    "print(\"histograms :\")\n",
    "for i, dt in enumerate(data):\n",
    "    hist = data[dt]\n",
    "    print(f\"Delta Theta = {dt} : \")\n",
    "    print(\"\\t{\")\n",
    "    for j, k in enumerate(hist):\n",
    "        print(f\"\\t\\t {'{0:b}'.format(k).rjust(num_qubits, '0')}: {hist[k]}\")\n",
    "        if j > 2:\n",
    "            break\n",
    "    print(\"\\t\\t...\")\n",
    "    print(\"\\t}\")\n",
    "    if i > 2:\n",
    "        break\n",
    "print(f\"... {len(delta_thetas)} histograms\")"
   ],
   "metadata": {
    "collapsed": false,
    "pycharm": {
     "name": "#%%\n"
    }
   }
  },
  {
   "cell_type": "markdown",
   "source": [
    "For each $\\Delta \\Theta$, calculate the cross entropy fidelity."
   ],
   "metadata": {
    "collapsed": false,
    "pycharm": {
     "name": "#%% md\n"
    }
   }
  },
  {
   "cell_type": "code",
   "execution_count": 55,
   "outputs": [],
   "source": [
    "f_xebs = [get_xeb_from_hist_large(data[dt], data[0], num_qubits) for dt in data]"
   ],
   "metadata": {
    "collapsed": false,
    "pycharm": {
     "name": "#%%\n"
    }
   }
  },
  {
   "cell_type": "markdown",
   "source": [
    "Make a plot for $F_{XEB}$ versus $\\Delta\\Theta$ in radian."
   ],
   "metadata": {
    "collapsed": false,
    "pycharm": {
     "name": "#%% md\n"
    }
   }
  },
  {
   "cell_type": "code",
   "execution_count": 56,
   "outputs": [
    {
     "data": {
      "text/plain": "[<matplotlib.lines.Line2D at 0x7f002667f2e0>]"
     },
     "execution_count": 56,
     "metadata": {},
     "output_type": "execute_result"
    },
    {
     "data": {
      "text/plain": "<Figure size 432x288 with 1 Axes>",
      "image/png": "[encoded data removed]"
     },
     "metadata": {
      "needs_background": "light"
     },
     "output_type": "display_data"
    }
   ],
   "source": [
    "plt.plot(delta_thetas, f_xebs)"
   ],
   "metadata": {
    "collapsed": false,
    "pycharm": {
     "name": "#%%\n"
    }
   }
  }
 ],
 "metadata": {
  "kernelspec": {
   "display_name": "Python 3",
   "language": "python",
   "name": "python3"
  },
  "language_info": {
   "codemirror_mode": {
    "name": "ipython",
    "version": 2
   },
   "file_extension": ".py",
   "mimetype": "text/x-python",
   "name": "python",
   "nbconvert_exporter": "python",
   "pygments_lexer": "ipython2",
   "version": "2.7.6"
  }
 },
 "nbformat": 4,
 "nbformat_minor": 0
}