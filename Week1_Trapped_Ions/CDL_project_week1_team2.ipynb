{
  "nbformat": 4,
  "nbformat_minor": 5,
  "metadata": {
    "kernelspec": {
      "display_name": "Python [conda env:ForeQast_1] *",
      "language": "python",
      "name": "conda-env-ForeQast_1-py"
    },
    "language_info": {
      "codemirror_mode": {
        "name": "ipython",
        "version": 3
      },
      "file_extension": ".py",
      "mimetype": "text/x-python",
      "name": "python",
      "nbconvert_exporter": "python",
      "pygments_lexer": "ipython3",
      "version": "3.8.10"
    },
    "colab": {
      "name": "CDL-project-week1-team2.ipynb",
      "provenance": [],
      "collapsed_sections": [
        "IE_XvvLv9556",
        "js_epdhJ99Zh"
      ],
      "include_colab_link": true
    }
  },
  "cells": [
    {
      "cell_type": "markdown",
      "metadata": {
        "id": "view-in-github",
        "colab_type": "text"
      },
      "source": [
        "<a href=\"https://colab.research.google.com/github/alice4space/CohortProject_2021/blob/week1/Week1_Trapped_Ions/CDL_project_week1_team2.ipynb\" target=\"_parent\"><img src=\"https://colab.research.google.com/assets/colab-badge.svg\" alt=\"Open In Colab\"/></a>"
      ]
    },
    {
      "cell_type": "markdown",
      "metadata": {
        "id": "jictZTxf7yGI"
      },
      "source": [
        "## **Initialisation**"
      ],
      "id": "jictZTxf7yGI"
    },
    {
      "cell_type": "markdown",
      "metadata": {
        "id": "IE_XvvLv9556"
      },
      "source": [
        "### installs"
      ],
      "id": "IE_XvvLv9556"
    },
    {
      "cell_type": "code",
      "metadata": {
        "id": "-KtFC0DhPH7b"
      },
      "source": [
        "from IPython.display import clear_output"
      ],
      "id": "-KtFC0DhPH7b",
      "execution_count": 18,
      "outputs": []
    },
    {
      "cell_type": "code",
      "metadata": {
        "id": "8ab57708",
        "colab": {
          "base_uri": "https://localhost:8080/"
        },
        "outputId": "cc222813-2fd7-4493-8e54-1699aaf77727"
      },
      "source": [
        "!pip install qiskit\n",
        "clear_output(wait=True)"
      ],
      "id": "8ab57708",
      "execution_count": 19,
      "outputs": [
        {
          "output_type": "stream",
          "text": [
            "Requirement already satisfied: qiskit in /usr/local/lib/python3.7/dist-packages (0.27.0)\n",
            "Requirement already satisfied: qiskit-ibmq-provider==0.14.0 in /usr/local/lib/python3.7/dist-packages (from qiskit) (0.14.0)\n",
            "Requirement already satisfied: qiskit-aer==0.8.2 in /usr/local/lib/python3.7/dist-packages (from qiskit) (0.8.2)\n",
            "Requirement already satisfied: qiskit-terra==0.17.4 in /usr/local/lib/python3.7/dist-packages (from qiskit) (0.17.4)\n",
            "Requirement already satisfied: qiskit-aqua==0.9.2 in /usr/local/lib/python3.7/dist-packages (from qiskit) (0.9.2)\n",
            "Requirement already satisfied: qiskit-ignis==0.6.0 in /usr/local/lib/python3.7/dist-packages (from qiskit) (0.6.0)\n",
            "Requirement already satisfied: requests>=2.19 in /usr/local/lib/python3.7/dist-packages (from qiskit-ibmq-provider==0.14.0->qiskit) (2.23.0)\n",
            "Requirement already satisfied: urllib3>=1.21.1 in /usr/local/lib/python3.7/dist-packages (from qiskit-ibmq-provider==0.14.0->qiskit) (1.24.3)\n",
            "Requirement already satisfied: websocket-client>=1.0.1 in /usr/local/lib/python3.7/dist-packages (from qiskit-ibmq-provider==0.14.0->qiskit) (1.1.0)\n",
            "Requirement already satisfied: dill>=0.3 in /usr/local/lib/python3.7/dist-packages (from qiskit-ibmq-provider==0.14.0->qiskit) (0.3.4)\n",
            "Requirement already satisfied: python-dateutil>=2.8.0 in /usr/local/lib/python3.7/dist-packages (from qiskit-ibmq-provider==0.14.0->qiskit) (2.8.1)\n",
            "Requirement already satisfied: numpy>=1.13 in /usr/local/lib/python3.7/dist-packages (from qiskit-ibmq-provider==0.14.0->qiskit) (1.19.5)\n",
            "Requirement already satisfied: requests-ntlm>=1.1.0 in /usr/local/lib/python3.7/dist-packages (from qiskit-ibmq-provider==0.14.0->qiskit) (1.1.0)\n",
            "Requirement already satisfied: scipy>=1.0 in /usr/local/lib/python3.7/dist-packages (from qiskit-aer==0.8.2->qiskit) (1.4.1)\n",
            "Requirement already satisfied: pybind11>=2.6 in /usr/local/lib/python3.7/dist-packages (from qiskit-aer==0.8.2->qiskit) (2.6.2)\n",
            "Requirement already satisfied: python-constraint>=1.4 in /usr/local/lib/python3.7/dist-packages (from qiskit-terra==0.17.4->qiskit) (1.4.0)\n",
            "Requirement already satisfied: psutil>=5 in /usr/local/lib/python3.7/dist-packages (from qiskit-terra==0.17.4->qiskit) (5.4.8)\n",
            "Requirement already satisfied: sympy>=1.3 in /usr/local/lib/python3.7/dist-packages (from qiskit-terra==0.17.4->qiskit) (1.7.1)\n",
            "Requirement already satisfied: fastjsonschema>=2.10 in /usr/local/lib/python3.7/dist-packages (from qiskit-terra==0.17.4->qiskit) (2.15.1)\n",
            "Requirement already satisfied: retworkx>=0.8.0 in /usr/local/lib/python3.7/dist-packages (from qiskit-terra==0.17.4->qiskit) (0.9.0)\n",
            "Requirement already satisfied: jsonschema>=2.6 in /usr/local/lib/python3.7/dist-packages (from qiskit-terra==0.17.4->qiskit) (2.6.0)\n",
            "Requirement already satisfied: ply>=3.10 in /usr/local/lib/python3.7/dist-packages (from qiskit-terra==0.17.4->qiskit) (3.11)\n",
            "Requirement already satisfied: h5py in /usr/local/lib/python3.7/dist-packages (from qiskit-aqua==0.9.2->qiskit) (3.1.0)\n",
            "Requirement already satisfied: setuptools>=40.1.0 in /usr/local/lib/python3.7/dist-packages (from qiskit-aqua==0.9.2->qiskit) (57.0.0)\n",
            "Requirement already satisfied: docplex<=2.20.204; sys_platform != \"darwin\" in /usr/local/lib/python3.7/dist-packages (from qiskit-aqua==0.9.2->qiskit) (2.20.204)\n",
            "Requirement already satisfied: scikit-learn>=0.20.0 in /usr/local/lib/python3.7/dist-packages (from qiskit-aqua==0.9.2->qiskit) (0.22.2.post1)\n",
            "Requirement already satisfied: dlx<=1.0.4 in /usr/local/lib/python3.7/dist-packages (from qiskit-aqua==0.9.2->qiskit) (1.0.4)\n",
            "Requirement already satisfied: pandas in /usr/local/lib/python3.7/dist-packages (from qiskit-aqua==0.9.2->qiskit) (1.1.5)\n",
            "Requirement already satisfied: quandl in /usr/local/lib/python3.7/dist-packages (from qiskit-aqua==0.9.2->qiskit) (3.6.1)\n",
            "Requirement already satisfied: yfinance in /usr/local/lib/python3.7/dist-packages (from qiskit-aqua==0.9.2->qiskit) (0.1.63)\n",
            "Requirement already satisfied: fastdtw<=0.3.4 in /usr/local/lib/python3.7/dist-packages (from qiskit-aqua==0.9.2->qiskit) (0.3.4)\n",
            "Requirement already satisfied: idna<3,>=2.5 in /usr/local/lib/python3.7/dist-packages (from requests>=2.19->qiskit-ibmq-provider==0.14.0->qiskit) (2.10)\n",
            "Requirement already satisfied: certifi>=2017.4.17 in /usr/local/lib/python3.7/dist-packages (from requests>=2.19->qiskit-ibmq-provider==0.14.0->qiskit) (2021.5.30)\n",
            "Requirement already satisfied: chardet<4,>=3.0.2 in /usr/local/lib/python3.7/dist-packages (from requests>=2.19->qiskit-ibmq-provider==0.14.0->qiskit) (3.0.4)\n",
            "Requirement already satisfied: six>=1.5 in /usr/local/lib/python3.7/dist-packages (from python-dateutil>=2.8.0->qiskit-ibmq-provider==0.14.0->qiskit) (1.15.0)\n",
            "Requirement already satisfied: ntlm-auth>=1.0.2 in /usr/local/lib/python3.7/dist-packages (from requests-ntlm>=1.1.0->qiskit-ibmq-provider==0.14.0->qiskit) (1.5.0)\n",
            "Requirement already satisfied: cryptography>=1.3 in /usr/local/lib/python3.7/dist-packages (from requests-ntlm>=1.1.0->qiskit-ibmq-provider==0.14.0->qiskit) (3.4.7)\n",
            "Requirement already satisfied: mpmath>=0.19 in /usr/local/lib/python3.7/dist-packages (from sympy>=1.3->qiskit-terra==0.17.4->qiskit) (1.2.1)\n",
            "Requirement already satisfied: cached-property; python_version < \"3.8\" in /usr/local/lib/python3.7/dist-packages (from h5py->qiskit-aqua==0.9.2->qiskit) (1.5.2)\n",
            "Requirement already satisfied: joblib>=0.11 in /usr/local/lib/python3.7/dist-packages (from scikit-learn>=0.20.0->qiskit-aqua==0.9.2->qiskit) (1.0.1)\n",
            "Requirement already satisfied: pytz>=2017.2 in /usr/local/lib/python3.7/dist-packages (from pandas->qiskit-aqua==0.9.2->qiskit) (2018.9)\n",
            "Requirement already satisfied: inflection>=0.3.1 in /usr/local/lib/python3.7/dist-packages (from quandl->qiskit-aqua==0.9.2->qiskit) (0.5.1)\n",
            "Requirement already satisfied: more-itertools in /usr/local/lib/python3.7/dist-packages (from quandl->qiskit-aqua==0.9.2->qiskit) (8.8.0)\n",
            "Requirement already satisfied: multitasking>=0.0.7 in /usr/local/lib/python3.7/dist-packages (from yfinance->qiskit-aqua==0.9.2->qiskit) (0.0.9)\n",
            "Requirement already satisfied: lxml>=4.5.1 in /usr/local/lib/python3.7/dist-packages (from yfinance->qiskit-aqua==0.9.2->qiskit) (4.6.3)\n",
            "Requirement already satisfied: cffi>=1.12 in /usr/local/lib/python3.7/dist-packages (from cryptography>=1.3->requests-ntlm>=1.1.0->qiskit-ibmq-provider==0.14.0->qiskit) (1.14.5)\n",
            "Requirement already satisfied: pycparser in /usr/local/lib/python3.7/dist-packages (from cffi>=1.12->cryptography>=1.3->requests-ntlm>=1.1.0->qiskit-ibmq-provider==0.14.0->qiskit) (2.20)\n"
          ],
          "name": "stdout"
        }
      ]
    },
    {
      "cell_type": "markdown",
      "metadata": {
        "id": "6lcDVdnT97rq"
      },
      "source": [
        "### imports"
      ],
      "id": "6lcDVdnT97rq"
    },
    {
      "cell_type": "code",
      "metadata": {
        "id": "3ae88350"
      },
      "source": [
        "from qiskit import QuantumCircuit\n",
        "from qiskit import transpile\n",
        "from qiskit.providers.aer import AerSimulator"
      ],
      "id": "3ae88350",
      "execution_count": 20,
      "outputs": []
    },
    {
      "cell_type": "code",
      "metadata": {
        "id": "pRlqKpwy78sk"
      },
      "source": [
        "import matplotlib.pyplot as plt\n",
        "import numpy as np\n",
        "import random"
      ],
      "id": "pRlqKpwy78sk",
      "execution_count": 38,
      "outputs": []
    },
    {
      "cell_type": "code",
      "metadata": {
        "id": "a46-VUaSVH77"
      },
      "source": [
        "from IPython.display import HTML"
      ],
      "id": "a46-VUaSVH77",
      "execution_count": 22,
      "outputs": []
    },
    {
      "cell_type": "markdown",
      "metadata": {
        "id": "js_epdhJ99Zh"
      },
      "source": [
        "### functions"
      ],
      "id": "js_epdhJ99Zh"
    },
    {
      "cell_type": "code",
      "metadata": {
        "id": "5ob22_hi-CKh"
      },
      "source": [
        "def plot_dots(values):\n",
        "  xs = np.array(range(len(values)))\n",
        "  ys = 0*xs\n",
        "  ss = values\n",
        "  plt.scatter(xs,ys,s=ss,c=\"red\")"
      ],
      "id": "5ob22_hi-CKh",
      "execution_count": 23,
      "outputs": []
    },
    {
      "cell_type": "code",
      "metadata": {
        "id": "bSQ-kZ6l-zFm"
      },
      "source": [
        "#rgate layer\n",
        "def addRgate(circuit,thetas,phis):\n",
        "  N = circuit.num_qubits\n",
        "  for i in range(N):\n",
        "    circuit.u(thetas[i], phis[i], 0,i)\n",
        "  return circuit"
      ],
      "id": "bSQ-kZ6l-zFm",
      "execution_count": 24,
      "outputs": []
    },
    {
      "cell_type": "code",
      "metadata": {
        "id": "3mgN3RwQAbcx"
      },
      "source": [
        "#mgate layer\n",
        "def addMgate(circuit,idx_first,psis):\n",
        "  N = circuit.num_qubits\n",
        "  for i in range(idx_first,(N-1),2):\n",
        "    circuit.rxx(psis[i],i,i+1)\n",
        "  return circuit"
      ],
      "id": "3mgN3RwQAbcx",
      "execution_count": 25,
      "outputs": []
    },
    {
      "cell_type": "code",
      "metadata": {
        "id": "tQWkkOoj-SLv"
      },
      "source": [
        "def random_circuit(numQbits, depth, thetas = None, phis = None, psis = None):\n",
        "  circuit = QuantumCircuit(numQbits)\n",
        "  if thetas is None:\n",
        "    thetas= np.random.rand(numQbits,depth)*2*np.pi\n",
        "  if phis is None:\n",
        "    phis= np.random.rand(numQbits,depth)*2*np.pi\n",
        "  if psis is None:\n",
        "    psis= np.random.rand(numQbits,depth)*2*np.pi\n",
        "  \n",
        "  for d in range(depth):\n",
        "    circuit = addRgate(circuit,thetas[:,d],phis[:,d])\n",
        "    circuit = addMgate(circuit,d % 2 + 1,psis[:,d])\n",
        "  circuit.measure_all()\n",
        "  return circuit"
      ],
      "id": "tQWkkOoj-SLv",
      "execution_count": 26,
      "outputs": []
    },
    {
      "cell_type": "code",
      "metadata": {
        "id": "5BhX5Y48BxdO"
      },
      "source": [
        "def generate_speckle(circuit,plotSpeckle=True,shots=1024):\n",
        "  # Select the AerSimulator from the Aer provider\n",
        "  simulator = AerSimulator(method='matrix_product_state')\n",
        "\n",
        "  # Execute the quantum circuit\n",
        "  tcirc = transpile(circuit, simulator)\n",
        "  result = simulator.run(tcirc,shots=shots).result()\n",
        "  # Obtain the counts for each measured state\n",
        "  counts=result.get_counts()\n",
        "\n",
        "  values = counts_to_ordered(counts)\n",
        "  \n",
        "  #plot speckle\n",
        "  if plotSpeckle ==True:\n",
        "    plot_dots(values)\n",
        "\n",
        "  return values"
      ],
      "id": "5BhX5Y48BxdO",
      "execution_count": 27,
      "outputs": []
    },
    {
      "cell_type": "code",
      "metadata": {
        "id": "x_IAyJeoaGmg"
      },
      "source": [
        "def counts_to_ordered(counts):\n",
        "  keys = list(counts.keys())\n",
        "  values = list(counts.values())\n",
        "  numQbits= len(keys[0])\n",
        "  A = np.zeros(2**numQbits)\n",
        "  for k,v in zip(keys,values):\n",
        "    A[int(k,2)]=v\n",
        "  return A"
      ],
      "id": "x_IAyJeoaGmg",
      "execution_count": 28,
      "outputs": []
    },
    {
      "cell_type": "code",
      "metadata": {
        "id": "TjvUuIITEnWv"
      },
      "source": [
        "def circuit_bitflip(circuit):\n",
        "  N = circuit.num_qubits\n",
        "  num_gates = len(circuit.data)\n",
        "  qbit_noise = random.choice(range(N))\n",
        "  position_noise = random.choice(range(num_gates))\n",
        "  circuit.x(qbit_noise)\n",
        "  xgate = circuit.data[-1]\n",
        "  del circuit.data[-1]\n",
        "  circuit.data.insert(position_noise,xgate)\n",
        "  return circuit"
      ],
      "id": "TjvUuIITEnWv",
      "execution_count": 29,
      "outputs": []
    },
    {
      "cell_type": "code",
      "metadata": {
        "id": "3bvF-J_NqmWE"
      },
      "source": [
        "def ideal_distribution(numQbit):\n",
        "  N = 2**numQbit\n",
        "  logps = np.arange(0,3,0.1)\n",
        "  ps = 10**-logps\n",
        "  A = 1-np.exp(-N*ps)\n",
        "  plt.semilogx(ps,A,'k',label='ideal')\n",
        "  return A"
      ],
      "id": "3bvF-J_NqmWE",
      "execution_count": 30,
      "outputs": []
    },
    {
      "cell_type": "code",
      "metadata": {
        "id": "GrkwBRizUezj"
      },
      "source": [
        "def p_distrib(numQbit,depth,numSample = 32,shots=32768,plotResults = True):\n",
        "  \n",
        "  #simulate random circuits\n",
        "  values = np.zeros((2**numQbit,numSample))\n",
        "  for s in range(numSample):\n",
        "    circuit = random_circuit(numQbit,depth)\n",
        "    values[:,s] = generate_speckle(circuit,plotSpeckle=False,shots=shots);\n",
        "  \n",
        "  #cum distribution\n",
        "  values = values/shots\n",
        "  values_flat_sort = np.sort(values.flatten())\n",
        "\n",
        "  #plot results\n",
        "  if plotResults == True:\n",
        "    label = 'd = ' + str(depth) + ', n = ' + str(numQbit)\n",
        "    plot_cdf(values_flat_sort, label = label)\n",
        "\n",
        "  return values"
      ],
      "id": "GrkwBRizUezj",
      "execution_count": 31,
      "outputs": []
    },
    {
      "cell_type": "code",
      "metadata": {
        "id": "JggdZ5CEMzO2"
      },
      "source": [
        "def plot_cdf(values_sorted, label= ''):\n",
        "    n_samples = values_sorted.size\n",
        "    ys = np.arange(n_samples)/n_samples\n",
        "    xs = values_sorted\n",
        "    plt.semilogx(xs[xs!=0],ys[xs!=0],label=label)\n",
        "    plt.xlim([10**-3,1])\n",
        "    plt.grid()"
      ],
      "id": "JggdZ5CEMzO2",
      "execution_count": 32,
      "outputs": []
    },
    {
      "cell_type": "markdown",
      "metadata": {
        "id": "R2wWFEjJW3Fo"
      },
      "source": [
        "## **Introduction**"
      ],
      "id": "R2wWFEjJW3Fo"
    },
    {
      "cell_type": "markdown",
      "metadata": {
        "id": "5DuxwTbuPfGA"
      },
      "source": [
        "This week, we will create and simulate a simple circuit for an ion trap quantum computer by applying 1-qubit and 2-qubit gates to a quantum state. In practice qubits are stored in the spins of the individual ions while they are suspended in the vacuum via the use of electromagnetic fields. Confining the ions in two dimensions they form a line. Initializing the state of the system and\n",
        "measurement are both implemented using lasers with a very high efficiency. 1-qubit and 2-qubit gates are implemented via laser-driven stimulated Raman transitions.This gives rise to the single-qubit physical level gates R and two-qubit M interactions described by following unitary evolution operator:\n",
        "\n",
        "$$\n",
        "R(\\theta,\\phi) =\n",
        "\\begin{pmatrix}\n",
        " \\cos \\frac{\\theta}{2} & -\\mathrm{i}\\mathrm{e}^{-\\mathrm{i}\\phi}\\sin \\frac{\\theta}{2} \\\\\n",
        " -\\mathrm{i}\\mathrm{e}^{\\mathrm{i}\\phi}\\sin \\frac{\\theta}{2} & \\cos \\frac{\\theta}{2}\\\\\n",
        "\\end{pmatrix}.\n",
        "$$\n",
        "\n",
        "Both $\\theta$ and $\\phi$ can be controlled by changing the duration and phase of the Raman beatnote that drives the Rabi oscillation of the qubit [1]. The physical two-level qubit gate which implements the well-known Molmer-Sorensen gate [2] is defined as\n",
        "\n",
        "$$\n",
        "M(\\theta,\\phi) =\n",
        "\\begin{pmatrix}\n",
        " \\cos \\Theta &0&0& -\\mathrm{i}\\sin \\Theta \\\\\n",
        " 0 &\\cos \\Theta&-\\mathrm{i}\\sin \\Theta& 0 \\\\\n",
        " 0 &-\\mathrm{i}\\sin \\Theta&\\cos \\Theta& 0 \\\\\n",
        " -\\mathrm{i}\\sin \\Theta &0&0& \\cos \\Theta\\\\\n",
        "\\end{pmatrix},\n",
        "$$\n",
        "where $\\Theta$ depen on the pair of ions that the gate is applied to and it can be set to an arbitrary real number between 0 and $\\pi/2$ by varying the laser power applied to the ions.\n",
        "\n",
        "We continue in task 2 by simulating the perturnbations in the circuit parameters by inserting errors in the quantum circuit. This can be modeled by adding bit-flip ($\\sigma_x$) to the circuit. We also observe that such chaos that arises in individual measurements\n",
        "of random circuits can be tamed by averaging over several measurements.\n",
        "\n",
        "Before proceeding to the tasks below, we also need to give an overview of random Matrix Product State (MPS), which represents a quantum\n",
        "state $\\left|\\Psi\\right\\rangle$. We need this for the bonus part of task 1. \n",
        "\n",
        "For the past twenty years, MPS has been widely used in solid state physics to approximate the ground state of one-dimensional spin chains. MPS is a class of Tensor Network States (TNS) [3] which is a class of many-body wavefunctions of complexity, fixed by a parameter known as bond dimension (virtual dimension). The bond dimension is the dimension of the truncated MPS. For more details please refer to [this page](https://tensornetwork.org/mps/).\n",
        "\n",
        "Relation between the bond dimension and the entanglement entropy is given in details in [4](https://arxiv.org/pdf/1308.3318.pdf), [5](https://arxiv.org/pdf/0705.0292.pdf), and [6](https://arxiv.org/pdf/2008.11764.pdf).\n",
        "\n",
        "\n",
        "\n",
        "\n",
        "\n",
        "\n",
        "\n"
      ],
      "id": "5DuxwTbuPfGA"
    },
    {
      "cell_type": "markdown",
      "metadata": {
        "id": "RaeIdxBZWXo3"
      },
      "source": [
        "## **Task 1**"
      ],
      "id": "RaeIdxBZWXo3"
    },
    {
      "cell_type": "code",
      "metadata": {
        "colab": {
          "base_uri": "https://localhost:8080/",
          "height": 320
        },
        "id": "-97_aNhlCGj2",
        "outputId": "1f160c5e-ca8a-4079-d64d-fc9412581713"
      },
      "source": [
        "plt.figure(figsize=(5, 5))\n",
        "circuit = random_circuit(4,7)\n",
        "generate_speckle(circuit);"
      ],
      "id": "-97_aNhlCGj2",
      "execution_count": 40,
      "outputs": [
        {
          "output_type": "display_data",
          "data": {
            "image/png": "[encoded data removed]",
            "text/plain": [
              "<Figure size 360x360 with 1 Axes>"
            ]
          },
          "metadata": {
            "tags": [],
            "needs_background": "light"
          }
        }
      ]
    },
    {
      "cell_type": "markdown",
      "metadata": {
        "id": "HaUxwytqjAjv"
      },
      "source": [
        "**Bonus**\n",
        "\n",
        "The entanglement entropy $S$ of any region in a matrix product state of bond dimension d is bounded by $S≤2*log[d]$. Therefore, as the circuit becomes deeper, the bond dimension (and thus the memory and time of the computation) will grow exponentially so will the entanglement entropy [4](https://arxiv.org/pdf/0705.0292.pdf). For any subset A of consecutive tensors $S(\\rho_A)=\\mathrm{O}(log[d])$$ for a matrix product state, so the entanglement entropy is bounded from above by a constant in n (number of tensors). That is to say, MPS satisfy an area law. The behaviour of the entanglement scaling is therefore the same for matrix product states."
      ],
      "id": "HaUxwytqjAjv"
    },
    {
      "cell_type": "markdown",
      "metadata": {
        "id": "2sWeczLpWpG1"
      },
      "source": [
        "## **Task 2**"
      ],
      "id": "2sWeczLpWpG1"
    },
    {
      "cell_type": "markdown",
      "metadata": {
        "id": "UQxxQMZCjGxC"
      },
      "source": [
        "In this task we choose a random circuit and run it several times, each time adding a bit-flip error at random location in the circuit. Collection of plots below shows the difference in the resulting speckle patterns."
      ],
      "id": "UQxxQMZCjGxC"
    },
    {
      "cell_type": "code",
      "metadata": {
        "colab": {
          "base_uri": "https://localhost:8080/",
          "height": 863
        },
        "id": "vSm8oUXJJkrZ",
        "outputId": "ceea2610-f652-40b5-c3a4-7260f9e0b3b6"
      },
      "source": [
        "plt.figure(figsize=(15, 15))\n",
        "k=1\n",
        "for i in range(3):\n",
        "  for j in range(3):\n",
        "    plt.subplot(3,3,k)\n",
        "    k+=1\n",
        "    generate_speckle(circuit_bitflip(circuit));\n"
      ],
      "id": "vSm8oUXJJkrZ",
      "execution_count": 41,
      "outputs": [
        {
          "output_type": "display_data",
          "data": {
            "image/png": "[encoded data removed]",
            "text/plain": [
              "<Figure size 1080x1080 with 9 Axes>"
            ]
          },
          "metadata": {
            "tags": [],
            "needs_background": "light"
          }
        }
      ]
    },
    {
      "cell_type": "markdown",
      "metadata": {
        "id": "T5ys_0WRXYrp"
      },
      "source": [
        "## **Task 3**"
      ],
      "id": "T5ys_0WRXYrp"
    },
    {
      "cell_type": "code",
      "metadata": {
        "colab": {
          "base_uri": "https://localhost:8080/",
          "height": 324
        },
        "id": "DjTNWIgvpvDV",
        "outputId": "d222f9d8-c267-4fc7-dfab-ce258c281070"
      },
      "source": [
        "numQbit = 4\n",
        "# logDepths = np.arange(1,10,4)\n",
        "logDepths = np.arange(1,5)\n",
        "depths = 2**logDepths\n",
        "\n",
        "plt.figure(figsize=(10, 5))\n",
        "ideal_distribution(numQbit);\n",
        "for depth in depths:\n",
        "  p_distrib(numQbit,depth,numSample=32)\n",
        "\n",
        "plt.legend(loc='best');"
      ],
      "id": "DjTNWIgvpvDV",
      "execution_count": 42,
      "outputs": [
        {
          "output_type": "display_data",
          "data": {
            "image/png": "[encoded data removed]",
            "text/plain": [
              "<Figure size 720x360 with 1 Axes>"
            ]
          },
          "metadata": {
            "tags": [],
            "needs_background": "light"
          }
        }
      ]
    },
    {
      "cell_type": "markdown",
      "metadata": {
        "id": "-7-qNRXVXnhZ"
      },
      "source": [
        "## **Task 4**"
      ],
      "id": "-7-qNRXVXnhZ"
    },
    {
      "cell_type": "markdown",
      "metadata": {
        "id": "MrfakYRgh5TO"
      },
      "source": [
        "### on going - not finalised"
      ],
      "id": "MrfakYRgh5TO"
    },
    {
      "cell_type": "code",
      "metadata": {
        "id": "719ynoqRibvg"
      },
      "source": [
        "numQbit = 8\n",
        "depth = 32\n",
        "dPsis = np.arange(0,1,0.1)*np.pi\n",
        "psis= np.random.rand(numQbit,depth)*2*np.pi"
      ],
      "id": "719ynoqRibvg",
      "execution_count": 43,
      "outputs": []
    },
    {
      "cell_type": "code",
      "metadata": {
        "colab": {
          "base_uri": "https://localhost:8080/",
          "height": 265
        },
        "id": "vmgGYyuqgkCa",
        "outputId": "d213681f-e819-4f7c-bdd8-da175d6890e7"
      },
      "source": [
        "circuit = random_circuit(numQbit,depth,psis)\n",
        "shots = 32768\n",
        "values = generate_speckle(circuit_bitflip(circuit),shots=shots);\n",
        "values = values/shots"
      ],
      "id": "vmgGYyuqgkCa",
      "execution_count": 44,
      "outputs": [
        {
          "output_type": "display_data",
          "data": {
            "image/png": "[encoded data removed]",
            "text/plain": [
              "<Figure size 432x288 with 1 Axes>"
            ]
          },
          "metadata": {
            "tags": [],
            "needs_background": "light"
          }
        }
      ]
    },
    {
      "cell_type": "code",
      "metadata": {
        "colab": {
          "base_uri": "https://localhost:8080/",
          "height": 265
        },
        "id": "XRnPq_6DhF0q",
        "outputId": "b562e955-7e11-4299-d70e-81d010593260"
      },
      "source": [
        "circuit_error = random_circuit(numQbit,depth,psis+0.5)\n",
        "values = generate_speckle(circuit_bitflip(circuit_error),shots=shots);\n",
        "values = values/shots"
      ],
      "id": "XRnPq_6DhF0q",
      "execution_count": 45,
      "outputs": [
        {
          "output_type": "display_data",
          "data": {
            "image/png": "[encoded data removed]",
            "text/plain": [
              "<Figure size 432x288 with 1 Axes>"
            ]
          },
          "metadata": {
            "tags": [],
            "needs_background": "light"
          }
        }
      ]
    },
    {
      "cell_type": "markdown",
      "metadata": {
        "id": "omA716t9X0Z3"
      },
      "source": [
        "## **Business Application**"
      ],
      "id": "omA716t9X0Z3"
    },
    {
      "cell_type": "markdown",
      "metadata": {
        "id": "zPSHdyDFPas8"
      },
      "source": [
        "**Objective: devise a potential business that could be built around sampling-based quantum computing with random circuits in the NISQ era.**\n",
        "\n",
        "## Step 1: Explain the technical problem you solved in this exercise\n",
        "\n",
        "Computers are deterministic systems, meaning that when randomness is required, they are only capable of appearing superficially random. Classical computers rely on pseudo-random number generators and seeds usually based on system time to produce random distributions in a predictable fashion based on a formula.\n",
        "\n",
        "Prior to the development of quantum physics it was thought that physical systems all had determinate states that were all measureable. The property of quantum indeterminacy suggests that quantum systems have truly random behavior that is not a result of measurement or disturbance errors. This randomness can be exploited for the purpose of random number generation.\n",
        "\n",
        "## Step 2: Explain or provide examples of the types of real-world problems this solution can solve\n",
        "\n",
        "In the past, devious mathematicians have been able to \"game\" lottery and casino systems through reverse-engineering (or stealing) the equations that are used to simulate randomness in the generation of values in these games. Due to this, the numbers generated by these deterministic algorithms are not truly random, and only appear to be. The problem with these systems is that it is difficult to provide truly random \n",
        "\n",
        "## Step 3: Identify at least one potential customer for this solution - ie: a business who has this problem and would consider paying to have this problem solved\n",
        "\n",
        "Casino and lottery operators are the most logical applications. In order to accelerate adoption, a certification body could be created that provides \"certified randomness,\" akin to ISO. This would likely allow for casinos and lottery companies to market their innovative solutions while also providing more trust that their systems aren't being taken advantage of by bad actors and provide trust and fairness to participants.\n",
        "\n",
        "## Step 4: Prepare a 90 second video explaining the value proposition of your innovation to this potential customer in non-technical language\n"
      ],
      "id": "zPSHdyDFPas8"
    },
    {
      "cell_type": "code",
      "metadata": {
        "colab": {
          "base_uri": "https://localhost:8080/",
          "height": 336
        },
        "id": "AC5v9tNMVDd-",
        "outputId": "c9c14698-8394-475e-f4f2-2f78f1eff1ff"
      },
      "source": [
        "HTML('<iframe width=\"560\" height=\"315\" src=\"https://www.youtube.com/embed/GapYtNXQENI\" title=\"YouTube video player\" frameborder=\"0\" allow=\"accelerometer; autoplay; clipboard-write; encrypted-media; gyroscope; picture-in-picture\" allowfullscreen></iframe>')"
      ],
      "id": "AC5v9tNMVDd-",
      "execution_count": 17,
      "outputs": [
        {
          "output_type": "execute_result",
          "data": {
            "text/html": [
              "<iframe width=\"560\" height=\"315\" src=\"https://www.youtube.com/embed/GapYtNXQENI\" title=\"YouTube video player\" frameborder=\"0\" allow=\"accelerometer; autoplay; clipboard-write; encrypted-media; gyroscope; picture-in-picture\" allowfullscreen></iframe>"
            ],
            "text/plain": [
              "<IPython.core.display.HTML object>"
            ]
          },
          "metadata": {
            "tags": []
          },
          "execution_count": 17
        }
      ]
    },
    {
      "cell_type": "markdown",
      "metadata": {
        "id": "-grqAaPoPqdC"
      },
      "source": [
        "## Other notes/ideas to be potentially incorporated to make the business application more exciting/interesting:\n",
        "\n",
        "Differential privacy is a system for publicly sharing information about a dataset by describing the patterns of groups within the dataset while withholding information about individuals within that dataset. The goal is to provide confidentiality across any specific individual, while still providing explorable statistical insights across subsets.\n",
        "\n",
        "The Church-Turing thesis hypothesizes that any classical system can be simulated by a classical computer. Therefore using a classical system to generate randomness means that a classical computer could theoretically simulate it and therefore compute the random number generated.\n",
        "\n",
        "A PRG doesn’t actually have enough entropy to generate truly random values, and therefore should not be used to simulate randomness.\n",
        "\n",
        "Even if a PRG is broken in the future, forward-secrecy is maintained by a quantum computer. Even if the seed is public, the random bits can be private. Freshness property: random bits weren’t known to anyone before.\n",
        "\n",
        "Measurements in QM are normally destructive. If you measure your state in the basis, where the outcome of the measurement is in one of the basis vectors, you can keep using that state over and over again: gentle measurement.\n",
        "\n",
        "Given a quantum measurement M on n registers, we call M alpha-gentle if for every product state, and every possible outcome y of M. Example: Measuring the total Hamming weight of n unentangled qubits could be highly destructive. But measuring the Hamming weight plus noise of order sqrt(n) is far less destructive. (Protecting privacy rights of quantum states).\n",
        "\n",
        "Measure the total Hamming weight of n unentangled qubits plus a noise term.\n",
        "\n",
        "M is alpha-gentle -> M is O(alpha)-DP\n",
        "M is epsilon-DP, and consists of a classical algorithm applied to the results of separate measurements on each register -> M can be implemented in a way that’s O(epsilon sqrt(n))-gentle.\n",
        "\n",
        "Dataset, you want to look at it without damaging it too much.\n",
        "\n",
        "Shadow Tomography: new measurement procedure for quantum states in d-dimensions. A list of two-outcome measurements, I can learn the approximate probabilities, that each of these measurements accepts my state, using a number of copies of rho that grow polylog(d). I want to know it’s behaviour of on N-circuits with N^2 gates, I can do that with only polynomially-many copies.\n",
        "\n",
        "**Business application: using random noise for gentle measurements for DP: Data leaks are everywhere, and this is completely unacceptable for the quickly growing troves of health and genomics data.**\n"
      ],
      "id": "-grqAaPoPqdC"
    }
  ]
}