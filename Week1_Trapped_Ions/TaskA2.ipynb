{
 "cells": [
  {
   "cell_type": "markdown",
   "source": [
    "## Week 1. Trapped Ions - Additional Task 2\n",
    "Author: QuNovaComputing, Inc.\n",
    "- - -\n",
    "\n",
    "Calculate the fidelity from the experimental data from the [dataset](https://datadryad.org/stash/dataset/doi:10.5061/dryad.k6t1rj8).\n",
    "\n",
    "\n",
    "First, extract the downloaded file in `./dataset/` and then, run `./dataset/extract.sh` to extract the tar.gz files.\n",
    "\n",
    "Start from the importings :"
   ],
   "metadata": {
    "collapsed": false,
    "pycharm": {
     "name": "#%% md\n"
    }
   }
  },
  {
   "cell_type": "code",
   "execution_count": 16,
   "metadata": {
    "collapsed": true
   },
   "outputs": [],
   "source": [
    "from itertools import chain\n",
    "from cirq import Simulator\n",
    "from cirq.contrib.qasm_import import circuit_from_qasm\n",
    "import os\n",
    "import re\n",
    "import csv\n",
    "\n",
    "from Week1_Trapped_Ions.src.utils import get_xeb_from_hist_large"
   ]
  },
  {
   "cell_type": "markdown",
   "source": [
    "Check the `./dataset/README.md` for the information of the parameters, `n`, `m`, `s`, `e`, and `p`.\n",
    "Put the desired parameters to the dictionary attributes of `ex_params` below."
   ],
   "metadata": {
    "collapsed": false,
    "pycharm": {
     "name": "#%% md\n"
    }
   }
  },
  {
   "cell_type": "code",
   "execution_count": 17,
   "outputs": [],
   "source": [
    "ex_params={\n",
    "    'n': 16,\n",
    "    'm': 14,\n",
    "    's': 0,\n",
    "    'e': 0,\n",
    "    'p': 'EFGH'\n",
    "}"
   ],
   "metadata": {
    "collapsed": false,
    "pycharm": {
     "name": "#%%\n"
    }
   }
  },
  {
   "cell_type": "markdown",
   "source": [
    "The below code finds the files for qasm for the circuit and experimental result."
   ],
   "metadata": {
    "collapsed": false,
    "pycharm": {
     "name": "#%% md\n"
    }
   }
  },
  {
   "cell_type": "code",
   "execution_count": 18,
   "outputs": [
    {
     "name": "stdout",
     "output_type": "stream",
     "text": [
      "Directory exists : True\n",
      "Cirq exists : True\n",
      "Meas exists : True\n"
     ]
    }
   ],
   "source": [
    "ex_dir = f\"./dataset/n{ex_params['n']}_m{ex_params['m']}\"\n",
    "ex_qasm = f\"circuit_n{ex_params['n']}_m{ex_params['m']}_s{ex_params['s']}_e{ex_params['e']}_p{ex_params['p']}.qasm\"\n",
    "ex_meas = f\"measurements_n{ex_params['n']}_m{ex_params['m']}_s{ex_params['s']}_e{ex_params['e']}_p{ex_params['p']}.txt\"\n",
    "print(f\"Directory exists : {os.path.isdir(ex_dir)}\")\n",
    "print(f\"Cirq exists : {os.path.isfile(os.path.join(ex_dir, ex_qasm))}\")\n",
    "print(f\"Meas exists : {os.path.isfile(os.path.join(ex_dir, ex_meas))}\")\n",
    "if not (os.path.isdir(ex_dir)\n",
    "        or os.path.isfile(os.path.join(ex_dir, ex_qasm))\n",
    "        or os.path.isfile(os.path.join(ex_dir, ex_meas))):\n",
    "    raise ValueError"
   ],
   "metadata": {
    "collapsed": false,
    "pycharm": {
     "name": "#%%\n"
    }
   }
  },
  {
   "cell_type": "markdown",
   "source": [
    "Reading the experimental result file, generate histogram."
   ],
   "metadata": {
    "collapsed": false,
    "pycharm": {
     "name": "#%% md\n"
    }
   }
  },
  {
   "cell_type": "code",
   "execution_count": 19,
   "outputs": [],
   "source": [
    "num_shots = 0\n",
    "meas_histogram = dict()\n",
    "with open(os.path.join(ex_dir, ex_meas)) as of:\n",
    "    while True:\n",
    "        bin_str = of.readline().replace('\\n', '')\n",
    "        if len(bin_str) < 1:\n",
    "            break\n",
    "        if len(bin_str) != ex_params['n']:\n",
    "            raise ValueError\n",
    "        if bin_str not in meas_histogram:\n",
    "            meas_histogram.update({bin_str: 1})\n",
    "        else:\n",
    "            meas_histogram[bin_str] += 1\n",
    "        num_shots += 1\n",
    "for k in meas_histogram:\n",
    "    meas_histogram[k] /= num_shots"
   ],
   "metadata": {
    "collapsed": false,
    "pycharm": {
     "name": "#%%\n"
    }
   }
  },
  {
   "cell_type": "markdown",
   "source": [
    "Next, read the qasm file, attatching the declaration of classical registers and measurement parts.\n",
    "Using `cirq` library, run the noiseless qasm source simulation with the same shots with the experiment."
   ],
   "metadata": {
    "collapsed": false,
    "pycharm": {
     "name": "#%% md\n"
    }
   }
  },
  {
   "cell_type": "code",
   "execution_count": 20,
   "outputs": [],
   "source": [
    "with open(os.path.join(ex_dir, ex_qasm)) as of:\n",
    "    total_line = \"\".join(of.readlines())\n",
    "pos = total_line.find(f\"qreg q[{ex_params['n']}];\\n\")\n",
    "prefix = f\"creg meas[{ex_params['n']}];\\n\"\n",
    "postfix = '\\n'.join([f\"measure q[{i}] -> meas[{i}];\" for i in range(ex_params['n'])])\n",
    "total_qasm = total_line[:pos] + prefix + total_line[pos:] + postfix\n",
    "circuit = circuit_from_qasm(total_qasm)\n",
    "simulator = Simulator()\n",
    "result = simulator.run(circuit, repetitions=num_shots)"
   ],
   "metadata": {
    "collapsed": false,
    "pycharm": {
     "name": "#%%\n"
    }
   }
  },
  {
   "cell_type": "markdown",
   "source": [
    "From the result, generate the histogram, simulated in noiseless environment."
   ],
   "metadata": {
    "collapsed": false,
    "pycharm": {
     "name": "#%% md\n"
    }
   }
  },
  {
   "cell_type": "code",
   "execution_count": 21,
   "outputs": [],
   "source": [
    "ideal_histogram = dict()\n",
    "key_pat = r'meas_(\\d+)'\n",
    "sorted_key = sorted([k for k in result.measurements], key=lambda x: int(re.match(key_pat, x).group(1)))\n",
    "ideal_bin = zip(*[[str(x) for x in list(chain(*result.measurements[key]))]\\\n",
    "                      for key in sorted_key])\n",
    "ideal_bin = [\"\".join(x) for x in ideal_bin]\n",
    "for bin_str in ideal_bin:\n",
    "    if bin_str not in ideal_histogram:\n",
    "        ideal_histogram.update({bin_str: 1})\n",
    "    else:\n",
    "        ideal_histogram[bin_str] += 1\n",
    "for k in ideal_histogram:\n",
    "    ideal_histogram[k] /= num_shots"
   ],
   "metadata": {
    "collapsed": false,
    "pycharm": {
     "name": "#%%\n"
    }
   }
  },
  {
   "cell_type": "markdown",
   "source": [
    "With experimental and simulated histograms, calculate the fidelity."
   ],
   "metadata": {
    "collapsed": false,
    "pycharm": {
     "name": "#%% md\n"
    }
   }
  },
  {
   "cell_type": "code",
   "execution_count": 22,
   "outputs": [
    {
     "name": "stdout",
     "output_type": "stream",
     "text": [
      "0.26471163084783855\n"
     ]
    }
   ],
   "source": [
    "fid = get_xeb_from_hist_large(meas_histogram, ideal_histogram, ex_params['n'])\n",
    "print(fid)"
   ],
   "metadata": {
    "collapsed": false,
    "pycharm": {
     "name": "#%%\n"
    }
   }
  },
  {
   "cell_type": "markdown",
   "source": [
    "Get the fidelity file from the dataset to compare it to the fidelity we calculated.\n",
    "(They are characterized as 'patch', 'elided', 'full' and 'prediction', which we didn't understand the meaning. So we print them all.)"
   ],
   "metadata": {
    "collapsed": false,
    "pycharm": {
     "name": "#%% md\n"
    }
   }
  },
  {
   "cell_type": "code",
   "execution_count": 23,
   "outputs": [
    {
     "name": "stdout",
     "output_type": "stream",
     "text": [
      "['0.2679', '0.292', '0.272', '0.2828']\n"
     ]
    }
   ],
   "source": [
    "their_fidelity_path = './dataset/fidelity_4a.csv'\n",
    "value = 0\n",
    "with open(their_fidelity_path, 'r') as of:\n",
    "    csv_reader = csv.reader(of, delimiter=',')\n",
    "    for row in csv_reader:\n",
    "        if row[0] == str(ex_params['n']):\n",
    "            value = row\n",
    "            break\n",
    "    else:\n",
    "        print(\"Fidelity not found.\")\n",
    "        raise ValueError\n",
    "print(value[1:])"
   ],
   "metadata": {
    "collapsed": false,
    "pycharm": {
     "name": "#%%\n"
    }
   }
  },
  {
   "cell_type": "markdown",
   "source": [
    "So we see that the calculated fidelity and that from dataset are similar."
   ],
   "metadata": {
    "collapsed": false,
    "pycharm": {
     "name": "#%% md\n"
    }
   }
  }
 ],
 "metadata": {
  "kernelspec": {
   "display_name": "Python 3",
   "language": "python",
   "name": "python3"
  },
  "language_info": {
   "codemirror_mode": {
    "name": "ipython",
    "version": 2
   },
   "file_extension": ".py",
   "mimetype": "text/x-python",
   "name": "python",
   "nbconvert_exporter": "python",
   "pygments_lexer": "ipython2",
   "version": "2.7.6"
  }
 },
 "nbformat": 4,
 "nbformat_minor": 0
}