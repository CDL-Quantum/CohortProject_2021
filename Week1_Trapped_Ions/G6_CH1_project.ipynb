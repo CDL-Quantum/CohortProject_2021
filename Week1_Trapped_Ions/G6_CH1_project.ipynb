{
 "cells": [
  {
   "cell_type": "markdown",
   "metadata": {},
   "source": [
    "# Group-6 Cohort project week-1\n",
    "## Quantum Advantage, with Tensor Networks."
   ]
  },
  {
   "cell_type": "markdown",
   "metadata": {},
   "source": [
    "## Task 1 solution:\n",
    "Extend this script to extract the coeﬃcients x|ψ for each bit-string x from the MPS.\n",
    "Plot the probability of each x using a dot whose area is proportional to P (x), like in Fig. 1, for several circuit widths and depths."
   ]
  },
  {
   "cell_type": "markdown",
   "metadata": {},
   "source": [
    "Bonus:    Examine  the  change  in  the  bond  dimension  of  the  generated  MPS  as  the  random  circuits are  made  deeper.   Discuss  the  connection  to  entanglement  entropy."
   ]
  },
  {
   "cell_type": "code",
   "execution_count": 1,
   "metadata": {
    "ExecuteTime": {
     "end_time": "2021-07-10T14:23:41.401000+01:00",
     "start_time": "2021-07-10T13:23:11.996Z"
    }
   },
   "outputs": [
    {
     "name": "stdout",
     "output_type": "stream",
     "text": [
      "    \u001b[36m\u001b[1mFetching:\u001b[22m\u001b[39m [>                                        ]  0.0 %\r",
      "    \u001b[36m\u001b[1mFetching:\u001b[22m\u001b[39m [=>                                       ]  0.2 %\r",
      "    \u001b[36m\u001b[1mFetching:\u001b[22m\u001b[39m [=>                                       ]  0.3 %\r",
      "    \u001b[36m\u001b[1mFetching:\u001b[22m\u001b[39m [=>                                       ]  0.5 %\r",
      "    \u001b[36m\u001b[1mFetching:\u001b[22m\u001b[39m [=>                                       ]  0.6 %\r",
      "    \u001b[36m\u001b[1mFetching:\u001b[22m\u001b[39m [=>                                       ]  0.8 %\r",
      "    \u001b[36m\u001b[1mFetching:\u001b[22m\u001b[39m [=>                                       ]  1.0 %\r",
      "    \u001b[36m\u001b[1mFetching:\u001b[22m\u001b[39m [=>                                       ]  1.1 %\r",
      "    \u001b[36m\u001b[1mFetching:\u001b[22m\u001b[39m [=>                                       ]  1.3 %\r",
      "    \u001b[36m\u001b[1mFetching:\u001b[22m\u001b[39m [=>                                       ]  1.4 %\r",
      "    \u001b[36m\u001b[1mFetching:\u001b[22m\u001b[39m [=>                                       ]  1.6 %\r",
      "    \u001b[36m\u001b[1mFetching:\u001b[22m\u001b[39m [=>                                       ]  1.8 %\r",
      "    \u001b[36m\u001b[1mFetching:\u001b[22m\u001b[39m [=>                                       ]  1.9 %\r",
      "    \u001b[36m\u001b[1mFetching:\u001b[22m\u001b[39m [=>                                       ]  2.1 %\r",
      "    \u001b[36m\u001b[1mFetching:\u001b[22m\u001b[39m [=>                                       ]  2.2 %\r",
      "    \u001b[36m\u001b[1mFetching:\u001b[22m\u001b[39m [=>                                       ]  2.4 %\r",
      "    \u001b[36m\u001b[1mFetching:\u001b[22m\u001b[39m [==>                                      ]  2.6 %\r",
      "    \u001b[36m\u001b[1mFetching:\u001b[22m\u001b[39m [==>                                      ]  2.7 %\r",
      "    \u001b[36m\u001b[1mFetching:\u001b[22m\u001b[39m [==>                                      ]  2.9 %\r",
      "    \u001b[36m\u001b[1mFetching:\u001b[22m\u001b[39m [==>                                      ]  3.0 %\r",
      "    \u001b[36m\u001b[1mFetching:\u001b[22m\u001b[39m [==>                                      ]  3.2 %\r",
      "    \u001b[36m\u001b[1mFetching:\u001b[22m\u001b[39m [==>                                      ]  3.4 %\r",
      "    \u001b[36m\u001b[1mFetching:\u001b[22m\u001b[39m [==>                                      ]  3.5 %\r",
      "    \u001b[36m\u001b[1mFetching:\u001b[22m\u001b[39m [==>                                      ]  3.7 %\r",
      "    \u001b[36m\u001b[1mFetching:\u001b[22m\u001b[39m [==>                                      ]  3.8 %\r",
      "    \u001b[36m\u001b[1mFetching:\u001b[22m\u001b[39m [==>                                      ]  4.0 %\r",
      "    \u001b[36m\u001b[1mFetching:\u001b[22m\u001b[39m [==>                                      ]  4.2 %\r",
      "    \u001b[36m\u001b[1mFetching:\u001b[22m\u001b[39m [==>                                      ]  4.3 %\r",
      "    \u001b[36m\u001b[1mFetching:\u001b[22m\u001b[39m [==>                                      ]  4.5 %\r",
      "    \u001b[36m\u001b[1mFetching:\u001b[22m\u001b[39m [==>                                      ]  4.6 %\r",
      "    \u001b[36m\u001b[1mFetching:\u001b[22m\u001b[39m [==>                                      ]  4.8 %\r",
      "    \u001b[36m\u001b[1mFetching:\u001b[22m\u001b[39m [==>                                      ]  5.0 %\r",
      "    \u001b[36m\u001b[1mFetching:\u001b[22m\u001b[39m [===>                                     ]  5.1 %\r",
      "    \u001b[36m\u001b[1mFetching:\u001b[22m\u001b[39m [===>                                     ]  5.3 %\r",
      "    \u001b[36m\u001b[1mFetching:\u001b[22m\u001b[39m [===>                                     ]  5.4 %\r",
      "    \u001b[36m\u001b[1mFetching:\u001b[22m\u001b[39m [===>                                     ]  5.6 %\r",
      "    \u001b[36m\u001b[1mFetching:\u001b[22m\u001b[39m [===>                                     ]  5.8 %\r",
      "    \u001b[36m\u001b[1mFetching:\u001b[22m\u001b[39m [===>                                     ]  5.9 %\r",
      "    \u001b[36m\u001b[1mFetching:\u001b[22m\u001b[39m [===>                                     ]  6.1 %\r",
      "    \u001b[36m\u001b[1mFetching:\u001b[22m\u001b[39m [===>                                     ]  6.2 %\r",
      "    \u001b[36m\u001b[1mFetching:\u001b[22m\u001b[39m [===>                                     ]  6.4 %\r",
      "    \u001b[36m\u001b[1mFetching:\u001b[22m\u001b[39m [===>                                     ]  6.6 %\r",
      "    \u001b[36m\u001b[1mFetching:\u001b[22m\u001b[39m [===>                                     ]  6.7 %\r",
      "    \u001b[36m\u001b[1mFetching:\u001b[22m\u001b[39m [===>                                     ]  6.9 %\r",
      "    \u001b[36m\u001b[1mFetching:\u001b[22m\u001b[39m [===>                                     ]  7.1 %\r",
      "    \u001b[36m\u001b[1mFetching:\u001b[22m\u001b[39m [===>                                     ]  7.2 %\r",
      "    \u001b[36m\u001b[1mFetching:\u001b[22m\u001b[39m [===>                                     ]  7.4 %\r",
      "    \u001b[36m\u001b[1mFetching:\u001b[22m\u001b[39m [====>                                    ]  7.5 %\r",
      "    \u001b[36m\u001b[1mFetching:\u001b[22m\u001b[39m [====>                                    ]  7.7 %\r",
      "    \u001b[36m\u001b[1mFetching:\u001b[22m\u001b[39m [====>                                    ]  7.9 %\r",
      "    \u001b[36m\u001b[1mFetching:\u001b[22m\u001b[39m [====>                                    ]  8.0 %\r",
      "    \u001b[36m\u001b[1mFetching:\u001b[22m\u001b[39m [====>                                    ]  8.2 %\r",
      "    \u001b[36m\u001b[1mFetching:\u001b[22m\u001b[39m [====>                                    ]  8.3 %\r",
      "    \u001b[36m\u001b[1mFetching:\u001b[22m\u001b[39m [====>                                    ]  8.5 %\r",
      "    \u001b[36m\u001b[1mFetching:\u001b[22m\u001b[39m [====>                                    ]  8.7 %\r",
      "    \u001b[36m\u001b[1mFetching:\u001b[22m\u001b[39m [====>                                    ]  8.8 %\r",
      "    \u001b[36m\u001b[1mFetching:\u001b[22m\u001b[39m [====>                                    ]  9.0 %\r",
      "    \u001b[36m\u001b[1mFetching:\u001b[22m\u001b[39m [====>                                    ]  9.1 %\r",
      "    \u001b[36m\u001b[1mFetching:\u001b[22m\u001b[39m [====>                                    ]  9.3 %\r",
      "    \u001b[36m\u001b[1mFetching:\u001b[22m\u001b[39m [====>                                    ]  9.5 %\r",
      "    \u001b[36m\u001b[1mFetching:\u001b[22m\u001b[39m [====>                                    ]  9.6 %\r",
      "    \u001b[36m\u001b[1mFetching:\u001b[22m\u001b[39m [====>                                    ]  9.8 %\r",
      "    \u001b[36m\u001b[1mFetching:\u001b[22m\u001b[39m [====>                                    ]  9.9 %\r",
      "    \u001b[36m\u001b[1mFetching:\u001b[22m\u001b[39m [=====>                                   ]  10.1 %\r",
      "    \u001b[36m\u001b[1mFetching:\u001b[22m\u001b[39m [=====>                                   ]  10.3 %\r",
      "    \u001b[36m\u001b[1mFetching:\u001b[22m\u001b[39m [=====>                                   ]  10.4 %\r",
      "    \u001b[36m\u001b[1mFetching:\u001b[22m\u001b[39m [=====>                                   ]  10.6 %\r",
      "    \u001b[36m\u001b[1mFetching:\u001b[22m\u001b[39m [=====>                                   ]  10.7 %\r",
      "    \u001b[36m\u001b[1mFetching:\u001b[22m\u001b[39m [=====>                                   ]  10.9 %\r",
      "    \u001b[36m\u001b[1mFetching:\u001b[22m\u001b[39m [=====>                                   ]  11.1 %\r",
      "    \u001b[36m\u001b[1mFetching:\u001b[22m\u001b[39m [=====>                                   ]  11.2 %\r",
      "    \u001b[36m\u001b[1mFetching:\u001b[22m\u001b[39m [=====>                                   ]  11.4 %\r",
      "    \u001b[36m\u001b[1mFetching:\u001b[22m\u001b[39m [=====>                                   ]  11.5 %\r",
      "    \u001b[36m\u001b[1mFetching:\u001b[22m\u001b[39m [=====>                                   ]  11.7 %\r",
      "    \u001b[36m\u001b[1mFetching:\u001b[22m\u001b[39m [=====>                                   ]  11.9 %\r",
      "    \u001b[36m\u001b[1mFetching:\u001b[22m\u001b[39m [=====>                                   ]  12.0 %\r",
      "    \u001b[36m\u001b[1mFetching:\u001b[22m\u001b[39m [=====>                                   ]  12.2 %\r",
      "    \u001b[36m\u001b[1mFetching:\u001b[22m\u001b[39m [=====>                                   ]  12.3 %\r",
      "    \u001b[36m\u001b[1mFetching:\u001b[22m\u001b[39m [=====>                                   ]  12.5 %\r",
      "    \u001b[36m\u001b[1mFetching:\u001b[22m\u001b[39m [======>                                  ]  12.7 %\r",
      "    \u001b[36m\u001b[1mFetching:\u001b[22m\u001b[39m [======>                                  ]  12.8 %\r",
      "    \u001b[36m\u001b[1mFetching:\u001b[22m\u001b[39m [======>                                  ]  13.0 %\r",
      "    \u001b[36m\u001b[1mFetching:\u001b[22m\u001b[39m [======>                                  ]  13.1 %\r",
      "    \u001b[36m\u001b[1mFetching:\u001b[22m\u001b[39m [======>                                  ]  13.3 %\r",
      "    \u001b[36m\u001b[1mFetching:\u001b[22m\u001b[39m [======>                                  ]  13.5 %\r",
      "    \u001b[36m\u001b[1mFetching:\u001b[22m\u001b[39m [======>                                  ]  13.6 %\r",
      "    \u001b[36m\u001b[1mFetching:\u001b[22m\u001b[39m [======>                                  ]  13.8 %\r",
      "    \u001b[36m\u001b[1mFetching:\u001b[22m\u001b[39m [======>                                  ]  13.9 %\r",
      "    \u001b[36m\u001b[1mFetching:\u001b[22m\u001b[39m [======>                                  ]  14.1 %\r",
      "    \u001b[36m\u001b[1mFetching:\u001b[22m\u001b[39m [======>                                  ]  14.3 %\r",
      "    \u001b[36m\u001b[1mFetching:\u001b[22m\u001b[39m [======>                                  ]  14.4 %\r",
      "    \u001b[36m\u001b[1mFetching:\u001b[22m\u001b[39m [======>                                  ]  14.6 %\r",
      "    \u001b[36m\u001b[1mFetching:\u001b[22m\u001b[39m [======>                                  ]  14.7 %\r",
      "    \u001b[36m\u001b[1mFetching:\u001b[22m\u001b[39m [======>                                  ]  14.9 %\r",
      "    \u001b[36m\u001b[1mFetching:\u001b[22m\u001b[39m [=======>                                 ]  15.1 %\r",
      "    \u001b[36m\u001b[1mFetching:\u001b[22m\u001b[39m [=======>                                 ]  15.2 %\r",
      "    \u001b[36m\u001b[1mFetching:\u001b[22m\u001b[39m [=======>                                 ]  15.4 %\r",
      "    \u001b[36m\u001b[1mFetching:\u001b[22m\u001b[39m [=======>                                 ]  15.5 %\r",
      "    \u001b[36m\u001b[1mFetching:\u001b[22m\u001b[39m [=======>                                 ]  15.7 %\r",
      "    \u001b[36m\u001b[1mFetching:\u001b[22m\u001b[39m [=======>                                 ]  15.9 %\r",
      "    \u001b[36m\u001b[1mFetching:\u001b[22m\u001b[39m [=======>                                 ]  16.0 %\r",
      "    \u001b[36m\u001b[1mFetching:\u001b[22m\u001b[39m [=======>                                 ]  16.2 %\r",
      "    \u001b[36m\u001b[1mFetching:\u001b[22m\u001b[39m [=======>                                 ]  16.3 %\r",
      "    \u001b[36m\u001b[1mFetching:\u001b[22m\u001b[39m [=======>                                 ]  16.5 %\r",
      "    \u001b[36m\u001b[1mFetching:\u001b[22m\u001b[39m [=======>                                 ]  16.7 %\r",
      "    \u001b[36m\u001b[1mFetching:\u001b[22m\u001b[39m [=======>                                 ]  16.8 %\r",
      "    \u001b[36m\u001b[1mFetching:\u001b[22m\u001b[39m [=======>                                 ]  17.0 %\r",
      "    \u001b[36m\u001b[1mFetching:\u001b[22m\u001b[39m [=======>                                 ]  17.1 %\r",
      "    \u001b[36m\u001b[1mFetching:\u001b[22m\u001b[39m [=======>                                 ]  17.3 %\r",
      "    \u001b[36m\u001b[1mFetching:\u001b[22m\u001b[39m [=======>                                 ]  17.5 %\r",
      "    \u001b[36m\u001b[1mFetching:\u001b[22m\u001b[39m [========>                                ]  17.6 %\r",
      "    \u001b[36m\u001b[1mFetching:\u001b[22m\u001b[39m [========>                                ]  17.8 %\r",
      "    \u001b[36m\u001b[1mFetching:\u001b[22m\u001b[39m [========>                                ]  17.9 %\r",
      "    \u001b[36m\u001b[1mFetching:\u001b[22m\u001b[39m [========>                                ]  18.1 %\r",
      "    \u001b[36m\u001b[1mFetching:\u001b[22m\u001b[39m [========>                                ]  18.3 %\r",
      "    \u001b[36m\u001b[1mFetching:\u001b[22m\u001b[39m [========>                                ]  18.4 %\r",
      "    \u001b[36m\u001b[1mFetching:\u001b[22m\u001b[39m [========>                                ]  18.6 %\r",
      "    \u001b[36m\u001b[1mFetching:\u001b[22m\u001b[39m [========>                                ]  18.8 %\r",
      "    \u001b[36m\u001b[1mFetching:\u001b[22m\u001b[39m [========>                                ]  18.9 %\r",
      "    \u001b[36m\u001b[1mFetching:\u001b[22m\u001b[39m [========>                                ]  19.1 %\r",
      "    \u001b[36m\u001b[1mFetching:\u001b[22m\u001b[39m [========>                                ]  19.2 %\r",
      "    \u001b[36m\u001b[1mFetching:\u001b[22m\u001b[39m"
     ]
    },
    {
     "name": "stdout",
     "output_type": "stream",
     "text": [
      "    \u001b[36m\u001b[1mFetching:\u001b[22m\u001b[39m [========================================>]  100.0 %                        ]  39.1 %>         ]  77.4 %\r"
     ]
    }
   ],
   "source": [
    "# Loading the relevant packages\n",
    "using Pkg\n",
    "Pkg.add(\"PastaQ\")\n",
    "Pkg.add(\"ITensors\")\n",
    "Pkg.add(\"Plots\")"
   ]
  },
  {
   "cell_type": "code",
   "execution_count": 2,
   "metadata": {
    "ExecuteTime": {
     "end_time": "2021-07-10T14:24:17.965000+01:00",
     "start_time": "2021-07-10T13:24:15.259Z"
    }
   },
   "outputs": [],
   "source": [
    "Pkg.add(\"ITensors\")"
   ]
  },
  {
   "cell_type": "code",
   "execution_count": 3,
   "metadata": {
    "ExecuteTime": {
     "end_time": "2021-07-10T14:24:22.655000+01:00",
     "start_time": "2021-07-10T13:24:20.116Z"
    }
   },
   "outputs": [],
   "source": [
    "Pkg.add(\"PyPlot\")"
   ]
  },
  {
   "cell_type": "markdown",
   "metadata": {},
   "source": [
    "### Defining the Task 1 Ion trap gates and functions"
   ]
  },
  {
   "cell_type": "code",
   "execution_count": 4,
   "metadata": {
    "ExecuteTime": {
     "end_time": "2021-07-10T14:25:25.498000+01:00",
     "start_time": "2021-07-10T13:24:32.258Z"
    }
   },
   "outputs": [
    {
     "data": {
      "text/plain": [
       "ITensors.MPS\n",
       "[1] IndexSet{2} (dim=2|id=219|\"Qubit,Site,n=1\") (dim=2|id=53|\"Link,fact\")\n",
       "[2] IndexSet{3} (dim=2|id=53|\"Link,fact\") (dim=2|id=544|\"Qubit,Site,n=2\") (dim=4|id=491|\"Link,fact\")\n",
       "[3] IndexSet{3} (dim=2|id=506|\"Qubit,Site,n=3\") (dim=4|id=491|\"Link,fact\") (dim=2|id=761|\"Link,fact\")\n",
       "[4] IndexSet{2} (dim=2|id=761|\"Link,fact\") (dim=2|id=407|\"Qubit,Site,n=4\")\n"
      ]
     },
     "execution_count": 4,
     "metadata": {},
     "output_type": "execute_result"
    }
   ],
   "source": [
    "using PastaQ\n",
    "\n",
    "function PastaQ.gate(::GateName\"R\"; theta::Real, phi::Real)\n",
    "    [\n",
    "        cos(theta/2)    (-im * exp(-im * phi) * sin(theta/2))\n",
    "        (-im * exp(im * phi) * sin(theta/2))     cos(theta/2)\n",
    "    ]\n",
    "end\n",
    "\n",
    "function PastaQ.gate(::GateName\"M\"; Theta::Real)\n",
    "    [\n",
    "        cos(Theta)    0    0    (-im * sin(Theta))\n",
    "        0    cos(Theta)    (-im * sin(Theta))    0\n",
    "        0    (-im * sin(Theta))    cos(Theta)    0\n",
    "        (-im * sin(Theta))    0    0    cos(Theta)\n",
    "    ]\n",
    "end\n",
    "\n",
    "function run(N, depth)\n",
    "    # Random circuit.\n",
    "    gates = Vector{Tuple}[]\n",
    "\n",
    "    for i in 1:depth\n",
    "        one_qubit_layer = Tuple[]\n",
    "        two_qubit_layer = Tuple[]\n",
    "\n",
    "        for j in 1:N\n",
    "            gate = (\"R\", j, (theta=2pi*rand(), phi=2pi*rand()))\n",
    "            push!(one_qubit_layer, gate)\n",
    "        end\n",
    "\n",
    "        # Alternate start qubit for pairs.\n",
    "        idx_first = i % 2 + 1\n",
    "\n",
    "        for j in idx_first:2:(N-1)\n",
    "            gate = (\"M\", (j, j+1), (Theta=2pi*rand(),))\n",
    "            push!(two_qubit_layer, gate)\n",
    "        end\n",
    "\n",
    "        push!(gates, one_qubit_layer)\n",
    "        push!(gates, two_qubit_layer)\n",
    "    end\n",
    "\n",
    "    psi = runcircuit(N, gates)\n",
    "end\n"
   ]
  },
  {
   "cell_type": "markdown",
   "metadata": {},
   "source": [
    "### Executing the circuit for various depths and widths: [N=3,D=3], [N=3, D=4], [N=3,D=5], [N=4,D=3], [N=4, D=4, [N=4,D=5]."
   ]
  },
  {
   "cell_type": "code",
   "execution_count": 125,
   "metadata": {
    "ExecuteTime": {
     "end_time": "2021-07-10T22:49:02.235000+01:00",
     "start_time": "2021-07-10T21:49:02.137Z"
    }
   },
   "outputs": [
    {
     "data": {
      "text/plain": [
       "MPS\n",
       "[1] IndexSet{2} (dim=2|id=739|\"Qubit,Site,n=1\") (dim=2|id=969|\"Link,fact\")\n",
       "[2] IndexSet{3} (dim=2|id=969|\"Link,fact\") (dim=2|id=387|\"Qubit,Site,n=2\") (dim=4|id=373|\"Link,fact\")\n",
       "[3] IndexSet{3} (dim=2|id=27|\"Qubit,Site,n=3\") (dim=4|id=373|\"Link,fact\") (dim=2|id=803|\"Link,fact\")\n",
       "[4] IndexSet{2} (dim=2|id=803|\"Link,fact\") (dim=2|id=228|\"Qubit,Site,n=4\")\n"
      ]
     },
     "execution_count": 125,
     "metadata": {},
     "output_type": "execute_result"
    }
   ],
   "source": [
    "N3 = 3 #parse(Int, ARGS[1])\n",
    "depth3 = 3 #parse(Int, ARGS[2])\n",
    "ψ3_3 = run(N3, depth3)\n",
    "\n",
    "N3 = 3 #parse(Int, ARGS[1])\n",
    "depth4 = 4 #parse(Int, ARGS[2])\n",
    "ψ3_4 = run(N3, depth4)\n",
    "\n",
    "N3 = 3 #parse(Int, ARGS[1])\n",
    "depth5 = 5 #parse(Int, ARGS[2])\n",
    "ψ3_5 = run(N3, depth5)\n",
    "\n",
    "N4 = 4 #parse(Int, ARGS[1])\n",
    "#depth4 = 4 #parse(Int, ARGS[2])\n",
    "ψ4_3 = run(N4, depth3)\n",
    "\n",
    "N4 = 4 #parse(Int, ARGS[1])\n",
    "depth4 = 4 #parse(Int, ARGS[2])\n",
    "ψ4_4 = run(N4, depth4)\n",
    "\n",
    "N4 = 4 #parse(Int, ARGS[1])\n",
    "depth4 = 5 #parse(Int, ARGS[2])\n",
    "ψ4_5 = run(N4, depth5)\n",
    "\n",
    "N4 =4\n",
    "depth10 = 10\n",
    "ψ4_10 = run(N4, depth10)"
   ]
  },
  {
   "cell_type": "code",
   "execution_count": 58,
   "metadata": {
    "ExecuteTime": {
     "end_time": "2021-07-10T17:55:16.364000+01:00",
     "start_time": "2021-07-10T16:55:16.310Z"
    }
   },
   "outputs": [
    {
     "data": {
      "text/plain": [
       "24-element Vector{String}:\n",
       " \"Dn\"\n",
       " \"Dn\"\n",
       " \"Dn\"\n",
       " \"Dn\"\n",
       " \"Dn\"\n",
       " \"Up\"\n",
       " \"Dn\"\n",
       " \"Up\"\n",
       " \"Dn\"\n",
       " \"Dn\"\n",
       " \"Up\"\n",
       " \"Up\"\n",
       " \"Up\"\n",
       " \"Dn\"\n",
       " \"Dn\"\n",
       " \"Up\"\n",
       " \"Dn\"\n",
       " \"Up\"\n",
       " \"Up\"\n",
       " \"Up\"\n",
       " \"Dn\"\n",
       " \"Up\"\n",
       " \"Up\"\n",
       " \"Up\""
      ]
     },
     "execution_count": 58,
     "metadata": {},
     "output_type": "execute_result"
    }
   ],
   "source": [
    "# Bases states for N= 3 qubits circuit\n",
    "TT3 = [[\"Dn\", \"Dn\", \"Dn\"];\n",
    " [\"Dn\", \"Dn\", \"Up\"];\n",
    " [\"Dn\", \"Up\", \"Dn\"];\n",
    " [\"Dn\", \"Up\", \"Up\"];\n",
    " [\"Up\", \"Dn\", \"Dn\"];\n",
    " [\"Up\", \"Dn\", \"Up\"];\n",
    " [\"Up\", \"Up\", \"Dn\"];\n",
    " [\"Up\", \"Up\", \"Up\"]]"
   ]
  },
  {
   "cell_type": "code",
   "execution_count": 59,
   "metadata": {
    "ExecuteTime": {
     "end_time": "2021-07-10T17:55:36.488000+01:00",
     "start_time": "2021-07-10T16:55:36.476Z"
    }
   },
   "outputs": [
    {
     "data": {
      "text/plain": [
       "64-element Vector{String}:\n",
       " \"Dn\"\n",
       " \"Dn\"\n",
       " \"Dn\"\n",
       " \"Dn\"\n",
       " \"Dn\"\n",
       " \"Dn\"\n",
       " \"Dn\"\n",
       " \"Up\"\n",
       " \"Dn\"\n",
       " \"Dn\"\n",
       " \"Up\"\n",
       " \"Dn\"\n",
       " \"Dn\"\n",
       " ⋮\n",
       " \"Up\"\n",
       " \"Up\"\n",
       " \"Dn\"\n",
       " \"Up\"\n",
       " \"Up\"\n",
       " \"Up\"\n",
       " \"Up\"\n",
       " \"Dn\"\n",
       " \"Up\"\n",
       " \"Up\"\n",
       " \"Up\"\n",
       " \"Up\""
      ]
     },
     "execution_count": 59,
     "metadata": {},
     "output_type": "execute_result"
    }
   ],
   "source": [
    "# Bases states for N= 4 qubits circuit\n",
    "TT4 = [[\"Dn\", \"Dn\", \"Dn\", \"Dn\"];\n",
    " [\"Dn\", \"Dn\", \"Dn\", \"Up\"];\n",
    " [\"Dn\", \"Dn\", \"Up\", \"Dn\"];\n",
    " [\"Dn\", \"Dn\", \"Up\", \"Up\"];\n",
    " [\"Dn\", \"Up\", \"Dn\", \"Dn\"];\n",
    " [\"Dn\", \"Up\", \"Dn\", \"Up\"];\n",
    " [\"Dn\", \"Up\", \"Up\", \"Dn\"];\n",
    " [\"Dn\", \"Up\", \"Up\", \"Up\"];\n",
    " [\"Up\", \"Dn\", \"Dn\", \"Dn\"];\n",
    " [\"Up\", \"Dn\", \"Dn\", \"Up\"];\n",
    " [\"Up\", \"Dn\", \"Up\", \"Dn\"];\n",
    " [\"Up\", \"Dn\", \"Up\", \"Up\"];\n",
    " [\"Up\", \"Up\", \"Dn\", \"Dn\"];\n",
    " [\"Up\", \"Up\", \"Dn\", \"Up\"];\n",
    " [\"Up\", \"Up\", \"Up\", \"Dn\"];\n",
    " [\"Up\", \"Up\", \"Up\", \"Up\"]]"
   ]
  },
  {
   "cell_type": "markdown",
   "metadata": {},
   "source": [
    "## Circuit N=3, depth = 3"
   ]
  },
  {
   "cell_type": "code",
   "execution_count": 63,
   "metadata": {
    "ExecuteTime": {
     "end_time": "2021-07-10T18:42:01.114000+01:00",
     "start_time": "2021-07-10T17:42:01.003Z"
    }
   },
   "outputs": [],
   "source": [
    "using ITensors\n",
    "sites3 = siteinds(\"S=1/2\",N3)\n",
    "p3_3 = zeros(8)\n",
    "for i in 1:3:24\n",
    "    states3 = TT3[i:i+2]\n",
    "    x3 = productMPS(sites3, states3)\n",
    "    ii = i÷3 + 1\n",
    "    #println(ii)\n",
    "    #println(xxx)\n",
    "    # Here is where the width and depth matters\n",
    "    A3_3 = dot(x3,ψ3_3) \n",
    "    #println(\"Amplitude : \",A)\n",
    "    p3_3[ii] = real(A3_3)^2 + imag(A3_3)^2\n",
    "    #println(\"Probability : \",p)\n",
    "end"
   ]
  },
  {
   "cell_type": "code",
   "execution_count": 64,
   "metadata": {
    "ExecuteTime": {
     "end_time": "2021-07-10T18:42:09.383000+01:00",
     "start_time": "2021-07-10T17:42:09.378Z"
    }
   },
   "outputs": [
    {
     "name": "stdout",
     "output_type": "stream",
     "text": [
      "probability for each base state <x| = [0.24912873411721628, 0.250210811252279, 0.04722110583337227, 0.016486203614432503, 0.0689346046050677, 0.1651579254696485, 0.0322197495822404, 0.17064086552574345]\n"
     ]
    }
   ],
   "source": [
    "println(\"probability for each base state <x| = \",p3_3)"
   ]
  },
  {
   "cell_type": "code",
   "execution_count": 119,
   "metadata": {
    "ExecuteTime": {
     "end_time": "2021-07-10T22:05:31.294000+01:00",
     "start_time": "2021-07-10T21:05:31.205Z"
    }
   },
   "outputs": [
    {
     "data": {
      "image/svg+xml": [
       "<?xml version=\"1.0\" encoding=\"utf-8\"?>\n",
       "<svg xmlns=\"http://www.w3.org/2000/svg\" xmlns:xlink=\"http://www.w3.org/1999/xlink\" width=\"1000\" height=\"500\" viewBox=\"0 0 4000 2000\">\n",
       "<defs>\n",
       "  <clipPath id=\"clip210\">\n",
       "    <rect x=\"0\" y=\"0\" width=\"4000\" height=\"2000\"/>\n",
       "  </clipPath>\n",
       "</defs>\n",
       "<path clip-path=\"url(#clip210)\" d=\"\n",
       "M0 2000 L4000 2000 L4000 0 L0 0  Z\n",
       "  \" fill=\"#ffffff\" fill-rule=\"evenodd\" fill-opacity=\"1\"/>\n",
       "<defs>\n",
       "  <clipPath id=\"clip211\">\n",
       "    <rect x=\"800\" y=\"0\" width=\"2801\" height=\"2000\"/>\n",
       "  </clipPath>\n",
       "</defs>\n",
       "<path clip-path=\"url(#clip210)\" d=\"\n",
       "M172.598 1891.09 L3952.76 1891.09 L3952.76 47.2441 L172.598 47.2441  Z\n",
       "  \" fill=\"#ffffff\" fill-rule=\"evenodd\" fill-opacity=\"1\"/>\n",
       "<defs>\n",
       "  <clipPath id=\"clip212\">\n",
       "    <rect x=\"172\" y=\"47\" width=\"3781\" height=\"1845\"/>\n",
       "  </clipPath>\n",
       "</defs>\n",
       "<polyline clip-path=\"url(#clip212)\" style=\"stroke:#000000; stroke-linecap:butt; stroke-linejoin:round; stroke-width:2; stroke-opacity:0.1; fill:none\" points=\"\n",
       "  227.9,1891.09 227.9,47.2441 \n",
       "  \"/>\n",
       "<polyline clip-path=\"url(#clip212)\" style=\"stroke:#000000; stroke-linecap:butt; stroke-linejoin:round; stroke-width:2; stroke-opacity:0.1; fill:none\" points=\"\n",
       "  1261.58,1891.09 1261.58,47.2441 \n",
       "  \"/>\n",
       "<polyline clip-path=\"url(#clip212)\" style=\"stroke:#000000; stroke-linecap:butt; stroke-linejoin:round; stroke-width:2; stroke-opacity:0.1; fill:none\" points=\"\n",
       "  2295.25,1891.09 2295.25,47.2441 \n",
       "  \"/>\n",
       "<polyline clip-path=\"url(#clip212)\" style=\"stroke:#000000; stroke-linecap:butt; stroke-linejoin:round; stroke-width:2; stroke-opacity:0.1; fill:none\" points=\"\n",
       "  3328.93,1891.09 3328.93,47.2441 \n",
       "  \"/>\n",
       "<polyline clip-path=\"url(#clip210)\" style=\"stroke:#000000; stroke-linecap:butt; stroke-linejoin:round; stroke-width:4; stroke-opacity:1; fill:none\" points=\"\n",
       "  172.598,1891.09 3952.76,1891.09 \n",
       "  \"/>\n",
       "<polyline clip-path=\"url(#clip210)\" style=\"stroke:#000000; stroke-linecap:butt; stroke-linejoin:round; stroke-width:4; stroke-opacity:1; fill:none\" points=\"\n",
       "  227.9,1891.09 227.9,1868.96 \n",
       "  \"/>\n",
       "<polyline clip-path=\"url(#clip210)\" style=\"stroke:#000000; stroke-linecap:butt; stroke-linejoin:round; stroke-width:4; stroke-opacity:1; fill:none\" points=\"\n",
       "  1261.58,1891.09 1261.58,1868.96 \n",
       "  \"/>\n",
       "<polyline clip-path=\"url(#clip210)\" style=\"stroke:#000000; stroke-linecap:butt; stroke-linejoin:round; stroke-width:4; stroke-opacity:1; fill:none\" points=\"\n",
       "  2295.25,1891.09 2295.25,1868.96 \n",
       "  \"/>\n",
       "<polyline clip-path=\"url(#clip210)\" style=\"stroke:#000000; stroke-linecap:butt; stroke-linejoin:round; stroke-width:4; stroke-opacity:1; fill:none\" points=\"\n",
       "  3328.93,1891.09 3328.93,1868.96 \n",
       "  \"/>\n",
       "<path clip-path=\"url(#clip210)\" d=\"M227.9 1933.08 Q224.289 1933.08 222.46 1936.64 Q220.655 1940.19 220.655 1947.31 Q220.655 1954.42 222.46 1957.99 Q224.289 1961.53 227.9 1961.53 Q231.534 1961.53 233.34 1957.99 Q235.168 1954.42 235.168 1947.31 Q235.168 1940.19 233.34 1936.64 Q231.534 1933.08 227.9 1933.08 M227.9 1929.37 Q233.71 1929.37 236.766 1933.98 Q239.844 1938.56 239.844 1947.31 Q239.844 1956.04 236.766 1960.65 Q233.71 1965.23 227.9 1965.23 Q222.09 1965.23 219.011 1960.65 Q215.956 1956.04 215.956 1947.31 Q215.956 1938.56 219.011 1933.98 Q222.09 1929.37 227.9 1929.37 Z\" fill=\"#000000\" fill-rule=\"evenodd\" fill-opacity=\"1\" /><path clip-path=\"url(#clip210)\" d=\"M1240.35 1960.62 L1256.67 1960.62 L1256.67 1964.56 L1234.73 1964.56 L1234.73 1960.62 Q1237.39 1957.87 1241.97 1953.24 Q1246.58 1948.59 1247.76 1947.25 Q1250 1944.72 1250.88 1942.99 Q1251.79 1941.23 1251.79 1939.54 Q1251.79 1936.78 1249.84 1935.05 Q1247.92 1933.31 1244.82 1933.31 Q1242.62 1933.31 1240.17 1934.07 Q1237.73 1934.84 1234.96 1936.39 L1234.96 1931.67 Q1237.78 1930.53 1240.23 1929.95 Q1242.69 1929.37 1244.73 1929.37 Q1250.1 1929.37 1253.29 1932.06 Q1256.48 1934.75 1256.48 1939.24 Q1256.48 1941.37 1255.67 1943.29 Q1254.89 1945.18 1252.78 1947.78 Q1252.2 1948.45 1249.1 1951.67 Q1246 1954.86 1240.35 1960.62 Z\" fill=\"#000000\" fill-rule=\"evenodd\" fill-opacity=\"1\" /><path clip-path=\"url(#clip210)\" d=\"M1276.48 1933.08 Q1272.87 1933.08 1271.04 1936.64 Q1269.24 1940.19 1269.24 1947.31 Q1269.24 1954.42 1271.04 1957.99 Q1272.87 1961.53 1276.48 1961.53 Q1280.12 1961.53 1281.92 1957.99 Q1283.75 1954.42 1283.75 1947.31 Q1283.75 1940.19 1281.92 1936.64 Q1280.12 1933.08 1276.48 1933.08 M1276.48 1929.37 Q1282.29 1929.37 1285.35 1933.98 Q1288.43 1938.56 1288.43 1947.31 Q1288.43 1956.04 1285.35 1960.65 Q1282.29 1965.23 1276.48 1965.23 Q1270.67 1965.23 1267.6 1960.65 Q1264.54 1956.04 1264.54 1947.31 Q1264.54 1938.56 1267.6 1933.98 Q1270.67 1929.37 1276.48 1929.37 Z\" fill=\"#000000\" fill-rule=\"evenodd\" fill-opacity=\"1\" /><path clip-path=\"url(#clip210)\" d=\"M2283.43 1934.07 L2271.62 1952.52 L2283.43 1952.52 L2283.43 1934.07 M2282.2 1930 L2288.08 1930 L2288.08 1952.52 L2293.01 1952.52 L2293.01 1956.41 L2288.08 1956.41 L2288.08 1964.56 L2283.43 1964.56 L2283.43 1956.41 L2267.82 1956.41 L2267.82 1951.9 L2282.2 1930 Z\" fill=\"#000000\" fill-rule=\"evenodd\" fill-opacity=\"1\" /><path clip-path=\"url(#clip210)\" d=\"M2310.74 1933.08 Q2307.13 1933.08 2305.3 1936.64 Q2303.5 1940.19 2303.5 1947.31 Q2303.5 1954.42 2305.3 1957.99 Q2307.13 1961.53 2310.74 1961.53 Q2314.37 1961.53 2316.18 1957.99 Q2318.01 1954.42 2318.01 1947.31 Q2318.01 1940.19 2316.18 1936.64 Q2314.37 1933.08 2310.74 1933.08 M2310.74 1929.37 Q2316.55 1929.37 2319.61 1933.98 Q2322.68 1938.56 2322.68 1947.31 Q2322.68 1956.04 2319.61 1960.65 Q2316.55 1965.23 2310.74 1965.23 Q2304.93 1965.23 2301.85 1960.65 Q2298.8 1956.04 2298.8 1947.31 Q2298.8 1938.56 2301.85 1933.98 Q2304.93 1929.37 2310.74 1929.37 Z\" fill=\"#000000\" fill-rule=\"evenodd\" fill-opacity=\"1\" /><path clip-path=\"url(#clip210)\" d=\"M3314.34 1945.42 Q3311.19 1945.42 3309.34 1947.57 Q3307.51 1949.72 3307.51 1953.47 Q3307.51 1957.2 3309.34 1959.37 Q3311.19 1961.53 3314.34 1961.53 Q3317.48 1961.53 3319.31 1959.37 Q3321.17 1957.2 3321.17 1953.47 Q3321.17 1949.72 3319.31 1947.57 Q3317.48 1945.42 3314.34 1945.42 M3323.62 1930.76 L3323.62 1935.02 Q3321.86 1934.19 3320.05 1933.75 Q3318.27 1933.31 3316.51 1933.31 Q3311.88 1933.31 3309.43 1936.44 Q3307 1939.56 3306.65 1945.88 Q3308.02 1943.87 3310.08 1942.8 Q3312.14 1941.71 3314.61 1941.71 Q3319.82 1941.71 3322.83 1944.88 Q3325.86 1948.03 3325.86 1953.47 Q3325.86 1958.8 3322.72 1962.01 Q3319.57 1965.23 3314.34 1965.23 Q3308.34 1965.23 3305.17 1960.65 Q3302 1956.04 3302 1947.31 Q3302 1939.12 3305.89 1934.26 Q3309.78 1929.37 3316.33 1929.37 Q3318.09 1929.37 3319.87 1929.72 Q3321.67 1930.07 3323.62 1930.76 Z\" fill=\"#000000\" fill-rule=\"evenodd\" fill-opacity=\"1\" /><path clip-path=\"url(#clip210)\" d=\"M3343.92 1933.08 Q3340.31 1933.08 3338.48 1936.64 Q3336.67 1940.19 3336.67 1947.31 Q3336.67 1954.42 3338.48 1957.99 Q3340.31 1961.53 3343.92 1961.53 Q3347.55 1961.53 3349.36 1957.99 Q3351.19 1954.42 3351.19 1947.31 Q3351.19 1940.19 3349.36 1936.64 Q3347.55 1933.08 3343.92 1933.08 M3343.92 1929.37 Q3349.73 1929.37 3352.79 1933.98 Q3355.86 1938.56 3355.86 1947.31 Q3355.86 1956.04 3352.79 1960.65 Q3349.73 1965.23 3343.92 1965.23 Q3338.11 1965.23 3335.03 1960.65 Q3331.98 1956.04 3331.98 1947.31 Q3331.98 1938.56 3335.03 1933.98 Q3338.11 1929.37 3343.92 1929.37 Z\" fill=\"#000000\" fill-rule=\"evenodd\" fill-opacity=\"1\" /><polyline clip-path=\"url(#clip212)\" style=\"stroke:#000000; stroke-linecap:butt; stroke-linejoin:round; stroke-width:2; stroke-opacity:0.1; fill:none\" points=\"\n",
       "  172.598,1891.09 3952.76,1891.09 \n",
       "  \"/>\n",
       "<polyline clip-path=\"url(#clip212)\" style=\"stroke:#000000; stroke-linecap:butt; stroke-linejoin:round; stroke-width:2; stroke-opacity:0.1; fill:none\" points=\"\n",
       "  172.598,1522.32 3952.76,1522.32 \n",
       "  \"/>\n",
       "<polyline clip-path=\"url(#clip212)\" style=\"stroke:#000000; stroke-linecap:butt; stroke-linejoin:round; stroke-width:2; stroke-opacity:0.1; fill:none\" points=\"\n",
       "  172.598,1153.55 3952.76,1153.55 \n",
       "  \"/>\n",
       "<polyline clip-path=\"url(#clip212)\" style=\"stroke:#000000; stroke-linecap:butt; stroke-linejoin:round; stroke-width:2; stroke-opacity:0.1; fill:none\" points=\"\n",
       "  172.598,784.782 3952.76,784.782 \n",
       "  \"/>\n",
       "<polyline clip-path=\"url(#clip212)\" style=\"stroke:#000000; stroke-linecap:butt; stroke-linejoin:round; stroke-width:2; stroke-opacity:0.1; fill:none\" points=\"\n",
       "  172.598,416.013 3952.76,416.013 \n",
       "  \"/>\n",
       "<polyline clip-path=\"url(#clip212)\" style=\"stroke:#000000; stroke-linecap:butt; stroke-linejoin:round; stroke-width:2; stroke-opacity:0.1; fill:none\" points=\"\n",
       "  172.598,47.2441 3952.76,47.2441 \n",
       "  \"/>\n",
       "<polyline clip-path=\"url(#clip210)\" style=\"stroke:#000000; stroke-linecap:butt; stroke-linejoin:round; stroke-width:4; stroke-opacity:1; fill:none\" points=\"\n",
       "  172.598,1891.09 172.598,47.2441 \n",
       "  \"/>\n",
       "<polyline clip-path=\"url(#clip210)\" style=\"stroke:#000000; stroke-linecap:butt; stroke-linejoin:round; stroke-width:4; stroke-opacity:1; fill:none\" points=\"\n",
       "  172.598,1891.09 217.96,1891.09 \n",
       "  \"/>\n",
       "<polyline clip-path=\"url(#clip210)\" style=\"stroke:#000000; stroke-linecap:butt; stroke-linejoin:round; stroke-width:4; stroke-opacity:1; fill:none\" points=\"\n",
       "  172.598,1522.32 217.96,1522.32 \n",
       "  \"/>\n",
       "<polyline clip-path=\"url(#clip210)\" style=\"stroke:#000000; stroke-linecap:butt; stroke-linejoin:round; stroke-width:4; stroke-opacity:1; fill:none\" points=\"\n",
       "  172.598,1153.55 217.96,1153.55 \n",
       "  \"/>\n",
       "<polyline clip-path=\"url(#clip210)\" style=\"stroke:#000000; stroke-linecap:butt; stroke-linejoin:round; stroke-width:4; stroke-opacity:1; fill:none\" points=\"\n",
       "  172.598,784.782 217.96,784.782 \n",
       "  \"/>\n",
       "<polyline clip-path=\"url(#clip210)\" style=\"stroke:#000000; stroke-linecap:butt; stroke-linejoin:round; stroke-width:4; stroke-opacity:1; fill:none\" points=\"\n",
       "  172.598,416.013 217.96,416.013 \n",
       "  \"/>\n",
       "<polyline clip-path=\"url(#clip210)\" style=\"stroke:#000000; stroke-linecap:butt; stroke-linejoin:round; stroke-width:4; stroke-opacity:1; fill:none\" points=\"\n",
       "  172.598,47.2441 217.96,47.2441 \n",
       "  \"/>\n",
       "<path clip-path=\"url(#clip210)\" d=\"M55.4226 1876.89 Q51.8115 1876.89 49.9828 1880.45 Q48.1773 1883.99 48.1773 1891.12 Q48.1773 1898.23 49.9828 1901.79 Q51.8115 1905.34 55.4226 1905.34 Q59.0569 1905.34 60.8624 1901.79 Q62.6911 1898.23 62.6911 1891.12 Q62.6911 1883.99 60.8624 1880.45 Q59.0569 1876.89 55.4226 1876.89 M55.4226 1873.18 Q61.2328 1873.18 64.2883 1877.79 Q67.367 1882.37 67.367 1891.12 Q67.367 1899.85 64.2883 1904.46 Q61.2328 1909.04 55.4226 1909.04 Q49.6125 1909.04 46.5338 1904.46 Q43.4782 1899.85 43.4782 1891.12 Q43.4782 1882.37 46.5338 1877.79 Q49.6125 1873.18 55.4226 1873.18 Z\" fill=\"#000000\" fill-rule=\"evenodd\" fill-opacity=\"1\" /><path clip-path=\"url(#clip210)\" d=\"M75.5845 1902.49 L80.4688 1902.49 L80.4688 1908.37 L75.5845 1908.37 L75.5845 1902.49 Z\" fill=\"#000000\" fill-rule=\"evenodd\" fill-opacity=\"1\" /><path clip-path=\"url(#clip210)\" d=\"M100.654 1876.89 Q97.0428 1876.89 95.2141 1880.45 Q93.4085 1883.99 93.4085 1891.12 Q93.4085 1898.23 95.2141 1901.79 Q97.0428 1905.34 100.654 1905.34 Q104.288 1905.34 106.094 1901.79 Q107.922 1898.23 107.922 1891.12 Q107.922 1883.99 106.094 1880.45 Q104.288 1876.89 100.654 1876.89 M100.654 1873.18 Q106.464 1873.18 109.52 1877.79 Q112.598 1882.37 112.598 1891.12 Q112.598 1899.85 109.52 1904.46 Q106.464 1909.04 100.654 1909.04 Q94.8437 1909.04 91.765 1904.46 Q88.7095 1899.85 88.7095 1891.12 Q88.7095 1882.37 91.765 1877.79 Q94.8437 1873.18 100.654 1873.18 Z\" fill=\"#000000\" fill-rule=\"evenodd\" fill-opacity=\"1\" /><path clip-path=\"url(#clip210)\" d=\"M57.0198 1508.12 Q53.4087 1508.12 51.58 1511.68 Q49.7745 1515.22 49.7745 1522.35 Q49.7745 1529.46 51.58 1533.03 Q53.4087 1536.57 57.0198 1536.57 Q60.6541 1536.57 62.4596 1533.03 Q64.2883 1529.46 64.2883 1522.35 Q64.2883 1515.22 62.4596 1511.68 Q60.6541 1508.12 57.0198 1508.12 M57.0198 1504.41 Q62.83 1504.41 65.8855 1509.02 Q68.9642 1513.6 68.9642 1522.35 Q68.9642 1531.08 65.8855 1535.69 Q62.83 1540.27 57.0198 1540.27 Q51.2097 1540.27 48.131 1535.69 Q45.0754 1531.08 45.0754 1522.35 Q45.0754 1513.6 48.131 1509.02 Q51.2097 1504.41 57.0198 1504.41 Z\" fill=\"#000000\" fill-rule=\"evenodd\" fill-opacity=\"1\" /><path clip-path=\"url(#clip210)\" d=\"M77.1818 1533.72 L82.066 1533.72 L82.066 1539.6 L77.1818 1539.6 L77.1818 1533.72 Z\" fill=\"#000000\" fill-rule=\"evenodd\" fill-opacity=\"1\" /><path clip-path=\"url(#clip210)\" d=\"M96.2789 1535.66 L112.598 1535.66 L112.598 1539.6 L90.6539 1539.6 L90.6539 1535.66 Q93.3159 1532.91 97.8992 1528.28 Q102.506 1523.63 103.686 1522.28 Q105.932 1519.76 106.811 1518.03 Q107.714 1516.27 107.714 1514.58 Q107.714 1511.82 105.77 1510.09 Q103.848 1508.35 100.746 1508.35 Q98.5474 1508.35 96.0937 1509.11 Q93.6632 1509.88 90.8854 1511.43 L90.8854 1506.71 Q93.7094 1505.57 96.1631 1504.99 Q98.6168 1504.41 100.654 1504.41 Q106.024 1504.41 109.219 1507.1 Q112.413 1509.78 112.413 1514.28 Q112.413 1516.4 111.603 1518.33 Q110.816 1520.22 108.709 1522.82 Q108.131 1523.49 105.029 1526.71 Q101.927 1529.9 96.2789 1535.66 Z\" fill=\"#000000\" fill-rule=\"evenodd\" fill-opacity=\"1\" /><path clip-path=\"url(#clip210)\" d=\"M54.9365 1139.35 Q51.3254 1139.35 49.4967 1142.91 Q47.6912 1146.46 47.6912 1153.59 Q47.6912 1160.69 49.4967 1164.26 Q51.3254 1167.8 54.9365 1167.8 Q58.5707 1167.8 60.3763 1164.26 Q62.205 1160.69 62.205 1153.59 Q62.205 1146.46 60.3763 1142.91 Q58.5707 1139.35 54.9365 1139.35 M54.9365 1135.65 Q60.7467 1135.65 63.8022 1140.25 Q66.8809 1144.84 66.8809 1153.59 Q66.8809 1162.31 63.8022 1166.92 Q60.7467 1171.5 54.9365 1171.5 Q49.1264 1171.5 46.0477 1166.92 Q42.9921 1162.31 42.9921 1153.59 Q42.9921 1144.84 46.0477 1140.25 Q49.1264 1135.65 54.9365 1135.65 Z\" fill=\"#000000\" fill-rule=\"evenodd\" fill-opacity=\"1\" /><path clip-path=\"url(#clip210)\" d=\"M75.0984 1164.95 L79.9827 1164.95 L79.9827 1170.83 L75.0984 1170.83 L75.0984 1164.95 Z\" fill=\"#000000\" fill-rule=\"evenodd\" fill-opacity=\"1\" /><path clip-path=\"url(#clip210)\" d=\"M103.015 1140.34 L91.2095 1158.79 L103.015 1158.79 L103.015 1140.34 M101.788 1136.27 L107.668 1136.27 L107.668 1158.79 L112.598 1158.79 L112.598 1162.68 L107.668 1162.68 L107.668 1170.83 L103.015 1170.83 L103.015 1162.68 L87.4132 1162.68 L87.4132 1158.17 L101.788 1136.27 Z\" fill=\"#000000\" fill-rule=\"evenodd\" fill-opacity=\"1\" /><path clip-path=\"url(#clip210)\" d=\"M55.2606 770.58 Q51.6495 770.58 49.8208 774.145 Q48.0152 777.687 48.0152 784.816 Q48.0152 791.923 49.8208 795.488 Q51.6495 799.029 55.2606 799.029 Q58.8948 799.029 60.7004 795.488 Q62.5291 791.923 62.5291 784.816 Q62.5291 777.687 60.7004 774.145 Q58.8948 770.58 55.2606 770.58 M55.2606 766.877 Q61.0707 766.877 64.1263 771.483 Q67.205 776.066 67.205 784.816 Q67.205 793.543 64.1263 798.15 Q61.0707 802.733 55.2606 802.733 Q49.4504 802.733 46.3717 798.15 Q43.3162 793.543 43.3162 784.816 Q43.3162 776.066 46.3717 771.483 Q49.4504 766.877 55.2606 766.877 Z\" fill=\"#000000\" fill-rule=\"evenodd\" fill-opacity=\"1\" /><path clip-path=\"url(#clip210)\" d=\"M75.4225 796.182 L80.3067 796.182 L80.3067 802.062 L75.4225 802.062 L75.4225 796.182 Z\" fill=\"#000000\" fill-rule=\"evenodd\" fill-opacity=\"1\" /><path clip-path=\"url(#clip210)\" d=\"M101.071 782.918 Q97.9224 782.918 96.0705 785.071 Q94.2419 787.224 94.2419 790.974 Q94.2419 794.701 96.0705 796.876 Q97.9224 799.029 101.071 799.029 Q104.219 799.029 106.047 796.876 Q107.899 794.701 107.899 790.974 Q107.899 787.224 106.047 785.071 Q104.219 782.918 101.071 782.918 M110.353 768.265 L110.353 772.525 Q108.594 771.691 106.788 771.252 Q105.006 770.812 103.246 770.812 Q98.6168 770.812 96.1631 773.937 Q93.7326 777.062 93.3854 783.381 Q94.7511 781.367 96.8113 780.302 Q98.8715 779.215 101.348 779.215 Q106.557 779.215 109.566 782.386 Q112.598 785.534 112.598 790.974 Q112.598 796.298 109.45 799.515 Q106.302 802.733 101.071 802.733 Q95.0752 802.733 91.9039 798.15 Q88.7326 793.543 88.7326 784.816 Q88.7326 776.622 92.6215 771.761 Q96.5104 766.877 103.061 766.877 Q104.82 766.877 106.603 767.224 Q108.408 767.571 110.353 768.265 Z\" fill=\"#000000\" fill-rule=\"evenodd\" fill-opacity=\"1\" /><path clip-path=\"url(#clip210)\" d=\"M55.5152 401.812 Q51.9041 401.812 50.0754 405.376 Q48.2699 408.918 48.2699 416.048 Q48.2699 423.154 50.0754 426.719 Q51.9041 430.26 55.5152 430.26 Q59.1494 430.26 60.955 426.719 Q62.7837 423.154 62.7837 416.048 Q62.7837 408.918 60.955 405.376 Q59.1494 401.812 55.5152 401.812 M55.5152 398.108 Q61.3254 398.108 64.3809 402.714 Q67.4596 407.298 67.4596 416.048 Q67.4596 424.774 64.3809 429.381 Q61.3254 433.964 55.5152 433.964 Q49.7051 433.964 46.6264 429.381 Q43.5708 424.774 43.5708 416.048 Q43.5708 407.298 46.6264 402.714 Q49.7051 398.108 55.5152 398.108 Z\" fill=\"#000000\" fill-rule=\"evenodd\" fill-opacity=\"1\" /><path clip-path=\"url(#clip210)\" d=\"M75.6771 427.413 L80.5614 427.413 L80.5614 433.293 L75.6771 433.293 L75.6771 427.413 Z\" fill=\"#000000\" fill-rule=\"evenodd\" fill-opacity=\"1\" /><path clip-path=\"url(#clip210)\" d=\"M100.746 416.881 Q97.4131 416.881 95.4918 418.663 Q93.5937 420.446 93.5937 423.571 Q93.5937 426.696 95.4918 428.478 Q97.4131 430.26 100.746 430.26 Q104.08 430.26 106.001 428.478 Q107.922 426.673 107.922 423.571 Q107.922 420.446 106.001 418.663 Q104.103 416.881 100.746 416.881 M96.0705 414.89 Q93.0613 414.149 91.3715 412.089 Q89.7048 410.029 89.7048 407.066 Q89.7048 402.923 92.6446 400.515 Q95.6076 398.108 100.746 398.108 Q105.908 398.108 108.848 400.515 Q111.788 402.923 111.788 407.066 Q111.788 410.029 110.098 412.089 Q108.432 414.149 105.445 414.89 Q108.825 415.677 110.7 417.969 Q112.598 420.261 112.598 423.571 Q112.598 428.594 109.52 431.279 Q106.464 433.964 100.746 433.964 Q95.0289 433.964 91.9502 431.279 Q88.8947 428.594 88.8947 423.571 Q88.8947 420.261 90.7928 417.969 Q92.6909 415.677 96.0705 414.89 M94.3576 407.506 Q94.3576 410.191 96.0242 411.696 Q97.7141 413.2 100.746 413.2 Q103.756 413.2 105.445 411.696 Q107.158 410.191 107.158 407.506 Q107.158 404.821 105.445 403.316 Q103.756 401.812 100.746 401.812 Q97.7141 401.812 96.0242 403.316 Q94.3576 404.821 94.3576 407.506 Z\" fill=\"#000000\" fill-rule=\"evenodd\" fill-opacity=\"1\" /><path clip-path=\"url(#clip210)\" d=\"M46.2328 60.5889 L53.8717 60.5889 L53.8717 34.2233 L45.5616 35.89 L45.5616 31.6308 L53.8254 29.9641 L58.5013 29.9641 L58.5013 60.5889 L66.1402 60.5889 L66.1402 64.5241 L46.2328 64.5241 L46.2328 60.5889 Z\" fill=\"#000000\" fill-rule=\"evenodd\" fill-opacity=\"1\" /><path clip-path=\"url(#clip210)\" d=\"M75.5845 58.6445 L80.4688 58.6445 L80.4688 64.5241 L75.5845 64.5241 L75.5845 58.6445 Z\" fill=\"#000000\" fill-rule=\"evenodd\" fill-opacity=\"1\" /><path clip-path=\"url(#clip210)\" d=\"M100.654 33.0428 Q97.0428 33.0428 95.2141 36.6076 Q93.4085 40.1492 93.4085 47.2788 Q93.4085 54.3853 95.2141 57.9501 Q97.0428 61.4917 100.654 61.4917 Q104.288 61.4917 106.094 57.9501 Q107.922 54.3853 107.922 47.2788 Q107.922 40.1492 106.094 36.6076 Q104.288 33.0428 100.654 33.0428 M100.654 29.3391 Q106.464 29.3391 109.52 33.9456 Q112.598 38.5289 112.598 47.2788 Q112.598 56.0056 109.52 60.6121 Q106.464 65.1954 100.654 65.1954 Q94.8437 65.1954 91.765 60.6121 Q88.7095 56.0056 88.7095 47.2788 Q88.7095 38.5289 91.765 33.9456 Q94.8437 29.3391 100.654 29.3391 Z\" fill=\"#000000\" fill-rule=\"evenodd\" fill-opacity=\"1\" /><circle clip-path=\"url(#clip212)\" cx=\"279.584\" cy=\"969.166\" r=\"89\" fill=\"#009af9\" fill-rule=\"evenodd\" fill-opacity=\"1\" stroke=\"#000000\" stroke-opacity=\"1\" stroke-width=\"4\"/>\n",
       "<circle clip-path=\"url(#clip212)\" cx=\"744.739\" cy=\"969.166\" r=\"90\" fill=\"#e26f46\" fill-rule=\"evenodd\" fill-opacity=\"1\" stroke=\"#000000\" stroke-opacity=\"1\" stroke-width=\"4\"/>\n",
       "<circle clip-path=\"url(#clip212)\" cx=\"1261.58\" cy=\"969.166\" r=\"16\" fill=\"#3da44d\" fill-rule=\"evenodd\" fill-opacity=\"1\" stroke=\"#000000\" stroke-opacity=\"1\" stroke-width=\"4\"/>\n",
       "<circle clip-path=\"url(#clip212)\" cx=\"1778.42\" cy=\"969.166\" r=\"5\" fill=\"#c271d2\" fill-rule=\"evenodd\" fill-opacity=\"1\" stroke=\"#000000\" stroke-opacity=\"1\" stroke-width=\"4\"/>\n",
       "<circle clip-path=\"url(#clip212)\" cx=\"2295.25\" cy=\"969.166\" r=\"24\" fill=\"#ac8d18\" fill-rule=\"evenodd\" fill-opacity=\"1\" stroke=\"#000000\" stroke-opacity=\"1\" stroke-width=\"4\"/>\n",
       "<circle clip-path=\"url(#clip212)\" cx=\"2812.09\" cy=\"969.166\" r=\"59\" fill=\"#00a9ad\" fill-rule=\"evenodd\" fill-opacity=\"1\" stroke=\"#000000\" stroke-opacity=\"1\" stroke-width=\"4\"/>\n",
       "<circle clip-path=\"url(#clip212)\" cx=\"3328.93\" cy=\"969.166\" r=\"11\" fill=\"#ed5d92\" fill-rule=\"evenodd\" fill-opacity=\"1\" stroke=\"#000000\" stroke-opacity=\"1\" stroke-width=\"4\"/>\n",
       "<circle clip-path=\"url(#clip212)\" cx=\"3845.77\" cy=\"969.166\" r=\"61\" fill=\"#c68125\" fill-rule=\"evenodd\" fill-opacity=\"1\" stroke=\"#000000\" stroke-opacity=\"1\" stroke-width=\"4\"/>\n",
       "</svg>\n"
      ]
     },
     "execution_count": 119,
     "metadata": {},
     "output_type": "execute_result"
    }
   ],
   "source": [
    "using Plots;\n",
    "plot!()\n",
    "scatter([1],[0.5],markersize= p3_3[1]*100,legend = false,size=(500,500),ylims=(0,1))\n",
    "scatter!([10],[0.5],markersize= p3_3[2]*100,legend = false,size=(500,500),ylims=(0,1))\n",
    "scatter!([20],[0.5],markersize= p3_3[3]*100,legend = false,size=(500,500),ylims=(0,1))\n",
    "scatter!([30],[0.5],markersize= p3_3[4]*100,legend = false,size=(500,500),ylims=(0,1))\n",
    "scatter!([40],[0.5],markersize= p3_3[5]*100,legend = false,size=(500,500),ylims=(0,1))\n",
    "scatter!([50],[0.5],markersize= p3_3[6]*100,legend = false,size=(500,500),ylims=(0,1))\n",
    "scatter!([60],[0.5],markersize= p3_3[7]*100,legend = false,size=(500,500),ylims=(0,1))\n",
    "scatter!([70],[0.5],markersize= p3_3[8]*100,legend = false,size=(500,500),ylims=(0,1))\n",
    "plot!(size=(1000,500))"
   ]
  },
  {
   "cell_type": "markdown",
   "metadata": {},
   "source": [
    "## Circuit N=3, depth = 4"
   ]
  },
  {
   "cell_type": "code",
   "execution_count": 66,
   "metadata": {
    "ExecuteTime": {
     "end_time": "2021-07-10T18:58:29.248000+01:00",
     "start_time": "2021-07-10T17:58:28.810Z"
    }
   },
   "outputs": [],
   "source": [
    "using ITensors\n",
    "sites3 = siteinds(\"S=1/2\",N3)\n",
    "p3_4 = zeros(8)\n",
    "for i in 1:3:24\n",
    "    states3 = TT3[i:i+2]\n",
    "    x3 = productMPS(sites3, states3)\n",
    "    ii = i÷3 + 1\n",
    "    #println(ii)\n",
    "    #println(xxx)\n",
    "    # Here is where the width and depth matters\n",
    "    A3_4 = dot(x3,ψ3_4) \n",
    "    #println(\"Amplitude : \",A)\n",
    "    p3_4[ii] = real(A3_4)^2 + imag(A3_4)^2\n",
    "    #println(\"Probability : \",p)\n",
    "end"
   ]
  },
  {
   "cell_type": "code",
   "execution_count": 87,
   "metadata": {
    "ExecuteTime": {
     "end_time": "2021-07-10T19:34:53.659000+01:00",
     "start_time": "2021-07-10T18:34:53.648Z"
    }
   },
   "outputs": [
    {
     "name": "stdout",
     "output_type": "stream",
     "text": [
      "probability for each base state <x| = [0.004188917079803631, 0.14882805528527002, 0.011685523817539711, 0.21197192362485315, 0.07002755542146513, 0.19822233716469906, 0.07407415080269074, 0.28100153680367773]\n"
     ]
    }
   ],
   "source": [
    "println(\"probability for each base state <x| = \",p3_4)"
   ]
  },
  {
   "cell_type": "code",
   "execution_count": 118,
   "metadata": {
    "ExecuteTime": {
     "end_time": "2021-07-10T22:05:00.097000+01:00",
     "start_time": "2021-07-10T21:05:00.054Z"
    }
   },
   "outputs": [
    {
     "data": {
      "image/svg+xml": [
       "<?xml version=\"1.0\" encoding=\"utf-8\"?>\n",
       "<svg xmlns=\"http://www.w3.org/2000/svg\" xmlns:xlink=\"http://www.w3.org/1999/xlink\" width=\"1000\" height=\"500\" viewBox=\"0 0 4000 2000\">\n",
       "<defs>\n",
       "  <clipPath id=\"clip170\">\n",
       "    <rect x=\"0\" y=\"0\" width=\"4000\" height=\"2000\"/>\n",
       "  </clipPath>\n",
       "</defs>\n",
       "<path clip-path=\"url(#clip170)\" d=\"\n",
       "M0 2000 L4000 2000 L4000 0 L0 0  Z\n",
       "  \" fill=\"#ffffff\" fill-rule=\"evenodd\" fill-opacity=\"1\"/>\n",
       "<defs>\n",
       "  <clipPath id=\"clip171\">\n",
       "    <rect x=\"800\" y=\"0\" width=\"2801\" height=\"2000\"/>\n",
       "  </clipPath>\n",
       "</defs>\n",
       "<path clip-path=\"url(#clip170)\" d=\"\n",
       "M172.598 1891.09 L3952.76 1891.09 L3952.76 47.2441 L172.598 47.2441  Z\n",
       "  \" fill=\"#ffffff\" fill-rule=\"evenodd\" fill-opacity=\"1\"/>\n",
       "<defs>\n",
       "  <clipPath id=\"clip172\">\n",
       "    <rect x=\"172\" y=\"47\" width=\"3781\" height=\"1845\"/>\n",
       "  </clipPath>\n",
       "</defs>\n",
       "<polyline clip-path=\"url(#clip172)\" style=\"stroke:#000000; stroke-linecap:butt; stroke-linejoin:round; stroke-width:2; stroke-opacity:0.1; fill:none\" points=\"\n",
       "  227.9,1891.09 227.9,47.2441 \n",
       "  \"/>\n",
       "<polyline clip-path=\"url(#clip172)\" style=\"stroke:#000000; stroke-linecap:butt; stroke-linejoin:round; stroke-width:2; stroke-opacity:0.1; fill:none\" points=\"\n",
       "  1261.58,1891.09 1261.58,47.2441 \n",
       "  \"/>\n",
       "<polyline clip-path=\"url(#clip172)\" style=\"stroke:#000000; stroke-linecap:butt; stroke-linejoin:round; stroke-width:2; stroke-opacity:0.1; fill:none\" points=\"\n",
       "  2295.25,1891.09 2295.25,47.2441 \n",
       "  \"/>\n",
       "<polyline clip-path=\"url(#clip172)\" style=\"stroke:#000000; stroke-linecap:butt; stroke-linejoin:round; stroke-width:2; stroke-opacity:0.1; fill:none\" points=\"\n",
       "  3328.93,1891.09 3328.93,47.2441 \n",
       "  \"/>\n",
       "<polyline clip-path=\"url(#clip170)\" style=\"stroke:#000000; stroke-linecap:butt; stroke-linejoin:round; stroke-width:4; stroke-opacity:1; fill:none\" points=\"\n",
       "  172.598,1891.09 3952.76,1891.09 \n",
       "  \"/>\n",
       "<polyline clip-path=\"url(#clip170)\" style=\"stroke:#000000; stroke-linecap:butt; stroke-linejoin:round; stroke-width:4; stroke-opacity:1; fill:none\" points=\"\n",
       "  227.9,1891.09 227.9,1868.96 \n",
       "  \"/>\n",
       "<polyline clip-path=\"url(#clip170)\" style=\"stroke:#000000; stroke-linecap:butt; stroke-linejoin:round; stroke-width:4; stroke-opacity:1; fill:none\" points=\"\n",
       "  1261.58,1891.09 1261.58,1868.96 \n",
       "  \"/>\n",
       "<polyline clip-path=\"url(#clip170)\" style=\"stroke:#000000; stroke-linecap:butt; stroke-linejoin:round; stroke-width:4; stroke-opacity:1; fill:none\" points=\"\n",
       "  2295.25,1891.09 2295.25,1868.96 \n",
       "  \"/>\n",
       "<polyline clip-path=\"url(#clip170)\" style=\"stroke:#000000; stroke-linecap:butt; stroke-linejoin:round; stroke-width:4; stroke-opacity:1; fill:none\" points=\"\n",
       "  3328.93,1891.09 3328.93,1868.96 \n",
       "  \"/>\n",
       "<path clip-path=\"url(#clip170)\" d=\"M227.9 1933.08 Q224.289 1933.08 222.46 1936.64 Q220.655 1940.19 220.655 1947.31 Q220.655 1954.42 222.46 1957.99 Q224.289 1961.53 227.9 1961.53 Q231.534 1961.53 233.34 1957.99 Q235.168 1954.42 235.168 1947.31 Q235.168 1940.19 233.34 1936.64 Q231.534 1933.08 227.9 1933.08 M227.9 1929.37 Q233.71 1929.37 236.766 1933.98 Q239.844 1938.56 239.844 1947.31 Q239.844 1956.04 236.766 1960.65 Q233.71 1965.23 227.9 1965.23 Q222.09 1965.23 219.011 1960.65 Q215.956 1956.04 215.956 1947.31 Q215.956 1938.56 219.011 1933.98 Q222.09 1929.37 227.9 1929.37 Z\" fill=\"#000000\" fill-rule=\"evenodd\" fill-opacity=\"1\" /><path clip-path=\"url(#clip170)\" d=\"M1240.35 1960.62 L1256.67 1960.62 L1256.67 1964.56 L1234.73 1964.56 L1234.73 1960.62 Q1237.39 1957.87 1241.97 1953.24 Q1246.58 1948.59 1247.76 1947.25 Q1250 1944.72 1250.88 1942.99 Q1251.79 1941.23 1251.79 1939.54 Q1251.79 1936.78 1249.84 1935.05 Q1247.92 1933.31 1244.82 1933.31 Q1242.62 1933.31 1240.17 1934.07 Q1237.73 1934.84 1234.96 1936.39 L1234.96 1931.67 Q1237.78 1930.53 1240.23 1929.95 Q1242.69 1929.37 1244.73 1929.37 Q1250.1 1929.37 1253.29 1932.06 Q1256.48 1934.75 1256.48 1939.24 Q1256.48 1941.37 1255.67 1943.29 Q1254.89 1945.18 1252.78 1947.78 Q1252.2 1948.45 1249.1 1951.67 Q1246 1954.86 1240.35 1960.62 Z\" fill=\"#000000\" fill-rule=\"evenodd\" fill-opacity=\"1\" /><path clip-path=\"url(#clip170)\" d=\"M1276.48 1933.08 Q1272.87 1933.08 1271.04 1936.64 Q1269.24 1940.19 1269.24 1947.31 Q1269.24 1954.42 1271.04 1957.99 Q1272.87 1961.53 1276.48 1961.53 Q1280.12 1961.53 1281.92 1957.99 Q1283.75 1954.42 1283.75 1947.31 Q1283.75 1940.19 1281.92 1936.64 Q1280.12 1933.08 1276.48 1933.08 M1276.48 1929.37 Q1282.29 1929.37 1285.35 1933.98 Q1288.43 1938.56 1288.43 1947.31 Q1288.43 1956.04 1285.35 1960.65 Q1282.29 1965.23 1276.48 1965.23 Q1270.67 1965.23 1267.6 1960.65 Q1264.54 1956.04 1264.54 1947.31 Q1264.54 1938.56 1267.6 1933.98 Q1270.67 1929.37 1276.48 1929.37 Z\" fill=\"#000000\" fill-rule=\"evenodd\" fill-opacity=\"1\" /><path clip-path=\"url(#clip170)\" d=\"M2283.43 1934.07 L2271.62 1952.52 L2283.43 1952.52 L2283.43 1934.07 M2282.2 1930 L2288.08 1930 L2288.08 1952.52 L2293.01 1952.52 L2293.01 1956.41 L2288.08 1956.41 L2288.08 1964.56 L2283.43 1964.56 L2283.43 1956.41 L2267.82 1956.41 L2267.82 1951.9 L2282.2 1930 Z\" fill=\"#000000\" fill-rule=\"evenodd\" fill-opacity=\"1\" /><path clip-path=\"url(#clip170)\" d=\"M2310.74 1933.08 Q2307.13 1933.08 2305.3 1936.64 Q2303.5 1940.19 2303.5 1947.31 Q2303.5 1954.42 2305.3 1957.99 Q2307.13 1961.53 2310.74 1961.53 Q2314.37 1961.53 2316.18 1957.99 Q2318.01 1954.42 2318.01 1947.31 Q2318.01 1940.19 2316.18 1936.64 Q2314.37 1933.08 2310.74 1933.08 M2310.74 1929.37 Q2316.55 1929.37 2319.61 1933.98 Q2322.68 1938.56 2322.68 1947.31 Q2322.68 1956.04 2319.61 1960.65 Q2316.55 1965.23 2310.74 1965.23 Q2304.93 1965.23 2301.85 1960.65 Q2298.8 1956.04 2298.8 1947.31 Q2298.8 1938.56 2301.85 1933.98 Q2304.93 1929.37 2310.74 1929.37 Z\" fill=\"#000000\" fill-rule=\"evenodd\" fill-opacity=\"1\" /><path clip-path=\"url(#clip170)\" d=\"M3314.34 1945.42 Q3311.19 1945.42 3309.34 1947.57 Q3307.51 1949.72 3307.51 1953.47 Q3307.51 1957.2 3309.34 1959.37 Q3311.19 1961.53 3314.34 1961.53 Q3317.48 1961.53 3319.31 1959.37 Q3321.17 1957.2 3321.17 1953.47 Q3321.17 1949.72 3319.31 1947.57 Q3317.48 1945.42 3314.34 1945.42 M3323.62 1930.76 L3323.62 1935.02 Q3321.86 1934.19 3320.05 1933.75 Q3318.27 1933.31 3316.51 1933.31 Q3311.88 1933.31 3309.43 1936.44 Q3307 1939.56 3306.65 1945.88 Q3308.02 1943.87 3310.08 1942.8 Q3312.14 1941.71 3314.61 1941.71 Q3319.82 1941.71 3322.83 1944.88 Q3325.86 1948.03 3325.86 1953.47 Q3325.86 1958.8 3322.72 1962.01 Q3319.57 1965.23 3314.34 1965.23 Q3308.34 1965.23 3305.17 1960.65 Q3302 1956.04 3302 1947.31 Q3302 1939.12 3305.89 1934.26 Q3309.78 1929.37 3316.33 1929.37 Q3318.09 1929.37 3319.87 1929.72 Q3321.67 1930.07 3323.62 1930.76 Z\" fill=\"#000000\" fill-rule=\"evenodd\" fill-opacity=\"1\" /><path clip-path=\"url(#clip170)\" d=\"M3343.92 1933.08 Q3340.31 1933.08 3338.48 1936.64 Q3336.67 1940.19 3336.67 1947.31 Q3336.67 1954.42 3338.48 1957.99 Q3340.31 1961.53 3343.92 1961.53 Q3347.55 1961.53 3349.36 1957.99 Q3351.19 1954.42 3351.19 1947.31 Q3351.19 1940.19 3349.36 1936.64 Q3347.55 1933.08 3343.92 1933.08 M3343.92 1929.37 Q3349.73 1929.37 3352.79 1933.98 Q3355.86 1938.56 3355.86 1947.31 Q3355.86 1956.04 3352.79 1960.65 Q3349.73 1965.23 3343.92 1965.23 Q3338.11 1965.23 3335.03 1960.65 Q3331.98 1956.04 3331.98 1947.31 Q3331.98 1938.56 3335.03 1933.98 Q3338.11 1929.37 3343.92 1929.37 Z\" fill=\"#000000\" fill-rule=\"evenodd\" fill-opacity=\"1\" /><polyline clip-path=\"url(#clip172)\" style=\"stroke:#000000; stroke-linecap:butt; stroke-linejoin:round; stroke-width:2; stroke-opacity:0.1; fill:none\" points=\"\n",
       "  172.598,1891.09 3952.76,1891.09 \n",
       "  \"/>\n",
       "<polyline clip-path=\"url(#clip172)\" style=\"stroke:#000000; stroke-linecap:butt; stroke-linejoin:round; stroke-width:2; stroke-opacity:0.1; fill:none\" points=\"\n",
       "  172.598,1522.32 3952.76,1522.32 \n",
       "  \"/>\n",
       "<polyline clip-path=\"url(#clip172)\" style=\"stroke:#000000; stroke-linecap:butt; stroke-linejoin:round; stroke-width:2; stroke-opacity:0.1; fill:none\" points=\"\n",
       "  172.598,1153.55 3952.76,1153.55 \n",
       "  \"/>\n",
       "<polyline clip-path=\"url(#clip172)\" style=\"stroke:#000000; stroke-linecap:butt; stroke-linejoin:round; stroke-width:2; stroke-opacity:0.1; fill:none\" points=\"\n",
       "  172.598,784.782 3952.76,784.782 \n",
       "  \"/>\n",
       "<polyline clip-path=\"url(#clip172)\" style=\"stroke:#000000; stroke-linecap:butt; stroke-linejoin:round; stroke-width:2; stroke-opacity:0.1; fill:none\" points=\"\n",
       "  172.598,416.013 3952.76,416.013 \n",
       "  \"/>\n",
       "<polyline clip-path=\"url(#clip172)\" style=\"stroke:#000000; stroke-linecap:butt; stroke-linejoin:round; stroke-width:2; stroke-opacity:0.1; fill:none\" points=\"\n",
       "  172.598,47.2441 3952.76,47.2441 \n",
       "  \"/>\n",
       "<polyline clip-path=\"url(#clip170)\" style=\"stroke:#000000; stroke-linecap:butt; stroke-linejoin:round; stroke-width:4; stroke-opacity:1; fill:none\" points=\"\n",
       "  172.598,1891.09 172.598,47.2441 \n",
       "  \"/>\n",
       "<polyline clip-path=\"url(#clip170)\" style=\"stroke:#000000; stroke-linecap:butt; stroke-linejoin:round; stroke-width:4; stroke-opacity:1; fill:none\" points=\"\n",
       "  172.598,1891.09 217.96,1891.09 \n",
       "  \"/>\n",
       "<polyline clip-path=\"url(#clip170)\" style=\"stroke:#000000; stroke-linecap:butt; stroke-linejoin:round; stroke-width:4; stroke-opacity:1; fill:none\" points=\"\n",
       "  172.598,1522.32 217.96,1522.32 \n",
       "  \"/>\n",
       "<polyline clip-path=\"url(#clip170)\" style=\"stroke:#000000; stroke-linecap:butt; stroke-linejoin:round; stroke-width:4; stroke-opacity:1; fill:none\" points=\"\n",
       "  172.598,1153.55 217.96,1153.55 \n",
       "  \"/>\n",
       "<polyline clip-path=\"url(#clip170)\" style=\"stroke:#000000; stroke-linecap:butt; stroke-linejoin:round; stroke-width:4; stroke-opacity:1; fill:none\" points=\"\n",
       "  172.598,784.782 217.96,784.782 \n",
       "  \"/>\n",
       "<polyline clip-path=\"url(#clip170)\" style=\"stroke:#000000; stroke-linecap:butt; stroke-linejoin:round; stroke-width:4; stroke-opacity:1; fill:none\" points=\"\n",
       "  172.598,416.013 217.96,416.013 \n",
       "  \"/>\n",
       "<polyline clip-path=\"url(#clip170)\" style=\"stroke:#000000; stroke-linecap:butt; stroke-linejoin:round; stroke-width:4; stroke-opacity:1; fill:none\" points=\"\n",
       "  172.598,47.2441 217.96,47.2441 \n",
       "  \"/>\n",
       "<path clip-path=\"url(#clip170)\" d=\"M55.4226 1876.89 Q51.8115 1876.89 49.9828 1880.45 Q48.1773 1883.99 48.1773 1891.12 Q48.1773 1898.23 49.9828 1901.79 Q51.8115 1905.34 55.4226 1905.34 Q59.0569 1905.34 60.8624 1901.79 Q62.6911 1898.23 62.6911 1891.12 Q62.6911 1883.99 60.8624 1880.45 Q59.0569 1876.89 55.4226 1876.89 M55.4226 1873.18 Q61.2328 1873.18 64.2883 1877.79 Q67.367 1882.37 67.367 1891.12 Q67.367 1899.85 64.2883 1904.46 Q61.2328 1909.04 55.4226 1909.04 Q49.6125 1909.04 46.5338 1904.46 Q43.4782 1899.85 43.4782 1891.12 Q43.4782 1882.37 46.5338 1877.79 Q49.6125 1873.18 55.4226 1873.18 Z\" fill=\"#000000\" fill-rule=\"evenodd\" fill-opacity=\"1\" /><path clip-path=\"url(#clip170)\" d=\"M75.5845 1902.49 L80.4688 1902.49 L80.4688 1908.37 L75.5845 1908.37 L75.5845 1902.49 Z\" fill=\"#000000\" fill-rule=\"evenodd\" fill-opacity=\"1\" /><path clip-path=\"url(#clip170)\" d=\"M100.654 1876.89 Q97.0428 1876.89 95.2141 1880.45 Q93.4085 1883.99 93.4085 1891.12 Q93.4085 1898.23 95.2141 1901.79 Q97.0428 1905.34 100.654 1905.34 Q104.288 1905.34 106.094 1901.79 Q107.922 1898.23 107.922 1891.12 Q107.922 1883.99 106.094 1880.45 Q104.288 1876.89 100.654 1876.89 M100.654 1873.18 Q106.464 1873.18 109.52 1877.79 Q112.598 1882.37 112.598 1891.12 Q112.598 1899.85 109.52 1904.46 Q106.464 1909.04 100.654 1909.04 Q94.8437 1909.04 91.765 1904.46 Q88.7095 1899.85 88.7095 1891.12 Q88.7095 1882.37 91.765 1877.79 Q94.8437 1873.18 100.654 1873.18 Z\" fill=\"#000000\" fill-rule=\"evenodd\" fill-opacity=\"1\" /><path clip-path=\"url(#clip170)\" d=\"M57.0198 1508.12 Q53.4087 1508.12 51.58 1511.68 Q49.7745 1515.22 49.7745 1522.35 Q49.7745 1529.46 51.58 1533.03 Q53.4087 1536.57 57.0198 1536.57 Q60.6541 1536.57 62.4596 1533.03 Q64.2883 1529.46 64.2883 1522.35 Q64.2883 1515.22 62.4596 1511.68 Q60.6541 1508.12 57.0198 1508.12 M57.0198 1504.41 Q62.83 1504.41 65.8855 1509.02 Q68.9642 1513.6 68.9642 1522.35 Q68.9642 1531.08 65.8855 1535.69 Q62.83 1540.27 57.0198 1540.27 Q51.2097 1540.27 48.131 1535.69 Q45.0754 1531.08 45.0754 1522.35 Q45.0754 1513.6 48.131 1509.02 Q51.2097 1504.41 57.0198 1504.41 Z\" fill=\"#000000\" fill-rule=\"evenodd\" fill-opacity=\"1\" /><path clip-path=\"url(#clip170)\" d=\"M77.1818 1533.72 L82.066 1533.72 L82.066 1539.6 L77.1818 1539.6 L77.1818 1533.72 Z\" fill=\"#000000\" fill-rule=\"evenodd\" fill-opacity=\"1\" /><path clip-path=\"url(#clip170)\" d=\"M96.2789 1535.66 L112.598 1535.66 L112.598 1539.6 L90.6539 1539.6 L90.6539 1535.66 Q93.3159 1532.91 97.8992 1528.28 Q102.506 1523.63 103.686 1522.28 Q105.932 1519.76 106.811 1518.03 Q107.714 1516.27 107.714 1514.58 Q107.714 1511.82 105.77 1510.09 Q103.848 1508.35 100.746 1508.35 Q98.5474 1508.35 96.0937 1509.11 Q93.6632 1509.88 90.8854 1511.43 L90.8854 1506.71 Q93.7094 1505.57 96.1631 1504.99 Q98.6168 1504.41 100.654 1504.41 Q106.024 1504.41 109.219 1507.1 Q112.413 1509.78 112.413 1514.28 Q112.413 1516.4 111.603 1518.33 Q110.816 1520.22 108.709 1522.82 Q108.131 1523.49 105.029 1526.71 Q101.927 1529.9 96.2789 1535.66 Z\" fill=\"#000000\" fill-rule=\"evenodd\" fill-opacity=\"1\" /><path clip-path=\"url(#clip170)\" d=\"M54.9365 1139.35 Q51.3254 1139.35 49.4967 1142.91 Q47.6912 1146.46 47.6912 1153.59 Q47.6912 1160.69 49.4967 1164.26 Q51.3254 1167.8 54.9365 1167.8 Q58.5707 1167.8 60.3763 1164.26 Q62.205 1160.69 62.205 1153.59 Q62.205 1146.46 60.3763 1142.91 Q58.5707 1139.35 54.9365 1139.35 M54.9365 1135.65 Q60.7467 1135.65 63.8022 1140.25 Q66.8809 1144.84 66.8809 1153.59 Q66.8809 1162.31 63.8022 1166.92 Q60.7467 1171.5 54.9365 1171.5 Q49.1264 1171.5 46.0477 1166.92 Q42.9921 1162.31 42.9921 1153.59 Q42.9921 1144.84 46.0477 1140.25 Q49.1264 1135.65 54.9365 1135.65 Z\" fill=\"#000000\" fill-rule=\"evenodd\" fill-opacity=\"1\" /><path clip-path=\"url(#clip170)\" d=\"M75.0984 1164.95 L79.9827 1164.95 L79.9827 1170.83 L75.0984 1170.83 L75.0984 1164.95 Z\" fill=\"#000000\" fill-rule=\"evenodd\" fill-opacity=\"1\" /><path clip-path=\"url(#clip170)\" d=\"M103.015 1140.34 L91.2095 1158.79 L103.015 1158.79 L103.015 1140.34 M101.788 1136.27 L107.668 1136.27 L107.668 1158.79 L112.598 1158.79 L112.598 1162.68 L107.668 1162.68 L107.668 1170.83 L103.015 1170.83 L103.015 1162.68 L87.4132 1162.68 L87.4132 1158.17 L101.788 1136.27 Z\" fill=\"#000000\" fill-rule=\"evenodd\" fill-opacity=\"1\" /><path clip-path=\"url(#clip170)\" d=\"M55.2606 770.58 Q51.6495 770.58 49.8208 774.145 Q48.0152 777.687 48.0152 784.816 Q48.0152 791.923 49.8208 795.488 Q51.6495 799.029 55.2606 799.029 Q58.8948 799.029 60.7004 795.488 Q62.5291 791.923 62.5291 784.816 Q62.5291 777.687 60.7004 774.145 Q58.8948 770.58 55.2606 770.58 M55.2606 766.877 Q61.0707 766.877 64.1263 771.483 Q67.205 776.066 67.205 784.816 Q67.205 793.543 64.1263 798.15 Q61.0707 802.733 55.2606 802.733 Q49.4504 802.733 46.3717 798.15 Q43.3162 793.543 43.3162 784.816 Q43.3162 776.066 46.3717 771.483 Q49.4504 766.877 55.2606 766.877 Z\" fill=\"#000000\" fill-rule=\"evenodd\" fill-opacity=\"1\" /><path clip-path=\"url(#clip170)\" d=\"M75.4225 796.182 L80.3067 796.182 L80.3067 802.062 L75.4225 802.062 L75.4225 796.182 Z\" fill=\"#000000\" fill-rule=\"evenodd\" fill-opacity=\"1\" /><path clip-path=\"url(#clip170)\" d=\"M101.071 782.918 Q97.9224 782.918 96.0705 785.071 Q94.2419 787.224 94.2419 790.974 Q94.2419 794.701 96.0705 796.876 Q97.9224 799.029 101.071 799.029 Q104.219 799.029 106.047 796.876 Q107.899 794.701 107.899 790.974 Q107.899 787.224 106.047 785.071 Q104.219 782.918 101.071 782.918 M110.353 768.265 L110.353 772.525 Q108.594 771.691 106.788 771.252 Q105.006 770.812 103.246 770.812 Q98.6168 770.812 96.1631 773.937 Q93.7326 777.062 93.3854 783.381 Q94.7511 781.367 96.8113 780.302 Q98.8715 779.215 101.348 779.215 Q106.557 779.215 109.566 782.386 Q112.598 785.534 112.598 790.974 Q112.598 796.298 109.45 799.515 Q106.302 802.733 101.071 802.733 Q95.0752 802.733 91.9039 798.15 Q88.7326 793.543 88.7326 784.816 Q88.7326 776.622 92.6215 771.761 Q96.5104 766.877 103.061 766.877 Q104.82 766.877 106.603 767.224 Q108.408 767.571 110.353 768.265 Z\" fill=\"#000000\" fill-rule=\"evenodd\" fill-opacity=\"1\" /><path clip-path=\"url(#clip170)\" d=\"M55.5152 401.812 Q51.9041 401.812 50.0754 405.376 Q48.2699 408.918 48.2699 416.048 Q48.2699 423.154 50.0754 426.719 Q51.9041 430.26 55.5152 430.26 Q59.1494 430.26 60.955 426.719 Q62.7837 423.154 62.7837 416.048 Q62.7837 408.918 60.955 405.376 Q59.1494 401.812 55.5152 401.812 M55.5152 398.108 Q61.3254 398.108 64.3809 402.714 Q67.4596 407.298 67.4596 416.048 Q67.4596 424.774 64.3809 429.381 Q61.3254 433.964 55.5152 433.964 Q49.7051 433.964 46.6264 429.381 Q43.5708 424.774 43.5708 416.048 Q43.5708 407.298 46.6264 402.714 Q49.7051 398.108 55.5152 398.108 Z\" fill=\"#000000\" fill-rule=\"evenodd\" fill-opacity=\"1\" /><path clip-path=\"url(#clip170)\" d=\"M75.6771 427.413 L80.5614 427.413 L80.5614 433.293 L75.6771 433.293 L75.6771 427.413 Z\" fill=\"#000000\" fill-rule=\"evenodd\" fill-opacity=\"1\" /><path clip-path=\"url(#clip170)\" d=\"M100.746 416.881 Q97.4131 416.881 95.4918 418.663 Q93.5937 420.446 93.5937 423.571 Q93.5937 426.696 95.4918 428.478 Q97.4131 430.26 100.746 430.26 Q104.08 430.26 106.001 428.478 Q107.922 426.673 107.922 423.571 Q107.922 420.446 106.001 418.663 Q104.103 416.881 100.746 416.881 M96.0705 414.89 Q93.0613 414.149 91.3715 412.089 Q89.7048 410.029 89.7048 407.066 Q89.7048 402.923 92.6446 400.515 Q95.6076 398.108 100.746 398.108 Q105.908 398.108 108.848 400.515 Q111.788 402.923 111.788 407.066 Q111.788 410.029 110.098 412.089 Q108.432 414.149 105.445 414.89 Q108.825 415.677 110.7 417.969 Q112.598 420.261 112.598 423.571 Q112.598 428.594 109.52 431.279 Q106.464 433.964 100.746 433.964 Q95.0289 433.964 91.9502 431.279 Q88.8947 428.594 88.8947 423.571 Q88.8947 420.261 90.7928 417.969 Q92.6909 415.677 96.0705 414.89 M94.3576 407.506 Q94.3576 410.191 96.0242 411.696 Q97.7141 413.2 100.746 413.2 Q103.756 413.2 105.445 411.696 Q107.158 410.191 107.158 407.506 Q107.158 404.821 105.445 403.316 Q103.756 401.812 100.746 401.812 Q97.7141 401.812 96.0242 403.316 Q94.3576 404.821 94.3576 407.506 Z\" fill=\"#000000\" fill-rule=\"evenodd\" fill-opacity=\"1\" /><path clip-path=\"url(#clip170)\" d=\"M46.2328 60.5889 L53.8717 60.5889 L53.8717 34.2233 L45.5616 35.89 L45.5616 31.6308 L53.8254 29.9641 L58.5013 29.9641 L58.5013 60.5889 L66.1402 60.5889 L66.1402 64.5241 L46.2328 64.5241 L46.2328 60.5889 Z\" fill=\"#000000\" fill-rule=\"evenodd\" fill-opacity=\"1\" /><path clip-path=\"url(#clip170)\" d=\"M75.5845 58.6445 L80.4688 58.6445 L80.4688 64.5241 L75.5845 64.5241 L75.5845 58.6445 Z\" fill=\"#000000\" fill-rule=\"evenodd\" fill-opacity=\"1\" /><path clip-path=\"url(#clip170)\" d=\"M100.654 33.0428 Q97.0428 33.0428 95.2141 36.6076 Q93.4085 40.1492 93.4085 47.2788 Q93.4085 54.3853 95.2141 57.9501 Q97.0428 61.4917 100.654 61.4917 Q104.288 61.4917 106.094 57.9501 Q107.922 54.3853 107.922 47.2788 Q107.922 40.1492 106.094 36.6076 Q104.288 33.0428 100.654 33.0428 M100.654 29.3391 Q106.464 29.3391 109.52 33.9456 Q112.598 38.5289 112.598 47.2788 Q112.598 56.0056 109.52 60.6121 Q106.464 65.1954 100.654 65.1954 Q94.8437 65.1954 91.765 60.6121 Q88.7095 56.0056 88.7095 47.2788 Q88.7095 38.5289 91.765 33.9456 Q94.8437 29.3391 100.654 29.3391 Z\" fill=\"#000000\" fill-rule=\"evenodd\" fill-opacity=\"1\" /><circle clip-path=\"url(#clip172)\" cx=\"279.584\" cy=\"969.166\" r=\"1\" fill=\"#009af9\" fill-rule=\"evenodd\" fill-opacity=\"1\" stroke=\"#000000\" stroke-opacity=\"1\" stroke-width=\"4\"/>\n",
       "<circle clip-path=\"url(#clip172)\" cx=\"744.739\" cy=\"969.166\" r=\"53\" fill=\"#e26f46\" fill-rule=\"evenodd\" fill-opacity=\"1\" stroke=\"#000000\" stroke-opacity=\"1\" stroke-width=\"4\"/>\n",
       "<circle clip-path=\"url(#clip172)\" cx=\"1261.58\" cy=\"969.166\" r=\"4\" fill=\"#3da44d\" fill-rule=\"evenodd\" fill-opacity=\"1\" stroke=\"#000000\" stroke-opacity=\"1\" stroke-width=\"4\"/>\n",
       "<circle clip-path=\"url(#clip172)\" cx=\"1778.42\" cy=\"969.166\" r=\"76\" fill=\"#c271d2\" fill-rule=\"evenodd\" fill-opacity=\"1\" stroke=\"#000000\" stroke-opacity=\"1\" stroke-width=\"4\"/>\n",
       "<circle clip-path=\"url(#clip172)\" cx=\"2295.25\" cy=\"969.166\" r=\"25\" fill=\"#ac8d18\" fill-rule=\"evenodd\" fill-opacity=\"1\" stroke=\"#000000\" stroke-opacity=\"1\" stroke-width=\"4\"/>\n",
       "<circle clip-path=\"url(#clip172)\" cx=\"2812.09\" cy=\"969.166\" r=\"71\" fill=\"#00a9ad\" fill-rule=\"evenodd\" fill-opacity=\"1\" stroke=\"#000000\" stroke-opacity=\"1\" stroke-width=\"4\"/>\n",
       "<circle clip-path=\"url(#clip172)\" cx=\"3328.93\" cy=\"969.166\" r=\"26\" fill=\"#ed5d92\" fill-rule=\"evenodd\" fill-opacity=\"1\" stroke=\"#000000\" stroke-opacity=\"1\" stroke-width=\"4\"/>\n",
       "<circle clip-path=\"url(#clip172)\" cx=\"3845.77\" cy=\"969.166\" r=\"101\" fill=\"#c68125\" fill-rule=\"evenodd\" fill-opacity=\"1\" stroke=\"#000000\" stroke-opacity=\"1\" stroke-width=\"4\"/>\n",
       "</svg>\n"
      ]
     },
     "execution_count": 118,
     "metadata": {},
     "output_type": "execute_result"
    }
   ],
   "source": [
    "using Plots;\n",
    "plot!()\n",
    "scatter([1],[0.5],markersize= p3_4[1]*100,legend = false,size=(500,500),ylims=(0,1))\n",
    "scatter!([10],[0.5],markersize= p3_4[2]*100,legend = false,size=(500,500),ylims=(0,1))\n",
    "scatter!([20],[0.5],markersize= p3_4[3]*100,legend = false,size=(500,500),ylims=(0,1))\n",
    "scatter!([30],[0.5],markersize= p3_4[4]*100,legend = false,size=(500,500),ylims=(0,1))\n",
    "scatter!([40],[0.5],markersize= p3_4[5]*100,legend = false,size=(500,500),ylims=(0,1))\n",
    "scatter!([50],[0.5],markersize= p3_4[6]*100,legend = false,size=(500,500),ylims=(0,1))\n",
    "scatter!([60],[0.5],markersize= p3_4[7]*100,legend = false,size=(500,500),ylims=(0,1))\n",
    "scatter!([70],[0.5],markersize= p3_4[8]*100,legend = false,size=(500,500),ylims=(0,1))\n",
    "plot!(size=(1000,500))"
   ]
  },
  {
   "cell_type": "markdown",
   "metadata": {},
   "source": [
    "## Circuit N=3, depth = 5"
   ]
  },
  {
   "cell_type": "code",
   "execution_count": 86,
   "metadata": {
    "ExecuteTime": {
     "end_time": "2021-07-10T19:34:15.679000+01:00",
     "start_time": "2021-07-10T18:34:15.573Z"
    }
   },
   "outputs": [],
   "source": [
    "using ITensors\n",
    "sites3 = siteinds(\"S=1/2\",N3)\n",
    "p3_5 = zeros(8)\n",
    "for i in 1:3:24\n",
    "    states3 = TT3[i:i+2]\n",
    "    x3 = productMPS(sites3, states3)\n",
    "    ii = i÷3 + 1\n",
    "    #println(ii)\n",
    "    #println(xxx)\n",
    "    # Here is where the width and depth matters\n",
    "    A3_5 = dot(x3,ψ3_5) \n",
    "    #println(\"Amplitude : \",A)\n",
    "    p3_5[ii] = real(A3_5)^2 + imag(A3_5)^2\n",
    "    #println(\"Probability : \",p)\n",
    "end\n"
   ]
  },
  {
   "cell_type": "code",
   "execution_count": 88,
   "metadata": {
    "ExecuteTime": {
     "end_time": "2021-07-10T19:35:16.833000+01:00",
     "start_time": "2021-07-10T18:35:16.822Z"
    }
   },
   "outputs": [
    {
     "name": "stdout",
     "output_type": "stream",
     "text": [
      "probability for each base state <x| = [0.3490596987275233, 0.04816115618238169, 0.09402923587196227, 0.17328948690287233, 0.038669836297139215, 0.003946156465643684, 0.22667298100069513, 0.06617144855178383]\n"
     ]
    }
   ],
   "source": [
    "println(\"probability for each base state <x| = \",p3_5)"
   ]
  },
  {
   "cell_type": "code",
   "execution_count": 117,
   "metadata": {
    "ExecuteTime": {
     "end_time": "2021-07-10T22:04:20.978000+01:00",
     "start_time": "2021-07-10T21:04:20.910Z"
    }
   },
   "outputs": [
    {
     "data": {
      "image/svg+xml": [
       "<?xml version=\"1.0\" encoding=\"utf-8\"?>\n",
       "<svg xmlns=\"http://www.w3.org/2000/svg\" xmlns:xlink=\"http://www.w3.org/1999/xlink\" width=\"1000\" height=\"500\" viewBox=\"0 0 4000 2000\">\n",
       "<defs>\n",
       "  <clipPath id=\"clip130\">\n",
       "    <rect x=\"0\" y=\"0\" width=\"4000\" height=\"2000\"/>\n",
       "  </clipPath>\n",
       "</defs>\n",
       "<path clip-path=\"url(#clip130)\" d=\"\n",
       "M0 2000 L4000 2000 L4000 0 L0 0  Z\n",
       "  \" fill=\"#ffffff\" fill-rule=\"evenodd\" fill-opacity=\"1\"/>\n",
       "<defs>\n",
       "  <clipPath id=\"clip131\">\n",
       "    <rect x=\"800\" y=\"0\" width=\"2801\" height=\"2000\"/>\n",
       "  </clipPath>\n",
       "</defs>\n",
       "<path clip-path=\"url(#clip130)\" d=\"\n",
       "M172.598 1891.09 L3952.76 1891.09 L3952.76 47.2441 L172.598 47.2441  Z\n",
       "  \" fill=\"#ffffff\" fill-rule=\"evenodd\" fill-opacity=\"1\"/>\n",
       "<defs>\n",
       "  <clipPath id=\"clip132\">\n",
       "    <rect x=\"172\" y=\"47\" width=\"3781\" height=\"1845\"/>\n",
       "  </clipPath>\n",
       "</defs>\n",
       "<polyline clip-path=\"url(#clip132)\" style=\"stroke:#000000; stroke-linecap:butt; stroke-linejoin:round; stroke-width:2; stroke-opacity:0.1; fill:none\" points=\"\n",
       "  227.9,1891.09 227.9,47.2441 \n",
       "  \"/>\n",
       "<polyline clip-path=\"url(#clip132)\" style=\"stroke:#000000; stroke-linecap:butt; stroke-linejoin:round; stroke-width:2; stroke-opacity:0.1; fill:none\" points=\"\n",
       "  1261.58,1891.09 1261.58,47.2441 \n",
       "  \"/>\n",
       "<polyline clip-path=\"url(#clip132)\" style=\"stroke:#000000; stroke-linecap:butt; stroke-linejoin:round; stroke-width:2; stroke-opacity:0.1; fill:none\" points=\"\n",
       "  2295.25,1891.09 2295.25,47.2441 \n",
       "  \"/>\n",
       "<polyline clip-path=\"url(#clip132)\" style=\"stroke:#000000; stroke-linecap:butt; stroke-linejoin:round; stroke-width:2; stroke-opacity:0.1; fill:none\" points=\"\n",
       "  3328.93,1891.09 3328.93,47.2441 \n",
       "  \"/>\n",
       "<polyline clip-path=\"url(#clip130)\" style=\"stroke:#000000; stroke-linecap:butt; stroke-linejoin:round; stroke-width:4; stroke-opacity:1; fill:none\" points=\"\n",
       "  172.598,1891.09 3952.76,1891.09 \n",
       "  \"/>\n",
       "<polyline clip-path=\"url(#clip130)\" style=\"stroke:#000000; stroke-linecap:butt; stroke-linejoin:round; stroke-width:4; stroke-opacity:1; fill:none\" points=\"\n",
       "  227.9,1891.09 227.9,1868.96 \n",
       "  \"/>\n",
       "<polyline clip-path=\"url(#clip130)\" style=\"stroke:#000000; stroke-linecap:butt; stroke-linejoin:round; stroke-width:4; stroke-opacity:1; fill:none\" points=\"\n",
       "  1261.58,1891.09 1261.58,1868.96 \n",
       "  \"/>\n",
       "<polyline clip-path=\"url(#clip130)\" style=\"stroke:#000000; stroke-linecap:butt; stroke-linejoin:round; stroke-width:4; stroke-opacity:1; fill:none\" points=\"\n",
       "  2295.25,1891.09 2295.25,1868.96 \n",
       "  \"/>\n",
       "<polyline clip-path=\"url(#clip130)\" style=\"stroke:#000000; stroke-linecap:butt; stroke-linejoin:round; stroke-width:4; stroke-opacity:1; fill:none\" points=\"\n",
       "  3328.93,1891.09 3328.93,1868.96 \n",
       "  \"/>\n",
       "<path clip-path=\"url(#clip130)\" d=\"M227.9 1933.08 Q224.289 1933.08 222.46 1936.64 Q220.655 1940.19 220.655 1947.31 Q220.655 1954.42 222.46 1957.99 Q224.289 1961.53 227.9 1961.53 Q231.534 1961.53 233.34 1957.99 Q235.168 1954.42 235.168 1947.31 Q235.168 1940.19 233.34 1936.64 Q231.534 1933.08 227.9 1933.08 M227.9 1929.37 Q233.71 1929.37 236.766 1933.98 Q239.844 1938.56 239.844 1947.31 Q239.844 1956.04 236.766 1960.65 Q233.71 1965.23 227.9 1965.23 Q222.09 1965.23 219.011 1960.65 Q215.956 1956.04 215.956 1947.31 Q215.956 1938.56 219.011 1933.98 Q222.09 1929.37 227.9 1929.37 Z\" fill=\"#000000\" fill-rule=\"evenodd\" fill-opacity=\"1\" /><path clip-path=\"url(#clip130)\" d=\"M1240.35 1960.62 L1256.67 1960.62 L1256.67 1964.56 L1234.73 1964.56 L1234.73 1960.62 Q1237.39 1957.87 1241.97 1953.24 Q1246.58 1948.59 1247.76 1947.25 Q1250 1944.72 1250.88 1942.99 Q1251.79 1941.23 1251.79 1939.54 Q1251.79 1936.78 1249.84 1935.05 Q1247.92 1933.31 1244.82 1933.31 Q1242.62 1933.31 1240.17 1934.07 Q1237.73 1934.84 1234.96 1936.39 L1234.96 1931.67 Q1237.78 1930.53 1240.23 1929.95 Q1242.69 1929.37 1244.73 1929.37 Q1250.1 1929.37 1253.29 1932.06 Q1256.48 1934.75 1256.48 1939.24 Q1256.48 1941.37 1255.67 1943.29 Q1254.89 1945.18 1252.78 1947.78 Q1252.2 1948.45 1249.1 1951.67 Q1246 1954.86 1240.35 1960.62 Z\" fill=\"#000000\" fill-rule=\"evenodd\" fill-opacity=\"1\" /><path clip-path=\"url(#clip130)\" d=\"M1276.48 1933.08 Q1272.87 1933.08 1271.04 1936.64 Q1269.24 1940.19 1269.24 1947.31 Q1269.24 1954.42 1271.04 1957.99 Q1272.87 1961.53 1276.48 1961.53 Q1280.12 1961.53 1281.92 1957.99 Q1283.75 1954.42 1283.75 1947.31 Q1283.75 1940.19 1281.92 1936.64 Q1280.12 1933.08 1276.48 1933.08 M1276.48 1929.37 Q1282.29 1929.37 1285.35 1933.98 Q1288.43 1938.56 1288.43 1947.31 Q1288.43 1956.04 1285.35 1960.65 Q1282.29 1965.23 1276.48 1965.23 Q1270.67 1965.23 1267.6 1960.65 Q1264.54 1956.04 1264.54 1947.31 Q1264.54 1938.56 1267.6 1933.98 Q1270.67 1929.37 1276.48 1929.37 Z\" fill=\"#000000\" fill-rule=\"evenodd\" fill-opacity=\"1\" /><path clip-path=\"url(#clip130)\" d=\"M2283.43 1934.07 L2271.62 1952.52 L2283.43 1952.52 L2283.43 1934.07 M2282.2 1930 L2288.08 1930 L2288.08 1952.52 L2293.01 1952.52 L2293.01 1956.41 L2288.08 1956.41 L2288.08 1964.56 L2283.43 1964.56 L2283.43 1956.41 L2267.82 1956.41 L2267.82 1951.9 L2282.2 1930 Z\" fill=\"#000000\" fill-rule=\"evenodd\" fill-opacity=\"1\" /><path clip-path=\"url(#clip130)\" d=\"M2310.74 1933.08 Q2307.13 1933.08 2305.3 1936.64 Q2303.5 1940.19 2303.5 1947.31 Q2303.5 1954.42 2305.3 1957.99 Q2307.13 1961.53 2310.74 1961.53 Q2314.37 1961.53 2316.18 1957.99 Q2318.01 1954.42 2318.01 1947.31 Q2318.01 1940.19 2316.18 1936.64 Q2314.37 1933.08 2310.74 1933.08 M2310.74 1929.37 Q2316.55 1929.37 2319.61 1933.98 Q2322.68 1938.56 2322.68 1947.31 Q2322.68 1956.04 2319.61 1960.65 Q2316.55 1965.23 2310.74 1965.23 Q2304.93 1965.23 2301.85 1960.65 Q2298.8 1956.04 2298.8 1947.31 Q2298.8 1938.56 2301.85 1933.98 Q2304.93 1929.37 2310.74 1929.37 Z\" fill=\"#000000\" fill-rule=\"evenodd\" fill-opacity=\"1\" /><path clip-path=\"url(#clip130)\" d=\"M3314.34 1945.42 Q3311.19 1945.42 3309.34 1947.57 Q3307.51 1949.72 3307.51 1953.47 Q3307.51 1957.2 3309.34 1959.37 Q3311.19 1961.53 3314.34 1961.53 Q3317.48 1961.53 3319.31 1959.37 Q3321.17 1957.2 3321.17 1953.47 Q3321.17 1949.72 3319.31 1947.57 Q3317.48 1945.42 3314.34 1945.42 M3323.62 1930.76 L3323.62 1935.02 Q3321.86 1934.19 3320.05 1933.75 Q3318.27 1933.31 3316.51 1933.31 Q3311.88 1933.31 3309.43 1936.44 Q3307 1939.56 3306.65 1945.88 Q3308.02 1943.87 3310.08 1942.8 Q3312.14 1941.71 3314.61 1941.71 Q3319.82 1941.71 3322.83 1944.88 Q3325.86 1948.03 3325.86 1953.47 Q3325.86 1958.8 3322.72 1962.01 Q3319.57 1965.23 3314.34 1965.23 Q3308.34 1965.23 3305.17 1960.65 Q3302 1956.04 3302 1947.31 Q3302 1939.12 3305.89 1934.26 Q3309.78 1929.37 3316.33 1929.37 Q3318.09 1929.37 3319.87 1929.72 Q3321.67 1930.07 3323.62 1930.76 Z\" fill=\"#000000\" fill-rule=\"evenodd\" fill-opacity=\"1\" /><path clip-path=\"url(#clip130)\" d=\"M3343.92 1933.08 Q3340.31 1933.08 3338.48 1936.64 Q3336.67 1940.19 3336.67 1947.31 Q3336.67 1954.42 3338.48 1957.99 Q3340.31 1961.53 3343.92 1961.53 Q3347.55 1961.53 3349.36 1957.99 Q3351.19 1954.42 3351.19 1947.31 Q3351.19 1940.19 3349.36 1936.64 Q3347.55 1933.08 3343.92 1933.08 M3343.92 1929.37 Q3349.73 1929.37 3352.79 1933.98 Q3355.86 1938.56 3355.86 1947.31 Q3355.86 1956.04 3352.79 1960.65 Q3349.73 1965.23 3343.92 1965.23 Q3338.11 1965.23 3335.03 1960.65 Q3331.98 1956.04 3331.98 1947.31 Q3331.98 1938.56 3335.03 1933.98 Q3338.11 1929.37 3343.92 1929.37 Z\" fill=\"#000000\" fill-rule=\"evenodd\" fill-opacity=\"1\" /><polyline clip-path=\"url(#clip132)\" style=\"stroke:#000000; stroke-linecap:butt; stroke-linejoin:round; stroke-width:2; stroke-opacity:0.1; fill:none\" points=\"\n",
       "  172.598,1891.09 3952.76,1891.09 \n",
       "  \"/>\n",
       "<polyline clip-path=\"url(#clip132)\" style=\"stroke:#000000; stroke-linecap:butt; stroke-linejoin:round; stroke-width:2; stroke-opacity:0.1; fill:none\" points=\"\n",
       "  172.598,1522.32 3952.76,1522.32 \n",
       "  \"/>\n",
       "<polyline clip-path=\"url(#clip132)\" style=\"stroke:#000000; stroke-linecap:butt; stroke-linejoin:round; stroke-width:2; stroke-opacity:0.1; fill:none\" points=\"\n",
       "  172.598,1153.55 3952.76,1153.55 \n",
       "  \"/>\n",
       "<polyline clip-path=\"url(#clip132)\" style=\"stroke:#000000; stroke-linecap:butt; stroke-linejoin:round; stroke-width:2; stroke-opacity:0.1; fill:none\" points=\"\n",
       "  172.598,784.782 3952.76,784.782 \n",
       "  \"/>\n",
       "<polyline clip-path=\"url(#clip132)\" style=\"stroke:#000000; stroke-linecap:butt; stroke-linejoin:round; stroke-width:2; stroke-opacity:0.1; fill:none\" points=\"\n",
       "  172.598,416.013 3952.76,416.013 \n",
       "  \"/>\n",
       "<polyline clip-path=\"url(#clip132)\" style=\"stroke:#000000; stroke-linecap:butt; stroke-linejoin:round; stroke-width:2; stroke-opacity:0.1; fill:none\" points=\"\n",
       "  172.598,47.2441 3952.76,47.2441 \n",
       "  \"/>\n",
       "<polyline clip-path=\"url(#clip130)\" style=\"stroke:#000000; stroke-linecap:butt; stroke-linejoin:round; stroke-width:4; stroke-opacity:1; fill:none\" points=\"\n",
       "  172.598,1891.09 172.598,47.2441 \n",
       "  \"/>\n",
       "<polyline clip-path=\"url(#clip130)\" style=\"stroke:#000000; stroke-linecap:butt; stroke-linejoin:round; stroke-width:4; stroke-opacity:1; fill:none\" points=\"\n",
       "  172.598,1891.09 217.96,1891.09 \n",
       "  \"/>\n",
       "<polyline clip-path=\"url(#clip130)\" style=\"stroke:#000000; stroke-linecap:butt; stroke-linejoin:round; stroke-width:4; stroke-opacity:1; fill:none\" points=\"\n",
       "  172.598,1522.32 217.96,1522.32 \n",
       "  \"/>\n",
       "<polyline clip-path=\"url(#clip130)\" style=\"stroke:#000000; stroke-linecap:butt; stroke-linejoin:round; stroke-width:4; stroke-opacity:1; fill:none\" points=\"\n",
       "  172.598,1153.55 217.96,1153.55 \n",
       "  \"/>\n",
       "<polyline clip-path=\"url(#clip130)\" style=\"stroke:#000000; stroke-linecap:butt; stroke-linejoin:round; stroke-width:4; stroke-opacity:1; fill:none\" points=\"\n",
       "  172.598,784.782 217.96,784.782 \n",
       "  \"/>\n",
       "<polyline clip-path=\"url(#clip130)\" style=\"stroke:#000000; stroke-linecap:butt; stroke-linejoin:round; stroke-width:4; stroke-opacity:1; fill:none\" points=\"\n",
       "  172.598,416.013 217.96,416.013 \n",
       "  \"/>\n",
       "<polyline clip-path=\"url(#clip130)\" style=\"stroke:#000000; stroke-linecap:butt; stroke-linejoin:round; stroke-width:4; stroke-opacity:1; fill:none\" points=\"\n",
       "  172.598,47.2441 217.96,47.2441 \n",
       "  \"/>\n",
       "<path clip-path=\"url(#clip130)\" d=\"M55.4226 1876.89 Q51.8115 1876.89 49.9828 1880.45 Q48.1773 1883.99 48.1773 1891.12 Q48.1773 1898.23 49.9828 1901.79 Q51.8115 1905.34 55.4226 1905.34 Q59.0569 1905.34 60.8624 1901.79 Q62.6911 1898.23 62.6911 1891.12 Q62.6911 1883.99 60.8624 1880.45 Q59.0569 1876.89 55.4226 1876.89 M55.4226 1873.18 Q61.2328 1873.18 64.2883 1877.79 Q67.367 1882.37 67.367 1891.12 Q67.367 1899.85 64.2883 1904.46 Q61.2328 1909.04 55.4226 1909.04 Q49.6125 1909.04 46.5338 1904.46 Q43.4782 1899.85 43.4782 1891.12 Q43.4782 1882.37 46.5338 1877.79 Q49.6125 1873.18 55.4226 1873.18 Z\" fill=\"#000000\" fill-rule=\"evenodd\" fill-opacity=\"1\" /><path clip-path=\"url(#clip130)\" d=\"M75.5845 1902.49 L80.4688 1902.49 L80.4688 1908.37 L75.5845 1908.37 L75.5845 1902.49 Z\" fill=\"#000000\" fill-rule=\"evenodd\" fill-opacity=\"1\" /><path clip-path=\"url(#clip130)\" d=\"M100.654 1876.89 Q97.0428 1876.89 95.2141 1880.45 Q93.4085 1883.99 93.4085 1891.12 Q93.4085 1898.23 95.2141 1901.79 Q97.0428 1905.34 100.654 1905.34 Q104.288 1905.34 106.094 1901.79 Q107.922 1898.23 107.922 1891.12 Q107.922 1883.99 106.094 1880.45 Q104.288 1876.89 100.654 1876.89 M100.654 1873.18 Q106.464 1873.18 109.52 1877.79 Q112.598 1882.37 112.598 1891.12 Q112.598 1899.85 109.52 1904.46 Q106.464 1909.04 100.654 1909.04 Q94.8437 1909.04 91.765 1904.46 Q88.7095 1899.85 88.7095 1891.12 Q88.7095 1882.37 91.765 1877.79 Q94.8437 1873.18 100.654 1873.18 Z\" fill=\"#000000\" fill-rule=\"evenodd\" fill-opacity=\"1\" /><path clip-path=\"url(#clip130)\" d=\"M57.0198 1508.12 Q53.4087 1508.12 51.58 1511.68 Q49.7745 1515.22 49.7745 1522.35 Q49.7745 1529.46 51.58 1533.03 Q53.4087 1536.57 57.0198 1536.57 Q60.6541 1536.57 62.4596 1533.03 Q64.2883 1529.46 64.2883 1522.35 Q64.2883 1515.22 62.4596 1511.68 Q60.6541 1508.12 57.0198 1508.12 M57.0198 1504.41 Q62.83 1504.41 65.8855 1509.02 Q68.9642 1513.6 68.9642 1522.35 Q68.9642 1531.08 65.8855 1535.69 Q62.83 1540.27 57.0198 1540.27 Q51.2097 1540.27 48.131 1535.69 Q45.0754 1531.08 45.0754 1522.35 Q45.0754 1513.6 48.131 1509.02 Q51.2097 1504.41 57.0198 1504.41 Z\" fill=\"#000000\" fill-rule=\"evenodd\" fill-opacity=\"1\" /><path clip-path=\"url(#clip130)\" d=\"M77.1818 1533.72 L82.066 1533.72 L82.066 1539.6 L77.1818 1539.6 L77.1818 1533.72 Z\" fill=\"#000000\" fill-rule=\"evenodd\" fill-opacity=\"1\" /><path clip-path=\"url(#clip130)\" d=\"M96.2789 1535.66 L112.598 1535.66 L112.598 1539.6 L90.6539 1539.6 L90.6539 1535.66 Q93.3159 1532.91 97.8992 1528.28 Q102.506 1523.63 103.686 1522.28 Q105.932 1519.76 106.811 1518.03 Q107.714 1516.27 107.714 1514.58 Q107.714 1511.82 105.77 1510.09 Q103.848 1508.35 100.746 1508.35 Q98.5474 1508.35 96.0937 1509.11 Q93.6632 1509.88 90.8854 1511.43 L90.8854 1506.71 Q93.7094 1505.57 96.1631 1504.99 Q98.6168 1504.41 100.654 1504.41 Q106.024 1504.41 109.219 1507.1 Q112.413 1509.78 112.413 1514.28 Q112.413 1516.4 111.603 1518.33 Q110.816 1520.22 108.709 1522.82 Q108.131 1523.49 105.029 1526.71 Q101.927 1529.9 96.2789 1535.66 Z\" fill=\"#000000\" fill-rule=\"evenodd\" fill-opacity=\"1\" /><path clip-path=\"url(#clip130)\" d=\"M54.9365 1139.35 Q51.3254 1139.35 49.4967 1142.91 Q47.6912 1146.46 47.6912 1153.59 Q47.6912 1160.69 49.4967 1164.26 Q51.3254 1167.8 54.9365 1167.8 Q58.5707 1167.8 60.3763 1164.26 Q62.205 1160.69 62.205 1153.59 Q62.205 1146.46 60.3763 1142.91 Q58.5707 1139.35 54.9365 1139.35 M54.9365 1135.65 Q60.7467 1135.65 63.8022 1140.25 Q66.8809 1144.84 66.8809 1153.59 Q66.8809 1162.31 63.8022 1166.92 Q60.7467 1171.5 54.9365 1171.5 Q49.1264 1171.5 46.0477 1166.92 Q42.9921 1162.31 42.9921 1153.59 Q42.9921 1144.84 46.0477 1140.25 Q49.1264 1135.65 54.9365 1135.65 Z\" fill=\"#000000\" fill-rule=\"evenodd\" fill-opacity=\"1\" /><path clip-path=\"url(#clip130)\" d=\"M75.0984 1164.95 L79.9827 1164.95 L79.9827 1170.83 L75.0984 1170.83 L75.0984 1164.95 Z\" fill=\"#000000\" fill-rule=\"evenodd\" fill-opacity=\"1\" /><path clip-path=\"url(#clip130)\" d=\"M103.015 1140.34 L91.2095 1158.79 L103.015 1158.79 L103.015 1140.34 M101.788 1136.27 L107.668 1136.27 L107.668 1158.79 L112.598 1158.79 L112.598 1162.68 L107.668 1162.68 L107.668 1170.83 L103.015 1170.83 L103.015 1162.68 L87.4132 1162.68 L87.4132 1158.17 L101.788 1136.27 Z\" fill=\"#000000\" fill-rule=\"evenodd\" fill-opacity=\"1\" /><path clip-path=\"url(#clip130)\" d=\"M55.2606 770.58 Q51.6495 770.58 49.8208 774.145 Q48.0152 777.687 48.0152 784.816 Q48.0152 791.923 49.8208 795.488 Q51.6495 799.029 55.2606 799.029 Q58.8948 799.029 60.7004 795.488 Q62.5291 791.923 62.5291 784.816 Q62.5291 777.687 60.7004 774.145 Q58.8948 770.58 55.2606 770.58 M55.2606 766.877 Q61.0707 766.877 64.1263 771.483 Q67.205 776.066 67.205 784.816 Q67.205 793.543 64.1263 798.15 Q61.0707 802.733 55.2606 802.733 Q49.4504 802.733 46.3717 798.15 Q43.3162 793.543 43.3162 784.816 Q43.3162 776.066 46.3717 771.483 Q49.4504 766.877 55.2606 766.877 Z\" fill=\"#000000\" fill-rule=\"evenodd\" fill-opacity=\"1\" /><path clip-path=\"url(#clip130)\" d=\"M75.4225 796.182 L80.3067 796.182 L80.3067 802.062 L75.4225 802.062 L75.4225 796.182 Z\" fill=\"#000000\" fill-rule=\"evenodd\" fill-opacity=\"1\" /><path clip-path=\"url(#clip130)\" d=\"M101.071 782.918 Q97.9224 782.918 96.0705 785.071 Q94.2419 787.224 94.2419 790.974 Q94.2419 794.701 96.0705 796.876 Q97.9224 799.029 101.071 799.029 Q104.219 799.029 106.047 796.876 Q107.899 794.701 107.899 790.974 Q107.899 787.224 106.047 785.071 Q104.219 782.918 101.071 782.918 M110.353 768.265 L110.353 772.525 Q108.594 771.691 106.788 771.252 Q105.006 770.812 103.246 770.812 Q98.6168 770.812 96.1631 773.937 Q93.7326 777.062 93.3854 783.381 Q94.7511 781.367 96.8113 780.302 Q98.8715 779.215 101.348 779.215 Q106.557 779.215 109.566 782.386 Q112.598 785.534 112.598 790.974 Q112.598 796.298 109.45 799.515 Q106.302 802.733 101.071 802.733 Q95.0752 802.733 91.9039 798.15 Q88.7326 793.543 88.7326 784.816 Q88.7326 776.622 92.6215 771.761 Q96.5104 766.877 103.061 766.877 Q104.82 766.877 106.603 767.224 Q108.408 767.571 110.353 768.265 Z\" fill=\"#000000\" fill-rule=\"evenodd\" fill-opacity=\"1\" /><path clip-path=\"url(#clip130)\" d=\"M55.5152 401.812 Q51.9041 401.812 50.0754 405.376 Q48.2699 408.918 48.2699 416.048 Q48.2699 423.154 50.0754 426.719 Q51.9041 430.26 55.5152 430.26 Q59.1494 430.26 60.955 426.719 Q62.7837 423.154 62.7837 416.048 Q62.7837 408.918 60.955 405.376 Q59.1494 401.812 55.5152 401.812 M55.5152 398.108 Q61.3254 398.108 64.3809 402.714 Q67.4596 407.298 67.4596 416.048 Q67.4596 424.774 64.3809 429.381 Q61.3254 433.964 55.5152 433.964 Q49.7051 433.964 46.6264 429.381 Q43.5708 424.774 43.5708 416.048 Q43.5708 407.298 46.6264 402.714 Q49.7051 398.108 55.5152 398.108 Z\" fill=\"#000000\" fill-rule=\"evenodd\" fill-opacity=\"1\" /><path clip-path=\"url(#clip130)\" d=\"M75.6771 427.413 L80.5614 427.413 L80.5614 433.293 L75.6771 433.293 L75.6771 427.413 Z\" fill=\"#000000\" fill-rule=\"evenodd\" fill-opacity=\"1\" /><path clip-path=\"url(#clip130)\" d=\"M100.746 416.881 Q97.4131 416.881 95.4918 418.663 Q93.5937 420.446 93.5937 423.571 Q93.5937 426.696 95.4918 428.478 Q97.4131 430.26 100.746 430.26 Q104.08 430.26 106.001 428.478 Q107.922 426.673 107.922 423.571 Q107.922 420.446 106.001 418.663 Q104.103 416.881 100.746 416.881 M96.0705 414.89 Q93.0613 414.149 91.3715 412.089 Q89.7048 410.029 89.7048 407.066 Q89.7048 402.923 92.6446 400.515 Q95.6076 398.108 100.746 398.108 Q105.908 398.108 108.848 400.515 Q111.788 402.923 111.788 407.066 Q111.788 410.029 110.098 412.089 Q108.432 414.149 105.445 414.89 Q108.825 415.677 110.7 417.969 Q112.598 420.261 112.598 423.571 Q112.598 428.594 109.52 431.279 Q106.464 433.964 100.746 433.964 Q95.0289 433.964 91.9502 431.279 Q88.8947 428.594 88.8947 423.571 Q88.8947 420.261 90.7928 417.969 Q92.6909 415.677 96.0705 414.89 M94.3576 407.506 Q94.3576 410.191 96.0242 411.696 Q97.7141 413.2 100.746 413.2 Q103.756 413.2 105.445 411.696 Q107.158 410.191 107.158 407.506 Q107.158 404.821 105.445 403.316 Q103.756 401.812 100.746 401.812 Q97.7141 401.812 96.0242 403.316 Q94.3576 404.821 94.3576 407.506 Z\" fill=\"#000000\" fill-rule=\"evenodd\" fill-opacity=\"1\" /><path clip-path=\"url(#clip130)\" d=\"M46.2328 60.5889 L53.8717 60.5889 L53.8717 34.2233 L45.5616 35.89 L45.5616 31.6308 L53.8254 29.9641 L58.5013 29.9641 L58.5013 60.5889 L66.1402 60.5889 L66.1402 64.5241 L46.2328 64.5241 L46.2328 60.5889 Z\" fill=\"#000000\" fill-rule=\"evenodd\" fill-opacity=\"1\" /><path clip-path=\"url(#clip130)\" d=\"M75.5845 58.6445 L80.4688 58.6445 L80.4688 64.5241 L75.5845 64.5241 L75.5845 58.6445 Z\" fill=\"#000000\" fill-rule=\"evenodd\" fill-opacity=\"1\" /><path clip-path=\"url(#clip130)\" d=\"M100.654 33.0428 Q97.0428 33.0428 95.2141 36.6076 Q93.4085 40.1492 93.4085 47.2788 Q93.4085 54.3853 95.2141 57.9501 Q97.0428 61.4917 100.654 61.4917 Q104.288 61.4917 106.094 57.9501 Q107.922 54.3853 107.922 47.2788 Q107.922 40.1492 106.094 36.6076 Q104.288 33.0428 100.654 33.0428 M100.654 29.3391 Q106.464 29.3391 109.52 33.9456 Q112.598 38.5289 112.598 47.2788 Q112.598 56.0056 109.52 60.6121 Q106.464 65.1954 100.654 65.1954 Q94.8437 65.1954 91.765 60.6121 Q88.7095 56.0056 88.7095 47.2788 Q88.7095 38.5289 91.765 33.9456 Q94.8437 29.3391 100.654 29.3391 Z\" fill=\"#000000\" fill-rule=\"evenodd\" fill-opacity=\"1\" /><circle clip-path=\"url(#clip132)\" cx=\"279.584\" cy=\"969.166\" r=\"125\" fill=\"#009af9\" fill-rule=\"evenodd\" fill-opacity=\"1\" stroke=\"#000000\" stroke-opacity=\"1\" stroke-width=\"4\"/>\n",
       "<circle clip-path=\"url(#clip132)\" cx=\"744.739\" cy=\"969.166\" r=\"17\" fill=\"#e26f46\" fill-rule=\"evenodd\" fill-opacity=\"1\" stroke=\"#000000\" stroke-opacity=\"1\" stroke-width=\"4\"/>\n",
       "<circle clip-path=\"url(#clip132)\" cx=\"1261.58\" cy=\"969.166\" r=\"33\" fill=\"#3da44d\" fill-rule=\"evenodd\" fill-opacity=\"1\" stroke=\"#000000\" stroke-opacity=\"1\" stroke-width=\"4\"/>\n",
       "<circle clip-path=\"url(#clip132)\" cx=\"1778.42\" cy=\"969.166\" r=\"62\" fill=\"#c271d2\" fill-rule=\"evenodd\" fill-opacity=\"1\" stroke=\"#000000\" stroke-opacity=\"1\" stroke-width=\"4\"/>\n",
       "<circle clip-path=\"url(#clip132)\" cx=\"2295.25\" cy=\"969.166\" r=\"13\" fill=\"#ac8d18\" fill-rule=\"evenodd\" fill-opacity=\"1\" stroke=\"#000000\" stroke-opacity=\"1\" stroke-width=\"4\"/>\n",
       "<circle clip-path=\"url(#clip132)\" cx=\"2812.09\" cy=\"969.166\" r=\"1\" fill=\"#00a9ad\" fill-rule=\"evenodd\" fill-opacity=\"1\" stroke=\"#000000\" stroke-opacity=\"1\" stroke-width=\"4\"/>\n",
       "<circle clip-path=\"url(#clip132)\" cx=\"3328.93\" cy=\"969.166\" r=\"81\" fill=\"#ed5d92\" fill-rule=\"evenodd\" fill-opacity=\"1\" stroke=\"#000000\" stroke-opacity=\"1\" stroke-width=\"4\"/>\n",
       "<circle clip-path=\"url(#clip132)\" cx=\"3845.77\" cy=\"969.166\" r=\"23\" fill=\"#c68125\" fill-rule=\"evenodd\" fill-opacity=\"1\" stroke=\"#000000\" stroke-opacity=\"1\" stroke-width=\"4\"/>\n",
       "</svg>\n"
      ]
     },
     "execution_count": 117,
     "metadata": {},
     "output_type": "execute_result"
    }
   ],
   "source": [
    "using Plots;\n",
    "plot!()\n",
    "scatter([1],[0.5],markersize= p3_5[1]*100,legend = false,size=(500,500),ylims=(0,1))\n",
    "scatter!([10],[0.5],markersize= p3_5[2]*100,legend = false,size=(500,500),ylims=(0,1))\n",
    "scatter!([20],[0.5],markersize= p3_5[3]*100,legend = false,size=(500,500),ylims=(0,1))\n",
    "scatter!([30],[0.5],markersize= p3_5[4]*100,legend = false,size=(500,500),ylims=(0,1))\n",
    "scatter!([40],[0.5],markersize= p3_5[5]*100,legend = false,size=(500,500),ylims=(0,1))\n",
    "scatter!([50],[0.5],markersize= p3_5[6]*100,legend = false,size=(500,500),ylims=(0,1))\n",
    "scatter!([60],[0.5],markersize= p3_5[7]*100,legend = false,size=(500,500),ylims=(0,1))\n",
    "scatter!([70],[0.5],markersize= p3_5[8]*100,legend = false,size=(500,500),ylims=(0,1))\n",
    "plot!(size=(1000,500))"
   ]
  },
  {
   "cell_type": "markdown",
   "metadata": {},
   "source": [
    "## Circuit N=4, depth =4"
   ]
  },
  {
   "cell_type": "code",
   "execution_count": 60,
   "metadata": {
    "ExecuteTime": {
     "end_time": "2021-07-10T18:24:37.107000+01:00",
     "start_time": "2021-07-10T17:24:37.033Z"
    }
   },
   "outputs": [],
   "source": [
    "using ITensors\n",
    "N4 = 4\n",
    "sites4 = siteinds(\"S=1/2\",N4)\n",
    "#p{Float64}(nothing, 16)\n",
    "#p{Float64}(undef,16)\n",
    "p4_4 = zeros(16)\n",
    "for i in 1:4:64\n",
    "    #println(i)\n",
    "    #print(TT[i:i+3])\n",
    "    states4 = TT4[i:i+3]\n",
    "    x4 = productMPS(sites4, states4)\n",
    "    ii = i÷4 + 1\n",
    "    #println(ii)\n",
    "    #println(xxx)\n",
    "    # Here is where the width and depth matters\n",
    "    A4_4 = dot(x4,ψ4_4) \n",
    "    #println(\"Amplitude : \",A)\n",
    "    p4_4[ii] = real(A4_4)^2 + imag(A4_4)^2\n",
    "    #println(\"Probability : \",p)\n",
    "end"
   ]
  },
  {
   "cell_type": "markdown",
   "metadata": {},
   "source": [
    "### Probabilities for each base state <x|"
   ]
  },
  {
   "cell_type": "code",
   "execution_count": 61,
   "metadata": {
    "ExecuteTime": {
     "end_time": "2021-07-10T18:24:41.319000+01:00",
     "start_time": "2021-07-10T17:24:41.317Z"
    }
   },
   "outputs": [
    {
     "name": "stdout",
     "output_type": "stream",
     "text": [
      "probability for each base state <x| = [0.11674727669716826, 0.1095837353211021, 0.015756143838782433, 0.03087428864201501, 0.02188916989498861, 0.004982866382150551, 0.013705702752588648, 0.06742597982969285, 0.16658539388499874, 0.1254312854145359, 0.04573044351194156, 0.04234735344935512, 0.06891816601170105, 0.02820245422882694, 0.016711614083011153, 0.12510812605713792]\n"
     ]
    }
   ],
   "source": [
    "println(\"probability for each base state <x| = \",p4_4)"
   ]
  },
  {
   "cell_type": "markdown",
   "metadata": {},
   "source": [
    "### Plot with the probabilities of each <x| a dot whose area is proportional to P(x)"
   ]
  },
  {
   "cell_type": "code",
   "execution_count": 121,
   "metadata": {
    "ExecuteTime": {
     "end_time": "2021-07-10T22:11:49.383000+01:00",
     "start_time": "2021-07-10T21:11:49.295Z"
    }
   },
   "outputs": [
    {
     "data": {
      "image/svg+xml": [
       "<?xml version=\"1.0\" encoding=\"utf-8\"?>\n",
       "<svg xmlns=\"http://www.w3.org/2000/svg\" xmlns:xlink=\"http://www.w3.org/1999/xlink\" width=\"1000\" height=\"500\" viewBox=\"0 0 4000 2000\">\n",
       "<defs>\n",
       "  <clipPath id=\"clip290\">\n",
       "    <rect x=\"0\" y=\"0\" width=\"4000\" height=\"2000\"/>\n",
       "  </clipPath>\n",
       "</defs>\n",
       "<path clip-path=\"url(#clip290)\" d=\"\n",
       "M0 2000 L4000 2000 L4000 0 L0 0  Z\n",
       "  \" fill=\"#ffffff\" fill-rule=\"evenodd\" fill-opacity=\"1\"/>\n",
       "<defs>\n",
       "  <clipPath id=\"clip291\">\n",
       "    <rect x=\"800\" y=\"0\" width=\"2801\" height=\"2000\"/>\n",
       "  </clipPath>\n",
       "</defs>\n",
       "<path clip-path=\"url(#clip290)\" d=\"\n",
       "M172.598 1891.09 L3952.76 1891.09 L3952.76 47.2441 L172.598 47.2441  Z\n",
       "  \" fill=\"#ffffff\" fill-rule=\"evenodd\" fill-opacity=\"1\"/>\n",
       "<defs>\n",
       "  <clipPath id=\"clip292\">\n",
       "    <rect x=\"172\" y=\"47\" width=\"3781\" height=\"1845\"/>\n",
       "  </clipPath>\n",
       "</defs>\n",
       "<polyline clip-path=\"url(#clip292)\" style=\"stroke:#000000; stroke-linecap:butt; stroke-linejoin:round; stroke-width:2; stroke-opacity:0.1; fill:none\" points=\"\n",
       "  255.65,1891.09 255.65,47.2441 \n",
       "  \"/>\n",
       "<polyline clip-path=\"url(#clip292)\" style=\"stroke:#000000; stroke-linecap:butt; stroke-linejoin:round; stroke-width:2; stroke-opacity:0.1; fill:none\" points=\"\n",
       "  1452.36,1891.09 1452.36,47.2441 \n",
       "  \"/>\n",
       "<polyline clip-path=\"url(#clip292)\" style=\"stroke:#000000; stroke-linecap:butt; stroke-linejoin:round; stroke-width:2; stroke-opacity:0.1; fill:none\" points=\"\n",
       "  2649.06,1891.09 2649.06,47.2441 \n",
       "  \"/>\n",
       "<polyline clip-path=\"url(#clip292)\" style=\"stroke:#000000; stroke-linecap:butt; stroke-linejoin:round; stroke-width:2; stroke-opacity:0.1; fill:none\" points=\"\n",
       "  3845.77,1891.09 3845.77,47.2441 \n",
       "  \"/>\n",
       "<polyline clip-path=\"url(#clip290)\" style=\"stroke:#000000; stroke-linecap:butt; stroke-linejoin:round; stroke-width:4; stroke-opacity:1; fill:none\" points=\"\n",
       "  172.598,1891.09 3952.76,1891.09 \n",
       "  \"/>\n",
       "<polyline clip-path=\"url(#clip290)\" style=\"stroke:#000000; stroke-linecap:butt; stroke-linejoin:round; stroke-width:4; stroke-opacity:1; fill:none\" points=\"\n",
       "  255.65,1891.09 255.65,1868.96 \n",
       "  \"/>\n",
       "<polyline clip-path=\"url(#clip290)\" style=\"stroke:#000000; stroke-linecap:butt; stroke-linejoin:round; stroke-width:4; stroke-opacity:1; fill:none\" points=\"\n",
       "  1452.36,1891.09 1452.36,1868.96 \n",
       "  \"/>\n",
       "<polyline clip-path=\"url(#clip290)\" style=\"stroke:#000000; stroke-linecap:butt; stroke-linejoin:round; stroke-width:4; stroke-opacity:1; fill:none\" points=\"\n",
       "  2649.06,1891.09 2649.06,1868.96 \n",
       "  \"/>\n",
       "<polyline clip-path=\"url(#clip290)\" style=\"stroke:#000000; stroke-linecap:butt; stroke-linejoin:round; stroke-width:4; stroke-opacity:1; fill:none\" points=\"\n",
       "  3845.77,1891.09 3845.77,1868.96 \n",
       "  \"/>\n",
       "<path clip-path=\"url(#clip290)\" d=\"M255.65 1933.08 Q252.039 1933.08 250.21 1936.64 Q248.404 1940.19 248.404 1947.31 Q248.404 1954.42 250.21 1957.99 Q252.039 1961.53 255.65 1961.53 Q259.284 1961.53 261.089 1957.99 Q262.918 1954.42 262.918 1947.31 Q262.918 1940.19 261.089 1936.64 Q259.284 1933.08 255.65 1933.08 M255.65 1929.37 Q261.46 1929.37 264.515 1933.98 Q267.594 1938.56 267.594 1947.31 Q267.594 1956.04 264.515 1960.65 Q261.46 1965.23 255.65 1965.23 Q249.84 1965.23 246.761 1960.65 Q243.705 1956.04 243.705 1947.31 Q243.705 1938.56 246.761 1933.98 Q249.84 1929.37 255.65 1929.37 Z\" fill=\"#000000\" fill-rule=\"evenodd\" fill-opacity=\"1\" /><path clip-path=\"url(#clip290)\" d=\"M1427.06 1930 L1445.41 1930 L1445.41 1933.94 L1431.34 1933.94 L1431.34 1942.41 Q1432.36 1942.06 1433.38 1941.9 Q1434.39 1941.71 1435.41 1941.71 Q1441.2 1941.71 1444.58 1944.88 Q1447.96 1948.06 1447.96 1953.47 Q1447.96 1959.05 1444.49 1962.15 Q1441.01 1965.23 1434.69 1965.23 Q1432.52 1965.23 1430.25 1964.86 Q1428 1964.49 1425.6 1963.75 L1425.6 1959.05 Q1427.68 1960.18 1429.9 1960.74 Q1432.13 1961.3 1434.6 1961.3 Q1438.61 1961.3 1440.94 1959.19 Q1443.28 1957.08 1443.28 1953.47 Q1443.28 1949.86 1440.94 1947.75 Q1438.61 1945.65 1434.6 1945.65 Q1432.73 1945.65 1430.85 1946.06 Q1429 1946.48 1427.06 1947.36 L1427.06 1930 Z\" fill=\"#000000\" fill-rule=\"evenodd\" fill-opacity=\"1\" /><path clip-path=\"url(#clip290)\" d=\"M1467.17 1933.08 Q1463.56 1933.08 1461.73 1936.64 Q1459.93 1940.19 1459.93 1947.31 Q1459.93 1954.42 1461.73 1957.99 Q1463.56 1961.53 1467.17 1961.53 Q1470.81 1961.53 1472.61 1957.99 Q1474.44 1954.42 1474.44 1947.31 Q1474.44 1940.19 1472.61 1936.64 Q1470.81 1933.08 1467.17 1933.08 M1467.17 1929.37 Q1472.98 1929.37 1476.04 1933.98 Q1479.12 1938.56 1479.12 1947.31 Q1479.12 1956.04 1476.04 1960.65 Q1472.98 1965.23 1467.17 1965.23 Q1461.36 1965.23 1458.28 1960.65 Q1455.23 1956.04 1455.23 1947.31 Q1455.23 1938.56 1458.28 1933.98 Q1461.36 1929.37 1467.17 1929.37 Z\" fill=\"#000000\" fill-rule=\"evenodd\" fill-opacity=\"1\" /><path clip-path=\"url(#clip290)\" d=\"M2608.67 1960.62 L2616.31 1960.62 L2616.31 1934.26 L2608 1935.93 L2608 1931.67 L2616.26 1930 L2620.94 1930 L2620.94 1960.62 L2628.58 1960.62 L2628.58 1964.56 L2608.67 1964.56 L2608.67 1960.62 Z\" fill=\"#000000\" fill-rule=\"evenodd\" fill-opacity=\"1\" /><path clip-path=\"url(#clip290)\" d=\"M2648.02 1933.08 Q2644.41 1933.08 2642.58 1936.64 Q2640.78 1940.19 2640.78 1947.31 Q2640.78 1954.42 2642.58 1957.99 Q2644.41 1961.53 2648.02 1961.53 Q2651.66 1961.53 2653.46 1957.99 Q2655.29 1954.42 2655.29 1947.31 Q2655.29 1940.19 2653.46 1936.64 Q2651.66 1933.08 2648.02 1933.08 M2648.02 1929.37 Q2653.83 1929.37 2656.89 1933.98 Q2659.97 1938.56 2659.97 1947.31 Q2659.97 1956.04 2656.89 1960.65 Q2653.83 1965.23 2648.02 1965.23 Q2642.21 1965.23 2639.13 1960.65 Q2636.08 1956.04 2636.08 1947.31 Q2636.08 1938.56 2639.13 1933.98 Q2642.21 1929.37 2648.02 1929.37 Z\" fill=\"#000000\" fill-rule=\"evenodd\" fill-opacity=\"1\" /><path clip-path=\"url(#clip290)\" d=\"M2678.18 1933.08 Q2674.57 1933.08 2672.74 1936.64 Q2670.94 1940.19 2670.94 1947.31 Q2670.94 1954.42 2672.74 1957.99 Q2674.57 1961.53 2678.18 1961.53 Q2681.82 1961.53 2683.62 1957.99 Q2685.45 1954.42 2685.45 1947.31 Q2685.45 1940.19 2683.62 1936.64 Q2681.82 1933.08 2678.18 1933.08 M2678.18 1929.37 Q2683.99 1929.37 2687.05 1933.98 Q2690.13 1938.56 2690.13 1947.31 Q2690.13 1956.04 2687.05 1960.65 Q2683.99 1965.23 2678.18 1965.23 Q2672.37 1965.23 2669.29 1960.65 Q2666.24 1956.04 2666.24 1947.31 Q2666.24 1938.56 2669.29 1933.98 Q2672.37 1929.37 2678.18 1929.37 Z\" fill=\"#000000\" fill-rule=\"evenodd\" fill-opacity=\"1\" /><path clip-path=\"url(#clip290)\" d=\"M3805.38 1960.62 L3813.02 1960.62 L3813.02 1934.26 L3804.71 1935.93 L3804.71 1931.67 L3812.97 1930 L3817.65 1930 L3817.65 1960.62 L3825.28 1960.62 L3825.28 1964.56 L3805.38 1964.56 L3805.38 1960.62 Z\" fill=\"#000000\" fill-rule=\"evenodd\" fill-opacity=\"1\" /><path clip-path=\"url(#clip290)\" d=\"M3834.77 1930 L3853.13 1930 L3853.13 1933.94 L3839.06 1933.94 L3839.06 1942.41 Q3840.08 1942.06 3841.09 1941.9 Q3842.11 1941.71 3843.13 1941.71 Q3848.92 1941.71 3852.3 1944.88 Q3855.68 1948.06 3855.68 1953.47 Q3855.68 1959.05 3852.21 1962.15 Q3848.73 1965.23 3842.41 1965.23 Q3840.24 1965.23 3837.97 1964.86 Q3835.72 1964.49 3833.32 1963.75 L3833.32 1959.05 Q3835.4 1960.18 3837.62 1960.74 Q3839.84 1961.3 3842.32 1961.3 Q3846.33 1961.3 3848.66 1959.19 Q3851 1957.08 3851 1953.47 Q3851 1949.86 3848.66 1947.75 Q3846.33 1945.65 3842.32 1945.65 Q3840.45 1945.65 3838.57 1946.06 Q3836.72 1946.48 3834.77 1947.36 L3834.77 1930 Z\" fill=\"#000000\" fill-rule=\"evenodd\" fill-opacity=\"1\" /><path clip-path=\"url(#clip290)\" d=\"M3874.89 1933.08 Q3871.28 1933.08 3869.45 1936.64 Q3867.65 1940.19 3867.65 1947.31 Q3867.65 1954.42 3869.45 1957.99 Q3871.28 1961.53 3874.89 1961.53 Q3878.52 1961.53 3880.33 1957.99 Q3882.16 1954.42 3882.16 1947.31 Q3882.16 1940.19 3880.33 1936.64 Q3878.52 1933.08 3874.89 1933.08 M3874.89 1929.37 Q3880.7 1929.37 3883.76 1933.98 Q3886.83 1938.56 3886.83 1947.31 Q3886.83 1956.04 3883.76 1960.65 Q3880.7 1965.23 3874.89 1965.23 Q3869.08 1965.23 3866 1960.65 Q3862.95 1956.04 3862.95 1947.31 Q3862.95 1938.56 3866 1933.98 Q3869.08 1929.37 3874.89 1929.37 Z\" fill=\"#000000\" fill-rule=\"evenodd\" fill-opacity=\"1\" /><polyline clip-path=\"url(#clip292)\" style=\"stroke:#000000; stroke-linecap:butt; stroke-linejoin:round; stroke-width:2; stroke-opacity:0.1; fill:none\" points=\"\n",
       "  172.598,1891.09 3952.76,1891.09 \n",
       "  \"/>\n",
       "<polyline clip-path=\"url(#clip292)\" style=\"stroke:#000000; stroke-linecap:butt; stroke-linejoin:round; stroke-width:2; stroke-opacity:0.1; fill:none\" points=\"\n",
       "  172.598,1522.32 3952.76,1522.32 \n",
       "  \"/>\n",
       "<polyline clip-path=\"url(#clip292)\" style=\"stroke:#000000; stroke-linecap:butt; stroke-linejoin:round; stroke-width:2; stroke-opacity:0.1; fill:none\" points=\"\n",
       "  172.598,1153.55 3952.76,1153.55 \n",
       "  \"/>\n",
       "<polyline clip-path=\"url(#clip292)\" style=\"stroke:#000000; stroke-linecap:butt; stroke-linejoin:round; stroke-width:2; stroke-opacity:0.1; fill:none\" points=\"\n",
       "  172.598,784.782 3952.76,784.782 \n",
       "  \"/>\n",
       "<polyline clip-path=\"url(#clip292)\" style=\"stroke:#000000; stroke-linecap:butt; stroke-linejoin:round; stroke-width:2; stroke-opacity:0.1; fill:none\" points=\"\n",
       "  172.598,416.013 3952.76,416.013 \n",
       "  \"/>\n",
       "<polyline clip-path=\"url(#clip292)\" style=\"stroke:#000000; stroke-linecap:butt; stroke-linejoin:round; stroke-width:2; stroke-opacity:0.1; fill:none\" points=\"\n",
       "  172.598,47.2441 3952.76,47.2441 \n",
       "  \"/>\n",
       "<polyline clip-path=\"url(#clip290)\" style=\"stroke:#000000; stroke-linecap:butt; stroke-linejoin:round; stroke-width:4; stroke-opacity:1; fill:none\" points=\"\n",
       "  172.598,1891.09 172.598,47.2441 \n",
       "  \"/>\n",
       "<polyline clip-path=\"url(#clip290)\" style=\"stroke:#000000; stroke-linecap:butt; stroke-linejoin:round; stroke-width:4; stroke-opacity:1; fill:none\" points=\"\n",
       "  172.598,1891.09 217.96,1891.09 \n",
       "  \"/>\n",
       "<polyline clip-path=\"url(#clip290)\" style=\"stroke:#000000; stroke-linecap:butt; stroke-linejoin:round; stroke-width:4; stroke-opacity:1; fill:none\" points=\"\n",
       "  172.598,1522.32 217.96,1522.32 \n",
       "  \"/>\n",
       "<polyline clip-path=\"url(#clip290)\" style=\"stroke:#000000; stroke-linecap:butt; stroke-linejoin:round; stroke-width:4; stroke-opacity:1; fill:none\" points=\"\n",
       "  172.598,1153.55 217.96,1153.55 \n",
       "  \"/>\n",
       "<polyline clip-path=\"url(#clip290)\" style=\"stroke:#000000; stroke-linecap:butt; stroke-linejoin:round; stroke-width:4; stroke-opacity:1; fill:none\" points=\"\n",
       "  172.598,784.782 217.96,784.782 \n",
       "  \"/>\n",
       "<polyline clip-path=\"url(#clip290)\" style=\"stroke:#000000; stroke-linecap:butt; stroke-linejoin:round; stroke-width:4; stroke-opacity:1; fill:none\" points=\"\n",
       "  172.598,416.013 217.96,416.013 \n",
       "  \"/>\n",
       "<polyline clip-path=\"url(#clip290)\" style=\"stroke:#000000; stroke-linecap:butt; stroke-linejoin:round; stroke-width:4; stroke-opacity:1; fill:none\" points=\"\n",
       "  172.598,47.2441 217.96,47.2441 \n",
       "  \"/>\n",
       "<path clip-path=\"url(#clip290)\" d=\"M55.4226 1876.89 Q51.8115 1876.89 49.9828 1880.45 Q48.1773 1883.99 48.1773 1891.12 Q48.1773 1898.23 49.9828 1901.79 Q51.8115 1905.34 55.4226 1905.34 Q59.0569 1905.34 60.8624 1901.79 Q62.6911 1898.23 62.6911 1891.12 Q62.6911 1883.99 60.8624 1880.45 Q59.0569 1876.89 55.4226 1876.89 M55.4226 1873.18 Q61.2328 1873.18 64.2883 1877.79 Q67.367 1882.37 67.367 1891.12 Q67.367 1899.85 64.2883 1904.46 Q61.2328 1909.04 55.4226 1909.04 Q49.6125 1909.04 46.5338 1904.46 Q43.4782 1899.85 43.4782 1891.12 Q43.4782 1882.37 46.5338 1877.79 Q49.6125 1873.18 55.4226 1873.18 Z\" fill=\"#000000\" fill-rule=\"evenodd\" fill-opacity=\"1\" /><path clip-path=\"url(#clip290)\" d=\"M75.5845 1902.49 L80.4688 1902.49 L80.4688 1908.37 L75.5845 1908.37 L75.5845 1902.49 Z\" fill=\"#000000\" fill-rule=\"evenodd\" fill-opacity=\"1\" /><path clip-path=\"url(#clip290)\" d=\"M100.654 1876.89 Q97.0428 1876.89 95.2141 1880.45 Q93.4085 1883.99 93.4085 1891.12 Q93.4085 1898.23 95.2141 1901.79 Q97.0428 1905.34 100.654 1905.34 Q104.288 1905.34 106.094 1901.79 Q107.922 1898.23 107.922 1891.12 Q107.922 1883.99 106.094 1880.45 Q104.288 1876.89 100.654 1876.89 M100.654 1873.18 Q106.464 1873.18 109.52 1877.79 Q112.598 1882.37 112.598 1891.12 Q112.598 1899.85 109.52 1904.46 Q106.464 1909.04 100.654 1909.04 Q94.8437 1909.04 91.765 1904.46 Q88.7095 1899.85 88.7095 1891.12 Q88.7095 1882.37 91.765 1877.79 Q94.8437 1873.18 100.654 1873.18 Z\" fill=\"#000000\" fill-rule=\"evenodd\" fill-opacity=\"1\" /><path clip-path=\"url(#clip290)\" d=\"M57.0198 1508.12 Q53.4087 1508.12 51.58 1511.68 Q49.7745 1515.22 49.7745 1522.35 Q49.7745 1529.46 51.58 1533.03 Q53.4087 1536.57 57.0198 1536.57 Q60.6541 1536.57 62.4596 1533.03 Q64.2883 1529.46 64.2883 1522.35 Q64.2883 1515.22 62.4596 1511.68 Q60.6541 1508.12 57.0198 1508.12 M57.0198 1504.41 Q62.83 1504.41 65.8855 1509.02 Q68.9642 1513.6 68.9642 1522.35 Q68.9642 1531.08 65.8855 1535.69 Q62.83 1540.27 57.0198 1540.27 Q51.2097 1540.27 48.131 1535.69 Q45.0754 1531.08 45.0754 1522.35 Q45.0754 1513.6 48.131 1509.02 Q51.2097 1504.41 57.0198 1504.41 Z\" fill=\"#000000\" fill-rule=\"evenodd\" fill-opacity=\"1\" /><path clip-path=\"url(#clip290)\" d=\"M77.1818 1533.72 L82.066 1533.72 L82.066 1539.6 L77.1818 1539.6 L77.1818 1533.72 Z\" fill=\"#000000\" fill-rule=\"evenodd\" fill-opacity=\"1\" /><path clip-path=\"url(#clip290)\" d=\"M96.2789 1535.66 L112.598 1535.66 L112.598 1539.6 L90.6539 1539.6 L90.6539 1535.66 Q93.3159 1532.91 97.8992 1528.28 Q102.506 1523.63 103.686 1522.28 Q105.932 1519.76 106.811 1518.03 Q107.714 1516.27 107.714 1514.58 Q107.714 1511.82 105.77 1510.09 Q103.848 1508.35 100.746 1508.35 Q98.5474 1508.35 96.0937 1509.11 Q93.6632 1509.88 90.8854 1511.43 L90.8854 1506.71 Q93.7094 1505.57 96.1631 1504.99 Q98.6168 1504.41 100.654 1504.41 Q106.024 1504.41 109.219 1507.1 Q112.413 1509.78 112.413 1514.28 Q112.413 1516.4 111.603 1518.33 Q110.816 1520.22 108.709 1522.82 Q108.131 1523.49 105.029 1526.71 Q101.927 1529.9 96.2789 1535.66 Z\" fill=\"#000000\" fill-rule=\"evenodd\" fill-opacity=\"1\" /><path clip-path=\"url(#clip290)\" d=\"M54.9365 1139.35 Q51.3254 1139.35 49.4967 1142.91 Q47.6912 1146.46 47.6912 1153.59 Q47.6912 1160.69 49.4967 1164.26 Q51.3254 1167.8 54.9365 1167.8 Q58.5707 1167.8 60.3763 1164.26 Q62.205 1160.69 62.205 1153.59 Q62.205 1146.46 60.3763 1142.91 Q58.5707 1139.35 54.9365 1139.35 M54.9365 1135.65 Q60.7467 1135.65 63.8022 1140.25 Q66.8809 1144.84 66.8809 1153.59 Q66.8809 1162.31 63.8022 1166.92 Q60.7467 1171.5 54.9365 1171.5 Q49.1264 1171.5 46.0477 1166.92 Q42.9921 1162.31 42.9921 1153.59 Q42.9921 1144.84 46.0477 1140.25 Q49.1264 1135.65 54.9365 1135.65 Z\" fill=\"#000000\" fill-rule=\"evenodd\" fill-opacity=\"1\" /><path clip-path=\"url(#clip290)\" d=\"M75.0984 1164.95 L79.9827 1164.95 L79.9827 1170.83 L75.0984 1170.83 L75.0984 1164.95 Z\" fill=\"#000000\" fill-rule=\"evenodd\" fill-opacity=\"1\" /><path clip-path=\"url(#clip290)\" d=\"M103.015 1140.34 L91.2095 1158.79 L103.015 1158.79 L103.015 1140.34 M101.788 1136.27 L107.668 1136.27 L107.668 1158.79 L112.598 1158.79 L112.598 1162.68 L107.668 1162.68 L107.668 1170.83 L103.015 1170.83 L103.015 1162.68 L87.4132 1162.68 L87.4132 1158.17 L101.788 1136.27 Z\" fill=\"#000000\" fill-rule=\"evenodd\" fill-opacity=\"1\" /><path clip-path=\"url(#clip290)\" d=\"M55.2606 770.58 Q51.6495 770.58 49.8208 774.145 Q48.0152 777.687 48.0152 784.816 Q48.0152 791.923 49.8208 795.488 Q51.6495 799.029 55.2606 799.029 Q58.8948 799.029 60.7004 795.488 Q62.5291 791.923 62.5291 784.816 Q62.5291 777.687 60.7004 774.145 Q58.8948 770.58 55.2606 770.58 M55.2606 766.877 Q61.0707 766.877 64.1263 771.483 Q67.205 776.066 67.205 784.816 Q67.205 793.543 64.1263 798.15 Q61.0707 802.733 55.2606 802.733 Q49.4504 802.733 46.3717 798.15 Q43.3162 793.543 43.3162 784.816 Q43.3162 776.066 46.3717 771.483 Q49.4504 766.877 55.2606 766.877 Z\" fill=\"#000000\" fill-rule=\"evenodd\" fill-opacity=\"1\" /><path clip-path=\"url(#clip290)\" d=\"M75.4225 796.182 L80.3067 796.182 L80.3067 802.062 L75.4225 802.062 L75.4225 796.182 Z\" fill=\"#000000\" fill-rule=\"evenodd\" fill-opacity=\"1\" /><path clip-path=\"url(#clip290)\" d=\"M101.071 782.918 Q97.9224 782.918 96.0705 785.071 Q94.2419 787.224 94.2419 790.974 Q94.2419 794.701 96.0705 796.876 Q97.9224 799.029 101.071 799.029 Q104.219 799.029 106.047 796.876 Q107.899 794.701 107.899 790.974 Q107.899 787.224 106.047 785.071 Q104.219 782.918 101.071 782.918 M110.353 768.265 L110.353 772.525 Q108.594 771.691 106.788 771.252 Q105.006 770.812 103.246 770.812 Q98.6168 770.812 96.1631 773.937 Q93.7326 777.062 93.3854 783.381 Q94.7511 781.367 96.8113 780.302 Q98.8715 779.215 101.348 779.215 Q106.557 779.215 109.566 782.386 Q112.598 785.534 112.598 790.974 Q112.598 796.298 109.45 799.515 Q106.302 802.733 101.071 802.733 Q95.0752 802.733 91.9039 798.15 Q88.7326 793.543 88.7326 784.816 Q88.7326 776.622 92.6215 771.761 Q96.5104 766.877 103.061 766.877 Q104.82 766.877 106.603 767.224 Q108.408 767.571 110.353 768.265 Z\" fill=\"#000000\" fill-rule=\"evenodd\" fill-opacity=\"1\" /><path clip-path=\"url(#clip290)\" d=\"M55.5152 401.812 Q51.9041 401.812 50.0754 405.376 Q48.2699 408.918 48.2699 416.048 Q48.2699 423.154 50.0754 426.719 Q51.9041 430.26 55.5152 430.26 Q59.1494 430.26 60.955 426.719 Q62.7837 423.154 62.7837 416.048 Q62.7837 408.918 60.955 405.376 Q59.1494 401.812 55.5152 401.812 M55.5152 398.108 Q61.3254 398.108 64.3809 402.714 Q67.4596 407.298 67.4596 416.048 Q67.4596 424.774 64.3809 429.381 Q61.3254 433.964 55.5152 433.964 Q49.7051 433.964 46.6264 429.381 Q43.5708 424.774 43.5708 416.048 Q43.5708 407.298 46.6264 402.714 Q49.7051 398.108 55.5152 398.108 Z\" fill=\"#000000\" fill-rule=\"evenodd\" fill-opacity=\"1\" /><path clip-path=\"url(#clip290)\" d=\"M75.6771 427.413 L80.5614 427.413 L80.5614 433.293 L75.6771 433.293 L75.6771 427.413 Z\" fill=\"#000000\" fill-rule=\"evenodd\" fill-opacity=\"1\" /><path clip-path=\"url(#clip290)\" d=\"M100.746 416.881 Q97.4131 416.881 95.4918 418.663 Q93.5937 420.446 93.5937 423.571 Q93.5937 426.696 95.4918 428.478 Q97.4131 430.26 100.746 430.26 Q104.08 430.26 106.001 428.478 Q107.922 426.673 107.922 423.571 Q107.922 420.446 106.001 418.663 Q104.103 416.881 100.746 416.881 M96.0705 414.89 Q93.0613 414.149 91.3715 412.089 Q89.7048 410.029 89.7048 407.066 Q89.7048 402.923 92.6446 400.515 Q95.6076 398.108 100.746 398.108 Q105.908 398.108 108.848 400.515 Q111.788 402.923 111.788 407.066 Q111.788 410.029 110.098 412.089 Q108.432 414.149 105.445 414.89 Q108.825 415.677 110.7 417.969 Q112.598 420.261 112.598 423.571 Q112.598 428.594 109.52 431.279 Q106.464 433.964 100.746 433.964 Q95.0289 433.964 91.9502 431.279 Q88.8947 428.594 88.8947 423.571 Q88.8947 420.261 90.7928 417.969 Q92.6909 415.677 96.0705 414.89 M94.3576 407.506 Q94.3576 410.191 96.0242 411.696 Q97.7141 413.2 100.746 413.2 Q103.756 413.2 105.445 411.696 Q107.158 410.191 107.158 407.506 Q107.158 404.821 105.445 403.316 Q103.756 401.812 100.746 401.812 Q97.7141 401.812 96.0242 403.316 Q94.3576 404.821 94.3576 407.506 Z\" fill=\"#000000\" fill-rule=\"evenodd\" fill-opacity=\"1\" /><path clip-path=\"url(#clip290)\" d=\"M46.2328 60.5889 L53.8717 60.5889 L53.8717 34.2233 L45.5616 35.89 L45.5616 31.6308 L53.8254 29.9641 L58.5013 29.9641 L58.5013 60.5889 L66.1402 60.5889 L66.1402 64.5241 L46.2328 64.5241 L46.2328 60.5889 Z\" fill=\"#000000\" fill-rule=\"evenodd\" fill-opacity=\"1\" /><path clip-path=\"url(#clip290)\" d=\"M75.5845 58.6445 L80.4688 58.6445 L80.4688 64.5241 L75.5845 64.5241 L75.5845 58.6445 Z\" fill=\"#000000\" fill-rule=\"evenodd\" fill-opacity=\"1\" /><path clip-path=\"url(#clip290)\" d=\"M100.654 33.0428 Q97.0428 33.0428 95.2141 36.6076 Q93.4085 40.1492 93.4085 47.2788 Q93.4085 54.3853 95.2141 57.9501 Q97.0428 61.4917 100.654 61.4917 Q104.288 61.4917 106.094 57.9501 Q107.922 54.3853 107.922 47.2788 Q107.922 40.1492 106.094 36.6076 Q104.288 33.0428 100.654 33.0428 M100.654 29.3391 Q106.464 29.3391 109.52 33.9456 Q112.598 38.5289 112.598 47.2788 Q112.598 56.0056 109.52 60.6121 Q106.464 65.1954 100.654 65.1954 Q94.8437 65.1954 91.765 60.6121 Q88.7095 56.0056 88.7095 47.2788 Q88.7095 38.5289 91.765 33.9456 Q94.8437 29.3391 100.654 29.3391 Z\" fill=\"#000000\" fill-rule=\"evenodd\" fill-opacity=\"1\" /><circle clip-path=\"url(#clip292)\" cx=\"279.584\" cy=\"969.166\" r=\"42\" fill=\"#009af9\" fill-rule=\"evenodd\" fill-opacity=\"1\" stroke=\"#000000\" stroke-opacity=\"1\" stroke-width=\"4\"/>\n",
       "<circle clip-path=\"url(#clip292)\" cx=\"494.991\" cy=\"969.166\" r=\"39\" fill=\"#e26f46\" fill-rule=\"evenodd\" fill-opacity=\"1\" stroke=\"#000000\" stroke-opacity=\"1\" stroke-width=\"4\"/>\n",
       "<circle clip-path=\"url(#clip292)\" cx=\"734.332\" cy=\"969.166\" r=\"5\" fill=\"#3da44d\" fill-rule=\"evenodd\" fill-opacity=\"1\" stroke=\"#000000\" stroke-opacity=\"1\" stroke-width=\"4\"/>\n",
       "<circle clip-path=\"url(#clip292)\" cx=\"973.674\" cy=\"969.166\" r=\"11\" fill=\"#c271d2\" fill-rule=\"evenodd\" fill-opacity=\"1\" stroke=\"#000000\" stroke-opacity=\"1\" stroke-width=\"4\"/>\n",
       "<circle clip-path=\"url(#clip292)\" cx=\"1213.02\" cy=\"969.166\" r=\"7\" fill=\"#ac8d18\" fill-rule=\"evenodd\" fill-opacity=\"1\" stroke=\"#000000\" stroke-opacity=\"1\" stroke-width=\"4\"/>\n",
       "<circle clip-path=\"url(#clip292)\" cx=\"1452.36\" cy=\"969.166\" r=\"1\" fill=\"#00a9ad\" fill-rule=\"evenodd\" fill-opacity=\"1\" stroke=\"#000000\" stroke-opacity=\"1\" stroke-width=\"4\"/>\n",
       "<circle clip-path=\"url(#clip292)\" cx=\"1691.7\" cy=\"969.166\" r=\"4\" fill=\"#ed5d92\" fill-rule=\"evenodd\" fill-opacity=\"1\" stroke=\"#000000\" stroke-opacity=\"1\" stroke-width=\"4\"/>\n",
       "<circle clip-path=\"url(#clip292)\" cx=\"1931.04\" cy=\"969.166\" r=\"24\" fill=\"#c68125\" fill-rule=\"evenodd\" fill-opacity=\"1\" stroke=\"#000000\" stroke-opacity=\"1\" stroke-width=\"4\"/>\n",
       "<circle clip-path=\"url(#clip292)\" cx=\"2170.38\" cy=\"969.166\" r=\"59\" fill=\"#00a98d\" fill-rule=\"evenodd\" fill-opacity=\"1\" stroke=\"#000000\" stroke-opacity=\"1\" stroke-width=\"4\"/>\n",
       "<circle clip-path=\"url(#clip292)\" cx=\"2409.72\" cy=\"969.166\" r=\"45\" fill=\"#8e971d\" fill-rule=\"evenodd\" fill-opacity=\"1\" stroke=\"#000000\" stroke-opacity=\"1\" stroke-width=\"4\"/>\n",
       "<circle clip-path=\"url(#clip292)\" cx=\"2649.06\" cy=\"969.166\" r=\"16\" fill=\"#00a8cb\" fill-rule=\"evenodd\" fill-opacity=\"1\" stroke=\"#000000\" stroke-opacity=\"1\" stroke-width=\"4\"/>\n",
       "<circle clip-path=\"url(#clip292)\" cx=\"2888.4\" cy=\"969.166\" r=\"15\" fill=\"#9b7fe8\" fill-rule=\"evenodd\" fill-opacity=\"1\" stroke=\"#000000\" stroke-opacity=\"1\" stroke-width=\"4\"/>\n",
       "<circle clip-path=\"url(#clip292)\" cx=\"3127.75\" cy=\"969.166\" r=\"24\" fill=\"#608cf6\" fill-rule=\"evenodd\" fill-opacity=\"1\" stroke=\"#000000\" stroke-opacity=\"1\" stroke-width=\"4\"/>\n",
       "<circle clip-path=\"url(#clip292)\" cx=\"3367.09\" cy=\"969.166\" r=\"10\" fill=\"#f05f73\" fill-rule=\"evenodd\" fill-opacity=\"1\" stroke=\"#000000\" stroke-opacity=\"1\" stroke-width=\"4\"/>\n",
       "<circle clip-path=\"url(#clip292)\" cx=\"3606.43\" cy=\"969.166\" r=\"6\" fill=\"#dd64b5\" fill-rule=\"evenodd\" fill-opacity=\"1\" stroke=\"#000000\" stroke-opacity=\"1\" stroke-width=\"4\"/>\n",
       "<circle clip-path=\"url(#clip292)\" cx=\"3845.77\" cy=\"969.166\" r=\"45\" fill=\"#6b9e32\" fill-rule=\"evenodd\" fill-opacity=\"1\" stroke=\"#000000\" stroke-opacity=\"1\" stroke-width=\"4\"/>\n",
       "</svg>\n"
      ]
     },
     "execution_count": 121,
     "metadata": {},
     "output_type": "execute_result"
    }
   ],
   "source": [
    "using Plots;\n",
    "plot!()\n",
    "scatter([1],[0.5],markersize= p4_4[1]*100,legend = false,size=(500,500),ylims=(0,1))\n",
    "scatter!([10],[0.5],markersize= p4_4[2]*100,legend = false,size=(500,500),ylims=(0,1))\n",
    "scatter!([20],[0.5],markersize= p4_4[3]*100,legend = false,size=(500,500),ylims=(0,1))\n",
    "scatter!([30],[0.5],markersize= p4_4[4]*100,legend = false,size=(500,500),ylims=(0,1))\n",
    "scatter!([40],[0.5],markersize= p4_4[5]*100,legend = false,size=(500,500),ylims=(0,1))\n",
    "scatter!([50],[0.5],markersize= p4_4[6]*100,legend = false,size=(500,500),ylims=(0,1))\n",
    "scatter!([60],[0.5],markersize= p4_4[7]*100,legend = false,size=(500,500),ylims=(0,1))\n",
    "scatter!([70],[0.5],markersize= p4_4[8]*100,legend = false,size=(500,500),ylims=(0,1))\n",
    "scatter!([80],[0.5],markersize= p4_4[9]*100,legend = false,size=(500,500),ylims=(0,1))\n",
    "scatter!([90],[0.5],markersize= p4_4[10]*100,legend = false,size=(500,500),ylims=(0,1))\n",
    "scatter!([100],[0.5],markersize= p4_4[11]*100,legend = false,size=(500,500),ylims=(0,1))\n",
    "scatter!([110],[0.5],markersize= p4_4[12]*100,legend = false,size=(500,500),ylims=(0,1))\n",
    "scatter!([120],[0.5],markersize= p4_4[13]*100,legend = false,size=(500,500),ylims=(0,1))\n",
    "scatter!([130],[0.5],markersize= p4_4[14]*100,legend = false,size=(500,500),ylims=(0,1))\n",
    "scatter!([140],[0.5],markersize= p4_4[15]*100,legend = false,size=(500,500),ylims=(0,1))\n",
    "scatter!([150],[0.5],markersize= p4_4[16]*100,legend = false,size=(500,500),ylims=(0,1))\n",
    "plot!(size=(1000,500))"
   ]
  },
  {
   "cell_type": "markdown",
   "metadata": {},
   "source": [
    "## Circuit N=4, depth =5"
   ]
  },
  {
   "cell_type": "code",
   "execution_count": 122,
   "metadata": {
    "ExecuteTime": {
     "end_time": "2021-07-10T22:45:47.592000+01:00",
     "start_time": "2021-07-10T21:45:47.514Z"
    }
   },
   "outputs": [],
   "source": [
    "using ITensors\n",
    "N4 = 4\n",
    "sites4 = siteinds(\"S=1/2\",N4)\n",
    "#p{Float64}(nothing, 16)\n",
    "#p{Float64}(undef,16)\n",
    "p4_5 = zeros(16)\n",
    "for i in 1:4:64\n",
    "    #println(i)\n",
    "    #print(TT[i:i+3])\n",
    "    states4 = TT4[i:i+3]\n",
    "    x4 = productMPS(sites4, states4)\n",
    "    ii = i÷4 + 1\n",
    "    #println(ii)\n",
    "    #println(xxx)\n",
    "    # Here is where the width and depth matters\n",
    "    A4_5 = dot(x4,ψ4_5) \n",
    "    #println(\"Amplitude : \",A)\n",
    "    p4_5[ii] = real(A4_5)^2 + imag(A4_5)^2\n",
    "    #println(\"Probability : \",p)\n",
    "end"
   ]
  },
  {
   "cell_type": "code",
   "execution_count": 123,
   "metadata": {
    "ExecuteTime": {
     "end_time": "2021-07-10T22:45:49.451000+01:00",
     "start_time": "2021-07-10T21:45:49.439Z"
    }
   },
   "outputs": [
    {
     "name": "stdout",
     "output_type": "stream",
     "text": [
      "probability for each base state <x| = [0.19989317161304418, 0.08982119647561737, 0.014231799663088992, 0.06146265244683545, 0.2766222173799328, 0.13186329511763892, 0.0169777025214659, 0.04585884916998359, 0.02496349315675242, 0.00413230504377829, 0.001610170146161525, 0.0479828851217048, 0.029315127817722275, 0.03308651803249969, 0.012186898479562775, 0.009991717814211844]\n"
     ]
    }
   ],
   "source": [
    "println(\"probability for each base state <x| = \",p4_5)"
   ]
  },
  {
   "cell_type": "code",
   "execution_count": 124,
   "metadata": {
    "ExecuteTime": {
     "end_time": "2021-07-10T22:45:52.320000+01:00",
     "start_time": "2021-07-10T21:45:52.246Z"
    }
   },
   "outputs": [
    {
     "data": {
      "image/svg+xml": [
       "<?xml version=\"1.0\" encoding=\"utf-8\"?>\n",
       "<svg xmlns=\"http://www.w3.org/2000/svg\" xmlns:xlink=\"http://www.w3.org/1999/xlink\" width=\"1000\" height=\"500\" viewBox=\"0 0 4000 2000\">\n",
       "<defs>\n",
       "  <clipPath id=\"clip330\">\n",
       "    <rect x=\"0\" y=\"0\" width=\"4000\" height=\"2000\"/>\n",
       "  </clipPath>\n",
       "</defs>\n",
       "<path clip-path=\"url(#clip330)\" d=\"\n",
       "M0 2000 L4000 2000 L4000 0 L0 0  Z\n",
       "  \" fill=\"#ffffff\" fill-rule=\"evenodd\" fill-opacity=\"1\"/>\n",
       "<defs>\n",
       "  <clipPath id=\"clip331\">\n",
       "    <rect x=\"800\" y=\"0\" width=\"2801\" height=\"2000\"/>\n",
       "  </clipPath>\n",
       "</defs>\n",
       "<path clip-path=\"url(#clip330)\" d=\"\n",
       "M172.598 1891.09 L3952.76 1891.09 L3952.76 47.2441 L172.598 47.2441  Z\n",
       "  \" fill=\"#ffffff\" fill-rule=\"evenodd\" fill-opacity=\"1\"/>\n",
       "<defs>\n",
       "  <clipPath id=\"clip332\">\n",
       "    <rect x=\"172\" y=\"47\" width=\"3781\" height=\"1845\"/>\n",
       "  </clipPath>\n",
       "</defs>\n",
       "<polyline clip-path=\"url(#clip332)\" style=\"stroke:#000000; stroke-linecap:butt; stroke-linejoin:round; stroke-width:2; stroke-opacity:0.1; fill:none\" points=\"\n",
       "  255.65,1891.09 255.65,47.2441 \n",
       "  \"/>\n",
       "<polyline clip-path=\"url(#clip332)\" style=\"stroke:#000000; stroke-linecap:butt; stroke-linejoin:round; stroke-width:2; stroke-opacity:0.1; fill:none\" points=\"\n",
       "  1452.36,1891.09 1452.36,47.2441 \n",
       "  \"/>\n",
       "<polyline clip-path=\"url(#clip332)\" style=\"stroke:#000000; stroke-linecap:butt; stroke-linejoin:round; stroke-width:2; stroke-opacity:0.1; fill:none\" points=\"\n",
       "  2649.06,1891.09 2649.06,47.2441 \n",
       "  \"/>\n",
       "<polyline clip-path=\"url(#clip332)\" style=\"stroke:#000000; stroke-linecap:butt; stroke-linejoin:round; stroke-width:2; stroke-opacity:0.1; fill:none\" points=\"\n",
       "  3845.77,1891.09 3845.77,47.2441 \n",
       "  \"/>\n",
       "<polyline clip-path=\"url(#clip330)\" style=\"stroke:#000000; stroke-linecap:butt; stroke-linejoin:round; stroke-width:4; stroke-opacity:1; fill:none\" points=\"\n",
       "  172.598,1891.09 3952.76,1891.09 \n",
       "  \"/>\n",
       "<polyline clip-path=\"url(#clip330)\" style=\"stroke:#000000; stroke-linecap:butt; stroke-linejoin:round; stroke-width:4; stroke-opacity:1; fill:none\" points=\"\n",
       "  255.65,1891.09 255.65,1868.96 \n",
       "  \"/>\n",
       "<polyline clip-path=\"url(#clip330)\" style=\"stroke:#000000; stroke-linecap:butt; stroke-linejoin:round; stroke-width:4; stroke-opacity:1; fill:none\" points=\"\n",
       "  1452.36,1891.09 1452.36,1868.96 \n",
       "  \"/>\n",
       "<polyline clip-path=\"url(#clip330)\" style=\"stroke:#000000; stroke-linecap:butt; stroke-linejoin:round; stroke-width:4; stroke-opacity:1; fill:none\" points=\"\n",
       "  2649.06,1891.09 2649.06,1868.96 \n",
       "  \"/>\n",
       "<polyline clip-path=\"url(#clip330)\" style=\"stroke:#000000; stroke-linecap:butt; stroke-linejoin:round; stroke-width:4; stroke-opacity:1; fill:none\" points=\"\n",
       "  3845.77,1891.09 3845.77,1868.96 \n",
       "  \"/>\n",
       "<path clip-path=\"url(#clip330)\" d=\"M255.65 1933.08 Q252.039 1933.08 250.21 1936.64 Q248.404 1940.19 248.404 1947.31 Q248.404 1954.42 250.21 1957.99 Q252.039 1961.53 255.65 1961.53 Q259.284 1961.53 261.089 1957.99 Q262.918 1954.42 262.918 1947.31 Q262.918 1940.19 261.089 1936.64 Q259.284 1933.08 255.65 1933.08 M255.65 1929.37 Q261.46 1929.37 264.515 1933.98 Q267.594 1938.56 267.594 1947.31 Q267.594 1956.04 264.515 1960.65 Q261.46 1965.23 255.65 1965.23 Q249.84 1965.23 246.761 1960.65 Q243.705 1956.04 243.705 1947.31 Q243.705 1938.56 246.761 1933.98 Q249.84 1929.37 255.65 1929.37 Z\" fill=\"#000000\" fill-rule=\"evenodd\" fill-opacity=\"1\" /><path clip-path=\"url(#clip330)\" d=\"M1427.06 1930 L1445.41 1930 L1445.41 1933.94 L1431.34 1933.94 L1431.34 1942.41 Q1432.36 1942.06 1433.38 1941.9 Q1434.39 1941.71 1435.41 1941.71 Q1441.2 1941.71 1444.58 1944.88 Q1447.96 1948.06 1447.96 1953.47 Q1447.96 1959.05 1444.49 1962.15 Q1441.01 1965.23 1434.69 1965.23 Q1432.52 1965.23 1430.25 1964.86 Q1428 1964.49 1425.6 1963.75 L1425.6 1959.05 Q1427.68 1960.18 1429.9 1960.74 Q1432.13 1961.3 1434.6 1961.3 Q1438.61 1961.3 1440.94 1959.19 Q1443.28 1957.08 1443.28 1953.47 Q1443.28 1949.86 1440.94 1947.75 Q1438.61 1945.65 1434.6 1945.65 Q1432.73 1945.65 1430.85 1946.06 Q1429 1946.48 1427.06 1947.36 L1427.06 1930 Z\" fill=\"#000000\" fill-rule=\"evenodd\" fill-opacity=\"1\" /><path clip-path=\"url(#clip330)\" d=\"M1467.17 1933.08 Q1463.56 1933.08 1461.73 1936.64 Q1459.93 1940.19 1459.93 1947.31 Q1459.93 1954.42 1461.73 1957.99 Q1463.56 1961.53 1467.17 1961.53 Q1470.81 1961.53 1472.61 1957.99 Q1474.44 1954.42 1474.44 1947.31 Q1474.44 1940.19 1472.61 1936.64 Q1470.81 1933.08 1467.17 1933.08 M1467.17 1929.37 Q1472.98 1929.37 1476.04 1933.98 Q1479.12 1938.56 1479.12 1947.31 Q1479.12 1956.04 1476.04 1960.65 Q1472.98 1965.23 1467.17 1965.23 Q1461.36 1965.23 1458.28 1960.65 Q1455.23 1956.04 1455.23 1947.31 Q1455.23 1938.56 1458.28 1933.98 Q1461.36 1929.37 1467.17 1929.37 Z\" fill=\"#000000\" fill-rule=\"evenodd\" fill-opacity=\"1\" /><path clip-path=\"url(#clip330)\" d=\"M2608.67 1960.62 L2616.31 1960.62 L2616.31 1934.26 L2608 1935.93 L2608 1931.67 L2616.26 1930 L2620.94 1930 L2620.94 1960.62 L2628.58 1960.62 L2628.58 1964.56 L2608.67 1964.56 L2608.67 1960.62 Z\" fill=\"#000000\" fill-rule=\"evenodd\" fill-opacity=\"1\" /><path clip-path=\"url(#clip330)\" d=\"M2648.02 1933.08 Q2644.41 1933.08 2642.58 1936.64 Q2640.78 1940.19 2640.78 1947.31 Q2640.78 1954.42 2642.58 1957.99 Q2644.41 1961.53 2648.02 1961.53 Q2651.66 1961.53 2653.46 1957.99 Q2655.29 1954.42 2655.29 1947.31 Q2655.29 1940.19 2653.46 1936.64 Q2651.66 1933.08 2648.02 1933.08 M2648.02 1929.37 Q2653.83 1929.37 2656.89 1933.98 Q2659.97 1938.56 2659.97 1947.31 Q2659.97 1956.04 2656.89 1960.65 Q2653.83 1965.23 2648.02 1965.23 Q2642.21 1965.23 2639.13 1960.65 Q2636.08 1956.04 2636.08 1947.31 Q2636.08 1938.56 2639.13 1933.98 Q2642.21 1929.37 2648.02 1929.37 Z\" fill=\"#000000\" fill-rule=\"evenodd\" fill-opacity=\"1\" /><path clip-path=\"url(#clip330)\" d=\"M2678.18 1933.08 Q2674.57 1933.08 2672.74 1936.64 Q2670.94 1940.19 2670.94 1947.31 Q2670.94 1954.42 2672.74 1957.99 Q2674.57 1961.53 2678.18 1961.53 Q2681.82 1961.53 2683.62 1957.99 Q2685.45 1954.42 2685.45 1947.31 Q2685.45 1940.19 2683.62 1936.64 Q2681.82 1933.08 2678.18 1933.08 M2678.18 1929.37 Q2683.99 1929.37 2687.05 1933.98 Q2690.13 1938.56 2690.13 1947.31 Q2690.13 1956.04 2687.05 1960.65 Q2683.99 1965.23 2678.18 1965.23 Q2672.37 1965.23 2669.29 1960.65 Q2666.24 1956.04 2666.24 1947.31 Q2666.24 1938.56 2669.29 1933.98 Q2672.37 1929.37 2678.18 1929.37 Z\" fill=\"#000000\" fill-rule=\"evenodd\" fill-opacity=\"1\" /><path clip-path=\"url(#clip330)\" d=\"M3805.38 1960.62 L3813.02 1960.62 L3813.02 1934.26 L3804.71 1935.93 L3804.71 1931.67 L3812.97 1930 L3817.65 1930 L3817.65 1960.62 L3825.28 1960.62 L3825.28 1964.56 L3805.38 1964.56 L3805.38 1960.62 Z\" fill=\"#000000\" fill-rule=\"evenodd\" fill-opacity=\"1\" /><path clip-path=\"url(#clip330)\" d=\"M3834.77 1930 L3853.13 1930 L3853.13 1933.94 L3839.06 1933.94 L3839.06 1942.41 Q3840.08 1942.06 3841.09 1941.9 Q3842.11 1941.71 3843.13 1941.71 Q3848.92 1941.71 3852.3 1944.88 Q3855.68 1948.06 3855.68 1953.47 Q3855.68 1959.05 3852.21 1962.15 Q3848.73 1965.23 3842.41 1965.23 Q3840.24 1965.23 3837.97 1964.86 Q3835.72 1964.49 3833.32 1963.75 L3833.32 1959.05 Q3835.4 1960.18 3837.62 1960.74 Q3839.84 1961.3 3842.32 1961.3 Q3846.33 1961.3 3848.66 1959.19 Q3851 1957.08 3851 1953.47 Q3851 1949.86 3848.66 1947.75 Q3846.33 1945.65 3842.32 1945.65 Q3840.45 1945.65 3838.57 1946.06 Q3836.72 1946.48 3834.77 1947.36 L3834.77 1930 Z\" fill=\"#000000\" fill-rule=\"evenodd\" fill-opacity=\"1\" /><path clip-path=\"url(#clip330)\" d=\"M3874.89 1933.08 Q3871.28 1933.08 3869.45 1936.64 Q3867.65 1940.19 3867.65 1947.31 Q3867.65 1954.42 3869.45 1957.99 Q3871.28 1961.53 3874.89 1961.53 Q3878.52 1961.53 3880.33 1957.99 Q3882.16 1954.42 3882.16 1947.31 Q3882.16 1940.19 3880.33 1936.64 Q3878.52 1933.08 3874.89 1933.08 M3874.89 1929.37 Q3880.7 1929.37 3883.76 1933.98 Q3886.83 1938.56 3886.83 1947.31 Q3886.83 1956.04 3883.76 1960.65 Q3880.7 1965.23 3874.89 1965.23 Q3869.08 1965.23 3866 1960.65 Q3862.95 1956.04 3862.95 1947.31 Q3862.95 1938.56 3866 1933.98 Q3869.08 1929.37 3874.89 1929.37 Z\" fill=\"#000000\" fill-rule=\"evenodd\" fill-opacity=\"1\" /><polyline clip-path=\"url(#clip332)\" style=\"stroke:#000000; stroke-linecap:butt; stroke-linejoin:round; stroke-width:2; stroke-opacity:0.1; fill:none\" points=\"\n",
       "  172.598,1891.09 3952.76,1891.09 \n",
       "  \"/>\n",
       "<polyline clip-path=\"url(#clip332)\" style=\"stroke:#000000; stroke-linecap:butt; stroke-linejoin:round; stroke-width:2; stroke-opacity:0.1; fill:none\" points=\"\n",
       "  172.598,1522.32 3952.76,1522.32 \n",
       "  \"/>\n",
       "<polyline clip-path=\"url(#clip332)\" style=\"stroke:#000000; stroke-linecap:butt; stroke-linejoin:round; stroke-width:2; stroke-opacity:0.1; fill:none\" points=\"\n",
       "  172.598,1153.55 3952.76,1153.55 \n",
       "  \"/>\n",
       "<polyline clip-path=\"url(#clip332)\" style=\"stroke:#000000; stroke-linecap:butt; stroke-linejoin:round; stroke-width:2; stroke-opacity:0.1; fill:none\" points=\"\n",
       "  172.598,784.782 3952.76,784.782 \n",
       "  \"/>\n",
       "<polyline clip-path=\"url(#clip332)\" style=\"stroke:#000000; stroke-linecap:butt; stroke-linejoin:round; stroke-width:2; stroke-opacity:0.1; fill:none\" points=\"\n",
       "  172.598,416.013 3952.76,416.013 \n",
       "  \"/>\n",
       "<polyline clip-path=\"url(#clip332)\" style=\"stroke:#000000; stroke-linecap:butt; stroke-linejoin:round; stroke-width:2; stroke-opacity:0.1; fill:none\" points=\"\n",
       "  172.598,47.2441 3952.76,47.2441 \n",
       "  \"/>\n",
       "<polyline clip-path=\"url(#clip330)\" style=\"stroke:#000000; stroke-linecap:butt; stroke-linejoin:round; stroke-width:4; stroke-opacity:1; fill:none\" points=\"\n",
       "  172.598,1891.09 172.598,47.2441 \n",
       "  \"/>\n",
       "<polyline clip-path=\"url(#clip330)\" style=\"stroke:#000000; stroke-linecap:butt; stroke-linejoin:round; stroke-width:4; stroke-opacity:1; fill:none\" points=\"\n",
       "  172.598,1891.09 217.96,1891.09 \n",
       "  \"/>\n",
       "<polyline clip-path=\"url(#clip330)\" style=\"stroke:#000000; stroke-linecap:butt; stroke-linejoin:round; stroke-width:4; stroke-opacity:1; fill:none\" points=\"\n",
       "  172.598,1522.32 217.96,1522.32 \n",
       "  \"/>\n",
       "<polyline clip-path=\"url(#clip330)\" style=\"stroke:#000000; stroke-linecap:butt; stroke-linejoin:round; stroke-width:4; stroke-opacity:1; fill:none\" points=\"\n",
       "  172.598,1153.55 217.96,1153.55 \n",
       "  \"/>\n",
       "<polyline clip-path=\"url(#clip330)\" style=\"stroke:#000000; stroke-linecap:butt; stroke-linejoin:round; stroke-width:4; stroke-opacity:1; fill:none\" points=\"\n",
       "  172.598,784.782 217.96,784.782 \n",
       "  \"/>\n",
       "<polyline clip-path=\"url(#clip330)\" style=\"stroke:#000000; stroke-linecap:butt; stroke-linejoin:round; stroke-width:4; stroke-opacity:1; fill:none\" points=\"\n",
       "  172.598,416.013 217.96,416.013 \n",
       "  \"/>\n",
       "<polyline clip-path=\"url(#clip330)\" style=\"stroke:#000000; stroke-linecap:butt; stroke-linejoin:round; stroke-width:4; stroke-opacity:1; fill:none\" points=\"\n",
       "  172.598,47.2441 217.96,47.2441 \n",
       "  \"/>\n",
       "<path clip-path=\"url(#clip330)\" d=\"M55.4226 1876.89 Q51.8115 1876.89 49.9828 1880.45 Q48.1773 1883.99 48.1773 1891.12 Q48.1773 1898.23 49.9828 1901.79 Q51.8115 1905.34 55.4226 1905.34 Q59.0569 1905.34 60.8624 1901.79 Q62.6911 1898.23 62.6911 1891.12 Q62.6911 1883.99 60.8624 1880.45 Q59.0569 1876.89 55.4226 1876.89 M55.4226 1873.18 Q61.2328 1873.18 64.2883 1877.79 Q67.367 1882.37 67.367 1891.12 Q67.367 1899.85 64.2883 1904.46 Q61.2328 1909.04 55.4226 1909.04 Q49.6125 1909.04 46.5338 1904.46 Q43.4782 1899.85 43.4782 1891.12 Q43.4782 1882.37 46.5338 1877.79 Q49.6125 1873.18 55.4226 1873.18 Z\" fill=\"#000000\" fill-rule=\"evenodd\" fill-opacity=\"1\" /><path clip-path=\"url(#clip330)\" d=\"M75.5845 1902.49 L80.4688 1902.49 L80.4688 1908.37 L75.5845 1908.37 L75.5845 1902.49 Z\" fill=\"#000000\" fill-rule=\"evenodd\" fill-opacity=\"1\" /><path clip-path=\"url(#clip330)\" d=\"M100.654 1876.89 Q97.0428 1876.89 95.2141 1880.45 Q93.4085 1883.99 93.4085 1891.12 Q93.4085 1898.23 95.2141 1901.79 Q97.0428 1905.34 100.654 1905.34 Q104.288 1905.34 106.094 1901.79 Q107.922 1898.23 107.922 1891.12 Q107.922 1883.99 106.094 1880.45 Q104.288 1876.89 100.654 1876.89 M100.654 1873.18 Q106.464 1873.18 109.52 1877.79 Q112.598 1882.37 112.598 1891.12 Q112.598 1899.85 109.52 1904.46 Q106.464 1909.04 100.654 1909.04 Q94.8437 1909.04 91.765 1904.46 Q88.7095 1899.85 88.7095 1891.12 Q88.7095 1882.37 91.765 1877.79 Q94.8437 1873.18 100.654 1873.18 Z\" fill=\"#000000\" fill-rule=\"evenodd\" fill-opacity=\"1\" /><path clip-path=\"url(#clip330)\" d=\"M57.0198 1508.12 Q53.4087 1508.12 51.58 1511.68 Q49.7745 1515.22 49.7745 1522.35 Q49.7745 1529.46 51.58 1533.03 Q53.4087 1536.57 57.0198 1536.57 Q60.6541 1536.57 62.4596 1533.03 Q64.2883 1529.46 64.2883 1522.35 Q64.2883 1515.22 62.4596 1511.68 Q60.6541 1508.12 57.0198 1508.12 M57.0198 1504.41 Q62.83 1504.41 65.8855 1509.02 Q68.9642 1513.6 68.9642 1522.35 Q68.9642 1531.08 65.8855 1535.69 Q62.83 1540.27 57.0198 1540.27 Q51.2097 1540.27 48.131 1535.69 Q45.0754 1531.08 45.0754 1522.35 Q45.0754 1513.6 48.131 1509.02 Q51.2097 1504.41 57.0198 1504.41 Z\" fill=\"#000000\" fill-rule=\"evenodd\" fill-opacity=\"1\" /><path clip-path=\"url(#clip330)\" d=\"M77.1818 1533.72 L82.066 1533.72 L82.066 1539.6 L77.1818 1539.6 L77.1818 1533.72 Z\" fill=\"#000000\" fill-rule=\"evenodd\" fill-opacity=\"1\" /><path clip-path=\"url(#clip330)\" d=\"M96.2789 1535.66 L112.598 1535.66 L112.598 1539.6 L90.6539 1539.6 L90.6539 1535.66 Q93.3159 1532.91 97.8992 1528.28 Q102.506 1523.63 103.686 1522.28 Q105.932 1519.76 106.811 1518.03 Q107.714 1516.27 107.714 1514.58 Q107.714 1511.82 105.77 1510.09 Q103.848 1508.35 100.746 1508.35 Q98.5474 1508.35 96.0937 1509.11 Q93.6632 1509.88 90.8854 1511.43 L90.8854 1506.71 Q93.7094 1505.57 96.1631 1504.99 Q98.6168 1504.41 100.654 1504.41 Q106.024 1504.41 109.219 1507.1 Q112.413 1509.78 112.413 1514.28 Q112.413 1516.4 111.603 1518.33 Q110.816 1520.22 108.709 1522.82 Q108.131 1523.49 105.029 1526.71 Q101.927 1529.9 96.2789 1535.66 Z\" fill=\"#000000\" fill-rule=\"evenodd\" fill-opacity=\"1\" /><path clip-path=\"url(#clip330)\" d=\"M54.9365 1139.35 Q51.3254 1139.35 49.4967 1142.91 Q47.6912 1146.46 47.6912 1153.59 Q47.6912 1160.69 49.4967 1164.26 Q51.3254 1167.8 54.9365 1167.8 Q58.5707 1167.8 60.3763 1164.26 Q62.205 1160.69 62.205 1153.59 Q62.205 1146.46 60.3763 1142.91 Q58.5707 1139.35 54.9365 1139.35 M54.9365 1135.65 Q60.7467 1135.65 63.8022 1140.25 Q66.8809 1144.84 66.8809 1153.59 Q66.8809 1162.31 63.8022 1166.92 Q60.7467 1171.5 54.9365 1171.5 Q49.1264 1171.5 46.0477 1166.92 Q42.9921 1162.31 42.9921 1153.59 Q42.9921 1144.84 46.0477 1140.25 Q49.1264 1135.65 54.9365 1135.65 Z\" fill=\"#000000\" fill-rule=\"evenodd\" fill-opacity=\"1\" /><path clip-path=\"url(#clip330)\" d=\"M75.0984 1164.95 L79.9827 1164.95 L79.9827 1170.83 L75.0984 1170.83 L75.0984 1164.95 Z\" fill=\"#000000\" fill-rule=\"evenodd\" fill-opacity=\"1\" /><path clip-path=\"url(#clip330)\" d=\"M103.015 1140.34 L91.2095 1158.79 L103.015 1158.79 L103.015 1140.34 M101.788 1136.27 L107.668 1136.27 L107.668 1158.79 L112.598 1158.79 L112.598 1162.68 L107.668 1162.68 L107.668 1170.83 L103.015 1170.83 L103.015 1162.68 L87.4132 1162.68 L87.4132 1158.17 L101.788 1136.27 Z\" fill=\"#000000\" fill-rule=\"evenodd\" fill-opacity=\"1\" /><path clip-path=\"url(#clip330)\" d=\"M55.2606 770.58 Q51.6495 770.58 49.8208 774.145 Q48.0152 777.687 48.0152 784.816 Q48.0152 791.923 49.8208 795.488 Q51.6495 799.029 55.2606 799.029 Q58.8948 799.029 60.7004 795.488 Q62.5291 791.923 62.5291 784.816 Q62.5291 777.687 60.7004 774.145 Q58.8948 770.58 55.2606 770.58 M55.2606 766.877 Q61.0707 766.877 64.1263 771.483 Q67.205 776.066 67.205 784.816 Q67.205 793.543 64.1263 798.15 Q61.0707 802.733 55.2606 802.733 Q49.4504 802.733 46.3717 798.15 Q43.3162 793.543 43.3162 784.816 Q43.3162 776.066 46.3717 771.483 Q49.4504 766.877 55.2606 766.877 Z\" fill=\"#000000\" fill-rule=\"evenodd\" fill-opacity=\"1\" /><path clip-path=\"url(#clip330)\" d=\"M75.4225 796.182 L80.3067 796.182 L80.3067 802.062 L75.4225 802.062 L75.4225 796.182 Z\" fill=\"#000000\" fill-rule=\"evenodd\" fill-opacity=\"1\" /><path clip-path=\"url(#clip330)\" d=\"M101.071 782.918 Q97.9224 782.918 96.0705 785.071 Q94.2419 787.224 94.2419 790.974 Q94.2419 794.701 96.0705 796.876 Q97.9224 799.029 101.071 799.029 Q104.219 799.029 106.047 796.876 Q107.899 794.701 107.899 790.974 Q107.899 787.224 106.047 785.071 Q104.219 782.918 101.071 782.918 M110.353 768.265 L110.353 772.525 Q108.594 771.691 106.788 771.252 Q105.006 770.812 103.246 770.812 Q98.6168 770.812 96.1631 773.937 Q93.7326 777.062 93.3854 783.381 Q94.7511 781.367 96.8113 780.302 Q98.8715 779.215 101.348 779.215 Q106.557 779.215 109.566 782.386 Q112.598 785.534 112.598 790.974 Q112.598 796.298 109.45 799.515 Q106.302 802.733 101.071 802.733 Q95.0752 802.733 91.9039 798.15 Q88.7326 793.543 88.7326 784.816 Q88.7326 776.622 92.6215 771.761 Q96.5104 766.877 103.061 766.877 Q104.82 766.877 106.603 767.224 Q108.408 767.571 110.353 768.265 Z\" fill=\"#000000\" fill-rule=\"evenodd\" fill-opacity=\"1\" /><path clip-path=\"url(#clip330)\" d=\"M55.5152 401.812 Q51.9041 401.812 50.0754 405.376 Q48.2699 408.918 48.2699 416.048 Q48.2699 423.154 50.0754 426.719 Q51.9041 430.26 55.5152 430.26 Q59.1494 430.26 60.955 426.719 Q62.7837 423.154 62.7837 416.048 Q62.7837 408.918 60.955 405.376 Q59.1494 401.812 55.5152 401.812 M55.5152 398.108 Q61.3254 398.108 64.3809 402.714 Q67.4596 407.298 67.4596 416.048 Q67.4596 424.774 64.3809 429.381 Q61.3254 433.964 55.5152 433.964 Q49.7051 433.964 46.6264 429.381 Q43.5708 424.774 43.5708 416.048 Q43.5708 407.298 46.6264 402.714 Q49.7051 398.108 55.5152 398.108 Z\" fill=\"#000000\" fill-rule=\"evenodd\" fill-opacity=\"1\" /><path clip-path=\"url(#clip330)\" d=\"M75.6771 427.413 L80.5614 427.413 L80.5614 433.293 L75.6771 433.293 L75.6771 427.413 Z\" fill=\"#000000\" fill-rule=\"evenodd\" fill-opacity=\"1\" /><path clip-path=\"url(#clip330)\" d=\"M100.746 416.881 Q97.4131 416.881 95.4918 418.663 Q93.5937 420.446 93.5937 423.571 Q93.5937 426.696 95.4918 428.478 Q97.4131 430.26 100.746 430.26 Q104.08 430.26 106.001 428.478 Q107.922 426.673 107.922 423.571 Q107.922 420.446 106.001 418.663 Q104.103 416.881 100.746 416.881 M96.0705 414.89 Q93.0613 414.149 91.3715 412.089 Q89.7048 410.029 89.7048 407.066 Q89.7048 402.923 92.6446 400.515 Q95.6076 398.108 100.746 398.108 Q105.908 398.108 108.848 400.515 Q111.788 402.923 111.788 407.066 Q111.788 410.029 110.098 412.089 Q108.432 414.149 105.445 414.89 Q108.825 415.677 110.7 417.969 Q112.598 420.261 112.598 423.571 Q112.598 428.594 109.52 431.279 Q106.464 433.964 100.746 433.964 Q95.0289 433.964 91.9502 431.279 Q88.8947 428.594 88.8947 423.571 Q88.8947 420.261 90.7928 417.969 Q92.6909 415.677 96.0705 414.89 M94.3576 407.506 Q94.3576 410.191 96.0242 411.696 Q97.7141 413.2 100.746 413.2 Q103.756 413.2 105.445 411.696 Q107.158 410.191 107.158 407.506 Q107.158 404.821 105.445 403.316 Q103.756 401.812 100.746 401.812 Q97.7141 401.812 96.0242 403.316 Q94.3576 404.821 94.3576 407.506 Z\" fill=\"#000000\" fill-rule=\"evenodd\" fill-opacity=\"1\" /><path clip-path=\"url(#clip330)\" d=\"M46.2328 60.5889 L53.8717 60.5889 L53.8717 34.2233 L45.5616 35.89 L45.5616 31.6308 L53.8254 29.9641 L58.5013 29.9641 L58.5013 60.5889 L66.1402 60.5889 L66.1402 64.5241 L46.2328 64.5241 L46.2328 60.5889 Z\" fill=\"#000000\" fill-rule=\"evenodd\" fill-opacity=\"1\" /><path clip-path=\"url(#clip330)\" d=\"M75.5845 58.6445 L80.4688 58.6445 L80.4688 64.5241 L75.5845 64.5241 L75.5845 58.6445 Z\" fill=\"#000000\" fill-rule=\"evenodd\" fill-opacity=\"1\" /><path clip-path=\"url(#clip330)\" d=\"M100.654 33.0428 Q97.0428 33.0428 95.2141 36.6076 Q93.4085 40.1492 93.4085 47.2788 Q93.4085 54.3853 95.2141 57.9501 Q97.0428 61.4917 100.654 61.4917 Q104.288 61.4917 106.094 57.9501 Q107.922 54.3853 107.922 47.2788 Q107.922 40.1492 106.094 36.6076 Q104.288 33.0428 100.654 33.0428 M100.654 29.3391 Q106.464 29.3391 109.52 33.9456 Q112.598 38.5289 112.598 47.2788 Q112.598 56.0056 109.52 60.6121 Q106.464 65.1954 100.654 65.1954 Q94.8437 65.1954 91.765 60.6121 Q88.7095 56.0056 88.7095 47.2788 Q88.7095 38.5289 91.765 33.9456 Q94.8437 29.3391 100.654 29.3391 Z\" fill=\"#000000\" fill-rule=\"evenodd\" fill-opacity=\"1\" /><circle clip-path=\"url(#clip332)\" cx=\"279.584\" cy=\"969.166\" r=\"71\" fill=\"#009af9\" fill-rule=\"evenodd\" fill-opacity=\"1\" stroke=\"#000000\" stroke-opacity=\"1\" stroke-width=\"4\"/>\n",
       "<circle clip-path=\"url(#clip332)\" cx=\"494.991\" cy=\"969.166\" r=\"32\" fill=\"#e26f46\" fill-rule=\"evenodd\" fill-opacity=\"1\" stroke=\"#000000\" stroke-opacity=\"1\" stroke-width=\"4\"/>\n",
       "<circle clip-path=\"url(#clip332)\" cx=\"734.332\" cy=\"969.166\" r=\"5\" fill=\"#3da44d\" fill-rule=\"evenodd\" fill-opacity=\"1\" stroke=\"#000000\" stroke-opacity=\"1\" stroke-width=\"4\"/>\n",
       "<circle clip-path=\"url(#clip332)\" cx=\"973.674\" cy=\"969.166\" r=\"22\" fill=\"#c271d2\" fill-rule=\"evenodd\" fill-opacity=\"1\" stroke=\"#000000\" stroke-opacity=\"1\" stroke-width=\"4\"/>\n",
       "<circle clip-path=\"url(#clip332)\" cx=\"1213.02\" cy=\"969.166\" r=\"99\" fill=\"#ac8d18\" fill-rule=\"evenodd\" fill-opacity=\"1\" stroke=\"#000000\" stroke-opacity=\"1\" stroke-width=\"4\"/>\n",
       "<circle clip-path=\"url(#clip332)\" cx=\"1452.36\" cy=\"969.166\" r=\"47\" fill=\"#00a9ad\" fill-rule=\"evenodd\" fill-opacity=\"1\" stroke=\"#000000\" stroke-opacity=\"1\" stroke-width=\"4\"/>\n",
       "<circle clip-path=\"url(#clip332)\" cx=\"1691.7\" cy=\"969.166\" r=\"6\" fill=\"#ed5d92\" fill-rule=\"evenodd\" fill-opacity=\"1\" stroke=\"#000000\" stroke-opacity=\"1\" stroke-width=\"4\"/>\n",
       "<circle clip-path=\"url(#clip332)\" cx=\"1931.04\" cy=\"969.166\" r=\"16\" fill=\"#c68125\" fill-rule=\"evenodd\" fill-opacity=\"1\" stroke=\"#000000\" stroke-opacity=\"1\" stroke-width=\"4\"/>\n",
       "<circle clip-path=\"url(#clip332)\" cx=\"2170.38\" cy=\"969.166\" r=\"8\" fill=\"#00a98d\" fill-rule=\"evenodd\" fill-opacity=\"1\" stroke=\"#000000\" stroke-opacity=\"1\" stroke-width=\"4\"/>\n",
       "<circle clip-path=\"url(#clip332)\" cx=\"2409.72\" cy=\"969.166\" r=\"1\" fill=\"#8e971d\" fill-rule=\"evenodd\" fill-opacity=\"1\" stroke=\"#000000\" stroke-opacity=\"1\" stroke-width=\"4\"/>\n",
       "<circle clip-path=\"url(#clip332)\" style=\"fill:#00a8cb; stroke:none; fill-opacity:1\" cx=\"2649.06\" cy=\"969.166\" r=\"2\"/>\n",
       "<circle clip-path=\"url(#clip332)\" cx=\"2888.4\" cy=\"969.166\" r=\"17\" fill=\"#9b7fe8\" fill-rule=\"evenodd\" fill-opacity=\"1\" stroke=\"#000000\" stroke-opacity=\"1\" stroke-width=\"4\"/>\n",
       "<circle clip-path=\"url(#clip332)\" cx=\"3127.75\" cy=\"969.166\" r=\"10\" fill=\"#608cf6\" fill-rule=\"evenodd\" fill-opacity=\"1\" stroke=\"#000000\" stroke-opacity=\"1\" stroke-width=\"4\"/>\n",
       "<circle clip-path=\"url(#clip332)\" cx=\"3367.09\" cy=\"969.166\" r=\"11\" fill=\"#f05f73\" fill-rule=\"evenodd\" fill-opacity=\"1\" stroke=\"#000000\" stroke-opacity=\"1\" stroke-width=\"4\"/>\n",
       "<circle clip-path=\"url(#clip332)\" cx=\"3606.43\" cy=\"969.166\" r=\"4\" fill=\"#dd64b5\" fill-rule=\"evenodd\" fill-opacity=\"1\" stroke=\"#000000\" stroke-opacity=\"1\" stroke-width=\"4\"/>\n",
       "<circle clip-path=\"url(#clip332)\" cx=\"3845.77\" cy=\"969.166\" r=\"3\" fill=\"#6b9e32\" fill-rule=\"evenodd\" fill-opacity=\"1\" stroke=\"#000000\" stroke-opacity=\"1\" stroke-width=\"4\"/>\n",
       "</svg>\n"
      ]
     },
     "execution_count": 124,
     "metadata": {},
     "output_type": "execute_result"
    }
   ],
   "source": [
    "using Plots;\n",
    "plot!()\n",
    "scatter([1],[0.5],markersize= p4_5[1]*100,legend = false,size=(500,500),ylims=(0,1))\n",
    "scatter!([10],[0.5],markersize= p4_5[2]*100,legend = false,size=(500,500),ylims=(0,1))\n",
    "scatter!([20],[0.5],markersize= p4_5[3]*100,legend = false,size=(500,500),ylims=(0,1))\n",
    "scatter!([30],[0.5],markersize= p4_5[4]*100,legend = false,size=(500,500),ylims=(0,1))\n",
    "scatter!([40],[0.5],markersize= p4_5[5]*100,legend = false,size=(500,500),ylims=(0,1))\n",
    "scatter!([50],[0.5],markersize= p4_5[6]*100,legend = false,size=(500,500),ylims=(0,1))\n",
    "scatter!([60],[0.5],markersize= p4_5[7]*100,legend = false,size=(500,500),ylims=(0,1))\n",
    "scatter!([70],[0.5],markersize= p4_5[8]*100,legend = false,size=(500,500),ylims=(0,1))\n",
    "scatter!([80],[0.5],markersize= p4_5[9]*100,legend = false,size=(500,500),ylims=(0,1))\n",
    "scatter!([90],[0.5],markersize= p4_5[10]*100,legend = false,size=(500,500),ylims=(0,1))\n",
    "scatter!([100],[0.5],markersize= p4_5[11]*100,legend = false,size=(500,500),ylims=(0,1))\n",
    "scatter!([110],[0.5],markersize= p4_5[12]*100,legend = false,size=(500,500),ylims=(0,1))\n",
    "scatter!([120],[0.5],markersize= p4_5[13]*100,legend = false,size=(500,500),ylims=(0,1))\n",
    "scatter!([130],[0.5],markersize= p4_5[14]*100,legend = false,size=(500,500),ylims=(0,1))\n",
    "scatter!([140],[0.5],markersize= p4_5[15]*100,legend = false,size=(500,500),ylims=(0,1))\n",
    "scatter!([150],[0.5],markersize= p4_5[16]*100,legend = false,size=(500,500),ylims=(0,1))\n",
    "plot!(size=(1000,500))"
   ]
  },
  {
   "cell_type": "markdown",
   "metadata": {},
   "source": [
    "## Circuit N=4, depth =10"
   ]
  },
  {
   "cell_type": "code",
   "execution_count": 126,
   "metadata": {
    "ExecuteTime": {
     "end_time": "2021-07-10T22:50:14.558000+01:00",
     "start_time": "2021-07-10T21:50:14.472Z"
    }
   },
   "outputs": [],
   "source": [
    "using ITensors\n",
    "N4 = 4\n",
    "sites4 = siteinds(\"S=1/2\",N4)\n",
    "#p{Float64}(nothing, 16)\n",
    "#p{Float64}(undef,16)\n",
    "p4_10 = zeros(16)\n",
    "for i in 1:4:64\n",
    "    #println(i)\n",
    "    #print(TT[i:i+3])\n",
    "    states4 = TT4[i:i+3]\n",
    "    x4 = productMPS(sites4, states4)\n",
    "    ii = i÷4 + 1\n",
    "    #println(ii)\n",
    "    #println(xxx)\n",
    "    # Here is where the width and depth matters\n",
    "    A4_10 = dot(x4,ψ4_10) \n",
    "    #println(\"Amplitude : \",A)\n",
    "    p4_10[ii] = real(A4_10)^2 + imag(A4_10)^2\n",
    "    #println(\"Probability : \",p)\n",
    "end"
   ]
  },
  {
   "cell_type": "code",
   "execution_count": 127,
   "metadata": {
    "ExecuteTime": {
     "end_time": "2021-07-10T22:50:40.890000+01:00",
     "start_time": "2021-07-10T21:50:40.875Z"
    }
   },
   "outputs": [
    {
     "name": "stdout",
     "output_type": "stream",
     "text": [
      "probability for each base state <x| = [0.021522342415905726, 0.025755520369288316, 0.05238651824239654, 0.030978186154010677, 0.043214802351912204, 0.030650908950455562, 0.062496290708122924, 0.40751731779234457, 0.06740955895524278, 0.02834906784489781, 0.11393631988503312, 0.011114524400750102, 0.01722064352100918, 0.004620592240482746, 0.0022683706519852275, 0.0805590355161606]\n"
     ]
    }
   ],
   "source": [
    "println(\"probability for each base state <x| = \",p4_10)"
   ]
  },
  {
   "cell_type": "code",
   "execution_count": 128,
   "metadata": {
    "ExecuteTime": {
     "end_time": "2021-07-10T22:51:52.119000+01:00",
     "start_time": "2021-07-10T21:51:52.053Z"
    }
   },
   "outputs": [
    {
     "data": {
      "image/svg+xml": [
       "<?xml version=\"1.0\" encoding=\"utf-8\"?>\n",
       "<svg xmlns=\"http://www.w3.org/2000/svg\" xmlns:xlink=\"http://www.w3.org/1999/xlink\" width=\"1000\" height=\"500\" viewBox=\"0 0 4000 2000\">\n",
       "<defs>\n",
       "  <clipPath id=\"clip370\">\n",
       "    <rect x=\"0\" y=\"0\" width=\"4000\" height=\"2000\"/>\n",
       "  </clipPath>\n",
       "</defs>\n",
       "<path clip-path=\"url(#clip370)\" d=\"\n",
       "M0 2000 L4000 2000 L4000 0 L0 0  Z\n",
       "  \" fill=\"#ffffff\" fill-rule=\"evenodd\" fill-opacity=\"1\"/>\n",
       "<defs>\n",
       "  <clipPath id=\"clip371\">\n",
       "    <rect x=\"800\" y=\"0\" width=\"2801\" height=\"2000\"/>\n",
       "  </clipPath>\n",
       "</defs>\n",
       "<path clip-path=\"url(#clip370)\" d=\"\n",
       "M172.598 1891.09 L3952.76 1891.09 L3952.76 47.2441 L172.598 47.2441  Z\n",
       "  \" fill=\"#ffffff\" fill-rule=\"evenodd\" fill-opacity=\"1\"/>\n",
       "<defs>\n",
       "  <clipPath id=\"clip372\">\n",
       "    <rect x=\"172\" y=\"47\" width=\"3781\" height=\"1845\"/>\n",
       "  </clipPath>\n",
       "</defs>\n",
       "<polyline clip-path=\"url(#clip372)\" style=\"stroke:#000000; stroke-linecap:butt; stroke-linejoin:round; stroke-width:2; stroke-opacity:0.1; fill:none\" points=\"\n",
       "  255.65,1891.09 255.65,47.2441 \n",
       "  \"/>\n",
       "<polyline clip-path=\"url(#clip372)\" style=\"stroke:#000000; stroke-linecap:butt; stroke-linejoin:round; stroke-width:2; stroke-opacity:0.1; fill:none\" points=\"\n",
       "  1452.36,1891.09 1452.36,47.2441 \n",
       "  \"/>\n",
       "<polyline clip-path=\"url(#clip372)\" style=\"stroke:#000000; stroke-linecap:butt; stroke-linejoin:round; stroke-width:2; stroke-opacity:0.1; fill:none\" points=\"\n",
       "  2649.06,1891.09 2649.06,47.2441 \n",
       "  \"/>\n",
       "<polyline clip-path=\"url(#clip372)\" style=\"stroke:#000000; stroke-linecap:butt; stroke-linejoin:round; stroke-width:2; stroke-opacity:0.1; fill:none\" points=\"\n",
       "  3845.77,1891.09 3845.77,47.2441 \n",
       "  \"/>\n",
       "<polyline clip-path=\"url(#clip370)\" style=\"stroke:#000000; stroke-linecap:butt; stroke-linejoin:round; stroke-width:4; stroke-opacity:1; fill:none\" points=\"\n",
       "  172.598,1891.09 3952.76,1891.09 \n",
       "  \"/>\n",
       "<polyline clip-path=\"url(#clip370)\" style=\"stroke:#000000; stroke-linecap:butt; stroke-linejoin:round; stroke-width:4; stroke-opacity:1; fill:none\" points=\"\n",
       "  255.65,1891.09 255.65,1868.96 \n",
       "  \"/>\n",
       "<polyline clip-path=\"url(#clip370)\" style=\"stroke:#000000; stroke-linecap:butt; stroke-linejoin:round; stroke-width:4; stroke-opacity:1; fill:none\" points=\"\n",
       "  1452.36,1891.09 1452.36,1868.96 \n",
       "  \"/>\n",
       "<polyline clip-path=\"url(#clip370)\" style=\"stroke:#000000; stroke-linecap:butt; stroke-linejoin:round; stroke-width:4; stroke-opacity:1; fill:none\" points=\"\n",
       "  2649.06,1891.09 2649.06,1868.96 \n",
       "  \"/>\n",
       "<polyline clip-path=\"url(#clip370)\" style=\"stroke:#000000; stroke-linecap:butt; stroke-linejoin:round; stroke-width:4; stroke-opacity:1; fill:none\" points=\"\n",
       "  3845.77,1891.09 3845.77,1868.96 \n",
       "  \"/>\n",
       "<path clip-path=\"url(#clip370)\" d=\"M255.65 1933.08 Q252.039 1933.08 250.21 1936.64 Q248.404 1940.19 248.404 1947.31 Q248.404 1954.42 250.21 1957.99 Q252.039 1961.53 255.65 1961.53 Q259.284 1961.53 261.089 1957.99 Q262.918 1954.42 262.918 1947.31 Q262.918 1940.19 261.089 1936.64 Q259.284 1933.08 255.65 1933.08 M255.65 1929.37 Q261.46 1929.37 264.515 1933.98 Q267.594 1938.56 267.594 1947.31 Q267.594 1956.04 264.515 1960.65 Q261.46 1965.23 255.65 1965.23 Q249.84 1965.23 246.761 1960.65 Q243.705 1956.04 243.705 1947.31 Q243.705 1938.56 246.761 1933.98 Q249.84 1929.37 255.65 1929.37 Z\" fill=\"#000000\" fill-rule=\"evenodd\" fill-opacity=\"1\" /><path clip-path=\"url(#clip370)\" d=\"M1427.06 1930 L1445.41 1930 L1445.41 1933.94 L1431.34 1933.94 L1431.34 1942.41 Q1432.36 1942.06 1433.38 1941.9 Q1434.39 1941.71 1435.41 1941.71 Q1441.2 1941.71 1444.58 1944.88 Q1447.96 1948.06 1447.96 1953.47 Q1447.96 1959.05 1444.49 1962.15 Q1441.01 1965.23 1434.69 1965.23 Q1432.52 1965.23 1430.25 1964.86 Q1428 1964.49 1425.6 1963.75 L1425.6 1959.05 Q1427.68 1960.18 1429.9 1960.74 Q1432.13 1961.3 1434.6 1961.3 Q1438.61 1961.3 1440.94 1959.19 Q1443.28 1957.08 1443.28 1953.47 Q1443.28 1949.86 1440.94 1947.75 Q1438.61 1945.65 1434.6 1945.65 Q1432.73 1945.65 1430.85 1946.06 Q1429 1946.48 1427.06 1947.36 L1427.06 1930 Z\" fill=\"#000000\" fill-rule=\"evenodd\" fill-opacity=\"1\" /><path clip-path=\"url(#clip370)\" d=\"M1467.17 1933.08 Q1463.56 1933.08 1461.73 1936.64 Q1459.93 1940.19 1459.93 1947.31 Q1459.93 1954.42 1461.73 1957.99 Q1463.56 1961.53 1467.17 1961.53 Q1470.81 1961.53 1472.61 1957.99 Q1474.44 1954.42 1474.44 1947.31 Q1474.44 1940.19 1472.61 1936.64 Q1470.81 1933.08 1467.17 1933.08 M1467.17 1929.37 Q1472.98 1929.37 1476.04 1933.98 Q1479.12 1938.56 1479.12 1947.31 Q1479.12 1956.04 1476.04 1960.65 Q1472.98 1965.23 1467.17 1965.23 Q1461.36 1965.23 1458.28 1960.65 Q1455.23 1956.04 1455.23 1947.31 Q1455.23 1938.56 1458.28 1933.98 Q1461.36 1929.37 1467.17 1929.37 Z\" fill=\"#000000\" fill-rule=\"evenodd\" fill-opacity=\"1\" /><path clip-path=\"url(#clip370)\" d=\"M2608.67 1960.62 L2616.31 1960.62 L2616.31 1934.26 L2608 1935.93 L2608 1931.67 L2616.26 1930 L2620.94 1930 L2620.94 1960.62 L2628.58 1960.62 L2628.58 1964.56 L2608.67 1964.56 L2608.67 1960.62 Z\" fill=\"#000000\" fill-rule=\"evenodd\" fill-opacity=\"1\" /><path clip-path=\"url(#clip370)\" d=\"M2648.02 1933.08 Q2644.41 1933.08 2642.58 1936.64 Q2640.78 1940.19 2640.78 1947.31 Q2640.78 1954.42 2642.58 1957.99 Q2644.41 1961.53 2648.02 1961.53 Q2651.66 1961.53 2653.46 1957.99 Q2655.29 1954.42 2655.29 1947.31 Q2655.29 1940.19 2653.46 1936.64 Q2651.66 1933.08 2648.02 1933.08 M2648.02 1929.37 Q2653.83 1929.37 2656.89 1933.98 Q2659.97 1938.56 2659.97 1947.31 Q2659.97 1956.04 2656.89 1960.65 Q2653.83 1965.23 2648.02 1965.23 Q2642.21 1965.23 2639.13 1960.65 Q2636.08 1956.04 2636.08 1947.31 Q2636.08 1938.56 2639.13 1933.98 Q2642.21 1929.37 2648.02 1929.37 Z\" fill=\"#000000\" fill-rule=\"evenodd\" fill-opacity=\"1\" /><path clip-path=\"url(#clip370)\" d=\"M2678.18 1933.08 Q2674.57 1933.08 2672.74 1936.64 Q2670.94 1940.19 2670.94 1947.31 Q2670.94 1954.42 2672.74 1957.99 Q2674.57 1961.53 2678.18 1961.53 Q2681.82 1961.53 2683.62 1957.99 Q2685.45 1954.42 2685.45 1947.31 Q2685.45 1940.19 2683.62 1936.64 Q2681.82 1933.08 2678.18 1933.08 M2678.18 1929.37 Q2683.99 1929.37 2687.05 1933.98 Q2690.13 1938.56 2690.13 1947.31 Q2690.13 1956.04 2687.05 1960.65 Q2683.99 1965.23 2678.18 1965.23 Q2672.37 1965.23 2669.29 1960.65 Q2666.24 1956.04 2666.24 1947.31 Q2666.24 1938.56 2669.29 1933.98 Q2672.37 1929.37 2678.18 1929.37 Z\" fill=\"#000000\" fill-rule=\"evenodd\" fill-opacity=\"1\" /><path clip-path=\"url(#clip370)\" d=\"M3805.38 1960.62 L3813.02 1960.62 L3813.02 1934.26 L3804.71 1935.93 L3804.71 1931.67 L3812.97 1930 L3817.65 1930 L3817.65 1960.62 L3825.28 1960.62 L3825.28 1964.56 L3805.38 1964.56 L3805.38 1960.62 Z\" fill=\"#000000\" fill-rule=\"evenodd\" fill-opacity=\"1\" /><path clip-path=\"url(#clip370)\" d=\"M3834.77 1930 L3853.13 1930 L3853.13 1933.94 L3839.06 1933.94 L3839.06 1942.41 Q3840.08 1942.06 3841.09 1941.9 Q3842.11 1941.71 3843.13 1941.71 Q3848.92 1941.71 3852.3 1944.88 Q3855.68 1948.06 3855.68 1953.47 Q3855.68 1959.05 3852.21 1962.15 Q3848.73 1965.23 3842.41 1965.23 Q3840.24 1965.23 3837.97 1964.86 Q3835.72 1964.49 3833.32 1963.75 L3833.32 1959.05 Q3835.4 1960.18 3837.62 1960.74 Q3839.84 1961.3 3842.32 1961.3 Q3846.33 1961.3 3848.66 1959.19 Q3851 1957.08 3851 1953.47 Q3851 1949.86 3848.66 1947.75 Q3846.33 1945.65 3842.32 1945.65 Q3840.45 1945.65 3838.57 1946.06 Q3836.72 1946.48 3834.77 1947.36 L3834.77 1930 Z\" fill=\"#000000\" fill-rule=\"evenodd\" fill-opacity=\"1\" /><path clip-path=\"url(#clip370)\" d=\"M3874.89 1933.08 Q3871.28 1933.08 3869.45 1936.64 Q3867.65 1940.19 3867.65 1947.31 Q3867.65 1954.42 3869.45 1957.99 Q3871.28 1961.53 3874.89 1961.53 Q3878.52 1961.53 3880.33 1957.99 Q3882.16 1954.42 3882.16 1947.31 Q3882.16 1940.19 3880.33 1936.64 Q3878.52 1933.08 3874.89 1933.08 M3874.89 1929.37 Q3880.7 1929.37 3883.76 1933.98 Q3886.83 1938.56 3886.83 1947.31 Q3886.83 1956.04 3883.76 1960.65 Q3880.7 1965.23 3874.89 1965.23 Q3869.08 1965.23 3866 1960.65 Q3862.95 1956.04 3862.95 1947.31 Q3862.95 1938.56 3866 1933.98 Q3869.08 1929.37 3874.89 1929.37 Z\" fill=\"#000000\" fill-rule=\"evenodd\" fill-opacity=\"1\" /><polyline clip-path=\"url(#clip372)\" style=\"stroke:#000000; stroke-linecap:butt; stroke-linejoin:round; stroke-width:2; stroke-opacity:0.1; fill:none\" points=\"\n",
       "  172.598,1891.09 3952.76,1891.09 \n",
       "  \"/>\n",
       "<polyline clip-path=\"url(#clip372)\" style=\"stroke:#000000; stroke-linecap:butt; stroke-linejoin:round; stroke-width:2; stroke-opacity:0.1; fill:none\" points=\"\n",
       "  172.598,1522.32 3952.76,1522.32 \n",
       "  \"/>\n",
       "<polyline clip-path=\"url(#clip372)\" style=\"stroke:#000000; stroke-linecap:butt; stroke-linejoin:round; stroke-width:2; stroke-opacity:0.1; fill:none\" points=\"\n",
       "  172.598,1153.55 3952.76,1153.55 \n",
       "  \"/>\n",
       "<polyline clip-path=\"url(#clip372)\" style=\"stroke:#000000; stroke-linecap:butt; stroke-linejoin:round; stroke-width:2; stroke-opacity:0.1; fill:none\" points=\"\n",
       "  172.598,784.782 3952.76,784.782 \n",
       "  \"/>\n",
       "<polyline clip-path=\"url(#clip372)\" style=\"stroke:#000000; stroke-linecap:butt; stroke-linejoin:round; stroke-width:2; stroke-opacity:0.1; fill:none\" points=\"\n",
       "  172.598,416.013 3952.76,416.013 \n",
       "  \"/>\n",
       "<polyline clip-path=\"url(#clip372)\" style=\"stroke:#000000; stroke-linecap:butt; stroke-linejoin:round; stroke-width:2; stroke-opacity:0.1; fill:none\" points=\"\n",
       "  172.598,47.2441 3952.76,47.2441 \n",
       "  \"/>\n",
       "<polyline clip-path=\"url(#clip370)\" style=\"stroke:#000000; stroke-linecap:butt; stroke-linejoin:round; stroke-width:4; stroke-opacity:1; fill:none\" points=\"\n",
       "  172.598,1891.09 172.598,47.2441 \n",
       "  \"/>\n",
       "<polyline clip-path=\"url(#clip370)\" style=\"stroke:#000000; stroke-linecap:butt; stroke-linejoin:round; stroke-width:4; stroke-opacity:1; fill:none\" points=\"\n",
       "  172.598,1891.09 217.96,1891.09 \n",
       "  \"/>\n",
       "<polyline clip-path=\"url(#clip370)\" style=\"stroke:#000000; stroke-linecap:butt; stroke-linejoin:round; stroke-width:4; stroke-opacity:1; fill:none\" points=\"\n",
       "  172.598,1522.32 217.96,1522.32 \n",
       "  \"/>\n",
       "<polyline clip-path=\"url(#clip370)\" style=\"stroke:#000000; stroke-linecap:butt; stroke-linejoin:round; stroke-width:4; stroke-opacity:1; fill:none\" points=\"\n",
       "  172.598,1153.55 217.96,1153.55 \n",
       "  \"/>\n",
       "<polyline clip-path=\"url(#clip370)\" style=\"stroke:#000000; stroke-linecap:butt; stroke-linejoin:round; stroke-width:4; stroke-opacity:1; fill:none\" points=\"\n",
       "  172.598,784.782 217.96,784.782 \n",
       "  \"/>\n",
       "<polyline clip-path=\"url(#clip370)\" style=\"stroke:#000000; stroke-linecap:butt; stroke-linejoin:round; stroke-width:4; stroke-opacity:1; fill:none\" points=\"\n",
       "  172.598,416.013 217.96,416.013 \n",
       "  \"/>\n",
       "<polyline clip-path=\"url(#clip370)\" style=\"stroke:#000000; stroke-linecap:butt; stroke-linejoin:round; stroke-width:4; stroke-opacity:1; fill:none\" points=\"\n",
       "  172.598,47.2441 217.96,47.2441 \n",
       "  \"/>\n",
       "<path clip-path=\"url(#clip370)\" d=\"M55.4226 1876.89 Q51.8115 1876.89 49.9828 1880.45 Q48.1773 1883.99 48.1773 1891.12 Q48.1773 1898.23 49.9828 1901.79 Q51.8115 1905.34 55.4226 1905.34 Q59.0569 1905.34 60.8624 1901.79 Q62.6911 1898.23 62.6911 1891.12 Q62.6911 1883.99 60.8624 1880.45 Q59.0569 1876.89 55.4226 1876.89 M55.4226 1873.18 Q61.2328 1873.18 64.2883 1877.79 Q67.367 1882.37 67.367 1891.12 Q67.367 1899.85 64.2883 1904.46 Q61.2328 1909.04 55.4226 1909.04 Q49.6125 1909.04 46.5338 1904.46 Q43.4782 1899.85 43.4782 1891.12 Q43.4782 1882.37 46.5338 1877.79 Q49.6125 1873.18 55.4226 1873.18 Z\" fill=\"#000000\" fill-rule=\"evenodd\" fill-opacity=\"1\" /><path clip-path=\"url(#clip370)\" d=\"M75.5845 1902.49 L80.4688 1902.49 L80.4688 1908.37 L75.5845 1908.37 L75.5845 1902.49 Z\" fill=\"#000000\" fill-rule=\"evenodd\" fill-opacity=\"1\" /><path clip-path=\"url(#clip370)\" d=\"M100.654 1876.89 Q97.0428 1876.89 95.2141 1880.45 Q93.4085 1883.99 93.4085 1891.12 Q93.4085 1898.23 95.2141 1901.79 Q97.0428 1905.34 100.654 1905.34 Q104.288 1905.34 106.094 1901.79 Q107.922 1898.23 107.922 1891.12 Q107.922 1883.99 106.094 1880.45 Q104.288 1876.89 100.654 1876.89 M100.654 1873.18 Q106.464 1873.18 109.52 1877.79 Q112.598 1882.37 112.598 1891.12 Q112.598 1899.85 109.52 1904.46 Q106.464 1909.04 100.654 1909.04 Q94.8437 1909.04 91.765 1904.46 Q88.7095 1899.85 88.7095 1891.12 Q88.7095 1882.37 91.765 1877.79 Q94.8437 1873.18 100.654 1873.18 Z\" fill=\"#000000\" fill-rule=\"evenodd\" fill-opacity=\"1\" /><path clip-path=\"url(#clip370)\" d=\"M57.0198 1508.12 Q53.4087 1508.12 51.58 1511.68 Q49.7745 1515.22 49.7745 1522.35 Q49.7745 1529.46 51.58 1533.03 Q53.4087 1536.57 57.0198 1536.57 Q60.6541 1536.57 62.4596 1533.03 Q64.2883 1529.46 64.2883 1522.35 Q64.2883 1515.22 62.4596 1511.68 Q60.6541 1508.12 57.0198 1508.12 M57.0198 1504.41 Q62.83 1504.41 65.8855 1509.02 Q68.9642 1513.6 68.9642 1522.35 Q68.9642 1531.08 65.8855 1535.69 Q62.83 1540.27 57.0198 1540.27 Q51.2097 1540.27 48.131 1535.69 Q45.0754 1531.08 45.0754 1522.35 Q45.0754 1513.6 48.131 1509.02 Q51.2097 1504.41 57.0198 1504.41 Z\" fill=\"#000000\" fill-rule=\"evenodd\" fill-opacity=\"1\" /><path clip-path=\"url(#clip370)\" d=\"M77.1818 1533.72 L82.066 1533.72 L82.066 1539.6 L77.1818 1539.6 L77.1818 1533.72 Z\" fill=\"#000000\" fill-rule=\"evenodd\" fill-opacity=\"1\" /><path clip-path=\"url(#clip370)\" d=\"M96.2789 1535.66 L112.598 1535.66 L112.598 1539.6 L90.6539 1539.6 L90.6539 1535.66 Q93.3159 1532.91 97.8992 1528.28 Q102.506 1523.63 103.686 1522.28 Q105.932 1519.76 106.811 1518.03 Q107.714 1516.27 107.714 1514.58 Q107.714 1511.82 105.77 1510.09 Q103.848 1508.35 100.746 1508.35 Q98.5474 1508.35 96.0937 1509.11 Q93.6632 1509.88 90.8854 1511.43 L90.8854 1506.71 Q93.7094 1505.57 96.1631 1504.99 Q98.6168 1504.41 100.654 1504.41 Q106.024 1504.41 109.219 1507.1 Q112.413 1509.78 112.413 1514.28 Q112.413 1516.4 111.603 1518.33 Q110.816 1520.22 108.709 1522.82 Q108.131 1523.49 105.029 1526.71 Q101.927 1529.9 96.2789 1535.66 Z\" fill=\"#000000\" fill-rule=\"evenodd\" fill-opacity=\"1\" /><path clip-path=\"url(#clip370)\" d=\"M54.9365 1139.35 Q51.3254 1139.35 49.4967 1142.91 Q47.6912 1146.46 47.6912 1153.59 Q47.6912 1160.69 49.4967 1164.26 Q51.3254 1167.8 54.9365 1167.8 Q58.5707 1167.8 60.3763 1164.26 Q62.205 1160.69 62.205 1153.59 Q62.205 1146.46 60.3763 1142.91 Q58.5707 1139.35 54.9365 1139.35 M54.9365 1135.65 Q60.7467 1135.65 63.8022 1140.25 Q66.8809 1144.84 66.8809 1153.59 Q66.8809 1162.31 63.8022 1166.92 Q60.7467 1171.5 54.9365 1171.5 Q49.1264 1171.5 46.0477 1166.92 Q42.9921 1162.31 42.9921 1153.59 Q42.9921 1144.84 46.0477 1140.25 Q49.1264 1135.65 54.9365 1135.65 Z\" fill=\"#000000\" fill-rule=\"evenodd\" fill-opacity=\"1\" /><path clip-path=\"url(#clip370)\" d=\"M75.0984 1164.95 L79.9827 1164.95 L79.9827 1170.83 L75.0984 1170.83 L75.0984 1164.95 Z\" fill=\"#000000\" fill-rule=\"evenodd\" fill-opacity=\"1\" /><path clip-path=\"url(#clip370)\" d=\"M103.015 1140.34 L91.2095 1158.79 L103.015 1158.79 L103.015 1140.34 M101.788 1136.27 L107.668 1136.27 L107.668 1158.79 L112.598 1158.79 L112.598 1162.68 L107.668 1162.68 L107.668 1170.83 L103.015 1170.83 L103.015 1162.68 L87.4132 1162.68 L87.4132 1158.17 L101.788 1136.27 Z\" fill=\"#000000\" fill-rule=\"evenodd\" fill-opacity=\"1\" /><path clip-path=\"url(#clip370)\" d=\"M55.2606 770.58 Q51.6495 770.58 49.8208 774.145 Q48.0152 777.687 48.0152 784.816 Q48.0152 791.923 49.8208 795.488 Q51.6495 799.029 55.2606 799.029 Q58.8948 799.029 60.7004 795.488 Q62.5291 791.923 62.5291 784.816 Q62.5291 777.687 60.7004 774.145 Q58.8948 770.58 55.2606 770.58 M55.2606 766.877 Q61.0707 766.877 64.1263 771.483 Q67.205 776.066 67.205 784.816 Q67.205 793.543 64.1263 798.15 Q61.0707 802.733 55.2606 802.733 Q49.4504 802.733 46.3717 798.15 Q43.3162 793.543 43.3162 784.816 Q43.3162 776.066 46.3717 771.483 Q49.4504 766.877 55.2606 766.877 Z\" fill=\"#000000\" fill-rule=\"evenodd\" fill-opacity=\"1\" /><path clip-path=\"url(#clip370)\" d=\"M75.4225 796.182 L80.3067 796.182 L80.3067 802.062 L75.4225 802.062 L75.4225 796.182 Z\" fill=\"#000000\" fill-rule=\"evenodd\" fill-opacity=\"1\" /><path clip-path=\"url(#clip370)\" d=\"M101.071 782.918 Q97.9224 782.918 96.0705 785.071 Q94.2419 787.224 94.2419 790.974 Q94.2419 794.701 96.0705 796.876 Q97.9224 799.029 101.071 799.029 Q104.219 799.029 106.047 796.876 Q107.899 794.701 107.899 790.974 Q107.899 787.224 106.047 785.071 Q104.219 782.918 101.071 782.918 M110.353 768.265 L110.353 772.525 Q108.594 771.691 106.788 771.252 Q105.006 770.812 103.246 770.812 Q98.6168 770.812 96.1631 773.937 Q93.7326 777.062 93.3854 783.381 Q94.7511 781.367 96.8113 780.302 Q98.8715 779.215 101.348 779.215 Q106.557 779.215 109.566 782.386 Q112.598 785.534 112.598 790.974 Q112.598 796.298 109.45 799.515 Q106.302 802.733 101.071 802.733 Q95.0752 802.733 91.9039 798.15 Q88.7326 793.543 88.7326 784.816 Q88.7326 776.622 92.6215 771.761 Q96.5104 766.877 103.061 766.877 Q104.82 766.877 106.603 767.224 Q108.408 767.571 110.353 768.265 Z\" fill=\"#000000\" fill-rule=\"evenodd\" fill-opacity=\"1\" /><path clip-path=\"url(#clip370)\" d=\"M55.5152 401.812 Q51.9041 401.812 50.0754 405.376 Q48.2699 408.918 48.2699 416.048 Q48.2699 423.154 50.0754 426.719 Q51.9041 430.26 55.5152 430.26 Q59.1494 430.26 60.955 426.719 Q62.7837 423.154 62.7837 416.048 Q62.7837 408.918 60.955 405.376 Q59.1494 401.812 55.5152 401.812 M55.5152 398.108 Q61.3254 398.108 64.3809 402.714 Q67.4596 407.298 67.4596 416.048 Q67.4596 424.774 64.3809 429.381 Q61.3254 433.964 55.5152 433.964 Q49.7051 433.964 46.6264 429.381 Q43.5708 424.774 43.5708 416.048 Q43.5708 407.298 46.6264 402.714 Q49.7051 398.108 55.5152 398.108 Z\" fill=\"#000000\" fill-rule=\"evenodd\" fill-opacity=\"1\" /><path clip-path=\"url(#clip370)\" d=\"M75.6771 427.413 L80.5614 427.413 L80.5614 433.293 L75.6771 433.293 L75.6771 427.413 Z\" fill=\"#000000\" fill-rule=\"evenodd\" fill-opacity=\"1\" /><path clip-path=\"url(#clip370)\" d=\"M100.746 416.881 Q97.4131 416.881 95.4918 418.663 Q93.5937 420.446 93.5937 423.571 Q93.5937 426.696 95.4918 428.478 Q97.4131 430.26 100.746 430.26 Q104.08 430.26 106.001 428.478 Q107.922 426.673 107.922 423.571 Q107.922 420.446 106.001 418.663 Q104.103 416.881 100.746 416.881 M96.0705 414.89 Q93.0613 414.149 91.3715 412.089 Q89.7048 410.029 89.7048 407.066 Q89.7048 402.923 92.6446 400.515 Q95.6076 398.108 100.746 398.108 Q105.908 398.108 108.848 400.515 Q111.788 402.923 111.788 407.066 Q111.788 410.029 110.098 412.089 Q108.432 414.149 105.445 414.89 Q108.825 415.677 110.7 417.969 Q112.598 420.261 112.598 423.571 Q112.598 428.594 109.52 431.279 Q106.464 433.964 100.746 433.964 Q95.0289 433.964 91.9502 431.279 Q88.8947 428.594 88.8947 423.571 Q88.8947 420.261 90.7928 417.969 Q92.6909 415.677 96.0705 414.89 M94.3576 407.506 Q94.3576 410.191 96.0242 411.696 Q97.7141 413.2 100.746 413.2 Q103.756 413.2 105.445 411.696 Q107.158 410.191 107.158 407.506 Q107.158 404.821 105.445 403.316 Q103.756 401.812 100.746 401.812 Q97.7141 401.812 96.0242 403.316 Q94.3576 404.821 94.3576 407.506 Z\" fill=\"#000000\" fill-rule=\"evenodd\" fill-opacity=\"1\" /><path clip-path=\"url(#clip370)\" d=\"M46.2328 60.5889 L53.8717 60.5889 L53.8717 34.2233 L45.5616 35.89 L45.5616 31.6308 L53.8254 29.9641 L58.5013 29.9641 L58.5013 60.5889 L66.1402 60.5889 L66.1402 64.5241 L46.2328 64.5241 L46.2328 60.5889 Z\" fill=\"#000000\" fill-rule=\"evenodd\" fill-opacity=\"1\" /><path clip-path=\"url(#clip370)\" d=\"M75.5845 58.6445 L80.4688 58.6445 L80.4688 64.5241 L75.5845 64.5241 L75.5845 58.6445 Z\" fill=\"#000000\" fill-rule=\"evenodd\" fill-opacity=\"1\" /><path clip-path=\"url(#clip370)\" d=\"M100.654 33.0428 Q97.0428 33.0428 95.2141 36.6076 Q93.4085 40.1492 93.4085 47.2788 Q93.4085 54.3853 95.2141 57.9501 Q97.0428 61.4917 100.654 61.4917 Q104.288 61.4917 106.094 57.9501 Q107.922 54.3853 107.922 47.2788 Q107.922 40.1492 106.094 36.6076 Q104.288 33.0428 100.654 33.0428 M100.654 29.3391 Q106.464 29.3391 109.52 33.9456 Q112.598 38.5289 112.598 47.2788 Q112.598 56.0056 109.52 60.6121 Q106.464 65.1954 100.654 65.1954 Q94.8437 65.1954 91.765 60.6121 Q88.7095 56.0056 88.7095 47.2788 Q88.7095 38.5289 91.765 33.9456 Q94.8437 29.3391 100.654 29.3391 Z\" fill=\"#000000\" fill-rule=\"evenodd\" fill-opacity=\"1\" /><circle clip-path=\"url(#clip372)\" cx=\"279.584\" cy=\"969.166\" r=\"7\" fill=\"#009af9\" fill-rule=\"evenodd\" fill-opacity=\"1\" stroke=\"#000000\" stroke-opacity=\"1\" stroke-width=\"4\"/>\n",
       "<circle clip-path=\"url(#clip372)\" cx=\"494.991\" cy=\"969.166\" r=\"9\" fill=\"#e26f46\" fill-rule=\"evenodd\" fill-opacity=\"1\" stroke=\"#000000\" stroke-opacity=\"1\" stroke-width=\"4\"/>\n",
       "<circle clip-path=\"url(#clip372)\" cx=\"734.332\" cy=\"969.166\" r=\"18\" fill=\"#3da44d\" fill-rule=\"evenodd\" fill-opacity=\"1\" stroke=\"#000000\" stroke-opacity=\"1\" stroke-width=\"4\"/>\n",
       "<circle clip-path=\"url(#clip372)\" cx=\"973.674\" cy=\"969.166\" r=\"11\" fill=\"#c271d2\" fill-rule=\"evenodd\" fill-opacity=\"1\" stroke=\"#000000\" stroke-opacity=\"1\" stroke-width=\"4\"/>\n",
       "<circle clip-path=\"url(#clip372)\" cx=\"1213.02\" cy=\"969.166\" r=\"15\" fill=\"#ac8d18\" fill-rule=\"evenodd\" fill-opacity=\"1\" stroke=\"#000000\" stroke-opacity=\"1\" stroke-width=\"4\"/>\n",
       "<circle clip-path=\"url(#clip372)\" cx=\"1452.36\" cy=\"969.166\" r=\"11\" fill=\"#00a9ad\" fill-rule=\"evenodd\" fill-opacity=\"1\" stroke=\"#000000\" stroke-opacity=\"1\" stroke-width=\"4\"/>\n",
       "<circle clip-path=\"url(#clip372)\" cx=\"1691.7\" cy=\"969.166\" r=\"22\" fill=\"#ed5d92\" fill-rule=\"evenodd\" fill-opacity=\"1\" stroke=\"#000000\" stroke-opacity=\"1\" stroke-width=\"4\"/>\n",
       "<circle clip-path=\"url(#clip372)\" cx=\"1931.04\" cy=\"969.166\" r=\"146\" fill=\"#c68125\" fill-rule=\"evenodd\" fill-opacity=\"1\" stroke=\"#000000\" stroke-opacity=\"1\" stroke-width=\"4\"/>\n",
       "<circle clip-path=\"url(#clip372)\" cx=\"2170.38\" cy=\"969.166\" r=\"24\" fill=\"#00a98d\" fill-rule=\"evenodd\" fill-opacity=\"1\" stroke=\"#000000\" stroke-opacity=\"1\" stroke-width=\"4\"/>\n",
       "<circle clip-path=\"url(#clip372)\" cx=\"2409.72\" cy=\"969.166\" r=\"10\" fill=\"#8e971d\" fill-rule=\"evenodd\" fill-opacity=\"1\" stroke=\"#000000\" stroke-opacity=\"1\" stroke-width=\"4\"/>\n",
       "<circle clip-path=\"url(#clip372)\" cx=\"2649.06\" cy=\"969.166\" r=\"41\" fill=\"#00a8cb\" fill-rule=\"evenodd\" fill-opacity=\"1\" stroke=\"#000000\" stroke-opacity=\"1\" stroke-width=\"4\"/>\n",
       "<circle clip-path=\"url(#clip372)\" cx=\"2888.4\" cy=\"969.166\" r=\"4\" fill=\"#9b7fe8\" fill-rule=\"evenodd\" fill-opacity=\"1\" stroke=\"#000000\" stroke-opacity=\"1\" stroke-width=\"4\"/>\n",
       "<circle clip-path=\"url(#clip372)\" cx=\"3127.75\" cy=\"969.166\" r=\"6\" fill=\"#608cf6\" fill-rule=\"evenodd\" fill-opacity=\"1\" stroke=\"#000000\" stroke-opacity=\"1\" stroke-width=\"4\"/>\n",
       "<circle clip-path=\"url(#clip372)\" cx=\"3367.09\" cy=\"969.166\" r=\"1\" fill=\"#f05f73\" fill-rule=\"evenodd\" fill-opacity=\"1\" stroke=\"#000000\" stroke-opacity=\"1\" stroke-width=\"4\"/>\n",
       "<circle clip-path=\"url(#clip372)\" style=\"fill:#dd64b5; stroke:none; fill-opacity:1\" cx=\"3606.43\" cy=\"969.166\" r=\"2\"/>\n",
       "<circle clip-path=\"url(#clip372)\" cx=\"3845.77\" cy=\"969.166\" r=\"29\" fill=\"#6b9e32\" fill-rule=\"evenodd\" fill-opacity=\"1\" stroke=\"#000000\" stroke-opacity=\"1\" stroke-width=\"4\"/>\n",
       "</svg>\n"
      ]
     },
     "execution_count": 128,
     "metadata": {},
     "output_type": "execute_result"
    }
   ],
   "source": [
    "using Plots;\n",
    "plot!()\n",
    "scatter([1],[0.5],markersize= p4_10[1]*100,legend = false,size=(500,500),ylims=(0,1))\n",
    "scatter!([10],[0.5],markersize= p4_10[2]*100,legend = false,size=(500,500),ylims=(0,1))\n",
    "scatter!([20],[0.5],markersize= p4_10[3]*100,legend = false,size=(500,500),ylims=(0,1))\n",
    "scatter!([30],[0.5],markersize= p4_10[4]*100,legend = false,size=(500,500),ylims=(0,1))\n",
    "scatter!([40],[0.5],markersize= p4_10[5]*100,legend = false,size=(500,500),ylims=(0,1))\n",
    "scatter!([50],[0.5],markersize= p4_10[6]*100,legend = false,size=(500,500),ylims=(0,1))\n",
    "scatter!([60],[0.5],markersize= p4_10[7]*100,legend = false,size=(500,500),ylims=(0,1))\n",
    "scatter!([70],[0.5],markersize= p4_10[8]*100,legend = false,size=(500,500),ylims=(0,1))\n",
    "scatter!([80],[0.5],markersize= p4_10[9]*100,legend = false,size=(500,500),ylims=(0,1))\n",
    "scatter!([90],[0.5],markersize= p4_10[10]*100,legend = false,size=(500,500),ylims=(0,1))\n",
    "scatter!([100],[0.5],markersize= p4_10[11]*100,legend = false,size=(500,500),ylims=(0,1))\n",
    "scatter!([110],[0.5],markersize= p4_10[12]*100,legend = false,size=(500,500),ylims=(0,1))\n",
    "scatter!([120],[0.5],markersize= p4_10[13]*100,legend = false,size=(500,500),ylims=(0,1))\n",
    "scatter!([130],[0.5],markersize= p4_10[14]*100,legend = false,size=(500,500),ylims=(0,1))\n",
    "scatter!([140],[0.5],markersize= p4_10[15]*100,legend = false,size=(500,500),ylims=(0,1))\n",
    "scatter!([150],[0.5],markersize= p4_10[16]*100,legend = false,size=(500,500),ylims=(0,1))\n",
    "plot!(size=(1000,500))"
   ]
  },
  {
   "cell_type": "code",
   "execution_count": null,
   "metadata": {},
   "outputs": [],
   "source": []
  },
  {
   "cell_type": "code",
   "execution_count": null,
   "metadata": {},
   "outputs": [],
   "source": []
  },
  {
   "cell_type": "code",
   "execution_count": 116,
   "metadata": {
    "ExecuteTime": {
     "end_time": "2021-07-10T22:03:30.547000+01:00",
     "start_time": "2021-07-10T21:03:30.469Z"
    }
   },
   "outputs": [
    {
     "data": {
      "image/svg+xml": [
       "<?xml version=\"1.0\" encoding=\"utf-8\"?>\n",
       "<svg xmlns=\"http://www.w3.org/2000/svg\" xmlns:xlink=\"http://www.w3.org/1999/xlink\" width=\"1000\" height=\"500\" viewBox=\"0 0 4000 2000\">\n",
       "<defs>\n",
       "  <clipPath id=\"clip090\">\n",
       "    <rect x=\"0\" y=\"0\" width=\"4000\" height=\"2000\"/>\n",
       "  </clipPath>\n",
       "</defs>\n",
       "<path clip-path=\"url(#clip090)\" d=\"\n",
       "M0 2000 L4000 2000 L4000 0 L0 0  Z\n",
       "  \" fill=\"#ffffff\" fill-rule=\"evenodd\" fill-opacity=\"1\"/>\n",
       "<defs>\n",
       "  <clipPath id=\"clip091\">\n",
       "    <rect x=\"800\" y=\"0\" width=\"2801\" height=\"2000\"/>\n",
       "  </clipPath>\n",
       "</defs>\n",
       "<path clip-path=\"url(#clip090)\" d=\"\n",
       "M172.598 1891.09 L3952.76 1891.09 L3952.76 47.2441 L172.598 47.2441  Z\n",
       "  \" fill=\"#ffffff\" fill-rule=\"evenodd\" fill-opacity=\"1\"/>\n",
       "<defs>\n",
       "  <clipPath id=\"clip092\">\n",
       "    <rect x=\"172\" y=\"47\" width=\"3781\" height=\"1845\"/>\n",
       "  </clipPath>\n",
       "</defs>\n",
       "<polyline clip-path=\"url(#clip092)\" style=\"stroke:#000000; stroke-linecap:butt; stroke-linejoin:round; stroke-width:2; stroke-opacity:0.1; fill:none\" points=\"\n",
       "  255.65,1891.09 255.65,47.2441 \n",
       "  \"/>\n",
       "<polyline clip-path=\"url(#clip092)\" style=\"stroke:#000000; stroke-linecap:butt; stroke-linejoin:round; stroke-width:2; stroke-opacity:0.1; fill:none\" points=\"\n",
       "  1452.36,1891.09 1452.36,47.2441 \n",
       "  \"/>\n",
       "<polyline clip-path=\"url(#clip092)\" style=\"stroke:#000000; stroke-linecap:butt; stroke-linejoin:round; stroke-width:2; stroke-opacity:0.1; fill:none\" points=\"\n",
       "  2649.06,1891.09 2649.06,47.2441 \n",
       "  \"/>\n",
       "<polyline clip-path=\"url(#clip092)\" style=\"stroke:#000000; stroke-linecap:butt; stroke-linejoin:round; stroke-width:2; stroke-opacity:0.1; fill:none\" points=\"\n",
       "  3845.77,1891.09 3845.77,47.2441 \n",
       "  \"/>\n",
       "<polyline clip-path=\"url(#clip090)\" style=\"stroke:#000000; stroke-linecap:butt; stroke-linejoin:round; stroke-width:4; stroke-opacity:1; fill:none\" points=\"\n",
       "  172.598,1891.09 3952.76,1891.09 \n",
       "  \"/>\n",
       "<polyline clip-path=\"url(#clip090)\" style=\"stroke:#000000; stroke-linecap:butt; stroke-linejoin:round; stroke-width:4; stroke-opacity:1; fill:none\" points=\"\n",
       "  255.65,1891.09 255.65,1868.96 \n",
       "  \"/>\n",
       "<polyline clip-path=\"url(#clip090)\" style=\"stroke:#000000; stroke-linecap:butt; stroke-linejoin:round; stroke-width:4; stroke-opacity:1; fill:none\" points=\"\n",
       "  1452.36,1891.09 1452.36,1868.96 \n",
       "  \"/>\n",
       "<polyline clip-path=\"url(#clip090)\" style=\"stroke:#000000; stroke-linecap:butt; stroke-linejoin:round; stroke-width:4; stroke-opacity:1; fill:none\" points=\"\n",
       "  2649.06,1891.09 2649.06,1868.96 \n",
       "  \"/>\n",
       "<polyline clip-path=\"url(#clip090)\" style=\"stroke:#000000; stroke-linecap:butt; stroke-linejoin:round; stroke-width:4; stroke-opacity:1; fill:none\" points=\"\n",
       "  3845.77,1891.09 3845.77,1868.96 \n",
       "  \"/>\n",
       "<path clip-path=\"url(#clip090)\" d=\"M255.65 1933.08 Q252.039 1933.08 250.21 1936.64 Q248.404 1940.19 248.404 1947.31 Q248.404 1954.42 250.21 1957.99 Q252.039 1961.53 255.65 1961.53 Q259.284 1961.53 261.089 1957.99 Q262.918 1954.42 262.918 1947.31 Q262.918 1940.19 261.089 1936.64 Q259.284 1933.08 255.65 1933.08 M255.65 1929.37 Q261.46 1929.37 264.515 1933.98 Q267.594 1938.56 267.594 1947.31 Q267.594 1956.04 264.515 1960.65 Q261.46 1965.23 255.65 1965.23 Q249.84 1965.23 246.761 1960.65 Q243.705 1956.04 243.705 1947.31 Q243.705 1938.56 246.761 1933.98 Q249.84 1929.37 255.65 1929.37 Z\" fill=\"#000000\" fill-rule=\"evenodd\" fill-opacity=\"1\" /><path clip-path=\"url(#clip090)\" d=\"M1427.06 1930 L1445.41 1930 L1445.41 1933.94 L1431.34 1933.94 L1431.34 1942.41 Q1432.36 1942.06 1433.38 1941.9 Q1434.39 1941.71 1435.41 1941.71 Q1441.2 1941.71 1444.58 1944.88 Q1447.96 1948.06 1447.96 1953.47 Q1447.96 1959.05 1444.49 1962.15 Q1441.01 1965.23 1434.69 1965.23 Q1432.52 1965.23 1430.25 1964.86 Q1428 1964.49 1425.6 1963.75 L1425.6 1959.05 Q1427.68 1960.18 1429.9 1960.74 Q1432.13 1961.3 1434.6 1961.3 Q1438.61 1961.3 1440.94 1959.19 Q1443.28 1957.08 1443.28 1953.47 Q1443.28 1949.86 1440.94 1947.75 Q1438.61 1945.65 1434.6 1945.65 Q1432.73 1945.65 1430.85 1946.06 Q1429 1946.48 1427.06 1947.36 L1427.06 1930 Z\" fill=\"#000000\" fill-rule=\"evenodd\" fill-opacity=\"1\" /><path clip-path=\"url(#clip090)\" d=\"M1467.17 1933.08 Q1463.56 1933.08 1461.73 1936.64 Q1459.93 1940.19 1459.93 1947.31 Q1459.93 1954.42 1461.73 1957.99 Q1463.56 1961.53 1467.17 1961.53 Q1470.81 1961.53 1472.61 1957.99 Q1474.44 1954.42 1474.44 1947.31 Q1474.44 1940.19 1472.61 1936.64 Q1470.81 1933.08 1467.17 1933.08 M1467.17 1929.37 Q1472.98 1929.37 1476.04 1933.98 Q1479.12 1938.56 1479.12 1947.31 Q1479.12 1956.04 1476.04 1960.65 Q1472.98 1965.23 1467.17 1965.23 Q1461.36 1965.23 1458.28 1960.65 Q1455.23 1956.04 1455.23 1947.31 Q1455.23 1938.56 1458.28 1933.98 Q1461.36 1929.37 1467.17 1929.37 Z\" fill=\"#000000\" fill-rule=\"evenodd\" fill-opacity=\"1\" /><path clip-path=\"url(#clip090)\" d=\"M2608.67 1960.62 L2616.31 1960.62 L2616.31 1934.26 L2608 1935.93 L2608 1931.67 L2616.26 1930 L2620.94 1930 L2620.94 1960.62 L2628.58 1960.62 L2628.58 1964.56 L2608.67 1964.56 L2608.67 1960.62 Z\" fill=\"#000000\" fill-rule=\"evenodd\" fill-opacity=\"1\" /><path clip-path=\"url(#clip090)\" d=\"M2648.02 1933.08 Q2644.41 1933.08 2642.58 1936.64 Q2640.78 1940.19 2640.78 1947.31 Q2640.78 1954.42 2642.58 1957.99 Q2644.41 1961.53 2648.02 1961.53 Q2651.66 1961.53 2653.46 1957.99 Q2655.29 1954.42 2655.29 1947.31 Q2655.29 1940.19 2653.46 1936.64 Q2651.66 1933.08 2648.02 1933.08 M2648.02 1929.37 Q2653.83 1929.37 2656.89 1933.98 Q2659.97 1938.56 2659.97 1947.31 Q2659.97 1956.04 2656.89 1960.65 Q2653.83 1965.23 2648.02 1965.23 Q2642.21 1965.23 2639.13 1960.65 Q2636.08 1956.04 2636.08 1947.31 Q2636.08 1938.56 2639.13 1933.98 Q2642.21 1929.37 2648.02 1929.37 Z\" fill=\"#000000\" fill-rule=\"evenodd\" fill-opacity=\"1\" /><path clip-path=\"url(#clip090)\" d=\"M2678.18 1933.08 Q2674.57 1933.08 2672.74 1936.64 Q2670.94 1940.19 2670.94 1947.31 Q2670.94 1954.42 2672.74 1957.99 Q2674.57 1961.53 2678.18 1961.53 Q2681.82 1961.53 2683.62 1957.99 Q2685.45 1954.42 2685.45 1947.31 Q2685.45 1940.19 2683.62 1936.64 Q2681.82 1933.08 2678.18 1933.08 M2678.18 1929.37 Q2683.99 1929.37 2687.05 1933.98 Q2690.13 1938.56 2690.13 1947.31 Q2690.13 1956.04 2687.05 1960.65 Q2683.99 1965.23 2678.18 1965.23 Q2672.37 1965.23 2669.29 1960.65 Q2666.24 1956.04 2666.24 1947.31 Q2666.24 1938.56 2669.29 1933.98 Q2672.37 1929.37 2678.18 1929.37 Z\" fill=\"#000000\" fill-rule=\"evenodd\" fill-opacity=\"1\" /><path clip-path=\"url(#clip090)\" d=\"M3805.38 1960.62 L3813.02 1960.62 L3813.02 1934.26 L3804.71 1935.93 L3804.71 1931.67 L3812.97 1930 L3817.65 1930 L3817.65 1960.62 L3825.28 1960.62 L3825.28 1964.56 L3805.38 1964.56 L3805.38 1960.62 Z\" fill=\"#000000\" fill-rule=\"evenodd\" fill-opacity=\"1\" /><path clip-path=\"url(#clip090)\" d=\"M3834.77 1930 L3853.13 1930 L3853.13 1933.94 L3839.06 1933.94 L3839.06 1942.41 Q3840.08 1942.06 3841.09 1941.9 Q3842.11 1941.71 3843.13 1941.71 Q3848.92 1941.71 3852.3 1944.88 Q3855.68 1948.06 3855.68 1953.47 Q3855.68 1959.05 3852.21 1962.15 Q3848.73 1965.23 3842.41 1965.23 Q3840.24 1965.23 3837.97 1964.86 Q3835.72 1964.49 3833.32 1963.75 L3833.32 1959.05 Q3835.4 1960.18 3837.62 1960.74 Q3839.84 1961.3 3842.32 1961.3 Q3846.33 1961.3 3848.66 1959.19 Q3851 1957.08 3851 1953.47 Q3851 1949.86 3848.66 1947.75 Q3846.33 1945.65 3842.32 1945.65 Q3840.45 1945.65 3838.57 1946.06 Q3836.72 1946.48 3834.77 1947.36 L3834.77 1930 Z\" fill=\"#000000\" fill-rule=\"evenodd\" fill-opacity=\"1\" /><path clip-path=\"url(#clip090)\" d=\"M3874.89 1933.08 Q3871.28 1933.08 3869.45 1936.64 Q3867.65 1940.19 3867.65 1947.31 Q3867.65 1954.42 3869.45 1957.99 Q3871.28 1961.53 3874.89 1961.53 Q3878.52 1961.53 3880.33 1957.99 Q3882.16 1954.42 3882.16 1947.31 Q3882.16 1940.19 3880.33 1936.64 Q3878.52 1933.08 3874.89 1933.08 M3874.89 1929.37 Q3880.7 1929.37 3883.76 1933.98 Q3886.83 1938.56 3886.83 1947.31 Q3886.83 1956.04 3883.76 1960.65 Q3880.7 1965.23 3874.89 1965.23 Q3869.08 1965.23 3866 1960.65 Q3862.95 1956.04 3862.95 1947.31 Q3862.95 1938.56 3866 1933.98 Q3869.08 1929.37 3874.89 1929.37 Z\" fill=\"#000000\" fill-rule=\"evenodd\" fill-opacity=\"1\" /><polyline clip-path=\"url(#clip092)\" style=\"stroke:#000000; stroke-linecap:butt; stroke-linejoin:round; stroke-width:2; stroke-opacity:0.1; fill:none\" points=\"\n",
       "  172.598,1891.09 3952.76,1891.09 \n",
       "  \"/>\n",
       "<polyline clip-path=\"url(#clip092)\" style=\"stroke:#000000; stroke-linecap:butt; stroke-linejoin:round; stroke-width:2; stroke-opacity:0.1; fill:none\" points=\"\n",
       "  172.598,1522.32 3952.76,1522.32 \n",
       "  \"/>\n",
       "<polyline clip-path=\"url(#clip092)\" style=\"stroke:#000000; stroke-linecap:butt; stroke-linejoin:round; stroke-width:2; stroke-opacity:0.1; fill:none\" points=\"\n",
       "  172.598,1153.55 3952.76,1153.55 \n",
       "  \"/>\n",
       "<polyline clip-path=\"url(#clip092)\" style=\"stroke:#000000; stroke-linecap:butt; stroke-linejoin:round; stroke-width:2; stroke-opacity:0.1; fill:none\" points=\"\n",
       "  172.598,784.782 3952.76,784.782 \n",
       "  \"/>\n",
       "<polyline clip-path=\"url(#clip092)\" style=\"stroke:#000000; stroke-linecap:butt; stroke-linejoin:round; stroke-width:2; stroke-opacity:0.1; fill:none\" points=\"\n",
       "  172.598,416.013 3952.76,416.013 \n",
       "  \"/>\n",
       "<polyline clip-path=\"url(#clip092)\" style=\"stroke:#000000; stroke-linecap:butt; stroke-linejoin:round; stroke-width:2; stroke-opacity:0.1; fill:none\" points=\"\n",
       "  172.598,47.2441 3952.76,47.2441 \n",
       "  \"/>\n",
       "<polyline clip-path=\"url(#clip090)\" style=\"stroke:#000000; stroke-linecap:butt; stroke-linejoin:round; stroke-width:4; stroke-opacity:1; fill:none\" points=\"\n",
       "  172.598,1891.09 172.598,47.2441 \n",
       "  \"/>\n",
       "<polyline clip-path=\"url(#clip090)\" style=\"stroke:#000000; stroke-linecap:butt; stroke-linejoin:round; stroke-width:4; stroke-opacity:1; fill:none\" points=\"\n",
       "  172.598,1891.09 217.96,1891.09 \n",
       "  \"/>\n",
       "<polyline clip-path=\"url(#clip090)\" style=\"stroke:#000000; stroke-linecap:butt; stroke-linejoin:round; stroke-width:4; stroke-opacity:1; fill:none\" points=\"\n",
       "  172.598,1522.32 217.96,1522.32 \n",
       "  \"/>\n",
       "<polyline clip-path=\"url(#clip090)\" style=\"stroke:#000000; stroke-linecap:butt; stroke-linejoin:round; stroke-width:4; stroke-opacity:1; fill:none\" points=\"\n",
       "  172.598,1153.55 217.96,1153.55 \n",
       "  \"/>\n",
       "<polyline clip-path=\"url(#clip090)\" style=\"stroke:#000000; stroke-linecap:butt; stroke-linejoin:round; stroke-width:4; stroke-opacity:1; fill:none\" points=\"\n",
       "  172.598,784.782 217.96,784.782 \n",
       "  \"/>\n",
       "<polyline clip-path=\"url(#clip090)\" style=\"stroke:#000000; stroke-linecap:butt; stroke-linejoin:round; stroke-width:4; stroke-opacity:1; fill:none\" points=\"\n",
       "  172.598,416.013 217.96,416.013 \n",
       "  \"/>\n",
       "<polyline clip-path=\"url(#clip090)\" style=\"stroke:#000000; stroke-linecap:butt; stroke-linejoin:round; stroke-width:4; stroke-opacity:1; fill:none\" points=\"\n",
       "  172.598,47.2441 217.96,47.2441 \n",
       "  \"/>\n",
       "<path clip-path=\"url(#clip090)\" d=\"M55.4226 1876.89 Q51.8115 1876.89 49.9828 1880.45 Q48.1773 1883.99 48.1773 1891.12 Q48.1773 1898.23 49.9828 1901.79 Q51.8115 1905.34 55.4226 1905.34 Q59.0569 1905.34 60.8624 1901.79 Q62.6911 1898.23 62.6911 1891.12 Q62.6911 1883.99 60.8624 1880.45 Q59.0569 1876.89 55.4226 1876.89 M55.4226 1873.18 Q61.2328 1873.18 64.2883 1877.79 Q67.367 1882.37 67.367 1891.12 Q67.367 1899.85 64.2883 1904.46 Q61.2328 1909.04 55.4226 1909.04 Q49.6125 1909.04 46.5338 1904.46 Q43.4782 1899.85 43.4782 1891.12 Q43.4782 1882.37 46.5338 1877.79 Q49.6125 1873.18 55.4226 1873.18 Z\" fill=\"#000000\" fill-rule=\"evenodd\" fill-opacity=\"1\" /><path clip-path=\"url(#clip090)\" d=\"M75.5845 1902.49 L80.4688 1902.49 L80.4688 1908.37 L75.5845 1908.37 L75.5845 1902.49 Z\" fill=\"#000000\" fill-rule=\"evenodd\" fill-opacity=\"1\" /><path clip-path=\"url(#clip090)\" d=\"M100.654 1876.89 Q97.0428 1876.89 95.2141 1880.45 Q93.4085 1883.99 93.4085 1891.12 Q93.4085 1898.23 95.2141 1901.79 Q97.0428 1905.34 100.654 1905.34 Q104.288 1905.34 106.094 1901.79 Q107.922 1898.23 107.922 1891.12 Q107.922 1883.99 106.094 1880.45 Q104.288 1876.89 100.654 1876.89 M100.654 1873.18 Q106.464 1873.18 109.52 1877.79 Q112.598 1882.37 112.598 1891.12 Q112.598 1899.85 109.52 1904.46 Q106.464 1909.04 100.654 1909.04 Q94.8437 1909.04 91.765 1904.46 Q88.7095 1899.85 88.7095 1891.12 Q88.7095 1882.37 91.765 1877.79 Q94.8437 1873.18 100.654 1873.18 Z\" fill=\"#000000\" fill-rule=\"evenodd\" fill-opacity=\"1\" /><path clip-path=\"url(#clip090)\" d=\"M57.0198 1508.12 Q53.4087 1508.12 51.58 1511.68 Q49.7745 1515.22 49.7745 1522.35 Q49.7745 1529.46 51.58 1533.03 Q53.4087 1536.57 57.0198 1536.57 Q60.6541 1536.57 62.4596 1533.03 Q64.2883 1529.46 64.2883 1522.35 Q64.2883 1515.22 62.4596 1511.68 Q60.6541 1508.12 57.0198 1508.12 M57.0198 1504.41 Q62.83 1504.41 65.8855 1509.02 Q68.9642 1513.6 68.9642 1522.35 Q68.9642 1531.08 65.8855 1535.69 Q62.83 1540.27 57.0198 1540.27 Q51.2097 1540.27 48.131 1535.69 Q45.0754 1531.08 45.0754 1522.35 Q45.0754 1513.6 48.131 1509.02 Q51.2097 1504.41 57.0198 1504.41 Z\" fill=\"#000000\" fill-rule=\"evenodd\" fill-opacity=\"1\" /><path clip-path=\"url(#clip090)\" d=\"M77.1818 1533.72 L82.066 1533.72 L82.066 1539.6 L77.1818 1539.6 L77.1818 1533.72 Z\" fill=\"#000000\" fill-rule=\"evenodd\" fill-opacity=\"1\" /><path clip-path=\"url(#clip090)\" d=\"M96.2789 1535.66 L112.598 1535.66 L112.598 1539.6 L90.6539 1539.6 L90.6539 1535.66 Q93.3159 1532.91 97.8992 1528.28 Q102.506 1523.63 103.686 1522.28 Q105.932 1519.76 106.811 1518.03 Q107.714 1516.27 107.714 1514.58 Q107.714 1511.82 105.77 1510.09 Q103.848 1508.35 100.746 1508.35 Q98.5474 1508.35 96.0937 1509.11 Q93.6632 1509.88 90.8854 1511.43 L90.8854 1506.71 Q93.7094 1505.57 96.1631 1504.99 Q98.6168 1504.41 100.654 1504.41 Q106.024 1504.41 109.219 1507.1 Q112.413 1509.78 112.413 1514.28 Q112.413 1516.4 111.603 1518.33 Q110.816 1520.22 108.709 1522.82 Q108.131 1523.49 105.029 1526.71 Q101.927 1529.9 96.2789 1535.66 Z\" fill=\"#000000\" fill-rule=\"evenodd\" fill-opacity=\"1\" /><path clip-path=\"url(#clip090)\" d=\"M54.9365 1139.35 Q51.3254 1139.35 49.4967 1142.91 Q47.6912 1146.46 47.6912 1153.59 Q47.6912 1160.69 49.4967 1164.26 Q51.3254 1167.8 54.9365 1167.8 Q58.5707 1167.8 60.3763 1164.26 Q62.205 1160.69 62.205 1153.59 Q62.205 1146.46 60.3763 1142.91 Q58.5707 1139.35 54.9365 1139.35 M54.9365 1135.65 Q60.7467 1135.65 63.8022 1140.25 Q66.8809 1144.84 66.8809 1153.59 Q66.8809 1162.31 63.8022 1166.92 Q60.7467 1171.5 54.9365 1171.5 Q49.1264 1171.5 46.0477 1166.92 Q42.9921 1162.31 42.9921 1153.59 Q42.9921 1144.84 46.0477 1140.25 Q49.1264 1135.65 54.9365 1135.65 Z\" fill=\"#000000\" fill-rule=\"evenodd\" fill-opacity=\"1\" /><path clip-path=\"url(#clip090)\" d=\"M75.0984 1164.95 L79.9827 1164.95 L79.9827 1170.83 L75.0984 1170.83 L75.0984 1164.95 Z\" fill=\"#000000\" fill-rule=\"evenodd\" fill-opacity=\"1\" /><path clip-path=\"url(#clip090)\" d=\"M103.015 1140.34 L91.2095 1158.79 L103.015 1158.79 L103.015 1140.34 M101.788 1136.27 L107.668 1136.27 L107.668 1158.79 L112.598 1158.79 L112.598 1162.68 L107.668 1162.68 L107.668 1170.83 L103.015 1170.83 L103.015 1162.68 L87.4132 1162.68 L87.4132 1158.17 L101.788 1136.27 Z\" fill=\"#000000\" fill-rule=\"evenodd\" fill-opacity=\"1\" /><path clip-path=\"url(#clip090)\" d=\"M55.2606 770.58 Q51.6495 770.58 49.8208 774.145 Q48.0152 777.687 48.0152 784.816 Q48.0152 791.923 49.8208 795.488 Q51.6495 799.029 55.2606 799.029 Q58.8948 799.029 60.7004 795.488 Q62.5291 791.923 62.5291 784.816 Q62.5291 777.687 60.7004 774.145 Q58.8948 770.58 55.2606 770.58 M55.2606 766.877 Q61.0707 766.877 64.1263 771.483 Q67.205 776.066 67.205 784.816 Q67.205 793.543 64.1263 798.15 Q61.0707 802.733 55.2606 802.733 Q49.4504 802.733 46.3717 798.15 Q43.3162 793.543 43.3162 784.816 Q43.3162 776.066 46.3717 771.483 Q49.4504 766.877 55.2606 766.877 Z\" fill=\"#000000\" fill-rule=\"evenodd\" fill-opacity=\"1\" /><path clip-path=\"url(#clip090)\" d=\"M75.4225 796.182 L80.3067 796.182 L80.3067 802.062 L75.4225 802.062 L75.4225 796.182 Z\" fill=\"#000000\" fill-rule=\"evenodd\" fill-opacity=\"1\" /><path clip-path=\"url(#clip090)\" d=\"M101.071 782.918 Q97.9224 782.918 96.0705 785.071 Q94.2419 787.224 94.2419 790.974 Q94.2419 794.701 96.0705 796.876 Q97.9224 799.029 101.071 799.029 Q104.219 799.029 106.047 796.876 Q107.899 794.701 107.899 790.974 Q107.899 787.224 106.047 785.071 Q104.219 782.918 101.071 782.918 M110.353 768.265 L110.353 772.525 Q108.594 771.691 106.788 771.252 Q105.006 770.812 103.246 770.812 Q98.6168 770.812 96.1631 773.937 Q93.7326 777.062 93.3854 783.381 Q94.7511 781.367 96.8113 780.302 Q98.8715 779.215 101.348 779.215 Q106.557 779.215 109.566 782.386 Q112.598 785.534 112.598 790.974 Q112.598 796.298 109.45 799.515 Q106.302 802.733 101.071 802.733 Q95.0752 802.733 91.9039 798.15 Q88.7326 793.543 88.7326 784.816 Q88.7326 776.622 92.6215 771.761 Q96.5104 766.877 103.061 766.877 Q104.82 766.877 106.603 767.224 Q108.408 767.571 110.353 768.265 Z\" fill=\"#000000\" fill-rule=\"evenodd\" fill-opacity=\"1\" /><path clip-path=\"url(#clip090)\" d=\"M55.5152 401.812 Q51.9041 401.812 50.0754 405.376 Q48.2699 408.918 48.2699 416.048 Q48.2699 423.154 50.0754 426.719 Q51.9041 430.26 55.5152 430.26 Q59.1494 430.26 60.955 426.719 Q62.7837 423.154 62.7837 416.048 Q62.7837 408.918 60.955 405.376 Q59.1494 401.812 55.5152 401.812 M55.5152 398.108 Q61.3254 398.108 64.3809 402.714 Q67.4596 407.298 67.4596 416.048 Q67.4596 424.774 64.3809 429.381 Q61.3254 433.964 55.5152 433.964 Q49.7051 433.964 46.6264 429.381 Q43.5708 424.774 43.5708 416.048 Q43.5708 407.298 46.6264 402.714 Q49.7051 398.108 55.5152 398.108 Z\" fill=\"#000000\" fill-rule=\"evenodd\" fill-opacity=\"1\" /><path clip-path=\"url(#clip090)\" d=\"M75.6771 427.413 L80.5614 427.413 L80.5614 433.293 L75.6771 433.293 L75.6771 427.413 Z\" fill=\"#000000\" fill-rule=\"evenodd\" fill-opacity=\"1\" /><path clip-path=\"url(#clip090)\" d=\"M100.746 416.881 Q97.4131 416.881 95.4918 418.663 Q93.5937 420.446 93.5937 423.571 Q93.5937 426.696 95.4918 428.478 Q97.4131 430.26 100.746 430.26 Q104.08 430.26 106.001 428.478 Q107.922 426.673 107.922 423.571 Q107.922 420.446 106.001 418.663 Q104.103 416.881 100.746 416.881 M96.0705 414.89 Q93.0613 414.149 91.3715 412.089 Q89.7048 410.029 89.7048 407.066 Q89.7048 402.923 92.6446 400.515 Q95.6076 398.108 100.746 398.108 Q105.908 398.108 108.848 400.515 Q111.788 402.923 111.788 407.066 Q111.788 410.029 110.098 412.089 Q108.432 414.149 105.445 414.89 Q108.825 415.677 110.7 417.969 Q112.598 420.261 112.598 423.571 Q112.598 428.594 109.52 431.279 Q106.464 433.964 100.746 433.964 Q95.0289 433.964 91.9502 431.279 Q88.8947 428.594 88.8947 423.571 Q88.8947 420.261 90.7928 417.969 Q92.6909 415.677 96.0705 414.89 M94.3576 407.506 Q94.3576 410.191 96.0242 411.696 Q97.7141 413.2 100.746 413.2 Q103.756 413.2 105.445 411.696 Q107.158 410.191 107.158 407.506 Q107.158 404.821 105.445 403.316 Q103.756 401.812 100.746 401.812 Q97.7141 401.812 96.0242 403.316 Q94.3576 404.821 94.3576 407.506 Z\" fill=\"#000000\" fill-rule=\"evenodd\" fill-opacity=\"1\" /><path clip-path=\"url(#clip090)\" d=\"M46.2328 60.5889 L53.8717 60.5889 L53.8717 34.2233 L45.5616 35.89 L45.5616 31.6308 L53.8254 29.9641 L58.5013 29.9641 L58.5013 60.5889 L66.1402 60.5889 L66.1402 64.5241 L46.2328 64.5241 L46.2328 60.5889 Z\" fill=\"#000000\" fill-rule=\"evenodd\" fill-opacity=\"1\" /><path clip-path=\"url(#clip090)\" d=\"M75.5845 58.6445 L80.4688 58.6445 L80.4688 64.5241 L75.5845 64.5241 L75.5845 58.6445 Z\" fill=\"#000000\" fill-rule=\"evenodd\" fill-opacity=\"1\" /><path clip-path=\"url(#clip090)\" d=\"M100.654 33.0428 Q97.0428 33.0428 95.2141 36.6076 Q93.4085 40.1492 93.4085 47.2788 Q93.4085 54.3853 95.2141 57.9501 Q97.0428 61.4917 100.654 61.4917 Q104.288 61.4917 106.094 57.9501 Q107.922 54.3853 107.922 47.2788 Q107.922 40.1492 106.094 36.6076 Q104.288 33.0428 100.654 33.0428 M100.654 29.3391 Q106.464 29.3391 109.52 33.9456 Q112.598 38.5289 112.598 47.2788 Q112.598 56.0056 109.52 60.6121 Q106.464 65.1954 100.654 65.1954 Q94.8437 65.1954 91.765 60.6121 Q88.7095 56.0056 88.7095 47.2788 Q88.7095 38.5289 91.765 33.9456 Q94.8437 29.3391 100.654 29.3391 Z\" fill=\"#000000\" fill-rule=\"evenodd\" fill-opacity=\"1\" /><circle clip-path=\"url(#clip092)\" cx=\"279.584\" cy=\"969.166\" r=\"51\" fill=\"#009af9\" fill-rule=\"evenodd\" fill-opacity=\"1\" stroke=\"#000000\" stroke-opacity=\"1\" stroke-width=\"4\"/>\n",
       "<circle clip-path=\"url(#clip092)\" cx=\"494.991\" cy=\"969.166\" r=\"85\" fill=\"#e26f46\" fill-rule=\"evenodd\" fill-opacity=\"1\" stroke=\"#000000\" stroke-opacity=\"1\" stroke-width=\"4\"/>\n",
       "<circle clip-path=\"url(#clip092)\" cx=\"734.332\" cy=\"969.166\" r=\"70\" fill=\"#3da44d\" fill-rule=\"evenodd\" fill-opacity=\"1\" stroke=\"#000000\" stroke-opacity=\"1\" stroke-width=\"4\"/>\n",
       "<circle clip-path=\"url(#clip092)\" cx=\"973.674\" cy=\"969.166\" r=\"32\" fill=\"#c271d2\" fill-rule=\"evenodd\" fill-opacity=\"1\" stroke=\"#000000\" stroke-opacity=\"1\" stroke-width=\"4\"/>\n",
       "<circle clip-path=\"url(#clip092)\" cx=\"1213.02\" cy=\"969.166\" r=\"17\" fill=\"#ac8d18\" fill-rule=\"evenodd\" fill-opacity=\"1\" stroke=\"#000000\" stroke-opacity=\"1\" stroke-width=\"4\"/>\n",
       "<circle clip-path=\"url(#clip092)\" cx=\"1452.36\" cy=\"969.166\" r=\"13\" fill=\"#00a9ad\" fill-rule=\"evenodd\" fill-opacity=\"1\" stroke=\"#000000\" stroke-opacity=\"1\" stroke-width=\"4\"/>\n",
       "<circle clip-path=\"url(#clip092)\" cx=\"1691.7\" cy=\"969.166\" r=\"12\" fill=\"#ed5d92\" fill-rule=\"evenodd\" fill-opacity=\"1\" stroke=\"#000000\" stroke-opacity=\"1\" stroke-width=\"4\"/>\n",
       "<circle clip-path=\"url(#clip092)\" cx=\"1931.04\" cy=\"969.166\" r=\"12\" fill=\"#c68125\" fill-rule=\"evenodd\" fill-opacity=\"1\" stroke=\"#000000\" stroke-opacity=\"1\" stroke-width=\"4\"/>\n",
       "<circle clip-path=\"url(#clip092)\" cx=\"2170.38\" cy=\"969.166\" r=\"10\" fill=\"#00a98d\" fill-rule=\"evenodd\" fill-opacity=\"1\" stroke=\"#000000\" stroke-opacity=\"1\" stroke-width=\"4\"/>\n",
       "<circle clip-path=\"url(#clip092)\" cx=\"2409.72\" cy=\"969.166\" r=\"16\" fill=\"#8e971d\" fill-rule=\"evenodd\" fill-opacity=\"1\" stroke=\"#000000\" stroke-opacity=\"1\" stroke-width=\"4\"/>\n",
       "<circle clip-path=\"url(#clip092)\" cx=\"2649.06\" cy=\"969.166\" r=\"15\" fill=\"#00a8cb\" fill-rule=\"evenodd\" fill-opacity=\"1\" stroke=\"#000000\" stroke-opacity=\"1\" stroke-width=\"4\"/>\n",
       "<circle clip-path=\"url(#clip092)\" cx=\"2888.4\" cy=\"969.166\" r=\"8\" fill=\"#9b7fe8\" fill-rule=\"evenodd\" fill-opacity=\"1\" stroke=\"#000000\" stroke-opacity=\"1\" stroke-width=\"4\"/>\n",
       "<circle clip-path=\"url(#clip092)\" cx=\"3127.75\" cy=\"969.166\" r=\"1\" fill=\"#608cf6\" fill-rule=\"evenodd\" fill-opacity=\"1\" stroke=\"#000000\" stroke-opacity=\"1\" stroke-width=\"4\"/>\n",
       "<circle clip-path=\"url(#clip092)\" cx=\"3367.09\" cy=\"969.166\" r=\"7\" fill=\"#f05f73\" fill-rule=\"evenodd\" fill-opacity=\"1\" stroke=\"#000000\" stroke-opacity=\"1\" stroke-width=\"4\"/>\n",
       "<circle clip-path=\"url(#clip092)\" cx=\"3606.43\" cy=\"969.166\" r=\"4\" fill=\"#dd64b5\" fill-rule=\"evenodd\" fill-opacity=\"1\" stroke=\"#000000\" stroke-opacity=\"1\" stroke-width=\"4\"/>\n",
       "<circle clip-path=\"url(#clip092)\" style=\"fill:#6b9e32; stroke:none; fill-opacity:1\" cx=\"3845.77\" cy=\"969.166\" r=\"2\"/>\n",
       "</svg>\n"
      ]
     },
     "execution_count": 116,
     "metadata": {},
     "output_type": "execute_result"
    }
   ],
   "source": [
    "using Plots;\n",
    "plot!()\n",
    "scatter([1],[0.5],markersize= p[1]*100,legend = false,size=(500,500),ylims=(0,1))\n",
    "scatter!([10],[0.5],markersize= p[2]*100,legend = false,size=(500,500),ylims=(0,1))\n",
    "scatter!([20],[0.5],markersize= p[3]*100,legend = false,size=(500,500),ylims=(0,1))\n",
    "scatter!([30],[0.5],markersize= p[4]*100,legend = false,size=(500,500),ylims=(0,1))\n",
    "scatter!([40],[0.5],markersize= p[5]*100,legend = false,size=(500,500),ylims=(0,1))\n",
    "scatter!([50],[0.5],markersize= p[6]*100,legend = false,size=(500,500),ylims=(0,1))\n",
    "scatter!([60],[0.5],markersize= p[7]*100,legend = false,size=(500,500),ylims=(0,1))\n",
    "scatter!([70],[0.5],markersize= p[8]*100,legend = false,size=(500,500),ylims=(0,1))\n",
    "scatter!([80],[0.5],markersize= p[9]*100,legend = false,size=(500,500),ylims=(0,1))\n",
    "scatter!([90],[0.5],markersize= p[10]*100,legend = false,size=(500,500),ylims=(0,1))\n",
    "scatter!([100],[0.5],markersize= p[11]*100,legend = false,size=(500,500),ylims=(0,1))\n",
    "scatter!([110],[0.5],markersize= p[12]*100,legend = false,size=(500,500),ylims=(0,1))\n",
    "scatter!([120],[0.5],markersize= p[13]*100,legend = false,size=(500,500),ylims=(0,1))\n",
    "scatter!([130],[0.5],markersize= p[14]*100,legend = false,size=(500,500),ylims=(0,1))\n",
    "scatter!([140],[0.5],markersize= p[15]*100,legend = false,size=(500,500),ylims=(0,1))\n",
    "scatter!([150],[0.5],markersize= p[16]*100,legend = false,size=(500,500),ylims=(0,1))\n",
    "plot!(size=(1000,500))"
   ]
  },
  {
   "cell_type": "markdown",
   "metadata": {},
   "source": [
    "## All plots toguether with gate cases [N=3,D=3], [N=3,D=4],[N-3,D=5]"
   ]
  },
  {
   "cell_type": "code",
   "execution_count": 120,
   "metadata": {
    "ExecuteTime": {
     "end_time": "2021-07-10T22:08:03.797000+01:00",
     "start_time": "2021-07-10T21:08:03.708Z"
    }
   },
   "outputs": [
    {
     "data": {
      "image/svg+xml": [
       "<?xml version=\"1.0\" encoding=\"utf-8\"?>\n",
       "<svg xmlns=\"http://www.w3.org/2000/svg\" xmlns:xlink=\"http://www.w3.org/1999/xlink\" width=\"1000\" height=\"500\" viewBox=\"0 0 4000 2000\">\n",
       "<defs>\n",
       "  <clipPath id=\"clip250\">\n",
       "    <rect x=\"0\" y=\"0\" width=\"4000\" height=\"2000\"/>\n",
       "  </clipPath>\n",
       "</defs>\n",
       "<path clip-path=\"url(#clip250)\" d=\"\n",
       "M0 2000 L4000 2000 L4000 0 L0 0  Z\n",
       "  \" fill=\"#ffffff\" fill-rule=\"evenodd\" fill-opacity=\"1\"/>\n",
       "<defs>\n",
       "  <clipPath id=\"clip251\">\n",
       "    <rect x=\"800\" y=\"0\" width=\"2801\" height=\"2000\"/>\n",
       "  </clipPath>\n",
       "</defs>\n",
       "<path clip-path=\"url(#clip250)\" d=\"\n",
       "M128.177 1891.09 L3952.76 1891.09 L3952.76 47.2441 L128.177 47.2441  Z\n",
       "  \" fill=\"#ffffff\" fill-rule=\"evenodd\" fill-opacity=\"1\"/>\n",
       "<defs>\n",
       "  <clipPath id=\"clip252\">\n",
       "    <rect x=\"128\" y=\"47\" width=\"3826\" height=\"1845\"/>\n",
       "  </clipPath>\n",
       "</defs>\n",
       "<polyline clip-path=\"url(#clip252)\" style=\"stroke:#000000; stroke-linecap:butt; stroke-linejoin:round; stroke-width:2; stroke-opacity:0.1; fill:none\" points=\"\n",
       "  184.129,1891.09 184.129,47.2441 \n",
       "  \"/>\n",
       "<polyline clip-path=\"url(#clip252)\" style=\"stroke:#000000; stroke-linecap:butt; stroke-linejoin:round; stroke-width:2; stroke-opacity:0.1; fill:none\" points=\"\n",
       "  1229.95,1891.09 1229.95,47.2441 \n",
       "  \"/>\n",
       "<polyline clip-path=\"url(#clip252)\" style=\"stroke:#000000; stroke-linecap:butt; stroke-linejoin:round; stroke-width:2; stroke-opacity:0.1; fill:none\" points=\"\n",
       "  2275.78,1891.09 2275.78,47.2441 \n",
       "  \"/>\n",
       "<polyline clip-path=\"url(#clip252)\" style=\"stroke:#000000; stroke-linecap:butt; stroke-linejoin:round; stroke-width:2; stroke-opacity:0.1; fill:none\" points=\"\n",
       "  3321.6,1891.09 3321.6,47.2441 \n",
       "  \"/>\n",
       "<polyline clip-path=\"url(#clip250)\" style=\"stroke:#000000; stroke-linecap:butt; stroke-linejoin:round; stroke-width:4; stroke-opacity:1; fill:none\" points=\"\n",
       "  128.177,1891.09 3952.76,1891.09 \n",
       "  \"/>\n",
       "<polyline clip-path=\"url(#clip250)\" style=\"stroke:#000000; stroke-linecap:butt; stroke-linejoin:round; stroke-width:4; stroke-opacity:1; fill:none\" points=\"\n",
       "  184.129,1891.09 184.129,1868.96 \n",
       "  \"/>\n",
       "<polyline clip-path=\"url(#clip250)\" style=\"stroke:#000000; stroke-linecap:butt; stroke-linejoin:round; stroke-width:4; stroke-opacity:1; fill:none\" points=\"\n",
       "  1229.95,1891.09 1229.95,1868.96 \n",
       "  \"/>\n",
       "<polyline clip-path=\"url(#clip250)\" style=\"stroke:#000000; stroke-linecap:butt; stroke-linejoin:round; stroke-width:4; stroke-opacity:1; fill:none\" points=\"\n",
       "  2275.78,1891.09 2275.78,1868.96 \n",
       "  \"/>\n",
       "<polyline clip-path=\"url(#clip250)\" style=\"stroke:#000000; stroke-linecap:butt; stroke-linejoin:round; stroke-width:4; stroke-opacity:1; fill:none\" points=\"\n",
       "  3321.6,1891.09 3321.6,1868.96 \n",
       "  \"/>\n",
       "<path clip-path=\"url(#clip250)\" d=\"M184.129 1933.08 Q180.518 1933.08 178.689 1936.64 Q176.883 1940.19 176.883 1947.31 Q176.883 1954.42 178.689 1957.99 Q180.518 1961.53 184.129 1961.53 Q187.763 1961.53 189.569 1957.99 Q191.397 1954.42 191.397 1947.31 Q191.397 1940.19 189.569 1936.64 Q187.763 1933.08 184.129 1933.08 M184.129 1929.37 Q189.939 1929.37 192.994 1933.98 Q196.073 1938.56 196.073 1947.31 Q196.073 1956.04 192.994 1960.65 Q189.939 1965.23 184.129 1965.23 Q178.319 1965.23 175.24 1960.65 Q172.184 1956.04 172.184 1947.31 Q172.184 1938.56 175.24 1933.98 Q178.319 1929.37 184.129 1929.37 Z\" fill=\"#000000\" fill-rule=\"evenodd\" fill-opacity=\"1\" /><path clip-path=\"url(#clip250)\" d=\"M1208.73 1960.62 L1225.05 1960.62 L1225.05 1964.56 L1203.1 1964.56 L1203.1 1960.62 Q1205.76 1957.87 1210.35 1953.24 Q1214.95 1948.59 1216.13 1947.25 Q1218.38 1944.72 1219.26 1942.99 Q1220.16 1941.23 1220.16 1939.54 Q1220.16 1936.78 1218.22 1935.05 Q1216.3 1933.31 1213.19 1933.31 Q1210.99 1933.31 1208.54 1934.07 Q1206.11 1934.84 1203.33 1936.39 L1203.33 1931.67 Q1206.16 1930.53 1208.61 1929.95 Q1211.06 1929.37 1213.1 1929.37 Q1218.47 1929.37 1221.67 1932.06 Q1224.86 1934.75 1224.86 1939.24 Q1224.86 1941.37 1224.05 1943.29 Q1223.26 1945.18 1221.16 1947.78 Q1220.58 1948.45 1217.48 1951.67 Q1214.37 1954.86 1208.73 1960.62 Z\" fill=\"#000000\" fill-rule=\"evenodd\" fill-opacity=\"1\" /><path clip-path=\"url(#clip250)\" d=\"M1244.86 1933.08 Q1241.25 1933.08 1239.42 1936.64 Q1237.61 1940.19 1237.61 1947.31 Q1237.61 1954.42 1239.42 1957.99 Q1241.25 1961.53 1244.86 1961.53 Q1248.49 1961.53 1250.3 1957.99 Q1252.13 1954.42 1252.13 1947.31 Q1252.13 1940.19 1250.3 1936.64 Q1248.49 1933.08 1244.86 1933.08 M1244.86 1929.37 Q1250.67 1929.37 1253.73 1933.98 Q1256.8 1938.56 1256.8 1947.31 Q1256.8 1956.04 1253.73 1960.65 Q1250.67 1965.23 1244.86 1965.23 Q1239.05 1965.23 1235.97 1960.65 Q1232.92 1956.04 1232.92 1947.31 Q1232.92 1938.56 1235.97 1933.98 Q1239.05 1929.37 1244.86 1929.37 Z\" fill=\"#000000\" fill-rule=\"evenodd\" fill-opacity=\"1\" /><path clip-path=\"url(#clip250)\" d=\"M2263.95 1934.07 L2252.14 1952.52 L2263.95 1952.52 L2263.95 1934.07 M2262.72 1930 L2268.6 1930 L2268.6 1952.52 L2273.53 1952.52 L2273.53 1956.41 L2268.6 1956.41 L2268.6 1964.56 L2263.95 1964.56 L2263.95 1956.41 L2248.35 1956.41 L2248.35 1951.9 L2262.72 1930 Z\" fill=\"#000000\" fill-rule=\"evenodd\" fill-opacity=\"1\" /><path clip-path=\"url(#clip250)\" d=\"M2291.26 1933.08 Q2287.65 1933.08 2285.82 1936.64 Q2284.02 1940.19 2284.02 1947.31 Q2284.02 1954.42 2285.82 1957.99 Q2287.65 1961.53 2291.26 1961.53 Q2294.9 1961.53 2296.7 1957.99 Q2298.53 1954.42 2298.53 1947.31 Q2298.53 1940.19 2296.7 1936.64 Q2294.9 1933.08 2291.26 1933.08 M2291.26 1929.37 Q2297.07 1929.37 2300.13 1933.98 Q2303.21 1938.56 2303.21 1947.31 Q2303.21 1956.04 2300.13 1960.65 Q2297.07 1965.23 2291.26 1965.23 Q2285.45 1965.23 2282.37 1960.65 Q2279.32 1956.04 2279.32 1947.31 Q2279.32 1938.56 2282.37 1933.98 Q2285.45 1929.37 2291.26 1929.37 Z\" fill=\"#000000\" fill-rule=\"evenodd\" fill-opacity=\"1\" /><path clip-path=\"url(#clip250)\" d=\"M3307.01 1945.42 Q3303.86 1945.42 3302.01 1947.57 Q3300.18 1949.72 3300.18 1953.47 Q3300.18 1957.2 3302.01 1959.37 Q3303.86 1961.53 3307.01 1961.53 Q3310.15 1961.53 3311.98 1959.37 Q3313.83 1957.2 3313.83 1953.47 Q3313.83 1949.72 3311.98 1947.57 Q3310.15 1945.42 3307.01 1945.42 M3316.29 1930.76 L3316.29 1935.02 Q3314.53 1934.19 3312.72 1933.75 Q3310.94 1933.31 3309.18 1933.31 Q3304.55 1933.31 3302.1 1936.44 Q3299.67 1939.56 3299.32 1945.88 Q3300.69 1943.87 3302.75 1942.8 Q3304.81 1941.71 3307.28 1941.71 Q3312.49 1941.71 3315.5 1944.88 Q3318.53 1948.03 3318.53 1953.47 Q3318.53 1958.8 3315.39 1962.01 Q3312.24 1965.23 3307.01 1965.23 Q3301.01 1965.23 3297.84 1960.65 Q3294.67 1956.04 3294.67 1947.31 Q3294.67 1939.12 3298.56 1934.26 Q3302.45 1929.37 3309 1929.37 Q3310.76 1929.37 3312.54 1929.72 Q3314.34 1930.07 3316.29 1930.76 Z\" fill=\"#000000\" fill-rule=\"evenodd\" fill-opacity=\"1\" /><path clip-path=\"url(#clip250)\" d=\"M3336.59 1933.08 Q3332.98 1933.08 3331.15 1936.64 Q3329.34 1940.19 3329.34 1947.31 Q3329.34 1954.42 3331.15 1957.99 Q3332.98 1961.53 3336.59 1961.53 Q3340.22 1961.53 3342.03 1957.99 Q3343.86 1954.42 3343.86 1947.31 Q3343.86 1940.19 3342.03 1936.64 Q3340.22 1933.08 3336.59 1933.08 M3336.59 1929.37 Q3342.4 1929.37 3345.46 1933.98 Q3348.53 1938.56 3348.53 1947.31 Q3348.53 1956.04 3345.46 1960.65 Q3342.4 1965.23 3336.59 1965.23 Q3330.78 1965.23 3327.7 1960.65 Q3324.65 1956.04 3324.65 1947.31 Q3324.65 1938.56 3327.7 1933.98 Q3330.78 1929.37 3336.59 1929.37 Z\" fill=\"#000000\" fill-rule=\"evenodd\" fill-opacity=\"1\" /><polyline clip-path=\"url(#clip252)\" style=\"stroke:#000000; stroke-linecap:butt; stroke-linejoin:round; stroke-width:2; stroke-opacity:0.1; fill:none\" points=\"\n",
       "  128.177,1891.09 3952.76,1891.09 \n",
       "  \"/>\n",
       "<polyline clip-path=\"url(#clip252)\" style=\"stroke:#000000; stroke-linecap:butt; stroke-linejoin:round; stroke-width:2; stroke-opacity:0.1; fill:none\" points=\"\n",
       "  128.177,1627.68 3952.76,1627.68 \n",
       "  \"/>\n",
       "<polyline clip-path=\"url(#clip252)\" style=\"stroke:#000000; stroke-linecap:butt; stroke-linejoin:round; stroke-width:2; stroke-opacity:0.1; fill:none\" points=\"\n",
       "  128.177,1364.28 3952.76,1364.28 \n",
       "  \"/>\n",
       "<polyline clip-path=\"url(#clip252)\" style=\"stroke:#000000; stroke-linecap:butt; stroke-linejoin:round; stroke-width:2; stroke-opacity:0.1; fill:none\" points=\"\n",
       "  128.177,1100.87 3952.76,1100.87 \n",
       "  \"/>\n",
       "<polyline clip-path=\"url(#clip252)\" style=\"stroke:#000000; stroke-linecap:butt; stroke-linejoin:round; stroke-width:2; stroke-opacity:0.1; fill:none\" points=\"\n",
       "  128.177,837.463 3952.76,837.463 \n",
       "  \"/>\n",
       "<polyline clip-path=\"url(#clip252)\" style=\"stroke:#000000; stroke-linecap:butt; stroke-linejoin:round; stroke-width:2; stroke-opacity:0.1; fill:none\" points=\"\n",
       "  128.177,574.057 3952.76,574.057 \n",
       "  \"/>\n",
       "<polyline clip-path=\"url(#clip252)\" style=\"stroke:#000000; stroke-linecap:butt; stroke-linejoin:round; stroke-width:2; stroke-opacity:0.1; fill:none\" points=\"\n",
       "  128.177,310.65 3952.76,310.65 \n",
       "  \"/>\n",
       "<polyline clip-path=\"url(#clip252)\" style=\"stroke:#000000; stroke-linecap:butt; stroke-linejoin:round; stroke-width:2; stroke-opacity:0.1; fill:none\" points=\"\n",
       "  128.177,47.2441 3952.76,47.2441 \n",
       "  \"/>\n",
       "<polyline clip-path=\"url(#clip250)\" style=\"stroke:#000000; stroke-linecap:butt; stroke-linejoin:round; stroke-width:4; stroke-opacity:1; fill:none\" points=\"\n",
       "  128.177,1891.09 128.177,47.2441 \n",
       "  \"/>\n",
       "<polyline clip-path=\"url(#clip250)\" style=\"stroke:#000000; stroke-linecap:butt; stroke-linejoin:round; stroke-width:4; stroke-opacity:1; fill:none\" points=\"\n",
       "  128.177,1891.09 174.072,1891.09 \n",
       "  \"/>\n",
       "<polyline clip-path=\"url(#clip250)\" style=\"stroke:#000000; stroke-linecap:butt; stroke-linejoin:round; stroke-width:4; stroke-opacity:1; fill:none\" points=\"\n",
       "  128.177,1627.68 174.072,1627.68 \n",
       "  \"/>\n",
       "<polyline clip-path=\"url(#clip250)\" style=\"stroke:#000000; stroke-linecap:butt; stroke-linejoin:round; stroke-width:4; stroke-opacity:1; fill:none\" points=\"\n",
       "  128.177,1364.28 174.072,1364.28 \n",
       "  \"/>\n",
       "<polyline clip-path=\"url(#clip250)\" style=\"stroke:#000000; stroke-linecap:butt; stroke-linejoin:round; stroke-width:4; stroke-opacity:1; fill:none\" points=\"\n",
       "  128.177,1100.87 174.072,1100.87 \n",
       "  \"/>\n",
       "<polyline clip-path=\"url(#clip250)\" style=\"stroke:#000000; stroke-linecap:butt; stroke-linejoin:round; stroke-width:4; stroke-opacity:1; fill:none\" points=\"\n",
       "  128.177,837.463 174.072,837.463 \n",
       "  \"/>\n",
       "<polyline clip-path=\"url(#clip250)\" style=\"stroke:#000000; stroke-linecap:butt; stroke-linejoin:round; stroke-width:4; stroke-opacity:1; fill:none\" points=\"\n",
       "  128.177,574.057 174.072,574.057 \n",
       "  \"/>\n",
       "<polyline clip-path=\"url(#clip250)\" style=\"stroke:#000000; stroke-linecap:butt; stroke-linejoin:round; stroke-width:4; stroke-opacity:1; fill:none\" points=\"\n",
       "  128.177,310.65 174.072,310.65 \n",
       "  \"/>\n",
       "<polyline clip-path=\"url(#clip250)\" style=\"stroke:#000000; stroke-linecap:butt; stroke-linejoin:round; stroke-width:4; stroke-opacity:1; fill:none\" points=\"\n",
       "  128.177,47.2441 174.072,47.2441 \n",
       "  \"/>\n",
       "<path clip-path=\"url(#clip250)\" d=\"M56.2328 1876.89 Q52.6217 1876.89 50.793 1880.45 Q48.9875 1883.99 48.9875 1891.12 Q48.9875 1898.23 50.793 1901.79 Q52.6217 1905.34 56.2328 1905.34 Q59.867 1905.34 61.6726 1901.79 Q63.5013 1898.23 63.5013 1891.12 Q63.5013 1883.99 61.6726 1880.45 Q59.867 1876.89 56.2328 1876.89 M56.2328 1873.18 Q62.0429 1873.18 65.0985 1877.79 Q68.1772 1882.37 68.1772 1891.12 Q68.1772 1899.85 65.0985 1904.46 Q62.0429 1909.04 56.2328 1909.04 Q50.4226 1909.04 47.344 1904.46 Q44.2884 1899.85 44.2884 1891.12 Q44.2884 1882.37 47.344 1877.79 Q50.4226 1873.18 56.2328 1873.18 Z\" fill=\"#000000\" fill-rule=\"evenodd\" fill-opacity=\"1\" /><path clip-path=\"url(#clip250)\" d=\"M48.2699 1641.03 L55.9087 1641.03 L55.9087 1614.66 L47.5986 1616.33 L47.5986 1612.07 L55.8624 1610.4 L60.5383 1610.4 L60.5383 1641.03 L68.1772 1641.03 L68.1772 1644.96 L48.2699 1644.96 L48.2699 1641.03 Z\" fill=\"#000000\" fill-rule=\"evenodd\" fill-opacity=\"1\" /><path clip-path=\"url(#clip250)\" d=\"M51.8578 1377.62 L68.1772 1377.62 L68.1772 1381.56 L46.2328 1381.56 L46.2328 1377.62 Q48.8949 1374.87 53.4782 1370.24 Q58.0846 1365.58 59.2652 1364.24 Q61.5105 1361.72 62.3902 1359.98 Q63.2929 1358.22 63.2929 1356.53 Q63.2929 1353.78 61.3485 1352.04 Q59.4272 1350.31 56.3254 1350.31 Q54.1263 1350.31 51.6726 1351.07 Q49.2421 1351.83 46.4643 1353.38 L46.4643 1348.66 Q49.2884 1347.53 51.7421 1346.95 Q54.1958 1346.37 56.2328 1346.37 Q61.6031 1346.37 64.7976 1349.06 Q67.992 1351.74 67.992 1356.23 Q67.992 1358.36 67.1818 1360.28 Q66.3948 1362.18 64.2883 1364.77 Q63.7096 1365.44 60.6078 1368.66 Q57.5059 1371.86 51.8578 1377.62 Z\" fill=\"#000000\" fill-rule=\"evenodd\" fill-opacity=\"1\" /><path clip-path=\"url(#clip250)\" d=\"M61.0476 1099.51 Q64.404 1100.23 66.279 1102.5 Q68.1772 1104.77 68.1772 1108.1 Q68.1772 1113.22 64.6587 1116.02 Q61.1402 1118.82 54.6587 1118.82 Q52.4828 1118.82 50.168 1118.38 Q47.8764 1117.96 45.4227 1117.11 L45.4227 1112.59 Q47.3671 1113.73 49.6819 1114.31 Q51.9967 1114.89 54.5198 1114.89 Q58.918 1114.89 61.2096 1113.15 Q63.5244 1111.41 63.5244 1108.1 Q63.5244 1105.05 61.3717 1103.33 Q59.242 1101.6 55.4226 1101.6 L51.3949 1101.6 L51.3949 1097.76 L55.6078 1097.76 Q59.0569 1097.76 60.8855 1096.39 Q62.7142 1095 62.7142 1092.41 Q62.7142 1089.75 60.8161 1088.33 Q58.9411 1086.9 55.4226 1086.9 Q53.5013 1086.9 51.3023 1087.32 Q49.1032 1087.73 46.4643 1088.61 L46.4643 1084.45 Q49.1264 1083.7 51.4412 1083.33 Q53.7791 1082.96 55.8393 1082.96 Q61.1633 1082.96 64.2652 1085.39 Q67.367 1087.8 67.367 1091.92 Q67.367 1094.79 65.7235 1096.78 Q64.08 1098.75 61.0476 1099.51 Z\" fill=\"#000000\" fill-rule=\"evenodd\" fill-opacity=\"1\" /><path clip-path=\"url(#clip250)\" d=\"M58.5939 824.257 L46.7884 842.706 L58.5939 842.706 L58.5939 824.257 M57.367 820.183 L63.2466 820.183 L63.2466 842.706 L68.1772 842.706 L68.1772 846.595 L63.2466 846.595 L63.2466 854.743 L58.5939 854.743 L58.5939 846.595 L42.9921 846.595 L42.9921 842.081 L57.367 820.183 Z\" fill=\"#000000\" fill-rule=\"evenodd\" fill-opacity=\"1\" /><path clip-path=\"url(#clip250)\" d=\"M47.2745 556.777 L65.6309 556.777 L65.6309 560.712 L51.5569 560.712 L51.5569 569.184 Q52.5754 568.837 53.5939 568.675 Q54.6124 568.49 55.6309 568.49 Q61.418 568.49 64.7976 571.661 Q68.1772 574.832 68.1772 580.249 Q68.1772 585.827 64.705 588.929 Q61.2328 592.008 54.9134 592.008 Q52.7374 592.008 50.4689 591.638 Q48.2236 591.267 45.8162 590.526 L45.8162 585.827 Q47.8995 586.962 50.1217 587.517 Q52.3439 588.073 54.8208 588.073 Q58.8254 588.073 61.1633 585.966 Q63.5013 583.86 63.5013 580.249 Q63.5013 576.638 61.1633 574.531 Q58.8254 572.425 54.8208 572.425 Q52.9458 572.425 51.0708 572.841 Q49.2189 573.258 47.2745 574.138 L47.2745 556.777 Z\" fill=\"#000000\" fill-rule=\"evenodd\" fill-opacity=\"1\" /><path clip-path=\"url(#clip250)\" d=\"M56.6495 308.787 Q53.5013 308.787 51.6495 310.94 Q49.8208 313.092 49.8208 316.842 Q49.8208 320.569 51.6495 322.745 Q53.5013 324.898 56.6495 324.898 Q59.7976 324.898 61.6263 322.745 Q63.4781 320.569 63.4781 316.842 Q63.4781 313.092 61.6263 310.94 Q59.7976 308.787 56.6495 308.787 M65.9318 294.134 L65.9318 298.393 Q64.1726 297.56 62.367 297.12 Q60.5846 296.681 58.8254 296.681 Q54.1958 296.681 51.7421 299.805 Q49.3115 302.93 48.9643 309.25 Q50.33 307.236 52.3902 306.171 Q54.4504 305.083 56.9272 305.083 Q62.1355 305.083 65.1448 308.255 Q68.1772 311.403 68.1772 316.842 Q68.1772 322.166 65.029 325.384 Q61.8809 328.602 56.6495 328.602 Q50.6541 328.602 47.4828 324.018 Q44.3116 319.412 44.3116 310.685 Q44.3116 302.491 48.2004 297.63 Q52.0893 292.745 58.6402 292.745 Q60.3994 292.745 62.1818 293.093 Q63.9874 293.44 65.9318 294.134 Z\" fill=\"#000000\" fill-rule=\"evenodd\" fill-opacity=\"1\" /><path clip-path=\"url(#clip250)\" d=\"M45.9551 29.9641 L68.1772 29.9641 L68.1772 31.9548 L55.6309 64.5241 L50.7467 64.5241 L62.5522 33.8993 L45.9551 33.8993 L45.9551 29.9641 Z\" fill=\"#000000\" fill-rule=\"evenodd\" fill-opacity=\"1\" /><circle clip-path=\"url(#clip252)\" cx=\"236.42\" cy=\"1100.87\" r=\"89\" fill=\"#009af9\" fill-rule=\"evenodd\" fill-opacity=\"1\" stroke=\"#000000\" stroke-opacity=\"1\" stroke-width=\"4\"/>\n",
       "<circle clip-path=\"url(#clip252)\" cx=\"707.041\" cy=\"1100.87\" r=\"90\" fill=\"#e26f46\" fill-rule=\"evenodd\" fill-opacity=\"1\" stroke=\"#000000\" stroke-opacity=\"1\" stroke-width=\"4\"/>\n",
       "<circle clip-path=\"url(#clip252)\" cx=\"1229.95\" cy=\"1100.87\" r=\"16\" fill=\"#3da44d\" fill-rule=\"evenodd\" fill-opacity=\"1\" stroke=\"#000000\" stroke-opacity=\"1\" stroke-width=\"4\"/>\n",
       "<circle clip-path=\"url(#clip252)\" cx=\"1752.86\" cy=\"1100.87\" r=\"5\" fill=\"#c271d2\" fill-rule=\"evenodd\" fill-opacity=\"1\" stroke=\"#000000\" stroke-opacity=\"1\" stroke-width=\"4\"/>\n",
       "<circle clip-path=\"url(#clip252)\" cx=\"2275.78\" cy=\"1100.87\" r=\"24\" fill=\"#ac8d18\" fill-rule=\"evenodd\" fill-opacity=\"1\" stroke=\"#000000\" stroke-opacity=\"1\" stroke-width=\"4\"/>\n",
       "<circle clip-path=\"url(#clip252)\" cx=\"2798.69\" cy=\"1100.87\" r=\"59\" fill=\"#00a9ad\" fill-rule=\"evenodd\" fill-opacity=\"1\" stroke=\"#000000\" stroke-opacity=\"1\" stroke-width=\"4\"/>\n",
       "<circle clip-path=\"url(#clip252)\" cx=\"3321.6\" cy=\"1100.87\" r=\"11\" fill=\"#ed5d92\" fill-rule=\"evenodd\" fill-opacity=\"1\" stroke=\"#000000\" stroke-opacity=\"1\" stroke-width=\"4\"/>\n",
       "<circle clip-path=\"url(#clip252)\" cx=\"3844.51\" cy=\"1100.87\" r=\"61\" fill=\"#c68125\" fill-rule=\"evenodd\" fill-opacity=\"1\" stroke=\"#000000\" stroke-opacity=\"1\" stroke-width=\"4\"/>\n",
       "<circle clip-path=\"url(#clip252)\" cx=\"236.42\" cy=\"837.463\" r=\"1\" fill=\"#00a98d\" fill-rule=\"evenodd\" fill-opacity=\"1\" stroke=\"#000000\" stroke-opacity=\"1\" stroke-width=\"4\"/>\n",
       "<circle clip-path=\"url(#clip252)\" cx=\"707.041\" cy=\"837.463\" r=\"53\" fill=\"#8e971d\" fill-rule=\"evenodd\" fill-opacity=\"1\" stroke=\"#000000\" stroke-opacity=\"1\" stroke-width=\"4\"/>\n",
       "<circle clip-path=\"url(#clip252)\" cx=\"1229.95\" cy=\"837.463\" r=\"4\" fill=\"#00a8cb\" fill-rule=\"evenodd\" fill-opacity=\"1\" stroke=\"#000000\" stroke-opacity=\"1\" stroke-width=\"4\"/>\n",
       "<circle clip-path=\"url(#clip252)\" cx=\"1752.86\" cy=\"837.463\" r=\"76\" fill=\"#9b7fe8\" fill-rule=\"evenodd\" fill-opacity=\"1\" stroke=\"#000000\" stroke-opacity=\"1\" stroke-width=\"4\"/>\n",
       "<circle clip-path=\"url(#clip252)\" cx=\"2275.78\" cy=\"837.463\" r=\"25\" fill=\"#608cf6\" fill-rule=\"evenodd\" fill-opacity=\"1\" stroke=\"#000000\" stroke-opacity=\"1\" stroke-width=\"4\"/>\n",
       "<circle clip-path=\"url(#clip252)\" cx=\"2798.69\" cy=\"837.463\" r=\"71\" fill=\"#f05f73\" fill-rule=\"evenodd\" fill-opacity=\"1\" stroke=\"#000000\" stroke-opacity=\"1\" stroke-width=\"4\"/>\n",
       "<circle clip-path=\"url(#clip252)\" cx=\"3321.6\" cy=\"837.463\" r=\"26\" fill=\"#dd64b5\" fill-rule=\"evenodd\" fill-opacity=\"1\" stroke=\"#000000\" stroke-opacity=\"1\" stroke-width=\"4\"/>\n",
       "<circle clip-path=\"url(#clip252)\" cx=\"3844.51\" cy=\"837.463\" r=\"101\" fill=\"#6b9e32\" fill-rule=\"evenodd\" fill-opacity=\"1\" stroke=\"#000000\" stroke-opacity=\"1\" stroke-width=\"4\"/>\n",
       "<circle clip-path=\"url(#clip252)\" cx=\"236.42\" cy=\"574.057\" r=\"125\" fill=\"#009af9\" fill-rule=\"evenodd\" fill-opacity=\"1\" stroke=\"#000000\" stroke-opacity=\"1\" stroke-width=\"4\"/>\n",
       "<circle clip-path=\"url(#clip252)\" cx=\"707.041\" cy=\"574.057\" r=\"17\" fill=\"#e26f46\" fill-rule=\"evenodd\" fill-opacity=\"1\" stroke=\"#000000\" stroke-opacity=\"1\" stroke-width=\"4\"/>\n",
       "<circle clip-path=\"url(#clip252)\" cx=\"1229.95\" cy=\"574.057\" r=\"33\" fill=\"#3da44d\" fill-rule=\"evenodd\" fill-opacity=\"1\" stroke=\"#000000\" stroke-opacity=\"1\" stroke-width=\"4\"/>\n",
       "<circle clip-path=\"url(#clip252)\" cx=\"1752.86\" cy=\"574.057\" r=\"62\" fill=\"#c271d2\" fill-rule=\"evenodd\" fill-opacity=\"1\" stroke=\"#000000\" stroke-opacity=\"1\" stroke-width=\"4\"/>\n",
       "<circle clip-path=\"url(#clip252)\" cx=\"2275.78\" cy=\"574.057\" r=\"13\" fill=\"#ac8d18\" fill-rule=\"evenodd\" fill-opacity=\"1\" stroke=\"#000000\" stroke-opacity=\"1\" stroke-width=\"4\"/>\n",
       "<circle clip-path=\"url(#clip252)\" cx=\"2798.69\" cy=\"574.057\" r=\"1\" fill=\"#00a9ad\" fill-rule=\"evenodd\" fill-opacity=\"1\" stroke=\"#000000\" stroke-opacity=\"1\" stroke-width=\"4\"/>\n",
       "<circle clip-path=\"url(#clip252)\" cx=\"3321.6\" cy=\"574.057\" r=\"81\" fill=\"#ed5d92\" fill-rule=\"evenodd\" fill-opacity=\"1\" stroke=\"#000000\" stroke-opacity=\"1\" stroke-width=\"4\"/>\n",
       "<circle clip-path=\"url(#clip252)\" cx=\"3844.51\" cy=\"574.057\" r=\"23\" fill=\"#c68125\" fill-rule=\"evenodd\" fill-opacity=\"1\" stroke=\"#000000\" stroke-opacity=\"1\" stroke-width=\"4\"/>\n",
       "</svg>\n"
      ]
     },
     "execution_count": 120,
     "metadata": {},
     "output_type": "execute_result"
    }
   ],
   "source": [
    "using Plots;\n",
    "plot!()\n",
    "scatter([1],[3],markersize= p3_3[1]*100,legend = false,size=(500,500),ylims=(0,7))\n",
    "scatter!([10],[3],markersize= p3_3[2]*100,legend = false,size=(500,500),ylims=(0,7))\n",
    "scatter!([20],[3],markersize= p3_3[3]*100,legend = false,size=(500,500),ylims=(0,7))\n",
    "scatter!([30],[3],markersize= p3_3[4]*100,legend = false,size=(500,500),ylims=(0,7))\n",
    "scatter!([40],[3],markersize= p3_3[5]*100,legend = false,size=(500,500),ylims=(0,7))\n",
    "scatter!([50],[3],markersize= p3_3[6]*100,legend = false,size=(500,500),ylims=(0,7))\n",
    "scatter!([60],[3],markersize= p3_3[7]*100,legend = false,size=(500,500),ylims=(0,7))\n",
    "scatter!([70],[3],markersize= p3_3[8]*100,legend = false,size=(500,500),ylims=(0,7))\n",
    "###\n",
    "scatter!([1],[4],markersize= p3_4[1]*100,legend = false,size=(500,500),ylims=(0,7))\n",
    "scatter!([10],[4],markersize= p3_4[2]*100,legend = false,size=(500,500),ylims=(0,7))\n",
    "scatter!([20],[4],markersize= p3_4[3]*100,legend = false,size=(500,500),ylims=(0,7))\n",
    "scatter!([30],[4],markersize= p3_4[4]*100,legend = false,size=(500,500),ylims=(0,7))\n",
    "scatter!([40],[4],markersize= p3_4[5]*100,legend = false,size=(500,500),ylims=(0,7))\n",
    "scatter!([50],[4],markersize= p3_4[6]*100,legend = false,size=(500,500),ylims=(0,7))\n",
    "scatter!([60],[4],markersize= p3_4[7]*100,legend = false,size=(500,500),ylims=(0,7))\n",
    "scatter!([70],[4],markersize= p3_4[8]*100,legend = false,size=(500,500),ylims=(0,7))\n",
    "###\n",
    "scatter!([1],[5],markersize= p3_5[1]*100,legend = false,size=(500,500),ylims=(0,7))\n",
    "scatter!([10],[5],markersize= p3_5[2]*100,legend = false,size=(500,500),ylims=(0,7))\n",
    "scatter!([20],[5],markersize= p3_5[3]*100,legend = false,size=(500,500),ylims=(0,7))\n",
    "scatter!([30],[5],markersize= p3_5[4]*100,legend = false,size=(500,500),ylims=(0,7))\n",
    "scatter!([40],[5],markersize= p3_5[5]*100,legend = false,size=(500,500),ylims=(0,7))\n",
    "scatter!([50],[5],markersize= p3_5[6]*100,legend = false,size=(500,500),ylims=(0,7))\n",
    "scatter!([60],[5],markersize= p3_5[7]*100,legend = false,size=(500,500),ylims=(0,7))\n",
    "scatter!([70],[5],markersize= p3_5[8]*100,legend = false,size=(500,500),ylims=(0,7))\n",
    "plot!(size=(1000,500))"
   ]
  },
  {
   "cell_type": "markdown",
   "metadata": {},
   "source": [
    "## All plots toguether with gate cases [N=4,D=4], [N=4,D=5],[N=4,D=10]"
   ]
  },
  {
   "cell_type": "code",
   "execution_count": null,
   "metadata": {},
   "outputs": [],
   "source": []
  },
  {
   "cell_type": "code",
   "execution_count": 130,
   "metadata": {
    "ExecuteTime": {
     "end_time": "2021-07-11T09:26:33.024000+01:00",
     "start_time": "2021-07-11T08:26:32.882Z"
    }
   },
   "outputs": [
    {
     "data": {
      "image/svg+xml": [
       "<?xml version=\"1.0\" encoding=\"utf-8\"?>\n",
       "<svg xmlns=\"http://www.w3.org/2000/svg\" xmlns:xlink=\"http://www.w3.org/1999/xlink\" width=\"1000\" height=\"500\" viewBox=\"0 0 4000 2000\">\n",
       "<defs>\n",
       "  <clipPath id=\"clip450\">\n",
       "    <rect x=\"0\" y=\"0\" width=\"4000\" height=\"2000\"/>\n",
       "  </clipPath>\n",
       "</defs>\n",
       "<path clip-path=\"url(#clip450)\" d=\"\n",
       "M0 2000 L4000 2000 L4000 0 L0 0  Z\n",
       "  \" fill=\"#ffffff\" fill-rule=\"evenodd\" fill-opacity=\"1\"/>\n",
       "<defs>\n",
       "  <clipPath id=\"clip451\">\n",
       "    <rect x=\"800\" y=\"0\" width=\"2801\" height=\"2000\"/>\n",
       "  </clipPath>\n",
       "</defs>\n",
       "<path clip-path=\"url(#clip450)\" d=\"\n",
       "M154.959 1891.09 L3952.76 1891.09 L3952.76 47.2441 L154.959 47.2441  Z\n",
       "  \" fill=\"#ffffff\" fill-rule=\"evenodd\" fill-opacity=\"1\"/>\n",
       "<defs>\n",
       "  <clipPath id=\"clip452\">\n",
       "    <rect x=\"154\" y=\"47\" width=\"3799\" height=\"1845\"/>\n",
       "  </clipPath>\n",
       "</defs>\n",
       "<polyline clip-path=\"url(#clip452)\" style=\"stroke:#000000; stroke-linecap:butt; stroke-linejoin:round; stroke-width:2; stroke-opacity:0.1; fill:none\" points=\"\n",
       "  238.398,1891.09 238.398,47.2441 \n",
       "  \"/>\n",
       "<polyline clip-path=\"url(#clip452)\" style=\"stroke:#000000; stroke-linecap:butt; stroke-linejoin:round; stroke-width:2; stroke-opacity:0.1; fill:none\" points=\"\n",
       "  1440.69,1891.09 1440.69,47.2441 \n",
       "  \"/>\n",
       "<polyline clip-path=\"url(#clip452)\" style=\"stroke:#000000; stroke-linecap:butt; stroke-linejoin:round; stroke-width:2; stroke-opacity:0.1; fill:none\" points=\"\n",
       "  2642.98,1891.09 2642.98,47.2441 \n",
       "  \"/>\n",
       "<polyline clip-path=\"url(#clip452)\" style=\"stroke:#000000; stroke-linecap:butt; stroke-linejoin:round; stroke-width:2; stroke-opacity:0.1; fill:none\" points=\"\n",
       "  3845.27,1891.09 3845.27,47.2441 \n",
       "  \"/>\n",
       "<polyline clip-path=\"url(#clip450)\" style=\"stroke:#000000; stroke-linecap:butt; stroke-linejoin:round; stroke-width:4; stroke-opacity:1; fill:none\" points=\"\n",
       "  154.959,1891.09 3952.76,1891.09 \n",
       "  \"/>\n",
       "<polyline clip-path=\"url(#clip450)\" style=\"stroke:#000000; stroke-linecap:butt; stroke-linejoin:round; stroke-width:4; stroke-opacity:1; fill:none\" points=\"\n",
       "  238.398,1891.09 238.398,1868.96 \n",
       "  \"/>\n",
       "<polyline clip-path=\"url(#clip450)\" style=\"stroke:#000000; stroke-linecap:butt; stroke-linejoin:round; stroke-width:4; stroke-opacity:1; fill:none\" points=\"\n",
       "  1440.69,1891.09 1440.69,1868.96 \n",
       "  \"/>\n",
       "<polyline clip-path=\"url(#clip450)\" style=\"stroke:#000000; stroke-linecap:butt; stroke-linejoin:round; stroke-width:4; stroke-opacity:1; fill:none\" points=\"\n",
       "  2642.98,1891.09 2642.98,1868.96 \n",
       "  \"/>\n",
       "<polyline clip-path=\"url(#clip450)\" style=\"stroke:#000000; stroke-linecap:butt; stroke-linejoin:round; stroke-width:4; stroke-opacity:1; fill:none\" points=\"\n",
       "  3845.27,1891.09 3845.27,1868.96 \n",
       "  \"/>\n",
       "<path clip-path=\"url(#clip450)\" d=\"M238.398 1933.08 Q234.787 1933.08 232.959 1936.64 Q231.153 1940.19 231.153 1947.31 Q231.153 1954.42 232.959 1957.99 Q234.787 1961.53 238.398 1961.53 Q242.033 1961.53 243.838 1957.99 Q245.667 1954.42 245.667 1947.31 Q245.667 1940.19 243.838 1936.64 Q242.033 1933.08 238.398 1933.08 M238.398 1929.37 Q244.209 1929.37 247.264 1933.98 Q250.343 1938.56 250.343 1947.31 Q250.343 1956.04 247.264 1960.65 Q244.209 1965.23 238.398 1965.23 Q232.588 1965.23 229.51 1960.65 Q226.454 1956.04 226.454 1947.31 Q226.454 1938.56 229.51 1933.98 Q232.588 1929.37 238.398 1929.37 Z\" fill=\"#000000\" fill-rule=\"evenodd\" fill-opacity=\"1\" /><path clip-path=\"url(#clip450)\" d=\"M1415.39 1930 L1433.74 1930 L1433.74 1933.94 L1419.67 1933.94 L1419.67 1942.41 Q1420.69 1942.06 1421.71 1941.9 Q1422.73 1941.71 1423.74 1941.71 Q1429.53 1941.71 1432.91 1944.88 Q1436.29 1948.06 1436.29 1953.47 Q1436.29 1959.05 1432.82 1962.15 Q1429.35 1965.23 1423.03 1965.23 Q1420.85 1965.23 1418.58 1964.86 Q1416.34 1964.49 1413.93 1963.75 L1413.93 1959.05 Q1416.01 1960.18 1418.24 1960.74 Q1420.46 1961.3 1422.93 1961.3 Q1426.94 1961.3 1429.28 1959.19 Q1431.62 1957.08 1431.62 1953.47 Q1431.62 1949.86 1429.28 1947.75 Q1426.94 1945.65 1422.93 1945.65 Q1421.06 1945.65 1419.18 1946.06 Q1417.33 1946.48 1415.39 1947.36 L1415.39 1930 Z\" fill=\"#000000\" fill-rule=\"evenodd\" fill-opacity=\"1\" /><path clip-path=\"url(#clip450)\" d=\"M1455.5 1933.08 Q1451.89 1933.08 1450.06 1936.64 Q1448.26 1940.19 1448.26 1947.31 Q1448.26 1954.42 1450.06 1957.99 Q1451.89 1961.53 1455.5 1961.53 Q1459.14 1961.53 1460.94 1957.99 Q1462.77 1954.42 1462.77 1947.31 Q1462.77 1940.19 1460.94 1936.64 Q1459.14 1933.08 1455.5 1933.08 M1455.5 1929.37 Q1461.31 1929.37 1464.37 1933.98 Q1467.45 1938.56 1467.45 1947.31 Q1467.45 1956.04 1464.37 1960.65 Q1461.31 1965.23 1455.5 1965.23 Q1449.69 1965.23 1446.62 1960.65 Q1443.56 1956.04 1443.56 1947.31 Q1443.56 1938.56 1446.62 1933.98 Q1449.69 1929.37 1455.5 1929.37 Z\" fill=\"#000000\" fill-rule=\"evenodd\" fill-opacity=\"1\" /><path clip-path=\"url(#clip450)\" d=\"M2602.59 1960.62 L2610.23 1960.62 L2610.23 1934.26 L2601.92 1935.93 L2601.92 1931.67 L2610.18 1930 L2614.86 1930 L2614.86 1960.62 L2622.49 1960.62 L2622.49 1964.56 L2602.59 1964.56 L2602.59 1960.62 Z\" fill=\"#000000\" fill-rule=\"evenodd\" fill-opacity=\"1\" /><path clip-path=\"url(#clip450)\" d=\"M2641.94 1933.08 Q2638.33 1933.08 2636.5 1936.64 Q2634.69 1940.19 2634.69 1947.31 Q2634.69 1954.42 2636.5 1957.99 Q2638.33 1961.53 2641.94 1961.53 Q2645.57 1961.53 2647.38 1957.99 Q2649.21 1954.42 2649.21 1947.31 Q2649.21 1940.19 2647.38 1936.64 Q2645.57 1933.08 2641.94 1933.08 M2641.94 1929.37 Q2647.75 1929.37 2650.8 1933.98 Q2653.88 1938.56 2653.88 1947.31 Q2653.88 1956.04 2650.8 1960.65 Q2647.75 1965.23 2641.94 1965.23 Q2636.13 1965.23 2633.05 1960.65 Q2629.99 1956.04 2629.99 1947.31 Q2629.99 1938.56 2633.05 1933.98 Q2636.13 1929.37 2641.94 1929.37 Z\" fill=\"#000000\" fill-rule=\"evenodd\" fill-opacity=\"1\" /><path clip-path=\"url(#clip450)\" d=\"M2672.1 1933.08 Q2668.49 1933.08 2666.66 1936.64 Q2664.86 1940.19 2664.86 1947.31 Q2664.86 1954.42 2666.66 1957.99 Q2668.49 1961.53 2672.1 1961.53 Q2675.73 1961.53 2677.54 1957.99 Q2679.37 1954.42 2679.37 1947.31 Q2679.37 1940.19 2677.54 1936.64 Q2675.73 1933.08 2672.1 1933.08 M2672.1 1929.37 Q2677.91 1929.37 2680.97 1933.98 Q2684.04 1938.56 2684.04 1947.31 Q2684.04 1956.04 2680.97 1960.65 Q2677.91 1965.23 2672.1 1965.23 Q2666.29 1965.23 2663.21 1960.65 Q2660.16 1956.04 2660.16 1947.31 Q2660.16 1938.56 2663.21 1933.98 Q2666.29 1929.37 2672.1 1929.37 Z\" fill=\"#000000\" fill-rule=\"evenodd\" fill-opacity=\"1\" /><path clip-path=\"url(#clip450)\" d=\"M3804.88 1960.62 L3812.52 1960.62 L3812.52 1934.26 L3804.21 1935.93 L3804.21 1931.67 L3812.47 1930 L3817.15 1930 L3817.15 1960.62 L3824.79 1960.62 L3824.79 1964.56 L3804.88 1964.56 L3804.88 1960.62 Z\" fill=\"#000000\" fill-rule=\"evenodd\" fill-opacity=\"1\" /><path clip-path=\"url(#clip450)\" d=\"M3834.28 1930 L3852.63 1930 L3852.63 1933.94 L3838.56 1933.94 L3838.56 1942.41 Q3839.58 1942.06 3840.6 1941.9 Q3841.61 1941.71 3842.63 1941.71 Q3848.42 1941.71 3851.8 1944.88 Q3855.18 1948.06 3855.18 1953.47 Q3855.18 1959.05 3851.71 1962.15 Q3848.23 1965.23 3841.91 1965.23 Q3839.74 1965.23 3837.47 1964.86 Q3835.22 1964.49 3832.82 1963.75 L3832.82 1959.05 Q3834.9 1960.18 3837.12 1960.74 Q3839.35 1961.3 3841.82 1961.3 Q3845.83 1961.3 3848.16 1959.19 Q3850.5 1957.08 3850.5 1953.47 Q3850.5 1949.86 3848.16 1947.75 Q3845.83 1945.65 3841.82 1945.65 Q3839.95 1945.65 3838.07 1946.06 Q3836.22 1946.48 3834.28 1947.36 L3834.28 1930 Z\" fill=\"#000000\" fill-rule=\"evenodd\" fill-opacity=\"1\" /><path clip-path=\"url(#clip450)\" d=\"M3874.39 1933.08 Q3870.78 1933.08 3868.95 1936.64 Q3867.15 1940.19 3867.15 1947.31 Q3867.15 1954.42 3868.95 1957.99 Q3870.78 1961.53 3874.39 1961.53 Q3878.03 1961.53 3879.83 1957.99 Q3881.66 1954.42 3881.66 1947.31 Q3881.66 1940.19 3879.83 1936.64 Q3878.03 1933.08 3874.39 1933.08 M3874.39 1929.37 Q3880.2 1929.37 3883.26 1933.98 Q3886.34 1938.56 3886.34 1947.31 Q3886.34 1956.04 3883.26 1960.65 Q3880.2 1965.23 3874.39 1965.23 Q3868.58 1965.23 3865.5 1960.65 Q3862.45 1956.04 3862.45 1947.31 Q3862.45 1938.56 3865.5 1933.98 Q3868.58 1929.37 3874.39 1929.37 Z\" fill=\"#000000\" fill-rule=\"evenodd\" fill-opacity=\"1\" /><polyline clip-path=\"url(#clip452)\" style=\"stroke:#000000; stroke-linecap:butt; stroke-linejoin:round; stroke-width:2; stroke-opacity:0.1; fill:none\" points=\"\n",
       "  154.959,1891.09 3952.76,1891.09 \n",
       "  \"/>\n",
       "<polyline clip-path=\"url(#clip452)\" style=\"stroke:#000000; stroke-linecap:butt; stroke-linejoin:round; stroke-width:2; stroke-opacity:0.1; fill:none\" points=\"\n",
       "  154.959,1276.47 3952.76,1276.47 \n",
       "  \"/>\n",
       "<polyline clip-path=\"url(#clip452)\" style=\"stroke:#000000; stroke-linecap:butt; stroke-linejoin:round; stroke-width:2; stroke-opacity:0.1; fill:none\" points=\"\n",
       "  154.959,661.859 3952.76,661.859 \n",
       "  \"/>\n",
       "<polyline clip-path=\"url(#clip452)\" style=\"stroke:#000000; stroke-linecap:butt; stroke-linejoin:round; stroke-width:2; stroke-opacity:0.1; fill:none\" points=\"\n",
       "  154.959,47.2441 3952.76,47.2441 \n",
       "  \"/>\n",
       "<polyline clip-path=\"url(#clip450)\" style=\"stroke:#000000; stroke-linecap:butt; stroke-linejoin:round; stroke-width:4; stroke-opacity:1; fill:none\" points=\"\n",
       "  154.959,1891.09 154.959,47.2441 \n",
       "  \"/>\n",
       "<polyline clip-path=\"url(#clip450)\" style=\"stroke:#000000; stroke-linecap:butt; stroke-linejoin:round; stroke-width:4; stroke-opacity:1; fill:none\" points=\"\n",
       "  154.959,1891.09 200.533,1891.09 \n",
       "  \"/>\n",
       "<polyline clip-path=\"url(#clip450)\" style=\"stroke:#000000; stroke-linecap:butt; stroke-linejoin:round; stroke-width:4; stroke-opacity:1; fill:none\" points=\"\n",
       "  154.959,1276.47 200.533,1276.47 \n",
       "  \"/>\n",
       "<polyline clip-path=\"url(#clip450)\" style=\"stroke:#000000; stroke-linecap:butt; stroke-linejoin:round; stroke-width:4; stroke-opacity:1; fill:none\" points=\"\n",
       "  154.959,661.859 200.533,661.859 \n",
       "  \"/>\n",
       "<polyline clip-path=\"url(#clip450)\" style=\"stroke:#000000; stroke-linecap:butt; stroke-linejoin:round; stroke-width:4; stroke-opacity:1; fill:none\" points=\"\n",
       "  154.959,47.2441 200.533,47.2441 \n",
       "  \"/>\n",
       "<path clip-path=\"url(#clip450)\" d=\"M83.0151 1876.89 Q79.404 1876.89 77.5753 1880.45 Q75.7697 1883.99 75.7697 1891.12 Q75.7697 1898.23 77.5753 1901.79 Q79.404 1905.34 83.0151 1905.34 Q86.6493 1905.34 88.4548 1901.79 Q90.2835 1898.23 90.2835 1891.12 Q90.2835 1883.99 88.4548 1880.45 Q86.6493 1876.89 83.0151 1876.89 M83.0151 1873.18 Q88.8252 1873.18 91.8808 1877.79 Q94.9594 1882.37 94.9594 1891.12 Q94.9594 1899.85 91.8808 1904.46 Q88.8252 1909.04 83.0151 1909.04 Q77.2049 1909.04 74.1262 1904.46 Q71.0707 1899.85 71.0707 1891.12 Q71.0707 1882.37 74.1262 1877.79 Q77.2049 1873.18 83.0151 1873.18 Z\" fill=\"#000000\" fill-rule=\"evenodd\" fill-opacity=\"1\" /><path clip-path=\"url(#clip450)\" d=\"M74.0568 1259.19 L92.4132 1259.19 L92.4132 1263.13 L78.3392 1263.13 L78.3392 1271.6 Q79.3577 1271.25 80.3762 1271.09 Q81.3947 1270.91 82.4132 1270.91 Q88.2002 1270.91 91.5798 1274.08 Q94.9594 1277.25 94.9594 1282.67 Q94.9594 1288.24 91.4872 1291.35 Q88.015 1294.42 81.6956 1294.42 Q79.5197 1294.42 77.2512 1294.05 Q75.0058 1293.68 72.5984 1292.94 L72.5984 1288.24 Q74.6818 1289.38 76.904 1289.93 Q79.1262 1290.49 81.603 1290.49 Q85.6076 1290.49 87.9456 1288.38 Q90.2835 1286.28 90.2835 1282.67 Q90.2835 1279.05 87.9456 1276.95 Q85.6076 1274.84 81.603 1274.84 Q79.728 1274.84 77.8531 1275.26 Q76.0012 1275.67 74.0568 1276.55 L74.0568 1259.19 Z\" fill=\"#000000\" fill-rule=\"evenodd\" fill-opacity=\"1\" /><path clip-path=\"url(#clip450)\" d=\"M43.6634 675.204 L51.3023 675.204 L51.3023 648.838 L42.9921 650.505 L42.9921 646.245 L51.256 644.579 L55.9319 644.579 L55.9319 675.204 L63.5707 675.204 L63.5707 679.139 L43.6634 679.139 L43.6634 675.204 Z\" fill=\"#000000\" fill-rule=\"evenodd\" fill-opacity=\"1\" /><path clip-path=\"url(#clip450)\" d=\"M83.0151 647.657 Q79.404 647.657 77.5753 651.222 Q75.7697 654.764 75.7697 661.893 Q75.7697 669 77.5753 672.565 Q79.404 676.106 83.0151 676.106 Q86.6493 676.106 88.4548 672.565 Q90.2835 669 90.2835 661.893 Q90.2835 654.764 88.4548 651.222 Q86.6493 647.657 83.0151 647.657 M83.0151 643.954 Q88.8252 643.954 91.8808 648.56 Q94.9594 653.143 94.9594 661.893 Q94.9594 670.62 91.8808 675.227 Q88.8252 679.81 83.0151 679.81 Q77.2049 679.81 74.1262 675.227 Q71.0707 670.62 71.0707 661.893 Q71.0707 653.143 74.1262 648.56 Q77.2049 643.954 83.0151 643.954 Z\" fill=\"#000000\" fill-rule=\"evenodd\" fill-opacity=\"1\" /><path clip-path=\"url(#clip450)\" d=\"M44.6588 60.5889 L52.2976 60.5889 L52.2976 34.2233 L43.9875 35.89 L43.9875 31.6308 L52.2513 29.9641 L56.9272 29.9641 L56.9272 60.5889 L64.5661 60.5889 L64.5661 64.5241 L44.6588 64.5241 L44.6588 60.5889 Z\" fill=\"#000000\" fill-rule=\"evenodd\" fill-opacity=\"1\" /><path clip-path=\"url(#clip450)\" d=\"M74.0568 29.9641 L92.4132 29.9641 L92.4132 33.8993 L78.3392 33.8993 L78.3392 42.3714 Q79.3577 42.0242 80.3762 41.8622 Q81.3947 41.677 82.4132 41.677 Q88.2002 41.677 91.5798 44.8483 Q94.9594 48.0196 94.9594 53.4362 Q94.9594 59.0149 91.4872 62.1167 Q88.015 65.1954 81.6956 65.1954 Q79.5197 65.1954 77.2512 64.825 Q75.0058 64.4547 72.5984 63.7139 L72.5984 59.0149 Q74.6818 60.1491 76.904 60.7047 Q79.1262 61.2602 81.603 61.2602 Q85.6076 61.2602 87.9456 59.1538 Q90.2835 57.0473 90.2835 53.4362 Q90.2835 49.8251 87.9456 47.7186 Q85.6076 45.6122 81.603 45.6122 Q79.728 45.6122 77.8531 46.0288 Q76.0012 46.4455 74.0568 47.3251 L74.0568 29.9641 Z\" fill=\"#000000\" fill-rule=\"evenodd\" fill-opacity=\"1\" /><circle clip-path=\"url(#clip452)\" cx=\"262.444\" cy=\"1399.4\" r=\"42\" fill=\"#009af9\" fill-rule=\"evenodd\" fill-opacity=\"1\" stroke=\"#000000\" stroke-opacity=\"1\" stroke-width=\"4\"/>\n",
       "<circle clip-path=\"url(#clip452)\" cx=\"478.857\" cy=\"1399.4\" r=\"39\" fill=\"#e26f46\" fill-rule=\"evenodd\" fill-opacity=\"1\" stroke=\"#000000\" stroke-opacity=\"1\" stroke-width=\"4\"/>\n",
       "<circle clip-path=\"url(#clip452)\" cx=\"719.315\" cy=\"1399.4\" r=\"5\" fill=\"#3da44d\" fill-rule=\"evenodd\" fill-opacity=\"1\" stroke=\"#000000\" stroke-opacity=\"1\" stroke-width=\"4\"/>\n",
       "<circle clip-path=\"url(#clip452)\" cx=\"959.773\" cy=\"1399.4\" r=\"11\" fill=\"#c271d2\" fill-rule=\"evenodd\" fill-opacity=\"1\" stroke=\"#000000\" stroke-opacity=\"1\" stroke-width=\"4\"/>\n",
       "<circle clip-path=\"url(#clip452)\" cx=\"1200.23\" cy=\"1399.4\" r=\"7\" fill=\"#ac8d18\" fill-rule=\"evenodd\" fill-opacity=\"1\" stroke=\"#000000\" stroke-opacity=\"1\" stroke-width=\"4\"/>\n",
       "<circle clip-path=\"url(#clip452)\" cx=\"1440.69\" cy=\"1399.4\" r=\"1\" fill=\"#00a9ad\" fill-rule=\"evenodd\" fill-opacity=\"1\" stroke=\"#000000\" stroke-opacity=\"1\" stroke-width=\"4\"/>\n",
       "<circle clip-path=\"url(#clip452)\" cx=\"1681.15\" cy=\"1399.4\" r=\"4\" fill=\"#ed5d92\" fill-rule=\"evenodd\" fill-opacity=\"1\" stroke=\"#000000\" stroke-opacity=\"1\" stroke-width=\"4\"/>\n",
       "<circle clip-path=\"url(#clip452)\" cx=\"1921.61\" cy=\"1399.4\" r=\"24\" fill=\"#c68125\" fill-rule=\"evenodd\" fill-opacity=\"1\" stroke=\"#000000\" stroke-opacity=\"1\" stroke-width=\"4\"/>\n",
       "<circle clip-path=\"url(#clip452)\" cx=\"2162.06\" cy=\"1399.4\" r=\"59\" fill=\"#00a98d\" fill-rule=\"evenodd\" fill-opacity=\"1\" stroke=\"#000000\" stroke-opacity=\"1\" stroke-width=\"4\"/>\n",
       "<circle clip-path=\"url(#clip452)\" cx=\"2402.52\" cy=\"1399.4\" r=\"45\" fill=\"#8e971d\" fill-rule=\"evenodd\" fill-opacity=\"1\" stroke=\"#000000\" stroke-opacity=\"1\" stroke-width=\"4\"/>\n",
       "<circle clip-path=\"url(#clip452)\" cx=\"2642.98\" cy=\"1399.4\" r=\"16\" fill=\"#00a8cb\" fill-rule=\"evenodd\" fill-opacity=\"1\" stroke=\"#000000\" stroke-opacity=\"1\" stroke-width=\"4\"/>\n",
       "<circle clip-path=\"url(#clip452)\" cx=\"2883.44\" cy=\"1399.4\" r=\"15\" fill=\"#9b7fe8\" fill-rule=\"evenodd\" fill-opacity=\"1\" stroke=\"#000000\" stroke-opacity=\"1\" stroke-width=\"4\"/>\n",
       "<circle clip-path=\"url(#clip452)\" cx=\"3123.9\" cy=\"1399.4\" r=\"24\" fill=\"#608cf6\" fill-rule=\"evenodd\" fill-opacity=\"1\" stroke=\"#000000\" stroke-opacity=\"1\" stroke-width=\"4\"/>\n",
       "<circle clip-path=\"url(#clip452)\" cx=\"3364.35\" cy=\"1399.4\" r=\"10\" fill=\"#f05f73\" fill-rule=\"evenodd\" fill-opacity=\"1\" stroke=\"#000000\" stroke-opacity=\"1\" stroke-width=\"4\"/>\n",
       "<circle clip-path=\"url(#clip452)\" cx=\"3604.81\" cy=\"1399.4\" r=\"6\" fill=\"#dd64b5\" fill-rule=\"evenodd\" fill-opacity=\"1\" stroke=\"#000000\" stroke-opacity=\"1\" stroke-width=\"4\"/>\n",
       "<circle clip-path=\"url(#clip452)\" cx=\"3845.27\" cy=\"1399.4\" r=\"45\" fill=\"#6b9e32\" fill-rule=\"evenodd\" fill-opacity=\"1\" stroke=\"#000000\" stroke-opacity=\"1\" stroke-width=\"4\"/>\n",
       "<circle clip-path=\"url(#clip452)\" cx=\"262.444\" cy=\"1276.47\" r=\"71\" fill=\"#009af9\" fill-rule=\"evenodd\" fill-opacity=\"1\" stroke=\"#000000\" stroke-opacity=\"1\" stroke-width=\"4\"/>\n",
       "<circle clip-path=\"url(#clip452)\" cx=\"478.857\" cy=\"1276.47\" r=\"32\" fill=\"#e26f46\" fill-rule=\"evenodd\" fill-opacity=\"1\" stroke=\"#000000\" stroke-opacity=\"1\" stroke-width=\"4\"/>\n",
       "<circle clip-path=\"url(#clip452)\" cx=\"719.315\" cy=\"1276.47\" r=\"5\" fill=\"#3da44d\" fill-rule=\"evenodd\" fill-opacity=\"1\" stroke=\"#000000\" stroke-opacity=\"1\" stroke-width=\"4\"/>\n",
       "<circle clip-path=\"url(#clip452)\" cx=\"959.773\" cy=\"1276.47\" r=\"22\" fill=\"#c271d2\" fill-rule=\"evenodd\" fill-opacity=\"1\" stroke=\"#000000\" stroke-opacity=\"1\" stroke-width=\"4\"/>\n",
       "<circle clip-path=\"url(#clip452)\" cx=\"1200.23\" cy=\"1276.47\" r=\"99\" fill=\"#ac8d18\" fill-rule=\"evenodd\" fill-opacity=\"1\" stroke=\"#000000\" stroke-opacity=\"1\" stroke-width=\"4\"/>\n",
       "<circle clip-path=\"url(#clip452)\" cx=\"1440.69\" cy=\"1276.47\" r=\"47\" fill=\"#00a9ad\" fill-rule=\"evenodd\" fill-opacity=\"1\" stroke=\"#000000\" stroke-opacity=\"1\" stroke-width=\"4\"/>\n",
       "<circle clip-path=\"url(#clip452)\" cx=\"1681.15\" cy=\"1276.47\" r=\"6\" fill=\"#ed5d92\" fill-rule=\"evenodd\" fill-opacity=\"1\" stroke=\"#000000\" stroke-opacity=\"1\" stroke-width=\"4\"/>\n",
       "<circle clip-path=\"url(#clip452)\" cx=\"1921.61\" cy=\"1276.47\" r=\"16\" fill=\"#c68125\" fill-rule=\"evenodd\" fill-opacity=\"1\" stroke=\"#000000\" stroke-opacity=\"1\" stroke-width=\"4\"/>\n",
       "<circle clip-path=\"url(#clip452)\" cx=\"2162.06\" cy=\"1276.47\" r=\"8\" fill=\"#00a98d\" fill-rule=\"evenodd\" fill-opacity=\"1\" stroke=\"#000000\" stroke-opacity=\"1\" stroke-width=\"4\"/>\n",
       "<circle clip-path=\"url(#clip452)\" cx=\"2402.52\" cy=\"1276.47\" r=\"1\" fill=\"#8e971d\" fill-rule=\"evenodd\" fill-opacity=\"1\" stroke=\"#000000\" stroke-opacity=\"1\" stroke-width=\"4\"/>\n",
       "<circle clip-path=\"url(#clip452)\" style=\"fill:#00a8cb; stroke:none; fill-opacity:1\" cx=\"2642.98\" cy=\"1276.47\" r=\"2\"/>\n",
       "<circle clip-path=\"url(#clip452)\" cx=\"2883.44\" cy=\"1276.47\" r=\"17\" fill=\"#9b7fe8\" fill-rule=\"evenodd\" fill-opacity=\"1\" stroke=\"#000000\" stroke-opacity=\"1\" stroke-width=\"4\"/>\n",
       "<circle clip-path=\"url(#clip452)\" cx=\"3123.9\" cy=\"1276.47\" r=\"10\" fill=\"#608cf6\" fill-rule=\"evenodd\" fill-opacity=\"1\" stroke=\"#000000\" stroke-opacity=\"1\" stroke-width=\"4\"/>\n",
       "<circle clip-path=\"url(#clip452)\" cx=\"3364.35\" cy=\"1276.47\" r=\"11\" fill=\"#f05f73\" fill-rule=\"evenodd\" fill-opacity=\"1\" stroke=\"#000000\" stroke-opacity=\"1\" stroke-width=\"4\"/>\n",
       "<circle clip-path=\"url(#clip452)\" cx=\"3604.81\" cy=\"1276.47\" r=\"4\" fill=\"#dd64b5\" fill-rule=\"evenodd\" fill-opacity=\"1\" stroke=\"#000000\" stroke-opacity=\"1\" stroke-width=\"4\"/>\n",
       "<circle clip-path=\"url(#clip452)\" cx=\"3845.27\" cy=\"1276.47\" r=\"3\" fill=\"#6b9e32\" fill-rule=\"evenodd\" fill-opacity=\"1\" stroke=\"#000000\" stroke-opacity=\"1\" stroke-width=\"4\"/>\n",
       "<circle clip-path=\"url(#clip452)\" cx=\"262.444\" cy=\"661.859\" r=\"7\" fill=\"#009af9\" fill-rule=\"evenodd\" fill-opacity=\"1\" stroke=\"#000000\" stroke-opacity=\"1\" stroke-width=\"4\"/>\n",
       "<circle clip-path=\"url(#clip452)\" cx=\"478.857\" cy=\"661.859\" r=\"9\" fill=\"#e26f46\" fill-rule=\"evenodd\" fill-opacity=\"1\" stroke=\"#000000\" stroke-opacity=\"1\" stroke-width=\"4\"/>\n",
       "<circle clip-path=\"url(#clip452)\" cx=\"719.315\" cy=\"661.859\" r=\"18\" fill=\"#3da44d\" fill-rule=\"evenodd\" fill-opacity=\"1\" stroke=\"#000000\" stroke-opacity=\"1\" stroke-width=\"4\"/>\n",
       "<circle clip-path=\"url(#clip452)\" cx=\"959.773\" cy=\"661.859\" r=\"11\" fill=\"#c271d2\" fill-rule=\"evenodd\" fill-opacity=\"1\" stroke=\"#000000\" stroke-opacity=\"1\" stroke-width=\"4\"/>\n",
       "<circle clip-path=\"url(#clip452)\" cx=\"1200.23\" cy=\"661.859\" r=\"15\" fill=\"#ac8d18\" fill-rule=\"evenodd\" fill-opacity=\"1\" stroke=\"#000000\" stroke-opacity=\"1\" stroke-width=\"4\"/>\n",
       "<circle clip-path=\"url(#clip452)\" cx=\"1440.69\" cy=\"661.859\" r=\"11\" fill=\"#00a9ad\" fill-rule=\"evenodd\" fill-opacity=\"1\" stroke=\"#000000\" stroke-opacity=\"1\" stroke-width=\"4\"/>\n",
       "<circle clip-path=\"url(#clip452)\" cx=\"1681.15\" cy=\"661.859\" r=\"22\" fill=\"#ed5d92\" fill-rule=\"evenodd\" fill-opacity=\"1\" stroke=\"#000000\" stroke-opacity=\"1\" stroke-width=\"4\"/>\n",
       "<circle clip-path=\"url(#clip452)\" cx=\"1921.61\" cy=\"661.859\" r=\"146\" fill=\"#c68125\" fill-rule=\"evenodd\" fill-opacity=\"1\" stroke=\"#000000\" stroke-opacity=\"1\" stroke-width=\"4\"/>\n",
       "<circle clip-path=\"url(#clip452)\" cx=\"2162.06\" cy=\"661.859\" r=\"24\" fill=\"#00a98d\" fill-rule=\"evenodd\" fill-opacity=\"1\" stroke=\"#000000\" stroke-opacity=\"1\" stroke-width=\"4\"/>\n",
       "<circle clip-path=\"url(#clip452)\" cx=\"2402.52\" cy=\"661.859\" r=\"10\" fill=\"#8e971d\" fill-rule=\"evenodd\" fill-opacity=\"1\" stroke=\"#000000\" stroke-opacity=\"1\" stroke-width=\"4\"/>\n",
       "<circle clip-path=\"url(#clip452)\" cx=\"2642.98\" cy=\"661.859\" r=\"41\" fill=\"#00a8cb\" fill-rule=\"evenodd\" fill-opacity=\"1\" stroke=\"#000000\" stroke-opacity=\"1\" stroke-width=\"4\"/>\n",
       "<circle clip-path=\"url(#clip452)\" cx=\"2883.44\" cy=\"661.859\" r=\"4\" fill=\"#9b7fe8\" fill-rule=\"evenodd\" fill-opacity=\"1\" stroke=\"#000000\" stroke-opacity=\"1\" stroke-width=\"4\"/>\n",
       "<circle clip-path=\"url(#clip452)\" cx=\"3123.9\" cy=\"661.859\" r=\"6\" fill=\"#608cf6\" fill-rule=\"evenodd\" fill-opacity=\"1\" stroke=\"#000000\" stroke-opacity=\"1\" stroke-width=\"4\"/>\n",
       "<circle clip-path=\"url(#clip452)\" cx=\"3364.35\" cy=\"661.859\" r=\"1\" fill=\"#f05f73\" fill-rule=\"evenodd\" fill-opacity=\"1\" stroke=\"#000000\" stroke-opacity=\"1\" stroke-width=\"4\"/>\n",
       "<circle clip-path=\"url(#clip452)\" style=\"fill:#dd64b5; stroke:none; fill-opacity:1\" cx=\"3604.81\" cy=\"661.859\" r=\"2\"/>\n",
       "<circle clip-path=\"url(#clip452)\" cx=\"3845.27\" cy=\"661.859\" r=\"29\" fill=\"#6b9e32\" fill-rule=\"evenodd\" fill-opacity=\"1\" stroke=\"#000000\" stroke-opacity=\"1\" stroke-width=\"4\"/>\n",
       "</svg>\n"
      ]
     },
     "execution_count": 130,
     "metadata": {},
     "output_type": "execute_result"
    }
   ],
   "source": [
    "# using Plots;\n",
    "### N=4 D=4\n",
    "plot!()\n",
    "scatter([1],[4],markersize= p4_4[1]*100,legend = false,size=(500,500),ylims=(0,15))\n",
    "scatter!([10],[4],markersize= p4_4[2]*100,legend = false,size=(500,500),ylims=(0,15))\n",
    "scatter!([20],[4],markersize= p4_4[3]*100,legend = false,size=(500,500),ylims=(0,15))\n",
    "scatter!([30],[4],markersize= p4_4[4]*100,legend = false,size=(500,500),ylims=(0,15))\n",
    "scatter!([40],[4],markersize= p4_4[5]*100,legend = false,size=(500,500),ylims=(0,15))\n",
    "scatter!([50],[4],markersize= p4_4[6]*100,legend = false,size=(500,500),ylims=(0,15))\n",
    "scatter!([60],[4],markersize= p4_4[7]*100,legend = false,size=(500,500),ylims=(0,15))\n",
    "scatter!([70],[4],markersize= p4_4[8]*100,legend = false,size=(500,500),ylims=(0,15))\n",
    "scatter!([80],[4],markersize= p4_4[9]*100,legend = false,size=(500,500),ylims=(0,15))\n",
    "scatter!([90],[4],markersize= p4_4[10]*100,legend = false,size=(500,500),ylims=(0,15))\n",
    "scatter!([100],[4],markersize= p4_4[11]*100,legend = false,size=(500,500),ylims=(0,15))\n",
    "scatter!([110],[4],markersize= p4_4[12]*100,legend = false,size=(500,500),ylims=(0,15))\n",
    "scatter!([120],[4],markersize= p4_4[13]*100,legend = false,size=(500,500),ylims=(0,15))\n",
    "scatter!([130],[4],markersize= p4_4[14]*100,legend = false,size=(500,500),ylims=(0,15))\n",
    "scatter!([140],[4],markersize= p4_4[15]*100,legend = false,size=(500,500),ylims=(0,15))\n",
    "scatter!([150],[4],markersize= p4_4[16]*100,legend = false,size=(500,500),ylims=(0,15))\n",
    "###\n",
    "### N=4, D=5\n",
    "scatter!([1],[5],markersize= p4_5[1]*100,legend = false,size=(500,500),ylims=(0,15))\n",
    "scatter!([10],[5],markersize= p4_5[2]*100,legend = false,size=(500,500),ylims=(0,15))\n",
    "scatter!([20],[5],markersize= p4_5[3]*100,legend = false,size=(500,500),ylims=(0,15))\n",
    "scatter!([30],[5],markersize= p4_5[4]*100,legend = false,size=(500,500),ylims=(0,15))\n",
    "scatter!([40],[5],markersize= p4_5[5]*100,legend = false,size=(500,500),ylims=(0,15))\n",
    "scatter!([50],[5],markersize= p4_5[6]*100,legend = false,size=(500,500),ylims=(0,15))\n",
    "scatter!([60],[5],markersize= p4_5[7]*100,legend = false,size=(500,500),ylims=(0,15))\n",
    "scatter!([70],[5],markersize= p4_5[8]*100,legend = false,size=(500,500),ylims=(0,15))\n",
    "scatter!([80],[5],markersize= p4_5[9]*100,legend = false,size=(500,500),ylims=(0,15))\n",
    "scatter!([90],[5],markersize= p4_5[10]*100,legend = false,size=(500,500),ylims=(0,15))\n",
    "scatter!([100],[5],markersize= p4_5[11]*100,legend = false,size=(500,500),ylims=(0,15))\n",
    "scatter!([110],[5],markersize= p4_5[12]*100,legend = false,size=(500,500),ylims=(0,15))\n",
    "scatter!([120],[5],markersize= p4_5[13]*100,legend = false,size=(500,500),ylims=(0,15))\n",
    "scatter!([130],[5],markersize= p4_5[14]*100,legend = false,size=(500,500),ylims=(0,15))\n",
    "scatter!([140],[5],markersize= p4_5[15]*100,legend = false,size=(500,500),ylims=(0,15))\n",
    "scatter!([150],[5],markersize= p4_5[16]*100,legend = false,size=(500,500),ylims=(0,15))\n",
    "###\n",
    "### N=4, D=10\n",
    "scatter!([1],[10],markersize= p4_10[1]*100,legend = false,size=(500,500),ylims=(0,15))\n",
    "scatter!([10],[10],markersize= p4_10[2]*100,legend = false,size=(500,500),ylims=(0,15))\n",
    "scatter!([20],[10],markersize= p4_10[3]*100,legend = false,size=(500,500),ylims=(0,15))\n",
    "scatter!([30],[10],markersize= p4_10[4]*100,legend = false,size=(500,500),ylims=(0,15))\n",
    "scatter!([40],[10],markersize= p4_10[5]*100,legend = false,size=(500,500),ylims=(0,15))\n",
    "scatter!([50],[10],markersize= p4_10[6]*100,legend = false,size=(500,500),ylims=(0,15))\n",
    "scatter!([60],[10],markersize= p4_10[7]*100,legend = false,size=(500,500),ylims=(0,15))\n",
    "scatter!([70],[10],markersize= p4_10[8]*100,legend = false,size=(500,500),ylims=(0,15))\n",
    "scatter!([80],[10],markersize= p4_10[9]*100,legend = false,size=(500,500),ylims=(0,15))\n",
    "scatter!([90],[10],markersize= p4_10[10]*100,legend = false,size=(500,500),ylims=(0,15))\n",
    "scatter!([100],[10],markersize= p4_10[11]*100,legend = false,size=(500,500),ylims=(0,15))\n",
    "scatter!([110],[10],markersize= p4_10[12]*100,legend = false,size=(500,500),ylims=(0,15))\n",
    "scatter!([120],[10],markersize= p4_10[13]*100,legend = false,size=(500,500),ylims=(0,15))\n",
    "scatter!([130],[10],markersize= p4_10[14]*100,legend = false,size=(500,500),ylims=(0,15))\n",
    "scatter!([140],[10],markersize= p4_10[15]*100,legend = false,size=(500,500),ylims=(0,15))\n",
    "scatter!([150],[10],markersize= p4_10[16]*100,legend = false,size=(500,500),ylims=(0,15))\n",
    "plot!(size=(1000,500))"
   ]
  },
  {
   "cell_type": "markdown",
   "metadata": {},
   "source": [
    "## Conclusion for Task 1:\n",
    "I can see that there is some pattern formed by the probabilities of the wavefunction state when calculated with respect to the different base states, the patterns formed are like wave packects, for instance when N=4, D=4. This pattern gets squezeed when the depht pf the circuit increases."
   ]
  },
  {
   "cell_type": "markdown",
   "metadata": {},
   "source": [
    "## Task 2 solution:\n",
    "Run one random circuit multiple times, but with a single bit-ﬂip error at a random location in the circuit each time. The resulting speckle patterns should all be quite diﬀerent; collect them into a collage."
   ]
  },
  {
   "cell_type": "code",
   "execution_count": 90,
   "metadata": {
    "ExecuteTime": {
     "end_time": "2021-07-10T20:26:46.039000+01:00",
     "start_time": "2021-07-10T19:26:45.097Z"
    }
   },
   "outputs": [
    {
     "data": {
      "text/plain": [
       "run_with_noise (generic function with 1 method)"
      ]
     },
     "execution_count": 90,
     "metadata": {},
     "output_type": "execute_result"
    }
   ],
   "source": [
    "using PastaQ\n",
    "\n",
    "# New function with the flipflop gate\n",
    "function PastaQ.gate(::GateName\"Sx\" )\n",
    "    [\n",
    "        0    1\n",
    "        1    0\n",
    "    ]\n",
    "end\n",
    "\n",
    "function PastaQ.gate(::GateName\"R\"; theta::Real, phi::Real)\n",
    "    [\n",
    "        cos(theta/2)    (-im * exp(-im * phi) * sin(theta/2))\n",
    "        (-im * exp(im * phi) * sin(theta/2))     cos(theta/2)\n",
    "    ]\n",
    "end\n",
    "\n",
    "function PastaQ.gate(::GateName\"M\"; Theta::Real)\n",
    "    [\n",
    "        cos(Theta)    0    0    (-im * sin(Theta))\n",
    "        0    cos(Theta)    (-im * sin(Theta))    0\n",
    "        0    (-im * sin(Theta))    cos(Theta)    0\n",
    "        (-im * sin(Theta))    0    0    cos(Theta)\n",
    "    ]\n",
    "end\n",
    "\n",
    "function run_with_noise(N, depth)\n",
    "    # Random circuit.\n",
    "    gates = Vector{Tuple}[]\n",
    "\n",
    "    for i in 1:depth\n",
    "        one_qubit_layer = Tuple[]\n",
    "        two_qubit_layer = Tuple[]\n",
    "\n",
    "        for j in 1:N\n",
    "            gate = (\"R\", j, (theta=2pi*rand(), phi=2pi*rand()))\n",
    "            push!(one_qubit_layer, gate)\n",
    "        end\n",
    "        ##  Modification with the bit-flip gate\n",
    "        for j in 1:N\n",
    "            gate = (\"S\", j)\n",
    "            push!(one_qubit_layer, gate)\n",
    "        end\n",
    "\n",
    "        # Alternate start qubit for pairs.\n",
    "        idx_first = i % 2 + 1\n",
    "\n",
    "        for j in idx_first:2:(N-1)\n",
    "            gate = (\"M\", (j, j+1), (Theta=2pi*rand(),))\n",
    "            push!(two_qubit_layer, gate)\n",
    "        end\n",
    "\n",
    "        push!(gates, one_qubit_layer)\n",
    "        push!(gates, two_qubit_layer)\n",
    "    end\n",
    "\n",
    "    psi = runcircuit(N, gates)\n",
    "end\n"
   ]
  },
  {
   "cell_type": "code",
   "execution_count": 91,
   "metadata": {
    "ExecuteTime": {
     "end_time": "2021-07-10T20:26:54.288000+01:00",
     "start_time": "2021-07-10T19:26:54.008Z"
    }
   },
   "outputs": [
    {
     "data": {
      "text/plain": [
       "MPS\n",
       "[1] IndexSet{2} (dim=2|id=312|\"Qubit,Site,n=1\") (dim=2|id=212|\"Link,fact\")\n",
       "[2] IndexSet{3} (dim=2|id=689|\"Qubit,Site,n=2\") (dim=2|id=212|\"Link,fact\") (dim=4|id=419|\"Link,fact\")\n",
       "[3] IndexSet{3} (dim=4|id=419|\"Link,fact\") (dim=2|id=353|\"Qubit,Site,n=3\") (dim=2|id=958|\"Link,fact\")\n",
       "[4] IndexSet{2} (dim=2|id=283|\"Qubit,Site,n=4\") (dim=2|id=958|\"Link,fact\")\n"
      ]
     },
     "execution_count": 91,
     "metadata": {},
     "output_type": "execute_result"
    }
   ],
   "source": [
    "N3 = 3 #parse(Int, ARGS[1])\n",
    "depth3 = 3 #parse(Int, ARGS[2])\n",
    "ψ3_3_E = run_with_noise(N3, depth3)\n",
    "\n",
    "N3 = 3 #parse(Int, ARGS[1])\n",
    "depth4 = 4 #parse(Int, ARGS[2])\n",
    "ψ3_4_E = run_with_noise(N3, depth4)\n",
    "\n",
    "N3 = 3 #parse(Int, ARGS[1])\n",
    "depth5 = 5 #parse(Int, ARGS[2])\n",
    "ψ3_5_E = run_with_noise(N3, depth5)\n",
    "\n",
    "N4 = 4 #parse(Int, ARGS[1])\n",
    "#depth4 = 4 #parse(Int, ARGS[2])\n",
    "ψ4_3_E = run_with_noise(N4, depth3)\n",
    "\n",
    "N4 = 4 #parse(Int, ARGS[1])\n",
    "depth4 = 4 #parse(Int, ARGS[2])\n",
    "ψ4_4_E = run_with_noise(N4, depth4)\n",
    "\n",
    "N4 = 4 #parse(Int, ARGS[1])\n",
    "depth4 = 5 #parse(Int, ARGS[2])\n",
    "ψ4_5_E = run_with_noise(N4, depth5)"
   ]
  },
  {
   "cell_type": "markdown",
   "metadata": {},
   "source": [
    "## Computing the circuit with the bit-flip error gate N=3, depth = 3"
   ]
  },
  {
   "cell_type": "code",
   "execution_count": 99,
   "metadata": {
    "ExecuteTime": {
     "end_time": "2021-07-10T20:58:49.304000+01:00",
     "start_time": "2021-07-10T19:58:49.236Z"
    }
   },
   "outputs": [],
   "source": [
    "using ITensors\n",
    "sites3 = siteinds(\"S=1/2\",N3)\n",
    "p3_3_E = zeros(8)\n",
    "for i in 1:3:24\n",
    "    states3 = TT3[i:i+2]\n",
    "    x3 = productMPS(sites3, states3)\n",
    "    ii = i÷3 + 1\n",
    "    #println(ii)\n",
    "    #println(xxx)\n",
    "    # Here is where the width and depth matters\n",
    "    A3_3_E = dot(x3,ψ3_3_E) \n",
    "    #println(\"Amplitude : \",A)\n",
    "    p3_3_E[ii] = real(A3_3_E)^2 + imag(A3_3_E)^2\n",
    "    #println(\"Probability : \",p)\n",
    "end"
   ]
  },
  {
   "cell_type": "code",
   "execution_count": 100,
   "metadata": {
    "ExecuteTime": {
     "end_time": "2021-07-10T20:58:50.944000+01:00",
     "start_time": "2021-07-10T19:58:50.934Z"
    }
   },
   "outputs": [
    {
     "name": "stdout",
     "output_type": "stream",
     "text": [
      "probability for each base state <x| = [0.06554495452810169, 0.2592170921060416, 0.13152976865432325, 0.0911750065790026, 0.026599100288201463, 0.17242273835662825, 0.08108273887779593, 0.17242860060990373]\n"
     ]
    }
   ],
   "source": [
    "println(\"probability for each base state <x| = \",p3_3_E)"
   ]
  },
  {
   "cell_type": "code",
   "execution_count": 102,
   "metadata": {
    "ExecuteTime": {
     "end_time": "2021-07-10T21:00:39.732000+01:00",
     "start_time": "2021-07-10T20:00:39.676Z"
    }
   },
   "outputs": [
    {
     "data": {
      "image/svg+xml": [
       "<?xml version=\"1.0\" encoding=\"utf-8\"?>\n",
       "<svg xmlns=\"http://www.w3.org/2000/svg\" xmlns:xlink=\"http://www.w3.org/1999/xlink\" width=\"1000\" height=\"500\" viewBox=\"0 0 4000 2000\">\n",
       "<defs>\n",
       "  <clipPath id=\"clip690\">\n",
       "    <rect x=\"0\" y=\"0\" width=\"4000\" height=\"2000\"/>\n",
       "  </clipPath>\n",
       "</defs>\n",
       "<path clip-path=\"url(#clip690)\" d=\"\n",
       "M0 2000 L4000 2000 L4000 0 L0 0  Z\n",
       "  \" fill=\"#ffffff\" fill-rule=\"evenodd\" fill-opacity=\"1\"/>\n",
       "<defs>\n",
       "  <clipPath id=\"clip691\">\n",
       "    <rect x=\"800\" y=\"0\" width=\"2801\" height=\"2000\"/>\n",
       "  </clipPath>\n",
       "</defs>\n",
       "<path clip-path=\"url(#clip690)\" d=\"\n",
       "M172.598 1891.09 L3952.76 1891.09 L3952.76 47.2441 L172.598 47.2441  Z\n",
       "  \" fill=\"#ffffff\" fill-rule=\"evenodd\" fill-opacity=\"1\"/>\n",
       "<defs>\n",
       "  <clipPath id=\"clip692\">\n",
       "    <rect x=\"172\" y=\"47\" width=\"3781\" height=\"1845\"/>\n",
       "  </clipPath>\n",
       "</defs>\n",
       "<polyline clip-path=\"url(#clip692)\" style=\"stroke:#000000; stroke-linecap:butt; stroke-linejoin:round; stroke-width:2; stroke-opacity:0.1; fill:none\" points=\"\n",
       "  227.9,1891.09 227.9,47.2441 \n",
       "  \"/>\n",
       "<polyline clip-path=\"url(#clip692)\" style=\"stroke:#000000; stroke-linecap:butt; stroke-linejoin:round; stroke-width:2; stroke-opacity:0.1; fill:none\" points=\"\n",
       "  1261.58,1891.09 1261.58,47.2441 \n",
       "  \"/>\n",
       "<polyline clip-path=\"url(#clip692)\" style=\"stroke:#000000; stroke-linecap:butt; stroke-linejoin:round; stroke-width:2; stroke-opacity:0.1; fill:none\" points=\"\n",
       "  2295.25,1891.09 2295.25,47.2441 \n",
       "  \"/>\n",
       "<polyline clip-path=\"url(#clip692)\" style=\"stroke:#000000; stroke-linecap:butt; stroke-linejoin:round; stroke-width:2; stroke-opacity:0.1; fill:none\" points=\"\n",
       "  3328.93,1891.09 3328.93,47.2441 \n",
       "  \"/>\n",
       "<polyline clip-path=\"url(#clip690)\" style=\"stroke:#000000; stroke-linecap:butt; stroke-linejoin:round; stroke-width:4; stroke-opacity:1; fill:none\" points=\"\n",
       "  172.598,1891.09 3952.76,1891.09 \n",
       "  \"/>\n",
       "<polyline clip-path=\"url(#clip690)\" style=\"stroke:#000000; stroke-linecap:butt; stroke-linejoin:round; stroke-width:4; stroke-opacity:1; fill:none\" points=\"\n",
       "  227.9,1891.09 227.9,1868.96 \n",
       "  \"/>\n",
       "<polyline clip-path=\"url(#clip690)\" style=\"stroke:#000000; stroke-linecap:butt; stroke-linejoin:round; stroke-width:4; stroke-opacity:1; fill:none\" points=\"\n",
       "  1261.58,1891.09 1261.58,1868.96 \n",
       "  \"/>\n",
       "<polyline clip-path=\"url(#clip690)\" style=\"stroke:#000000; stroke-linecap:butt; stroke-linejoin:round; stroke-width:4; stroke-opacity:1; fill:none\" points=\"\n",
       "  2295.25,1891.09 2295.25,1868.96 \n",
       "  \"/>\n",
       "<polyline clip-path=\"url(#clip690)\" style=\"stroke:#000000; stroke-linecap:butt; stroke-linejoin:round; stroke-width:4; stroke-opacity:1; fill:none\" points=\"\n",
       "  3328.93,1891.09 3328.93,1868.96 \n",
       "  \"/>\n",
       "<path clip-path=\"url(#clip690)\" d=\"M227.9 1933.08 Q224.289 1933.08 222.46 1936.64 Q220.655 1940.19 220.655 1947.31 Q220.655 1954.42 222.46 1957.99 Q224.289 1961.53 227.9 1961.53 Q231.534 1961.53 233.34 1957.99 Q235.168 1954.42 235.168 1947.31 Q235.168 1940.19 233.34 1936.64 Q231.534 1933.08 227.9 1933.08 M227.9 1929.37 Q233.71 1929.37 236.766 1933.98 Q239.844 1938.56 239.844 1947.31 Q239.844 1956.04 236.766 1960.65 Q233.71 1965.23 227.9 1965.23 Q222.09 1965.23 219.011 1960.65 Q215.956 1956.04 215.956 1947.31 Q215.956 1938.56 219.011 1933.98 Q222.09 1929.37 227.9 1929.37 Z\" fill=\"#000000\" fill-rule=\"evenodd\" fill-opacity=\"1\" /><path clip-path=\"url(#clip690)\" d=\"M1240.35 1960.62 L1256.67 1960.62 L1256.67 1964.56 L1234.73 1964.56 L1234.73 1960.62 Q1237.39 1957.87 1241.97 1953.24 Q1246.58 1948.59 1247.76 1947.25 Q1250 1944.72 1250.88 1942.99 Q1251.79 1941.23 1251.79 1939.54 Q1251.79 1936.78 1249.84 1935.05 Q1247.92 1933.31 1244.82 1933.31 Q1242.62 1933.31 1240.17 1934.07 Q1237.73 1934.84 1234.96 1936.39 L1234.96 1931.67 Q1237.78 1930.53 1240.23 1929.95 Q1242.69 1929.37 1244.73 1929.37 Q1250.1 1929.37 1253.29 1932.06 Q1256.48 1934.75 1256.48 1939.24 Q1256.48 1941.37 1255.67 1943.29 Q1254.89 1945.18 1252.78 1947.78 Q1252.2 1948.45 1249.1 1951.67 Q1246 1954.86 1240.35 1960.62 Z\" fill=\"#000000\" fill-rule=\"evenodd\" fill-opacity=\"1\" /><path clip-path=\"url(#clip690)\" d=\"M1276.48 1933.08 Q1272.87 1933.08 1271.04 1936.64 Q1269.24 1940.19 1269.24 1947.31 Q1269.24 1954.42 1271.04 1957.99 Q1272.87 1961.53 1276.48 1961.53 Q1280.12 1961.53 1281.92 1957.99 Q1283.75 1954.42 1283.75 1947.31 Q1283.75 1940.19 1281.92 1936.64 Q1280.12 1933.08 1276.48 1933.08 M1276.48 1929.37 Q1282.29 1929.37 1285.35 1933.98 Q1288.43 1938.56 1288.43 1947.31 Q1288.43 1956.04 1285.35 1960.65 Q1282.29 1965.23 1276.48 1965.23 Q1270.67 1965.23 1267.6 1960.65 Q1264.54 1956.04 1264.54 1947.31 Q1264.54 1938.56 1267.6 1933.98 Q1270.67 1929.37 1276.48 1929.37 Z\" fill=\"#000000\" fill-rule=\"evenodd\" fill-opacity=\"1\" /><path clip-path=\"url(#clip690)\" d=\"M2283.43 1934.07 L2271.62 1952.52 L2283.43 1952.52 L2283.43 1934.07 M2282.2 1930 L2288.08 1930 L2288.08 1952.52 L2293.01 1952.52 L2293.01 1956.41 L2288.08 1956.41 L2288.08 1964.56 L2283.43 1964.56 L2283.43 1956.41 L2267.82 1956.41 L2267.82 1951.9 L2282.2 1930 Z\" fill=\"#000000\" fill-rule=\"evenodd\" fill-opacity=\"1\" /><path clip-path=\"url(#clip690)\" d=\"M2310.74 1933.08 Q2307.13 1933.08 2305.3 1936.64 Q2303.5 1940.19 2303.5 1947.31 Q2303.5 1954.42 2305.3 1957.99 Q2307.13 1961.53 2310.74 1961.53 Q2314.37 1961.53 2316.18 1957.99 Q2318.01 1954.42 2318.01 1947.31 Q2318.01 1940.19 2316.18 1936.64 Q2314.37 1933.08 2310.74 1933.08 M2310.74 1929.37 Q2316.55 1929.37 2319.61 1933.98 Q2322.68 1938.56 2322.68 1947.31 Q2322.68 1956.04 2319.61 1960.65 Q2316.55 1965.23 2310.74 1965.23 Q2304.93 1965.23 2301.85 1960.65 Q2298.8 1956.04 2298.8 1947.31 Q2298.8 1938.56 2301.85 1933.98 Q2304.93 1929.37 2310.74 1929.37 Z\" fill=\"#000000\" fill-rule=\"evenodd\" fill-opacity=\"1\" /><path clip-path=\"url(#clip690)\" d=\"M3314.34 1945.42 Q3311.19 1945.42 3309.34 1947.57 Q3307.51 1949.72 3307.51 1953.47 Q3307.51 1957.2 3309.34 1959.37 Q3311.19 1961.53 3314.34 1961.53 Q3317.48 1961.53 3319.31 1959.37 Q3321.17 1957.2 3321.17 1953.47 Q3321.17 1949.72 3319.31 1947.57 Q3317.48 1945.42 3314.34 1945.42 M3323.62 1930.76 L3323.62 1935.02 Q3321.86 1934.19 3320.05 1933.75 Q3318.27 1933.31 3316.51 1933.31 Q3311.88 1933.31 3309.43 1936.44 Q3307 1939.56 3306.65 1945.88 Q3308.02 1943.87 3310.08 1942.8 Q3312.14 1941.71 3314.61 1941.71 Q3319.82 1941.71 3322.83 1944.88 Q3325.86 1948.03 3325.86 1953.47 Q3325.86 1958.8 3322.72 1962.01 Q3319.57 1965.23 3314.34 1965.23 Q3308.34 1965.23 3305.17 1960.65 Q3302 1956.04 3302 1947.31 Q3302 1939.12 3305.89 1934.26 Q3309.78 1929.37 3316.33 1929.37 Q3318.09 1929.37 3319.87 1929.72 Q3321.67 1930.07 3323.62 1930.76 Z\" fill=\"#000000\" fill-rule=\"evenodd\" fill-opacity=\"1\" /><path clip-path=\"url(#clip690)\" d=\"M3343.92 1933.08 Q3340.31 1933.08 3338.48 1936.64 Q3336.67 1940.19 3336.67 1947.31 Q3336.67 1954.42 3338.48 1957.99 Q3340.31 1961.53 3343.92 1961.53 Q3347.55 1961.53 3349.36 1957.99 Q3351.19 1954.42 3351.19 1947.31 Q3351.19 1940.19 3349.36 1936.64 Q3347.55 1933.08 3343.92 1933.08 M3343.92 1929.37 Q3349.73 1929.37 3352.79 1933.98 Q3355.86 1938.56 3355.86 1947.31 Q3355.86 1956.04 3352.79 1960.65 Q3349.73 1965.23 3343.92 1965.23 Q3338.11 1965.23 3335.03 1960.65 Q3331.98 1956.04 3331.98 1947.31 Q3331.98 1938.56 3335.03 1933.98 Q3338.11 1929.37 3343.92 1929.37 Z\" fill=\"#000000\" fill-rule=\"evenodd\" fill-opacity=\"1\" /><polyline clip-path=\"url(#clip692)\" style=\"stroke:#000000; stroke-linecap:butt; stroke-linejoin:round; stroke-width:2; stroke-opacity:0.1; fill:none\" points=\"\n",
       "  172.598,1891.09 3952.76,1891.09 \n",
       "  \"/>\n",
       "<polyline clip-path=\"url(#clip692)\" style=\"stroke:#000000; stroke-linecap:butt; stroke-linejoin:round; stroke-width:2; stroke-opacity:0.1; fill:none\" points=\"\n",
       "  172.598,1522.32 3952.76,1522.32 \n",
       "  \"/>\n",
       "<polyline clip-path=\"url(#clip692)\" style=\"stroke:#000000; stroke-linecap:butt; stroke-linejoin:round; stroke-width:2; stroke-opacity:0.1; fill:none\" points=\"\n",
       "  172.598,1153.55 3952.76,1153.55 \n",
       "  \"/>\n",
       "<polyline clip-path=\"url(#clip692)\" style=\"stroke:#000000; stroke-linecap:butt; stroke-linejoin:round; stroke-width:2; stroke-opacity:0.1; fill:none\" points=\"\n",
       "  172.598,784.782 3952.76,784.782 \n",
       "  \"/>\n",
       "<polyline clip-path=\"url(#clip692)\" style=\"stroke:#000000; stroke-linecap:butt; stroke-linejoin:round; stroke-width:2; stroke-opacity:0.1; fill:none\" points=\"\n",
       "  172.598,416.013 3952.76,416.013 \n",
       "  \"/>\n",
       "<polyline clip-path=\"url(#clip692)\" style=\"stroke:#000000; stroke-linecap:butt; stroke-linejoin:round; stroke-width:2; stroke-opacity:0.1; fill:none\" points=\"\n",
       "  172.598,47.2441 3952.76,47.2441 \n",
       "  \"/>\n",
       "<polyline clip-path=\"url(#clip690)\" style=\"stroke:#000000; stroke-linecap:butt; stroke-linejoin:round; stroke-width:4; stroke-opacity:1; fill:none\" points=\"\n",
       "  172.598,1891.09 172.598,47.2441 \n",
       "  \"/>\n",
       "<polyline clip-path=\"url(#clip690)\" style=\"stroke:#000000; stroke-linecap:butt; stroke-linejoin:round; stroke-width:4; stroke-opacity:1; fill:none\" points=\"\n",
       "  172.598,1891.09 217.96,1891.09 \n",
       "  \"/>\n",
       "<polyline clip-path=\"url(#clip690)\" style=\"stroke:#000000; stroke-linecap:butt; stroke-linejoin:round; stroke-width:4; stroke-opacity:1; fill:none\" points=\"\n",
       "  172.598,1522.32 217.96,1522.32 \n",
       "  \"/>\n",
       "<polyline clip-path=\"url(#clip690)\" style=\"stroke:#000000; stroke-linecap:butt; stroke-linejoin:round; stroke-width:4; stroke-opacity:1; fill:none\" points=\"\n",
       "  172.598,1153.55 217.96,1153.55 \n",
       "  \"/>\n",
       "<polyline clip-path=\"url(#clip690)\" style=\"stroke:#000000; stroke-linecap:butt; stroke-linejoin:round; stroke-width:4; stroke-opacity:1; fill:none\" points=\"\n",
       "  172.598,784.782 217.96,784.782 \n",
       "  \"/>\n",
       "<polyline clip-path=\"url(#clip690)\" style=\"stroke:#000000; stroke-linecap:butt; stroke-linejoin:round; stroke-width:4; stroke-opacity:1; fill:none\" points=\"\n",
       "  172.598,416.013 217.96,416.013 \n",
       "  \"/>\n",
       "<polyline clip-path=\"url(#clip690)\" style=\"stroke:#000000; stroke-linecap:butt; stroke-linejoin:round; stroke-width:4; stroke-opacity:1; fill:none\" points=\"\n",
       "  172.598,47.2441 217.96,47.2441 \n",
       "  \"/>\n",
       "<path clip-path=\"url(#clip690)\" d=\"M55.4226 1876.89 Q51.8115 1876.89 49.9828 1880.45 Q48.1773 1883.99 48.1773 1891.12 Q48.1773 1898.23 49.9828 1901.79 Q51.8115 1905.34 55.4226 1905.34 Q59.0569 1905.34 60.8624 1901.79 Q62.6911 1898.23 62.6911 1891.12 Q62.6911 1883.99 60.8624 1880.45 Q59.0569 1876.89 55.4226 1876.89 M55.4226 1873.18 Q61.2328 1873.18 64.2883 1877.79 Q67.367 1882.37 67.367 1891.12 Q67.367 1899.85 64.2883 1904.46 Q61.2328 1909.04 55.4226 1909.04 Q49.6125 1909.04 46.5338 1904.46 Q43.4782 1899.85 43.4782 1891.12 Q43.4782 1882.37 46.5338 1877.79 Q49.6125 1873.18 55.4226 1873.18 Z\" fill=\"#000000\" fill-rule=\"evenodd\" fill-opacity=\"1\" /><path clip-path=\"url(#clip690)\" d=\"M75.5845 1902.49 L80.4688 1902.49 L80.4688 1908.37 L75.5845 1908.37 L75.5845 1902.49 Z\" fill=\"#000000\" fill-rule=\"evenodd\" fill-opacity=\"1\" /><path clip-path=\"url(#clip690)\" d=\"M100.654 1876.89 Q97.0428 1876.89 95.2141 1880.45 Q93.4085 1883.99 93.4085 1891.12 Q93.4085 1898.23 95.2141 1901.79 Q97.0428 1905.34 100.654 1905.34 Q104.288 1905.34 106.094 1901.79 Q107.922 1898.23 107.922 1891.12 Q107.922 1883.99 106.094 1880.45 Q104.288 1876.89 100.654 1876.89 M100.654 1873.18 Q106.464 1873.18 109.52 1877.79 Q112.598 1882.37 112.598 1891.12 Q112.598 1899.85 109.52 1904.46 Q106.464 1909.04 100.654 1909.04 Q94.8437 1909.04 91.765 1904.46 Q88.7095 1899.85 88.7095 1891.12 Q88.7095 1882.37 91.765 1877.79 Q94.8437 1873.18 100.654 1873.18 Z\" fill=\"#000000\" fill-rule=\"evenodd\" fill-opacity=\"1\" /><path clip-path=\"url(#clip690)\" d=\"M57.0198 1508.12 Q53.4087 1508.12 51.58 1511.68 Q49.7745 1515.22 49.7745 1522.35 Q49.7745 1529.46 51.58 1533.03 Q53.4087 1536.57 57.0198 1536.57 Q60.6541 1536.57 62.4596 1533.03 Q64.2883 1529.46 64.2883 1522.35 Q64.2883 1515.22 62.4596 1511.68 Q60.6541 1508.12 57.0198 1508.12 M57.0198 1504.41 Q62.83 1504.41 65.8855 1509.02 Q68.9642 1513.6 68.9642 1522.35 Q68.9642 1531.08 65.8855 1535.69 Q62.83 1540.27 57.0198 1540.27 Q51.2097 1540.27 48.131 1535.69 Q45.0754 1531.08 45.0754 1522.35 Q45.0754 1513.6 48.131 1509.02 Q51.2097 1504.41 57.0198 1504.41 Z\" fill=\"#000000\" fill-rule=\"evenodd\" fill-opacity=\"1\" /><path clip-path=\"url(#clip690)\" d=\"M77.1818 1533.72 L82.066 1533.72 L82.066 1539.6 L77.1818 1539.6 L77.1818 1533.72 Z\" fill=\"#000000\" fill-rule=\"evenodd\" fill-opacity=\"1\" /><path clip-path=\"url(#clip690)\" d=\"M96.2789 1535.66 L112.598 1535.66 L112.598 1539.6 L90.6539 1539.6 L90.6539 1535.66 Q93.3159 1532.91 97.8992 1528.28 Q102.506 1523.63 103.686 1522.28 Q105.932 1519.76 106.811 1518.03 Q107.714 1516.27 107.714 1514.58 Q107.714 1511.82 105.77 1510.09 Q103.848 1508.35 100.746 1508.35 Q98.5474 1508.35 96.0937 1509.11 Q93.6632 1509.88 90.8854 1511.43 L90.8854 1506.71 Q93.7094 1505.57 96.1631 1504.99 Q98.6168 1504.41 100.654 1504.41 Q106.024 1504.41 109.219 1507.1 Q112.413 1509.78 112.413 1514.28 Q112.413 1516.4 111.603 1518.33 Q110.816 1520.22 108.709 1522.82 Q108.131 1523.49 105.029 1526.71 Q101.927 1529.9 96.2789 1535.66 Z\" fill=\"#000000\" fill-rule=\"evenodd\" fill-opacity=\"1\" /><path clip-path=\"url(#clip690)\" d=\"M54.9365 1139.35 Q51.3254 1139.35 49.4967 1142.91 Q47.6912 1146.46 47.6912 1153.59 Q47.6912 1160.69 49.4967 1164.26 Q51.3254 1167.8 54.9365 1167.8 Q58.5707 1167.8 60.3763 1164.26 Q62.205 1160.69 62.205 1153.59 Q62.205 1146.46 60.3763 1142.91 Q58.5707 1139.35 54.9365 1139.35 M54.9365 1135.65 Q60.7467 1135.65 63.8022 1140.25 Q66.8809 1144.84 66.8809 1153.59 Q66.8809 1162.31 63.8022 1166.92 Q60.7467 1171.5 54.9365 1171.5 Q49.1264 1171.5 46.0477 1166.92 Q42.9921 1162.31 42.9921 1153.59 Q42.9921 1144.84 46.0477 1140.25 Q49.1264 1135.65 54.9365 1135.65 Z\" fill=\"#000000\" fill-rule=\"evenodd\" fill-opacity=\"1\" /><path clip-path=\"url(#clip690)\" d=\"M75.0984 1164.95 L79.9827 1164.95 L79.9827 1170.83 L75.0984 1170.83 L75.0984 1164.95 Z\" fill=\"#000000\" fill-rule=\"evenodd\" fill-opacity=\"1\" /><path clip-path=\"url(#clip690)\" d=\"M103.015 1140.34 L91.2095 1158.79 L103.015 1158.79 L103.015 1140.34 M101.788 1136.27 L107.668 1136.27 L107.668 1158.79 L112.598 1158.79 L112.598 1162.68 L107.668 1162.68 L107.668 1170.83 L103.015 1170.83 L103.015 1162.68 L87.4132 1162.68 L87.4132 1158.17 L101.788 1136.27 Z\" fill=\"#000000\" fill-rule=\"evenodd\" fill-opacity=\"1\" /><path clip-path=\"url(#clip690)\" d=\"M55.2606 770.58 Q51.6495 770.58 49.8208 774.145 Q48.0152 777.687 48.0152 784.816 Q48.0152 791.923 49.8208 795.488 Q51.6495 799.029 55.2606 799.029 Q58.8948 799.029 60.7004 795.488 Q62.5291 791.923 62.5291 784.816 Q62.5291 777.687 60.7004 774.145 Q58.8948 770.58 55.2606 770.58 M55.2606 766.877 Q61.0707 766.877 64.1263 771.483 Q67.205 776.066 67.205 784.816 Q67.205 793.543 64.1263 798.15 Q61.0707 802.733 55.2606 802.733 Q49.4504 802.733 46.3717 798.15 Q43.3162 793.543 43.3162 784.816 Q43.3162 776.066 46.3717 771.483 Q49.4504 766.877 55.2606 766.877 Z\" fill=\"#000000\" fill-rule=\"evenodd\" fill-opacity=\"1\" /><path clip-path=\"url(#clip690)\" d=\"M75.4225 796.182 L80.3067 796.182 L80.3067 802.062 L75.4225 802.062 L75.4225 796.182 Z\" fill=\"#000000\" fill-rule=\"evenodd\" fill-opacity=\"1\" /><path clip-path=\"url(#clip690)\" d=\"M101.071 782.918 Q97.9224 782.918 96.0705 785.071 Q94.2419 787.224 94.2419 790.974 Q94.2419 794.701 96.0705 796.876 Q97.9224 799.029 101.071 799.029 Q104.219 799.029 106.047 796.876 Q107.899 794.701 107.899 790.974 Q107.899 787.224 106.047 785.071 Q104.219 782.918 101.071 782.918 M110.353 768.265 L110.353 772.525 Q108.594 771.691 106.788 771.252 Q105.006 770.812 103.246 770.812 Q98.6168 770.812 96.1631 773.937 Q93.7326 777.062 93.3854 783.381 Q94.7511 781.367 96.8113 780.302 Q98.8715 779.215 101.348 779.215 Q106.557 779.215 109.566 782.386 Q112.598 785.534 112.598 790.974 Q112.598 796.298 109.45 799.515 Q106.302 802.733 101.071 802.733 Q95.0752 802.733 91.9039 798.15 Q88.7326 793.543 88.7326 784.816 Q88.7326 776.622 92.6215 771.761 Q96.5104 766.877 103.061 766.877 Q104.82 766.877 106.603 767.224 Q108.408 767.571 110.353 768.265 Z\" fill=\"#000000\" fill-rule=\"evenodd\" fill-opacity=\"1\" /><path clip-path=\"url(#clip690)\" d=\"M55.5152 401.812 Q51.9041 401.812 50.0754 405.376 Q48.2699 408.918 48.2699 416.048 Q48.2699 423.154 50.0754 426.719 Q51.9041 430.26 55.5152 430.26 Q59.1494 430.26 60.955 426.719 Q62.7837 423.154 62.7837 416.048 Q62.7837 408.918 60.955 405.376 Q59.1494 401.812 55.5152 401.812 M55.5152 398.108 Q61.3254 398.108 64.3809 402.714 Q67.4596 407.298 67.4596 416.048 Q67.4596 424.774 64.3809 429.381 Q61.3254 433.964 55.5152 433.964 Q49.7051 433.964 46.6264 429.381 Q43.5708 424.774 43.5708 416.048 Q43.5708 407.298 46.6264 402.714 Q49.7051 398.108 55.5152 398.108 Z\" fill=\"#000000\" fill-rule=\"evenodd\" fill-opacity=\"1\" /><path clip-path=\"url(#clip690)\" d=\"M75.6771 427.413 L80.5614 427.413 L80.5614 433.293 L75.6771 433.293 L75.6771 427.413 Z\" fill=\"#000000\" fill-rule=\"evenodd\" fill-opacity=\"1\" /><path clip-path=\"url(#clip690)\" d=\"M100.746 416.881 Q97.4131 416.881 95.4918 418.663 Q93.5937 420.446 93.5937 423.571 Q93.5937 426.696 95.4918 428.478 Q97.4131 430.26 100.746 430.26 Q104.08 430.26 106.001 428.478 Q107.922 426.673 107.922 423.571 Q107.922 420.446 106.001 418.663 Q104.103 416.881 100.746 416.881 M96.0705 414.89 Q93.0613 414.149 91.3715 412.089 Q89.7048 410.029 89.7048 407.066 Q89.7048 402.923 92.6446 400.515 Q95.6076 398.108 100.746 398.108 Q105.908 398.108 108.848 400.515 Q111.788 402.923 111.788 407.066 Q111.788 410.029 110.098 412.089 Q108.432 414.149 105.445 414.89 Q108.825 415.677 110.7 417.969 Q112.598 420.261 112.598 423.571 Q112.598 428.594 109.52 431.279 Q106.464 433.964 100.746 433.964 Q95.0289 433.964 91.9502 431.279 Q88.8947 428.594 88.8947 423.571 Q88.8947 420.261 90.7928 417.969 Q92.6909 415.677 96.0705 414.89 M94.3576 407.506 Q94.3576 410.191 96.0242 411.696 Q97.7141 413.2 100.746 413.2 Q103.756 413.2 105.445 411.696 Q107.158 410.191 107.158 407.506 Q107.158 404.821 105.445 403.316 Q103.756 401.812 100.746 401.812 Q97.7141 401.812 96.0242 403.316 Q94.3576 404.821 94.3576 407.506 Z\" fill=\"#000000\" fill-rule=\"evenodd\" fill-opacity=\"1\" /><path clip-path=\"url(#clip690)\" d=\"M46.2328 60.5889 L53.8717 60.5889 L53.8717 34.2233 L45.5616 35.89 L45.5616 31.6308 L53.8254 29.9641 L58.5013 29.9641 L58.5013 60.5889 L66.1402 60.5889 L66.1402 64.5241 L46.2328 64.5241 L46.2328 60.5889 Z\" fill=\"#000000\" fill-rule=\"evenodd\" fill-opacity=\"1\" /><path clip-path=\"url(#clip690)\" d=\"M75.5845 58.6445 L80.4688 58.6445 L80.4688 64.5241 L75.5845 64.5241 L75.5845 58.6445 Z\" fill=\"#000000\" fill-rule=\"evenodd\" fill-opacity=\"1\" /><path clip-path=\"url(#clip690)\" d=\"M100.654 33.0428 Q97.0428 33.0428 95.2141 36.6076 Q93.4085 40.1492 93.4085 47.2788 Q93.4085 54.3853 95.2141 57.9501 Q97.0428 61.4917 100.654 61.4917 Q104.288 61.4917 106.094 57.9501 Q107.922 54.3853 107.922 47.2788 Q107.922 40.1492 106.094 36.6076 Q104.288 33.0428 100.654 33.0428 M100.654 29.3391 Q106.464 29.3391 109.52 33.9456 Q112.598 38.5289 112.598 47.2788 Q112.598 56.0056 109.52 60.6121 Q106.464 65.1954 100.654 65.1954 Q94.8437 65.1954 91.765 60.6121 Q88.7095 56.0056 88.7095 47.2788 Q88.7095 38.5289 91.765 33.9456 Q94.8437 29.3391 100.654 29.3391 Z\" fill=\"#000000\" fill-rule=\"evenodd\" fill-opacity=\"1\" /><circle clip-path=\"url(#clip692)\" cx=\"279.584\" cy=\"969.166\" r=\"23\" fill=\"#009af9\" fill-rule=\"evenodd\" fill-opacity=\"1\" stroke=\"#000000\" stroke-opacity=\"1\" stroke-width=\"4\"/>\n",
       "<circle clip-path=\"url(#clip692)\" cx=\"744.739\" cy=\"969.166\" r=\"93\" fill=\"#e26f46\" fill-rule=\"evenodd\" fill-opacity=\"1\" stroke=\"#000000\" stroke-opacity=\"1\" stroke-width=\"4\"/>\n",
       "<circle clip-path=\"url(#clip692)\" cx=\"1261.58\" cy=\"969.166\" r=\"47\" fill=\"#3da44d\" fill-rule=\"evenodd\" fill-opacity=\"1\" stroke=\"#000000\" stroke-opacity=\"1\" stroke-width=\"4\"/>\n",
       "<circle clip-path=\"url(#clip692)\" cx=\"1778.42\" cy=\"969.166\" r=\"32\" fill=\"#c271d2\" fill-rule=\"evenodd\" fill-opacity=\"1\" stroke=\"#000000\" stroke-opacity=\"1\" stroke-width=\"4\"/>\n",
       "<circle clip-path=\"url(#clip692)\" cx=\"2295.25\" cy=\"969.166\" r=\"9\" fill=\"#ac8d18\" fill-rule=\"evenodd\" fill-opacity=\"1\" stroke=\"#000000\" stroke-opacity=\"1\" stroke-width=\"4\"/>\n",
       "<circle clip-path=\"url(#clip692)\" cx=\"2812.09\" cy=\"969.166\" r=\"62\" fill=\"#00a9ad\" fill-rule=\"evenodd\" fill-opacity=\"1\" stroke=\"#000000\" stroke-opacity=\"1\" stroke-width=\"4\"/>\n",
       "<circle clip-path=\"url(#clip692)\" cx=\"3328.93\" cy=\"969.166\" r=\"29\" fill=\"#ed5d92\" fill-rule=\"evenodd\" fill-opacity=\"1\" stroke=\"#000000\" stroke-opacity=\"1\" stroke-width=\"4\"/>\n",
       "<circle clip-path=\"url(#clip692)\" cx=\"3845.77\" cy=\"969.166\" r=\"62\" fill=\"#c68125\" fill-rule=\"evenodd\" fill-opacity=\"1\" stroke=\"#000000\" stroke-opacity=\"1\" stroke-width=\"4\"/>\n",
       "</svg>\n"
      ]
     },
     "execution_count": 102,
     "metadata": {},
     "output_type": "execute_result"
    }
   ],
   "source": [
    "using Plots;\n",
    "plot!()\n",
    "scatter([1],[0.5],markersize= p3_3_E[1]*100,legend = false,size=(500,500),ylims=(0,1))\n",
    "scatter!([10],[0.5],markersize= p3_3_E[2]*100,legend = false,size=(500,500),ylims=(0,1))\n",
    "scatter!([20],[0.5],markersize= p3_3_E[3]*100,legend = false,size=(500,500),ylims=(0,1))\n",
    "scatter!([30],[0.5],markersize= p3_3_E[4]*100,legend = false,size=(500,500),ylims=(0,1))\n",
    "scatter!([40],[0.5],markersize= p3_3_E[5]*100,legend = false,size=(500,500),ylims=(0,1))\n",
    "scatter!([50],[0.5],markersize= p3_3_E[6]*100,legend = false,size=(500,500),ylims=(0,1))\n",
    "scatter!([60],[0.5],markersize= p3_3_E[7]*100,legend = false,size=(500,500),ylims=(0,1))\n",
    "scatter!([70],[0.5],markersize= p3_3_E[8]*100,legend = false,size=(500,500),ylims=(0,1))\n",
    "plot!(size=(1000,500))"
   ]
  },
  {
   "cell_type": "markdown",
   "metadata": {},
   "source": [
    "## Computing the circuit with the bit-flip error gate N=3, depth = 4"
   ]
  },
  {
   "cell_type": "code",
   "execution_count": 103,
   "metadata": {
    "ExecuteTime": {
     "end_time": "2021-07-10T21:03:11.935000+01:00",
     "start_time": "2021-07-10T20:03:11.816Z"
    }
   },
   "outputs": [],
   "source": [
    "using ITensors\n",
    "sites3 = siteinds(\"S=1/2\",N3)\n",
    "p3_4_E = zeros(8)\n",
    "for i in 1:3:24\n",
    "    states3 = TT3[i:i+2]\n",
    "    x3 = productMPS(sites3, states3)\n",
    "    ii = i÷3 + 1\n",
    "    #println(ii)\n",
    "    #println(xxx)\n",
    "    # Here is where the width and depth matters\n",
    "    A3_4_E = dot(x3,ψ3_4_E) \n",
    "    #println(\"Amplitude : \",A)\n",
    "    p3_4_E[ii] = real(A3_4_E)^2 + imag(A3_4_E)^2\n",
    "    #println(\"Probability : \",p)\n",
    "end"
   ]
  },
  {
   "cell_type": "code",
   "execution_count": 104,
   "metadata": {
    "ExecuteTime": {
     "end_time": "2021-07-10T21:06:30.752000+01:00",
     "start_time": "2021-07-10T20:06:30.737Z"
    }
   },
   "outputs": [
    {
     "name": "stdout",
     "output_type": "stream",
     "text": [
      "probability for each base state <x| = [0.1880184304066953, 0.02080252996483472, 0.13412922113760023, 0.002011897676205152, 0.03141978104337232, 0.007243590128941883, 0.6012995422040104, 0.01507500743833897]\n"
     ]
    }
   ],
   "source": [
    "println(\"probability for each base state <x| = \",p3_4_E)"
   ]
  },
  {
   "cell_type": "code",
   "execution_count": 106,
   "metadata": {
    "ExecuteTime": {
     "end_time": "2021-07-10T21:07:55.375000+01:00",
     "start_time": "2021-07-10T20:07:55.332Z"
    }
   },
   "outputs": [
    {
     "data": {
      "image/svg+xml": [
       "<?xml version=\"1.0\" encoding=\"utf-8\"?>\n",
       "<svg xmlns=\"http://www.w3.org/2000/svg\" xmlns:xlink=\"http://www.w3.org/1999/xlink\" width=\"1000\" height=\"500\" viewBox=\"0 0 4000 2000\">\n",
       "<defs>\n",
       "  <clipPath id=\"clip770\">\n",
       "    <rect x=\"0\" y=\"0\" width=\"4000\" height=\"2000\"/>\n",
       "  </clipPath>\n",
       "</defs>\n",
       "<path clip-path=\"url(#clip770)\" d=\"\n",
       "M0 2000 L4000 2000 L4000 0 L0 0  Z\n",
       "  \" fill=\"#ffffff\" fill-rule=\"evenodd\" fill-opacity=\"1\"/>\n",
       "<defs>\n",
       "  <clipPath id=\"clip771\">\n",
       "    <rect x=\"800\" y=\"0\" width=\"2801\" height=\"2000\"/>\n",
       "  </clipPath>\n",
       "</defs>\n",
       "<path clip-path=\"url(#clip770)\" d=\"\n",
       "M172.598 1891.09 L3952.76 1891.09 L3952.76 47.2441 L172.598 47.2441  Z\n",
       "  \" fill=\"#ffffff\" fill-rule=\"evenodd\" fill-opacity=\"1\"/>\n",
       "<defs>\n",
       "  <clipPath id=\"clip772\">\n",
       "    <rect x=\"172\" y=\"47\" width=\"3781\" height=\"1845\"/>\n",
       "  </clipPath>\n",
       "</defs>\n",
       "<polyline clip-path=\"url(#clip772)\" style=\"stroke:#000000; stroke-linecap:butt; stroke-linejoin:round; stroke-width:2; stroke-opacity:0.1; fill:none\" points=\"\n",
       "  227.9,1891.09 227.9,47.2441 \n",
       "  \"/>\n",
       "<polyline clip-path=\"url(#clip772)\" style=\"stroke:#000000; stroke-linecap:butt; stroke-linejoin:round; stroke-width:2; stroke-opacity:0.1; fill:none\" points=\"\n",
       "  1261.58,1891.09 1261.58,47.2441 \n",
       "  \"/>\n",
       "<polyline clip-path=\"url(#clip772)\" style=\"stroke:#000000; stroke-linecap:butt; stroke-linejoin:round; stroke-width:2; stroke-opacity:0.1; fill:none\" points=\"\n",
       "  2295.25,1891.09 2295.25,47.2441 \n",
       "  \"/>\n",
       "<polyline clip-path=\"url(#clip772)\" style=\"stroke:#000000; stroke-linecap:butt; stroke-linejoin:round; stroke-width:2; stroke-opacity:0.1; fill:none\" points=\"\n",
       "  3328.93,1891.09 3328.93,47.2441 \n",
       "  \"/>\n",
       "<polyline clip-path=\"url(#clip770)\" style=\"stroke:#000000; stroke-linecap:butt; stroke-linejoin:round; stroke-width:4; stroke-opacity:1; fill:none\" points=\"\n",
       "  172.598,1891.09 3952.76,1891.09 \n",
       "  \"/>\n",
       "<polyline clip-path=\"url(#clip770)\" style=\"stroke:#000000; stroke-linecap:butt; stroke-linejoin:round; stroke-width:4; stroke-opacity:1; fill:none\" points=\"\n",
       "  227.9,1891.09 227.9,1868.96 \n",
       "  \"/>\n",
       "<polyline clip-path=\"url(#clip770)\" style=\"stroke:#000000; stroke-linecap:butt; stroke-linejoin:round; stroke-width:4; stroke-opacity:1; fill:none\" points=\"\n",
       "  1261.58,1891.09 1261.58,1868.96 \n",
       "  \"/>\n",
       "<polyline clip-path=\"url(#clip770)\" style=\"stroke:#000000; stroke-linecap:butt; stroke-linejoin:round; stroke-width:4; stroke-opacity:1; fill:none\" points=\"\n",
       "  2295.25,1891.09 2295.25,1868.96 \n",
       "  \"/>\n",
       "<polyline clip-path=\"url(#clip770)\" style=\"stroke:#000000; stroke-linecap:butt; stroke-linejoin:round; stroke-width:4; stroke-opacity:1; fill:none\" points=\"\n",
       "  3328.93,1891.09 3328.93,1868.96 \n",
       "  \"/>\n",
       "<path clip-path=\"url(#clip770)\" d=\"M227.9 1933.08 Q224.289 1933.08 222.46 1936.64 Q220.655 1940.19 220.655 1947.31 Q220.655 1954.42 222.46 1957.99 Q224.289 1961.53 227.9 1961.53 Q231.534 1961.53 233.34 1957.99 Q235.168 1954.42 235.168 1947.31 Q235.168 1940.19 233.34 1936.64 Q231.534 1933.08 227.9 1933.08 M227.9 1929.37 Q233.71 1929.37 236.766 1933.98 Q239.844 1938.56 239.844 1947.31 Q239.844 1956.04 236.766 1960.65 Q233.71 1965.23 227.9 1965.23 Q222.09 1965.23 219.011 1960.65 Q215.956 1956.04 215.956 1947.31 Q215.956 1938.56 219.011 1933.98 Q222.09 1929.37 227.9 1929.37 Z\" fill=\"#000000\" fill-rule=\"evenodd\" fill-opacity=\"1\" /><path clip-path=\"url(#clip770)\" d=\"M1240.35 1960.62 L1256.67 1960.62 L1256.67 1964.56 L1234.73 1964.56 L1234.73 1960.62 Q1237.39 1957.87 1241.97 1953.24 Q1246.58 1948.59 1247.76 1947.25 Q1250 1944.72 1250.88 1942.99 Q1251.79 1941.23 1251.79 1939.54 Q1251.79 1936.78 1249.84 1935.05 Q1247.92 1933.31 1244.82 1933.31 Q1242.62 1933.31 1240.17 1934.07 Q1237.73 1934.84 1234.96 1936.39 L1234.96 1931.67 Q1237.78 1930.53 1240.23 1929.95 Q1242.69 1929.37 1244.73 1929.37 Q1250.1 1929.37 1253.29 1932.06 Q1256.48 1934.75 1256.48 1939.24 Q1256.48 1941.37 1255.67 1943.29 Q1254.89 1945.18 1252.78 1947.78 Q1252.2 1948.45 1249.1 1951.67 Q1246 1954.86 1240.35 1960.62 Z\" fill=\"#000000\" fill-rule=\"evenodd\" fill-opacity=\"1\" /><path clip-path=\"url(#clip770)\" d=\"M1276.48 1933.08 Q1272.87 1933.08 1271.04 1936.64 Q1269.24 1940.19 1269.24 1947.31 Q1269.24 1954.42 1271.04 1957.99 Q1272.87 1961.53 1276.48 1961.53 Q1280.12 1961.53 1281.92 1957.99 Q1283.75 1954.42 1283.75 1947.31 Q1283.75 1940.19 1281.92 1936.64 Q1280.12 1933.08 1276.48 1933.08 M1276.48 1929.37 Q1282.29 1929.37 1285.35 1933.98 Q1288.43 1938.56 1288.43 1947.31 Q1288.43 1956.04 1285.35 1960.65 Q1282.29 1965.23 1276.48 1965.23 Q1270.67 1965.23 1267.6 1960.65 Q1264.54 1956.04 1264.54 1947.31 Q1264.54 1938.56 1267.6 1933.98 Q1270.67 1929.37 1276.48 1929.37 Z\" fill=\"#000000\" fill-rule=\"evenodd\" fill-opacity=\"1\" /><path clip-path=\"url(#clip770)\" d=\"M2283.43 1934.07 L2271.62 1952.52 L2283.43 1952.52 L2283.43 1934.07 M2282.2 1930 L2288.08 1930 L2288.08 1952.52 L2293.01 1952.52 L2293.01 1956.41 L2288.08 1956.41 L2288.08 1964.56 L2283.43 1964.56 L2283.43 1956.41 L2267.82 1956.41 L2267.82 1951.9 L2282.2 1930 Z\" fill=\"#000000\" fill-rule=\"evenodd\" fill-opacity=\"1\" /><path clip-path=\"url(#clip770)\" d=\"M2310.74 1933.08 Q2307.13 1933.08 2305.3 1936.64 Q2303.5 1940.19 2303.5 1947.31 Q2303.5 1954.42 2305.3 1957.99 Q2307.13 1961.53 2310.74 1961.53 Q2314.37 1961.53 2316.18 1957.99 Q2318.01 1954.42 2318.01 1947.31 Q2318.01 1940.19 2316.18 1936.64 Q2314.37 1933.08 2310.74 1933.08 M2310.74 1929.37 Q2316.55 1929.37 2319.61 1933.98 Q2322.68 1938.56 2322.68 1947.31 Q2322.68 1956.04 2319.61 1960.65 Q2316.55 1965.23 2310.74 1965.23 Q2304.93 1965.23 2301.85 1960.65 Q2298.8 1956.04 2298.8 1947.31 Q2298.8 1938.56 2301.85 1933.98 Q2304.93 1929.37 2310.74 1929.37 Z\" fill=\"#000000\" fill-rule=\"evenodd\" fill-opacity=\"1\" /><path clip-path=\"url(#clip770)\" d=\"M3314.34 1945.42 Q3311.19 1945.42 3309.34 1947.57 Q3307.51 1949.72 3307.51 1953.47 Q3307.51 1957.2 3309.34 1959.37 Q3311.19 1961.53 3314.34 1961.53 Q3317.48 1961.53 3319.31 1959.37 Q3321.17 1957.2 3321.17 1953.47 Q3321.17 1949.72 3319.31 1947.57 Q3317.48 1945.42 3314.34 1945.42 M3323.62 1930.76 L3323.62 1935.02 Q3321.86 1934.19 3320.05 1933.75 Q3318.27 1933.31 3316.51 1933.31 Q3311.88 1933.31 3309.43 1936.44 Q3307 1939.56 3306.65 1945.88 Q3308.02 1943.87 3310.08 1942.8 Q3312.14 1941.71 3314.61 1941.71 Q3319.82 1941.71 3322.83 1944.88 Q3325.86 1948.03 3325.86 1953.47 Q3325.86 1958.8 3322.72 1962.01 Q3319.57 1965.23 3314.34 1965.23 Q3308.34 1965.23 3305.17 1960.65 Q3302 1956.04 3302 1947.31 Q3302 1939.12 3305.89 1934.26 Q3309.78 1929.37 3316.33 1929.37 Q3318.09 1929.37 3319.87 1929.72 Q3321.67 1930.07 3323.62 1930.76 Z\" fill=\"#000000\" fill-rule=\"evenodd\" fill-opacity=\"1\" /><path clip-path=\"url(#clip770)\" d=\"M3343.92 1933.08 Q3340.31 1933.08 3338.48 1936.64 Q3336.67 1940.19 3336.67 1947.31 Q3336.67 1954.42 3338.48 1957.99 Q3340.31 1961.53 3343.92 1961.53 Q3347.55 1961.53 3349.36 1957.99 Q3351.19 1954.42 3351.19 1947.31 Q3351.19 1940.19 3349.36 1936.64 Q3347.55 1933.08 3343.92 1933.08 M3343.92 1929.37 Q3349.73 1929.37 3352.79 1933.98 Q3355.86 1938.56 3355.86 1947.31 Q3355.86 1956.04 3352.79 1960.65 Q3349.73 1965.23 3343.92 1965.23 Q3338.11 1965.23 3335.03 1960.65 Q3331.98 1956.04 3331.98 1947.31 Q3331.98 1938.56 3335.03 1933.98 Q3338.11 1929.37 3343.92 1929.37 Z\" fill=\"#000000\" fill-rule=\"evenodd\" fill-opacity=\"1\" /><polyline clip-path=\"url(#clip772)\" style=\"stroke:#000000; stroke-linecap:butt; stroke-linejoin:round; stroke-width:2; stroke-opacity:0.1; fill:none\" points=\"\n",
       "  172.598,1891.09 3952.76,1891.09 \n",
       "  \"/>\n",
       "<polyline clip-path=\"url(#clip772)\" style=\"stroke:#000000; stroke-linecap:butt; stroke-linejoin:round; stroke-width:2; stroke-opacity:0.1; fill:none\" points=\"\n",
       "  172.598,1522.32 3952.76,1522.32 \n",
       "  \"/>\n",
       "<polyline clip-path=\"url(#clip772)\" style=\"stroke:#000000; stroke-linecap:butt; stroke-linejoin:round; stroke-width:2; stroke-opacity:0.1; fill:none\" points=\"\n",
       "  172.598,1153.55 3952.76,1153.55 \n",
       "  \"/>\n",
       "<polyline clip-path=\"url(#clip772)\" style=\"stroke:#000000; stroke-linecap:butt; stroke-linejoin:round; stroke-width:2; stroke-opacity:0.1; fill:none\" points=\"\n",
       "  172.598,784.782 3952.76,784.782 \n",
       "  \"/>\n",
       "<polyline clip-path=\"url(#clip772)\" style=\"stroke:#000000; stroke-linecap:butt; stroke-linejoin:round; stroke-width:2; stroke-opacity:0.1; fill:none\" points=\"\n",
       "  172.598,416.013 3952.76,416.013 \n",
       "  \"/>\n",
       "<polyline clip-path=\"url(#clip772)\" style=\"stroke:#000000; stroke-linecap:butt; stroke-linejoin:round; stroke-width:2; stroke-opacity:0.1; fill:none\" points=\"\n",
       "  172.598,47.2441 3952.76,47.2441 \n",
       "  \"/>\n",
       "<polyline clip-path=\"url(#clip770)\" style=\"stroke:#000000; stroke-linecap:butt; stroke-linejoin:round; stroke-width:4; stroke-opacity:1; fill:none\" points=\"\n",
       "  172.598,1891.09 172.598,47.2441 \n",
       "  \"/>\n",
       "<polyline clip-path=\"url(#clip770)\" style=\"stroke:#000000; stroke-linecap:butt; stroke-linejoin:round; stroke-width:4; stroke-opacity:1; fill:none\" points=\"\n",
       "  172.598,1891.09 217.96,1891.09 \n",
       "  \"/>\n",
       "<polyline clip-path=\"url(#clip770)\" style=\"stroke:#000000; stroke-linecap:butt; stroke-linejoin:round; stroke-width:4; stroke-opacity:1; fill:none\" points=\"\n",
       "  172.598,1522.32 217.96,1522.32 \n",
       "  \"/>\n",
       "<polyline clip-path=\"url(#clip770)\" style=\"stroke:#000000; stroke-linecap:butt; stroke-linejoin:round; stroke-width:4; stroke-opacity:1; fill:none\" points=\"\n",
       "  172.598,1153.55 217.96,1153.55 \n",
       "  \"/>\n",
       "<polyline clip-path=\"url(#clip770)\" style=\"stroke:#000000; stroke-linecap:butt; stroke-linejoin:round; stroke-width:4; stroke-opacity:1; fill:none\" points=\"\n",
       "  172.598,784.782 217.96,784.782 \n",
       "  \"/>\n",
       "<polyline clip-path=\"url(#clip770)\" style=\"stroke:#000000; stroke-linecap:butt; stroke-linejoin:round; stroke-width:4; stroke-opacity:1; fill:none\" points=\"\n",
       "  172.598,416.013 217.96,416.013 \n",
       "  \"/>\n",
       "<polyline clip-path=\"url(#clip770)\" style=\"stroke:#000000; stroke-linecap:butt; stroke-linejoin:round; stroke-width:4; stroke-opacity:1; fill:none\" points=\"\n",
       "  172.598,47.2441 217.96,47.2441 \n",
       "  \"/>\n",
       "<path clip-path=\"url(#clip770)\" d=\"M55.4226 1876.89 Q51.8115 1876.89 49.9828 1880.45 Q48.1773 1883.99 48.1773 1891.12 Q48.1773 1898.23 49.9828 1901.79 Q51.8115 1905.34 55.4226 1905.34 Q59.0569 1905.34 60.8624 1901.79 Q62.6911 1898.23 62.6911 1891.12 Q62.6911 1883.99 60.8624 1880.45 Q59.0569 1876.89 55.4226 1876.89 M55.4226 1873.18 Q61.2328 1873.18 64.2883 1877.79 Q67.367 1882.37 67.367 1891.12 Q67.367 1899.85 64.2883 1904.46 Q61.2328 1909.04 55.4226 1909.04 Q49.6125 1909.04 46.5338 1904.46 Q43.4782 1899.85 43.4782 1891.12 Q43.4782 1882.37 46.5338 1877.79 Q49.6125 1873.18 55.4226 1873.18 Z\" fill=\"#000000\" fill-rule=\"evenodd\" fill-opacity=\"1\" /><path clip-path=\"url(#clip770)\" d=\"M75.5845 1902.49 L80.4688 1902.49 L80.4688 1908.37 L75.5845 1908.37 L75.5845 1902.49 Z\" fill=\"#000000\" fill-rule=\"evenodd\" fill-opacity=\"1\" /><path clip-path=\"url(#clip770)\" d=\"M100.654 1876.89 Q97.0428 1876.89 95.2141 1880.45 Q93.4085 1883.99 93.4085 1891.12 Q93.4085 1898.23 95.2141 1901.79 Q97.0428 1905.34 100.654 1905.34 Q104.288 1905.34 106.094 1901.79 Q107.922 1898.23 107.922 1891.12 Q107.922 1883.99 106.094 1880.45 Q104.288 1876.89 100.654 1876.89 M100.654 1873.18 Q106.464 1873.18 109.52 1877.79 Q112.598 1882.37 112.598 1891.12 Q112.598 1899.85 109.52 1904.46 Q106.464 1909.04 100.654 1909.04 Q94.8437 1909.04 91.765 1904.46 Q88.7095 1899.85 88.7095 1891.12 Q88.7095 1882.37 91.765 1877.79 Q94.8437 1873.18 100.654 1873.18 Z\" fill=\"#000000\" fill-rule=\"evenodd\" fill-opacity=\"1\" /><path clip-path=\"url(#clip770)\" d=\"M57.0198 1508.12 Q53.4087 1508.12 51.58 1511.68 Q49.7745 1515.22 49.7745 1522.35 Q49.7745 1529.46 51.58 1533.03 Q53.4087 1536.57 57.0198 1536.57 Q60.6541 1536.57 62.4596 1533.03 Q64.2883 1529.46 64.2883 1522.35 Q64.2883 1515.22 62.4596 1511.68 Q60.6541 1508.12 57.0198 1508.12 M57.0198 1504.41 Q62.83 1504.41 65.8855 1509.02 Q68.9642 1513.6 68.9642 1522.35 Q68.9642 1531.08 65.8855 1535.69 Q62.83 1540.27 57.0198 1540.27 Q51.2097 1540.27 48.131 1535.69 Q45.0754 1531.08 45.0754 1522.35 Q45.0754 1513.6 48.131 1509.02 Q51.2097 1504.41 57.0198 1504.41 Z\" fill=\"#000000\" fill-rule=\"evenodd\" fill-opacity=\"1\" /><path clip-path=\"url(#clip770)\" d=\"M77.1818 1533.72 L82.066 1533.72 L82.066 1539.6 L77.1818 1539.6 L77.1818 1533.72 Z\" fill=\"#000000\" fill-rule=\"evenodd\" fill-opacity=\"1\" /><path clip-path=\"url(#clip770)\" d=\"M96.2789 1535.66 L112.598 1535.66 L112.598 1539.6 L90.6539 1539.6 L90.6539 1535.66 Q93.3159 1532.91 97.8992 1528.28 Q102.506 1523.63 103.686 1522.28 Q105.932 1519.76 106.811 1518.03 Q107.714 1516.27 107.714 1514.58 Q107.714 1511.82 105.77 1510.09 Q103.848 1508.35 100.746 1508.35 Q98.5474 1508.35 96.0937 1509.11 Q93.6632 1509.88 90.8854 1511.43 L90.8854 1506.71 Q93.7094 1505.57 96.1631 1504.99 Q98.6168 1504.41 100.654 1504.41 Q106.024 1504.41 109.219 1507.1 Q112.413 1509.78 112.413 1514.28 Q112.413 1516.4 111.603 1518.33 Q110.816 1520.22 108.709 1522.82 Q108.131 1523.49 105.029 1526.71 Q101.927 1529.9 96.2789 1535.66 Z\" fill=\"#000000\" fill-rule=\"evenodd\" fill-opacity=\"1\" /><path clip-path=\"url(#clip770)\" d=\"M54.9365 1139.35 Q51.3254 1139.35 49.4967 1142.91 Q47.6912 1146.46 47.6912 1153.59 Q47.6912 1160.69 49.4967 1164.26 Q51.3254 1167.8 54.9365 1167.8 Q58.5707 1167.8 60.3763 1164.26 Q62.205 1160.69 62.205 1153.59 Q62.205 1146.46 60.3763 1142.91 Q58.5707 1139.35 54.9365 1139.35 M54.9365 1135.65 Q60.7467 1135.65 63.8022 1140.25 Q66.8809 1144.84 66.8809 1153.59 Q66.8809 1162.31 63.8022 1166.92 Q60.7467 1171.5 54.9365 1171.5 Q49.1264 1171.5 46.0477 1166.92 Q42.9921 1162.31 42.9921 1153.59 Q42.9921 1144.84 46.0477 1140.25 Q49.1264 1135.65 54.9365 1135.65 Z\" fill=\"#000000\" fill-rule=\"evenodd\" fill-opacity=\"1\" /><path clip-path=\"url(#clip770)\" d=\"M75.0984 1164.95 L79.9827 1164.95 L79.9827 1170.83 L75.0984 1170.83 L75.0984 1164.95 Z\" fill=\"#000000\" fill-rule=\"evenodd\" fill-opacity=\"1\" /><path clip-path=\"url(#clip770)\" d=\"M103.015 1140.34 L91.2095 1158.79 L103.015 1158.79 L103.015 1140.34 M101.788 1136.27 L107.668 1136.27 L107.668 1158.79 L112.598 1158.79 L112.598 1162.68 L107.668 1162.68 L107.668 1170.83 L103.015 1170.83 L103.015 1162.68 L87.4132 1162.68 L87.4132 1158.17 L101.788 1136.27 Z\" fill=\"#000000\" fill-rule=\"evenodd\" fill-opacity=\"1\" /><path clip-path=\"url(#clip770)\" d=\"M55.2606 770.58 Q51.6495 770.58 49.8208 774.145 Q48.0152 777.687 48.0152 784.816 Q48.0152 791.923 49.8208 795.488 Q51.6495 799.029 55.2606 799.029 Q58.8948 799.029 60.7004 795.488 Q62.5291 791.923 62.5291 784.816 Q62.5291 777.687 60.7004 774.145 Q58.8948 770.58 55.2606 770.58 M55.2606 766.877 Q61.0707 766.877 64.1263 771.483 Q67.205 776.066 67.205 784.816 Q67.205 793.543 64.1263 798.15 Q61.0707 802.733 55.2606 802.733 Q49.4504 802.733 46.3717 798.15 Q43.3162 793.543 43.3162 784.816 Q43.3162 776.066 46.3717 771.483 Q49.4504 766.877 55.2606 766.877 Z\" fill=\"#000000\" fill-rule=\"evenodd\" fill-opacity=\"1\" /><path clip-path=\"url(#clip770)\" d=\"M75.4225 796.182 L80.3067 796.182 L80.3067 802.062 L75.4225 802.062 L75.4225 796.182 Z\" fill=\"#000000\" fill-rule=\"evenodd\" fill-opacity=\"1\" /><path clip-path=\"url(#clip770)\" d=\"M101.071 782.918 Q97.9224 782.918 96.0705 785.071 Q94.2419 787.224 94.2419 790.974 Q94.2419 794.701 96.0705 796.876 Q97.9224 799.029 101.071 799.029 Q104.219 799.029 106.047 796.876 Q107.899 794.701 107.899 790.974 Q107.899 787.224 106.047 785.071 Q104.219 782.918 101.071 782.918 M110.353 768.265 L110.353 772.525 Q108.594 771.691 106.788 771.252 Q105.006 770.812 103.246 770.812 Q98.6168 770.812 96.1631 773.937 Q93.7326 777.062 93.3854 783.381 Q94.7511 781.367 96.8113 780.302 Q98.8715 779.215 101.348 779.215 Q106.557 779.215 109.566 782.386 Q112.598 785.534 112.598 790.974 Q112.598 796.298 109.45 799.515 Q106.302 802.733 101.071 802.733 Q95.0752 802.733 91.9039 798.15 Q88.7326 793.543 88.7326 784.816 Q88.7326 776.622 92.6215 771.761 Q96.5104 766.877 103.061 766.877 Q104.82 766.877 106.603 767.224 Q108.408 767.571 110.353 768.265 Z\" fill=\"#000000\" fill-rule=\"evenodd\" fill-opacity=\"1\" /><path clip-path=\"url(#clip770)\" d=\"M55.5152 401.812 Q51.9041 401.812 50.0754 405.376 Q48.2699 408.918 48.2699 416.048 Q48.2699 423.154 50.0754 426.719 Q51.9041 430.26 55.5152 430.26 Q59.1494 430.26 60.955 426.719 Q62.7837 423.154 62.7837 416.048 Q62.7837 408.918 60.955 405.376 Q59.1494 401.812 55.5152 401.812 M55.5152 398.108 Q61.3254 398.108 64.3809 402.714 Q67.4596 407.298 67.4596 416.048 Q67.4596 424.774 64.3809 429.381 Q61.3254 433.964 55.5152 433.964 Q49.7051 433.964 46.6264 429.381 Q43.5708 424.774 43.5708 416.048 Q43.5708 407.298 46.6264 402.714 Q49.7051 398.108 55.5152 398.108 Z\" fill=\"#000000\" fill-rule=\"evenodd\" fill-opacity=\"1\" /><path clip-path=\"url(#clip770)\" d=\"M75.6771 427.413 L80.5614 427.413 L80.5614 433.293 L75.6771 433.293 L75.6771 427.413 Z\" fill=\"#000000\" fill-rule=\"evenodd\" fill-opacity=\"1\" /><path clip-path=\"url(#clip770)\" d=\"M100.746 416.881 Q97.4131 416.881 95.4918 418.663 Q93.5937 420.446 93.5937 423.571 Q93.5937 426.696 95.4918 428.478 Q97.4131 430.26 100.746 430.26 Q104.08 430.26 106.001 428.478 Q107.922 426.673 107.922 423.571 Q107.922 420.446 106.001 418.663 Q104.103 416.881 100.746 416.881 M96.0705 414.89 Q93.0613 414.149 91.3715 412.089 Q89.7048 410.029 89.7048 407.066 Q89.7048 402.923 92.6446 400.515 Q95.6076 398.108 100.746 398.108 Q105.908 398.108 108.848 400.515 Q111.788 402.923 111.788 407.066 Q111.788 410.029 110.098 412.089 Q108.432 414.149 105.445 414.89 Q108.825 415.677 110.7 417.969 Q112.598 420.261 112.598 423.571 Q112.598 428.594 109.52 431.279 Q106.464 433.964 100.746 433.964 Q95.0289 433.964 91.9502 431.279 Q88.8947 428.594 88.8947 423.571 Q88.8947 420.261 90.7928 417.969 Q92.6909 415.677 96.0705 414.89 M94.3576 407.506 Q94.3576 410.191 96.0242 411.696 Q97.7141 413.2 100.746 413.2 Q103.756 413.2 105.445 411.696 Q107.158 410.191 107.158 407.506 Q107.158 404.821 105.445 403.316 Q103.756 401.812 100.746 401.812 Q97.7141 401.812 96.0242 403.316 Q94.3576 404.821 94.3576 407.506 Z\" fill=\"#000000\" fill-rule=\"evenodd\" fill-opacity=\"1\" /><path clip-path=\"url(#clip770)\" d=\"M46.2328 60.5889 L53.8717 60.5889 L53.8717 34.2233 L45.5616 35.89 L45.5616 31.6308 L53.8254 29.9641 L58.5013 29.9641 L58.5013 60.5889 L66.1402 60.5889 L66.1402 64.5241 L46.2328 64.5241 L46.2328 60.5889 Z\" fill=\"#000000\" fill-rule=\"evenodd\" fill-opacity=\"1\" /><path clip-path=\"url(#clip770)\" d=\"M75.5845 58.6445 L80.4688 58.6445 L80.4688 64.5241 L75.5845 64.5241 L75.5845 58.6445 Z\" fill=\"#000000\" fill-rule=\"evenodd\" fill-opacity=\"1\" /><path clip-path=\"url(#clip770)\" d=\"M100.654 33.0428 Q97.0428 33.0428 95.2141 36.6076 Q93.4085 40.1492 93.4085 47.2788 Q93.4085 54.3853 95.2141 57.9501 Q97.0428 61.4917 100.654 61.4917 Q104.288 61.4917 106.094 57.9501 Q107.922 54.3853 107.922 47.2788 Q107.922 40.1492 106.094 36.6076 Q104.288 33.0428 100.654 33.0428 M100.654 29.3391 Q106.464 29.3391 109.52 33.9456 Q112.598 38.5289 112.598 47.2788 Q112.598 56.0056 109.52 60.6121 Q106.464 65.1954 100.654 65.1954 Q94.8437 65.1954 91.765 60.6121 Q88.7095 56.0056 88.7095 47.2788 Q88.7095 38.5289 91.765 33.9456 Q94.8437 29.3391 100.654 29.3391 Z\" fill=\"#000000\" fill-rule=\"evenodd\" fill-opacity=\"1\" /><circle clip-path=\"url(#clip772)\" cx=\"279.584\" cy=\"969.166\" r=\"67\" fill=\"#009af9\" fill-rule=\"evenodd\" fill-opacity=\"1\" stroke=\"#000000\" stroke-opacity=\"1\" stroke-width=\"4\"/>\n",
       "<circle clip-path=\"url(#clip772)\" cx=\"744.739\" cy=\"969.166\" r=\"7\" fill=\"#e26f46\" fill-rule=\"evenodd\" fill-opacity=\"1\" stroke=\"#000000\" stroke-opacity=\"1\" stroke-width=\"4\"/>\n",
       "<circle clip-path=\"url(#clip772)\" cx=\"1261.58\" cy=\"969.166\" r=\"48\" fill=\"#3da44d\" fill-rule=\"evenodd\" fill-opacity=\"1\" stroke=\"#000000\" stroke-opacity=\"1\" stroke-width=\"4\"/>\n",
       "<circle clip-path=\"url(#clip772)\" style=\"fill:#c271d2; stroke:none; fill-opacity:1\" cx=\"1778.42\" cy=\"969.166\" r=\"2\"/>\n",
       "<circle clip-path=\"url(#clip772)\" cx=\"2295.25\" cy=\"969.166\" r=\"11\" fill=\"#ac8d18\" fill-rule=\"evenodd\" fill-opacity=\"1\" stroke=\"#000000\" stroke-opacity=\"1\" stroke-width=\"4\"/>\n",
       "<circle clip-path=\"url(#clip772)\" cx=\"2812.09\" cy=\"969.166\" r=\"2\" fill=\"#00a9ad\" fill-rule=\"evenodd\" fill-opacity=\"1\" stroke=\"#000000\" stroke-opacity=\"1\" stroke-width=\"4\"/>\n",
       "<circle clip-path=\"url(#clip772)\" cx=\"3328.93\" cy=\"969.166\" r=\"216\" fill=\"#ed5d92\" fill-rule=\"evenodd\" fill-opacity=\"1\" stroke=\"#000000\" stroke-opacity=\"1\" stroke-width=\"4\"/>\n",
       "<circle clip-path=\"url(#clip772)\" cx=\"3845.77\" cy=\"969.166\" r=\"5\" fill=\"#c68125\" fill-rule=\"evenodd\" fill-opacity=\"1\" stroke=\"#000000\" stroke-opacity=\"1\" stroke-width=\"4\"/>\n",
       "</svg>\n"
      ]
     },
     "execution_count": 106,
     "metadata": {},
     "output_type": "execute_result"
    }
   ],
   "source": [
    "using Plots;\n",
    "plot!()\n",
    "scatter([1],[0.5],markersize= p3_4_E[1]*100,legend = false,size=(500,500),ylims=(0,1))\n",
    "scatter!([10],[0.5],markersize= p3_4_E[2]*100,legend = false,size=(500,500),ylims=(0,1))\n",
    "scatter!([20],[0.5],markersize= p3_4_E[3]*100,legend = false,size=(500,500),ylims=(0,1))\n",
    "scatter!([30],[0.5],markersize= p3_4_E[4]*100,legend = false,size=(500,500),ylims=(0,1))\n",
    "scatter!([40],[0.5],markersize= p3_4_E[5]*100,legend = false,size=(500,500),ylims=(0,1))\n",
    "scatter!([50],[0.5],markersize= p3_4_E[6]*100,legend = false,size=(500,500),ylims=(0,1))\n",
    "scatter!([60],[0.5],markersize= p3_4_E[7]*100,legend = false,size=(500,500),ylims=(0,1))\n",
    "scatter!([70],[0.5],markersize= p3_4_E[8]*100,legend = false,size=(500,500),ylims=(0,1))\n",
    "plot!(size=(1000,500))"
   ]
  },
  {
   "cell_type": "markdown",
   "metadata": {},
   "source": [
    "## Computing the circuit with the bit-flip error gate N=3, depth = 5"
   ]
  },
  {
   "cell_type": "code",
   "execution_count": 107,
   "metadata": {
    "ExecuteTime": {
     "end_time": "2021-07-10T21:18:16.070000+01:00",
     "start_time": "2021-07-10T20:18:16.000Z"
    }
   },
   "outputs": [],
   "source": [
    "using ITensors\n",
    "sites3 = siteinds(\"S=1/2\",N3)\n",
    "p3_5_E = zeros(8)\n",
    "for i in 1:3:24\n",
    "    states3 = TT3[i:i+2]\n",
    "    x3 = productMPS(sites3, states3)\n",
    "    ii = i÷3 + 1\n",
    "    #println(ii)\n",
    "    #println(xxx)\n",
    "    # Here is where the width and depth matters\n",
    "    A3_5_E = dot(x3,ψ3_5_E) \n",
    "    #println(\"Amplitude : \",A)\n",
    "    p3_5_E[ii] = real(A3_5_E)^2 + imag(A3_5_E)^2\n",
    "    #println(\"Probability : \",p)\n",
    "end"
   ]
  },
  {
   "cell_type": "code",
   "execution_count": 108,
   "metadata": {
    "ExecuteTime": {
     "end_time": "2021-07-10T21:18:41.595000+01:00",
     "start_time": "2021-07-10T20:18:41.585Z"
    }
   },
   "outputs": [
    {
     "name": "stdout",
     "output_type": "stream",
     "text": [
      "probability for each base state <x| = [0.08064337159035992, 0.014280990410287426, 0.05848822742964668, 0.006473907712552134, 0.2459249878204725, 0.22498033503849074, 0.006453961071788807, 0.36275421892640536]\n"
     ]
    }
   ],
   "source": [
    "println(\"probability for each base state <x| = \",p3_5_E)"
   ]
  },
  {
   "cell_type": "code",
   "execution_count": 109,
   "metadata": {
    "ExecuteTime": {
     "end_time": "2021-07-10T21:20:59.062000+01:00",
     "start_time": "2021-07-10T20:20:59.019Z"
    }
   },
   "outputs": [
    {
     "data": {
      "image/svg+xml": [
       "<?xml version=\"1.0\" encoding=\"utf-8\"?>\n",
       "<svg xmlns=\"http://www.w3.org/2000/svg\" xmlns:xlink=\"http://www.w3.org/1999/xlink\" width=\"1000\" height=\"500\" viewBox=\"0 0 4000 2000\">\n",
       "<defs>\n",
       "  <clipPath id=\"clip810\">\n",
       "    <rect x=\"0\" y=\"0\" width=\"4000\" height=\"2000\"/>\n",
       "  </clipPath>\n",
       "</defs>\n",
       "<path clip-path=\"url(#clip810)\" d=\"\n",
       "M0 2000 L4000 2000 L4000 0 L0 0  Z\n",
       "  \" fill=\"#ffffff\" fill-rule=\"evenodd\" fill-opacity=\"1\"/>\n",
       "<defs>\n",
       "  <clipPath id=\"clip811\">\n",
       "    <rect x=\"800\" y=\"0\" width=\"2801\" height=\"2000\"/>\n",
       "  </clipPath>\n",
       "</defs>\n",
       "<path clip-path=\"url(#clip810)\" d=\"\n",
       "M172.598 1891.09 L3952.76 1891.09 L3952.76 47.2441 L172.598 47.2441  Z\n",
       "  \" fill=\"#ffffff\" fill-rule=\"evenodd\" fill-opacity=\"1\"/>\n",
       "<defs>\n",
       "  <clipPath id=\"clip812\">\n",
       "    <rect x=\"172\" y=\"47\" width=\"3781\" height=\"1845\"/>\n",
       "  </clipPath>\n",
       "</defs>\n",
       "<polyline clip-path=\"url(#clip812)\" style=\"stroke:#000000; stroke-linecap:butt; stroke-linejoin:round; stroke-width:2; stroke-opacity:0.1; fill:none\" points=\"\n",
       "  227.9,1891.09 227.9,47.2441 \n",
       "  \"/>\n",
       "<polyline clip-path=\"url(#clip812)\" style=\"stroke:#000000; stroke-linecap:butt; stroke-linejoin:round; stroke-width:2; stroke-opacity:0.1; fill:none\" points=\"\n",
       "  1261.58,1891.09 1261.58,47.2441 \n",
       "  \"/>\n",
       "<polyline clip-path=\"url(#clip812)\" style=\"stroke:#000000; stroke-linecap:butt; stroke-linejoin:round; stroke-width:2; stroke-opacity:0.1; fill:none\" points=\"\n",
       "  2295.25,1891.09 2295.25,47.2441 \n",
       "  \"/>\n",
       "<polyline clip-path=\"url(#clip812)\" style=\"stroke:#000000; stroke-linecap:butt; stroke-linejoin:round; stroke-width:2; stroke-opacity:0.1; fill:none\" points=\"\n",
       "  3328.93,1891.09 3328.93,47.2441 \n",
       "  \"/>\n",
       "<polyline clip-path=\"url(#clip810)\" style=\"stroke:#000000; stroke-linecap:butt; stroke-linejoin:round; stroke-width:4; stroke-opacity:1; fill:none\" points=\"\n",
       "  172.598,1891.09 3952.76,1891.09 \n",
       "  \"/>\n",
       "<polyline clip-path=\"url(#clip810)\" style=\"stroke:#000000; stroke-linecap:butt; stroke-linejoin:round; stroke-width:4; stroke-opacity:1; fill:none\" points=\"\n",
       "  227.9,1891.09 227.9,1868.96 \n",
       "  \"/>\n",
       "<polyline clip-path=\"url(#clip810)\" style=\"stroke:#000000; stroke-linecap:butt; stroke-linejoin:round; stroke-width:4; stroke-opacity:1; fill:none\" points=\"\n",
       "  1261.58,1891.09 1261.58,1868.96 \n",
       "  \"/>\n",
       "<polyline clip-path=\"url(#clip810)\" style=\"stroke:#000000; stroke-linecap:butt; stroke-linejoin:round; stroke-width:4; stroke-opacity:1; fill:none\" points=\"\n",
       "  2295.25,1891.09 2295.25,1868.96 \n",
       "  \"/>\n",
       "<polyline clip-path=\"url(#clip810)\" style=\"stroke:#000000; stroke-linecap:butt; stroke-linejoin:round; stroke-width:4; stroke-opacity:1; fill:none\" points=\"\n",
       "  3328.93,1891.09 3328.93,1868.96 \n",
       "  \"/>\n",
       "<path clip-path=\"url(#clip810)\" d=\"M227.9 1933.08 Q224.289 1933.08 222.46 1936.64 Q220.655 1940.19 220.655 1947.31 Q220.655 1954.42 222.46 1957.99 Q224.289 1961.53 227.9 1961.53 Q231.534 1961.53 233.34 1957.99 Q235.168 1954.42 235.168 1947.31 Q235.168 1940.19 233.34 1936.64 Q231.534 1933.08 227.9 1933.08 M227.9 1929.37 Q233.71 1929.37 236.766 1933.98 Q239.844 1938.56 239.844 1947.31 Q239.844 1956.04 236.766 1960.65 Q233.71 1965.23 227.9 1965.23 Q222.09 1965.23 219.011 1960.65 Q215.956 1956.04 215.956 1947.31 Q215.956 1938.56 219.011 1933.98 Q222.09 1929.37 227.9 1929.37 Z\" fill=\"#000000\" fill-rule=\"evenodd\" fill-opacity=\"1\" /><path clip-path=\"url(#clip810)\" d=\"M1240.35 1960.62 L1256.67 1960.62 L1256.67 1964.56 L1234.73 1964.56 L1234.73 1960.62 Q1237.39 1957.87 1241.97 1953.24 Q1246.58 1948.59 1247.76 1947.25 Q1250 1944.72 1250.88 1942.99 Q1251.79 1941.23 1251.79 1939.54 Q1251.79 1936.78 1249.84 1935.05 Q1247.92 1933.31 1244.82 1933.31 Q1242.62 1933.31 1240.17 1934.07 Q1237.73 1934.84 1234.96 1936.39 L1234.96 1931.67 Q1237.78 1930.53 1240.23 1929.95 Q1242.69 1929.37 1244.73 1929.37 Q1250.1 1929.37 1253.29 1932.06 Q1256.48 1934.75 1256.48 1939.24 Q1256.48 1941.37 1255.67 1943.29 Q1254.89 1945.18 1252.78 1947.78 Q1252.2 1948.45 1249.1 1951.67 Q1246 1954.86 1240.35 1960.62 Z\" fill=\"#000000\" fill-rule=\"evenodd\" fill-opacity=\"1\" /><path clip-path=\"url(#clip810)\" d=\"M1276.48 1933.08 Q1272.87 1933.08 1271.04 1936.64 Q1269.24 1940.19 1269.24 1947.31 Q1269.24 1954.42 1271.04 1957.99 Q1272.87 1961.53 1276.48 1961.53 Q1280.12 1961.53 1281.92 1957.99 Q1283.75 1954.42 1283.75 1947.31 Q1283.75 1940.19 1281.92 1936.64 Q1280.12 1933.08 1276.48 1933.08 M1276.48 1929.37 Q1282.29 1929.37 1285.35 1933.98 Q1288.43 1938.56 1288.43 1947.31 Q1288.43 1956.04 1285.35 1960.65 Q1282.29 1965.23 1276.48 1965.23 Q1270.67 1965.23 1267.6 1960.65 Q1264.54 1956.04 1264.54 1947.31 Q1264.54 1938.56 1267.6 1933.98 Q1270.67 1929.37 1276.48 1929.37 Z\" fill=\"#000000\" fill-rule=\"evenodd\" fill-opacity=\"1\" /><path clip-path=\"url(#clip810)\" d=\"M2283.43 1934.07 L2271.62 1952.52 L2283.43 1952.52 L2283.43 1934.07 M2282.2 1930 L2288.08 1930 L2288.08 1952.52 L2293.01 1952.52 L2293.01 1956.41 L2288.08 1956.41 L2288.08 1964.56 L2283.43 1964.56 L2283.43 1956.41 L2267.82 1956.41 L2267.82 1951.9 L2282.2 1930 Z\" fill=\"#000000\" fill-rule=\"evenodd\" fill-opacity=\"1\" /><path clip-path=\"url(#clip810)\" d=\"M2310.74 1933.08 Q2307.13 1933.08 2305.3 1936.64 Q2303.5 1940.19 2303.5 1947.31 Q2303.5 1954.42 2305.3 1957.99 Q2307.13 1961.53 2310.74 1961.53 Q2314.37 1961.53 2316.18 1957.99 Q2318.01 1954.42 2318.01 1947.31 Q2318.01 1940.19 2316.18 1936.64 Q2314.37 1933.08 2310.74 1933.08 M2310.74 1929.37 Q2316.55 1929.37 2319.61 1933.98 Q2322.68 1938.56 2322.68 1947.31 Q2322.68 1956.04 2319.61 1960.65 Q2316.55 1965.23 2310.74 1965.23 Q2304.93 1965.23 2301.85 1960.65 Q2298.8 1956.04 2298.8 1947.31 Q2298.8 1938.56 2301.85 1933.98 Q2304.93 1929.37 2310.74 1929.37 Z\" fill=\"#000000\" fill-rule=\"evenodd\" fill-opacity=\"1\" /><path clip-path=\"url(#clip810)\" d=\"M3314.34 1945.42 Q3311.19 1945.42 3309.34 1947.57 Q3307.51 1949.72 3307.51 1953.47 Q3307.51 1957.2 3309.34 1959.37 Q3311.19 1961.53 3314.34 1961.53 Q3317.48 1961.53 3319.31 1959.37 Q3321.17 1957.2 3321.17 1953.47 Q3321.17 1949.72 3319.31 1947.57 Q3317.48 1945.42 3314.34 1945.42 M3323.62 1930.76 L3323.62 1935.02 Q3321.86 1934.19 3320.05 1933.75 Q3318.27 1933.31 3316.51 1933.31 Q3311.88 1933.31 3309.43 1936.44 Q3307 1939.56 3306.65 1945.88 Q3308.02 1943.87 3310.08 1942.8 Q3312.14 1941.71 3314.61 1941.71 Q3319.82 1941.71 3322.83 1944.88 Q3325.86 1948.03 3325.86 1953.47 Q3325.86 1958.8 3322.72 1962.01 Q3319.57 1965.23 3314.34 1965.23 Q3308.34 1965.23 3305.17 1960.65 Q3302 1956.04 3302 1947.31 Q3302 1939.12 3305.89 1934.26 Q3309.78 1929.37 3316.33 1929.37 Q3318.09 1929.37 3319.87 1929.72 Q3321.67 1930.07 3323.62 1930.76 Z\" fill=\"#000000\" fill-rule=\"evenodd\" fill-opacity=\"1\" /><path clip-path=\"url(#clip810)\" d=\"M3343.92 1933.08 Q3340.31 1933.08 3338.48 1936.64 Q3336.67 1940.19 3336.67 1947.31 Q3336.67 1954.42 3338.48 1957.99 Q3340.31 1961.53 3343.92 1961.53 Q3347.55 1961.53 3349.36 1957.99 Q3351.19 1954.42 3351.19 1947.31 Q3351.19 1940.19 3349.36 1936.64 Q3347.55 1933.08 3343.92 1933.08 M3343.92 1929.37 Q3349.73 1929.37 3352.79 1933.98 Q3355.86 1938.56 3355.86 1947.31 Q3355.86 1956.04 3352.79 1960.65 Q3349.73 1965.23 3343.92 1965.23 Q3338.11 1965.23 3335.03 1960.65 Q3331.98 1956.04 3331.98 1947.31 Q3331.98 1938.56 3335.03 1933.98 Q3338.11 1929.37 3343.92 1929.37 Z\" fill=\"#000000\" fill-rule=\"evenodd\" fill-opacity=\"1\" /><polyline clip-path=\"url(#clip812)\" style=\"stroke:#000000; stroke-linecap:butt; stroke-linejoin:round; stroke-width:2; stroke-opacity:0.1; fill:none\" points=\"\n",
       "  172.598,1891.09 3952.76,1891.09 \n",
       "  \"/>\n",
       "<polyline clip-path=\"url(#clip812)\" style=\"stroke:#000000; stroke-linecap:butt; stroke-linejoin:round; stroke-width:2; stroke-opacity:0.1; fill:none\" points=\"\n",
       "  172.598,1522.32 3952.76,1522.32 \n",
       "  \"/>\n",
       "<polyline clip-path=\"url(#clip812)\" style=\"stroke:#000000; stroke-linecap:butt; stroke-linejoin:round; stroke-width:2; stroke-opacity:0.1; fill:none\" points=\"\n",
       "  172.598,1153.55 3952.76,1153.55 \n",
       "  \"/>\n",
       "<polyline clip-path=\"url(#clip812)\" style=\"stroke:#000000; stroke-linecap:butt; stroke-linejoin:round; stroke-width:2; stroke-opacity:0.1; fill:none\" points=\"\n",
       "  172.598,784.782 3952.76,784.782 \n",
       "  \"/>\n",
       "<polyline clip-path=\"url(#clip812)\" style=\"stroke:#000000; stroke-linecap:butt; stroke-linejoin:round; stroke-width:2; stroke-opacity:0.1; fill:none\" points=\"\n",
       "  172.598,416.013 3952.76,416.013 \n",
       "  \"/>\n",
       "<polyline clip-path=\"url(#clip812)\" style=\"stroke:#000000; stroke-linecap:butt; stroke-linejoin:round; stroke-width:2; stroke-opacity:0.1; fill:none\" points=\"\n",
       "  172.598,47.2441 3952.76,47.2441 \n",
       "  \"/>\n",
       "<polyline clip-path=\"url(#clip810)\" style=\"stroke:#000000; stroke-linecap:butt; stroke-linejoin:round; stroke-width:4; stroke-opacity:1; fill:none\" points=\"\n",
       "  172.598,1891.09 172.598,47.2441 \n",
       "  \"/>\n",
       "<polyline clip-path=\"url(#clip810)\" style=\"stroke:#000000; stroke-linecap:butt; stroke-linejoin:round; stroke-width:4; stroke-opacity:1; fill:none\" points=\"\n",
       "  172.598,1891.09 217.96,1891.09 \n",
       "  \"/>\n",
       "<polyline clip-path=\"url(#clip810)\" style=\"stroke:#000000; stroke-linecap:butt; stroke-linejoin:round; stroke-width:4; stroke-opacity:1; fill:none\" points=\"\n",
       "  172.598,1522.32 217.96,1522.32 \n",
       "  \"/>\n",
       "<polyline clip-path=\"url(#clip810)\" style=\"stroke:#000000; stroke-linecap:butt; stroke-linejoin:round; stroke-width:4; stroke-opacity:1; fill:none\" points=\"\n",
       "  172.598,1153.55 217.96,1153.55 \n",
       "  \"/>\n",
       "<polyline clip-path=\"url(#clip810)\" style=\"stroke:#000000; stroke-linecap:butt; stroke-linejoin:round; stroke-width:4; stroke-opacity:1; fill:none\" points=\"\n",
       "  172.598,784.782 217.96,784.782 \n",
       "  \"/>\n",
       "<polyline clip-path=\"url(#clip810)\" style=\"stroke:#000000; stroke-linecap:butt; stroke-linejoin:round; stroke-width:4; stroke-opacity:1; fill:none\" points=\"\n",
       "  172.598,416.013 217.96,416.013 \n",
       "  \"/>\n",
       "<polyline clip-path=\"url(#clip810)\" style=\"stroke:#000000; stroke-linecap:butt; stroke-linejoin:round; stroke-width:4; stroke-opacity:1; fill:none\" points=\"\n",
       "  172.598,47.2441 217.96,47.2441 \n",
       "  \"/>\n",
       "<path clip-path=\"url(#clip810)\" d=\"M55.4226 1876.89 Q51.8115 1876.89 49.9828 1880.45 Q48.1773 1883.99 48.1773 1891.12 Q48.1773 1898.23 49.9828 1901.79 Q51.8115 1905.34 55.4226 1905.34 Q59.0569 1905.34 60.8624 1901.79 Q62.6911 1898.23 62.6911 1891.12 Q62.6911 1883.99 60.8624 1880.45 Q59.0569 1876.89 55.4226 1876.89 M55.4226 1873.18 Q61.2328 1873.18 64.2883 1877.79 Q67.367 1882.37 67.367 1891.12 Q67.367 1899.85 64.2883 1904.46 Q61.2328 1909.04 55.4226 1909.04 Q49.6125 1909.04 46.5338 1904.46 Q43.4782 1899.85 43.4782 1891.12 Q43.4782 1882.37 46.5338 1877.79 Q49.6125 1873.18 55.4226 1873.18 Z\" fill=\"#000000\" fill-rule=\"evenodd\" fill-opacity=\"1\" /><path clip-path=\"url(#clip810)\" d=\"M75.5845 1902.49 L80.4688 1902.49 L80.4688 1908.37 L75.5845 1908.37 L75.5845 1902.49 Z\" fill=\"#000000\" fill-rule=\"evenodd\" fill-opacity=\"1\" /><path clip-path=\"url(#clip810)\" d=\"M100.654 1876.89 Q97.0428 1876.89 95.2141 1880.45 Q93.4085 1883.99 93.4085 1891.12 Q93.4085 1898.23 95.2141 1901.79 Q97.0428 1905.34 100.654 1905.34 Q104.288 1905.34 106.094 1901.79 Q107.922 1898.23 107.922 1891.12 Q107.922 1883.99 106.094 1880.45 Q104.288 1876.89 100.654 1876.89 M100.654 1873.18 Q106.464 1873.18 109.52 1877.79 Q112.598 1882.37 112.598 1891.12 Q112.598 1899.85 109.52 1904.46 Q106.464 1909.04 100.654 1909.04 Q94.8437 1909.04 91.765 1904.46 Q88.7095 1899.85 88.7095 1891.12 Q88.7095 1882.37 91.765 1877.79 Q94.8437 1873.18 100.654 1873.18 Z\" fill=\"#000000\" fill-rule=\"evenodd\" fill-opacity=\"1\" /><path clip-path=\"url(#clip810)\" d=\"M57.0198 1508.12 Q53.4087 1508.12 51.58 1511.68 Q49.7745 1515.22 49.7745 1522.35 Q49.7745 1529.46 51.58 1533.03 Q53.4087 1536.57 57.0198 1536.57 Q60.6541 1536.57 62.4596 1533.03 Q64.2883 1529.46 64.2883 1522.35 Q64.2883 1515.22 62.4596 1511.68 Q60.6541 1508.12 57.0198 1508.12 M57.0198 1504.41 Q62.83 1504.41 65.8855 1509.02 Q68.9642 1513.6 68.9642 1522.35 Q68.9642 1531.08 65.8855 1535.69 Q62.83 1540.27 57.0198 1540.27 Q51.2097 1540.27 48.131 1535.69 Q45.0754 1531.08 45.0754 1522.35 Q45.0754 1513.6 48.131 1509.02 Q51.2097 1504.41 57.0198 1504.41 Z\" fill=\"#000000\" fill-rule=\"evenodd\" fill-opacity=\"1\" /><path clip-path=\"url(#clip810)\" d=\"M77.1818 1533.72 L82.066 1533.72 L82.066 1539.6 L77.1818 1539.6 L77.1818 1533.72 Z\" fill=\"#000000\" fill-rule=\"evenodd\" fill-opacity=\"1\" /><path clip-path=\"url(#clip810)\" d=\"M96.2789 1535.66 L112.598 1535.66 L112.598 1539.6 L90.6539 1539.6 L90.6539 1535.66 Q93.3159 1532.91 97.8992 1528.28 Q102.506 1523.63 103.686 1522.28 Q105.932 1519.76 106.811 1518.03 Q107.714 1516.27 107.714 1514.58 Q107.714 1511.82 105.77 1510.09 Q103.848 1508.35 100.746 1508.35 Q98.5474 1508.35 96.0937 1509.11 Q93.6632 1509.88 90.8854 1511.43 L90.8854 1506.71 Q93.7094 1505.57 96.1631 1504.99 Q98.6168 1504.41 100.654 1504.41 Q106.024 1504.41 109.219 1507.1 Q112.413 1509.78 112.413 1514.28 Q112.413 1516.4 111.603 1518.33 Q110.816 1520.22 108.709 1522.82 Q108.131 1523.49 105.029 1526.71 Q101.927 1529.9 96.2789 1535.66 Z\" fill=\"#000000\" fill-rule=\"evenodd\" fill-opacity=\"1\" /><path clip-path=\"url(#clip810)\" d=\"M54.9365 1139.35 Q51.3254 1139.35 49.4967 1142.91 Q47.6912 1146.46 47.6912 1153.59 Q47.6912 1160.69 49.4967 1164.26 Q51.3254 1167.8 54.9365 1167.8 Q58.5707 1167.8 60.3763 1164.26 Q62.205 1160.69 62.205 1153.59 Q62.205 1146.46 60.3763 1142.91 Q58.5707 1139.35 54.9365 1139.35 M54.9365 1135.65 Q60.7467 1135.65 63.8022 1140.25 Q66.8809 1144.84 66.8809 1153.59 Q66.8809 1162.31 63.8022 1166.92 Q60.7467 1171.5 54.9365 1171.5 Q49.1264 1171.5 46.0477 1166.92 Q42.9921 1162.31 42.9921 1153.59 Q42.9921 1144.84 46.0477 1140.25 Q49.1264 1135.65 54.9365 1135.65 Z\" fill=\"#000000\" fill-rule=\"evenodd\" fill-opacity=\"1\" /><path clip-path=\"url(#clip810)\" d=\"M75.0984 1164.95 L79.9827 1164.95 L79.9827 1170.83 L75.0984 1170.83 L75.0984 1164.95 Z\" fill=\"#000000\" fill-rule=\"evenodd\" fill-opacity=\"1\" /><path clip-path=\"url(#clip810)\" d=\"M103.015 1140.34 L91.2095 1158.79 L103.015 1158.79 L103.015 1140.34 M101.788 1136.27 L107.668 1136.27 L107.668 1158.79 L112.598 1158.79 L112.598 1162.68 L107.668 1162.68 L107.668 1170.83 L103.015 1170.83 L103.015 1162.68 L87.4132 1162.68 L87.4132 1158.17 L101.788 1136.27 Z\" fill=\"#000000\" fill-rule=\"evenodd\" fill-opacity=\"1\" /><path clip-path=\"url(#clip810)\" d=\"M55.2606 770.58 Q51.6495 770.58 49.8208 774.145 Q48.0152 777.687 48.0152 784.816 Q48.0152 791.923 49.8208 795.488 Q51.6495 799.029 55.2606 799.029 Q58.8948 799.029 60.7004 795.488 Q62.5291 791.923 62.5291 784.816 Q62.5291 777.687 60.7004 774.145 Q58.8948 770.58 55.2606 770.58 M55.2606 766.877 Q61.0707 766.877 64.1263 771.483 Q67.205 776.066 67.205 784.816 Q67.205 793.543 64.1263 798.15 Q61.0707 802.733 55.2606 802.733 Q49.4504 802.733 46.3717 798.15 Q43.3162 793.543 43.3162 784.816 Q43.3162 776.066 46.3717 771.483 Q49.4504 766.877 55.2606 766.877 Z\" fill=\"#000000\" fill-rule=\"evenodd\" fill-opacity=\"1\" /><path clip-path=\"url(#clip810)\" d=\"M75.4225 796.182 L80.3067 796.182 L80.3067 802.062 L75.4225 802.062 L75.4225 796.182 Z\" fill=\"#000000\" fill-rule=\"evenodd\" fill-opacity=\"1\" /><path clip-path=\"url(#clip810)\" d=\"M101.071 782.918 Q97.9224 782.918 96.0705 785.071 Q94.2419 787.224 94.2419 790.974 Q94.2419 794.701 96.0705 796.876 Q97.9224 799.029 101.071 799.029 Q104.219 799.029 106.047 796.876 Q107.899 794.701 107.899 790.974 Q107.899 787.224 106.047 785.071 Q104.219 782.918 101.071 782.918 M110.353 768.265 L110.353 772.525 Q108.594 771.691 106.788 771.252 Q105.006 770.812 103.246 770.812 Q98.6168 770.812 96.1631 773.937 Q93.7326 777.062 93.3854 783.381 Q94.7511 781.367 96.8113 780.302 Q98.8715 779.215 101.348 779.215 Q106.557 779.215 109.566 782.386 Q112.598 785.534 112.598 790.974 Q112.598 796.298 109.45 799.515 Q106.302 802.733 101.071 802.733 Q95.0752 802.733 91.9039 798.15 Q88.7326 793.543 88.7326 784.816 Q88.7326 776.622 92.6215 771.761 Q96.5104 766.877 103.061 766.877 Q104.82 766.877 106.603 767.224 Q108.408 767.571 110.353 768.265 Z\" fill=\"#000000\" fill-rule=\"evenodd\" fill-opacity=\"1\" /><path clip-path=\"url(#clip810)\" d=\"M55.5152 401.812 Q51.9041 401.812 50.0754 405.376 Q48.2699 408.918 48.2699 416.048 Q48.2699 423.154 50.0754 426.719 Q51.9041 430.26 55.5152 430.26 Q59.1494 430.26 60.955 426.719 Q62.7837 423.154 62.7837 416.048 Q62.7837 408.918 60.955 405.376 Q59.1494 401.812 55.5152 401.812 M55.5152 398.108 Q61.3254 398.108 64.3809 402.714 Q67.4596 407.298 67.4596 416.048 Q67.4596 424.774 64.3809 429.381 Q61.3254 433.964 55.5152 433.964 Q49.7051 433.964 46.6264 429.381 Q43.5708 424.774 43.5708 416.048 Q43.5708 407.298 46.6264 402.714 Q49.7051 398.108 55.5152 398.108 Z\" fill=\"#000000\" fill-rule=\"evenodd\" fill-opacity=\"1\" /><path clip-path=\"url(#clip810)\" d=\"M75.6771 427.413 L80.5614 427.413 L80.5614 433.293 L75.6771 433.293 L75.6771 427.413 Z\" fill=\"#000000\" fill-rule=\"evenodd\" fill-opacity=\"1\" /><path clip-path=\"url(#clip810)\" d=\"M100.746 416.881 Q97.4131 416.881 95.4918 418.663 Q93.5937 420.446 93.5937 423.571 Q93.5937 426.696 95.4918 428.478 Q97.4131 430.26 100.746 430.26 Q104.08 430.26 106.001 428.478 Q107.922 426.673 107.922 423.571 Q107.922 420.446 106.001 418.663 Q104.103 416.881 100.746 416.881 M96.0705 414.89 Q93.0613 414.149 91.3715 412.089 Q89.7048 410.029 89.7048 407.066 Q89.7048 402.923 92.6446 400.515 Q95.6076 398.108 100.746 398.108 Q105.908 398.108 108.848 400.515 Q111.788 402.923 111.788 407.066 Q111.788 410.029 110.098 412.089 Q108.432 414.149 105.445 414.89 Q108.825 415.677 110.7 417.969 Q112.598 420.261 112.598 423.571 Q112.598 428.594 109.52 431.279 Q106.464 433.964 100.746 433.964 Q95.0289 433.964 91.9502 431.279 Q88.8947 428.594 88.8947 423.571 Q88.8947 420.261 90.7928 417.969 Q92.6909 415.677 96.0705 414.89 M94.3576 407.506 Q94.3576 410.191 96.0242 411.696 Q97.7141 413.2 100.746 413.2 Q103.756 413.2 105.445 411.696 Q107.158 410.191 107.158 407.506 Q107.158 404.821 105.445 403.316 Q103.756 401.812 100.746 401.812 Q97.7141 401.812 96.0242 403.316 Q94.3576 404.821 94.3576 407.506 Z\" fill=\"#000000\" fill-rule=\"evenodd\" fill-opacity=\"1\" /><path clip-path=\"url(#clip810)\" d=\"M46.2328 60.5889 L53.8717 60.5889 L53.8717 34.2233 L45.5616 35.89 L45.5616 31.6308 L53.8254 29.9641 L58.5013 29.9641 L58.5013 60.5889 L66.1402 60.5889 L66.1402 64.5241 L46.2328 64.5241 L46.2328 60.5889 Z\" fill=\"#000000\" fill-rule=\"evenodd\" fill-opacity=\"1\" /><path clip-path=\"url(#clip810)\" d=\"M75.5845 58.6445 L80.4688 58.6445 L80.4688 64.5241 L75.5845 64.5241 L75.5845 58.6445 Z\" fill=\"#000000\" fill-rule=\"evenodd\" fill-opacity=\"1\" /><path clip-path=\"url(#clip810)\" d=\"M100.654 33.0428 Q97.0428 33.0428 95.2141 36.6076 Q93.4085 40.1492 93.4085 47.2788 Q93.4085 54.3853 95.2141 57.9501 Q97.0428 61.4917 100.654 61.4917 Q104.288 61.4917 106.094 57.9501 Q107.922 54.3853 107.922 47.2788 Q107.922 40.1492 106.094 36.6076 Q104.288 33.0428 100.654 33.0428 M100.654 29.3391 Q106.464 29.3391 109.52 33.9456 Q112.598 38.5289 112.598 47.2788 Q112.598 56.0056 109.52 60.6121 Q106.464 65.1954 100.654 65.1954 Q94.8437 65.1954 91.765 60.6121 Q88.7095 56.0056 88.7095 47.2788 Q88.7095 38.5289 91.765 33.9456 Q94.8437 29.3391 100.654 29.3391 Z\" fill=\"#000000\" fill-rule=\"evenodd\" fill-opacity=\"1\" /><circle clip-path=\"url(#clip812)\" cx=\"279.584\" cy=\"969.166\" r=\"29\" fill=\"#009af9\" fill-rule=\"evenodd\" fill-opacity=\"1\" stroke=\"#000000\" stroke-opacity=\"1\" stroke-width=\"4\"/>\n",
       "<circle clip-path=\"url(#clip812)\" cx=\"744.739\" cy=\"969.166\" r=\"5\" fill=\"#e26f46\" fill-rule=\"evenodd\" fill-opacity=\"1\" stroke=\"#000000\" stroke-opacity=\"1\" stroke-width=\"4\"/>\n",
       "<circle clip-path=\"url(#clip812)\" cx=\"1261.58\" cy=\"969.166\" r=\"21\" fill=\"#3da44d\" fill-rule=\"evenodd\" fill-opacity=\"1\" stroke=\"#000000\" stroke-opacity=\"1\" stroke-width=\"4\"/>\n",
       "<circle clip-path=\"url(#clip812)\" cx=\"1778.42\" cy=\"969.166\" r=\"2\" fill=\"#c271d2\" fill-rule=\"evenodd\" fill-opacity=\"1\" stroke=\"#000000\" stroke-opacity=\"1\" stroke-width=\"4\"/>\n",
       "<circle clip-path=\"url(#clip812)\" cx=\"2295.25\" cy=\"969.166\" r=\"88\" fill=\"#ac8d18\" fill-rule=\"evenodd\" fill-opacity=\"1\" stroke=\"#000000\" stroke-opacity=\"1\" stroke-width=\"4\"/>\n",
       "<circle clip-path=\"url(#clip812)\" cx=\"2812.09\" cy=\"969.166\" r=\"80\" fill=\"#00a9ad\" fill-rule=\"evenodd\" fill-opacity=\"1\" stroke=\"#000000\" stroke-opacity=\"1\" stroke-width=\"4\"/>\n",
       "<circle clip-path=\"url(#clip812)\" cx=\"3328.93\" cy=\"969.166\" r=\"2\" fill=\"#ed5d92\" fill-rule=\"evenodd\" fill-opacity=\"1\" stroke=\"#000000\" stroke-opacity=\"1\" stroke-width=\"4\"/>\n",
       "<circle clip-path=\"url(#clip812)\" cx=\"3845.77\" cy=\"969.166\" r=\"130\" fill=\"#c68125\" fill-rule=\"evenodd\" fill-opacity=\"1\" stroke=\"#000000\" stroke-opacity=\"1\" stroke-width=\"4\"/>\n",
       "</svg>\n"
      ]
     },
     "execution_count": 109,
     "metadata": {},
     "output_type": "execute_result"
    }
   ],
   "source": [
    "using Plots;\n",
    "plot!()\n",
    "scatter([1],[0.5],markersize= p3_5_E[1]*100,legend = false,size=(500,500),ylims=(0,1))\n",
    "scatter!([10],[0.5],markersize= p3_5_E[2]*100,legend = false,size=(500,500),ylims=(0,1))\n",
    "scatter!([20],[0.5],markersize= p3_5_E[3]*100,legend = false,size=(500,500),ylims=(0,1))\n",
    "scatter!([30],[0.5],markersize= p3_5_E[4]*100,legend = false,size=(500,500),ylims=(0,1))\n",
    "scatter!([40],[0.5],markersize= p3_5_E[5]*100,legend = false,size=(500,500),ylims=(0,1))\n",
    "scatter!([50],[0.5],markersize= p3_5_E[6]*100,legend = false,size=(500,500),ylims=(0,1))\n",
    "scatter!([60],[0.5],markersize= p3_5_E[7]*100,legend = false,size=(500,500),ylims=(0,1))\n",
    "scatter!([70],[0.5],markersize= p3_5_E[8]*100,legend = false,size=(500,500),ylims=(0,1))\n",
    "plot!(size=(1000,500))"
   ]
  },
  {
   "cell_type": "markdown",
   "metadata": {},
   "source": [
    "## All plots toguether with bit-flip error gate cases [N=3,D=3], [N=3,D=4],[N-3,D=5]"
   ]
  },
  {
   "cell_type": "code",
   "execution_count": 113,
   "metadata": {
    "ExecuteTime": {
     "end_time": "2021-07-10T21:32:35.933000+01:00",
     "start_time": "2021-07-10T20:32:35.811Z"
    }
   },
   "outputs": [
    {
     "data": {
      "image/svg+xml": [
       "<?xml version=\"1.0\" encoding=\"utf-8\"?>\n",
       "<svg xmlns=\"http://www.w3.org/2000/svg\" xmlns:xlink=\"http://www.w3.org/1999/xlink\" width=\"1000\" height=\"500\" viewBox=\"0 0 4000 2000\">\n",
       "<defs>\n",
       "  <clipPath id=\"clip970\">\n",
       "    <rect x=\"0\" y=\"0\" width=\"4000\" height=\"2000\"/>\n",
       "  </clipPath>\n",
       "</defs>\n",
       "<path clip-path=\"url(#clip970)\" d=\"\n",
       "M0 2000 L4000 2000 L4000 0 L0 0  Z\n",
       "  \" fill=\"#ffffff\" fill-rule=\"evenodd\" fill-opacity=\"1\"/>\n",
       "<defs>\n",
       "  <clipPath id=\"clip971\">\n",
       "    <rect x=\"800\" y=\"0\" width=\"2801\" height=\"2000\"/>\n",
       "  </clipPath>\n",
       "</defs>\n",
       "<path clip-path=\"url(#clip970)\" d=\"\n",
       "M128.177 1891.09 L3952.76 1891.09 L3952.76 47.2441 L128.177 47.2441  Z\n",
       "  \" fill=\"#ffffff\" fill-rule=\"evenodd\" fill-opacity=\"1\"/>\n",
       "<defs>\n",
       "  <clipPath id=\"clip972\">\n",
       "    <rect x=\"128\" y=\"47\" width=\"3826\" height=\"1845\"/>\n",
       "  </clipPath>\n",
       "</defs>\n",
       "<polyline clip-path=\"url(#clip972)\" style=\"stroke:#000000; stroke-linecap:butt; stroke-linejoin:round; stroke-width:2; stroke-opacity:0.1; fill:none\" points=\"\n",
       "  184.129,1891.09 184.129,47.2441 \n",
       "  \"/>\n",
       "<polyline clip-path=\"url(#clip972)\" style=\"stroke:#000000; stroke-linecap:butt; stroke-linejoin:round; stroke-width:2; stroke-opacity:0.1; fill:none\" points=\"\n",
       "  1229.95,1891.09 1229.95,47.2441 \n",
       "  \"/>\n",
       "<polyline clip-path=\"url(#clip972)\" style=\"stroke:#000000; stroke-linecap:butt; stroke-linejoin:round; stroke-width:2; stroke-opacity:0.1; fill:none\" points=\"\n",
       "  2275.78,1891.09 2275.78,47.2441 \n",
       "  \"/>\n",
       "<polyline clip-path=\"url(#clip972)\" style=\"stroke:#000000; stroke-linecap:butt; stroke-linejoin:round; stroke-width:2; stroke-opacity:0.1; fill:none\" points=\"\n",
       "  3321.6,1891.09 3321.6,47.2441 \n",
       "  \"/>\n",
       "<polyline clip-path=\"url(#clip970)\" style=\"stroke:#000000; stroke-linecap:butt; stroke-linejoin:round; stroke-width:4; stroke-opacity:1; fill:none\" points=\"\n",
       "  128.177,1891.09 3952.76,1891.09 \n",
       "  \"/>\n",
       "<polyline clip-path=\"url(#clip970)\" style=\"stroke:#000000; stroke-linecap:butt; stroke-linejoin:round; stroke-width:4; stroke-opacity:1; fill:none\" points=\"\n",
       "  184.129,1891.09 184.129,1868.96 \n",
       "  \"/>\n",
       "<polyline clip-path=\"url(#clip970)\" style=\"stroke:#000000; stroke-linecap:butt; stroke-linejoin:round; stroke-width:4; stroke-opacity:1; fill:none\" points=\"\n",
       "  1229.95,1891.09 1229.95,1868.96 \n",
       "  \"/>\n",
       "<polyline clip-path=\"url(#clip970)\" style=\"stroke:#000000; stroke-linecap:butt; stroke-linejoin:round; stroke-width:4; stroke-opacity:1; fill:none\" points=\"\n",
       "  2275.78,1891.09 2275.78,1868.96 \n",
       "  \"/>\n",
       "<polyline clip-path=\"url(#clip970)\" style=\"stroke:#000000; stroke-linecap:butt; stroke-linejoin:round; stroke-width:4; stroke-opacity:1; fill:none\" points=\"\n",
       "  3321.6,1891.09 3321.6,1868.96 \n",
       "  \"/>\n",
       "<path clip-path=\"url(#clip970)\" d=\"M184.129 1933.08 Q180.518 1933.08 178.689 1936.64 Q176.883 1940.19 176.883 1947.31 Q176.883 1954.42 178.689 1957.99 Q180.518 1961.53 184.129 1961.53 Q187.763 1961.53 189.569 1957.99 Q191.397 1954.42 191.397 1947.31 Q191.397 1940.19 189.569 1936.64 Q187.763 1933.08 184.129 1933.08 M184.129 1929.37 Q189.939 1929.37 192.994 1933.98 Q196.073 1938.56 196.073 1947.31 Q196.073 1956.04 192.994 1960.65 Q189.939 1965.23 184.129 1965.23 Q178.319 1965.23 175.24 1960.65 Q172.184 1956.04 172.184 1947.31 Q172.184 1938.56 175.24 1933.98 Q178.319 1929.37 184.129 1929.37 Z\" fill=\"#000000\" fill-rule=\"evenodd\" fill-opacity=\"1\" /><path clip-path=\"url(#clip970)\" d=\"M1208.73 1960.62 L1225.05 1960.62 L1225.05 1964.56 L1203.1 1964.56 L1203.1 1960.62 Q1205.76 1957.87 1210.35 1953.24 Q1214.95 1948.59 1216.13 1947.25 Q1218.38 1944.72 1219.26 1942.99 Q1220.16 1941.23 1220.16 1939.54 Q1220.16 1936.78 1218.22 1935.05 Q1216.3 1933.31 1213.19 1933.31 Q1210.99 1933.31 1208.54 1934.07 Q1206.11 1934.84 1203.33 1936.39 L1203.33 1931.67 Q1206.16 1930.53 1208.61 1929.95 Q1211.06 1929.37 1213.1 1929.37 Q1218.47 1929.37 1221.67 1932.06 Q1224.86 1934.75 1224.86 1939.24 Q1224.86 1941.37 1224.05 1943.29 Q1223.26 1945.18 1221.16 1947.78 Q1220.58 1948.45 1217.48 1951.67 Q1214.37 1954.86 1208.73 1960.62 Z\" fill=\"#000000\" fill-rule=\"evenodd\" fill-opacity=\"1\" /><path clip-path=\"url(#clip970)\" d=\"M1244.86 1933.08 Q1241.25 1933.08 1239.42 1936.64 Q1237.61 1940.19 1237.61 1947.31 Q1237.61 1954.42 1239.42 1957.99 Q1241.25 1961.53 1244.86 1961.53 Q1248.49 1961.53 1250.3 1957.99 Q1252.13 1954.42 1252.13 1947.31 Q1252.13 1940.19 1250.3 1936.64 Q1248.49 1933.08 1244.86 1933.08 M1244.86 1929.37 Q1250.67 1929.37 1253.73 1933.98 Q1256.8 1938.56 1256.8 1947.31 Q1256.8 1956.04 1253.73 1960.65 Q1250.67 1965.23 1244.86 1965.23 Q1239.05 1965.23 1235.97 1960.65 Q1232.92 1956.04 1232.92 1947.31 Q1232.92 1938.56 1235.97 1933.98 Q1239.05 1929.37 1244.86 1929.37 Z\" fill=\"#000000\" fill-rule=\"evenodd\" fill-opacity=\"1\" /><path clip-path=\"url(#clip970)\" d=\"M2263.95 1934.07 L2252.14 1952.52 L2263.95 1952.52 L2263.95 1934.07 M2262.72 1930 L2268.6 1930 L2268.6 1952.52 L2273.53 1952.52 L2273.53 1956.41 L2268.6 1956.41 L2268.6 1964.56 L2263.95 1964.56 L2263.95 1956.41 L2248.35 1956.41 L2248.35 1951.9 L2262.72 1930 Z\" fill=\"#000000\" fill-rule=\"evenodd\" fill-opacity=\"1\" /><path clip-path=\"url(#clip970)\" d=\"M2291.26 1933.08 Q2287.65 1933.08 2285.82 1936.64 Q2284.02 1940.19 2284.02 1947.31 Q2284.02 1954.42 2285.82 1957.99 Q2287.65 1961.53 2291.26 1961.53 Q2294.9 1961.53 2296.7 1957.99 Q2298.53 1954.42 2298.53 1947.31 Q2298.53 1940.19 2296.7 1936.64 Q2294.9 1933.08 2291.26 1933.08 M2291.26 1929.37 Q2297.07 1929.37 2300.13 1933.98 Q2303.21 1938.56 2303.21 1947.31 Q2303.21 1956.04 2300.13 1960.65 Q2297.07 1965.23 2291.26 1965.23 Q2285.45 1965.23 2282.37 1960.65 Q2279.32 1956.04 2279.32 1947.31 Q2279.32 1938.56 2282.37 1933.98 Q2285.45 1929.37 2291.26 1929.37 Z\" fill=\"#000000\" fill-rule=\"evenodd\" fill-opacity=\"1\" /><path clip-path=\"url(#clip970)\" d=\"M3307.01 1945.42 Q3303.86 1945.42 3302.01 1947.57 Q3300.18 1949.72 3300.18 1953.47 Q3300.18 1957.2 3302.01 1959.37 Q3303.86 1961.53 3307.01 1961.53 Q3310.15 1961.53 3311.98 1959.37 Q3313.83 1957.2 3313.83 1953.47 Q3313.83 1949.72 3311.98 1947.57 Q3310.15 1945.42 3307.01 1945.42 M3316.29 1930.76 L3316.29 1935.02 Q3314.53 1934.19 3312.72 1933.75 Q3310.94 1933.31 3309.18 1933.31 Q3304.55 1933.31 3302.1 1936.44 Q3299.67 1939.56 3299.32 1945.88 Q3300.69 1943.87 3302.75 1942.8 Q3304.81 1941.71 3307.28 1941.71 Q3312.49 1941.71 3315.5 1944.88 Q3318.53 1948.03 3318.53 1953.47 Q3318.53 1958.8 3315.39 1962.01 Q3312.24 1965.23 3307.01 1965.23 Q3301.01 1965.23 3297.84 1960.65 Q3294.67 1956.04 3294.67 1947.31 Q3294.67 1939.12 3298.56 1934.26 Q3302.45 1929.37 3309 1929.37 Q3310.76 1929.37 3312.54 1929.72 Q3314.34 1930.07 3316.29 1930.76 Z\" fill=\"#000000\" fill-rule=\"evenodd\" fill-opacity=\"1\" /><path clip-path=\"url(#clip970)\" d=\"M3336.59 1933.08 Q3332.98 1933.08 3331.15 1936.64 Q3329.34 1940.19 3329.34 1947.31 Q3329.34 1954.42 3331.15 1957.99 Q3332.98 1961.53 3336.59 1961.53 Q3340.22 1961.53 3342.03 1957.99 Q3343.86 1954.42 3343.86 1947.31 Q3343.86 1940.19 3342.03 1936.64 Q3340.22 1933.08 3336.59 1933.08 M3336.59 1929.37 Q3342.4 1929.37 3345.46 1933.98 Q3348.53 1938.56 3348.53 1947.31 Q3348.53 1956.04 3345.46 1960.65 Q3342.4 1965.23 3336.59 1965.23 Q3330.78 1965.23 3327.7 1960.65 Q3324.65 1956.04 3324.65 1947.31 Q3324.65 1938.56 3327.7 1933.98 Q3330.78 1929.37 3336.59 1929.37 Z\" fill=\"#000000\" fill-rule=\"evenodd\" fill-opacity=\"1\" /><polyline clip-path=\"url(#clip972)\" style=\"stroke:#000000; stroke-linecap:butt; stroke-linejoin:round; stroke-width:2; stroke-opacity:0.1; fill:none\" points=\"\n",
       "  128.177,1891.09 3952.76,1891.09 \n",
       "  \"/>\n",
       "<polyline clip-path=\"url(#clip972)\" style=\"stroke:#000000; stroke-linecap:butt; stroke-linejoin:round; stroke-width:2; stroke-opacity:0.1; fill:none\" points=\"\n",
       "  128.177,1627.68 3952.76,1627.68 \n",
       "  \"/>\n",
       "<polyline clip-path=\"url(#clip972)\" style=\"stroke:#000000; stroke-linecap:butt; stroke-linejoin:round; stroke-width:2; stroke-opacity:0.1; fill:none\" points=\"\n",
       "  128.177,1364.28 3952.76,1364.28 \n",
       "  \"/>\n",
       "<polyline clip-path=\"url(#clip972)\" style=\"stroke:#000000; stroke-linecap:butt; stroke-linejoin:round; stroke-width:2; stroke-opacity:0.1; fill:none\" points=\"\n",
       "  128.177,1100.87 3952.76,1100.87 \n",
       "  \"/>\n",
       "<polyline clip-path=\"url(#clip972)\" style=\"stroke:#000000; stroke-linecap:butt; stroke-linejoin:round; stroke-width:2; stroke-opacity:0.1; fill:none\" points=\"\n",
       "  128.177,837.463 3952.76,837.463 \n",
       "  \"/>\n",
       "<polyline clip-path=\"url(#clip972)\" style=\"stroke:#000000; stroke-linecap:butt; stroke-linejoin:round; stroke-width:2; stroke-opacity:0.1; fill:none\" points=\"\n",
       "  128.177,574.057 3952.76,574.057 \n",
       "  \"/>\n",
       "<polyline clip-path=\"url(#clip972)\" style=\"stroke:#000000; stroke-linecap:butt; stroke-linejoin:round; stroke-width:2; stroke-opacity:0.1; fill:none\" points=\"\n",
       "  128.177,310.65 3952.76,310.65 \n",
       "  \"/>\n",
       "<polyline clip-path=\"url(#clip972)\" style=\"stroke:#000000; stroke-linecap:butt; stroke-linejoin:round; stroke-width:2; stroke-opacity:0.1; fill:none\" points=\"\n",
       "  128.177,47.2441 3952.76,47.2441 \n",
       "  \"/>\n",
       "<polyline clip-path=\"url(#clip970)\" style=\"stroke:#000000; stroke-linecap:butt; stroke-linejoin:round; stroke-width:4; stroke-opacity:1; fill:none\" points=\"\n",
       "  128.177,1891.09 128.177,47.2441 \n",
       "  \"/>\n",
       "<polyline clip-path=\"url(#clip970)\" style=\"stroke:#000000; stroke-linecap:butt; stroke-linejoin:round; stroke-width:4; stroke-opacity:1; fill:none\" points=\"\n",
       "  128.177,1891.09 174.072,1891.09 \n",
       "  \"/>\n",
       "<polyline clip-path=\"url(#clip970)\" style=\"stroke:#000000; stroke-linecap:butt; stroke-linejoin:round; stroke-width:4; stroke-opacity:1; fill:none\" points=\"\n",
       "  128.177,1627.68 174.072,1627.68 \n",
       "  \"/>\n",
       "<polyline clip-path=\"url(#clip970)\" style=\"stroke:#000000; stroke-linecap:butt; stroke-linejoin:round; stroke-width:4; stroke-opacity:1; fill:none\" points=\"\n",
       "  128.177,1364.28 174.072,1364.28 \n",
       "  \"/>\n",
       "<polyline clip-path=\"url(#clip970)\" style=\"stroke:#000000; stroke-linecap:butt; stroke-linejoin:round; stroke-width:4; stroke-opacity:1; fill:none\" points=\"\n",
       "  128.177,1100.87 174.072,1100.87 \n",
       "  \"/>\n",
       "<polyline clip-path=\"url(#clip970)\" style=\"stroke:#000000; stroke-linecap:butt; stroke-linejoin:round; stroke-width:4; stroke-opacity:1; fill:none\" points=\"\n",
       "  128.177,837.463 174.072,837.463 \n",
       "  \"/>\n",
       "<polyline clip-path=\"url(#clip970)\" style=\"stroke:#000000; stroke-linecap:butt; stroke-linejoin:round; stroke-width:4; stroke-opacity:1; fill:none\" points=\"\n",
       "  128.177,574.057 174.072,574.057 \n",
       "  \"/>\n",
       "<polyline clip-path=\"url(#clip970)\" style=\"stroke:#000000; stroke-linecap:butt; stroke-linejoin:round; stroke-width:4; stroke-opacity:1; fill:none\" points=\"\n",
       "  128.177,310.65 174.072,310.65 \n",
       "  \"/>\n",
       "<polyline clip-path=\"url(#clip970)\" style=\"stroke:#000000; stroke-linecap:butt; stroke-linejoin:round; stroke-width:4; stroke-opacity:1; fill:none\" points=\"\n",
       "  128.177,47.2441 174.072,47.2441 \n",
       "  \"/>\n",
       "<path clip-path=\"url(#clip970)\" d=\"M56.2328 1876.89 Q52.6217 1876.89 50.793 1880.45 Q48.9875 1883.99 48.9875 1891.12 Q48.9875 1898.23 50.793 1901.79 Q52.6217 1905.34 56.2328 1905.34 Q59.867 1905.34 61.6726 1901.79 Q63.5013 1898.23 63.5013 1891.12 Q63.5013 1883.99 61.6726 1880.45 Q59.867 1876.89 56.2328 1876.89 M56.2328 1873.18 Q62.0429 1873.18 65.0985 1877.79 Q68.1772 1882.37 68.1772 1891.12 Q68.1772 1899.85 65.0985 1904.46 Q62.0429 1909.04 56.2328 1909.04 Q50.4226 1909.04 47.344 1904.46 Q44.2884 1899.85 44.2884 1891.12 Q44.2884 1882.37 47.344 1877.79 Q50.4226 1873.18 56.2328 1873.18 Z\" fill=\"#000000\" fill-rule=\"evenodd\" fill-opacity=\"1\" /><path clip-path=\"url(#clip970)\" d=\"M48.2699 1641.03 L55.9087 1641.03 L55.9087 1614.66 L47.5986 1616.33 L47.5986 1612.07 L55.8624 1610.4 L60.5383 1610.4 L60.5383 1641.03 L68.1772 1641.03 L68.1772 1644.96 L48.2699 1644.96 L48.2699 1641.03 Z\" fill=\"#000000\" fill-rule=\"evenodd\" fill-opacity=\"1\" /><path clip-path=\"url(#clip970)\" d=\"M51.8578 1377.62 L68.1772 1377.62 L68.1772 1381.56 L46.2328 1381.56 L46.2328 1377.62 Q48.8949 1374.87 53.4782 1370.24 Q58.0846 1365.58 59.2652 1364.24 Q61.5105 1361.72 62.3902 1359.98 Q63.2929 1358.22 63.2929 1356.53 Q63.2929 1353.78 61.3485 1352.04 Q59.4272 1350.31 56.3254 1350.31 Q54.1263 1350.31 51.6726 1351.07 Q49.2421 1351.83 46.4643 1353.38 L46.4643 1348.66 Q49.2884 1347.53 51.7421 1346.95 Q54.1958 1346.37 56.2328 1346.37 Q61.6031 1346.37 64.7976 1349.06 Q67.992 1351.74 67.992 1356.23 Q67.992 1358.36 67.1818 1360.28 Q66.3948 1362.18 64.2883 1364.77 Q63.7096 1365.44 60.6078 1368.66 Q57.5059 1371.86 51.8578 1377.62 Z\" fill=\"#000000\" fill-rule=\"evenodd\" fill-opacity=\"1\" /><path clip-path=\"url(#clip970)\" d=\"M61.0476 1099.51 Q64.404 1100.23 66.279 1102.5 Q68.1772 1104.77 68.1772 1108.1 Q68.1772 1113.22 64.6587 1116.02 Q61.1402 1118.82 54.6587 1118.82 Q52.4828 1118.82 50.168 1118.38 Q47.8764 1117.96 45.4227 1117.11 L45.4227 1112.59 Q47.3671 1113.73 49.6819 1114.31 Q51.9967 1114.89 54.5198 1114.89 Q58.918 1114.89 61.2096 1113.15 Q63.5244 1111.41 63.5244 1108.1 Q63.5244 1105.05 61.3717 1103.33 Q59.242 1101.6 55.4226 1101.6 L51.3949 1101.6 L51.3949 1097.76 L55.6078 1097.76 Q59.0569 1097.76 60.8855 1096.39 Q62.7142 1095 62.7142 1092.41 Q62.7142 1089.75 60.8161 1088.33 Q58.9411 1086.9 55.4226 1086.9 Q53.5013 1086.9 51.3023 1087.32 Q49.1032 1087.73 46.4643 1088.61 L46.4643 1084.45 Q49.1264 1083.7 51.4412 1083.33 Q53.7791 1082.96 55.8393 1082.96 Q61.1633 1082.96 64.2652 1085.39 Q67.367 1087.8 67.367 1091.92 Q67.367 1094.79 65.7235 1096.78 Q64.08 1098.75 61.0476 1099.51 Z\" fill=\"#000000\" fill-rule=\"evenodd\" fill-opacity=\"1\" /><path clip-path=\"url(#clip970)\" d=\"M58.5939 824.257 L46.7884 842.706 L58.5939 842.706 L58.5939 824.257 M57.367 820.183 L63.2466 820.183 L63.2466 842.706 L68.1772 842.706 L68.1772 846.595 L63.2466 846.595 L63.2466 854.743 L58.5939 854.743 L58.5939 846.595 L42.9921 846.595 L42.9921 842.081 L57.367 820.183 Z\" fill=\"#000000\" fill-rule=\"evenodd\" fill-opacity=\"1\" /><path clip-path=\"url(#clip970)\" d=\"M47.2745 556.777 L65.6309 556.777 L65.6309 560.712 L51.5569 560.712 L51.5569 569.184 Q52.5754 568.837 53.5939 568.675 Q54.6124 568.49 55.6309 568.49 Q61.418 568.49 64.7976 571.661 Q68.1772 574.832 68.1772 580.249 Q68.1772 585.827 64.705 588.929 Q61.2328 592.008 54.9134 592.008 Q52.7374 592.008 50.4689 591.638 Q48.2236 591.267 45.8162 590.526 L45.8162 585.827 Q47.8995 586.962 50.1217 587.517 Q52.3439 588.073 54.8208 588.073 Q58.8254 588.073 61.1633 585.966 Q63.5013 583.86 63.5013 580.249 Q63.5013 576.638 61.1633 574.531 Q58.8254 572.425 54.8208 572.425 Q52.9458 572.425 51.0708 572.841 Q49.2189 573.258 47.2745 574.138 L47.2745 556.777 Z\" fill=\"#000000\" fill-rule=\"evenodd\" fill-opacity=\"1\" /><path clip-path=\"url(#clip970)\" d=\"M56.6495 308.787 Q53.5013 308.787 51.6495 310.94 Q49.8208 313.092 49.8208 316.842 Q49.8208 320.569 51.6495 322.745 Q53.5013 324.898 56.6495 324.898 Q59.7976 324.898 61.6263 322.745 Q63.4781 320.569 63.4781 316.842 Q63.4781 313.092 61.6263 310.94 Q59.7976 308.787 56.6495 308.787 M65.9318 294.134 L65.9318 298.393 Q64.1726 297.56 62.367 297.12 Q60.5846 296.681 58.8254 296.681 Q54.1958 296.681 51.7421 299.805 Q49.3115 302.93 48.9643 309.25 Q50.33 307.236 52.3902 306.171 Q54.4504 305.083 56.9272 305.083 Q62.1355 305.083 65.1448 308.255 Q68.1772 311.403 68.1772 316.842 Q68.1772 322.166 65.029 325.384 Q61.8809 328.602 56.6495 328.602 Q50.6541 328.602 47.4828 324.018 Q44.3116 319.412 44.3116 310.685 Q44.3116 302.491 48.2004 297.63 Q52.0893 292.745 58.6402 292.745 Q60.3994 292.745 62.1818 293.093 Q63.9874 293.44 65.9318 294.134 Z\" fill=\"#000000\" fill-rule=\"evenodd\" fill-opacity=\"1\" /><path clip-path=\"url(#clip970)\" d=\"M45.9551 29.9641 L68.1772 29.9641 L68.1772 31.9548 L55.6309 64.5241 L50.7467 64.5241 L62.5522 33.8993 L45.9551 33.8993 L45.9551 29.9641 Z\" fill=\"#000000\" fill-rule=\"evenodd\" fill-opacity=\"1\" /><circle clip-path=\"url(#clip972)\" cx=\"236.42\" cy=\"1100.87\" r=\"23\" fill=\"#009af9\" fill-rule=\"evenodd\" fill-opacity=\"1\" stroke=\"#000000\" stroke-opacity=\"1\" stroke-width=\"4\"/>\n",
       "<circle clip-path=\"url(#clip972)\" cx=\"707.041\" cy=\"1100.87\" r=\"93\" fill=\"#e26f46\" fill-rule=\"evenodd\" fill-opacity=\"1\" stroke=\"#000000\" stroke-opacity=\"1\" stroke-width=\"4\"/>\n",
       "<circle clip-path=\"url(#clip972)\" cx=\"1229.95\" cy=\"1100.87\" r=\"47\" fill=\"#3da44d\" fill-rule=\"evenodd\" fill-opacity=\"1\" stroke=\"#000000\" stroke-opacity=\"1\" stroke-width=\"4\"/>\n",
       "<circle clip-path=\"url(#clip972)\" cx=\"1752.86\" cy=\"1100.87\" r=\"32\" fill=\"#c271d2\" fill-rule=\"evenodd\" fill-opacity=\"1\" stroke=\"#000000\" stroke-opacity=\"1\" stroke-width=\"4\"/>\n",
       "<circle clip-path=\"url(#clip972)\" cx=\"2275.78\" cy=\"1100.87\" r=\"9\" fill=\"#ac8d18\" fill-rule=\"evenodd\" fill-opacity=\"1\" stroke=\"#000000\" stroke-opacity=\"1\" stroke-width=\"4\"/>\n",
       "<circle clip-path=\"url(#clip972)\" cx=\"2798.69\" cy=\"1100.87\" r=\"62\" fill=\"#00a9ad\" fill-rule=\"evenodd\" fill-opacity=\"1\" stroke=\"#000000\" stroke-opacity=\"1\" stroke-width=\"4\"/>\n",
       "<circle clip-path=\"url(#clip972)\" cx=\"3321.6\" cy=\"1100.87\" r=\"29\" fill=\"#ed5d92\" fill-rule=\"evenodd\" fill-opacity=\"1\" stroke=\"#000000\" stroke-opacity=\"1\" stroke-width=\"4\"/>\n",
       "<circle clip-path=\"url(#clip972)\" cx=\"3844.51\" cy=\"1100.87\" r=\"62\" fill=\"#c68125\" fill-rule=\"evenodd\" fill-opacity=\"1\" stroke=\"#000000\" stroke-opacity=\"1\" stroke-width=\"4\"/>\n",
       "<circle clip-path=\"url(#clip972)\" cx=\"236.42\" cy=\"837.463\" r=\"67\" fill=\"#00a98d\" fill-rule=\"evenodd\" fill-opacity=\"1\" stroke=\"#000000\" stroke-opacity=\"1\" stroke-width=\"4\"/>\n",
       "<circle clip-path=\"url(#clip972)\" cx=\"707.041\" cy=\"837.463\" r=\"7\" fill=\"#8e971d\" fill-rule=\"evenodd\" fill-opacity=\"1\" stroke=\"#000000\" stroke-opacity=\"1\" stroke-width=\"4\"/>\n",
       "<circle clip-path=\"url(#clip972)\" cx=\"1229.95\" cy=\"837.463\" r=\"48\" fill=\"#00a8cb\" fill-rule=\"evenodd\" fill-opacity=\"1\" stroke=\"#000000\" stroke-opacity=\"1\" stroke-width=\"4\"/>\n",
       "<circle clip-path=\"url(#clip972)\" style=\"fill:#9b7fe8; stroke:none; fill-opacity:1\" cx=\"1752.86\" cy=\"837.463\" r=\"2\"/>\n",
       "<circle clip-path=\"url(#clip972)\" cx=\"2275.78\" cy=\"837.463\" r=\"11\" fill=\"#608cf6\" fill-rule=\"evenodd\" fill-opacity=\"1\" stroke=\"#000000\" stroke-opacity=\"1\" stroke-width=\"4\"/>\n",
       "<circle clip-path=\"url(#clip972)\" cx=\"2798.69\" cy=\"837.463\" r=\"2\" fill=\"#f05f73\" fill-rule=\"evenodd\" fill-opacity=\"1\" stroke=\"#000000\" stroke-opacity=\"1\" stroke-width=\"4\"/>\n",
       "<circle clip-path=\"url(#clip972)\" cx=\"3321.6\" cy=\"837.463\" r=\"216\" fill=\"#dd64b5\" fill-rule=\"evenodd\" fill-opacity=\"1\" stroke=\"#000000\" stroke-opacity=\"1\" stroke-width=\"4\"/>\n",
       "<circle clip-path=\"url(#clip972)\" cx=\"3844.51\" cy=\"837.463\" r=\"5\" fill=\"#6b9e32\" fill-rule=\"evenodd\" fill-opacity=\"1\" stroke=\"#000000\" stroke-opacity=\"1\" stroke-width=\"4\"/>\n",
       "<circle clip-path=\"url(#clip972)\" cx=\"236.42\" cy=\"574.057\" r=\"29\" fill=\"#009af9\" fill-rule=\"evenodd\" fill-opacity=\"1\" stroke=\"#000000\" stroke-opacity=\"1\" stroke-width=\"4\"/>\n",
       "<circle clip-path=\"url(#clip972)\" cx=\"707.041\" cy=\"574.057\" r=\"5\" fill=\"#e26f46\" fill-rule=\"evenodd\" fill-opacity=\"1\" stroke=\"#000000\" stroke-opacity=\"1\" stroke-width=\"4\"/>\n",
       "<circle clip-path=\"url(#clip972)\" cx=\"1229.95\" cy=\"574.057\" r=\"21\" fill=\"#3da44d\" fill-rule=\"evenodd\" fill-opacity=\"1\" stroke=\"#000000\" stroke-opacity=\"1\" stroke-width=\"4\"/>\n",
       "<circle clip-path=\"url(#clip972)\" cx=\"1752.86\" cy=\"574.057\" r=\"2\" fill=\"#c271d2\" fill-rule=\"evenodd\" fill-opacity=\"1\" stroke=\"#000000\" stroke-opacity=\"1\" stroke-width=\"4\"/>\n",
       "<circle clip-path=\"url(#clip972)\" cx=\"2275.78\" cy=\"574.057\" r=\"88\" fill=\"#ac8d18\" fill-rule=\"evenodd\" fill-opacity=\"1\" stroke=\"#000000\" stroke-opacity=\"1\" stroke-width=\"4\"/>\n",
       "<circle clip-path=\"url(#clip972)\" cx=\"2798.69\" cy=\"574.057\" r=\"80\" fill=\"#00a9ad\" fill-rule=\"evenodd\" fill-opacity=\"1\" stroke=\"#000000\" stroke-opacity=\"1\" stroke-width=\"4\"/>\n",
       "<circle clip-path=\"url(#clip972)\" cx=\"3321.6\" cy=\"574.057\" r=\"2\" fill=\"#ed5d92\" fill-rule=\"evenodd\" fill-opacity=\"1\" stroke=\"#000000\" stroke-opacity=\"1\" stroke-width=\"4\"/>\n",
       "<circle clip-path=\"url(#clip972)\" cx=\"3844.51\" cy=\"574.057\" r=\"130\" fill=\"#c68125\" fill-rule=\"evenodd\" fill-opacity=\"1\" stroke=\"#000000\" stroke-opacity=\"1\" stroke-width=\"4\"/>\n",
       "</svg>\n"
      ]
     },
     "execution_count": 113,
     "metadata": {},
     "output_type": "execute_result"
    }
   ],
   "source": [
    "using Plots;\n",
    "plot!()\n",
    "scatter([1],[3],markersize= p3_3_E[1]*100,legend = false,size=(500,500),ylims=(0,7))\n",
    "scatter!([10],[3],markersize= p3_3_E[2]*100,legend = false,size=(500,500),ylims=(0,7))\n",
    "scatter!([20],[3],markersize= p3_3_E[3]*100,legend = false,size=(500,500),ylims=(0,7))\n",
    "scatter!([30],[3],markersize= p3_3_E[4]*100,legend = false,size=(500,500),ylims=(0,7))\n",
    "scatter!([40],[3],markersize= p3_3_E[5]*100,legend = false,size=(500,500),ylims=(0,7))\n",
    "scatter!([50],[3],markersize= p3_3_E[6]*100,legend = false,size=(500,500),ylims=(0,7))\n",
    "scatter!([60],[3],markersize= p3_3_E[7]*100,legend = false,size=(500,500),ylims=(0,7))\n",
    "scatter!([70],[3],markersize= p3_3_E[8]*100,legend = false,size=(500,500),ylims=(0,7))\n",
    "###\n",
    "scatter!([1],[4],markersize= p3_4_E[1]*100,legend = false,size=(500,500),ylims=(0,7))\n",
    "scatter!([10],[4],markersize= p3_4_E[2]*100,legend = false,size=(500,500),ylims=(0,7))\n",
    "scatter!([20],[4],markersize= p3_4_E[3]*100,legend = false,size=(500,500),ylims=(0,7))\n",
    "scatter!([30],[4],markersize= p3_4_E[4]*100,legend = false,size=(500,500),ylims=(0,7))\n",
    "scatter!([40],[4],markersize= p3_4_E[5]*100,legend = false,size=(500,500),ylims=(0,7))\n",
    "scatter!([50],[4],markersize= p3_4_E[6]*100,legend = false,size=(500,500),ylims=(0,7))\n",
    "scatter!([60],[4],markersize= p3_4_E[7]*100,legend = false,size=(500,500),ylims=(0,7))\n",
    "scatter!([70],[4],markersize= p3_4_E[8]*100,legend = false,size=(500,500),ylims=(0,7))\n",
    "###\n",
    "scatter!([1],[5],markersize= p3_5_E[1]*100,legend = false,size=(500,500),ylims=(0,7))\n",
    "scatter!([10],[5],markersize= p3_5_E[2]*100,legend = false,size=(500,500),ylims=(0,7))\n",
    "scatter!([20],[5],markersize= p3_5_E[3]*100,legend = false,size=(500,500),ylims=(0,7))\n",
    "scatter!([30],[5],markersize= p3_5_E[4]*100,legend = false,size=(500,500),ylims=(0,7))\n",
    "scatter!([40],[5],markersize= p3_5_E[5]*100,legend = false,size=(500,500),ylims=(0,7))\n",
    "scatter!([50],[5],markersize= p3_5_E[6]*100,legend = false,size=(500,500),ylims=(0,7))\n",
    "scatter!([60],[5],markersize= p3_5_E[7]*100,legend = false,size=(500,500),ylims=(0,7))\n",
    "scatter!([70],[5],markersize= p3_5_E[8]*100,legend = false,size=(500,500),ylims=(0,7))\n",
    "plot!(size=(1000,500))"
   ]
  },
  {
   "cell_type": "code",
   "execution_count": null,
   "metadata": {},
   "outputs": [],
   "source": []
  },
  {
   "cell_type": "code",
   "execution_count": null,
   "metadata": {},
   "outputs": [],
   "source": []
  },
  {
   "cell_type": "markdown",
   "metadata": {},
   "source": [
    "## Computing the circuit with the bit-flip error gate [N=4, D=4]"
   ]
  },
  {
   "cell_type": "code",
   "execution_count": 92,
   "metadata": {
    "ExecuteTime": {
     "end_time": "2021-07-10T20:27:11.104000+01:00",
     "start_time": "2021-07-10T19:27:11.015Z"
    }
   },
   "outputs": [],
   "source": [
    "using ITensors\n",
    "N = 4\n",
    "sitesE = siteinds(\"S=1/2\",N)\n",
    "#p{Float64}(nothing, 16)\n",
    "#p{Float64}(undef,16)\n",
    "pE = zeros(16)\n",
    "for i in 1:4:64\n",
    "    #println(i)\n",
    "    #print(TT[i:i+3])\n",
    "    statesE = TT[i:i+3]\n",
    "    xE = productMPS(sitesE, statesE)\n",
    "    ii = i÷4 + 1\n",
    "    #println(ii)\n",
    "    #println(xxx)\n",
    "    AE = dot(xE,ψ4_4_E) \n",
    "    #println(\"Amplitude : \",A)\n",
    "    pE[ii] = real(AE)^2 + imag(AE)^2\n",
    "    #println(\"Probability : \",p)\n",
    "end"
   ]
  },
  {
   "cell_type": "code",
   "execution_count": 93,
   "metadata": {
    "ExecuteTime": {
     "end_time": "2021-07-10T20:27:18.528000+01:00",
     "start_time": "2021-07-10T19:27:18.516Z"
    }
   },
   "outputs": [
    {
     "data": {
      "text/plain": [
       "16-element Vector{Float64}:\n",
       " 0.0030876847099056744\n",
       " 0.03481435025333333\n",
       " 0.004135348264872374\n",
       " 0.14884763736979587\n",
       " 0.01102357178209338\n",
       " 0.06563601600603892\n",
       " 0.006468345566663017\n",
       " 0.1700398215301648\n",
       " 4.637365848249172e-5\n",
       " 0.053552885422306275\n",
       " 0.007187747989896946\n",
       " 0.032448204693771805\n",
       " 0.019396106373431244\n",
       " 0.13286513830797886\n",
       " 0.009572794786743513\n",
       " 0.3008779732845185"
      ]
     },
     "execution_count": 93,
     "metadata": {},
     "output_type": "execute_result"
    }
   ],
   "source": [
    "println(\"probability for each base state <x| = \",pE)"
   ]
  },
  {
   "cell_type": "code",
   "execution_count": null,
   "metadata": {},
   "outputs": [],
   "source": []
  },
  {
   "cell_type": "code",
   "execution_count": 98,
   "metadata": {
    "ExecuteTime": {
     "end_time": "2021-07-10T20:37:41.072000+01:00",
     "start_time": "2021-07-10T19:37:41.003Z"
    }
   },
   "outputs": [
    {
     "data": {
      "image/svg+xml": [
       "<?xml version=\"1.0\" encoding=\"utf-8\"?>\n",
       "<svg xmlns=\"http://www.w3.org/2000/svg\" xmlns:xlink=\"http://www.w3.org/1999/xlink\" width=\"1000\" height=\"500\" viewBox=\"0 0 4000 2000\">\n",
       "<defs>\n",
       "  <clipPath id=\"clip610\">\n",
       "    <rect x=\"0\" y=\"0\" width=\"4000\" height=\"2000\"/>\n",
       "  </clipPath>\n",
       "</defs>\n",
       "<path clip-path=\"url(#clip610)\" d=\"\n",
       "M0 2000 L4000 2000 L4000 0 L0 0  Z\n",
       "  \" fill=\"#ffffff\" fill-rule=\"evenodd\" fill-opacity=\"1\"/>\n",
       "<defs>\n",
       "  <clipPath id=\"clip611\">\n",
       "    <rect x=\"800\" y=\"0\" width=\"2801\" height=\"2000\"/>\n",
       "  </clipPath>\n",
       "</defs>\n",
       "<path clip-path=\"url(#clip610)\" d=\"\n",
       "M172.598 1891.09 L3952.76 1891.09 L3952.76 47.2441 L172.598 47.2441  Z\n",
       "  \" fill=\"#ffffff\" fill-rule=\"evenodd\" fill-opacity=\"1\"/>\n",
       "<defs>\n",
       "  <clipPath id=\"clip612\">\n",
       "    <rect x=\"172\" y=\"47\" width=\"3781\" height=\"1845\"/>\n",
       "  </clipPath>\n",
       "</defs>\n",
       "<polyline clip-path=\"url(#clip612)\" style=\"stroke:#000000; stroke-linecap:butt; stroke-linejoin:round; stroke-width:2; stroke-opacity:0.1; fill:none\" points=\"\n",
       "  255.65,1891.09 255.65,47.2441 \n",
       "  \"/>\n",
       "<polyline clip-path=\"url(#clip612)\" style=\"stroke:#000000; stroke-linecap:butt; stroke-linejoin:round; stroke-width:2; stroke-opacity:0.1; fill:none\" points=\"\n",
       "  1452.36,1891.09 1452.36,47.2441 \n",
       "  \"/>\n",
       "<polyline clip-path=\"url(#clip612)\" style=\"stroke:#000000; stroke-linecap:butt; stroke-linejoin:round; stroke-width:2; stroke-opacity:0.1; fill:none\" points=\"\n",
       "  2649.06,1891.09 2649.06,47.2441 \n",
       "  \"/>\n",
       "<polyline clip-path=\"url(#clip612)\" style=\"stroke:#000000; stroke-linecap:butt; stroke-linejoin:round; stroke-width:2; stroke-opacity:0.1; fill:none\" points=\"\n",
       "  3845.77,1891.09 3845.77,47.2441 \n",
       "  \"/>\n",
       "<polyline clip-path=\"url(#clip610)\" style=\"stroke:#000000; stroke-linecap:butt; stroke-linejoin:round; stroke-width:4; stroke-opacity:1; fill:none\" points=\"\n",
       "  172.598,1891.09 3952.76,1891.09 \n",
       "  \"/>\n",
       "<polyline clip-path=\"url(#clip610)\" style=\"stroke:#000000; stroke-linecap:butt; stroke-linejoin:round; stroke-width:4; stroke-opacity:1; fill:none\" points=\"\n",
       "  255.65,1891.09 255.65,1868.96 \n",
       "  \"/>\n",
       "<polyline clip-path=\"url(#clip610)\" style=\"stroke:#000000; stroke-linecap:butt; stroke-linejoin:round; stroke-width:4; stroke-opacity:1; fill:none\" points=\"\n",
       "  1452.36,1891.09 1452.36,1868.96 \n",
       "  \"/>\n",
       "<polyline clip-path=\"url(#clip610)\" style=\"stroke:#000000; stroke-linecap:butt; stroke-linejoin:round; stroke-width:4; stroke-opacity:1; fill:none\" points=\"\n",
       "  2649.06,1891.09 2649.06,1868.96 \n",
       "  \"/>\n",
       "<polyline clip-path=\"url(#clip610)\" style=\"stroke:#000000; stroke-linecap:butt; stroke-linejoin:round; stroke-width:4; stroke-opacity:1; fill:none\" points=\"\n",
       "  3845.77,1891.09 3845.77,1868.96 \n",
       "  \"/>\n",
       "<path clip-path=\"url(#clip610)\" d=\"M255.65 1933.08 Q252.039 1933.08 250.21 1936.64 Q248.404 1940.19 248.404 1947.31 Q248.404 1954.42 250.21 1957.99 Q252.039 1961.53 255.65 1961.53 Q259.284 1961.53 261.089 1957.99 Q262.918 1954.42 262.918 1947.31 Q262.918 1940.19 261.089 1936.64 Q259.284 1933.08 255.65 1933.08 M255.65 1929.37 Q261.46 1929.37 264.515 1933.98 Q267.594 1938.56 267.594 1947.31 Q267.594 1956.04 264.515 1960.65 Q261.46 1965.23 255.65 1965.23 Q249.84 1965.23 246.761 1960.65 Q243.705 1956.04 243.705 1947.31 Q243.705 1938.56 246.761 1933.98 Q249.84 1929.37 255.65 1929.37 Z\" fill=\"#000000\" fill-rule=\"evenodd\" fill-opacity=\"1\" /><path clip-path=\"url(#clip610)\" d=\"M1427.06 1930 L1445.41 1930 L1445.41 1933.94 L1431.34 1933.94 L1431.34 1942.41 Q1432.36 1942.06 1433.38 1941.9 Q1434.39 1941.71 1435.41 1941.71 Q1441.2 1941.71 1444.58 1944.88 Q1447.96 1948.06 1447.96 1953.47 Q1447.96 1959.05 1444.49 1962.15 Q1441.01 1965.23 1434.69 1965.23 Q1432.52 1965.23 1430.25 1964.86 Q1428 1964.49 1425.6 1963.75 L1425.6 1959.05 Q1427.68 1960.18 1429.9 1960.74 Q1432.13 1961.3 1434.6 1961.3 Q1438.61 1961.3 1440.94 1959.19 Q1443.28 1957.08 1443.28 1953.47 Q1443.28 1949.86 1440.94 1947.75 Q1438.61 1945.65 1434.6 1945.65 Q1432.73 1945.65 1430.85 1946.06 Q1429 1946.48 1427.06 1947.36 L1427.06 1930 Z\" fill=\"#000000\" fill-rule=\"evenodd\" fill-opacity=\"1\" /><path clip-path=\"url(#clip610)\" d=\"M1467.17 1933.08 Q1463.56 1933.08 1461.73 1936.64 Q1459.93 1940.19 1459.93 1947.31 Q1459.93 1954.42 1461.73 1957.99 Q1463.56 1961.53 1467.17 1961.53 Q1470.81 1961.53 1472.61 1957.99 Q1474.44 1954.42 1474.44 1947.31 Q1474.44 1940.19 1472.61 1936.64 Q1470.81 1933.08 1467.17 1933.08 M1467.17 1929.37 Q1472.98 1929.37 1476.04 1933.98 Q1479.12 1938.56 1479.12 1947.31 Q1479.12 1956.04 1476.04 1960.65 Q1472.98 1965.23 1467.17 1965.23 Q1461.36 1965.23 1458.28 1960.65 Q1455.23 1956.04 1455.23 1947.31 Q1455.23 1938.56 1458.28 1933.98 Q1461.36 1929.37 1467.17 1929.37 Z\" fill=\"#000000\" fill-rule=\"evenodd\" fill-opacity=\"1\" /><path clip-path=\"url(#clip610)\" d=\"M2608.67 1960.62 L2616.31 1960.62 L2616.31 1934.26 L2608 1935.93 L2608 1931.67 L2616.26 1930 L2620.94 1930 L2620.94 1960.62 L2628.58 1960.62 L2628.58 1964.56 L2608.67 1964.56 L2608.67 1960.62 Z\" fill=\"#000000\" fill-rule=\"evenodd\" fill-opacity=\"1\" /><path clip-path=\"url(#clip610)\" d=\"M2648.02 1933.08 Q2644.41 1933.08 2642.58 1936.64 Q2640.78 1940.19 2640.78 1947.31 Q2640.78 1954.42 2642.58 1957.99 Q2644.41 1961.53 2648.02 1961.53 Q2651.66 1961.53 2653.46 1957.99 Q2655.29 1954.42 2655.29 1947.31 Q2655.29 1940.19 2653.46 1936.64 Q2651.66 1933.08 2648.02 1933.08 M2648.02 1929.37 Q2653.83 1929.37 2656.89 1933.98 Q2659.97 1938.56 2659.97 1947.31 Q2659.97 1956.04 2656.89 1960.65 Q2653.83 1965.23 2648.02 1965.23 Q2642.21 1965.23 2639.13 1960.65 Q2636.08 1956.04 2636.08 1947.31 Q2636.08 1938.56 2639.13 1933.98 Q2642.21 1929.37 2648.02 1929.37 Z\" fill=\"#000000\" fill-rule=\"evenodd\" fill-opacity=\"1\" /><path clip-path=\"url(#clip610)\" d=\"M2678.18 1933.08 Q2674.57 1933.08 2672.74 1936.64 Q2670.94 1940.19 2670.94 1947.31 Q2670.94 1954.42 2672.74 1957.99 Q2674.57 1961.53 2678.18 1961.53 Q2681.82 1961.53 2683.62 1957.99 Q2685.45 1954.42 2685.45 1947.31 Q2685.45 1940.19 2683.62 1936.64 Q2681.82 1933.08 2678.18 1933.08 M2678.18 1929.37 Q2683.99 1929.37 2687.05 1933.98 Q2690.13 1938.56 2690.13 1947.31 Q2690.13 1956.04 2687.05 1960.65 Q2683.99 1965.23 2678.18 1965.23 Q2672.37 1965.23 2669.29 1960.65 Q2666.24 1956.04 2666.24 1947.31 Q2666.24 1938.56 2669.29 1933.98 Q2672.37 1929.37 2678.18 1929.37 Z\" fill=\"#000000\" fill-rule=\"evenodd\" fill-opacity=\"1\" /><path clip-path=\"url(#clip610)\" d=\"M3805.38 1960.62 L3813.02 1960.62 L3813.02 1934.26 L3804.71 1935.93 L3804.71 1931.67 L3812.97 1930 L3817.65 1930 L3817.65 1960.62 L3825.28 1960.62 L3825.28 1964.56 L3805.38 1964.56 L3805.38 1960.62 Z\" fill=\"#000000\" fill-rule=\"evenodd\" fill-opacity=\"1\" /><path clip-path=\"url(#clip610)\" d=\"M3834.77 1930 L3853.13 1930 L3853.13 1933.94 L3839.06 1933.94 L3839.06 1942.41 Q3840.08 1942.06 3841.09 1941.9 Q3842.11 1941.71 3843.13 1941.71 Q3848.92 1941.71 3852.3 1944.88 Q3855.68 1948.06 3855.68 1953.47 Q3855.68 1959.05 3852.21 1962.15 Q3848.73 1965.23 3842.41 1965.23 Q3840.24 1965.23 3837.97 1964.86 Q3835.72 1964.49 3833.32 1963.75 L3833.32 1959.05 Q3835.4 1960.18 3837.62 1960.74 Q3839.84 1961.3 3842.32 1961.3 Q3846.33 1961.3 3848.66 1959.19 Q3851 1957.08 3851 1953.47 Q3851 1949.86 3848.66 1947.75 Q3846.33 1945.65 3842.32 1945.65 Q3840.45 1945.65 3838.57 1946.06 Q3836.72 1946.48 3834.77 1947.36 L3834.77 1930 Z\" fill=\"#000000\" fill-rule=\"evenodd\" fill-opacity=\"1\" /><path clip-path=\"url(#clip610)\" d=\"M3874.89 1933.08 Q3871.28 1933.08 3869.45 1936.64 Q3867.65 1940.19 3867.65 1947.31 Q3867.65 1954.42 3869.45 1957.99 Q3871.28 1961.53 3874.89 1961.53 Q3878.52 1961.53 3880.33 1957.99 Q3882.16 1954.42 3882.16 1947.31 Q3882.16 1940.19 3880.33 1936.64 Q3878.52 1933.08 3874.89 1933.08 M3874.89 1929.37 Q3880.7 1929.37 3883.76 1933.98 Q3886.83 1938.56 3886.83 1947.31 Q3886.83 1956.04 3883.76 1960.65 Q3880.7 1965.23 3874.89 1965.23 Q3869.08 1965.23 3866 1960.65 Q3862.95 1956.04 3862.95 1947.31 Q3862.95 1938.56 3866 1933.98 Q3869.08 1929.37 3874.89 1929.37 Z\" fill=\"#000000\" fill-rule=\"evenodd\" fill-opacity=\"1\" /><polyline clip-path=\"url(#clip612)\" style=\"stroke:#000000; stroke-linecap:butt; stroke-linejoin:round; stroke-width:2; stroke-opacity:0.1; fill:none\" points=\"\n",
       "  172.598,1891.09 3952.76,1891.09 \n",
       "  \"/>\n",
       "<polyline clip-path=\"url(#clip612)\" style=\"stroke:#000000; stroke-linecap:butt; stroke-linejoin:round; stroke-width:2; stroke-opacity:0.1; fill:none\" points=\"\n",
       "  172.598,1522.32 3952.76,1522.32 \n",
       "  \"/>\n",
       "<polyline clip-path=\"url(#clip612)\" style=\"stroke:#000000; stroke-linecap:butt; stroke-linejoin:round; stroke-width:2; stroke-opacity:0.1; fill:none\" points=\"\n",
       "  172.598,1153.55 3952.76,1153.55 \n",
       "  \"/>\n",
       "<polyline clip-path=\"url(#clip612)\" style=\"stroke:#000000; stroke-linecap:butt; stroke-linejoin:round; stroke-width:2; stroke-opacity:0.1; fill:none\" points=\"\n",
       "  172.598,784.782 3952.76,784.782 \n",
       "  \"/>\n",
       "<polyline clip-path=\"url(#clip612)\" style=\"stroke:#000000; stroke-linecap:butt; stroke-linejoin:round; stroke-width:2; stroke-opacity:0.1; fill:none\" points=\"\n",
       "  172.598,416.013 3952.76,416.013 \n",
       "  \"/>\n",
       "<polyline clip-path=\"url(#clip612)\" style=\"stroke:#000000; stroke-linecap:butt; stroke-linejoin:round; stroke-width:2; stroke-opacity:0.1; fill:none\" points=\"\n",
       "  172.598,47.2441 3952.76,47.2441 \n",
       "  \"/>\n",
       "<polyline clip-path=\"url(#clip610)\" style=\"stroke:#000000; stroke-linecap:butt; stroke-linejoin:round; stroke-width:4; stroke-opacity:1; fill:none\" points=\"\n",
       "  172.598,1891.09 172.598,47.2441 \n",
       "  \"/>\n",
       "<polyline clip-path=\"url(#clip610)\" style=\"stroke:#000000; stroke-linecap:butt; stroke-linejoin:round; stroke-width:4; stroke-opacity:1; fill:none\" points=\"\n",
       "  172.598,1891.09 217.96,1891.09 \n",
       "  \"/>\n",
       "<polyline clip-path=\"url(#clip610)\" style=\"stroke:#000000; stroke-linecap:butt; stroke-linejoin:round; stroke-width:4; stroke-opacity:1; fill:none\" points=\"\n",
       "  172.598,1522.32 217.96,1522.32 \n",
       "  \"/>\n",
       "<polyline clip-path=\"url(#clip610)\" style=\"stroke:#000000; stroke-linecap:butt; stroke-linejoin:round; stroke-width:4; stroke-opacity:1; fill:none\" points=\"\n",
       "  172.598,1153.55 217.96,1153.55 \n",
       "  \"/>\n",
       "<polyline clip-path=\"url(#clip610)\" style=\"stroke:#000000; stroke-linecap:butt; stroke-linejoin:round; stroke-width:4; stroke-opacity:1; fill:none\" points=\"\n",
       "  172.598,784.782 217.96,784.782 \n",
       "  \"/>\n",
       "<polyline clip-path=\"url(#clip610)\" style=\"stroke:#000000; stroke-linecap:butt; stroke-linejoin:round; stroke-width:4; stroke-opacity:1; fill:none\" points=\"\n",
       "  172.598,416.013 217.96,416.013 \n",
       "  \"/>\n",
       "<polyline clip-path=\"url(#clip610)\" style=\"stroke:#000000; stroke-linecap:butt; stroke-linejoin:round; stroke-width:4; stroke-opacity:1; fill:none\" points=\"\n",
       "  172.598,47.2441 217.96,47.2441 \n",
       "  \"/>\n",
       "<path clip-path=\"url(#clip610)\" d=\"M55.4226 1876.89 Q51.8115 1876.89 49.9828 1880.45 Q48.1773 1883.99 48.1773 1891.12 Q48.1773 1898.23 49.9828 1901.79 Q51.8115 1905.34 55.4226 1905.34 Q59.0569 1905.34 60.8624 1901.79 Q62.6911 1898.23 62.6911 1891.12 Q62.6911 1883.99 60.8624 1880.45 Q59.0569 1876.89 55.4226 1876.89 M55.4226 1873.18 Q61.2328 1873.18 64.2883 1877.79 Q67.367 1882.37 67.367 1891.12 Q67.367 1899.85 64.2883 1904.46 Q61.2328 1909.04 55.4226 1909.04 Q49.6125 1909.04 46.5338 1904.46 Q43.4782 1899.85 43.4782 1891.12 Q43.4782 1882.37 46.5338 1877.79 Q49.6125 1873.18 55.4226 1873.18 Z\" fill=\"#000000\" fill-rule=\"evenodd\" fill-opacity=\"1\" /><path clip-path=\"url(#clip610)\" d=\"M75.5845 1902.49 L80.4688 1902.49 L80.4688 1908.37 L75.5845 1908.37 L75.5845 1902.49 Z\" fill=\"#000000\" fill-rule=\"evenodd\" fill-opacity=\"1\" /><path clip-path=\"url(#clip610)\" d=\"M100.654 1876.89 Q97.0428 1876.89 95.2141 1880.45 Q93.4085 1883.99 93.4085 1891.12 Q93.4085 1898.23 95.2141 1901.79 Q97.0428 1905.34 100.654 1905.34 Q104.288 1905.34 106.094 1901.79 Q107.922 1898.23 107.922 1891.12 Q107.922 1883.99 106.094 1880.45 Q104.288 1876.89 100.654 1876.89 M100.654 1873.18 Q106.464 1873.18 109.52 1877.79 Q112.598 1882.37 112.598 1891.12 Q112.598 1899.85 109.52 1904.46 Q106.464 1909.04 100.654 1909.04 Q94.8437 1909.04 91.765 1904.46 Q88.7095 1899.85 88.7095 1891.12 Q88.7095 1882.37 91.765 1877.79 Q94.8437 1873.18 100.654 1873.18 Z\" fill=\"#000000\" fill-rule=\"evenodd\" fill-opacity=\"1\" /><path clip-path=\"url(#clip610)\" d=\"M57.0198 1508.12 Q53.4087 1508.12 51.58 1511.68 Q49.7745 1515.22 49.7745 1522.35 Q49.7745 1529.46 51.58 1533.03 Q53.4087 1536.57 57.0198 1536.57 Q60.6541 1536.57 62.4596 1533.03 Q64.2883 1529.46 64.2883 1522.35 Q64.2883 1515.22 62.4596 1511.68 Q60.6541 1508.12 57.0198 1508.12 M57.0198 1504.41 Q62.83 1504.41 65.8855 1509.02 Q68.9642 1513.6 68.9642 1522.35 Q68.9642 1531.08 65.8855 1535.69 Q62.83 1540.27 57.0198 1540.27 Q51.2097 1540.27 48.131 1535.69 Q45.0754 1531.08 45.0754 1522.35 Q45.0754 1513.6 48.131 1509.02 Q51.2097 1504.41 57.0198 1504.41 Z\" fill=\"#000000\" fill-rule=\"evenodd\" fill-opacity=\"1\" /><path clip-path=\"url(#clip610)\" d=\"M77.1818 1533.72 L82.066 1533.72 L82.066 1539.6 L77.1818 1539.6 L77.1818 1533.72 Z\" fill=\"#000000\" fill-rule=\"evenodd\" fill-opacity=\"1\" /><path clip-path=\"url(#clip610)\" d=\"M96.2789 1535.66 L112.598 1535.66 L112.598 1539.6 L90.6539 1539.6 L90.6539 1535.66 Q93.3159 1532.91 97.8992 1528.28 Q102.506 1523.63 103.686 1522.28 Q105.932 1519.76 106.811 1518.03 Q107.714 1516.27 107.714 1514.58 Q107.714 1511.82 105.77 1510.09 Q103.848 1508.35 100.746 1508.35 Q98.5474 1508.35 96.0937 1509.11 Q93.6632 1509.88 90.8854 1511.43 L90.8854 1506.71 Q93.7094 1505.57 96.1631 1504.99 Q98.6168 1504.41 100.654 1504.41 Q106.024 1504.41 109.219 1507.1 Q112.413 1509.78 112.413 1514.28 Q112.413 1516.4 111.603 1518.33 Q110.816 1520.22 108.709 1522.82 Q108.131 1523.49 105.029 1526.71 Q101.927 1529.9 96.2789 1535.66 Z\" fill=\"#000000\" fill-rule=\"evenodd\" fill-opacity=\"1\" /><path clip-path=\"url(#clip610)\" d=\"M54.9365 1139.35 Q51.3254 1139.35 49.4967 1142.91 Q47.6912 1146.46 47.6912 1153.59 Q47.6912 1160.69 49.4967 1164.26 Q51.3254 1167.8 54.9365 1167.8 Q58.5707 1167.8 60.3763 1164.26 Q62.205 1160.69 62.205 1153.59 Q62.205 1146.46 60.3763 1142.91 Q58.5707 1139.35 54.9365 1139.35 M54.9365 1135.65 Q60.7467 1135.65 63.8022 1140.25 Q66.8809 1144.84 66.8809 1153.59 Q66.8809 1162.31 63.8022 1166.92 Q60.7467 1171.5 54.9365 1171.5 Q49.1264 1171.5 46.0477 1166.92 Q42.9921 1162.31 42.9921 1153.59 Q42.9921 1144.84 46.0477 1140.25 Q49.1264 1135.65 54.9365 1135.65 Z\" fill=\"#000000\" fill-rule=\"evenodd\" fill-opacity=\"1\" /><path clip-path=\"url(#clip610)\" d=\"M75.0984 1164.95 L79.9827 1164.95 L79.9827 1170.83 L75.0984 1170.83 L75.0984 1164.95 Z\" fill=\"#000000\" fill-rule=\"evenodd\" fill-opacity=\"1\" /><path clip-path=\"url(#clip610)\" d=\"M103.015 1140.34 L91.2095 1158.79 L103.015 1158.79 L103.015 1140.34 M101.788 1136.27 L107.668 1136.27 L107.668 1158.79 L112.598 1158.79 L112.598 1162.68 L107.668 1162.68 L107.668 1170.83 L103.015 1170.83 L103.015 1162.68 L87.4132 1162.68 L87.4132 1158.17 L101.788 1136.27 Z\" fill=\"#000000\" fill-rule=\"evenodd\" fill-opacity=\"1\" /><path clip-path=\"url(#clip610)\" d=\"M55.2606 770.58 Q51.6495 770.58 49.8208 774.145 Q48.0152 777.687 48.0152 784.816 Q48.0152 791.923 49.8208 795.488 Q51.6495 799.029 55.2606 799.029 Q58.8948 799.029 60.7004 795.488 Q62.5291 791.923 62.5291 784.816 Q62.5291 777.687 60.7004 774.145 Q58.8948 770.58 55.2606 770.58 M55.2606 766.877 Q61.0707 766.877 64.1263 771.483 Q67.205 776.066 67.205 784.816 Q67.205 793.543 64.1263 798.15 Q61.0707 802.733 55.2606 802.733 Q49.4504 802.733 46.3717 798.15 Q43.3162 793.543 43.3162 784.816 Q43.3162 776.066 46.3717 771.483 Q49.4504 766.877 55.2606 766.877 Z\" fill=\"#000000\" fill-rule=\"evenodd\" fill-opacity=\"1\" /><path clip-path=\"url(#clip610)\" d=\"M75.4225 796.182 L80.3067 796.182 L80.3067 802.062 L75.4225 802.062 L75.4225 796.182 Z\" fill=\"#000000\" fill-rule=\"evenodd\" fill-opacity=\"1\" /><path clip-path=\"url(#clip610)\" d=\"M101.071 782.918 Q97.9224 782.918 96.0705 785.071 Q94.2419 787.224 94.2419 790.974 Q94.2419 794.701 96.0705 796.876 Q97.9224 799.029 101.071 799.029 Q104.219 799.029 106.047 796.876 Q107.899 794.701 107.899 790.974 Q107.899 787.224 106.047 785.071 Q104.219 782.918 101.071 782.918 M110.353 768.265 L110.353 772.525 Q108.594 771.691 106.788 771.252 Q105.006 770.812 103.246 770.812 Q98.6168 770.812 96.1631 773.937 Q93.7326 777.062 93.3854 783.381 Q94.7511 781.367 96.8113 780.302 Q98.8715 779.215 101.348 779.215 Q106.557 779.215 109.566 782.386 Q112.598 785.534 112.598 790.974 Q112.598 796.298 109.45 799.515 Q106.302 802.733 101.071 802.733 Q95.0752 802.733 91.9039 798.15 Q88.7326 793.543 88.7326 784.816 Q88.7326 776.622 92.6215 771.761 Q96.5104 766.877 103.061 766.877 Q104.82 766.877 106.603 767.224 Q108.408 767.571 110.353 768.265 Z\" fill=\"#000000\" fill-rule=\"evenodd\" fill-opacity=\"1\" /><path clip-path=\"url(#clip610)\" d=\"M55.5152 401.812 Q51.9041 401.812 50.0754 405.376 Q48.2699 408.918 48.2699 416.048 Q48.2699 423.154 50.0754 426.719 Q51.9041 430.26 55.5152 430.26 Q59.1494 430.26 60.955 426.719 Q62.7837 423.154 62.7837 416.048 Q62.7837 408.918 60.955 405.376 Q59.1494 401.812 55.5152 401.812 M55.5152 398.108 Q61.3254 398.108 64.3809 402.714 Q67.4596 407.298 67.4596 416.048 Q67.4596 424.774 64.3809 429.381 Q61.3254 433.964 55.5152 433.964 Q49.7051 433.964 46.6264 429.381 Q43.5708 424.774 43.5708 416.048 Q43.5708 407.298 46.6264 402.714 Q49.7051 398.108 55.5152 398.108 Z\" fill=\"#000000\" fill-rule=\"evenodd\" fill-opacity=\"1\" /><path clip-path=\"url(#clip610)\" d=\"M75.6771 427.413 L80.5614 427.413 L80.5614 433.293 L75.6771 433.293 L75.6771 427.413 Z\" fill=\"#000000\" fill-rule=\"evenodd\" fill-opacity=\"1\" /><path clip-path=\"url(#clip610)\" d=\"M100.746 416.881 Q97.4131 416.881 95.4918 418.663 Q93.5937 420.446 93.5937 423.571 Q93.5937 426.696 95.4918 428.478 Q97.4131 430.26 100.746 430.26 Q104.08 430.26 106.001 428.478 Q107.922 426.673 107.922 423.571 Q107.922 420.446 106.001 418.663 Q104.103 416.881 100.746 416.881 M96.0705 414.89 Q93.0613 414.149 91.3715 412.089 Q89.7048 410.029 89.7048 407.066 Q89.7048 402.923 92.6446 400.515 Q95.6076 398.108 100.746 398.108 Q105.908 398.108 108.848 400.515 Q111.788 402.923 111.788 407.066 Q111.788 410.029 110.098 412.089 Q108.432 414.149 105.445 414.89 Q108.825 415.677 110.7 417.969 Q112.598 420.261 112.598 423.571 Q112.598 428.594 109.52 431.279 Q106.464 433.964 100.746 433.964 Q95.0289 433.964 91.9502 431.279 Q88.8947 428.594 88.8947 423.571 Q88.8947 420.261 90.7928 417.969 Q92.6909 415.677 96.0705 414.89 M94.3576 407.506 Q94.3576 410.191 96.0242 411.696 Q97.7141 413.2 100.746 413.2 Q103.756 413.2 105.445 411.696 Q107.158 410.191 107.158 407.506 Q107.158 404.821 105.445 403.316 Q103.756 401.812 100.746 401.812 Q97.7141 401.812 96.0242 403.316 Q94.3576 404.821 94.3576 407.506 Z\" fill=\"#000000\" fill-rule=\"evenodd\" fill-opacity=\"1\" /><path clip-path=\"url(#clip610)\" d=\"M46.2328 60.5889 L53.8717 60.5889 L53.8717 34.2233 L45.5616 35.89 L45.5616 31.6308 L53.8254 29.9641 L58.5013 29.9641 L58.5013 60.5889 L66.1402 60.5889 L66.1402 64.5241 L46.2328 64.5241 L46.2328 60.5889 Z\" fill=\"#000000\" fill-rule=\"evenodd\" fill-opacity=\"1\" /><path clip-path=\"url(#clip610)\" d=\"M75.5845 58.6445 L80.4688 58.6445 L80.4688 64.5241 L75.5845 64.5241 L75.5845 58.6445 Z\" fill=\"#000000\" fill-rule=\"evenodd\" fill-opacity=\"1\" /><path clip-path=\"url(#clip610)\" d=\"M100.654 33.0428 Q97.0428 33.0428 95.2141 36.6076 Q93.4085 40.1492 93.4085 47.2788 Q93.4085 54.3853 95.2141 57.9501 Q97.0428 61.4917 100.654 61.4917 Q104.288 61.4917 106.094 57.9501 Q107.922 54.3853 107.922 47.2788 Q107.922 40.1492 106.094 36.6076 Q104.288 33.0428 100.654 33.0428 M100.654 29.3391 Q106.464 29.3391 109.52 33.9456 Q112.598 38.5289 112.598 47.2788 Q112.598 56.0056 109.52 60.6121 Q106.464 65.1954 100.654 65.1954 Q94.8437 65.1954 91.765 60.6121 Q88.7095 56.0056 88.7095 47.2788 Q88.7095 38.5289 91.765 33.9456 Q94.8437 29.3391 100.654 29.3391 Z\" fill=\"#000000\" fill-rule=\"evenodd\" fill-opacity=\"1\" /><circle clip-path=\"url(#clip612)\" cx=\"279.584\" cy=\"969.166\" r=\"1\" fill=\"#009af9\" fill-rule=\"evenodd\" fill-opacity=\"1\" stroke=\"#000000\" stroke-opacity=\"1\" stroke-width=\"4\"/>\n",
       "<circle clip-path=\"url(#clip612)\" cx=\"494.991\" cy=\"969.166\" r=\"12\" fill=\"#e26f46\" fill-rule=\"evenodd\" fill-opacity=\"1\" stroke=\"#000000\" stroke-opacity=\"1\" stroke-width=\"4\"/>\n",
       "<circle clip-path=\"url(#clip612)\" cx=\"734.332\" cy=\"969.166\" r=\"1\" fill=\"#3da44d\" fill-rule=\"evenodd\" fill-opacity=\"1\" stroke=\"#000000\" stroke-opacity=\"1\" stroke-width=\"4\"/>\n",
       "<circle clip-path=\"url(#clip612)\" cx=\"973.674\" cy=\"969.166\" r=\"53\" fill=\"#c271d2\" fill-rule=\"evenodd\" fill-opacity=\"1\" stroke=\"#000000\" stroke-opacity=\"1\" stroke-width=\"4\"/>\n",
       "<circle clip-path=\"url(#clip612)\" cx=\"1213.02\" cy=\"969.166\" r=\"3\" fill=\"#ac8d18\" fill-rule=\"evenodd\" fill-opacity=\"1\" stroke=\"#000000\" stroke-opacity=\"1\" stroke-width=\"4\"/>\n",
       "<circle clip-path=\"url(#clip612)\" cx=\"1452.36\" cy=\"969.166\" r=\"23\" fill=\"#00a9ad\" fill-rule=\"evenodd\" fill-opacity=\"1\" stroke=\"#000000\" stroke-opacity=\"1\" stroke-width=\"4\"/>\n",
       "<circle clip-path=\"url(#clip612)\" cx=\"1691.7\" cy=\"969.166\" r=\"2\" fill=\"#ed5d92\" fill-rule=\"evenodd\" fill-opacity=\"1\" stroke=\"#000000\" stroke-opacity=\"1\" stroke-width=\"4\"/>\n",
       "<circle clip-path=\"url(#clip612)\" cx=\"1931.04\" cy=\"969.166\" r=\"61\" fill=\"#c68125\" fill-rule=\"evenodd\" fill-opacity=\"1\" stroke=\"#000000\" stroke-opacity=\"1\" stroke-width=\"4\"/>\n",
       "<circle clip-path=\"url(#clip612)\" style=\"fill:#00a98d; stroke:none; fill-opacity:1\" cx=\"2170.38\" cy=\"969.166\" r=\"2\"/>\n",
       "<circle clip-path=\"url(#clip612)\" cx=\"2409.72\" cy=\"969.166\" r=\"19\" fill=\"#8e971d\" fill-rule=\"evenodd\" fill-opacity=\"1\" stroke=\"#000000\" stroke-opacity=\"1\" stroke-width=\"4\"/>\n",
       "<circle clip-path=\"url(#clip612)\" cx=\"2649.06\" cy=\"969.166\" r=\"2\" fill=\"#00a8cb\" fill-rule=\"evenodd\" fill-opacity=\"1\" stroke=\"#000000\" stroke-opacity=\"1\" stroke-width=\"4\"/>\n",
       "<circle clip-path=\"url(#clip612)\" cx=\"2888.4\" cy=\"969.166\" r=\"11\" fill=\"#9b7fe8\" fill-rule=\"evenodd\" fill-opacity=\"1\" stroke=\"#000000\" stroke-opacity=\"1\" stroke-width=\"4\"/>\n",
       "<circle clip-path=\"url(#clip612)\" cx=\"3127.75\" cy=\"969.166\" r=\"6\" fill=\"#608cf6\" fill-rule=\"evenodd\" fill-opacity=\"1\" stroke=\"#000000\" stroke-opacity=\"1\" stroke-width=\"4\"/>\n",
       "<circle clip-path=\"url(#clip612)\" cx=\"3367.09\" cy=\"969.166\" r=\"47\" fill=\"#f05f73\" fill-rule=\"evenodd\" fill-opacity=\"1\" stroke=\"#000000\" stroke-opacity=\"1\" stroke-width=\"4\"/>\n",
       "<circle clip-path=\"url(#clip612)\" cx=\"3606.43\" cy=\"969.166\" r=\"3\" fill=\"#dd64b5\" fill-rule=\"evenodd\" fill-opacity=\"1\" stroke=\"#000000\" stroke-opacity=\"1\" stroke-width=\"4\"/>\n",
       "<circle clip-path=\"url(#clip612)\" cx=\"3845.77\" cy=\"969.166\" r=\"108\" fill=\"#6b9e32\" fill-rule=\"evenodd\" fill-opacity=\"1\" stroke=\"#000000\" stroke-opacity=\"1\" stroke-width=\"4\"/>\n",
       "</svg>\n"
      ]
     },
     "execution_count": 98,
     "metadata": {},
     "output_type": "execute_result"
    }
   ],
   "source": [
    "using Plots;\n",
    "plot!()\n",
    "scatter([1],[0.5],markersize= pE[1]*100,legend = false,size=(500,500),ylims=(0,1))\n",
    "scatter!([10],[0.5],markersize= pE[2]*100,legend = false,size=(500,500),ylims=(0,1))\n",
    "scatter!([20],[0.5],markersize= pE[3]*100,legend = false,size=(500,500),ylims=(0,1))\n",
    "scatter!([30],[0.5],markersize= pE[4]*100,legend = false,size=(500,500),ylims=(0,1))\n",
    "scatter!([40],[0.5],markersize= pE[5]*100,legend = false,size=(500,500),ylims=(0,1))\n",
    "scatter!([50],[0.5],markersize= pE[6]*100,legend = false,size=(500,500),ylims=(0,1))\n",
    "scatter!([60],[0.5],markersize= pE[7]*100,legend = false,size=(500,500),ylims=(0,1))\n",
    "scatter!([70],[0.5],markersize= pE[8]*100,legend = false,size=(500,500),ylims=(0,1))\n",
    "scatter!([80],[0.5],markersize= pE[9]*100,legend = false,size=(500,500),ylims=(0,1))\n",
    "scatter!([90],[0.5],markersize= pE[10]*100,legend = false,size=(500,500),ylims=(0,1))\n",
    "scatter!([100],[0.5],markersize= pE[11]*100,legend = false,size=(500,500),ylims=(0,1))\n",
    "scatter!([110],[0.5],markersize= pE[12]*100,legend = false,size=(500,500),ylims=(0,1))\n",
    "scatter!([120],[0.5],markersize= pE[13]*100,legend = false,size=(500,500),ylims=(0,1))\n",
    "scatter!([130],[0.5],markersize= pE[14]*100,legend = false,size=(500,500),ylims=(0,1))\n",
    "scatter!([140],[0.5],markersize= pE[15]*100,legend = false,size=(500,500),ylims=(0,1))\n",
    "scatter!([150],[0.5],markersize= pE[16]*100,legend = false,size=(500,500),ylims=(0,1))\n",
    "plot!(size=(1000,500))"
   ]
  },
  {
   "cell_type": "markdown",
   "metadata": {},
   "source": [
    "## Conclusion of task 2:\n",
    "I observe that the inclusion of an error into the quantum circuit destroy the pattern formation on the probabilities of the systemn to be in a particular state."
   ]
  },
  {
   "cell_type": "markdown",
   "metadata": {},
   "source": [
    "## Task 3\n",
    "Demonstrate the convergence of the empirical cumula- tive distribution function of p to the exact CDF of the exponential distribution with increasing circuit depth."
   ]
  },
  {
   "cell_type": "code",
   "execution_count": 133,
   "metadata": {
    "ExecuteTime": {
     "end_time": "2021-07-11T09:50:31.018000+01:00",
     "start_time": "2021-07-11T08:50:31.011Z"
    }
   },
   "outputs": [
    {
     "data": {
      "text/plain": [
       "0.5506710358827784"
      ]
     },
     "execution_count": 133,
     "metadata": {},
     "output_type": "execute_result"
    }
   ],
   "source": [
    "function Exp_CDF(N, p)\n",
    "   E_CDF = (1-exp(-2^N*p)) \n",
    "end"
   ]
  },
  {
   "cell_type": "code",
   "execution_count": 154,
   "metadata": {
    "ExecuteTime": {
     "end_time": "2021-07-11T10:22:06.902000+01:00",
     "start_time": "2021-07-11T09:22:06.850Z"
    }
   },
   "outputs": [
    {
     "data": {
      "image/svg+xml": [
       "<?xml version=\"1.0\" encoding=\"utf-8\"?>\n",
       "<svg xmlns=\"http://www.w3.org/2000/svg\" xmlns:xlink=\"http://www.w3.org/1999/xlink\" width=\"600\" height=\"400\" viewBox=\"0 0 2400 1600\">\n",
       "<defs>\n",
       "  <clipPath id=\"clip650\">\n",
       "    <rect x=\"0\" y=\"0\" width=\"2400\" height=\"1600\"/>\n",
       "  </clipPath>\n",
       "</defs>\n",
       "<path clip-path=\"url(#clip650)\" d=\"\n",
       "M0 1600 L2400 1600 L2400 0 L0 0  Z\n",
       "  \" fill=\"#ffffff\" fill-rule=\"evenodd\" fill-opacity=\"1\"/>\n",
       "<defs>\n",
       "  <clipPath id=\"clip651\">\n",
       "    <rect x=\"480\" y=\"0\" width=\"1681\" height=\"1600\"/>\n",
       "  </clipPath>\n",
       "</defs>\n",
       "<path clip-path=\"url(#clip650)\" d=\"\n",
       "M186.274 1486.45 L2352.76 1486.45 L2352.76 123.472 L186.274 123.472  Z\n",
       "  \" fill=\"#ffffff\" fill-rule=\"evenodd\" fill-opacity=\"1\"/>\n",
       "<defs>\n",
       "  <clipPath id=\"clip652\">\n",
       "    <rect x=\"186\" y=\"123\" width=\"2167\" height=\"1364\"/>\n",
       "  </clipPath>\n",
       "</defs>\n",
       "<polyline clip-path=\"url(#clip652)\" style=\"stroke:#000000; stroke-linecap:butt; stroke-linejoin:round; stroke-width:2; stroke-opacity:0.1; fill:none\" points=\"\n",
       "  247.59,1486.45 247.59,123.472 \n",
       "  \"/>\n",
       "<polyline clip-path=\"url(#clip652)\" style=\"stroke:#000000; stroke-linecap:butt; stroke-linejoin:round; stroke-width:2; stroke-opacity:0.1; fill:none\" points=\"\n",
       "  758.552,1486.45 758.552,123.472 \n",
       "  \"/>\n",
       "<polyline clip-path=\"url(#clip652)\" style=\"stroke:#000000; stroke-linecap:butt; stroke-linejoin:round; stroke-width:2; stroke-opacity:0.1; fill:none\" points=\"\n",
       "  1269.51,1486.45 1269.51,123.472 \n",
       "  \"/>\n",
       "<polyline clip-path=\"url(#clip652)\" style=\"stroke:#000000; stroke-linecap:butt; stroke-linejoin:round; stroke-width:2; stroke-opacity:0.1; fill:none\" points=\"\n",
       "  1780.48,1486.45 1780.48,123.472 \n",
       "  \"/>\n",
       "<polyline clip-path=\"url(#clip652)\" style=\"stroke:#000000; stroke-linecap:butt; stroke-linejoin:round; stroke-width:2; stroke-opacity:0.1; fill:none\" points=\"\n",
       "  2291.44,1486.45 2291.44,123.472 \n",
       "  \"/>\n",
       "<polyline clip-path=\"url(#clip650)\" style=\"stroke:#000000; stroke-linecap:butt; stroke-linejoin:round; stroke-width:4; stroke-opacity:1; fill:none\" points=\"\n",
       "  186.274,1486.45 2352.76,1486.45 \n",
       "  \"/>\n",
       "<polyline clip-path=\"url(#clip650)\" style=\"stroke:#000000; stroke-linecap:butt; stroke-linejoin:round; stroke-width:4; stroke-opacity:1; fill:none\" points=\"\n",
       "  247.59,1486.45 247.59,1470.09 \n",
       "  \"/>\n",
       "<polyline clip-path=\"url(#clip650)\" style=\"stroke:#000000; stroke-linecap:butt; stroke-linejoin:round; stroke-width:4; stroke-opacity:1; fill:none\" points=\"\n",
       "  758.552,1486.45 758.552,1470.09 \n",
       "  \"/>\n",
       "<polyline clip-path=\"url(#clip650)\" style=\"stroke:#000000; stroke-linecap:butt; stroke-linejoin:round; stroke-width:4; stroke-opacity:1; fill:none\" points=\"\n",
       "  1269.51,1486.45 1269.51,1470.09 \n",
       "  \"/>\n",
       "<polyline clip-path=\"url(#clip650)\" style=\"stroke:#000000; stroke-linecap:butt; stroke-linejoin:round; stroke-width:4; stroke-opacity:1; fill:none\" points=\"\n",
       "  1780.48,1486.45 1780.48,1470.09 \n",
       "  \"/>\n",
       "<polyline clip-path=\"url(#clip650)\" style=\"stroke:#000000; stroke-linecap:butt; stroke-linejoin:round; stroke-width:4; stroke-opacity:1; fill:none\" points=\"\n",
       "  2291.44,1486.45 2291.44,1470.09 \n",
       "  \"/>\n",
       "<path clip-path=\"url(#clip650)\" d=\"M209.893 1515.64 Q206.282 1515.64 204.453 1519.2 Q202.648 1522.75 202.648 1529.87 Q202.648 1536.98 204.453 1540.55 Q206.282 1544.09 209.893 1544.09 Q213.527 1544.09 215.333 1540.55 Q217.161 1536.98 217.161 1529.87 Q217.161 1522.75 215.333 1519.2 Q213.527 1515.64 209.893 1515.64 M209.893 1511.93 Q215.703 1511.93 218.759 1516.54 Q221.837 1521.12 221.837 1529.87 Q221.837 1538.6 218.759 1543.21 Q215.703 1547.79 209.893 1547.79 Q204.083 1547.79 201.004 1543.21 Q197.949 1538.6 197.949 1529.87 Q197.949 1521.12 201.004 1516.54 Q204.083 1511.93 209.893 1511.93 Z\" fill=\"#000000\" fill-rule=\"evenodd\" fill-opacity=\"1\" /><path clip-path=\"url(#clip650)\" d=\"M230.055 1541.24 L234.939 1541.24 L234.939 1547.12 L230.055 1547.12 L230.055 1541.24 Z\" fill=\"#000000\" fill-rule=\"evenodd\" fill-opacity=\"1\" /><path clip-path=\"url(#clip650)\" d=\"M255.124 1515.64 Q251.513 1515.64 249.684 1519.2 Q247.879 1522.75 247.879 1529.87 Q247.879 1536.98 249.684 1540.55 Q251.513 1544.09 255.124 1544.09 Q258.758 1544.09 260.564 1540.55 Q262.393 1536.98 262.393 1529.87 Q262.393 1522.75 260.564 1519.2 Q258.758 1515.64 255.124 1515.64 M255.124 1511.93 Q260.934 1511.93 263.99 1516.54 Q267.069 1521.12 267.069 1529.87 Q267.069 1538.6 263.99 1543.21 Q260.934 1547.79 255.124 1547.79 Q249.314 1547.79 246.235 1543.21 Q243.18 1538.6 243.18 1529.87 Q243.18 1521.12 246.235 1516.54 Q249.314 1511.93 255.124 1511.93 Z\" fill=\"#000000\" fill-rule=\"evenodd\" fill-opacity=\"1\" /><path clip-path=\"url(#clip650)\" d=\"M285.286 1515.64 Q281.675 1515.64 279.846 1519.2 Q278.041 1522.75 278.041 1529.87 Q278.041 1536.98 279.846 1540.55 Q281.675 1544.09 285.286 1544.09 Q288.92 1544.09 290.726 1540.55 Q292.555 1536.98 292.555 1529.87 Q292.555 1522.75 290.726 1519.2 Q288.92 1515.64 285.286 1515.64 M285.286 1511.93 Q291.096 1511.93 294.152 1516.54 Q297.23 1521.12 297.23 1529.87 Q297.23 1538.6 294.152 1543.21 Q291.096 1547.79 285.286 1547.79 Q279.476 1547.79 276.397 1543.21 Q273.342 1538.6 273.342 1529.87 Q273.342 1521.12 276.397 1516.54 Q279.476 1511.93 285.286 1511.93 Z\" fill=\"#000000\" fill-rule=\"evenodd\" fill-opacity=\"1\" /><path clip-path=\"url(#clip650)\" d=\"M721.353 1515.64 Q717.742 1515.64 715.914 1519.2 Q714.108 1522.75 714.108 1529.87 Q714.108 1536.98 715.914 1540.55 Q717.742 1544.09 721.353 1544.09 Q724.988 1544.09 726.793 1540.55 Q728.622 1536.98 728.622 1529.87 Q728.622 1522.75 726.793 1519.2 Q724.988 1515.64 721.353 1515.64 M721.353 1511.93 Q727.164 1511.93 730.219 1516.54 Q733.298 1521.12 733.298 1529.87 Q733.298 1538.6 730.219 1543.21 Q727.164 1547.79 721.353 1547.79 Q715.543 1547.79 712.465 1543.21 Q709.409 1538.6 709.409 1529.87 Q709.409 1521.12 712.465 1516.54 Q715.543 1511.93 721.353 1511.93 Z\" fill=\"#000000\" fill-rule=\"evenodd\" fill-opacity=\"1\" /><path clip-path=\"url(#clip650)\" d=\"M741.515 1541.24 L746.4 1541.24 L746.4 1547.12 L741.515 1547.12 L741.515 1541.24 Z\" fill=\"#000000\" fill-rule=\"evenodd\" fill-opacity=\"1\" /><path clip-path=\"url(#clip650)\" d=\"M760.612 1543.18 L776.932 1543.18 L776.932 1547.12 L754.987 1547.12 L754.987 1543.18 Q757.649 1540.43 762.233 1535.8 Q766.839 1531.15 768.02 1529.81 Q770.265 1527.28 771.145 1525.55 Q772.048 1523.79 772.048 1522.1 Q772.048 1519.34 770.103 1517.61 Q768.182 1515.87 765.08 1515.87 Q762.881 1515.87 760.427 1516.63 Q757.997 1517.4 755.219 1518.95 L755.219 1514.23 Q758.043 1513.09 760.497 1512.51 Q762.95 1511.93 764.987 1511.93 Q770.358 1511.93 773.552 1514.62 Q776.747 1517.31 776.747 1521.8 Q776.747 1523.93 775.936 1525.85 Q775.149 1527.74 773.043 1530.34 Q772.464 1531.01 769.362 1534.23 Q766.261 1537.42 760.612 1543.18 Z\" fill=\"#000000\" fill-rule=\"evenodd\" fill-opacity=\"1\" /><path clip-path=\"url(#clip650)\" d=\"M786.793 1512.56 L805.149 1512.56 L805.149 1516.5 L791.075 1516.5 L791.075 1524.97 Q792.094 1524.62 793.112 1524.46 Q794.131 1524.27 795.149 1524.27 Q800.936 1524.27 804.316 1527.44 Q807.695 1530.62 807.695 1536.03 Q807.695 1541.61 804.223 1544.71 Q800.751 1547.79 794.432 1547.79 Q792.256 1547.79 789.987 1547.42 Q787.742 1547.05 785.335 1546.31 L785.335 1541.61 Q787.418 1542.74 789.64 1543.3 Q791.862 1543.86 794.339 1543.86 Q798.344 1543.86 800.682 1541.75 Q803.02 1539.64 803.02 1536.03 Q803.02 1532.42 800.682 1530.31 Q798.344 1528.21 794.339 1528.21 Q792.464 1528.21 790.589 1528.62 Q788.737 1529.04 786.793 1529.92 L786.793 1512.56 Z\" fill=\"#000000\" fill-rule=\"evenodd\" fill-opacity=\"1\" /><path clip-path=\"url(#clip650)\" d=\"M1231.82 1515.64 Q1228.21 1515.64 1226.38 1519.2 Q1224.57 1522.75 1224.57 1529.87 Q1224.57 1536.98 1226.38 1540.55 Q1228.21 1544.09 1231.82 1544.09 Q1235.45 1544.09 1237.26 1540.55 Q1239.09 1536.98 1239.09 1529.87 Q1239.09 1522.75 1237.26 1519.2 Q1235.45 1515.64 1231.82 1515.64 M1231.82 1511.93 Q1237.63 1511.93 1240.68 1516.54 Q1243.76 1521.12 1243.76 1529.87 Q1243.76 1538.6 1240.68 1543.21 Q1237.63 1547.79 1231.82 1547.79 Q1226.01 1547.79 1222.93 1543.21 Q1219.87 1538.6 1219.87 1529.87 Q1219.87 1521.12 1222.93 1516.54 Q1226.01 1511.93 1231.82 1511.93 Z\" fill=\"#000000\" fill-rule=\"evenodd\" fill-opacity=\"1\" /><path clip-path=\"url(#clip650)\" d=\"M1251.98 1541.24 L1256.86 1541.24 L1256.86 1547.12 L1251.98 1547.12 L1251.98 1541.24 Z\" fill=\"#000000\" fill-rule=\"evenodd\" fill-opacity=\"1\" /><path clip-path=\"url(#clip650)\" d=\"M1267.1 1512.56 L1285.45 1512.56 L1285.45 1516.5 L1271.38 1516.5 L1271.38 1524.97 Q1272.4 1524.62 1273.42 1524.46 Q1274.43 1524.27 1275.45 1524.27 Q1281.24 1524.27 1284.62 1527.44 Q1288 1530.62 1288 1536.03 Q1288 1541.61 1284.53 1544.71 Q1281.05 1547.79 1274.73 1547.79 Q1272.56 1547.79 1270.29 1547.42 Q1268.05 1547.05 1265.64 1546.31 L1265.64 1541.61 Q1267.72 1542.74 1269.94 1543.3 Q1272.17 1543.86 1274.64 1543.86 Q1278.65 1543.86 1280.98 1541.75 Q1283.32 1539.64 1283.32 1536.03 Q1283.32 1532.42 1280.98 1530.31 Q1278.65 1528.21 1274.64 1528.21 Q1272.77 1528.21 1270.89 1528.62 Q1269.04 1529.04 1267.1 1529.92 L1267.1 1512.56 Z\" fill=\"#000000\" fill-rule=\"evenodd\" fill-opacity=\"1\" /><path clip-path=\"url(#clip650)\" d=\"M1307.21 1515.64 Q1303.6 1515.64 1301.77 1519.2 Q1299.97 1522.75 1299.97 1529.87 Q1299.97 1536.98 1301.77 1540.55 Q1303.6 1544.09 1307.21 1544.09 Q1310.85 1544.09 1312.65 1540.55 Q1314.48 1536.98 1314.48 1529.87 Q1314.48 1522.75 1312.65 1519.2 Q1310.85 1515.64 1307.21 1515.64 M1307.21 1511.93 Q1313.02 1511.93 1316.08 1516.54 Q1319.16 1521.12 1319.16 1529.87 Q1319.16 1538.6 1316.08 1543.21 Q1313.02 1547.79 1307.21 1547.79 Q1301.4 1547.79 1298.32 1543.21 Q1295.27 1538.6 1295.27 1529.87 Q1295.27 1521.12 1298.32 1516.54 Q1301.4 1511.93 1307.21 1511.93 Z\" fill=\"#000000\" fill-rule=\"evenodd\" fill-opacity=\"1\" /><path clip-path=\"url(#clip650)\" d=\"M1743.28 1515.64 Q1739.67 1515.64 1737.84 1519.2 Q1736.03 1522.75 1736.03 1529.87 Q1736.03 1536.98 1737.84 1540.55 Q1739.67 1544.09 1743.28 1544.09 Q1746.91 1544.09 1748.72 1540.55 Q1750.55 1536.98 1750.55 1529.87 Q1750.55 1522.75 1748.72 1519.2 Q1746.91 1515.64 1743.28 1515.64 M1743.28 1511.93 Q1749.09 1511.93 1752.14 1516.54 Q1755.22 1521.12 1755.22 1529.87 Q1755.22 1538.6 1752.14 1543.21 Q1749.09 1547.79 1743.28 1547.79 Q1737.47 1547.79 1734.39 1543.21 Q1731.33 1538.6 1731.33 1529.87 Q1731.33 1521.12 1734.39 1516.54 Q1737.47 1511.93 1743.28 1511.93 Z\" fill=\"#000000\" fill-rule=\"evenodd\" fill-opacity=\"1\" /><path clip-path=\"url(#clip650)\" d=\"M1763.44 1541.24 L1768.32 1541.24 L1768.32 1547.12 L1763.44 1547.12 L1763.44 1541.24 Z\" fill=\"#000000\" fill-rule=\"evenodd\" fill-opacity=\"1\" /><path clip-path=\"url(#clip650)\" d=\"M1777.33 1512.56 L1799.55 1512.56 L1799.55 1514.55 L1787.01 1547.12 L1782.12 1547.12 L1793.93 1516.5 L1777.33 1516.5 L1777.33 1512.56 Z\" fill=\"#000000\" fill-rule=\"evenodd\" fill-opacity=\"1\" /><path clip-path=\"url(#clip650)\" d=\"M1808.72 1512.56 L1827.07 1512.56 L1827.07 1516.5 L1813 1516.5 L1813 1524.97 Q1814.02 1524.62 1815.04 1524.46 Q1816.06 1524.27 1817.07 1524.27 Q1822.86 1524.27 1826.24 1527.44 Q1829.62 1530.62 1829.62 1536.03 Q1829.62 1541.61 1826.15 1544.71 Q1822.68 1547.79 1816.36 1547.79 Q1814.18 1547.79 1811.91 1547.42 Q1809.67 1547.05 1807.26 1546.31 L1807.26 1541.61 Q1809.34 1542.74 1811.57 1543.3 Q1813.79 1543.86 1816.26 1543.86 Q1820.27 1543.86 1822.61 1541.75 Q1824.95 1539.64 1824.95 1536.03 Q1824.95 1532.42 1822.61 1530.31 Q1820.27 1528.21 1816.26 1528.21 Q1814.39 1528.21 1812.51 1528.62 Q1810.66 1529.04 1808.72 1529.92 L1808.72 1512.56 Z\" fill=\"#000000\" fill-rule=\"evenodd\" fill-opacity=\"1\" /><path clip-path=\"url(#clip650)\" d=\"M2243.51 1543.18 L2251.15 1543.18 L2251.15 1516.82 L2242.84 1518.49 L2242.84 1514.23 L2251.1 1512.56 L2255.78 1512.56 L2255.78 1543.18 L2263.42 1543.18 L2263.42 1547.12 L2243.51 1547.12 L2243.51 1543.18 Z\" fill=\"#000000\" fill-rule=\"evenodd\" fill-opacity=\"1\" /><path clip-path=\"url(#clip650)\" d=\"M2272.86 1541.24 L2277.75 1541.24 L2277.75 1547.12 L2272.86 1547.12 L2272.86 1541.24 Z\" fill=\"#000000\" fill-rule=\"evenodd\" fill-opacity=\"1\" /><path clip-path=\"url(#clip650)\" d=\"M2297.93 1515.64 Q2294.32 1515.64 2292.49 1519.2 Q2290.69 1522.75 2290.69 1529.87 Q2290.69 1536.98 2292.49 1540.55 Q2294.32 1544.09 2297.93 1544.09 Q2301.57 1544.09 2303.37 1540.55 Q2305.2 1536.98 2305.2 1529.87 Q2305.2 1522.75 2303.37 1519.2 Q2301.57 1515.64 2297.93 1515.64 M2297.93 1511.93 Q2303.74 1511.93 2306.8 1516.54 Q2309.88 1521.12 2309.88 1529.87 Q2309.88 1538.6 2306.8 1543.21 Q2303.74 1547.79 2297.93 1547.79 Q2292.12 1547.79 2289.04 1543.21 Q2285.99 1538.6 2285.99 1529.87 Q2285.99 1521.12 2289.04 1516.54 Q2292.12 1511.93 2297.93 1511.93 Z\" fill=\"#000000\" fill-rule=\"evenodd\" fill-opacity=\"1\" /><path clip-path=\"url(#clip650)\" d=\"M2328.1 1515.64 Q2324.48 1515.64 2322.66 1519.2 Q2320.85 1522.75 2320.85 1529.87 Q2320.85 1536.98 2322.66 1540.55 Q2324.48 1544.09 2328.1 1544.09 Q2331.73 1544.09 2333.54 1540.55 Q2335.36 1536.98 2335.36 1529.87 Q2335.36 1522.75 2333.54 1519.2 Q2331.73 1515.64 2328.1 1515.64 M2328.1 1511.93 Q2333.91 1511.93 2336.96 1516.54 Q2340.04 1521.12 2340.04 1529.87 Q2340.04 1538.6 2336.96 1543.21 Q2333.91 1547.79 2328.1 1547.79 Q2322.29 1547.79 2319.21 1543.21 Q2316.15 1538.6 2316.15 1529.87 Q2316.15 1521.12 2319.21 1516.54 Q2322.29 1511.93 2328.1 1511.93 Z\" fill=\"#000000\" fill-rule=\"evenodd\" fill-opacity=\"1\" /><polyline clip-path=\"url(#clip652)\" style=\"stroke:#000000; stroke-linecap:butt; stroke-linejoin:round; stroke-width:2; stroke-opacity:0.1; fill:none\" points=\"\n",
       "  186.274,1447.87 2352.76,1447.87 \n",
       "  \"/>\n",
       "<polyline clip-path=\"url(#clip652)\" style=\"stroke:#000000; stroke-linecap:butt; stroke-linejoin:round; stroke-width:2; stroke-opacity:0.1; fill:none\" points=\"\n",
       "  186.274,1126.42 2352.76,1126.42 \n",
       "  \"/>\n",
       "<polyline clip-path=\"url(#clip652)\" style=\"stroke:#000000; stroke-linecap:butt; stroke-linejoin:round; stroke-width:2; stroke-opacity:0.1; fill:none\" points=\"\n",
       "  186.274,804.96 2352.76,804.96 \n",
       "  \"/>\n",
       "<polyline clip-path=\"url(#clip652)\" style=\"stroke:#000000; stroke-linecap:butt; stroke-linejoin:round; stroke-width:2; stroke-opacity:0.1; fill:none\" points=\"\n",
       "  186.274,483.503 2352.76,483.503 \n",
       "  \"/>\n",
       "<polyline clip-path=\"url(#clip652)\" style=\"stroke:#000000; stroke-linecap:butt; stroke-linejoin:round; stroke-width:2; stroke-opacity:0.1; fill:none\" points=\"\n",
       "  186.274,162.047 2352.76,162.047 \n",
       "  \"/>\n",
       "<polyline clip-path=\"url(#clip650)\" style=\"stroke:#000000; stroke-linecap:butt; stroke-linejoin:round; stroke-width:4; stroke-opacity:1; fill:none\" points=\"\n",
       "  186.274,1486.45 186.274,123.472 \n",
       "  \"/>\n",
       "<polyline clip-path=\"url(#clip650)\" style=\"stroke:#000000; stroke-linecap:butt; stroke-linejoin:round; stroke-width:4; stroke-opacity:1; fill:none\" points=\"\n",
       "  186.274,1447.87 212.272,1447.87 \n",
       "  \"/>\n",
       "<polyline clip-path=\"url(#clip650)\" style=\"stroke:#000000; stroke-linecap:butt; stroke-linejoin:round; stroke-width:4; stroke-opacity:1; fill:none\" points=\"\n",
       "  186.274,1126.42 212.272,1126.42 \n",
       "  \"/>\n",
       "<polyline clip-path=\"url(#clip650)\" style=\"stroke:#000000; stroke-linecap:butt; stroke-linejoin:round; stroke-width:4; stroke-opacity:1; fill:none\" points=\"\n",
       "  186.274,804.96 212.272,804.96 \n",
       "  \"/>\n",
       "<polyline clip-path=\"url(#clip650)\" style=\"stroke:#000000; stroke-linecap:butt; stroke-linejoin:round; stroke-width:4; stroke-opacity:1; fill:none\" points=\"\n",
       "  186.274,483.503 212.272,483.503 \n",
       "  \"/>\n",
       "<polyline clip-path=\"url(#clip650)\" style=\"stroke:#000000; stroke-linecap:butt; stroke-linejoin:round; stroke-width:4; stroke-opacity:1; fill:none\" points=\"\n",
       "  186.274,162.047 212.272,162.047 \n",
       "  \"/>\n",
       "<path clip-path=\"url(#clip650)\" d=\"M62.9365 1433.67 Q59.3254 1433.67 57.4967 1437.24 Q55.6912 1440.78 55.6912 1447.91 Q55.6912 1455.01 57.4967 1458.58 Q59.3254 1462.12 62.9365 1462.12 Q66.5707 1462.12 68.3763 1458.58 Q70.205 1455.01 70.205 1447.91 Q70.205 1440.78 68.3763 1437.24 Q66.5707 1433.67 62.9365 1433.67 M62.9365 1429.97 Q68.7467 1429.97 71.8022 1434.57 Q74.8809 1439.16 74.8809 1447.91 Q74.8809 1456.63 71.8022 1461.24 Q68.7467 1465.82 62.9365 1465.82 Q57.1264 1465.82 54.0477 1461.24 Q50.9921 1456.63 50.9921 1447.91 Q50.9921 1439.16 54.0477 1434.57 Q57.1264 1429.97 62.9365 1429.97 Z\" fill=\"#000000\" fill-rule=\"evenodd\" fill-opacity=\"1\" /><path clip-path=\"url(#clip650)\" d=\"M83.0984 1459.27 L87.9827 1459.27 L87.9827 1465.15 L83.0984 1465.15 L83.0984 1459.27 Z\" fill=\"#000000\" fill-rule=\"evenodd\" fill-opacity=\"1\" /><path clip-path=\"url(#clip650)\" d=\"M108.168 1433.67 Q104.557 1433.67 102.728 1437.24 Q100.922 1440.78 100.922 1447.91 Q100.922 1455.01 102.728 1458.58 Q104.557 1462.12 108.168 1462.12 Q111.802 1462.12 113.608 1458.58 Q115.436 1455.01 115.436 1447.91 Q115.436 1440.78 113.608 1437.24 Q111.802 1433.67 108.168 1433.67 M108.168 1429.97 Q113.978 1429.97 117.033 1434.57 Q120.112 1439.16 120.112 1447.91 Q120.112 1456.63 117.033 1461.24 Q113.978 1465.82 108.168 1465.82 Q102.358 1465.82 99.2789 1461.24 Q96.2234 1456.63 96.2234 1447.91 Q96.2234 1439.16 99.2789 1434.57 Q102.358 1429.97 108.168 1429.97 Z\" fill=\"#000000\" fill-rule=\"evenodd\" fill-opacity=\"1\" /><path clip-path=\"url(#clip650)\" d=\"M138.33 1433.67 Q134.719 1433.67 132.89 1437.24 Q131.084 1440.78 131.084 1447.91 Q131.084 1455.01 132.89 1458.58 Q134.719 1462.12 138.33 1462.12 Q141.964 1462.12 143.769 1458.58 Q145.598 1455.01 145.598 1447.91 Q145.598 1440.78 143.769 1437.24 Q141.964 1433.67 138.33 1433.67 M138.33 1429.97 Q144.14 1429.97 147.195 1434.57 Q150.274 1439.16 150.274 1447.91 Q150.274 1456.63 147.195 1461.24 Q144.14 1465.82 138.33 1465.82 Q132.519 1465.82 129.441 1461.24 Q126.385 1456.63 126.385 1447.91 Q126.385 1439.16 129.441 1434.57 Q132.519 1429.97 138.33 1429.97 Z\" fill=\"#000000\" fill-rule=\"evenodd\" fill-opacity=\"1\" /><path clip-path=\"url(#clip650)\" d=\"M63.9319 1112.22 Q60.3208 1112.22 58.4921 1115.78 Q56.6865 1119.32 56.6865 1126.45 Q56.6865 1133.56 58.4921 1137.12 Q60.3208 1140.66 63.9319 1140.66 Q67.5661 1140.66 69.3717 1137.12 Q71.2004 1133.56 71.2004 1126.45 Q71.2004 1119.32 69.3717 1115.78 Q67.5661 1112.22 63.9319 1112.22 M63.9319 1108.51 Q69.742 1108.51 72.7976 1113.12 Q75.8763 1117.7 75.8763 1126.45 Q75.8763 1135.18 72.7976 1139.78 Q69.742 1144.37 63.9319 1144.37 Q58.1217 1144.37 55.043 1139.78 Q51.9875 1135.18 51.9875 1126.45 Q51.9875 1117.7 55.043 1113.12 Q58.1217 1108.51 63.9319 1108.51 Z\" fill=\"#000000\" fill-rule=\"evenodd\" fill-opacity=\"1\" /><path clip-path=\"url(#clip650)\" d=\"M84.0938 1137.82 L88.978 1137.82 L88.978 1143.7 L84.0938 1143.7 L84.0938 1137.82 Z\" fill=\"#000000\" fill-rule=\"evenodd\" fill-opacity=\"1\" /><path clip-path=\"url(#clip650)\" d=\"M103.191 1139.76 L119.51 1139.76 L119.51 1143.7 L97.566 1143.7 L97.566 1139.76 Q100.228 1137.01 104.811 1132.38 Q109.418 1127.72 110.598 1126.38 Q112.844 1123.86 113.723 1122.12 Q114.626 1120.36 114.626 1118.67 Q114.626 1115.92 112.682 1114.18 Q110.76 1112.45 107.658 1112.45 Q105.459 1112.45 103.006 1113.21 Q100.575 1113.97 97.7974 1115.53 L97.7974 1110.8 Q100.621 1109.67 103.075 1109.09 Q105.529 1108.51 107.566 1108.51 Q112.936 1108.51 116.131 1111.2 Q119.325 1113.88 119.325 1118.37 Q119.325 1120.5 118.515 1122.42 Q117.728 1124.32 115.621 1126.91 Q115.043 1127.59 111.941 1130.8 Q108.839 1134 103.191 1139.76 Z\" fill=\"#000000\" fill-rule=\"evenodd\" fill-opacity=\"1\" /><path clip-path=\"url(#clip650)\" d=\"M129.371 1109.14 L147.728 1109.14 L147.728 1113.07 L133.654 1113.07 L133.654 1121.54 Q134.672 1121.2 135.691 1121.03 Q136.709 1120.85 137.728 1120.85 Q143.515 1120.85 146.894 1124.02 Q150.274 1127.19 150.274 1132.61 Q150.274 1138.19 146.802 1141.29 Q143.33 1144.37 137.01 1144.37 Q134.834 1144.37 132.566 1144 Q130.32 1143.63 127.913 1142.89 L127.913 1138.19 Q129.996 1139.32 132.219 1139.88 Q134.441 1140.43 136.918 1140.43 Q140.922 1140.43 143.26 1138.33 Q145.598 1136.22 145.598 1132.61 Q145.598 1129 143.26 1126.89 Q140.922 1124.78 136.918 1124.78 Q135.043 1124.78 133.168 1125.2 Q131.316 1125.62 129.371 1126.5 L129.371 1109.14 Z\" fill=\"#000000\" fill-rule=\"evenodd\" fill-opacity=\"1\" /><path clip-path=\"url(#clip650)\" d=\"M62.9365 790.759 Q59.3254 790.759 57.4967 794.323 Q55.6912 797.865 55.6912 804.995 Q55.6912 812.101 57.4967 815.666 Q59.3254 819.208 62.9365 819.208 Q66.5707 819.208 68.3763 815.666 Q70.205 812.101 70.205 804.995 Q70.205 797.865 68.3763 794.323 Q66.5707 790.759 62.9365 790.759 M62.9365 787.055 Q68.7467 787.055 71.8022 791.661 Q74.8809 796.245 74.8809 804.995 Q74.8809 813.721 71.8022 818.328 Q68.7467 822.911 62.9365 822.911 Q57.1264 822.911 54.0477 818.328 Q50.9921 813.721 50.9921 804.995 Q50.9921 796.245 54.0477 791.661 Q57.1264 787.055 62.9365 787.055 Z\" fill=\"#000000\" fill-rule=\"evenodd\" fill-opacity=\"1\" /><path clip-path=\"url(#clip650)\" d=\"M83.0984 816.36 L87.9827 816.36 L87.9827 822.24 L83.0984 822.24 L83.0984 816.36 Z\" fill=\"#000000\" fill-rule=\"evenodd\" fill-opacity=\"1\" /><path clip-path=\"url(#clip650)\" d=\"M98.2141 787.68 L116.57 787.68 L116.57 791.615 L102.496 791.615 L102.496 800.087 Q103.515 799.74 104.534 799.578 Q105.552 799.393 106.571 799.393 Q112.358 799.393 115.737 802.564 Q119.117 805.735 119.117 811.152 Q119.117 816.731 115.645 819.833 Q112.172 822.911 105.853 822.911 Q103.677 822.911 101.409 822.541 Q99.1632 822.17 96.7558 821.43 L96.7558 816.731 Q98.8391 817.865 101.061 818.421 Q103.284 818.976 105.76 818.976 Q109.765 818.976 112.103 816.87 Q114.441 814.763 114.441 811.152 Q114.441 807.541 112.103 805.434 Q109.765 803.328 105.76 803.328 Q103.885 803.328 102.01 803.745 Q100.159 804.161 98.2141 805.041 L98.2141 787.68 Z\" fill=\"#000000\" fill-rule=\"evenodd\" fill-opacity=\"1\" /><path clip-path=\"url(#clip650)\" d=\"M138.33 790.759 Q134.719 790.759 132.89 794.323 Q131.084 797.865 131.084 804.995 Q131.084 812.101 132.89 815.666 Q134.719 819.208 138.33 819.208 Q141.964 819.208 143.769 815.666 Q145.598 812.101 145.598 804.995 Q145.598 797.865 143.769 794.323 Q141.964 790.759 138.33 790.759 M138.33 787.055 Q144.14 787.055 147.195 791.661 Q150.274 796.245 150.274 804.995 Q150.274 813.721 147.195 818.328 Q144.14 822.911 138.33 822.911 Q132.519 822.911 129.441 818.328 Q126.385 813.721 126.385 804.995 Q126.385 796.245 129.441 791.661 Q132.519 787.055 138.33 787.055 Z\" fill=\"#000000\" fill-rule=\"evenodd\" fill-opacity=\"1\" /><path clip-path=\"url(#clip650)\" d=\"M63.9319 469.302 Q60.3208 469.302 58.4921 472.867 Q56.6865 476.408 56.6865 483.538 Q56.6865 490.645 58.4921 494.209 Q60.3208 497.751 63.9319 497.751 Q67.5661 497.751 69.3717 494.209 Q71.2004 490.645 71.2004 483.538 Q71.2004 476.408 69.3717 472.867 Q67.5661 469.302 63.9319 469.302 M63.9319 465.598 Q69.742 465.598 72.7976 470.205 Q75.8763 474.788 75.8763 483.538 Q75.8763 492.265 72.7976 496.871 Q69.742 501.455 63.9319 501.455 Q58.1217 501.455 55.043 496.871 Q51.9875 492.265 51.9875 483.538 Q51.9875 474.788 55.043 470.205 Q58.1217 465.598 63.9319 465.598 Z\" fill=\"#000000\" fill-rule=\"evenodd\" fill-opacity=\"1\" /><path clip-path=\"url(#clip650)\" d=\"M84.0938 494.904 L88.978 494.904 L88.978 500.783 L84.0938 500.783 L84.0938 494.904 Z\" fill=\"#000000\" fill-rule=\"evenodd\" fill-opacity=\"1\" /><path clip-path=\"url(#clip650)\" d=\"M97.9826 466.223 L120.205 466.223 L120.205 468.214 L107.658 500.783 L102.774 500.783 L114.58 470.159 L97.9826 470.159 L97.9826 466.223 Z\" fill=\"#000000\" fill-rule=\"evenodd\" fill-opacity=\"1\" /><path clip-path=\"url(#clip650)\" d=\"M129.371 466.223 L147.728 466.223 L147.728 470.159 L133.654 470.159 L133.654 478.631 Q134.672 478.283 135.691 478.121 Q136.709 477.936 137.728 477.936 Q143.515 477.936 146.894 481.108 Q150.274 484.279 150.274 489.695 Q150.274 495.274 146.802 498.376 Q143.33 501.455 137.01 501.455 Q134.834 501.455 132.566 501.084 Q130.32 500.714 127.913 499.973 L127.913 495.274 Q129.996 496.408 132.219 496.964 Q134.441 497.519 136.918 497.519 Q140.922 497.519 143.26 495.413 Q145.598 493.307 145.598 489.695 Q145.598 486.084 143.26 483.978 Q140.922 481.871 136.918 481.871 Q135.043 481.871 133.168 482.288 Q131.316 482.705 129.371 483.584 L129.371 466.223 Z\" fill=\"#000000\" fill-rule=\"evenodd\" fill-opacity=\"1\" /><path clip-path=\"url(#clip650)\" d=\"M53.7467 175.392 L61.3856 175.392 L61.3856 149.026 L53.0754 150.693 L53.0754 146.433 L61.3393 144.767 L66.0152 144.767 L66.0152 175.392 L73.654 175.392 L73.654 179.327 L53.7467 179.327 L53.7467 175.392 Z\" fill=\"#000000\" fill-rule=\"evenodd\" fill-opacity=\"1\" /><path clip-path=\"url(#clip650)\" d=\"M83.0984 173.447 L87.9827 173.447 L87.9827 179.327 L83.0984 179.327 L83.0984 173.447 Z\" fill=\"#000000\" fill-rule=\"evenodd\" fill-opacity=\"1\" /><path clip-path=\"url(#clip650)\" d=\"M108.168 147.845 Q104.557 147.845 102.728 151.41 Q100.922 154.952 100.922 162.081 Q100.922 169.188 102.728 172.753 Q104.557 176.294 108.168 176.294 Q111.802 176.294 113.608 172.753 Q115.436 169.188 115.436 162.081 Q115.436 154.952 113.608 151.41 Q111.802 147.845 108.168 147.845 M108.168 144.142 Q113.978 144.142 117.033 148.748 Q120.112 153.332 120.112 162.081 Q120.112 170.808 117.033 175.415 Q113.978 179.998 108.168 179.998 Q102.358 179.998 99.2789 175.415 Q96.2234 170.808 96.2234 162.081 Q96.2234 153.332 99.2789 148.748 Q102.358 144.142 108.168 144.142 Z\" fill=\"#000000\" fill-rule=\"evenodd\" fill-opacity=\"1\" /><path clip-path=\"url(#clip650)\" d=\"M138.33 147.845 Q134.719 147.845 132.89 151.41 Q131.084 154.952 131.084 162.081 Q131.084 169.188 132.89 172.753 Q134.719 176.294 138.33 176.294 Q141.964 176.294 143.769 172.753 Q145.598 169.188 145.598 162.081 Q145.598 154.952 143.769 151.41 Q141.964 147.845 138.33 147.845 M138.33 144.142 Q144.14 144.142 147.195 148.748 Q150.274 153.332 150.274 162.081 Q150.274 170.808 147.195 175.415 Q144.14 179.998 138.33 179.998 Q132.519 179.998 129.441 175.415 Q126.385 170.808 126.385 162.081 Q126.385 153.332 129.441 148.748 Q132.519 144.142 138.33 144.142 Z\" fill=\"#000000\" fill-rule=\"evenodd\" fill-opacity=\"1\" /><path clip-path=\"url(#clip650)\" d=\"M932.743 12.096 L970.984 12.096 L970.984 18.9825 L940.926 18.9825 L940.926 36.8875 L969.728 36.8875 L969.728 43.7741 L940.926 43.7741 L940.926 65.6895 L971.713 65.6895 L971.713 72.576 L932.743 72.576 L932.743 12.096 Z\" fill=\"#000000\" fill-rule=\"evenodd\" fill-opacity=\"1\" /><path clip-path=\"url(#clip650)\" d=\"M1022.55 27.2059 L1006.15 49.2833 L1023.4 72.576 L1014.61 72.576 L1001.41 54.752 L988.2 72.576 L979.409 72.576 L997.031 48.8377 L980.908 27.2059 L989.699 27.2059 L1001.73 43.369 L1013.76 27.2059 L1022.55 27.2059 Z\" fill=\"#000000\" fill-rule=\"evenodd\" fill-opacity=\"1\" /><path clip-path=\"url(#clip650)\" d=\"M1041.15 65.7705 L1041.15 89.8329 L1033.65 89.8329 L1033.65 27.2059 L1041.15 27.2059 L1041.15 34.0924 Q1043.49 30.0415 1047.06 28.0971 Q1050.66 26.1121 1055.65 26.1121 Q1063.91 26.1121 1069.06 32.6746 Q1074.24 39.2371 1074.24 49.9314 Q1074.24 60.6258 1069.06 67.1883 Q1063.91 73.7508 1055.65 73.7508 Q1050.66 73.7508 1047.06 71.8063 Q1043.49 69.8214 1041.15 65.7705 M1066.5 49.9314 Q1066.5 41.7081 1063.1 37.0496 Q1059.74 32.3505 1053.82 32.3505 Q1047.91 32.3505 1044.51 37.0496 Q1041.15 41.7081 1041.15 49.9314 Q1041.15 58.1548 1044.51 62.8538 Q1047.91 67.5124 1053.82 67.5124 Q1059.74 67.5124 1063.1 62.8538 Q1066.5 58.1548 1066.5 49.9314 Z\" fill=\"#000000\" fill-rule=\"evenodd\" fill-opacity=\"1\" /><path clip-path=\"url(#clip650)\" d=\"M1104.18 32.4315 Q1098.18 32.4315 1094.7 37.1306 Q1091.21 41.7891 1091.21 49.9314 Q1091.21 58.0738 1094.66 62.7728 Q1098.14 67.4314 1104.18 67.4314 Q1110.13 67.4314 1113.62 62.7323 Q1117.1 58.0333 1117.1 49.9314 Q1117.1 41.8701 1113.62 37.1711 Q1110.13 32.4315 1104.18 32.4315 M1104.18 26.1121 Q1113.9 26.1121 1119.45 32.4315 Q1125 38.7509 1125 49.9314 Q1125 61.0714 1119.45 67.4314 Q1113.9 73.7508 1104.18 73.7508 Q1094.41 73.7508 1088.86 67.4314 Q1083.36 61.0714 1083.36 49.9314 Q1083.36 38.7509 1088.86 32.4315 Q1094.41 26.1121 1104.18 26.1121 Z\" fill=\"#000000\" fill-rule=\"evenodd\" fill-opacity=\"1\" /><path clip-path=\"url(#clip650)\" d=\"M1175.07 45.1919 L1175.07 72.576 L1167.61 72.576 L1167.61 45.4349 Q1167.61 38.994 1165.1 35.7938 Q1162.59 32.5936 1157.57 32.5936 Q1151.53 32.5936 1148.05 36.4419 Q1144.56 40.2903 1144.56 46.9338 L1144.56 72.576 L1137.07 72.576 L1137.07 27.2059 L1144.56 27.2059 L1144.56 34.2544 Q1147.24 30.163 1150.84 28.1376 Q1154.49 26.1121 1159.23 26.1121 Q1167.05 26.1121 1171.06 30.9732 Q1175.07 35.7938 1175.07 45.1919 Z\" fill=\"#000000\" fill-rule=\"evenodd\" fill-opacity=\"1\" /><path clip-path=\"url(#clip650)\" d=\"M1228.74 48.0275 L1228.74 51.6733 L1194.47 51.6733 Q1194.96 59.3701 1199.09 63.421 Q1203.26 67.4314 1210.68 67.4314 Q1214.97 67.4314 1218.98 66.3781 Q1223.03 65.3249 1227 63.2184 L1227 70.267 Q1222.99 71.9684 1218.78 72.8596 Q1214.56 73.7508 1210.23 73.7508 Q1199.37 73.7508 1193.01 67.4314 Q1186.69 61.1119 1186.69 50.3365 Q1186.69 39.1965 1192.69 32.6746 Q1198.73 26.1121 1208.93 26.1121 Q1218.09 26.1121 1223.4 32.0264 Q1228.74 37.9003 1228.74 48.0275 M1221.29 45.84 Q1221.21 39.7232 1217.85 36.0774 Q1214.52 32.4315 1209.01 32.4315 Q1202.78 32.4315 1199.01 35.9558 Q1195.28 39.4801 1194.72 45.8805 L1221.29 45.84 Z\" fill=\"#000000\" fill-rule=\"evenodd\" fill-opacity=\"1\" /><path clip-path=\"url(#clip650)\" d=\"M1278.69 45.1919 L1278.69 72.576 L1271.24 72.576 L1271.24 45.4349 Q1271.24 38.994 1268.73 35.7938 Q1266.21 32.5936 1261.19 32.5936 Q1255.15 32.5936 1251.67 36.4419 Q1248.19 40.2903 1248.19 46.9338 L1248.19 72.576 L1240.69 72.576 L1240.69 27.2059 L1248.19 27.2059 L1248.19 34.2544 Q1250.86 30.163 1254.47 28.1376 Q1258.11 26.1121 1262.85 26.1121 Q1270.67 26.1121 1274.68 30.9732 Q1278.69 35.7938 1278.69 45.1919 Z\" fill=\"#000000\" fill-rule=\"evenodd\" fill-opacity=\"1\" /><path clip-path=\"url(#clip650)\" d=\"M1300.93 14.324 L1300.93 27.2059 L1316.28 27.2059 L1316.28 32.9987 L1300.93 32.9987 L1300.93 57.6282 Q1300.93 63.1779 1302.43 64.7578 Q1303.97 66.3376 1308.63 66.3376 L1316.28 66.3376 L1316.28 72.576 L1308.63 72.576 Q1300 72.576 1296.72 69.3758 Q1293.44 66.1351 1293.44 57.6282 L1293.44 32.9987 L1287.97 32.9987 L1287.97 27.2059 L1293.44 27.2059 L1293.44 14.324 L1300.93 14.324 Z\" fill=\"#000000\" fill-rule=\"evenodd\" fill-opacity=\"1\" /><path clip-path=\"url(#clip650)\" d=\"M1326.09 27.2059 L1333.54 27.2059 L1333.54 72.576 L1326.09 72.576 L1326.09 27.2059 M1326.09 9.54393 L1333.54 9.54393 L1333.54 18.9825 L1326.09 18.9825 L1326.09 9.54393 Z\" fill=\"#000000\" fill-rule=\"evenodd\" fill-opacity=\"1\" /><path clip-path=\"url(#clip650)\" d=\"M1369.75 49.7694 Q1360.72 49.7694 1357.24 51.8354 Q1353.75 53.9013 1353.75 58.8839 Q1353.75 62.8538 1356.35 65.2034 Q1358.98 67.5124 1363.48 67.5124 Q1369.67 67.5124 1373.4 63.1374 Q1377.17 58.7219 1377.17 51.4303 L1377.17 49.7694 L1369.75 49.7694 M1384.62 46.6907 L1384.62 72.576 L1377.17 72.576 L1377.17 65.6895 Q1374.62 69.8214 1370.81 71.8063 Q1367 73.7508 1361.49 73.7508 Q1354.52 73.7508 1350.39 69.8619 Q1346.3 65.9325 1346.3 59.3701 Q1346.3 51.7138 1351.4 47.825 Q1356.55 43.9361 1366.72 43.9361 L1377.17 43.9361 L1377.17 43.2069 Q1377.17 38.0623 1373.76 35.2672 Q1370.4 32.4315 1364.29 32.4315 Q1360.4 32.4315 1356.71 33.3632 Q1353.02 34.295 1349.62 36.1584 L1349.62 29.2718 Q1353.71 27.692 1357.56 26.9223 Q1361.41 26.1121 1365.06 26.1121 Q1374.9 26.1121 1379.76 31.2163 Q1384.62 36.3204 1384.62 46.6907 Z\" fill=\"#000000\" fill-rule=\"evenodd\" fill-opacity=\"1\" /><path clip-path=\"url(#clip650)\" d=\"M1399.97 9.54393 L1407.43 9.54393 L1407.43 72.576 L1399.97 72.576 L1399.97 9.54393 Z\" fill=\"#000000\" fill-rule=\"evenodd\" fill-opacity=\"1\" /><path clip-path=\"url(#clip650)\" d=\"M1495.01 16.7545 L1495.01 25.383 Q1490.88 21.5346 1486.18 19.6307 Q1481.52 17.7268 1476.25 17.7268 Q1465.88 17.7268 1460.37 24.0867 Q1454.86 30.4061 1454.86 42.3968 Q1454.86 54.3469 1460.37 60.7069 Q1465.88 67.0263 1476.25 67.0263 Q1481.52 67.0263 1486.18 65.1223 Q1490.88 63.2184 1495.01 59.3701 L1495.01 67.9175 Q1490.71 70.8341 1485.89 72.2924 Q1481.11 73.7508 1475.77 73.7508 Q1462.03 73.7508 1454.13 65.3654 Q1446.24 56.9395 1446.24 42.3968 Q1446.24 27.8135 1454.13 19.4281 Q1462.03 11.0023 1475.77 11.0023 Q1481.19 11.0023 1485.98 12.4606 Q1490.8 13.8784 1495.01 16.7545 Z\" fill=\"#000000\" fill-rule=\"evenodd\" fill-opacity=\"1\" /><path clip-path=\"url(#clip650)\" d=\"M1515.83 18.8205 L1515.83 65.8515 L1525.71 65.8515 Q1538.23 65.8515 1544.02 60.1802 Q1549.86 54.509 1549.86 42.2752 Q1549.86 30.1225 1544.02 24.4918 Q1538.23 18.8205 1525.71 18.8205 L1515.83 18.8205 M1507.65 12.096 L1524.46 12.096 Q1542.04 12.096 1550.26 19.4281 Q1558.49 26.7198 1558.49 42.2752 Q1558.49 57.9117 1550.22 65.2439 Q1541.96 72.576 1524.46 72.576 L1507.65 72.576 L1507.65 12.096 Z\" fill=\"#000000\" fill-rule=\"evenodd\" fill-opacity=\"1\" /><path clip-path=\"url(#clip650)\" d=\"M1571.53 12.096 L1606.29 12.096 L1606.29 18.9825 L1579.71 18.9825 L1579.71 36.8065 L1603.69 36.8065 L1603.69 43.6931 L1579.71 43.6931 L1579.71 72.576 L1571.53 72.576 L1571.53 12.096 Z\" fill=\"#000000\" fill-rule=\"evenodd\" fill-opacity=\"1\" /><circle clip-path=\"url(#clip652)\" cx=\"247.59\" cy=\"1447.87\" r=\"14\" fill=\"#009af9\" fill-rule=\"evenodd\" fill-opacity=\"1\" stroke=\"#000000\" stroke-opacity=\"1\" stroke-width=\"3.2\"/>\n",
       "<circle clip-path=\"url(#clip652)\" cx=\"257.809\" cy=\"1349.01\" r=\"14\" fill=\"#009af9\" fill-rule=\"evenodd\" fill-opacity=\"1\" stroke=\"#000000\" stroke-opacity=\"1\" stroke-width=\"3.2\"/>\n",
       "<circle clip-path=\"url(#clip652)\" cx=\"268.028\" cy=\"1257.76\" r=\"14\" fill=\"#009af9\" fill-rule=\"evenodd\" fill-opacity=\"1\" stroke=\"#000000\" stroke-opacity=\"1\" stroke-width=\"3.2\"/>\n",
       "<circle clip-path=\"url(#clip652)\" cx=\"278.247\" cy=\"1173.51\" r=\"14\" fill=\"#009af9\" fill-rule=\"evenodd\" fill-opacity=\"1\" stroke=\"#000000\" stroke-opacity=\"1\" stroke-width=\"3.2\"/>\n",
       "<circle clip-path=\"url(#clip652)\" cx=\"288.467\" cy=\"1095.75\" r=\"14\" fill=\"#009af9\" fill-rule=\"evenodd\" fill-opacity=\"1\" stroke=\"#000000\" stroke-opacity=\"1\" stroke-width=\"3.2\"/>\n",
       "<circle clip-path=\"url(#clip652)\" cx=\"298.686\" cy=\"1023.96\" r=\"14\" fill=\"#009af9\" fill-rule=\"evenodd\" fill-opacity=\"1\" stroke=\"#000000\" stroke-opacity=\"1\" stroke-width=\"3.2\"/>\n",
       "<circle clip-path=\"url(#clip652)\" cx=\"308.905\" cy=\"957.695\" r=\"14\" fill=\"#009af9\" fill-rule=\"evenodd\" fill-opacity=\"1\" stroke=\"#000000\" stroke-opacity=\"1\" stroke-width=\"3.2\"/>\n",
       "<circle clip-path=\"url(#clip652)\" cx=\"319.124\" cy=\"896.522\" r=\"14\" fill=\"#009af9\" fill-rule=\"evenodd\" fill-opacity=\"1\" stroke=\"#000000\" stroke-opacity=\"1\" stroke-width=\"3.2\"/>\n",
       "<circle clip-path=\"url(#clip652)\" cx=\"329.344\" cy=\"840.053\" r=\"14\" fill=\"#009af9\" fill-rule=\"evenodd\" fill-opacity=\"1\" stroke=\"#000000\" stroke-opacity=\"1\" stroke-width=\"3.2\"/>\n",
       "<circle clip-path=\"url(#clip652)\" cx=\"339.563\" cy=\"787.926\" r=\"14\" fill=\"#009af9\" fill-rule=\"evenodd\" fill-opacity=\"1\" stroke=\"#000000\" stroke-opacity=\"1\" stroke-width=\"3.2\"/>\n",
       "<circle clip-path=\"url(#clip652)\" cx=\"349.782\" cy=\"739.806\" r=\"14\" fill=\"#009af9\" fill-rule=\"evenodd\" fill-opacity=\"1\" stroke=\"#000000\" stroke-opacity=\"1\" stroke-width=\"3.2\"/>\n",
       "<circle clip-path=\"url(#clip652)\" cx=\"360.001\" cy=\"695.386\" r=\"14\" fill=\"#009af9\" fill-rule=\"evenodd\" fill-opacity=\"1\" stroke=\"#000000\" stroke-opacity=\"1\" stroke-width=\"3.2\"/>\n",
       "<circle clip-path=\"url(#clip652)\" cx=\"370.221\" cy=\"654.381\" r=\"14\" fill=\"#009af9\" fill-rule=\"evenodd\" fill-opacity=\"1\" stroke=\"#000000\" stroke-opacity=\"1\" stroke-width=\"3.2\"/>\n",
       "<circle clip-path=\"url(#clip652)\" cx=\"380.44\" cy=\"616.528\" r=\"14\" fill=\"#009af9\" fill-rule=\"evenodd\" fill-opacity=\"1\" stroke=\"#000000\" stroke-opacity=\"1\" stroke-width=\"3.2\"/>\n",
       "<circle clip-path=\"url(#clip652)\" cx=\"390.659\" cy=\"581.586\" r=\"14\" fill=\"#009af9\" fill-rule=\"evenodd\" fill-opacity=\"1\" stroke=\"#000000\" stroke-opacity=\"1\" stroke-width=\"3.2\"/>\n",
       "<circle clip-path=\"url(#clip652)\" cx=\"400.878\" cy=\"549.33\" r=\"14\" fill=\"#009af9\" fill-rule=\"evenodd\" fill-opacity=\"1\" stroke=\"#000000\" stroke-opacity=\"1\" stroke-width=\"3.2\"/>\n",
       "<circle clip-path=\"url(#clip652)\" cx=\"411.098\" cy=\"519.554\" r=\"14\" fill=\"#009af9\" fill-rule=\"evenodd\" fill-opacity=\"1\" stroke=\"#000000\" stroke-opacity=\"1\" stroke-width=\"3.2\"/>\n",
       "<circle clip-path=\"url(#clip652)\" cx=\"421.317\" cy=\"492.068\" r=\"14\" fill=\"#009af9\" fill-rule=\"evenodd\" fill-opacity=\"1\" stroke=\"#000000\" stroke-opacity=\"1\" stroke-width=\"3.2\"/>\n",
       "<circle clip-path=\"url(#clip652)\" cx=\"431.536\" cy=\"466.695\" r=\"14\" fill=\"#009af9\" fill-rule=\"evenodd\" fill-opacity=\"1\" stroke=\"#000000\" stroke-opacity=\"1\" stroke-width=\"3.2\"/>\n",
       "<circle clip-path=\"url(#clip652)\" cx=\"441.755\" cy=\"443.272\" r=\"14\" fill=\"#009af9\" fill-rule=\"evenodd\" fill-opacity=\"1\" stroke=\"#000000\" stroke-opacity=\"1\" stroke-width=\"3.2\"/>\n",
       "<circle clip-path=\"url(#clip652)\" cx=\"451.975\" cy=\"421.651\" r=\"14\" fill=\"#009af9\" fill-rule=\"evenodd\" fill-opacity=\"1\" stroke=\"#000000\" stroke-opacity=\"1\" stroke-width=\"3.2\"/>\n",
       "<circle clip-path=\"url(#clip652)\" cx=\"462.194\" cy=\"401.691\" r=\"14\" fill=\"#009af9\" fill-rule=\"evenodd\" fill-opacity=\"1\" stroke=\"#000000\" stroke-opacity=\"1\" stroke-width=\"3.2\"/>\n",
       "<circle clip-path=\"url(#clip652)\" cx=\"472.413\" cy=\"383.267\" r=\"14\" fill=\"#009af9\" fill-rule=\"evenodd\" fill-opacity=\"1\" stroke=\"#000000\" stroke-opacity=\"1\" stroke-width=\"3.2\"/>\n",
       "<circle clip-path=\"url(#clip652)\" cx=\"482.632\" cy=\"366.258\" r=\"14\" fill=\"#009af9\" fill-rule=\"evenodd\" fill-opacity=\"1\" stroke=\"#000000\" stroke-opacity=\"1\" stroke-width=\"3.2\"/>\n",
       "<circle clip-path=\"url(#clip652)\" cx=\"492.852\" cy=\"350.558\" r=\"14\" fill=\"#009af9\" fill-rule=\"evenodd\" fill-opacity=\"1\" stroke=\"#000000\" stroke-opacity=\"1\" stroke-width=\"3.2\"/>\n",
       "<circle clip-path=\"url(#clip652)\" cx=\"503.071\" cy=\"336.064\" r=\"14\" fill=\"#009af9\" fill-rule=\"evenodd\" fill-opacity=\"1\" stroke=\"#000000\" stroke-opacity=\"1\" stroke-width=\"3.2\"/>\n",
       "<circle clip-path=\"url(#clip652)\" cx=\"513.29\" cy=\"322.685\" r=\"14\" fill=\"#009af9\" fill-rule=\"evenodd\" fill-opacity=\"1\" stroke=\"#000000\" stroke-opacity=\"1\" stroke-width=\"3.2\"/>\n",
       "<circle clip-path=\"url(#clip652)\" cx=\"523.509\" cy=\"310.335\" r=\"14\" fill=\"#009af9\" fill-rule=\"evenodd\" fill-opacity=\"1\" stroke=\"#000000\" stroke-opacity=\"1\" stroke-width=\"3.2\"/>\n",
       "<circle clip-path=\"url(#clip652)\" cx=\"533.729\" cy=\"298.934\" r=\"14\" fill=\"#009af9\" fill-rule=\"evenodd\" fill-opacity=\"1\" stroke=\"#000000\" stroke-opacity=\"1\" stroke-width=\"3.2\"/>\n",
       "<circle clip-path=\"url(#clip652)\" cx=\"543.948\" cy=\"288.41\" r=\"14\" fill=\"#009af9\" fill-rule=\"evenodd\" fill-opacity=\"1\" stroke=\"#000000\" stroke-opacity=\"1\" stroke-width=\"3.2\"/>\n",
       "<circle clip-path=\"url(#clip652)\" cx=\"554.167\" cy=\"278.694\" r=\"14\" fill=\"#009af9\" fill-rule=\"evenodd\" fill-opacity=\"1\" stroke=\"#000000\" stroke-opacity=\"1\" stroke-width=\"3.2\"/>\n",
       "<circle clip-path=\"url(#clip652)\" cx=\"564.386\" cy=\"269.726\" r=\"14\" fill=\"#009af9\" fill-rule=\"evenodd\" fill-opacity=\"1\" stroke=\"#000000\" stroke-opacity=\"1\" stroke-width=\"3.2\"/>\n",
       "<circle clip-path=\"url(#clip652)\" cx=\"574.606\" cy=\"261.447\" r=\"14\" fill=\"#009af9\" fill-rule=\"evenodd\" fill-opacity=\"1\" stroke=\"#000000\" stroke-opacity=\"1\" stroke-width=\"3.2\"/>\n",
       "<circle clip-path=\"url(#clip652)\" cx=\"584.825\" cy=\"253.805\" r=\"14\" fill=\"#009af9\" fill-rule=\"evenodd\" fill-opacity=\"1\" stroke=\"#000000\" stroke-opacity=\"1\" stroke-width=\"3.2\"/>\n",
       "<circle clip-path=\"url(#clip652)\" cx=\"595.044\" cy=\"246.75\" r=\"14\" fill=\"#009af9\" fill-rule=\"evenodd\" fill-opacity=\"1\" stroke=\"#000000\" stroke-opacity=\"1\" stroke-width=\"3.2\"/>\n",
       "<circle clip-path=\"url(#clip652)\" cx=\"605.263\" cy=\"240.238\" r=\"14\" fill=\"#009af9\" fill-rule=\"evenodd\" fill-opacity=\"1\" stroke=\"#000000\" stroke-opacity=\"1\" stroke-width=\"3.2\"/>\n",
       "<circle clip-path=\"url(#clip652)\" cx=\"615.483\" cy=\"234.226\" r=\"14\" fill=\"#009af9\" fill-rule=\"evenodd\" fill-opacity=\"1\" stroke=\"#000000\" stroke-opacity=\"1\" stroke-width=\"3.2\"/>\n",
       "<circle clip-path=\"url(#clip652)\" cx=\"625.702\" cy=\"228.677\" r=\"14\" fill=\"#009af9\" fill-rule=\"evenodd\" fill-opacity=\"1\" stroke=\"#000000\" stroke-opacity=\"1\" stroke-width=\"3.2\"/>\n",
       "<circle clip-path=\"url(#clip652)\" cx=\"635.921\" cy=\"223.554\" r=\"14\" fill=\"#009af9\" fill-rule=\"evenodd\" fill-opacity=\"1\" stroke=\"#000000\" stroke-opacity=\"1\" stroke-width=\"3.2\"/>\n",
       "<circle clip-path=\"url(#clip652)\" cx=\"646.14\" cy=\"218.825\" r=\"14\" fill=\"#009af9\" fill-rule=\"evenodd\" fill-opacity=\"1\" stroke=\"#000000\" stroke-opacity=\"1\" stroke-width=\"3.2\"/>\n",
       "<circle clip-path=\"url(#clip652)\" cx=\"656.36\" cy=\"214.46\" r=\"14\" fill=\"#009af9\" fill-rule=\"evenodd\" fill-opacity=\"1\" stroke=\"#000000\" stroke-opacity=\"1\" stroke-width=\"3.2\"/>\n",
       "<circle clip-path=\"url(#clip652)\" cx=\"666.579\" cy=\"210.43\" r=\"14\" fill=\"#009af9\" fill-rule=\"evenodd\" fill-opacity=\"1\" stroke=\"#000000\" stroke-opacity=\"1\" stroke-width=\"3.2\"/>\n",
       "<circle clip-path=\"url(#clip652)\" cx=\"676.798\" cy=\"206.71\" r=\"14\" fill=\"#009af9\" fill-rule=\"evenodd\" fill-opacity=\"1\" stroke=\"#000000\" stroke-opacity=\"1\" stroke-width=\"3.2\"/>\n",
       "<circle clip-path=\"url(#clip652)\" cx=\"687.017\" cy=\"203.276\" r=\"14\" fill=\"#009af9\" fill-rule=\"evenodd\" fill-opacity=\"1\" stroke=\"#000000\" stroke-opacity=\"1\" stroke-width=\"3.2\"/>\n",
       "<circle clip-path=\"url(#clip652)\" cx=\"697.237\" cy=\"200.106\" r=\"14\" fill=\"#009af9\" fill-rule=\"evenodd\" fill-opacity=\"1\" stroke=\"#000000\" stroke-opacity=\"1\" stroke-width=\"3.2\"/>\n",
       "<circle clip-path=\"url(#clip652)\" cx=\"707.456\" cy=\"197.18\" r=\"14\" fill=\"#009af9\" fill-rule=\"evenodd\" fill-opacity=\"1\" stroke=\"#000000\" stroke-opacity=\"1\" stroke-width=\"3.2\"/>\n",
       "<circle clip-path=\"url(#clip652)\" cx=\"717.675\" cy=\"194.479\" r=\"14\" fill=\"#009af9\" fill-rule=\"evenodd\" fill-opacity=\"1\" stroke=\"#000000\" stroke-opacity=\"1\" stroke-width=\"3.2\"/>\n",
       "<circle clip-path=\"url(#clip652)\" cx=\"727.894\" cy=\"191.986\" r=\"14\" fill=\"#009af9\" fill-rule=\"evenodd\" fill-opacity=\"1\" stroke=\"#000000\" stroke-opacity=\"1\" stroke-width=\"3.2\"/>\n",
       "<circle clip-path=\"url(#clip652)\" cx=\"738.114\" cy=\"189.684\" r=\"14\" fill=\"#009af9\" fill-rule=\"evenodd\" fill-opacity=\"1\" stroke=\"#000000\" stroke-opacity=\"1\" stroke-width=\"3.2\"/>\n",
       "<circle clip-path=\"url(#clip652)\" cx=\"748.333\" cy=\"187.559\" r=\"14\" fill=\"#009af9\" fill-rule=\"evenodd\" fill-opacity=\"1\" stroke=\"#000000\" stroke-opacity=\"1\" stroke-width=\"3.2\"/>\n",
       "<circle clip-path=\"url(#clip652)\" cx=\"758.552\" cy=\"185.597\" r=\"14\" fill=\"#009af9\" fill-rule=\"evenodd\" fill-opacity=\"1\" stroke=\"#000000\" stroke-opacity=\"1\" stroke-width=\"3.2\"/>\n",
       "<circle clip-path=\"url(#clip652)\" cx=\"768.771\" cy=\"183.787\" r=\"14\" fill=\"#009af9\" fill-rule=\"evenodd\" fill-opacity=\"1\" stroke=\"#000000\" stroke-opacity=\"1\" stroke-width=\"3.2\"/>\n",
       "<circle clip-path=\"url(#clip652)\" cx=\"778.991\" cy=\"182.115\" r=\"14\" fill=\"#009af9\" fill-rule=\"evenodd\" fill-opacity=\"1\" stroke=\"#000000\" stroke-opacity=\"1\" stroke-width=\"3.2\"/>\n",
       "<circle clip-path=\"url(#clip652)\" cx=\"789.21\" cy=\"180.572\" r=\"14\" fill=\"#009af9\" fill-rule=\"evenodd\" fill-opacity=\"1\" stroke=\"#000000\" stroke-opacity=\"1\" stroke-width=\"3.2\"/>\n",
       "<circle clip-path=\"url(#clip652)\" cx=\"799.429\" cy=\"179.148\" r=\"14\" fill=\"#009af9\" fill-rule=\"evenodd\" fill-opacity=\"1\" stroke=\"#000000\" stroke-opacity=\"1\" stroke-width=\"3.2\"/>\n",
       "<circle clip-path=\"url(#clip652)\" cx=\"809.649\" cy=\"177.833\" r=\"14\" fill=\"#009af9\" fill-rule=\"evenodd\" fill-opacity=\"1\" stroke=\"#000000\" stroke-opacity=\"1\" stroke-width=\"3.2\"/>\n",
       "<circle clip-path=\"url(#clip652)\" cx=\"819.868\" cy=\"176.62\" r=\"14\" fill=\"#009af9\" fill-rule=\"evenodd\" fill-opacity=\"1\" stroke=\"#000000\" stroke-opacity=\"1\" stroke-width=\"3.2\"/>\n",
       "<circle clip-path=\"url(#clip652)\" cx=\"830.087\" cy=\"175.499\" r=\"14\" fill=\"#009af9\" fill-rule=\"evenodd\" fill-opacity=\"1\" stroke=\"#000000\" stroke-opacity=\"1\" stroke-width=\"3.2\"/>\n",
       "<circle clip-path=\"url(#clip652)\" cx=\"840.306\" cy=\"174.465\" r=\"14\" fill=\"#009af9\" fill-rule=\"evenodd\" fill-opacity=\"1\" stroke=\"#000000\" stroke-opacity=\"1\" stroke-width=\"3.2\"/>\n",
       "<circle clip-path=\"url(#clip652)\" cx=\"850.526\" cy=\"173.51\" r=\"14\" fill=\"#009af9\" fill-rule=\"evenodd\" fill-opacity=\"1\" stroke=\"#000000\" stroke-opacity=\"1\" stroke-width=\"3.2\"/>\n",
       "<circle clip-path=\"url(#clip652)\" cx=\"860.745\" cy=\"172.629\" r=\"14\" fill=\"#009af9\" fill-rule=\"evenodd\" fill-opacity=\"1\" stroke=\"#000000\" stroke-opacity=\"1\" stroke-width=\"3.2\"/>\n",
       "<circle clip-path=\"url(#clip652)\" cx=\"870.964\" cy=\"171.815\" r=\"14\" fill=\"#009af9\" fill-rule=\"evenodd\" fill-opacity=\"1\" stroke=\"#000000\" stroke-opacity=\"1\" stroke-width=\"3.2\"/>\n",
       "<circle clip-path=\"url(#clip652)\" cx=\"881.183\" cy=\"171.064\" r=\"14\" fill=\"#009af9\" fill-rule=\"evenodd\" fill-opacity=\"1\" stroke=\"#000000\" stroke-opacity=\"1\" stroke-width=\"3.2\"/>\n",
       "<circle clip-path=\"url(#clip652)\" cx=\"891.403\" cy=\"170.371\" r=\"14\" fill=\"#009af9\" fill-rule=\"evenodd\" fill-opacity=\"1\" stroke=\"#000000\" stroke-opacity=\"1\" stroke-width=\"3.2\"/>\n",
       "<circle clip-path=\"url(#clip652)\" cx=\"901.622\" cy=\"169.731\" r=\"14\" fill=\"#009af9\" fill-rule=\"evenodd\" fill-opacity=\"1\" stroke=\"#000000\" stroke-opacity=\"1\" stroke-width=\"3.2\"/>\n",
       "<circle clip-path=\"url(#clip652)\" cx=\"911.841\" cy=\"169.14\" r=\"14\" fill=\"#009af9\" fill-rule=\"evenodd\" fill-opacity=\"1\" stroke=\"#000000\" stroke-opacity=\"1\" stroke-width=\"3.2\"/>\n",
       "<circle clip-path=\"url(#clip652)\" cx=\"922.06\" cy=\"168.595\" r=\"14\" fill=\"#009af9\" fill-rule=\"evenodd\" fill-opacity=\"1\" stroke=\"#000000\" stroke-opacity=\"1\" stroke-width=\"3.2\"/>\n",
       "<circle clip-path=\"url(#clip652)\" cx=\"932.28\" cy=\"168.091\" r=\"14\" fill=\"#009af9\" fill-rule=\"evenodd\" fill-opacity=\"1\" stroke=\"#000000\" stroke-opacity=\"1\" stroke-width=\"3.2\"/>\n",
       "<circle clip-path=\"url(#clip652)\" cx=\"942.499\" cy=\"167.627\" r=\"14\" fill=\"#009af9\" fill-rule=\"evenodd\" fill-opacity=\"1\" stroke=\"#000000\" stroke-opacity=\"1\" stroke-width=\"3.2\"/>\n",
       "<circle clip-path=\"url(#clip652)\" cx=\"952.718\" cy=\"167.198\" r=\"14\" fill=\"#009af9\" fill-rule=\"evenodd\" fill-opacity=\"1\" stroke=\"#000000\" stroke-opacity=\"1\" stroke-width=\"3.2\"/>\n",
       "<circle clip-path=\"url(#clip652)\" cx=\"962.937\" cy=\"166.802\" r=\"14\" fill=\"#009af9\" fill-rule=\"evenodd\" fill-opacity=\"1\" stroke=\"#000000\" stroke-opacity=\"1\" stroke-width=\"3.2\"/>\n",
       "<circle clip-path=\"url(#clip652)\" cx=\"973.157\" cy=\"166.436\" r=\"14\" fill=\"#009af9\" fill-rule=\"evenodd\" fill-opacity=\"1\" stroke=\"#000000\" stroke-opacity=\"1\" stroke-width=\"3.2\"/>\n",
       "<circle clip-path=\"url(#clip652)\" cx=\"983.376\" cy=\"166.099\" r=\"14\" fill=\"#009af9\" fill-rule=\"evenodd\" fill-opacity=\"1\" stroke=\"#000000\" stroke-opacity=\"1\" stroke-width=\"3.2\"/>\n",
       "<circle clip-path=\"url(#clip652)\" cx=\"993.595\" cy=\"165.787\" r=\"14\" fill=\"#009af9\" fill-rule=\"evenodd\" fill-opacity=\"1\" stroke=\"#000000\" stroke-opacity=\"1\" stroke-width=\"3.2\"/>\n",
       "<circle clip-path=\"url(#clip652)\" cx=\"1003.81\" cy=\"165.499\" r=\"14\" fill=\"#009af9\" fill-rule=\"evenodd\" fill-opacity=\"1\" stroke=\"#000000\" stroke-opacity=\"1\" stroke-width=\"3.2\"/>\n",
       "<circle clip-path=\"url(#clip652)\" cx=\"1014.03\" cy=\"165.234\" r=\"14\" fill=\"#009af9\" fill-rule=\"evenodd\" fill-opacity=\"1\" stroke=\"#000000\" stroke-opacity=\"1\" stroke-width=\"3.2\"/>\n",
       "<circle clip-path=\"url(#clip652)\" cx=\"1024.25\" cy=\"164.989\" r=\"14\" fill=\"#009af9\" fill-rule=\"evenodd\" fill-opacity=\"1\" stroke=\"#000000\" stroke-opacity=\"1\" stroke-width=\"3.2\"/>\n",
       "<circle clip-path=\"url(#clip652)\" cx=\"1034.47\" cy=\"164.763\" r=\"14\" fill=\"#009af9\" fill-rule=\"evenodd\" fill-opacity=\"1\" stroke=\"#000000\" stroke-opacity=\"1\" stroke-width=\"3.2\"/>\n",
       "<circle clip-path=\"url(#clip652)\" cx=\"1044.69\" cy=\"164.554\" r=\"14\" fill=\"#009af9\" fill-rule=\"evenodd\" fill-opacity=\"1\" stroke=\"#000000\" stroke-opacity=\"1\" stroke-width=\"3.2\"/>\n",
       "<circle clip-path=\"url(#clip652)\" cx=\"1054.91\" cy=\"164.361\" r=\"14\" fill=\"#009af9\" fill-rule=\"evenodd\" fill-opacity=\"1\" stroke=\"#000000\" stroke-opacity=\"1\" stroke-width=\"3.2\"/>\n",
       "<circle clip-path=\"url(#clip652)\" cx=\"1065.13\" cy=\"164.183\" r=\"14\" fill=\"#009af9\" fill-rule=\"evenodd\" fill-opacity=\"1\" stroke=\"#000000\" stroke-opacity=\"1\" stroke-width=\"3.2\"/>\n",
       "<circle clip-path=\"url(#clip652)\" cx=\"1075.35\" cy=\"164.019\" r=\"14\" fill=\"#009af9\" fill-rule=\"evenodd\" fill-opacity=\"1\" stroke=\"#000000\" stroke-opacity=\"1\" stroke-width=\"3.2\"/>\n",
       "<circle clip-path=\"url(#clip652)\" cx=\"1085.57\" cy=\"163.867\" r=\"14\" fill=\"#009af9\" fill-rule=\"evenodd\" fill-opacity=\"1\" stroke=\"#000000\" stroke-opacity=\"1\" stroke-width=\"3.2\"/>\n",
       "<circle clip-path=\"url(#clip652)\" cx=\"1095.79\" cy=\"163.727\" r=\"14\" fill=\"#009af9\" fill-rule=\"evenodd\" fill-opacity=\"1\" stroke=\"#000000\" stroke-opacity=\"1\" stroke-width=\"3.2\"/>\n",
       "<circle clip-path=\"url(#clip652)\" cx=\"1106.01\" cy=\"163.598\" r=\"14\" fill=\"#009af9\" fill-rule=\"evenodd\" fill-opacity=\"1\" stroke=\"#000000\" stroke-opacity=\"1\" stroke-width=\"3.2\"/>\n",
       "<circle clip-path=\"url(#clip652)\" cx=\"1116.23\" cy=\"163.479\" r=\"14\" fill=\"#009af9\" fill-rule=\"evenodd\" fill-opacity=\"1\" stroke=\"#000000\" stroke-opacity=\"1\" stroke-width=\"3.2\"/>\n",
       "<circle clip-path=\"url(#clip652)\" cx=\"1126.45\" cy=\"163.369\" r=\"14\" fill=\"#009af9\" fill-rule=\"evenodd\" fill-opacity=\"1\" stroke=\"#000000\" stroke-opacity=\"1\" stroke-width=\"3.2\"/>\n",
       "<circle clip-path=\"url(#clip652)\" cx=\"1136.66\" cy=\"163.267\" r=\"14\" fill=\"#009af9\" fill-rule=\"evenodd\" fill-opacity=\"1\" stroke=\"#000000\" stroke-opacity=\"1\" stroke-width=\"3.2\"/>\n",
       "<circle clip-path=\"url(#clip652)\" cx=\"1146.88\" cy=\"163.173\" r=\"14\" fill=\"#009af9\" fill-rule=\"evenodd\" fill-opacity=\"1\" stroke=\"#000000\" stroke-opacity=\"1\" stroke-width=\"3.2\"/>\n",
       "<circle clip-path=\"url(#clip652)\" cx=\"1157.1\" cy=\"163.087\" r=\"14\" fill=\"#009af9\" fill-rule=\"evenodd\" fill-opacity=\"1\" stroke=\"#000000\" stroke-opacity=\"1\" stroke-width=\"3.2\"/>\n",
       "<circle clip-path=\"url(#clip652)\" cx=\"1167.32\" cy=\"163.007\" r=\"14\" fill=\"#009af9\" fill-rule=\"evenodd\" fill-opacity=\"1\" stroke=\"#000000\" stroke-opacity=\"1\" stroke-width=\"3.2\"/>\n",
       "<circle clip-path=\"url(#clip652)\" cx=\"1177.54\" cy=\"162.933\" r=\"14\" fill=\"#009af9\" fill-rule=\"evenodd\" fill-opacity=\"1\" stroke=\"#000000\" stroke-opacity=\"1\" stroke-width=\"3.2\"/>\n",
       "<circle clip-path=\"url(#clip652)\" cx=\"1187.76\" cy=\"162.865\" r=\"14\" fill=\"#009af9\" fill-rule=\"evenodd\" fill-opacity=\"1\" stroke=\"#000000\" stroke-opacity=\"1\" stroke-width=\"3.2\"/>\n",
       "<circle clip-path=\"url(#clip652)\" cx=\"1197.98\" cy=\"162.802\" r=\"14\" fill=\"#009af9\" fill-rule=\"evenodd\" fill-opacity=\"1\" stroke=\"#000000\" stroke-opacity=\"1\" stroke-width=\"3.2\"/>\n",
       "<circle clip-path=\"url(#clip652)\" cx=\"1208.2\" cy=\"162.744\" r=\"14\" fill=\"#009af9\" fill-rule=\"evenodd\" fill-opacity=\"1\" stroke=\"#000000\" stroke-opacity=\"1\" stroke-width=\"3.2\"/>\n",
       "<circle clip-path=\"url(#clip652)\" cx=\"1218.42\" cy=\"162.69\" r=\"14\" fill=\"#009af9\" fill-rule=\"evenodd\" fill-opacity=\"1\" stroke=\"#000000\" stroke-opacity=\"1\" stroke-width=\"3.2\"/>\n",
       "<circle clip-path=\"url(#clip652)\" cx=\"1228.64\" cy=\"162.641\" r=\"14\" fill=\"#009af9\" fill-rule=\"evenodd\" fill-opacity=\"1\" stroke=\"#000000\" stroke-opacity=\"1\" stroke-width=\"3.2\"/>\n",
       "<circle clip-path=\"url(#clip652)\" cx=\"1238.86\" cy=\"162.595\" r=\"14\" fill=\"#009af9\" fill-rule=\"evenodd\" fill-opacity=\"1\" stroke=\"#000000\" stroke-opacity=\"1\" stroke-width=\"3.2\"/>\n",
       "<circle clip-path=\"url(#clip652)\" cx=\"1249.08\" cy=\"162.553\" r=\"14\" fill=\"#009af9\" fill-rule=\"evenodd\" fill-opacity=\"1\" stroke=\"#000000\" stroke-opacity=\"1\" stroke-width=\"3.2\"/>\n",
       "<circle clip-path=\"url(#clip652)\" cx=\"1259.3\" cy=\"162.514\" r=\"14\" fill=\"#009af9\" fill-rule=\"evenodd\" fill-opacity=\"1\" stroke=\"#000000\" stroke-opacity=\"1\" stroke-width=\"3.2\"/>\n",
       "<circle clip-path=\"url(#clip652)\" cx=\"1269.51\" cy=\"162.478\" r=\"14\" fill=\"#009af9\" fill-rule=\"evenodd\" fill-opacity=\"1\" stroke=\"#000000\" stroke-opacity=\"1\" stroke-width=\"3.2\"/>\n",
       "<circle clip-path=\"url(#clip652)\" cx=\"1279.73\" cy=\"162.445\" r=\"14\" fill=\"#009af9\" fill-rule=\"evenodd\" fill-opacity=\"1\" stroke=\"#000000\" stroke-opacity=\"1\" stroke-width=\"3.2\"/>\n",
       "<circle clip-path=\"url(#clip652)\" cx=\"1289.95\" cy=\"162.414\" r=\"14\" fill=\"#009af9\" fill-rule=\"evenodd\" fill-opacity=\"1\" stroke=\"#000000\" stroke-opacity=\"1\" stroke-width=\"3.2\"/>\n",
       "<circle clip-path=\"url(#clip652)\" cx=\"1300.17\" cy=\"162.386\" r=\"14\" fill=\"#009af9\" fill-rule=\"evenodd\" fill-opacity=\"1\" stroke=\"#000000\" stroke-opacity=\"1\" stroke-width=\"3.2\"/>\n",
       "<circle clip-path=\"url(#clip652)\" cx=\"1310.39\" cy=\"162.36\" r=\"14\" fill=\"#009af9\" fill-rule=\"evenodd\" fill-opacity=\"1\" stroke=\"#000000\" stroke-opacity=\"1\" stroke-width=\"3.2\"/>\n",
       "<circle clip-path=\"url(#clip652)\" cx=\"1320.61\" cy=\"162.336\" r=\"14\" fill=\"#009af9\" fill-rule=\"evenodd\" fill-opacity=\"1\" stroke=\"#000000\" stroke-opacity=\"1\" stroke-width=\"3.2\"/>\n",
       "<circle clip-path=\"url(#clip652)\" cx=\"1330.83\" cy=\"162.314\" r=\"14\" fill=\"#009af9\" fill-rule=\"evenodd\" fill-opacity=\"1\" stroke=\"#000000\" stroke-opacity=\"1\" stroke-width=\"3.2\"/>\n",
       "<circle clip-path=\"url(#clip652)\" cx=\"1341.05\" cy=\"162.293\" r=\"14\" fill=\"#009af9\" fill-rule=\"evenodd\" fill-opacity=\"1\" stroke=\"#000000\" stroke-opacity=\"1\" stroke-width=\"3.2\"/>\n",
       "<circle clip-path=\"url(#clip652)\" cx=\"1351.27\" cy=\"162.274\" r=\"14\" fill=\"#009af9\" fill-rule=\"evenodd\" fill-opacity=\"1\" stroke=\"#000000\" stroke-opacity=\"1\" stroke-width=\"3.2\"/>\n",
       "<circle clip-path=\"url(#clip652)\" cx=\"1361.49\" cy=\"162.257\" r=\"14\" fill=\"#009af9\" fill-rule=\"evenodd\" fill-opacity=\"1\" stroke=\"#000000\" stroke-opacity=\"1\" stroke-width=\"3.2\"/>\n",
       "<circle clip-path=\"url(#clip652)\" cx=\"1371.71\" cy=\"162.241\" r=\"14\" fill=\"#009af9\" fill-rule=\"evenodd\" fill-opacity=\"1\" stroke=\"#000000\" stroke-opacity=\"1\" stroke-width=\"3.2\"/>\n",
       "<circle clip-path=\"url(#clip652)\" cx=\"1381.93\" cy=\"162.226\" r=\"14\" fill=\"#009af9\" fill-rule=\"evenodd\" fill-opacity=\"1\" stroke=\"#000000\" stroke-opacity=\"1\" stroke-width=\"3.2\"/>\n",
       "<circle clip-path=\"url(#clip652)\" cx=\"1392.15\" cy=\"162.212\" r=\"14\" fill=\"#009af9\" fill-rule=\"evenodd\" fill-opacity=\"1\" stroke=\"#000000\" stroke-opacity=\"1\" stroke-width=\"3.2\"/>\n",
       "<circle clip-path=\"url(#clip652)\" cx=\"1402.37\" cy=\"162.199\" r=\"14\" fill=\"#009af9\" fill-rule=\"evenodd\" fill-opacity=\"1\" stroke=\"#000000\" stroke-opacity=\"1\" stroke-width=\"3.2\"/>\n",
       "<circle clip-path=\"url(#clip652)\" cx=\"1412.58\" cy=\"162.188\" r=\"14\" fill=\"#009af9\" fill-rule=\"evenodd\" fill-opacity=\"1\" stroke=\"#000000\" stroke-opacity=\"1\" stroke-width=\"3.2\"/>\n",
       "<circle clip-path=\"url(#clip652)\" cx=\"1422.8\" cy=\"162.177\" r=\"14\" fill=\"#009af9\" fill-rule=\"evenodd\" fill-opacity=\"1\" stroke=\"#000000\" stroke-opacity=\"1\" stroke-width=\"3.2\"/>\n",
       "<circle clip-path=\"url(#clip652)\" cx=\"1433.02\" cy=\"162.167\" r=\"14\" fill=\"#009af9\" fill-rule=\"evenodd\" fill-opacity=\"1\" stroke=\"#000000\" stroke-opacity=\"1\" stroke-width=\"3.2\"/>\n",
       "<circle clip-path=\"url(#clip652)\" cx=\"1443.24\" cy=\"162.157\" r=\"14\" fill=\"#009af9\" fill-rule=\"evenodd\" fill-opacity=\"1\" stroke=\"#000000\" stroke-opacity=\"1\" stroke-width=\"3.2\"/>\n",
       "<circle clip-path=\"url(#clip652)\" cx=\"1453.46\" cy=\"162.149\" r=\"14\" fill=\"#009af9\" fill-rule=\"evenodd\" fill-opacity=\"1\" stroke=\"#000000\" stroke-opacity=\"1\" stroke-width=\"3.2\"/>\n",
       "<circle clip-path=\"url(#clip652)\" cx=\"1463.68\" cy=\"162.141\" r=\"14\" fill=\"#009af9\" fill-rule=\"evenodd\" fill-opacity=\"1\" stroke=\"#000000\" stroke-opacity=\"1\" stroke-width=\"3.2\"/>\n",
       "<circle clip-path=\"url(#clip652)\" cx=\"1473.9\" cy=\"162.134\" r=\"14\" fill=\"#009af9\" fill-rule=\"evenodd\" fill-opacity=\"1\" stroke=\"#000000\" stroke-opacity=\"1\" stroke-width=\"3.2\"/>\n",
       "<circle clip-path=\"url(#clip652)\" cx=\"1484.12\" cy=\"162.127\" r=\"14\" fill=\"#009af9\" fill-rule=\"evenodd\" fill-opacity=\"1\" stroke=\"#000000\" stroke-opacity=\"1\" stroke-width=\"3.2\"/>\n",
       "<circle clip-path=\"url(#clip652)\" cx=\"1494.34\" cy=\"162.121\" r=\"14\" fill=\"#009af9\" fill-rule=\"evenodd\" fill-opacity=\"1\" stroke=\"#000000\" stroke-opacity=\"1\" stroke-width=\"3.2\"/>\n",
       "<circle clip-path=\"url(#clip652)\" cx=\"1504.56\" cy=\"162.115\" r=\"14\" fill=\"#009af9\" fill-rule=\"evenodd\" fill-opacity=\"1\" stroke=\"#000000\" stroke-opacity=\"1\" stroke-width=\"3.2\"/>\n",
       "<circle clip-path=\"url(#clip652)\" cx=\"1514.78\" cy=\"162.11\" r=\"14\" fill=\"#009af9\" fill-rule=\"evenodd\" fill-opacity=\"1\" stroke=\"#000000\" stroke-opacity=\"1\" stroke-width=\"3.2\"/>\n",
       "<circle clip-path=\"url(#clip652)\" cx=\"1525\" cy=\"162.105\" r=\"14\" fill=\"#009af9\" fill-rule=\"evenodd\" fill-opacity=\"1\" stroke=\"#000000\" stroke-opacity=\"1\" stroke-width=\"3.2\"/>\n",
       "<circle clip-path=\"url(#clip652)\" cx=\"1535.22\" cy=\"162.101\" r=\"14\" fill=\"#009af9\" fill-rule=\"evenodd\" fill-opacity=\"1\" stroke=\"#000000\" stroke-opacity=\"1\" stroke-width=\"3.2\"/>\n",
       "<circle clip-path=\"url(#clip652)\" cx=\"1545.43\" cy=\"162.097\" r=\"14\" fill=\"#009af9\" fill-rule=\"evenodd\" fill-opacity=\"1\" stroke=\"#000000\" stroke-opacity=\"1\" stroke-width=\"3.2\"/>\n",
       "<circle clip-path=\"url(#clip652)\" cx=\"1555.65\" cy=\"162.093\" r=\"14\" fill=\"#009af9\" fill-rule=\"evenodd\" fill-opacity=\"1\" stroke=\"#000000\" stroke-opacity=\"1\" stroke-width=\"3.2\"/>\n",
       "<circle clip-path=\"url(#clip652)\" cx=\"1565.87\" cy=\"162.089\" r=\"14\" fill=\"#009af9\" fill-rule=\"evenodd\" fill-opacity=\"1\" stroke=\"#000000\" stroke-opacity=\"1\" stroke-width=\"3.2\"/>\n",
       "<circle clip-path=\"url(#clip652)\" cx=\"1576.09\" cy=\"162.086\" r=\"14\" fill=\"#009af9\" fill-rule=\"evenodd\" fill-opacity=\"1\" stroke=\"#000000\" stroke-opacity=\"1\" stroke-width=\"3.2\"/>\n",
       "<circle clip-path=\"url(#clip652)\" cx=\"1586.31\" cy=\"162.083\" r=\"14\" fill=\"#009af9\" fill-rule=\"evenodd\" fill-opacity=\"1\" stroke=\"#000000\" stroke-opacity=\"1\" stroke-width=\"3.2\"/>\n",
       "<circle clip-path=\"url(#clip652)\" cx=\"1596.53\" cy=\"162.08\" r=\"14\" fill=\"#009af9\" fill-rule=\"evenodd\" fill-opacity=\"1\" stroke=\"#000000\" stroke-opacity=\"1\" stroke-width=\"3.2\"/>\n",
       "<circle clip-path=\"url(#clip652)\" cx=\"1606.75\" cy=\"162.078\" r=\"14\" fill=\"#009af9\" fill-rule=\"evenodd\" fill-opacity=\"1\" stroke=\"#000000\" stroke-opacity=\"1\" stroke-width=\"3.2\"/>\n",
       "<circle clip-path=\"url(#clip652)\" cx=\"1616.97\" cy=\"162.075\" r=\"14\" fill=\"#009af9\" fill-rule=\"evenodd\" fill-opacity=\"1\" stroke=\"#000000\" stroke-opacity=\"1\" stroke-width=\"3.2\"/>\n",
       "<circle clip-path=\"url(#clip652)\" cx=\"1627.19\" cy=\"162.073\" r=\"14\" fill=\"#009af9\" fill-rule=\"evenodd\" fill-opacity=\"1\" stroke=\"#000000\" stroke-opacity=\"1\" stroke-width=\"3.2\"/>\n",
       "<circle clip-path=\"url(#clip652)\" cx=\"1637.41\" cy=\"162.071\" r=\"14\" fill=\"#009af9\" fill-rule=\"evenodd\" fill-opacity=\"1\" stroke=\"#000000\" stroke-opacity=\"1\" stroke-width=\"3.2\"/>\n",
       "<circle clip-path=\"url(#clip652)\" cx=\"1647.63\" cy=\"162.069\" r=\"14\" fill=\"#009af9\" fill-rule=\"evenodd\" fill-opacity=\"1\" stroke=\"#000000\" stroke-opacity=\"1\" stroke-width=\"3.2\"/>\n",
       "<circle clip-path=\"url(#clip652)\" cx=\"1657.85\" cy=\"162.067\" r=\"14\" fill=\"#009af9\" fill-rule=\"evenodd\" fill-opacity=\"1\" stroke=\"#000000\" stroke-opacity=\"1\" stroke-width=\"3.2\"/>\n",
       "<circle clip-path=\"url(#clip652)\" cx=\"1668.07\" cy=\"162.066\" r=\"14\" fill=\"#009af9\" fill-rule=\"evenodd\" fill-opacity=\"1\" stroke=\"#000000\" stroke-opacity=\"1\" stroke-width=\"3.2\"/>\n",
       "<circle clip-path=\"url(#clip652)\" cx=\"1678.29\" cy=\"162.064\" r=\"14\" fill=\"#009af9\" fill-rule=\"evenodd\" fill-opacity=\"1\" stroke=\"#000000\" stroke-opacity=\"1\" stroke-width=\"3.2\"/>\n",
       "<circle clip-path=\"url(#clip652)\" cx=\"1688.5\" cy=\"162.063\" r=\"14\" fill=\"#009af9\" fill-rule=\"evenodd\" fill-opacity=\"1\" stroke=\"#000000\" stroke-opacity=\"1\" stroke-width=\"3.2\"/>\n",
       "<circle clip-path=\"url(#clip652)\" cx=\"1698.72\" cy=\"162.062\" r=\"14\" fill=\"#009af9\" fill-rule=\"evenodd\" fill-opacity=\"1\" stroke=\"#000000\" stroke-opacity=\"1\" stroke-width=\"3.2\"/>\n",
       "<circle clip-path=\"url(#clip652)\" cx=\"1708.94\" cy=\"162.061\" r=\"14\" fill=\"#009af9\" fill-rule=\"evenodd\" fill-opacity=\"1\" stroke=\"#000000\" stroke-opacity=\"1\" stroke-width=\"3.2\"/>\n",
       "<circle clip-path=\"url(#clip652)\" cx=\"1719.16\" cy=\"162.06\" r=\"14\" fill=\"#009af9\" fill-rule=\"evenodd\" fill-opacity=\"1\" stroke=\"#000000\" stroke-opacity=\"1\" stroke-width=\"3.2\"/>\n",
       "<circle clip-path=\"url(#clip652)\" cx=\"1729.38\" cy=\"162.059\" r=\"14\" fill=\"#009af9\" fill-rule=\"evenodd\" fill-opacity=\"1\" stroke=\"#000000\" stroke-opacity=\"1\" stroke-width=\"3.2\"/>\n",
       "<circle clip-path=\"url(#clip652)\" cx=\"1739.6\" cy=\"162.058\" r=\"14\" fill=\"#009af9\" fill-rule=\"evenodd\" fill-opacity=\"1\" stroke=\"#000000\" stroke-opacity=\"1\" stroke-width=\"3.2\"/>\n",
       "<circle clip-path=\"url(#clip652)\" cx=\"1749.82\" cy=\"162.057\" r=\"14\" fill=\"#009af9\" fill-rule=\"evenodd\" fill-opacity=\"1\" stroke=\"#000000\" stroke-opacity=\"1\" stroke-width=\"3.2\"/>\n",
       "<circle clip-path=\"url(#clip652)\" cx=\"1760.04\" cy=\"162.056\" r=\"14\" fill=\"#009af9\" fill-rule=\"evenodd\" fill-opacity=\"1\" stroke=\"#000000\" stroke-opacity=\"1\" stroke-width=\"3.2\"/>\n",
       "<circle clip-path=\"url(#clip652)\" cx=\"1770.26\" cy=\"162.055\" r=\"14\" fill=\"#009af9\" fill-rule=\"evenodd\" fill-opacity=\"1\" stroke=\"#000000\" stroke-opacity=\"1\" stroke-width=\"3.2\"/>\n",
       "<circle clip-path=\"url(#clip652)\" cx=\"1780.48\" cy=\"162.055\" r=\"14\" fill=\"#009af9\" fill-rule=\"evenodd\" fill-opacity=\"1\" stroke=\"#000000\" stroke-opacity=\"1\" stroke-width=\"3.2\"/>\n",
       "<circle clip-path=\"url(#clip652)\" cx=\"1790.7\" cy=\"162.054\" r=\"14\" fill=\"#009af9\" fill-rule=\"evenodd\" fill-opacity=\"1\" stroke=\"#000000\" stroke-opacity=\"1\" stroke-width=\"3.2\"/>\n",
       "<circle clip-path=\"url(#clip652)\" cx=\"1800.92\" cy=\"162.053\" r=\"14\" fill=\"#009af9\" fill-rule=\"evenodd\" fill-opacity=\"1\" stroke=\"#000000\" stroke-opacity=\"1\" stroke-width=\"3.2\"/>\n",
       "<circle clip-path=\"url(#clip652)\" cx=\"1811.14\" cy=\"162.053\" r=\"14\" fill=\"#009af9\" fill-rule=\"evenodd\" fill-opacity=\"1\" stroke=\"#000000\" stroke-opacity=\"1\" stroke-width=\"3.2\"/>\n",
       "<circle clip-path=\"url(#clip652)\" cx=\"1821.35\" cy=\"162.053\" r=\"14\" fill=\"#009af9\" fill-rule=\"evenodd\" fill-opacity=\"1\" stroke=\"#000000\" stroke-opacity=\"1\" stroke-width=\"3.2\"/>\n",
       "<circle clip-path=\"url(#clip652)\" cx=\"1831.57\" cy=\"162.052\" r=\"14\" fill=\"#009af9\" fill-rule=\"evenodd\" fill-opacity=\"1\" stroke=\"#000000\" stroke-opacity=\"1\" stroke-width=\"3.2\"/>\n",
       "<circle clip-path=\"url(#clip652)\" cx=\"1841.79\" cy=\"162.052\" r=\"14\" fill=\"#009af9\" fill-rule=\"evenodd\" fill-opacity=\"1\" stroke=\"#000000\" stroke-opacity=\"1\" stroke-width=\"3.2\"/>\n",
       "<circle clip-path=\"url(#clip652)\" cx=\"1852.01\" cy=\"162.051\" r=\"14\" fill=\"#009af9\" fill-rule=\"evenodd\" fill-opacity=\"1\" stroke=\"#000000\" stroke-opacity=\"1\" stroke-width=\"3.2\"/>\n",
       "<circle clip-path=\"url(#clip652)\" cx=\"1862.23\" cy=\"162.051\" r=\"14\" fill=\"#009af9\" fill-rule=\"evenodd\" fill-opacity=\"1\" stroke=\"#000000\" stroke-opacity=\"1\" stroke-width=\"3.2\"/>\n",
       "<circle clip-path=\"url(#clip652)\" cx=\"1872.45\" cy=\"162.051\" r=\"14\" fill=\"#009af9\" fill-rule=\"evenodd\" fill-opacity=\"1\" stroke=\"#000000\" stroke-opacity=\"1\" stroke-width=\"3.2\"/>\n",
       "<circle clip-path=\"url(#clip652)\" cx=\"1882.67\" cy=\"162.05\" r=\"14\" fill=\"#009af9\" fill-rule=\"evenodd\" fill-opacity=\"1\" stroke=\"#000000\" stroke-opacity=\"1\" stroke-width=\"3.2\"/>\n",
       "<circle clip-path=\"url(#clip652)\" cx=\"1892.89\" cy=\"162.05\" r=\"14\" fill=\"#009af9\" fill-rule=\"evenodd\" fill-opacity=\"1\" stroke=\"#000000\" stroke-opacity=\"1\" stroke-width=\"3.2\"/>\n",
       "<circle clip-path=\"url(#clip652)\" cx=\"1903.11\" cy=\"162.05\" r=\"14\" fill=\"#009af9\" fill-rule=\"evenodd\" fill-opacity=\"1\" stroke=\"#000000\" stroke-opacity=\"1\" stroke-width=\"3.2\"/>\n",
       "<circle clip-path=\"url(#clip652)\" cx=\"1913.33\" cy=\"162.05\" r=\"14\" fill=\"#009af9\" fill-rule=\"evenodd\" fill-opacity=\"1\" stroke=\"#000000\" stroke-opacity=\"1\" stroke-width=\"3.2\"/>\n",
       "<circle clip-path=\"url(#clip652)\" cx=\"1923.55\" cy=\"162.049\" r=\"14\" fill=\"#009af9\" fill-rule=\"evenodd\" fill-opacity=\"1\" stroke=\"#000000\" stroke-opacity=\"1\" stroke-width=\"3.2\"/>\n",
       "<circle clip-path=\"url(#clip652)\" cx=\"1933.77\" cy=\"162.049\" r=\"14\" fill=\"#009af9\" fill-rule=\"evenodd\" fill-opacity=\"1\" stroke=\"#000000\" stroke-opacity=\"1\" stroke-width=\"3.2\"/>\n",
       "<circle clip-path=\"url(#clip652)\" cx=\"1943.99\" cy=\"162.049\" r=\"14\" fill=\"#009af9\" fill-rule=\"evenodd\" fill-opacity=\"1\" stroke=\"#000000\" stroke-opacity=\"1\" stroke-width=\"3.2\"/>\n",
       "<circle clip-path=\"url(#clip652)\" cx=\"1954.2\" cy=\"162.049\" r=\"14\" fill=\"#009af9\" fill-rule=\"evenodd\" fill-opacity=\"1\" stroke=\"#000000\" stroke-opacity=\"1\" stroke-width=\"3.2\"/>\n",
       "<circle clip-path=\"url(#clip652)\" cx=\"1964.42\" cy=\"162.049\" r=\"14\" fill=\"#009af9\" fill-rule=\"evenodd\" fill-opacity=\"1\" stroke=\"#000000\" stroke-opacity=\"1\" stroke-width=\"3.2\"/>\n",
       "<circle clip-path=\"url(#clip652)\" cx=\"1974.64\" cy=\"162.048\" r=\"14\" fill=\"#009af9\" fill-rule=\"evenodd\" fill-opacity=\"1\" stroke=\"#000000\" stroke-opacity=\"1\" stroke-width=\"3.2\"/>\n",
       "<circle clip-path=\"url(#clip652)\" cx=\"1984.86\" cy=\"162.048\" r=\"14\" fill=\"#009af9\" fill-rule=\"evenodd\" fill-opacity=\"1\" stroke=\"#000000\" stroke-opacity=\"1\" stroke-width=\"3.2\"/>\n",
       "<circle clip-path=\"url(#clip652)\" cx=\"1995.08\" cy=\"162.048\" r=\"14\" fill=\"#009af9\" fill-rule=\"evenodd\" fill-opacity=\"1\" stroke=\"#000000\" stroke-opacity=\"1\" stroke-width=\"3.2\"/>\n",
       "<circle clip-path=\"url(#clip652)\" cx=\"2005.3\" cy=\"162.048\" r=\"14\" fill=\"#009af9\" fill-rule=\"evenodd\" fill-opacity=\"1\" stroke=\"#000000\" stroke-opacity=\"1\" stroke-width=\"3.2\"/>\n",
       "<circle clip-path=\"url(#clip652)\" cx=\"2015.52\" cy=\"162.048\" r=\"14\" fill=\"#009af9\" fill-rule=\"evenodd\" fill-opacity=\"1\" stroke=\"#000000\" stroke-opacity=\"1\" stroke-width=\"3.2\"/>\n",
       "<circle clip-path=\"url(#clip652)\" cx=\"2025.74\" cy=\"162.048\" r=\"14\" fill=\"#009af9\" fill-rule=\"evenodd\" fill-opacity=\"1\" stroke=\"#000000\" stroke-opacity=\"1\" stroke-width=\"3.2\"/>\n",
       "<circle clip-path=\"url(#clip652)\" cx=\"2035.96\" cy=\"162.048\" r=\"14\" fill=\"#009af9\" fill-rule=\"evenodd\" fill-opacity=\"1\" stroke=\"#000000\" stroke-opacity=\"1\" stroke-width=\"3.2\"/>\n",
       "<circle clip-path=\"url(#clip652)\" cx=\"2046.18\" cy=\"162.048\" r=\"14\" fill=\"#009af9\" fill-rule=\"evenodd\" fill-opacity=\"1\" stroke=\"#000000\" stroke-opacity=\"1\" stroke-width=\"3.2\"/>\n",
       "<circle clip-path=\"url(#clip652)\" cx=\"2056.4\" cy=\"162.048\" r=\"14\" fill=\"#009af9\" fill-rule=\"evenodd\" fill-opacity=\"1\" stroke=\"#000000\" stroke-opacity=\"1\" stroke-width=\"3.2\"/>\n",
       "<circle clip-path=\"url(#clip652)\" cx=\"2066.62\" cy=\"162.048\" r=\"14\" fill=\"#009af9\" fill-rule=\"evenodd\" fill-opacity=\"1\" stroke=\"#000000\" stroke-opacity=\"1\" stroke-width=\"3.2\"/>\n",
       "<circle clip-path=\"url(#clip652)\" cx=\"2076.84\" cy=\"162.048\" r=\"14\" fill=\"#009af9\" fill-rule=\"evenodd\" fill-opacity=\"1\" stroke=\"#000000\" stroke-opacity=\"1\" stroke-width=\"3.2\"/>\n",
       "<circle clip-path=\"url(#clip652)\" cx=\"2087.06\" cy=\"162.047\" r=\"14\" fill=\"#009af9\" fill-rule=\"evenodd\" fill-opacity=\"1\" stroke=\"#000000\" stroke-opacity=\"1\" stroke-width=\"3.2\"/>\n",
       "<circle clip-path=\"url(#clip652)\" cx=\"2097.27\" cy=\"162.047\" r=\"14\" fill=\"#009af9\" fill-rule=\"evenodd\" fill-opacity=\"1\" stroke=\"#000000\" stroke-opacity=\"1\" stroke-width=\"3.2\"/>\n",
       "<circle clip-path=\"url(#clip652)\" cx=\"2107.49\" cy=\"162.047\" r=\"14\" fill=\"#009af9\" fill-rule=\"evenodd\" fill-opacity=\"1\" stroke=\"#000000\" stroke-opacity=\"1\" stroke-width=\"3.2\"/>\n",
       "<circle clip-path=\"url(#clip652)\" cx=\"2117.71\" cy=\"162.047\" r=\"14\" fill=\"#009af9\" fill-rule=\"evenodd\" fill-opacity=\"1\" stroke=\"#000000\" stroke-opacity=\"1\" stroke-width=\"3.2\"/>\n",
       "<circle clip-path=\"url(#clip652)\" cx=\"2127.93\" cy=\"162.047\" r=\"14\" fill=\"#009af9\" fill-rule=\"evenodd\" fill-opacity=\"1\" stroke=\"#000000\" stroke-opacity=\"1\" stroke-width=\"3.2\"/>\n",
       "<circle clip-path=\"url(#clip652)\" cx=\"2138.15\" cy=\"162.047\" r=\"14\" fill=\"#009af9\" fill-rule=\"evenodd\" fill-opacity=\"1\" stroke=\"#000000\" stroke-opacity=\"1\" stroke-width=\"3.2\"/>\n",
       "<circle clip-path=\"url(#clip652)\" cx=\"2148.37\" cy=\"162.047\" r=\"14\" fill=\"#009af9\" fill-rule=\"evenodd\" fill-opacity=\"1\" stroke=\"#000000\" stroke-opacity=\"1\" stroke-width=\"3.2\"/>\n",
       "<circle clip-path=\"url(#clip652)\" cx=\"2158.59\" cy=\"162.047\" r=\"14\" fill=\"#009af9\" fill-rule=\"evenodd\" fill-opacity=\"1\" stroke=\"#000000\" stroke-opacity=\"1\" stroke-width=\"3.2\"/>\n",
       "<circle clip-path=\"url(#clip652)\" cx=\"2168.81\" cy=\"162.047\" r=\"14\" fill=\"#009af9\" fill-rule=\"evenodd\" fill-opacity=\"1\" stroke=\"#000000\" stroke-opacity=\"1\" stroke-width=\"3.2\"/>\n",
       "<circle clip-path=\"url(#clip652)\" cx=\"2179.03\" cy=\"162.047\" r=\"14\" fill=\"#009af9\" fill-rule=\"evenodd\" fill-opacity=\"1\" stroke=\"#000000\" stroke-opacity=\"1\" stroke-width=\"3.2\"/>\n",
       "<circle clip-path=\"url(#clip652)\" cx=\"2189.25\" cy=\"162.047\" r=\"14\" fill=\"#009af9\" fill-rule=\"evenodd\" fill-opacity=\"1\" stroke=\"#000000\" stroke-opacity=\"1\" stroke-width=\"3.2\"/>\n",
       "<circle clip-path=\"url(#clip652)\" cx=\"2199.47\" cy=\"162.047\" r=\"14\" fill=\"#009af9\" fill-rule=\"evenodd\" fill-opacity=\"1\" stroke=\"#000000\" stroke-opacity=\"1\" stroke-width=\"3.2\"/>\n",
       "<circle clip-path=\"url(#clip652)\" cx=\"2209.69\" cy=\"162.047\" r=\"14\" fill=\"#009af9\" fill-rule=\"evenodd\" fill-opacity=\"1\" stroke=\"#000000\" stroke-opacity=\"1\" stroke-width=\"3.2\"/>\n",
       "<circle clip-path=\"url(#clip652)\" cx=\"2219.91\" cy=\"162.047\" r=\"14\" fill=\"#009af9\" fill-rule=\"evenodd\" fill-opacity=\"1\" stroke=\"#000000\" stroke-opacity=\"1\" stroke-width=\"3.2\"/>\n",
       "<circle clip-path=\"url(#clip652)\" cx=\"2230.12\" cy=\"162.047\" r=\"14\" fill=\"#009af9\" fill-rule=\"evenodd\" fill-opacity=\"1\" stroke=\"#000000\" stroke-opacity=\"1\" stroke-width=\"3.2\"/>\n",
       "<circle clip-path=\"url(#clip652)\" cx=\"2240.34\" cy=\"162.047\" r=\"14\" fill=\"#009af9\" fill-rule=\"evenodd\" fill-opacity=\"1\" stroke=\"#000000\" stroke-opacity=\"1\" stroke-width=\"3.2\"/>\n",
       "<circle clip-path=\"url(#clip652)\" cx=\"2250.56\" cy=\"162.047\" r=\"14\" fill=\"#009af9\" fill-rule=\"evenodd\" fill-opacity=\"1\" stroke=\"#000000\" stroke-opacity=\"1\" stroke-width=\"3.2\"/>\n",
       "<circle clip-path=\"url(#clip652)\" cx=\"2260.78\" cy=\"162.047\" r=\"14\" fill=\"#009af9\" fill-rule=\"evenodd\" fill-opacity=\"1\" stroke=\"#000000\" stroke-opacity=\"1\" stroke-width=\"3.2\"/>\n",
       "<circle clip-path=\"url(#clip652)\" cx=\"2271\" cy=\"162.047\" r=\"14\" fill=\"#009af9\" fill-rule=\"evenodd\" fill-opacity=\"1\" stroke=\"#000000\" stroke-opacity=\"1\" stroke-width=\"3.2\"/>\n",
       "<circle clip-path=\"url(#clip652)\" cx=\"2281.22\" cy=\"162.047\" r=\"14\" fill=\"#009af9\" fill-rule=\"evenodd\" fill-opacity=\"1\" stroke=\"#000000\" stroke-opacity=\"1\" stroke-width=\"3.2\"/>\n",
       "<circle clip-path=\"url(#clip652)\" cx=\"2291.44\" cy=\"162.047\" r=\"14\" fill=\"#009af9\" fill-rule=\"evenodd\" fill-opacity=\"1\" stroke=\"#000000\" stroke-opacity=\"1\" stroke-width=\"3.2\"/>\n",
       "<path clip-path=\"url(#clip650)\" d=\"\n",
       "M1782.39 272.585 L2280.54 272.585 L2280.54 168.905 L1782.39 168.905  Z\n",
       "  \" fill=\"#ffffff\" fill-rule=\"evenodd\" fill-opacity=\"1\"/>\n",
       "<polyline clip-path=\"url(#clip650)\" style=\"stroke:#000000; stroke-linecap:butt; stroke-linejoin:round; stroke-width:4; stroke-opacity:1; fill:none\" points=\"\n",
       "  1782.39,272.585 2280.54,272.585 2280.54,168.905 1782.39,168.905 1782.39,272.585 \n",
       "  \"/>\n",
       "<circle clip-path=\"url(#clip650)\" cx=\"1878.68\" cy=\"220.745\" r=\"23\" fill=\"#009af9\" fill-rule=\"evenodd\" fill-opacity=\"1\" stroke=\"#000000\" stroke-opacity=\"1\" stroke-width=\"5.12\"/>\n",
       "<path clip-path=\"url(#clip650)\" d=\"M1974.97 202.006 L1984.78 202.006 L1984.78 205.316 L1979.23 205.316 L1979.23 240.964 L1984.78 240.964 L1984.78 244.275 L1974.97 244.275 L1974.97 202.006 Z\" fill=\"#000000\" fill-rule=\"evenodd\" fill-opacity=\"1\" /><path clip-path=\"url(#clip650)\" d=\"M1997.88 203.465 L1997.88 216.312 L1993.95 216.312 L1993.95 203.465 L1997.88 203.465 M2006.63 203.465 L2006.63 216.312 L2002.7 216.312 L2002.7 203.465 L2006.63 203.465 Z\" fill=\"#000000\" fill-rule=\"evenodd\" fill-opacity=\"1\" /><path clip-path=\"url(#clip650)\" d=\"M2015.85 203.465 L2037.7 203.465 L2037.7 207.4 L2020.52 207.4 L2020.52 217.631 L2036.98 217.631 L2036.98 221.566 L2020.52 221.566 L2020.52 234.089 L2038.11 234.089 L2038.11 238.025 L2015.85 238.025 L2015.85 203.465 Z\" fill=\"#000000\" fill-rule=\"evenodd\" fill-opacity=\"1\" /><path clip-path=\"url(#clip650)\" d=\"M2067.17 212.099 L2057.79 224.715 L2067.65 238.025 L2062.63 238.025 L2055.08 227.84 L2047.54 238.025 L2042.51 238.025 L2052.58 224.46 L2043.37 212.099 L2048.39 212.099 L2055.27 221.335 L2062.14 212.099 L2067.17 212.099 Z\" fill=\"#000000\" fill-rule=\"evenodd\" fill-opacity=\"1\" /><path clip-path=\"url(#clip650)\" d=\"M2077.79 234.136 L2077.79 247.886 L2073.51 247.886 L2073.51 212.099 L2077.79 212.099 L2077.79 216.034 Q2079.13 213.719 2081.17 212.608 Q2083.23 211.474 2086.08 211.474 Q2090.8 211.474 2093.74 215.224 Q2096.7 218.974 2096.7 225.085 Q2096.7 231.196 2093.74 234.946 Q2090.8 238.696 2086.08 238.696 Q2083.23 238.696 2081.17 237.585 Q2079.13 236.451 2077.79 234.136 M2092.28 225.085 Q2092.28 220.386 2090.34 217.724 Q2088.42 215.039 2085.04 215.039 Q2081.66 215.039 2079.71 217.724 Q2077.79 220.386 2077.79 225.085 Q2077.79 229.784 2079.71 232.469 Q2081.66 235.131 2085.04 235.131 Q2088.42 235.131 2090.34 232.469 Q2092.28 229.784 2092.28 225.085 Z\" fill=\"#000000\" fill-rule=\"evenodd\" fill-opacity=\"1\" /><path clip-path=\"url(#clip650)\" d=\"M2129.83 206.127 L2129.83 211.057 Q2127.47 208.858 2124.78 207.77 Q2122.12 206.682 2119.11 206.682 Q2113.18 206.682 2110.04 210.316 Q2106.89 213.928 2106.89 220.779 Q2106.89 227.608 2110.04 231.242 Q2113.18 234.853 2119.11 234.853 Q2122.12 234.853 2124.78 233.765 Q2127.47 232.677 2129.83 230.478 L2129.83 235.363 Q2127.37 237.029 2124.62 237.863 Q2121.89 238.696 2118.83 238.696 Q2110.98 238.696 2106.47 233.904 Q2101.96 229.09 2101.96 220.779 Q2101.96 212.446 2106.47 207.654 Q2110.98 202.84 2118.83 202.84 Q2121.93 202.84 2124.66 203.673 Q2127.42 204.483 2129.83 206.127 Z\" fill=\"#000000\" fill-rule=\"evenodd\" fill-opacity=\"1\" /><path clip-path=\"url(#clip650)\" d=\"M2141.72 207.307 L2141.72 234.182 L2147.37 234.182 Q2154.53 234.182 2157.84 230.941 Q2161.17 227.701 2161.17 220.71 Q2161.17 213.766 2157.84 210.548 Q2154.53 207.307 2147.37 207.307 L2141.72 207.307 M2137.05 203.465 L2146.66 203.465 Q2156.7 203.465 2161.4 207.654 Q2166.1 211.821 2166.1 220.71 Q2166.1 229.645 2161.38 233.835 Q2156.66 238.025 2146.66 238.025 L2137.05 238.025 L2137.05 203.465 Z\" fill=\"#000000\" fill-rule=\"evenodd\" fill-opacity=\"1\" /><path clip-path=\"url(#clip650)\" d=\"M2173.55 203.465 L2193.41 203.465 L2193.41 207.4 L2178.23 207.4 L2178.23 217.585 L2191.93 217.585 L2191.93 221.52 L2178.23 221.52 L2178.23 238.025 L2173.55 238.025 L2173.55 203.465 Z\" fill=\"#000000\" fill-rule=\"evenodd\" fill-opacity=\"1\" /><path clip-path=\"url(#clip650)\" d=\"M2204.66 203.465 L2204.66 216.312 L2200.73 216.312 L2200.73 203.465 L2204.66 203.465 M2213.41 203.465 L2213.41 216.312 L2209.48 216.312 L2209.48 203.465 L2213.41 203.465 Z\" fill=\"#000000\" fill-rule=\"evenodd\" fill-opacity=\"1\" /><path clip-path=\"url(#clip650)\" d=\"M2232.4 202.006 L2232.4 244.275 L2222.58 244.275 L2222.58 240.964 L2228.11 240.964 L2228.11 205.316 L2222.58 205.316 L2222.58 202.006 L2232.4 202.006 Z\" fill=\"#000000\" fill-rule=\"evenodd\" fill-opacity=\"1\" /></svg>\n"
      ]
     },
     "execution_count": 154,
     "metadata": {},
     "output_type": "execute_result"
    }
   ],
   "source": [
    "pp = [0:0.005:1;]\n",
    "E_CDFv= zeros(length(pp))\n",
    "for i= 1:length(pp)\n",
    "    E_CDFv[i] = Exp_CDF(4,pp[i])\n",
    "    #print(i)\n",
    "    #print(E_CDFv)\n",
    "end\n",
    "#plot(E_CDFv) \n",
    "plot(pp, E_CDFv, seriestype = :scatter, title = \"Exponential CDF\",labels=[\"ExpCDF\"])"
   ]
  },
  {
   "cell_type": "markdown",
   "metadata": {},
   "source": [
    "## Exploring the N=4 D=500 circuit"
   ]
  },
  {
   "cell_type": "code",
   "execution_count": 155,
   "metadata": {
    "ExecuteTime": {
     "end_time": "2021-07-11T10:40:29.008000+01:00",
     "start_time": "2021-07-11T09:40:27.670Z"
    }
   },
   "outputs": [],
   "source": [
    "# N= 4 D = 500\n",
    "using ITensors\n",
    "\n",
    "N4 = 4\n",
    "depth500 = 500\n",
    "ψ4_500 = run(N4, depth500)\n",
    "\n",
    "sites500 = siteinds(\"S=1/2\",N4)\n",
    "#p{Float64}(nothing, 16)\n",
    "#p{Float64}(undef,16)\n",
    "p4_500 = zeros(16)\n",
    "for i in 1:4:64\n",
    "    #println(i)\n",
    "    #print(TT[i:i+3])\n",
    "    states500 = TT4[i:i+3]\n",
    "    x500 = productMPS(sites500, states500)\n",
    "    ii = i÷4 + 1\n",
    "    #println(ii)\n",
    "    #println(xxx)\n",
    "    # Here is where the width and depth matters\n",
    "    A4_500 = dot(x500,ψ4_500) \n",
    "    #println(\"Amplitude : \",A)\n",
    "    p4_500[ii] = real(A4_500)^2 + imag(A4_500)^2\n",
    "    #println(\"Probability : \",p)\n",
    "end"
   ]
  },
  {
   "cell_type": "code",
   "execution_count": 156,
   "metadata": {
    "ExecuteTime": {
     "end_time": "2021-07-11T10:40:35.407000+01:00",
     "start_time": "2021-07-11T09:40:35.394Z"
    }
   },
   "outputs": [
    {
     "name": "stdout",
     "output_type": "stream",
     "text": [
      "probability for each base state <x| = [0.006827802282168327, 0.054211949291038744, 0.0020937120377898344, 0.09356513390646932, 0.1757165458965228, 0.03975821942597887, 0.01792592966869727, 0.07644082828525639, 0.030063635349383173, 0.2162870858688266, 0.02398920925699686, 0.08529895579295357, 0.0007897724655309973, 0.03110587320294724, 0.026805007293584177, 0.1191203399758653]\n"
     ]
    }
   ],
   "source": [
    "println(\"probability for each base state <x| = \",p4_500)"
   ]
  },
  {
   "cell_type": "code",
   "execution_count": null,
   "metadata": {},
   "outputs": [],
   "source": []
  },
  {
   "cell_type": "code",
   "execution_count": null,
   "metadata": {},
   "outputs": [],
   "source": []
  },
  {
   "cell_type": "code",
   "execution_count": null,
   "metadata": {},
   "outputs": [],
   "source": []
  },
  {
   "cell_type": "code",
   "execution_count": null,
   "metadata": {},
   "outputs": [],
   "source": [
    "using Plots;\n",
    "plot()\n",
    "scatter([0.5],[0.5],markersize=10,size=(500,500),xlims=(0,17),ylims=(0,1))\n",
    "\n",
    "\n",
    "x1 = Array(1.0:1:16.0)\n",
    "y1 = ones(16)\n",
    "println(x1)\n",
    "println(y1)\n",
    "pT = transpose(p*100)\n",
    "for s in pT\n",
    "   scatter(x1,y1,markersize=pT, label=\"$pT\")\n",
    "end\n",
    "plot!(size=(500,500))"
   ]
  },
  {
   "cell_type": "code",
   "execution_count": 19,
   "metadata": {
    "ExecuteTime": {
     "end_time": "2021-07-10T14:49:42.325000+01:00",
     "start_time": "2021-07-10T13:49:41.105Z"
    }
   },
   "outputs": [
    {
     "data": {
      "text/plain": [
       "1-element Vector{StepRangeLen{Float64, Base.TwicePrecision{Float64}, Base.TwicePrecision{Float64}}}:\n",
       " 0.5:1.0:7.5"
      ]
     },
     "execution_count": 19,
     "metadata": {},
     "output_type": "execute_result"
    }
   ],
   "source": [
    "[0.5:1:0.5*16]"
   ]
  },
  {
   "cell_type": "code",
   "execution_count": 16,
   "metadata": {
    "ExecuteTime": {
     "end_time": "2021-07-10T14:43:13.810000+01:00",
     "start_time": "2021-07-10T13:42:50.552Z"
    }
   },
   "outputs": [
    {
     "data": {
      "image/svg+xml": [
       "<?xml version=\"1.0\" encoding=\"utf-8\"?>\n",
       "<svg xmlns=\"http://www.w3.org/2000/svg\" xmlns:xlink=\"http://www.w3.org/1999/xlink\" width=\"500\" height=\"500\" viewBox=\"0 0 2000 2000\">\n",
       "<defs>\n",
       "  <clipPath id=\"clip170\">\n",
       "    <rect x=\"0\" y=\"0\" width=\"2000\" height=\"2000\"/>\n",
       "  </clipPath>\n",
       "</defs>\n",
       "<path clip-path=\"url(#clip170)\" d=\"\n",
       "M0 2000 L2000 2000 L2000 0 L0 0  Z\n",
       "  \" fill=\"#ffffff\" fill-rule=\"evenodd\" fill-opacity=\"1\"/>\n",
       "<defs>\n",
       "  <clipPath id=\"clip171\">\n",
       "    <rect x=\"400\" y=\"200\" width=\"1401\" height=\"1401\"/>\n",
       "  </clipPath>\n",
       "</defs>\n",
       "<path clip-path=\"url(#clip170)\" d=\"\n",
       "M152.598 1865.17 L1952.76 1865.17 L1952.76 47.2441 L152.598 47.2441  Z\n",
       "  \" fill=\"#ffffff\" fill-rule=\"evenodd\" fill-opacity=\"1\"/>\n",
       "<defs>\n",
       "  <clipPath id=\"clip172\">\n",
       "    <rect x=\"152\" y=\"47\" width=\"1801\" height=\"1819\"/>\n",
       "  </clipPath>\n",
       "</defs>\n",
       "<polyline clip-path=\"url(#clip172)\" style=\"stroke:#000000; stroke-linecap:butt; stroke-linejoin:round; stroke-width:2; stroke-opacity:0.1; fill:none\" points=\"\n",
       "  180.061,1865.17 180.061,47.2441 \n",
       "  \"/>\n",
       "<polyline clip-path=\"url(#clip172)\" style=\"stroke:#000000; stroke-linecap:butt; stroke-linejoin:round; stroke-width:2; stroke-opacity:0.1; fill:none\" points=\"\n",
       "  549.731,1865.17 549.731,47.2441 \n",
       "  \"/>\n",
       "<polyline clip-path=\"url(#clip172)\" style=\"stroke:#000000; stroke-linecap:butt; stroke-linejoin:round; stroke-width:2; stroke-opacity:0.1; fill:none\" points=\"\n",
       "  919.4,1865.17 919.4,47.2441 \n",
       "  \"/>\n",
       "<polyline clip-path=\"url(#clip172)\" style=\"stroke:#000000; stroke-linecap:butt; stroke-linejoin:round; stroke-width:2; stroke-opacity:0.1; fill:none\" points=\"\n",
       "  1289.07,1865.17 1289.07,47.2441 \n",
       "  \"/>\n",
       "<polyline clip-path=\"url(#clip172)\" style=\"stroke:#000000; stroke-linecap:butt; stroke-linejoin:round; stroke-width:2; stroke-opacity:0.1; fill:none\" points=\"\n",
       "  1658.74,1865.17 1658.74,47.2441 \n",
       "  \"/>\n",
       "<polyline clip-path=\"url(#clip170)\" style=\"stroke:#000000; stroke-linecap:butt; stroke-linejoin:round; stroke-width:4; stroke-opacity:1; fill:none\" points=\"\n",
       "  152.598,1865.17 1952.76,1865.17 \n",
       "  \"/>\n",
       "<polyline clip-path=\"url(#clip170)\" style=\"stroke:#000000; stroke-linecap:butt; stroke-linejoin:round; stroke-width:4; stroke-opacity:1; fill:none\" points=\"\n",
       "  180.061,1865.17 180.061,1843.35 \n",
       "  \"/>\n",
       "<polyline clip-path=\"url(#clip170)\" style=\"stroke:#000000; stroke-linecap:butt; stroke-linejoin:round; stroke-width:4; stroke-opacity:1; fill:none\" points=\"\n",
       "  549.731,1865.17 549.731,1843.35 \n",
       "  \"/>\n",
       "<polyline clip-path=\"url(#clip170)\" style=\"stroke:#000000; stroke-linecap:butt; stroke-linejoin:round; stroke-width:4; stroke-opacity:1; fill:none\" points=\"\n",
       "  919.4,1865.17 919.4,1843.35 \n",
       "  \"/>\n",
       "<polyline clip-path=\"url(#clip170)\" style=\"stroke:#000000; stroke-linecap:butt; stroke-linejoin:round; stroke-width:4; stroke-opacity:1; fill:none\" points=\"\n",
       "  1289.07,1865.17 1289.07,1843.35 \n",
       "  \"/>\n",
       "<polyline clip-path=\"url(#clip170)\" style=\"stroke:#000000; stroke-linecap:butt; stroke-linejoin:round; stroke-width:4; stroke-opacity:1; fill:none\" points=\"\n",
       "  1658.74,1865.17 1658.74,1843.35 \n",
       "  \"/>\n",
       "<path clip-path=\"url(#clip170)\" d=\"M157.445 1891.16 Q153.834 1891.16 152.005 1894.72 Q150.2 1898.27 150.2 1905.39 Q150.2 1912.5 152.005 1916.07 Q153.834 1919.61 157.445 1919.61 Q161.079 1919.61 162.885 1916.07 Q164.714 1912.5 164.714 1905.39 Q164.714 1898.27 162.885 1894.72 Q161.079 1891.16 157.445 1891.16 M157.445 1887.45 Q163.255 1887.45 166.311 1892.06 Q169.39 1896.64 169.39 1905.39 Q169.39 1914.12 166.311 1918.73 Q163.255 1923.31 157.445 1923.31 Q151.635 1923.31 148.556 1918.73 Q145.501 1914.12 145.501 1905.39 Q145.501 1896.64 148.556 1892.06 Q151.635 1887.45 157.445 1887.45 Z\" fill=\"#000000\" fill-rule=\"evenodd\" fill-opacity=\"1\" /><path clip-path=\"url(#clip170)\" d=\"M177.607 1916.76 L182.491 1916.76 L182.491 1922.64 L177.607 1922.64 L177.607 1916.76 Z\" fill=\"#000000\" fill-rule=\"evenodd\" fill-opacity=\"1\" /><path clip-path=\"url(#clip170)\" d=\"M202.676 1891.16 Q199.065 1891.16 197.237 1894.72 Q195.431 1898.27 195.431 1905.39 Q195.431 1912.5 197.237 1916.07 Q199.065 1919.61 202.676 1919.61 Q206.311 1919.61 208.116 1916.07 Q209.945 1912.5 209.945 1905.39 Q209.945 1898.27 208.116 1894.72 Q206.311 1891.16 202.676 1891.16 M202.676 1887.45 Q208.487 1887.45 211.542 1892.06 Q214.621 1896.64 214.621 1905.39 Q214.621 1914.12 211.542 1918.73 Q208.487 1923.31 202.676 1923.31 Q196.866 1923.31 193.788 1918.73 Q190.732 1914.12 190.732 1905.39 Q190.732 1896.64 193.788 1892.06 Q196.866 1887.45 202.676 1887.45 Z\" fill=\"#000000\" fill-rule=\"evenodd\" fill-opacity=\"1\" /><path clip-path=\"url(#clip170)\" d=\"M527.914 1891.16 Q524.302 1891.16 522.474 1894.72 Q520.668 1898.27 520.668 1905.39 Q520.668 1912.5 522.474 1916.07 Q524.302 1919.61 527.914 1919.61 Q531.548 1919.61 533.353 1916.07 Q535.182 1912.5 535.182 1905.39 Q535.182 1898.27 533.353 1894.72 Q531.548 1891.16 527.914 1891.16 M527.914 1887.45 Q533.724 1887.45 536.779 1892.06 Q539.858 1896.64 539.858 1905.39 Q539.858 1914.12 536.779 1918.73 Q533.724 1923.31 527.914 1923.31 Q522.103 1923.31 519.025 1918.73 Q515.969 1914.12 515.969 1905.39 Q515.969 1896.64 519.025 1892.06 Q522.103 1887.45 527.914 1887.45 Z\" fill=\"#000000\" fill-rule=\"evenodd\" fill-opacity=\"1\" /><path clip-path=\"url(#clip170)\" d=\"M548.075 1916.76 L552.96 1916.76 L552.96 1922.64 L548.075 1922.64 L548.075 1916.76 Z\" fill=\"#000000\" fill-rule=\"evenodd\" fill-opacity=\"1\" /><path clip-path=\"url(#clip170)\" d=\"M567.173 1918.7 L583.492 1918.7 L583.492 1922.64 L561.548 1922.64 L561.548 1918.7 Q564.21 1915.95 568.793 1911.32 Q573.399 1906.67 574.58 1905.33 Q576.825 1902.8 577.705 1901.07 Q578.608 1899.31 578.608 1897.62 Q578.608 1894.86 576.663 1893.13 Q574.742 1891.39 571.64 1891.39 Q569.441 1891.39 566.987 1892.15 Q564.557 1892.92 561.779 1894.47 L561.779 1889.75 Q564.603 1888.61 567.057 1888.03 Q569.511 1887.45 571.548 1887.45 Q576.918 1887.45 580.112 1890.14 Q583.307 1892.83 583.307 1897.32 Q583.307 1899.45 582.497 1901.37 Q581.71 1903.26 579.603 1905.86 Q579.024 1906.53 575.923 1909.75 Q572.821 1912.94 567.173 1918.7 Z\" fill=\"#000000\" fill-rule=\"evenodd\" fill-opacity=\"1\" /><path clip-path=\"url(#clip170)\" d=\"M896.542 1891.16 Q892.931 1891.16 891.102 1894.72 Q889.296 1898.27 889.296 1905.39 Q889.296 1912.5 891.102 1916.07 Q892.931 1919.61 896.542 1919.61 Q900.176 1919.61 901.982 1916.07 Q903.81 1912.5 903.81 1905.39 Q903.81 1898.27 901.982 1894.72 Q900.176 1891.16 896.542 1891.16 M896.542 1887.45 Q902.352 1887.45 905.407 1892.06 Q908.486 1896.64 908.486 1905.39 Q908.486 1914.12 905.407 1918.73 Q902.352 1923.31 896.542 1923.31 Q890.732 1923.31 887.653 1918.73 Q884.597 1914.12 884.597 1905.39 Q884.597 1896.64 887.653 1892.06 Q890.732 1887.45 896.542 1887.45 Z\" fill=\"#000000\" fill-rule=\"evenodd\" fill-opacity=\"1\" /><path clip-path=\"url(#clip170)\" d=\"M916.704 1916.76 L921.588 1916.76 L921.588 1922.64 L916.704 1922.64 L916.704 1916.76 Z\" fill=\"#000000\" fill-rule=\"evenodd\" fill-opacity=\"1\" /><path clip-path=\"url(#clip170)\" d=\"M944.62 1892.15 L932.815 1910.6 L944.62 1910.6 L944.62 1892.15 M943.393 1888.08 L949.273 1888.08 L949.273 1910.6 L954.203 1910.6 L954.203 1914.49 L949.273 1914.49 L949.273 1922.64 L944.62 1922.64 L944.62 1914.49 L929.018 1914.49 L929.018 1909.98 L943.393 1888.08 Z\" fill=\"#000000\" fill-rule=\"evenodd\" fill-opacity=\"1\" /><path clip-path=\"url(#clip170)\" d=\"M1266.37 1891.16 Q1262.76 1891.16 1260.93 1894.72 Q1259.13 1898.27 1259.13 1905.39 Q1259.13 1912.5 1260.93 1916.07 Q1262.76 1919.61 1266.37 1919.61 Q1270.01 1919.61 1271.81 1916.07 Q1273.64 1912.5 1273.64 1905.39 Q1273.64 1898.27 1271.81 1894.72 Q1270.01 1891.16 1266.37 1891.16 M1266.37 1887.45 Q1272.18 1887.45 1275.24 1892.06 Q1278.32 1896.64 1278.32 1905.39 Q1278.32 1914.12 1275.24 1918.73 Q1272.18 1923.31 1266.37 1923.31 Q1260.56 1923.31 1257.48 1918.73 Q1254.43 1914.12 1254.43 1905.39 Q1254.43 1896.64 1257.48 1892.06 Q1260.56 1887.45 1266.37 1887.45 Z\" fill=\"#000000\" fill-rule=\"evenodd\" fill-opacity=\"1\" /><path clip-path=\"url(#clip170)\" d=\"M1286.54 1916.76 L1291.42 1916.76 L1291.42 1922.64 L1286.54 1922.64 L1286.54 1916.76 Z\" fill=\"#000000\" fill-rule=\"evenodd\" fill-opacity=\"1\" /><path clip-path=\"url(#clip170)\" d=\"M1312.18 1903.5 Q1309.04 1903.5 1307.18 1905.65 Q1305.35 1907.8 1305.35 1911.55 Q1305.35 1915.28 1307.18 1917.45 Q1309.04 1919.61 1312.18 1919.61 Q1315.33 1919.61 1317.16 1917.45 Q1319.01 1915.28 1319.01 1911.55 Q1319.01 1907.8 1317.16 1905.65 Q1315.33 1903.5 1312.18 1903.5 M1321.47 1888.84 L1321.47 1893.1 Q1319.71 1892.27 1317.9 1891.83 Q1316.12 1891.39 1314.36 1891.39 Q1309.73 1891.39 1307.28 1894.52 Q1304.85 1897.64 1304.5 1903.96 Q1305.86 1901.95 1307.92 1900.88 Q1309.98 1899.79 1312.46 1899.79 Q1317.67 1899.79 1320.68 1902.96 Q1323.71 1906.11 1323.71 1911.55 Q1323.71 1916.88 1320.56 1920.09 Q1317.41 1923.31 1312.18 1923.31 Q1306.19 1923.31 1303.02 1918.73 Q1299.85 1914.12 1299.85 1905.39 Q1299.85 1897.2 1303.73 1892.34 Q1307.62 1887.45 1314.17 1887.45 Q1315.93 1887.45 1317.72 1887.8 Q1319.52 1888.15 1321.47 1888.84 Z\" fill=\"#000000\" fill-rule=\"evenodd\" fill-opacity=\"1\" /><path clip-path=\"url(#clip170)\" d=\"M1636.17 1891.16 Q1632.56 1891.16 1630.73 1894.72 Q1628.93 1898.27 1628.93 1905.39 Q1628.93 1912.5 1630.73 1916.07 Q1632.56 1919.61 1636.17 1919.61 Q1639.8 1919.61 1641.61 1916.07 Q1643.44 1912.5 1643.44 1905.39 Q1643.44 1898.27 1641.61 1894.72 Q1639.8 1891.16 1636.17 1891.16 M1636.17 1887.45 Q1641.98 1887.45 1645.04 1892.06 Q1648.12 1896.64 1648.12 1905.39 Q1648.12 1914.12 1645.04 1918.73 Q1641.98 1923.31 1636.17 1923.31 Q1630.36 1923.31 1627.28 1918.73 Q1624.23 1914.12 1624.23 1905.39 Q1624.23 1896.64 1627.28 1892.06 Q1630.36 1887.45 1636.17 1887.45 Z\" fill=\"#000000\" fill-rule=\"evenodd\" fill-opacity=\"1\" /><path clip-path=\"url(#clip170)\" d=\"M1656.33 1916.76 L1661.22 1916.76 L1661.22 1922.64 L1656.33 1922.64 L1656.33 1916.76 Z\" fill=\"#000000\" fill-rule=\"evenodd\" fill-opacity=\"1\" /><path clip-path=\"url(#clip170)\" d=\"M1681.4 1906.23 Q1678.07 1906.23 1676.15 1908.01 Q1674.25 1909.79 1674.25 1912.92 Q1674.25 1916.04 1676.15 1917.83 Q1678.07 1919.61 1681.4 1919.61 Q1684.74 1919.61 1686.66 1917.83 Q1688.58 1916.02 1688.58 1912.92 Q1688.58 1909.79 1686.66 1908.01 Q1684.76 1906.23 1681.4 1906.23 M1676.73 1904.24 Q1673.72 1903.5 1672.03 1901.44 Q1670.36 1899.38 1670.36 1896.41 Q1670.36 1892.27 1673.3 1889.86 Q1676.26 1887.45 1681.4 1887.45 Q1686.56 1887.45 1689.5 1889.86 Q1692.44 1892.27 1692.44 1896.41 Q1692.44 1899.38 1690.75 1901.44 Q1689.09 1903.5 1686.1 1904.24 Q1689.48 1905.02 1691.36 1907.32 Q1693.25 1909.61 1693.25 1912.92 Q1693.25 1917.94 1690.18 1920.63 Q1687.12 1923.31 1681.4 1923.31 Q1675.68 1923.31 1672.61 1920.63 Q1669.55 1917.94 1669.55 1912.92 Q1669.55 1909.61 1671.45 1907.32 Q1673.35 1905.02 1676.73 1904.24 M1675.01 1896.85 Q1675.01 1899.54 1676.68 1901.04 Q1678.37 1902.55 1681.4 1902.55 Q1684.41 1902.55 1686.1 1901.04 Q1687.81 1899.54 1687.81 1896.85 Q1687.81 1894.17 1686.1 1892.66 Q1684.41 1891.16 1681.4 1891.16 Q1678.37 1891.16 1676.68 1892.66 Q1675.01 1894.17 1675.01 1896.85 Z\" fill=\"#000000\" fill-rule=\"evenodd\" fill-opacity=\"1\" /><polyline clip-path=\"url(#clip172)\" style=\"stroke:#000000; stroke-linecap:butt; stroke-linejoin:round; stroke-width:2; stroke-opacity:0.1; fill:none\" points=\"\n",
       "  152.598,1522.91 1952.76,1522.91 \n",
       "  \"/>\n",
       "<polyline clip-path=\"url(#clip172)\" style=\"stroke:#000000; stroke-linecap:butt; stroke-linejoin:round; stroke-width:2; stroke-opacity:0.1; fill:none\" points=\"\n",
       "  152.598,1153.49 1952.76,1153.49 \n",
       "  \"/>\n",
       "<polyline clip-path=\"url(#clip172)\" style=\"stroke:#000000; stroke-linecap:butt; stroke-linejoin:round; stroke-width:2; stroke-opacity:0.1; fill:none\" points=\"\n",
       "  152.598,784.068 1952.76,784.068 \n",
       "  \"/>\n",
       "<polyline clip-path=\"url(#clip172)\" style=\"stroke:#000000; stroke-linecap:butt; stroke-linejoin:round; stroke-width:2; stroke-opacity:0.1; fill:none\" points=\"\n",
       "  152.598,414.647 1952.76,414.647 \n",
       "  \"/>\n",
       "<polyline clip-path=\"url(#clip170)\" style=\"stroke:#000000; stroke-linecap:butt; stroke-linejoin:round; stroke-width:4; stroke-opacity:1; fill:none\" points=\"\n",
       "  152.598,1865.17 152.598,47.2441 \n",
       "  \"/>\n",
       "<polyline clip-path=\"url(#clip170)\" style=\"stroke:#000000; stroke-linecap:butt; stroke-linejoin:round; stroke-width:4; stroke-opacity:1; fill:none\" points=\"\n",
       "  152.598,1522.91 174.2,1522.91 \n",
       "  \"/>\n",
       "<polyline clip-path=\"url(#clip170)\" style=\"stroke:#000000; stroke-linecap:butt; stroke-linejoin:round; stroke-width:4; stroke-opacity:1; fill:none\" points=\"\n",
       "  152.598,1153.49 174.2,1153.49 \n",
       "  \"/>\n",
       "<polyline clip-path=\"url(#clip170)\" style=\"stroke:#000000; stroke-linecap:butt; stroke-linejoin:round; stroke-width:4; stroke-opacity:1; fill:none\" points=\"\n",
       "  152.598,784.068 174.2,784.068 \n",
       "  \"/>\n",
       "<polyline clip-path=\"url(#clip170)\" style=\"stroke:#000000; stroke-linecap:butt; stroke-linejoin:round; stroke-width:4; stroke-opacity:1; fill:none\" points=\"\n",
       "  152.598,414.647 174.2,414.647 \n",
       "  \"/>\n",
       "<path clip-path=\"url(#clip170)\" d=\"M67.0198 1508.71 Q63.4087 1508.71 61.58 1512.27 Q59.7745 1515.81 59.7745 1522.94 Q59.7745 1530.05 61.58 1533.61 Q63.4087 1537.16 67.0198 1537.16 Q70.6541 1537.16 72.4596 1533.61 Q74.2883 1530.05 74.2883 1522.94 Q74.2883 1515.81 72.4596 1512.27 Q70.6541 1508.71 67.0198 1508.71 M67.0198 1505 Q72.83 1505 75.8855 1509.61 Q78.9642 1514.19 78.9642 1522.94 Q78.9642 1531.67 75.8855 1536.28 Q72.83 1540.86 67.0198 1540.86 Q61.2097 1540.86 58.131 1536.28 Q55.0754 1531.67 55.0754 1522.94 Q55.0754 1514.19 58.131 1509.61 Q61.2097 1505 67.0198 1505 Z\" fill=\"#000000\" fill-rule=\"evenodd\" fill-opacity=\"1\" /><path clip-path=\"url(#clip170)\" d=\"M87.1818 1534.31 L92.066 1534.31 L92.066 1540.19 L87.1818 1540.19 L87.1818 1534.31 Z\" fill=\"#000000\" fill-rule=\"evenodd\" fill-opacity=\"1\" /><path clip-path=\"url(#clip170)\" d=\"M106.279 1536.25 L122.598 1536.25 L122.598 1540.19 L100.654 1540.19 L100.654 1536.25 Q103.316 1533.5 107.899 1528.87 Q112.506 1524.22 113.686 1522.87 Q115.932 1520.35 116.811 1518.61 Q117.714 1516.86 117.714 1515.17 Q117.714 1512.41 115.77 1510.67 Q113.848 1508.94 110.746 1508.94 Q108.547 1508.94 106.094 1509.7 Q103.663 1510.47 100.885 1512.02 L100.885 1507.29 Q103.709 1506.16 106.163 1505.58 Q108.617 1505 110.654 1505 Q116.024 1505 119.219 1507.69 Q122.413 1510.37 122.413 1514.86 Q122.413 1516.99 121.603 1518.92 Q120.816 1520.81 118.709 1523.41 Q118.131 1524.08 115.029 1527.29 Q111.927 1530.49 106.279 1536.25 Z\" fill=\"#000000\" fill-rule=\"evenodd\" fill-opacity=\"1\" /><path clip-path=\"url(#clip170)\" d=\"M64.9365 1139.29 Q61.3254 1139.29 59.4967 1142.85 Q57.6912 1146.39 57.6912 1153.52 Q57.6912 1160.63 59.4967 1164.19 Q61.3254 1167.74 64.9365 1167.74 Q68.5707 1167.74 70.3763 1164.19 Q72.205 1160.63 72.205 1153.52 Q72.205 1146.39 70.3763 1142.85 Q68.5707 1139.29 64.9365 1139.29 M64.9365 1135.58 Q70.7467 1135.58 73.8022 1140.19 Q76.8809 1144.77 76.8809 1153.52 Q76.8809 1162.25 73.8022 1166.86 Q70.7467 1171.44 64.9365 1171.44 Q59.1264 1171.44 56.0477 1166.86 Q52.9921 1162.25 52.9921 1153.52 Q52.9921 1144.77 56.0477 1140.19 Q59.1264 1135.58 64.9365 1135.58 Z\" fill=\"#000000\" fill-rule=\"evenodd\" fill-opacity=\"1\" /><path clip-path=\"url(#clip170)\" d=\"M85.0984 1164.89 L89.9827 1164.89 L89.9827 1170.77 L85.0984 1170.77 L85.0984 1164.89 Z\" fill=\"#000000\" fill-rule=\"evenodd\" fill-opacity=\"1\" /><path clip-path=\"url(#clip170)\" d=\"M113.015 1140.28 L101.209 1158.73 L113.015 1158.73 L113.015 1140.28 M111.788 1136.21 L117.668 1136.21 L117.668 1158.73 L122.598 1158.73 L122.598 1162.62 L117.668 1162.62 L117.668 1170.77 L113.015 1170.77 L113.015 1162.62 L97.4132 1162.62 L97.4132 1158.11 L111.788 1136.21 Z\" fill=\"#000000\" fill-rule=\"evenodd\" fill-opacity=\"1\" /><path clip-path=\"url(#clip170)\" d=\"M65.2606 769.866 Q61.6495 769.866 59.8208 773.431 Q58.0152 776.973 58.0152 784.102 Q58.0152 791.209 59.8208 794.774 Q61.6495 798.315 65.2606 798.315 Q68.8948 798.315 70.7004 794.774 Q72.5291 791.209 72.5291 784.102 Q72.5291 776.973 70.7004 773.431 Q68.8948 769.866 65.2606 769.866 M65.2606 766.163 Q71.0707 766.163 74.1263 770.769 Q77.205 775.352 77.205 784.102 Q77.205 792.829 74.1263 797.436 Q71.0707 802.019 65.2606 802.019 Q59.4504 802.019 56.3717 797.436 Q53.3162 792.829 53.3162 784.102 Q53.3162 775.352 56.3717 770.769 Q59.4504 766.163 65.2606 766.163 Z\" fill=\"#000000\" fill-rule=\"evenodd\" fill-opacity=\"1\" /><path clip-path=\"url(#clip170)\" d=\"M85.4225 795.468 L90.3067 795.468 L90.3067 801.348 L85.4225 801.348 L85.4225 795.468 Z\" fill=\"#000000\" fill-rule=\"evenodd\" fill-opacity=\"1\" /><path clip-path=\"url(#clip170)\" d=\"M111.071 782.204 Q107.922 782.204 106.071 784.357 Q104.242 786.51 104.242 790.26 Q104.242 793.987 106.071 796.162 Q107.922 798.315 111.071 798.315 Q114.219 798.315 116.047 796.162 Q117.899 793.987 117.899 790.26 Q117.899 786.51 116.047 784.357 Q114.219 782.204 111.071 782.204 M120.353 767.552 L120.353 771.811 Q118.594 770.977 116.788 770.538 Q115.006 770.098 113.246 770.098 Q108.617 770.098 106.163 773.223 Q103.733 776.348 103.385 782.667 Q104.751 780.653 106.811 779.589 Q108.871 778.501 111.348 778.501 Q116.557 778.501 119.566 781.672 Q122.598 784.82 122.598 790.26 Q122.598 795.584 119.45 798.801 Q116.302 802.019 111.071 802.019 Q105.075 802.019 101.904 797.436 Q98.7326 792.829 98.7326 784.102 Q98.7326 775.908 102.621 771.047 Q106.51 766.163 113.061 766.163 Q114.82 766.163 116.603 766.51 Q118.408 766.857 120.353 767.552 Z\" fill=\"#000000\" fill-rule=\"evenodd\" fill-opacity=\"1\" /><path clip-path=\"url(#clip170)\" d=\"M65.5152 400.446 Q61.9041 400.446 60.0754 404.011 Q58.2699 407.552 58.2699 414.682 Q58.2699 421.789 60.0754 425.353 Q61.9041 428.895 65.5152 428.895 Q69.1494 428.895 70.955 425.353 Q72.7837 421.789 72.7837 414.682 Q72.7837 407.552 70.955 404.011 Q69.1494 400.446 65.5152 400.446 M65.5152 396.742 Q71.3254 396.742 74.3809 401.349 Q77.4596 405.932 77.4596 414.682 Q77.4596 423.409 74.3809 428.015 Q71.3254 432.599 65.5152 432.599 Q59.7051 432.599 56.6264 428.015 Q53.5708 423.409 53.5708 414.682 Q53.5708 405.932 56.6264 401.349 Q59.7051 396.742 65.5152 396.742 Z\" fill=\"#000000\" fill-rule=\"evenodd\" fill-opacity=\"1\" /><path clip-path=\"url(#clip170)\" d=\"M85.6771 426.048 L90.5614 426.048 L90.5614 431.927 L85.6771 431.927 L85.6771 426.048 Z\" fill=\"#000000\" fill-rule=\"evenodd\" fill-opacity=\"1\" /><path clip-path=\"url(#clip170)\" d=\"M110.746 415.515 Q107.413 415.515 105.492 417.298 Q103.594 419.08 103.594 422.205 Q103.594 425.33 105.492 427.113 Q107.413 428.895 110.746 428.895 Q114.08 428.895 116.001 427.113 Q117.922 425.307 117.922 422.205 Q117.922 419.08 116.001 417.298 Q114.103 415.515 110.746 415.515 M106.071 413.525 Q103.061 412.784 101.371 410.724 Q99.7048 408.664 99.7048 405.701 Q99.7048 401.557 102.645 399.15 Q105.608 396.742 110.746 396.742 Q115.908 396.742 118.848 399.15 Q121.788 401.557 121.788 405.701 Q121.788 408.664 120.098 410.724 Q118.432 412.784 115.445 413.525 Q118.825 414.312 120.7 416.603 Q122.598 418.895 122.598 422.205 Q122.598 427.228 119.52 429.913 Q116.464 432.599 110.746 432.599 Q105.029 432.599 101.95 429.913 Q98.8947 427.228 98.8947 422.205 Q98.8947 418.895 100.793 416.603 Q102.691 414.312 106.071 413.525 M104.358 406.14 Q104.358 408.826 106.024 410.33 Q107.714 411.835 110.746 411.835 Q113.756 411.835 115.445 410.33 Q117.158 408.826 117.158 406.14 Q117.158 403.455 115.445 401.951 Q113.756 400.446 110.746 400.446 Q107.714 400.446 106.024 401.951 Q104.358 403.455 104.358 406.14 Z\" fill=\"#000000\" fill-rule=\"evenodd\" fill-opacity=\"1\" /><circle clip-path=\"url(#clip172)\" cx=\"1022.6\" cy=\"1133.64\" r=\"36\" fill=\"#009af9\" fill-rule=\"evenodd\" fill-opacity=\"1\" stroke=\"#000000\" stroke-opacity=\"1\" stroke-width=\"4\"/>\n",
       "<circle clip-path=\"url(#clip172)\" cx=\"1901.81\" cy=\"1248.25\" r=\"36\" fill=\"#009af9\" fill-rule=\"evenodd\" fill-opacity=\"1\" stroke=\"#000000\" stroke-opacity=\"1\" stroke-width=\"4\"/>\n",
       "<circle clip-path=\"url(#clip172)\" cx=\"1033.41\" cy=\"962.174\" r=\"36\" fill=\"#009af9\" fill-rule=\"evenodd\" fill-opacity=\"1\" stroke=\"#000000\" stroke-opacity=\"1\" stroke-width=\"4\"/>\n",
       "<circle clip-path=\"url(#clip172)\" cx=\"1491.32\" cy=\"973.999\" r=\"36\" fill=\"#009af9\" fill-rule=\"evenodd\" fill-opacity=\"1\" stroke=\"#000000\" stroke-opacity=\"1\" stroke-width=\"4\"/>\n",
       "<circle clip-path=\"url(#clip172)\" cx=\"482.876\" cy=\"397.637\" r=\"36\" fill=\"#009af9\" fill-rule=\"evenodd\" fill-opacity=\"1\" stroke=\"#000000\" stroke-opacity=\"1\" stroke-width=\"4\"/>\n",
       "<circle clip-path=\"url(#clip172)\" cx=\"1433.67\" cy=\"179.608\" r=\"72\" fill=\"#e26f46\" fill-rule=\"evenodd\" fill-opacity=\"1\" stroke=\"#000000\" stroke-opacity=\"1\" stroke-width=\"4\"/>\n",
       "<circle clip-path=\"url(#clip172)\" cx=\"250.155\" cy=\"1600.12\" r=\"72\" fill=\"#e26f46\" fill-rule=\"evenodd\" fill-opacity=\"1\" stroke=\"#000000\" stroke-opacity=\"1\" stroke-width=\"4\"/>\n",
       "<circle clip-path=\"url(#clip172)\" cx=\"1750.73\" cy=\"1258.47\" r=\"72\" fill=\"#e26f46\" fill-rule=\"evenodd\" fill-opacity=\"1\" stroke=\"#000000\" stroke-opacity=\"1\" stroke-width=\"4\"/>\n",
       "<circle clip-path=\"url(#clip172)\" cx=\"977.891\" cy=\"1177.68\" r=\"72\" fill=\"#e26f46\" fill-rule=\"evenodd\" fill-opacity=\"1\" stroke=\"#000000\" stroke-opacity=\"1\" stroke-width=\"4\"/>\n",
       "<circle clip-path=\"url(#clip172)\" cx=\"203.546\" cy=\"1032.73\" r=\"72\" fill=\"#e26f46\" fill-rule=\"evenodd\" fill-opacity=\"1\" stroke=\"#000000\" stroke-opacity=\"1\" stroke-width=\"4\"/>\n",
       "<circle clip-path=\"url(#clip172)\" cx=\"443.92\" cy=\"1770.19\" r=\"108\" fill=\"#3da44d\" fill-rule=\"evenodd\" fill-opacity=\"1\" stroke=\"#000000\" stroke-opacity=\"1\" stroke-width=\"4\"/>\n",
       "<circle clip-path=\"url(#clip172)\" cx=\"328.344\" cy=\"199.53\" r=\"108\" fill=\"#3da44d\" fill-rule=\"evenodd\" fill-opacity=\"1\" stroke=\"#000000\" stroke-opacity=\"1\" stroke-width=\"4\"/>\n",
       "<circle clip-path=\"url(#clip172)\" cx=\"1236\" cy=\"1795.68\" r=\"108\" fill=\"#3da44d\" fill-rule=\"evenodd\" fill-opacity=\"1\" stroke=\"#000000\" stroke-opacity=\"1\" stroke-width=\"4\"/>\n",
       "<circle clip-path=\"url(#clip172)\" cx=\"361.179\" cy=\"98.6948\" r=\"108\" fill=\"#3da44d\" fill-rule=\"evenodd\" fill-opacity=\"1\" stroke=\"#000000\" stroke-opacity=\"1\" stroke-width=\"4\"/>\n",
       "<circle clip-path=\"url(#clip172)\" cx=\"1606.89\" cy=\"1813.72\" r=\"108\" fill=\"#3da44d\" fill-rule=\"evenodd\" fill-opacity=\"1\" stroke=\"#000000\" stroke-opacity=\"1\" stroke-width=\"4\"/>\n",
       "<path clip-path=\"url(#clip170)\" d=\"\n",
       "M1639.03 315.202 L1892.75 315.202 L1892.75 107.842 L1639.03 107.842  Z\n",
       "  \" fill=\"#ffffff\" fill-rule=\"evenodd\" fill-opacity=\"1\"/>\n",
       "<polyline clip-path=\"url(#clip170)\" style=\"stroke:#000000; stroke-linecap:butt; stroke-linejoin:round; stroke-width:4; stroke-opacity:1; fill:none\" points=\"\n",
       "  1639.03,315.202 1892.75,315.202 1892.75,107.842 1639.03,107.842 1639.03,315.202 \n",
       "  \"/>\n",
       "<circle clip-path=\"url(#clip170)\" cx=\"1719.04\" cy=\"159.682\" r=\"23\" fill=\"#009af9\" fill-rule=\"evenodd\" fill-opacity=\"1\" stroke=\"#000000\" stroke-opacity=\"1\" stroke-width=\"2.56\"/>\n",
       "<path clip-path=\"url(#clip170)\" d=\"M1799.72 173.026 L1807.35 173.026 L1807.35 146.661 L1799.04 148.327 L1799.04 144.068 L1807.31 142.402 L1811.98 142.402 L1811.98 173.026 L1819.62 173.026 L1819.62 176.962 L1799.72 176.962 L1799.72 173.026 Z\" fill=\"#000000\" fill-rule=\"evenodd\" fill-opacity=\"1\" /><path clip-path=\"url(#clip170)\" d=\"M1839.07 145.48 Q1835.46 145.48 1833.63 149.045 Q1831.82 152.587 1831.82 159.716 Q1831.82 166.823 1833.63 170.388 Q1835.46 173.929 1839.07 173.929 Q1842.7 173.929 1844.51 170.388 Q1846.34 166.823 1846.34 159.716 Q1846.34 152.587 1844.51 149.045 Q1842.7 145.48 1839.07 145.48 M1839.07 141.777 Q1844.88 141.777 1847.93 146.383 Q1851.01 150.966 1851.01 159.716 Q1851.01 168.443 1847.93 173.05 Q1844.88 177.633 1839.07 177.633 Q1833.26 177.633 1830.18 173.05 Q1827.12 168.443 1827.12 159.716 Q1827.12 150.966 1830.18 146.383 Q1833.26 141.777 1839.07 141.777 Z\" fill=\"#000000\" fill-rule=\"evenodd\" fill-opacity=\"1\" /><circle clip-path=\"url(#clip170)\" cx=\"1719.04\" cy=\"211.522\" r=\"23\" fill=\"#e26f46\" fill-rule=\"evenodd\" fill-opacity=\"1\" stroke=\"#000000\" stroke-opacity=\"1\" stroke-width=\"1.28\"/>\n",
       "<path clip-path=\"url(#clip170)\" d=\"M1804.67 224.866 L1820.99 224.866 L1820.99 228.802 L1799.04 228.802 L1799.04 224.866 Q1801.71 222.112 1806.29 217.482 Q1810.9 212.829 1812.08 211.487 Q1814.32 208.964 1815.2 207.228 Q1816.1 205.468 1816.1 203.779 Q1816.1 201.024 1814.16 199.288 Q1812.24 197.552 1809.14 197.552 Q1806.94 197.552 1804.48 198.316 Q1802.05 199.079 1799.28 200.63 L1799.28 195.908 Q1802.1 194.774 1804.55 194.195 Q1807.01 193.617 1809.04 193.617 Q1814.41 193.617 1817.61 196.302 Q1820.8 198.987 1820.8 203.478 Q1820.8 205.607 1819.99 207.529 Q1819.21 209.427 1817.1 212.019 Q1816.52 212.691 1813.42 215.908 Q1810.32 219.103 1804.67 224.866 Z\" fill=\"#000000\" fill-rule=\"evenodd\" fill-opacity=\"1\" /><path clip-path=\"url(#clip170)\" d=\"M1840.8 197.32 Q1837.19 197.32 1835.36 200.885 Q1833.56 204.427 1833.56 211.556 Q1833.56 218.663 1835.36 222.228 Q1837.19 225.769 1840.8 225.769 Q1844.44 225.769 1846.24 222.228 Q1848.07 218.663 1848.07 211.556 Q1848.07 204.427 1846.24 200.885 Q1844.44 197.32 1840.8 197.32 M1840.8 193.617 Q1846.61 193.617 1849.67 198.223 Q1852.75 202.806 1852.75 211.556 Q1852.75 220.283 1849.67 224.89 Q1846.61 229.473 1840.8 229.473 Q1834.99 229.473 1831.91 224.89 Q1828.86 220.283 1828.86 211.556 Q1828.86 202.806 1831.91 198.223 Q1834.99 193.617 1840.8 193.617 Z\" fill=\"#000000\" fill-rule=\"evenodd\" fill-opacity=\"1\" /><circle clip-path=\"url(#clip170)\" cx=\"1719.04\" cy=\"263.362\" r=\"23\" fill=\"#3da44d\" fill-rule=\"evenodd\" fill-opacity=\"1\" stroke=\"#000000\" stroke-opacity=\"1\" stroke-width=\"0.853333\"/>\n",
       "<path clip-path=\"url(#clip170)\" d=\"M1814.67 262.007 Q1818.03 262.725 1819.9 264.993 Q1821.8 267.262 1821.8 270.595 Q1821.8 275.711 1818.28 278.512 Q1814.76 281.313 1808.28 281.313 Q1806.1 281.313 1803.79 280.873 Q1801.5 280.456 1799.04 279.6 L1799.04 275.086 Q1800.99 276.22 1803.3 276.799 Q1805.62 277.378 1808.14 277.378 Q1812.54 277.378 1814.83 275.642 Q1817.15 273.905 1817.15 270.595 Q1817.15 267.54 1814.99 265.827 Q1812.86 264.091 1809.04 264.091 L1805.02 264.091 L1805.02 260.248 L1809.23 260.248 Q1812.68 260.248 1814.51 258.882 Q1816.34 257.494 1816.34 254.901 Q1816.34 252.239 1814.44 250.827 Q1812.56 249.392 1809.04 249.392 Q1807.12 249.392 1804.92 249.808 Q1802.72 250.225 1800.09 251.105 L1800.09 246.938 Q1802.75 246.197 1805.06 245.827 Q1807.4 245.457 1809.46 245.457 Q1814.78 245.457 1817.89 247.887 Q1820.99 250.294 1820.99 254.415 Q1820.99 257.285 1819.34 259.276 Q1817.7 261.244 1814.67 262.007 Z\" fill=\"#000000\" fill-rule=\"evenodd\" fill-opacity=\"1\" /><path clip-path=\"url(#clip170)\" d=\"M1840.66 249.16 Q1837.05 249.16 1835.22 252.725 Q1833.42 256.267 1833.42 263.396 Q1833.42 270.503 1835.22 274.068 Q1837.05 277.609 1840.66 277.609 Q1844.3 277.609 1846.1 274.068 Q1847.93 270.503 1847.93 263.396 Q1847.93 256.267 1846.1 252.725 Q1844.3 249.16 1840.66 249.16 M1840.66 245.457 Q1846.47 245.457 1849.53 250.063 Q1852.61 254.646 1852.61 263.396 Q1852.61 272.123 1849.53 276.73 Q1846.47 281.313 1840.66 281.313 Q1834.85 281.313 1831.78 276.73 Q1828.72 272.123 1828.72 263.396 Q1828.72 254.646 1831.78 250.063 Q1834.85 245.457 1840.66 245.457 Z\" fill=\"#000000\" fill-rule=\"evenodd\" fill-opacity=\"1\" /></svg>\n"
      ]
     },
     "execution_count": 16,
     "metadata": {},
     "output_type": "execute_result"
    }
   ],
   "source": [
    "using Plots;\n",
    "plot()\n",
    "for s in [ 10, 20, 30 ]\n",
    "         scatter!(rand(5),rand(5),markersize=s,label=\"$s\")\n",
    "end\n",
    "plot!(size=(500,500))"
   ]
  },
  {
   "cell_type": "code",
   "execution_count": null,
   "metadata": {},
   "outputs": [],
   "source": []
  },
  {
   "cell_type": "code",
   "execution_count": null,
   "metadata": {},
   "outputs": [],
   "source": []
  },
  {
   "cell_type": "code",
   "execution_count": 5,
   "metadata": {
    "ExecuteTime": {
     "end_time": "2021-07-10T14:25:36.274000+01:00",
     "start_time": "2021-07-10T13:25:36.152Z"
    }
   },
   "outputs": [
    {
     "data": {
      "text/plain": [
       "ITensors.MPS\n",
       "[1] IndexSet{2} (dim=2|id=219|\"Qubit,Site,n=1\") (dim=2|id=53|\"Link,fact\")\n",
       "[2] IndexSet{3} (dim=2|id=53|\"Link,fact\") (dim=2|id=544|\"Qubit,Site,n=2\") (dim=4|id=491|\"Link,fact\")\n",
       "[3] IndexSet{3} (dim=2|id=506|\"Qubit,Site,n=3\") (dim=4|id=491|\"Link,fact\") (dim=2|id=761|\"Link,fact\")\n",
       "[4] IndexSet{2} (dim=2|id=761|\"Link,fact\") (dim=2|id=407|\"Qubit,Site,n=4\")\n"
      ]
     },
     "execution_count": 5,
     "metadata": {},
     "output_type": "execute_result"
    }
   ],
   "source": [
    "ψ"
   ]
  },
  {
   "cell_type": "code",
   "execution_count": null,
   "metadata": {},
   "outputs": [],
   "source": []
  },
  {
   "cell_type": "code",
   "execution_count": null,
   "metadata": {},
   "outputs": [],
   "source": []
  },
  {
   "cell_type": "code",
   "execution_count": 173,
   "metadata": {
    "ExecuteTime": {
     "end_time": "2021-07-09T23:07:41.850000+01:00",
     "start_time": "2021-07-09T22:07:41.043Z"
    }
   },
   "outputs": [
    {
     "data": {
      "text/plain": [
       "2-element Vector{Vector{String}}:\n",
       " [\"Up\", \"Up\", \"Up\", \"Up\"]\n",
       " [\"Up\", \"Up\", \"Up\", \"Dn\"]"
      ]
     },
     "execution_count": 173,
     "metadata": {},
     "output_type": "execute_result"
    }
   ],
   "source": [
    "M = [[\"Up\",\"Up\",\"Up\",\"Up\"],[\"Up\",\"Up\",\"Up\",\"Dn\"]]"
   ]
  },
  {
   "cell_type": "code",
   "execution_count": 215,
   "metadata": {
    "ExecuteTime": {
     "end_time": "2021-07-10T07:33:12.233000+01:00",
     "start_time": "2021-07-10T06:33:12.018Z"
    }
   },
   "outputs": [
    {
     "data": {
      "text/plain": [
       "16-element Vector{Vector{Any}}:\n",
       " [\"Dn\", \"Dn\", \"Dn\", \"Dn\"]\n",
       " [\"Dn\", \"Dn\", \"Dn\", \"Up\"]\n",
       " [\"Dn\", \"Dn\", \"Up\", \"Dn\"]\n",
       " [\"Dn\", \"Dn\", \"Up\", \"Up\"]\n",
       " [\"Dn\", \"Up\", \"Dn\", \"Dn\"]\n",
       " [\"Dn\", \"Up\", \"Dn\", \"Up\"]\n",
       " [\"Dn\", \"Up\", \"Up\", \"Dn\"]\n",
       " [\"Dn\", \"Up\", \"Up\", \"Up\"]\n",
       " [\"Up\", \"Dn\", \"Dn\", \"Dn\"]\n",
       " [\"Up\", \"Dn\", \"Dn\", \"Up\"]\n",
       " [\"Up\", \"Dn\", \"Up\", \"Dn\"]\n",
       " [\"Up\", \"Dn\", \"Up\", \"Up\"]\n",
       " [\"Up\", \"Up\", \"Dn\", \"Dn\"]\n",
       " [\"Up\", \"Up\", \"Dn\", \"Up\"]\n",
       " [\"Up\", \"Up\", \"Up\", \"Dn\"]\n",
       " [\"Up\", \"Up\", \"Up\", \"Up\"]"
      ]
     },
     "execution_count": 215,
     "metadata": {},
     "output_type": "execute_result"
    }
   ],
   "source": [
    "# Creating all possible combinations of the base states |x> for N qubits\n",
    "N= 4\n",
    "Q = lpad.(string.(0:2^N-1;base=2),N,'0').|>s->Int.(collect(s).-48)\n",
    "# Expressing the binary matrix in the \"Up\" and \"Dn\" notation\n",
    "Qu = replace.(Q, 1 => \"Up\")\n",
    "QS = replace.(Qu, 0 => \"Dn\")"
   ]
  },
  {
   "cell_type": "code",
   "execution_count": 217,
   "metadata": {
    "ExecuteTime": {
     "end_time": "2021-07-10T07:49:10.552000+01:00",
     "start_time": "2021-07-10T06:49:10.443Z"
    }
   },
   "outputs": [
    {
     "name": "stdout",
     "output_type": "stream",
     "text": [
      "Vector{Any}[[\"Dn\", \"Dn\", \"Dn\", \"Dn\"]]\n",
      "Vector{Any}[[\"Dn\", \"Dn\", \"Dn\", \"Up\"]]\n",
      "Vector{Any}[[\"Dn\", \"Dn\", \"Up\", \"Dn\"]]\n",
      "Vector{Any}[[\"Dn\", \"Dn\", \"Up\", \"Up\"]]\n",
      "Vector{Any}[[\"Dn\", \"Up\", \"Dn\", \"Dn\"]]\n",
      "Vector{Any}[[\"Dn\", \"Up\", \"Dn\", \"Up\"]]\n",
      "Vector{Any}[[\"Dn\", \"Up\", \"Up\", \"Dn\"]]\n",
      "Vector{Any}[[\"Dn\", \"Up\", \"Up\", \"Up\"]]\n",
      "Vector{Any}[[\"Up\", \"Dn\", \"Dn\", \"Dn\"]]\n",
      "Vector{Any}[[\"Up\", \"Dn\", \"Dn\", \"Up\"]]\n",
      "Vector{Any}[[\"Up\", \"Dn\", \"Up\", \"Dn\"]]\n",
      "Vector{Any}[[\"Up\", \"Dn\", \"Up\", \"Up\"]]\n",
      "Vector{Any}[[\"Up\", \"Up\", \"Dn\", \"Dn\"]]\n",
      "Vector{Any}[[\"Up\", \"Up\", \"Dn\", \"Up\"]]\n",
      "Vector{Any}[[\"Up\", \"Up\", \"Up\", \"Dn\"]]\n",
      "Vector{Any}[[\"Up\", \"Up\", \"Up\", \"Up\"]]\n"
     ]
    }
   ],
   "source": [
    "for i=1:size(QS,1)\n",
    "    println(QS[i,:])\n",
    "end\n"
   ]
  },
  {
   "cell_type": "code",
   "execution_count": 244,
   "metadata": {
    "ExecuteTime": {
     "end_time": "2021-07-10T08:40:23.936000+01:00",
     "start_time": "2021-07-10T07:40:23.915Z"
    }
   },
   "outputs": [
    {
     "name": "stdout",
     "output_type": "stream",
     "text": [
      "Vector{Any}[[\"Dn\", \"Dn\", \"Dn\", \"Dn\"]]\n"
     ]
    },
    {
     "data": {
      "text/plain": [
       "4-element Vector{String}:\n",
       " \"Up\"\n",
       " \"Up\"\n",
       " \"Up\"\n",
       " \"Up\""
      ]
     },
     "execution_count": 244,
     "metadata": {},
     "output_type": "execute_result"
    }
   ],
   "source": [
    "println(QS[1,:])\n",
    "TrueState = [\"Up\", \"Up\" , \"Up\", \"Up\"]"
   ]
  },
  {
   "cell_type": "code",
   "execution_count": 295,
   "metadata": {
    "ExecuteTime": {
     "end_time": "2021-07-10T10:19:33.792000+01:00",
     "start_time": "2021-07-10T09:19:33.777Z"
    }
   },
   "outputs": [
    {
     "data": {
      "text/plain": [
       "16-element Vector{Float64}:\n",
       " 0.0\n",
       " 0.0\n",
       " 0.0\n",
       " 0.0\n",
       " 0.0\n",
       " 0.0\n",
       " 0.0\n",
       " 0.0\n",
       " 0.0\n",
       " 0.0\n",
       " 0.0\n",
       " 0.0\n",
       " 0.0\n",
       " 0.0\n",
       " 0.0\n",
       " 0.0"
      ]
     },
     "execution_count": 295,
     "metadata": {},
     "output_type": "execute_result"
    }
   ],
   "source": [
    "pp = zeros(16)"
   ]
  },
  {
   "cell_type": "code",
   "execution_count": null,
   "metadata": {},
   "outputs": [],
   "source": []
  },
  {
   "cell_type": "code",
   "execution_count": null,
   "metadata": {},
   "outputs": [],
   "source": []
  },
  {
   "cell_type": "code",
   "execution_count": null,
   "metadata": {},
   "outputs": [],
   "source": []
  },
  {
   "cell_type": "code",
   "execution_count": 350,
   "metadata": {
    "ExecuteTime": {
     "end_time": "2021-07-10T14:19:08.036000+01:00",
     "start_time": "2021-07-10T13:19:07.685Z"
    }
   },
   "outputs": [
    {
     "data": {
      "image/svg+xml": [
       "<?xml version=\"1.0\" encoding=\"utf-8\"?>\n",
       "<svg xmlns=\"http://www.w3.org/2000/svg\" xmlns:xlink=\"http://www.w3.org/1999/xlink\" width=\"600\" height=\"400\" viewBox=\"0 0 2400 1600\">\n",
       "<defs>\n",
       "  <clipPath id=\"clip770\">\n",
       "    <rect x=\"0\" y=\"0\" width=\"2400\" height=\"1600\"/>\n",
       "  </clipPath>\n",
       "</defs>\n",
       "<path clip-path=\"url(#clip770)\" d=\"\n",
       "M0 1600 L2400 1600 L2400 0 L0 0  Z\n",
       "  \" fill=\"#ffffff\" fill-rule=\"evenodd\" fill-opacity=\"1\"/>\n",
       "<defs>\n",
       "  <clipPath id=\"clip771\">\n",
       "    <rect x=\"480\" y=\"0\" width=\"1681\" height=\"1600\"/>\n",
       "  </clipPath>\n",
       "</defs>\n",
       "<path clip-path=\"url(#clip770)\" d=\"\n",
       "M194.422 1486.45 L2352.76 1486.45 L2352.76 47.2441 L194.422 47.2441  Z\n",
       "  \" fill=\"#ffffff\" fill-rule=\"evenodd\" fill-opacity=\"1\"/>\n",
       "<defs>\n",
       "  <clipPath id=\"clip772\">\n",
       "    <rect x=\"194\" y=\"47\" width=\"2159\" height=\"1440\"/>\n",
       "  </clipPath>\n",
       "</defs>\n",
       "<polyline clip-path=\"url(#clip772)\" style=\"stroke:#000000; stroke-linecap:butt; stroke-linejoin:round; stroke-width:2; stroke-opacity:0.1; fill:none\" points=\"\n",
       "  459.119,1486.45 459.119,47.2441 \n",
       "  \"/>\n",
       "<polyline clip-path=\"url(#clip772)\" style=\"stroke:#000000; stroke-linecap:butt; stroke-linejoin:round; stroke-width:2; stroke-opacity:0.1; fill:none\" points=\"\n",
       "  866.354,1486.45 866.354,47.2441 \n",
       "  \"/>\n",
       "<polyline clip-path=\"url(#clip772)\" style=\"stroke:#000000; stroke-linecap:butt; stroke-linejoin:round; stroke-width:2; stroke-opacity:0.1; fill:none\" points=\"\n",
       "  1273.59,1486.45 1273.59,47.2441 \n",
       "  \"/>\n",
       "<polyline clip-path=\"url(#clip772)\" style=\"stroke:#000000; stroke-linecap:butt; stroke-linejoin:round; stroke-width:2; stroke-opacity:0.1; fill:none\" points=\"\n",
       "  1680.82,1486.45 1680.82,47.2441 \n",
       "  \"/>\n",
       "<polyline clip-path=\"url(#clip772)\" style=\"stroke:#000000; stroke-linecap:butt; stroke-linejoin:round; stroke-width:2; stroke-opacity:0.1; fill:none\" points=\"\n",
       "  2088.06,1486.45 2088.06,47.2441 \n",
       "  \"/>\n",
       "<polyline clip-path=\"url(#clip770)\" style=\"stroke:#000000; stroke-linecap:butt; stroke-linejoin:round; stroke-width:4; stroke-opacity:1; fill:none\" points=\"\n",
       "  194.422,1486.45 2352.76,1486.45 \n",
       "  \"/>\n",
       "<polyline clip-path=\"url(#clip770)\" style=\"stroke:#000000; stroke-linecap:butt; stroke-linejoin:round; stroke-width:4; stroke-opacity:1; fill:none\" points=\"\n",
       "  459.119,1486.45 459.119,1469.18 \n",
       "  \"/>\n",
       "<polyline clip-path=\"url(#clip770)\" style=\"stroke:#000000; stroke-linecap:butt; stroke-linejoin:round; stroke-width:4; stroke-opacity:1; fill:none\" points=\"\n",
       "  866.354,1486.45 866.354,1469.18 \n",
       "  \"/>\n",
       "<polyline clip-path=\"url(#clip770)\" style=\"stroke:#000000; stroke-linecap:butt; stroke-linejoin:round; stroke-width:4; stroke-opacity:1; fill:none\" points=\"\n",
       "  1273.59,1486.45 1273.59,1469.18 \n",
       "  \"/>\n",
       "<polyline clip-path=\"url(#clip770)\" style=\"stroke:#000000; stroke-linecap:butt; stroke-linejoin:round; stroke-width:4; stroke-opacity:1; fill:none\" points=\"\n",
       "  1680.82,1486.45 1680.82,1469.18 \n",
       "  \"/>\n",
       "<polyline clip-path=\"url(#clip770)\" style=\"stroke:#000000; stroke-linecap:butt; stroke-linejoin:round; stroke-width:4; stroke-opacity:1; fill:none\" points=\"\n",
       "  2088.06,1486.45 2088.06,1469.18 \n",
       "  \"/>\n",
       "<path clip-path=\"url(#clip770)\" d=\"M405.404 1530.29 L435.08 1530.29 L435.08 1534.23 L405.404 1534.23 L405.404 1530.29 Z\" fill=\"#000000\" fill-rule=\"evenodd\" fill-opacity=\"1\" /><path clip-path=\"url(#clip770)\" d=\"M455.173 1515.64 Q451.562 1515.64 449.733 1519.2 Q447.927 1522.75 447.927 1529.87 Q447.927 1536.98 449.733 1540.55 Q451.562 1544.09 455.173 1544.09 Q458.807 1544.09 460.612 1540.55 Q462.441 1536.98 462.441 1529.87 Q462.441 1522.75 460.612 1519.2 Q458.807 1515.64 455.173 1515.64 M455.173 1511.93 Q460.983 1511.93 464.038 1516.54 Q467.117 1521.12 467.117 1529.87 Q467.117 1538.6 464.038 1543.21 Q460.983 1547.79 455.173 1547.79 Q449.362 1547.79 446.284 1543.21 Q443.228 1538.6 443.228 1529.87 Q443.228 1521.12 446.284 1516.54 Q449.362 1511.93 455.173 1511.93 Z\" fill=\"#000000\" fill-rule=\"evenodd\" fill-opacity=\"1\" /><path clip-path=\"url(#clip770)\" d=\"M475.335 1541.24 L480.219 1541.24 L480.219 1547.12 L475.335 1547.12 L475.335 1541.24 Z\" fill=\"#000000\" fill-rule=\"evenodd\" fill-opacity=\"1\" /><path clip-path=\"url(#clip770)\" d=\"M503.251 1516.63 L491.446 1535.08 L503.251 1535.08 L503.251 1516.63 M502.024 1512.56 L507.904 1512.56 L507.904 1535.08 L512.834 1535.08 L512.834 1538.97 L507.904 1538.97 L507.904 1547.12 L503.251 1547.12 L503.251 1538.97 L487.649 1538.97 L487.649 1534.46 L502.024 1512.56 Z\" fill=\"#000000\" fill-rule=\"evenodd\" fill-opacity=\"1\" /><path clip-path=\"url(#clip770)\" d=\"M813.681 1530.29 L843.357 1530.29 L843.357 1534.23 L813.681 1534.23 L813.681 1530.29 Z\" fill=\"#000000\" fill-rule=\"evenodd\" fill-opacity=\"1\" /><path clip-path=\"url(#clip770)\" d=\"M863.449 1515.64 Q859.838 1515.64 858.009 1519.2 Q856.204 1522.75 856.204 1529.87 Q856.204 1536.98 858.009 1540.55 Q859.838 1544.09 863.449 1544.09 Q867.083 1544.09 868.889 1540.55 Q870.718 1536.98 870.718 1529.87 Q870.718 1522.75 868.889 1519.2 Q867.083 1515.64 863.449 1515.64 M863.449 1511.93 Q869.259 1511.93 872.315 1516.54 Q875.393 1521.12 875.393 1529.87 Q875.393 1538.6 872.315 1543.21 Q869.259 1547.79 863.449 1547.79 Q857.639 1547.79 854.56 1543.21 Q851.505 1538.6 851.505 1529.87 Q851.505 1521.12 854.56 1516.54 Q857.639 1511.93 863.449 1511.93 Z\" fill=\"#000000\" fill-rule=\"evenodd\" fill-opacity=\"1\" /><path clip-path=\"url(#clip770)\" d=\"M883.611 1541.24 L888.495 1541.24 L888.495 1547.12 L883.611 1547.12 L883.611 1541.24 Z\" fill=\"#000000\" fill-rule=\"evenodd\" fill-opacity=\"1\" /><path clip-path=\"url(#clip770)\" d=\"M902.708 1543.18 L919.028 1543.18 L919.028 1547.12 L897.083 1547.12 L897.083 1543.18 Q899.745 1540.43 904.329 1535.8 Q908.935 1531.15 910.116 1529.81 Q912.361 1527.28 913.241 1525.55 Q914.143 1523.79 914.143 1522.1 Q914.143 1519.34 912.199 1517.61 Q910.278 1515.87 907.176 1515.87 Q904.977 1515.87 902.523 1516.63 Q900.092 1517.4 897.315 1518.95 L897.315 1514.23 Q900.139 1513.09 902.592 1512.51 Q905.046 1511.93 907.083 1511.93 Q912.453 1511.93 915.648 1514.62 Q918.842 1517.31 918.842 1521.8 Q918.842 1523.93 918.032 1525.85 Q917.245 1527.74 915.139 1530.34 Q914.56 1531.01 911.458 1534.23 Q908.356 1537.42 902.708 1543.18 Z\" fill=\"#000000\" fill-rule=\"evenodd\" fill-opacity=\"1\" /><path clip-path=\"url(#clip770)\" d=\"M1250.97 1515.64 Q1247.36 1515.64 1245.53 1519.2 Q1243.73 1522.75 1243.73 1529.87 Q1243.73 1536.98 1245.53 1540.55 Q1247.36 1544.09 1250.97 1544.09 Q1254.61 1544.09 1256.41 1540.55 Q1258.24 1536.98 1258.24 1529.87 Q1258.24 1522.75 1256.41 1519.2 Q1254.61 1515.64 1250.97 1515.64 M1250.97 1511.93 Q1256.78 1511.93 1259.84 1516.54 Q1262.92 1521.12 1262.92 1529.87 Q1262.92 1538.6 1259.84 1543.21 Q1256.78 1547.79 1250.97 1547.79 Q1245.16 1547.79 1242.08 1543.21 Q1239.03 1538.6 1239.03 1529.87 Q1239.03 1521.12 1242.08 1516.54 Q1245.16 1511.93 1250.97 1511.93 Z\" fill=\"#000000\" fill-rule=\"evenodd\" fill-opacity=\"1\" /><path clip-path=\"url(#clip770)\" d=\"M1271.14 1541.24 L1276.02 1541.24 L1276.02 1547.12 L1271.14 1547.12 L1271.14 1541.24 Z\" fill=\"#000000\" fill-rule=\"evenodd\" fill-opacity=\"1\" /><path clip-path=\"url(#clip770)\" d=\"M1296.2 1515.64 Q1292.59 1515.64 1290.76 1519.2 Q1288.96 1522.75 1288.96 1529.87 Q1288.96 1536.98 1290.76 1540.55 Q1292.59 1544.09 1296.2 1544.09 Q1299.84 1544.09 1301.64 1540.55 Q1303.47 1536.98 1303.47 1529.87 Q1303.47 1522.75 1301.64 1519.2 Q1299.84 1515.64 1296.2 1515.64 M1296.2 1511.93 Q1302.01 1511.93 1305.07 1516.54 Q1308.15 1521.12 1308.15 1529.87 Q1308.15 1538.6 1305.07 1543.21 Q1302.01 1547.79 1296.2 1547.79 Q1290.39 1547.79 1287.32 1543.21 Q1284.26 1538.6 1284.26 1529.87 Q1284.26 1521.12 1287.32 1516.54 Q1290.39 1511.93 1296.2 1511.93 Z\" fill=\"#000000\" fill-rule=\"evenodd\" fill-opacity=\"1\" /><path clip-path=\"url(#clip770)\" d=\"M1659.01 1515.64 Q1655.4 1515.64 1653.57 1519.2 Q1651.76 1522.75 1651.76 1529.87 Q1651.76 1536.98 1653.57 1540.55 Q1655.4 1544.09 1659.01 1544.09 Q1662.64 1544.09 1664.45 1540.55 Q1666.28 1536.98 1666.28 1529.87 Q1666.28 1522.75 1664.45 1519.2 Q1662.64 1515.64 1659.01 1515.64 M1659.01 1511.93 Q1664.82 1511.93 1667.87 1516.54 Q1670.95 1521.12 1670.95 1529.87 Q1670.95 1538.6 1667.87 1543.21 Q1664.82 1547.79 1659.01 1547.79 Q1653.2 1547.79 1650.12 1543.21 Q1647.06 1538.6 1647.06 1529.87 Q1647.06 1521.12 1650.12 1516.54 Q1653.2 1511.93 1659.01 1511.93 Z\" fill=\"#000000\" fill-rule=\"evenodd\" fill-opacity=\"1\" /><path clip-path=\"url(#clip770)\" d=\"M1679.17 1541.24 L1684.05 1541.24 L1684.05 1547.12 L1679.17 1547.12 L1679.17 1541.24 Z\" fill=\"#000000\" fill-rule=\"evenodd\" fill-opacity=\"1\" /><path clip-path=\"url(#clip770)\" d=\"M1698.27 1543.18 L1714.59 1543.18 L1714.59 1547.12 L1692.64 1547.12 L1692.64 1543.18 Q1695.3 1540.43 1699.89 1535.8 Q1704.49 1531.15 1705.67 1529.81 Q1707.92 1527.28 1708.8 1525.55 Q1709.7 1523.79 1709.7 1522.1 Q1709.7 1519.34 1707.76 1517.61 Q1705.84 1515.87 1702.73 1515.87 Q1700.53 1515.87 1698.08 1516.63 Q1695.65 1517.4 1692.87 1518.95 L1692.87 1514.23 Q1695.7 1513.09 1698.15 1512.51 Q1700.6 1511.93 1702.64 1511.93 Q1708.01 1511.93 1711.21 1514.62 Q1714.4 1517.31 1714.4 1521.8 Q1714.4 1523.93 1713.59 1525.85 Q1712.8 1527.74 1710.7 1530.34 Q1710.12 1531.01 1707.02 1534.23 Q1703.91 1537.42 1698.27 1543.18 Z\" fill=\"#000000\" fill-rule=\"evenodd\" fill-opacity=\"1\" /><path clip-path=\"url(#clip770)\" d=\"M2065.2 1515.64 Q2061.59 1515.64 2059.76 1519.2 Q2057.95 1522.75 2057.95 1529.87 Q2057.95 1536.98 2059.76 1540.55 Q2061.59 1544.09 2065.2 1544.09 Q2068.83 1544.09 2070.64 1540.55 Q2072.47 1536.98 2072.47 1529.87 Q2072.47 1522.75 2070.64 1519.2 Q2068.83 1515.64 2065.2 1515.64 M2065.2 1511.93 Q2071.01 1511.93 2074.07 1516.54 Q2077.14 1521.12 2077.14 1529.87 Q2077.14 1538.6 2074.07 1543.21 Q2071.01 1547.79 2065.2 1547.79 Q2059.39 1547.79 2056.31 1543.21 Q2053.26 1538.6 2053.26 1529.87 Q2053.26 1521.12 2056.31 1516.54 Q2059.39 1511.93 2065.2 1511.93 Z\" fill=\"#000000\" fill-rule=\"evenodd\" fill-opacity=\"1\" /><path clip-path=\"url(#clip770)\" d=\"M2085.36 1541.24 L2090.25 1541.24 L2090.25 1547.12 L2085.36 1547.12 L2085.36 1541.24 Z\" fill=\"#000000\" fill-rule=\"evenodd\" fill-opacity=\"1\" /><path clip-path=\"url(#clip770)\" d=\"M2113.28 1516.63 L2101.47 1535.08 L2113.28 1535.08 L2113.28 1516.63 M2112.05 1512.56 L2117.93 1512.56 L2117.93 1535.08 L2122.86 1535.08 L2122.86 1538.97 L2117.93 1538.97 L2117.93 1547.12 L2113.28 1547.12 L2113.28 1538.97 L2097.68 1538.97 L2097.68 1534.46 L2112.05 1512.56 Z\" fill=\"#000000\" fill-rule=\"evenodd\" fill-opacity=\"1\" /><polyline clip-path=\"url(#clip772)\" style=\"stroke:#000000; stroke-linecap:butt; stroke-linejoin:round; stroke-width:2; stroke-opacity:0.1; fill:none\" points=\"\n",
       "  194.422,1309.95 2352.76,1309.95 \n",
       "  \"/>\n",
       "<polyline clip-path=\"url(#clip772)\" style=\"stroke:#000000; stroke-linecap:butt; stroke-linejoin:round; stroke-width:2; stroke-opacity:0.1; fill:none\" points=\"\n",
       "  194.422,1038.4 2352.76,1038.4 \n",
       "  \"/>\n",
       "<polyline clip-path=\"url(#clip772)\" style=\"stroke:#000000; stroke-linecap:butt; stroke-linejoin:round; stroke-width:2; stroke-opacity:0.1; fill:none\" points=\"\n",
       "  194.422,766.853 2352.76,766.853 \n",
       "  \"/>\n",
       "<polyline clip-path=\"url(#clip772)\" style=\"stroke:#000000; stroke-linecap:butt; stroke-linejoin:round; stroke-width:2; stroke-opacity:0.1; fill:none\" points=\"\n",
       "  194.422,495.302 2352.76,495.302 \n",
       "  \"/>\n",
       "<polyline clip-path=\"url(#clip772)\" style=\"stroke:#000000; stroke-linecap:butt; stroke-linejoin:round; stroke-width:2; stroke-opacity:0.1; fill:none\" points=\"\n",
       "  194.422,223.752 2352.76,223.752 \n",
       "  \"/>\n",
       "<polyline clip-path=\"url(#clip770)\" style=\"stroke:#000000; stroke-linecap:butt; stroke-linejoin:round; stroke-width:4; stroke-opacity:1; fill:none\" points=\"\n",
       "  194.422,1486.45 194.422,47.2441 \n",
       "  \"/>\n",
       "<polyline clip-path=\"url(#clip770)\" style=\"stroke:#000000; stroke-linecap:butt; stroke-linejoin:round; stroke-width:4; stroke-opacity:1; fill:none\" points=\"\n",
       "  194.422,1309.95 220.322,1309.95 \n",
       "  \"/>\n",
       "<polyline clip-path=\"url(#clip770)\" style=\"stroke:#000000; stroke-linecap:butt; stroke-linejoin:round; stroke-width:4; stroke-opacity:1; fill:none\" points=\"\n",
       "  194.422,1038.4 220.322,1038.4 \n",
       "  \"/>\n",
       "<polyline clip-path=\"url(#clip770)\" style=\"stroke:#000000; stroke-linecap:butt; stroke-linejoin:round; stroke-width:4; stroke-opacity:1; fill:none\" points=\"\n",
       "  194.422,766.853 220.322,766.853 \n",
       "  \"/>\n",
       "<polyline clip-path=\"url(#clip770)\" style=\"stroke:#000000; stroke-linecap:butt; stroke-linejoin:round; stroke-width:4; stroke-opacity:1; fill:none\" points=\"\n",
       "  194.422,495.302 220.322,495.302 \n",
       "  \"/>\n",
       "<polyline clip-path=\"url(#clip770)\" style=\"stroke:#000000; stroke-linecap:butt; stroke-linejoin:round; stroke-width:4; stroke-opacity:1; fill:none\" points=\"\n",
       "  194.422,223.752 220.322,223.752 \n",
       "  \"/>\n",
       "<path clip-path=\"url(#clip770)\" d=\"M50.9921 1310.41 L80.6679 1310.41 L80.6679 1314.34 L50.9921 1314.34 L50.9921 1310.41 Z\" fill=\"#000000\" fill-rule=\"evenodd\" fill-opacity=\"1\" /><path clip-path=\"url(#clip770)\" d=\"M100.76 1295.75 Q97.1493 1295.75 95.3206 1299.32 Q93.515 1302.86 93.515 1309.99 Q93.515 1317.1 95.3206 1320.66 Q97.1493 1324.2 100.76 1324.2 Q104.395 1324.2 106.2 1320.66 Q108.029 1317.1 108.029 1309.99 Q108.029 1302.86 106.2 1299.32 Q104.395 1295.75 100.76 1295.75 M100.76 1292.05 Q106.571 1292.05 109.626 1296.66 Q112.705 1301.24 112.705 1309.99 Q112.705 1318.72 109.626 1323.32 Q106.571 1327.91 100.76 1327.91 Q94.9502 1327.91 91.8715 1323.32 Q88.816 1318.72 88.816 1309.99 Q88.816 1301.24 91.8715 1296.66 Q94.9502 1292.05 100.76 1292.05 Z\" fill=\"#000000\" fill-rule=\"evenodd\" fill-opacity=\"1\" /><path clip-path=\"url(#clip770)\" d=\"M120.922 1321.35 L125.807 1321.35 L125.807 1327.23 L120.922 1327.23 L120.922 1321.35 Z\" fill=\"#000000\" fill-rule=\"evenodd\" fill-opacity=\"1\" /><path clip-path=\"url(#clip770)\" d=\"M148.839 1296.75 L137.033 1315.2 L148.839 1315.2 L148.839 1296.75 M147.612 1292.67 L153.492 1292.67 L153.492 1315.2 L158.422 1315.2 L158.422 1319.09 L153.492 1319.09 L153.492 1327.23 L148.839 1327.23 L148.839 1319.09 L133.237 1319.09 L133.237 1314.57 L147.612 1292.67 Z\" fill=\"#000000\" fill-rule=\"evenodd\" fill-opacity=\"1\" /><path clip-path=\"url(#clip770)\" d=\"M53.0754 1038.85 L82.7512 1038.85 L82.7512 1042.79 L53.0754 1042.79 L53.0754 1038.85 Z\" fill=\"#000000\" fill-rule=\"evenodd\" fill-opacity=\"1\" /><path clip-path=\"url(#clip770)\" d=\"M102.844 1024.2 Q99.2326 1024.2 97.4039 1027.77 Q95.5984 1031.31 95.5984 1038.44 Q95.5984 1045.54 97.4039 1049.11 Q99.2326 1052.65 102.844 1052.65 Q106.478 1052.65 108.283 1049.11 Q110.112 1045.54 110.112 1038.44 Q110.112 1031.31 108.283 1027.77 Q106.478 1024.2 102.844 1024.2 M102.844 1020.5 Q108.654 1020.5 111.709 1025.1 Q114.788 1029.69 114.788 1038.44 Q114.788 1047.16 111.709 1051.77 Q108.654 1056.35 102.844 1056.35 Q97.0335 1056.35 93.9549 1051.77 Q90.8993 1047.16 90.8993 1038.44 Q90.8993 1029.69 93.9549 1025.1 Q97.0335 1020.5 102.844 1020.5 Z\" fill=\"#000000\" fill-rule=\"evenodd\" fill-opacity=\"1\" /><path clip-path=\"url(#clip770)\" d=\"M123.006 1049.8 L127.89 1049.8 L127.89 1055.68 L123.006 1055.68 L123.006 1049.8 Z\" fill=\"#000000\" fill-rule=\"evenodd\" fill-opacity=\"1\" /><path clip-path=\"url(#clip770)\" d=\"M142.103 1051.75 L158.422 1051.75 L158.422 1055.68 L136.478 1055.68 L136.478 1051.75 Q139.14 1048.99 143.723 1044.36 Q148.33 1039.71 149.51 1038.37 Q151.755 1035.85 152.635 1034.11 Q153.538 1032.35 153.538 1030.66 Q153.538 1027.91 151.593 1026.17 Q149.672 1024.43 146.57 1024.43 Q144.371 1024.43 141.918 1025.2 Q139.487 1025.96 136.709 1027.51 L136.709 1022.79 Q139.533 1021.66 141.987 1021.08 Q144.441 1020.5 146.478 1020.5 Q151.848 1020.5 155.042 1023.18 Q158.237 1025.87 158.237 1030.36 Q158.237 1032.49 157.427 1034.41 Q156.64 1036.31 154.533 1038.9 Q153.955 1039.57 150.853 1042.79 Q147.751 1045.98 142.103 1051.75 Z\" fill=\"#000000\" fill-rule=\"evenodd\" fill-opacity=\"1\" /><path clip-path=\"url(#clip770)\" d=\"M101.246 752.651 Q97.6354 752.651 95.8067 756.216 Q94.0012 759.758 94.0012 766.887 Q94.0012 773.994 95.8067 777.559 Q97.6354 781.1 101.246 781.1 Q104.881 781.1 106.686 777.559 Q108.515 773.994 108.515 766.887 Q108.515 759.758 106.686 756.216 Q104.881 752.651 101.246 752.651 M101.246 748.948 Q107.057 748.948 110.112 753.554 Q113.191 758.137 113.191 766.887 Q113.191 775.614 110.112 780.221 Q107.057 784.804 101.246 784.804 Q95.4363 784.804 92.3576 780.221 Q89.3021 775.614 89.3021 766.887 Q89.3021 758.137 92.3576 753.554 Q95.4363 748.948 101.246 748.948 Z\" fill=\"#000000\" fill-rule=\"evenodd\" fill-opacity=\"1\" /><path clip-path=\"url(#clip770)\" d=\"M121.408 778.253 L126.293 778.253 L126.293 784.133 L121.408 784.133 L121.408 778.253 Z\" fill=\"#000000\" fill-rule=\"evenodd\" fill-opacity=\"1\" /><path clip-path=\"url(#clip770)\" d=\"M146.478 752.651 Q142.867 752.651 141.038 756.216 Q139.232 759.758 139.232 766.887 Q139.232 773.994 141.038 777.559 Q142.867 781.1 146.478 781.1 Q150.112 781.1 151.918 777.559 Q153.746 773.994 153.746 766.887 Q153.746 759.758 151.918 756.216 Q150.112 752.651 146.478 752.651 M146.478 748.948 Q152.288 748.948 155.343 753.554 Q158.422 758.137 158.422 766.887 Q158.422 775.614 155.343 780.221 Q152.288 784.804 146.478 784.804 Q140.668 784.804 137.589 780.221 Q134.533 775.614 134.533 766.887 Q134.533 758.137 137.589 753.554 Q140.668 748.948 146.478 748.948 Z\" fill=\"#000000\" fill-rule=\"evenodd\" fill-opacity=\"1\" /><path clip-path=\"url(#clip770)\" d=\"M102.844 481.101 Q99.2326 481.101 97.4039 484.666 Q95.5984 488.207 95.5984 495.337 Q95.5984 502.443 97.4039 506.008 Q99.2326 509.55 102.844 509.55 Q106.478 509.55 108.283 506.008 Q110.112 502.443 110.112 495.337 Q110.112 488.207 108.283 484.666 Q106.478 481.101 102.844 481.101 M102.844 477.397 Q108.654 477.397 111.709 482.004 Q114.788 486.587 114.788 495.337 Q114.788 504.064 111.709 508.67 Q108.654 513.253 102.844 513.253 Q97.0335 513.253 93.9549 508.67 Q90.8993 504.064 90.8993 495.337 Q90.8993 486.587 93.9549 482.004 Q97.0335 477.397 102.844 477.397 Z\" fill=\"#000000\" fill-rule=\"evenodd\" fill-opacity=\"1\" /><path clip-path=\"url(#clip770)\" d=\"M123.006 506.703 L127.89 506.703 L127.89 512.582 L123.006 512.582 L123.006 506.703 Z\" fill=\"#000000\" fill-rule=\"evenodd\" fill-opacity=\"1\" /><path clip-path=\"url(#clip770)\" d=\"M142.103 508.647 L158.422 508.647 L158.422 512.582 L136.478 512.582 L136.478 508.647 Q139.14 505.892 143.723 501.263 Q148.33 496.61 149.51 495.267 Q151.755 492.744 152.635 491.008 Q153.538 489.249 153.538 487.559 Q153.538 484.805 151.593 483.068 Q149.672 481.332 146.57 481.332 Q144.371 481.332 141.918 482.096 Q139.487 482.86 136.709 484.411 L136.709 479.689 Q139.533 478.555 141.987 477.976 Q144.441 477.397 146.478 477.397 Q151.848 477.397 155.042 480.082 Q158.237 482.767 158.237 487.258 Q158.237 489.388 157.427 491.309 Q156.64 493.207 154.533 495.8 Q153.955 496.471 150.853 499.689 Q147.751 502.883 142.103 508.647 Z\" fill=\"#000000\" fill-rule=\"evenodd\" fill-opacity=\"1\" /><path clip-path=\"url(#clip770)\" d=\"M100.76 209.55 Q97.1493 209.55 95.3206 213.115 Q93.515 216.657 93.515 223.786 Q93.515 230.893 95.3206 234.458 Q97.1493 237.999 100.76 237.999 Q104.395 237.999 106.2 234.458 Q108.029 230.893 108.029 223.786 Q108.029 216.657 106.2 213.115 Q104.395 209.55 100.76 209.55 M100.76 205.847 Q106.571 205.847 109.626 210.453 Q112.705 215.036 112.705 223.786 Q112.705 232.513 109.626 237.12 Q106.571 241.703 100.76 241.703 Q94.9502 241.703 91.8715 237.12 Q88.816 232.513 88.816 223.786 Q88.816 215.036 91.8715 210.453 Q94.9502 205.847 100.76 205.847 Z\" fill=\"#000000\" fill-rule=\"evenodd\" fill-opacity=\"1\" /><path clip-path=\"url(#clip770)\" d=\"M120.922 235.152 L125.807 235.152 L125.807 241.032 L120.922 241.032 L120.922 235.152 Z\" fill=\"#000000\" fill-rule=\"evenodd\" fill-opacity=\"1\" /><path clip-path=\"url(#clip770)\" d=\"M148.839 210.546 L137.033 228.995 L148.839 228.995 L148.839 210.546 M147.612 206.472 L153.492 206.472 L153.492 228.995 L158.422 228.995 L158.422 232.883 L153.492 232.883 L153.492 241.032 L148.839 241.032 L148.839 232.883 L133.237 232.883 L133.237 228.37 L147.612 206.472 Z\" fill=\"#000000\" fill-rule=\"evenodd\" fill-opacity=\"1\" /><path clip-path=\"url(#clip772)\" d=\"\n",
       "M1273.59 87.9763 L1286.41 88.0301 L1299.22 88.1915 L1312.04 88.4606 L1324.84 88.8372 L1337.64 89.3213 L1350.43 89.9128 L1363.21 90.6116 L1375.97 91.4177 L1388.72 92.3308 \n",
       "  L1401.44 93.3509 L1414.15 94.4777 L1426.84 95.7112 L1439.5 97.0511 L1452.13 98.4971 L1464.74 100.049 L1477.31 101.707 L1489.86 103.47 L1502.37 105.338 L1514.84 107.312 \n",
       "  L1527.27 109.39 L1539.67 111.572 L1552.02 113.858 L1564.33 116.247 L1576.59 118.74 L1588.8 121.335 L1600.97 124.033 L1613.08 126.832 L1625.14 129.734 L1637.14 132.736 \n",
       "  L1649.09 135.838 L1660.97 139.041 L1672.8 142.343 L1684.56 145.745 L1696.25 149.244 L1707.88 152.842 L1719.44 156.537 L1730.93 160.329 L1742.35 164.217 L1753.69 168.2 \n",
       "  L1764.95 172.279 L1776.14 176.451 L1787.25 180.717 L1798.28 185.077 L1809.22 189.528 L1820.08 194.071 L1830.85 198.705 L1841.54 203.429 L1852.13 208.242 L1862.63 213.143 \n",
       "  L1873.04 218.133 L1883.36 223.21 L1893.57 228.372 L1903.69 233.62 L1913.71 238.953 L1923.63 244.369 L1933.44 249.868 L1943.15 255.45 L1952.76 261.112 L1962.25 266.854 \n",
       "  L1971.64 272.676 L1980.91 278.576 L1990.08 284.553 L1999.13 290.607 L2008.06 296.737 L2016.88 302.941 L2025.58 309.218 L2034.16 315.568 L2042.63 321.99 L2050.97 328.482 \n",
       "  L2059.18 335.043 L2067.27 341.673 L2075.24 348.371 L2083.08 355.135 L2090.79 361.964 L2098.37 368.857 L2105.82 375.814 L2113.14 382.832 L2120.32 389.911 L2127.37 397.05 \n",
       "  L2134.29 404.248 L2141.06 411.503 L2147.71 418.815 L2154.21 426.181 L2160.57 433.602 L2166.79 441.076 L2172.87 448.601 L2178.81 456.177 L2184.61 463.801 L2190.26 471.474 \n",
       "  L2195.76 479.194 L2201.12 486.96 L2206.33 494.769 L2211.4 502.622 L2216.31 510.517 L2221.08 518.452 L2225.69 526.427 L2230.16 534.44 L2234.47 542.49 L2238.63 550.575 \n",
       "  L2242.64 558.695 L2246.49 566.848 L2250.19 575.032 L2253.73 583.247 L2257.12 591.491 L2260.36 599.762 L2263.43 608.06 L2266.35 616.384 L2269.12 624.731 L2271.72 633.101 \n",
       "  L2274.17 641.492 L2276.46 649.903 L2278.58 658.332 L2280.55 666.778 L2282.36 675.241 L2284.01 683.718 L2285.5 692.208 L2286.83 700.71 L2288 709.222 L2289.01 717.744 \n",
       "  L2289.86 726.273 L2290.54 734.809 L2291.07 743.35 L2291.43 751.895 L2291.63 760.442 L2291.67 768.99 L2291.55 777.537 L2291.27 786.083 L2290.82 794.626 L2290.22 803.165 \n",
       "  L2289.45 811.698 L2288.53 820.223 L2287.44 828.74 L2286.19 837.248 L2284.78 845.744 L2283.21 854.228 L2281.48 862.698 L2279.59 871.152 L2277.54 879.59 L2275.33 888.011 \n",
       "  L2272.96 896.412 L2270.44 904.792 L2267.75 913.151 L2264.91 921.486 L2261.92 929.797 L2258.76 938.082 L2255.45 946.34 L2251.98 954.57 L2248.36 962.77 L2244.58 970.938 \n",
       "  L2240.65 979.074 L2236.57 987.177 L2232.33 995.245 L2227.94 1003.28 L2223.4 1011.27 L2218.71 1019.23 L2213.87 1027.14 L2208.88 1035.01 L2203.74 1042.85 L2198.46 1050.63 \n",
       "  L2193.03 1058.38 L2187.45 1066.07 L2181.73 1073.72 L2175.86 1081.32 L2169.85 1088.87 L2163.7 1096.37 L2157.41 1103.82 L2150.97 1111.21 L2144.4 1118.55 L2137.69 1125.84 \n",
       "  L2130.85 1133.06 L2123.86 1140.23 L2116.74 1147.34 L2109.49 1154.39 L2102.11 1161.38 L2094.59 1168.3 L2086.95 1175.16 L2079.17 1181.96 L2071.27 1188.69 L2063.24 1195.36 \n",
       "  L2055.09 1201.95 L2046.81 1208.48 L2038.41 1214.94 L2029.89 1221.32 L2021.25 1227.64 L2012.49 1233.88 L2003.61 1240.04 L1994.62 1246.13 L1985.51 1252.15 L1976.29 1258.09 \n",
       "  L1966.96 1263.95 L1957.52 1269.73 L1947.97 1275.43 L1938.31 1281.06 L1928.55 1286.6 L1918.68 1292.05 L1908.71 1297.43 L1898.64 1302.72 L1888.48 1307.93 L1878.21 1313.04 \n",
       "  L1867.85 1318.08 L1857.39 1323.02 L1846.85 1327.88 L1836.21 1332.65 L1825.48 1337.33 L1814.66 1341.92 L1803.76 1346.41 L1792.78 1350.82 L1781.71 1355.13 L1770.56 1359.35 \n",
       "  L1759.33 1363.48 L1748.03 1367.51 L1736.65 1371.44 L1725.19 1375.28 L1713.67 1379.03 L1702.08 1382.67 L1690.41 1386.22 L1678.68 1389.67 L1666.89 1393.03 L1655.04 1396.28 \n",
       "  L1643.12 1399.43 L1631.15 1402.48 L1619.12 1405.44 L1607.03 1408.29 L1594.89 1411.03 L1582.7 1413.68 L1570.47 1416.22 L1558.18 1418.67 L1545.85 1421 L1533.48 1423.24 \n",
       "  L1521.06 1425.37 L1508.61 1427.39 L1496.12 1429.31 L1483.59 1431.13 L1471.03 1432.84 L1458.44 1434.45 L1445.82 1435.94 L1433.17 1437.34 L1420.5 1438.62 L1407.8 1439.8 \n",
       "  L1395.08 1440.88 L1382.35 1441.84 L1369.59 1442.7 L1356.82 1443.46 L1344.04 1444.1 L1331.24 1444.64 L1318.44 1445.07 L1305.63 1445.39 L1292.82 1445.61 L1280 1445.72 \n",
       "  L1267.18 1445.72 L1254.36 1445.61 L1241.55 1445.39 L1228.74 1445.07 L1215.93 1444.64 L1203.14 1444.1 L1190.36 1443.46 L1177.59 1442.7 L1164.83 1441.84 L1152.1 1440.88 \n",
       "  L1139.38 1439.8 L1126.68 1438.62 L1114.01 1437.34 L1101.36 1435.94 L1088.74 1434.45 L1076.15 1432.84 L1063.59 1431.13 L1051.06 1429.31 L1038.57 1427.39 L1026.12 1425.37 \n",
       "  L1013.7 1423.24 L1001.33 1421 L988.998 1418.67 L976.712 1416.22 L964.474 1413.68 L952.285 1411.03 L940.147 1408.29 L928.061 1405.44 L916.03 1402.48 L904.056 1399.43 \n",
       "  L892.141 1396.28 L880.286 1393.03 L868.493 1389.67 L856.765 1386.22 L845.103 1382.67 L833.508 1379.03 L821.984 1375.28 L810.531 1371.44 L799.151 1367.51 L787.847 1363.48 \n",
       "  L776.619 1359.35 L765.471 1355.13 L754.403 1350.82 L743.417 1346.41 L732.516 1341.92 L721.7 1337.33 L710.972 1332.65 L700.332 1327.88 L689.784 1323.02 L679.328 1318.08 \n",
       "  L668.967 1313.04 L658.701 1307.93 L648.533 1302.72 L638.464 1297.43 L628.496 1292.05 L618.63 1286.6 L608.868 1281.06 L599.211 1275.43 L589.661 1269.73 L580.219 1263.95 \n",
       "  L570.888 1258.09 L561.668 1252.15 L552.561 1246.13 L543.568 1240.04 L534.69 1233.88 L525.93 1227.64 L517.289 1221.32 L508.767 1214.94 L500.367 1208.48 L492.089 1201.95 \n",
       "  L483.935 1195.36 L475.907 1188.69 L468.005 1181.96 L460.23 1175.16 L452.585 1168.3 L445.069 1161.38 L437.685 1154.39 L430.434 1147.34 L423.316 1140.23 L416.333 1133.06 \n",
       "  L409.486 1125.84 L402.776 1118.55 L396.204 1111.21 L389.771 1103.82 L383.478 1096.37 L377.327 1088.87 L371.317 1081.32 L365.451 1073.72 L359.728 1066.07 L354.15 1058.38 \n",
       "  L348.719 1050.63 L343.433 1042.85 L338.296 1035.01 L333.306 1027.14 L328.466 1019.23 L323.775 1011.27 L319.235 1003.28 L314.847 995.245 L310.61 987.177 L306.526 979.074 \n",
       "  L302.595 970.938 L298.819 962.77 L295.197 954.57 L291.73 946.34 L288.418 938.082 L285.263 929.797 L282.265 921.486 L279.423 913.151 L276.74 904.792 L274.214 896.412 \n",
       "  L271.847 888.011 L269.638 879.59 L267.589 871.152 L265.699 862.698 L263.97 854.228 L262.4 845.744 L260.99 837.248 L259.741 828.74 L258.653 820.223 L257.726 811.698 \n",
       "  L256.959 803.165 L256.354 794.626 L255.911 786.083 L255.628 777.537 L255.507 768.99 L255.547 760.442 L255.749 751.895 L256.112 743.35 L256.637 734.809 L257.322 726.273 \n",
       "  L258.169 717.744 L259.177 709.222 L260.346 700.71 L261.675 692.208 L263.165 683.718 L264.815 675.241 L266.624 666.778 L268.594 658.332 L270.723 649.903 L273.01 641.492 \n",
       "  L275.457 633.101 L278.062 624.731 L280.824 616.384 L283.744 608.06 L286.821 599.762 L290.054 591.491 L293.444 583.247 L296.988 575.032 L300.688 566.848 L304.542 558.695 \n",
       "  L308.549 550.575 L312.709 542.49 L317.022 534.44 L321.486 526.427 L326.102 518.452 L330.867 510.517 L335.782 502.622 L340.846 494.769 L346.058 486.96 L351.416 479.194 \n",
       "  L356.921 471.474 L362.571 463.801 L368.366 456.177 L374.304 448.601 L380.385 441.076 L386.607 433.602 L392.97 426.181 L399.473 418.815 L406.114 411.503 L412.892 404.248 \n",
       "  L419.808 397.05 L426.858 389.911 L434.043 382.832 L441.361 375.814 L448.811 368.857 L456.391 361.964 L464.101 355.135 L471.94 348.371 L479.905 341.673 L487.997 335.043 \n",
       "  L496.213 328.482 L504.552 321.99 L513.013 315.568 L521.595 309.218 L530.296 302.941 L539.114 296.737 L548.05 290.607 L557.1 284.553 L566.264 278.576 L575.54 272.676 \n",
       "  L584.927 266.854 L594.422 261.112 L604.026 255.45 L613.736 249.868 L623.55 244.369 L633.467 238.953 L643.486 233.62 L653.605 228.372 L663.822 223.21 L674.136 218.133 \n",
       "  L684.545 213.143 L695.047 208.242 L705.641 203.429 L716.325 198.705 L727.097 194.071 L737.956 189.528 L748.9 185.077 L759.927 180.717 L771.035 176.451 L782.223 172.279 \n",
       "  L793.489 168.2 L804.832 164.217 L816.248 160.329 L827.737 156.537 L839.297 152.842 L850.925 149.244 L862.621 145.745 L874.382 142.343 L886.206 139.041 L898.091 135.838 \n",
       "  L910.036 132.736 L922.039 129.734 L934.097 126.832 L946.209 124.033 L958.373 121.335 L970.587 118.74 L982.849 116.247 L995.158 113.858 L1007.51 111.572 L1019.9 109.39 \n",
       "  L1032.34 107.312 L1044.81 105.338 L1057.32 103.47 L1069.86 101.707 L1082.44 100.049 L1095.05 98.4971 L1107.68 97.0511 L1120.34 95.7112 L1133.03 94.4777 L1145.73 93.3509 \n",
       "  L1158.46 92.3308 L1171.21 91.4177 L1183.97 90.6116 L1196.75 89.9128 L1209.53 89.3213 L1222.33 88.8372 L1235.14 88.4606 L1247.95 88.1915 L1260.77 88.0301 L1273.59 87.9763 \n",
       "  L1273.59 87.9763  Z\n",
       "  \" fill=\"#0000ff\" fill-rule=\"evenodd\" fill-opacity=\"0.2\"/>\n",
       "<polyline clip-path=\"url(#clip772)\" style=\"stroke:#000000; stroke-linecap:butt; stroke-linejoin:round; stroke-width:2; stroke-opacity:1; fill:none\" points=\"\n",
       "  1273.59,87.9763 1286.41,88.0301 1299.22,88.1915 1312.04,88.4606 1324.84,88.8372 1337.64,89.3213 1350.43,89.9128 1363.21,90.6116 1375.97,91.4177 1388.72,92.3308 \n",
       "  1401.44,93.3509 1414.15,94.4777 1426.84,95.7112 1439.5,97.0511 1452.13,98.4971 1464.74,100.049 1477.31,101.707 1489.86,103.47 1502.37,105.338 1514.84,107.312 \n",
       "  1527.27,109.39 1539.67,111.572 1552.02,113.858 1564.33,116.247 1576.59,118.74 1588.8,121.335 1600.97,124.033 1613.08,126.832 1625.14,129.734 1637.14,132.736 \n",
       "  1649.09,135.838 1660.97,139.041 1672.8,142.343 1684.56,145.745 1696.25,149.244 1707.88,152.842 1719.44,156.537 1730.93,160.329 1742.35,164.217 1753.69,168.2 \n",
       "  1764.95,172.279 1776.14,176.451 1787.25,180.717 1798.28,185.077 1809.22,189.528 1820.08,194.071 1830.85,198.705 1841.54,203.429 1852.13,208.242 1862.63,213.143 \n",
       "  1873.04,218.133 1883.36,223.21 1893.57,228.372 1903.69,233.62 1913.71,238.953 1923.63,244.369 1933.44,249.868 1943.15,255.45 1952.76,261.112 1962.25,266.854 \n",
       "  1971.64,272.676 1980.91,278.576 1990.08,284.553 1999.13,290.607 2008.06,296.737 2016.88,302.941 2025.58,309.218 2034.16,315.568 2042.63,321.99 2050.97,328.482 \n",
       "  2059.18,335.043 2067.27,341.673 2075.24,348.371 2083.08,355.135 2090.79,361.964 2098.37,368.857 2105.82,375.814 2113.14,382.832 2120.32,389.911 2127.37,397.05 \n",
       "  2134.29,404.248 2141.06,411.503 2147.71,418.815 2154.21,426.181 2160.57,433.602 2166.79,441.076 2172.87,448.601 2178.81,456.177 2184.61,463.801 2190.26,471.474 \n",
       "  2195.76,479.194 2201.12,486.96 2206.33,494.769 2211.4,502.622 2216.31,510.517 2221.08,518.452 2225.69,526.427 2230.16,534.44 2234.47,542.49 2238.63,550.575 \n",
       "  2242.64,558.695 2246.49,566.848 2250.19,575.032 2253.73,583.247 2257.12,591.491 2260.36,599.762 2263.43,608.06 2266.35,616.384 2269.12,624.731 2271.72,633.101 \n",
       "  2274.17,641.492 2276.46,649.903 2278.58,658.332 2280.55,666.778 2282.36,675.241 2284.01,683.718 2285.5,692.208 2286.83,700.71 2288,709.222 2289.01,717.744 \n",
       "  2289.86,726.273 2290.54,734.809 2291.07,743.35 2291.43,751.895 2291.63,760.442 2291.67,768.99 2291.55,777.537 2291.27,786.083 2290.82,794.626 2290.22,803.165 \n",
       "  2289.45,811.698 2288.53,820.223 2287.44,828.74 2286.19,837.248 2284.78,845.744 2283.21,854.228 2281.48,862.698 2279.59,871.152 2277.54,879.59 2275.33,888.011 \n",
       "  2272.96,896.412 2270.44,904.792 2267.75,913.151 2264.91,921.486 2261.92,929.797 2258.76,938.082 2255.45,946.34 2251.98,954.57 2248.36,962.77 2244.58,970.938 \n",
       "  2240.65,979.074 2236.57,987.177 2232.33,995.245 2227.94,1003.28 2223.4,1011.27 2218.71,1019.23 2213.87,1027.14 2208.88,1035.01 2203.74,1042.85 2198.46,1050.63 \n",
       "  2193.03,1058.38 2187.45,1066.07 2181.73,1073.72 2175.86,1081.32 2169.85,1088.87 2163.7,1096.37 2157.41,1103.82 2150.97,1111.21 2144.4,1118.55 2137.69,1125.84 \n",
       "  2130.85,1133.06 2123.86,1140.23 2116.74,1147.34 2109.49,1154.39 2102.11,1161.38 2094.59,1168.3 2086.95,1175.16 2079.17,1181.96 2071.27,1188.69 2063.24,1195.36 \n",
       "  2055.09,1201.95 2046.81,1208.48 2038.41,1214.94 2029.89,1221.32 2021.25,1227.64 2012.49,1233.88 2003.61,1240.04 1994.62,1246.13 1985.51,1252.15 1976.29,1258.09 \n",
       "  1966.96,1263.95 1957.52,1269.73 1947.97,1275.43 1938.31,1281.06 1928.55,1286.6 1918.68,1292.05 1908.71,1297.43 1898.64,1302.72 1888.48,1307.93 1878.21,1313.04 \n",
       "  1867.85,1318.08 1857.39,1323.02 1846.85,1327.88 1836.21,1332.65 1825.48,1337.33 1814.66,1341.92 1803.76,1346.41 1792.78,1350.82 1781.71,1355.13 1770.56,1359.35 \n",
       "  1759.33,1363.48 1748.03,1367.51 1736.65,1371.44 1725.19,1375.28 1713.67,1379.03 1702.08,1382.67 1690.41,1386.22 1678.68,1389.67 1666.89,1393.03 1655.04,1396.28 \n",
       "  1643.12,1399.43 1631.15,1402.48 1619.12,1405.44 1607.03,1408.29 1594.89,1411.03 1582.7,1413.68 1570.47,1416.22 1558.18,1418.67 1545.85,1421 1533.48,1423.24 \n",
       "  1521.06,1425.37 1508.61,1427.39 1496.12,1429.31 1483.59,1431.13 1471.03,1432.84 1458.44,1434.45 1445.82,1435.94 1433.17,1437.34 1420.5,1438.62 1407.8,1439.8 \n",
       "  1395.08,1440.88 1382.35,1441.84 1369.59,1442.7 1356.82,1443.46 1344.04,1444.1 1331.24,1444.64 1318.44,1445.07 1305.63,1445.39 1292.82,1445.61 1280,1445.72 \n",
       "  1267.18,1445.72 1254.36,1445.61 1241.55,1445.39 1228.74,1445.07 1215.93,1444.64 1203.14,1444.1 1190.36,1443.46 1177.59,1442.7 1164.83,1441.84 1152.1,1440.88 \n",
       "  1139.38,1439.8 1126.68,1438.62 1114.01,1437.34 1101.36,1435.94 1088.74,1434.45 1076.15,1432.84 1063.59,1431.13 1051.06,1429.31 1038.57,1427.39 1026.12,1425.37 \n",
       "  1013.7,1423.24 1001.33,1421 988.998,1418.67 976.712,1416.22 964.474,1413.68 952.285,1411.03 940.147,1408.29 928.061,1405.44 916.03,1402.48 904.056,1399.43 \n",
       "  892.141,1396.28 880.286,1393.03 868.493,1389.67 856.765,1386.22 845.103,1382.67 833.508,1379.03 821.984,1375.28 810.531,1371.44 799.151,1367.51 787.847,1363.48 \n",
       "  776.619,1359.35 765.471,1355.13 754.403,1350.82 743.417,1346.41 732.516,1341.92 721.7,1337.33 710.972,1332.65 700.332,1327.88 689.784,1323.02 679.328,1318.08 \n",
       "  668.967,1313.04 658.701,1307.93 648.533,1302.72 638.464,1297.43 628.496,1292.05 618.63,1286.6 608.868,1281.06 599.211,1275.43 589.661,1269.73 580.219,1263.95 \n",
       "  570.888,1258.09 561.668,1252.15 552.561,1246.13 543.568,1240.04 534.69,1233.88 525.93,1227.64 517.289,1221.32 508.767,1214.94 500.367,1208.48 492.089,1201.95 \n",
       "  483.935,1195.36 475.907,1188.69 468.005,1181.96 460.23,1175.16 452.585,1168.3 445.069,1161.38 437.685,1154.39 430.434,1147.34 423.316,1140.23 416.333,1133.06 \n",
       "  409.486,1125.84 402.776,1118.55 396.204,1111.21 389.771,1103.82 383.478,1096.37 377.327,1088.87 371.317,1081.32 365.451,1073.72 359.728,1066.07 354.15,1058.38 \n",
       "  348.719,1050.63 343.433,1042.85 338.296,1035.01 333.306,1027.14 328.466,1019.23 323.775,1011.27 319.235,1003.28 314.847,995.245 310.61,987.177 306.526,979.074 \n",
       "  302.595,970.938 298.819,962.77 295.197,954.57 291.73,946.34 288.418,938.082 285.263,929.797 282.265,921.486 279.423,913.151 276.74,904.792 274.214,896.412 \n",
       "  271.847,888.011 269.638,879.59 267.589,871.152 265.699,862.698 263.97,854.228 262.4,845.744 260.99,837.248 259.741,828.74 258.653,820.223 257.726,811.698 \n",
       "  256.959,803.165 256.354,794.626 255.911,786.083 255.628,777.537 255.507,768.99 255.547,760.442 255.749,751.895 256.112,743.35 256.637,734.809 257.322,726.273 \n",
       "  258.169,717.744 259.177,709.222 260.346,700.71 261.675,692.208 263.165,683.718 264.815,675.241 266.624,666.778 268.594,658.332 270.723,649.903 273.01,641.492 \n",
       "  275.457,633.101 278.062,624.731 280.824,616.384 283.744,608.06 286.821,599.762 290.054,591.491 293.444,583.247 296.988,575.032 300.688,566.848 304.542,558.695 \n",
       "  308.549,550.575 312.709,542.49 317.022,534.44 321.486,526.427 326.102,518.452 330.867,510.517 335.782,502.622 340.846,494.769 346.058,486.96 351.416,479.194 \n",
       "  356.921,471.474 362.571,463.801 368.366,456.177 374.304,448.601 380.385,441.076 386.607,433.602 392.97,426.181 399.473,418.815 406.114,411.503 412.892,404.248 \n",
       "  419.808,397.05 426.858,389.911 434.043,382.832 441.361,375.814 448.811,368.857 456.391,361.964 464.101,355.135 471.94,348.371 479.905,341.673 487.997,335.043 \n",
       "  496.213,328.482 504.552,321.99 513.013,315.568 521.595,309.218 530.296,302.941 539.114,296.737 548.05,290.607 557.1,284.553 566.264,278.576 575.54,272.676 \n",
       "  584.927,266.854 594.422,261.112 604.026,255.45 613.736,249.868 623.55,244.369 633.467,238.953 643.486,233.62 653.605,228.372 663.822,223.21 674.136,218.133 \n",
       "  684.545,213.143 695.047,208.242 705.641,203.429 716.325,198.705 727.097,194.071 737.956,189.528 748.9,185.077 759.927,180.717 771.035,176.451 782.223,172.279 \n",
       "  793.489,168.2 804.832,164.217 816.248,160.329 827.737,156.537 839.297,152.842 850.925,149.244 862.621,145.745 874.382,142.343 886.206,139.041 898.091,135.838 \n",
       "  910.036,132.736 922.039,129.734 934.097,126.832 946.209,124.033 958.373,121.335 970.587,118.74 982.849,116.247 995.158,113.858 1007.51,111.572 1019.9,109.39 \n",
       "  1032.34,107.312 1044.81,105.338 1057.32,103.47 1069.86,101.707 1082.44,100.049 1095.05,98.4971 1107.68,97.0511 1120.34,95.7112 1133.03,94.4777 1145.73,93.3509 \n",
       "  1158.46,92.3308 1171.21,91.4177 1183.97,90.6116 1196.75,89.9128 1209.53,89.3213 1222.33,88.8372 1235.14,88.4606 1247.95,88.1915 1260.77,88.0301 1273.59,87.9763 \n",
       "  1273.59,87.9763 \n",
       "  \"/>\n",
       "</svg>\n"
      ]
     },
     "execution_count": 350,
     "metadata": {},
     "output_type": "execute_result"
    }
   ],
   "source": [
    "using Plots; gr()\n",
    "function circleShape(h,k,r)\n",
    "    theta = LinRange(0, 2*pi, 500)\n",
    "    h .+ r*sin.(theta),k .+ r*cos.(theta)\n",
    "end\n",
    "# circleShape(h,k,r) wwhere (h,k) is the center of the circle and r the radious.\n",
    "plot(circleShape(0,0,0.5), seriestype = [:shape,], lw =0.5,\n",
    "        c= :blue, linecolor = :black,\n",
    "        legend = false, fillalpha = 0.2, aspect_radio =1)"
   ]
  },
  {
   "cell_type": "code",
   "execution_count": 269,
   "metadata": {
    "ExecuteTime": {
     "end_time": "2021-07-10T09:35:42.075000+01:00",
     "start_time": "2021-07-10T08:35:42.067Z"
    }
   },
   "outputs": [
    {
     "ename": "LoadError",
     "evalue": "UndefVarError: xxx not defined",
     "output_type": "error",
     "traceback": [
      "UndefVarError: xxx not defined",
      "",
      "Stacktrace:",
      " [1] top-level scope",
      "   @ :0",
      " [2] eval",
      "   @ .\\boot.jl:360 [inlined]",
      " [3] include_string(mapexpr::typeof(REPL.softscope), mod::Module, code::String, filename::String)",
      "   @ Base .\\loading.jl:1094"
     ]
    }
   ],
   "source": [
    "xxx"
   ]
  },
  {
   "cell_type": "code",
   "execution_count": 260,
   "metadata": {
    "ExecuteTime": {
     "end_time": "2021-07-10T09:13:45.488000+01:00",
     "start_time": "2021-07-10T08:13:45.462Z"
    }
   },
   "outputs": [
    {
     "data": {
      "text/plain": [
       "3"
      ]
     },
     "execution_count": 260,
     "metadata": {},
     "output_type": "execute_result"
    }
   ],
   "source": [
    "r = 1:3:30\n",
    "r.step"
   ]
  },
  {
   "cell_type": "code",
   "execution_count": 253,
   "metadata": {
    "ExecuteTime": {
     "end_time": "2021-07-10T08:56:54.305000+01:00",
     "start_time": "2021-07-10T07:56:54.295Z"
    }
   },
   "outputs": [
    {
     "data": {
      "text/plain": [
       "1×16 transpose(::Vector{Vector{Int64}}) with eltype LinearAlgebra.Transpose{Int64, Vector{Int64}}:\n",
       " [0 0 0 0]  [0 0 0 1]  [0 0 1 0]  …  [1 1 0 1]  [1 1 1 0]  [1 1 1 1]"
      ]
     },
     "execution_count": 253,
     "metadata": {},
     "output_type": "execute_result"
    }
   ],
   "source": [
    "transpose(Q)"
   ]
  },
  {
   "cell_type": "code",
   "execution_count": 8,
   "metadata": {
    "ExecuteTime": {
     "end_time": "2021-07-10T14:28:28.438000+01:00",
     "start_time": "2021-07-10T13:28:28.403Z"
    }
   },
   "outputs": [
    {
     "ename": "LoadError",
     "evalue": "UndefVarError: siteinds not defined",
     "output_type": "error",
     "traceback": [
      "UndefVarError: siteinds not defined",
      "",
      "Stacktrace:",
      " [1] top-level scope",
      "   @ In[8]:2",
      " [2] eval",
      "   @ .\\boot.jl:360 [inlined]",
      " [3] include_string(mapexpr::typeof(REPL.softscope), mod::Module, code::String, filename::String)",
      "   @ Base .\\loading.jl:1094"
     ]
    }
   ],
   "source": [
    "N = 4\n",
    "sites = siteinds(\"S=1/2\",N)\n",
    "states = [isodd(n) ? \"Up\" : \"Dn\" for n=1:N]\n",
    "x = productMPS(sites,states)"
   ]
  },
  {
   "cell_type": "code",
   "execution_count": 233,
   "metadata": {
    "ExecuteTime": {
     "end_time": "2021-07-10T08:30:11.994000+01:00",
     "start_time": "2021-07-10T07:30:11.758Z"
    }
   },
   "outputs": [
    {
     "name": "stdout",
     "output_type": "stream",
     "text": [
      "Vector{Any}[[\"Dn\", \"Dn\", \"Dn\", \"Dn\"]]\n",
      "Vector{Any}[[\"Dn\", \"Dn\", \"Dn\", \"Up\"]]\n",
      "Vector{Any}[[\"Dn\", \"Dn\", \"Up\", \"Dn\"]]\n",
      "Vector{Any}[[\"Dn\", \"Dn\", \"Up\", \"Up\"]]\n",
      "Vector{Any}[[\"Dn\", \"Up\", \"Dn\", \"Dn\"]]\n",
      "Vector{Any}[[\"Dn\", \"Up\", \"Dn\", \"Up\"]]\n",
      "Vector{Any}[[\"Dn\", \"Up\", \"Up\", \"Dn\"]]\n",
      "Vector{Any}[[\"Dn\", \"Up\", \"Up\", \"Up\"]]\n",
      "Vector{Any}[[\"Up\", \"Dn\", \"Dn\", \"Dn\"]]\n",
      "Vector{Any}[[\"Up\", \"Dn\", \"Dn\", \"Up\"]]\n",
      "Vector{Any}[[\"Up\", \"Dn\", \"Up\", \"Dn\"]]\n",
      "Vector{Any}[[\"Up\", \"Dn\", \"Up\", \"Up\"]]\n",
      "Vector{Any}[[\"Up\", \"Up\", \"Dn\", \"Dn\"]]\n",
      "Vector{Any}[[\"Up\", \"Up\", \"Dn\", \"Up\"]]\n",
      "Vector{Any}[[\"Up\", \"Up\", \"Up\", \"Dn\"]]\n",
      "Vector{Any}[[\"Up\", \"Up\", \"Up\", \"Up\"]]\n"
     ]
    }
   ],
   "source": [
    "for i=1:size(QS,1)\n",
    "    sites = siteinds(\"S=1/2\",N)\n",
    "    states = QS[i,:]\n",
    "    println(states)\n",
    "end"
   ]
  },
  {
   "cell_type": "code",
   "execution_count": 254,
   "metadata": {
    "ExecuteTime": {
     "end_time": "2021-07-10T08:59:17.388000+01:00",
     "start_time": "2021-07-10T07:59:17.349Z"
    }
   },
   "outputs": [
    {
     "data": {
      "text/plain": [
       "16-element Vector{Vector{Any}}:\n",
       " [0, 0, 0, 0]\n",
       " [0, 0, 0, \"Up\"]\n",
       " [0, 0, \"Up\", 0]\n",
       " [0, 0, \"Up\", \"Up\"]\n",
       " [0, \"Up\", 0, 0]\n",
       " [0, \"Up\", 0, \"Up\"]\n",
       " [0, \"Up\", \"Up\", 0]\n",
       " [0, \"Up\", \"Up\", \"Up\"]\n",
       " [\"Up\", 0, 0, 0]\n",
       " [\"Up\", 0, 0, \"Up\"]\n",
       " [\"Up\", 0, \"Up\", 0]\n",
       " [\"Up\", 0, \"Up\", \"Up\"]\n",
       " [\"Up\", \"Up\", 0, 0]\n",
       " [\"Up\", \"Up\", 0, \"Up\"]\n",
       " [\"Up\", \"Up\", \"Up\", 0]\n",
       " [\"Up\", \"Up\", \"Up\", \"Up\"]"
      ]
     },
     "execution_count": 254,
     "metadata": {},
     "output_type": "execute_result"
    }
   ],
   "source": [
    "Q[1,:]\n",
    "transpose(Q)\n",
    "QQu = replace.(Q, 1 => \"Up\")"
   ]
  },
  {
   "cell_type": "code",
   "execution_count": 229,
   "metadata": {
    "ExecuteTime": {
     "end_time": "2021-07-10T08:27:26.821000+01:00",
     "start_time": "2021-07-10T07:27:26.766Z"
    }
   },
   "outputs": [
    {
     "ename": "LoadError",
     "evalue": "DimensionMismatch(\"Number of sites and and initial states don't match\")",
     "output_type": "error",
     "traceback": [
      "DimensionMismatch(\"Number of sites and and initial states don't match\")",
      "",
      "Stacktrace:",
      " [1] productMPS(#unused#::Type{Float64}, sites::Vector{Index{Int64}}, states::Vector{Vector{Any}})",
      "   @ ITensors C:\\Users\\Jose-Henry\\.julia\\packages\\ITensors\\Ligbx\\src\\mps\\mps.jl:287",
      " [2] productMPS(sites::Vector{Index{Int64}}, states::Vector{Vector{Any}})",
      "   @ ITensors C:\\Users\\Jose-Henry\\.julia\\packages\\ITensors\\Ligbx\\src\\mps\\mps.jl:326",
      " [3] top-level scope",
      "   @ .\\In[229]:6",
      " [4] eval",
      "   @ .\\boot.jl:360 [inlined]",
      " [5] include_string(mapexpr::typeof(REPL.softscope), mod::Module, code::String, filename::String)",
      "   @ Base .\\loading.jl:1094"
     ]
    }
   ],
   "source": [
    "N = 4\n",
    "\n",
    "for i=1:size(QS,1)\n",
    "   sites = siteinds(\"S=1/2\",N) \n",
    "   states = QS[i,:]\n",
    "   xxx = productMPS(sites, states) \n",
    "   #A[i] = dot(xxx,ψ) \n",
    "   #println(A[i]) \n",
    "end\n",
    "\n"
   ]
  },
  {
   "cell_type": "code",
   "execution_count": 170,
   "metadata": {
    "ExecuteTime": {
     "end_time": "2021-07-09T22:57:13.183000+01:00",
     "start_time": "2021-07-09T21:57:13.177Z"
    }
   },
   "outputs": [
    {
     "data": {
      "text/plain": [
       "MPS\n",
       "[1] IndexSet{2} (dim=2|id=710|\"S=1/2,Site,n=1\") (dim=1|id=734|\"Link,l=1\")\n",
       "[2] IndexSet{3} (dim=1|id=734|\"Link,l=1\") (dim=2|id=420|\"S=1/2,Site,n=2\") (dim=1|id=290|\"Link,l=2\")\n",
       "[3] IndexSet{3} (dim=1|id=290|\"Link,l=2\") (dim=2|id=439|\"S=1/2,Site,n=3\") (dim=1|id=307|\"Link,l=3\")\n",
       "[4] IndexSet{2} (dim=1|id=307|\"Link,l=3\") (dim=2|id=155|\"S=1/2,Site,n=4\")\n"
      ]
     },
     "execution_count": 170,
     "metadata": {},
     "output_type": "execute_result"
    }
   ],
   "source": [
    "N = 4\n",
    "sites = siteinds(\"S=1/2\",N)\n",
    "states = [\"Up\", \"Up\" , \"Up\", \"Up\"]\n",
    "xx = productMPS(sites,states)"
   ]
  },
  {
   "cell_type": "code",
   "execution_count": 218,
   "metadata": {
    "ExecuteTime": {
     "end_time": "2021-07-10T07:50:14.987000+01:00",
     "start_time": "2021-07-10T06:50:14.974Z"
    }
   },
   "outputs": [
    {
     "data": {
      "text/plain": [
       "4-element Vector{Index{Int64}}:\n",
       " (dim=2|id=710|\"S=1/2,Site,n=1\")\n",
       " (dim=2|id=420|\"S=1/2,Site,n=2\")\n",
       " (dim=2|id=439|\"S=1/2,Site,n=3\")\n",
       " (dim=2|id=155|\"S=1/2,Site,n=4\")"
      ]
     },
     "execution_count": 218,
     "metadata": {},
     "output_type": "execute_result"
    }
   ],
   "source": [
    "sites"
   ]
  },
  {
   "cell_type": "code",
   "execution_count": 171,
   "metadata": {
    "ExecuteTime": {
     "end_time": "2021-07-09T22:57:21.648000+01:00",
     "start_time": "2021-07-09T21:57:21.638Z"
    }
   },
   "outputs": [
    {
     "data": {
      "text/plain": [
       "4-element Vector{String}:\n",
       " \"Up\"\n",
       " \"Up\"\n",
       " \"Up\"\n",
       " \"Up\""
      ]
     },
     "execution_count": 171,
     "metadata": {},
     "output_type": "execute_result"
    }
   ],
   "source": [
    "states"
   ]
  },
  {
   "cell_type": "code",
   "execution_count": 160,
   "metadata": {
    "ExecuteTime": {
     "end_time": "2021-07-09T21:47:53.872000+01:00",
     "start_time": "2021-07-09T20:47:53.861Z"
    }
   },
   "outputs": [
    {
     "data": {
      "text/plain": [
       "-0.11451563326169502 + 0.19776667358409206im"
      ]
     },
     "execution_count": 160,
     "metadata": {},
     "output_type": "execute_result"
    }
   ],
   "source": [
    "a = dot(x,ψ)"
   ]
  },
  {
   "cell_type": "code",
   "execution_count": 161,
   "metadata": {
    "ExecuteTime": {
     "end_time": "2021-07-09T21:47:59.780000+01:00",
     "start_time": "2021-07-09T20:47:59.775Z"
    }
   },
   "outputs": [
    {
     "data": {
      "text/plain": [
       "0.05222548744184385"
      ]
     },
     "execution_count": 161,
     "metadata": {},
     "output_type": "execute_result"
    }
   ],
   "source": [
    "p = real(a)^2 + imag(a)^2"
   ]
  },
  {
   "cell_type": "code",
   "execution_count": 182,
   "metadata": {
    "ExecuteTime": {
     "end_time": "2021-07-09T23:37:05.607000+01:00",
     "start_time": "2021-07-09T22:37:05.277Z"
    }
   },
   "outputs": [
    {
     "data": {
      "image/png": "[encoded data removed]"
     },
     "execution_count": 182,
     "metadata": {},
     "output_type": "execute_result"
    }
   ],
   "source": [
    "using Plots; \n",
    "pyplot()\n",
    "scatter(1:10, 1:10, dpi = 150)"
   ]
  },
  {
   "cell_type": "code",
   "execution_count": 332,
   "metadata": {
    "ExecuteTime": {
     "end_time": "2021-07-10T11:10:08.431000+01:00",
     "start_time": "2021-07-10T10:10:08.292Z"
    }
   },
   "outputs": [
    {
     "data": {
      "text/plain": [
       "2-element Vector{Int64}:\n",
       " 3\n",
       " 6"
      ]
     },
     "execution_count": 332,
     "metadata": {},
     "output_type": "execute_result"
    }
   ],
   "source": [
    "B=[2.3,5.8]\n",
    "#int(B)\n",
    "ceil.(Int, B)"
   ]
  },
  {
   "cell_type": "code",
   "execution_count": 335,
   "metadata": {
    "ExecuteTime": {
     "end_time": "2021-07-10T11:12:15.541000+01:00",
     "start_time": "2021-07-10T10:12:15.529Z"
    }
   },
   "outputs": [
    {
     "data": {
      "text/plain": [
       "16-element Vector{Float64}:\n",
       "  2.8907151797355946\n",
       "  4.675959262571748\n",
       "  7.619035945547406\n",
       "  8.708944305380149\n",
       "  8.259013937064166\n",
       "  0.06584865992732075\n",
       "  5.444576625499355\n",
       " 15.15103266831343\n",
       "  4.129722801597156\n",
       "  1.214955336597031\n",
       "  5.222548744184385\n",
       "  6.550942134197875\n",
       "  2.905798459125073\n",
       "  5.575697540718746\n",
       "  2.837069012353039\n",
       " 18.74813938718738"
      ]
     },
     "execution_count": 335,
     "metadata": {},
     "output_type": "execute_result"
    }
   ],
   "source": [
    "p*100"
   ]
  },
  {
   "cell_type": "code",
   "execution_count": null,
   "metadata": {
    "ExecuteTime": {
     "start_time": "2021-07-10T13:22:40.659Z"
    }
   },
   "outputs": [
    {
     "name": "stdout",
     "output_type": "stream",
     "text": [
      "[1.0, 2.0, 3.0, 4.0, 5.0, 6.0, 7.0, 8.0, 9.0, 10.0, 11.0, 12.0, 13.0, 14.0, 15.0, 16.0]\n",
      "[1.0, 1.0, 1.0, 1.0, 1.0, 1.0, 1.0, 1.0, 1.0, 1.0, 1.0, 1.0, 1.0, 1.0, 1.0, 1.0]\n"
     ]
    }
   ],
   "source": [
    "plot()\n",
    "\n",
    "\n",
    "x1 = Array(1.0:1:16.0)\n",
    "y1 = ones(16)\n",
    "println(x1)\n",
    "println(y1)\n",
    "pT = transpose(p*100)\n",
    "for s in pT\n",
    "   scatter(x1,y1,markersize=p, label=\"$p\")\n",
    "end\n",
    "plot!(size=(500,500))"
   ]
  },
  {
   "cell_type": "code",
   "execution_count": 224,
   "metadata": {
    "ExecuteTime": {
     "end_time": "2021-07-10T07:58:00.515000+01:00",
     "start_time": "2021-07-10T06:57:59.948Z"
    }
   },
   "outputs": [
    {
     "data": {
      "image/png": "[encoded data removed]"
     },
     "execution_count": 224,
     "metadata": {},
     "output_type": "execute_result"
    }
   ],
   "source": [
    "plot()\n",
    "for s in [ 10, 20, 30 ]\n",
    "         scatter!(rand(5),rand(5),markersize=s,label=\"$s\")\n",
    "end\n",
    "plot!(size=(500,500))"
   ]
  },
  {
   "cell_type": "code",
   "execution_count": null,
   "metadata": {},
   "outputs": [],
   "source": []
  },
  {
   "cell_type": "code",
   "execution_count": 165,
   "metadata": {
    "ExecuteTime": {
     "end_time": "2021-07-09T22:03:19.266000+01:00",
     "start_time": "2021-07-09T21:03:17.973Z"
    }
   },
   "outputs": [
    {
     "name": "stdout",
     "output_type": "stream",
     "text": [
      "search: \u001b[0m\u001b[1mb\u001b[22m\u001b[0m\u001b[1mi\u001b[22m\u001b[0m\u001b[1mn\u001b[22md \u001b[0m\u001b[1mb\u001b[22m\u001b[0m\u001b[1mi\u001b[22m\u001b[0m\u001b[1mn\u001b[22momial com\u001b[0m\u001b[1mb\u001b[22m\u001b[0m\u001b[1mi\u001b[22m\u001b[0m\u001b[1mn\u001b[22mer com\u001b[0m\u001b[1mb\u001b[22m\u001b[0m\u001b[1mi\u001b[22m\u001b[0m\u001b[1mn\u001b[22medind use_com\u001b[0m\u001b[1mb\u001b[22m\u001b[0m\u001b[1mi\u001b[22m\u001b[0m\u001b[1mn\u001b[22me_contract \u001b[0m\u001b[1mB\u001b[22m\u001b[0m\u001b[1mi\u001b[22mgI\u001b[0m\u001b[1mn\u001b[22mt \u001b[0m\u001b[1mb\u001b[22meg\u001b[0m\u001b[1mi\u001b[22m\u001b[0m\u001b[1mn\u001b[22m\n",
      "\n",
      "Couldn't find \u001b[36mbin\u001b[39m\n",
      "Perhaps you meant bind, big, in, min, sin, begin, In, Main, i, run, dim or dir\n"
     ]
    },
    {
     "data": {
      "text/latex": [
       "No documentation found.\n",
       "\n",
       "Binding \\texttt{bin} does not exist.\n",
       "\n"
      ],
      "text/markdown": [
       "No documentation found.\n",
       "\n",
       "Binding `bin` does not exist.\n"
      ],
      "text/plain": [
       "  No documentation found.\n",
       "\n",
       "  Binding \u001b[36mbin\u001b[39m does not exist."
      ]
     },
     "execution_count": 165,
     "metadata": {},
     "output_type": "execute_result"
    }
   ],
   "source": [
    "?bin"
   ]
  },
  {
   "cell_type": "code",
   "execution_count": 163,
   "metadata": {
    "ExecuteTime": {
     "end_time": "2021-07-09T22:01:14.082000+01:00",
     "start_time": "2021-07-09T21:01:14.035Z"
    }
   },
   "outputs": [
    {
     "ename": "LoadError",
     "evalue": "UndefVarError: bin not defined",
     "output_type": "error",
     "traceback": [
      "UndefVarError: bin not defined",
      "",
      "Stacktrace:",
      " [1] (::var\"#35#36\")(n::Int64)",
      "   @ Main .\\none:0",
      " [2] iterate",
      "   @ .\\generator.jl:47 [inlined]",
      " [3] collect(itr::Base.Generator{UnitRange{Int64}, var\"#35#36\"})",
      "   @ Base .\\array.jl:678",
      " [4] top-level scope",
      "   @ In[163]:2",
      " [5] eval",
      "   @ .\\boot.jl:360 [inlined]",
      " [6] include_string(mapexpr::typeof(REPL.softscope), mod::Module, code::String, filename::String)",
      "   @ Base .\\loading.jl:1094"
     ]
    }
   ],
   "source": [
    "k=4\n",
    "[ bin(n,k) for n in 0:2^k-1 ]\n",
    "[ [ bit == '1' ? 1 : 0 for bit in bin(n,k) ] for n in 0:2^k-1 ]"
   ]
  },
  {
   "cell_type": "code",
   "execution_count": 188,
   "metadata": {
    "ExecuteTime": {
     "end_time": "2021-07-10T06:39:49.252000+01:00",
     "start_time": "2021-07-10T05:39:49.233Z"
    }
   },
   "outputs": [
    {
     "ename": "LoadError",
     "evalue": "invalid redefinition of constant Combinations",
     "output_type": "error",
     "traceback": [
      "invalid redefinition of constant Combinations",
      "",
      "Stacktrace:",
      " [1] top-level scope",
      "   @ In[188]:2",
      " [2] eval",
      "   @ .\\boot.jl:360 [inlined]",
      " [3] include_string(mapexpr::typeof(REPL.softscope), mod::Module, code::String, filename::String)",
      "   @ Base .\\loading.jl:1094"
     ]
    }
   ],
   "source": [
    "import Base.iterate, Base.length\n",
    "struct Combinations{T}\n",
    "    itr::Vector{T}\n",
    "    count::Int64\n",
    "    itrsize::Int64\n",
    "    function Combinations(itr::Vector{T},count::Int) where T\n",
    "        new{T}(itr, Int64(count), length(itr))\n",
    "    end\n",
    "end\n",
    "\n"
   ]
  },
  {
   "cell_type": "code",
   "execution_count": null,
   "metadata": {},
   "outputs": [],
   "source": [
    "function iterate(c::Combinations, state::Int64=0)\n",
    "    if state>=length(c)\n",
    "        return nothing\n",
    "    end\n",
    "    indices=digits(state, base=c.itrsize,pad=c.count)\n",
    "    [c.itr[i] for i in (indices .+1)],state+1\n",
    "end\n",
    "\n",
    "function length(c::Combinations)\n",
    "    length(c.itr) ^ c.count\n",
    "end"
   ]
  },
  {
   "cell_type": "code",
   "execution_count": 183,
   "metadata": {
    "ExecuteTime": {
     "end_time": "2021-07-10T06:20:57.489000+01:00",
     "start_time": "2021-07-10T05:20:57.339Z"
    }
   },
   "outputs": [
    {
     "ename": "LoadError",
     "evalue": "UndefVarError: Combinations not defined",
     "output_type": "error",
     "traceback": [
      "UndefVarError: Combinations not defined",
      "",
      "Stacktrace:",
      " [1] top-level scope",
      "   @ In[183]:1",
      " [2] eval",
      "   @ .\\boot.jl:360 [inlined]",
      " [3] include_string(mapexpr::typeof(REPL.softscope), mod::Module, code::String, filename::String)",
      "   @ Base .\\loading.jl:1094"
     ]
    }
   ],
   "source": [
    "collect(Combinations([0,1],3))"
   ]
  },
  {
   "cell_type": "code",
   "execution_count": 192,
   "metadata": {
    "ExecuteTime": {
     "end_time": "2021-07-10T06:44:44.884000+01:00",
     "start_time": "2021-07-10T05:44:43.675Z"
    }
   },
   "outputs": [
    {
     "data": {
      "text/plain": [
       "16-element Vector{NTuple{4, Int64}}:\n",
       " (0, 0, 0, 0)\n",
       " (0, 0, 0, 1)\n",
       " (0, 0, 1, 0)\n",
       " (0, 0, 1, 1)\n",
       " (0, 1, 0, 0)\n",
       " (0, 1, 0, 1)\n",
       " (0, 1, 1, 0)\n",
       " (0, 1, 1, 1)\n",
       " (1, 0, 0, 0)\n",
       " (1, 0, 0, 1)\n",
       " (1, 0, 1, 0)\n",
       " (1, 0, 1, 1)\n",
       " (1, 1, 0, 0)\n",
       " (1, 1, 0, 1)\n",
       " (1, 1, 1, 0)\n",
       " (1, 1, 1, 1)"
      ]
     },
     "execution_count": 192,
     "metadata": {},
     "output_type": "execute_result"
    }
   ],
   "source": [
    "N=4\n",
    "reverse.(Iterators.product(fill(0:1,N)...))[:]"
   ]
  },
  {
   "cell_type": "code",
   "execution_count": 193,
   "metadata": {
    "ExecuteTime": {
     "end_time": "2021-07-10T06:47:12.977000+01:00",
     "start_time": "2021-07-10T05:47:11.725Z"
    }
   },
   "outputs": [
    {
     "data": {
      "text/plain": [
       "27-element Vector{Vector{Int64}}:\n",
       " [0, 0, 0]\n",
       " [0, 0, 1]\n",
       " [0, 0, 2]\n",
       " [0, 1, 0]\n",
       " [0, 1, 1]\n",
       " [0, 1, 2]\n",
       " [0, 2, 0]\n",
       " [0, 2, 1]\n",
       " [0, 2, 2]\n",
       " [1, 0, 0]\n",
       " [1, 0, 1]\n",
       " [1, 0, 2]\n",
       " [1, 1, 0]\n",
       " ⋮\n",
       " [1, 2, 0]\n",
       " [1, 2, 1]\n",
       " [1, 2, 2]\n",
       " [2, 0, 0]\n",
       " [2, 0, 1]\n",
       " [2, 0, 2]\n",
       " [2, 1, 0]\n",
       " [2, 1, 1]\n",
       " [2, 1, 2]\n",
       " [2, 2, 0]\n",
       " [2, 2, 1]\n",
       " [2, 2, 2]"
      ]
     },
     "execution_count": 193,
     "metadata": {},
     "output_type": "execute_result"
    }
   ],
   "source": [
    "N=3\n",
    "lpad.(string.(0:N^N-1;base=N),N,'0').|>s->Int.(collect(s).-48)"
   ]
  },
  {
   "cell_type": "code",
   "execution_count": 50,
   "metadata": {
    "ExecuteTime": {
     "end_time": "2021-07-10T17:38:44.371000+01:00",
     "start_time": "2021-07-10T16:38:42.665Z"
    }
   },
   "outputs": [
    {
     "data": {
      "text/plain": [
       "8-element Vector{Vector{Int64}}:\n",
       " [0, 0, 0]\n",
       " [0, 0, 1]\n",
       " [0, 1, 0]\n",
       " [0, 1, 1]\n",
       " [1, 0, 0]\n",
       " [1, 0, 1]\n",
       " [1, 1, 0]\n",
       " [1, 1, 1]"
      ]
     },
     "execution_count": 50,
     "metadata": {},
     "output_type": "execute_result"
    }
   ],
   "source": [
    "N=3\n",
    "Q = lpad.(string.(0:2^N-1;base=2),N,'0').|>s->Int.(collect(s).-48)\n",
    "#string.(0:2^N-1;base=2)"
   ]
  },
  {
   "cell_type": "code",
   "execution_count": 51,
   "metadata": {
    "ExecuteTime": {
     "end_time": "2021-07-10T17:39:01.445000+01:00",
     "start_time": "2021-07-10T16:38:59.830Z"
    }
   },
   "outputs": [
    {
     "data": {
      "text/plain": [
       "8-element Vector{Vector{Any}}:\n",
       " [\"Dn\", \"Dn\", \"Dn\"]\n",
       " [\"Dn\", \"Dn\", \"Up\"]\n",
       " [\"Dn\", \"Up\", \"Dn\"]\n",
       " [\"Dn\", \"Up\", \"Up\"]\n",
       " [\"Up\", \"Dn\", \"Dn\"]\n",
       " [\"Up\", \"Dn\", \"Up\"]\n",
       " [\"Up\", \"Up\", \"Dn\"]\n",
       " [\"Up\", \"Up\", \"Up\"]"
      ]
     },
     "execution_count": 51,
     "metadata": {},
     "output_type": "execute_result"
    }
   ],
   "source": [
    "QS = replace.(Q, 1 => \"Up\")\n",
    "QS = replace.(QS, 0 => \"Dn\")"
   ]
  },
  {
   "cell_type": "markdown",
   "metadata": {},
   "source": [
    "## Quantum state tomography"
   ]
  },
  {
   "cell_type": "code",
   "execution_count": 36,
   "metadata": {
    "ExecuteTime": {
     "end_time": "2021-07-08T12:12:59.348000+01:00",
     "start_time": "2021-07-08T11:12:59.331Z"
    }
   },
   "outputs": [
    {
     "data": {
      "text/plain": [
       "1000"
      ]
     },
     "execution_count": 36,
     "metadata": {},
     "output_type": "execute_result"
    }
   ],
   "source": [
    "# Set parameters\n",
    "#N = 4                           # Number of qubits\n",
    "#depth = 4                       # Depth of random circuit\n",
    "nshots = 1000                   # Number of measurements\n",
    "#gates = randomcircuit(N, depth) # Build gates"
   ]
  },
  {
   "cell_type": "code",
   "execution_count": 73,
   "metadata": {
    "ExecuteTime": {
     "end_time": "2021-07-08T23:08:32.933000+01:00",
     "start_time": "2021-07-08T22:08:31.729Z"
    }
   },
   "outputs": [
    {
     "data": {
      "text/plain": [
       "([\"Z\" => 0 \"Z\" => 1 \"X\" => 1 \"Y\" => 0; \"X\" => 0 \"X\" => 0 \"Z\" => 1 \"Z\" => 0; … ; \"X\" => 0 \"X\" => 0 \"X\" => 0 \"Z\" => 0; \"Z\" => 1 \"X\" => 0 \"Z\" => 1 \"X\" => 1], MPS\n",
       "[1] IndexSet{2} (dim=2|id=650|\"Qubit,Site,n=1\") (dim=2|id=679|\"Link,fact\")\n",
       "[2] IndexSet{3} (dim=2|id=904|\"Qubit,Site,n=2\") (dim=2|id=679|\"Link,fact\") (dim=4|id=716|\"Link,fact\")\n",
       "[3] IndexSet{3} (dim=4|id=716|\"Link,fact\") (dim=2|id=396|\"Qubit,Site,n=3\") (dim=2|id=462|\"Link,fact\")\n",
       "[4] IndexSet{2} (dim=2|id=654|\"Qubit,Site,n=4\") (dim=2|id=462|\"Link,fact\")\n",
       ")"
      ]
     },
     "execution_count": 73,
     "metadata": {},
     "output_type": "execute_result"
    }
   ],
   "source": [
    "data, ψ = getsamples(N, gates, nshots)"
   ]
  },
  {
   "cell_type": "code",
   "execution_count": 110,
   "metadata": {
    "ExecuteTime": {
     "end_time": "2021-07-09T09:47:16.631000+01:00",
     "start_time": "2021-07-09T08:47:16.608Z"
    }
   },
   "outputs": [
    {
     "data": {
      "text/plain": [
       "1000×4 Matrix{Pair{String, Int64}}:\n",
       " \"Z\"=>0  \"Z\"=>1  \"X\"=>1  \"Y\"=>0\n",
       " \"X\"=>0  \"X\"=>0  \"Z\"=>1  \"Z\"=>0\n",
       " \"Y\"=>0  \"Y\"=>0  \"Y\"=>0  \"Y\"=>1\n",
       " \"X\"=>0  \"Z\"=>1  \"X\"=>1  \"Y\"=>1\n",
       " \"Z\"=>0  \"Y\"=>0  \"X\"=>0  \"Z\"=>1\n",
       " \"Y\"=>0  \"Z\"=>1  \"Y\"=>1  \"Y\"=>0\n",
       " \"Z\"=>0  \"Y\"=>1  \"Y\"=>1  \"Y\"=>1\n",
       " \"Z\"=>0  \"Z\"=>0  \"Y\"=>0  \"X\"=>1\n",
       " \"X\"=>1  \"X\"=>0  \"Z\"=>1  \"X\"=>1\n",
       " \"Y\"=>0  \"Y\"=>0  \"Z\"=>0  \"X\"=>1\n",
       " \"Y\"=>0  \"Y\"=>0  \"Y\"=>0  \"Z\"=>0\n",
       " \"X\"=>1  \"Y\"=>0  \"Z\"=>0  \"X\"=>1\n",
       " \"Y\"=>0  \"Y\"=>0  \"X\"=>0  \"Z\"=>1\n",
       "    ⋮                    \n",
       " \"X\"=>1  \"Y\"=>0  \"Z\"=>0  \"X\"=>1\n",
       " \"Z\"=>1  \"Y\"=>0  \"Y\"=>1  \"Y\"=>1\n",
       " \"Y\"=>0  \"Z\"=>1  \"Y\"=>1  \"Y\"=>0\n",
       " \"X\"=>0  \"X\"=>1  \"Z\"=>1  \"Z\"=>0\n",
       " \"Y\"=>1  \"X\"=>0  \"X\"=>1  \"Z\"=>1\n",
       " \"Z\"=>1  \"Y\"=>1  \"Z\"=>1  \"Y\"=>0\n",
       " \"Y\"=>1  \"Y\"=>1  \"X\"=>0  \"Z\"=>0\n",
       " \"X\"=>1  \"Z\"=>1  \"Y\"=>1  \"Y\"=>0\n",
       " \"Y\"=>1  \"Y\"=>0  \"X\"=>1  \"Y\"=>1\n",
       " \"Z\"=>0  \"Y\"=>0  \"X\"=>0  \"Z\"=>1\n",
       " \"X\"=>0  \"X\"=>0  \"X\"=>0  \"Z\"=>0\n",
       " \"Z\"=>1  \"X\"=>0  \"Z\"=>1  \"X\"=>1"
      ]
     },
     "execution_count": 110,
     "metadata": {},
     "output_type": "execute_result"
    }
   ],
   "source": [
    "data"
   ]
  },
  {
   "cell_type": "code",
   "execution_count": 112,
   "metadata": {
    "ExecuteTime": {
     "end_time": "2021-07-09T09:49:04.221000+01:00",
     "start_time": "2021-07-09T08:49:04.016Z"
    }
   },
   "outputs": [
    {
     "data": {
      "text/plain": [
       "([\"Z\" => 0 \"Z\" => 1 \"Z\" => 0 \"Z\" => 1; \"Z\" => 1 \"Z\" => 1 \"Z\" => 1 \"Z\" => 1; … ; \"Z\" => 0 \"Z\" => 0 \"Z\" => 1 \"Z\" => 0; \"Z\" => 1 \"Z\" => 1 \"Z\" => 0 \"Z\" => 0], MPS\n",
       "[1] IndexSet{2} (dim=2|id=404|\"Qubit,Site,n=1\") (dim=2|id=15|\"Link,fact\")\n",
       "[2] IndexSet{3} (dim=2|id=35|\"Qubit,Site,n=2\") (dim=2|id=15|\"Link,fact\") (dim=4|id=328|\"Link,fact\")\n",
       "[3] IndexSet{3} (dim=4|id=328|\"Link,fact\") (dim=2|id=756|\"Qubit,Site,n=3\") (dim=2|id=222|\"Link,fact\")\n",
       "[4] IndexSet{2} (dim=2|id=642|\"Qubit,Site,n=4\") (dim=2|id=222|\"Link,fact\")\n",
       ")"
      ]
     },
     "execution_count": 112,
     "metadata": {},
     "output_type": "execute_result"
    }
   ],
   "source": [
    "data_Z, ψ_Z = getsamples(N, gates, nshots,local_basis = [\"Z\"])\n"
   ]
  },
  {
   "cell_type": "code",
   "execution_count": 113,
   "metadata": {
    "ExecuteTime": {
     "end_time": "2021-07-09T09:49:09.833000+01:00",
     "start_time": "2021-07-09T08:49:09.812Z"
    }
   },
   "outputs": [
    {
     "data": {
      "text/plain": [
       "1000×4 Matrix{Pair{String, Int64}}:\n",
       " \"Z\"=>0  \"Z\"=>1  \"Z\"=>0  \"Z\"=>1\n",
       " \"Z\"=>1  \"Z\"=>1  \"Z\"=>1  \"Z\"=>1\n",
       " \"Z\"=>1  \"Z\"=>0  \"Z\"=>1  \"Z\"=>1\n",
       " \"Z\"=>1  \"Z\"=>1  \"Z\"=>1  \"Z\"=>0\n",
       " \"Z\"=>1  \"Z\"=>1  \"Z\"=>0  \"Z\"=>0\n",
       " \"Z\"=>1  \"Z\"=>0  \"Z\"=>1  \"Z\"=>0\n",
       " \"Z\"=>1  \"Z\"=>1  \"Z\"=>1  \"Z\"=>0\n",
       " \"Z\"=>1  \"Z\"=>1  \"Z\"=>0  \"Z\"=>0\n",
       " \"Z\"=>0  \"Z\"=>1  \"Z\"=>1  \"Z\"=>1\n",
       " \"Z\"=>1  \"Z\"=>0  \"Z\"=>1  \"Z\"=>1\n",
       " \"Z\"=>1  \"Z\"=>1  \"Z\"=>1  \"Z\"=>0\n",
       " \"Z\"=>1  \"Z\"=>1  \"Z\"=>0  \"Z\"=>0\n",
       " \"Z\"=>0  \"Z\"=>0  \"Z\"=>0  \"Z\"=>0\n",
       "    ⋮                    \n",
       " \"Z\"=>0  \"Z\"=>0  \"Z\"=>1  \"Z\"=>0\n",
       " \"Z\"=>1  \"Z\"=>0  \"Z\"=>1  \"Z\"=>1\n",
       " \"Z\"=>0  \"Z\"=>0  \"Z\"=>0  \"Z\"=>0\n",
       " \"Z\"=>1  \"Z\"=>1  \"Z\"=>1  \"Z\"=>1\n",
       " \"Z\"=>0  \"Z\"=>0  \"Z\"=>0  \"Z\"=>0\n",
       " \"Z\"=>1  \"Z\"=>1  \"Z\"=>0  \"Z\"=>1\n",
       " \"Z\"=>0  \"Z\"=>1  \"Z\"=>0  \"Z\"=>1\n",
       " \"Z\"=>1  \"Z\"=>1  \"Z\"=>1  \"Z\"=>0\n",
       " \"Z\"=>1  \"Z\"=>0  \"Z\"=>1  \"Z\"=>1\n",
       " \"Z\"=>1  \"Z\"=>0  \"Z\"=>1  \"Z\"=>1\n",
       " \"Z\"=>0  \"Z\"=>0  \"Z\"=>1  \"Z\"=>0\n",
       " \"Z\"=>1  \"Z\"=>1  \"Z\"=>0  \"Z\"=>0"
      ]
     },
     "execution_count": 113,
     "metadata": {},
     "output_type": "execute_result"
    }
   ],
   "source": [
    "data_Z"
   ]
  },
  {
   "cell_type": "code",
   "execution_count": null,
   "metadata": {},
   "outputs": [],
   "source": []
  },
  {
   "cell_type": "code",
   "execution_count": 130,
   "metadata": {
    "ExecuteTime": {
     "end_time": "2021-07-09T13:44:48.397000+01:00",
     "start_time": "2021-07-09T12:44:46.463Z"
    }
   },
   "outputs": [],
   "source": [
    "import Pkg; Pkg.add(\"ITensors\")"
   ]
  },
  {
   "cell_type": "code",
   "execution_count": 3,
   "metadata": {
    "ExecuteTime": {
     "end_time": "2021-07-07T11:48:02.727000+01:00",
     "start_time": "2021-07-07T10:47:03.574Z"
    }
   },
   "outputs": [
    {
     "data": {
      "text/plain": [
       "ITensors.MPS\n",
       "[1] IndexSet{2} (dim=2|id=648|\"Qubit,Site,n=1\") (dim=1|id=974|\"Link,fact\")\n",
       "[2] IndexSet{3} (dim=1|id=974|\"Link,fact\") (dim=2|id=555|\"Qubit,Site,n=2\") (dim=1|id=686|\"Link,fact\")\n",
       "[3] IndexSet{3} (dim=2|id=545|\"Qubit,Site,n=3\") (dim=2|id=313|\"Link,fact\") (dim=1|id=686|\"Link,fact\")\n",
       "[4] IndexSet{2} (dim=2|id=505|\"Qubit,Site,n=4\") (dim=2|id=313|\"Link,fact\")\n"
      ]
     },
     "execution_count": 3,
     "metadata": {},
     "output_type": "execute_result"
    }
   ],
   "source": [
    "using PastaQ\n",
    "\n",
    "N = 4   # Number of qubits\n",
    "\n",
    "# Building a circuit data-structure\n",
    "gates = [(\"X\" , 1),                        # Pauli X on qubit 1\n",
    "         (\"CX\", (1, 3)),                   # Controlled-X on qubits [1,3]\n",
    "         (\"Rx\", 2, (θ=0.5,)),              # Rotation of θ around X\n",
    "         (\"Rn\", 3, (θ=0.5, ϕ=0.2, λ=1.2)), # Arbitrary rotation with angles (θ,ϕ,λ)\n",
    "         (\"√SWAP\", (3, 4)),                # Sqrt Swap on qubits [2,3]\n",
    "         (\"T\" , 4)]                        # T gate on qubit 4\n",
    "\n",
    "# Returns the MPS at the output of the quantum circuit: `|ψ⟩ = Û|0,0,…,0⟩`\n",
    "# First the gate (\"X\" , 1) is applied, then (\"CX\", (1, 3)), etc.\n",
    "ψ = runcircuit(N, gates)\n",
    "# This is equivalent to:\n",
    "# julia> ψ0 = qubits(N) # Initialize |ψ⟩ to |0,0,…⟩\n",
    "# julia> ψ = runcircuit(ψ0,gates) # Run the circuit"
   ]
  },
  {
   "cell_type": "code",
   "execution_count": 106,
   "metadata": {
    "ExecuteTime": {
     "end_time": "2021-07-09T09:39:25.781000+01:00",
     "start_time": "2021-07-09T08:39:25.745Z"
    }
   },
   "outputs": [
    {
     "name": "stdout",
     "output_type": "stream",
     "text": [
      "gates = Vector{var\"#s20\"} where var\"#s20\"[Any[(\"RandomUnitary\", (1, 2), (random_matrix = ComplexF64[0.9991938390100242 + 0.23545947105429144im 0.8471275276349396 + 0.7363087546042262im -0.5284427148913899 + 0.8181898398759267im 0.10838085440853112 - 0.3374552682570139im; 0.36303830103350354 - 0.2849072639851861im 1.0977683873600708 + 1.1066039661645766im -0.5235201759051478 + 0.09490078574891307im -0.43718165724727787 + 1.0212650442002857im; -0.6390882375258403 + 0.24257844042037546im -0.12134134151055562 + 0.9945419103657018im -0.17334043987951392 - 1.2747938997610258im 0.11213324428310145 + 0.18466549104290358im; 0.19123743714122443 + 0.3312992746180467im -0.568256037272006 - 0.756038324295267im 0.5714783893461589 - 0.17092862874659112im 0.7382810108981459 + 0.43255663626160934im],)), (\"RandomUnitary\", (3, 4), (random_matrix = ComplexF64[0.8275245030362267 - 1.1070089272077825im 0.2616555595150274 + 0.5479081498122723im -0.16192820531911362 - 0.02495261370458745im -0.11833465558996537 + 0.3251063655770082im; 0.2738818593004492 + 0.22436387978551586im -0.3885022135269601 + 0.24523545125232327im -0.03179776979722208 + 0.15467384943986107im 0.4839821130436473 - 0.33038999853352063im; -0.2233645881714225 + 0.19521343219840614im -0.24409615495507406 + 0.20454525650144773im -0.23029247600691374 - 1.1773269800665065im 0.2037257682085351 + 0.6496119016406403im; 0.2734592813823246 + 0.36197544791341163im 0.7508579982522319 + 0.3648710042879633im -0.41625590063502443 + 0.5624855161288648im 0.8981665533418847 - 0.1148509812507643im],))], Any[(\"RandomUnitary\", (2, 3), (random_matrix = ComplexF64[0.44639764470884963 - 0.5010326560014502im -0.19460375059942295 - 0.6183619800089986im 0.878829570312123 + 0.6808464613366348im -0.513469890086705 - 0.7141038345521897im; 0.03222432824095848 + 0.4535587368986954im -0.09815608442242164 - 0.05163439963803711im 0.4883438254426079 - 1.32028911545154im 0.5842543724404107 + 0.7153741833126444im; -0.6236916065333266 + 0.3774464943404775im 0.43866232756992213 + 0.5405499290326217im -1.1515504423734002 - 0.4901044460248216im -0.3031612146979584 + 0.3802838372998664im; -0.5615554234542653 + 0.0017052486477770734im -0.326113401986481 + 0.7501447351331147im 1.2043075959992031 - 0.5012401418017066im -0.07029223804471527 + 0.32244199558073755im],))], Any[(\"RandomUnitary\", (1, 2), (random_matrix = ComplexF64[1.0799985793712772 - 2.1833911084596207im -1.2247858028015577 - 1.1820900002496617im -0.7312373679287894 + 0.7035210214578772im -0.4793380187957199 - 0.90235157236472im; -1.3353604051482153 - 0.4880567222309044im 0.04050560926072938 - 0.028636505680993893im -1.247791879108157 + 0.23464977013810973im -0.38326041280466605 + 0.8774830306034563im; 0.5119964448929459 + 0.10221838063667131im 0.7771903949991723 + 1.4496477840331934im -0.7263623167283269 + 0.4395097577283376im -0.2026085430156231 + 0.7873236286330453im; -1.1361448515797687 - 0.8299729026350112im -0.18589124937779808 + 0.7131459264846234im 1.0712599949371995 - 0.5825803035319712im -0.6791901294281404 - 0.6086421120403214im],)), (\"RandomUnitary\", (3, 4), (random_matrix = ComplexF64[0.848747369687067 - 0.2049017356970174im 0.05919807110931516 + 0.22266895344442142im 0.548628645703066 - 0.030209918945941962im -0.3411303644992357 + 0.026850682964896632im; 0.916157608769867 - 0.0691871568012424im -0.1682014927178031 + 0.7204384456170838im -0.680423070000274 + 1.1157689000654325im -0.23282355055296305 + 0.6428298031897782im; 0.911615608213526 - 1.1502301734838567im -1.1323537927416807 + 0.22132532447987877im -0.3592327427109806 - 0.47775765290262273im -0.6355956136895513 + 0.4287525564592977im; -0.6276167951085269 + 0.09710719664012214im -0.5289756940637463 + 1.7758374412502254im 1.489358870809243 + 0.5995626374434967im -0.7144390629293544 + 0.7856130467628843im],))], Any[(\"RandomUnitary\", (2, 3), (random_matrix = ComplexF64[1.582216660390852 + 0.8686104111647976im 0.5802617058660922 + 0.5536022341283295im 1.0156433096277253 - 0.9013979822695152im 1.1646821955003497 + 1.5230927421762224im; -0.39010496592937005 - 1.1758059346089582im 0.9025009798018161 - 0.3699583178947012im -0.5223922382904204 + 1.047626909820745im -1.5679878357843287 - 0.31269363942806055im; 0.31774026230219576 + 1.1358217528209862im -0.8216368259802233 + 0.7280481420091811im 0.17817093126364178 - 1.1101815627278961im 0.42067426029669025 - 0.17190958347732305im; -0.4007630333905497 - 0.4587417288123215im -1.2813242204111257 - 0.7400494481463137im -0.5533133430727663 + 0.4688878148767325im -0.9166622362211168 - 0.4205379754546694im],))]]\n"
     ]
    },
    {
     "data": {
      "text/plain": [
       "MPO\n",
       "[1] IndexSet{3} (dim=2|id=367|\"Qubit,Site,n=1\")' (dim=2|id=367|\"Qubit,Site,n=1\") (dim=4|id=663|\"Link,fact\")\n",
       "[2] IndexSet{4} (dim=2|id=267|\"Qubit,Site,n=2\")' (dim=4|id=663|\"Link,fact\") (dim=2|id=267|\"Qubit,Site,n=2\") (dim=16|id=186|\"Link,fact\")\n",
       "[3] IndexSet{4} (dim=16|id=186|\"Link,fact\") (dim=2|id=967|\"Qubit,Site,n=3\")' (dim=2|id=967|\"Qubit,Site,n=3\") (dim=4|id=428|\"Link,fact\")\n",
       "[4] IndexSet{3} (dim=2|id=763|\"Qubit,Site,n=4\")' (dim=2|id=763|\"Qubit,Site,n=4\") (dim=4|id=428|\"Link,fact\")\n"
      ]
     },
     "execution_count": 106,
     "metadata": {},
     "output_type": "execute_result"
    }
   ],
   "source": [
    "using PastaQ\n",
    "\n",
    "# Example 1a: random quantum circuit\n",
    "\n",
    "N = 4     # Number of qubits\n",
    "depth = 4 # Depth of the circuit\n",
    "\n",
    "# Generate a random quantum circuit built out of layers of single-qubit random\n",
    "# rotations + CX gates, alternating between even and of odd layers.\n",
    "gates = randomcircuit(N, depth)\n",
    "\n",
    "@show gates\n",
    "\n",
    "# Returns the MPS at the output of the quantum circuit: `|ψ⟩ = Û|0,0,…,0⟩`\n",
    "ψ = runcircuit(N, gates)\n",
    "\n",
    "# Generate the MPO for the unitary circuit:\n",
    "U = runcircuit(N, gates; process=true)"
   ]
  },
  {
   "cell_type": "code",
   "execution_count": 133,
   "metadata": {
    "ExecuteTime": {
     "end_time": "2021-07-09T13:55:21.732000+01:00",
     "start_time": "2021-07-09T12:55:12.945Z"
    }
   },
   "outputs": [],
   "source": [
    "Pkg.add(\"PkgTemplates\")"
   ]
  },
  {
   "cell_type": "code",
   "execution_count": 134,
   "metadata": {
    "ExecuteTime": {
     "end_time": "2021-07-09T13:58:50.188000+01:00",
     "start_time": "2021-07-09T12:58:50.173Z"
    }
   },
   "outputs": [
    {
     "ename": "LoadError",
     "evalue": "syntax: extra token \"MyITensorsPkg\" after end of expression",
     "output_type": "error",
     "traceback": [
      "syntax: extra token \"MyITensorsPkg\" after end of expression",
      "",
      "Stacktrace:",
      " [1] top-level scope",
      "   @ In[134]:1",
      " [2] eval",
      "   @ .\\boot.jl:360 [inlined]",
      " [3] include_string(mapexpr::typeof(REPL.softscope), mod::Module, code::String, filename::String)",
      "   @ Base .\\loading.jl:1094"
     ]
    }
   ],
   "source": [
    "test MyITensorsPkg"
   ]
  },
  {
   "cell_type": "code",
   "execution_count": 135,
   "metadata": {
    "ExecuteTime": {
     "end_time": "2021-07-09T15:00:27.491000+01:00",
     "start_time": "2021-07-09T14:00:27.381Z"
    }
   },
   "outputs": [],
   "source": [
    "]"
   ]
  },
  {
   "cell_type": "code",
   "execution_count": 1,
   "metadata": {
    "ExecuteTime": {
     "end_time": "2021-07-07T11:37:06.875000+01:00",
     "start_time": "2021-07-07T10:37:05.988Z"
    }
   },
   "outputs": [
    {
     "name": "stdout",
     "output_type": "stream",
     "text": [
      "Hello World\n"
     ]
    }
   ],
   "source": [
    "println(\"Hello World\")"
   ]
  },
  {
   "cell_type": "code",
   "execution_count": 9,
   "metadata": {
    "ExecuteTime": {
     "end_time": "2021-07-10T14:29:35.092000+01:00",
     "start_time": "2021-07-10T13:29:35.036Z"
    }
   },
   "outputs": [],
   "source": [
    "using ITensors\n",
    "N = 3\n",
    "s = siteinds(\"S=1/2\", 3);\n",
    "#M1 = randomMPS(s; linkdims=3);\n",
    "#norm(M1)"
   ]
  },
  {
   "cell_type": "code",
   "execution_count": null,
   "metadata": {},
   "outputs": [],
   "source": []
  },
  {
   "cell_type": "code",
   "execution_count": null,
   "metadata": {},
   "outputs": [],
   "source": []
  },
  {
   "cell_type": "code",
   "execution_count": null,
   "metadata": {},
   "outputs": [],
   "source": []
  },
  {
   "cell_type": "code",
   "execution_count": 156,
   "metadata": {
    "ExecuteTime": {
     "end_time": "2021-07-09T21:14:26.343000+01:00",
     "start_time": "2021-07-09T20:14:25.489Z"
    }
   },
   "outputs": [
    {
     "data": {
      "text/plain": [
       "4-element Vector{Index{Int64}}:\n",
       " (dim=2|id=270|\"S=1/2,Site,n=1\")\n",
       " (dim=2|id=700|\"S=1/2,Site,n=2\")\n",
       " (dim=2|id=795|\"S=1/2,Site,n=3\")\n",
       " (dim=2|id=445|\"S=1/2,Site,n=4\")"
      ]
     },
     "execution_count": 156,
     "metadata": {},
     "output_type": "execute_result"
    }
   ],
   "source": [
    "sites"
   ]
  },
  {
   "cell_type": "code",
   "execution_count": 150,
   "metadata": {
    "ExecuteTime": {
     "end_time": "2021-07-09T21:06:56.717000+01:00",
     "start_time": "2021-07-09T20:06:56.708Z"
    }
   },
   "outputs": [
    {
     "data": {
      "text/plain": [
       "MPS\n",
       "[1] IndexSet{2} (dim=2|id=270|\"S=1/2,Site,n=1\") (dim=1|id=644|\"Link,l=1\")\n",
       "[2] IndexSet{3} (dim=1|id=644|\"Link,l=1\") (dim=2|id=700|\"S=1/2,Site,n=2\") (dim=1|id=517|\"Link,l=2\")\n",
       "[3] IndexSet{3} (dim=1|id=517|\"Link,l=2\") (dim=2|id=795|\"S=1/2,Site,n=3\") (dim=1|id=330|\"Link,l=3\")\n",
       "[4] IndexSet{2} (dim=1|id=330|\"Link,l=3\") (dim=2|id=445|\"S=1/2,Site,n=4\")\n"
      ]
     },
     "execution_count": 150,
     "metadata": {},
     "output_type": "execute_result"
    }
   ],
   "source": [
    "x"
   ]
  },
  {
   "cell_type": "code",
   "execution_count": 153,
   "metadata": {
    "ExecuteTime": {
     "end_time": "2021-07-09T21:08:43.604000+01:00",
     "start_time": "2021-07-09T20:08:43.596Z"
    }
   },
   "outputs": [
    {
     "data": {
      "text/plain": [
       "0.1433529190419143"
      ]
     },
     "execution_count": 153,
     "metadata": {},
     "output_type": "execute_result"
    }
   ],
   "source": [
    "real(a)^2"
   ]
  },
  {
   "cell_type": "code",
   "execution_count": null,
   "metadata": {},
   "outputs": [],
   "source": []
  },
  {
   "cell_type": "code",
   "execution_count": null,
   "metadata": {},
   "outputs": [],
   "source": []
  },
  {
   "cell_type": "code",
   "execution_count": null,
   "metadata": {},
   "outputs": [],
   "source": []
  },
  {
   "cell_type": "code",
   "execution_count": null,
   "metadata": {},
   "outputs": [],
   "source": []
  },
  {
   "cell_type": "code",
   "execution_count": null,
   "metadata": {},
   "outputs": [],
   "source": []
  },
  {
   "cell_type": "code",
   "execution_count": null,
   "metadata": {},
   "outputs": [],
   "source": []
  },
  {
   "cell_type": "code",
   "execution_count": null,
   "metadata": {},
   "outputs": [],
   "source": []
  },
  {
   "cell_type": "code",
   "execution_count": null,
   "metadata": {},
   "outputs": [],
   "source": []
  },
  {
   "cell_type": "code",
   "execution_count": 124,
   "metadata": {
    "ExecuteTime": {
     "end_time": "2021-07-09T10:39:12.804000+01:00",
     "start_time": "2021-07-09T09:39:12.751Z"
    }
   },
   "outputs": [
    {
     "ename": "LoadError",
     "evalue": "MethodError: no method matching randomMPS(::Vector{Index{Int64}}; linkdims=8)\n\u001b[0mClosest candidates are:\n\u001b[0m  randomMPS(::Vector{var\"#s84\"} where var\"#s84\"<:Index) at C:\\Users\\Jose-Henry\\.julia\\packages\\ITensors\\Ligbx\\src\\mps\\mps.jl:192\u001b[91m got unsupported keyword argument \"linkdims\"\u001b[39m\n\u001b[0m  randomMPS(::Vector{var\"#s83\"} where var\"#s83\"<:Index, \u001b[91m::Int64\u001b[39m) at C:\\Users\\Jose-Henry\\.julia\\packages\\ITensors\\Ligbx\\src\\mps\\mps.jl:192\u001b[91m got unsupported keyword argument \"linkdims\"\u001b[39m\n\u001b[0m  randomMPS(::Vector{var\"#s84\"} where var\"#s84\"<:Index, \u001b[91m::Any\u001b[39m) at C:\\Users\\Jose-Henry\\.julia\\packages\\ITensors\\Ligbx\\src\\mps\\mps.jl:204\u001b[91m got unsupported keyword argument \"linkdims\"\u001b[39m\n\u001b[0m  ...",
     "output_type": "error",
     "traceback": [
      "MethodError: no method matching randomMPS(::Vector{Index{Int64}}; linkdims=8)\n\u001b[0mClosest candidates are:\n\u001b[0m  randomMPS(::Vector{var\"#s84\"} where var\"#s84\"<:Index) at C:\\Users\\Jose-Henry\\.julia\\packages\\ITensors\\Ligbx\\src\\mps\\mps.jl:192\u001b[91m got unsupported keyword argument \"linkdims\"\u001b[39m\n\u001b[0m  randomMPS(::Vector{var\"#s83\"} where var\"#s83\"<:Index, \u001b[91m::Int64\u001b[39m) at C:\\Users\\Jose-Henry\\.julia\\packages\\ITensors\\Ligbx\\src\\mps\\mps.jl:192\u001b[91m got unsupported keyword argument \"linkdims\"\u001b[39m\n\u001b[0m  randomMPS(::Vector{var\"#s84\"} where var\"#s84\"<:Index, \u001b[91m::Any\u001b[39m) at C:\\Users\\Jose-Henry\\.julia\\packages\\ITensors\\Ligbx\\src\\mps\\mps.jl:204\u001b[91m got unsupported keyword argument \"linkdims\"\u001b[39m\n\u001b[0m  ...",
      "",
      "Stacktrace:",
      " [1] top-level scope",
      "   @ In[124]:5",
      " [2] eval",
      "   @ .\\boot.jl:360 [inlined]",
      " [3] include_string(mapexpr::typeof(REPL.softscope), mod::Module, code::String, filename::String)",
      "   @ Base .\\loading.jl:1094"
     ]
    }
   ],
   "source": [
    "using ITensors\n",
    "N = 10\n",
    "\n",
    "s = siteinds(\"S=1/2\",N)\n",
    "psi = randomMPS(s; linkdims=8)\n",
    "Z = expect(psi,\"Sz\";site_range=2:6)"
   ]
  },
  {
   "cell_type": "code",
   "execution_count": null,
   "metadata": {},
   "outputs": [],
   "source": []
  },
  {
   "cell_type": "code",
   "execution_count": null,
   "metadata": {},
   "outputs": [],
   "source": []
  },
  {
   "cell_type": "code",
   "execution_count": 75,
   "metadata": {
    "ExecuteTime": {
     "end_time": "2021-07-08T23:14:09.026000+01:00",
     "start_time": "2021-07-08T22:14:09.004Z"
    }
   },
   "outputs": [
    {
     "data": {
      "text/plain": [
       "Matrix{Pair{String, Int64}} (alias for Array{Pair{String, Int64}, 2})"
      ]
     },
     "execution_count": 75,
     "metadata": {},
     "output_type": "execute_result"
    }
   ],
   "source": [
    "typeof(data)"
   ]
  },
  {
   "cell_type": "code",
   "execution_count": 84,
   "metadata": {
    "ExecuteTime": {
     "end_time": "2021-07-08T23:25:20.172000+01:00",
     "start_time": "2021-07-08T22:25:20.152Z"
    }
   },
   "outputs": [
    {
     "ename": "LoadError",
     "evalue": "TypeError: in Type{...} expression, expected UnionAll, got a value of type Matrix{Pair{String, Int64}}",
     "output_type": "error",
     "traceback": [
      "TypeError: in Type{...} expression, expected UnionAll, got a value of type Matrix{Pair{String, Int64}}",
      "",
      "Stacktrace:",
      " [1] top-level scope",
      "   @ In[84]:3",
      " [2] eval",
      "   @ .\\boot.jl:360 [inlined]",
      " [3] include_string(mapexpr::typeof(REPL.softscope), mod::Module, code::String, filename::String)",
      "   @ Base .\\loading.jl:1094"
     ]
    }
   ],
   "source": [
    "#collect(data)\n",
    "#Accumulator(data)\n",
    "data{\"X\"}"
   ]
  },
  {
   "cell_type": "code",
   "execution_count": 94,
   "metadata": {
    "ExecuteTime": {
     "end_time": "2021-07-08T23:52:50.446000+01:00",
     "start_time": "2021-07-08T22:52:50.425Z"
    }
   },
   "outputs": [
    {
     "data": {
      "text/plain": [
       "1000×4 Matrix{Pair{String, Int64}}:\n",
       " \"Z\"=>0  \"Z\"=>1  \"X\"=>1  \"Y\"=>0\n",
       " \"X\"=>0  \"X\"=>0  \"Z\"=>1  \"Z\"=>0\n",
       " \"Y\"=>0  \"Y\"=>0  \"Y\"=>0  \"Y\"=>1\n",
       " \"X\"=>0  \"Z\"=>1  \"X\"=>1  \"Y\"=>1\n",
       " \"Z\"=>0  \"Y\"=>0  \"X\"=>0  \"Z\"=>1\n",
       " \"Y\"=>0  \"Z\"=>1  \"Y\"=>1  \"Y\"=>0\n",
       " \"Z\"=>0  \"Y\"=>1  \"Y\"=>1  \"Y\"=>1\n",
       " \"Z\"=>0  \"Z\"=>0  \"Y\"=>0  \"X\"=>1\n",
       " \"X\"=>1  \"X\"=>0  \"Z\"=>1  \"X\"=>1\n",
       " \"Y\"=>0  \"Y\"=>0  \"Z\"=>0  \"X\"=>1\n",
       " \"Y\"=>0  \"Y\"=>0  \"Y\"=>0  \"Z\"=>0\n",
       " \"X\"=>1  \"Y\"=>0  \"Z\"=>0  \"X\"=>1\n",
       " \"Y\"=>0  \"Y\"=>0  \"X\"=>0  \"Z\"=>1\n",
       "    ⋮                    \n",
       " \"X\"=>1  \"Y\"=>0  \"Z\"=>0  \"X\"=>1\n",
       " \"Z\"=>1  \"Y\"=>0  \"Y\"=>1  \"Y\"=>1\n",
       " \"Y\"=>0  \"Z\"=>1  \"Y\"=>1  \"Y\"=>0\n",
       " \"X\"=>0  \"X\"=>1  \"Z\"=>1  \"Z\"=>0\n",
       " \"Y\"=>1  \"X\"=>0  \"X\"=>1  \"Z\"=>1\n",
       " \"Z\"=>1  \"Y\"=>1  \"Z\"=>1  \"Y\"=>0\n",
       " \"Y\"=>1  \"Y\"=>1  \"X\"=>0  \"Z\"=>0\n",
       " \"X\"=>1  \"Z\"=>1  \"Y\"=>1  \"Y\"=>0\n",
       " \"Y\"=>1  \"Y\"=>0  \"X\"=>1  \"Y\"=>1\n",
       " \"Z\"=>0  \"Y\"=>0  \"X\"=>0  \"Z\"=>1\n",
       " \"X\"=>0  \"X\"=>0  \"X\"=>0  \"Z\"=>0\n",
       " \"Z\"=>1  \"X\"=>0  \"Z\"=>1  \"X\"=>1"
      ]
     },
     "execution_count": 94,
     "metadata": {},
     "output_type": "execute_result"
    }
   ],
   "source": [
    "data"
   ]
  },
  {
   "cell_type": "code",
   "execution_count": 103,
   "metadata": {
    "ExecuteTime": {
     "end_time": "2021-07-08T23:59:45.711000+01:00",
     "start_time": "2021-07-08T22:59:45.696Z"
    }
   },
   "outputs": [
    {
     "data": {
      "text/plain": [
       "1000-element Vector{Pair{String, Int64}}:\n",
       " \"Z\" => 0\n",
       " \"X\" => 0\n",
       " \"Y\" => 0\n",
       " \"X\" => 0\n",
       " \"Z\" => 0\n",
       " \"Y\" => 0\n",
       " \"Z\" => 0\n",
       " \"Z\" => 0\n",
       " \"X\" => 1\n",
       " \"Y\" => 0\n",
       " \"Y\" => 0\n",
       " \"X\" => 1\n",
       " \"Y\" => 0\n",
       "     ⋮\n",
       " \"X\" => 1\n",
       " \"Z\" => 1\n",
       " \"Y\" => 0\n",
       " \"X\" => 0\n",
       " \"Y\" => 1\n",
       " \"Z\" => 1\n",
       " \"Y\" => 1\n",
       " \"X\" => 1\n",
       " \"Y\" => 1\n",
       " \"Z\" => 0\n",
       " \"X\" => 0\n",
       " \"Z\" => 1"
      ]
     },
     "execution_count": 103,
     "metadata": {},
     "output_type": "execute_result"
    }
   ],
   "source": [
    "data[:,1]"
   ]
  },
  {
   "cell_type": "code",
   "execution_count": 105,
   "metadata": {
    "ExecuteTime": {
     "end_time": "2021-07-09T00:03:27.397000+01:00",
     "start_time": "2021-07-08T23:03:27.372Z"
    }
   },
   "outputs": [
    {
     "data": {
      "text/plain": [
       "Base.Generator{Base.OneTo{Int64}, Base.var\"#191#192\"{Matrix{Pair{String, Int64}}}}(Base.var\"#191#192\"{Matrix{Pair{String, Int64}}}([\"Z\" => 0 \"Z\" => 1 \"X\" => 1 \"Y\" => 0; \"X\" => 0 \"X\" => 0 \"Z\" => 1 \"Z\" => 0; … ; \"X\" => 0 \"X\" => 0 \"X\" => 0 \"Z\" => 0; \"Z\" => 1 \"X\" => 0 \"Z\" => 1 \"X\" => 1]), Base.OneTo(1000))"
      ]
     },
     "execution_count": 105,
     "metadata": {},
     "output_type": "execute_result"
    }
   ],
   "source": [
    "eachrow(data)"
   ]
  },
  {
   "cell_type": "code",
   "execution_count": 123,
   "metadata": {
    "ExecuteTime": {
     "end_time": "2021-07-09T10:37:06.569000+01:00",
     "start_time": "2021-07-09T09:37:06.484Z"
    }
   },
   "outputs": [
    {
     "ename": "LoadError",
     "evalue": "MethodError: no method matching randomITensor(::Index{Int64}, ::Int64, ::Int64)\n\u001b[0mClosest candidates are:\n\u001b[0m  randomITensor(\u001b[91m::Index...\u001b[39m) at C:\\Users\\Jose-Henry\\.julia\\packages\\ITensors\\Ligbx\\src\\itensor.jl:1204",
     "output_type": "error",
     "traceback": [
      "MethodError: no method matching randomITensor(::Index{Int64}, ::Int64, ::Int64)\n\u001b[0mClosest candidates are:\n\u001b[0m  randomITensor(\u001b[91m::Index...\u001b[39m) at C:\\Users\\Jose-Henry\\.julia\\packages\\ITensors\\Ligbx\\src\\itensor.jl:1204",
      "",
      "Stacktrace:",
      " [1] top-level scope",
      "   @ In[123]:8",
      " [2] eval",
      "   @ .\\boot.jl:360 [inlined]",
      " [3] include_string(mapexpr::typeof(REPL.softscope), mod::Module, code::String, filename::String)",
      "   @ Base .\\loading.jl:1094"
     ]
    }
   ],
   "source": [
    "using ITensors\n",
    "\n",
    "#define indices\n",
    "l = Index(2,\"l\")\n",
    "\n",
    "#define tensors\n",
    "#A = randomITensor(l,m,r)\n",
    "A = randomITensor(l,2,1)"
   ]
  },
  {
   "cell_type": "code",
   "execution_count": 120,
   "metadata": {
    "ExecuteTime": {
     "end_time": "2021-07-09T10:35:31.067000+01:00",
     "start_time": "2021-07-09T09:35:30.710Z"
    }
   },
   "outputs": [
    {
     "name": "stdout",
     "output_type": "stream",
     "text": [
      "os = Tuple{String, Int64, Vararg{Int64, N} where N}[(\"CX\", 1, 3), (\"σz\", 3)]\n"
     ]
    },
    {
     "ename": "LoadError",
     "evalue": "MethodError: no method matching MPS(::Vector{Index{Int64}}, ::var\"#15#16\")\n\u001b[0mClosest candidates are:\n\u001b[0m  MPS(::Any, ::Any, \u001b[91m::Any\u001b[39m) at C:\\Users\\Jose-Henry\\.julia\\packages\\ITensors\\Ligbx\\src\\mps\\mps.jl:9\n\u001b[0m  (::Type{MPST})(\u001b[91m::ITensor\u001b[39m, ::Any; leftinds, orthocenter, kwargs...) where MPST<:ITensors.AbstractMPS at C:\\Users\\Jose-Henry\\.julia\\packages\\ITensors\\Ligbx\\src\\mps\\abstractmps.jl:1366\n\u001b[0m  MPS(::Vector{var\"#s84\"} where var\"#s84\"<:Index) at C:\\Users\\Jose-Henry\\.julia\\packages\\ITensors\\Ligbx\\src\\mps\\mps.jl:68",
     "output_type": "error",
     "traceback": [
      "MethodError: no method matching MPS(::Vector{Index{Int64}}, ::var\"#15#16\")\n\u001b[0mClosest candidates are:\n\u001b[0m  MPS(::Any, ::Any, \u001b[91m::Any\u001b[39m) at C:\\Users\\Jose-Henry\\.julia\\packages\\ITensors\\Ligbx\\src\\mps\\mps.jl:9\n\u001b[0m  (::Type{MPST})(\u001b[91m::ITensor\u001b[39m, ::Any; leftinds, orthocenter, kwargs...) where MPST<:ITensors.AbstractMPS at C:\\Users\\Jose-Henry\\.julia\\packages\\ITensors\\Ligbx\\src\\mps\\abstractmps.jl:1366\n\u001b[0m  MPS(::Vector{var\"#s84\"} where var\"#s84\"<:Index) at C:\\Users\\Jose-Henry\\.julia\\packages\\ITensors\\Ligbx\\src\\mps\\mps.jl:68",
      "",
      "Stacktrace:",
      " [1] top-level scope",
      "   @ In[120]:15",
      " [2] eval",
      "   @ .\\boot.jl:360 [inlined]",
      " [3] include_string(mapexpr::typeof(REPL.softscope), mod::Module, code::String, filename::String)",
      "   @ Base .\\loading.jl:1094"
     ]
    }
   ],
   "source": [
    "# 2-site gate\n",
    "function ITensors.op(::OpName\"CX\", ::SiteType\"S=1/2\", s1::Index, s2::Index)\n",
    "  mat = [1 0 0 0\n",
    "         0 1 0 0\n",
    "         0 0 0 1\n",
    "         0 0 1 0]\n",
    "  return itensor(mat, s2', s1', s2, s1)\n",
    "end\n",
    "\n",
    "os = [(\"CX\", 1, 3), (\"σz\", 3)]\n",
    "\n",
    "@show os\n",
    "\n",
    "# Start with the state |↓↑↑⟩\n",
    "ψ0 = MPS(s, n -> n == 1 ? \"↓\" : \"↑\")\n",
    "\n",
    "# The result is:\n",
    "# σz₃ CX₁₃ |↓↑↑⟩ = -|↓↑↓⟩\n",
    "ψ = apply(ops(os, s), ψ0; cutoff = 1e-15)\n",
    "@show inner(ψ, MPS(s, n -> n == 1 || n == 3 ? \"↓\" : \"↑\")) == -1"
   ]
  },
  {
   "cell_type": "code",
   "execution_count": null,
   "metadata": {},
   "outputs": [],
   "source": []
  },
  {
   "cell_type": "code",
   "execution_count": null,
   "metadata": {},
   "outputs": [],
   "source": []
  },
  {
   "cell_type": "code",
   "execution_count": 66,
   "metadata": {
    "ExecuteTime": {
     "end_time": "2021-07-08T22:55:08.306000+01:00",
     "start_time": "2021-07-08T21:55:08.290Z"
    }
   },
   "outputs": [
    {
     "data": {
      "text/plain": [
       "20-element Vector{Int64}:\n",
       "  7\n",
       "  1\n",
       "  4\n",
       "  5\n",
       "  8\n",
       "  4\n",
       "  5\n",
       " 10\n",
       "  7\n",
       "  3\n",
       "  4\n",
       "  7\n",
       "  8\n",
       "  6\n",
       "  3\n",
       "  6\n",
       "  6\n",
       "  7\n",
       "  1\n",
       "  9"
      ]
     },
     "execution_count": 66,
     "metadata": {},
     "output_type": "execute_result"
    }
   ],
   "source": [
    "y=rand(1:10,20)"
   ]
  },
  {
   "cell_type": "code",
   "execution_count": 67,
   "metadata": {
    "ExecuteTime": {
     "end_time": "2021-07-08T22:55:14.048000+01:00",
     "start_time": "2021-07-08T21:55:14.034Z"
    }
   },
   "outputs": [
    {
     "data": {
      "text/plain": [
       "9-element Vector{Int64}:\n",
       "  7\n",
       "  1\n",
       "  4\n",
       "  5\n",
       "  8\n",
       " 10\n",
       "  3\n",
       "  6\n",
       "  9"
      ]
     },
     "execution_count": 67,
     "metadata": {},
     "output_type": "execute_result"
    }
   ],
   "source": [
    "u=unique(y)"
   ]
  },
  {
   "cell_type": "code",
   "execution_count": 68,
   "metadata": {
    "ExecuteTime": {
     "end_time": "2021-07-08T22:55:50.146000+01:00",
     "start_time": "2021-07-08T21:55:49.012Z"
    }
   },
   "outputs": [
    {
     "data": {
      "text/plain": [
       "Dict{Int64, Int64} with 9 entries:\n",
       "  5  => 2\n",
       "  4  => 3\n",
       "  6  => 3\n",
       "  7  => 4\n",
       "  10 => 1\n",
       "  9  => 1\n",
       "  8  => 2\n",
       "  3  => 2\n",
       "  1  => 2"
      ]
     },
     "execution_count": 68,
     "metadata": {},
     "output_type": "execute_result"
    }
   ],
   "source": [
    "d=Dict([(i,count(x->x==i,y)) for i in u])"
   ]
  },
  {
   "cell_type": "code",
   "execution_count": null,
   "metadata": {},
   "outputs": [],
   "source": []
  },
  {
   "cell_type": "code",
   "execution_count": 41,
   "metadata": {
    "ExecuteTime": {
     "end_time": "2021-07-08T13:06:18.103000+01:00",
     "start_time": "2021-07-08T12:05:51.632Z"
    }
   },
   "outputs": [
    {
     "data": {
      "text/plain": [
       "([\"X\" => 1 \"Z\" => 1 \"Y\" => 1 \"Y\" => 1; \"Y\" => 1 \"X\" => 0 \"X\" => 1 \"Z\" => 0; … ; \"Y\" => 1 \"Z\" => 0 \"X\" => 1 \"Y\" => 0; \"Y\" => 0 \"Y\" => 0 \"X\" => 1 \"Z\" => 0], MPO\n",
       "[1] IndexSet{3} (dim=2|id=478|\"Qubit,Site,n=1\")' (dim=2|id=478|\"Qubit,Site,n=1\") (dim=4|id=902|\"Link,fact\")\n",
       "[2] IndexSet{4} (dim=2|id=183|\"Qubit,Site,n=2\")' (dim=4|id=902|\"Link,fact\") (dim=2|id=183|\"Qubit,Site,n=2\") (dim=16|id=63|\"Link,fact\")\n",
       "[3] IndexSet{4} (dim=2|id=47|\"Qubit,Site,n=3\")' (dim=4|id=821|\"Link,fact\") (dim=16|id=63|\"Link,fact\") (dim=2|id=47|\"Qubit,Site,n=3\")\n",
       "[4] IndexSet{3} (dim=2|id=176|\"Qubit,Site,n=4\")' (dim=2|id=176|\"Qubit,Site,n=4\") (dim=4|id=821|\"Link,fact\")\n",
       ")"
      ]
     },
     "execution_count": 41,
     "metadata": {},
     "output_type": "execute_result"
    }
   ],
   "source": [
    "using PastaQ\n",
    "\n",
    "# Example 2: generation of measurement data\n",
    "\n",
    "# Set parameters\n",
    "N = 4                           # Number of qubits\n",
    "depth = 4                       # Depth of random circuit\n",
    "nshots = 1000                   # Number of measurements\n",
    "gates = randomcircuit(N, depth) # Build gates\n",
    "\n",
    "\n",
    "# 2a) Output state of a noiseless circuit. By default, each projective measurement\n",
    "# is taken in basis randomly drawn from the the Pauli group. Also returns the output MPS.\n",
    "data, ψ = getsamples(N, gates, nshots)\n",
    "\n",
    "#  Note: the above is equivalent to:\n",
    "# > bases = randombases(N, nshots; local_basis = [\"X\",\"Y\",\"Z\"])\n",
    "# > ψ = runcircuit(N, gates)\n",
    "# > data = getsamples(ψ, bases)\n",
    "\n",
    "# 2b) Output state of a noisy circuit. Also returns the output MPO\n",
    "data, ρ = getsamples(N, gates, nshots; noise = (\"amplitude_damping\", (γ = 0.01,)))"
   ]
  },
  {
   "cell_type": "code",
   "execution_count": 44,
   "metadata": {
    "ExecuteTime": {
     "end_time": "2021-07-08T13:07:34.898000+01:00",
     "start_time": "2021-07-08T12:07:34.890Z"
    }
   },
   "outputs": [
    {
     "data": {
      "text/plain": [
       "MPS\n",
       "[1] IndexSet{2} (dim=2|id=736|\"Qubit,Site,n=1\") (dim=2|id=520|\"Link,fact\")\n",
       "[2] IndexSet{3} (dim=2|id=886|\"Qubit,Site,n=2\") (dim=2|id=520|\"Link,fact\") (dim=4|id=648|\"Link,fact\")\n",
       "[3] IndexSet{3} (dim=4|id=648|\"Link,fact\") (dim=2|id=135|\"Qubit,Site,n=3\") (dim=2|id=334|\"Link,fact\")\n",
       "[4] IndexSet{2} (dim=2|id=682|\"Qubit,Site,n=4\") (dim=2|id=334|\"Link,fact\")\n"
      ]
     },
     "execution_count": 44,
     "metadata": {},
     "output_type": "execute_result"
    }
   ],
   "source": [
    "ψ"
   ]
  },
  {
   "cell_type": "code",
   "execution_count": 40,
   "metadata": {
    "ExecuteTime": {
     "end_time": "2021-07-08T13:04:44.938000+01:00",
     "start_time": "2021-07-08T12:04:44.919Z"
    }
   },
   "outputs": [
    {
     "ename": "LoadError",
     "evalue": "UndefVarError: loadsamples not defined",
     "output_type": "error",
     "traceback": [
      "UndefVarError: loadsamples not defined",
      "",
      "Stacktrace:",
      " [1] top-level scope",
      "   @ In[40]:4",
      " [2] eval",
      "   @ .\\boot.jl:360 [inlined]",
      " [3] include_string(mapexpr::typeof(REPL.softscope), mod::Module, code::String, filename::String)",
      "   @ Base .\\loading.jl:1094"
     ]
    }
   ],
   "source": [
    "using PastaQ\n",
    "\n",
    "# Load the training data, as well as the target quantum state from file.\n",
    "data, target = loadsamples(\"PATH_TO_DATAFILE.h5\")\n",
    "N = size(data, 2) # Number of qubits\n",
    "\n",
    "# 1. Reconstruction with a variational wavefunction:\n",
    "#\n",
    "# Initialize a variational MPS with bond dimension χ = 10.\n",
    "ψ0 = randomstate(N; χ = 10)\n",
    "\n",
    "# Initialize stochastic gradient descent with learning rate η = 0.01\n",
    "opt = SGD(η = 0.01)\n",
    "\n",
    "# Run quantum state tomography\n",
    "ψ = tomography(data, ψ0; optimizer = opt, target = target)\n",
    "\n",
    "# 2. Reconstruction with a variational density matrix:\n",
    "#\n",
    "# Initialize a variational LPDO with bond dimension χ = 10 and Kraus dimension ξ = 2.\n",
    "ρ0 = randomstate(N; mixed = true, χ = 10, ξ = 2)\n",
    "\n",
    "# Run quantum state tomography\n",
    "ρ = tomography(data, ρ0; optimizer = opt, target = target)"
   ]
  },
  {
   "cell_type": "code",
   "execution_count": null,
   "metadata": {},
   "outputs": [],
   "source": []
  },
  {
   "cell_type": "code",
   "execution_count": 31,
   "metadata": {
    "ExecuteTime": {
     "end_time": "2021-07-07T17:49:53.684000+01:00",
     "start_time": "2021-07-07T16:49:53.155Z"
    }
   },
   "outputs": [
    {
     "data": {
      "text/plain": [
       "(dim=2|id=910|\"i\")"
      ]
     },
     "execution_count": 31,
     "metadata": {},
     "output_type": "execute_result"
    }
   ],
   "source": [
    "i = Index(2, \"i\")"
   ]
  },
  {
   "cell_type": "code",
   "execution_count": 32,
   "metadata": {
    "ExecuteTime": {
     "end_time": "2021-07-07T17:50:26.707000+01:00",
     "start_time": "2021-07-07T16:50:25.851Z"
    }
   },
   "outputs": [
    {
     "data": {
      "text/plain": [
       "ITensor ord=2 (dim=2|id=910|\"i\")' (dim=2|id=910|\"i\")\n",
       "NDTensors.Dense{Float64, Vector{Float64}}"
      ]
     },
     "execution_count": 32,
     "metadata": {},
     "output_type": "execute_result"
    }
   ],
   "source": [
    "A = randomITensor(i', i)"
   ]
  },
  {
   "cell_type": "code",
   "execution_count": 33,
   "metadata": {
    "ExecuteTime": {
     "end_time": "2021-07-07T17:51:23.253000+01:00",
     "start_time": "2021-07-07T16:51:22.649Z"
    }
   },
   "outputs": [
    {
     "name": "stdout",
     "output_type": "stream",
     "text": [
      "A = ITensor ord=2\n",
      "Dim 1: (dim=2|id=910|\"i\")'\n",
      "Dim 2: (dim=2|id=910|\"i\")\n",
      "NDTensors.Dense{Float64, Vector{Float64}}\n",
      " 2×2\n",
      " -1.0704047437869733  -1.6036108722138445\n",
      " -0.5184473438394585  -1.3234497201387745\n"
     ]
    }
   ],
   "source": [
    "@show A;"
   ]
  },
  {
   "cell_type": "code",
   "execution_count": 34,
   "metadata": {
    "ExecuteTime": {
     "end_time": "2021-07-07T17:51:46.217000+01:00",
     "start_time": "2021-07-07T16:51:46.153Z"
    }
   },
   "outputs": [
    {
     "name": "stdout",
     "output_type": "stream",
     "text": [
      "R = MPS\n",
      "[1] IndexSet{2} (dim=2|id=914|\"Qubit,Site,n=1\") (dim=2|id=669|\"Link,fact\")\n",
      "[2] IndexSet{3} (dim=2|id=669|\"Link,fact\") (dim=2|id=656|\"Qubit,Site,n=2\") (dim=4|id=616|\"Link,fact\")\n",
      "[3] IndexSet{3} (dim=2|id=159|\"Qubit,Site,n=3\") (dim=4|id=616|\"Link,fact\") (dim=2|id=297|\"Link,fact\")\n",
      "[4] IndexSet{2} (dim=2|id=297|\"Link,fact\") (dim=2|id=747|\"Qubit,Site,n=4\")\n",
      "\n"
     ]
    }
   ],
   "source": [
    "@show R;"
   ]
  }
 ],
 "metadata": {
  "kernelspec": {
   "display_name": "Julia 1.6.1",
   "language": "julia",
   "name": "julia-1.6"
  },
  "language_info": {
   "file_extension": ".jl",
   "mimetype": "application/julia",
   "name": "julia",
   "version": "1.6.1"
  }
 },
 "nbformat": 4,
 "nbformat_minor": 4
}
