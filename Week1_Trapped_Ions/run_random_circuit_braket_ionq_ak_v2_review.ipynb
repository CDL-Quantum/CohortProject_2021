{
 "cells": [
  {
   "cell_type": "code",
   "execution_count": null,
   "id": "c878830a",
   "metadata": {},
   "outputs": [],
   "source": [
    "# Alex Khan"
   ]
  },
  {
   "cell_type": "code",
   "execution_count": 69,
   "id": "d4e78022",
   "metadata": {},
   "outputs": [],
   "source": [
    "from braket.aws import AwsDevice\n",
    "from braket.devices import LocalSimulator\n",
    "from braket.circuits import Circuit, Gate, Instruction, circuit, Observable\n",
    "import numpy as np\n",
    "import matplotlib.pyplot as plt\n",
    "%matplotlib inline"
   ]
  },
  {
   "cell_type": "code",
   "execution_count": 2,
   "id": "a8706e7d",
   "metadata": {},
   "outputs": [],
   "source": [
    "'Delete this block in final version'\n",
    "\n",
    "# Enter the S3 bucket you created during onboarding in the code below\n",
    "my_bucket = \"amazon-braket-qc-packt-book-ak-2022\" # the name of the bucket\n",
    "my_prefix = \"ionq\" # the name of the folder in the bucket\n",
    "s3_folder = (my_bucket, my_prefix)"
   ]
  },
  {
   "cell_type": "code",
   "execution_count": 3,
   "id": "56dad177",
   "metadata": {},
   "outputs": [],
   "source": [
    "rng = np.random"
   ]
  },
  {
   "cell_type": "code",
   "execution_count": 4,
   "id": "e1dec86e",
   "metadata": {},
   "outputs": [
    {
     "name": "stdout",
     "output_type": "stream",
     "text": [
      "Device('name': Advantage_system1.1, 'arn': arn:aws:braket:::device/qpu/d-wave/Advantage_system1)\n",
      "Device('name': Aspen-9, 'arn': arn:aws:braket:::device/qpu/rigetti/Aspen-9)\n",
      "Device('name': DW_2000Q_6, 'arn': arn:aws:braket:::device/qpu/d-wave/DW_2000Q_6)\n",
      "Device('name': IonQ Device, 'arn': arn:aws:braket:::device/qpu/ionq/ionQdevice)\n",
      "Device('name': SV1, 'arn': arn:aws:braket:::device/quantum-simulator/amazon/sv1)\n",
      "Device('name': TN1, 'arn': arn:aws:braket:::device/quantum-simulator/amazon/tn1)\n",
      "Device('name': dm1, 'arn': arn:aws:braket:::device/quantum-simulator/amazon/dm1)\n"
     ]
    }
   ],
   "source": [
    "device_list=AwsDevice.get_devices(statuses=['ONLINE'])\n",
    "for i in device_list:\n",
    "    print(i)"
   ]
  },
  {
   "cell_type": "code",
   "execution_count": 5,
   "id": "ab3329ce",
   "metadata": {},
   "outputs": [],
   "source": [
    "device_ionq = AwsDevice(\"arn:aws:braket:::device/qpu/ionq/ionQdevice\")\n",
    "device_local = LocalSimulator()"
   ]
  },
  {
   "cell_type": "code",
   "execution_count": 6,
   "id": "2e73fbd2",
   "metadata": {},
   "outputs": [
    {
     "name": "stdout",
     "output_type": "stream",
     "text": [
      "['CCNot', 'CNot', 'CPhaseShift', 'CPhaseShift00', 'CPhaseShift01', 'CPhaseShift10', 'CSwap', 'CY', 'CZ', 'H', 'I', 'ISwap', 'PSwap', 'PhaseShift', 'Rx', 'Ry', 'Rz', 'S', 'Si', 'Swap', 'T', 'Ti', 'Unitary', 'V', 'Vi', 'X', 'XX', 'XY', 'Y', 'YY', 'Z', 'ZZ']\n"
     ]
    }
   ],
   "source": [
    "# Gates for LocalSimulator\n",
    "supported_gates = device_local.properties.action['braket.ir.jaqcd.program'].supportedOperations\n",
    "print(supported_gates)"
   ]
  },
  {
   "cell_type": "code",
   "execution_count": 7,
   "id": "77069ac5",
   "metadata": {},
   "outputs": [
    {
     "name": "stdout",
     "output_type": "stream",
     "text": [
      "['x', 'y', 'z', 'rx', 'ry', 'rz', 'h', 'cnot', 's', 'si', 't', 'ti', 'v', 'vi', 'xx', 'yy', 'zz', 'swap', 'i']\n"
     ]
    }
   ],
   "source": [
    "# Gates for IonQ\n",
    "supported_gates = device_ionq.properties.action['braket.ir.jaqcd.program'].supportedOperations\n",
    "print(supported_gates)"
   ]
  },
  {
   "cell_type": "code",
   "execution_count": 8,
   "id": "0de439a1",
   "metadata": {},
   "outputs": [
    {
     "name": "stdout",
     "output_type": "stream",
     "text": [
      "device cost per  shot : $ 0.01\n",
      "total cost for 10 shots is $0.40\n"
     ]
    }
   ],
   "source": [
    "price_per_shot=device_ionq.properties.service.deviceCost.price\n",
    "unit=device_ionq.properties.service.deviceCost.unit\n",
    "num_shots=10\n",
    "cost_per_task=0.3\n",
    "print('device cost per ',unit,': $', price_per_shot)\n",
    "print('total cost for {} shots is ${:.2f}'.format(num_shots,cost_per_task+num_shots*price_per_shot))"
   ]
  },
  {
   "cell_type": "code",
   "execution_count": null,
   "id": "02e0b672",
   "metadata": {},
   "outputs": [],
   "source": []
  },
  {
   "cell_type": "markdown",
   "id": "428d4b70",
   "metadata": {},
   "source": [
    "read about Amazon Braket\n",
    "https://docs.aws.amazon.com/braket/latest/developerguide/braket-developer-guide.pdf\n",
    "\n",
    "    \n",
    "read about ionQ\n",
    "https://ionq.com/best-practices/\n",
    "    "
   ]
  },
  {
   "cell_type": "markdown",
   "id": "2aaeed89",
   "metadata": {},
   "source": [
    "$\\begin{align}\\begin{aligned}\\newcommand{\\th}{\\frac{\\theta}{2}}\\\\\\begin{split}U3(\\theta, \\phi, \\lambda) =\n",
    "    \\begin{pmatrix}\n",
    "        \\cos(\\th)          & -e^{i\\lambda}\\sin(\\th) \\\\\n",
    "        e^{i\\phi}\\sin(\\th) & e^{i(\\phi+\\lambda)}\\cos(\\th)\n",
    "    \\end{pmatrix}\\end{split}\\end{aligned}\\end{align}$"
   ]
  },
  {
   "cell_type": "markdown",
   "id": "f970c07a",
   "metadata": {},
   "source": [
    "$U3(θ,ϕ,λ)=RZ(ϕ)RX(−π/2)RZ(θ)RX(π/2)RZ(λ)$"
   ]
  },
  {
   "cell_type": "markdown",
   "id": "e9aa221c",
   "metadata": {},
   "source": [
    "$\\lambda = -\\phi$"
   ]
  },
  {
   "cell_type": "markdown",
   "id": "e7225f76",
   "metadata": {},
   "source": [
    "$\\begin{align}\\begin{aligned}\\newcommand{\\th}{\\frac{\\theta}{2}}\\\\\\begin{split}U_r(\\theta, \\phi) =\n",
    "    \\begin{pmatrix}\n",
    "        \\cos(\\th)          & -e^{-i\\phi}\\sin(\\th) \\\\\n",
    "        e^{i\\phi}\\sin(\\th) & \\cos(\\th)\n",
    "    \\end{pmatrix}\\end{split}\\end{aligned}\\end{align}$"
   ]
  },
  {
   "cell_type": "markdown",
   "id": "2962dcae",
   "metadata": {},
   "source": [
    "$U_r(\\theta, \\phi) =\n",
    "    RZ(\\phi) RX(-\\pi/2) RZ(\\theta) RX(\\pi/2) RZ(-\\phi)$"
   ]
  },
  {
   "cell_type": "code",
   "execution_count": 22,
   "id": "433e3ff9",
   "metadata": {},
   "outputs": [],
   "source": [
    "# Single qubit gate  U_r(Theta, phi)  \n",
    "def u_r (circ, q, Theta, phi):\n",
    "\n",
    "    circ.rz(q, phi).rx(q, -np.pi/2).rz(q, Theta).rx(q, np.pi/2).rz(q, -phi)\n",
    "    \n",
    "    return(circ)"
   ]
  },
  {
   "cell_type": "markdown",
   "id": "ffb21cd3",
   "metadata": {},
   "source": [
    "The M gate is defined as the xx gate for IonQ"
   ]
  },
  {
   "cell_type": "markdown",
   "id": "8f2cf8e5",
   "metadata": {},
   "source": [
    "$\\begin{align}\\begin{aligned}\\newcommand{\\th}{\\frac{\\theta}{2}}\\\\\\begin{split}R_{XX}(\\theta) = exp(-i \\th X{\\otimes}X) =\n",
    "    \\begin{pmatrix}\n",
    "        \\cos(\\th)   & 0           & 0           & -i\\sin(\\th) \\\\\n",
    "        0           & \\cos(\\th)   & -i\\sin(\\th) & 0 \\\\\n",
    "        0           & -i\\sin(\\th) & \\cos(\\th)   & 0 \\\\\n",
    "        -i\\sin(\\th) & 0           & 0           & \\cos(\\th)\n",
    "    \\end{pmatrix}\\end{split}\\end{aligned}\\end{align}$"
   ]
  },
  {
   "cell_type": "code",
   "execution_count": 23,
   "id": "05698d75",
   "metadata": {},
   "outputs": [],
   "source": [
    "# Two qubit gate\n",
    "def u_m (circ, q, r, Theta ):\n",
    "    \n",
    "    circ.xx(q,r,rng.random()*np.pi )\n",
    "    \n",
    "    return(circ)\n",
    "    "
   ]
  },
  {
   "cell_type": "code",
   "execution_count": 38,
   "id": "b294df6b",
   "metadata": {},
   "outputs": [],
   "source": [
    "def run_circ(device, N, depth, shots, print_circ=False, s3_folder=''):\n",
    "    circ=Circuit()\n",
    "    alternate=False\n",
    "    for i in range (depth):\n",
    "        \n",
    "        # Ur gate added to each qubit\n",
    "        for j in range(N):\n",
    "            circ=u_r(circ, j, rng.random()*2*np.pi, rng.random()*2*np.pi)\n",
    "            \n",
    "        # Now xx gate alternate order\n",
    "        idx_first = i % 2\n",
    "        \n",
    "        for j in range(idx_first,N-1,2):\n",
    "            circ=u_m(circ, j, j+1, rng.random()*2*np.pi)\n",
    "                \n",
    "    if print_circ==True:\n",
    "        print(circ)\n",
    "    if device.name=='StateVectorSimulator':\n",
    "        result = device.run(circ, shots=shots).result()\n",
    "    else:\n",
    "        result = device.run(circ, s3_folder, shots=shots).result()\n",
    "    \n",
    "    counts = result.measurement_counts\n",
    "    return(counts)"
   ]
  },
  {
   "cell_type": "code",
   "execution_count": 77,
   "id": "1320d233",
   "metadata": {},
   "outputs": [
    {
     "data": {
      "text/plain": [
       "<matplotlib.collections.PathCollection at 0x20890a7c280>"
      ]
     },
     "execution_count": 77,
     "metadata": {},
     "output_type": "execute_result"
    },
    {
     "data": {
      "image/png": "[encoded data removed]",
      "text/plain": [
       "<Figure size 432x288 with 1 Axes>"
      ]
     },
     "metadata": {
      "needs_background": "light"
     },
     "output_type": "display_data"
    }
   ],
   "source": [
    "# run on local device, get probability distribution using one random circuit\n",
    "N=4\n",
    "depth=5\n",
    "shots=1000\n",
    "y_list=np.zeros(2**N)\n",
    "\n",
    "counts=run_circ(device_local, N, depth, shots, False)\n",
    "#print(counts)\n",
    "plt.axis('off')\n",
    "plt.scatter(counts.keys(), y_list, list(counts.values()))\n"
   ]
  },
  {
   "cell_type": "code",
   "execution_count": 78,
   "id": "372a595e",
   "metadata": {},
   "outputs": [
    {
     "data": {
      "text/plain": [
       "<matplotlib.collections.PathCollection at 0x20891f89df0>"
      ]
     },
     "execution_count": 78,
     "metadata": {},
     "output_type": "execute_result"
    },
    {
     "data": {
      "image/png": "[encoded data removed]",
      "text/plain": [
       "<Figure size 432x288 with 1 Axes>"
      ]
     },
     "metadata": {
      "needs_background": "light"
     },
     "output_type": "display_data"
    }
   ],
   "source": [
    "#run on local many times using different random circuits\n",
    "\n",
    "shots=1\n",
    "\n",
    "result_list=[]\n",
    "for i in range(1000):\n",
    "    result_list.append(run_circ(device_local, N, depth, 1))\n",
    "#print(result_list) \n",
    "counts={}\n",
    "for result in result_list:\n",
    "    for i in result:\n",
    "        #print(i)\n",
    "        if i in counts:\n",
    "            counts[i] += 1\n",
    "        else:\n",
    "            counts[i] = 1\n",
    "#print(counts)\n",
    "plt.axis('off')\n",
    "plt.scatter(counts.keys(), y_list, list(counts.values()))\n"
   ]
  },
  {
   "cell_type": "code",
   "execution_count": null,
   "id": "96795c48",
   "metadata": {},
   "outputs": [],
   "source": []
  },
  {
   "cell_type": "code",
   "execution_count": null,
   "id": "33d1feb3",
   "metadata": {},
   "outputs": [],
   "source": [
    "'STOP here if you do not want to pay for IonQ cost'"
   ]
  },
  {
   "cell_type": "code",
   "execution_count": null,
   "id": "88eb5b4c",
   "metadata": {},
   "outputs": [],
   "source": [
    "# Now run on IonQ"
   ]
  },
  {
   "cell_type": "code",
   "execution_count": 80,
   "id": "682b2968",
   "metadata": {},
   "outputs": [
    {
     "name": "stdout",
     "output_type": "stream",
     "text": [
      "Counter({'1101': 11, '0010': 10, '0001': 9, '1100': 8, '0000': 7, '1110': 7, '0101': 7, '0110': 6, '1001': 6, '0011': 6, '0111': 6, '1111': 5, '1010': 4, '1011': 4, '0100': 3, '1000': 1})\n"
     ]
    },
    {
     "data": {
      "text/plain": [
       "<matplotlib.collections.PathCollection at 0x208923dc310>"
      ]
     },
     "execution_count": 80,
     "metadata": {},
     "output_type": "execute_result"
    },
    {
     "data": {
      "image/png": "[encoded data removed]",
      "text/plain": [
       "<Figure size 432x288 with 1 Axes>"
      ]
     },
     "metadata": {
      "needs_background": "light"
     },
     "output_type": "display_data"
    }
   ],
   "source": [
    "# run on ionQ device, get probability distribution using one random circuit\n",
    "shots=100\n",
    "\n",
    "counts=run_circ(device_ionq, N, depth, shots, False, s3_folder)\n",
    "print(counts)\n",
    "plt.axis('off')\n",
    "plt.scatter(counts.keys(), y_list, list(counts.values()))"
   ]
  },
  {
   "cell_type": "code",
   "execution_count": 90,
   "id": "152576cd",
   "metadata": {
    "scrolled": false
   },
   "outputs": [
    {
     "name": "stdout",
     "output_type": "stream",
     "text": [
      "T  : |   0    |    1    |    2    |   3    |    4    |5|   6    |    7    |    8    |   9    |   10    |11|\n",
      "                                                                                                           \n",
      "q0 : -Rz(4.85)-Rx(-1.57)-Rz(0.887)-Rx(1.57)-Rz(-4.85)-C-Rz(5.13)-Rx(-1.57)-Rz(6.22)--Rx(1.57)-Rz(-5.13)-C--\n",
      "                                                      |                                                 |  \n",
      "q1 : -Rz(5.27)-Rx(-1.57)-Rz(0.984)-Rx(1.57)-Rz(-5.27)-X-Rz(1.51)-Rx(-1.57)-Rz(0.244)-Rx(1.57)-Rz(-1.51)-X--\n",
      "                                                                                                           \n",
      "q2 : -Rz(2.15)-Rx(-1.57)-Rz(0.847)-Rx(1.57)-Rz(-2.15)-C-Rz(4.85)-Rx(-1.57)-Rz(0.472)-Rx(1.57)-Rz(-4.85)-C--\n",
      "                                                      |                                                 |  \n",
      "q3 : -Rz(1.35)-Rx(-1.57)-Rz(1.08)--Rx(1.57)-Rz(-1.35)-X-Rz(5.04)-Rx(-1.57)-Rz(3.79)--Rx(1.57)-Rz(-5.04)-X--\n",
      "\n",
      "T  : |   0    |    1    |    2    |   3    |    4    |5|   6    |    7    |    8    |   9    |   10    |11|\n",
      "T  : |    0    |    1    |   2    |   3    |    4     |5|    6    |    7    |    8    |   9    |    10    |11|\n",
      "                                                                                                              \n",
      "q0 : -Rz(1.57)--Rx(-1.57)-Rz(2.9)--Rx(1.57)-Rz(-1.57)--C-Rz(6.16)--Rx(-1.57)-Rz(4.38)--Rx(1.57)-Rz(-6.16)--C--\n",
      "                                                       |                                                   |  \n",
      "q1 : -Rz(3.26)--Rx(-1.57)-Rz(1.16)-Rx(1.57)-Rz(-3.26)--X-Rz(1.43)--Rx(-1.57)-Rz(2.67)--Rx(1.57)-Rz(-1.43)--X--\n",
      "                                                                                                              \n",
      "q2 : -Rz(0.376)-Rx(-1.57)-Rz(2.52)-Rx(1.57)-Rz(-0.376)-C-Rz(3.91)--Rx(-1.57)-Rz(1.36)--Rx(1.57)-Rz(-3.91)--C--\n",
      "                                                       |                                                   |  \n",
      "q3 : -Rz(5.73)--Rx(-1.57)-Rz(3.13)-Rx(1.57)-Rz(-5.73)--X-Rz(0.191)-Rx(-1.57)-Rz(0.913)-Rx(1.57)-Rz(-0.191)-X--\n",
      "\n",
      "T  : |    0    |    1    |   2    |   3    |    4     |5|    6    |    7    |    8    |   9    |    10    |11|\n",
      "T  : |   0    |    1    |    2    |   3    |    4    |5|    6    |    7    |    8    |   9    |    10    |11|\n",
      "                                                                                                             \n",
      "q0 : -Rz(4.13)-Rx(-1.57)-Rz(0.151)-Rx(1.57)-Rz(-4.13)-C-Rz(0.886)-Rx(-1.57)-Rz(1.18)--Rx(1.57)-Rz(-0.886)-C--\n",
      "                                                      |                                                   |  \n",
      "q1 : -Rz(1.45)-Rx(-1.57)-Rz(6.05)--Rx(1.57)-Rz(-1.45)-X-Rz(3.29)--Rx(-1.57)-Rz(5.04)--Rx(1.57)-Rz(-3.29)--X--\n",
      "                                                                                                             \n",
      "q2 : -Rz(5.99)-Rx(-1.57)-Rz(2.28)--Rx(1.57)-Rz(-5.99)-C-Rz(0.54)--Rx(-1.57)-Rz(0.406)-Rx(1.57)-Rz(-0.54)--C--\n",
      "                                                      |                                                   |  \n",
      "q3 : -Rz(3.39)-Rx(-1.57)-Rz(1.49)--Rx(1.57)-Rz(-3.39)-X-Rz(6.05)--Rx(-1.57)-Rz(4.87)--Rx(1.57)-Rz(-6.05)--X--\n",
      "\n",
      "T  : |   0    |    1    |    2    |   3    |    4    |5|    6    |    7    |    8    |   9    |    10    |11|\n",
      "T  : |   0    |    1    |   2    |   3    |    4    |5|    6    |    7    |    8    |   9    |    10    |11|\n",
      "                                                                                                            \n",
      "q0 : -Rz(2.87)-Rx(-1.57)-Rz(2.84)-Rx(1.57)-Rz(-2.87)-C-Rz(2.08)--Rx(-1.57)-Rz(0.142)-Rx(1.57)-Rz(-2.08)--C--\n",
      "                                                     |                                                   |  \n",
      "q1 : -Rz(6.03)-Rx(-1.57)-Rz(2.98)-Rx(1.57)-Rz(-6.03)-X-Rz(1.52)--Rx(-1.57)-Rz(3.92)--Rx(1.57)-Rz(-1.52)--X--\n",
      "                                                                                                            \n",
      "q2 : -Rz(4.82)-Rx(-1.57)-Rz(3.31)-Rx(1.57)-Rz(-4.82)-C-Rz(4.8)---Rx(-1.57)-Rz(2.24)--Rx(1.57)-Rz(-4.8)---C--\n",
      "                                                     |                                                   |  \n",
      "q3 : -Rz(1.37)-Rx(-1.57)-Rz(3.88)-Rx(1.57)-Rz(-1.37)-X-Rz(0.597)-Rx(-1.57)-Rz(0.943)-Rx(1.57)-Rz(-0.597)-X--\n",
      "\n",
      "T  : |   0    |    1    |   2    |   3    |    4    |5|    6    |    7    |    8    |   9    |    10    |11|\n",
      "T  : |    0    |    1    |    2     |   3    |    4     |5|   6    |    7    |   8    |   9    |   10    |11|\n",
      "                                                                                                             \n",
      "q0 : -Rz(3.28)--Rx(-1.57)-Rz(2.31)---Rx(1.57)-Rz(-3.28)--C-Rz(3.6)--Rx(-1.57)-Rz(2.09)-Rx(1.57)-Rz(-3.6)--C--\n",
      "                                                         |                                                |  \n",
      "q1 : -Rz(0.257)-Rx(-1.57)-Rz(0.0623)-Rx(1.57)-Rz(-0.257)-X-Rz(5.94)-Rx(-1.57)-Rz(2.11)-Rx(1.57)-Rz(-5.94)-X--\n",
      "                                                                                                             \n",
      "q2 : -Rz(5.35)--Rx(-1.57)-Rz(2.13)---Rx(1.57)-Rz(-5.35)--C-Rz(5.65)-Rx(-1.57)-Rz(4.62)-Rx(1.57)-Rz(-5.65)-C--\n",
      "                                                         |                                                |  \n",
      "q3 : -Rz(1.14)--Rx(-1.57)-Rz(4.76)---Rx(1.57)-Rz(-1.14)--X-Rz(6.03)-Rx(-1.57)-Rz(4.77)-Rx(1.57)-Rz(-6.03)-X--\n",
      "\n",
      "T  : |    0    |    1    |    2     |   3    |    4     |5|   6    |    7    |   8    |   9    |   10    |11|\n",
      "T  : |   0    |    1    |    2    |   3    |    4    |5|   6    |    7    |   8    |   9    |   10    |11|\n",
      "                                                                                                          \n",
      "q0 : -Rz(5.34)-Rx(-1.57)-Rz(2.86)--Rx(1.57)-Rz(-5.34)-C-Rz(4.24)-Rx(-1.57)-Rz(5.51)-Rx(1.57)-Rz(-4.24)-C--\n",
      "                                                      |                                                |  \n",
      "q1 : -Rz(5.52)-Rx(-1.57)-Rz(1.47)--Rx(1.57)-Rz(-5.52)-X-Rz(4.04)-Rx(-1.57)-Rz(5.49)-Rx(1.57)-Rz(-4.04)-X--\n",
      "                                                                                                          \n",
      "q2 : -Rz(4.34)-Rx(-1.57)-Rz(0.317)-Rx(1.57)-Rz(-4.34)-C-Rz(1.52)-Rx(-1.57)-Rz(4.75)-Rx(1.57)-Rz(-1.52)-C--\n",
      "                                                      |                                                |  \n",
      "q3 : -Rz(4.65)-Rx(-1.57)-Rz(1.2)---Rx(1.57)-Rz(-4.65)-X-Rz(0.19)-Rx(-1.57)-Rz(3.35)-Rx(1.57)-Rz(-0.19)-X--\n",
      "\n",
      "T  : |   0    |    1    |    2    |   3    |    4    |5|   6    |    7    |   8    |   9    |   10    |11|\n",
      "T  : |    0    |    1    |   2    |   3    |    4     |5|    6    |    7    |    8    |   9    |    10    |11|\n",
      "                                                                                                              \n",
      "q0 : -Rz(0.545)-Rx(-1.57)-Rz(4.71)-Rx(1.57)-Rz(-0.545)-C-Rz(5.63)--Rx(-1.57)-Rz(3.08)--Rx(1.57)-Rz(-5.63)--C--\n",
      "                                                       |                                                   |  \n",
      "q1 : -Rz(1.56)--Rx(-1.57)-Rz(1.19)-Rx(1.57)-Rz(-1.56)--X-Rz(0.153)-Rx(-1.57)-Rz(0.578)-Rx(1.57)-Rz(-0.153)-X--\n",
      "                                                                                                              \n",
      "q2 : -Rz(4.58)--Rx(-1.57)-Rz(5.62)-Rx(1.57)-Rz(-4.58)--C-Rz(4.52)--Rx(-1.57)-Rz(6.03)--Rx(1.57)-Rz(-4.52)--C--\n",
      "                                                       |                                                   |  \n",
      "q3 : -Rz(3.59)--Rx(-1.57)-Rz(3.35)-Rx(1.57)-Rz(-3.59)--X-Rz(0.219)-Rx(-1.57)-Rz(4.55)--Rx(1.57)-Rz(-0.219)-X--\n",
      "\n",
      "T  : |    0    |    1    |   2    |   3    |    4     |5|    6    |    7    |    8    |   9    |    10    |11|\n",
      "T  : |   0    |    1    |   2    |   3    |    4    |5|   6    |    7    |    8    |   9    |   10    |11|\n",
      "                                                                                                          \n",
      "q0 : -Rz(1.69)-Rx(-1.57)-Rz(2.99)-Rx(1.57)-Rz(-1.69)-C-Rz(2.44)-Rx(-1.57)-Rz(1.62)--Rx(1.57)-Rz(-2.44)-C--\n",
      "                                                     |                                                 |  \n",
      "q1 : -Rz(2.77)-Rx(-1.57)-Rz(4.9)--Rx(1.57)-Rz(-2.77)-X-Rz(1.89)-Rx(-1.57)-Rz(0.519)-Rx(1.57)-Rz(-1.89)-X--\n",
      "                                                                                                          \n",
      "q2 : -Rz(3.83)-Rx(-1.57)-Rz(3.23)-Rx(1.57)-Rz(-3.83)-C-Rz(4.84)-Rx(-1.57)-Rz(1.86)--Rx(1.57)-Rz(-4.84)-C--\n",
      "                                                     |                                                 |  \n",
      "q3 : -Rz(6.09)-Rx(-1.57)-Rz(3.19)-Rx(1.57)-Rz(-6.09)-X-Rz(1.24)-Rx(-1.57)-Rz(2.7)---Rx(1.57)-Rz(-1.24)-X--\n",
      "\n",
      "T  : |   0    |    1    |   2    |   3    |    4    |5|   6    |    7    |    8    |   9    |   10    |11|\n"
     ]
    },
    {
     "name": "stdout",
     "output_type": "stream",
     "text": [
      "T  : |    0    |    1    |   2    |   3    |    4     |5|    6    |    7    |   8    |   9    |    10    |11|\n",
      "                                                                                                             \n",
      "q0 : -Rz(0.895)-Rx(-1.57)-Rz(2.85)-Rx(1.57)-Rz(-0.895)-C-Rz(2.64)--Rx(-1.57)-Rz(2.93)-Rx(1.57)-Rz(-2.64)--C--\n",
      "                                                       |                                                  |  \n",
      "q1 : -Rz(0.944)-Rx(-1.57)-Rz(2.28)-Rx(1.57)-Rz(-0.944)-X-Rz(0.321)-Rx(-1.57)-Rz(4.12)-Rx(1.57)-Rz(-0.321)-X--\n",
      "                                                                                                             \n",
      "q2 : -Rz(1.06)--Rx(-1.57)-Rz(5.16)-Rx(1.57)-Rz(-1.06)--C-Rz(1.59)--Rx(-1.57)-Rz(1.67)-Rx(1.57)-Rz(-1.59)--C--\n",
      "                                                       |                                                  |  \n",
      "q3 : -Rz(0.377)-Rx(-1.57)-Rz(5.05)-Rx(1.57)-Rz(-0.377)-X-Rz(1.41)--Rx(-1.57)-Rz(3.39)-Rx(1.57)-Rz(-1.41)--X--\n",
      "\n",
      "T  : |    0    |    1    |   2    |   3    |    4     |5|    6    |    7    |   8    |   9    |    10    |11|\n",
      "T  : |   0    |    1    |   2    |   3    |    4    |5|    6    |    7    |   8    |   9    |    10    |11|\n",
      "                                                                                                           \n",
      "q0 : -Rz(2.39)-Rx(-1.57)-Rz(5.69)-Rx(1.57)-Rz(-2.39)-C-Rz(5.31)--Rx(-1.57)-Rz(4.13)-Rx(1.57)-Rz(-5.31)--C--\n",
      "                                                     |                                                  |  \n",
      "q1 : -Rz(1.21)-Rx(-1.57)-Rz(4.23)-Rx(1.57)-Rz(-1.21)-X-Rz(4.99)--Rx(-1.57)-Rz(5.54)-Rx(1.57)-Rz(-4.99)--X--\n",
      "                                                                                                           \n",
      "q2 : -Rz(1.66)-Rx(-1.57)-Rz(5.21)-Rx(1.57)-Rz(-1.66)-C-Rz(0.538)-Rx(-1.57)-Rz(3.17)-Rx(1.57)-Rz(-0.538)-C--\n",
      "                                                     |                                                  |  \n",
      "q3 : -Rz(3.17)-Rx(-1.57)-Rz(4.48)-Rx(1.57)-Rz(-3.17)-X-Rz(0.568)-Rx(-1.57)-Rz(6.21)-Rx(1.57)-Rz(-0.568)-X--\n",
      "\n",
      "T  : |   0    |    1    |   2    |   3    |    4    |5|    6    |    7    |   8    |   9    |    10    |11|\n"
     ]
    },
    {
     "data": {
      "image/png": "[encoded data removed]",
      "text/plain": [
       "<Figure size 432x288 with 1 Axes>"
      ]
     },
     "metadata": {
      "needs_background": "light"
     },
     "output_type": "display_data"
    }
   ],
   "source": [
    "#run on ionQ many times using different random circuits\n",
    "\n",
    "result_list=[]\n",
    "for i in range(10):\n",
    "    result_list.append(run_circ(device_ionq, 4, 2, 1, True, s3_folder))\n",
    "#print(result_list) \n",
    "counts={}\n",
    "for result in result_list:\n",
    "    for i in result:\n",
    "        #print(i)\n",
    "        if i in counts:\n",
    "            counts[i] += 1\n",
    "        else:\n",
    "            counts[i] = 1\n",
    "#print(counts)\n",
    "plt.bar(counts.keys(), counts.values());\n",
    "plt.xlabel('states');\n",
    "plt.ylabel('counts');"
   ]
  },
  {
   "cell_type": "code",
   "execution_count": null,
   "id": "b3ebcd5f",
   "metadata": {},
   "outputs": [],
   "source": [
    "# \"R\"\n",
    "#    [\n",
    "#        cos(theta/2)    (-im * exp(-im * phi) * sin(theta/2))\n",
    "#        (-im * exp(im * phi) * sin(theta/2))     cos(theta/2)\n",
    "#    ]\n",
    "\n",
    "# \"M\"\n",
    "#    [\n",
    "#        cos(Theta)    0    0    (-im * sin(Theta))\n",
    "#        0    cos(Theta)    (-im * sin(Theta))    0\n",
    "#        0    (-im * sin(Theta))    cos(Theta)    0\n",
    "#        (-im * sin(Theta))    0    0    cos(Theta)\n",
    "#    ]"
   ]
  }
 ],
 "metadata": {
  "kernelspec": {
   "display_name": "Python 3",
   "language": "python",
   "name": "python3"
  },
  "language_info": {
   "codemirror_mode": {
    "name": "ipython",
    "version": 3
   },
   "file_extension": ".py",
   "mimetype": "text/x-python",
   "name": "python",
   "nbconvert_exporter": "python",
   "pygments_lexer": "ipython3",
   "version": "3.8.10"
  }
 },
 "nbformat": 4,
 "nbformat_minor": 5
}
