{
 "cells": [
  {
   "cell_type": "markdown",
   "id": "f918aaf4",
   "metadata": {},
   "source": [
    "# To Do\n",
    "\n",
    "- Visualizations for interference pattern\n",
    "- Clean up graphs (Julie plots look nicer atm)\n",
    "- high circuit depths in problem 3 creating Nans, figure out where, might be precision error from gates constants being multiplied several times, currently run at lower depth\n",
    "- 2 qubit probability not coming out correctly in problem 4"
   ]
  },
  {
   "cell_type": "markdown",
   "id": "7ed44442",
   "metadata": {},
   "source": [
    "# Cohort Project 2021: Trapped Ions"
   ]
  },
  {
   "cell_type": "code",
   "execution_count": 243,
   "id": "37b2b30e",
   "metadata": {},
   "outputs": [],
   "source": [
    "import cirq\n",
    "import numpy as np\n",
    "from matplotlib import pyplot as plt\n",
    "import pandas as pd\n",
    "\n",
    "%matplotlib inline\n",
    "\n",
    "\n",
    "#Set Figure Sizes\n",
    "plt.rcParams[\"figure.figsize\"] = (20,10)"
   ]
  },
  {
   "cell_type": "markdown",
   "id": "ae884ba0",
   "metadata": {},
   "source": [
    "# Functions"
   ]
  },
  {
   "cell_type": "code",
   "execution_count": 315,
   "id": "ead0a38e",
   "metadata": {},
   "outputs": [],
   "source": [
    "class r_gate(cirq.Gate):\n",
    "    \"\"\"Rotation gate.\"\"\"\n",
    "    def __init__(self, theta, phi):\n",
    "        super(r_gate, self)\n",
    "        self.theta = theta\n",
    "        self.phi = phi\n",
    "        \n",
    "\n",
    "    def _num_qubits_(self):\n",
    "        return 1\n",
    "\n",
    "    def _unitary_(self):\n",
    "        return np.array([\n",
    "            [np.cos(self.theta / 2), -1j * np.exp(-1j * self.phi) * np.sin(self.theta / 2)],\n",
    "            [-1j * np.exp(1j * self.phi) * np.sin(self.theta / 2), -np.cos(self.theta / 2)]\n",
    "        ])\n",
    "\n",
    "    def _circuit_diagram_info_(self, args):\n",
    "        return f\"R({self.theta},{self.phi})\"\n",
    "\n",
    "\n",
    "class m_gate(cirq.TwoQubitGate):\n",
    "    \"\"\"M gate\"\"\"\n",
    "    def __init__(self, Theta):\n",
    "        super(m_gate, self)\n",
    "        self.Theta = Theta\n",
    "\n",
    "    def _unitary_(self):\n",
    "        return np.array([\n",
    "            [1.0 * np.cos(self.Theta), 0.0, 0.0, -1j * np.sin(self.Theta)],\n",
    "            [0.0, 1.0 * np.cos(self.Theta), -1j * np.sin(self.Theta), 0.0],\n",
    "            [0.0, -1j * np.sin(self.Theta), 1.0 * np.cos(self.Theta), 0.0],\n",
    "            [-1j * np.sin(self.Theta), 0.0, 0.0, 1.0 * np.cos(self.Theta)]])\n",
    "\n",
    "    def _circuit_diagram_info_(self, args):\n",
    "        return f\"M_rot({self.Theta})\", f\"M_rot({self.Theta})\"\n",
    "\n",
    "\n",
    "    \n",
    "    \n",
    "    \n",
    "def run(N, depth, num_samples, noise=False,del_Theta=0):\n",
    "    qreg = [cirq.LineQubit(i) for i in range(N)]\n",
    "    circuit = cirq.Circuit()\n",
    "\n",
    "    for i in range(depth):\n",
    "        for j in range(N):\n",
    "            # random single-bit gate\n",
    "            theta = 2 * np.pi * np.random.rand()\n",
    "            phi = 2 * np.pi * np.random.rand()\n",
    "            R_gate = r_gate(theta=theta, phi=phi)\n",
    "            # circuit.append(cirq.XPowGate(exponent=theta, global_shift=phi)(qreg[x]))\n",
    "            circuit.append(R_gate(qreg[j]))\n",
    "\n",
    "        # Alternate start qubit for pairs.\n",
    "        idx_first = i % 2\n",
    "        \n",
    "        for j in np.arange(idx_first, N - 1, 2):\n",
    "            Theta = 2 * np.pi * np.random.rand()\n",
    "            M_gate = m_gate(Theta=2 * np.pi * np.random.rand())\n",
    "            circuit.append(M_gate(qreg[j], qreg[j + 1]))\n",
    "\n",
    "    circuit.append([cirq.measure(qreg[i]) for i in range(N)])\n",
    "    # add noise gate\n",
    "    if noise ==True:\n",
    "        circuit.insert(np.random.randint(0, len(circuit)),\n",
    "                       cirq.X(qreg[np.random.randint(0, N)]))\n",
    "    # print('Circuit:')\n",
    "    # print(circuit)\n",
    "\n",
    "    sim = cirq.Simulator()\n",
    "\n",
    "    result = sim.run(circuit, repetitions=num_samples)\n",
    "\n",
    "    return qreg, circuit, result\n",
    "\n",
    "def Prob_X(result,bit_string,num_samples):\n",
    "    num_states = pow(2,N)\n",
    "    agg =result.data.groupby(result.data.columns.tolist(),as_index=False).size()\n",
    "    agg['probability']= agg['size']/num_samples\n",
    "    agg['bit_string'] = ''\n",
    "    for row in range(agg.shape[0]):\n",
    "        for col in range(agg.shape[1]-3):\n",
    "            agg.iloc[row,N+2] +=str(agg.iloc[row,col])\n",
    "    agg_row = agg[agg['bit_string']==bit_string]\n",
    "    if len(agg_row['probability'].values) ==0:\n",
    "        return 0\n",
    "    return agg_row['probability'].values[0]\n",
    "\n",
    "#Cross Entropy\n",
    "def XEB(P_dist,N,sample_size):\n",
    "    return (pow(2,N))*sum(P_dist)-1"
   ]
  },
  {
   "cell_type": "markdown",
   "id": "8fed35fb",
   "metadata": {},
   "source": [
    "# Task 1"
   ]
  },
  {
   "cell_type": "markdown",
   "id": "dd765b4a",
   "metadata": {},
   "source": [
    "## A Single Circuit"
   ]
  },
  {
   "cell_type": "code",
   "execution_count": 182,
   "id": "02603dcb",
   "metadata": {},
   "outputs": [
    {
     "data": {
      "image/png": "[encoded data removed]",
      "text/plain": [
       "<Figure size 1440x720 with 1 Axes>"
      ]
     },
     "metadata": {
      "needs_background": "light"
     },
     "output_type": "display_data"
    }
   ],
   "source": [
    "# basic run of the random circuitnp.random.seed(123)\n",
    "N = 4\n",
    "depth = 3\n",
    "num_samples=10000\n",
    "\n",
    "qreg, circuit, result = run(N, depth,num_samples)\n",
    "_ = cirq.vis.plot_state_histogram(result)"
   ]
  },
  {
   "cell_type": "markdown",
   "id": "6e51a39a",
   "metadata": {},
   "source": [
    "## Outputing probability "
   ]
  },
  {
   "cell_type": "code",
   "execution_count": 183,
   "id": "392d0cac",
   "metadata": {},
   "outputs": [
    {
     "data": {
      "text/plain": [
       "0.0031"
      ]
     },
     "execution_count": 183,
     "metadata": {},
     "output_type": "execute_result"
    }
   ],
   "source": [
    "bit_string = '1001'\n",
    "Prob_X(result,bit_string,num_samples)"
   ]
  },
  {
   "cell_type": "markdown",
   "id": "6ee53d5c",
   "metadata": {},
   "source": [
    "## Interference Visualization"
   ]
  },
  {
   "cell_type": "markdown",
   "id": "cf140f3e",
   "metadata": {},
   "source": [
    "# Task 2"
   ]
  },
  {
   "cell_type": "code",
   "execution_count": 184,
   "id": "2ea156eb",
   "metadata": {},
   "outputs": [
    {
     "data": {
      "image/png": "[encoded data removed]",
      "text/plain": [
       "<Figure size 1440x720 with 9 Axes>"
      ]
     },
     "metadata": {
      "needs_background": "light"
     },
     "output_type": "display_data"
    }
   ],
   "source": [
    "# Add sigma_x randomly and run of the random circuit\n",
    "n_sims = 9\n",
    "N = 4\n",
    "depth = 3\n",
    "n_pl = int(np.ceil(np.sqrt(n_sims)))\n",
    "fig, ax = plt.subplots(n_pl, n_pl)\n",
    "\n",
    "for x in range(n_sims):\n",
    "    i = x % n_pl\n",
    "    j = int(np.floor(x / n_pl))\n",
    "\n",
    "    circuit.insert(np.random.randint(0, len(circuit)),\n",
    "                   cirq.X(qreg[np.random.randint(0, N)]))\n",
    "\n",
    "    sim = cirq.Simulator()\n",
    "    result = sim.run(circuit, repetitions=100)\n",
    "\n",
    "    # result = run(N, depth, sigma_x=True)\n",
    "    _ = cirq.vis.plot_state_histogram(result, ax[i,j])\n",
    "\n"
   ]
  },
  {
   "cell_type": "code",
   "execution_count": 188,
   "id": "4eca54fc",
   "metadata": {},
   "outputs": [
    {
     "data": {
      "image/png": "[encoded data removed]",
      "text/plain": [
       "<Figure size 1440x720 with 4 Axes>"
      ]
     },
     "metadata": {
      "needs_background": "light"
     },
     "output_type": "display_data"
    }
   ],
   "source": [
    "# Test different depths\n",
    "N = 8\n",
    "depths = [2**n for n in range(2)]\n",
    "n_sims = len(depths)\n",
    "n_pl = int(np.ceil(np.sqrt(n_sims)))\n",
    "fig2, ax2 = plt.subplots(n_pl, n_pl)\n",
    "\n",
    "for x in range(n_sims):\n",
    "    np.random.seed(123)\n",
    "    i = x % n_pl\n",
    "    j = int(np.floor(x / n_pl))\n",
    "\n",
    "    qreg, circuit, result = run(N, depths[x],num_samples)\n",
    "    _ = cirq.vis.plot_state_histogram(result, ax2[i, j], title=f\"depth={depths[x]}\")"
   ]
  },
  {
   "cell_type": "markdown",
   "id": "b0bcbe0f",
   "metadata": {},
   "source": [
    "# Task 3  --- returning nans on high depth from gate precision??"
   ]
  },
  {
   "cell_type": "code",
   "execution_count": 279,
   "id": "9b1d01cf",
   "metadata": {},
   "outputs": [],
   "source": [
    "#N = 8, depths = 512\n",
    "\n",
    "N = 8\n",
    "depth = 60\n",
    "num_samples = 5000\n",
    "runs =1000\n",
    "bit_string = '10100000'\n",
    "\n",
    "\n",
    "P_dist =[]\n",
    "\n",
    "# Loop over num of runs calculating p and add it to distribution set\n",
    "#add a random bitflip each time to simulate noise\n",
    "for i in range(runs):\n",
    "    qreg, circuit, result = run(N, depth,num_samples,noise = True)\n",
    "\n",
    "    P_dist.append(Prob_X(result,bit_string,num_samples))\n",
    "#Sort it\n",
    "P_dist.sort()\n",
    "\n",
    "\n"
   ]
  },
  {
   "cell_type": "code",
   "execution_count": 295,
   "id": "8ce8f98e",
   "metadata": {},
   "outputs": [
    {
     "data": {
      "text/plain": [
       "<matplotlib.legend.Legend at 0x21cac8c65b0>"
      ]
     },
     "execution_count": 295,
     "metadata": {},
     "output_type": "execute_result"
    },
    {
     "data": {
      "image/png": "[encoded data removed]",
      "text/plain": [
       "<Figure size 1440x720 with 1 Axes>"
      ]
     },
     "metadata": {
      "needs_background": "light"
     },
     "output_type": "display_data"
    }
   ],
   "source": [
    "# plotting Porter-Thomas Distribution and CDF\n",
    "data = P_dist\n",
    "data = [i/pow(2,N) for i in data]\n",
    "data2=[0.0001*i for i in range(100)]\n",
    "\n",
    "cdf = np.cumsum(data)\n",
    "\n",
    "\n",
    "plt.semilogx()\n",
    "plt.plot(data2,[(1-np.exp(-pow(2,N)*p)) for p in data2],label ='Porter-Thomas')\n",
    "\n",
    "plt.plot(data, cdf, label=\"CDF\")\n",
    "plt.legend()\n"
   ]
  },
  {
   "cell_type": "code",
   "execution_count": 291,
   "id": "949493a1",
   "metadata": {},
   "outputs": [
    {
     "data": {
      "text/plain": [
       "<matplotlib.legend.Legend at 0x21ca6dd0040>"
      ]
     },
     "execution_count": 291,
     "metadata": {},
     "output_type": "execute_result"
    },
    {
     "data": {
      "image/png": "[encoded data removed]",
      "text/plain": [
       "<Figure size 1440x720 with 1 Axes>"
      ]
     },
     "metadata": {
      "needs_background": "light"
     },
     "output_type": "display_data"
    }
   ],
   "source": [
    "N = 2\n",
    "\n",
    "data = P_dist\n",
    "data2=[0.001*i for i in range(1000)]\n",
    "\n",
    "cdf = np.cumsum(data)\n",
    "\n",
    "# plotting Porter-Thomas Distribution and CDF\n",
    "\n",
    "plt.plot(data2,[(1-np.exp(-pow(2,N)*p)) for p in data2],label ='Porter-Thomas')\n",
    "\n",
    "plt.legend()"
   ]
  },
  {
   "cell_type": "markdown",
   "id": "b95b8bf2",
   "metadata": {},
   "source": [
    "# Task 4\n",
    "\n",
    "https://quantumai.google/cirq/qcvv/xeb_theory"
   ]
  },
  {
   "cell_type": "code",
   "execution_count": 321,
   "id": "e1508251",
   "metadata": {},
   "outputs": [
    {
     "name": "stdout",
     "output_type": "stream",
     "text": [
      "0\n",
      "0\n",
      "0\n",
      "0\n",
      "0\n",
      "0\n",
      "0\n",
      "0\n",
      "0\n",
      "0\n",
      "0\n",
      "0\n",
      "0\n",
      "0\n",
      "0\n",
      "0\n",
      "0\n",
      "0\n",
      "0\n",
      "0\n",
      "0\n",
      "0\n",
      "0\n",
      "0\n",
      "0\n",
      "0\n",
      "0\n",
      "0\n",
      "0\n",
      "0\n",
      "0\n",
      "0\n",
      "0\n",
      "0\n",
      "0\n",
      "0\n",
      "0\n",
      "0\n",
      "0\n",
      "0\n",
      "0\n",
      "0\n",
      "0\n",
      "0\n",
      "0\n",
      "0\n",
      "0\n",
      "0\n",
      "0\n",
      "0\n",
      "0\n",
      "0\n",
      "0\n",
      "0\n",
      "0\n",
      "0\n",
      "0\n",
      "0\n",
      "0\n",
      "0\n",
      "0\n",
      "0\n",
      "0\n",
      "0\n",
      "0\n",
      "0\n",
      "0\n",
      "0\n",
      "0\n",
      "0\n",
      "0\n",
      "0\n",
      "0\n",
      "0\n",
      "0\n",
      "0\n",
      "0\n",
      "0\n",
      "0\n",
      "0\n",
      "0\n",
      "0\n",
      "0\n",
      "0\n",
      "0\n",
      "0\n",
      "0\n",
      "0\n",
      "0\n",
      "0\n",
      "0\n",
      "0\n",
      "0\n",
      "0\n",
      "0\n",
      "0\n",
      "0\n",
      "0\n",
      "0\n",
      "0\n",
      "0\n",
      "0\n",
      "0\n",
      "0\n",
      "0\n",
      "0\n",
      "0\n",
      "0\n",
      "0\n",
      "0\n",
      "0\n",
      "0\n",
      "0\n",
      "0\n",
      "0\n",
      "0\n",
      "0\n",
      "0\n",
      "0\n",
      "0\n",
      "0\n",
      "0\n",
      "0\n",
      "0\n",
      "0\n",
      "0\n",
      "0\n",
      "0\n",
      "0\n",
      "0\n",
      "0\n",
      "0\n",
      "0\n",
      "0\n",
      "0\n",
      "0\n",
      "0\n",
      "0\n",
      "0\n",
      "0\n",
      "0\n",
      "0\n",
      "0\n",
      "0\n",
      "0\n",
      "0\n",
      "0\n",
      "0\n",
      "0\n",
      "0\n",
      "0\n",
      "0\n",
      "0\n",
      "0\n",
      "0\n",
      "0\n",
      "0\n",
      "0\n",
      "0\n",
      "0\n",
      "0\n",
      "0\n",
      "0\n",
      "0\n",
      "0\n",
      "0\n",
      "0\n",
      "0\n",
      "0\n",
      "0\n",
      "0\n",
      "0\n",
      "0\n",
      "0\n",
      "0\n",
      "0\n",
      "0\n",
      "0\n",
      "0\n",
      "0\n",
      "0\n",
      "0\n",
      "0\n",
      "0\n",
      "0\n",
      "0\n",
      "0\n",
      "0\n",
      "0\n",
      "0\n",
      "0\n",
      "0\n",
      "0\n",
      "0\n",
      "0\n",
      "0\n",
      "0\n",
      "0\n",
      "0\n",
      "0\n",
      "0\n",
      "0\n",
      "0\n",
      "0\n",
      "0\n",
      "0\n",
      "0\n",
      "0\n",
      "0\n",
      "0\n",
      "0\n",
      "0\n",
      "0\n",
      "0\n",
      "0\n",
      "0\n",
      "0\n",
      "0\n",
      "0\n",
      "0\n",
      "0\n",
      "0\n",
      "0\n",
      "0\n",
      "0\n",
      "0\n",
      "0\n",
      "0\n",
      "0\n",
      "0\n",
      "0\n",
      "0\n",
      "0\n",
      "0\n",
      "0\n",
      "0\n",
      "0\n",
      "0\n",
      "0\n",
      "0\n",
      "0\n",
      "0\n",
      "0\n",
      "0\n",
      "0\n",
      "0\n",
      "0\n",
      "0\n",
      "0\n",
      "0\n",
      "0\n",
      "0\n",
      "0\n",
      "0\n",
      "0\n",
      "0\n",
      "0\n",
      "0\n",
      "0\n",
      "0\n",
      "0\n",
      "0\n",
      "0\n",
      "0\n",
      "0\n",
      "0\n",
      "0\n",
      "0\n",
      "0\n",
      "0\n",
      "0\n",
      "0\n",
      "0\n",
      "0\n",
      "0\n",
      "0\n",
      "0\n",
      "0\n",
      "0\n",
      "0\n",
      "0\n",
      "0\n",
      "0\n",
      "0\n",
      "0\n",
      "0\n",
      "0\n",
      "0\n",
      "0\n",
      "0\n",
      "0\n",
      "0\n",
      "0\n",
      "0\n",
      "0\n",
      "0\n",
      "0\n",
      "0\n",
      "0\n",
      "0\n",
      "0\n",
      "0\n",
      "0\n",
      "0\n",
      "0\n",
      "0\n",
      "0\n",
      "0\n",
      "0\n",
      "0\n",
      "0\n",
      "0\n",
      "0\n",
      "0\n",
      "0\n",
      "0\n",
      "0\n",
      "0\n",
      "0\n",
      "0\n",
      "0\n",
      "0\n",
      "0\n",
      "0\n",
      "0\n",
      "0\n",
      "0\n",
      "0\n",
      "0\n",
      "0\n",
      "0\n",
      "0\n",
      "0\n",
      "0\n",
      "0\n",
      "0\n",
      "0\n",
      "0\n",
      "0\n",
      "0\n",
      "0\n",
      "0\n",
      "0\n",
      "0\n",
      "0\n",
      "0\n",
      "0\n",
      "0\n",
      "0\n",
      "0\n",
      "0\n",
      "0\n",
      "0\n",
      "0\n",
      "0\n",
      "0\n",
      "0\n",
      "0\n",
      "0\n",
      "0\n",
      "0\n",
      "0\n",
      "0\n",
      "0\n",
      "0\n",
      "0\n",
      "0\n",
      "0\n",
      "0\n",
      "0\n",
      "0\n",
      "0\n",
      "0\n",
      "0\n",
      "0\n",
      "0\n",
      "0\n",
      "0\n",
      "0\n",
      "0\n",
      "0\n",
      "0\n",
      "0\n",
      "0\n",
      "0\n",
      "0\n",
      "0\n",
      "0\n",
      "0\n",
      "0\n",
      "0\n",
      "0\n",
      "0\n",
      "0\n",
      "0\n",
      "0\n",
      "0\n",
      "0\n",
      "0\n",
      "0\n"
     ]
    }
   ],
   "source": [
    "# Run several times varying Big Theta and plot F_XEB vs del_Theta\n",
    "\n",
    "N = 2\n",
    "depth = 10\n",
    "num_samples = 100\n",
    "\n",
    "XEBs =[]\n",
    "del_Thetas=[]\n",
    "\n",
    "#Loop over sets of del_Theta\n",
    "del_Theta = 0\n",
    "for i in range(100):\n",
    "    del_Theta+=3.14/100\n",
    "    del_Thetas.append(del_Theta)\n",
    "    #Loop over all bitstring combinations\n",
    "    P_dist = []\n",
    "    for bstring in ['00','01','10','11']:\n",
    "        qreg, circuit, result = run(N, depth,num_samples,del_Theta)\n",
    "        print(Prob_X(result,bit_string,num_samples))\n",
    "        P_dist.append( Prob_X(result,bit_string,num_samples))\n",
    "    XEBs.append(XEB(P_dist,N,num_samples))\n"
   ]
  },
  {
   "cell_type": "code",
   "execution_count": 317,
   "id": "a63b90b4",
   "metadata": {},
   "outputs": [
    {
     "name": "stdout",
     "output_type": "stream",
     "text": [
      "[-1, -1, -1, -1, -1, -1, -1, -1, -1, -1, -1, -1, -1, -1, -1, -1, -1, -1, -1, -1, -1, -1, -1, -1, -1, -1, -1, -1, -1, -1, -1, -1, -1, -1, -1, -1, -1, -1, -1, -1, -1, -1, -1, -1, -1, -1, -1, -1, -1, -1, -1, -1, -1, -1, -1, -1, -1, -1, -1, -1, -1, -1, -1, -1, -1, -1, -1, -1, -1, -1, -1, -1, -1, -1, -1, -1, -1, -1, -1, -1, -1, -1, -1, -1, -1, -1, -1, -1, -1, -1, -1, -1, -1, -1, -1, -1, -1, -1, -1, -1] [0.031400000000000004, 0.06280000000000001, 0.0942, 0.12560000000000002, 0.15700000000000003, 0.18840000000000004, 0.21980000000000005, 0.25120000000000003, 0.2826, 0.314, 0.3454, 0.37679999999999997, 0.40819999999999995, 0.43959999999999994, 0.4709999999999999, 0.5024, 0.5337999999999999, 0.5651999999999999, 0.5965999999999999, 0.6279999999999999, 0.6593999999999999, 0.6907999999999999, 0.7221999999999998, 0.7535999999999998, 0.7849999999999998, 0.8163999999999998, 0.8477999999999998, 0.8791999999999998, 0.9105999999999997, 0.9419999999999997, 0.9733999999999997, 1.0047999999999997, 1.0361999999999998, 1.0675999999999999, 1.099, 1.1304, 1.1618000000000002, 1.1932000000000003, 1.2246000000000004, 1.2560000000000004, 1.2874000000000005, 1.3188000000000006, 1.3502000000000007, 1.3816000000000008, 1.413000000000001, 1.444400000000001, 1.475800000000001, 1.5072000000000012, 1.5386000000000013, 1.5700000000000014, 1.6014000000000015, 1.6328000000000016, 1.6642000000000017, 1.6956000000000018, 1.7270000000000019, 1.758400000000002, 1.789800000000002, 1.8212000000000022, 1.8526000000000022, 1.8840000000000023, 1.9154000000000024, 1.9468000000000025, 1.9782000000000026, 2.0096000000000025, 2.0410000000000026, 2.0724000000000027, 2.103800000000003, 2.135200000000003, 2.166600000000003, 2.198000000000003, 2.229400000000003, 2.2608000000000033, 2.2922000000000033, 2.3236000000000034, 2.3550000000000035, 2.3864000000000036, 2.4178000000000037, 2.449200000000004, 2.480600000000004, 2.512000000000004, 2.543400000000004, 2.574800000000004, 2.6062000000000043, 2.6376000000000044, 2.6690000000000045, 2.7004000000000046, 2.7318000000000047, 2.7632000000000048, 2.794600000000005, 2.826000000000005, 2.857400000000005, 2.888800000000005, 2.9202000000000052, 2.9516000000000053, 2.9830000000000054, 3.0144000000000055, 3.0458000000000056, 3.0772000000000057, 3.108600000000006, 3.140000000000006]\n"
     ]
    },
    {
     "data": {
      "text/plain": [
       "<matplotlib.legend.Legend at 0x21ca5741d60>"
      ]
     },
     "execution_count": 317,
     "metadata": {},
     "output_type": "execute_result"
    },
    {
     "data": {
      "image/png": "[encoded data removed]",
      "text/plain": [
       "<Figure size 1440x720 with 1 Axes>"
      ]
     },
     "metadata": {
      "needs_background": "light"
     },
     "output_type": "display_data"
    }
   ],
   "source": [
    "#Plot  F_XEB vs delta Theta\n",
    "print((XEBs),(del_Thetas))\n",
    "plt.plot(del_Thetas,XEBs,label ='Cross-Entropy')\n",
    "\n",
    "plt.legend()"
   ]
  }
 ],
 "metadata": {
  "kernelspec": {
   "display_name": "TIons",
   "language": "python",
   "name": "tions"
  },
  "language_info": {
   "codemirror_mode": {
    "name": "ipython",
    "version": 3
   },
   "file_extension": ".py",
   "mimetype": "text/x-python",
   "name": "python",
   "nbconvert_exporter": "python",
   "pygments_lexer": "ipython3",
   "version": "3.8.8"
  },
  "toc": {
   "base_numbering": 1,
   "nav_menu": {},
   "number_sections": true,
   "sideBar": true,
   "skip_h1_title": false,
   "title_cell": "Table of Contents",
   "title_sidebar": "Contents",
   "toc_cell": false,
   "toc_position": {
    "height": "calc(100% - 180px)",
    "left": "10px",
    "top": "150px",
    "width": "317.433px"
   },
   "toc_section_display": true,
   "toc_window_display": true
  }
 },
 "nbformat": 4,
 "nbformat_minor": 5
}
