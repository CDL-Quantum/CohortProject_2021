{
 "cells": [
  {
   "cell_type": "markdown",
   "source": [
    "## Week 1. Trapped Ions - Task 3\n",
    "Author: QuNovaComputing, Inc.\n",
    "- - -\n",
    "We calculate the empirical distribution of $p$, defined as a probability to find\n",
    "a fixed output bit string $x$ from the outcomes from multiple RQCs.\n",
    "The distribution of $p$ is known to converge to the Poter-Thomas distribution as the circuit deeper so that\n",
    "\n",
    "$$ p \\sim 2^N e^{-2^N p} $$\n",
    "\n",
    ", where $N$ is the number of qubits.\n",
    "So, the corresponding cdf(Cumulative Distribution Function) becomes\n",
    "\n",
    "$$ 1 - e^{-2^N p}. $$\n",
    "\n",
    "We plot the empirical CDF of $p$ for RQCs with different depths and check if it follows the theoretical result.\n",
    "\n",
    "\n",
    "First, import libraries below:"
   ],
   "metadata": {
    "collapsed": false,
    "pycharm": {
     "name": "#%% md\n"
    }
   }
  },
  {
   "cell_type": "code",
   "execution_count": 56,
   "metadata": {
    "collapsed": true
   },
   "outputs": [],
   "source": [
    "import pickle\n",
    "import numpy as np\n",
    "import matplotlib.pyplot as plt"
   ]
  },
  {
   "cell_type": "markdown",
   "source": [
    "Running the python script `./task3_simulation.py`, the histogram results for various circuit depths are generated and\n",
    "pickled to the file with the path of `log_file_path`. Open the file to get data."
   ],
   "metadata": {
    "collapsed": false,
    "pycharm": {
     "name": "#%% md\n"
    }
   }
  },
  {
   "cell_type": "code",
   "execution_count": 57,
   "outputs": [],
   "source": [
    "log_file_path = \"./task3_simulation_result_more_d.txt\"\n",
    "with open(log_file_path, 'rb') as of:\n",
    "    result = pickle.load(of)\n",
    "    num_qubits = result['num_qubits']\n",
    "    num_shots = result['num_shots']\n",
    "    data = result['data']"
   ],
   "metadata": {
    "collapsed": false,
    "pycharm": {
     "name": "#%%\n"
    }
   }
  },
  {
   "cell_type": "markdown",
   "source": [
    "The `data` is a dictionary with keys of depth and the values of list of histograms for multiple RQCs."
   ],
   "metadata": {
    "collapsed": false
   }
  },
  {
   "cell_type": "code",
   "execution_count": 58,
   "outputs": [
    {
     "name": "stdout",
     "output_type": "stream",
     "text": [
      "num_qubits = 8\n",
      "num_shots = 10000\n",
      "histogram data : \n",
      "depth = 1\n",
      "\t[0.0006000000000000001, 0.0004, 0.0002 ... 0.0011000000000000003]\n",
      "\t[0.0, 0.00030000000000000003, 0.0 ... 0.012299999999999981]\n",
      "\t[0.0, 0.0022, 0.0001 ... 0.0035999999999999977]\n",
      "\t[0.0002, 0.0001, 0.0002 ... 0.0008000000000000001]\n",
      "\t... 10000 histograms\n",
      "depth = 2\n",
      "\t[0.0017000000000000006, 0.0009000000000000002, 0.007400000000000006 ... 0.0]\n",
      "\t[0.0, 0.0008000000000000001, 0.0029999999999999988 ... 0.008800000000000002]\n",
      "\t[0.003399999999999998, 0.006200000000000003, 0.0009000000000000002 ... 0.005700000000000002]\n",
      "\t[0.0, 0.0001, 0.0001 ... 0.01759999999999995]\n",
      "\t... 10000 histograms\n",
      "depth = 10\n",
      "\t[0.0024999999999999996, 0.0009000000000000002, 0.013599999999999973 ... 0.006000000000000003]\n",
      "\t[0.0017000000000000006, 0.0011000000000000003, 0.0037999999999999974 ... 0.0002]\n",
      "\t[0.004599999999999999, 0.0010000000000000002, 0.018499999999999944 ... 0.0004]\n",
      "\t[0.0, 0.0011000000000000003, 0.0 ... 0.0018000000000000006]\n",
      "\t... 10000 histograms\n",
      "depth = 30\n",
      "\t[0.02079999999999993, 0.0011000000000000003, 0.003399999999999998 ... 0.0019000000000000006]\n",
      "\t[0.0, 0.0024999999999999996, 0.0005 ... 0.0004]\n",
      "\t[0.0051, 0.002799999999999999, 0.0017000000000000006 ... 0.0004]\n",
      "\t[0.0006000000000000001, 0.009000000000000001, 0.005300000000000001 ... 0.008400000000000005]\n",
      "\t... 10000 histograms\n",
      "depth = 512\n",
      "\t[0.0049, 0.0002, 0.0023 ... 0.0009000000000000002]\n",
      "\t[0.0024, 0.0032999999999999982, 0.0022 ... 0.0009000000000000002]\n",
      "\t[0.0001, 0.0025999999999999994, 0.0007000000000000001 ... 0.0009000000000000002]\n",
      "\t[0.0037999999999999974, 0.007700000000000007, 0.009000000000000001 ... 0.0016000000000000005]\n",
      "\t... 10000 histograms\n"
     ]
    }
   ],
   "source": [
    "print(f\"num_qubits = {num_qubits}\")\n",
    "print(f\"num_shots = {num_shots}\")\n",
    "print(\"histogram data : \")\n",
    "for D in data:\n",
    "    print(f\"depth = {D}\")\n",
    "    for i, hist in enumerate(data[D]):\n",
    "        print(f\"\\t{str(hist[:3])[:-1]} ... {hist[-1]}]\")\n",
    "        if i > 2:\n",
    "            break\n",
    "    print(f\"\\t... {num_shots} histograms\")"
   ],
   "metadata": {
    "collapsed": false,
    "pycharm": {
     "name": "#%%\n"
    }
   }
  },
  {
   "cell_type": "markdown",
   "source": [
    "Select a bit $ x = 7 $, calculate the CDF of $p$."
   ],
   "metadata": {
    "collapsed": false,
    "pycharm": {
     "name": "#%% md\n"
    }
   }
  },
  {
   "cell_type": "code",
   "execution_count": 59,
   "outputs": [],
   "source": [
    "x=7\n",
    "step = [i/num_shots for i in range(num_shots)]\n",
    "p_x = {D: sorted([data[D][i][x] for i in range(len(data[D]))]) for D in data}\n",
    "cdf = dict()\n",
    "for D in data:\n",
    "    cdf_D = list()\n",
    "    for th in step:\n",
    "        cdf_D.append(len([v for v in p_x[D] if v < th])/len(p_x[D]))\n",
    "    cdf.update({D:cdf_D})\n",
    "pt_cdf = [1 - np.exp(-2**num_qubits * th) for th in step]"
   ],
   "metadata": {
    "collapsed": false,
    "pycharm": {
     "name": "#%%\n"
    }
   }
  },
  {
   "cell_type": "markdown",
   "source": [
    "Plot the results and compare to the theoretical result. We can observe that the CDF converges to Porter-Thomas distribution as the RQC deeper.\n",
    "The horizontal axis represents $p$ and the vertical axis is $CDF(p)$."
   ],
   "metadata": {
    "collapsed": false,
    "pycharm": {
     "name": "#%% md\n"
    }
   }
  },
  {
   "cell_type": "code",
   "execution_count": 60,
   "outputs": [
    {
     "data": {
      "text/plain": "<matplotlib.legend.Legend at 0x7fc6ecdf1370>"
     },
     "execution_count": 60,
     "metadata": {},
     "output_type": "execute_result"
    },
    {
     "data": {
      "text/plain": "<Figure size 432x288 with 1 Axes>",
      "image/png": "[encoded data removed]"
     },
     "metadata": {
      "needs_background": "light"
     },
     "output_type": "display_data"
    }
   ],
   "source": [
    "for D in p_x:\n",
    "    plt.plot(step, cdf[D], label=str(D))\n",
    "plt.plot(step, pt_cdf, label=\"Porter-Thomas\")\n",
    "plt.xscale(\"log\")\n",
    "plt.legend()"
   ],
   "metadata": {
    "collapsed": false,
    "pycharm": {
     "name": "#%%\n"
    }
   }
  }
 ],
 "metadata": {
  "kernelspec": {
   "display_name": "Python 3",
   "language": "python",
   "name": "python3"
  },
  "language_info": {
   "codemirror_mode": {
    "name": "ipython",
    "version": 2
   },
   "file_extension": ".py",
   "mimetype": "text/x-python",
   "name": "python",
   "nbconvert_exporter": "python",
   "pygments_lexer": "ipython2",
   "version": "2.7.6"
  }
 },
 "nbformat": 4,
 "nbformat_minor": 0
}