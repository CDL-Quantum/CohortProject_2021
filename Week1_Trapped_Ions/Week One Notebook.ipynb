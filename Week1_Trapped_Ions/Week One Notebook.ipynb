{
 "cells": [
  {
   "cell_type": "code",
   "execution_count": 37,
   "metadata": {},
   "outputs": [],
   "source": [
    "try:\n",
    "    import cirq\n",
    "except ImportError:\n",
    "    print(\"installing cirq...\")\n",
    "    !pip install --quiet cirq\n",
    "    print(\"installed cirq.\")"
   ]
  },
  {
   "cell_type": "code",
   "execution_count": 38,
   "metadata": {},
   "outputs": [],
   "source": [
    "import numpy as np\n",
    "import random\n",
    "from cirq import Simulator\n",
    "from cirq.circuits import InsertStrategy\n",
    "import matplotlib.pyplot as plt\n",
    "import matplotlib.path as mpath\n",
    "import matplotlib.lines as mlines\n",
    "import matplotlib.patches as mpatches\n",
    "from matplotlib.collections import PatchCollection\n",
    "from turtle import Turtle, Screen\n",
    "import turtle"
   ]
  },
  {
   "cell_type": "markdown",
   "metadata": {},
   "source": [
    "Define the Gates R and M"
   ]
  },
  {
   "cell_type": "code",
   "execution_count": 39,
   "metadata": {},
   "outputs": [],
   "source": [
    "class gateR(cirq.Gate):\n",
    "    def __init__(self,theta,phi):\n",
    "        super(gateR,self)\n",
    "        self.theta = theta\n",
    "        self.phi = phi\n",
    "        \n",
    "    def num_qubits(self):\n",
    "        return 1\n",
    "    \n",
    "    def _unitary_(self):\n",
    "        return np.array([\n",
    "            [np.cos(self.theta/2),(-1j*np.exp(-1j*self.phi))*np.sin(self.theta/2)],\n",
    "            [(-1j*np.exp(-1j*self.phi))*np.sin(self.theta/2),np.cos(self.theta/2)]\n",
    "        ])\n",
    "    \n",
    "    def _circuit_diagram_info_(self, args):\n",
    "        return \"R\"\n",
    "    \n",
    "class gateM(cirq.TwoQubitGate):\n",
    "    def __init__(self,theta):\n",
    "        super(gateM,self)\n",
    "        self.theta = theta\n",
    "    \n",
    "    def num_qubits(self):\n",
    "        return 2\n",
    "    \n",
    "    def _unitary_(self):\n",
    "        return np.array([\n",
    "            [np.cos(self.theta),0,0,-1j*np.sin(self.theta)],\n",
    "            [0,np.cos(self.theta),-1j*np.sin(self.theta),0],\n",
    "            [0,-1j*np.sin(self.theta),np.cos(self.theta),0],\n",
    "            [-1j*np.sin(self.theta),0,0,np.cos(self.theta)]\n",
    "        ])\n",
    "    \n",
    "    def _circuit_diagram_info_(self, args):\n",
    "        return \"%\",\"%\"\n"
   ]
  },
  {
   "cell_type": "code",
   "execution_count": 40,
   "metadata": {},
   "outputs": [],
   "source": [
    "def run(N,depth,SampleSize):\n",
    "    qubits = [cirq.LineQubit(x) for x in range(N)]\n",
    "    circuit = cirq.Circuit([])\n",
    "    gates = ()\n",
    "    for i in range(depth):\n",
    "        idx_first = i % 2 \n",
    "\n",
    "        circuit.append((gateR(theta=2*np.pi*random.random(),phi=2*np.pi*random.random()).on(qubits[j]) for j in range(N)))\n",
    "        circuit.append((gateM(theta=2*np.pi*random.random()).on(qubits[j],qubits[j+1]) for j in range(idx_first,N-1)))\n",
    "    circuit.append([cirq.measure(q,key=f'q{count}') for count,q in enumerate(qubits)])\n",
    "    result = cirq.Simulator().run(circuit, repetitions=SampleSize)\n",
    "    #_ = cirq.vis.plot_state_histogram(result, plt.subplot())\n",
    "    prob_df=result.data.groupby(result.data.columns.tolist(),as_index=False).size()\n",
    "    prob_df['Probabilities']=prob_df['size']/SampleSize\n",
    "    return list(prob_df['Probabilities'])"
   ]
  },
  {
   "cell_type": "code",
   "execution_count": 41,
   "metadata": {},
   "outputs": [],
   "source": [
    "SampleSize = 1000\n",
    "prob_list = []\n",
    "values = [(3,5),(3,8),(2,10),(4,8)]\n",
    "while values:\n",
    "    n,d = values.pop(0)\n",
    "    curr = run(n,d,SampleSize)\n",
    "    prob_list.append(curr)"
   ]
  },
  {
   "cell_type": "code",
   "execution_count": 42,
   "metadata": {
    "scrolled": false
   },
   "outputs": [],
   "source": [
    "def plot_speckle(prob_list):\n",
    "    for count, prob in enumerate(prob_list):\n",
    "        x = range(len(prob))\n",
    "        y = [count]*len(prob)\n",
    "        colors = [\"blue\"]\n",
    "        sizes = [x*100 for x in prob]\n",
    "        plt.scatter(x, y, c=colors, s=sizes, alpha=0.3,\n",
    "                       cmap='viridis') \n"
   ]
  },
  {
   "cell_type": "code",
   "execution_count": 43,
   "metadata": {},
   "outputs": [
    {
     "data": {
      "image/png": "[encoded data removed]",
      "text/plain": [
       "<Figure size 432x288 with 1 Axes>"
      ]
     },
     "metadata": {
      "needs_background": "light"
     },
     "output_type": "display_data"
    }
   ],
   "source": [
    "plot_speckle(prob_list)"
   ]
  },
  {
   "cell_type": "markdown",
   "metadata": {},
   "source": [
    "TASK 2: "
   ]
  },
  {
   "cell_type": "code",
   "execution_count": 44,
   "metadata": {},
   "outputs": [],
   "source": [
    "def runMultiple(N,depth,SampleSize,runs=10):\n",
    "    _result = []\n",
    "    for _ in range(runs):\n",
    "        qubits = [cirq.LineQubit(x) for x in range(N)]\n",
    "        circuit = cirq.Circuit([])\n",
    "        gates = ()\n",
    "        for i in range(depth):\n",
    "            idx_first = i % 2 \n",
    "\n",
    "            circuit.append((gateR(theta=2*np.pi*random.random(),phi=2*np.pi*random.random()).on(qubits[j]) for j in range(N)))\n",
    "            circuit.append((gateM(theta=2*np.pi*random.random()).on(qubits[j],qubits[j+1]) for j in range(idx_first,N-1)))\n",
    "        circuit.append(cirq.X.on(qubits[random.randrange(0, N-1)]))\n",
    "        circuit.append([cirq.measure(q,key=f'q{count}') for count,q in enumerate(qubits)])\n",
    "        result = cirq.Simulator().run(circuit, repetitions=SampleSize)\n",
    "        #_ = cirq.vis.plot_state_histogram(result, plt.subplot())\n",
    "        prob_df=result.data.groupby(result.data.columns.tolist(),as_index=False).size()\n",
    "        _result.append(list(prob_df['size']/SampleSize))\n",
    "    return _result"
   ]
  },
  {
   "cell_type": "code",
   "execution_count": 45,
   "metadata": {},
   "outputs": [],
   "source": [
    "N = 4\n",
    "depth = 8\n",
    "SampleSize = 1000\n",
    "probs =runMultiple(4,8,SampleSize)"
   ]
  },
  {
   "cell_type": "code",
   "execution_count": 46,
   "metadata": {},
   "outputs": [
    {
     "data": {
      "image/png": "[encoded data removed]",
      "text/plain": [
       "<Figure size 432x288 with 1 Axes>"
      ]
     },
     "metadata": {
      "needs_background": "light"
     },
     "output_type": "display_data"
    }
   ],
   "source": [
    "plot_speckle(probs)"
   ]
  },
  {
   "cell_type": "markdown",
   "metadata": {},
   "source": [
    "TASK 3"
   ]
  },
  {
   "cell_type": "code",
   "execution_count": 116,
   "metadata": {},
   "outputs": [
    {
     "name": "stderr",
     "output_type": "stream",
     "text": [
      "/Users/williamngana/opt/anaconda3/lib/python3.8/site-packages/cirq/sim/state_vector.py:346: RuntimeWarning: invalid value encountered in true_divide\n",
      "  probs /= np.sum(probs)\n"
     ]
    },
    {
     "ename": "ValueError",
     "evalue": "probabilities contain NaN",
     "output_type": "error",
     "traceback": [
      "\u001b[0;31m---------------------------------------------------------------------------\u001b[0m",
      "\u001b[0;31mValueError\u001b[0m                                Traceback (most recent call last)",
      "\u001b[0;32m<ipython-input-116-21aa6a2d6d4d>\u001b[0m in \u001b[0;36m<module>\u001b[0;34m\u001b[0m\n\u001b[1;32m      1\u001b[0m \u001b[0mSampleSize\u001b[0m \u001b[0;34m=\u001b[0m \u001b[0;36m5000\u001b[0m\u001b[0;34m\u001b[0m\u001b[0;34m\u001b[0m\u001b[0m\n\u001b[1;32m      2\u001b[0m \u001b[0mdepth1\u001b[0m \u001b[0;34m=\u001b[0m \u001b[0mrun\u001b[0m\u001b[0;34m(\u001b[0m\u001b[0;36m8\u001b[0m\u001b[0;34m,\u001b[0m\u001b[0;36m1\u001b[0m\u001b[0;34m,\u001b[0m\u001b[0mSampleSize\u001b[0m\u001b[0;34m)\u001b[0m\u001b[0;34m\u001b[0m\u001b[0;34m\u001b[0m\u001b[0m\n\u001b[0;32m----> 3\u001b[0;31m \u001b[0mdepth512\u001b[0m \u001b[0;34m=\u001b[0m \u001b[0mrun\u001b[0m\u001b[0;34m(\u001b[0m\u001b[0;36m8\u001b[0m\u001b[0;34m,\u001b[0m\u001b[0;36m500\u001b[0m\u001b[0;34m,\u001b[0m\u001b[0mSampleSize\u001b[0m\u001b[0;34m)\u001b[0m\u001b[0;34m\u001b[0m\u001b[0;34m\u001b[0m\u001b[0m\n\u001b[0m",
      "\u001b[0;32m<ipython-input-40-ba137464d9e3>\u001b[0m in \u001b[0;36mrun\u001b[0;34m(N, depth, SampleSize)\u001b[0m\n\u001b[1;32m      9\u001b[0m         \u001b[0mcircuit\u001b[0m\u001b[0;34m.\u001b[0m\u001b[0mappend\u001b[0m\u001b[0;34m(\u001b[0m\u001b[0;34m(\u001b[0m\u001b[0mgateM\u001b[0m\u001b[0;34m(\u001b[0m\u001b[0mtheta\u001b[0m\u001b[0;34m=\u001b[0m\u001b[0;36m2\u001b[0m\u001b[0;34m*\u001b[0m\u001b[0mnp\u001b[0m\u001b[0;34m.\u001b[0m\u001b[0mpi\u001b[0m\u001b[0;34m*\u001b[0m\u001b[0mrandom\u001b[0m\u001b[0;34m.\u001b[0m\u001b[0mrandom\u001b[0m\u001b[0;34m(\u001b[0m\u001b[0;34m)\u001b[0m\u001b[0;34m)\u001b[0m\u001b[0;34m.\u001b[0m\u001b[0mon\u001b[0m\u001b[0;34m(\u001b[0m\u001b[0mqubits\u001b[0m\u001b[0;34m[\u001b[0m\u001b[0mj\u001b[0m\u001b[0;34m]\u001b[0m\u001b[0;34m,\u001b[0m\u001b[0mqubits\u001b[0m\u001b[0;34m[\u001b[0m\u001b[0mj\u001b[0m\u001b[0;34m+\u001b[0m\u001b[0;36m1\u001b[0m\u001b[0;34m]\u001b[0m\u001b[0;34m)\u001b[0m \u001b[0;32mfor\u001b[0m \u001b[0mj\u001b[0m \u001b[0;32min\u001b[0m \u001b[0mrange\u001b[0m\u001b[0;34m(\u001b[0m\u001b[0midx_first\u001b[0m\u001b[0;34m,\u001b[0m\u001b[0mN\u001b[0m\u001b[0;34m-\u001b[0m\u001b[0;36m1\u001b[0m\u001b[0;34m)\u001b[0m\u001b[0;34m)\u001b[0m\u001b[0;34m)\u001b[0m\u001b[0;34m\u001b[0m\u001b[0;34m\u001b[0m\u001b[0m\n\u001b[1;32m     10\u001b[0m     \u001b[0mcircuit\u001b[0m\u001b[0;34m.\u001b[0m\u001b[0mappend\u001b[0m\u001b[0;34m(\u001b[0m\u001b[0;34m[\u001b[0m\u001b[0mcirq\u001b[0m\u001b[0;34m.\u001b[0m\u001b[0mmeasure\u001b[0m\u001b[0;34m(\u001b[0m\u001b[0mq\u001b[0m\u001b[0;34m,\u001b[0m\u001b[0mkey\u001b[0m\u001b[0;34m=\u001b[0m\u001b[0;34mf'q{count}'\u001b[0m\u001b[0;34m)\u001b[0m \u001b[0;32mfor\u001b[0m \u001b[0mcount\u001b[0m\u001b[0;34m,\u001b[0m\u001b[0mq\u001b[0m \u001b[0;32min\u001b[0m \u001b[0menumerate\u001b[0m\u001b[0;34m(\u001b[0m\u001b[0mqubits\u001b[0m\u001b[0;34m)\u001b[0m\u001b[0;34m]\u001b[0m\u001b[0;34m)\u001b[0m\u001b[0;34m\u001b[0m\u001b[0;34m\u001b[0m\u001b[0m\n\u001b[0;32m---> 11\u001b[0;31m     \u001b[0mresult\u001b[0m \u001b[0;34m=\u001b[0m \u001b[0mcirq\u001b[0m\u001b[0;34m.\u001b[0m\u001b[0mSimulator\u001b[0m\u001b[0;34m(\u001b[0m\u001b[0;34m)\u001b[0m\u001b[0;34m.\u001b[0m\u001b[0mrun\u001b[0m\u001b[0;34m(\u001b[0m\u001b[0mcircuit\u001b[0m\u001b[0;34m,\u001b[0m \u001b[0mrepetitions\u001b[0m\u001b[0;34m=\u001b[0m\u001b[0mSampleSize\u001b[0m\u001b[0;34m)\u001b[0m\u001b[0;34m\u001b[0m\u001b[0;34m\u001b[0m\u001b[0m\n\u001b[0m\u001b[1;32m     12\u001b[0m     \u001b[0;31m#_ = cirq.vis.plot_state_histogram(result, plt.subplot())\u001b[0m\u001b[0;34m\u001b[0m\u001b[0;34m\u001b[0m\u001b[0;34m\u001b[0m\u001b[0m\n\u001b[1;32m     13\u001b[0m     \u001b[0mprob_df\u001b[0m\u001b[0;34m=\u001b[0m\u001b[0mresult\u001b[0m\u001b[0;34m.\u001b[0m\u001b[0mdata\u001b[0m\u001b[0;34m.\u001b[0m\u001b[0mgroupby\u001b[0m\u001b[0;34m(\u001b[0m\u001b[0mresult\u001b[0m\u001b[0;34m.\u001b[0m\u001b[0mdata\u001b[0m\u001b[0;34m.\u001b[0m\u001b[0mcolumns\u001b[0m\u001b[0;34m.\u001b[0m\u001b[0mtolist\u001b[0m\u001b[0;34m(\u001b[0m\u001b[0;34m)\u001b[0m\u001b[0;34m,\u001b[0m\u001b[0mas_index\u001b[0m\u001b[0;34m=\u001b[0m\u001b[0;32mFalse\u001b[0m\u001b[0;34m)\u001b[0m\u001b[0;34m.\u001b[0m\u001b[0msize\u001b[0m\u001b[0;34m(\u001b[0m\u001b[0;34m)\u001b[0m\u001b[0;34m\u001b[0m\u001b[0;34m\u001b[0m\u001b[0m\n",
      "\u001b[0;32m~/opt/anaconda3/lib/python3.8/site-packages/cirq/work/sampler.py\u001b[0m in \u001b[0;36mrun\u001b[0;34m(self, program, param_resolver, repetitions)\u001b[0m\n\u001b[1;32m     47\u001b[0m             \u001b[0mResult\u001b[0m \u001b[0;32mfor\u001b[0m \u001b[0ma\u001b[0m \u001b[0mrun\u001b[0m\u001b[0;34m.\u001b[0m\u001b[0;34m\u001b[0m\u001b[0;34m\u001b[0m\u001b[0m\n\u001b[1;32m     48\u001b[0m         \"\"\"\n\u001b[0;32m---> 49\u001b[0;31m         \u001b[0;32mreturn\u001b[0m \u001b[0mself\u001b[0m\u001b[0;34m.\u001b[0m\u001b[0mrun_sweep\u001b[0m\u001b[0;34m(\u001b[0m\u001b[0mprogram\u001b[0m\u001b[0;34m,\u001b[0m \u001b[0mstudy\u001b[0m\u001b[0;34m.\u001b[0m\u001b[0mParamResolver\u001b[0m\u001b[0;34m(\u001b[0m\u001b[0mparam_resolver\u001b[0m\u001b[0;34m)\u001b[0m\u001b[0;34m,\u001b[0m \u001b[0mrepetitions\u001b[0m\u001b[0;34m)\u001b[0m\u001b[0;34m[\u001b[0m\u001b[0;36m0\u001b[0m\u001b[0;34m]\u001b[0m\u001b[0;34m\u001b[0m\u001b[0;34m\u001b[0m\u001b[0m\n\u001b[0m\u001b[1;32m     50\u001b[0m \u001b[0;34m\u001b[0m\u001b[0m\n\u001b[1;32m     51\u001b[0m     def sample(\n",
      "\u001b[0;32m~/opt/anaconda3/lib/python3.8/site-packages/cirq/sim/simulator.py\u001b[0m in \u001b[0;36mrun_sweep\u001b[0;34m(self, program, params, repetitions)\u001b[0m\n\u001b[1;32m    100\u001b[0m                     \u001b[0mmeasurements\u001b[0m\u001b[0;34m[\u001b[0m\u001b[0mprotocols\u001b[0m\u001b[0;34m.\u001b[0m\u001b[0mmeasurement_key\u001b[0m\u001b[0;34m(\u001b[0m\u001b[0mop\u001b[0m\u001b[0;34m)\u001b[0m\u001b[0;34m]\u001b[0m \u001b[0;34m=\u001b[0m \u001b[0mnp\u001b[0m\u001b[0;34m.\u001b[0m\u001b[0mempty\u001b[0m\u001b[0;34m(\u001b[0m\u001b[0;34m[\u001b[0m\u001b[0;36m0\u001b[0m\u001b[0;34m,\u001b[0m \u001b[0;36m1\u001b[0m\u001b[0;34m]\u001b[0m\u001b[0;34m)\u001b[0m\u001b[0;34m\u001b[0m\u001b[0;34m\u001b[0m\u001b[0m\n\u001b[1;32m    101\u001b[0m             \u001b[0;32melse\u001b[0m\u001b[0;34m:\u001b[0m\u001b[0;34m\u001b[0m\u001b[0;34m\u001b[0m\u001b[0m\n\u001b[0;32m--> 102\u001b[0;31m                 measurements = self._run(\n\u001b[0m\u001b[1;32m    103\u001b[0m                     \u001b[0mcircuit\u001b[0m\u001b[0;34m=\u001b[0m\u001b[0mprogram\u001b[0m\u001b[0;34m,\u001b[0m \u001b[0mparam_resolver\u001b[0m\u001b[0;34m=\u001b[0m\u001b[0mparam_resolver\u001b[0m\u001b[0;34m,\u001b[0m \u001b[0mrepetitions\u001b[0m\u001b[0;34m=\u001b[0m\u001b[0mrepetitions\u001b[0m\u001b[0;34m\u001b[0m\u001b[0;34m\u001b[0m\u001b[0m\n\u001b[1;32m    104\u001b[0m                 )\n",
      "\u001b[0;32m~/opt/anaconda3/lib/python3.8/site-packages/cirq/sim/simulator_base.py\u001b[0m in \u001b[0;36m_run\u001b[0;34m(self, circuit, param_resolver, repetitions)\u001b[0m\n\u001b[1;32m    223\u001b[0m             \u001b[0;32massert\u001b[0m \u001b[0mstep_result\u001b[0m \u001b[0;32mis\u001b[0m \u001b[0;32mnot\u001b[0m \u001b[0;32mNone\u001b[0m\u001b[0;34m\u001b[0m\u001b[0;34m\u001b[0m\u001b[0m\n\u001b[1;32m    224\u001b[0m             \u001b[0mmeasurement_ops\u001b[0m \u001b[0;34m=\u001b[0m \u001b[0;34m[\u001b[0m\u001b[0mcast\u001b[0m\u001b[0;34m(\u001b[0m\u001b[0mops\u001b[0m\u001b[0;34m.\u001b[0m\u001b[0mGateOperation\u001b[0m\u001b[0;34m,\u001b[0m \u001b[0mop\u001b[0m\u001b[0;34m)\u001b[0m \u001b[0;32mfor\u001b[0m \u001b[0mop\u001b[0m \u001b[0;32min\u001b[0m \u001b[0mgeneral_ops\u001b[0m\u001b[0;34m]\u001b[0m\u001b[0;34m\u001b[0m\u001b[0;34m\u001b[0m\u001b[0m\n\u001b[0;32m--> 225\u001b[0;31m             \u001b[0;32mreturn\u001b[0m \u001b[0mstep_result\u001b[0m\u001b[0;34m.\u001b[0m\u001b[0msample_measurement_ops\u001b[0m\u001b[0;34m(\u001b[0m\u001b[0mmeasurement_ops\u001b[0m\u001b[0;34m,\u001b[0m \u001b[0mrepetitions\u001b[0m\u001b[0;34m,\u001b[0m \u001b[0mseed\u001b[0m\u001b[0;34m=\u001b[0m\u001b[0mself\u001b[0m\u001b[0;34m.\u001b[0m\u001b[0m_prng\u001b[0m\u001b[0;34m)\u001b[0m\u001b[0;34m\u001b[0m\u001b[0;34m\u001b[0m\u001b[0m\n\u001b[0m\u001b[1;32m    226\u001b[0m \u001b[0;34m\u001b[0m\u001b[0m\n\u001b[1;32m    227\u001b[0m         \u001b[0mmeasurements\u001b[0m\u001b[0;34m:\u001b[0m \u001b[0mDict\u001b[0m\u001b[0;34m[\u001b[0m\u001b[0mstr\u001b[0m\u001b[0;34m,\u001b[0m \u001b[0mList\u001b[0m\u001b[0;34m[\u001b[0m\u001b[0mnp\u001b[0m\u001b[0;34m.\u001b[0m\u001b[0mndarray\u001b[0m\u001b[0;34m]\u001b[0m\u001b[0;34m]\u001b[0m \u001b[0;34m=\u001b[0m \u001b[0;34m{\u001b[0m\u001b[0;34m}\u001b[0m\u001b[0;34m\u001b[0m\u001b[0;34m\u001b[0m\u001b[0m\n",
      "\u001b[0;32m~/opt/anaconda3/lib/python3.8/site-packages/cirq/sim/simulator.py\u001b[0m in \u001b[0;36msample_measurement_ops\u001b[0;34m(self, measurement_ops, repetitions, seed)\u001b[0m\n\u001b[1;32m    670\u001b[0m \u001b[0;34m\u001b[0m\u001b[0m\n\u001b[1;32m    671\u001b[0m         \u001b[0;31m# Perform whole-system sampling of the measured qubits.\u001b[0m\u001b[0;34m\u001b[0m\u001b[0;34m\u001b[0m\u001b[0;34m\u001b[0m\u001b[0m\n\u001b[0;32m--> 672\u001b[0;31m         \u001b[0mindexed_sample\u001b[0m \u001b[0;34m=\u001b[0m \u001b[0mself\u001b[0m\u001b[0;34m.\u001b[0m\u001b[0msample\u001b[0m\u001b[0;34m(\u001b[0m\u001b[0mmeasured_qubits\u001b[0m\u001b[0;34m,\u001b[0m \u001b[0mrepetitions\u001b[0m\u001b[0;34m,\u001b[0m \u001b[0mseed\u001b[0m\u001b[0;34m=\u001b[0m\u001b[0mseed\u001b[0m\u001b[0;34m)\u001b[0m\u001b[0;34m\u001b[0m\u001b[0;34m\u001b[0m\u001b[0m\n\u001b[0m\u001b[1;32m    673\u001b[0m \u001b[0;34m\u001b[0m\u001b[0m\n\u001b[1;32m    674\u001b[0m         \u001b[0;31m# Extract results for each measurement.\u001b[0m\u001b[0;34m\u001b[0m\u001b[0;34m\u001b[0m\u001b[0;34m\u001b[0m\u001b[0m\n",
      "\u001b[0;32m~/opt/anaconda3/lib/python3.8/site-packages/cirq/sim/sparse_simulator.py\u001b[0m in \u001b[0;36msample\u001b[0;34m(self, qubits, repetitions, seed)\u001b[0m\n\u001b[1;32m    331\u001b[0m     ) -> np.ndarray:\n\u001b[1;32m    332\u001b[0m         \u001b[0mindices\u001b[0m \u001b[0;34m=\u001b[0m \u001b[0;34m[\u001b[0m\u001b[0mself\u001b[0m\u001b[0;34m.\u001b[0m\u001b[0mqubit_map\u001b[0m\u001b[0;34m[\u001b[0m\u001b[0mqubit\u001b[0m\u001b[0;34m]\u001b[0m \u001b[0;32mfor\u001b[0m \u001b[0mqubit\u001b[0m \u001b[0;32min\u001b[0m \u001b[0mqubits\u001b[0m\u001b[0;34m]\u001b[0m\u001b[0;34m\u001b[0m\u001b[0;34m\u001b[0m\u001b[0m\n\u001b[0;32m--> 333\u001b[0;31m         return state_vector.sample_state_vector(\n\u001b[0m\u001b[1;32m    334\u001b[0m             \u001b[0mself\u001b[0m\u001b[0;34m.\u001b[0m\u001b[0m_state_vector\u001b[0m\u001b[0;34m,\u001b[0m\u001b[0;34m\u001b[0m\u001b[0;34m\u001b[0m\u001b[0m\n\u001b[1;32m    335\u001b[0m             \u001b[0mindices\u001b[0m\u001b[0;34m,\u001b[0m\u001b[0;34m\u001b[0m\u001b[0;34m\u001b[0m\u001b[0m\n",
      "\u001b[0;32m~/opt/anaconda3/lib/python3.8/site-packages/cirq/sim/state_vector.py\u001b[0m in \u001b[0;36msample_state_vector\u001b[0;34m(state_vector, indices, qid_shape, repetitions, seed)\u001b[0m\n\u001b[1;32m    215\u001b[0m     \u001b[0;31m# it. Note that we us ints here, since numpy's choice does not allow for\u001b[0m\u001b[0;34m\u001b[0m\u001b[0;34m\u001b[0m\u001b[0;34m\u001b[0m\u001b[0m\n\u001b[1;32m    216\u001b[0m     \u001b[0;31m# choosing from a list of tuples or list of lists.\u001b[0m\u001b[0;34m\u001b[0m\u001b[0;34m\u001b[0m\u001b[0;34m\u001b[0m\u001b[0m\n\u001b[0;32m--> 217\u001b[0;31m     \u001b[0mresult\u001b[0m \u001b[0;34m=\u001b[0m \u001b[0mprng\u001b[0m\u001b[0;34m.\u001b[0m\u001b[0mchoice\u001b[0m\u001b[0;34m(\u001b[0m\u001b[0mlen\u001b[0m\u001b[0;34m(\u001b[0m\u001b[0mprobs\u001b[0m\u001b[0;34m)\u001b[0m\u001b[0;34m,\u001b[0m \u001b[0msize\u001b[0m\u001b[0;34m=\u001b[0m\u001b[0mrepetitions\u001b[0m\u001b[0;34m,\u001b[0m \u001b[0mp\u001b[0m\u001b[0;34m=\u001b[0m\u001b[0mprobs\u001b[0m\u001b[0;34m)\u001b[0m\u001b[0;34m\u001b[0m\u001b[0;34m\u001b[0m\u001b[0m\n\u001b[0m\u001b[1;32m    218\u001b[0m     \u001b[0;31m# Convert to individual qudit measurements.\u001b[0m\u001b[0;34m\u001b[0m\u001b[0;34m\u001b[0m\u001b[0;34m\u001b[0m\u001b[0m\n\u001b[1;32m    219\u001b[0m     \u001b[0mmeas_shape\u001b[0m \u001b[0;34m=\u001b[0m \u001b[0mtuple\u001b[0m\u001b[0;34m(\u001b[0m\u001b[0mshape\u001b[0m\u001b[0;34m[\u001b[0m\u001b[0mi\u001b[0m\u001b[0;34m]\u001b[0m \u001b[0;32mfor\u001b[0m \u001b[0mi\u001b[0m \u001b[0;32min\u001b[0m \u001b[0mindices\u001b[0m\u001b[0;34m)\u001b[0m\u001b[0;34m\u001b[0m\u001b[0;34m\u001b[0m\u001b[0m\n",
      "\u001b[0;32mmtrand.pyx\u001b[0m in \u001b[0;36mnumpy.random.mtrand.RandomState.choice\u001b[0;34m()\u001b[0m\n",
      "\u001b[0;31mValueError\u001b[0m: probabilities contain NaN"
     ]
    }
   ],
   "source": [
    "SampleSize = 5000\n",
    "depth1 = run(8,1,SampleSize)\n",
    "depth512 = run(8,500,SampleSize)"
   ]
  },
  {
   "cell_type": "code",
   "execution_count": null,
   "metadata": {},
   "outputs": [],
   "source": [
    "def plot_cummulative(prob):\n",
    "    cumuSums = np.cumsum(x)\n",
    "    plt.plot(prob,cumuSums,c='blue')\n",
    "    plt.show()\n"
   ]
  },
  {
   "cell_type": "code",
   "execution_count": 117,
   "metadata": {},
   "outputs": [
    {
     "data": {
      "text/plain": [
       "[<matplotlib.lines.Line2D at 0x7fee28916f70>]"
      ]
     },
     "execution_count": 117,
     "metadata": {},
     "output_type": "execute_result"
    },
    {
     "data": {
      "image/png": "[encoded data removed]",
      "text/plain": [
       "<Figure size 432x288 with 1 Axes>"
      ]
     },
     "metadata": {
      "needs_background": "light"
     },
     "output_type": "display_data"
    }
   ],
   "source": [
    "cumuSums = np.cumsum(depth512)\n",
    "plt.plot(range(len(depth512)),cumuSums)"
   ]
  },
  {
   "cell_type": "code",
   "execution_count": 110,
   "metadata": {},
   "outputs": [
    {
     "data": {
      "text/plain": [
       "[0.257, 0.2522, 0.2434, 0.2474]"
      ]
     },
     "execution_count": 110,
     "metadata": {},
     "output_type": "execute_result"
    }
   ],
   "source": [
    "depth512"
   ]
  },
  {
   "cell_type": "code",
   "execution_count": 111,
   "metadata": {},
   "outputs": [
    {
     "data": {
      "text/plain": [
       "array([0.007 , 0.0072, 0.01  , 0.0146, 0.0162, 0.0196, 0.02  , 0.0224,\n",
       "       0.0276, 0.0288, 0.0352, 0.0366, 0.0384, 0.0392, 0.043 , 0.0446,\n",
       "       0.0458, 0.048 , 0.0486, 0.0568, 0.0574, 0.0592, 0.0632, 0.0638,\n",
       "       0.064 , 0.0654, 0.068 , 0.0688, 0.0712, 0.073 , 0.099 , 0.102 ,\n",
       "       0.1146, 0.1276, 0.1346, 0.1396, 0.1418, 0.149 , 0.1664, 0.169 ,\n",
       "       0.181 , 0.186 , 0.1894, 0.192 , 0.1928, 0.1998, 0.2064, 0.2096,\n",
       "       0.2126, 0.215 , 0.229 , 0.2296, 0.2358, 0.245 , 0.248 , 0.2486,\n",
       "       0.2498, 0.2566, 0.2636, 0.2682, 0.2748, 0.2772, 0.2836, 0.2844,\n",
       "       0.2872, 0.2898, 0.2916, 0.2928, 0.293 , 0.2942, 0.2986, 0.2988,\n",
       "       0.3002, 0.3026, 0.303 , 0.3038, 0.3046, 0.305 , 0.306 , 0.3064,\n",
       "       0.3076, 0.311 , 0.3118, 0.3134, 0.3142, 0.3146, 0.3156, 0.318 ,\n",
       "       0.3186, 0.32  , 0.3204, 0.3536, 0.3556, 0.3726, 0.3846, 0.3916,\n",
       "       0.398 , 0.4006, 0.4096, 0.4288, 0.4322, 0.4512, 0.4562, 0.4606,\n",
       "       0.4648, 0.4658, 0.4746, 0.4786, 0.4832, 0.4866, 0.4906, 0.5088,\n",
       "       0.5092, 0.518 , 0.5312, 0.5344, 0.5354, 0.5374, 0.5434, 0.5502,\n",
       "       0.5524, 0.5616, 0.5642, 0.5654, 0.566 , 0.5672, 0.5676, 0.568 ,\n",
       "       0.5682, 0.5694, 0.5698, 0.571 , 0.5718, 0.572 , 0.5722, 0.5726,\n",
       "       0.5736, 0.574 , 0.5748, 0.5752, 0.5756, 0.5758, 0.5766, 0.5772,\n",
       "       0.597 , 0.5992, 0.6122, 0.6222, 0.6268, 0.632 , 0.6336, 0.6398,\n",
       "       0.6538, 0.6558, 0.6678, 0.6738, 0.6776, 0.6784, 0.679 , 0.6874,\n",
       "       0.6898, 0.6932, 0.6962, 0.698 , 0.7162, 0.7172, 0.7236, 0.7302,\n",
       "       0.733 , 0.7342, 0.735 , 0.7414, 0.7474, 0.75  , 0.7564, 0.7582,\n",
       "       0.77  , 0.7706, 0.7758, 0.7824, 0.7844, 0.7858, 0.7864, 0.7906,\n",
       "       0.7956, 0.7978, 0.8056, 0.8078, 0.8092, 0.8104, 0.8106, 0.8142,\n",
       "       0.8154, 0.8176, 0.819 , 0.8194, 0.827 , 0.8272, 0.8294, 0.8348,\n",
       "       0.8366, 0.838 , 0.841 , 0.8444, 0.8456, 0.8482, 0.8494, 0.866 ,\n",
       "       0.868 , 0.8782, 0.8874, 0.8942, 0.897 , 0.8988, 0.9028, 0.9148,\n",
       "       0.9166, 0.9276, 0.9316, 0.9346, 0.936 , 0.9368, 0.942 , 0.9458,\n",
       "       0.9496, 0.9514, 0.954 , 0.9652, 0.9658, 0.9708, 0.978 , 0.9798,\n",
       "       0.9802, 0.9808, 0.985 , 0.991 , 0.9936, 0.9994, 1.    ])"
      ]
     },
     "execution_count": 111,
     "metadata": {},
     "output_type": "execute_result"
    }
   ],
   "source": [
    "cumuSums"
   ]
  },
  {
   "cell_type": "code",
   "execution_count": null,
   "metadata": {},
   "outputs": [],
   "source": []
  }
 ],
 "metadata": {
  "kernelspec": {
   "display_name": "Python 3",
   "language": "python",
   "name": "python3"
  },
  "language_info": {
   "codemirror_mode": {
    "name": "ipython",
    "version": 3
   },
   "file_extension": ".py",
   "mimetype": "text/x-python",
   "name": "python",
   "nbconvert_exporter": "python",
   "pygments_lexer": "ipython3",
   "version": "3.8.5"
  }
 },
 "nbformat": 4,
 "nbformat_minor": 4
}
