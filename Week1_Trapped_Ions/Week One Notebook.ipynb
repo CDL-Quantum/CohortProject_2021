{
 "cells": [
  {
   "cell_type": "code",
   "execution_count": 16,
   "metadata": {},
   "outputs": [],
   "source": [
    "try:\n",
    "    import cirq\n",
    "except ImportError:\n",
    "    print(\"installing cirq...\")\n",
    "    !pip install --quiet cirq\n",
    "    print(\"installed cirq.\")"
   ]
  },
  {
   "cell_type": "code",
   "execution_count": 17,
   "metadata": {},
   "outputs": [],
   "source": [
    "import numpy as np\n",
    "import random\n",
    "from cirq import Simulator\n",
    "from cirq.circuits import InsertStrategy\n",
    "import matplotlib.pyplot as plt\n",
    "import matplotlib.path as mpath\n",
    "import matplotlib.lines as mlines\n",
    "import matplotlib.patches as mpatches\n",
    "from matplotlib.collections import PatchCollection\n",
    "from turtle import Turtle, Screen\n",
    "import turtle"
   ]
  },
  {
   "cell_type": "markdown",
   "metadata": {},
   "source": [
    "Define the Gates R and M"
   ]
  },
  {
   "cell_type": "code",
   "execution_count": 2,
   "metadata": {},
   "outputs": [],
   "source": [
    "class gateR(cirq.Gate):\n",
    "    def __init__(self,theta,phi):\n",
    "        super(gateR,self)\n",
    "        self.theta = theta\n",
    "        self.phi = phi\n",
    "        \n",
    "    def num_qubits(self):\n",
    "        return 1\n",
    "    \n",
    "    def _unitary_(self):\n",
    "        return np.array([\n",
    "            [np.cos(self.theta/2),(-1j*np.exp(-1j*self.phi))*np.sin(self.theta/2)],\n",
    "            [(-1j*np.exp(-1j*self.phi))*np.sin(self.theta/2),np.cos(self.theta/2)]\n",
    "        ])\n",
    "    \n",
    "    def _circuit_diagram_info_(self, args):\n",
    "        return \"R\"\n",
    "    \n",
    "class gateM(cirq.TwoQubitGate):\n",
    "    def __init__(self,theta):\n",
    "        super(gateM,self)\n",
    "        self.theta = theta\n",
    "    \n",
    "    def num_qubits(self):\n",
    "        return 2\n",
    "    \n",
    "    def _unitary_(self):\n",
    "        return np.array([\n",
    "            [np.cos(self.theta),0,0,-1j*np.sin(self.theta)],\n",
    "            [0,np.cos(self.theta),-1j*np.sin(self.theta),0],\n",
    "            [0,-1j*np.sin(self.theta),np.cos(self.theta),0],\n",
    "            [-1j*np.sin(self.theta),0,0,np.cos(self.theta)]\n",
    "        ])\n",
    "    \n",
    "    def _circuit_diagram_info_(self, args):\n",
    "        return \"%\",\"%\"\n"
   ]
  },
  {
   "cell_type": "code",
   "execution_count": 13,
   "metadata": {},
   "outputs": [],
   "source": [
    "def run(N,depth,SampleSize):\n",
    "    qubits = [cirq.LineQubit(x) for x in range(N)]\n",
    "    circuit = cirq.Circuit([])\n",
    "    gates = ()\n",
    "    for i in range(depth):\n",
    "        idx_first = i % 2 \n",
    "\n",
    "        circuit.append((gateR(theta=2*np.pi*random.random(),phi=2*np.pi*random.random()).on(qubits[j]) for j in range(N)))\n",
    "        circuit.append((gateM(theta=2*np.pi*random.random()).on(qubits[j],qubits[j+1]) for j in range(idx_first,N-1)))\n",
    "    circuit.append([cirq.measure(q,key=f'q{count}') for count,q in enumerate(qubits)])\n",
    "    result = cirq.Simulator().run(circuit, repetitions=SampleSize)\n",
    "    #_ = cirq.vis.plot_state_histogram(result, plt.subplot())\n",
    "    prob_df=result.data.groupby(result.data.columns.tolist(),as_index=False).size()\n",
    "    prob_df['Probabilities']=prob_df['size']/SampleSize\n",
    "    return list(prob_df['Probabilities'])"
   ]
  },
  {
   "cell_type": "code",
   "execution_count": 14,
   "metadata": {},
   "outputs": [],
   "source": [
    "SampleSize = 1000\n",
    "prob_list = []\n",
    "values = [(3,5),(3,8),(2,10),(4,8)]\n",
    "while values:\n",
    "    n,d = values.pop(0)\n",
    "    curr = run(n,d,SampleSize)\n",
    "    prob_list.append(curr)"
   ]
  },
  {
   "cell_type": "code",
   "execution_count": 24,
   "metadata": {
    "scrolled": false
   },
   "outputs": [],
   "source": [
    "def plot_speckle(prob_list):\n",
    "    for count, prob in enumerate(prob_list):\n",
    "        x = range(len(prob))\n",
    "        y = [count]*len(prob)\n",
    "        colors = [\"blue\"]\n",
    "        sizes = [x*100 for x in prob]\n",
    "        plt.scatter(x, y, c=colors, s=sizes, alpha=0.3,\n",
    "                       cmap='viridis') \n"
   ]
  },
  {
   "cell_type": "code",
   "execution_count": 25,
   "metadata": {},
   "outputs": [
    {
     "data": {
      "image/png": "[encoded data removed]",
      "text/plain": [
       "<Figure size 432x288 with 1 Axes>"
      ]
     },
     "metadata": {
      "needs_background": "light"
     },
     "output_type": "display_data"
    }
   ],
   "source": [
    "plot_speckle(prob_list)"
   ]
  },
  {
   "cell_type": "markdown",
   "metadata": {},
   "source": [
    "TASK 2: "
   ]
  },
  {
   "cell_type": "code",
   "execution_count": 29,
   "metadata": {},
   "outputs": [],
   "source": [
    "def runMultiple(N,depth,SampleSize,runs=10):\n",
    "    _result = []\n",
    "    for _ in range(runs):\n",
    "        qubits = [cirq.LineQubit(x) for x in range(N)]\n",
    "        circuit = cirq.Circuit([])\n",
    "        gates = ()\n",
    "        for i in range(depth):\n",
    "            idx_first = i % 2 \n",
    "\n",
    "            circuit.append((gateR(theta=2*np.pi*random.random(),phi=2*np.pi*random.random()).on(qubits[j]) for j in range(N)))\n",
    "            circuit.append((gateM(theta=2*np.pi*random.random()).on(qubits[j],qubits[j+1]) for j in range(idx_first,N-1)))\n",
    "        circuit.append(cirq.X.on(qubits[random.randrange(0, N-1)]))\n",
    "        circuit.append([cirq.measure(q,key=f'q{count}') for count,q in enumerate(qubits)])\n",
    "        result = cirq.Simulator().run(circuit, repetitions=SampleSize)\n",
    "        #_ = cirq.vis.plot_state_histogram(result, plt.subplot())\n",
    "        prob_df=result.data.groupby(result.data.columns.tolist(),as_index=False).size()\n",
    "        _result.append(list(prob_df['size']/SampleSize))\n",
    "    return _result"
   ]
  },
  {
   "cell_type": "code",
   "execution_count": 30,
   "metadata": {},
   "outputs": [],
   "source": [
    "N = 4\n",
    "depth = 8\n",
    "SampleSize = 1000\n",
    "probs =runMultiple(4,8,SampleSize)"
   ]
  },
  {
   "cell_type": "code",
   "execution_count": 31,
   "metadata": {},
   "outputs": [
    {
     "data": {
      "image/png": "[encoded data removed]",
      "text/plain": [
       "<Figure size 432x288 with 1 Axes>"
      ]
     },
     "metadata": {
      "needs_background": "light"
     },
     "output_type": "display_data"
    }
   ],
   "source": [
    "plot_speckle(probs)"
   ]
  },
  {
   "cell_type": "markdown",
   "metadata": {},
   "source": [
    "TASK 3"
   ]
  },
  {
   "cell_type": "code",
   "execution_count": null,
   "metadata": {},
   "outputs": [],
   "source": []
  }
 ],
 "metadata": {
  "kernelspec": {
   "display_name": "Python 3",
   "language": "python",
   "name": "python3"
  },
  "language_info": {
   "codemirror_mode": {
    "name": "ipython",
    "version": 3
   },
   "file_extension": ".py",
   "mimetype": "text/x-python",
   "name": "python",
   "nbconvert_exporter": "python",
   "pygments_lexer": "ipython3",
   "version": "3.8.5"
  }
 },
 "nbformat": 4,
 "nbformat_minor": 4
}
