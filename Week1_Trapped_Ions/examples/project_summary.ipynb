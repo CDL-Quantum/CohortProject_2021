{
 "cells": [
  {
   "cell_type": "markdown",
   "metadata": {
    "collapsed": true,
    "pycharm": {
     "name": "#%% md\n"
    }
   },
   "source": [
    "# CDL Cohort Project 2021: Week 1\n",
    "\n",
    "In this notebook, we will summarise our work towards simulating a Google-like quantum supremacy experiment on\n",
    "a trapped-ion quantum computer."
   ]
  },
  {
   "cell_type": "code",
   "execution_count": 1,
   "outputs": [],
   "source": [
    "from src.simulation_utils import *\n",
    "from src.plotting_utils import *"
   ],
   "metadata": {
    "collapsed": false,
    "pycharm": {
     "name": "#%%\n"
    }
   }
  },
  {
   "cell_type": "markdown",
   "source": [
    "## 1. Speckle Patterns\n",
    "\n",
    "For our first task, we simulate random circuits and examine the output.\n",
    "These circuits consist of layers of random single-qubit gates and layers of random two-qubit MS gates.\n",
    "\n",
    "First, we choose the number of qubits to simulate, and the depth of our random circuit:"
   ],
   "metadata": {
    "collapsed": false,
    "pycharm": {
     "name": "#%% md\n"
    }
   }
  },
  {
   "cell_type": "code",
   "execution_count": 2,
   "outputs": [],
   "source": [
    "n_qubits = 4         # Number of qubits\n",
    "cct_depth = 1000     # Circuit depth"
   ],
   "metadata": {
    "collapsed": false,
    "pycharm": {
     "name": "#%%\n"
    }
   }
  },
  {
   "cell_type": "markdown",
   "source": [
    "We initialise all qubits in the $| 0 \\rangle$ state. We represent the state $| \\psi \\rangle = | 000 \\dots 0 \\rangle$ using an MPS:"
   ],
   "metadata": {
    "collapsed": false,
    "pycharm": {
     "name": "#%% md\n"
    }
   }
  },
  {
   "cell_type": "code",
   "execution_count": 3,
   "outputs": [],
   "source": [
    "psi = tn.onedim.init_mps_allzero(n_qubits, 2)"
   ],
   "metadata": {
    "collapsed": false,
    "pycharm": {
     "name": "#%%\n"
    }
   }
  },
  {
   "cell_type": "markdown",
   "source": [
    "We apply a random circuit by drawing on randomised single- and two- qubit gates.\n",
    "Each layer is constructed as an MPO and contracted into $| \\psi \\rangle$:"
   ],
   "metadata": {
    "collapsed": false,
    "pycharm": {
     "name": "#%% md\n"
    }
   }
  },
  {
   "cell_type": "code",
   "source": [
    "for j in range(cct_depth//2):\n",
    "    # Generate a random single-qubit and two-qubit gate layer.\n",
    "    one_qubit_layer = random_single_qubit_gate_layer(n_qubits)\n",
    "    two_qubit_layer = random_two_qubit_gate_ladder(n_qubits)[np.mod(j, 2)]\n",
    "\n",
    "    # Apply the single-qubit gate layer.\n",
    "    psi = tn.onedim.contract_mps_mpo(psi, one_qubit_layer)\n",
    "    psi.left_canonise(chi=None)\n",
    "\n",
    "    # Apply the two-qubit gate layer.\n",
    "    psi = tn.onedim.contract_mps_mpo(psi, two_qubit_layer)\n",
    "    psi.left_canonise(chi=None)"
   ],
   "metadata": {
    "collapsed": false,
    "pycharm": {
     "name": "#%%\n"
    }
   },
   "execution_count": 4,
   "outputs": []
  },
  {
   "cell_type": "markdown",
   "source": [
    "Finally, we calculate the probabilities of measuring each output $x$ nd plot the speckle pattern of our random circuit:"
   ],
   "metadata": {
    "collapsed": false,
    "pycharm": {
     "name": "#%% md\n"
    }
   }
  },
  {
   "cell_type": "code",
   "execution_count": 5,
   "outputs": [
    {
     "data": {
      "text/plain": "<Figure size 432x288 with 1 Axes>",
      "image/png": "[encoded data removed]"
     },
     "metadata": {},
     "output_type": "display_data"
    }
   ],
   "source": [
    "probs = output_probabilities(psi)\n",
    "speckle_pattern(probs)"
   ],
   "metadata": {
    "collapsed": false,
    "pycharm": {
     "name": "#%%\n"
    }
   }
  },
  {
   "cell_type": "markdown",
   "source": [
    "## 2. Distribution Functions\n",
    "\n",
    "For our next task, we will look at the cumulative distribution functions of the outputs of random circuits.\n",
    "\n",
    "We will increase the number of qubits, but reduce the circuit depth to minimise computational time."
   ],
   "metadata": {
    "collapsed": false,
    "pycharm": {
     "name": "#%% md\n"
    }
   }
  },
  {
   "cell_type": "code",
   "execution_count": 6,
   "outputs": [],
   "source": [
    "n_qubits = 8       # Number of qubits\n",
    "cct_depth = 500    # Circuit depth\n",
    "\n",
    "psi = tn.onedim.init_mps_allzero(n_qubits, 2)"
   ],
   "metadata": {
    "collapsed": false,
    "pycharm": {
     "name": "#%%\n"
    }
   }
  },
  {
   "cell_type": "markdown",
   "source": [
    "We perform the same simulation. However, at regular intervals we will calculate and save the speckle pattern."
   ],
   "metadata": {
    "collapsed": false,
    "pycharm": {
     "name": "#%% md\n"
    }
   }
  },
  {
   "cell_type": "code",
   "execution_count": 7,
   "outputs": [],
   "source": [
    "cycles = [0, 100, 200]\n",
    "\n",
    "speckles, depths = [], []\n",
    "for j in range(cct_depth//2):\n",
    "    # Random single-qubit and two-qubit gate layer.\n",
    "    one_qubit_layer = random_single_qubit_gate_layer(n_qubits)\n",
    "    two_qubit_layer = random_two_qubit_gate_ladder(n_qubits)[np.mod(j, 2)]\n",
    "\n",
    "    # Apply single-qubit gate layer.\n",
    "    psi = tn.onedim.contract_mps_mpo(psi, one_qubit_layer)\n",
    "    psi.left_canonise(chi=None)\n",
    "\n",
    "    # Apply two-qubit gate layer.\n",
    "    psi = tn.onedim.contract_mps_mpo(psi, two_qubit_layer)\n",
    "    psi.left_canonise(chi=None)\n",
    "\n",
    "    if j in cycles:\n",
    "        speckles.append(output_probabilities(psi))\n",
    "        depths.append(j*2)"
   ],
   "metadata": {
    "collapsed": false,
    "pycharm": {
     "name": "#%%\n"
    }
   }
  },
  {
   "cell_type": "markdown",
   "source": [
    "Using the saved speckle patterns, we can calculate the CDFs of our random circuit, and see that, for sufficient depths,\n",
    "it agrees with theory:"
   ],
   "metadata": {
    "collapsed": false,
    "pycharm": {
     "name": "#%% md\n"
    }
   }
  },
  {
   "cell_type": "code",
   "execution_count": 8,
   "outputs": [
    {
     "data": {
      "text/plain": "<Figure size 432x288 with 1 Axes>",
      "image/png": "[encoded data removed]"
     },
     "metadata": {},
     "output_type": "display_data"
    }
   ],
   "source": [
    "p = np.logspace(-5, -1, 100)\n",
    "\n",
    "fig, ax = plt.subplots()\n",
    "for s, d in zip(speckles, depths):\n",
    "    ax.semilogx(\n",
    "        p, cumulative(s, p), label=\"Empirical, depth={}\".format(d)\n",
    "    )\n",
    "\n",
    "porter_thomas = 1 - np.exp(-(2 ** n_qubits) * p)\n",
    "ax.semilogx(p, porter_thomas, 'k--', label=\"Theoretical\")\n",
    "ax.legend();"
   ],
   "metadata": {
    "collapsed": false,
    "pycharm": {
     "name": "#%%\n"
    }
   }
  },
  {
   "cell_type": "markdown",
   "source": [
    "## 3. Adding Noise\n",
    "\n",
    "Finally, we look at the effects of noise. We consider two types of noise:\n",
    "\n",
    "1. Depolarising\n",
    "\n",
    "2. Cross-talk"
   ],
   "metadata": {
    "collapsed": false,
    "pycharm": {
     "name": "#%% md\n"
    }
   }
  },
  {
   "cell_type": "code",
   "execution_count": 8,
   "outputs": [],
   "source": [],
   "metadata": {
    "collapsed": false,
    "pycharm": {
     "name": "#%%\n"
    }
   }
  }
 ],
 "metadata": {
  "kernelspec": {
   "display_name": "Python 3",
   "language": "python",
   "name": "python3"
  },
  "language_info": {
   "codemirror_mode": {
    "name": "ipython",
    "version": 2
   },
   "file_extension": ".py",
   "mimetype": "text/x-python",
   "name": "python",
   "nbconvert_exporter": "python",
   "pygments_lexer": "ipython2",
   "version": "2.7.6"
  }
 },
 "nbformat": 4,
 "nbformat_minor": 0
}