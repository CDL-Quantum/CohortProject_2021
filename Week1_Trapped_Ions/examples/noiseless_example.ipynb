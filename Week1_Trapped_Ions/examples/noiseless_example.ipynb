{
 "cells": [
  {
   "cell_type": "code",
   "execution_count": 1,
   "metadata": {},
   "outputs": [],
   "source": [
    "import numpy as np\n",
    "import tncontract as tn\n",
    "import qutip as qt\n",
    "import time\n",
    "\n",
    "from itertools import product\n",
    "from loguru import logger\n",
    "\n",
    "from src.simulation_utils import *"
   ]
  },
  {
   "cell_type": "code",
   "execution_count": 2,
   "metadata": {},
   "outputs": [],
   "source": [
    "n_sites = 4 # Number of sites (qubits)\n",
    "cct_depth = 100 # Circuit depth\n",
    "chi = int(2 * np.log2(n_sites)) # Limit for the bond dimension\n",
    "\n",
    "psi = tn.onedim.init_mps_allzero(n_sites, 2) # Initialize all qubits in zero"
   ]
  },
  {
   "cell_type": "code",
   "execution_count": 3,
   "outputs": [
    {
     "name": "stderr",
     "output_type": "stream",
     "text": [
      "2021-07-10 17:29:08.574 | INFO     | __main__:<module>:14 - Took 0.45s to run 100 circuits on 4 qubits\n"
     ]
    }
   ],
   "source": [
    "t = time.time()\n",
    "\n",
    "for j in range(cct_depth):\n",
    "    one_qubit_layer = random_single_qubit_gate_layer(n_sites)\n",
    "    two_qubit_layer = random_two_qubit_gate_ladder(n_sites)[np.mod(j, 2)]\n",
    "\n",
    "    psi = tn.onedim.contract_mps_mpo(psi, one_qubit_layer)\n",
    "    psi.left_canonise(chi=chi)\n",
    "\n",
    "    psi = tn.onedim.contract_mps_mpo(psi, two_qubit_layer)\n",
    "    psi.left_canonise(chi=chi)\n",
    "\n",
    "psi.left_canonise(normalise=True)\n",
    "logger.info(\"Took {:.2f}s to run {} circuits on {} qubits\".format(time.time()-t, cct_depth, n_sites))"
   ],
   "metadata": {
    "collapsed": false,
    "pycharm": {
     "name": "#%%\n"
    }
   }
  },
  {
   "cell_type": "code",
   "execution_count": 4,
   "metadata": {},
   "outputs": [
    {
     "name": "stderr",
     "output_type": "stream",
     "text": [
      "2021-07-10 17:29:08.581 | INFO     | __main__:<module>:2 - (2, 1, 2)\n",
      "2021-07-10 17:29:08.582 | INFO     | __main__:<module>:2 - (2, 2, 4)\n",
      "2021-07-10 17:29:08.583 | INFO     | __main__:<module>:2 - (2, 4, 4)\n",
      "2021-07-10 17:29:08.584 | INFO     | __main__:<module>:2 - (4, 2, 1)\n"
     ]
    }
   ],
   "source": [
    "for s in psi:\n",
    "    logger.info(s.shape)"
   ]
  },
  {
   "cell_type": "code",
   "execution_count": 5,
   "metadata": {},
   "outputs": [],
   "source": [
    "psi_vec = tn.onedim.contract_virtual_indices(psi)\n",
    "psi_vec.fuse_indices('physout','physout')"
   ]
  },
  {
   "cell_type": "code",
   "execution_count": 6,
   "metadata": {},
   "outputs": [
    {
     "data": {
      "text/plain": "(16,)"
     },
     "execution_count": 6,
     "metadata": {},
     "output_type": "execute_result"
    }
   ],
   "source": [
    "psi_vec.shape"
   ]
  },
  {
   "cell_type": "code",
   "execution_count": 7,
   "metadata": {},
   "outputs": [
    {
     "data": {
      "text/plain": "Quantum object: dims = [[16], [1]], shape = (16, 1), type = ket\nQobj data =\n[[ 0.14772059+0.06411574j]\n [-0.0428185 +0.1494485j ]\n [ 0.14526236+0.07270105j]\n [-0.51313758+0.07886241j]\n [-0.03683685-0.06786437j]\n [ 0.03792712+0.2566511j ]\n [-0.25142519-0.09347721j]\n [ 0.09960068-0.13599757j]\n [-0.12372587+0.0995797j ]\n [-0.12766597+0.02639792j]\n [-0.22513899-0.0272516j ]\n [ 0.20192505-0.45517227j]\n [-0.06251565+0.03464566j]\n [ 0.22935023-0.20936559j]\n [ 0.09561556+0.10861925j]\n [-0.11254927+0.05989353j]]",
      "text/latex": "Quantum object: dims = [[16], [1]], shape = (16, 1), type = ket\\begin{equation*}\\left(\\begin{array}{*{11}c}(0.148+0.064j)\\\\(-0.043+0.149j)\\\\(0.145+0.073j)\\\\(-0.513+0.079j)\\\\(-0.037-0.068j)\\\\\\vdots\\\\(0.202-0.455j)\\\\(-0.063+0.035j)\\\\(0.229-0.209j)\\\\(0.096+0.109j)\\\\(-0.113+0.060j)\\\\\\end{array}\\right)\\end{equation*}"
     },
     "execution_count": 7,
     "metadata": {},
     "output_type": "execute_result"
    }
   ],
   "source": [
    "qt.Qobj(psi_vec.data.reshape(-1,1))"
   ]
  },
  {
   "cell_type": "code",
   "execution_count": 7,
   "metadata": {},
   "outputs": [],
   "source": []
  }
 ],
 "metadata": {
  "kernelspec": {
   "name": "python3",
   "language": "python",
   "display_name": "Python 3 (ipykernel)"
  },
  "language_info": {
   "codemirror_mode": {
    "name": "ipython",
    "version": 3
   },
   "file_extension": ".py",
   "mimetype": "text/x-python",
   "name": "python",
   "nbconvert_exporter": "python",
   "pygments_lexer": "ipython3",
   "version": "3.8.10"
  }
 },
 "nbformat": 4,
 "nbformat_minor": 4
}