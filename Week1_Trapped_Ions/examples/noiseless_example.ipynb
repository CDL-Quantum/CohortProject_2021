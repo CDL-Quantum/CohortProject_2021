{
 "cells": [
  {
   "cell_type": "code",
   "execution_count": null,
   "metadata": {},
   "outputs": [],
   "source": [
    "import numpy as np\n",
    "import tncontract as tn\n",
    "import qutip as qt\n",
    "import time\n",
    "from loguru import logger\n",
    "\n",
    "from itertools import product\n",
    "from src.simulation_utils import *"
   ]
  },
  {
   "cell_type": "code",
   "execution_count": null,
   "metadata": {},
   "outputs": [],
   "source": [
    "n_sites = 20 # number of sites\n",
    "psi = tn.onedim.init_mps_allzero(n_sites, 2) # initial state all zeros\n",
    "cct_depth = 100\n",
    "\n",
    "# limit the bond dimension\n",
    "chi = int(2 * np.log2(n_sites))\n",
    "# chi=None\n",
    "\n",
    "t = time.time()\n",
    "\n",
    "for _ in range(int(cct_depth/3)):\n",
    "    # two qubit layer\n",
    "    cct_layer_1, cct_layer_2 = random_two_qubit_gate_ladder(n_sites) \n",
    "    psi = tn.onedim.contract_mps_mpo(psi,cct_layer_1)\n",
    "    psi.left_canonise(chi=chi)\n",
    "    psi = tn.onedim.contract_mps_mpo(psi,cct_layer_2)\n",
    "    psi.left_canonise(chi=chi)\n",
    "    \n",
    "    # single qubit layer\n",
    "    cct_layer = random_single_qubit_gate_layer(n_sites)\n",
    "    psi = tn.onedim.contract_mps_mpo(psi,cct_layer)\n",
    "    psi.left_canonise(chi=chi)\n",
    "\n",
    "psi.left_canonise(normalise=True)\n",
    "logger.info(\"Took {:.2f}s to run {} circuits on {} qubits\".format(time.time()-t, cct_depth, n_sites))"
   ]
  },
  {
   "cell_type": "code",
   "execution_count": null,
   "metadata": {},
   "outputs": [],
   "source": [
    "for s in psi:\n",
    "    logger.info(s.shape)"
   ]
  },
  {
   "cell_type": "code",
   "execution_count": null,
   "metadata": {},
   "outputs": [],
   "source": [
    "psi_vec = tn.onedim.contract_virtual_indices(psi)"
   ]
  },
  {
   "cell_type": "code",
   "execution_count": null,
   "metadata": {},
   "outputs": [],
   "source": [
    "psi_vec.fuse_indices('physout','physout')"
   ]
  },
  {
   "cell_type": "code",
   "execution_count": null,
   "metadata": {},
   "outputs": [],
   "source": [
    "psi_vec.shape"
   ]
  },
  {
   "cell_type": "code",
   "execution_count": null,
   "metadata": {},
   "outputs": [],
   "source": [
    "qt.Qobj(psi_vec.data.reshape(-1,1))"
   ]
  },
  {
   "cell_type": "code",
   "execution_count": null,
   "metadata": {},
   "outputs": [],
   "source": []
  }
 ],
 "metadata": {
  "kernelspec": {
   "display_name": "cdl-projects",
   "language": "python",
   "name": "venv"
  },
  "language_info": {
   "codemirror_mode": {
    "name": "ipython",
    "version": 3
   },
   "file_extension": ".py",
   "mimetype": "text/x-python",
   "name": "python",
   "nbconvert_exporter": "python",
   "pygments_lexer": "ipython3",
   "version": "3.8.10"
  }
 },
 "nbformat": 4,
 "nbformat_minor": 4
}
