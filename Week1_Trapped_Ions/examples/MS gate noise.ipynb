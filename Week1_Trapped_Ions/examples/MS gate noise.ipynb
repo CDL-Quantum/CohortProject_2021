{
 "cells": [
  {
   "cell_type": "code",
   "execution_count": 1,
   "metadata": {
    "pycharm": {
     "name": "#%%\n"
    }
   },
   "outputs": [],
   "source": [
    "import numpy as np\n",
    "import tncontract as tn\n",
    "import qutip as qt\n",
    "import time\n",
    "from itertools import product\n",
    "from functools import reduce\n",
    "\n",
    "from scipy.stats import cumfreq\n",
    "from copy import deepcopy\n",
    "from IPython.display import clear_output\n",
    "\n",
    "from src.simulation_utils import *\n",
    "from src.plotting_utils import *"
   ]
  },
  {
   "cell_type": "code",
   "execution_count": 17,
   "metadata": {},
   "outputs": [],
   "source": [
    "n_sites = 6\n",
    "X = qt.sigmax()\n",
    "I = qt.qeye(2)\n",
    "XX = qt.tensor(X, X)\n",
    "H = sum([local_operator(i, XX, n_sites) for i in range(n_sites-1)])\n",
    "zero = qt.operator_to_vector(qt.ket2dm(reduce(qt.tensor, [qt.basis(2,0)] * n_sites)))\n",
    "# one = reduce(qt.tensor, [qt.basis(2,1)] * n_sites)\n",
    "\n",
    "# Ising-like background noise\n",
    "background = 1e-4\n",
    "crosstalk_ham = sum([background * np.random.randn() * local_operator(i, XX, n_sites) for i in range(n_sites-1)])\n",
    "\n",
    "# some bigger systematic nonlocal couplings\n",
    "systematic = 1e-2\n",
    "crosstalk_ham += systematic * np.random.randn() * reduce(qt.tensor, [I,X,I,I,X,I])#,I])\n",
    "crosstalk_ham += systematic * np.random.randn() * reduce(qt.tensor, [I,I,X,I,X,I])#,I])\n",
    "crosstalk_ham += systematic * np.random.randn() * reduce(qt.tensor, [X,I,I,I,I,X])#,X])\n",
    "\n",
    "crosstalk = qt.to_super(qt.propagator(crosstalk_ham, 3*np.pi/2))"
   ]
  },
  {
   "cell_type": "code",
   "execution_count": 18,
   "metadata": {},
   "outputs": [
    {
     "data": {
      "text/latex": [
       "Quantum object: dims = [[[2, 2, 2, 2, 2, 2], [2, 2, 2, 2, 2, 2]], [[2, 2, 2, 2, 2, 2], [2, 2, 2, 2, 2, 2]]], shape = (4096, 4096), type = super, isherm = False\\begin{equation*}\\left(\\begin{array}{*{11}c}0.995 & 0.0 & 0.0 & -3.752\\times10^{-04}j & 0.0 & \\cdots & 0.0 & -1.570\\times10^{-21} & 0.0 & 0.0 & 1.446\\times10^{-20}\\\\0.0 & 0.995 & -3.752\\times10^{-04}j & 0.0 & (-2.100\\times10^{-07}+5.437\\times10^{-11}j) & \\cdots & 3.388\\times10^{-18} & 0.0 & -1.570\\times10^{-21} & 1.446\\times10^{-20} & 0.0\\\\0.0 & -3.752\\times10^{-04}j & 0.995 & 0.0 & (-1.441\\times10^{-07}-5.572\\times10^{-04}j) & \\cdots & 1.329\\times10^{-20} & 0.0 & 1.446\\times10^{-20} & -1.570\\times10^{-21} & 0.0\\\\-3.752\\times10^{-04}j & 0.0 & 0.0 & 0.995 & 0.0 & \\cdots & 0.0 & 1.446\\times10^{-20} & 0.0 & 0.0 & -1.570\\times10^{-21}\\\\0.0 & (-2.100\\times10^{-07}+5.437\\times10^{-11}j) & (-1.441\\times10^{-07}-5.572\\times10^{-04}j) & 0.0 & 0.995 & \\cdots & 1.446\\times10^{-20} & 0.0 & 1.329\\times10^{-20} & 3.388\\times10^{-18} & 0.0\\\\\\vdots & \\vdots & \\vdots & \\vdots & \\vdots & \\ddots & \\vdots & \\vdots & \\vdots & \\vdots & \\vdots\\\\0.0 & 3.388\\times10^{-18} & 1.329\\times10^{-20} & 0.0 & 1.446\\times10^{-20} & \\cdots & 0.995 & 0.0 & (-1.441\\times10^{-07}-5.572\\times10^{-04}j) & (-2.100\\times10^{-07}+5.437\\times10^{-11}j) & 0.0\\\\-1.570\\times10^{-21} & 0.0 & 0.0 & 1.446\\times10^{-20} & 0.0 & \\cdots & 0.0 & 0.995 & 0.0 & 0.0 & -3.752\\times10^{-04}j\\\\0.0 & -1.570\\times10^{-21} & 1.446\\times10^{-20} & 0.0 & 1.329\\times10^{-20} & \\cdots & (-1.441\\times10^{-07}-5.572\\times10^{-04}j) & 0.0 & 0.995 & -3.752\\times10^{-04}j & 0.0\\\\0.0 & 1.446\\times10^{-20} & -1.570\\times10^{-21} & 0.0 & 3.388\\times10^{-18} & \\cdots & (-2.100\\times10^{-07}+5.437\\times10^{-11}j) & 0.0 & -3.752\\times10^{-04}j & 0.995 & 0.0\\\\1.446\\times10^{-20} & 0.0 & 0.0 & -1.570\\times10^{-21} & 0.0 & \\cdots & 0.0 & -3.752\\times10^{-04}j & 0.0 & 0.0 & 0.995\\\\\\end{array}\\right)\\end{equation*}"
      ],
      "text/plain": [
       "Quantum object: dims = [[[2, 2, 2, 2, 2, 2], [2, 2, 2, 2, 2, 2]], [[2, 2, 2, 2, 2, 2], [2, 2, 2, 2, 2, 2]]], shape = (4096, 4096), type = super, isherm = False\n",
       "Qobj data =\n",
       "[[ 9.95470155e-01+0.00000000e+00j  0.00000000e+00+0.00000000e+00j\n",
       "   0.00000000e+00+0.00000000e+00j ...  0.00000000e+00+0.00000000e+00j\n",
       "   0.00000000e+00+0.00000000e+00j  1.44586662e-20+0.00000000e+00j]\n",
       " [ 0.00000000e+00+0.00000000e+00j  9.95470155e-01+0.00000000e+00j\n",
       "   5.74068318e-13-3.75226029e-04j ... -1.57016242e-21+3.15619968e-17j\n",
       "   1.44586662e-20+0.00000000e+00j  0.00000000e+00+0.00000000e+00j]\n",
       " [ 0.00000000e+00+0.00000000e+00j  5.74068318e-13-3.75226029e-04j\n",
       "   9.95470155e-01+0.00000000e+00j ...  1.44586662e-20+0.00000000e+00j\n",
       "  -1.57016242e-21+3.15619968e-17j  0.00000000e+00+0.00000000e+00j]\n",
       " ...\n",
       " [ 0.00000000e+00+0.00000000e+00j -1.57016242e-21+3.15619968e-17j\n",
       "   1.44586662e-20+0.00000000e+00j ...  9.95470155e-01+0.00000000e+00j\n",
       "   5.74068318e-13-3.75226029e-04j  0.00000000e+00+0.00000000e+00j]\n",
       " [ 0.00000000e+00+0.00000000e+00j  1.44586662e-20+0.00000000e+00j\n",
       "  -1.57016242e-21+3.15619968e-17j ...  5.74068318e-13-3.75226029e-04j\n",
       "   9.95470155e-01+0.00000000e+00j  0.00000000e+00+0.00000000e+00j]\n",
       " [ 1.44586662e-20+0.00000000e+00j  0.00000000e+00+0.00000000e+00j\n",
       "   0.00000000e+00+0.00000000e+00j ...  0.00000000e+00+0.00000000e+00j\n",
       "   0.00000000e+00+0.00000000e+00j  9.95470155e-01+0.00000000e+00j]]"
      ]
     },
     "execution_count": 18,
     "metadata": {},
     "output_type": "execute_result"
    }
   ],
   "source": [
    "crosstalk"
   ]
  },
  {
   "cell_type": "code",
   "execution_count": 19,
   "metadata": {},
   "outputs": [],
   "source": [
    "dep = (.99) * np.eye(4 ** n_sites, 4 ** n_sites) \n",
    "dep[0,0] = 1\n",
    "dep_super = ptm_to_super(dep)\n",
    "depolarising = qt.Qobj(dep_super, dims=crosstalk.dims, type=super)"
   ]
  },
  {
   "cell_type": "code",
   "execution_count": 20,
   "metadata": {},
   "outputs": [
    {
     "data": {
      "text/latex": [
       "Quantum object: dims = [[[2, 2, 2, 2, 2, 2], [2, 2, 2, 2, 2, 2]], [[2, 2, 2, 2, 2, 2], [2, 2, 2, 2, 2, 2]]], shape = (4096, 4096), type = super, isherm = True, superrep = None\\begin{equation*}\\left(\\begin{array}{*{11}c}0.990 & 0.0 & 0.0 & 0.0 & 0.0 & \\cdots & 0.0 & 0.0 & 0.0 & 0.0 & 1.563\\times10^{-04}\\\\0.0 & 0.990 & 0.0 & 0.0 & 0.0 & \\cdots & 0.0 & 0.0 & 0.0 & 0.0 & 0.0\\\\0.0 & 0.0 & 0.990 & 0.0 & 0.0 & \\cdots & 0.0 & 0.0 & 0.0 & 0.0 & 0.0\\\\0.0 & 0.0 & 0.0 & 0.990 & 0.0 & \\cdots & 0.0 & 0.0 & 0.0 & 0.0 & 0.0\\\\0.0 & 0.0 & 0.0 & 0.0 & 0.990 & \\cdots & 0.0 & 0.0 & 0.0 & 0.0 & 0.0\\\\\\vdots & \\vdots & \\vdots & \\vdots & \\vdots & \\ddots & \\vdots & \\vdots & \\vdots & \\vdots & \\vdots\\\\0.0 & 0.0 & 0.0 & 0.0 & 0.0 & \\cdots & 0.990 & 0.0 & 0.0 & 0.0 & 0.0\\\\0.0 & 0.0 & 0.0 & 0.0 & 0.0 & \\cdots & 0.0 & 0.990 & 0.0 & 0.0 & 0.0\\\\0.0 & 0.0 & 0.0 & 0.0 & 0.0 & \\cdots & 0.0 & 0.0 & 0.990 & 0.0 & 0.0\\\\0.0 & 0.0 & 0.0 & 0.0 & 0.0 & \\cdots & 0.0 & 0.0 & 0.0 & 0.990 & 0.0\\\\1.563\\times10^{-04} & 0.0 & 0.0 & 0.0 & 0.0 & \\cdots & 0.0 & 0.0 & 0.0 & 0.0 & 0.990\\\\\\end{array}\\right)\\end{equation*}"
      ],
      "text/plain": [
       "Quantum object: dims = [[[2, 2, 2, 2, 2, 2], [2, 2, 2, 2, 2, 2]], [[2, 2, 2, 2, 2, 2], [2, 2, 2, 2, 2, 2]]], shape = (4096, 4096), type = super, isherm = True, superrep = None\n",
       "Qobj data =\n",
       "[[9.9015625e-01 0.0000000e+00 0.0000000e+00 ... 0.0000000e+00\n",
       "  0.0000000e+00 1.5625000e-04]\n",
       " [0.0000000e+00 9.9000000e-01 0.0000000e+00 ... 0.0000000e+00\n",
       "  0.0000000e+00 0.0000000e+00]\n",
       " [0.0000000e+00 0.0000000e+00 9.9000000e-01 ... 0.0000000e+00\n",
       "  0.0000000e+00 0.0000000e+00]\n",
       " ...\n",
       " [0.0000000e+00 0.0000000e+00 0.0000000e+00 ... 9.9000000e-01\n",
       "  0.0000000e+00 0.0000000e+00]\n",
       " [0.0000000e+00 0.0000000e+00 0.0000000e+00 ... 0.0000000e+00\n",
       "  9.9000000e-01 0.0000000e+00]\n",
       " [1.5625000e-04 0.0000000e+00 0.0000000e+00 ... 0.0000000e+00\n",
       "  0.0000000e+00 9.9015625e-01]]"
      ]
     },
     "execution_count": 20,
     "metadata": {},
     "output_type": "execute_result"
    }
   ],
   "source": [
    "depolarising"
   ]
  },
  {
   "cell_type": "code",
   "execution_count": 21,
   "metadata": {},
   "outputs": [
    {
     "name": "stdout",
     "output_type": "stream",
     "text": [
      "0\n",
      "1\n",
      "2\n",
      "3\n",
      "4\n",
      "5\n",
      "6\n",
      "7\n",
      "8\n",
      "9\n",
      "10\n",
      "11\n",
      "12\n",
      "13\n",
      "14\n",
      "15\n",
      "16\n",
      "17\n"
     ]
    },
    {
     "ename": "KeyboardInterrupt",
     "evalue": "",
     "output_type": "error",
     "traceback": [
      "\u001b[0;31m---------------------------------------------------------------------------\u001b[0m",
      "\u001b[0;31mKeyboardInterrupt\u001b[0m                         Traceback (most recent call last)",
      "\u001b[0;32m<ipython-input-21-137b8746a170>\u001b[0m in \u001b[0;36m<module>\u001b[0;34m\u001b[0m\n\u001b[1;32m      2\u001b[0m \u001b[0;32mfor\u001b[0m \u001b[0m_\u001b[0m \u001b[0;32min\u001b[0m \u001b[0mrange\u001b[0m\u001b[0;34m(\u001b[0m\u001b[0;36m100\u001b[0m\u001b[0;34m)\u001b[0m\u001b[0;34m:\u001b[0m\u001b[0;34m\u001b[0m\u001b[0;34m\u001b[0m\u001b[0m\n\u001b[1;32m      3\u001b[0m     \u001b[0mprint\u001b[0m\u001b[0;34m(\u001b[0m\u001b[0m_\u001b[0m\u001b[0;34m)\u001b[0m\u001b[0;34m\u001b[0m\u001b[0;34m\u001b[0m\u001b[0m\n\u001b[0;32m----> 4\u001b[0;31m     \u001b[0mpsi\u001b[0m \u001b[0;34m=\u001b[0m \u001b[0mdepolarising\u001b[0m \u001b[0;34m*\u001b[0m \u001b[0mcrosstalk\u001b[0m \u001b[0;34m*\u001b[0m \u001b[0mpsi\u001b[0m\u001b[0;34m\u001b[0m\u001b[0;34m\u001b[0m\u001b[0m\n\u001b[0m",
      "\u001b[0;32m~/Github/CohortProject_2021/Week1_Trapped_Ions/env/lib/python3.6/site-packages/qutip/qobj.py\u001b[0m in \u001b[0;36m__mul__\u001b[0;34m(self, other)\u001b[0m\n\u001b[1;32m    512\u001b[0m             \u001b[0;32mif\u001b[0m \u001b[0mself\u001b[0m\u001b[0;34m.\u001b[0m\u001b[0mdims\u001b[0m\u001b[0;34m[\u001b[0m\u001b[0;36m1\u001b[0m\u001b[0;34m]\u001b[0m \u001b[0;34m==\u001b[0m \u001b[0mother\u001b[0m\u001b[0;34m.\u001b[0m\u001b[0mdims\u001b[0m\u001b[0;34m[\u001b[0m\u001b[0;36m0\u001b[0m\u001b[0;34m]\u001b[0m\u001b[0;34m:\u001b[0m\u001b[0;34m\u001b[0m\u001b[0;34m\u001b[0m\u001b[0m\n\u001b[1;32m    513\u001b[0m                 \u001b[0mout\u001b[0m \u001b[0;34m=\u001b[0m \u001b[0mQobj\u001b[0m\u001b[0;34m(\u001b[0m\u001b[0;34m)\u001b[0m\u001b[0;34m\u001b[0m\u001b[0;34m\u001b[0m\u001b[0m\n\u001b[0;32m--> 514\u001b[0;31m                 \u001b[0mout\u001b[0m\u001b[0;34m.\u001b[0m\u001b[0mdata\u001b[0m \u001b[0;34m=\u001b[0m \u001b[0mself\u001b[0m\u001b[0;34m.\u001b[0m\u001b[0mdata\u001b[0m \u001b[0;34m*\u001b[0m \u001b[0mother\u001b[0m\u001b[0;34m.\u001b[0m\u001b[0mdata\u001b[0m\u001b[0;34m\u001b[0m\u001b[0;34m\u001b[0m\u001b[0m\n\u001b[0m\u001b[1;32m    515\u001b[0m                 \u001b[0mdims\u001b[0m \u001b[0;34m=\u001b[0m \u001b[0;34m[\u001b[0m\u001b[0mself\u001b[0m\u001b[0;34m.\u001b[0m\u001b[0mdims\u001b[0m\u001b[0;34m[\u001b[0m\u001b[0;36m0\u001b[0m\u001b[0;34m]\u001b[0m\u001b[0;34m,\u001b[0m \u001b[0mother\u001b[0m\u001b[0;34m.\u001b[0m\u001b[0mdims\u001b[0m\u001b[0;34m[\u001b[0m\u001b[0;36m1\u001b[0m\u001b[0;34m]\u001b[0m\u001b[0;34m]\u001b[0m\u001b[0;34m\u001b[0m\u001b[0;34m\u001b[0m\u001b[0m\n\u001b[1;32m    516\u001b[0m                 \u001b[0mout\u001b[0m\u001b[0;34m.\u001b[0m\u001b[0mdims\u001b[0m \u001b[0;34m=\u001b[0m \u001b[0mdims\u001b[0m\u001b[0;34m\u001b[0m\u001b[0;34m\u001b[0m\u001b[0m\n",
      "\u001b[0;32m~/Github/CohortProject_2021/Week1_Trapped_Ions/env/lib/python3.6/site-packages/cvxpy/interface/scipy_wrapper.py\u001b[0m in \u001b[0;36mnew_method\u001b[0;34m(self, other)\u001b[0m\n\u001b[1;32m     29\u001b[0m             \u001b[0;32mreturn\u001b[0m \u001b[0mNotImplemented\u001b[0m\u001b[0;34m\u001b[0m\u001b[0;34m\u001b[0m\u001b[0m\n\u001b[1;32m     30\u001b[0m         \u001b[0;32melse\u001b[0m\u001b[0;34m:\u001b[0m\u001b[0;34m\u001b[0m\u001b[0;34m\u001b[0m\u001b[0m\n\u001b[0;32m---> 31\u001b[0;31m             \u001b[0;32mreturn\u001b[0m \u001b[0mmethod\u001b[0m\u001b[0;34m(\u001b[0m\u001b[0mself\u001b[0m\u001b[0;34m,\u001b[0m \u001b[0mother\u001b[0m\u001b[0;34m)\u001b[0m\u001b[0;34m\u001b[0m\u001b[0;34m\u001b[0m\u001b[0m\n\u001b[0m\u001b[1;32m     32\u001b[0m     \u001b[0;32mreturn\u001b[0m \u001b[0mnew_method\u001b[0m\u001b[0;34m\u001b[0m\u001b[0;34m\u001b[0m\u001b[0m\n\u001b[1;32m     33\u001b[0m \u001b[0;34m\u001b[0m\u001b[0m\n",
      "\u001b[0;32m~/Github/CohortProject_2021/Week1_Trapped_Ions/env/lib/python3.6/site-packages/scipy/sparse/base.py\u001b[0m in \u001b[0;36m__mul__\u001b[0;34m(self, other)\u001b[0m\n\u001b[1;32m    478\u001b[0m             \u001b[0;32mif\u001b[0m \u001b[0mself\u001b[0m\u001b[0;34m.\u001b[0m\u001b[0mshape\u001b[0m\u001b[0;34m[\u001b[0m\u001b[0;36m1\u001b[0m\u001b[0;34m]\u001b[0m \u001b[0;34m!=\u001b[0m \u001b[0mother\u001b[0m\u001b[0;34m.\u001b[0m\u001b[0mshape\u001b[0m\u001b[0;34m[\u001b[0m\u001b[0;36m0\u001b[0m\u001b[0;34m]\u001b[0m\u001b[0;34m:\u001b[0m\u001b[0;34m\u001b[0m\u001b[0;34m\u001b[0m\u001b[0m\n\u001b[1;32m    479\u001b[0m                 \u001b[0;32mraise\u001b[0m \u001b[0mValueError\u001b[0m\u001b[0;34m(\u001b[0m\u001b[0;34m'dimension mismatch'\u001b[0m\u001b[0;34m)\u001b[0m\u001b[0;34m\u001b[0m\u001b[0;34m\u001b[0m\u001b[0m\n\u001b[0;32m--> 480\u001b[0;31m             \u001b[0;32mreturn\u001b[0m \u001b[0mself\u001b[0m\u001b[0;34m.\u001b[0m\u001b[0m_mul_sparse_matrix\u001b[0m\u001b[0;34m(\u001b[0m\u001b[0mother\u001b[0m\u001b[0;34m)\u001b[0m\u001b[0;34m\u001b[0m\u001b[0;34m\u001b[0m\u001b[0m\n\u001b[0m\u001b[1;32m    481\u001b[0m \u001b[0;34m\u001b[0m\u001b[0m\n\u001b[1;32m    482\u001b[0m         \u001b[0;31m# If it's a list or whatever, treat it like a matrix\u001b[0m\u001b[0;34m\u001b[0m\u001b[0;34m\u001b[0m\u001b[0;34m\u001b[0m\u001b[0m\n",
      "\u001b[0;32m~/Github/CohortProject_2021/Week1_Trapped_Ions/env/lib/python3.6/site-packages/qutip/fastsparse.py\u001b[0m in \u001b[0;36m_mul_sparse_matrix\u001b[0;34m(self, other)\u001b[0m\n\u001b[1;32m    186\u001b[0m         \u001b[0mmajor_axis\u001b[0m \u001b[0;34m=\u001b[0m \u001b[0mself\u001b[0m\u001b[0;34m.\u001b[0m\u001b[0m_swap\u001b[0m\u001b[0;34m(\u001b[0m\u001b[0;34m(\u001b[0m\u001b[0mM\u001b[0m\u001b[0;34m,\u001b[0m \u001b[0mN\u001b[0m\u001b[0;34m)\u001b[0m\u001b[0;34m)\u001b[0m\u001b[0;34m[\u001b[0m\u001b[0;36m0\u001b[0m\u001b[0;34m]\u001b[0m\u001b[0;34m\u001b[0m\u001b[0;34m\u001b[0m\u001b[0m\n\u001b[1;32m    187\u001b[0m         \u001b[0;32mif\u001b[0m \u001b[0misinstance\u001b[0m\u001b[0;34m(\u001b[0m\u001b[0mother\u001b[0m\u001b[0;34m,\u001b[0m \u001b[0mfast_csr_matrix\u001b[0m\u001b[0;34m)\u001b[0m\u001b[0;34m:\u001b[0m\u001b[0;34m\u001b[0m\u001b[0;34m\u001b[0m\u001b[0m\n\u001b[0;32m--> 188\u001b[0;31m             \u001b[0mA\u001b[0m \u001b[0;34m=\u001b[0m \u001b[0mzcsr_mult\u001b[0m\u001b[0;34m(\u001b[0m\u001b[0mself\u001b[0m\u001b[0;34m,\u001b[0m \u001b[0mother\u001b[0m\u001b[0;34m,\u001b[0m \u001b[0msorted\u001b[0m\u001b[0;34m=\u001b[0m\u001b[0;36m1\u001b[0m\u001b[0;34m)\u001b[0m\u001b[0;34m\u001b[0m\u001b[0;34m\u001b[0m\u001b[0m\n\u001b[0m\u001b[1;32m    189\u001b[0m             \u001b[0;32mreturn\u001b[0m \u001b[0mA\u001b[0m\u001b[0;34m\u001b[0m\u001b[0;34m\u001b[0m\u001b[0m\n\u001b[1;32m    190\u001b[0m \u001b[0;34m\u001b[0m\u001b[0m\n",
      "\u001b[0;32m~/Github/CohortProject_2021/Week1_Trapped_Ions/env/lib/python3.6/site-packages/qutip/cy/spmath.pyx\u001b[0m in \u001b[0;36mqutip.cy.spmath.zcsr_mult\u001b[0;34m()\u001b[0m\n",
      "\u001b[0;32m~/Github/CohortProject_2021/Week1_Trapped_Ions/env/lib/python3.6/site-packages/qutip/cy/sparse_routines.pxi\u001b[0m in \u001b[0;36mqutip.cy.spmath.CSR_to_scipy\u001b[0;34m()\u001b[0m\n",
      "\u001b[0;32m~/Github/CohortProject_2021/Week1_Trapped_Ions/env/lib/python3.6/site-packages/qutip/fastsparse.py\u001b[0m in \u001b[0;36m__init__\u001b[0;34m(self, args, shape, dtype, copy)\u001b[0m\n\u001b[1;32m     45\u001b[0m     \u001b[0mchecks\u001b[0m \u001b[0mthat\u001b[0m \u001b[0mare\u001b[0m \u001b[0mrun\u001b[0m \u001b[0meverytime\u001b[0m \u001b[0ma\u001b[0m \u001b[0mnew\u001b[0m \u001b[0mcsr_matrix\u001b[0m \u001b[0;32mis\u001b[0m \u001b[0mcreated\u001b[0m\u001b[0;34m.\u001b[0m\u001b[0;34m\u001b[0m\u001b[0;34m\u001b[0m\u001b[0m\n\u001b[1;32m     46\u001b[0m     \"\"\"\n\u001b[0;32m---> 47\u001b[0;31m     \u001b[0;32mdef\u001b[0m \u001b[0m__init__\u001b[0m\u001b[0;34m(\u001b[0m\u001b[0mself\u001b[0m\u001b[0;34m,\u001b[0m \u001b[0margs\u001b[0m\u001b[0;34m=\u001b[0m\u001b[0;32mNone\u001b[0m\u001b[0;34m,\u001b[0m \u001b[0mshape\u001b[0m\u001b[0;34m=\u001b[0m\u001b[0;32mNone\u001b[0m\u001b[0;34m,\u001b[0m \u001b[0mdtype\u001b[0m\u001b[0;34m=\u001b[0m\u001b[0;32mNone\u001b[0m\u001b[0;34m,\u001b[0m \u001b[0mcopy\u001b[0m\u001b[0;34m=\u001b[0m\u001b[0;32mFalse\u001b[0m\u001b[0;34m)\u001b[0m\u001b[0;34m:\u001b[0m\u001b[0;34m\u001b[0m\u001b[0;34m\u001b[0m\u001b[0m\n\u001b[0m\u001b[1;32m     48\u001b[0m         \u001b[0;32mif\u001b[0m \u001b[0margs\u001b[0m \u001b[0;32mis\u001b[0m \u001b[0;32mNone\u001b[0m\u001b[0;34m:\u001b[0m \u001b[0;31m#Build zero matrix\u001b[0m\u001b[0;34m\u001b[0m\u001b[0;34m\u001b[0m\u001b[0m\n\u001b[1;32m     49\u001b[0m             \u001b[0;32mif\u001b[0m \u001b[0mshape\u001b[0m \u001b[0;32mis\u001b[0m \u001b[0;32mNone\u001b[0m\u001b[0;34m:\u001b[0m\u001b[0;34m\u001b[0m\u001b[0;34m\u001b[0m\u001b[0m\n",
      "\u001b[0;31mKeyboardInterrupt\u001b[0m: "
     ]
    }
   ],
   "source": [
    "specs = []\n",
    "depths = []\n",
    "for j in range(cct_depth):\n",
    "    one_qubit_layer = random_single_qubit_gate_layer(n_sites)\n",
    "    two_qubit_layer = random_two_qubit_gate_ladder(n_sites)[np.mod(j, 2)]\n",
    "\n",
    "    psi = tn.onedim.contract_mps_mpo(psi, one_qubit_layer)\n",
    "    psi.left_canonise(chi=chi)\n",
    "\n",
    "    psi = tn.onedim.contract_mps_mpo(psi, two_qubit_layer)\n",
    "    psi.left_canonise(chi=chi)\n",
    "\n",
    "    if np.mod(2*j, slice_separation) == 0:\n",
    "        depths.append(j)\n",
    "        phi = deepcopy(psi)\n",
    "        phi.left_canonise(normalise=True)\n",
    "\n",
    "        phi_vec = tn.onedim.contract_virtual_indices(phi)\n",
    "        phi_vec.fuse_indices('physout','physout')\n",
    "\n",
    "        prob_vec = abs(phi_vec.data.reshape(-1, 1)) ** 2\n",
    "\n",
    "        specs.append(prob_vec)\n",
    "#         clear_output(wait=True)\n",
    "#         speckle_pattern(prob_vec)\n",
    "#         plt.show()"
   ]
  },
  {
   "cell_type": "code",
   "execution_count": null,
   "metadata": {},
   "outputs": [],
   "source": [
    "slice_separation = 200"
   ]
  }
 ],
 "metadata": {
  "kernelspec": {
   "display_name": "Python 3",
   "language": "python",
   "name": "python3"
  },
  "language_info": {
   "codemirror_mode": {
    "name": "ipython",
    "version": 3
   },
   "file_extension": ".py",
   "mimetype": "text/x-python",
   "name": "python",
   "nbconvert_exporter": "python",
   "pygments_lexer": "ipython3",
   "version": "3.6.9"
  }
 },
 "nbformat": 4,
 "nbformat_minor": 1
}
