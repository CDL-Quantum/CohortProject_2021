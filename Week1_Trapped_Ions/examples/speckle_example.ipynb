{
 "cells": [
  {
   "cell_type": "code",
   "execution_count": 1,
   "metadata": {
    "pycharm": {
     "name": "#%%\n"
    }
   },
   "outputs": [],
   "source": [
    "import numpy as np\n",
    "import tncontract as tn\n",
    "import qutip as qt\n",
    "import time\n",
    "\n",
    "from copy import deepcopy\n",
    "from IPython.display import clear_output\n",
    "\n",
    "from src.simulation_utils import *\n",
    "from src.plotting_utils import *"
   ]
  },
  {
   "cell_type": "code",
   "execution_count": 2,
   "metadata": {
    "pycharm": {
     "name": "#%%\n"
    }
   },
   "outputs": [],
   "source": [
    "n_sites = 4 # Number of sites (qubits)\n",
    "cct_depth = 100 # Circuit depth\n",
    "chi = None # Limit for the bond dimension\n",
    "\n",
    "psi = tn.onedim.init_mps_allzero(n_sites, 2) # Initialize all qubits in zero\n",
    "\n",
    "slice_separation = 1"
   ]
  },
  {
   "cell_type": "code",
   "execution_count": 3,
   "metadata": {
    "pycharm": {
     "name": "#%%\n"
    }
   },
   "outputs": [
    {
     "data": {
      "text/plain": "<Figure size 432x288 with 1 Axes>",
      "image/png": "[encoded data removed]"
     },
     "metadata": {},
     "output_type": "display_data"
    }
   ],
   "source": [
    "for j in range(cct_depth):\n",
    "    one_qubit_layer = random_single_qubit_gate_layer(n_sites)\n",
    "    two_qubit_layer = random_two_qubit_gate_ladder(n_sites)[np.mod(j, 2)]\n",
    "\n",
    "    psi = tn.onedim.contract_mps_mpo(psi, one_qubit_layer)\n",
    "    psi.left_canonise(chi=chi)\n",
    "\n",
    "    psi = tn.onedim.contract_mps_mpo(psi, two_qubit_layer)\n",
    "    psi.left_canonise(chi=chi)\n",
    "\n",
    "    if np.mod(2*j, slice_separation) == 0:\n",
    "        phi = deepcopy(psi)\n",
    "        phi.left_canonise(normalise=True)\n",
    "\n",
    "        phi_vec = tn.onedim.contract_virtual_indices(phi)\n",
    "        phi_vec.fuse_indices('physout','physout')\n",
    "\n",
    "        prob_vec = abs(phi_vec.data.reshape(-1, 1)) ** 2\n",
    "\n",
    "        clear_output(wait=True)\n",
    "        speckle_pattern(prob_vec)\n",
    "        plt.show()"
   ]
  },
  {
   "cell_type": "code",
   "execution_count": 3,
   "metadata": {
    "pycharm": {
     "name": "#%%\n"
    }
   },
   "outputs": [],
   "source": []
  }
 ],
 "metadata": {
  "kernelspec": {
   "display_name": "Python 3 (ipykernel)",
   "language": "python",
   "name": "python3"
  },
  "language_info": {
   "codemirror_mode": {
    "name": "ipython",
    "version": 3
   },
   "file_extension": ".py",
   "mimetype": "text/x-python",
   "name": "python",
   "nbconvert_exporter": "python",
   "pygments_lexer": "ipython3",
   "version": "3.8.10"
  }
 },
 "nbformat": 4,
 "nbformat_minor": 1
}