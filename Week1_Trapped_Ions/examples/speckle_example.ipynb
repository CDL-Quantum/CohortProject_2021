{
 "cells": [
  {
   "cell_type": "code",
   "execution_count": 1,
   "outputs": [],
   "source": [
    "import numpy as np\n",
    "import tncontract as tn\n",
    "import qutip as qt\n",
    "import time\n",
    "\n",
    "import sys\n",
    "sys.path.append(\"../src/\")\n",
    "\n",
    "from simulation_utils import *\n",
    "from plotting_utils import *"
   ],
   "metadata": {
    "collapsed": false,
    "pycharm": {
     "name": "#%%\n"
    }
   }
  },
  {
   "cell_type": "code",
   "execution_count": 2,
   "outputs": [
    {
     "name": "stdout",
     "output_type": "stream",
     "text": [
      "Took 1.88s to run 1000 circuits on 4 qubits\n"
     ]
    }
   ],
   "source": [
    "n_sites = 4 # Number of sites\n",
    "psi = tn.onedim.init_mps_allzero(n_sites, 2) # Initial state all zeros\n",
    "cct_depth = 1000\n",
    "\n",
    "# Limit the bond dimension\n",
    "# chi = int(2 * np.log2(n_sites))\n",
    "chi = None\n",
    "\n",
    "t = time.time()\n",
    "\n",
    "for _ in range(int(cct_depth/3)):\n",
    "    # Two-qubit layer\n",
    "    cct_layer_1, cct_layer_2 = random_two_qubit_gate_ladder(n_sites)\n",
    "    psi = tn.onedim.contract_mps_mpo(psi,cct_layer_1)\n",
    "    psi.left_canonise(chi=chi)\n",
    "    psi = tn.onedim.contract_mps_mpo(psi,cct_layer_2)\n",
    "    psi.left_canonise(chi=chi)\n",
    "\n",
    "    # Single qubit layer\n",
    "    cct_layer = random_single_qubit_gate_layer(n_sites)\n",
    "    psi = tn.onedim.contract_mps_mpo(psi,cct_layer)\n",
    "    psi.left_canonise(chi=chi)\n",
    "\n",
    "psi.left_canonise(normalise=True)\n",
    "print(\"Took {:.2f}s to run {} circuits on {} qubits\".format(time.time()-t, cct_depth, n_sites))"
   ],
   "metadata": {
    "collapsed": false,
    "pycharm": {
     "name": "#%%\n"
    }
   }
  },
  {
   "cell_type": "code",
   "execution_count": 3,
   "outputs": [
    {
     "name": "stdout",
     "output_type": "stream",
     "text": [
      "(2, 1, 2)\n",
      "(2, 2, 4)\n",
      "(2, 4, 8)\n",
      "(8, 2, 1)\n"
     ]
    }
   ],
   "source": [
    "for s in psi:\n",
    "    print(s.shape)"
   ],
   "metadata": {
    "collapsed": false,
    "pycharm": {
     "name": "#%%\n"
    }
   }
  },
  {
   "cell_type": "code",
   "execution_count": 4,
   "outputs": [
    {
     "data": {
      "text/plain": "(16,)"
     },
     "execution_count": 4,
     "metadata": {},
     "output_type": "execute_result"
    }
   ],
   "source": [
    "psi_vec = tn.onedim.contract_virtual_indices(psi)\n",
    "psi_vec.fuse_indices('physout','physout')\n",
    "\n",
    "psi_vec.shape"
   ],
   "metadata": {
    "collapsed": false,
    "pycharm": {
     "name": "#%%\n"
    }
   }
  },
  {
   "cell_type": "code",
   "execution_count": 5,
   "outputs": [],
   "source": [
    "prob_vec = abs(psi_vec.data.reshape(-1, 1))**2"
   ],
   "metadata": {
    "collapsed": false,
    "pycharm": {
     "name": "#%%\n"
    }
   }
  },
  {
   "cell_type": "code",
   "execution_count": 6,
   "outputs": [
    {
     "data": {
      "text/plain": "<Figure size 1080x360 with 1 Axes>",
      "image/png": "[encoded data removed]"
     },
     "metadata": {},
     "output_type": "display_data"
    }
   ],
   "source": [
    "fig, ax = plt.subplots(1, 1, figsize=(15, 5))\n",
    "speckle_pattern(prob_vec, ax=ax)"
   ],
   "metadata": {
    "collapsed": false,
    "pycharm": {
     "name": "#%%\n"
    }
   }
  },
  {
   "cell_type": "code",
   "execution_count": 6,
   "outputs": [],
   "source": [],
   "metadata": {
    "collapsed": false,
    "pycharm": {
     "name": "#%%\n"
    }
   }
  },
  {
   "cell_type": "code",
   "execution_count": 6,
   "outputs": [],
   "source": [],
   "metadata": {
    "collapsed": false,
    "pycharm": {
     "name": "#%%\n"
    }
   }
  },
  {
   "cell_type": "code",
   "execution_count": 6,
   "outputs": [],
   "source": [],
   "metadata": {
    "collapsed": false,
    "pycharm": {
     "name": "#%%\n"
    }
   }
  }
 ],
 "metadata": {
  "kernelspec": {
   "display_name": "Python 3",
   "language": "python",
   "name": "python3"
  },
  "language_info": {
   "codemirror_mode": {
    "name": "ipython",
    "version": 2
   },
   "file_extension": ".py",
   "mimetype": "text/x-python",
   "name": "python",
   "nbconvert_exporter": "python",
   "pygments_lexer": "ipython2",
   "version": "2.7.6"
  }
 },
 "nbformat": 4,
 "nbformat_minor": 0
}