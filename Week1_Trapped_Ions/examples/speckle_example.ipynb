{
 "cells": [
  {
   "cell_type": "code",
   "execution_count": 4,
   "outputs": [],
   "source": [
    "import matplotlib.pyplot as plt\n",
    "import numpy as np\n",
    "import tncontract as tn\n",
    "import time\n",
    "\n",
    "import sys\n",
    "sys.path.append(\"../src/\")\n",
    "\n",
    "from simulation_utils import *\n",
    "from plotting_utils import *\n",
    "\n",
    "from copy import deepcopy\n",
    "from IPython.display import clear_output"
   ],
   "metadata": {
    "collapsed": false,
    "pycharm": {
     "name": "#%%\n"
    }
   }
  },
  {
   "cell_type": "code",
   "execution_count": 5,
   "outputs": [],
   "source": [
    "n_sites = 4\n",
    "cct_depth = 3000\n",
    "\n",
    "psi = tn.onedim.init_mps_allzero(n_sites, 2)\n",
    "chi = None\n",
    "\n",
    "slice_depth = 100"
   ],
   "metadata": {
    "collapsed": false,
    "pycharm": {
     "name": "#%%\n"
    }
   }
  },
  {
   "cell_type": "code",
   "execution_count": 6,
   "outputs": [
    {
     "data": {
      "text/plain": "<Figure size 432x288 with 1 Axes>",
      "image/png": "[encoded data removed]"
     },
     "metadata": {},
     "output_type": "display_data"
    }
   ],
   "source": [
    "for j in range(int(cct_depth/3)):\n",
    "    # Two-qubit layer\n",
    "    cct_layer_1, cct_layer_2 = random_two_qubit_gate_ladder(n_sites)\n",
    "    psi = tn.onedim.contract_mps_mpo(psi, cct_layer_1)\n",
    "    psi.left_canonise(chi=chi)\n",
    "    psi = tn.onedim.contract_mps_mpo(psi, cct_layer_2)\n",
    "    psi.left_canonise(chi=chi)\n",
    "\n",
    "    # Single qubit layer\n",
    "    cct_layer = random_single_qubit_gate_layer(n_sites)\n",
    "    psi = tn.onedim.contract_mps_mpo(psi,cct_layer)\n",
    "    psi.left_canonise(chi=chi)\n",
    "\n",
    "    # Plot speckle pattern.\n",
    "    if np.mod(3*j, slice_depth) == 0:\n",
    "        phi = deepcopy(psi)\n",
    "        phi.left_canonise(normalise=True)\n",
    "\n",
    "        phi_vec = tn.onedim.contract_virtual_indices(phi)\n",
    "        phi_vec.fuse_indices('physout','physout')\n",
    "\n",
    "        prob_vec = abs(phi_vec.data.reshape(-1, 1))**2\n",
    "\n",
    "        clear_output(wait=True)\n",
    "        speckle_pattern(prob_vec)\n",
    "        plt.show()"
   ],
   "metadata": {
    "collapsed": false,
    "pycharm": {
     "name": "#%%\n"
    }
   }
  },
  {
   "cell_type": "code",
   "execution_count": 6,
   "outputs": [],
   "source": [],
   "metadata": {
    "collapsed": false,
    "pycharm": {
     "name": "#%%\n"
    }
   }
  }
 ],
 "metadata": {
  "kernelspec": {
   "display_name": "Python 3",
   "language": "python",
   "name": "python3"
  },
  "language_info": {
   "codemirror_mode": {
    "name": "ipython",
    "version": 2
   },
   "file_extension": ".py",
   "mimetype": "text/x-python",
   "name": "python",
   "nbconvert_exporter": "python",
   "pygments_lexer": "ipython2",
   "version": "2.7.6"
  }
 },
 "nbformat": 4,
 "nbformat_minor": 0
}