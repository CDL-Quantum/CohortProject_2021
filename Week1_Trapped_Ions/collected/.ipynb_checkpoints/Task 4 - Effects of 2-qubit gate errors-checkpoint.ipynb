{
 "cells": [
  {
   "cell_type": "markdown",
   "id": "894207fe",
   "metadata": {},
   "source": [
    "## Task 4"
   ]
  },
  {
   "cell_type": "markdown",
   "id": "e17f1e31",
   "metadata": {},
   "source": [
    "In this task we need to write a function that will perturb the angle of each 2-qubit gate by a fixed amount $\\Delta\\Theta$ in order to simulate the systematic error. Additionally, we need to plot linear cross-entropy benchmarking (XEB) fidelity as a function of $\\Delta\\Theta$. Introducing errors will make the circuit more unpredictable."
   ]
  },
  {
   "cell_type": "markdown",
   "id": "bbec9a2d",
   "metadata": {},
   "source": [
    "Like in the previous tasks we will import the __task_functions__ library"
   ]
  },
  {
   "cell_type": "code",
   "execution_count": 1,
   "id": "6f49e278",
   "metadata": {},
   "outputs": [
    {
     "data": {
      "text/plain": [
       "perturb (generic function with 1 method)"
      ]
     },
     "execution_count": 1,
     "metadata": {},
     "output_type": "execute_result"
    }
   ],
   "source": [
    "include(\"task_functions.jl\")"
   ]
  },
  {
   "cell_type": "markdown",
   "id": "0cc50c3f",
   "metadata": {},
   "source": [
    "We have added two additional functions to help us with this task"
   ]
  },
  {
   "cell_type": "code",
   "execution_count": 2,
   "id": "8623a478",
   "metadata": {},
   "outputs": [
    {
     "data": {
      "text/plain": [
       "perturb (generic function with 1 method)"
      ]
     },
     "execution_count": 2,
     "metadata": {},
     "output_type": "execute_result"
    }
   ],
   "source": [
    "#Runs random circuit with systemic error\n",
    "function run_sysErr(N, depth, flipon, delta)\n",
    "    # Random circuit.\n",
    "    gates = Vector{Tuple}[]\n",
    "    if flipon == true\n",
    "        td=rand(1:depth)\n",
    "        tN=rand(1:N)\n",
    "    end\n",
    "    for i in 1:depth\n",
    "        one_qubit_layer = Tuple[]\n",
    "        two_qubit_layer = Tuple[]\n",
    "        \n",
    "        for j in 1:N\n",
    "            gate = (\"R\", j, (theta=2pi*rand(), phi=2pi*rand()))\n",
    "            push!(one_qubit_layer, gate)\n",
    "            if flipon == true\n",
    "                if j==tN && i==td\n",
    "                    push!(one_qubit_layer, (\"X\", j))\n",
    "                end\n",
    "            end\n",
    "        end\n",
    "\n",
    "        # Alternate start qubit for pairs.\n",
    "        idx_first = i % 2 + 1\n",
    "\n",
    "        for j in idx_first:2:(N-1)\n",
    "            gate = (\"M_p\", (j, j+1), (Theta=2pi*rand(), delta))\n",
    "            push!(two_qubit_layer, gate)\n",
    "        end\n",
    "        \n",
    "        push!(gates, one_qubit_layer)\n",
    "        push!(gates, two_qubit_layer)\n",
    "            \n",
    "    end\n",
    "    psi = runcircuit(N, gates)\n",
    "end\n",
    "\n",
    "#This functions create P(xi) samples for equation #1\n",
    "function run_sampling(s,N,depth,flipon,delta)\n",
    "    fxeb=zeros(2^N)\n",
    "    for i=1:s\n",
    "        psi=run_sysErr(N,depth,flipon,delta)\n",
    "        fxeb=fxeb+get_Probs(psi,N)\n",
    "    end\n",
    "    fxeb=(2^N)*fxeb/s .-1\n",
    "    return fxeb\n",
    "end\n",
    "\n",
    "#Applying the perturbation for series of DeltaThetas between zero to 2pi with the steps 2pi/gran\n",
    "function perturb(gran,s,N,depth,flipon,site)\n",
    "    deltas=zeros(0)\n",
    "    avg_fxeb=zeros(0)\n",
    "    for x=0:pi/gran:2pi\n",
    "        append!(deltas,x)\n",
    "        fxeb=run_sampling(s,N,depth,flipon,x)\n",
    "        append!(avg_fxeb,fxeb[site])\n",
    "    end\n",
    "    return deltas,avg_fxeb\n",
    "end"
   ]
  },
  {
   "cell_type": "markdown",
   "id": "36cc1bb1",
   "metadata": {},
   "source": [
    "Sample run"
   ]
  },
  {
   "cell_type": "code",
   "execution_count": 3,
   "id": "389bec70",
   "metadata": {},
   "outputs": [
    {
     "ename": "LoadError",
     "evalue": "UndefVarError: run_sysErr not defined",
     "output_type": "error",
     "traceback": [
      "UndefVarError: run_sysErr not defined",
      "",
      "Stacktrace:",
      " [1] run_sampling(s::Int64, N::Int64, depth::Int64, flipon::Bool, delta::Float64)",
      "   @ Main ./In[2]:5",
      " [2] perturb(gran::Int64, s::Int64, N::Int64, depth::Int64, flipon::Bool, site::Int64)",
      "   @ Main ./In[2]:18",
      " [3] top-level scope",
      "   @ In[3]:1",
      " [4] eval",
      "   @ ./boot.jl:360 [inlined]",
      " [5] include_string(mapexpr::typeof(REPL.softscope), mod::Module, code::String, filename::String)",
      "   @ Base ./loading.jl:1094"
     ]
    }
   ],
   "source": [
    "deltas, fxeb = perturb(50,50,4,150,false,1)"
   ]
  },
  {
   "cell_type": "code",
   "execution_count": null,
   "id": "af76975b",
   "metadata": {},
   "outputs": [],
   "source": []
  }
 ],
 "metadata": {
  "kernelspec": {
   "display_name": "Julia 1.6.1",
   "language": "julia",
   "name": "julia-1.6"
  },
  "language_info": {
   "file_extension": ".jl",
   "mimetype": "application/julia",
   "name": "julia",
   "version": "1.6.1"
  }
 },
 "nbformat": 4,
 "nbformat_minor": 5
}
