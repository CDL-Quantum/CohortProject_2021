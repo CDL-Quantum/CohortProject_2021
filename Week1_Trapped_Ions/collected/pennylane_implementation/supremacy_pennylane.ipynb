{
 "cells": [
  {
   "cell_type": "code",
   "execution_count": 1,
   "id": "d281f66a",
   "metadata": {},
   "outputs": [],
   "source": [
    "%matplotlib inline"
   ]
  },
  {
   "cell_type": "code",
   "execution_count": 2,
   "id": "28e7382f",
   "metadata": {},
   "outputs": [],
   "source": [
    "from matplotlib import pyplot as plt\n",
    "from math import pi\n",
    "\n",
    "import pennylane as qml\n",
    "\n",
    "#original numpy \n",
    "import numpy as onp"
   ]
  },
  {
   "cell_type": "code",
   "execution_count": 142,
   "id": "ded8f568",
   "metadata": {},
   "outputs": [],
   "source": [
    "from collections import Counter, OrderedDict"
   ]
  },
  {
   "cell_type": "markdown",
   "id": "115dc875",
   "metadata": {},
   "source": [
    "## Trapped Ion Circuit in Pennylane"
   ]
  },
  {
   "cell_type": "markdown",
   "id": "be94fbd7",
   "metadata": {},
   "source": [
    "### qml.ops.Rot \n",
    "\n",
    "$$\n",
    "  R(\\phi,\\theta,\\omega) = \\begin{bmatrix}\n",
    "       e^{-i(\\phi+\\omega)/2}\\cos(\\theta/2) & -e^{i(\\phi-\\omega)/2}\\sin(\\theta/2) \\\\\n",
    "      e^{-i(\\phi-\\omega)/2}\\sin(\\theta/2) & e^{i(\\phi+\\omega)/2}\\cos(\\theta/2)\n",
    "      \\end{bmatrix}\n",
    "$$"
   ]
  },
  {
   "cell_type": "markdown",
   "id": "3a1a4a07",
   "metadata": {},
   "source": [
    "### qml.ops.IsingXX: \n",
    "$$\n",
    " XX(\\phi) = \\begin{bmatrix}\n",
    "          \\cos(\\phi / 2) & 0 & 0 & -i \\sin(\\phi / 2) \\\\\n",
    "         0 & \\cos(\\phi / 2) & -i \\sin(\\phi / 2) & 0 \\\\\n",
    "          0 & -i \\sin(\\phi / 2) & \\cos(\\phi / 2) & 0 \\\\\n",
    "         -i \\sin(\\phi / 2) & 0 & 0 & \\cos(\\phi / 2)\n",
    "     \\end{bmatrix}\n",
    "$$\n",
    " "
   ]
  },
  {
   "cell_type": "code",
   "execution_count": 12,
   "id": "2628db70",
   "metadata": {},
   "outputs": [],
   "source": [
    "# circuit depth\n",
    "num_layers = 3\n",
    "\n",
    "# number of qubits\n",
    "num_wires  = 4\n",
    "\n",
    "# set Pauli Z measurment operator\n",
    "Z_obs = qml.PauliZ(0)\n",
    "for j in range(1,num_wires):\n",
    "    Z_obs = Z_obs @ qml.PauliZ(j)"
   ]
  },
  {
   "cell_type": "markdown",
   "id": "47ad436b",
   "metadata": {},
   "source": [
    "## Pennylane Ion Circuit"
   ]
  },
  {
   "cell_type": "code",
   "execution_count": 235,
   "id": "2a295f02",
   "metadata": {},
   "outputs": [],
   "source": [
    "num_samples = 5000\n",
    "#exact_tensornet = qml.device(\"default.tensor\", wires=num_wires, contraction_method=\"greedy\")\n",
    "#mps_tensornet = qml.device(\"default.tensor\", wires=num_wires, representation=\"mps\")\n",
    "dev_qubit = qml.device(\"default.qubit\", wires=num_wires, shots=num_samples)\n",
    "dev = dev_qubit"
   ]
  },
  {
   "cell_type": "markdown",
   "id": "7548cecb",
   "metadata": {},
   "source": [
    "## Random Parameters"
   ]
  },
  {
   "cell_type": "code",
   "execution_count": 236,
   "id": "a15f157e",
   "metadata": {},
   "outputs": [],
   "source": [
    "# parameters for single qubit gates\n",
    "theta_single = onp.random.rand(num_layers,num_wires,3)\n",
    "# parameters for MS gates\n",
    "theta_two = onp.random.rand(num_layers,num_wires-1,1)"
   ]
  },
  {
   "cell_type": "code",
   "execution_count": 237,
   "id": "102d9f06",
   "metadata": {},
   "outputs": [],
   "source": [
    "# generate all bit strings\n",
    "bit_strings = ion_circuit.device.generate_basis_states(num_wires)"
   ]
  },
  {
   "cell_type": "code",
   "execution_count": 225,
   "id": "427aeea1",
   "metadata": {},
   "outputs": [],
   "source": [
    "bit_strings = ion_circuit.device.generate_basis_states(num_wires).astype(onp.int32)\n",
    "bit_strings[bit_strings == 0] = -1"
   ]
  },
  {
   "cell_type": "code",
   "execution_count": 239,
   "id": "3980a402",
   "metadata": {},
   "outputs": [],
   "source": [
    "@qml.qnode(dev)\n",
    "def ion_circuit(qubit_theta, MS_theta, bitflip=False):\n",
    "    if bitflip:\n",
    "        (flip_qubit, flip_layer) = tuple([onp.random.randint(0,num_wires),onp.random.randint(0,num_layers)])\n",
    "        \n",
    "    for ell in range(num_layers):\n",
    "        # random single qubit unitaries \n",
    "        qml.broadcast(qml.Rot, wires=dev.wires, pattern='single', parameters=qubit_theta[ell])\n",
    "        # Chain of Molmer-Sorensen gates \n",
    "        qml.broadcast(qml.ops.IsingXX, wires=dev.wires, pattern='chain',  parameters=MS_theta[ell])\n",
    "        # Insert random bitflip\n",
    "        if bitflip and flip_layer == ell:\n",
    "            qml.ops.RX(pi,wires=flip_qubit)\n",
    "    # final layer of single qubit rotations  \n",
    "    qml.broadcast(qml.Rot, wires=dev.wires, pattern='single', parameters=qubit_theta[-1])\n",
    "    # return samples\n",
    "    return [qml.sample(qml.PauliZ(j)) for j in range(num_wires)]"
   ]
  },
  {
   "cell_type": "code",
   "execution_count": 240,
   "id": "9d058447",
   "metadata": {},
   "outputs": [],
   "source": [
    "def sample_bitstrings(theta_single, theta_two, BF=False):\n",
    "    circuit_samples = ion_circuit(theta_single, theta_two, bitflip=BF).T\n",
    "    counts = Counter(map(tuple, circuit_samples.tolist()))\n",
    "    ordered_counts = OrderedDict(sorted(counts.items()))\n",
    "    \n",
    "    return onp.array(list(ordered_counts.values()))/num_samples"
   ]
  },
  {
   "cell_type": "markdown",
   "id": "5eab2cfd",
   "metadata": {},
   "source": [
    "### Generate Samples"
   ]
  },
  {
   "cell_type": "code",
   "execution_count": 262,
   "id": "d7caa195",
   "metadata": {},
   "outputs": [],
   "source": [
    "bitstring_probs = sample_bitstrings(theta_single, theta_two, BF=False)"
   ]
  },
  {
   "cell_type": "code",
   "execution_count": 263,
   "id": "be89d964",
   "metadata": {},
   "outputs": [
    {
     "name": "stdout",
     "output_type": "stream",
     "text": [
      " 0: ──Rot(0.874, 0.675, 0.854)──────╭IsingXX(0.238)───Rot(0.714, 0.297, 0.252)───────────────────────────────╭IsingXX(0.916)───────────────Rot(0.564, 0.86, 0.338)─────────────────────────────╭IsingXX(0.269)─────────────Rot(0.564, 0.86, 0.338)───────────────────────────────────────────────────────┤ Sample[Z] \n",
      " 1: ──Rot(0.896, 0.0585, 0.000485)──╰IsingXX(0.238)──╭IsingXX(0.249)─────────────Rot(0.00315, 0.134, 0.458)──╰IsingXX(0.916)──────────────╭IsingXX(0.000757)─────────Rot(0.248, 0.722, 0.851)──╰IsingXX(0.269)────────────╭IsingXX(0.767)────────────Rot(0.248, 0.722, 0.851)────────────────────────────┤ Sample[Z] \n",
      " 2: ──Rot(0.899, 0.615, 0.829)───────────────────────╰IsingXX(0.249)────────────╭IsingXX(0.00217)─────────────Rot(0.585, 0.747, 0.796)────╰IsingXX(0.000757)────────╭IsingXX(0.388)─────────────Rot(0.349, 0.117, 0.889)──╰IsingXX(0.767)───────────╭IsingXX(0.338)────────────Rot(0.349, 0.117, 0.889)──┤ Sample[Z] \n",
      " 3: ──Rot(0.983, 0.191, 0.786)──────────────────────────────────────────────────╰IsingXX(0.00217)─────────────Rot(0.00373, 0.661, 0.467)────────────────────────────╰IsingXX(0.388)─────────────Rot(0.988, 0.947, 0.581)────────────────────────────╰IsingXX(0.338)────────────Rot(0.988, 0.947, 0.581)──┤ Sample[Z] \n",
      "\n"
     ]
    }
   ],
   "source": [
    "print(ion_circuit.draw())"
   ]
  },
  {
   "cell_type": "code",
   "execution_count": 264,
   "id": "913d4600",
   "metadata": {},
   "outputs": [
    {
     "data": {
      "image/png": "[encoded data removed]",
      "text/plain": [
       "<Figure size 432x288 with 1 Axes>"
      ]
     },
     "metadata": {
      "needs_background": "light"
     },
     "output_type": "display_data"
    }
   ],
   "source": [
    "# task 1\n",
    "plt.scatter(range(len(bitstring_probs)),onp.zeros(len(bitstring_probs)), 1000*onp.array(bitstring_probs), 'r')\n",
    "plt.axis('off');"
   ]
  },
  {
   "cell_type": "markdown",
   "id": "0d4d495a",
   "metadata": {},
   "source": [
    "### Random bitflips in circuit"
   ]
  },
  {
   "cell_type": "code",
   "execution_count": 266,
   "id": "e86ad49b",
   "metadata": {},
   "outputs": [
    {
     "data": {
      "image/png": "[encoded data removed]",
      "text/plain": [
       "<Figure size 432x288 with 1 Axes>"
      ]
     },
     "metadata": {
      "needs_background": "light"
     },
     "output_type": "display_data"
    }
   ],
   "source": [
    "#Task 2\n",
    "num_runs = 10\n",
    "# Set BF = True to add random bitflips\n",
    "bitflip_probs = [sample_bitstrings(theta_single, theta_two, BF=True) for _ in range(num_runs)]\n",
    "\n",
    "# plot speckle pattern\n",
    "for rr in range(num_runs):\n",
    "    if bitflip_probs[rr].shape[0] == 2**num_wires:\n",
    "        plt.scatter(range(len(bitstring_probs)),rr*onp.ones(len(bitstring_probs)), 1000*bitflip_probs[rr], 'r')\n",
    "plt.axis('off');"
   ]
  },
  {
   "cell_type": "code",
   "execution_count": null,
   "id": "3c967a1c",
   "metadata": {},
   "outputs": [],
   "source": []
  },
  {
   "cell_type": "code",
   "execution_count": null,
   "id": "17b5dee3",
   "metadata": {},
   "outputs": [],
   "source": []
  },
  {
   "cell_type": "code",
   "execution_count": null,
   "id": "fc8b6de4",
   "metadata": {},
   "outputs": [],
   "source": []
  },
  {
   "cell_type": "code",
   "execution_count": null,
   "id": "1195ff05",
   "metadata": {},
   "outputs": [],
   "source": []
  },
  {
   "cell_type": "code",
   "execution_count": null,
   "id": "77a116e3",
   "metadata": {},
   "outputs": [],
   "source": []
  },
  {
   "cell_type": "code",
   "execution_count": null,
   "id": "6f99b08f",
   "metadata": {},
   "outputs": [],
   "source": []
  }
 ],
 "metadata": {
  "kernelspec": {
   "display_name": "Python 3",
   "language": "python",
   "name": "python3"
  },
  "language_info": {
   "codemirror_mode": {
    "name": "ipython",
    "version": 3
   },
   "file_extension": ".py",
   "mimetype": "text/x-python",
   "name": "python",
   "nbconvert_exporter": "python",
   "pygments_lexer": "ipython3",
   "version": "3.9.2"
  }
 },
 "nbformat": 4,
 "nbformat_minor": 5
}
