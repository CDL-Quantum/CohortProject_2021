{
 "cells": [
  {
   "cell_type": "markdown",
   "id": "163f2040",
   "metadata": {},
   "source": [
    "## Task 2"
   ]
  },
  {
   "cell_type": "code",
   "execution_count": null,
   "id": "53f6f188",
   "metadata": {},
   "outputs": [],
   "source": []
  },
  {
   "cell_type": "code",
   "execution_count": 1,
   "id": "3ae7c325",
   "metadata": {},
   "outputs": [
    {
     "data": {
      "text/plain": [
       "runcirc_multiple (generic function with 1 method)"
      ]
     },
     "execution_count": 1,
     "metadata": {},
     "output_type": "execute_result"
    }
   ],
   "source": [
    "include(\"task_functions.jl\")"
   ]
  },
  {
   "cell_type": "code",
   "execution_count": null,
   "id": "02357b38",
   "metadata": {},
   "outputs": [],
   "source": [
    "runcirc_multiple()"
   ]
  }
 ],
 "metadata": {
  "kernelspec": {
   "display_name": "Julia 1.6.1",
   "language": "julia",
   "name": "julia-1.6"
  },
  "language_info": {
   "file_extension": ".jl",
   "mimetype": "application/julia",
   "name": "julia",
   "version": "1.6.1"
  }
 },
 "nbformat": 4,
 "nbformat_minor": 5
}
