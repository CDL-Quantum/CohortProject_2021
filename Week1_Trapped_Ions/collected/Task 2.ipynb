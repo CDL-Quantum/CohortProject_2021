{
 "cells": [
  {
   "cell_type": "markdown",
   "id": "163f2040",
   "metadata": {},
   "source": [
    "## Task 2"
   ]
  },
  {
   "cell_type": "markdown",
   "id": "ec8d96bd",
   "metadata": {},
   "source": [
    "In the task two we are going to implement a random bit flip error. In our code for __run__ function we can see that we have already added a randomly selected bit flip functionality."
   ]
  },
  {
   "cell_type": "markdown",
   "id": "a5941c7c",
   "metadata": {},
   "source": [
    "We are going to import a small library that we wrote for this project."
   ]
  },
  {
   "cell_type": "code",
   "execution_count": 1,
   "id": "3ae7c325",
   "metadata": {},
   "outputs": [
    {
     "data": {
      "text/plain": [
       "runcirc_multiple (generic function with 1 method)"
      ]
     },
     "execution_count": 1,
     "metadata": {},
     "output_type": "execute_result"
    }
   ],
   "source": [
    "include(\"task_functions.jl\")"
   ]
  },
  {
   "cell_type": "markdown",
   "id": "055448d0",
   "metadata": {},
   "source": [
    "For this task we created a function that adds an additional outer loop to run the curcuit multiple times."
   ]
  },
  {
   "cell_type": "code",
   "execution_count": 2,
   "id": "6820e9e4",
   "metadata": {},
   "outputs": [
    {
     "data": {
      "text/plain": [
       "run (generic function with 1 method)"
      ]
     },
     "execution_count": 2,
     "metadata": {},
     "output_type": "execute_result"
    }
   ],
   "source": [
    "function run(N, depth, flipon)\n",
    "    # Random circuit.\n",
    "    gates = Vector{Tuple}[]\n",
    "    if flipon == true\n",
    "        td = rand(1 : depth)\n",
    "        tN = rand(1 : N)\n",
    "    end\n",
    "    for i in 1:depth\n",
    "        one_qubit_layer = Tuple[]\n",
    "        two_qubit_layer = Tuple[]\n",
    "\n",
    "        for j in 1:N\n",
    "            gate = (\"R\", j, (theta = 2pi * rand(), phi = 2pi * rand()))\n",
    "            push!(one_qubit_layer, gate)\n",
    "            if flipon == true\n",
    "                if j == tN && i == td\n",
    "                    push!(one_qubit_layer, (\"X\", j))\n",
    "                end\n",
    "            end\n",
    "        end\n",
    "\n",
    "        # Alternate start qubit for pairs.\n",
    "        idx_first = i % 2 + 1\n",
    "\n",
    "        for j in idx_first:2:(N-1)\n",
    "            gate = (\"M\", (j, j+1), (Theta=2pi*rand(),))\n",
    "            push!(two_qubit_layer, gate)\n",
    "        end\n",
    "\n",
    "        push!(gates, one_qubit_layer)\n",
    "        push!(gates, two_qubit_layer)\n",
    "\n",
    "    end\n",
    "    psi = runcircuit(N, gates)\n",
    "end"
   ]
  },
  {
   "cell_type": "markdown",
   "id": "070444a0",
   "metadata": {},
   "source": [
    "We added a function that runs the same circuit multiple times and pushes the result to a vector."
   ]
  },
  {
   "cell_type": "code",
   "execution_count": 3,
   "id": "02357b38",
   "metadata": {},
   "outputs": [
    {
     "data": {
      "text/plain": [
       "runcirc_multiple (generic function with 1 method)"
      ]
     },
     "execution_count": 3,
     "metadata": {},
     "output_type": "execute_result"
    }
   ],
   "source": [
    "function runcirc_multiple(M, N, depth, flipon)\n",
    "    results = Any[]\n",
    "    for i = 1 : M\n",
    "        psi = run(N, depth, flipon)\n",
    "        push!(results, get_Probs(psi, N))\n",
    "    end\n",
    "    return results\n",
    "end"
   ]
  },
  {
   "cell_type": "markdown",
   "id": "f03bfb8f",
   "metadata": {},
   "source": [
    "Let's choose an arbitrary number of qubits and layers and run it for 5 times to get our answers for Task 2:"
   ]
  },
  {
   "cell_type": "code",
   "execution_count": null,
   "id": "a5a1d5ca",
   "metadata": {},
   "outputs": [],
   "source": [
    "runcirc_multiple(5,3,6,true)"
   ]
  }
 ],
 "metadata": {
  "kernelspec": {
   "display_name": "Julia 1.6.1",
   "language": "julia",
   "name": "julia-1.6"
  },
  "language_info": {
   "file_extension": ".jl",
   "mimetype": "application/julia",
   "name": "julia",
   "version": "1.6.1"
  }
 },
 "nbformat": 4,
 "nbformat_minor": 5
}
