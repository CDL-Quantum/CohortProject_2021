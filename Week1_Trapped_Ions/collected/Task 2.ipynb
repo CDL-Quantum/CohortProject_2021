{
 "cells": [
  {
   "cell_type": "markdown",
   "id": "163f2040",
   "metadata": {},
   "source": [
    "## Task 2"
   ]
  },
  {
   "cell_type": "markdown",
   "id": "90619cf5",
   "metadata": {},
   "source": [
    "In the task two we are going to implement a random bit flip error. In our code for __run__ function we can see that we have already added a randomly selected bit flip functionality."
   ]
  },
  {
   "cell_type": "markdown",
   "id": "d96f59b7",
   "metadata": {},
   "source": [
    "We are going to import a small library that we wrote for this project."
   ]
  },
  {
   "cell_type": "code",
   "execution_count": 1,
   "id": "3ae7c325",
   "metadata": {},
   "outputs": [
    {
     "data": {
      "text/plain": [
       "runcirc_multiple (generic function with 1 method)"
      ]
     },
     "execution_count": 1,
     "metadata": {},
     "output_type": "execute_result"
    }
   ],
   "source": [
    "include(\"task_functions.jl\")"
   ]
  },
  {
   "cell_type": "markdown",
   "id": "6d314e47",
   "metadata": {},
   "source": [
    "For this task we created a function that adds an additional outer loop to run the curcuit multiple times."
   ]
  },
  {
   "cell_type": "code",
   "execution_count": 2,
   "id": "a65206c7",
   "metadata": {},
   "outputs": [
    {
     "data": {
      "text/plain": [
       "run (generic function with 1 method)"
      ]
     },
     "execution_count": 2,
     "metadata": {},
     "output_type": "execute_result"
    }
   ],
   "source": [
    "function run(N, depth, flipon)\n",
    "    # Random circuit.\n",
    "    gates = Vector{Tuple}[]\n",
    "    if flipon == true\n",
    "        td = rand(1 : depth)\n",
    "        tN = rand(1 : N)\n",
    "    end\n",
    "    for i in 1:depth\n",
    "        one_qubit_layer = Tuple[]\n",
    "        two_qubit_layer = Tuple[]\n",
    "\n",
    "        for j in 1:N\n",
    "            gate = (\"R\", j, (theta = 2pi * rand(), phi = 2pi * rand()))\n",
    "            push!(one_qubit_layer, gate)\n",
    "            if flipon == true\n",
    "                if j == tN && i == td\n",
    "                    push!(one_qubit_layer, (\"X\", j))\n",
    "                end\n",
    "            end\n",
    "        end\n",
    "\n",
    "        # Alternate start qubit for pairs.\n",
    "        idx_first = i % 2 + 1\n",
    "\n",
    "        for j in idx_first:2:(N-1)\n",
    "            gate = (\"M\", (j, j+1), (Theta=2pi*rand(),))\n",
    "            push!(two_qubit_layer, gate)\n",
    "        end\n",
    "\n",
    "        push!(gates, one_qubit_layer)\n",
    "        push!(gates, two_qubit_layer)\n",
    "\n",
    "    end\n",
    "    psi = runcircuit(N, gates)\n",
    "end"
   ]
  },
  {
   "cell_type": "markdown",
   "id": "f37fa97e",
   "metadata": {},
   "source": [
    "We added a function that runs the same circuit multiple times and pushes the result to a vector."
   ]
  },
  {
   "cell_type": "code",
   "execution_count": 3,
   "id": "02357b38",
   "metadata": {},
   "outputs": [
    {
     "data": {
      "text/plain": [
       "runcirc_multiple (generic function with 1 method)"
      ]
     },
     "execution_count": 3,
     "metadata": {},
     "output_type": "execute_result"
    }
   ],
   "source": [
    "function runcirc_multiple(M, N, depth, flipon)\n",
    "    results = Any[]\n",
    "    for i = 1 : M\n",
    "        psi = run(N, depth, flipon)\n",
    "        push!(results, get_Probs(psi, N))\n",
    "    end\n",
    "    return results\n",
    "end"
   ]
  },
  {
   "cell_type": "markdown",
   "id": "b928884d",
   "metadata": {},
   "source": [
    "Let's choose an arbitrary number of qubits and layers and run it for 5 times to get our answers for Task 2:"
   ]
  },
  {
   "cell_type": "code",
   "execution_count": 4,
   "id": "022e54eb",
   "metadata": {},
   "outputs": [
    {
     "data": {
      "text/plain": [
       "5-element Vector{Any}:\n",
       " [0.010598626853971897, 0.027209294582053928, 0.07029360544290239, 0.15570845089931856, 0.3520072274180551, 0.008108674367827733, 0.05316802882312929, 0.32290609161274175]\n",
       " [0.024528575664310198, 0.022801429587155392, 0.06457701348963807, 0.04539382303536538, 0.2577193717630059, 0.08426277497827452, 0.2444072682028846, 0.256309743279368]\n",
       " [0.022731105457497715, 0.06880196647468931, 0.131168498188392, 0.11201847794158326, 0.25697852933441606, 0.03512532094811815, 0.26870205392274327, 0.10447404773255745]\n",
       " [0.11133662007676338, 0.1642675466146773, 0.06689840669817769, 0.10160284340064542, 0.23391819112905637, 0.2029485834256968, 0.09178502515864723, 0.027242783496335254]\n",
       " [0.28423041017885947, 0.09681036577522867, 0.030835170823742316, 0.017819577453944437, 0.3904095522701213, 0.157328966792933, 0.0149952888903051, 0.007570667814866771]"
      ]
     },
     "execution_count": 4,
     "metadata": {},
     "output_type": "execute_result"
    }
   ],
   "source": [
    "runcirc_multiple(5,3,6,true)"
   ]
  }
 ],
 "metadata": {
  "kernelspec": {
   "display_name": "Julia 1.6.1",
   "language": "julia",
   "name": "julia-1.6"
  },
  "language_info": {
   "file_extension": ".jl",
   "mimetype": "application/julia",
   "name": "julia",
   "version": "1.6.1"
  }
 },
 "nbformat": 4,
 "nbformat_minor": 5
}
