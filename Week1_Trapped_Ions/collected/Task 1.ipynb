{
 "cells": [
  {
   "cell_type": "markdown",
   "id": "fd1d7a07",
   "metadata": {},
   "source": [
    "## Task 1"
   ]
  },
  {
   "cell_type": "markdown",
   "id": "d1d42805",
   "metadata": {},
   "source": [
    "In this task we needed to make an extension of the existing ```run_random_circuit.jl``` to support the extraction of the〈$x$|$\\psi$〉for each bitstring *x* from the Matrix Product State. Squared magnitude is given as $P(x) =|〈x|\\psi〉|^2$ and we need to create a plot that maps the probability of each $x$ using a dot whose area is proportional to $P(x)$, for several circuit widths and depths."
   ]
  },
  {
   "cell_type": "markdown",
   "id": "e736fdb0",
   "metadata": {},
   "source": [
    "We are going to import a small library we made for this project."
   ]
  },
  {
   "cell_type": "code",
   "execution_count": 1,
   "id": "25a94602",
   "metadata": {},
   "outputs": [
    {
     "data": {
      "text/plain": [
       "runcirc_multiple (generic function with 1 method)"
      ]
     },
     "execution_count": 1,
     "metadata": {},
     "output_type": "execute_result"
    }
   ],
   "source": [
    "include(\"task_functions.jl\")"
   ]
  },
  {
   "cell_type": "markdown",
   "id": "4ee2435b",
   "metadata": {},
   "source": [
    "We present the modified ```run_random_circuit``` function. We added a new parameter:```flipon```, it flags the occurance of a bit flip."
   ]
  },
  {
   "cell_type": "code",
   "execution_count": null,
   "id": "c2b2fbb7",
   "metadata": {},
   "outputs": [],
   "source": [
    "function run(N, depth, flipon)\n",
    "    # Random circuit.\n",
    "    gates = Vector{Tuple}[]\n",
    "    if flipon == true\n",
    "        td=rand(1:depth)\n",
    "        tN=rand(1:N)\n",
    "    end\n",
    "    for i in 1:depth\n",
    "        one_qubit_layer = Tuple[]\n",
    "        two_qubit_layer = Tuple[]\n",
    "\n",
    "        for j in 1:N\n",
    "            gate = (\"R\", j, (theta=2pi*rand(), phi=2pi*rand()))\n",
    "            push!(one_qubit_layer, gate)\n",
    "            if flipon == true\n",
    "                if j==tN && i==td\n",
    "                    push!(one_qubit_layer, (\"X\", j))\n",
    "                end\n",
    "            end\n",
    "        end\n",
    "\n",
    "        # Alternate start qubit for pairs.\n",
    "        idx_first = i % 2 + 1\n",
    "\n",
    "        for j in idx_first:2:(N-1)\n",
    "            gate = (\"M\", (j, j+1), (Theta=2pi*rand(),))\n",
    "            push!(two_qubit_layer, gate)\n",
    "        end\n",
    "\n",
    "        push!(gates, one_qubit_layer)\n",
    "        push!(gates, two_qubit_layer)\n",
    "\n",
    "    end\n",
    "    psi = runcircuit(N, gates)\n",
    "end"
   ]
  },
  {
   "cell_type": "markdown",
   "id": "40dd6b7c",
   "metadata": {},
   "source": [
    "We can now make a plot to see how our function performs under a condition of ```4``` qubits and ```4``` depth."
   ]
  },
  {
   "cell_type": "code",
   "execution_count": null,
   "id": "a125f9e4",
   "metadata": {},
   "outputs": [],
   "source": [
    "qubits   = [1,2,3]\n",
    "depths   = [1,2,3]\n",
    "bit_flip = false #bit flip flag on or off\n",
    "pbs = Any[]\n",
    "for qubit_n in qubits\n",
    "    for depth_n in depths \n",
    "        psi   = run(qubit_n, depth_n, bit_flip)\n",
    "        pb    = get_Probs(psi, qubit_n)\n",
    "        push!(pbs, pb)\n",
    "        end\n",
    "    end\n",
    "\n",
    "for pb in pbs\n",
    "    speckle = zeros(0)\n",
    "    for i = 1:length(pb)\n",
    "        append!(speckle,2.0)\n",
    "        end\n",
    "    scatter!(speckle, ms = 50*pb, ylims=[1.5,3.5], legend=true, ticks=nothing)\n",
    "    end\n",
    "\n",
    "scatter!()"
   ]
  },
  {
   "cell_type": "code",
   "execution_count": null,
   "id": "dc47ac3e",
   "metadata": {},
   "outputs": [],
   "source": []
  }
 ],
 "metadata": {
  "kernelspec": {
   "display_name": "Julia 1.6.1",
   "language": "julia",
   "name": "julia-1.6"
  },
  "language_info": {
   "file_extension": ".jl",
   "mimetype": "application/julia",
   "name": "julia",
   "version": "1.6.1"
  }
 },
 "nbformat": 4,
 "nbformat_minor": 5
}
