{
 "cells": [
  {
   "cell_type": "code",
   "execution_count": 15,
   "metadata": {},
   "outputs": [],
   "source": [
    "using PastaQ\n",
    "using ITensors\n",
    "using PyPlot"
   ]
  },
  {
   "cell_type": "code",
   "execution_count": 3,
   "metadata": {},
   "outputs": [
    {
     "data": {
      "text/plain": [
       "run (generic function with 1 method)"
      ]
     },
     "execution_count": 3,
     "metadata": {},
     "output_type": "execute_result"
    }
   ],
   "source": [
    "include(\"run_random_circuit.jl\")"
   ]
  },
  {
   "cell_type": "code",
   "execution_count": 19,
   "metadata": {},
   "outputs": [
    {
     "data": {
      "text/plain": [
       "execute (generic function with 2 methods)"
      ]
     },
     "execution_count": 19,
     "metadata": {},
     "output_type": "execute_result"
    }
   ],
   "source": [
    "include(\"z_measurement.jl\")"
   ]
  },
  {
   "cell_type": "code",
   "execution_count": 20,
   "metadata": {},
   "outputs": [
    {
     "data": {
      "text/plain": [
       "OrderedCollections.OrderedDict{Int64, Float64} with 16 entries:\n",
       "  0  => 0.00195312\n",
       "  1  => 0.124023\n",
       "  2  => 0.0712891\n",
       "  3  => 0.0888672\n",
       "  4  => 0.0273438\n",
       "  5  => 0.169922\n",
       "  6  => 0.0527344\n",
       "  7  => 0.00976562\n",
       "  8  => 0.0146484\n",
       "  9  => 0.0556641\n",
       "  10 => 0.0283203\n",
       "  11 => 0.0283203\n",
       "  12 => 0.0585938\n",
       "  13 => 0.0136719\n",
       "  14 => 0.234375\n",
       "  15 => 0.0205078"
      ]
     },
     "execution_count": 20,
     "metadata": {},
     "output_type": "execute_result"
    }
   ],
   "source": [
    "N = 4 # The number of Qubit\n",
    "D = 10 # Depth of Circuit\n",
    "shots = 1024 # The number of shot\n",
    "\n",
    "ϕ = run(N,D) # Get state\n",
    "qc_result = execute(ϕ,N,shots,\"Z\") # Get decimal representation of shot result(Vector)\n",
    "Prob = get_probabilities(N,qc_result) # Get probabilities from Count"
   ]
  },
  {
   "cell_type": "code",
   "execution_count": 23,
   "metadata": {},
   "outputs": [
    {
     "data": {
      "image/png": "[encoded data removed]",
      "text/plain": [
       "Figure(PyObject <Figure size 640x480 with 1 Axes>)"
      ]
     },
     "metadata": {},
     "output_type": "display_data"
    },
    {
     "data": {
      "text/plain": [
       "(-0.75, 15.75, -0.05500000000000001, 0.05500000000000001)"
      ]
     },
     "execution_count": 23,
     "metadata": {},
     "output_type": "execute_result"
    }
   ],
   "source": [
    "for i in 0:2^N-1\n",
    "    scatter(i,0,color=\"red\",linewidth=50.0*Prob[i])\n",
    "end\n",
    "axis(\"off\")"
   ]
  },
  {
   "cell_type": "code",
   "execution_count": null,
   "metadata": {},
   "outputs": [],
   "source": []
  }
 ],
 "metadata": {
  "kernelspec": {
   "display_name": "Julia 1.6.1",
   "language": "julia",
   "name": "julia-1.6"
  },
  "language_info": {
   "file_extension": ".jl",
   "mimetype": "application/julia",
   "name": "julia",
   "version": "1.6.1"
  }
 },
 "nbformat": 4,
 "nbformat_minor": 4
}
