{
 "cells": [
  {
   "cell_type": "markdown",
   "id": "6ddaeb5e",
   "metadata": {},
   "source": [
    "# Intoduction"
   ]
  },
  {
   "cell_type": "code",
   "execution_count": 136,
   "id": "b5f45884",
   "metadata": {},
   "outputs": [],
   "source": [
    "# import baisic python\n",
    "import numpy as np\n",
    "from IPython.display import Latex as lt\n",
    "import random\n",
    "\n",
    "import math\n",
    "from math import pi\n",
    "\n",
    "#import Qiskit\n",
    "import qiskit\n",
    "from qiskit import QuantumCircuit, ClassicalRegister, QuantumRegister\n",
    "from qiskit import execute, BasicAer\n",
    "from qiskit.compiler import transpile\n",
    "from qiskit.quantum_info.operators import Operator, Pauli\n",
    "from qiskit.quantum_info import process_fidelity\n",
    "\n",
    "from qiskit.extensions import RXGate, XGate, CXGate\n",
    "\n",
    "# import the visulization\n",
    "from qiskit.visualization import plot_histogram\n",
    "import matplotlib.pyplot as plt\n",
    "%matplotlib inline"
   ]
  },
  {
   "cell_type": "code",
   "execution_count": 204,
   "id": "96fe63eb",
   "metadata": {},
   "outputs": [],
   "source": [
    "# set backend\n",
    "backend = BasicAer.get_backend('qasm_simulator')\n",
    "nshot = 30000"
   ]
  },
  {
   "cell_type": "markdown",
   "id": "ffef64d2",
   "metadata": {},
   "source": [
    "## Creating \"function PastaQ.gate\"\n",
    "Single Matrix \n",
    "\n",
    "\\begin{bmatrix}\n",
    "\\cos{\\theta/2} & (-i \\exp^{-i \\phi} \\sin(\\theta/2))\\\\\n",
    " (-i \\exp^{i \\phi} \\sin(\\theta/2)) & \\cos(\\theta/2)\n",
    "\\end{bmatrix}\n",
    "\n",
    "Double Matrix\n",
    "\n",
    "\\begin{bmatrix}\n",
    "        \\cos(\\Theta) &   0 &   0 &   -i \\sin(\\Theta)\\\\\n",
    "        0    &\\cos(\\Theta)   & -i \\sin(\\Theta)    &0\\\\\n",
    "        0    &-i \\sin(\\Theta)  &  \\cos(\\Theta)    &0\\\\\n",
    "        -i \\sin(\\Theta) &   0  &  0   & \\cos(\\Theta)\\\\\n",
    "\\end{bmatrix}"
   ]
  },
  {
   "cell_type": "code",
   "execution_count": 5,
   "id": "3a7aac89",
   "metadata": {},
   "outputs": [],
   "source": [
    "def gateSingle(theta, phi):\n",
    "    j = complex(0, 1)\n",
    "    return Operator(np.matrix([[np.cos(theta/2), (-j*np.exp(-j*phi)*np.sin(theta/2))], [(-j*np.exp(j*phi)*np.sin(theta/2)), np.cos(theta/2)]]))\n",
    "\n",
    "\n",
    "def gateDouble(Theta):\n",
    "    j = complex(0, 1)\n",
    "    return Operator(np.matrix([[np.cos(Theta), 0, 0, (-j * np.sin(Theta))], [0, np.cos(Theta), (-j * np.sin(Theta)), 0], [0, (-j * np.sin(Theta)), np.cos(Theta), 0], [(-j * np.sin(Theta)), 0, 0, np.cos(Theta)]]))"
   ]
  },
  {
   "cell_type": "code",
   "execution_count": 6,
   "id": "59b97400",
   "metadata": {},
   "outputs": [
    {
     "data": {
      "text/plain": [
       "Operator([[-0.93685862+0.j        ,  0.        +0.j        ,\n",
       "            0.        +0.j        ,  0.        -0.34970835j],\n",
       "          [ 0.        +0.j        , -0.93685862+0.j        ,\n",
       "            0.        -0.34970835j,  0.        +0.j        ],\n",
       "          [ 0.        +0.j        ,  0.        -0.34970835j,\n",
       "           -0.93685862+0.j        ,  0.        +0.j        ],\n",
       "          [ 0.        -0.34970835j,  0.        +0.j        ,\n",
       "            0.        +0.j        , -0.93685862+0.j        ]],\n",
       "         input_dims=(2, 2), output_dims=(2, 2))"
      ]
     },
     "execution_count": 6,
     "metadata": {},
     "output_type": "execute_result"
    }
   ],
   "source": [
    "# Example Testing\n",
    "r1 = pi*random.random()\n",
    "gateSingle(r1, r1)\n",
    "gateDouble(r1)"
   ]
  },
  {
   "cell_type": "code",
   "execution_count": 7,
   "id": "6acb7bfe",
   "metadata": {},
   "outputs": [],
   "source": [
    "def run(N, depth):\n",
    "    # N is number of Qubit\n",
    "    # depth is the iteration of single and double Qubit\n",
    "\n",
    "    # Create base circuits\n",
    "    qr = QuantumRegister(N, 'q')\n",
    "    cr = ClassicalRegister(N, 'c')\n",
    "    circ = QuantumCircuit(qr, cr)\n",
    "\n",
    "    for i in range(depth):\n",
    "        # Apply single-qubit random rotation for all the qubit\n",
    "        for j in range(N):\n",
    "            circ.append(gateSingle(2*pi*random.random(),\n",
    "                        2*pi*random.random()), [j])\n",
    "\n",
    "        # Julia started with index 1, so I need to change it by i+1, then I change back on Range\n",
    "        idx_first = (i+1) % 2 + 1\n",
    "\n",
    "        for j in range(idx_first-1, N-1, 2):\n",
    "            circ.append(gateDouble(2*pi*random.random()), [j, j+1])\n",
    "        circ.barrier(qr)\n",
    "\n",
    "    circ.measure(qr, cr)\n",
    "    return circ"
   ]
  },
  {
   "cell_type": "code",
   "execution_count": 5,
   "id": "2daf3cdb",
   "metadata": {},
   "outputs": [
    {
     "name": "stdout",
     "output_type": "stream",
     "text": [
      "     ┌─────────┐             ░ ┌─────────┐┌──────────┐ ░ ┌─┐         \n",
      "q_0: ┤ unitary ├─────────────░─┤ unitary ├┤0         ├─░─┤M├─────────\n",
      "     ├─────────┤┌──────────┐ ░ ├─────────┤│  unitary │ ░ └╥┘┌─┐      \n",
      "q_1: ┤ unitary ├┤0         ├─░─┤ unitary ├┤1         ├─░──╫─┤M├──────\n",
      "     ├─────────┤│  unitary │ ░ ├─────────┤├──────────┤ ░  ║ └╥┘┌─┐   \n",
      "q_2: ┤ unitary ├┤1         ├─░─┤ unitary ├┤0         ├─░──╫──╫─┤M├───\n",
      "     ├─────────┤└──────────┘ ░ ├─────────┤│  unitary │ ░  ║  ║ └╥┘┌─┐\n",
      "q_3: ┤ unitary ├─────────────░─┤ unitary ├┤1         ├─░──╫──╫──╫─┤M├\n",
      "     └─────────┘             ░ └─────────┘└──────────┘ ░  ║  ║  ║ └╥┘\n",
      "c: 4/═════════════════════════════════════════════════════╩══╩══╩══╩═\n",
      "                                                          0  1  2  3 \n"
     ]
    }
   ],
   "source": [
    "qc = run(4, 2)\n",
    "print(qc)"
   ]
  },
  {
   "cell_type": "markdown",
   "id": "c908bd2c",
   "metadata": {},
   "source": [
    "# Task 1"
   ]
  },
  {
   "cell_type": "markdown",
   "id": "4dd68f85",
   "metadata": {},
   "source": [
    "## Speckle Patterns"
   ]
  },
  {
   "cell_type": "code",
   "execution_count": 28,
   "id": "a409bc46",
   "metadata": {},
   "outputs": [
    {
     "data": {
      "image/png": "[encoded data removed]",
      "text/plain": [
       "<Figure size 504x360 with 1 Axes>"
      ]
     },
     "execution_count": 28,
     "metadata": {},
     "output_type": "execute_result"
    }
   ],
   "source": [
    "random.seed(1)\n",
    "qc = run(4, 2)\n",
    "result = execute(qc, backend, shots=1000).result()\n",
    "counts = result.get_counts(qc)\n",
    "plot_histogram(counts)"
   ]
  },
  {
   "cell_type": "code",
   "execution_count": 29,
   "id": "27f1de2b",
   "metadata": {},
   "outputs": [
    {
     "data": {
      "image/png": "[encoded data removed]",
      "text/plain": [
       "<Figure size 432x288 with 1 Axes>"
      ]
     },
     "metadata": {
      "needs_background": "light"
     },
     "output_type": "display_data"
    }
   ],
   "source": [
    "# sort the coefficients [0000,0001,0010,....1111]\n",
    "sortCoeff = list(dict(sorted(counts.items())).values())\n",
    "\n",
    "# Create Figure and plots\n",
    "fig = plt.figure()\n",
    "ax = fig.add_subplot(111)\n",
    "for i in range(2**4):\n",
    "    ax.scatter(i, 1, s=sortCoeff[i], c='r')\n",
    "ax.set_aspect(10)\n",
    "ax.axis(\"off\")"
   ]
  },
  {
   "cell_type": "markdown",
   "id": "bd26994d",
   "metadata": {},
   "source": [
    "## Visualization : Depths and widths"
   ]
  },
  {
   "cell_type": "code",
   "execution_count": 207,
   "id": "a13a9ebe",
   "metadata": {},
   "outputs": [],
   "source": [
    "def getplot(N, depth):\n",
    "    qc = run(N, depth)\n",
    "    result = execute(qc, backend, shots=nshot).result()\n",
    "    counts = result.get_counts(qc)\n",
    "    sortCoeff = list(dict(sorted(counts.items())).values())\n",
    "    fig = plt.figure()\n",
    "    ax = fig.add_subplot(111)\n",
    "    for i in range(2**N):\n",
    "        ax.scatter(i, 1, s=200*sortCoeff[i]/nshot, c='r')\n",
    "    ax.set_aspect(10)\n",
    "    ax.set_title(\"Speckle Patterns\")\n",
    "    ax.axis(\"off\")"
   ]
  },
  {
   "cell_type": "code",
   "execution_count": 208,
   "id": "8a478c3f",
   "metadata": {},
   "outputs": [
    {
     "data": {
      "image/png": "[encoded data removed]",
      "text/plain": [
       "<Figure size 432x288 with 1 Axes>"
      ]
     },
     "metadata": {
      "needs_background": "light"
     },
     "output_type": "display_data"
    },
    {
     "data": {
      "image/png": "[encoded data removed]",
      "text/plain": [
       "<Figure size 432x288 with 1 Axes>"
      ]
     },
     "metadata": {
      "needs_background": "light"
     },
     "output_type": "display_data"
    },
    {
     "data": {
      "image/png": "[encoded data removed]",
      "text/plain": [
       "<Figure size 432x288 with 1 Axes>"
      ]
     },
     "metadata": {
      "needs_background": "light"
     },
     "output_type": "display_data"
    },
    {
     "data": {
      "image/png": "[encoded data removed]",
      "text/plain": [
       "<Figure size 432x288 with 1 Axes>"
      ]
     },
     "metadata": {
      "needs_background": "light"
     },
     "output_type": "display_data"
    }
   ],
   "source": [
    "random.seed(1)\n",
    "getplot(3, 2)\n",
    "getplot(3, 3)\n",
    "getplot(3, 4)\n",
    "getplot(3, 5)"
   ]
  },
  {
   "cell_type": "code",
   "execution_count": 209,
   "id": "462261d0",
   "metadata": {
    "scrolled": true
   },
   "outputs": [
    {
     "data": {
      "image/png": "[encoded data removed]",
      "text/plain": [
       "<Figure size 432x288 with 1 Axes>"
      ]
     },
     "metadata": {
      "needs_background": "light"
     },
     "output_type": "display_data"
    },
    {
     "data": {
      "image/png": "[encoded data removed]",
      "text/plain": [
       "<Figure size 432x288 with 1 Axes>"
      ]
     },
     "metadata": {
      "needs_background": "light"
     },
     "output_type": "display_data"
    },
    {
     "data": {
      "image/png": "[encoded data removed]",
      "text/plain": [
       "<Figure size 432x288 with 1 Axes>"
      ]
     },
     "metadata": {
      "needs_background": "light"
     },
     "output_type": "display_data"
    },
    {
     "data": {
      "image/png": "[encoded data removed]",
      "text/plain": [
       "<Figure size 432x288 with 1 Axes>"
      ]
     },
     "metadata": {
      "needs_background": "light"
     },
     "output_type": "display_data"
    }
   ],
   "source": [
    "random.seed(1)\n",
    "getplot(4, 1)\n",
    "getplot(4, 2)\n",
    "getplot(4, 3)\n",
    "getplot(4, 4)"
   ]
  },
  {
   "cell_type": "code",
   "execution_count": 210,
   "id": "94a7f5d2",
   "metadata": {},
   "outputs": [
    {
     "data": {
      "image/png": "[encoded data removed]",
      "text/plain": [
       "<Figure size 432x288 with 1 Axes>"
      ]
     },
     "metadata": {
      "needs_background": "light"
     },
     "output_type": "display_data"
    },
    {
     "data": {
      "image/png": "[encoded data removed]",
      "text/plain": [
       "<Figure size 432x288 with 1 Axes>"
      ]
     },
     "metadata": {
      "needs_background": "light"
     },
     "output_type": "display_data"
    },
    {
     "data": {
      "image/png": "[encoded data removed]",
      "text/plain": [
       "<Figure size 432x288 with 1 Axes>"
      ]
     },
     "metadata": {
      "needs_background": "light"
     },
     "output_type": "display_data"
    },
    {
     "data": {
      "image/png": "[encoded data removed]",
      "text/plain": [
       "<Figure size 432x288 with 1 Axes>"
      ]
     },
     "metadata": {
      "needs_background": "light"
     },
     "output_type": "display_data"
    }
   ],
   "source": [
    "random.seed(1)\n",
    "getplot(5, 1)\n",
    "getplot(5, 2)\n",
    "getplot(5, 3)\n",
    "getplot(5, 4)"
   ]
  },
  {
   "cell_type": "markdown",
   "id": "2a988c03",
   "metadata": {},
   "source": [
    "# Task 2"
   ]
  },
  {
   "cell_type": "markdown",
   "id": "05186910",
   "metadata": {},
   "source": [
    "Bit-flip Error\n",
    "\\begin{align}\n",
    "\\sigma = \n",
    "\\begin{bmatrix}\n",
    "0 & 1\\\\\n",
    " 1 & 0\n",
    "\\end{bmatrix}\n",
    "\\end{align}"
   ]
  },
  {
   "cell_type": "code",
   "execution_count": 198,
   "id": "1baa8060",
   "metadata": {},
   "outputs": [],
   "source": [
    "def bitflip():\n",
    "    return Operator(np.matrix([[0, 1], [1, 0]]))"
   ]
  },
  {
   "cell_type": "markdown",
   "id": "e02ae841",
   "metadata": {},
   "source": [
    "## Analysis: Total Possible Error Location"
   ]
  },
  {
   "cell_type": "markdown",
   "id": "11f8aa7c",
   "metadata": {},
   "source": [
    "### Odd Case N"
   ]
  },
  {
   "cell_type": "markdown",
   "id": "8dae7e32",
   "metadata": {},
   "source": [
    "For odd case, we can see there are \n",
    "\n",
    "$N * depth + (N-1)*depth$\n",
    "\n",
    "possible location for the bit-flip error\n"
   ]
  },
  {
   "cell_type": "code",
   "execution_count": 199,
   "id": "0249d76c",
   "metadata": {},
   "outputs": [
    {
     "name": "stdout",
     "output_type": "stream",
     "text": [
      "     ┌─────────┐ ░ ┌─────────┐ ░ ┌─────────┐ ░ ┌─────────┐ ░ ┌─┐\n",
      "q_0: ┤ unitary ├─░─┤ unitary ├─░─┤ unitary ├─░─┤ unitary ├─░─┤M├\n",
      "     └─────────┘ ░ └─────────┘ ░ └─────────┘ ░ └─────────┘ ░ └╥┘\n",
      "c: 1/═════════════════════════════════════════════════════════╩═\n",
      "                                                              0 \n"
     ]
    }
   ],
   "source": [
    "print(run(1, 4))"
   ]
  },
  {
   "cell_type": "code",
   "execution_count": 200,
   "id": "696cf2ae",
   "metadata": {},
   "outputs": [
    {
     "name": "stdout",
     "output_type": "stream",
     "text": [
      "     ┌─────────┐             ░ ┌─────────┐┌──────────┐ ░ ┌─────────┐»\n",
      "q_0: ┤ unitary ├─────────────░─┤ unitary ├┤0         ├─░─┤ unitary ├»\n",
      "     ├─────────┤┌──────────┐ ░ ├─────────┤│  unitary │ ░ ├─────────┤»\n",
      "q_1: ┤ unitary ├┤0         ├─░─┤ unitary ├┤1         ├─░─┤ unitary ├»\n",
      "     ├─────────┤│  unitary │ ░ ├─────────┤└──────────┘ ░ ├─────────┤»\n",
      "q_2: ┤ unitary ├┤1         ├─░─┤ unitary ├─────────────░─┤ unitary ├»\n",
      "     └─────────┘└──────────┘ ░ └─────────┘             ░ └─────────┘»\n",
      "c: 3/═══════════════════════════════════════════════════════════════»\n",
      "                                                                    »\n",
      "«                  ░ ┌─────────┐┌──────────┐ ░ ┌─┐      \n",
      "«q_0: ─────────────░─┤ unitary ├┤0         ├─░─┤M├──────\n",
      "«     ┌──────────┐ ░ ├─────────┤│  unitary │ ░ └╥┘┌─┐   \n",
      "«q_1: ┤0         ├─░─┤ unitary ├┤1         ├─░──╫─┤M├───\n",
      "«     │  unitary │ ░ ├─────────┤└──────────┘ ░  ║ └╥┘┌─┐\n",
      "«q_2: ┤1         ├─░─┤ unitary ├─────────────░──╫──╫─┤M├\n",
      "«     └──────────┘ ░ └─────────┘             ░  ║  ║ └╥┘\n",
      "«c: 3/══════════════════════════════════════════╩══╩══╩═\n",
      "«                                               0  1  2 \n"
     ]
    }
   ],
   "source": [
    "print(run(3, 4))"
   ]
  },
  {
   "cell_type": "code",
   "execution_count": 40,
   "id": "fb7bf8b6",
   "metadata": {},
   "outputs": [
    {
     "name": "stdout",
     "output_type": "stream",
     "text": [
      "     ┌─────────┐             ░ ┌─────────┐┌──────────┐ ░ ┌─────────┐»\n",
      "q_0: ┤ unitary ├─────────────░─┤ unitary ├┤0         ├─░─┤ unitary ├»\n",
      "     ├─────────┤┌──────────┐ ░ ├─────────┤│  unitary │ ░ ├─────────┤»\n",
      "q_1: ┤ unitary ├┤0         ├─░─┤ unitary ├┤1         ├─░─┤ unitary ├»\n",
      "     ├─────────┤│  unitary │ ░ ├─────────┤├──────────┤ ░ ├─────────┤»\n",
      "q_2: ┤ unitary ├┤1         ├─░─┤ unitary ├┤0         ├─░─┤ unitary ├»\n",
      "     ├─────────┤├──────────┤ ░ ├─────────┤│  unitary │ ░ ├─────────┤»\n",
      "q_3: ┤ unitary ├┤0         ├─░─┤ unitary ├┤1         ├─░─┤ unitary ├»\n",
      "     ├─────────┤│  unitary │ ░ ├─────────┤└──────────┘ ░ ├─────────┤»\n",
      "q_4: ┤ unitary ├┤1         ├─░─┤ unitary ├─────────────░─┤ unitary ├»\n",
      "     └─────────┘└──────────┘ ░ └─────────┘             ░ └─────────┘»\n",
      "c: 5/═══════════════════════════════════════════════════════════════»\n",
      "                                                                    »\n",
      "«                  ░ ┌─────────┐┌──────────┐ ░ ┌─┐            \n",
      "«q_0: ─────────────░─┤ unitary ├┤0         ├─░─┤M├────────────\n",
      "«     ┌──────────┐ ░ ├─────────┤│  unitary │ ░ └╥┘┌─┐         \n",
      "«q_1: ┤0         ├─░─┤ unitary ├┤1         ├─░──╫─┤M├─────────\n",
      "«     │  unitary │ ░ ├─────────┤├──────────┤ ░  ║ └╥┘┌─┐      \n",
      "«q_2: ┤1         ├─░─┤ unitary ├┤0         ├─░──╫──╫─┤M├──────\n",
      "«     ├──────────┤ ░ ├─────────┤│  unitary │ ░  ║  ║ └╥┘┌─┐   \n",
      "«q_3: ┤0         ├─░─┤ unitary ├┤1         ├─░──╫──╫──╫─┤M├───\n",
      "«     │  unitary │ ░ ├─────────┤└──────────┘ ░  ║  ║  ║ └╥┘┌─┐\n",
      "«q_4: ┤1         ├─░─┤ unitary ├─────────────░──╫──╫──╫──╫─┤M├\n",
      "«     └──────────┘ ░ └─────────┘             ░  ║  ║  ║  ║ └╥┘\n",
      "«c: 5/══════════════════════════════════════════╩══╩══╩══╩══╩═\n",
      "«                                               0  1  2  3  4 \n"
     ]
    }
   ],
   "source": [
    "print(run(5, 4))"
   ]
  },
  {
   "cell_type": "markdown",
   "id": "05bd47c7",
   "metadata": {},
   "source": [
    "### Even Case N"
   ]
  },
  {
   "cell_type": "markdown",
   "id": "13a41916",
   "metadata": {},
   "source": [
    "For even case, we can see there are \n",
    "\n",
    "$N * depth + (N-2)*depth+  \\sum_{i=1}^{depth} 1+(-1)^i $\n",
    "\n",
    "possible location for the bit-flip error"
   ]
  },
  {
   "cell_type": "code",
   "execution_count": 35,
   "id": "740b0c4b",
   "metadata": {},
   "outputs": [
    {
     "name": "stdout",
     "output_type": "stream",
     "text": [
      "     ┌─────────┐ ░ ┌─────────┐┌──────────┐ ░ ┌─────────┐ ░ ┌─────────┐»\n",
      "q_0: ┤ unitary ├─░─┤ unitary ├┤0         ├─░─┤ unitary ├─░─┤ unitary ├»\n",
      "     ├─────────┤ ░ ├─────────┤│  unitary │ ░ ├─────────┤ ░ ├─────────┤»\n",
      "q_1: ┤ unitary ├─░─┤ unitary ├┤1         ├─░─┤ unitary ├─░─┤ unitary ├»\n",
      "     └─────────┘ ░ └─────────┘└──────────┘ ░ └─────────┘ ░ └─────────┘»\n",
      "c: 2/═════════════════════════════════════════════════════════════════»\n",
      "                                                                      »\n",
      "«     ┌──────────┐ ░ ┌─┐   \n",
      "«q_0: ┤0         ├─░─┤M├───\n",
      "«     │  unitary │ ░ └╥┘┌─┐\n",
      "«q_1: ┤1         ├─░──╫─┤M├\n",
      "«     └──────────┘ ░  ║ └╥┘\n",
      "«c: 2/════════════════╩══╩═\n",
      "«                     0  1 \n"
     ]
    }
   ],
   "source": [
    "print(run(2, 4))"
   ]
  },
  {
   "cell_type": "code",
   "execution_count": 36,
   "id": "da72b797",
   "metadata": {},
   "outputs": [
    {
     "name": "stdout",
     "output_type": "stream",
     "text": [
      "     ┌─────────┐             ░ ┌─────────┐┌──────────┐ ░ ┌─────────┐»\n",
      "q_0: ┤ unitary ├─────────────░─┤ unitary ├┤0         ├─░─┤ unitary ├»\n",
      "     ├─────────┤┌──────────┐ ░ ├─────────┤│  unitary │ ░ ├─────────┤»\n",
      "q_1: ┤ unitary ├┤0         ├─░─┤ unitary ├┤1         ├─░─┤ unitary ├»\n",
      "     ├─────────┤│  unitary │ ░ ├─────────┤├──────────┤ ░ ├─────────┤»\n",
      "q_2: ┤ unitary ├┤1         ├─░─┤ unitary ├┤0         ├─░─┤ unitary ├»\n",
      "     ├─────────┤└──────────┘ ░ ├─────────┤│  unitary │ ░ ├─────────┤»\n",
      "q_3: ┤ unitary ├─────────────░─┤ unitary ├┤1         ├─░─┤ unitary ├»\n",
      "     └─────────┘             ░ └─────────┘└──────────┘ ░ └─────────┘»\n",
      "c: 4/═══════════════════════════════════════════════════════════════»\n",
      "                                                                    »\n",
      "«                  ░ ┌─────────┐┌──────────┐ ░ ┌─┐         \n",
      "«q_0: ─────────────░─┤ unitary ├┤0         ├─░─┤M├─────────\n",
      "«     ┌──────────┐ ░ ├─────────┤│  unitary │ ░ └╥┘┌─┐      \n",
      "«q_1: ┤0         ├─░─┤ unitary ├┤1         ├─░──╫─┤M├──────\n",
      "«     │  unitary │ ░ ├─────────┤├──────────┤ ░  ║ └╥┘┌─┐   \n",
      "«q_2: ┤1         ├─░─┤ unitary ├┤0         ├─░──╫──╫─┤M├───\n",
      "«     └──────────┘ ░ ├─────────┤│  unitary │ ░  ║  ║ └╥┘┌─┐\n",
      "«q_3: ─────────────░─┤ unitary ├┤1         ├─░──╫──╫──╫─┤M├\n",
      "«                  ░ └─────────┘└──────────┘ ░  ║  ║  ║ └╥┘\n",
      "«c: 4/══════════════════════════════════════════╩══╩══╩══╩═\n",
      "«                                               0  1  2  3 \n"
     ]
    }
   ],
   "source": [
    "print(run(4, 4))"
   ]
  },
  {
   "cell_type": "code",
   "execution_count": 37,
   "id": "aefbf7e9",
   "metadata": {},
   "outputs": [
    {
     "name": "stdout",
     "output_type": "stream",
     "text": [
      "     ┌─────────┐             ░ ┌─────────┐┌──────────┐ ░ ┌─────────┐»\n",
      "q_0: ┤ unitary ├─────────────░─┤ unitary ├┤0         ├─░─┤ unitary ├»\n",
      "     ├─────────┤┌──────────┐ ░ ├─────────┤│  unitary │ ░ ├─────────┤»\n",
      "q_1: ┤ unitary ├┤0         ├─░─┤ unitary ├┤1         ├─░─┤ unitary ├»\n",
      "     ├─────────┤│  unitary │ ░ ├─────────┤├──────────┤ ░ ├─────────┤»\n",
      "q_2: ┤ unitary ├┤1         ├─░─┤ unitary ├┤0         ├─░─┤ unitary ├»\n",
      "     ├─────────┤├──────────┤ ░ ├─────────┤│  unitary │ ░ ├─────────┤»\n",
      "q_3: ┤ unitary ├┤0         ├─░─┤ unitary ├┤1         ├─░─┤ unitary ├»\n",
      "     ├─────────┤│  unitary │ ░ ├─────────┤├──────────┤ ░ ├─────────┤»\n",
      "q_4: ┤ unitary ├┤1         ├─░─┤ unitary ├┤0         ├─░─┤ unitary ├»\n",
      "     ├─────────┤└──────────┘ ░ ├─────────┤│  unitary │ ░ ├─────────┤»\n",
      "q_5: ┤ unitary ├─────────────░─┤ unitary ├┤1         ├─░─┤ unitary ├»\n",
      "     └─────────┘             ░ └─────────┘└──────────┘ ░ └─────────┘»\n",
      "c: 6/═══════════════════════════════════════════════════════════════»\n",
      "                                                                    »\n",
      "«                  ░ ┌─────────┐┌──────────┐ ░ ┌─┐               \n",
      "«q_0: ─────────────░─┤ unitary ├┤0         ├─░─┤M├───────────────\n",
      "«     ┌──────────┐ ░ ├─────────┤│  unitary │ ░ └╥┘┌─┐            \n",
      "«q_1: ┤0         ├─░─┤ unitary ├┤1         ├─░──╫─┤M├────────────\n",
      "«     │  unitary │ ░ ├─────────┤├──────────┤ ░  ║ └╥┘┌─┐         \n",
      "«q_2: ┤1         ├─░─┤ unitary ├┤0         ├─░──╫──╫─┤M├─────────\n",
      "«     ├──────────┤ ░ ├─────────┤│  unitary │ ░  ║  ║ └╥┘┌─┐      \n",
      "«q_3: ┤0         ├─░─┤ unitary ├┤1         ├─░──╫──╫──╫─┤M├──────\n",
      "«     │  unitary │ ░ ├─────────┤├──────────┤ ░  ║  ║  ║ └╥┘┌─┐   \n",
      "«q_4: ┤1         ├─░─┤ unitary ├┤0         ├─░──╫──╫──╫──╫─┤M├───\n",
      "«     └──────────┘ ░ ├─────────┤│  unitary │ ░  ║  ║  ║  ║ └╥┘┌─┐\n",
      "«q_5: ─────────────░─┤ unitary ├┤1         ├─░──╫──╫──╫──╫──╫─┤M├\n",
      "«                  ░ └─────────┘└──────────┘ ░  ║  ║  ║  ║  ║ └╥┘\n",
      "«c: 6/══════════════════════════════════════════╩══╩══╩══╩══╩══╩═\n",
      "«                                               0  1  2  3  4  5 \n"
     ]
    }
   ],
   "source": [
    "print(run(6, 4))"
   ]
  },
  {
   "cell_type": "code",
   "execution_count": 120,
   "id": "45ee9a22",
   "metadata": {},
   "outputs": [],
   "source": [
    "# run one random circuit multiple times, but with a single bit-flip error\n",
    "# at a random location in the circuit each time\n",
    "\n",
    "def runError(N, depth):\n",
    "    # N is number of Qubit\n",
    "    # depth is the iteration of single and double Qubit\n",
    "\n",
    "    # total number of possible error location\n",
    "    if (N % 2 == 0):\n",
    "        locPred = N * depth + \\\n",
    "            (((N-2)*depth + sum([1+(-1)**(i+1) for i in range(depth)])))\n",
    "    else:\n",
    "        locPred = N * depth + (N-1)*depth\n",
    "\n",
    "    # randomly choose the location of bit-flip error\n",
    "    bitFlipLoc = random.randint(1, locPred)\n",
    "    loc = 0\n",
    "\n",
    "    # Create base circuits\n",
    "    qr = QuantumRegister(N, 'q')\n",
    "    cr = ClassicalRegister(N, 'c')\n",
    "    circ = QuantumCircuit(qr, cr)\n",
    "\n",
    "    for i in range(depth):\n",
    "        # Apply single-qubit random rotation for all the qubit\n",
    "        for j in range(N):\n",
    "            circ.append(gateSingle(2*pi*random.random(),\n",
    "                        2*pi*random.random()), [j])\n",
    "            loc = loc+1  # add one for each\n",
    "            if(bitFlipLoc == loc):\n",
    "                circ.append(bitflip(), [j])\n",
    "\n",
    "        # Julia started with index 1, so I need to change it by i+1, then I change back on Range\n",
    "        idx_first = (i+1) % 2 + 1\n",
    "\n",
    "        for j in range(idx_first-1, N-1, 2):\n",
    "            circ.append(gateDouble(2*pi*random.random()), [j, j+1])\n",
    "            loc = loc+1  # two location because of entangling gate\n",
    "            if(bitFlipLoc == loc):\n",
    "                circ.append(bitflip(), [j])\n",
    "            loc = loc+1  # two location because of entangling gate\n",
    "            if(bitFlipLoc == loc):\n",
    "                circ.append(bitflip(), [j+1])\n",
    "        circ.barrier(qr)\n",
    "\n",
    "    circ.measure(qr, cr)\n",
    "    return circ"
   ]
  },
  {
   "cell_type": "code",
   "execution_count": 132,
   "id": "a6154009",
   "metadata": {},
   "outputs": [
    {
     "name": "stdout",
     "output_type": "stream",
     "text": [
      "     ┌─────────┐                        ░ ┌─────────┐┌──────────┐ ░ ┌─────────┐»\n",
      "q_0: ┤ unitary ├────────────────────────░─┤ unitary ├┤0         ├─░─┤ unitary ├»\n",
      "     ├─────────┤           ┌──────────┐ ░ ├─────────┤│  unitary │ ░ ├─────────┤»\n",
      "q_1: ┤ unitary ├───────────┤0         ├─░─┤ unitary ├┤1         ├─░─┤ unitary ├»\n",
      "     ├─────────┤┌─────────┐│  unitary │ ░ ├─────────┤└──────────┘ ░ ├─────────┤»\n",
      "q_2: ┤ unitary ├┤ unitary ├┤1         ├─░─┤ unitary ├─────────────░─┤ unitary ├»\n",
      "     └─────────┘└─────────┘└──────────┘ ░ └─────────┘             ░ └─────────┘»\n",
      "c: 3/══════════════════════════════════════════════════════════════════════════»\n",
      "                                                                               »\n",
      "«                  ░ ┌─┐      \n",
      "«q_0: ─────────────░─┤M├──────\n",
      "«     ┌──────────┐ ░ └╥┘┌─┐   \n",
      "«q_1: ┤0         ├─░──╫─┤M├───\n",
      "«     │  unitary │ ░  ║ └╥┘┌─┐\n",
      "«q_2: ┤1         ├─░──╫──╫─┤M├\n",
      "«     └──────────┘ ░  ║  ║ └╥┘\n",
      "«c: 3/════════════════╩══╩══╩═\n",
      "«                     0  1  2 \n"
     ]
    }
   ],
   "source": [
    "random.seed(1)\n",
    "print(runError(3, 3))"
   ]
  },
  {
   "cell_type": "code",
   "execution_count": 131,
   "id": "0a4e37f8",
   "metadata": {},
   "outputs": [
    {
     "name": "stdout",
     "output_type": "stream",
     "text": [
      "     ┌─────────┐┌─────────┐ ░ ┌─────────┐ ░ ┌─────────┐ ░ ┌─┐\n",
      "q_0: ┤ unitary ├┤ unitary ├─░─┤ unitary ├─░─┤ unitary ├─░─┤M├\n",
      "     └─────────┘└─────────┘ ░ └─────────┘ ░ └─────────┘ ░ └╥┘\n",
      "c: 1/══════════════════════════════════════════════════════╩═\n",
      "                                                           0 \n"
     ]
    }
   ],
   "source": [
    "random.seed(1)\n",
    "print(runError(1, 3))"
   ]
  },
  {
   "cell_type": "markdown",
   "id": "bbe08d98",
   "metadata": {},
   "source": [
    "## Visualization : Error Speckle"
   ]
  },
  {
   "cell_type": "code",
   "execution_count": 211,
   "id": "40269274",
   "metadata": {},
   "outputs": [],
   "source": [
    "# the devic\n",
    "def getErrorplot(N, depth):\n",
    "    qc = runError(N, depth)\n",
    "    result = execute(qc, backend, shots=nshot).result()\n",
    "    counts = result.get_counts(qc)\n",
    "    sortCoeff = list(dict(sorted(counts.items())).values())\n",
    "    fig = plt.figure()\n",
    "    ax = fig.add_subplot(111)\n",
    "    for i in range(2**N):\n",
    "        ax.scatter(i, 1, s=200*sortCoeff[i]/nshot, c='r')\n",
    "    ax.set_aspect(10)\n",
    "    ax.set_title(\"Bit-Flip Error\")\n",
    "    ax.axis(\"off\")"
   ]
  },
  {
   "cell_type": "markdown",
   "id": "6d751e4d",
   "metadata": {},
   "source": [
    "### N=2"
   ]
  },
  {
   "cell_type": "code",
   "execution_count": 212,
   "id": "136b43b6",
   "metadata": {},
   "outputs": [
    {
     "data": {
      "image/png": "[encoded data removed]",
      "text/plain": [
       "<Figure size 432x288 with 1 Axes>"
      ]
     },
     "metadata": {
      "needs_background": "light"
     },
     "output_type": "display_data"
    },
    {
     "data": {
      "image/png": "[encoded data removed]",
      "text/plain": [
       "<Figure size 432x288 with 1 Axes>"
      ]
     },
     "metadata": {
      "needs_background": "light"
     },
     "output_type": "display_data"
    }
   ],
   "source": [
    "random.seed(1)\n",
    "getErrorplot(2, 1)\n",
    "random.seed(1)\n",
    "getplot(2, 1)"
   ]
  },
  {
   "cell_type": "code",
   "execution_count": 214,
   "id": "288ee527",
   "metadata": {},
   "outputs": [
    {
     "data": {
      "image/png": "[encoded data removed]",
      "text/plain": [
       "<Figure size 432x288 with 1 Axes>"
      ]
     },
     "metadata": {
      "needs_background": "light"
     },
     "output_type": "display_data"
    },
    {
     "data": {
      "image/png": "[encoded data removed]",
      "text/plain": [
       "<Figure size 432x288 with 1 Axes>"
      ]
     },
     "metadata": {
      "needs_background": "light"
     },
     "output_type": "display_data"
    }
   ],
   "source": [
    "random.seed(1)\n",
    "getErrorplot(2, 2)\n",
    "random.seed(1)\n",
    "getplot(2, 2)"
   ]
  },
  {
   "cell_type": "markdown",
   "id": "5e123481",
   "metadata": {},
   "source": [
    "### N=3"
   ]
  },
  {
   "cell_type": "code",
   "execution_count": 215,
   "id": "06fd09e8",
   "metadata": {},
   "outputs": [
    {
     "data": {
      "image/png": "[encoded data removed]",
      "text/plain": [
       "<Figure size 432x288 with 1 Axes>"
      ]
     },
     "metadata": {
      "needs_background": "light"
     },
     "output_type": "display_data"
    },
    {
     "data": {
      "image/png": "[encoded data removed]",
      "text/plain": [
       "<Figure size 432x288 with 1 Axes>"
      ]
     },
     "metadata": {
      "needs_background": "light"
     },
     "output_type": "display_data"
    }
   ],
   "source": [
    "random.seed(1)\n",
    "getErrorplot(3, 2)\n",
    "random.seed(1)\n",
    "getplot(3, 2)"
   ]
  },
  {
   "cell_type": "code",
   "execution_count": 216,
   "id": "25b68548",
   "metadata": {},
   "outputs": [
    {
     "data": {
      "image/png": "[encoded data removed]",
      "text/plain": [
       "<Figure size 432x288 with 1 Axes>"
      ]
     },
     "metadata": {
      "needs_background": "light"
     },
     "output_type": "display_data"
    },
    {
     "data": {
      "image/png": "[encoded data removed]",
      "text/plain": [
       "<Figure size 432x288 with 1 Axes>"
      ]
     },
     "metadata": {
      "needs_background": "light"
     },
     "output_type": "display_data"
    }
   ],
   "source": [
    "random.seed(1)\n",
    "getErrorplot(3, 4)\n",
    "random.seed(1)\n",
    "getplot(3, 4)"
   ]
  },
  {
   "cell_type": "markdown",
   "id": "d06d7bc3",
   "metadata": {},
   "source": [
    "### N=5"
   ]
  },
  {
   "cell_type": "code",
   "execution_count": 218,
   "id": "f6e4a689",
   "metadata": {},
   "outputs": [
    {
     "data": {
      "image/png": "[encoded data removed]",
      "text/plain": [
       "<Figure size 432x288 with 1 Axes>"
      ]
     },
     "metadata": {
      "needs_background": "light"
     },
     "output_type": "display_data"
    },
    {
     "data": {
      "image/png": "[encoded data removed]",
      "text/plain": [
       "<Figure size 432x288 with 1 Axes>"
      ]
     },
     "metadata": {
      "needs_background": "light"
     },
     "output_type": "display_data"
    }
   ],
   "source": [
    "random.seed(1)\n",
    "getErrorplot(5, 1)\n",
    "random.seed(1)\n",
    "getplot(5, 1)"
   ]
  },
  {
   "cell_type": "code",
   "execution_count": 219,
   "id": "3da872c8",
   "metadata": {},
   "outputs": [
    {
     "data": {
      "image/png": "[encoded data removed]",
      "text/plain": [
       "<Figure size 432x288 with 1 Axes>"
      ]
     },
     "metadata": {
      "needs_background": "light"
     },
     "output_type": "display_data"
    },
    {
     "data": {
      "image/png": "[encoded data removed]",
      "text/plain": [
       "<Figure size 432x288 with 1 Axes>"
      ]
     },
     "metadata": {
      "needs_background": "light"
     },
     "output_type": "display_data"
    }
   ],
   "source": [
    "random.seed(1)\n",
    "getErrorplot(5, 4)\n",
    "random.seed(1)\n",
    "getplot(5, 4)"
   ]
  },
  {
   "cell_type": "code",
   "execution_count": null,
   "id": "5b0652a7",
   "metadata": {},
   "outputs": [],
   "source": []
  }
 ],
 "metadata": {
  "kernelspec": {
   "display_name": "Python 3",
   "language": "python",
   "name": "python3"
  },
  "language_info": {
   "codemirror_mode": {
    "name": "ipython",
    "version": 3
   },
   "file_extension": ".py",
   "mimetype": "text/x-python",
   "name": "python",
   "nbconvert_exporter": "python",
   "pygments_lexer": "ipython3",
   "version": "3.8.10"
  },
  "toc": {
   "base_numbering": 1,
   "nav_menu": {},
   "number_sections": true,
   "sideBar": true,
   "skip_h1_title": false,
   "title_cell": "Table of Contents",
   "title_sidebar": "Contents",
   "toc_cell": false,
   "toc_position": {
    "height": "calc(100% - 180px)",
    "left": "10px",
    "top": "150px",
    "width": "310px"
   },
   "toc_section_display": true,
   "toc_window_display": true
  }
 },
 "nbformat": 4,
 "nbformat_minor": 5
}
