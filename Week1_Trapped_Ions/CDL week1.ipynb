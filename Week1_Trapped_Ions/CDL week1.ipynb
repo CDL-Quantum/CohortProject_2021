{
 "cells": [
  {
   "cell_type": "code",
   "execution_count": 7,
   "id": "8ab57708",
   "metadata": {
    "collapsed": true
   },
   "outputs": [
    {
     "name": "stdout",
     "output_type": "stream",
     "text": [
      "Collecting qiskit\n",
      "  Downloading qiskit-0.27.0.tar.gz (11 kB)\n",
      "Collecting qiskit-terra==0.17.4\n",
      "  Downloading qiskit_terra-0.17.4-cp38-cp38-win_amd64.whl (5.2 MB)\n",
      "Collecting qiskit-aer==0.8.2\n",
      "  Downloading qiskit_aer-0.8.2-cp38-cp38-win_amd64.whl (24.2 MB)\n",
      "Collecting qiskit-ibmq-provider==0.14.0\n",
      "  Downloading qiskit_ibmq_provider-0.14.0-py3-none-any.whl (229 kB)\n",
      "Collecting qiskit-ignis==0.6.0\n",
      "  Downloading qiskit_ignis-0.6.0-py3-none-any.whl (207 kB)\n",
      "Collecting qiskit-aqua==0.9.2\n",
      "  Downloading qiskit_aqua-0.9.2-py3-none-any.whl (2.1 MB)\n",
      "Collecting pybind11>=2.6\n",
      "  Using cached pybind11-2.6.2-py2.py3-none-any.whl (191 kB)\n",
      "Requirement already satisfied: scipy>=1.0 in c:\\users\\aida\\anaconda3\\envs\\foreqast_1\\lib\\site-packages (from qiskit-aer==0.8.2->qiskit) (1.6.2)\n",
      "Requirement already satisfied: numpy>=1.16.3 in c:\\users\\aida\\anaconda3\\envs\\foreqast_1\\lib\\site-packages (from qiskit-aer==0.8.2->qiskit) (1.19.2)\n",
      "Collecting yfinance\n",
      "  Downloading yfinance-0.1.60.tar.gz (26 kB)\n",
      "Collecting fastdtw<=0.3.4\n",
      "  Using cached fastdtw-0.3.4.tar.gz (133 kB)\n",
      "Requirement already satisfied: scikit-learn>=0.20.0 in c:\\users\\aida\\anaconda3\\envs\\foreqast_1\\lib\\site-packages (from qiskit-aqua==0.9.2->qiskit) (0.24.2)\n",
      "Collecting h5py\n",
      "  Downloading h5py-3.3.0-cp38-cp38-win_amd64.whl (2.8 MB)\n",
      "Collecting quandl\n",
      "  Downloading Quandl-3.6.1-py2.py3-none-any.whl (26 kB)\n",
      "Collecting docplex<=2.20.204\n",
      "  Downloading docplex-2.20.204.tar.gz (611 kB)\n",
      "Collecting dlx<=1.0.4\n",
      "  Using cached dlx-1.0.4.tar.gz (5.5 kB)\n",
      "Requirement already satisfied: pandas in c:\\users\\aida\\anaconda3\\envs\\foreqast_1\\lib\\site-packages (from qiskit-aqua==0.9.2->qiskit) (1.2.4)\n",
      "Collecting retworkx>=0.8.0\n",
      "  Downloading retworkx-0.9.0-cp38-cp38-win_amd64.whl (1.1 MB)\n",
      "Requirement already satisfied: setuptools>=40.1.0 in c:\\users\\aida\\anaconda3\\envs\\foreqast_1\\lib\\site-packages (from qiskit-aqua==0.9.2->qiskit) (52.0.0.post20210125)\n",
      "Requirement already satisfied: sympy>=1.3 in c:\\users\\aida\\anaconda3\\envs\\foreqast_1\\lib\\site-packages (from qiskit-aqua==0.9.2->qiskit) (1.8)\n",
      "Requirement already satisfied: psutil>=5 in c:\\users\\aida\\anaconda3\\envs\\foreqast_1\\lib\\site-packages (from qiskit-aqua==0.9.2->qiskit) (5.8.0)\n",
      "Requirement already satisfied: requests>=2.19 in c:\\users\\aida\\anaconda3\\envs\\foreqast_1\\lib\\site-packages (from qiskit-ibmq-provider==0.14.0->qiskit) (2.25.1)\n",
      "Requirement already satisfied: python-dateutil>=2.8.0 in c:\\users\\aida\\anaconda3\\envs\\foreqast_1\\lib\\site-packages (from qiskit-ibmq-provider==0.14.0->qiskit) (2.8.1)\n",
      "Collecting dill>=0.3\n",
      "  Downloading dill-0.3.4-py2.py3-none-any.whl (86 kB)\n",
      "Collecting requests-ntlm>=1.1.0\n",
      "  Using cached requests_ntlm-1.1.0-py2.py3-none-any.whl (5.7 kB)\n",
      "Collecting websocket-client>=1.0.1\n",
      "  Downloading websocket_client-1.1.0-py2.py3-none-any.whl (68 kB)\n",
      "Requirement already satisfied: urllib3>=1.21.1 in c:\\users\\aida\\anaconda3\\envs\\foreqast_1\\lib\\site-packages (from qiskit-ibmq-provider==0.14.0->qiskit) (1.26.4)\n",
      "Collecting ply>=3.10\n",
      "  Using cached ply-3.11-py2.py3-none-any.whl (49 kB)\n",
      "Collecting python-constraint>=1.4\n",
      "  Using cached python-constraint-1.4.0.tar.bz2 (18 kB)\n",
      "Collecting fastjsonschema>=2.10\n",
      "  Downloading fastjsonschema-2.15.1-py3-none-any.whl (21 kB)\n",
      "Requirement already satisfied: jsonschema>=2.6 in c:\\users\\aida\\anaconda3\\envs\\foreqast_1\\lib\\site-packages (from qiskit-terra==0.17.4->qiskit) (3.2.0)\n",
      "Requirement already satisfied: six in c:\\users\\aida\\anaconda3\\envs\\foreqast_1\\lib\\site-packages (from docplex<=2.20.204->qiskit-aqua==0.9.2->qiskit) (1.16.0)\n",
      "Requirement already satisfied: attrs>=17.4.0 in c:\\users\\aida\\anaconda3\\envs\\foreqast_1\\lib\\site-packages (from jsonschema>=2.6->qiskit-terra==0.17.4->qiskit) (21.2.0)\n",
      "Requirement already satisfied: pyrsistent>=0.14.0 in c:\\users\\aida\\anaconda3\\envs\\foreqast_1\\lib\\site-packages (from jsonschema>=2.6->qiskit-terra==0.17.4->qiskit) (0.17.3)\n",
      "Requirement already satisfied: certifi>=2017.4.17 in c:\\users\\aida\\anaconda3\\envs\\foreqast_1\\lib\\site-packages (from requests>=2.19->qiskit-ibmq-provider==0.14.0->qiskit) (2021.5.30)\n",
      "Requirement already satisfied: idna<3,>=2.5 in c:\\users\\aida\\anaconda3\\envs\\foreqast_1\\lib\\site-packages (from requests>=2.19->qiskit-ibmq-provider==0.14.0->qiskit) (2.10)\n",
      "Requirement already satisfied: chardet<5,>=3.0.2 in c:\\users\\aida\\anaconda3\\envs\\foreqast_1\\lib\\site-packages (from requests>=2.19->qiskit-ibmq-provider==0.14.0->qiskit) (4.0.0)\n",
      "Collecting ntlm-auth>=1.0.2\n",
      "  Using cached ntlm_auth-1.5.0-py2.py3-none-any.whl (29 kB)\n",
      "Requirement already satisfied: cryptography>=1.3 in c:\\users\\aida\\anaconda3\\envs\\foreqast_1\\lib\\site-packages (from requests-ntlm>=1.1.0->qiskit-ibmq-provider==0.14.0->qiskit) (3.4.7)\n",
      "Requirement already satisfied: cffi>=1.12 in c:\\users\\aida\\anaconda3\\envs\\foreqast_1\\lib\\site-packages (from cryptography>=1.3->requests-ntlm>=1.1.0->qiskit-ibmq-provider==0.14.0->qiskit) (1.14.5)\n",
      "Requirement already satisfied: pycparser in c:\\users\\aida\\anaconda3\\envs\\foreqast_1\\lib\\site-packages (from cffi>=1.12->cryptography>=1.3->requests-ntlm>=1.1.0->qiskit-ibmq-provider==0.14.0->qiskit) (2.20)\n",
      "Requirement already satisfied: threadpoolctl>=2.0.0 in c:\\users\\aida\\anaconda3\\envs\\foreqast_1\\lib\\site-packages (from scikit-learn>=0.20.0->qiskit-aqua==0.9.2->qiskit) (2.1.0)\n",
      "Requirement already satisfied: joblib>=0.11 in c:\\users\\aida\\anaconda3\\envs\\foreqast_1\\lib\\site-packages (from scikit-learn>=0.20.0->qiskit-aqua==0.9.2->qiskit) (1.0.1)\n",
      "Requirement already satisfied: mpmath>=0.19 in c:\\users\\aida\\anaconda3\\envs\\foreqast_1\\lib\\site-packages (from sympy>=1.3->qiskit-aqua==0.9.2->qiskit) (1.2.1)\n",
      "Requirement already satisfied: pytz>=2017.3 in c:\\users\\aida\\anaconda3\\envs\\foreqast_1\\lib\\site-packages (from pandas->qiskit-aqua==0.9.2->qiskit) (2021.1)\n",
      "Collecting inflection>=0.3.1\n",
      "  Using cached inflection-0.5.1-py2.py3-none-any.whl (9.5 kB)\n",
      "Collecting more-itertools\n",
      "  Downloading more_itertools-8.8.0-py3-none-any.whl (48 kB)\n",
      "Collecting multitasking>=0.0.7\n",
      "  Using cached multitasking-0.0.9.tar.gz (8.1 kB)\n",
      "Collecting lxml>=4.5.1\n",
      "  Downloading lxml-4.6.3-cp38-cp38-win_amd64.whl (3.5 MB)\n",
      "Building wheels for collected packages: qiskit, dlx, docplex, fastdtw, python-constraint, yfinance, multitasking\n",
      "  Building wheel for qiskit (setup.py): started\n",
      "  Building wheel for qiskit (setup.py): finished with status 'done'\n",
      "  Created wheel for qiskit: filename=qiskit-0.27.0-py3-none-any.whl size=10488 sha256=ceb91592bdf7ca98260b6fe721e08f469096e5b4247d2bd358279c46bb26e582\n",
      "  Stored in directory: c:\\users\\aida\\appdata\\local\\pip\\cache\\wheels\\31\\9b\\e1\\8348cc0da41a61c196a5d16b6d401534690ee73cf8c4f6cdc8\n",
      "  Building wheel for dlx (setup.py): started\n",
      "  Building wheel for dlx (setup.py): finished with status 'done'\n",
      "  Created wheel for dlx: filename=dlx-1.0.4-py3-none-any.whl size=5709 sha256=218e1aa69dfaeba719476a592dbbc4f6a7aa5b191d8ce601c6d60e51945c6561\n",
      "  Stored in directory: c:\\users\\aida\\appdata\\local\\pip\\cache\\wheels\\c4\\03\\f9\\7afbf40e0c3d6928d16bcadb46264a6e68704998ec72f7ea13\n",
      "  Building wheel for docplex (setup.py): started\n",
      "  Building wheel for docplex (setup.py): finished with status 'done'\n",
      "  Created wheel for docplex: filename=docplex-2.20.204-py3-none-any.whl size=675361 sha256=96f5b0e64d4b58cb310d2efe57eec077933f25831ace7eeb49d52b1b0c316554\n",
      "  Stored in directory: c:\\users\\aida\\appdata\\local\\pip\\cache\\wheels\\1b\\8c\\d4\\30a423fc8850be566fbbf6f229d0f216d28d69674bd4bd6b3f\n",
      "  Building wheel for fastdtw (setup.py): started\n",
      "  Building wheel for fastdtw (setup.py): finished with status 'done'\n",
      "  Created wheel for fastdtw: filename=fastdtw-0.3.4-py3-none-any.whl size=3588 sha256=0a2e3ec7796d4b66ffae600af3983b51cea86d4218c4497a9b8f7480dc077c49\n",
      "  Stored in directory: c:\\users\\aida\\appdata\\local\\pip\\cache\\wheels\\e9\\ac\\30\\c962f9d759dd68cb5482727c44441fdfb48040fdbe983857e8\n",
      "  Building wheel for python-constraint (setup.py): started\n",
      "  Building wheel for python-constraint (setup.py): finished with status 'done'\n",
      "  Created wheel for python-constraint: filename=python_constraint-1.4.0-py2.py3-none-any.whl size=24079 sha256=6bde906dbdc8dd8cee3577c015f10db51be6187edfe775a60b05ee7f7aff3128\n",
      "  Stored in directory: c:\\users\\aida\\appdata\\local\\pip\\cache\\wheels\\86\\ba\\5c\\4e9115777de42c6a2e1ca77ef7c9d0d479254c5080341b55c5\n",
      "  Building wheel for yfinance (setup.py): started\n",
      "  Building wheel for yfinance (setup.py): finished with status 'done'\n",
      "  Created wheel for yfinance: filename=yfinance-0.1.60-py2.py3-none-any.whl size=23810 sha256=8d017830678ea983e24fb48eca9cd5052c00730930201bb1f2705f997372f12a\n",
      "  Stored in directory: c:\\users\\aida\\appdata\\local\\pip\\cache\\wheels\\2a\\26\\37\\314a530eb4075da4409fb06b2cb3c293a07d7a6ac3e5f5e633\n",
      "  Building wheel for multitasking (setup.py): started\n",
      "  Building wheel for multitasking (setup.py): finished with status 'done'\n",
      "  Created wheel for multitasking: filename=multitasking-0.0.9-py3-none-any.whl size=8368 sha256=5bec85c34da72f445acb3d7cf6d30aee12d34edb9608a48ebf7c78a13ee6c38d\n",
      "  Stored in directory: c:\\users\\aida\\appdata\\local\\pip\\cache\\wheels\\57\\6d\\a3\\a39b839cc75274d2acfb1c58bfead2f726c6577fe8c4723f13\n",
      "Successfully built qiskit dlx docplex fastdtw python-constraint yfinance multitasking\n",
      "Installing collected packages: retworkx, python-constraint, ply, fastjsonschema, dill, qiskit-terra, ntlm-auth, multitasking, more-itertools, lxml, inflection, yfinance, websocket-client, requests-ntlm, quandl, qiskit-ignis, pybind11, h5py, fastdtw, docplex, dlx, qiskit-ibmq-provider, qiskit-aqua, qiskit-aer, qiskit\n",
      "Successfully installed dill-0.3.4 dlx-1.0.4 docplex-2.20.204 fastdtw-0.3.4 fastjsonschema-2.15.1 h5py-3.3.0 inflection-0.5.1 lxml-4.6.3 more-itertools-8.8.0 multitasking-0.0.9 ntlm-auth-1.5.0 ply-3.11 pybind11-2.6.2 python-constraint-1.4.0 qiskit-0.27.0 qiskit-aer-0.8.2 qiskit-aqua-0.9.2 qiskit-ibmq-provider-0.14.0 qiskit-ignis-0.6.0 qiskit-terra-0.17.4 quandl-3.6.1 requests-ntlm-1.1.0 retworkx-0.9.0 websocket-client-1.1.0 yfinance-0.1.60\n"
     ]
    }
   ],
   "source": [
    "!pip install qiskit"
   ]
  },
  {
   "cell_type": "code",
   "execution_count": 7,
   "id": "3ae88350",
   "metadata": {},
   "outputs": [],
   "source": [
    "from qiskit import QuantumCircuit, QuantumRegister, ClassicalRegister\n",
    "from qiskit.tools.visualization import circuit_drawer,plot_histogram\n",
    "from numpy import pi\n",
    "import random\n",
    "from qiskit import transpile\n",
    "from qiskit.providers.aer import AerSimulator"
   ]
  },
  {
   "cell_type": "code",
   "execution_count": 53,
   "id": "0cd688f3",
   "metadata": {},
   "outputs": [],
   "source": [
    "#u(theta, phi,lambda):z(phi) x(-pi/2) z(theta) x(pi/2) z(-phi)\n",
    "#lambda=-phi"
   ]
  },
  {
   "cell_type": "code",
   "execution_count": 11,
   "id": "2c938a82",
   "metadata": {},
   "outputs": [
    {
     "data": {
      "text/html": [
       "<pre style=\"word-wrap: normal;white-space: pre;background: #fff0;line-height: 1.1;font-family: &quot;Courier New&quot;,Courier,monospace\">        ┌──────────────────────────┐┌──────────────┐»\n",
       "   q_0: ┤ U(2.8246,2.8246,-2.8246) ├┤0             ├»\n",
       "        └──────────────────────────┘│  RXX(1.9621) │»\n",
       "   q_1: ────────────────────────────┤1             ├»\n",
       "                                    └──────────────┘»\n",
       "meas: 2/════════════════════════════════════════════»\n",
       "                                                    »\n",
       "«                                    ┌──────────────┐ ░ ┌─┐   \n",
       "«   q_0: ────────────────────────────┤0             ├─░─┤M├───\n",
       "«        ┌──────────────────────────┐│  RXX(4.9034) │ ░ └╥┘┌─┐\n",
       "«   q_1: ┤ U(1.6204,1.6204,-1.6204) ├┤1             ├─░──╫─┤M├\n",
       "«        └──────────────────────────┘└──────────────┘ ░  ║ └╥┘\n",
       "«meas: 2/════════════════════════════════════════════════╩══╩═\n",
       "«                                                        0  1 </pre>"
      ],
      "text/plain": [
       "        ┌──────────────────────────┐┌──────────────┐»\n",
       "   q_0: ┤ U(2.8246,2.8246,-2.8246) ├┤0             ├»\n",
       "        └──────────────────────────┘│  RXX(1.9621) │»\n",
       "   q_1: ────────────────────────────┤1             ├»\n",
       "                                    └──────────────┘»\n",
       "meas: 2/════════════════════════════════════════════»\n",
       "                                                    »\n",
       "«                                    ┌──────────────┐ ░ ┌─┐   \n",
       "«   q_0: ────────────────────────────┤0             ├─░─┤M├───\n",
       "«        ┌──────────────────────────┐│  RXX(4.9034) │ ░ └╥┘┌─┐\n",
       "«   q_1: ┤ U(1.6204,1.6204,-1.6204) ├┤1             ├─░──╫─┤M├\n",
       "«        └──────────────────────────┘└──────────────┘ ░  ║ └╥┘\n",
       "«meas: 2/════════════════════════════════════════════════╩══╩═\n",
       "«                                                        0  1 "
      ]
     },
     "execution_count": 11,
     "metadata": {},
     "output_type": "execute_result"
    }
   ],
   "source": [
    "# cirquit of n qubit\n",
    "n=2\n",
    "circuit = QuantumCircuit(n)\n",
    "for qubit in range(n):\n",
    "    rand = random.random()\n",
    "    circuit.u(2*pi*rand, 2*pi*rand, -2*pi*rand,qubit)\n",
    "    for qubit in range(n-1):\n",
    "        rand = random.random()   \n",
    "        circuit.rxx(2*pi*rand,qubit,qubit+1)\n",
    "        \n",
    "#circuit.measure(range(qubit), range(qubit))\n",
    "circuit.measure_all()\n",
    "circuit.draw()"
   ]
  },
  {
   "cell_type": "code",
   "execution_count": 5,
   "id": "a350199b",
   "metadata": {},
   "outputs": [
    {
     "data": {
      "text/plain": [
       "{'101': 151,\n",
       " '001': 508,\n",
       " '111': 248,\n",
       " '110': 7,\n",
       " '000': 40,\n",
       " '100': 31,\n",
       " '010': 18,\n",
       " '011': 21}"
      ]
     },
     "execution_count": 5,
     "metadata": {},
     "output_type": "execute_result"
    }
   ],
   "source": [
    "# Select the AerSimulator from the Aer provider\n",
    "simulator = AerSimulator(method='matrix_product_state')\n",
    "\n",
    "# Execute the quantum circuit\n",
    "tcirc = transpile(circuit, simulator)\n",
    "result = simulator.run(tcirc).result()\n",
    "# Obtain the counts for each measured state\n",
    "counts=result.get_counts()\n",
    "counts"
   ]
  },
  {
   "cell_type": "code",
   "execution_count": 8,
   "id": "750a7a98",
   "metadata": {},
   "outputs": [
    {
     "data": {
      "image/png": "[encoded data removed]",
      "text/plain": [
       "<Figure size 504x360 with 1 Axes>"
      ]
     },
     "execution_count": 8,
     "metadata": {},
     "output_type": "execute_result"
    }
   ],
   "source": [
    "plot_histogram(counts)"
   ]
  },
  {
   "cell_type": "code",
   "execution_count": null,
   "id": "2bae0e57",
   "metadata": {},
   "outputs": [],
   "source": []
  },
  {
   "cell_type": "code",
   "execution_count": null,
   "id": "b544e83d",
   "metadata": {},
   "outputs": [],
   "source": []
  },
  {
   "cell_type": "code",
   "execution_count": null,
   "id": "4f88a6ad",
   "metadata": {},
   "outputs": [],
   "source": []
  },
  {
   "cell_type": "code",
   "execution_count": null,
   "id": "b48465a0",
   "metadata": {},
   "outputs": [],
   "source": []
  },
  {
   "cell_type": "code",
   "execution_count": null,
   "id": "7adca2fe",
   "metadata": {},
   "outputs": [],
   "source": []
  },
  {
   "cell_type": "code",
   "execution_count": 12,
   "id": "22a1ee5e",
   "metadata": {},
   "outputs": [
    {
     "data": {
      "text/plain": [
       "{'counts': {'0x6': 142,\n",
       "  '0x5': 231,\n",
       "  '0x7': 191,\n",
       "  '0x4': 172,\n",
       "  '0x0': 53,\n",
       "  '0x8': 8,\n",
       "  '0xb': 17,\n",
       "  '0x1': 37,\n",
       "  '0xf': 9,\n",
       "  '0x3': 64,\n",
       "  '0x2': 49,\n",
       "  '0xc': 12,\n",
       "  '0x9': 22,\n",
       "  '0xe': 8,\n",
       "  '0xa': 4,\n",
       "  '0xd': 5},\n",
       " 'my_sv': array([ 0.09804341-0.20214037j,  0.13633224-0.15113096j,\n",
       "         0.15869307-0.16620357j, -0.07324487+0.19496468j,\n",
       "         0.19437155+0.3751254j , -0.39297052-0.24609696j,\n",
       "         0.28233272+0.25363318j,  0.28275793+0.3394083j ,\n",
       "        -0.08441929+0.06505584j,  0.00813106-0.13130126j,\n",
       "        -0.04302182+0.06855047j, -0.03382662+0.10867063j,\n",
       "         0.08652822-0.02987112j,  0.08395871-0.0012206j ,\n",
       "         0.0929839 -0.00335828j, -0.07712759+0.03211756j]),\n",
       " 'my_mps': ([(array([[-0.62181089+0.j, -0.78316743+0.j]]),\n",
       "    array([[ 0.0148474 -0.78302668j, -0.01178838+0.62169913j]])),\n",
       "   (array([[ 0.79452462-0.14902924j, -0.51271866+0.26534066j,\n",
       "            -0.11063035-0.14401031j,  0.09286654-0.67630206j],\n",
       "           [-0.08779425-0.57776759j, -0.48832281-0.67410177j,\n",
       "             0.24040036+1.3776346j ,  0.19382613-0.17615503j]]),\n",
       "    array([[-0.28056364-0.52756303j, -0.34994605-0.71180765j,\n",
       "            -0.14090164-0.68593156j, -0.0682462 -0.06758609j],\n",
       "           [ 0.7561139 -0.25517828j, -0.61281102+0.09464711j,\n",
       "             0.15471406-0.04111603j, -0.26647103+1.39309396j]])),\n",
       "   (array([[ 0.00434571+0.06938573j, -0.141491  +0.858299j  ],\n",
       "           [ 0.22084106-0.93526123j,  0.15799202-0.0601715j ],\n",
       "           [ 0.34066075-0.14611557j, -1.19789001-1.12218957j],\n",
       "           [-0.0398538 +0.13149493j, -3.04918076-0.20930645j]]),\n",
       "    array([[ 0.30590127-0.95980274j, -0.09619249+0.04477892j],\n",
       "           [ 0.06045222-0.05214834j,  0.39434489+1.28259286j],\n",
       "           [-0.05500728-0.11963606j,  1.61894291-2.38253665j],\n",
       "           [-0.21244247-0.0309054j ,  0.14040075+1.64068933j]])),\n",
       "   (array([[ 0.99926629-0.j],\n",
       "           [-0.03829997-0.j]]),\n",
       "    array([[-0.00903211-0.03721974j],\n",
       "           [-0.23565254-0.97108238j]]))],\n",
       "  [array([0.82040227, 0.57178677]),\n",
       "   array([8.83942026e-01, 4.67594027e-01, 1.34682830e-03, 7.12454945e-04]),\n",
       "   array([0.96020935, 0.27928122])])}"
      ]
     },
     "execution_count": 12,
     "metadata": {},
     "output_type": "execute_result"
    }
   ],
   "source": [
    "# cirquit of n qubit\n",
    "n=4\n",
    "circuit = QuantumCircuit(n)\n",
    "for qubit in range(n):\n",
    "    rand = random.random()\n",
    "    circuit.u(2*pi*rand, 2*pi*rand, -2*pi*rand,qubit)\n",
    "    for qubit in range(n-1):\n",
    "        rand = random.random()   \n",
    "        circuit.rxx(2*pi*rand,qubit,qubit+1)\n",
    "        \n",
    "# Define a snapshot that shows the current state vector\n",
    "circuit.save_statevector(label='my_sv')\n",
    "circuit.save_matrix_product_state(label='my_mps')\n",
    "circuit.measure_all()\n",
    "\n",
    "# Execute and get saved data\n",
    "tcirc = transpile(circuit, simulator)\n",
    "result = simulator.run(tcirc).result()\n",
    "data = result.data()\n",
    "\n",
    "#print the result data\n",
    "data\n",
    "\n",
    "#print(\"Time taken: {} sec\".format(result.time_taken))\n",
    "#result.get_counts()"
   ]
  },
  {
   "cell_type": "code",
   "execution_count": 12,
   "id": "bc186fe7",
   "metadata": {},
   "outputs": [
    {
     "data": {
      "text/html": [
       "<pre style=\"word-wrap: normal;white-space: pre;background: #fff0;line-height: 1.1;font-family: &quot;Courier New&quot;,Courier,monospace\">        ┌───┐                     ░ ┌─┐            \n",
       "   q_0: ┤ H ├──■────■────■────■───░─┤M├────────────\n",
       "        └───┘┌─┴─┐  │    │    │   ░ └╥┘┌─┐         \n",
       "   q_1: ─────┤ X ├──┼────┼────┼───░──╫─┤M├─────────\n",
       "             └───┘┌─┴─┐  │    │   ░  ║ └╥┘┌─┐      \n",
       "   q_2: ──────────┤ X ├──┼────┼───░──╫──╫─┤M├──────\n",
       "                  └───┘┌─┴─┐  │   ░  ║  ║ └╥┘┌─┐   \n",
       "   q_3: ───────────────┤ X ├──┼───░──╫──╫──╫─┤M├───\n",
       "                       └───┘┌─┴─┐ ░  ║  ║  ║ └╥┘┌─┐\n",
       "   q_4: ────────────────────┤ X ├─░──╫──╫──╫──╫─┤M├\n",
       "                            └───┘ ░  ║  ║  ║  ║ └╥┘\n",
       "meas: 5/═════════════════════════════╩══╩══╩══╩══╩═\n",
       "                                     0  1  2  3  4 </pre>"
      ],
      "text/plain": [
       "        ┌───┐                     ░ ┌─┐            \n",
       "   q_0: ┤ H ├──■────■────■────■───░─┤M├────────────\n",
       "        └───┘┌─┴─┐  │    │    │   ░ └╥┘┌─┐         \n",
       "   q_1: ─────┤ X ├──┼────┼────┼───░──╫─┤M├─────────\n",
       "             └───┘┌─┴─┐  │    │   ░  ║ └╥┘┌─┐      \n",
       "   q_2: ──────────┤ X ├──┼────┼───░──╫──╫─┤M├──────\n",
       "                  └───┘┌─┴─┐  │   ░  ║  ║ └╥┘┌─┐   \n",
       "   q_3: ───────────────┤ X ├──┼───░──╫──╫──╫─┤M├───\n",
       "                       └───┘┌─┴─┐ ░  ║  ║  ║ └╥┘┌─┐\n",
       "   q_4: ────────────────────┤ X ├─░──╫──╫──╫──╫─┤M├\n",
       "                            └───┘ ░  ║  ║  ║  ║ └╥┘\n",
       "meas: 5/═════════════════════════════╩══╩══╩══╩══╩═\n",
       "                                     0  1  2  3  4 "
      ]
     },
     "execution_count": 12,
     "metadata": {},
     "output_type": "execute_result"
    }
   ],
   "source": [
    "from qiskit import QuantumCircuit\n",
    "\n",
    "qc = QuantumCircuit(5)\n",
    "qc.h(0)\n",
    "qc.cx(0, range(1, 5))\n",
    "qc.measure_all()\n",
    "qc.draw()"
   ]
  },
  {
   "cell_type": "code",
   "execution_count": null,
   "id": "461868a4",
   "metadata": {},
   "outputs": [],
   "source": []
  },
  {
   "cell_type": "code",
   "execution_count": 5,
   "id": "04793149",
   "metadata": {},
   "outputs": [
    {
     "data": {
      "text/plain": [
       "{'counts': {'0xe': 85,\n",
       "  '0x5': 164,\n",
       "  '0xd': 82,\n",
       "  '0x2': 68,\n",
       "  '0x3': 31,\n",
       "  '0xa': 40,\n",
       "  '0x1': 82,\n",
       "  '0x8': 49,\n",
       "  '0x4': 112,\n",
       "  '0x6': 164,\n",
       "  '0xc': 54,\n",
       "  '0x9': 36,\n",
       "  '0x0': 46,\n",
       "  '0xb': 3,\n",
       "  '0xf': 8},\n",
       " 'my_sv': array([ 0.        +0.j        ,  0.        +0.j        ,\n",
       "         0.        +0.j        ,  0.        +0.j        ,\n",
       "         0.        +0.j        ,  0.        +0.j        ,\n",
       "         0.        +0.j        ,  0.        +0.j        ,\n",
       "         0.        +0.j        , -0.98863317-0.15034775j,\n",
       "         0.        +0.j        ,  0.        +0.j        ,\n",
       "         0.        +0.j        ,  0.        +0.j        ,\n",
       "         0.        +0.j        ,  0.        +0.j        ]),\n",
       " 'my_mps': ([(array([[0.+0.j]]), array([[-0.93571041+0.35276909j]])),\n",
       "   (array([[1.+0.j]]), array([[0.+0.j]])),\n",
       "   (array([[-0.96368277-0.26704966j]]), array([[0.+0.j]])),\n",
       "   (array([[0.+0.j]]), array([[-0.97107147-0.23878903j]]))],\n",
       "  [array([1.]), array([1.]), array([1.])])}"
      ]
     },
     "execution_count": 5,
     "metadata": {},
     "output_type": "execute_result"
    }
   ],
   "source": [
    "# Define a snapshot that shows the current state vector\n",
    "circuit.save_statevector(label='my_sv')\n",
    "circuit.save_matrix_product_state(label='my_mps')\n",
    "data = result.data()\n",
    "#print the result data\n",
    "data"
   ]
  },
  {
   "cell_type": "code",
   "execution_count": 10,
   "id": "d2120ca5",
   "metadata": {},
   "outputs": [
    {
     "data": {
      "text/plain": [
       "{'00': 724, '01': 77, '11': 168, '10': 55}"
      ]
     },
     "execution_count": 10,
     "metadata": {},
     "output_type": "execute_result"
    }
   ],
   "source": [
    "# Run and get counts, using the matrix_product_state method\n",
    "# Execute the quantum circuit to obtain the probability distribution associated with the state with current parameters\n",
    "tcirc = transpile(circuit, simulator)\n",
    "result = simulator.run(tcirc).result()\n",
    "# Obtain the counts for each measured state, and convert those counts into a probability vector\n",
    "counts = result.get_counts()\n",
    "counts"
   ]
  }
 ],
 "metadata": {
  "kernelspec": {
   "display_name": "Python [conda env:ForeQast_1] *",
   "language": "python",
   "name": "conda-env-ForeQast_1-py"
  },
  "language_info": {
   "codemirror_mode": {
    "name": "ipython",
    "version": 3
   },
   "file_extension": ".py",
   "mimetype": "text/x-python",
   "name": "python",
   "nbconvert_exporter": "python",
   "pygments_lexer": "ipython3",
   "version": "3.8.10"
  }
 },
 "nbformat": 4,
 "nbformat_minor": 5
}
