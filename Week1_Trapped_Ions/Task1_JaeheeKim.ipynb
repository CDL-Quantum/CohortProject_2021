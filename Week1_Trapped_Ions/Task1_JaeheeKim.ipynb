{
 "cells": [
  {
   "cell_type": "code",
   "execution_count": 1,
   "metadata": {},
   "outputs": [],
   "source": [
    "using PastaQ"
   ]
  },
  {
   "cell_type": "code",
   "execution_count": 2,
   "metadata": {},
   "outputs": [],
   "source": [
    "function PastaQ.gate(::GateName\"R\"; theta::Real, phi::Real)\n",
    "    [\n",
    "        cos(theta/2)    (-im * exp(-im * phi) * sin(theta/2))\n",
    "        (-im * exp(im * phi) * sin(theta/2))     cos(theta/2)\n",
    "    ]\n",
    "end\n",
    "\n",
    "function PastaQ.gate(::GateName\"M\"; Theta::Real)\n",
    "    [\n",
    "        cos(Theta)    0    0    (-im * sin(Theta))\n",
    "        0    cos(Theta)    (-im * sin(Theta))    0\n",
    "        0    (-im * sin(Theta))    cos(Theta)    0\n",
    "        (-im * sin(Theta))    0    0    cos(Theta)\n",
    "    ]\n",
    "end"
   ]
  },
  {
   "cell_type": "code",
   "execution_count": 3,
   "metadata": {},
   "outputs": [
    {
     "data": {
      "text/plain": [
       "run (generic function with 1 method)"
      ]
     },
     "execution_count": 3,
     "metadata": {},
     "output_type": "execute_result"
    }
   ],
   "source": [
    "function run(N, depth)\n",
    "    # Random circuit.\n",
    "    gates = Vector{Tuple}[]\n",
    "\n",
    "    for i in 1:depth\n",
    "        one_qubit_layer = Tuple[]\n",
    "        two_qubit_layer = Tuple[]\n",
    "\n",
    "        for j in 1:N\n",
    "            gate = (\"R\", j, (theta=2pi*rand(), phi=2pi*rand()))\n",
    "            push!(one_qubit_layer, gate)\n",
    "        end\n",
    "\n",
    "        # Alternate start qubit for pairs.\n",
    "        idx_first = i % 2 + 1\n",
    "\n",
    "        for j in idx_first:2:(N-1)\n",
    "            gate = (\"M\", (j, j+1), (Theta=2pi*rand(),))\n",
    "            push!(two_qubit_layer, gate)\n",
    "        end\n",
    "\n",
    "        push!(gates, one_qubit_layer)\n",
    "        push!(gates, two_qubit_layer)\n",
    "    end\n",
    "\n",
    "    psi = runcircuit(N, gates)\n",
    "end"
   ]
  },
  {
   "cell_type": "code",
   "execution_count": 4,
   "metadata": {},
   "outputs": [
    {
     "data": {
      "text/plain": [
       "ITensors.MPS\n",
       "[1] IndexSet{2} (dim=2|id=945|\"Qubit,Site,n=1\") (dim=2|id=940|\"Link,fact\")\n",
       "[2] IndexSet{3} (dim=2|id=940|\"Link,fact\") (dim=2|id=492|\"Qubit,Site,n=2\") (dim=4|id=79|\"Link,fact\")\n",
       "[3] IndexSet{3} (dim=2|id=252|\"Qubit,Site,n=3\") (dim=4|id=79|\"Link,fact\") (dim=2|id=580|\"Link,fact\")\n",
       "[4] IndexSet{2} (dim=2|id=580|\"Link,fact\") (dim=2|id=974|\"Qubit,Site,n=4\")\n"
      ]
     },
     "execution_count": 4,
     "metadata": {},
     "output_type": "execute_result"
    }
   ],
   "source": [
    "N = 4                           # Number of qubits\n",
    "depth = 4                       # Depth of random circuit\n",
    "nshots = 1024                   # Number of measurements\n",
    "gates = run(N, depth) # Build gates"
   ]
  },
  {
   "cell_type": "code",
   "execution_count": 5,
   "metadata": {},
   "outputs": [
    {
     "data": {
      "text/plain": [
       "1024×4 Matrix{Pair{String, Int64}}:\n",
       " \"Z\"=>0  \"Z\"=>1  \"Z\"=>1  \"Z\"=>0\n",
       " \"Z\"=>0  \"Z\"=>1  \"Z\"=>0  \"Z\"=>0\n",
       " \"Z\"=>0  \"Z\"=>1  \"Z\"=>1  \"Z\"=>1\n",
       " \"Z\"=>1  \"Z\"=>1  \"Z\"=>1  \"Z\"=>0\n",
       " \"Z\"=>0  \"Z\"=>1  \"Z\"=>1  \"Z\"=>1\n",
       " \"Z\"=>0  \"Z\"=>1  \"Z\"=>1  \"Z\"=>0\n",
       " \"Z\"=>1  \"Z\"=>1  \"Z\"=>0  \"Z\"=>0\n",
       " \"Z\"=>0  \"Z\"=>1  \"Z\"=>0  \"Z\"=>0\n",
       " \"Z\"=>0  \"Z\"=>1  \"Z\"=>1  \"Z\"=>1\n",
       " \"Z\"=>0  \"Z\"=>1  \"Z\"=>0  \"Z\"=>0\n",
       " \"Z\"=>1  \"Z\"=>1  \"Z\"=>1  \"Z\"=>1\n",
       " \"Z\"=>0  \"Z\"=>1  \"Z\"=>1  \"Z\"=>1\n",
       " \"Z\"=>0  \"Z\"=>1  \"Z\"=>1  \"Z\"=>1\n",
       "    ⋮                    \n",
       " \"Z\"=>0  \"Z\"=>1  \"Z\"=>0  \"Z\"=>0\n",
       " \"Z\"=>1  \"Z\"=>1  \"Z\"=>1  \"Z\"=>1\n",
       " \"Z\"=>0  \"Z\"=>1  \"Z\"=>0  \"Z\"=>0\n",
       " \"Z\"=>0  \"Z\"=>1  \"Z\"=>0  \"Z\"=>0\n",
       " \"Z\"=>0  \"Z\"=>1  \"Z\"=>0  \"Z\"=>0\n",
       " \"Z\"=>1  \"Z\"=>1  \"Z\"=>1  \"Z\"=>1\n",
       " \"Z\"=>0  \"Z\"=>1  \"Z\"=>1  \"Z\"=>1\n",
       " \"Z\"=>0  \"Z\"=>1  \"Z\"=>1  \"Z\"=>1\n",
       " \"Z\"=>0  \"Z\"=>1  \"Z\"=>1  \"Z\"=>1\n",
       " \"Z\"=>0  \"Z\"=>1  \"Z\"=>0  \"Z\"=>0\n",
       " \"Z\"=>0  \"Z\"=>1  \"Z\"=>1  \"Z\"=>1\n",
       " \"Z\"=>0  \"Z\"=>1  \"Z\"=>1  \"Z\"=>1"
      ]
     },
     "execution_count": 5,
     "metadata": {},
     "output_type": "execute_result"
    }
   ],
   "source": [
    "data= getsamples(gates, nshots, local_basis = [\"Z\"])"
   ]
  },
  {
   "cell_type": "code",
   "execution_count": 6,
   "metadata": {},
   "outputs": [
    {
     "data": {
      "text/plain": [
       "getValues (generic function with 1 method)"
      ]
     },
     "execution_count": 6,
     "metadata": {},
     "output_type": "execute_result"
    }
   ],
   "source": [
    "function getValues(Pair)\n",
    "    return Pair[2]\n",
    "end"
   ]
  },
  {
   "cell_type": "code",
   "execution_count": 7,
   "metadata": {},
   "outputs": [
    {
     "data": {
      "text/plain": [
       "1024×4 Matrix{Int64}:\n",
       " 0  1  1  0\n",
       " 0  1  0  0\n",
       " 0  1  1  1\n",
       " 1  1  1  0\n",
       " 0  1  1  1\n",
       " 0  1  1  0\n",
       " 1  1  0  0\n",
       " 0  1  0  0\n",
       " 0  1  1  1\n",
       " 0  1  0  0\n",
       " 1  1  1  1\n",
       " 0  1  1  1\n",
       " 0  1  1  1\n",
       " ⋮        \n",
       " 0  1  0  0\n",
       " 1  1  1  1\n",
       " 0  1  0  0\n",
       " 0  1  0  0\n",
       " 0  1  0  0\n",
       " 1  1  1  1\n",
       " 0  1  1  1\n",
       " 0  1  1  1\n",
       " 0  1  1  1\n",
       " 0  1  0  0\n",
       " 0  1  1  1\n",
       " 0  1  1  1"
      ]
     },
     "execution_count": 7,
     "metadata": {},
     "output_type": "execute_result"
    }
   ],
   "source": [
    "M = getValues.(data)"
   ]
  },
  {
   "cell_type": "code",
   "execution_count": 8,
   "metadata": {},
   "outputs": [
    {
     "data": {
      "text/plain": [
       "1024-element Vector{Int64}:\n",
       " 0\n",
       " 0\n",
       " 0\n",
       " 0\n",
       " 0\n",
       " 0\n",
       " 0\n",
       " 0\n",
       " 0\n",
       " 0\n",
       " 0\n",
       " 0\n",
       " 0\n",
       " ⋮\n",
       " 0\n",
       " 0\n",
       " 0\n",
       " 0\n",
       " 0\n",
       " 0\n",
       " 0\n",
       " 0\n",
       " 0\n",
       " 0\n",
       " 0\n",
       " 0"
      ]
     },
     "execution_count": 8,
     "metadata": {},
     "output_type": "execute_result"
    }
   ],
   "source": [
    "A = zeros(Int64, nshots)"
   ]
  },
  {
   "cell_type": "code",
   "execution_count": 9,
   "metadata": {},
   "outputs": [],
   "source": [
    "for i in 1:nshots\n",
    "    for j in 1:N\n",
    "        A[i] += 2^(j-1)*M[i,j]\n",
    "    end\n",
    "end"
   ]
  },
  {
   "cell_type": "code",
   "execution_count": 10,
   "metadata": {},
   "outputs": [
    {
     "data": {
      "text/plain": [
       "1024-element Vector{Int64}:\n",
       "  6\n",
       "  2\n",
       " 14\n",
       "  7\n",
       " 14\n",
       "  6\n",
       "  3\n",
       "  2\n",
       " 14\n",
       "  2\n",
       " 15\n",
       " 14\n",
       " 14\n",
       "  ⋮\n",
       "  2\n",
       " 15\n",
       "  2\n",
       "  2\n",
       "  2\n",
       " 15\n",
       " 14\n",
       " 14\n",
       " 14\n",
       "  2\n",
       " 14\n",
       " 14"
      ]
     },
     "execution_count": 10,
     "metadata": {},
     "output_type": "execute_result"
    }
   ],
   "source": [
    "A"
   ]
  },
  {
   "cell_type": "code",
   "execution_count": 11,
   "metadata": {},
   "outputs": [
    {
     "data": {
      "text/plain": [
       "6"
      ]
     },
     "execution_count": 11,
     "metadata": {},
     "output_type": "execute_result"
    }
   ],
   "source": [
    "A[1]"
   ]
  },
  {
   "cell_type": "code",
   "execution_count": 12,
   "metadata": {},
   "outputs": [
    {
     "data": {
      "text/plain": [
       "16-element Vector{Int64}:\n",
       " 0\n",
       " 0\n",
       " 0\n",
       " 0\n",
       " 0\n",
       " 0\n",
       " 0\n",
       " 0\n",
       " 0\n",
       " 0\n",
       " 0\n",
       " 0\n",
       " 0\n",
       " 0\n",
       " 0\n",
       " 0"
      ]
     },
     "execution_count": 12,
     "metadata": {},
     "output_type": "execute_result"
    }
   ],
   "source": [
    "Pr = zeros(Int,2^N)"
   ]
  },
  {
   "cell_type": "code",
   "execution_count": 13,
   "metadata": {},
   "outputs": [
    {
     "data": {
      "text/plain": [
       "0"
      ]
     },
     "execution_count": 13,
     "metadata": {},
     "output_type": "execute_result"
    }
   ],
   "source": [
    "Pr[1]"
   ]
  },
  {
   "cell_type": "code",
   "execution_count": 14,
   "metadata": {},
   "outputs": [],
   "source": [
    "for i in 1:nshots\n",
    "    Pr[A[i] + 1] += 1\n",
    "end"
   ]
  },
  {
   "cell_type": "code",
   "execution_count": 15,
   "metadata": {},
   "outputs": [
    {
     "data": {
      "text/plain": [
       "16-element Vector{Int64}:\n",
       "   4\n",
       "  30\n",
       " 256\n",
       "  62\n",
       "   0\n",
       "  18\n",
       " 168\n",
       "  29\n",
       "   0\n",
       "   0\n",
       "   3\n",
       "   0\n",
       "   0\n",
       "  43\n",
       " 338\n",
       "  73"
      ]
     },
     "execution_count": 15,
     "metadata": {},
     "output_type": "execute_result"
    }
   ],
   "source": [
    "Pr"
   ]
  },
  {
   "cell_type": "code",
   "execution_count": 16,
   "metadata": {},
   "outputs": [
    {
     "data": {
      "text/plain": [
       "0"
      ]
     },
     "execution_count": 16,
     "metadata": {},
     "output_type": "execute_result"
    }
   ],
   "source": [
    "idx=0"
   ]
  },
  {
   "cell_type": "code",
   "execution_count": 17,
   "metadata": {},
   "outputs": [],
   "source": [
    "for i in 1:2^N\n",
    "    idx += Pr[i]\n",
    "end"
   ]
  },
  {
   "cell_type": "code",
   "execution_count": 18,
   "metadata": {},
   "outputs": [
    {
     "data": {
      "text/plain": [
       "1024"
      ]
     },
     "execution_count": 18,
     "metadata": {},
     "output_type": "execute_result"
    }
   ],
   "source": [
    "idx"
   ]
  },
  {
   "cell_type": "code",
   "execution_count": 20,
   "metadata": {},
   "outputs": [
    {
     "data": {
      "text/plain": [
       "16-element Vector{Float64}:\n",
       " 0.0\n",
       " 0.0\n",
       " 0.0\n",
       " 0.0\n",
       " 0.0\n",
       " 0.0\n",
       " 0.0\n",
       " 0.0\n",
       " 0.0\n",
       " 0.0\n",
       " 0.0\n",
       " 0.0\n",
       " 0.0\n",
       " 0.0\n",
       " 0.0\n",
       " 0.0"
      ]
     },
     "execution_count": 20,
     "metadata": {},
     "output_type": "execute_result"
    }
   ],
   "source": [
    "Pr_1 = zeros(2^N)"
   ]
  },
  {
   "cell_type": "code",
   "execution_count": 21,
   "metadata": {},
   "outputs": [],
   "source": [
    "for i in 1:2^N\n",
    "    Pr_1[i]=Pr[i]/idx\n",
    "end"
   ]
  },
  {
   "cell_type": "code",
   "execution_count": 22,
   "metadata": {},
   "outputs": [
    {
     "data": {
      "text/plain": [
       "16-element Vector{Float64}:\n",
       " 0.00390625\n",
       " 0.029296875\n",
       " 0.25\n",
       " 0.060546875\n",
       " 0.0\n",
       " 0.017578125\n",
       " 0.1640625\n",
       " 0.0283203125\n",
       " 0.0\n",
       " 0.0\n",
       " 0.0029296875\n",
       " 0.0\n",
       " 0.0\n",
       " 0.0419921875\n",
       " 0.330078125\n",
       " 0.0712890625"
      ]
     },
     "execution_count": 22,
     "metadata": {},
     "output_type": "execute_result"
    }
   ],
   "source": [
    "Pr_1"
   ]
  },
  {
   "cell_type": "code",
   "execution_count": 23,
   "metadata": {},
   "outputs": [],
   "source": [
    "idx_1=0\n",
    "for i in 1:2^N\n",
    "    idx_1 += Pr_1[i]\n",
    "end"
   ]
  },
  {
   "cell_type": "code",
   "execution_count": 24,
   "metadata": {},
   "outputs": [
    {
     "data": {
      "text/plain": [
       "1.0"
      ]
     },
     "execution_count": 24,
     "metadata": {},
     "output_type": "execute_result"
    }
   ],
   "source": [
    "idx_1"
   ]
  },
  {
   "cell_type": "code",
   "execution_count": 25,
   "metadata": {},
   "outputs": [],
   "source": [
    "using PyPlot"
   ]
  },
  {
   "cell_type": "code",
   "execution_count": 26,
   "metadata": {},
   "outputs": [
    {
     "data": {
      "image/png": "[encoded data removed]",
      "text/plain": [
       "Figure(PyObject <Figure size 640x480 with 1 Axes>)"
      ]
     },
     "metadata": {},
     "output_type": "display_data"
    },
    {
     "data": {
      "text/plain": [
       "(0.25, 16.75, -0.05500000000000001, 0.05500000000000001)"
      ]
     },
     "execution_count": 26,
     "metadata": {},
     "output_type": "execute_result"
    }
   ],
   "source": [
    "for i in 1:2^N\n",
    "    scatter(i,0,color=\"red\",linewidth=30.0*Pr_1[i])\n",
    "end\n",
    "axis(\"off\")"
   ]
  },
  {
   "cell_type": "code",
   "execution_count": null,
   "metadata": {},
   "outputs": [],
   "source": []
  }
 ],
 "metadata": {
  "kernelspec": {
   "display_name": "Julia 1.6.1",
   "language": "julia",
   "name": "julia-1.6"
  },
  "language_info": {
   "file_extension": ".jl",
   "mimetype": "application/julia",
   "name": "julia",
   "version": "1.6.1"
  }
 },
 "nbformat": 4,
 "nbformat_minor": 4
}
