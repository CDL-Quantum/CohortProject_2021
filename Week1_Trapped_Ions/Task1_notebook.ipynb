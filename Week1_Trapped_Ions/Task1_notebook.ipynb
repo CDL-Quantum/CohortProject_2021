{
 "cells": [
  {
   "cell_type": "code",
   "execution_count": 1,
   "metadata": {},
   "outputs": [],
   "source": [
    "#!/usr/bin/env julia"
   ]
  },
  {
   "cell_type": "markdown",
   "metadata": {},
   "source": [
    "### This task is basis for other task. In this task we generate random circuit and get probability from several circuit widths and depths. For convenience, this code write on julia for the purpose of drawing result of several circuit easily."
   ]
  },
  {
   "cell_type": "markdown",
   "metadata": {},
   "source": [
    "## Preliminaries"
   ]
  },
  {
   "cell_type": "markdown",
   "metadata": {},
   "source": [
    "### Import all necessary packages"
   ]
  },
  {
   "cell_type": "code",
   "execution_count": 2,
   "metadata": {},
   "outputs": [],
   "source": [
    "using PastaQ\n",
    "using PyPlot"
   ]
  },
  {
   "cell_type": "markdown",
   "metadata": {},
   "source": [
    "### Call RndomCircuit.jl for generating and simulating quantum circuits."
   ]
  },
  {
   "cell_type": "code",
   "execution_count": 3,
   "metadata": {},
   "outputs": [
    {
     "data": {
      "text/plain": [
       "run (generic function with 1 method)"
      ]
     },
     "execution_count": 3,
     "metadata": {},
     "output_type": "execute_result"
    }
   ],
   "source": [
    "include(\"RandomCircuit.jl\")"
   ]
  },
  {
   "cell_type": "markdown",
   "metadata": {},
   "source": [
    "### Choosing circuit width, depth and shots."
   ]
  },
  {
   "cell_type": "code",
   "execution_count": 4,
   "metadata": {},
   "outputs": [],
   "source": [
    "#For JULIA\n",
    "\n",
    "#N = parse(Int, ARGS[1]) #number of qubit = width\n",
    "#depth = parse(Int, ARGS[2]) #circuit depth\n",
    "#nshots = parse(Int, ARGS[3])"
   ]
  },
  {
   "cell_type": "code",
   "execution_count": 5,
   "metadata": {},
   "outputs": [
    {
     "data": {
      "text/plain": [
       "1024"
      ]
     },
     "execution_count": 5,
     "metadata": {},
     "output_type": "execute_result"
    }
   ],
   "source": [
    "N = 6\n",
    "depth = 20\n",
    "nshots = 1024"
   ]
  },
  {
   "cell_type": "markdown",
   "metadata": {},
   "source": [
    "### Generating and simulating quantum circuit."
   ]
  },
  {
   "cell_type": "code",
   "execution_count": 6,
   "metadata": {},
   "outputs": [
    {
     "data": {
      "text/plain": [
       "ITensors.MPS\n",
       "[1] IndexSet{2} (dim=2|id=415|\"Qubit,Site,n=1\") (dim=2|id=410|\"Link,fact\")\n",
       "[2] IndexSet{3} (dim=2|id=410|\"Link,fact\") (dim=2|id=148|\"Qubit,Site,n=2\") (dim=4|id=976|\"Link,fact\")\n",
       "[3] IndexSet{3} (dim=2|id=500|\"Qubit,Site,n=3\") (dim=4|id=976|\"Link,fact\") (dim=8|id=241|\"Link,fact\")\n",
       "[4] IndexSet{3} (dim=8|id=241|\"Link,fact\") (dim=2|id=111|\"Qubit,Site,n=4\") (dim=4|id=242|\"Link,fact\")\n",
       "[5] IndexSet{3} (dim=2|id=420|\"Qubit,Site,n=5\") (dim=4|id=242|\"Link,fact\") (dim=2|id=116|\"Link,fact\")\n",
       "[6] IndexSet{2} (dim=2|id=116|\"Link,fact\") (dim=2|id=971|\"Qubit,Site,n=6\")\n"
      ]
     },
     "execution_count": 6,
     "metadata": {},
     "output_type": "execute_result"
    }
   ],
   "source": [
    "gates = run(N, depth)"
   ]
  },
  {
   "cell_type": "markdown",
   "metadata": {},
   "source": [
    "### Get samples from result(gates) and extract valus from data(data type is pair)"
   ]
  },
  {
   "cell_type": "code",
   "execution_count": 7,
   "metadata": {},
   "outputs": [
    {
     "data": {
      "text/plain": [
       "1024×6 Matrix{Pair{String, Int64}}:\n",
       " \"Z\"=>0  \"Z\"=>0  \"Z\"=>0  \"Z\"=>1  \"Z\"=>1  \"Z\"=>1\n",
       " \"Z\"=>0  \"Z\"=>1  \"Z\"=>1  \"Z\"=>0  \"Z\"=>1  \"Z\"=>0\n",
       " \"Z\"=>1  \"Z\"=>0  \"Z\"=>1  \"Z\"=>1  \"Z\"=>1  \"Z\"=>1\n",
       " \"Z\"=>0  \"Z\"=>1  \"Z\"=>1  \"Z\"=>1  \"Z\"=>0  \"Z\"=>0\n",
       " \"Z\"=>0  \"Z\"=>0  \"Z\"=>1  \"Z\"=>1  \"Z\"=>0  \"Z\"=>0\n",
       " \"Z\"=>0  \"Z\"=>1  \"Z\"=>0  \"Z\"=>1  \"Z\"=>0  \"Z\"=>0\n",
       " \"Z\"=>1  \"Z\"=>1  \"Z\"=>0  \"Z\"=>0  \"Z\"=>1  \"Z\"=>1\n",
       " \"Z\"=>1  \"Z\"=>1  \"Z\"=>0  \"Z\"=>0  \"Z\"=>0  \"Z\"=>0\n",
       " \"Z\"=>0  \"Z\"=>0  \"Z\"=>0  \"Z\"=>1  \"Z\"=>0  \"Z\"=>0\n",
       " \"Z\"=>1  \"Z\"=>0  \"Z\"=>0  \"Z\"=>1  \"Z\"=>1  \"Z\"=>0\n",
       " \"Z\"=>0  \"Z\"=>1  \"Z\"=>1  \"Z\"=>1  \"Z\"=>0  \"Z\"=>1\n",
       " \"Z\"=>0  \"Z\"=>0  \"Z\"=>0  \"Z\"=>0  \"Z\"=>0  \"Z\"=>0\n",
       " \"Z\"=>0  \"Z\"=>0  \"Z\"=>1  \"Z\"=>1  \"Z\"=>1  \"Z\"=>0\n",
       "    ⋮                                       ⋮\n",
       " \"Z\"=>0  \"Z\"=>1  \"Z\"=>1  \"Z\"=>0  \"Z\"=>1  \"Z\"=>1\n",
       " \"Z\"=>0  \"Z\"=>1  \"Z\"=>1  \"Z\"=>0  \"Z\"=>0  \"Z\"=>1\n",
       " \"Z\"=>1  \"Z\"=>1  \"Z\"=>1  \"Z\"=>0  \"Z\"=>0  \"Z\"=>1\n",
       " \"Z\"=>0  \"Z\"=>1  \"Z\"=>0  \"Z\"=>0  \"Z\"=>0  \"Z\"=>0\n",
       " \"Z\"=>1  \"Z\"=>0  \"Z\"=>0  \"Z\"=>0  \"Z\"=>0  \"Z\"=>0\n",
       " \"Z\"=>0  \"Z\"=>1  \"Z\"=>1  \"Z\"=>0  \"Z\"=>1  \"Z\"=>1\n",
       " \"Z\"=>1  \"Z\"=>1  \"Z\"=>1  \"Z\"=>0  \"Z\"=>1  \"Z\"=>1\n",
       " \"Z\"=>0  \"Z\"=>1  \"Z\"=>1  \"Z\"=>0  \"Z\"=>0  \"Z\"=>1\n",
       " \"Z\"=>0  \"Z\"=>1  \"Z\"=>1  \"Z\"=>0  \"Z\"=>1  \"Z\"=>1\n",
       " \"Z\"=>0  \"Z\"=>1  \"Z\"=>0  \"Z\"=>0  \"Z\"=>1  \"Z\"=>1\n",
       " \"Z\"=>1  \"Z\"=>0  \"Z\"=>0  \"Z\"=>0  \"Z\"=>0  \"Z\"=>0\n",
       " \"Z\"=>0  \"Z\"=>0  \"Z\"=>1  \"Z\"=>1  \"Z\"=>1  \"Z\"=>0"
      ]
     },
     "execution_count": 7,
     "metadata": {},
     "output_type": "execute_result"
    }
   ],
   "source": [
    "data= getsamples(gates, nshots, local_basis = [\"Z\"])"
   ]
  },
  {
   "cell_type": "code",
   "execution_count": 8,
   "metadata": {},
   "outputs": [
    {
     "data": {
      "text/plain": [
       "1024×6 Matrix{Int64}:\n",
       " 0  0  0  1  1  1\n",
       " 0  1  1  0  1  0\n",
       " 1  0  1  1  1  1\n",
       " 0  1  1  1  0  0\n",
       " 0  0  1  1  0  0\n",
       " 0  1  0  1  0  0\n",
       " 1  1  0  0  1  1\n",
       " 1  1  0  0  0  0\n",
       " 0  0  0  1  0  0\n",
       " 1  0  0  1  1  0\n",
       " 0  1  1  1  0  1\n",
       " 0  0  0  0  0  0\n",
       " 0  0  1  1  1  0\n",
       " ⋮              ⋮\n",
       " 0  1  1  0  1  1\n",
       " 0  1  1  0  0  1\n",
       " 1  1  1  0  0  1\n",
       " 0  1  0  0  0  0\n",
       " 1  0  0  0  0  0\n",
       " 0  1  1  0  1  1\n",
       " 1  1  1  0  1  1\n",
       " 0  1  1  0  0  1\n",
       " 0  1  1  0  1  1\n",
       " 0  1  0  0  1  1\n",
       " 1  0  0  0  0  0\n",
       " 0  0  1  1  1  0"
      ]
     },
     "execution_count": 8,
     "metadata": {},
     "output_type": "execute_result"
    }
   ],
   "source": [
    "M = [x[2] for x in data] #from data(pari), we extract only value(not key) "
   ]
  },
  {
   "cell_type": "markdown",
   "metadata": {},
   "source": [
    "### For convennience, we transform binary results into decimal results"
   ]
  },
  {
   "cell_type": "code",
   "execution_count": 9,
   "metadata": {},
   "outputs": [],
   "source": [
    "A = zeros(Int64, nshots) #string for saving decimal number transforming from binary \n",
    "\n",
    "# Binary to Decimal\n",
    "for i in 1:nshots\n",
    "    for j in 1:N\n",
    "        A[i] += 2^(j-1)*M[i,j]\n",
    "    end\n",
    "end"
   ]
  },
  {
   "cell_type": "markdown",
   "metadata": {},
   "source": [
    "### We count the number of each decimal data and convert it into probability."
   ]
  },
  {
   "cell_type": "code",
   "execution_count": 10,
   "metadata": {},
   "outputs": [],
   "source": [
    "Pr = zeros(Int,2^N) #we counts number of each binary number from string A, and save that number at Pr in order.\n",
    "\n",
    "for i in 1:nshots\n",
    "    Pr[A[i] + 1] += 1\n",
    "end\n",
    "\n",
    "Pr_1 = zeros(2^N) #Pr_1 is probability from Pr.(Pr[i]/nshots)\n",
    "\n",
    "for i in 1:2^N\n",
    "    Pr_1[i]=Pr[i]/nshots\n",
    "end"
   ]
  },
  {
   "cell_type": "markdown",
   "metadata": {},
   "source": [
    "### Plot speckle pattern using pyPlot. Draw various circuits can done by iterating this code."
   ]
  },
  {
   "cell_type": "code",
   "execution_count": 11,
   "metadata": {},
   "outputs": [
    {
     "data": {
      "image/png": "[encoded data removed]",
      "text/plain": [
       "Figure(PyObject <Figure size 640x480 with 1 Axes>)"
      ]
     },
     "metadata": {},
     "output_type": "display_data"
    },
    {
     "name": "stderr",
     "output_type": "stream",
     "text": [
      "sys:1: UserWarning: Matplotlib is currently using agg, which is a non-GUI backend, so cannot show the figure.\n"
     ]
    }
   ],
   "source": [
    "# plot speckle pattern using PyPlot\n",
    "for i in 1:2^N\n",
    "    plt.scatter(i,0,color=\"red\",linewidth=25.0*Pr_1[i])    \n",
    "end\n",
    "show()\n",
    "\n",
    "savefig(\"task1_result_width6_depth20.pdf\")"
   ]
  },
  {
   "cell_type": "code",
   "execution_count": null,
   "metadata": {},
   "outputs": [],
   "source": []
  }
 ],
 "metadata": {
  "interpreter": {
   "hash": "da4b476d3518842c9dacb19ac9e4d74c443910f39bbcb079b84588b9c4b99638"
  },
  "kernelspec": {
   "display_name": "Julia 1.6.1",
   "language": "julia",
   "name": "julia-1.6"
  },
  "language_info": {
   "file_extension": ".jl",
   "mimetype": "application/julia",
   "name": "julia",
   "version": "1.6.1"
  }
 },
 "nbformat": 4,
 "nbformat_minor": 2
}
