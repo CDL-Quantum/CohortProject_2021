{
 "metadata": {
  "language_info": {
   "codemirror_mode": {
    "name": "ipython",
    "version": 3
   },
   "file_extension": ".py",
   "mimetype": "text/x-python",
   "name": "julia",
   "nbconvert_exporter": "python",
   "pygments_lexer": "ipython3",
   "version": "3.8.5"
  },
  "orig_nbformat": 4,
  "kernelspec": {
   "name": "julia-1.6",
   "display_name": "Julia 1.6.1",
   "language": "julia"
  },
  "interpreter": {
   "hash": "da4b476d3518842c9dacb19ac9e4d74c443910f39bbcb079b84588b9c4b99638"
  }
 },
 "nbformat": 4,
 "nbformat_minor": 2,
 "cells": [
  {
   "cell_type": "code",
   "execution_count": 1,
   "metadata": {},
   "outputs": [],
   "source": [
    "#!/usr/bin/env julia"
   ]
  },
  {
   "source": [
    "### This task is basis for other task. In this task we generate random circuit and get probability from several circuit widths and depths. For convenience, this code write on julia for the purpose of drawing result of several circuit easily."
   ],
   "cell_type": "markdown",
   "metadata": {}
  },
  {
   "source": [
    "## Preliminaries"
   ],
   "cell_type": "markdown",
   "metadata": {}
  },
  {
   "source": [
    "### Import all necessary packages"
   ],
   "cell_type": "markdown",
   "metadata": {}
  },
  {
   "cell_type": "code",
   "execution_count": 2,
   "metadata": {},
   "outputs": [],
   "source": [
    "using PastaQ\n",
    "using PyPlot"
   ]
  },
  {
   "source": [
    "### Call RndomCircuit.jl for generating and simulating quantum circuits."
   ],
   "cell_type": "markdown",
   "metadata": {}
  },
  {
   "cell_type": "code",
   "execution_count": 3,
   "metadata": {},
   "outputs": [
    {
     "output_type": "execute_result",
     "data": {
      "text/plain": [
       "run (generic function with 1 method)"
      ]
     },
     "metadata": {},
     "execution_count": 3
    }
   ],
   "source": [
    "include(\"RandomCircuit.jl\")"
   ]
  },
  {
   "source": [
    "### Choosing circuit width, depth and shots."
   ],
   "cell_type": "markdown",
   "metadata": {}
  },
  {
   "cell_type": "code",
   "execution_count": 4,
   "metadata": {},
   "outputs": [],
   "source": [
    "#For JULIA\n",
    "\n",
    "#N = parse(Int, ARGS[1]) #number of qubit = width\n",
    "#depth = parse(Int, ARGS[2]) #circuit depth\n",
    "#nshots = parse(Int, ARGS[3])"
   ]
  },
  {
   "cell_type": "code",
   "execution_count": 5,
   "metadata": {},
   "outputs": [
    {
     "output_type": "execute_result",
     "data": {
      "text/plain": [
       "1024"
      ]
     },
     "metadata": {},
     "execution_count": 5
    }
   ],
   "source": [
    "N = 10\n",
    "depth = 20\n",
    "nshots = 1024"
   ]
  },
  {
   "source": [
    "### Generating and simulating quantum circuit."
   ],
   "cell_type": "markdown",
   "metadata": {}
  },
  {
   "cell_type": "code",
   "execution_count": 6,
   "metadata": {},
   "outputs": [
    {
     "output_type": "execute_result",
     "data": {
      "text/plain": [
       "ITensors.MPS\n",
       "[1] IndexSet{2} (dim=2|id=701|\"Qubit,Site,n=1\") (dim=2|id=669|\"Link,fact\")\n",
       "[2] IndexSet{3} (dim=2|id=669|\"Link,fact\") (dim=2|id=496|\"Qubit,Site,n=2\") (dim=4|id=902|\"Link,fact\")\n",
       "[3] IndexSet{3} (dim=2|id=8|\"Qubit,Site,n=3\") (dim=4|id=902|\"Link,fact\") (dim=8|id=919|\"Link,fact\")\n",
       "[4] IndexSet{3} (dim=8|id=919|\"Link,fact\") (dim=2|id=825|\"Qubit,Site,n=4\") (dim=16|id=418|\"Link,fact\")\n",
       "[5] IndexSet{3} (dim=2|id=140|\"Qubit,Site,n=5\") (dim=16|id=418|\"Link,fact\") (dim=32|id=941|\"Link,fact\")\n",
       "[6] IndexSet{3} (dim=32|id=941|\"Link,fact\") (dim=2|id=910|\"Qubit,Site,n=6\") (dim=16|id=261|\"Link,fact\")\n",
       "[7] IndexSet{3} (dim=2|id=952|\"Qubit,Site,n=7\") (dim=16|id=261|\"Link,fact\") (dim=8|id=301|\"Link,fact\")\n",
       "[8] IndexSet{3} (dim=8|id=301|\"Link,fact\") (dim=2|id=247|\"Qubit,Site,n=8\") (dim=4|id=822|\"Link,fact\")\n",
       "[9] IndexSet{3} (dim=2|id=41|\"Qubit,Site,n=9\") (dim=4|id=822|\"Link,fact\") (dim=2|id=653|\"Link,fact\")\n",
       "[10] IndexSet{2} (dim=2|id=653|\"Link,fact\") (dim=2|id=236|\"Qubit,Site,n=10\")\n"
      ]
     },
     "metadata": {},
     "execution_count": 6
    }
   ],
   "source": [
    "gates = run(N, depth)"
   ]
  },
  {
   "source": [
    "### Get samples from result(gates) and extract valus from data(data type is pair)"
   ],
   "cell_type": "markdown",
   "metadata": {}
  },
  {
   "cell_type": "code",
   "execution_count": 7,
   "metadata": {},
   "outputs": [
    {
     "output_type": "execute_result",
     "data": {
      "text/plain": [
       "1024×10 Matrix{Pair{String, Int64}}:\n",
       " \"Z\"=>1  \"Z\"=>0  \"Z\"=>0  \"Z\"=>1  \"Z\"=>1  …  \"Z\"=>1  \"Z\"=>0  \"Z\"=>0  \"Z\"=>1\n",
       " \"Z\"=>0  \"Z\"=>0  \"Z\"=>1  \"Z\"=>0  \"Z\"=>1     \"Z\"=>1  \"Z\"=>0  \"Z\"=>0  \"Z\"=>0\n",
       " \"Z\"=>1  \"Z\"=>0  \"Z\"=>0  \"Z\"=>1  \"Z\"=>0     \"Z\"=>0  \"Z\"=>1  \"Z\"=>0  \"Z\"=>0\n",
       " \"Z\"=>1  \"Z\"=>0  \"Z\"=>0  \"Z\"=>0  \"Z\"=>1     \"Z\"=>0  \"Z\"=>1  \"Z\"=>0  \"Z\"=>0\n",
       " \"Z\"=>1  \"Z\"=>0  \"Z\"=>0  \"Z\"=>0  \"Z\"=>1     \"Z\"=>0  \"Z\"=>1  \"Z\"=>0  \"Z\"=>0\n",
       " \"Z\"=>0  \"Z\"=>0  \"Z\"=>0  \"Z\"=>0  \"Z\"=>1  …  \"Z\"=>0  \"Z\"=>0  \"Z\"=>1  \"Z\"=>0\n",
       " \"Z\"=>1  \"Z\"=>0  \"Z\"=>1  \"Z\"=>0  \"Z\"=>0     \"Z\"=>0  \"Z\"=>1  \"Z\"=>0  \"Z\"=>1\n",
       " \"Z\"=>1  \"Z\"=>0  \"Z\"=>0  \"Z\"=>1  \"Z\"=>0     \"Z\"=>1  \"Z\"=>0  \"Z\"=>1  \"Z\"=>1\n",
       " \"Z\"=>1  \"Z\"=>0  \"Z\"=>1  \"Z\"=>0  \"Z\"=>0     \"Z\"=>0  \"Z\"=>0  \"Z\"=>0  \"Z\"=>0\n",
       " \"Z\"=>0  \"Z\"=>0  \"Z\"=>1  \"Z\"=>1  \"Z\"=>0     \"Z\"=>1  \"Z\"=>1  \"Z\"=>0  \"Z\"=>1\n",
       " \"Z\"=>0  \"Z\"=>0  \"Z\"=>1  \"Z\"=>1  \"Z\"=>0  …  \"Z\"=>1  \"Z\"=>0  \"Z\"=>1  \"Z\"=>0\n",
       " \"Z\"=>1  \"Z\"=>1  \"Z\"=>1  \"Z\"=>1  \"Z\"=>0     \"Z\"=>0  \"Z\"=>1  \"Z\"=>0  \"Z\"=>0\n",
       " \"Z\"=>1  \"Z\"=>0  \"Z\"=>0  \"Z\"=>0  \"Z\"=>0     \"Z\"=>0  \"Z\"=>1  \"Z\"=>0  \"Z\"=>0\n",
       "    ⋮                                    ⋱                          \n",
       " \"Z\"=>1  \"Z\"=>0  \"Z\"=>0  \"Z\"=>0  \"Z\"=>0     \"Z\"=>1  \"Z\"=>1  \"Z\"=>0  \"Z\"=>0\n",
       " \"Z\"=>1  \"Z\"=>1  \"Z\"=>0  \"Z\"=>0  \"Z\"=>1     \"Z\"=>1  \"Z\"=>1  \"Z\"=>1  \"Z\"=>0\n",
       " \"Z\"=>0  \"Z\"=>1  \"Z\"=>0  \"Z\"=>1  \"Z\"=>0     \"Z\"=>1  \"Z\"=>1  \"Z\"=>0  \"Z\"=>0\n",
       " \"Z\"=>0  \"Z\"=>1  \"Z\"=>0  \"Z\"=>0  \"Z\"=>1  …  \"Z\"=>1  \"Z\"=>0  \"Z\"=>1  \"Z\"=>1\n",
       " \"Z\"=>1  \"Z\"=>1  \"Z\"=>0  \"Z\"=>0  \"Z\"=>0     \"Z\"=>1  \"Z\"=>1  \"Z\"=>1  \"Z\"=>0\n",
       " \"Z\"=>1  \"Z\"=>0  \"Z\"=>1  \"Z\"=>0  \"Z\"=>0     \"Z\"=>1  \"Z\"=>0  \"Z\"=>1  \"Z\"=>0\n",
       " \"Z\"=>0  \"Z\"=>1  \"Z\"=>0  \"Z\"=>0  \"Z\"=>1     \"Z\"=>1  \"Z\"=>1  \"Z\"=>0  \"Z\"=>0\n",
       " \"Z\"=>1  \"Z\"=>0  \"Z\"=>1  \"Z\"=>0  \"Z\"=>0     \"Z\"=>1  \"Z\"=>0  \"Z\"=>0  \"Z\"=>0\n",
       " \"Z\"=>1  \"Z\"=>0  \"Z\"=>1  \"Z\"=>1  \"Z\"=>1  …  \"Z\"=>1  \"Z\"=>0  \"Z\"=>1  \"Z\"=>0\n",
       " \"Z\"=>1  \"Z\"=>0  \"Z\"=>0  \"Z\"=>0  \"Z\"=>1     \"Z\"=>1  \"Z\"=>0  \"Z\"=>1  \"Z\"=>0\n",
       " \"Z\"=>1  \"Z\"=>0  \"Z\"=>1  \"Z\"=>0  \"Z\"=>0     \"Z\"=>0  \"Z\"=>1  \"Z\"=>0  \"Z\"=>0\n",
       " \"Z\"=>0  \"Z\"=>0  \"Z\"=>0  \"Z\"=>1  \"Z\"=>0     \"Z\"=>0  \"Z\"=>0  \"Z\"=>1  \"Z\"=>0"
      ]
     },
     "metadata": {},
     "execution_count": 7
    }
   ],
   "source": [
    "data= getsamples(gates, nshots, local_basis = [\"Z\"])"
   ]
  },
  {
   "cell_type": "code",
   "execution_count": 8,
   "metadata": {},
   "outputs": [
    {
     "output_type": "execute_result",
     "data": {
      "text/plain": [
       "1024×10 Matrix{Int64}:\n",
       " 1  0  0  1  1  1  1  0  0  1\n",
       " 0  0  1  0  1  1  1  0  0  0\n",
       " 1  0  0  1  0  1  0  1  0  0\n",
       " 1  0  0  0  1  1  0  1  0  0\n",
       " 1  0  0  0  1  1  0  1  0  0\n",
       " 0  0  0  0  1  1  0  0  1  0\n",
       " 1  0  1  0  0  0  0  1  0  1\n",
       " 1  0  0  1  0  0  1  0  1  1\n",
       " 1  0  1  0  0  1  0  0  0  0\n",
       " 0  0  1  1  0  0  1  1  0  1\n",
       " 0  0  1  1  0  0  1  0  1  0\n",
       " 1  1  1  1  0  1  0  1  0  0\n",
       " 1  0  0  0  0  0  0  1  0  0\n",
       " ⋮              ⋮           \n",
       " 1  0  0  0  0  0  1  1  0  0\n",
       " 1  1  0  0  1  1  1  1  1  0\n",
       " 0  1  0  1  0  1  1  1  0  0\n",
       " 0  1  0  0  1  0  1  0  1  1\n",
       " 1  1  0  0  0  1  1  1  1  0\n",
       " 1  0  1  0  0  1  1  0  1  0\n",
       " 0  1  0  0  1  1  1  1  0  0\n",
       " 1  0  1  0  0  1  1  0  0  0\n",
       " 1  0  1  1  1  0  1  0  1  0\n",
       " 1  0  0  0  1  0  1  0  1  0\n",
       " 1  0  1  0  0  0  0  1  0  0\n",
       " 0  0  0  1  0  1  0  0  1  0"
      ]
     },
     "metadata": {},
     "execution_count": 8
    }
   ],
   "source": [
    "M = [x[2] for x in data] #from data(pari), we extract only value(not key) "
   ]
  },
  {
   "source": [
    "### For convennience, we transform binary results into decimal results"
   ],
   "cell_type": "markdown",
   "metadata": {}
  },
  {
   "cell_type": "code",
   "execution_count": 9,
   "metadata": {},
   "outputs": [],
   "source": [
    "A = zeros(Int64, nshots) #string for saving decimal number transforming from binary \n",
    "\n",
    "# Binary to Decimal\n",
    "for i in 1:nshots\n",
    "    for j in 1:N\n",
    "        A[i] += 2^(j-1)*M[i,j]\n",
    "    end\n",
    "end"
   ]
  },
  {
   "source": [
    "### We count the number of each decimal data and convert it into probability."
   ],
   "cell_type": "markdown",
   "metadata": {}
  },
  {
   "cell_type": "code",
   "execution_count": 10,
   "metadata": {},
   "outputs": [],
   "source": [
    "Pr = zeros(Int,2^N) #we counts number of each binary number from string A, and save that number at Pr in order.\n",
    "\n",
    "for i in 1:nshots\n",
    "    Pr[A[i] + 1] += 1\n",
    "end\n",
    "\n",
    "Pr_1 = zeros(2^N) #Pr_1 is probability from Pr.(Pr[i]/nshots)\n",
    "\n",
    "for i in 1:2^N\n",
    "    Pr_1[i]=Pr[i]/nshots\n",
    "end"
   ]
  },
  {
   "source": [
    "### Plot speckle pattern using pyPlot. If someone wants to draw various circuits, Than can achieve by interating this code."
   ],
   "cell_type": "markdown",
   "metadata": {}
  },
  {
   "cell_type": "code",
   "execution_count": 16,
   "metadata": {},
   "outputs": [
    {
     "output_type": "display_data",
     "data": {
      "text/plain": "Figure(PyObject <Figure size 640x480 with 1 Axes>)",
      "image/png": "[encoded data removed]"
     },
     "metadata": {}
    }
   ],
   "source": [
    "# plot speckle pattern using PyPlot\n",
    "for i in 1:2^N\n",
    "    scatter(i,0,color=\"red\",linewidth=25.0*Pr_1[i])\n",
    "end\n",
    "axis(\"off\")\n",
    "\n",
    "savefig(\"Task1_result_width10_depth20.pdf\")"
   ]
  },
  {
   "cell_type": "code",
   "execution_count": null,
   "metadata": {},
   "outputs": [],
   "source": []
  }
 ]
}