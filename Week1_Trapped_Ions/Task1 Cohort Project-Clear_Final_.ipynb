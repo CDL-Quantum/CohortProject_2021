{
 "cells": [
  {
   "cell_type": "code",
   "execution_count": 34,
   "metadata": {},
   "outputs": [],
   "source": [
    "using PastaQ\n",
    "using ITensors\n",
    "using PyPlot"
   ]
  },
  {
   "cell_type": "code",
   "execution_count": 2,
   "metadata": {},
   "outputs": [
    {
     "data": {
      "text/plain": [
       "run (generic function with 1 method)"
      ]
     },
     "execution_count": 2,
     "metadata": {},
     "output_type": "execute_result"
    }
   ],
   "source": [
    "#From run_random_circuit.jl\n",
    "function PastaQ.gate(::GateName\"R\"; theta::Real, phi::Real)\n",
    "    [\n",
    "        cos(theta/2)    (-im * exp(-im * phi) * sin(theta/2))\n",
    "        (-im * exp(im * phi) * sin(theta/2))     cos(theta/2)\n",
    "    ]\n",
    "end\n",
    "\n",
    "function PastaQ.gate(::GateName\"M\"; Theta::Real)\n",
    "    [\n",
    "        cos(Theta)    0    0    (-im * sin(Theta))\n",
    "        0    cos(Theta)    (-im * sin(Theta))    0\n",
    "        0    (-im * sin(Theta))    cos(Theta)    0\n",
    "        (-im * sin(Theta))    0    0    cos(Theta)\n",
    "    ]\n",
    "end\n",
    "\n",
    "function run(N, depth)\n",
    "    # Random circuit.\n",
    "    gates = Vector{Tuple}[]\n",
    "\n",
    "    for i in 1:depth\n",
    "        one_qubit_layer = Tuple[]\n",
    "        two_qubit_layer = Tuple[]\n",
    "\n",
    "        for j in 1:N\n",
    "            gate = (\"R\", j, (theta=2pi*rand(), phi=2pi*rand()))\n",
    "            push!(one_qubit_layer, gate)\n",
    "        end\n",
    "\n",
    "        # Alternate start qubit for pairs.\n",
    "        idx_first = i % 2 + 1\n",
    "\n",
    "        for j in idx_first:2:(N-1)\n",
    "            gate = (\"M\", (j, j+1), (Theta=2pi*rand(),))\n",
    "            push!(two_qubit_layer, gate)\n",
    "        end\n",
    "\n",
    "        push!(gates, one_qubit_layer)\n",
    "        push!(gates, two_qubit_layer)\n",
    "    end\n",
    "\n",
    "    psi = runcircuit(N, gates)\n",
    "end"
   ]
  },
  {
   "cell_type": "code",
   "execution_count": 3,
   "metadata": {},
   "outputs": [
    {
     "data": {
      "text/plain": [
       "getValue (generic function with 1 method)"
      ]
     },
     "execution_count": 3,
     "metadata": {},
     "output_type": "execute_result"
    }
   ],
   "source": [
    "# Since each data matrix compoenets have \"Pair\"- We just want to get only values.\n",
    "# Function to extract values from pair\n",
    "\n",
    "function getValue(P::Pair)\n",
    "    return P[2]\n",
    "end"
   ]
  },
  {
   "cell_type": "code",
   "execution_count": 4,
   "metadata": {},
   "outputs": [
    {
     "data": {
      "text/plain": [
       "BinaryToDecimal (generic function with 1 method)"
      ]
     },
     "execution_count": 4,
     "metadata": {},
     "output_type": "execute_result"
    }
   ],
   "source": [
    "# Convert Matrix -> Vector to extract information easily\n",
    "function BinaryToDecimal(M,N)\n",
    "    idx = zeros(Int8,size(M)[1],1)\n",
    "    for i in 1:N\n",
    "        idx += M[:,i].*2^(i-1)\n",
    "    end\n",
    "    \n",
    "    return idx\n",
    "end"
   ]
  },
  {
   "cell_type": "code",
   "execution_count": 5,
   "metadata": {},
   "outputs": [
    {
     "data": {
      "text/plain": [
       "Init_Count_Generator (generic function with 1 method)"
      ]
     },
     "execution_count": 5,
     "metadata": {},
     "output_type": "execute_result"
    }
   ],
   "source": [
    "# Generate initial Count dictionary\n",
    "function Init_Count_Generator(N)\n",
    "    Count = Dict{Int64,Int64}()\n",
    "    for i in 0:2^N-1\n",
    "        push!(Count,i=>0)\n",
    "    end\n",
    "\n",
    "    return Count = sort((Count))\n",
    "end   "
   ]
  },
  {
   "cell_type": "code",
   "execution_count": 6,
   "metadata": {},
   "outputs": [
    {
     "data": {
      "text/plain": [
       "get_probabilities (generic function with 1 method)"
      ]
     },
     "execution_count": 6,
     "metadata": {},
     "output_type": "execute_result"
    }
   ],
   "source": [
    "# Get Probabilities dictionary\n",
    "function get_probabilities(Count,N)\n",
    "    Prob = Dict{Int64,Float64}()\n",
    "    Total_shots = sum(values(Count))\n",
    "    for i in 0:2^N-1\n",
    "        push!(Prob,i=>(Count[i]/Total_shots))\n",
    "    end\n",
    "    \n",
    "    return sort(Prob)\n",
    "end"
   ]
  },
  {
   "cell_type": "code",
   "execution_count": 7,
   "metadata": {},
   "outputs": [
    {
     "data": {
      "text/plain": [
       "get_counts (generic function with 1 method)"
      ]
     },
     "execution_count": 7,
     "metadata": {},
     "output_type": "execute_result"
    }
   ],
   "source": [
    "function get_counts(Count,V)\n",
    "    Keys = keys(Count)\n",
    "    for k in Keys\n",
    "        Count[k]+=count(i->(i==k),V)\n",
    "    end\n",
    "    return Count\n",
    "end\n"
   ]
  },
  {
   "cell_type": "code",
   "execution_count": 8,
   "metadata": {},
   "outputs": [
    {
     "data": {
      "text/plain": [
       "execute (generic function with 1 method)"
      ]
     },
     "execution_count": 8,
     "metadata": {},
     "output_type": "execute_result"
    }
   ],
   "source": [
    "# From sampling of state to Decimal representation vector\n",
    "function execute(ψ,N,shots)\n",
    "    data = getsamples(ψ, shots ,local_basis=[\"Z\"])\n",
    "    B = getValue.(data)\n",
    "    C = BinaryToDecimal(B,N)\n",
    "    return C\n",
    "end"
   ]
  },
  {
   "cell_type": "code",
   "execution_count": 31,
   "metadata": {},
   "outputs": [
    {
     "data": {
      "text/plain": [
       "OrderedCollections.OrderedDict{Int64, Float64} with 16 entries:\n",
       "  0  => 0.0439453\n",
       "  1  => 0.0488281\n",
       "  2  => 0.133789\n",
       "  3  => 0.046875\n",
       "  4  => 0.0117188\n",
       "  5  => 0.0507812\n",
       "  6  => 0.228516\n",
       "  7  => 0.0205078\n",
       "  8  => 0.110352\n",
       "  9  => 0.0136719\n",
       "  10 => 0.0478516\n",
       "  11 => 0.0585938\n",
       "  12 => 0.12207\n",
       "  13 => 0.0175781\n",
       "  14 => 0.00195312\n",
       "  15 => 0.0429688"
      ]
     },
     "execution_count": 31,
     "metadata": {},
     "output_type": "execute_result"
    }
   ],
   "source": [
    "N = 4 # The number of Qubit\n",
    "D = 10 # Depth of Circuit\n",
    "shots = 1024 # The number of shot\n",
    "Count = Init_Count_Generator(N) # Dictionary for counting result\n",
    "\n",
    "ϕ = run(N,D) # Get state\n",
    "shot_result = execute(ϕ,N,shots) # Get decimal representation of shot result(Vector)\n",
    "Count = get_counts(Count,shot_result) # Get Counts from shot_result\n",
    "Prob = get_probabilities(Count,N) # Get probabilities from Count"
   ]
  },
  {
   "cell_type": "code",
   "execution_count": 38,
   "metadata": {},
   "outputs": [
    {
     "data": {
      "image/png": "[encoded data removed]",
      "text/plain": [
       "Figure(PyObject <Figure size 640x480 with 1 Axes>)"
      ]
     },
     "metadata": {},
     "output_type": "display_data"
    },
    {
     "data": {
      "text/plain": [
       "(-0.75, 15.75, -0.05500000000000001, 0.05500000000000001)"
      ]
     },
     "execution_count": 38,
     "metadata": {},
     "output_type": "execute_result"
    }
   ],
   "source": [
    "for i in 0:2^N-1\n",
    "    scatter(i,0,color=\"red\",linewidth=50.0*Prob[i])\n",
    "end\n",
    "axis(\"off\")"
   ]
  }
 ],
 "metadata": {
  "kernelspec": {
   "display_name": "Julia 1.6.1",
   "language": "julia",
   "name": "julia-1.6"
  },
  "language_info": {
   "file_extension": ".jl",
   "mimetype": "application/julia",
   "name": "julia",
   "version": "1.6.1"
  }
 },
 "nbformat": 4,
 "nbformat_minor": 4
}
