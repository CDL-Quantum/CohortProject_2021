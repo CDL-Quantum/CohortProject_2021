{
 "cells": [
  {
   "cell_type": "code",
   "execution_count": 10,
   "metadata": {
    "collapsed": true
   },
   "outputs": [],
   "source": [
    "# Check if julia in $PATH\n",
    "'''\n",
    "import os\n",
    "\n",
    "if 'julia' not in os.environ['PATH'] or 'Julia' not in os.environ['PATH']:\n",
    "    try:\n",
    "        print(os.environ['PATH'])\n",
    "        from envvir import JULIA_PATH\n",
    "        os.environ['PATH']=JULIA_PATH+\":\"+os.environ['PATH']\n",
    "    except ImportError:\n",
    "        print(\"julia is not in PATH\")\n",
    "        raise FileNotFoundError\n",
    "'''\n",
    "from julia import Julia\n",
    "jl = Julia(compiled_modules=False)"
   ]
  },
  {
   "cell_type": "code",
   "execution_count": 6,
   "outputs": [],
   "source": [
    "run_random_circuit = jl.include(\"./run_random_circuit.jl\")\n",
    "N = 3\n",
    "D = 2\n",
    "shots = 3000\n",
    "result = run_random_circuit(N, D, shots)\n"
   ],
   "metadata": {
    "collapsed": false,
    "pycharm": {
     "name": "#%%\n"
    }
   }
  },
  {
   "cell_type": "code",
   "execution_count": 7,
   "outputs": [
    {
     "name": "stdout",
     "output_type": "stream",
     "text": [
      "[[0 1 0]\n",
      " [0 1 1]\n",
      " [0 1 0]\n",
      " ...\n",
      " [0 1 1]\n",
      " [1 0 0]\n",
      " [0 1 0]]\n"
     ]
    }
   ],
   "source": [
    "print(result)\n"
   ],
   "metadata": {
    "collapsed": false,
    "pycharm": {
     "name": "#%%\n"
    }
   }
  }
 ],
 "metadata": {
  "kernelspec": {
   "display_name": "Python 3",
   "language": "python",
   "name": "python3"
  },
  "language_info": {
   "codemirror_mode": {
    "name": "ipython",
    "version": 2
   },
   "file_extension": ".py",
   "mimetype": "text/x-python",
   "name": "python",
   "nbconvert_exporter": "python",
   "pygments_lexer": "ipython2",
   "version": "2.7.6"
  }
 },
 "nbformat": 4,
 "nbformat_minor": 0
}