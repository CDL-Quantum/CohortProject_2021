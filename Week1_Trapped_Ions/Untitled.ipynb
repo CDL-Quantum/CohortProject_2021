{
 "cells": [
  {
   "cell_type": "code",
   "execution_count": 34,
   "metadata": {},
   "outputs": [
    {
     "data": {
      "text/plain": [
       "ITensors.MPS\n",
       "[1] IndexSet{2} (dim=2|id=646|\"Qubit,Site,n=1\") (dim=2|id=975|\"Link,fact\")\n",
       "[2] IndexSet{3} (dim=2|id=975|\"Link,fact\") (dim=2|id=308|\"Qubit,Site,n=2\") (dim=4|id=997|\"Link,fact\")\n",
       "[3] IndexSet{3} (dim=2|id=948|\"Qubit,Site,n=3\") (dim=4|id=997|\"Link,fact\") (dim=2|id=572|\"Link,fact\")\n",
       "[4] IndexSet{2} (dim=2|id=572|\"Link,fact\") (dim=2|id=568|\"Qubit,Site,n=4\")\n"
      ]
     },
     "execution_count": 34,
     "metadata": {},
     "output_type": "execute_result"
    }
   ],
   "source": [
    "using PastaQ\n",
    "\n",
    "function PastaQ.gate(::GateName\"R\"; theta::Real, phi::Real)\n",
    "    [\n",
    "        cos(theta/2)    (-im * exp(-im * phi) * sin(theta/2))\n",
    "        (-im * exp(im * phi) * sin(theta/2))     cos(theta/2)\n",
    "    ]\n",
    "end\n",
    "\n",
    "function PastaQ.gate(::GateName\"M\"; Theta::Real)\n",
    "    [\n",
    "        cos(Theta)    0    0    (-im * sin(Theta))\n",
    "        0    cos(Theta)    (-im * sin(Theta))    0\n",
    "        0    (-im * sin(Theta))    cos(Theta)    0\n",
    "        (-im * sin(Theta))    0    0    cos(Theta)\n",
    "    ]\n",
    "end\n",
    "\n",
    "function run(N, depth)\n",
    "    # Random circuit.\n",
    "    gates = Vector{Tuple}[]\n",
    "\n",
    "    for i in 1:depth\n",
    "        one_qubit_layer = Tuple[]\n",
    "        two_qubit_layer = Tuple[]\n",
    "\n",
    "        for j in 1:N\n",
    "            gate = (\"R\", j, (theta=2pi*rand(), phi=2pi*rand()))\n",
    "            push!(one_qubit_layer, gate)\n",
    "        end\n",
    "\n",
    "        # Alternate start qubit for pairs.\n",
    "        idx_first = i % 2 + 1\n",
    "\n",
    "        for j in idx_first:2:(N-1)\n",
    "            gate = (\"M\", (j, j+1), (Theta=2pi*rand(),))\n",
    "            push!(two_qubit_layer, gate)\n",
    "        end\n",
    "\n",
    "        push!(gates, one_qubit_layer)\n",
    "        push!(gates, two_qubit_layer)\n",
    "    end\n",
    "\n",
    "    psi = runcircuit(N, gates)\n",
    "end\n",
    "\n",
    "N = 4\n",
    "depth = 100\n",
    "\n",
    "mps = run(N, depth)"
   ]
  },
  {
   "cell_type": "code",
   "execution_count": 26,
   "metadata": {},
   "outputs": [
    {
     "data": {
      "text/plain": [
       "ITensor ord=3 (dim=2|id=670|\"Link,fact\") (dim=2|id=304|\"Qubit,Site,n=2\") (dim=4|id=858|\"Link,fact\")\n",
       "NDTensors.Dense{ComplexF64, Vector{ComplexF64}}"
      ]
     },
     "execution_count": 26,
     "metadata": {},
     "output_type": "execute_result"
    }
   ],
   "source": [
    "mps[2]"
   ]
  },
  {
   "cell_type": "code",
   "execution_count": 27,
   "metadata": {},
   "outputs": [
    {
     "ename": "LoadError",
     "evalue": "UndefVarError: Index not defined",
     "output_type": "error",
     "traceback": [
      "UndefVarError: Index not defined",
      "",
      "Stacktrace:",
      " [1] top-level scope",
      "   @ In[27]:1",
      " [2] eval",
      "   @ ./boot.jl:360 [inlined]",
      " [3] include_string(mapexpr::typeof(REPL.softscope), mod::Module, code::String, filename::String)",
      "   @ Base ./loading.jl:1094"
     ]
    }
   ],
   "source": [
    "i = Index(2,\"i\")\n",
    "j = Index(3,\"j\")\n",
    "k = Index(4,\"k\")\n",
    "\n",
    "T = ITensor(i,j,k)"
   ]
  },
  {
   "cell_type": "code",
   "execution_count": null,
   "metadata": {},
   "outputs": [],
   "source": []
  }
 ],
 "metadata": {
  "kernelspec": {
   "display_name": "Julia 1.6.1",
   "language": "julia",
   "name": "julia-1.6"
  },
  "language_info": {
   "file_extension": ".jl",
   "mimetype": "application/julia",
   "name": "julia",
   "version": "1.6.1"
  }
 },
 "nbformat": 4,
 "nbformat_minor": 4
}
