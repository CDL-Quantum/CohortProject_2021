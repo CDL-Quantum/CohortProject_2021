{
 "cells": [
  {
   "cell_type": "code",
   "execution_count": 65,
   "id": "b7a70ebf",
   "metadata": {},
   "outputs": [
    {
     "data": {
      "text/plain": [
       "run (generic function with 1 method)"
      ]
     },
     "execution_count": 65,
     "metadata": {},
     "output_type": "execute_result"
    }
   ],
   "source": [
    "#!/usr/bin/env julia\n",
    "\n",
    "using PastaQ\n",
    "using ITensors\n",
    "using PyPlot\n",
    "\n",
    "function PastaQ.gate(::GateName\"R\"; theta::Real, phi::Real)\n",
    "    [\n",
    "        cos(theta/2)    (-im * exp(-im * phi) * sin(theta/2))\n",
    "        (-im * exp(im * phi) * sin(theta/2))     cos(theta/2)\n",
    "    ]\n",
    "end\n",
    "\n",
    "function PastaQ.gate(::GateName\"M\"; Theta::Real)\n",
    "    [\n",
    "        cos(Theta)    0    0    (-im * sin(Theta))\n",
    "        0    cos(Theta)    (-im * sin(Theta))    0\n",
    "        0    (-im * sin(Theta))    cos(Theta)    0\n",
    "        (-im * sin(Theta))    0    0    cos(Theta)\n",
    "    ]\n",
    "end\n",
    "\n",
    "function run(N, depth)\n",
    "    # Random circuit. \n",
    "    gates = Vector{Tuple}[]\n",
    "\n",
    "    for i in 1:depth\n",
    "        one_qubit_layer = Tuple[]\n",
    "        two_qubit_layer = Tuple[]\n",
    "\n",
    "        for j in 1:N\n",
    "            gate = (\"R\", j, (theta=2pi*rand(), phi=2pi*rand()))\n",
    "            push!(one_qubit_layer, gate)\n",
    "        end\n",
    "\n",
    "        # Alternate start qubit for pairs.\n",
    "        idx_first = i % 2 + 1\n",
    "\n",
    "        for j in idx_first:2:(N-1)\n",
    "            gate = (\"M\", (j, j+1), (Theta=2pi*rand(),))\n",
    "            push!(two_qubit_layer, gate)\n",
    "        end\n",
    "\n",
    "        push!(gates, one_qubit_layer)\n",
    "        push!(gates, two_qubit_layer)\n",
    "    end\n",
    "    insert!(gates,(abs(rand(Int)) % size(gates)[1] + 1),[(\"X\",(abs(rand(Int)) % N) + 1)])\n",
    "#     @show gates\n",
    "    psi = runcircuit(N, gates)\n",
    "end\n"
   ]
  },
  {
   "cell_type": "code",
   "execution_count": 2,
   "id": "5b71225f",
   "metadata": {},
   "outputs": [],
   "source": [
    "\n",
    "# N = 2\n",
    "# depth = 2\n",
    "\n",
    "# ψ = run(N, depth)\n",
    "# @show ψ"
   ]
  },
  {
   "cell_type": "code",
   "execution_count": 3,
   "id": "4c23cf05",
   "metadata": {},
   "outputs": [
    {
     "name": "stdout",
     "output_type": "stream",
     "text": [
      "ψ = MPS\n",
      "[1] IndexSet{2} (dim=2|id=633|\"Qubit,Site,n=1\") (dim=2|id=997|\"Link,fact\")\n",
      "[2] IndexSet{3} (dim=2|id=997|\"Link,fact\") (dim=2|id=870|\"Qubit,Site,n=2\") (dim=2|id=600|\"Link,fact\")\n",
      "[3] IndexSet{3} (dim=2|id=185|\"Qubit,Site,n=3\") (dim=2|id=600|\"Link,fact\") (dim=2|id=748|\"Link,fact\")\n",
      "[4] IndexSet{2} (dim=2|id=748|\"Link,fact\") (dim=2|id=822|\"Qubit,Site,n=4\")\n",
      "\n"
     ]
    },
    {
     "data": {
      "text/plain": [
       "MPS\n",
       "[1] IndexSet{2} (dim=2|id=633|\"Qubit,Site,n=1\") (dim=2|id=997|\"Link,fact\")\n",
       "[2] IndexSet{3} (dim=2|id=997|\"Link,fact\") (dim=2|id=870|\"Qubit,Site,n=2\") (dim=2|id=600|\"Link,fact\")\n",
       "[3] IndexSet{3} (dim=2|id=185|\"Qubit,Site,n=3\") (dim=2|id=600|\"Link,fact\") (dim=2|id=748|\"Link,fact\")\n",
       "[4] IndexSet{2} (dim=2|id=748|\"Link,fact\") (dim=2|id=822|\"Qubit,Site,n=4\")\n"
      ]
     },
     "execution_count": 3,
     "metadata": {},
     "output_type": "execute_result"
    }
   ],
   "source": [
    "N = 4\n",
    "depth = 2\n",
    "\n",
    "ψ = run(N, depth)\n",
    "@show ψ"
   ]
  },
  {
   "cell_type": "code",
   "execution_count": 4,
   "id": "6a663760",
   "metadata": {},
   "outputs": [
    {
     "data": {
      "text/plain": [
       "x_mps (generic function with 1 method)"
      ]
     },
     "execution_count": 4,
     "metadata": {},
     "output_type": "execute_result"
    }
   ],
   "source": [
    "# contruct MPS of number X\n",
    "function x_mps(N, x)\n",
    "    gates = Vector{Tuple}[]\n",
    "    one_qubit_layer = Tuple[]\n",
    "    # create circuit\n",
    "    for i in 1:N\n",
    "        if x % 2 == 1\n",
    "            gate = (\"X\",i)\n",
    "            push!(one_qubit_layer, gate)\n",
    "        end\n",
    "        x = x÷2\n",
    "    end\n",
    "    push!(gates, one_qubit_layer)\n",
    "#     @show gates\n",
    "    psi = runcircuit(N, gates)\n",
    "end"
   ]
  },
  {
   "cell_type": "code",
   "execution_count": 5,
   "id": "74b81042",
   "metadata": {},
   "outputs": [
    {
     "name": "stdout",
     "output_type": "stream",
     "text": [
      "pr = [0.04855434084980573, 0.048216454259640405, 0.0640561428574693, 0.07680746277814196, 0.023534958242400712, 0.013385168652762226, 0.016912166254947122, 0.030072245965383382, 0.04065246809563592, 0.08846897800151336, 0.09630534074064248, 0.0676880397011605, 0.07096925432198599, 0.11388163733347585, 0.11486232422691828, 0.08563301771811739]\n"
     ]
    },
    {
     "data": {
      "text/plain": [
       "16-element Vector{Float64}:\n",
       " 0.04855434084980573\n",
       " 0.048216454259640405\n",
       " 0.0640561428574693\n",
       " 0.07680746277814196\n",
       " 0.023534958242400712\n",
       " 0.013385168652762226\n",
       " 0.016912166254947122\n",
       " 0.030072245965383382\n",
       " 0.04065246809563592\n",
       " 0.08846897800151336\n",
       " 0.09630534074064248\n",
       " 0.0676880397011605\n",
       " 0.07096925432198599\n",
       " 0.11388163733347585\n",
       " 0.11486232422691828\n",
       " 0.08563301771811739"
      ]
     },
     "execution_count": 5,
     "metadata": {},
     "output_type": "execute_result"
    }
   ],
   "source": [
    "N = 4\n",
    "pr = Vector{Float64}(undef,2^N)\n",
    "for i in 1:2^N\n",
    "    temp_psi = x_mps(4,i-1)\n",
    "    pr[i]= real(inner(temp_psi,ψ)*inner(temp_psi,ψ)')\n",
    "end\n",
    "@show pr"
   ]
  },
  {
   "cell_type": "code",
   "execution_count": null,
   "id": "9eb59bf7",
   "metadata": {},
   "outputs": [],
   "source": []
  },
  {
   "cell_type": "code",
   "execution_count": 6,
   "id": "f5de123f",
   "metadata": {},
   "outputs": [
    {
     "name": "stdout",
     "output_type": "stream",
     "text": [
      "1.0000000000000007"
     ]
    }
   ],
   "source": [
    "sum = 0\n",
    "for i in 1:16\n",
    "    sum = sum + pr[i]\n",
    "end\n",
    "print(sum)"
   ]
  },
  {
   "cell_type": "code",
   "execution_count": null,
   "id": "528e42a7",
   "metadata": {},
   "outputs": [],
   "source": []
  },
  {
   "cell_type": "code",
   "execution_count": 7,
   "id": "2b81ffe9",
   "metadata": {},
   "outputs": [
    {
     "ename": "LoadError",
     "evalue": "UndefVarError: y not defined",
     "output_type": "error",
     "traceback": [
      "UndefVarError: y not defined",
      "",
      "Stacktrace:",
      " [1] top-level scope",
      "   @ In[7]:1",
      " [2] eval",
      "   @ .\\boot.jl:360 [inlined]",
      " [3] include_string(mapexpr::typeof(REPL.softscope), mod::Module, code::String, filename::String)",
      "   @ Base .\\loading.jl:1094"
     ]
    }
   ],
   "source": [
    "y[1,2]"
   ]
  },
  {
   "cell_type": "code",
   "execution_count": 63,
   "id": "821091a5",
   "metadata": {},
   "outputs": [
    {
     "name": "stdout",
     "output_type": "stream",
     "text": [
      "gates = Vector{Tuple}[[(\"R\", 1, (theta = 4.27651852385255, phi = 6.066345493369977)), (\"R\", 2, (theta = 5.376833895091317, phi = 0.5056402815352872)), (\"R\", 3, (theta = 1.938464230770031, phi = 4.889799269025343)), (\"R\", 4, (theta = 1.5896028937616957, phi = 1.7432802610956266))], [(\"X\", 1)], [(\"M\", (2, 3), (Theta = 2.899897617301413,))], [(\"R\", 1, (theta = 5.653963111907691, phi = 3.472163301961133)), (\"R\", 2, (theta = 2.0132044941051257, phi = 0.0029485135377043136)), (\"R\", 3, (theta = 1.853456927190203, phi = 3.8642771096522157)), (\"R\", 4, (theta = 4.273196574818118, phi = 0.873861406450702))], [(\"M\", (1, 2), (Theta = 4.376240995150211,)), (\"M\", (3, 4), (Theta = 4.634050348093994,))]]\n"
     ]
    },
    {
     "data": {
      "text/plain": [
       "5-element Vector{Vector{Tuple}}:\n",
       " [(\"R\", 1, (theta = 4.27651852385255, phi = 6.066345493369977)), (\"R\", 2, (theta = 5.376833895091317, phi = 0.5056402815352872)), (\"R\", 3, (theta = 1.938464230770031, phi = 4.889799269025343)), (\"R\", 4, (theta = 1.5896028937616957, phi = 1.7432802610956266))]\n",
       " [(\"X\", 1)]\n",
       " [(\"M\", (2, 3), (Theta = 2.899897617301413,))]\n",
       " [(\"R\", 1, (theta = 5.653963111907691, phi = 3.472163301961133)), (\"R\", 2, (theta = 2.0132044941051257, phi = 0.0029485135377043136)), (\"R\", 3, (theta = 1.853456927190203, phi = 3.8642771096522157)), (\"R\", 4, (theta = 4.273196574818118, phi = 0.873861406450702))]\n",
       " [(\"M\", (1, 2), (Theta = 4.376240995150211,)), (\"M\", (3, 4), (Theta = 4.634050348093994,))]"
      ]
     },
     "execution_count": 63,
     "metadata": {},
     "output_type": "execute_result"
    }
   ],
   "source": [
    "# gates = Vector{Tuple}[]\n",
    "\n",
    "# for i in 1:depth\n",
    "#     one_qubit_layer = Tuple[]\n",
    "#     two_qubit_layer = Tuple[]\n",
    "\n",
    "#     for j in 1:N\n",
    "#         gate = (\"R\", j, (theta=2pi*rand(), phi=2pi*rand()))\n",
    "#         push!(one_qubit_layer, gate)\n",
    "#     end\n",
    "\n",
    "#     # Alternate start qubit for pairs.\n",
    "#     idx_first = i % 2 + 1\n",
    "\n",
    "#     for j in idx_first:2:(N-1)\n",
    "#         gate = (\"M\", (j, j+1), (Theta=2pi*rand(),))\n",
    "#         push!(two_qubit_layer, gate)\n",
    "#     end\n",
    "\n",
    "#     push!(gates, one_qubit_layer)\n",
    "#     push!(gates, two_qubit_layer)\n",
    "# end\n",
    "\n",
    "# insert!(gates,(abs(rand(Int)) % size(gates)[1] + 1),[(\"X\",(abs(rand(Int)) % N) + 1)])\n",
    "\n",
    "# @show gates\n",
    "# # psi = runcircuit(N, gates)"
   ]
  },
  {
   "cell_type": "code",
   "execution_count": 47,
   "id": "62206501",
   "metadata": {},
   "outputs": [
    {
     "data": {
      "text/plain": [
       "4"
      ]
     },
     "execution_count": 47,
     "metadata": {},
     "output_type": "execute_result"
    }
   ],
   "source": [
    "size(gates)[1]"
   ]
  },
  {
   "cell_type": "code",
   "execution_count": 23,
   "id": "b5360bbe",
   "metadata": {},
   "outputs": [
    {
     "data": {
      "text/plain": [
       "6-element Vector{Int64}:\n",
       " 6\n",
       " 5\n",
       " 4\n",
       " 2\n",
       " 1\n",
       " 3"
      ]
     },
     "execution_count": 23,
     "metadata": {},
     "output_type": "execute_result"
    }
   ],
   "source": [
    "insert!([6, 5, 4, 2, 1], 6, 3)"
   ]
  },
  {
   "cell_type": "code",
   "execution_count": 46,
   "id": "375d565e",
   "metadata": {},
   "outputs": [
    {
     "name": "stdout",
     "output_type": "stream",
     "text": [
      "8386549061917812123\n",
      "3"
     ]
    }
   ],
   "source": [
    "rand_n = abs(rand(Int))\n",
    "print(rand_n,\"\\n\")\n",
    "print(rand_n % N)"
   ]
  },
  {
   "cell_type": "code",
   "execution_count": 39,
   "id": "7aa5c13c",
   "metadata": {},
   "outputs": [
    {
     "data": {
      "text/plain": [
       "4"
      ]
     },
     "execution_count": 39,
     "metadata": {},
     "output_type": "execute_result"
    }
   ],
   "source": [
    "N"
   ]
  },
  {
   "cell_type": "code",
   "execution_count": null,
   "id": "8d87f464",
   "metadata": {},
   "outputs": [],
   "source": []
  },
  {
   "cell_type": "code",
   "execution_count": 8,
   "id": "57ccb746",
   "metadata": {},
   "outputs": [
    {
     "data": {
      "text/plain": [
       "16-element Vector{Float64}:\n",
       " 0.04855434084980573\n",
       " 0.048216454259640405\n",
       " 0.0640561428574693\n",
       " 0.07680746277814196\n",
       " 0.023534958242400712\n",
       " 0.013385168652762226\n",
       " 0.016912166254947122\n",
       " 0.030072245965383382\n",
       " 0.04065246809563592\n",
       " 0.08846897800151336\n",
       " 0.09630534074064248\n",
       " 0.0676880397011605\n",
       " 0.07096925432198599\n",
       " 0.11388163733347585\n",
       " 0.11486232422691828\n",
       " 0.08563301771811739"
      ]
     },
     "execution_count": 8,
     "metadata": {},
     "output_type": "execute_result"
    }
   ],
   "source": [
    "pr"
   ]
  },
  {
   "cell_type": "code",
   "execution_count": 9,
   "id": "9dcc86fc",
   "metadata": {},
   "outputs": [
    {
     "data": {
      "image/png": "[encoded data removed]",
      "text/plain": [
       "Figure(PyObject <Figure size 640x480 with 1 Axes>)"
      ]
     },
     "metadata": {},
     "output_type": "display_data"
    },
    {
     "data": {
      "image/png": "[encoded data removed]",
      "text/plain": [
       "Figure(PyObject <Figure size 640x480 with 1 Axes>)"
      ]
     },
     "execution_count": 9,
     "metadata": {},
     "output_type": "execute_result"
    }
   ],
   "source": [
    "using PyPlot\n",
    "for i in 0:2^N-1\n",
    "    scatter(i,0,color=\"red\",linewidth=40.0*pr[i+1])\n",
    "end\n",
    "axis(\"off\")\n",
    "fig = gcf()"
   ]
  },
  {
   "cell_type": "code",
   "execution_count": 10,
   "id": "941c84b2",
   "metadata": {},
   "outputs": [
    {
     "data": {
      "image/png": "[encoded data removed]",
      "text/plain": [
       "Figure(PyObject <Figure size 640x480 with 1 Axes>)"
      ]
     },
     "metadata": {},
     "output_type": "display_data"
    }
   ],
   "source": [
    "display(fig)"
   ]
  },
  {
   "cell_type": "code",
   "execution_count": 11,
   "id": "e62f666c",
   "metadata": {},
   "outputs": [
    {
     "data": {
      "image/png": "[encoded data removed]",
      "text/plain": [
       "Figure(PyObject <Figure size 640x480 with 1 Axes>)"
      ]
     },
     "metadata": {},
     "output_type": "display_data"
    },
    {
     "data": {
      "image/png": "[encoded data removed]",
      "text/plain": [
       "Figure(PyObject <Figure size 640x480 with 1 Axes>)"
      ]
     },
     "execution_count": 11,
     "metadata": {},
     "output_type": "execute_result"
    }
   ],
   "source": [
    "for i in 0:2^N-1\n",
    "    scatter(i,0,color=\"red\",linewidth=30.0*pr[i+1])\n",
    "end\n",
    "axis(\"off\")\n",
    "fig2 = gcf()"
   ]
  },
  {
   "cell_type": "code",
   "execution_count": 12,
   "id": "b9d0802b",
   "metadata": {},
   "outputs": [
    {
     "data": {
      "text/plain": [
       "(Figure(PyObject <Figure size 640x480 with 1 Axes>), Figure(PyObject <Figure size 640x480 with 1 Axes>))"
      ]
     },
     "execution_count": 12,
     "metadata": {},
     "output_type": "execute_result"
    }
   ],
   "source": [
    "fig,fig2"
   ]
  },
  {
   "cell_type": "code",
   "execution_count": 13,
   "id": "181ced33",
   "metadata": {},
   "outputs": [
    {
     "data": {
      "image/png": "[encoded data removed]",
      "text/plain": [
       "Figure(PyObject <Figure size 1000x1000 with 2 Axes>)"
      ]
     },
     "metadata": {},
     "output_type": "display_data"
    },
    {
     "data": {
      "image/png": "[encoded data removed]",
      "text/plain": [
       "Figure(PyObject <Figure size 1000x1000 with 2 Axes>)"
      ]
     },
     "execution_count": 13,
     "metadata": {},
     "output_type": "execute_result"
    }
   ],
   "source": [
    "ioff() # Interactive plotting OFF, necessary for inline plotting in IJulia\n",
    "subfig = figure(\"pyplot_subplot_mixed\",figsize=(10,10)) # Create a new blank figure\n",
    "subplot(211) # Create the 1st axis of a 2x2 arrax of axes\n",
    "for i in 0:2^N-1\n",
    "    scatter(i,0,color=\"red\",linewidth=40.0*pr[i+1])\n",
    "end\n",
    "axis(\"off\")\n",
    "subplot(212) # Create the 1st axis of a 2x2 arrax of axes\n",
    "for i in 0:2^N-1\n",
    "    scatter(i,0,color=\"blue\",linewidth=30.0*pr[i+1])\n",
    "end\n",
    "axis(\"off\")\n",
    "gcf()"
   ]
  },
  {
   "cell_type": "code",
   "execution_count": 77,
   "id": "5c11b693",
   "metadata": {},
   "outputs": [
    {
     "data": {
      "image/png": "[encoded data removed]",
      "text/plain": [
       "Figure(PyObject <Figure size 640x480 with 1 Axes>)"
      ]
     },
     "metadata": {},
     "output_type": "display_data"
    },
    {
     "data": {
      "image/png": "[encoded data removed]",
      "text/plain": [
       "Figure(PyObject <Figure size 640x480 with 1 Axes>)"
      ]
     },
     "metadata": {},
     "output_type": "display_data"
    }
   ],
   "source": [
    "for i in 0:2^N-1\n",
    "    scatter(i,0,color=\"red\",linewidth=40.0*pr[i+1])\n",
    "end\n",
    "axis(\"off\")\n",
    "fig1 = gcf()\n",
    "# for i in 0:2^N-1\n",
    "#     scatter(i,0,color=\"blue\",linewidth=30.0*pr[i+1])\n",
    "# end\n",
    "# axis(\"off\")\n",
    "fig2 = gcf()\n",
    "display(fig1)"
   ]
  },
  {
   "cell_type": "code",
   "execution_count": 82,
   "id": "2f4fdf09",
   "metadata": {},
   "outputs": [
    {
     "data": {
      "image/png": "[encoded data removed]",
      "text/plain": [
       "Figure(PyObject <Figure size 1000x1000 with 5 Axes>)"
      ]
     },
     "metadata": {},
     "output_type": "display_data"
    },
    {
     "data": {
      "image/png": "[encoded data removed]",
      "text/plain": [
       "Figure(PyObject <Figure size 1000x1000 with 5 Axes>)"
      ]
     },
     "execution_count": 82,
     "metadata": {},
     "output_type": "execute_result"
    }
   ],
   "source": [
    "N = 4\n",
    "depth = 10\n",
    "\n",
    "ψ = run(N, depth)\n",
    "# @show ψ\n",
    "\n",
    "pr = Vector{Float64}(undef,2^N)\n",
    "for i in 1:2^N\n",
    "    temp_psi = x_mps(N,i-1)\n",
    "    pr[i]= real(inner(temp_psi,ψ)*inner(temp_psi,ψ)')\n",
    "end\n",
    "# @show pr\n",
    "\n",
    "subfig = figure(\"pyplot_subplot_mixed\",figsize=(10,10)) # Create a new blank figure\n",
    "subplot(511)\n",
    "for i in 0:2^N-1\n",
    "    scatter(i,0,color=\"red\",linewidth=40.0*pr[i+1])\n",
    "end\n",
    "axis(\"off\")\n",
    "\n",
    "\n",
    "subplot(512)\n",
    "ψ = run(N, depth)\n",
    "for i in 1:2^N\n",
    "    temp_psi = x_mps(N,i-1)\n",
    "    pr[i]= real(inner(temp_psi,ψ)*inner(temp_psi,ψ)')\n",
    "end\n",
    "for i in 0:2^N-1\n",
    "    scatter(i,0,color=\"red\",linewidth=40.0*pr[i+1])\n",
    "end\n",
    "axis(\"off\")\n",
    "\n",
    "subplot(513)\n",
    "ψ = run(N, depth)\n",
    "for i in 1:2^N\n",
    "    temp_psi = x_mps(N,i-1)\n",
    "    pr[i]= real(inner(temp_psi,ψ)*inner(temp_psi,ψ)')\n",
    "end\n",
    "for i in 0:2^N-1\n",
    "    scatter(i,0,color=\"red\",linewidth=40.0*pr[i+1])\n",
    "end\n",
    "axis(\"off\")\n",
    "\n",
    "subplot(514)\n",
    "ψ = run(N, depth)\n",
    "for i in 1:2^N\n",
    "    temp_psi = x_mps(N,i-1)\n",
    "    pr[i]= real(inner(temp_psi,ψ)*inner(temp_psi,ψ)')\n",
    "end\n",
    "for i in 0:2^N-1\n",
    "    scatter(i,0,color=\"red\",linewidth=40.0*pr[i+1])\n",
    "end\n",
    "axis(\"off\")\n",
    "\n",
    "subplot(515)\n",
    "ψ = run(N, depth)\n",
    "for i in 1:2^N\n",
    "    temp_psi = x_mps(N,i-1)\n",
    "    pr[i]= real(inner(temp_psi,ψ)*inner(temp_psi,ψ)')\n",
    "end\n",
    "for i in 0:2^N-1\n",
    "    scatter(i,0,color=\"red\",linewidth=40.0*pr[i+1])\n",
    "end\n",
    "axis(\"off\")\n",
    "\n",
    "\n",
    "gcf()"
   ]
  },
  {
   "cell_type": "code",
   "execution_count": 67,
   "id": "78818d04",
   "metadata": {},
   "outputs": [
    {
     "name": "stdout",
     "output_type": "stream",
     "text": [
      "UnitRange{Int64}[1:5]repeat_l = UnitRange{Int64}[1:5]\n"
     ]
    },
    {
     "data": {
      "text/plain": [
       "1-element Vector{UnitRange{Int64}}:\n",
       " 1:5"
      ]
     },
     "execution_count": 67,
     "metadata": {},
     "output_type": "execute_result"
    }
   ],
   "source": [
    "repeat = 5\n",
    "repeat_l = [1:repeat]\n",
    "print(repeat_l)\n",
    "@show repeat_l"
   ]
  },
  {
   "cell_type": "code",
   "execution_count": null,
   "id": "880dd037",
   "metadata": {},
   "outputs": [],
   "source": []
  }
 ],
 "metadata": {
  "kernelspec": {
   "display_name": "Julia 1.6.1",
   "language": "julia",
   "name": "julia-1.6"
  },
  "language_info": {
   "file_extension": ".jl",
   "mimetype": "application/julia",
   "name": "julia",
   "version": "1.6.1"
  }
 },
 "nbformat": 4,
 "nbformat_minor": 5
}
