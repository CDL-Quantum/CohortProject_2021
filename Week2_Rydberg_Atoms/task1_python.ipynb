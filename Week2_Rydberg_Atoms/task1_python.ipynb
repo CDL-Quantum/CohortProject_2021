{
 "cells": [
  {
   "cell_type": "code",
   "execution_count": 1,
   "metadata": {
    "collapsed": true
   },
   "outputs": [],
   "source": [
    "import numpy as np\n",
    "import matplotlib.pyplot as plt\n",
    "import abc\n",
    "from shapely.geometry import Polygon\n",
    "import time\n",
    "import networkx as nx\n",
    "%matplotlib inline"
   ]
  },
  {
   "cell_type": "code",
   "execution_count": 2,
   "metadata": {},
   "outputs": [],
   "source": [
    "class AbstractUDMIS(abc.ABC):\n",
    "    @abc.abstractmethod\n",
    "    def energy(self):\n",
    "        \"\"\"Returns the energy of the current Rydberg occupation configuration\"\"\"\n",
    "\n",
    "    @abc.abstractmethod\n",
    "    def energy_diff(self, *coords):\n",
    "        \"\"\"Returns the energy difference resulting from flipping the occupation at the given coordinates\"\"\"\n",
    "        \n",
    "    @abc.abstractmethod\n",
    "    def rand_vertex(self):\n",
    "        \"\"\"Selects a site in the graph at random\"\"\"\n",
    "    \n",
    "    def mc_step(self, T):\n",
    "        \"\"\"Performs a full update of the Rydberg model using the Metropolis-Hastings algorithm\"\"\"\n",
    "        current_energy = self.energy()\n",
    "        for _ in range(self.num_vertices):\n",
    "            vertex = self.rand_vertex()\n",
    "            dE = self.energy_diff(vertex)\n",
    "            \n",
    "            if (dE < 0) or (np.random.rand() < np.exp(-dE / T)):\n",
    "                current_energy += dE\n",
    "                self.occupations[vertex] ^= 1 \n",
    "                # flips occupation 0 --> 1 OR 1 --> 0\n",
    "\n",
    "        return current_energy\n",
    "    \n",
    "    \n",
    "    \n",
    "    def mc_step_wolf(self, T):\n",
    "        \"\"\"Performs a full update of the Rydberg model using the Metropolis-Hastings algorithm\"\"\"\n",
    "        current_energy = self.energy()\n",
    "        for _ in range(self.num_vertices):\n",
    "            vertex = self.rand_vertex()\n",
    "            vertex2 = vertex - 2\n",
    "            dE = self.energy_diff(vertex)\n",
    "\n",
    "            if (dE < 0) or (np.random.rand() < np.exp(-dE / T)):\n",
    "                current_energy += dE\n",
    "                self.occupations[vertex] ^= 1 \n",
    "                if (vertex > 2):\n",
    "                    if (self.occupations[vertex] == 1) & ((self.occupations[vertex2] == 0)):\n",
    "                        self.occupations[vertex2] == 1 \n",
    "                    elif (self.occupations[vertex] == 0) & ((self.occupations[vertex2] == 1)):\n",
    "                        self.occupations[vertex2] == 0\n",
    "\n",
    "                # flips occupation 0 --> 1 OR 1 --> 0\n",
    "\n",
    "        return current_energy"
   ]
  },
  {
   "cell_type": "code",
   "execution_count": 3,
   "metadata": {
    "collapsed": true
   },
   "outputs": [],
   "source": [
    "class UDMIS(AbstractUDMIS):\n",
    "    def __init__(self, u, graph):\n",
    "        super().__init__()\n",
    "        self.u, self.graph = u, graph\n",
    "        self.num_vertices = len(self.graph)\n",
    "        print(self.num_vertices)\n",
    "        # initialize system at infinite temperature\n",
    "        # i.e. vertices are completely random and uncorrelated\n",
    "        self.occupations = np.random.rand(self.num_vertices) < 0.5\n",
    "        self.edges = self.find_edges()\n",
    "    \n",
    "    def find_edges(self):\n",
    "        #num_pairs = int(self.num_vertices*(self.num_vertices)*0.5)\n",
    "        edges = np.zeros((self.num_vertices, self.num_vertices), dtype=bool)\n",
    "        \n",
    "        for i in range(self.num_vertices-1):\n",
    "            x_i, y_i = graph[i] # these are the x, y coordinates of the i'th vertex in the graph\n",
    "            for j in range(i+1, self.num_vertices):\n",
    "                x_j, y_j = graph[j] # these are the x, y coordinates of the j'th vertex in the graph\n",
    "                \n",
    "                # calculate the distance between vertices\n",
    "                dij = np.sqrt((x_i - x_j)**2. + (y_i - y_j)**2.)\n",
    "                if dij <= 1.0:\n",
    "                    edges[i,j] = True\n",
    "                    edges[j,i] = True\n",
    "                    \n",
    "        return edges\n",
    "        \n",
    "    def energy(self):\n",
    "        \"\"\"Returns the energy of the current spin configuration\"\"\"\n",
    "        # interaction term\n",
    "        interaction_term = 0\n",
    "        vertex_term = 0\n",
    "        for i in range(self.num_vertices-1):\n",
    "            for j in range(i+1, self.num_vertices):\n",
    "                \n",
    "                # check if there is an edge\n",
    "                if self.edges[i,j]:\n",
    "                    interaction_term += self.occupations[i]*self.occupations[j]\n",
    "                \n",
    "            vertex_term += self.occupations[i]\n",
    "        \n",
    "        # missed the last vertex\n",
    "        vertex_term += self.occupations[self.num_vertices-1]\n",
    "    \n",
    "        return u*interaction_term - vertex_term\n",
    "\n",
    "    def energy_diff(self, i):\n",
    "        connections = np.where(self.edges[i,:])[0]\n",
    "        num_adjacent_occupied = sum(self.occupations[connections])\n",
    "        \n",
    "        if self.occupations[i] == 1:\n",
    "            # flipping an occupied vertex increases the vertex term, decreases the interaction term\n",
    "            vertex_term_change = 1.\n",
    "            interaction_term_change = -u*num_adjacent_occupied\n",
    "        \n",
    "        elif self.occupations[i] == 0:\n",
    "            # flipping an unoccupied vertex decreases the vertex term, increases the interaction term\n",
    "            vertex_term_change = -1.\n",
    "            interaction_term_change = u*num_adjacent_occupied \n",
    "\n",
    "        return interaction_term_change + vertex_term_change\n",
    "    \n",
    "    def rand_vertex(self):\n",
    "        \"\"\"Selects a site in the graph at random\"\"\"\n",
    "        return np.random.randint(self.num_vertices)  "
   ]
  },
  {
   "cell_type": "code",
   "execution_count": 4,
   "metadata": {},
   "outputs": [
    {
     "name": "stdout",
     "output_type": "stream",
     "text": [
      "6\n"
     ]
    }
   ],
   "source": [
    "u = 2\n",
    "\n",
    "graph = [(0.3461717838632017, 1.4984640297338632), \n",
    "         (0.6316400411846113, 2.5754677320579895), \n",
    "         (1.3906262250927481, 2.164978861396621), \n",
    "         (0.66436005100802, 0.6717919819739032), \n",
    "         (0.8663329771713457, 3.3876341010035995), \n",
    "         (1.1643107343501296, 1.0823066243402013)\n",
    "        ]\n",
    "\n",
    "udmis = UDMIS(u, graph)"
   ]
  },
  {
   "cell_type": "code",
   "execution_count": 5,
   "metadata": {},
   "outputs": [],
   "source": [
    "# pgon = Polygon(zip([item[0] for item in graph], [item[1] for item in graph]))\n",
    "\n",
    "# print(pgon.area)"
   ]
  },
  {
   "cell_type": "code",
   "execution_count": 6,
   "metadata": {},
   "outputs": [
    {
     "name": "stdout",
     "output_type": "stream",
     "text": [
      "1100 -1.0 [False  True False False  True  True]\n",
      "1200 -1.0 [False  True False False  True  True]\n",
      "1300 -2.0 [False False  True  True False False]\n",
      "1400 2.0 [ True False False  True  True  True]\n",
      "1500 -2.0 [ True False False False  True False]\n",
      "1600 0.0 [False  True False False  True False]\n",
      "1700 -2.0 [False False  True False False  True]\n",
      "1800 0.0 [ True  True  True False False  True]\n",
      "1900 -1.0 [False False False  True False False]\n",
      "2000 -1.0 [False False  True False False False]\n",
      "2100 -1.0 [False  True  True  True False False]\n",
      "2200 1.0 [False  True  True  True  True  True]\n",
      "2300 -1.0 [False  True False  True False  True]\n",
      "2400 -2.0 [False False  True  True False False]\n",
      "2500 0.0 [False  True  True  True  True False]\n",
      "2600 -1.0 [False False  True  True False  True]\n",
      "2700 -2.0 [False False False False  True  True]\n",
      "2800 -2.0 [False False  True False  True False]\n",
      "2900 -2.0 [False False False  True  True False]\n",
      "3000 -2.0 [ True False  True  True  True False]\n",
      "3100 -2.0 [False False False False  True  True]\n",
      "3200 -1.0 [ True False False  True  True False]\n",
      "3300 -1.0 [False False False False False  True]\n",
      "3400 -1.0 [False  True  True  True False False]\n",
      "3500 -1.0 [ True  True False False False  True]\n",
      "3600 -1.0 [ True  True False  True False False]\n",
      "3700 -1.0 [False False False False  True False]\n",
      "3800 -2.0 [ True  True False False False False]\n",
      "3900 -3.0 [ True False  True False  True False]\n",
      "4000 -2.0 [False  True False  True False False]\n",
      "4100 0.0 [ True  True  True  True False False]\n",
      "4200 -1.0 [False False  True False False False]\n",
      "4300 0.0 [ True False False False False  True]\n",
      "4400 -1.0 [False False False  True  True  True]\n",
      "4500 1.0 [ True False  True  True  True  True]\n",
      "4600 -2.0 [False False  True False  True False]\n",
      "4700 -1.0 [False False False False  True False]\n",
      "4800 -3.0 [False False  True  True  True False]\n",
      "4900 -1.0 [False  True False  True False  True]\n",
      "5000 -1.0 [False  True  True  True False False]\n",
      "5100 -1.0 [False False False False  True False]\n",
      "5200 -1.0 [ True False False  True  True False]\n",
      "5300 -2.0 [ True False False False  True False]\n",
      "5400 -2.0 [ True False False False  True False]\n",
      "5500 -1.0 [False False False  True  True  True]\n",
      "5600 -1.0 [ True  True False False False  True]\n",
      "5700 -3.0 [False False  True False  True  True]\n",
      "5800 -2.0 [ True False False False  True False]\n",
      "5900 -2.0 [ True False  True False False False]\n",
      "6000 -2.0 [False  True False  True False False]\n",
      "6100 -3.0 [False False  True  True  True False]\n",
      "6200 -3 [False False  True False  True  True]\n",
      "6300 -2 [ True False False False  True False]\n",
      "6400 -3 [False False  True False  True  True]\n",
      "--- 1.6497318744659424 seconds ---\n"
     ]
    }
   ],
   "source": [
    "N = 10000\n",
    "t = np.arange(N+1)\n",
    "T_i = 10000\n",
    "T_f = 0.001\n",
    "\n",
    "T = T_i * ((T_f/T_i) ** (t/N))\n",
    "\n",
    "E_list = []\n",
    "\n",
    "start_time = time.time()\n",
    "\n",
    "for t in range(N):\n",
    "    # take a look at the abstract_udmis.py file to see how mc_step works\n",
    "    temp = T[t]\n",
    "    \n",
    "    E_list.append(udmis.mc_step(T=temp))\n",
    "\n",
    "    if t > N*0.1:\n",
    "\n",
    "        if t % 100 == 0:\n",
    "            print(t, E_list[t], udmis.occupations)\n",
    "            \n",
    "            if (E_list[t] == E_list[t-1])&(E_list[t-1] == E_list[t-2])&(E_list[t] <= min(E_list)):\n",
    "                #print(E_list)\n",
    "                break\n",
    "    \n",
    "print(\"--- %s seconds ---\" % (time.time() - start_time))"
   ]
  },
  {
   "cell_type": "code",
   "execution_count": 7,
   "metadata": {},
   "outputs": [
    {
     "name": "stdout",
     "output_type": "stream",
     "text": [
      "1100 -1.0 [ True  True  True False False False]\n",
      "1200 0.0 [False  True  True  True  True False]\n",
      "1300 -1.0 [False False  True False False False]\n",
      "1400 -3.0 [False False  True  True  True False]\n",
      "1500 -1.0 [False  True False  True False  True]\n",
      "1600 -1.0 [False False False False False  True]\n",
      "1700 1.0 [False  True  True False  True False]\n",
      "1800 0.0 [False  True  True False False False]\n",
      "1900 0.0 [ True False False False False  True]\n",
      "2000 1.0 [ True  True  True False  True  True]\n",
      "2100 -2.0 [ True  True False False False False]\n",
      "2200 1.0 [False  True  True  True  True  True]\n",
      "2300 -2.0 [False  True False  True False False]\n",
      "2400 0.0 [ True  True  True False False  True]\n",
      "2500 2.0 [ True False False  True  True  True]\n",
      "2600 -2.0 [False  True False  True False False]\n",
      "2700 -2.0 [ True False  True False False False]\n",
      "2800 -2.0 [False  True False  True False False]\n",
      "2900 -1.0 [False  True False  True  True False]\n",
      "3000 -2.0 [ True  True False False False False]\n",
      "3100 -1.0 [ True  True False False False  True]\n",
      "3200 -1.0 [False  True  True  True False False]\n",
      "3300 0.0 [ True  True False False  True  True]\n",
      "3400 -1.0 [False False False  True False False]\n",
      "3500 -1.0 [ True  True False  True False False]\n",
      "3600 -1.0 [ True False False False False False]\n",
      "3700 1.0 [ True  True  True  True  True False]\n",
      "3800 -2.0 [False False  True False False  True]\n",
      "3900 -1.0 [ True  True False False False  True]\n",
      "4000 -1.0 [ True  True False False False  True]\n",
      "4100 2.0 [ True False False  True  True  True]\n",
      "4200 -1.0 [False  True  True  True False False]\n",
      "4300 3.0 [ True  True False  True  True  True]\n",
      "4400 0.0 [False False False False False False]\n",
      "4500 0.0 [False  True  True  True  True False]\n",
      "4600 -2.0 [False False  True False False  True]\n",
      "4700 0.0 [ True False False  True False False]\n",
      "4800 -2.0 [ True False  True False  True  True]\n",
      "4900 -1.0 [ True  True  True False False False]\n",
      "5000 -2.0 [ True False  True False False False]\n",
      "5100 -2.0 [ True  True False False False False]\n",
      "5200 -2.0 [ True False  True False False False]\n",
      "5300 -3.0 [ True False  True False  True False]\n",
      "5400 -1.0 [ True False False False False False]\n",
      "5500 -1.0 [False  True False False False False]\n",
      "5600 -1.0 [False False False  True  True  True]\n",
      "5700 -1.0 [False  True False  True  True False]\n",
      "5800 -2.0 [False False  True False  True False]\n",
      "5900 -2.0 [False False  True False False  True]\n",
      "6000 -3 [False False  True  True  True False]\n",
      "--- 1.6621100902557373 seconds ---\n"
     ]
    }
   ],
   "source": [
    "N = 10000\n",
    "t = np.arange(N+1)\n",
    "T_i = 10000\n",
    "T_f = 0.001\n",
    "\n",
    "T = T_i * ((T_f/T_i) ** (t/N))\n",
    "\n",
    "E_list2 = []\n",
    "\n",
    "start_time = time.time()\n",
    "for t in range(N):\n",
    "    # take a look at the abstract_udmis.py file to see how mc_step works\n",
    "    temp = T[t]\n",
    "    \n",
    "    E_list2.append(udmis.mc_step_wolf(T=temp))\n",
    "\n",
    "    if t > N*0.1:\n",
    "\n",
    "        if t % 100 == 0:\n",
    "            print(t, E_list2[t], udmis.occupations)\n",
    "            \n",
    "            if (E_list2[t] == E_list2[t-1])&(E_list2[t-1] == E_list2[t-2])&(E_list2[t] <= min(E_list2)):\n",
    "                #print(E_list)\n",
    "                break\n",
    "    \n",
    "print(\"--- %s seconds ---\" % (time.time() - start_time))"
   ]
  },
  {
   "cell_type": "code",
   "execution_count": 8,
   "metadata": {
    "collapsed": true
   },
   "outputs": [],
   "source": [
    "plt.rcParams[\"figure.figsize\"] = (13,6)"
   ]
  },
  {
   "cell_type": "code",
   "execution_count": 9,
   "metadata": {},
   "outputs": [
    {
     "data": {
      "image/png": "[encoded data removed]",
      "text/plain": [
       "<Figure size 936x432 with 1 Axes>"
      ]
     },
     "metadata": {},
     "output_type": "display_data"
    }
   ],
   "source": [
    "plt.scatter([i for i in range(len(E_list))], E_list)\n",
    "plt.xlabel('Iteration')\n",
    "plt.ylabel('Energy')\n",
    "plt.title(\"Iterations taken to Reach Ground State\");"
   ]
  },
  {
   "cell_type": "code",
   "execution_count": 10,
   "metadata": {},
   "outputs": [
    {
     "data": {
      "image/png": "[encoded data removed]",
      "text/plain": [
       "<Figure size 936x432 with 1 Axes>"
      ]
     },
     "metadata": {},
     "output_type": "display_data"
    }
   ],
   "source": [
    "plt.scatter([i for i in range(len(E_list2))], E_list2)\n",
    "plt.ylim(-3.5)\n",
    "plt.xlabel('Iteration')\n",
    "plt.ylabel('Energy')\n",
    "plt.title(\"Iterations taken to Reach Ground State\");"
   ]
  },
  {
   "cell_type": "code",
   "execution_count": 11,
   "metadata": {
    "collapsed": true
   },
   "outputs": [],
   "source": [
    "def get_edges(graph):\n",
    "    Nv = len(graph)\n",
    "    edges = np.zeros((Nv, Nv))\n",
    "    for i in range(Nv - 1):\n",
    "        xi, yi = graph[i]\n",
    "        for j in range(i + 1, Nv):\n",
    "            xj, yj = graph[j]\n",
    "            dij = np.sqrt((xi - xj) ** 2. + (yi - yj) ** 2.)\n",
    "            if dij <= 1.0:\n",
    "                edges[i, j] = 1\n",
    "    return np.argwhere(edges == 1)"
   ]
  },
  {
   "cell_type": "code",
   "execution_count": 12,
   "metadata": {},
   "outputs": [],
   "source": [
    "edges = get_edges(graph)\n",
    "G = nx.Graph()\n",
    "for edge in edges:\n",
    "    G.add_edge(edge[0], edge[1])"
   ]
  },
  {
   "cell_type": "code",
   "execution_count": 13,
   "metadata": {},
   "outputs": [
    {
     "data": {
      "image/png": "[encoded data removed]",
      "text/plain": [
       "<Figure size 936x432 with 1 Axes>"
      ]
     },
     "metadata": {},
     "output_type": "display_data"
    }
   ],
   "source": [
    "pos = nx.circular_layout(G)\n",
    "nx.draw(G, pos=pos)"
   ]
  },
  {
   "cell_type": "code",
   "execution_count": null,
   "metadata": {
    "collapsed": true
   },
   "outputs": [],
   "source": []
  }
 ],
 "metadata": {
  "kernelspec": {
   "display_name": "Python 3",
   "language": "python",
   "name": "python3"
  },
  "language_info": {
   "codemirror_mode": {
    "name": "ipython",
    "version": 3
   },
   "file_extension": ".py",
   "mimetype": "text/x-python",
   "name": "python",
   "nbconvert_exporter": "python",
   "pygments_lexer": "ipython3",
   "version": "3.6.3"
  }
 },
 "nbformat": 4,
 "nbformat_minor": 2
}
