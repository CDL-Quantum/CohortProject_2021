{
 "cells": [
  {
   "cell_type": "markdown",
   "id": "53077483",
   "metadata": {},
   "source": [
    "# Cohort Project 2021: Rydberg Atoms; Task 3\n",
    "\n",
    "This notebook provides a solution for the \"Rydberg\" project (week 2) for the CDL cohort project of 2021. See the original Github repositiory [here](https://github.com/CDL-Quantum/CohortProject_2021).\n",
    "\n",
    "## Instructions\n",
    "This notebook has been designed to be used in a google colab environment which runs jupyter notebooks\n",
    "\n",
    "For this task we will be looking at three different solutions to the Gotham City problem. The first way is using the classical optimization method from Task 1. I have gone ahead and copied the code from Task 1 into this notebook, as that will be our starting point."
   ]
  },
  {
   "cell_type": "markdown",
   "id": "23cb8d9a",
   "metadata": {},
   "source": [
    "### Problem Statement\n",
    "The City of Gotham is looking at putting in new cell phone towers. The possible locations of the\n",
    "cell phone towers are given in Fig. 2. The billionaire Bruce Wayne is funding the project and he\n",
    "loves his money. Therefore, Gotham should only purchase the required number of cell phone towers\n",
    "such that 1) the cell phone tower signal ranges do not overlap7\n",
    ", and 2) as much of Gotham City\n",
    "can be within cell signal range"
   ]
  },
  {
   "cell_type": "markdown",
   "id": "3339decb",
   "metadata": {},
   "source": [
    "### 1. Explain why this is a problem that can be easily mapped to the UD-MIS problem.\n",
    "\n",
    "A UD-MIS"
   ]
  },
  {
   "cell_type": "code",
   "execution_count": 1,
   "id": "ea03dad2",
   "metadata": {},
   "outputs": [],
   "source": [
    "import numpy as np\n",
    "import scipy as sc\n",
    "from scipy.sparse import linalg\n",
    "import matplotlib.pyplot as plt\n",
    "import networkx as nx\n",
    "from abstract_udmis import AbstractUDMIS\n",
    "import openfermion as of\n",
    "import qiskit as qis\n",
    "\n",
    "%matplotlib inline"
   ]
  },
  {
   "cell_type": "code",
   "execution_count": 2,
   "id": "e1795c7c",
   "metadata": {},
   "outputs": [],
   "source": [
    "try:\n",
    "    import cirq\n",
    "except ImportError:\n",
    "    print(\"installing cirq...\")\n",
    "    !pip install --quiet cirq\n",
    "    print(\"installed cirq.\")"
   ]
  },
  {
   "cell_type": "code",
   "execution_count": 3,
   "id": "25ce2f29",
   "metadata": {},
   "outputs": [],
   "source": [
    "# Functions for drawing Graphs\n",
    "\n",
    "def draw_graph_state(graph,occupations, ax):\n",
    "    G = nx.from_numpy_array(graph.edges)\n",
    "    graph_np = np.array(graph.graph)\n",
    "    x_vals = graph_np[:,0]\n",
    "    y_vals = graph_np[:,1]\n",
    "\n",
    "    colormap = []\n",
    "    for x,y,occ in zip(x_vals,y_vals,occupations):\n",
    "        color = 'red' if occ else 'black'\n",
    "        colormap.append(color)\n",
    "        circle = plt.Circle((x,y), 0.5, color='gray', alpha=0.1)\n",
    "        ax.add_patch(circle)\n",
    "\n",
    "    nx.draw(G, pos=graph.graph, node_color=colormap, edge_color='b',ax=ax)\n",
    "    ax.axis('equal')"
   ]
  },
  {
   "cell_type": "code",
   "execution_count": 4,
   "id": "1b66ab33",
   "metadata": {},
   "outputs": [],
   "source": [
    "class UDMIS(AbstractUDMIS):\n",
    "    def __init__(self, u, graph):\n",
    "        super().__init__()\n",
    "        self.u, self.graph = u, graph\n",
    "        self.num_vertices = len(self.graph)\n",
    "        # initialize system at infinite temperature\n",
    "        # i.e. vertices are completely random and uncorrelated\n",
    "        self.occupations = np.random.rand(self.num_vertices) < 0.5\n",
    "        self.edges = self.find_edges()\n",
    "    \n",
    "    def find_edges(self):\n",
    "        #num_pairs = int(self.num_vertices*(self.num_vertices)*0.5)\n",
    "        edges = np.zeros((self.num_vertices, self.num_vertices), dtype=bool)\n",
    "        \n",
    "        for i in range(self.num_vertices-1):\n",
    "            x_i, y_i = graph[i] # these are the x, y coordinates of the i'th vertex in the graph\n",
    "            for j in range(i+1, self.num_vertices):\n",
    "                x_j, y_j = graph[j] # these are the x, y coordinates of the j'th vertex in the graph\n",
    "                \n",
    "                # calculate the distance between vertices\n",
    "                dij = np.sqrt((x_i - x_j)**2. + (y_i - y_j)**2.)\n",
    "                if dij <= 1.0:\n",
    "                    edges[i,j] = True\n",
    "                    edges[j,i] = True\n",
    "                    \n",
    "        return edges\n",
    "        \n",
    "    def energy(self):\n",
    "        \"\"\"Returns the energy of the current spin configuration\"\"\"\n",
    "        # interaction term\n",
    "        interaction_term = 0\n",
    "        vertex_term = 0\n",
    "        for i in range(self.num_vertices-1):\n",
    "            for j in range(i+1, self.num_vertices):\n",
    "                \n",
    "                # check if there is an edge\n",
    "                if self.edges[i,j]:\n",
    "                    interaction_term += self.occupations[i]*self.occupations[j]\n",
    "                \n",
    "            vertex_term += self.occupations[i]\n",
    "        \n",
    "        # missed the last vertex\n",
    "        vertex_term += self.occupations[self.num_vertices-1]\n",
    "    \n",
    "        return u*interaction_term - vertex_term\n",
    "\n",
    "    def energy_diff(self, i):\n",
    "        connections = np.where(self.edges[i,:])[0]\n",
    "        num_adjacent_occupied = sum(self.occupations[connections])\n",
    "        \n",
    "        if self.occupations[i] == 1:\n",
    "            # flipping an occupied vertex increases the vertex term, decreases the interaction term\n",
    "            vertex_term_change = 1.\n",
    "            interaction_term_change = -u*num_adjacent_occupied\n",
    "        \n",
    "        elif self.occupations[i] == 0:\n",
    "            # flipping an unoccupied vertex decreases the vertex term, increases the interaction term\n",
    "            vertex_term_change = -1.\n",
    "            interaction_term_change = u*num_adjacent_occupied \n",
    "\n",
    "        return interaction_term_change + vertex_term_change\n",
    "    \n",
    "    def rand_vertex(self):\n",
    "        \"\"\"Selects a site in the graph at random\"\"\"\n",
    "        return np.random.randint(self.num_vertices)        "
   ]
  },
  {
   "cell_type": "code",
   "execution_count": 5,
   "id": "76497fd4",
   "metadata": {},
   "outputs": [
    {
     "data": {
      "image/png": "[encoded data removed]",
      "text/plain": [
       "<Figure size 432x288 with 1 Axes>"
      ]
     },
     "metadata": {},
     "output_type": "display_data"
    }
   ],
   "source": [
    "u = 1.35\n",
    "graph = [(1.19, 4.25),(2.71, 3.48),\n",
    "         (1.19, 3.51),(2, 3.38),\n",
    "         (1.12, 2.86),(1.70, 2.42),\n",
    "         (2.36, 2.54),(1.52, 1.48),\n",
    "         (2.15, 1.54),(2.14, 1.87),\n",
    "         (1.72, 0.86),(2.29, 0.87),\n",
    "        ]\n",
    "\n",
    "udmis = UDMIS(u, graph)\n",
    "N=20000\n",
    "T_i = 100\n",
    "T_f = 0.000001\n",
    "t = np.arange(N+1)\n",
    "T = T_i * ((T_f/T_i) ** (t/N))\n",
    "x = []\n",
    "y = []\n",
    "for t in range(N):\n",
    "    temp = T[t]\n",
    "    E = udmis.mc_step(T=temp)\n",
    "    if t%100 == 0:\n",
    "        x.append(t)\n",
    "        y.append(E)\n",
    "fig, ax = plt.subplots()\n",
    "draw_graph_state(udmis, udmis.occupations, ax)"
   ]
  },
  {
   "cell_type": "code",
   "execution_count": 6,
   "id": "44b1f7ec",
   "metadata": {},
   "outputs": [
    {
     "data": {
      "text/plain": [
       "Text(0.5, 1.0, 'T$_{f}$ = $10^{-6}$ K')"
      ]
     },
     "execution_count": 6,
     "metadata": {},
     "output_type": "execute_result"
    },
    {
     "data": {
      "image/png": "[encoded data removed]",
      "text/plain": [
       "<Figure size 432x288 with 1 Axes>"
      ]
     },
     "metadata": {
      "needs_background": "light"
     },
     "output_type": "display_data"
    }
   ],
   "source": [
    "figure, axis = plt.subplots()\n",
    "axis.plot(x,y)\n",
    "axis.set_title(\"T$_{f}$ = $10^{-6}$ K\")"
   ]
  },
  {
   "cell_type": "code",
   "execution_count": 7,
   "id": "778700cc",
   "metadata": {},
   "outputs": [
    {
     "name": "stdout",
     "output_type": "stream",
     "text": [
      "The energy is : -5.0\n",
      "[ True  True False False  True False False False False  True  True False]\n"
     ]
    }
   ],
   "source": [
    "print(f'The energy is : {y[-1]}')\n",
    "print(udmis.occupations)"
   ]
  },
  {
   "cell_type": "markdown",
   "id": "ba97e256",
   "metadata": {},
   "source": [
    "### PART 2\n",
    "\n",
    "Now we will solve the same proble, this time quantumly. To do this I will rewrite the juilia code that was used in the complete Task 2. The first thing that we will need to do is write the functions that will get the edges as well as the\n",
    "Ω(t) and δ(t) functions from the equation. "
   ]
  },
  {
   "cell_type": "code",
   "execution_count": 8,
   "id": "085ed2ef",
   "metadata": {},
   "outputs": [],
   "source": [
    "u = 1.35\n",
    "Ω_max = 1.89\n",
    "δ_0 = -1.0\n",
    "δ_max = 1.0\n",
    "dt = 0.001\n",
    "SampleSize = 20000\n",
    "graph = [\n",
    "    (1.19, 4.25),\n",
    "    (2.71, 3.48),\n",
    "    (1.19, 3.51),\n",
    "    (2.0, 3.38),\n",
    "    (1.12, 2.86),\n",
    "    (1.70, 2.42),\n",
    "    (2.36, 2.54),\n",
    "    (1.52, 1.48),\n",
    "    (2.15, 1.54),\n",
    "    (2.14, 1.87),\n",
    "    (1.72, 0.86),\n",
    "    (2.29, 0.87)\n",
    "]\n",
    "\n",
    "def findall(edges,Nv):\n",
    "    result = []\n",
    "    for i in range(Nv):\n",
    "        for j in range(Nv):\n",
    "            if edges[i][j]:\n",
    "                result.append([i,j])\n",
    "    return result\n",
    "\n",
    "def get_edges(graph):\n",
    "    Nv = len(graph)\n",
    "    edges = [([0]*Nv) for i in range(Nv)]\n",
    "    for i in range(Nv-1):\n",
    "        xi, yi = graph[i]\n",
    "        for j in range(i+1,Nv):\n",
    "            xj,yj = graph[j]\n",
    "            \n",
    "            dij = np.sqrt((xi-xj)**2. + (yi-yj)**2.)\n",
    "            if dij <= 1.0:\n",
    "                edges[i][j] = True\n",
    "    return findall(edges,Nv)\n",
    "\n",
    "def Ω(t):\n",
    "    if 0<=t and t<=0.25:\n",
    "        return (Ω_max / 0.25) * t\n",
    "    elif 0.25< t and t<=0.69:\n",
    "        return Ω_max\n",
    "    elif 0.69 < t and t<=1:\n",
    "        return - Ω_max * t / 0.31 + Ω_max * (1 + 0.69/0.31)\n",
    "    \n",
    "def δ(t):\n",
    "    slope = (δ_0 - δ_max)/(0.25 - 0.69)\n",
    "    if 0<=t and t<=0.25:\n",
    "         return δ_0\n",
    "    elif 0.25< t and t<=0.69:\n",
    "        return t * slope + (δ_max - slope * 0.69)\n",
    "    elif 0.69 < t and t<=1:\n",
    "        return δ_max   \n",
    "\n",
    "edges= get_edges(graph)"
   ]
  },
  {
   "cell_type": "markdown",
   "id": "05d3ed6a",
   "metadata": {},
   "source": [
    "### Quantum Circuit \n",
    "\n",
    "From the instructions we know that the hamiltoninan for this particular system can be written as $H(t) = Ω(t)\\sum_{i \\in V}σ_i^x -δ(t)\\sum_{i \\in V} n_i + u \\sum_{i,j \\in E} n_i n_j$. \n",
    "While the time evolution operator take the form of $U(t) = $ and the circuit is juat a combination of this time evolution operator on the initial state."
   ]
  },
  {
   "cell_type": "code",
   "execution_count": 37,
   "id": "8e77d2e6",
   "metadata": {},
   "outputs": [],
   "source": [
    "'''\n",
    "The fisrt part of this is to build the hamiltonian. The hamiltonian for this circuit can be wittern as \n",
    "H(t) = Ω(t) ∑_i σ_i^x - δ(t) ∑_i n_i + u ∑_ij n_i n_j \n",
    "'''\n",
    "def nn(q1,q2,u):\n",
    "    m = []\n",
    "    m.append(cirq.ops.CNOT(q1,q2))\n",
    "    m.append(cirq.ops.ZPowGate(global_shift=-(dt*u)/(sc.constants.h*np.pi)).on(q2))\n",
    "    m.append(cirq.ops.CNOT(q1,q2))\n",
    "    return m\n",
    "    \n",
    "def hamiltonian(graph,edges,t,qubits):\n",
    "    Nv=len(graph)\n",
    "    circuit = cirq.Circuit([])\n",
    "    # 1. Ω(t) ∑_i σ_i^x\n",
    "    circuit.append(cirq.rx((2*Ω(t)*dt)/sc.constants.h).on(qubits[i])for i in range(Nv))\n",
    "    \n",
    "    # 2. - δ(t) ∑_i n_i\n",
    "    # remeber for this P1 = 0.5*(I - sigma_z) so this can be writen as a linear combination of gates\n",
    "    circuit.append(\n",
    "        cirq.ops.ZPowGate(global_shift=(dt*δ(t))/(sc.constants.h*np.pi)).on(qubits[i])for i in range(Nv)\n",
    "    )\n",
    "    # 3. u ∑_ij n_i n_j \n",
    "    circuit.append(\n",
    "        nn(qubits[edges[i][0]],qubits[edges[i][1]],u) for i in range(len(edges))\n",
    "    )\n",
    "    \n",
    "    return circuit\n",
    "        \n",
    "\n",
    "def run_annealing(graph,edges,dt,SampleSize):\n",
    "    Nv=len(graph)\n",
    "    qubits = cirq.LineQubit.range(Nv)\n",
    "    psi_t = cirq.Circuit([cirq.H(q) for q in qubits])\n",
    "    for t in np.linspace(0,1,int(1/dt))[::-1]:\n",
    "        h = hamiltonian(graph, edges, t,qubits)\n",
    "        psi_t.append(h) \n",
    "    psi_t.append([cirq.measure(q,key=f'q{count}') for count,q in enumerate(qubits)])\n",
    "    result = cirq.Simulator().run(psi_t, repetitions=SampleSize)\n",
    "    prob_df=result.data.groupby(result.data.columns.tolist(),as_index=False).size()\n",
    "    prob_df['Probabilities']=prob_df['size']/SampleSize\n",
    "    return prob_df"
   ]
  },
  {
   "cell_type": "code",
   "execution_count": 38,
   "id": "8cc08847",
   "metadata": {},
   "outputs": [
    {
     "name": "stdout",
     "output_type": "stream",
     "text": [
      "                    ┌──┐       ┌──┐               ┌──┐       ┌──┐                                                   ┌──┐       ┌──┐                           ┌──┐       ┌──┐   ┌──┐       ┌──┐\n",
      "0: ────Rx(2π)───Z────@──────────@─────────────────────────────────────────────────────────────────────────────────────────────────────────────────────────────────────────────────────────────────────────────────────────\n",
      "                     │          │\n",
      "1: ────Rx(2π)───Z────┼@─────────┼@────────────────────────────────────────────────────────────────────────────────────────────────────────────────────────────────────────────────────────────────────────────────────────\n",
      "                     ││         ││\n",
      "2: ────Rx(2π)───Z────X┼────Z────X┼────@───────@────@──────────@───────────────────────────────────────────────────────────────────────────────────────────────────────────────────────────────────────────────────────────\n",
      "                      │          │    │       │    │          │\n",
      "3: ────Rx(2π)───Z─────X────Z─────X────X───Z───X────┼@─────────┼@──────────────────────────────────────────────────────────────────────────────────────────────────────────────────────────────────────────────────────────\n",
      "                                                   ││         ││\n",
      "4: ────Rx(2π)───Z──────────────────────────────────X┼────Z────X┼────@───────@─────────────────────────────────────────────────────────────────────────────────────────────────────────────────────────────────────────────\n",
      "                                                    │          │    │       │\n",
      "5: ────Rx(2π)───Z───────────────────────────────────┼──────────┼────X───Z───X───@───────@───@───────@───@───────@────@──────────@─────────────────────────────────────────────────────────────────────────────────────────\n",
      "                                                    │          │                │       │   │       │   │       │    │          │\n",
      "6: ────Rx(2π)───Z───────────────────────────────────X────Z─────X────────────────X───Z───X───┼───────┼───┼───────┼────┼──────────┼─────@───────@───────────────────────────────────────────────────────────────────────────\n",
      "                                                                                            │       │   │       │    │          │     │       │\n",
      "7: ────Rx(2π)───Z───────────────────────────────────────────────────────────────────────────X───Z───X───┼───────┼────┼@─────────┼@────┼───────┼───@───────@────@──────────@──────@──────────@─────────────────────────────\n",
      "                                                                                                        │       │    ││         ││    │       │   │       │    │          │      │          │\n",
      "8: ────Rx(2π)───Z───────────────────────────────────────────────────────────────────────────────────────X───Z───X────┼X────Z────┼X────┼───────┼───┼───────┼────┼@─────────┼@─────┼@─────────┼@────@───────@───────────────\n",
      "                                                                                                                     │          │     │       │   │       │    ││         ││     ││         ││    │       │\n",
      "9: ────Rx(2π)───Z────────────────────────────────────────────────────────────────────────────────────────────────────X─────Z────X─────X───Z───X───X───Z───X────┼X────Z────┼X─────┼┼─────────┼┼────┼───────┼───────────────\n",
      "                                                                                                                                                               │          │      ││         ││    │       │\n",
      "10: ───Rx(2π)───Z──────────────────────────────────────────────────────────────────────────────────────────────────────────────────────────────────────────────X─────Z────X──────┼X────Z────┼X────┼───────┼───@───────@───\n",
      "                                                                                                                                                                                 │          │     │       │   │       │\n",
      "11: ───Rx(2π)───Z────────────────────────────────────────────────────────────────────────────────────────────────────────────────────────────────────────────────────────────────X─────Z────X─────X───Z───X───X───Z───X───\n",
      "                    └──┘       └──┘               └──┘       └──┘                                                   └──┘       └──┘                           └──┘       └──┘   └──┘       └──┘\n"
     ]
    }
   ],
   "source": [
    "Nv=len(graph)\n",
    "qubits = cirq.LineQubit.range(Nv)\n",
    "h = hamiltonian(graph, edges, 0.0001,qubits)\n",
    "print(h)"
   ]
  },
  {
   "cell_type": "code",
   "execution_count": 39,
   "id": "fdde696a",
   "metadata": {},
   "outputs": [
    {
     "name": "stdout",
     "output_type": "stream",
     "text": [
      "      q0  q1  q2  q3  q4  q5  q6  q9  q7  q8  q10  q11  size  Probabilities\n",
      "1870   0   1   1   1   0   1   0   1   1   1    0    1    17        0.00085\n"
     ]
    }
   ],
   "source": [
    "prod_df = run_annealing(graph, edges, dt,SampleSize)\n",
    "prod_df\n",
    "# print the row in the with the highest prob that will be our answer\n",
    "answer = prod_df[prod_df.Probabilities == prod_df.Probabilities.max()]\n",
    "print(answer)"
   ]
  },
  {
   "cell_type": "code",
   "execution_count": 40,
   "id": "b629a383",
   "metadata": {},
   "outputs": [
    {
     "name": "stdout",
     "output_type": "stream",
     "text": [
      "Most Common Energy =  3.4000000000000004\n"
     ]
    }
   ],
   "source": [
    "bstring = prod_df.loc[1870, :].values.flatten().tolist()[:-2]\n",
    "_bstring = [True if x ==1.0 else False for x in bstring]\n",
    "common_E = 0\n",
    "for i in range(len(graph)):\n",
    "    common_E -= bstring[i]*δ_max\n",
    "for i in range(len(edges)):\n",
    "    common_E += u*bstring[edges[i][1]]*bstring[edges[i][1]]\n",
    "\n",
    "print(\"Most Common Energy = \",common_E)"
   ]
  },
  {
   "cell_type": "code",
   "execution_count": 29,
   "id": "29dfc5e5",
   "metadata": {
    "scrolled": true
   },
   "outputs": [
    {
     "data": {
      "image/png": "[encoded data removed]",
      "text/plain": [
       "<Figure size 432x288 with 1 Axes>"
      ]
     },
     "metadata": {
      "needs_background": "light"
     },
     "output_type": "display_data"
    }
   ],
   "source": [
    "fig, ax = plt.subplots()\n",
    "for i,occ in enumerate(bstring):\n",
    "    if occ==1.0:\n",
    "        c = 'red' \n",
    "    else:\n",
    "        c ='black'\n",
    "    x,y = graph[i]\n",
    "    \n",
    "    circle = plt.Circle((x,y), 0.5, color='grey', alpha=0.1)\n",
    "    ax.add_patch(circle)\n",
    "    \n",
    "    plt.scatter(x, y, color=c, marker='o')\n",
    "    \n",
    "plt.gca().set_aspect(1)"
   ]
  },
  {
   "cell_type": "code",
   "execution_count": 35,
   "id": "4e3b7436",
   "metadata": {},
   "outputs": [
    {
     "data": {
      "text/plain": [
       "{'_gate': cirq.ZPowGate(exponent=1.0, global_shift=0.12),\n",
       " '_qubits': (cirq.NamedQubit('myqubit'),)}"
      ]
     },
     "execution_count": 35,
     "metadata": {},
     "output_type": "execute_result"
    }
   ],
   "source": []
  },
  {
   "cell_type": "code",
   "execution_count": null,
   "id": "1ba6cfcd",
   "metadata": {},
   "outputs": [],
   "source": []
  },
  {
   "cell_type": "code",
   "execution_count": null,
   "id": "e40749eb",
   "metadata": {},
   "outputs": [],
   "source": []
  }
 ],
 "metadata": {
  "kernelspec": {
   "display_name": "Python 3",
   "language": "python",
   "name": "python3"
  },
  "language_info": {
   "codemirror_mode": {
    "name": "ipython",
    "version": 3
   },
   "file_extension": ".py",
   "mimetype": "text/x-python",
   "name": "python",
   "nbconvert_exporter": "python",
   "pygments_lexer": "ipython3",
   "version": "3.8.5"
  }
 },
 "nbformat": 4,
 "nbformat_minor": 5
}
