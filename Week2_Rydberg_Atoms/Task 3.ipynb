{
 "cells": [
  {
   "cell_type": "markdown",
   "id": "53077483",
   "metadata": {},
   "source": [
    "For this task we will be looking at three different solutions to the Gotham City problem. The first way is using the classical optimization method from Task 1. I have gone ahead and copied the code from Task 1 into this notebook, as that will be our starting point. "
   ]
  },
  {
   "cell_type": "code",
   "execution_count": 1,
   "id": "ea03dad2",
   "metadata": {},
   "outputs": [],
   "source": [
    "import numpy as np\n",
    "import matplotlib.pyplot as plt\n",
    "\n",
    "from abstract_udmis import AbstractUDMIS\n",
    "\n",
    "%matplotlib inline"
   ]
  },
  {
   "cell_type": "code",
   "execution_count": 2,
   "id": "1b66ab33",
   "metadata": {},
   "outputs": [],
   "source": [
    "class UDMIS(AbstractUDMIS):\n",
    "    def __init__(self, u, graph):\n",
    "        super().__init__()\n",
    "        self.u, self.graph = u, graph\n",
    "        self.num_vertices = len(self.graph)\n",
    "        print(self.num_vertices)\n",
    "        # initialize system at infinite temperature\n",
    "        # i.e. vertices are completely random and uncorrelated\n",
    "        self.occupations = np.random.rand(self.num_vertices) < 0.5\n",
    "        self.edges = self.find_edges()\n",
    "    \n",
    "    def find_edges(self):\n",
    "        #num_pairs = int(self.num_vertices*(self.num_vertices)*0.5)\n",
    "        edges = np.zeros((self.num_vertices, self.num_vertices), dtype=bool)\n",
    "        \n",
    "        for i in range(self.num_vertices-1):\n",
    "            x_i, y_i = graph[i] # these are the x, y coordinates of the i'th vertex in the graph\n",
    "            for j in range(i+1, self.num_vertices):\n",
    "                x_j, y_j = graph[j] # these are the x, y coordinates of the j'th vertex in the graph\n",
    "                \n",
    "                # calculate the distance between vertices\n",
    "                dij = np.sqrt((x_i - x_j)**2. + (y_i - y_j)**2.)\n",
    "                if dij <= 1.0:\n",
    "                    edges[i,j] = True\n",
    "                    edges[j,i] = True\n",
    "                    \n",
    "        return edges\n",
    "        \n",
    "    def energy(self):\n",
    "        \"\"\"Returns the energy of the current spin configuration\"\"\"\n",
    "        # interaction term\n",
    "        interaction_term = 0\n",
    "        vertex_term = 0\n",
    "        for i in range(self.num_vertices-1):\n",
    "            for j in range(i+1, self.num_vertices):\n",
    "                \n",
    "                # check if there is an edge\n",
    "                if self.edges[i,j]:\n",
    "                    interaction_term += self.occupations[i]*self.occupations[j]\n",
    "                \n",
    "            vertex_term += self.occupations[i]\n",
    "        \n",
    "        # missed the last vertex\n",
    "        vertex_term += self.occupations[self.num_vertices-1]\n",
    "    \n",
    "        return u*interaction_term - vertex_term\n",
    "\n",
    "    def energy_diff(self, i):\n",
    "        connections = np.where(self.edges[i,:])[0]\n",
    "        num_adjacent_occupied = sum(self.occupations[connections])\n",
    "        \n",
    "        if self.occupations[i] == 1:\n",
    "            # flipping an occupied vertex increases the vertex term, decreases the interaction term\n",
    "            vertex_term_change = 1.\n",
    "            interaction_term_change = -u*num_adjacent_occupied\n",
    "        \n",
    "        elif self.occupations[i] == 0:\n",
    "            # flipping an unoccupied vertex decreases the vertex term, increases the interaction term\n",
    "            vertex_term_change = -1.\n",
    "            interaction_term_change = u*num_adjacent_occupied \n",
    "\n",
    "        return interaction_term_change + vertex_term_change\n",
    "    \n",
    "    def rand_vertex(self):\n",
    "        \"\"\"Selects a site in the graph at random\"\"\"\n",
    "        return np.random.randint(self.num_vertices)        "
   ]
  },
  {
   "cell_type": "code",
   "execution_count": 5,
   "id": "76497fd4",
   "metadata": {},
   "outputs": [
    {
     "name": "stdout",
     "output_type": "stream",
     "text": [
      "12\n"
     ]
    }
   ],
   "source": [
    "u = 1.35\n",
    "graph = [(1.19, 4.25),(2.71, 3.48),\n",
    "         (1.19, 3.51),(2, 3.38),\n",
    "         (1.12, 2.86),(1.70, 2.42),\n",
    "         (2.36, 2.54),(1.52, 1.48),\n",
    "         (2.15, 1.54),(2.14, 1.87),\n",
    "         (1.72, 0.86),(2.29, 0.87),\n",
    "        ]\n",
    "\n",
    "udmis = UDMIS(u, graph)"
   ]
  },
  {
   "cell_type": "code",
   "execution_count": 7,
   "id": "2bec1ebb",
   "metadata": {},
   "outputs": [
    {
     "name": "stdout",
     "output_type": "stream",
     "text": [
      "0 -1.6 [ True  True  True False  True False False  True False  True  True False]\n",
      "100 4.150000000000001 [ True  True  True False False  True  True  True  True  True False False]\n",
      "200 0.7499999999999996 [False  True  True  True False False False  True  True False  True False]\n",
      "300 3.8000000000000007 [False  True False  True  True  True  True  True False  True False False]\n",
      "400 1.7500000000000018 [False False False False False False  True  True False  True  True  True]\n",
      "500 -1.65 [False False False False  True False  True False False  True False False]\n",
      "600 -0.5999999999999996 [ True False False  True False  True False  True False  True  True False]\n",
      "700 -2.299999999999999 [ True False False  True False  True False False  True False False  True]\n",
      "800 -0.24999999999999956 [False  True  True False  True  True  True  True False False False  True]\n",
      "900 -2.3 [ True  True  True False  True False False False False False False  True]\n",
      "1000 -1.65 [ True False False False  True  True False False False False False False]\n",
      "1100 -3.0 [ True False False False  True False False False  True False False False]\n",
      "1200 -5.0 [ True False False  True  True False False False False  True False  True]\n",
      "1300 -5.0 [ True  True False False  True False  True False False False  True False]\n",
      "1400 -5.0 [ True  True False False  True False  True False  True False False False]\n",
      "1500 -5.0 [ True  True False False  True False False False False  True  True False]\n",
      "1600 -5.0 [ True  True False False  True False False False False  True False  True]\n",
      "1700 -5.0 [ True  True False False  True False False False False  True False  True]\n",
      "1800 -5.0 [ True  True False False  True False False False False  True False  True]\n",
      "1900 -5.0 [ True  True False False  True False False False False  True False  True]\n",
      "2000 -5.0 [ True  True False False  True False False False False  True False  True]\n",
      "2100 -5.0 [ True  True False False  True False False False False  True False  True]\n",
      "2200 -5.0 [ True  True False False  True False False False False  True False  True]\n",
      "2300 -5.0 [ True  True False False  True False False False False  True False  True]\n",
      "2400 -5.0 [ True  True False False  True False False False False  True False  True]\n",
      "2500 -5.0 [ True  True False False  True False False False False  True False  True]\n",
      "2600 -5.0 [ True  True False False  True False False False False  True False  True]\n",
      "2700 -5.0 [ True  True False False  True False False False False  True False  True]\n",
      "2800 -5.0 [ True  True False False  True False False False False  True False  True]\n",
      "2900 -5.0 [ True  True False False  True False False False False  True False  True]\n",
      "3000 -5.0 [ True  True False False  True False False False False  True False  True]\n",
      "3100 -5.0 [ True  True False False  True False False False False  True False  True]\n",
      "3200 -5.0 [ True  True False False  True False False False False  True False  True]\n",
      "3300 -5.0 [ True  True False False  True False False False False  True False  True]\n",
      "3400 -5.0 [ True  True False False  True False False False False  True False  True]\n",
      "3500 -5.0 [ True  True False False  True False False False False  True False  True]\n",
      "3600 -5.0 [ True  True False False  True False False False False  True False  True]\n",
      "3700 -5.0 [ True  True False False  True False False False False  True False  True]\n",
      "3800 -5.0 [ True  True False False  True False False False False  True False  True]\n",
      "3900 -5.0 [ True  True False False  True False False False False  True False  True]\n",
      "4000 -5.0 [ True  True False False  True False False False False  True False  True]\n",
      "4100 -5.0 [ True  True False False  True False False False False  True False  True]\n",
      "4200 -5.0 [ True  True False False  True False False False False  True False  True]\n",
      "4300 -5.0 [ True  True False False  True False False False False  True False  True]\n",
      "4400 -5.0 [ True  True False False  True False False False False  True False  True]\n",
      "4500 -5.0 [ True  True False False  True False False False False  True False  True]\n",
      "4600 -5.0 [ True  True False False  True False False False False  True False  True]\n",
      "4700 -5.0 [ True  True False False  True False False False False  True False  True]\n",
      "4800 -5.0 [ True  True False False  True False False False False  True False  True]\n",
      "4900 -5.0 [ True  True False False  True False False False False  True False  True]\n"
     ]
    }
   ],
   "source": [
    "N = 5000\n",
    "t = np.arange(N+1)\n",
    "T_i = 150\n",
    "T_f = 0.00000001\n",
    "\n",
    "T = T_i * ((T_f/T_i) ** (t/N))\n",
    "\n",
    "for t in range(N):\n",
    "    # take a look at the abstract_udmis.py file to see how mc_step works\n",
    "    temp = T[t]\n",
    "    E = udmis.mc_step(T=temp)\n",
    "    \n",
    "    if t % 100 == 0:\n",
    "        print(t, E, udmis.occupations)"
   ]
  },
  {
   "cell_type": "markdown",
   "id": "ba97e256",
   "metadata": {},
   "source": []
  }
 ],
 "metadata": {
  "kernelspec": {
   "display_name": "Python 3",
   "language": "python",
   "name": "python3"
  },
  "language_info": {
   "codemirror_mode": {
    "name": "ipython",
    "version": 3
   },
   "file_extension": ".py",
   "mimetype": "text/x-python",
   "name": "python",
   "nbconvert_exporter": "python",
   "pygments_lexer": "ipython3",
   "version": "3.8.5"
  }
 },
 "nbformat": 4,
 "nbformat_minor": 5
}
