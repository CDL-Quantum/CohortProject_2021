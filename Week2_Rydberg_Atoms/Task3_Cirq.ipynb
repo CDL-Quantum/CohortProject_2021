{
 "cells": [
  {
   "cell_type": "markdown",
   "id": "04abd60b",
   "metadata": {},
   "source": [
    "### Task 3 With Cirq\n",
    "\n",
    "Now we will solve the same proble, this time quantumly. To do this I will rewrite the juilia code that was used in the complete Task 2. The first thing that we will need to do is write the functions that will get the edges as well as the\n",
    "Ω(t) and δ(t) functions from the equation. "
   ]
  },
  {
   "cell_type": "code",
   "execution_count": 12,
   "id": "45593e20",
   "metadata": {},
   "outputs": [],
   "source": [
    "import numpy as np\n",
    "import scipy as sc\n",
    "from scipy.sparse import linalg\n",
    "import matplotlib.pyplot as plt\n",
    "import networkx as nx\n",
    "from abstract_udmis import AbstractUDMIS\n",
    "import openfermion as of\n",
    "import qiskit as qis\n",
    "\n",
    "%matplotlib inline"
   ]
  },
  {
   "cell_type": "code",
   "execution_count": 13,
   "id": "aa386eaf",
   "metadata": {},
   "outputs": [],
   "source": [
    "try:\n",
    "    import cirq\n",
    "except ImportError:\n",
    "    print(\"installing cirq...\")\n",
    "    !pip install --quiet cirq\n",
    "    print(\"installed cirq.\")"
   ]
  },
  {
   "cell_type": "code",
   "execution_count": 14,
   "id": "d56a80fa",
   "metadata": {},
   "outputs": [],
   "source": [
    "u = 1.35\n",
    "Ω_max = 1.89\n",
    "δ_0 = -1.0\n",
    "δ_max = 1.0\n",
    "dt = 0.001\n",
    "SampleSize = 20000\n",
    "graph = [\n",
    "    (1.19, 4.25),\n",
    "    (2.71, 3.48),\n",
    "    (1.19, 3.51),\n",
    "    (2.0, 3.38),\n",
    "    (1.12, 2.86),\n",
    "    (1.70, 2.42),\n",
    "    (2.36, 2.54),\n",
    "    (1.52, 1.48),\n",
    "    (2.15, 1.54),\n",
    "    (2.14, 1.87),\n",
    "    (1.72, 0.86),\n",
    "    (2.29, 0.87)\n",
    "]\n",
    "\n",
    "def findall(edges,Nv):\n",
    "    result = []\n",
    "    for i in range(Nv):\n",
    "        for j in range(Nv):\n",
    "            if edges[i][j]:\n",
    "                result.append([i,j])\n",
    "    return result\n",
    "\n",
    "def get_edges(graph):\n",
    "    Nv = len(graph)\n",
    "    edges = [([0]*Nv) for i in range(Nv)]\n",
    "    for i in range(Nv-1):\n",
    "        xi, yi = graph[i]\n",
    "        for j in range(i+1,Nv):\n",
    "            xj,yj = graph[j]\n",
    "            \n",
    "            dij = np.sqrt((xi-xj)**2. + (yi-yj)**2.)\n",
    "            if dij <= 1.0:\n",
    "                edges[i][j] = True\n",
    "    return findall(edges,Nv)\n",
    "\n",
    "def Ω(t):\n",
    "    if 0<=t and t<=0.25:\n",
    "        return (Ω_max / 0.25) * t\n",
    "    elif 0.25< t and t<=0.69:\n",
    "        return Ω_max\n",
    "    elif 0.69 < t and t<=1:\n",
    "        return - Ω_max * t / 0.31 + Ω_max * (1 + 0.69/0.31)\n",
    "    \n",
    "def δ(t):\n",
    "    slope = (δ_0 - δ_max)/(0.25 - 0.69)\n",
    "    if 0<=t and t<=0.25:\n",
    "         return δ_0\n",
    "    elif 0.25< t and t<=0.69:\n",
    "        return t * slope + (δ_max - slope * 0.69)\n",
    "    elif 0.69 < t and t<=1:\n",
    "        return δ_max   \n",
    "\n",
    "edges= get_edges(graph)"
   ]
  },
  {
   "cell_type": "code",
   "execution_count": 33,
   "id": "94129bd3",
   "metadata": {},
   "outputs": [],
   "source": [
    "'''\n",
    "For some reason this was not being imported properly so I copied the code from the cirq repo found \n",
    "https://github.com/quantumlib/Cirq/blob/v0.11.0/cirq-core/cirq/vis/state_histogram.py\n",
    "'''\n",
    "from typing import Union, Optional, Sequence, SupportsFloat\n",
    "import collections\n",
    "import numpy as np\n",
    "import matplotlib.pyplot as plt\n",
    "import cirq.study.result as result\n",
    "\n",
    "def get_state_histogram(result: 'result.Result') -> np.ndarray:\n",
    "    \"\"\"Computes a state histogram from a single result with repetitions.\n",
    "    Args:\n",
    "        result: The trial result containing measurement results from which the\n",
    "                state histogram should be computed.\n",
    "    Returns:\n",
    "        The state histogram (a numpy array) corresponding to the trial result.\n",
    "    \"\"\"\n",
    "    num_qubits = sum([value.shape[1] for value in result.measurements.values()])\n",
    "    states = 2 ** num_qubits\n",
    "    values = np.zeros(states)\n",
    "    # measurements is a dict of {measurement gate key:\n",
    "    #                            array(repetitions, boolean result)}\n",
    "    # Convert this to an array of repetitions, each with an array of booleans.\n",
    "    # e.g. {q1: array([[True, True]]), q2: array([[False, False]])}\n",
    "    #      --> array([[True, False], [True, False]])\n",
    "    measurement_by_result = np.hstack(list(result.measurements.values()))\n",
    "\n",
    "    for meas in measurement_by_result:\n",
    "        # Convert each array of booleans to a string representation.\n",
    "        # e.g. [True, False] -> [1, 0] -> '10' -> 2\n",
    "        state_ind = int(''.join([str(x) for x in [int(x) for x in meas]]), 2)\n",
    "        values[state_ind] += 1\n",
    "    return values\n",
    "\n",
    "def plot_state_histogram(\n",
    "    data: Union['result.Result', collections.Counter, Sequence[SupportsFloat]],\n",
    "    ax: Optional['plt.Axis'] = None,\n",
    "    *,\n",
    "    tick_label: Optional[Sequence[str]] = None,\n",
    "    xlabel: Optional[str] = 'qubit state',\n",
    "    ylabel: Optional[str] = 'result count',\n",
    "    title: Optional[str] = 'Result State Histogram',\n",
    ") -> 'plt.Axis':\n",
    "    \"\"\"Plot the state histogram from either a single result with repetitions or\n",
    "       a histogram computed using `result.histogram()` or a flattened histogram\n",
    "       of measurement results computed using `get_state_histogram`.\n",
    "    Args:\n",
    "        data:   The histogram values to plot. Possible options are:\n",
    "                `result.Result`: Histogram is computed using\n",
    "                    `get_state_histogram` and all 2 ** num_qubits values are\n",
    "                    plotted, including 0s.\n",
    "                `collections.Counter`: Only (key, value) pairs present in\n",
    "                    collection are plotted.\n",
    "                `Sequence[SupportsFloat]`: Values in the input sequence are\n",
    "                    plotted. i'th entry corresponds to height of the i'th\n",
    "                    bar in histogram.\n",
    "        ax:      The Axes to plot on. If not given, a new figure is created,\n",
    "                 plotted on, and shown.\n",
    "        tick_label: Tick labels for the histogram plot in case input is not\n",
    "                    `collections.Counter`. By default, label for i'th entry\n",
    "                     is |i>.\n",
    "        xlabel:  Label for the x-axis.\n",
    "        ylabel:  Label for the y-axis.\n",
    "        title:   Title of the plot.\n",
    "    Returns:\n",
    "        The axis that was plotted on.\n",
    "    \"\"\"\n",
    "    show_fig = not ax\n",
    "    if not ax:\n",
    "        fig, ax = plt.subplots(1, 1)\n",
    "    if isinstance(data, result.Result):\n",
    "        values = get_state_histogram(data)\n",
    "    elif isinstance(data, collections.Counter):\n",
    "        tick_label, values = zip(*sorted(data.items()))\n",
    "    else:\n",
    "        values = data\n",
    "    if not tick_label:\n",
    "        tick_label = np.arange(len(values))\n",
    "    ax.bar(np.arange(len(values)), values, tick_label=tick_label)\n",
    "    ax.set_xlabel(xlabel)\n",
    "    ax.set_ylabel(ylabel)\n",
    "    ax.set_title(title)\n",
    "    if show_fig:\n",
    "        fig.show()\n",
    "    return ax\n"
   ]
  },
  {
   "cell_type": "markdown",
   "id": "f3ec35a4",
   "metadata": {},
   "source": [
    "### Quantum Circuit \n",
    "\n",
    "From the instructions we know that the hamiltoninan for this particular system can be written as $H(t) = Ω(t)\\sum_{i \\in V}σ_i^x -δ(t)\\sum_{i \\in V} n_i + u \\sum_{i,j \\in E} n_i n_j$. \n",
    "While the time evolution operator take the form of $U(t) = $ and the circuit is juat a combination of this time evolution operator on the initial state."
   ]
  },
  {
   "cell_type": "code",
   "execution_count": 34,
   "id": "96e6a1ba",
   "metadata": {},
   "outputs": [],
   "source": [
    "'''\n",
    "The fisrt part of this is to build the hamiltonian. The hamiltonian for this circuit can be wittern as \n",
    "H(t) = Ω(t) ∑_i σ_i^x - δ(t) ∑_i n_i + u ∑_ij n_i n_j \n",
    "'''\n",
    "def nn(q1,q2,u):\n",
    "    m = []\n",
    "    m.append(cirq.ops.CNOT(q1,q2))\n",
    "    m.append(cirq.ops.ZPowGate(global_shift=-(dt*u)/(sc.constants.h*np.pi)).on(q2))\n",
    "    m.append(cirq.ops.CNOT(q1,q2))\n",
    "    return m\n",
    "    \n",
    "def hamiltonian(graph,edges,t,qubits):\n",
    "    Nv=len(graph)\n",
    "    circuit = cirq.Circuit([])\n",
    "    # 1. Ω(t) ∑_i σ_i^x\n",
    "    circuit.append(cirq.rx((2*Ω(t)*dt)/sc.constants.h).on(qubits[i])for i in range(Nv))\n",
    "    \n",
    "    # 2. - δ(t) ∑_i n_i\n",
    "    # remeber for this P1 = 0.5*(I - sigma_z) so this can be writen as a linear combination of gates\n",
    "    circuit.append(\n",
    "        cirq.ops.ZPowGate(global_shift=(dt*δ(t))/(sc.constants.h*np.pi)).on(qubits[i])for i in range(Nv)\n",
    "    )\n",
    "    # 3. u ∑_ij n_i n_j \n",
    "    circuit.append(\n",
    "        nn(qubits[edges[i][0]],qubits[edges[i][1]],u) for i in range(len(edges))\n",
    "    )\n",
    "    \n",
    "    return circuit\n",
    "        \n",
    "\n",
    "def run_annealing(graph,edges,dt,SampleSize):\n",
    "    Nv=len(graph)\n",
    "    qubits = cirq.LineQubit.range(Nv)\n",
    "    psi_t = cirq.Circuit([cirq.H(q) for q in qubits])\n",
    "    for t in np.linspace(0,1,int(1/dt))[::-1]:\n",
    "        h = hamiltonian(graph, edges, t,qubits)\n",
    "        psi_t.append(h) \n",
    "    psi_t.append([cirq.measure(q,key=f'q{count}') for count,q in enumerate(qubits)])\n",
    "    result = cirq.Simulator().run(psi_t, repetitions=SampleSize)\n",
    "    prob_df=result.data.groupby(result.data.columns.tolist(),as_index=False).size()\n",
    "    prob_df['Probabilities']=prob_df['size']/SampleSize\n",
    "    return prob_df,result"
   ]
  },
  {
   "cell_type": "code",
   "execution_count": 35,
   "id": "e42f9d5c",
   "metadata": {},
   "outputs": [
    {
     "name": "stdout",
     "output_type": "stream",
     "text": [
      "                    ┌──┐       ┌──┐               ┌──┐       ┌──┐                                                   ┌──┐       ┌──┐                           ┌──┐       ┌──┐   ┌──┐       ┌──┐\n",
      "0: ────Rx(2π)───Z────@──────────@─────────────────────────────────────────────────────────────────────────────────────────────────────────────────────────────────────────────────────────────────────────────────────────\n",
      "                     │          │\n",
      "1: ────Rx(2π)───Z────┼@─────────┼@────────────────────────────────────────────────────────────────────────────────────────────────────────────────────────────────────────────────────────────────────────────────────────\n",
      "                     ││         ││\n",
      "2: ────Rx(2π)───Z────X┼────Z────X┼────@───────@────@──────────@───────────────────────────────────────────────────────────────────────────────────────────────────────────────────────────────────────────────────────────\n",
      "                      │          │    │       │    │          │\n",
      "3: ────Rx(2π)───Z─────X────Z─────X────X───Z───X────┼@─────────┼@──────────────────────────────────────────────────────────────────────────────────────────────────────────────────────────────────────────────────────────\n",
      "                                                   ││         ││\n",
      "4: ────Rx(2π)───Z──────────────────────────────────X┼────Z────X┼────@───────@─────────────────────────────────────────────────────────────────────────────────────────────────────────────────────────────────────────────\n",
      "                                                    │          │    │       │\n",
      "5: ────Rx(2π)───Z───────────────────────────────────┼──────────┼────X───Z───X───@───────@───@───────@───@───────@────@──────────@─────────────────────────────────────────────────────────────────────────────────────────\n",
      "                                                    │          │                │       │   │       │   │       │    │          │\n",
      "6: ────Rx(2π)───Z───────────────────────────────────X────Z─────X────────────────X───Z───X───┼───────┼───┼───────┼────┼──────────┼─────@───────@───────────────────────────────────────────────────────────────────────────\n",
      "                                                                                            │       │   │       │    │          │     │       │\n",
      "7: ────Rx(2π)───Z───────────────────────────────────────────────────────────────────────────X───Z───X───┼───────┼────┼@─────────┼@────┼───────┼───@───────@────@──────────@──────@──────────@─────────────────────────────\n",
      "                                                                                                        │       │    ││         ││    │       │   │       │    │          │      │          │\n",
      "8: ────Rx(2π)───Z───────────────────────────────────────────────────────────────────────────────────────X───Z───X────┼X────Z────┼X────┼───────┼───┼───────┼────┼@─────────┼@─────┼@─────────┼@────@───────@───────────────\n",
      "                                                                                                                     │          │     │       │   │       │    ││         ││     ││         ││    │       │\n",
      "9: ────Rx(2π)───Z────────────────────────────────────────────────────────────────────────────────────────────────────X─────Z────X─────X───Z───X───X───Z───X────┼X────Z────┼X─────┼┼─────────┼┼────┼───────┼───────────────\n",
      "                                                                                                                                                               │          │      ││         ││    │       │\n",
      "10: ───Rx(2π)───Z──────────────────────────────────────────────────────────────────────────────────────────────────────────────────────────────────────────────X─────Z────X──────┼X────Z────┼X────┼───────┼───@───────@───\n",
      "                                                                                                                                                                                 │          │     │       │   │       │\n",
      "11: ───Rx(2π)───Z────────────────────────────────────────────────────────────────────────────────────────────────────────────────────────────────────────────────────────────────X─────Z────X─────X───Z───X───X───Z───X───\n",
      "                    └──┘       └──┘               └──┘       └──┘                                                   └──┘       └──┘                           └──┘       └──┘   └──┘       └──┘\n"
     ]
    }
   ],
   "source": [
    "Nv=len(graph)\n",
    "qubits = cirq.LineQubit.range(Nv)\n",
    "h = hamiltonian(graph, edges, 0.0001,qubits)\n",
    "print(h)"
   ]
  },
  {
   "cell_type": "code",
   "execution_count": null,
   "id": "b9ed4900",
   "metadata": {
    "scrolled": true
   },
   "outputs": [],
   "source": [
    "prod_df,_result = run_annealing(graph, edges, dt,SampleSize)\n",
    "_ = plot_state_histogram(_result, plt.subplot())"
   ]
  },
  {
   "cell_type": "code",
   "execution_count": null,
   "id": "40d5f55d",
   "metadata": {},
   "outputs": [],
   "source": [
    "prod_df\n",
    "# print the row in the with the highest prob that will be our answer\n",
    "answer = prod_df[prod_df.Probabilities == prod_df.Probabilities.max()]\n",
    "print(answer)"
   ]
  },
  {
   "cell_type": "code",
   "execution_count": 18,
   "id": "d3e08b3b",
   "metadata": {},
   "outputs": [
    {
     "name": "stdout",
     "output_type": "stream",
     "text": [
      "Most Common Energy =  9.549999999999999\n"
     ]
    }
   ],
   "source": [
    "bstring = prod_df.loc[2779, :].values.flatten().tolist()[:-2]\n",
    "_bstring = [True if x ==1.0 else False for x in bstring]\n",
    "common_E = 0\n",
    "for i in range(len(graph)):\n",
    "    common_E -= bstring[i]*δ_max\n",
    "for i in range(len(edges)):\n",
    "    common_E += u*bstring[edges[i][1]]*bstring[edges[i][1]]\n",
    "\n",
    "print(\"Most Common Energy = \",common_E)"
   ]
  },
  {
   "cell_type": "code",
   "execution_count": 19,
   "id": "a4277ada",
   "metadata": {},
   "outputs": [
    {
     "data": {
      "image/png": "[encoded data removed]",
      "text/plain": [
       "<Figure size 432x288 with 1 Axes>"
      ]
     },
     "metadata": {
      "needs_background": "light"
     },
     "output_type": "display_data"
    }
   ],
   "source": [
    "fig, ax = plt.subplots()\n",
    "for i,occ in enumerate(bstring):\n",
    "    if occ==1.0:\n",
    "        c = 'red' \n",
    "    else:\n",
    "        c ='black'\n",
    "    x,y = graph[i]\n",
    "    \n",
    "    circle = plt.Circle((x,y), 0.5, color='grey', alpha=0.1)\n",
    "    ax.add_patch(circle)\n",
    "    \n",
    "    plt.scatter(x, y, color=c, marker='o')\n",
    "    \n",
    "plt.gca().set_aspect(1)"
   ]
  },
  {
   "cell_type": "code",
   "execution_count": null,
   "id": "4b96a527",
   "metadata": {},
   "outputs": [],
   "source": []
  }
 ],
 "metadata": {
  "kernelspec": {
   "display_name": "Python 3",
   "language": "python",
   "name": "python3"
  },
  "language_info": {
   "codemirror_mode": {
    "name": "ipython",
    "version": 3
   },
   "file_extension": ".py",
   "mimetype": "text/x-python",
   "name": "python",
   "nbconvert_exporter": "python",
   "pygments_lexer": "ipython3",
   "version": "3.8.5"
  }
 },
 "nbformat": 4,
 "nbformat_minor": 5
}
