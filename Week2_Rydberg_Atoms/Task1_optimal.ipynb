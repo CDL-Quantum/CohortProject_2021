{
 "cells": [
  {
   "cell_type": "markdown",
   "metadata": {},
   "source": [
    "## Week2. Optimization problems & Rydberg atom arrays - Task 1 (optimal $p$)\n",
    "\n",
    "-----\n",
    "Among the annealing schedule functions used in Task1,\n",
    "we investigate the optimal value of p that finds the answer to the given problem with the lowest number of steps and high probability.\n"
   ]
  },
  {
   "cell_type": "code",
   "execution_count": 1,
   "metadata": {},
   "outputs": [],
   "source": [
    "import numpy as np\n",
    "import matplotlib.pyplot as plt\n",
    "\n",
    "from Week2_Rydberg_Atoms.draw_graph import draw_graph\n",
    "from Week2_Rydberg_Atoms.utils import sanity_check\n",
    "from abstract_udmis import AbstractUDMIS\n",
    "\n",
    "%matplotlib inline\n"
   ]
  },
  {
   "cell_type": "code",
   "execution_count": 2,
   "metadata": {},
   "outputs": [],
   "source": [
    "class UDMIS(AbstractUDMIS):\n",
    "    def __init__(self, u, graph):\n",
    "        super().__init__()\n",
    "        self.u, self.graph = u, graph\n",
    "        self.num_vertices = len(self.graph)\n",
    "        print(self.num_vertices)\n",
    "        # initialize system at infinite temperature\n",
    "        # i.e. vertices are completely random and uncorrelated\n",
    "        self.occupations = np.random.rand(self.num_vertices) < 0.5\n",
    "        self.edges = self.find_edges()\n",
    "    \n",
    "    def find_edges(self):\n",
    "        #num_pairs = int(self.num_vertices*(self.num_vertices)*0.5)\n",
    "        edges = np.zeros((self.num_vertices, self.num_vertices), dtype=bool)\n",
    "        \n",
    "        for i in range(self.num_vertices-1):\n",
    "            x_i, y_i = graph[i] # these are the x, y coordinates of the i'th vertex in the graph\n",
    "            for j in range(i+1, self.num_vertices):\n",
    "                x_j, y_j = graph[j] # these are the x, y coordinates of the j'th vertex in the graph\n",
    "                \n",
    "                # calculate the distance between vertices\n",
    "                dij = np.sqrt((x_i - x_j)**2. + (y_i - y_j)**2.)\n",
    "                if dij <= 1.0:\n",
    "                    edges[i,j] = True\n",
    "                    edges[j,i] = True\n",
    "                    \n",
    "        return edges\n",
    "        \n",
    "    def energy(self):\n",
    "        \"\"\"Returns the energy of the current spin configuration\"\"\"\n",
    "        # interaction term\n",
    "        interaction_term = 0\n",
    "        vertex_term = 0\n",
    "        for i in range(self.num_vertices-1):\n",
    "            for j in range(i+1, self.num_vertices):\n",
    "                \n",
    "                # check if there is an edge\n",
    "                if self.edges[i,j]:\n",
    "                    interaction_term += self.occupations[i]*self.occupations[j]\n",
    "                \n",
    "            vertex_term += self.occupations[i]\n",
    "        \n",
    "        # missed the last vertex\n",
    "        vertex_term += self.occupations[self.num_vertices-1]\n",
    "    \n",
    "        return u*interaction_term - vertex_term\n",
    "\n",
    "    def energy_diff(self, i):\n",
    "        connections = np.where(self.edges[i,:])[0]\n",
    "        num_adjacent_occupied = sum(self.occupations[connections])\n",
    "        \n",
    "        if self.occupations[i] == 1:\n",
    "            # flipping an occupied vertex increases the vertex term, decreases the interaction term\n",
    "            vertex_term_change = 1.\n",
    "            interaction_term_change = -u*num_adjacent_occupied\n",
    "        \n",
    "        elif self.occupations[i] == 0:\n",
    "            # flipping an unoccupied vertex decreases the vertex term, increases the interaction term\n",
    "            vertex_term_change = -1.\n",
    "            interaction_term_change = u*num_adjacent_occupied \n",
    "\n",
    "        return interaction_term_change + vertex_term_change\n",
    "    \n",
    "    def rand_vertex(self):\n",
    "        \"\"\"Selects a site in the graph at random\"\"\"\n",
    "        return np.random.randint(self.num_vertices)        "
   ]
  },
  {
   "cell_type": "code",
   "execution_count": 3,
   "metadata": {},
   "outputs": [
    {
     "name": "stdout",
     "output_type": "stream",
     "text": [
      "6\n"
     ]
    }
   ],
   "source": [
    "u = 1.35\n",
    "graph = [(0.3461717838632017, 1.4984640297338632),\n",
    "        (0.6316400411846113, 2.5754677320579895),\n",
    "        (1.3906262250927481, 2.164978861396621),\n",
    "        (0.66436005100802, 0.6717919819739032),\n",
    "        (0.8663329771713457, 3.3876341010035995),\n",
    "        (1.1643107343501296, 1.0823066243402013)\n",
    "       ]\n",
    "\n",
    "udmis = UDMIS(u, graph)"
   ]
  },
  {
   "cell_type": "code",
   "execution_count": 4,
   "metadata": {
    "pycharm": {
     "name": "#%%\n"
    }
   },
   "outputs": [],
   "source": [
    "def Task1_err(N, val):\n",
    "    t = np.arange(N+1)\n",
    "    T_i = 100\n",
    "    T_f = 0.01\n",
    "    T = T_i * ((T_f/T_i) ** ((t/N) ** val))\n",
    "\n",
    "    N_it = 1000\n",
    "    E_l = list(range(N_it))\n",
    "    M = list(range(N_it))\n",
    "\n",
    "    for j in range(N_it):\n",
    "        for t in range(N+1):\n",
    "            temp = T[t]\n",
    "            E = udmis.mc_step(T=temp)\n",
    "            if t == N:\n",
    "                num_violated, num_vertices = sanity_check(graph, answer=udmis.occupations, radius=0.5)\n",
    "                if num_violated != 0 or num_vertices != 3:\n",
    "                    M[j] = 0\n",
    "                else:\n",
    "                    M[j] = 1\n",
    "\n",
    "    return sum(M)/N_it"
   ]
  },
  {
   "cell_type": "code",
   "execution_count": 5,
   "outputs": [
    {
     "name": "stderr",
     "output_type": "stream",
     "text": [
      "100%|██████████| 100/100 [3:19:09<00:00, 119.50s/it] \n"
     ]
    },
    {
     "data": {
      "text/plain": "<Figure size 432x288 with 1 Axes>",
      "image/png": "[encoded data removed]"
     },
     "metadata": {
      "needs_background": "light"
     },
     "output_type": "display_data"
    },
    {
     "name": "stdout",
     "output_type": "stream",
     "text": [
      "소요시간 : 11950.126556158066 sec\n"
     ]
    }
   ],
   "source": [
    "import time\n",
    "from tqdm import tqdm\n",
    "\n",
    "start_time = time.time()\n",
    "\n",
    "val_1 = list(range(100))\n",
    "for i in tqdm(range(100)):\n",
    "    val_1[i] = Task1_err(1000, 1-(1/100)*i)\n",
    "\n",
    "\n",
    "x = np.arange(100)\n",
    "fac = [1-(1/100)*i for i in range(100)]\n",
    "values = [val_1[i] for i in range(100)]\n",
    "\n",
    "\n",
    "ax = plt.plot(fac, values)\n",
    "plt.show()\n",
    "\n",
    "\n",
    "print(\"소요시간 : %s sec\" % (time.time() - start_time))\n",
    "\n",
    "\n"
   ],
   "metadata": {
    "collapsed": false,
    "pycharm": {
     "name": "#%% Test 1\n"
    }
   }
  },
  {
   "cell_type": "code",
   "execution_count": 7,
   "outputs": [
    {
     "name": "stderr",
     "output_type": "stream",
     "text": [
      "100%|██████████| 100/100 [2:05:39<00:00, 75.40s/it] \n"
     ]
    },
    {
     "data": {
      "text/plain": "<Figure size 432x288 with 1 Axes>",
      "image/png": "[encoded data removed]"
     },
     "metadata": {
      "needs_background": "light"
     },
     "output_type": "display_data"
    },
    {
     "name": "stdout",
     "output_type": "stream",
     "text": [
      "소요시간 : 7539.84490442276 sec\n"
     ]
    }
   ],
   "source": [
    "import time\n",
    "from tqdm import tqdm\n",
    "\n",
    "start_time = time.time()\n",
    "\n",
    "val_2 = list(range(100))\n",
    "for i in tqdm(range(100)):\n",
    "    val_2[i] = Task1_err(500, 1-(1/100)*i)\n",
    "\n",
    "\n",
    "x = np.arange(100)\n",
    "fac = [1-(1/100)*i for i in range(100)]\n",
    "values = [val_2[i] for i in range(100)]\n",
    "\n",
    "\n",
    "ax = plt.plot(fac, values)\n",
    "plt.show()\n",
    "\n",
    "\n",
    "print(\"소요시간 : %s sec\" % (time.time() - start_time))\n"
   ],
   "metadata": {
    "collapsed": false,
    "pycharm": {
     "name": "#%% Test 2\n"
    }
   }
  },
  {
   "cell_type": "code",
   "execution_count": 8,
   "outputs": [
    {
     "name": "stderr",
     "output_type": "stream",
     "text": [
      "100%|██████████| 100/100 [34:29<00:00, 20.70s/it]\n"
     ]
    },
    {
     "data": {
      "text/plain": "<Figure size 432x288 with 1 Axes>",
      "image/png": "[encoded data removed]"
     },
     "metadata": {
      "needs_background": "light"
     },
     "output_type": "display_data"
    },
    {
     "name": "stdout",
     "output_type": "stream",
     "text": [
      "소요시간 : 2070.0760288238525 sec\n"
     ]
    }
   ],
   "source": [
    "import time\n",
    "from tqdm import tqdm\n",
    "\n",
    "start_time = time.time()\n",
    "\n",
    "val_3 = list(range(100))\n",
    "for i in tqdm(range(100)):\n",
    "    val_3[i] = Task1_err(100, 1-(1/100)*i)\n",
    "\n",
    "\n",
    "x = np.arange(100)\n",
    "fac = [1-(1/100)*i for i in range(100)]\n",
    "values = [val_3[i] for i in range(100)]\n",
    "\n",
    "\n",
    "ax = plt.plot(fac, values)\n",
    "plt.show()\n",
    "\n",
    "\n",
    "print(\"소요시간 : %s sec\" % (time.time() - start_time))\n",
    "\n",
    "\n",
    "\n",
    "\n",
    "\n",
    "\n",
    "\n",
    "\n",
    "\n"
   ],
   "metadata": {
    "collapsed": false,
    "pycharm": {
     "name": "#%% Test 3\n"
    }
   }
  },
  {
   "cell_type": "code",
   "execution_count": null,
   "outputs": [],
   "source": [],
   "metadata": {
    "collapsed": false,
    "pycharm": {
     "name": "#%%\n"
    }
   }
  }
 ],
 "metadata": {
  "kernelspec": {
   "name": "python3",
   "language": "python",
   "display_name": "Python 3"
  },
  "language_info": {
   "codemirror_mode": {
    "name": "ipython",
    "version": 3
   },
   "file_extension": ".py",
   "mimetype": "text/x-python",
   "name": "python",
   "nbconvert_exporter": "python",
   "pygments_lexer": "ipython3",
   "version": "3.8.5"
  }
 },
 "nbformat": 4,
 "nbformat_minor": 4
}