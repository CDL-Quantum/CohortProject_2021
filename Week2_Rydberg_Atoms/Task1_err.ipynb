{
 "cells": [
  {
   "cell_type": "markdown",
   "metadata": {},
   "source": [
    "# Random-graph UD-MIS (Classical)\n",
    "\n",
    "$$\n",
    "H = -\\sum_{i \\in V} n_i + u \\sum_{i,j \\in E} n_i n_j\n",
    "$$\n",
    "\n",
    "Our goal is to find one of the ground state(s) - a solution to the UD-MIS problem - automatically through Monte Carlo sampling.\n",
    "\n",
    "The probability distribution of the Ising model at temperature $T$ is given by the Gibbs distribution:\n",
    "\n",
    "$$p(\\sigma; T) = \\frac{1}{Z(T)}\\exp\\left(-\\frac{H(\\sigma)}{T}\\right)$$,\n",
    "\n",
    "where $Z(T)$ is the normalization constant (also known as the *partition function*)."
   ]
  },
  {
   "cell_type": "code",
   "execution_count": 1,
   "metadata": {},
   "outputs": [],
   "source": [
    "import numpy as np\n",
    "import matplotlib.pyplot as plt\n",
    "\n",
    "from Week2_Rydberg_Atoms.draw_graph import draw_graph\n",
    "from Week2_Rydberg_Atoms.utils import sanity_check\n",
    "from abstract_udmis import AbstractUDMIS\n",
    "\n",
    "%matplotlib inline"
   ]
  },
  {
   "cell_type": "markdown",
   "metadata": {},
   "source": [
    "Below you'll find code for the UDMIS model of interest. Strictly speaking, for the purposes of performing the Monte Carlo simulation we can simply compute the required energy differences using two calls to the energy function. However, we can often save significant computation time by writing a specialised function for the energy difference that avoids unnecessary calculations. Simply put, calculating the energy of a configuration of occupations requires you to iterate over all vertices in the graph, but the energy change associated with a single-occupation-flip can be computed just from values of the connected vertices."
   ]
  },
  {
   "cell_type": "code",
   "execution_count": 2,
   "metadata": {},
   "outputs": [],
   "source": [
    "class UDMIS(AbstractUDMIS):\n",
    "    def __init__(self, u, graph):\n",
    "        super().__init__()\n",
    "        self.u, self.graph = u, graph\n",
    "        self.num_vertices = len(self.graph)\n",
    "        print(self.num_vertices)\n",
    "        # initialize system at infinite temperature\n",
    "        # i.e. vertices are completely random and uncorrelated\n",
    "        self.occupations = np.random.rand(self.num_vertices) < 0.5\n",
    "        self.edges = self.find_edges()\n",
    "    \n",
    "    def find_edges(self):\n",
    "        #num_pairs = int(self.num_vertices*(self.num_vertices)*0.5)\n",
    "        edges = np.zeros((self.num_vertices, self.num_vertices), dtype=bool)\n",
    "        \n",
    "        for i in range(self.num_vertices-1):\n",
    "            x_i, y_i = graph[i] # these are the x, y coordinates of the i'th vertex in the graph\n",
    "            for j in range(i+1, self.num_vertices):\n",
    "                x_j, y_j = graph[j] # these are the x, y coordinates of the j'th vertex in the graph\n",
    "                \n",
    "                # calculate the distance between vertices\n",
    "                dij = np.sqrt((x_i - x_j)**2. + (y_i - y_j)**2.)\n",
    "                if dij <= 1.0:\n",
    "                    edges[i,j] = True\n",
    "                    edges[j,i] = True\n",
    "                    \n",
    "        return edges\n",
    "        \n",
    "    def energy(self):\n",
    "        \"\"\"Returns the energy of the current spin configuration\"\"\"\n",
    "        # interaction term\n",
    "        interaction_term = 0\n",
    "        vertex_term = 0\n",
    "        for i in range(self.num_vertices-1):\n",
    "            for j in range(i+1, self.num_vertices):\n",
    "                \n",
    "                # check if there is an edge\n",
    "                if self.edges[i,j]:\n",
    "                    interaction_term += self.occupations[i]*self.occupations[j]\n",
    "                \n",
    "            vertex_term += self.occupations[i]\n",
    "        \n",
    "        # missed the last vertex\n",
    "        vertex_term += self.occupations[self.num_vertices-1]\n",
    "    \n",
    "        return u*interaction_term - vertex_term\n",
    "\n",
    "    def energy_diff(self, i):\n",
    "        connections = np.where(self.edges[i,:])[0]\n",
    "        num_adjacent_occupied = sum(self.occupations[connections])\n",
    "        \n",
    "        if self.occupations[i] == 1:\n",
    "            # flipping an occupied vertex increases the vertex term, decreases the interaction term\n",
    "            vertex_term_change = 1.\n",
    "            interaction_term_change = -u*num_adjacent_occupied\n",
    "        \n",
    "        elif self.occupations[i] == 0:\n",
    "            # flipping an unoccupied vertex decreases the vertex term, increases the interaction term\n",
    "            vertex_term_change = -1.\n",
    "            interaction_term_change = u*num_adjacent_occupied \n",
    "\n",
    "        return interaction_term_change + vertex_term_change\n",
    "    \n",
    "    def rand_vertex(self):\n",
    "        \"\"\"Selects a site in the graph at random\"\"\"\n",
    "        return np.random.randint(self.num_vertices)        "
   ]
  },
  {
   "cell_type": "code",
   "execution_count": 3,
   "metadata": {},
   "outputs": [
    {
     "name": "stdout",
     "output_type": "stream",
     "text": [
      "6\n"
     ]
    }
   ],
   "source": [
    "u = 1.35\n",
    "graph = [(0.3461717838632017, 1.4984640297338632),\n",
    "        (0.6316400411846113, 2.5754677320579895),\n",
    "        (1.3906262250927481, 2.164978861396621),\n",
    "        (0.66436005100802, 0.6717919819739032),\n",
    "        (0.8663329771713457, 3.3876341010035995),\n",
    "        (1.1643107343501296, 1.0823066243402013)\n",
    "       ]\n",
    "\n",
    "udmis = UDMIS(u, graph)"
   ]
  },
  {
   "cell_type": "code",
   "execution_count": 17,
   "metadata": {
    "pycharm": {
     "name": "#%%\n"
    }
   },
   "outputs": [],
   "source": [
    "def Task1_err(N, val):\n",
    "    t = np.arange(N+1)\n",
    "    T_i = 100\n",
    "    T_f = 0.01\n",
    "    T = T_i * ((T_f/T_i) ** ((t/N) ** val))\n",
    "\n",
    "    N_it = 1000\n",
    "    E_l = list(range(N_it))\n",
    "    M = list(range(N_it))\n",
    "\n",
    "    for j in range(N_it):\n",
    "        for t in range(N+1):\n",
    "            temp = T[t]\n",
    "            E = udmis.mc_step(T=temp)\n",
    "            if t == N:\n",
    "                num_violated, num_vertices = sanity_check(graph, answer=udmis.occupations, radius=0.5)\n",
    "                if num_violated != 0 or num_vertices != 3:\n",
    "                    M[j] = 0\n",
    "                else:\n",
    "                    M[j] = 1\n",
    "\n",
    "    return sum(M)/N_it"
   ]
  },
  {
   "cell_type": "code",
   "execution_count": null,
   "outputs": [],
   "source": [
    "val_1 = list(range(50))\n",
    "for i in range(50):\n",
    "    val_1[i] = Task1_err(1000, 1/(2*i+1))\n",
    "\n",
    "\n",
    "x = np.arange(50)\n",
    "fac = [1/(2*i+1) for i in range(50)]\n",
    "values = [val_1[i] for i in range(50)]\n",
    "print(fac)\n",
    "\n",
    "plt.plot(fac, values)\n",
    "plt.show()\n",
    "\n",
    "\n",
    "\n",
    "\n",
    "\n"
   ],
   "metadata": {
    "collapsed": false,
    "pycharm": {
     "name": "#%%\n",
     "is_executing": true
    }
   }
  },
  {
   "cell_type": "code",
   "execution_count": null,
   "outputs": [],
   "source": [],
   "metadata": {
    "collapsed": false,
    "pycharm": {
     "name": "#%%\n"
    }
   }
  }
 ],
 "metadata": {
  "kernelspec": {
   "name": "python3",
   "language": "python",
   "display_name": "Python 3"
  },
  "language_info": {
   "codemirror_mode": {
    "name": "ipython",
    "version": 3
   },
   "file_extension": ".py",
   "mimetype": "text/x-python",
   "name": "python",
   "nbconvert_exporter": "python",
   "pygments_lexer": "ipython3",
   "version": "3.8.5"
  }
 },
 "nbformat": 4,
 "nbformat_minor": 4
}