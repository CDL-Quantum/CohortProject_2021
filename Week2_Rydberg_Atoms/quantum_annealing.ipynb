{
 "cells": [
  {
   "cell_type": "code",
   "execution_count": 1,
   "id": "d7227f2b",
   "metadata": {
    "collapsed": true
   },
   "outputs": [
    {
     "name": "stderr",
     "output_type": "stream",
     "text": [
      "\u001b[32m\u001b[1m    Updating\u001b[22m\u001b[39m registry at `C:\\Users\\Aida\\.julia\\registries\\General`\n",
      "\u001b[32m\u001b[1m    Updating\u001b[22m\u001b[39m git-repo `https://github.com/JuliaRegistries/General.git`\n",
      "\u001b[32m\u001b[1m   Resolving\u001b[22m\u001b[39m package versions...\n",
      "\u001b[32m\u001b[1m  No Changes\u001b[22m\u001b[39m to `C:\\Users\\Aida\\.julia\\environments\\v1.6\\Project.toml`\n",
      "\u001b[32m\u001b[1m  No Changes\u001b[22m\u001b[39m to `C:\\Users\\Aida\\.julia\\environments\\v1.6\\Manifest.toml`\n"
     ]
    }
   ],
   "source": [
    "import Pkg; Pkg.add(\"Yao\")"
   ]
  },
  {
   "cell_type": "code",
   "execution_count": 2,
   "id": "16bab7fb",
   "metadata": {
    "collapsed": true
   },
   "outputs": [
    {
     "name": "stderr",
     "output_type": "stream",
     "text": [
      "\u001b[32m\u001b[1m   Resolving\u001b[22m\u001b[39m package versions...\n",
      "\u001b[32m\u001b[1m  No Changes\u001b[22m\u001b[39m to `C:\\Users\\Aida\\.julia\\environments\\v1.6\\Project.toml`\n",
      "\u001b[32m\u001b[1m  No Changes\u001b[22m\u001b[39m to `C:\\Users\\Aida\\.julia\\environments\\v1.6\\Manifest.toml`\n"
     ]
    }
   ],
   "source": [
    "import Pkg; Pkg.add(\"BitBasis\")"
   ]
  },
  {
   "cell_type": "code",
   "execution_count": 3,
   "id": "edb7b5ca",
   "metadata": {
    "collapsed": true
   },
   "outputs": [
    {
     "name": "stderr",
     "output_type": "stream",
     "text": [
      "\u001b[32m\u001b[1m   Resolving\u001b[22m\u001b[39m package versions...\n",
      "\u001b[32m\u001b[1m  No Changes\u001b[22m\u001b[39m to `C:\\Users\\Aida\\.julia\\environments\\v1.6\\Project.toml`\n",
      "\u001b[32m\u001b[1m  No Changes\u001b[22m\u001b[39m to `C:\\Users\\Aida\\.julia\\environments\\v1.6\\Manifest.toml`\n"
     ]
    }
   ],
   "source": [
    "import Pkg; Pkg.add(\"LightGraphs\")"
   ]
  },
  {
   "cell_type": "code",
   "execution_count": 4,
   "id": "312a4eaf",
   "metadata": {
    "collapsed": true
   },
   "outputs": [
    {
     "name": "stderr",
     "output_type": "stream",
     "text": [
      "\u001b[32m\u001b[1m   Resolving\u001b[22m\u001b[39m package versions...\n",
      "\u001b[32m\u001b[1m  No Changes\u001b[22m\u001b[39m to `C:\\Users\\Aida\\.julia\\environments\\v1.6\\Project.toml`\n",
      "\u001b[32m\u001b[1m  No Changes\u001b[22m\u001b[39m to `C:\\Users\\Aida\\.julia\\environments\\v1.6\\Manifest.toml`\n"
     ]
    }
   ],
   "source": [
    "import Pkg; Pkg.add(\"GraphPlot\")"
   ]
  },
  {
   "cell_type": "code",
   "execution_count": 5,
   "id": "591438c8",
   "metadata": {
    "collapsed": true
   },
   "outputs": [
    {
     "name": "stderr",
     "output_type": "stream",
     "text": [
      "\u001b[32m\u001b[1m   Resolving\u001b[22m\u001b[39m package versions...\n",
      "\u001b[32m\u001b[1m  No Changes\u001b[22m\u001b[39m to `C:\\Users\\Aida\\.julia\\environments\\v1.6\\Project.toml`\n",
      "\u001b[32m\u001b[1m  No Changes\u001b[22m\u001b[39m to `C:\\Users\\Aida\\.julia\\environments\\v1.6\\Manifest.toml`\n"
     ]
    }
   ],
   "source": [
    "import Pkg; Pkg.add(\"Plots\")"
   ]
  },
  {
   "cell_type": "code",
   "execution_count": 6,
   "id": "2894259a",
   "metadata": {
    "collapsed": true
   },
   "outputs": [
    {
     "name": "stderr",
     "output_type": "stream",
     "text": [
      "\u001b[32m\u001b[1m   Resolving\u001b[22m\u001b[39m package versions...\n",
      "\u001b[32m\u001b[1m  No Changes\u001b[22m\u001b[39m to `C:\\Users\\Aida\\.julia\\environments\\v1.6\\Project.toml`\n",
      "\u001b[32m\u001b[1m  No Changes\u001b[22m\u001b[39m to `C:\\Users\\Aida\\.julia\\environments\\v1.6\\Manifest.toml`\n"
     ]
    }
   ],
   "source": [
    "import Pkg; Pkg.add(\"CSV\")"
   ]
  },
  {
   "cell_type": "code",
   "execution_count": 7,
   "id": "23c6a6ec",
   "metadata": {
    "collapsed": true
   },
   "outputs": [
    {
     "name": "stderr",
     "output_type": "stream",
     "text": [
      "\u001b[32m\u001b[1m   Resolving\u001b[22m\u001b[39m package versions...\n",
      "\u001b[32m\u001b[1m  No Changes\u001b[22m\u001b[39m to `C:\\Users\\Aida\\.julia\\environments\\v1.6\\Project.toml`\n",
      "\u001b[32m\u001b[1m  No Changes\u001b[22m\u001b[39m to `C:\\Users\\Aida\\.julia\\environments\\v1.6\\Manifest.toml`\n"
     ]
    }
   ],
   "source": [
    "import Pkg; Pkg.add(\"DataFrames\")"
   ]
  },
  {
   "cell_type": "code",
   "execution_count": 8,
   "id": "58906bd6",
   "metadata": {
    "collapsed": true
   },
   "outputs": [
    {
     "name": "stderr",
     "output_type": "stream",
     "text": [
      "\u001b[32m\u001b[1m   Resolving\u001b[22m\u001b[39m package versions...\n",
      "\u001b[32m\u001b[1m  No Changes\u001b[22m\u001b[39m to `C:\\Users\\Aida\\.julia\\environments\\v1.6\\Project.toml`\n",
      "\u001b[32m\u001b[1m  No Changes\u001b[22m\u001b[39m to `C:\\Users\\Aida\\.julia\\environments\\v1.6\\Manifest.toml`\n"
     ]
    }
   ],
   "source": [
    "import Pkg; Pkg.add(\"StatsBase\")"
   ]
  },
  {
   "cell_type": "code",
   "execution_count": 9,
   "id": "423450ee",
   "metadata": {
    "collapsed": true
   },
   "outputs": [
    {
     "name": "stderr",
     "output_type": "stream",
     "text": [
      "\u001b[32m\u001b[1m   Resolving\u001b[22m\u001b[39m package versions...\n",
      "\u001b[32m\u001b[1m   Installed\u001b[22m\u001b[39m Rmath ──────────────── v0.7.0\n",
      "\u001b[32m\u001b[1m   Installed\u001b[22m\u001b[39m Rmath_jll ──────────── v0.3.0+0\n",
      "\u001b[32m\u001b[1m   Installed\u001b[22m\u001b[39m PDMats ─────────────── v0.11.1\n",
      "\u001b[32m\u001b[1m   Installed\u001b[22m\u001b[39m DiffRules ──────────── v1.0.2\n",
      "\u001b[32m\u001b[1m   Installed\u001b[22m\u001b[39m NLSolversBase ──────── v7.8.0\n",
      "\u001b[32m\u001b[1m   Installed\u001b[22m\u001b[39m FiniteDiff ─────────── v2.8.0\n",
      "\u001b[32m\u001b[1m   Installed\u001b[22m\u001b[39m LsqFit ─────────────── v0.12.1\n",
      "\u001b[32m\u001b[1m   Installed\u001b[22m\u001b[39m DocStringExtensions ── v0.8.5\n",
      "\u001b[32m\u001b[1m   Installed\u001b[22m\u001b[39m OptimBase ──────────── v2.0.2\n",
      "\u001b[32m\u001b[1m   Installed\u001b[22m\u001b[39m DiffResults ────────── v1.0.3\n",
      "\u001b[32m\u001b[1m   Installed\u001b[22m\u001b[39m LogExpFunctions ────── v0.2.5\n",
      "\u001b[32m\u001b[1m   Installed\u001b[22m\u001b[39m FillArrays ─────────── v0.12.0\n",
      "\u001b[32m\u001b[1m   Installed\u001b[22m\u001b[39m StatsFuns ──────────── v0.9.8\n",
      "\u001b[32m\u001b[1m   Installed\u001b[22m\u001b[39m QuadGK ─────────────── v2.4.1\n",
      "\u001b[32m\u001b[1m   Installed\u001b[22m\u001b[39m ChainRulesCore ─────── v0.10.12\n",
      "\u001b[32m\u001b[1m   Installed\u001b[22m\u001b[39m CommonSubexpressions ─ v0.3.0\n",
      "\u001b[32m\u001b[1m   Installed\u001b[22m\u001b[39m OpenSpecFun_jll ────── v0.5.5+0\n",
      "\u001b[32m\u001b[1m   Installed\u001b[22m\u001b[39m SpecialFunctions ───── v1.5.1\n",
      "\u001b[32m\u001b[1m   Installed\u001b[22m\u001b[39m ForwardDiff ────────── v0.10.18\n",
      "\u001b[32m\u001b[1m   Installed\u001b[22m\u001b[39m Distributions ──────── v0.25.11\n",
      "\u001b[32m\u001b[1m    Updating\u001b[22m\u001b[39m `C:\\Users\\Aida\\.julia\\environments\\v1.6\\Project.toml`\n",
      " \u001b[90m [2fda8390] \u001b[39m\u001b[92m+ LsqFit v0.12.1\u001b[39m\n",
      "\u001b[32m\u001b[1m    Updating\u001b[22m\u001b[39m `C:\\Users\\Aida\\.julia\\environments\\v1.6\\Manifest.toml`\n",
      " \u001b[90m [d360d2e6] \u001b[39m\u001b[92m+ ChainRulesCore v0.10.12\u001b[39m\n",
      " \u001b[90m [bbf7d656] \u001b[39m\u001b[92m+ CommonSubexpressions v0.3.0\u001b[39m\n",
      " \u001b[90m [163ba53b] \u001b[39m\u001b[92m+ DiffResults v1.0.3\u001b[39m\n",
      " \u001b[90m [b552c78f] \u001b[39m\u001b[92m+ DiffRules v1.0.2\u001b[39m\n",
      " \u001b[90m [31c24e10] \u001b[39m\u001b[92m+ Distributions v0.25.11\u001b[39m\n",
      " \u001b[90m [ffbed154] \u001b[39m\u001b[92m+ DocStringExtensions v0.8.5\u001b[39m\n",
      " \u001b[90m [1a297f60] \u001b[39m\u001b[92m+ FillArrays v0.12.0\u001b[39m\n",
      " \u001b[90m [6a86dc24] \u001b[39m\u001b[92m+ FiniteDiff v2.8.0\u001b[39m\n",
      " \u001b[90m [f6369f11] \u001b[39m\u001b[92m+ ForwardDiff v0.10.18\u001b[39m\n",
      " \u001b[90m [2ab3a3ac] \u001b[39m\u001b[92m+ LogExpFunctions v0.2.5\u001b[39m\n",
      " \u001b[90m [2fda8390] \u001b[39m\u001b[92m+ LsqFit v0.12.1\u001b[39m\n",
      " \u001b[90m [d41bc354] \u001b[39m\u001b[92m+ NLSolversBase v7.8.0\u001b[39m\n",
      " \u001b[90m [87e2bd06] \u001b[39m\u001b[92m+ OptimBase v2.0.2\u001b[39m\n",
      " \u001b[90m [90014a1f] \u001b[39m\u001b[92m+ PDMats v0.11.1\u001b[39m\n",
      " \u001b[90m [1fd47b50] \u001b[39m\u001b[92m+ QuadGK v2.4.1\u001b[39m\n",
      " \u001b[90m [79098fc4] \u001b[39m\u001b[92m+ Rmath v0.7.0\u001b[39m\n",
      " \u001b[90m [276daf66] \u001b[39m\u001b[92m+ SpecialFunctions v1.5.1\u001b[39m\n",
      " \u001b[90m [4c63d2b9] \u001b[39m\u001b[92m+ StatsFuns v0.9.8\u001b[39m\n",
      " \u001b[90m [efe28fd5] \u001b[39m\u001b[92m+ OpenSpecFun_jll v0.5.5+0\u001b[39m\n",
      " \u001b[90m [f50d1b31] \u001b[39m\u001b[92m+ Rmath_jll v0.3.0+0\u001b[39m\n",
      " \u001b[90m [4607b0f0] \u001b[39m\u001b[92m+ SuiteSparse\u001b[39m\n",
      "\u001b[32m\u001b[1mPrecompiling\u001b[22m\u001b[39m project...\n",
      "\u001b[32m  ✓ \u001b[39m\u001b[90mDocStringExtensions\u001b[39m\n",
      "\u001b[32m  ✓ \u001b[39m\u001b[90mPDMats\u001b[39m\n",
      "\u001b[32m  ✓ \u001b[39m\u001b[90mFillArrays\u001b[39m\n",
      "\u001b[32m  ✓ \u001b[39m\u001b[90mChainRulesCore\u001b[39m\n",
      "\u001b[32m  ✓ \u001b[39m\u001b[90mCommonSubexpressions\u001b[39m\n",
      "\u001b[32m  ✓ \u001b[39m\u001b[90mQuadGK\u001b[39m\n",
      "\u001b[32m  ✓ \u001b[39m\u001b[90mDiffResults\u001b[39m\n",
      "\u001b[32m  ✓ \u001b[39m\u001b[90mRmath_jll\u001b[39m\n",
      "\u001b[32m  ✓ \u001b[39m\u001b[90mLogExpFunctions\u001b[39m\n",
      "\u001b[32m  ✓ \u001b[39m\u001b[90mOpenSpecFun_jll\u001b[39m\n",
      "\u001b[32m  ✓ \u001b[39m\u001b[90mFiniteDiff\u001b[39m\n",
      "\u001b[32m  ✓ \u001b[39m\u001b[90mRmath\u001b[39m\n",
      "\u001b[32m  ✓ \u001b[39m\u001b[90mSpecialFunctions\u001b[39m\n",
      "\u001b[32m  ✓ \u001b[39m\u001b[90mDiffRules\u001b[39m\n",
      "\u001b[32m  ✓ \u001b[39m\u001b[90mStatsFuns\u001b[39m\n",
      "\u001b[32m  ✓ \u001b[39m\u001b[90mForwardDiff\u001b[39m\n",
      "\u001b[32m  ✓ \u001b[39m\u001b[90mDistributions\u001b[39m\n",
      "\u001b[32m  ✓ \u001b[39m\u001b[90mNLSolversBase\u001b[39m\n",
      "\u001b[32m  ✓ \u001b[39m\u001b[90mOptimBase\u001b[39m\n",
      "\u001b[32m  ✓ \u001b[39mLsqFit\n",
      "  20 dependencies successfully precompiled in 21 seconds (151 already precompiled)\n"
     ]
    }
   ],
   "source": [
    "import Pkg; Pkg.add(\"LsqFit\")"
   ]
  },
  {
   "cell_type": "code",
   "execution_count": 10,
   "id": "3202c884",
   "metadata": {},
   "outputs": [],
   "source": [
    "using Yao\n",
    "using Yao.ConstGate\n",
    "using BitBasis\n",
    "using Plots\n",
    "using GraphPlot\n",
    "using LightGraphs\n",
    "using DataFrames\n",
    "using CSV\n",
    "using StatsBase\n",
    "using LsqFit"
   ]
  },
  {
   "cell_type": "code",
   "execution_count": 10,
   "id": "206c175f",
   "metadata": {},
   "outputs": [
    {
     "data": {
      "text/plain": [
       "1.0"
      ]
     },
     "execution_count": 10,
     "metadata": {},
     "output_type": "execute_result"
    }
   ],
   "source": [
    "const u = 1.35\n",
    "const Ω_max = 1.89\n",
    "const δ_0 = -2.0\n",
    "const δ_max = 1.0"
   ]
  },
  {
   "cell_type": "code",
   "execution_count": 11,
   "id": "2fd343dd",
   "metadata": {},
   "outputs": [
    {
     "data": {
      "text/plain": [
       "run_annealing (generic function with 1 method)"
      ]
     },
     "execution_count": 11,
     "metadata": {},
     "output_type": "execute_result"
    }
   ],
   "source": [
    "function get_edges(graph::Vector{NTuple{2, Float64}})\n",
    "    Nv = size(graph)[1]\n",
    "    edges = falses(Nv, Nv)\n",
    "    for i in 1:(Nv-1)\n",
    "        xi, yi = graph[i]\n",
    "        for j in (i+1):Nv\n",
    "            xj, yj = graph[j]\n",
    "\n",
    "            dij = sqrt((xi - xj)^2. + (yi - yj)^2.)\n",
    "            if dij <= 1.0\n",
    "                edges[i,j] = true\n",
    "            end\n",
    "        end\n",
    "    end\n",
    "    return findall(edges)\n",
    "end\n",
    "\n",
    "function Ω(t::Float64)\n",
    "    if 0 <= t <= 0.25\n",
    "        return 4. * Ω_max * t\n",
    "    elseif 0.25 < t <= 0.69\n",
    "        return Ω_max\n",
    "    elseif 0.69 < t <= 1\n",
    "        return -Ω_max * t / 0.31 + 1.89/0.31\n",
    "    end\n",
    "end\n",
    "\n",
    "function δ(t::Float64)\n",
    "    if 0 <= t <= 0.25\n",
    "        return δ_0\n",
    "    elseif 0.25 < t <= 0.69\n",
    "        return t * (δ_0 + δ_max)/0.44 + δ_0\n",
    "    elseif 0.69 < t <= 1\n",
    "        return δ_max\n",
    "    end\n",
    "end \n",
    "\n",
    "function hamiltonian(graph::Vector{NTuple{2, Float64}}, edges::Vector{CartesianIndex{2}}, t::Float64)\n",
    "    # the UD-MIS Hamiltonian\n",
    "    Nv = size(graph)[1] # number of vertices\n",
    "\n",
    "    interaction_term = map(1:size(edges)[1]) do i\n",
    "        l,m = edges[i][1], edges[i][2]\n",
    "        repeat(Nv,u*P1,(l,m))\n",
    "    end |> sum\n",
    "    interaction_term - δ(t)*sum(map(i->put(Nv,i=>P1), 1:Nv)) + Ω(t)*sum(map(i->put(Nv,i=>X), 1:Nv))\n",
    "end\n",
    "\n",
    "function run_annealing(graph::Vector{NTuple{2, Float64}}, edges::Vector{CartesianIndex{2}}, dt::Float64)\n",
    "    psi_t = zero_state(size(graph)[1])\n",
    "    for t in 0:dt:1.0\n",
    "        h = hamiltonian(graph, edges, t)\n",
    "        psi_t = psi_t |> TimeEvolution(h, dt)\n",
    "    end\n",
    "    return psi_t\n",
    "end\n"
   ]
  },
  {
   "cell_type": "code",
   "execution_count": 17,
   "id": "66b31a78",
   "metadata": {},
   "outputs": [
    {
     "data": {
      "text/plain": [
       "0.001"
      ]
     },
     "execution_count": 17,
     "metadata": {},
     "output_type": "execute_result"
    }
   ],
   "source": [
    "graph = [(0.3461717838632017, 1.4984640297338632), (0.6316400411846113, 2.5754677320579895), (1.3906262250927481, 2.164978861396621), (0.66436005100802, 0.6717919819739032), (0.8663329771713457, 3.3876341010035995), (1.1643107343501296, 1.0823066243402013)]\n",
    "edges = get_edges(graph)\n",
    "dt = 0.001"
   ]
  },
  {
   "cell_type": "code",
   "execution_count": 21,
   "id": "1f4c71be",
   "metadata": {},
   "outputs": [
    {
     "data": {
      "text/plain": [
       "Vector{Tuple{Float64, Float64}} (alias for Array{Tuple{Float64, Float64}, 1})"
      ]
     },
     "execution_count": 21,
     "metadata": {},
     "output_type": "execute_result"
    }
   ],
   "source": [
    "typeof(graph)"
   ]
  },
  {
   "cell_type": "code",
   "execution_count": 18,
   "id": "b9a5f8f7",
   "metadata": {},
   "outputs": [],
   "source": [
    "#psi = run_annealing(graph, edges, dt)\n",
    "#samples = measure(psi; nshots=10)\n",
    "#@show samples"
   ]
  },
  {
   "cell_type": "code",
   "execution_count": 19,
   "id": "b842edcb",
   "metadata": {
    "scrolled": true
   },
   "outputs": [
    {
     "data": {
      "image/svg+xml": [
       "<?xml version=\"1.0\" encoding=\"utf-8\"?>\n",
       "<svg xmlns=\"http://www.w3.org/2000/svg\" xmlns:xlink=\"http://www.w3.org/1999/xlink\" width=\"600\" height=\"400\" viewBox=\"0 0 2400 1600\">\n",
       "<defs>\n",
       "  <clipPath id=\"clip440\">\n",
       "    <rect x=\"0\" y=\"0\" width=\"2400\" height=\"1600\"/>\n",
       "  </clipPath>\n",
       "</defs>\n",
       "<path clip-path=\"url(#clip440)\" d=\"\n",
       "M0 1600 L2400 1600 L2400 0 L0 0  Z\n",
       "  \" fill=\"#ffffff\" fill-rule=\"evenodd\" fill-opacity=\"1\"/>\n",
       "<defs>\n",
       "  <clipPath id=\"clip441\">\n",
       "    <rect x=\"480\" y=\"0\" width=\"1681\" height=\"1600\"/>\n",
       "  </clipPath>\n",
       "</defs>\n",
       "<path clip-path=\"url(#clip440)\" d=\"\n",
       "M170.857 1486.45 L2352.76 1486.45 L2352.76 47.2441 L170.857 47.2441  Z\n",
       "  \" fill=\"#ffffff\" fill-rule=\"evenodd\" fill-opacity=\"1\"/>\n",
       "<defs>\n",
       "  <clipPath id=\"clip442\">\n",
       "    <rect x=\"170\" y=\"47\" width=\"2183\" height=\"1440\"/>\n",
       "  </clipPath>\n",
       "</defs>\n",
       "<polyline clip-path=\"url(#clip442)\" style=\"stroke:#000000; stroke-linecap:butt; stroke-linejoin:round; stroke-width:2; stroke-opacity:0.1; fill:none\" points=\"\n",
       "  290.866,1486.45 290.866,47.2441 \n",
       "  \"/>\n",
       "<polyline clip-path=\"url(#clip442)\" style=\"stroke:#000000; stroke-linecap:butt; stroke-linejoin:round; stroke-width:2; stroke-opacity:0.1; fill:none\" points=\"\n",
       "  594.285,1486.45 594.285,47.2441 \n",
       "  \"/>\n",
       "<polyline clip-path=\"url(#clip442)\" style=\"stroke:#000000; stroke-linecap:butt; stroke-linejoin:round; stroke-width:2; stroke-opacity:0.1; fill:none\" points=\"\n",
       "  897.704,1486.45 897.704,47.2441 \n",
       "  \"/>\n",
       "<polyline clip-path=\"url(#clip442)\" style=\"stroke:#000000; stroke-linecap:butt; stroke-linejoin:round; stroke-width:2; stroke-opacity:0.1; fill:none\" points=\"\n",
       "  1201.12,1486.45 1201.12,47.2441 \n",
       "  \"/>\n",
       "<polyline clip-path=\"url(#clip442)\" style=\"stroke:#000000; stroke-linecap:butt; stroke-linejoin:round; stroke-width:2; stroke-opacity:0.1; fill:none\" points=\"\n",
       "  1504.54,1486.45 1504.54,47.2441 \n",
       "  \"/>\n",
       "<polyline clip-path=\"url(#clip442)\" style=\"stroke:#000000; stroke-linecap:butt; stroke-linejoin:round; stroke-width:2; stroke-opacity:0.1; fill:none\" points=\"\n",
       "  1807.96,1486.45 1807.96,47.2441 \n",
       "  \"/>\n",
       "<polyline clip-path=\"url(#clip442)\" style=\"stroke:#000000; stroke-linecap:butt; stroke-linejoin:round; stroke-width:2; stroke-opacity:0.1; fill:none\" points=\"\n",
       "  2111.38,1486.45 2111.38,47.2441 \n",
       "  \"/>\n",
       "<polyline clip-path=\"url(#clip440)\" style=\"stroke:#000000; stroke-linecap:butt; stroke-linejoin:round; stroke-width:4; stroke-opacity:1; fill:none\" points=\"\n",
       "  170.857,1486.45 2352.76,1486.45 \n",
       "  \"/>\n",
       "<polyline clip-path=\"url(#clip440)\" style=\"stroke:#000000; stroke-linecap:butt; stroke-linejoin:round; stroke-width:4; stroke-opacity:1; fill:none\" points=\"\n",
       "  290.866,1486.45 290.866,1469.18 \n",
       "  \"/>\n",
       "<polyline clip-path=\"url(#clip440)\" style=\"stroke:#000000; stroke-linecap:butt; stroke-linejoin:round; stroke-width:4; stroke-opacity:1; fill:none\" points=\"\n",
       "  594.285,1486.45 594.285,1469.18 \n",
       "  \"/>\n",
       "<polyline clip-path=\"url(#clip440)\" style=\"stroke:#000000; stroke-linecap:butt; stroke-linejoin:round; stroke-width:4; stroke-opacity:1; fill:none\" points=\"\n",
       "  897.704,1486.45 897.704,1469.18 \n",
       "  \"/>\n",
       "<polyline clip-path=\"url(#clip440)\" style=\"stroke:#000000; stroke-linecap:butt; stroke-linejoin:round; stroke-width:4; stroke-opacity:1; fill:none\" points=\"\n",
       "  1201.12,1486.45 1201.12,1469.18 \n",
       "  \"/>\n",
       "<polyline clip-path=\"url(#clip440)\" style=\"stroke:#000000; stroke-linecap:butt; stroke-linejoin:round; stroke-width:4; stroke-opacity:1; fill:none\" points=\"\n",
       "  1504.54,1486.45 1504.54,1469.18 \n",
       "  \"/>\n",
       "<polyline clip-path=\"url(#clip440)\" style=\"stroke:#000000; stroke-linecap:butt; stroke-linejoin:round; stroke-width:4; stroke-opacity:1; fill:none\" points=\"\n",
       "  1807.96,1486.45 1807.96,1469.18 \n",
       "  \"/>\n",
       "<polyline clip-path=\"url(#clip440)\" style=\"stroke:#000000; stroke-linecap:butt; stroke-linejoin:round; stroke-width:4; stroke-opacity:1; fill:none\" points=\"\n",
       "  2111.38,1486.45 2111.38,1469.18 \n",
       "  \"/>\n",
       "<path clip-path=\"url(#clip440)\" d=\"M290.866 1515.64 Q287.255 1515.64 285.426 1519.2 Q283.62 1522.75 283.62 1529.87 Q283.62 1536.98 285.426 1540.55 Q287.255 1544.09 290.866 1544.09 Q294.5 1544.09 296.306 1540.55 Q298.134 1536.98 298.134 1529.87 Q298.134 1522.75 296.306 1519.2 Q294.5 1515.64 290.866 1515.64 M290.866 1511.93 Q296.676 1511.93 299.731 1516.54 Q302.81 1521.12 302.81 1529.87 Q302.81 1538.6 299.731 1543.21 Q296.676 1547.79 290.866 1547.79 Q285.056 1547.79 281.977 1543.21 Q278.921 1538.6 278.921 1529.87 Q278.921 1521.12 281.977 1516.54 Q285.056 1511.93 290.866 1511.93 Z\" fill=\"#000000\" fill-rule=\"evenodd\" fill-opacity=\"1\" /><path clip-path=\"url(#clip440)\" d=\"M568.972 1543.18 L576.611 1543.18 L576.611 1516.82 L568.301 1518.49 L568.301 1514.23 L576.565 1512.56 L581.241 1512.56 L581.241 1543.18 L588.88 1543.18 L588.88 1547.12 L568.972 1547.12 L568.972 1543.18 Z\" fill=\"#000000\" fill-rule=\"evenodd\" fill-opacity=\"1\" /><path clip-path=\"url(#clip440)\" d=\"M608.324 1515.64 Q604.713 1515.64 602.884 1519.2 Q601.079 1522.75 601.079 1529.87 Q601.079 1536.98 602.884 1540.55 Q604.713 1544.09 608.324 1544.09 Q611.958 1544.09 613.764 1540.55 Q615.593 1536.98 615.593 1529.87 Q615.593 1522.75 613.764 1519.2 Q611.958 1515.64 608.324 1515.64 M608.324 1511.93 Q614.134 1511.93 617.19 1516.54 Q620.268 1521.12 620.268 1529.87 Q620.268 1538.6 617.19 1543.21 Q614.134 1547.79 608.324 1547.79 Q602.514 1547.79 599.435 1543.21 Q596.38 1538.6 596.38 1529.87 Q596.38 1521.12 599.435 1516.54 Q602.514 1511.93 608.324 1511.93 Z\" fill=\"#000000\" fill-rule=\"evenodd\" fill-opacity=\"1\" /><path clip-path=\"url(#clip440)\" d=\"M876.477 1543.18 L892.796 1543.18 L892.796 1547.12 L870.852 1547.12 L870.852 1543.18 Q873.514 1540.43 878.097 1535.8 Q882.704 1531.15 883.884 1529.81 Q886.13 1527.28 887.009 1525.55 Q887.912 1523.79 887.912 1522.1 Q887.912 1519.34 885.968 1517.61 Q884.046 1515.87 880.945 1515.87 Q878.746 1515.87 876.292 1516.63 Q873.861 1517.4 871.084 1518.95 L871.084 1514.23 Q873.908 1513.09 876.361 1512.51 Q878.815 1511.93 880.852 1511.93 Q886.222 1511.93 889.417 1514.62 Q892.611 1517.31 892.611 1521.8 Q892.611 1523.93 891.801 1525.85 Q891.014 1527.74 888.908 1530.34 Q888.329 1531.01 885.227 1534.23 Q882.125 1537.42 876.477 1543.18 Z\" fill=\"#000000\" fill-rule=\"evenodd\" fill-opacity=\"1\" /><path clip-path=\"url(#clip440)\" d=\"M912.611 1515.64 Q909 1515.64 907.171 1519.2 Q905.366 1522.75 905.366 1529.87 Q905.366 1536.98 907.171 1540.55 Q909 1544.09 912.611 1544.09 Q916.245 1544.09 918.051 1540.55 Q919.88 1536.98 919.88 1529.87 Q919.88 1522.75 918.051 1519.2 Q916.245 1515.64 912.611 1515.64 M912.611 1511.93 Q918.421 1511.93 921.477 1516.54 Q924.556 1521.12 924.556 1529.87 Q924.556 1538.6 921.477 1543.21 Q918.421 1547.79 912.611 1547.79 Q906.801 1547.79 903.722 1543.21 Q900.667 1538.6 900.667 1529.87 Q900.667 1521.12 903.722 1516.54 Q906.801 1511.93 912.611 1511.93 Z\" fill=\"#000000\" fill-rule=\"evenodd\" fill-opacity=\"1\" /><path clip-path=\"url(#clip440)\" d=\"M1189.97 1528.49 Q1193.32 1529.2 1195.2 1531.47 Q1197.1 1533.74 1197.1 1537.07 Q1197.1 1542.19 1193.58 1544.99 Q1190.06 1547.79 1183.58 1547.79 Q1181.4 1547.79 1179.09 1547.35 Q1176.79 1546.93 1174.34 1546.08 L1174.34 1541.56 Q1176.29 1542.7 1178.6 1543.28 Q1180.91 1543.86 1183.44 1543.86 Q1187.84 1543.86 1190.13 1542.12 Q1192.44 1540.38 1192.44 1537.07 Q1192.44 1534.02 1190.29 1532.31 Q1188.16 1530.57 1184.34 1530.57 L1180.31 1530.57 L1180.31 1526.73 L1184.53 1526.73 Q1187.97 1526.73 1189.8 1525.36 Q1191.63 1523.97 1191.63 1521.38 Q1191.63 1518.72 1189.73 1517.31 Q1187.86 1515.87 1184.34 1515.87 Q1182.42 1515.87 1180.22 1516.29 Q1178.02 1516.7 1175.38 1517.58 L1175.38 1513.42 Q1178.04 1512.68 1180.36 1512.31 Q1182.7 1511.93 1184.76 1511.93 Q1190.08 1511.93 1193.18 1514.37 Q1196.28 1516.77 1196.28 1520.89 Q1196.28 1523.76 1194.64 1525.75 Q1193 1527.72 1189.97 1528.49 Z\" fill=\"#000000\" fill-rule=\"evenodd\" fill-opacity=\"1\" /><path clip-path=\"url(#clip440)\" d=\"M1215.96 1515.64 Q1212.35 1515.64 1210.52 1519.2 Q1208.72 1522.75 1208.72 1529.87 Q1208.72 1536.98 1210.52 1540.55 Q1212.35 1544.09 1215.96 1544.09 Q1219.59 1544.09 1221.4 1540.55 Q1223.23 1536.98 1223.23 1529.87 Q1223.23 1522.75 1221.4 1519.2 Q1219.59 1515.64 1215.96 1515.64 M1215.96 1511.93 Q1221.77 1511.93 1224.83 1516.54 Q1227.91 1521.12 1227.91 1529.87 Q1227.91 1538.6 1224.83 1543.21 Q1221.77 1547.79 1215.96 1547.79 Q1210.15 1547.79 1207.07 1543.21 Q1204.02 1538.6 1204.02 1529.87 Q1204.02 1521.12 1207.07 1516.54 Q1210.15 1511.93 1215.96 1511.93 Z\" fill=\"#000000\" fill-rule=\"evenodd\" fill-opacity=\"1\" /><path clip-path=\"url(#clip440)\" d=\"M1492.71 1516.63 L1480.91 1535.08 L1492.71 1535.08 L1492.71 1516.63 M1491.49 1512.56 L1497.37 1512.56 L1497.37 1535.08 L1502.3 1535.08 L1502.3 1538.97 L1497.37 1538.97 L1497.37 1547.12 L1492.71 1547.12 L1492.71 1538.97 L1477.11 1538.97 L1477.11 1534.46 L1491.49 1512.56 Z\" fill=\"#000000\" fill-rule=\"evenodd\" fill-opacity=\"1\" /><path clip-path=\"url(#clip440)\" d=\"M1520.03 1515.64 Q1516.42 1515.64 1514.59 1519.2 Q1512.78 1522.75 1512.78 1529.87 Q1512.78 1536.98 1514.59 1540.55 Q1516.42 1544.09 1520.03 1544.09 Q1523.66 1544.09 1525.47 1540.55 Q1527.3 1536.98 1527.3 1529.87 Q1527.3 1522.75 1525.47 1519.2 Q1523.66 1515.64 1520.03 1515.64 M1520.03 1511.93 Q1525.84 1511.93 1528.89 1516.54 Q1531.97 1521.12 1531.97 1529.87 Q1531.97 1538.6 1528.89 1543.21 Q1525.84 1547.79 1520.03 1547.79 Q1514.22 1547.79 1511.14 1543.21 Q1508.08 1538.6 1508.08 1529.87 Q1508.08 1521.12 1511.14 1516.54 Q1514.22 1511.93 1520.03 1511.93 Z\" fill=\"#000000\" fill-rule=\"evenodd\" fill-opacity=\"1\" /><path clip-path=\"url(#clip440)\" d=\"M1782.66 1512.56 L1801.02 1512.56 L1801.02 1516.5 L1786.94 1516.5 L1786.94 1524.97 Q1787.96 1524.62 1788.98 1524.46 Q1790 1524.27 1791.02 1524.27 Q1796.8 1524.27 1800.18 1527.44 Q1803.56 1530.62 1803.56 1536.03 Q1803.56 1541.61 1800.09 1544.71 Q1796.62 1547.79 1790.3 1547.79 Q1788.12 1547.79 1785.85 1547.42 Q1783.61 1547.05 1781.2 1546.31 L1781.2 1541.61 Q1783.29 1542.74 1785.51 1543.3 Q1787.73 1543.86 1790.21 1543.86 Q1794.21 1543.86 1796.55 1541.75 Q1798.89 1539.64 1798.89 1536.03 Q1798.89 1532.42 1796.55 1530.31 Q1794.21 1528.21 1790.21 1528.21 Q1788.33 1528.21 1786.46 1528.62 Q1784.6 1529.04 1782.66 1529.92 L1782.66 1512.56 Z\" fill=\"#000000\" fill-rule=\"evenodd\" fill-opacity=\"1\" /><path clip-path=\"url(#clip440)\" d=\"M1822.78 1515.64 Q1819.16 1515.64 1817.34 1519.2 Q1815.53 1522.75 1815.53 1529.87 Q1815.53 1536.98 1817.34 1540.55 Q1819.16 1544.09 1822.78 1544.09 Q1826.41 1544.09 1828.22 1540.55 Q1830.04 1536.98 1830.04 1529.87 Q1830.04 1522.75 1828.22 1519.2 Q1826.41 1515.64 1822.78 1515.64 M1822.78 1511.93 Q1828.59 1511.93 1831.64 1516.54 Q1834.72 1521.12 1834.72 1529.87 Q1834.72 1538.6 1831.64 1543.21 Q1828.59 1547.79 1822.78 1547.79 Q1816.97 1547.79 1813.89 1543.21 Q1810.83 1538.6 1810.83 1529.87 Q1810.83 1521.12 1813.89 1516.54 Q1816.97 1511.93 1822.78 1511.93 Z\" fill=\"#000000\" fill-rule=\"evenodd\" fill-opacity=\"1\" /><path clip-path=\"url(#clip440)\" d=\"M2096.79 1527.98 Q2093.64 1527.98 2091.79 1530.13 Q2089.96 1532.28 2089.96 1536.03 Q2089.96 1539.76 2091.79 1541.93 Q2093.64 1544.09 2096.79 1544.09 Q2099.93 1544.09 2101.76 1541.93 Q2103.61 1539.76 2103.61 1536.03 Q2103.61 1532.28 2101.76 1530.13 Q2099.93 1527.98 2096.79 1527.98 M2106.07 1513.32 L2106.07 1517.58 Q2104.31 1516.75 2102.5 1516.31 Q2100.72 1515.87 2098.96 1515.87 Q2094.33 1515.87 2091.88 1519 Q2089.45 1522.12 2089.1 1528.44 Q2090.47 1526.43 2092.53 1525.36 Q2094.59 1524.27 2097.06 1524.27 Q2102.27 1524.27 2105.28 1527.44 Q2108.31 1530.59 2108.31 1536.03 Q2108.31 1541.36 2105.16 1544.57 Q2102.02 1547.79 2096.79 1547.79 Q2090.79 1547.79 2087.62 1543.21 Q2084.45 1538.6 2084.45 1529.87 Q2084.45 1521.68 2088.34 1516.82 Q2092.22 1511.93 2098.78 1511.93 Q2100.54 1511.93 2102.32 1512.28 Q2104.12 1512.63 2106.07 1513.32 Z\" fill=\"#000000\" fill-rule=\"evenodd\" fill-opacity=\"1\" /><path clip-path=\"url(#clip440)\" d=\"M2126.37 1515.64 Q2122.76 1515.64 2120.93 1519.2 Q2119.12 1522.75 2119.12 1529.87 Q2119.12 1536.98 2120.93 1540.55 Q2122.76 1544.09 2126.37 1544.09 Q2130 1544.09 2131.81 1540.55 Q2133.64 1536.98 2133.64 1529.87 Q2133.64 1522.75 2131.81 1519.2 Q2130 1515.64 2126.37 1515.64 M2126.37 1511.93 Q2132.18 1511.93 2135.23 1516.54 Q2138.31 1521.12 2138.31 1529.87 Q2138.31 1538.6 2135.23 1543.21 Q2132.18 1547.79 2126.37 1547.79 Q2120.56 1547.79 2117.48 1543.21 Q2114.42 1538.6 2114.42 1529.87 Q2114.42 1521.12 2117.48 1516.54 Q2120.56 1511.93 2126.37 1511.93 Z\" fill=\"#000000\" fill-rule=\"evenodd\" fill-opacity=\"1\" /><polyline clip-path=\"url(#clip442)\" style=\"stroke:#000000; stroke-linecap:butt; stroke-linejoin:round; stroke-width:2; stroke-opacity:0.1; fill:none\" points=\"\n",
       "  170.857,1445.72 2352.76,1445.72 \n",
       "  \"/>\n",
       "<polyline clip-path=\"url(#clip442)\" style=\"stroke:#000000; stroke-linecap:butt; stroke-linejoin:round; stroke-width:2; stroke-opacity:0.1; fill:none\" points=\"\n",
       "  170.857,983.9 2352.76,983.9 \n",
       "  \"/>\n",
       "<polyline clip-path=\"url(#clip442)\" style=\"stroke:#000000; stroke-linecap:butt; stroke-linejoin:round; stroke-width:2; stroke-opacity:0.1; fill:none\" points=\"\n",
       "  170.857,522.083 2352.76,522.083 \n",
       "  \"/>\n",
       "<polyline clip-path=\"url(#clip442)\" style=\"stroke:#000000; stroke-linecap:butt; stroke-linejoin:round; stroke-width:2; stroke-opacity:0.1; fill:none\" points=\"\n",
       "  170.857,60.2673 2352.76,60.2673 \n",
       "  \"/>\n",
       "<polyline clip-path=\"url(#clip440)\" style=\"stroke:#000000; stroke-linecap:butt; stroke-linejoin:round; stroke-width:4; stroke-opacity:1; fill:none\" points=\"\n",
       "  170.857,1486.45 170.857,47.2441 \n",
       "  \"/>\n",
       "<polyline clip-path=\"url(#clip440)\" style=\"stroke:#000000; stroke-linecap:butt; stroke-linejoin:round; stroke-width:4; stroke-opacity:1; fill:none\" points=\"\n",
       "  170.857,1445.72 197.04,1445.72 \n",
       "  \"/>\n",
       "<polyline clip-path=\"url(#clip440)\" style=\"stroke:#000000; stroke-linecap:butt; stroke-linejoin:round; stroke-width:4; stroke-opacity:1; fill:none\" points=\"\n",
       "  170.857,983.9 197.04,983.9 \n",
       "  \"/>\n",
       "<polyline clip-path=\"url(#clip440)\" style=\"stroke:#000000; stroke-linecap:butt; stroke-linejoin:round; stroke-width:4; stroke-opacity:1; fill:none\" points=\"\n",
       "  170.857,522.083 197.04,522.083 \n",
       "  \"/>\n",
       "<polyline clip-path=\"url(#clip440)\" style=\"stroke:#000000; stroke-linecap:butt; stroke-linejoin:round; stroke-width:4; stroke-opacity:1; fill:none\" points=\"\n",
       "  170.857,60.2673 197.04,60.2673 \n",
       "  \"/>\n",
       "<path clip-path=\"url(#clip440)\" d=\"M122.913 1431.51 Q119.302 1431.51 117.473 1435.08 Q115.668 1438.62 115.668 1445.75 Q115.668 1452.86 117.473 1456.42 Q119.302 1459.96 122.913 1459.96 Q126.547 1459.96 128.353 1456.42 Q130.182 1452.86 130.182 1445.75 Q130.182 1438.62 128.353 1435.08 Q126.547 1431.51 122.913 1431.51 M122.913 1427.81 Q128.723 1427.81 131.779 1432.42 Q134.857 1437 134.857 1445.75 Q134.857 1454.48 131.779 1459.08 Q128.723 1463.67 122.913 1463.67 Q117.103 1463.67 114.024 1459.08 Q110.969 1454.48 110.969 1445.75 Q110.969 1437 114.024 1432.42 Q117.103 1427.81 122.913 1427.81 Z\" fill=\"#000000\" fill-rule=\"evenodd\" fill-opacity=\"1\" /><path clip-path=\"url(#clip440)\" d=\"M53.3995 997.244 L61.0384 997.244 L61.0384 970.879 L52.7282 972.545 L52.7282 968.286 L60.9921 966.62 L65.668 966.62 L65.668 997.244 L73.3068 997.244 L73.3068 1001.18 L53.3995 1001.18 L53.3995 997.244 Z\" fill=\"#000000\" fill-rule=\"evenodd\" fill-opacity=\"1\" /><path clip-path=\"url(#clip440)\" d=\"M92.7512 969.698 Q89.1401 969.698 87.3114 973.263 Q85.5058 976.805 85.5058 983.934 Q85.5058 991.041 87.3114 994.606 Q89.1401 998.147 92.7512 998.147 Q96.3854 998.147 98.1909 994.606 Q100.02 991.041 100.02 983.934 Q100.02 976.805 98.1909 973.263 Q96.3854 969.698 92.7512 969.698 M92.7512 965.995 Q98.5613 965.995 101.617 970.601 Q104.696 975.184 104.696 983.934 Q104.696 992.661 101.617 997.268 Q98.5613 1001.85 92.7512 1001.85 Q86.941 1001.85 83.8623 997.268 Q80.8068 992.661 80.8068 983.934 Q80.8068 975.184 83.8623 970.601 Q86.941 965.995 92.7512 965.995 Z\" fill=\"#000000\" fill-rule=\"evenodd\" fill-opacity=\"1\" /><path clip-path=\"url(#clip440)\" d=\"M122.913 969.698 Q119.302 969.698 117.473 973.263 Q115.668 976.805 115.668 983.934 Q115.668 991.041 117.473 994.606 Q119.302 998.147 122.913 998.147 Q126.547 998.147 128.353 994.606 Q130.182 991.041 130.182 983.934 Q130.182 976.805 128.353 973.263 Q126.547 969.698 122.913 969.698 M122.913 965.995 Q128.723 965.995 131.779 970.601 Q134.857 975.184 134.857 983.934 Q134.857 992.661 131.779 997.268 Q128.723 1001.85 122.913 1001.85 Q117.103 1001.85 114.024 997.268 Q110.969 992.661 110.969 983.934 Q110.969 975.184 114.024 970.601 Q117.103 965.995 122.913 965.995 Z\" fill=\"#000000\" fill-rule=\"evenodd\" fill-opacity=\"1\" /><path clip-path=\"url(#clip440)\" d=\"M56.6171 535.428 L72.9365 535.428 L72.9365 539.363 L50.9921 539.363 L50.9921 535.428 Q53.6541 532.674 58.2375 528.044 Q62.8439 523.391 64.0245 522.049 Q66.2698 519.526 67.1494 517.789 Q68.0522 516.03 68.0522 514.34 Q68.0522 511.586 66.1078 509.85 Q64.1865 508.114 61.0847 508.114 Q58.8856 508.114 56.4319 508.877 Q54.0014 509.641 51.2236 511.192 L51.2236 506.47 Q54.0477 505.336 56.5014 504.757 Q58.955 504.178 60.9921 504.178 Q66.3624 504.178 69.5568 506.864 Q72.7513 509.549 72.7513 514.039 Q72.7513 516.169 71.9411 518.09 Q71.1541 519.989 69.0476 522.581 Q68.4689 523.252 65.367 526.47 Q62.2652 529.664 56.6171 535.428 Z\" fill=\"#000000\" fill-rule=\"evenodd\" fill-opacity=\"1\" /><path clip-path=\"url(#clip440)\" d=\"M92.7512 507.882 Q89.1401 507.882 87.3114 511.447 Q85.5058 514.989 85.5058 522.118 Q85.5058 529.225 87.3114 532.789 Q89.1401 536.331 92.7512 536.331 Q96.3854 536.331 98.1909 532.789 Q100.02 529.225 100.02 522.118 Q100.02 514.989 98.1909 511.447 Q96.3854 507.882 92.7512 507.882 M92.7512 504.178 Q98.5613 504.178 101.617 508.785 Q104.696 513.368 104.696 522.118 Q104.696 530.845 101.617 535.451 Q98.5613 540.035 92.7512 540.035 Q86.941 540.035 83.8623 535.451 Q80.8068 530.845 80.8068 522.118 Q80.8068 513.368 83.8623 508.785 Q86.941 504.178 92.7512 504.178 Z\" fill=\"#000000\" fill-rule=\"evenodd\" fill-opacity=\"1\" /><path clip-path=\"url(#clip440)\" d=\"M122.913 507.882 Q119.302 507.882 117.473 511.447 Q115.668 514.989 115.668 522.118 Q115.668 529.225 117.473 532.789 Q119.302 536.331 122.913 536.331 Q126.547 536.331 128.353 532.789 Q130.182 529.225 130.182 522.118 Q130.182 514.989 128.353 511.447 Q126.547 507.882 122.913 507.882 M122.913 504.178 Q128.723 504.178 131.779 508.785 Q134.857 513.368 134.857 522.118 Q134.857 530.845 131.779 535.451 Q128.723 540.035 122.913 540.035 Q117.103 540.035 114.024 535.451 Q110.969 530.845 110.969 522.118 Q110.969 513.368 114.024 508.785 Q117.103 504.178 122.913 504.178 Z\" fill=\"#000000\" fill-rule=\"evenodd\" fill-opacity=\"1\" /><path clip-path=\"url(#clip440)\" d=\"M66.7559 58.9131 Q70.1124 59.6307 71.9874 61.8992 Q73.8855 64.1678 73.8855 67.5011 Q73.8855 72.6168 70.367 75.4177 Q66.8485 78.2186 60.3671 78.2186 Q58.1912 78.2186 55.8764 77.7788 Q53.5847 77.3621 51.131 76.5056 L51.131 71.9918 Q53.0754 73.126 55.3903 73.7047 Q57.7051 74.2834 60.2282 74.2834 Q64.6263 74.2834 66.918 72.5473 Q69.2328 70.8112 69.2328 67.5011 Q69.2328 64.4455 67.08 62.7326 Q64.9504 60.9965 61.131 60.9965 L57.1032 60.9965 L57.1032 57.1539 L61.3161 57.1539 Q64.7652 57.1539 66.5939 55.7882 Q68.4226 54.3993 68.4226 51.8067 Q68.4226 49.1447 66.5245 47.7327 Q64.6495 46.2975 61.131 46.2975 Q59.2097 46.2975 57.0106 46.7141 Q54.8115 47.1308 52.1727 48.0104 L52.1727 43.8438 Q54.8347 43.103 57.1495 42.7327 Q59.4875 42.3623 61.5476 42.3623 Q66.8717 42.3623 69.9735 44.7929 Q73.0753 47.2002 73.0753 51.3206 Q73.0753 54.191 71.4318 56.1817 Q69.7883 58.1493 66.7559 58.9131 Z\" fill=\"#000000\" fill-rule=\"evenodd\" fill-opacity=\"1\" /><path clip-path=\"url(#clip440)\" d=\"M92.7512 46.066 Q89.1401 46.066 87.3114 49.6308 Q85.5058 53.1724 85.5058 60.302 Q85.5058 67.4085 87.3114 70.9733 Q89.1401 74.5149 92.7512 74.5149 Q96.3854 74.5149 98.1909 70.9733 Q100.02 67.4085 100.02 60.302 Q100.02 53.1724 98.1909 49.6308 Q96.3854 46.066 92.7512 46.066 M92.7512 42.3623 Q98.5613 42.3623 101.617 46.9688 Q104.696 51.5521 104.696 60.302 Q104.696 69.0288 101.617 73.6353 Q98.5613 78.2186 92.7512 78.2186 Q86.941 78.2186 83.8623 73.6353 Q80.8068 69.0288 80.8068 60.302 Q80.8068 51.5521 83.8623 46.9688 Q86.941 42.3623 92.7512 42.3623 Z\" fill=\"#000000\" fill-rule=\"evenodd\" fill-opacity=\"1\" /><path clip-path=\"url(#clip440)\" d=\"M122.913 46.066 Q119.302 46.066 117.473 49.6308 Q115.668 53.1724 115.668 60.302 Q115.668 67.4085 117.473 70.9733 Q119.302 74.5149 122.913 74.5149 Q126.547 74.5149 128.353 70.9733 Q130.182 67.4085 130.182 60.302 Q130.182 53.1724 128.353 49.6308 Q126.547 46.066 122.913 46.066 M122.913 42.3623 Q128.723 42.3623 131.779 46.9688 Q134.857 51.5521 134.857 60.302 Q134.857 69.0288 131.779 73.6353 Q128.723 78.2186 122.913 78.2186 Q117.103 78.2186 114.024 73.6353 Q110.969 69.0288 110.969 60.302 Q110.969 51.5521 114.024 46.9688 Q117.103 42.3623 122.913 42.3623 Z\" fill=\"#000000\" fill-rule=\"evenodd\" fill-opacity=\"1\" /><path clip-path=\"url(#clip442)\" d=\"\n",
       "M290.866 1242.52 L290.866 1445.72 L321.208 1445.72 L321.208 1242.52 L290.866 1242.52 L290.866 1242.52  Z\n",
       "  \" fill=\"#009af9\" fill-rule=\"evenodd\" fill-opacity=\"1\"/>\n",
       "<polyline clip-path=\"url(#clip442)\" style=\"stroke:#000000; stroke-linecap:butt; stroke-linejoin:round; stroke-width:4; stroke-opacity:1; fill:none\" points=\"\n",
       "  290.866,1242.52 290.866,1445.72 321.208,1445.72 321.208,1242.52 290.866,1242.52 \n",
       "  \"/>\n",
       "<path clip-path=\"url(#clip442)\" d=\"\n",
       "M321.208 1177.86 L321.208 1445.72 L351.55 1445.72 L351.55 1177.86 L321.208 1177.86 L321.208 1177.86  Z\n",
       "  \" fill=\"#009af9\" fill-rule=\"evenodd\" fill-opacity=\"1\"/>\n",
       "<polyline clip-path=\"url(#clip442)\" style=\"stroke:#000000; stroke-linecap:butt; stroke-linejoin:round; stroke-width:4; stroke-opacity:1; fill:none\" points=\"\n",
       "  321.208,1177.86 321.208,1445.72 351.55,1445.72 351.55,1177.86 321.208,1177.86 \n",
       "  \"/>\n",
       "<path clip-path=\"url(#clip442)\" d=\"\n",
       "M351.55 974.663 L351.55 1445.72 L381.891 1445.72 L381.891 974.663 L351.55 974.663 L351.55 974.663  Z\n",
       "  \" fill=\"#009af9\" fill-rule=\"evenodd\" fill-opacity=\"1\"/>\n",
       "<polyline clip-path=\"url(#clip442)\" style=\"stroke:#000000; stroke-linecap:butt; stroke-linejoin:round; stroke-width:4; stroke-opacity:1; fill:none\" points=\"\n",
       "  351.55,974.663 351.55,1445.72 381.891,1445.72 381.891,974.663 351.55,974.663 \n",
       "  \"/>\n",
       "<path clip-path=\"url(#clip442)\" d=\"\n",
       "M381.891 725.283 L381.891 1445.72 L412.233 1445.72 L412.233 725.283 L381.891 725.283 L381.891 725.283  Z\n",
       "  \" fill=\"#009af9\" fill-rule=\"evenodd\" fill-opacity=\"1\"/>\n",
       "<polyline clip-path=\"url(#clip442)\" style=\"stroke:#000000; stroke-linecap:butt; stroke-linejoin:round; stroke-width:4; stroke-opacity:1; fill:none\" points=\"\n",
       "  381.891,725.283 381.891,1445.72 412.233,1445.72 412.233,725.283 381.891,725.283 \n",
       "  \"/>\n",
       "<path clip-path=\"url(#clip442)\" d=\"\n",
       "M412.233 1103.97 L412.233 1445.72 L442.575 1445.72 L442.575 1103.97 L412.233 1103.97 L412.233 1103.97  Z\n",
       "  \" fill=\"#009af9\" fill-rule=\"evenodd\" fill-opacity=\"1\"/>\n",
       "<polyline clip-path=\"url(#clip442)\" style=\"stroke:#000000; stroke-linecap:butt; stroke-linejoin:round; stroke-width:4; stroke-opacity:1; fill:none\" points=\"\n",
       "  412.233,1103.97 412.233,1445.72 442.575,1445.72 442.575,1103.97 412.233,1103.97 \n",
       "  \"/>\n",
       "<path clip-path=\"url(#clip442)\" d=\"\n",
       "M442.575 794.555 L442.575 1445.72 L472.917 1445.72 L472.917 794.555 L442.575 794.555 L442.575 794.555  Z\n",
       "  \" fill=\"#009af9\" fill-rule=\"evenodd\" fill-opacity=\"1\"/>\n",
       "<polyline clip-path=\"url(#clip442)\" style=\"stroke:#000000; stroke-linecap:butt; stroke-linejoin:round; stroke-width:4; stroke-opacity:1; fill:none\" points=\"\n",
       "  442.575,794.555 442.575,1445.72 472.917,1445.72 472.917,794.555 442.575,794.555 \n",
       "  \"/>\n",
       "<path clip-path=\"url(#clip442)\" d=\"\n",
       "M472.917 1196.33 L472.917 1445.72 L503.259 1445.72 L503.259 1196.33 L472.917 1196.33 L472.917 1196.33  Z\n",
       "  \" fill=\"#009af9\" fill-rule=\"evenodd\" fill-opacity=\"1\"/>\n",
       "<polyline clip-path=\"url(#clip442)\" style=\"stroke:#000000; stroke-linecap:butt; stroke-linejoin:round; stroke-width:4; stroke-opacity:1; fill:none\" points=\"\n",
       "  472.917,1196.33 472.917,1445.72 503.259,1445.72 503.259,1196.33 472.917,1196.33 \n",
       "  \"/>\n",
       "<path clip-path=\"url(#clip442)\" d=\"\n",
       "M503.259 983.9 L503.259 1445.72 L533.601 1445.72 L533.601 983.9 L503.259 983.9 L503.259 983.9  Z\n",
       "  \" fill=\"#009af9\" fill-rule=\"evenodd\" fill-opacity=\"1\"/>\n",
       "<polyline clip-path=\"url(#clip442)\" style=\"stroke:#000000; stroke-linecap:butt; stroke-linejoin:round; stroke-width:4; stroke-opacity:1; fill:none\" points=\"\n",
       "  503.259,983.9 503.259,1445.72 533.601,1445.72 533.601,983.9 503.259,983.9 \n",
       "  \"/>\n",
       "<path clip-path=\"url(#clip442)\" d=\"\n",
       "M533.601 1090.12 L533.601 1445.72 L563.943 1445.72 L563.943 1090.12 L533.601 1090.12 L533.601 1090.12  Z\n",
       "  \" fill=\"#009af9\" fill-rule=\"evenodd\" fill-opacity=\"1\"/>\n",
       "<polyline clip-path=\"url(#clip442)\" style=\"stroke:#000000; stroke-linecap:butt; stroke-linejoin:round; stroke-width:4; stroke-opacity:1; fill:none\" points=\"\n",
       "  533.601,1090.12 533.601,1445.72 563.943,1445.72 563.943,1090.12 533.601,1090.12 \n",
       "  \"/>\n",
       "<path clip-path=\"url(#clip442)\" d=\"\n",
       "M563.943 1274.84 L563.943 1445.72 L594.285 1445.72 L594.285 1274.84 L563.943 1274.84 L563.943 1274.84  Z\n",
       "  \" fill=\"#009af9\" fill-rule=\"evenodd\" fill-opacity=\"1\"/>\n",
       "<polyline clip-path=\"url(#clip442)\" style=\"stroke:#000000; stroke-linecap:butt; stroke-linejoin:round; stroke-width:4; stroke-opacity:1; fill:none\" points=\"\n",
       "  563.943,1274.84 563.943,1445.72 594.285,1445.72 594.285,1274.84 563.943,1274.84 \n",
       "  \"/>\n",
       "<path clip-path=\"url(#clip442)\" d=\"\n",
       "M594.285 752.992 L594.285 1445.72 L624.627 1445.72 L624.627 752.992 L594.285 752.992 L594.285 752.992  Z\n",
       "  \" fill=\"#009af9\" fill-rule=\"evenodd\" fill-opacity=\"1\"/>\n",
       "<polyline clip-path=\"url(#clip442)\" style=\"stroke:#000000; stroke-linecap:butt; stroke-linejoin:round; stroke-width:4; stroke-opacity:1; fill:none\" points=\"\n",
       "  594.285,752.992 594.285,1445.72 624.627,1445.72 624.627,752.992 594.285,752.992 \n",
       "  \"/>\n",
       "<path clip-path=\"url(#clip442)\" d=\"\n",
       "M624.627 900.773 L624.627 1445.72 L654.969 1445.72 L654.969 900.773 L624.627 900.773 L624.627 900.773  Z\n",
       "  \" fill=\"#009af9\" fill-rule=\"evenodd\" fill-opacity=\"1\"/>\n",
       "<polyline clip-path=\"url(#clip442)\" style=\"stroke:#000000; stroke-linecap:butt; stroke-linejoin:round; stroke-width:4; stroke-opacity:1; fill:none\" points=\"\n",
       "  624.627,900.773 624.627,1445.72 654.969,1445.72 654.969,900.773 624.627,900.773 \n",
       "  \"/>\n",
       "<path clip-path=\"url(#clip442)\" d=\"\n",
       "M654.969 891.536 L654.969 1445.72 L685.31 1445.72 L685.31 891.536 L654.969 891.536 L654.969 891.536  Z\n",
       "  \" fill=\"#009af9\" fill-rule=\"evenodd\" fill-opacity=\"1\"/>\n",
       "<polyline clip-path=\"url(#clip442)\" style=\"stroke:#000000; stroke-linecap:butt; stroke-linejoin:round; stroke-width:4; stroke-opacity:1; fill:none\" points=\"\n",
       "  654.969,891.536 654.969,1445.72 685.31,1445.72 685.31,891.536 654.969,891.536 \n",
       "  \"/>\n",
       "<path clip-path=\"url(#clip442)\" d=\"\n",
       "M685.31 1048.55 L685.31 1445.72 L715.652 1445.72 L715.652 1048.55 L685.31 1048.55 L685.31 1048.55  Z\n",
       "  \" fill=\"#009af9\" fill-rule=\"evenodd\" fill-opacity=\"1\"/>\n",
       "<polyline clip-path=\"url(#clip442)\" style=\"stroke:#000000; stroke-linecap:butt; stroke-linejoin:round; stroke-width:4; stroke-opacity:1; fill:none\" points=\"\n",
       "  685.31,1048.55 685.31,1445.72 715.652,1445.72 715.652,1048.55 685.31,1048.55 \n",
       "  \"/>\n",
       "<path clip-path=\"url(#clip442)\" d=\"\n",
       "M715.652 988.518 L715.652 1445.72 L745.994 1445.72 L745.994 988.518 L715.652 988.518 L715.652 988.518  Z\n",
       "  \" fill=\"#009af9\" fill-rule=\"evenodd\" fill-opacity=\"1\"/>\n",
       "<polyline clip-path=\"url(#clip442)\" style=\"stroke:#000000; stroke-linecap:butt; stroke-linejoin:round; stroke-width:4; stroke-opacity:1; fill:none\" points=\"\n",
       "  715.652,988.518 715.652,1445.72 745.994,1445.72 745.994,988.518 715.652,988.518 \n",
       "  \"/>\n",
       "<path clip-path=\"url(#clip442)\" d=\"\n",
       "M745.994 1103.97 L745.994 1445.72 L776.336 1445.72 L776.336 1103.97 L745.994 1103.97 L745.994 1103.97  Z\n",
       "  \" fill=\"#009af9\" fill-rule=\"evenodd\" fill-opacity=\"1\"/>\n",
       "<polyline clip-path=\"url(#clip442)\" style=\"stroke:#000000; stroke-linecap:butt; stroke-linejoin:round; stroke-width:4; stroke-opacity:1; fill:none\" points=\"\n",
       "  745.994,1103.97 745.994,1445.72 776.336,1445.72 776.336,1103.97 745.994,1103.97 \n",
       "  \"/>\n",
       "<path clip-path=\"url(#clip442)\" d=\"\n",
       "M776.336 1127.06 L776.336 1445.72 L806.678 1445.72 L806.678 1127.06 L776.336 1127.06 L776.336 1127.06  Z\n",
       "  \" fill=\"#009af9\" fill-rule=\"evenodd\" fill-opacity=\"1\"/>\n",
       "<polyline clip-path=\"url(#clip442)\" style=\"stroke:#000000; stroke-linecap:butt; stroke-linejoin:round; stroke-width:4; stroke-opacity:1; fill:none\" points=\"\n",
       "  776.336,1127.06 776.336,1445.72 806.678,1445.72 806.678,1127.06 776.336,1127.06 \n",
       "  \"/>\n",
       "<path clip-path=\"url(#clip442)\" d=\"\n",
       "M806.678 873.064 L806.678 1445.72 L837.02 1445.72 L837.02 873.064 L806.678 873.064 L806.678 873.064  Z\n",
       "  \" fill=\"#009af9\" fill-rule=\"evenodd\" fill-opacity=\"1\"/>\n",
       "<polyline clip-path=\"url(#clip442)\" style=\"stroke:#000000; stroke-linecap:butt; stroke-linejoin:round; stroke-width:4; stroke-opacity:1; fill:none\" points=\"\n",
       "  806.678,873.064 806.678,1445.72 837.02,1445.72 837.02,873.064 806.678,873.064 \n",
       "  \"/>\n",
       "<path clip-path=\"url(#clip442)\" d=\"\n",
       "M837.02 1168.63 L837.02 1445.72 L867.362 1445.72 L867.362 1168.63 L837.02 1168.63 L837.02 1168.63  Z\n",
       "  \" fill=\"#009af9\" fill-rule=\"evenodd\" fill-opacity=\"1\"/>\n",
       "<polyline clip-path=\"url(#clip442)\" style=\"stroke:#000000; stroke-linecap:butt; stroke-linejoin:round; stroke-width:4; stroke-opacity:1; fill:none\" points=\"\n",
       "  837.02,1168.63 837.02,1445.72 867.362,1445.72 867.362,1168.63 837.02,1168.63 \n",
       "  \"/>\n",
       "<path clip-path=\"url(#clip442)\" d=\"\n",
       "M867.362 974.663 L867.362 1445.72 L897.704 1445.72 L897.704 974.663 L867.362 974.663 L867.362 974.663  Z\n",
       "  \" fill=\"#009af9\" fill-rule=\"evenodd\" fill-opacity=\"1\"/>\n",
       "<polyline clip-path=\"url(#clip442)\" style=\"stroke:#000000; stroke-linecap:butt; stroke-linejoin:round; stroke-width:4; stroke-opacity:1; fill:none\" points=\"\n",
       "  867.362,974.663 867.362,1445.72 897.704,1445.72 897.704,974.663 867.362,974.663 \n",
       "  \"/>\n",
       "<path clip-path=\"url(#clip442)\" d=\"\n",
       "M897.704 697.574 L897.704 1445.72 L928.046 1445.72 L928.046 697.574 L897.704 697.574 L897.704 697.574  Z\n",
       "  \" fill=\"#009af9\" fill-rule=\"evenodd\" fill-opacity=\"1\"/>\n",
       "<polyline clip-path=\"url(#clip442)\" style=\"stroke:#000000; stroke-linecap:butt; stroke-linejoin:round; stroke-width:4; stroke-opacity:1; fill:none\" points=\"\n",
       "  897.704,697.574 897.704,1445.72 928.046,1445.72 928.046,697.574 897.704,697.574 \n",
       "  \"/>\n",
       "<path clip-path=\"url(#clip442)\" d=\"\n",
       "M928.046 87.9763 L928.046 1445.72 L958.388 1445.72 L958.388 87.9763 L928.046 87.9763 L928.046 87.9763  Z\n",
       "  \" fill=\"#009af9\" fill-rule=\"evenodd\" fill-opacity=\"1\"/>\n",
       "<polyline clip-path=\"url(#clip442)\" style=\"stroke:#000000; stroke-linecap:butt; stroke-linejoin:round; stroke-width:4; stroke-opacity:1; fill:none\" points=\"\n",
       "  928.046,87.9763 928.046,1445.72 958.388,1445.72 958.388,87.9763 928.046,87.9763 \n",
       "  \"/>\n",
       "<path clip-path=\"url(#clip442)\" d=\"\n",
       "M958.388 1260.99 L958.388 1445.72 L988.73 1445.72 L988.73 1260.99 L958.388 1260.99 L958.388 1260.99  Z\n",
       "  \" fill=\"#009af9\" fill-rule=\"evenodd\" fill-opacity=\"1\"/>\n",
       "<polyline clip-path=\"url(#clip442)\" style=\"stroke:#000000; stroke-linecap:butt; stroke-linejoin:round; stroke-width:4; stroke-opacity:1; fill:none\" points=\"\n",
       "  958.388,1260.99 958.388,1445.72 988.73,1445.72 988.73,1260.99 958.388,1260.99 \n",
       "  \"/>\n",
       "<path clip-path=\"url(#clip442)\" d=\"\n",
       "M988.73 1122.44 L988.73 1445.72 L1019.07 1445.72 L1019.07 1122.44 L988.73 1122.44 L988.73 1122.44  Z\n",
       "  \" fill=\"#009af9\" fill-rule=\"evenodd\" fill-opacity=\"1\"/>\n",
       "<polyline clip-path=\"url(#clip442)\" style=\"stroke:#000000; stroke-linecap:butt; stroke-linejoin:round; stroke-width:4; stroke-opacity:1; fill:none\" points=\"\n",
       "  988.73,1122.44 988.73,1445.72 1019.07,1445.72 1019.07,1122.44 988.73,1122.44 \n",
       "  \"/>\n",
       "<path clip-path=\"url(#clip442)\" d=\"\n",
       "M1019.07 845.355 L1019.07 1445.72 L1049.41 1445.72 L1049.41 845.355 L1019.07 845.355 L1019.07 845.355  Z\n",
       "  \" fill=\"#009af9\" fill-rule=\"evenodd\" fill-opacity=\"1\"/>\n",
       "<polyline clip-path=\"url(#clip442)\" style=\"stroke:#000000; stroke-linecap:butt; stroke-linejoin:round; stroke-width:4; stroke-opacity:1; fill:none\" points=\"\n",
       "  1019.07,845.355 1019.07,1445.72 1049.41,1445.72 1049.41,845.355 1019.07,845.355 \n",
       "  \"/>\n",
       "<path clip-path=\"url(#clip442)\" d=\"\n",
       "M1049.41 1150.15 L1049.41 1445.72 L1079.76 1445.72 L1079.76 1150.15 L1049.41 1150.15 L1049.41 1150.15  Z\n",
       "  \" fill=\"#009af9\" fill-rule=\"evenodd\" fill-opacity=\"1\"/>\n",
       "<polyline clip-path=\"url(#clip442)\" style=\"stroke:#000000; stroke-linecap:butt; stroke-linejoin:round; stroke-width:4; stroke-opacity:1; fill:none\" points=\"\n",
       "  1049.41,1150.15 1049.41,1445.72 1079.76,1445.72 1079.76,1150.15 1049.41,1150.15 \n",
       "  \"/>\n",
       "<path clip-path=\"url(#clip442)\" d=\"\n",
       "M1079.76 1002.37 L1079.76 1445.72 L1110.1 1445.72 L1110.1 1002.37 L1079.76 1002.37 L1079.76 1002.37  Z\n",
       "  \" fill=\"#009af9\" fill-rule=\"evenodd\" fill-opacity=\"1\"/>\n",
       "<polyline clip-path=\"url(#clip442)\" style=\"stroke:#000000; stroke-linecap:butt; stroke-linejoin:round; stroke-width:4; stroke-opacity:1; fill:none\" points=\"\n",
       "  1079.76,1002.37 1079.76,1445.72 1110.1,1445.72 1110.1,1002.37 1079.76,1002.37 \n",
       "  \"/>\n",
       "<path clip-path=\"url(#clip442)\" d=\"\n",
       "M1110.1 1085.5 L1110.1 1445.72 L1140.44 1445.72 L1140.44 1085.5 L1110.1 1085.5 L1110.1 1085.5  Z\n",
       "  \" fill=\"#009af9\" fill-rule=\"evenodd\" fill-opacity=\"1\"/>\n",
       "<polyline clip-path=\"url(#clip442)\" style=\"stroke:#000000; stroke-linecap:butt; stroke-linejoin:round; stroke-width:4; stroke-opacity:1; fill:none\" points=\"\n",
       "  1110.1,1085.5 1110.1,1445.72 1140.44,1445.72 1140.44,1085.5 1110.1,1085.5 \n",
       "  \"/>\n",
       "<path clip-path=\"url(#clip442)\" d=\"\n",
       "M1140.44 143.394 L1140.44 1445.72 L1170.78 1445.72 L1170.78 143.394 L1140.44 143.394 L1140.44 143.394  Z\n",
       "  \" fill=\"#009af9\" fill-rule=\"evenodd\" fill-opacity=\"1\"/>\n",
       "<polyline clip-path=\"url(#clip442)\" style=\"stroke:#000000; stroke-linecap:butt; stroke-linejoin:round; stroke-width:4; stroke-opacity:1; fill:none\" points=\"\n",
       "  1140.44,143.394 1140.44,1445.72 1170.78,1445.72 1170.78,143.394 1140.44,143.394 \n",
       "  \"/>\n",
       "<path clip-path=\"url(#clip442)\" d=\"\n",
       "M1170.78 600.592 L1170.78 1445.72 L1201.12 1445.72 L1201.12 600.592 L1170.78 600.592 L1170.78 600.592  Z\n",
       "  \" fill=\"#009af9\" fill-rule=\"evenodd\" fill-opacity=\"1\"/>\n",
       "<polyline clip-path=\"url(#clip442)\" style=\"stroke:#000000; stroke-linecap:butt; stroke-linejoin:round; stroke-width:4; stroke-opacity:1; fill:none\" points=\"\n",
       "  1170.78,600.592 1170.78,1445.72 1201.12,1445.72 1201.12,600.592 1170.78,600.592 \n",
       "  \"/>\n",
       "<path clip-path=\"url(#clip442)\" d=\"\n",
       "M1201.12 1117.83 L1201.12 1445.72 L1231.46 1445.72 L1231.46 1117.83 L1201.12 1117.83 L1201.12 1117.83  Z\n",
       "  \" fill=\"#009af9\" fill-rule=\"evenodd\" fill-opacity=\"1\"/>\n",
       "<polyline clip-path=\"url(#clip442)\" style=\"stroke:#000000; stroke-linecap:butt; stroke-linejoin:round; stroke-width:4; stroke-opacity:1; fill:none\" points=\"\n",
       "  1201.12,1117.83 1201.12,1445.72 1231.46,1445.72 1231.46,1117.83 1201.12,1117.83 \n",
       "  \"/>\n",
       "<path clip-path=\"url(#clip442)\" d=\"\n",
       "M1231.46 1251.75 L1231.46 1445.72 L1261.81 1445.72 L1261.81 1251.75 L1231.46 1251.75 L1231.46 1251.75  Z\n",
       "  \" fill=\"#009af9\" fill-rule=\"evenodd\" fill-opacity=\"1\"/>\n",
       "<polyline clip-path=\"url(#clip442)\" style=\"stroke:#000000; stroke-linecap:butt; stroke-linejoin:round; stroke-width:4; stroke-opacity:1; fill:none\" points=\"\n",
       "  1231.46,1251.75 1231.46,1445.72 1261.81,1445.72 1261.81,1251.75 1231.46,1251.75 \n",
       "  \"/>\n",
       "<path clip-path=\"url(#clip442)\" d=\"\n",
       "M1261.81 1136.3 L1261.81 1445.72 L1292.15 1445.72 L1292.15 1136.3 L1261.81 1136.3 L1261.81 1136.3  Z\n",
       "  \" fill=\"#009af9\" fill-rule=\"evenodd\" fill-opacity=\"1\"/>\n",
       "<polyline clip-path=\"url(#clip442)\" style=\"stroke:#000000; stroke-linecap:butt; stroke-linejoin:round; stroke-width:4; stroke-opacity:1; fill:none\" points=\"\n",
       "  1261.81,1136.3 1261.81,1445.72 1292.15,1445.72 1292.15,1136.3 1261.81,1136.3 \n",
       "  \"/>\n",
       "<path clip-path=\"url(#clip442)\" d=\"\n",
       "M1292.15 1256.37 L1292.15 1445.72 L1322.49 1445.72 L1322.49 1256.37 L1292.15 1256.37 L1292.15 1256.37  Z\n",
       "  \" fill=\"#009af9\" fill-rule=\"evenodd\" fill-opacity=\"1\"/>\n",
       "<polyline clip-path=\"url(#clip442)\" style=\"stroke:#000000; stroke-linecap:butt; stroke-linejoin:round; stroke-width:4; stroke-opacity:1; fill:none\" points=\"\n",
       "  1292.15,1256.37 1292.15,1445.72 1322.49,1445.72 1322.49,1256.37 1292.15,1256.37 \n",
       "  \"/>\n",
       "<path clip-path=\"url(#clip442)\" d=\"\n",
       "M1322.49 651.392 L1322.49 1445.72 L1352.83 1445.72 L1352.83 651.392 L1322.49 651.392 L1322.49 651.392  Z\n",
       "  \" fill=\"#009af9\" fill-rule=\"evenodd\" fill-opacity=\"1\"/>\n",
       "<polyline clip-path=\"url(#clip442)\" style=\"stroke:#000000; stroke-linecap:butt; stroke-linejoin:round; stroke-width:4; stroke-opacity:1; fill:none\" points=\"\n",
       "  1322.49,651.392 1322.49,1445.72 1352.83,1445.72 1352.83,651.392 1322.49,651.392 \n",
       "  \"/>\n",
       "<path clip-path=\"url(#clip442)\" d=\"\n",
       "M1352.83 942.336 L1352.83 1445.72 L1383.17 1445.72 L1383.17 942.336 L1352.83 942.336 L1352.83 942.336  Z\n",
       "  \" fill=\"#009af9\" fill-rule=\"evenodd\" fill-opacity=\"1\"/>\n",
       "<polyline clip-path=\"url(#clip442)\" style=\"stroke:#000000; stroke-linecap:butt; stroke-linejoin:round; stroke-width:4; stroke-opacity:1; fill:none\" points=\"\n",
       "  1352.83,942.336 1352.83,1445.72 1383.17,1445.72 1383.17,942.336 1352.83,942.336 \n",
       "  \"/>\n",
       "<path clip-path=\"url(#clip442)\" d=\"\n",
       "M1383.17 905.391 L1383.17 1445.72 L1413.52 1445.72 L1413.52 905.391 L1383.17 905.391 L1383.17 905.391  Z\n",
       "  \" fill=\"#009af9\" fill-rule=\"evenodd\" fill-opacity=\"1\"/>\n",
       "<polyline clip-path=\"url(#clip442)\" style=\"stroke:#000000; stroke-linecap:butt; stroke-linejoin:round; stroke-width:4; stroke-opacity:1; fill:none\" points=\"\n",
       "  1383.17,905.391 1383.17,1445.72 1413.52,1445.72 1413.52,905.391 1383.17,905.391 \n",
       "  \"/>\n",
       "<path clip-path=\"url(#clip442)\" d=\"\n",
       "M1413.52 1002.37 L1413.52 1445.72 L1443.86 1445.72 L1443.86 1002.37 L1413.52 1002.37 L1413.52 1002.37  Z\n",
       "  \" fill=\"#009af9\" fill-rule=\"evenodd\" fill-opacity=\"1\"/>\n",
       "<polyline clip-path=\"url(#clip442)\" style=\"stroke:#000000; stroke-linecap:butt; stroke-linejoin:round; stroke-width:4; stroke-opacity:1; fill:none\" points=\"\n",
       "  1413.52,1002.37 1413.52,1445.72 1443.86,1445.72 1443.86,1002.37 1413.52,1002.37 \n",
       "  \"/>\n",
       "<path clip-path=\"url(#clip442)\" d=\"\n",
       "M1443.86 933.1 L1443.86 1445.72 L1474.2 1445.72 L1474.2 933.1 L1443.86 933.1 L1443.86 933.1  Z\n",
       "  \" fill=\"#009af9\" fill-rule=\"evenodd\" fill-opacity=\"1\"/>\n",
       "<polyline clip-path=\"url(#clip442)\" style=\"stroke:#000000; stroke-linecap:butt; stroke-linejoin:round; stroke-width:4; stroke-opacity:1; fill:none\" points=\"\n",
       "  1443.86,933.1 1443.86,1445.72 1474.2,1445.72 1474.2,933.1 1443.86,933.1 \n",
       "  \"/>\n",
       "<path clip-path=\"url(#clip442)\" d=\"\n",
       "M1474.2 1150.15 L1474.2 1445.72 L1504.54 1445.72 L1504.54 1150.15 L1474.2 1150.15 L1474.2 1150.15  Z\n",
       "  \" fill=\"#009af9\" fill-rule=\"evenodd\" fill-opacity=\"1\"/>\n",
       "<polyline clip-path=\"url(#clip442)\" style=\"stroke:#000000; stroke-linecap:butt; stroke-linejoin:round; stroke-width:4; stroke-opacity:1; fill:none\" points=\"\n",
       "  1474.2,1150.15 1474.2,1445.72 1504.54,1445.72 1504.54,1150.15 1474.2,1150.15 \n",
       "  \"/>\n",
       "<path clip-path=\"url(#clip442)\" d=\"\n",
       "M1504.54 1247.13 L1504.54 1445.72 L1534.88 1445.72 L1534.88 1247.13 L1504.54 1247.13 L1504.54 1247.13  Z\n",
       "  \" fill=\"#009af9\" fill-rule=\"evenodd\" fill-opacity=\"1\"/>\n",
       "<polyline clip-path=\"url(#clip442)\" style=\"stroke:#000000; stroke-linecap:butt; stroke-linejoin:round; stroke-width:4; stroke-opacity:1; fill:none\" points=\"\n",
       "  1504.54,1247.13 1504.54,1445.72 1534.88,1445.72 1534.88,1247.13 1504.54,1247.13 \n",
       "  \"/>\n",
       "<path clip-path=\"url(#clip442)\" d=\"\n",
       "M1534.88 1348.73 L1534.88 1445.72 L1565.23 1445.72 L1565.23 1348.73 L1534.88 1348.73 L1534.88 1348.73  Z\n",
       "  \" fill=\"#009af9\" fill-rule=\"evenodd\" fill-opacity=\"1\"/>\n",
       "<polyline clip-path=\"url(#clip442)\" style=\"stroke:#000000; stroke-linecap:butt; stroke-linejoin:round; stroke-width:4; stroke-opacity:1; fill:none\" points=\"\n",
       "  1534.88,1348.73 1534.88,1445.72 1565.23,1445.72 1565.23,1348.73 1534.88,1348.73 \n",
       "  \"/>\n",
       "<path clip-path=\"url(#clip442)\" d=\"\n",
       "M1565.23 919.245 L1565.23 1445.72 L1595.57 1445.72 L1595.57 919.245 L1565.23 919.245 L1565.23 919.245  Z\n",
       "  \" fill=\"#009af9\" fill-rule=\"evenodd\" fill-opacity=\"1\"/>\n",
       "<polyline clip-path=\"url(#clip442)\" style=\"stroke:#000000; stroke-linecap:butt; stroke-linejoin:round; stroke-width:4; stroke-opacity:1; fill:none\" points=\"\n",
       "  1565.23,919.245 1565.23,1445.72 1595.57,1445.72 1595.57,919.245 1565.23,919.245 \n",
       "  \"/>\n",
       "<path clip-path=\"url(#clip442)\" d=\"\n",
       "M1595.57 1293.32 L1595.57 1445.72 L1625.91 1445.72 L1625.91 1293.32 L1595.57 1293.32 L1595.57 1293.32  Z\n",
       "  \" fill=\"#009af9\" fill-rule=\"evenodd\" fill-opacity=\"1\"/>\n",
       "<polyline clip-path=\"url(#clip442)\" style=\"stroke:#000000; stroke-linecap:butt; stroke-linejoin:round; stroke-width:4; stroke-opacity:1; fill:none\" points=\"\n",
       "  1595.57,1293.32 1595.57,1445.72 1625.91,1445.72 1625.91,1293.32 1595.57,1293.32 \n",
       "  \"/>\n",
       "<path clip-path=\"url(#clip442)\" d=\"\n",
       "M1625.91 997.754 L1625.91 1445.72 L1656.25 1445.72 L1656.25 997.754 L1625.91 997.754 L1625.91 997.754  Z\n",
       "  \" fill=\"#009af9\" fill-rule=\"evenodd\" fill-opacity=\"1\"/>\n",
       "<polyline clip-path=\"url(#clip442)\" style=\"stroke:#000000; stroke-linecap:butt; stroke-linejoin:round; stroke-width:4; stroke-opacity:1; fill:none\" points=\"\n",
       "  1625.91,997.754 1625.91,1445.72 1656.25,1445.72 1656.25,997.754 1625.91,997.754 \n",
       "  \"/>\n",
       "<path clip-path=\"url(#clip442)\" d=\"\n",
       "M1656.25 1344.12 L1656.25 1445.72 L1686.59 1445.72 L1686.59 1344.12 L1656.25 1344.12 L1656.25 1344.12  Z\n",
       "  \" fill=\"#009af9\" fill-rule=\"evenodd\" fill-opacity=\"1\"/>\n",
       "<polyline clip-path=\"url(#clip442)\" style=\"stroke:#000000; stroke-linecap:butt; stroke-linejoin:round; stroke-width:4; stroke-opacity:1; fill:none\" points=\"\n",
       "  1656.25,1344.12 1656.25,1445.72 1686.59,1445.72 1686.59,1344.12 1656.25,1344.12 \n",
       "  \"/>\n",
       "<path clip-path=\"url(#clip442)\" d=\"\n",
       "M1686.59 1127.06 L1686.59 1445.72 L1716.94 1445.72 L1716.94 1127.06 L1686.59 1127.06 L1686.59 1127.06  Z\n",
       "  \" fill=\"#009af9\" fill-rule=\"evenodd\" fill-opacity=\"1\"/>\n",
       "<polyline clip-path=\"url(#clip442)\" style=\"stroke:#000000; stroke-linecap:butt; stroke-linejoin:round; stroke-width:4; stroke-opacity:1; fill:none\" points=\"\n",
       "  1686.59,1127.06 1686.59,1445.72 1716.94,1445.72 1716.94,1127.06 1686.59,1127.06 \n",
       "  \"/>\n",
       "<path clip-path=\"url(#clip442)\" d=\"\n",
       "M1716.94 1362.59 L1716.94 1445.72 L1747.28 1445.72 L1747.28 1362.59 L1716.94 1362.59 L1716.94 1362.59  Z\n",
       "  \" fill=\"#009af9\" fill-rule=\"evenodd\" fill-opacity=\"1\"/>\n",
       "<polyline clip-path=\"url(#clip442)\" style=\"stroke:#000000; stroke-linecap:butt; stroke-linejoin:round; stroke-width:4; stroke-opacity:1; fill:none\" points=\"\n",
       "  1716.94,1362.59 1716.94,1445.72 1747.28,1445.72 1747.28,1362.59 1716.94,1362.59 \n",
       "  \"/>\n",
       "<path clip-path=\"url(#clip442)\" d=\"\n",
       "M1747.28 928.482 L1747.28 1445.72 L1777.62 1445.72 L1777.62 928.482 L1747.28 928.482 L1747.28 928.482  Z\n",
       "  \" fill=\"#009af9\" fill-rule=\"evenodd\" fill-opacity=\"1\"/>\n",
       "<polyline clip-path=\"url(#clip442)\" style=\"stroke:#000000; stroke-linecap:butt; stroke-linejoin:round; stroke-width:4; stroke-opacity:1; fill:none\" points=\"\n",
       "  1747.28,928.482 1747.28,1445.72 1777.62,1445.72 1777.62,928.482 1747.28,928.482 \n",
       "  \"/>\n",
       "<path clip-path=\"url(#clip442)\" d=\"\n",
       "M1777.62 1025.46 L1777.62 1445.72 L1807.96 1445.72 L1807.96 1025.46 L1777.62 1025.46 L1777.62 1025.46  Z\n",
       "  \" fill=\"#009af9\" fill-rule=\"evenodd\" fill-opacity=\"1\"/>\n",
       "<polyline clip-path=\"url(#clip442)\" style=\"stroke:#000000; stroke-linecap:butt; stroke-linejoin:round; stroke-width:4; stroke-opacity:1; fill:none\" points=\"\n",
       "  1777.62,1025.46 1777.62,1445.72 1807.96,1445.72 1807.96,1025.46 1777.62,1025.46 \n",
       "  \"/>\n",
       "<path clip-path=\"url(#clip442)\" d=\"\n",
       "M1807.96 1016.23 L1807.96 1445.72 L1838.3 1445.72 L1838.3 1016.23 L1807.96 1016.23 L1807.96 1016.23  Z\n",
       "  \" fill=\"#009af9\" fill-rule=\"evenodd\" fill-opacity=\"1\"/>\n",
       "<polyline clip-path=\"url(#clip442)\" style=\"stroke:#000000; stroke-linecap:butt; stroke-linejoin:round; stroke-width:4; stroke-opacity:1; fill:none\" points=\"\n",
       "  1807.96,1016.23 1807.96,1445.72 1838.3,1445.72 1838.3,1016.23 1807.96,1016.23 \n",
       "  \"/>\n",
       "<path clip-path=\"url(#clip442)\" d=\"\n",
       "M1838.3 1103.97 L1838.3 1445.72 L1868.64 1445.72 L1868.64 1103.97 L1838.3 1103.97 L1838.3 1103.97  Z\n",
       "  \" fill=\"#009af9\" fill-rule=\"evenodd\" fill-opacity=\"1\"/>\n",
       "<polyline clip-path=\"url(#clip442)\" style=\"stroke:#000000; stroke-linecap:butt; stroke-linejoin:round; stroke-width:4; stroke-opacity:1; fill:none\" points=\"\n",
       "  1838.3,1103.97 1838.3,1445.72 1868.64,1445.72 1868.64,1103.97 1838.3,1103.97 \n",
       "  \"/>\n",
       "<path clip-path=\"url(#clip442)\" d=\"\n",
       "M1868.64 124.922 L1868.64 1445.72 L1898.99 1445.72 L1898.99 124.922 L1868.64 124.922 L1868.64 124.922  Z\n",
       "  \" fill=\"#009af9\" fill-rule=\"evenodd\" fill-opacity=\"1\"/>\n",
       "<polyline clip-path=\"url(#clip442)\" style=\"stroke:#000000; stroke-linecap:butt; stroke-linejoin:round; stroke-width:4; stroke-opacity:1; fill:none\" points=\"\n",
       "  1868.64,124.922 1868.64,1445.72 1898.99,1445.72 1898.99,124.922 1868.64,124.922 \n",
       "  \"/>\n",
       "<path clip-path=\"url(#clip442)\" d=\"\n",
       "M1898.99 720.664 L1898.99 1445.72 L1929.33 1445.72 L1929.33 720.664 L1898.99 720.664 L1898.99 720.664  Z\n",
       "  \" fill=\"#009af9\" fill-rule=\"evenodd\" fill-opacity=\"1\"/>\n",
       "<polyline clip-path=\"url(#clip442)\" style=\"stroke:#000000; stroke-linecap:butt; stroke-linejoin:round; stroke-width:4; stroke-opacity:1; fill:none\" points=\"\n",
       "  1898.99,720.664 1898.99,1445.72 1929.33,1445.72 1929.33,720.664 1898.99,720.664 \n",
       "  \"/>\n",
       "<path clip-path=\"url(#clip442)\" d=\"\n",
       "M1929.33 1048.55 L1929.33 1445.72 L1959.67 1445.72 L1959.67 1048.55 L1929.33 1048.55 L1929.33 1048.55  Z\n",
       "  \" fill=\"#009af9\" fill-rule=\"evenodd\" fill-opacity=\"1\"/>\n",
       "<polyline clip-path=\"url(#clip442)\" style=\"stroke:#000000; stroke-linecap:butt; stroke-linejoin:round; stroke-width:4; stroke-opacity:1; fill:none\" points=\"\n",
       "  1929.33,1048.55 1929.33,1445.72 1959.67,1445.72 1959.67,1048.55 1929.33,1048.55 \n",
       "  \"/>\n",
       "<path clip-path=\"url(#clip442)\" d=\"\n",
       "M1959.67 1196.33 L1959.67 1445.72 L1990.01 1445.72 L1990.01 1196.33 L1959.67 1196.33 L1959.67 1196.33  Z\n",
       "  \" fill=\"#009af9\" fill-rule=\"evenodd\" fill-opacity=\"1\"/>\n",
       "<polyline clip-path=\"url(#clip442)\" style=\"stroke:#000000; stroke-linecap:butt; stroke-linejoin:round; stroke-width:4; stroke-opacity:1; fill:none\" points=\"\n",
       "  1959.67,1196.33 1959.67,1445.72 1990.01,1445.72 1990.01,1196.33 1959.67,1196.33 \n",
       "  \"/>\n",
       "<path clip-path=\"url(#clip442)\" d=\"\n",
       "M1990.01 1030.08 L1990.01 1445.72 L2020.35 1445.72 L2020.35 1030.08 L1990.01 1030.08 L1990.01 1030.08  Z\n",
       "  \" fill=\"#009af9\" fill-rule=\"evenodd\" fill-opacity=\"1\"/>\n",
       "<polyline clip-path=\"url(#clip442)\" style=\"stroke:#000000; stroke-linecap:butt; stroke-linejoin:round; stroke-width:4; stroke-opacity:1; fill:none\" points=\"\n",
       "  1990.01,1030.08 1990.01,1445.72 2020.35,1445.72 2020.35,1030.08 1990.01,1030.08 \n",
       "  \"/>\n",
       "<path clip-path=\"url(#clip442)\" d=\"\n",
       "M2020.35 1344.12 L2020.35 1445.72 L2050.7 1445.72 L2050.7 1344.12 L2020.35 1344.12 L2020.35 1344.12  Z\n",
       "  \" fill=\"#009af9\" fill-rule=\"evenodd\" fill-opacity=\"1\"/>\n",
       "<polyline clip-path=\"url(#clip442)\" style=\"stroke:#000000; stroke-linecap:butt; stroke-linejoin:round; stroke-width:4; stroke-opacity:1; fill:none\" points=\"\n",
       "  2020.35,1344.12 2020.35,1445.72 2050.7,1445.72 2050.7,1344.12 2020.35,1344.12 \n",
       "  \"/>\n",
       "<path clip-path=\"url(#clip442)\" d=\"\n",
       "M2050.7 1113.21 L2050.7 1445.72 L2081.04 1445.72 L2081.04 1113.21 L2050.7 1113.21 L2050.7 1113.21  Z\n",
       "  \" fill=\"#009af9\" fill-rule=\"evenodd\" fill-opacity=\"1\"/>\n",
       "<polyline clip-path=\"url(#clip442)\" style=\"stroke:#000000; stroke-linecap:butt; stroke-linejoin:round; stroke-width:4; stroke-opacity:1; fill:none\" points=\"\n",
       "  2050.7,1113.21 2050.7,1445.72 2081.04,1445.72 2081.04,1113.21 2050.7,1113.21 \n",
       "  \"/>\n",
       "<path clip-path=\"url(#clip442)\" d=\"\n",
       "M2081.04 1330.26 L2081.04 1445.72 L2111.38 1445.72 L2111.38 1330.26 L2081.04 1330.26 L2081.04 1330.26  Z\n",
       "  \" fill=\"#009af9\" fill-rule=\"evenodd\" fill-opacity=\"1\"/>\n",
       "<polyline clip-path=\"url(#clip442)\" style=\"stroke:#000000; stroke-linecap:butt; stroke-linejoin:round; stroke-width:4; stroke-opacity:1; fill:none\" points=\"\n",
       "  2081.04,1330.26 2081.04,1445.72 2111.38,1445.72 2111.38,1330.26 2081.04,1330.26 \n",
       "  \"/>\n",
       "<path clip-path=\"url(#clip442)\" d=\"\n",
       "M2111.38 628.301 L2111.38 1445.72 L2141.72 1445.72 L2141.72 628.301 L2111.38 628.301 L2111.38 628.301  Z\n",
       "  \" fill=\"#009af9\" fill-rule=\"evenodd\" fill-opacity=\"1\"/>\n",
       "<polyline clip-path=\"url(#clip442)\" style=\"stroke:#000000; stroke-linecap:butt; stroke-linejoin:round; stroke-width:4; stroke-opacity:1; fill:none\" points=\"\n",
       "  2111.38,628.301 2111.38,1445.72 2141.72,1445.72 2141.72,628.301 2111.38,628.301 \n",
       "  \"/>\n",
       "<path clip-path=\"url(#clip442)\" d=\"\n",
       "M2141.72 1214.81 L2141.72 1445.72 L2172.06 1445.72 L2172.06 1214.81 L2141.72 1214.81 L2141.72 1214.81  Z\n",
       "  \" fill=\"#009af9\" fill-rule=\"evenodd\" fill-opacity=\"1\"/>\n",
       "<polyline clip-path=\"url(#clip442)\" style=\"stroke:#000000; stroke-linecap:butt; stroke-linejoin:round; stroke-width:4; stroke-opacity:1; fill:none\" points=\"\n",
       "  2141.72,1214.81 2141.72,1445.72 2172.06,1445.72 2172.06,1214.81 2141.72,1214.81 \n",
       "  \"/>\n",
       "<path clip-path=\"url(#clip442)\" d=\"\n",
       "M2172.06 1242.52 L2172.06 1445.72 L2202.41 1445.72 L2202.41 1242.52 L2172.06 1242.52 L2172.06 1242.52  Z\n",
       "  \" fill=\"#009af9\" fill-rule=\"evenodd\" fill-opacity=\"1\"/>\n",
       "<polyline clip-path=\"url(#clip442)\" style=\"stroke:#000000; stroke-linecap:butt; stroke-linejoin:round; stroke-width:4; stroke-opacity:1; fill:none\" points=\"\n",
       "  2172.06,1242.52 2172.06,1445.72 2202.41,1445.72 2202.41,1242.52 2172.06,1242.52 \n",
       "  \"/>\n",
       "<path clip-path=\"url(#clip442)\" d=\"\n",
       "M2202.41 1371.83 L2202.41 1445.72 L2232.75 1445.72 L2232.75 1371.83 L2202.41 1371.83 L2202.41 1371.83  Z\n",
       "  \" fill=\"#009af9\" fill-rule=\"evenodd\" fill-opacity=\"1\"/>\n",
       "<polyline clip-path=\"url(#clip442)\" style=\"stroke:#000000; stroke-linecap:butt; stroke-linejoin:round; stroke-width:4; stroke-opacity:1; fill:none\" points=\"\n",
       "  2202.41,1371.83 2202.41,1445.72 2232.75,1445.72 2232.75,1371.83 2202.41,1371.83 \n",
       "  \"/>\n",
       "<path clip-path=\"url(#clip440)\" d=\"\n",
       "M1985.16 198.898 L2280.03 198.898 L2280.03 95.2176 L1985.16 95.2176  Z\n",
       "  \" fill=\"#ffffff\" fill-rule=\"evenodd\" fill-opacity=\"1\"/>\n",
       "<polyline clip-path=\"url(#clip440)\" style=\"stroke:#000000; stroke-linecap:butt; stroke-linejoin:round; stroke-width:4; stroke-opacity:1; fill:none\" points=\"\n",
       "  1985.16,198.898 2280.03,198.898 2280.03,95.2176 1985.16,95.2176 1985.16,198.898 \n",
       "  \"/>\n",
       "<path clip-path=\"url(#clip440)\" d=\"\n",
       "M2009.41 167.794 L2154.87 167.794 L2154.87 126.322 L2009.41 126.322 L2009.41 167.794  Z\n",
       "  \" fill=\"#009af9\" fill-rule=\"evenodd\" fill-opacity=\"1\"/>\n",
       "<polyline clip-path=\"url(#clip440)\" style=\"stroke:#000000; stroke-linecap:butt; stroke-linejoin:round; stroke-width:4; stroke-opacity:1; fill:none\" points=\"\n",
       "  2009.41,167.794 2154.87,167.794 2154.87,126.322 2009.41,126.322 2009.41,167.794 \n",
       "  \"/>\n",
       "<path clip-path=\"url(#clip440)\" d=\"M2192.95 166.745 Q2191.15 171.375 2189.43 172.787 Q2187.72 174.199 2184.85 174.199 L2181.45 174.199 L2181.45 170.634 L2183.95 170.634 Q2185.71 170.634 2186.68 169.8 Q2187.65 168.967 2188.83 165.865 L2189.6 163.921 L2179.11 138.412 L2183.62 138.412 L2191.72 158.689 L2199.83 138.412 L2204.34 138.412 L2192.95 166.745 Z\" fill=\"#000000\" fill-rule=\"evenodd\" fill-opacity=\"1\" /><path clip-path=\"url(#clip440)\" d=\"M2211.63 160.402 L2219.27 160.402 L2219.27 134.037 L2210.96 135.703 L2210.96 131.444 L2219.22 129.778 L2223.9 129.778 L2223.9 160.402 L2231.54 160.402 L2231.54 164.338 L2211.63 164.338 L2211.63 160.402 Z\" fill=\"#000000\" fill-rule=\"evenodd\" fill-opacity=\"1\" /></svg>\n"
      ]
     },
     "execution_count": 19,
     "metadata": {},
     "output_type": "execute_result"
    }
   ],
   "source": [
    "nshots=6000\n",
    "psi = run_annealing(graph, edges, dt)\n",
    "samples = measure(psi; nshots)\n",
    "\n",
    "d=Vector{Float64}()\n",
    "for i in 1:nshots\n",
    "    r=packbits(bitarray(samples[i], 6))\n",
    "    append!(d,r)\n",
    "end\n",
    "histogram(d,bins=floor(Int8,findmax(d)[1]))"
   ]
  },
  {
   "cell_type": "code",
   "execution_count": 121,
   "id": "03ad1cdc",
   "metadata": {},
   "outputs": [
    {
     "data": {
      "text/plain": [
       "\"qUDMIS.csv\""
      ]
     },
     "execution_count": 121,
     "metadata": {},
     "output_type": "execute_result"
    }
   ],
   "source": [
    "hist=fit(Histogram,d,nbins=floor(Int8,findmax(d)[1]))\n",
    "sol=bitarray(argmax(hist.weights),6)\n",
    "solCSV=DataFrame([sol],:auto)\n",
    "CSV.write(\"qUDMIS.csv\",solCSV)"
   ]
  }
 ],
 "metadata": {
  "kernelspec": {
   "display_name": "Julia 1.6.2",
   "language": "julia",
   "name": "julia-1.6"
  },
  "language_info": {
   "file_extension": ".jl",
   "mimetype": "application/julia",
   "name": "julia",
   "version": "1.6.2"
  }
 },
 "nbformat": 4,
 "nbformat_minor": 5
}
