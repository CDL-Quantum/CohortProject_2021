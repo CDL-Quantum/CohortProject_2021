{
 "cells": [
  {
   "cell_type": "markdown",
   "id": "53077483",
   "metadata": {},
   "source": [
    "# Cohort Project 2021: Rydberg Atoms; Task 3\n",
    "\n",
    "This notebook provides a solution for the \"Rydberg\" project (week 2) for the CDL cohort project of 2021. See the original Github repositiory [here](https://github.com/CDL-Quantum/CohortProject_2021).\n",
    "\n",
    "## Instructions\n",
    "This notebook has been designed to be used in a google colab environment which runs jupyter notebooks\n",
    "\n",
    "For this task we will be looking at three different solutions to the Gotham City problem. The first way is using the classical optimization method from Task 1. I have gone ahead and copied the code from Task 1 into this notebook, as that will be our starting point."
   ]
  },
  {
   "cell_type": "markdown",
   "id": "23cb8d9a",
   "metadata": {},
   "source": [
    "### Problem Statement\n",
    "The City of Gotham is looking at putting in new cell phone towers. The possible locations of the\n",
    "cell phone towers are given in Fig. 2. The billionaire Bruce Wayne is funding the project and he\n",
    "loves his money. Therefore, Gotham should only purchase the required number of cell phone towers\n",
    "such that 1) the cell phone tower signal ranges do not overlap7\n",
    ", and 2) as much of Gotham City\n",
    "can be within cell signal range"
   ]
  },
  {
   "cell_type": "code",
   "execution_count": 2,
   "id": "ea03dad2",
   "metadata": {},
   "outputs": [],
   "source": [
    "import numpy as np\n",
    "import scipy as sc\n",
    "from scipy.sparse import linalg\n",
    "import matplotlib.pyplot as plt\n",
    "import networkx as nx\n",
    "from abstract_udmis import AbstractUDMIS\n",
    "import openfermion as of\n",
    "import pandas as pd\n",
    "\n",
    "%matplotlib inline"
   ]
  },
  {
   "cell_type": "code",
   "execution_count": 3,
   "id": "e1795c7c",
   "metadata": {},
   "outputs": [],
   "source": [
    "try:\n",
    "    import cirq\n",
    "except ImportError:\n",
    "    print(\"installing cirq...\")\n",
    "    !pip install --quiet cirq\n",
    "    print(\"installed cirq.\")"
   ]
  },
  {
   "cell_type": "code",
   "execution_count": 4,
   "id": "c7bada9c",
   "metadata": {},
   "outputs": [],
   "source": [
    "# Functions for drawing Graphs\n",
    "\n",
    "def draw_graph_state(graph,occupations, ax):\n",
    "    G = nx.from_numpy_array(graph.edges)\n",
    "    graph_np = np.array(graph.graph)\n",
    "    x_vals = graph_np[:,0]\n",
    "    y_vals = graph_np[:,1]\n",
    "\n",
    "    colormap = []\n",
    "    for x,y,occ in zip(x_vals,y_vals,occupations):\n",
    "        color = 'red' if occ else 'black'\n",
    "        colormap.append(color)\n",
    "        circle = plt.Circle((x,y), 0.5, color='gray', alpha=0.1)\n",
    "        ax.add_patch(circle)\n",
    "\n",
    "    nx.draw(G, pos=graph.graph, node_color=colormap, edge_color='b',ax=ax)\n",
    "    ax.axis('equal')"
   ]
  },
  {
   "cell_type": "code",
   "execution_count": 5,
   "id": "1b66ab33",
   "metadata": {},
   "outputs": [],
   "source": [
    "class UDMIS(AbstractUDMIS):\n",
    "    def __init__(self, u, graph):\n",
    "        super().__init__()\n",
    "        self.u, self.graph = u, graph\n",
    "        self.num_vertices = len(self.graph)\n",
    "        # initialize system at infinite temperature\n",
    "        # i.e. vertices are completely random and uncorrelated\n",
    "        self.occupations = np.random.rand(self.num_vertices) < 0.5\n",
    "        self.edges = self.find_edges()\n",
    "    \n",
    "    def find_edges(self):\n",
    "        #num_pairs = int(self.num_vertices*(self.num_vertices)*0.5)\n",
    "        edges = np.zeros((self.num_vertices, self.num_vertices), dtype=bool)\n",
    "        \n",
    "        for i in range(self.num_vertices-1):\n",
    "            x_i, y_i = graph[i] # these are the x, y coordinates of the i'th vertex in the graph\n",
    "            for j in range(i+1, self.num_vertices):\n",
    "                x_j, y_j = graph[j] # these are the x, y coordinates of the j'th vertex in the graph\n",
    "                \n",
    "                # calculate the distance between vertices\n",
    "                dij = np.sqrt((x_i - x_j)**2. + (y_i - y_j)**2.)\n",
    "                if dij <= 1.0:\n",
    "                    edges[i,j] = True\n",
    "                    edges[j,i] = True\n",
    "                    \n",
    "        return edges\n",
    "        \n",
    "    def energy(self):\n",
    "        \"\"\"Returns the energy of the current spin configuration\"\"\"\n",
    "        # interaction term\n",
    "        interaction_term = 0\n",
    "        vertex_term = 0\n",
    "        for i in range(self.num_vertices-1):\n",
    "            for j in range(i+1, self.num_vertices):\n",
    "                \n",
    "                # check if there is an edge\n",
    "                if self.edges[i,j]:\n",
    "                    interaction_term += self.occupations[i]*self.occupations[j]\n",
    "                \n",
    "            vertex_term += self.occupations[i]\n",
    "        \n",
    "        # missed the last vertex\n",
    "        vertex_term += self.occupations[self.num_vertices-1]\n",
    "    \n",
    "        return u*interaction_term - vertex_term\n",
    "\n",
    "    def energy_diff(self, i):\n",
    "        connections = np.where(self.edges[i,:])[0]\n",
    "        num_adjacent_occupied = sum(self.occupations[connections])\n",
    "        \n",
    "        if self.occupations[i] == 1:\n",
    "            # flipping an occupied vertex increases the vertex term, decreases the interaction term\n",
    "            vertex_term_change = 1.\n",
    "            interaction_term_change = -u*num_adjacent_occupied\n",
    "        \n",
    "        elif self.occupations[i] == 0:\n",
    "            # flipping an unoccupied vertex decreases the vertex term, increases the interaction term\n",
    "            vertex_term_change = -1.\n",
    "            interaction_term_change = u*num_adjacent_occupied \n",
    "\n",
    "        return interaction_term_change + vertex_term_change\n",
    "    \n",
    "    def rand_vertex(self):\n",
    "        \"\"\"Selects a site in the graph at random\"\"\"\n",
    "        return np.random.randint(self.num_vertices)        "
   ]
  },
  {
   "cell_type": "code",
   "execution_count": 6,
   "id": "76497fd4",
   "metadata": {},
   "outputs": [
    {
     "data": {
      "image/png": "[encoded data removed]",
      "text/plain": [
       "<Figure size 432x288 with 1 Axes>"
      ]
     },
     "metadata": {},
     "output_type": "display_data"
    }
   ],
   "source": [
    "u = 1.35\n",
    "graph = [(1.19, 4.25),(2.71, 3.48),\n",
    "         (1.19, 3.51),(2, 3.38),\n",
    "         (1.12, 2.86),(1.70, 2.42),\n",
    "         (2.36, 2.54),(1.52, 1.48),\n",
    "         (2.15, 1.54),(2.14, 1.87),\n",
    "         (1.72, 0.86),(2.29, 0.87),\n",
    "        ]\n",
    "\n",
    "udmis = UDMIS(u, graph)\n",
    "N=20000\n",
    "T_i = 100\n",
    "T_f = 0.000001\n",
    "t = np.arange(N+1)\n",
    "T = T_i * ((T_f/T_i) ** (t/N))\n",
    "x = []\n",
    "y = []\n",
    "occupations = []\n",
    "for t in range(N):\n",
    "    temp = T[t]\n",
    "    E = udmis.mc_step(T=temp)\n",
    "    bitstring = \"\"\n",
    "    for i in udmis.occupations:\n",
    "        bitstring +=str(int(i))\n",
    "        occupations.append(bitstring)\n",
    "    if t%100 == 0:\n",
    "        x.append(t)\n",
    "        y.append(E)\n",
    "fig, ax = plt.subplots()\n",
    "draw_graph_state(udmis, udmis.occupations, ax)"
   ]
  },
  {
   "cell_type": "code",
   "execution_count": 7,
   "id": "2beaa1e0",
   "metadata": {},
   "outputs": [
    {
     "data": {
      "text/plain": [
       "Text(0.5, 1.0, 'T$_{f}$ = $10^{-6}$ K')"
      ]
     },
     "execution_count": 7,
     "metadata": {},
     "output_type": "execute_result"
    },
    {
     "data": {
      "image/png": "[encoded data removed]",
      "text/plain": [
       "<Figure size 432x288 with 1 Axes>"
      ]
     },
     "metadata": {
      "needs_background": "light"
     },
     "output_type": "display_data"
    }
   ],
   "source": [
    "figure, axis = plt.subplots()\n",
    "axis.plot(x,y)\n",
    "axis.set_title(\"T$_{f}$ = $10^{-6}$ K\")"
   ]
  },
  {
   "cell_type": "code",
   "execution_count": 8,
   "id": "7a21747a",
   "metadata": {},
   "outputs": [
    {
     "name": "stdout",
     "output_type": "stream",
     "text": [
      "The energy is : -5.0\n",
      "[ True  True False False  True False  True False False False False  True]\n"
     ]
    }
   ],
   "source": [
    "print(f'The energy is : {y[-1]}')\n",
    "print(udmis.occupations)"
   ]
  },
  {
   "cell_type": "markdown",
   "id": "260f31f3",
   "metadata": {},
   "source": [
    "Plotting a histogram of states"
   ]
  },
  {
   "cell_type": "code",
   "execution_count": 12,
   "id": "34772709",
   "metadata": {},
   "outputs": [
    {
     "data": {
      "text/plain": [
       "1               17259\n",
       "11              15439\n",
       "110             14768\n",
       "1100            14308\n",
       "11001           13997\n",
       "110010          13903\n",
       "1100101         13432\n",
       "11001010        13077\n",
       "110010100       12301\n",
       "1100101000      12199\n",
       "11001010000     11892\n",
       "110010100001    11884\n",
       "0                2741\n",
       "10               1820\n",
       "01               1466\n",
       "100              1305\n",
       "00               1275\n",
       "Name: Occupations, dtype: int64"
      ]
     },
     "execution_count": 12,
     "metadata": {},
     "output_type": "execute_result"
    }
   ],
   "source": [
    "o_df = pd.Series(occupations)\n",
    "oc_top_df = o_df.value_counts()[o_df.value_counts()> 1000]\n",
    "oc_top_df.name = 'Occupations'\n",
    "oc_top_df"
   ]
  },
  {
   "cell_type": "code",
   "execution_count": 13,
   "id": "0aeaf36a",
   "metadata": {},
   "outputs": [
    {
     "data": {
      "text/plain": [
       "Text(0.5, 1.0, 'Distribution Plot')"
      ]
     },
     "execution_count": 13,
     "metadata": {},
     "output_type": "execute_result"
    },
    {
     "data": {
      "image/png": "[encoded data removed]",
      "text/plain": [
       "<Figure size 432x288 with 1 Axes>"
      ]
     },
     "metadata": {
      "needs_background": "light"
     },
     "output_type": "display_data"
    }
   ],
   "source": [
    "fig = oc_top_df.plot(kind='bar', color='b')\n",
    "fig.set_title('Distribution Plot')"
   ]
  },
  {
   "cell_type": "code",
   "execution_count": null,
   "id": "19728366",
   "metadata": {},
   "outputs": [],
   "source": []
  }
 ],
 "metadata": {
  "kernelspec": {
   "display_name": "Python 3",
   "language": "python",
   "name": "python3"
  },
  "language_info": {
   "codemirror_mode": {
    "name": "ipython",
    "version": 3
   },
   "file_extension": ".py",
   "mimetype": "text/x-python",
   "name": "python",
   "nbconvert_exporter": "python",
   "pygments_lexer": "ipython3",
   "version": "3.8.5"
  }
 },
 "nbformat": 4,
 "nbformat_minor": 5
}
