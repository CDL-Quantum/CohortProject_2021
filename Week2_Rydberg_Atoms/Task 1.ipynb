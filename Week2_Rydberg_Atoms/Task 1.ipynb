{
 "cells": [
  {
   "cell_type": "markdown",
   "metadata": {
    "id": "LoYNxXmCnyrD"
   },
   "source": [
    "# Random-graph UD-MIS (Classical)\n",
    "\n",
    "$$\n",
    "H = -\\sum_{i \\in V} n_i + u \\sum_{i,j \\in E} n_i n_j\n",
    "$$\n",
    "\n",
    "Our goal is to find one of the ground state(s) - a solution to the UD-MIS problem - automatically through Monte Carlo sampling.\n",
    "\n",
    "The probability distribution of the Ising model at temperature $T$ is given by the Gibbs distribution:\n",
    "\n",
    "$p(\\sigma; T) = \\frac{1}{Z(T)}\\exp\\left(-\\frac{H(\\sigma)}{T}\\right)$,\n",
    "\n",
    "where $Z(T)$ is the normalization constant (also known as the *partition function*)."
   ]
  },
  {
   "cell_type": "code",
   "execution_count": 1,
   "metadata": {
    "id": "3Qx-aaV9nyrG"
   },
   "outputs": [],
   "source": [
    "import numpy as np\n",
    "import matplotlib.pyplot as plt\n",
    "import time\n",
    "import pandas as pd\n",
    "import networkx as nx\n",
    "\n",
    "%matplotlib inline"
   ]
  },
  {
   "cell_type": "markdown",
   "metadata": {
    "id": "YzvvaZysnyrK"
   },
   "source": [
    "Below you'll find code for the UDMIS model of interest. Strictly speaking, for the purposes of performing the Monte Carlo simulation we can simply compute the required energy differences using two calls to the energy function. However, we can often save significant computation time by writing a specialised function for the energy difference that avoids unnecessary calculations. Simply put, calculating the energy of a configuration of occupations requires you to iterate over all vertices in the graph, but the energy change associated with a single-occupation-flip can be computed just from values of the connected vertices."
   ]
  },
  {
   "cell_type": "code",
   "execution_count": 2,
   "metadata": {
    "id": "vTHVLvbcx_36"
   },
   "outputs": [],
   "source": [
    "import abc\n",
    "\n",
    "import numpy as np\n",
    "\n",
    "class AbstractUDMIS(abc.ABC):\n",
    "    @abc.abstractmethod\n",
    "    def energy(self):\n",
    "        \"\"\"Returns the energy of the current Rydberg occupation configuration\"\"\"\n",
    "\n",
    "    @abc.abstractmethod\n",
    "    def energy_diff(self, *coords):\n",
    "        \"\"\"Returns the energy difference resulting from flipping the occupation at the given coordinates\"\"\"\n",
    "        \n",
    "    @abc.abstractmethod\n",
    "    def rand_vertex(self):\n",
    "        \"\"\"Selects a site in the graph at random\"\"\"\n",
    "    \n",
    "    def mc_step(self, T):\n",
    "        \"\"\"Performs a full update of the Rydberg model using the Metropolis-Hastings algorithm\"\"\"\n",
    "        current_energy = self.energy()\n",
    "        for _ in range(self.num_vertices):\n",
    "            vertex = self.rand_vertex()\n",
    "            dE = self.energy_diff(vertex)\n",
    "\n",
    "            if (dE < 0) or (np.random.rand() < np.exp(-dE / T)):\n",
    "                current_energy += dE\n",
    "                self.occupations[vertex] ^= 1 \n",
    "                # flips occupation 0 --> 1 OR 1 --> 0\n",
    "\n",
    "        return current_energy"
   ]
  },
  {
   "cell_type": "code",
   "execution_count": 3,
   "metadata": {
    "id": "0tMdo5IGnyrM"
   },
   "outputs": [],
   "source": [
    "class UDMIS(AbstractUDMIS):\n",
    "    def __init__(self, u, graph):\n",
    "        super().__init__()\n",
    "        self.u, self.graph = u, graph\n",
    "        self.num_vertices = len(self.graph)\n",
    "        print(self.num_vertices)\n",
    "        # initialize system at infinite temperature\n",
    "        # i.e. vertices are completely random and uncorrelated\n",
    "        self.occupations = np.random.rand(self.num_vertices) < 0.5\n",
    "        self.edges = self.find_edges()\n",
    "    \n",
    "    def find_edges(self):\n",
    "        #num_pairs = int(self.num_vertices*(self.num_vertices)*0.5)\n",
    "        edges = np.zeros((self.num_vertices, self.num_vertices), dtype=bool)\n",
    "        \n",
    "        for i in range(self.num_vertices-1):\n",
    "            x_i, y_i = graph[i] # these are the x, y coordinates of the i'th vertex in the graph\n",
    "            for j in range(i+1, self.num_vertices):\n",
    "                x_j, y_j = graph[j] # these are the x, y coordinates of the j'th vertex in the graph\n",
    "                \n",
    "                # calculate the distance between vertices\n",
    "                dij = np.sqrt((x_i - x_j)**2. + (y_i - y_j)**2.)\n",
    "                if dij <= 1.0:\n",
    "                    edges[i,j] = True\n",
    "                    edges[j,i] = True\n",
    "                    \n",
    "        return edges\n",
    "        \n",
    "    def energy(self):\n",
    "        \"\"\"Returns the energy of the current spin configuration\"\"\"\n",
    "        # interaction term\n",
    "        interaction_term = 0\n",
    "        vertex_term = 0\n",
    "        for i in range(self.num_vertices-1):\n",
    "            for j in range(i+1, self.num_vertices):\n",
    "                \n",
    "                # check if there is an edge\n",
    "                if self.edges[i,j]:\n",
    "                    interaction_term += self.occupations[i]*self.occupations[j]\n",
    "                \n",
    "            vertex_term += self.occupations[i]\n",
    "        \n",
    "        # missed the last vertex\n",
    "        vertex_term += self.occupations[self.num_vertices-1]\n",
    "    \n",
    "        return u*interaction_term - vertex_term\n",
    "\n",
    "    def energy_diff(self, i):\n",
    "        connections = np.where(self.edges[i,:])[0]\n",
    "        num_adjacent_occupied = sum(self.occupations[connections])\n",
    "        \n",
    "        if self.occupations[i] == 1:\n",
    "            # flipping an occupied vertex increases the vertex term, decreases the interaction term\n",
    "            vertex_term_change = 1.\n",
    "            interaction_term_change = -u*num_adjacent_occupied\n",
    "        \n",
    "        elif self.occupations[i] == 0:\n",
    "            # flipping an unoccupied vertex decreases the vertex term, increases the interaction term\n",
    "            vertex_term_change = -1.\n",
    "            interaction_term_change = u*num_adjacent_occupied \n",
    "\n",
    "        return interaction_term_change + vertex_term_change\n",
    "    \n",
    "    def rand_vertex(self):\n",
    "        \"\"\"Selects a site in the graph at random\"\"\"\n",
    "        return np.random.randint(self.num_vertices)        "
   ]
  },
  {
   "cell_type": "code",
   "execution_count": 4,
   "metadata": {
    "colab": {
     "base_uri": "https://localhost:8080/"
    },
    "id": "O2XzKZulnyrT",
    "outputId": "d5a6ae98-cff6-41d8-f088-86a36c428fab"
   },
   "outputs": [
    {
     "name": "stdout",
     "output_type": "stream",
     "text": [
      "6\n"
     ]
    }
   ],
   "source": [
    "u = 1.35\n",
    "graph = [(0.3461717838632017, 1.4984640297338632), \n",
    "         (0.6316400411846113, 2.5754677320579895), \n",
    "         (1.3906262250927481, 2.164978861396621), \n",
    "         (0.66436005100802, 0.6717919819739032), \n",
    "         (0.8663329771713457, 3.3876341010035995), \n",
    "         (1.1643107343501296, 1.0823066243402013)\n",
    "        ]\n",
    "\n",
    "udmis = UDMIS(u, graph)"
   ]
  },
  {
   "cell_type": "markdown",
   "metadata": {},
   "source": [
    "## Simulating the unit-disk maximum independent set (UD-MIS) problem using classical simulated annealing."
   ]
  },
  {
   "cell_type": "markdown",
   "metadata": {},
   "source": [
    "First we want to checkout how the graph looks"
   ]
  },
  {
   "cell_type": "code",
   "execution_count": 5,
   "metadata": {},
   "outputs": [
    {
     "data": {
      "image/png": "[encoded data removed]",
      "text/plain": [
       "<Figure size 432x288 with 1 Axes>"
      ]
     },
     "metadata": {
      "needs_background": "light"
     },
     "output_type": "display_data"
    }
   ],
   "source": [
    "\n",
    "def generate_node_graph(title=None, occupations=None):\n",
    "\n",
    "    if title is None:\n",
    "        title = 'Graph Representation of Problem'\n",
    "\n",
    "    np.random.seed(0)\n",
    "\n",
    "    fig, ax = plt.subplots()\n",
    "\n",
    "    n_nodes = len(udmis.edges)\n",
    "    G = nx.Graph()\n",
    "\n",
    "    for i in range(n_nodes):\n",
    "        G.add_node(i, pos=(graph[i][0], graph[i][1]))\n",
    "\n",
    "    edge_list = []\n",
    "    for i in range(n_nodes):\n",
    "        for j in range(i + 1, n_nodes):\n",
    "            if udmis.edges[i, j] == True:\n",
    "                G.add_edge(i, j)\n",
    "                edge_list.append([i, j])\n",
    "\n",
    "\n",
    "    pos = nx.get_node_attributes(G, 'pos')\n",
    "\n",
    "    nx.draw_networkx_nodes(G,pos, ax=ax, node_color='y' if occupations is None else ['g' if occ else 'y' for occ in occupations])\n",
    "    nx.draw_networkx_labels(G, pos)\n",
    "    nx.draw_networkx_edges(G, pos, edgelist=edge_list, edge_color='y')\n",
    "\n",
    "    ax.tick_params(left=True, bottom=True, labelleft=True, labelbottom=True)\n",
    "    plt.title(title)\n",
    "    ax.xaxis.set_visible(False)\n",
    "    ax.yaxis.set_visible(False)\n",
    "\n",
    "    plt.show()\n",
    "\n",
    "generate_node_graph()"
   ]
  },
  {
   "cell_type": "markdown",
   "metadata": {},
   "source": [
    "Next we simulate the annealing"
   ]
  },
  {
   "cell_type": "code",
   "execution_count": 6,
   "metadata": {
    "colab": {
     "base_uri": "https://localhost:8080/"
    },
    "id": "nJHfZlzfnyrV",
    "outputId": "20ff5740-2dfa-4c1c-d2be-6b801fc9ba27"
   },
   "outputs": [
    {
     "name": "stdout",
     "output_type": "stream",
     "text": [
      "0 -1.0 [False  True False False False False]\n",
      "1000 -1.0 [False False False False  True False]\n",
      "2000 -2.65 [ True False  True  True  True False]\n",
      "3000 -3.0 [False False  True  True  True False]\n",
      "4000 -3.0 [False False  True False  True  True]\n"
     ]
    }
   ],
   "source": [
    "N = 5000\n",
    "t = np.arange(N+1)\n",
    "T_i = 100\n",
    "T_f = 0.01\n",
    "\n",
    "T = T_i * ((T_f/T_i) ** (t/N))\n",
    "\n",
    "for t in range(N):\n",
    "    # take a look at the abstract_udmis.py file to see how mc_step works\n",
    "    temp = T[t]\n",
    "    E = udmis.mc_step(T=temp)\n",
    "    \n",
    "    if t % 1000 == 0:\n",
    "        print(t, E, udmis.occupations)"
   ]
  },
  {
   "cell_type": "markdown",
   "metadata": {},
   "source": [
    "Next, we visualize the solution plotted in green"
   ]
  },
  {
   "cell_type": "code",
   "execution_count": 7,
   "metadata": {},
   "outputs": [
    {
     "data": {
      "image/png": "[encoded data removed]",
      "text/plain": [
       "<Figure size 432x288 with 1 Axes>"
      ]
     },
     "metadata": {
      "needs_background": "light"
     },
     "output_type": "display_data"
    }
   ],
   "source": [
    "generate_node_graph('Graph Representation of Problem with Solution in Green', udmis.occupations)"
   ]
  },
  {
   "cell_type": "markdown",
   "metadata": {
    "id": "jcJEFixunyrd"
   },
   "source": [
    "## Finding a better annealing schedule to arrive at solutions to the problem quicker\n",
    "\n",
    "We test various annealing schedules and compare the time it takes to reach a solution to the UD-MIS problem. We define an arbitrary threshold of the number of consecutive energies needed to be considered a solution (for example, if we define `threshold=100`, we need 100 consecutive energies to be the same to consider it a solution). Then we are able to plot the number of iterations needed to achieve a solution. \n",
    "\n",
    "We compared 3 functions: \n",
    "1. $T_i * (T_f/T_i)^(t/N)$        (this is the benchmark provided in the sample code)\n",
    "2. $T_i * (T_f/T_i)^(2*t/N)$\n",
    "3. $T_i * (T_f/T_i)^(4*t/N)$\n",
    "\n",
    "Intuitively function 3 should yield the fastest convergence because it decreases the temperature the fastest. From our results, we see that this is indeed correct with the following iterations needed to reach convergence respectively (at a threshold of 100):\n",
    "\n",
    "1. ~3500 iterations\n",
    "2. ~2000 iterations\n",
    "3. ~1000 iterations"
   ]
  },
  {
   "cell_type": "code",
   "execution_count": 6,
   "metadata": {
    "colab": {
     "base_uri": "https://localhost:8080/",
     "height": 969
    },
    "id": "WOQwGTx4nyrf",
    "outputId": "6a073664-f4f8-478d-f21d-78cd5605e729"
   },
   "outputs": [
    {
     "data": {
      "text/plain": [
       "Text(0, 0.5, 'Temperature')"
      ]
     },
     "execution_count": 6,
     "metadata": {},
     "output_type": "execute_result"
    },
    {
     "data": {
      "image/png": "[encoded data removed]",
      "text/plain": [
       "<Figure size 432x288 with 1 Axes>"
      ]
     },
     "metadata": {
      "needs_background": "light"
     },
     "output_type": "display_data"
    }
   ],
   "source": [
    "N = 5000\n",
    "t = np.arange(N+1)\n",
    "T_i = 100\n",
    "T_f = 0.01\n",
    "threshold = 100  # consider \"threshold\" (i.e. 100) repeated experiments with the same energy a solution\n",
    "\n",
    "# ------------------- Define schedules you want to play with here\n",
    "schedules = [\n",
    "    T_i * ((T_f/T_i) ** (t/N)),  # benchmark\n",
    "    T_i * ((T_f/T_i) ** (2*t/N)),  # Increasing temperature faster (by factor of 2)\n",
    "    T_i * ((T_f/T_i) ** (4*t/N)),  # Increasing temperature even faster (by factor of 4)\n",
    "]\n",
    "\n",
    "# Name of the schedule (should be same length as \"schedules\" variable)\n",
    "legends = [\n",
    "    'exponential ~x (benchmark)',\n",
    "    'exponential ~2x',\n",
    "    'exponential ~4x',\n",
    "]\n",
    "# ------------------- End schedule definition\n",
    "\n",
    "# Plot these schedules\n",
    "for schedule in schedules:\n",
    "    plt.plot(t, schedule)\n",
    "plt.legend(legends)\n",
    "plt.title('Visualization of Different Annealing Schedules')\n",
    "plt.xlabel('Iteration')\n",
    "plt.ylabel('Temperature')"
   ]
  },
  {
   "cell_type": "markdown",
   "metadata": {},
   "source": [
    "Next we run the experiment with each annealing schedule."
   ]
  },
  {
   "cell_type": "code",
   "execution_count": 7,
   "metadata": {},
   "outputs": [
    {
     "name": "stdout",
     "output_type": "stream",
     "text": [
      "> Starting experiment for cooling schedule: exponential ~x (benchmark)\n",
      "Found solution:  3676 0.610388994216919 -3.0 [False False  True False  True  True]\n",
      "> Starting experiment for cooling schedule: exponential ~2x\n",
      "Found solution:  2007 0.33520007133483887 -3.0 [False False  True False  True  True]\n",
      "> Starting experiment for cooling schedule: exponential ~4x\n",
      "Found solution:  1044 0.16924595832824707 -3.0 [ True False  True False  True False]\n"
     ]
    }
   ],
   "source": [
    "solution_iterations = np.zeros(len(schedules))  # this will hold the number of iterations needed to arrive at a \"solution\" given \"threshold\" number of consecutive energies\n",
    "solution_energies = np.zeros(len(schedules))\n",
    "time_to_stable_solution = np.zeros(len(schedules))\n",
    "all_energies = np.zeros([len(schedules), N])\n",
    "\n",
    "for idx, (legend, schedule) in enumerate(zip(legends, schedules)):\n",
    "    print(f'> Starting experiment for cooling schedule: {legend}')\n",
    "    energies = np.zeros(N)\n",
    "    start_time = time.time()\n",
    "    for t in range(N):\n",
    "        # take a look at the abstract_udmis.py file to see how mc_step works\n",
    "        temp = schedule[t]\n",
    "        E = udmis.mc_step(T=temp)\n",
    "        \n",
    "        # all_energies[idx][t] = E\n",
    "        energies[t] = E\n",
    "\n",
    "        if (t > threshold and np.all(energies[t-threshold: t] == E) and solution_iterations[idx] == 0):\n",
    "            # found stable solution\n",
    "            solution_iterations[idx] = t\n",
    "            solution_energies[idx] = E\n",
    "            end_time = time.time()\n",
    "            time_elapsed = end_time - start_time\n",
    "            time_to_stable_solution[idx] = time_elapsed\n",
    "            print(f'Found solution: ', t, time_elapsed, E, udmis.occupations)\n",
    "    \n",
    "    all_energies[idx] = energies  "
   ]
  },
  {
   "cell_type": "markdown",
   "metadata": {},
   "source": [
    "Now to visualize the fastest convergence, we plot the energies for each iteration per annealing schedule. Notice how the \"red\" energies (exponential ~4x schedule) reaches a stable solution the fastest."
   ]
  },
  {
   "cell_type": "code",
   "execution_count": 8,
   "metadata": {},
   "outputs": [
    {
     "data": {
      "text/plain": [
       "Text(0, -0.2, 'Figure 1.2: Plots of the energy levels per iteration for each cooling schedule used in the \\nexperiment. Dashed line indicates the \"stable\" solution after the same energy was consistently \\nseen after 100 iterations. We see that the cooling schedule for \"exponential ~4x\" converged the \\nfastest at about ~1000 iterations.')"
      ]
     },
     "execution_count": 8,
     "metadata": {},
     "output_type": "execute_result"
    },
    {
     "data": {
      "text/plain": [
       "<Figure size 432x288 with 0 Axes>"
      ]
     },
     "metadata": {},
     "output_type": "display_data"
    },
    {
     "data": {
      "image/png": "[encoded data removed]",
      "text/plain": [
       "<Figure size 432x288 with 1 Axes>"
      ]
     },
     "metadata": {
      "needs_background": "light"
     },
     "output_type": "display_data"
    }
   ],
   "source": [
    "\n",
    "plt.figure()\n",
    "plt.figure()\n",
    "colors = ['b', 'g', 'r', 'm', 'c', 'y', 'k']\n",
    "for idx, energy_experiment in enumerate(all_energies):\n",
    "    # plt.scatter(np.arange(len(energy_experiment)), energy_experiment)\n",
    "    plt.plot(np.arange(len(energy_experiment)), energy_experiment, alpha=0.4, color=colors[idx])\n",
    "plt.legend(legends)\n",
    "for idx, _ in enumerate(all_energies):\n",
    "    plt.axvline(solution_iterations[idx], color=colors[idx], linestyle='dashed', linewidth=2)\n",
    "\n",
    "plt.title('Energy vs Number of Iterations Per Cooling Schedule')\n",
    "plt.xlabel('Training Iteration')\n",
    "plt.ylabel(f'Energy')\n",
    "plt.figtext(0, -0.20, f'Figure 1.2: Plots of the energy levels per iteration for each cooling schedule used in the \\nexperiment. \\\n",
    "Dashed line indicates the \"stable\" solution after the same energy was consistently \\nseen after {threshold} iterations. \\\n",
    "We see that the cooling schedule for \"{legends[2]}\" converged the \\nfastest at about ~1000 iterations.', wrap=True, fontsize=12)"
   ]
  },
  {
   "cell_type": "markdown",
   "metadata": {},
   "source": [
    "We also display the results in a table. We show the number of iterations as well as the time needed to reach a stable solution. As stated before, the ~4x schedule converges the fastest."
   ]
  },
  {
   "cell_type": "code",
   "execution_count": 9,
   "metadata": {},
   "outputs": [
    {
     "name": "stdout",
     "output_type": "stream",
     "text": [
      "Table displaying the number of iterations and the time taken to reach a stable solution for each cooling schedule\n"
     ]
    },
    {
     "data": {
      "text/html": [
       "<div>\n",
       "<style scoped>\n",
       "    .dataframe tbody tr th:only-of-type {\n",
       "        vertical-align: middle;\n",
       "    }\n",
       "\n",
       "    .dataframe tbody tr th {\n",
       "        vertical-align: top;\n",
       "    }\n",
       "\n",
       "    .dataframe thead th {\n",
       "        text-align: right;\n",
       "    }\n",
       "</style>\n",
       "<table border=\"1\" class=\"dataframe\">\n",
       "  <thead>\n",
       "    <tr style=\"text-align: right;\">\n",
       "      <th></th>\n",
       "      <th>Cooling Schedule</th>\n",
       "      <th>Iterations to Stable Solution</th>\n",
       "      <th>Time to Stable Solution (seconds)</th>\n",
       "    </tr>\n",
       "  </thead>\n",
       "  <tbody>\n",
       "    <tr>\n",
       "      <th>0</th>\n",
       "      <td>exponential ~x (benchmark)</td>\n",
       "      <td>3676.0</td>\n",
       "      <td>0.610388994216919</td>\n",
       "    </tr>\n",
       "    <tr>\n",
       "      <th>1</th>\n",
       "      <td>exponential ~2x</td>\n",
       "      <td>2007.0</td>\n",
       "      <td>0.33520007133483887</td>\n",
       "    </tr>\n",
       "    <tr>\n",
       "      <th>2</th>\n",
       "      <td>exponential ~4x</td>\n",
       "      <td>1044.0</td>\n",
       "      <td>0.16924595832824707</td>\n",
       "    </tr>\n",
       "  </tbody>\n",
       "</table>\n",
       "</div>"
      ],
      "text/plain": [
       "             Cooling Schedule Iterations to Stable Solution  \\\n",
       "0  exponential ~x (benchmark)                        3676.0   \n",
       "1             exponential ~2x                        2007.0   \n",
       "2             exponential ~4x                        1044.0   \n",
       "\n",
       "  Time to Stable Solution (seconds)  \n",
       "0                 0.610388994216919  \n",
       "1               0.33520007133483887  \n",
       "2               0.16924595832824707  "
      ]
     },
     "execution_count": 9,
     "metadata": {},
     "output_type": "execute_result"
    }
   ],
   "source": [
    "print('Table displaying the number of iterations and the time taken to reach a stable solution for each cooling schedule')\n",
    "data = np.transpose(np.array([legends, solution_iterations, time_to_stable_solution]))\n",
    "pd.DataFrame(data, columns=[\"Cooling Schedule\", \"Iterations to Stable Solution\", \"Time to Stable Solution (seconds)\"])"
   ]
  }
 ],
 "metadata": {
  "colab": {
   "collapsed_sections": [],
   "name": "Copy of Task1.ipynb",
   "provenance": []
  },
  "interpreter": {
   "hash": "768b5b490866bf0c26eb93feca2cab340e057de89c981e44f785dee8abcdcb85"
  },
  "kernelspec": {
   "display_name": "Python 3.7.6 64-bit ('base': conda)",
   "name": "python3"
  },
  "language_info": {
   "codemirror_mode": {
    "name": "ipython",
    "version": 3
   },
   "file_extension": ".py",
   "mimetype": "text/x-python",
   "name": "python",
   "nbconvert_exporter": "python",
   "pygments_lexer": "ipython3",
   "version": "3.7.6"
  }
 },
 "nbformat": 4,
 "nbformat_minor": 1
}