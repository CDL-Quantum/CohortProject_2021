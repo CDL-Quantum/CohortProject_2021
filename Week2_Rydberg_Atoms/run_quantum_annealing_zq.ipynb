{
 "cells": [
  {
   "cell_type": "code",
   "execution_count": 1,
   "metadata": {},
   "outputs": [],
   "source": [
    "#!/usr/bin/env julia\n",
    "using Yao\n",
    "using Yao.ConstGate # needed for P1 = 0.5*(I - sigma_z) block\n",
    "\n",
    "using PyPlot\n",
    "import PyPlot.plt\n",
    "\n",
    "using PyCall\n",
    "@pyimport matplotlib as mpl\n",
    "\n",
    "using Random"
   ]
  },
  {
   "cell_type": "code",
   "execution_count": 107,
   "metadata": {},
   "outputs": [
    {
     "data": {
      "text/plain": [
       "run_annealing (generic function with 1 method)"
      ]
     },
     "execution_count": 107,
     "metadata": {},
     "output_type": "execute_result"
    }
   ],
   "source": [
    "#=\n",
    "H(t) = Ω(t) ∑_i σ_i^x - δ(t) ∑_i n_i + u ∑_ij n_i n_j\n",
    "=#\n",
    "\n",
    "# const u = 1.35\n",
    "u = 10\n",
    "const Ω_max = 1.89\n",
    "const δ_0 = -1.0\n",
    "const δ_max = 1.0\n",
    "\n",
    "function get_edges(graph::Vector{NTuple{2, Float64}})\n",
    "    Nv = size(graph)[1]\n",
    "    edges = falses(Nv, Nv)\n",
    "    for i in 1:(Nv-1)\n",
    "        xi, yi = graph[i]\n",
    "        for j in (i+1):Nv\n",
    "            xj, yj = graph[j]\n",
    "\n",
    "            dij = sqrt((xi - xj)^2. + (yi - yj)^2.)\n",
    "            if dij <= 1.0\n",
    "                edges[i,j] = true\n",
    "            end\n",
    "        end\n",
    "    end\n",
    "    return findall(edges)\n",
    "end\n",
    "\n",
    "function Ω(t::Float64)\n",
    "    if 0 <= t <= 0.25\n",
    "        return (Ω_max / 0.25) * t\n",
    "    elseif 0.25 < t <= 0.69\n",
    "        return Ω_max\n",
    "    elseif 0.69 < t <= 1\n",
    "        return - Ω_max * t / 0.31 + Ω_max * (1 + 0.69/0.31)\n",
    "    end\n",
    "end\n",
    "\n",
    "function δ(t::Float64)\n",
    "    slope = (δ_0 - δ_max)/(0.25 - 0.69)\n",
    "    if 0 <= t <= 0.25\n",
    "        return δ_0\n",
    "    elseif 0.25 < t <= 0.69\n",
    "        return t * slope + (δ_max - slope * 0.69)\n",
    "    elseif 0.69 < t <= 1\n",
    "        return δ_max\n",
    "    end\n",
    "end \n",
    "\n",
    "function hamiltonian(graph::Vector{NTuple{2, Float64}}, edges::Vector{CartesianIndex{2}}, t::Float64)\n",
    "    # the UD-MIS Hamiltonian\n",
    "    Nv = size(graph)[1] # number of vertices\n",
    "\n",
    "    interaction_term = map(1:size(edges)[1]) do i\n",
    "        l,m = edges[i][1], edges[i][2]\n",
    "        repeat(Nv,u*P1,(l,m))\n",
    "    end |> sum\n",
    "    interaction_term - δ(t)*sum(map(i->put(Nv,i=>P1), 1:Nv)) + Ω(t)*sum(map(i->put(Nv,i=>X), 1:Nv))\n",
    "end\n",
    "\n",
    "function run_annealing(graph::Vector{NTuple{2, Float64}}, edges::Vector{CartesianIndex{2}}, dt::Float64)\n",
    "    psi_t = zero_state(size(graph)[1])\n",
    "    for t in 0:dt:1.0\n",
    "        h = hamiltonian(graph, edges, t)\n",
    "        psi_t = psi_t |> TimeEvolution(h, dt * 100)\n",
    "    end\n",
    "    return psi_t\n",
    "end"
   ]
  },
  {
   "cell_type": "code",
   "execution_count": 164,
   "metadata": {
    "code_folding": []
   },
   "outputs": [
    {
     "data": {
      "text/plain": [
       "ArrayReg{1, ComplexF64, Array...}\n",
       "    active qubits: 6/6"
      ]
     },
     "execution_count": 164,
     "metadata": {},
     "output_type": "execute_result"
    }
   ],
   "source": [
    "graph = [(0.3461717838632017, 1.4984640297338632), \n",
    "         (0.6316400411846113, 2.5754677320579895), \n",
    "         (1.3906262250927481, 2.164978861396621), \n",
    "         (0.66436005100802, 0.6717919819739032), \n",
    "         (0.8663329771713457, 3.3876341010035995), \n",
    "         (1.1643107343501296, 1.0823066243402013)\n",
    "        ]\n",
    "\n",
    "edges = get_edges(graph)\n",
    "dt = 0.02\n",
    "\n",
    "psi = run_annealing(graph, edges, dt)\n",
    "# open(\"task2_data.dat\",\"w\") do io\n",
    "#     for sample in measure(psi; nshots=10_000)\n",
    "#         println(io, sample)\n",
    "#     end\n",
    "# end\n",
    "\n",
    "#samples = measure(psi; nshots=10)\n",
    "#@show samples"
   ]
  },
  {
   "cell_type": "code",
   "execution_count": 195,
   "metadata": {},
   "outputs": [
    {
     "data": {
      "text/plain": [
       "plot_occupation (generic function with 1 method)"
      ]
     },
     "execution_count": 195,
     "metadata": {},
     "output_type": "execute_result"
    }
   ],
   "source": [
    "function sample_psi(psi, nshots=50000) \n",
    "    meas = Dict()\n",
    "    for sample in measure(psi; nshots=nshots)\n",
    "        if sample in keys(meas)\n",
    "            meas[sample]+=1\n",
    "        else\n",
    "            meas[sample] = 1\n",
    "        end\n",
    "    end\n",
    "\n",
    "    most_freq_bitstring = collect(keys(meas))[argmax(collect(values(meas)))]\n",
    "    meas[most_freq_bitstring]\n",
    "    \n",
    "    return most_freq_bitstring, meas[most_freq_bitstring]\n",
    "end\n",
    "\n",
    "function plot_occupation(most_freq_bitstring, num_vertices)\n",
    "    # Plotting the solution \n",
    "    occupation = reverse(string(most_freq_bitstring,2)[1:num_vertices])\n",
    "    patches = mpl.pymember(\"patches\")\n",
    "    fig = plt.figure(figsize=(3,3))\n",
    "    ax = fig[:add_axes]([0.6,0.6,0.6,0.6],aspect =1)\n",
    "    colors = [\"b\",\"r\"]\n",
    "\n",
    "    # p = patches[:Polygon](rand(4,2),closed=true,edgecolor=\"none\",facecolor=\"blue\",rasterized=true)\n",
    "    for i in 1:length(graph)\n",
    "        x,y = graph[i]\n",
    "        circle1 = patches[:Circle]((x, y), radius = 0.5, edgecolor=\"black\", \n",
    "            alpha = 0.5,facecolor=colors[parse(Int, occupation[i])+1])\n",
    "        ax[:add_patch](circle1);\n",
    "    end\n",
    "\n",
    "    ax[:plot]();\n",
    "\n",
    "    ax[:set_xlabel](\"\");\n",
    "    ax[:set_ylabel](\"\");\n",
    "end"
   ]
  },
  {
   "cell_type": "code",
   "execution_count": 194,
   "metadata": {},
   "outputs": [
    {
     "data": {
      "image/png": "[encoded data removed]",
      "text/plain": [
       "Figure(PyObject <Figure size 300x300 with 1 Axes>)"
      ]
     },
     "metadata": {},
     "output_type": "display_data"
    },
    {
     "data": {
      "text/plain": [
       "PyObject Text(4.44444444444448, 0.5, '')"
      ]
     },
     "execution_count": 194,
     "metadata": {},
     "output_type": "execute_result"
    }
   ],
   "source": [
    "most_freq_bitstring, shots = sample_psi(psi) \n",
    "plot_occupation(most_freq_bitstring, length(graph))"
   ]
  },
  {
   "cell_type": "markdown",
   "metadata": {},
   "source": [
    "# More Complex Graphs"
   ]
  },
  {
   "cell_type": "code",
   "execution_count": 202,
   "metadata": {},
   "outputs": [
    {
     "data": {
      "image/png": "[encoded data removed]",
      "text/plain": [
       "Figure(PyObject <Figure size 300x300 with 1 Axes>)"
      ]
     },
     "metadata": {},
     "output_type": "display_data"
    },
    {
     "data": {
      "text/plain": [
       "PyObject Text(4.444444444444452, 0.5, '')"
      ]
     },
     "execution_count": 202,
     "metadata": {},
     "output_type": "execute_result"
    }
   ],
   "source": [
    "num_vertices = 8\n",
    "\n",
    "graph = [(rand()*3,rand()*3)]\n",
    "for i in 1:num_vertices-1\n",
    "    graph = push!(graph, (rand()*3,rand()*3))\n",
    "end\n",
    "\n",
    "edges = get_edges(graph)\n",
    "dt = 0.02\n",
    "\n",
    "psi = run_annealing(graph, edges, dt)\n",
    "most_freq_bitstring, shots = sample_psi(psi) \n",
    "most_freq_bitstring, shots = sample_psi(psi) \n",
    "plot_occupation(most_freq_bitstring, length(graph))"
   ]
  },
  {
   "cell_type": "markdown",
   "metadata": {},
   "source": [
    "# Task 3"
   ]
  },
  {
   "cell_type": "code",
   "execution_count": 206,
   "metadata": {},
   "outputs": [
    {
     "data": {
      "image/png": "[encoded data removed]",
      "text/plain": [
       "Figure(PyObject <Figure size 300x300 with 1 Axes>)"
      ]
     },
     "metadata": {},
     "output_type": "display_data"
    },
    {
     "data": {
      "text/plain": [
       "PyObject Text(4.444444444444452, 0.5, '')"
      ]
     },
     "execution_count": 206,
     "metadata": {},
     "output_type": "execute_result"
    }
   ],
   "source": [
    "graph = [(1.19, 4.25), \n",
    "         (2.71, 3.48), \n",
    "         (1.19, 3.51), \n",
    "         (2.0,3.38), \n",
    "         (1.12, 2.86), \n",
    "         (1.70, 2.42),\n",
    "         (2.36, 2.54),\n",
    "         (1.52, 1.48),\n",
    "         (2.15, 1.54),\n",
    "         (2.14, 1.87),\n",
    "         (1.72, 0.86),\n",
    "         (2.29, 0.87)\n",
    "        ]\n",
    "\n",
    "edges = get_edges(graph)\n",
    "dt = 0.02\n",
    "\n",
    "psi = run_annealing(graph, edges, dt)\n",
    "most_freq_bitstring, shots = sample_psi(psi) \n",
    "most_freq_bitstring, shots = sample_psi(psi) \n",
    "plot_occupation(most_freq_bitstring, length(graph))"
   ]
  }
 ],
 "metadata": {
  "kernelspec": {
   "display_name": "Julia 1.6.1",
   "language": "julia",
   "name": "julia-1.6"
  },
  "language_info": {
   "file_extension": ".jl",
   "mimetype": "application/julia",
   "name": "julia",
   "version": "1.6.1"
  }
 },
 "nbformat": 4,
 "nbformat_minor": 2
}
