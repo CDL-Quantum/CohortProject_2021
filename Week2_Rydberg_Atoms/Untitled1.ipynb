{
 "cells": [
  {
   "cell_type": "code",
   "execution_count": 2,
   "id": "6c97965e",
   "metadata": {},
   "outputs": [
    {
     "ename": "ModuleNotFoundError",
     "evalue": "No module named 'dwave_qbsolv'",
     "output_type": "error",
     "traceback": [
      "\u001b[1;31m---------------------------------------------------------------------------\u001b[0m",
      "\u001b[1;31mModuleNotFoundError\u001b[0m                       Traceback (most recent call last)",
      "\u001b[1;32m<ipython-input-2-f719301701b7>\u001b[0m in \u001b[0;36m<module>\u001b[1;34m\u001b[0m\n\u001b[0;32m      6\u001b[0m \u001b[1;32mimport\u001b[0m \u001b[0mdimod\u001b[0m\u001b[1;33m\u001b[0m\u001b[1;33m\u001b[0m\u001b[0m\n\u001b[0;32m      7\u001b[0m \u001b[1;32mimport\u001b[0m \u001b[0mdwave_networkx\u001b[0m \u001b[1;32mas\u001b[0m \u001b[0mdnx\u001b[0m\u001b[1;33m\u001b[0m\u001b[1;33m\u001b[0m\u001b[0m\n\u001b[1;32m----> 8\u001b[1;33m \u001b[1;32mfrom\u001b[0m \u001b[0mdwave_qbsolv\u001b[0m \u001b[1;32mimport\u001b[0m \u001b[0mQBSolv\u001b[0m\u001b[1;33m\u001b[0m\u001b[1;33m\u001b[0m\u001b[0m\n\u001b[0m\u001b[0;32m      9\u001b[0m \u001b[1;33m\u001b[0m\u001b[0m\n\u001b[0;32m     10\u001b[0m \u001b[1;31m# pkgs to run the code on the QPU\u001b[0m\u001b[1;33m\u001b[0m\u001b[1;33m\u001b[0m\u001b[1;33m\u001b[0m\u001b[0m\n",
      "\u001b[1;31mModuleNotFoundError\u001b[0m: No module named 'dwave_qbsolv'"
     ]
    }
   ],
   "source": [
    "import numpy as np\n",
    "import networkx as nx\n",
    "from matplotlib import pyplot as plt\n",
    "\n",
    "# d'wave pkgs\n",
    "import dimod\n",
    "import dwave_networkx as dnx\n",
    "from dwave_qbsolv import QBSolv\n",
    "\n",
    "# pkgs to run the code on the QPU\n",
    "from dwave.system.samplers import DWaveSampler\n",
    "from dwave.system.composites import EmbeddingComposite\n",
    "\n"
   ]
  },
  {
   "cell_type": "code",
   "execution_count": 3,
   "id": "ab68f528",
   "metadata": {},
   "outputs": [],
   "source": [
    "\n",
    "def get_edges(graph):\n",
    "    Nv = len(graph)\n",
    "    edges = np.zeros((Nv, Nv))\n",
    "    for i in range(Nv - 1):\n",
    "        xi, yi = graph[i]\n",
    "        for j in range(i + 1, Nv):\n",
    "            xj, yj = graph[j]\n",
    "            dij = np.sqrt((xi - xj) ** 2. + (yi - yj) ** 2.)\n",
    "            if dij <= 1.0:\n",
    "                edges[i, j] = 1\n",
    "    return np.argwhere(edges == 1)\n"
   ]
  },
  {
   "cell_type": "code",
   "execution_count": 4,
   "id": "29694f33",
   "metadata": {},
   "outputs": [
    {
     "ename": "NameError",
     "evalue": "name 'QBSolv' is not defined",
     "output_type": "error",
     "traceback": [
      "\u001b[1;31m---------------------------------------------------------------------------\u001b[0m",
      "\u001b[1;31mNameError\u001b[0m                                 Traceback (most recent call last)",
      "\u001b[1;32m<ipython-input-4-99d4951628ad>\u001b[0m in \u001b[0;36m<module>\u001b[1;34m\u001b[0m\n\u001b[0;32m     15\u001b[0m \u001b[1;33m\u001b[0m\u001b[0m\n\u001b[0;32m     16\u001b[0m     \u001b[1;31m# 2. the quantum simulator\u001b[0m\u001b[1;33m\u001b[0m\u001b[1;33m\u001b[0m\u001b[1;33m\u001b[0m\u001b[0m\n\u001b[1;32m---> 17\u001b[1;33m     \u001b[0msampler\u001b[0m \u001b[1;33m=\u001b[0m \u001b[0mQBSolv\u001b[0m\u001b[1;33m(\u001b[0m\u001b[1;33m)\u001b[0m\u001b[1;33m\u001b[0m\u001b[1;33m\u001b[0m\u001b[0m\n\u001b[0m\u001b[0;32m     18\u001b[0m \u001b[1;33m\u001b[0m\u001b[0m\n\u001b[0;32m     19\u001b[0m     \u001b[1;31m# 3. running on the actual D-Wave QPU\u001b[0m\u001b[1;33m\u001b[0m\u001b[1;33m\u001b[0m\u001b[1;33m\u001b[0m\u001b[0m\n",
      "\u001b[1;31mNameError\u001b[0m: name 'QBSolv' is not defined"
     ]
    }
   ],
   "source": [
    "\n",
    "\n",
    "if __name__ == \"__main__\":\n",
    "    # Define the graph\n",
    "    graph = [(0.3461717838632017, 1.4984640297338632),\n",
    "             (0.6316400411846113, 2.5754677320579895),\n",
    "             (1.3906262250927481, 2.164978861396621),\n",
    "             (0.66436005100802, 0.6717919819739032),\n",
    "             (0.8663329771713457, 3.3876341010035995),\n",
    "             (1.1643107343501296, 1.0823066243402013)\n",
    "             ]\n",
    "    edges = get_edges(graph)\n",
    "\n",
    "    # choose whether to use:\n",
    "    # 1. the simulated annealing sampler\n",
    "    # sampler = dimod.SimulatedAnnealingSampler()  # Simulated annealing\n",
    "\n",
    "    # 2. the quantum simulator\n",
    "    sampler = QBSolv()\n",
    "\n",
    "    # 3. running on the actual D-Wave QPU\n",
    "    # sampler = EmbeddingComposite(DWaveSampler())\n",
    "\n",
    "    G = nx.Graph()\n",
    "    for edge in edges:\n",
    "        G.add_edge(edge[0], edge[1])\n",
    "\n",
    "    indep_nodes = dnx.maximum_independent_set(G, sampler)\n",
    "\n",
    "    print(f'Independent nodes: {indep_nodes}')\n",
    "\n",
    "    # plot MIS nodes with different color\n",
    "    pos = nx.circular_layout(G)  # positions for all nodes\n",
    "\n",
    "    # nodes from MIS\n",
    "    nx.draw_networkx_nodes(G, pos, nodelist=indep_nodes, node_size=700, node_color='red')\n",
    "    nx.draw_networkx_nodes(G, pos, nodelist=[n for n in list(G.nodes) if n not in indep_nodes], node_size=700)\n",
    "    # edges\n",
    "    nx.draw_networkx_edges(G, pos)\n",
    "    # labels\n",
    "    nx.draw_networkx_labels(G, pos, font_size=12, font_family=\"sans-serif\")\n",
    "    plt.axis(\"off\")\n",
    "    plt.show()\n"
   ]
  },
  {
   "cell_type": "code",
   "execution_count": null,
   "id": "58c877bc",
   "metadata": {},
   "outputs": [],
   "source": []
  }
 ],
 "metadata": {
  "kernelspec": {
   "display_name": "Python 3",
   "language": "python",
   "name": "python3"
  },
  "language_info": {
   "codemirror_mode": {
    "name": "ipython",
    "version": 3
   },
   "file_extension": ".py",
   "mimetype": "text/x-python",
   "name": "python",
   "nbconvert_exporter": "python",
   "pygments_lexer": "ipython3",
   "version": "3.8.10"
  },
  "toc": {
   "base_numbering": 1,
   "nav_menu": {},
   "number_sections": true,
   "sideBar": true,
   "skip_h1_title": false,
   "title_cell": "Table of Contents",
   "title_sidebar": "Contents",
   "toc_cell": false,
   "toc_position": {},
   "toc_section_display": true,
   "toc_window_display": false
  }
 },
 "nbformat": 4,
 "nbformat_minor": 5
}
