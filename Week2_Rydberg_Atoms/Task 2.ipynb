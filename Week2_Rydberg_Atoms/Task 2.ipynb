{
 "cells": [
  {
   "cell_type": "code",
   "execution_count": null,
   "id": "2be026fd",
   "metadata": {},
   "outputs": [],
   "source": []
  },
  {
   "cell_type": "code",
   "execution_count": 3,
   "id": "99fdf1d7",
   "metadata": {},
   "outputs": [
    {
     "name": "stderr",
     "output_type": "stream",
     "text": [
      "WARNING: using LightGraphs.δ in module Main conflicts with an existing identifier.\n"
     ]
    }
   ],
   "source": [
    "using Yao\n",
    "using Yao.ConstGate # needed for P1 = 0.5*(I - sigma_z) block\n",
    "using FreqTables\n",
    "using LightGraphs\n",
    "using Compose\n",
    "using PyCall"
   ]
  },
  {
   "cell_type": "code",
   "execution_count": 4,
   "id": "a8d23b3f",
   "metadata": {},
   "outputs": [
    {
     "data": {
      "text/plain": [
       "run_annealing (generic function with 1 method)"
      ]
     },
     "execution_count": 4,
     "metadata": {},
     "output_type": "execute_result"
    }
   ],
   "source": [
    "#!/usr/bin/env julia\n",
    "\n",
    "\n",
    "#=\n",
    "H(t) = Ω(t) ∑_i σ_i^x - δ(t) ∑_i n_i + u ∑_ij n_i n_j\n",
    "=#\n",
    "\n",
    "const u = 1.35\n",
    "const Ω_max = 1.89\n",
    "const δ_0 = -1.0\n",
    "const δ_max = 1.0\n",
    "\n",
    "function get_edges(graph::Vector{NTuple{2, Float64}})\n",
    "    Nv = size(graph)[1]\n",
    "    edges = falses(Nv, Nv)\n",
    "    for i in 1:(Nv-1)\n",
    "        xi, yi = graph[i]\n",
    "        for j in (i+1):Nv\n",
    "            xj, yj = graph[j]\n",
    "\n",
    "            dij = sqrt((xi - xj)^2. + (yi - yj)^2.)\n",
    "            if dij <= 1.0\n",
    "                edges[i,j] = true\n",
    "            end\n",
    "        end\n",
    "    end\n",
    "    return findall(edges)\n",
    "end\n",
    "\n",
    "function Ω(t::Float64)\n",
    "    if 0 <= t <= 0.25\n",
    "        return (Ω_max / 0.25) * t\n",
    "    elseif 0.25 < t <= 0.69\n",
    "        return Ω_max\n",
    "    elseif 0.69 < t <= 1\n",
    "        return - Ω_max * t / 0.31 + Ω_max * (1 + 0.69/0.31)\n",
    "    end\n",
    "end\n",
    "\n",
    "function δ(t::Float64)\n",
    "    slope = (δ_0 - δ_max)/(0.25 - 0.69)\n",
    "    if 0 <= t <= 0.25\n",
    "        return δ_0\n",
    "    elseif 0.25 < t <= 0.69\n",
    "        return t * slope + (δ_max - slope * 0.69)\n",
    "    elseif 0.69 < t <= 1\n",
    "        return δ_max\n",
    "    end\n",
    "end \n",
    "\n",
    "function hamiltonian(graph::Vector{NTuple{2, Float64}}, edges::Vector{CartesianIndex{2}}, t::Float64)\n",
    "    # the UD-MIS Hamiltonian\n",
    "    Nv = size(graph)[1] # number of vertices\n",
    "\n",
    "    interaction_term = map(1:size(edges)[1]) do i\n",
    "        l,m = edges[i][1], edges[i][2]\n",
    "        repeat(Nv,u*P1,(l,m))\n",
    "    end |> sum\n",
    "    interaction_term - δ(t)*sum(map(i->put(Nv,i=>P1), 1:Nv)) + Ω(t)*sum(map(i->put(Nv,i=>X), 1:Nv))\n",
    "end\n",
    "\n",
    "function run_annealing(graph::Vector{NTuple{2, Float64}}, edges::Vector{CartesianIndex{2}}, dt::Float64)\n",
    "    psi_t = zero_state(size(graph)[1])\n",
    "    for t in 0:dt:1.0\n",
    "        h = hamiltonian(graph, edges, t)\n",
    "        psi_t = psi_t |> TimeEvolution(h, dt * 100)\n",
    "    end\n",
    "    return psi_t\n",
    "end\n",
    "\n",
    "# open(\"task2_data.dat\",\"w\") do io\n",
    "#     for sample in measure(psi; nshots=10_000)\n",
    "#         println(io, sample)\n",
    "#     end\n",
    "# end"
   ]
  },
  {
   "cell_type": "code",
   "execution_count": 6,
   "id": "60983d80",
   "metadata": {},
   "outputs": [
    {
     "data": {
      "text/plain": [
       "ArrayReg{1, ComplexF64, Array...}\n",
       "    active qubits: 6/6"
      ]
     },
     "execution_count": 6,
     "metadata": {},
     "output_type": "execute_result"
    }
   ],
   "source": [
    "graph = [(0.3461717838632017, 1.4984640297338632), \n",
    "         (0.6316400411846113, 2.5754677320579895), \n",
    "         (1.3906262250927481, 2.164978861396621), \n",
    "         (0.66436005100802, 0.6717919819739032), \n",
    "         (0.8663329771713457, 3.3876341010035995), \n",
    "         (1.1643107343501296, 1.0823066243402013)\n",
    "        ]\n",
    "edges = get_edges(graph)\n",
    "dt = 0.001\n",
    "psi = run_annealing(graph, edges, dt)"
   ]
  },
  {
   "cell_type": "code",
   "execution_count": 7,
   "id": "707021d9",
   "metadata": {},
   "outputs": [
    {
     "data": {
      "text/plain": [
       "5-element Vector{CartesianIndex{2}}:\n",
       " CartesianIndex(2, 3)\n",
       " CartesianIndex(1, 4)\n",
       " CartesianIndex(2, 5)\n",
       " CartesianIndex(1, 6)\n",
       " CartesianIndex(4, 6)"
      ]
     },
     "execution_count": 7,
     "metadata": {},
     "output_type": "execute_result"
    }
   ],
   "source": [
    "get_edges(graph)"
   ]
  },
  {
   "cell_type": "code",
   "execution_count": 9,
   "id": "aeeccbc5",
   "metadata": {},
   "outputs": [
    {
     "data": {
      "text/plain": [
       "5-element Named Vector{Int64}\n",
       "Dim1       │ \n",
       "───────────┼─────\n",
       "011100 ₍₂₎ │ 2879\n",
       "110100 ₍₂₎ │ 2839\n",
       "010101 ₍₂₎ │ 2788\n",
       "011101 ₍₂₎ │  313\n",
       "110101 ₍₂₎ │  301"
      ]
     },
     "execution_count": 9,
     "metadata": {},
     "output_type": "execute_result"
    }
   ],
   "source": [
    "samples = measure(psi; nshots = 10_000)\n",
    "sort(freqtable(samples), rev = true)[1:5]"
   ]
  },
  {
   "cell_type": "code",
   "execution_count": 10,
   "id": "6dedce46",
   "metadata": {},
   "outputs": [
    {
     "data": {
      "text/plain": [
       "PyObject <module 'networkx' from '/Users/Eden/.julia/conda/3/lib/python3.8/site-packages/networkx/__init__.py'>"
      ]
     },
     "execution_count": 10,
     "metadata": {},
     "output_type": "execute_result"
    }
   ],
   "source": [
    "using PyCall\n",
    "plt = pyimport(\"matplotlib.pyplot\") \n",
    "nx  = pyimport(\"networkx\")"
   ]
  },
  {
   "cell_type": "code",
   "execution_count": null,
   "id": "c46a8392",
   "metadata": {},
   "outputs": [],
   "source": []
  },
  {
   "cell_type": "code",
   "execution_count": 14,
   "id": "db2723f3",
   "metadata": {},
   "outputs": [
    {
     "ename": "LoadError",
     "evalue": "ArgumentError: At least one of `length` or `stop` must be specified",
     "output_type": "error",
     "traceback": [
      "ArgumentError: At least one of `length` or `stop` must be specified",
      "",
      "Stacktrace:",
      " [1] _range(start::Int64, #unused#::Nothing, #unused#::Nothing, #unused#::Nothing)",
      "   @ Base ./range.jl:126",
      " [2] range(start::Int64; length::Nothing, stop::Nothing, step::Nothing)",
      "   @ Base ./range.jl:91",
      " [3] range(start::Int64)",
      "   @ Base ./range.jl:91",
      " [4] top-level scope",
      "   @ ./In[14]:5",
      " [5] eval",
      "   @ ./boot.jl:360 [inlined]",
      " [6] include_string(mapexpr::typeof(REPL.softscope), mod::Module, code::String, filename::String)",
      "   @ Base ./loading.jl:1094"
     ]
    }
   ],
   "source": [
    "fig, ax = plt.subplots()\n",
    "\n",
    "G=nx.Graph()\n",
    "\n",
    "for i in range(6)\n",
    "    G.add_node(i,pos=(graph[i][0],graph[i][1]))\n",
    "end\n",
    "\n",
    "edge_list=[]\n",
    "for i in range(6)\n",
    "    for j in range(i+1,6)\n",
    "        if edges[i,j]==True\n",
    "            G.add_edge(i,j)\n",
    "            edge_list.append([i,j])\n",
    "            end\n",
    "        end\n",
    "    end\n",
    "pos=nx.get_node_attributes(G,'pos')\n",
    "\n",
    "nx.draw_networkx_nodes(G,pos, ax=ax, node_color='y')\n",
    "nx.draw_networkx_labels(G, pos)\n",
    "nx.draw_networkx_edges(G, pos, edgelist=edge_list, edge_color='y')\n",
    "\n",
    "ax.tick_params(left=True, bottom=True, labelleft=True, labelbottom=True)\n",
    "\n",
    "# plt.xlim([0, 4.0])\n",
    "# plt.xlim([0, 4.0])\n",
    "# plt.show()"
   ]
  },
  {
   "cell_type": "code",
   "execution_count": null,
   "id": "1575ff4f",
   "metadata": {},
   "outputs": [],
   "source": []
  }
 ],
 "metadata": {
  "kernelspec": {
   "display_name": "Julia 1.6.1",
   "language": "julia",
   "name": "julia-1.6"
  },
  "language_info": {
   "file_extension": ".jl",
   "mimetype": "application/julia",
   "name": "julia",
   "version": "1.6.1"
  }
 },
 "nbformat": 4,
 "nbformat_minor": 5
}
