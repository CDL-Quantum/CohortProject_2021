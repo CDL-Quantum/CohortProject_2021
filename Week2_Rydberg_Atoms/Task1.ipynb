{
 "cells": [
  {
   "cell_type": "markdown",
   "metadata": {},
   "source": [
    "# Random-graph UD-MIS (Classical)\n",
    "\n",
    "$$\n",
    "H = -\\sum_{i \\in V} n_i + u \\sum_{i,j \\in E} n_i n_j\n",
    "$$\n",
    "\n",
    "Our goal is to find one of the ground state(s) - a solution to the UD-MIS problem - automatically through Monte Carlo sampling.\n",
    "\n",
    "The probability distribution of the Ising model at temperature $T$ is given by the Gibbs distribution:\n",
    "\n",
    "$$p(\\sigma; T) = \\frac{1}{Z(T)}\\exp\\left(-\\frac{H(\\sigma)}{T}\\right)$$,\n",
    "\n",
    "where $Z(T)$ is the normalization constant (also known as the *partition function*)."
   ]
  },
  {
   "cell_type": "code",
   "execution_count": 1,
   "metadata": {},
   "outputs": [],
   "source": [
    "import numpy as np\n",
    "import matplotlib.pyplot as plt\n",
    "\n",
    "from abstract_udmis import AbstractUDMIS\n",
    "\n",
    "%matplotlib inline"
   ]
  },
  {
   "cell_type": "markdown",
   "metadata": {},
   "source": [
    "Below you'll find code for the UDMIS model of interest. Strictly speaking, for the purposes of performing the Monte Carlo simulation we can simply compute the required energy differences using two calls to the energy function. However, we can often save significant computation time by writing a specialised function for the energy difference that avoids unnecessary calculations. Simply put, calculating the energy of a configuration of occupations requires you to iterate over all vertices in the graph, but the energy change associated with a single-occupation-flip can be computed just from values of the connected vertices."
   ]
  },
  {
   "cell_type": "code",
   "execution_count": 2,
   "metadata": {},
   "outputs": [],
   "source": [
    "class UDMIS(AbstractUDMIS):\n",
    "    def __init__(self, u, graph):\n",
    "        super().__init__()\n",
    "        self.u, self.graph = u, graph\n",
    "        self.num_vertices = len(self.graph)\n",
    "        print(self.num_vertices)\n",
    "        # initialize system at infinite temperature\n",
    "        # i.e. vertices are completely random and uncorrelated\n",
    "        self.occupations = np.random.rand(self.num_vertices) < 0.5\n",
    "        self.edges = self.find_edges()\n",
    "    \n",
    "    def find_edges(self):\n",
    "        #num_pairs = int(self.num_vertices*(self.num_vertices)*0.5)\n",
    "        edges = np.zeros((self.num_vertices, self.num_vertices), dtype=bool)\n",
    "        \n",
    "        for i in range(self.num_vertices-1):\n",
    "            x_i, y_i = graph[i] # these are the x, y coordinates of the i'th vertex in the graph\n",
    "            for j in range(i+1, self.num_vertices):\n",
    "                x_j, y_j = graph[j] # these are the x, y coordinates of the j'th vertex in the graph\n",
    "                \n",
    "                # calculate the distance between vertices\n",
    "                dij = np.sqrt((x_i - x_j)**2. + (y_i - y_j)**2.)\n",
    "                if dij <= 1.0:\n",
    "                    edges[i,j] = True\n",
    "                    edges[j,i] = True\n",
    "                    \n",
    "        return edges\n",
    "        \n",
    "    def energy(self):\n",
    "        \"\"\"Returns the energy of the current spin configuration\"\"\"\n",
    "        # interaction term\n",
    "        interaction_term = 0\n",
    "        vertex_term = 0\n",
    "        for i in range(self.num_vertices-1):\n",
    "            for j in range(i+1, self.num_vertices):\n",
    "                \n",
    "                # check if there is an edge\n",
    "                if self.edges[i,j]:\n",
    "                    interaction_term += self.occupations[i]*self.occupations[j]\n",
    "                \n",
    "            vertex_term += self.occupations[i]\n",
    "        \n",
    "        # missed the last vertex\n",
    "        vertex_term += self.occupations[self.num_vertices-1]\n",
    "    \n",
    "        return u*interaction_term - vertex_term\n",
    "\n",
    "    def energy_diff(self, i):\n",
    "        connections = np.where(self.edges[i,:])[0]\n",
    "        num_adjacent_occupied = sum(self.occupations[connections])\n",
    "        \n",
    "        if self.occupations[i] == 1:\n",
    "            # flipping an occupied vertex increases the vertex term, decreases the interaction term\n",
    "            vertex_term_change = 1.\n",
    "            interaction_term_change = -u*num_adjacent_occupied\n",
    "        \n",
    "        elif self.occupations[i] == 0:\n",
    "            # flipping an unoccupied vertex decreases the vertex term, increases the interaction term\n",
    "            vertex_term_change = -1.\n",
    "            interaction_term_change = u*num_adjacent_occupied \n",
    "\n",
    "        return interaction_term_change + vertex_term_change\n",
    "    \n",
    "    def rand_vertex(self):\n",
    "        \"\"\"Selects a site in the graph at random\"\"\"\n",
    "        return np.random.randint(self.num_vertices)        "
   ]
  },
  {
   "cell_type": "code",
   "execution_count": 3,
   "metadata": {},
   "outputs": [
    {
     "name": "stdout",
     "output_type": "stream",
     "text": [
      "6\n"
     ]
    }
   ],
   "source": [
    "u = 1.35\n",
    "graph = [(0.3461717838632017, 1.4984640297338632), \n",
    "         (0.6316400411846113, 2.5754677320579895), \n",
    "         (1.3906262250927481, 2.164978861396621), \n",
    "         (0.66436005100802, 0.6717919819739032), \n",
    "         (0.8663329771713457, 3.3876341010035995), \n",
    "         (1.1643107343501296, 1.0823066243402013)\n",
    "        ]\n",
    "\n",
    "udmis = UDMIS(u, graph)"
   ]
  },
  {
   "cell_type": "code",
   "execution_count": 4,
   "metadata": {},
   "outputs": [
    {
     "name": "stdout",
     "output_type": "stream",
     "text": [
      "0 -0.6499999999999999 [False  True  True False False False]\n",
      "100 -0.6499999999999995 [ True False False  True False False]\n",
      "200 -2.0 [False False  True  True False False]\n",
      "300 0.40000000000000036 [ True  True False  True  True  True]\n",
      "400 -1.2999999999999998 [False  True  True  True  True False]\n",
      "500 -1.0 [False  True False False False False]\n",
      "600 -1.65 [False  True  True  True False False]\n",
      "700 -2.65 [ True False  True  True  True False]\n",
      "800 4.440892098500626e-16 [False False False False False False]\n",
      "900 -1.2999999999999998 [ True  True  True False  True False]\n",
      "1000 -1.0 [False False False False  True False]\n",
      "1100 -1.6499999999999995 [False False False  True  True  True]\n",
      "1200 -0.6499999999999995 [False  True False False  True False]\n",
      "1300 -1.6499999999999995 [False  True False False  True  True]\n",
      "1400 -1.65 [ True  True  True False False False]\n",
      "1500 -2.0 [False False False  True  True False]\n",
      "1600 -1.0 [False False False  True False False]\n",
      "1700 -1.65 [False  True False  True  True False]\n",
      "1800 -2.0 [ True False False False  True False]\n",
      "1900 -1.65 [False False False  True  True  True]\n",
      "2000 -1.65 [ True False False False  True  True]\n",
      "2100 -1.65 [False  True  True  True False False]\n",
      "2200 -2.65 [ True False  True False  True  True]\n",
      "2300 -2.65 [False False  True  True  True  True]\n",
      "2400 -1.65 [False False False  True  True  True]\n",
      "2500 -2.0 [False False  True  True False False]\n",
      "2600 -3.0 [ True False  True False  True False]\n",
      "2700 -2.65 [ True False  True False  True  True]\n",
      "2800 -3.0 [False False  True False  True  True]\n",
      "2900 -3.0 [False False  True False  True  True]\n",
      "3000 -3.0 [False False  True  True  True False]\n",
      "3100 -2.0 [False  True False False False  True]\n",
      "3200 -3.0 [False False  True  True  True False]\n",
      "3300 -3.0 [False False  True False  True  True]\n",
      "3400 -3.0 [False False  True False  True  True]\n",
      "3500 -3.0 [ True False  True False  True False]\n",
      "3600 -2.65 [ True False  True False  True  True]\n",
      "3700 -3.0 [ True False  True False  True False]\n",
      "3800 -3.0 [False False  True False  True  True]\n",
      "3900 -3.0 [False False  True False  True  True]\n",
      "4000 -3.0 [False False  True False  True  True]\n",
      "4100 -3.0 [False False  True False  True  True]\n",
      "4200 -3.0 [False False  True False  True  True]\n",
      "4300 -3.0 [False False  True False  True  True]\n",
      "4400 -3.0 [False False  True False  True  True]\n",
      "4500 -3.0 [False False  True False  True  True]\n",
      "4600 -3.0 [False False  True False  True  True]\n",
      "4700 -3.0 [False False  True False  True  True]\n",
      "4800 -3.0 [False False  True False  True  True]\n",
      "4900 -3.0 [False False  True False  True  True]\n"
     ]
    }
   ],
   "source": [
    "N = 5000\n",
    "t = np.arange(N+1)\n",
    "T_i = 100\n",
    "T_f = 0.01\n",
    "\n",
    "T = T_i * ((T_f/T_i) ** (t/N))\n",
    "\n",
    "for t in range(N):\n",
    "    # take a look at the abstract_udmis.py file to see how mc_step works\n",
    "    temp = T[t]\n",
    "    E = udmis.mc_step(T=temp)\n",
    "    \n",
    "    if t % 100 == 0:\n",
    "        print(t, E, udmis.occupations)"
   ]
  },
  {
   "cell_type": "markdown",
   "metadata": {},
   "source": [
    "## Solution for Task 1 "
   ]
  },
  {
   "cell_type": "markdown",
   "metadata": {},
   "source": [
    "We test various annealing schedules and compare the time it takes to reach a solution to the UD-MIS problem. We define an arbitrary threshold of the number of consecutive energies needed to be considered a solution (for example, if we define `threshold=100`, we need 100 consecutive energies to be the same to consider it a solution). Then we are able to plot the number of iterations needed to achieve a solution. \n",
    "\n",
    "We compared 3 functions: \n",
    "1. T_i * ((T_f/T_i) ** (t/N))        (this is the benchmark provided in the sample code)\n",
    "2. T_i * ((T_f/T_i) ** (2*t/N))\n",
    "3. T_i * ((T_f/T_i) ** (4*t/N))\n",
    "\n",
    "Intuitively function 3 should yield the fastest convergence because it decreases the temperature the fastest. From our results, we see that this is indeed correct with the following iterations needed to reach convergence respectively (at a threshold of 100):\n",
    "\n",
    "1. 3972 iterations\n",
    "2. 1959 iterations\n",
    "3. 1033 iterations"
   ]
  },
  {
   "cell_type": "code",
   "execution_count": 24,
   "metadata": {},
   "outputs": [
    {
     "name": "stdout",
     "output_type": "stream",
     "text": [
      "> Starting experiment for cooling schedule: exponential ~x (benchmark)\n",
      "Found solution:  3972 -3.0 [False False  True False  True  True]\n",
      "> Starting experiment for cooling schedule: exponential ~2x\n",
      "Found solution:  1959 -3.0 [False False  True  True  True False]\n",
      "> Starting experiment for cooling schedule: exponential ~4x\n",
      "Found solution:  1033 -3.0 [False False  True  True  True False]\n"
     ]
    },
    {
     "data": {
      "text/plain": [
       "Text(0.5, 1.0, 'Number of Iterations for a Stable Solution (thresh = 100 consecutive energies)')"
      ]
     },
     "execution_count": 24,
     "metadata": {},
     "output_type": "execute_result"
    },
    {
     "data": {
      "image/png": "[encoded data removed]",
      "text/plain": [
       "<Figure size 432x288 with 1 Axes>"
      ]
     },
     "metadata": {
      "needs_background": "light"
     },
     "output_type": "display_data"
    },
    {
     "data": {
      "image/png": "[encoded data removed]",
      "text/plain": [
       "<Figure size 432x288 with 1 Axes>"
      ]
     },
     "metadata": {
      "needs_background": "light"
     },
     "output_type": "display_data"
    }
   ],
   "source": [
    "N = 5000\n",
    "t = np.arange(N+1)\n",
    "T_i = 100\n",
    "T_f = 0.01\n",
    "threshold = 100  # consider \"threshold\" (i.e. 100) repeated experiments with the same energy a solution\n",
    "\n",
    "# ------------------- Define schedules you want to play with here\n",
    "schedules = [\n",
    "    T_i * ((T_f/T_i) ** (t/N)),  # benchmark\n",
    "    T_i * ((T_f/T_i) ** (2*t/N)),  # Increasing temperature faster (by factor of 2)\n",
    "    T_i * ((T_f/T_i) ** (4*t/N)),  # Increasing temperature even faster (by factor of 4)\n",
    "]\n",
    "\n",
    "# Name of the schedule\n",
    "legends = [\n",
    "    'exponential ~x (benchmark)',\n",
    "    'exponential ~2x',\n",
    "    'exponential ~4x',\n",
    "]\n",
    "# ------------------- End schedule definition\n",
    "\n",
    "solution_iterations = np.zeros(len(schedules))  # this will hold the number of iterations needed to arrive at a \"solution\" given \"threshold\" number of consecutive energies\n",
    "\n",
    "# Plot these schedules\n",
    "for schedule in schedules:\n",
    "    plt.plot(t, schedule)\n",
    "plt.legend(legends)\n",
    "plt.title('Visualization of Different Annealing Schedules')\n",
    "plt.xlabel('Iteration')\n",
    "plt.ylabel('Temperature')\n",
    "\n",
    "for idx, (legend, schedule) in enumerate(zip(legends, schedules)):\n",
    "    print(f'> Starting experiment for cooling schedule: {legend}')\n",
    "    energies = np.zeros(N)\n",
    "    for t in range(N):\n",
    "        # take a look at the abstract_udmis.py file to see how mc_step works\n",
    "        temp = schedule[t]\n",
    "        E = udmis.mc_step(T=temp)\n",
    "        \n",
    "        energies[t] = E\n",
    "\n",
    "        if (t > threshold and np.all(energies[t-threshold: t] == E)):\n",
    "            # found solution\n",
    "            print(f'Found solution: ', t, E, udmis.occupations)\n",
    "            solution_iterations[idx] = t\n",
    "            break\n",
    "\n",
    "        # if t % 100 == 0:\n",
    "        #     print(t, E, udmis.occupations)\n",
    "\n",
    "# Plot the results\n",
    "plt.figure()\n",
    "for idx, solution_it in enumerate(solution_iterations):\n",
    "    plt.scatter(idx, [solution_it])\n",
    "plt.legend(legends)\n",
    "plt.xticks(np.arange(len(legends)))\n",
    "plt.xlabel('Index of annealing schedule (arbitrary)')\n",
    "plt.ylabel(f'Number of iterations')\n",
    "plt.title(f'Number of Iterations for a Stable Solution (thresh = {threshold} consecutive energies)')"
   ]
  }
 ],
 "metadata": {
  "interpreter": {
   "hash": "8b20df44703cbb54dcf232691acb8a573bb6381b8d75a6b55abf2d50e4bb0d7d"
  },
  "kernelspec": {
   "display_name": "Python 3.8.3 64-bit ('deep-fake-advertising': conda)",
   "name": "python3"
  },
  "language_info": {
   "name": "python",
   "version": ""
  }
 },
 "nbformat": 4,
 "nbformat_minor": 4
}