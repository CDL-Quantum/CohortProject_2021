{
 "cells": [
  {
   "cell_type": "markdown",
   "metadata": {},
   "source": [
    "# Random-graph UD-MIS (Classical)\n",
    "\n",
    "$$\n",
    "H = -\\sum_{i \\in V} n_i + u \\sum_{i,j \\in E} n_i n_j\n",
    "$$\n",
    "\n",
    "Our goal is to find one of the ground state(s) - a solution to the UD-MIS problem - automatically through Monte Carlo sampling.\n",
    "\n",
    "The probability distribution of the Ising model at temperature $T$ is given by the Gibbs distribution:\n",
    "\n",
    "$$p(\\sigma; T) = \\frac{1}{Z(T)}\\exp\\left(-\\frac{H(\\sigma)}{T}\\right)$$,\n",
    "\n",
    "where $Z(T)$ is the normalization constant (also known as the *partition function*)."
   ]
  },
  {
   "cell_type": "code",
   "execution_count": 2,
   "metadata": {},
   "outputs": [
    {
     "name": "stdout",
     "output_type": "stream",
     "text": [
      "Requirement already satisfied: numpy in /Users/brandonhiles/.julia/conda/3/lib/python3.8/site-packages (1.21.0)\n",
      "Requirement already satisfied: matplotlib in /Users/brandonhiles/.julia/conda/3/lib/python3.8/site-packages (3.4.2)\n",
      "Requirement already satisfied: pyparsing>=2.2.1 in /Users/brandonhiles/.julia/conda/3/lib/python3.8/site-packages (from matplotlib) (2.4.7)\n",
      "Requirement already satisfied: pillow>=6.2.0 in /Users/brandonhiles/.julia/conda/3/lib/python3.8/site-packages (from matplotlib) (8.3.1)\n",
      "Requirement already satisfied: numpy>=1.16 in /Users/brandonhiles/.julia/conda/3/lib/python3.8/site-packages (from matplotlib) (1.21.0)\n",
      "Requirement already satisfied: cycler>=0.10 in /Users/brandonhiles/.julia/conda/3/lib/python3.8/site-packages (from matplotlib) (0.10.0)\n",
      "Requirement already satisfied: kiwisolver>=1.0.1 in /Users/brandonhiles/.julia/conda/3/lib/python3.8/site-packages (from matplotlib) (1.3.1)\n",
      "Requirement already satisfied: python-dateutil>=2.7 in /Users/brandonhiles/.julia/conda/3/lib/python3.8/site-packages (from matplotlib) (2.8.1)\n",
      "Requirement already satisfied: six in /Users/brandonhiles/.julia/conda/3/lib/python3.8/site-packages (from cycler>=0.10->matplotlib) (1.15.0)\n",
      "Requirement already satisfied: networkx in /Users/brandonhiles/.julia/conda/3/lib/python3.8/site-packages (2.5.1)\n",
      "Requirement already satisfied: decorator<5,>=4.3 in /Users/brandonhiles/.julia/conda/3/lib/python3.8/site-packages (from networkx) (4.4.2)\n"
     ]
    }
   ],
   "source": [
    "# Install dependencies (run this only if you need to install 3rd party applications)\n",
    "\n",
    "# Install a pip package in the current Jupyter kernel\n",
    "import sys\n",
    "!{sys.executable} -m pip install numpy\n",
    "!{sys.executable} -m pip install matplotlib\n",
    "!{sys.executable} -m pip install networkx"
   ]
  },
  {
   "cell_type": "code",
   "execution_count": 3,
   "metadata": {},
   "outputs": [],
   "source": [
    "import numpy as np\n",
    "import matplotlib.pyplot as plt\n",
    "import networkx as nx\n",
    "\n",
    "from abstract_udmis import AbstractUDMIS\n",
    "\n",
    "%matplotlib inline"
   ]
  },
  {
   "cell_type": "markdown",
   "metadata": {},
   "source": [
    "Below you'll find code for the UDMIS model of interest. Strictly speaking, for the purposes of performing the Monte Carlo simulation we can simply compute the required energy differences using two calls to the energy function. However, we can often save significant computation time by writing a specialised function for the energy difference that avoids unnecessary calculations. Simply put, calculating the energy of a configuration of occupations requires you to iterate over all vertices in the graph, but the energy change associated with a single-occupation-flip can be computed just from values of the connected vertices."
   ]
  },
  {
   "cell_type": "code",
   "execution_count": 4,
   "metadata": {},
   "outputs": [],
   "source": [
    "class UDMIS(AbstractUDMIS):\n",
    "    def __init__(self, u, graph):\n",
    "        super().__init__()\n",
    "        self.u, self.graph = u, graph\n",
    "        self.num_vertices = len(self.graph)\n",
    "        print(self.num_vertices)\n",
    "        # initialize system at infinite temperature\n",
    "        # i.e. vertices are completely random and uncorrelated\n",
    "        self.occupations = np.random.rand(self.num_vertices) < 0.5\n",
    "        self.edges = self.find_edges()\n",
    "    \n",
    "    def find_edges(self):\n",
    "        #num_pairs = int(self.num_vertices*(self.num_vertices)*0.5)\n",
    "        edges = np.zeros((self.num_vertices, self.num_vertices), dtype=bool)\n",
    "        \n",
    "        for i in range(self.num_vertices-1):\n",
    "            x_i, y_i = graph[i] # these are the x, y coordinates of the i'th vertex in the graph\n",
    "            for j in range(i+1, self.num_vertices):\n",
    "                x_j, y_j = graph[j] # these are the x, y coordinates of the j'th vertex in the graph\n",
    "                \n",
    "                # calculate the distance between vertices\n",
    "                dij = np.sqrt((x_i - x_j)**2. + (y_i - y_j)**2.)\n",
    "                if dij <= 1.0:\n",
    "                    edges[i,j] = True\n",
    "                    edges[j,i] = True\n",
    "                    \n",
    "        return edges\n",
    "        \n",
    "    def energy(self):\n",
    "        \"\"\"Returns the energy of the current spin configuration\"\"\"\n",
    "        # interaction term\n",
    "        interaction_term = 0\n",
    "        vertex_term = 0\n",
    "        for i in range(self.num_vertices-1):\n",
    "            for j in range(i+1, self.num_vertices):\n",
    "                \n",
    "                # check if there is an edge\n",
    "                if self.edges[i,j]:\n",
    "                    interaction_term += self.occupations[i]*self.occupations[j]\n",
    "                \n",
    "            vertex_term += self.occupations[i]\n",
    "        \n",
    "        # missed the last vertex\n",
    "        vertex_term += self.occupations[self.num_vertices-1]\n",
    "    \n",
    "        return u*interaction_term - vertex_term\n",
    "\n",
    "    def energy_diff(self, i):\n",
    "        connections = np.where(self.edges[i,:])[0]\n",
    "        num_adjacent_occupied = sum(self.occupations[connections])\n",
    "        \n",
    "        if self.occupations[i] == 1:\n",
    "            # flipping an occupied vertex increases the vertex term, decreases the interaction term\n",
    "            vertex_term_change = 1.\n",
    "            interaction_term_change = -u*num_adjacent_occupied\n",
    "        \n",
    "        elif self.occupations[i] == 0:\n",
    "            # flipping an unoccupied vertex decreases the vertex term, increases the interaction term\n",
    "            vertex_term_change = -1.\n",
    "            interaction_term_change = u*num_adjacent_occupied \n",
    "\n",
    "        return interaction_term_change + vertex_term_change\n",
    "    \n",
    "    def rand_vertex(self):\n",
    "        \"\"\"Selects a site in the graph at random\"\"\"\n",
    "        return np.random.randint(self.num_vertices)        "
   ]
  },
  {
   "cell_type": "code",
   "execution_count": 16,
   "metadata": {},
   "outputs": [
    {
     "name": "stdout",
     "output_type": "stream",
     "text": [
      "6\n",
      "False\n",
      "True\n",
      "False\n",
      "True\n",
      "True\n",
      "False\n"
     ]
    },
    {
     "data": {
      "image/png": "[encoded data removed]",
      "text/plain": [
       "<Figure size 432x288 with 1 Axes>"
      ]
     },
     "metadata": {
      "needs_background": "light"
     },
     "output_type": "display_data"
    }
   ],
   "source": [
    "u = 1.35\n",
    "graph = [(0.3461717838632017, 1.4984640297338632), \n",
    "         (0.6316400411846113, 2.5754677320579895), \n",
    "         (1.3906262250927481, 2.164978861396621), \n",
    "         (0.66436005100802, 0.6717919819739032), \n",
    "         (0.8663329771713457, 3.3876341010035995), \n",
    "         (1.1643107343501296, 1.0823066243402013)\n",
    "        ]\n",
    "\n",
    "udmis = UDMIS(u, graph)\n",
    "\n",
    "# Initial Graph\n",
    "fig, ax = plt.subplots()\n",
    "for i,occ in enumerate(udmis.occupations):\n",
    "    c = 'red' if occ  else 'black'\n",
    "    x,y = graph[i]\n",
    "    \n",
    "    circle = plt.Circle((x,y), 0.5, color='grey', alpha=0.1)\n",
    "    ax.add_patch(circle)\n",
    "    \n",
    "    plt.scatter(x, y, color='black', marker='o')\n",
    "    \n",
    "plt.gca().set_aspect(1)"
   ]
  },
  {
   "cell_type": "code",
   "execution_count": 6,
   "metadata": {},
   "outputs": [
    {
     "ename": "TypeError",
     "evalue": "'list' object cannot be interpreted as an integer",
     "output_type": "error",
     "traceback": [
      "\u001b[0;31m---------------------------------------------------------------------------\u001b[0m",
      "\u001b[0;31mTypeError\u001b[0m                                 Traceback (most recent call last)",
      "\u001b[0;32m<ipython-input-6-41523a322b71>\u001b[0m in \u001b[0;36m<module>\u001b[0;34m\u001b[0m\n\u001b[1;32m     40\u001b[0m \u001b[0mG\u001b[0m\u001b[0;34m.\u001b[0m\u001b[0madd_edges_from\u001b[0m\u001b[0;34m(\u001b[0m\u001b[0medges\u001b[0m\u001b[0;34m)\u001b[0m\u001b[0;34m\u001b[0m\u001b[0;34m\u001b[0m\u001b[0m\n\u001b[1;32m     41\u001b[0m \u001b[0mfig\u001b[0m\u001b[0;34m,\u001b[0m \u001b[0max\u001b[0m \u001b[0;34m=\u001b[0m \u001b[0mplt\u001b[0m\u001b[0;34m.\u001b[0m\u001b[0msubplots\u001b[0m\u001b[0;34m(\u001b[0m\u001b[0;34m)\u001b[0m\u001b[0;34m\u001b[0m\u001b[0;34m\u001b[0m\u001b[0m\n\u001b[0;32m---> 42\u001b[0;31m \u001b[0;32mfor\u001b[0m \u001b[0m_\u001b[0m \u001b[0;32min\u001b[0m \u001b[0mrange\u001b[0m\u001b[0;34m(\u001b[0m\u001b[0mx\u001b[0m\u001b[0;34m)\u001b[0m\u001b[0;34m:\u001b[0m\u001b[0;34m\u001b[0m\u001b[0;34m\u001b[0m\u001b[0m\n\u001b[0m\u001b[1;32m     43\u001b[0m     \u001b[0mcircle\u001b[0m \u001b[0;34m=\u001b[0m \u001b[0mplt\u001b[0m\u001b[0;34m.\u001b[0m\u001b[0mCircle\u001b[0m\u001b[0;34m(\u001b[0m\u001b[0;34m(\u001b[0m\u001b[0mx\u001b[0m\u001b[0;34m,\u001b[0m\u001b[0my\u001b[0m\u001b[0;34m)\u001b[0m\u001b[0;34m,\u001b[0m \u001b[0;36m0.5\u001b[0m\u001b[0;34m,\u001b[0m \u001b[0mcolor\u001b[0m\u001b[0;34m=\u001b[0m\u001b[0;34m'grey'\u001b[0m\u001b[0;34m,\u001b[0m \u001b[0malpha\u001b[0m\u001b[0;34m=\u001b[0m\u001b[0;36m0.1\u001b[0m\u001b[0;34m)\u001b[0m\u001b[0;34m\u001b[0m\u001b[0;34m\u001b[0m\u001b[0m\n\u001b[1;32m     44\u001b[0m     \u001b[0max\u001b[0m\u001b[0;34m.\u001b[0m\u001b[0madd_patch\u001b[0m\u001b[0;34m(\u001b[0m\u001b[0mcircle\u001b[0m\u001b[0;34m)\u001b[0m\u001b[0;34m\u001b[0m\u001b[0;34m\u001b[0m\u001b[0m\n",
      "\u001b[0;31mTypeError\u001b[0m: 'list' object cannot be interpreted as an integer"
     ]
    },
    {
     "data": {
      "image/png": "[encoded data removed]",
      "text/plain": [
       "<Figure size 432x288 with 1 Axes>"
      ]
     },
     "metadata": {
      "needs_background": "light"
     },
     "output_type": "display_data"
    }
   ],
   "source": [
    "# Create empty graph\n",
    "G = nx.Graph()\n",
    "\n",
    "# Create Nodes\n",
    "nodes = [(1.19, 4.25),\n",
    "(2.71, 3.48),\n",
    "(2, 3.38),\n",
    "(1.12, 2.86),\n",
    "(1.70, 2.42),\n",
    "(2.36, 2.54),\n",
    "(1.52, 1.48),\n",
    "(2.15, 1.54),\n",
    "(2.14, 1.87),\n",
    "(1.72, 0.86),\n",
    "(2.29, 0.87)]\n",
    "\n",
    "x = []\n",
    "y = []\n",
    "for node in nodes:\n",
    "    x.append(node[0])\n",
    "    y.append(node[1])\n",
    "\n",
    "# Generate edges if they are close  within a distance of 1\n",
    "edge_nodes =[] #nodes numbers for generating objective function inside Qubo function Q\n",
    "edges = [] #coordinates for graph\n",
    "for i in range(len(nodes)-1):\n",
    "    for j in range(i+1,len(nodes)):\n",
    "        xi = nodes[i][0]\n",
    "        xj = nodes[j][0]\n",
    "        yi = nodes[i][1]\n",
    "        yj = nodes[j][1]\n",
    "        dij = ((xi-xj)**2 +(yi-yj)**2)**(1/2)\n",
    "        if dij <= 1:\n",
    "            edge =(nodes[i],nodes[j])\n",
    "            edge_indices = (i,j)\n",
    "            edge_nodes.append(edge_indices)\n",
    "            edges.append(edge)\n",
    "\n",
    "\n",
    "G.add_edges_from(edges)\n",
    "fig, ax = plt.subplots()\n",
    "for _ in range(x):\n",
    "    circle = plt.Circle((x,y), 0.5, color='grey', alpha=0.1)\n",
    "    ax.add_patch(circle)\n",
    "nx.draw_networkx(G, with_labels=True)\n",
    "plt.show()"
   ]
  },
  {
   "cell_type": "code",
   "execution_count": 7,
   "metadata": {
    "scrolled": true
   },
   "outputs": [],
   "source": [
    "def plot_coefficients(N, ti, tf):\n",
    "\n",
    "    t = np.arange(N+1)\n",
    "    T = ti * ((tf/ti) ** (t/N))\n",
    "    x = []\n",
    "    y = []\n",
    "    for t in range(N):\n",
    "        temp = T[t]\n",
    "        E = udmis.mc_step(T=temp)\n",
    "        x.append(t)\n",
    "        y.append(E)\n",
    "    return x,y\n",
    "    \n",
    "        \n",
    "\n",
    "# Number of iterations\n",
    "N = 5000\n",
    "\n",
    "# Trial parameters\n",
    "T_i = 100\n",
    "T_f_1 = 0.1\n",
    "T_f_2 = 0.01\n",
    "T_f_3 = 0.001\n",
    "T_f_4 = 0.0001\n",
    "T_f_5 = 0.00001\n",
    "T_f_6 = 0.000001"
   ]
  },
  {
   "cell_type": "code",
   "execution_count": 8,
   "metadata": {},
   "outputs": [],
   "source": [
    "# Grab our data points\n",
    "(x1,y1) = plot_coefficients(N, T_i, T_f_1)\n",
    "(x2,y2) = plot_coefficients(N, T_i, T_f_2)\n",
    "(x3,y3) = plot_coefficients(N, T_i, T_f_3)\n",
    "(x4,y4) = plot_coefficients(N, T_i, T_f_4)\n",
    "(x5,y5) = plot_coefficients(N, T_i, T_f_5)\n",
    "(x6,y6) = plot_coefficients(N, T_i, T_f_6)"
   ]
  },
  {
   "cell_type": "code",
   "execution_count": 9,
   "metadata": {},
   "outputs": [
    {
     "data": {
      "image/png": "[encoded data removed]",
      "text/plain": [
       "<Figure size 432x288 with 1 Axes>"
      ]
     },
     "metadata": {
      "needs_background": "light"
     },
     "output_type": "display_data"
    }
   ],
   "source": [
    "# Overlaya all the monte carlo graphs (Still needs a legend added)\n",
    "g1 = plt.plot(x1, y1, label='Temp=0.1')\n",
    "g2 = plt.plot(x2, y2, label='Temp=0.01')\n",
    "g3 = plt.plot(x3, y3, label='Temp=0.001')\n",
    "g4 = plt.plot(x4, y4, label='Temp=0.0001')\n",
    "g5 = plt.plot(x5, y5, label='Temp=0.00001')\n",
    "g6 = plt.plot(x6, y6, label='Temp=0.000001')\n",
    "# ADD FIGSIZE\n",
    "#plt.legend([g1,g2,g3,g4,g5,g6],['Tf=0.1','Tf=0.01','Tf=0.001','Tf=0.0001','Tf=0.00001', 'Tf=0.000001'])"
   ]
  },
  {
   "cell_type": "code",
   "execution_count": 10,
   "metadata": {},
   "outputs": [
    {
     "data": {
      "text/plain": [
       "Text(0.5, 1.0, 'T$_{f}$ = $10^{-6}$ K')"
      ]
     },
     "execution_count": 10,
     "metadata": {},
     "output_type": "execute_result"
    },
    {
     "data": {
      "image/png": "[encoded data removed]",
      "text/plain": [
       "<Figure size 720x720 with 6 Axes>"
      ]
     },
     "metadata": {
      "needs_background": "light"
     },
     "output_type": "display_data"
    }
   ],
   "source": [
    " # Individually plot each of the convergences\n",
    "figure, axis = plt.subplots(2,3,figsize=(10,10))\n",
    "\n",
    "axis[0,0].plot(x1,y1)\n",
    "axis[0,0].set_title(\"T$_{f}$ = $10^{-1}$ K\")\n",
    "\n",
    "axis[0,1].plot(x2,y2)\n",
    "axis[0,1].set_title(\"T$_{f}$ = $10^{-2}$ K\")\n",
    "\n",
    "axis[0,2].plot(x3,y3)\n",
    "axis[0,2].set_title(\"T$_{f}$ = $10^{-3}$ K\")\n",
    "\n",
    "axis[1,0].plot(x4,y4)\n",
    "axis[1,0].set_title(\"T$_{f}$ = $10^{-4}$ K\")\n",
    "\n",
    "axis[1,1].plot(x5,y5)\n",
    "axis[1,1].set_title(\"T$_{f}$ = $10^{-5}$ K\")\n",
    "\n",
    "axis[1,2].plot(x6,y6)\n",
    "axis[1,2].set_title(\"T$_{f}$ = $10^{-6}$ K\")"
   ]
  },
  {
   "cell_type": "code",
   "execution_count": 15,
   "metadata": {},
   "outputs": [
    {
     "name": "stdout",
     "output_type": "stream",
     "text": [
      "False\n",
      "False\n",
      "True\n",
      "True\n",
      "True\n",
      "False\n"
     ]
    },
    {
     "data": {
      "image/png": "[encoded data removed]",
      "text/plain": [
       "<Figure size 432x288 with 1 Axes>"
      ]
     },
     "metadata": {
      "needs_background": "light"
     },
     "output_type": "display_data"
    }
   ],
   "source": [
    "fig, ax = plt.subplots()\n",
    "for i,occ in enumerate(udmis.occupations):\n",
    "    c = 'red' if occ  else 'black'\n",
    "    x,y = graph[i]\n",
    "    \n",
    "    circle = plt.Circle((x,y), 0.5, color='grey', alpha=0.1)\n",
    "    ax.add_patch(circle)\n",
    "    \n",
    "    plt.scatter(x, y, color='black', marker='o')\n",
    "    \n",
    "plt.gca().set_aspect(1)"
   ]
  },
  {
   "cell_type": "code",
   "execution_count": null,
   "metadata": {},
   "outputs": [],
   "source": []
  }
 ],
 "metadata": {
  "kernelspec": {
   "display_name": "Python 3",
   "language": "python",
   "name": "python3"
  },
  "language_info": {
   "codemirror_mode": {
    "name": "ipython",
    "version": 3
   },
   "file_extension": ".py",
   "mimetype": "text/x-python",
   "name": "python",
   "nbconvert_exporter": "python",
   "pygments_lexer": "ipython3",
   "version": "3.8.5"
  }
 },
 "nbformat": 4,
 "nbformat_minor": 4
}
