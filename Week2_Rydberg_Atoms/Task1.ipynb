{
 "cells": [
  {
   "cell_type": "markdown",
   "source": [
    "# Random-graph UD-MIS (Classical)\n",
    "\n",
    "$$\n",
    "H = -\\sum_{i \\in V} n_i + u \\sum_{i,j \\in E} n_i n_j\n",
    "$$\n",
    "\n",
    "Our goal is to find one of the ground state(s) - a solution to the UD-MIS problem - automatically through Monte Carlo sampling.\n",
    "\n",
    "The probability distribution of the Ising model at temperature $T$ is given by the Gibbs distribution:\n",
    "\n",
    "$$p(\\sigma; T) = \\frac{1}{Z(T)}\\exp\\left(-\\frac{H(\\sigma)}{T}\\right)$$,\n",
    "\n",
    "where $Z(T)$ is the normalization constant (also known as the *partition function*)."
   ],
   "metadata": {}
  },
  {
   "cell_type": "code",
   "execution_count": 16,
   "source": [
    "import numpy as np\r\n",
    "import matplotlib.pyplot as plt\r\n",
    "\r\n",
    "from abstract_udmis import AbstractUDMIS\r\n",
    "\r\n",
    "%matplotlib inline"
   ],
   "outputs": [],
   "metadata": {}
  },
  {
   "cell_type": "markdown",
   "source": [
    "Below you'll find code for the UDMIS model of interest. Strictly speaking, for the purposes of performing the Monte Carlo simulation we can simply compute the required energy differences using two calls to the energy function. However, we can often save significant computation time by writing a specialised function for the energy difference that avoids unnecessary calculations. Simply put, calculating the energy of a configuration of occupations requires you to iterate over all vertices in the graph, but the energy change associated with a single-occupation-flip can be computed just from values of the connected vertices."
   ],
   "metadata": {}
  },
  {
   "cell_type": "code",
   "execution_count": 17,
   "source": [
    "class UDMIS(AbstractUDMIS):\r\n",
    "    def __init__(self, u, graph):\r\n",
    "        super().__init__()\r\n",
    "        self.u, self.graph = u, graph\r\n",
    "        self.num_vertices = len(self.graph)\r\n",
    "        print(self.num_vertices)\r\n",
    "        # initialize system at infinite temperature\r\n",
    "        # i.e. vertices are completely random and uncorrelated\r\n",
    "        self.occupations = np.random.rand(self.num_vertices) < 0.5\r\n",
    "        self.edges = self.find_edges()\r\n",
    "    \r\n",
    "    def find_edges(self):\r\n",
    "        #num_pairs = int(self.num_vertices*(self.num_vertices)*0.5)\r\n",
    "        edges = np.zeros((self.num_vertices, self.num_vertices), dtype=bool)\r\n",
    "        \r\n",
    "        for i in range(self.num_vertices-1):\r\n",
    "            x_i, y_i = graph[i] # these are the x, y coordinates of the i'th vertex in the graph\r\n",
    "            for j in range(i+1, self.num_vertices):\r\n",
    "                x_j, y_j = graph[j] # these are the x, y coordinates of the j'th vertex in the graph\r\n",
    "                \r\n",
    "                # calculate the distance between vertices\r\n",
    "                dij = np.sqrt((x_i - x_j)**2. + (y_i - y_j)**2.)\r\n",
    "                if dij <= 1.0:\r\n",
    "                    edges[i,j] = True\r\n",
    "                    edges[j,i] = True\r\n",
    "                    \r\n",
    "        return edges\r\n",
    "        \r\n",
    "    def energy(self):\r\n",
    "        \"\"\"Returns the energy of the current spin configuration\"\"\"\r\n",
    "        # interaction term\r\n",
    "        interaction_term = 0\r\n",
    "        vertex_term = 0\r\n",
    "        for i in range(self.num_vertices-1):\r\n",
    "            for j in range(i+1, self.num_vertices):\r\n",
    "                \r\n",
    "                # check if there is an edge\r\n",
    "                if self.edges[i,j]:\r\n",
    "                    interaction_term += self.occupations[i]*self.occupations[j]\r\n",
    "                \r\n",
    "            vertex_term += self.occupations[i]\r\n",
    "        \r\n",
    "        # missed the last vertex\r\n",
    "        vertex_term += self.occupations[self.num_vertices-1]\r\n",
    "    \r\n",
    "        return u*interaction_term - vertex_term\r\n",
    "\r\n",
    "    def energy_diff(self, i):\r\n",
    "        connections = np.where(self.edges[i,:])[0]\r\n",
    "        num_adjacent_occupied = sum(self.occupations[connections])\r\n",
    "        \r\n",
    "        if self.occupations[i] == 1:\r\n",
    "            # flipping an occupied vertex increases the vertex term, decreases the interaction term\r\n",
    "            vertex_term_change = 1.\r\n",
    "            interaction_term_change = -u*num_adjacent_occupied\r\n",
    "        \r\n",
    "        elif self.occupations[i] == 0:\r\n",
    "            # flipping an unoccupied vertex decreases the vertex term, increases the interaction term\r\n",
    "            vertex_term_change = -1.\r\n",
    "            interaction_term_change = u*num_adjacent_occupied \r\n",
    "\r\n",
    "        return interaction_term_change + vertex_term_change\r\n",
    "    \r\n",
    "    def rand_vertex(self):\r\n",
    "        \"\"\"Selects a site in the graph at random\"\"\"\r\n",
    "        return np.random.randint(self.num_vertices)        "
   ],
   "outputs": [],
   "metadata": {}
  },
  {
   "cell_type": "code",
   "execution_count": 18,
   "source": [
    "u = 1.35\r\n",
    "V = 6\r\n",
    "\r\n",
    "# generate a random graph with 'V' vertices\r\n",
    "#graph = [(np.random.uniform(low=0, high=5), np.random.uniform(low=0, high=5)) for i in range(V)]\r\n",
    "\r\n",
    "graph = [(0.3461717838632017, 1.4984640297338632), \r\n",
    "         (0.6316400411846113, 2.5754677320579895), \r\n",
    "         (1.3906262250927481, 2.164978861396621), \r\n",
    "         (0.66436005100802, 0.6717919819739032), \r\n",
    "         (0.8663329771713457, 3.3876341010035995), \r\n",
    "         (1.1643107343501296, 1.0823066243402013)\r\n",
    "        ]\r\n",
    "\r\n",
    "udmis = UDMIS(u, graph)"
   ],
   "outputs": [
    {
     "output_type": "stream",
     "name": "stdout",
     "text": [
      "6\n"
     ]
    }
   ],
   "metadata": {}
  },
  {
   "cell_type": "code",
   "execution_count": 20,
   "source": [
    "N = 500\r\n",
    "t = np.arange(N+1)\r\n",
    "T_i = 100\r\n",
    "T_f = 0.01\r\n",
    "\r\n",
    "T = T_i * ((T_f/T_i) ** (t/N))\r\n",
    "\r\n",
    "for t in range(N):\r\n",
    "    # take a look at the abstract_udmis.py file to see how mc_step works\r\n",
    "    temp = T[t]\r\n",
    "    E = udmis.mc_step(T=temp)\r\n",
    "    if t % 10 == 0:\r\n",
    "        print(udmis.occupations)"
   ],
   "outputs": [
    {
     "output_type": "stream",
     "name": "stdout",
     "text": [
      "[False False False False False  True]\n",
      "[ True  True  True  True False  True]\n",
      "[ True False  True False False  True]\n",
      "[False False  True  True  True  True]\n",
      "[ True False False  True False False]\n",
      "[False  True False False  True False]\n",
      "[ True  True False  True False  True]\n",
      "[False False  True False  True  True]\n",
      "[ True False  True  True  True  True]\n",
      "[ True False False  True  True  True]\n",
      "[False  True  True False False False]\n",
      "[ True False  True False False  True]\n",
      "[False  True  True  True False False]\n",
      "[False  True False False False  True]\n",
      "[False False False  True False False]\n",
      "[False False False False False False]\n",
      "[False  True  True  True False  True]\n",
      "[False  True  True False False False]\n",
      "[False False False False  True False]\n",
      "[False  True  True  True  True  True]\n",
      "[False  True False  True  True  True]\n",
      "[False False False  True  True  True]\n",
      "[ True  True  True False  True False]\n",
      "[False False  True False False  True]\n",
      "[False  True False False False  True]\n",
      "[False False  True  True  True False]\n",
      "[ True False  True  True  True False]\n",
      "[ True  True  True False  True  True]\n",
      "[False False  True False  True False]\n",
      "[ True False  True  True  True False]\n",
      "[False False  True False  True  True]\n",
      "[False False  True  True  True False]\n",
      "[ True False  True False  True False]\n",
      "[False False  True  True  True False]\n",
      "[ True False  True False  True False]\n",
      "[ True False  True False  True False]\n",
      "[False False  True  True  True False]\n",
      "[False False  True False  True  True]\n",
      "[False False  True  True  True False]\n",
      "[False False  True  True  True False]\n",
      "[False False  True  True  True False]\n",
      "[False False  True  True  True False]\n",
      "[False False  True  True  True False]\n",
      "[False False  True  True  True False]\n",
      "[False False  True  True  True False]\n",
      "[False False  True  True  True False]\n",
      "[False False  True  True  True False]\n",
      "[False False  True  True  True False]\n",
      "[False False  True  True  True False]\n",
      "[False False  True  True  True False]\n"
     ]
    }
   ],
   "metadata": {}
  }
 ],
 "metadata": {
  "kernelspec": {
   "display_name": "Python 3",
   "language": "python",
   "name": "python3"
  },
  "language_info": {
   "codemirror_mode": {
    "name": "ipython",
    "version": 3
   },
   "file_extension": ".py",
   "mimetype": "text/x-python",
   "name": "python",
   "nbconvert_exporter": "python",
   "pygments_lexer": "ipython3",
   "version": "3.8.5"
  }
 },
 "nbformat": 4,
 "nbformat_minor": 4
}