{
 "cells": [
  {
   "cell_type": "code",
   "execution_count": null,
   "metadata": {},
   "outputs": [],
   "source": []
  },
  {
   "cell_type": "code",
   "execution_count": 5,
   "metadata": {},
   "outputs": [
    {
     "output_type": "stream",
     "name": "stdout",
     "text": "Requirement already satisfied: networkx in /usr/local/lib/python3.7/site-packages (2.5)\nRequirement already satisfied: decorator>=4.3.0 in /usr/local/lib/python3.7/site-packages (from networkx) (4.4.2)\n\u001b[33mWARNING: You are using pip version 21.0.1; however, version 21.1.3 is available.\nYou should consider upgrading via the '/usr/local/bin/python -m pip install --upgrade pip' command.\u001b[0m\n"
    }
   ],
   "source": [
    "#!pip install seaborn\n",
    "#!pip install networkx"
   ]
  },
  {
   "cell_type": "code",
   "execution_count": 28,
   "metadata": {},
   "outputs": [],
   "source": [
    "import numpy as np\n",
    "import pandas as pd \n",
    "import seaborn as sns \n",
    "import itertools\n",
    "import networkx as nx\n",
    "import dwave_networkx as dnx\n",
    "import matplotlib.pyplot as plt \n",
    "from matplotlib.patches import Circle\n",
    "from abstract_udmis import AbstractUDMIS\n",
    "import time\n",
    "\n",
    "import flatnetwork as fnmod\n",
    "\n",
    "%matplotlib inline\n",
    "sns.set(rc={'figure.figsize':(15,15)})"
   ]
  },
  {
   "cell_type": "code",
   "execution_count": 8,
   "metadata": {},
   "outputs": [
    {
     "output_type": "stream",
     "name": "stdout",
     "text": "{(12, 13): 1.35, (15, 16): 1.35, (0, 1): 1.35, (3, 4): 1.35, (7, 8): 1.35, (9, 10): 1.35, (18, 19): 1.35, (4, 5): 1.35, (6, 7): 1.35, (5, 8): 1.35, (0, 5): 1.35, (2, 11): 1.35, (3, 5): 1.35, (8, 14): 1.35}\n"
    }
   ],
   "source": [
    "u = 1.35\n",
    "edgesColl = []\n",
    "wijColl = []\n",
    "maxlColl = []\n",
    "\n",
    "Ls = range(20,110,10)\n",
    "for L in Ls:   \n",
    "    edges, wij, maxl = fnmod.random_flat_graph(L, min(L/2,20), 0.5, 0.25, u)\n",
    "    edgesColl.append(edges)\n",
    "    wijColl.append(wij)\n",
    "    maxlColl.append(maxl)\n",
    "\n",
    "print(edgesColl[0])"
   ]
  },
  {
   "cell_type": "code",
   "execution_count": 32,
   "metadata": {},
   "outputs": [],
   "source": [
    "# Set the solver\n",
    "from dwave.system.samplers import DWaveSampler\n",
    "from dwave.system.composites import EmbeddingComposite\n",
    "\n",
    "sampler = EmbeddingComposite(DWaveSampler())\n",
    "\n",
    "times = np.zeros(len(Ls))"
   ]
  },
  {
   "cell_type": "code",
   "execution_count": 34,
   "metadata": {},
   "outputs": [
    {
     "output_type": "stream",
     "name": "stdout",
     "text": "Number of vertices:  20\nMaximum independent set size found is 10\n[1, 2, 4, 6, 8, 9, 13, 15, 17, 19]\n[0. 1. 1. 0. 1. 0. 1. 0. 1. 1. 0. 0. 0. 1. 0. 1. 0. 1. 0. 1.]\nNumber of vertices:  30\nMaximum independent set size found is 18\n[1, 2, 3, 5, 6, 10, 11, 12, 14, 16, 17, 19, 21, 23, 25, 26, 27, 29]\n[0. 1. 1. 1. 0. 1. 1. 0. 0. 0. 1. 1. 1. 0. 1. 0. 1. 1. 0. 1. 0. 1. 0. 1.\n 0. 1. 1. 1. 0. 1.]\nNumber of vertices:  40\nMaximum independent set size found is 26\n[0, 2, 3, 5, 7, 8, 9, 11, 12, 16, 18, 20, 22, 23, 26, 27, 28, 29, 30, 31, 32, 33, 34, 35, 36, 39]\n[1. 0. 1. 1. 0. 1. 0. 1. 1. 1. 0. 1. 1. 0. 0. 0. 1. 0. 1. 0. 1. 0. 1. 1.\n 0. 0. 1. 1. 1. 1. 1. 1. 1. 1. 1. 1. 1. 0. 0. 1.]\nNumber of vertices:  50\nMaximum independent set size found is 34\n[0, 2, 4, 5, 6, 8, 9, 11, 12, 14, 15, 16, 17, 20, 21, 27, 28, 29, 30, 31, 32, 33, 34, 35, 36, 38, 40, 41, 42, 43, 45, 46, 48, 49]\n[1. 0. 1. 0. 1. 1. 1. 0. 1. 1. 0. 1. 1. 0. 1. 1. 1. 1. 0. 0. 1. 1. 0. 0.\n 0. 0. 0. 1. 1. 1. 1. 1. 1. 1. 1. 1. 1. 0. 1. 0. 1. 1. 1. 1. 0. 1. 1. 0.\n 1. 1.]\nNumber of vertices:  60\nMaximum independent set size found is 39\n[0, 2, 4, 5, 7, 8, 10, 11, 13, 15, 17, 20, 22, 23, 25, 27, 28, 29, 30, 31, 32, 33, 34, 36, 38, 40, 42, 43, 45, 46, 48, 49, 51, 52, 54, 55, 56, 57, 59]\n[1. 0. 1. 0. 1. 1. 0. 1. 1. 0. 1. 1. 0. 1. 0. 1. 0. 1. 0. 0. 1. 0. 1. 1.\n 0. 1. 0. 1. 1. 1. 1. 1. 1. 1. 1. 0. 1. 0. 1. 0. 1. 0. 1. 1. 0. 1. 1. 0.\n 1. 1. 0. 1. 1. 0. 1. 1. 1. 1. 0. 1.]\nNumber of vertices:  70\nMaximum independent set size found is 46\n[0, 1, 3, 5, 6, 7, 8, 10, 11, 12, 15, 16, 17, 18, 19, 22, 24, 26, 27, 28, 30, 31, 33, 35, 37, 39, 41, 42, 43, 45, 46, 49, 51, 52, 53, 54, 56, 57, 59, 60, 62, 63, 64, 66, 68, 69]\n[1. 1. 0. 1. 0. 1. 1. 1. 1. 0. 1. 1. 1. 0. 0. 1. 1. 1. 1. 1. 0. 0. 1. 0.\n 1. 0. 1. 1. 1. 0. 1. 1. 0. 1. 0. 1. 0. 1. 0. 1. 0. 1. 1. 1. 0. 1. 1. 0.\n 0. 1. 0. 1. 1. 1. 1. 0. 1. 1. 0. 1. 1. 0. 1. 1. 1. 0. 1. 0. 1. 1.]\nNumber of vertices:  80\nMaximum independent set size found is 52\n[0, 1, 2, 3, 4, 5, 7, 8, 9, 11, 12, 14, 16, 17, 19, 22, 24, 25, 27, 28, 30, 31, 33, 34, 35, 38, 39, 41, 42, 43, 45, 47, 49, 52, 53, 54, 56, 58, 60, 61, 62, 63, 64, 66, 67, 69, 71, 72, 74, 76, 78, 79]\n[1. 1. 1. 1. 1. 1. 0. 1. 1. 1. 0. 1. 1. 0. 1. 0. 1. 1. 0. 1. 0. 0. 1. 0.\n 1. 1. 0. 1. 1. 0. 1. 1. 0. 1. 1. 1. 0. 0. 1. 1. 0. 1. 1. 1. 0. 1. 0. 1.\n 0. 1. 0. 0. 1. 1. 1. 0. 1. 0. 1. 0. 1. 1. 1. 1. 1. 0. 1. 1. 0. 1. 0. 1.\n 1. 0. 1. 0. 1. 0. 1. 1.]\nNumber of vertices:  90\nMaximum independent set size found is 61\n[0, 1, 2, 3, 4, 5, 6, 7, 8, 9, 11, 13, 15, 16, 17, 19, 22, 24, 25, 27, 28, 29, 31, 33, 34, 35, 36, 38, 39, 41, 42, 44, 46, 48, 50, 52, 54, 55, 56, 57, 59, 60, 61, 62, 64, 66, 68, 69, 71, 73, 74, 75, 76, 78, 80, 82, 84, 85, 86, 87, 89]\n[1. 1. 1. 1. 1. 1. 1. 1. 1. 1. 0. 1. 0. 1. 0. 1. 1. 1. 0. 1. 0. 0. 1. 0.\n 1. 1. 0. 1. 1. 1. 0. 1. 0. 1. 1. 1. 1. 0. 1. 1. 0. 1. 1. 0. 1. 0. 1. 0.\n 1. 0. 1. 0. 1. 0. 1. 1. 1. 1. 0. 1. 1. 1. 1. 0. 1. 0. 1. 0. 1. 1. 0. 1.\n 0. 1. 1. 1. 1. 0. 1. 0. 1. 0. 1. 0. 1. 1. 1. 1. 0. 1.]\nNumber of vertices:  100\nMaximum independent set size found is 67\n[0, 1, 2, 4, 5, 6, 7, 8, 10, 11, 12, 15, 16, 18, 20, 22, 24, 26, 27, 28, 30, 31, 33, 34, 35, 37, 40, 42, 45, 46, 48, 49, 52, 53, 54, 55, 57, 59, 60, 61, 63, 64, 66, 68, 69, 71, 73, 74, 76, 78, 79, 81, 83, 85, 86, 87, 89, 90, 91, 92, 93, 94, 95, 96, 97, 98, 99]\n[1. 1. 1. 0. 1. 1. 1. 1. 1. 0. 1. 1. 1. 0. 0. 1. 1. 0. 1. 0. 1. 0. 1. 0.\n 1. 0. 1. 1. 1. 0. 1. 1. 0. 1. 1. 1. 0. 1. 0. 0. 1. 0. 1. 0. 0. 1. 1. 0.\n 1. 1. 0. 0. 1. 1. 1. 1. 0. 1. 0. 1. 1. 1. 0. 1. 1. 0. 1. 0. 1. 1. 0. 1.\n 0. 1. 1. 0. 1. 0. 1. 1. 0. 1. 0. 1. 0. 1. 1. 1. 0. 1. 1. 1. 1. 1. 1. 1.\n 1. 1. 1. 1.]\n"
    }
   ],
   "source": [
    "for i in range(len(Ls)):        \n",
    "    G = nx.Graph() \n",
    "    G.add_nodes_from([x for x in range(Ls[i])])    \n",
    "    for edge in edgesColl[i]:\n",
    "        G.add_edge(edge[0],edge[1])\n",
    "        \n",
    "    # Find the maximum independent set, S\n",
    "    start_time = time.perf_counter()\n",
    "    S = dnx.maximum_independent_set(G, sampler=sampler, num_reads=50, label='CDL - Gotham MIS')\n",
    "    end_time = time.perf_counter()\n",
    "    times[i] = end_time - start_time\n",
    "\n",
    "    # Print the solution for the user\n",
    "    print('Number of vertices: ',Ls[i])\n",
    "    print('Maximum independent set size found is', len(S))\n",
    "    print(S)\n",
    "    bitstring = np.zeros([Ls[i]])\n",
    "    bitstring[S] = 1\n",
    "    print(bitstring)\n",
    "    "
   ]
  },
  {
   "cell_type": "code",
   "execution_count": 25,
   "metadata": {},
   "outputs": [],
   "source": [
    "print(times)"
   ]
  },
  {
   "cell_type": "code",
   "execution_count": 27,
   "metadata": {},
   "outputs": [
    {
     "output_type": "error",
     "ename": "TypeError",
     "evalue": "'SampleSet' object is not subscriptable",
     "traceback": [
      "\u001b[0;31m---------------------------------------------------------------------------\u001b[0m",
      "\u001b[0;31mTypeError\u001b[0m                                 Traceback (most recent call last)",
      "\u001b[0;32m/tmp/ipykernel_2133/2863924660.py\u001b[0m in \u001b[0;36m<module>\u001b[0;34m\u001b[0m\n\u001b[0;32m----> 1\u001b[0;31m \u001b[0msampleset\u001b[0m\u001b[0;34m[\u001b[0m\u001b[0;36m0\u001b[0m\u001b[0;34m]\u001b[0m\u001b[0;34m\u001b[0m\u001b[0;34m\u001b[0m\u001b[0m\n\u001b[0m",
      "\u001b[0;31mTypeError\u001b[0m: 'SampleSet' object is not subscriptable"
     ]
    }
   ],
   "source": [
    "sampleset"
   ]
  },
  {
   "cell_type": "code",
   "execution_count": 23,
   "metadata": {},
   "outputs": [
    {
     "output_type": "error",
     "ename": "IndentationError",
     "evalue": "unexpected indent (4060885599.py, line 6)",
     "traceback": [
      "\u001b[0;36m  File \u001b[0;32m\"/tmp/ipykernel_2133/4060885599.py\"\u001b[0;36m, line \u001b[0;32m6\u001b[0m\n\u001b[0;31m    print\u001b[0m\n\u001b[0m    ^\u001b[0m\n\u001b[0;31mIndentationError\u001b[0m\u001b[0;31m:\u001b[0m unexpected indent\n"
     ]
    }
   ],
   "source": [
    "sns.set(rc={'figure.figsize':(10,15)})\n",
    "\n",
    "color_map = list()\n",
    "\n",
    "for node in G.nodes():aa\n",
    "    print\n",
    "    if node in S:\n",
    "        color_map.append('orange')\n",
    "    else: \n",
    "        color_map.append('lightblue')\n",
    "\n",
    "node_labels = {} \n",
    "for node in G.nodes():\n",
    "    node_labels[node] = str(int(node)+1)\n",
    "\n",
    "pos = {v:graph[v] for v in vertices}\n",
    "flipped_pos = {node: (x,-y) for (node, (x,y)) in pos.items()}\n",
    "fig, ax = plt.subplots(1, 1)\n",
    "\n",
    "ax1 = nx.draw_networkx(G, pos=flipped_pos, with_labels=False, node_color=color_map)\n",
    "nx.draw_networkx_labels(G, flipped_pos, node_labels)\n",
    "for node in G.nodes():\n",
    "    ax.add_artist(Circle(xy=flipped_pos[node], radius=.5, \n",
    "    facecolor='bisque', alpha=0.2, edgecolor='black'))\n",
    "plt.grid('on')\n",
    "plt.show()"
   ]
  },
  {
   "cell_type": "code",
   "execution_count": 14,
   "metadata": {},
   "outputs": [],
   "source": [
    "from dwave_networkx.algorithms.independent_set import maximum_weighted_independent_set_qubo\n",
    "mis_qubo = maximum_weighted_independent_set_qubo(G)"
   ]
  },
  {
   "cell_type": "code",
   "execution_count": 15,
   "metadata": {},
   "outputs": [
    {
     "data": {
      "text/plain": [
       "{(0, 0): -1.0,\n",
       " (1, 1): -1.0,\n",
       " (2, 2): -1.0,\n",
       " (3, 3): -1.0,\n",
       " (4, 4): -1.0,\n",
       " (5, 5): -1.0,\n",
       " (6, 6): -1.0,\n",
       " (7, 7): -1.0,\n",
       " (8, 8): -1.0,\n",
       " (9, 9): -1.0,\n",
       " (10, 10): -1.0,\n",
       " (11, 11): -1.0,\n",
       " (0, 2): 2.0,\n",
       " (1, 3): 2.0,\n",
       " (2, 3): 2.0,\n",
       " (2, 4): 2.0,\n",
       " (3, 6): 2.0,\n",
       " (4, 5): 2.0,\n",
       " (5, 6): 2.0,\n",
       " (5, 7): 2.0,\n",
       " (5, 8): 2.0,\n",
       " (5, 9): 2.0,\n",
       " (6, 9): 2.0,\n",
       " (7, 8): 2.0,\n",
       " (7, 9): 2.0,\n",
       " (7, 10): 2.0,\n",
       " (7, 11): 2.0,\n",
       " (8, 9): 2.0,\n",
       " (8, 10): 2.0,\n",
       " (8, 11): 2.0,\n",
       " (10, 11): 2.0}"
      ]
     },
     "execution_count": 15,
     "metadata": {},
     "output_type": "execute_result"
    }
   ],
   "source": [
    "mis_qubo"
   ]
  },
  {
   "cell_type": "code",
   "execution_count": null,
   "metadata": {},
   "outputs": [],
   "source": []
  }
 ],
 "metadata": {
  "file_extension": ".py",
  "kernelspec": {
   "display_name": "Python 3.7.10 64-bit",
   "name": "python371064bit79d8690654b94bb9925283d98808e8c0"
  },
  "language_info": {
   "codemirror_mode": {
    "name": "ipython",
    "version": 3
   },
   "name": "python",
   "version": "3.7.10-final"
  },
  "mimetype": "text/x-python",
  "name": "python",
  "npconvert_exporter": "python",
  "pygments_lexer": "ipython3",
  "version": 3
 },
 "nbformat": 4,
 "nbformat_minor": 2
}