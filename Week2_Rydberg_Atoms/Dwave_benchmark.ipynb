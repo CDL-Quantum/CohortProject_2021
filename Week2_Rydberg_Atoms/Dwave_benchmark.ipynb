{
 "cells": [
  {
   "cell_type": "code",
   "execution_count": 1,
   "id": "a6b80d4c",
   "metadata": {},
   "outputs": [],
   "source": [
    "import numpy as np\n",
    "import random as rand\n",
    "import networkx as nx\n",
    "import time\n",
    "import matplotlib.pyplot as plt"
   ]
  },
  {
   "cell_type": "code",
   "execution_count": 2,
   "id": "0c8a5c10",
   "metadata": {},
   "outputs": [],
   "source": [
    "import dimod\n",
    "from dwave.system import DWaveSampler, EmbeddingComposite\n",
    "import dwave_networkx as dnx"
   ]
  },
  {
   "cell_type": "code",
   "execution_count": 3,
   "id": "42f08486",
   "metadata": {},
   "outputs": [],
   "source": [
    "def randomGraph(num_vertices,density=1,seed=None):\n",
    "    scale = np.sqrt(num_vertices)/density\n",
    "    if seed is not None:\n",
    "        rand.seed(seed)\n",
    "    graph = [(rand.random()*scale,rand.random()*scale) for n in range(num_vertices)]\n",
    "    return graph"
   ]
  },
  {
   "cell_type": "code",
   "execution_count": 41,
   "id": "25fe9982",
   "metadata": {},
   "outputs": [],
   "source": [
    "class GraphClass():\n",
    "    def __init__(self, graph):\n",
    "        self.graph = graph\n",
    "        self.num_vertices = len(self.graph)\n",
    "        self.occupations = np.random.rand(self.num_vertices) < 0.5\n",
    "        self.edges = self.find_edges()\n",
    "    \n",
    "    def to_nx(self):\n",
    "        I,J = np.where(np.triu(self.edges))\n",
    "        G  = nx.Graph()\n",
    "        G.add_edges_from(list(zip(I,J)))\n",
    "        return G   \n",
    "    \n",
    "    def find_edges(self):\n",
    "        G = np.array(self.graph)\n",
    "        D = np.sqrt(np.square(G[:,0:1]-np.transpose(G[:,0:1])) + np.square(G[:,1:2]-np.transpose(G[:,1:2])))\n",
    "        edges = (D<1)*(D!=0)\n",
    "        return edges     \n",
    "    \n",
    "    def draw_graph(self,occupations = None):\n",
    "        \n",
    "        # inner function\n",
    "        def draw_circles(ax,xs,ys,cs):\n",
    "\n",
    "            # plot the non activated vertices in the background\n",
    "            for x,y,c in zip(xs,ys,cs):\n",
    "                if not(c):\n",
    "                    circle = plt.Circle((x,y),0.5,color = 'gray',alpha=0.5 )\n",
    "                    ax.add_patch(circle)\n",
    "\n",
    "            # plot the activated vertices in the foreground        \n",
    "            for x,y,c in zip(xs,ys,cs):\n",
    "                if c:\n",
    "                    circle = plt.Circle((x,y),0.5,color = 'b',alpha=0.3)\n",
    "                    ax.add_patch(circle)\n",
    "        \n",
    "        #core of function\n",
    "        graph_np = np.array(self.graph)\n",
    "        xs = graph_np[:,0]\n",
    "        ys = graph_np[:,1]\n",
    "        \n",
    "        if occupations==None:\n",
    "            cs = self.occupations\n",
    "            fig, ax = plt.subplots()\n",
    "            draw_circles(ax,xs,ys,cs)\n",
    "            ax.axis('equal')\n",
    "        else:\n",
    "            N = min(5,len(occupations))\n",
    "            fig, axs = plt.subplots(1,N,figsize=(20,4))\n",
    "            for i in range(N):\n",
    "                cs = occupations[i]\n",
    "                draw_circles(axs[i],xs,ys,cs)\n",
    "                axs[i].axis('equal')\n",
    "        \n",
    "        return fig\n",
    "        \n",
    "    def brute_force(self):\n",
    "        num_vertices = self.num_vertices\n",
    "        format_string = '0' + str(num_vertices) + 'b'\n",
    "        bitlist = []\n",
    "        for n in range(2**num_vertices):\n",
    "            bitlist.append([int(x) for x in format(n, format_string)])\n",
    "        A = np.array(bitlist)\n",
    "        I,J = np.where(np.triu(self.edges))\n",
    "        edge = np.zeros(2**num_vertices)\n",
    "        for i,j in zip(I,J):\n",
    "            edge += A[:,i]*A[:,j]\n",
    "        cost = np.sum(A,axis=1)*1.0 - edge * num_vertices\n",
    "        energy = np.max(cost)\n",
    "        solutions = A[cost==energy,:]\n",
    "        occupations = (solutions == 1).tolist()\n",
    "        return energy,occupations\n",
    "    \n",
    "    def quantum_annealing(self,simulated=True):\n",
    "        if simulated == True:\n",
    "            sampler = dimod.SimulatedAnnealingSampler()\n",
    "        else:\n",
    "            sampler = EmbeddingComposite(DWaveSampler())\n",
    "        G_nx = self.to_nx()\n",
    "\n",
    "        indep_nodes = dnx.maximum_independent_set(G_nx, sampler)\n",
    "\n",
    "        occupations = np.full(self.num_vertices, False, dtype=bool)\n",
    "        occupations[indep_nodes] = True\n",
    "        \n",
    "        energy = np.sum(occupations)\n",
    "        \n",
    "        return energy,occupations"
   ]
  },
  {
   "cell_type": "code",
   "execution_count": 112,
   "id": "f26e2fbc",
   "metadata": {},
   "outputs": [],
   "source": [
    "class Benchmark():\n",
    "    def __init__(self, num_vertices = [5,10,20],num_sample = 20):\n",
    "        self.num_vertices = num_vertices\n",
    "        self.num_sample = num_sample\n",
    "        self.energies = np.zeros((3,len(num_vertices),num_sample))\n",
    "        self.times = np.zeros((3,len(num_vertices),num_sample))\n",
    "        \n",
    "    def benchmark_time(self,keep_occupations=False):\n",
    "        \n",
    "        if keep_occupations:\n",
    "            occupations_b = []\n",
    "        for n,num_vertice in enumerate(self.num_vertices):\n",
    "            occupations_n = []\n",
    "            for s in range(self.num_sample):\n",
    "                occupations_s = []\n",
    "                \n",
    "                #init graph\n",
    "                graph = randomGraph(num_vertice)\n",
    "                graph_c = GraphClass(graph)\n",
    "                \n",
    "                #brute force\n",
    "                tic = time.time()\n",
    "                energy,occupations = graph_c.brute_force()\n",
    "                toc = time.time()\n",
    "                self.energies[0,n,s] = energy\n",
    "                self.times[0,n,s] = toc-tic\n",
    "                if keep_occupations:\n",
    "                    graph_c.occupations = occupations[0]\n",
    "                    graph_c.draw_graph()\n",
    "                    print(energy)\n",
    "#                     occupations_s.append(list(occupations))\n",
    "                \n",
    "                #simulated quantum annealing\n",
    "                tic = time.time()\n",
    "                energy,occupations = graph_c.quantum_annealing()\n",
    "                toc = time.time()\n",
    "                self.energies[1,n,s] = energy\n",
    "                self.times[1,n,s] = toc-tic\n",
    "                if keep_occupations:\n",
    "                    graph_c.occupations = occupations\n",
    "                    graph_c.draw_graph()\n",
    "                    print(energy)\n",
    "#                     occupations_s.append(list(occupations))\n",
    "                \n",
    "#                 #real quantum annealing\n",
    "#                 tic = time.time()\n",
    "#                 energy,occupations = graph_c.quantum_annealing(simulated=False)\n",
    "#                 toc = time.time()\n",
    "#                 self.energies[2,n,s] = energy\n",
    "#                 self.times[2,n,s] = toc-tic\n",
    "#                 if keep_occupations:\n",
    "#                     graph_c.occupations = occupations\n",
    "#                     graph_c.draw_graph()\n",
    "#                     occupations_s.append(list(occupations))\n",
    "                if keep_occupations:\n",
    "                    occupations_n.append(occupations_s)\n",
    "            if keep_occupations:\n",
    "                occupations_b.append(occupations_n)\n",
    "                self.occupations_b = occupations_b\n",
    "    def plot_scatter_benchmark(self):\n",
    "        num_vertices_plot = np.repeat(np.array(self.num_vertices),self.num_sample)\n",
    "        \n",
    "        #plot simulated\n",
    "        diff_energy = self.energies[0]-self.energies[1]\n",
    "        diff_log_time = np.log(self.times[1]/self.times[0])\n",
    "        \n",
    "        plt.scatter(num_vertices_plot,diff_log_time.flatten(),c=diff_energy.flatten())\n",
    "        plt.xlabel('number of vertices')\n",
    "        plt.ylabel('log time difference')\n",
    "        plt.title('simulated quantum annealing, color is the energy loss')\n",
    "        plt.colorbar()\n",
    "    def plot_benchmark(self):\n",
    "        mean_energy_loss = np.mean(bench.energies[0]-bench.energies[1],axis=1)\n",
    "        mean_log_time_diff = np.log(np.mean(bench.times[1]/bench.times[0],axis=1))\n",
    "        num_vertices_plot = np.array(self.num_vertices)\n",
    "        plt.scatter(mean_energy_loss,mean_log_time_diff,c=num_vertices_plot)\n",
    "        plt.xlabel('energy loss')\n",
    "        plt.ylabel('log time difference')\n",
    "        plt.title('simulated quantum annealing, color is the number of vertices')\n",
    "        plt.colorbar()\n",
    "        "
   ]
  },
  {
   "cell_type": "code",
   "execution_count": 108,
   "id": "42368338",
   "metadata": {},
   "outputs": [],
   "source": [
    "bench = Benchmark([10,11],num_sample=20)"
   ]
  },
  {
   "cell_type": "code",
   "execution_count": 109,
   "id": "6b4cfca1",
   "metadata": {},
   "outputs": [],
   "source": [
    "bench.benchmark_time()\n",
    "# bench.benchmark_time(keep_occupations=True)"
   ]
  },
  {
   "cell_type": "code",
   "execution_count": 111,
   "id": "174c4e39",
   "metadata": {},
   "outputs": [
    {
     "data": {
      "image/png": "[encoded data removed]",
      "text/plain": [
       "<Figure size 432x288 with 2 Axes>"
      ]
     },
     "metadata": {
      "needs_background": "light"
     },
     "output_type": "display_data"
    }
   ],
   "source": [
    "bench.plot_scatter_benchmark()"
   ]
  },
  {
   "cell_type": "code",
   "execution_count": 110,
   "id": "dc860083",
   "metadata": {},
   "outputs": [
    {
     "data": {
      "image/png": "[encoded data removed]",
      "text/plain": [
       "<Figure size 432x288 with 2 Axes>"
      ]
     },
     "metadata": {
      "needs_background": "light"
     },
     "output_type": "display_data"
    }
   ],
   "source": [
    "bench.plot_benchmark()"
   ]
  },
  {
   "cell_type": "code",
   "execution_count": 114,
   "id": "804ce3ae",
   "metadata": {},
   "outputs": [],
   "source": [
    "bench = Benchmark(list(range(10,24,3)),num_sample=10)"
   ]
  },
  {
   "cell_type": "code",
   "execution_count": 115,
   "id": "35e09300",
   "metadata": {},
   "outputs": [],
   "source": [
    "bench.benchmark_time()"
   ]
  },
  {
   "cell_type": "code",
   "execution_count": 116,
   "id": "fb2ceac2",
   "metadata": {},
   "outputs": [
    {
     "data": {
      "image/png": "[encoded data removed]",
      "text/plain": [
       "<Figure size 432x288 with 2 Axes>"
      ]
     },
     "metadata": {
      "needs_background": "light"
     },
     "output_type": "display_data"
    }
   ],
   "source": [
    "bench.plot_scatter_benchmark()"
   ]
  },
  {
   "cell_type": "code",
   "execution_count": 117,
   "id": "4681d5ba",
   "metadata": {},
   "outputs": [
    {
     "data": {
      "image/png": "[encoded data removed]",
      "text/plain": [
       "<Figure size 432x288 with 2 Axes>"
      ]
     },
     "metadata": {
      "needs_background": "light"
     },
     "output_type": "display_data"
    }
   ],
   "source": [
    "bench.plot_benchmark()"
   ]
  },
  {
   "cell_type": "code",
   "execution_count": null,
   "id": "f5a4f922",
   "metadata": {},
   "outputs": [],
   "source": []
  }
 ],
 "metadata": {
  "kernelspec": {
   "display_name": "Python 3",
   "language": "python",
   "name": "python3"
  },
  "language_info": {
   "codemirror_mode": {
    "name": "ipython",
    "version": 3
   },
   "file_extension": ".py",
   "mimetype": "text/x-python",
   "name": "python",
   "nbconvert_exporter": "python",
   "pygments_lexer": "ipython3",
   "version": "3.9.5"
  }
 },
 "nbformat": 4,
 "nbformat_minor": 5
}
