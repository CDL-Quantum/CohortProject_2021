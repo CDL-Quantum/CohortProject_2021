{
 "cells": [
  {
   "cell_type": "markdown",
   "id": "91db495e-f5c4-40a8-a947-91f22ef025c4",
   "metadata": {},
   "source": [
    "# UD-MIS via QAOA"
   ]
  },
  {
   "cell_type": "markdown",
   "id": "fa92dad4-0f40-41b8-9b72-49b2aa8c48ff",
   "metadata": {},
   "source": [
    "**Software**: PennyLane <br>\n",
    "**Hardware**: (1) AWS Braket Simulator-SV1, (2) IonQ"
   ]
  },
  {
   "cell_type": "code",
   "execution_count": 18,
   "id": "703d66d2-e52c-4648-9c67-7f172dc90d75",
   "metadata": {},
   "outputs": [],
   "source": [
    "import pennylane as qml\n",
    "from pennylane import numpy as np\n",
    "from pennylane import qaoa\n",
    "\n",
    "import networkx as nx\n",
    "import matplotlib.pyplot as plt"
   ]
  },
  {
   "cell_type": "markdown",
   "id": "4131a638-7f6a-4eb0-be35-1b8523cfd628",
   "metadata": {},
   "source": [
    "Initial point seed"
   ]
  },
  {
   "cell_type": "code",
   "execution_count": 3,
   "id": "19b2c45e-56f3-492b-9224-9ae54c05acfd",
   "metadata": {},
   "outputs": [],
   "source": [
    "np.random.seed(26)"
   ]
  },
  {
   "cell_type": "markdown",
   "id": "54b56b96-e9cf-4ef2-9cc7-232263236df5",
   "metadata": {},
   "source": [
    "Problem definition"
   ]
  },
  {
   "cell_type": "code",
   "execution_count": 4,
   "id": "8623cb42-d0da-4798-a428-a44f14d44acf",
   "metadata": {},
   "outputs": [],
   "source": [
    "n_wires = 4\n",
    "graph = [(0, 1), (0, 3), (1, 2), (2, 3)]"
   ]
  },
  {
   "cell_type": "code",
   "execution_count": 17,
   "id": "7d9feca8-9c25-41b3-96f2-ffe1eccfb653",
   "metadata": {},
   "outputs": [
    {
     "data": {
      "image/png": "[encoded data removed]",
      "text/plain": [
       "<Figure size 432x288 with 1 Axes>"
      ]
     },
     "metadata": {},
     "output_type": "display_data"
    }
   ],
   "source": [
    "nx_graph = nx.Graph(graph)\n",
    "\n",
    "nx.draw(nx_graph, with_labels=True)\n",
    "plt.show()"
   ]
  },
  {
   "cell_type": "markdown",
   "id": "ded92ba8-0a30-465e-bf8e-02b560d54250",
   "metadata": {},
   "source": [
    "**Cost and Mixer**"
   ]
  },
  {
   "cell_type": "code",
   "execution_count": 21,
   "id": "2c286280-80e7-4685-b5f2-eddead2492a7",
   "metadata": {},
   "outputs": [
    {
     "name": "stdout",
     "output_type": "stream",
     "text": [
      "Cost Hamiltonian   (1) [Z0]\n",
      "+ (1) [Z1]\n",
      "+ (1) [Z3]\n",
      "+ (1) [Z2]\n",
      "Mixer Hamiltonian   (0.25) [X0]\n",
      "+ (0.25) [X1]\n",
      "+ (0.25) [X3]\n",
      "+ (0.25) [X2]\n",
      "+ (0.25) [X0 Z3]\n",
      "+ (0.25) [X0 Z1]\n",
      "+ (0.25) [X1 Z2]\n",
      "+ (0.25) [X1 Z0]\n",
      "+ (0.25) [X3 Z2]\n",
      "+ (0.25) [X3 Z0]\n",
      "+ (0.25) [X2 Z3]\n",
      "+ (0.25) [X2 Z1]\n",
      "+ (0.25) [X0 Z1 Z3]\n",
      "+ (0.25) [X1 Z0 Z2]\n",
      "+ (0.25) [X3 Z0 Z2]\n",
      "+ (0.25) [X2 Z1 Z3]\n"
     ]
    }
   ],
   "source": [
    "cost_h, mixer_h = qaoa.max_independent_set(nx_graph, constrained=True)\n",
    "\n",
    "print(\"Cost Hamiltonian\", cost_h)\n",
    "print(\"Mixer Hamiltonian\", mixer_h)"
   ]
  },
  {
   "cell_type": "markdown",
   "id": "8dc3f86a-c859-404d-80bb-a2cd21d99eaf",
   "metadata": {},
   "source": [
    "**QAOA construction**"
   ]
  },
  {
   "cell_type": "code",
   "execution_count": 22,
   "id": "3a64cb69-fbed-4144-a1e4-6f5caf1ea132",
   "metadata": {},
   "outputs": [],
   "source": [
    "def qaoa_layer(gamma, alpha):\n",
    "    qaoa.cost_layer(gamma, cost_h)\n",
    "    qaoa.mixer_layer(alpha, mixer_h)"
   ]
  },
  {
   "cell_type": "code",
   "execution_count": 23,
   "id": "b24723f3-fc05-41a7-b060-378e3aeb428d",
   "metadata": {},
   "outputs": [],
   "source": [
    "wires = range(4)\n",
    "depth = 2\n",
    "\n",
    "def circuit(params, **kwargs):\n",
    "    for w in wires:\n",
    "        qml.Hadamard(wires=w)\n",
    "    qml.layer(qaoa_layer, depth, params[0], params[1])"
   ]
  },
  {
   "cell_type": "code",
   "execution_count": 25,
   "id": "6f95e17e-ae6c-4b82-a3c8-1632452af287",
   "metadata": {},
   "outputs": [],
   "source": [
    "dev = qml.device(\"default.qubit\", wires=wires)\n",
    "cost_function = qml.ExpvalCost(circuit, cost_h, dev)"
   ]
  },
  {
   "cell_type": "markdown",
   "id": "9b9fb8b4-4cc4-43ac-89b8-4a491c894156",
   "metadata": {},
   "source": [
    "**SGD Optimization**"
   ]
  },
  {
   "cell_type": "code",
   "execution_count": 26,
   "id": "742bc06b-e8fc-4ffb-939c-c4a5eadaf32f",
   "metadata": {},
   "outputs": [],
   "source": [
    "optimizer = qml.GradientDescentOptimizer()\n",
    "steps = 70\n",
    "params = [[0.5, 0.5], [0.5, 0.5]]"
   ]
  },
  {
   "cell_type": "code",
   "execution_count": 27,
   "id": "5ad39e1a-8507-4404-8e03-a2a99c7c9a56",
   "metadata": {},
   "outputs": [
    {
     "name": "stdout",
     "output_type": "stream",
     "text": [
      "Optimal Parameters\n",
      "[[0.8920698839400695, 0.3719046134789388], [0.8166937045106254, 1.2009856407425092]]\n"
     ]
    }
   ],
   "source": [
    "for i in range(steps):\n",
    "    params = optimizer.step(cost_function, params)\n",
    "\n",
    "print(\"Optimal Parameters\")\n",
    "print(params)"
   ]
  },
  {
   "cell_type": "code",
   "execution_count": 28,
   "id": "24aa017a-2cf3-475e-9cca-6742d622b41b",
   "metadata": {},
   "outputs": [],
   "source": [
    "@qml.qnode(dev)\n",
    "def probability_circuit(gamma, alpha):\n",
    "    circuit([gamma, alpha])\n",
    "    return qml.probs(wires=wires)\n",
    "\n",
    "\n",
    "probs = probability_circuit(params[0], params[1])"
   ]
  },
  {
   "cell_type": "code",
   "execution_count": 29,
   "id": "bd0d6bba-e00a-430f-99f8-6c8dab5a30a8",
   "metadata": {},
   "outputs": [
    {
     "data": {
      "image/png": "[encoded data removed]",
      "text/plain": [
       "<Figure size 576x396 with 1 Axes>"
      ]
     },
     "metadata": {},
     "output_type": "display_data"
    }
   ],
   "source": [
    "plt.style.use(\"seaborn\")\n",
    "plt.bar(range(2 ** len(wires)), probs)\n",
    "plt.show()"
   ]
  },
  {
   "cell_type": "markdown",
   "id": "fc4085cf-0fa8-4fbc-b08d-69ea2f2ead78",
   "metadata": {},
   "source": [
    "**SGD vs ADAM (vs Adagrad)**"
   ]
  },
  {
   "cell_type": "code",
   "execution_count": 42,
   "id": "5fdeeb7e-b4bb-4388-9e24-4a5a29e10093",
   "metadata": {},
   "outputs": [],
   "source": [
    "steps = 200\n",
    "init_params = [[0.5, 0.5], [0.5, 0.5]]"
   ]
  },
  {
   "cell_type": "code",
   "execution_count": 34,
   "id": "fc0b16d7-f7fc-46a1-854c-5cf774331664",
   "metadata": {},
   "outputs": [],
   "source": [
    "gd_cost = []\n",
    "opt = qml.GradientDescentOptimizer(0.01)\n",
    "\n",
    "theta = init_params\n",
    "for _ in range(steps):\n",
    "    theta = opt.step(cost_function, theta)\n",
    "    gd_cost.append(cost_function(theta))"
   ]
  },
  {
   "cell_type": "code",
   "execution_count": 36,
   "id": "074a891c-aeb2-4e81-aa74-93c15e1865d1",
   "metadata": {},
   "outputs": [],
   "source": [
    "adam_cost = []\n",
    "opt = qml.AdamOptimizer(stepsize=0.01)\n",
    "\n",
    "theta = init_params\n",
    "for _ in range(steps):\n",
    "    theta = opt.step(cost_function, theta)\n",
    "    adam_cost.append(cost_function(theta))"
   ]
  },
  {
   "cell_type": "code",
   "execution_count": 43,
   "id": "00ef3b27-e06f-4ea4-8981-24fab36cb1e8",
   "metadata": {},
   "outputs": [],
   "source": [
    "adagrad_cost = []\n",
    "opt = qml.AdagradOptimizer(stepsize=0.01)\n",
    "\n",
    "theta = init_params\n",
    "for _ in range(steps):\n",
    "    theta = opt.step(cost_function, theta)\n",
    "    adagrad_cost.append(cost_function(theta))"
   ]
  },
  {
   "cell_type": "code",
   "execution_count": 44,
   "id": "3137f832-e4e6-41b7-910f-5b58a31a8aaa",
   "metadata": {},
   "outputs": [
    {
     "data": {
      "image/png": "[encoded data removed]",
      "text/plain": [
       "<Figure size 576x396 with 1 Axes>"
      ]
     },
     "metadata": {},
     "output_type": "display_data"
    }
   ],
   "source": [
    "plt.style.use(\"seaborn\")\n",
    "plt.plot(gd_cost, \"b\", label=\"Vanilla gradient descent\")\n",
    "plt.plot(adam_cost, \"g\", label=\"ADAM\")\n",
    "plt.plot(adagrad_cost, \"r\", label=\"Adagrad\")\n",
    "\n",
    "plt.ylabel(\"Cost function value\")\n",
    "plt.xlabel(\"Optimization steps\")\n",
    "plt.legend()\n",
    "plt.show()"
   ]
  },
  {
   "cell_type": "code",
   "execution_count": null,
   "id": "0005e896-6b1e-4748-b727-818f3842a10a",
   "metadata": {},
   "outputs": [],
   "source": []
  }
 ],
 "metadata": {
  "kernelspec": {
   "display_name": "week2_cohort_venv",
   "language": "python",
   "name": "week2_cohort_venv"
  },
  "language_info": {
   "codemirror_mode": {
    "name": "ipython",
    "version": 3
   },
   "file_extension": ".py",
   "mimetype": "text/x-python",
   "name": "python",
   "nbconvert_exporter": "python",
   "pygments_lexer": "ipython3",
   "version": "3.8.6"
  }
 },
 "nbformat": 4,
 "nbformat_minor": 5
}
