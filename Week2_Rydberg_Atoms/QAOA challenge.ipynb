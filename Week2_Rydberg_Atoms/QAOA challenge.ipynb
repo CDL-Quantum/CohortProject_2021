{
 "cells": [
  {
   "cell_type": "markdown",
   "id": "91db495e-f5c4-40a8-a947-91f22ef025c4",
   "metadata": {},
   "source": [
    "# UD-MIS via QAOA"
   ]
  },
  {
   "cell_type": "markdown",
   "id": "fa92dad4-0f40-41b8-9b72-49b2aa8c48ff",
   "metadata": {},
   "source": [
    "**Software**: PennyLane <br>\n",
    "**Hardware**: (1) AWS Braket Simulator-SV1, (2) IonQ"
   ]
  },
  {
   "cell_type": "code",
   "execution_count": 1,
   "id": "703d66d2-e52c-4648-9c67-7f172dc90d75",
   "metadata": {},
   "outputs": [],
   "source": [
    "import pennylane as qml\n",
    "# from pennylane import numpy as np\n",
    "import numpy as np\n",
    "from pennylane import qaoa\n",
    "\n",
    "import networkx as nx\n",
    "import matplotlib.pyplot as plt"
   ]
  },
  {
   "cell_type": "markdown",
   "id": "77491f78-b563-4929-9a25-d6fce89e7f35",
   "metadata": {},
   "source": [
    "Helper function: for Graph construction"
   ]
  },
  {
   "cell_type": "code",
   "execution_count": 2,
   "id": "926b0787-6faa-4ddc-9c58-cf94b8480ecd",
   "metadata": {},
   "outputs": [],
   "source": [
    "def find_edges(points):\n",
    "    #num_pairs = int(self.num_vertices*(self.num_vertices)*0.5)\n",
    "    n = len(points)\n",
    "    edges = np.zeros((n, n), dtype=bool)\n",
    "\n",
    "    for i in range(n-1):\n",
    "        x_i, y_i = points[i] # these are the x, y coordinates of the i'th vertex in the graph\n",
    "        for j in range(i+1, n):\n",
    "            x_j, y_j = points[j] # these are the x, y coordinates of the j'th vertex in the graph\n",
    "\n",
    "            # calculate the distance between vertices\n",
    "            dij = np.sqrt((x_i - x_j)**2. + (y_i - y_j)**2.)\n",
    "            if dij <= 1.0:\n",
    "                edges[i,j] = True\n",
    "                edges[j,i] = True\n",
    "\n",
    "    return edges"
   ]
  },
  {
   "cell_type": "markdown",
   "id": "54b56b96-e9cf-4ef2-9cc7-232263236df5",
   "metadata": {},
   "source": [
    "Problem definition"
   ]
  },
  {
   "cell_type": "code",
   "execution_count": 16,
   "id": "f74b01be-363a-4fc1-9048-d9917c7b4e85",
   "metadata": {},
   "outputs": [],
   "source": [
    "points = [(0.3461717838632017, 1.4984640297338632), \n",
    "         (0.6316400411846113, 2.5754677320579895), \n",
    "         (1.3906262250927481, 2.164978861396621), \n",
    "         (0.66436005100802, 0.6717919819739032), \n",
    "         (0.8663329771713457, 3.3876341010035995), \n",
    "         (1.1643107343501296, 1.0823066243402013)\n",
    "        ]"
   ]
  },
  {
   "cell_type": "code",
   "execution_count": 4,
   "id": "9361fe2e-4ebf-4443-8168-c2fabe962cc9",
   "metadata": {},
   "outputs": [],
   "source": [
    "num_vertices = 10\n",
    "points = []\n",
    "for i in range(num_vertices):\n",
    "    points.append((np.random.rand()*np.random.randint(8), np.random.rand()*np.random.randint(8)))"
   ]
  },
  {
   "cell_type": "code",
   "execution_count": 17,
   "id": "6559d152-a3b1-4986-9f1e-e3ab78a59e48",
   "metadata": {},
   "outputs": [
    {
     "data": {
      "text/plain": [
       "[(0.3461717838632017, 1.4984640297338632),\n",
       " (0.6316400411846113, 2.5754677320579895),\n",
       " (1.3906262250927481, 2.164978861396621),\n",
       " (0.66436005100802, 0.6717919819739032),\n",
       " (0.8663329771713457, 3.3876341010035995),\n",
       " (1.1643107343501296, 1.0823066243402013)]"
      ]
     },
     "execution_count": 17,
     "metadata": {},
     "output_type": "execute_result"
    }
   ],
   "source": [
    "points"
   ]
  },
  {
   "cell_type": "code",
   "execution_count": 18,
   "id": "f51044da-6821-4c70-9f9e-761d6a4ec2ae",
   "metadata": {},
   "outputs": [
    {
     "data": {
      "image/png": "[encoded data removed]",
      "text/plain": [
       "<Figure size 576x396 with 1 Axes>"
      ]
     },
     "metadata": {},
     "output_type": "display_data"
    }
   ],
   "source": [
    "edges = find_edges(points)\n",
    "\n",
    "nx_graph = nx.from_numpy_array(edges)\n",
    "nx.draw(nx_graph, with_labels=True)\n",
    "plt.show()"
   ]
  },
  {
   "cell_type": "markdown",
   "id": "ded92ba8-0a30-465e-bf8e-02b560d54250",
   "metadata": {},
   "source": [
    "**Cost and Mixer**"
   ]
  },
  {
   "cell_type": "code",
   "execution_count": 26,
   "id": "2c286280-80e7-4685-b5f2-eddead2492a7",
   "metadata": {},
   "outputs": [
    {
     "name": "stdout",
     "output_type": "stream",
     "text": [
      "Cost Hamiltonian   (-0.5) [Z0]\n",
      "+ (-0.5) [Z3]\n",
      "+ (-0.5) [Z5]\n",
      "+ (-0.5) [Z1]\n",
      "+ (0.25) [Z2]\n",
      "+ (0.25) [Z4]\n",
      "+ (0.75) [Z0 Z3]\n",
      "+ (0.75) [Z0 Z5]\n",
      "+ (0.75) [Z1 Z2]\n",
      "+ (0.75) [Z1 Z4]\n",
      "+ (0.75) [Z3 Z5]\n",
      "Mixer Hamiltonian   (1) [X0]\n",
      "+ (1) [X1]\n",
      "+ (1) [X2]\n",
      "+ (1) [X3]\n",
      "+ (1) [X4]\n",
      "+ (1) [X5]\n"
     ]
    }
   ],
   "source": [
    "cost_h, mixer_h = qaoa.max_independent_set(nx_graph, constrained=False)\n",
    "\n",
    "print(\"Cost Hamiltonian\", cost_h)\n",
    "print(\"Mixer Hamiltonian\", mixer_h)"
   ]
  },
  {
   "cell_type": "markdown",
   "id": "8dc3f86a-c859-404d-80bb-a2cd21d99eaf",
   "metadata": {},
   "source": [
    "**QAOA construction**"
   ]
  },
  {
   "cell_type": "code",
   "execution_count": 27,
   "id": "3a64cb69-fbed-4144-a1e4-6f5caf1ea132",
   "metadata": {},
   "outputs": [],
   "source": [
    "def qaoa_layer(gamma, alpha):\n",
    "    qaoa.cost_layer(gamma, cost_h)\n",
    "    qaoa.mixer_layer(alpha, mixer_h)"
   ]
  },
  {
   "cell_type": "code",
   "execution_count": 28,
   "id": "b24723f3-fc05-41a7-b060-378e3aeb428d",
   "metadata": {},
   "outputs": [],
   "source": [
    "wires = range(len(points))\n",
    "depth = 2\n",
    "\n",
    "def circuit(params, **kwargs):\n",
    "    for w in wires:\n",
    "        qml.Hadamard(wires=w)\n",
    "    qml.layer(qaoa_layer, depth, *params)"
   ]
  },
  {
   "cell_type": "code",
   "execution_count": 29,
   "id": "6f95e17e-ae6c-4b82-a3c8-1632452af287",
   "metadata": {},
   "outputs": [],
   "source": [
    "dev = qml.device(\"default.qubit\", wires=wires)\n",
    "cost_function = qml.ExpvalCost(circuit, cost_h, dev)"
   ]
  },
  {
   "cell_type": "markdown",
   "id": "9b9fb8b4-4cc4-43ac-89b8-4a491c894156",
   "metadata": {},
   "source": [
    "**SGD Optimization**"
   ]
  },
  {
   "cell_type": "code",
   "execution_count": 53,
   "id": "742bc06b-e8fc-4ffb-939c-c4a5eadaf32f",
   "metadata": {},
   "outputs": [],
   "source": [
    "optimizer = qml.GradientDescentOptimizer()\n",
    "steps = 100\n",
    "# params = [[0.5, 0.5], [0.5, 0.5]]\n",
    "params = np.random.uniform(0, 2 * np.pi, (2, depth))\n",
    "params"
   ]
  },
  {
   "cell_type": "code",
   "execution_count": 54,
   "id": "5ad39e1a-8507-4404-8e03-a2a99c7c9a56",
   "metadata": {},
   "outputs": [
    {
     "name": "stdout",
     "output_type": "stream",
     "text": [
      "Optimal Parameters\n",
      "[[2.47642007 4.28608094]\n",
      " [3.33034206 4.50972266]]\n"
     ]
    }
   ],
   "source": [
    "gd_cost = []\n",
    "\n",
    "for i in range(steps):\n",
    "    params = optimizer.step(cost_function, params)\n",
    "    gd_cost.append(cost_function(params))\n",
    "\n",
    "print(\"Optimal Parameters\")\n",
    "print(params)"
   ]
  },
  {
   "cell_type": "code",
   "execution_count": 55,
   "id": "4f4a042a-b41f-4aa6-94e5-cb71b3b81fab",
   "metadata": {},
   "outputs": [
    {
     "data": {
      "image/png": "[encoded data removed]",
      "text/plain": [
       "<Figure size 576x396 with 1 Axes>"
      ]
     },
     "metadata": {},
     "output_type": "display_data"
    }
   ],
   "source": [
    "plt.style.use(\"seaborn\")\n",
    "plt.plot(gd_cost, \"b\", label=\"Vanilla gradient descent\")\n",
    "\n",
    "plt.ylabel(\"Cost function value\")\n",
    "plt.xlabel(\"Optimization steps\")\n",
    "plt.legend()\n",
    "plt.show()"
   ]
  },
  {
   "cell_type": "code",
   "execution_count": 56,
   "id": "24aa017a-2cf3-475e-9cca-6742d622b41b",
   "metadata": {},
   "outputs": [],
   "source": [
    "@qml.qnode(dev)\n",
    "def probability_circuit(gamma, alpha):\n",
    "    circuit([gamma, alpha])\n",
    "    return qml.probs(wires=wires)\n",
    "\n",
    "\n",
    "probs = probability_circuit(params[0], params[1])"
   ]
  },
  {
   "cell_type": "code",
   "execution_count": 57,
   "id": "10466645-403c-4f62-9fd8-22ba5af2bbe2",
   "metadata": {},
   "outputs": [
    {
     "data": {
      "text/plain": [
       "[False, True, False, False, False, True]"
      ]
     },
     "execution_count": 57,
     "metadata": {},
     "output_type": "execute_result"
    }
   ],
   "source": [
    "occ_index = probs.tolist().index(max(probs))\n",
    "occupation = '{0:06b}'.format(occ_index)\n",
    "occ_bools = [bool(int(occ)) for occ in occupation]\n",
    "occ_bools"
   ]
  },
  {
   "cell_type": "code",
   "execution_count": 58,
   "id": "bd0d6bba-e00a-430f-99f8-6c8dab5a30a8",
   "metadata": {},
   "outputs": [
    {
     "data": {
      "image/png": "[encoded data removed]",
      "text/plain": [
       "<Figure size 576x396 with 1 Axes>"
      ]
     },
     "metadata": {},
     "output_type": "display_data"
    }
   ],
   "source": [
    "plt.style.use(\"seaborn\")\n",
    "plt.bar(range(2 ** len(wires)), probs)\n",
    "plt.show()"
   ]
  },
  {
   "cell_type": "code",
   "execution_count": 59,
   "id": "f044d3ba-31a8-4bfa-9f86-bd97c00076af",
   "metadata": {},
   "outputs": [
    {
     "data": {
      "image/png": "[encoded data removed]",
      "text/plain": [
       "<Figure size 720x360 with 1 Axes>"
      ]
     },
     "metadata": {},
     "output_type": "display_data"
    }
   ],
   "source": [
    "occ_index = probs.tolist().index(max(probs))\n",
    "occ_string = '{0:06b}'.format(occ_index)\n",
    "occupation = [bool(int(occ)) for occ in occupation]\n",
    "# occupation = udmis.occupations\n",
    "fig = plt.figure(figsize = (10,5))\n",
    "ax = fig.add_subplot(111, aspect =1)\n",
    "for i in range(len(points)):\n",
    "    x,y = points[i]\n",
    "    circle = plt.Circle((x,y), 0.5, edgecolor='black', alpha = 0.5,\n",
    "                        facecolor='r' if occupation[i] else 'b',fill=True)\n",
    "    ax.add_patch(circle)\n",
    "    plt.text(x-0.08,y-0.05, i+1, fontsize=15)\n",
    "plt.title('Number of Vertices: {:d}\\nSize of the MIS: {:d}'.format(len(points),sum(occupation)))\n",
    "ax.autoscale()\n",
    "plt.show()"
   ]
  },
  {
   "cell_type": "markdown",
   "id": "fc4085cf-0fa8-4fbc-b08d-69ea2f2ead78",
   "metadata": {},
   "source": [
    "**SGD vs ADAM (vs Adagrad)**"
   ]
  },
  {
   "cell_type": "code",
   "execution_count": 37,
   "id": "5fdeeb7e-b4bb-4388-9e24-4a5a29e10093",
   "metadata": {},
   "outputs": [],
   "source": [
    "steps = 100\n",
    "init_params = params"
   ]
  },
  {
   "cell_type": "code",
   "execution_count": 34,
   "id": "fc0b16d7-f7fc-46a1-854c-5cf774331664",
   "metadata": {},
   "outputs": [],
   "source": [
    "gd_cost = []\n",
    "opt = qml.GradientDescentOptimizer(0.01)\n",
    "\n",
    "theta = init_params\n",
    "for _ in range(steps):\n",
    "    theta = opt.step(cost_function, theta)\n",
    "    gd_cost.append(cost_function(theta))"
   ]
  },
  {
   "cell_type": "code",
   "execution_count": 38,
   "id": "074a891c-aeb2-4e81-aa74-93c15e1865d1",
   "metadata": {},
   "outputs": [],
   "source": [
    "adam_cost = []\n",
    "opt = qml.AdamOptimizer(stepsize=0.01)\n",
    "\n",
    "theta = init_params\n",
    "for _ in range(steps):\n",
    "    theta = opt.step(cost_function, theta)\n",
    "    adam_cost.append(cost_function(theta))"
   ]
  },
  {
   "cell_type": "code",
   "execution_count": 39,
   "id": "3137f832-e4e6-41b7-910f-5b58a31a8aaa",
   "metadata": {},
   "outputs": [
    {
     "data": {
      "image/png": "[encoded data removed]",
      "text/plain": [
       "<Figure size 576x396 with 1 Axes>"
      ]
     },
     "metadata": {},
     "output_type": "display_data"
    }
   ],
   "source": [
    "plt.style.use(\"seaborn\")\n",
    "plt.plot(gd_cost, \"b\", label=\"Vanilla gradient descent\")\n",
    "plt.plot(adam_cost, \"g\", label=\"ADAM\")\n",
    "\n",
    "plt.ylabel(\"Cost function value\")\n",
    "plt.xlabel(\"Optimization steps\")\n",
    "plt.legend()\n",
    "plt.show()"
   ]
  },
  {
   "cell_type": "code",
   "execution_count": null,
   "id": "0005e896-6b1e-4748-b727-818f3842a10a",
   "metadata": {},
   "outputs": [],
   "source": []
  }
 ],
 "metadata": {
  "kernelspec": {
   "display_name": "week2_cohort_venv",
   "language": "python",
   "name": "week2_cohort_venv"
  },
  "language_info": {
   "codemirror_mode": {
    "name": "ipython",
    "version": 3
   },
   "file_extension": ".py",
   "mimetype": "text/x-python",
   "name": "python",
   "nbconvert_exporter": "python",
   "pygments_lexer": "ipython3",
   "version": "3.8.6"
  }
 },
 "nbformat": 4,
 "nbformat_minor": 5
}
