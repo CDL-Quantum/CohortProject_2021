{
 "cells": [
  {
   "cell_type": "markdown",
   "id": "d16c4eae",
   "metadata": {},
   "source": [
    "![Quantum](../figures/logo.png)"
   ]
  },
  {
   "cell_type": "markdown",
   "id": "8ce60bca",
   "metadata": {},
   "source": [
    "\\\n",
    "\\\n",
    " <center> <font size=\"10\">  Quantum <font color='blue'>**Strategy**  </font> </center>\n",
    " ___________\n",
    " \n",
    " "
   ]
  },
  {
   "cell_type": "markdown",
   "id": "033f6444",
   "metadata": {},
   "source": [
    "Quantum Strategy is a team of physicist, software engineer, and data scientist who helps companies make improvements through technology, particulary specialized in optimization algorithm and quantum computation. We empower the business and governemnt by providing optimized solution via calculating heavy and difficulat problem with modern computer and quantum computer such as D-wave.\n",
    "\n",
    "Our company focuses on very simple problem. Can salesman travel without too much headache? Often time salesman needs to decide where to go to make most profit. Seems very small problem, but it is the problem that many business and organization need to solve in order to make scalable business and make optimum decisions. Where to build next Starbucks to optimize the benfits in Newyork? how many cell phone tower we need to cover the United states? and where to locate tornado shelter to save more people in the city in Oklahoma. Unfortunately, this problem is proven to be NP hard problem, and many scinetists are still trying to optimize nowadays. \n",
    "\n",
    "However, with recent innovation in quantum physics, quantum computer can be calculated much faster than what the best super-computer can calculate. By taking advantage of those innovation, we are confident we can empower company by optimal and succesful decision which can save millions of dollars. "
   ]
  },
  {
   "cell_type": "markdown",
   "id": "350ac52d",
   "metadata": {},
   "source": [
    " \\\n",
    " \\\n",
    " <center> <font size=\"10\"> Our <font color='blue'>**Solution** </font>  </font> </center>\n",
    " _________________\n",
    " "
   ]
  },
  {
   "cell_type": "markdown",
   "id": "3f7332d5",
   "metadata": {},
   "source": [
    "Our company is interested in solution via using nutural atom called Ryberg atom. From modeling the quantum system, we can provide solutions from miltary decisions of locating troop to city planning. To demonstratation purpose, we show two examples of how our algorithm can be helpful to your business. "
   ]
  },
  {
   "cell_type": "markdown",
   "id": "b2f31494",
   "metadata": {},
   "source": [
    " <font size=\"6\"> <font color='blue'> **S1** </font>  New Franchiese  </font>"
   ]
  },
  {
   "cell_type": "markdown",
   "id": "e2720808",
   "metadata": {},
   "source": [
    "<img src=\"../figures/f1.png\" alt=\"fishy\" class=\"bg-primary mb-1\" width=\"500px\">\n",
    "<br>\n",
    "<center> <font size=\"4\"> <strong> Starbucks, Manhattan NY</strong> </font>  </font> </center>\n",
    "\n"
   ]
  },
  {
   "cell_type": "markdown",
   "id": "e8ceef5a",
   "metadata": {},
   "source": [
    "We all have seen the rise and fall of subway restaurants as they expand their franchiese aggressively. This is the common mistake that many business often fall into. Openning new franchieses in new location can often cause negative revenue if the location and traffic is not optimized. This will not only reduce company's revenue, but reduce the local franchiese owner's failure rate and influence the product quality. To avoid such failure, we provide optimize with factors such as human traffic, population density, and landprice by changing the potential of the each atom (which is shown in figure with different circle radius). This information can be helpful to decide elimination of franchiese or planning for new area to optimize the revenue and minizie the risk. Company can use the knowlege to make decision which can save company's time and money. "
   ]
  },
  {
   "cell_type": "markdown",
   "id": "c190df29",
   "metadata": {},
   "source": [
    " <font size=\"6\"> <font color='blue'> **S2** </font>  Next Franchiese  </font>"
   ]
  },
  {
   "cell_type": "markdown",
   "id": "f379a647",
   "metadata": {},
   "source": [
    "With slight twist of previous solution, we can also suggest where can be the next best location for new franchieses to operate in the area. "
   ]
  },
  {
   "cell_type": "markdown",
   "id": "d418c5a8",
   "metadata": {},
   "source": [
    " \\\n",
    " \\\n",
    " <center> <font size=\"8\"> Our <font color='blue'>**Team** </font>  </font> </center>"
   ]
  },
  {
   "cell_type": "code",
   "execution_count": null,
   "id": "efcbd99f",
   "metadata": {},
   "outputs": [],
   "source": []
  },
  {
   "cell_type": "markdown",
   "id": "3cfa0da3",
   "metadata": {},
   "source": [
    "![CDL 2020 Cohort Project](../figures/CDL_logo.jpg)"
   ]
  }
 ],
 "metadata": {
  "kernelspec": {
   "display_name": "Python 3",
   "language": "python",
   "name": "python3"
  },
  "language_info": {
   "codemirror_mode": {
    "name": "ipython",
    "version": 3
   },
   "file_extension": ".py",
   "mimetype": "text/x-python",
   "name": "python",
   "nbconvert_exporter": "python",
   "pygments_lexer": "ipython3",
   "version": "3.8.10"
  },
  "toc": {
   "base_numbering": 1,
   "nav_menu": {},
   "number_sections": true,
   "sideBar": true,
   "skip_h1_title": false,
   "title_cell": "Table of Contents",
   "title_sidebar": "Contents",
   "toc_cell": false,
   "toc_position": {},
   "toc_section_display": true,
   "toc_window_display": false
  }
 },
 "nbformat": 4,
 "nbformat_minor": 5
}
