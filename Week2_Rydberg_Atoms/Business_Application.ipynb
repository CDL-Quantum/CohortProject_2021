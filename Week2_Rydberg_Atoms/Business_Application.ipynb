{
 "cells": [
  {
   "cell_type": "markdown",
   "id": "4aa79a8d",
   "metadata": {},
   "source": [
    "![Quantum logo](../figures/logo.png)"
   ]
  },
  {
   "cell_type": "markdown",
   "id": "f475421b",
   "metadata": {},
   "source": [
    " <center> <font size=\"10\">  Quantum <font color='blue'> <strong> Strategy </strong>  </font> </center>\n",
    " __________________________________________________________________________________________\n",
    " \n",
    " "
   ]
  },
  {
   "cell_type": "markdown",
   "id": "3c6f1758",
   "metadata": {},
   "source": [
    "Quantum Strategy is a team of physicist, software engineer, and data scientist who helps companies make improvements through technology, particulary specialized in optimization algorithm and quantum computation. We empower the business and governemnt by providing optimized solution via calculating heavy and difficulat problem with modern computer and quantum computer such as D-wave.\n",
    "\n",
    "Our company focuses on very simple problem. Can salesman travel without too much headache? Often time salesman needs to decide where to go to make most profit. Seems very small problem, but it is the problem that many business and organization need to solve in order to make scalable business and make optimum decisions. Where to build next Starbucks to optimize the benfits in Newyork? how many cell phone tower we need to cover the United states? and where to locate tornado shelter to save more people in the city in Oklahoma. Unfortunately, this problem is proven to be NP hard problem, and many scinetists are still trying to optimize nowadays. \n",
    "\n",
    "However, with recent innovation in quantum physics, quantum computer can be calculated much faster than what the best super-computer can calculate. By taking advantage of those innovation, we are confident we can empower company by optimal and succesful decision which can save millions of dollars. "
   ]
  },
  {
   "cell_type": "markdown",
   "id": "b6351881",
   "metadata": {},
   "source": [
    "\n",
    " <center> <font size=\"10\"> Our <font color='blue'> <strong> Solution </strong> </font>  </font> </center>\n",
    " __________________________________________________________________________________________\n",
    " "
   ]
  },
  {
   "cell_type": "markdown",
   "id": "331178c6",
   "metadata": {},
   "source": [
    "Our company is interested in solution via using nutural atom called Ryberg atom. From modeling the quantum system, we can provide solutions from miltary decisions of locating troop to city planning. To demonstratation purpose, we show two examples of how our algorithm can be helpful to your business. "
   ]
  },
  {
   "cell_type": "markdown",
   "id": "0a4e8280",
   "metadata": {},
   "source": [
    " <font size=\"6\"> <font color='blue'> <strong>S1</strong></font>  Eliminate Franchiese   </font>"
   ]
  },
  {
   "cell_type": "markdown",
   "id": "0e40f565",
   "metadata": {},
   "source": [
    "<img src=\"../figures/f1.png\" alt=\"fishy\" class=\"bg-primary mb-1\" width=\"500px\">\n",
    "<br>\n",
    "<center> <font size=\"4\"> <strong> Starbucks, Manhattan NY</strong> </font>  </font> </center>\n",
    "\n"
   ]
  },
  {
   "cell_type": "markdown",
   "id": "f0b4b65c",
   "metadata": {},
   "source": [
    "We all have seen the rise and fall of subway restaurants as they expand their franchiese aggressively. This is the common mistake that many business often fall into. Having too many franchieses in certain location can often cause negative revenue if the location and traffic is not optimized. This will not only reduce company's revenue, but reduce the local franchiese owner's failure rate and influence the product quality. To avoid such failure, we provide optimize with factors such as human traffic, population density, and landprice by changing the potential of the each atom (which is shown in figure with different circle radius). This information can be helpful to decide elimination of franchiese and planning for new area to optimize the revenue and minizie the risk. Company can use the knowlege to make decision which can save company's time and money. "
   ]
  },
  {
   "cell_type": "markdown",
   "id": "9bfa7115",
   "metadata": {},
   "source": [
    " <font size=\"6\"> <font color='blue'><strong>S2</strong> </font>  Next Franchiese  </font>"
   ]
  },
  {
   "cell_type": "markdown",
   "id": "5389c809",
   "metadata": {},
   "source": [
    "<img src=\"../figures/f2.png\" alt=\"fishy\" class=\"bg-primary mb-1\" width=\"400\">\n",
    "<br>\n",
    "<center> <font size=\"4\"> <strong> Starbucks, Oklahoma</strong> </font>  </font> </center>"
   ]
  },
  {
   "cell_type": "markdown",
   "id": "406173b3",
   "metadata": {},
   "source": [
    "Beside optimizing multiple locations of the Franchiese, our solution can be very effective if we want to open up new franchiese for given location. For example, unlike Starbucks in Manhattan, Oklahoma does not have many starbucks. Therefore, there are many possible place that local owner can start the business. To optimize the best profit in Oklahoma, Starbucks can optimize the possible location. This can be simply done by contraining our hamiltonian with given location, and we can optimize the point of interest. This will help the company to detect the rich location faster than other compedator in the field. "
   ]
  },
  {
   "cell_type": "markdown",
   "id": "bb7aff8b",
   "metadata": {},
   "source": [
    " \\\n",
    " \\\n",
    " <center> <font size=\"8\"> Our <font color='blue'> <strong>Team</strong> </font>  </font> </center>\n",
    " __________________________________________________________________________________________"
   ]
  },
  {
   "cell_type": "markdown",
   "id": "8d21d316",
   "metadata": {},
   "source": [
    "\n",
    " **Elijah Cavan** graduated from UWaterloo with a Bsc. Mathematics Physics and from Wilfrid Laurier with an MSc. Mathematics. My research mainly stems in cosmology and N-body systems.\n",
    "\n",
    "**Giuseppe Colucci** Originally from Bari, I moved to Frankfurt ~10y ago for my PhD in Quantum Field Theory. I then moved to Rotterdam, where I lived now for more than 7y, to start working for UL as a software engineer for security of transactions.\n",
    "\n",
    "**Oscar Fanelli** \"Born\" as software engineer 13 years ago, later on switched to a managerial path, founded and grew a start-up as CTO, now working as Head of Engineering, focusing on product, processes and people.\n",
    "\n",
    "**Jose H. Leon-Janampa** I like to research and work on topics that bring some benefit to people. I have a scientific mind but with knowledge of business and finance. I am a theoretical physicist that works in finance for more than 20 years, always trying to apply cutting edge technology to the business.\n",
    "\n",
    "**Saesun Kim** I am a Ph.D. student at experimental quantum optics. As well as my experimental expertise, I am also a Qiskit advocate and co-lead of Qiskit localization.\n",
    "\n"
   ]
  },
  {
   "cell_type": "markdown",
   "id": "e406c62f",
   "metadata": {},
   "source": [
    "![CDL 2020 Cohort Project](../figures/CDL_logo.jpg)"
   ]
  }
 ],
 "metadata": {
  "kernelspec": {
   "display_name": "Python 3",
   "language": "python",
   "name": "python3"
  },
  "language_info": {
   "codemirror_mode": {
    "name": "ipython",
    "version": 3
   },
   "file_extension": ".py",
   "mimetype": "text/x-python",
   "name": "python",
   "nbconvert_exporter": "python",
   "pygments_lexer": "ipython3",
   "version": "3.8.10"
  },
  "toc": {
   "base_numbering": 1,
   "nav_menu": {},
   "number_sections": true,
   "sideBar": true,
   "skip_h1_title": false,
   "title_cell": "Table of Contents",
   "title_sidebar": "Contents",
   "toc_cell": false,
   "toc_position": {},
   "toc_section_display": true,
   "toc_window_display": false
  }
 },
 "nbformat": 4,
 "nbformat_minor": 5
}
