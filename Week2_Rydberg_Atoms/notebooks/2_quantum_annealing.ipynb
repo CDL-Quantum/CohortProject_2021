{
 "cells": [
  {
   "cell_type": "code",
   "execution_count": null,
   "metadata": {
    "collapsed": true
   },
   "outputs": [],
   "source": [
    "u = 1.35\n",
    "omega_max = 1.89\n",
    "delta_0 = -1.0\n",
    "delta_max = 1.0\n",
    "\n",
    "graph = [\n",
    "    (0.3461717838632017, 1.4984640297338632),\n",
    "    (0.6316400411846113, 2.5754677320579895),\n",
    "    (1.3906262250927481, 2.164978861396621),\n",
    "    (0.66436005100802, 0.6717919819739032),\n",
    "    (0.8663329771713457, 3.3876341010035995),\n",
    "    (1.1643107343501296, 1.0823066243402013)\n",
    "]\n",
    "dt = 0.001"
   ]
  },
  {
   "cell_type": "code",
   "execution_count": null,
   "outputs": [],
   "source": [
    "function run_annealing(graph::Vector{NTuple{2, Float64}}, edges::Vector{CartesianIndex{2}}, dt::Float64)\n",
    "    psi_t = zero_state(size(graph)[1])\n",
    "    for t in 0:dt:1.0\n",
    "        h = hamiltonian(graph, edges, t)\n",
    "        psi_t = psi_t |> TimeEvolution(h, dt * 100)\n",
    "    end\n",
    "    return psi_t\n",
    "end\n",
    "\n",
    "psi = run_annealing(graph, edges, dt)\n",
    "open(\"task2_data.dat\",\"w\") do io\n",
    "    for sample in measure(psi; nshots=10_000)\n",
    "        println(io, sample)\n",
    "    end\n",
    "end\n",
    "\n",
    "#samples = measure(psi; nshots=10)\n",
    "#@show samples"
   ],
   "metadata": {
    "collapsed": false,
    "pycharm": {
     "name": "#%%\n"
    }
   }
  },
  {
   "cell_type": "code",
   "execution_count": 1,
   "outputs": [],
   "source": [],
   "metadata": {
    "collapsed": false,
    "pycharm": {
     "name": "#%%\n"
    }
   }
  }
 ],
 "metadata": {
  "kernelspec": {
   "display_name": "Python 3",
   "language": "python",
   "name": "python3"
  },
  "language_info": {
   "codemirror_mode": {
    "name": "ipython",
    "version": 2
   },
   "file_extension": ".py",
   "mimetype": "text/x-python",
   "name": "python",
   "nbconvert_exporter": "python",
   "pygments_lexer": "ipython2",
   "version": "2.7.6"
  }
 },
 "nbformat": 4,
 "nbformat_minor": 0
}