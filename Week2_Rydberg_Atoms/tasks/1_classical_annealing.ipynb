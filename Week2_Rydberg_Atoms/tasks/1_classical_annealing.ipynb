{
 "cells": [
  {
   "cell_type": "markdown",
   "metadata": {},
   "source": [
    "# Random-graph UD-MIS (Classical)\n",
    "\n",
    "$$H = -\\sum_{i \\in V} n_i + u \\sum_{i,j \\in E} n_i n_j$$\n",
    "\n",
    "Our goal is to find one of the ground state(s) - a solution to the UD-MIS problem - automatically through Monte Carlo\n",
    "sampling.\n",
    "\n",
    "The probability distribution of the Ising model at temperature $T$ is given by the Gibbs distribution:\n",
    "\n",
    "$$p(\\sigma; T) = \\frac{1}{Z(T)}\\exp\\left(-\\frac{H(\\sigma)}{T}\\right)$$,\n",
    "\n",
    "where $Z(T)$ is the normalization constant (also known as the *partition function*)."
   ]
  },
  {
   "cell_type": "markdown",
   "metadata": {},
   "source": [
    "In this repo you'll find code for the UDMIS model of interest.\n",
    "Strictly speaking, for the purposes of performing the Monte Carlo simulation we can simply compute the required energy\n",
    "differences using two calls to the energy function.\n",
    "However, we can often save significant computation time by writing a specialised function for the energy difference that\n",
    "avoids unnecessary calculations.\n",
    "Simply put, calculating the energy of a configuration of occupations requires you to iterate over all vertices in the\n",
    "graph, but the energy change associated with a single-occupation-flip can be computed just from the values of the\n",
    "connected vertices."
   ]
  },
  {
   "cell_type": "code",
   "execution_count": 1,
   "outputs": [],
   "source": [
    "from src.abstract_udmis import UDMIS\n",
    "\n",
    "u = 1.35\n",
    "graph = [\n",
    "    (0.3461717838632017, 1.4984640297338632),\n",
    "    (0.6316400411846113, 2.5754677320579895),\n",
    "    (1.3906262250927481, 2.164978861396621),\n",
    "    (0.66436005100802, 0.6717919819739032),\n",
    "    (0.8663329771713457, 3.3876341010035995),\n",
    "    (1.1643107343501296, 1.0823066243402013)\n",
    "]\n",
    "\n",
    "udmis = UDMIS(u, graph)"
   ],
   "metadata": {
    "collapsed": false,
    "pycharm": {
     "name": "#%%\n"
    }
   }
  },
  {
   "cell_type": "code",
   "execution_count": 4,
   "metadata": {},
   "outputs": [
    {
     "name": "stdout",
     "output_type": "stream",
     "text": [
      "0 -3.0 [False False  True False  True  True]\n",
      "100 -1.0 [False False False False False  True]\n",
      "200 -1.65 [ True  True  True False False False]\n",
      "300 -0.9499999999999997 [ True False  True  True  True  True]\n",
      "400 -1.0 [False False  True False False False]\n",
      "500 -3.0 [False False  True False  True  True]\n",
      "600 -0.2999999999999998 [False  True  True False  True False]\n",
      "700 -1.6499999999999995 [False  True False False  True  True]\n",
      "800 -1.65 [ True  True  True False False False]\n",
      "900 0.7500000000000004 [ True  True  True  True  True  True]\n",
      "1000 0.40000000000000036 [ True  True False  True  True  True]\n",
      "1100 -0.9499999999999997 [ True  True  True False  True  True]\n",
      "1200 -0.9499999999999997 [ True  True  True  True  True False]\n",
      "1300 -1.65 [False  True  True  True False False]\n",
      "1400 -2.0 [ True False False False  True False]\n",
      "1500 -1.2999999999999994 [ True  True  True False  True False]\n",
      "1600 -1.65 [ True  True False False False  True]\n",
      "1700 -2.0 [False False False False  True  True]\n",
      "1800 -1.65 [ True  True False False False  True]\n",
      "1900 -0.6499999999999999 [False  True  True False False False]\n",
      "2000 -1.65 [ True False False False  True  True]\n",
      "2100 -1.2999999999999998 [False  True  True False  True  True]\n",
      "2200 -2.0 [ True  True False False False False]\n",
      "2300 -2.6499999999999995 [ True False  True  True  True False]\n",
      "2400 -1.65 [False False  True  True False  True]\n",
      "2500 -2.65 [ True False  True False  True  True]\n",
      "2600 -2.0 [False False False  True  True False]\n",
      "2700 -3.0 [False False  True False  True  True]\n",
      "2800 -1.65 [ True  True  True False False False]\n",
      "2900 -2.0 [False False  True  True False False]\n",
      "3000 -3.0 [False False  True  True  True False]\n",
      "3100 -3.0 [False False  True  True  True False]\n",
      "3200 -3.0 [False False  True  True  True False]\n",
      "3300 -2.65 [ True False  True False  True  True]\n",
      "3400 -3.0 [False False  True False  True  True]\n",
      "3500 -3.0 [ True False  True False  True False]\n",
      "3600 -3.0 [ True False  True False  True False]\n",
      "3700 -3.0 [ True False  True False  True False]\n",
      "3800 -3.0 [False False  True  True  True False]\n",
      "3900 -3.0 [ True False  True False  True False]\n",
      "4000 -3.0 [False False  True False  True  True]\n",
      "4100 -3.0 [False False  True False  True  True]\n",
      "4200 -3.0 [ True False  True False  True False]\n",
      "4300 -3.0 [ True False  True False  True False]\n",
      "4400 -3.0 [ True False  True False  True False]\n",
      "4500 -3.0 [ True False  True False  True False]\n",
      "4600 -3.0 [ True False  True False  True False]\n",
      "4700 -3.0 [ True False  True False  True False]\n",
      "4800 -3.0 [ True False  True False  True False]\n",
      "4900 -3.0 [ True False  True False  True False]\n"
     ]
    }
   ],
   "source": [
    "import numpy as np\n",
    "\n",
    "num_steps = 5000\n",
    "\n",
    "T_i = 100\n",
    "T_f = 0.01\n",
    "\n",
    "temperature, energy = [], []\n",
    "for n in range(num_steps):\n",
    "    T = T_i * ((T_f/T_i) ** (n/num_steps))\n",
    "    E = udmis.mc_step(T)\n",
    "    if n % 100 == 0:\n",
    "        temperature.append(T)\n",
    "        energy.append(E)\n",
    "        print(n, E, udmis.occupations)"
   ]
  },
  {
   "cell_type": "code",
   "execution_count": 6,
   "outputs": [
    {
     "data": {
      "text/plain": "[<matplotlib.lines.Line2D at 0x1213cb220>]"
     },
     "execution_count": 6,
     "metadata": {},
     "output_type": "execute_result"
    },
    {
     "data": {
      "text/plain": "<Figure size 432x288 with 2 Axes>",
      "image/png": "[encoded data removed]"
     },
     "metadata": {
      "needs_background": "light"
     },
     "output_type": "display_data"
    }
   ],
   "source": [
    "import matplotlib.pyplot as plt\n",
    "\n",
    "fig, ax = plt.subplots()\n",
    "\n",
    "ax.plot(energy)\n",
    "\n",
    "ax = ax.twinx()\n",
    "\n",
    "ax.plot(temperature)"
   ],
   "metadata": {
    "collapsed": false,
    "pycharm": {
     "name": "#%%\n"
    }
   }
  },
  {
   "cell_type": "code",
   "execution_count": 3,
   "outputs": [],
   "source": [],
   "metadata": {
    "collapsed": false,
    "pycharm": {
     "name": "#%%\n"
    }
   }
  }
 ],
 "metadata": {
  "kernelspec": {
   "display_name": "Python 3",
   "language": "python",
   "name": "python3"
  },
  "language_info": {
   "codemirror_mode": {
    "name": "ipython",
    "version": 3
   },
   "file_extension": ".py",
   "mimetype": "text/x-python",
   "name": "python",
   "nbconvert_exporter": "python",
   "pygments_lexer": "ipython3",
   "version": "3.8.5"
  }
 },
 "nbformat": 4,
 "nbformat_minor": 4
}