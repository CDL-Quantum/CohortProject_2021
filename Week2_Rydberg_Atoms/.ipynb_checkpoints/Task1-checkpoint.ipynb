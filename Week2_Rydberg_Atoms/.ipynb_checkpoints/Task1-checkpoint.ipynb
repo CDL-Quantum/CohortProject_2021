{
 "cells": [
  {
   "cell_type": "markdown",
   "metadata": {},
   "source": [
    "# Random-graph UD-MIS (Classical)\n",
    "\n",
    "$$\n",
    "H = -\\sum_{i \\in V} n_i + u \\sum_{i,j \\in E} n_i n_j\n",
    "$$\n",
    "\n",
    "Our goal is to find one of the ground state(s) - a solution to the UD-MIS problem - automatically through Monte Carlo sampling.\n",
    "\n",
    "The probability distribution of the Ising model at temperature $T$ is given by the Gibbs distribution:\n",
    "\n",
    "$$p(\\sigma; T) = \\frac{1}{Z(T)}\\exp\\left(-\\frac{H(\\sigma)}{T}\\right)$$,\n",
    "\n",
    "where $Z(T)$ is the normalization constant (also known as the *partition function*)."
   ]
  },
  {
   "cell_type": "code",
   "execution_count": 1,
   "metadata": {},
   "outputs": [],
   "source": [
    "import numpy as np\n",
    "import matplotlib.pyplot as plt\n",
    "\n",
    "from abstract_udmis import AbstractUDMIS\n",
    "\n",
    "%matplotlib inline"
   ]
  },
  {
   "cell_type": "markdown",
   "metadata": {},
   "source": [
    "Below you'll find code for the UDMIS model of interest. Strictly speaking, for the purposes of performing the Monte Carlo simulation we can simply compute the required energy differences using two calls to the energy function. However, we can often save significant computation time by writing a specialised function for the energy difference that avoids unnecessary calculations. Simply put, calculating the energy of a configuration of occupations requires you to iterate over all vertices in the graph, but the energy change associated with a single-occupation-flip can be computed just from values of the connected vertices."
   ]
  },
  {
   "cell_type": "code",
   "execution_count": 2,
   "metadata": {},
   "outputs": [],
   "source": [
    "class UDMIS(AbstractUDMIS):\n",
    "    def __init__(self, u, graph):\n",
    "        super().__init__()\n",
    "        self.u, self.graph = u, graph\n",
    "        self.num_vertices = len(self.graph)\n",
    "        print(self.num_vertices)\n",
    "        # initialize system at infinite temperature\n",
    "        # i.e. vertices are completely random and uncorrelated\n",
    "        self.occupations = np.random.rand(self.num_vertices) < 0.5\n",
    "        self.edges = self.find_edges()\n",
    "    \n",
    "    def find_edges(self):\n",
    "        #num_pairs = int(self.num_vertices*(self.num_vertices)*0.5)\n",
    "        edges = np.zeros((self.num_vertices, self.num_vertices), dtype=bool)\n",
    "        \n",
    "        for i in range(self.num_vertices-1):\n",
    "            x_i, y_i = graph[i] # these are the x, y coordinates of the i'th vertex in the graph\n",
    "            for j in range(i+1, self.num_vertices):\n",
    "                x_j, y_j = graph[j] # these are the x, y coordinates of the j'th vertex in the graph\n",
    "                \n",
    "                # calculate the distance between vertices\n",
    "                dij = np.sqrt((x_i - x_j)**2. + (y_i - y_j)**2.)\n",
    "                if dij <= 1.0:\n",
    "                    edges[i,j] = True\n",
    "                    edges[j,i] = True\n",
    "                    \n",
    "        return edges\n",
    "        \n",
    "    def energy(self):\n",
    "        \"\"\"Returns the energy of the current spin configuration\"\"\"\n",
    "        # interaction term\n",
    "        interaction_term = 0\n",
    "        vertex_term = 0\n",
    "        for i in range(self.num_vertices-1):\n",
    "            for j in range(i+1, self.num_vertices):\n",
    "                \n",
    "                # check if there is an edge\n",
    "                if self.edges[i,j]:\n",
    "                    interaction_term += self.occupations[i]*self.occupations[j]\n",
    "                \n",
    "            vertex_term += self.occupations[i]\n",
    "        \n",
    "        # missed the last vertex\n",
    "        vertex_term += self.occupations[self.num_vertices-1]\n",
    "    \n",
    "        return u*interaction_term - vertex_term\n",
    "\n",
    "    def energy_diff(self, i):\n",
    "        connections = np.where(self.edges[i,:])[0]\n",
    "        num_adjacent_occupied = sum(self.occupations[connections])\n",
    "        \n",
    "        if self.occupations[i] == 1:\n",
    "            # flipping an occupied vertex increases the vertex term, decreases the interaction term\n",
    "            vertex_term_change = 1.\n",
    "            interaction_term_change = -u*num_adjacent_occupied\n",
    "        \n",
    "        elif self.occupations[i] == 0:\n",
    "            # flipping an unoccupied vertex decreases the vertex term, increases the interaction term\n",
    "            vertex_term_change = -1.\n",
    "            interaction_term_change = u*num_adjacent_occupied \n",
    "\n",
    "        return interaction_term_change + vertex_term_change\n",
    "    \n",
    "    def rand_vertex(self):\n",
    "        \"\"\"Selects a site in the graph at random\"\"\"\n",
    "        return np.random.randint(self.num_vertices)        "
   ]
  },
  {
   "cell_type": "code",
   "execution_count": 3,
   "metadata": {},
   "outputs": [
    {
     "name": "stdout",
     "output_type": "stream",
     "text": [
      "6\n"
     ]
    }
   ],
   "source": [
    "u = 1.35\n",
    "graph = [(0.3461717838632017, 1.4984640297338632), \n",
    "         (0.6316400411846113, 2.5754677320579895), \n",
    "         (1.3906262250927481, 2.164978861396621), \n",
    "         (0.66436005100802, 0.6717919819739032), \n",
    "         (0.8663329771713457, 3.3876341010035995), \n",
    "         (1.1643107343501296, 1.0823066243402013)\n",
    "        ]\n",
    "\n",
    "udmis = UDMIS(u, graph)"
   ]
  },
  {
   "cell_type": "code",
   "execution_count": 4,
   "metadata": {},
   "outputs": [
    {
     "name": "stdout",
     "output_type": "stream",
     "text": [
      "0 -2.0 [ True False  True False False False]\n",
      "100 -1.0 [False False  True False False False]\n",
      "200 0.7500000000000004 [ True  True  True  True  True  True]\n",
      "300 -2.0 [ True False  True False False False]\n",
      "400 -0.2999999999999994 [False  True  True False  True False]\n",
      "500 -1.65 [ True False  True False False  True]\n",
      "600 -1.0 [False False False False  True False]\n",
      "700 -2.0 [False  True False  True False False]\n",
      "800 -0.2999999999999994 [False  True  True False  True False]\n",
      "900 -1.6499999999999995 [False  True False  True False  True]\n",
      "1000 -0.6499999999999999 [False  True False False  True False]\n",
      "1100 -1.65 [False  True False  True False  True]\n",
      "1200 -2.0 [False False False  True  True False]\n",
      "1300 -2.65 [ True False  True False  True  True]\n",
      "1400 -1.6499999999999995 [False  True  True False False  True]\n",
      "1500 -1.6499999999999995 [False  True False False  True  True]\n",
      "1600 -0.6499999999999999 [ True False False False False  True]\n",
      "1700 -1.2999999999999994 [False  True  True False  True  True]\n",
      "1800 -0.6499999999999999 [False  True  True False False False]\n",
      "1900 -1.2999999999999998 [ True  True False False  True  True]\n",
      "2000 -1.0 [False False False False  True False]\n",
      "2100 -2.0 [ True False  True False False False]\n",
      "2200 -3.0 [False False  True False  True  True]\n",
      "2300 -1.65 [False  True False False  True  True]\n",
      "2400 -1.2999999999999994 [ True  True  True False  True False]\n",
      "2500 -1.65 [ True  True False  True False False]\n",
      "2600 -1.65 [ True False False False  True  True]\n",
      "2700 -1.2999999999999998 [False  True  True False  True  True]\n",
      "2800 -2.65 [False False  True  True  True  True]\n",
      "2900 -3.0 [False False  True  True  True False]\n",
      "3000 -2.65 [False False  True  True  True  True]\n",
      "3100 -1.65 [False  True False  True  True False]\n",
      "3200 -3.0 [False False  True False  True  True]\n",
      "3300 -3.0 [ True False  True False  True False]\n",
      "3400 -2.65 [ True False  True False  True  True]\n",
      "3500 -3.0 [False False  True False  True  True]\n",
      "3600 -3.0 [ True False  True False  True False]\n",
      "3700 -3.0 [ True False  True False  True False]\n",
      "3800 -3.0 [ True False  True False  True False]\n",
      "3900 -3.0 [False False  True  True  True False]\n",
      "4000 -3.0 [False False  True  True  True False]\n",
      "4100 -3.0 [False False  True  True  True False]\n",
      "4200 -3.0 [False False  True  True  True False]\n",
      "4300 -3.0 [False False  True  True  True False]\n",
      "4400 -3.0 [False False  True  True  True False]\n",
      "4500 -3.0 [False False  True  True  True False]\n",
      "4600 -3.0 [False False  True  True  True False]\n",
      "4700 -3.0 [False False  True  True  True False]\n",
      "4800 -3.0 [False False  True  True  True False]\n",
      "4900 -3.0 [False False  True  True  True False]\n"
     ]
    }
   ],
   "source": [
    "N = 5000\n",
    "t = np.arange(N+1)\n",
    "T_i = 100\n",
    "T_f = 0.01\n",
    "\n",
    "T = T_i * ((T_f/T_i) ** (t/N))\n",
    "\n",
    "for t in range(N):\n",
    "    # take a look at the abstract_udmis.py file to see how mc_step works\n",
    "    temp = T[t]\n",
    "    E = udmis.mc_step(T=temp)\n",
    "    \n",
    "    if t % 100 == 0:\n",
    "        print(t, E, udmis.occupations)"
   ]
  },
  {
   "cell_type": "code",
   "execution_count": null,
   "metadata": {},
   "outputs": [],
   "source": []
  }
 ],
 "metadata": {
  "kernelspec": {
   "display_name": "Python 3",
   "language": "python",
   "name": "python3"
  },
  "language_info": {
   "codemirror_mode": {
    "name": "ipython",
    "version": 3
   },
   "file_extension": ".py",
   "mimetype": "text/x-python",
   "name": "python",
   "nbconvert_exporter": "python",
   "pygments_lexer": "ipython3",
   "version": "3.8.10"
  },
  "toc": {
   "base_numbering": 1,
   "nav_menu": {},
   "number_sections": true,
   "sideBar": true,
   "skip_h1_title": false,
   "title_cell": "Table of Contents",
   "title_sidebar": "Contents",
   "toc_cell": false,
   "toc_position": {},
   "toc_section_display": true,
   "toc_window_display": false
  }
 },
 "nbformat": 4,
 "nbformat_minor": 4
}
