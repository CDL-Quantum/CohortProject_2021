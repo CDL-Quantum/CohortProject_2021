{
 "cells": [
  {
   "cell_type": "code",
   "execution_count": 2,
   "id": "0e048426",
   "metadata": {},
   "outputs": [],
   "source": [
    "import Pkg; Pkg.add(\"Yao\")\n",
    "import Pkg; Pkg.add(\"LightGraphs\")\n",
    "import Pkg; Pkg.add(\"GraphPlot\")\n",
    "import Pkg; Pkg.add(\"Colors\")"
   ]
  },
  {
   "cell_type": "code",
   "execution_count": 3,
   "id": "3e91e831",
   "metadata": {},
   "outputs": [
    {
     "data": {
      "text/plain": [
       "12"
      ]
     },
     "execution_count": 3,
     "metadata": {},
     "output_type": "execute_result"
    }
   ],
   "source": [
    "using Yao\n",
    "using Yao.ConstGate # needed for P1 = 0.5*(I - sigma_z) block\n",
    "using LightGraphs\n",
    "using GraphPlot\n",
    "using Colors\n",
    "const u = 1.35\n",
    "const Ω_max = 1.89\n",
    "const δ_0 = -1.0\n",
    "const δ_max = 1.0\n",
    "\n",
    "function get_edges(graph::Vector{NTuple{2, Float64}})\n",
    "    Nv = size(graph)[1]\n",
    "    edges = falses(Nv, Nv)\n",
    "    for i in 1:(Nv-1)\n",
    "        xi, yi = graph[i]\n",
    "        for j in (i+1):Nv\n",
    "            xj, yj = graph[j]\n",
    "\n",
    "            dij = sqrt((xi - xj)^2. + (yi - yj)^2.)\n",
    "            if dij <= 1.0\n",
    "                edges[i,j] = true\n",
    "            end\n",
    "        end\n",
    "    end\n",
    "    return findall(edges)\n",
    "end\n",
    "function Ω(t::Float64)\n",
    "    if 0 <= t <= 0.25\n",
    "        return (Ω_max / 0.25) * t\n",
    "    elseif 0.25 < t <= 0.69\n",
    "        return Ω_max\n",
    "    elseif 0.69 < t <= 1\n",
    "        return - Ω_max * t / 0.31 + Ω_max * (1 + 0.69/0.31)\n",
    "    end\n",
    "end\n",
    "\n",
    "function δ(t::Float64)\n",
    "    slope = (δ_0 - δ_max)/(0.25 - 0.69)\n",
    "    if 0 <= t <= 0.25\n",
    "        return δ_0\n",
    "    elseif 0.25 < t <= 0.69\n",
    "        return t * slope + (δ_max - slope * 0.69)\n",
    "    elseif 0.69 < t <= 1\n",
    "        return δ_max\n",
    "    end\n",
    "end \n",
    "\n",
    "function hamiltonian(graph::Vector{NTuple{2, Float64}}, edges::Vector{CartesianIndex{2}}, t::Float64)\n",
    "    # the UD-MIS Hamiltonian\n",
    "    Nv = size(graph)[1] # number of vertices\n",
    "\n",
    "    interaction_term = map(1:size(edges)[1]) do i\n",
    "        l,m = edges[i][1], edges[i][2]\n",
    "        repeat(Nv,u*P1,(l,m))\n",
    "    end |> sum\n",
    "    interaction_term - δ(t)*sum(map(i->put(Nv,i=>P1), 1:Nv)) + Ω(t)*sum(map(i->put(Nv,i=>X), 1:Nv))\n",
    "end\n",
    "\n",
    "function run_annealing(graph::Vector{NTuple{2, Float64}}, edges::Vector{CartesianIndex{2}}, dt::Float64)\n",
    "    psi_t = zero_state(size(graph)[1])\n",
    "    for t in 0:dt:1.0\n",
    "        h = hamiltonian(graph, edges, t)\n",
    "        psi_t = psi_t |> TimeEvolution(h, dt * 100)\n",
    "    end\n",
    "    return psi_t\n",
    "end\n",
    "\n",
    "graph = [\n",
    "    (1.19, 4.25),\n",
    "    (2.71, 3.48),\n",
    "    (1.19, 3.51),\n",
    "    (2.0, 3.38),\n",
    "    (1.12, 2.86),\n",
    "    (1.70, 2.42),\n",
    "    (2.36, 2.54),\n",
    "    (1.52, 1.48),\n",
    "    (2.15, 1.54),\n",
    "    (2.14, 1.87),\n",
    "    (1.72, 0.86),\n",
    "    (2.29, 0.87)\n",
    "    ]\n",
    "edges = get_edges(graph)\n",
    "dt = 0.001\n",
    "N = size(graph)[1]\n"
   ]
  },
  {
   "cell_type": "code",
   "execution_count": null,
   "id": "9c43f722",
   "metadata": {},
   "outputs": [],
   "source": [
    "psi = run_annealing(graph, edges, dt)\n",
    "samples = measure(psi; nshots=20000)"
   ]
  },
  {
   "cell_type": "code",
   "execution_count": 26,
   "id": "41643a53",
   "metadata": {},
   "outputs": [
    {
     "data": {
      "text/plain": [
       "12-element Vector{Int64}:\n",
       " 1\n",
       " 1\n",
       " 0\n",
       " 0\n",
       " 1\n",
       " 0\n",
       " 1\n",
       " 0\n",
       " 0\n",
       " 0\n",
       " 1\n",
       " 0"
      ]
     },
     "execution_count": 26,
     "metadata": {},
     "output_type": "execute_result"
    }
   ],
   "source": [
    "#Find Most common result\n",
    "y=samples\n",
    "urt=unique(samples)\n",
    "d=Dict([(i,count(x->x==i,y)) for i in urt])\n",
    "#most common sampling\n",
    "sample = findmax(d)[2]\n",
    "A = [sample...]"
   ]
  },
  {
   "cell_type": "code",
   "execution_count": 27,
   "id": "5cec7dd5",
   "metadata": {},
   "outputs": [
    {
     "name": "stdout",
     "output_type": "stream",
     "text": [
      "Most Common Energy = 1.7500000000000004\n"
     ]
    }
   ],
   "source": [
    "#output sample bitstring\n",
    "bstring = A\n",
    "common_E = 0\n",
    "for i in 1:N\n",
    "    common_E+=- bstring[i]*δ_max\n",
    "end\n",
    "for i in 1:length(edges)\n",
    "    common_E += u*bstring[edges[i][1]]*bstring[edges[i][1]]\n",
    "end\n",
    "println(\"Most Common Energy = \",common_E)"
   ]
  },
  {
   "cell_type": "code",
   "execution_count": 1,
   "id": "b92875e5",
   "metadata": {},
   "outputs": [
    {
     "ename": "LoadError",
     "evalue": "UndefVarError: graph not defined",
     "output_type": "error",
     "traceback": [
      "UndefVarError: graph not defined",
      "",
      "Stacktrace:",
      " [1] top-level scope",
      "   @ In[1]:3",
      " [2] eval",
      "   @ ./boot.jl:360 [inlined]",
      " [3] include_string(mapexpr::typeof(REPL.softscope), mod::Module, code::String, filename::String)",
      "   @ Base ./loading.jl:1094"
     ]
    }
   ],
   "source": [
    "# Creating graph from most common sample\n",
    "\n",
    "g = Graph(length(graph))\n",
    "\n",
    "#Looping to add edges\n",
    "for edge in 1:length(edges)\n",
    "    add_edge!(g, edges[edge][1], edges[edge][2])\n",
    "end\n",
    "\n",
    "\n",
    "#Coloring Nodes in UD-MIS\n",
    "\n",
    "nodecolor = [colorant\"lightseagreen\", colorant\"orange\"]\n",
    "# nodes membership   2 is in set and 1 isn't\n",
    "#bitstring to vector\n",
    "  \n",
    "membership = []\n",
    "\n",
    "nodelabels = []\n",
    "for i in length(A):-1:1\n",
    "    push!(nodelabels,i)\n",
    "  \n",
    "end\n",
    "for node in 1:length(A)\n",
    "    color = 1 + A[node]\n",
    "    push!(membership, color)\n",
    "    \n",
    "end\n",
    "nodefillc = nodecolor[membership]  \n",
    "graphi = gplot(g,nodefillc=nodefillc,nodelabel=nodelabels,nodesize = 0.02)"
   ]
  },
  {
   "cell_type": "code",
   "execution_count": null,
   "id": "3b2a5471",
   "metadata": {},
   "outputs": [],
   "source": []
  },
  {
   "cell_type": "code",
   "execution_count": null,
   "id": "952bd72e",
   "metadata": {},
   "outputs": [],
   "source": []
  }
 ],
 "metadata": {
  "kernelspec": {
   "display_name": "Julia 1.6.1",
   "language": "julia",
   "name": "julia-1.6"
  },
  "language_info": {
   "file_extension": ".jl",
   "mimetype": "application/julia",
   "name": "julia",
   "version": "1.6.1"
  }
 },
 "nbformat": 4,
 "nbformat_minor": 5
}
