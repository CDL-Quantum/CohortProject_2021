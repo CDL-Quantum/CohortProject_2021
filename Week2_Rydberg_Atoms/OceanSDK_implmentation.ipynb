{
 "cells": [
  {
   "cell_type": "markdown",
   "id": "bearing-civilian",
   "metadata": {},
   "source": [
    "# Quantum annealing\n",
    "\n",
    "Quantum annealing is a variation of the simulated thermal annealing approach for solving NP-hard optimization problems. \n",
    "D-Wave Systems created a full-stack framework ([Leap2](https://www.dwavesys.com/take-leap)) to run quantum annealing algorithms on both simulators and real quantum devices. The access to their systems uses an API mechanism for which registration is required. As part of the CDL, all users should have got a license and can access the real quantum devices. \n",
    "\n",
    "For the simulation part, only requirement is the installation of the package [dwave-ocean-sdk](https://pypi.org/project/dwave-ocean-sdk/).\n",
    "\n",
    "In the following we show how to build a graph for the UD-MIS problem and solve it by means of:\n",
    "- simulated thermal annealing\n",
    "- quantum annealing simulation\n",
    "- quantum annealing on a real device"
   ]
  },
  {
   "cell_type": "code",
   "execution_count": 1,
   "id": "paperback-shareware",
   "metadata": {},
   "outputs": [],
   "source": [
    "import numpy as np\n",
    "import networkx as nx\n",
    "from matplotlib import pyplot as plt\n",
    "\n",
    "# d'wave pkgs\n",
    "import dimod\n",
    "import dwave_networkx as dnx\n",
    "from dwave_qbsolv import QBSolv\n",
    "\n",
    "# pkgs to run the code on the QPU\n",
    "from dwave.system.samplers import DWaveSampler\n",
    "from dwave.system.composites import EmbeddingComposite"
   ]
  },
  {
   "cell_type": "markdown",
   "id": "casual-richardson",
   "metadata": {},
   "source": [
    "Define a function to calculate the edges of the UD-MIS problem"
   ]
  },
  {
   "cell_type": "code",
   "execution_count": 2,
   "id": "activated-finder",
   "metadata": {},
   "outputs": [],
   "source": [
    "def get_edges(graph):\n",
    "    Nv = len(graph)\n",
    "    edges = np.zeros((Nv, Nv))\n",
    "    for i in range(Nv - 1):\n",
    "        xi, yi = graph[i]\n",
    "        for j in range(i + 1, Nv):\n",
    "            xj, yj = graph[j]\n",
    "            dij = np.sqrt((xi - xj) ** 2. + (yi - yj) ** 2.)\n",
    "            if dij <= 1.0:\n",
    "                edges[i, j] = 1\n",
    "    return np.argwhere(edges == 1)"
   ]
  },
  {
   "cell_type": "markdown",
   "id": "behind-concentrate",
   "metadata": {},
   "source": [
    "Define the graph for the UD-MIS problem. To build the graph, we use the networkx package. This is useful as the D-Wave library provides a wrapper to solve the MIS problem in this specific form."
   ]
  },
  {
   "cell_type": "code",
   "execution_count": 6,
   "id": "chief-hunter",
   "metadata": {},
   "outputs": [
    {
     "data": {
      "image/png": "[encoded data removed]",
      "text/plain": [
       "<Figure size 432x288 with 1 Axes>"
      ]
     },
     "metadata": {},
     "output_type": "display_data"
    }
   ],
   "source": [
    "graph = [(0.3461717838632017, 1.4984640297338632),\n",
    "         (0.6316400411846113, 2.5754677320579895),\n",
    "         (1.3906262250927481, 2.164978861396621),\n",
    "         (0.66436005100802, 0.6717919819739032),\n",
    "         (0.8663329771713457, 3.3876341010035995),\n",
    "         (1.1643107343501296, 1.0823066243402013)\n",
    "         ]\n",
    "edges = get_edges(graph)\n",
    "\n",
    "G = nx.Graph()\n",
    "for edge in edges:\n",
    "    G.add_edge(edge[0], edge[1])\n",
    "    \n",
    "# plot MIS nodes with different color\n",
    "pos = nx.circular_layout(G)  # positions for all nodes\n",
    "\n",
    "# nodes from MIS\n",
    "nx.draw_networkx_nodes(G, pos)\n",
    "# edges\n",
    "nx.draw_networkx_edges(G, pos)\n",
    "# labels\n",
    "nx.draw_networkx_labels(G, pos, font_size=12, font_family=\"sans-serif\")\n",
    "plt.axis(\"off\")\n",
    "plt.show()"
   ]
  },
  {
   "cell_type": "markdown",
   "id": "domestic-serum",
   "metadata": {},
   "source": [
    "Choose a sampler among:\n",
    "1. simulated annealing sampler\n",
    "2. quantum annealing simulator\n",
    "3. quantum annealing on a quantum device (requires API token to Leap2 services)\n",
    "\n",
    "by uncommenting the coresponding line."
   ]
  },
  {
   "cell_type": "code",
   "execution_count": 4,
   "id": "great-little",
   "metadata": {},
   "outputs": [],
   "source": [
    "# 1. the simulated annealing sampler\n",
    "# sampler = dimod.SimulatedAnnealingSampler()  # Simulated annealing\n",
    "\n",
    "# 2. the quantum simulator\n",
    "sampler = QBSolv()\n",
    "\n",
    "# 3. running on the actual D-Wave QPU\n",
    "# sampler = EmbeddingComposite(DWaveSampler())"
   ]
  },
  {
   "cell_type": "markdown",
   "id": "qualified-evans",
   "metadata": {},
   "source": [
    "The set of maximum independent nodes is then obtained by calling the method maximum_independent_set from the dwave_networkx package:"
   ]
  },
  {
   "cell_type": "code",
   "execution_count": 5,
   "id": "iraqi-doctrine",
   "metadata": {},
   "outputs": [
    {
     "name": "stdout",
     "output_type": "stream",
     "text": [
      "Independent nodes: [2, 3, 4]\n"
     ]
    }
   ],
   "source": [
    "indep_nodes = dnx.maximum_independent_set(G, sampler)\n",
    "\n",
    "print(f'Independent nodes: {indep_nodes}')"
   ]
  },
  {
   "cell_type": "markdown",
   "id": "imported-vacuum",
   "metadata": {},
   "source": [
    "We now plot the solution by coloring in red the independent nodes:"
   ]
  },
  {
   "cell_type": "code",
   "execution_count": 10,
   "id": "chubby-shakespeare",
   "metadata": {},
   "outputs": [
    {
     "data": {
      "image/png": "[encoded data removed]",
      "text/plain": [
       "<Figure size 432x288 with 1 Axes>"
      ]
     },
     "metadata": {},
     "output_type": "display_data"
    }
   ],
   "source": [
    "# plot MIS nodes with different color\n",
    "pos = nx.circular_layout(G)  # positions for all nodes\n",
    "\n",
    "# nodes from MIS\n",
    "nx.draw_networkx_nodes(G, pos, nodelist=indep_nodes, node_size=500, node_color='red')\n",
    "nx.draw_networkx_nodes(G, pos, nodelist=[n for n in list(G.nodes) if n not in indep_nodes], node_size=500)\n",
    "# edges\n",
    "nx.draw_networkx_edges(G, pos)\n",
    "# labels\n",
    "nx.draw_networkx_labels(G, pos, font_size=12, font_family=\"sans-serif\")\n",
    "plt.axis(\"off\")\n",
    "plt.show()"
   ]
  },
  {
   "cell_type": "markdown",
   "id": "ranking-final",
   "metadata": {},
   "source": [
    "Clearly this is only one of the possible solutions. In fact, there is a degeneracy in the solution due to \n",
    "the equivalence of the nodes 0, 3 and 5."
   ]
  }
 ],
 "metadata": {
  "kernelspec": {
   "display_name": "Python 3",
   "language": "python",
   "name": "python3"
  },
  "language_info": {
   "codemirror_mode": {
    "name": "ipython",
    "version": 3
   },
   "file_extension": ".py",
   "mimetype": "text/x-python",
   "name": "python",
   "nbconvert_exporter": "python",
   "pygments_lexer": "ipython3",
   "version": "3.8.5"
  }
 },
 "nbformat": 4,
 "nbformat_minor": 5
}
