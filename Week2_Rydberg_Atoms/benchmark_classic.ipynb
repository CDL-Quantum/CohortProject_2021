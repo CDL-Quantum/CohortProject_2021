{
 "cells": [
  {
   "cell_type": "code",
   "execution_count": 1,
   "metadata": {},
   "outputs": [],
   "source": [
    "import numpy as np\n",
    "import matplotlib.pyplot as plt\n",
    "from abstract_udmis import AbstractUDMIS\n",
    "import networkx as nx\n",
    "from collections import defaultdict"
   ]
  },
  {
   "cell_type": "code",
   "execution_count": 2,
   "metadata": {},
   "outputs": [],
   "source": [
    "import torch\n",
    "from torch import optim"
   ]
  },
  {
   "cell_type": "code",
   "execution_count": 3,
   "metadata": {},
   "outputs": [],
   "source": [
    "class UDMIS(AbstractUDMIS):\n",
    "    def __init__(self, u, graph):\n",
    "        super().__init__()\n",
    "        self.u, self.graph = u, graph\n",
    "        self.num_vertices = len(self.graph)\n",
    "        print(self.num_vertices)\n",
    "        \n",
    "        self.occupations = np.random.rand(self.num_vertices) < 0.5\n",
    "        self.edges = self.find_edges()\n",
    "        \n",
    "    def find_edges(self):\n",
    "        edges = np.zeros((self.num_vertices, self.num_vertices), dtype=bool)\n",
    "        \n",
    "        for i in range(self.num_vertices - 1):\n",
    "            x_i, y_i = graph[i]\n",
    "            \n",
    "            for j in range(i+1, self.num_vertices):\n",
    "                x_j, y_j = graph[j]\n",
    "                \n",
    "                \n",
    "                #calc distance\n",
    "                dij = np.sqrt((x_i - x_j)**2 + (y_i - y_j)**2)\n",
    "                if dij <= 1.0:\n",
    "                    edges[i,j] = True\n",
    "                    edges[j,i] = True\n",
    "                    \n",
    "        return edges\n",
    "    \n",
    "    def energy(self):\n",
    "        interaction_term = 0\n",
    "        vertex_term = 0\n",
    "        for i in range(self.num_vertices - 1):\n",
    "            for j in range(i+1, self.num_vertices):\n",
    "                \n",
    "                \n",
    "                if self.edges[i,j]:\n",
    "                    interaction_term += self.occupations[i]*self.occupations[j]\n",
    "                    \n",
    "            vertex_term += self.occupations[i]\n",
    "            \n",
    "        #missed last vertex\n",
    "        vertex_term += self.occupations[self.num_vertices - 1]\n",
    "        \n",
    "        return u*interaction_term - vertex_term\n",
    "    \n",
    "    def energy_diff(self, i):\n",
    "        connections = np.where(self.edges[i,:])[0]\n",
    "        num_adjacent_occupied = sum(self.occupations[connections])\n",
    "        \n",
    "        if self.occupations[i] == 1:\n",
    "            # flipping occupied vertex\n",
    "            vertex_term_change = 1.\n",
    "            interaction_term_change = -u*num_adjacent_occupied\n",
    "            \n",
    "        elif self.occupations[i] == 0:\n",
    "            #flipping unnocupied vertex\n",
    "            vertex_term_change = -1.\n",
    "            interaction_term_change = u*num_adjacent_occupied\n",
    "            \n",
    "        return interaction_term_change + vertex_term_change\n",
    "    \n",
    "    def rand_vertex(self):\n",
    "        return np.random.randint(self.num_vertices)\n",
    "    \n",
    "    \n",
    "    def draw_graph(self):\n",
    "        G = nx.from_numpy_array(self.edges)\n",
    "        graph_np = np.array(self.graph)\n",
    "        xs = graph_np[:,0]\n",
    "        ys = graph_np[:,1]\n",
    "        cs = self.occupations\n",
    "\n",
    "        fig, ax = plt.subplots()\n",
    "        \n",
    "        # plot the non activated vertices in the background\n",
    "        for x,y,c in zip(xs,ys,cs):\n",
    "            if not(c):\n",
    "                circle = plt.Circle((x,y),0.5,color = 'gray',alpha=0.5 )\n",
    "                ax.add_patch(circle)\n",
    "                \n",
    "        for x,y,c in zip(xs,ys,cs):\n",
    "            if c:\n",
    "                circle = plt.Circle((x,y),0.5,color = 'b',alpha=0.3)\n",
    "                ax.add_patch(circle)\n",
    "        \n",
    "        nx.draw(G, pos=self.graph, node_color='r', edge_color='b',ax=ax)\n",
    "        ax.axis('equal')\n",
    "        \n",
    "        return fig,ax"
   ]
  },
  {
   "cell_type": "code",
   "execution_count": 4,
   "metadata": {},
   "outputs": [],
   "source": [
    "def draw_graph_state(graph,occupationlist, ax):\n",
    "    G = nx.from_numpy_array(graph.edges)\n",
    "    graph_np = np.array(graph.graph)\n",
    "    xs = graph_np[:,0]\n",
    "    ys = graph_np[:,1]\n",
    "    cs = occupationlist\n",
    "\n",
    "    # plot the non activated vertices in the background\n",
    "    for x,y,c in zip(xs,ys,cs):\n",
    "        if not(c):\n",
    "            circle = plt.Circle((x,y),0.5,color = 'gray',alpha=0.5 )\n",
    "            ax.add_patch(circle)\n",
    "\n",
    "    for x,y,c in zip(xs,ys,cs):\n",
    "        if c:\n",
    "            circle = plt.Circle((x,y),0.5,color = 'b',alpha=0.3)\n",
    "            ax.add_patch(circle)\n",
    "\n",
    "    nx.draw(G, pos=graph.graph, node_color='r', edge_color='b',ax=ax)\n",
    "    ax.axis('equal')"
   ]
  },
  {
   "cell_type": "code",
   "execution_count": null,
   "metadata": {},
   "outputs": [],
   "source": []
  },
  {
   "cell_type": "code",
   "execution_count": 5,
   "metadata": {},
   "outputs": [],
   "source": [
    "u = 1.35"
   ]
  },
  {
   "cell_type": "code",
   "execution_count": 8,
   "metadata": {},
   "outputs": [
    {
     "data": {
      "text/plain": [
       "[5,\n",
       " 25,\n",
       " 45,\n",
       " 65,\n",
       " 85,\n",
       " 105,\n",
       " 125,\n",
       " 145,\n",
       " 165,\n",
       " 185,\n",
       " 205,\n",
       " 225,\n",
       " 245,\n",
       " 265,\n",
       " 285,\n",
       " 305,\n",
       " 325,\n",
       " 345,\n",
       " 365,\n",
       " 385,\n",
       " 405,\n",
       " 425,\n",
       " 445,\n",
       " 465,\n",
       " 485,\n",
       " 505]"
      ]
     },
     "execution_count": 8,
     "metadata": {},
     "output_type": "execute_result"
    }
   ],
   "source": [
    "[i for i in range(5,525,20)]"
   ]
  },
  {
   "cell_type": "code",
   "execution_count": 10,
   "metadata": {},
   "outputs": [],
   "source": [
    "graphs = []\n",
    "for i in range(5,525,20):\n",
    "    density = 1\n",
    "    scale = np.sqrt(i)/density\n",
    "    graphs.append([(np.random.rand()*scale,np.random.rand()*scale) for n in range(i)])"
   ]
  },
  {
   "cell_type": "code",
   "execution_count": 11,
   "metadata": {},
   "outputs": [],
   "source": [
    "N = 100\n",
    "t = np.arange(N+1)\n",
    "T_i = 100\n",
    "T_f = 0.01"
   ]
  },
  {
   "cell_type": "code",
   "execution_count": 12,
   "metadata": {},
   "outputs": [],
   "source": [
    "model = torch.nn.Linear(2, 1)\n",
    "optimizer = torch.optim.SGD(model.parameters(), lr=T_i)\n",
    "lmbda = lambda epoch: 0.65 ** epoch"
   ]
  },
  {
   "cell_type": "code",
   "execution_count": 13,
   "metadata": {},
   "outputs": [
    {
     "name": "stdout",
     "output_type": "stream",
     "text": [
      "5\n",
      "25\n",
      "45\n",
      "65\n",
      "85\n",
      "105\n",
      "125\n",
      "145\n",
      "165\n",
      "185\n",
      "205\n",
      "225\n",
      "245\n",
      "265\n",
      "285\n",
      "305\n",
      "325\n",
      "345\n",
      "365\n",
      "385\n",
      "405\n",
      "425\n",
      "445\n",
      "465\n",
      "485\n",
      "505\n"
     ]
    }
   ],
   "source": [
    "benchmarks = defaultdict()\n",
    "for i,graph in enumerate(graphs):\n",
    "    test = UDMIS(u,graph)\n",
    "    scheduler = torch.optim.lr_scheduler.MultiplicativeLR(optimizer, lr_lambda=lmbda)\n",
    "    annealing = np.zeros((N,3))\n",
    "    for k,t in enumerate(range(N)):\n",
    "        optimizer.step()    \n",
    "        temp = optimizer.param_groups[0][\"lr\"] + 0.0001\n",
    "        E, dE = test.mc_step(T=temp)\n",
    "        annealing[k,0] = temp\n",
    "        annealing[k,1] = E\n",
    "        annealing[k,2] = dE\n",
    "        scheduler.step()\n",
    "        \n",
    "    benchmarks[i] = annealing"
   ]
  },
  {
   "cell_type": "code",
   "execution_count": 14,
   "metadata": {},
   "outputs": [
    {
     "name": "stdout",
     "output_type": "stream",
     "text": [
      "5\n",
      "25\n",
      "45\n",
      "65\n",
      "85\n",
      "105\n",
      "125\n",
      "145\n",
      "165\n",
      "185\n",
      "205\n",
      "225\n",
      "245\n",
      "265\n",
      "285\n",
      "305\n",
      "325\n",
      "345\n",
      "365\n",
      "385\n",
      "405\n",
      "425\n",
      "445\n",
      "465\n",
      "485\n",
      "505\n"
     ]
    }
   ],
   "source": [
    "benchmarks_exp = defaultdict()\n",
    "for i,graph in enumerate(graphs):\n",
    "    test = UDMIS(u,graph)\n",
    "    scheduler = torch.optim.lr_scheduler.ExponentialLR(optimizer, gamma=0.1)\n",
    "    annealing = np.zeros((N,3))\n",
    "    for k,t in enumerate(range(N)):\n",
    "        optimizer.step()    \n",
    "        temp = optimizer.param_groups[0][\"lr\"]\n",
    "        E, dE = test.mc_step(T=temp)\n",
    "        annealing[k,0] = temp\n",
    "        annealing[k,1] = E\n",
    "        annealing[k,2] = dE\n",
    "        scheduler.step()\n",
    "        \n",
    "    benchmarks_exp[i] = annealing"
   ]
  },
  {
   "cell_type": "code",
   "execution_count": 18,
   "metadata": {},
   "outputs": [
    {
     "data": {
      "image/png": "[encoded data removed]",
      "text/plain": [
       "<Figure size 864x576 with 1 Axes>"
      ]
     },
     "metadata": {
      "needs_background": "light"
     },
     "output_type": "display_data"
    }
   ],
   "source": [
    "plt.figure(figsize=(12,8))\n",
    "plt.plot(range(5,525,20),[np.argmin(benchmarks[k][:,1]) for k in benchmarks.keys()],lw=2.5, label='Multiplicative')\n",
    "plt.plot(range(5,525,20),[np.argmin(benchmarks_exp[k][:,1]) for k in benchmarks_exp.keys()],lw=2.5, label='Exponential')\n",
    "plt.title('Benchmark for the selected annealing schemes', fontsize=22)\n",
    "plt.ylabel('# iterations to reach ground state', fontsize=18)\n",
    "plt.xlabel('# of vertices in a graph ($N_{atoms}$)', fontsize=18)\n",
    "plt.grid()\n",
    "plt.legend(fontsize=16)\n",
    "plt.savefig('figs task 1/Benchmarks_Multi_exp_annealing.png', dpi=250, bbox_inches='tight')"
   ]
  },
  {
   "cell_type": "code",
   "execution_count": null,
   "metadata": {},
   "outputs": [],
   "source": []
  }
 ],
 "metadata": {
  "kernelspec": {
   "display_name": "Python 3",
   "language": "python",
   "name": "python3"
  },
  "language_info": {
   "codemirror_mode": {
    "name": "ipython",
    "version": 3
   },
   "file_extension": ".py",
   "mimetype": "text/x-python",
   "name": "python",
   "nbconvert_exporter": "python",
   "pygments_lexer": "ipython3",
   "version": "3.9.5"
  }
 },
 "nbformat": 4,
 "nbformat_minor": 4
}
