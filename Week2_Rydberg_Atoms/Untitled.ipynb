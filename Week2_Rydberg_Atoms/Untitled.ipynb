{
 "cells": [
  {
   "cell_type": "code",
   "execution_count": 5,
   "id": "1e6b6f6e",
   "metadata": {},
   "outputs": [],
   "source": [
    "import Pkg; Pkg.add(\"Yao\")\n",
    "\n",
    "#!/usr/bin/env julia\n",
    "\n",
    "using Yao\n",
    "using Yao.ConstGate # needed for P1 = 0.5*(I - sigma_z) block"
   ]
  },
  {
   "cell_type": "code",
   "execution_count": 6,
   "id": "11d14139",
   "metadata": {},
   "outputs": [],
   "source": [
    "\n",
    "\n",
    "#=\n",
    "H(t) = Ω(t) ∑_i σ_i^x - δ(t) ∑_i n_i + u ∑_ij n_i n_j\n",
    "=#\n",
    "\n",
    "const u = 1.35\n",
    "const Ω_max = 1.89\n",
    "const δ_0 = -1.0\n",
    "const δ_max = 1.0\n",
    "\n",
    "function get_edges(graph::Vector{NTuple{2, Float64}})\n",
    "    Nv = size(graph)[1]\n",
    "    edges = falses(Nv, Nv)\n",
    "    for i in 1:(Nv-1)\n",
    "        xi, yi = graph[i]\n",
    "        for j in (i+1):Nv\n",
    "            xj, yj = graph[j]\n",
    "\n",
    "            dij = sqrt((xi - xj)^2. + (yi - yj)^2.)\n",
    "            if dij <= 1.0\n",
    "                edges[i,j] = true\n",
    "            end\n",
    "        end\n",
    "    end\n",
    "    return findall(edges)\n",
    "end\n",
    "\n",
    "function Ω(t::Float64)\n",
    "    if 0 <= t <= 0.25\n",
    "        return (Ω_max / 0.25) * t\n",
    "    elseif 0.25 < t <= 0.69\n",
    "        return Ω_max\n",
    "    elseif 0.69 < t <= 1\n",
    "        return - Ω_max * t / 0.31 + Ω_max * (1 + 0.69/0.31)\n",
    "    end\n",
    "end\n",
    "\n",
    "function δ(t::Float64)\n",
    "    slope = (δ_0 - δ_max)/(0.25 - 0.69)\n",
    "    if 0 <= t <= 0.25\n",
    "        return δ_0\n",
    "    elseif 0.25 < t <= 0.69\n",
    "        return t * slope + (δ_max - slope * 0.69)\n",
    "    elseif 0.69 < t <= 1\n",
    "        return δ_max\n",
    "    end\n",
    "end \n",
    "\n",
    "function hamiltonian(graph::Vector{NTuple{2, Float64}}, edges::Vector{CartesianIndex{2}}, t::Float64)\n",
    "    # the UD-MIS Hamiltonian\n",
    "    Nv = size(graph)[1] # number of vertices\n",
    "\n",
    "    interaction_term = map(1:size(edges)[1]) do i\n",
    "        l,m = edges[i][1], edges[i][2]\n",
    "        repeat(Nv,u*P1,(l,m))\n",
    "    end |> sum\n",
    "    interaction_term - δ(t)*sum(map(i->put(Nv,i=>P1), 1:Nv)) + Ω(t)*sum(map(i->put(Nv,i=>X), 1:Nv))\n",
    "end\n",
    "\n",
    "function run_annealing(graph::Vector{NTuple{2, Float64}}, edges::Vector{CartesianIndex{2}}, dt::Float64)\n",
    "    psi_t = zero_state(size(graph)[1])\n",
    "    for t in 0:dt:1.0\n",
    "        h = hamiltonian(graph, edges, t)\n",
    "        psi_t = psi_t |> TimeEvolution(h, dt * 100)\n",
    "    end\n",
    "    return psi_t\n",
    "end\n",
    "\n",
    "graph = [(0.3461717838632017, 1.4984640297338632), \n",
    "         (0.6316400411846113, 2.5754677320579895), \n",
    "         (1.3906262250927481, 2.164978861396621), \n",
    "         (0.66436005100802, 0.6717919819739032), \n",
    "         (0.8663329771713457, 3.3876341010035995), \n",
    "         (1.1643107343501296, 1.0823066243402013)\n",
    "        ]\n",
    "edges = get_edges(graph)\n",
    "dt = 0.001\n",
    "\n",
    "psi = run_annealing(graph, edges, dt)\n",
    "open(\"task2_data.dat\",\"w\") do io\n",
    "    for sample in measure(psi; nshots=10_000)\n",
    "        println(io, sample)\n",
    "    end\n",
    "end\n",
    "\n",
    "#samples = measure(psi; nshots=10)\n",
    "#@show samples"
   ]
  },
  {
   "cell_type": "code",
   "execution_count": 10,
   "id": "bfb6106a",
   "metadata": {},
   "outputs": [
    {
     "data": {
      "text/plain": [
       "10000-element Vector{BitBasis.BitStr64{6}}:\n",
       " 110100 ₍₂₎\n",
       " 011100 ₍₂₎\n",
       " 011100 ₍₂₎\n",
       " 110100 ₍₂₎\n",
       " 011100 ₍₂₎\n",
       " 011100 ₍₂₎\n",
       " 010101 ₍₂₎\n",
       " 010101 ₍₂₎\n",
       " 011100 ₍₂₎\n",
       " 011100 ₍₂₎\n",
       " 010101 ₍₂₎\n",
       " 111100 ₍₂₎\n",
       " 010101 ₍₂₎\n",
       "          ⋮\n",
       " 110100 ₍₂₎\n",
       " 111100 ₍₂₎\n",
       " 011100 ₍₂₎\n",
       " 011100 ₍₂₎\n",
       " 011100 ₍₂₎\n",
       " 011100 ₍₂₎\n",
       " 110100 ₍₂₎\n",
       " 110100 ₍₂₎\n",
       " 110100 ₍₂₎\n",
       " 110100 ₍₂₎\n",
       " 010101 ₍₂₎\n",
       " 110100 ₍₂₎"
      ]
     },
     "execution_count": 10,
     "metadata": {},
     "output_type": "execute_result"
    }
   ],
   "source": [
    "measure(psi; nshots=10_000)"
   ]
  },
  {
   "cell_type": "code",
   "execution_count": 15,
   "id": "bd9f6bd2",
   "metadata": {},
   "outputs": [
    {
     "data": {
      "text/plain": [
       "10000-element Vector{BitBasis.BitStr64{6}}:\n",
       " 011100 ₍₂₎\n",
       " 011100 ₍₂₎\n",
       " 011100 ₍₂₎\n",
       " 011100 ₍₂₎\n",
       " 011100 ₍₂₎\n",
       " 010101 ₍₂₎\n",
       " 011100 ₍₂₎\n",
       " 011100 ₍₂₎\n",
       " 010101 ₍₂₎\n",
       " 010101 ₍₂₎\n",
       " 110100 ₍₂₎\n",
       " 011100 ₍₂₎\n",
       " 011100 ₍₂₎\n",
       "          ⋮\n",
       " 010101 ₍₂₎\n",
       " 110100 ₍₂₎\n",
       " 010101 ₍₂₎\n",
       " 001100 ₍₂₎\n",
       " 010101 ₍₂₎\n",
       " 110100 ₍₂₎\n",
       " 110100 ₍₂₎\n",
       " 110100 ₍₂₎\n",
       " 110000 ₍₂₎\n",
       " 011101 ₍₂₎\n",
       " 011100 ₍₂₎\n",
       " 011100 ₍₂₎"
      ]
     },
     "execution_count": 15,
     "metadata": {},
     "output_type": "execute_result"
    }
   ],
   "source": [
    "data=measure(psi; nshots=10_000)"
   ]
  },
  {
   "cell_type": "code",
   "execution_count": 23,
   "id": "1e22db8a",
   "metadata": {},
   "outputs": [
    {
     "data": {
      "text/plain": [
       "Dict{BitBasis.BitStr64{6}, Int64} with 31 entries:\n",
       "  000101 ₍₂₎ => 79\n",
       "  111000 ₍₂₎ => 9\n",
       "  010000 ₍₂₎ => 3\n",
       "  010100 ₍₂₎ => 49\n",
       "  110100 ₍₂₎ => 2900\n",
       "  111100 ₍₂₎ => 289\n",
       "  001100 ₍₂₎ => 82\n",
       "  011000 ₍₂₎ => 78\n",
       "  011100 ₍₂₎ => 2787\n",
       "  010001 ₍₂₎ => 68\n",
       "  100101 ₍₂₎ => 11\n",
       "  000001 ₍₂₎ => 1\n",
       "  110101 ₍₂₎ => 306\n",
       "  100000 ₍₂₎ => 2\n",
       "  110001 ₍₂₎ => 8\n",
       "  010011 ₍₂₎ => 1\n",
       "  001011 ₍₂₎ => 1\n",
       "  100100 ₍₂₎ => 72\n",
       "  101100 ₍₂₎ => 8\n",
       "  000011 ₍₂₎ => 8\n",
       "  011101 ₍₂₎ => 279\n",
       "  011001 ₍₂₎ => 10\n",
       "  110000 ₍₂₎ => 77\n",
       "  100010 ₍₂₎ => 9\n",
       "  001101 ₍₂₎ => 12\n",
       "  ⋮          => ⋮"
      ]
     },
     "execution_count": 23,
     "metadata": {},
     "output_type": "execute_result"
    }
   ],
   "source": [
    "count(i->(i=='f'), \"foobar, bar, foo\")"
   ]
  },
  {
   "cell_type": "code",
   "execution_count": 29,
   "id": "6767a1e7",
   "metadata": {},
   "outputs": [
    {
     "data": {
      "text/plain": [
       "82"
      ]
     },
     "execution_count": 29,
     "metadata": {},
     "output_type": "execute_result"
    }
   ],
   "source": [
    "counts[12]"
   ]
  },
  {
   "cell_type": "code",
   "execution_count": null,
   "id": "0285900d",
   "metadata": {},
   "outputs": [],
   "source": [
    "\n",
    "x = sort!(data)\n",
    "plot(x,y)"
   ]
  }
 ],
 "metadata": {
  "kernelspec": {
   "display_name": "Julia 1.6.1",
   "language": "julia",
   "name": "julia-1.6"
  },
  "language_info": {
   "file_extension": ".jl",
   "mimetype": "application/julia",
   "name": "julia",
   "version": "1.6.1"
  },
  "toc": {
   "base_numbering": 1,
   "nav_menu": {},
   "number_sections": true,
   "sideBar": true,
   "skip_h1_title": false,
   "title_cell": "Table of Contents",
   "title_sidebar": "Contents",
   "toc_cell": false,
   "toc_position": {},
   "toc_section_display": true,
   "toc_window_display": false
  }
 },
 "nbformat": 4,
 "nbformat_minor": 5
}
