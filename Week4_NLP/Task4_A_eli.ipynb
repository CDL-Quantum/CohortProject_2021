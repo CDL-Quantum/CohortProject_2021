{
  "nbformat": 4,
  "nbformat_minor": 0,
  "metadata": {
    "colab": {
      "name": "Untitled1.ipynb",
      "provenance": [],
      "collapsed_sections": []
    },
    "kernelspec": {
      "name": "python3",
      "display_name": "Python 3"
    },
    "language_info": {
      "name": "python"
    }
  },
  "cells": [
    {
      "cell_type": "code",
      "metadata": {
        "colab": {
          "base_uri": "https://localhost:8080/",
          "height": 1000
        },
        "id": "T4IAq9vD5Pq5",
        "outputId": "131550e8-5f31-4dc7-b47a-2633c7e1f2fe"
      },
      "source": [
        "!pip install discopy\n",
        "!pip install pytket\n",
        "!pip install qiskit\n",
        "!pip install cirq"
      ],
      "execution_count": 1,
      "outputs": [
        {
          "output_type": "stream",
          "text": [
            "Collecting discopy\n",
            "  Downloading discopy-0.3.6.tar.gz (97 kB)\n",
            "\u001b[?25l\r\u001b[K     |███▍                            | 10 kB 25.4 MB/s eta 0:00:01\r\u001b[K     |██████▊                         | 20 kB 32.4 MB/s eta 0:00:01\r\u001b[K     |██████████                      | 30 kB 38.8 MB/s eta 0:00:01\r\u001b[K     |█████████████▍                  | 40 kB 29.0 MB/s eta 0:00:01\r\u001b[K     |████████████████▉               | 51 kB 17.5 MB/s eta 0:00:01\r\u001b[K     |████████████████████▏           | 61 kB 11.9 MB/s eta 0:00:01\r\u001b[K     |███████████████████████▌        | 71 kB 12.8 MB/s eta 0:00:01\r\u001b[K     |██████████████████████████▉     | 81 kB 14.2 MB/s eta 0:00:01\r\u001b[K     |██████████████████████████████▎ | 92 kB 13.6 MB/s eta 0:00:01\r\u001b[K     |████████████████████████████████| 97 kB 5.0 MB/s \n",
            "\u001b[?25hRequirement already satisfied: numpy>=1.18.1 in /usr/local/lib/python3.7/dist-packages (from discopy) (1.19.5)\n",
            "Requirement already satisfied: networkx>=2.4 in /usr/local/lib/python3.7/dist-packages (from discopy) (2.5.1)\n",
            "Requirement already satisfied: matplotlib>=3.1.2 in /usr/local/lib/python3.7/dist-packages (from discopy) (3.2.2)\n",
            "Requirement already satisfied: pillow>=6.2.1 in /usr/local/lib/python3.7/dist-packages (from discopy) (7.1.2)\n",
            "Requirement already satisfied: python-dateutil>=2.1 in /usr/local/lib/python3.7/dist-packages (from matplotlib>=3.1.2->discopy) (2.8.1)\n",
            "Requirement already satisfied: cycler>=0.10 in /usr/local/lib/python3.7/dist-packages (from matplotlib>=3.1.2->discopy) (0.10.0)\n",
            "Requirement already satisfied: pyparsing!=2.0.4,!=2.1.2,!=2.1.6,>=2.0.1 in /usr/local/lib/python3.7/dist-packages (from matplotlib>=3.1.2->discopy) (2.4.7)\n",
            "Requirement already satisfied: kiwisolver>=1.0.1 in /usr/local/lib/python3.7/dist-packages (from matplotlib>=3.1.2->discopy) (1.3.1)\n",
            "Requirement already satisfied: six in /usr/local/lib/python3.7/dist-packages (from cycler>=0.10->matplotlib>=3.1.2->discopy) (1.15.0)\n",
            "Requirement already satisfied: decorator<5,>=4.3 in /usr/local/lib/python3.7/dist-packages (from networkx>=2.4->discopy) (4.4.2)\n",
            "Building wheels for collected packages: discopy\n",
            "  Building wheel for discopy (setup.py) ... \u001b[?25l\u001b[?25hdone\n",
            "  Created wheel for discopy: filename=discopy-0.3.6-py3-none-any.whl size=89689 sha256=61875aed593a0e5b5c8d63f12e9d1dd6923aa275b39295c9f6c0122587f8fc6c\n",
            "  Stored in directory: /root/.cache/pip/wheels/ec/1f/41/4b314f06f0b62fefe97735f6490f993874ae351bfdb0cafef0\n",
            "Successfully built discopy\n",
            "Installing collected packages: discopy\n",
            "Successfully installed discopy-0.3.6\n",
            "Collecting pytket\n",
            "  Downloading pytket-0.13.0-cp37-cp37m-manylinux_2_17_x86_64.manylinux2014_x86_64.whl (5.8 MB)\n",
            "\u001b[K     |████████████████████████████████| 5.8 MB 14.0 MB/s \n",
            "\u001b[?25hRequirement already satisfied: typing-extensions~=3.7 in /usr/local/lib/python3.7/dist-packages (from pytket) (3.7.4.3)\n",
            "Collecting types-pkg-resources\n",
            "  Downloading types_pkg_resources-0.1.3-py2.py3-none-any.whl (4.8 kB)\n",
            "Collecting lark-parser~=0.7\n",
            "  Downloading lark-parser-0.11.3.tar.gz (229 kB)\n",
            "\u001b[K     |████████████████████████████████| 229 kB 60.5 MB/s \n",
            "\u001b[?25hRequirement already satisfied: networkx~=2.4 in /usr/local/lib/python3.7/dist-packages (from pytket) (2.5.1)\n",
            "Requirement already satisfied: scipy~=1.2 in /usr/local/lib/python3.7/dist-packages (from pytket) (1.4.1)\n",
            "Collecting graphviz~=0.14\n",
            "  Downloading graphviz-0.17-py3-none-any.whl (18 kB)\n",
            "Collecting numpy~=1.20\n",
            "  Downloading numpy-1.21.1-cp37-cp37m-manylinux_2_12_x86_64.manylinux2010_x86_64.whl (15.7 MB)\n",
            "\u001b[K     |████████████████████████████████| 15.7 MB 73 kB/s \n",
            "\u001b[?25hCollecting types-Jinja2\n",
            "  Downloading types_Jinja2-2.11.2-py2.py3-none-any.whl (18 kB)\n",
            "Requirement already satisfied: sympy~=1.6 in /usr/local/lib/python3.7/dist-packages (from pytket) (1.7.1)\n",
            "Requirement already satisfied: jinja2~=2.11 in /usr/local/lib/python3.7/dist-packages (from pytket) (2.11.3)\n",
            "Requirement already satisfied: MarkupSafe>=0.23 in /usr/local/lib/python3.7/dist-packages (from jinja2~=2.11->pytket) (2.0.1)\n",
            "Requirement already satisfied: decorator<5,>=4.3 in /usr/local/lib/python3.7/dist-packages (from networkx~=2.4->pytket) (4.4.2)\n",
            "Requirement already satisfied: mpmath>=0.19 in /usr/local/lib/python3.7/dist-packages (from sympy~=1.6->pytket) (1.2.1)\n",
            "Collecting types-MarkupSafe\n",
            "  Downloading types_MarkupSafe-1.1.4-py3-none-any.whl (4.0 kB)\n",
            "Building wheels for collected packages: lark-parser\n",
            "  Building wheel for lark-parser (setup.py) ... \u001b[?25l\u001b[?25hdone\n",
            "  Created wheel for lark-parser: filename=lark_parser-0.11.3-py2.py3-none-any.whl size=99739 sha256=db03bdadf3b6b3318c5b131c5709244cf30c12fc3919dbb8c68bde0d802f5b34\n",
            "  Stored in directory: /root/.cache/pip/wheels/2d/f0/65/7aea47a49de7acac0108aac16a7ee00eb996f872d978feb87e\n",
            "Successfully built lark-parser\n",
            "Installing collected packages: types-MarkupSafe, numpy, types-pkg-resources, types-Jinja2, lark-parser, graphviz, pytket\n",
            "  Attempting uninstall: numpy\n",
            "    Found existing installation: numpy 1.19.5\n",
            "    Uninstalling numpy-1.19.5:\n",
            "      Successfully uninstalled numpy-1.19.5\n",
            "  Attempting uninstall: graphviz\n",
            "    Found existing installation: graphviz 0.10.1\n",
            "    Uninstalling graphviz-0.10.1:\n",
            "      Successfully uninstalled graphviz-0.10.1\n",
            "\u001b[31mERROR: pip's dependency resolver does not currently take into account all the packages that are installed. This behaviour is the source of the following dependency conflicts.\n",
            "tensorflow 2.5.0 requires numpy~=1.19.2, but you have numpy 1.21.1 which is incompatible.\n",
            "datascience 0.10.6 requires folium==0.2.1, but you have folium 0.8.3 which is incompatible.\n",
            "albumentations 0.1.12 requires imgaug<0.2.7,>=0.2.5, but you have imgaug 0.2.9 which is incompatible.\u001b[0m\n",
            "Successfully installed graphviz-0.17 lark-parser-0.11.3 numpy-1.21.1 pytket-0.13.0 types-Jinja2-2.11.2 types-MarkupSafe-1.1.4 types-pkg-resources-0.1.3\n"
          ],
          "name": "stdout"
        },
        {
          "output_type": "display_data",
          "data": {
            "application/vnd.colab-display-data+json": {
              "pip_warning": {
                "packages": [
                  "numpy"
                ]
              }
            }
          },
          "metadata": {
            "tags": []
          }
        },
        {
          "output_type": "stream",
          "text": [
            "Collecting qiskit\n",
            "  Downloading qiskit-0.28.0.tar.gz (12 kB)\n",
            "Collecting qiskit-terra==0.18.0\n",
            "  Downloading qiskit_terra-0.18.0-cp37-cp37m-manylinux2010_x86_64.whl (6.1 MB)\n",
            "\u001b[K     |████████████████████████████████| 6.1 MB 13.0 MB/s \n",
            "\u001b[?25hCollecting qiskit-aer==0.8.2\n",
            "  Downloading qiskit_aer-0.8.2-cp37-cp37m-manylinux2010_x86_64.whl (18.0 MB)\n",
            "\u001b[K     |████████████████████████████████| 18.0 MB 118 kB/s \n",
            "\u001b[?25hCollecting qiskit-ibmq-provider==0.15.0\n",
            "  Downloading qiskit_ibmq_provider-0.15.0-py3-none-any.whl (234 kB)\n",
            "\u001b[K     |████████████████████████████████| 234 kB 59.6 MB/s \n",
            "\u001b[?25hCollecting qiskit-ignis==0.6.0\n",
            "  Downloading qiskit_ignis-0.6.0-py3-none-any.whl (207 kB)\n",
            "\u001b[K     |████████████████████████████████| 207 kB 60.2 MB/s \n",
            "\u001b[?25hCollecting qiskit-aqua==0.9.4\n",
            "  Downloading qiskit_aqua-0.9.4-py3-none-any.whl (2.1 MB)\n",
            "\u001b[K     |████████████████████████████████| 2.1 MB 49.2 MB/s \n",
            "\u001b[?25hRequirement already satisfied: numpy>=1.16.3 in /usr/local/lib/python3.7/dist-packages (from qiskit-aer==0.8.2->qiskit) (1.21.1)\n",
            "Collecting pybind11>=2.6\n",
            "  Downloading pybind11-2.7.0-py2.py3-none-any.whl (199 kB)\n",
            "\u001b[K     |████████████████████████████████| 199 kB 38.1 MB/s \n",
            "\u001b[?25hRequirement already satisfied: scipy>=1.0 in /usr/local/lib/python3.7/dist-packages (from qiskit-aer==0.8.2->qiskit) (1.4.1)\n",
            "Requirement already satisfied: pandas in /usr/local/lib/python3.7/dist-packages (from qiskit-aqua==0.9.4->qiskit) (1.1.5)\n",
            "Collecting retworkx>=0.8.0\n",
            "  Downloading retworkx-0.9.0-cp37-cp37m-manylinux_2_5_x86_64.manylinux1_x86_64.manylinux_2_12_x86_64.manylinux2010_x86_64.whl (1.4 MB)\n",
            "\u001b[K     |████████████████████████████████| 1.4 MB 31.0 MB/s \n",
            "\u001b[?25hCollecting quandl\n",
            "  Downloading Quandl-3.6.1-py2.py3-none-any.whl (26 kB)\n",
            "Collecting yfinance<0.1.63\n",
            "  Downloading yfinance-0.1.62.tar.gz (26 kB)\n",
            "Requirement already satisfied: setuptools>=40.1.0 in /usr/local/lib/python3.7/dist-packages (from qiskit-aqua==0.9.4->qiskit) (57.2.0)\n",
            "Collecting dlx<=1.0.4\n",
            "  Downloading dlx-1.0.4.tar.gz (5.5 kB)\n",
            "Collecting docplex>=2.21.207\n",
            "  Downloading docplex-2.21.207.tar.gz (635 kB)\n",
            "\u001b[K     |████████████████████████████████| 635 kB 29.4 MB/s \n",
            "\u001b[?25hRequirement already satisfied: fastdtw<=0.3.4 in /usr/local/lib/python3.7/dist-packages (from qiskit-aqua==0.9.4->qiskit) (0.3.4)\n",
            "Requirement already satisfied: h5py<3.3.0 in /usr/local/lib/python3.7/dist-packages (from qiskit-aqua==0.9.4->qiskit) (3.1.0)\n",
            "Requirement already satisfied: sympy>=1.3 in /usr/local/lib/python3.7/dist-packages (from qiskit-aqua==0.9.4->qiskit) (1.7.1)\n",
            "Requirement already satisfied: scikit-learn>=0.20.0 in /usr/local/lib/python3.7/dist-packages (from qiskit-aqua==0.9.4->qiskit) (0.22.2.post1)\n",
            "Requirement already satisfied: psutil>=5 in /usr/local/lib/python3.7/dist-packages (from qiskit-aqua==0.9.4->qiskit) (5.4.8)\n",
            "Requirement already satisfied: requests>=2.19 in /usr/local/lib/python3.7/dist-packages (from qiskit-ibmq-provider==0.15.0->qiskit) (2.23.0)\n",
            "Requirement already satisfied: python-dateutil>=2.8.0 in /usr/local/lib/python3.7/dist-packages (from qiskit-ibmq-provider==0.15.0->qiskit) (2.8.1)\n",
            "Collecting websocket-client>=1.0.1\n",
            "  Downloading websocket_client-1.1.0-py2.py3-none-any.whl (68 kB)\n",
            "\u001b[K     |████████████████████████████████| 68 kB 6.9 MB/s \n",
            "\u001b[?25hRequirement already satisfied: urllib3>=1.21.1 in /usr/local/lib/python3.7/dist-packages (from qiskit-ibmq-provider==0.15.0->qiskit) (1.24.3)\n",
            "Collecting requests-ntlm>=1.1.0\n",
            "  Downloading requests_ntlm-1.1.0-py2.py3-none-any.whl (5.7 kB)\n",
            "Collecting ply>=3.10\n",
            "  Downloading ply-3.11-py2.py3-none-any.whl (49 kB)\n",
            "\u001b[K     |████████████████████████████████| 49 kB 6.1 MB/s \n",
            "\u001b[?25hCollecting fastjsonschema>=2.10\n",
            "  Downloading fastjsonschema-2.15.1-py3-none-any.whl (21 kB)\n",
            "Collecting tweedledum<2.0,>=1.1\n",
            "  Downloading tweedledum-1.1.0-cp37-cp37m-manylinux_2_12_x86_64.manylinux2010_x86_64.whl (943 kB)\n",
            "\u001b[K     |████████████████████████████████| 943 kB 47.2 MB/s \n",
            "\u001b[?25hCollecting symengine>0.7\n",
            "  Downloading symengine-0.7.2-cp37-cp37m-manylinux2010_x86_64.whl (33.9 MB)\n",
            "\u001b[K     |████████████████████████████████| 33.9 MB 18 kB/s \n",
            "\u001b[?25hCollecting python-constraint>=1.4\n",
            "  Downloading python-constraint-1.4.0.tar.bz2 (18 kB)\n",
            "Requirement already satisfied: dill>=0.3 in /usr/local/lib/python3.7/dist-packages (from qiskit-terra==0.18.0->qiskit) (0.3.4)\n",
            "Requirement already satisfied: jsonschema>=2.6 in /usr/local/lib/python3.7/dist-packages (from qiskit-terra==0.18.0->qiskit) (2.6.0)\n",
            "Requirement already satisfied: six in /usr/local/lib/python3.7/dist-packages (from docplex>=2.21.207->qiskit-aqua==0.9.4->qiskit) (1.15.0)\n",
            "Requirement already satisfied: cached-property in /usr/local/lib/python3.7/dist-packages (from h5py<3.3.0->qiskit-aqua==0.9.4->qiskit) (1.5.2)\n",
            "Requirement already satisfied: chardet<4,>=3.0.2 in /usr/local/lib/python3.7/dist-packages (from requests>=2.19->qiskit-ibmq-provider==0.15.0->qiskit) (3.0.4)\n",
            "Requirement already satisfied: idna<3,>=2.5 in /usr/local/lib/python3.7/dist-packages (from requests>=2.19->qiskit-ibmq-provider==0.15.0->qiskit) (2.10)\n",
            "Requirement already satisfied: certifi>=2017.4.17 in /usr/local/lib/python3.7/dist-packages (from requests>=2.19->qiskit-ibmq-provider==0.15.0->qiskit) (2021.5.30)\n",
            "Collecting ntlm-auth>=1.0.2\n",
            "  Downloading ntlm_auth-1.5.0-py2.py3-none-any.whl (29 kB)\n",
            "Collecting cryptography>=1.3\n",
            "  Downloading cryptography-3.4.7-cp36-abi3-manylinux2014_x86_64.whl (3.2 MB)\n",
            "\u001b[K     |████████████████████████████████| 3.2 MB 41.7 MB/s \n",
            "\u001b[?25hRequirement already satisfied: cffi>=1.12 in /usr/local/lib/python3.7/dist-packages (from cryptography>=1.3->requests-ntlm>=1.1.0->qiskit-ibmq-provider==0.15.0->qiskit) (1.14.6)\n",
            "Requirement already satisfied: pycparser in /usr/local/lib/python3.7/dist-packages (from cffi>=1.12->cryptography>=1.3->requests-ntlm>=1.1.0->qiskit-ibmq-provider==0.15.0->qiskit) (2.20)\n",
            "Requirement already satisfied: joblib>=0.11 in /usr/local/lib/python3.7/dist-packages (from scikit-learn>=0.20.0->qiskit-aqua==0.9.4->qiskit) (1.0.1)\n",
            "Requirement already satisfied: mpmath>=0.19 in /usr/local/lib/python3.7/dist-packages (from sympy>=1.3->qiskit-aqua==0.9.4->qiskit) (1.2.1)\n",
            "Requirement already satisfied: multitasking>=0.0.7 in /usr/local/lib/python3.7/dist-packages (from yfinance<0.1.63->qiskit-aqua==0.9.4->qiskit) (0.0.9)\n",
            "Collecting lxml>=4.5.1\n",
            "  Downloading lxml-4.6.3-cp37-cp37m-manylinux2014_x86_64.whl (6.3 MB)\n",
            "\u001b[K     |████████████████████████████████| 6.3 MB 34.6 MB/s \n",
            "\u001b[?25hRequirement already satisfied: pytz>=2017.2 in /usr/local/lib/python3.7/dist-packages (from pandas->qiskit-aqua==0.9.4->qiskit) (2018.9)\n",
            "Requirement already satisfied: more-itertools in /usr/local/lib/python3.7/dist-packages (from quandl->qiskit-aqua==0.9.4->qiskit) (8.8.0)\n",
            "Collecting inflection>=0.3.1\n",
            "  Downloading inflection-0.5.1-py2.py3-none-any.whl (9.5 kB)\n",
            "Building wheels for collected packages: qiskit, dlx, docplex, python-constraint, yfinance\n",
            "  Building wheel for qiskit (setup.py) ... \u001b[?25l\u001b[?25hdone\n",
            "  Created wheel for qiskit: filename=qiskit-0.28.0-py3-none-any.whl size=11090 sha256=f57b47c9603695b6f91bc116850a2244d4e277aff67e86605173749f4409b33d\n",
            "  Stored in directory: /root/.cache/pip/wheels/aa/7f/f7/f684068656b60591be96f758a6e80454a5ea5af86152598539\n",
            "  Building wheel for dlx (setup.py) ... \u001b[?25l\u001b[?25hdone\n",
            "  Created wheel for dlx: filename=dlx-1.0.4-py3-none-any.whl size=5719 sha256=5ec2d28939b1ecf71c00cbc888bcea640f54de30e46fda2b59537876733d7602\n",
            "  Stored in directory: /root/.cache/pip/wheels/78/55/c8/dc61e772445a566b7608a476d151e9dcaf4e092b01b0c4bc3c\n",
            "  Building wheel for docplex (setup.py) ... \u001b[?25l\u001b[?25hdone\n",
            "  Created wheel for docplex: filename=docplex-2.21.207-py3-none-any.whl size=700543 sha256=ad472ebc9414d4493c6c3063564a80c6cc041f4b9b7d6aef079802b79996dda9\n",
            "  Stored in directory: /root/.cache/pip/wheels/d8/4e/62/e43a45757e70549e6aa4712ccfcf67440a203c278ecb68de49\n",
            "  Building wheel for python-constraint (setup.py) ... \u001b[?25l\u001b[?25hdone\n",
            "  Created wheel for python-constraint: filename=python_constraint-1.4.0-py2.py3-none-any.whl size=24079 sha256=f54de8bad4e400e8105bd382f4b36eef084cbf8527a670280479a13d87155623\n",
            "  Stored in directory: /root/.cache/pip/wheels/07/27/db/1222c80eb1e431f3d2199c12569cb1cac60f562a451fe30479\n",
            "  Building wheel for yfinance (setup.py) ... \u001b[?25l\u001b[?25hdone\n",
            "  Created wheel for yfinance: filename=yfinance-0.1.62-py2.py3-none-any.whl size=23867 sha256=ca7f62e2af609e496e0fe6bd795cc8e5582273e0931d64f8528c920762c0f5b5\n",
            "  Stored in directory: /root/.cache/pip/wheels/4c/3a/2e/53936bb0b112189d5532492b32dd8f3e442cba9d832ceef3b6\n",
            "Successfully built qiskit dlx docplex python-constraint yfinance\n",
            "Installing collected packages: tweedledum, symengine, retworkx, python-constraint, ply, fastjsonschema, qiskit-terra, ntlm-auth, lxml, inflection, cryptography, yfinance, websocket-client, requests-ntlm, quandl, qiskit-ignis, pybind11, docplex, dlx, qiskit-ibmq-provider, qiskit-aqua, qiskit-aer, qiskit\n",
            "  Attempting uninstall: lxml\n",
            "    Found existing installation: lxml 4.2.6\n",
            "    Uninstalling lxml-4.2.6:\n",
            "      Successfully uninstalled lxml-4.2.6\n",
            "Successfully installed cryptography-3.4.7 dlx-1.0.4 docplex-2.21.207 fastjsonschema-2.15.1 inflection-0.5.1 lxml-4.6.3 ntlm-auth-1.5.0 ply-3.11 pybind11-2.7.0 python-constraint-1.4.0 qiskit-0.28.0 qiskit-aer-0.8.2 qiskit-aqua-0.9.4 qiskit-ibmq-provider-0.15.0 qiskit-ignis-0.6.0 qiskit-terra-0.18.0 quandl-3.6.1 requests-ntlm-1.1.0 retworkx-0.9.0 symengine-0.7.2 tweedledum-1.1.0 websocket-client-1.1.0 yfinance-0.1.62\n",
            "Collecting cirq\n",
            "  Downloading cirq-0.11.1-py3-none-any.whl (7.6 kB)\n",
            "Collecting cirq-core==0.11.1\n",
            "  Downloading cirq_core-0.11.1-py3-none-any.whl (1.5 MB)\n",
            "\u001b[K     |████████████████████████████████| 1.5 MB 13.3 MB/s \n",
            "\u001b[?25hCollecting cirq-google==0.11.1\n",
            "  Downloading cirq_google-0.11.1-py3-none-any.whl (380 kB)\n",
            "\u001b[K     |████████████████████████████████| 380 kB 52.1 MB/s \n",
            "\u001b[?25hRequirement already satisfied: scipy in /usr/local/lib/python3.7/dist-packages (from cirq-core==0.11.1->cirq) (1.4.1)\n",
            "Requirement already satisfied: sortedcontainers~=2.0 in /usr/local/lib/python3.7/dist-packages (from cirq-core==0.11.1->cirq) (2.4.0)\n",
            "Requirement already satisfied: tqdm in /usr/local/lib/python3.7/dist-packages (from cirq-core==0.11.1->cirq) (4.41.1)\n",
            "Requirement already satisfied: pandas in /usr/local/lib/python3.7/dist-packages (from cirq-core==0.11.1->cirq) (1.1.5)\n",
            "Requirement already satisfied: networkx~=2.4 in /usr/local/lib/python3.7/dist-packages (from cirq-core==0.11.1->cirq) (2.5.1)\n",
            "Requirement already satisfied: sympy in /usr/local/lib/python3.7/dist-packages (from cirq-core==0.11.1->cirq) (1.7.1)\n",
            "Requirement already satisfied: numpy~=1.16 in /usr/local/lib/python3.7/dist-packages (from cirq-core==0.11.1->cirq) (1.21.1)\n",
            "Requirement already satisfied: matplotlib~=3.0 in /usr/local/lib/python3.7/dist-packages (from cirq-core==0.11.1->cirq) (3.2.2)\n",
            "Requirement already satisfied: typing-extensions in /usr/local/lib/python3.7/dist-packages (from cirq-core==0.11.1->cirq) (3.7.4.3)\n",
            "Requirement already satisfied: requests~=2.18 in /usr/local/lib/python3.7/dist-packages (from cirq-core==0.11.1->cirq) (2.23.0)\n",
            "Collecting protobuf~=3.13.0\n",
            "  Downloading protobuf-3.13.0-cp37-cp37m-manylinux1_x86_64.whl (1.3 MB)\n",
            "\u001b[K     |████████████████████████████████| 1.3 MB 52.6 MB/s \n",
            "\u001b[?25hRequirement already satisfied: google-api-core[grpc]<2.0.0dev,>=1.14.0 in /usr/local/lib/python3.7/dist-packages (from cirq-google==0.11.1->cirq) (1.26.3)\n",
            "Requirement already satisfied: setuptools>=40.3.0 in /usr/local/lib/python3.7/dist-packages (from google-api-core[grpc]<2.0.0dev,>=1.14.0->cirq-google==0.11.1->cirq) (57.2.0)\n",
            "Requirement already satisfied: google-auth<2.0dev,>=1.21.1 in /usr/local/lib/python3.7/dist-packages (from google-api-core[grpc]<2.0.0dev,>=1.14.0->cirq-google==0.11.1->cirq) (1.32.1)\n",
            "Requirement already satisfied: googleapis-common-protos<2.0dev,>=1.6.0 in /usr/local/lib/python3.7/dist-packages (from google-api-core[grpc]<2.0.0dev,>=1.14.0->cirq-google==0.11.1->cirq) (1.53.0)\n",
            "Requirement already satisfied: packaging>=14.3 in /usr/local/lib/python3.7/dist-packages (from google-api-core[grpc]<2.0.0dev,>=1.14.0->cirq-google==0.11.1->cirq) (21.0)\n",
            "Requirement already satisfied: six>=1.13.0 in /usr/local/lib/python3.7/dist-packages (from google-api-core[grpc]<2.0.0dev,>=1.14.0->cirq-google==0.11.1->cirq) (1.15.0)\n",
            "Requirement already satisfied: pytz in /usr/local/lib/python3.7/dist-packages (from google-api-core[grpc]<2.0.0dev,>=1.14.0->cirq-google==0.11.1->cirq) (2018.9)\n",
            "Requirement already satisfied: grpcio<2.0dev,>=1.29.0 in /usr/local/lib/python3.7/dist-packages (from google-api-core[grpc]<2.0.0dev,>=1.14.0->cirq-google==0.11.1->cirq) (1.34.1)\n",
            "Requirement already satisfied: rsa<5,>=3.1.4 in /usr/local/lib/python3.7/dist-packages (from google-auth<2.0dev,>=1.21.1->google-api-core[grpc]<2.0.0dev,>=1.14.0->cirq-google==0.11.1->cirq) (4.7.2)\n",
            "Requirement already satisfied: pyasn1-modules>=0.2.1 in /usr/local/lib/python3.7/dist-packages (from google-auth<2.0dev,>=1.21.1->google-api-core[grpc]<2.0.0dev,>=1.14.0->cirq-google==0.11.1->cirq) (0.2.8)\n",
            "Requirement already satisfied: cachetools<5.0,>=2.0.0 in /usr/local/lib/python3.7/dist-packages (from google-auth<2.0dev,>=1.21.1->google-api-core[grpc]<2.0.0dev,>=1.14.0->cirq-google==0.11.1->cirq) (4.2.2)\n",
            "Requirement already satisfied: pyparsing!=2.0.4,!=2.1.2,!=2.1.6,>=2.0.1 in /usr/local/lib/python3.7/dist-packages (from matplotlib~=3.0->cirq-core==0.11.1->cirq) (2.4.7)\n",
            "Requirement already satisfied: cycler>=0.10 in /usr/local/lib/python3.7/dist-packages (from matplotlib~=3.0->cirq-core==0.11.1->cirq) (0.10.0)\n",
            "Requirement already satisfied: python-dateutil>=2.1 in /usr/local/lib/python3.7/dist-packages (from matplotlib~=3.0->cirq-core==0.11.1->cirq) (2.8.1)\n",
            "Requirement already satisfied: kiwisolver>=1.0.1 in /usr/local/lib/python3.7/dist-packages (from matplotlib~=3.0->cirq-core==0.11.1->cirq) (1.3.1)\n",
            "Requirement already satisfied: decorator<5,>=4.3 in /usr/local/lib/python3.7/dist-packages (from networkx~=2.4->cirq-core==0.11.1->cirq) (4.4.2)\n",
            "Requirement already satisfied: pyasn1<0.5.0,>=0.4.6 in /usr/local/lib/python3.7/dist-packages (from pyasn1-modules>=0.2.1->google-auth<2.0dev,>=1.21.1->google-api-core[grpc]<2.0.0dev,>=1.14.0->cirq-google==0.11.1->cirq) (0.4.8)\n",
            "Requirement already satisfied: idna<3,>=2.5 in /usr/local/lib/python3.7/dist-packages (from requests~=2.18->cirq-core==0.11.1->cirq) (2.10)\n",
            "Requirement already satisfied: urllib3!=1.25.0,!=1.25.1,<1.26,>=1.21.1 in /usr/local/lib/python3.7/dist-packages (from requests~=2.18->cirq-core==0.11.1->cirq) (1.24.3)\n",
            "Requirement already satisfied: certifi>=2017.4.17 in /usr/local/lib/python3.7/dist-packages (from requests~=2.18->cirq-core==0.11.1->cirq) (2021.5.30)\n",
            "Requirement already satisfied: chardet<4,>=3.0.2 in /usr/local/lib/python3.7/dist-packages (from requests~=2.18->cirq-core==0.11.1->cirq) (3.0.4)\n",
            "Requirement already satisfied: mpmath>=0.19 in /usr/local/lib/python3.7/dist-packages (from sympy->cirq-core==0.11.1->cirq) (1.2.1)\n",
            "Installing collected packages: protobuf, cirq-core, cirq-google, cirq\n",
            "  Attempting uninstall: protobuf\n",
            "    Found existing installation: protobuf 3.17.3\n",
            "    Uninstalling protobuf-3.17.3:\n",
            "      Successfully uninstalled protobuf-3.17.3\n",
            "\u001b[31mERROR: pip's dependency resolver does not currently take into account all the packages that are installed. This behaviour is the source of the following dependency conflicts.\n",
            "tensorflow 2.5.0 requires numpy~=1.19.2, but you have numpy 1.21.1 which is incompatible.\u001b[0m\n",
            "Successfully installed cirq-0.11.1 cirq-core-0.11.1 cirq-google-0.11.1 protobuf-3.13.0\n"
          ],
          "name": "stdout"
        },
        {
          "output_type": "display_data",
          "data": {
            "application/vnd.colab-display-data+json": {
              "pip_warning": {
                "packages": [
                  "google"
                ]
              }
            }
          },
          "metadata": {
            "tags": []
          }
        }
      ]
    },
    {
      "cell_type": "code",
      "metadata": {
        "id": "iRx7W-PS6NHL"
      },
      "source": [
        "from discopy import Ob, Ty\n",
        "\n",
        "egg, white, yolk = Ty('egg'), Ty('white'), Ty('yolk')\n",
        "\n",
        "assert egg.objects == [Ob('egg')]\n",
        "assert white @ yolk == Ty(Ob('white'), Ob('yolk'))\n",
        "\n",
        "assert egg @ Ty() == egg == Ty() @ egg\n",
        "assert egg @ (white @ yolk) == (egg @ white) @ yolk"
      ],
      "execution_count": 2,
      "outputs": []
    },
    {
      "cell_type": "code",
      "metadata": {
        "colab": {
          "base_uri": "https://localhost:8080/",
          "height": 175
        },
        "id": "R2usgFVn6NEt",
        "outputId": "47af5fe9-aeae-4799-892a-cc9386eb1245"
      },
      "source": [
        "from discopy import Box\n",
        "\n",
        "crack = Box('Crack', dom=egg, cod=white @ yolk)\n",
        "\n",
        "crack.draw(figsize=(2, 2))"
      ],
      "execution_count": 3,
      "outputs": [
        {
          "output_type": "display_data",
          "data": {
            "image/png": "[encoded data removed]",
            "text/plain": [
              "<Figure size 144x144 with 1 Axes>"
            ]
          },
          "metadata": {
            "tags": [],
            "needs_background": "light"
          }
        }
      ]
    },
    {
      "cell_type": "code",
      "metadata": {
        "colab": {
          "base_uri": "https://localhost:8080/",
          "height": 175
        },
        "id": "V-hLGXXx6NBA",
        "outputId": "0c2e5e55-0cea-4588-cc4a-16cbb1e72eaf"
      },
      "source": [
        "from discopy import drawing\n",
        "\n",
        "mix = Box('Mix', white @ yolk, egg)\n",
        "\n",
        "crack_tensor_mix = crack @ mix\n",
        "crack_then_mix = crack >> mix\n",
        "\n",
        "drawing.equation(crack_tensor_mix, crack_then_mix, space=2, symbol=', ', figsize=(8, 2))"
      ],
      "execution_count": 4,
      "outputs": [
        {
          "output_type": "display_data",
          "data": {
            "image/png": "[encoded data removed]",
            "text/plain": [
              "<Figure size 576x144 with 1 Axes>"
            ]
          },
          "metadata": {
            "tags": [],
            "needs_background": "light"
          }
        }
      ]
    },
    {
      "cell_type": "code",
      "metadata": {
        "colab": {
          "base_uri": "https://localhost:8080/",
          "height": 175
        },
        "id": "MVY86N1y6M-A",
        "outputId": "791e9f55-eab5-44a1-8b84-bb3f72137d3e"
      },
      "source": [
        "from discopy import Id\n",
        "\n",
        "assert crack >> Id(white @ yolk) == crack == Id(egg) >> crack\n",
        "assert crack @ Id(Ty()) == crack == Id(Ty()) @ crack\n",
        "\n",
        "sugar, yolky_paste = Ty('sugar'), Ty('yolky_paste')\n",
        "beat = Box('beat', yolk @ sugar, yolky_paste)\n",
        "\n",
        "crack_then_beat = crack @ Id(sugar) >> Id(white) @ beat\n",
        "\n",
        "crack_then_beat.draw(figsize=(3, 2))"
      ],
      "execution_count": 5,
      "outputs": [
        {
          "output_type": "display_data",
          "data": {
            "image/png": "[encoded data removed]",
            "text/plain": [
              "<Figure size 216x144 with 1 Axes>"
            ]
          },
          "metadata": {
            "tags": [],
            "needs_background": "light"
          }
        }
      ]
    },
    {
      "cell_type": "code",
      "metadata": {
        "colab": {
          "base_uri": "https://localhost:8080/",
          "height": 535
        },
        "id": "_qcD_BGH6hNo",
        "outputId": "cf55b8cc-fac8-4479-d268-4a0c56394d26"
      },
      "source": [
        "white, whisked_whites = Ty('white'), Ty('whisked_white')\n",
        "cream, thick_paste = Ty('marcaspone'), Ty('thick_paste')\n",
        "creama = Ty('filling')\n",
        "\n",
        "whisk = Box('whisk', white, whisked_whites)\n",
        "\n",
        "stir = Box('stir', yolky_paste @ cream, thick_paste)\n",
        "\n",
        "create_filling = Box('create_filling', whisked_whites @ thick_paste, creama)\n",
        "\n",
        "\n",
        "step_1 = crack @ Id(sugar) @ Id(cream)\n",
        "step_2 = Id(white) @ beat  @ Id(cream)\n",
        "step_3 = step_1 >> step_2 \n",
        "step_4 =  step_3  >>  whisk @ Id(yolky_paste) @ Id(cream)\n",
        "step_5 = step_4 >> Id(whisked_whites) @ stir \n",
        "step_6 = step_5 >> create_filling\n",
        "\n",
        "\n",
        "step_6.draw(figsize=(7, 7))"
      ],
      "execution_count": 6,
      "outputs": [
        {
          "output_type": "display_data",
          "data": {
            "image/png": "[encoded data removed]",
            "text/plain": [
              "<Figure size 504x504 with 1 Axes>"
            ]
          },
          "metadata": {
            "tags": [],
            "needs_background": "light"
          }
        }
      ]
    },
    {
      "cell_type": "code",
      "metadata": {
        "colab": {
          "base_uri": "https://localhost:8080/",
          "height": 1000
        },
        "id": "a66TS9_bFa-u",
        "outputId": "9d10fe1a-1c8f-4991-9ea4-e491d6f07e0f"
      },
      "source": [
        "\n",
        "\n",
        "def get_tiramisu_layer(n):\n",
        "    egg, white, yolk = Ty('egg'), Ty('white'), Ty('yolk')\n",
        "    crack = Box('Crack', dom=egg, cod=white @ yolk)\n",
        "    sugar, yolky_paste = Ty('sugar'), Ty('yolky_paste')\n",
        "    beat = Box('beat', yolk @ sugar, yolky_paste)\n",
        "    white, whisked_whites = Ty('white'), Ty('whisked_white')\n",
        "    cream, thick_paste = Ty('marcaspone'), Ty('thick_paste')\n",
        "    creama = Ty('filling')\n",
        "\n",
        "    whisk = Box('whisk', white, whisked_whites)\n",
        "\n",
        "    stir = Box('stir', yolky_paste @ cream, thick_paste)\n",
        "\n",
        "    create_filling = Box('create_filling_layer', whisked_whites @ thick_paste, creama)\n",
        "\n",
        "\n",
        "    step_1 = crack @ Id(sugar) @ Id(cream)\n",
        "    step_2 = Id(white) @ beat  @ Id(cream)\n",
        "    step_3 = step_1 >> step_2 \n",
        "    step_4 =  step_3  >>  whisk @ Id(yolky_paste) @ Id(cream)\n",
        "    step_5 = step_4 >> Id(whisked_whites) @ stir \n",
        "    step_6 = step_5 >> create_filling\n",
        "    answer = step_6\n",
        "\n",
        "    while(n-1):\n",
        "        answer @= step_6\n",
        "        n -= 1\n",
        "    return answer\n",
        "\n",
        "get_tiramisu_layer(3).draw(figsize=(15, 15))"
      ],
      "execution_count": 7,
      "outputs": [
        {
          "output_type": "display_data",
          "data": {
            "image/png": "[encoded data removed]",
            "text/plain": [
              "<Figure size 1080x1080 with 1 Axes>"
            ]
          },
          "metadata": {
            "tags": [],
            "needs_background": "light"
          }
        }
      ]
    },
    {
      "cell_type": "code",
      "metadata": {
        "colab": {
          "base_uri": "https://localhost:8080/",
          "height": 319
        },
        "id": "q4kXCBX-6M7J",
        "outputId": "595f3517-28d2-4213-a594-c6bb4a2b2b4e"
      },
      "source": [
        "from discopy import Swap\n",
        "\n",
        "merge = lambda x: Box('merge', x @ x, x)\n",
        "\n",
        "crack_two_eggs = crack @ crack\\\n",
        "    >> Id(white) @ Swap(yolk, white) @ Id(yolk)\\\n",
        "    >> merge(white) @ merge(yolk)\n",
        "\n",
        "crack_two_eggs.draw(figsize=(3, 4))"
      ],
      "execution_count": 8,
      "outputs": [
        {
          "output_type": "display_data",
          "data": {
            "image/png": "[encoded data removed]",
            "text/plain": [
              "<Figure size 216x288 with 1 Axes>"
            ]
          },
          "metadata": {
            "tags": [],
            "needs_background": "light"
          }
        }
      ]
    },
    {
      "cell_type": "code",
      "metadata": {
        "id": "Hq-dKrHB6hKV"
      },
      "source": [
        "#########################"
      ],
      "execution_count": 9,
      "outputs": []
    },
    {
      "cell_type": "code",
      "metadata": {
        "colab": {
          "base_uri": "https://localhost:8080/"
        },
        "id": "5Y4pGGoj6hG2",
        "outputId": "b77c792c-8679-49e2-b673-a7fab1577729"
      },
      "source": [
        "from discopy import Dim, Tensor\n",
        "\n",
        "matrix = Tensor(Dim(2), Dim(2), [0, 1, 1, 0])\n",
        "\n",
        "matrix.array"
      ],
      "execution_count": 10,
      "outputs": [
        {
          "output_type": "execute_result",
          "data": {
            "text/plain": [
              "array([[0, 1],\n",
              "       [1, 0]])"
            ]
          },
          "metadata": {
            "tags": []
          },
          "execution_count": 10
        }
      ]
    },
    {
      "cell_type": "code",
      "metadata": {
        "colab": {
          "base_uri": "https://localhost:8080/"
        },
        "id": "tyyID5JB6hDm",
        "outputId": "db874a37-63bb-4aba-8ef3-462f00881ee1"
      },
      "source": [
        "assert matrix >> Tensor.id(Dim(2)) == matrix == Tensor.id(Dim(2)) >> matrix\n",
        "\n",
        "vector = Tensor(Dim(1), Dim(2), [0, 1])\n",
        "\n",
        "vector >> matrix"
      ],
      "execution_count": 11,
      "outputs": [
        {
          "output_type": "execute_result",
          "data": {
            "text/plain": [
              "Tensor(dom=Dim(1), cod=Dim(2), array=[1, 0])"
            ]
          },
          "metadata": {
            "tags": []
          },
          "execution_count": 11
        }
      ]
    },
    {
      "cell_type": "code",
      "metadata": {
        "colab": {
          "base_uri": "https://localhost:8080/"
        },
        "id": "YF4tUdBZ6hAe",
        "outputId": "14693e5a-6df0-427a-e733-e594ae3b0292"
      },
      "source": [
        "assert Tensor.id(Dim(1)) @ matrix == matrix == matrix @ Tensor.id(Dim(1))\n",
        "\n",
        "Tensor.id(Dim(1))"
      ],
      "execution_count": 12,
      "outputs": [
        {
          "output_type": "execute_result",
          "data": {
            "text/plain": [
              "Tensor(dom=Dim(1), cod=Dim(1), array=[1.])"
            ]
          },
          "metadata": {
            "tags": []
          },
          "execution_count": 12
        }
      ]
    },
    {
      "cell_type": "code",
      "metadata": {
        "colab": {
          "base_uri": "https://localhost:8080/"
        },
        "id": "wY90UGsm6g9g",
        "outputId": "7052ef95-f1c4-4bf5-f31b-30acd0baa2c6"
      },
      "source": [
        "vector @ vector"
      ],
      "execution_count": 13,
      "outputs": [
        {
          "output_type": "execute_result",
          "data": {
            "text/plain": [
              "Tensor(dom=Dim(1), cod=Dim(2, 2), array=[0, 0, 0, 1])"
            ]
          },
          "metadata": {
            "tags": []
          },
          "execution_count": 13
        }
      ]
    },
    {
      "cell_type": "code",
      "metadata": {
        "colab": {
          "base_uri": "https://localhost:8080/"
        },
        "id": "VWOu1XWu6g6N",
        "outputId": "ef3b2a09-497d-4c65-a97c-11e1a046c9b1"
      },
      "source": [
        "vector @ matrix"
      ],
      "execution_count": 14,
      "outputs": [
        {
          "output_type": "execute_result",
          "data": {
            "text/plain": [
              "Tensor(dom=Dim(2), cod=Dim(2, 2), array=[0, 0, 0, 1, 0, 0, 1, 0])"
            ]
          },
          "metadata": {
            "tags": []
          },
          "execution_count": 14
        }
      ]
    },
    {
      "cell_type": "code",
      "metadata": {
        "id": "YZoo0Wy3vTby"
      },
      "source": [
        "import numpy as np\n",
        "\n",
        "assert np.all(\n",
        "    (matrix >> matrix).array == matrix.array.dot(matrix.array))\n",
        "assert np.all(\n",
        "    (matrix @ matrix).array == np.moveaxis(np.tensordot(\n",
        "    matrix.array, matrix.array, 0), range(4), [0, 2, 1, 3]))"
      ],
      "execution_count": 15,
      "outputs": []
    },
    {
      "cell_type": "code",
      "metadata": {
        "colab": {
          "base_uri": "https://localhost:8080/"
        },
        "id": "a_5XfIOxvTY7",
        "outputId": "fc76c0ad-1759-411a-9315-2236d9b35be5"
      },
      "source": [
        "matrix = Tensor(Dim(2), Dim(2), [0, -1j, 1j, 0])\n",
        "\n",
        "matrix >> matrix[::-1]"
      ],
      "execution_count": 16,
      "outputs": [
        {
          "output_type": "execute_result",
          "data": {
            "text/plain": [
              "Tensor(dom=Dim(2), cod=Dim(2), array=[1.+0.j, -0.+0.j, -0.+0.j, 1.+0.j])"
            ]
          },
          "metadata": {
            "tags": []
          },
          "execution_count": 16
        }
      ]
    },
    {
      "cell_type": "code",
      "metadata": {
        "id": "Ytwvxou0vTWH"
      },
      "source": [
        "################### task 3 quantum circuits ###"
      ],
      "execution_count": 17,
      "outputs": []
    },
    {
      "cell_type": "code",
      "metadata": {
        "id": "x2PEVEZwDNxm"
      },
      "source": [
        "##############exercises for task 3######################"
      ],
      "execution_count": 18,
      "outputs": []
    },
    {
      "cell_type": "code",
      "metadata": {
        "colab": {
          "base_uri": "https://localhost:8080/"
        },
        "id": "bLKX4QT8DNtK",
        "outputId": "9bb8485a-3859-4742-86ac-217f3439a9ce"
      },
      "source": [
        "####1 bell experiment using cirq#####\n",
        "\n",
        "import cirq \n",
        "\n",
        "\n",
        "q0 = cirq.GridQubit(0, 0) \n",
        "q1 = cirq.GridQubit(0, 1) \n",
        "\n",
        "\n",
        "circuit = cirq.Circuit() \n",
        "\n",
        "\n",
        "circuit.append(cirq.H(q0)) \n",
        "circuit.append(cirq.CX(q0,q1)) \n",
        "\n",
        "circuit.append(cirq.measure(q0, key='m0'))  \n",
        "circuit.append(cirq.measure(q1, key='m1')) \n",
        "\n",
        "print(\"Circuit:\")\n",
        "print(circuit) \n",
        "\n",
        "shots = 1000\n",
        "simulator = cirq.Simulator() \n",
        "result = simulator.run(circuit, repetitions=shots) "
      ],
      "execution_count": 19,
      "outputs": [
        {
          "output_type": "stream",
          "text": [
            "Circuit:\n",
            "(0, 0): ───H───@───M('m0')───\n",
            "               │\n",
            "(0, 1): ───────X───M('m1')───\n"
          ],
          "name": "stdout"
        }
      ]
    },
    {
      "cell_type": "code",
      "metadata": {
        "colab": {
          "base_uri": "https://localhost:8080/",
          "height": 386
        },
        "id": "YvH4C53GN26h",
        "outputId": "4871ade1-b548-4bfa-db56-2fc3247e9da6"
      },
      "source": [
        "counts = cirq.plot_state_histogram(result)"
      ],
      "execution_count": 20,
      "outputs": [
        {
          "output_type": "stream",
          "text": [
            "/usr/local/lib/python3.7/dist-packages/ipykernel_launcher.py:1: DeprecationWarning: cirq.study.visualize.plot_state_histogram was used but is deprecated.\n",
            "It will be removed in cirq v0.12.\n",
            "use cirq.vis.plot_state_histogram or cirq.vis.get_state_histogram instead\n",
            "\n",
            "  \"\"\"Entry point for launching an IPython kernel.\n"
          ],
          "name": "stderr"
        },
        {
          "output_type": "display_data",
          "data": {
            "image/png": "[encoded data removed]",
            "text/plain": [
              "<Figure size 432x288 with 1 Axes>"
            ]
          },
          "metadata": {
            "tags": [],
            "needs_background": "light"
          }
        }
      ]
    },
    {
      "cell_type": "code",
      "metadata": {
        "colab": {
          "base_uri": "https://localhost:8080/"
        },
        "id": "PndjLCl3N7jF",
        "outputId": "c68f1805-6397-4e7a-b22a-8af032abb2f6"
      },
      "source": [
        "print(\"Probabiity =\", counts/shots) "
      ],
      "execution_count": 21,
      "outputs": [
        {
          "output_type": "stream",
          "text": [
            "Probabiity = [0.502 0.    0.    0.498]\n"
          ],
          "name": "stdout"
        }
      ]
    },
    {
      "cell_type": "code",
      "metadata": {
        "id": "eFSnOEWQOOYn"
      },
      "source": [
        "#####2 circuit to create GHZ state###"
      ],
      "execution_count": 22,
      "outputs": []
    },
    {
      "cell_type": "code",
      "metadata": {
        "colab": {
          "base_uri": "https://localhost:8080/",
          "height": 125
        },
        "id": "MfnrRwauOOVW",
        "outputId": "7bad6101-5ea6-4068-f0c2-e6ea3dcaac30"
      },
      "source": [
        "from qiskit import QuantumCircuit\n",
        "circ = QuantumCircuit(3)\n",
        "\n",
        "\n",
        "circ.h(0)\n",
        "circ.cx(0, 1)\n",
        "circ.cx(0, 2)\n",
        "\n",
        "\n",
        "circ.draw()"
      ],
      "execution_count": 23,
      "outputs": [
        {
          "output_type": "execute_result",
          "data": {
            "text/html": [
              "<pre style=\"word-wrap: normal;white-space: pre;background: #fff0;line-height: 1.1;font-family: &quot;Courier New&quot;,Courier,monospace\">     ┌───┐          \n",
              "q_0: ┤ H ├──■────■──\n",
              "     └───┘┌─┴─┐  │  \n",
              "q_1: ─────┤ X ├──┼──\n",
              "          └───┘┌─┴─┐\n",
              "q_2: ──────────┤ X ├\n",
              "               └───┘</pre>"
            ],
            "text/plain": [
              "     ┌───┐          \n",
              "q_0: ┤ H ├──■────■──\n",
              "     └───┘┌─┴─┐  │  \n",
              "q_1: ─────┤ X ├──┼──\n",
              "          └───┘┌─┴─┐\n",
              "q_2: ──────────┤ X ├\n",
              "               └───┘"
            ]
          },
          "metadata": {
            "tags": []
          },
          "execution_count": 23
        }
      ]
    },
    {
      "cell_type": "code",
      "metadata": {
        "id": "noyrXc6_OOSC"
      },
      "source": [
        "##### task 4 #####################\n",
        "###part A#####"
      ],
      "execution_count": 24,
      "outputs": []
    },
    {
      "cell_type": "code",
      "metadata": {
        "colab": {
          "base_uri": "https://localhost:8080/",
          "height": 161
        },
        "id": "wRUoho9zOOO3",
        "outputId": "50b4d923-5917-4826-cee8-8b0855703a08"
      },
      "source": [
        "from discopy import Ty, Id, Word, Cup, pregroup\n",
        "from discopy.grammar import draw\n",
        "\n",
        "n, s = Ty('n'), Ty('s')\n",
        "\n",
        "Alice = Word(\"Alice\", n)\n",
        "loves = Word(\"loves\", n.r @ s @ n.l)\n",
        "Bob = Word(\"Bob\", n)\n",
        "\n",
        "grammar = Cup(n, n.r) @ Id(s) @ Cup(n.l, n)\n",
        "\n",
        "sentence = Alice @ loves @ Bob >> grammar\n",
        "pregroup.draw(sentence, figsize=(5, 5))"
      ],
      "execution_count": 44,
      "outputs": [
        {
          "output_type": "display_data",
          "data": {
            "image/png": "[encoded data removed]",
            "text/plain": [
              "<Figure size 360x360 with 1 Axes>"
            ]
          },
          "metadata": {
            "tags": [],
            "needs_background": "light"
          }
        }
      ]
    },
    {
      "cell_type": "code",
      "metadata": {
        "colab": {
          "base_uri": "https://localhost:8080/",
          "height": 128
        },
        "id": "OMi-uJLtOOLx",
        "outputId": "865ee163-b2bc-4077-d9ab-6a78d6573bf6"
      },
      "source": [
        "###Part A###\n",
        "\n",
        "### 1 ####\n",
        "\n",
        "###japanese###\n",
        "\n",
        "n, s = Ty('n'), Ty('s')\n",
        "\n",
        "wa = Word(\"wa\", n.r @ s @ n.l)\n",
        "o_aishiteimasu = Word(\"o aishiteimasu\", n)\n",
        "\n",
        "Arisu = Word(\"Arisu\", n)\n",
        "Bobu = Word(\"Bobu\", n @ n.l)\n",
        "\n",
        "grammar1 = Cup(n, n.r) @ Id(s)  @ Cup(n.l, n) @ Cup(n.l, n) \n",
        "\n",
        "sentence = Arisu @ wa @ Bobu @ o_aishiteimasu >> grammar1\n",
        "pregroup.draw(sentence, figsize=(5, 5))"
      ],
      "execution_count": 86,
      "outputs": [
        {
          "output_type": "display_data",
          "data": {
            "image/png": "[encoded data removed]",
            "text/plain": [
              "<Figure size 360x360 with 1 Axes>"
            ]
          },
          "metadata": {
            "tags": [],
            "needs_background": "light"
          }
        }
      ]
    },
    {
      "cell_type": "code",
      "metadata": {
        "colab": {
          "base_uri": "https://localhost:8080/",
          "height": 161
        },
        "id": "19OYzGj4OOIp",
        "outputId": "912731f2-f4de-48f9-84ac-fcf81d7cf940"
      },
      "source": [
        "## 2 ###\n",
        "\n",
        "Alice = Word(\"bub\", n)\n",
        "loves = Word(\"tuhibu\", n.r @ s @ n.l)\n",
        "Bob = Word(\"alays\", n)\n",
        "\n",
        "grammar = Cup(n, n.r) @ Id(s) @ Cup(n.l, n)\n",
        "\n",
        "sentence = Alice @ loves @ Bob >> grammar\n",
        "pregroup.draw(sentence, figsize=(5, 5))\n"
      ],
      "execution_count": 49,
      "outputs": [
        {
          "output_type": "display_data",
          "data": {
            "image/png": "[encoded data removed]",
            "text/plain": [
              "<Figure size 360x360 with 1 Axes>"
            ]
          },
          "metadata": {
            "tags": [],
            "needs_background": "light"
          }
        }
      ]
    },
    {
      "cell_type": "code",
      "metadata": {
        "colab": {
          "base_uri": "https://localhost:8080/",
          "height": 195
        },
        "id": "wEUbHM6TOOFg",
        "outputId": "59f2e32b-a655-415f-833a-66b9f4c337fe"
      },
      "source": [
        "###cannibals prefer man to pork###\n",
        "from discopy import Diagram, grammar\n",
        "cannibals_prefer = Diagram(\n",
        "    dom=Ty(),\n",
        "    cod=Ty('s'),\n",
        "    boxes=[\n",
        "        Word('cannibals', Ty('n')),\n",
        "        Word('prefer', Ty(Ob('n', z=1), 's', Ob('s', z=-1), 'n', Ob('n', z=-1))),\n",
        "        Word('men', Ty('n')),\n",
        "        Word('to', Ty(Ob('n', z=1), 's', Ob('s', z=-1), 'n')),\n",
        "        Word('pork', Ty(Ob('n', z=1), 's')),\n",
        "        Cup(Ty('n'), Ty(Ob('n', z=1))),\n",
        "        Cup(Ty(Ob('n', z=-1)), Ty('n')),\n",
        "        Cup(Ty('n'), Ty(Ob('n', z=1))),\n",
        "        Cup(Ty(Ob('s', z=-1)), Ty('s')),\n",
        "        Cup(Ty('n'), Ty(Ob('n', z=1))),\n",
        "        Cup(Ty(Ob('s', z=-1)), Ty('s'))],\n",
        "    offsets=[0, 1, 6, 7, 11, 0, 3, 2, 1, 2, 1]\n",
        ")\n",
        "\n",
        "#cannibals_prefer.draw()\n",
        "grammar.draw(cannibals_prefer)"
      ],
      "execution_count": 87,
      "outputs": [
        {
          "output_type": "display_data",
          "data": {
            "image/png": "[encoded data removed]",
            "text/plain": [
              "<Figure size 432x288 with 1 Axes>"
            ]
          },
          "metadata": {
            "tags": [],
            "needs_background": "light"
          }
        }
      ]
    },
    {
      "cell_type": "code",
      "metadata": {
        "id": "JpzVCmqaP2ME"
      },
      "source": [
        "#################\n",
        "###Part B###"
      ],
      "execution_count": null,
      "outputs": []
    },
    {
      "cell_type": "code",
      "metadata": {
        "colab": {
          "base_uri": "https://localhost:8080/"
        },
        "id": "RYyPp7ErP2JE",
        "outputId": "1c2fafbb-f54f-4a1c-b05d-4f93cba10405"
      },
      "source": [
        "from discopy import Dim, Tensor, tensor\n",
        "F = tensor.Functor(\n",
        "    ob={n: 2, s: 1},\n",
        "    ar={Alice: [0, 1], loves: [0, 1, 1, 0], Bob: [1, 0]})\n",
        "\n",
        "print(F(Alice @ loves @ Bob))\n",
        "print(F(grammar))\n",
        "\n",
        "assert F(Alice @ loves @ Bob >> grammar) == 1"
      ],
      "execution_count": 45,
      "outputs": [
        {
          "output_type": "stream",
          "text": [
            "Tensor(dom=Dim(1), cod=Dim(2, 2, 2, 2), array=[0., 0., 0., 0., 0., 0., 0., 0., 0., 0., 1., 0., 1., 0., 0., 0.])\n",
            "Tensor(dom=Dim(2, 2, 2, 2), cod=Dim(1), array=[1., 0., 0., 1., 0., 0., 0., 0., 0., 0., 0., 0., 1., 0., 0., 1.])\n"
          ],
          "name": "stdout"
        }
      ]
    },
    {
      "cell_type": "code",
      "metadata": {
        "colab": {
          "base_uri": "https://localhost:8080/",
          "height": 103
        },
        "id": "OUYP_Qx7P2GU",
        "outputId": "99b5afbd-3f27-4b01-a791-8c2018e42cba"
      },
      "source": [
        "assert not F(Alice) >> F(Bob)[::-1]\n",
        "\n",
        "drawing.equation(Alice, Bob, symbol=\"$\\\\neq$\", figsize=(3, 1))"
      ],
      "execution_count": 46,
      "outputs": [
        {
          "output_type": "display_data",
          "data": {
            "image/png": "[encoded data removed]",
            "text/plain": [
              "<Figure size 216x72 with 1 Axes>"
            ]
          },
          "metadata": {
            "tags": [],
            "needs_background": "light"
          }
        }
      ]
    },
    {
      "cell_type": "code",
      "metadata": {
        "colab": {
          "base_uri": "https://localhost:8080/",
          "height": 103
        },
        "id": "K4UjXfcgP2DE",
        "outputId": "93587117-8160-40e2-8220-c6af6a5491de"
      },
      "source": [
        "rich, man = Word(\"rich\", n @ n.l), Word(\"man\", n)\n",
        "\n",
        "F.ar[rich], F.ar[man] = [1, 0, 0, 0], [1, 0]\n",
        "\n",
        "rich_man = rich @ man >> Id(n) @ Cup(n.l, n)\n",
        "\n",
        "assert F(Bob) >> F(rich_man)[::-1]  # i.e. Bob is a rich man.\n",
        "\n",
        "drawing.equation(Bob, rich_man, figsize=(5, 1))"
      ],
      "execution_count": 47,
      "outputs": [
        {
          "output_type": "display_data",
          "data": {
            "image/png": "[encoded data removed]",
            "text/plain": [
              "<Figure size 360x72 with 1 Axes>"
            ]
          },
          "metadata": {
            "tags": [],
            "needs_background": "light"
          }
        }
      ]
    },
    {
      "cell_type": "code",
      "metadata": {
        "colab": {
          "base_uri": "https://localhost:8080/",
          "height": 175
        },
        "id": "ycoLb_UXP2AS",
        "outputId": "52b961d5-7f52-4a5c-fac8-fc629c45aad5"
      },
      "source": [
        "q = Ty('q')\n",
        "\n",
        "Who = Word(\"Who\", q @ s.l @ n)\n",
        "\n",
        "F.ob[q], F.ar[Who] = 2, [1, 0, 0, 1]\n",
        "\n",
        "question = Who @ loves @ Bob\\\n",
        "    >> Id(q @ s.l) @ Cup(n, n.r) @ Id(s) @ Cup(n.l, n)\\\n",
        "    >> Id(q) @ Cup(s.l, s) \n",
        "\n",
        "answer = Alice\n",
        "\n",
        "assert F(question) == F(answer)\n",
        "\n",
        "drawing.equation(question, answer, figsize=(6, 2))"
      ],
      "execution_count": 48,
      "outputs": [
        {
          "output_type": "display_data",
          "data": {
            "image/png": "[encoded data removed]",
            "text/plain": [
              "<Figure size 432x144 with 1 Axes>"
            ]
          },
          "metadata": {
            "tags": [],
            "needs_background": "light"
          }
        }
      ]
    },
    {
      "cell_type": "code",
      "metadata": {
        "id": "AF00CS2TON-s"
      },
      "source": [
        ""
      ],
      "execution_count": 48,
      "outputs": []
    },
    {
      "cell_type": "code",
      "metadata": {
        "id": "I9j8qOF-KJV_"
      },
      "source": [
        ""
      ],
      "execution_count": 48,
      "outputs": []
    },
    {
      "cell_type": "code",
      "metadata": {
        "id": "m1awd1AdKJSp"
      },
      "source": [
        ""
      ],
      "execution_count": 48,
      "outputs": []
    },
    {
      "cell_type": "code",
      "metadata": {
        "id": "mZQ2VAxSKJPJ"
      },
      "source": [
        ""
      ],
      "execution_count": 48,
      "outputs": []
    },
    {
      "cell_type": "code",
      "metadata": {
        "id": "yVMNz2swKJL5"
      },
      "source": [
        ""
      ],
      "execution_count": 48,
      "outputs": []
    },
    {
      "cell_type": "code",
      "metadata": {
        "id": "FGQgD7laKJIl"
      },
      "source": [
        ""
      ],
      "execution_count": 48,
      "outputs": []
    },
    {
      "cell_type": "code",
      "metadata": {
        "id": "Bm9K9r-zKJFp"
      },
      "source": [
        ""
      ],
      "execution_count": 48,
      "outputs": []
    },
    {
      "cell_type": "code",
      "metadata": {
        "id": "5bMpoog4KJCk"
      },
      "source": [
        ""
      ],
      "execution_count": 48,
      "outputs": []
    },
    {
      "cell_type": "code",
      "metadata": {
        "id": "YadGtMXyKI_I"
      },
      "source": [
        ""
      ],
      "execution_count": 48,
      "outputs": []
    },
    {
      "cell_type": "code",
      "metadata": {
        "id": "z8927RI1KI8N"
      },
      "source": [
        ""
      ],
      "execution_count": 48,
      "outputs": []
    }
  ]
}