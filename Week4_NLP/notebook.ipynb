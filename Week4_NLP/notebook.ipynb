{
 "cells": [
  {
   "cell_type": "code",
   "execution_count": 2,
   "id": "eee9565e",
   "metadata": {},
   "outputs": [],
   "source": [
    "import jax.numpy as np\n",
    "from jax import jit\n",
    "from discopy import Tensor\n",
    "Tensor.np = np\n",
    "\n",
    "import discopy"
   ]
  },
  {
   "cell_type": "code",
   "execution_count": 29,
   "id": "2a554833",
   "metadata": {},
   "outputs": [],
   "source": [
    "#******************************************\n",
    "# Generate your corpus\n",
    "#******************************************\n",
    "# sentences can be of the `word1 word2 word3 ...`\n",
    "# if you are generating the diagrams using templates\n",
    "# then you may want to consider adding POS tags (N, V, Adj) for each word\n",
    "# labels should be of the form [0,1] or [1,0] for binary classification\n",
    "\n",
    "# TODO make sentences\n",
    "## Basketball game\n",
    "train_sentences = ['Bulls play Hornets', 'Bulls beat Hornets', 'Bulls from Charlotte', 'Bulls in Chicago', \n",
    "                   'Hornets from Charlotte', 'Bulls wear green', 'Charlotte in Illinois', 'Chicago in Illinois', \n",
    "                   'Bulls lost championships','Hornets attended championships']\n",
    "dev_sentences = ['Bulls wear red', 'Hornets wear green','Hornets in Charlotte','Hornets beat Bulls','Hornets won championships']\n",
    "test_sentences = ['Hornets forfeit Bulls', 'Bulls represent Chicago', 'Hornets scrimmaged Bulls', 'Bulls in Illinois', \n",
    "                  'Hornets in Illinois', 'Hornets in Carolina', 'Bulls in Carolina', 'Bulls wear red', \n",
    "                  'Bulls won championships', 'Chicago won championships', 'Illinois won championships']\n",
    "\n",
    "# TODO make labels\n",
    "train_labels = [[1,0],[1,0],[0,1],[1,0],[1,0],[0,1],[0,1],[1,0],[0,1],[1,0]]\n",
    "dev_labels = [[1,0],[1,0],[1,0],[0,1],[0,1]]\n",
    "test_labels = [[0,1],[1,0],[0,1],[1,0],[0,1],[1,0],[0,1],[1,0],[1,0],[1,0],[1,0]]\n",
    "\n",
    "train_labels = np.array(train_labels)\n",
    "dev_labels = np.array(dev_labels)\n",
    "test_labels = np.array(test_labels)"
   ]
  },
  {
   "cell_type": "code",
   "execution_count": 141,
   "id": "682d7d4e",
   "metadata": {},
   "outputs": [
    {
     "data": {
      "image/png": "[encoded data removed]",
      "text/plain": [
       "<Figure size 432x288 with 1 Axes>"
      ]
     },
     "metadata": {
      "needs_background": "light"
     },
     "output_type": "display_data"
    }
   ],
   "source": [
    "#******************************************\n",
    "# Generate your diagrams\n",
    "#******************************************\n",
    "# TODO generate the DisCoCat diagrams for your corpus. There are 2 options:\n",
    "# 1. Follow a few fixed templates (N V N, N V Adj N, ...)\n",
    "# 2. Use the online tool to generate diagrams. \n",
    "# If you are using the online tool, consider writing a script.\n",
    "\n",
    "# Suggestion: print out some of your DisCoCat diagrams using\n",
    "# `grammar.draw` to check that they make sense.\n",
    "\n",
    "from discopy import Word, Ty, Cup, Id, grammar, Ob\n",
    "from sympy.abc import phi\n",
    "\n",
    "n, s = Ty('n'), Ty('s')\n",
    "\n",
    "# example of how to make your template:\n",
    "# then you use your pos tags to determine which template to use\n",
    "def NVN_example(w0, w1, w2):\n",
    "    words = Word(w0, n) @ Word(w1, n.r @ s @ n.l) @ Word(w2, n)\n",
    "    cups = Cup(n, n.r) @ Id(s) @ Cup(n.l, n)\n",
    "\n",
    "    return words >> cups\n",
    "\n",
    "# TODO implement sentence2diagram\n",
    "sentence2diagram = lambda a : NVN_example(a.split()[0], a.split()[1], a.split()[2])\n",
    "\n",
    "train_diagrams = [sentence2diagram(s) for s in train_sentences]\n",
    "dev_diagrams = [sentence2diagram(s) for s in dev_sentences]\n",
    "test_diagrams = [sentence2diagram(s) for s in test_sentences]\n",
    "\n",
    "# from discopy import Word, Ty, Cup, Id, grammar\n",
    "# from sympy.abc import phi\n",
    "\n",
    "# n, s = Ty('n'), Ty('s')\n",
    "\n",
    "# # example of how to make your template:\n",
    "# # then you use your pos tags to determine which template to use\n",
    "# def NVN_example(w0, w1, w2):\n",
    "#     words = Word(w0, n) @ Word(w1, n.r @ s @ n.l) @ Word(w2, n)\n",
    "#     cups = Cup(n, n.r) @ Id(s) @ Cup(n.l, n)\n",
    "\n",
    "#     return words >> cups\n",
    "\n",
    "grammar.draw(NVN_example('Bulls', 'play', 'Hornets'))"
   ]
  },
  {
   "cell_type": "code",
   "execution_count": 142,
   "id": "e7892c1d",
   "metadata": {},
   "outputs": [
    {
     "data": {
      "image/png": "[encoded data removed]",
      "text/plain": [
       "<Figure size 432x288 with 1 Axes>"
      ]
     },
     "metadata": {
      "needs_background": "light"
     },
     "output_type": "display_data"
    }
   ],
   "source": [
    "#******************************************\n",
    "# Generate your circuits\n",
    "#******************************************\n",
    "# TODO: Implement your own functorial ansatz conversion!\n",
    "# The `qnlp-tutorial` has some code on this.\n",
    "# https://discopy.readthedocs.io/en/main/notebooks/qnlp-tutorial.html\n",
    "# You may also find discopy's `IQPansatz` function useful.\n",
    "\n",
    "# Suggestion: Draw some DisCoCat diagrams alongside their circuit diagrams\n",
    "# and compare them\n",
    "\n",
    "# TODO implement diagram2circuit\n",
    "# diagram2circuit = None\n",
    "\n",
    "from discopy.quantum import circuit, qubit, sqrt, X, CX, H, Ket, Id, Rz, CRz, Rx\n",
    "from sympy.abc import symbols, phi\n",
    "\n",
    "sym = symbols(\"abc\")\n",
    "# circ = Rz(sym) @ Id(1) >> CX >> CRz(phi)\n",
    "# circ.lambdify(sym, phi)(0.1, 0.2)\n",
    "# circ = sqrt(2) @ Ket(0, 0) >> H @ Rz(sym) >> CRz(phi)\n",
    "circ = Ket(0, 0) >> H @ sqrt(2) @ Rx(sym) >> CX\n",
    "# circ.lambdify(sym, phi)(0.1, 0.2)\n",
    "   \n",
    "# ob={s: Ty(), n: qubit}\n",
    "\n",
    "# ar = lambda params: {\n",
    "#     Word('Bulls', n): Ket(0),\n",
    "#     Word('Chicago', n): Ket(0),\n",
    "#     Word('Illinois', n): Ket(0),\n",
    "#     Word('championships', n): Ket(0),\n",
    "#     Word('red', n): Ket(0),\n",
    "#     Word('Hornets', n): Ket(1),\n",
    "#     Word('Charlotte', n): Ket(1),\n",
    "#     Word('green', n): Ket(1),\n",
    "#     Word('Carolina', n): Ket(1),\n",
    "#     Word('play', Ty(Ob('n', z=1), 's', Ob('n', z=-1))): verb_ansatz(params['play']),\n",
    "#     Word('beat', Ty(Ob('n', z=1), 's', Ob('n', z=-1))): verb_ansatz(params['beat']), \n",
    "#     Word('from', Ty(Ob('n', z=1), 's', Ob('n', z=-1))): verb_ansatz(params['from']), \n",
    "#     Word('in', Ty(Ob('n', z=1), 's', Ob('n', z=-1))): verb_ansatz(params['in']), \n",
    "#     Word('wear', Ty(Ob('n', z=1), 's', Ob('n', z=-1))): verb_ansatz(params['wear']), \n",
    "#     Word('lost', Ty(Ob('n', z=1), 's', Ob('n', z=-1))): verb_ansatz(params['lost']), \n",
    "#     Word('attended', Ty(Ob('n', z=1), 's', Ob('n', z=-1))): verb_ansatz(params['attended']), \n",
    "#     Word('won', Ty(Ob('n', z=1), 's', Ob('n', z=-1))): verb_ansatz(params['won']), \n",
    "#     Word('forfeit', Ty(Ob('n', z=1), 's', Ob('n', z=-1))): verb_ansatz(params['forfeit']), \n",
    "#     Word('represent', Ty(Ob('n', z=1), 's', Ob('n', z=-1))): verb_ansatz(params['represent']), \n",
    "#     Word('scrimmaged', Ty(Ob('n', z=1), 's', Ob('n', z=-1))): verb_ansatz(params['scrimmaged'])\n",
    "# }\n",
    "    \n",
    "# diagram2circuit = lambda params: CircuitFunctor(ob, ar(params))\n",
    "\n",
    "diagram2circuit = circuit.Functor(\n",
    "    ob={s: Ty(), n: qubit},\n",
    "    ar={Word('Bulls', n): Ket(0),\n",
    "        Word('Chicago', n): Ket(0),\n",
    "        Word('Illinois', n): Ket(0),\n",
    "        Word('championships', n): Ket(0),\n",
    "        Word('red', n): Ket(0),\n",
    "        Word('Hornets', n): Ket(1),\n",
    "        Word('Charlotte', n): Ket(1),\n",
    "        Word('green', n): Ket(1),\n",
    "        Word('Carolina', n): Ket(1),\n",
    "        Word('play', Ty(Ob('n', z=1), 's', Ob('n', z=-1))): circ,\n",
    "        Word('beat', Ty(Ob('n', z=1), 's', Ob('n', z=-1))): circ, \n",
    "        Word('from', Ty(Ob('n', z=1), 's', Ob('n', z=-1))): circ, \n",
    "        Word('in', Ty(Ob('n', z=1), 's', Ob('n', z=-1))): circ, \n",
    "        Word('wear', Ty(Ob('n', z=1), 's', Ob('n', z=-1))): circ, \n",
    "        Word('lost', Ty(Ob('n', z=1), 's', Ob('n', z=-1))): circ, \n",
    "        Word('attended', Ty(Ob('n', z=1), 's', Ob('n', z=-1))): circ, \n",
    "        Word('won', Ty(Ob('n', z=1), 's', Ob('n', z=-1))): circ, \n",
    "        Word('forfeit', Ty(Ob('n', z=1), 's', Ob('n', z=-1))): circ, \n",
    "        Word('represent', Ty(Ob('n', z=1), 's', Ob('n', z=-1))): circ, \n",
    "        Word('scrimmaged', Ty(Ob('n', z=1), 's', Ob('n', z=-1))): circ})\n",
    "\n",
    "params0 = {'play': 0.5, 'beat':0.3, 'from':0.6, 'in':0.9, 'wear':0.2, 'lost':0.1, 'attended':0.4, 'won':1.0, \n",
    "           'forfeit':0.3, 'represent':0.2, 'scrimmaged':0.1}\n",
    "\n",
    "# train_circuits = [diagram2circuit(params0)(d) for d in train_diagrams]\n",
    "# dev_circuits = [diagram2circuit(params0)(d) for d in dev_diagrams]\n",
    "# test_circuits = [diagram2circuit(params0)(d) for d in test_diagrams]\n",
    "train_circuits = [diagram2circuit(d) for d in train_diagrams]\n",
    "dev_circuits = [diagram2circuit(d) for d in dev_diagrams]\n",
    "test_circuits = [diagram2circuit(d) for d in test_diagrams]\n",
    "\n",
    "# You can define parameterised circuits in DisCoPy\n",
    "# using sympy variables, then substituting them using `lambdify`\n",
    "from discopy import drawing\n",
    "from discopy.quantum import Id, Rz, CX, CRz\n",
    "from sympy.abc import symbols, phi\n",
    "\n",
    "\n",
    "sym = symbols(\"abc\")\n",
    "circ = Rz(sym) @ Id(1) >> CX >> CRz(phi)\n",
    "drawing.equation(circ, circ.lambdify(sym, phi)(0.1, 0.2), symbol='-->')"
   ]
  },
  {
   "cell_type": "code",
   "execution_count": 143,
   "id": "d73f653f",
   "metadata": {},
   "outputs": [],
   "source": [
    "# These imports will come in handy when you want to run\n",
    "# backend simulations.\n",
    "\n",
    "# from qiskit import IBMQ\n",
    "# from pytket.extensions.qiskit import AerBackend, IBMQBackend, IBMQEmulatorBackend"
   ]
  },
  {
   "cell_type": "code",
   "execution_count": 144,
   "id": "45277db0",
   "metadata": {},
   "outputs": [],
   "source": [
    "#******************************************\n",
    "# Counting parameters in your model\n",
    "#******************************************\n",
    "from sympy import default_sort_key\n",
    "circuits = train_circuits + dev_circuits + test_circuits\n",
    "\n",
    "# Make sure you sort your symbols as they are returned as a set.\n",
    "parameters = sorted({\n",
    "    s for circ in circuits for s in circ.free_symbols\n",
    "}, key=default_sort_key)"
   ]
  },
  {
   "cell_type": "code",
   "execution_count": 145,
   "id": "c2387316",
   "metadata": {},
   "outputs": [
    {
     "data": {
      "text/plain": [
       "Circuit(dom=Ty(), cod=Ty(), boxes=[Ket(0), Ket(0, 0), H, sqrt(2), Rx(abc), CX, Ket(1), CX, H, sqrt(2), Bra(0, 0), CX, H, sqrt(2), Bra(0, 0)], offsets=[0, 1, 1, 2, 2, 1, 3, 0, 0, 1, 0, 0, 0, 1, 0])"
      ]
     },
     "execution_count": 145,
     "metadata": {},
     "output_type": "execute_result"
    }
   ],
   "source": [
    "circuits[0]"
   ]
  },
  {
   "cell_type": "code",
   "execution_count": 146,
   "id": "d50bad0e",
   "metadata": {},
   "outputs": [
    {
     "data": {
      "text/plain": [
       "[abc]"
      ]
     },
     "execution_count": 146,
     "metadata": {},
     "output_type": "execute_result"
    }
   ],
   "source": [
    "parameters"
   ]
  },
  {
   "cell_type": "code",
   "execution_count": 147,
   "id": "36a9c102",
   "metadata": {},
   "outputs": [],
   "source": [
    "def normalise(predicts):\n",
    "    # apply smoothing to predicts\n",
    "    predicts = np.abs(predicts - 1e-9)\n",
    "    predicts = predicts / predicts.sum()\n",
    "    return predicts\n",
    "\n",
    "def BCE_loss(predicts, labels):\n",
    "    cross_entropies = np.sum(labels * np.log2(predicts))\n",
    "    cost = -1/len(labels) * np.sum(cross_entropies)\n",
    "\n",
    "    return cost"
   ]
  },
  {
   "cell_type": "code",
   "execution_count": 148,
   "id": "cd550f2d",
   "metadata": {},
   "outputs": [],
   "source": [
    "def make_pred_fn(circuits):\n",
    "    def pred_fn(params):\n",
    "        predictions = np.array([\n",
    "            normalise(np.abs(c.lambdify(*parameters)(*params).eval().array))\n",
    "            for c in circuits\n",
    "        ])\n",
    "#         for c in circuits:\n",
    "# #             print(params)\n",
    "#             print(c.lambdify(*parameters)(*params))\n",
    "#             return (np.abs(c.lambdify(*parameters)(*params).eval().array))\n",
    "        return predictions\n",
    "\n",
    "    return pred_fn"
   ]
  },
  {
   "cell_type": "code",
   "execution_count": 149,
   "id": "6396ec32",
   "metadata": {},
   "outputs": [
    {
     "name": "stdout",
     "output_type": "stream",
     "text": [
      "Performing Just-In-Time compilation, this may take a while...\n"
     ]
    },
    {
     "data": {
      "text/plain": [
       "DeviceArray([[1.],\n",
       "             [1.],\n",
       "             [1.],\n",
       "             [1.],\n",
       "             [1.]], dtype=float32)"
      ]
     },
     "execution_count": 149,
     "metadata": {},
     "output_type": "execute_result"
    }
   ],
   "source": [
    "train_pred_fn = jit(make_pred_fn(train_circuits))\n",
    "dev_pred_fn = jit(make_pred_fn(dev_circuits))\n",
    "test_pred_fn = jit(make_pred_fn(test_circuits))\n",
    "\n",
    "import numpy as onp\n",
    "# onp.random.seed(0)\n",
    "\n",
    "x0 = np.array(onp.random.random(len(parameters)))\n",
    "print(\"Performing Just-In-Time compilation, this may take a while...\")\n",
    "train_pred_fn(x0)\n",
    "dev_pred_fn(x0)"
   ]
  },
  {
   "cell_type": "code",
   "execution_count": 9,
   "id": "3f6e8069",
   "metadata": {},
   "outputs": [
    {
     "name": "stdout",
     "output_type": "stream",
     "text": [
      "Performing Just-In-Time compilation, this may take a while...\n"
     ]
    },
    {
     "data": {
      "text/plain": [
       "DeviceArray([[0.59450185, 0.40549812],\n",
       "             [0.04066788, 0.9593321 ],\n",
       "             [0.1270783 , 0.8729217 ],\n",
       "             ...,\n",
       "             [0.30980638, 0.6901936 ],\n",
       "             [0.47308612, 0.5269139 ],\n",
       "             [0.396312  , 0.603688  ]], dtype=float32)"
      ]
     },
     "execution_count": 10,
     "metadata": {},
     "output_type": "execute_result"
    }
   ],
   "source": [
    "train_pred_fn = jit(make_pred_fn(train_circuits))\n",
    "dev_pred_fn = jit(make_pred_fn(dev_circuits))\n",
    "test_pred_fn = jit(make_pred_fn(test_circuits))\n",
    "\n",
    "import numpy as onp\n",
    "# onp.random.seed(0)\n",
    "\n",
    "x0 = np.array(onp.random.random(len(parameters)))\n",
    "print(\"Performing Just-In-Time compilation, this may take a while...\")\n",
    "train_pred_fn(x0)\n",
    "dev_pred_fn(x0)"
   ]
  },
  {
   "cell_type": "code",
   "execution_count": 150,
   "id": "6fa857fa",
   "metadata": {},
   "outputs": [],
   "source": [
    "def make_cost_fn(pred_fn, labels):\n",
    "    costs = []\n",
    "    accs = []\n",
    "    params_list = []\n",
    "    def cost_fn(params, **kwargs):\n",
    "        predictions = pred_fn(params)\n",
    "\n",
    "        cost = BCE_loss(predictions, labels)\n",
    "        acc = np.sum(np.round(predictions) == labels) / len(labels) / 2\n",
    "        costs.append(cost)\n",
    "        accs.append(acc)\n",
    "        params_list.append(params)\n",
    "\n",
    "        return cost\n",
    "\n",
    "    return cost_fn, costs, accs, params_list"
   ]
  },
  {
   "cell_type": "code",
   "execution_count": 151,
   "id": "1e7d7e0d",
   "metadata": {},
   "outputs": [],
   "source": [
    "# Rerun this cell onwards, so you can reuse the JITed prediction functions\n",
    "\n",
    "train_cost_fn, train_costs, train_accs, spsa_params = make_cost_fn(train_pred_fn, train_labels)\n",
    "dev_cost_fn, dev_costs, dev_accs, callback_params = make_cost_fn(dev_pred_fn, dev_labels)\n",
    "test_cost_fn, test_costs, test_accs, _ = make_cost_fn(test_pred_fn, test_labels)"
   ]
  },
  {
   "cell_type": "code",
   "execution_count": 152,
   "id": "137ab7e6",
   "metadata": {
    "scrolled": false
   },
   "outputs": [
    {
     "data": {
      "text/plain": [
       "     fun: DeviceArray(-0., dtype=float32)\n",
       " message: 'terminated after reaching max number of iterations'\n",
       "    nfev: 4000\n",
       "     nit: 2000\n",
       " success: True\n",
       "       x: DeviceArray([0.8459638], dtype=float32)"
      ]
     },
     "execution_count": 152,
     "metadata": {},
     "output_type": "execute_result"
    }
   ],
   "source": [
    "from noisyopt import minimizeSPSA\n",
    "minimizeSPSA(train_cost_fn, x0=x0, a=0.13, c=0.1, niter=2000, callback=dev_cost_fn)"
   ]
  },
  {
   "cell_type": "code",
   "execution_count": 155,
   "id": "6944c30f",
   "metadata": {},
   "outputs": [
    {
     "data": {
      "image/png": "[encoded data removed]",
      "text/plain": [
       "<Figure size 432x288 with 2 Axes>"
      ]
     },
     "metadata": {
      "needs_background": "light"
     },
     "output_type": "display_data"
    }
   ],
   "source": [
    "import matplotlib.pylab as plt\n",
    "fig, ax1 = plt.subplots()\n",
    "ax1.plot(train_costs[::2], color='#54436B')\n",
    "ax1.set_ylabel('Cost')\n",
    "ax1.set_xlabel('Iterations')\n",
    "ax1.set_title('Training Set')\n",
    "\n",
    "ax2 = ax1.twinx()\n",
    "ax2.plot(train_accs[::2], color='#50CB93')\n",
    "ax2.set_ylabel('Accuracy')\n",
    "plt.show()"
   ]
  },
  {
   "cell_type": "code",
   "execution_count": 15,
   "id": "482e6b7c",
   "metadata": {},
   "outputs": [
    {
     "data": {
      "image/png": "[encoded data removed]",
      "text/plain": [
       "<Figure size 432x288 with 2 Axes>"
      ]
     },
     "metadata": {
      "needs_background": "light"
     },
     "output_type": "display_data"
    }
   ],
   "source": [
    "import matplotlib.pylab as plt\n",
    "fig, ax1 = plt.subplots()\n",
    "ax1.plot(train_costs[::2], color='#54436B')\n",
    "ax1.set_ylabel('Cost')\n",
    "ax1.set_xlabel('Iterations')\n",
    "ax1.set_title('Training Set')\n",
    "\n",
    "ax2 = ax1.twinx()\n",
    "ax2.plot(train_accs[::2], color='#50CB93')\n",
    "ax2.set_ylabel('Accuracy')\n",
    "plt.show()"
   ]
  },
  {
   "cell_type": "code",
   "execution_count": 15,
   "id": "3fc70daf",
   "metadata": {},
   "outputs": [
    {
     "data": {
      "image/png": "[encoded data removed]",
      "text/plain": [
       "<Figure size 432x288 with 2 Axes>"
      ]
     },
     "metadata": {
      "needs_background": "light"
     },
     "output_type": "display_data"
    }
   ],
   "source": [
    "fig, ax1 = plt.subplots()\n",
    "ax1.plot(dev_costs, color='#A03C78')\n",
    "ax1.set_ylabel('Cost')\n",
    "ax1.set_xlabel('Iterations')\n",
    "ax1.set_title('Development Set')\n",
    "\n",
    "ax2 = ax1.twinx()\n",
    "ax2.plot(dev_accs, color='#ED8E7C')\n",
    "ax2.set_ylabel('Accuracy')\n",
    "plt.show()"
   ]
  },
  {
   "cell_type": "code",
   "execution_count": 16,
   "id": "64732452",
   "metadata": {},
   "outputs": [],
   "source": [
    "# when you are happy with the development set results\n",
    "# run your model on the testing set\n",
    "\n",
    "# for p in callback_params:\n",
    "#     test_cost_fn(p)"
   ]
  },
  {
   "cell_type": "code",
   "execution_count": 17,
   "id": "8e4eead8",
   "metadata": {},
   "outputs": [
    {
     "data": {
      "image/png": "[encoded data removed]",
      "text/plain": [
       "<Figure size 432x288 with 2 Axes>"
      ]
     },
     "metadata": {
      "needs_background": "light"
     },
     "output_type": "display_data"
    }
   ],
   "source": [
    "fig, ax1 = plt.subplots()\n",
    "ax1.plot(test_costs, color='#7C83FD')\n",
    "ax1.set_ylabel('Cost')\n",
    "ax1.set_xlabel('Iterations')\n",
    "ax1.set_title('Testing Set')\n",
    "\n",
    "ax2 = ax1.twinx()\n",
    "ax2.plot(test_accs, color='#96BAFF')\n",
    "ax2.set_ylabel('Accuracy')\n",
    "plt.show()"
   ]
  },
  {
   "cell_type": "code",
   "execution_count": null,
   "id": "5f5615b5",
   "metadata": {},
   "outputs": [],
   "source": []
  }
 ],
 "metadata": {
  "kernelspec": {
   "display_name": "week4_venv",
   "language": "python",
   "name": "week4_venv"
  },
  "language_info": {
   "codemirror_mode": {
    "name": "ipython",
    "version": 3
   },
   "file_extension": ".py",
   "mimetype": "text/x-python",
   "name": "python",
   "nbconvert_exporter": "python",
   "pygments_lexer": "ipython3",
   "version": "3.8.6"
  }
 },
 "nbformat": 4,
 "nbformat_minor": 5
}
