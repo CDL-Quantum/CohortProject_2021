{
 "cells": [
  {
   "cell_type": "code",
   "execution_count": 1,
   "outputs": [],
   "source": [
    "from matplotlib.pyplot import rc\n",
    "rc('figure', facecolor='white')"
   ],
   "metadata": {
    "collapsed": false,
    "pycharm": {
     "name": "#%%\n"
    }
   }
  },
  {
   "cell_type": "markdown",
   "source": [
    "# qnlp-dataset\n",
    "\n",
    "In this notebook, we generate and test some datasets.\n",
    "\n",
    "**See the [qnlp-experiment](./3_qnlp-experiment.ipynb) notebook for implementation.**"
   ],
   "metadata": {
    "collapsed": false,
    "pycharm": {
     "name": "#%% md\n"
    }
   }
  },
  {
   "cell_type": "code",
   "execution_count": 2,
   "metadata": {},
   "outputs": [],
   "source": [
    "import discopy as dp\n",
    "import jax.numpy as np\n",
    "from jax import jit\n",
    "\n",
    "dp.Tensor.np = np"
   ]
  },
  {
   "cell_type": "code",
   "execution_count": 3,
   "metadata": {},
   "outputs": [
    {
     "name": "stderr",
     "output_type": "stream",
     "text": [
      "WARNING:absl:No GPU/TPU found, falling back to CPU. (Set TF_CPP_MIN_LOG_LEVEL=0 and rerun for more info.)\n"
     ]
    }
   ],
   "source": [
    "#******************************************\n",
    "# Generate your corpus\n",
    "#******************************************\n",
    "# Sentences can be of the `word1 word2 word3 ...`.\n",
    "# If you are generating the diagrams using templates then you may want to consider adding POS tags (N, V, Adj) for each word.\n",
    "# Labels should be of the form [0,1] or [1,0] for binary classification.\n",
    "\n",
    "train_sentences = [\n",
    "    'Alice loves Bob.',\n",
    "    'Bob loves Alice.'\n",
    "]\n",
    "dev_sentences = [\n",
    "    'Alice loves Alice.'\n",
    "]\n",
    "test_sentences = [\n",
    "    'Bob loves Bob.'\n",
    "]\n",
    "\n",
    "train_labels = [\n",
    "    [0, 1],\n",
    "    [0, 1],\n",
    "]\n",
    "dev_labels = [\n",
    "    [1, 0],\n",
    "]\n",
    "test_labels = [\n",
    "    [0, 1]\n",
    "]\n",
    "\n",
    "train_labels = np.array(train_labels)\n",
    "dev_labels = np.array(dev_labels)\n",
    "test_labels = np.array(test_labels)"
   ]
  },
  {
   "cell_type": "code",
   "execution_count": 4,
   "metadata": {},
   "outputs": [
    {
     "data": {
      "text/plain": "<Figure size 432x288 with 1 Axes>",
      "image/png": "[encoded data removed]"
     },
     "metadata": {},
     "output_type": "display_data"
    }
   ],
   "source": [
    "#******************************************\n",
    "# Generate your diagrams\n",
    "#******************************************\n",
    "# TODO generate the DisCoCat diagrams for your corpus. There are 2 options:\n",
    "# 1. Follow a few fixed templates (N V N, N V Adj N, ...)\n",
    "# 2. Use the online tool to generate diagrams. \n",
    "# If you are using the online tool, consider writing a script.\n",
    "\n",
    "s, n = dp.Ty('s'), dp.Ty('n')\n",
    "Alice, loves, Bob = dp.Word('Alice', n), dp.Word('loves', n.r @ s @ n.l), dp.Word('Bob', n)\n",
    "\n",
    "grammar = dp.Cup(n, n.r) @ dp.Id(s) @ dp.Cup(n.l, n)\n",
    "parsing = {\"{} {} {}.\".format(subj, verb, obj): subj @ verb @ obj >> grammar\n",
    "           for subj in [Alice, Bob] for verb in [loves] for obj in [Alice, Bob]}\n",
    "\n",
    "train_diagrams = [parsing[s] for s in train_sentences]\n",
    "dev_diagrams = [parsing[s] for s in dev_sentences]\n",
    "test_diagrams = [parsing[s] for s in test_sentences]\n",
    "\n",
    "dp.grammar.draw(train_diagrams[0])"
   ]
  },
  {
   "cell_type": "code",
   "execution_count": 5,
   "metadata": {},
   "outputs": [
    {
     "data": {
      "text/plain": "<Figure size 432x288 with 1 Axes>",
      "image/png": "[encoded data removed]"
     },
     "metadata": {},
     "output_type": "display_data"
    }
   ],
   "source": [
    "#******************************************\n",
    "# Generate your circuits\n",
    "#******************************************\n",
    "# TODO: Implement your own functorial ansatz conversion!\n",
    "# The `qnlp-tutorial` has some code on this.\n",
    "# https://discopy.readthedocs.io/en/main/notebooks/qnlp-tutorial.html\n",
    "# You may also find discopy's `IQPansatz` function useful.\n",
    "\n",
    "def verb_ansatz(phase):\n",
    "    return dp.quantum.Ket(0, 0) >> dp.quantum.H @ dp.quantum.sqrt(2) @ dp.quantum.Rx(phase) >> dp.quantum.CX\n",
    "\n",
    "ob = {s: 0, n: 1}\n",
    "ar = lambda params: {\n",
    "    Alice: dp.quantum.Ket(0),\n",
    "    Bob: dp.quantum.Ket(1),\n",
    "    loves: verb_ansatz(params['loves'])\n",
    "}\n",
    "\n",
    "F = lambda params: dp.CircuitFunctor(ob, ar(params))\n",
    "\n",
    "params0 = {'loves': 0.5}\n",
    "\n",
    "train_circuits = [F(params0)(d) for d in train_diagrams]\n",
    "dev_circuits = [F(params0)(d) for d in dev_diagrams]\n",
    "test_circuits = [F(params0)(d) for d in test_diagrams]\n",
    "\n",
    "train_circuits[0].draw()"
   ]
  },
  {
   "cell_type": "code",
   "execution_count": 6,
   "metadata": {},
   "outputs": [],
   "source": [
    "# These imports will come in handy when you want to run\n",
    "# backend simulations.\n",
    "\n",
    "# from qiskit import IBMQ\n",
    "# from pytket.extensions.qiskit import AerBackend, IBMQBackend, IBMQEmulatorBackend"
   ]
  },
  {
   "cell_type": "code",
   "execution_count": 7,
   "metadata": {},
   "outputs": [],
   "source": [
    "#******************************************\n",
    "# Counting parameters in your model\n",
    "#******************************************\n",
    "\n",
    "from sympy import default_sort_key\n",
    "circuits = train_circuits + dev_circuits + test_circuits\n",
    "\n",
    "# Make sure you sort your symbols as they are returned as a set.\n",
    "parameters = sorted({\n",
    "    s for circ in circuits for s in circ.free_symbols\n",
    "}, key=default_sort_key)"
   ]
  },
  {
   "cell_type": "code",
   "execution_count": 8,
   "metadata": {},
   "outputs": [],
   "source": [
    "def normalise(predicts):\n",
    "    # apply smoothing to predicts\n",
    "    predicts = np.abs(predicts - 1e-9)\n",
    "    predicts = predicts / predicts.sum()\n",
    "    return predicts\n",
    "\n",
    "def BCE_loss(predicts, labels):\n",
    "    cross_entropies = np.sum(labels * np.log2(predicts))\n",
    "    cost = -1/len(labels) * np.sum(cross_entropies)\n",
    "    return cost"
   ]
  },
  {
   "cell_type": "code",
   "execution_count": 9,
   "metadata": {},
   "outputs": [],
   "source": [
    "def make_pred_fn(circuits):\n",
    "    def pred_fn(params):\n",
    "        predictions = np.array([\n",
    "            normalise(np.abs(c.lambdify(*parameters)(*params).eval().array))\n",
    "            for c in circuits\n",
    "        ])\n",
    "        return predictions\n",
    "    return pred_fn"
   ]
  },
  {
   "cell_type": "code",
   "execution_count": 10,
   "metadata": {},
   "outputs": [
    {
     "name": "stdout",
     "output_type": "stream",
     "text": [
      "Performing Just-In-Time compilation, this may take a while...\n"
     ]
    },
    {
     "data": {
      "text/plain": "DeviceArray([[1.]], dtype=float32)"
     },
     "execution_count": 10,
     "metadata": {},
     "output_type": "execute_result"
    }
   ],
   "source": [
    "train_pred_fn = jit(make_pred_fn(train_circuits))\n",
    "dev_pred_fn = jit(make_pred_fn(dev_circuits))\n",
    "test_pred_fn = jit(make_pred_fn(test_circuits))\n",
    "\n",
    "import numpy as onp\n",
    "# onp.random.seed(0)\n",
    "\n",
    "x0 = np.array(onp.random.random(len(parameters)))\n",
    "print(\"Performing Just-In-Time compilation, this may take a while...\")\n",
    "train_pred_fn(x0)\n",
    "dev_pred_fn(x0)"
   ]
  },
  {
   "cell_type": "code",
   "execution_count": 11,
   "metadata": {},
   "outputs": [],
   "source": [
    "def make_cost_fn(pred_fn, labels):\n",
    "    costs = []\n",
    "    accs = []\n",
    "    params_list = []\n",
    "    def cost_fn(params, **kwargs):\n",
    "        predictions = pred_fn(params)\n",
    "\n",
    "        cost = BCE_loss(predictions, labels)\n",
    "        acc = np.sum(np.round(predictions) == labels) / len(labels) / 2\n",
    "        costs.append(cost)\n",
    "        accs.append(acc)\n",
    "        params_list.append(params)\n",
    "\n",
    "        return cost\n",
    "\n",
    "    return cost_fn, costs, accs, params_list"
   ]
  },
  {
   "cell_type": "code",
   "execution_count": 12,
   "metadata": {},
   "outputs": [],
   "source": [
    "# Rerun this cell onwards, so you can reuse the JITed prediction functions\n",
    "\n",
    "train_cost_fn, train_costs, train_accs, spsa_params = make_cost_fn(train_pred_fn, train_labels)\n",
    "dev_cost_fn, dev_costs, dev_accs, callback_params = make_cost_fn(dev_pred_fn, dev_labels)\n",
    "test_cost_fn, test_costs, test_accs, _ = make_cost_fn(test_pred_fn, test_labels)"
   ]
  },
  {
   "cell_type": "code",
   "execution_count": 13,
   "metadata": {
    "scrolled": false
   },
   "outputs": [
    {
     "data": {
      "text/plain": "     fun: DeviceArray(-0., dtype=float32)\n message: 'terminated after reaching max number of iterations'\n    nfev: 4000\n     nit: 2000\n success: True\n       x: DeviceArray([], dtype=float32)"
     },
     "execution_count": 13,
     "metadata": {},
     "output_type": "execute_result"
    }
   ],
   "source": [
    "from noisyopt import minimizeSPSA\n",
    "minimizeSPSA(train_cost_fn, x0=x0, a=0.13, c=0.1, niter=2000, callback=dev_cost_fn)"
   ]
  },
  {
   "cell_type": "code",
   "execution_count": 14,
   "metadata": {},
   "outputs": [
    {
     "data": {
      "text/plain": "<Figure size 432x288 with 2 Axes>",
      "image/png": "[encoded data removed]"
     },
     "metadata": {},
     "output_type": "display_data"
    }
   ],
   "source": [
    "import matplotlib.pylab as plt\n",
    "fig, ax1 = plt.subplots()\n",
    "ax1.plot(train_costs[::2], color='#54436B')\n",
    "ax1.set_ylabel('Cost')\n",
    "ax1.set_xlabel('Iterations')\n",
    "ax1.set_title('Training Set')\n",
    "\n",
    "ax2 = ax1.twinx()\n",
    "ax2.plot(train_accs[::2], color='#50CB93')\n",
    "ax2.set_ylabel('Accuracy')\n",
    "plt.show()"
   ]
  },
  {
   "cell_type": "code",
   "execution_count": 15,
   "metadata": {},
   "outputs": [
    {
     "data": {
      "text/plain": "<Figure size 432x288 with 2 Axes>",
      "image/png": "[encoded data removed]"
     },
     "metadata": {},
     "output_type": "display_data"
    }
   ],
   "source": [
    "fig, ax1 = plt.subplots()\n",
    "ax1.plot(dev_costs, color='#A03C78')\n",
    "ax1.set_ylabel('Cost')\n",
    "ax1.set_xlabel('Iterations')\n",
    "ax1.set_title('Development Set')\n",
    "\n",
    "ax2 = ax1.twinx()\n",
    "ax2.plot(dev_accs, color='#ED8E7C')\n",
    "ax2.set_ylabel('Accuracy')\n",
    "plt.show()"
   ]
  },
  {
   "cell_type": "code",
   "execution_count": 16,
   "metadata": {},
   "outputs": [],
   "source": [
    "# when you are happy with the development set results\n",
    "# run your model on the testing set\n",
    "\n",
    "for p in callback_params:\n",
    "    test_cost_fn(p)"
   ]
  },
  {
   "cell_type": "code",
   "execution_count": 17,
   "metadata": {},
   "outputs": [
    {
     "data": {
      "text/plain": "<Figure size 432x288 with 2 Axes>",
      "image/png": "[encoded data removed]"
     },
     "metadata": {},
     "output_type": "display_data"
    }
   ],
   "source": [
    "fig, ax1 = plt.subplots()\n",
    "ax1.plot(test_costs, color='#7C83FD')\n",
    "ax1.set_ylabel('Cost')\n",
    "ax1.set_xlabel('Iterations')\n",
    "ax1.set_title('Testing Set')\n",
    "\n",
    "ax2 = ax1.twinx()\n",
    "ax2.plot(test_accs, color='#96BAFF')\n",
    "ax2.set_ylabel('Accuracy')\n",
    "plt.show()"
   ]
  },
  {
   "cell_type": "code",
   "execution_count": 17,
   "metadata": {},
   "outputs": [],
   "source": []
  },
  {
   "cell_type": "code",
   "execution_count": 17,
   "outputs": [],
   "source": [],
   "metadata": {
    "collapsed": false,
    "pycharm": {
     "name": "#%%\n"
    }
   }
  }
 ],
 "metadata": {
  "kernelspec": {
   "display_name": "Python 3",
   "language": "python",
   "name": "python3"
  },
  "language_info": {
   "codemirror_mode": {
    "name": "ipython",
    "version": 3
   },
   "file_extension": ".py",
   "mimetype": "text/x-python",
   "name": "python",
   "nbconvert_exporter": "python",
   "pygments_lexer": "ipython3",
   "version": "3.8.6"
  }
 },
 "nbformat": 4,
 "nbformat_minor": 5
}