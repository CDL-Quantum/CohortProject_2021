{
 "cells": [
  {
   "cell_type": "code",
   "execution_count": 1,
   "id": "6d557fb4",
   "metadata": {},
   "outputs": [],
   "source": [
    "# import jax.numpy as np\n",
    "from jax import jit\n",
    "from discopy import Tensor\n",
    "from discopy import Ob, Ty, Box, drawing, Id, Swap, Diagram, Functor, Dim, Tensor, Cup, Cap, tensor, Word, pregroup\n",
    "import requests\n",
    "# Tensor.np = np\n",
    "# from sklearn.model_selection import train_test_split\n",
    "\n",
    "# sentence_train, sentence_test = train_test_split(sentences, test_size=0.5, random_state=237)\n",
    "import discopy\n",
    "import numpy as np\n",
    "import matplotlib.pyplot as plt"
   ]
  },
  {
   "cell_type": "code",
   "execution_count": 2,
   "id": "67e92052",
   "metadata": {},
   "outputs": [
    {
     "name": "stdout",
     "output_type": "stream",
     "text": [
      "['Earth is flat', 'Earth is not round', 'Earth does not rotates', 'Sun revolves around Earth', 'Earth does not revolves around Sun', 'Earth has no poles', 'Earth has no south pole', 'Earth has no north pole', 'Arctic is in the center', 'Antartic is the boundary', 'Earth has a boundary', 'Earth is surrounded by a dome', 'Earth is round', 'Earth is not flat', 'Earth rotates', 'Earth revolves around the Sun', 'Sun does not revolves around Earth', 'Earth has no two poles', 'Earth has no center', 'Earth has no boundary', 'Arctic is in the north pole', 'Antartic is in the south pole', 'Earth is surrounded by atmosphere']\n",
      "[0, 0, 0, 0, 0, 0, 0, 0, 0, 0, 0, 0, 1, 1, 1, 1, 1, 1, 1, 1, 1, 1, 1]\n"
     ]
    }
   ],
   "source": [
    "lines_raw = open(\"data/data_earth.txt\", \"r\").readlines()\n",
    "lines_raw = [s.replace('\\n','') for s in lines_raw]\n",
    "labels = []\n",
    "lines = []\n",
    "words = []\n",
    "l = 0;\n",
    "for i in range(len(lines_raw)):\n",
    "    if len(lines_raw[i])==0:\n",
    "        l = 1;\n",
    "    else:\n",
    "        lines.append(lines_raw[i].replace('.',''))\n",
    "        labels.append(l)\n",
    "        words_line = lines_raw[i].replace('.','').split(' ')\n",
    "        words= words + words_line\n",
    "print(lines)\n",
    "print(labels)\n",
    "\n",
    "lines = np.array(lines)\n",
    "labels = np.array(labels)"
   ]
  },
  {
   "cell_type": "code",
   "execution_count": 3,
   "id": "1103c178",
   "metadata": {},
   "outputs": [
    {
     "data": {
      "image/png": "[encoded data removed]",
      "text/plain": [
       "<Figure size 1440x360 with 1 Axes>"
      ]
     },
     "metadata": {
      "needs_background": "light"
     },
     "output_type": "display_data"
    }
   ],
   "source": [
    "dictionnary, counts = np.unique(words,return_counts=True)\n",
    "plt.figure(figsize=(20,5))\n",
    "plt.bar(np.arange(len(dictionnary)),counts,tick_label=dictionnary)\n",
    "plt.xticks(rotation = 45);"
   ]
  },
  {
   "cell_type": "code",
   "execution_count": null,
   "id": "864e0393",
   "metadata": {},
   "outputs": [],
   "source": []
  },
  {
   "cell_type": "code",
   "execution_count": null,
   "id": "9fd2d5dd",
   "metadata": {},
   "outputs": [],
   "source": [
    "import numpy as np\n",
    "from discopy import CircuitFunctor, qubit\n",
    "\n",
    "def intransitive_ansatz(phase):\n",
    "    return Ket(0) >> Rx(phase)\n",
    "\n",
    "def transitive_ansatz(phase):\n",
    "    return sqrt(2) @ Ket(0, 0) >> H @ Rx(phase) >> CX\n",
    "\n",
    "ob = {s: 0, n: 1}\n",
    "ar = lambda params: {\n",
    "    Alice: Ket(0),\n",
    "    loves: transitive_ansatz(params['loves']),\n",
    "    Bob: Ket(1),\n",
    "    who: GHZ,\n",
    "    is_rich: intransitive_ansatz(params['is_rich'])}\n",
    "\n",
    "F = lambda params: CircuitFunctor(ob, ar({'loves': params[0], 'is_rich': params[1]}))\n",
    "\n",
    "params0 = np.array([0.5, 1.])\n",
    "print(\"Circuit for 'Alice who loves Bob is rich.':\")\n",
    "F(params0)(parsing['Alice who loves Bob is rich.']).draw(\n",
    "    figsize=(8, 8), aspect='auto', draw_type_labels=False)"
   ]
  },
  {
   "cell_type": "code",
   "execution_count": 4,
   "id": "f0ecc02c",
   "metadata": {},
   "outputs": [],
   "source": [
    "N = len(labels)\n",
    "N_t = int(3*N/4)\n",
    "ind_t = np.random.choice( np.arange(N),N,replace=False)\n",
    "ind_v = np.delete(np.arange(N),ind_t)"
   ]
  },
  {
   "cell_type": "code",
   "execution_count": 5,
   "id": "fa664d28",
   "metadata": {},
   "outputs": [],
   "source": [
    "#******************************************\n",
    "# Generate your corpus\n",
    "#******************************************\n",
    "# sentences can be of the `word1 word2 word3 ...`\n",
    "# if you are generating the diagrams using templates\n",
    "# then you may want to consider adding POS tags (N, V, Adj) for each word\n",
    "# labels should be of the form [0,1] or [1,0] for binary classification\n",
    "\n",
    "# TODO make sentences\n",
    "train_sentences = lines[ind_t]\n",
    "dev_sentences = []\n",
    "test_sentences = lines[ind_v]\n",
    "\n",
    "# TODO make labels\n",
    "train_labels = labels[ind_t]\n",
    "dev_labels = []\n",
    "test_labels = labels[ind_v]\n",
    "\n",
    "# train_labels = np.array(train_labels)\n",
    "# dev_labels = np.array(dev_labels)\n",
    "# test_labels = np.array(test_labels)"
   ]
  },
  {
   "cell_type": "code",
   "execution_count": 6,
   "id": "64272c27",
   "metadata": {},
   "outputs": [],
   "source": [
    "def sentence2diagram(sentence):\n",
    "    url = 'https://cqc.pythonanywhere.com/discocat/code?sentence='+sentence.replace(' ','%20')\n",
    "#     print(url)\n",
    "    response = requests.get(url)\n",
    "    data = response.text\n",
    "    d={}\n",
    "    exec(\"from discopy import Ob, Ty, Box, drawing, Id, Swap, Diagram, Cup, Cap, Word\",d)\n",
    "    exec(\"D_local=\"+data,d)\n",
    "    return d['D_local']"
   ]
  },
  {
   "cell_type": "code",
   "execution_count": 7,
   "id": "dddd8594",
   "metadata": {},
   "outputs": [
    {
     "data": {
      "image/png": "[encoded data removed]",
      "text/plain": [
       "<Figure size 720x360 with 1 Axes>"
      ]
     },
     "metadata": {
      "needs_background": "light"
     },
     "output_type": "display_data"
    }
   ],
   "source": [
    "sentence2diagram('earth is flat').draw(figsize=(10, 5))"
   ]
  },
  {
   "cell_type": "code",
   "execution_count": 8,
   "id": "bd0b8fcc",
   "metadata": {},
   "outputs": [
    {
     "data": {
      "image/png": "[encoded data removed]",
      "text/plain": [
       "<Figure size 720x360 with 1 Axes>"
      ]
     },
     "metadata": {
      "needs_background": "light"
     },
     "output_type": "display_data"
    }
   ],
   "source": [
    "sentence2diagram('flat earth exists').draw(figsize=(10, 5))"
   ]
  },
  {
   "cell_type": "code",
   "execution_count": 9,
   "id": "e8fff575",
   "metadata": {},
   "outputs": [],
   "source": [
    "diagrams = np.array([sentence2diagram(s) for s in lines],dtype=object)"
   ]
  },
  {
   "cell_type": "code",
   "execution_count": 10,
   "id": "b7fb17b0",
   "metadata": {},
   "outputs": [
    {
     "data": {
      "image/png": "[encoded data removed]",
      "text/plain": [
       "<Figure size 720x360 with 1 Axes>"
      ]
     },
     "metadata": {
      "needs_background": "light"
     },
     "output_type": "display_data"
    }
   ],
   "source": [
    "diagrams[0].draw(figsize=(10, 5))"
   ]
  },
  {
   "cell_type": "code",
   "execution_count": 11,
   "id": "0234b105",
   "metadata": {},
   "outputs": [
    {
     "data": {
      "image/png": "[encoded data removed]",
      "text/plain": [
       "<Figure size 720x360 with 1 Axes>"
      ]
     },
     "metadata": {
      "needs_background": "light"
     },
     "output_type": "display_data"
    }
   ],
   "source": [
    "diagrams[13].draw(figsize=(10, 5))"
   ]
  },
  {
   "cell_type": "code",
   "execution_count": 12,
   "id": "32eecd37",
   "metadata": {},
   "outputs": [],
   "source": [
    "#******************************************\n",
    "# Generate your diagrams\n",
    "#******************************************\n",
    "# TODO generate the DisCoCat diagrams for your corpus. There are 2 options:\n",
    "# 1. Follow a few fixed templates (N V N, N V Adj N, ...)\n",
    "# 2. Use the online tool to generate diagrams. \n",
    "# If you are using the online tool, consider writing a script.\n",
    "\n",
    "# Suggestion: print out some of your DisCoCat diagrams using\n",
    "# `grammar.draw` to check that they make sense.\n",
    "\n",
    "# TODO implement sentence2diagram\n",
    "# sentence2diagram = None\n",
    "\n",
    "train_diagrams = diagrams[ind_t]\n",
    "dev_diagrams = []\n",
    "test_diagrams = diagrams[ind_v]\n",
    "\n",
    "# from discopy import Word, Ty, Cup, Id, grammar\n",
    "# from sympy.abc import phi\n",
    "\n",
    "# n, s = Ty('n'), Ty('s')\n",
    "\n",
    "# # example of how to make your template:\n",
    "# # then you use your pos tags to determine which template to use\n",
    "# def NVN_example(w0, w1, w2):\n",
    "#     words = Word(w0, n) @ Word(w1, n.r @ s @ n.l) @ Word(w2, n)\n",
    "#     cups = Cup(n, n.r) @ Id(s) @ Cup(n.l, n)\n",
    "\n",
    "#     return words >> cups\n",
    "\n",
    "# grammar.draw(NVN_example('Alice', 'likes', 'Bob'))"
   ]
  },
  {
   "cell_type": "code",
   "execution_count": 42,
   "id": "26fa6b76",
   "metadata": {},
   "outputs": [],
   "source": [
    "d = diagrams[0]"
   ]
  },
  {
   "cell_type": "code",
   "execution_count": 20,
   "id": "5773cc9c",
   "metadata": {},
   "outputs": [
    {
     "data": {
      "text/plain": [
       "Diagram(dom=Ty(), cod=Ty('s'), boxes=[Word('Earth', Ty('n')), Word('is', Ty(Ob('n', z=1), 's', Ob('s', z=-1), 'n')), Word('flat', Ty(Ob('n', z=1), 's')), Cup(Ty('n'), Ty(Ob('n', z=1))), Cup(Ty('n'), Ty(Ob('n', z=1))), Cup(Ty(Ob('s', z=-1)), Ty('s'))], offsets=[0, 1, 5, 0, 2, 1])"
      ]
     },
     "execution_count": 20,
     "metadata": {},
     "output_type": "execute_result"
    }
   ],
   "source": [
    "d"
   ]
  },
  {
   "cell_type": "code",
   "execution_count": 56,
   "id": "05dd5708",
   "metadata": {},
   "outputs": [],
   "source": [
    "b= d.boxes[1]"
   ]
  },
  {
   "cell_type": "code",
   "execution_count": 57,
   "id": "d6759ed8",
   "metadata": {},
   "outputs": [
    {
     "data": {
      "text/plain": [
       "Word('is', Ty(Ob('n', z=1), 's', Ob('s', z=-1), 'n'))"
      ]
     },
     "execution_count": 57,
     "metadata": {},
     "output_type": "execute_result"
    }
   ],
   "source": [
    "b"
   ]
  },
  {
   "cell_type": "code",
   "execution_count": 58,
   "id": "00709d01",
   "metadata": {},
   "outputs": [
    {
     "data": {
      "text/plain": [
       "'is'"
      ]
     },
     "execution_count": 58,
     "metadata": {},
     "output_type": "execute_result"
    }
   ],
   "source": [
    "b.name"
   ]
  },
  {
   "cell_type": "code",
   "execution_count": 59,
   "id": "9fa86e9b",
   "metadata": {},
   "outputs": [],
   "source": [
    "o = b.cod.objects[0]"
   ]
  },
  {
   "cell_type": "code",
   "execution_count": 60,
   "id": "3a600376",
   "metadata": {},
   "outputs": [
    {
     "data": {
      "text/plain": [
       "Ob('n', z=1)"
      ]
     },
     "execution_count": 60,
     "metadata": {},
     "output_type": "execute_result"
    }
   ],
   "source": [
    "o"
   ]
  },
  {
   "cell_type": "code",
   "execution_count": 36,
   "id": "b36b4ee2",
   "metadata": {},
   "outputs": [
    {
     "data": {
      "text/plain": [
       "'n'"
      ]
     },
     "execution_count": 36,
     "metadata": {},
     "output_type": "execute_result"
    }
   ],
   "source": [
    "o.name"
   ]
  },
  {
   "cell_type": "code",
   "execution_count": 61,
   "id": "c2d8fba8",
   "metadata": {},
   "outputs": [
    {
     "data": {
      "text/plain": [
       "1"
      ]
     },
     "execution_count": 61,
     "metadata": {},
     "output_type": "execute_result"
    }
   ],
   "source": [
    "o.z"
   ]
  },
  {
   "cell_type": "code",
   "execution_count": 44,
   "id": "76b25431",
   "metadata": {},
   "outputs": [
    {
     "data": {
      "text/plain": [
       "'Cup(n, n.r)'"
      ]
     },
     "execution_count": 44,
     "metadata": {},
     "output_type": "execute_result"
    }
   ],
   "source": [
    "b= d.boxes[3]\n",
    "b.name"
   ]
  },
  {
   "cell_type": "code",
   "execution_count": 68,
   "id": "9cc2607b",
   "metadata": {},
   "outputs": [],
   "source": [
    "words = []\n",
    "types = []\n",
    "suffix = ['ll','l','','r','rr']\n",
    "for d in diagrams:\n",
    "    for b in d.boxes:\n",
    "        name = b.name\n",
    "        if '(' not in name:\n",
    "            words.append(b.name)\n",
    "            type_ = []\n",
    "            for o in b.cod.objects:\n",
    "                type_.append(o.name+suffix[2+o.z])\n",
    "            types.append(type_)"
   ]
  },
  {
   "cell_type": "code",
   "execution_count": 69,
   "id": "2dc7c366",
   "metadata": {},
   "outputs": [
    {
     "data": {
      "text/plain": [
       "[['n'],\n",
       " ['nr', 's', 'sl', 'n'],\n",
       " ['nr', 's'],\n",
       " ['n'],\n",
       " ['nr', 's', 'nl'],\n",
       " ['sr', 'nrr', 'nr', 's'],\n",
       " ['n'],\n",
       " ['n'],\n",
       " ['nr', 's', 'sl', 'n'],\n",
       " ['sr', 'nrr', 'nr', 's'],\n",
       " ['nr', 's'],\n",
       " ['n'],\n",
       " ['nr', 's'],\n",
       " ['sr', 'nrr', 'nr', 's', 'nl'],\n",
       " ['n'],\n",
       " ['n'],\n",
       " ['nr', 's', 'sl', 'n'],\n",
       " ['sr', 'nrr', 'nr', 's'],\n",
       " ['nr', 's'],\n",
       " ['sr', 'nrr', 'nr', 's', 'nl'],\n",
       " ['n'],\n",
       " ['n'],\n",
       " ['nr', 's', 'nl'],\n",
       " ['n', 'nl'],\n",
       " ['n'],\n",
       " ['n'],\n",
       " ['nr', 's', 'nl'],\n",
       " ['n', 'nl'],\n",
       " ['n', 'nl'],\n",
       " ['n'],\n",
       " ['n'],\n",
       " ['nr', 's', 'nl'],\n",
       " ['n', 'nl'],\n",
       " ['n', 'nl'],\n",
       " ['n'],\n",
       " ['n'],\n",
       " ['nr', 's', 'pl'],\n",
       " ['p', 'nl'],\n",
       " ['n', 'nl'],\n",
       " ['n'],\n",
       " ['n'],\n",
       " ['nr', 's', 'nl'],\n",
       " ['n', 'nl'],\n",
       " ['n'],\n",
       " ['n'],\n",
       " ['nr', 's', 'nl'],\n",
       " ['n', 'nl'],\n",
       " ['n'],\n",
       " ['n'],\n",
       " ['nr', 's', 'sl', 'n'],\n",
       " ['nr', 's'],\n",
       " ['sr', 'nrr', 'nr', 's', 'nl'],\n",
       " ['n', 'nl'],\n",
       " ['n'],\n",
       " ['n'],\n",
       " ['nr', 's', 'nl'],\n",
       " ['n'],\n",
       " ['n'],\n",
       " ['nr', 's', 'sl', 'n'],\n",
       " ['sr', 'nrr', 'nr', 's'],\n",
       " ['nr', 's'],\n",
       " ['n'],\n",
       " ['nr', 's'],\n",
       " ['n'],\n",
       " ['nr', 's'],\n",
       " ['sr', 'nrr', 'nr', 's', 'nl'],\n",
       " ['n', 'nl'],\n",
       " ['n'],\n",
       " ['n'],\n",
       " ['nr', 's', 'sl', 'n'],\n",
       " ['sr', 'nrr', 'nr', 's'],\n",
       " ['nr', 's'],\n",
       " ['sr', 'nrr', 'nr', 's', 'nl'],\n",
       " ['n'],\n",
       " ['n'],\n",
       " ['nr', 's', 'nl'],\n",
       " ['n', 'nl'],\n",
       " ['n', 'nl'],\n",
       " ['n'],\n",
       " ['n'],\n",
       " ['nr', 's', 'nl'],\n",
       " ['n', 'nl'],\n",
       " ['n'],\n",
       " ['n'],\n",
       " ['nr', 's', 'nl'],\n",
       " ['n', 'nl'],\n",
       " ['n'],\n",
       " ['n'],\n",
       " ['nr', 's', 'pl'],\n",
       " ['p', 'nl'],\n",
       " ['n', 'nl'],\n",
       " ['n', 'nl'],\n",
       " ['n'],\n",
       " ['n'],\n",
       " ['nr', 's', 'pl'],\n",
       " ['p', 'nl'],\n",
       " ['n', 'nl'],\n",
       " ['n', 'nl'],\n",
       " ['n'],\n",
       " ['n'],\n",
       " ['nr', 's', 'sl', 'n'],\n",
       " ['nr', 's'],\n",
       " ['sr', 'nrr', 'nr', 's', 'nl'],\n",
       " ['n']]"
      ]
     },
     "execution_count": 69,
     "metadata": {},
     "output_type": "execute_result"
    }
   ],
   "source": [
    "types"
   ]
  },
  {
   "cell_type": "code",
   "execution_count": 49,
   "id": "530db5cb",
   "metadata": {},
   "outputs": [
    {
     "data": {
      "text/plain": [
       "['Earth',\n",
       " 'is',\n",
       " 'flat',\n",
       " 'Earth',\n",
       " 'is',\n",
       " 'not',\n",
       " 'round',\n",
       " 'Earth',\n",
       " 'does',\n",
       " 'not',\n",
       " 'rotates',\n",
       " 'Sun',\n",
       " 'revolves',\n",
       " 'around',\n",
       " 'Earth',\n",
       " 'Earth',\n",
       " 'does',\n",
       " 'not',\n",
       " 'revolves',\n",
       " 'around',\n",
       " 'Sun',\n",
       " 'Earth',\n",
       " 'has',\n",
       " 'no',\n",
       " 'poles',\n",
       " 'Earth',\n",
       " 'has',\n",
       " 'no',\n",
       " 'south',\n",
       " 'pole',\n",
       " 'Earth',\n",
       " 'has',\n",
       " 'no',\n",
       " 'north',\n",
       " 'pole',\n",
       " 'Arctic',\n",
       " 'is',\n",
       " 'in',\n",
       " 'the',\n",
       " 'center',\n",
       " 'Antartic',\n",
       " 'is',\n",
       " 'the',\n",
       " 'boundary',\n",
       " 'Earth',\n",
       " 'has',\n",
       " 'a',\n",
       " 'boundary',\n",
       " 'Earth',\n",
       " 'is',\n",
       " 'surrounded',\n",
       " 'by',\n",
       " 'a',\n",
       " 'dome',\n",
       " 'Earth',\n",
       " 'is',\n",
       " 'round',\n",
       " 'Earth',\n",
       " 'is',\n",
       " 'not',\n",
       " 'flat',\n",
       " 'Earth',\n",
       " 'rotates',\n",
       " 'Earth',\n",
       " 'revolves',\n",
       " 'around',\n",
       " 'the',\n",
       " 'Sun',\n",
       " 'Sun',\n",
       " 'does',\n",
       " 'not',\n",
       " 'revolves',\n",
       " 'around',\n",
       " 'Earth',\n",
       " 'Earth',\n",
       " 'has',\n",
       " 'no',\n",
       " 'two',\n",
       " 'poles',\n",
       " 'Earth',\n",
       " 'has',\n",
       " 'no',\n",
       " 'center',\n",
       " 'Earth',\n",
       " 'has',\n",
       " 'no',\n",
       " 'boundary',\n",
       " 'Arctic',\n",
       " 'is',\n",
       " 'in',\n",
       " 'the',\n",
       " 'north',\n",
       " 'pole',\n",
       " 'Antartic',\n",
       " 'is',\n",
       " 'in',\n",
       " 'the',\n",
       " 'south',\n",
       " 'pole',\n",
       " 'Earth',\n",
       " 'is',\n",
       " 'surrounded',\n",
       " 'by',\n",
       " 'atmosphere']"
      ]
     },
     "execution_count": 49,
     "metadata": {},
     "output_type": "execute_result"
    }
   ],
   "source": [
    "words"
   ]
  },
  {
   "cell_type": "code",
   "execution_count": 27,
   "id": "150d96fb",
   "metadata": {},
   "outputs": [],
   "source": [
    "from discopy.quantum.circuit import IQPansatz"
   ]
  },
  {
   "cell_type": "code",
   "execution_count": null,
   "id": "cac71f5a",
   "metadata": {},
   "outputs": [],
   "source": [
    "ob = {s: 0, n: 1}\n",
    "ar = lambda params: {\n",
    "    Alice: Ket(0),\n",
    "    loves: transitive_ansatz(params['loves']),\n",
    "    Bob: Ket(1),\n",
    "    who: GHZ,\n",
    "    is_rich: intransitive_ansatz(params['is_rich'])}"
   ]
  },
  {
   "cell_type": "code",
   "execution_count": 4,
   "id": "f10edfbf",
   "metadata": {},
   "outputs": [
    {
     "data": {
      "image/png": "[encoded data removed]",
      "text/plain": [
       "<Figure size 432x288 with 1 Axes>"
      ]
     },
     "metadata": {
      "needs_background": "light"
     },
     "output_type": "display_data"
    }
   ],
   "source": [
    "#******************************************\n",
    "# Generate your circuits\n",
    "#******************************************\n",
    "# TODO: Implement your own functorial ansatz conversion!\n",
    "# The `qnlp-tutorial` has some code on this.\n",
    "# https://discopy.readthedocs.io/en/main/notebooks/qnlp-tutorial.html\n",
    "# You may also find discopy's `IQPansatz` function useful.\n",
    "\n",
    "# Suggestion: Draw some DisCoCat diagrams alongside their circuit diagrams\n",
    "# and compare them\n",
    "\n",
    "# TODO implement diagram2circuit\n",
    "# diagram2circuit = None\n",
    "\n",
    "train_circuits = [diagram2circuit(d) for d in train_diagrams]\n",
    "dev_circuits = [diagram2circuit(d) for d in dev_diagrams]\n",
    "test_circuits = [diagram2circuit(d) for d in test_diagrams]\n",
    "\n",
    "# You can define parameterised circuits in DisCoPy\n",
    "# using sympy variables, then substituting them using `lambdify`\n",
    "from discopy import drawing\n",
    "from discopy.quantum import Id, Rz, CX, CRz\n",
    "from sympy.abc import symbols, phi\n",
    "\n",
    "\n",
    "sym = symbols(\"abc\")\n",
    "circ = Rz(sym) @ Id(1) >> CX >> CRz(phi)\n",
    "drawing.equation(circ, circ.lambdify(sym, phi)(0.1, 0.2), symbol='-->')"
   ]
  },
  {
   "cell_type": "code",
   "execution_count": 5,
   "id": "fdbcb598",
   "metadata": {},
   "outputs": [],
   "source": [
    "# These imports will come in handy when you want to run\n",
    "# backend simulations.\n",
    "\n",
    "# from qiskit import IBMQ\n",
    "# from pytket.extensions.qiskit import AerBackend, IBMQBackend, IBMQEmulatorBackend"
   ]
  },
  {
   "cell_type": "code",
   "execution_count": 6,
   "id": "6dbfc908",
   "metadata": {},
   "outputs": [],
   "source": [
    "#******************************************\n",
    "# Counting parameters in your model\n",
    "#******************************************\n",
    "from sympy import default_sort_key\n",
    "circuits = train_circuits + dev_circuits + test_circuits\n",
    "\n",
    "# Make sure you sort your symbols as they are returned as a set.\n",
    "parameters = sorted({\n",
    "    s for circ in circuits for s in circ.free_symbols\n",
    "}, key=default_sort_key)"
   ]
  },
  {
   "cell_type": "code",
   "execution_count": 7,
   "id": "eb3c3540",
   "metadata": {},
   "outputs": [],
   "source": [
    "def normalise(predicts):\n",
    "    # apply smoothing to predicts\n",
    "    predicts = np.abs(predicts - 1e-9)\n",
    "    predicts = predicts / predicts.sum()\n",
    "    return predicts\n",
    "\n",
    "def BCE_loss(predicts, labels):\n",
    "    cross_entropies = np.sum(labels * np.log2(predicts))\n",
    "    cost = -1/len(labels) * np.sum(cross_entropies)\n",
    "\n",
    "    return cost"
   ]
  },
  {
   "cell_type": "code",
   "execution_count": 8,
   "id": "1f1aaa1f",
   "metadata": {},
   "outputs": [],
   "source": [
    "def make_pred_fn(circuits):\n",
    "    def pred_fn(params):\n",
    "        predictions = np.array([\n",
    "            normalise(np.abs(c.lambdify(*parameters)(*params).eval().array))\n",
    "            for c in circuits\n",
    "        ])\n",
    "        return predictions\n",
    "\n",
    "    return pred_fn"
   ]
  },
  {
   "cell_type": "code",
   "execution_count": 9,
   "id": "5921a000",
   "metadata": {},
   "outputs": [
    {
     "name": "stdout",
     "output_type": "stream",
     "text": [
      "Performing Just-In-Time compilation, this may take a while...\n"
     ]
    },
    {
     "data": {
      "text/plain": [
       "DeviceArray([[0.59450185, 0.40549812],\n",
       "             [0.04066788, 0.9593321 ],\n",
       "             [0.1270783 , 0.8729217 ],\n",
       "             ...,\n",
       "             [0.30980638, 0.6901936 ],\n",
       "             [0.47308612, 0.5269139 ],\n",
       "             [0.396312  , 0.603688  ]], dtype=float32)"
      ]
     },
     "execution_count": 10,
     "metadata": {},
     "output_type": "execute_result"
    }
   ],
   "source": [
    "train_pred_fn = jit(make_pred_fn(train_circuits))\n",
    "dev_pred_fn = jit(make_pred_fn(dev_circuits))\n",
    "test_pred_fn = jit(make_pred_fn(test_circuits))\n",
    "\n",
    "import numpy as onp\n",
    "# onp.random.seed(0)\n",
    "\n",
    "x0 = np.array(onp.random.random(len(parameters)))\n",
    "print(\"Performing Just-In-Time compilation, this may take a while...\")\n",
    "train_pred_fn(x0)\n",
    "dev_pred_fn(x0)"
   ]
  },
  {
   "cell_type": "code",
   "execution_count": 11,
   "id": "e4e115b2",
   "metadata": {},
   "outputs": [],
   "source": [
    "def make_cost_fn(pred_fn, labels):\n",
    "    costs = []\n",
    "    accs = []\n",
    "    params_list = []\n",
    "    def cost_fn(params, **kwargs):\n",
    "        predictions = pred_fn(params)\n",
    "\n",
    "        cost = BCE_loss(predictions, labels)\n",
    "        acc = np.sum(np.round(predictions) == labels) / len(labels) / 2\n",
    "        costs.append(cost)\n",
    "        accs.append(acc)\n",
    "        params_list.append(params)\n",
    "\n",
    "        return cost\n",
    "\n",
    "    return cost_fn, costs, accs, params_list"
   ]
  },
  {
   "cell_type": "code",
   "execution_count": 12,
   "id": "f8db1610",
   "metadata": {},
   "outputs": [],
   "source": [
    "# Rerun this cell onwards, so you can reuse the JITed prediction functions\n",
    "\n",
    "train_cost_fn, train_costs, train_accs, spsa_params = make_cost_fn(train_pred_fn, train_labels)\n",
    "dev_cost_fn, dev_costs, dev_accs, callback_params = make_cost_fn(dev_pred_fn, dev_labels)\n",
    "test_cost_fn, test_costs, test_accs, _ = make_cost_fn(test_pred_fn, test_labels)"
   ]
  },
  {
   "cell_type": "code",
   "execution_count": 13,
   "id": "033d07f6",
   "metadata": {
    "scrolled": false
   },
   "outputs": [
    {
     "data": {
      "text/plain": [
       "     fun: DeviceArray(0.07338803, dtype=float32)\n",
       " message: 'terminated after reaching max number of iterations'\n",
       "    nfev: 4000\n",
       "     nit: 2000\n",
       " success: True\n",
       "       x: DeviceArray([-0.10197008,  0.21064918,  0.28642726, ...,  0.9639627 ,\n",
       "              0.3812377 ,  0.22056638], dtype=float32)"
      ]
     },
     "execution_count": 14,
     "metadata": {},
     "output_type": "execute_result"
    }
   ],
   "source": [
    "from noisyopt import minimizeSPSA\n",
    "minimizeSPSA(train_cost_fn, x0=x0, a=0.13, c=0.1, niter=2000, callback=dev_cost_fn)"
   ]
  },
  {
   "cell_type": "code",
   "execution_count": 15,
   "id": "f97d2f35",
   "metadata": {},
   "outputs": [
    {
     "data": {
      "image/png": "[encoded data removed]",
      "text/plain": [
       "<Figure size 432x288 with 2 Axes>"
      ]
     },
     "metadata": {
      "needs_background": "light"
     },
     "output_type": "display_data"
    }
   ],
   "source": [
    "import matplotlib.pylab as plt\n",
    "fig, ax1 = plt.subplots()\n",
    "ax1.plot(train_costs[::2], color='#54436B')\n",
    "ax1.set_ylabel('Cost')\n",
    "ax1.set_xlabel('Iterations')\n",
    "ax1.set_title('Training Set')\n",
    "\n",
    "ax2 = ax1.twinx()\n",
    "ax2.plot(train_accs[::2], color='#50CB93')\n",
    "ax2.set_ylabel('Accuracy')\n",
    "plt.show()"
   ]
  },
  {
   "cell_type": "code",
   "execution_count": 15,
   "id": "80f8d88b",
   "metadata": {},
   "outputs": [
    {
     "data": {
      "image/png": "[encoded data removed]",
      "text/plain": [
       "<Figure size 432x288 with 2 Axes>"
      ]
     },
     "metadata": {
      "needs_background": "light"
     },
     "output_type": "display_data"
    }
   ],
   "source": [
    "fig, ax1 = plt.subplots()\n",
    "ax1.plot(dev_costs, color='#A03C78')\n",
    "ax1.set_ylabel('Cost')\n",
    "ax1.set_xlabel('Iterations')\n",
    "ax1.set_title('Development Set')\n",
    "\n",
    "ax2 = ax1.twinx()\n",
    "ax2.plot(dev_accs, color='#ED8E7C')\n",
    "ax2.set_ylabel('Accuracy')\n",
    "plt.show()"
   ]
  },
  {
   "cell_type": "code",
   "execution_count": 16,
   "id": "bd565001",
   "metadata": {},
   "outputs": [],
   "source": [
    "# when you are happy with the development set results\n",
    "# run your model on the testing set\n",
    "\n",
    "# for p in callback_params:\n",
    "#     test_cost_fn(p)"
   ]
  },
  {
   "cell_type": "code",
   "execution_count": 17,
   "id": "65e43be2",
   "metadata": {},
   "outputs": [
    {
     "data": {
      "image/png": "[encoded data removed]",
      "text/plain": [
       "<Figure size 432x288 with 2 Axes>"
      ]
     },
     "metadata": {
      "needs_background": "light"
     },
     "output_type": "display_data"
    }
   ],
   "source": [
    "fig, ax1 = plt.subplots()\n",
    "ax1.plot(test_costs, color='#7C83FD')\n",
    "ax1.set_ylabel('Cost')\n",
    "ax1.set_xlabel('Iterations')\n",
    "ax1.set_title('Testing Set')\n",
    "\n",
    "ax2 = ax1.twinx()\n",
    "ax2.plot(test_accs, color='#96BAFF')\n",
    "ax2.set_ylabel('Accuracy')\n",
    "plt.show()"
   ]
  },
  {
   "cell_type": "code",
   "execution_count": null,
   "id": "d2eb6e00",
   "metadata": {},
   "outputs": [],
   "source": []
  }
 ],
 "metadata": {
  "kernelspec": {
   "display_name": "Python 3",
   "language": "python",
   "name": "python3"
  },
  "language_info": {
   "codemirror_mode": {
    "name": "ipython",
    "version": 3
   },
   "file_extension": ".py",
   "mimetype": "text/x-python",
   "name": "python",
   "nbconvert_exporter": "python",
   "pygments_lexer": "ipython3",
   "version": "3.9.5"
  }
 },
 "nbformat": 4,
 "nbformat_minor": 5
}
