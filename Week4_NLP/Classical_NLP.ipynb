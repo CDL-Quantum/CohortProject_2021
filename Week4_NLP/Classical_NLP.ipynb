{
  "nbformat": 4,
  "nbformat_minor": 0,
  "metadata": {
    "colab": {
      "name": "Classical_NLP.ipynb",
      "provenance": [],
      "collapsed_sections": []
    },
    "kernelspec": {
      "name": "python3",
      "display_name": "Python 3"
    },
    "language_info": {
      "name": "python"
    }
  },
  "cells": [
    {
      "cell_type": "markdown",
      "metadata": {
        "id": "lFNp--_3lVVt"
      },
      "source": [
        "'Bag of Words' Classifier: an example of Classical NLP"
      ]
    },
    {
      "cell_type": "code",
      "metadata": {
        "colab": {
          "base_uri": "https://localhost:8080/"
        },
        "id": "9_gR49yOciSR",
        "outputId": "db362671-c02c-44f1-b4da-157f13146cb8"
      },
      "source": [
        "import nltk\n",
        "nltk.download('punkt')\n",
        "from nltk.corpus import stopwords\n",
        "from nltk.stem import WordNetLemmatizer\n",
        "from itertools import chain\n",
        "from sklearn.model_selection import train_test_split\n",
        "from sklearn.metrics import accuracy_score,precision_score,recall_score,confusion_matrix,roc_curve,classification_report"
      ],
      "execution_count": null,
      "outputs": [
        {
          "output_type": "stream",
          "text": [
            "[nltk_data] Downloading package punkt to /root/nltk_data...\n",
            "[nltk_data]   Package punkt is already up-to-date!\n"
          ],
          "name": "stdout"
        }
      ]
    },
    {
      "cell_type": "code",
      "metadata": {
        "id": "C0SvEyR7ciPL"
      },
      "source": [
        "adjectives  = ['cruel', 'strong', 'weak', 'smart', 'happy', 'cowardly', 'brave', 'stupid', 'heroic', 'loving']\n",
        "nouns =['professor', 'doctor', 'politician', 'fireman', 'policeman', 'scientist', 'lawyer', 'physicist', 'nurse', 'mathematician']\n",
        "verbs = ['wins', 'loses', 'lies','saves', 'flees', 'kills', 'saves', 'cries', 'innovates', 'creates', 'believes']\n",
        "\n",
        "\n",
        "positive = ['wins', 'saves','innovates', 'creates', 'believes' ]\n",
        "negatives = ['loses', 'lies', 'flees', 'kills','cries']"
      ],
      "execution_count": null,
      "outputs": []
    },
    {
      "cell_type": "code",
      "metadata": {
        "id": "u2dN2srAciMh"
      },
      "source": [
        "sentences = []\n",
        "labels = []\n",
        "\n",
        "for a in adjectives:\n",
        "  for n in nouns:\n",
        "    for v in verbs:\n",
        "        sentences.append(a + ' ' + n + ' '+ v)\n",
        "        if v in positive:\n",
        "          labels.append('pos')\n",
        "        else:\n",
        "          labels.append('neg')\n"
      ],
      "execution_count": null,
      "outputs": []
    },
    {
      "cell_type": "code",
      "metadata": {
        "id": "nvaZhr-LciJq"
      },
      "source": [
        "X_train, X_test, y_train, y_test = train_test_split(sentences, labels, test_size=0.1, random_state=42)"
      ],
      "execution_count": null,
      "outputs": []
    },
    {
      "cell_type": "code",
      "metadata": {
        "id": "-Us_5Xh8ciEK"
      },
      "source": [
        "train = []\n",
        "test = []\n",
        "\n",
        "for i in range(len(X_train)):\n",
        "  train.append([X_train[i], y_train[i]]) \n",
        "\n",
        "\n",
        "for i in range(len(X_test)):\n",
        "  test.append([X_test[i], y_test[i]]) "
      ],
      "execution_count": null,
      "outputs": []
    },
    {
      "cell_type": "code",
      "metadata": {
        "id": "ekEqVfFfciBV"
      },
      "source": [
        "from nltk.tokenize import word_tokenize # or use some other tokenizer\n",
        "all_words = set(word.lower() for passage in train for word in word_tokenize(passage[0]))\n",
        "t = [({word: (word in word_tokenize(x[0])) for word in all_words}, x[1]) for x in train]"
      ],
      "execution_count": null,
      "outputs": []
    },
    {
      "cell_type": "code",
      "metadata": {
        "id": "YLZppqPLch-d"
      },
      "source": [
        "classifier = nltk.NaiveBayesClassifier.train(t)"
      ],
      "execution_count": null,
      "outputs": []
    },
    {
      "cell_type": "code",
      "metadata": {
        "id": "J5vvysM3gOvi"
      },
      "source": [
        "vocabulary = set(chain(*[word_tokenize(i[0].lower()) for i in train]))"
      ],
      "execution_count": null,
      "outputs": []
    },
    {
      "cell_type": "code",
      "metadata": {
        "id": "34SczwzSm-7Z"
      },
      "source": [
        "all_words2 = set(word.lower() for passage in test for word in word_tokenize(passage[0]))\n",
        "t2 = [({word: (word in word_tokenize(x[0])) for word in all_words2}, x[1]) for x in test]"
      ],
      "execution_count": null,
      "outputs": []
    },
    {
      "cell_type": "code",
      "metadata": {
        "colab": {
          "base_uri": "https://localhost:8080/"
        },
        "id": "oxFeOxTSm-2Z",
        "outputId": "0bb6b9b8-ec3d-455a-f6ab-5461689bf131"
      },
      "source": [
        "print(\"Classifier accuracy:\",(nltk.classify.accuracy(classifier, t2))*100)"
      ],
      "execution_count": null,
      "outputs": [
        {
          "output_type": "stream",
          "text": [
            "Classifier accuracy: 100.0\n"
          ],
          "name": "stdout"
        }
      ]
    },
    {
      "cell_type": "code",
      "metadata": {
        "colab": {
          "base_uri": "https://localhost:8080/"
        },
        "id": "hcJ98vF6m-zJ",
        "outputId": "e53ee204-b856-454c-f41d-dfc7dd537133"
      },
      "source": [
        "classifier.show_most_informative_features(5)"
      ],
      "execution_count": null,
      "outputs": [
        {
          "output_type": "stream",
          "text": [
            "Most Informative Features\n",
            "                   saves = False             neg : pos    =      1.5 : 1.0\n",
            "                   cries = False             pos : neg    =      1.3 : 1.0\n",
            "                   kills = False             pos : neg    =      1.3 : 1.0\n",
            "                   loses = False             pos : neg    =      1.3 : 1.0\n",
            "                   flees = False             pos : neg    =      1.2 : 1.0\n"
          ],
          "name": "stdout"
        }
      ]
    },
    {
      "cell_type": "code",
      "metadata": {
        "colab": {
          "base_uri": "https://localhost:8080/"
        },
        "id": "itQPDeFcgOsh",
        "outputId": "9475c0ed-89b6-4efe-d5c3-5f040fafa0d0"
      },
      "source": [
        "for i in range(10):\n",
        "  test_sentence = X_test[i]\n",
        "  featurized_test_sentence = {i:(i in word_tokenize(test_sentence.lower())) for i in vocabulary}\n",
        "  pred = classifier.classify(featurized_test_sentence)\n",
        "  print('Sentence: '  + test_sentence)\n",
        "  print('Correct label: ' + y_test[i])\n",
        "  print('Predicted label: ' + pred)\n",
        "  print(' ')\n"
      ],
      "execution_count": null,
      "outputs": [
        {
          "output_type": "stream",
          "text": [
            "Sentence: weak mathematician creates\n",
            "Correct label: pos\n",
            "Predicted label: pos\n",
            " \n",
            "Sentence: brave politician saves\n",
            "Correct label: pos\n",
            "Predicted label: pos\n",
            " \n",
            "Sentence: smart physicist saves\n",
            "Correct label: pos\n",
            "Predicted label: pos\n",
            " \n",
            "Sentence: stupid doctor cries\n",
            "Correct label: neg\n",
            "Predicted label: neg\n",
            " \n",
            "Sentence: weak politician lies\n",
            "Correct label: neg\n",
            "Predicted label: neg\n",
            " \n",
            "Sentence: brave mathematician wins\n",
            "Correct label: pos\n",
            "Predicted label: pos\n",
            " \n",
            "Sentence: cruel nurse innovates\n",
            "Correct label: pos\n",
            "Predicted label: pos\n",
            " \n",
            "Sentence: cowardly scientist wins\n",
            "Correct label: pos\n",
            "Predicted label: pos\n",
            " \n",
            "Sentence: brave lawyer innovates\n",
            "Correct label: pos\n",
            "Predicted label: pos\n",
            " \n",
            "Sentence: cruel mathematician lies\n",
            "Correct label: neg\n",
            "Predicted label: neg\n",
            " \n"
          ],
          "name": "stdout"
        }
      ]
    }
  ]
}