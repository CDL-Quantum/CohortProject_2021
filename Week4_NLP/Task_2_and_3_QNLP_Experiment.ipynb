{
 "cells": [
  {
   "cell_type": "code",
   "execution_count": 2,
   "id": "60613f9a",
   "metadata": {},
   "outputs": [],
   "source": [
    "import jax.numpy as np\n",
    "from jax import jit\n",
    "from discopy import Tensor\n",
    "Tensor.np = np\n",
    "import discopy\n",
    "from discopy import Word, Ty, Cup, Id, grammar\n",
    "from sympy.abc import phi\n",
    "from time import time\n",
    "from discopy.grammar import brute_force\n",
    "import numpy as np\n",
    "from discopy import drawing\n",
    "from discopy.quantum import Id, Rz, CX, CRz\n",
    "from sympy.abc import symbols, phi\n",
    "from discopy.quantum import Circuit, sqrt, Ket, H, Rx, CX, SWAP,circuit, Bra, Ry\n",
    "from discopy import CircuitFunctor, qubit, Functor\n",
    "from sympy import default_sort_key\n"
   ]
  },
  {
   "cell_type": "markdown",
   "id": "07fbc19d",
   "metadata": {},
   "source": [
    "# Spam Classification for Email\n",
    "\n",
    "Here we generate a vocabulary of words with positional tags.  This is translated into a set of data with correct, and incorrect sentences which correspond to lables 1's and 0's respectively.  This data is split up into a training,development, and test set.  The sentences are translated along with their grammer are translated into diagrams with discopy, and then into corresponding parameterized quantum circuits.  We then use the data labels and  a classical optimizer to optimize these circuits, and then calculate a classification value 1 or 0 for each sentence.  This allows use to test different sentences of similar for, but with different vocabulary to identify spam vs real email sentences for example.\n",
    "\n",
    "1. [Task 2: Generating Vocabulary](#1.-Task-2)\n",
    "2. [Data Sets](#2.-Datasets)\n",
    "3. [Generating Templates](#3.-Generating-Templates)\n",
    "4. [Task 3: Experiment](#4.-Task-3:-Experiment)\n",
    "\n",
    "# 1. Task 2\n",
    "\n",
    "Below we generate the vocabulary, grammer, and corresponding labels that we want to test"
   ]
  },
  {
   "cell_type": "code",
   "execution_count": 3,
   "id": "f016ebda",
   "metadata": {},
   "outputs": [
    {
     "name": "stdout",
     "output_type": "stream",
     "text": [
      "Brute force search for grammatical sentences:\n",
      "Alice loves Alice\n",
      "Alice loves Bob\n",
      "Alice loves Jaz\n",
      "Alice loves Janezesa\n",
      "Alice loves Juniper\n",
      "Alice depises Alice\n",
      "Alice depises Bob\n",
      "Alice depises Jaz\n",
      "Alice depises Janezesa\n",
      "Alice depises Juniper\n",
      "Alice tolerdfates Alice\n",
      "Alice tolerdfates Bob\n",
      "Alice tolerdfates Jaz\n",
      "Alice tolerdfates Janezesa\n",
      "Alice tolerdfates Juniper\n",
      "Alice pinches Alice\n",
      "Alice pinches Bob\n",
      "Alice pinches Jaz\n",
      "Alice pinches Janezesa\n",
      "Alice pinches Juniper\n",
      "Alice attacks Alice\n",
      "Alice attacks Bob\n",
      "Alice attacks Jaz\n",
      "Alice attacks Janezesa\n",
      "Alice attacks Juniper\n",
      "Alice flees Alice\n",
      "\n",
      "0.48 seconds to generate 26 sentences.\n"
     ]
    }
   ],
   "source": [
    "#******************************************\n",
    "# Generate your corpus\n",
    "#******************************************\n",
    "# sentences can be of the `word1 word2 word3 ...`\n",
    "# if you are generating the diagrams using templates\n",
    "# then you may want to consider adding POS tags (N, V, Adj) for each word\n",
    "# labels should be of the form [0,1] or [1,0] for binary classification\n",
    "\n",
    "s, n = Ty('s'), Ty('n')\n",
    "Jaz = Word('Jaz', n)\n",
    "Janezesa = Word('Janezesa', n)\n",
    "Juniper = Word('Juniper', n)\n",
    "Alice = Word('Alice', n)\n",
    "loves = Word('loves', n.r @ s @ n.l)\n",
    "despises = Word('depises', n.r @ s @ n.l)\n",
    "tolerates = Word('tolerdfates', n.r @ s @ n.l)\n",
    "pinches = Word('pinches', n.r @ s @ n.l)\n",
    "attacks = Word('attacks', n.r @ s @ n.l)\n",
    "flees = Word('flees', n.r @ s @ n.l)\n",
    "Bob =  Word('Bob', n)\n",
    "who = Word('who', n.r @ n @ s.l @ n)\n",
    "is_rich = Word('is rich', n.r @ s)\n",
    "\n",
    "vocab = [Alice, loves, Bob,Jaz,Janezesa,Juniper,despises,tolerates,pinches,attacks,flees]#, who, is_rich]\n",
    "\n",
    "num_sentences = 26\n",
    "\n",
    "gen, n_sentences = brute_force(*vocab), num_sentences\n",
    "sentences= list()\n",
    "\n",
    "print(\"Brute force search for grammatical sentences:\")\n",
    "\n",
    "start = time()\n",
    "for i in range(n_sentences):\n",
    "    diagram = next(gen)\n",
    "    sentence = ' '.join(str(w)\n",
    "        for w in diagram.boxes if isinstance(w, Word))\n",
    "    sentences.append(sentence)\n",
    "    print(sentence)\n",
    "\n",
    "print(\"\\n{:.2f} seconds to generate {} sentences.\".format(time() - start, n_sentences))"
   ]
  },
  {
   "cell_type": "markdown",
   "id": "aca61f30",
   "metadata": {},
   "source": [
    "## 2. Datasets\n",
    "Here we auto split our data sentences into a train,dev, and test set allong with corresponding labels sets for each."
   ]
  },
  {
   "cell_type": "code",
   "execution_count": 4,
   "id": "de97eeb6",
   "metadata": {},
   "outputs": [],
   "source": [
    "hl = int(num_sentences/4)\n",
    "hlp = 3*hl\n",
    "\n",
    "train_sentences = sentences[0:hlp]\n",
    "hd = int((num_sentences - hlp)/2)\n",
    "dev_sentences = sentences[hlp:hlp+hd]\n",
    "test_sentences = sentences[hlp+hd:]\n",
    "\n",
    "train_labels = [1,1,1,0,1,1,1,1,0,1,0,0,0,0,0,1,1,1]\n",
    "dev_labels = [0,1,1,1]\n",
    "test_labels = [1,0,1,1]\n",
    "\n",
    "train_labels = np.array(train_labels)\n",
    "dev_labels = np.array(dev_labels)\n",
    "test_labels = np.array(test_labels)"
   ]
  },
  {
   "cell_type": "markdown",
   "id": "264d889d",
   "metadata": {},
   "source": [
    "# 3. Generating Templates\n",
    "\n",
    "Another option is to generate the diagrams via the website: https://qnlp.cambridgequantum.com/generate.html.\n",
    "\n",
    "We also, generate our own Ansatz states below, but you can also use the builtin Ansatz with the IQP Ansatz method:\n",
    "\n",
    "https://discopy.readthedocs.io/en/main/discopy/quantum.circuit.html.\n"
   ]
  },
  {
   "cell_type": "code",
   "execution_count": 5,
   "id": "9eb5595b",
   "metadata": {},
   "outputs": [
    {
     "data": {
      "image/png": "[encoded data removed]",
      "text/plain": [
       "<Figure size 432x288 with 1 Axes>"
      ]
     },
     "metadata": {
      "needs_background": "light"
     },
     "output_type": "display_data"
    }
   ],
   "source": [
    "#******************************************\n",
    "# Generate your diagrams\n",
    "#******************************************\n",
    "# TODO generate the DisCoCat diagrams for your corpus. There are 2 options:\n",
    "# 1. Follow a few fixed templates (N V N, N V Adj N, ...)\n",
    "# 2. Use the online tool to generate diagrams. \n",
    "# If you are using the online tool, consider writing a script.\n",
    "\n",
    "def sentence2diagram(one_sentence):\n",
    "    w0,w1,w2 = one_sentence.split(' ')\n",
    "    words = Word(w0, n) @ Word(w1, n.r @ s @ n.l) @ Word(w2, n)\n",
    "    cups = Cup(n, n.r) @ Id(s) @ Cup(n.l, n)\n",
    "\n",
    "    return words >> cups\n",
    "\n",
    "train_diagrams = [sentence2diagram(s) for s in train_sentences]\n",
    "dev_diagrams = [sentence2diagram(s) for s in dev_sentences]\n",
    "test_diagrams = [sentence2diagram(s) for s in test_sentences]\n",
    "\n",
    "def NVN_example(w0, w1, w2):\n",
    "    words = Word(w0, n) @ Word(w1, n.r @ s @ n.l) @ Word(w2, n)\n",
    "    cups = Cup(n, n.r) @ Id(s) @ Cup(n.l, n)\n",
    "\n",
    "    return words >> cups\n",
    "\n",
    "grammar.draw(sentence2diagram(train_sentences[1]))"
   ]
  },
  {
   "cell_type": "markdown",
   "id": "6ff99267",
   "metadata": {},
   "source": [
    "Here we define our ansatz and use a functor to translate our sentence into a quantum circuit with two possible parameters $\\phi$ and $abc$."
   ]
  },
  {
   "cell_type": "code",
   "execution_count": 6,
   "id": "6f764461",
   "metadata": {},
   "outputs": [
    {
     "name": "stdout",
     "output_type": "stream",
     "text": [
      "Alice loves Alice\n"
     ]
    },
    {
     "data": {
      "image/png": "[encoded data removed]",
      "text/plain": [
       "<Figure size 432x288 with 1 Axes>"
      ]
     },
     "metadata": {
      "needs_background": "light"
     },
     "output_type": "display_data"
    },
    {
     "data": {
      "image/png": "[encoded data removed]",
      "text/plain": [
       "<Figure size 432x288 with 1 Axes>"
      ]
     },
     "metadata": {
      "needs_background": "light"
     },
     "output_type": "display_data"
    }
   ],
   "source": [
    "#******************************************\n",
    "# Generate your circuits\n",
    "#******************************************\n",
    "# TODO: Implement your own functorial ansatz conversion!\n",
    "# The `qnlp-tutorial` has some code on this.\n",
    "# https://discopy.readthedocs.io/en/main/notebooks/qnlp-tutorial.html\n",
    "# You may also find discopy's `IQPansatz` function useful.\n",
    "\n",
    "\n",
    "# Ansatz for words with type `n`, e.g. 'Alice', 'Bob'\n",
    "\n",
    "def intransitive_ansatz(phase):\n",
    "    return Ket(0) >> Rx(phase)\n",
    "\n",
    "# Ansatz for words with type `n.r @ s @ n.l`, e.g. 'loves'\n",
    "def transitive_ansatz(phase):\n",
    "    return sqrt(2) @ Ket(0, 0) >> H @ Rx(phase) >> CX\n",
    "\n",
    "def transitive_ansatz1(phase):\n",
    "    return sqrt(2) @ Ket(0, 0) >> H @ Ry(phase) >> CX\n",
    "\n",
    "def transitive_ansatz2(phase):\n",
    "    return sqrt(2) @ Ket(0, 0) >> H @ Rx(phase) >> CX\n",
    "\n",
    "def transitive_ansatz3(phase):\n",
    "    return sqrt(2) @ Ket(0, 0) >> H @ Rx(phase) >> CX\n",
    "\n",
    "\n",
    "GHZ = sqrt(2) @ Ket(0, 0, 0)\\\n",
    "    >> Circuit.id(1) @ H @ Circuit.id(1)\\\n",
    "    >> Circuit.id(1) @ CX\\\n",
    "    >> (SWAP >>  CX) @ Circuit.id(1)\n",
    "sym = symbols(\"abc\")\n",
    "params0 = np.array([0.5, 1.0])\n",
    "#params0 = np.array([0.5])\n",
    "\n",
    "\n",
    "diagram2circuit = circuit.Functor(\n",
    "    ob={s: qubit ** 0, n: qubit ** 1},\n",
    "    ar={Alice: Ket(0),\n",
    "        flees: transitive_ansatz(phi),\n",
    "        loves: transitive_ansatz1(sym),\n",
    "        tolerates:transitive_ansatz2(sym),\n",
    "        despises:transitive_ansatz(phi),\n",
    "        pinches:transitive_ansatz3(sym),\n",
    "        attacks:transitive_ansatz(sym),\n",
    "        Janezesa:Ket(1),\n",
    "        Juniper:Ket(1),\n",
    "        Jaz:Ket(1),\n",
    "        Bob: Ket(1),\n",
    "        who: GHZ,\n",
    "        is_rich: intransitive_ansatz(params0[0])})\n",
    "\n",
    "train_circuits = [diagram2circuit(d) for d in train_diagrams]\n",
    "dev_circuits = [diagram2circuit(d) for d in dev_diagrams]\n",
    "test_circuits = [diagram2circuit(d) for d in test_diagrams]\n",
    "\n",
    "print(train_sentences[0])\n",
    "train_diagrams[0].draw()\n",
    "train_circuits[1].draw()\n",
    "# for i in range(len(train_circuits)):   #drawing out all the diagrams\n",
    "#     circ = train_circuits[i]\n",
    "#     print(sentences[i],i)\n",
    "#     train_diagrams[i].draw()\n",
    "#     circ.draw()"
   ]
  },
  {
   "cell_type": "markdown",
   "id": "51e38936",
   "metadata": {},
   "source": [
    "# 4. Task 3: Experiment\n",
    "\n",
    "Here we do an experiment to train our circuits and classify them as spam or not."
   ]
  },
  {
   "cell_type": "code",
   "execution_count": 7,
   "id": "5b80b843",
   "metadata": {},
   "outputs": [],
   "source": [
    "# These imports will come in handy when you want to run\n",
    "# backend simulations.\n",
    "\n",
    "# from qiskit import IBMQ\n",
    "# from pytket.extensions.qiskit import AerBackend, IBMQBackend, IBMQEmulatorBackend"
   ]
  },
  {
   "cell_type": "code",
   "execution_count": 8,
   "id": "337c9872",
   "metadata": {},
   "outputs": [],
   "source": [
    "#******************************************\n",
    "# Counting parameters in your model\n",
    "#******************************************\n",
    "circuits = train_circuits + dev_circuits + test_circuits\n",
    "\n",
    "# Make sure you sort your symbols as they are returned as a set.\n",
    "parameters = sorted({\n",
    "    s for circ in circuits for s in circ.free_symbols\n",
    "}, key=default_sort_key)\n",
    "\n",
    "import jax.numpy as jnp"
   ]
  },
  {
   "cell_type": "code",
   "execution_count": 9,
   "id": "f732212a",
   "metadata": {},
   "outputs": [],
   "source": [
    "def normalise(predicts):\n",
    "    # apply smoothing to predicts\n",
    "    predicts = jnp.abs(predicts - 1e-9)\n",
    "\n",
    "    predicts = predicts / predicts.sum()\n",
    "\n",
    "    return predicts\n",
    "\n",
    "def BCE_loss(predicts, labels):\n",
    "    cross_entropies = np.sum(labels * np.log2(predicts))\n",
    "    cost = -1/len(labels) * np.sum(cross_entropies)\n",
    "    cost = [predicts[i]**2-labels[i]**2 for i in range(len(predicts))]\n",
    "    cost = sum(cost)\n",
    "    return cost"
   ]
  },
  {
   "cell_type": "code",
   "execution_count": 24,
   "id": "44130db6",
   "metadata": {},
   "outputs": [],
   "source": [
    "def make_pred_fn(circuits):\n",
    "    def pred_fn(params):\n",
    "      \n",
    "        predictions = jnp.array([\n",
    "            normalise(jnp.abs(c.lambdify(*parameters)(*params).eval().array))\n",
    "            for c in circuits\n",
    "        ])\n",
    "        return predictions\n",
    "\n",
    "    return pred_fn"
   ]
  },
  {
   "cell_type": "code",
   "execution_count": 25,
   "id": "318309a3",
   "metadata": {},
   "outputs": [
    {
     "name": "stdout",
     "output_type": "stream",
     "text": [
      "[0.89433557 0.48945594]\n",
      "Performing Just-In-Time compilation, this may take a while...\n"
     ]
    },
    {
     "data": {
      "text/plain": [
       "DeviceArray([[1.],\n",
       "             [1.],\n",
       "             [1.],\n",
       "             [1.]], dtype=float32)"
      ]
     },
     "execution_count": 25,
     "metadata": {},
     "output_type": "execute_result"
    }
   ],
   "source": [
    "train_pred_fn = jit(make_pred_fn(train_circuits))\n",
    "dev_pred_fn = jit(make_pred_fn(dev_circuits))\n",
    "test_pred_fn = jit(make_pred_fn(test_circuits))\n",
    "\n",
    "import numpy as onp\n",
    "# onp.random.seed(0)\n",
    "\n",
    "\n",
    "x0 = jnp.array(onp.random.random(len(parameters)))\n",
    "\n",
    "print(x0)\n",
    "print(\"Performing Just-In-Time compilation, this may take a while...\")\n",
    "train_pred_fn(x0)\n",
    "dev_pred_fn(x0)"
   ]
  },
  {
   "cell_type": "code",
   "execution_count": 12,
   "id": "2672f322",
   "metadata": {},
   "outputs": [],
   "source": [
    "def make_cost_fn(pred_fn, labels):\n",
    "    costs = []\n",
    "    accs = []\n",
    "    params_list = []\n",
    "    def cost_fn(params, **kwargs):\n",
    "        predictions = pred_fn(params)\n",
    "\n",
    "        cost = BCE_loss(predictions, labels)\n",
    "        acc = np.sum(np.round(predictions) == labels) / len(labels) / 2\n",
    "        costs.append(cost)\n",
    "        accs.append(acc)\n",
    "        params_list.append(params)\n",
    "\n",
    "        return cost\n",
    "\n",
    "    return cost_fn, costs, accs, params_list"
   ]
  },
  {
   "cell_type": "code",
   "execution_count": 13,
   "id": "76a048b6",
   "metadata": {},
   "outputs": [],
   "source": [
    "# Rerun this cell onwards, so you can reuse the JITed prediction functions\n",
    "\n",
    "train_cost_fn, train_costs, train_accs, spsa_params = make_cost_fn(train_pred_fn, train_labels)\n",
    "dev_cost_fn, dev_costs, dev_accs, callback_params = make_cost_fn(dev_pred_fn, dev_labels)\n",
    "test_cost_fn, test_costs, test_accs, _ = make_cost_fn(test_pred_fn, test_labels)"
   ]
  },
  {
   "cell_type": "code",
   "execution_count": 14,
   "id": "d6005aa8",
   "metadata": {
    "scrolled": false
   },
   "outputs": [
    {
     "data": {
      "text/plain": [
       "     fun: DeviceArray([7.], dtype=float32)\n",
       " message: 'terminated after reaching max number of iterations'\n",
       "    nfev: 4000\n",
       "     nit: 2000\n",
       " success: True\n",
       "       x: DeviceArray([0.879744  , 0.09348707], dtype=float32)"
      ]
     },
     "execution_count": 14,
     "metadata": {},
     "output_type": "execute_result"
    }
   ],
   "source": [
    "from noisyopt import minimizeSPSA\n",
    "minimizeSPSA(train_cost_fn, x0=x0, a=0.13, c=0.1, niter=2000, callback=dev_cost_fn)"
   ]
  },
  {
   "cell_type": "markdown",
   "id": "26c0dd29",
   "metadata": {},
   "source": [
    "Here our learning curve seems to not be converging well.  This is because the predicition function is outputting positive values on test cases.  This could be due to the case that the circuit is too simple and overconstrained.  Expansion of allowed sentence structure could lead to more variable results."
   ]
  },
  {
   "cell_type": "code",
   "execution_count": 15,
   "id": "0f637fa4",
   "metadata": {},
   "outputs": [
    {
     "data": {
      "image/png": "[encoded data removed]",
      "text/plain": [
       "<Figure size 432x288 with 2 Axes>"
      ]
     },
     "metadata": {
      "needs_background": "light"
     },
     "output_type": "display_data"
    }
   ],
   "source": [
    "import matplotlib.pylab as plt\n",
    "fig, ax1 = plt.subplots()\n",
    "ax1.plot(train_costs[::2], color='#54436B')\n",
    "ax1.set_ylabel('Cost')\n",
    "ax1.set_xlabel('Iterations')\n",
    "ax1.set_title('Training Set')\n",
    "\n",
    "ax2 = ax1.twinx()\n",
    "ax2.plot(train_accs[::2], color='#50CB93')\n",
    "ax2.set_ylabel('Accuracy')\n",
    "plt.show()"
   ]
  },
  {
   "cell_type": "code",
   "execution_count": 16,
   "id": "463ac072",
   "metadata": {},
   "outputs": [
    {
     "data": {
      "image/png": "[encoded data removed]",
      "text/plain": [
       "<Figure size 432x288 with 2 Axes>"
      ]
     },
     "metadata": {
      "needs_background": "light"
     },
     "output_type": "display_data"
    }
   ],
   "source": [
    "fig, ax1 = plt.subplots()\n",
    "ax1.plot(dev_costs, color='#A03C78')\n",
    "ax1.set_ylabel('Cost')\n",
    "ax1.set_xlabel('Iterations')\n",
    "ax1.set_title('Development Set')\n",
    "\n",
    "ax2 = ax1.twinx()\n",
    "ax2.plot(dev_accs, color='#ED8E7C')\n",
    "ax2.set_ylabel('Accuracy')\n",
    "plt.show()"
   ]
  },
  {
   "cell_type": "code",
   "execution_count": 162,
   "id": "2e76f4e1",
   "metadata": {},
   "outputs": [],
   "source": [
    "# when you are happy with the development set results\n",
    "# run your model on the testing set\n",
    "\n",
    "for p in callback_params:\n",
    "    test_cost_fn(p)"
   ]
  },
  {
   "cell_type": "code",
   "execution_count": 163,
   "id": "058527ba",
   "metadata": {},
   "outputs": [
    {
     "data": {
      "image/png": "[encoded data removed]",
      "text/plain": [
       "<Figure size 432x288 with 2 Axes>"
      ]
     },
     "metadata": {
      "needs_background": "light"
     },
     "output_type": "display_data"
    }
   ],
   "source": [
    "fig, ax1 = plt.subplots()\n",
    "ax1.plot(test_costs, color='#7C83FD')\n",
    "ax1.set_ylabel('Cost')\n",
    "ax1.set_xlabel('Iterations')\n",
    "ax1.set_title('Testing Set')\n",
    "\n",
    "ax2 = ax1.twinx()\n",
    "ax2.plot(test_accs, color='#96BAFF')\n",
    "ax2.set_ylabel('Accuracy')\n",
    "plt.show()"
   ]
  }
 ],
 "metadata": {
  "kernelspec": {
   "display_name": "qnlp",
   "language": "python",
   "name": "qnlp"
  },
  "language_info": {
   "codemirror_mode": {
    "name": "ipython",
    "version": 3
   },
   "file_extension": ".py",
   "mimetype": "text/x-python",
   "name": "python",
   "nbconvert_exporter": "python",
   "pygments_lexer": "ipython3",
   "version": "3.9.5"
  }
 },
 "nbformat": 4,
 "nbformat_minor": 5
}
