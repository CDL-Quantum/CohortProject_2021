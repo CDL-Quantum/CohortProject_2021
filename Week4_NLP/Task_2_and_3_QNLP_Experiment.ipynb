{
 "cells": [
  {
   "cell_type": "code",
   "execution_count": 22,
   "id": "60613f9a",
   "metadata": {},
   "outputs": [],
   "source": [
    "import jax.numpy as np\n",
    "from jax import jit\n",
    "from discopy import Tensor\n",
    "Tensor.np = np\n",
    "import discopy\n",
    "from discopy import Word, Ty, Cup, Id, grammar\n",
    "from sympy.abc import phi\n",
    "from time import time\n",
    "from discopy.grammar import brute_force\n",
    "import numpy as np\n",
    "from discopy import drawing\n",
    "from discopy.quantum import Id, Rz, CX, CRz\n",
    "from sympy.abc import symbols, phi\n",
    "from discopy.quantum import Circuit, sqrt, Ket, H, Rx, CX, SWAP,circuit, Bra\n",
    "from discopy import CircuitFunctor, qubit, Functor\n",
    "from sympy import default_sort_key"
   ]
  },
  {
   "cell_type": "markdown",
   "id": "07fbc19d",
   "metadata": {},
   "source": [
    "# Spam Classification for Email\n",
    "\n",
    "Here we generate a vocabulary of words with positional tags.  This is translated into a set of data with correct, and incorrect sentences which correspond to lables 1's and 0's respectively.  This data is split up into a training,development, and test set.  The sentences are translated along with their grammer are translated into diagrams with discopy, and then into corresponding parameterized quantum circuits.  We then use the data labels and  a classical optimizer to optimize these circuits, and then calculate a classification value 1 or 0 for each sentence.  This allows use to test different sentences of similar for, but with different vocabulary to identify spam vs real email sentences for example.\n",
    "\n",
    "# Task 2\n",
    "\n",
    "Below we generate the vocabulary, grammer, and corresponding labels that we want to test"
   ]
  },
  {
   "cell_type": "code",
   "execution_count": 23,
   "id": "f016ebda",
   "metadata": {},
   "outputs": [
    {
     "name": "stdout",
     "output_type": "stream",
     "text": [
      "Brute force search for grammatical sentences:\n",
      "Alice loves Alice\n",
      "Alice loves Bob\n",
      "Alice loves Alice\n",
      "Alice loves Janezesa\n",
      "Alice loves Juniper\n",
      "Alice depises Alice\n",
      "Alice depises Bob\n",
      "Alice depises Alice\n",
      "Alice depises Janezesa\n",
      "Alice depises Juniper\n",
      "Alice tolerdfates Alice\n",
      "Alice tolerdfates Bob\n",
      "Alice tolerdfates Alice\n",
      "Alice tolerdfates Janezesa\n",
      "Alice tolerdfates Juniper\n",
      "Alice glares at Alice\n",
      "Alice glares at Bob\n",
      "Alice glares at Alice\n",
      "Alice glares at Janezesa\n",
      "Alice glares at Juniper\n",
      "Alice attacks Alice\n",
      "Alice attacks Bob\n",
      "Alice attacks Alice\n",
      "Alice attacks Janezesa\n",
      "Alice attacks Juniper\n",
      "Alice flees Alice\n",
      "\n",
      "0.22 seconds to generate 26 sentences.\n"
     ]
    }
   ],
   "source": [
    "#******************************************\n",
    "# Generate your corpus\n",
    "#******************************************\n",
    "# sentences can be of the `word1 word2 word3 ...`\n",
    "# if you are generating the diagrams using templates\n",
    "# then you may want to consider adding POS tags (N, V, Adj) for each word\n",
    "# labels should be of the form [0,1] or [1,0] for binary classification\n",
    "\n",
    "s, n = Ty('s'), Ty('n')\n",
    "Jaz = Word('Alice', n)\n",
    "Jane = Word('Janezesa', n)\n",
    "Juniper = Word('Juniper', n)\n",
    "Alice = Word('Alice', n)\n",
    "loves = Word('loves', n.r @ s @ n.l)\n",
    "despises = Word('depises', n.r @ s @ n.l)\n",
    "tolerates = Word('tolerdfates', n.r @ s @ n.l)\n",
    "glares_at = Word('glares at', n.r @ s @ n.l)\n",
    "attacks = Word('attacks', n.r @ s @ n.l)\n",
    "flees = Word('flees', n.r @ s @ n.l)\n",
    "Bob =  Word('Bob', n)\n",
    "who = Word('who', n.r @ n @ s.l @ n)\n",
    "is_rich = Word('is rich', n.r @ s)\n",
    "\n",
    "vocab = [Alice, loves, Bob,Jaz,Jane,Juniper,despises,tolerates,glares_at,attacks,flees]#, who, is_rich]\n",
    "\n",
    "num_sentences = 26\n",
    "\n",
    "gen, n_sentences = brute_force(*vocab), num_sentences\n",
    "sentences= list()\n",
    "\n",
    "print(\"Brute force search for grammatical sentences:\")\n",
    "\n",
    "start = time()\n",
    "for i in range(n_sentences):\n",
    "    diagram = next(gen)\n",
    "    sentence = ' '.join(str(w)\n",
    "        for w in diagram.boxes if isinstance(w, Word))\n",
    "    sentences.append(sentence)\n",
    "    print(sentence)\n",
    "\n",
    "print(\"\\n{:.2f} seconds to generate {} sentences.\".format(time() - start, n_sentences))"
   ]
  },
  {
   "cell_type": "markdown",
   "id": "aca61f30",
   "metadata": {},
   "source": [
    "## Datasets\n",
    "Here we auto split our data sentences into a train,dev, and test set allong with corresponding labels sets for each."
   ]
  },
  {
   "cell_type": "code",
   "execution_count": 24,
   "id": "de97eeb6",
   "metadata": {},
   "outputs": [
    {
     "name": "stdout",
     "output_type": "stream",
     "text": [
      "<class 'list'> Alice loves Alice\n"
     ]
    }
   ],
   "source": [
    "hl = int(num_sentences/4)\n",
    "hlp = 3*hl\n",
    "\n",
    "train_sentences = sentences[0:hlp]\n",
    "hd = int((num_sentences - hlp)/2)\n",
    "dev_sentences = sentences[hlp:hlp+hd]\n",
    "test_sentences = sentences[hlp+hd:]\n",
    "\n",
    "train_labels = [1,1,1,0,1,1,1,1,0,1,0,0,0,0,0,1,1,1]\n",
    "dev_labels = [0,1,1,1]\n",
    "test_labels = [1,0,1,1]\n",
    "\n",
    "train_labels = np.array(train_labels)\n",
    "dev_labels = np.array(dev_labels)\n",
    "test_labels = np.array(test_labels)\n",
    "\n",
    "#print(len(train_labels),len(dev_sentences),len(test_sentences))\n",
    "#print(train_sentences)\n",
    "#print(dev_sentences)\n",
    "#print(test_sentences)\n",
    "print(type(train_sentences),train_sentences[2])"
   ]
  },
  {
   "cell_type": "markdown",
   "id": "264d889d",
   "metadata": {},
   "source": [
    "# Here we generate sentence templates\n",
    "\n",
    "Another option is to generate the diagrams via the website: https://qnlp.cambridgequantum.com/generate.html.\n",
    "\n",
    "We also, generate our own Ansatz states below, but you can also use the builtin Ansatz with the IQP Ansatz method:\n",
    "\n",
    "https://discopy.readthedocs.io/en/main/discopy/quantum.circuit.html.\n"
   ]
  },
  {
   "cell_type": "code",
   "execution_count": 28,
   "id": "9eb5595b",
   "metadata": {},
   "outputs": [
    {
     "data": {
      "image/png": "[encoded data removed]",
      "text/plain": [
       "<Figure size 432x288 with 1 Axes>"
      ]
     },
     "metadata": {
      "needs_background": "light"
     },
     "output_type": "display_data"
    }
   ],
   "source": [
    "#******************************************\n",
    "# Generate your diagrams\n",
    "#******************************************\n",
    "# TODO generate the DisCoCat diagrams for your corpus. There are 2 options:\n",
    "# 1. Follow a few fixed templates (N V N, N V Adj N, ...)\n",
    "# 2. Use the online tool to generate diagrams. \n",
    "# If you are using the online tool, consider writing a script.\n",
    "\n",
    "def sentence2diagram(one_sentence):\n",
    "    w0,w1,w2 = sentence.split(' ')\n",
    "    words = Word(w0, n) @ Word(w1, n.r @ s @ n.l) @ Word(w2, n)\n",
    "    cups = Cup(n, n.r) @ Id(s) @ Cup(n.l, n)\n",
    "\n",
    "    return words >> cups\n",
    "\n",
    "train_diagrams = [sentence2diagram(s) for s in train_sentences]\n",
    "dev_diagrams = [sentence2diagram(s) for s in dev_sentences]\n",
    "test_diagrams = [sentence2diagram(s) for s in test_sentences]\n",
    "\n",
    "def NVN_example(w0, w1, w2):\n",
    "    words = Word(w0, n) @ Word(w1, n.r @ s @ n.l) @ Word(w2, n)\n",
    "    cups = Cup(n, n.r) @ Id(s) @ Cup(n.l, n)\n",
    "\n",
    "    return words >> cups\n",
    "\n",
    "grammar.draw(NVN_example('Alice', 'loves', 'Bob'))"
   ]
  },
  {
   "cell_type": "code",
   "execution_count": 29,
   "id": "6f764461",
   "metadata": {},
   "outputs": [
    {
     "data": {
      "image/png": "[encoded data removed]",
      "text/plain": [
       "<Figure size 432x288 with 1 Axes>"
      ]
     },
     "metadata": {
      "needs_background": "light"
     },
     "output_type": "display_data"
    },
    {
     "ename": "KeyError",
     "evalue": "Word('flees', Ty(Ob('n', z=1), 's', Ob('n', z=-1)))",
     "output_type": "error",
     "traceback": [
      "\u001b[0;31m---------------------------------------------------------------------------\u001b[0m",
      "\u001b[0;31mKeyError\u001b[0m                                  Traceback (most recent call last)",
      "\u001b[0;32m/tmp/ipykernel_972/2951525642.py\u001b[0m in \u001b[0;36m<module>\u001b[0;34m\u001b[0m\n\u001b[1;32m     41\u001b[0m \u001b[0mtrain_diagrams\u001b[0m\u001b[0;34m[\u001b[0m\u001b[0;36m0\u001b[0m\u001b[0;34m]\u001b[0m\u001b[0;34m.\u001b[0m\u001b[0mdraw\u001b[0m\u001b[0;34m(\u001b[0m\u001b[0;34m)\u001b[0m\u001b[0;34m\u001b[0m\u001b[0;34m\u001b[0m\u001b[0m\n\u001b[1;32m     42\u001b[0m \u001b[0;34m\u001b[0m\u001b[0m\n\u001b[0;32m---> 43\u001b[0;31m \u001b[0mtrain_circuits\u001b[0m \u001b[0;34m=\u001b[0m \u001b[0;34m[\u001b[0m\u001b[0mdiagram2circuit\u001b[0m\u001b[0;34m(\u001b[0m\u001b[0md\u001b[0m\u001b[0;34m)\u001b[0m \u001b[0;32mfor\u001b[0m \u001b[0md\u001b[0m \u001b[0;32min\u001b[0m \u001b[0mtrain_diagrams\u001b[0m\u001b[0;34m]\u001b[0m\u001b[0;34m\u001b[0m\u001b[0;34m\u001b[0m\u001b[0m\n\u001b[0m\u001b[1;32m     44\u001b[0m \u001b[0mdev_circuits\u001b[0m \u001b[0;34m=\u001b[0m \u001b[0;34m[\u001b[0m\u001b[0mdiagram2circuit\u001b[0m\u001b[0;34m(\u001b[0m\u001b[0md\u001b[0m\u001b[0;34m)\u001b[0m \u001b[0;32mfor\u001b[0m \u001b[0md\u001b[0m \u001b[0;32min\u001b[0m \u001b[0mdev_diagrams\u001b[0m\u001b[0;34m]\u001b[0m\u001b[0;34m\u001b[0m\u001b[0;34m\u001b[0m\u001b[0m\n\u001b[1;32m     45\u001b[0m \u001b[0mtest_circuits\u001b[0m \u001b[0;34m=\u001b[0m \u001b[0;34m[\u001b[0m\u001b[0mdiagram2circuit\u001b[0m\u001b[0;34m(\u001b[0m\u001b[0md\u001b[0m\u001b[0;34m)\u001b[0m \u001b[0;32mfor\u001b[0m \u001b[0md\u001b[0m \u001b[0;32min\u001b[0m \u001b[0mtest_diagrams\u001b[0m\u001b[0;34m]\u001b[0m\u001b[0;34m\u001b[0m\u001b[0;34m\u001b[0m\u001b[0m\n",
      "\u001b[0;32m/tmp/ipykernel_972/2951525642.py\u001b[0m in \u001b[0;36m<listcomp>\u001b[0;34m(.0)\u001b[0m\n\u001b[1;32m     41\u001b[0m \u001b[0mtrain_diagrams\u001b[0m\u001b[0;34m[\u001b[0m\u001b[0;36m0\u001b[0m\u001b[0;34m]\u001b[0m\u001b[0;34m.\u001b[0m\u001b[0mdraw\u001b[0m\u001b[0;34m(\u001b[0m\u001b[0;34m)\u001b[0m\u001b[0;34m\u001b[0m\u001b[0;34m\u001b[0m\u001b[0m\n\u001b[1;32m     42\u001b[0m \u001b[0;34m\u001b[0m\u001b[0m\n\u001b[0;32m---> 43\u001b[0;31m \u001b[0mtrain_circuits\u001b[0m \u001b[0;34m=\u001b[0m \u001b[0;34m[\u001b[0m\u001b[0mdiagram2circuit\u001b[0m\u001b[0;34m(\u001b[0m\u001b[0md\u001b[0m\u001b[0;34m)\u001b[0m \u001b[0;32mfor\u001b[0m \u001b[0md\u001b[0m \u001b[0;32min\u001b[0m \u001b[0mtrain_diagrams\u001b[0m\u001b[0;34m]\u001b[0m\u001b[0;34m\u001b[0m\u001b[0;34m\u001b[0m\u001b[0m\n\u001b[0m\u001b[1;32m     44\u001b[0m \u001b[0mdev_circuits\u001b[0m \u001b[0;34m=\u001b[0m \u001b[0;34m[\u001b[0m\u001b[0mdiagram2circuit\u001b[0m\u001b[0;34m(\u001b[0m\u001b[0md\u001b[0m\u001b[0;34m)\u001b[0m \u001b[0;32mfor\u001b[0m \u001b[0md\u001b[0m \u001b[0;32min\u001b[0m \u001b[0mdev_diagrams\u001b[0m\u001b[0;34m]\u001b[0m\u001b[0;34m\u001b[0m\u001b[0;34m\u001b[0m\u001b[0m\n\u001b[1;32m     45\u001b[0m \u001b[0mtest_circuits\u001b[0m \u001b[0;34m=\u001b[0m \u001b[0;34m[\u001b[0m\u001b[0mdiagram2circuit\u001b[0m\u001b[0;34m(\u001b[0m\u001b[0md\u001b[0m\u001b[0;34m)\u001b[0m \u001b[0;32mfor\u001b[0m \u001b[0md\u001b[0m \u001b[0;32min\u001b[0m \u001b[0mtest_diagrams\u001b[0m\u001b[0;34m]\u001b[0m\u001b[0;34m\u001b[0m\u001b[0;34m\u001b[0m\u001b[0m\n",
      "\u001b[0;32m~/miniconda3/lib/python3.9/site-packages/discopy/rigid.py\u001b[0m in \u001b[0;36m__call__\u001b[0;34m(self, diagram)\u001b[0m\n\u001b[1;32m    489\u001b[0m                 len(diagram.dom), len(diagram.cod), self(diagram.typ))\n\u001b[1;32m    490\u001b[0m         \u001b[0;32mif\u001b[0m \u001b[0misinstance\u001b[0m\u001b[0;34m(\u001b[0m\u001b[0mdiagram\u001b[0m\u001b[0;34m,\u001b[0m \u001b[0mmonoidal\u001b[0m\u001b[0;34m.\u001b[0m\u001b[0mDiagram\u001b[0m\u001b[0;34m)\u001b[0m\u001b[0;34m:\u001b[0m\u001b[0;34m\u001b[0m\u001b[0;34m\u001b[0m\u001b[0m\n\u001b[0;32m--> 491\u001b[0;31m             \u001b[0;32mreturn\u001b[0m \u001b[0msuper\u001b[0m\u001b[0;34m(\u001b[0m\u001b[0;34m)\u001b[0m\u001b[0;34m.\u001b[0m\u001b[0m__call__\u001b[0m\u001b[0;34m(\u001b[0m\u001b[0mdiagram\u001b[0m\u001b[0;34m)\u001b[0m\u001b[0;34m\u001b[0m\u001b[0;34m\u001b[0m\u001b[0m\n\u001b[0m\u001b[1;32m    492\u001b[0m         \u001b[0;32mraise\u001b[0m \u001b[0mTypeError\u001b[0m\u001b[0;34m(\u001b[0m\u001b[0mmessages\u001b[0m\u001b[0;34m.\u001b[0m\u001b[0mtype_err\u001b[0m\u001b[0;34m(\u001b[0m\u001b[0mDiagram\u001b[0m\u001b[0;34m,\u001b[0m \u001b[0mdiagram\u001b[0m\u001b[0;34m)\u001b[0m\u001b[0;34m)\u001b[0m\u001b[0;34m\u001b[0m\u001b[0;34m\u001b[0m\u001b[0m\n\u001b[1;32m    493\u001b[0m \u001b[0;34m\u001b[0m\u001b[0m\n",
      "\u001b[0;32m~/miniconda3/lib/python3.9/site-packages/discopy/monoidal.py\u001b[0m in \u001b[0;36m__call__\u001b[0;34m(self, diagram)\u001b[0m\n\u001b[1;32m    888\u001b[0m                 \u001b[0mid_l\u001b[0m \u001b[0;34m=\u001b[0m \u001b[0mself\u001b[0m\u001b[0;34m.\u001b[0m\u001b[0mar_factory\u001b[0m\u001b[0;34m.\u001b[0m\u001b[0mid\u001b[0m\u001b[0;34m(\u001b[0m\u001b[0mself\u001b[0m\u001b[0;34m(\u001b[0m\u001b[0mscan\u001b[0m\u001b[0;34m[\u001b[0m\u001b[0;34m:\u001b[0m\u001b[0moff\u001b[0m\u001b[0;34m]\u001b[0m\u001b[0;34m)\u001b[0m\u001b[0;34m)\u001b[0m\u001b[0;34m\u001b[0m\u001b[0;34m\u001b[0m\u001b[0m\n\u001b[1;32m    889\u001b[0m                 \u001b[0mid_r\u001b[0m \u001b[0;34m=\u001b[0m \u001b[0mself\u001b[0m\u001b[0;34m.\u001b[0m\u001b[0mar_factory\u001b[0m\u001b[0;34m.\u001b[0m\u001b[0mid\u001b[0m\u001b[0;34m(\u001b[0m\u001b[0mself\u001b[0m\u001b[0;34m(\u001b[0m\u001b[0mscan\u001b[0m\u001b[0;34m[\u001b[0m\u001b[0moff\u001b[0m \u001b[0;34m+\u001b[0m \u001b[0mlen\u001b[0m\u001b[0;34m(\u001b[0m\u001b[0mbox\u001b[0m\u001b[0;34m.\u001b[0m\u001b[0mdom\u001b[0m\u001b[0;34m)\u001b[0m\u001b[0;34m:\u001b[0m\u001b[0;34m]\u001b[0m\u001b[0;34m)\u001b[0m\u001b[0;34m)\u001b[0m\u001b[0;34m\u001b[0m\u001b[0;34m\u001b[0m\u001b[0m\n\u001b[0;32m--> 890\u001b[0;31m                 \u001b[0mresult\u001b[0m \u001b[0;34m=\u001b[0m \u001b[0mresult\u001b[0m \u001b[0;34m>>\u001b[0m \u001b[0mid_l\u001b[0m \u001b[0;34m@\u001b[0m \u001b[0mself\u001b[0m\u001b[0;34m(\u001b[0m\u001b[0mbox\u001b[0m\u001b[0;34m)\u001b[0m \u001b[0;34m@\u001b[0m \u001b[0mid_r\u001b[0m\u001b[0;34m\u001b[0m\u001b[0;34m\u001b[0m\u001b[0m\n\u001b[0m\u001b[1;32m    891\u001b[0m                 \u001b[0mscan\u001b[0m \u001b[0;34m=\u001b[0m \u001b[0mscan\u001b[0m\u001b[0;34m[\u001b[0m\u001b[0;34m:\u001b[0m\u001b[0moff\u001b[0m\u001b[0;34m]\u001b[0m \u001b[0;34m@\u001b[0m \u001b[0mbox\u001b[0m\u001b[0;34m.\u001b[0m\u001b[0mcod\u001b[0m \u001b[0;34m@\u001b[0m \u001b[0mscan\u001b[0m\u001b[0;34m[\u001b[0m\u001b[0moff\u001b[0m \u001b[0;34m+\u001b[0m \u001b[0mlen\u001b[0m\u001b[0;34m(\u001b[0m\u001b[0mbox\u001b[0m\u001b[0;34m.\u001b[0m\u001b[0mdom\u001b[0m\u001b[0;34m)\u001b[0m\u001b[0;34m:\u001b[0m\u001b[0;34m]\u001b[0m\u001b[0;34m\u001b[0m\u001b[0;34m\u001b[0m\u001b[0m\n\u001b[1;32m    892\u001b[0m             \u001b[0;32mreturn\u001b[0m \u001b[0mresult\u001b[0m\u001b[0;34m\u001b[0m\u001b[0;34m\u001b[0m\u001b[0m\n",
      "\u001b[0;32m~/miniconda3/lib/python3.9/site-packages/discopy/rigid.py\u001b[0m in \u001b[0;36m__call__\u001b[0;34m(self, diagram)\u001b[0m\n\u001b[1;32m    489\u001b[0m                 len(diagram.dom), len(diagram.cod), self(diagram.typ))\n\u001b[1;32m    490\u001b[0m         \u001b[0;32mif\u001b[0m \u001b[0misinstance\u001b[0m\u001b[0;34m(\u001b[0m\u001b[0mdiagram\u001b[0m\u001b[0;34m,\u001b[0m \u001b[0mmonoidal\u001b[0m\u001b[0;34m.\u001b[0m\u001b[0mDiagram\u001b[0m\u001b[0;34m)\u001b[0m\u001b[0;34m:\u001b[0m\u001b[0;34m\u001b[0m\u001b[0;34m\u001b[0m\u001b[0m\n\u001b[0;32m--> 491\u001b[0;31m             \u001b[0;32mreturn\u001b[0m \u001b[0msuper\u001b[0m\u001b[0;34m(\u001b[0m\u001b[0;34m)\u001b[0m\u001b[0;34m.\u001b[0m\u001b[0m__call__\u001b[0m\u001b[0;34m(\u001b[0m\u001b[0mdiagram\u001b[0m\u001b[0;34m)\u001b[0m\u001b[0;34m\u001b[0m\u001b[0;34m\u001b[0m\u001b[0m\n\u001b[0m\u001b[1;32m    492\u001b[0m         \u001b[0;32mraise\u001b[0m \u001b[0mTypeError\u001b[0m\u001b[0;34m(\u001b[0m\u001b[0mmessages\u001b[0m\u001b[0;34m.\u001b[0m\u001b[0mtype_err\u001b[0m\u001b[0;34m(\u001b[0m\u001b[0mDiagram\u001b[0m\u001b[0;34m,\u001b[0m \u001b[0mdiagram\u001b[0m\u001b[0;34m)\u001b[0m\u001b[0;34m)\u001b[0m\u001b[0;34m\u001b[0m\u001b[0;34m\u001b[0m\u001b[0m\n\u001b[1;32m    493\u001b[0m \u001b[0;34m\u001b[0m\u001b[0m\n",
      "\u001b[0;32m~/miniconda3/lib/python3.9/site-packages/discopy/monoidal.py\u001b[0m in \u001b[0;36m__call__\u001b[0;34m(self, diagram)\u001b[0m\n\u001b[1;32m    882\u001b[0m                 self(diagram.left), self(diagram.right))\n\u001b[1;32m    883\u001b[0m         \u001b[0;32mif\u001b[0m \u001b[0misinstance\u001b[0m\u001b[0;34m(\u001b[0m\u001b[0mdiagram\u001b[0m\u001b[0;34m,\u001b[0m \u001b[0mBox\u001b[0m\u001b[0;34m)\u001b[0m\u001b[0;34m:\u001b[0m\u001b[0;34m\u001b[0m\u001b[0;34m\u001b[0m\u001b[0m\n\u001b[0;32m--> 884\u001b[0;31m             \u001b[0;32mreturn\u001b[0m \u001b[0msuper\u001b[0m\u001b[0;34m(\u001b[0m\u001b[0;34m)\u001b[0m\u001b[0;34m.\u001b[0m\u001b[0m__call__\u001b[0m\u001b[0;34m(\u001b[0m\u001b[0mdiagram\u001b[0m\u001b[0;34m)\u001b[0m\u001b[0;34m\u001b[0m\u001b[0;34m\u001b[0m\u001b[0m\n\u001b[0m\u001b[1;32m    885\u001b[0m         \u001b[0;32mif\u001b[0m \u001b[0misinstance\u001b[0m\u001b[0;34m(\u001b[0m\u001b[0mdiagram\u001b[0m\u001b[0;34m,\u001b[0m \u001b[0mDiagram\u001b[0m\u001b[0;34m)\u001b[0m\u001b[0;34m:\u001b[0m\u001b[0;34m\u001b[0m\u001b[0;34m\u001b[0m\u001b[0m\n\u001b[1;32m    886\u001b[0m             \u001b[0mscan\u001b[0m\u001b[0;34m,\u001b[0m \u001b[0mresult\u001b[0m \u001b[0;34m=\u001b[0m \u001b[0mdiagram\u001b[0m\u001b[0;34m.\u001b[0m\u001b[0mdom\u001b[0m\u001b[0;34m,\u001b[0m \u001b[0mself\u001b[0m\u001b[0;34m.\u001b[0m\u001b[0mar_factory\u001b[0m\u001b[0;34m.\u001b[0m\u001b[0mid\u001b[0m\u001b[0;34m(\u001b[0m\u001b[0mself\u001b[0m\u001b[0;34m(\u001b[0m\u001b[0mdiagram\u001b[0m\u001b[0;34m.\u001b[0m\u001b[0mdom\u001b[0m\u001b[0;34m)\u001b[0m\u001b[0;34m)\u001b[0m\u001b[0;34m\u001b[0m\u001b[0;34m\u001b[0m\u001b[0m\n",
      "\u001b[0;32m~/miniconda3/lib/python3.9/site-packages/discopy/cat.py\u001b[0m in \u001b[0;36m__call__\u001b[0;34m(self, arrow)\u001b[0m\n\u001b[1;32m    889\u001b[0m             \u001b[0;32mif\u001b[0m \u001b[0marrow\u001b[0m\u001b[0;34m.\u001b[0m\u001b[0mis_dagger\u001b[0m\u001b[0;34m:\u001b[0m\u001b[0;34m\u001b[0m\u001b[0;34m\u001b[0m\u001b[0m\n\u001b[1;32m    890\u001b[0m                 \u001b[0;32mreturn\u001b[0m \u001b[0mself\u001b[0m\u001b[0;34m.\u001b[0m\u001b[0mar\u001b[0m\u001b[0;34m[\u001b[0m\u001b[0marrow\u001b[0m\u001b[0;34m.\u001b[0m\u001b[0mdagger\u001b[0m\u001b[0;34m(\u001b[0m\u001b[0;34m)\u001b[0m\u001b[0;34m]\u001b[0m\u001b[0;34m.\u001b[0m\u001b[0mdagger\u001b[0m\u001b[0;34m(\u001b[0m\u001b[0;34m)\u001b[0m\u001b[0;34m\u001b[0m\u001b[0;34m\u001b[0m\u001b[0m\n\u001b[0;32m--> 891\u001b[0;31m             \u001b[0;32mreturn\u001b[0m \u001b[0mself\u001b[0m\u001b[0;34m.\u001b[0m\u001b[0mar\u001b[0m\u001b[0;34m[\u001b[0m\u001b[0marrow\u001b[0m\u001b[0;34m]\u001b[0m\u001b[0;34m\u001b[0m\u001b[0;34m\u001b[0m\u001b[0m\n\u001b[0m\u001b[1;32m    892\u001b[0m         \u001b[0;32mif\u001b[0m \u001b[0misinstance\u001b[0m\u001b[0;34m(\u001b[0m\u001b[0marrow\u001b[0m\u001b[0;34m,\u001b[0m \u001b[0mArrow\u001b[0m\u001b[0;34m)\u001b[0m\u001b[0;34m:\u001b[0m\u001b[0;34m\u001b[0m\u001b[0;34m\u001b[0m\u001b[0m\n\u001b[1;32m    893\u001b[0m             \u001b[0;32mreturn\u001b[0m \u001b[0mself\u001b[0m\u001b[0;34m.\u001b[0m\u001b[0mar_factory\u001b[0m\u001b[0;34m.\u001b[0m\u001b[0mid\u001b[0m\u001b[0;34m(\u001b[0m\u001b[0mself\u001b[0m\u001b[0;34m(\u001b[0m\u001b[0marrow\u001b[0m\u001b[0;34m.\u001b[0m\u001b[0mdom\u001b[0m\u001b[0;34m)\u001b[0m\u001b[0;34m)\u001b[0m\u001b[0;34m.\u001b[0m\u001b[0mthen\u001b[0m\u001b[0;34m(\u001b[0m\u001b[0;34m*\u001b[0m\u001b[0mmap\u001b[0m\u001b[0;34m(\u001b[0m\u001b[0mself\u001b[0m\u001b[0;34m,\u001b[0m \u001b[0marrow\u001b[0m\u001b[0;34m)\u001b[0m\u001b[0;34m)\u001b[0m\u001b[0;34m\u001b[0m\u001b[0;34m\u001b[0m\u001b[0m\n",
      "\u001b[0;31mKeyError\u001b[0m: Word('flees', Ty(Ob('n', z=1), 's', Ob('n', z=-1)))"
     ]
    }
   ],
   "source": [
    "#******************************************\n",
    "# Generate your circuits\n",
    "#******************************************\n",
    "# TODO: Implement your own functorial ansatz conversion!\n",
    "# The `qnlp-tutorial` has some code on this.\n",
    "# https://discopy.readthedocs.io/en/main/notebooks/qnlp-tutorial.html\n",
    "# You may also find discopy's `IQPansatz` function useful.\n",
    "\n",
    "\n",
    "# Ansatz for words with type `n`, e.g. 'Alice', 'Bob'\n",
    "\n",
    "\n",
    "\n",
    "def intransitive_ansatz(phase):\n",
    "    return Ket(0) >> Rx(phase)\n",
    "\n",
    "# Ansatz for words with type `n.r @ s @ n.l`, e.g. 'loves'\n",
    "def transitive_ansatz(phase):\n",
    "    return sqrt(2) @ Ket(0, 0) >> H @ Rx(phase) >> CX\n",
    "\n",
    "GHZ = sqrt(2) @ Ket(0, 0, 0)\\\n",
    "    >> Circuit.id(1) @ H @ Circuit.id(1)\\\n",
    "    >> Circuit.id(1) @ CX\\\n",
    "    >> (SWAP >>  CX) @ Circuit.id(1)\n",
    "sym = symbols(\"abc\")\n",
    "params0 = np.array([0.5, 1.0])\n",
    "\n",
    "diagram2circuit = circuit.Functor(\n",
    "    ob={s: qubit ** 0, n: qubit ** 1},\n",
    "    ar={Alice: Ket(0),\n",
    "        loves: transitive_ansatz(params0[0]),\n",
    "        Bob: Ket(1),\n",
    "        who: GHZ,\n",
    "        is_rich: intransitive_ansatz(params0[1])})\n",
    "\n",
    "\n",
    "pltest = (Alice @ loves @ Bob)\n",
    "dimdd = (diagram2circuit(pltest)>>Bra(0,0,0,0))\n",
    "pl = diagram2circuit(pltest)\n",
    "\n",
    "train_diagrams[0].draw()\n",
    "\n",
    "train_circuits = [diagram2circuit(d) for d in train_diagrams]\n",
    "dev_circuits = [diagram2circuit(d) for d in dev_diagrams]\n",
    "test_circuits = [diagram2circuit(d) for d in test_diagrams]\n",
    "\n",
    "sym = symbols(\"abc\")\n",
    "params = np.array([0.5, 1.0])\n",
    "circ = train_circuits[0]\n",
    "drawing.equation(circ, circ.lambdify(sym, phi)(0.1, 0.2), symbol='-->')\n",
    "from discopy.quantum import Ket, Bra\n",
    "circ.draw()\n",
    "(dimdd.lambdify(phi)(0.1)).draw()\n",
    "print((dimdd.lambdify(phi)(0.1)).eval())\n",
    "train_circuits[0].draw()\n",
    "print(train_circuits[0].eval())"
   ]
  },
  {
   "cell_type": "markdown",
   "id": "51e38936",
   "metadata": {},
   "source": [
    "# Task 3\n",
    "\n",
    "Here we do an experiment to train our circuits and classify them as spam or not."
   ]
  },
  {
   "cell_type": "code",
   "execution_count": 263,
   "id": "5b80b843",
   "metadata": {},
   "outputs": [],
   "source": [
    "# These imports will come in handy when you want to run\n",
    "# backend simulations.\n",
    "\n",
    "# from qiskit import IBMQ\n",
    "# from pytket.extensions.qiskit import AerBackend, IBMQBackend, IBMQEmulatorBackend"
   ]
  },
  {
   "cell_type": "code",
   "execution_count": 264,
   "id": "337c9872",
   "metadata": {},
   "outputs": [
    {
     "name": "stdout",
     "output_type": "stream",
     "text": [
      "[]\n",
      "[0.5 1. ]\n"
     ]
    }
   ],
   "source": [
    "#******************************************\n",
    "# Counting parameters in your model\n",
    "#******************************************\n",
    "circuits = train_circuits + dev_circuits + test_circuits\n",
    "\n",
    "# Make sure you sort your symbols as they are returned as a set.\n",
    "parameters = sorted({\n",
    "    s for circ in circuits for s in circ.free_symbols\n",
    "}, key=default_sort_key)\n",
    "print(parameters)\n",
    "print(params)\n",
    "#parameters =['a']"
   ]
  },
  {
   "cell_type": "code",
   "execution_count": 265,
   "id": "f732212a",
   "metadata": {},
   "outputs": [],
   "source": [
    "def normalise(predicts):\n",
    "    # apply smoothing to predicts\n",
    "    predicts = np.abs(predicts - 1e-9)\n",
    "    predicts = predicts / predicts.sum()\n",
    "    return predicts\n",
    "\n",
    "def BCE_loss(predicts, labels):\n",
    "    cross_entropies = np.sum(labels * np.log2(predicts))\n",
    "    cost = -1/len(labels) * np.sum(cross_entropies)\n",
    "\n",
    "    return cost"
   ]
  },
  {
   "cell_type": "code",
   "execution_count": 266,
   "id": "44130db6",
   "metadata": {},
   "outputs": [
    {
     "name": "stdout",
     "output_type": "stream",
     "text": [
      "Tensor(dom=Dim(1), cod=Dim(1), array=[0.-0.99999988j])\n"
     ]
    }
   ],
   "source": [
    "def make_pred_fn(circuits):\n",
    "    def pred_fn(params):\n",
    "        predictions = np.array([\n",
    "            normalise(np.abs(c.lambdify(*parameters)(*params).eval().array))\n",
    "            for c in circuits\n",
    "        ])\n",
    "        return predictions\n",
    "\n",
    "    return pred_fn\n",
    "print((train_circuits[0]).eval())"
   ]
  },
  {
   "cell_type": "code",
   "execution_count": 267,
   "id": "318309a3",
   "metadata": {},
   "outputs": [
    {
     "name": "stdout",
     "output_type": "stream",
     "text": [
      "Performing Just-In-Time compilation, this may take a while...\n"
     ]
    },
    {
     "data": {
      "text/plain": [
       "DeviceArray([[1.]], dtype=float32)"
      ]
     },
     "execution_count": 267,
     "metadata": {},
     "output_type": "execute_result"
    }
   ],
   "source": [
    "train_pred_fn = jit(make_pred_fn(train_circuits))\n",
    "dev_pred_fn = jit(make_pred_fn(dev_circuits))\n",
    "test_pred_fn = jit(make_pred_fn(test_circuits))\n",
    "\n",
    "import numpy as onp\n",
    "# onp.random.seed(0)\n",
    "\n",
    "x0 = np.array(onp.random.random(len(parameters)))\n",
    "print(\"Performing Just-In-Time compilation, this may take a while...\")\n",
    "train_pred_fn(x0)\n",
    "dev_pred_fn(x0)"
   ]
  },
  {
   "cell_type": "code",
   "execution_count": 268,
   "id": "2672f322",
   "metadata": {},
   "outputs": [],
   "source": [
    "def make_cost_fn(pred_fn, labels):\n",
    "    costs = []\n",
    "    accs = []\n",
    "    params_list = []\n",
    "    def cost_fn(params, **kwargs):\n",
    "        predictions = pred_fn(params)\n",
    "\n",
    "        cost = BCE_loss(predictions, labels)\n",
    "        acc = np.sum(np.round(predictions) == labels) / len(labels) / 2\n",
    "        costs.append(cost)\n",
    "        accs.append(acc)\n",
    "        params_list.append(params)\n",
    "\n",
    "        return cost\n",
    "\n",
    "    return cost_fn, costs, accs, params_list"
   ]
  },
  {
   "cell_type": "code",
   "execution_count": 269,
   "id": "76a048b6",
   "metadata": {},
   "outputs": [],
   "source": [
    "# Rerun this cell onwards, so you can reuse the JITed prediction functions\n",
    "\n",
    "train_cost_fn, train_costs, train_accs, spsa_params = make_cost_fn(train_pred_fn, train_labels)\n",
    "dev_cost_fn, dev_costs, dev_accs, callback_params = make_cost_fn(dev_pred_fn, dev_labels)\n",
    "test_cost_fn, test_costs, test_accs, _ = make_cost_fn(test_pred_fn, test_labels)"
   ]
  },
  {
   "cell_type": "code",
   "execution_count": 272,
   "id": "d6005aa8",
   "metadata": {
    "scrolled": false
   },
   "outputs": [
    {
     "data": {
      "text/plain": [
       "     fun: DeviceArray(-0., dtype=float32)\n",
       " message: 'terminated after reaching max number of iterations'\n",
       "    nfev: 4000\n",
       "     nit: 2000\n",
       " success: True\n",
       "       x: DeviceArray([], dtype=float32)"
      ]
     },
     "execution_count": 272,
     "metadata": {},
     "output_type": "execute_result"
    }
   ],
   "source": [
    "from noisyopt import minimizeSPSA\n",
    "minimizeSPSA(train_cost_fn, x0=x0, a=0.13, c=0.1, niter=2000, callback=dev_cost_fn)"
   ]
  },
  {
   "cell_type": "code",
   "execution_count": 273,
   "id": "0f637fa4",
   "metadata": {},
   "outputs": [
    {
     "data": {
      "image/png": "[encoded data removed]",
      "text/plain": [
       "<Figure size 432x288 with 2 Axes>"
      ]
     },
     "metadata": {
      "needs_background": "light"
     },
     "output_type": "display_data"
    }
   ],
   "source": [
    "import matplotlib.pylab as plt\n",
    "fig, ax1 = plt.subplots()\n",
    "ax1.plot(train_costs[::2], color='#54436B')\n",
    "ax1.set_ylabel('Cost')\n",
    "ax1.set_xlabel('Iterations')\n",
    "ax1.set_title('Training Set')\n",
    "\n",
    "ax2 = ax1.twinx()\n",
    "ax2.plot(train_accs[::2], color='#50CB93')\n",
    "ax2.set_ylabel('Accuracy')\n",
    "plt.show()"
   ]
  },
  {
   "cell_type": "code",
   "execution_count": 274,
   "id": "463ac072",
   "metadata": {},
   "outputs": [
    {
     "data": {
      "image/png": "[encoded data removed]",
      "text/plain": [
       "<Figure size 432x288 with 2 Axes>"
      ]
     },
     "metadata": {
      "needs_background": "light"
     },
     "output_type": "display_data"
    }
   ],
   "source": [
    "fig, ax1 = plt.subplots()\n",
    "ax1.plot(dev_costs, color='#A03C78')\n",
    "ax1.set_ylabel('Cost')\n",
    "ax1.set_xlabel('Iterations')\n",
    "ax1.set_title('Development Set')\n",
    "\n",
    "ax2 = ax1.twinx()\n",
    "ax2.plot(dev_accs, color='#ED8E7C')\n",
    "ax2.set_ylabel('Accuracy')\n",
    "plt.show()"
   ]
  },
  {
   "cell_type": "code",
   "execution_count": 275,
   "id": "2e76f4e1",
   "metadata": {},
   "outputs": [],
   "source": [
    "# when you are happy with the development set results\n",
    "# run your model on the testing set\n",
    "\n",
    "# for p in callback_params:\n",
    "#     test_cost_fn(p)"
   ]
  },
  {
   "cell_type": "code",
   "execution_count": 276,
   "id": "058527ba",
   "metadata": {},
   "outputs": [
    {
     "data": {
      "image/png": "[encoded data removed]",
      "text/plain": [
       "<Figure size 432x288 with 2 Axes>"
      ]
     },
     "metadata": {
      "needs_background": "light"
     },
     "output_type": "display_data"
    }
   ],
   "source": [
    "fig, ax1 = plt.subplots()\n",
    "ax1.plot(test_costs, color='#7C83FD')\n",
    "ax1.set_ylabel('Cost')\n",
    "ax1.set_xlabel('Iterations')\n",
    "ax1.set_title('Testing Set')\n",
    "\n",
    "ax2 = ax1.twinx()\n",
    "ax2.plot(test_accs, color='#96BAFF')\n",
    "ax2.set_ylabel('Accuracy')\n",
    "plt.show()"
   ]
  },
  {
   "cell_type": "code",
   "execution_count": null,
   "id": "67458532",
   "metadata": {},
   "outputs": [],
   "source": []
  },
  {
   "cell_type": "markdown",
   "id": "d9becd26",
   "metadata": {},
   "source": [
    "# Test"
   ]
  },
  {
   "cell_type": "code",
   "execution_count": 259,
   "id": "20223543",
   "metadata": {},
   "outputs": [
    {
     "name": "stdout",
     "output_type": "stream",
     "text": [
      "amplitude:\n"
     ]
    },
    {
     "data": {
      "image/png": "[encoded data removed]",
      "text/plain": [
       "<Figure size 144x216 with 1 Axes>"
      ]
     },
     "metadata": {
      "needs_background": "light"
     },
     "output_type": "display_data"
    },
    {
     "name": "stdout",
     "output_type": "stream",
     "text": [
      "probability: 0.4999999701976776\n"
     ]
    }
   ],
   "source": [
    "from discopy.quantum import Bra\n",
    "\n",
    "experiment = Ket(0, 0) >> circuit >> Bra(0, 0)\n",
    "\n",
    "print(\"amplitude:\")\n",
    "experiment.draw(figsize=(2, 3))\n",
    "amplitude = experiment.eval().array[0]\n",
    "\n",
    "probability = abs(amplitude) ** 2\n",
    "print(\"probability: {}\".format(probability))"
   ]
  },
  {
   "cell_type": "code",
   "execution_count": null,
   "id": "bc979087",
   "metadata": {},
   "outputs": [],
   "source": []
  }
 ],
 "metadata": {
  "kernelspec": {
   "display_name": "qnlp",
   "language": "python",
   "name": "qnlp"
  },
  "language_info": {
   "codemirror_mode": {
    "name": "ipython",
    "version": 3
   },
   "file_extension": ".py",
   "mimetype": "text/x-python",
   "name": "python",
   "nbconvert_exporter": "python",
   "pygments_lexer": "ipython3",
   "version": "3.9.5"
  }
 },
 "nbformat": 4,
 "nbformat_minor": 5
}
