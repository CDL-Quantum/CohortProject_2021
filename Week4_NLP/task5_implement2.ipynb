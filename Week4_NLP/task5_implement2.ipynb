{
  "nbformat": 4,
  "nbformat_minor": 5,
  "metadata": {
    "kernelspec": {
      "display_name": "Python 3",
      "language": "python",
      "name": "python3"
    },
    "language_info": {
      "codemirror_mode": {
        "name": "ipython",
        "version": 3
      },
      "file_extension": ".py",
      "mimetype": "text/x-python",
      "name": "python",
      "nbconvert_exporter": "python",
      "pygments_lexer": "ipython3",
      "version": "3.7.10"
    },
    "colab": {
      "name": "Copy of notebook.ipynb",
      "provenance": [],
      "collapsed_sections": []
    }
  },
  "cells": [
    {
      "cell_type": "code",
      "metadata": {
        "id": "pbFhSbfaVjL7"
      },
      "source": [
        "!pip install discopy\n",
        "!pip install sympy\n",
        "!pip install jax\n",
        "!pip install noisyopt"
      ],
      "id": "pbFhSbfaVjL7",
      "execution_count": null,
      "outputs": []
    },
    {
      "cell_type": "code",
      "metadata": {
        "id": "2e52b56a"
      },
      "source": [
        "import jax.numpy as jnp\n",
        "from jax import jit\n",
        "from discopy import Tensor\n",
        "Tensor.np = tnp\n",
        "from discopy.quantum import *\n",
        "\n",
        "from discopy import *\n",
        "from discopy.quantum import *\n",
        "from discopy.grammar import draw\n",
        "\n",
        "import discopy\n",
        "import numpy as np"
      ],
      "id": "2e52b56a",
      "execution_count": 18,
      "outputs": []
    },
    {
      "cell_type": "code",
      "metadata": {
        "id": "fmvxyz-pgpVW"
      },
      "source": [
        "nouns = ['He', 'She']\n",
        "verbs = ['is', 'is not']\n",
        "adj = ['cool', 'nice']\n",
        "\n",
        "sentences = []\n",
        "\n",
        "for i in range(2):\n",
        "  sentences.append(nouns[i] + ' ' + verbs[i] + ' '+ adj[i])"
      ],
      "id": "fmvxyz-pgpVW",
      "execution_count": 32,
      "outputs": []
    },
    {
      "cell_type": "code",
      "metadata": {
        "colab": {
          "base_uri": "https://localhost:8080/"
        },
        "id": "e-tsDPa9hKjG",
        "outputId": "b77d78eb-8a8e-48c4-9349-c528cdc88bc5"
      },
      "source": [
        "sentences"
      ],
      "id": "e-tsDPa9hKjG",
      "execution_count": 33,
      "outputs": [
        {
          "output_type": "execute_result",
          "data": {
            "text/plain": [
              "['He is cool', 'She is not nice']"
            ]
          },
          "metadata": {
            "tags": []
          },
          "execution_count": 33
        }
      ]
    },
    {
      "cell_type": "code",
      "metadata": {
        "id": "KaV406bmeQRC"
      },
      "source": [
        "s, n = Ty('s'), Ty('n')\n",
        "\n",
        "dict_w = {}\n",
        "\n",
        "for i in range(len(sentences)):\n",
        "  try:\n",
        "    dict_w['noun'].append(Word(nouns[i], n))\n",
        "    dict_w['adj'].append(Word(adj[i], n))\n",
        "    dict_w['verb'].append(Word(verbs[i],  n.r @ s @ n.l))\n",
        "\n",
        "  except: \n",
        "    dict_w['noun'] = [Word(nouns[i], n)]\n",
        "    dict_w['adj'] = [Word(adj[i], n)]\n",
        "    dict_w['verb'] = [Word(verbs[i],  n.r @ s @ n.l)]\n",
        "\n",
        "grammar = Cup(n, n.r) @ Id(s) @ Cup(n.l, n)\n",
        "parsing = {\"{} {} {}.\".format(subj, verb, obj): subj @ verb @ obj >> grammar\n",
        "            for subj in dict_w['noun'] for verb in dict_w['verb'] for obj in dict_w['adj']}\n"
      ],
      "id": "KaV406bmeQRC",
      "execution_count": 37,
      "outputs": []
    },
    {
      "cell_type": "code",
      "metadata": {
        "colab": {
          "base_uri": "https://localhost:8080/",
          "height": 543
        },
        "id": "jPIUTgVeixPe",
        "outputId": "d823345b-ca01-4e7b-e4b1-97240387b273"
      },
      "source": [
        "diagram = parsing['He is cool.']\n",
        "print(\"He is cool':\")\n",
        "draw(diagram, draw_type_labels=True)\n",
        "\n",
        "\n",
        "sentences = list(parsing.keys())\n",
        "print(\"Grammatical sentences:\\n{}\".format('\\n'.join(sentences)))\n",
        "\n",
        "\n",
        "def verb_ansatz(phase):\n",
        "    return Ket(0, 0) >> H @ sqrt(2) @ Rx(phase) >> CX\n",
        "\n",
        "print(verb_ansatz(0).eval())"
      ],
      "id": "jPIUTgVeixPe",
      "execution_count": 40,
      "outputs": [
        {
          "output_type": "stream",
          "text": [
            "He is cool':\n"
          ],
          "name": "stdout"
        },
        {
          "output_type": "display_data",
          "data": {
            "image/png": "[encoded data removed]",
            "text/plain": [
              "<Figure size 864x360 with 1 Axes>"
            ]
          },
          "metadata": {
            "tags": [],
            "needs_background": "light"
          }
        },
        {
          "output_type": "stream",
          "text": [
            "Grammatical sentences:\n",
            "He is cool.\n",
            "He is nice.\n",
            "He is not cool.\n",
            "He is not nice.\n",
            "She is cool.\n",
            "She is nice.\n",
            "She is not cool.\n",
            "She is not nice.\n",
            "Tensor(dom=Dim(1), cod=Dim(2, 2), array=[0.99999994+0.j, 0.    +0.j, 0.    +0.j, 0.99999994+0.j])\n"
          ],
          "name": "stdout"
        }
      ]
    },
    {
      "cell_type": "code",
      "metadata": {
        "id": "hHQuiGmupbbd"
      },
      "source": [
        "circ1 = Circuit(\n",
        "    dom=Ty(),\n",
        "    cod=qubit,\n",
        "    boxes=[\n",
        "        Ket(0),\n",
        "        Rx(0.1),\n",
        "        Rz(0.2),\n",
        "        Rx(0.3),\n",
        "        Ket(0, 0, 0),\n",
        "        H,\n",
        "        H,\n",
        "        H,\n",
        "        CRz(0.2),\n",
        "        CRz(0.3),\n",
        "        H,\n",
        "        H,\n",
        "        H,\n",
        "        CRz(0.2),\n",
        "        CRz(0.4),\n",
        "        Ket(0),\n",
        "        Rx(0.3),\n",
        "        Rz(0.1),\n",
        "        Rx(0.2),\n",
        "        CX,\n",
        "        H,\n",
        "        sqrt(2),\n",
        "        Bra(0, 0),\n",
        "        CX,\n",
        "        H,\n",
        "        sqrt(2),\n",
        "        Bra(0, 0)],\n",
        "    offsets=[0, 0, 0, 0, 1, 1, 2, 3, 1, 2, 1, 2, 3, 1, 2, 4, 4, 4, 4, 0, 0, 1, 0, 1, 1, 2, 1]\n",
        ")\n",
        "\n",
        "circ2 = Circuit(\n",
        "    dom=Ty(),\n",
        "    cod=qubit,\n",
        "    boxes=[\n",
        "        Ket(0),\n",
        "        Rx(0.2),\n",
        "        Rz(0.3),\n",
        "        Rx(0.3),\n",
        "        Ket(0, 0, 0),\n",
        "        H,\n",
        "        H,\n",
        "        H,\n",
        "        CRz(0.2),\n",
        "        CRz(0.1),\n",
        "        H,\n",
        "        H,\n",
        "        H,\n",
        "        CRz(0.2),\n",
        "        CRz(0.5),\n",
        "        Ket(0),\n",
        "        Rx(0.3),\n",
        "        Rz(0.2),\n",
        "        Rx(0.3),\n",
        "        CX,\n",
        "        H,\n",
        "        sqrt(2),\n",
        "        Bra(0, 0),\n",
        "        CX,\n",
        "        H,\n",
        "        sqrt(2),\n",
        "        Bra(0, 0)],\n",
        "    offsets=[0, 0, 0, 0, 1, 1, 2, 3, 1, 2, 1, 2, 3, 1, 2, 4, 4, 4, 4, 0, 0, 1, 0, 1, 1, 2, 1]\n",
        ")\n",
        "\n",
        "circ3 = Circuit(\n",
        "    dom=Ty(),\n",
        "    cod=qubit,\n",
        "    boxes=[\n",
        "        Ket(0),\n",
        "        Rx(0.4),\n",
        "        Rz(0.2),\n",
        "        Rx(0.4),\n",
        "        Ket(0, 0, 0),\n",
        "        H,\n",
        "        H,\n",
        "        H,\n",
        "        CRz(0.2),\n",
        "        CRz(0.3),\n",
        "        H,\n",
        "        H,\n",
        "        H,\n",
        "        CRz(0.3),\n",
        "        CRz(0.4),\n",
        "        Ket(0),\n",
        "        Rx(0.3),\n",
        "        Rz(0.2),\n",
        "        Rx(0.2),\n",
        "        CX,\n",
        "        H,\n",
        "        sqrt(2),\n",
        "        Bra(0, 0),\n",
        "        CX,\n",
        "        H,\n",
        "        sqrt(2),\n",
        "        Bra(0, 0)],\n",
        "    offsets=[0, 0, 0, 0, 1, 1, 2, 3, 1, 2, 1, 2, 3, 1, 2, 4, 4, 4, 4, 0, 0, 1, 0, 1, 1, 2, 1]\n",
        ")\n",
        "\n",
        "circ4 = Circuit(\n",
        "    dom=Ty(),\n",
        "    cod=qubit,\n",
        "    boxes=[\n",
        "        Ket(0),\n",
        "        Rx(0.3),\n",
        "        Rz(0.2),\n",
        "        Rx(0.3),\n",
        "        Ket(0, 0, 0),\n",
        "        H,\n",
        "        H,\n",
        "        H,\n",
        "        CRz(0.2),\n",
        "        CRz(0.3),\n",
        "        H,\n",
        "        H,\n",
        "        H,\n",
        "        CRz(0.2),\n",
        "        CRz(0.4),\n",
        "        Ket(0),\n",
        "        Rx(0.2),\n",
        "        Rz(0.1),\n",
        "        Rx(0.1),\n",
        "        CX,\n",
        "        H,\n",
        "        sqrt(2),\n",
        "        Bra(0, 0),\n",
        "        CX,\n",
        "        H,\n",
        "        sqrt(2),\n",
        "        Bra(0, 0)],\n",
        "    offsets=[0, 0, 0, 0, 1, 1, 2, 3, 1, 2, 1, 2, 3, 1, 2, 4, 4, 4, 4, 0, 0, 1, 0, 1, 1, 2, 1]\n",
        ")\n",
        "\n",
        "circ5 = Circuit(\n",
        "    dom=Ty(),\n",
        "    cod=qubit,\n",
        "    boxes=[\n",
        "        Ket(0),\n",
        "        Rx(0.2),\n",
        "        Rz(0.2),\n",
        "        Rx(0.3),\n",
        "        Ket(0, 0, 0),\n",
        "        H,\n",
        "        H,\n",
        "        H,\n",
        "        CRz(0.2),\n",
        "        CRz(0.3),\n",
        "        H,\n",
        "        H,\n",
        "        H,\n",
        "        CRz(0.2),\n",
        "        CRz(0.5),\n",
        "        Ket(0),\n",
        "        Rx(0.3),\n",
        "        Rz(0.2),\n",
        "        Rx(0.2),\n",
        "        CX,\n",
        "        H,\n",
        "        sqrt(2),\n",
        "        Bra(0, 0),\n",
        "        CX,\n",
        "        H,\n",
        "        sqrt(2),\n",
        "        Bra(0, 0)],\n",
        "    offsets=[0, 0, 0, 0, 1, 1, 2, 3, 1, 2, 1, 2, 3, 1, 2, 4, 4, 4, 4, 0, 0, 1, 0, 1, 1, 2, 1]\n",
        ")\n",
        "\n"
      ],
      "id": "hHQuiGmupbbd",
      "execution_count": 152,
      "outputs": []
    },
    {
      "cell_type": "code",
      "metadata": {
        "colab": {
          "base_uri": "https://localhost:8080/"
        },
        "id": "xSms0_H-tbsN",
        "outputId": "28f8868a-8cbf-4ffb-f7c4-63a20470e253"
      },
      "source": [
        "corpus = {'He is cool.': circ1.measure(),\n",
        "          'He is nice.': circ2.measure(),\n",
        "          'He is not cool.': circ3.measure(),\n",
        "          'He is not nice.':circ4.measure(),\n",
        "          'She is cool.': circ5.measure(),\n",
        "          'She is nice.':circ1.measure(),\n",
        "          'She is not nice.':circ3.measure(),\n",
        "          'She is not cool.':circ4.measure()\n",
        "}\n",
        "\n",
        "####sentence: probability of Spam######\n",
        "\n",
        "corpus"
      ],
      "id": "xSms0_H-tbsN",
      "execution_count": 156,
      "outputs": [
        {
          "output_type": "execute_result",
          "data": {
            "text/plain": [
              "{'He is cool.': DeviceArray([0.0410303 , 0.02291863], dtype=float32),\n",
              " 'He is nice.': DeviceArray([0.2492585 , 0.01322172], dtype=float32),\n",
              " 'He is not cool.': DeviceArray([0.3010729, 0.2034327], dtype=float32),\n",
              " 'He is not nice.': DeviceArray([0.03834721, 0.07802396], dtype=float32),\n",
              " 'She is cool.': DeviceArray([0.10080971, 0.04134114], dtype=float32),\n",
              " 'She is nice.': DeviceArray([0.0410303 , 0.02291863], dtype=float32),\n",
              " 'She is not cool.': DeviceArray([0.03834721, 0.07802396], dtype=float32),\n",
              " 'She is not nice.': DeviceArray([0.3010729, 0.2034327], dtype=float32)}"
            ]
          },
          "metadata": {
            "tags": []
          },
          "execution_count": 156
        }
      ]
    },
    {
      "cell_type": "code",
      "metadata": {
        "colab": {
          "base_uri": "https://localhost:8080/"
        },
        "id": "BFdkUUpstbpH",
        "outputId": "0dbcf286-5313-40d0-dceb-74324207a251"
      },
      "source": [
        "def mean_squared(y_true, y_pred):\n",
        "    return np.mean((np.array(y_true) - np.array(y_pred)) ** 2)\n",
        "\n",
        "\n",
        "from sklearn.model_selection import train_test_split\n",
        "\n",
        "sentence_train, sentence_test = train_test_split(sentences, test_size=0.25, random_state=42)\n",
        "\n",
        "print(\"Training set:\\n{}\\n\".format('\\n'.join(sentence_train)))\n",
        "print(\"Testing set:\\n{}\".format('\\n'.join(map(\n",
        "    lambda x: 'Does ' + x.replace('loves', 'love').replace('.', '?'), sentence_test))))\n"
      ],
      "id": "BFdkUUpstbpH",
      "execution_count": 158,
      "outputs": [
        {
          "output_type": "stream",
          "text": [
            "Training set:\n",
            "He is cool.\n",
            "She is not nice.\n",
            "He is not cool.\n",
            "She is cool.\n",
            "He is not nice.\n",
            "She is not cool.\n",
            "\n",
            "Testing set:\n",
            "Does He is nice?\n",
            "Does She is nice?\n"
          ],
          "name": "stdout"
        }
      ]
    },
    {
      "cell_type": "code",
      "metadata": {
        "id": "_nFx1hw_Jcqw"
      },
      "source": [
        "from time import time\n",
        "\n",
        "loss = {sentence: lambda params: mean_squared(corpus[sentence], evaluate(F(params), sentence))\n",
        "                 for sentence in sentences}"
      ],
      "id": "_nFx1hw_Jcqw",
      "execution_count": 160,
      "outputs": []
    },
    {
      "cell_type": "code",
      "metadata": {
        "colab": {
          "base_uri": "https://localhost:8080/"
        },
        "id": "SXtsWxEHJcnx",
        "outputId": "c0c68d89-fba4-4c6c-a04b-568d2336568f"
      },
      "source": [
        ""
      ],
      "id": "SXtsWxEHJcnx",
      "execution_count": 161,
      "outputs": [
        {
          "output_type": "execute_result",
          "data": {
            "text/plain": [
              "{'He is cool.': <function __main__.<dictcomp>.<lambda>>,\n",
              " 'He is nice.': <function __main__.<dictcomp>.<lambda>>,\n",
              " 'He is not cool.': <function __main__.<dictcomp>.<lambda>>,\n",
              " 'He is not nice.': <function __main__.<dictcomp>.<lambda>>,\n",
              " 'She is cool.': <function __main__.<dictcomp>.<lambda>>,\n",
              " 'She is nice.': <function __main__.<dictcomp>.<lambda>>,\n",
              " 'She is not cool.': <function __main__.<dictcomp>.<lambda>>,\n",
              " 'She is not nice.': <function __main__.<dictcomp>.<lambda>>}"
            ]
          },
          "metadata": {
            "tags": []
          },
          "execution_count": 161
        }
      ]
    },
    {
      "cell_type": "code",
      "metadata": {
        "id": "relYYjzhJcXo"
      },
      "source": [
        ""
      ],
      "id": "relYYjzhJcXo",
      "execution_count": null,
      "outputs": []
    },
    {
      "cell_type": "code",
      "metadata": {
        "id": "cAYxY4xIJcRc"
      },
      "source": [
        ""
      ],
      "id": "cAYxY4xIJcRc",
      "execution_count": null,
      "outputs": []
    }
  ]
}