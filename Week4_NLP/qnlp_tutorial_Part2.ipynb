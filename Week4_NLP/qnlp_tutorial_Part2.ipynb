{
  "nbformat": 4,
  "nbformat_minor": 0,
  "metadata": {
    "kernelspec": {
      "display_name": "Python 3",
      "language": "python",
      "name": "python3"
    },
    "language_info": {
      "codemirror_mode": {
        "name": "ipython",
        "version": 3
      },
      "file_extension": ".py",
      "mimetype": "text/x-python",
      "name": "python",
      "nbconvert_exporter": "python",
      "pygments_lexer": "ipython3",
      "version": "3.9.5"
    },
    "colab": {
      "name": "qnlp-tutorial-Part2.ipynb",
      "provenance": [],
      "collapsed_sections": [
        "h-6fHiUAsbrf"
      ]
    }
  },
  "cells": [
    {
      "cell_type": "code",
      "metadata": {
        "colab": {
          "base_uri": "https://localhost:8080/"
        },
        "id": "euWJO9s6sbrO",
        "outputId": "8abcfa39-bef7-49c5-f201-3f56b77c0870"
      },
      "source": [
        "!pip install discopy\n",
        "import numpy as np\n",
        "from discopy import Ob, Ty, Box, drawing, Id, Swap, Diagram, Functor, Dim, Tensor, Cup, Cap, tensor, Word, pregroup\n",
        "# from discopy.quantum import qubit, H, Id, CX, QuantumGate, Ket, Bra, Measure, Discard, SWAP,  circuit, sqrt, X\n",
        "# from pytket.extensions.qiskit import AerBackend, backends\n",
        "# from pytket.extensions.qiskit.backends.ibm import job_monitor\n",
        "# from pytket.extensions.qiskit.backends.ibm.IBMQ.ibmq import load_account"
      ],
      "execution_count": 2,
      "outputs": [
        {
          "output_type": "stream",
          "text": [
            "Collecting discopy\n",
            "  Downloading discopy-0.3.6.tar.gz (97 kB)\n",
            "\u001b[?25l\r\u001b[K     |███▍                            | 10 kB 21.1 MB/s eta 0:00:01\r\u001b[K     |██████▊                         | 20 kB 28.1 MB/s eta 0:00:01\r\u001b[K     |██████████                      | 30 kB 26.0 MB/s eta 0:00:01\r\u001b[K     |█████████████▍                  | 40 kB 19.3 MB/s eta 0:00:01\r\u001b[K     |████████████████▉               | 51 kB 8.6 MB/s eta 0:00:01\r\u001b[K     |████████████████████▏           | 61 kB 9.9 MB/s eta 0:00:01\r\u001b[K     |███████████████████████▌        | 71 kB 9.3 MB/s eta 0:00:01\r\u001b[K     |██████████████████████████▉     | 81 kB 10.3 MB/s eta 0:00:01\r\u001b[K     |██████████████████████████████▎ | 92 kB 10.8 MB/s eta 0:00:01\r\u001b[K     |████████████████████████████████| 97 kB 4.4 MB/s \n",
            "\u001b[?25hRequirement already satisfied: numpy>=1.18.1 in /usr/local/lib/python3.7/dist-packages (from discopy) (1.19.5)\n",
            "Requirement already satisfied: networkx>=2.4 in /usr/local/lib/python3.7/dist-packages (from discopy) (2.5.1)\n",
            "Requirement already satisfied: matplotlib>=3.1.2 in /usr/local/lib/python3.7/dist-packages (from discopy) (3.2.2)\n",
            "Requirement already satisfied: pillow>=6.2.1 in /usr/local/lib/python3.7/dist-packages (from discopy) (7.1.2)\n",
            "Requirement already satisfied: pyparsing!=2.0.4,!=2.1.2,!=2.1.6,>=2.0.1 in /usr/local/lib/python3.7/dist-packages (from matplotlib>=3.1.2->discopy) (2.4.7)\n",
            "Requirement already satisfied: python-dateutil>=2.1 in /usr/local/lib/python3.7/dist-packages (from matplotlib>=3.1.2->discopy) (2.8.1)\n",
            "Requirement already satisfied: kiwisolver>=1.0.1 in /usr/local/lib/python3.7/dist-packages (from matplotlib>=3.1.2->discopy) (1.3.1)\n",
            "Requirement already satisfied: cycler>=0.10 in /usr/local/lib/python3.7/dist-packages (from matplotlib>=3.1.2->discopy) (0.10.0)\n",
            "Requirement already satisfied: six in /usr/local/lib/python3.7/dist-packages (from cycler>=0.10->matplotlib>=3.1.2->discopy) (1.15.0)\n",
            "Requirement already satisfied: decorator<5,>=4.3 in /usr/local/lib/python3.7/dist-packages (from networkx>=2.4->discopy) (4.4.2)\n",
            "Building wheels for collected packages: discopy\n",
            "  Building wheel for discopy (setup.py) ... \u001b[?25l\u001b[?25hdone\n",
            "  Created wheel for discopy: filename=discopy-0.3.6-py3-none-any.whl size=89689 sha256=10f1e1615c10eb20c476c7ff0ce340ebea8e930cb833736aa7994f6b79c19d1b\n",
            "  Stored in directory: /root/.cache/pip/wheels/ec/1f/41/4b314f06f0b62fefe97735f6490f993874ae351bfdb0cafef0\n",
            "Successfully built discopy\n",
            "Installing collected packages: discopy\n",
            "Successfully installed discopy-0.3.6\n"
          ],
          "name": "stdout"
        }
      ]
    },
    {
      "cell_type": "markdown",
      "metadata": {
        "id": "PEARoa__sbrR"
      },
      "source": [
        "# Tensors as boxes\n",
        "\n",
        "Sadly, Python is not very good at cooking, it doesn't even have a proper `coffee` module. There is one thing that Python's `numpy` module is good at though: computing with multi-dimensional arrays, a.k.a. **tensors**. We can interpret tensors as cooking steps with the dimensions of their axes as ingredients, i.e. **tensors are boxes**.\n",
        "\n",
        "`Dim` (dimension) is a subclass of `Ty` where the objects are integers greater than 1, with multiplication as tensor and the unit dimension `Dim(1)`. `Tensor` is a subclass of `Box` defined by a pair of dimensions `dom, cod` and an `array` with shape `dom @ cod`."
      ]
    },
    {
      "cell_type": "code",
      "metadata": {
        "id": "A2KtM9x1sbrS",
        "outputId": "7fce4b26-8c2e-4992-a90a-e44a26a0871a"
      },
      "source": [
        "matrix = Tensor(Dim(2), Dim(2), [0, 1, 1, 0])\n",
        "\n",
        "matrix.array"
      ],
      "execution_count": null,
      "outputs": [
        {
          "output_type": "execute_result",
          "data": {
            "text/plain": [
              "array([[0, 1],\n",
              "       [1, 0]])"
            ]
          },
          "metadata": {
            "tags": []
          },
          "execution_count": 3
        }
      ]
    },
    {
      "cell_type": "markdown",
      "metadata": {
        "id": "2QctHBFHsbrT"
      },
      "source": [
        "Composition is given by matrix multiplication, with `Tensor.id` as identity, e.g."
      ]
    },
    {
      "cell_type": "code",
      "metadata": {
        "id": "BNAZm_MtsbrT",
        "outputId": "178e9459-d9b0-47a6-8c01-2f1b73025032"
      },
      "source": [
        "assert matrix >> Tensor.id(Dim(2)) == matrix == Tensor.id(Dim(2)) >> matrix\n",
        "\n",
        "vector = Tensor(Dim(1), Dim(2), [0, 1])\n",
        "\n",
        "vector >> matrix"
      ],
      "execution_count": null,
      "outputs": [
        {
          "output_type": "execute_result",
          "data": {
            "text/plain": [
              "Tensor(dom=Dim(1), cod=Dim(2), array=[1, 0])"
            ]
          },
          "metadata": {
            "tags": []
          },
          "execution_count": 4
        }
      ]
    },
    {
      "cell_type": "markdown",
      "metadata": {
        "id": "-8EusxSFsbrU"
      },
      "source": [
        "Tensor is given by the Kronecker product, with `Tensor.id(Dim(1))` as unit, e.g."
      ]
    },
    {
      "cell_type": "code",
      "metadata": {
        "id": "1uzGxfVFsbrU",
        "outputId": "050dcde3-9fcd-4a1b-96a7-efc8b0c6329d"
      },
      "source": [
        "assert Tensor.id(Dim(1)) @ matrix == matrix == matrix @ Tensor.id(Dim(1))\n",
        "\n",
        "Tensor.id(Dim(1))"
      ],
      "execution_count": null,
      "outputs": [
        {
          "output_type": "execute_result",
          "data": {
            "text/plain": [
              "Tensor(dom=Dim(1), cod=Dim(1), array=[1.])"
            ]
          },
          "metadata": {
            "tags": []
          },
          "execution_count": 5
        }
      ]
    },
    {
      "cell_type": "code",
      "metadata": {
        "id": "9v31hkXtsbrU",
        "outputId": "8e013318-52ba-4857-a2e7-b92e29751427"
      },
      "source": [
        "vector @ vector"
      ],
      "execution_count": null,
      "outputs": [
        {
          "output_type": "execute_result",
          "data": {
            "text/plain": [
              "Tensor(dom=Dim(1), cod=Dim(2, 2), array=[0, 0, 0, 1])"
            ]
          },
          "metadata": {
            "tags": []
          },
          "execution_count": 6
        }
      ]
    },
    {
      "cell_type": "code",
      "metadata": {
        "id": "CcgezL_usbrV",
        "outputId": "51bd8b57-4d3a-4c58-df4f-1615188a8a1c"
      },
      "source": [
        "vector @ matrix"
      ],
      "execution_count": null,
      "outputs": [
        {
          "output_type": "execute_result",
          "data": {
            "text/plain": [
              "Tensor(dom=Dim(2), cod=Dim(2, 2), array=[0, 0, 0, 1, 0, 0, 1, 0])"
            ]
          },
          "metadata": {
            "tags": []
          },
          "execution_count": 7
        }
      ]
    },
    {
      "cell_type": "markdown",
      "metadata": {
        "id": "EdGbZtaCsbrV"
      },
      "source": [
        "In practice, both composition and tensor are computed using `numpy.tensordot` and `numpy.moveaxis`."
      ]
    },
    {
      "cell_type": "code",
      "metadata": {
        "id": "FqYQ2ZqnsbrV"
      },
      "source": [
        "assert np.all(\n",
        "    (matrix >> matrix).array == matrix.array.dot(matrix.array))\n",
        "assert np.all(\n",
        "    (matrix @ matrix).array == np.moveaxis(np.tensordot(\n",
        "    matrix.array, matrix.array, 0), range(4), [0, 2, 1, 3]))"
      ],
      "execution_count": null,
      "outputs": []
    },
    {
      "cell_type": "markdown",
      "metadata": {
        "id": "ikxka1eNsbrW"
      },
      "source": [
        "We can compute the conjugate transpose of a tensor using `[::-1]` (_dagger_)."
      ]
    },
    {
      "cell_type": "code",
      "metadata": {
        "id": "EnF26oeJsbrW",
        "outputId": "7db4c720-08bb-45eb-f4d5-4f5fdaf39f44"
      },
      "source": [
        "matrix = Tensor(Dim(2), Dim(2), [0, -1j, 2j, 0])\n",
        "print(matrix.array)\n",
        "matrix >> matrix[::-1]\n",
        "print(matrix[::-1].array)"
      ],
      "execution_count": null,
      "outputs": [
        {
          "output_type": "stream",
          "text": [
            "[[ 0.+0.j -0.-1.j]\n",
            " [ 0.+2.j  0.+0.j]]\n",
            "[[ 0.-0.j  0.-2.j]\n",
            " [-0.+1.j  0.-0.j]]\n"
          ],
          "name": "stdout"
        }
      ]
    },
    {
      "cell_type": "code",
      "metadata": {
        "id": "cKnkMoIpsbrW",
        "outputId": "5e3b8bfe-6d9f-41d0-da2f-5f154b9b05cc"
      },
      "source": [
        "print(matrix.array)"
      ],
      "execution_count": null,
      "outputs": [
        {
          "output_type": "stream",
          "text": [
            "[[ 0.+0.j -0.-1.j]\n",
            " [ 0.+2.j  0.+0.j]]\n"
          ],
          "name": "stdout"
        }
      ]
    },
    {
      "cell_type": "markdown",
      "metadata": {
        "id": "IY-sjEbHsbrW"
      },
      "source": [
        "Thus, we can compute the inner product of two vectors as a scalar tensor."
      ]
    },
    {
      "cell_type": "code",
      "metadata": {
        "id": "rC5l-2RpsbrX",
        "outputId": "b2fa58d5-0fbe-4ec4-cee1-dbdda9de2ea3"
      },
      "source": [
        "vector1 = Tensor(Dim(1), Dim(2), [-1j, 1j]) \n",
        "\n",
        "vector >> vector1[::-1]"
      ],
      "execution_count": null,
      "outputs": [
        {
          "output_type": "execute_result",
          "data": {
            "text/plain": [
              "Tensor(dom=Dim(1), cod=Dim(1), array=[0.-1.j])"
            ]
          },
          "metadata": {
            "tags": []
          },
          "execution_count": 11
        }
      ]
    },
    {
      "cell_type": "markdown",
      "metadata": {
        "id": "lrAIng14sbrX"
      },
      "source": [
        "We can add tensors elementwise, with the unit given by `Tensor.zeros`."
      ]
    },
    {
      "cell_type": "code",
      "metadata": {
        "id": "RHCtjHQJsbrX",
        "outputId": "13369417-8f33-4989-faba-af61f52d695b"
      },
      "source": [
        "vector + vector"
      ],
      "execution_count": null,
      "outputs": [
        {
          "output_type": "execute_result",
          "data": {
            "text/plain": [
              "Tensor(dom=Dim(1), cod=Dim(2), array=[0, 2])"
            ]
          },
          "metadata": {
            "tags": []
          },
          "execution_count": 12
        }
      ]
    },
    {
      "cell_type": "code",
      "metadata": {
        "id": "f3k0WkF6sbrX"
      },
      "source": [
        "zero = Tensor.zeros(Dim(1), Dim(2))\n",
        "assert vector + zero == vector == zero + vector"
      ],
      "execution_count": null,
      "outputs": []
    },
    {
      "cell_type": "markdown",
      "metadata": {
        "id": "q74us2zxsbrY"
      },
      "source": [
        "We can reorder the axes of the domain or codomain of a tensor by composing it with `Tensor.swap`."
      ]
    },
    {
      "cell_type": "code",
      "metadata": {
        "id": "iek0gk9NsbrY"
      },
      "source": [
        "swap = Tensor.swap(Dim(2), Dim(3))\n",
        "\n",
        "assert swap.dom == Dim(2) @ Dim(3) and swap.cod == Dim(3) @ Dim(2)\n",
        "assert swap >> swap[::-1] == Tensor.id(Dim(2, 3))\n",
        "assert swap[::-1] >> swap == Tensor.id(Dim(3, 2))\n",
        "\n",
        "matrix1 = Tensor(Dim(3), Dim(3), list(range(9)))\n",
        "\n",
        "assert vector @ matrix1 >> swap == matrix1 @ vector\n",
        "assert swap >> matrix1 @ matrix >> swap[::-1] == matrix @ matrix1"
      ],
      "execution_count": null,
      "outputs": []
    },
    {
      "cell_type": "markdown",
      "metadata": {
        "id": "BcB0mGKFsbrY"
      },
      "source": [
        "In order to turn a domain axis into a codomain axis or vice-versa, we can \"bend the legs\" of a tensor up and down using `Tensor.cups` and `Tensor.caps`."
      ]
    },
    {
      "cell_type": "code",
      "metadata": {
        "id": "3Ce89V8dsbrY",
        "outputId": "f6b3f08f-7233-4a63-bbb6-490e61ac5572"
      },
      "source": [
        "cup, cap = Tensor.cups(Dim(2), Dim(2)), Tensor.caps(Dim(2), Dim(2))\n",
        "\n",
        "print(\"cup == {}\".format(cup))\n",
        "print(\"cap == {}\".format(cap))"
      ],
      "execution_count": null,
      "outputs": [
        {
          "output_type": "stream",
          "text": [
            "cup == Tensor(dom=Dim(2, 2), cod=Dim(1), array=[1., 0., 0., 1.])\n",
            "cap == Tensor(dom=Dim(1), cod=Dim(2, 2), array=[1., 0., 0., 1.])\n"
          ],
          "name": "stdout"
        }
      ]
    },
    {
      "cell_type": "code",
      "metadata": {
        "id": "majV9X6esbrZ"
      },
      "source": [
        "_id = Tensor.id(Dim(2))\n",
        "\n",
        "assert cap @ _id >> _id @ cup == _id == _id @ cap >> cup @ _id"
      ],
      "execution_count": null,
      "outputs": []
    },
    {
      "cell_type": "markdown",
      "metadata": {
        "id": "MfJDtGhssbrZ"
      },
      "source": [
        "The assertion just above is called the **snake equation**. It is pretty hard to see where this name comes from if we just try to draw the equation. Indeed, all three sides of the equation are just `Tensor` boxes with some array inside:"
      ]
    },
    {
      "cell_type": "code",
      "metadata": {
        "id": "Xls5joYksbrZ",
        "outputId": "a2fc5612-d0f7-43e7-a93e-92b4346de4d4"
      },
      "source": [
        "drawing.equation(cap @ _id >> _id @ cup, _id, _id @ cap >> cup @ _id, figsize=(5, 1))"
      ],
      "execution_count": null,
      "outputs": [
        {
          "output_type": "display_data",
          "data": {
            "image/png": "[encoded data removed]",
            "text/plain": [
              "<Figure size 360x72 with 1 Axes>"
            ]
          },
          "metadata": {
            "tags": [],
            "needs_background": "light"
          }
        }
      ]
    },
    {
      "cell_type": "markdown",
      "metadata": {
        "id": "jL6ropCUsbrZ"
      },
      "source": [
        "In order to draw a more meaningful equation, we need to draw diagrams, not boxes. We can use the special `Cup` and `Cap` boxes to draw bended wires."
      ]
    },
    {
      "cell_type": "code",
      "metadata": {
        "id": "iqROlmSOsbrZ",
        "outputId": "23dec57d-6cec-448d-d1ad-614a469cd73f"
      },
      "source": [
        "left_snake = Cap(Dim(2), Dim(2)) @ Id(Dim(2)) >> Id(Dim(2)) @ Cup(Dim(2), Dim(2))\n",
        "right_snake = Id(Dim(2)) @ Cap(Dim(2), Dim(2)) >> Cup(Dim(2), Dim(2)) @ Id(Dim(2))\n",
        "\n",
        "drawing.equation(left_snake, Id(Dim(2)), right_snake, figsize=(5, 2), draw_type_labels=False)"
      ],
      "execution_count": null,
      "outputs": [
        {
          "output_type": "display_data",
          "data": {
            "image/png": "[encoded data removed]",
            "text/plain": [
              "<Figure size 360x144 with 1 Axes>"
            ]
          },
          "metadata": {
            "tags": [],
            "needs_background": "light"
          }
        }
      ]
    },
    {
      "cell_type": "markdown",
      "metadata": {
        "id": "YaUQ3ajmsbra"
      },
      "source": [
        "Two diagrams that are drawn differently cannot be equal Python objects: they have different lists of boxes and offsets. What we can say however, is that the diagrams are interpreted as the same `Tensor` box. This interpretation can be computed using a `tensor.Functor`, defined by two mappings: `ob` from type to dimension (e.g. `qubit` to `Dim(2)`) and `ar` from box to array (e.g. `X` to `[0, 1, 1, 0]`). For now let's take these two mappings to be identity functions."
      ]
    },
    {
      "cell_type": "code",
      "metadata": {
        "id": "qJMH3PaYsbra"
      },
      "source": [
        "_eval = tensor.Functor(\n",
        "    ob=lambda x: x,\n",
        "    ar=lambda f: f)\n",
        "\n",
        "assert _eval(left_snake) == _eval(Id(Dim(2))) == _eval(right_snake)"
      ],
      "execution_count": null,
      "outputs": []
    },
    {
      "cell_type": "markdown",
      "metadata": {
        "id": "n_347ln9sbrb"
      },
      "source": [
        "A `tensor.Diagram`, also called a **tensor network**, is a subclass of `Diagram` equipped with such an `eval` method. A `tensor.Box`, also called a **node** in a tensor network, is a subclass of `Box` equipped with an attribute `array`. The evaluation a tensor diagram, i.e. the `tensor.Functor` that maps each box to its array, is also called **tensor contraction**."
      ]
    },
    {
      "cell_type": "code",
      "metadata": {
        "id": "2OGMoTlpsbrb",
        "outputId": "b23b79ca-7a09-4b3d-8106-3b2fcc4776d3"
      },
      "source": [
        "f = tensor.Box(\"$f$\", Dim(2), Dim(2), [1, 2, 3, 4])\n",
        "f_T = tensor.Box(\"$f^T$\", Dim(2), Dim(2), [1, 3, 2, 4])\n",
        "\n",
        "diagram = tensor.Diagram(\n",
        "    dom=Dim(2), cod=Dim(2),\n",
        "    boxes=[Cap(Dim(2), Dim(2)), f, Cup(Dim(2), Dim(2))],\n",
        "    offsets=[0, 1, 1])\n",
        "\n",
        "drawing.equation(f_T, diagram, figsize=(3, 2), fontsize=14, draw_type_labels=False)\n",
        "\n",
        "assert not f_T == diagram\n",
        "assert f_T.eval() == diagram.eval()"
      ],
      "execution_count": null,
      "outputs": [
        {
          "output_type": "display_data",
          "data": {
            "image/png": "[encoded data removed]",
            "text/plain": [
              "<Figure size 216x144 with 1 Axes>"
            ]
          },
          "metadata": {
            "tags": [],
            "needs_background": "light"
          }
        }
      ]
    },
    {
      "cell_type": "markdown",
      "metadata": {
        "id": "wTwVHoMDsbrb"
      },
      "source": [
        "The distinction between a `tensor.Diagram` and its interpretation as a `Tensor` is crucial. Indeed, two diagrams that evaluate to the same tensor may take very different times to compute. For example: "
      ]
    },
    {
      "cell_type": "code",
      "metadata": {
        "id": "WNuvXzeqsbrb",
        "outputId": "60569669-bf7a-4719-f09f-377577eed665"
      },
      "source": [
        "%timeit diagram.eval()"
      ],
      "execution_count": null,
      "outputs": [
        {
          "output_type": "stream",
          "text": [
            "6.12 ms ± 36.7 µs per loop (mean ± std. dev. of 7 runs, 100 loops each)\n"
          ],
          "name": "stdout"
        }
      ]
    },
    {
      "cell_type": "code",
      "metadata": {
        "id": "3vtUoQ-asbrc",
        "outputId": "50a6b6d5-64a3-4089-a321-7983e63f02f5"
      },
      "source": [
        "%timeit f_T.eval()"
      ],
      "execution_count": null,
      "outputs": [
        {
          "output_type": "stream",
          "text": [
            "232 µs ± 4.29 µs per loop (mean ± std. dev. of 7 runs, 1000 loops each)\n"
          ],
          "name": "stdout"
        }
      ]
    },
    {
      "cell_type": "markdown",
      "metadata": {
        "id": "FjZ1pCyusbrc"
      },
      "source": [
        "**Exercise:** Check out the [diagram rewriting](https://discopy.readthedocs.io/en/main/notebooks/rewriting-diagrams.html) notebook to learn how to remove snakes from a diagram. This can greatly speed up the evaluation of tensor diagrams!\n",
        "\n"
      ]
    },
    {
      "cell_type": "code",
      "metadata": {
        "id": "twAn1UtSsbrc"
      },
      "source": [
        "folder = lambda file: './imgs/' + file\n",
        "# folder = lambda file: '../_static/imgs/' + file\n",
        "params = dict(\n",
        "    aspect='auto',\n",
        "    loop=True,\n",
        "    draw_type_labels=False)"
      ],
      "execution_count": null,
      "outputs": []
    },
    {
      "cell_type": "code",
      "metadata": {
        "id": "uOzcfzyusbrc",
        "outputId": "cf1f6537-b288-4e01-aa12-983585acfff8"
      },
      "source": [
        "x = Ty('x')\n",
        "copy, add = Box('copy', x, x @ x), Box('add', x @ x, x)\n",
        "CX = copy @ Id(x) >> Id(x) @ add\n",
        "XC = Id(x) @ copy >> add @ Id(x)\n",
        "diagram = CX @ XC >> XC @ CX\n",
        "rewrite_steps = diagram.normalize()\n",
        "\n",
        "diagram.to_gif(*rewrite_steps,\n",
        "               path=folder('simple-rewrite.gif'), **params)"
      ],
      "execution_count": null,
      "outputs": [
        {
          "output_type": "execute_result",
          "data": {
            "text/html": [
              "<img src=\"./imgs/simple-rewrite.gif\">"
            ],
            "text/plain": [
              "<IPython.core.display.HTML object>"
            ]
          },
          "metadata": {
            "tags": []
          },
          "execution_count": 24
        }
      ]
    },
    {
      "cell_type": "code",
      "metadata": {
        "id": "DhioV4n7sbrd",
        "outputId": "aa022337-89d3-47b5-bed0-91df52340ad8"
      },
      "source": [
        "def spiral(n_cups):\n",
        "    \"\"\"\n",
        "    Implements the asymptotic worst-case\n",
        "    for normal_form, see arXiv:1804.07832.\n",
        "    \"\"\"\n",
        "    x = Ty('x')\n",
        "    unit, counit = Box('unit', Ty(), x), Box('counit', x, Ty())\n",
        "    cup, cap = Box('cup', x @ x, Ty()), Box('cap', Ty(), x @ x)\n",
        "    result = unit\n",
        "    for i in range(n_cups):\n",
        "        result = result >> Id(x ** i) @ cap @ Id(x ** (i + 1))\n",
        "    result = result >> Id(x ** n_cups) @ counit @ Id(x ** n_cups)\n",
        "    for i in range(n_cups):\n",
        "        result = result >>\\\n",
        "            Id(x ** (n_cups - i - 1)) @ cup @ Id(x ** (n_cups - i - 1))\n",
        "    return result\n",
        "\n",
        "\n",
        "diagram = spiral(3)\n",
        "diagram.to_gif(*diagram.normalize(),\n",
        "               path=folder('spiral.gif'),\n",
        "               **dict(params, draw_box_labels=False, loop=True, aspect='equal'))"
      ],
      "execution_count": null,
      "outputs": [
        {
          "output_type": "execute_result",
          "data": {
            "text/html": [
              "<img src=\"./imgs/spiral.gif\">"
            ],
            "text/plain": [
              "<IPython.core.display.HTML object>"
            ]
          },
          "metadata": {
            "tags": []
          },
          "execution_count": 25
        }
      ]
    },
    {
      "cell_type": "code",
      "metadata": {
        "id": "hVw9r4v-sbrd",
        "outputId": "ae5a5cf3-d0fa-4865-8fbb-5affd0144b95"
      },
      "source": [
        "snake = Box('f', x @ x, x @ x)\\\n",
        "    .transpose(left=True).transpose(left=True)\\\n",
        "    .transpose().transpose()\n",
        "\n",
        "snake.to_gif(*snake.normalize(), **params,\n",
        "             path=folder('snake-removal.gif'))"
      ],
      "execution_count": null,
      "outputs": [
        {
          "output_type": "execute_result",
          "data": {
            "text/html": [
              "<img src=\"./imgs/snake-removal.gif\">"
            ],
            "text/plain": [
              "<IPython.core.display.HTML object>"
            ]
          },
          "metadata": {
            "tags": []
          },
          "execution_count": 26
        }
      ]
    },
    {
      "cell_type": "markdown",
      "metadata": {
        "id": "F1brBDGasbrd"
      },
      "source": [
        "## Exercise 2.1\n",
        "Define a function that takes a number `n` and returns the diagram for a [matrix product state](https://en.wikipedia.org/wiki/Matrix_product_state) (MPS) with `n` particles and random entries. Check how the evaluation time scales with the size of the diagram. \n",
        "\n"
      ]
    },
    {
      "cell_type": "code",
      "metadata": {
        "id": "aXagrPzYsbrd"
      },
      "source": [
        "# TODO"
      ],
      "execution_count": null,
      "outputs": []
    },
    {
      "cell_type": "code",
      "metadata": {
        "id": "HrqZqYzDsbre"
      },
      "source": [
        "from discopy import Dim, Tensor,Cup, Cap\n",
        "import numpy as np\n",
        "def fun1(n):\n",
        "  m = Tensor(Dim(2), Dim(2), np.random.random((2,2)))\n",
        "  m1 = Tensor(Dim(2), Dim(2), np.random.random((2,2)))\n",
        "  for i in range(1,n):\n",
        "      m = m @ m1\n",
        "  return m     "
      ],
      "execution_count": 3,
      "outputs": []
    },
    {
      "cell_type": "code",
      "metadata": {
        "id": "x3X73J9zsbre"
      },
      "source": [
        "import time\n",
        "\n",
        "time1=[]\n",
        "for i in range(15):\n",
        "  start = time.time()\n",
        "  fun1(i)\n",
        "  end = time.time()\n",
        "  time1.append(end - start)"
      ],
      "execution_count": 4,
      "outputs": []
    },
    {
      "cell_type": "code",
      "metadata": {
        "colab": {
          "base_uri": "https://localhost:8080/",
          "height": 279
        },
        "id": "67IzQBopsbre",
        "outputId": "1dd5418e-ea40-47ba-dc1e-1fe409923570"
      },
      "source": [
        "import matplotlib.pyplot as plt\n",
        "plt.plot(list(time1))\n",
        "plt.ylabel('Time Cost')\n",
        "plt.xlabel('Tensor Dim (x10)')\n",
        "plt.show()"
      ],
      "execution_count": 5,
      "outputs": [
        {
          "output_type": "display_data",
          "data": {
            "image/png": "[encoded data removed]",
            "text/plain": [
              "<Figure size 432x288 with 1 Axes>"
            ]
          },
          "metadata": {
            "tags": [],
            "needs_background": "light"
          }
        }
      ]
    },
    {
      "cell_type": "markdown",
      "metadata": {
        "id": "tr_isfhdsbrf"
      },
      "source": [
        "## Exercise 2.2\n",
        "Pip install the [tensornetwork](https://pypi.org/project/tensornetwork/) library and use it to contract the MPS diagrams more efficiently. This is done with the syntax `diagram.eval(contractor=tn.contractor.auto)`, see the [docs](https://discopy.readthedocs.io/en/main/_autosummary/discopy.tensor.Diagram.html#discopy.tensor.Diagram.eval)."
      ]
    },
    {
      "cell_type": "code",
      "metadata": {
        "colab": {
          "base_uri": "https://localhost:8080/"
        },
        "id": "SVf7bAeFsbrf",
        "outputId": "36a681da-2402-44b2-a86f-3bb6742b77c9"
      },
      "source": [
        "!pip install tensornetwork"
      ],
      "execution_count": 6,
      "outputs": [
        {
          "output_type": "stream",
          "text": [
            "Collecting tensornetwork\n",
            "  Downloading tensornetwork-0.4.5-py3-none-any.whl (363 kB)\n",
            "\u001b[?25l\r\u001b[K     |█                               | 10 kB 21.1 MB/s eta 0:00:01\r\u001b[K     |█▉                              | 20 kB 26.7 MB/s eta 0:00:01\r\u001b[K     |██▊                             | 30 kB 20.6 MB/s eta 0:00:01\r\u001b[K     |███▋                            | 40 kB 16.8 MB/s eta 0:00:01\r\u001b[K     |████▌                           | 51 kB 7.1 MB/s eta 0:00:01\r\u001b[K     |█████▍                          | 61 kB 6.7 MB/s eta 0:00:01\r\u001b[K     |██████▎                         | 71 kB 7.4 MB/s eta 0:00:01\r\u001b[K     |███████▏                        | 81 kB 8.2 MB/s eta 0:00:01\r\u001b[K     |████████                        | 92 kB 8.7 MB/s eta 0:00:01\r\u001b[K     |█████████                       | 102 kB 7.2 MB/s eta 0:00:01\r\u001b[K     |██████████                      | 112 kB 7.2 MB/s eta 0:00:01\r\u001b[K     |██████████▉                     | 122 kB 7.2 MB/s eta 0:00:01\r\u001b[K     |███████████▊                    | 133 kB 7.2 MB/s eta 0:00:01\r\u001b[K     |████████████▋                   | 143 kB 7.2 MB/s eta 0:00:01\r\u001b[K     |█████████████▌                  | 153 kB 7.2 MB/s eta 0:00:01\r\u001b[K     |██████████████▍                 | 163 kB 7.2 MB/s eta 0:00:01\r\u001b[K     |███████████████▎                | 174 kB 7.2 MB/s eta 0:00:01\r\u001b[K     |████████████████▏               | 184 kB 7.2 MB/s eta 0:00:01\r\u001b[K     |█████████████████▏              | 194 kB 7.2 MB/s eta 0:00:01\r\u001b[K     |██████████████████              | 204 kB 7.2 MB/s eta 0:00:01\r\u001b[K     |███████████████████             | 215 kB 7.2 MB/s eta 0:00:01\r\u001b[K     |███████████████████▉            | 225 kB 7.2 MB/s eta 0:00:01\r\u001b[K     |████████████████████▊           | 235 kB 7.2 MB/s eta 0:00:01\r\u001b[K     |█████████████████████▋          | 245 kB 7.2 MB/s eta 0:00:01\r\u001b[K     |██████████████████████▌         | 256 kB 7.2 MB/s eta 0:00:01\r\u001b[K     |███████████████████████▍        | 266 kB 7.2 MB/s eta 0:00:01\r\u001b[K     |████████████████████████▎       | 276 kB 7.2 MB/s eta 0:00:01\r\u001b[K     |█████████████████████████▎      | 286 kB 7.2 MB/s eta 0:00:01\r\u001b[K     |██████████████████████████▏     | 296 kB 7.2 MB/s eta 0:00:01\r\u001b[K     |███████████████████████████     | 307 kB 7.2 MB/s eta 0:00:01\r\u001b[K     |████████████████████████████    | 317 kB 7.2 MB/s eta 0:00:01\r\u001b[K     |████████████████████████████▉   | 327 kB 7.2 MB/s eta 0:00:01\r\u001b[K     |█████████████████████████████▊  | 337 kB 7.2 MB/s eta 0:00:01\r\u001b[K     |██████████████████████████████▋ | 348 kB 7.2 MB/s eta 0:00:01\r\u001b[K     |███████████████████████████████▌| 358 kB 7.2 MB/s eta 0:00:01\r\u001b[K     |████████████████████████████████| 363 kB 7.2 MB/s \n",
            "\u001b[?25hRequirement already satisfied: numpy>=1.17 in /usr/local/lib/python3.7/dist-packages (from tensornetwork) (1.19.5)\n",
            "Requirement already satisfied: opt-einsum>=2.3.0 in /usr/local/lib/python3.7/dist-packages (from tensornetwork) (3.3.0)\n",
            "Collecting graphviz>=0.11.1\n",
            "  Downloading graphviz-0.17-py3-none-any.whl (18 kB)\n",
            "Requirement already satisfied: scipy>=1.1 in /usr/local/lib/python3.7/dist-packages (from tensornetwork) (1.4.1)\n",
            "Requirement already satisfied: h5py>=2.9.0 in /usr/local/lib/python3.7/dist-packages (from tensornetwork) (3.1.0)\n",
            "Requirement already satisfied: cached-property in /usr/local/lib/python3.7/dist-packages (from h5py>=2.9.0->tensornetwork) (1.5.2)\n",
            "Installing collected packages: graphviz, tensornetwork\n",
            "  Attempting uninstall: graphviz\n",
            "    Found existing installation: graphviz 0.10.1\n",
            "    Uninstalling graphviz-0.10.1:\n",
            "      Successfully uninstalled graphviz-0.10.1\n",
            "Successfully installed graphviz-0.17 tensornetwork-0.4.5\n"
          ],
          "name": "stdout"
        }
      ]
    },
    {
      "cell_type": "code",
      "metadata": {
        "id": "KV2v5RPIs358"
      },
      "source": [
        "from numpy import random\n",
        "import tensornetwork as tn\n",
        "from discopy import tensor"
      ],
      "execution_count": 9,
      "outputs": []
    },
    {
      "cell_type": "code",
      "metadata": {
        "id": "wbDWyXBas7Hj"
      },
      "source": [
        "vector = tensor.Box('vector', Dim(1), Dim(2), [0, 1])\n",
        "assert (vector >> vector[::-1]).eval() == 1\n",
        "assert (vector >> vector[::-1]).eval(tn.contractors.auto) == 1\n",
        "\n",
        "vector1 = tensor.Box('vector1', Dim(1), Dim(2), [0, 1])\n",
        "assert (vector1 >> vector1[::-1]).eval() == 1"
      ],
      "execution_count": 40,
      "outputs": []
    },
    {
      "cell_type": "code",
      "metadata": {
        "id": "NnMBom5ex9w9"
      },
      "source": [
        "def f(n):\n",
        "  vectort=vector\n",
        "  for i in range(1,n):\n",
        "    vectort = vectort@vector\n",
        "  return vectort\n",
        "      \n"
      ],
      "execution_count": 46,
      "outputs": []
    },
    {
      "cell_type": "code",
      "metadata": {
        "id": "C0OKeqpFx_LQ"
      },
      "source": [
        "time1=[]\n",
        "time2=[]\n",
        "for i in range(30):\n",
        "  start = time.time()\n",
        "  assert (f(i) >> f(i)[::-1]).eval(tn.contractors.auto) == 1\n",
        "  end = time.time()\n",
        "  time1.append(end - start)\n",
        "\n",
        "  start = time.time()\n",
        "  assert (f(i) >> f(i)[::-1]).eval() == 1\n",
        "  end = time.time()\n",
        "  time2.append(end - start)\n"
      ],
      "execution_count": 50,
      "outputs": []
    },
    {
      "cell_type": "code",
      "metadata": {
        "colab": {
          "base_uri": "https://localhost:8080/",
          "height": 279
        },
        "id": "MvQn2T8DzN70",
        "outputId": "c8d4591e-0172-4a8e-dca2-28b13c95b07a"
      },
      "source": [
        "import matplotlib.pyplot as plt\n",
        "plt.plot(time1,'g*', time2, 'ro')\n",
        "plt.ylabel('Time Cost')\n",
        "plt.xlabel('Tensor Dim')\n",
        "plt.legend(['tn.contractors.auto','eval'])\n",
        "plt.show()"
      ],
      "execution_count": 51,
      "outputs": [
        {
          "output_type": "display_data",
          "data": {
            "image/png": "[encoded data removed]",
            "text/plain": [
              "<Figure size 432x288 with 1 Axes>"
            ]
          },
          "metadata": {
            "tags": [],
            "needs_background": "light"
          }
        }
      ]
    },
    {
      "cell_type": "markdown",
      "metadata": {
        "id": "h-6fHiUAsbrf"
      },
      "source": [
        "## References\n",
        "\n",
        "* Coecke, B., Sadrzadeh, M., & Clark, S. (2010) _Mathematical foundations for a compositional distributional model of meaning._ [arXiv:1003.4394](https://arxiv.org/abs/1003.4394)\n",
        "* Zeng, W., & Coecke, B.  (2016) _Quantum algorithms for compositional natural language processing._ [arXiv:1608.01406](https://arxiv.org/abs/arXiv:1608.01406)\n",
        "* de Felice, G., Toumi, A., & Coecke, B. (2020) _DisCoPy: Monoidal Categories in Python._ [arXiv:2005.02975](https://arxiv.org/abs/2005.02975)\n",
        "* Meichanetzidis, K., Toumi, A., de Felice, G., & Coecke, B. (2020) _Grammar-Aware Question-Answering on Quantum Computers._ [arXiv:2012.03756](https://arxiv.org/abs/arXiv:2012.03756)\n",
        "* Meichanetzidis, K., Gogioso, S., De Felice, G., Chiappori, N., Toumi, A., & Coecke, B. (2020) _Quantum natural language processing on near-term quantum computers._ [arXiv:2005.04147](https://arxiv.org/abs/arXiv:2005.04147)"
      ]
    }
  ]
}