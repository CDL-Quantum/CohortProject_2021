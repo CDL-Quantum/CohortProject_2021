{
  "nbformat": 4,
  "nbformat_minor": 0,
  "metadata": {
    "kernelspec": {
      "display_name": "Python 3",
      "language": "python",
      "name": "python3"
    },
    "language_info": {
      "codemirror_mode": {
        "name": "ipython",
        "version": 3
      },
      "file_extension": ".py",
      "mimetype": "text/x-python",
      "name": "python",
      "nbconvert_exporter": "python",
      "pygments_lexer": "ipython3",
      "version": "3.9.5"
    },
    "colab": {
      "name": "qnlp-tutorial-Part3.ipynb",
      "provenance": []
    }
  },
  "cells": [
    {
      "cell_type": "code",
      "metadata": {
        "id": "YpeP5gBO07WZ"
      },
      "source": [
        "!pip install discopy\n",
        "!pip install pytket\n",
        "!pip install pytket-qiskit"
      ],
      "execution_count": null,
      "outputs": []
    },
    {
      "cell_type": "code",
      "metadata": {
        "id": "0N7GYlDd0sie"
      },
      "source": [
        "import numpy as np\n",
        "from discopy import Ob, Ty, Box, drawing, Id, Swap, Diagram, Functor, Dim, Tensor, Cup, Cap, tensor, Word, pregroup\n",
        "from discopy.quantum import qubit, H, Id, CX, QuantumGate, Ket, Bra, Measure, Discard, SWAP\n",
        "# ,  circuit, sqrt, X\n",
        "from pytket.extensions.qiskit import AerBackend, backends\n",
        "from pytket.extensions.qiskit.backends.ibm import IBMQ\n",
        "# from pytket.extensions.qiskit.backends.ibm import job_monitor\n",
        "# from pytket.extensions.qiskit.backends.ibm.IBMQ.ibmq import load_account\n",
        "\n",
        "from pytket.extensions.qiskit import AerBackend\n",
        "\n",
        "aer = AerBackend()"
      ],
      "execution_count": 7,
      "outputs": []
    },
    {
      "cell_type": "markdown",
      "metadata": {
        "id": "SDN9yQiH0sig"
      },
      "source": [
        "# Drawing quantum circuits\n",
        "\n",
        "A (_pure_) quantum `Circuit` is simply a recipe with qubits as ingredients and `QuantumGate` boxes as cooking steps. A quantum gate is defined by a number of qubits and a unitary matrix."
      ]
    },
    {
      "cell_type": "code",
      "metadata": {
        "colab": {
          "base_uri": "https://localhost:8080/",
          "height": 175
        },
        "id": "6rzuZHP50sih",
        "outputId": "5385d7a5-000f-4534-8ed7-901f7c0d3892"
      },
      "source": [
        "assert H == QuantumGate(\"H\", 1, 1 / np.sqrt(2) * np.array([1, 1, 1, -1]), _dagger=None)\n",
        "\n",
        "circuit = H @ Id(qubit) >> CX\n",
        "\n",
        "circuit.draw(figsize=(2, 2), draw_type_labels=True, margins=(.1, .1))"
      ],
      "execution_count": 8,
      "outputs": [
        {
          "output_type": "display_data",
          "data": {
            "image/png": "[encoded data removed]",
            "text/plain": [
              "<Figure size 144x144 with 1 Axes>"
            ]
          },
          "metadata": {
            "tags": [],
            "needs_background": "light"
          }
        }
      ]
    },
    {
      "cell_type": "markdown",
      "metadata": {
        "id": "8EmIqugZ0sii"
      },
      "source": [
        "A pure quantum circuit can be evaluated as a `Tensor` object, i.e. it is a subclass of `tensor.Diagram`."
      ]
    },
    {
      "cell_type": "code",
      "metadata": {
        "id": "mLYvrLjg0sii"
      },
      "source": [
        "assert H.eval() == H.array\n",
        "assert Id(qubit).eval() == Tensor.id(Dim(2))\n",
        "\n",
        "assert circuit.eval() == H.eval() @ Id(qubit).eval() >> CX.eval()"
      ],
      "execution_count": 9,
      "outputs": []
    },
    {
      "cell_type": "markdown",
      "metadata": {
        "id": "EgFG0CY10sij"
      },
      "source": [
        "Pure quantum circuits are reversible. We call the reverse of a circuit its _dagger_, written with the operator `[::-1]`. "
      ]
    },
    {
      "cell_type": "code",
      "metadata": {
        "colab": {
          "base_uri": "https://localhost:8080/",
          "height": 193
        },
        "id": "L7jXhl0I0sij",
        "outputId": "99e3367e-5220-467d-e081-c922efc878de"
      },
      "source": [
        "print(circuit[::-1])\n",
        "circuit[::-1].draw(figsize=(2, 2), margins=(.1,.1))"
      ],
      "execution_count": 10,
      "outputs": [
        {
          "output_type": "stream",
          "text": [
            "CX >> H @ Id(1)\n"
          ],
          "name": "stdout"
        },
        {
          "output_type": "display_data",
          "data": {
            "image/png": "[encoded data removed]",
            "text/plain": [
              "<Figure size 144x144 with 1 Axes>"
            ]
          },
          "metadata": {
            "tags": [],
            "needs_background": "light"
          }
        }
      ]
    },
    {
      "cell_type": "code",
      "metadata": {
        "id": "Om7PKb4w0sij"
      },
      "source": [
        "assert (CX >> CX[::-1]).eval() == Id(qubit ** 2).eval()\n",
        "assert np.all(np.isclose((H >> H[::-1]).eval(), Id(qubit).eval()))"
      ],
      "execution_count": 11,
      "outputs": []
    },
    {
      "cell_type": "markdown",
      "metadata": {
        "id": "56VPm7dn0sik"
      },
      "source": [
        "Matrix multiplication is fun and all, but that's not really what quantum computers do. To simulate the quantum state that the circuit produces, we need to pre-compose it with a `Ket`, i.e. we need to initialise some qubits before we apply our circuit.\n",
        "In our example `circuit`, the resulting state is the so called Bell state $\\frac{1}{\\sqrt{2}} (|00\\rangle + |11\\rangle)$."
      ]
    },
    {
      "cell_type": "code",
      "metadata": {
        "colab": {
          "base_uri": "https://localhost:8080/",
          "height": 229
        },
        "id": "ApTzRATj0sik",
        "outputId": "b036ad7d-2cb6-415f-9ff3-3e7c5369a5d8"
      },
      "source": [
        "(Ket(0, 0) >> circuit).draw(figsize=(2, 2.5))\n",
        "(Ket(0, 0) >> circuit).eval(backend=aer)"
      ],
      "execution_count": 20,
      "outputs": [
        {
          "output_type": "display_data",
          "data": {
            "image/png": "[encoded data removed]",
            "text/plain": [
              "<Figure size 144x180 with 1 Axes>"
            ]
          },
          "metadata": {
            "tags": [],
            "needs_background": "light"
          }
        },
        {
          "output_type": "execute_result",
          "data": {
            "text/plain": [
              "Tensor(dom=Dim(1), cod=Dim(1), array=[1.])"
            ]
          },
          "metadata": {
            "tags": []
          },
          "execution_count": 20
        }
      ]
    },
    {
      "cell_type": "code",
      "metadata": {
        "colab": {
          "base_uri": "https://localhost:8080/"
        },
        "id": "kZmN96Jf0sik",
        "outputId": "a471b494-45e8-4d67-a9e0-802b07b7d782"
      },
      "source": [
        "(Ket(0, 0) >> circuit).eval()"
      ],
      "execution_count": 19,
      "outputs": [
        {
          "output_type": "execute_result",
          "data": {
            "text/plain": [
              "Tensor(dom=Dim(1), cod=Dim(2, 2), array=[0.70710678+0.j, 0.    +0.j, 0.    +0.j, 0.70710678+0.j])"
            ]
          },
          "metadata": {
            "tags": []
          },
          "execution_count": 19
        }
      ]
    },
    {
      "cell_type": "markdown",
      "metadata": {
        "id": "mGmdCLY80sil"
      },
      "source": [
        "To compute the probability of a particular measurement result, we need to post-compose our circuit with a `Bra`, the dagger of `Ket`, then apply the Born rule."
      ]
    },
    {
      "cell_type": "code",
      "metadata": {
        "id": "yMbAqdzV0sil",
        "outputId": "3c35efe1-8b0e-443d-dc02-fbec21d97822"
      },
      "source": [
        "experiment = Ket(0, 0) >> circuit >> Bra(0, 0)\n",
        "\n",
        "print(\"amplitude:\")\n",
        "experiment.draw(figsize=(2, 3))\n",
        "amplitude = experiment.eval().array[0]\n",
        "\n",
        "probability = abs(amplitude) ** 2\n",
        "print(\"probability: {}\".format(probability))"
      ],
      "execution_count": null,
      "outputs": [
        {
          "output_type": "stream",
          "text": [
            "amplitude:\n"
          ],
          "name": "stdout"
        },
        {
          "output_type": "display_data",
          "data": {
            "image/png": "[encoded data removed]",
            "text/plain": [
              "<Figure size 144x216 with 1 Axes>"
            ]
          },
          "metadata": {
            "tags": [],
            "needs_background": "light"
          }
        },
        {
          "output_type": "stream",
          "text": [
            "probability: 0.4999999999999999\n"
          ],
          "name": "stdout"
        }
      ]
    },
    {
      "cell_type": "markdown",
      "metadata": {
        "id": "y-DtgVlt0sil"
      },
      "source": [
        "If we want to get the probability distribution over bitstrings, we need to leave the realm of purity to consider **mixed** quantum circuits with both `bit` and `qubit` ingredients.\n",
        "The `Measure` box has `dom=qubit` and `cod=bit`.\n",
        "Another example of a mixed box is `Discard` which computes a partial trace over a qubit.\n",
        "Mixed circuits cannot be evaluated as a unitary matrix anymore.\n",
        "Instead whenever the circuit is mixed, `circuit.eval()` outputs a `CQMap`: a `numpy.ndarray` with axes for the classical and quantum dimensions of the circuit."
      ]
    },
    {
      "cell_type": "code",
      "metadata": {
        "id": "8TqJeZ-u0sim",
        "outputId": "d285771b-9ec7-4a0b-b9ec-b71d4f717dd9"
      },
      "source": [
        "print(Discard().eval())\n",
        "print(Measure().eval())"
      ],
      "execution_count": null,
      "outputs": [
        {
          "output_type": "stream",
          "text": [
            "CQMap(dom=Q(Dim(2)), cod=CQ(), array=[1., 0., 0., 1.])\n",
            "CQMap(dom=Q(Dim(2)), cod=C(Dim(2)), array=[1, 0, 0, 0, 0, 0, 0, 1])\n"
          ],
          "name": "stdout"
        }
      ]
    },
    {
      "cell_type": "code",
      "metadata": {
        "id": "ANp1Wus60sim",
        "outputId": "a0f1939a-a0d0-4208-ba7f-102ee16857c5"
      },
      "source": [
        "(Ket(0, 0) >> circuit >> Measure() @ Discard()).draw(figsize=(2, 4))\n",
        "(Ket(0, 0) >> circuit >> Measure() @ Discard()).eval()"
      ],
      "execution_count": null,
      "outputs": [
        {
          "output_type": "display_data",
          "data": {
            "image/png": "[encoded data removed]",
            "text/plain": [
              "<Figure size 144x288 with 1 Axes>"
            ]
          },
          "metadata": {
            "tags": [],
            "needs_background": "light"
          }
        },
        {
          "output_type": "execute_result",
          "data": {
            "text/plain": [
              "CQMap(dom=CQ(), cod=C(Dim(2)), array=[0.5+0.j, 0.5+0.j])"
            ]
          },
          "metadata": {
            "tags": []
          },
          "execution_count": 34
        }
      ]
    },
    {
      "cell_type": "markdown",
      "metadata": {
        "id": "6KT2-3TD0sim"
      },
      "source": [
        "Note that as for diagrams of cooking recipes, we need to introduce swaps in order to apply two-qubit gates to non-adjacent qubits. These swaps have no physical meaning, they are just an artefact of drawing circuits in 2 dimensions rather than 4. Indeed, we can forget about swaps by compiling our planar diagram into the graph-based data structure of $\\mathrm{t|ket\\rangle}$."
      ]
    },
    {
      "cell_type": "code",
      "metadata": {
        "id": "6jugSddx0sin",
        "outputId": "d589a96e-ee23-4a86-8c46-fa55bebd81ee"
      },
      "source": [
        "circuit.to_tk()"
      ],
      "execution_count": null,
      "outputs": [
        {
          "output_type": "execute_result",
          "data": {
            "text/plain": [
              "tk.Circuit(2).H(0).CX(0, 1)"
            ]
          },
          "metadata": {
            "tags": []
          },
          "execution_count": 35
        }
      ]
    },
    {
      "cell_type": "code",
      "metadata": {
        "id": "h83pck_g0sin",
        "outputId": "60e76489-ccb9-4009-b979-e896640f6e35"
      },
      "source": [
        "(SWAP >> circuit >> SWAP).to_tk()"
      ],
      "execution_count": null,
      "outputs": [
        {
          "output_type": "execute_result",
          "data": {
            "text/plain": [
              "tk.Circuit(2).H(1).CX(1, 0)"
            ]
          },
          "metadata": {
            "tags": []
          },
          "execution_count": 36
        }
      ]
    },
    {
      "cell_type": "markdown",
      "metadata": {
        "id": "Ghd2WAnf0sin"
      },
      "source": [
        "We can execute our circuit on a $\\mathrm{t|ket\\rangle}$ backend (simulator or hardware) by passing it as a parameter to `eval`."
      ]
    },
    {
      "cell_type": "code",
      "metadata": {
        "id": "PSA5Gu6R0sin",
        "outputId": "0f3d859b-96d6-4438-877f-c37409dc3a13"
      },
      "source": [
        "aer = AerBackend()\n",
        "\n",
        "(circuit >> Measure() @ Discard()).eval(backend=aer)"
      ],
      "execution_count": null,
      "outputs": [
        {
          "output_type": "execute_result",
          "data": {
            "text/plain": [
              "Tensor(dom=Dim(1), cod=Dim(2), array=[0.48925781, 0.51074219])"
            ]
          },
          "metadata": {
            "tags": []
          },
          "execution_count": 37
        }
      ]
    },
    {
      "cell_type": "markdown",
      "metadata": {
        "id": "EFRpdSz40sio"
      },
      "source": [
        "# Exercise 3.1\n",
        "Run your own Bell experiment on quantum hardware! You can use IBMQ machines for free, if you're ready to wait."
      ]
    },
    {
      "cell_type": "code",
      "metadata": {
        "scrolled": true,
        "colab": {
          "base_uri": "https://localhost:8080/"
        },
        "id": "1JsGJG2N0sio",
        "outputId": "0f3ca959-e4ec-454a-e538-5f40a5c5848f"
      },
      "source": [
        "from pytket.extensions.qiskit import AerBackend\n",
        "\n",
        "from pytket import Circuit\n",
        "\n",
        "c = Circuit(2,2) \n",
        "c.H(0)   \n",
        "c.CX(0,1) \n",
        "c.measure_all()  \n",
        "\n",
        "\n",
        "b = AerBackend()                            # connect to the backend\n",
        "compiled = b.get_compiled_circuit(c)        # compile the circuit to satisfy the backend's requirements\n",
        "handle = b.process_circuit(compiled, 100)   # submit the job to run the circuit 100 times\n",
        "counts = b.get_result(handle).get_counts()  # retrieve and summarise the results\n",
        "print(counts)"
      ],
      "execution_count": 23,
      "outputs": [
        {
          "output_type": "stream",
          "text": [
            "Counter({(0, 0): 55, (1, 1): 45})\n"
          ],
          "name": "stdout"
        }
      ]
    },
    {
      "cell_type": "code",
      "metadata": {
        "id": "U-EoBdLO0sip"
      },
      "source": [
        "#TODO Fake backend"
      ],
      "execution_count": null,
      "outputs": []
    },
    {
      "cell_type": "markdown",
      "metadata": {
        "id": "82o3qzps0sip"
      },
      "source": [
        "## Exercise 3.2 \n",
        "Draw a circuit that evaluates to the GHZ state $\\frac{1}{\\sqrt{2}} (|000\\rangle + |111\\rangle)$."
      ]
    },
    {
      "cell_type": "code",
      "metadata": {
        "colab": {
          "base_uri": "https://localhost:8080/",
          "height": 283
        },
        "id": "hPJgcRkQ0sip",
        "outputId": "6003e4a0-c717-4649-eb31-179f35d08d1e"
      },
      "source": [
        "circuit = H @ Id(qubit) @ Id(qubit) >> CX @ Id(qubit) >> Id(qubit) @ CX >> Measure() @ Measure() @ Measure()\n",
        "circuit.draw(figsize=(3, 3), draw_type_labels=True, margins=(.1, .1))\n",
        "\n",
        "circuit.eval(backend=aer)"
      ],
      "execution_count": 29,
      "outputs": [
        {
          "output_type": "display_data",
          "data": {
            "image/png": "[encoded data removed]",
            "text/plain": [
              "<Figure size 216x216 with 1 Axes>"
            ]
          },
          "metadata": {
            "tags": [],
            "needs_background": "light"
          }
        },
        {
          "output_type": "execute_result",
          "data": {
            "text/plain": [
              "Tensor(dom=Dim(1), cod=Dim(2, 2, 2), array=[0.51660156, 0.    , 0.    , 0.    , 0.    , 0.    ,\n",
              " 0.    , 0.48339844])"
            ]
          },
          "metadata": {
            "tags": []
          },
          "execution_count": 29
        }
      ]
    },
    {
      "cell_type": "code",
      "metadata": {
        "colab": {
          "base_uri": "https://localhost:8080/"
        },
        "id": "QBAy50HM2OrG",
        "outputId": "a15e831d-77db-4b28-d74f-42d7d84bf889"
      },
      "source": [
        "\n",
        "from pytket import Circuit\n",
        "\n",
        "c = Circuit(3,3) \n",
        "c.H(0)   \n",
        "c.CX(0,1) \n",
        "c.CX(1,2)\n",
        "c.measure_all()  \n",
        "\n",
        "b = AerBackend()                            # connect to the backend\n",
        "compiled = b.get_compiled_circuit(c)        # compile the circuit to satisfy the backend's requirements\n",
        "handle = b.process_circuit(compiled, 100)   # submit the job to run the circuit 100 times\n",
        "counts = b.get_result(handle).get_counts()  # retrieve and summarise the results\n",
        "print(counts)"
      ],
      "execution_count": 32,
      "outputs": [
        {
          "output_type": "stream",
          "text": [
            "Counter({(1, 1, 1): 51, (0, 0, 0): 49})\n"
          ],
          "name": "stdout"
        }
      ]
    },
    {
      "cell_type": "markdown",
      "metadata": {
        "id": "o9IVtIIl0sip"
      },
      "source": [
        "## Exercise 3.3 (harder)\n",
        "Define a function that takes a number `n` and returns a circuit for the  state $\\frac{1}{\\sqrt{2}} (|0...0\\rangle + |1...1\\rangle)$."
      ]
    },
    {
      "cell_type": "code",
      "metadata": {
        "id": "nZEEo9pU0siq"
      },
      "source": [
        "def Ket0_n(n):\n",
        "    state = Ket(0)\n",
        "    for i in range(1,n):\n",
        "        state = state @ Ket(0)\n",
        "    return(state)\n",
        "\n",
        "def layer_i(i,n):\n",
        "    if i == 0:\n",
        "        layer = H\n",
        "    elif i == n:\n",
        "        layer = Measure()\n",
        "        for k in range(1,n):\n",
        "            layer = layer @ Measure()\n",
        "    elif i == 1:\n",
        "        layer = CX\n",
        "    else:\n",
        "        layer = Id(qubit)\n",
        "        for k in range(1,i-1):\n",
        "            layer = layer @ Id(qubit)\n",
        "        layer = layer @ CX\n",
        "    for k in range(i,n-1):\n",
        "        layer = layer @ Id(qubit)\n",
        "    return layer\n",
        "    \n",
        "# Ket0_n(n).draw()\n",
        "# layer_i(0,3).draw()\n",
        "# layer_i(1,3).draw()\n",
        "# layer_i(2,3).draw()\n",
        "# layer_i(3,3).draw()"
      ],
      "execution_count": null,
      "outputs": []
    },
    {
      "cell_type": "code",
      "metadata": {
        "id": "c1qMTqHg0siq",
        "outputId": "4d37391a-6ab1-435e-fa38-9e67f24213f3"
      },
      "source": [
        "n = 5\n",
        "\n",
        "GHZ_n = Ket0_n(n)\n",
        "GHZ_n = GHZ_n >> layer_i(0,n)\n",
        "\n",
        "for i in range(1,n):\n",
        "    GHZ_n = GHZ_n >> layer_i(i,n)\n",
        "\n",
        "GHZ_n = GHZ_n >> layer_i(n,n)    \n",
        "GHZ_n.draw(figsize=(5, 10))\n",
        "GHZ_n.eval(backend=aer)"
      ],
      "execution_count": null,
      "outputs": [
        {
          "output_type": "display_data",
          "data": {
            "image/png": "[encoded data removed]",
            "text/plain": [
              "<Figure size 360x720 with 1 Axes>"
            ]
          },
          "metadata": {
            "tags": [],
            "needs_background": "light"
          }
        },
        {
          "output_type": "execute_result",
          "data": {
            "text/plain": [
              "Tensor(dom=Dim(1), cod=Dim(2, 2, 2, 2, 2), array=[0.49902344, 0.    , 0.    , ..., 0.    , 0.    ,\n",
              " 0.50097656])"
            ]
          },
          "metadata": {
            "tags": []
          },
          "execution_count": 52
        }
      ]
    },
    {
      "cell_type": "markdown",
      "metadata": {
        "id": "-PaZvTQz0sir"
      },
      "source": [
        "## References\n",
        "\n",
        "* Coecke, B., Sadrzadeh, M., & Clark, S. (2010) _Mathematical foundations for a compositional distributional model of meaning._ [arXiv:1003.4394](https://arxiv.org/abs/1003.4394)\n",
        "* Zeng, W., & Coecke, B.  (2016) _Quantum algorithms for compositional natural language processing._ [arXiv:1608.01406](https://arxiv.org/abs/arXiv:1608.01406)\n",
        "* de Felice, G., Toumi, A., & Coecke, B. (2020) _DisCoPy: Monoidal Categories in Python._ [arXiv:2005.02975](https://arxiv.org/abs/2005.02975)\n",
        "* Meichanetzidis, K., Toumi, A., de Felice, G., & Coecke, B. (2020) _Grammar-Aware Question-Answering on Quantum Computers._ [arXiv:2012.03756](https://arxiv.org/abs/arXiv:2012.03756)\n",
        "* Meichanetzidis, K., Gogioso, S., De Felice, G., Chiappori, N., Toumi, A., & Coecke, B. (2020) _Quantum natural language processing on near-term quantum computers._ [arXiv:2005.04147](https://arxiv.org/abs/arXiv:2005.04147)"
      ]
    }
  ]
}