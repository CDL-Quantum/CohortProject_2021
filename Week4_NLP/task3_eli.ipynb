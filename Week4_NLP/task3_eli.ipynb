{
  "nbformat": 4,
  "nbformat_minor": 0,
  "metadata": {
    "colab": {
      "name": "Untitled1.ipynb",
      "provenance": [],
      "collapsed_sections": []
    },
    "kernelspec": {
      "name": "python3",
      "display_name": "Python 3"
    },
    "language_info": {
      "name": "python"
    }
  },
  "cells": [
    {
      "cell_type": "code",
      "metadata": {
        "colab": {
          "base_uri": "https://localhost:8080/"
        },
        "id": "T4IAq9vD5Pq5",
        "outputId": "e3fa79a3-f50b-451c-be59-07ea62cefe4a"
      },
      "source": [
        "# !pip install discopy\n",
        "# !pip install pytket\n",
        "# !pip install qiskit\n",
        "#! pip install cirq"
      ],
      "execution_count": 241,
      "outputs": [
        {
          "output_type": "stream",
          "text": [
            "Collecting pylatexenc\n",
            "  Downloading pylatexenc-2.10.tar.gz (162 kB)\n",
            "\u001b[?25l\r\u001b[K     |██                              | 10 kB 17.6 MB/s eta 0:00:01\r\u001b[K     |████                            | 20 kB 23.7 MB/s eta 0:00:01\r\u001b[K     |██████                          | 30 kB 28.0 MB/s eta 0:00:01\r\u001b[K     |████████                        | 40 kB 27.8 MB/s eta 0:00:01\r\u001b[K     |██████████                      | 51 kB 30.4 MB/s eta 0:00:01\r\u001b[K     |████████████                    | 61 kB 25.1 MB/s eta 0:00:01\r\u001b[K     |██████████████                  | 71 kB 21.8 MB/s eta 0:00:01\r\u001b[K     |████████████████▏               | 81 kB 23.4 MB/s eta 0:00:01\r\u001b[K     |██████████████████▏             | 92 kB 23.3 MB/s eta 0:00:01\r\u001b[K     |████████████████████▏           | 102 kB 24.0 MB/s eta 0:00:01\r\u001b[K     |██████████████████████▏         | 112 kB 24.0 MB/s eta 0:00:01\r\u001b[K     |████████████████████████▏       | 122 kB 24.0 MB/s eta 0:00:01\r\u001b[K     |██████████████████████████▏     | 133 kB 24.0 MB/s eta 0:00:01\r\u001b[K     |████████████████████████████▏   | 143 kB 24.0 MB/s eta 0:00:01\r\u001b[K     |██████████████████████████████▎ | 153 kB 24.0 MB/s eta 0:00:01\r\u001b[K     |████████████████████████████████| 162 kB 24.0 MB/s \n",
            "\u001b[?25hBuilding wheels for collected packages: pylatexenc\n",
            "  Building wheel for pylatexenc (setup.py) ... \u001b[?25l\u001b[?25hdone\n",
            "  Created wheel for pylatexenc: filename=pylatexenc-2.10-py3-none-any.whl size=136835 sha256=897bb6aaf6bd6d2f1b40f271d1fc730e032bc04babbb483a3362471b5007c5d7\n",
            "  Stored in directory: /root/.cache/pip/wheels/f1/8a/f5/33ee79d4473eb201b519fa40f989b842e373237395a3421f52\n",
            "Successfully built pylatexenc\n",
            "Installing collected packages: pylatexenc\n",
            "Successfully installed pylatexenc-2.10\n"
          ],
          "name": "stdout"
        }
      ]
    },
    {
      "cell_type": "code",
      "metadata": {
        "id": "iRx7W-PS6NHL"
      },
      "source": [
        "from discopy import Ob, Ty\n",
        "\n",
        "egg, white, yolk = Ty('egg'), Ty('white'), Ty('yolk')\n",
        "\n",
        "assert egg.objects == [Ob('egg')]\n",
        "assert white @ yolk == Ty(Ob('white'), Ob('yolk'))\n",
        "\n",
        "assert egg @ Ty() == egg == Ty() @ egg\n",
        "assert egg @ (white @ yolk) == (egg @ white) @ yolk"
      ],
      "execution_count": 184,
      "outputs": []
    },
    {
      "cell_type": "code",
      "metadata": {
        "colab": {
          "base_uri": "https://localhost:8080/",
          "height": 175
        },
        "id": "R2usgFVn6NEt",
        "outputId": "480c3dc3-8a09-462d-8bdd-0d5aa3a20c94"
      },
      "source": [
        "from discopy import Box\n",
        "\n",
        "crack = Box('Crack', dom=egg, cod=white @ yolk)\n",
        "\n",
        "crack.draw(figsize=(2, 2))"
      ],
      "execution_count": 185,
      "outputs": [
        {
          "output_type": "display_data",
          "data": {
            "image/png": "[encoded data removed]",
            "text/plain": [
              "<Figure size 144x144 with 1 Axes>"
            ]
          },
          "metadata": {
            "tags": [],
            "needs_background": "light"
          }
        }
      ]
    },
    {
      "cell_type": "code",
      "metadata": {
        "colab": {
          "base_uri": "https://localhost:8080/",
          "height": 175
        },
        "id": "V-hLGXXx6NBA",
        "outputId": "31632b9f-ec56-4934-d50b-715007b2ce25"
      },
      "source": [
        "from discopy import drawing\n",
        "\n",
        "mix = Box('Mix', white @ yolk, egg)\n",
        "\n",
        "crack_tensor_mix = crack @ mix\n",
        "crack_then_mix = crack >> mix\n",
        "\n",
        "drawing.equation(crack_tensor_mix, crack_then_mix, space=2, symbol=', ', figsize=(8, 2))"
      ],
      "execution_count": 186,
      "outputs": [
        {
          "output_type": "display_data",
          "data": {
            "image/png": "[encoded data removed]",
            "text/plain": [
              "<Figure size 576x144 with 1 Axes>"
            ]
          },
          "metadata": {
            "tags": [],
            "needs_background": "light"
          }
        }
      ]
    },
    {
      "cell_type": "code",
      "metadata": {
        "colab": {
          "base_uri": "https://localhost:8080/",
          "height": 175
        },
        "id": "MVY86N1y6M-A",
        "outputId": "d234b99f-afe7-4378-8a38-5bc0a078b4e5"
      },
      "source": [
        "from discopy import Id\n",
        "\n",
        "assert crack >> Id(white @ yolk) == crack == Id(egg) >> crack\n",
        "assert crack @ Id(Ty()) == crack == Id(Ty()) @ crack\n",
        "\n",
        "sugar, yolky_paste = Ty('sugar'), Ty('yolky_paste')\n",
        "beat = Box('beat', yolk @ sugar, yolky_paste)\n",
        "\n",
        "crack_then_beat = crack @ Id(sugar) >> Id(white) @ beat\n",
        "\n",
        "crack_then_beat.draw(figsize=(3, 2))"
      ],
      "execution_count": 187,
      "outputs": [
        {
          "output_type": "display_data",
          "data": {
            "image/png": "[encoded data removed]",
            "text/plain": [
              "<Figure size 216x144 with 1 Axes>"
            ]
          },
          "metadata": {
            "tags": [],
            "needs_background": "light"
          }
        }
      ]
    },
    {
      "cell_type": "code",
      "metadata": {
        "colab": {
          "base_uri": "https://localhost:8080/",
          "height": 535
        },
        "id": "_qcD_BGH6hNo",
        "outputId": "bb75981c-d940-4a5e-f374-ebf6c49b7504"
      },
      "source": [
        "white, whisked_whites = Ty('white'), Ty('whisked_white')\n",
        "cream, thick_paste = Ty('marcaspone'), Ty('thick_paste')\n",
        "creama = Ty('filling')\n",
        "\n",
        "whisk = Box('whisk', white, whisked_whites)\n",
        "\n",
        "stir = Box('stir', yolky_paste @ cream, thick_paste)\n",
        "\n",
        "create_filling = Box('create_filling', whisked_whites @ thick_paste, creama)\n",
        "\n",
        "\n",
        "step_1 = crack @ Id(sugar) @ Id(cream)\n",
        "step_2 = Id(white) @ beat  @ Id(cream)\n",
        "step_3 = step_1 >> step_2 \n",
        "step_4 =  step_3  >>  whisk @ Id(yolky_paste) @ Id(cream)\n",
        "step_5 = step_4 >> Id(whisked_whites) @ stir \n",
        "step_6 = step_5 >> create_filling\n",
        "\n",
        "\n",
        "step_6.draw(figsize=(7, 7))"
      ],
      "execution_count": 188,
      "outputs": [
        {
          "output_type": "display_data",
          "data": {
            "image/png": "[encoded data removed]",
            "text/plain": [
              "<Figure size 504x504 with 1 Axes>"
            ]
          },
          "metadata": {
            "tags": [],
            "needs_background": "light"
          }
        }
      ]
    },
    {
      "cell_type": "code",
      "metadata": {
        "colab": {
          "base_uri": "https://localhost:8080/",
          "height": 1000
        },
        "id": "a66TS9_bFa-u",
        "outputId": "146455d6-fb69-4cec-a9e6-a46f3548b54c"
      },
      "source": [
        "\n",
        "\n",
        "def get_tiramisu_layer(n):\n",
        "    egg, white, yolk = Ty('egg'), Ty('white'), Ty('yolk')\n",
        "    crack = Box('Crack', dom=egg, cod=white @ yolk)\n",
        "    sugar, yolky_paste = Ty('sugar'), Ty('yolky_paste')\n",
        "    beat = Box('beat', yolk @ sugar, yolky_paste)\n",
        "    white, whisked_whites = Ty('white'), Ty('whisked_white')\n",
        "    cream, thick_paste = Ty('marcaspone'), Ty('thick_paste')\n",
        "    creama = Ty('filling')\n",
        "\n",
        "    whisk = Box('whisk', white, whisked_whites)\n",
        "\n",
        "    stir = Box('stir', yolky_paste @ cream, thick_paste)\n",
        "\n",
        "    create_filling = Box('create_filling_layer', whisked_whites @ thick_paste, creama)\n",
        "\n",
        "\n",
        "    step_1 = crack @ Id(sugar) @ Id(cream)\n",
        "    step_2 = Id(white) @ beat  @ Id(cream)\n",
        "    step_3 = step_1 >> step_2 \n",
        "    step_4 =  step_3  >>  whisk @ Id(yolky_paste) @ Id(cream)\n",
        "    step_5 = step_4 >> Id(whisked_whites) @ stir \n",
        "    step_6 = step_5 >> create_filling\n",
        "    answer = step_6\n",
        "\n",
        "    while(n-1):\n",
        "        answer @= step_6\n",
        "        n -= 1\n",
        "    return answer\n",
        "\n",
        "get_tiramisu_layer(3).draw(figsize=(15, 15))"
      ],
      "execution_count": 189,
      "outputs": [
        {
          "output_type": "display_data",
          "data": {
            "image/png": "[encoded data removed]",
            "text/plain": [
              "<Figure size 1080x1080 with 1 Axes>"
            ]
          },
          "metadata": {
            "tags": [],
            "needs_background": "light"
          }
        }
      ]
    },
    {
      "cell_type": "code",
      "metadata": {
        "colab": {
          "base_uri": "https://localhost:8080/",
          "height": 319
        },
        "id": "q4kXCBX-6M7J",
        "outputId": "68318448-2fe3-4629-9e9a-53b3cb9a2ec3"
      },
      "source": [
        "from discopy import Swap\n",
        "\n",
        "merge = lambda x: Box('merge', x @ x, x)\n",
        "\n",
        "crack_two_eggs = crack @ crack\\\n",
        "    >> Id(white) @ Swap(yolk, white) @ Id(yolk)\\\n",
        "    >> merge(white) @ merge(yolk)\n",
        "\n",
        "crack_two_eggs.draw(figsize=(3, 4))"
      ],
      "execution_count": 190,
      "outputs": [
        {
          "output_type": "display_data",
          "data": {
            "image/png": "[encoded data removed]",
            "text/plain": [
              "<Figure size 216x288 with 1 Axes>"
            ]
          },
          "metadata": {
            "tags": [],
            "needs_background": "light"
          }
        }
      ]
    },
    {
      "cell_type": "code",
      "metadata": {
        "id": "Hq-dKrHB6hKV"
      },
      "source": [
        "#########################"
      ],
      "execution_count": 191,
      "outputs": []
    },
    {
      "cell_type": "code",
      "metadata": {
        "colab": {
          "base_uri": "https://localhost:8080/"
        },
        "id": "5Y4pGGoj6hG2",
        "outputId": "227762ac-ce31-418e-fa9b-c57fd549c7e9"
      },
      "source": [
        "from discopy import Dim, Tensor\n",
        "\n",
        "matrix = Tensor(Dim(2), Dim(2), [0, 1, 1, 0])\n",
        "\n",
        "matrix.array"
      ],
      "execution_count": 192,
      "outputs": [
        {
          "output_type": "execute_result",
          "data": {
            "text/plain": [
              "array([[0, 1],\n",
              "       [1, 0]])"
            ]
          },
          "metadata": {
            "tags": []
          },
          "execution_count": 192
        }
      ]
    },
    {
      "cell_type": "code",
      "metadata": {
        "colab": {
          "base_uri": "https://localhost:8080/"
        },
        "id": "tyyID5JB6hDm",
        "outputId": "e5e86f29-9aa1-432c-cfdd-8fa4c3f29ae5"
      },
      "source": [
        "assert matrix >> Tensor.id(Dim(2)) == matrix == Tensor.id(Dim(2)) >> matrix\n",
        "\n",
        "vector = Tensor(Dim(1), Dim(2), [0, 1])\n",
        "\n",
        "vector >> matrix"
      ],
      "execution_count": 193,
      "outputs": [
        {
          "output_type": "execute_result",
          "data": {
            "text/plain": [
              "Tensor(dom=Dim(1), cod=Dim(2), array=[1, 0])"
            ]
          },
          "metadata": {
            "tags": []
          },
          "execution_count": 193
        }
      ]
    },
    {
      "cell_type": "code",
      "metadata": {
        "colab": {
          "base_uri": "https://localhost:8080/"
        },
        "id": "YF4tUdBZ6hAe",
        "outputId": "0467617a-3203-4393-9f37-be1c26b2169d"
      },
      "source": [
        "assert Tensor.id(Dim(1)) @ matrix == matrix == matrix @ Tensor.id(Dim(1))\n",
        "\n",
        "Tensor.id(Dim(1))"
      ],
      "execution_count": 194,
      "outputs": [
        {
          "output_type": "execute_result",
          "data": {
            "text/plain": [
              "Tensor(dom=Dim(1), cod=Dim(1), array=[1.])"
            ]
          },
          "metadata": {
            "tags": []
          },
          "execution_count": 194
        }
      ]
    },
    {
      "cell_type": "code",
      "metadata": {
        "colab": {
          "base_uri": "https://localhost:8080/"
        },
        "id": "wY90UGsm6g9g",
        "outputId": "8a52ee17-b8be-4538-f304-1faf5fa7d582"
      },
      "source": [
        "vector @ vector"
      ],
      "execution_count": 195,
      "outputs": [
        {
          "output_type": "execute_result",
          "data": {
            "text/plain": [
              "Tensor(dom=Dim(1), cod=Dim(2, 2), array=[0, 0, 0, 1])"
            ]
          },
          "metadata": {
            "tags": []
          },
          "execution_count": 195
        }
      ]
    },
    {
      "cell_type": "code",
      "metadata": {
        "colab": {
          "base_uri": "https://localhost:8080/"
        },
        "id": "VWOu1XWu6g6N",
        "outputId": "f74d36db-76cc-4fb2-bfa4-f0fc994a4cc6"
      },
      "source": [
        "vector @ matrix"
      ],
      "execution_count": 196,
      "outputs": [
        {
          "output_type": "execute_result",
          "data": {
            "text/plain": [
              "Tensor(dom=Dim(2), cod=Dim(2, 2), array=[0, 0, 0, 1, 0, 0, 1, 0])"
            ]
          },
          "metadata": {
            "tags": []
          },
          "execution_count": 196
        }
      ]
    },
    {
      "cell_type": "code",
      "metadata": {
        "id": "YZoo0Wy3vTby"
      },
      "source": [
        "import numpy as np\n",
        "\n",
        "assert np.all(\n",
        "    (matrix >> matrix).array == matrix.array.dot(matrix.array))\n",
        "assert np.all(\n",
        "    (matrix @ matrix).array == np.moveaxis(np.tensordot(\n",
        "    matrix.array, matrix.array, 0), range(4), [0, 2, 1, 3]))"
      ],
      "execution_count": 197,
      "outputs": []
    },
    {
      "cell_type": "code",
      "metadata": {
        "colab": {
          "base_uri": "https://localhost:8080/"
        },
        "id": "a_5XfIOxvTY7",
        "outputId": "f9f11369-4ca7-4ecd-b25d-8df815a0cdf1"
      },
      "source": [
        "matrix = Tensor(Dim(2), Dim(2), [0, -1j, 1j, 0])\n",
        "\n",
        "matrix >> matrix[::-1]"
      ],
      "execution_count": 198,
      "outputs": [
        {
          "output_type": "execute_result",
          "data": {
            "text/plain": [
              "Tensor(dom=Dim(2), cod=Dim(2), array=[1.+0.j, 0.+0.j, 0.+0.j, 1.+0.j])"
            ]
          },
          "metadata": {
            "tags": []
          },
          "execution_count": 198
        }
      ]
    },
    {
      "cell_type": "code",
      "metadata": {
        "id": "Ytwvxou0vTWH"
      },
      "source": [
        "################### task 3 quantum circuits ###"
      ],
      "execution_count": 199,
      "outputs": []
    },
    {
      "cell_type": "code",
      "metadata": {
        "id": "x2PEVEZwDNxm"
      },
      "source": [
        "##############exercises for task 3######################"
      ],
      "execution_count": null,
      "outputs": []
    },
    {
      "cell_type": "code",
      "metadata": {
        "colab": {
          "base_uri": "https://localhost:8080/"
        },
        "id": "bLKX4QT8DNtK",
        "outputId": "89e9b18a-fbb6-4ecc-d77b-7c077f9ad8b0"
      },
      "source": [
        "####1 bell experiment using cirq#####\n",
        "\n",
        "import cirq \n",
        "\n",
        "\n",
        "q0 = cirq.GridQubit(0, 0) \n",
        "q1 = cirq.GridQubit(0, 1) \n",
        "\n",
        "\n",
        "circuit = cirq.Circuit() \n",
        "\n",
        "\n",
        "circuit.append(cirq.H(q0)) \n",
        "circuit.append(cirq.CX(q0,q1)) \n",
        "\n",
        "circuit.append(cirq.measure(q0, key='m0'))  \n",
        "circuit.append(cirq.measure(q1, key='m1')) \n",
        "\n",
        "print(\"Circuit:\")\n",
        "print(circuit) \n",
        "\n",
        "shots = \n",
        "simulator = cirq.Simulator() \n",
        "result = simulator.run(circuit, repetitions=shots) "
      ],
      "execution_count": 237,
      "outputs": [
        {
          "output_type": "stream",
          "text": [
            "Circuit:\n",
            "(0, 0): ───H───@───M('m0')───\n",
            "               │\n",
            "(0, 1): ───────X───M('m1')───\n",
            "Results:\n",
            "m0=1011011000001100110110011111110011000000100010101011100000000101101000000011011111101101001101111111110000011100110100011010001000110001111010111110011011111000000001011101101111111110000101001110100010100111110001101111100010100110000010011010000110111000101101110100000000011100101001011001100111011010100111110001110111111110011001001001011111100110111100010111011101101101100101100011101000100111100010100001110101111100000001011111010011010001101101011110011111000011011100110010111111101000110110010011001001100100100110001111111011100101100010010111100100100010011000001101000010100011101011111000101111000000110000101110001100010011101110011111101110001001110110010011000011011011000011011110010010111100111000101001111110001000000010011010111001011010100010100111101101110101101110000111001110110011101000111000101111101000110110111000001101111011011001000000111100100111001011100001111100101110000001000001001011010101101000001100101001011001001011000001000100001000110100000111001101010000101100101000010001001101001001011010011000000101010100000101111111010111010011101110010100010100111001000111000011010000100110010011000100001100001011110110100011100100000101011011100011101101111011100110110101011111010100010000001100011000010110000111000000010010010000000000101101111001011001011100100100000111101101011101100101001100100111000000001100110100000100111000010000111010000101001101111101011110110010001111111001111100111010001111001010110100110111000000010101100000111000010000110010000010111010101010101010000111011000011000001001100001111010001110011111000110110100001010110001011001011101100001011000011111011111010101101111100000000000010011000110001111000010000101110011001101000111010111110010011001001101000010100100110010100010011010001111000000011110110011011010101001001001111011010010011011010011010111000100111000101011010111000100101000100110101011000111011110011101001111010111100010010000011101110001011100010100001100010010011100000111110000011000000011110011111101010100001011001000110111010000001001010000011101100000000001100111101101101111111101010001111101010111001101111010000000010010101101110010110101010010000101111101110110100011110100011100011010010001101011000010000010001001000111001111000101010010110111001111100001110110011010110011111101011110110010000000011010111101110110010101001000011010111100001110111010110110101000001101010110000110001100101110011101110100100110000110110110110110011011011110111101011011101111011110010111000110101110011001001001111000011000010111100111111011000010111001111000101000100100111010000010101110100000111100001110000001011011000011101000110000011010101011100000100100000011111001011010011101100111001000000000001010100011111010101111001000100100001010111111110010100001001011010010101110110010001010110000110110000100001000010110111001001110100110111101011001010100011001010010010010000001010100011000101010100011101001011011111101011101101111100010101101011001110111100101000010111010101010100100110111111101111011101101101111010100010010110110010101111101010001100101001111111101000011110001100110111010010001110011000111101001100100001010010111101010100100100100000011001111000011011000011110111100010101101000100100011110111001010011000010111010101010000001001100010100101011001110010101111110011000011100101011000100000000110010000110101110110011010000010011101100001011111101111110110000011111011101011010111111101101111111001000111010111111110101101001111000011101101010000000001111100000000110101000010110110011110111000011100011110100001011010010001011101110000011011100101110100011111011100110111111100001000011101010000011100011111010000010111001111111111101001000101100100111110111110111000101011010101000101100111111101100010010010100100010100101101111001010010101011101111111001011100111100110010100101101101101100111100111000101000001010111001100110100111111100110011011001010101111101111011011000000000110010010001001100000101100101100111111101010110110001011011100010101111100011101100100111110101010000001011110101011011011011111111010110011011110100110101100000111010010100010010100011100010011010010000111111100101000011001101010111110010101000001111101000101000001110110010100111000100011011111000010001111110110100110001101111100100100110111001111110000000010010011111010001110110100011101001110001010101011111000101101101000010101111100101001000011000101111100101111010110010101111001010101000111000010011010001010110111011100111110011001001001110001011111010111000001101101010111001101111101111110111101111111010111110100100100001101111111011101101110100110011101101110010101001100110111111000000101010101000001110011010110001000011100011010000101100011001101000100011101110010110011110111100111001000101000111101001100000111101011001010010110111000101110010001111011100111101010000100111111101101101100101101010111100000100000011100110101110101010000110000000100100111100001101100100010100010100101010111111101011000111010110010111001111010011111010011101001001010110110100011000100000100000001101000011101011101110111101111000010110101100001110010101101010111011100100110111110011000000111001100111010101010110001000001001011010100001100111111010100010100100001001010001000001100110000010011010011110111001001101111100010101100011011111011110110000011000011110100001111110000011101010111100110111000000101101111011011110110100011000101010010100101010110000001010011100101001101001011010111010001001101100110001001110001111000100010111010011110111110000100010110001101110000011111110010100000101100000011001100001001101010011111101101111011101010000111111101011100100000000011011111000101100110010110111110011010101000100001111001000011101111101001001000100110110000001101010011111110110110010110111010000110011000010110011111001110100011101011111101101011111010101011110100111011100001010101110010011000011110110001110011000011010110111011000010001101011011111100111111000000111100111001000111001111110010011001110101101000000111001101110001001111010101111010001101110111010000001010111001001000110101010000111011011111110100000111100101011110100100101111001010110111101011111100101000110110010101110110000010000111010000100000000000100010000101001101001001001010101001011100111001010000110100011100111111011110101111010010000111010101101100010000011101000011111010010110011110010111011001111001001111000100100011001010101001001111101010000011001110000001011110101111010100000111101100101000110111010111111011010100110000010001110011111110001111101101011111101110100101110110000011100101000100011111000010111000110010011101101011110011101011111100010001101101010101110111001110001100110111010010000001110101000011111110100000111010000110000111100100001000001010011111000110001010110101111001011101101000001101110111101010011100111000110100010001001100100110001101110111111111111100001001101001110010110010010111010000110000001001001111000001010101000010001110011101011011011100000001110101011001011010011000101101001110010111100111111010001100110010011011011110101110101111011100010100000011000011010101010110011001011100111111011111110110011001110101011000010000011101110111011011010001001000011111000001011001011100110100101001010101000100000011010110101010100001010100010000001000000101101110010101110000100010000101101010101100000011101011100010001101010001100010000110100001000000111101100010001110011000001001101111111001001000010101101001001000001101000110010101100000100010011110010000111101011010000001101111000001000100110101100101001100000110000000101010110001110111000111000111101010110101011000000100011000011000100010001011011001110101100010010101001000100010000110001001011001100111100000101111011111110111000101110000001011010000110100100100101001010000100000011110111111001010001001101110101111011001010011011100001000101010010001010111110110100101001110000111110111010101110000010101111101011110000110001101001001111110001100100000101011110110100110011101111000111010101000001101101001011110100111110000011000010010001011000111110001000010001001001011011101010110011011011000001101000000101111111111010111100111101001011011111110100100010001111111100011000000000100001001010111111001100110010000001110110001101000000000100011110101010011011011101001100011001000000011111011000000111111001011100001110011110001011011111010110111010000000011101100011010110100000101010011110110111011100010010010111000000110100101001111111011110110110011010110011010100101101001001000101110100011000100100010000110010001000111010011011111111000110111010111010010100000100010100101111100100011000100110011100100101110110101101111110001011000011000001000111011111010101110010000110010010001001100010010110000000000000010001011111000111000110000111101101011100111001110111100010111111101101010000101000011000100100011000101011100010011110110110101001110000011101110010100111101111111100100110110110000010100100110101000011100011111110000000010100001100110010000001011000011000010000010110111100101110101111101000100000100001011000100001111010111011101100001010011111011011111001101010110110000100001010010110001111100100001011110101101111010010100001101011111101010111111011101000101000100010000001011010011010001011010001011100011000101000101001010000101111010101110000111101001100010000111011110000110000000101101000001010101110010101100010011001010101111001000110101010010100110010110111010001000011001111000011100000101010100010111011101110001001101100111000001011111111100110110101010001011110101101000100111011111111010010010001111001010110101111100100001010100010100111111111010110110010111011011000011101111110001000001001011111101101101100111010111000011001101110000001110010101010000011010011010110110110001101101101111100001011010101101101011011011110101100111100000010001011110001011001111111010011000101001101000010110100111110110001010100101001011111111010101010110110010100001010111001101001101101110011001000110010100101100110111111010011111010010100101111100101101011100110001100010100111101111000001111101000000100100101000010111010001011111001111101111010010011000110101001101\n",
            "m1=1011011000001100110110011111110011000000100010101011100000000101101000000011011111101101001101111111110000011100110100011010001000110001111010111110011011111000000001011101101111111110000101001110100010100111110001101111100010100110000010011010000110111000101101110100000000011100101001011001100111011010100111110001110111111110011001001001011111100110111100010111011101101101100101100011101000100111100010100001110101111100000001011111010011010001101101011110011111000011011100110010111111101000110110010011001001100100100110001111111011100101100010010111100100100010011000001101000010100011101011111000101111000000110000101110001100010011101110011111101110001001110110010011000011011011000011011110010010111100111000101001111110001000000010011010111001011010100010100111101101110101101110000111001110110011101000111000101111101000110110111000001101111011011001000000111100100111001011100001111100101110000001000001001011010101101000001100101001011001001011000001000100001000110100000111001101010000101100101000010001001101001001011010011000000101010100000101111111010111010011101110010100010100111001000111000011010000100110010011000100001100001011110110100011100100000101011011100011101101111011100110110101011111010100010000001100011000010110000111000000010010010000000000101101111001011001011100100100000111101101011101100101001100100111000000001100110100000100111000010000111010000101001101111101011110110010001111111001111100111010001111001010110100110111000000010101100000111000010000110010000010111010101010101010000111011000011000001001100001111010001110011111000110110100001010110001011001011101100001011000011111011111010101101111100000000000010011000110001111000010000101110011001101000111010111110010011001001101000010100100110010100010011010001111000000011110110011011010101001001001111011010010011011010011010111000100111000101011010111000100101000100110101011000111011110011101001111010111100010010000011101110001011100010100001100010010011100000111110000011000000011110011111101010100001011001000110111010000001001010000011101100000000001100111101101101111111101010001111101010111001101111010000000010010101101110010110101010010000101111101110110100011110100011100011010010001101011000010000010001001000111001111000101010010110111001111100001110110011010110011111101011110110010000000011010111101110110010101001000011010111100001110111010110110101000001101010110000110001100101110011101110100100110000110110110110110011011011110111101011011101111011110010111000110101110011001001001111000011000010111100111111011000010111001111000101000100100111010000010101110100000111100001110000001011011000011101000110000011010101011100000100100000011111001011010011101100111001000000000001010100011111010101111001000100100001010111111110010100001001011010010101110110010001010110000110110000100001000010110111001001110100110111101011001010100011001010010010010000001010100011000101010100011101001011011111101011101101111100010101101011001110111100101000010111010101010100100110111111101111011101101101111010100010010110110010101111101010001100101001111111101000011110001100110111010010001110011000111101001100100001010010111101010100100100100000011001111000011011000011110111100010101101000100100011110111001010011000010111010101010000001001100010100101011001110010101111110011000011100101011000100000000110010000110101110110011010000010011101100001011111101111110110000011111011101011010111111101101111111001000111010111111110101101001111000011101101010000000001111100000000110101000010110110011110111000011100011110100001011010010001011101110000011011100101110100011111011100110111111100001000011101010000011100011111010000010111001111111111101001000101100100111110111110111000101011010101000101100111111101100010010010100100010100101101111001010010101011101111111001011100111100110010100101101101101100111100111000101000001010111001100110100111111100110011011001010101111101111011011000000000110010010001001100000101100101100111111101010110110001011011100010101111100011101100100111110101010000001011110101011011011011111111010110011011110100110101100000111010010100010010100011100010011010010000111111100101000011001101010111110010101000001111101000101000001110110010100111000100011011111000010001111110110100110001101111100100100110111001111110000000010010011111010001110110100011101001110001010101011111000101101101000010101111100101001000011000101111100101111010110010101111001010101000111000010011010001010110111011100111110011001001001110001011111010111000001101101010111001101111101111110111101111111010111110100100100001101111111011101101110100110011101101110010101001100110111111000000101010101000001110011010110001000011100011010000101100011001101000100011101110010110011110111100111001000101000111101001100000111101011001010010110111000101110010001111011100111101010000100111111101101101100101101010111100000100000011100110101110101010000110000000100100111100001101100100010100010100101010111111101011000111010110010111001111010011111010011101001001010110110100011000100000100000001101000011101011101110111101111000010110101100001110010101101010111011100100110111110011000000111001100111010101010110001000001001011010100001100111111010100010100100001001010001000001100110000010011010011110111001001101111100010101100011011111011110110000011000011110100001111110000011101010111100110111000000101101111011011110110100011000101010010100101010110000001010011100101001101001011010111010001001101100110001001110001111000100010111010011110111110000100010110001101110000011111110010100000101100000011001100001001101010011111101101111011101010000111111101011100100000000011011111000101100110010110111110011010101000100001111001000011101111101001001000100110110000001101010011111110110110010110111010000110011000010110011111001110100011101011111101101011111010101011110100111011100001010101110010011000011110110001110011000011010110111011000010001101011011111100111111000000111100111001000111001111110010011001110101101000000111001101110001001111010101111010001101110111010000001010111001001000110101010000111011011111110100000111100101011110100100101111001010110111101011111100101000110110010101110110000010000111010000100000000000100010000101001101001001001010101001011100111001010000110100011100111111011110101111010010000111010101101100010000011101000011111010010110011110010111011001111001001111000100100011001010101001001111101010000011001110000001011110101111010100000111101100101000110111010111111011010100110000010001110011111110001111101101011111101110100101110110000011100101000100011111000010111000110010011101101011110011101011111100010001101101010101110111001110001100110111010010000001110101000011111110100000111010000110000111100100001000001010011111000110001010110101111001011101101000001101110111101010011100111000110100010001001100100110001101110111111111111100001001101001110010110010010111010000110000001001001111000001010101000010001110011101011011011100000001110101011001011010011000101101001110010111100111111010001100110010011011011110101110101111011100010100000011000011010101010110011001011100111111011111110110011001110101011000010000011101110111011011010001001000011111000001011001011100110100101001010101000100000011010110101010100001010100010000001000000101101110010101110000100010000101101010101100000011101011100010001101010001100010000110100001000000111101100010001110011000001001101111111001001000010101101001001000001101000110010101100000100010011110010000111101011010000001101111000001000100110101100101001100000110000000101010110001110111000111000111101010110101011000000100011000011000100010001011011001110101100010010101001000100010000110001001011001100111100000101111011111110111000101110000001011010000110100100100101001010000100000011110111111001010001001101110101111011001010011011100001000101010010001010111110110100101001110000111110111010101110000010101111101011110000110001101001001111110001100100000101011110110100110011101111000111010101000001101101001011110100111110000011000010010001011000111110001000010001001001011011101010110011011011000001101000000101111111111010111100111101001011011111110100100010001111111100011000000000100001001010111111001100110010000001110110001101000000000100011110101010011011011101001100011001000000011111011000000111111001011100001110011110001011011111010110111010000000011101100011010110100000101010011110110111011100010010010111000000110100101001111111011110110110011010110011010100101101001001000101110100011000100100010000110010001000111010011011111111000110111010111010010100000100010100101111100100011000100110011100100101110110101101111110001011000011000001000111011111010101110010000110010010001001100010010110000000000000010001011111000111000110000111101101011100111001110111100010111111101101010000101000011000100100011000101011100010011110110110101001110000011101110010100111101111111100100110110110000010100100110101000011100011111110000000010100001100110010000001011000011000010000010110111100101110101111101000100000100001011000100001111010111011101100001010011111011011111001101010110110000100001010010110001111100100001011110101101111010010100001101011111101010111111011101000101000100010000001011010011010001011010001011100011000101000101001010000101111010101110000111101001100010000111011110000110000000101101000001010101110010101100010011001010101111001000110101010010100110010110111010001000011001111000011100000101010100010111011101110001001101100111000001011111111100110110101010001011110101101000100111011111111010010010001111001010110101111100100001010100010100111111111010110110010111011011000011101111110001000001001011111101101101100111010111000011001101110000001110010101010000011010011010110110110001101101101111100001011010101101101011011011110101100111100000010001011110001011001111111010011000101001101000010110100111110110001010100101001011111111010101010110110010100001010111001101001101101110011001000110010100101100110111111010011111010010100101111100101101011100110001100010100111101111000001111101000000100100101000010111010001011111001111101111010010011000110101001101\n"
          ],
          "name": "stdout"
        }
      ]
    },
    {
      "cell_type": "code",
      "metadata": {
        "colab": {
          "base_uri": "https://localhost:8080/",
          "height": 386
        },
        "id": "YvH4C53GN26h",
        "outputId": "0a786ffb-0afd-4d77-f265-7c946093ee5d"
      },
      "source": [
        "counts = cirq.plot_state_histogram(result)"
      ],
      "execution_count": 238,
      "outputs": [
        {
          "output_type": "stream",
          "text": [
            "/usr/local/lib/python3.7/dist-packages/ipykernel_launcher.py:1: DeprecationWarning: cirq.study.visualize.plot_state_histogram was used but is deprecated.\n",
            "It will be removed in cirq v0.12.\n",
            "use cirq.vis.plot_state_histogram or cirq.vis.get_state_histogram instead\n",
            "\n",
            "  \"\"\"Entry point for launching an IPython kernel.\n"
          ],
          "name": "stderr"
        },
        {
          "output_type": "display_data",
          "data": {
            "image/png": "[encoded data removed]",
            "text/plain": [
              "<Figure size 432x288 with 1 Axes>"
            ]
          },
          "metadata": {
            "tags": [],
            "needs_background": "light"
          }
        }
      ]
    },
    {
      "cell_type": "code",
      "metadata": {
        "colab": {
          "base_uri": "https://localhost:8080/"
        },
        "id": "PndjLCl3N7jF",
        "outputId": "2e18324e-884c-4030-af23-a34be0e3439f"
      },
      "source": [
        "print(\"Probabiity =\", counts/shots) "
      ],
      "execution_count": 239,
      "outputs": [
        {
          "output_type": "stream",
          "text": [
            "Probabiity = [0.4962 0.     0.     0.5038]\n"
          ],
          "name": "stdout"
        }
      ]
    },
    {
      "cell_type": "code",
      "metadata": {
        "id": "eFSnOEWQOOYn"
      },
      "source": [
        "#####2 circuit to create GHZ state###"
      ],
      "execution_count": null,
      "outputs": []
    },
    {
      "cell_type": "code",
      "metadata": {
        "colab": {
          "base_uri": "https://localhost:8080/",
          "height": 125
        },
        "id": "MfnrRwauOOVW",
        "outputId": "4490a736-ba1d-48a8-a85a-8eb8ee982db9"
      },
      "source": [
        "circ = QuantumCircuit(3)\n",
        "\n",
        "\n",
        "circ.h(0)\n",
        "circ.cx(0, 1)\n",
        "circ.cx(0, 2)\n",
        "\n",
        "\n",
        "circ.draw()"
      ],
      "execution_count": 243,
      "outputs": [
        {
          "output_type": "execute_result",
          "data": {
            "text/html": [
              "<pre style=\"word-wrap: normal;white-space: pre;background: #fff0;line-height: 1.1;font-family: &quot;Courier New&quot;,Courier,monospace\">     ┌───┐          \n",
              "q_0: ┤ H ├──■────■──\n",
              "     └───┘┌─┴─┐  │  \n",
              "q_1: ─────┤ X ├──┼──\n",
              "          └───┘┌─┴─┐\n",
              "q_2: ──────────┤ X ├\n",
              "               └───┘</pre>"
            ],
            "text/plain": [
              "     ┌───┐          \n",
              "q_0: ┤ H ├──■────■──\n",
              "     └───┘┌─┴─┐  │  \n",
              "q_1: ─────┤ X ├──┼──\n",
              "          └───┘┌─┴─┐\n",
              "q_2: ──────────┤ X ├\n",
              "               └───┘"
            ]
          },
          "metadata": {
            "tags": []
          },
          "execution_count": 243
        }
      ]
    },
    {
      "cell_type": "code",
      "metadata": {
        "id": "noyrXc6_OOSC"
      },
      "source": [
        "##### 3 "
      ],
      "execution_count": null,
      "outputs": []
    },
    {
      "cell_type": "code",
      "metadata": {
        "id": "wRUoho9zOOO3"
      },
      "source": [
        ""
      ],
      "execution_count": null,
      "outputs": []
    },
    {
      "cell_type": "code",
      "metadata": {
        "id": "OMi-uJLtOOLx"
      },
      "source": [
        ""
      ],
      "execution_count": null,
      "outputs": []
    },
    {
      "cell_type": "code",
      "metadata": {
        "id": "19OYzGj4OOIp"
      },
      "source": [
        ""
      ],
      "execution_count": null,
      "outputs": []
    },
    {
      "cell_type": "code",
      "metadata": {
        "id": "wEUbHM6TOOFg"
      },
      "source": [
        ""
      ],
      "execution_count": null,
      "outputs": []
    },
    {
      "cell_type": "code",
      "metadata": {
        "id": "pFX67bhqOOB3"
      },
      "source": [
        ""
      ],
      "execution_count": null,
      "outputs": []
    },
    {
      "cell_type": "code",
      "metadata": {
        "id": "AF00CS2TON-s"
      },
      "source": [
        ""
      ],
      "execution_count": null,
      "outputs": []
    }
  ]
}