{
 "cells": [
  {
   "cell_type": "code",
   "execution_count": 1,
   "id": "0f0c5a5b-020e-49be-b15f-f6f3f24d31e4",
   "metadata": {},
   "outputs": [],
   "source": [
    "import jax.numpy as np\n",
    "from jax import jit\n",
    "from discopy import Tensor\n",
    "Tensor.np = np\n",
    "\n",
    "import discopy"
   ]
  },
  {
   "cell_type": "code",
   "execution_count": 2,
   "id": "0e6b2c6f-1ae1-48d2-a179-4b443a7bb9e0",
   "metadata": {},
   "outputs": [
    {
     "name": "stderr",
     "output_type": "stream",
     "text": [
      "WARNING:absl:No GPU/TPU found, falling back to CPU. (Set TF_CPP_MIN_LOG_LEVEL=0 and rerun for more info.)\n"
     ]
    }
   ],
   "source": [
    "#******************************************\n",
    "# Generate your corpus\n",
    "#******************************************\n",
    "# sentences can be of the `word1 word2 word3 ...`\n",
    "# if you are generating the diagrams using templates\n",
    "# then you may want to consider adding POS tags (N, V, Adj) for each word\n",
    "# labels should be of the form [0,1] or [1,0] for binary classification\n",
    "\n",
    "# TODO make sentences\n",
    "train_sentences = ['Alice loves Bob', 'Alice hates Eve', 'Bob kills Eve']\n",
    "dev_sentences = ['Alice likes Bob', 'Alice dislikes Eve', 'Bob murders Eve']\n",
    "test_sentences = ['Alice adores Bob', 'Alice detests Eve', 'Bob assassinates Eve']\n",
    "\n",
    "# TODO make labels\n",
    "train_labels = [1,0,1]\n",
    "dev_labels = [1,0,1]\n",
    "test_labels = [1,0,1]\n",
    "\n",
    "train_labels = np.array(train_labels)\n",
    "dev_labels = np.array(dev_labels)\n",
    "test_labels = np.array(test_labels)"
   ]
  },
  {
   "cell_type": "code",
   "execution_count": 3,
   "id": "635a155c-a226-432b-8d75-a56262311036",
   "metadata": {},
   "outputs": [
    {
     "data": {
      "text/plain": [
       "DeviceArray([1, 0, 1], dtype=int32)"
      ]
     },
     "execution_count": 3,
     "metadata": {},
     "output_type": "execute_result"
    }
   ],
   "source": [
    "train_labels"
   ]
  },
  {
   "cell_type": "code",
   "execution_count": 4,
   "id": "0af57cfe-6170-48ab-8e1b-1b282a59bc62",
   "metadata": {},
   "outputs": [],
   "source": [
    "from discopy import Ty, Word, Cup, Id\n",
    "\n",
    "s, n = Ty('s'), Ty('n')\n",
    "tv = n.r @ s @ n.l\n",
    "\n",
    "grammar = Cup(n, n.r) @ Id(s) @ Cup(n.l, n)\n",
    "\n",
    "def sentence2diagram(s):\n",
    "    for subj, verb, obj in [s.split(' ')]:\n",
    "        diagram = Word(subj, n) @ Word(verb, tv) @ Word(obj, n) >> grammar\n",
    "        #diagram = {s: Word(subj, n) @ Word(verb, tv) @ Word(obj, n) >> grammar}\n",
    "    return diagram\n",
    "    #diagrams[sentence].draw()\n",
    "    #print(\"Pregroup diagram for '{}'\".format(sentence))\n",
    "    #print(sentence)\n",
    "    #print(subj)"
   ]
  },
  {
   "cell_type": "code",
   "execution_count": 5,
   "id": "b95b7f19-9c86-4db1-a2d9-269c28136ea1",
   "metadata": {},
   "outputs": [
    {
     "data": {
      "image/png": "[encoded data removed]",
      "text/plain": [
       "<Figure size 640x480 with 1 Axes>"
      ]
     },
     "metadata": {},
     "output_type": "display_data"
    }
   ],
   "source": [
    "#******************************************\n",
    "# Generate your diagrams\n",
    "#******************************************\n",
    "# TODO generate the DisCoCat diagrams for your corpus. There are 2 options:\n",
    "# 1. Follow a few fixed templates (N V N, N V Adj N, ...)\n",
    "# 2. Use the online tool to generate diagrams. \n",
    "# If you are using the online tool, consider writing a script.\n",
    "\n",
    "# Suggestion: print out some of your DisCoCat diagrams using\n",
    "# `grammar.draw` to check that they make sense.\n",
    "\n",
    "# TODO implement sentence2diagram\n",
    "#sentence2diagram = None\n",
    "\n",
    "train_diagrams = [sentence2diagram(s) for s in train_sentences]\n",
    "dev_diagrams = [sentence2diagram(s) for s in dev_sentences]\n",
    "test_diagrams = [sentence2diagram(s) for s in test_sentences]\n",
    "\n",
    "from discopy import Word, Ty, Cup, Id, grammar\n",
    "from sympy.abc import phi\n",
    "\n",
    "n, s = Ty('n'), Ty('s')\n",
    "\n",
    "# example of how to make your template:\n",
    "# then you use your pos tags to determine which template to use\n",
    "def NVN_example(w0, w1, w2):\n",
    "    words = Word(w0, n) @ Word(w1, n.r @ s @ n.l) @ Word(w2, n)\n",
    "    cups = Cup(n, n.r) @ Id(s) @ Cup(n.l, n)\n",
    "\n",
    "    return words >> cups\n",
    "\n",
    "grammar.draw(NVN_example('Alice', 'likes', 'Bob'))"
   ]
  },
  {
   "cell_type": "code",
   "execution_count": 6,
   "id": "86dae6a6-bfd9-4e4c-bd6f-9191a0823e72",
   "metadata": {},
   "outputs": [
    {
     "data": {
      "text/plain": [
       "\u001b[0;31mType:\u001b[0m        module\n",
       "\u001b[0;31mString form:\u001b[0m <module 'discopy.grammar' from '/home/onofre/anaconda3/envs/QNLP/lib/python3.7/site-packages/discopy/grammar/__init__.py'>\n",
       "\u001b[0;31mFile:\u001b[0m        ~/anaconda3/envs/QNLP/lib/python3.7/site-packages/discopy/grammar/__init__.py\n",
       "\u001b[0;31mDocstring:\u001b[0m  \n",
       "Groups together the grammar modules:\n",
       ":mod:`pregroup`, :mod:`cfg` and :mod:`ccg`\n"
      ]
     },
     "metadata": {},
     "output_type": "display_data"
    }
   ],
   "source": [
    "grammar?"
   ]
  },
  {
   "cell_type": "code",
   "execution_count": 7,
   "id": "65a692e4-7175-441e-8bf0-ef7cd437dc63",
   "metadata": {},
   "outputs": [
    {
     "data": {
      "text/plain": [
       "Diagram(dom=Ty(), cod=Ty('s'), boxes=[Word('Alice', Ty('n')), Word('likes', Ty(Ob('n', z=1), 's', Ob('n', z=-1))), Word('Bob', Ty('n')), Cup(Ty('n'), Ty(Ob('n', z=1))), Cup(Ty(Ob('n', z=-1)), Ty('n'))], offsets=[0, 1, 4, 0, 1])"
      ]
     },
     "execution_count": 7,
     "metadata": {},
     "output_type": "execute_result"
    }
   ],
   "source": [
    "NVN_example('Alice', 'likes', 'Bob')"
   ]
  },
  {
   "cell_type": "code",
   "execution_count": 8,
   "id": "f2057c26-d400-4378-8556-051360cbdc17",
   "metadata": {},
   "outputs": [
    {
     "data": {
      "image/png": "[encoded data removed]",
      "text/plain": [
       "<Figure size 640x480 with 1 Axes>"
      ]
     },
     "metadata": {},
     "output_type": "display_data"
    }
   ],
   "source": [
    "grammar.draw(train_diagrams[2])"
   ]
  },
  {
   "cell_type": "code",
   "execution_count": 9,
   "id": "f17723e7-6813-4c4f-af34-31ebc42d2c37",
   "metadata": {},
   "outputs": [
    {
     "name": "stdout",
     "output_type": "stream",
     "text": [
      "Tensor(dom=Dim(1), cod=Dim(2, 2), array=[0.99999994+0.j, 0.    +0.j, 0.    +0.j, 0.99999994+0.j])\n"
     ]
    }
   ],
   "source": [
    "from discopy.quantum import Ket, H, Rx, CX, sqrt\n",
    "\n",
    "def verb_ansatz(phase):\n",
    "    return Ket(0, 0) >> H @ sqrt(2) @ Rx(phase) >> CX\n",
    "\n",
    "print(verb_ansatz(0).eval())"
   ]
  },
  {
   "cell_type": "code",
   "execution_count": 10,
   "id": "d1bbb9e4-d9e0-4cb4-a43a-eab932373299",
   "metadata": {},
   "outputs": [],
   "source": [
    "from discopy import Diagram, Id, Cup\n",
    "from discopy.grammar import draw"
   ]
  },
  {
   "cell_type": "code",
   "execution_count": 11,
   "id": "f08243e4-309f-4019-813d-333a414eb223",
   "metadata": {},
   "outputs": [],
   "source": [
    "Alice, Bob, Eve = Word('Alice', n), Word('Bob', n), Word('Eve', n)\n",
    "loves, hates, kills =  Word('loves', n.r @ s @ n.l),  Word('hates', n.r @ s @ n.l) , Word('kills', n.r @ s @ n.l)"
   ]
  },
  {
   "cell_type": "code",
   "execution_count": 28,
   "id": "040f855a-278b-4c61-9d44-8a615c1d060e",
   "metadata": {},
   "outputs": [],
   "source": [
    "grammar = Cup(n, n.r) @ Id(s) @ Cup(n.l, n)\n",
    "\n",
    "parsing = {\"{} {} {}\".format(subj, verb, obj): subj @ verb @ obj >> grammar\n",
    "            for subj in [Alice, Bob, Eve] for verb in [loves, hates, kills] for obj in [Alice, Bob, Eve]}"
   ]
  },
  {
   "cell_type": "code",
   "execution_count": 47,
   "id": "0ee26646-0c1d-4cab-b6c4-ff87083551db",
   "metadata": {},
   "outputs": [
    {
     "data": {
      "text/plain": [
       "['Alice loves Bob', 'Alice hates Eve', 'Bob kills Eve']"
      ]
     },
     "execution_count": 47,
     "metadata": {},
     "output_type": "execute_result"
    }
   ],
   "source": [
    "train_sentences"
   ]
  },
  {
   "cell_type": "code",
   "execution_count": 52,
   "id": "9f1de73b-25f5-4a1a-8fbb-fe0b067ea536",
   "metadata": {},
   "outputs": [
    {
     "data": {
      "text/plain": [
       "Diagram(dom=Ty(), cod=Ty('s'), boxes=[Word('Alice', Ty('n')), Word('loves', Ty(Ob('n', z=1), 's', Ob('n', z=-1))), Word('Bob', Ty('n')), Cup(Ty('n'), Ty(Ob('n', z=1))), Cup(Ty(Ob('n', z=-1)), Ty('n'))], offsets=[0, 1, 4, 0, 1])"
      ]
     },
     "execution_count": 52,
     "metadata": {},
     "output_type": "execute_result"
    }
   ],
   "source": [
    "parsing[train_sentences[0]]"
   ]
  },
  {
   "cell_type": "code",
   "execution_count": 51,
   "id": "fc471c07-4c16-4ddd-8f23-7d802e75ce14",
   "metadata": {},
   "outputs": [
    {
     "data": {
      "image/png": "[encoded data removed]",
      "text/plain": [
       "<Figure size 640x480 with 1 Axes>"
      ]
     },
     "metadata": {},
     "output_type": "display_data"
    }
   ],
   "source": [
    "diagram = parsing[train_sentences[1]]\n",
    "#print(\"Diagram for 'Alice loves Bob':\")\n",
    "draw(diagram, draw_type_labels=True)"
   ]
  },
  {
   "cell_type": "code",
   "execution_count": 45,
   "id": "e97c878c-77b1-452f-a920-c36810fa32bb",
   "metadata": {},
   "outputs": [
    {
     "name": "stdout",
     "output_type": "stream",
     "text": [
      "Circuit for 'Alice loves Bob':\n"
     ]
    },
    {
     "data": {
      "image/png": "[encoded data removed]",
      "text/plain": [
       "<Figure size 500x500 with 1 Axes>"
      ]
     },
     "metadata": {},
     "output_type": "display_data"
    }
   ],
   "source": [
    "from discopy import CircuitFunctor, qubit\n",
    "\n",
    "ob = {s: Ty(), n: 1}\n",
    "ar = lambda params: {\n",
    "    Alice: Ket(0), Bob: Ket(1),\n",
    "    loves: verb_ansatz(params['loves']) }\n",
    "\n",
    "F = lambda params: CircuitFunctor(ob, ar(params))\n",
    "\n",
    "params0 = {'loves': 0.5}\n",
    "#params1 = {'hates': 0.6}\n",
    "#params2 = {'kills': 0.4}\n",
    "\n",
    "print(\"Circuit for 'Alice loves Bob':\")\n",
    "F(params0)(parsing[train_sentences[0]]).draw(\n",
    "    aspect='auto', draw_type_labels=False, figsize=(5, 5))\n",
    "#F(params1)(parsing[train_sentences[1]]).draw(\n",
    " #   aspect='auto', draw_type_labels=False, figsize=(5, 5))\n",
    "#F(params2)(parsing[train_sentences[2]]).draw(\n",
    "  #  aspect='auto', draw_type_labels=False, figsize=(5, 5))"
   ]
  },
  {
   "cell_type": "code",
   "execution_count": null,
   "id": "fabaea82-e090-4afd-80a5-fb4838002744",
   "metadata": {},
   "outputs": [],
   "source": []
  },
  {
   "cell_type": "code",
   "execution_count": 57,
   "id": "de9b8428-b1b0-4eec-a76c-5653cb6e469e",
   "metadata": {},
   "outputs": [
    {
     "name": "stdout",
     "output_type": "stream",
     "text": [
      "Circuit for 'Alice loves Bob':\n"
     ]
    },
    {
     "ename": "KeyError",
     "evalue": "'hates'",
     "output_type": "error",
     "traceback": [
      "\u001b[0;31m---------------------------------------------------------------------------\u001b[0m",
      "\u001b[0;31mKeyError\u001b[0m                                  Traceback (most recent call last)",
      "\u001b[0;32m<ipython-input-57-e3bbbdce6d2b>\u001b[0m in \u001b[0;36m<module>\u001b[0;34m\u001b[0m\n\u001b[1;32m     19\u001b[0m \u001b[0;34m\u001b[0m\u001b[0m\n\u001b[1;32m     20\u001b[0m \u001b[0mprint\u001b[0m\u001b[0;34m(\u001b[0m\u001b[0;34m\"Circuit for 'Alice loves Bob':\"\u001b[0m\u001b[0;34m)\u001b[0m\u001b[0;34m\u001b[0m\u001b[0;34m\u001b[0m\u001b[0m\n\u001b[0;32m---> 21\u001b[0;31m F(params0)(parsing[train_sentences[0]]).draw(\n\u001b[0m\u001b[1;32m     22\u001b[0m     aspect='auto', draw_type_labels=False, figsize=(5, 5))\n\u001b[1;32m     23\u001b[0m \u001b[0;31m#F(params1)(parsing[train_sentences[1]]).draw(\u001b[0m\u001b[0;34m\u001b[0m\u001b[0;34m\u001b[0m\u001b[0;34m\u001b[0m\u001b[0m\n",
      "\u001b[0;32m<ipython-input-57-e3bbbdce6d2b>\u001b[0m in \u001b[0;36m<lambda>\u001b[0;34m(params)\u001b[0m\n\u001b[1;32m     12\u001b[0m     kills: verb_ansatz(params['kills']) }\n\u001b[1;32m     13\u001b[0m \u001b[0;34m\u001b[0m\u001b[0m\n\u001b[0;32m---> 14\u001b[0;31m \u001b[0mF\u001b[0m \u001b[0;34m=\u001b[0m \u001b[0;32mlambda\u001b[0m \u001b[0mparams\u001b[0m\u001b[0;34m:\u001b[0m \u001b[0mCircuitFunctor\u001b[0m\u001b[0;34m(\u001b[0m\u001b[0mob\u001b[0m\u001b[0;34m,\u001b[0m \u001b[0mar\u001b[0m\u001b[0;34m(\u001b[0m\u001b[0mparams\u001b[0m\u001b[0;34m)\u001b[0m\u001b[0;34m)\u001b[0m\u001b[0;34m\u001b[0m\u001b[0;34m\u001b[0m\u001b[0m\n\u001b[0m\u001b[1;32m     15\u001b[0m \u001b[0;34m\u001b[0m\u001b[0m\n\u001b[1;32m     16\u001b[0m \u001b[0mparams0\u001b[0m \u001b[0;34m=\u001b[0m \u001b[0;34m{\u001b[0m\u001b[0;34m'loves'\u001b[0m\u001b[0;34m:\u001b[0m \u001b[0;36m0.5\u001b[0m\u001b[0;34m}\u001b[0m\u001b[0;34m\u001b[0m\u001b[0;34m\u001b[0m\u001b[0m\n",
      "\u001b[0;32m<ipython-input-57-e3bbbdce6d2b>\u001b[0m in \u001b[0;36m<lambda>\u001b[0;34m(params)\u001b[0m\n\u001b[1;32m      9\u001b[0m     \u001b[0mAlice\u001b[0m\u001b[0;34m:\u001b[0m \u001b[0mKet\u001b[0m\u001b[0;34m(\u001b[0m\u001b[0;36m0\u001b[0m\u001b[0;34m)\u001b[0m\u001b[0;34m,\u001b[0m \u001b[0mBob\u001b[0m\u001b[0;34m:\u001b[0m \u001b[0mKet\u001b[0m\u001b[0;34m(\u001b[0m\u001b[0;36m1\u001b[0m\u001b[0;34m)\u001b[0m\u001b[0;34m,\u001b[0m \u001b[0mEve\u001b[0m\u001b[0;34m:\u001b[0m \u001b[0mKet\u001b[0m\u001b[0;34m(\u001b[0m\u001b[0;36m0\u001b[0m\u001b[0;34m)\u001b[0m\u001b[0;34m,\u001b[0m\u001b[0;34m\u001b[0m\u001b[0;34m\u001b[0m\u001b[0m\n\u001b[1;32m     10\u001b[0m     \u001b[0mloves\u001b[0m\u001b[0;34m:\u001b[0m \u001b[0mverb_ansatz\u001b[0m\u001b[0;34m(\u001b[0m\u001b[0mparams\u001b[0m\u001b[0;34m[\u001b[0m\u001b[0;34m'loves'\u001b[0m\u001b[0;34m]\u001b[0m\u001b[0;34m)\u001b[0m\u001b[0;34m,\u001b[0m\u001b[0;34m\u001b[0m\u001b[0;34m\u001b[0m\u001b[0m\n\u001b[0;32m---> 11\u001b[0;31m     \u001b[0mhates\u001b[0m\u001b[0;34m:\u001b[0m \u001b[0mverb_ansatz\u001b[0m\u001b[0;34m(\u001b[0m\u001b[0mparams\u001b[0m\u001b[0;34m[\u001b[0m\u001b[0;34m'hates'\u001b[0m\u001b[0;34m]\u001b[0m\u001b[0;34m)\u001b[0m\u001b[0;34m,\u001b[0m\u001b[0;34m\u001b[0m\u001b[0;34m\u001b[0m\u001b[0m\n\u001b[0m\u001b[1;32m     12\u001b[0m     kills: verb_ansatz(params['kills']) }\n\u001b[1;32m     13\u001b[0m \u001b[0;34m\u001b[0m\u001b[0m\n",
      "\u001b[0;31mKeyError\u001b[0m: 'hates'"
     ]
    }
   ],
   "source": [
    "from discopy import CircuitFunctor, qubit\n",
    "\n",
    "ob = {s: Ty(), n: qubit}\n",
    "#ar = lambda params: {\n",
    " #   Alice: Ket(0), Bob: Ket(1), Eve: Ket(0),\n",
    "  #  loves: verb_ansatz(params['loves']) }\n",
    "\n",
    "ar = lambda params: {\n",
    "    Alice: Ket(0), Bob: Ket(1), Eve: Ket(0),\n",
    "    loves: verb_ansatz(params['loves']),\n",
    "    hates: verb_ansatz(params['hates']), \n",
    "    kills: verb_ansatz(params['kills']) }\n",
    "\n",
    "F = lambda params: CircuitFunctor(ob, ar(params))\n",
    "\n",
    "params0 = {'loves': 0.5}\n",
    "params1 = {'hates': 0.6}\n",
    "params2 = {'kills': 0.4}\n",
    "\n",
    "print(\"Circuit for 'Alice loves Bob':\")\n",
    "F(params0)(parsing[train_sentences[0]]).draw(\n",
    "    aspect='auto', draw_type_labels=False, figsize=(5, 5))\n",
    "#F(params1)(parsing[train_sentences[1]]).draw(\n",
    " #   aspect='auto', draw_type_labels=False, figsize=(5, 5))\n",
    "#F(params2)(parsing[train_sentences[2]]).draw(\n",
    "   # aspect='auto', draw_type_labels=False, figsize=(5, 5))"
   ]
  },
  {
   "cell_type": "code",
   "execution_count": 6,
   "id": "457da134-6c2a-4a9d-9fda-b731044b5547",
   "metadata": {},
   "outputs": [
    {
     "ename": "TypeError",
     "evalue": "'NoneType' object is not callable",
     "output_type": "error",
     "traceback": [
      "\u001b[0;31m---------------------------------------------------------------------------\u001b[0m",
      "\u001b[0;31mTypeError\u001b[0m                                 Traceback (most recent call last)",
      "\u001b[0;32m<ipython-input-6-d03ea9267728>\u001b[0m in \u001b[0;36m<module>\u001b[0;34m\u001b[0m\n\u001b[1;32m     13\u001b[0m \u001b[0mdiagram2circuit\u001b[0m \u001b[0;34m=\u001b[0m \u001b[0;32mNone\u001b[0m\u001b[0;34m\u001b[0m\u001b[0;34m\u001b[0m\u001b[0m\n\u001b[1;32m     14\u001b[0m \u001b[0;34m\u001b[0m\u001b[0m\n\u001b[0;32m---> 15\u001b[0;31m \u001b[0mtrain_circuits\u001b[0m \u001b[0;34m=\u001b[0m \u001b[0;34m[\u001b[0m\u001b[0mdiagram2circuit\u001b[0m\u001b[0;34m(\u001b[0m\u001b[0md\u001b[0m\u001b[0;34m)\u001b[0m \u001b[0;32mfor\u001b[0m \u001b[0md\u001b[0m \u001b[0;32min\u001b[0m \u001b[0mtrain_diagrams\u001b[0m\u001b[0;34m]\u001b[0m\u001b[0;34m\u001b[0m\u001b[0;34m\u001b[0m\u001b[0m\n\u001b[0m\u001b[1;32m     16\u001b[0m \u001b[0mdev_circuits\u001b[0m \u001b[0;34m=\u001b[0m \u001b[0;34m[\u001b[0m\u001b[0mdiagram2circuit\u001b[0m\u001b[0;34m(\u001b[0m\u001b[0md\u001b[0m\u001b[0;34m)\u001b[0m \u001b[0;32mfor\u001b[0m \u001b[0md\u001b[0m \u001b[0;32min\u001b[0m \u001b[0mdev_diagrams\u001b[0m\u001b[0;34m]\u001b[0m\u001b[0;34m\u001b[0m\u001b[0;34m\u001b[0m\u001b[0m\n\u001b[1;32m     17\u001b[0m \u001b[0mtest_circuits\u001b[0m \u001b[0;34m=\u001b[0m \u001b[0;34m[\u001b[0m\u001b[0mdiagram2circuit\u001b[0m\u001b[0;34m(\u001b[0m\u001b[0md\u001b[0m\u001b[0;34m)\u001b[0m \u001b[0;32mfor\u001b[0m \u001b[0md\u001b[0m \u001b[0;32min\u001b[0m \u001b[0mtest_diagrams\u001b[0m\u001b[0;34m]\u001b[0m\u001b[0;34m\u001b[0m\u001b[0;34m\u001b[0m\u001b[0m\n",
      "\u001b[0;32m<ipython-input-6-d03ea9267728>\u001b[0m in \u001b[0;36m<listcomp>\u001b[0;34m(.0)\u001b[0m\n\u001b[1;32m     13\u001b[0m \u001b[0mdiagram2circuit\u001b[0m \u001b[0;34m=\u001b[0m \u001b[0;32mNone\u001b[0m\u001b[0;34m\u001b[0m\u001b[0;34m\u001b[0m\u001b[0m\n\u001b[1;32m     14\u001b[0m \u001b[0;34m\u001b[0m\u001b[0m\n\u001b[0;32m---> 15\u001b[0;31m \u001b[0mtrain_circuits\u001b[0m \u001b[0;34m=\u001b[0m \u001b[0;34m[\u001b[0m\u001b[0mdiagram2circuit\u001b[0m\u001b[0;34m(\u001b[0m\u001b[0md\u001b[0m\u001b[0;34m)\u001b[0m \u001b[0;32mfor\u001b[0m \u001b[0md\u001b[0m \u001b[0;32min\u001b[0m \u001b[0mtrain_diagrams\u001b[0m\u001b[0;34m]\u001b[0m\u001b[0;34m\u001b[0m\u001b[0;34m\u001b[0m\u001b[0m\n\u001b[0m\u001b[1;32m     16\u001b[0m \u001b[0mdev_circuits\u001b[0m \u001b[0;34m=\u001b[0m \u001b[0;34m[\u001b[0m\u001b[0mdiagram2circuit\u001b[0m\u001b[0;34m(\u001b[0m\u001b[0md\u001b[0m\u001b[0;34m)\u001b[0m \u001b[0;32mfor\u001b[0m \u001b[0md\u001b[0m \u001b[0;32min\u001b[0m \u001b[0mdev_diagrams\u001b[0m\u001b[0;34m]\u001b[0m\u001b[0;34m\u001b[0m\u001b[0;34m\u001b[0m\u001b[0m\n\u001b[1;32m     17\u001b[0m \u001b[0mtest_circuits\u001b[0m \u001b[0;34m=\u001b[0m \u001b[0;34m[\u001b[0m\u001b[0mdiagram2circuit\u001b[0m\u001b[0;34m(\u001b[0m\u001b[0md\u001b[0m\u001b[0;34m)\u001b[0m \u001b[0;32mfor\u001b[0m \u001b[0md\u001b[0m \u001b[0;32min\u001b[0m \u001b[0mtest_diagrams\u001b[0m\u001b[0;34m]\u001b[0m\u001b[0;34m\u001b[0m\u001b[0;34m\u001b[0m\u001b[0m\n",
      "\u001b[0;31mTypeError\u001b[0m: 'NoneType' object is not callable"
     ]
    }
   ],
   "source": [
    "#******************************************\n",
    "# Generate your circuits\n",
    "#******************************************\n",
    "# TODO: Implement your own functorial ansatz conversion!\n",
    "# The `qnlp-tutorial` has some code on this.\n",
    "# https://discopy.readthedocs.io/en/main/notebooks/qnlp-tutorial.html\n",
    "# You may also find discopy's `IQPansatz` function useful.\n",
    "\n",
    "# Suggestion: Draw some DisCoCat diagrams alongside their circuit diagrams\n",
    "# and compare them\n",
    "\n",
    "# TODO implement diagram2circuit\n",
    "diagram2circuit = None\n",
    "\n",
    "train_circuits = [diagram2circuit(d) for d in train_diagrams]\n",
    "dev_circuits = [diagram2circuit(d) for d in dev_diagrams]\n",
    "test_circuits = [diagram2circuit(d) for d in test_diagrams]\n",
    "\n",
    "# You can define parameterised circuits in DisCoPy\n",
    "# using sympy variables, then substituting them using `lambdify`\n",
    "from discopy import drawing\n",
    "from discopy.quantum import Id, Rz, CX, CRz\n",
    "from sympy.abc import symbols, phi\n",
    "\n",
    "\n",
    "sym = symbols(\"abc\")\n",
    "circ = Rz(sym) @ Id(1) >> CX >> CRz(phi)\n",
    "drawing.equation(circ, circ.lambdify(sym, phi)(0.1, 0.2), symbol='-->')"
   ]
  },
  {
   "cell_type": "code",
   "execution_count": null,
   "id": "b796f3f4-717c-4aa4-8cb0-53dffda6a183",
   "metadata": {},
   "outputs": [],
   "source": []
  }
 ],
 "metadata": {
  "kernelspec": {
   "display_name": "Python 3",
   "language": "python",
   "name": "python3"
  },
  "language_info": {
   "codemirror_mode": {
    "name": "ipython",
    "version": 3
   },
   "file_extension": ".py",
   "mimetype": "text/x-python",
   "name": "python",
   "nbconvert_exporter": "python",
   "pygments_lexer": "ipython3",
   "version": "3.7.11"
  }
 },
 "nbformat": 4,
 "nbformat_minor": 5
}
