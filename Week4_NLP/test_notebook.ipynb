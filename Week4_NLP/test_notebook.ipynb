{
 "cells": [
  {
   "cell_type": "code",
   "execution_count": 57,
   "id": "0f0c5a5b-020e-49be-b15f-f6f3f24d31e4",
   "metadata": {},
   "outputs": [],
   "source": [
    "import jax.numpy as np\n",
    "from jax import jit\n",
    "from discopy import Tensor\n",
    "Tensor.np = np\n",
    "\n",
    "import discopy"
   ]
  },
  {
   "cell_type": "markdown",
   "id": "8a481715",
   "metadata": {},
   "source": [
    "## Corpus Generation"
   ]
  },
  {
   "cell_type": "code",
   "execution_count": 64,
   "id": "0e6b2c6f-1ae1-48d2-a179-4b443a7bb9e0",
   "metadata": {},
   "outputs": [
    {
     "name": "stdout",
     "output_type": "stream",
     "text": [
      "Training set:\n",
      "Bob kills Alice\n",
      "Eve hates Bob\n",
      "Alice hates Alice\n",
      "Eve kills Bob\n",
      "Eve hates Eve\n",
      "Eve loves Alice\n",
      "Eve kills Eve\n",
      "Eve loves Eve\n",
      "Alice kills Bob\n",
      "Bob loves Bob\n",
      "Bob hates Eve\n",
      "Eve loves Bob\n",
      "Alice kills Alice\n",
      "\n",
      "Testing set:\n",
      "Bob hates Bob\n",
      "Alice loves Eve\n",
      "Alice loves Alice\n",
      "Bob kills Eve\n",
      "Alice loves Bob\n",
      "Eve hates Alice\n",
      "Bob kills Bob\n",
      "\n",
      "Dev set:\n",
      "Eve kills Alice\n",
      "Alice hates Bob\n",
      "Alice kills Eve\n",
      "Alice hates Eve\n",
      "Bob loves Eve\n",
      "Bob hates Alice\n",
      "Bob loves Alice\n"
     ]
    }
   ],
   "source": [
    "from discopy import Diagram, Id, Cup, Ty, Word\n",
    "\n",
    "# Define our variables via discopy\n",
    "s, n = Ty('s'), Ty('n') # Grammer types\n",
    "Alice, Bob, Eve = Word('Alice', n), Word('Bob', n), Word('Eve', n)\n",
    "loves, hates, kills =  Word('loves', n.r @ s @ n.l),  Word('hates', n.r @ s @ n.l) , Word('kills', n.r @ s @ n.l)\n",
    "\n",
    "# Establish our grammar\n",
    "grammar = Cup(n, n.r) @ Id(s) @ Cup(n.l, n)\n",
    "\n",
    "# Generate our dataset\n",
    "sentences=[]\n",
    "parsing = {\"{} {} {}\".format(subj, verb, obj): subj @ verb @ obj >> grammar\n",
    "            for subj in [Alice, Bob, Eve] for verb in [loves, hates, kills] for obj in [Alice, Bob, Eve]}\n",
    "\n",
    "for phrase in parsing:\n",
    "    sentences.append(phrase)\n",
    "    \n",
    "# Let's split our data into training, dev, and test set\n",
    "train_sentences, test_sentences = train_test_split(sentences, test_size=0.5, random_state=42)\n",
    "test_sentences, dev_sentences= train_test_split(test_sentences, test_size=0.5, random_state=42)\n",
    "\n",
    "# Print our datasets \n",
    "print(\"Training set:\\n{}\\n\".format('\\n'.join(train_sentences)))\n",
    "print(\"Testing set:\\n{}\\n\".format('\\n'.join(map(str, test_sentences))))\n",
    "print(\"Dev set:\\n{}\".format('\\n'.join(map(str, dev_sentences))))"
   ]
  },
  {
   "cell_type": "code",
   "execution_count": 65,
   "id": "0af57cfe-6170-48ab-8e1b-1b282a59bc62",
   "metadata": {},
   "outputs": [],
   "source": [
    "# Add some labels for our data\n",
    "train_labels = [1, 1, 1, 1, 1, 1,0,0,0,0,0,0,0]\n",
    "dev_labels = [1,1,1,0,0,0,0]\n",
    "test_labels = [0,0,0,1,1,1,1]\n",
    "\n",
    "train_labels = np.array(train_labels)\n",
    "dev_labels = np.array(dev_labels)\n",
    "test_labels = np.array(test_labels)"
   ]
  },
  {
   "cell_type": "code",
   "execution_count": 66,
   "id": "b95b7f19-9c86-4db1-a2d9-269c28136ea1",
   "metadata": {},
   "outputs": [],
   "source": [
    "#******************************************\n",
    "# Generate your diagrams\n",
    "#******************************************\n",
    "# TODO generate the DisCoCat diagrams for your corpus. There are 2 options:\n",
    "# 1. Follow a few fixed templates (N V N, N V Adj N, ...)\n",
    "# 2. Use the online tool to generate diagrams. \n",
    "# If you are using the online tool, consider writing a script.\n",
    "\n",
    "# Suggestion: print out some of your DisCoCat diagrams using\n",
    "# `grammar.draw` to check that they make sense.\n",
    "\n",
    "# TODO implement sentence2diagram\n",
    "from discopy import Ty, Word, Cup, Id\n",
    "\n",
    "s, n = Ty('s'), Ty('n')\n",
    "tv = n.r @ s @ n.l\n",
    "\n",
    "grammar = Cup(n, n.r) @ Id(s) @ Cup(n.l, n)\n",
    "\n",
    "def sentence2diagram(s):\n",
    "    for subj, verb, obj in [s.split(' ')]:\n",
    "        diagram = Word(subj, n) @ Word(verb, tv) @ Word(obj, n) >> grammar\n",
    "    return diagram\n",
    "\n",
    "train_diagrams = [sentence2diagram(s) for s in train_sentences]\n",
    "dev_diagrams = [sentence2diagram(s) for s in dev_sentences]\n",
    "test_diagrams = [sentence2diagram(s) for s in test_sentences]"
   ]
  },
  {
   "cell_type": "code",
   "execution_count": 54,
   "id": "f17723e7-6813-4c4f-af34-31ebc42d2c37",
   "metadata": {},
   "outputs": [
    {
     "name": "stdout",
     "output_type": "stream",
     "text": [
      "Tensor(dom=Dim(1), cod=Dim(2, 2), array=[0.99999994+0.j, 0.    +0.j, 0.    +0.j, 0.99999994+0.j])\n"
     ]
    }
   ],
   "source": [
    "from discopy.quantum import Ket, H, Rx, CX, sqrt\n",
    "\n",
    "def verb_ansatz(phase):\n",
    "    return Ket(0, 0) >> H @ sqrt(2) @ Rx(phase) >> CX\n",
    "\n",
    "print(verb_ansatz(0).eval())\n"
   ]
  },
  {
   "cell_type": "code",
   "execution_count": 13,
   "id": "d1bbb9e4-d9e0-4cb4-a43a-eab932373299",
   "metadata": {},
   "outputs": [],
   "source": [
    "from discopy import Diagram, Id, Cup\n",
    "from discopy.grammar import draw"
   ]
  },
  {
   "cell_type": "code",
   "execution_count": 14,
   "id": "f08243e4-309f-4019-813d-333a414eb223",
   "metadata": {},
   "outputs": [],
   "source": [
    "Alice, Bob, Eve = Word('Alice', n), Word('Bob', n), Word('Eve', n)\n",
    "loves, hates, kills =  Word('loves', n.r @ s @ n.l),  Word('hates', n.r @ s @ n.l) , Word('kills', n.r @ s @ n.l)"
   ]
  },
  {
   "cell_type": "code",
   "execution_count": 43,
   "id": "040f855a-278b-4c61-9d44-8a615c1d060e",
   "metadata": {},
   "outputs": [
    {
     "data": {
      "text/plain": [
       "Diagram(dom=Ty(), cod=Ty('s'), boxes=[Word('Eve', Ty('n')), Word('kills', Ty(Ob('n', z=1), 's', Ob('n', z=-1))), Word('Bob', Ty('n')), Cup(Ty('n'), Ty(Ob('n', z=1))), Cup(Ty(Ob('n', z=-1)), Ty('n'))], offsets=[0, 1, 4, 0, 1])"
      ]
     },
     "execution_count": 43,
     "metadata": {},
     "output_type": "execute_result"
    }
   ],
   "source": [
    "grammar = Cup(n, n.r) @ Id(s) @ Cup(n.l, n)\n",
    "\n",
    "parsing = {\"{} {} {}\".format(subj, verb, obj): subj @ verb @ obj >> grammar\n",
    "            for subj in [Alice, Bob, Eve] for verb in [loves, hates, kills] for obj in [Alice, Bob, Eve]}\n",
    "parsing['Eve kills Bob']"
   ]
  },
  {
   "cell_type": "code",
   "execution_count": 34,
   "id": "0ee26646-0c1d-4cab-b6c4-ff87083551db",
   "metadata": {},
   "outputs": [
    {
     "data": {
      "text/plain": [
       "['Alice loves Bob', 'Alice hates Eve', 'Bob kills Eve']"
      ]
     },
     "execution_count": 34,
     "metadata": {},
     "output_type": "execute_result"
    }
   ],
   "source": [
    "train_sentences"
   ]
  },
  {
   "cell_type": "code",
   "execution_count": 35,
   "id": "9f1de73b-25f5-4a1a-8fbb-fe0b067ea536",
   "metadata": {},
   "outputs": [
    {
     "data": {
      "text/plain": [
       "Diagram(dom=Ty(), cod=Ty('s'), boxes=[Word('Alice', Ty('n')), Word('loves', Ty(Ob('n', z=1), 's', Ob('n', z=-1))), Word('Bob', Ty('n')), Cup(Ty('n'), Ty(Ob('n', z=1))), Cup(Ty(Ob('n', z=-1)), Ty('n'))], offsets=[0, 1, 4, 0, 1])"
      ]
     },
     "execution_count": 35,
     "metadata": {},
     "output_type": "execute_result"
    }
   ],
   "source": [
    "parsing[train_sentences[0]]"
   ]
  },
  {
   "cell_type": "code",
   "execution_count": 18,
   "id": "fc471c07-4c16-4ddd-8f23-7d802e75ce14",
   "metadata": {},
   "outputs": [
    {
     "data": {
      "image/png": "[encoded data removed]",
      "text/plain": [
       "<Figure size 432x288 with 1 Axes>"
      ]
     },
     "metadata": {
      "needs_background": "light"
     },
     "output_type": "display_data"
    }
   ],
   "source": [
    "diagram = parsing[train_sentences[1]]\n",
    "#print(\"Diagram for 'Alice loves Bob':\")\n",
    "draw(diagram, draw_type_labels=True)"
   ]
  },
  {
   "cell_type": "code",
   "execution_count": 55,
   "id": "e97c878c-77b1-452f-a920-c36810fa32bb",
   "metadata": {},
   "outputs": [
    {
     "name": "stdout",
     "output_type": "stream",
     "text": [
      "0.5\n",
      "Circuit for 'Alice loves Bob':\n"
     ]
    },
    {
     "data": {
      "image/png": "[encoded data removed]",
      "text/plain": [
       "<Figure size 360x360 with 1 Axes>"
      ]
     },
     "metadata": {
      "needs_background": "light"
     },
     "output_type": "display_data"
    }
   ],
   "source": [
    "from discopy import CircuitFunctor, qubit\n",
    "\n",
    "ob = {s: Ty(), n: 1}\n",
    "ar = lambda params: {\n",
    "    Alice: Ket(0), Bob: Ket(1),\n",
    "    loves: verb_ansatz(params['loves']) }\n",
    "\n",
    "F = lambda params: CircuitFunctor(ob, ar(params))\n",
    "\n",
    "params0 = {'loves': 0.5}\n",
    "#params1 = {'hates': 0.6}\n",
    "#params2 = {'kills': 0.4}\n",
    "print(params0['loves'])\n",
    "print(\"Circuit for 'Alice loves Bob':\")\n",
    "F(params0)(parsing[train_sentences[0]]).draw(\n",
    "    aspect='auto', draw_type_labels=False, figsize=(5, 5))\n",
    "#F(params1)(parsing[train_sentences[1]]).draw(\n",
    " #   aspect='auto', draw_type_labels=False, figsize=(5, 5))\n",
    "#F(params2)(parsing[train_sentences[2]]).draw(\n",
    "  #  aspect='auto', draw_type_labels=False, figsize=(5, 5))"
   ]
  },
  {
   "cell_type": "code",
   "execution_count": null,
   "id": "fabaea82-e090-4afd-80a5-fb4838002744",
   "metadata": {},
   "outputs": [],
   "source": []
  },
  {
   "cell_type": "code",
   "execution_count": 51,
   "id": "de9b8428-b1b0-4eec-a76c-5653cb6e469e",
   "metadata": {},
   "outputs": [
    {
     "name": "stdout",
     "output_type": "stream",
     "text": [
      "circuit.Functor(ob={Ty('s'): Ty(), Ty('n'): qubit}, ar={Word('Alice', Ty('n')): Ket(0), Word('Bob', Ty('n')): Ket(1), Word('Eve', Ty('n')): Ket(0), Word('loves', Ty(Ob('n', z=1), 's', Ob('n', z=-1))): Circuit(dom=Ty(), cod=qubit @ qubit, boxes=[Ket(0, 0), H, sqrt(2), Rx(0.5), CX], offsets=[0, 0, 1, 1, 0]), Word('hates', Ty(Ob('n', z=1), 's', Ob('n', z=-1))): Circuit(dom=Ty(), cod=qubit @ qubit, boxes=[Ket(0, 0), H, sqrt(2), Rx(1), CX], offsets=[0, 0, 1, 1, 0])})\n"
     ]
    },
    {
     "data": {
      "image/png": "[encoded data removed]",
      "text/plain": [
       "<Figure size 432x288 with 1 Axes>"
      ]
     },
     "metadata": {
      "needs_background": "light"
     },
     "output_type": "display_data"
    },
    {
     "data": {
      "text/plain": [
       "\"\\ncircuit.Functor(ob={Ty('s'): Ty(), Ty('n'): qubit}, ar={Word('Alice', Ty('n')): Ket(0), Word('Bob', Ty('n')): Ket(1), Word('Eve', Ty('n')): Ket(0), Word('loves', Ty(Ob('n', z=1), 's', Ob('n', z=-1))): Circuit(dom=Ty(), cod=qubit @ qubit, boxes=[Ket(0, 0), H, sqrt(2), Rx(0.5), CX], offsets=[0, 0, 1, 1, 0]), Word('hates', Ty(Ob('n', z=1), 's', Ob('n', z=-1))): Circuit(dom=Ty(), cod=qubit @ qubit, boxes=[Ket(0, 0), H, sqrt(2), Rx(0.5), CX], offsets=[0, 0, 1, 1, 0])})\\ncircuit.Functor(ob={Ty('s'): Ty(), Ty('n'): qubit}, ar={Word('Alice', Ty('n')): Ket(0), Word('Bob', Ty('n')): Ket(1), Word('Eve', Ty('n')): Ket(0), Word('loves', Ty(Ob('n', z=1), 's', Ob('n', z=-1))): Circuit(dom=Ty(), cod=qubit @ qubit, boxes=[Ket(0, 0), H, sqrt(2), Rx(0.5), CX], offsets=[0, 0, 1, 1, 0])})\\n\""
      ]
     },
     "execution_count": 51,
     "metadata": {},
     "output_type": "execute_result"
    }
   ],
   "source": [
    "# Generalize Circuits\n",
    "from discopy import CircuitFunctor, qubit\n",
    "\n",
    "ob = {s: Ty(), n: qubit}\n",
    "#ar = lambda params: {\n",
    " #   Alice: Ket(0), Bob: Ket(1), Eve: Ket(0),\n",
    "  #  loves: verb_ansatz(params['loves']) }\n",
    "\n",
    "ar = lambda params: {\n",
    "    Alice: Ket(0), Bob: Ket(1), Eve: Ket(0),\n",
    "    loves: verb_ansatz(params['loves']),\n",
    "    hates: verb_ansatz(params['hates'])}\n",
    "\n",
    "F = lambda params: CircuitFunctor(ob, ar(params))\n",
    "\n",
    "params = {'loves': 0.5, 'hates': 1}\n",
    "# params = {'loves': 0.5}\n",
    "print(F(params))\n",
    "F(params)(parsing[train_sentences[0]]).draw()\n",
    "# print(\"Circuit for 'Alice loves Bob':\")\n",
    "# F(params)(parsing[train_sentences[0]]).draw()\n",
    "\n",
    "\"\"\"\n",
    "circuit.Functor(ob={Ty('s'): Ty(), Ty('n'): qubit}, ar={Word('Alice', Ty('n')): Ket(0), Word('Bob', Ty('n')): Ket(1), Word('Eve', Ty('n')): Ket(0), Word('loves', Ty(Ob('n', z=1), 's', Ob('n', z=-1))): Circuit(dom=Ty(), cod=qubit @ qubit, boxes=[Ket(0, 0), H, sqrt(2), Rx(0.5), CX], offsets=[0, 0, 1, 1, 0]), Word('hates', Ty(Ob('n', z=1), 's', Ob('n', z=-1))): Circuit(dom=Ty(), cod=qubit @ qubit, boxes=[Ket(0, 0), H, sqrt(2), Rx(0.5), CX], offsets=[0, 0, 1, 1, 0])})\n",
    "circuit.Functor(ob={Ty('s'): Ty(), Ty('n'): qubit}, ar={Word('Alice', Ty('n')): Ket(0), Word('Bob', Ty('n')): Ket(1), Word('Eve', Ty('n')): Ket(0), Word('loves', Ty(Ob('n', z=1), 's', Ob('n', z=-1))): Circuit(dom=Ty(), cod=qubit @ qubit, boxes=[Ket(0, 0), H, sqrt(2), Rx(0.5), CX], offsets=[0, 0, 1, 1, 0])})\n",
    "\"\"\""
   ]
  },
  {
   "cell_type": "code",
   "execution_count": 6,
   "id": "457da134-6c2a-4a9d-9fda-b731044b5547",
   "metadata": {},
   "outputs": [
    {
     "ename": "TypeError",
     "evalue": "'NoneType' object is not callable",
     "output_type": "error",
     "traceback": [
      "\u001b[0;31m---------------------------------------------------------------------------\u001b[0m",
      "\u001b[0;31mTypeError\u001b[0m                                 Traceback (most recent call last)",
      "\u001b[0;32m<ipython-input-6-d03ea9267728>\u001b[0m in \u001b[0;36m<module>\u001b[0;34m\u001b[0m\n\u001b[1;32m     13\u001b[0m \u001b[0mdiagram2circuit\u001b[0m \u001b[0;34m=\u001b[0m \u001b[0;32mNone\u001b[0m\u001b[0;34m\u001b[0m\u001b[0;34m\u001b[0m\u001b[0m\n\u001b[1;32m     14\u001b[0m \u001b[0;34m\u001b[0m\u001b[0m\n\u001b[0;32m---> 15\u001b[0;31m \u001b[0mtrain_circuits\u001b[0m \u001b[0;34m=\u001b[0m \u001b[0;34m[\u001b[0m\u001b[0mdiagram2circuit\u001b[0m\u001b[0;34m(\u001b[0m\u001b[0md\u001b[0m\u001b[0;34m)\u001b[0m \u001b[0;32mfor\u001b[0m \u001b[0md\u001b[0m \u001b[0;32min\u001b[0m \u001b[0mtrain_diagrams\u001b[0m\u001b[0;34m]\u001b[0m\u001b[0;34m\u001b[0m\u001b[0;34m\u001b[0m\u001b[0m\n\u001b[0m\u001b[1;32m     16\u001b[0m \u001b[0mdev_circuits\u001b[0m \u001b[0;34m=\u001b[0m \u001b[0;34m[\u001b[0m\u001b[0mdiagram2circuit\u001b[0m\u001b[0;34m(\u001b[0m\u001b[0md\u001b[0m\u001b[0;34m)\u001b[0m \u001b[0;32mfor\u001b[0m \u001b[0md\u001b[0m \u001b[0;32min\u001b[0m \u001b[0mdev_diagrams\u001b[0m\u001b[0;34m]\u001b[0m\u001b[0;34m\u001b[0m\u001b[0;34m\u001b[0m\u001b[0m\n\u001b[1;32m     17\u001b[0m \u001b[0mtest_circuits\u001b[0m \u001b[0;34m=\u001b[0m \u001b[0;34m[\u001b[0m\u001b[0mdiagram2circuit\u001b[0m\u001b[0;34m(\u001b[0m\u001b[0md\u001b[0m\u001b[0;34m)\u001b[0m \u001b[0;32mfor\u001b[0m \u001b[0md\u001b[0m \u001b[0;32min\u001b[0m \u001b[0mtest_diagrams\u001b[0m\u001b[0;34m]\u001b[0m\u001b[0;34m\u001b[0m\u001b[0;34m\u001b[0m\u001b[0m\n",
      "\u001b[0;32m<ipython-input-6-d03ea9267728>\u001b[0m in \u001b[0;36m<listcomp>\u001b[0;34m(.0)\u001b[0m\n\u001b[1;32m     13\u001b[0m \u001b[0mdiagram2circuit\u001b[0m \u001b[0;34m=\u001b[0m \u001b[0;32mNone\u001b[0m\u001b[0;34m\u001b[0m\u001b[0;34m\u001b[0m\u001b[0m\n\u001b[1;32m     14\u001b[0m \u001b[0;34m\u001b[0m\u001b[0m\n\u001b[0;32m---> 15\u001b[0;31m \u001b[0mtrain_circuits\u001b[0m \u001b[0;34m=\u001b[0m \u001b[0;34m[\u001b[0m\u001b[0mdiagram2circuit\u001b[0m\u001b[0;34m(\u001b[0m\u001b[0md\u001b[0m\u001b[0;34m)\u001b[0m \u001b[0;32mfor\u001b[0m \u001b[0md\u001b[0m \u001b[0;32min\u001b[0m \u001b[0mtrain_diagrams\u001b[0m\u001b[0;34m]\u001b[0m\u001b[0;34m\u001b[0m\u001b[0;34m\u001b[0m\u001b[0m\n\u001b[0m\u001b[1;32m     16\u001b[0m \u001b[0mdev_circuits\u001b[0m \u001b[0;34m=\u001b[0m \u001b[0;34m[\u001b[0m\u001b[0mdiagram2circuit\u001b[0m\u001b[0;34m(\u001b[0m\u001b[0md\u001b[0m\u001b[0;34m)\u001b[0m \u001b[0;32mfor\u001b[0m \u001b[0md\u001b[0m \u001b[0;32min\u001b[0m \u001b[0mdev_diagrams\u001b[0m\u001b[0;34m]\u001b[0m\u001b[0;34m\u001b[0m\u001b[0;34m\u001b[0m\u001b[0m\n\u001b[1;32m     17\u001b[0m \u001b[0mtest_circuits\u001b[0m \u001b[0;34m=\u001b[0m \u001b[0;34m[\u001b[0m\u001b[0mdiagram2circuit\u001b[0m\u001b[0;34m(\u001b[0m\u001b[0md\u001b[0m\u001b[0;34m)\u001b[0m \u001b[0;32mfor\u001b[0m \u001b[0md\u001b[0m \u001b[0;32min\u001b[0m \u001b[0mtest_diagrams\u001b[0m\u001b[0;34m]\u001b[0m\u001b[0;34m\u001b[0m\u001b[0;34m\u001b[0m\u001b[0m\n",
      "\u001b[0;31mTypeError\u001b[0m: 'NoneType' object is not callable"
     ]
    }
   ],
   "source": [
    "#******************************************\n",
    "# Generate your circuits\n",
    "#******************************************\n",
    "# TODO: Implement your own functorial ansatz conversion!\n",
    "# The `qnlp-tutorial` has some code on this.\n",
    "# https://discopy.readthedocs.io/en/main/notebooks/qnlp-tutorial.html\n",
    "# You may also find discopy's `IQPansatz` function useful.\n",
    "\n",
    "# Suggestion: Draw some DisCoCat diagrams alongside their circuit diagrams\n",
    "# and compare them\n",
    "\n",
    "# TODO implement diagram2circuit\n",
    "diagram2circuit = None\n",
    "\n",
    "train_circuits = [diagram2circuit(d) for d in train_diagrams]\n",
    "dev_circuits = [diagram2circuit(d) for d in dev_diagrams]\n",
    "test_circuits = [diagram2circuit(d) for d in test_diagrams]\n",
    "\n",
    "# You can define parameterised circuits in DisCoPy\n",
    "# using sympy variables, then substituting them using `lambdify`\n",
    "from discopy import drawing\n",
    "from discopy.quantum import Id, Rz, CX, CRz\n",
    "from sympy.abc import symbols, phi\n",
    "\n",
    "\n",
    "sym = symbols(\"abc\")\n",
    "circ = Rz(sym) @ Id(1) >> CX >> CRz(phi)\n",
    "drawing.equation(circ, circ.lambdify(sym, phi)(0.1, 0.2), symbol='-->')"
   ]
  },
  {
   "cell_type": "code",
   "execution_count": null,
   "id": "b796f3f4-717c-4aa4-8cb0-53dffda6a183",
   "metadata": {},
   "outputs": [],
   "source": []
  }
 ],
 "metadata": {
  "kernelspec": {
   "display_name": "Python 3",
   "language": "python",
   "name": "python3"
  },
  "language_info": {
   "codemirror_mode": {
    "name": "ipython",
    "version": 3
   },
   "file_extension": ".py",
   "mimetype": "text/x-python",
   "name": "python",
   "nbconvert_exporter": "python",
   "pygments_lexer": "ipython3",
   "version": "3.8.8"
  }
 },
 "nbformat": 4,
 "nbformat_minor": 5
}
