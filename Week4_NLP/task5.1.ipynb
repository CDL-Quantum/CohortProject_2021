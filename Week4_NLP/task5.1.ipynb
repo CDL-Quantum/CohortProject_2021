{
  "nbformat": 4,
  "nbformat_minor": 5,
  "metadata": {
    "kernelspec": {
      "display_name": "Python 3",
      "language": "python",
      "name": "python3"
    },
    "language_info": {
      "codemirror_mode": {
        "name": "ipython",
        "version": 3
      },
      "file_extension": ".py",
      "mimetype": "text/x-python",
      "name": "python",
      "nbconvert_exporter": "python",
      "pygments_lexer": "ipython3",
      "version": "3.7.10"
    },
    "colab": {
      "name": "notebook.ipynb",
      "provenance": [],
      "collapsed_sections": []
    }
  },
  "cells": [
    {
      "cell_type": "code",
      "metadata": {
        "colab": {
          "base_uri": "https://localhost:8080/"
        },
        "id": "pbFhSbfaVjL7",
        "outputId": "0af4a39d-818a-4acf-c8a4-c2474d5fc8ff"
      },
      "source": [
        "!pip install discopy\n",
        "!pip install sympy\n",
        "!pip install jax\n",
        "!pip install noisyopt"
      ],
      "id": "pbFhSbfaVjL7",
      "execution_count": null,
      "outputs": [
        {
          "output_type": "stream",
          "text": [
            "Requirement already satisfied: discopy in /usr/local/lib/python3.7/dist-packages (0.3.6)\n",
            "Requirement already satisfied: matplotlib>=3.1.2 in /usr/local/lib/python3.7/dist-packages (from discopy) (3.2.2)\n",
            "Requirement already satisfied: numpy>=1.18.1 in /usr/local/lib/python3.7/dist-packages (from discopy) (1.19.5)\n",
            "Requirement already satisfied: networkx>=2.4 in /usr/local/lib/python3.7/dist-packages (from discopy) (2.5.1)\n",
            "Requirement already satisfied: pillow>=6.2.1 in /usr/local/lib/python3.7/dist-packages (from discopy) (7.1.2)\n",
            "Requirement already satisfied: kiwisolver>=1.0.1 in /usr/local/lib/python3.7/dist-packages (from matplotlib>=3.1.2->discopy) (1.3.1)\n",
            "Requirement already satisfied: cycler>=0.10 in /usr/local/lib/python3.7/dist-packages (from matplotlib>=3.1.2->discopy) (0.10.0)\n",
            "Requirement already satisfied: python-dateutil>=2.1 in /usr/local/lib/python3.7/dist-packages (from matplotlib>=3.1.2->discopy) (2.8.1)\n",
            "Requirement already satisfied: pyparsing!=2.0.4,!=2.1.2,!=2.1.6,>=2.0.1 in /usr/local/lib/python3.7/dist-packages (from matplotlib>=3.1.2->discopy) (2.4.7)\n",
            "Requirement already satisfied: six in /usr/local/lib/python3.7/dist-packages (from cycler>=0.10->matplotlib>=3.1.2->discopy) (1.15.0)\n",
            "Requirement already satisfied: decorator<5,>=4.3 in /usr/local/lib/python3.7/dist-packages (from networkx>=2.4->discopy) (4.4.2)\n",
            "Requirement already satisfied: sympy in /usr/local/lib/python3.7/dist-packages (1.7.1)\n",
            "Requirement already satisfied: mpmath>=0.19 in /usr/local/lib/python3.7/dist-packages (from sympy) (1.2.1)\n",
            "Requirement already satisfied: jax in /usr/local/lib/python3.7/dist-packages (0.2.17)\n",
            "Requirement already satisfied: numpy>=1.17 in /usr/local/lib/python3.7/dist-packages (from jax) (1.19.5)\n",
            "Requirement already satisfied: opt-einsum in /usr/local/lib/python3.7/dist-packages (from jax) (3.3.0)\n",
            "Requirement already satisfied: absl-py in /usr/local/lib/python3.7/dist-packages (from jax) (0.12.0)\n",
            "Requirement already satisfied: six in /usr/local/lib/python3.7/dist-packages (from absl-py->jax) (1.15.0)\n",
            "Requirement already satisfied: noisyopt in /usr/local/lib/python3.7/dist-packages (0.2.2)\n",
            "Requirement already satisfied: scipy in /usr/local/lib/python3.7/dist-packages (from noisyopt) (1.4.1)\n",
            "Requirement already satisfied: numpy in /usr/local/lib/python3.7/dist-packages (from noisyopt) (1.19.5)\n"
          ],
          "name": "stdout"
        }
      ]
    },
    {
      "cell_type": "code",
      "metadata": {
        "id": "2e52b56a"
      },
      "source": [
        "import jax.numpy as np\n",
        "from jax import jit\n",
        "from discopy import Tensor\n",
        "Tensor.np = np\n",
        "\n",
        "from sympy import symbols \n",
        "from discopy import *\n",
        "from discopy.quantum import *\n",
        "import requests"
      ],
      "id": "2e52b56a",
      "execution_count": 34,
      "outputs": []
    },
    {
      "cell_type": "code",
      "metadata": {
        "id": "ff92ce10"
      },
      "source": [
        "#******************************************\n",
        "# Generate your corpus\n",
        "#******************************************\n",
        "# sentences can be of the `word1 word2 word3 ...`\n",
        "# if you are generating the diagrams using templates\n",
        "# then you may want to consider adding POS tags (N, V, Adj) for each word\n",
        "# labels should be of the form [0,1] or [1,0] for binary classification\n",
        "\n",
        "# Words\n",
        "adjectives  = ['cruel', 'strong', 'weak'] #'smart', 'happy', 'cowardly', 'brave', 'stupid', 'heroic', 'loving']\n",
        "nouns =['professor', 'doctor', 'politician'] #'fireman', 'policeman', 'scientist', 'lawyer', 'physicist', 'nurse', 'mathematician']\n",
        "verbs = ['wins', 'loses', 'lies','saves'] #'flees', 'kills', 'saves', 'cries', 'innovates', 'creates', 'believes']\n",
        "\n",
        "# Verbal connotation\n",
        "positive  = ['wins', 'saves','innovates', 'creates', 'believes']\n",
        "negatives = ['loses', 'lies', 'flees', 'kills','cries']\n",
        "\n",
        "# Sentences generator\n",
        "sentences = []\n",
        "labels = []\n",
        "for adj in adjectives:\n",
        "  for noun in nouns:\n",
        "    for verb in verbs:\n",
        "        sentences.append(adj + ' ' + noun + ' '+ verb)\n",
        "        if verb in positive:\n",
        "          labels.append(1)\n",
        "        else:\n",
        "          labels.append(0)\n",
        "\n",
        "train_sentences = sentences[0:12]\n",
        "dev_sentences   = sentences[12:24]\n",
        "test_sentences  = sentences[24:]\n",
        "\n",
        "train_labels = labels[0:12]\n",
        "dev_labels   = labels[12:24]\n",
        "test_labels  = labels[24:]\n",
        "\n",
        "train_labels = np.array(train_labels)\n",
        "dev_labels   = np.array(dev_labels)\n",
        "test_labels  = np.array(test_labels)"
      ],
      "id": "ff92ce10",
      "execution_count": 128,
      "outputs": []
    },
    {
      "cell_type": "code",
      "metadata": {
        "id": "9b28c33f"
      },
      "source": [
        "#******************************************\n",
        "# Generate your diagrams\n",
        "#******************************************\n",
        "# TODO generate the DisCoCat diagrams for your corpus. There are 2 options:\n",
        "# 1. Follow a few fixed templates (N V N, N V Adj N, ...)\n",
        "# 2. Use the online tool to generate diagrams. \n",
        "# If you are using the online tool, consider writing a script.\n",
        "\n",
        "# Suggestion: print out some of your DisCoCat diagrams using\n",
        "# `grammar.draw` to check that they make sense.\n",
        "\n",
        "# TODO implement sentence2diagram\n",
        "\n",
        "def sentence2diagram(sent):\n",
        "  byte_string = requests.get(\"https://cqc.pythonanywhere.com/discocat/code?sentence=\" + sent)\n",
        "  processesed_string = ''\n",
        "  for i in byte_string:\n",
        "    processesed_string += i.decode('utf-8').replace('\\n', '') \n",
        "  return processesed_string\n",
        "\n",
        "train_diagrams = [eval(sentence2diagram(s)) for s in train_sentences]\n",
        "dev_diagrams   = [eval(sentence2diagram(s)) for s in dev_sentences]\n",
        "test_diagrams  = [eval(sentence2diagram(s)) for s in test_sentences]"
      ],
      "id": "9b28c33f",
      "execution_count": 129,
      "outputs": []
    },
    {
      "cell_type": "code",
      "metadata": {
        "colab": {
          "base_uri": "https://localhost:8080/"
        },
        "id": "NgjEbJHYmqyi",
        "outputId": "dad69e59-e2ef-4d08-9ee2-613d55a7acea"
      },
      "source": [
        "len(dev_diagrams)"
      ],
      "id": "NgjEbJHYmqyi",
      "execution_count": 130,
      "outputs": [
        {
          "output_type": "execute_result",
          "data": {
            "text/plain": [
              "12"
            ]
          },
          "metadata": {
            "tags": []
          },
          "execution_count": 130
        }
      ]
    },
    {
      "cell_type": "code",
      "metadata": {
        "id": "WXN86sicW2Rn"
      },
      "source": [
        "###idea 1: use IQP ansantz to create bolier plate ansantz for 3 word sentences\n",
        "#### idea 2: create custumized ansantz based on sentence diagram specifications\n",
        "###idea 3: circuit functor"
      ],
      "id": "WXN86sicW2Rn",
      "execution_count": null,
      "outputs": []
    },
    {
      "cell_type": "code",
      "metadata": {
        "id": "8ae0d435"
      },
      "source": [
        "#******************************************\n",
        "# Generate your circuits\n",
        "#******************************************\n",
        "# TODO: Implement your own functorial ansatz conversion!\n",
        "# The `qnlp-tutorial` has some code on this.\n",
        "# https://discopy.readthedocs.io/en/main/notebooks/qnlp-tutorial.html\n",
        "# You may also find discopy's `IQPansatz` function useful.\n",
        "\n",
        "# Suggestion: Draw some DisCoCat diagrams alongside their circuit diagrams\n",
        "# and compare them\n",
        "\n",
        "train_circuits = []\n",
        "test_circuits  = []\n",
        "val_circuits   = []\n",
        "\n",
        "alpha = symbols(\"alpha\")\n",
        "beta  = symbols(\"beta\")\n",
        "sym_list = [alpha, beta]\n",
        "\n",
        "for k in range(len(train_sentences)):\n",
        "    train_circuits.append(IQPansatz(3,[[alpha, beta], [alpha, beta]]))\n",
        "    test_circuits.append(IQPansatz(3,[[alpha, beta], [alpha, beta]]))\n",
        "    val_circuits.append(IQPansatz(3,[[alpha, beta], [alpha, beta]]))"
      ],
      "id": "8ae0d435",
      "execution_count": 131,
      "outputs": []
    },
    {
      "cell_type": "code",
      "metadata": {
        "colab": {
          "base_uri": "https://localhost:8080/"
        },
        "id": "AGmQr9C6lUsh",
        "outputId": "5b8cdaaa-0fc3-4ccb-a071-a08608eaa825"
      },
      "source": [
        "len(test_circuits)"
      ],
      "id": "AGmQr9C6lUsh",
      "execution_count": 132,
      "outputs": [
        {
          "output_type": "execute_result",
          "data": {
            "text/plain": [
              "12"
            ]
          },
          "metadata": {
            "tags": []
          },
          "execution_count": 132
        }
      ]
    },
    {
      "cell_type": "code",
      "metadata": {
        "id": "f371a199"
      },
      "source": [
        "# These imports will come in handy when you want to run\n",
        "# backend simulations.\n",
        "\n",
        "# from qiskit import IBMQ\n",
        "# from pytket.extensions.qiskit import AerBackend, IBMQBackend, IBMQEmulatorBackend"
      ],
      "id": "f371a199",
      "execution_count": 26,
      "outputs": []
    },
    {
      "cell_type": "code",
      "metadata": {
        "id": "4e11d07d"
      },
      "source": [
        "#******************************************\n",
        "# Counting parameters in your model\n",
        "#******************************************\n",
        "from sympy import default_sort_key\n",
        "circuits = train_circuits + val_circuits + test_circuits\n",
        "\n",
        "# Make sure you sort your symbols as they are returned as a set.\n",
        "\n",
        "parameters = sorted({\n",
        "    s for circ in circuits for s in circ.free_symbols\n",
        "}, key=default_sort_key)"
      ],
      "id": "4e11d07d",
      "execution_count": 133,
      "outputs": []
    },
    {
      "cell_type": "code",
      "metadata": {
        "id": "cf2bcf4d"
      },
      "source": [
        "def normalise(predicts):\n",
        "    # apply smoothing to predicts\n",
        "    predicts = np.abs(predicts - 1e-9)\n",
        "    predicts = predicts / predicts.sum()\n",
        "    return predicts\n",
        "\n",
        "def BCE_loss(predicts, labels):\n",
        "    cross_entropies = np.sum(labels * np.log2(predicts))\n",
        "    cost = -1/len(labels) * np.sum(cross_entropies)\n",
        "\n",
        "    return cost"
      ],
      "id": "cf2bcf4d",
      "execution_count": 134,
      "outputs": []
    },
    {
      "cell_type": "code",
      "metadata": {
        "id": "159bfdcf"
      },
      "source": [
        "def make_pred_fn(circuits):\n",
        "    def pred_fn(params):\n",
        "        predictions = np.array([\n",
        "            normalise(np.abs(c.lambdify(*parameters)(*params).eval().array))\n",
        "            for c in circuits\n",
        "        ])\n",
        "        return predictions\n",
        "\n",
        "    return pred_fn"
      ],
      "id": "159bfdcf",
      "execution_count": 135,
      "outputs": []
    },
    {
      "cell_type": "code",
      "metadata": {
        "id": "078bd348",
        "colab": {
          "base_uri": "https://localhost:8080/"
        },
        "outputId": "682c945f-58c5-4ae4-b16c-16de930fee68"
      },
      "source": [
        "train_pred_fn = jit(make_pred_fn(train_circuits))\n",
        "dev_pred_fn   = jit(make_pred_fn(val_circuits))\n",
        "test_pred_fn  = jit(make_pred_fn(test_circuits))\n",
        "\n",
        "import numpy as onp\n",
        "onp.random.seed(0)\n",
        "\n",
        "x0 = np.array(onp.random.random(len(parameters)))\n",
        "print(\"Performing Just-In-Time compilation, this may take a while...\")\n",
        "train_pred_fn(x0)\n",
        "dev_pred_fn(x0)"
      ],
      "id": "078bd348",
      "execution_count": 137,
      "outputs": [
        {
          "output_type": "stream",
          "text": [
            "Performing Just-In-Time compilation, this may take a while...\n"
          ],
          "name": "stdout"
        },
        {
          "output_type": "execute_result",
          "data": {
            "text/plain": [
              "DeviceArray([[[[[[[0.01854655, 0.01149995],\n",
              "                  [0.01615188, 0.01149995]],\n",
              "\n",
              "                 [[0.01884021, 0.013414  ],\n",
              "                  [0.02163345, 0.013414  ]]],\n",
              "\n",
              "\n",
              "                [[[0.01149995, 0.01854655],\n",
              "                  [0.01149995, 0.01615188]],\n",
              "\n",
              "                 [[0.013414  , 0.01884021],\n",
              "                  [0.013414  , 0.02163345]]]],\n",
              "\n",
              "\n",
              "\n",
              "               [[[[0.01615188, 0.01149995],\n",
              "                  [0.01854655, 0.01149995]],\n",
              "\n",
              "                 [[0.02163345, 0.013414  ],\n",
              "                  [0.01884021, 0.013414  ]]],\n",
              "\n",
              "\n",
              "                [[[0.01149995, 0.01615188],\n",
              "                  [0.01149995, 0.01854655]],\n",
              "\n",
              "                 [[0.013414  , 0.02163345],\n",
              "                  [0.013414  , 0.01884021]]]]],\n",
              "\n",
              "\n",
              "\n",
              "\n",
              "              [[[[[0.01884021, 0.013414  ],\n",
              "                  [0.02163345, 0.013414  ]],\n",
              "\n",
              "                 [[0.01854655, 0.01149995],\n",
              "                  [0.01615188, 0.01149995]]],\n",
              "\n",
              "\n",
              "                [[[0.013414  , 0.01884021],\n",
              "                  [0.013414  , 0.02163345]],\n",
              "\n",
              "                 [[0.01149995, 0.01854655],\n",
              "                  [0.01149995, 0.01615188]]]],\n",
              "\n",
              "\n",
              "\n",
              "               [[[[0.02163345, 0.013414  ],\n",
              "                  [0.01884021, 0.013414  ]],\n",
              "\n",
              "                 [[0.01615188, 0.01149995],\n",
              "                  [0.01854655, 0.01149995]]],\n",
              "\n",
              "\n",
              "                [[[0.013414  , 0.02163345],\n",
              "                  [0.013414  , 0.01884021]],\n",
              "\n",
              "                 [[0.01149995, 0.01615188],\n",
              "                  [0.01149995, 0.01854655]]]]]],\n",
              "\n",
              "\n",
              "\n",
              "\n",
              "\n",
              "             [[[[[[0.01854655, 0.01149995],\n",
              "                  [0.01615188, 0.01149995]],\n",
              "\n",
              "                 [[0.01884021, 0.013414  ],\n",
              "                  [0.02163345, 0.013414  ]]],\n",
              "\n",
              "\n",
              "                [[[0.01149995, 0.01854655],\n",
              "                  [0.01149995, 0.01615188]],\n",
              "\n",
              "                 [[0.013414  , 0.01884021],\n",
              "                  [0.013414  , 0.02163345]]]],\n",
              "\n",
              "\n",
              "\n",
              "               [[[[0.01615188, 0.01149995],\n",
              "                  [0.01854655, 0.01149995]],\n",
              "\n",
              "                 [[0.02163345, 0.013414  ],\n",
              "                  [0.01884021, 0.013414  ]]],\n",
              "\n",
              "\n",
              "                [[[0.01149995, 0.01615188],\n",
              "                  [0.01149995, 0.01854655]],\n",
              "\n",
              "                 [[0.013414  , 0.02163345],\n",
              "                  [0.013414  , 0.01884021]]]]],\n",
              "\n",
              "\n",
              "\n",
              "\n",
              "              [[[[[0.01884021, 0.013414  ],\n",
              "                  [0.02163345, 0.013414  ]],\n",
              "\n",
              "                 [[0.01854655, 0.01149995],\n",
              "                  [0.01615188, 0.01149995]]],\n",
              "\n",
              "\n",
              "                [[[0.013414  , 0.01884021],\n",
              "                  [0.013414  , 0.02163345]],\n",
              "\n",
              "                 [[0.01149995, 0.01854655],\n",
              "                  [0.01149995, 0.01615188]]]],\n",
              "\n",
              "\n",
              "\n",
              "               [[[[0.02163345, 0.013414  ],\n",
              "                  [0.01884021, 0.013414  ]],\n",
              "\n",
              "                 [[0.01615188, 0.01149995],\n",
              "                  [0.01854655, 0.01149995]]],\n",
              "\n",
              "\n",
              "                [[[0.013414  , 0.02163345],\n",
              "                  [0.013414  , 0.01884021]],\n",
              "\n",
              "                 [[0.01149995, 0.01615188],\n",
              "                  [0.01149995, 0.01854655]]]]]],\n",
              "\n",
              "\n",
              "\n",
              "\n",
              "\n",
              "             [[[[[[0.01854655, 0.01149995],\n",
              "                  [0.01615188, 0.01149995]],\n",
              "\n",
              "                 [[0.01884021, 0.013414  ],\n",
              "                  [0.02163345, 0.013414  ]]],\n",
              "\n",
              "\n",
              "                [[[0.01149995, 0.01854655],\n",
              "                  [0.01149995, 0.01615188]],\n",
              "\n",
              "                 [[0.013414  , 0.01884021],\n",
              "                  [0.013414  , 0.02163345]]]],\n",
              "\n",
              "\n",
              "\n",
              "               [[[[0.01615188, 0.01149995],\n",
              "                  [0.01854655, 0.01149995]],\n",
              "\n",
              "                 [[0.02163345, 0.013414  ],\n",
              "                  [0.01884021, 0.013414  ]]],\n",
              "\n",
              "\n",
              "                [[[0.01149995, 0.01615188],\n",
              "                  [0.01149995, 0.01854655]],\n",
              "\n",
              "                 [[0.013414  , 0.02163345],\n",
              "                  [0.013414  , 0.01884021]]]]],\n",
              "\n",
              "\n",
              "\n",
              "\n",
              "              [[[[[0.01884021, 0.013414  ],\n",
              "                  [0.02163345, 0.013414  ]],\n",
              "\n",
              "                 [[0.01854655, 0.01149995],\n",
              "                  [0.01615188, 0.01149995]]],\n",
              "\n",
              "\n",
              "                [[[0.013414  , 0.01884021],\n",
              "                  [0.013414  , 0.02163345]],\n",
              "\n",
              "                 [[0.01149995, 0.01854655],\n",
              "                  [0.01149995, 0.01615188]]]],\n",
              "\n",
              "\n",
              "\n",
              "               [[[[0.02163345, 0.013414  ],\n",
              "                  [0.01884021, 0.013414  ]],\n",
              "\n",
              "                 [[0.01615188, 0.01149995],\n",
              "                  [0.01854655, 0.01149995]]],\n",
              "\n",
              "\n",
              "                [[[0.013414  , 0.02163345],\n",
              "                  [0.013414  , 0.01884021]],\n",
              "\n",
              "                 [[0.01149995, 0.01615188],\n",
              "                  [0.01149995, 0.01854655]]]]]],\n",
              "\n",
              "\n",
              "\n",
              "\n",
              "\n",
              "             ...,\n",
              "\n",
              "\n",
              "\n",
              "\n",
              "\n",
              "             [[[[[[0.01854655, 0.01149995],\n",
              "                  [0.01615188, 0.01149995]],\n",
              "\n",
              "                 [[0.01884021, 0.013414  ],\n",
              "                  [0.02163345, 0.013414  ]]],\n",
              "\n",
              "\n",
              "                [[[0.01149995, 0.01854655],\n",
              "                  [0.01149995, 0.01615188]],\n",
              "\n",
              "                 [[0.013414  , 0.01884021],\n",
              "                  [0.013414  , 0.02163345]]]],\n",
              "\n",
              "\n",
              "\n",
              "               [[[[0.01615188, 0.01149995],\n",
              "                  [0.01854655, 0.01149995]],\n",
              "\n",
              "                 [[0.02163345, 0.013414  ],\n",
              "                  [0.01884021, 0.013414  ]]],\n",
              "\n",
              "\n",
              "                [[[0.01149995, 0.01615188],\n",
              "                  [0.01149995, 0.01854655]],\n",
              "\n",
              "                 [[0.013414  , 0.02163345],\n",
              "                  [0.013414  , 0.01884021]]]]],\n",
              "\n",
              "\n",
              "\n",
              "\n",
              "              [[[[[0.01884021, 0.013414  ],\n",
              "                  [0.02163345, 0.013414  ]],\n",
              "\n",
              "                 [[0.01854655, 0.01149995],\n",
              "                  [0.01615188, 0.01149995]]],\n",
              "\n",
              "\n",
              "                [[[0.013414  , 0.01884021],\n",
              "                  [0.013414  , 0.02163345]],\n",
              "\n",
              "                 [[0.01149995, 0.01854655],\n",
              "                  [0.01149995, 0.01615188]]]],\n",
              "\n",
              "\n",
              "\n",
              "               [[[[0.02163345, 0.013414  ],\n",
              "                  [0.01884021, 0.013414  ]],\n",
              "\n",
              "                 [[0.01615188, 0.01149995],\n",
              "                  [0.01854655, 0.01149995]]],\n",
              "\n",
              "\n",
              "                [[[0.013414  , 0.02163345],\n",
              "                  [0.013414  , 0.01884021]],\n",
              "\n",
              "                 [[0.01149995, 0.01615188],\n",
              "                  [0.01149995, 0.01854655]]]]]],\n",
              "\n",
              "\n",
              "\n",
              "\n",
              "\n",
              "             [[[[[[0.01854655, 0.01149995],\n",
              "                  [0.01615188, 0.01149995]],\n",
              "\n",
              "                 [[0.01884021, 0.013414  ],\n",
              "                  [0.02163345, 0.013414  ]]],\n",
              "\n",
              "\n",
              "                [[[0.01149995, 0.01854655],\n",
              "                  [0.01149995, 0.01615188]],\n",
              "\n",
              "                 [[0.013414  , 0.01884021],\n",
              "                  [0.013414  , 0.02163345]]]],\n",
              "\n",
              "\n",
              "\n",
              "               [[[[0.01615188, 0.01149995],\n",
              "                  [0.01854655, 0.01149995]],\n",
              "\n",
              "                 [[0.02163345, 0.013414  ],\n",
              "                  [0.01884021, 0.013414  ]]],\n",
              "\n",
              "\n",
              "                [[[0.01149995, 0.01615188],\n",
              "                  [0.01149995, 0.01854655]],\n",
              "\n",
              "                 [[0.013414  , 0.02163345],\n",
              "                  [0.013414  , 0.01884021]]]]],\n",
              "\n",
              "\n",
              "\n",
              "\n",
              "              [[[[[0.01884021, 0.013414  ],\n",
              "                  [0.02163345, 0.013414  ]],\n",
              "\n",
              "                 [[0.01854655, 0.01149995],\n",
              "                  [0.01615188, 0.01149995]]],\n",
              "\n",
              "\n",
              "                [[[0.013414  , 0.01884021],\n",
              "                  [0.013414  , 0.02163345]],\n",
              "\n",
              "                 [[0.01149995, 0.01854655],\n",
              "                  [0.01149995, 0.01615188]]]],\n",
              "\n",
              "\n",
              "\n",
              "               [[[[0.02163345, 0.013414  ],\n",
              "                  [0.01884021, 0.013414  ]],\n",
              "\n",
              "                 [[0.01615188, 0.01149995],\n",
              "                  [0.01854655, 0.01149995]]],\n",
              "\n",
              "\n",
              "                [[[0.013414  , 0.02163345],\n",
              "                  [0.013414  , 0.01884021]],\n",
              "\n",
              "                 [[0.01149995, 0.01615188],\n",
              "                  [0.01149995, 0.01854655]]]]]],\n",
              "\n",
              "\n",
              "\n",
              "\n",
              "\n",
              "             [[[[[[0.01854655, 0.01149995],\n",
              "                  [0.01615188, 0.01149995]],\n",
              "\n",
              "                 [[0.01884021, 0.013414  ],\n",
              "                  [0.02163345, 0.013414  ]]],\n",
              "\n",
              "\n",
              "                [[[0.01149995, 0.01854655],\n",
              "                  [0.01149995, 0.01615188]],\n",
              "\n",
              "                 [[0.013414  , 0.01884021],\n",
              "                  [0.013414  , 0.02163345]]]],\n",
              "\n",
              "\n",
              "\n",
              "               [[[[0.01615188, 0.01149995],\n",
              "                  [0.01854655, 0.01149995]],\n",
              "\n",
              "                 [[0.02163345, 0.013414  ],\n",
              "                  [0.01884021, 0.013414  ]]],\n",
              "\n",
              "\n",
              "                [[[0.01149995, 0.01615188],\n",
              "                  [0.01149995, 0.01854655]],\n",
              "\n",
              "                 [[0.013414  , 0.02163345],\n",
              "                  [0.013414  , 0.01884021]]]]],\n",
              "\n",
              "\n",
              "\n",
              "\n",
              "              [[[[[0.01884021, 0.013414  ],\n",
              "                  [0.02163345, 0.013414  ]],\n",
              "\n",
              "                 [[0.01854655, 0.01149995],\n",
              "                  [0.01615188, 0.01149995]]],\n",
              "\n",
              "\n",
              "                [[[0.013414  , 0.01884021],\n",
              "                  [0.013414  , 0.02163345]],\n",
              "\n",
              "                 [[0.01149995, 0.01854655],\n",
              "                  [0.01149995, 0.01615188]]]],\n",
              "\n",
              "\n",
              "\n",
              "               [[[[0.02163345, 0.013414  ],\n",
              "                  [0.01884021, 0.013414  ]],\n",
              "\n",
              "                 [[0.01615188, 0.01149995],\n",
              "                  [0.01854655, 0.01149995]]],\n",
              "\n",
              "\n",
              "                [[[0.013414  , 0.02163345],\n",
              "                  [0.013414  , 0.01884021]],\n",
              "\n",
              "                 [[0.01149995, 0.01615188],\n",
              "                  [0.01149995, 0.01854655]]]]]]], dtype=float32)"
            ]
          },
          "metadata": {
            "tags": []
          },
          "execution_count": 137
        }
      ]
    },
    {
      "cell_type": "code",
      "metadata": {
        "id": "13a7a4ee"
      },
      "source": [
        "def make_cost_fn(pred_fn, labels):\n",
        "    costs = []\n",
        "    accs = []\n",
        "    params_list = []\n",
        "    def cost_fn(params, **kwargs):\n",
        "        predictions = pred_fn(params)\n",
        "\n",
        "        cost = BCE_loss(predictions, labels)\n",
        "        acc = np.sum(np.round(predictions) == labels) / len(labels) / 2\n",
        "        costs.append(cost)\n",
        "        accs.append(acc)\n",
        "        params_list.append(params)\n",
        "\n",
        "        return cost\n",
        "\n",
        "    return cost_fn, costs, accs, params_list"
      ],
      "id": "13a7a4ee",
      "execution_count": 148,
      "outputs": []
    },
    {
      "cell_type": "code",
      "metadata": {
        "id": "b01e9a61"
      },
      "source": [
        "# Rerun this cell onwards, so you can reuse the JITed prediction functions\n",
        "\n",
        "train_cost_fn, train_costs, train_accs, spsa_params = make_cost_fn(train_pred_fn, train_labels)\n",
        "dev_cost_fn, dev_costs, dev_accs, callback_params = make_cost_fn(dev_pred_fn, dev_labels)\n",
        "test_cost_fn, test_costs, test_accs, _ = make_cost_fn(test_pred_fn, test_labels)"
      ],
      "id": "b01e9a61",
      "execution_count": 145,
      "outputs": []
    },
    {
      "cell_type": "code",
      "metadata": {
        "colab": {
          "base_uri": "https://localhost:8080/"
        },
        "id": "YnLm-CtoPuAz",
        "outputId": "46edfca1-bb65-4937-95ab-ff27accbc1d8"
      },
      "source": [
        "train_costs"
      ],
      "id": "YnLm-CtoPuAz",
      "execution_count": 146,
      "outputs": [
        {
          "output_type": "execute_result",
          "data": {
            "text/plain": [
              "[]"
            ]
          },
          "metadata": {
            "tags": []
          },
          "execution_count": 146
        }
      ]
    },
    {
      "cell_type": "code",
      "metadata": {
        "scrolled": false,
        "colab": {
          "base_uri": "https://localhost:8080/",
          "height": 361
        },
        "id": "eb7c985e",
        "outputId": "2906d2f8-8206-423a-a00c-6e55a86625b6"
      },
      "source": [
        "from noisyopt import minimizeSPSA\n",
        "\n",
        "minimizeSPSA(train_cost_fn, x0=x0, a=0.13, c=0.1, niter=1, callback=dev_cost_fn)"
      ],
      "id": "eb7c985e",
      "execution_count": 141,
      "outputs": [
        {
          "output_type": "error",
          "ename": "ValueError",
          "evalue": "ignored",
          "traceback": [
            "\u001b[0;31m---------------------------------------------------------------------------\u001b[0m",
            "\u001b[0;31mValueError\u001b[0m                                Traceback (most recent call last)",
            "\u001b[0;32m<ipython-input-141-c84bfa437a9c>\u001b[0m in \u001b[0;36m<module>\u001b[0;34m()\u001b[0m\n\u001b[1;32m      1\u001b[0m \u001b[0;32mfrom\u001b[0m \u001b[0mnoisyopt\u001b[0m \u001b[0;32mimport\u001b[0m \u001b[0mminimizeSPSA\u001b[0m\u001b[0;34m\u001b[0m\u001b[0;34m\u001b[0m\u001b[0m\n\u001b[1;32m      2\u001b[0m \u001b[0;34m\u001b[0m\u001b[0m\n\u001b[0;32m----> 3\u001b[0;31m \u001b[0mminimizeSPSA\u001b[0m\u001b[0;34m(\u001b[0m\u001b[0mtrain_cost_fn\u001b[0m\u001b[0;34m,\u001b[0m \u001b[0mx0\u001b[0m\u001b[0;34m=\u001b[0m\u001b[0mx0\u001b[0m\u001b[0;34m,\u001b[0m \u001b[0ma\u001b[0m\u001b[0;34m=\u001b[0m\u001b[0;36m0.13\u001b[0m\u001b[0;34m,\u001b[0m \u001b[0mc\u001b[0m\u001b[0;34m=\u001b[0m\u001b[0;36m0.1\u001b[0m\u001b[0;34m,\u001b[0m \u001b[0mniter\u001b[0m\u001b[0;34m=\u001b[0m\u001b[0;36m1\u001b[0m\u001b[0;34m,\u001b[0m \u001b[0mcallback\u001b[0m\u001b[0;34m=\u001b[0m\u001b[0mdev_cost_fn\u001b[0m\u001b[0;34m)\u001b[0m\u001b[0;34m\u001b[0m\u001b[0;34m\u001b[0m\u001b[0m\n\u001b[0m",
            "\u001b[0;32m/usr/local/lib/python3.7/dist-packages/noisyopt/main.py\u001b[0m in \u001b[0;36mminimizeSPSA\u001b[0;34m(func, x0, args, bounds, niter, paired, a, c, disp, callback)\u001b[0m\n\u001b[1;32m    318\u001b[0m             \u001b[0mfkwargs\u001b[0m\u001b[0;34m[\u001b[0m\u001b[0;34m'seed'\u001b[0m\u001b[0;34m]\u001b[0m \u001b[0;34m=\u001b[0m \u001b[0mnp\u001b[0m\u001b[0;34m.\u001b[0m\u001b[0mrandom\u001b[0m\u001b[0;34m.\u001b[0m\u001b[0mrandint\u001b[0m\u001b[0;34m(\u001b[0m\u001b[0;36m0\u001b[0m\u001b[0;34m,\u001b[0m \u001b[0mnp\u001b[0m\u001b[0;34m.\u001b[0m\u001b[0miinfo\u001b[0m\u001b[0;34m(\u001b[0m\u001b[0mnp\u001b[0m\u001b[0;34m.\u001b[0m\u001b[0muint32\u001b[0m\u001b[0;34m)\u001b[0m\u001b[0;34m.\u001b[0m\u001b[0mmax\u001b[0m\u001b[0;34m)\u001b[0m\u001b[0;34m\u001b[0m\u001b[0;34m\u001b[0m\u001b[0m\n\u001b[1;32m    319\u001b[0m         \u001b[0;32mif\u001b[0m \u001b[0mbounds\u001b[0m \u001b[0;32mis\u001b[0m \u001b[0;32mNone\u001b[0m\u001b[0;34m:\u001b[0m\u001b[0;34m\u001b[0m\u001b[0;34m\u001b[0m\u001b[0m\n\u001b[0;32m--> 320\u001b[0;31m             \u001b[0mgrad\u001b[0m \u001b[0;34m=\u001b[0m \u001b[0;34m(\u001b[0m\u001b[0mfuncf\u001b[0m\u001b[0;34m(\u001b[0m\u001b[0mx\u001b[0m \u001b[0;34m+\u001b[0m \u001b[0mck\u001b[0m\u001b[0;34m*\u001b[0m\u001b[0mdelta\u001b[0m\u001b[0;34m,\u001b[0m \u001b[0;34m**\u001b[0m\u001b[0mfkwargs\u001b[0m\u001b[0;34m)\u001b[0m \u001b[0;34m-\u001b[0m \u001b[0mfuncf\u001b[0m\u001b[0;34m(\u001b[0m\u001b[0mx\u001b[0m \u001b[0;34m-\u001b[0m \u001b[0mck\u001b[0m\u001b[0;34m*\u001b[0m\u001b[0mdelta\u001b[0m\u001b[0;34m,\u001b[0m \u001b[0;34m**\u001b[0m\u001b[0mfkwargs\u001b[0m\u001b[0;34m)\u001b[0m\u001b[0;34m)\u001b[0m \u001b[0;34m/\u001b[0m \u001b[0;34m(\u001b[0m\u001b[0;36m2\u001b[0m\u001b[0;34m*\u001b[0m\u001b[0mck\u001b[0m\u001b[0;34m*\u001b[0m\u001b[0mdelta\u001b[0m\u001b[0;34m)\u001b[0m\u001b[0;34m\u001b[0m\u001b[0;34m\u001b[0m\u001b[0m\n\u001b[0m\u001b[1;32m    321\u001b[0m         \u001b[0;32melse\u001b[0m\u001b[0;34m:\u001b[0m\u001b[0;34m\u001b[0m\u001b[0;34m\u001b[0m\u001b[0m\n\u001b[1;32m    322\u001b[0m             \u001b[0;31m# ensure evaluation points are feasible\u001b[0m\u001b[0;34m\u001b[0m\u001b[0;34m\u001b[0m\u001b[0;34m\u001b[0m\u001b[0m\n",
            "\u001b[0;32m/usr/local/lib/python3.7/dist-packages/noisyopt/main.py\u001b[0m in \u001b[0;36mfuncf\u001b[0;34m(x, **kwargs)\u001b[0m\n\u001b[1;32m    306\u001b[0m         \u001b[0;31m# freeze function arguments\u001b[0m\u001b[0;34m\u001b[0m\u001b[0;34m\u001b[0m\u001b[0;34m\u001b[0m\u001b[0m\n\u001b[1;32m    307\u001b[0m         \u001b[0;32mdef\u001b[0m \u001b[0mfuncf\u001b[0m\u001b[0;34m(\u001b[0m\u001b[0mx\u001b[0m\u001b[0;34m,\u001b[0m \u001b[0;34m**\u001b[0m\u001b[0mkwargs\u001b[0m\u001b[0;34m)\u001b[0m\u001b[0;34m:\u001b[0m\u001b[0;34m\u001b[0m\u001b[0;34m\u001b[0m\u001b[0m\n\u001b[0;32m--> 308\u001b[0;31m             \u001b[0;32mreturn\u001b[0m \u001b[0mfunc\u001b[0m\u001b[0;34m(\u001b[0m\u001b[0mx\u001b[0m\u001b[0;34m,\u001b[0m \u001b[0;34m*\u001b[0m\u001b[0margs\u001b[0m\u001b[0;34m,\u001b[0m \u001b[0;34m**\u001b[0m\u001b[0mkwargs\u001b[0m\u001b[0;34m)\u001b[0m\u001b[0;34m\u001b[0m\u001b[0;34m\u001b[0m\u001b[0m\n\u001b[0m\u001b[1;32m    309\u001b[0m \u001b[0;34m\u001b[0m\u001b[0m\n\u001b[1;32m    310\u001b[0m     \u001b[0mN\u001b[0m \u001b[0;34m=\u001b[0m \u001b[0mlen\u001b[0m\u001b[0;34m(\u001b[0m\u001b[0mx0\u001b[0m\u001b[0;34m)\u001b[0m\u001b[0;34m\u001b[0m\u001b[0;34m\u001b[0m\u001b[0m\n",
            "\u001b[0;32m<ipython-input-138-6aab1a8faf20>\u001b[0m in \u001b[0;36mcost_fn\u001b[0;34m(params, **kwargs)\u001b[0m\n\u001b[1;32m      6\u001b[0m         \u001b[0mpredictions\u001b[0m \u001b[0;34m=\u001b[0m \u001b[0mpred_fn\u001b[0m\u001b[0;34m(\u001b[0m\u001b[0mparams\u001b[0m\u001b[0;34m)\u001b[0m\u001b[0;34m\u001b[0m\u001b[0;34m\u001b[0m\u001b[0m\n\u001b[1;32m      7\u001b[0m \u001b[0;34m\u001b[0m\u001b[0m\n\u001b[0;32m----> 8\u001b[0;31m         \u001b[0mcost\u001b[0m \u001b[0;34m=\u001b[0m \u001b[0mBCE_loss\u001b[0m\u001b[0;34m(\u001b[0m\u001b[0mpredictions\u001b[0m\u001b[0;34m,\u001b[0m \u001b[0mlabels\u001b[0m\u001b[0;34m)\u001b[0m\u001b[0;34m\u001b[0m\u001b[0;34m\u001b[0m\u001b[0m\n\u001b[0m\u001b[1;32m      9\u001b[0m         \u001b[0macc\u001b[0m \u001b[0;34m=\u001b[0m \u001b[0mnp\u001b[0m\u001b[0;34m.\u001b[0m\u001b[0msum\u001b[0m\u001b[0;34m(\u001b[0m\u001b[0mnp\u001b[0m\u001b[0;34m.\u001b[0m\u001b[0mround\u001b[0m\u001b[0;34m(\u001b[0m\u001b[0mpredictions\u001b[0m\u001b[0;34m)\u001b[0m \u001b[0;34m==\u001b[0m \u001b[0mlabels\u001b[0m\u001b[0;34m)\u001b[0m \u001b[0;34m/\u001b[0m \u001b[0mlen\u001b[0m\u001b[0;34m(\u001b[0m\u001b[0mlabels\u001b[0m\u001b[0;34m)\u001b[0m \u001b[0;34m/\u001b[0m \u001b[0;36m2\u001b[0m\u001b[0;34m\u001b[0m\u001b[0;34m\u001b[0m\u001b[0m\n\u001b[1;32m     10\u001b[0m         \u001b[0mcosts\u001b[0m\u001b[0;34m.\u001b[0m\u001b[0mappend\u001b[0m\u001b[0;34m(\u001b[0m\u001b[0mcost\u001b[0m\u001b[0;34m)\u001b[0m\u001b[0;34m\u001b[0m\u001b[0;34m\u001b[0m\u001b[0m\n",
            "\u001b[0;32m<ipython-input-134-3e0f08f5c2de>\u001b[0m in \u001b[0;36mBCE_loss\u001b[0;34m(predicts, labels)\u001b[0m\n\u001b[1;32m      6\u001b[0m \u001b[0;34m\u001b[0m\u001b[0m\n\u001b[1;32m      7\u001b[0m \u001b[0;32mdef\u001b[0m \u001b[0mBCE_loss\u001b[0m\u001b[0;34m(\u001b[0m\u001b[0mpredicts\u001b[0m\u001b[0;34m,\u001b[0m \u001b[0mlabels\u001b[0m\u001b[0;34m)\u001b[0m\u001b[0;34m:\u001b[0m\u001b[0;34m\u001b[0m\u001b[0;34m\u001b[0m\u001b[0m\n\u001b[0;32m----> 8\u001b[0;31m     \u001b[0mcross_entropies\u001b[0m \u001b[0;34m=\u001b[0m \u001b[0mnp\u001b[0m\u001b[0;34m.\u001b[0m\u001b[0msum\u001b[0m\u001b[0;34m(\u001b[0m\u001b[0mlabels\u001b[0m \u001b[0;34m*\u001b[0m \u001b[0mnp\u001b[0m\u001b[0;34m.\u001b[0m\u001b[0mlog2\u001b[0m\u001b[0;34m(\u001b[0m\u001b[0mpredicts\u001b[0m\u001b[0;34m)\u001b[0m\u001b[0;34m)\u001b[0m\u001b[0;34m\u001b[0m\u001b[0;34m\u001b[0m\u001b[0m\n\u001b[0m\u001b[1;32m      9\u001b[0m     \u001b[0mcost\u001b[0m \u001b[0;34m=\u001b[0m \u001b[0;34m-\u001b[0m\u001b[0;36m1\u001b[0m\u001b[0;34m/\u001b[0m\u001b[0mlen\u001b[0m\u001b[0;34m(\u001b[0m\u001b[0mlabels\u001b[0m\u001b[0;34m)\u001b[0m \u001b[0;34m*\u001b[0m \u001b[0mnp\u001b[0m\u001b[0;34m.\u001b[0m\u001b[0msum\u001b[0m\u001b[0;34m(\u001b[0m\u001b[0mcross_entropies\u001b[0m\u001b[0;34m)\u001b[0m\u001b[0;34m\u001b[0m\u001b[0;34m\u001b[0m\u001b[0m\n\u001b[1;32m     10\u001b[0m \u001b[0;34m\u001b[0m\u001b[0m\n",
            "\u001b[0;32m/usr/local/lib/python3.7/dist-packages/jax/_src/numpy/lax_numpy.py\u001b[0m in \u001b[0;36mdeferring_binary_op\u001b[0;34m(self, other)\u001b[0m\n\u001b[1;32m   5867\u001b[0m     \u001b[0;32mif\u001b[0m \u001b[0;32mnot\u001b[0m \u001b[0misinstance\u001b[0m\u001b[0;34m(\u001b[0m\u001b[0mother\u001b[0m\u001b[0;34m,\u001b[0m \u001b[0m_scalar_types\u001b[0m \u001b[0;34m+\u001b[0m \u001b[0m_arraylike_types\u001b[0m \u001b[0;34m+\u001b[0m \u001b[0;34m(\u001b[0m\u001b[0mcore\u001b[0m\u001b[0;34m.\u001b[0m\u001b[0mTracer\u001b[0m\u001b[0;34m,\u001b[0m\u001b[0;34m)\u001b[0m\u001b[0;34m)\u001b[0m\u001b[0;34m:\u001b[0m\u001b[0;34m\u001b[0m\u001b[0;34m\u001b[0m\u001b[0m\n\u001b[1;32m   5868\u001b[0m       \u001b[0;32mreturn\u001b[0m \u001b[0mNotImplemented\u001b[0m\u001b[0;34m\u001b[0m\u001b[0;34m\u001b[0m\u001b[0m\n\u001b[0;32m-> 5869\u001b[0;31m     \u001b[0;32mreturn\u001b[0m \u001b[0mbinary_op\u001b[0m\u001b[0;34m(\u001b[0m\u001b[0mself\u001b[0m\u001b[0;34m,\u001b[0m \u001b[0mother\u001b[0m\u001b[0;34m)\u001b[0m\u001b[0;34m\u001b[0m\u001b[0;34m\u001b[0m\u001b[0m\n\u001b[0m\u001b[1;32m   5870\u001b[0m   \u001b[0;32mreturn\u001b[0m \u001b[0mdeferring_binary_op\u001b[0m\u001b[0;34m\u001b[0m\u001b[0;34m\u001b[0m\u001b[0m\n\u001b[1;32m   5871\u001b[0m \u001b[0;34m\u001b[0m\u001b[0m\n",
            "\u001b[0;32m/usr/local/lib/python3.7/dist-packages/jax/_src/numpy/lax_numpy.py\u001b[0m in \u001b[0;36mfn\u001b[0;34m(x1, x2)\u001b[0m\n\u001b[1;32m    428\u001b[0m \u001b[0;32mdef\u001b[0m \u001b[0m_maybe_bool_binop\u001b[0m\u001b[0;34m(\u001b[0m\u001b[0mnumpy_fn\u001b[0m\u001b[0;34m,\u001b[0m \u001b[0mlax_fn\u001b[0m\u001b[0;34m,\u001b[0m \u001b[0mbool_lax_fn\u001b[0m\u001b[0;34m,\u001b[0m \u001b[0mlax_doc\u001b[0m\u001b[0;34m=\u001b[0m\u001b[0;32mFalse\u001b[0m\u001b[0;34m)\u001b[0m\u001b[0;34m:\u001b[0m\u001b[0;34m\u001b[0m\u001b[0;34m\u001b[0m\u001b[0m\n\u001b[1;32m    429\u001b[0m   \u001b[0;32mdef\u001b[0m \u001b[0mfn\u001b[0m\u001b[0;34m(\u001b[0m\u001b[0mx1\u001b[0m\u001b[0;34m,\u001b[0m \u001b[0mx2\u001b[0m\u001b[0;34m)\u001b[0m\u001b[0;34m:\u001b[0m\u001b[0;34m\u001b[0m\u001b[0;34m\u001b[0m\u001b[0m\n\u001b[0;32m--> 430\u001b[0;31m     \u001b[0mx1\u001b[0m\u001b[0;34m,\u001b[0m \u001b[0mx2\u001b[0m \u001b[0;34m=\u001b[0m \u001b[0m_promote_args\u001b[0m\u001b[0;34m(\u001b[0m\u001b[0mnumpy_fn\u001b[0m\u001b[0;34m.\u001b[0m\u001b[0m__name__\u001b[0m\u001b[0;34m,\u001b[0m \u001b[0mx1\u001b[0m\u001b[0;34m,\u001b[0m \u001b[0mx2\u001b[0m\u001b[0;34m)\u001b[0m\u001b[0;34m\u001b[0m\u001b[0;34m\u001b[0m\u001b[0m\n\u001b[0m\u001b[1;32m    431\u001b[0m     \u001b[0;32mreturn\u001b[0m \u001b[0mlax_fn\u001b[0m\u001b[0;34m(\u001b[0m\u001b[0mx1\u001b[0m\u001b[0;34m,\u001b[0m \u001b[0mx2\u001b[0m\u001b[0;34m)\u001b[0m \u001b[0;32mif\u001b[0m \u001b[0mx1\u001b[0m\u001b[0;34m.\u001b[0m\u001b[0mdtype\u001b[0m \u001b[0;34m!=\u001b[0m \u001b[0mbool_\u001b[0m \u001b[0;32melse\u001b[0m \u001b[0mbool_lax_fn\u001b[0m\u001b[0;34m(\u001b[0m\u001b[0mx1\u001b[0m\u001b[0;34m,\u001b[0m \u001b[0mx2\u001b[0m\u001b[0;34m)\u001b[0m\u001b[0;34m\u001b[0m\u001b[0;34m\u001b[0m\u001b[0m\n\u001b[1;32m    432\u001b[0m   \u001b[0;32mreturn\u001b[0m \u001b[0m_wraps\u001b[0m\u001b[0;34m(\u001b[0m\u001b[0mnumpy_fn\u001b[0m\u001b[0;34m)\u001b[0m\u001b[0;34m(\u001b[0m\u001b[0mfn\u001b[0m\u001b[0;34m)\u001b[0m\u001b[0;34m\u001b[0m\u001b[0;34m\u001b[0m\u001b[0m\n",
            "\u001b[0;32m/usr/local/lib/python3.7/dist-packages/jax/_src/numpy/lax_numpy.py\u001b[0m in \u001b[0;36m_promote_args\u001b[0;34m(fun_name, *args)\u001b[0m\n\u001b[1;32m    324\u001b[0m   \u001b[0m_check_arraylike\u001b[0m\u001b[0;34m(\u001b[0m\u001b[0mfun_name\u001b[0m\u001b[0;34m,\u001b[0m \u001b[0;34m*\u001b[0m\u001b[0margs\u001b[0m\u001b[0;34m)\u001b[0m\u001b[0;34m\u001b[0m\u001b[0;34m\u001b[0m\u001b[0m\n\u001b[1;32m    325\u001b[0m   \u001b[0m_check_no_float0s\u001b[0m\u001b[0;34m(\u001b[0m\u001b[0mfun_name\u001b[0m\u001b[0;34m,\u001b[0m \u001b[0;34m*\u001b[0m\u001b[0margs\u001b[0m\u001b[0;34m)\u001b[0m\u001b[0;34m\u001b[0m\u001b[0;34m\u001b[0m\u001b[0m\n\u001b[0;32m--> 326\u001b[0;31m   \u001b[0;32mreturn\u001b[0m \u001b[0m_promote_shapes\u001b[0m\u001b[0;34m(\u001b[0m\u001b[0mfun_name\u001b[0m\u001b[0;34m,\u001b[0m \u001b[0;34m*\u001b[0m\u001b[0m_promote_dtypes\u001b[0m\u001b[0;34m(\u001b[0m\u001b[0;34m*\u001b[0m\u001b[0margs\u001b[0m\u001b[0;34m)\u001b[0m\u001b[0;34m)\u001b[0m\u001b[0;34m\u001b[0m\u001b[0;34m\u001b[0m\u001b[0m\n\u001b[0m\u001b[1;32m    327\u001b[0m \u001b[0;34m\u001b[0m\u001b[0m\n\u001b[1;32m    328\u001b[0m \u001b[0;32mdef\u001b[0m \u001b[0m_promote_args_inexact\u001b[0m\u001b[0;34m(\u001b[0m\u001b[0mfun_name\u001b[0m\u001b[0;34m,\u001b[0m \u001b[0;34m*\u001b[0m\u001b[0margs\u001b[0m\u001b[0;34m)\u001b[0m\u001b[0;34m:\u001b[0m\u001b[0;34m\u001b[0m\u001b[0;34m\u001b[0m\u001b[0m\n",
            "\u001b[0;32m/usr/local/lib/python3.7/dist-packages/jax/_src/numpy/lax_numpy.py\u001b[0m in \u001b[0;36m_promote_shapes\u001b[0;34m(fun_name, *args)\u001b[0m\n\u001b[1;32m    244\u001b[0m       \u001b[0;32mif\u001b[0m \u001b[0mconfig\u001b[0m\u001b[0;34m.\u001b[0m\u001b[0mjax_numpy_rank_promotion\u001b[0m \u001b[0;34m!=\u001b[0m \u001b[0;34m\"allow\"\u001b[0m\u001b[0;34m:\u001b[0m\u001b[0;34m\u001b[0m\u001b[0;34m\u001b[0m\u001b[0m\n\u001b[1;32m    245\u001b[0m         \u001b[0m_rank_promotion_warning_or_error\u001b[0m\u001b[0;34m(\u001b[0m\u001b[0mfun_name\u001b[0m\u001b[0;34m,\u001b[0m \u001b[0mshapes\u001b[0m\u001b[0;34m)\u001b[0m\u001b[0;34m\u001b[0m\u001b[0;34m\u001b[0m\u001b[0m\n\u001b[0;32m--> 246\u001b[0;31m       \u001b[0mresult_rank\u001b[0m \u001b[0;34m=\u001b[0m \u001b[0mlen\u001b[0m\u001b[0;34m(\u001b[0m\u001b[0mlax\u001b[0m\u001b[0;34m.\u001b[0m\u001b[0mbroadcast_shapes\u001b[0m\u001b[0;34m(\u001b[0m\u001b[0;34m*\u001b[0m\u001b[0mshapes\u001b[0m\u001b[0;34m)\u001b[0m\u001b[0;34m)\u001b[0m\u001b[0;34m\u001b[0m\u001b[0;34m\u001b[0m\u001b[0m\n\u001b[0m\u001b[1;32m    247\u001b[0m       return [broadcast_to(arg, (1,) * (result_rank - len(shp)) + shp)\n\u001b[1;32m    248\u001b[0m               for arg, shp in zip(args, shapes)]\n",
            "\u001b[0;32m/usr/local/lib/python3.7/dist-packages/jax/_src/util.py\u001b[0m in \u001b[0;36mwrapper\u001b[0;34m(*args, **kwargs)\u001b[0m\n\u001b[1;32m    184\u001b[0m         \u001b[0;32mreturn\u001b[0m \u001b[0mf\u001b[0m\u001b[0;34m(\u001b[0m\u001b[0;34m*\u001b[0m\u001b[0margs\u001b[0m\u001b[0;34m,\u001b[0m \u001b[0;34m**\u001b[0m\u001b[0mkwargs\u001b[0m\u001b[0;34m)\u001b[0m\u001b[0;34m\u001b[0m\u001b[0;34m\u001b[0m\u001b[0m\n\u001b[1;32m    185\u001b[0m       \u001b[0;32melse\u001b[0m\u001b[0;34m:\u001b[0m\u001b[0;34m\u001b[0m\u001b[0;34m\u001b[0m\u001b[0m\n\u001b[0;32m--> 186\u001b[0;31m         \u001b[0;32mreturn\u001b[0m \u001b[0mcached\u001b[0m\u001b[0;34m(\u001b[0m\u001b[0mconfig\u001b[0m\u001b[0;34m.\u001b[0m\u001b[0m_trace_context\u001b[0m\u001b[0;34m(\u001b[0m\u001b[0;34m)\u001b[0m\u001b[0;34m,\u001b[0m \u001b[0;34m*\u001b[0m\u001b[0margs\u001b[0m\u001b[0;34m,\u001b[0m \u001b[0;34m**\u001b[0m\u001b[0mkwargs\u001b[0m\u001b[0;34m)\u001b[0m\u001b[0;34m\u001b[0m\u001b[0;34m\u001b[0m\u001b[0m\n\u001b[0m\u001b[1;32m    187\u001b[0m \u001b[0;34m\u001b[0m\u001b[0m\n\u001b[1;32m    188\u001b[0m     \u001b[0mwrapper\u001b[0m\u001b[0;34m.\u001b[0m\u001b[0mcache_clear\u001b[0m \u001b[0;34m=\u001b[0m \u001b[0mcached\u001b[0m\u001b[0;34m.\u001b[0m\u001b[0mcache_clear\u001b[0m\u001b[0;34m\u001b[0m\u001b[0;34m\u001b[0m\u001b[0m\n",
            "\u001b[0;32m/usr/local/lib/python3.7/dist-packages/jax/_src/util.py\u001b[0m in \u001b[0;36mcached\u001b[0;34m(_, *args, **kwargs)\u001b[0m\n\u001b[1;32m    177\u001b[0m     \u001b[0;34m@\u001b[0m\u001b[0mfunctools\u001b[0m\u001b[0;34m.\u001b[0m\u001b[0mlru_cache\u001b[0m\u001b[0;34m(\u001b[0m\u001b[0mmax_size\u001b[0m\u001b[0;34m)\u001b[0m\u001b[0;34m\u001b[0m\u001b[0;34m\u001b[0m\u001b[0m\n\u001b[1;32m    178\u001b[0m     \u001b[0;32mdef\u001b[0m \u001b[0mcached\u001b[0m\u001b[0;34m(\u001b[0m\u001b[0m_\u001b[0m\u001b[0;34m,\u001b[0m \u001b[0;34m*\u001b[0m\u001b[0margs\u001b[0m\u001b[0;34m,\u001b[0m \u001b[0;34m**\u001b[0m\u001b[0mkwargs\u001b[0m\u001b[0;34m)\u001b[0m\u001b[0;34m:\u001b[0m\u001b[0;34m\u001b[0m\u001b[0;34m\u001b[0m\u001b[0m\n\u001b[0;32m--> 179\u001b[0;31m       \u001b[0;32mreturn\u001b[0m \u001b[0mf\u001b[0m\u001b[0;34m(\u001b[0m\u001b[0;34m*\u001b[0m\u001b[0margs\u001b[0m\u001b[0;34m,\u001b[0m \u001b[0;34m**\u001b[0m\u001b[0mkwargs\u001b[0m\u001b[0;34m)\u001b[0m\u001b[0;34m\u001b[0m\u001b[0;34m\u001b[0m\u001b[0m\n\u001b[0m\u001b[1;32m    180\u001b[0m \u001b[0;34m\u001b[0m\u001b[0m\n\u001b[1;32m    181\u001b[0m     \u001b[0;34m@\u001b[0m\u001b[0mfunctools\u001b[0m\u001b[0;34m.\u001b[0m\u001b[0mwraps\u001b[0m\u001b[0;34m(\u001b[0m\u001b[0mf\u001b[0m\u001b[0;34m)\u001b[0m\u001b[0;34m\u001b[0m\u001b[0;34m\u001b[0m\u001b[0m\n",
            "\u001b[0;32m/usr/local/lib/python3.7/dist-packages/jax/_src/lax/lax.py\u001b[0m in \u001b[0;36mbroadcast_shapes\u001b[0;34m(*shapes)\u001b[0m\n\u001b[1;32m     91\u001b[0m   \u001b[0;32mif\u001b[0m \u001b[0mresult_shape\u001b[0m \u001b[0;32mis\u001b[0m \u001b[0;32mNone\u001b[0m\u001b[0;34m:\u001b[0m\u001b[0;34m\u001b[0m\u001b[0;34m\u001b[0m\u001b[0m\n\u001b[1;32m     92\u001b[0m     raise ValueError(\"Incompatible shapes for broadcasting: {}\"\n\u001b[0;32m---> 93\u001b[0;31m                      .format(tuple(map(tuple, shapes))))\n\u001b[0m\u001b[1;32m     94\u001b[0m   \u001b[0;32mreturn\u001b[0m \u001b[0mresult_shape\u001b[0m\u001b[0;34m\u001b[0m\u001b[0;34m\u001b[0m\u001b[0m\n\u001b[1;32m     95\u001b[0m \u001b[0;34m\u001b[0m\u001b[0m\n",
            "\u001b[0;31mValueError\u001b[0m: Incompatible shapes for broadcasting: ((1, 1, 1, 1, 1, 1, 12), (12, 2, 2, 2, 2, 2, 2))"
          ]
        }
      ]
    },
    {
      "cell_type": "code",
      "metadata": {
        "id": "9443c5b4",
        "colab": {
          "base_uri": "https://localhost:8080/",
          "height": 295
        },
        "outputId": "8515d88d-0c62-4f23-9572-63075bf98eb8"
      },
      "source": [
        "import matplotlib.pylab as plt\n",
        "fig, ax1 = plt.subplots()\n",
        "ax1.plot(train_costs[::2], color='#54436B')\n",
        "ax1.set_ylabel('Cost')\n",
        "ax1.set_xlabel('Iterations')\n",
        "ax1.set_title('Training Set')\n",
        "\n",
        "ax2 = ax1.twinx()\n",
        "ax2.plot(train_accs[::2], color='#50CB93')\n",
        "ax2.set_ylabel('Accuracy')\n",
        "plt.show()"
      ],
      "id": "9443c5b4",
      "execution_count": 122,
      "outputs": [
        {
          "output_type": "display_data",
          "data": {
            "image/png": "[encoded data removed]",
            "text/plain": [
              "<Figure size 432x288 with 2 Axes>"
            ]
          },
          "metadata": {
            "tags": [],
            "needs_background": "light"
          }
        }
      ]
    },
    {
      "cell_type": "code",
      "metadata": {
        "id": "ab5744bb",
        "colab": {
          "base_uri": "https://localhost:8080/",
          "height": 295
        },
        "outputId": "99190f61-fe2e-4a43-9e6d-8f291dc05735"
      },
      "source": [
        "fig, ax1 = plt.subplots()\n",
        "ax1.plot(dev_costs, color='#A03C78')\n",
        "ax1.set_ylabel('Cost')\n",
        "ax1.set_xlabel('Iterations')\n",
        "ax1.set_title('Development Set')\n",
        "\n",
        "ax2 = ax1.twinx()\n",
        "ax2.plot(dev_accs, color='#ED8E7C')\n",
        "ax2.set_ylabel('Accuracy')\n",
        "plt.show()"
      ],
      "id": "ab5744bb",
      "execution_count": 60,
      "outputs": [
        {
          "output_type": "display_data",
          "data": {
            "image/png": "[encoded data removed]",
            "text/plain": [
              "<Figure size 432x288 with 2 Axes>"
            ]
          },
          "metadata": {
            "tags": [],
            "needs_background": "light"
          }
        }
      ]
    },
    {
      "cell_type": "code",
      "metadata": {
        "id": "2c71c83d"
      },
      "source": [
        "# when you are happy with the development set results\n",
        "# run your model on the testing set\n",
        "\n",
        "# for p in callback_params:\n",
        "#     test_cost_fn(p)"
      ],
      "id": "2c71c83d",
      "execution_count": null,
      "outputs": []
    },
    {
      "cell_type": "code",
      "metadata": {
        "id": "c2b83fe7",
        "colab": {
          "base_uri": "https://localhost:8080/",
          "height": 295
        },
        "outputId": "7d67c9cb-aadb-4d28-f6c0-6804468b8cd4"
      },
      "source": [
        "fig, ax1 = plt.subplots()\n",
        "ax1.plot(test_costs, color='#7C83FD')\n",
        "ax1.set_ylabel('Cost')\n",
        "ax1.set_xlabel('Iterations')\n",
        "ax1.set_title('Testing Set')\n",
        "\n",
        "ax2 = ax1.twinx()\n",
        "ax2.plot(test_accs, color='#96BAFF')\n",
        "ax2.set_ylabel('Accuracy')\n",
        "plt.show()"
      ],
      "id": "c2b83fe7",
      "execution_count": 61,
      "outputs": [
        {
          "output_type": "display_data",
          "data": {
            "image/png": "[encoded data removed]",
            "text/plain": [
              "<Figure size 432x288 with 2 Axes>"
            ]
          },
          "metadata": {
            "tags": [],
            "needs_background": "light"
          }
        }
      ]
    },
    {
      "cell_type": "code",
      "metadata": {
        "id": "6f1b9c17"
      },
      "source": [
        ""
      ],
      "id": "6f1b9c17",
      "execution_count": null,
      "outputs": []
    }
  ]
}