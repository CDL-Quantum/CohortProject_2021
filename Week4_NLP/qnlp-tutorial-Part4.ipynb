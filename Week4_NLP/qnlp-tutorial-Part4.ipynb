{
 "cells": [
  {
   "cell_type": "markdown",
   "metadata": {},
   "source": [
    "# qnlp-tutorial\n",
    "\n",
    "We go through the basics of DisCoPy and QNLP. On the menu:\n",
    "\n",
    "1. [Drawing cooking recipes](#1.-Drawing-cooking-recipes)\n",
    "2. [Tensors as boxes](#2.-Tensors-as-boxes)\n",
    "3. [Drawing quantum circuits](#3.-Drawing-quantum-circuits)\n",
    "4. [Drawing grammatical structure](#4.-Drawing-grammatical-structure)\n",
    "5. [Putting it all together: QNLP](#5.-Putting-it-all-together:-QNLP)\n",
    "6. [References](#References)"
   ]
  },
  {
   "cell_type": "code",
   "execution_count": 1,
   "metadata": {},
   "outputs": [],
   "source": [
    "import numpy as np\n",
    "from discopy import Ob, Ty, Box, drawing, Id, Swap, Diagram, Functor, Dim, Tensor, Cup, Cap, tensor, Word, pregroup\n",
    "# from discopy.quantum import qubit, H, Id, CX, QuantumGate, Ket, Bra, Measure, Discard, SWAP,  circuit, sqrt, X\n",
    "# from pytket.extensions.qiskit import AerBackend, backends\n",
    "# from pytket.extensions.qiskit.backends.ibm import job_monitor\n",
    "# from pytket.extensions.qiskit.backends.ibm.IBMQ.ibmq import load_account"
   ]
  },
  {
   "cell_type": "markdown",
   "metadata": {},
   "source": [
    "# Drawing grammatical structure\n",
    "\n",
    "So far we've learnt how to draw diagrams of cooking recipes and how to evaluate quantum circuits. Now we're gonna see that diagrams can represent **grammatical structure**. The basic ingredients are grammatical types: `n` for noun, `s` for sentence, etc. Each ingredient has left and right adjoints `n.l` and `n.r` which represent a missing noun on the right and left respectively. For example, the type for intransitive verbs `n.r @ s` reads \"take a noun on your left and give a sentence\".\n",
    "\n",
    "The cooking steps are of two kinds: words and cups. Words have no inputs, they output their own grammatical type. Cups have no outputs, they take as inputs two types `left` and `right` that cancel each other, i.e. such that `left.r == right`. The recipe for a sentence goes in three steps:\n",
    "\n",
    "1. Tensor the word boxes together.\n",
    "2. Compose with cups and identities.\n",
    "3. Once there is only the sentence type `s` left, you parsed the sentence!\n",
    "\n",
    "For example:"
   ]
  },
  {
   "cell_type": "code",
   "execution_count": 10,
   "metadata": {},
   "outputs": [
    {
     "data": {
      "image/png": "[encoded data removed]",
      "text/plain": [
       "<Figure size 360x360 with 1 Axes>"
      ]
     },
     "metadata": {
      "needs_background": "light"
     },
     "output_type": "display_data"
    }
   ],
   "source": [
    "n, s = Ty('n'), Ty('s')\n",
    "\n",
    "Alice = Word(\"Alice\", n)\n",
    "loves = Word(\"loves\", n.r @ s @ n.l)\n",
    "Bob = Word(\"Bob\", n)\n",
    "\n",
    "grammar = Cup(n, n.r) @ Id(s) @ Cup(n.l, n)\n",
    "\n",
    "sentence = Alice @ loves @ Bob >> grammar\n",
    "pregroup.draw(sentence, figsize=(5, 5))"
   ]
  },
  {
   "cell_type": "markdown",
   "metadata": {},
   "source": [
    "Note that although in this tutorial we draw all our diagram by hand, this parsing process can be automated. Indeed once you fix a **dictionary**, i.e. a set of words with their possible grammatical types, it is completely mechanical to decide whether a sequence of words is grammatical. More precisely, it takes $O(n^3)$ time to decide whether a sequence of length $n$ is a sentence, and to output the diagram for its grammatical structure.\n",
    "\n",
    "Such a dictionary is called a **pregroup grammar**, introduced by Lambek in 1999 and has been used to study the syntax of English, French, Persian and a dozen of other natural languages. Note that pregroup grammars are as expressive as the better known **context-free grammar**, where the diagrams are called **syntax trees**."
   ]
  },
  {
   "cell_type": "markdown",
   "metadata": {},
   "source": [
    "# Exercise 4.1\n",
    "Draw the diagram of a sentence in a language with a different word order, e.g. Japanese."
   ]
  },
  {
   "cell_type": "markdown",
   "metadata": {},
   "source": [
    "we write the sentence Hanako ga tegami o kaita, which means Hanako has wrote a letter. \n",
    "\n",
    "\n",
    "ref : https://aclanthology.org/Y07-1009.pdf"
   ]
  },
  {
   "cell_type": "markdown",
   "metadata": {},
   "source": [
    "![japan](imgs/japan.png)"
   ]
  },
  {
   "cell_type": "code",
   "execution_count": 7,
   "metadata": {},
   "outputs": [
    {
     "data": {
      "image/png": "[encoded data removed]",
      "text/plain": [
       "<Figure size 720x1440 with 1 Axes>"
      ]
     },
     "metadata": {
      "needs_background": "light"
     },
     "output_type": "display_data"
    }
   ],
   "source": [
    "Hanako = Word(\"Hanako\", n)\n",
    "ga = Word(\"ga\", n.r @ n)\n",
    "tegami = Word(\"tegami\", n)\n",
    "o = Word(\"o\", n.r @ n)\n",
    "kaita = Word(\"kaita\", n.r @ n.r @ s)\n",
    "\n",
    "grammar_japanese = Cup(n, n.r) @ Id(n) @ Cup(n, n.r)  @ Cup(n, n.r)  @ Id(n.r) @ Id(s) >> Cup(n,n.r) @ Id(s)\n",
    "\n",
    "sentence = Hanako @ ga @ tegami @ o @ kaita >> grammar_japanese\n",
    "pregroup.draw(sentence, figsize=(10, 20))"
   ]
  },
  {
   "cell_type": "markdown",
   "metadata": {},
   "source": [
    "## Exercise 4.2 \n",
    "Draw the diagram of a sentence in a language written right to left, e.g. Arabic."
   ]
  },
  {
   "cell_type": "markdown",
   "metadata": {},
   "source": [
    "![arabic](imgs/arabicFlag.png)"
   ]
  },
  {
   "cell_type": "markdown",
   "metadata": {},
   "source": [
    "ġadara ahmad al-madinah, which means ahmad left the city\n",
    "\n",
    "ref https://www.researchgate.net/publication/326268380_Parsing_Arabic_Verb_Phrases_Using_Pregroup_Grammars"
   ]
  },
  {
   "cell_type": "code",
   "execution_count": 8,
   "metadata": {},
   "outputs": [
    {
     "data": {
      "image/png": "[encoded data removed]",
      "text/plain": [
       "<Figure size 360x720 with 1 Axes>"
      ]
     },
     "metadata": {
      "needs_background": "light"
     },
     "output_type": "display_data"
    }
   ],
   "source": [
    "gadara = Word(\"gadara\", s @ n.l @ n.l)\n",
    "ahmad = Word(\"ahmad\", n)\n",
    "almadinah = Word(\"al-madihna\", n)\n",
    "\n",
    "grammar_arabic = Id(s) @ Id(n.l) @ Cup(n.l, n) @ Id(n) >> Id(s) @ Cup(n.l, n)\n",
    "\n",
    "sentence = gadara @ ahmad @ almadinah >> grammar_arabic\n",
    "pregroup.draw(sentence, figsize=(5, 10))"
   ]
  },
  {
   "cell_type": "markdown",
   "metadata": {},
   "source": [
    "## Exercise 4.3 \n",
    "Check out Lambek's [From word to sentence](https://www.math.mcgill.ca/barr/lambek/pdffiles/2008lambek.pdf), pick your favorite example and implement it in DisCoPy."
   ]
  },
  {
   "cell_type": "markdown",
   "metadata": {},
   "source": [
    "Implementing :  \"I see you saw her\""
   ]
  },
  {
   "cell_type": "code",
   "execution_count": 9,
   "metadata": {},
   "outputs": [
    {
     "data": {
      "image/png": "[encoded data removed]",
      "text/plain": [
       "<Figure size 720x1440 with 1 Axes>"
      ]
     },
     "metadata": {
      "needs_background": "light"
     },
     "output_type": "display_data"
    }
   ],
   "source": [
    "I = Word(\"I\", n)\n",
    "see = Word(\"see\", n.r @ s @ s.r)\n",
    "you = Word(\"you\", n)\n",
    "saw = Word(\"saw\", n.r @ s @ n.l)\n",
    "her = Word(\"her\", n)\n",
    "\n",
    "grammar_lambek = Cup(n,n.r) @ Id(s) @ Id(s.r) @ Cup(n, n.r) @ Id(s) @ Cup(n.l,n) >> Id(s) @ Cup(s.r, s)\n",
    "\n",
    "sentence = I @ see @ you @ saw @ her >> grammar_lambek\n",
    "pregroup.draw(sentence, figsize=(10, 20))"
   ]
  },
  {
   "cell_type": "markdown",
   "metadata": {},
   "source": [
    "Now the main idea behind DisCoCat (categorical compositional distributional) models is to interpret each word as a vector and the grammatical structure as a linear map.\n",
    "Composing the tensor of word vectors with the linear map for grammar yields the meaning of the sentence.\n",
    "Another way to say this is in the language of **tensor networks**:\n",
    "computing the meaning of a sentence corresponds to tensor contraction along the grammatical structure.\n",
    "\n",
    "Yet another way to say the same thing is in the language of **category theory**: computing the meaning of a sentence corresponds to the evaluation of a (strong monoidal) functor from a pregroup grammar to the category of linear maps.\n",
    "Maybe that last sentence puts you off, since category theory is also known as \"generalised abstract nonsense\". Don't worry, you don't need to remember pages of axioms to use DisCoPy, it keeps track of them for you.\n",
    "\n",
    "Let's build a simple toy model where:\n",
    "\n",
    "* we map `n` to `2`, i.e. we encode a noun as a 2d vector,\n",
    "* we map `s` to `1`, i.e. we encode a sentence as a scalar,\n",
    "* we map `Alice` and `Bob` to `[0, 1]` and `[1, 0]`, i.e. we encode them as the basis vectors,\n",
    "* we map `loves` to the matrix `[[0, 1], [1, 0]]`, i.e. `Alice loves Bob` and `Bob loves Alice`."
   ]
  },
  {
   "cell_type": "code",
   "execution_count": 11,
   "metadata": {},
   "outputs": [
    {
     "name": "stdout",
     "output_type": "stream",
     "text": [
      "Tensor(dom=Dim(1), cod=Dim(2, 2, 2, 2), array=[0., 0., 0., 0., 0., 0., 0., 0., 0., 0., 1., 0., 1., 0., 0., 0.])\n",
      "Tensor(dom=Dim(2, 2, 2, 2), cod=Dim(1), array=[1., 0., 0., 1., 0., 0., 0., 0., 0., 0., 0., 0., 1., 0., 0., 1.])\n"
     ]
    }
   ],
   "source": [
    "F = tensor.Functor(\n",
    "    ob={n: 2, s: 1},\n",
    "    ar={Alice: [0, 1], loves: [0, 1, 1, 0], Bob: [1, 0]})\n",
    "\n",
    "print(F(Alice @ loves @ Bob))\n",
    "print(F(grammar))\n",
    "\n",
    "assert F(Alice @ loves @ Bob >> grammar) == 1"
   ]
  },
  {
   "cell_type": "markdown",
   "metadata": {},
   "source": [
    "Since `F(sentence) == 1`, we conclude that the sentence is true, i.e. Alice loves Bob!\n",
    "\n",
    "If we evaluate the meaning of noun phrases rather than sentences, we get vectors that we can compare using inner products. This gives us a similarity measure between noun phrases. In our toy model, we can say that Alice and Bob are different: we defined their meaning to be orthogonal."
   ]
  },
  {
   "cell_type": "code",
   "execution_count": 12,
   "metadata": {},
   "outputs": [
    {
     "data": {
      "image/png": "[encoded data removed]",
      "text/plain": [
       "<Figure size 216x72 with 1 Axes>"
      ]
     },
     "metadata": {
      "needs_background": "light"
     },
     "output_type": "display_data"
    }
   ],
   "source": [
    "assert not F(Alice) >> F(Bob)[::-1]\n",
    "\n",
    "drawing.equation(Alice, Bob, symbol=\"$\\\\neq$\", figsize=(3, 1))"
   ]
  },
  {
   "cell_type": "markdown",
   "metadata": {},
   "source": [
    "Let's define some more words:\n",
    "\n",
    "* we map `man` to `[1, 0]`, i.e. Bob is the only man in our model,\n",
    "* we map the adjective `rich` of type `n @ n.l` to the projector `[[1, 0], [0, 0]]`, i.e. only Bob is rich."
   ]
  },
  {
   "cell_type": "code",
   "execution_count": 13,
   "metadata": {},
   "outputs": [
    {
     "data": {
      "image/png": "[encoded data removed]",
      "text/plain": [
       "<Figure size 360x72 with 1 Axes>"
      ]
     },
     "metadata": {
      "needs_background": "light"
     },
     "output_type": "display_data"
    }
   ],
   "source": [
    "rich, man = Word(\"rich\", n @ n.l), Word(\"man\", n)\n",
    "\n",
    "F.ar[rich], F.ar[man] = [1, 0, 0, 0], [1, 0]\n",
    "\n",
    "rich_man = rich @ man >> Id(n) @ Cup(n.l, n)\n",
    "\n",
    "assert F(Bob) >> F(rich_man)[::-1]  # i.e. Bob is a rich man.\n",
    "\n",
    "drawing.equation(Bob, rich_man, figsize=(5, 1))"
   ]
  },
  {
   "cell_type": "markdown",
   "metadata": {},
   "source": [
    "If we draw the diagram of a Who? question, the inner product with a noun phrase measures how well it answers the question."
   ]
  },
  {
   "cell_type": "code",
   "execution_count": 14,
   "metadata": {},
   "outputs": [
    {
     "data": {
      "image/png": "[encoded data removed]",
      "text/plain": [
       "<Figure size 432x144 with 1 Axes>"
      ]
     },
     "metadata": {
      "needs_background": "light"
     },
     "output_type": "display_data"
    }
   ],
   "source": [
    "q = Ty('q')\n",
    "\n",
    "Who = Word(\"Who\", q @ s.l @ n)\n",
    "\n",
    "F.ob[q], F.ar[Who] = 2, [1, 0, 0, 1]\n",
    "\n",
    "question = Who @ loves @ Bob\\\n",
    "    >> Id(q @ s.l) @ Cup(n, n.r) @ Id(s) @ Cup(n.l, n)\\\n",
    "    >> Id(q) @ Cup(s.l, s) \n",
    "\n",
    "answer = Alice\n",
    "\n",
    "assert F(question) == F(answer)\n",
    "\n",
    "drawing.equation(question, answer, figsize=(6, 2))"
   ]
  },
  {
   "cell_type": "markdown",
   "metadata": {},
   "source": [
    "## Exercise 4.4 \n",
    "Draw your favorite sentence, define the meaning of each word then evaluate it as a tensor."
   ]
  },
  {
   "cell_type": "code",
   "execution_count": 16,
   "metadata": {},
   "outputs": [],
   "source": [
    "earth = Word(\"earth\", n)\n",
    "paper = Word(\"paper\", n)\n",
    "roundd = Word(\"round\", n)\n",
    "flat = Word(\"flat\", n)\n",
    "iss = Word(\"is\", n.r @ s @ n.l)\n",
    "isnot = Word(\"is not\", n.r @ s @ n.l)\n",
    "\n",
    "F = tensor.Functor(\n",
    "    ob={n: 2, s: 1},\n",
    "    ar={earth: [0, 1], roundd: [0, 1], paper: [1, 0], flat: [1, 0], isnot: [0, 1, 1, 0], iss: [1, 0, 0, 1]})"
   ]
  },
  {
   "cell_type": "code",
   "execution_count": 17,
   "metadata": {},
   "outputs": [
    {
     "data": {
      "image/png": "[encoded data removed]",
      "text/plain": [
       "<Figure size 432x144 with 1 Axes>"
      ]
     },
     "metadata": {
      "needs_background": "light"
     },
     "output_type": "display_data"
    },
    {
     "name": "stdout",
     "output_type": "stream",
     "text": [
      "True\n"
     ]
    }
   ],
   "source": [
    "grammar = Cup(n,n.r) @ Id(s) @ Cup(n.l,n)\n",
    "sentence = earth @ iss @ roundd >> grammar\n",
    "sentence.draw(figsize=(6, 2))\n",
    "print(f\"{F(sentence).array[0]==1}\")"
   ]
  },
  {
   "cell_type": "code",
   "execution_count": 18,
   "metadata": {},
   "outputs": [
    {
     "data": {
      "image/png": "[encoded data removed]",
      "text/plain": [
       "<Figure size 432x144 with 1 Axes>"
      ]
     },
     "metadata": {
      "needs_background": "light"
     },
     "output_type": "display_data"
    },
    {
     "name": "stdout",
     "output_type": "stream",
     "text": [
      "False\n"
     ]
    }
   ],
   "source": [
    "sentence = earth @ iss @ flat >> grammar\n",
    "sentence.draw(figsize=(6, 2))\n",
    "print(f\"{F(sentence).array[0]==1}\")"
   ]
  },
  {
   "cell_type": "code",
   "execution_count": 19,
   "metadata": {},
   "outputs": [
    {
     "data": {
      "image/png": "[encoded data removed]",
      "text/plain": [
       "<Figure size 432x144 with 1 Axes>"
      ]
     },
     "metadata": {
      "needs_background": "light"
     },
     "output_type": "display_data"
    },
    {
     "name": "stdout",
     "output_type": "stream",
     "text": [
      "False\n"
     ]
    }
   ],
   "source": [
    "sentence = paper @ isnot @ flat >> grammar\n",
    "sentence.draw(figsize=(6, 2))\n",
    "print(f\"{F(sentence).array[0]==1}\")"
   ]
  },
  {
   "cell_type": "markdown",
   "metadata": {},
   "source": [
    "## Exercise 4.5 \n",
    "Build a toy model with a 4-dimensional noun space, add `Charlie` and `Diane` to the story."
   ]
  },
  {
   "cell_type": "markdown",
   "metadata": {},
   "source": [
    "<img src=\"imgs/midsummer.jpg\" alt=\"drawing\" width=\"200\"/>"
   ]
  },
  {
   "cell_type": "code",
   "execution_count": 21,
   "metadata": {},
   "outputs": [],
   "source": [
    "Alice = Word(\"Alice\", n)\n",
    "Bob = Word(\"Bob\", n)\n",
    "Charlie = Word(\"Charlie\", n)\n",
    "Diane = Word(\"Diane\", n)\n",
    "loves = Word(\"loves\", n.r @ s @ n.l)\n",
    "Who = Word(\"Who\", q @ s.l @ n)\n",
    "\n",
    "loves_mat = np.zeros((4,4))\n",
    "loves_mat[0,1]=1\n",
    "loves_mat[1,2]=1\n",
    "loves_mat[2,3]=1\n",
    "loves_mat[3,0]=1\n",
    "\n",
    "F = tensor.Functor(\n",
    "    ob={n: 4, s: 1, q :4},\n",
    "    ar={Alice: [0, 0, 0, 1],\n",
    "        Bob: [0, 0, 1, 0],\n",
    "        Charlie: [0, 1, 0, 0],\n",
    "        Diane: [1, 0, 0, 0],\n",
    "        loves: loves_mat.flatten().tolist(),\n",
    "        Who: loves_mat.flatten().tolist()})"
   ]
  },
  {
   "cell_type": "code",
   "execution_count": 22,
   "metadata": {},
   "outputs": [
    {
     "data": {
      "image/png": "[encoded data removed]",
      "text/plain": [
       "<Figure size 720x144 with 1 Axes>"
      ]
     },
     "metadata": {
      "needs_background": "light"
     },
     "output_type": "display_data"
    }
   ],
   "source": [
    "question = Who @ loves @ Alice\\\n",
    "    >> Id(q @ s.l) @ Cup(n, n.r) @ Id(s) @ Cup(n.l, n)\\\n",
    "    >> Id(q) @ Cup(s.l, s) \n",
    "\n",
    "F(question)\n",
    "\n",
    "answer = Charlie\n",
    "\n",
    "assert F(question) == F(answer)\n",
    "\n",
    "drawing.equation(question, answer, figsize=(10, 2))"
   ]
  },
  {
   "cell_type": "markdown",
   "metadata": {},
   "source": [
    "## Exercise 4.6 \n",
    "Define the meaning of the word `Does` and draw the diagram for the yes-no question `Does Alice love Bob?`. The meaning of the question should be the same as the sentence `Alice loves Bob`, i.e. the answer is \"yes\" if the sentence is true."
   ]
  },
  {
   "cell_type": "code",
   "execution_count": null,
   "metadata": {},
   "outputs": [],
   "source": [
    "Does = Word(\"Does\", s @ n.l @ s.l @ n.l)\n",
    "# F.ar[Does] = [1, 0, 0, 1]\n",
    "\n",
    "Does @ Alice @ loves @ Bob >> Id(s) @ Id(n.l) @ Id(s.l) @ Cup(n.l,n)  >> "
   ]
  },
  {
   "cell_type": "code",
   "execution_count": 23,
   "metadata": {},
   "outputs": [],
   "source": [
    "#TODO"
   ]
  },
  {
   "cell_type": "markdown",
   "metadata": {},
   "source": [
    "## References\n",
    "\n",
    "* Coecke, B., Sadrzadeh, M., & Clark, S. (2010) _Mathematical foundations for a compositional distributional model of meaning._ [arXiv:1003.4394](https://arxiv.org/abs/1003.4394)\n",
    "* Zeng, W., & Coecke, B.  (2016) _Quantum algorithms for compositional natural language processing._ [arXiv:1608.01406](https://arxiv.org/abs/arXiv:1608.01406)\n",
    "* de Felice, G., Toumi, A., & Coecke, B. (2020) _DisCoPy: Monoidal Categories in Python._ [arXiv:2005.02975](https://arxiv.org/abs/2005.02975)\n",
    "* Meichanetzidis, K., Toumi, A., de Felice, G., & Coecke, B. (2020) _Grammar-Aware Question-Answering on Quantum Computers._ [arXiv:2012.03756](https://arxiv.org/abs/arXiv:2012.03756)\n",
    "* Meichanetzidis, K., Gogioso, S., De Felice, G., Chiappori, N., Toumi, A., & Coecke, B. (2020) _Quantum natural language processing on near-term quantum computers._ [arXiv:2005.04147](https://arxiv.org/abs/arXiv:2005.04147)"
   ]
  }
 ],
 "metadata": {
  "kernelspec": {
   "display_name": "Python 3",
   "language": "python",
   "name": "python3"
  },
  "language_info": {
   "codemirror_mode": {
    "name": "ipython",
    "version": 3
   },
   "file_extension": ".py",
   "mimetype": "text/x-python",
   "name": "python",
   "nbconvert_exporter": "python",
   "pygments_lexer": "ipython3",
   "version": "3.9.5"
  }
 },
 "nbformat": 4,
 "nbformat_minor": 4
}
