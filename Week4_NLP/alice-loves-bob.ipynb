{
 "cells": [
  {
   "cell_type": "markdown",
   "metadata": {},
   "source": [
    "# alice-loves-bob\n",
    "\n",
    "This experiment was presented at [QNLP 2019](file:///Users/alexis.toumi/WORK/discopy/docs/_build/html/talks/qnlp19.html)."
   ]
  },
  {
   "cell_type": "code",
   "execution_count": 1,
   "metadata": {},
   "outputs": [
    {
     "name": "stdout",
     "output_type": "stream",
     "text": [
      "Vocabulary:\n",
      "Word('Alice', Ty('n'))\n",
      "Word('loves', Ty(Ob('n', z=1), 's', Ob('n', z=-1)))\n",
      "Word('Bob', Ty('n'))\n"
     ]
    }
   ],
   "source": [
    "from discopy import Ty, Word\n",
    "\n",
    "s, n = Ty('s'), Ty('n')\n",
    "Alice, loves, Bob = Word('Alice', n), Word('loves', n.r @ s @ n.l), Word('Bob', n)\n",
    "\n",
    "print(\"Vocabulary:\\n{}\".format('\\n'.join(map(repr, [Alice, loves, Bob]))))"
   ]
  },
  {
   "cell_type": "code",
   "execution_count": 2,
   "metadata": {},
   "outputs": [
    {
     "name": "stdout",
     "output_type": "stream",
     "text": [
      "Diagram for 'Alice loves Bob':\n"
     ]
    },
    {
     "data": {
      "image/png": "[encoded data removed]",
      "text/plain": [
       "<Figure size 432x288 with 1 Axes>"
      ]
     },
     "metadata": {
      "needs_background": "light"
     },
     "output_type": "display_data"
    }
   ],
   "source": [
    "from discopy import Diagram, Id, Cup\n",
    "from discopy.grammar import draw\n",
    "\n",
    "grammar = Cup(n, n.r) @ Id(s) @ Cup(n.l, n)\n",
    "parsing = {\"{} {} {}.\".format(subj, verb, obj): subj @ verb @ obj >> grammar\n",
    "            for subj in [Alice, Bob] for verb in [loves] for obj in [Alice, Bob]}\n",
    "\n",
    "diagram = parsing['Alice loves Bob.']\n",
    "print(\"Diagram for 'Alice loves Bob':\")\n",
    "draw(diagram, draw_type_labels=True)"
   ]
  },
  {
   "cell_type": "markdown",
   "metadata": {},
   "source": [
    "display all possible sentences"
   ]
  },
  {
   "cell_type": "code",
   "execution_count": 3,
   "metadata": {},
   "outputs": [
    {
     "name": "stdout",
     "output_type": "stream",
     "text": [
      "Grammatical sentences:\n",
      "Alice loves Alice.\n",
      "Alice loves Bob.\n",
      "Bob loves Alice.\n",
      "Bob loves Bob.\n"
     ]
    }
   ],
   "source": [
    "sentences = list(parsing.keys())\n",
    "print(\"Grammatical sentences:\\n{}\".format('\\n'.join(sentences)))"
   ]
  },
  {
   "cell_type": "code",
   "execution_count": 4,
   "metadata": {},
   "outputs": [
    {
     "name": "stdout",
     "output_type": "stream",
     "text": [
      "Tensor(dom=Dim(1), cod=Dim(2, 2), array=[1.+0.j, 0.+0.j, 0.+0.j, 1.+0.j])\n"
     ]
    }
   ],
   "source": [
    "from discopy.quantum import Ket, H, Rx, CX, sqrt\n",
    "\n",
    "def verb_ansatz(phase):\n",
    "    return Ket(0, 0) >> H @ sqrt(2) @ Rx(phase) >> CX\n",
    "\n",
    "print(verb_ansatz(0).eval())"
   ]
  },
  {
   "cell_type": "code",
   "execution_count": 5,
   "metadata": {},
   "outputs": [
    {
     "data": {
      "text/plain": [
       "array([1.49975978e-32])"
      ]
     },
     "execution_count": 5,
     "metadata": {},
     "output_type": "execute_result"
    }
   ],
   "source": [
    "(verb_ansatz(0) >> verb_ansatz(0.5).dagger()).measure()"
   ]
  },
  {
   "cell_type": "code",
   "execution_count": 6,
   "metadata": {},
   "outputs": [
    {
     "data": {
      "text/plain": [
       "array([1.])"
      ]
     },
     "execution_count": 6,
     "metadata": {},
     "output_type": "execute_result"
    }
   ],
   "source": [
    ".25 * (verb_ansatz(0) >> verb_ansatz(0).dagger()).measure()"
   ]
  },
  {
   "cell_type": "markdown",
   "metadata": {},
   "source": [
    "We create an ansatz for the verb \"loves\" and put 0.5 as the parameter"
   ]
  },
  {
   "cell_type": "code",
   "execution_count": 14,
   "metadata": {},
   "outputs": [
    {
     "name": "stdout",
     "output_type": "stream",
     "text": [
      "Circuit for 'Alice loves Bob':\n"
     ]
    },
    {
     "data": {
      "image/png": "[encoded data removed]",
      "text/plain": [
       "<Figure size 360x360 with 1 Axes>"
      ]
     },
     "metadata": {
      "needs_background": "light"
     },
     "output_type": "display_data"
    }
   ],
   "source": [
    "from discopy import CircuitFunctor, qubit\n",
    "\n",
    "ob = {s: 0, n: 1}\n",
    "ar = lambda params: {\n",
    "    Alice: Ket(0), Bob: Ket(1),\n",
    "    loves: verb_ansatz(params['loves'])}\n",
    "\n",
    "F = lambda params: CircuitFunctor(ob, ar(params))\n",
    "\n",
    "params0 = {'loves': 0.5}\n",
    "\n",
    "print(\"Circuit for 'Alice loves Bob':\")\n",
    "F(params0)(parsing['Alice loves Bob.']).draw(\n",
    "    aspect='auto', draw_type_labels=False, figsize=(5, 5))"
   ]
  },
  {
   "cell_type": "code",
   "execution_count": 15,
   "metadata": {},
   "outputs": [
    {
     "name": "stdout",
     "output_type": "stream",
     "text": [
      "Amplitude for 'Alice loves Bob':\n",
      "Tensor(dom=Dim(1), cod=Dim(1), array=[0.-0.99999988j])\n"
     ]
    }
   ],
   "source": [
    "print(\"Amplitude for 'Alice loves Bob':\")\n",
    "print(F(params0)(parsing['Alice loves Bob.']).eval())"
   ]
  },
  {
   "cell_type": "code",
   "execution_count": 33,
   "metadata": {},
   "outputs": [
    {
     "name": "stdout",
     "output_type": "stream",
     "text": [
      "Does Alice love Bob?\n",
      "Yes\n"
     ]
    }
   ],
   "source": [
    "evaluate = lambda F, sentence: F(parsing[sentence]).measure()\n",
    "\n",
    "print(\"Does Alice love Bob?\\n{}\".format(\n",
    "    \"Yes\" if float(evaluate(F(params0), 'Alice loves Bob.'))>0.5 else \"No\"))"
   ]
  },
  {
   "cell_type": "code",
   "execution_count": 32,
   "metadata": {},
   "outputs": [
    {
     "name": "stdout",
     "output_type": "stream",
     "text": [
      "Does Alice love Alice?\n",
      "No\n"
     ]
    }
   ],
   "source": [
    "print(\"Does Alice love Alice?\\n{}\".format(\n",
    "    \"Yes\" if float(evaluate(F(params0), 'Alice loves Alice.'))>0.5 else \"No\"))"
   ]
  },
  {
   "cell_type": "markdown",
   "metadata": {},
   "source": [
    "With parameter 0.5 the ansatz works, and returns the correct asnwer"
   ]
  },
  {
   "cell_type": "code",
   "execution_count": 34,
   "metadata": {},
   "outputs": [
    {
     "name": "stdout",
     "output_type": "stream",
     "text": [
      "True sentences:\n",
      "Alice loves Bob.\n",
      "Bob loves Alice.\n",
      "\n",
      "False sentences:\n",
      "Alice loves Alice.\n",
      "Bob loves Bob.\n"
     ]
    }
   ],
   "source": [
    "corpus = {sentence: evaluate(F(params0), sentence) for sentence in sentences}\n",
    "\n",
    "epsilon = 1e-2\n",
    "\n",
    "print(\"True sentences:\\n{}\\n\".format('\\n'.join(sentence\n",
    "    for sentence, probability in corpus.items() if probability > 1 - epsilon)))\n",
    "print(\"False sentences:\\n{}\".format('\\n'.join(sentence\n",
    "    for sentence, probability in corpus.items() if probability < epsilon)))"
   ]
  },
  {
   "cell_type": "code",
   "execution_count": 35,
   "metadata": {},
   "outputs": [
    {
     "data": {
      "text/plain": [
       "{'Alice loves Alice.': DeviceArray([1.9106853e-15], dtype=float32),\n",
       " 'Alice loves Bob.': DeviceArray([0.99999976], dtype=float32),\n",
       " 'Bob loves Alice.': DeviceArray([0.99999976], dtype=float32),\n",
       " 'Bob loves Bob.': DeviceArray([1.9106853e-15], dtype=float32)}"
      ]
     },
     "execution_count": 35,
     "metadata": {},
     "output_type": "execute_result"
    }
   ],
   "source": [
    "corpus"
   ]
  },
  {
   "cell_type": "code",
   "execution_count": 36,
   "metadata": {},
   "outputs": [
    {
     "data": {
      "text/plain": [
       "DeviceArray(3.141591, dtype=float32)"
      ]
     },
     "execution_count": 36,
     "metadata": {},
     "output_type": "execute_result"
    }
   ],
   "source": [
    "import jax.numpy as np\n",
    "from jax import grad\n",
    "\n",
    "from discopy import Tensor\n",
    "\n",
    "Tensor.np = np  # This ensures we can differentiate Circuit.eval with respect to phases.\n",
    "\n",
    "def mean_squared(y_true, y_pred):\n",
    "    return np.mean((np.array(y_true) - np.array(y_pred)) ** 2)\n",
    "\n",
    "f = lambda phase: mean_squared(*zip(*[\n",
    "    (evaluate(F(params0), sentence), evaluate(F({'loves': phase}), sentence))\n",
    "     for sentence in sentences])) # cost function to optimise \n",
    "\n",
    "grad(f)(0.75)"
   ]
  },
  {
   "cell_type": "code",
   "execution_count": 37,
   "metadata": {},
   "outputs": [],
   "source": [
    "from jax import vmap\n",
    "\n",
    "x = np.arange(0.0, 1.0, 0.01) # scanning the paramater theta over [0,1]\n",
    "y = vmap(f)(x) # evaluates the function at all the points\n",
    "dy = vmap(grad(f))(x)# evaluates the dradient at function at all the points"
   ]
  },
  {
   "cell_type": "code",
   "execution_count": 38,
   "metadata": {},
   "outputs": [
    {
     "data": {
      "image/png": "[encoded data removed]",
      "text/plain": [
       "<Figure size 864x360 with 2 Axes>"
      ]
     },
     "metadata": {
      "needs_background": "light"
     },
     "output_type": "display_data"
    }
   ],
   "source": [
    "import matplotlib.pyplot as plt\n",
    "\n",
    "plt.rcParams[\"figure.figsize\"] = (12, 5)\n",
    "\n",
    "plt.subplot(2, 1, 1)\n",
    "plt.plot(x, y)\n",
    "plt.title(\"functorial landscape for 'loves'\")\n",
    "plt.ylabel('loss')\n",
    "\n",
    "plt.subplot(2, 1, 2)\n",
    "plt.plot(x, dy)\n",
    "plt.xlabel('phase')\n",
    "plt.ylabel('grad')\n",
    "plt.show()"
   ]
  },
  {
   "cell_type": "markdown",
   "metadata": {},
   "source": [
    "Already possible to see the optimum is 0.5"
   ]
  },
  {
   "cell_type": "code",
   "execution_count": 39,
   "metadata": {},
   "outputs": [
    {
     "name": "stdout",
     "output_type": "stream",
     "text": [
      "Training set:\n",
      "Bob loves Bob.\n",
      "Alice loves Alice.\n",
      "Bob loves Alice.\n",
      "\n",
      "Testing set:\n",
      "Does Alice love Bob?\n"
     ]
    }
   ],
   "source": [
    "from sklearn.model_selection import train_test_split\n",
    "\n",
    "sentence_train, sentence_test = train_test_split(sentences, test_size=0.25, random_state=42)\n",
    "\n",
    "print(\"Training set:\\n{}\\n\".format('\\n'.join(sentence_train)))\n",
    "print(\"Testing set:\\n{}\".format('\\n'.join(map(\n",
    "    lambda x: 'Does ' + x.replace('loves', 'love').replace('.', '?'), sentence_test))))"
   ]
  },
  {
   "cell_type": "code",
   "execution_count": 40,
   "metadata": {},
   "outputs": [
    {
     "name": "stdout",
     "output_type": "stream",
     "text": [
      "0.256 seconds to compile the testing loss of params0 (0.0)\n",
      "1.017 seconds to compile the update function just in time:\n",
      "{'loves': DeviceArray(0.5, dtype=float32)}\n"
     ]
    }
   ],
   "source": [
    "from jax import jit\n",
    "from time import time\n",
    "\n",
    "loss = {sentence: lambda params: mean_squared(corpus[sentence], evaluate(F(params), sentence))\n",
    "                 for sentence in sentences}\n",
    "\n",
    "@jit\n",
    "def testing_loss(params):\n",
    "    return np.mean(np.array([loss[sentence](params) for sentence in sentence_test]))\n",
    "\n",
    "start = time()\n",
    "print(\"{1:.3f} seconds to compile the testing loss of params0 ({0})\".format(\n",
    "    testing_loss(params0), time() - start))\n",
    "\n",
    "step_size = 1e-2\n",
    "\n",
    "@jit\n",
    "def update(params):\n",
    "    for sentence in sentence_train:\n",
    "        params = {word: phase - step_size * grad(loss[sentence])(params)[word]\n",
    "                  for word, phase in params.items()}\n",
    "    return params\n",
    "\n",
    "start = time()\n",
    "print(\"{1:.3f} seconds to compile the update function just in time:\\n{0}\".format(\n",
    "    update(params0), time() - start))"
   ]
  },
  {
   "cell_type": "code",
   "execution_count": 41,
   "metadata": {},
   "outputs": [
    {
     "name": "stdout",
     "output_type": "stream",
     "text": [
      "Random parameter initialisation...\n",
      "Initial parameters: {'loves': 0.026343380459525556}\n",
      "Initial testing loss: 0.98638\n",
      "\n",
      "Epoch 0 (1.354 milliseconds)\n",
      "Testing loss: 0.00321\n",
      "params['loves'] = 0.424\n",
      "\n",
      "Epoch 1 (0.764 milliseconds)\n",
      "Testing loss: 0.00060\n",
      "params['loves'] = 0.450\n",
      "\n",
      "Epoch 2 (0.734 milliseconds)\n",
      "Testing loss: 0.00024\n",
      "params['loves'] = 0.460\n",
      "\n",
      "Epoch 3 (0.440 milliseconds)\n",
      "Testing loss: 0.00013\n",
      "params['loves'] = 0.466\n",
      "\n",
      "Epoch 4 (0.710 milliseconds)\n",
      "Testing loss: 0.00008\n",
      "params['loves'] = 0.470\n",
      "\n",
      "Epoch 5 (0.715 milliseconds)\n",
      "Testing loss: 0.00005\n",
      "params['loves'] = 0.473\n",
      "\n",
      "Epoch 6 (0.706 milliseconds)\n",
      "Testing loss: 0.00004\n",
      "params['loves'] = 0.475\n",
      "\n"
     ]
    }
   ],
   "source": [
    "from random import random, seed; seed(420)\n",
    "\n",
    "print(\"Random parameter initialisation...\")\n",
    "\n",
    "params = {'loves': random()}\n",
    "print(\"Initial parameters: {}\".format(params))\n",
    "\n",
    "print(\"Initial testing loss: {:.5f}\\n\".format(testing_loss(params)))\n",
    "\n",
    "epochs, iterations = 7, 10\n",
    "\n",
    "for epoch in range(epochs):\n",
    "    start = time()\n",
    "    for i in range(iterations):\n",
    "        params = update(params)\n",
    "\n",
    "    print(\"Epoch {} ({:.3f} milliseconds)\".format(epoch, 1e3 * (time() - start)))\n",
    "    print(\"Testing loss: {:.5f}\".format(testing_loss(params)))\n",
    "    print(\"params['loves'] = {:.3f}\\n\".format(params['loves']))"
   ]
  },
  {
   "cell_type": "code",
   "execution_count": 42,
   "metadata": {},
   "outputs": [
    {
     "name": "stdout",
     "output_type": "stream",
     "text": [
      "Does Alice love Bob?\n",
      "Yes\n"
     ]
    }
   ],
   "source": [
    "print(\"Does Alice love Bob?\")\n",
    "print(\"Yes\" if evaluate(F(params), 'Alice loves Bob.') > 1 - epsilon else \"No\")"
   ]
  },
  {
   "cell_type": "code",
   "execution_count": null,
   "metadata": {},
   "outputs": [],
   "source": []
  }
 ],
 "metadata": {
  "kernelspec": {
   "display_name": "Python 3",
   "language": "python",
   "name": "python3"
  },
  "language_info": {
   "codemirror_mode": {
    "name": "ipython",
    "version": 3
   },
   "file_extension": ".py",
   "mimetype": "text/x-python",
   "name": "python",
   "nbconvert_exporter": "python",
   "pygments_lexer": "ipython3",
   "version": "3.9.5"
  }
 },
 "nbformat": 4,
 "nbformat_minor": 2
}
